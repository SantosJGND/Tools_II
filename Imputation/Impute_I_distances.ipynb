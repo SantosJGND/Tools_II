{
 "cells": [
  {
   "cell_type": "code",
   "execution_count": 1,
   "metadata": {},
   "outputs": [
    {
     "data": {
      "text/html": [
       "        <script type=\"text/javascript\">\n",
       "        window.PlotlyConfig = {MathJaxConfig: 'local'};\n",
       "        if (window.MathJax) {MathJax.Hub.Config({SVG: {font: \"STIX-Web\"}});}\n",
       "        if (typeof require !== 'undefined') {\n",
       "        require.undef(\"plotly\");\n",
       "        requirejs.config({\n",
       "            paths: {\n",
       "                'plotly': ['https://cdn.plot.ly/plotly-latest.min']\n",
       "            }\n",
       "        });\n",
       "        require(['plotly'], function(Plotly) {\n",
       "            window._Plotly = Plotly;\n",
       "        });\n",
       "        }\n",
       "        </script>\n",
       "        "
      ]
     },
     "metadata": {},
     "output_type": "display_data"
    }
   ],
   "source": [
    "import scipy\n",
    "import numpy as np\n",
    "from sklearn.neighbors import KernelDensity\n",
    "from sklearn.decomposition import PCA\n",
    "from sklearn.model_selection import GridSearchCV\n",
    "from sklearn.cluster import estimate_bandwidth\n",
    "from sklearn.cluster import MeanShift, estimate_bandwidth\n",
    "\n",
    "import pandas as pd\n",
    "\n",
    "from scipy import stats\n",
    "from scipy.stats import beta\n",
    "from math import sin\n",
    "from random import randint\n",
    "from IPython.display import clear_output\n",
    "import matplotlib.pyplot as plt\n",
    "import itertools as it\n",
    "\n",
    "import plotly\n",
    "import plotly.graph_objs as go\n",
    "from plotly.offline import download_plotlyjs, init_notebook_mode, plot, iplot\n",
    "\n",
    "from ipywidgets import interact, interactive, fixed, interact_manual\n",
    "import ipywidgets as widgets\n",
    "init_notebook_mode(connected=True)\n",
    "\n",
    "import collections\n",
    "\n",
    "def recursively_default_dict():\n",
    "        return collections.defaultdict(recursively_default_dict)\n",
    "\n",
    "from matplotlib.collections import BrokenBarHCollection\n",
    "import re\n",
    "\n",
    "from structure_tools.Modules_tools import return_fsts\n",
    "\n",
    "PCA_color_ref= ['darkseagreen','crimson', 'darkorange', 'darkblue', 'darkcyan',\n",
    "            'darkgoldenrod', 'darkgray', 'darkgrey', 'darkgreen',\n",
    "            'darkkhaki', 'darkmagenta', 'darkolivegreen', 'darkorange',\n",
    "            'darkorchid', 'darkred', 'darksalmon', 'darkseagreen',\n",
    "            'darkslateblue', 'darkslategray', 'darkslategrey',\n",
    "            'darkturquoise', 'darkviolet', 'deeppink']"
   ]
  },
  {
   "cell_type": "markdown",
   "metadata": {},
   "source": []
  },
  {
   "cell_type": "markdown",
   "metadata": {},
   "source": [
    "## vcf analysis\n",
    "Jupyter notebook for the local analysis of genetic data stored in .vcf format.\n",
    "\n",
    "Perform analysis of structure across data set, followed by a more detailed study of variation across local genomic windows.\n",
    "\n",
    "### Input"
   ]
  },
  {
   "cell_type": "code",
   "execution_count": 2,
   "metadata": {},
   "outputs": [
    {
     "name": "stdout",
     "output_type": "stream",
     "text": [
      "Number of markers: 40000\n",
      "Number of individuals: 130\n"
     ]
    }
   ],
   "source": [
    "from structure_tools.vcf_geno_tools import simple_read_vcf\n",
    "\n",
    "vcf_file= 'data_cleanRefs_simple_Admx.vcf'\n",
    "\n",
    "genotype, summary, info_save= simple_read_vcf(vcf_file,row_info= 5,header_info= 9,phased= True)\n",
    "\n",
    "print('Number of markers: {}'.format(genotype.shape[1]))\n",
    "print('Number of individuals: {}'.format(genotype.shape[0]))"
   ]
  },
  {
   "cell_type": "code",
   "execution_count": 3,
   "metadata": {},
   "outputs": [
    {
     "data": {
      "text/html": [
       "<div>\n",
       "<style scoped>\n",
       "    .dataframe tbody tr th:only-of-type {\n",
       "        vertical-align: middle;\n",
       "    }\n",
       "\n",
       "    .dataframe tbody tr th {\n",
       "        vertical-align: top;\n",
       "    }\n",
       "\n",
       "    .dataframe thead th {\n",
       "        text-align: right;\n",
       "    }\n",
       "</style>\n",
       "<table border=\"1\" class=\"dataframe\">\n",
       "  <thead>\n",
       "    <tr style=\"text-align: right;\">\n",
       "      <th></th>\n",
       "      <th>CHROM</th>\n",
       "      <th>POS</th>\n",
       "      <th>ID</th>\n",
       "      <th>REF</th>\n",
       "      <th>ALT</th>\n",
       "      <th>QUAL</th>\n",
       "      <th>FILTER</th>\n",
       "      <th>INFO</th>\n",
       "      <th>FORMAT</th>\n",
       "    </tr>\n",
       "  </thead>\n",
       "  <tbody>\n",
       "    <tr>\n",
       "      <th>0</th>\n",
       "      <td>1</td>\n",
       "      <td>8</td>\n",
       "      <td>1</td>\n",
       "      <td>A</td>\n",
       "      <td>T</td>\n",
       "      <td>.</td>\n",
       "      <td>PASS</td>\n",
       "      <td>.</td>\n",
       "      <td>GT:AD:DP</td>\n",
       "    </tr>\n",
       "    <tr>\n",
       "      <th>1</th>\n",
       "      <td>1</td>\n",
       "      <td>33</td>\n",
       "      <td>2</td>\n",
       "      <td>A</td>\n",
       "      <td>T</td>\n",
       "      <td>.</td>\n",
       "      <td>PASS</td>\n",
       "      <td>.</td>\n",
       "      <td>GT:AD:DP</td>\n",
       "    </tr>\n",
       "    <tr>\n",
       "      <th>2</th>\n",
       "      <td>1</td>\n",
       "      <td>74</td>\n",
       "      <td>3</td>\n",
       "      <td>A</td>\n",
       "      <td>T</td>\n",
       "      <td>.</td>\n",
       "      <td>PASS</td>\n",
       "      <td>.</td>\n",
       "      <td>GT:AD:DP</td>\n",
       "    </tr>\n",
       "    <tr>\n",
       "      <th>3</th>\n",
       "      <td>1</td>\n",
       "      <td>83</td>\n",
       "      <td>4</td>\n",
       "      <td>A</td>\n",
       "      <td>T</td>\n",
       "      <td>.</td>\n",
       "      <td>PASS</td>\n",
       "      <td>.</td>\n",
       "      <td>GT:AD:DP</td>\n",
       "    </tr>\n",
       "    <tr>\n",
       "      <th>4</th>\n",
       "      <td>1</td>\n",
       "      <td>87</td>\n",
       "      <td>5</td>\n",
       "      <td>A</td>\n",
       "      <td>T</td>\n",
       "      <td>.</td>\n",
       "      <td>PASS</td>\n",
       "      <td>.</td>\n",
       "      <td>GT:AD:DP</td>\n",
       "    </tr>\n",
       "  </tbody>\n",
       "</table>\n",
       "</div>"
      ],
      "text/plain": [
       "  CHROM POS ID REF ALT QUAL FILTER INFO    FORMAT\n",
       "0     1   8  1   A   T    .   PASS    .  GT:AD:DP\n",
       "1     1  33  2   A   T    .   PASS    .  GT:AD:DP\n",
       "2     1  74  3   A   T    .   PASS    .  GT:AD:DP\n",
       "3     1  83  4   A   T    .   PASS    .  GT:AD:DP\n",
       "4     1  87  5   A   T    .   PASS    .  GT:AD:DP"
      ]
     },
     "execution_count": 3,
     "metadata": {},
     "output_type": "execute_result"
    }
   ],
   "source": [
    "summary.head()\n"
   ]
  },
  {
   "cell_type": "markdown",
   "metadata": {},
   "source": [
    "### Global variation\n",
    "\n",
    "Perform PCA across data set.\n",
    "\n",
    "Perform Mean shift clustering to attempt to extract genetically coherent groups of accessions.\n",
    "\n",
    "These will later be used for supervised analysis."
   ]
  },
  {
   "cell_type": "code",
   "execution_count": 4,
   "metadata": {},
   "outputs": [],
   "source": [
    "from structure_tools.Tutorial_subplots import plot_global_pca\n",
    "\n",
    "## Perform PCA\n",
    "n_comp= 3\n",
    "pca = PCA(n_components=n_comp, whiten=False,svd_solver='randomized')\n",
    "\n",
    "feats= pca.fit_transform(genotype)"
   ]
  },
  {
   "cell_type": "code",
   "execution_count": 5,
   "metadata": {},
   "outputs": [],
   "source": [
    "## perform MeanShift clustering.\n",
    "bandwidth = estimate_bandwidth(feats, quantile=0.1)\n",
    "\n",
    "ms = MeanShift(bandwidth=bandwidth, bin_seeding=False, cluster_all=True, min_bin_freq=45)\n",
    "ms.fit(feats)\n",
    "labels1 = ms.labels_\n",
    "label_select = {y:[x for x in range(len(labels1)) if labels1[x] == y] for y in sorted(list(set(labels1)))}\n",
    "###"
   ]
  },
  {
   "cell_type": "code",
   "execution_count": 6,
   "metadata": {},
   "outputs": [
    {
     "data": {
      "application/vnd.plotly.v1+json": {
       "config": {
        "linkText": "Export to plot.ly",
        "plotlyServerURL": "https://plot.ly",
        "showLink": false
       },
       "data": [
        {
         "marker": {
          "color": "darkseagreen",
          "line": {
           "width": 0
          },
          "opacity": 0.8,
          "size": 6,
          "symbol": "circle"
         },
         "mode": "markers",
         "name": "0",
         "type": "scatter",
         "x": [
          68.46982882354048,
          67.72909589594221,
          67.49967218353768,
          66.79416046428183,
          66.15222349269914,
          69.38764359534196,
          68.77342021591586,
          68.0162264938623,
          67.82832276415841,
          67.98258544302786,
          67.98952654423113,
          66.07245334709152,
          67.49916072748668,
          67.87421029315955,
          67.69820548806996,
          67.35545741455158,
          66.96127748197327,
          67.31303583300485,
          67.59533061799718,
          67.89973700499408,
          67.26773501168776,
          68.38060104367659,
          67.49850988570181,
          65.68590826576485,
          67.76796519145873,
          67.85563448409872,
          67.78622919294791,
          68.28531641868578,
          67.16063270746338,
          67.18265984733473,
          68.03080945300484,
          67.80150164911679,
          66.27307670476706,
          67.32594445398675,
          68.13437085653246,
          67.78090534709618,
          67.64473674379104,
          66.78721301406554,
          66.73804954286092,
          66.12644353750424
         ],
         "xaxis": "x",
         "y": [
          -4.358165444858039,
          -3.303638612089803,
          -4.977936196533848,
          -3.033934884302898,
          -3.307099363542488,
          -4.348760019167802,
          -4.075209549771562,
          -4.759646074736564,
          -4.23289807328536,
          -4.210813747527435,
          -5.0991627758362545,
          -4.542619965845053,
          -4.36138977191252,
          -4.005593997336778,
          -4.261683643900994,
          -3.2041773626796775,
          -4.148331136603434,
          -3.5920832167190087,
          -4.098863926316037,
          -4.973860650017252,
          -3.663483255907664,
          -5.186849969606489,
          -3.3174535122199758,
          -4.237897447572271,
          -4.83674064521259,
          -4.036833990061811,
          -3.767708332538269,
          -4.10410332841503,
          -3.7009229396815453,
          -3.571897664368378,
          -3.698833572771279,
          -3.211294346338486,
          -3.905148474149943,
          -4.292870121859108,
          -3.1058899408965255,
          -5.067686567880141,
          -4.166899595563014,
          -3.800662432598635,
          -3.7585313318927063,
          -3.8300049349350958
         ],
         "yaxis": "y"
        },
        {
         "marker": {
          "color": "crimson",
          "line": {
           "width": 0
          },
          "opacity": 0.8,
          "size": 6,
          "symbol": "circle"
         },
         "mode": "markers",
         "name": "1",
         "type": "scatter",
         "x": [
          -47.55316214137236,
          -47.418079511736906,
          -45.80763732169997,
          -47.31261649985441,
          -46.57242755540214,
          -46.1634684478029,
          -47.11138769232963,
          -46.160773427048724,
          -47.563885631940394,
          -45.63560635679148,
          -46.24563801180061,
          -45.8934524212452,
          -45.574944363906475,
          -47.012502689193965,
          -47.9270619397911,
          -45.05991299771889,
          -47.68165642251728,
          -47.58567842444634,
          -47.94735471315291,
          -46.373523260194666,
          -46.0773976091375,
          -47.58691755835345,
          -47.497491160150076,
          -47.110433565956846,
          -48.04683057067579,
          -47.837208824501616,
          -47.45064333770477,
          -46.56832659331918,
          -47.37230674811745,
          -47.215413474124304,
          -46.619557556496055,
          -47.54684707081448,
          -47.44668055837559,
          -45.88441315443838,
          -48.93938010540278,
          -45.854216078176506,
          -46.90205462257318,
          -47.955520121516436,
          -47.01085906712631,
          -47.266931409473756,
          -43.540131536069545,
          -35.606381983619535
         ],
         "xaxis": "x",
         "y": [
          -25.126770105064526,
          -25.06594330420105,
          -25.67484018371571,
          -25.61908994071484,
          -25.14716652968067,
          -26.725848558061305,
          -25.68555954101818,
          -26.022795346814714,
          -25.93210895443154,
          -25.372142004603653,
          -25.39292821640917,
          -24.892248567909416,
          -24.903667057970313,
          -26.116518326983506,
          -25.142989610638086,
          -24.91090968808785,
          -24.487374586719458,
          -25.171215937190464,
          -25.645246965315774,
          -24.666893555222423,
          -26.196788453783437,
          -26.30606344120324,
          -24.82362444905962,
          -25.372499207948128,
          -26.434525114053507,
          -26.238674103337758,
          -24.092688688329506,
          -25.003581026397107,
          -25.3101374223408,
          -24.52014374812406,
          -26.00224724045069,
          -22.717343698967554,
          -24.627791117810602,
          -23.869939215836546,
          -23.34792760755542,
          -25.199619028380692,
          -25.095939897265687,
          -25.48288785352583,
          -24.71844882111652,
          -27.098283401392656,
          -19.923178095969497,
          -19.610646353916586
         ],
         "yaxis": "y"
        },
        {
         "marker": {
          "color": "darkorange",
          "line": {
           "width": 0
          },
          "opacity": 0.8,
          "size": 6,
          "symbol": "circle"
         },
         "mode": "markers",
         "name": "2",
         "type": "scatter",
         "x": [
          -28.61592896925955,
          -29.51371053088627,
          -28.637312221266892,
          -28.936476041867696,
          -29.421121439416133,
          -28.784350536241938,
          -28.947502240959253,
          -28.404152861062816,
          -29.331536215731848,
          -28.55125295545716,
          -29.324069594993013,
          -28.68887271509712,
          -29.26399778615051,
          -29.975133526552682,
          -28.315371328893875,
          -30.99631861016856,
          -29.69458431660745,
          -29.550164765010248,
          -29.2053682518608,
          -29.101376581783246
         ],
         "xaxis": "x",
         "y": [
          67.09134343484777,
          68.70587875485296,
          67.89871307733827,
          68.59841631783218,
          68.62376021165157,
          67.89731877197444,
          68.71394290243944,
          68.11043834977232,
          67.9834683308018,
          68.65515234410323,
          67.77185754162916,
          67.96559008498252,
          68.9796572275371,
          69.28058697424572,
          67.6434490712276,
          68.60656024115315,
          68.38610676630516,
          69.57203206441325,
          68.06570498801062,
          69.04811128975665
         ],
         "yaxis": "y"
        },
        {
         "marker": {
          "color": "darkblue",
          "line": {
           "width": 0
          },
          "opacity": 0.8,
          "size": 6,
          "symbol": "circle"
         },
         "mode": "markers",
         "name": "3",
         "type": "scatter",
         "x": [
          -16.698025017362806,
          -19.380145265723794,
          -21.197671396234483,
          -28.572173270718316,
          -25.839130782462902
         ],
         "xaxis": "x",
         "y": [
          -19.512137737325276,
          -16.93087109724604,
          -21.450601165405324,
          -22.589927583617158,
          -20.629395290633706
         ],
         "yaxis": "y"
        },
        {
         "marker": {
          "color": "darkcyan",
          "line": {
           "width": 0
          },
          "opacity": 0.8,
          "size": 6,
          "symbol": "circle"
         },
         "mode": "markers",
         "name": "4",
         "type": "scatter",
         "x": [
          -0.07973533388043275,
          -3.1785338355501844,
          -1.3143198936449698
         ],
         "xaxis": "x",
         "y": [
          21.223302015828818,
          19.91518355088646,
          11.92314954338371
         ],
         "yaxis": "y"
        },
        {
         "marker": {
          "color": "darkgoldenrod",
          "line": {
           "width": 0
          },
          "opacity": 0.8,
          "size": 6,
          "symbol": "circle"
         },
         "mode": "markers",
         "name": "5",
         "type": "scatter",
         "x": [
          -8.27073431894368,
          -11.360404616778172,
          -7.393359606457105
         ],
         "xaxis": "x",
         "y": [
          5.420956429875386,
          10.833876597965022,
          4.937387987898309
         ],
         "yaxis": "y"
        },
        {
         "marker": {
          "color": "darkgray",
          "line": {
           "width": 0
          },
          "opacity": 0.8,
          "size": 6,
          "symbol": "circle"
         },
         "mode": "markers",
         "name": "6",
         "type": "scatter",
         "x": [
          -30.538898582329363,
          -35.167017133014,
          -31.872614051566842,
          -33.763197300497104
         ],
         "xaxis": "x",
         "y": [
          -8.22299921580358,
          -1.8997362253933037,
          -0.19034936725969268,
          -5.293071247941802
         ],
         "yaxis": "y"
        },
        {
         "marker": {
          "color": "darkgrey",
          "line": {
           "width": 0
          },
          "opacity": 0.8,
          "size": 6,
          "symbol": "circle"
         },
         "mode": "markers",
         "name": "7",
         "type": "scatter",
         "x": [
          55.034416667962226,
          45.59047906111354
         ],
         "xaxis": "x",
         "y": [
          -3.653959958755133,
          -5.894866901489548
         ],
         "yaxis": "y"
        },
        {
         "marker": {
          "color": "darkgreen",
          "line": {
           "width": 0
          },
          "opacity": 0.8,
          "size": 6,
          "symbol": "circle"
         },
         "mode": "markers",
         "name": "8",
         "type": "scatter",
         "x": [
          7.059352398932993,
          7.346794116187963
         ],
         "xaxis": "x",
         "y": [
          -9.916263429265403,
          -8.33782527050474
         ],
         "yaxis": "y"
        },
        {
         "marker": {
          "color": "darkkhaki",
          "line": {
           "width": 0
          },
          "opacity": 0.8,
          "size": 6,
          "symbol": "circle"
         },
         "mode": "markers",
         "name": "9",
         "type": "scatter",
         "x": [
          -19.87906087396681,
          -19.65290105638851
         ],
         "xaxis": "x",
         "y": [
          -5.656163518980209,
          -3.963816665130433
         ],
         "yaxis": "y"
        },
        {
         "marker": {
          "color": "darkmagenta",
          "line": {
           "width": 0
          },
          "opacity": 0.8,
          "size": 6,
          "symbol": "circle"
         },
         "mode": "markers",
         "name": "10",
         "type": "scatter",
         "x": [
          22.554380560418597
         ],
         "xaxis": "x",
         "y": [
          -8.469755553236078
         ],
         "yaxis": "y"
        },
        {
         "marker": {
          "color": "darkolivegreen",
          "line": {
           "width": 0
          },
          "opacity": 0.8,
          "size": 6,
          "symbol": "circle"
         },
         "mode": "markers",
         "name": "11",
         "type": "scatter",
         "x": [
          17.443204891674537
         ],
         "xaxis": "x",
         "y": [
          -13.527423439339149
         ],
         "yaxis": "y"
        },
        {
         "marker": {
          "color": "darkorange",
          "line": {
           "width": 0
          },
          "opacity": 0.8,
          "size": 6,
          "symbol": "circle"
         },
         "mode": "markers",
         "name": "12",
         "type": "scatter",
         "x": [
          15.624952072756845
         ],
         "xaxis": "x",
         "y": [
          -7.38777963627224
         ],
         "yaxis": "y"
        },
        {
         "marker": {
          "color": "darkorchid",
          "line": {
           "width": 0
          },
          "opacity": 0.8,
          "size": 6,
          "symbol": "circle"
         },
         "mode": "markers",
         "name": "13",
         "type": "scatter",
         "x": [
          6.033188831282275
         ],
         "xaxis": "x",
         "y": [
          -11.049540880464784
         ],
         "yaxis": "y"
        },
        {
         "marker": {
          "color": "darkred",
          "line": {
           "width": 0
          },
          "opacity": 0.8,
          "size": 6,
          "symbol": "circle"
         },
         "mode": "markers",
         "name": "14",
         "type": "scatter",
         "x": [
          1.0402578271402547
         ],
         "xaxis": "x",
         "y": [
          -3.2367886263997216
         ],
         "yaxis": "y"
        },
        {
         "marker": {
          "color": "darksalmon",
          "line": {
           "width": 0
          },
          "opacity": 0.8,
          "size": 6,
          "symbol": "circle"
         },
         "mode": "markers",
         "name": "15",
         "type": "scatter",
         "x": [
          -5.0082094944513225
         ],
         "xaxis": "x",
         "y": [
          -17.620627514180033
         ],
         "yaxis": "y"
        },
        {
         "marker": {
          "color": "darkseagreen",
          "line": {
           "width": 0
          },
          "opacity": 0.8,
          "size": 6,
          "symbol": "circle"
         },
         "mode": "markers",
         "name": "16",
         "type": "scatter",
         "x": [
          -17.771398048575065
         ],
         "xaxis": "x",
         "y": [
          -14.565228761099238
         ],
         "yaxis": "y"
        },
        {
         "marker": {
          "color": "darkseagreen",
          "line": {
           "width": 0
          },
          "opacity": 0.8,
          "size": 6,
          "symbol": "circle"
         },
         "mode": "markers",
         "name": "0",
         "type": "scatter",
         "x": [
          68.46982882354048,
          67.72909589594221,
          67.49967218353768,
          66.79416046428183,
          66.15222349269914,
          69.38764359534196,
          68.77342021591586,
          68.0162264938623,
          67.82832276415841,
          67.98258544302786,
          67.98952654423113,
          66.07245334709152,
          67.49916072748668,
          67.87421029315955,
          67.69820548806996,
          67.35545741455158,
          66.96127748197327,
          67.31303583300485,
          67.59533061799718,
          67.89973700499408,
          67.26773501168776,
          68.38060104367659,
          67.49850988570181,
          65.68590826576485,
          67.76796519145873,
          67.85563448409872,
          67.78622919294791,
          68.28531641868578,
          67.16063270746338,
          67.18265984733473,
          68.03080945300484,
          67.80150164911679,
          66.27307670476706,
          67.32594445398675,
          68.13437085653246,
          67.78090534709618,
          67.64473674379104,
          66.78721301406554,
          66.73804954286092,
          66.12644353750424
         ],
         "xaxis": "x2",
         "y": [
          -5.093932787210296,
          -6.063900349595287,
          -4.981449212716274,
          -4.550088962133932,
          -6.012712758894227,
          -6.845022164689261,
          -5.225362148565248,
          -5.644449528535826,
          -5.800153910019181,
          -6.1751583627320725,
          -5.757529737511148,
          -4.559309800717959,
          -4.486702906551747,
          -6.001405523144126,
          -5.593096393478222,
          -5.933241989642402,
          -6.191397461565196,
          -5.915278816563084,
          -4.943323497693596,
          -5.6555992839654605,
          -5.400841439937029,
          -5.189332864926619,
          -6.010762208758997,
          -5.335560586762543,
          -5.9065673279684825,
          -5.60366735184141,
          -5.032219445672305,
          -5.377930516849441,
          -5.605098897298847,
          -4.491805345085776,
          -5.371224990173534,
          -5.089540822868334,
          -6.419990592547657,
          -5.5604694567267865,
          -6.0437029728457405,
          -5.50128514651558,
          -5.7329718216863785,
          -5.941522370595785,
          -5.171245828243573,
          -4.522309333691361
         ],
         "yaxis": "y2"
        },
        {
         "marker": {
          "color": "crimson",
          "line": {
           "width": 0
          },
          "opacity": 0.8,
          "size": 6,
          "symbol": "circle"
         },
         "mode": "markers",
         "name": "1",
         "type": "scatter",
         "x": [
          -47.55316214137236,
          -47.418079511736906,
          -45.80763732169997,
          -47.31261649985441,
          -46.57242755540214,
          -46.1634684478029,
          -47.11138769232963,
          -46.160773427048724,
          -47.563885631940394,
          -45.63560635679148,
          -46.24563801180061,
          -45.8934524212452,
          -45.574944363906475,
          -47.012502689193965,
          -47.9270619397911,
          -45.05991299771889,
          -47.68165642251728,
          -47.58567842444634,
          -47.94735471315291,
          -46.373523260194666,
          -46.0773976091375,
          -47.58691755835345,
          -47.497491160150076,
          -47.110433565956846,
          -48.04683057067579,
          -47.837208824501616,
          -47.45064333770477,
          -46.56832659331918,
          -47.37230674811745,
          -47.215413474124304,
          -46.619557556496055,
          -47.54684707081448,
          -47.44668055837559,
          -45.88441315443838,
          -48.93938010540278,
          -45.854216078176506,
          -46.90205462257318,
          -47.955520121516436,
          -47.01085906712631,
          -47.266931409473756,
          -43.540131536069545,
          -35.606381983619535
         ],
         "xaxis": "x2",
         "y": [
          -8.08516123777917,
          -8.259179876296992,
          -6.341222216102705,
          -7.915794768415565,
          -9.140852915815316,
          -8.399328062733106,
          -7.564537200033078,
          -6.276419205735287,
          -8.008229522996194,
          -7.749919519711012,
          -6.216789989412785,
          -6.620403983786899,
          -6.302235758165479,
          -6.837798908976264,
          -6.853590010315924,
          -9.77329114971798,
          -6.370642906420879,
          -8.317387404100348,
          -8.678818824384797,
          -7.827534742942092,
          -6.580152949691741,
          -7.089962497691698,
          -8.071510685217223,
          -7.854528728543747,
          -6.542229204419779,
          -6.161390100122353,
          -6.927916557202619,
          -10.429149330864496,
          -8.221457073151223,
          -6.571063531716438,
          -7.609716265258819,
          -8.494792004235538,
          -6.812187436502226,
          -7.245189727597942,
          -7.624397998804052,
          -7.7443609736163355,
          -7.421826546336013,
          -5.818517716165342,
          -6.785793537774048,
          -6.002504695426314,
          1.1507011934179294,
          -9.443401282864889
         ],
         "yaxis": "y2"
        },
        {
         "marker": {
          "color": "darkorange",
          "line": {
           "width": 0
          },
          "opacity": 0.8,
          "size": 6,
          "symbol": "circle"
         },
         "mode": "markers",
         "name": "2",
         "type": "scatter",
         "x": [
          -28.61592896925955,
          -29.51371053088627,
          -28.637312221266892,
          -28.936476041867696,
          -29.421121439416133,
          -28.784350536241938,
          -28.947502240959253,
          -28.404152861062816,
          -29.331536215731848,
          -28.55125295545716,
          -29.324069594993013,
          -28.68887271509712,
          -29.26399778615051,
          -29.975133526552682,
          -28.315371328893875,
          -30.99631861016856,
          -29.69458431660745,
          -29.550164765010248,
          -29.2053682518608,
          -29.101376581783246
         ],
         "xaxis": "x2",
         "y": [
          -11.792258985659592,
          -9.90656247547877,
          -9.757602405544631,
          -10.037232367374218,
          -9.521813995540073,
          -10.928749546988481,
          -9.806249708952635,
          -11.713836703546658,
          -11.324196269808711,
          -12.695884562595424,
          -10.5392939715266,
          -10.03555985368799,
          -10.062241813911868,
          -10.540377764733288,
          -11.069466942945402,
          -9.840652004611362,
          -10.170920575990376,
          -8.486153513375417,
          -11.453666254837199,
          -10.514700029819497
         ],
         "yaxis": "y2"
        },
        {
         "marker": {
          "color": "darkblue",
          "line": {
           "width": 0
          },
          "opacity": 0.8,
          "size": 6,
          "symbol": "circle"
         },
         "mode": "markers",
         "name": "3",
         "type": "scatter",
         "x": [
          -16.698025017362806,
          -19.380145265723794,
          -21.197671396234483,
          -28.572173270718316,
          -25.839130782462902
         ],
         "xaxis": "x2",
         "y": [
          -9.472054127623014,
          -8.62710039563347,
          -8.772899906525891,
          -5.802098115584776,
          -9.478354008095465
         ],
         "yaxis": "y2"
        },
        {
         "marker": {
          "color": "darkcyan",
          "line": {
           "width": 0
          },
          "opacity": 0.8,
          "size": 6,
          "symbol": "circle"
         },
         "mode": "markers",
         "name": "4",
         "type": "scatter",
         "x": [
          -0.07973533388043275,
          -3.1785338355501844,
          -1.3143198936449698
         ],
         "xaxis": "x2",
         "y": [
          92.52598765322597,
          84.17919216271473,
          94.1746874098724
         ],
         "yaxis": "y2"
        },
        {
         "marker": {
          "color": "darkgoldenrod",
          "line": {
           "width": 0
          },
          "opacity": 0.8,
          "size": 6,
          "symbol": "circle"
         },
         "mode": "markers",
         "name": "5",
         "type": "scatter",
         "x": [
          -8.27073431894368,
          -11.360404616778172,
          -7.393359606457105
         ],
         "xaxis": "x2",
         "y": [
          80.28163729823574,
          73.13317465670809,
          76.49664104263302
         ],
         "yaxis": "y2"
        },
        {
         "marker": {
          "color": "darkgray",
          "line": {
           "width": 0
          },
          "opacity": 0.8,
          "size": 6,
          "symbol": "circle"
         },
         "mode": "markers",
         "name": "6",
         "type": "scatter",
         "x": [
          -30.538898582329363,
          -35.167017133014,
          -31.872614051566842,
          -33.763197300497104
         ],
         "xaxis": "x2",
         "y": [
          29.414253392795338,
          13.638635815887017,
          14.623445644124898,
          21.922688528762855
         ],
         "yaxis": "y2"
        },
        {
         "marker": {
          "color": "darkgrey",
          "line": {
           "width": 0
          },
          "opacity": 0.8,
          "size": 6,
          "symbol": "circle"
         },
         "mode": "markers",
         "name": "7",
         "type": "scatter",
         "x": [
          55.034416667962226,
          45.59047906111354
         ],
         "xaxis": "x2",
         "y": [
          3.5639498632604094,
          0.6309887329071798
         ],
         "yaxis": "y2"
        },
        {
         "marker": {
          "color": "darkgreen",
          "line": {
           "width": 0
          },
          "opacity": 0.8,
          "size": 6,
          "symbol": "circle"
         },
         "mode": "markers",
         "name": "8",
         "type": "scatter",
         "x": [
          7.059352398932993,
          7.346794116187963
         ],
         "xaxis": "x2",
         "y": [
          9.442650764257673,
          17.220368874952804
         ],
         "yaxis": "y2"
        },
        {
         "marker": {
          "color": "darkkhaki",
          "line": {
           "width": 0
          },
          "opacity": 0.8,
          "size": 6,
          "symbol": "circle"
         },
         "mode": "markers",
         "name": "9",
         "type": "scatter",
         "x": [
          -19.87906087396681,
          -19.65290105638851
         ],
         "xaxis": "x2",
         "y": [
          54.86647377670349,
          53.14115509167992
         ],
         "yaxis": "y2"
        },
        {
         "marker": {
          "color": "darkmagenta",
          "line": {
           "width": 0
          },
          "opacity": 0.8,
          "size": 6,
          "symbol": "circle"
         },
         "mode": "markers",
         "name": "10",
         "type": "scatter",
         "x": [
          22.554380560418597
         ],
         "xaxis": "x2",
         "y": [
          8.625974145882651
         ],
         "yaxis": "y2"
        },
        {
         "marker": {
          "color": "darkolivegreen",
          "line": {
           "width": 0
          },
          "opacity": 0.8,
          "size": 6,
          "symbol": "circle"
         },
         "mode": "markers",
         "name": "11",
         "type": "scatter",
         "x": [
          17.443204891674537
         ],
         "xaxis": "x2",
         "y": [
          -5.144144285178905
         ],
         "yaxis": "y2"
        },
        {
         "marker": {
          "color": "darkorange",
          "line": {
           "width": 0
          },
          "opacity": 0.8,
          "size": 6,
          "symbol": "circle"
         },
         "mode": "markers",
         "name": "12",
         "type": "scatter",
         "x": [
          15.624952072756845
         ],
         "xaxis": "x2",
         "y": [
          25.15092455495962
         ],
         "yaxis": "y2"
        },
        {
         "marker": {
          "color": "darkorchid",
          "line": {
           "width": 0
          },
          "opacity": 0.8,
          "size": 6,
          "symbol": "circle"
         },
         "mode": "markers",
         "name": "13",
         "type": "scatter",
         "x": [
          6.033188831282275
         ],
         "xaxis": "x2",
         "y": [
          -4.947387589717527
         ],
         "yaxis": "y2"
        },
        {
         "marker": {
          "color": "darkred",
          "line": {
           "width": 0
          },
          "opacity": 0.8,
          "size": 6,
          "symbol": "circle"
         },
         "mode": "markers",
         "name": "14",
         "type": "scatter",
         "x": [
          1.0402578271402547
         ],
         "xaxis": "x2",
         "y": [
          33.99608383035929
         ],
         "yaxis": "y2"
        },
        {
         "marker": {
          "color": "darksalmon",
          "line": {
           "width": 0
          },
          "opacity": 0.8,
          "size": 6,
          "symbol": "circle"
         },
         "mode": "markers",
         "name": "15",
         "type": "scatter",
         "x": [
          -5.0082094944513225
         ],
         "xaxis": "x2",
         "y": [
          -8.373061725785174
         ],
         "yaxis": "y2"
        },
        {
         "marker": {
          "color": "darkseagreen",
          "line": {
           "width": 0
          },
          "opacity": 0.8,
          "size": 6,
          "symbol": "circle"
         },
         "mode": "markers",
         "name": "16",
         "type": "scatter",
         "x": [
          -17.771398048575065
         ],
         "xaxis": "x2",
         "y": [
          10.363257431696905
         ],
         "yaxis": "y2"
        }
       ],
       "layout": {
        "annotations": [
         {
          "font": {
           "size": 16
          },
          "showarrow": false,
          "text": "global_pca",
          "x": 0.225,
          "xanchor": "center",
          "xref": "paper",
          "y": 1,
          "yanchor": "bottom",
          "yref": "paper"
         },
         {
          "font": {
           "size": 16
          },
          "showarrow": false,
          "text": "global_pca",
          "x": 0.775,
          "xanchor": "center",
          "xref": "paper",
          "y": 1,
          "yanchor": "bottom",
          "yref": "paper"
         }
        ],
        "height": 500,
        "template": {
         "data": {
          "bar": [
           {
            "error_x": {
             "color": "#2a3f5f"
            },
            "error_y": {
             "color": "#2a3f5f"
            },
            "marker": {
             "line": {
              "color": "#E5ECF6",
              "width": 0.5
             }
            },
            "type": "bar"
           }
          ],
          "barpolar": [
           {
            "marker": {
             "line": {
              "color": "#E5ECF6",
              "width": 0.5
             }
            },
            "type": "barpolar"
           }
          ],
          "carpet": [
           {
            "aaxis": {
             "endlinecolor": "#2a3f5f",
             "gridcolor": "white",
             "linecolor": "white",
             "minorgridcolor": "white",
             "startlinecolor": "#2a3f5f"
            },
            "baxis": {
             "endlinecolor": "#2a3f5f",
             "gridcolor": "white",
             "linecolor": "white",
             "minorgridcolor": "white",
             "startlinecolor": "#2a3f5f"
            },
            "type": "carpet"
           }
          ],
          "choropleth": [
           {
            "colorbar": {
             "outlinewidth": 0,
             "ticks": ""
            },
            "type": "choropleth"
           }
          ],
          "contour": [
           {
            "colorbar": {
             "outlinewidth": 0,
             "ticks": ""
            },
            "colorscale": [
             [
              0,
              "#0d0887"
             ],
             [
              0.1111111111111111,
              "#46039f"
             ],
             [
              0.2222222222222222,
              "#7201a8"
             ],
             [
              0.3333333333333333,
              "#9c179e"
             ],
             [
              0.4444444444444444,
              "#bd3786"
             ],
             [
              0.5555555555555556,
              "#d8576b"
             ],
             [
              0.6666666666666666,
              "#ed7953"
             ],
             [
              0.7777777777777778,
              "#fb9f3a"
             ],
             [
              0.8888888888888888,
              "#fdca26"
             ],
             [
              1,
              "#f0f921"
             ]
            ],
            "type": "contour"
           }
          ],
          "contourcarpet": [
           {
            "colorbar": {
             "outlinewidth": 0,
             "ticks": ""
            },
            "type": "contourcarpet"
           }
          ],
          "heatmap": [
           {
            "colorbar": {
             "outlinewidth": 0,
             "ticks": ""
            },
            "colorscale": [
             [
              0,
              "#0d0887"
             ],
             [
              0.1111111111111111,
              "#46039f"
             ],
             [
              0.2222222222222222,
              "#7201a8"
             ],
             [
              0.3333333333333333,
              "#9c179e"
             ],
             [
              0.4444444444444444,
              "#bd3786"
             ],
             [
              0.5555555555555556,
              "#d8576b"
             ],
             [
              0.6666666666666666,
              "#ed7953"
             ],
             [
              0.7777777777777778,
              "#fb9f3a"
             ],
             [
              0.8888888888888888,
              "#fdca26"
             ],
             [
              1,
              "#f0f921"
             ]
            ],
            "type": "heatmap"
           }
          ],
          "heatmapgl": [
           {
            "colorbar": {
             "outlinewidth": 0,
             "ticks": ""
            },
            "colorscale": [
             [
              0,
              "#0d0887"
             ],
             [
              0.1111111111111111,
              "#46039f"
             ],
             [
              0.2222222222222222,
              "#7201a8"
             ],
             [
              0.3333333333333333,
              "#9c179e"
             ],
             [
              0.4444444444444444,
              "#bd3786"
             ],
             [
              0.5555555555555556,
              "#d8576b"
             ],
             [
              0.6666666666666666,
              "#ed7953"
             ],
             [
              0.7777777777777778,
              "#fb9f3a"
             ],
             [
              0.8888888888888888,
              "#fdca26"
             ],
             [
              1,
              "#f0f921"
             ]
            ],
            "type": "heatmapgl"
           }
          ],
          "histogram": [
           {
            "marker": {
             "colorbar": {
              "outlinewidth": 0,
              "ticks": ""
             }
            },
            "type": "histogram"
           }
          ],
          "histogram2d": [
           {
            "colorbar": {
             "outlinewidth": 0,
             "ticks": ""
            },
            "colorscale": [
             [
              0,
              "#0d0887"
             ],
             [
              0.1111111111111111,
              "#46039f"
             ],
             [
              0.2222222222222222,
              "#7201a8"
             ],
             [
              0.3333333333333333,
              "#9c179e"
             ],
             [
              0.4444444444444444,
              "#bd3786"
             ],
             [
              0.5555555555555556,
              "#d8576b"
             ],
             [
              0.6666666666666666,
              "#ed7953"
             ],
             [
              0.7777777777777778,
              "#fb9f3a"
             ],
             [
              0.8888888888888888,
              "#fdca26"
             ],
             [
              1,
              "#f0f921"
             ]
            ],
            "type": "histogram2d"
           }
          ],
          "histogram2dcontour": [
           {
            "colorbar": {
             "outlinewidth": 0,
             "ticks": ""
            },
            "colorscale": [
             [
              0,
              "#0d0887"
             ],
             [
              0.1111111111111111,
              "#46039f"
             ],
             [
              0.2222222222222222,
              "#7201a8"
             ],
             [
              0.3333333333333333,
              "#9c179e"
             ],
             [
              0.4444444444444444,
              "#bd3786"
             ],
             [
              0.5555555555555556,
              "#d8576b"
             ],
             [
              0.6666666666666666,
              "#ed7953"
             ],
             [
              0.7777777777777778,
              "#fb9f3a"
             ],
             [
              0.8888888888888888,
              "#fdca26"
             ],
             [
              1,
              "#f0f921"
             ]
            ],
            "type": "histogram2dcontour"
           }
          ],
          "mesh3d": [
           {
            "colorbar": {
             "outlinewidth": 0,
             "ticks": ""
            },
            "type": "mesh3d"
           }
          ],
          "parcoords": [
           {
            "line": {
             "colorbar": {
              "outlinewidth": 0,
              "ticks": ""
             }
            },
            "type": "parcoords"
           }
          ],
          "pie": [
           {
            "automargin": true,
            "type": "pie"
           }
          ],
          "scatter": [
           {
            "marker": {
             "colorbar": {
              "outlinewidth": 0,
              "ticks": ""
             }
            },
            "type": "scatter"
           }
          ],
          "scatter3d": [
           {
            "line": {
             "colorbar": {
              "outlinewidth": 0,
              "ticks": ""
             }
            },
            "marker": {
             "colorbar": {
              "outlinewidth": 0,
              "ticks": ""
             }
            },
            "type": "scatter3d"
           }
          ],
          "scattercarpet": [
           {
            "marker": {
             "colorbar": {
              "outlinewidth": 0,
              "ticks": ""
             }
            },
            "type": "scattercarpet"
           }
          ],
          "scattergeo": [
           {
            "marker": {
             "colorbar": {
              "outlinewidth": 0,
              "ticks": ""
             }
            },
            "type": "scattergeo"
           }
          ],
          "scattergl": [
           {
            "marker": {
             "colorbar": {
              "outlinewidth": 0,
              "ticks": ""
             }
            },
            "type": "scattergl"
           }
          ],
          "scattermapbox": [
           {
            "marker": {
             "colorbar": {
              "outlinewidth": 0,
              "ticks": ""
             }
            },
            "type": "scattermapbox"
           }
          ],
          "scatterpolar": [
           {
            "marker": {
             "colorbar": {
              "outlinewidth": 0,
              "ticks": ""
             }
            },
            "type": "scatterpolar"
           }
          ],
          "scatterpolargl": [
           {
            "marker": {
             "colorbar": {
              "outlinewidth": 0,
              "ticks": ""
             }
            },
            "type": "scatterpolargl"
           }
          ],
          "scatterternary": [
           {
            "marker": {
             "colorbar": {
              "outlinewidth": 0,
              "ticks": ""
             }
            },
            "type": "scatterternary"
           }
          ],
          "surface": [
           {
            "colorbar": {
             "outlinewidth": 0,
             "ticks": ""
            },
            "colorscale": [
             [
              0,
              "#0d0887"
             ],
             [
              0.1111111111111111,
              "#46039f"
             ],
             [
              0.2222222222222222,
              "#7201a8"
             ],
             [
              0.3333333333333333,
              "#9c179e"
             ],
             [
              0.4444444444444444,
              "#bd3786"
             ],
             [
              0.5555555555555556,
              "#d8576b"
             ],
             [
              0.6666666666666666,
              "#ed7953"
             ],
             [
              0.7777777777777778,
              "#fb9f3a"
             ],
             [
              0.8888888888888888,
              "#fdca26"
             ],
             [
              1,
              "#f0f921"
             ]
            ],
            "type": "surface"
           }
          ],
          "table": [
           {
            "cells": {
             "fill": {
              "color": "#EBF0F8"
             },
             "line": {
              "color": "white"
             }
            },
            "header": {
             "fill": {
              "color": "#C8D4E3"
             },
             "line": {
              "color": "white"
             }
            },
            "type": "table"
           }
          ]
         },
         "layout": {
          "annotationdefaults": {
           "arrowcolor": "#2a3f5f",
           "arrowhead": 0,
           "arrowwidth": 1
          },
          "coloraxis": {
           "colorbar": {
            "outlinewidth": 0,
            "ticks": ""
           }
          },
          "colorscale": {
           "diverging": [
            [
             0,
             "#8e0152"
            ],
            [
             0.1,
             "#c51b7d"
            ],
            [
             0.2,
             "#de77ae"
            ],
            [
             0.3,
             "#f1b6da"
            ],
            [
             0.4,
             "#fde0ef"
            ],
            [
             0.5,
             "#f7f7f7"
            ],
            [
             0.6,
             "#e6f5d0"
            ],
            [
             0.7,
             "#b8e186"
            ],
            [
             0.8,
             "#7fbc41"
            ],
            [
             0.9,
             "#4d9221"
            ],
            [
             1,
             "#276419"
            ]
           ],
           "sequential": [
            [
             0,
             "#0d0887"
            ],
            [
             0.1111111111111111,
             "#46039f"
            ],
            [
             0.2222222222222222,
             "#7201a8"
            ],
            [
             0.3333333333333333,
             "#9c179e"
            ],
            [
             0.4444444444444444,
             "#bd3786"
            ],
            [
             0.5555555555555556,
             "#d8576b"
            ],
            [
             0.6666666666666666,
             "#ed7953"
            ],
            [
             0.7777777777777778,
             "#fb9f3a"
            ],
            [
             0.8888888888888888,
             "#fdca26"
            ],
            [
             1,
             "#f0f921"
            ]
           ],
           "sequentialminus": [
            [
             0,
             "#0d0887"
            ],
            [
             0.1111111111111111,
             "#46039f"
            ],
            [
             0.2222222222222222,
             "#7201a8"
            ],
            [
             0.3333333333333333,
             "#9c179e"
            ],
            [
             0.4444444444444444,
             "#bd3786"
            ],
            [
             0.5555555555555556,
             "#d8576b"
            ],
            [
             0.6666666666666666,
             "#ed7953"
            ],
            [
             0.7777777777777778,
             "#fb9f3a"
            ],
            [
             0.8888888888888888,
             "#fdca26"
            ],
            [
             1,
             "#f0f921"
            ]
           ]
          },
          "colorway": [
           "#636efa",
           "#EF553B",
           "#00cc96",
           "#ab63fa",
           "#FFA15A",
           "#19d3f3",
           "#FF6692",
           "#B6E880",
           "#FF97FF",
           "#FECB52"
          ],
          "font": {
           "color": "#2a3f5f"
          },
          "geo": {
           "bgcolor": "white",
           "lakecolor": "white",
           "landcolor": "#E5ECF6",
           "showlakes": true,
           "showland": true,
           "subunitcolor": "white"
          },
          "hoverlabel": {
           "align": "left"
          },
          "hovermode": "closest",
          "mapbox": {
           "style": "light"
          },
          "paper_bgcolor": "white",
          "plot_bgcolor": "#E5ECF6",
          "polar": {
           "angularaxis": {
            "gridcolor": "white",
            "linecolor": "white",
            "ticks": ""
           },
           "bgcolor": "#E5ECF6",
           "radialaxis": {
            "gridcolor": "white",
            "linecolor": "white",
            "ticks": ""
           }
          },
          "scene": {
           "xaxis": {
            "backgroundcolor": "#E5ECF6",
            "gridcolor": "white",
            "gridwidth": 2,
            "linecolor": "white",
            "showbackground": true,
            "ticks": "",
            "zerolinecolor": "white"
           },
           "yaxis": {
            "backgroundcolor": "#E5ECF6",
            "gridcolor": "white",
            "gridwidth": 2,
            "linecolor": "white",
            "showbackground": true,
            "ticks": "",
            "zerolinecolor": "white"
           },
           "zaxis": {
            "backgroundcolor": "#E5ECF6",
            "gridcolor": "white",
            "gridwidth": 2,
            "linecolor": "white",
            "showbackground": true,
            "ticks": "",
            "zerolinecolor": "white"
           }
          },
          "shapedefaults": {
           "line": {
            "color": "#2a3f5f"
           }
          },
          "ternary": {
           "aaxis": {
            "gridcolor": "white",
            "linecolor": "white",
            "ticks": ""
           },
           "baxis": {
            "gridcolor": "white",
            "linecolor": "white",
            "ticks": ""
           },
           "bgcolor": "#E5ECF6",
           "caxis": {
            "gridcolor": "white",
            "linecolor": "white",
            "ticks": ""
           }
          },
          "title": {
           "x": 0.05
          },
          "xaxis": {
           "automargin": true,
           "gridcolor": "white",
           "linecolor": "white",
           "ticks": "",
           "title": {
            "standoff": 15
           },
           "zerolinecolor": "white",
           "zerolinewidth": 2
          },
          "yaxis": {
           "automargin": true,
           "gridcolor": "white",
           "linecolor": "white",
           "ticks": "",
           "title": {
            "standoff": 15
           },
           "zerolinecolor": "white",
           "zerolinewidth": 2
          }
         }
        },
        "width": 950,
        "xaxis": {
         "anchor": "y",
         "domain": [
          0,
          0.45
         ],
         "title": {
          "text": "PC1"
         }
        },
        "xaxis2": {
         "anchor": "y2",
         "domain": [
          0.55,
          1
         ],
         "title": {
          "text": "PC1"
         }
        },
        "yaxis": {
         "anchor": "x",
         "domain": [
          0,
          1
         ],
         "title": {
          "text": "PC2"
         }
        },
        "yaxis2": {
         "anchor": "x2",
         "domain": [
          0,
          1
         ],
         "title": {
          "text": "PC3"
         }
        }
       }
      },
      "text/html": [
       "<div>\n",
       "        \n",
       "        \n",
       "            <div id=\"0422bdc1-d3f6-421e-b059-aa5d0c061422\" class=\"plotly-graph-div\" style=\"height:500px; width:950px;\"></div>\n",
       "            <script type=\"text/javascript\">\n",
       "                require([\"plotly\"], function(Plotly) {\n",
       "                    window.PLOTLYENV=window.PLOTLYENV || {};\n",
       "                    \n",
       "                if (document.getElementById(\"0422bdc1-d3f6-421e-b059-aa5d0c061422\")) {\n",
       "                    Plotly.newPlot(\n",
       "                        '0422bdc1-d3f6-421e-b059-aa5d0c061422',\n",
       "                        [{\"marker\": {\"color\": \"darkseagreen\", \"line\": {\"width\": 0}, \"opacity\": 0.8, \"size\": 6, \"symbol\": \"circle\"}, \"mode\": \"markers\", \"name\": \"0\", \"type\": \"scatter\", \"x\": [68.46982882354048, 67.72909589594221, 67.49967218353768, 66.79416046428183, 66.15222349269914, 69.38764359534196, 68.77342021591586, 68.0162264938623, 67.82832276415841, 67.98258544302786, 67.98952654423113, 66.07245334709152, 67.49916072748668, 67.87421029315955, 67.69820548806996, 67.35545741455158, 66.96127748197327, 67.31303583300485, 67.59533061799718, 67.89973700499408, 67.26773501168776, 68.38060104367659, 67.49850988570181, 65.68590826576485, 67.76796519145873, 67.85563448409872, 67.78622919294791, 68.28531641868578, 67.16063270746338, 67.18265984733473, 68.03080945300484, 67.80150164911679, 66.27307670476706, 67.32594445398675, 68.13437085653246, 67.78090534709618, 67.64473674379104, 66.78721301406554, 66.73804954286092, 66.12644353750424], \"xaxis\": \"x\", \"y\": [-4.358165444858039, -3.303638612089803, -4.977936196533848, -3.033934884302898, -3.307099363542488, -4.348760019167802, -4.075209549771562, -4.759646074736564, -4.23289807328536, -4.210813747527435, -5.0991627758362545, -4.542619965845053, -4.36138977191252, -4.005593997336778, -4.261683643900994, -3.2041773626796775, -4.148331136603434, -3.5920832167190087, -4.098863926316037, -4.973860650017252, -3.663483255907664, -5.186849969606489, -3.3174535122199758, -4.237897447572271, -4.83674064521259, -4.036833990061811, -3.767708332538269, -4.10410332841503, -3.7009229396815453, -3.571897664368378, -3.698833572771279, -3.211294346338486, -3.905148474149943, -4.292870121859108, -3.1058899408965255, -5.067686567880141, -4.166899595563014, -3.800662432598635, -3.7585313318927063, -3.8300049349350958], \"yaxis\": \"y\"}, {\"marker\": {\"color\": \"crimson\", \"line\": {\"width\": 0}, \"opacity\": 0.8, \"size\": 6, \"symbol\": \"circle\"}, \"mode\": \"markers\", \"name\": \"1\", \"type\": \"scatter\", \"x\": [-47.55316214137236, -47.418079511736906, -45.80763732169997, -47.31261649985441, -46.57242755540214, -46.1634684478029, -47.11138769232963, -46.160773427048724, -47.563885631940394, -45.63560635679148, -46.24563801180061, -45.8934524212452, -45.574944363906475, -47.012502689193965, -47.9270619397911, -45.05991299771889, -47.68165642251728, -47.58567842444634, -47.94735471315291, -46.373523260194666, -46.0773976091375, -47.58691755835345, -47.497491160150076, -47.110433565956846, -48.04683057067579, -47.837208824501616, -47.45064333770477, -46.56832659331918, -47.37230674811745, -47.215413474124304, -46.619557556496055, -47.54684707081448, -47.44668055837559, -45.88441315443838, -48.93938010540278, -45.854216078176506, -46.90205462257318, -47.955520121516436, -47.01085906712631, -47.266931409473756, -43.540131536069545, -35.606381983619535], \"xaxis\": \"x\", \"y\": [-25.126770105064526, -25.06594330420105, -25.67484018371571, -25.61908994071484, -25.14716652968067, -26.725848558061305, -25.68555954101818, -26.022795346814714, -25.93210895443154, -25.372142004603653, -25.39292821640917, -24.892248567909416, -24.903667057970313, -26.116518326983506, -25.142989610638086, -24.91090968808785, -24.487374586719458, -25.171215937190464, -25.645246965315774, -24.666893555222423, -26.196788453783437, -26.30606344120324, -24.82362444905962, -25.372499207948128, -26.434525114053507, -26.238674103337758, -24.092688688329506, -25.003581026397107, -25.3101374223408, -24.52014374812406, -26.00224724045069, -22.717343698967554, -24.627791117810602, -23.869939215836546, -23.34792760755542, -25.199619028380692, -25.095939897265687, -25.48288785352583, -24.71844882111652, -27.098283401392656, -19.923178095969497, -19.610646353916586], \"yaxis\": \"y\"}, {\"marker\": {\"color\": \"darkorange\", \"line\": {\"width\": 0}, \"opacity\": 0.8, \"size\": 6, \"symbol\": \"circle\"}, \"mode\": \"markers\", \"name\": \"2\", \"type\": \"scatter\", \"x\": [-28.61592896925955, -29.51371053088627, -28.637312221266892, -28.936476041867696, -29.421121439416133, -28.784350536241938, -28.947502240959253, -28.404152861062816, -29.331536215731848, -28.55125295545716, -29.324069594993013, -28.68887271509712, -29.26399778615051, -29.975133526552682, -28.315371328893875, -30.99631861016856, -29.69458431660745, -29.550164765010248, -29.2053682518608, -29.101376581783246], \"xaxis\": \"x\", \"y\": [67.09134343484777, 68.70587875485296, 67.89871307733827, 68.59841631783218, 68.62376021165157, 67.89731877197444, 68.71394290243944, 68.11043834977232, 67.9834683308018, 68.65515234410323, 67.77185754162916, 67.96559008498252, 68.9796572275371, 69.28058697424572, 67.6434490712276, 68.60656024115315, 68.38610676630516, 69.57203206441325, 68.06570498801062, 69.04811128975665], \"yaxis\": \"y\"}, {\"marker\": {\"color\": \"darkblue\", \"line\": {\"width\": 0}, \"opacity\": 0.8, \"size\": 6, \"symbol\": \"circle\"}, \"mode\": \"markers\", \"name\": \"3\", \"type\": \"scatter\", \"x\": [-16.698025017362806, -19.380145265723794, -21.197671396234483, -28.572173270718316, -25.839130782462902], \"xaxis\": \"x\", \"y\": [-19.512137737325276, -16.93087109724604, -21.450601165405324, -22.589927583617158, -20.629395290633706], \"yaxis\": \"y\"}, {\"marker\": {\"color\": \"darkcyan\", \"line\": {\"width\": 0}, \"opacity\": 0.8, \"size\": 6, \"symbol\": \"circle\"}, \"mode\": \"markers\", \"name\": \"4\", \"type\": \"scatter\", \"x\": [-0.07973533388043275, -3.1785338355501844, -1.3143198936449698], \"xaxis\": \"x\", \"y\": [21.223302015828818, 19.91518355088646, 11.92314954338371], \"yaxis\": \"y\"}, {\"marker\": {\"color\": \"darkgoldenrod\", \"line\": {\"width\": 0}, \"opacity\": 0.8, \"size\": 6, \"symbol\": \"circle\"}, \"mode\": \"markers\", \"name\": \"5\", \"type\": \"scatter\", \"x\": [-8.27073431894368, -11.360404616778172, -7.393359606457105], \"xaxis\": \"x\", \"y\": [5.420956429875386, 10.833876597965022, 4.937387987898309], \"yaxis\": \"y\"}, {\"marker\": {\"color\": \"darkgray\", \"line\": {\"width\": 0}, \"opacity\": 0.8, \"size\": 6, \"symbol\": \"circle\"}, \"mode\": \"markers\", \"name\": \"6\", \"type\": \"scatter\", \"x\": [-30.538898582329363, -35.167017133014, -31.872614051566842, -33.763197300497104], \"xaxis\": \"x\", \"y\": [-8.22299921580358, -1.8997362253933037, -0.19034936725969268, -5.293071247941802], \"yaxis\": \"y\"}, {\"marker\": {\"color\": \"darkgrey\", \"line\": {\"width\": 0}, \"opacity\": 0.8, \"size\": 6, \"symbol\": \"circle\"}, \"mode\": \"markers\", \"name\": \"7\", \"type\": \"scatter\", \"x\": [55.034416667962226, 45.59047906111354], \"xaxis\": \"x\", \"y\": [-3.653959958755133, -5.894866901489548], \"yaxis\": \"y\"}, {\"marker\": {\"color\": \"darkgreen\", \"line\": {\"width\": 0}, \"opacity\": 0.8, \"size\": 6, \"symbol\": \"circle\"}, \"mode\": \"markers\", \"name\": \"8\", \"type\": \"scatter\", \"x\": [7.059352398932993, 7.346794116187963], \"xaxis\": \"x\", \"y\": [-9.916263429265403, -8.33782527050474], \"yaxis\": \"y\"}, {\"marker\": {\"color\": \"darkkhaki\", \"line\": {\"width\": 0}, \"opacity\": 0.8, \"size\": 6, \"symbol\": \"circle\"}, \"mode\": \"markers\", \"name\": \"9\", \"type\": \"scatter\", \"x\": [-19.87906087396681, -19.65290105638851], \"xaxis\": \"x\", \"y\": [-5.656163518980209, -3.963816665130433], \"yaxis\": \"y\"}, {\"marker\": {\"color\": \"darkmagenta\", \"line\": {\"width\": 0}, \"opacity\": 0.8, \"size\": 6, \"symbol\": \"circle\"}, \"mode\": \"markers\", \"name\": \"10\", \"type\": \"scatter\", \"x\": [22.554380560418597], \"xaxis\": \"x\", \"y\": [-8.469755553236078], \"yaxis\": \"y\"}, {\"marker\": {\"color\": \"darkolivegreen\", \"line\": {\"width\": 0}, \"opacity\": 0.8, \"size\": 6, \"symbol\": \"circle\"}, \"mode\": \"markers\", \"name\": \"11\", \"type\": \"scatter\", \"x\": [17.443204891674537], \"xaxis\": \"x\", \"y\": [-13.527423439339149], \"yaxis\": \"y\"}, {\"marker\": {\"color\": \"darkorange\", \"line\": {\"width\": 0}, \"opacity\": 0.8, \"size\": 6, \"symbol\": \"circle\"}, \"mode\": \"markers\", \"name\": \"12\", \"type\": \"scatter\", \"x\": [15.624952072756845], \"xaxis\": \"x\", \"y\": [-7.38777963627224], \"yaxis\": \"y\"}, {\"marker\": {\"color\": \"darkorchid\", \"line\": {\"width\": 0}, \"opacity\": 0.8, \"size\": 6, \"symbol\": \"circle\"}, \"mode\": \"markers\", \"name\": \"13\", \"type\": \"scatter\", \"x\": [6.033188831282275], \"xaxis\": \"x\", \"y\": [-11.049540880464784], \"yaxis\": \"y\"}, {\"marker\": {\"color\": \"darkred\", \"line\": {\"width\": 0}, \"opacity\": 0.8, \"size\": 6, \"symbol\": \"circle\"}, \"mode\": \"markers\", \"name\": \"14\", \"type\": \"scatter\", \"x\": [1.0402578271402547], \"xaxis\": \"x\", \"y\": [-3.2367886263997216], \"yaxis\": \"y\"}, {\"marker\": {\"color\": \"darksalmon\", \"line\": {\"width\": 0}, \"opacity\": 0.8, \"size\": 6, \"symbol\": \"circle\"}, \"mode\": \"markers\", \"name\": \"15\", \"type\": \"scatter\", \"x\": [-5.0082094944513225], \"xaxis\": \"x\", \"y\": [-17.620627514180033], \"yaxis\": \"y\"}, {\"marker\": {\"color\": \"darkseagreen\", \"line\": {\"width\": 0}, \"opacity\": 0.8, \"size\": 6, \"symbol\": \"circle\"}, \"mode\": \"markers\", \"name\": \"16\", \"type\": \"scatter\", \"x\": [-17.771398048575065], \"xaxis\": \"x\", \"y\": [-14.565228761099238], \"yaxis\": \"y\"}, {\"marker\": {\"color\": \"darkseagreen\", \"line\": {\"width\": 0}, \"opacity\": 0.8, \"size\": 6, \"symbol\": \"circle\"}, \"mode\": \"markers\", \"name\": \"0\", \"type\": \"scatter\", \"x\": [68.46982882354048, 67.72909589594221, 67.49967218353768, 66.79416046428183, 66.15222349269914, 69.38764359534196, 68.77342021591586, 68.0162264938623, 67.82832276415841, 67.98258544302786, 67.98952654423113, 66.07245334709152, 67.49916072748668, 67.87421029315955, 67.69820548806996, 67.35545741455158, 66.96127748197327, 67.31303583300485, 67.59533061799718, 67.89973700499408, 67.26773501168776, 68.38060104367659, 67.49850988570181, 65.68590826576485, 67.76796519145873, 67.85563448409872, 67.78622919294791, 68.28531641868578, 67.16063270746338, 67.18265984733473, 68.03080945300484, 67.80150164911679, 66.27307670476706, 67.32594445398675, 68.13437085653246, 67.78090534709618, 67.64473674379104, 66.78721301406554, 66.73804954286092, 66.12644353750424], \"xaxis\": \"x2\", \"y\": [-5.093932787210296, -6.063900349595287, -4.981449212716274, -4.550088962133932, -6.012712758894227, -6.845022164689261, -5.225362148565248, -5.644449528535826, -5.800153910019181, -6.1751583627320725, -5.757529737511148, -4.559309800717959, -4.486702906551747, -6.001405523144126, -5.593096393478222, -5.933241989642402, -6.191397461565196, -5.915278816563084, -4.943323497693596, -5.6555992839654605, -5.400841439937029, -5.189332864926619, -6.010762208758997, -5.335560586762543, -5.9065673279684825, -5.60366735184141, -5.032219445672305, -5.377930516849441, -5.605098897298847, -4.491805345085776, -5.371224990173534, -5.089540822868334, -6.419990592547657, -5.5604694567267865, -6.0437029728457405, -5.50128514651558, -5.7329718216863785, -5.941522370595785, -5.171245828243573, -4.522309333691361], \"yaxis\": \"y2\"}, {\"marker\": {\"color\": \"crimson\", \"line\": {\"width\": 0}, \"opacity\": 0.8, \"size\": 6, \"symbol\": \"circle\"}, \"mode\": \"markers\", \"name\": \"1\", \"type\": \"scatter\", \"x\": [-47.55316214137236, -47.418079511736906, -45.80763732169997, -47.31261649985441, -46.57242755540214, -46.1634684478029, -47.11138769232963, -46.160773427048724, -47.563885631940394, -45.63560635679148, -46.24563801180061, -45.8934524212452, -45.574944363906475, -47.012502689193965, -47.9270619397911, -45.05991299771889, -47.68165642251728, -47.58567842444634, -47.94735471315291, -46.373523260194666, -46.0773976091375, -47.58691755835345, -47.497491160150076, -47.110433565956846, -48.04683057067579, -47.837208824501616, -47.45064333770477, -46.56832659331918, -47.37230674811745, -47.215413474124304, -46.619557556496055, -47.54684707081448, -47.44668055837559, -45.88441315443838, -48.93938010540278, -45.854216078176506, -46.90205462257318, -47.955520121516436, -47.01085906712631, -47.266931409473756, -43.540131536069545, -35.606381983619535], \"xaxis\": \"x2\", \"y\": [-8.08516123777917, -8.259179876296992, -6.341222216102705, -7.915794768415565, -9.140852915815316, -8.399328062733106, -7.564537200033078, -6.276419205735287, -8.008229522996194, -7.749919519711012, -6.216789989412785, -6.620403983786899, -6.302235758165479, -6.837798908976264, -6.853590010315924, -9.77329114971798, -6.370642906420879, -8.317387404100348, -8.678818824384797, -7.827534742942092, -6.580152949691741, -7.089962497691698, -8.071510685217223, -7.854528728543747, -6.542229204419779, -6.161390100122353, -6.927916557202619, -10.429149330864496, -8.221457073151223, -6.571063531716438, -7.609716265258819, -8.494792004235538, -6.812187436502226, -7.245189727597942, -7.624397998804052, -7.7443609736163355, -7.421826546336013, -5.818517716165342, -6.785793537774048, -6.002504695426314, 1.1507011934179294, -9.443401282864889], \"yaxis\": \"y2\"}, {\"marker\": {\"color\": \"darkorange\", \"line\": {\"width\": 0}, \"opacity\": 0.8, \"size\": 6, \"symbol\": \"circle\"}, \"mode\": \"markers\", \"name\": \"2\", \"type\": \"scatter\", \"x\": [-28.61592896925955, -29.51371053088627, -28.637312221266892, -28.936476041867696, -29.421121439416133, -28.784350536241938, -28.947502240959253, -28.404152861062816, -29.331536215731848, -28.55125295545716, -29.324069594993013, -28.68887271509712, -29.26399778615051, -29.975133526552682, -28.315371328893875, -30.99631861016856, -29.69458431660745, -29.550164765010248, -29.2053682518608, -29.101376581783246], \"xaxis\": \"x2\", \"y\": [-11.792258985659592, -9.90656247547877, -9.757602405544631, -10.037232367374218, -9.521813995540073, -10.928749546988481, -9.806249708952635, -11.713836703546658, -11.324196269808711, -12.695884562595424, -10.5392939715266, -10.03555985368799, -10.062241813911868, -10.540377764733288, -11.069466942945402, -9.840652004611362, -10.170920575990376, -8.486153513375417, -11.453666254837199, -10.514700029819497], \"yaxis\": \"y2\"}, {\"marker\": {\"color\": \"darkblue\", \"line\": {\"width\": 0}, \"opacity\": 0.8, \"size\": 6, \"symbol\": \"circle\"}, \"mode\": \"markers\", \"name\": \"3\", \"type\": \"scatter\", \"x\": [-16.698025017362806, -19.380145265723794, -21.197671396234483, -28.572173270718316, -25.839130782462902], \"xaxis\": \"x2\", \"y\": [-9.472054127623014, -8.62710039563347, -8.772899906525891, -5.802098115584776, -9.478354008095465], \"yaxis\": \"y2\"}, {\"marker\": {\"color\": \"darkcyan\", \"line\": {\"width\": 0}, \"opacity\": 0.8, \"size\": 6, \"symbol\": \"circle\"}, \"mode\": \"markers\", \"name\": \"4\", \"type\": \"scatter\", \"x\": [-0.07973533388043275, -3.1785338355501844, -1.3143198936449698], \"xaxis\": \"x2\", \"y\": [92.52598765322597, 84.17919216271473, 94.1746874098724], \"yaxis\": \"y2\"}, {\"marker\": {\"color\": \"darkgoldenrod\", \"line\": {\"width\": 0}, \"opacity\": 0.8, \"size\": 6, \"symbol\": \"circle\"}, \"mode\": \"markers\", \"name\": \"5\", \"type\": \"scatter\", \"x\": [-8.27073431894368, -11.360404616778172, -7.393359606457105], \"xaxis\": \"x2\", \"y\": [80.28163729823574, 73.13317465670809, 76.49664104263302], \"yaxis\": \"y2\"}, {\"marker\": {\"color\": \"darkgray\", \"line\": {\"width\": 0}, \"opacity\": 0.8, \"size\": 6, \"symbol\": \"circle\"}, \"mode\": \"markers\", \"name\": \"6\", \"type\": \"scatter\", \"x\": [-30.538898582329363, -35.167017133014, -31.872614051566842, -33.763197300497104], \"xaxis\": \"x2\", \"y\": [29.414253392795338, 13.638635815887017, 14.623445644124898, 21.922688528762855], \"yaxis\": \"y2\"}, {\"marker\": {\"color\": \"darkgrey\", \"line\": {\"width\": 0}, \"opacity\": 0.8, \"size\": 6, \"symbol\": \"circle\"}, \"mode\": \"markers\", \"name\": \"7\", \"type\": \"scatter\", \"x\": [55.034416667962226, 45.59047906111354], \"xaxis\": \"x2\", \"y\": [3.5639498632604094, 0.6309887329071798], \"yaxis\": \"y2\"}, {\"marker\": {\"color\": \"darkgreen\", \"line\": {\"width\": 0}, \"opacity\": 0.8, \"size\": 6, \"symbol\": \"circle\"}, \"mode\": \"markers\", \"name\": \"8\", \"type\": \"scatter\", \"x\": [7.059352398932993, 7.346794116187963], \"xaxis\": \"x2\", \"y\": [9.442650764257673, 17.220368874952804], \"yaxis\": \"y2\"}, {\"marker\": {\"color\": \"darkkhaki\", \"line\": {\"width\": 0}, \"opacity\": 0.8, \"size\": 6, \"symbol\": \"circle\"}, \"mode\": \"markers\", \"name\": \"9\", \"type\": \"scatter\", \"x\": [-19.87906087396681, -19.65290105638851], \"xaxis\": \"x2\", \"y\": [54.86647377670349, 53.14115509167992], \"yaxis\": \"y2\"}, {\"marker\": {\"color\": \"darkmagenta\", \"line\": {\"width\": 0}, \"opacity\": 0.8, \"size\": 6, \"symbol\": \"circle\"}, \"mode\": \"markers\", \"name\": \"10\", \"type\": \"scatter\", \"x\": [22.554380560418597], \"xaxis\": \"x2\", \"y\": [8.625974145882651], \"yaxis\": \"y2\"}, {\"marker\": {\"color\": \"darkolivegreen\", \"line\": {\"width\": 0}, \"opacity\": 0.8, \"size\": 6, \"symbol\": \"circle\"}, \"mode\": \"markers\", \"name\": \"11\", \"type\": \"scatter\", \"x\": [17.443204891674537], \"xaxis\": \"x2\", \"y\": [-5.144144285178905], \"yaxis\": \"y2\"}, {\"marker\": {\"color\": \"darkorange\", \"line\": {\"width\": 0}, \"opacity\": 0.8, \"size\": 6, \"symbol\": \"circle\"}, \"mode\": \"markers\", \"name\": \"12\", \"type\": \"scatter\", \"x\": [15.624952072756845], \"xaxis\": \"x2\", \"y\": [25.15092455495962], \"yaxis\": \"y2\"}, {\"marker\": {\"color\": \"darkorchid\", \"line\": {\"width\": 0}, \"opacity\": 0.8, \"size\": 6, \"symbol\": \"circle\"}, \"mode\": \"markers\", \"name\": \"13\", \"type\": \"scatter\", \"x\": [6.033188831282275], \"xaxis\": \"x2\", \"y\": [-4.947387589717527], \"yaxis\": \"y2\"}, {\"marker\": {\"color\": \"darkred\", \"line\": {\"width\": 0}, \"opacity\": 0.8, \"size\": 6, \"symbol\": \"circle\"}, \"mode\": \"markers\", \"name\": \"14\", \"type\": \"scatter\", \"x\": [1.0402578271402547], \"xaxis\": \"x2\", \"y\": [33.99608383035929], \"yaxis\": \"y2\"}, {\"marker\": {\"color\": \"darksalmon\", \"line\": {\"width\": 0}, \"opacity\": 0.8, \"size\": 6, \"symbol\": \"circle\"}, \"mode\": \"markers\", \"name\": \"15\", \"type\": \"scatter\", \"x\": [-5.0082094944513225], \"xaxis\": \"x2\", \"y\": [-8.373061725785174], \"yaxis\": \"y2\"}, {\"marker\": {\"color\": \"darkseagreen\", \"line\": {\"width\": 0}, \"opacity\": 0.8, \"size\": 6, \"symbol\": \"circle\"}, \"mode\": \"markers\", \"name\": \"16\", \"type\": \"scatter\", \"x\": [-17.771398048575065], \"xaxis\": \"x2\", \"y\": [10.363257431696905], \"yaxis\": \"y2\"}],\n",
       "                        {\"annotations\": [{\"font\": {\"size\": 16}, \"showarrow\": false, \"text\": \"global_pca\", \"x\": 0.225, \"xanchor\": \"center\", \"xref\": \"paper\", \"y\": 1.0, \"yanchor\": \"bottom\", \"yref\": \"paper\"}, {\"font\": {\"size\": 16}, \"showarrow\": false, \"text\": \"global_pca\", \"x\": 0.775, \"xanchor\": \"center\", \"xref\": \"paper\", \"y\": 1.0, \"yanchor\": \"bottom\", \"yref\": \"paper\"}], \"height\": 500, \"template\": {\"data\": {\"bar\": [{\"error_x\": {\"color\": \"#2a3f5f\"}, \"error_y\": {\"color\": \"#2a3f5f\"}, \"marker\": {\"line\": {\"color\": \"#E5ECF6\", \"width\": 0.5}}, \"type\": \"bar\"}], \"barpolar\": [{\"marker\": {\"line\": {\"color\": \"#E5ECF6\", \"width\": 0.5}}, \"type\": \"barpolar\"}], \"carpet\": [{\"aaxis\": {\"endlinecolor\": \"#2a3f5f\", \"gridcolor\": \"white\", \"linecolor\": \"white\", \"minorgridcolor\": \"white\", \"startlinecolor\": \"#2a3f5f\"}, \"baxis\": {\"endlinecolor\": \"#2a3f5f\", \"gridcolor\": \"white\", \"linecolor\": \"white\", \"minorgridcolor\": \"white\", \"startlinecolor\": \"#2a3f5f\"}, \"type\": \"carpet\"}], \"choropleth\": [{\"colorbar\": {\"outlinewidth\": 0, \"ticks\": \"\"}, \"type\": \"choropleth\"}], \"contour\": [{\"colorbar\": {\"outlinewidth\": 0, \"ticks\": \"\"}, \"colorscale\": [[0.0, \"#0d0887\"], [0.1111111111111111, \"#46039f\"], [0.2222222222222222, \"#7201a8\"], [0.3333333333333333, \"#9c179e\"], [0.4444444444444444, \"#bd3786\"], [0.5555555555555556, \"#d8576b\"], [0.6666666666666666, \"#ed7953\"], [0.7777777777777778, \"#fb9f3a\"], [0.8888888888888888, \"#fdca26\"], [1.0, \"#f0f921\"]], \"type\": \"contour\"}], \"contourcarpet\": [{\"colorbar\": {\"outlinewidth\": 0, \"ticks\": \"\"}, \"type\": \"contourcarpet\"}], \"heatmap\": [{\"colorbar\": {\"outlinewidth\": 0, \"ticks\": \"\"}, \"colorscale\": [[0.0, \"#0d0887\"], [0.1111111111111111, \"#46039f\"], [0.2222222222222222, \"#7201a8\"], [0.3333333333333333, \"#9c179e\"], [0.4444444444444444, \"#bd3786\"], [0.5555555555555556, \"#d8576b\"], [0.6666666666666666, \"#ed7953\"], [0.7777777777777778, \"#fb9f3a\"], [0.8888888888888888, \"#fdca26\"], [1.0, \"#f0f921\"]], \"type\": \"heatmap\"}], \"heatmapgl\": [{\"colorbar\": {\"outlinewidth\": 0, \"ticks\": \"\"}, \"colorscale\": [[0.0, \"#0d0887\"], [0.1111111111111111, \"#46039f\"], [0.2222222222222222, \"#7201a8\"], [0.3333333333333333, \"#9c179e\"], [0.4444444444444444, \"#bd3786\"], [0.5555555555555556, \"#d8576b\"], [0.6666666666666666, \"#ed7953\"], [0.7777777777777778, \"#fb9f3a\"], [0.8888888888888888, \"#fdca26\"], [1.0, \"#f0f921\"]], \"type\": \"heatmapgl\"}], \"histogram\": [{\"marker\": {\"colorbar\": {\"outlinewidth\": 0, \"ticks\": \"\"}}, \"type\": \"histogram\"}], \"histogram2d\": [{\"colorbar\": {\"outlinewidth\": 0, \"ticks\": \"\"}, \"colorscale\": [[0.0, \"#0d0887\"], [0.1111111111111111, \"#46039f\"], [0.2222222222222222, \"#7201a8\"], [0.3333333333333333, \"#9c179e\"], [0.4444444444444444, \"#bd3786\"], [0.5555555555555556, \"#d8576b\"], [0.6666666666666666, \"#ed7953\"], [0.7777777777777778, \"#fb9f3a\"], [0.8888888888888888, \"#fdca26\"], [1.0, \"#f0f921\"]], \"type\": \"histogram2d\"}], \"histogram2dcontour\": [{\"colorbar\": {\"outlinewidth\": 0, \"ticks\": \"\"}, \"colorscale\": [[0.0, \"#0d0887\"], [0.1111111111111111, \"#46039f\"], [0.2222222222222222, \"#7201a8\"], [0.3333333333333333, \"#9c179e\"], [0.4444444444444444, \"#bd3786\"], [0.5555555555555556, \"#d8576b\"], [0.6666666666666666, \"#ed7953\"], [0.7777777777777778, \"#fb9f3a\"], [0.8888888888888888, \"#fdca26\"], [1.0, \"#f0f921\"]], \"type\": \"histogram2dcontour\"}], \"mesh3d\": [{\"colorbar\": {\"outlinewidth\": 0, \"ticks\": \"\"}, \"type\": \"mesh3d\"}], \"parcoords\": [{\"line\": {\"colorbar\": {\"outlinewidth\": 0, \"ticks\": \"\"}}, \"type\": \"parcoords\"}], \"pie\": [{\"automargin\": true, \"type\": \"pie\"}], \"scatter\": [{\"marker\": {\"colorbar\": {\"outlinewidth\": 0, \"ticks\": \"\"}}, \"type\": \"scatter\"}], \"scatter3d\": [{\"line\": {\"colorbar\": {\"outlinewidth\": 0, \"ticks\": \"\"}}, \"marker\": {\"colorbar\": {\"outlinewidth\": 0, \"ticks\": \"\"}}, \"type\": \"scatter3d\"}], \"scattercarpet\": [{\"marker\": {\"colorbar\": {\"outlinewidth\": 0, \"ticks\": \"\"}}, \"type\": \"scattercarpet\"}], \"scattergeo\": [{\"marker\": {\"colorbar\": {\"outlinewidth\": 0, \"ticks\": \"\"}}, \"type\": \"scattergeo\"}], \"scattergl\": [{\"marker\": {\"colorbar\": {\"outlinewidth\": 0, \"ticks\": \"\"}}, \"type\": \"scattergl\"}], \"scattermapbox\": [{\"marker\": {\"colorbar\": {\"outlinewidth\": 0, \"ticks\": \"\"}}, \"type\": \"scattermapbox\"}], \"scatterpolar\": [{\"marker\": {\"colorbar\": {\"outlinewidth\": 0, \"ticks\": \"\"}}, \"type\": \"scatterpolar\"}], \"scatterpolargl\": [{\"marker\": {\"colorbar\": {\"outlinewidth\": 0, \"ticks\": \"\"}}, \"type\": \"scatterpolargl\"}], \"scatterternary\": [{\"marker\": {\"colorbar\": {\"outlinewidth\": 0, \"ticks\": \"\"}}, \"type\": \"scatterternary\"}], \"surface\": [{\"colorbar\": {\"outlinewidth\": 0, \"ticks\": \"\"}, \"colorscale\": [[0.0, \"#0d0887\"], [0.1111111111111111, \"#46039f\"], [0.2222222222222222, \"#7201a8\"], [0.3333333333333333, \"#9c179e\"], [0.4444444444444444, \"#bd3786\"], [0.5555555555555556, \"#d8576b\"], [0.6666666666666666, \"#ed7953\"], [0.7777777777777778, \"#fb9f3a\"], [0.8888888888888888, \"#fdca26\"], [1.0, \"#f0f921\"]], \"type\": \"surface\"}], \"table\": [{\"cells\": {\"fill\": {\"color\": \"#EBF0F8\"}, \"line\": {\"color\": \"white\"}}, \"header\": {\"fill\": {\"color\": \"#C8D4E3\"}, \"line\": {\"color\": \"white\"}}, \"type\": \"table\"}]}, \"layout\": {\"annotationdefaults\": {\"arrowcolor\": \"#2a3f5f\", \"arrowhead\": 0, \"arrowwidth\": 1}, \"coloraxis\": {\"colorbar\": {\"outlinewidth\": 0, \"ticks\": \"\"}}, \"colorscale\": {\"diverging\": [[0, \"#8e0152\"], [0.1, \"#c51b7d\"], [0.2, \"#de77ae\"], [0.3, \"#f1b6da\"], [0.4, \"#fde0ef\"], [0.5, \"#f7f7f7\"], [0.6, \"#e6f5d0\"], [0.7, \"#b8e186\"], [0.8, \"#7fbc41\"], [0.9, \"#4d9221\"], [1, \"#276419\"]], \"sequential\": [[0.0, \"#0d0887\"], [0.1111111111111111, \"#46039f\"], [0.2222222222222222, \"#7201a8\"], [0.3333333333333333, \"#9c179e\"], [0.4444444444444444, \"#bd3786\"], [0.5555555555555556, \"#d8576b\"], [0.6666666666666666, \"#ed7953\"], [0.7777777777777778, \"#fb9f3a\"], [0.8888888888888888, \"#fdca26\"], [1.0, \"#f0f921\"]], \"sequentialminus\": [[0.0, \"#0d0887\"], [0.1111111111111111, \"#46039f\"], [0.2222222222222222, \"#7201a8\"], [0.3333333333333333, \"#9c179e\"], [0.4444444444444444, \"#bd3786\"], [0.5555555555555556, \"#d8576b\"], [0.6666666666666666, \"#ed7953\"], [0.7777777777777778, \"#fb9f3a\"], [0.8888888888888888, \"#fdca26\"], [1.0, \"#f0f921\"]]}, \"colorway\": [\"#636efa\", \"#EF553B\", \"#00cc96\", \"#ab63fa\", \"#FFA15A\", \"#19d3f3\", \"#FF6692\", \"#B6E880\", \"#FF97FF\", \"#FECB52\"], \"font\": {\"color\": \"#2a3f5f\"}, \"geo\": {\"bgcolor\": \"white\", \"lakecolor\": \"white\", \"landcolor\": \"#E5ECF6\", \"showlakes\": true, \"showland\": true, \"subunitcolor\": \"white\"}, \"hoverlabel\": {\"align\": \"left\"}, \"hovermode\": \"closest\", \"mapbox\": {\"style\": \"light\"}, \"paper_bgcolor\": \"white\", \"plot_bgcolor\": \"#E5ECF6\", \"polar\": {\"angularaxis\": {\"gridcolor\": \"white\", \"linecolor\": \"white\", \"ticks\": \"\"}, \"bgcolor\": \"#E5ECF6\", \"radialaxis\": {\"gridcolor\": \"white\", \"linecolor\": \"white\", \"ticks\": \"\"}}, \"scene\": {\"xaxis\": {\"backgroundcolor\": \"#E5ECF6\", \"gridcolor\": \"white\", \"gridwidth\": 2, \"linecolor\": \"white\", \"showbackground\": true, \"ticks\": \"\", \"zerolinecolor\": \"white\"}, \"yaxis\": {\"backgroundcolor\": \"#E5ECF6\", \"gridcolor\": \"white\", \"gridwidth\": 2, \"linecolor\": \"white\", \"showbackground\": true, \"ticks\": \"\", \"zerolinecolor\": \"white\"}, \"zaxis\": {\"backgroundcolor\": \"#E5ECF6\", \"gridcolor\": \"white\", \"gridwidth\": 2, \"linecolor\": \"white\", \"showbackground\": true, \"ticks\": \"\", \"zerolinecolor\": \"white\"}}, \"shapedefaults\": {\"line\": {\"color\": \"#2a3f5f\"}}, \"ternary\": {\"aaxis\": {\"gridcolor\": \"white\", \"linecolor\": \"white\", \"ticks\": \"\"}, \"baxis\": {\"gridcolor\": \"white\", \"linecolor\": \"white\", \"ticks\": \"\"}, \"bgcolor\": \"#E5ECF6\", \"caxis\": {\"gridcolor\": \"white\", \"linecolor\": \"white\", \"ticks\": \"\"}}, \"title\": {\"x\": 0.05}, \"xaxis\": {\"automargin\": true, \"gridcolor\": \"white\", \"linecolor\": \"white\", \"ticks\": \"\", \"title\": {\"standoff\": 15}, \"zerolinecolor\": \"white\", \"zerolinewidth\": 2}, \"yaxis\": {\"automargin\": true, \"gridcolor\": \"white\", \"linecolor\": \"white\", \"ticks\": \"\", \"title\": {\"standoff\": 15}, \"zerolinecolor\": \"white\", \"zerolinewidth\": 2}}}, \"width\": 950, \"xaxis\": {\"anchor\": \"y\", \"domain\": [0.0, 0.45], \"title\": {\"text\": \"PC1\"}}, \"xaxis2\": {\"anchor\": \"y2\", \"domain\": [0.55, 1.0], \"title\": {\"text\": \"PC1\"}}, \"yaxis\": {\"anchor\": \"x\", \"domain\": [0.0, 1.0], \"title\": {\"text\": \"PC2\"}}, \"yaxis2\": {\"anchor\": \"x2\", \"domain\": [0.0, 1.0], \"title\": {\"text\": \"PC3\"}}},\n",
       "                        {\"responsive\": true}\n",
       "                    ).then(function(){\n",
       "                            \n",
       "var gd = document.getElementById('0422bdc1-d3f6-421e-b059-aa5d0c061422');\n",
       "var x = new MutationObserver(function (mutations, observer) {{\n",
       "        var display = window.getComputedStyle(gd).display;\n",
       "        if (!display || display === 'none') {{\n",
       "            console.log([gd, 'removed!']);\n",
       "            Plotly.purge(gd);\n",
       "            observer.disconnect();\n",
       "        }}\n",
       "}});\n",
       "\n",
       "// Listen for the removal of the full notebook cells\n",
       "var notebookContainer = gd.closest('#notebook-container');\n",
       "if (notebookContainer) {{\n",
       "    x.observe(notebookContainer, {childList: true});\n",
       "}}\n",
       "\n",
       "// Listen for the clearing of the current output cell\n",
       "var outputEl = gd.closest('.output');\n",
       "if (outputEl) {{\n",
       "    x.observe(outputEl, {childList: true});\n",
       "}}\n",
       "\n",
       "                        })\n",
       "                };\n",
       "                });\n",
       "            </script>\n",
       "        </div>"
      ]
     },
     "metadata": {},
     "output_type": "display_data"
    }
   ],
   "source": [
    "###\n",
    "plot_global_pca(feats,label_select,PCA_color_ref,title= 'global_pca',height= 500,width= 950)"
   ]
  },
  {
   "cell_type": "code",
   "execution_count": 7,
   "metadata": {},
   "outputs": [],
   "source": [
    "select_refs= [0,1,2]\n",
    "label_vector= [[len(select_refs),labels1[x]][int(labels1[x] in select_refs)] for x in range(genotype.shape[0])]\n",
    "\n",
    "Whose= list(range(genotype.shape[0]))\n"
   ]
  },
  {
   "cell_type": "markdown",
   "metadata": {},
   "source": [
    "## Imputation\n",
    "\n",
    "### Creating a matrix, introducing missing values\n",
    "\n",
    "\n",
    "Single missing observation is introduced to a sample `nanObs`. Dimensionality reduction is applied to feature windows to generate a profile of distances between the `nanObs` and other samples. feature windows are selected randomly across the vcf, are free of missing data. \n",
    "\n",
    "For this notebook we will also keep window size constant. \n",
    "\n",
    "\n",
    "### I. nan_observation\n"
   ]
  },
  {
   "cell_type": "code",
   "execution_count": 17,
   "metadata": {},
   "outputs": [
    {
     "name": "stdout",
     "output_type": "stream",
     "text": [
      "full data set shape: (130, 40000)\n",
      "[[   41 39164]]\n"
     ]
    }
   ],
   "source": [
    "print('full data set shape: {}'.format(genotype.shape))\n",
    "\n",
    "nan_n= 1\n",
    "\n",
    "xnan= np.random.randint(0,genotype.shape[1],size= nan_n)\n",
    "ynan= np.random.randint(0,genotype.shape[0],size= nan_n)\n",
    "\n",
    "nan_coords= [ynan,xnan]\n",
    "nan_coords= np.array(nan_coords).T\n",
    "\n",
    "print(nan_coords)\n"
   ]
  },
  {
   "cell_type": "markdown",
   "metadata": {},
   "source": [
    "### Distance profiles.\n",
    "\n",
    "for a single nan value, selected using `nan_idx` from the list `nan_coords` above.\n",
    "\n",
    "define window size `wind_sizes` and number of windows `Nreps`. \n",
    "\n",
    "This version of the approach is calculating distances in feature space, following dimensionality redution (Dr). PCA is used here. \n",
    "\n",
    "Define:\n",
    "- `ncomps` : the number of dimensions to retain during Dr. \n",
    "- `dimN`: number of dimensions used to perfiorm distance calculations.\n",
    "- `metric`: metric to use in distance calculations. default= eucledian. \n",
    "\n"
   ]
  },
  {
   "cell_type": "code",
   "execution_count": 18,
   "metadata": {},
   "outputs": [
    {
     "data": {
      "text/plain": [
       "(400, 129)"
      ]
     },
     "execution_count": 18,
     "metadata": {},
     "output_type": "execute_result"
    }
   ],
   "source": [
    "from impute_tools.impute_tools_I import rand_wdDist\n",
    "\n",
    "nan_idx= 0\n",
    "nan_obs= nan_coords[nan_idx]\n",
    "nan_acc= nan_obs[0]\n",
    "nan_pos= nan_obs[1]\n",
    "\n",
    "wind_sizes= 100\n",
    "Nreps= 400\n",
    "ncomps= 5\n",
    "dimN= 2\n",
    "metric= 'euclidean'\n",
    "\n",
    "dist_store= rand_wdDist(genotype, nan_coords,\n",
    "               wind_sizes= 100,\n",
    "                Nreps= 400,\n",
    "                ncomps= 5,\n",
    "                dimN= 2,\n",
    "                metric= 'euclidean')\n",
    "dist_store.shape"
   ]
  },
  {
   "cell_type": "markdown",
   "metadata": {},
   "source": [
    "### Distance summary stats\n",
    "\n",
    "#### A. observation distance variance."
   ]
  },
  {
   "cell_type": "code",
   "execution_count": 19,
   "metadata": {},
   "outputs": [
    {
     "data": {
      "application/vnd.plotly.v1+json": {
       "config": {
        "linkText": "Export to plot.ly",
        "plotlyServerURL": "https://plot.ly",
        "showLink": false
       },
       "data": [
        {
         "type": "bar",
         "x": [
          "pop1_0",
          "pop1_1",
          "pop1_2",
          "pop1_3",
          "pop1_4",
          "pop1_5",
          "pop1_6",
          "pop1_7",
          "pop1_8",
          "pop1_9",
          "pop1_10",
          "pop1_11",
          "pop1_12",
          "pop1_13",
          "pop1_14",
          "pop1_15",
          "pop1_16",
          "pop1_17",
          "pop1_18",
          "pop1_19",
          "pop1_20",
          "pop1_21",
          "pop1_22",
          "pop1_23",
          "pop1_24",
          "pop1_25",
          "pop1_26",
          "pop1_27",
          "pop1_28",
          "pop1_29",
          "pop1_30",
          "pop1_31",
          "pop1_32",
          "pop1_33",
          "pop1_34",
          "pop1_35",
          "pop1_36",
          "pop1_37",
          "pop1_38",
          "pop1_39",
          "pop2_40",
          "pop2_41",
          "pop2_42",
          "pop2_43",
          "pop2_44",
          "pop2_45",
          "pop2_46",
          "pop2_47",
          "pop2_48",
          "pop2_49",
          "pop2_50",
          "pop2_51",
          "pop2_52",
          "pop2_53",
          "pop2_54",
          "pop2_55",
          "pop2_56",
          "pop2_57",
          "pop2_58",
          "pop2_59",
          "pop0_60",
          "pop0_61",
          "pop0_62",
          "pop0_63",
          "pop0_64",
          "pop0_65",
          "pop0_66",
          "pop0_67",
          "pop0_68",
          "pop0_69",
          "pop0_70",
          "pop0_71",
          "pop0_72",
          "pop0_73",
          "pop0_74",
          "pop0_75",
          "pop0_76",
          "pop0_77",
          "pop0_78",
          "pop0_79",
          "pop0_80",
          "pop0_81",
          "pop0_82",
          "pop0_83",
          "pop0_84",
          "pop0_85",
          "pop0_86",
          "pop0_87",
          "pop0_88",
          "pop0_89",
          "pop0_90",
          "pop0_91",
          "pop0_92",
          "pop0_93",
          "pop0_94",
          "pop0_95",
          "pop0_96",
          "pop0_97",
          "pop0_98",
          "pop0_99",
          "pop3_100",
          "pop3_101",
          "pop3_102",
          "pop3_103",
          "pop3_104",
          "pop3_105",
          "pop3_106",
          "pop3_107",
          "pop3_108",
          "pop3_109",
          "pop3_110",
          "pop3_111",
          "pop3_112",
          "pop3_113",
          "pop3_114",
          "pop3_115",
          "pop3_116",
          "pop3_117",
          "pop3_118",
          "pop3_119",
          "pop3_120",
          "pop3_121",
          "pop3_122",
          "pop3_123",
          "pop3_124",
          "pop1_125",
          "pop3_126",
          "pop3_127",
          "pop1_128",
          "pop3_129"
         ],
         "y": [
          1.531937062290123,
          1.5122663323287087,
          1.448772923667059,
          1.49333700703339,
          1.475076016656744,
          1.4832908269115743,
          1.5576614171886698,
          1.4266789966372466,
          1.5347573247707205,
          1.5042015202891372,
          1.5693759500039284,
          1.480733908398234,
          1.386732600262054,
          1.3491754211749258,
          1.4466594865381541,
          1.3670060965171276,
          1.4112025621261792,
          1.4956518230488818,
          1.5211001209155441,
          1.3943135772697646,
          1.478318006314267,
          1.377174207651543,
          1.5162825001694318,
          1.4469184288459178,
          1.4400105862608854,
          1.6464431490571059,
          1.3523191140055133,
          1.4730397902715882,
          1.3628758893680855,
          1.4086919952808405,
          1.5206555259554586,
          1.6863680418885898,
          1.4990394523205528,
          1.6768695311350488,
          1.5395053215534364,
          1.3565445631050794,
          1.5242168055868197,
          1.5099542514973372,
          1.4068607587454665,
          1.728137808782348,
          0.6021462861496896,
          0.4748626785241178,
          0.48787913678287675,
          0.4798931487764931,
          0.5388622594160634,
          0.458506047018928,
          0.5056634727948973,
          0.5076193982688263,
          0.4930829257621037,
          0.5002125761110076,
          0.5475640864553202,
          0.5279803589898453,
          0.4061517577590674,
          0.4975251987835684,
          0.5521421685477506,
          0.49415265843073475,
          0.543840667214467,
          0.5486538784188666,
          0.5371613562806006,
          1.2364844016828132,
          1.3216189583026736,
          1.1638044411991462,
          1.125005722663031,
          1.2019784758929377,
          1.3139793118889196,
          1.1620821069678602,
          1.1819824305244078,
          1.1169943810299159,
          1.359504950929537,
          1.3157073761019453,
          1.2417725763651941,
          1.1901033451327665,
          1.2804461968752736,
          1.3390579770455842,
          1.2559509628376577,
          1.2436210938373427,
          1.3151999784960824,
          1.2209765577567182,
          1.3451351811019463,
          1.2011964484863424,
          1.344056855198996,
          1.249880442572253,
          1.3663082196515208,
          1.2264090641170353,
          1.2280007937429724,
          1.2713675681364356,
          1.311753562693487,
          1.3308337845985647,
          1.27655916160833,
          1.2238712231616191,
          1.217876924380316,
          1.3495827937078468,
          1.3008772114397935,
          1.3212004161161466,
          1.238284494728474,
          1.2755670695524244,
          1.131215025814285,
          1.2473322923684829,
          1.2609515230284971,
          1.7766030873628276,
          2.156229289254377,
          1.798671582745929,
          1.8182925450720309,
          2.1162989969642685,
          3.442258249183184,
          2.314547260649777,
          1.8841285096436207,
          2.0482243667612976,
          2.4864564033792975,
          2.5373100973299705,
          1.814000148532794,
          2.2105753369014725,
          2.464975204517224,
          3.2013954610515274,
          2.510497923009568,
          1.9929665442337665,
          2.3868778412692677,
          2.2169459193687233,
          2.137847316048292,
          2.703389344134801,
          1.8899378436955006,
          2.4626965787996578,
          2.0700959103819425,
          1.9362179564799082,
          1.9227826224660696,
          1.5652804038668198,
          1.5255047017829877,
          2.137470607979977,
          1.8289614281913882
         ]
        }
       ],
       "layout": {
        "template": {
         "data": {
          "bar": [
           {
            "error_x": {
             "color": "#2a3f5f"
            },
            "error_y": {
             "color": "#2a3f5f"
            },
            "marker": {
             "line": {
              "color": "#E5ECF6",
              "width": 0.5
             }
            },
            "type": "bar"
           }
          ],
          "barpolar": [
           {
            "marker": {
             "line": {
              "color": "#E5ECF6",
              "width": 0.5
             }
            },
            "type": "barpolar"
           }
          ],
          "carpet": [
           {
            "aaxis": {
             "endlinecolor": "#2a3f5f",
             "gridcolor": "white",
             "linecolor": "white",
             "minorgridcolor": "white",
             "startlinecolor": "#2a3f5f"
            },
            "baxis": {
             "endlinecolor": "#2a3f5f",
             "gridcolor": "white",
             "linecolor": "white",
             "minorgridcolor": "white",
             "startlinecolor": "#2a3f5f"
            },
            "type": "carpet"
           }
          ],
          "choropleth": [
           {
            "colorbar": {
             "outlinewidth": 0,
             "ticks": ""
            },
            "type": "choropleth"
           }
          ],
          "contour": [
           {
            "colorbar": {
             "outlinewidth": 0,
             "ticks": ""
            },
            "colorscale": [
             [
              0,
              "#0d0887"
             ],
             [
              0.1111111111111111,
              "#46039f"
             ],
             [
              0.2222222222222222,
              "#7201a8"
             ],
             [
              0.3333333333333333,
              "#9c179e"
             ],
             [
              0.4444444444444444,
              "#bd3786"
             ],
             [
              0.5555555555555556,
              "#d8576b"
             ],
             [
              0.6666666666666666,
              "#ed7953"
             ],
             [
              0.7777777777777778,
              "#fb9f3a"
             ],
             [
              0.8888888888888888,
              "#fdca26"
             ],
             [
              1,
              "#f0f921"
             ]
            ],
            "type": "contour"
           }
          ],
          "contourcarpet": [
           {
            "colorbar": {
             "outlinewidth": 0,
             "ticks": ""
            },
            "type": "contourcarpet"
           }
          ],
          "heatmap": [
           {
            "colorbar": {
             "outlinewidth": 0,
             "ticks": ""
            },
            "colorscale": [
             [
              0,
              "#0d0887"
             ],
             [
              0.1111111111111111,
              "#46039f"
             ],
             [
              0.2222222222222222,
              "#7201a8"
             ],
             [
              0.3333333333333333,
              "#9c179e"
             ],
             [
              0.4444444444444444,
              "#bd3786"
             ],
             [
              0.5555555555555556,
              "#d8576b"
             ],
             [
              0.6666666666666666,
              "#ed7953"
             ],
             [
              0.7777777777777778,
              "#fb9f3a"
             ],
             [
              0.8888888888888888,
              "#fdca26"
             ],
             [
              1,
              "#f0f921"
             ]
            ],
            "type": "heatmap"
           }
          ],
          "heatmapgl": [
           {
            "colorbar": {
             "outlinewidth": 0,
             "ticks": ""
            },
            "colorscale": [
             [
              0,
              "#0d0887"
             ],
             [
              0.1111111111111111,
              "#46039f"
             ],
             [
              0.2222222222222222,
              "#7201a8"
             ],
             [
              0.3333333333333333,
              "#9c179e"
             ],
             [
              0.4444444444444444,
              "#bd3786"
             ],
             [
              0.5555555555555556,
              "#d8576b"
             ],
             [
              0.6666666666666666,
              "#ed7953"
             ],
             [
              0.7777777777777778,
              "#fb9f3a"
             ],
             [
              0.8888888888888888,
              "#fdca26"
             ],
             [
              1,
              "#f0f921"
             ]
            ],
            "type": "heatmapgl"
           }
          ],
          "histogram": [
           {
            "marker": {
             "colorbar": {
              "outlinewidth": 0,
              "ticks": ""
             }
            },
            "type": "histogram"
           }
          ],
          "histogram2d": [
           {
            "colorbar": {
             "outlinewidth": 0,
             "ticks": ""
            },
            "colorscale": [
             [
              0,
              "#0d0887"
             ],
             [
              0.1111111111111111,
              "#46039f"
             ],
             [
              0.2222222222222222,
              "#7201a8"
             ],
             [
              0.3333333333333333,
              "#9c179e"
             ],
             [
              0.4444444444444444,
              "#bd3786"
             ],
             [
              0.5555555555555556,
              "#d8576b"
             ],
             [
              0.6666666666666666,
              "#ed7953"
             ],
             [
              0.7777777777777778,
              "#fb9f3a"
             ],
             [
              0.8888888888888888,
              "#fdca26"
             ],
             [
              1,
              "#f0f921"
             ]
            ],
            "type": "histogram2d"
           }
          ],
          "histogram2dcontour": [
           {
            "colorbar": {
             "outlinewidth": 0,
             "ticks": ""
            },
            "colorscale": [
             [
              0,
              "#0d0887"
             ],
             [
              0.1111111111111111,
              "#46039f"
             ],
             [
              0.2222222222222222,
              "#7201a8"
             ],
             [
              0.3333333333333333,
              "#9c179e"
             ],
             [
              0.4444444444444444,
              "#bd3786"
             ],
             [
              0.5555555555555556,
              "#d8576b"
             ],
             [
              0.6666666666666666,
              "#ed7953"
             ],
             [
              0.7777777777777778,
              "#fb9f3a"
             ],
             [
              0.8888888888888888,
              "#fdca26"
             ],
             [
              1,
              "#f0f921"
             ]
            ],
            "type": "histogram2dcontour"
           }
          ],
          "mesh3d": [
           {
            "colorbar": {
             "outlinewidth": 0,
             "ticks": ""
            },
            "type": "mesh3d"
           }
          ],
          "parcoords": [
           {
            "line": {
             "colorbar": {
              "outlinewidth": 0,
              "ticks": ""
             }
            },
            "type": "parcoords"
           }
          ],
          "pie": [
           {
            "automargin": true,
            "type": "pie"
           }
          ],
          "scatter": [
           {
            "marker": {
             "colorbar": {
              "outlinewidth": 0,
              "ticks": ""
             }
            },
            "type": "scatter"
           }
          ],
          "scatter3d": [
           {
            "line": {
             "colorbar": {
              "outlinewidth": 0,
              "ticks": ""
             }
            },
            "marker": {
             "colorbar": {
              "outlinewidth": 0,
              "ticks": ""
             }
            },
            "type": "scatter3d"
           }
          ],
          "scattercarpet": [
           {
            "marker": {
             "colorbar": {
              "outlinewidth": 0,
              "ticks": ""
             }
            },
            "type": "scattercarpet"
           }
          ],
          "scattergeo": [
           {
            "marker": {
             "colorbar": {
              "outlinewidth": 0,
              "ticks": ""
             }
            },
            "type": "scattergeo"
           }
          ],
          "scattergl": [
           {
            "marker": {
             "colorbar": {
              "outlinewidth": 0,
              "ticks": ""
             }
            },
            "type": "scattergl"
           }
          ],
          "scattermapbox": [
           {
            "marker": {
             "colorbar": {
              "outlinewidth": 0,
              "ticks": ""
             }
            },
            "type": "scattermapbox"
           }
          ],
          "scatterpolar": [
           {
            "marker": {
             "colorbar": {
              "outlinewidth": 0,
              "ticks": ""
             }
            },
            "type": "scatterpolar"
           }
          ],
          "scatterpolargl": [
           {
            "marker": {
             "colorbar": {
              "outlinewidth": 0,
              "ticks": ""
             }
            },
            "type": "scatterpolargl"
           }
          ],
          "scatterternary": [
           {
            "marker": {
             "colorbar": {
              "outlinewidth": 0,
              "ticks": ""
             }
            },
            "type": "scatterternary"
           }
          ],
          "surface": [
           {
            "colorbar": {
             "outlinewidth": 0,
             "ticks": ""
            },
            "colorscale": [
             [
              0,
              "#0d0887"
             ],
             [
              0.1111111111111111,
              "#46039f"
             ],
             [
              0.2222222222222222,
              "#7201a8"
             ],
             [
              0.3333333333333333,
              "#9c179e"
             ],
             [
              0.4444444444444444,
              "#bd3786"
             ],
             [
              0.5555555555555556,
              "#d8576b"
             ],
             [
              0.6666666666666666,
              "#ed7953"
             ],
             [
              0.7777777777777778,
              "#fb9f3a"
             ],
             [
              0.8888888888888888,
              "#fdca26"
             ],
             [
              1,
              "#f0f921"
             ]
            ],
            "type": "surface"
           }
          ],
          "table": [
           {
            "cells": {
             "fill": {
              "color": "#EBF0F8"
             },
             "line": {
              "color": "white"
             }
            },
            "header": {
             "fill": {
              "color": "#C8D4E3"
             },
             "line": {
              "color": "white"
             }
            },
            "type": "table"
           }
          ]
         },
         "layout": {
          "annotationdefaults": {
           "arrowcolor": "#2a3f5f",
           "arrowhead": 0,
           "arrowwidth": 1
          },
          "coloraxis": {
           "colorbar": {
            "outlinewidth": 0,
            "ticks": ""
           }
          },
          "colorscale": {
           "diverging": [
            [
             0,
             "#8e0152"
            ],
            [
             0.1,
             "#c51b7d"
            ],
            [
             0.2,
             "#de77ae"
            ],
            [
             0.3,
             "#f1b6da"
            ],
            [
             0.4,
             "#fde0ef"
            ],
            [
             0.5,
             "#f7f7f7"
            ],
            [
             0.6,
             "#e6f5d0"
            ],
            [
             0.7,
             "#b8e186"
            ],
            [
             0.8,
             "#7fbc41"
            ],
            [
             0.9,
             "#4d9221"
            ],
            [
             1,
             "#276419"
            ]
           ],
           "sequential": [
            [
             0,
             "#0d0887"
            ],
            [
             0.1111111111111111,
             "#46039f"
            ],
            [
             0.2222222222222222,
             "#7201a8"
            ],
            [
             0.3333333333333333,
             "#9c179e"
            ],
            [
             0.4444444444444444,
             "#bd3786"
            ],
            [
             0.5555555555555556,
             "#d8576b"
            ],
            [
             0.6666666666666666,
             "#ed7953"
            ],
            [
             0.7777777777777778,
             "#fb9f3a"
            ],
            [
             0.8888888888888888,
             "#fdca26"
            ],
            [
             1,
             "#f0f921"
            ]
           ],
           "sequentialminus": [
            [
             0,
             "#0d0887"
            ],
            [
             0.1111111111111111,
             "#46039f"
            ],
            [
             0.2222222222222222,
             "#7201a8"
            ],
            [
             0.3333333333333333,
             "#9c179e"
            ],
            [
             0.4444444444444444,
             "#bd3786"
            ],
            [
             0.5555555555555556,
             "#d8576b"
            ],
            [
             0.6666666666666666,
             "#ed7953"
            ],
            [
             0.7777777777777778,
             "#fb9f3a"
            ],
            [
             0.8888888888888888,
             "#fdca26"
            ],
            [
             1,
             "#f0f921"
            ]
           ]
          },
          "colorway": [
           "#636efa",
           "#EF553B",
           "#00cc96",
           "#ab63fa",
           "#FFA15A",
           "#19d3f3",
           "#FF6692",
           "#B6E880",
           "#FF97FF",
           "#FECB52"
          ],
          "font": {
           "color": "#2a3f5f"
          },
          "geo": {
           "bgcolor": "white",
           "lakecolor": "white",
           "landcolor": "#E5ECF6",
           "showlakes": true,
           "showland": true,
           "subunitcolor": "white"
          },
          "hoverlabel": {
           "align": "left"
          },
          "hovermode": "closest",
          "mapbox": {
           "style": "light"
          },
          "paper_bgcolor": "white",
          "plot_bgcolor": "#E5ECF6",
          "polar": {
           "angularaxis": {
            "gridcolor": "white",
            "linecolor": "white",
            "ticks": ""
           },
           "bgcolor": "#E5ECF6",
           "radialaxis": {
            "gridcolor": "white",
            "linecolor": "white",
            "ticks": ""
           }
          },
          "scene": {
           "xaxis": {
            "backgroundcolor": "#E5ECF6",
            "gridcolor": "white",
            "gridwidth": 2,
            "linecolor": "white",
            "showbackground": true,
            "ticks": "",
            "zerolinecolor": "white"
           },
           "yaxis": {
            "backgroundcolor": "#E5ECF6",
            "gridcolor": "white",
            "gridwidth": 2,
            "linecolor": "white",
            "showbackground": true,
            "ticks": "",
            "zerolinecolor": "white"
           },
           "zaxis": {
            "backgroundcolor": "#E5ECF6",
            "gridcolor": "white",
            "gridwidth": 2,
            "linecolor": "white",
            "showbackground": true,
            "ticks": "",
            "zerolinecolor": "white"
           }
          },
          "shapedefaults": {
           "line": {
            "color": "#2a3f5f"
           }
          },
          "ternary": {
           "aaxis": {
            "gridcolor": "white",
            "linecolor": "white",
            "ticks": ""
           },
           "baxis": {
            "gridcolor": "white",
            "linecolor": "white",
            "ticks": ""
           },
           "bgcolor": "#E5ECF6",
           "caxis": {
            "gridcolor": "white",
            "linecolor": "white",
            "ticks": ""
           }
          },
          "title": {
           "x": 0.05
          },
          "xaxis": {
           "automargin": true,
           "gridcolor": "white",
           "linecolor": "white",
           "ticks": "",
           "title": {
            "standoff": 15
           },
           "zerolinecolor": "white",
           "zerolinewidth": 2
          },
          "yaxis": {
           "automargin": true,
           "gridcolor": "white",
           "linecolor": "white",
           "ticks": "",
           "title": {
            "standoff": 15
           },
           "zerolinecolor": "white",
           "zerolinewidth": 2
          }
         }
        }
       }
      },
      "text/html": [
       "<div>\n",
       "        \n",
       "        \n",
       "            <div id=\"de600498-4c03-4b6e-becc-c433c6c0e34d\" class=\"plotly-graph-div\" style=\"height:525px; width:100%;\"></div>\n",
       "            <script type=\"text/javascript\">\n",
       "                require([\"plotly\"], function(Plotly) {\n",
       "                    window.PLOTLYENV=window.PLOTLYENV || {};\n",
       "                    \n",
       "                if (document.getElementById(\"de600498-4c03-4b6e-becc-c433c6c0e34d\")) {\n",
       "                    Plotly.newPlot(\n",
       "                        'de600498-4c03-4b6e-becc-c433c6c0e34d',\n",
       "                        [{\"type\": \"bar\", \"x\": [\"pop1_0\", \"pop1_1\", \"pop1_2\", \"pop1_3\", \"pop1_4\", \"pop1_5\", \"pop1_6\", \"pop1_7\", \"pop1_8\", \"pop1_9\", \"pop1_10\", \"pop1_11\", \"pop1_12\", \"pop1_13\", \"pop1_14\", \"pop1_15\", \"pop1_16\", \"pop1_17\", \"pop1_18\", \"pop1_19\", \"pop1_20\", \"pop1_21\", \"pop1_22\", \"pop1_23\", \"pop1_24\", \"pop1_25\", \"pop1_26\", \"pop1_27\", \"pop1_28\", \"pop1_29\", \"pop1_30\", \"pop1_31\", \"pop1_32\", \"pop1_33\", \"pop1_34\", \"pop1_35\", \"pop1_36\", \"pop1_37\", \"pop1_38\", \"pop1_39\", \"pop2_40\", \"pop2_41\", \"pop2_42\", \"pop2_43\", \"pop2_44\", \"pop2_45\", \"pop2_46\", \"pop2_47\", \"pop2_48\", \"pop2_49\", \"pop2_50\", \"pop2_51\", \"pop2_52\", \"pop2_53\", \"pop2_54\", \"pop2_55\", \"pop2_56\", \"pop2_57\", \"pop2_58\", \"pop2_59\", \"pop0_60\", \"pop0_61\", \"pop0_62\", \"pop0_63\", \"pop0_64\", \"pop0_65\", \"pop0_66\", \"pop0_67\", \"pop0_68\", \"pop0_69\", \"pop0_70\", \"pop0_71\", \"pop0_72\", \"pop0_73\", \"pop0_74\", \"pop0_75\", \"pop0_76\", \"pop0_77\", \"pop0_78\", \"pop0_79\", \"pop0_80\", \"pop0_81\", \"pop0_82\", \"pop0_83\", \"pop0_84\", \"pop0_85\", \"pop0_86\", \"pop0_87\", \"pop0_88\", \"pop0_89\", \"pop0_90\", \"pop0_91\", \"pop0_92\", \"pop0_93\", \"pop0_94\", \"pop0_95\", \"pop0_96\", \"pop0_97\", \"pop0_98\", \"pop0_99\", \"pop3_100\", \"pop3_101\", \"pop3_102\", \"pop3_103\", \"pop3_104\", \"pop3_105\", \"pop3_106\", \"pop3_107\", \"pop3_108\", \"pop3_109\", \"pop3_110\", \"pop3_111\", \"pop3_112\", \"pop3_113\", \"pop3_114\", \"pop3_115\", \"pop3_116\", \"pop3_117\", \"pop3_118\", \"pop3_119\", \"pop3_120\", \"pop3_121\", \"pop3_122\", \"pop3_123\", \"pop3_124\", \"pop1_125\", \"pop3_126\", \"pop3_127\", \"pop1_128\", \"pop3_129\"], \"y\": [1.531937062290123, 1.5122663323287087, 1.448772923667059, 1.49333700703339, 1.475076016656744, 1.4832908269115743, 1.5576614171886698, 1.4266789966372466, 1.5347573247707205, 1.5042015202891372, 1.5693759500039284, 1.480733908398234, 1.386732600262054, 1.3491754211749258, 1.4466594865381541, 1.3670060965171276, 1.4112025621261792, 1.4956518230488818, 1.5211001209155441, 1.3943135772697646, 1.478318006314267, 1.377174207651543, 1.5162825001694318, 1.4469184288459178, 1.4400105862608854, 1.6464431490571059, 1.3523191140055133, 1.4730397902715882, 1.3628758893680855, 1.4086919952808405, 1.5206555259554586, 1.6863680418885898, 1.4990394523205528, 1.6768695311350488, 1.5395053215534364, 1.3565445631050794, 1.5242168055868197, 1.5099542514973372, 1.4068607587454665, 1.728137808782348, 0.6021462861496896, 0.4748626785241178, 0.48787913678287675, 0.4798931487764931, 0.5388622594160634, 0.458506047018928, 0.5056634727948973, 0.5076193982688263, 0.4930829257621037, 0.5002125761110076, 0.5475640864553202, 0.5279803589898453, 0.4061517577590674, 0.4975251987835684, 0.5521421685477506, 0.49415265843073475, 0.543840667214467, 0.5486538784188666, 0.5371613562806006, 1.2364844016828132, 1.3216189583026736, 1.1638044411991462, 1.125005722663031, 1.2019784758929377, 1.3139793118889196, 1.1620821069678602, 1.1819824305244078, 1.1169943810299159, 1.359504950929537, 1.3157073761019453, 1.2417725763651941, 1.1901033451327665, 1.2804461968752736, 1.3390579770455842, 1.2559509628376577, 1.2436210938373427, 1.3151999784960824, 1.2209765577567182, 1.3451351811019463, 1.2011964484863424, 1.344056855198996, 1.249880442572253, 1.3663082196515208, 1.2264090641170353, 1.2280007937429724, 1.2713675681364356, 1.311753562693487, 1.3308337845985647, 1.27655916160833, 1.2238712231616191, 1.217876924380316, 1.3495827937078468, 1.3008772114397935, 1.3212004161161466, 1.238284494728474, 1.2755670695524244, 1.131215025814285, 1.2473322923684829, 1.2609515230284971, 1.7766030873628276, 2.156229289254377, 1.798671582745929, 1.8182925450720309, 2.1162989969642685, 3.442258249183184, 2.314547260649777, 1.8841285096436207, 2.0482243667612976, 2.4864564033792975, 2.5373100973299705, 1.814000148532794, 2.2105753369014725, 2.464975204517224, 3.2013954610515274, 2.510497923009568, 1.9929665442337665, 2.3868778412692677, 2.2169459193687233, 2.137847316048292, 2.703389344134801, 1.8899378436955006, 2.4626965787996578, 2.0700959103819425, 1.9362179564799082, 1.9227826224660696, 1.5652804038668198, 1.5255047017829877, 2.137470607979977, 1.8289614281913882]}],\n",
       "                        {\"template\": {\"data\": {\"bar\": [{\"error_x\": {\"color\": \"#2a3f5f\"}, \"error_y\": {\"color\": \"#2a3f5f\"}, \"marker\": {\"line\": {\"color\": \"#E5ECF6\", \"width\": 0.5}}, \"type\": \"bar\"}], \"barpolar\": [{\"marker\": {\"line\": {\"color\": \"#E5ECF6\", \"width\": 0.5}}, \"type\": \"barpolar\"}], \"carpet\": [{\"aaxis\": {\"endlinecolor\": \"#2a3f5f\", \"gridcolor\": \"white\", \"linecolor\": \"white\", \"minorgridcolor\": \"white\", \"startlinecolor\": \"#2a3f5f\"}, \"baxis\": {\"endlinecolor\": \"#2a3f5f\", \"gridcolor\": \"white\", \"linecolor\": \"white\", \"minorgridcolor\": \"white\", \"startlinecolor\": \"#2a3f5f\"}, \"type\": \"carpet\"}], \"choropleth\": [{\"colorbar\": {\"outlinewidth\": 0, \"ticks\": \"\"}, \"type\": \"choropleth\"}], \"contour\": [{\"colorbar\": {\"outlinewidth\": 0, \"ticks\": \"\"}, \"colorscale\": [[0.0, \"#0d0887\"], [0.1111111111111111, \"#46039f\"], [0.2222222222222222, \"#7201a8\"], [0.3333333333333333, \"#9c179e\"], [0.4444444444444444, \"#bd3786\"], [0.5555555555555556, \"#d8576b\"], [0.6666666666666666, \"#ed7953\"], [0.7777777777777778, \"#fb9f3a\"], [0.8888888888888888, \"#fdca26\"], [1.0, \"#f0f921\"]], \"type\": \"contour\"}], \"contourcarpet\": [{\"colorbar\": {\"outlinewidth\": 0, \"ticks\": \"\"}, \"type\": \"contourcarpet\"}], \"heatmap\": [{\"colorbar\": {\"outlinewidth\": 0, \"ticks\": \"\"}, \"colorscale\": [[0.0, \"#0d0887\"], [0.1111111111111111, \"#46039f\"], [0.2222222222222222, \"#7201a8\"], [0.3333333333333333, \"#9c179e\"], [0.4444444444444444, \"#bd3786\"], [0.5555555555555556, \"#d8576b\"], [0.6666666666666666, \"#ed7953\"], [0.7777777777777778, \"#fb9f3a\"], [0.8888888888888888, \"#fdca26\"], [1.0, \"#f0f921\"]], \"type\": \"heatmap\"}], \"heatmapgl\": [{\"colorbar\": {\"outlinewidth\": 0, \"ticks\": \"\"}, \"colorscale\": [[0.0, \"#0d0887\"], [0.1111111111111111, \"#46039f\"], [0.2222222222222222, \"#7201a8\"], [0.3333333333333333, \"#9c179e\"], [0.4444444444444444, \"#bd3786\"], [0.5555555555555556, \"#d8576b\"], [0.6666666666666666, \"#ed7953\"], [0.7777777777777778, \"#fb9f3a\"], [0.8888888888888888, \"#fdca26\"], [1.0, \"#f0f921\"]], \"type\": \"heatmapgl\"}], \"histogram\": [{\"marker\": {\"colorbar\": {\"outlinewidth\": 0, \"ticks\": \"\"}}, \"type\": \"histogram\"}], \"histogram2d\": [{\"colorbar\": {\"outlinewidth\": 0, \"ticks\": \"\"}, \"colorscale\": [[0.0, \"#0d0887\"], [0.1111111111111111, \"#46039f\"], [0.2222222222222222, \"#7201a8\"], [0.3333333333333333, \"#9c179e\"], [0.4444444444444444, \"#bd3786\"], [0.5555555555555556, \"#d8576b\"], [0.6666666666666666, \"#ed7953\"], [0.7777777777777778, \"#fb9f3a\"], [0.8888888888888888, \"#fdca26\"], [1.0, \"#f0f921\"]], \"type\": \"histogram2d\"}], \"histogram2dcontour\": [{\"colorbar\": {\"outlinewidth\": 0, \"ticks\": \"\"}, \"colorscale\": [[0.0, \"#0d0887\"], [0.1111111111111111, \"#46039f\"], [0.2222222222222222, \"#7201a8\"], [0.3333333333333333, \"#9c179e\"], [0.4444444444444444, \"#bd3786\"], [0.5555555555555556, \"#d8576b\"], [0.6666666666666666, \"#ed7953\"], [0.7777777777777778, \"#fb9f3a\"], [0.8888888888888888, \"#fdca26\"], [1.0, \"#f0f921\"]], \"type\": \"histogram2dcontour\"}], \"mesh3d\": [{\"colorbar\": {\"outlinewidth\": 0, \"ticks\": \"\"}, \"type\": \"mesh3d\"}], \"parcoords\": [{\"line\": {\"colorbar\": {\"outlinewidth\": 0, \"ticks\": \"\"}}, \"type\": \"parcoords\"}], \"pie\": [{\"automargin\": true, \"type\": \"pie\"}], \"scatter\": [{\"marker\": {\"colorbar\": {\"outlinewidth\": 0, \"ticks\": \"\"}}, \"type\": \"scatter\"}], \"scatter3d\": [{\"line\": {\"colorbar\": {\"outlinewidth\": 0, \"ticks\": \"\"}}, \"marker\": {\"colorbar\": {\"outlinewidth\": 0, \"ticks\": \"\"}}, \"type\": \"scatter3d\"}], \"scattercarpet\": [{\"marker\": {\"colorbar\": {\"outlinewidth\": 0, \"ticks\": \"\"}}, \"type\": \"scattercarpet\"}], \"scattergeo\": [{\"marker\": {\"colorbar\": {\"outlinewidth\": 0, \"ticks\": \"\"}}, \"type\": \"scattergeo\"}], \"scattergl\": [{\"marker\": {\"colorbar\": {\"outlinewidth\": 0, \"ticks\": \"\"}}, \"type\": \"scattergl\"}], \"scattermapbox\": [{\"marker\": {\"colorbar\": {\"outlinewidth\": 0, \"ticks\": \"\"}}, \"type\": \"scattermapbox\"}], \"scatterpolar\": [{\"marker\": {\"colorbar\": {\"outlinewidth\": 0, \"ticks\": \"\"}}, \"type\": \"scatterpolar\"}], \"scatterpolargl\": [{\"marker\": {\"colorbar\": {\"outlinewidth\": 0, \"ticks\": \"\"}}, \"type\": \"scatterpolargl\"}], \"scatterternary\": [{\"marker\": {\"colorbar\": {\"outlinewidth\": 0, \"ticks\": \"\"}}, \"type\": \"scatterternary\"}], \"surface\": [{\"colorbar\": {\"outlinewidth\": 0, \"ticks\": \"\"}, \"colorscale\": [[0.0, \"#0d0887\"], [0.1111111111111111, \"#46039f\"], [0.2222222222222222, \"#7201a8\"], [0.3333333333333333, \"#9c179e\"], [0.4444444444444444, \"#bd3786\"], [0.5555555555555556, \"#d8576b\"], [0.6666666666666666, \"#ed7953\"], [0.7777777777777778, \"#fb9f3a\"], [0.8888888888888888, \"#fdca26\"], [1.0, \"#f0f921\"]], \"type\": \"surface\"}], \"table\": [{\"cells\": {\"fill\": {\"color\": \"#EBF0F8\"}, \"line\": {\"color\": \"white\"}}, \"header\": {\"fill\": {\"color\": \"#C8D4E3\"}, \"line\": {\"color\": \"white\"}}, \"type\": \"table\"}]}, \"layout\": {\"annotationdefaults\": {\"arrowcolor\": \"#2a3f5f\", \"arrowhead\": 0, \"arrowwidth\": 1}, \"coloraxis\": {\"colorbar\": {\"outlinewidth\": 0, \"ticks\": \"\"}}, \"colorscale\": {\"diverging\": [[0, \"#8e0152\"], [0.1, \"#c51b7d\"], [0.2, \"#de77ae\"], [0.3, \"#f1b6da\"], [0.4, \"#fde0ef\"], [0.5, \"#f7f7f7\"], [0.6, \"#e6f5d0\"], [0.7, \"#b8e186\"], [0.8, \"#7fbc41\"], [0.9, \"#4d9221\"], [1, \"#276419\"]], \"sequential\": [[0.0, \"#0d0887\"], [0.1111111111111111, \"#46039f\"], [0.2222222222222222, \"#7201a8\"], [0.3333333333333333, \"#9c179e\"], [0.4444444444444444, \"#bd3786\"], [0.5555555555555556, \"#d8576b\"], [0.6666666666666666, \"#ed7953\"], [0.7777777777777778, \"#fb9f3a\"], [0.8888888888888888, \"#fdca26\"], [1.0, \"#f0f921\"]], \"sequentialminus\": [[0.0, \"#0d0887\"], [0.1111111111111111, \"#46039f\"], [0.2222222222222222, \"#7201a8\"], [0.3333333333333333, \"#9c179e\"], [0.4444444444444444, \"#bd3786\"], [0.5555555555555556, \"#d8576b\"], [0.6666666666666666, \"#ed7953\"], [0.7777777777777778, \"#fb9f3a\"], [0.8888888888888888, \"#fdca26\"], [1.0, \"#f0f921\"]]}, \"colorway\": [\"#636efa\", \"#EF553B\", \"#00cc96\", \"#ab63fa\", \"#FFA15A\", \"#19d3f3\", \"#FF6692\", \"#B6E880\", \"#FF97FF\", \"#FECB52\"], \"font\": {\"color\": \"#2a3f5f\"}, \"geo\": {\"bgcolor\": \"white\", \"lakecolor\": \"white\", \"landcolor\": \"#E5ECF6\", \"showlakes\": true, \"showland\": true, \"subunitcolor\": \"white\"}, \"hoverlabel\": {\"align\": \"left\"}, \"hovermode\": \"closest\", \"mapbox\": {\"style\": \"light\"}, \"paper_bgcolor\": \"white\", \"plot_bgcolor\": \"#E5ECF6\", \"polar\": {\"angularaxis\": {\"gridcolor\": \"white\", \"linecolor\": \"white\", \"ticks\": \"\"}, \"bgcolor\": \"#E5ECF6\", \"radialaxis\": {\"gridcolor\": \"white\", \"linecolor\": \"white\", \"ticks\": \"\"}}, \"scene\": {\"xaxis\": {\"backgroundcolor\": \"#E5ECF6\", \"gridcolor\": \"white\", \"gridwidth\": 2, \"linecolor\": \"white\", \"showbackground\": true, \"ticks\": \"\", \"zerolinecolor\": \"white\"}, \"yaxis\": {\"backgroundcolor\": \"#E5ECF6\", \"gridcolor\": \"white\", \"gridwidth\": 2, \"linecolor\": \"white\", \"showbackground\": true, \"ticks\": \"\", \"zerolinecolor\": \"white\"}, \"zaxis\": {\"backgroundcolor\": \"#E5ECF6\", \"gridcolor\": \"white\", \"gridwidth\": 2, \"linecolor\": \"white\", \"showbackground\": true, \"ticks\": \"\", \"zerolinecolor\": \"white\"}}, \"shapedefaults\": {\"line\": {\"color\": \"#2a3f5f\"}}, \"ternary\": {\"aaxis\": {\"gridcolor\": \"white\", \"linecolor\": \"white\", \"ticks\": \"\"}, \"baxis\": {\"gridcolor\": \"white\", \"linecolor\": \"white\", \"ticks\": \"\"}, \"bgcolor\": \"#E5ECF6\", \"caxis\": {\"gridcolor\": \"white\", \"linecolor\": \"white\", \"ticks\": \"\"}}, \"title\": {\"x\": 0.05}, \"xaxis\": {\"automargin\": true, \"gridcolor\": \"white\", \"linecolor\": \"white\", \"ticks\": \"\", \"title\": {\"standoff\": 15}, \"zerolinecolor\": \"white\", \"zerolinewidth\": 2}, \"yaxis\": {\"automargin\": true, \"gridcolor\": \"white\", \"linecolor\": \"white\", \"ticks\": \"\", \"title\": {\"standoff\": 15}, \"zerolinecolor\": \"white\", \"zerolinewidth\": 2}}}},\n",
       "                        {\"responsive\": true}\n",
       "                    ).then(function(){\n",
       "                            \n",
       "var gd = document.getElementById('de600498-4c03-4b6e-becc-c433c6c0e34d');\n",
       "var x = new MutationObserver(function (mutations, observer) {{\n",
       "        var display = window.getComputedStyle(gd).display;\n",
       "        if (!display || display === 'none') {{\n",
       "            console.log([gd, 'removed!']);\n",
       "            Plotly.purge(gd);\n",
       "            observer.disconnect();\n",
       "        }}\n",
       "}});\n",
       "\n",
       "// Listen for the removal of the full notebook cells\n",
       "var notebookContainer = gd.closest('#notebook-container');\n",
       "if (notebookContainer) {{\n",
       "    x.observe(notebookContainer, {childList: true});\n",
       "}}\n",
       "\n",
       "// Listen for the clearing of the current output cell\n",
       "var outputEl = gd.closest('.output');\n",
       "if (outputEl) {{\n",
       "    x.observe(outputEl, {childList: true});\n",
       "}}\n",
       "\n",
       "                        })\n",
       "                };\n",
       "                });\n",
       "            </script>\n",
       "        </div>"
      ]
     },
     "metadata": {},
     "output_type": "display_data"
    }
   ],
   "source": [
    "\n",
    "dist_var= np.std(dist_store,axis= 0)**2\n",
    "who_plot= [x for x in range(len(label_vector)) if label_vector[x] in [0,1,2,3]]\n",
    "idvector= ['pop{}_{}'.format(label_vector[x],Whose[x]) for x in who_plot]\n",
    "\n",
    "fig = go.Figure([go.Bar(\n",
    "    x=idvector, y=dist_var\n",
    ")])\n",
    "layout= go.Layout()\n",
    "\n",
    "Figure= go.Figure(data= fig, layout= layout)\n",
    "iplot(Figure)\n"
   ]
  },
  {
   "cell_type": "markdown",
   "metadata": {},
   "source": [
    "#### B. Coordinates at local window.\n",
    "\n",
    "Dimensionality reduction of features surrounding missing call. Nfeatures=  wind_sizes.\n",
    "\n",
    "Coordinates of observation with missing data indicated with red circle.\n",
    "\n"
   ]
  },
  {
   "cell_type": "code",
   "execution_count": 20,
   "metadata": {},
   "outputs": [
    {
     "data": {
      "application/vnd.plotly.v1+json": {
       "config": {
        "linkText": "Export to plot.ly",
        "plotlyServerURL": "https://plot.ly",
        "showLink": false
       },
       "data": [
        {
         "mode": "markers",
         "name": "0",
         "type": "scatter",
         "x": [
          3.445574481375933,
          2.863857011774429,
          3.866887209912928,
          2.932665671822504,
          3.425689708701257,
          3.725042716476828,
          3.85042873130433,
          4.336930881102006,
          3.1624941489392753,
          3.962170681675321,
          3.7313913282998867,
          3.581306171455651,
          2.8765747093159604,
          1.6331246827093906,
          3.6266282401255663,
          2.7869491892633698,
          2.7590623765701934,
          3.5895404336973904,
          3.7552446930290753,
          3.7658300022386695,
          2.8671857561339507,
          3.548954032100013,
          3.577302370420785,
          4.200382676921275,
          4.071831592711339,
          3.0125241785585297,
          4.423254704337569,
          2.411450742049884,
          2.8355591724665574,
          1.558804489709674,
          3.6732219477841266,
          3.4316311790666987,
          3.03315167441259,
          2.995361327270493,
          3.8601377220386026,
          3.8681738739015095,
          4.050199853524352,
          3.2778952852329435,
          3.600291901470926,
          2.9871241333214615
         ],
         "y": [
          0.6805898880727538,
          0.8039022661085495,
          -0.31013859359932494,
          0.02239852991407296,
          0.26781735854283745,
          -0.11414695300252196,
          0.6072901713396802,
          0.20550959564761637,
          -0.08084815065207356,
          -0.019368666894963943,
          1.7444088906297557,
          -0.15564759535963985,
          -0.9820443059633468,
          -0.24377233395255235,
          -0.8190902787245985,
          1.0344973318785107,
          0.23233077237971697,
          -0.15677041851809267,
          -0.49109357829549743,
          1.0166115674381866,
          -0.19498951686067692,
          -0.5120990801814447,
          0.2600286536546371,
          0.4381412860588638,
          0.5979071625600343,
          -0.29768064102754577,
          -0.019980310054539038,
          0.4326587327677559,
          0.7896895835572884,
          -0.23714241340427478,
          -2.0773686248685332,
          -0.3679736863687854,
          0.42279998921288264,
          0.8120981431295042,
          -0.5973274619015538,
          -2.6442949407166836,
          -0.969824773800961,
          -1.5727067695695336,
          0.5977441551306417,
          0.1331554089920269
         ]
        },
        {
         "mode": "markers",
         "name": "1",
         "type": "scatter",
         "x": [
          -0.588467708450443,
          -2.425075704185392,
          -2.009415193884924,
          -1.744169862303973,
          -0.8409543996120973,
          -2.275617154821654,
          -0.5031756243017333,
          -1.5249671970828702,
          -2.418349800960872,
          -1.518728289734464,
          -1.4637165642323358,
          -0.6691509585936343,
          -2.7599519190657973,
          -2.9989250397338165,
          -2.8336099227066693,
          -2.2209592485343475,
          -2.4211158259705643,
          -2.1156755282676367,
          -2.727099125304905,
          -2.6862147629295046,
          -0.037543567271809464,
          -1.659271984622597,
          -2.5936522037035905,
          -3.2653655426825328,
          -1.9350398765222576,
          -1.4640653463717377,
          -2.5923096487877575,
          -2.8596495934838204,
          -2.3073013499728554,
          -2.0903224196795875,
          -1.5753189977485704,
          -2.2605506269082016,
          -1.5948597438952317,
          -2.489906926622773,
          -2.9449068543738615,
          -2.130496048757374,
          -3.0957527428243963,
          -3.3093968321048495,
          -1.7279427507460992,
          -1.4876561196173512,
          -2.52235454817066,
          -2.6001170959695292
         ],
         "y": [
          -2.0233867591993118,
          -0.23308883713685716,
          -2.8677311783669235,
          -0.45875611897643825,
          -1.5757799621584274,
          0.10328799153443304,
          -0.008132532125952911,
          -2.0759263045566776,
          -1.7572175755054753,
          -0.9291078513979568,
          -1.680638418318223,
          1.4036588573342608,
          -1.7454047533591421,
          -1.9579294368874125,
          -0.7514747102203199,
          -0.672576213746819,
          -1.0072660029786673,
          -2.9790798922315984,
          -2.6480509682835556,
          -1.9812367862299964,
          -0.9657295868515527,
          -3.3333311817890805,
          -1.767950658111273,
          -1.7952670841901253,
          -2.1873207328035265,
          -1.3747772093443789,
          -0.418548089865425,
          -0.5862049224626714,
          -0.5988073559395417,
          -0.12910608967455323,
          -0.9791152609386109,
          -1.3916758283418325,
          -0.36012549611466727,
          -1.277736768695488,
          -0.7162867622637535,
          -0.9505977727641176,
          -1.1883741048631573,
          -1.626531127772757,
          -0.9918646331045013,
          -2.4313065844317663,
          -0.29000716110382646,
          2.0315891329699554
         ]
        },
        {
         "mode": "markers",
         "name": "2",
         "type": "scatter",
         "x": [
          -0.5204137140343036,
          -2.843528704065343,
          -1.9523750352562317,
          -2.3940604387863873,
          -2.1043744622458322,
          -1.1473995389720693,
          -3.246537134337062,
          -1.9524285389116351,
          -2.6570690516380093,
          -1.2548436622456525,
          -1.6949622519645284,
          -0.9597586065683711,
          -2.910313436436997,
          -1.8754044420531415,
          -1.1731941280396445,
          -2.0303511885516867,
          -1.912775259714973,
          -1.5184976231964673,
          -2.6445348754798217,
          -0.3261257510824772
         ],
         "y": [
          4.499745491003538,
          3.165287496883781,
          2.5610001299207164,
          3.5777857801903634,
          3.1818519826232383,
          2.8376595659738797,
          3.5571910091071723,
          2.918174057036131,
          3.753983142225423,
          3.4714529166534085,
          2.7615994256229737,
          2.23889433858673,
          2.9729876195093334,
          3.9461426367237324,
          3.2464404465989904,
          1.2886014359081899,
          3.971508540371282,
          3.829525170810342,
          3.5196150472208076,
          4.086200710833192
         ]
        },
        {
         "mode": "markers",
         "name": "3",
         "type": "scatter",
         "x": [
          1.6674208909592927,
          0.010503140396949691,
          4.120963512124205,
          0.10350505526920574,
          3.6354013199398976,
          -2.2958521681770425,
          1.210756479411488,
          -0.3336104099919142,
          -2.2625455317280343,
          3.524143895315713,
          3.079365721807298,
          -0.8191894257537885,
          -1.2875509235103784,
          -0.22084004369299115,
          -1.360392922117264,
          -2.1220509650562493,
          3.8151830544878553,
          -2.4507839409448358,
          -2.3684514034680997,
          -2.8142587719190524,
          -2.1230858532518897,
          -2.531984839271786,
          -3.044146903499509,
          3.3263867177778472,
          -3.5223502210430486,
          -2.381138192074775,
          -2.0308478562626258,
          -1.0783126038540105
         ],
         "y": [
          0.7162981045831687,
          -0.3575299506525828,
          -0.949158126612051,
          -0.20701605264119113,
          -0.27819774825799826,
          -1.2624299452839676,
          0.48121802753354115,
          0.6947487124496449,
          -2.0231515028744522,
          -1.1867887911271453,
          -1.1984613417575165,
          1.2213576294858457,
          0.38418845026425136,
          0.5150955660262727,
          1.4493596263154913,
          -0.8904018677643302,
          -0.38189846787409176,
          -1.0171228306075102,
          -1.0858406328230035,
          -0.3186101671401287,
          -0.9641319506962814,
          -1.7676299769157846,
          -1.832768268460767,
          0.5103881274419099,
          -1.5972656070897269,
          -0.19499126956621302,
          -1.252076446550308,
          -1.6531879052387832
         ]
        },
        {
         "marker": {
          "color": "rgba(135, 206, 250, 0)",
          "line": {
           "color": "red",
           "width": 5
          },
          "opacity": 1,
          "size": 25
         },
         "mode": "markers",
         "showlegend": false,
         "type": "scatter",
         "x": [
          -2.843528704065343
         ],
         "y": [
          3.165287496883781
         ]
        }
       ],
       "layout": {
        "template": {
         "data": {
          "bar": [
           {
            "error_x": {
             "color": "#2a3f5f"
            },
            "error_y": {
             "color": "#2a3f5f"
            },
            "marker": {
             "line": {
              "color": "#E5ECF6",
              "width": 0.5
             }
            },
            "type": "bar"
           }
          ],
          "barpolar": [
           {
            "marker": {
             "line": {
              "color": "#E5ECF6",
              "width": 0.5
             }
            },
            "type": "barpolar"
           }
          ],
          "carpet": [
           {
            "aaxis": {
             "endlinecolor": "#2a3f5f",
             "gridcolor": "white",
             "linecolor": "white",
             "minorgridcolor": "white",
             "startlinecolor": "#2a3f5f"
            },
            "baxis": {
             "endlinecolor": "#2a3f5f",
             "gridcolor": "white",
             "linecolor": "white",
             "minorgridcolor": "white",
             "startlinecolor": "#2a3f5f"
            },
            "type": "carpet"
           }
          ],
          "choropleth": [
           {
            "colorbar": {
             "outlinewidth": 0,
             "ticks": ""
            },
            "type": "choropleth"
           }
          ],
          "contour": [
           {
            "colorbar": {
             "outlinewidth": 0,
             "ticks": ""
            },
            "colorscale": [
             [
              0,
              "#0d0887"
             ],
             [
              0.1111111111111111,
              "#46039f"
             ],
             [
              0.2222222222222222,
              "#7201a8"
             ],
             [
              0.3333333333333333,
              "#9c179e"
             ],
             [
              0.4444444444444444,
              "#bd3786"
             ],
             [
              0.5555555555555556,
              "#d8576b"
             ],
             [
              0.6666666666666666,
              "#ed7953"
             ],
             [
              0.7777777777777778,
              "#fb9f3a"
             ],
             [
              0.8888888888888888,
              "#fdca26"
             ],
             [
              1,
              "#f0f921"
             ]
            ],
            "type": "contour"
           }
          ],
          "contourcarpet": [
           {
            "colorbar": {
             "outlinewidth": 0,
             "ticks": ""
            },
            "type": "contourcarpet"
           }
          ],
          "heatmap": [
           {
            "colorbar": {
             "outlinewidth": 0,
             "ticks": ""
            },
            "colorscale": [
             [
              0,
              "#0d0887"
             ],
             [
              0.1111111111111111,
              "#46039f"
             ],
             [
              0.2222222222222222,
              "#7201a8"
             ],
             [
              0.3333333333333333,
              "#9c179e"
             ],
             [
              0.4444444444444444,
              "#bd3786"
             ],
             [
              0.5555555555555556,
              "#d8576b"
             ],
             [
              0.6666666666666666,
              "#ed7953"
             ],
             [
              0.7777777777777778,
              "#fb9f3a"
             ],
             [
              0.8888888888888888,
              "#fdca26"
             ],
             [
              1,
              "#f0f921"
             ]
            ],
            "type": "heatmap"
           }
          ],
          "heatmapgl": [
           {
            "colorbar": {
             "outlinewidth": 0,
             "ticks": ""
            },
            "colorscale": [
             [
              0,
              "#0d0887"
             ],
             [
              0.1111111111111111,
              "#46039f"
             ],
             [
              0.2222222222222222,
              "#7201a8"
             ],
             [
              0.3333333333333333,
              "#9c179e"
             ],
             [
              0.4444444444444444,
              "#bd3786"
             ],
             [
              0.5555555555555556,
              "#d8576b"
             ],
             [
              0.6666666666666666,
              "#ed7953"
             ],
             [
              0.7777777777777778,
              "#fb9f3a"
             ],
             [
              0.8888888888888888,
              "#fdca26"
             ],
             [
              1,
              "#f0f921"
             ]
            ],
            "type": "heatmapgl"
           }
          ],
          "histogram": [
           {
            "marker": {
             "colorbar": {
              "outlinewidth": 0,
              "ticks": ""
             }
            },
            "type": "histogram"
           }
          ],
          "histogram2d": [
           {
            "colorbar": {
             "outlinewidth": 0,
             "ticks": ""
            },
            "colorscale": [
             [
              0,
              "#0d0887"
             ],
             [
              0.1111111111111111,
              "#46039f"
             ],
             [
              0.2222222222222222,
              "#7201a8"
             ],
             [
              0.3333333333333333,
              "#9c179e"
             ],
             [
              0.4444444444444444,
              "#bd3786"
             ],
             [
              0.5555555555555556,
              "#d8576b"
             ],
             [
              0.6666666666666666,
              "#ed7953"
             ],
             [
              0.7777777777777778,
              "#fb9f3a"
             ],
             [
              0.8888888888888888,
              "#fdca26"
             ],
             [
              1,
              "#f0f921"
             ]
            ],
            "type": "histogram2d"
           }
          ],
          "histogram2dcontour": [
           {
            "colorbar": {
             "outlinewidth": 0,
             "ticks": ""
            },
            "colorscale": [
             [
              0,
              "#0d0887"
             ],
             [
              0.1111111111111111,
              "#46039f"
             ],
             [
              0.2222222222222222,
              "#7201a8"
             ],
             [
              0.3333333333333333,
              "#9c179e"
             ],
             [
              0.4444444444444444,
              "#bd3786"
             ],
             [
              0.5555555555555556,
              "#d8576b"
             ],
             [
              0.6666666666666666,
              "#ed7953"
             ],
             [
              0.7777777777777778,
              "#fb9f3a"
             ],
             [
              0.8888888888888888,
              "#fdca26"
             ],
             [
              1,
              "#f0f921"
             ]
            ],
            "type": "histogram2dcontour"
           }
          ],
          "mesh3d": [
           {
            "colorbar": {
             "outlinewidth": 0,
             "ticks": ""
            },
            "type": "mesh3d"
           }
          ],
          "parcoords": [
           {
            "line": {
             "colorbar": {
              "outlinewidth": 0,
              "ticks": ""
             }
            },
            "type": "parcoords"
           }
          ],
          "pie": [
           {
            "automargin": true,
            "type": "pie"
           }
          ],
          "scatter": [
           {
            "marker": {
             "colorbar": {
              "outlinewidth": 0,
              "ticks": ""
             }
            },
            "type": "scatter"
           }
          ],
          "scatter3d": [
           {
            "line": {
             "colorbar": {
              "outlinewidth": 0,
              "ticks": ""
             }
            },
            "marker": {
             "colorbar": {
              "outlinewidth": 0,
              "ticks": ""
             }
            },
            "type": "scatter3d"
           }
          ],
          "scattercarpet": [
           {
            "marker": {
             "colorbar": {
              "outlinewidth": 0,
              "ticks": ""
             }
            },
            "type": "scattercarpet"
           }
          ],
          "scattergeo": [
           {
            "marker": {
             "colorbar": {
              "outlinewidth": 0,
              "ticks": ""
             }
            },
            "type": "scattergeo"
           }
          ],
          "scattergl": [
           {
            "marker": {
             "colorbar": {
              "outlinewidth": 0,
              "ticks": ""
             }
            },
            "type": "scattergl"
           }
          ],
          "scattermapbox": [
           {
            "marker": {
             "colorbar": {
              "outlinewidth": 0,
              "ticks": ""
             }
            },
            "type": "scattermapbox"
           }
          ],
          "scatterpolar": [
           {
            "marker": {
             "colorbar": {
              "outlinewidth": 0,
              "ticks": ""
             }
            },
            "type": "scatterpolar"
           }
          ],
          "scatterpolargl": [
           {
            "marker": {
             "colorbar": {
              "outlinewidth": 0,
              "ticks": ""
             }
            },
            "type": "scatterpolargl"
           }
          ],
          "scatterternary": [
           {
            "marker": {
             "colorbar": {
              "outlinewidth": 0,
              "ticks": ""
             }
            },
            "type": "scatterternary"
           }
          ],
          "surface": [
           {
            "colorbar": {
             "outlinewidth": 0,
             "ticks": ""
            },
            "colorscale": [
             [
              0,
              "#0d0887"
             ],
             [
              0.1111111111111111,
              "#46039f"
             ],
             [
              0.2222222222222222,
              "#7201a8"
             ],
             [
              0.3333333333333333,
              "#9c179e"
             ],
             [
              0.4444444444444444,
              "#bd3786"
             ],
             [
              0.5555555555555556,
              "#d8576b"
             ],
             [
              0.6666666666666666,
              "#ed7953"
             ],
             [
              0.7777777777777778,
              "#fb9f3a"
             ],
             [
              0.8888888888888888,
              "#fdca26"
             ],
             [
              1,
              "#f0f921"
             ]
            ],
            "type": "surface"
           }
          ],
          "table": [
           {
            "cells": {
             "fill": {
              "color": "#EBF0F8"
             },
             "line": {
              "color": "white"
             }
            },
            "header": {
             "fill": {
              "color": "#C8D4E3"
             },
             "line": {
              "color": "white"
             }
            },
            "type": "table"
           }
          ]
         },
         "layout": {
          "annotationdefaults": {
           "arrowcolor": "#2a3f5f",
           "arrowhead": 0,
           "arrowwidth": 1
          },
          "coloraxis": {
           "colorbar": {
            "outlinewidth": 0,
            "ticks": ""
           }
          },
          "colorscale": {
           "diverging": [
            [
             0,
             "#8e0152"
            ],
            [
             0.1,
             "#c51b7d"
            ],
            [
             0.2,
             "#de77ae"
            ],
            [
             0.3,
             "#f1b6da"
            ],
            [
             0.4,
             "#fde0ef"
            ],
            [
             0.5,
             "#f7f7f7"
            ],
            [
             0.6,
             "#e6f5d0"
            ],
            [
             0.7,
             "#b8e186"
            ],
            [
             0.8,
             "#7fbc41"
            ],
            [
             0.9,
             "#4d9221"
            ],
            [
             1,
             "#276419"
            ]
           ],
           "sequential": [
            [
             0,
             "#0d0887"
            ],
            [
             0.1111111111111111,
             "#46039f"
            ],
            [
             0.2222222222222222,
             "#7201a8"
            ],
            [
             0.3333333333333333,
             "#9c179e"
            ],
            [
             0.4444444444444444,
             "#bd3786"
            ],
            [
             0.5555555555555556,
             "#d8576b"
            ],
            [
             0.6666666666666666,
             "#ed7953"
            ],
            [
             0.7777777777777778,
             "#fb9f3a"
            ],
            [
             0.8888888888888888,
             "#fdca26"
            ],
            [
             1,
             "#f0f921"
            ]
           ],
           "sequentialminus": [
            [
             0,
             "#0d0887"
            ],
            [
             0.1111111111111111,
             "#46039f"
            ],
            [
             0.2222222222222222,
             "#7201a8"
            ],
            [
             0.3333333333333333,
             "#9c179e"
            ],
            [
             0.4444444444444444,
             "#bd3786"
            ],
            [
             0.5555555555555556,
             "#d8576b"
            ],
            [
             0.6666666666666666,
             "#ed7953"
            ],
            [
             0.7777777777777778,
             "#fb9f3a"
            ],
            [
             0.8888888888888888,
             "#fdca26"
            ],
            [
             1,
             "#f0f921"
            ]
           ]
          },
          "colorway": [
           "#636efa",
           "#EF553B",
           "#00cc96",
           "#ab63fa",
           "#FFA15A",
           "#19d3f3",
           "#FF6692",
           "#B6E880",
           "#FF97FF",
           "#FECB52"
          ],
          "font": {
           "color": "#2a3f5f"
          },
          "geo": {
           "bgcolor": "white",
           "lakecolor": "white",
           "landcolor": "#E5ECF6",
           "showlakes": true,
           "showland": true,
           "subunitcolor": "white"
          },
          "hoverlabel": {
           "align": "left"
          },
          "hovermode": "closest",
          "mapbox": {
           "style": "light"
          },
          "paper_bgcolor": "white",
          "plot_bgcolor": "#E5ECF6",
          "polar": {
           "angularaxis": {
            "gridcolor": "white",
            "linecolor": "white",
            "ticks": ""
           },
           "bgcolor": "#E5ECF6",
           "radialaxis": {
            "gridcolor": "white",
            "linecolor": "white",
            "ticks": ""
           }
          },
          "scene": {
           "xaxis": {
            "backgroundcolor": "#E5ECF6",
            "gridcolor": "white",
            "gridwidth": 2,
            "linecolor": "white",
            "showbackground": true,
            "ticks": "",
            "zerolinecolor": "white"
           },
           "yaxis": {
            "backgroundcolor": "#E5ECF6",
            "gridcolor": "white",
            "gridwidth": 2,
            "linecolor": "white",
            "showbackground": true,
            "ticks": "",
            "zerolinecolor": "white"
           },
           "zaxis": {
            "backgroundcolor": "#E5ECF6",
            "gridcolor": "white",
            "gridwidth": 2,
            "linecolor": "white",
            "showbackground": true,
            "ticks": "",
            "zerolinecolor": "white"
           }
          },
          "shapedefaults": {
           "line": {
            "color": "#2a3f5f"
           }
          },
          "ternary": {
           "aaxis": {
            "gridcolor": "white",
            "linecolor": "white",
            "ticks": ""
           },
           "baxis": {
            "gridcolor": "white",
            "linecolor": "white",
            "ticks": ""
           },
           "bgcolor": "#E5ECF6",
           "caxis": {
            "gridcolor": "white",
            "linecolor": "white",
            "ticks": ""
           }
          },
          "title": {
           "x": 0.05
          },
          "xaxis": {
           "automargin": true,
           "gridcolor": "white",
           "linecolor": "white",
           "ticks": "",
           "title": {
            "standoff": 15
           },
           "zerolinecolor": "white",
           "zerolinewidth": 2
          },
          "yaxis": {
           "automargin": true,
           "gridcolor": "white",
           "linecolor": "white",
           "ticks": "",
           "title": {
            "standoff": 15
           },
           "zerolinecolor": "white",
           "zerolinewidth": 2
          }
         }
        }
       }
      },
      "text/html": [
       "<div>\n",
       "        \n",
       "        \n",
       "            <div id=\"2e87edc4-6977-45af-b25f-911ec4890d36\" class=\"plotly-graph-div\" style=\"height:525px; width:100%;\"></div>\n",
       "            <script type=\"text/javascript\">\n",
       "                require([\"plotly\"], function(Plotly) {\n",
       "                    window.PLOTLYENV=window.PLOTLYENV || {};\n",
       "                    \n",
       "                if (document.getElementById(\"2e87edc4-6977-45af-b25f-911ec4890d36\")) {\n",
       "                    Plotly.newPlot(\n",
       "                        '2e87edc4-6977-45af-b25f-911ec4890d36',\n",
       "                        [{\"mode\": \"markers\", \"name\": \"0\", \"type\": \"scatter\", \"x\": [3.445574481375933, 2.863857011774429, 3.866887209912928, 2.932665671822504, 3.425689708701257, 3.725042716476828, 3.85042873130433, 4.336930881102006, 3.1624941489392753, 3.962170681675321, 3.7313913282998867, 3.581306171455651, 2.8765747093159604, 1.6331246827093906, 3.6266282401255663, 2.7869491892633698, 2.7590623765701934, 3.5895404336973904, 3.7552446930290753, 3.7658300022386695, 2.8671857561339507, 3.548954032100013, 3.577302370420785, 4.200382676921275, 4.071831592711339, 3.0125241785585297, 4.423254704337569, 2.411450742049884, 2.8355591724665574, 1.558804489709674, 3.6732219477841266, 3.4316311790666987, 3.03315167441259, 2.995361327270493, 3.8601377220386026, 3.8681738739015095, 4.050199853524352, 3.2778952852329435, 3.600291901470926, 2.9871241333214615], \"y\": [0.6805898880727538, 0.8039022661085495, -0.31013859359932494, 0.02239852991407296, 0.26781735854283745, -0.11414695300252196, 0.6072901713396802, 0.20550959564761637, -0.08084815065207356, -0.019368666894963943, 1.7444088906297557, -0.15564759535963985, -0.9820443059633468, -0.24377233395255235, -0.8190902787245985, 1.0344973318785107, 0.23233077237971697, -0.15677041851809267, -0.49109357829549743, 1.0166115674381866, -0.19498951686067692, -0.5120990801814447, 0.2600286536546371, 0.4381412860588638, 0.5979071625600343, -0.29768064102754577, -0.019980310054539038, 0.4326587327677559, 0.7896895835572884, -0.23714241340427478, -2.0773686248685332, -0.3679736863687854, 0.42279998921288264, 0.8120981431295042, -0.5973274619015538, -2.6442949407166836, -0.969824773800961, -1.5727067695695336, 0.5977441551306417, 0.1331554089920269]}, {\"mode\": \"markers\", \"name\": \"1\", \"type\": \"scatter\", \"x\": [-0.588467708450443, -2.425075704185392, -2.009415193884924, -1.744169862303973, -0.8409543996120973, -2.275617154821654, -0.5031756243017333, -1.5249671970828702, -2.418349800960872, -1.518728289734464, -1.4637165642323358, -0.6691509585936343, -2.7599519190657973, -2.9989250397338165, -2.8336099227066693, -2.2209592485343475, -2.4211158259705643, -2.1156755282676367, -2.727099125304905, -2.6862147629295046, -0.037543567271809464, -1.659271984622597, -2.5936522037035905, -3.2653655426825328, -1.9350398765222576, -1.4640653463717377, -2.5923096487877575, -2.8596495934838204, -2.3073013499728554, -2.0903224196795875, -1.5753189977485704, -2.2605506269082016, -1.5948597438952317, -2.489906926622773, -2.9449068543738615, -2.130496048757374, -3.0957527428243963, -3.3093968321048495, -1.7279427507460992, -1.4876561196173512, -2.52235454817066, -2.6001170959695292], \"y\": [-2.0233867591993118, -0.23308883713685716, -2.8677311783669235, -0.45875611897643825, -1.5757799621584274, 0.10328799153443304, -0.008132532125952911, -2.0759263045566776, -1.7572175755054753, -0.9291078513979568, -1.680638418318223, 1.4036588573342608, -1.7454047533591421, -1.9579294368874125, -0.7514747102203199, -0.672576213746819, -1.0072660029786673, -2.9790798922315984, -2.6480509682835556, -1.9812367862299964, -0.9657295868515527, -3.3333311817890805, -1.767950658111273, -1.7952670841901253, -2.1873207328035265, -1.3747772093443789, -0.418548089865425, -0.5862049224626714, -0.5988073559395417, -0.12910608967455323, -0.9791152609386109, -1.3916758283418325, -0.36012549611466727, -1.277736768695488, -0.7162867622637535, -0.9505977727641176, -1.1883741048631573, -1.626531127772757, -0.9918646331045013, -2.4313065844317663, -0.29000716110382646, 2.0315891329699554]}, {\"mode\": \"markers\", \"name\": \"2\", \"type\": \"scatter\", \"x\": [-0.5204137140343036, -2.843528704065343, -1.9523750352562317, -2.3940604387863873, -2.1043744622458322, -1.1473995389720693, -3.246537134337062, -1.9524285389116351, -2.6570690516380093, -1.2548436622456525, -1.6949622519645284, -0.9597586065683711, -2.910313436436997, -1.8754044420531415, -1.1731941280396445, -2.0303511885516867, -1.912775259714973, -1.5184976231964673, -2.6445348754798217, -0.3261257510824772], \"y\": [4.499745491003538, 3.165287496883781, 2.5610001299207164, 3.5777857801903634, 3.1818519826232383, 2.8376595659738797, 3.5571910091071723, 2.918174057036131, 3.753983142225423, 3.4714529166534085, 2.7615994256229737, 2.23889433858673, 2.9729876195093334, 3.9461426367237324, 3.2464404465989904, 1.2886014359081899, 3.971508540371282, 3.829525170810342, 3.5196150472208076, 4.086200710833192]}, {\"mode\": \"markers\", \"name\": \"3\", \"type\": \"scatter\", \"x\": [1.6674208909592927, 0.010503140396949691, 4.120963512124205, 0.10350505526920574, 3.6354013199398976, -2.2958521681770425, 1.210756479411488, -0.3336104099919142, -2.2625455317280343, 3.524143895315713, 3.079365721807298, -0.8191894257537885, -1.2875509235103784, -0.22084004369299115, -1.360392922117264, -2.1220509650562493, 3.8151830544878553, -2.4507839409448358, -2.3684514034680997, -2.8142587719190524, -2.1230858532518897, -2.531984839271786, -3.044146903499509, 3.3263867177778472, -3.5223502210430486, -2.381138192074775, -2.0308478562626258, -1.0783126038540105], \"y\": [0.7162981045831687, -0.3575299506525828, -0.949158126612051, -0.20701605264119113, -0.27819774825799826, -1.2624299452839676, 0.48121802753354115, 0.6947487124496449, -2.0231515028744522, -1.1867887911271453, -1.1984613417575165, 1.2213576294858457, 0.38418845026425136, 0.5150955660262727, 1.4493596263154913, -0.8904018677643302, -0.38189846787409176, -1.0171228306075102, -1.0858406328230035, -0.3186101671401287, -0.9641319506962814, -1.7676299769157846, -1.832768268460767, 0.5103881274419099, -1.5972656070897269, -0.19499126956621302, -1.252076446550308, -1.6531879052387832]}, {\"marker\": {\"color\": \"rgba(135, 206, 250, 0)\", \"line\": {\"color\": \"red\", \"width\": 5}, \"opacity\": 1, \"size\": 25}, \"mode\": \"markers\", \"showlegend\": false, \"type\": \"scatter\", \"x\": [-2.843528704065343], \"y\": [3.165287496883781]}],\n",
       "                        {\"template\": {\"data\": {\"bar\": [{\"error_x\": {\"color\": \"#2a3f5f\"}, \"error_y\": {\"color\": \"#2a3f5f\"}, \"marker\": {\"line\": {\"color\": \"#E5ECF6\", \"width\": 0.5}}, \"type\": \"bar\"}], \"barpolar\": [{\"marker\": {\"line\": {\"color\": \"#E5ECF6\", \"width\": 0.5}}, \"type\": \"barpolar\"}], \"carpet\": [{\"aaxis\": {\"endlinecolor\": \"#2a3f5f\", \"gridcolor\": \"white\", \"linecolor\": \"white\", \"minorgridcolor\": \"white\", \"startlinecolor\": \"#2a3f5f\"}, \"baxis\": {\"endlinecolor\": \"#2a3f5f\", \"gridcolor\": \"white\", \"linecolor\": \"white\", \"minorgridcolor\": \"white\", \"startlinecolor\": \"#2a3f5f\"}, \"type\": \"carpet\"}], \"choropleth\": [{\"colorbar\": {\"outlinewidth\": 0, \"ticks\": \"\"}, \"type\": \"choropleth\"}], \"contour\": [{\"colorbar\": {\"outlinewidth\": 0, \"ticks\": \"\"}, \"colorscale\": [[0.0, \"#0d0887\"], [0.1111111111111111, \"#46039f\"], [0.2222222222222222, \"#7201a8\"], [0.3333333333333333, \"#9c179e\"], [0.4444444444444444, \"#bd3786\"], [0.5555555555555556, \"#d8576b\"], [0.6666666666666666, \"#ed7953\"], [0.7777777777777778, \"#fb9f3a\"], [0.8888888888888888, \"#fdca26\"], [1.0, \"#f0f921\"]], \"type\": \"contour\"}], \"contourcarpet\": [{\"colorbar\": {\"outlinewidth\": 0, \"ticks\": \"\"}, \"type\": \"contourcarpet\"}], \"heatmap\": [{\"colorbar\": {\"outlinewidth\": 0, \"ticks\": \"\"}, \"colorscale\": [[0.0, \"#0d0887\"], [0.1111111111111111, \"#46039f\"], [0.2222222222222222, \"#7201a8\"], [0.3333333333333333, \"#9c179e\"], [0.4444444444444444, \"#bd3786\"], [0.5555555555555556, \"#d8576b\"], [0.6666666666666666, \"#ed7953\"], [0.7777777777777778, \"#fb9f3a\"], [0.8888888888888888, \"#fdca26\"], [1.0, \"#f0f921\"]], \"type\": \"heatmap\"}], \"heatmapgl\": [{\"colorbar\": {\"outlinewidth\": 0, \"ticks\": \"\"}, \"colorscale\": [[0.0, \"#0d0887\"], [0.1111111111111111, \"#46039f\"], [0.2222222222222222, \"#7201a8\"], [0.3333333333333333, \"#9c179e\"], [0.4444444444444444, \"#bd3786\"], [0.5555555555555556, \"#d8576b\"], [0.6666666666666666, \"#ed7953\"], [0.7777777777777778, \"#fb9f3a\"], [0.8888888888888888, \"#fdca26\"], [1.0, \"#f0f921\"]], \"type\": \"heatmapgl\"}], \"histogram\": [{\"marker\": {\"colorbar\": {\"outlinewidth\": 0, \"ticks\": \"\"}}, \"type\": \"histogram\"}], \"histogram2d\": [{\"colorbar\": {\"outlinewidth\": 0, \"ticks\": \"\"}, \"colorscale\": [[0.0, \"#0d0887\"], [0.1111111111111111, \"#46039f\"], [0.2222222222222222, \"#7201a8\"], [0.3333333333333333, \"#9c179e\"], [0.4444444444444444, \"#bd3786\"], [0.5555555555555556, \"#d8576b\"], [0.6666666666666666, \"#ed7953\"], [0.7777777777777778, \"#fb9f3a\"], [0.8888888888888888, \"#fdca26\"], [1.0, \"#f0f921\"]], \"type\": \"histogram2d\"}], \"histogram2dcontour\": [{\"colorbar\": {\"outlinewidth\": 0, \"ticks\": \"\"}, \"colorscale\": [[0.0, \"#0d0887\"], [0.1111111111111111, \"#46039f\"], [0.2222222222222222, \"#7201a8\"], [0.3333333333333333, \"#9c179e\"], [0.4444444444444444, \"#bd3786\"], [0.5555555555555556, \"#d8576b\"], [0.6666666666666666, \"#ed7953\"], [0.7777777777777778, \"#fb9f3a\"], [0.8888888888888888, \"#fdca26\"], [1.0, \"#f0f921\"]], \"type\": \"histogram2dcontour\"}], \"mesh3d\": [{\"colorbar\": {\"outlinewidth\": 0, \"ticks\": \"\"}, \"type\": \"mesh3d\"}], \"parcoords\": [{\"line\": {\"colorbar\": {\"outlinewidth\": 0, \"ticks\": \"\"}}, \"type\": \"parcoords\"}], \"pie\": [{\"automargin\": true, \"type\": \"pie\"}], \"scatter\": [{\"marker\": {\"colorbar\": {\"outlinewidth\": 0, \"ticks\": \"\"}}, \"type\": \"scatter\"}], \"scatter3d\": [{\"line\": {\"colorbar\": {\"outlinewidth\": 0, \"ticks\": \"\"}}, \"marker\": {\"colorbar\": {\"outlinewidth\": 0, \"ticks\": \"\"}}, \"type\": \"scatter3d\"}], \"scattercarpet\": [{\"marker\": {\"colorbar\": {\"outlinewidth\": 0, \"ticks\": \"\"}}, \"type\": \"scattercarpet\"}], \"scattergeo\": [{\"marker\": {\"colorbar\": {\"outlinewidth\": 0, \"ticks\": \"\"}}, \"type\": \"scattergeo\"}], \"scattergl\": [{\"marker\": {\"colorbar\": {\"outlinewidth\": 0, \"ticks\": \"\"}}, \"type\": \"scattergl\"}], \"scattermapbox\": [{\"marker\": {\"colorbar\": {\"outlinewidth\": 0, \"ticks\": \"\"}}, \"type\": \"scattermapbox\"}], \"scatterpolar\": [{\"marker\": {\"colorbar\": {\"outlinewidth\": 0, \"ticks\": \"\"}}, \"type\": \"scatterpolar\"}], \"scatterpolargl\": [{\"marker\": {\"colorbar\": {\"outlinewidth\": 0, \"ticks\": \"\"}}, \"type\": \"scatterpolargl\"}], \"scatterternary\": [{\"marker\": {\"colorbar\": {\"outlinewidth\": 0, \"ticks\": \"\"}}, \"type\": \"scatterternary\"}], \"surface\": [{\"colorbar\": {\"outlinewidth\": 0, \"ticks\": \"\"}, \"colorscale\": [[0.0, \"#0d0887\"], [0.1111111111111111, \"#46039f\"], [0.2222222222222222, \"#7201a8\"], [0.3333333333333333, \"#9c179e\"], [0.4444444444444444, \"#bd3786\"], [0.5555555555555556, \"#d8576b\"], [0.6666666666666666, \"#ed7953\"], [0.7777777777777778, \"#fb9f3a\"], [0.8888888888888888, \"#fdca26\"], [1.0, \"#f0f921\"]], \"type\": \"surface\"}], \"table\": [{\"cells\": {\"fill\": {\"color\": \"#EBF0F8\"}, \"line\": {\"color\": \"white\"}}, \"header\": {\"fill\": {\"color\": \"#C8D4E3\"}, \"line\": {\"color\": \"white\"}}, \"type\": \"table\"}]}, \"layout\": {\"annotationdefaults\": {\"arrowcolor\": \"#2a3f5f\", \"arrowhead\": 0, \"arrowwidth\": 1}, \"coloraxis\": {\"colorbar\": {\"outlinewidth\": 0, \"ticks\": \"\"}}, \"colorscale\": {\"diverging\": [[0, \"#8e0152\"], [0.1, \"#c51b7d\"], [0.2, \"#de77ae\"], [0.3, \"#f1b6da\"], [0.4, \"#fde0ef\"], [0.5, \"#f7f7f7\"], [0.6, \"#e6f5d0\"], [0.7, \"#b8e186\"], [0.8, \"#7fbc41\"], [0.9, \"#4d9221\"], [1, \"#276419\"]], \"sequential\": [[0.0, \"#0d0887\"], [0.1111111111111111, \"#46039f\"], [0.2222222222222222, \"#7201a8\"], [0.3333333333333333, \"#9c179e\"], [0.4444444444444444, \"#bd3786\"], [0.5555555555555556, \"#d8576b\"], [0.6666666666666666, \"#ed7953\"], [0.7777777777777778, \"#fb9f3a\"], [0.8888888888888888, \"#fdca26\"], [1.0, \"#f0f921\"]], \"sequentialminus\": [[0.0, \"#0d0887\"], [0.1111111111111111, \"#46039f\"], [0.2222222222222222, \"#7201a8\"], [0.3333333333333333, \"#9c179e\"], [0.4444444444444444, \"#bd3786\"], [0.5555555555555556, \"#d8576b\"], [0.6666666666666666, \"#ed7953\"], [0.7777777777777778, \"#fb9f3a\"], [0.8888888888888888, \"#fdca26\"], [1.0, \"#f0f921\"]]}, \"colorway\": [\"#636efa\", \"#EF553B\", \"#00cc96\", \"#ab63fa\", \"#FFA15A\", \"#19d3f3\", \"#FF6692\", \"#B6E880\", \"#FF97FF\", \"#FECB52\"], \"font\": {\"color\": \"#2a3f5f\"}, \"geo\": {\"bgcolor\": \"white\", \"lakecolor\": \"white\", \"landcolor\": \"#E5ECF6\", \"showlakes\": true, \"showland\": true, \"subunitcolor\": \"white\"}, \"hoverlabel\": {\"align\": \"left\"}, \"hovermode\": \"closest\", \"mapbox\": {\"style\": \"light\"}, \"paper_bgcolor\": \"white\", \"plot_bgcolor\": \"#E5ECF6\", \"polar\": {\"angularaxis\": {\"gridcolor\": \"white\", \"linecolor\": \"white\", \"ticks\": \"\"}, \"bgcolor\": \"#E5ECF6\", \"radialaxis\": {\"gridcolor\": \"white\", \"linecolor\": \"white\", \"ticks\": \"\"}}, \"scene\": {\"xaxis\": {\"backgroundcolor\": \"#E5ECF6\", \"gridcolor\": \"white\", \"gridwidth\": 2, \"linecolor\": \"white\", \"showbackground\": true, \"ticks\": \"\", \"zerolinecolor\": \"white\"}, \"yaxis\": {\"backgroundcolor\": \"#E5ECF6\", \"gridcolor\": \"white\", \"gridwidth\": 2, \"linecolor\": \"white\", \"showbackground\": true, \"ticks\": \"\", \"zerolinecolor\": \"white\"}, \"zaxis\": {\"backgroundcolor\": \"#E5ECF6\", \"gridcolor\": \"white\", \"gridwidth\": 2, \"linecolor\": \"white\", \"showbackground\": true, \"ticks\": \"\", \"zerolinecolor\": \"white\"}}, \"shapedefaults\": {\"line\": {\"color\": \"#2a3f5f\"}}, \"ternary\": {\"aaxis\": {\"gridcolor\": \"white\", \"linecolor\": \"white\", \"ticks\": \"\"}, \"baxis\": {\"gridcolor\": \"white\", \"linecolor\": \"white\", \"ticks\": \"\"}, \"bgcolor\": \"#E5ECF6\", \"caxis\": {\"gridcolor\": \"white\", \"linecolor\": \"white\", \"ticks\": \"\"}}, \"title\": {\"x\": 0.05}, \"xaxis\": {\"automargin\": true, \"gridcolor\": \"white\", \"linecolor\": \"white\", \"ticks\": \"\", \"title\": {\"standoff\": 15}, \"zerolinecolor\": \"white\", \"zerolinewidth\": 2}, \"yaxis\": {\"automargin\": true, \"gridcolor\": \"white\", \"linecolor\": \"white\", \"ticks\": \"\", \"title\": {\"standoff\": 15}, \"zerolinecolor\": \"white\", \"zerolinewidth\": 2}}}},\n",
       "                        {\"responsive\": true}\n",
       "                    ).then(function(){\n",
       "                            \n",
       "var gd = document.getElementById('2e87edc4-6977-45af-b25f-911ec4890d36');\n",
       "var x = new MutationObserver(function (mutations, observer) {{\n",
       "        var display = window.getComputedStyle(gd).display;\n",
       "        if (!display || display === 'none') {{\n",
       "            console.log([gd, 'removed!']);\n",
       "            Plotly.purge(gd);\n",
       "            observer.disconnect();\n",
       "        }}\n",
       "}});\n",
       "\n",
       "// Listen for the removal of the full notebook cells\n",
       "var notebookContainer = gd.closest('#notebook-container');\n",
       "if (notebookContainer) {{\n",
       "    x.observe(notebookContainer, {childList: true});\n",
       "}}\n",
       "\n",
       "// Listen for the clearing of the current output cell\n",
       "var outputEl = gd.closest('.output');\n",
       "if (outputEl) {{\n",
       "    x.observe(outputEl, {childList: true});\n",
       "}}\n",
       "\n",
       "                        })\n",
       "                };\n",
       "                });\n",
       "            </script>\n",
       "        </div>"
      ]
     },
     "metadata": {},
     "output_type": "display_data"
    }
   ],
   "source": [
    "local_l= genotype[:,(nan_pos-int(wind_sizes/2)):(nan_pos+int(wind_sizes/2))]\n",
    "coords= {z:[x for x in range(len(label_vector)) if label_vector[x] == z] for z in list(set(label_vector))}\n",
    "\n",
    "pca2 = PCA(n_components=ncomps, whiten=False,svd_solver='randomized')\n",
    "featl= pca2.fit_transform(local_l)\n",
    "\n",
    "figwl= [go.Scatter(\n",
    "    x= featl[coords[i],0],\n",
    "    y= featl[coords[i],1],\n",
    "    mode= 'markers',\n",
    "    name= str(i)\n",
    ") for i in coords.keys()]\n",
    "\n",
    "figwl.append(go.Scatter(\n",
    "    mode='markers',\n",
    "    x=[featl[nan_acc,0]],\n",
    "    y=[featl[nan_acc,1]],\n",
    "    marker=dict(\n",
    "        color='rgba(135, 206, 250, 0)',\n",
    "        size=25,\n",
    "        opacity= 1,\n",
    "        line=dict(\n",
    "            color='red',\n",
    "            width=5\n",
    "        )\n",
    "    ),\n",
    "    showlegend=False\n",
    "))\n",
    "\n",
    "layout= go.Layout()\n",
    "\n",
    "Figure_wl= go.Figure(data= figwl, layout= layout)\n",
    "\n",
    "iplot(Figure_wl)"
   ]
  },
  {
   "cell_type": "markdown",
   "metadata": {},
   "source": [
    "\n",
    "### Distance profile - reference set.\n",
    "\n",
    "Decide which obervations to use the distance to, and where, to predict `nanObs` coordinates. \n",
    "\n",
    "**context**: different windows might span different patterns of admixture / structure. In the case the sample carrying the missing call is admixed, distance profiles may differ considerably. there are two main concerns here:\n",
    "- other admixed: we would like to reduce or remove the weight of the distances to these.\n",
    "- admixture border: `nanObs` is itself admixed, resulting in significantly different distance profiles. \n",
    "\n",
    "Observation specific distances across are measured across trainning windows. \n",
    "\n",
    "The approach below proposes to tackle both concerns raised above:\n",
    "\n",
    "    i. Variance in distance is calculated at the individual level. We seek the least variable reference points.\n",
    "    Variance clusters are identified using mean shift.\n",
    "    ii. Different distance profile groups identified using MeanShift. allows single cluster and excludes outliers.\n",
    "\n",
    "The group of accessions with the smallest average std is selected as focus obs.\n",
    "\n",
    "Reference distance profiles are selected as the largest cluster of profiles.  \n",
    "\n",
    "#### A. Distance profiles. \n",
    "\n",
    "\n",
    "Distance profiles consist of the ordered vectors of distances `nanObs` / `every other obs` of length N-1.\n",
    "\n",
    "Dimensionality reduction is applied and distances calculated in the resulting feature space. \n",
    "\n",
    "Here using `PCA` and `euclidean disances`.\n",
    "\n"
   ]
  },
  {
   "cell_type": "code",
   "execution_count": 21,
   "metadata": {},
   "outputs": [
    {
     "data": {
      "application/vnd.plotly.v1+json": {
       "config": {
        "linkText": "Export to plot.ly",
        "plotlyServerURL": "https://plot.ly",
        "showLink": false
       },
       "data": [
        {
         "mode": "markers",
         "name": "-1",
         "type": "scatter",
         "x": [
          -7.9250887414628295,
          16.803071142483546,
          -11.779623338940906,
          2.0628848881523116,
          -8.434245817915828,
          -10.960094881945924,
          -7.839054063993244,
          12.368915250148298,
          8.26238969573283,
          -12.208170659379913,
          7.437465384799982,
          -9.847109658319555,
          -8.893812989640145,
          9.350417141336113,
          -5.522690251266438,
          -7.270899102493785,
          -7.519549312770241,
          -9.746582497361834,
          11.704802419246324,
          -12.849704762712879,
          -11.148840445058807,
          13.89601004163151,
          14.558300770723132,
          11.519650262633084,
          -14.543423026657711,
          8.139886571842322,
          -13.200555561434841,
          -10.645970218771518,
          -16.10062303138845,
          -5.612173425408876,
          -5.915945180411283,
          -17.30548678880988,
          -8.318149354440251,
          -5.531977418617333,
          -8.18773670631854,
          -11.074317703518082,
          9.415457071471653,
          5.011336182870881,
          -12.136217196873481,
          8.72424639358582,
          10.954075522597847,
          8.13414775214316,
          -13.377717728813128,
          -4.4057241110842345,
          7.063599819649994,
          5.733902374933393,
          8.526280572915828,
          9.08121790123791,
          -9.035647604690025,
          -6.249350871972919,
          -11.851138546377951,
          16.609751239445774,
          16.85734535804375,
          8.879516768314627,
          -13.942386582099523,
          -5.900971156281746,
          -9.041110458544624,
          10.917206634089844,
          14.051186809079844,
          -8.030073253364915,
          10.866315278771483,
          -6.1891457409965,
          -11.947917130887644,
          8.474637576521873,
          -11.786481069947031,
          12.858373827326655,
          13.793539725972012,
          -7.3783435018177945,
          -8.085201126907615,
          -7.535441618075511,
          9.697857160633658,
          10.767199198716964,
          -11.269928090846083,
          8.367951632572305,
          -11.344250047647844,
          -8.119646349757776,
          -13.000839764564741,
          13.129745895518443,
          10.146505953408541,
          -13.681831500652567,
          12.243792274761525,
          -6.795950333411938,
          13.106169180993016,
          -14.037575486742206,
          17.07286088564642,
          13.98863429053244,
          7.621284416985688,
          -8.259626112950144,
          9.486122933230842,
          13.09954437934999,
          -4.449207491909682,
          -14.258365350681533,
          -7.91585107792065,
          9.0782850679388,
          12.167579879834614,
          8.49697584495173,
          16.378298253700805,
          12.051650829966535,
          -20.296994521195654,
          9.072853324569111,
          -11.344475044587602,
          12.399384180957615,
          -14.872571061598402,
          -1.8826814554786633,
          -7.518671892575184,
          -8.95695693910869,
          20.928745668294578,
          -21.400538744717334,
          14.151257964891766,
          -9.626708215033453,
          7.794389783195642,
          -7.836722310485006,
          -10.684882211187704,
          -2.029580986276429,
          -14.458756967965135,
          -5.331905388404242,
          10.951425525796175,
          12.345381902521385,
          10.340062708549485,
          1.5746863977457437,
          -10.437495544876521,
          -9.659618122467652,
          11.524985672707095,
          -11.198387398005684,
          -7.400006831847429,
          1.4501914282344166,
          -11.010133096465125,
          -15.823407213949473,
          8.09408287374362,
          -6.632738987124728,
          -8.420091492080925,
          15.094259223586208,
          -14.137636088835379,
          -12.57388016205248,
          8.893407010955036,
          -12.109548702036271,
          9.613600354839194,
          -15.542450490725336,
          7.09499008027918,
          -9.02855190237589,
          6.824663298419783,
          -13.002140767103212,
          -6.864279892995663,
          9.33067043437937,
          20.28022390363427,
          11.39153192375568,
          9.858124128919261,
          -10.138111073601408,
          9.263419152320289,
          -16.307271396369444,
          13.324526493863697,
          -16.52690551796449,
          -2.25222096506407,
          -10.368757355554788,
          10.581694863056256,
          15.724133938330539,
          -10.138491234604263,
          23.713868021113118,
          1.9153339730210706,
          10.062000566311482,
          9.273997826459679,
          9.70339641524349,
          -9.790784042205972,
          6.6480352253000135,
          12.212018792007413,
          12.863973566824344,
          -4.425888076367992,
          11.385713431844362,
          -10.95259338851177,
          -12.739001067664853,
          -8.788705432884953,
          -15.070656831743356,
          -5.783622550093939
         ],
         "y": [
          -1.594062018348478,
          3.4324439143049927,
          -6.081364493487691,
          9.41680563699959,
          12.60975639486159,
          5.4634305204570035,
          -5.1270604624488225,
          4.381973904470534,
          -2.981424830122437,
          5.84571723926963,
          -2.2253172479823573,
          4.288441554831328,
          -4.189978843172137,
          0.14568173117600555,
          8.385018466618751,
          -5.6095973709749885,
          -4.915094009960916,
          -3.139936186175869,
          -2.0979819588395765,
          -0.16444415821566463,
          -5.719232603160657,
          1.164354073301592,
          -0.9894007626160428,
          -4.142665285712297,
          -1.8169235233396186,
          4.896592163940696,
          4.748244875078076,
          6.217902785263387,
          6.957926850301684,
          -7.323697389018444,
          -6.981518184634746,
          12.590568358486264,
          -5.4791462879799315,
          -8.959878398981337,
          -7.41464189714339,
          -1.3232302605832051,
          -6.710292503760088,
          -7.369871499380066,
          0.5430018111287263,
          -2.4624489373834813,
          4.089845263534224,
          -2.218723857112369,
          2.141799513086757,
          -11.139642184048501,
          7.91864891523896,
          -7.750261072996891,
          1.9541545294195637,
          -1.0558440676587226,
          -0.9707121242860289,
          -10.273942817837275,
          -3.896740706213476,
          4.274626608487209,
          0.5530896164988158,
          4.395866596039547,
          -6.259098581573805,
          10.538279977839139,
          -3.660882491681027,
          -7.129670955161394,
          -2.361932399830675,
          -2.3440073583908916,
          0.5426975928810288,
          -7.721308563158079,
          8.779557397889663,
          1.0777098051976717,
          0.8497846781561094,
          -2.404834290457509,
          3.687215800970243,
          0.0006753597077802484,
          3.0269435874497295,
          4.201222959222822,
          3.925475666109854,
          3.5512810790780796,
          4.706497747544459,
          -7.802354002226167,
          2.6693227871999126,
          -5.804202177326482,
          -4.036426048136675,
          -0.25657010054553797,
          -0.4424399211097039,
          -0.7582994596045923,
          0.46694777002373394,
          -5.965875555111832,
          -4.086157000577021,
          2.9439865213468104,
          1.4972392448900498,
          0.7027643879290585,
          -2.2941745471333976,
          -2.886139488072353,
          4.254520985106926,
          2.969203615311814,
          -6.061967054540991,
          0.5105418668617842,
          -7.623464014251557,
          0.44295978735673175,
          -2.1222511618819224,
          -1.9841979262911629,
          -1.3342709959479508,
          5.02754529314585,
          8.03388511371492,
          3.5261499538645076,
          2.669286617699947,
          3.1836155517312736,
          -2.4461338188519046,
          10.010633315305085,
          3.6665250647773777,
          -0.09960010587266406,
          -2.7786233335670465,
          1.251686145406977,
          2.1761452364311036,
          2.672927432236581,
          -5.561467065496997,
          -3.7953566836497195,
          7.843137935016343,
          -10.308168131584702,
          9.438911203011937,
          6.757205086200849,
          4.0903130221849855,
          -0.9837650591031937,
          -0.7490741204898621,
          7.770464577000495,
          -7.505559276772224,
          1.6746288877666615,
          3.9027025496566394,
          13.53690751044604,
          -6.432633976186106,
          -7.767602952868643,
          13.70451746480614,
          -6.246500633285412,
          -5.62353110057441,
          5.319297103214311,
          0.7568662326404175,
          -2.7355443489968176,
          -11.124868241302106,
          0.4911606487032103,
          2.0970246848667378,
          -3.241693575506129,
          3.8950187615514436,
          1.7161781230390367,
          -3.3489614415367037,
          1.6413695755322422,
          -1.1229875658330541,
          -4.036433580141397,
          -5.861962187362183,
          3.7416304202316826,
          -0.5744449562179273,
          3.617339423095176,
          3.4091105871154572,
          3.0918568335742966,
          -5.178730273660667,
          -2.550911541574034,
          -3.1526161289855708,
          3.6788489209918396,
          -9.165614023365004,
          -1.871810874724258,
          4.0836505376095795,
          2.4598823405066943,
          -0.07070810455678483,
          -0.9575787509213518,
          -13.32082139840392,
          2.8571945705389616,
          -0.13854125672475567,
          2.060735458174515,
          -7.32917306682803,
          -3.1414876780109644,
          4.030734784424559,
          1.5919946331743031,
          -7.532102104532206,
          2.7418808279113542,
          4.848736640285195,
          4.7941386305625535,
          6.787882868734496,
          4.9015114446815655,
          -4.317948125576515
         ]
        },
        {
         "mode": "markers",
         "name": "0",
         "type": "scatter",
         "x": [
          -1.3667627029998337,
          -0.027029498318830364,
          -5.915671129304314,
          -0.9669544551354562,
          -5.019144384847841,
          7.133213957630442,
          -4.116930374605897,
          -0.2920316854474607,
          2.763516998267277,
          4.033167534777327,
          2.025364301660973,
          -0.17911668097364553,
          6.66311785616089,
          -1.6523366653862033,
          5.705566331120899,
          -7.289317222092961,
          -0.21711090115823917,
          0.47810639537642563,
          -6.053878407158204,
          4.205338732552672,
          2.3744389928592025,
          -5.758612607315296,
          -3.632568713412748,
          -3.1815362521387627,
          5.772977980452922,
          -4.757923500763461,
          -6.440674400385155,
          -3.562848445066439,
          -0.838138423652719,
          3.9358209775502737,
          3.647787361172701,
          -1.4458895394893119,
          3.7603934018273777,
          3.8645646770469724,
          4.528983591940026,
          -3.1448256503811414,
          -3.6976828965396566,
          0.8290179333228753,
          4.186770219535824,
          -3.1482375199513117,
          -1.5686844133854336,
          1.189708186758314,
          0.5483570471880175,
          -3.163813542940477,
          6.856036287281622,
          2.51052008626663,
          8.06030658689512,
          -7.714266691474468,
          -1.4986433638117183,
          2.449723697315005,
          1.9959806050465219,
          1.1016660150601665,
          -0.8618097520298317,
          0.6555439129759602,
          4.617601491362506,
          -6.191119146896829,
          5.61167695513042,
          -1.3717492163697058,
          -2.2857668688734822,
          -4.830172475540962,
          1.6464198417274574,
          1.058958091393494,
          5.805914497257998,
          -3.548011011245376,
          3.0690995651986306,
          3.2586640116042895,
          -3.3490726390275105,
          -2.6103049435920793,
          -4.518140170875571,
          2.3862592417744084,
          -0.37116982585454916,
          1.2257736147870701,
          2.501218732859334,
          3.606867061473484,
          -6.683570381185741,
          -2.6146894733143613,
          7.68958754521676,
          -1.6533670403487974,
          1.576823426078382,
          -4.606441785351998,
          -1.5836228028271668,
          0.19515387421706948,
          0.1759975213045516,
          5.463833336606785,
          -0.7809101598077862,
          -6.03553091573151,
          3.535704396813712,
          2.972270441413163,
          7.135587289677287,
          2.168792690566067,
          -4.74332346740712,
          -1.8533549115125727,
          -4.550462734351579,
          -4.168419243827172,
          -5.659544770237512,
          4.055721556584929,
          7.140031069104664,
          1.8556102831250616,
          -2.698501983896528,
          -4.263842590384789,
          -2.381964394575215,
          -1.8957347472546555,
          3.6671085444709566,
          6.98338952372114,
          -5.318902757726136,
          4.288054585445767,
          7.925223299864743,
          -4.349452216764094,
          -4.475584419519372,
          4.5990019423919,
          0.3981293992525723,
          0.15045141864419645,
          -1.7239628453042204,
          5.576788277123419,
          3.947722399463888,
          7.169423850244472,
          -2.6046363415522746,
          -6.513342311450806,
          1.0910926121825713,
          -5.128158174677819,
          -4.816228004837672,
          5.190354195956106,
          -1.56783434524643,
          -1.6091186059947746,
          -2.5031505738051387,
          1.5276375137910332,
          -7.353670810874068,
          -3.6227872292398318,
          1.1549440178653794,
          4.435800992548887,
          0.31938835878709554,
          0.5091078239079496,
          2.8334559129714294,
          -0.9282584033760513,
          -6.8811952065951765,
          -1.1356390280684578,
          2.4026973681956894,
          -2.1387477177206344,
          -4.595527038369893,
          -2.8328163251347105,
          2.4116336817600192,
          6.956087156512677,
          -6.92534611508373,
          3.792129872421246,
          1.9377055858366012,
          -0.5341336963463734,
          -2.695763009602313,
          4.103158262714194,
          -4.184548412582602,
          -0.8666964874632571,
          3.415316830454537,
          2.4945278085502927,
          -2.9369368535023535,
          6.496024972228655,
          -4.418904954484395,
          -7.330008704073192,
          -1.8976187987874864,
          -7.978556927188524,
          -7.370638506475282,
          5.063295350194089,
          -1.9304072594370578,
          4.876125038399667,
          5.359358719628844,
          -2.3367657078472974,
          4.1135085325829674,
          -7.707900739733543,
          2.4924748752252417,
          -8.016743987296522,
          -5.362742157784572,
          -2.1307037814406717,
          2.4640361047598502,
          4.858656106565143,
          -2.8111203213133216,
          3.9874288883864377,
          -1.5380566154892732,
          3.5121610240224275,
          5.2688957306986035,
          4.358542353837522,
          1.0648697958606228,
          3.0166150038996147,
          0.8792686104366033,
          2.4407880796612593,
          3.2743247585789397,
          -7.368533690118802,
          4.755176049814238,
          3.878669761556411,
          4.202146482974472,
          -3.3327376607231827,
          4.382853268242205,
          -6.685897785544663,
          4.622157568018324,
          4.346335472919177,
          4.4243325295998135,
          -2.211921157333846,
          4.291593148529951,
          1.5713105493929667,
          0.009222652231997738,
          5.001295951947691,
          2.2710804902996182,
          1.2323046377863616,
          5.161516437796254,
          4.690916997100833,
          7.08119133993297,
          -1.7540328207606841,
          5.041026124846002,
          -5.332663317903626,
          -5.347779746479289,
          3.757422634048103,
          -3.537157814378492,
          4.248093336144314,
          -0.15344763127056318,
          -4.129995467940384,
          0.2517529699413628,
          6.161438542096483,
          4.315688559928879,
          -5.809072452391009,
          2.3270167752218196,
          2.9240540478742267,
          7.202783321957085,
          3.611986753904156,
          6.970448865395911,
          -5.067909654062594,
          4.717688974766123,
          -0.09752789630957691,
          1.5172963980613892,
          4.890694096826735,
          7.101920982273058
         ],
         "y": [
          5.325660371974073,
          0.43482657430732424,
          1.1889788728199684,
          -3.4411795428236878,
          -0.36902117573643606,
          -3.668237366133166,
          2.1725023976824804,
          3.4459569000522365,
          1.0369401512537018,
          2.470923057681607,
          -3.719261597324452,
          -1.5038815186960715,
          -3.9798810856754843,
          7.112354290516043,
          -1.7607105665260607,
          -1.5362048601924634,
          2.0391967869165,
          2.6894994562838668,
          -1.9329812765210983,
          -0.7954495726272862,
          -2.321145780376606,
          5.382266309667414,
          -5.776382007220413,
          -2.768640686942871,
          -3.6747100581105494,
          -3.786196995115981,
          -0.6132747851123614,
          4.413561029925021,
          -4.523072200159836,
          3.562816778334329,
          3.697473498907583,
          -1.5584167700652551,
          -2.5064093845862407,
          1.8741736826934363,
          1.788417249548903,
          -2.584901858384067,
          0.47104597784889396,
          6.000966355439651,
          5.796405884531071,
          3.5560275493310587,
          0.8804314061657662,
          -4.63093752930304,
          5.384661561175745,
          4.159727247991578,
          -0.35163886497446145,
          -7.257565321176603,
          -0.016064627257715097,
          -0.5532045817494303,
          -0.9671541529209874,
          -0.2661726297506518,
          1.5233207580678665,
          -0.9082406661052065,
          0.8419940190001435,
          -2.6693270509654523,
          3.6260164995443116,
          -4.049221642504788,
          -1.4768309684079861,
          4.729231400774507,
          -5.2973515592798455,
          1.348588912223315,
          1.7977192202230976,
          0.462741650360343,
          -0.10302457313445504,
          -5.520411298508414,
          3.4063640597452296,
          5.96618566284681,
          -1.4678577679089377,
          -1.5328869576703834,
          -4.48355525607682,
          -6.246097073515931,
          0.4231367377501993,
          2.40277234821352,
          -4.27473753865962,
          -2.489890979452129,
          0.8047530406553343,
          -1.4500622467423707,
          1.0965579471158784,
          -5.995601638212519,
          3.2301410001532713,
          -2.267910977824014,
          1.3737071768671192,
          -4.158039276035812,
          6.504572593538748,
          1.1220511430165405,
          7.728578086825535,
          0.6941366528523439,
          1.1514649185104702,
          -6.220863601562303,
          0.09373815539847438,
          -1.1192526245628653,
          0.188994985293563,
          0.4903252582534325,
          -0.36314397404170295,
          -0.19517651146731876,
          -1.2699069018247362,
          3.0528826203739734,
          5.003335306322013,
          0.1903731200319043,
          -1.9085114931716285,
          0.3137701117685212,
          -1.1887806138107335,
          3.207233446425697,
          -0.8307083168353673,
          -3.390850975403035,
          1.5392508585317843,
          -2.412274330397128,
          -1.2835929205180312,
          0.2222592479015378,
          5.43564471015063,
          5.743203881329527,
          -1.0712189218954433,
          -2.0889967430506156,
          5.433162158688626,
          0.5636829223291797,
          1.4003212135347056,
          -0.625867962318967,
          1.6566236157572984,
          -2.2520686893288993,
          4.958650124751221,
          -3.7816219451619606,
          -1.6765098412850767,
          -2.198676721275228,
          -0.5571985678733783,
          -3.277895682412418,
          0.9594095290518234,
          3.469414069340211,
          0.8286024054190368,
          3.4266146255218803,
          3.9380230579739854,
          2.499859801090911,
          0.03364763896149721,
          -6.610884898812817,
          1.727279191126962,
          -3.1531436153388355,
          -0.8360845449722788,
          3.084365202772888,
          1.9425192711122738,
          -2.654065324092607,
          -3.1112928244864886,
          2.4095830229753465,
          2.8035686029765103,
          1.410285156497806,
          -1.6122535875568362,
          3.1773070697126746,
          3.7857313889720143,
          0.9168111949885503,
          -3.5276844517387826,
          -0.6622079739858291,
          -1.839948711928658,
          -1.7476444496356953,
          3.3687063861494853,
          4.31800640058652,
          -6.920224864348739,
          -2.3814863859346613,
          5.417427051648851,
          1.200974738581314,
          -1.5310028497709902,
          0.07966951198283388,
          0.8221722968809883,
          4.1742191849584795,
          0.9290164530208193,
          1.1128632493589163,
          1.553378917489583,
          -3.4681053612372588,
          2.559232183899992,
          -1.0153837919509159,
          0.571566858770084,
          -0.1317011621413864,
          -0.2792802302555198,
          -2.0806828774257466,
          -2.907979692400145,
          4.413743238155786,
          -0.21661817110725262,
          2.9677146578496196,
          -5.860588298569746,
          -0.4068549782632302,
          3.269763915630411,
          6.092465822693754,
          -2.5213349669443352,
          -1.6715212475715673,
          1.9761860844408645,
          -2.839630582332468,
          3.1860950988796426,
          0.8215723416744465,
          -5.039817529148475,
          -3.4135925180900224,
          -2.059738710298594,
          -3.410056664044699,
          -4.831453700119372,
          2.62134420221939,
          -4.162612874938409,
          -2.7304431275620735,
          -4.552261878735593,
          1.6349230611367052,
          -0.43895689182759245,
          -4.188059535219066,
          7.481623341692936,
          -2.376118381505367,
          1.4291735033900834,
          2.8705432208648873,
          -4.545598875801448,
          4.3422373670204015,
          -2.2711280532711124,
          0.10383704825713093,
          1.2580767595949163,
          -0.036003060720338015,
          0.6002128260868579,
          -0.4668980186337098,
          1.740183765280505,
          -1.143413134310202,
          -5.036936397136778,
          -2.529653780553269,
          -1.4284764600612203,
          3.00566335604848,
          1.0508762983866056,
          -2.4479036006514105,
          0.3724332361122796,
          7.441203595256578,
          0.2313459906697491,
          -3.2098561939926604,
          -3.379966907715617,
          4.404747703509295,
          3.9106424232253483,
          -4.678559690015339,
          5.910478013226244,
          -1.5624130046547489,
          3.85134971439225
         ]
        }
       ],
       "layout": {
        "template": {
         "data": {
          "bar": [
           {
            "error_x": {
             "color": "#2a3f5f"
            },
            "error_y": {
             "color": "#2a3f5f"
            },
            "marker": {
             "line": {
              "color": "#E5ECF6",
              "width": 0.5
             }
            },
            "type": "bar"
           }
          ],
          "barpolar": [
           {
            "marker": {
             "line": {
              "color": "#E5ECF6",
              "width": 0.5
             }
            },
            "type": "barpolar"
           }
          ],
          "carpet": [
           {
            "aaxis": {
             "endlinecolor": "#2a3f5f",
             "gridcolor": "white",
             "linecolor": "white",
             "minorgridcolor": "white",
             "startlinecolor": "#2a3f5f"
            },
            "baxis": {
             "endlinecolor": "#2a3f5f",
             "gridcolor": "white",
             "linecolor": "white",
             "minorgridcolor": "white",
             "startlinecolor": "#2a3f5f"
            },
            "type": "carpet"
           }
          ],
          "choropleth": [
           {
            "colorbar": {
             "outlinewidth": 0,
             "ticks": ""
            },
            "type": "choropleth"
           }
          ],
          "contour": [
           {
            "colorbar": {
             "outlinewidth": 0,
             "ticks": ""
            },
            "colorscale": [
             [
              0,
              "#0d0887"
             ],
             [
              0.1111111111111111,
              "#46039f"
             ],
             [
              0.2222222222222222,
              "#7201a8"
             ],
             [
              0.3333333333333333,
              "#9c179e"
             ],
             [
              0.4444444444444444,
              "#bd3786"
             ],
             [
              0.5555555555555556,
              "#d8576b"
             ],
             [
              0.6666666666666666,
              "#ed7953"
             ],
             [
              0.7777777777777778,
              "#fb9f3a"
             ],
             [
              0.8888888888888888,
              "#fdca26"
             ],
             [
              1,
              "#f0f921"
             ]
            ],
            "type": "contour"
           }
          ],
          "contourcarpet": [
           {
            "colorbar": {
             "outlinewidth": 0,
             "ticks": ""
            },
            "type": "contourcarpet"
           }
          ],
          "heatmap": [
           {
            "colorbar": {
             "outlinewidth": 0,
             "ticks": ""
            },
            "colorscale": [
             [
              0,
              "#0d0887"
             ],
             [
              0.1111111111111111,
              "#46039f"
             ],
             [
              0.2222222222222222,
              "#7201a8"
             ],
             [
              0.3333333333333333,
              "#9c179e"
             ],
             [
              0.4444444444444444,
              "#bd3786"
             ],
             [
              0.5555555555555556,
              "#d8576b"
             ],
             [
              0.6666666666666666,
              "#ed7953"
             ],
             [
              0.7777777777777778,
              "#fb9f3a"
             ],
             [
              0.8888888888888888,
              "#fdca26"
             ],
             [
              1,
              "#f0f921"
             ]
            ],
            "type": "heatmap"
           }
          ],
          "heatmapgl": [
           {
            "colorbar": {
             "outlinewidth": 0,
             "ticks": ""
            },
            "colorscale": [
             [
              0,
              "#0d0887"
             ],
             [
              0.1111111111111111,
              "#46039f"
             ],
             [
              0.2222222222222222,
              "#7201a8"
             ],
             [
              0.3333333333333333,
              "#9c179e"
             ],
             [
              0.4444444444444444,
              "#bd3786"
             ],
             [
              0.5555555555555556,
              "#d8576b"
             ],
             [
              0.6666666666666666,
              "#ed7953"
             ],
             [
              0.7777777777777778,
              "#fb9f3a"
             ],
             [
              0.8888888888888888,
              "#fdca26"
             ],
             [
              1,
              "#f0f921"
             ]
            ],
            "type": "heatmapgl"
           }
          ],
          "histogram": [
           {
            "marker": {
             "colorbar": {
              "outlinewidth": 0,
              "ticks": ""
             }
            },
            "type": "histogram"
           }
          ],
          "histogram2d": [
           {
            "colorbar": {
             "outlinewidth": 0,
             "ticks": ""
            },
            "colorscale": [
             [
              0,
              "#0d0887"
             ],
             [
              0.1111111111111111,
              "#46039f"
             ],
             [
              0.2222222222222222,
              "#7201a8"
             ],
             [
              0.3333333333333333,
              "#9c179e"
             ],
             [
              0.4444444444444444,
              "#bd3786"
             ],
             [
              0.5555555555555556,
              "#d8576b"
             ],
             [
              0.6666666666666666,
              "#ed7953"
             ],
             [
              0.7777777777777778,
              "#fb9f3a"
             ],
             [
              0.8888888888888888,
              "#fdca26"
             ],
             [
              1,
              "#f0f921"
             ]
            ],
            "type": "histogram2d"
           }
          ],
          "histogram2dcontour": [
           {
            "colorbar": {
             "outlinewidth": 0,
             "ticks": ""
            },
            "colorscale": [
             [
              0,
              "#0d0887"
             ],
             [
              0.1111111111111111,
              "#46039f"
             ],
             [
              0.2222222222222222,
              "#7201a8"
             ],
             [
              0.3333333333333333,
              "#9c179e"
             ],
             [
              0.4444444444444444,
              "#bd3786"
             ],
             [
              0.5555555555555556,
              "#d8576b"
             ],
             [
              0.6666666666666666,
              "#ed7953"
             ],
             [
              0.7777777777777778,
              "#fb9f3a"
             ],
             [
              0.8888888888888888,
              "#fdca26"
             ],
             [
              1,
              "#f0f921"
             ]
            ],
            "type": "histogram2dcontour"
           }
          ],
          "mesh3d": [
           {
            "colorbar": {
             "outlinewidth": 0,
             "ticks": ""
            },
            "type": "mesh3d"
           }
          ],
          "parcoords": [
           {
            "line": {
             "colorbar": {
              "outlinewidth": 0,
              "ticks": ""
             }
            },
            "type": "parcoords"
           }
          ],
          "pie": [
           {
            "automargin": true,
            "type": "pie"
           }
          ],
          "scatter": [
           {
            "marker": {
             "colorbar": {
              "outlinewidth": 0,
              "ticks": ""
             }
            },
            "type": "scatter"
           }
          ],
          "scatter3d": [
           {
            "line": {
             "colorbar": {
              "outlinewidth": 0,
              "ticks": ""
             }
            },
            "marker": {
             "colorbar": {
              "outlinewidth": 0,
              "ticks": ""
             }
            },
            "type": "scatter3d"
           }
          ],
          "scattercarpet": [
           {
            "marker": {
             "colorbar": {
              "outlinewidth": 0,
              "ticks": ""
             }
            },
            "type": "scattercarpet"
           }
          ],
          "scattergeo": [
           {
            "marker": {
             "colorbar": {
              "outlinewidth": 0,
              "ticks": ""
             }
            },
            "type": "scattergeo"
           }
          ],
          "scattergl": [
           {
            "marker": {
             "colorbar": {
              "outlinewidth": 0,
              "ticks": ""
             }
            },
            "type": "scattergl"
           }
          ],
          "scattermapbox": [
           {
            "marker": {
             "colorbar": {
              "outlinewidth": 0,
              "ticks": ""
             }
            },
            "type": "scattermapbox"
           }
          ],
          "scatterpolar": [
           {
            "marker": {
             "colorbar": {
              "outlinewidth": 0,
              "ticks": ""
             }
            },
            "type": "scatterpolar"
           }
          ],
          "scatterpolargl": [
           {
            "marker": {
             "colorbar": {
              "outlinewidth": 0,
              "ticks": ""
             }
            },
            "type": "scatterpolargl"
           }
          ],
          "scatterternary": [
           {
            "marker": {
             "colorbar": {
              "outlinewidth": 0,
              "ticks": ""
             }
            },
            "type": "scatterternary"
           }
          ],
          "surface": [
           {
            "colorbar": {
             "outlinewidth": 0,
             "ticks": ""
            },
            "colorscale": [
             [
              0,
              "#0d0887"
             ],
             [
              0.1111111111111111,
              "#46039f"
             ],
             [
              0.2222222222222222,
              "#7201a8"
             ],
             [
              0.3333333333333333,
              "#9c179e"
             ],
             [
              0.4444444444444444,
              "#bd3786"
             ],
             [
              0.5555555555555556,
              "#d8576b"
             ],
             [
              0.6666666666666666,
              "#ed7953"
             ],
             [
              0.7777777777777778,
              "#fb9f3a"
             ],
             [
              0.8888888888888888,
              "#fdca26"
             ],
             [
              1,
              "#f0f921"
             ]
            ],
            "type": "surface"
           }
          ],
          "table": [
           {
            "cells": {
             "fill": {
              "color": "#EBF0F8"
             },
             "line": {
              "color": "white"
             }
            },
            "header": {
             "fill": {
              "color": "#C8D4E3"
             },
             "line": {
              "color": "white"
             }
            },
            "type": "table"
           }
          ]
         },
         "layout": {
          "annotationdefaults": {
           "arrowcolor": "#2a3f5f",
           "arrowhead": 0,
           "arrowwidth": 1
          },
          "coloraxis": {
           "colorbar": {
            "outlinewidth": 0,
            "ticks": ""
           }
          },
          "colorscale": {
           "diverging": [
            [
             0,
             "#8e0152"
            ],
            [
             0.1,
             "#c51b7d"
            ],
            [
             0.2,
             "#de77ae"
            ],
            [
             0.3,
             "#f1b6da"
            ],
            [
             0.4,
             "#fde0ef"
            ],
            [
             0.5,
             "#f7f7f7"
            ],
            [
             0.6,
             "#e6f5d0"
            ],
            [
             0.7,
             "#b8e186"
            ],
            [
             0.8,
             "#7fbc41"
            ],
            [
             0.9,
             "#4d9221"
            ],
            [
             1,
             "#276419"
            ]
           ],
           "sequential": [
            [
             0,
             "#0d0887"
            ],
            [
             0.1111111111111111,
             "#46039f"
            ],
            [
             0.2222222222222222,
             "#7201a8"
            ],
            [
             0.3333333333333333,
             "#9c179e"
            ],
            [
             0.4444444444444444,
             "#bd3786"
            ],
            [
             0.5555555555555556,
             "#d8576b"
            ],
            [
             0.6666666666666666,
             "#ed7953"
            ],
            [
             0.7777777777777778,
             "#fb9f3a"
            ],
            [
             0.8888888888888888,
             "#fdca26"
            ],
            [
             1,
             "#f0f921"
            ]
           ],
           "sequentialminus": [
            [
             0,
             "#0d0887"
            ],
            [
             0.1111111111111111,
             "#46039f"
            ],
            [
             0.2222222222222222,
             "#7201a8"
            ],
            [
             0.3333333333333333,
             "#9c179e"
            ],
            [
             0.4444444444444444,
             "#bd3786"
            ],
            [
             0.5555555555555556,
             "#d8576b"
            ],
            [
             0.6666666666666666,
             "#ed7953"
            ],
            [
             0.7777777777777778,
             "#fb9f3a"
            ],
            [
             0.8888888888888888,
             "#fdca26"
            ],
            [
             1,
             "#f0f921"
            ]
           ]
          },
          "colorway": [
           "#636efa",
           "#EF553B",
           "#00cc96",
           "#ab63fa",
           "#FFA15A",
           "#19d3f3",
           "#FF6692",
           "#B6E880",
           "#FF97FF",
           "#FECB52"
          ],
          "font": {
           "color": "#2a3f5f"
          },
          "geo": {
           "bgcolor": "white",
           "lakecolor": "white",
           "landcolor": "#E5ECF6",
           "showlakes": true,
           "showland": true,
           "subunitcolor": "white"
          },
          "hoverlabel": {
           "align": "left"
          },
          "hovermode": "closest",
          "mapbox": {
           "style": "light"
          },
          "paper_bgcolor": "white",
          "plot_bgcolor": "#E5ECF6",
          "polar": {
           "angularaxis": {
            "gridcolor": "white",
            "linecolor": "white",
            "ticks": ""
           },
           "bgcolor": "#E5ECF6",
           "radialaxis": {
            "gridcolor": "white",
            "linecolor": "white",
            "ticks": ""
           }
          },
          "scene": {
           "xaxis": {
            "backgroundcolor": "#E5ECF6",
            "gridcolor": "white",
            "gridwidth": 2,
            "linecolor": "white",
            "showbackground": true,
            "ticks": "",
            "zerolinecolor": "white"
           },
           "yaxis": {
            "backgroundcolor": "#E5ECF6",
            "gridcolor": "white",
            "gridwidth": 2,
            "linecolor": "white",
            "showbackground": true,
            "ticks": "",
            "zerolinecolor": "white"
           },
           "zaxis": {
            "backgroundcolor": "#E5ECF6",
            "gridcolor": "white",
            "gridwidth": 2,
            "linecolor": "white",
            "showbackground": true,
            "ticks": "",
            "zerolinecolor": "white"
           }
          },
          "shapedefaults": {
           "line": {
            "color": "#2a3f5f"
           }
          },
          "ternary": {
           "aaxis": {
            "gridcolor": "white",
            "linecolor": "white",
            "ticks": ""
           },
           "baxis": {
            "gridcolor": "white",
            "linecolor": "white",
            "ticks": ""
           },
           "bgcolor": "#E5ECF6",
           "caxis": {
            "gridcolor": "white",
            "linecolor": "white",
            "ticks": ""
           }
          },
          "title": {
           "x": 0.05
          },
          "xaxis": {
           "automargin": true,
           "gridcolor": "white",
           "linecolor": "white",
           "ticks": "",
           "title": {
            "standoff": 15
           },
           "zerolinecolor": "white",
           "zerolinewidth": 2
          },
          "yaxis": {
           "automargin": true,
           "gridcolor": "white",
           "linecolor": "white",
           "ticks": "",
           "title": {
            "standoff": 15
           },
           "zerolinecolor": "white",
           "zerolinewidth": 2
          }
         }
        }
       }
      },
      "text/html": [
       "<div>\n",
       "        \n",
       "        \n",
       "            <div id=\"37888954-a50b-42f0-9750-0046522b2143\" class=\"plotly-graph-div\" style=\"height:525px; width:100%;\"></div>\n",
       "            <script type=\"text/javascript\">\n",
       "                require([\"plotly\"], function(Plotly) {\n",
       "                    window.PLOTLYENV=window.PLOTLYENV || {};\n",
       "                    \n",
       "                if (document.getElementById(\"37888954-a50b-42f0-9750-0046522b2143\")) {\n",
       "                    Plotly.newPlot(\n",
       "                        '37888954-a50b-42f0-9750-0046522b2143',\n",
       "                        [{\"mode\": \"markers\", \"name\": \"-1\", \"type\": \"scatter\", \"x\": [-7.9250887414628295, 16.803071142483546, -11.779623338940906, 2.0628848881523116, -8.434245817915828, -10.960094881945924, -7.839054063993244, 12.368915250148298, 8.26238969573283, -12.208170659379913, 7.437465384799982, -9.847109658319555, -8.893812989640145, 9.350417141336113, -5.522690251266438, -7.270899102493785, -7.519549312770241, -9.746582497361834, 11.704802419246324, -12.849704762712879, -11.148840445058807, 13.89601004163151, 14.558300770723132, 11.519650262633084, -14.543423026657711, 8.139886571842322, -13.200555561434841, -10.645970218771518, -16.10062303138845, -5.612173425408876, -5.915945180411283, -17.30548678880988, -8.318149354440251, -5.531977418617333, -8.18773670631854, -11.074317703518082, 9.415457071471653, 5.011336182870881, -12.136217196873481, 8.72424639358582, 10.954075522597847, 8.13414775214316, -13.377717728813128, -4.4057241110842345, 7.063599819649994, 5.733902374933393, 8.526280572915828, 9.08121790123791, -9.035647604690025, -6.249350871972919, -11.851138546377951, 16.609751239445774, 16.85734535804375, 8.879516768314627, -13.942386582099523, -5.900971156281746, -9.041110458544624, 10.917206634089844, 14.051186809079844, -8.030073253364915, 10.866315278771483, -6.1891457409965, -11.947917130887644, 8.474637576521873, -11.786481069947031, 12.858373827326655, 13.793539725972012, -7.3783435018177945, -8.085201126907615, -7.535441618075511, 9.697857160633658, 10.767199198716964, -11.269928090846083, 8.367951632572305, -11.344250047647844, -8.119646349757776, -13.000839764564741, 13.129745895518443, 10.146505953408541, -13.681831500652567, 12.243792274761525, -6.795950333411938, 13.106169180993016, -14.037575486742206, 17.07286088564642, 13.98863429053244, 7.621284416985688, -8.259626112950144, 9.486122933230842, 13.09954437934999, -4.449207491909682, -14.258365350681533, -7.91585107792065, 9.0782850679388, 12.167579879834614, 8.49697584495173, 16.378298253700805, 12.051650829966535, -20.296994521195654, 9.072853324569111, -11.344475044587602, 12.399384180957615, -14.872571061598402, -1.8826814554786633, -7.518671892575184, -8.95695693910869, 20.928745668294578, -21.400538744717334, 14.151257964891766, -9.626708215033453, 7.794389783195642, -7.836722310485006, -10.684882211187704, -2.029580986276429, -14.458756967965135, -5.331905388404242, 10.951425525796175, 12.345381902521385, 10.340062708549485, 1.5746863977457437, -10.437495544876521, -9.659618122467652, 11.524985672707095, -11.198387398005684, -7.400006831847429, 1.4501914282344166, -11.010133096465125, -15.823407213949473, 8.09408287374362, -6.632738987124728, -8.420091492080925, 15.094259223586208, -14.137636088835379, -12.57388016205248, 8.893407010955036, -12.109548702036271, 9.613600354839194, -15.542450490725336, 7.09499008027918, -9.02855190237589, 6.824663298419783, -13.002140767103212, -6.864279892995663, 9.33067043437937, 20.28022390363427, 11.39153192375568, 9.858124128919261, -10.138111073601408, 9.263419152320289, -16.307271396369444, 13.324526493863697, -16.52690551796449, -2.25222096506407, -10.368757355554788, 10.581694863056256, 15.724133938330539, -10.138491234604263, 23.713868021113118, 1.9153339730210706, 10.062000566311482, 9.273997826459679, 9.70339641524349, -9.790784042205972, 6.6480352253000135, 12.212018792007413, 12.863973566824344, -4.425888076367992, 11.385713431844362, -10.95259338851177, -12.739001067664853, -8.788705432884953, -15.070656831743356, -5.783622550093939], \"y\": [-1.594062018348478, 3.4324439143049927, -6.081364493487691, 9.41680563699959, 12.60975639486159, 5.4634305204570035, -5.1270604624488225, 4.381973904470534, -2.981424830122437, 5.84571723926963, -2.2253172479823573, 4.288441554831328, -4.189978843172137, 0.14568173117600555, 8.385018466618751, -5.6095973709749885, -4.915094009960916, -3.139936186175869, -2.0979819588395765, -0.16444415821566463, -5.719232603160657, 1.164354073301592, -0.9894007626160428, -4.142665285712297, -1.8169235233396186, 4.896592163940696, 4.748244875078076, 6.217902785263387, 6.957926850301684, -7.323697389018444, -6.981518184634746, 12.590568358486264, -5.4791462879799315, -8.959878398981337, -7.41464189714339, -1.3232302605832051, -6.710292503760088, -7.369871499380066, 0.5430018111287263, -2.4624489373834813, 4.089845263534224, -2.218723857112369, 2.141799513086757, -11.139642184048501, 7.91864891523896, -7.750261072996891, 1.9541545294195637, -1.0558440676587226, -0.9707121242860289, -10.273942817837275, -3.896740706213476, 4.274626608487209, 0.5530896164988158, 4.395866596039547, -6.259098581573805, 10.538279977839139, -3.660882491681027, -7.129670955161394, -2.361932399830675, -2.3440073583908916, 0.5426975928810288, -7.721308563158079, 8.779557397889663, 1.0777098051976717, 0.8497846781561094, -2.404834290457509, 3.687215800970243, 0.0006753597077802484, 3.0269435874497295, 4.201222959222822, 3.925475666109854, 3.5512810790780796, 4.706497747544459, -7.802354002226167, 2.6693227871999126, -5.804202177326482, -4.036426048136675, -0.25657010054553797, -0.4424399211097039, -0.7582994596045923, 0.46694777002373394, -5.965875555111832, -4.086157000577021, 2.9439865213468104, 1.4972392448900498, 0.7027643879290585, -2.2941745471333976, -2.886139488072353, 4.254520985106926, 2.969203615311814, -6.061967054540991, 0.5105418668617842, -7.623464014251557, 0.44295978735673175, -2.1222511618819224, -1.9841979262911629, -1.3342709959479508, 5.02754529314585, 8.03388511371492, 3.5261499538645076, 2.669286617699947, 3.1836155517312736, -2.4461338188519046, 10.010633315305085, 3.6665250647773777, -0.09960010587266406, -2.7786233335670465, 1.251686145406977, 2.1761452364311036, 2.672927432236581, -5.561467065496997, -3.7953566836497195, 7.843137935016343, -10.308168131584702, 9.438911203011937, 6.757205086200849, 4.0903130221849855, -0.9837650591031937, -0.7490741204898621, 7.770464577000495, -7.505559276772224, 1.6746288877666615, 3.9027025496566394, 13.53690751044604, -6.432633976186106, -7.767602952868643, 13.70451746480614, -6.246500633285412, -5.62353110057441, 5.319297103214311, 0.7568662326404175, -2.7355443489968176, -11.124868241302106, 0.4911606487032103, 2.0970246848667378, -3.241693575506129, 3.8950187615514436, 1.7161781230390367, -3.3489614415367037, 1.6413695755322422, -1.1229875658330541, -4.036433580141397, -5.861962187362183, 3.7416304202316826, -0.5744449562179273, 3.617339423095176, 3.4091105871154572, 3.0918568335742966, -5.178730273660667, -2.550911541574034, -3.1526161289855708, 3.6788489209918396, -9.165614023365004, -1.871810874724258, 4.0836505376095795, 2.4598823405066943, -0.07070810455678483, -0.9575787509213518, -13.32082139840392, 2.8571945705389616, -0.13854125672475567, 2.060735458174515, -7.32917306682803, -3.1414876780109644, 4.030734784424559, 1.5919946331743031, -7.532102104532206, 2.7418808279113542, 4.848736640285195, 4.7941386305625535, 6.787882868734496, 4.9015114446815655, -4.317948125576515]}, {\"mode\": \"markers\", \"name\": \"0\", \"type\": \"scatter\", \"x\": [-1.3667627029998337, -0.027029498318830364, -5.915671129304314, -0.9669544551354562, -5.019144384847841, 7.133213957630442, -4.116930374605897, -0.2920316854474607, 2.763516998267277, 4.033167534777327, 2.025364301660973, -0.17911668097364553, 6.66311785616089, -1.6523366653862033, 5.705566331120899, -7.289317222092961, -0.21711090115823917, 0.47810639537642563, -6.053878407158204, 4.205338732552672, 2.3744389928592025, -5.758612607315296, -3.632568713412748, -3.1815362521387627, 5.772977980452922, -4.757923500763461, -6.440674400385155, -3.562848445066439, -0.838138423652719, 3.9358209775502737, 3.647787361172701, -1.4458895394893119, 3.7603934018273777, 3.8645646770469724, 4.528983591940026, -3.1448256503811414, -3.6976828965396566, 0.8290179333228753, 4.186770219535824, -3.1482375199513117, -1.5686844133854336, 1.189708186758314, 0.5483570471880175, -3.163813542940477, 6.856036287281622, 2.51052008626663, 8.06030658689512, -7.714266691474468, -1.4986433638117183, 2.449723697315005, 1.9959806050465219, 1.1016660150601665, -0.8618097520298317, 0.6555439129759602, 4.617601491362506, -6.191119146896829, 5.61167695513042, -1.3717492163697058, -2.2857668688734822, -4.830172475540962, 1.6464198417274574, 1.058958091393494, 5.805914497257998, -3.548011011245376, 3.0690995651986306, 3.2586640116042895, -3.3490726390275105, -2.6103049435920793, -4.518140170875571, 2.3862592417744084, -0.37116982585454916, 1.2257736147870701, 2.501218732859334, 3.606867061473484, -6.683570381185741, -2.6146894733143613, 7.68958754521676, -1.6533670403487974, 1.576823426078382, -4.606441785351998, -1.5836228028271668, 0.19515387421706948, 0.1759975213045516, 5.463833336606785, -0.7809101598077862, -6.03553091573151, 3.535704396813712, 2.972270441413163, 7.135587289677287, 2.168792690566067, -4.74332346740712, -1.8533549115125727, -4.550462734351579, -4.168419243827172, -5.659544770237512, 4.055721556584929, 7.140031069104664, 1.8556102831250616, -2.698501983896528, -4.263842590384789, -2.381964394575215, -1.8957347472546555, 3.6671085444709566, 6.98338952372114, -5.318902757726136, 4.288054585445767, 7.925223299864743, -4.349452216764094, -4.475584419519372, 4.5990019423919, 0.3981293992525723, 0.15045141864419645, -1.7239628453042204, 5.576788277123419, 3.947722399463888, 7.169423850244472, -2.6046363415522746, -6.513342311450806, 1.0910926121825713, -5.128158174677819, -4.816228004837672, 5.190354195956106, -1.56783434524643, -1.6091186059947746, -2.5031505738051387, 1.5276375137910332, -7.353670810874068, -3.6227872292398318, 1.1549440178653794, 4.435800992548887, 0.31938835878709554, 0.5091078239079496, 2.8334559129714294, -0.9282584033760513, -6.8811952065951765, -1.1356390280684578, 2.4026973681956894, -2.1387477177206344, -4.595527038369893, -2.8328163251347105, 2.4116336817600192, 6.956087156512677, -6.92534611508373, 3.792129872421246, 1.9377055858366012, -0.5341336963463734, -2.695763009602313, 4.103158262714194, -4.184548412582602, -0.8666964874632571, 3.415316830454537, 2.4945278085502927, -2.9369368535023535, 6.496024972228655, -4.418904954484395, -7.330008704073192, -1.8976187987874864, -7.978556927188524, -7.370638506475282, 5.063295350194089, -1.9304072594370578, 4.876125038399667, 5.359358719628844, -2.3367657078472974, 4.1135085325829674, -7.707900739733543, 2.4924748752252417, -8.016743987296522, -5.362742157784572, -2.1307037814406717, 2.4640361047598502, 4.858656106565143, -2.8111203213133216, 3.9874288883864377, -1.5380566154892732, 3.5121610240224275, 5.2688957306986035, 4.358542353837522, 1.0648697958606228, 3.0166150038996147, 0.8792686104366033, 2.4407880796612593, 3.2743247585789397, -7.368533690118802, 4.755176049814238, 3.878669761556411, 4.202146482974472, -3.3327376607231827, 4.382853268242205, -6.685897785544663, 4.622157568018324, 4.346335472919177, 4.4243325295998135, -2.211921157333846, 4.291593148529951, 1.5713105493929667, 0.009222652231997738, 5.001295951947691, 2.2710804902996182, 1.2323046377863616, 5.161516437796254, 4.690916997100833, 7.08119133993297, -1.7540328207606841, 5.041026124846002, -5.332663317903626, -5.347779746479289, 3.757422634048103, -3.537157814378492, 4.248093336144314, -0.15344763127056318, -4.129995467940384, 0.2517529699413628, 6.161438542096483, 4.315688559928879, -5.809072452391009, 2.3270167752218196, 2.9240540478742267, 7.202783321957085, 3.611986753904156, 6.970448865395911, -5.067909654062594, 4.717688974766123, -0.09752789630957691, 1.5172963980613892, 4.890694096826735, 7.101920982273058], \"y\": [5.325660371974073, 0.43482657430732424, 1.1889788728199684, -3.4411795428236878, -0.36902117573643606, -3.668237366133166, 2.1725023976824804, 3.4459569000522365, 1.0369401512537018, 2.470923057681607, -3.719261597324452, -1.5038815186960715, -3.9798810856754843, 7.112354290516043, -1.7607105665260607, -1.5362048601924634, 2.0391967869165, 2.6894994562838668, -1.9329812765210983, -0.7954495726272862, -2.321145780376606, 5.382266309667414, -5.776382007220413, -2.768640686942871, -3.6747100581105494, -3.786196995115981, -0.6132747851123614, 4.413561029925021, -4.523072200159836, 3.562816778334329, 3.697473498907583, -1.5584167700652551, -2.5064093845862407, 1.8741736826934363, 1.788417249548903, -2.584901858384067, 0.47104597784889396, 6.000966355439651, 5.796405884531071, 3.5560275493310587, 0.8804314061657662, -4.63093752930304, 5.384661561175745, 4.159727247991578, -0.35163886497446145, -7.257565321176603, -0.016064627257715097, -0.5532045817494303, -0.9671541529209874, -0.2661726297506518, 1.5233207580678665, -0.9082406661052065, 0.8419940190001435, -2.6693270509654523, 3.6260164995443116, -4.049221642504788, -1.4768309684079861, 4.729231400774507, -5.2973515592798455, 1.348588912223315, 1.7977192202230976, 0.462741650360343, -0.10302457313445504, -5.520411298508414, 3.4063640597452296, 5.96618566284681, -1.4678577679089377, -1.5328869576703834, -4.48355525607682, -6.246097073515931, 0.4231367377501993, 2.40277234821352, -4.27473753865962, -2.489890979452129, 0.8047530406553343, -1.4500622467423707, 1.0965579471158784, -5.995601638212519, 3.2301410001532713, -2.267910977824014, 1.3737071768671192, -4.158039276035812, 6.504572593538748, 1.1220511430165405, 7.728578086825535, 0.6941366528523439, 1.1514649185104702, -6.220863601562303, 0.09373815539847438, -1.1192526245628653, 0.188994985293563, 0.4903252582534325, -0.36314397404170295, -0.19517651146731876, -1.2699069018247362, 3.0528826203739734, 5.003335306322013, 0.1903731200319043, -1.9085114931716285, 0.3137701117685212, -1.1887806138107335, 3.207233446425697, -0.8307083168353673, -3.390850975403035, 1.5392508585317843, -2.412274330397128, -1.2835929205180312, 0.2222592479015378, 5.43564471015063, 5.743203881329527, -1.0712189218954433, -2.0889967430506156, 5.433162158688626, 0.5636829223291797, 1.4003212135347056, -0.625867962318967, 1.6566236157572984, -2.2520686893288993, 4.958650124751221, -3.7816219451619606, -1.6765098412850767, -2.198676721275228, -0.5571985678733783, -3.277895682412418, 0.9594095290518234, 3.469414069340211, 0.8286024054190368, 3.4266146255218803, 3.9380230579739854, 2.499859801090911, 0.03364763896149721, -6.610884898812817, 1.727279191126962, -3.1531436153388355, -0.8360845449722788, 3.084365202772888, 1.9425192711122738, -2.654065324092607, -3.1112928244864886, 2.4095830229753465, 2.8035686029765103, 1.410285156497806, -1.6122535875568362, 3.1773070697126746, 3.7857313889720143, 0.9168111949885503, -3.5276844517387826, -0.6622079739858291, -1.839948711928658, -1.7476444496356953, 3.3687063861494853, 4.31800640058652, -6.920224864348739, -2.3814863859346613, 5.417427051648851, 1.200974738581314, -1.5310028497709902, 0.07966951198283388, 0.8221722968809883, 4.1742191849584795, 0.9290164530208193, 1.1128632493589163, 1.553378917489583, -3.4681053612372588, 2.559232183899992, -1.0153837919509159, 0.571566858770084, -0.1317011621413864, -0.2792802302555198, -2.0806828774257466, -2.907979692400145, 4.413743238155786, -0.21661817110725262, 2.9677146578496196, -5.860588298569746, -0.4068549782632302, 3.269763915630411, 6.092465822693754, -2.5213349669443352, -1.6715212475715673, 1.9761860844408645, -2.839630582332468, 3.1860950988796426, 0.8215723416744465, -5.039817529148475, -3.4135925180900224, -2.059738710298594, -3.410056664044699, -4.831453700119372, 2.62134420221939, -4.162612874938409, -2.7304431275620735, -4.552261878735593, 1.6349230611367052, -0.43895689182759245, -4.188059535219066, 7.481623341692936, -2.376118381505367, 1.4291735033900834, 2.8705432208648873, -4.545598875801448, 4.3422373670204015, -2.2711280532711124, 0.10383704825713093, 1.2580767595949163, -0.036003060720338015, 0.6002128260868579, -0.4668980186337098, 1.740183765280505, -1.143413134310202, -5.036936397136778, -2.529653780553269, -1.4284764600612203, 3.00566335604848, 1.0508762983866056, -2.4479036006514105, 0.3724332361122796, 7.441203595256578, 0.2313459906697491, -3.2098561939926604, -3.379966907715617, 4.404747703509295, 3.9106424232253483, -4.678559690015339, 5.910478013226244, -1.5624130046547489, 3.85134971439225]}],\n",
       "                        {\"template\": {\"data\": {\"bar\": [{\"error_x\": {\"color\": \"#2a3f5f\"}, \"error_y\": {\"color\": \"#2a3f5f\"}, \"marker\": {\"line\": {\"color\": \"#E5ECF6\", \"width\": 0.5}}, \"type\": \"bar\"}], \"barpolar\": [{\"marker\": {\"line\": {\"color\": \"#E5ECF6\", \"width\": 0.5}}, \"type\": \"barpolar\"}], \"carpet\": [{\"aaxis\": {\"endlinecolor\": \"#2a3f5f\", \"gridcolor\": \"white\", \"linecolor\": \"white\", \"minorgridcolor\": \"white\", \"startlinecolor\": \"#2a3f5f\"}, \"baxis\": {\"endlinecolor\": \"#2a3f5f\", \"gridcolor\": \"white\", \"linecolor\": \"white\", \"minorgridcolor\": \"white\", \"startlinecolor\": \"#2a3f5f\"}, \"type\": \"carpet\"}], \"choropleth\": [{\"colorbar\": {\"outlinewidth\": 0, \"ticks\": \"\"}, \"type\": \"choropleth\"}], \"contour\": [{\"colorbar\": {\"outlinewidth\": 0, \"ticks\": \"\"}, \"colorscale\": [[0.0, \"#0d0887\"], [0.1111111111111111, \"#46039f\"], [0.2222222222222222, \"#7201a8\"], [0.3333333333333333, \"#9c179e\"], [0.4444444444444444, \"#bd3786\"], [0.5555555555555556, \"#d8576b\"], [0.6666666666666666, \"#ed7953\"], [0.7777777777777778, \"#fb9f3a\"], [0.8888888888888888, \"#fdca26\"], [1.0, \"#f0f921\"]], \"type\": \"contour\"}], \"contourcarpet\": [{\"colorbar\": {\"outlinewidth\": 0, \"ticks\": \"\"}, \"type\": \"contourcarpet\"}], \"heatmap\": [{\"colorbar\": {\"outlinewidth\": 0, \"ticks\": \"\"}, \"colorscale\": [[0.0, \"#0d0887\"], [0.1111111111111111, \"#46039f\"], [0.2222222222222222, \"#7201a8\"], [0.3333333333333333, \"#9c179e\"], [0.4444444444444444, \"#bd3786\"], [0.5555555555555556, \"#d8576b\"], [0.6666666666666666, \"#ed7953\"], [0.7777777777777778, \"#fb9f3a\"], [0.8888888888888888, \"#fdca26\"], [1.0, \"#f0f921\"]], \"type\": \"heatmap\"}], \"heatmapgl\": [{\"colorbar\": {\"outlinewidth\": 0, \"ticks\": \"\"}, \"colorscale\": [[0.0, \"#0d0887\"], [0.1111111111111111, \"#46039f\"], [0.2222222222222222, \"#7201a8\"], [0.3333333333333333, \"#9c179e\"], [0.4444444444444444, \"#bd3786\"], [0.5555555555555556, \"#d8576b\"], [0.6666666666666666, \"#ed7953\"], [0.7777777777777778, \"#fb9f3a\"], [0.8888888888888888, \"#fdca26\"], [1.0, \"#f0f921\"]], \"type\": \"heatmapgl\"}], \"histogram\": [{\"marker\": {\"colorbar\": {\"outlinewidth\": 0, \"ticks\": \"\"}}, \"type\": \"histogram\"}], \"histogram2d\": [{\"colorbar\": {\"outlinewidth\": 0, \"ticks\": \"\"}, \"colorscale\": [[0.0, \"#0d0887\"], [0.1111111111111111, \"#46039f\"], [0.2222222222222222, \"#7201a8\"], [0.3333333333333333, \"#9c179e\"], [0.4444444444444444, \"#bd3786\"], [0.5555555555555556, \"#d8576b\"], [0.6666666666666666, \"#ed7953\"], [0.7777777777777778, \"#fb9f3a\"], [0.8888888888888888, \"#fdca26\"], [1.0, \"#f0f921\"]], \"type\": \"histogram2d\"}], \"histogram2dcontour\": [{\"colorbar\": {\"outlinewidth\": 0, \"ticks\": \"\"}, \"colorscale\": [[0.0, \"#0d0887\"], [0.1111111111111111, \"#46039f\"], [0.2222222222222222, \"#7201a8\"], [0.3333333333333333, \"#9c179e\"], [0.4444444444444444, \"#bd3786\"], [0.5555555555555556, \"#d8576b\"], [0.6666666666666666, \"#ed7953\"], [0.7777777777777778, \"#fb9f3a\"], [0.8888888888888888, \"#fdca26\"], [1.0, \"#f0f921\"]], \"type\": \"histogram2dcontour\"}], \"mesh3d\": [{\"colorbar\": {\"outlinewidth\": 0, \"ticks\": \"\"}, \"type\": \"mesh3d\"}], \"parcoords\": [{\"line\": {\"colorbar\": {\"outlinewidth\": 0, \"ticks\": \"\"}}, \"type\": \"parcoords\"}], \"pie\": [{\"automargin\": true, \"type\": \"pie\"}], \"scatter\": [{\"marker\": {\"colorbar\": {\"outlinewidth\": 0, \"ticks\": \"\"}}, \"type\": \"scatter\"}], \"scatter3d\": [{\"line\": {\"colorbar\": {\"outlinewidth\": 0, \"ticks\": \"\"}}, \"marker\": {\"colorbar\": {\"outlinewidth\": 0, \"ticks\": \"\"}}, \"type\": \"scatter3d\"}], \"scattercarpet\": [{\"marker\": {\"colorbar\": {\"outlinewidth\": 0, \"ticks\": \"\"}}, \"type\": \"scattercarpet\"}], \"scattergeo\": [{\"marker\": {\"colorbar\": {\"outlinewidth\": 0, \"ticks\": \"\"}}, \"type\": \"scattergeo\"}], \"scattergl\": [{\"marker\": {\"colorbar\": {\"outlinewidth\": 0, \"ticks\": \"\"}}, \"type\": \"scattergl\"}], \"scattermapbox\": [{\"marker\": {\"colorbar\": {\"outlinewidth\": 0, \"ticks\": \"\"}}, \"type\": \"scattermapbox\"}], \"scatterpolar\": [{\"marker\": {\"colorbar\": {\"outlinewidth\": 0, \"ticks\": \"\"}}, \"type\": \"scatterpolar\"}], \"scatterpolargl\": [{\"marker\": {\"colorbar\": {\"outlinewidth\": 0, \"ticks\": \"\"}}, \"type\": \"scatterpolargl\"}], \"scatterternary\": [{\"marker\": {\"colorbar\": {\"outlinewidth\": 0, \"ticks\": \"\"}}, \"type\": \"scatterternary\"}], \"surface\": [{\"colorbar\": {\"outlinewidth\": 0, \"ticks\": \"\"}, \"colorscale\": [[0.0, \"#0d0887\"], [0.1111111111111111, \"#46039f\"], [0.2222222222222222, \"#7201a8\"], [0.3333333333333333, \"#9c179e\"], [0.4444444444444444, \"#bd3786\"], [0.5555555555555556, \"#d8576b\"], [0.6666666666666666, \"#ed7953\"], [0.7777777777777778, \"#fb9f3a\"], [0.8888888888888888, \"#fdca26\"], [1.0, \"#f0f921\"]], \"type\": \"surface\"}], \"table\": [{\"cells\": {\"fill\": {\"color\": \"#EBF0F8\"}, \"line\": {\"color\": \"white\"}}, \"header\": {\"fill\": {\"color\": \"#C8D4E3\"}, \"line\": {\"color\": \"white\"}}, \"type\": \"table\"}]}, \"layout\": {\"annotationdefaults\": {\"arrowcolor\": \"#2a3f5f\", \"arrowhead\": 0, \"arrowwidth\": 1}, \"coloraxis\": {\"colorbar\": {\"outlinewidth\": 0, \"ticks\": \"\"}}, \"colorscale\": {\"diverging\": [[0, \"#8e0152\"], [0.1, \"#c51b7d\"], [0.2, \"#de77ae\"], [0.3, \"#f1b6da\"], [0.4, \"#fde0ef\"], [0.5, \"#f7f7f7\"], [0.6, \"#e6f5d0\"], [0.7, \"#b8e186\"], [0.8, \"#7fbc41\"], [0.9, \"#4d9221\"], [1, \"#276419\"]], \"sequential\": [[0.0, \"#0d0887\"], [0.1111111111111111, \"#46039f\"], [0.2222222222222222, \"#7201a8\"], [0.3333333333333333, \"#9c179e\"], [0.4444444444444444, \"#bd3786\"], [0.5555555555555556, \"#d8576b\"], [0.6666666666666666, \"#ed7953\"], [0.7777777777777778, \"#fb9f3a\"], [0.8888888888888888, \"#fdca26\"], [1.0, \"#f0f921\"]], \"sequentialminus\": [[0.0, \"#0d0887\"], [0.1111111111111111, \"#46039f\"], [0.2222222222222222, \"#7201a8\"], [0.3333333333333333, \"#9c179e\"], [0.4444444444444444, \"#bd3786\"], [0.5555555555555556, \"#d8576b\"], [0.6666666666666666, \"#ed7953\"], [0.7777777777777778, \"#fb9f3a\"], [0.8888888888888888, \"#fdca26\"], [1.0, \"#f0f921\"]]}, \"colorway\": [\"#636efa\", \"#EF553B\", \"#00cc96\", \"#ab63fa\", \"#FFA15A\", \"#19d3f3\", \"#FF6692\", \"#B6E880\", \"#FF97FF\", \"#FECB52\"], \"font\": {\"color\": \"#2a3f5f\"}, \"geo\": {\"bgcolor\": \"white\", \"lakecolor\": \"white\", \"landcolor\": \"#E5ECF6\", \"showlakes\": true, \"showland\": true, \"subunitcolor\": \"white\"}, \"hoverlabel\": {\"align\": \"left\"}, \"hovermode\": \"closest\", \"mapbox\": {\"style\": \"light\"}, \"paper_bgcolor\": \"white\", \"plot_bgcolor\": \"#E5ECF6\", \"polar\": {\"angularaxis\": {\"gridcolor\": \"white\", \"linecolor\": \"white\", \"ticks\": \"\"}, \"bgcolor\": \"#E5ECF6\", \"radialaxis\": {\"gridcolor\": \"white\", \"linecolor\": \"white\", \"ticks\": \"\"}}, \"scene\": {\"xaxis\": {\"backgroundcolor\": \"#E5ECF6\", \"gridcolor\": \"white\", \"gridwidth\": 2, \"linecolor\": \"white\", \"showbackground\": true, \"ticks\": \"\", \"zerolinecolor\": \"white\"}, \"yaxis\": {\"backgroundcolor\": \"#E5ECF6\", \"gridcolor\": \"white\", \"gridwidth\": 2, \"linecolor\": \"white\", \"showbackground\": true, \"ticks\": \"\", \"zerolinecolor\": \"white\"}, \"zaxis\": {\"backgroundcolor\": \"#E5ECF6\", \"gridcolor\": \"white\", \"gridwidth\": 2, \"linecolor\": \"white\", \"showbackground\": true, \"ticks\": \"\", \"zerolinecolor\": \"white\"}}, \"shapedefaults\": {\"line\": {\"color\": \"#2a3f5f\"}}, \"ternary\": {\"aaxis\": {\"gridcolor\": \"white\", \"linecolor\": \"white\", \"ticks\": \"\"}, \"baxis\": {\"gridcolor\": \"white\", \"linecolor\": \"white\", \"ticks\": \"\"}, \"bgcolor\": \"#E5ECF6\", \"caxis\": {\"gridcolor\": \"white\", \"linecolor\": \"white\", \"ticks\": \"\"}}, \"title\": {\"x\": 0.05}, \"xaxis\": {\"automargin\": true, \"gridcolor\": \"white\", \"linecolor\": \"white\", \"ticks\": \"\", \"title\": {\"standoff\": 15}, \"zerolinecolor\": \"white\", \"zerolinewidth\": 2}, \"yaxis\": {\"automargin\": true, \"gridcolor\": \"white\", \"linecolor\": \"white\", \"ticks\": \"\", \"title\": {\"standoff\": 15}, \"zerolinecolor\": \"white\", \"zerolinewidth\": 2}}}},\n",
       "                        {\"responsive\": true}\n",
       "                    ).then(function(){\n",
       "                            \n",
       "var gd = document.getElementById('37888954-a50b-42f0-9750-0046522b2143');\n",
       "var x = new MutationObserver(function (mutations, observer) {{\n",
       "        var display = window.getComputedStyle(gd).display;\n",
       "        if (!display || display === 'none') {{\n",
       "            console.log([gd, 'removed!']);\n",
       "            Plotly.purge(gd);\n",
       "            observer.disconnect();\n",
       "        }}\n",
       "}});\n",
       "\n",
       "// Listen for the removal of the full notebook cells\n",
       "var notebookContainer = gd.closest('#notebook-container');\n",
       "if (notebookContainer) {{\n",
       "    x.observe(notebookContainer, {childList: true});\n",
       "}}\n",
       "\n",
       "// Listen for the clearing of the current output cell\n",
       "var outputEl = gd.closest('.output');\n",
       "if (outputEl) {{\n",
       "    x.observe(outputEl, {childList: true});\n",
       "}}\n",
       "\n",
       "                        })\n",
       "                };\n",
       "                });\n",
       "            </script>\n",
       "        </div>"
      ]
     },
     "metadata": {},
     "output_type": "display_data"
    }
   ],
   "source": [
    "\n",
    "pca2 = PCA(n_components=ncomps, whiten=False,svd_solver='randomized')\n",
    "featd= pca2.fit_transform(dist_store)\n",
    "bandwidth = estimate_bandwidth(featd, quantile=0.25)\n",
    "\n",
    "ms = MeanShift(bandwidth=bandwidth, bin_seeding=False, cluster_all=False, min_bin_freq=35)\n",
    "ms.fit(featd)\n",
    "labelsf = ms.labels_\n",
    "labelf_select = {y:[x for x in range(len(labelsf)) if labelsf[x] == y] for y in sorted(list(set(labelsf)))}\n",
    "\n",
    "\n",
    "fig= [go.Scatter(\n",
    "    x= featd[labelf_select[i],0],\n",
    "    y= featd[labelf_select[i],1],\n",
    "    mode= 'markers',\n",
    "    name= str(i)\n",
    ") for i in labelf_select.keys()]\n",
    "\n",
    "layout= go.Layout()\n",
    "\n",
    "Figure= go.Figure(data= fig, layout= layout)\n",
    "\n",
    "iplot(Figure)\n"
   ]
  },
  {
   "cell_type": "markdown",
   "metadata": {},
   "source": [
    "\n",
    "#### B. Variance across data sets. \n",
    "\n",
    "Accession subset: `std_gp_use`\n"
   ]
  },
  {
   "cell_type": "code",
   "execution_count": 22,
   "metadata": {},
   "outputs": [],
   "source": [
    "# subselect by variance in distances:\n",
    "\n",
    "## perform MeanShift clustering.\n",
    "#bandwidth = estimate_bandwidth(featl, quantile=0.2)\n",
    "bandwidth = estimate_bandwidth(dist_var.reshape(-1,1), quantile=0.2)\n",
    "\n",
    "ms = MeanShift(bandwidth=bandwidth, bin_seeding=False, cluster_all=False, min_bin_freq=35)\n",
    "\n",
    "ms.fit(dist_var.reshape(-1,1))\n",
    "labels_std = ms.labels_\n",
    "std_select = {y:[x for x in range(len(labels_std)) if labels_std[x] == y] for y in sorted(list(set(labels_std)))}\n",
    "std_select.keys()\n",
    "\n",
    "std_gpmeans= {z: np.mean([dist_var[x] for x in g]) for z,g in std_select.items() if z != -1}\n",
    "\n",
    "std_gp_use= sorted(std_gpmeans,key= std_gpmeans.get)\n",
    "d= 0\n",
    "idx = 0\n",
    "\n",
    "while d != 1:\n",
    "    g=std_select[std_gp_use[idx]] \n",
    "    \n",
    "    if len(g) >= 15:\n",
    "        std_gp_use= list(g)\n",
    "        d= 1\n",
    "        \n",
    "    idx+= 1\n",
    "\n",
    "#std_gp_use= std_select[std_gp_use]\n",
    "\n",
    "#std_gp_use= [other_obs[x] for x in std_gp_use]\n",
    "#std_gp_use= list(range(len(labels_std)))"
   ]
  },
  {
   "cell_type": "markdown",
   "metadata": {},
   "source": [
    "### Coordinate inference\n",
    "\n",
    "**Grid approach**\n",
    "\n",
    "Produce grid encompassing sample coordinates in the feature space of the window covering the nan value. \n",
    "\n",
    "#### I. Grid construction:\n",
    "\n",
    "- P: grid mesh.\n",
    "- dimN: number of features from Quanted_set to use. \n",
    "\n"
   ]
  },
  {
   "cell_type": "code",
   "execution_count": 25,
   "metadata": {},
   "outputs": [],
   "source": [
    "from impute_tools.impute_tools_II import get_bg_grid\n",
    "\n",
    "Quanted_set= np.array(featl)\n",
    "P= 20\n",
    "dimN= 2\n",
    "\n",
    "background= get_bg_grid(Quanted_set, P= P, dimN= dimN)"
   ]
  },
  {
   "cell_type": "markdown",
   "metadata": {},
   "source": [
    "#### II. Grid distances.\n",
    "\n",
    "Create distance profile for every position in `background` grid.\n"
   ]
  },
  {
   "cell_type": "code",
   "execution_count": 27,
   "metadata": {},
   "outputs": [
    {
     "data": {
      "text/plain": [
       "(400, 19)"
      ]
     },
     "execution_count": 27,
     "metadata": {},
     "output_type": "execute_result"
    }
   ],
   "source": [
    "from sklearn.metrics import pairwise_distances\n",
    "\n",
    "workfeat= featl[std_gp_use,:dimN]\n",
    "\n",
    "dist_grid= pairwise_distances(background, workfeat,\n",
    "                                            metric=metric)\n",
    "\n",
    "dist_grid.shape"
   ]
  },
  {
   "cell_type": "markdown",
   "metadata": {},
   "source": [
    "#### III. Coordinate likelihood.\n",
    "\n",
    "    i. BG and reference distance vectors go through Dr together (`PCA` here). Kernel Density Estimation is fit to reference obs coordinates. Likelihoods are extracted for BG coordinate positions. \n",
    "\n",
    "    ii. Resulting likelihoods are mapped to the feature space capturing `nanObs`.\n"
   ]
  },
  {
   "cell_type": "code",
   "execution_count": 28,
   "metadata": {},
   "outputs": [],
   "source": [
    "from impute_tools.impute_tools import kde_likes_extract\n",
    "\n",
    "dist_comps= 10\n",
    "Bandwidth_split = 30\n",
    "\n",
    "####\n",
    "####\n",
    "dist_ref_select= 0\n",
    "dist_ref= dist_store[labelf_select[dist_ref_select],:]\n",
    "dist_ref= dist_ref[:,std_gp_use]\n",
    "\n",
    "\n",
    "grid_likes= kde_likes_extract(dist_grid,dist_ref)"
   ]
  },
  {
   "cell_type": "code",
   "execution_count": 30,
   "metadata": {
    "scrolled": false
   },
   "outputs": [
    {
     "name": "stderr",
     "output_type": "stream",
     "text": [
      "c:\\users\\floyd\\appdata\\local\\programs\\python\\python37-32\\lib\\site-packages\\plotly\\tools.py:465: DeprecationWarning:\n",
      "\n",
      "plotly.tools.make_subplots is deprecated, please use plotly.subplots.make_subplots instead\n",
      "\n"
     ]
    },
    {
     "data": {
      "application/vnd.plotly.v1+json": {
       "config": {
        "linkText": "Export to plot.ly",
        "plotlyServerURL": "https://plot.ly",
        "showLink": false
       },
       "data": [
        {
         "mode": "markers",
         "name": "0",
         "type": "scatter",
         "x": [
          3.445574481375933,
          2.863857011774429,
          3.866887209912928,
          2.932665671822504,
          3.425689708701257,
          3.725042716476828,
          3.85042873130433,
          4.336930881102006,
          3.1624941489392753,
          3.962170681675321,
          3.7313913282998867,
          3.581306171455651,
          2.8765747093159604,
          1.6331246827093906,
          3.6266282401255663,
          2.7869491892633698,
          2.7590623765701934,
          3.5895404336973904,
          3.7552446930290753,
          3.7658300022386695,
          2.8671857561339507,
          3.548954032100013,
          3.577302370420785,
          4.200382676921275,
          4.071831592711339,
          3.0125241785585297,
          4.423254704337569,
          2.411450742049884,
          2.8355591724665574,
          1.558804489709674,
          3.6732219477841266,
          3.4316311790666987,
          3.03315167441259,
          2.995361327270493,
          3.8601377220386026,
          3.8681738739015095,
          4.050199853524352,
          3.2778952852329435,
          3.600291901470926,
          2.9871241333214615
         ],
         "xaxis": "x",
         "y": [
          0.6805898880727538,
          0.8039022661085495,
          -0.31013859359932494,
          0.02239852991407296,
          0.26781735854283745,
          -0.11414695300252196,
          0.6072901713396802,
          0.20550959564761637,
          -0.08084815065207356,
          -0.019368666894963943,
          1.7444088906297557,
          -0.15564759535963985,
          -0.9820443059633468,
          -0.24377233395255235,
          -0.8190902787245985,
          1.0344973318785107,
          0.23233077237971697,
          -0.15677041851809267,
          -0.49109357829549743,
          1.0166115674381866,
          -0.19498951686067692,
          -0.5120990801814447,
          0.2600286536546371,
          0.4381412860588638,
          0.5979071625600343,
          -0.29768064102754577,
          -0.019980310054539038,
          0.4326587327677559,
          0.7896895835572884,
          -0.23714241340427478,
          -2.0773686248685332,
          -0.3679736863687854,
          0.42279998921288264,
          0.8120981431295042,
          -0.5973274619015538,
          -2.6442949407166836,
          -0.969824773800961,
          -1.5727067695695336,
          0.5977441551306417,
          0.1331554089920269
         ],
         "yaxis": "y"
        },
        {
         "mode": "markers",
         "name": "1",
         "type": "scatter",
         "x": [
          -0.588467708450443,
          -2.425075704185392,
          -2.009415193884924,
          -1.744169862303973,
          -0.8409543996120973,
          -2.275617154821654,
          -0.5031756243017333,
          -1.5249671970828702,
          -2.418349800960872,
          -1.518728289734464,
          -1.4637165642323358,
          -0.6691509585936343,
          -2.7599519190657973,
          -2.9989250397338165,
          -2.8336099227066693,
          -2.2209592485343475,
          -2.4211158259705643,
          -2.1156755282676367,
          -2.727099125304905,
          -2.6862147629295046,
          -0.037543567271809464,
          -1.659271984622597,
          -2.5936522037035905,
          -3.2653655426825328,
          -1.9350398765222576,
          -1.4640653463717377,
          -2.5923096487877575,
          -2.8596495934838204,
          -2.3073013499728554,
          -2.0903224196795875,
          -1.5753189977485704,
          -2.2605506269082016,
          -1.5948597438952317,
          -2.489906926622773,
          -2.9449068543738615,
          -2.130496048757374,
          -3.0957527428243963,
          -3.3093968321048495,
          -1.7279427507460992,
          -1.4876561196173512,
          -2.52235454817066,
          -2.6001170959695292
         ],
         "xaxis": "x",
         "y": [
          -2.0233867591993118,
          -0.23308883713685716,
          -2.8677311783669235,
          -0.45875611897643825,
          -1.5757799621584274,
          0.10328799153443304,
          -0.008132532125952911,
          -2.0759263045566776,
          -1.7572175755054753,
          -0.9291078513979568,
          -1.680638418318223,
          1.4036588573342608,
          -1.7454047533591421,
          -1.9579294368874125,
          -0.7514747102203199,
          -0.672576213746819,
          -1.0072660029786673,
          -2.9790798922315984,
          -2.6480509682835556,
          -1.9812367862299964,
          -0.9657295868515527,
          -3.3333311817890805,
          -1.767950658111273,
          -1.7952670841901253,
          -2.1873207328035265,
          -1.3747772093443789,
          -0.418548089865425,
          -0.5862049224626714,
          -0.5988073559395417,
          -0.12910608967455323,
          -0.9791152609386109,
          -1.3916758283418325,
          -0.36012549611466727,
          -1.277736768695488,
          -0.7162867622637535,
          -0.9505977727641176,
          -1.1883741048631573,
          -1.626531127772757,
          -0.9918646331045013,
          -2.4313065844317663,
          -0.29000716110382646,
          2.0315891329699554
         ],
         "yaxis": "y"
        },
        {
         "mode": "markers",
         "name": "2",
         "type": "scatter",
         "x": [
          -0.5204137140343036,
          -2.843528704065343,
          -1.9523750352562317,
          -2.3940604387863873,
          -2.1043744622458322,
          -1.1473995389720693,
          -3.246537134337062,
          -1.9524285389116351,
          -2.6570690516380093,
          -1.2548436622456525,
          -1.6949622519645284,
          -0.9597586065683711,
          -2.910313436436997,
          -1.8754044420531415,
          -1.1731941280396445,
          -2.0303511885516867,
          -1.912775259714973,
          -1.5184976231964673,
          -2.6445348754798217,
          -0.3261257510824772
         ],
         "xaxis": "x",
         "y": [
          4.499745491003538,
          3.165287496883781,
          2.5610001299207164,
          3.5777857801903634,
          3.1818519826232383,
          2.8376595659738797,
          3.5571910091071723,
          2.918174057036131,
          3.753983142225423,
          3.4714529166534085,
          2.7615994256229737,
          2.23889433858673,
          2.9729876195093334,
          3.9461426367237324,
          3.2464404465989904,
          1.2886014359081899,
          3.971508540371282,
          3.829525170810342,
          3.5196150472208076,
          4.086200710833192
         ],
         "yaxis": "y"
        },
        {
         "mode": "markers",
         "name": "3",
         "type": "scatter",
         "x": [
          1.6674208909592927,
          0.010503140396949691,
          4.120963512124205,
          0.10350505526920574,
          3.6354013199398976,
          -2.2958521681770425,
          1.210756479411488,
          -0.3336104099919142,
          -2.2625455317280343,
          3.524143895315713,
          3.079365721807298,
          -0.8191894257537885,
          -1.2875509235103784,
          -0.22084004369299115,
          -1.360392922117264,
          -2.1220509650562493,
          3.8151830544878553,
          -2.4507839409448358,
          -2.3684514034680997,
          -2.8142587719190524,
          -2.1230858532518897,
          -2.531984839271786,
          -3.044146903499509,
          3.3263867177778472,
          -3.5223502210430486,
          -2.381138192074775,
          -2.0308478562626258,
          -1.0783126038540105
         ],
         "xaxis": "x",
         "y": [
          0.7162981045831687,
          -0.3575299506525828,
          -0.949158126612051,
          -0.20701605264119113,
          -0.27819774825799826,
          -1.2624299452839676,
          0.48121802753354115,
          0.6947487124496449,
          -2.0231515028744522,
          -1.1867887911271453,
          -1.1984613417575165,
          1.2213576294858457,
          0.38418845026425136,
          0.5150955660262727,
          1.4493596263154913,
          -0.8904018677643302,
          -0.38189846787409176,
          -1.0171228306075102,
          -1.0858406328230035,
          -0.3186101671401287,
          -0.9641319506962814,
          -1.7676299769157846,
          -1.832768268460767,
          0.5103881274419099,
          -1.5972656070897269,
          -0.19499126956621302,
          -1.252076446550308,
          -1.6531879052387832
         ],
         "yaxis": "y"
        },
        {
         "marker": {
          "color": "rgba(135, 206, 250, 0)",
          "line": {
           "color": "red",
           "width": 5
          },
          "opacity": 1,
          "size": 25
         },
         "mode": "markers",
         "showlegend": false,
         "type": "scatter",
         "x": [
          -2.843528704065343
         ],
         "xaxis": "x",
         "y": [
          3.165287496883781
         ],
         "yaxis": "y"
        },
        {
         "marker": {
          "color": [
           7.796841412914378e-271,
           1.4424649316093515e-230,
           7.018647506185039e-194,
           9.296777812850296e-161,
           3.5076910604247147e-131,
           4.007869824760867e-105,
           1.5124012239371914e-82,
           2.1576524103359547e-63,
           1.499252354231263e-47,
           8.629899785955149e-35,
           8.1059470127481185e-25,
           1.677814478640588e-17,
           1.1329486356724401e-12,
           6.185090174793824e-10,
           1.2916867325109509e-08,
           2.6822291801041467e-08,
           9.515007177907685e-09,
           1.3892689497664919e-09,
           1.516289576200578e-10,
           7.2490496772238306e-12,
           1.3735789672775942e-261,
           1.6157272850074442e-221,
           4.7099946329312684e-185,
           3.4792437311791155e-152,
           6.708013276531281e-123,
           3.513928418749984e-97,
           5.291428915369459e-75,
           2.4887130060703223e-56,
           4.173873128995348e-41,
           3.197859204643736e-29,
           1.9791647612067585e-20,
           3.0779068968909994e-14,
           4.566259547392369e-10,
           1.0406191300924195e-07,
           5.109230762977867e-07,
           1.8716949015924477e-07,
           6.868797764246748e-08,
           6.014785872392158e-08,
           1.9480469922747062e-08,
           5.7980166965625165e-09,
           4.34408334977287e-255,
           3.735023742331766e-215,
           7.624184717898099e-179,
           3.7427586095675055e-146,
           4.4952212831542495e-117,
           1.3523280816044063e-91,
           1.05343280334845e-69,
           2.231367763052302e-51,
           1.387463333565517e-36,
           2.8892318153195873e-25,
           2.642727510875515e-17,
           3.491084352899137e-12,
           2.0367952068499626e-08,
           1.319681877299397e-06,
           5.12098346153326e-06,
           3.1399228392667393e-06,
           1.0511281266836659e-06,
           1.1501758138199874e-06,
           7.282738649290481e-07,
           3.6285220321442316e-07,
           2.6081595712221013e-251,
           1.906246520405021e-211,
           3.232650356453188e-175,
           1.2816385286689157e-142,
           1.1999778266290694e-113,
           2.6898435828891074e-88,
           1.471413129233089e-66,
           2.0193417812593756e-48,
           7.250003088424377e-34,
           7.289187148054855e-23,
           2.341354053905317e-15,
           4.784699868470974e-11,
           5.706291805567325e-08,
           3.839561793109073e-06,
           2.885072637295991e-05,
           2.8291803092470855e-05,
           6.472241031054563e-06,
           4.420760503670378e-06,
           2.6668584203035836e-06,
           2.248625067290242e-06,
           3.061740142979406e-250,
           2.2262849370965555e-210,
           3.7521497251375194e-174,
           1.4764147645610766e-141,
           1.3693578382050393e-112,
           3.0325828127621893e-87,
           1.6325530777839075e-65,
           2.1918185377806062e-47,
           7.624786189510822e-33,
           7.303349548024551e-22,
           2.151314488896595e-14,
           2.8857405502797456e-10,
           4.5048460124203156e-08,
           3.3629219101404534e-06,
           2.930497965946686e-05,
           3.326610737017405e-05,
           1.3505434778479199e-05,
           9.842916303413105e-06,
           2.9733256008861317e-06,
           3.305096391910383e-06,
           7.036246999103692e-252,
           5.959419862542065e-212,
           1.1948116346722332e-175,
           5.738636994338735e-143,
           6.708021866170758e-114,
           1.949699611443671e-88,
           1.4519490232611816e-66,
           2.8940886921510265e-48,
           1.6516738609989824e-33,
           3.0245829779460534e-22,
           2.218908799213231e-14,
           1.063595839467428e-09,
           8.091315829581601e-08,
           8.205570517251079e-07,
           1.1040576487594279e-05,
           1.935957769302203e-05,
           9.350002091263066e-06,
           4.393570153846237e-06,
           3.6846659681006634e-06,
           1.5357161191960876e-06,
           3.0808136780740916e-256,
           3.5384282173139307e-216,
           1.0027359040424995e-179,
           7.159638069384503e-147,
           1.324125495372805e-117,
           6.584261455439585e-92,
           9.2707021186087e-70,
           3.981344575642172e-51,
           5.828973659004024e-36,
           3.46488937737644e-24,
           1.1106444453423191e-15,
           2.985663824997962e-10,
           1.2026049512878886e-07,
           2.2934634058149374e-07,
           1.1834323663840404e-06,
           5.45725387565156e-06,
           4.620722020610635e-06,
           2.9111354792957488e-06,
           2.2176135221247073e-06,
           1.1159341564996411e-07,
           2.435053169906362e-263,
           4.3667498288628736e-223,
           2.0486765921735927e-186,
           2.598786113741676e-153,
           9.305672141889252e-124,
           9.960665789832126e-98,
           3.4452168793450656e-75,
           4.29131598993827e-56,
           2.246068042113631e-40,
           6.17767432443916e-28,
           1.234330150001483e-18,
           2.8236934180627702e-12,
           1.3763498928531416e-08,
           3.683980799898967e-07,
           4.143200848858246e-07,
           7.418786753010236e-07,
           1.3902919042502268e-06,
           4.7123676132510017e-07,
           3.5571517841391493e-08,
           1.170285954474777e-09,
           3.2145389051383994e-273,
           1.0205215622802593e-232,
           9.103444623239393e-196,
           2.390190353041432e-162,
           1.960926669233374e-132,
           5.435014512115668e-106,
           7.28942105384397e-83,
           2.5246606504205056e-63,
           5.879782376540204e-47,
           9.246910116394603e-34,
           1.4009299211885853e-23,
           3.310648616869217e-16,
           2.355869420715731e-11,
           1.271293148862035e-08,
           1.7854318188253338e-07,
           2.368895560248058e-07,
           8.105020724740895e-08,
           1.0416186803404739e-08,
           8.045584296324329e-10,
           1.4285044415289804e-11,
           6.43014277500333e-286,
           4.02354030121625e-245,
           7.6604241136599e-208,
           4.711409388591226e-174,
           1.0097906434902553e-143,
           8.31086052424437e-117,
           2.9778176229532128e-93,
           5.471062292804519e-73,
           6.388713655545658e-56,
           6.286759035133571e-42,
           7.542899933109418e-31,
           1.7847280972567545e-22,
           1.5493587016325761e-16,
           1.0778679327605541e-12,
           1.4805319612937302e-10,
           9.609478425707086e-10,
           5.639583229305118e-10,
           4.143014413542062e-11,
           4.787978315514947e-13,
           6.391565038941158e-16,
           1.7420434376549432e-301,
           2.3455284896287863e-260,
           1.0444143856361917e-222,
           1.652970595078558e-188,
           1.0171912950280699e-157,
           2.7238071275612763e-130,
           3.658265350102017e-106,
           2.950304632124444e-85,
           1.7953159234819953e-67,
           1.1006977242289984e-52,
           9.779731870932805e-41,
           1.977510932823029e-31,
           1.573418345045114e-24,
           9.293259991857619e-20,
           7.998864200441437e-17,
           1.865500331232216e-15,
           1.857563315082073e-15,
           9.87697921669055e-17,
           2.9281894068393804e-19,
           4.1030992651016317e-23,
           5.6556e-320,
           1.7539591692793254e-278,
           1.9548600674148392e-240,
           8.502258496462744e-206,
           1.5960248809651532e-174,
           1.4635869957058661e-146,
           7.637727122032846e-122,
           2.7380664509505375e-100,
           8.501374816000604e-82,
           3.0351973475765156e-66,
           1.7554251582381824e-53,
           2.469858380561191e-43,
           1.3493177367219872e-35,
           4.769210165452752e-30,
           1.8223135182090848e-26,
           1.1860734033678923e-24,
           1.8276450205742972e-24,
           7.812217924990428e-26,
           9.11382844686765e-29,
           2.41176600392855e-33,
           0,
           1.4528844912672368e-299,
           4.244048752137533e-261,
           5.281196215843816e-226,
           3.1204623043038584e-194,
           9.977987490500226e-166,
           2.0214841554387112e-140,
           3.1364911559764663e-118,
           4.675953023809345e-99,
           8.763402618168379e-83,
           2.8253395237061606e-69,
           2.240589189478293e-58,
           6.478354827766449e-50,
           1.0299801221000087e-43,
           1.3391242194554783e-39,
           2.003244764622344e-37,
           4.398724607788019e-37,
           1.589222965192021e-38,
           9.191487514473737e-42,
           7.201239182203767e-47,
           0,
           1e-323,
           9.05285228383975e-285,
           3.2836868897717206e-249,
           6.152193818557963e-217,
           6.806080257105552e-188,
           5.206467020425357e-162,
           3.3153928159633305e-139,
           2.1816061133708184e-119,
           1.9027715377582756e-102,
           2.914963726362508e-88,
           1.0696693548091297e-76,
           1.3072044146124344e-67,
           7.416721025526031e-61,
           2.6668017353222844e-56,
           7.892274193039517e-54,
           2.3092614839820626e-53,
           7.263720906525135e-55,
           2.392185097777099e-58,
           7.20489226888139e-64,
           0,
           0,
           1.617787174947e-311,
           1.7120346521586814e-275,
           1.0055894848442026e-242,
           3.746490200428932e-213,
           1.0332886769202387e-186,
           2.519707451172368e-163,
           6.649918613406815e-143,
           2.3832056342941946e-125,
           1.4886986041077864e-110,
           2.1175936425630185e-98,
           9.037320727624919e-89,
           1.5165078262611726e-81,
           1.28102981962672e-76,
           6.676152538951965e-74,
           2.4701084469624796e-73,
           6.906956889817356e-75,
           1.4266828262511483e-78,
           1.9556694327910274e-84,
           0,
           0,
           0,
           6.353035726542465e-305,
           1.1405503342213019e-271,
           1.3745676722543753e-241,
           1.2900612673745933e-214,
           1.114598882208304e-190,
           1.0682452957412482e-169,
           1.3935145473767097e-151,
           3.0824582528811723e-136,
           1.454724487922539e-123,
           1.8459796302319593e-113,
           7.861988471213717e-106,
           1.370587875490194e-100,
           1.1484804799520077e-97,
           5.159810176025397e-97,
           1.303507187997524e-98,
           1.816455296074923e-102,
           1.2823201524288603e-108,
           0,
           0,
           0,
           0,
           7.653270107100167e-304,
           2.8412955342760516e-273,
           8.509837849424203e-246,
           2.4027827095937894e-221,
           7.58335734034144e-200,
           3.21297358014993e-181,
           2.2160418911513246e-165,
           3.030935457365817e-152,
           9.988343019244433e-142,
           9.525547500411475e-134,
           3.0888665375551464e-128,
           3.873329896780432e-125,
           2.047628438217876e-124,
           4.735117737097865e-126,
           4.7135251518894195e-130,
           1.886384546072528e-136,
           0,
           0,
           0,
           0,
           0,
           2.8578732717185095e-308,
           2.55489008921793e-280,
           2.1755718885461735e-255,
           2.0594959418828636e-233,
           2.551852692202832e-214,
           4.899907984132896e-198,
           1.7278378624822132e-184,
           1.3193418447558794e-173,
           2.5409350823702383e-165,
           1.4089580518826191e-159,
           2.4966928935055547e-156,
           1.5151979886070866e-155,
           3.242311589140456e-157,
           2.4136249080423645e-161,
           5.91329480388647e-168,
           0,
           0,
           0,
           0,
           0,
           0,
           3.07459e-318,
           7.30662924172977e-293,
           1.9011289991866406e-270,
           6.262736289019461e-251,
           3.0283646884681776e-234,
           2.4886582680337393e-220,
           3.998326498855075e-209,
           1.4273136550064853e-200,
           1.2633960192355854e-194,
           3.020601317561178e-191,
           2.06357226793143e-190,
           4.1233186667672476e-192,
           2.38256017755218e-196,
           3.8039077674990045e-203,
           0,
           0,
           0,
           0,
           0,
           0,
           0,
           0,
           5.412206883913e-311,
           4.349868582642481e-291,
           4.848771238599074e-274,
           8.509600621411908e-260,
           2.6504496778509208e-248,
           1.6324013832037573e-239,
           2.1791747825797916e-233,
           6.768951540927777e-230,
           5.124079957568733e-229,
           9.633949552558183e-231,
           4.455601916515749e-235,
           4.880900641053631e-242
          ],
          "colorbar": {
           "title": {
            "text": "ColorBar"
           }
          },
          "colorscale": [
           [
            0,
            "#440154"
           ],
           [
            0.1111111111111111,
            "#482878"
           ],
           [
            0.2222222222222222,
            "#3e4989"
           ],
           [
            0.3333333333333333,
            "#31688e"
           ],
           [
            0.4444444444444444,
            "#26828e"
           ],
           [
            0.5555555555555556,
            "#1f9e89"
           ],
           [
            0.6666666666666666,
            "#35b779"
           ],
           [
            0.7777777777777778,
            "#6ece58"
           ],
           [
            0.8888888888888888,
            "#b5de2b"
           ],
           [
            1,
            "#fde725"
           ]
          ],
          "line": {
           "width": 0
          },
          "opacity": 1,
          "size": 25,
          "symbol": "circle"
         },
         "mode": "markers",
         "type": "scatter",
         "x": [
          -3.5223502210430486,
          -3.5223502210430486,
          -3.5223502210430486,
          -3.5223502210430486,
          -3.5223502210430486,
          -3.5223502210430486,
          -3.5223502210430486,
          -3.5223502210430486,
          -3.5223502210430486,
          -3.5223502210430486,
          -3.5223502210430486,
          -3.5223502210430486,
          -3.5223502210430486,
          -3.5223502210430486,
          -3.5223502210430486,
          -3.5223502210430486,
          -3.5223502210430486,
          -3.5223502210430486,
          -3.5223502210430486,
          -3.5223502210430486,
          -3.1041604881282794,
          -3.1041604881282794,
          -3.1041604881282794,
          -3.1041604881282794,
          -3.1041604881282794,
          -3.1041604881282794,
          -3.1041604881282794,
          -3.1041604881282794,
          -3.1041604881282794,
          -3.1041604881282794,
          -3.1041604881282794,
          -3.1041604881282794,
          -3.1041604881282794,
          -3.1041604881282794,
          -3.1041604881282794,
          -3.1041604881282794,
          -3.1041604881282794,
          -3.1041604881282794,
          -3.1041604881282794,
          -3.1041604881282794,
          -2.6859707552135097,
          -2.6859707552135097,
          -2.6859707552135097,
          -2.6859707552135097,
          -2.6859707552135097,
          -2.6859707552135097,
          -2.6859707552135097,
          -2.6859707552135097,
          -2.6859707552135097,
          -2.6859707552135097,
          -2.6859707552135097,
          -2.6859707552135097,
          -2.6859707552135097,
          -2.6859707552135097,
          -2.6859707552135097,
          -2.6859707552135097,
          -2.6859707552135097,
          -2.6859707552135097,
          -2.6859707552135097,
          -2.6859707552135097,
          -2.2677810222987405,
          -2.2677810222987405,
          -2.2677810222987405,
          -2.2677810222987405,
          -2.2677810222987405,
          -2.2677810222987405,
          -2.2677810222987405,
          -2.2677810222987405,
          -2.2677810222987405,
          -2.2677810222987405,
          -2.2677810222987405,
          -2.2677810222987405,
          -2.2677810222987405,
          -2.2677810222987405,
          -2.2677810222987405,
          -2.2677810222987405,
          -2.2677810222987405,
          -2.2677810222987405,
          -2.2677810222987405,
          -2.2677810222987405,
          -1.8495912893839712,
          -1.8495912893839712,
          -1.8495912893839712,
          -1.8495912893839712,
          -1.8495912893839712,
          -1.8495912893839712,
          -1.8495912893839712,
          -1.8495912893839712,
          -1.8495912893839712,
          -1.8495912893839712,
          -1.8495912893839712,
          -1.8495912893839712,
          -1.8495912893839712,
          -1.8495912893839712,
          -1.8495912893839712,
          -1.8495912893839712,
          -1.8495912893839712,
          -1.8495912893839712,
          -1.8495912893839712,
          -1.8495912893839712,
          -1.431401556469202,
          -1.431401556469202,
          -1.431401556469202,
          -1.431401556469202,
          -1.431401556469202,
          -1.431401556469202,
          -1.431401556469202,
          -1.431401556469202,
          -1.431401556469202,
          -1.431401556469202,
          -1.431401556469202,
          -1.431401556469202,
          -1.431401556469202,
          -1.431401556469202,
          -1.431401556469202,
          -1.431401556469202,
          -1.431401556469202,
          -1.431401556469202,
          -1.431401556469202,
          -1.431401556469202,
          -1.0132118235544323,
          -1.0132118235544323,
          -1.0132118235544323,
          -1.0132118235544323,
          -1.0132118235544323,
          -1.0132118235544323,
          -1.0132118235544323,
          -1.0132118235544323,
          -1.0132118235544323,
          -1.0132118235544323,
          -1.0132118235544323,
          -1.0132118235544323,
          -1.0132118235544323,
          -1.0132118235544323,
          -1.0132118235544323,
          -1.0132118235544323,
          -1.0132118235544323,
          -1.0132118235544323,
          -1.0132118235544323,
          -1.0132118235544323,
          -0.595022090639663,
          -0.595022090639663,
          -0.595022090639663,
          -0.595022090639663,
          -0.595022090639663,
          -0.595022090639663,
          -0.595022090639663,
          -0.595022090639663,
          -0.595022090639663,
          -0.595022090639663,
          -0.595022090639663,
          -0.595022090639663,
          -0.595022090639663,
          -0.595022090639663,
          -0.595022090639663,
          -0.595022090639663,
          -0.595022090639663,
          -0.595022090639663,
          -0.595022090639663,
          -0.595022090639663,
          -0.1768323577248938,
          -0.1768323577248938,
          -0.1768323577248938,
          -0.1768323577248938,
          -0.1768323577248938,
          -0.1768323577248938,
          -0.1768323577248938,
          -0.1768323577248938,
          -0.1768323577248938,
          -0.1768323577248938,
          -0.1768323577248938,
          -0.1768323577248938,
          -0.1768323577248938,
          -0.1768323577248938,
          -0.1768323577248938,
          -0.1768323577248938,
          -0.1768323577248938,
          -0.1768323577248938,
          -0.1768323577248938,
          -0.1768323577248938,
          0.24135737518987543,
          0.24135737518987543,
          0.24135737518987543,
          0.24135737518987543,
          0.24135737518987543,
          0.24135737518987543,
          0.24135737518987543,
          0.24135737518987543,
          0.24135737518987543,
          0.24135737518987543,
          0.24135737518987543,
          0.24135737518987543,
          0.24135737518987543,
          0.24135737518987543,
          0.24135737518987543,
          0.24135737518987543,
          0.24135737518987543,
          0.24135737518987543,
          0.24135737518987543,
          0.24135737518987543,
          0.6595471081046447,
          0.6595471081046447,
          0.6595471081046447,
          0.6595471081046447,
          0.6595471081046447,
          0.6595471081046447,
          0.6595471081046447,
          0.6595471081046447,
          0.6595471081046447,
          0.6595471081046447,
          0.6595471081046447,
          0.6595471081046447,
          0.6595471081046447,
          0.6595471081046447,
          0.6595471081046447,
          0.6595471081046447,
          0.6595471081046447,
          0.6595471081046447,
          0.6595471081046447,
          0.6595471081046447,
          1.0777368410194144,
          1.0777368410194144,
          1.0777368410194144,
          1.0777368410194144,
          1.0777368410194144,
          1.0777368410194144,
          1.0777368410194144,
          1.0777368410194144,
          1.0777368410194144,
          1.0777368410194144,
          1.0777368410194144,
          1.0777368410194144,
          1.0777368410194144,
          1.0777368410194144,
          1.0777368410194144,
          1.0777368410194144,
          1.0777368410194144,
          1.0777368410194144,
          1.0777368410194144,
          1.0777368410194144,
          1.495926573934184,
          1.495926573934184,
          1.495926573934184,
          1.495926573934184,
          1.495926573934184,
          1.495926573934184,
          1.495926573934184,
          1.495926573934184,
          1.495926573934184,
          1.495926573934184,
          1.495926573934184,
          1.495926573934184,
          1.495926573934184,
          1.495926573934184,
          1.495926573934184,
          1.495926573934184,
          1.495926573934184,
          1.495926573934184,
          1.495926573934184,
          1.495926573934184,
          1.9141163068489528,
          1.9141163068489528,
          1.9141163068489528,
          1.9141163068489528,
          1.9141163068489528,
          1.9141163068489528,
          1.9141163068489528,
          1.9141163068489528,
          1.9141163068489528,
          1.9141163068489528,
          1.9141163068489528,
          1.9141163068489528,
          1.9141163068489528,
          1.9141163068489528,
          1.9141163068489528,
          1.9141163068489528,
          1.9141163068489528,
          1.9141163068489528,
          1.9141163068489528,
          1.9141163068489528,
          2.3323060397637225,
          2.3323060397637225,
          2.3323060397637225,
          2.3323060397637225,
          2.3323060397637225,
          2.3323060397637225,
          2.3323060397637225,
          2.3323060397637225,
          2.3323060397637225,
          2.3323060397637225,
          2.3323060397637225,
          2.3323060397637225,
          2.3323060397637225,
          2.3323060397637225,
          2.3323060397637225,
          2.3323060397637225,
          2.3323060397637225,
          2.3323060397637225,
          2.3323060397637225,
          2.3323060397637225,
          2.7504957726784913,
          2.7504957726784913,
          2.7504957726784913,
          2.7504957726784913,
          2.7504957726784913,
          2.7504957726784913,
          2.7504957726784913,
          2.7504957726784913,
          2.7504957726784913,
          2.7504957726784913,
          2.7504957726784913,
          2.7504957726784913,
          2.7504957726784913,
          2.7504957726784913,
          2.7504957726784913,
          2.7504957726784913,
          2.7504957726784913,
          2.7504957726784913,
          2.7504957726784913,
          2.7504957726784913,
          3.168685505593261,
          3.168685505593261,
          3.168685505593261,
          3.168685505593261,
          3.168685505593261,
          3.168685505593261,
          3.168685505593261,
          3.168685505593261,
          3.168685505593261,
          3.168685505593261,
          3.168685505593261,
          3.168685505593261,
          3.168685505593261,
          3.168685505593261,
          3.168685505593261,
          3.168685505593261,
          3.168685505593261,
          3.168685505593261,
          3.168685505593261,
          3.168685505593261,
          3.5868752385080307,
          3.5868752385080307,
          3.5868752385080307,
          3.5868752385080307,
          3.5868752385080307,
          3.5868752385080307,
          3.5868752385080307,
          3.5868752385080307,
          3.5868752385080307,
          3.5868752385080307,
          3.5868752385080307,
          3.5868752385080307,
          3.5868752385080307,
          3.5868752385080307,
          3.5868752385080307,
          3.5868752385080307,
          3.5868752385080307,
          3.5868752385080307,
          3.5868752385080307,
          3.5868752385080307,
          4.005064971422799,
          4.005064971422799,
          4.005064971422799,
          4.005064971422799,
          4.005064971422799,
          4.005064971422799,
          4.005064971422799,
          4.005064971422799,
          4.005064971422799,
          4.005064971422799,
          4.005064971422799,
          4.005064971422799,
          4.005064971422799,
          4.005064971422799,
          4.005064971422799,
          4.005064971422799,
          4.005064971422799,
          4.005064971422799,
          4.005064971422799,
          4.005064971422799,
          4.423254704337569,
          4.423254704337569,
          4.423254704337569,
          4.423254704337569,
          4.423254704337569,
          4.423254704337569,
          4.423254704337569,
          4.423254704337569,
          4.423254704337569,
          4.423254704337569,
          4.423254704337569,
          4.423254704337569,
          4.423254704337569,
          4.423254704337569,
          4.423254704337569,
          4.423254704337569,
          4.423254704337569,
          4.423254704337569,
          4.423254704337569,
          4.423254704337569
         ],
         "xaxis": "x2",
         "y": [
          -3.3333311817890805,
          -2.921063988484206,
          -2.508796795179331,
          -2.0965296018744564,
          -1.6842624085695819,
          -1.2719952152647074,
          -0.8597280219598327,
          -0.44746082865495795,
          -0.03519363535008324,
          0.37707355795479147,
          0.7893407512596657,
          1.201607944564541,
          1.6138751378694152,
          2.0261423311742903,
          2.4384095244791646,
          2.8506767177840397,
          3.262943911088914,
          3.6752111043937883,
          4.087478297698663,
          4.499745491003538,
          -3.3333311817890805,
          -2.921063988484206,
          -2.508796795179331,
          -2.0965296018744564,
          -1.6842624085695819,
          -1.2719952152647074,
          -0.8597280219598327,
          -0.44746082865495795,
          -0.03519363535008324,
          0.37707355795479147,
          0.7893407512596657,
          1.201607944564541,
          1.6138751378694152,
          2.0261423311742903,
          2.4384095244791646,
          2.8506767177840397,
          3.262943911088914,
          3.6752111043937883,
          4.087478297698663,
          4.499745491003538,
          -3.3333311817890805,
          -2.921063988484206,
          -2.508796795179331,
          -2.0965296018744564,
          -1.6842624085695819,
          -1.2719952152647074,
          -0.8597280219598327,
          -0.44746082865495795,
          -0.03519363535008324,
          0.37707355795479147,
          0.7893407512596657,
          1.201607944564541,
          1.6138751378694152,
          2.0261423311742903,
          2.4384095244791646,
          2.8506767177840397,
          3.262943911088914,
          3.6752111043937883,
          4.087478297698663,
          4.499745491003538,
          -3.3333311817890805,
          -2.921063988484206,
          -2.508796795179331,
          -2.0965296018744564,
          -1.6842624085695819,
          -1.2719952152647074,
          -0.8597280219598327,
          -0.44746082865495795,
          -0.03519363535008324,
          0.37707355795479147,
          0.7893407512596657,
          1.201607944564541,
          1.6138751378694152,
          2.0261423311742903,
          2.4384095244791646,
          2.8506767177840397,
          3.262943911088914,
          3.6752111043937883,
          4.087478297698663,
          4.499745491003538,
          -3.3333311817890805,
          -2.921063988484206,
          -2.508796795179331,
          -2.0965296018744564,
          -1.6842624085695819,
          -1.2719952152647074,
          -0.8597280219598327,
          -0.44746082865495795,
          -0.03519363535008324,
          0.37707355795479147,
          0.7893407512596657,
          1.201607944564541,
          1.6138751378694152,
          2.0261423311742903,
          2.4384095244791646,
          2.8506767177840397,
          3.262943911088914,
          3.6752111043937883,
          4.087478297698663,
          4.499745491003538,
          -3.3333311817890805,
          -2.921063988484206,
          -2.508796795179331,
          -2.0965296018744564,
          -1.6842624085695819,
          -1.2719952152647074,
          -0.8597280219598327,
          -0.44746082865495795,
          -0.03519363535008324,
          0.37707355795479147,
          0.7893407512596657,
          1.201607944564541,
          1.6138751378694152,
          2.0261423311742903,
          2.4384095244791646,
          2.8506767177840397,
          3.262943911088914,
          3.6752111043937883,
          4.087478297698663,
          4.499745491003538,
          -3.3333311817890805,
          -2.921063988484206,
          -2.508796795179331,
          -2.0965296018744564,
          -1.6842624085695819,
          -1.2719952152647074,
          -0.8597280219598327,
          -0.44746082865495795,
          -0.03519363535008324,
          0.37707355795479147,
          0.7893407512596657,
          1.201607944564541,
          1.6138751378694152,
          2.0261423311742903,
          2.4384095244791646,
          2.8506767177840397,
          3.262943911088914,
          3.6752111043937883,
          4.087478297698663,
          4.499745491003538,
          -3.3333311817890805,
          -2.921063988484206,
          -2.508796795179331,
          -2.0965296018744564,
          -1.6842624085695819,
          -1.2719952152647074,
          -0.8597280219598327,
          -0.44746082865495795,
          -0.03519363535008324,
          0.37707355795479147,
          0.7893407512596657,
          1.201607944564541,
          1.6138751378694152,
          2.0261423311742903,
          2.4384095244791646,
          2.8506767177840397,
          3.262943911088914,
          3.6752111043937883,
          4.087478297698663,
          4.499745491003538,
          -3.3333311817890805,
          -2.921063988484206,
          -2.508796795179331,
          -2.0965296018744564,
          -1.6842624085695819,
          -1.2719952152647074,
          -0.8597280219598327,
          -0.44746082865495795,
          -0.03519363535008324,
          0.37707355795479147,
          0.7893407512596657,
          1.201607944564541,
          1.6138751378694152,
          2.0261423311742903,
          2.4384095244791646,
          2.8506767177840397,
          3.262943911088914,
          3.6752111043937883,
          4.087478297698663,
          4.499745491003538,
          -3.3333311817890805,
          -2.921063988484206,
          -2.508796795179331,
          -2.0965296018744564,
          -1.6842624085695819,
          -1.2719952152647074,
          -0.8597280219598327,
          -0.44746082865495795,
          -0.03519363535008324,
          0.37707355795479147,
          0.7893407512596657,
          1.201607944564541,
          1.6138751378694152,
          2.0261423311742903,
          2.4384095244791646,
          2.8506767177840397,
          3.262943911088914,
          3.6752111043937883,
          4.087478297698663,
          4.499745491003538,
          -3.3333311817890805,
          -2.921063988484206,
          -2.508796795179331,
          -2.0965296018744564,
          -1.6842624085695819,
          -1.2719952152647074,
          -0.8597280219598327,
          -0.44746082865495795,
          -0.03519363535008324,
          0.37707355795479147,
          0.7893407512596657,
          1.201607944564541,
          1.6138751378694152,
          2.0261423311742903,
          2.4384095244791646,
          2.8506767177840397,
          3.262943911088914,
          3.6752111043937883,
          4.087478297698663,
          4.499745491003538,
          -3.3333311817890805,
          -2.921063988484206,
          -2.508796795179331,
          -2.0965296018744564,
          -1.6842624085695819,
          -1.2719952152647074,
          -0.8597280219598327,
          -0.44746082865495795,
          -0.03519363535008324,
          0.37707355795479147,
          0.7893407512596657,
          1.201607944564541,
          1.6138751378694152,
          2.0261423311742903,
          2.4384095244791646,
          2.8506767177840397,
          3.262943911088914,
          3.6752111043937883,
          4.087478297698663,
          4.499745491003538,
          -3.3333311817890805,
          -2.921063988484206,
          -2.508796795179331,
          -2.0965296018744564,
          -1.6842624085695819,
          -1.2719952152647074,
          -0.8597280219598327,
          -0.44746082865495795,
          -0.03519363535008324,
          0.37707355795479147,
          0.7893407512596657,
          1.201607944564541,
          1.6138751378694152,
          2.0261423311742903,
          2.4384095244791646,
          2.8506767177840397,
          3.262943911088914,
          3.6752111043937883,
          4.087478297698663,
          4.499745491003538,
          -3.3333311817890805,
          -2.921063988484206,
          -2.508796795179331,
          -2.0965296018744564,
          -1.6842624085695819,
          -1.2719952152647074,
          -0.8597280219598327,
          -0.44746082865495795,
          -0.03519363535008324,
          0.37707355795479147,
          0.7893407512596657,
          1.201607944564541,
          1.6138751378694152,
          2.0261423311742903,
          2.4384095244791646,
          2.8506767177840397,
          3.262943911088914,
          3.6752111043937883,
          4.087478297698663,
          4.499745491003538,
          -3.3333311817890805,
          -2.921063988484206,
          -2.508796795179331,
          -2.0965296018744564,
          -1.6842624085695819,
          -1.2719952152647074,
          -0.8597280219598327,
          -0.44746082865495795,
          -0.03519363535008324,
          0.37707355795479147,
          0.7893407512596657,
          1.201607944564541,
          1.6138751378694152,
          2.0261423311742903,
          2.4384095244791646,
          2.8506767177840397,
          3.262943911088914,
          3.6752111043937883,
          4.087478297698663,
          4.499745491003538,
          -3.3333311817890805,
          -2.921063988484206,
          -2.508796795179331,
          -2.0965296018744564,
          -1.6842624085695819,
          -1.2719952152647074,
          -0.8597280219598327,
          -0.44746082865495795,
          -0.03519363535008324,
          0.37707355795479147,
          0.7893407512596657,
          1.201607944564541,
          1.6138751378694152,
          2.0261423311742903,
          2.4384095244791646,
          2.8506767177840397,
          3.262943911088914,
          3.6752111043937883,
          4.087478297698663,
          4.499745491003538,
          -3.3333311817890805,
          -2.921063988484206,
          -2.508796795179331,
          -2.0965296018744564,
          -1.6842624085695819,
          -1.2719952152647074,
          -0.8597280219598327,
          -0.44746082865495795,
          -0.03519363535008324,
          0.37707355795479147,
          0.7893407512596657,
          1.201607944564541,
          1.6138751378694152,
          2.0261423311742903,
          2.4384095244791646,
          2.8506767177840397,
          3.262943911088914,
          3.6752111043937883,
          4.087478297698663,
          4.499745491003538,
          -3.3333311817890805,
          -2.921063988484206,
          -2.508796795179331,
          -2.0965296018744564,
          -1.6842624085695819,
          -1.2719952152647074,
          -0.8597280219598327,
          -0.44746082865495795,
          -0.03519363535008324,
          0.37707355795479147,
          0.7893407512596657,
          1.201607944564541,
          1.6138751378694152,
          2.0261423311742903,
          2.4384095244791646,
          2.8506767177840397,
          3.262943911088914,
          3.6752111043937883,
          4.087478297698663,
          4.499745491003538,
          -3.3333311817890805,
          -2.921063988484206,
          -2.508796795179331,
          -2.0965296018744564,
          -1.6842624085695819,
          -1.2719952152647074,
          -0.8597280219598327,
          -0.44746082865495795,
          -0.03519363535008324,
          0.37707355795479147,
          0.7893407512596657,
          1.201607944564541,
          1.6138751378694152,
          2.0261423311742903,
          2.4384095244791646,
          2.8506767177840397,
          3.262943911088914,
          3.6752111043937883,
          4.087478297698663,
          4.499745491003538,
          -3.3333311817890805,
          -2.921063988484206,
          -2.508796795179331,
          -2.0965296018744564,
          -1.6842624085695819,
          -1.2719952152647074,
          -0.8597280219598327,
          -0.44746082865495795,
          -0.03519363535008324,
          0.37707355795479147,
          0.7893407512596657,
          1.201607944564541,
          1.6138751378694152,
          2.0261423311742903,
          2.4384095244791646,
          2.8506767177840397,
          3.262943911088914,
          3.6752111043937883,
          4.087478297698663,
          4.499745491003538
         ],
         "yaxis": "y2"
        }
       ],
       "layout": {
        "annotations": [
         {
          "font": {
           "size": 16
          },
          "showarrow": false,
          "text": "coords",
          "x": 0.225,
          "xanchor": "center",
          "xref": "paper",
          "y": 1,
          "yanchor": "bottom",
          "yref": "paper"
         },
         {
          "font": {
           "size": 16
          },
          "showarrow": false,
          "text": "coords",
          "x": 0.775,
          "xanchor": "center",
          "xref": "paper",
          "y": 1,
          "yanchor": "bottom",
          "yref": "paper"
         }
        ],
        "template": {
         "data": {
          "bar": [
           {
            "error_x": {
             "color": "#2a3f5f"
            },
            "error_y": {
             "color": "#2a3f5f"
            },
            "marker": {
             "line": {
              "color": "#E5ECF6",
              "width": 0.5
             }
            },
            "type": "bar"
           }
          ],
          "barpolar": [
           {
            "marker": {
             "line": {
              "color": "#E5ECF6",
              "width": 0.5
             }
            },
            "type": "barpolar"
           }
          ],
          "carpet": [
           {
            "aaxis": {
             "endlinecolor": "#2a3f5f",
             "gridcolor": "white",
             "linecolor": "white",
             "minorgridcolor": "white",
             "startlinecolor": "#2a3f5f"
            },
            "baxis": {
             "endlinecolor": "#2a3f5f",
             "gridcolor": "white",
             "linecolor": "white",
             "minorgridcolor": "white",
             "startlinecolor": "#2a3f5f"
            },
            "type": "carpet"
           }
          ],
          "choropleth": [
           {
            "colorbar": {
             "outlinewidth": 0,
             "ticks": ""
            },
            "type": "choropleth"
           }
          ],
          "contour": [
           {
            "colorbar": {
             "outlinewidth": 0,
             "ticks": ""
            },
            "colorscale": [
             [
              0,
              "#0d0887"
             ],
             [
              0.1111111111111111,
              "#46039f"
             ],
             [
              0.2222222222222222,
              "#7201a8"
             ],
             [
              0.3333333333333333,
              "#9c179e"
             ],
             [
              0.4444444444444444,
              "#bd3786"
             ],
             [
              0.5555555555555556,
              "#d8576b"
             ],
             [
              0.6666666666666666,
              "#ed7953"
             ],
             [
              0.7777777777777778,
              "#fb9f3a"
             ],
             [
              0.8888888888888888,
              "#fdca26"
             ],
             [
              1,
              "#f0f921"
             ]
            ],
            "type": "contour"
           }
          ],
          "contourcarpet": [
           {
            "colorbar": {
             "outlinewidth": 0,
             "ticks": ""
            },
            "type": "contourcarpet"
           }
          ],
          "heatmap": [
           {
            "colorbar": {
             "outlinewidth": 0,
             "ticks": ""
            },
            "colorscale": [
             [
              0,
              "#0d0887"
             ],
             [
              0.1111111111111111,
              "#46039f"
             ],
             [
              0.2222222222222222,
              "#7201a8"
             ],
             [
              0.3333333333333333,
              "#9c179e"
             ],
             [
              0.4444444444444444,
              "#bd3786"
             ],
             [
              0.5555555555555556,
              "#d8576b"
             ],
             [
              0.6666666666666666,
              "#ed7953"
             ],
             [
              0.7777777777777778,
              "#fb9f3a"
             ],
             [
              0.8888888888888888,
              "#fdca26"
             ],
             [
              1,
              "#f0f921"
             ]
            ],
            "type": "heatmap"
           }
          ],
          "heatmapgl": [
           {
            "colorbar": {
             "outlinewidth": 0,
             "ticks": ""
            },
            "colorscale": [
             [
              0,
              "#0d0887"
             ],
             [
              0.1111111111111111,
              "#46039f"
             ],
             [
              0.2222222222222222,
              "#7201a8"
             ],
             [
              0.3333333333333333,
              "#9c179e"
             ],
             [
              0.4444444444444444,
              "#bd3786"
             ],
             [
              0.5555555555555556,
              "#d8576b"
             ],
             [
              0.6666666666666666,
              "#ed7953"
             ],
             [
              0.7777777777777778,
              "#fb9f3a"
             ],
             [
              0.8888888888888888,
              "#fdca26"
             ],
             [
              1,
              "#f0f921"
             ]
            ],
            "type": "heatmapgl"
           }
          ],
          "histogram": [
           {
            "marker": {
             "colorbar": {
              "outlinewidth": 0,
              "ticks": ""
             }
            },
            "type": "histogram"
           }
          ],
          "histogram2d": [
           {
            "colorbar": {
             "outlinewidth": 0,
             "ticks": ""
            },
            "colorscale": [
             [
              0,
              "#0d0887"
             ],
             [
              0.1111111111111111,
              "#46039f"
             ],
             [
              0.2222222222222222,
              "#7201a8"
             ],
             [
              0.3333333333333333,
              "#9c179e"
             ],
             [
              0.4444444444444444,
              "#bd3786"
             ],
             [
              0.5555555555555556,
              "#d8576b"
             ],
             [
              0.6666666666666666,
              "#ed7953"
             ],
             [
              0.7777777777777778,
              "#fb9f3a"
             ],
             [
              0.8888888888888888,
              "#fdca26"
             ],
             [
              1,
              "#f0f921"
             ]
            ],
            "type": "histogram2d"
           }
          ],
          "histogram2dcontour": [
           {
            "colorbar": {
             "outlinewidth": 0,
             "ticks": ""
            },
            "colorscale": [
             [
              0,
              "#0d0887"
             ],
             [
              0.1111111111111111,
              "#46039f"
             ],
             [
              0.2222222222222222,
              "#7201a8"
             ],
             [
              0.3333333333333333,
              "#9c179e"
             ],
             [
              0.4444444444444444,
              "#bd3786"
             ],
             [
              0.5555555555555556,
              "#d8576b"
             ],
             [
              0.6666666666666666,
              "#ed7953"
             ],
             [
              0.7777777777777778,
              "#fb9f3a"
             ],
             [
              0.8888888888888888,
              "#fdca26"
             ],
             [
              1,
              "#f0f921"
             ]
            ],
            "type": "histogram2dcontour"
           }
          ],
          "mesh3d": [
           {
            "colorbar": {
             "outlinewidth": 0,
             "ticks": ""
            },
            "type": "mesh3d"
           }
          ],
          "parcoords": [
           {
            "line": {
             "colorbar": {
              "outlinewidth": 0,
              "ticks": ""
             }
            },
            "type": "parcoords"
           }
          ],
          "pie": [
           {
            "automargin": true,
            "type": "pie"
           }
          ],
          "scatter": [
           {
            "marker": {
             "colorbar": {
              "outlinewidth": 0,
              "ticks": ""
             }
            },
            "type": "scatter"
           }
          ],
          "scatter3d": [
           {
            "line": {
             "colorbar": {
              "outlinewidth": 0,
              "ticks": ""
             }
            },
            "marker": {
             "colorbar": {
              "outlinewidth": 0,
              "ticks": ""
             }
            },
            "type": "scatter3d"
           }
          ],
          "scattercarpet": [
           {
            "marker": {
             "colorbar": {
              "outlinewidth": 0,
              "ticks": ""
             }
            },
            "type": "scattercarpet"
           }
          ],
          "scattergeo": [
           {
            "marker": {
             "colorbar": {
              "outlinewidth": 0,
              "ticks": ""
             }
            },
            "type": "scattergeo"
           }
          ],
          "scattergl": [
           {
            "marker": {
             "colorbar": {
              "outlinewidth": 0,
              "ticks": ""
             }
            },
            "type": "scattergl"
           }
          ],
          "scattermapbox": [
           {
            "marker": {
             "colorbar": {
              "outlinewidth": 0,
              "ticks": ""
             }
            },
            "type": "scattermapbox"
           }
          ],
          "scatterpolar": [
           {
            "marker": {
             "colorbar": {
              "outlinewidth": 0,
              "ticks": ""
             }
            },
            "type": "scatterpolar"
           }
          ],
          "scatterpolargl": [
           {
            "marker": {
             "colorbar": {
              "outlinewidth": 0,
              "ticks": ""
             }
            },
            "type": "scatterpolargl"
           }
          ],
          "scatterternary": [
           {
            "marker": {
             "colorbar": {
              "outlinewidth": 0,
              "ticks": ""
             }
            },
            "type": "scatterternary"
           }
          ],
          "surface": [
           {
            "colorbar": {
             "outlinewidth": 0,
             "ticks": ""
            },
            "colorscale": [
             [
              0,
              "#0d0887"
             ],
             [
              0.1111111111111111,
              "#46039f"
             ],
             [
              0.2222222222222222,
              "#7201a8"
             ],
             [
              0.3333333333333333,
              "#9c179e"
             ],
             [
              0.4444444444444444,
              "#bd3786"
             ],
             [
              0.5555555555555556,
              "#d8576b"
             ],
             [
              0.6666666666666666,
              "#ed7953"
             ],
             [
              0.7777777777777778,
              "#fb9f3a"
             ],
             [
              0.8888888888888888,
              "#fdca26"
             ],
             [
              1,
              "#f0f921"
             ]
            ],
            "type": "surface"
           }
          ],
          "table": [
           {
            "cells": {
             "fill": {
              "color": "#EBF0F8"
             },
             "line": {
              "color": "white"
             }
            },
            "header": {
             "fill": {
              "color": "#C8D4E3"
             },
             "line": {
              "color": "white"
             }
            },
            "type": "table"
           }
          ]
         },
         "layout": {
          "annotationdefaults": {
           "arrowcolor": "#2a3f5f",
           "arrowhead": 0,
           "arrowwidth": 1
          },
          "coloraxis": {
           "colorbar": {
            "outlinewidth": 0,
            "ticks": ""
           }
          },
          "colorscale": {
           "diverging": [
            [
             0,
             "#8e0152"
            ],
            [
             0.1,
             "#c51b7d"
            ],
            [
             0.2,
             "#de77ae"
            ],
            [
             0.3,
             "#f1b6da"
            ],
            [
             0.4,
             "#fde0ef"
            ],
            [
             0.5,
             "#f7f7f7"
            ],
            [
             0.6,
             "#e6f5d0"
            ],
            [
             0.7,
             "#b8e186"
            ],
            [
             0.8,
             "#7fbc41"
            ],
            [
             0.9,
             "#4d9221"
            ],
            [
             1,
             "#276419"
            ]
           ],
           "sequential": [
            [
             0,
             "#0d0887"
            ],
            [
             0.1111111111111111,
             "#46039f"
            ],
            [
             0.2222222222222222,
             "#7201a8"
            ],
            [
             0.3333333333333333,
             "#9c179e"
            ],
            [
             0.4444444444444444,
             "#bd3786"
            ],
            [
             0.5555555555555556,
             "#d8576b"
            ],
            [
             0.6666666666666666,
             "#ed7953"
            ],
            [
             0.7777777777777778,
             "#fb9f3a"
            ],
            [
             0.8888888888888888,
             "#fdca26"
            ],
            [
             1,
             "#f0f921"
            ]
           ],
           "sequentialminus": [
            [
             0,
             "#0d0887"
            ],
            [
             0.1111111111111111,
             "#46039f"
            ],
            [
             0.2222222222222222,
             "#7201a8"
            ],
            [
             0.3333333333333333,
             "#9c179e"
            ],
            [
             0.4444444444444444,
             "#bd3786"
            ],
            [
             0.5555555555555556,
             "#d8576b"
            ],
            [
             0.6666666666666666,
             "#ed7953"
            ],
            [
             0.7777777777777778,
             "#fb9f3a"
            ],
            [
             0.8888888888888888,
             "#fdca26"
            ],
            [
             1,
             "#f0f921"
            ]
           ]
          },
          "colorway": [
           "#636efa",
           "#EF553B",
           "#00cc96",
           "#ab63fa",
           "#FFA15A",
           "#19d3f3",
           "#FF6692",
           "#B6E880",
           "#FF97FF",
           "#FECB52"
          ],
          "font": {
           "color": "#2a3f5f"
          },
          "geo": {
           "bgcolor": "white",
           "lakecolor": "white",
           "landcolor": "#E5ECF6",
           "showlakes": true,
           "showland": true,
           "subunitcolor": "white"
          },
          "hoverlabel": {
           "align": "left"
          },
          "hovermode": "closest",
          "mapbox": {
           "style": "light"
          },
          "paper_bgcolor": "white",
          "plot_bgcolor": "#E5ECF6",
          "polar": {
           "angularaxis": {
            "gridcolor": "white",
            "linecolor": "white",
            "ticks": ""
           },
           "bgcolor": "#E5ECF6",
           "radialaxis": {
            "gridcolor": "white",
            "linecolor": "white",
            "ticks": ""
           }
          },
          "scene": {
           "xaxis": {
            "backgroundcolor": "#E5ECF6",
            "gridcolor": "white",
            "gridwidth": 2,
            "linecolor": "white",
            "showbackground": true,
            "ticks": "",
            "zerolinecolor": "white"
           },
           "yaxis": {
            "backgroundcolor": "#E5ECF6",
            "gridcolor": "white",
            "gridwidth": 2,
            "linecolor": "white",
            "showbackground": true,
            "ticks": "",
            "zerolinecolor": "white"
           },
           "zaxis": {
            "backgroundcolor": "#E5ECF6",
            "gridcolor": "white",
            "gridwidth": 2,
            "linecolor": "white",
            "showbackground": true,
            "ticks": "",
            "zerolinecolor": "white"
           }
          },
          "shapedefaults": {
           "line": {
            "color": "#2a3f5f"
           }
          },
          "ternary": {
           "aaxis": {
            "gridcolor": "white",
            "linecolor": "white",
            "ticks": ""
           },
           "baxis": {
            "gridcolor": "white",
            "linecolor": "white",
            "ticks": ""
           },
           "bgcolor": "#E5ECF6",
           "caxis": {
            "gridcolor": "white",
            "linecolor": "white",
            "ticks": ""
           }
          },
          "title": {
           "x": 0.05
          },
          "xaxis": {
           "automargin": true,
           "gridcolor": "white",
           "linecolor": "white",
           "ticks": "",
           "title": {
            "standoff": 15
           },
           "zerolinecolor": "white",
           "zerolinewidth": 2
          },
          "yaxis": {
           "automargin": true,
           "gridcolor": "white",
           "linecolor": "white",
           "ticks": "",
           "title": {
            "standoff": 15
           },
           "zerolinecolor": "white",
           "zerolinewidth": 2
          }
         }
        },
        "xaxis": {
         "anchor": "y",
         "domain": [
          0,
          0.45
         ]
        },
        "xaxis2": {
         "anchor": "y2",
         "domain": [
          0.55,
          1
         ]
        },
        "yaxis": {
         "anchor": "x",
         "domain": [
          0,
          1
         ]
        },
        "yaxis2": {
         "anchor": "x2",
         "domain": [
          0,
          1
         ]
        }
       }
      },
      "text/html": [
       "<div>\n",
       "        \n",
       "        \n",
       "            <div id=\"74589c39-af37-4796-b5db-92cdf14e8598\" class=\"plotly-graph-div\" style=\"height:525px; width:100%;\"></div>\n",
       "            <script type=\"text/javascript\">\n",
       "                require([\"plotly\"], function(Plotly) {\n",
       "                    window.PLOTLYENV=window.PLOTLYENV || {};\n",
       "                    \n",
       "                if (document.getElementById(\"74589c39-af37-4796-b5db-92cdf14e8598\")) {\n",
       "                    Plotly.newPlot(\n",
       "                        '74589c39-af37-4796-b5db-92cdf14e8598',\n",
       "                        [{\"mode\": \"markers\", \"name\": \"0\", \"type\": \"scatter\", \"x\": [3.445574481375933, 2.863857011774429, 3.866887209912928, 2.932665671822504, 3.425689708701257, 3.725042716476828, 3.85042873130433, 4.336930881102006, 3.1624941489392753, 3.962170681675321, 3.7313913282998867, 3.581306171455651, 2.8765747093159604, 1.6331246827093906, 3.6266282401255663, 2.7869491892633698, 2.7590623765701934, 3.5895404336973904, 3.7552446930290753, 3.7658300022386695, 2.8671857561339507, 3.548954032100013, 3.577302370420785, 4.200382676921275, 4.071831592711339, 3.0125241785585297, 4.423254704337569, 2.411450742049884, 2.8355591724665574, 1.558804489709674, 3.6732219477841266, 3.4316311790666987, 3.03315167441259, 2.995361327270493, 3.8601377220386026, 3.8681738739015095, 4.050199853524352, 3.2778952852329435, 3.600291901470926, 2.9871241333214615], \"xaxis\": \"x\", \"y\": [0.6805898880727538, 0.8039022661085495, -0.31013859359932494, 0.02239852991407296, 0.26781735854283745, -0.11414695300252196, 0.6072901713396802, 0.20550959564761637, -0.08084815065207356, -0.019368666894963943, 1.7444088906297557, -0.15564759535963985, -0.9820443059633468, -0.24377233395255235, -0.8190902787245985, 1.0344973318785107, 0.23233077237971697, -0.15677041851809267, -0.49109357829549743, 1.0166115674381866, -0.19498951686067692, -0.5120990801814447, 0.2600286536546371, 0.4381412860588638, 0.5979071625600343, -0.29768064102754577, -0.019980310054539038, 0.4326587327677559, 0.7896895835572884, -0.23714241340427478, -2.0773686248685332, -0.3679736863687854, 0.42279998921288264, 0.8120981431295042, -0.5973274619015538, -2.6442949407166836, -0.969824773800961, -1.5727067695695336, 0.5977441551306417, 0.1331554089920269], \"yaxis\": \"y\"}, {\"mode\": \"markers\", \"name\": \"1\", \"type\": \"scatter\", \"x\": [-0.588467708450443, -2.425075704185392, -2.009415193884924, -1.744169862303973, -0.8409543996120973, -2.275617154821654, -0.5031756243017333, -1.5249671970828702, -2.418349800960872, -1.518728289734464, -1.4637165642323358, -0.6691509585936343, -2.7599519190657973, -2.9989250397338165, -2.8336099227066693, -2.2209592485343475, -2.4211158259705643, -2.1156755282676367, -2.727099125304905, -2.6862147629295046, -0.037543567271809464, -1.659271984622597, -2.5936522037035905, -3.2653655426825328, -1.9350398765222576, -1.4640653463717377, -2.5923096487877575, -2.8596495934838204, -2.3073013499728554, -2.0903224196795875, -1.5753189977485704, -2.2605506269082016, -1.5948597438952317, -2.489906926622773, -2.9449068543738615, -2.130496048757374, -3.0957527428243963, -3.3093968321048495, -1.7279427507460992, -1.4876561196173512, -2.52235454817066, -2.6001170959695292], \"xaxis\": \"x\", \"y\": [-2.0233867591993118, -0.23308883713685716, -2.8677311783669235, -0.45875611897643825, -1.5757799621584274, 0.10328799153443304, -0.008132532125952911, -2.0759263045566776, -1.7572175755054753, -0.9291078513979568, -1.680638418318223, 1.4036588573342608, -1.7454047533591421, -1.9579294368874125, -0.7514747102203199, -0.672576213746819, -1.0072660029786673, -2.9790798922315984, -2.6480509682835556, -1.9812367862299964, -0.9657295868515527, -3.3333311817890805, -1.767950658111273, -1.7952670841901253, -2.1873207328035265, -1.3747772093443789, -0.418548089865425, -0.5862049224626714, -0.5988073559395417, -0.12910608967455323, -0.9791152609386109, -1.3916758283418325, -0.36012549611466727, -1.277736768695488, -0.7162867622637535, -0.9505977727641176, -1.1883741048631573, -1.626531127772757, -0.9918646331045013, -2.4313065844317663, -0.29000716110382646, 2.0315891329699554], \"yaxis\": \"y\"}, {\"mode\": \"markers\", \"name\": \"2\", \"type\": \"scatter\", \"x\": [-0.5204137140343036, -2.843528704065343, -1.9523750352562317, -2.3940604387863873, -2.1043744622458322, -1.1473995389720693, -3.246537134337062, -1.9524285389116351, -2.6570690516380093, -1.2548436622456525, -1.6949622519645284, -0.9597586065683711, -2.910313436436997, -1.8754044420531415, -1.1731941280396445, -2.0303511885516867, -1.912775259714973, -1.5184976231964673, -2.6445348754798217, -0.3261257510824772], \"xaxis\": \"x\", \"y\": [4.499745491003538, 3.165287496883781, 2.5610001299207164, 3.5777857801903634, 3.1818519826232383, 2.8376595659738797, 3.5571910091071723, 2.918174057036131, 3.753983142225423, 3.4714529166534085, 2.7615994256229737, 2.23889433858673, 2.9729876195093334, 3.9461426367237324, 3.2464404465989904, 1.2886014359081899, 3.971508540371282, 3.829525170810342, 3.5196150472208076, 4.086200710833192], \"yaxis\": \"y\"}, {\"mode\": \"markers\", \"name\": \"3\", \"type\": \"scatter\", \"x\": [1.6674208909592927, 0.010503140396949691, 4.120963512124205, 0.10350505526920574, 3.6354013199398976, -2.2958521681770425, 1.210756479411488, -0.3336104099919142, -2.2625455317280343, 3.524143895315713, 3.079365721807298, -0.8191894257537885, -1.2875509235103784, -0.22084004369299115, -1.360392922117264, -2.1220509650562493, 3.8151830544878553, -2.4507839409448358, -2.3684514034680997, -2.8142587719190524, -2.1230858532518897, -2.531984839271786, -3.044146903499509, 3.3263867177778472, -3.5223502210430486, -2.381138192074775, -2.0308478562626258, -1.0783126038540105], \"xaxis\": \"x\", \"y\": [0.7162981045831687, -0.3575299506525828, -0.949158126612051, -0.20701605264119113, -0.27819774825799826, -1.2624299452839676, 0.48121802753354115, 0.6947487124496449, -2.0231515028744522, -1.1867887911271453, -1.1984613417575165, 1.2213576294858457, 0.38418845026425136, 0.5150955660262727, 1.4493596263154913, -0.8904018677643302, -0.38189846787409176, -1.0171228306075102, -1.0858406328230035, -0.3186101671401287, -0.9641319506962814, -1.7676299769157846, -1.832768268460767, 0.5103881274419099, -1.5972656070897269, -0.19499126956621302, -1.252076446550308, -1.6531879052387832], \"yaxis\": \"y\"}, {\"marker\": {\"color\": \"rgba(135, 206, 250, 0)\", \"line\": {\"color\": \"red\", \"width\": 5}, \"opacity\": 1, \"size\": 25}, \"mode\": \"markers\", \"showlegend\": false, \"type\": \"scatter\", \"x\": [-2.843528704065343], \"xaxis\": \"x\", \"y\": [3.165287496883781], \"yaxis\": \"y\"}, {\"marker\": {\"color\": [7.796841412914378e-271, 1.4424649316093515e-230, 7.018647506185039e-194, 9.296777812850296e-161, 3.5076910604247147e-131, 4.007869824760867e-105, 1.5124012239371914e-82, 2.1576524103359547e-63, 1.499252354231263e-47, 8.629899785955149e-35, 8.1059470127481185e-25, 1.677814478640588e-17, 1.1329486356724401e-12, 6.185090174793824e-10, 1.2916867325109509e-08, 2.6822291801041467e-08, 9.515007177907685e-09, 1.3892689497664919e-09, 1.516289576200578e-10, 7.2490496772238306e-12, 1.3735789672775942e-261, 1.6157272850074442e-221, 4.7099946329312684e-185, 3.4792437311791155e-152, 6.708013276531281e-123, 3.513928418749984e-97, 5.291428915369459e-75, 2.4887130060703223e-56, 4.173873128995348e-41, 3.197859204643736e-29, 1.9791647612067585e-20, 3.0779068968909994e-14, 4.566259547392369e-10, 1.0406191300924195e-07, 5.109230762977867e-07, 1.8716949015924477e-07, 6.868797764246748e-08, 6.014785872392158e-08, 1.9480469922747062e-08, 5.7980166965625165e-09, 4.34408334977287e-255, 3.735023742331766e-215, 7.624184717898099e-179, 3.7427586095675055e-146, 4.4952212831542495e-117, 1.3523280816044063e-91, 1.05343280334845e-69, 2.231367763052302e-51, 1.387463333565517e-36, 2.8892318153195873e-25, 2.642727510875515e-17, 3.491084352899137e-12, 2.0367952068499626e-08, 1.319681877299397e-06, 5.12098346153326e-06, 3.1399228392667393e-06, 1.0511281266836659e-06, 1.1501758138199874e-06, 7.282738649290481e-07, 3.6285220321442316e-07, 2.6081595712221013e-251, 1.906246520405021e-211, 3.232650356453188e-175, 1.2816385286689157e-142, 1.1999778266290694e-113, 2.6898435828891074e-88, 1.471413129233089e-66, 2.0193417812593756e-48, 7.250003088424377e-34, 7.289187148054855e-23, 2.341354053905317e-15, 4.784699868470974e-11, 5.706291805567325e-08, 3.839561793109073e-06, 2.885072637295991e-05, 2.8291803092470855e-05, 6.472241031054563e-06, 4.420760503670378e-06, 2.6668584203035836e-06, 2.248625067290242e-06, 3.061740142979406e-250, 2.2262849370965555e-210, 3.7521497251375194e-174, 1.4764147645610766e-141, 1.3693578382050393e-112, 3.0325828127621893e-87, 1.6325530777839075e-65, 2.1918185377806062e-47, 7.624786189510822e-33, 7.303349548024551e-22, 2.151314488896595e-14, 2.8857405502797456e-10, 4.5048460124203156e-08, 3.3629219101404534e-06, 2.930497965946686e-05, 3.326610737017405e-05, 1.3505434778479199e-05, 9.842916303413105e-06, 2.9733256008861317e-06, 3.305096391910383e-06, 7.036246999103692e-252, 5.959419862542065e-212, 1.1948116346722332e-175, 5.738636994338735e-143, 6.708021866170758e-114, 1.949699611443671e-88, 1.4519490232611816e-66, 2.8940886921510265e-48, 1.6516738609989824e-33, 3.0245829779460534e-22, 2.218908799213231e-14, 1.063595839467428e-09, 8.091315829581601e-08, 8.205570517251079e-07, 1.1040576487594279e-05, 1.935957769302203e-05, 9.350002091263066e-06, 4.393570153846237e-06, 3.6846659681006634e-06, 1.5357161191960876e-06, 3.0808136780740916e-256, 3.5384282173139307e-216, 1.0027359040424995e-179, 7.159638069384503e-147, 1.324125495372805e-117, 6.584261455439585e-92, 9.2707021186087e-70, 3.981344575642172e-51, 5.828973659004024e-36, 3.46488937737644e-24, 1.1106444453423191e-15, 2.985663824997962e-10, 1.2026049512878886e-07, 2.2934634058149374e-07, 1.1834323663840404e-06, 5.45725387565156e-06, 4.620722020610635e-06, 2.9111354792957488e-06, 2.2176135221247073e-06, 1.1159341564996411e-07, 2.435053169906362e-263, 4.3667498288628736e-223, 2.0486765921735927e-186, 2.598786113741676e-153, 9.305672141889252e-124, 9.960665789832126e-98, 3.4452168793450656e-75, 4.29131598993827e-56, 2.246068042113631e-40, 6.17767432443916e-28, 1.234330150001483e-18, 2.8236934180627702e-12, 1.3763498928531416e-08, 3.683980799898967e-07, 4.143200848858246e-07, 7.418786753010236e-07, 1.3902919042502268e-06, 4.7123676132510017e-07, 3.5571517841391493e-08, 1.170285954474777e-09, 3.2145389051383994e-273, 1.0205215622802593e-232, 9.103444623239393e-196, 2.390190353041432e-162, 1.960926669233374e-132, 5.435014512115668e-106, 7.28942105384397e-83, 2.5246606504205056e-63, 5.879782376540204e-47, 9.246910116394603e-34, 1.4009299211885853e-23, 3.310648616869217e-16, 2.355869420715731e-11, 1.271293148862035e-08, 1.7854318188253338e-07, 2.368895560248058e-07, 8.105020724740895e-08, 1.0416186803404739e-08, 8.045584296324329e-10, 1.4285044415289804e-11, 6.43014277500333e-286, 4.02354030121625e-245, 7.6604241136599e-208, 4.711409388591226e-174, 1.0097906434902553e-143, 8.31086052424437e-117, 2.9778176229532128e-93, 5.471062292804519e-73, 6.388713655545658e-56, 6.286759035133571e-42, 7.542899933109418e-31, 1.7847280972567545e-22, 1.5493587016325761e-16, 1.0778679327605541e-12, 1.4805319612937302e-10, 9.609478425707086e-10, 5.639583229305118e-10, 4.143014413542062e-11, 4.787978315514947e-13, 6.391565038941158e-16, 1.7420434376549432e-301, 2.3455284896287863e-260, 1.0444143856361917e-222, 1.652970595078558e-188, 1.0171912950280699e-157, 2.7238071275612763e-130, 3.658265350102017e-106, 2.950304632124444e-85, 1.7953159234819953e-67, 1.1006977242289984e-52, 9.779731870932805e-41, 1.977510932823029e-31, 1.573418345045114e-24, 9.293259991857619e-20, 7.998864200441437e-17, 1.865500331232216e-15, 1.857563315082073e-15, 9.87697921669055e-17, 2.9281894068393804e-19, 4.1030992651016317e-23, 5.6556e-320, 1.7539591692793254e-278, 1.9548600674148392e-240, 8.502258496462744e-206, 1.5960248809651532e-174, 1.4635869957058661e-146, 7.637727122032846e-122, 2.7380664509505375e-100, 8.501374816000604e-82, 3.0351973475765156e-66, 1.7554251582381824e-53, 2.469858380561191e-43, 1.3493177367219872e-35, 4.769210165452752e-30, 1.8223135182090848e-26, 1.1860734033678923e-24, 1.8276450205742972e-24, 7.812217924990428e-26, 9.11382844686765e-29, 2.41176600392855e-33, 0.0, 1.4528844912672368e-299, 4.244048752137533e-261, 5.281196215843816e-226, 3.1204623043038584e-194, 9.977987490500226e-166, 2.0214841554387112e-140, 3.1364911559764663e-118, 4.675953023809345e-99, 8.763402618168379e-83, 2.8253395237061606e-69, 2.240589189478293e-58, 6.478354827766449e-50, 1.0299801221000087e-43, 1.3391242194554783e-39, 2.003244764622344e-37, 4.398724607788019e-37, 1.589222965192021e-38, 9.191487514473737e-42, 7.201239182203767e-47, 0.0, 1e-323, 9.05285228383975e-285, 3.2836868897717206e-249, 6.152193818557963e-217, 6.806080257105552e-188, 5.206467020425357e-162, 3.3153928159633305e-139, 2.1816061133708184e-119, 1.9027715377582756e-102, 2.914963726362508e-88, 1.0696693548091297e-76, 1.3072044146124344e-67, 7.416721025526031e-61, 2.6668017353222844e-56, 7.892274193039517e-54, 2.3092614839820626e-53, 7.263720906525135e-55, 2.392185097777099e-58, 7.20489226888139e-64, 0.0, 0.0, 1.617787174947e-311, 1.7120346521586814e-275, 1.0055894848442026e-242, 3.746490200428932e-213, 1.0332886769202387e-186, 2.519707451172368e-163, 6.649918613406815e-143, 2.3832056342941946e-125, 1.4886986041077864e-110, 2.1175936425630185e-98, 9.037320727624919e-89, 1.5165078262611726e-81, 1.28102981962672e-76, 6.676152538951965e-74, 2.4701084469624796e-73, 6.906956889817356e-75, 1.4266828262511483e-78, 1.9556694327910274e-84, 0.0, 0.0, 0.0, 6.353035726542465e-305, 1.1405503342213019e-271, 1.3745676722543753e-241, 1.2900612673745933e-214, 1.114598882208304e-190, 1.0682452957412482e-169, 1.3935145473767097e-151, 3.0824582528811723e-136, 1.454724487922539e-123, 1.8459796302319593e-113, 7.861988471213717e-106, 1.370587875490194e-100, 1.1484804799520077e-97, 5.159810176025397e-97, 1.303507187997524e-98, 1.816455296074923e-102, 1.2823201524288603e-108, 0.0, 0.0, 0.0, 0.0, 7.653270107100167e-304, 2.8412955342760516e-273, 8.509837849424203e-246, 2.4027827095937894e-221, 7.58335734034144e-200, 3.21297358014993e-181, 2.2160418911513246e-165, 3.030935457365817e-152, 9.988343019244433e-142, 9.525547500411475e-134, 3.0888665375551464e-128, 3.873329896780432e-125, 2.047628438217876e-124, 4.735117737097865e-126, 4.7135251518894195e-130, 1.886384546072528e-136, 0.0, 0.0, 0.0, 0.0, 0.0, 2.8578732717185095e-308, 2.55489008921793e-280, 2.1755718885461735e-255, 2.0594959418828636e-233, 2.551852692202832e-214, 4.899907984132896e-198, 1.7278378624822132e-184, 1.3193418447558794e-173, 2.5409350823702383e-165, 1.4089580518826191e-159, 2.4966928935055547e-156, 1.5151979886070866e-155, 3.242311589140456e-157, 2.4136249080423645e-161, 5.91329480388647e-168, 0.0, 0.0, 0.0, 0.0, 0.0, 0.0, 3.07459e-318, 7.30662924172977e-293, 1.9011289991866406e-270, 6.262736289019461e-251, 3.0283646884681776e-234, 2.4886582680337393e-220, 3.998326498855075e-209, 1.4273136550064853e-200, 1.2633960192355854e-194, 3.020601317561178e-191, 2.06357226793143e-190, 4.1233186667672476e-192, 2.38256017755218e-196, 3.8039077674990045e-203, 0.0, 0.0, 0.0, 0.0, 0.0, 0.0, 0.0, 0.0, 5.412206883913e-311, 4.349868582642481e-291, 4.848771238599074e-274, 8.509600621411908e-260, 2.6504496778509208e-248, 1.6324013832037573e-239, 2.1791747825797916e-233, 6.768951540927777e-230, 5.124079957568733e-229, 9.633949552558183e-231, 4.455601916515749e-235, 4.880900641053631e-242], \"colorbar\": {\"title\": {\"text\": \"ColorBar\"}}, \"colorscale\": [[0.0, \"#440154\"], [0.1111111111111111, \"#482878\"], [0.2222222222222222, \"#3e4989\"], [0.3333333333333333, \"#31688e\"], [0.4444444444444444, \"#26828e\"], [0.5555555555555556, \"#1f9e89\"], [0.6666666666666666, \"#35b779\"], [0.7777777777777778, \"#6ece58\"], [0.8888888888888888, \"#b5de2b\"], [1.0, \"#fde725\"]], \"line\": {\"width\": 0}, \"opacity\": 1, \"size\": 25, \"symbol\": \"circle\"}, \"mode\": \"markers\", \"type\": \"scatter\", \"x\": [-3.5223502210430486, -3.5223502210430486, -3.5223502210430486, -3.5223502210430486, -3.5223502210430486, -3.5223502210430486, -3.5223502210430486, -3.5223502210430486, -3.5223502210430486, -3.5223502210430486, -3.5223502210430486, -3.5223502210430486, -3.5223502210430486, -3.5223502210430486, -3.5223502210430486, -3.5223502210430486, -3.5223502210430486, -3.5223502210430486, -3.5223502210430486, -3.5223502210430486, -3.1041604881282794, -3.1041604881282794, -3.1041604881282794, -3.1041604881282794, -3.1041604881282794, -3.1041604881282794, -3.1041604881282794, -3.1041604881282794, -3.1041604881282794, -3.1041604881282794, -3.1041604881282794, -3.1041604881282794, -3.1041604881282794, -3.1041604881282794, -3.1041604881282794, -3.1041604881282794, -3.1041604881282794, -3.1041604881282794, -3.1041604881282794, -3.1041604881282794, -2.6859707552135097, -2.6859707552135097, -2.6859707552135097, -2.6859707552135097, -2.6859707552135097, -2.6859707552135097, -2.6859707552135097, -2.6859707552135097, -2.6859707552135097, -2.6859707552135097, -2.6859707552135097, -2.6859707552135097, -2.6859707552135097, -2.6859707552135097, -2.6859707552135097, -2.6859707552135097, -2.6859707552135097, -2.6859707552135097, -2.6859707552135097, -2.6859707552135097, -2.2677810222987405, -2.2677810222987405, -2.2677810222987405, -2.2677810222987405, -2.2677810222987405, -2.2677810222987405, -2.2677810222987405, -2.2677810222987405, -2.2677810222987405, -2.2677810222987405, -2.2677810222987405, -2.2677810222987405, -2.2677810222987405, -2.2677810222987405, -2.2677810222987405, -2.2677810222987405, -2.2677810222987405, -2.2677810222987405, -2.2677810222987405, -2.2677810222987405, -1.8495912893839712, -1.8495912893839712, -1.8495912893839712, -1.8495912893839712, -1.8495912893839712, -1.8495912893839712, -1.8495912893839712, -1.8495912893839712, -1.8495912893839712, -1.8495912893839712, -1.8495912893839712, -1.8495912893839712, -1.8495912893839712, -1.8495912893839712, -1.8495912893839712, -1.8495912893839712, -1.8495912893839712, -1.8495912893839712, -1.8495912893839712, -1.8495912893839712, -1.431401556469202, -1.431401556469202, -1.431401556469202, -1.431401556469202, -1.431401556469202, -1.431401556469202, -1.431401556469202, -1.431401556469202, -1.431401556469202, -1.431401556469202, -1.431401556469202, -1.431401556469202, -1.431401556469202, -1.431401556469202, -1.431401556469202, -1.431401556469202, -1.431401556469202, -1.431401556469202, -1.431401556469202, -1.431401556469202, -1.0132118235544323, -1.0132118235544323, -1.0132118235544323, -1.0132118235544323, -1.0132118235544323, -1.0132118235544323, -1.0132118235544323, -1.0132118235544323, -1.0132118235544323, -1.0132118235544323, -1.0132118235544323, -1.0132118235544323, -1.0132118235544323, -1.0132118235544323, -1.0132118235544323, -1.0132118235544323, -1.0132118235544323, -1.0132118235544323, -1.0132118235544323, -1.0132118235544323, -0.595022090639663, -0.595022090639663, -0.595022090639663, -0.595022090639663, -0.595022090639663, -0.595022090639663, -0.595022090639663, -0.595022090639663, -0.595022090639663, -0.595022090639663, -0.595022090639663, -0.595022090639663, -0.595022090639663, -0.595022090639663, -0.595022090639663, -0.595022090639663, -0.595022090639663, -0.595022090639663, -0.595022090639663, -0.595022090639663, -0.1768323577248938, -0.1768323577248938, -0.1768323577248938, -0.1768323577248938, -0.1768323577248938, -0.1768323577248938, -0.1768323577248938, -0.1768323577248938, -0.1768323577248938, -0.1768323577248938, -0.1768323577248938, -0.1768323577248938, -0.1768323577248938, -0.1768323577248938, -0.1768323577248938, -0.1768323577248938, -0.1768323577248938, -0.1768323577248938, -0.1768323577248938, -0.1768323577248938, 0.24135737518987543, 0.24135737518987543, 0.24135737518987543, 0.24135737518987543, 0.24135737518987543, 0.24135737518987543, 0.24135737518987543, 0.24135737518987543, 0.24135737518987543, 0.24135737518987543, 0.24135737518987543, 0.24135737518987543, 0.24135737518987543, 0.24135737518987543, 0.24135737518987543, 0.24135737518987543, 0.24135737518987543, 0.24135737518987543, 0.24135737518987543, 0.24135737518987543, 0.6595471081046447, 0.6595471081046447, 0.6595471081046447, 0.6595471081046447, 0.6595471081046447, 0.6595471081046447, 0.6595471081046447, 0.6595471081046447, 0.6595471081046447, 0.6595471081046447, 0.6595471081046447, 0.6595471081046447, 0.6595471081046447, 0.6595471081046447, 0.6595471081046447, 0.6595471081046447, 0.6595471081046447, 0.6595471081046447, 0.6595471081046447, 0.6595471081046447, 1.0777368410194144, 1.0777368410194144, 1.0777368410194144, 1.0777368410194144, 1.0777368410194144, 1.0777368410194144, 1.0777368410194144, 1.0777368410194144, 1.0777368410194144, 1.0777368410194144, 1.0777368410194144, 1.0777368410194144, 1.0777368410194144, 1.0777368410194144, 1.0777368410194144, 1.0777368410194144, 1.0777368410194144, 1.0777368410194144, 1.0777368410194144, 1.0777368410194144, 1.495926573934184, 1.495926573934184, 1.495926573934184, 1.495926573934184, 1.495926573934184, 1.495926573934184, 1.495926573934184, 1.495926573934184, 1.495926573934184, 1.495926573934184, 1.495926573934184, 1.495926573934184, 1.495926573934184, 1.495926573934184, 1.495926573934184, 1.495926573934184, 1.495926573934184, 1.495926573934184, 1.495926573934184, 1.495926573934184, 1.9141163068489528, 1.9141163068489528, 1.9141163068489528, 1.9141163068489528, 1.9141163068489528, 1.9141163068489528, 1.9141163068489528, 1.9141163068489528, 1.9141163068489528, 1.9141163068489528, 1.9141163068489528, 1.9141163068489528, 1.9141163068489528, 1.9141163068489528, 1.9141163068489528, 1.9141163068489528, 1.9141163068489528, 1.9141163068489528, 1.9141163068489528, 1.9141163068489528, 2.3323060397637225, 2.3323060397637225, 2.3323060397637225, 2.3323060397637225, 2.3323060397637225, 2.3323060397637225, 2.3323060397637225, 2.3323060397637225, 2.3323060397637225, 2.3323060397637225, 2.3323060397637225, 2.3323060397637225, 2.3323060397637225, 2.3323060397637225, 2.3323060397637225, 2.3323060397637225, 2.3323060397637225, 2.3323060397637225, 2.3323060397637225, 2.3323060397637225, 2.7504957726784913, 2.7504957726784913, 2.7504957726784913, 2.7504957726784913, 2.7504957726784913, 2.7504957726784913, 2.7504957726784913, 2.7504957726784913, 2.7504957726784913, 2.7504957726784913, 2.7504957726784913, 2.7504957726784913, 2.7504957726784913, 2.7504957726784913, 2.7504957726784913, 2.7504957726784913, 2.7504957726784913, 2.7504957726784913, 2.7504957726784913, 2.7504957726784913, 3.168685505593261, 3.168685505593261, 3.168685505593261, 3.168685505593261, 3.168685505593261, 3.168685505593261, 3.168685505593261, 3.168685505593261, 3.168685505593261, 3.168685505593261, 3.168685505593261, 3.168685505593261, 3.168685505593261, 3.168685505593261, 3.168685505593261, 3.168685505593261, 3.168685505593261, 3.168685505593261, 3.168685505593261, 3.168685505593261, 3.5868752385080307, 3.5868752385080307, 3.5868752385080307, 3.5868752385080307, 3.5868752385080307, 3.5868752385080307, 3.5868752385080307, 3.5868752385080307, 3.5868752385080307, 3.5868752385080307, 3.5868752385080307, 3.5868752385080307, 3.5868752385080307, 3.5868752385080307, 3.5868752385080307, 3.5868752385080307, 3.5868752385080307, 3.5868752385080307, 3.5868752385080307, 3.5868752385080307, 4.005064971422799, 4.005064971422799, 4.005064971422799, 4.005064971422799, 4.005064971422799, 4.005064971422799, 4.005064971422799, 4.005064971422799, 4.005064971422799, 4.005064971422799, 4.005064971422799, 4.005064971422799, 4.005064971422799, 4.005064971422799, 4.005064971422799, 4.005064971422799, 4.005064971422799, 4.005064971422799, 4.005064971422799, 4.005064971422799, 4.423254704337569, 4.423254704337569, 4.423254704337569, 4.423254704337569, 4.423254704337569, 4.423254704337569, 4.423254704337569, 4.423254704337569, 4.423254704337569, 4.423254704337569, 4.423254704337569, 4.423254704337569, 4.423254704337569, 4.423254704337569, 4.423254704337569, 4.423254704337569, 4.423254704337569, 4.423254704337569, 4.423254704337569, 4.423254704337569], \"xaxis\": \"x2\", \"y\": [-3.3333311817890805, -2.921063988484206, -2.508796795179331, -2.0965296018744564, -1.6842624085695819, -1.2719952152647074, -0.8597280219598327, -0.44746082865495795, -0.03519363535008324, 0.37707355795479147, 0.7893407512596657, 1.201607944564541, 1.6138751378694152, 2.0261423311742903, 2.4384095244791646, 2.8506767177840397, 3.262943911088914, 3.6752111043937883, 4.087478297698663, 4.499745491003538, -3.3333311817890805, -2.921063988484206, -2.508796795179331, -2.0965296018744564, -1.6842624085695819, -1.2719952152647074, -0.8597280219598327, -0.44746082865495795, -0.03519363535008324, 0.37707355795479147, 0.7893407512596657, 1.201607944564541, 1.6138751378694152, 2.0261423311742903, 2.4384095244791646, 2.8506767177840397, 3.262943911088914, 3.6752111043937883, 4.087478297698663, 4.499745491003538, -3.3333311817890805, -2.921063988484206, -2.508796795179331, -2.0965296018744564, -1.6842624085695819, -1.2719952152647074, -0.8597280219598327, -0.44746082865495795, -0.03519363535008324, 0.37707355795479147, 0.7893407512596657, 1.201607944564541, 1.6138751378694152, 2.0261423311742903, 2.4384095244791646, 2.8506767177840397, 3.262943911088914, 3.6752111043937883, 4.087478297698663, 4.499745491003538, -3.3333311817890805, -2.921063988484206, -2.508796795179331, -2.0965296018744564, -1.6842624085695819, -1.2719952152647074, -0.8597280219598327, -0.44746082865495795, -0.03519363535008324, 0.37707355795479147, 0.7893407512596657, 1.201607944564541, 1.6138751378694152, 2.0261423311742903, 2.4384095244791646, 2.8506767177840397, 3.262943911088914, 3.6752111043937883, 4.087478297698663, 4.499745491003538, -3.3333311817890805, -2.921063988484206, -2.508796795179331, -2.0965296018744564, -1.6842624085695819, -1.2719952152647074, -0.8597280219598327, -0.44746082865495795, -0.03519363535008324, 0.37707355795479147, 0.7893407512596657, 1.201607944564541, 1.6138751378694152, 2.0261423311742903, 2.4384095244791646, 2.8506767177840397, 3.262943911088914, 3.6752111043937883, 4.087478297698663, 4.499745491003538, -3.3333311817890805, -2.921063988484206, -2.508796795179331, -2.0965296018744564, -1.6842624085695819, -1.2719952152647074, -0.8597280219598327, -0.44746082865495795, -0.03519363535008324, 0.37707355795479147, 0.7893407512596657, 1.201607944564541, 1.6138751378694152, 2.0261423311742903, 2.4384095244791646, 2.8506767177840397, 3.262943911088914, 3.6752111043937883, 4.087478297698663, 4.499745491003538, -3.3333311817890805, -2.921063988484206, -2.508796795179331, -2.0965296018744564, -1.6842624085695819, -1.2719952152647074, -0.8597280219598327, -0.44746082865495795, -0.03519363535008324, 0.37707355795479147, 0.7893407512596657, 1.201607944564541, 1.6138751378694152, 2.0261423311742903, 2.4384095244791646, 2.8506767177840397, 3.262943911088914, 3.6752111043937883, 4.087478297698663, 4.499745491003538, -3.3333311817890805, -2.921063988484206, -2.508796795179331, -2.0965296018744564, -1.6842624085695819, -1.2719952152647074, -0.8597280219598327, -0.44746082865495795, -0.03519363535008324, 0.37707355795479147, 0.7893407512596657, 1.201607944564541, 1.6138751378694152, 2.0261423311742903, 2.4384095244791646, 2.8506767177840397, 3.262943911088914, 3.6752111043937883, 4.087478297698663, 4.499745491003538, -3.3333311817890805, -2.921063988484206, -2.508796795179331, -2.0965296018744564, -1.6842624085695819, -1.2719952152647074, -0.8597280219598327, -0.44746082865495795, -0.03519363535008324, 0.37707355795479147, 0.7893407512596657, 1.201607944564541, 1.6138751378694152, 2.0261423311742903, 2.4384095244791646, 2.8506767177840397, 3.262943911088914, 3.6752111043937883, 4.087478297698663, 4.499745491003538, -3.3333311817890805, -2.921063988484206, -2.508796795179331, -2.0965296018744564, -1.6842624085695819, -1.2719952152647074, -0.8597280219598327, -0.44746082865495795, -0.03519363535008324, 0.37707355795479147, 0.7893407512596657, 1.201607944564541, 1.6138751378694152, 2.0261423311742903, 2.4384095244791646, 2.8506767177840397, 3.262943911088914, 3.6752111043937883, 4.087478297698663, 4.499745491003538, -3.3333311817890805, -2.921063988484206, -2.508796795179331, -2.0965296018744564, -1.6842624085695819, -1.2719952152647074, -0.8597280219598327, -0.44746082865495795, -0.03519363535008324, 0.37707355795479147, 0.7893407512596657, 1.201607944564541, 1.6138751378694152, 2.0261423311742903, 2.4384095244791646, 2.8506767177840397, 3.262943911088914, 3.6752111043937883, 4.087478297698663, 4.499745491003538, -3.3333311817890805, -2.921063988484206, -2.508796795179331, -2.0965296018744564, -1.6842624085695819, -1.2719952152647074, -0.8597280219598327, -0.44746082865495795, -0.03519363535008324, 0.37707355795479147, 0.7893407512596657, 1.201607944564541, 1.6138751378694152, 2.0261423311742903, 2.4384095244791646, 2.8506767177840397, 3.262943911088914, 3.6752111043937883, 4.087478297698663, 4.499745491003538, -3.3333311817890805, -2.921063988484206, -2.508796795179331, -2.0965296018744564, -1.6842624085695819, -1.2719952152647074, -0.8597280219598327, -0.44746082865495795, -0.03519363535008324, 0.37707355795479147, 0.7893407512596657, 1.201607944564541, 1.6138751378694152, 2.0261423311742903, 2.4384095244791646, 2.8506767177840397, 3.262943911088914, 3.6752111043937883, 4.087478297698663, 4.499745491003538, -3.3333311817890805, -2.921063988484206, -2.508796795179331, -2.0965296018744564, -1.6842624085695819, -1.2719952152647074, -0.8597280219598327, -0.44746082865495795, -0.03519363535008324, 0.37707355795479147, 0.7893407512596657, 1.201607944564541, 1.6138751378694152, 2.0261423311742903, 2.4384095244791646, 2.8506767177840397, 3.262943911088914, 3.6752111043937883, 4.087478297698663, 4.499745491003538, -3.3333311817890805, -2.921063988484206, -2.508796795179331, -2.0965296018744564, -1.6842624085695819, -1.2719952152647074, -0.8597280219598327, -0.44746082865495795, -0.03519363535008324, 0.37707355795479147, 0.7893407512596657, 1.201607944564541, 1.6138751378694152, 2.0261423311742903, 2.4384095244791646, 2.8506767177840397, 3.262943911088914, 3.6752111043937883, 4.087478297698663, 4.499745491003538, -3.3333311817890805, -2.921063988484206, -2.508796795179331, -2.0965296018744564, -1.6842624085695819, -1.2719952152647074, -0.8597280219598327, -0.44746082865495795, -0.03519363535008324, 0.37707355795479147, 0.7893407512596657, 1.201607944564541, 1.6138751378694152, 2.0261423311742903, 2.4384095244791646, 2.8506767177840397, 3.262943911088914, 3.6752111043937883, 4.087478297698663, 4.499745491003538, -3.3333311817890805, -2.921063988484206, -2.508796795179331, -2.0965296018744564, -1.6842624085695819, -1.2719952152647074, -0.8597280219598327, -0.44746082865495795, -0.03519363535008324, 0.37707355795479147, 0.7893407512596657, 1.201607944564541, 1.6138751378694152, 2.0261423311742903, 2.4384095244791646, 2.8506767177840397, 3.262943911088914, 3.6752111043937883, 4.087478297698663, 4.499745491003538, -3.3333311817890805, -2.921063988484206, -2.508796795179331, -2.0965296018744564, -1.6842624085695819, -1.2719952152647074, -0.8597280219598327, -0.44746082865495795, -0.03519363535008324, 0.37707355795479147, 0.7893407512596657, 1.201607944564541, 1.6138751378694152, 2.0261423311742903, 2.4384095244791646, 2.8506767177840397, 3.262943911088914, 3.6752111043937883, 4.087478297698663, 4.499745491003538, -3.3333311817890805, -2.921063988484206, -2.508796795179331, -2.0965296018744564, -1.6842624085695819, -1.2719952152647074, -0.8597280219598327, -0.44746082865495795, -0.03519363535008324, 0.37707355795479147, 0.7893407512596657, 1.201607944564541, 1.6138751378694152, 2.0261423311742903, 2.4384095244791646, 2.8506767177840397, 3.262943911088914, 3.6752111043937883, 4.087478297698663, 4.499745491003538, -3.3333311817890805, -2.921063988484206, -2.508796795179331, -2.0965296018744564, -1.6842624085695819, -1.2719952152647074, -0.8597280219598327, -0.44746082865495795, -0.03519363535008324, 0.37707355795479147, 0.7893407512596657, 1.201607944564541, 1.6138751378694152, 2.0261423311742903, 2.4384095244791646, 2.8506767177840397, 3.262943911088914, 3.6752111043937883, 4.087478297698663, 4.499745491003538], \"yaxis\": \"y2\"}],\n",
       "                        {\"annotations\": [{\"font\": {\"size\": 16}, \"showarrow\": false, \"text\": \"coords\", \"x\": 0.225, \"xanchor\": \"center\", \"xref\": \"paper\", \"y\": 1.0, \"yanchor\": \"bottom\", \"yref\": \"paper\"}, {\"font\": {\"size\": 16}, \"showarrow\": false, \"text\": \"coords\", \"x\": 0.775, \"xanchor\": \"center\", \"xref\": \"paper\", \"y\": 1.0, \"yanchor\": \"bottom\", \"yref\": \"paper\"}], \"template\": {\"data\": {\"bar\": [{\"error_x\": {\"color\": \"#2a3f5f\"}, \"error_y\": {\"color\": \"#2a3f5f\"}, \"marker\": {\"line\": {\"color\": \"#E5ECF6\", \"width\": 0.5}}, \"type\": \"bar\"}], \"barpolar\": [{\"marker\": {\"line\": {\"color\": \"#E5ECF6\", \"width\": 0.5}}, \"type\": \"barpolar\"}], \"carpet\": [{\"aaxis\": {\"endlinecolor\": \"#2a3f5f\", \"gridcolor\": \"white\", \"linecolor\": \"white\", \"minorgridcolor\": \"white\", \"startlinecolor\": \"#2a3f5f\"}, \"baxis\": {\"endlinecolor\": \"#2a3f5f\", \"gridcolor\": \"white\", \"linecolor\": \"white\", \"minorgridcolor\": \"white\", \"startlinecolor\": \"#2a3f5f\"}, \"type\": \"carpet\"}], \"choropleth\": [{\"colorbar\": {\"outlinewidth\": 0, \"ticks\": \"\"}, \"type\": \"choropleth\"}], \"contour\": [{\"colorbar\": {\"outlinewidth\": 0, \"ticks\": \"\"}, \"colorscale\": [[0.0, \"#0d0887\"], [0.1111111111111111, \"#46039f\"], [0.2222222222222222, \"#7201a8\"], [0.3333333333333333, \"#9c179e\"], [0.4444444444444444, \"#bd3786\"], [0.5555555555555556, \"#d8576b\"], [0.6666666666666666, \"#ed7953\"], [0.7777777777777778, \"#fb9f3a\"], [0.8888888888888888, \"#fdca26\"], [1.0, \"#f0f921\"]], \"type\": \"contour\"}], \"contourcarpet\": [{\"colorbar\": {\"outlinewidth\": 0, \"ticks\": \"\"}, \"type\": \"contourcarpet\"}], \"heatmap\": [{\"colorbar\": {\"outlinewidth\": 0, \"ticks\": \"\"}, \"colorscale\": [[0.0, \"#0d0887\"], [0.1111111111111111, \"#46039f\"], [0.2222222222222222, \"#7201a8\"], [0.3333333333333333, \"#9c179e\"], [0.4444444444444444, \"#bd3786\"], [0.5555555555555556, \"#d8576b\"], [0.6666666666666666, \"#ed7953\"], [0.7777777777777778, \"#fb9f3a\"], [0.8888888888888888, \"#fdca26\"], [1.0, \"#f0f921\"]], \"type\": \"heatmap\"}], \"heatmapgl\": [{\"colorbar\": {\"outlinewidth\": 0, \"ticks\": \"\"}, \"colorscale\": [[0.0, \"#0d0887\"], [0.1111111111111111, \"#46039f\"], [0.2222222222222222, \"#7201a8\"], [0.3333333333333333, \"#9c179e\"], [0.4444444444444444, \"#bd3786\"], [0.5555555555555556, \"#d8576b\"], [0.6666666666666666, \"#ed7953\"], [0.7777777777777778, \"#fb9f3a\"], [0.8888888888888888, \"#fdca26\"], [1.0, \"#f0f921\"]], \"type\": \"heatmapgl\"}], \"histogram\": [{\"marker\": {\"colorbar\": {\"outlinewidth\": 0, \"ticks\": \"\"}}, \"type\": \"histogram\"}], \"histogram2d\": [{\"colorbar\": {\"outlinewidth\": 0, \"ticks\": \"\"}, \"colorscale\": [[0.0, \"#0d0887\"], [0.1111111111111111, \"#46039f\"], [0.2222222222222222, \"#7201a8\"], [0.3333333333333333, \"#9c179e\"], [0.4444444444444444, \"#bd3786\"], [0.5555555555555556, \"#d8576b\"], [0.6666666666666666, \"#ed7953\"], [0.7777777777777778, \"#fb9f3a\"], [0.8888888888888888, \"#fdca26\"], [1.0, \"#f0f921\"]], \"type\": \"histogram2d\"}], \"histogram2dcontour\": [{\"colorbar\": {\"outlinewidth\": 0, \"ticks\": \"\"}, \"colorscale\": [[0.0, \"#0d0887\"], [0.1111111111111111, \"#46039f\"], [0.2222222222222222, \"#7201a8\"], [0.3333333333333333, \"#9c179e\"], [0.4444444444444444, \"#bd3786\"], [0.5555555555555556, \"#d8576b\"], [0.6666666666666666, \"#ed7953\"], [0.7777777777777778, \"#fb9f3a\"], [0.8888888888888888, \"#fdca26\"], [1.0, \"#f0f921\"]], \"type\": \"histogram2dcontour\"}], \"mesh3d\": [{\"colorbar\": {\"outlinewidth\": 0, \"ticks\": \"\"}, \"type\": \"mesh3d\"}], \"parcoords\": [{\"line\": {\"colorbar\": {\"outlinewidth\": 0, \"ticks\": \"\"}}, \"type\": \"parcoords\"}], \"pie\": [{\"automargin\": true, \"type\": \"pie\"}], \"scatter\": [{\"marker\": {\"colorbar\": {\"outlinewidth\": 0, \"ticks\": \"\"}}, \"type\": \"scatter\"}], \"scatter3d\": [{\"line\": {\"colorbar\": {\"outlinewidth\": 0, \"ticks\": \"\"}}, \"marker\": {\"colorbar\": {\"outlinewidth\": 0, \"ticks\": \"\"}}, \"type\": \"scatter3d\"}], \"scattercarpet\": [{\"marker\": {\"colorbar\": {\"outlinewidth\": 0, \"ticks\": \"\"}}, \"type\": \"scattercarpet\"}], \"scattergeo\": [{\"marker\": {\"colorbar\": {\"outlinewidth\": 0, \"ticks\": \"\"}}, \"type\": \"scattergeo\"}], \"scattergl\": [{\"marker\": {\"colorbar\": {\"outlinewidth\": 0, \"ticks\": \"\"}}, \"type\": \"scattergl\"}], \"scattermapbox\": [{\"marker\": {\"colorbar\": {\"outlinewidth\": 0, \"ticks\": \"\"}}, \"type\": \"scattermapbox\"}], \"scatterpolar\": [{\"marker\": {\"colorbar\": {\"outlinewidth\": 0, \"ticks\": \"\"}}, \"type\": \"scatterpolar\"}], \"scatterpolargl\": [{\"marker\": {\"colorbar\": {\"outlinewidth\": 0, \"ticks\": \"\"}}, \"type\": \"scatterpolargl\"}], \"scatterternary\": [{\"marker\": {\"colorbar\": {\"outlinewidth\": 0, \"ticks\": \"\"}}, \"type\": \"scatterternary\"}], \"surface\": [{\"colorbar\": {\"outlinewidth\": 0, \"ticks\": \"\"}, \"colorscale\": [[0.0, \"#0d0887\"], [0.1111111111111111, \"#46039f\"], [0.2222222222222222, \"#7201a8\"], [0.3333333333333333, \"#9c179e\"], [0.4444444444444444, \"#bd3786\"], [0.5555555555555556, \"#d8576b\"], [0.6666666666666666, \"#ed7953\"], [0.7777777777777778, \"#fb9f3a\"], [0.8888888888888888, \"#fdca26\"], [1.0, \"#f0f921\"]], \"type\": \"surface\"}], \"table\": [{\"cells\": {\"fill\": {\"color\": \"#EBF0F8\"}, \"line\": {\"color\": \"white\"}}, \"header\": {\"fill\": {\"color\": \"#C8D4E3\"}, \"line\": {\"color\": \"white\"}}, \"type\": \"table\"}]}, \"layout\": {\"annotationdefaults\": {\"arrowcolor\": \"#2a3f5f\", \"arrowhead\": 0, \"arrowwidth\": 1}, \"coloraxis\": {\"colorbar\": {\"outlinewidth\": 0, \"ticks\": \"\"}}, \"colorscale\": {\"diverging\": [[0, \"#8e0152\"], [0.1, \"#c51b7d\"], [0.2, \"#de77ae\"], [0.3, \"#f1b6da\"], [0.4, \"#fde0ef\"], [0.5, \"#f7f7f7\"], [0.6, \"#e6f5d0\"], [0.7, \"#b8e186\"], [0.8, \"#7fbc41\"], [0.9, \"#4d9221\"], [1, \"#276419\"]], \"sequential\": [[0.0, \"#0d0887\"], [0.1111111111111111, \"#46039f\"], [0.2222222222222222, \"#7201a8\"], [0.3333333333333333, \"#9c179e\"], [0.4444444444444444, \"#bd3786\"], [0.5555555555555556, \"#d8576b\"], [0.6666666666666666, \"#ed7953\"], [0.7777777777777778, \"#fb9f3a\"], [0.8888888888888888, \"#fdca26\"], [1.0, \"#f0f921\"]], \"sequentialminus\": [[0.0, \"#0d0887\"], [0.1111111111111111, \"#46039f\"], [0.2222222222222222, \"#7201a8\"], [0.3333333333333333, \"#9c179e\"], [0.4444444444444444, \"#bd3786\"], [0.5555555555555556, \"#d8576b\"], [0.6666666666666666, \"#ed7953\"], [0.7777777777777778, \"#fb9f3a\"], [0.8888888888888888, \"#fdca26\"], [1.0, \"#f0f921\"]]}, \"colorway\": [\"#636efa\", \"#EF553B\", \"#00cc96\", \"#ab63fa\", \"#FFA15A\", \"#19d3f3\", \"#FF6692\", \"#B6E880\", \"#FF97FF\", \"#FECB52\"], \"font\": {\"color\": \"#2a3f5f\"}, \"geo\": {\"bgcolor\": \"white\", \"lakecolor\": \"white\", \"landcolor\": \"#E5ECF6\", \"showlakes\": true, \"showland\": true, \"subunitcolor\": \"white\"}, \"hoverlabel\": {\"align\": \"left\"}, \"hovermode\": \"closest\", \"mapbox\": {\"style\": \"light\"}, \"paper_bgcolor\": \"white\", \"plot_bgcolor\": \"#E5ECF6\", \"polar\": {\"angularaxis\": {\"gridcolor\": \"white\", \"linecolor\": \"white\", \"ticks\": \"\"}, \"bgcolor\": \"#E5ECF6\", \"radialaxis\": {\"gridcolor\": \"white\", \"linecolor\": \"white\", \"ticks\": \"\"}}, \"scene\": {\"xaxis\": {\"backgroundcolor\": \"#E5ECF6\", \"gridcolor\": \"white\", \"gridwidth\": 2, \"linecolor\": \"white\", \"showbackground\": true, \"ticks\": \"\", \"zerolinecolor\": \"white\"}, \"yaxis\": {\"backgroundcolor\": \"#E5ECF6\", \"gridcolor\": \"white\", \"gridwidth\": 2, \"linecolor\": \"white\", \"showbackground\": true, \"ticks\": \"\", \"zerolinecolor\": \"white\"}, \"zaxis\": {\"backgroundcolor\": \"#E5ECF6\", \"gridcolor\": \"white\", \"gridwidth\": 2, \"linecolor\": \"white\", \"showbackground\": true, \"ticks\": \"\", \"zerolinecolor\": \"white\"}}, \"shapedefaults\": {\"line\": {\"color\": \"#2a3f5f\"}}, \"ternary\": {\"aaxis\": {\"gridcolor\": \"white\", \"linecolor\": \"white\", \"ticks\": \"\"}, \"baxis\": {\"gridcolor\": \"white\", \"linecolor\": \"white\", \"ticks\": \"\"}, \"bgcolor\": \"#E5ECF6\", \"caxis\": {\"gridcolor\": \"white\", \"linecolor\": \"white\", \"ticks\": \"\"}}, \"title\": {\"x\": 0.05}, \"xaxis\": {\"automargin\": true, \"gridcolor\": \"white\", \"linecolor\": \"white\", \"ticks\": \"\", \"title\": {\"standoff\": 15}, \"zerolinecolor\": \"white\", \"zerolinewidth\": 2}, \"yaxis\": {\"automargin\": true, \"gridcolor\": \"white\", \"linecolor\": \"white\", \"ticks\": \"\", \"title\": {\"standoff\": 15}, \"zerolinecolor\": \"white\", \"zerolinewidth\": 2}}}, \"xaxis\": {\"anchor\": \"y\", \"domain\": [0.0, 0.45]}, \"xaxis2\": {\"anchor\": \"y2\", \"domain\": [0.55, 1.0]}, \"yaxis\": {\"anchor\": \"x\", \"domain\": [0.0, 1.0]}, \"yaxis2\": {\"anchor\": \"x2\", \"domain\": [0.0, 1.0]}},\n",
       "                        {\"responsive\": true}\n",
       "                    ).then(function(){\n",
       "                            \n",
       "var gd = document.getElementById('74589c39-af37-4796-b5db-92cdf14e8598');\n",
       "var x = new MutationObserver(function (mutations, observer) {{\n",
       "        var display = window.getComputedStyle(gd).display;\n",
       "        if (!display || display === 'none') {{\n",
       "            console.log([gd, 'removed!']);\n",
       "            Plotly.purge(gd);\n",
       "            observer.disconnect();\n",
       "        }}\n",
       "}});\n",
       "\n",
       "// Listen for the removal of the full notebook cells\n",
       "var notebookContainer = gd.closest('#notebook-container');\n",
       "if (notebookContainer) {{\n",
       "    x.observe(notebookContainer, {childList: true});\n",
       "}}\n",
       "\n",
       "// Listen for the clearing of the current output cell\n",
       "var outputEl = gd.closest('.output');\n",
       "if (outputEl) {{\n",
       "    x.observe(outputEl, {childList: true});\n",
       "}}\n",
       "\n",
       "                        })\n",
       "                };\n",
       "                });\n",
       "            </script>\n",
       "        </div>"
      ]
     },
     "metadata": {},
     "output_type": "display_data"
    }
   ],
   "source": [
    "from plotly import tools\n",
    "\n",
    "title= 'coords'\n",
    "fig_subplots = tools.make_subplots(rows=1, cols=2,subplot_titles=tuple([title]*2))\n",
    "\n",
    "for trace in figwl:\n",
    "    fig_subplots.append_trace(trace, 1, 1)\n",
    "    \n",
    "\n",
    "trace= go.Scatter(\n",
    "    x= background[:,0],\n",
    "    y= background[:,1],\n",
    "    #z= grid_likes,\n",
    "    mode= 'markers',\n",
    "    marker= {\n",
    "        'color':grid_likes,\n",
    "        'colorbar': go.scatter.marker.ColorBar(\n",
    "            title= 'ColorBar'\n",
    "        ),\n",
    "        'colorscale':'Viridis',\n",
    "        'line': {'width': 0},\n",
    "        'size': 25,\n",
    "        'symbol': 'circle',\n",
    "      \"opacity\": 1\n",
    "      }\n",
    ")\n",
    "\n",
    "fig_subplots.append_trace(trace, 1,2)\n",
    "\n",
    "iplot(fig_subplots)"
   ]
  },
  {
   "cell_type": "markdown",
   "metadata": {},
   "source": [
    "### IV. Grid walk.\n",
    "\n",
    "Grids can quickly become very heavy (grid edge length times dimensions). We propose to narrow down the search progressively.\n",
    "\n",
    "Observations with high likelihood are used to reproduce background coordinates within their distribution in successive layers of analysis.\n",
    "\n"
   ]
  },
  {
   "cell_type": "code",
   "execution_count": 38,
   "metadata": {},
   "outputs": [],
   "source": [
    "from impute_tools.impute_tools_VI import (\n",
    "    nBg_MS, nBg_grid,\n",
    "    gridWalk\n",
    ")\n",
    "\n",
    "dist_ref_select= 0\n",
    "dist_ref= dist_store[labelf_select[dist_ref_select],:]\n",
    "dist_ref= dist_ref[:,std_gp_use]\n",
    "\n",
    "P= 20\n",
    "dimN= 2\n",
    "N_samps= P**dimN\n",
    "dist_comps= 10\n",
    "Bandwidth_split = 30\n",
    "kernel= 'gaussian'\n",
    "\n",
    "\n",
    "\n",
    "BG_func= nBg_MS\n",
    "BG_args= {\n",
    "    'lb':0.05,\n",
    "    'up':0.8,\n",
    "    'kernel': kernel,\n",
    "    'N_samps': N_samps\n",
    "}\n",
    "\n",
    "\n",
    "granted, grid_likes= gridWalk(featl,dist_ref,BG_func, BG_args= BG_args, std_gp_use= std_gp_use,\n",
    "            P= P,\n",
    "            dimN= dimN,\n",
    "            N_samps= N_samps,\n",
    "            dist_comps= dist_comps,\n",
    "            Bandwidth_split = Bandwidth_split,\n",
    "            metric= metric,\n",
    "            kernel= kernel)\n",
    "\n"
   ]
  },
  {
   "cell_type": "code",
   "execution_count": null,
   "metadata": {},
   "outputs": [],
   "source": []
  },
  {
   "cell_type": "code",
   "execution_count": 39,
   "metadata": {},
   "outputs": [
    {
     "name": "stderr",
     "output_type": "stream",
     "text": [
      "c:\\users\\floyd\\appdata\\local\\programs\\python\\python37-32\\lib\\site-packages\\plotly\\tools.py:465: DeprecationWarning:\n",
      "\n",
      "plotly.tools.make_subplots is deprecated, please use plotly.subplots.make_subplots instead\n",
      "\n"
     ]
    },
    {
     "data": {
      "application/vnd.plotly.v1+json": {
       "config": {
        "linkText": "Export to plot.ly",
        "plotlyServerURL": "https://plot.ly",
        "showLink": false
       },
       "data": [
        {
         "mode": "markers",
         "name": "0",
         "type": "scatter",
         "x": [
          3.445574481375933,
          2.863857011774429,
          3.866887209912928,
          2.932665671822504,
          3.425689708701257,
          3.725042716476828,
          3.85042873130433,
          4.336930881102006,
          3.1624941489392753,
          3.962170681675321,
          3.7313913282998867,
          3.581306171455651,
          2.8765747093159604,
          1.6331246827093906,
          3.6266282401255663,
          2.7869491892633698,
          2.7590623765701934,
          3.5895404336973904,
          3.7552446930290753,
          3.7658300022386695,
          2.8671857561339507,
          3.548954032100013,
          3.577302370420785,
          4.200382676921275,
          4.071831592711339,
          3.0125241785585297,
          4.423254704337569,
          2.411450742049884,
          2.8355591724665574,
          1.558804489709674,
          3.6732219477841266,
          3.4316311790666987,
          3.03315167441259,
          2.995361327270493,
          3.8601377220386026,
          3.8681738739015095,
          4.050199853524352,
          3.2778952852329435,
          3.600291901470926,
          2.9871241333214615
         ],
         "xaxis": "x",
         "y": [
          0.6805898880727538,
          0.8039022661085495,
          -0.31013859359932494,
          0.02239852991407296,
          0.26781735854283745,
          -0.11414695300252196,
          0.6072901713396802,
          0.20550959564761637,
          -0.08084815065207356,
          -0.019368666894963943,
          1.7444088906297557,
          -0.15564759535963985,
          -0.9820443059633468,
          -0.24377233395255235,
          -0.8190902787245985,
          1.0344973318785107,
          0.23233077237971697,
          -0.15677041851809267,
          -0.49109357829549743,
          1.0166115674381866,
          -0.19498951686067692,
          -0.5120990801814447,
          0.2600286536546371,
          0.4381412860588638,
          0.5979071625600343,
          -0.29768064102754577,
          -0.019980310054539038,
          0.4326587327677559,
          0.7896895835572884,
          -0.23714241340427478,
          -2.0773686248685332,
          -0.3679736863687854,
          0.42279998921288264,
          0.8120981431295042,
          -0.5973274619015538,
          -2.6442949407166836,
          -0.969824773800961,
          -1.5727067695695336,
          0.5977441551306417,
          0.1331554089920269
         ],
         "yaxis": "y"
        },
        {
         "mode": "markers",
         "name": "1",
         "type": "scatter",
         "x": [
          -0.588467708450443,
          -2.425075704185392,
          -2.009415193884924,
          -1.744169862303973,
          -0.8409543996120973,
          -2.275617154821654,
          -0.5031756243017333,
          -1.5249671970828702,
          -2.418349800960872,
          -1.518728289734464,
          -1.4637165642323358,
          -0.6691509585936343,
          -2.7599519190657973,
          -2.9989250397338165,
          -2.8336099227066693,
          -2.2209592485343475,
          -2.4211158259705643,
          -2.1156755282676367,
          -2.727099125304905,
          -2.6862147629295046,
          -0.037543567271809464,
          -1.659271984622597,
          -2.5936522037035905,
          -3.2653655426825328,
          -1.9350398765222576,
          -1.4640653463717377,
          -2.5923096487877575,
          -2.8596495934838204,
          -2.3073013499728554,
          -2.0903224196795875,
          -1.5753189977485704,
          -2.2605506269082016,
          -1.5948597438952317,
          -2.489906926622773,
          -2.9449068543738615,
          -2.130496048757374,
          -3.0957527428243963,
          -3.3093968321048495,
          -1.7279427507460992,
          -1.4876561196173512,
          -2.52235454817066,
          -2.6001170959695292
         ],
         "xaxis": "x",
         "y": [
          -2.0233867591993118,
          -0.23308883713685716,
          -2.8677311783669235,
          -0.45875611897643825,
          -1.5757799621584274,
          0.10328799153443304,
          -0.008132532125952911,
          -2.0759263045566776,
          -1.7572175755054753,
          -0.9291078513979568,
          -1.680638418318223,
          1.4036588573342608,
          -1.7454047533591421,
          -1.9579294368874125,
          -0.7514747102203199,
          -0.672576213746819,
          -1.0072660029786673,
          -2.9790798922315984,
          -2.6480509682835556,
          -1.9812367862299964,
          -0.9657295868515527,
          -3.3333311817890805,
          -1.767950658111273,
          -1.7952670841901253,
          -2.1873207328035265,
          -1.3747772093443789,
          -0.418548089865425,
          -0.5862049224626714,
          -0.5988073559395417,
          -0.12910608967455323,
          -0.9791152609386109,
          -1.3916758283418325,
          -0.36012549611466727,
          -1.277736768695488,
          -0.7162867622637535,
          -0.9505977727641176,
          -1.1883741048631573,
          -1.626531127772757,
          -0.9918646331045013,
          -2.4313065844317663,
          -0.29000716110382646,
          2.0315891329699554
         ],
         "yaxis": "y"
        },
        {
         "mode": "markers",
         "name": "2",
         "type": "scatter",
         "x": [
          -0.5204137140343036,
          -2.843528704065343,
          -1.9523750352562317,
          -2.3940604387863873,
          -2.1043744622458322,
          -1.1473995389720693,
          -3.246537134337062,
          -1.9524285389116351,
          -2.6570690516380093,
          -1.2548436622456525,
          -1.6949622519645284,
          -0.9597586065683711,
          -2.910313436436997,
          -1.8754044420531415,
          -1.1731941280396445,
          -2.0303511885516867,
          -1.912775259714973,
          -1.5184976231964673,
          -2.6445348754798217,
          -0.3261257510824772
         ],
         "xaxis": "x",
         "y": [
          4.499745491003538,
          3.165287496883781,
          2.5610001299207164,
          3.5777857801903634,
          3.1818519826232383,
          2.8376595659738797,
          3.5571910091071723,
          2.918174057036131,
          3.753983142225423,
          3.4714529166534085,
          2.7615994256229737,
          2.23889433858673,
          2.9729876195093334,
          3.9461426367237324,
          3.2464404465989904,
          1.2886014359081899,
          3.971508540371282,
          3.829525170810342,
          3.5196150472208076,
          4.086200710833192
         ],
         "yaxis": "y"
        },
        {
         "mode": "markers",
         "name": "3",
         "type": "scatter",
         "x": [
          1.6674208909592927,
          0.010503140396949691,
          4.120963512124205,
          0.10350505526920574,
          3.6354013199398976,
          -2.2958521681770425,
          1.210756479411488,
          -0.3336104099919142,
          -2.2625455317280343,
          3.524143895315713,
          3.079365721807298,
          -0.8191894257537885,
          -1.2875509235103784,
          -0.22084004369299115,
          -1.360392922117264,
          -2.1220509650562493,
          3.8151830544878553,
          -2.4507839409448358,
          -2.3684514034680997,
          -2.8142587719190524,
          -2.1230858532518897,
          -2.531984839271786,
          -3.044146903499509,
          3.3263867177778472,
          -3.5223502210430486,
          -2.381138192074775,
          -2.0308478562626258,
          -1.0783126038540105
         ],
         "xaxis": "x",
         "y": [
          0.7162981045831687,
          -0.3575299506525828,
          -0.949158126612051,
          -0.20701605264119113,
          -0.27819774825799826,
          -1.2624299452839676,
          0.48121802753354115,
          0.6947487124496449,
          -2.0231515028744522,
          -1.1867887911271453,
          -1.1984613417575165,
          1.2213576294858457,
          0.38418845026425136,
          0.5150955660262727,
          1.4493596263154913,
          -0.8904018677643302,
          -0.38189846787409176,
          -1.0171228306075102,
          -1.0858406328230035,
          -0.3186101671401287,
          -0.9641319506962814,
          -1.7676299769157846,
          -1.832768268460767,
          0.5103881274419099,
          -1.5972656070897269,
          -0.19499126956621302,
          -1.252076446550308,
          -1.6531879052387832
         ],
         "yaxis": "y"
        },
        {
         "marker": {
          "color": "rgba(135, 206, 250, 0)",
          "line": {
           "color": "red",
           "width": 5
          },
          "opacity": 1,
          "size": 25
         },
         "mode": "markers",
         "showlegend": false,
         "type": "scatter",
         "x": [
          -2.843528704065343
         ],
         "xaxis": "x",
         "y": [
          3.165287496883781
         ],
         "yaxis": "y"
        },
        {
         "marker": {
          "color": [
           4.9261089950693406e-220,
           1.54100423623102e-187,
           6.225624480915757e-158,
           3.341753409796503e-131,
           2.475606695109594e-107,
           2.6690576503021185e-86,
           4.534898181343079e-68,
           1.3869722474203824e-52,
           9.752169452652655e-40,
           2.352716399764341e-29,
           2.8929160841788133e-21,
           2.3820542080123464e-15,
           1.977142804260046e-11,
           3.483001402270286e-09,
           3.856123564162252e-08,
           6.096885561304254e-08,
           2.614241674278655e-08,
           5.93826206950271e-09,
           9.537823874221655e-10,
           6.612481490088465e-11,
           1.4290304246057658e-212,
           3.1017639952679475e-180,
           8.28490116635031e-151,
           2.773027981431647e-124,
           1.191601346257142e-100,
           3.1181370274732737e-78,
           5.3988090223002815e-62,
           6.428493164014703e-47,
           1.301234446301052e-34,
           5.723611386451382e-25,
           8.966319617669018e-18,
           1.0876724305622645e-12,
           2.5855305288151378e-09,
           2.083026754597431e-07,
           8.071981454730979e-07,
           3.9593665735494845e-07,
           1.625470948106828e-07,
           1.2624682365396698e-07,
           5.011183988062058e-08,
           1.231819065423054e-08,
           2.522090633565818e-207,
           4.25157931388194e-175,
           8.518888645695783e-146,
           2.0501636723578656e-119,
           6.0093043327478346e-96,
           2.1868027952102027e-75,
           1.0152516172374862e-57,
           6.262511897015491e-43,
           5.476743281439112e-31,
           7.628302124204385e-22,
           2.2116848747911254e-15,
           4.301025940848005e-11,
           4.997588161584348e-08,
           1.7442498633983976e-06,
           5.17808728921012e-06,
           3.5308863782408223e-06,
           1.4012210228401816e-06,
           1.3098893589098253e-06,
           9.069374687031212e-07,
           3.738207206543786e-07,
           2.8326586039238513e-204,
           4.18947116363781e-172,
           7.229819381185852e-143,
           1.4647431663200467e-116,
           3.5123636838784434e-93,
           1.0079841709457129e-72,
           3.516048959525102e-55,
           1.5245860272615582e-40,
           8.502475972151005e-29,
           6.449472192591661e-20,
           7.492014688971139e-14,
           2.9060122376000233e-10,
           1.2303245067371167e-07,
           4.341075853867383e-06,
           1.911567762941005e-05,
           2.0293374831155233e-05,
           6.666638868022609e-06,
           4.504084657258897e-06,
           2.846494574194397e-06,
           1.8351021284702656e-06,
           2.0731517960408418e-203,
           8.400040236979363e-164,
           5.246434789054251e-142,
           1.0568555226648354e-115,
           2.51612347233756e-92,
           7.154034180152521e-72,
           2.4646840404191826e-54,
           1.0504145218653276e-39,
           5.711843424683109e-28,
           4.1626720577162454e-19,
           4.4573599238201774e-13,
           1.037361392792641e-09,
           1.1405563816379813e-07,
           4.262189201065125e-06,
           2.011825720412193e-05,
           2.1771870843221094e-05,
           1.2479214588790277e-05,
           8.44674144711188e-06,
           3.139168793163242e-06,
           2.628424158534373e-06,
           9.896238537185625e-205,
           1.649461101954896e-172,
           3.2604436327735106e-143,
           7.71736797252655e-117,
           2.215521346884829e-93,
           7.849383086356408e-73,
           3.516346911793948e-55,
           2.0635224740619797e-40,
           1.6752112051786494e-28,
           2.0634074797522962e-19,
           4.618334559208468e-13,
           2.823862413791372e-09,
           1.269536201417896e-07,
           1.5566119669208307e-06,
           9.727175199766778e-06,
           1.382142973553769e-05,
           8.918202009979852e-06,
           5.121241440119531e-06,
           3.4631727280579416e-06,
           1.3892546734667876e-06,
           3.01416879139116e-208,
           6.425418948150428e-176,
           1.6797402341074727e-146,
           5.4770932576803805e-120,
           3.888167889809762e-95,
           1.2454444547309267e-75,
           9.351621016798468e-58,
           1.018616385237432e-42,
           1.7708400827140178e-30,
           5.650487837252954e-21,
           4.1654193203284413e-14,
           1.0161165765590106e-09,
           1.3502891433901767e-07,
           3.807468802917341e-07,
           1.6813933711450134e-06,
           4.691703189649055e-06,
           4.202256268509543e-06,
           2.798154976051511e-06,
           1.6702428708630258e-06,
           1.5574286225859812e-07,
           5.6077214995755045e-214,
           1.713052724004412e-181,
           1.5809974964623254e-146,
           3.489421124841839e-125,
           2.474270702696765e-101,
           3.3040651272953463e-80,
           3.891184188823313e-62,
           1.00332639037272e-46,
           4.8798089972269405e-34,
           5.3648028112151556e-24,
           1.7328104196549286e-16,
           2.3772055199017396e-11,
           2.2957834988355037e-08,
           3.4599736736621234e-07,
           5.328404294339569e-07,
           9.654944626348035e-07,
           1.2383508610948927e-06,
           4.96867218986435e-07,
           6.673533271484297e-08,
           3.7172377739003275e-09,
           5.985066125584152e-222,
           2.899355265357994e-189,
           1.913005034929979e-159,
           1.78487395092839e-132,
           2.4714670110836317e-108,
           5.409567091452129e-87,
           2.047060294297564e-68,
           1.4726045139759425e-52,
           2.3895109437133077e-39,
           1.0728016806891621e-28,
           1.7761457207019527e-20,
           1.6011626253773884e-14,
           1.3380806551410734e-10,
           2.19051613767683e-08,
           1.9256586488594044e-07,
           2.674399261569692e-07,
           1.280616260194209e-07,
           2.514932645173721e-08,
           2.5908800483740963e-09,
           8.711206004788592e-11,
           3.387547264351881e-232,
           2.8377351976447345e-199,
           3.452583638310559e-169,
           6.403284565672233e-142,
           1.924632955609899e-117,
           1.0139819107898542e-95,
           1.0362827465686987e-76,
           2.3459930643422694e-60,
           1.39722452980296e-46,
           2.7535449247231583e-35,
           2.4187546773629333e-26,
           1.3966428099717311e-19,
           8.755835829813941e-15,
           1.1211417414287212e-11,
           6.083883208711831e-10,
           2.831063980254628e-09,
           1.89829177760335e-09,
           2.3839732988533676e-10,
           6.451814836028391e-12,
           2.8518768428866354e-14,
           9.287183526650676e-245,
           1.4439579965394862e-211,
           3.487493997320825e-181,
           1.3868993267414967e-153,
           9.764067942639415e-129,
           1.3327581921379587e-106,
           3.9556710681287788e-87,
           2.952264628420173e-70,
           6.662648766072806e-56,
           5.742346514554328e-44,
           2.534872178638148e-34,
           8.251926490708442e-27,
           3.0832683256052975e-21,
           2.2086599159475467e-17,
           5.230706926970901e-15,
           6.749491589475381e-14,
           6.837117915158649e-14,
           6.5436306644488805e-15,
           6.136663570956314e-17,
           4.7506314878379127e-20,
           1.1173095176901715e-259,
           3.406127509506211e-226,
           1.7249134952494778e-195,
           1.550833933788301e-167,
           2.6852642946807584e-142,
           9.895886563275145e-120,
           8.77980429163381e-100,
           2.317388572815511e-82,
           1.8343504571481987e-67,
           6.547734393692089e-55,
           1.3089511306132644e-44,
           2.0357110286909208e-36,
           3.5927007222150235e-30,
           1.0867365615888323e-25,
           8.526095589933871e-23,
           2.502150562104709e-21,
           3.580041252047143e-21,
           2.8455635697156793e-22,
           1.2475127573908181e-24,
           2.5850720896390245e-28,
           5.319854169249172e-277,
           3.3089029768868604e-243,
           3.646264927005201e-212,
           7.656271347781265e-184,
           1.94429067563459e-153,
           3.375597409977299e-135,
           8.945888655411938e-115,
           7.252917788994936e-97,
           2.2420081494323013e-81,
           2.9400187883903495e-68,
           2.3468397331498963e-57,
           1.471521215276399e-48,
           9.946966447710479e-42,
           1.010012277613399e-36,
           2.121821322362909e-33,
           1.2141973428589945e-31,
           2.302761066789026e-31,
           1.5888285011430583e-32,
           3.912767695302859e-35,
           3.0111739158988874e-39,
           9.028703635936979e-297,
           1.1760671903544247e-262,
           2.881423424457738e-231,
           1.4343710497937019e-202,
           1.5894394405679418e-176,
           4.3676671377080475e-153,
           3.3808366559702106e-132,
           8.562222339455422e-114,
           8.447313100617814e-98,
           4.19966395415582e-84,
           1.1146794155942829e-72,
           2.404727525962858e-63,
           5.1933692258939715e-56,
           1.469506710880704e-50,
           7.00112903616373e-47,
           6.932320382808962e-45,
           1.6537007226248897e-44,
           1.0172549199108115e-45,
           1.5811785002657333e-48,
           5.576506857250699e-53,
           4.92564e-319,
           1.3627252150809538e-284,
           7.48539245355365e-253,
           8.840184977187358e-224,
           2.4627175157959806e-197,
           1.8024456783384633e-173,
           3.925995177028613e-152,
           2.9371446152520344e-133,
           8.88478727331284e-117,
           3.741732627676865e-102,
           1.1386892764885542e-90,
           7.585254987259031e-81,
           4.3353145647540374e-73,
           2.9397644782183992e-67,
           2.7865702836037615e-63,
           4.350172993696521e-61,
           1.2524381828906428e-60,
           6.994700015881961e-62,
           7.4428309453637455e-65,
           1.3847094296220564e-69,
           0,
           4.610433098373465e-309,
           5.663850466300737e-277,
           1.570304340729685e-247,
           1.077505657428251e-220,
           2.0332982550042507e-196,
           1.1894742082500277e-174,
           2.4690122720863394e-155,
           2.1137505916248136e-138,
           8.803259451242994e-124,
           2.1297582036687444e-111,
           1.0181036550110762e-100,
           5.135690379318183e-93,
           7.378493657581902e-87,
           1.2539318291339051e-82,
           2.8693202256891057e-80,
           9.654554294290683e-80,
           4.963808829567656e-81,
           3.8402497026507473e-84,
           4.174751072703888e-89,
           0,
           0,
           1.1157615829774962e-303,
           7.125720143026895e-274,
           1.1705549475905396e-246,
           5.474999327356713e-222,
           8.167990940312496e-200,
           4.407342874527935e-180,
           9.868609008225608e-163,
           1.0630277758064243e-147,
           6.435949957626348e-135,
           2.5681884650073634e-124,
           2.5670747143554595e-114,
           2.1752108129139948e-109,
           6.0963205251685915e-105,
           1.9302402623064475e-102,
           7.402395398133165e-102,
           3.5422272474552183e-103,
           2.0878928228187338e-106,
           1.4347085369341902e-111,
           0,
           0,
           0,
           7.408198521997034e-303,
           2.8167465804072402e-275,
           3.1266914588006354e-250,
           1.1271380746160978e-227,
           1.4818617337928945e-207,
           8.048879189278496e-190,
           2.060596878860615e-174,
           2.8494455807041393e-161,
           3.159951412982285e-146,
           1.479524749286498e-141,
           7.176691863179288e-135,
           3.0998810744191686e-130,
           1.2969532318297845e-127,
           5.557985941427804e-127,
           2.4975722500729097e-128,
           1.1641395228154825e-131,
           5.382119654185305e-137,
           0,
           0,
           0,
           0,
           1.3576503037773753e-306,
           3.4182923997737764e-281,
           2.8211878480171676e-258,
           8.489288538607221e-238,
           1.0424583483623164e-219,
           5.873682282390009e-204,
           1.7110595423741982e-190,
           2.900474548375655e-179,
           3.2035123081293003e-170,
           3.879646132328712e-158,
           1.609908351284405e-158,
           8.575316462398955e-156,
           4.042476844159081e-155,
           1.7185433864965616e-156,
           6.52840453749498e-160,
           2.1361243043494945e-165,
           0,
           0,
           0,
           0,
           0,
           6.54803235e-315,
           1.1738869004777136e-291,
           7.619725696779699e-271,
           1.9821876026725045e-252,
           2.293532852839345e-236,
           1.3106402442278163e-222,
           2.5074371104640588e-203,
           7.719768682679906e-202,
           9.563731289477347e-195,
           8.390012382676372e-190,
           5.519120809942524e-187,
           2.8259713409304095e-186,
           1.1436503859775304e-187,
           3.6296965678885735e-191,
           8.762853760845892e-197,
           3.5613804478708124e-06,
           2.7256275206088503e-06,
           5.9470463141237226e-08,
           2.994895664878859e-06,
           1.3710827581162481e-05,
           9.016300945588065e-06,
           1.9646754156584037e-06,
           3.3533142752357614e-06,
           1.0899031993572513e-05,
           1.0219889353396212e-05,
           8.413871867179696e-09,
           1.1964445454268896e-05,
           4.226398767566278e-06,
           3.0912408287809194e-07,
           2.233660558458911e-09,
           6.665101558127541e-08,
           4.2331076879576197e-07,
           2.184424990057448e-06,
           3.2813913732527178e-06,
           4.743656861851636e-06,
           7.446056960994148e-08,
           6.169600168277002e-08,
           1.1693039676326924e-06,
           3.1687070292571277e-06,
           6.661571804452046e-10,
           1.9887481168034715e-05,
           4.914401708040085e-06,
           6.146818588438776e-08,
           6.286464962779097e-06,
           1.1260198463505372e-05,
           5.303541417401727e-06,
           3.468503046555688e-06,
           1.02257671140048e-05,
           3.849679428096098e-07,
           1.1275446965599727e-11,
           1.6827627833597543e-05,
           7.157748240042712e-06,
           2.6552332733037903e-10,
           9.33511382607997e-08,
           1.7435925332635932e-05,
           2.1694991532779958e-07,
           7.270788982887647e-06,
           8.659467525716673e-06,
           2.1452097923244697e-06,
           2.3830730182569337e-06,
           5.154037188210455e-07,
           1.9363840009625733e-07,
           4.065693545230778e-06,
           6.062443182329207e-09,
           2.1481728057157813e-06,
           3.358452941498084e-06,
           1.3432344987521522e-06,
           2.9547833284938144e-06,
           5.996279369601913e-06,
           2.3361657380459332e-05,
           8.633370891691922e-10,
           3.2412638639129762e-06,
           2.4775140851242427e-08,
           2.0067358385123786e-05,
           3.3893691081947683e-10,
           4.9446937110903e-08,
           1.3081575214508235e-06,
           3.62948597318422e-06,
           1.482411047928726e-08,
           3.6436863320797773e-06,
           2.067049743399439e-06,
           1.985802062773625e-07,
           1.037843929076198e-06,
           5.619304618197925e-07,
           1.7432980237090867e-05,
           4.940920743070517e-06,
           2.454141457364959e-06,
           1.3135007643603788e-07,
           4.622376454262087e-06,
           2.117238183769939e-05,
           8.424246362712873e-06,
           7.81380619023914e-06,
           3.1704215282969684e-07,
           7.19354039631383e-11,
           9.380434802139228e-08,
           3.921472479813263e-10,
           2.2067434577272835e-07,
           2.2952273327234166e-06,
           1.765034011910857e-08,
           2.0842422769273998e-06,
           7.363747565023412e-06,
           2.2903404811412725e-06,
           1.6609103406081243e-07,
           1.0182746862790719e-05,
           2.0546188220471075e-11,
           3.886319109260658e-06,
           2.597410936311835e-05,
           2.5614199198080954e-06,
           9.53190882597861e-11,
           2.7240463019133927e-06,
           4.798798233768793e-07,
           2.223112486904887e-06,
           1.5260725115463056e-06,
           5.480902399419804e-06,
           5.612046523705952e-20,
           2.9873703563019575e-06,
           3.4007833100181586e-06,
           1.7487965102132397e-05,
           5.204170873106801e-06,
           1.0020199380715983e-05,
           2.690317568755679e-14,
           3.109768557464756e-08,
           3.179167446841347e-07,
           1.4745901799874817e-06,
           3.4923206518142887e-09,
           3.464123097649e-08,
           5.9342182168223266e-06,
           1.5301614118172382e-06,
           1.6716943766439745e-07,
           2.3607711485265126e-06,
           2.902470340686377e-06,
           1.0889107053623438e-06,
           1.3982693759407082e-12,
           9.072175751566062e-06,
           5.591802120458397e-08,
           1.7979369630658895e-06,
           6.904066565722693e-06,
           5.8790352371108565e-08,
           1.2179695569747341e-05,
           1.5527458500702788e-07,
           4.4752075571951874e-08,
           1.1255401304169604e-06,
           2.384014970819258e-05,
           1.838836059487646e-05,
           7.592231163422166e-06,
           1.3895043767254068e-05,
           5.252303313159552e-09,
           8.058994959902647e-07,
           1.1126289151061545e-05,
           3.392688135896424e-06,
           1.6087272380426665e-05,
           5.01520596626116e-08,
           7.115581881700431e-06,
           2.1641967484858976e-05,
           2.601567417910629e-05,
           2.1416317620411444e-07,
           6.211506555111973e-07,
           4.453369958073555e-07,
           7.870219349264003e-07,
           4.010422568904455e-06,
           1.2134423423283353e-05,
           2.672632951829073e-09,
           3.370392530751676e-06,
           5.245758132901174e-06,
           4.400506882515319e-07,
           1.726484888157902e-06,
           2.1040033460731614e-05,
           1.0055661178549182e-06,
           7.804676582222273e-06,
           2.1387624326658867e-06,
           5.759073509517433e-09,
           4.5416991723175617e-07,
           3.0691486617440094e-06,
           6.475561884719334e-10,
           1.923138112330963e-06,
           9.62880502165183e-06,
           2.1183276086412653e-05,
           3.7739662732369652e-06,
           4.515957428734407e-06,
           3.952955153474005e-06,
           1.7105170768279944e-08,
           2.0439784764950684e-06,
           4.413267658204434e-06,
           5.770015703818536e-06,
           3.272093748489458e-06,
           1.0816285390014281e-06,
           6.232986678206778e-13,
           1.9316412154472155e-05,
           7.561685681286535e-06,
           5.7682064290245e-06,
           7.877525305652624e-07,
           5.029512771718014e-07,
           1.626493546482771e-07,
           1.939546581764907e-05,
           1.5060064284830621e-06,
           5.190697656681101e-13,
           1.7709267788599775e-09,
           8.354384553743903e-08,
           1.2505247576802974e-05,
           4.3336974809439797e-07,
           4.84168161309234e-07,
           4.1920965989948397e-07,
           2.149547446764528e-06,
           1.0673816010204722e-06,
           2.095071291436023e-06,
           1.0267881476418201e-05,
           1.547656417136814e-05,
           2.172558047747051e-17,
           2.82130732917942e-06,
           9.04728466914536e-06,
           3.865462926165889e-06,
           1.902609662547497e-09,
           9.328148464564785e-07,
           2.212444419692382e-06,
           4.656418548279735e-06,
           4.103923445716871e-06,
           7.887839271247411e-06,
           4.4364072942351856e-07,
           9.658352871848267e-07,
           4.609243419233559e-09,
           2.2698825975241527e-05,
           1.778001468169363e-05,
           2.1147968701813584e-05,
           5.711715360073019e-07,
           2.2676301916572184e-06,
           1.4490422235665308e-08,
           1.188193748463183e-06,
           8.51115294009509e-06,
           2.2281298582587567e-09,
           2.335253715444338e-10,
           8.162780332408381e-06,
           3.726290565735796e-07,
           3.3310561164562763e-07,
           1.9399795987698113e-05,
           3.951281660701921e-06,
           7.568522197536914e-06,
           4.320241568416231e-07,
           3.0781690558563424e-06,
           5.235890346576313e-06,
           7.185997552403437e-08,
           1.3920785623941873e-07,
           1.1444489248795457e-05,
           1.991332775191655e-05,
           3.0247405108129916e-08,
           5.551795586283686e-06,
           4.856460729859534e-06,
           7.87656515974144e-06,
           2.842622390034089e-06,
           1.516003282841451e-15,
           1.1012599168119983e-05,
           1.9446418588375703e-06,
           2.9449977736739177e-08,
           1.2991814166159085e-06,
           1.0473012732450676e-05,
           2.0647248358613362e-07,
           1.2386662922142708e-05,
           1.2554156362618399e-07,
           1.1226952633803613e-06,
           1.3691684570154535e-07,
           1.1750191746865408e-05,
           2.5113066802114528e-08,
           2.9455850620302695e-10,
           6.391974242158586e-07,
           4.015514504652787e-06,
           1.0919968525116205e-05,
           9.195613943748385e-10,
           1.0678365547039564e-06,
           4.115041778823434e-07,
           4.2795628371919e-11,
           1.7048327103808827e-07,
           2.569030273840649e-07,
           3.1289655338649636e-06,
           2.2376580366973563e-06,
           5.227260662491734e-06,
           1.1838010581249564e-06,
           1.0194599450154733e-05,
           2.5213266529282846e-06,
           1.4690588796854085e-06,
           2.44002601256135e-08,
           2.503098274841387e-05,
           4.363735831509536e-08,
           1.6158725838843138e-05,
           1.1365655644265766e-18,
           1.539531625214356e-05,
           1.178924547372078e-05,
           4.251319184042174e-06,
           5.5509991006142365e-06,
           3.8371554198449844e-06,
           7.572576994322498e-06,
           8.108081491448868e-08,
           3.885737570994344e-06,
           1.299484431160172e-08,
           2.058892825358962e-06,
           2.81683465840186e-07,
           3.6077459867642655e-06,
           6.822483238860935e-08,
           4.019813112035385e-07,
           8.305171899999172e-07,
           2.7141866220693995e-09,
           2.9702676490614027e-06,
           3.5366217443998015e-06,
           1.1647927459797282e-09,
           1.4863350954847267e-05,
           1.9845477919713784e-05,
           3.678238868911962e-07,
           3.674173796187077e-06,
           6.947636584112564e-08,
           4.462897033885516e-07,
           1.0453122924301575e-07,
           1.682703503221108e-05,
           4.490480267011967e-07,
           2.3670065933216515e-08,
           2.433889481751828e-06,
           6.404916797050011e-07,
           3.6196024639966354e-07,
           6.551857027118225e-10,
           9.22722440517897e-06,
           1.766955005450657e-05,
           1.6814532181918545e-08,
           1.1943248030948038e-06,
           1.8506611901014218e-05,
           6.594839833054839e-11,
           2.248961746683018e-05,
           2.424375419954658e-10,
           2.782523458884538e-07,
           4.769947553166515e-13,
           1.0034763540069443e-05,
           2.0688427901801304e-06,
           1.4859572905949959e-06,
           4.027217195491912e-06,
           3.4566377843903745e-06,
           1.1835650082488548e-05,
           9.428410400033502e-18,
           3.6529436603512436e-06,
           3.053136210431644e-07,
           1.2545273279097772e-05,
           1.9117370030920187e-08,
           8.905078586253258e-06,
           5.168160784789442e-06,
           1.4050281411637095e-05,
           1.0381637278932365e-07,
           4.621727914579914e-06,
           3.5624715260625776e-06,
           2.4988360725146603e-06,
           2.8084948760597365e-13,
           2.1926814521756856e-05,
           5.8163402461875244e-09,
           2.5098714035822153e-06,
           1.646811675303937e-07,
           4.024871050639931e-06,
           3.268756219249638e-06,
           2.61308063361937e-05,
           4.131390414138338e-10,
           2.720060102729021e-07,
           2.204222015146114e-06,
           2.6258776266241566e-06,
           9.331157987434068e-06,
           1.1281928687312574e-05,
           1.1759443200546975e-05,
           3.9200717486163354e-06,
           1.306835140865407e-07,
           3.2234527297546493e-06,
           2.1415084416799635e-06,
           1.2844630177902726e-06,
           1.1036870099411728e-09,
           1.3840386893141591e-05,
           3.0707355923837933e-08,
           1.1458774468345315e-05,
           8.870682520897e-06,
           1.6903901203463913e-05,
           5.641839603068059e-06,
           6.27296522112883e-06,
           4.2630527741693606e-07,
           2.1149171497915008e-08,
           1.6340731371486626e-06,
           2.0127578500058736e-07,
           4.6647292023927855e-06,
           8.293404042622403e-06,
           5.220480365052052e-06,
           5.950791881761011e-08,
           2.2924806912440516e-07,
           2.8247862952549296e-08,
           1.4706749428582691e-05,
           2.8752599283968133e-09,
           6.529960575725427e-06,
           1.3359966243789914e-05,
           1.0794607576119617e-06,
           2.507645171581718e-07,
           6.891068710748673e-14,
           9.632853382834473e-08,
           5.983127467141293e-07,
           1.2050033183449576e-07,
           5.685836717094872e-07,
           1.5489866760813287e-05,
           1.4229716623021954e-06,
           2.301362177595708e-06,
           1.5863695519359184e-06,
           2.756557725939991e-07,
           6.997133093194584e-09,
           1.0706716461899794e-07,
           4.069950754862875e-06,
           2.477224148239446e-06,
           4.595201797047698e-06,
           1.5272051351532855e-06,
           1.268975793144495e-08,
           1.9789758951054407e-05,
           1.0266494867115739e-05,
           1.9213709200800863e-07,
           1.7172882320200566e-10,
           1.9078111550912177e-05,
           3.1073441648895047e-07,
           4.749649248868202e-08,
           3.2418014219247122e-06,
           5.898787576346154e-08,
           1.9356049744202134e-05,
           1.1657348993291809e-05,
           1.711150929041987e-05,
           2.4405200724384736e-05,
           1.0408443795662294e-05,
           1.0639983620667412e-05,
           1.2064234515909239e-05,
           1.1259321197223212e-05,
           9.938772541361954e-06,
           5.83747312250785e-06,
           2.6348700395889004e-05,
           2.463545968581748e-05,
           1.2718549019204633e-05,
           1.5786085493639262e-05,
           2.0527087358274757e-05,
           1.3163779500758194e-05,
           1.2649341479288287e-05,
           6.428736802014822e-06,
           8.39118805687705e-06,
           1.3810528262868097e-05,
           7.1670581158062485e-06,
           2.160091527003346e-05,
           1.837068950306152e-05,
           9.01438661426622e-06,
           1.2991881190682456e-05,
           1.996924251154517e-05,
           1.2447170891034447e-05,
           2.1635469335842934e-05,
           1.407964536146951e-05,
           1.1270221714702603e-05,
           1.0622472328982549e-05,
           8.171842916852789e-06,
           1.6128761749863693e-05,
           8.40793377658365e-06,
           1.181522827186536e-05,
           5.449645019608399e-06,
           1.1029850832787675e-05,
           2.5292783596386892e-05,
           1.3189310739755882e-05,
           2.012969224378096e-05,
           1.2851493620202799e-05,
           2.08700632949598e-05,
           1.6926295487293857e-05,
           1.3333234795502964e-05,
           2.1780144788251502e-05,
           1.262844914094918e-05,
           1.236676423969033e-05,
           9.375803810221772e-06,
           1.8958135221163728e-05,
           2.4482660158944173e-05,
           2.4566653785009442e-05,
           1.412252883176875e-05,
           8.384975683649353e-06,
           1.7933009245692532e-05,
           1.9035309883421363e-05,
           1.0308254037251174e-05,
           1.5794129051850943e-05,
           5.603329997955417e-06,
           1.689142562660195e-05,
           2.312757033676122e-05,
           1.0877630179274494e-05,
           2.2891804456935905e-05,
           8.783380532919446e-06,
           5.371055600645827e-06,
           1.112654624875747e-05,
           1.9933468260957516e-05,
           2.447164033856547e-05,
           1.3553696134579045e-05,
           1.734558745973369e-05,
           1.0212931525342788e-05,
           1.2724771030231298e-05,
           1.6047629823822992e-05,
           2.515955624701183e-05,
           2.1180042917751313e-05,
           2.0453924076286023e-05,
           1.5372885061169235e-05,
           1.1358906216632946e-05,
           1.5314099201303533e-05,
           2.4515696344274528e-05,
           6.737469559135206e-06,
           2.1058153337926623e-05,
           2.507182542816133e-05,
           7.189843782352022e-06,
           7.26272164844702e-06,
           2.4145676998140423e-05,
           1.4767330083387372e-05,
           7.4020098532884085e-06,
           8.755196715191352e-06,
           1.9327286942337864e-05,
           8.764366375224107e-06,
           7.918982269121962e-06,
           2.212685161083977e-05,
           1.5274819944736043e-05,
           1.5890589900685877e-05,
           9.027929224755252e-06,
           1.0236059071334124e-05,
           2.4020222826712106e-05,
           1.069672500238668e-05,
           6.67916777326591e-06,
           1.0094980129520065e-05,
           5.7260285982835965e-06,
           9.928850649686155e-06,
           5.083390404009254e-06,
           6.512156472074415e-06,
           1.581603742784707e-05,
           2.6429077046357372e-05,
           8.01767782396484e-06,
           8.342602722365062e-06,
           1.1986998615811503e-05,
           8.40564954699905e-06,
           1.4117035409537341e-05,
           7.89347056897226e-06,
           2.1724123993733982e-05,
           2.3931460611835608e-05,
           8.93082432460848e-06,
           1.0814547121365554e-05,
           2.008962401060535e-05,
           1.8518404874035314e-05,
           9.766055155383867e-06,
           1.8579266248083194e-05,
           1.640278483322088e-05,
           1.4064650092458648e-05,
           1.9570566631931602e-05,
           2.3614715228431054e-05,
           1.1793242183763216e-05,
           6.167387200650642e-06,
           2.412643608034915e-05,
           4.472171541031773e-06,
           1.3565113609054601e-05,
           1.0616344260058267e-05,
           1.0850163578752417e-05,
           1.3149565744534405e-05,
           2.4461357279685575e-05,
           1.742300209400028e-05,
           1.1851367030688459e-05,
           1.4465319039054686e-05,
           1.2811499637485026e-05,
           1.0542476786617975e-05,
           1.3057452790068083e-05,
           8.466154008936038e-06,
           1.281761310886504e-05,
           9.914873483809787e-06,
           2.2375793197530622e-05,
           2.1368550122801848e-05,
           7.78624337024402e-06,
           2.6547448798059783e-05,
           7.808007667431679e-06,
           1.6893912374892975e-05,
           9.551959233118316e-06,
           2.2364492422069423e-05,
           9.738291211987984e-06,
           1.7910444150531244e-05,
           5.456405140383949e-06,
           1.8243115434932126e-05,
           1.3642025371300044e-05,
           2.358889267555211e-05,
           5.418010260154376e-06,
           2.5508231824036534e-05,
           1.2649038237776168e-05,
           1.902352376871189e-05,
           2.0022489112181674e-05,
           1.6455961422756647e-05,
           7.80524664765704e-06,
           1.674301363043264e-05,
           6.2364990546299796e-06,
           1.6824826630447242e-05,
           8.100003456220006e-06,
           2.0286999474261487e-05,
           1.653688494530356e-05,
           1.5735137006851937e-05,
           6.574353190863907e-06,
           9.157547104692175e-06,
           1.9853717775755283e-05,
           2.0546286049646056e-05,
           1.0503357298248907e-05,
           1.7814310325270563e-05,
           1.062564441543672e-05,
           1.7580225413092906e-05,
           1.1740054791438235e-05,
           9.134623236245771e-06,
           8.947356943816448e-06,
           1.6462959281315443e-05,
           2.4687466920841173e-05,
           1.7710821779299328e-05,
           2.5084763908045154e-05,
           1.6022385560041732e-05,
           1.5531207613864262e-05,
           2.3226798688201737e-05,
           9.115387619423997e-06,
           3.4111993020308183e-06,
           6.798049994731429e-06,
           1.4292259059915538e-05,
           8.828113308202508e-06,
           1.721377971423435e-05,
           1.2723265313347728e-05,
           2.101093397620173e-05,
           1.9317518094089675e-05,
           1.2738429005712406e-05,
           1.3469202509011707e-05,
           1.4864644968182918e-05,
           1.6369856236507242e-05,
           1.1903439582851318e-05,
           1.1397049851572277e-05,
           1.7314174162084145e-05,
           2.366525931110423e-05,
           1.325092706138316e-05,
           7.117621136640842e-06,
           1.7381546067092885e-05,
           8.889416032516958e-06,
           1.842768884666059e-05,
           5.2670914794254046e-06,
           2.131947364396206e-05,
           1.1067426558144693e-05,
           1.811424925728865e-05,
           1.1909966697782835e-05,
           6.339541449354392e-06,
           1.1498073857193828e-05,
           1.997376720999346e-05,
           1.6974769737107858e-05,
           1.4424446689553247e-05,
           1.0744917158314074e-05,
           4.980166009438029e-06,
           1.9744705207846904e-05,
           4.4755708693425936e-06,
           2.3237002643724437e-05,
           2.3063833896659775e-05,
           2.3938234171786464e-05,
           1.667774243584657e-05,
           7.230875357245326e-06,
           1.7652478497202916e-05,
           1.8606732045657017e-05,
           1.7270285606522897e-05,
           1.0485879061914156e-05,
           1.1351491455185367e-05,
           1.0606208723773287e-05,
           1.017074593387189e-05,
           7.838303910415078e-06,
           2.403992734189062e-05,
           1.73558290741081e-05,
           1.2230272818587127e-05,
           9.725013045336566e-06,
           4.521169211833712e-06,
           2.3870078039663802e-05,
           9.748698970347532e-06,
           2.5408067654597356e-05,
           1.7852816566663226e-05,
           2.1714496415107225e-05,
           1.2117663998359598e-05,
           2.5034324479925027e-05,
           2.2992978974075765e-05,
           1.9584204145373133e-05,
           1.550719868441157e-05,
           1.3602926812126126e-05,
           1.5355242548803092e-05,
           2.1019643343879102e-05,
           1.5122607723667837e-05,
           1.3453915535075383e-05,
           1.0445807662613732e-05,
           1.4760484759180608e-05,
           1.5110669761945221e-05,
           7.362912963045592e-06,
           2.148071596116622e-05,
           2.1625628797632554e-05,
           1.0686473356481955e-05,
           1.3233943101121871e-05,
           1.5357469990193044e-05,
           1.4015190608092763e-05,
           1.3003452933565251e-05,
           5.75428287737655e-06,
           9.76676285016236e-06,
           1.6833559797089397e-05,
           1.673655672141278e-05,
           2.3401250919400846e-05,
           1.8682734101666904e-05,
           1.5875752646943274e-05,
           9.502329765046426e-06,
           1.531106013906637e-05,
           1.4136828844404072e-05,
           2.2108177816813827e-05,
           1.7065474080223578e-05,
           7.4764424773210695e-06,
           8.161878398548465e-06,
           8.272598992138711e-06,
           2.0997022584171474e-05,
           6.415715230625106e-06,
           1.601323493925704e-05,
           1.4515917392455085e-05,
           1.5621631105242344e-05,
           1.8000922295966288e-05,
           2.1019970213686158e-05,
           8.701535411396623e-06,
           2.3433053127831684e-05,
           1.8657422442174948e-05,
           1.5842141853057822e-05,
           1.3232932514448272e-05,
           1.1527166811964044e-05,
           3.970441264921692e-06,
           2.0309962874225683e-05,
           1.089667886681905e-05,
           1.0659419303702803e-05,
           2.0748404522402058e-05,
           1.1070753021942989e-05,
           1.731573734330596e-05,
           2.07218235105775e-05,
           1.4769060152397378e-05,
           1.3895137914088783e-05,
           1.2744387861253686e-05,
           1.3973171507368312e-05,
           1.6586070249199656e-05,
           2.582917603684778e-05,
           1.2547304032708882e-05,
           1.130185250751463e-05,
           2.490967353627103e-05,
           6.795095858464226e-06,
           1.612893760399151e-05,
           1.0822743514766994e-05,
           2.028354356910665e-05,
           7.314846880912483e-06,
           7.598071746156522e-06,
           1.1192648843929845e-05,
           2.2847078117762e-05,
           8.437298261376067e-06,
           1.9965486208604935e-05,
           1.6868756776632183e-05,
           1.4431003094664275e-05,
           2.0435432691645554e-05,
           8.611604545303699e-06,
           1.593165878595645e-05,
           1.7622659777821266e-05,
           1.5476834055510108e-05,
           2.4542393349508327e-05,
           2.61894976005506e-05,
           2.46054850958651e-05,
           1.6720349837128056e-05,
           2.5991888742788587e-05,
           1.0549597467412835e-05,
           1.2500819395054543e-05,
           1.8956317731656445e-05,
           1.540923011288027e-05,
           1.4866742182797658e-05,
           5.981021891438787e-06,
           2.6403333123288297e-05,
           1.9693633929552212e-05,
           6.946926408040393e-06,
           1.0726922931672493e-05,
           2.2307892185329574e-05,
           1.4179897153888722e-05,
           9.377649664972779e-06,
           1.712305733491364e-05,
           1.0849019220524961e-05,
           2.5527181034644416e-05,
           1.1726634269969812e-05,
           6.718488505743209e-06,
           9.963710080560428e-06,
           1.5422013452100076e-05,
           1.1451586034224048e-05,
           2.1094528526787428e-05,
           1.0205219550197693e-05,
           2.5495202777607672e-05,
           1.5736779312461968e-05,
           1.726982254825165e-05,
           2.1929010463440677e-05,
           1.6862731527525796e-05,
           7.4004894673953905e-06,
           5.139886921528927e-06,
           1.3622039549748025e-05,
           1.1290063530602352e-05,
           1.2860070801404196e-05,
           1.6370476167219225e-05,
           9.579086173628088e-06,
           1.9396176928040017e-05,
           1.6716040887008037e-05,
           2.5676703277806243e-05,
           8.162353641038454e-06,
           2.6062811449756434e-05,
           2.1030087555507817e-05,
           2.18418017853304e-05,
           1.7580255401859805e-05,
           2.1063887078160522e-05,
           6.878726761387249e-06,
           9.979277088693567e-06,
           1.0665046304853649e-05,
           9.069316452243323e-06,
           2.3449541497923617e-05,
           1.0014984024563248e-05,
           1.8925698329944797e-05,
           1.7010009957254705e-05,
           1.0632318921319132e-05,
           1.8684433757573333e-05,
           1.3237701430434337e-05,
           2.3838688372930504e-05,
           1.0906962157183242e-05,
           9.476599506496047e-06,
           2.2449384670843333e-05,
           5.88979306621037e-06,
           1.1176417045236969e-05,
           1.7398513260462115e-05,
           1.8194879107525205e-05,
           1.717449546422913e-05,
           1.2611832355895244e-05,
           2.66010695812597e-05
          ],
          "colorbar": {
           "title": {
            "text": "ColorBar"
           }
          },
          "colorscale": [
           [
            0,
            "#440154"
           ],
           [
            0.1111111111111111,
            "#482878"
           ],
           [
            0.2222222222222222,
            "#3e4989"
           ],
           [
            0.3333333333333333,
            "#31688e"
           ],
           [
            0.4444444444444444,
            "#26828e"
           ],
           [
            0.5555555555555556,
            "#1f9e89"
           ],
           [
            0.6666666666666666,
            "#35b779"
           ],
           [
            0.7777777777777778,
            "#6ece58"
           ],
           [
            0.8888888888888888,
            "#b5de2b"
           ],
           [
            1,
            "#fde725"
           ]
          ],
          "line": {
           "width": 0
          },
          "opacity": 1,
          "size": 5,
          "symbol": "circle"
         },
         "mode": "markers",
         "type": "scatter",
         "x": [
          -3.5223502210430486,
          -3.5223502210430486,
          -3.5223502210430486,
          -3.5223502210430486,
          -3.5223502210430486,
          -3.5223502210430486,
          -3.5223502210430486,
          -3.5223502210430486,
          -3.5223502210430486,
          -3.5223502210430486,
          -3.5223502210430486,
          -3.5223502210430486,
          -3.5223502210430486,
          -3.5223502210430486,
          -3.5223502210430486,
          -3.5223502210430486,
          -3.5223502210430486,
          -3.5223502210430486,
          -3.5223502210430486,
          -3.5223502210430486,
          -3.1041604881282794,
          -3.1041604881282794,
          -3.1041604881282794,
          -3.1041604881282794,
          -3.1041604881282794,
          -3.1041604881282794,
          -3.1041604881282794,
          -3.1041604881282794,
          -3.1041604881282794,
          -3.1041604881282794,
          -3.1041604881282794,
          -3.1041604881282794,
          -3.1041604881282794,
          -3.1041604881282794,
          -3.1041604881282794,
          -3.1041604881282794,
          -3.1041604881282794,
          -3.1041604881282794,
          -3.1041604881282794,
          -3.1041604881282794,
          -2.6859707552135097,
          -2.6859707552135097,
          -2.6859707552135097,
          -2.6859707552135097,
          -2.6859707552135097,
          -2.6859707552135097,
          -2.6859707552135097,
          -2.6859707552135097,
          -2.6859707552135097,
          -2.6859707552135097,
          -2.6859707552135097,
          -2.6859707552135097,
          -2.6859707552135097,
          -2.6859707552135097,
          -2.6859707552135097,
          -2.6859707552135097,
          -2.6859707552135097,
          -2.6859707552135097,
          -2.6859707552135097,
          -2.6859707552135097,
          -2.2677810222987405,
          -2.2677810222987405,
          -2.2677810222987405,
          -2.2677810222987405,
          -2.2677810222987405,
          -2.2677810222987405,
          -2.2677810222987405,
          -2.2677810222987405,
          -2.2677810222987405,
          -2.2677810222987405,
          -2.2677810222987405,
          -2.2677810222987405,
          -2.2677810222987405,
          -2.2677810222987405,
          -2.2677810222987405,
          -2.2677810222987405,
          -2.2677810222987405,
          -2.2677810222987405,
          -2.2677810222987405,
          -2.2677810222987405,
          -1.8495912893839712,
          -1.8495912893839712,
          -1.8495912893839712,
          -1.8495912893839712,
          -1.8495912893839712,
          -1.8495912893839712,
          -1.8495912893839712,
          -1.8495912893839712,
          -1.8495912893839712,
          -1.8495912893839712,
          -1.8495912893839712,
          -1.8495912893839712,
          -1.8495912893839712,
          -1.8495912893839712,
          -1.8495912893839712,
          -1.8495912893839712,
          -1.8495912893839712,
          -1.8495912893839712,
          -1.8495912893839712,
          -1.8495912893839712,
          -1.431401556469202,
          -1.431401556469202,
          -1.431401556469202,
          -1.431401556469202,
          -1.431401556469202,
          -1.431401556469202,
          -1.431401556469202,
          -1.431401556469202,
          -1.431401556469202,
          -1.431401556469202,
          -1.431401556469202,
          -1.431401556469202,
          -1.431401556469202,
          -1.431401556469202,
          -1.431401556469202,
          -1.431401556469202,
          -1.431401556469202,
          -1.431401556469202,
          -1.431401556469202,
          -1.431401556469202,
          -1.0132118235544323,
          -1.0132118235544323,
          -1.0132118235544323,
          -1.0132118235544323,
          -1.0132118235544323,
          -1.0132118235544323,
          -1.0132118235544323,
          -1.0132118235544323,
          -1.0132118235544323,
          -1.0132118235544323,
          -1.0132118235544323,
          -1.0132118235544323,
          -1.0132118235544323,
          -1.0132118235544323,
          -1.0132118235544323,
          -1.0132118235544323,
          -1.0132118235544323,
          -1.0132118235544323,
          -1.0132118235544323,
          -1.0132118235544323,
          -0.595022090639663,
          -0.595022090639663,
          -0.595022090639663,
          -0.595022090639663,
          -0.595022090639663,
          -0.595022090639663,
          -0.595022090639663,
          -0.595022090639663,
          -0.595022090639663,
          -0.595022090639663,
          -0.595022090639663,
          -0.595022090639663,
          -0.595022090639663,
          -0.595022090639663,
          -0.595022090639663,
          -0.595022090639663,
          -0.595022090639663,
          -0.595022090639663,
          -0.595022090639663,
          -0.595022090639663,
          -0.1768323577248938,
          -0.1768323577248938,
          -0.1768323577248938,
          -0.1768323577248938,
          -0.1768323577248938,
          -0.1768323577248938,
          -0.1768323577248938,
          -0.1768323577248938,
          -0.1768323577248938,
          -0.1768323577248938,
          -0.1768323577248938,
          -0.1768323577248938,
          -0.1768323577248938,
          -0.1768323577248938,
          -0.1768323577248938,
          -0.1768323577248938,
          -0.1768323577248938,
          -0.1768323577248938,
          -0.1768323577248938,
          -0.1768323577248938,
          0.24135737518987543,
          0.24135737518987543,
          0.24135737518987543,
          0.24135737518987543,
          0.24135737518987543,
          0.24135737518987543,
          0.24135737518987543,
          0.24135737518987543,
          0.24135737518987543,
          0.24135737518987543,
          0.24135737518987543,
          0.24135737518987543,
          0.24135737518987543,
          0.24135737518987543,
          0.24135737518987543,
          0.24135737518987543,
          0.24135737518987543,
          0.24135737518987543,
          0.24135737518987543,
          0.24135737518987543,
          0.6595471081046447,
          0.6595471081046447,
          0.6595471081046447,
          0.6595471081046447,
          0.6595471081046447,
          0.6595471081046447,
          0.6595471081046447,
          0.6595471081046447,
          0.6595471081046447,
          0.6595471081046447,
          0.6595471081046447,
          0.6595471081046447,
          0.6595471081046447,
          0.6595471081046447,
          0.6595471081046447,
          0.6595471081046447,
          0.6595471081046447,
          0.6595471081046447,
          0.6595471081046447,
          0.6595471081046447,
          1.0777368410194144,
          1.0777368410194144,
          1.0777368410194144,
          1.0777368410194144,
          1.0777368410194144,
          1.0777368410194144,
          1.0777368410194144,
          1.0777368410194144,
          1.0777368410194144,
          1.0777368410194144,
          1.0777368410194144,
          1.0777368410194144,
          1.0777368410194144,
          1.0777368410194144,
          1.0777368410194144,
          1.0777368410194144,
          1.0777368410194144,
          1.0777368410194144,
          1.0777368410194144,
          1.0777368410194144,
          1.495926573934184,
          1.495926573934184,
          1.495926573934184,
          1.495926573934184,
          1.495926573934184,
          1.495926573934184,
          1.495926573934184,
          1.495926573934184,
          1.495926573934184,
          1.495926573934184,
          1.495926573934184,
          1.495926573934184,
          1.495926573934184,
          1.495926573934184,
          1.495926573934184,
          1.495926573934184,
          1.495926573934184,
          1.495926573934184,
          1.495926573934184,
          1.495926573934184,
          1.9141163068489528,
          1.9141163068489528,
          1.9141163068489528,
          1.9141163068489528,
          1.9141163068489528,
          1.9141163068489528,
          1.9141163068489528,
          1.9141163068489528,
          1.9141163068489528,
          1.9141163068489528,
          1.9141163068489528,
          1.9141163068489528,
          1.9141163068489528,
          1.9141163068489528,
          1.9141163068489528,
          1.9141163068489528,
          1.9141163068489528,
          1.9141163068489528,
          1.9141163068489528,
          1.9141163068489528,
          2.3323060397637225,
          2.3323060397637225,
          2.3323060397637225,
          2.3323060397637225,
          2.3323060397637225,
          2.3323060397637225,
          2.3323060397637225,
          2.3323060397637225,
          2.3323060397637225,
          2.3323060397637225,
          2.3323060397637225,
          2.3323060397637225,
          2.3323060397637225,
          2.3323060397637225,
          2.3323060397637225,
          2.3323060397637225,
          2.3323060397637225,
          2.3323060397637225,
          2.3323060397637225,
          2.3323060397637225,
          2.7504957726784913,
          2.7504957726784913,
          2.7504957726784913,
          2.7504957726784913,
          2.7504957726784913,
          2.7504957726784913,
          2.7504957726784913,
          2.7504957726784913,
          2.7504957726784913,
          2.7504957726784913,
          2.7504957726784913,
          2.7504957726784913,
          2.7504957726784913,
          2.7504957726784913,
          2.7504957726784913,
          2.7504957726784913,
          2.7504957726784913,
          2.7504957726784913,
          2.7504957726784913,
          2.7504957726784913,
          3.168685505593261,
          3.168685505593261,
          3.168685505593261,
          3.168685505593261,
          3.168685505593261,
          3.168685505593261,
          3.168685505593261,
          3.168685505593261,
          3.168685505593261,
          3.168685505593261,
          3.168685505593261,
          3.168685505593261,
          3.168685505593261,
          3.168685505593261,
          3.168685505593261,
          3.168685505593261,
          3.168685505593261,
          3.168685505593261,
          3.168685505593261,
          3.168685505593261,
          3.5868752385080307,
          3.5868752385080307,
          3.5868752385080307,
          3.5868752385080307,
          3.5868752385080307,
          3.5868752385080307,
          3.5868752385080307,
          3.5868752385080307,
          3.5868752385080307,
          3.5868752385080307,
          3.5868752385080307,
          3.5868752385080307,
          3.5868752385080307,
          3.5868752385080307,
          3.5868752385080307,
          3.5868752385080307,
          3.5868752385080307,
          3.5868752385080307,
          3.5868752385080307,
          3.5868752385080307,
          4.005064971422799,
          4.005064971422799,
          4.005064971422799,
          4.005064971422799,
          4.005064971422799,
          4.005064971422799,
          4.005064971422799,
          4.005064971422799,
          4.005064971422799,
          4.005064971422799,
          4.005064971422799,
          4.005064971422799,
          4.005064971422799,
          4.005064971422799,
          4.005064971422799,
          4.005064971422799,
          4.005064971422799,
          4.005064971422799,
          4.005064971422799,
          4.005064971422799,
          4.423254704337569,
          4.423254704337569,
          4.423254704337569,
          4.423254704337569,
          4.423254704337569,
          4.423254704337569,
          4.423254704337569,
          4.423254704337569,
          4.423254704337569,
          4.423254704337569,
          4.423254704337569,
          4.423254704337569,
          4.423254704337569,
          4.423254704337569,
          4.423254704337569,
          4.423254704337569,
          4.423254704337569,
          4.423254704337569,
          4.423254704337569,
          4.423254704337569,
          -1.402093009935957,
          -1.51764187533877,
          -2.1582279098687254,
          -2.0978468636088605,
          -1.8767927626914698,
          -1.4711518823494123,
          -2.3137512594138228,
          -0.8361429974036078,
          -1.3415405818637525,
          -1.9512898318908805,
          -1.8859480602498906,
          -1.3676390940825456,
          -1.350826850858244,
          -2.7284338621203412,
          -3.8185571228764004,
          -3.1271721748334613,
          -1.996759712794419,
          -1.4568815537557775,
          -1.7158059306591495,
          -1.248446832300827,
          -0.22186355336632607,
          -1.506100730934101,
          -0.9694395396223235,
          -1.8521446517216165,
          -3.874789390526862,
          -1.7407896477545137,
          -2.23545119953203,
          0.006039715378117205,
          -1.859706581296095,
          -1.972566803812007,
          -2.440474786313696,
          -1.250510756460742,
          -1.3067214173772244,
          -1.8176659849183208,
          -2.271019390861335,
          -1.5648587805428473,
          -2.5267155356424436,
          -2.886287938174992,
          -0.5701045719729634,
          -2.0670767159664383,
          -1.2046993166991196,
          -1.483677125219074,
          -1.6593724700997994,
          -2.8742119940131383,
          -0.8780225758478764,
          -0.4854274302728693,
          -2.653925406409075,
          -2.1914568735909525,
          -3.408525530423441,
          -1.74239860049952,
          -1.96895480044103,
          -2.7826366035568397,
          -0.7944074108289713,
          -1.5683291357550038,
          -2.0285910948618713,
          -1.7055420915717643,
          -0.8318512041496383,
          -3.618844070582949,
          -1.9335130120971429,
          -1.6594964556783078,
          -3.053189007186879,
          -2.987095954158602,
          -0.8709018257119013,
          -3.3123536337566715,
          -1.7378409530761911,
          -1.7513998813841996,
          -1.2681428324007884,
          -2.741397907766673,
          -0.4482812661023382,
          -2.3909280658519227,
          -1.0998343615104187,
          -2.5298488364801837,
          -0.29629328465077637,
          -1.2128012656624652,
          -1.733828821918091,
          -2.557417935233384,
          -2.6015916925545644,
          -2.969257236675035,
          -2.5921083727342245,
          -3.3055162889610363,
          -3.743989097294943,
          -3.150215986533338,
          -2.8637840497061293,
          -0.30979209619709835,
          -0.998720251477089,
          -1.5398141067339295,
          -1.352018223245113,
          -3.2721421678941387,
          -1.293198714330538,
          -0.03708337210606372,
          -2.297261038468449,
          -2.095731482521305,
          -1.9762642087033004,
          0.307719682007795,
          -2.692561540870133,
          -2.9244394499571578,
          -1.602720819900779,
          -1.9788039742400314,
          -1.2373248042647744,
          -3.739054372854847,
          -2.191983229472518,
          -1.690319311330314,
          -2.2907061014490537,
          -1.020772303736646,
          -1.9461153032747605,
          -1.666224920888741,
          -1.5749869039757514,
          -2.934012408727064,
          -2.1116098436588886,
          0.009196506019048312,
          -3.37802469586527,
          -2.4578035593542014,
          -0.6413342730959619,
          -3.0932074617864065,
          -1.18197864067186,
          -1.9804640203284538,
          -0.8755127007023161,
          -2.0056991713901766,
          -1.2613162138531868,
          -0.735941611894048,
          -0.6693875041766181,
          -1.743853911336905,
          0.012889674395303863,
          -1.8687424502397114,
          -3.3745331401667906,
          -2.300841812425863,
          -1.3886678817985327,
          -2.1419569636576634,
          -1.9016506994150746,
          -2.038954846662599,
          -1.4258363801491098,
          -1.5568924088324554,
          -2.662101286035708,
          -1.8872961277244178,
          -2.369237335939193,
          -1.5159341510963338,
          -3.108545997916348,
          -2.166598119980383,
          -1.7889429274638775,
          -1.9895283262917671,
          -1.2663109826461645,
          -1.9173334218737155,
          -1.9911998714767198,
          -0.786306251230779,
          -1.3163929216944141,
          -2.031372069716963,
          -3.686030301536795,
          -1.6223493682549277,
          -2.338277216846058,
          -0.6662900814411478,
          -2.6116979544968983,
          -2.1370682277434554,
          -2.295655570147314,
          -1.516485404290318,
          -2.5415869475385824,
          -0.18372508378270036,
          -0.576880419446071,
          -1.9942430200531707,
          -2.091569072171984,
          -2.5677131145062777,
          -1.4676085356145283,
          -2.292913628107065,
          -1.1307144042238746,
          -1.305924977400022,
          -1.1871544806380054,
          -0.4840870059612853,
          -2.7442690514111376,
          -1.6005648830613035,
          -2.2169975200749614,
          -2.022285715206136,
          -2.2370280510214755,
          -2.500911324404496,
          -2.06320574574862,
          -2.540448426606636,
          -1.4747957396040143,
          -2.5068929034408707,
          -2.869418533252823,
          -0.7213468390993847,
          -1.7204776441358394,
          -2.7010791507398952,
          -3.978732057450035,
          -1.7833972606849415,
          -3.10461071274505,
          -2.126192740655246,
          -1.618874692717625,
          -0.5135472637443724,
          -2.2310584523592145,
          -0.9441554403561425,
          -1.8548344378523893,
          -0.9024062792838081,
          -1.8726624482412395,
          -2.054552059654865,
          -3.2368584177556974,
          -0.9386265987467617,
          -1.654739734778909,
          -1.7218982224299564,
          -3.1997978501096123,
          -2.7764892838940423,
          -2.534505930678351,
          -1.2455640947873543,
          -1.4517792013614743,
          -1.8860906593410482,
          -2.7169263637239123,
          -1.411333248818194,
          -3.2040138469579293,
          -2.026894330543418,
          -1.6809413918793288,
          -1.7309554760136092,
          -2.8828092412368527,
          -1.6148803798303926,
          -0.07083023601727834,
          -2.593747768927193,
          -1.7587610869592611,
          -0.6570342323156306,
          -2.3221733841840004,
          -1.498705303716292,
          -3.027376478674812,
          -0.7175882979026473,
          -1.9252955811512928,
          -1.00653629792487,
          -2.6080854792158967,
          -0.5148073972647935,
          -1.9786856344786141,
          -1.022795354802359,
          -1.8352489740359275,
          -0.5693717101979877,
          -1.7225015101499495,
          -1.8013659908710238,
          -0.13061743730258912,
          -1.4969984381176098,
          -1.074755755521194,
          -2.589657252378327,
          -2.4424387981150293,
          -2.921439050108652,
          -2.305570580354622,
          -2.902538662994063,
          -1.3071150929100734,
          -1.4548853760276597,
          -1.9601715411062952,
          -1.5083459803275057,
          -1.8902989992833406,
          -3.1748134046717604,
          -2.4284337672262737,
          -3.240026017271017,
          -1.3832917550607322,
          -2.1235080537421,
          -0.9393556191983352,
          -2.3048500707827433,
          -2.0790590982950774,
          -1.528337010076235,
          -3.356724908078675,
          -1.3566790242460383,
          -0.7787418995169962,
          -1.1292832262266763,
          -1.443900576012304,
          -3.235906563786084,
          -1.856780443509177,
          -2.3899112499238893,
          -1.02571572319051,
          -2.0549014299880284,
          -1.3834642696563382,
          -2.4764230182478757,
          -2.6662319346979606,
          -0.9799449004072008,
          -1.9785861410899566,
          -1.127962280824379,
          -2.1132451017238094,
          -1.2222852446698371,
          -2.4238242114103823,
          -1.362122903387052,
          -1.0785881353510764,
          -2.679169990048085,
          -2.49222373997142,
          -1.261098616646405,
          -3.327528202190163,
          -0.9402826080573619,
          0.14945089135699818,
          -0.9996263766749672,
          -1.2847284325077974,
          -1.0872443227349815,
          -3.151950049805322,
          -0.3157015307736274,
          -1.5870695093472869,
          -2.234855629366525,
          -2.411283374493265,
          -2.6531041745384663,
          0.26057357548083926,
          -1.810957958678266,
          -2.3411711833381634,
          -0.8274047954349638,
          -2.092870548187333,
          -3.1034163944971733,
          -0.41307876914161523,
          -3.1849492546016664,
          -2.4020836137279127,
          -0.5943225803252417,
          -3.628819091839846,
          -0.7761376330180824,
          -1.1444053419930862,
          -0.931451956211778,
          -0.39354436997652553,
          -1.9587018032795336,
          -1.6031266609158195,
          -3.477167531833114,
          -1.885294847394303,
          -2.0402068883693474,
          -3.523651013460017,
          -1.8313088147620293,
          -1.4022891669625044,
          -2.8642757559876713,
          -1.1963034825616947,
          -1.6586001090690514,
          -2.4870906147355227,
          -2.887201908336191,
          -2.0808292189556763,
          -2.7788225877053736,
          -1.6136111242592217,
          -1.539261910911209,
          -1.0613742404304498,
          -1.253633323518189,
          -1.940601227274371,
          -3.2971208326896564,
          -1.7820738568038248,
          -1.926601260227221,
          -1.71079267546404,
          -0.3359545847052956,
          -1.667189700165447,
          -1.2400024173826325,
          -2.587777464978178,
          -2.259891135508826,
          -1.8224397759643176,
          -1.8557777279490908,
          -2.540465836306468,
          -0.1322903836945939,
          -1.6934756236242852,
          -1.5240133622271812,
          -2.0358931211336273,
          -2.5010201659179048,
          -2.454543770092079,
          -2.5296219767499393,
          -1.3742581808050935,
          -1.983305518426309,
          -2.3652355557563256,
          -2.499481946640089,
          -1.141183286023244,
          -3.4262039586773327,
          -1.4909836643371674,
          -2.540182968739954,
          -1.7024920967736743,
          -0.2462117510430492,
          -1.4632166194200025,
          -3.331204875762351,
          -1.7453821630468886,
          -2.3594952699035945,
          -1.7049438889254527,
          -1.2927442279567098,
          -1.6126555476060418,
          -2.955252428996454,
          -0.7451183972436544,
          -1.2694074262425863,
          -1.5470955873232897,
          -1.4993670610701546,
          -1.9830749815046107,
          -1.363250930315544,
          -0.37766130066250625,
          -1.589889351158341,
          -0.35469966778349415,
          -1.4573175988681741,
          -0.0886693035750209,
          -1.1504651204753336,
          -1.41005797082519,
          -2.7321578120161725,
          -1.5320402486747726,
          0.6139438849307166,
          -3.1375358325220706,
          -2.8799826835892453,
          -0.877854495370858,
          -0.45152866955757504,
          -1.7861354697620706,
          -1.3878676306114317,
          -0.8298229772430269,
          -2.5149191771554453,
          -0.6347799310643598,
          -1.7931316491065727,
          -0.6216120224353165,
          -1.5680992037189703,
          -1.2720573505789092,
          -2.3009535167774584,
          -1.6902063857478473,
          -2.5224317615213874,
          -2.2489934031812044,
          -2.416668391224274,
          -3.3248462134788292,
          0.373308975309651,
          -2.2140353542552687,
          -0.3704456089420076,
          -2.9802819672057224,
          -1.249379754907377,
          -3.0513363779290485,
          -2.094254835230736,
          -2.216020528963979,
          -1.6203844367361897,
          -2.1240332641030006,
          -2.3552496527686535,
          -1.8781058062259728,
          -1.3700774450888848,
          -1.7476240006601618,
          -1.9476412754777495,
          -2.566056159453556,
          -2.083556907140974,
          -1.913400265964875,
          -1.7049212762448314,
          -1.7904899426833973,
          -1.7532955401168593,
          -2.1992116247790467,
          -1.3950113876745986,
          -1.2036207571355815,
          -2.588265857025198,
          -1.7677055788071512,
          -2.406568762896913,
          -2.1393616231497474,
          -1.9210730646557768,
          -1.7099611901508185,
          -1.7949886769516588,
          -2.2664887020164306,
          -1.4240353637174636,
          -2.3007734189703073,
          -1.6658554193354236,
          -1.7245257076768747,
          -1.8972714001469433,
          -2.073513047559949,
          -1.9044026960602773,
          -1.777455549063974,
          -1.88391034308764,
          -1.258503578798199,
          -2.1399515759676637,
          -2.1977722868888656,
          -2.4043862216628757,
          -1.7811491599155107,
          -2.468377802480809,
          -1.9243321665314979,
          -1.981328019003917,
          -2.447703469644171,
          -1.7784590945044276,
          -1.700219843183683,
          -1.6216566015432357,
          -2.0233876661628187,
          -1.8345545455588805,
          -2.01722029526106,
          -2.187777977239549,
          -1.9141851437451964,
          -1.8414538735171462,
          -2.134154353261322,
          -1.8434225276592013,
          -1.8982503811559166,
          -1.5376326771591096,
          -1.1411210271733887,
          -2.172015460493234,
          -2.043688126021304,
          -2.020231547711516,
          -1.8073138269919875,
          -2.1273356672942794,
          -1.1489355492136761,
          -2.5162751823435188,
          -2.184658407832495,
          -2.1895792471054327,
          -2.416250466855915,
          -1.5759504530420025,
          -1.3501668876659911,
          -1.5058170161200795,
          -2.3150546584073752,
          -2.1630224478994875,
          -2.154255951391044,
          -1.9348414650212593,
          -1.8918283260242525,
          -1.341914052972148,
          -1.4926361066486766,
          -2.085280293766604,
          -1.9521981222856342,
          -2.152569972399387,
          -2.084350787226496,
          -2.132933858923156,
          -2.008149487346332,
          -2.1776354104152866,
          -1.7200289699429872,
          -1.89327948277086,
          -1.6229308621950653,
          -1.68215907540437,
          -1.2719505813005427,
          -1.2147223527779145,
          -1.7948422506216128,
          -1.9438987581193037,
          -1.7914917784274655,
          -1.2551065602077767,
          -1.9723000685546108,
          -2.2271371183495456,
          -1.3338898595801034,
          -1.2000275873198545,
          -2.544329781507022,
          -2.0875280803663196,
          -2.493373171663664,
          -1.9233974729959624,
          -2.212164568872783,
          -2.3341913921197097,
          -2.077587595121238,
          -1.3465978313604714,
          -1.4121975091763095,
          -2.10730534640507,
          -1.2300643907396174,
          -2.128081639120991,
          -1.960598542250539,
          -1.7522976508352206,
          -2.243981182774637,
          -2.0524743719100536,
          -2.3990079250368126,
          -1.7466669286983818,
          -1.6773885572199014,
          -1.4145309117193539,
          -1.7545927075285164,
          -2.262913304841678,
          -1.887718262877056,
          -1.9041361978130902,
          -2.1273425895356026,
          -1.4496403337572588,
          -2.1778225513678655,
          -2.1525721052327698,
          -1.0819339100194736,
          -1.4907551695561452,
          -1.3552014028496329,
          -1.8415051230907984,
          -2.1121314397314617,
          -1.9959793209446668,
          -1.9287364301755852,
          -1.8111563000930757,
          -1.9942867290939765,
          -1.4003803083110151,
          -2.1422317195311806,
          -1.4082207243020137,
          -1.332647155752182,
          -2.082555226196656,
          -2.0337233163575408,
          -2.2227846419878365,
          -2.0828897234765087,
          -1.937668313824301,
          -2.09656348382775,
          -2.078763472255065,
          -2.2672012480147385,
          -1.272361228096539,
          -1.7846039217710872,
          -2.1085164593126273,
          -2.3760651413970986,
          -2.5843931150416153,
          -1.6557218291396159,
          -2.1302714530972557,
          -1.999698073388772,
          -1.297225857922461,
          -1.9485777023806166,
          -1.919245635527731,
          -2.1746155478016536,
          -1.948901957958898,
          -2.409329087044957,
          -1.9748050523086418,
          -1.5429553682590322,
          -2.41807086488001,
          -2.332528515882219,
          -1.6394976115666513,
          -1.888458987256454,
          -2.0035498606313427,
          -2.197414551826632,
          -1.1603869647229832,
          -1.8000324940859298,
          -1.703756920925459,
          -2.249768007673776,
          -1.312419727988502,
          -1.8311234994739827,
          -1.3091655179238153,
          -2.1517673259645025,
          -1.3516521052443928,
          -2.016549575428031,
          -1.9543132124444031,
          -1.5518965604851933,
          -2.183683882942558,
          -1.6344369750979317,
          -2.1136233622120275,
          -1.5312587520346044,
          -1.9295708780284326,
          -1.8777023828017647,
          -1.2859601746872211,
          -2.124941149996285,
          -1.2427054393451031,
          -1.725094474090713,
          -1.9034454977365456,
          -2.289656095308028,
          -1.8548950667754973,
          -1.8760016018936283,
          -1.7054024823304474,
          -2.0552507758814493,
          -2.003449640463285,
          -1.7104796254730228,
          -1.93367859756202,
          -1.3526418919843537,
          -2.493072639605652,
          -2.1530853950203546,
          -1.9243454780361318,
          -1.4452075401937443,
          -1.8406772962760918,
          -2.3911072526177,
          -1.862350136366991,
          -2.008125938194819,
          -2.103476450312728,
          -1.9893574318755927,
          -1.326546272275366,
          -1.8764667307226222,
          -1.716624092680209,
          -1.2687401382248222,
          -1.6720684380025035,
          -1.9409475614000806,
          -1.8366776657154311,
          -1.48229869500065,
          -2.498146089742663,
          -2.659293509487876,
          -2.259758256294035,
          -1.9811032123098962,
          -1.8243575614736032,
          -2.0091763628059573,
          -2.243860438447631,
          -2.3994239566093354,
          -1.1679806817361913,
          -1.6932022396640989,
          -2.053333651962554,
          -1.6629112922333407,
          -1.325727708307663,
          -1.84113777605731,
          -1.998410008385719,
          -1.9536774705977458,
          -2.083370501766572,
          -2.100672255800317,
          -1.947908697640321,
          -1.364279842137364,
          -1.3150042635411758,
          -2.535011479166969,
          -2.12641467629535,
          -1.838335192687911,
          -2.044386460039125,
          -1.5934992826969885,
          -1.7752918444391026,
          -1.708149358075191,
          -2.1031494667889525,
          -2.2694773864578814,
          -1.6666684417551596,
          -2.3549796374887704,
          -1.8548675898293763,
          -1.8099957959132453,
          -1.77085112533215,
          -1.54350385183779,
          -1.4167705107055257,
          -1.9616101815456763,
          -1.4914165958834125,
          -2.335180632718992,
          -1.844696235597552,
          -1.9649940248449944,
          -2.0251435701290688,
          -1.3375905948520963,
          -1.4034008398053393,
          -1.920456497384153,
          -1.6500706481940108,
          -1.394911792804874,
          -1.2577599013715886,
          -1.9201079731358175,
          -1.5833928179022771,
          -2.3108030205088492,
          -2.0383231358986222,
          -2.0762858891100473,
          -2.3822837193084063,
          -2.080811230788823,
          -1.8552264551308908,
          -1.6371570337355004,
          -1.8197211566486822,
          -2.3944730688661666,
          -2.3743101069893897,
          -2.064229504873697,
          -1.3236360099904645,
          -2.144396223013714,
          -1.25126675387826,
          -2.0600887008279227,
          -2.3843510484115087,
          -2.042819867203093,
          -1.6732103750040126,
          -1.8293268146040154,
          -1.2412555314339913,
          -2.2579118355532284,
          -2.017049151044454,
          -2.2451413602430343,
          -2.474243035798616,
          -2.0358562655386465,
          -0.9264360671324414,
          -1.7535346277497172,
          -1.6979406265741401,
          -2.5266069108819185,
          -2.316317263707533,
          -1.3333143236344493,
          -2.04612065912204,
          -1.8565226032479314,
          -1.4650498741788722,
          -2.133337473051978,
          -1.8232019949474678,
          -2.101143400011553,
          -1.5697610109886648,
          -2.0343811319448872,
          -1.912473842856136,
          -1.8935551366698948,
          -2.1853382381704467,
          -1.26692299218026,
          -1.6051276730305732,
          -1.9409166271717053,
          -2.2442228282356633,
          -1.8254398400556617,
          -1.8980707173343223,
          -1.7550200702845766,
          -2.004633222217998,
          -1.9734820419524841,
          -2.055811852917026,
          -1.5599084747491696,
          -1.4476597763554109,
          -1.7901903042051506,
          -1.5831928585764639,
          -2.3883553656133403,
          -2.3637822312902665,
          -1.4898717054292723,
          -2.061626879862533,
          -2.006613080669989,
          -1.9073628018402264,
          -1.7116722777798419,
          -2.142115078368126,
          -1.7632370026485846,
          -1.7293254661939554,
          -1.8552470048761405,
          -2.339587723308435,
          -1.5045228931735741,
          -2.0913525250541287,
          -2.114108434770529,
          -2.2337789641590997,
          -1.9892775824503224,
          -1.3303203307296918,
          -1.8480484801022496,
          -1.454851420229998,
          -1.6507396001563976,
          -1.5704452172233616,
          -1.3538553508045579,
          -2.1791920536095506,
          -1.3684894988648157,
          -2.0804093197365483,
          -2.0336984987643727,
          -2.027333800641543,
          -1.7724202211564208,
          -2.3134241025911737,
          -1.2947375075491632,
          -1.9873996722996485,
          -1.49945868430266,
          -2.38394641693319,
          -1.9515132347592221,
          -1.5546033952673548,
          -2.332282351188603,
          -1.7887678177836634,
          -1.577762211139955,
          -1.83412102508225,
          -1.3876650292350468,
          -1.6419787297082418,
          -1.2723049765199603,
          -2.345864688569615,
          -2.3978124929682094,
          -2.082455980527919,
          -1.6787391810449537,
          -2.014524784349104,
          -2.3160058740776783,
          -1.7726530564556524,
          -1.7953530669162052,
          -2.220278559298519,
          -1.8733923492711506,
          -1.374752581864804,
          -1.7086837412520293,
          -2.0192311635124947,
          -2.256949448638193,
          -1.3719934687420121,
          -2.286871495098845,
          -1.5683575641414398,
          -2.417033811329223,
          -1.6567820150996144,
          -2.4756143228508924,
          -1.8551215112182593,
          -1.8851221227300858,
          -1.9861417306083022,
          -2.11318278018687,
          -1.1857563151130717,
          -1.8568496041854157,
          -2.204052815919145,
          -2.2796486557866746,
          -1.9332732859088533,
          -1.4146548524502425,
          -2.061006703269126
         ],
         "xaxis": "x2",
         "y": [
          -3.3333311817890805,
          -2.921063988484206,
          -2.508796795179331,
          -2.0965296018744564,
          -1.6842624085695819,
          -1.2719952152647074,
          -0.8597280219598327,
          -0.44746082865495795,
          -0.03519363535008324,
          0.37707355795479147,
          0.7893407512596657,
          1.201607944564541,
          1.6138751378694152,
          2.0261423311742903,
          2.4384095244791646,
          2.8506767177840397,
          3.262943911088914,
          3.6752111043937883,
          4.087478297698663,
          4.499745491003538,
          -3.3333311817890805,
          -2.921063988484206,
          -2.508796795179331,
          -2.0965296018744564,
          -1.6842624085695819,
          -1.2719952152647074,
          -0.8597280219598327,
          -0.44746082865495795,
          -0.03519363535008324,
          0.37707355795479147,
          0.7893407512596657,
          1.201607944564541,
          1.6138751378694152,
          2.0261423311742903,
          2.4384095244791646,
          2.8506767177840397,
          3.262943911088914,
          3.6752111043937883,
          4.087478297698663,
          4.499745491003538,
          -3.3333311817890805,
          -2.921063988484206,
          -2.508796795179331,
          -2.0965296018744564,
          -1.6842624085695819,
          -1.2719952152647074,
          -0.8597280219598327,
          -0.44746082865495795,
          -0.03519363535008324,
          0.37707355795479147,
          0.7893407512596657,
          1.201607944564541,
          1.6138751378694152,
          2.0261423311742903,
          2.4384095244791646,
          2.8506767177840397,
          3.262943911088914,
          3.6752111043937883,
          4.087478297698663,
          4.499745491003538,
          -3.3333311817890805,
          -2.921063988484206,
          -2.508796795179331,
          -2.0965296018744564,
          -1.6842624085695819,
          -1.2719952152647074,
          -0.8597280219598327,
          -0.44746082865495795,
          -0.03519363535008324,
          0.37707355795479147,
          0.7893407512596657,
          1.201607944564541,
          1.6138751378694152,
          2.0261423311742903,
          2.4384095244791646,
          2.8506767177840397,
          3.262943911088914,
          3.6752111043937883,
          4.087478297698663,
          4.499745491003538,
          -3.3333311817890805,
          -2.921063988484206,
          -2.508796795179331,
          -2.0965296018744564,
          -1.6842624085695819,
          -1.2719952152647074,
          -0.8597280219598327,
          -0.44746082865495795,
          -0.03519363535008324,
          0.37707355795479147,
          0.7893407512596657,
          1.201607944564541,
          1.6138751378694152,
          2.0261423311742903,
          2.4384095244791646,
          2.8506767177840397,
          3.262943911088914,
          3.6752111043937883,
          4.087478297698663,
          4.499745491003538,
          -3.3333311817890805,
          -2.921063988484206,
          -2.508796795179331,
          -2.0965296018744564,
          -1.6842624085695819,
          -1.2719952152647074,
          -0.8597280219598327,
          -0.44746082865495795,
          -0.03519363535008324,
          0.37707355795479147,
          0.7893407512596657,
          1.201607944564541,
          1.6138751378694152,
          2.0261423311742903,
          2.4384095244791646,
          2.8506767177840397,
          3.262943911088914,
          3.6752111043937883,
          4.087478297698663,
          4.499745491003538,
          -3.3333311817890805,
          -2.921063988484206,
          -2.508796795179331,
          -2.0965296018744564,
          -1.6842624085695819,
          -1.2719952152647074,
          -0.8597280219598327,
          -0.44746082865495795,
          -0.03519363535008324,
          0.37707355795479147,
          0.7893407512596657,
          1.201607944564541,
          1.6138751378694152,
          2.0261423311742903,
          2.4384095244791646,
          2.8506767177840397,
          3.262943911088914,
          3.6752111043937883,
          4.087478297698663,
          4.499745491003538,
          -3.3333311817890805,
          -2.921063988484206,
          -2.508796795179331,
          -2.0965296018744564,
          -1.6842624085695819,
          -1.2719952152647074,
          -0.8597280219598327,
          -0.44746082865495795,
          -0.03519363535008324,
          0.37707355795479147,
          0.7893407512596657,
          1.201607944564541,
          1.6138751378694152,
          2.0261423311742903,
          2.4384095244791646,
          2.8506767177840397,
          3.262943911088914,
          3.6752111043937883,
          4.087478297698663,
          4.499745491003538,
          -3.3333311817890805,
          -2.921063988484206,
          -2.508796795179331,
          -2.0965296018744564,
          -1.6842624085695819,
          -1.2719952152647074,
          -0.8597280219598327,
          -0.44746082865495795,
          -0.03519363535008324,
          0.37707355795479147,
          0.7893407512596657,
          1.201607944564541,
          1.6138751378694152,
          2.0261423311742903,
          2.4384095244791646,
          2.8506767177840397,
          3.262943911088914,
          3.6752111043937883,
          4.087478297698663,
          4.499745491003538,
          -3.3333311817890805,
          -2.921063988484206,
          -2.508796795179331,
          -2.0965296018744564,
          -1.6842624085695819,
          -1.2719952152647074,
          -0.8597280219598327,
          -0.44746082865495795,
          -0.03519363535008324,
          0.37707355795479147,
          0.7893407512596657,
          1.201607944564541,
          1.6138751378694152,
          2.0261423311742903,
          2.4384095244791646,
          2.8506767177840397,
          3.262943911088914,
          3.6752111043937883,
          4.087478297698663,
          4.499745491003538,
          -3.3333311817890805,
          -2.921063988484206,
          -2.508796795179331,
          -2.0965296018744564,
          -1.6842624085695819,
          -1.2719952152647074,
          -0.8597280219598327,
          -0.44746082865495795,
          -0.03519363535008324,
          0.37707355795479147,
          0.7893407512596657,
          1.201607944564541,
          1.6138751378694152,
          2.0261423311742903,
          2.4384095244791646,
          2.8506767177840397,
          3.262943911088914,
          3.6752111043937883,
          4.087478297698663,
          4.499745491003538,
          -3.3333311817890805,
          -2.921063988484206,
          -2.508796795179331,
          -2.0965296018744564,
          -1.6842624085695819,
          -1.2719952152647074,
          -0.8597280219598327,
          -0.44746082865495795,
          -0.03519363535008324,
          0.37707355795479147,
          0.7893407512596657,
          1.201607944564541,
          1.6138751378694152,
          2.0261423311742903,
          2.4384095244791646,
          2.8506767177840397,
          3.262943911088914,
          3.6752111043937883,
          4.087478297698663,
          4.499745491003538,
          -3.3333311817890805,
          -2.921063988484206,
          -2.508796795179331,
          -2.0965296018744564,
          -1.6842624085695819,
          -1.2719952152647074,
          -0.8597280219598327,
          -0.44746082865495795,
          -0.03519363535008324,
          0.37707355795479147,
          0.7893407512596657,
          1.201607944564541,
          1.6138751378694152,
          2.0261423311742903,
          2.4384095244791646,
          2.8506767177840397,
          3.262943911088914,
          3.6752111043937883,
          4.087478297698663,
          4.499745491003538,
          -3.3333311817890805,
          -2.921063988484206,
          -2.508796795179331,
          -2.0965296018744564,
          -1.6842624085695819,
          -1.2719952152647074,
          -0.8597280219598327,
          -0.44746082865495795,
          -0.03519363535008324,
          0.37707355795479147,
          0.7893407512596657,
          1.201607944564541,
          1.6138751378694152,
          2.0261423311742903,
          2.4384095244791646,
          2.8506767177840397,
          3.262943911088914,
          3.6752111043937883,
          4.087478297698663,
          4.499745491003538,
          -3.3333311817890805,
          -2.921063988484206,
          -2.508796795179331,
          -2.0965296018744564,
          -1.6842624085695819,
          -1.2719952152647074,
          -0.8597280219598327,
          -0.44746082865495795,
          -0.03519363535008324,
          0.37707355795479147,
          0.7893407512596657,
          1.201607944564541,
          1.6138751378694152,
          2.0261423311742903,
          2.4384095244791646,
          2.8506767177840397,
          3.262943911088914,
          3.6752111043937883,
          4.087478297698663,
          4.499745491003538,
          -3.3333311817890805,
          -2.921063988484206,
          -2.508796795179331,
          -2.0965296018744564,
          -1.6842624085695819,
          -1.2719952152647074,
          -0.8597280219598327,
          -0.44746082865495795,
          -0.03519363535008324,
          0.37707355795479147,
          0.7893407512596657,
          1.201607944564541,
          1.6138751378694152,
          2.0261423311742903,
          2.4384095244791646,
          2.8506767177840397,
          3.262943911088914,
          3.6752111043937883,
          4.087478297698663,
          4.499745491003538,
          -3.3333311817890805,
          -2.921063988484206,
          -2.508796795179331,
          -2.0965296018744564,
          -1.6842624085695819,
          -1.2719952152647074,
          -0.8597280219598327,
          -0.44746082865495795,
          -0.03519363535008324,
          0.37707355795479147,
          0.7893407512596657,
          1.201607944564541,
          1.6138751378694152,
          2.0261423311742903,
          2.4384095244791646,
          2.8506767177840397,
          3.262943911088914,
          3.6752111043937883,
          4.087478297698663,
          4.499745491003538,
          -3.3333311817890805,
          -2.921063988484206,
          -2.508796795179331,
          -2.0965296018744564,
          -1.6842624085695819,
          -1.2719952152647074,
          -0.8597280219598327,
          -0.44746082865495795,
          -0.03519363535008324,
          0.37707355795479147,
          0.7893407512596657,
          1.201607944564541,
          1.6138751378694152,
          2.0261423311742903,
          2.4384095244791646,
          2.8506767177840397,
          3.262943911088914,
          3.6752111043937883,
          4.087478297698663,
          4.499745491003538,
          -3.3333311817890805,
          -2.921063988484206,
          -2.508796795179331,
          -2.0965296018744564,
          -1.6842624085695819,
          -1.2719952152647074,
          -0.8597280219598327,
          -0.44746082865495795,
          -0.03519363535008324,
          0.37707355795479147,
          0.7893407512596657,
          1.201607944564541,
          1.6138751378694152,
          2.0261423311742903,
          2.4384095244791646,
          2.8506767177840397,
          3.262943911088914,
          3.6752111043937883,
          4.087478297698663,
          4.499745491003538,
          -3.3333311817890805,
          -2.921063988484206,
          -2.508796795179331,
          -2.0965296018744564,
          -1.6842624085695819,
          -1.2719952152647074,
          -0.8597280219598327,
          -0.44746082865495795,
          -0.03519363535008324,
          0.37707355795479147,
          0.7893407512596657,
          1.201607944564541,
          1.6138751378694152,
          2.0261423311742903,
          2.4384095244791646,
          2.8506767177840397,
          3.262943911088914,
          3.6752111043937883,
          4.087478297698663,
          4.499745491003538,
          3.984550072904769,
          4.370378533387026,
          1.554839808195296,
          4.148337057826319,
          2.253361249704693,
          2.369195363726764,
          1.9140119426895699,
          3.1005521323236316,
          2.6492416456400574,
          3.4817764650622984,
          5.10816850342193,
          2.908316594640823,
          3.736117570978004,
          4.478567146978115,
          3.1415389326441927,
          3.921121895825177,
          1.7336989491221897,
          2.0675712503921773,
          4.318910298343814,
          3.3640211945573535,
          3.488478392063073,
          1.5110037748672251,
          2.405967488756357,
          4.16356741951565,
          3.3669078159202876,
          2.8385536783334597,
          3.6776434071883712,
          3.0699612846972046,
          3.779013158637216,
          2.183723280876751,
          2.123085677292814,
          3.8591598680993853,
          2.68977068533999,
          4.818280601301451,
          1.0130571890079898,
          2.5938762471312504,
          2.275946385613546,
          1.3666039049949168,
          1.7820606219465227,
          2.313579366039291,
          4.605675848402386,
          2.2947793998915222,
          2.220284051178555,
          2.3594982204936374,
          3.58671142887678,
          3.4005906551706735,
          1.7186324917095832,
          3.9050274675382806,
          3.904504339525622,
          4.537753735733091,
          3.9787952247591836,
          2.9546185388908146,
          3.1123530025993524,
          3.704461525905815,
          2.5300423775955796,
          5.1966495786024165,
          3.226223828381535,
          2.93047995539107,
          2.9112785273749697,
          1.0835273061839081,
          4.261572285024608,
          2.3490096585097096,
          3.0292649220309307,
          3.8782748245956964,
          2.0295561993868425,
          4.550224950461356,
          1.6905588989052693,
          3.388266943765008,
          2.7764299789185807,
          2.640748868217998,
          3.1917404907886935,
          3.3797538296619813,
          3.4429665508848855,
          3.329757948104745,
          2.6675023534762605,
          2.405769175935097,
          2.6315780586673645,
          3.7921782063321143,
          5.231294482163291,
          3.1636337194289497,
          3.837423842943492,
          2.0904499366235503,
          2.3928872481842043,
          3.9043492140773273,
          3.93056678824966,
          3.5828749566084084,
          4.339220806831816,
          2.9892501185418645,
          2.786815305729621,
          4.444260116194568,
          3.817443181512695,
          2.6249558853323163,
          4.5124625850101605,
          3.627528139377081,
          2.9312521843341686,
          1.9759243756433176,
          4.4776584996533995,
          1.8750682117523891,
          2.475746321178534,
          1.0148991654769963,
          4.102392397437946,
          4.149824661126417,
          2.4054067625247164,
          2.964083641631184,
          3.526640806170419,
          5.623803517704771,
          1.437187025698611,
          3.926340262387034,
          1.8651662611239226,
          3.7616578014680315,
          3.408008629989779,
          3.10965205526464,
          3.304777464157248,
          3.29759566102639,
          2.320857804773458,
          1.955265626748332,
          2.483388477825593,
          5.479055887856504,
          2.97666029334767,
          1.6122159598298513,
          3.2676198861583,
          3.7373404054220845,
          2.6780724766638437,
          3.2755473642084802,
          2.451525499480209,
          1.5349114733690719,
          1.9973773428883286,
          2.526065581011413,
          2.977460376531629,
          3.6608487170549413,
          2.7783383263229218,
          1.2581884643443366,
          4.170524312914346,
          3.440514516910451,
          3.7784107721842206,
          2.757002691818151,
          4.074101442180251,
          3.356990833331535,
          2.547105526752699,
          2.72569754172275,
          1.7103847476951444,
          4.782937435517653,
          1.7391830976156883,
          3.919826002079982,
          2.2986131662477733,
          3.1477501894417497,
          3.532123330426333,
          4.24105983738921,
          3.2946115088661996,
          2.1917575937609763,
          3.8429201429361455,
          2.42232491638297,
          4.665130749555046,
          2.287222215531365,
          3.8878248626470837,
          1.8786310459143971,
          2.1920057112270253,
          4.304788055971916,
          1.235219990116666,
          3.928470128107361,
          3.262050529385523,
          2.774903163853335,
          3.4363969407851434,
          3.5230580235847726,
          3.4258095477097563,
          4.140139331781734,
          2.90827132307649,
          3.8571673791210084,
          3.4785031419929804,
          4.040851657010542,
          4.67644061242996,
          0.9415773947165893,
          2.3615794684592673,
          2.316216097102581,
          3.6493524179800048,
          1.8284674419850806,
          3.272772639434365,
          4.150623371080178,
          2.8441072865914663,
          3.1345128287755273,
          4.330571582573085,
          1.222812005563556,
          3.9109809336691486,
          3.1042105796650303,
          4.743478233780383,
          2.2816265115482555,
          4.812752327827453,
          2.585638360469548,
          1.8468638136496167,
          2.636160643665197,
          3.561773170078399,
          3.0506934706686075,
          0.8795097458827856,
          3.5542332442583735,
          3.5749211526325144,
          3.9608148893264286,
          1.6575838252321948,
          3.55674149904867,
          3.8136933316570483,
          2.415772397047519,
          3.8116311271907533,
          3.701541991293845,
          4.3124332514587715,
          1.960813641751125,
          1.7266347512188966,
          2.4942763587902257,
          2.933794358219354,
          2.602027712206333,
          3.515227925231388,
          4.477178264971634,
          3.641738565872142,
          1.9122068168434057,
          2.1721919216337984,
          1.4023970163318906,
          1.1975790738852128,
          3.4501962586879737,
          2.9397605022438986,
          1.940362000904536,
          2.38463661594493,
          3.3151136410066786,
          2.634240430235079,
          2.1911780557450804,
          4.357016710719208,
          2.968233635028398,
          1.5697862714046207,
          1.8399321620230267,
          3.43431824462488,
          2.454284863066847,
          2.1392790069093843,
          3.68764671301451,
          2.7125347187847244,
          2.4521815130564812,
          3.7995413922972645,
          0.8706983758007474,
          2.2335875482562955,
          2.3951065823492987,
          4.835997376102609,
          1.9853831066723935,
          3.358697014239093,
          4.772349843487983,
          3.236239516622072,
          3.230638616579802,
          4.521782103638587,
          3.095374501057701,
          2.9804595440539696,
          1.4907977045324934,
          5.006605491462038,
          1.7737991018928465,
          3.936576261097677,
          3.2460493669558677,
          4.427202566134393,
          4.503552520090908,
          4.075353224813971,
          5.2071567715372895,
          4.760086011891263,
          2.8654862431905297,
          4.09489533003473,
          4.118419951455772,
          3.0615744706302097,
          4.698724835642552,
          2.5218171002556145,
          3.906105986589817,
          1.981222047920022,
          4.646889969499963,
          2.6406130587902066,
          4.700635404542548,
          3.024414378752379,
          5.876135403888044,
          2.726073681131789,
          2.9151920178285082,
          3.2841062435473707,
          2.5186216491213544,
          3.214514010889892,
          2.5689648515833996,
          2.176484672740485,
          2.8670636116804524,
          2.9619456956601837,
          2.50255974163892,
          1.7825917054457618,
          3.462094957743832,
          3.8213082583646263,
          2.443425922015521,
          1.8719582775383734,
          1.3416316292214896,
          3.5334568867559235,
          2.9301626696528364,
          2.640752473580808,
          3.1258620760409617,
          2.6903070453753375,
          2.099360283226366,
          3.9827631376129897,
          3.979820451583285,
          2.3253267565799605,
          3.3148660366592733,
          2.680854798882523,
          2.1778001947023418,
          2.8221108829465194,
          3.38569886961121,
          4.4386389805850115,
          2.086528942911742,
          4.532484601932009,
          3.5958470047150204,
          2.7669114946100306,
          3.4746998382051464,
          1.855897188479857,
          2.3398668071440536,
          4.498306549309122,
          2.570853348009947,
          5.184318326528533,
          1.8587097167748643,
          5.448779107157113,
          3.5084263169758447,
          1.9617838886861003,
          2.7209389275354052,
          3.935329077667976,
          2.5077797229131846,
          3.2755341260046964,
          5.867320399000401,
          3.429821458049046,
          4.600848150193252,
          3.1879733090379028,
          3.83288227621847,
          2.173704633742768,
          3.8339816066815855,
          2.3315936242420117,
          2.0255908920896144,
          3.8680333360551606,
          3.7983024453796603,
          3.214693123473697,
          5.511950957284705,
          2.540012601874494,
          5.124695176737009,
          3.334437478658001,
          3.065073531652463,
          3.9424182935115324,
          4.253331039179099,
          2.7574280793893835,
          5.186425301105563,
          4.779109232738069,
          3.73017683637396,
          4.304240740805239,
          2.141467491110125,
          3.0059897273813077,
          2.7047198898594664,
          2.4991655398461465,
          2.6196856049080868,
          4.250875538055609,
          3.742753856406841,
          4.62970429546852,
          1.6779783965174182,
          2.5925912261974005,
          3.5181655236889546,
          3.4468384767505222,
          3.0899834377548903,
          3.004688986549362,
          3.3256523610799076,
          3.7151303250152354,
          2.9673026723576563,
          1.515211477979177,
          2.1509217356615467,
          1.6914407824260393,
          3.7640239388921057,
          3.650092459364147,
          3.5378276228524186,
          3.757623232877993,
          1.705191595746978,
          3.870000498481553,
          2.745316486636562,
          3.9450866241646723,
          2.8764316453332635,
          2.711991927571771,
          3.511104008719816,
          4.7641654752789115,
          2.5606407774901743,
          3.6666175789230233,
          3.661371856353977,
          1.6381805568554229,
          2.7936726460300503,
          3.0966982261838387,
          2.036680739156275,
          3.5308860543851877,
          1.9283022710270143,
          1.9265321841370548,
          5.105256975666971,
          1.762317560118844,
          3.8869723466438337,
          2.2341601972106426,
          3.4506576093640304,
          1.922339494850504,
          1.473308867821649,
          2.884101959224691,
          2.2893441255450457,
          2.3776745290737322,
          2.7924675361522655,
          2.396168144732244,
          3.278492139598111,
          4.479790954208655,
          3.986630900062032,
          1.8276749839023592,
          2.364725396722772,
          2.2129903119245484,
          2.9060232674379245,
          2.546299477952827,
          2.24576615395669,
          3.5247426757126017,
          2.901341391050718,
          3.4699825806757425,
          3.5350959491106257,
          2.249034426288499,
          2.652870223043695,
          2.661765722571456,
          2.3008195964645024,
          3.0834279358357364,
          2.790253740319927,
          2.2419284796105905,
          2.903980270285636,
          2.5907200354029807,
          2.548010606114876,
          2.295406220759947,
          3.110210277375794,
          2.4413004397357247,
          2.3544270111540837,
          3.6125500640791874,
          2.264320150888591,
          2.468346999993768,
          2.995265911264517,
          2.6412356026933153,
          3.140579834534313,
          3.455090345253779,
          3.5108072395920997,
          3.5152485705074956,
          3.059784044216745,
          3.669342664198772,
          3.2999824108564084,
          2.4465105275316397,
          3.138025097910603,
          2.6906020016308796,
          2.8924324188858095,
          2.8828546636629806,
          2.5003272226539757,
          2.4435229173241066,
          3.021951270689798,
          2.47220540663658,
          2.7402626642795296,
          3.2731519076017754,
          3.2359067926690277,
          3.3826043411502034,
          2.9572676810212926,
          2.5929899958838654,
          2.7825090931386898,
          3.1319907959975035,
          3.678221088949357,
          2.334590256067398,
          2.4019326109847183,
          3.5449776961262147,
          2.8894615201762415,
          2.6441165663455117,
          2.993430011180648,
          2.5064035454465134,
          2.1724366892558193,
          2.7023407567234656,
          2.1306895918325854,
          2.604702604335876,
          2.6813844804980858,
          2.4060899206236748,
          2.7850047405436307,
          2.8563353822623188,
          2.6189549670548633,
          2.5777335170477906,
          2.4693671693917314,
          2.381919442022282,
          2.6001513637549913,
          2.4321929461350416,
          2.901482990253996,
          2.286698247044101,
          2.9017848491039793,
          2.6519940538926745,
          2.553448970359493,
          3.751906432471039,
          2.4276692887640414,
          2.5795663422250197,
          3.4921420666632694,
          2.0921138325022732,
          2.8092080920296887,
          3.122339677398242,
          3.7248709555383432,
          3.5671949632807753,
          2.539106666300414,
          2.637680603520227,
          2.7833884706399705,
          2.5755679597951384,
          3.0806924897557955,
          3.078823111476098,
          2.7573695317381923,
          3.3741388177382063,
          2.614906638876936,
          2.9760396584336064,
          2.6190098083808953,
          2.629691587347663,
          2.050998734326242,
          2.858291278041166,
          3.8383247440939607,
          2.085762938385723,
          2.9067961154370754,
          2.661334523113036,
          3.2053977364003687,
          2.403959713323994,
          3.1214938962509517,
          2.8619470842686945,
          3.0664007670780564,
          3.686450299607631,
          2.6444154584802666,
          2.689226220626855,
          3.364948902666834,
          2.982466145226558,
          2.829923963849817,
          2.8486901094213994,
          3.1764319095203755,
          2.9474000228629533,
          2.3505233101233745,
          2.2583026621726248,
          2.3970694729087856,
          2.8495616729880107,
          3.0827138609544344,
          3.5643978421482685,
          2.5423115667366774,
          2.6434854085827073,
          2.527044174880046,
          2.594335861211291,
          3.52014028858223,
          3.092438420569515,
          2.814516346774948,
          3.0103969493098925,
          3.3935487688046355,
          3.091891338971416,
          2.6680714790115996,
          3.15106277249411,
          2.670284693802711,
          2.5082164263802738,
          3.108183427367017,
          3.256905916986628,
          2.831573444722205,
          2.910769441158246,
          3.6990429864717274,
          2.7294530644255546,
          3.572795287720472,
          2.367445563837197,
          2.9071652490219906,
          2.690748713870864,
          2.1503675004555665,
          2.5918096960853183,
          2.921764971599619,
          2.7830978968009794,
          3.076659757416355,
          2.572589072973773,
          2.3980726238524928,
          2.7081195677079597,
          3.1972260742740826,
          2.945937040881635,
          2.399403339807932,
          2.680676021932701,
          3.6863787471872618,
          2.71912176757388,
          3.142035553285184,
          2.428759613345612,
          3.6223763471968025,
          2.429886389992288,
          2.2937369293798433,
          2.3005030621847005,
          2.777484726682603,
          3.6346769007722566,
          2.5390186850174112,
          2.4725319655964513,
          2.707289065795498,
          2.369838219337341,
          2.854603187563856,
          2.9847173088331194,
          2.7246280533985687,
          3.5120325120776537,
          3.6210755183454233,
          2.83546133891678,
          2.7811579791445302,
          2.862640328231915,
          2.576800905376718,
          2.843265790927934,
          3.075539986453498,
          2.5994213466091862,
          2.633779314363013,
          1.9739914476945346,
          2.5490755858849408,
          3.151406391094268,
          3.649166548424809,
          2.3955002390096167,
          3.2374887632552065,
          2.4682841968214073,
          2.7416804993461943,
          3.1192942908314154,
          3.1187528470308727,
          3.113765318837221,
          3.0461634958777752,
          2.784302059465441,
          2.768623808119019,
          2.3240959261805783,
          2.6118827903869146,
          2.5893064002800616,
          2.1124030726674423,
          2.6244400672697816,
          3.651784188302554,
          2.339770343980942,
          3.8105762058758406,
          2.4405269860477192,
          2.8713604929354726,
          2.9900887085143446,
          3.3710296771850206,
          2.483435684638022,
          3.3808981409700403,
          2.3999325827605134,
          2.3444137421609716,
          2.593556329429996,
          2.797659577568659,
          2.765261915991484,
          2.8755095686192074,
          3.879786487168489,
          2.6460370906975785,
          2.5336332803488646,
          2.6818392219849914,
          2.724601211587804,
          2.9798371488835715,
          2.9543385691889745,
          2.3423553293176655,
          2.9498164197216634,
          2.97941624201047,
          3.459198303794947,
          3.250557552421253,
          3.4856533446782416,
          3.553107705044927,
          2.8421914082415918,
          2.321120190595294,
          2.7974997302918685,
          3.0350111141838183,
          3.0846395515173577,
          2.523577680598198,
          3.603727781979328,
          2.7952459077837375,
          2.627882942346317,
          2.736978072850999,
          3.337668597299002,
          2.574458821571294,
          2.693051333477589,
          2.5986469007824278,
          2.4078081619094722,
          3.1799599273092745,
          3.1030470624075353,
          2.794915136575759,
          2.96241364249301,
          2.692734258211953,
          3.3601812559833966,
          2.904151492757799,
          2.9263052602716613,
          3.7278323938374385,
          2.460256622625465,
          2.4422842115297847,
          2.6402525302430915,
          2.823937260680368,
          3.0838256876968373,
          2.37179423038394,
          2.7306055575952506,
          3.2558925302643416,
          2.158788641241035,
          2.8642048171130168,
          2.400402994442813,
          2.8557407115021105,
          2.973059022265982,
          2.82772786069913,
          3.223132896911271,
          3.099977450390839,
          3.1189645524349334,
          2.55284986965229,
          2.5948362616945975,
          3.129836074695632,
          3.5522502671683505,
          2.5110952040564087,
          2.9110603378465423,
          2.512262418339052,
          3.036883515534901,
          2.4091554102620605,
          2.2716597884713083,
          2.906362553591167,
          2.4874358509458148,
          2.847343987182228,
          2.6714484726503103,
          2.9722347007228014,
          2.9833604388636825,
          2.6632966346307536,
          2.185653374335645,
          2.924509078591756,
          2.5056599966161905,
          3.471403292636937,
          2.524615541611645,
          2.731186348924989,
          2.9168677289230747,
          3.0070918182779716,
          2.4614354640512266,
          2.8146455844604708,
          3.070142378785914,
          3.255827723247139,
          3.075990310138673,
          2.865057358343547,
          2.6418582013072935,
          2.2198558712204832,
          3.377886908712141,
          2.6073731280858183,
          2.5118920158964313,
          2.4854142119451694,
          3.3429146973122625,
          2.457447566322601,
          3.729292364072734,
          3.7148658733359383,
          3.480232779237355,
          2.5250984579174824,
          3.645846153749588,
          2.9428305180488543,
          2.785582890159619,
          2.788774672386944,
          2.8735853007211922,
          3.5364319082254467,
          2.8113930731663266,
          2.7879867957190045,
          2.7686827349854277,
          2.5641345523250103,
          2.727787809526726,
          2.665072918403599,
          3.0178601763229986,
          2.6412584396091936,
          2.2200654207405943,
          2.2822829836480536,
          2.9588001475567847,
          2.9123164570606375,
          2.577721309451386,
          3.754347920051401,
          2.7357801968355226,
          2.4284847819790634,
          3.732622083955266,
          2.961608658545702,
          2.552170647052042,
          2.6435464494516676,
          3.5495159604278745,
          2.770518848620575,
          3.0064659403977965,
          2.6494302302860184,
          2.9460457215106666,
          3.697849262789836,
          3.2524928264361934,
          2.2675251765727316,
          2.2376050613517138,
          2.7028557973532172,
          2.8688265325685434,
          2.7696171190967074,
          2.741863576923745,
          2.744072159138706,
          2.5579778828070228,
          2.7630890552893024,
          2.146061123911807,
          3.8390495565472853,
          3.1036805597521515,
          3.472315966844845,
          2.805891309845137,
          2.988023108256542,
          2.7993219829132614,
          2.6035088182360133,
          2.570602356127671,
          2.6103577749152285,
          3.643839958347711,
          2.750533696938286,
          2.6893456412986834,
          2.582233078771187,
          2.3798766897020944,
          2.8726947252989152,
          3.7507739989511277,
          2.5239259686461843,
          3.500457080003024,
          3.516963227750011,
          2.6991689789626223,
          3.1016300313151035,
          2.8706951956840054,
          2.787692582807097,
          2.9651168601694793,
          2.540066499561171,
          2.6228015574234655,
          2.7334783359846355,
          2.1904120933844706,
          3.531943303131016,
          2.8828066711382987,
          2.58094283458132,
          3.4733234320544075,
          2.9697132224823193,
          2.418331761822326,
          2.3196442132419905,
          2.609525825571456,
          2.6927106283388538
         ],
         "yaxis": "y2"
        }
       ],
       "layout": {
        "annotations": [
         {
          "font": {
           "size": 16
          },
          "showarrow": false,
          "text": "coords",
          "x": 0.225,
          "xanchor": "center",
          "xref": "paper",
          "y": 1,
          "yanchor": "bottom",
          "yref": "paper"
         },
         {
          "font": {
           "size": 16
          },
          "showarrow": false,
          "text": "coords",
          "x": 0.775,
          "xanchor": "center",
          "xref": "paper",
          "y": 1,
          "yanchor": "bottom",
          "yref": "paper"
         }
        ],
        "template": {
         "data": {
          "bar": [
           {
            "error_x": {
             "color": "#2a3f5f"
            },
            "error_y": {
             "color": "#2a3f5f"
            },
            "marker": {
             "line": {
              "color": "#E5ECF6",
              "width": 0.5
             }
            },
            "type": "bar"
           }
          ],
          "barpolar": [
           {
            "marker": {
             "line": {
              "color": "#E5ECF6",
              "width": 0.5
             }
            },
            "type": "barpolar"
           }
          ],
          "carpet": [
           {
            "aaxis": {
             "endlinecolor": "#2a3f5f",
             "gridcolor": "white",
             "linecolor": "white",
             "minorgridcolor": "white",
             "startlinecolor": "#2a3f5f"
            },
            "baxis": {
             "endlinecolor": "#2a3f5f",
             "gridcolor": "white",
             "linecolor": "white",
             "minorgridcolor": "white",
             "startlinecolor": "#2a3f5f"
            },
            "type": "carpet"
           }
          ],
          "choropleth": [
           {
            "colorbar": {
             "outlinewidth": 0,
             "ticks": ""
            },
            "type": "choropleth"
           }
          ],
          "contour": [
           {
            "colorbar": {
             "outlinewidth": 0,
             "ticks": ""
            },
            "colorscale": [
             [
              0,
              "#0d0887"
             ],
             [
              0.1111111111111111,
              "#46039f"
             ],
             [
              0.2222222222222222,
              "#7201a8"
             ],
             [
              0.3333333333333333,
              "#9c179e"
             ],
             [
              0.4444444444444444,
              "#bd3786"
             ],
             [
              0.5555555555555556,
              "#d8576b"
             ],
             [
              0.6666666666666666,
              "#ed7953"
             ],
             [
              0.7777777777777778,
              "#fb9f3a"
             ],
             [
              0.8888888888888888,
              "#fdca26"
             ],
             [
              1,
              "#f0f921"
             ]
            ],
            "type": "contour"
           }
          ],
          "contourcarpet": [
           {
            "colorbar": {
             "outlinewidth": 0,
             "ticks": ""
            },
            "type": "contourcarpet"
           }
          ],
          "heatmap": [
           {
            "colorbar": {
             "outlinewidth": 0,
             "ticks": ""
            },
            "colorscale": [
             [
              0,
              "#0d0887"
             ],
             [
              0.1111111111111111,
              "#46039f"
             ],
             [
              0.2222222222222222,
              "#7201a8"
             ],
             [
              0.3333333333333333,
              "#9c179e"
             ],
             [
              0.4444444444444444,
              "#bd3786"
             ],
             [
              0.5555555555555556,
              "#d8576b"
             ],
             [
              0.6666666666666666,
              "#ed7953"
             ],
             [
              0.7777777777777778,
              "#fb9f3a"
             ],
             [
              0.8888888888888888,
              "#fdca26"
             ],
             [
              1,
              "#f0f921"
             ]
            ],
            "type": "heatmap"
           }
          ],
          "heatmapgl": [
           {
            "colorbar": {
             "outlinewidth": 0,
             "ticks": ""
            },
            "colorscale": [
             [
              0,
              "#0d0887"
             ],
             [
              0.1111111111111111,
              "#46039f"
             ],
             [
              0.2222222222222222,
              "#7201a8"
             ],
             [
              0.3333333333333333,
              "#9c179e"
             ],
             [
              0.4444444444444444,
              "#bd3786"
             ],
             [
              0.5555555555555556,
              "#d8576b"
             ],
             [
              0.6666666666666666,
              "#ed7953"
             ],
             [
              0.7777777777777778,
              "#fb9f3a"
             ],
             [
              0.8888888888888888,
              "#fdca26"
             ],
             [
              1,
              "#f0f921"
             ]
            ],
            "type": "heatmapgl"
           }
          ],
          "histogram": [
           {
            "marker": {
             "colorbar": {
              "outlinewidth": 0,
              "ticks": ""
             }
            },
            "type": "histogram"
           }
          ],
          "histogram2d": [
           {
            "colorbar": {
             "outlinewidth": 0,
             "ticks": ""
            },
            "colorscale": [
             [
              0,
              "#0d0887"
             ],
             [
              0.1111111111111111,
              "#46039f"
             ],
             [
              0.2222222222222222,
              "#7201a8"
             ],
             [
              0.3333333333333333,
              "#9c179e"
             ],
             [
              0.4444444444444444,
              "#bd3786"
             ],
             [
              0.5555555555555556,
              "#d8576b"
             ],
             [
              0.6666666666666666,
              "#ed7953"
             ],
             [
              0.7777777777777778,
              "#fb9f3a"
             ],
             [
              0.8888888888888888,
              "#fdca26"
             ],
             [
              1,
              "#f0f921"
             ]
            ],
            "type": "histogram2d"
           }
          ],
          "histogram2dcontour": [
           {
            "colorbar": {
             "outlinewidth": 0,
             "ticks": ""
            },
            "colorscale": [
             [
              0,
              "#0d0887"
             ],
             [
              0.1111111111111111,
              "#46039f"
             ],
             [
              0.2222222222222222,
              "#7201a8"
             ],
             [
              0.3333333333333333,
              "#9c179e"
             ],
             [
              0.4444444444444444,
              "#bd3786"
             ],
             [
              0.5555555555555556,
              "#d8576b"
             ],
             [
              0.6666666666666666,
              "#ed7953"
             ],
             [
              0.7777777777777778,
              "#fb9f3a"
             ],
             [
              0.8888888888888888,
              "#fdca26"
             ],
             [
              1,
              "#f0f921"
             ]
            ],
            "type": "histogram2dcontour"
           }
          ],
          "mesh3d": [
           {
            "colorbar": {
             "outlinewidth": 0,
             "ticks": ""
            },
            "type": "mesh3d"
           }
          ],
          "parcoords": [
           {
            "line": {
             "colorbar": {
              "outlinewidth": 0,
              "ticks": ""
             }
            },
            "type": "parcoords"
           }
          ],
          "pie": [
           {
            "automargin": true,
            "type": "pie"
           }
          ],
          "scatter": [
           {
            "marker": {
             "colorbar": {
              "outlinewidth": 0,
              "ticks": ""
             }
            },
            "type": "scatter"
           }
          ],
          "scatter3d": [
           {
            "line": {
             "colorbar": {
              "outlinewidth": 0,
              "ticks": ""
             }
            },
            "marker": {
             "colorbar": {
              "outlinewidth": 0,
              "ticks": ""
             }
            },
            "type": "scatter3d"
           }
          ],
          "scattercarpet": [
           {
            "marker": {
             "colorbar": {
              "outlinewidth": 0,
              "ticks": ""
             }
            },
            "type": "scattercarpet"
           }
          ],
          "scattergeo": [
           {
            "marker": {
             "colorbar": {
              "outlinewidth": 0,
              "ticks": ""
             }
            },
            "type": "scattergeo"
           }
          ],
          "scattergl": [
           {
            "marker": {
             "colorbar": {
              "outlinewidth": 0,
              "ticks": ""
             }
            },
            "type": "scattergl"
           }
          ],
          "scattermapbox": [
           {
            "marker": {
             "colorbar": {
              "outlinewidth": 0,
              "ticks": ""
             }
            },
            "type": "scattermapbox"
           }
          ],
          "scatterpolar": [
           {
            "marker": {
             "colorbar": {
              "outlinewidth": 0,
              "ticks": ""
             }
            },
            "type": "scatterpolar"
           }
          ],
          "scatterpolargl": [
           {
            "marker": {
             "colorbar": {
              "outlinewidth": 0,
              "ticks": ""
             }
            },
            "type": "scatterpolargl"
           }
          ],
          "scatterternary": [
           {
            "marker": {
             "colorbar": {
              "outlinewidth": 0,
              "ticks": ""
             }
            },
            "type": "scatterternary"
           }
          ],
          "surface": [
           {
            "colorbar": {
             "outlinewidth": 0,
             "ticks": ""
            },
            "colorscale": [
             [
              0,
              "#0d0887"
             ],
             [
              0.1111111111111111,
              "#46039f"
             ],
             [
              0.2222222222222222,
              "#7201a8"
             ],
             [
              0.3333333333333333,
              "#9c179e"
             ],
             [
              0.4444444444444444,
              "#bd3786"
             ],
             [
              0.5555555555555556,
              "#d8576b"
             ],
             [
              0.6666666666666666,
              "#ed7953"
             ],
             [
              0.7777777777777778,
              "#fb9f3a"
             ],
             [
              0.8888888888888888,
              "#fdca26"
             ],
             [
              1,
              "#f0f921"
             ]
            ],
            "type": "surface"
           }
          ],
          "table": [
           {
            "cells": {
             "fill": {
              "color": "#EBF0F8"
             },
             "line": {
              "color": "white"
             }
            },
            "header": {
             "fill": {
              "color": "#C8D4E3"
             },
             "line": {
              "color": "white"
             }
            },
            "type": "table"
           }
          ]
         },
         "layout": {
          "annotationdefaults": {
           "arrowcolor": "#2a3f5f",
           "arrowhead": 0,
           "arrowwidth": 1
          },
          "coloraxis": {
           "colorbar": {
            "outlinewidth": 0,
            "ticks": ""
           }
          },
          "colorscale": {
           "diverging": [
            [
             0,
             "#8e0152"
            ],
            [
             0.1,
             "#c51b7d"
            ],
            [
             0.2,
             "#de77ae"
            ],
            [
             0.3,
             "#f1b6da"
            ],
            [
             0.4,
             "#fde0ef"
            ],
            [
             0.5,
             "#f7f7f7"
            ],
            [
             0.6,
             "#e6f5d0"
            ],
            [
             0.7,
             "#b8e186"
            ],
            [
             0.8,
             "#7fbc41"
            ],
            [
             0.9,
             "#4d9221"
            ],
            [
             1,
             "#276419"
            ]
           ],
           "sequential": [
            [
             0,
             "#0d0887"
            ],
            [
             0.1111111111111111,
             "#46039f"
            ],
            [
             0.2222222222222222,
             "#7201a8"
            ],
            [
             0.3333333333333333,
             "#9c179e"
            ],
            [
             0.4444444444444444,
             "#bd3786"
            ],
            [
             0.5555555555555556,
             "#d8576b"
            ],
            [
             0.6666666666666666,
             "#ed7953"
            ],
            [
             0.7777777777777778,
             "#fb9f3a"
            ],
            [
             0.8888888888888888,
             "#fdca26"
            ],
            [
             1,
             "#f0f921"
            ]
           ],
           "sequentialminus": [
            [
             0,
             "#0d0887"
            ],
            [
             0.1111111111111111,
             "#46039f"
            ],
            [
             0.2222222222222222,
             "#7201a8"
            ],
            [
             0.3333333333333333,
             "#9c179e"
            ],
            [
             0.4444444444444444,
             "#bd3786"
            ],
            [
             0.5555555555555556,
             "#d8576b"
            ],
            [
             0.6666666666666666,
             "#ed7953"
            ],
            [
             0.7777777777777778,
             "#fb9f3a"
            ],
            [
             0.8888888888888888,
             "#fdca26"
            ],
            [
             1,
             "#f0f921"
            ]
           ]
          },
          "colorway": [
           "#636efa",
           "#EF553B",
           "#00cc96",
           "#ab63fa",
           "#FFA15A",
           "#19d3f3",
           "#FF6692",
           "#B6E880",
           "#FF97FF",
           "#FECB52"
          ],
          "font": {
           "color": "#2a3f5f"
          },
          "geo": {
           "bgcolor": "white",
           "lakecolor": "white",
           "landcolor": "#E5ECF6",
           "showlakes": true,
           "showland": true,
           "subunitcolor": "white"
          },
          "hoverlabel": {
           "align": "left"
          },
          "hovermode": "closest",
          "mapbox": {
           "style": "light"
          },
          "paper_bgcolor": "white",
          "plot_bgcolor": "#E5ECF6",
          "polar": {
           "angularaxis": {
            "gridcolor": "white",
            "linecolor": "white",
            "ticks": ""
           },
           "bgcolor": "#E5ECF6",
           "radialaxis": {
            "gridcolor": "white",
            "linecolor": "white",
            "ticks": ""
           }
          },
          "scene": {
           "xaxis": {
            "backgroundcolor": "#E5ECF6",
            "gridcolor": "white",
            "gridwidth": 2,
            "linecolor": "white",
            "showbackground": true,
            "ticks": "",
            "zerolinecolor": "white"
           },
           "yaxis": {
            "backgroundcolor": "#E5ECF6",
            "gridcolor": "white",
            "gridwidth": 2,
            "linecolor": "white",
            "showbackground": true,
            "ticks": "",
            "zerolinecolor": "white"
           },
           "zaxis": {
            "backgroundcolor": "#E5ECF6",
            "gridcolor": "white",
            "gridwidth": 2,
            "linecolor": "white",
            "showbackground": true,
            "ticks": "",
            "zerolinecolor": "white"
           }
          },
          "shapedefaults": {
           "line": {
            "color": "#2a3f5f"
           }
          },
          "ternary": {
           "aaxis": {
            "gridcolor": "white",
            "linecolor": "white",
            "ticks": ""
           },
           "baxis": {
            "gridcolor": "white",
            "linecolor": "white",
            "ticks": ""
           },
           "bgcolor": "#E5ECF6",
           "caxis": {
            "gridcolor": "white",
            "linecolor": "white",
            "ticks": ""
           }
          },
          "title": {
           "x": 0.05
          },
          "xaxis": {
           "automargin": true,
           "gridcolor": "white",
           "linecolor": "white",
           "ticks": "",
           "title": {
            "standoff": 15
           },
           "zerolinecolor": "white",
           "zerolinewidth": 2
          },
          "yaxis": {
           "automargin": true,
           "gridcolor": "white",
           "linecolor": "white",
           "ticks": "",
           "title": {
            "standoff": 15
           },
           "zerolinecolor": "white",
           "zerolinewidth": 2
          }
         }
        },
        "xaxis": {
         "anchor": "y",
         "domain": [
          0,
          0.45
         ]
        },
        "xaxis2": {
         "anchor": "y2",
         "domain": [
          0.55,
          1
         ]
        },
        "yaxis": {
         "anchor": "x",
         "domain": [
          0,
          1
         ]
        },
        "yaxis2": {
         "anchor": "x2",
         "domain": [
          0,
          1
         ]
        }
       }
      },
      "text/html": [
       "<div>\n",
       "        \n",
       "        \n",
       "            <div id=\"03832349-cd8f-4b21-be80-c67caeeb1bbe\" class=\"plotly-graph-div\" style=\"height:525px; width:100%;\"></div>\n",
       "            <script type=\"text/javascript\">\n",
       "                require([\"plotly\"], function(Plotly) {\n",
       "                    window.PLOTLYENV=window.PLOTLYENV || {};\n",
       "                    \n",
       "                if (document.getElementById(\"03832349-cd8f-4b21-be80-c67caeeb1bbe\")) {\n",
       "                    Plotly.newPlot(\n",
       "                        '03832349-cd8f-4b21-be80-c67caeeb1bbe',\n",
       "                        [{\"mode\": \"markers\", \"name\": \"0\", \"type\": \"scatter\", \"x\": [3.445574481375933, 2.863857011774429, 3.866887209912928, 2.932665671822504, 3.425689708701257, 3.725042716476828, 3.85042873130433, 4.336930881102006, 3.1624941489392753, 3.962170681675321, 3.7313913282998867, 3.581306171455651, 2.8765747093159604, 1.6331246827093906, 3.6266282401255663, 2.7869491892633698, 2.7590623765701934, 3.5895404336973904, 3.7552446930290753, 3.7658300022386695, 2.8671857561339507, 3.548954032100013, 3.577302370420785, 4.200382676921275, 4.071831592711339, 3.0125241785585297, 4.423254704337569, 2.411450742049884, 2.8355591724665574, 1.558804489709674, 3.6732219477841266, 3.4316311790666987, 3.03315167441259, 2.995361327270493, 3.8601377220386026, 3.8681738739015095, 4.050199853524352, 3.2778952852329435, 3.600291901470926, 2.9871241333214615], \"xaxis\": \"x\", \"y\": [0.6805898880727538, 0.8039022661085495, -0.31013859359932494, 0.02239852991407296, 0.26781735854283745, -0.11414695300252196, 0.6072901713396802, 0.20550959564761637, -0.08084815065207356, -0.019368666894963943, 1.7444088906297557, -0.15564759535963985, -0.9820443059633468, -0.24377233395255235, -0.8190902787245985, 1.0344973318785107, 0.23233077237971697, -0.15677041851809267, -0.49109357829549743, 1.0166115674381866, -0.19498951686067692, -0.5120990801814447, 0.2600286536546371, 0.4381412860588638, 0.5979071625600343, -0.29768064102754577, -0.019980310054539038, 0.4326587327677559, 0.7896895835572884, -0.23714241340427478, -2.0773686248685332, -0.3679736863687854, 0.42279998921288264, 0.8120981431295042, -0.5973274619015538, -2.6442949407166836, -0.969824773800961, -1.5727067695695336, 0.5977441551306417, 0.1331554089920269], \"yaxis\": \"y\"}, {\"mode\": \"markers\", \"name\": \"1\", \"type\": \"scatter\", \"x\": [-0.588467708450443, -2.425075704185392, -2.009415193884924, -1.744169862303973, -0.8409543996120973, -2.275617154821654, -0.5031756243017333, -1.5249671970828702, -2.418349800960872, -1.518728289734464, -1.4637165642323358, -0.6691509585936343, -2.7599519190657973, -2.9989250397338165, -2.8336099227066693, -2.2209592485343475, -2.4211158259705643, -2.1156755282676367, -2.727099125304905, -2.6862147629295046, -0.037543567271809464, -1.659271984622597, -2.5936522037035905, -3.2653655426825328, -1.9350398765222576, -1.4640653463717377, -2.5923096487877575, -2.8596495934838204, -2.3073013499728554, -2.0903224196795875, -1.5753189977485704, -2.2605506269082016, -1.5948597438952317, -2.489906926622773, -2.9449068543738615, -2.130496048757374, -3.0957527428243963, -3.3093968321048495, -1.7279427507460992, -1.4876561196173512, -2.52235454817066, -2.6001170959695292], \"xaxis\": \"x\", \"y\": [-2.0233867591993118, -0.23308883713685716, -2.8677311783669235, -0.45875611897643825, -1.5757799621584274, 0.10328799153443304, -0.008132532125952911, -2.0759263045566776, -1.7572175755054753, -0.9291078513979568, -1.680638418318223, 1.4036588573342608, -1.7454047533591421, -1.9579294368874125, -0.7514747102203199, -0.672576213746819, -1.0072660029786673, -2.9790798922315984, -2.6480509682835556, -1.9812367862299964, -0.9657295868515527, -3.3333311817890805, -1.767950658111273, -1.7952670841901253, -2.1873207328035265, -1.3747772093443789, -0.418548089865425, -0.5862049224626714, -0.5988073559395417, -0.12910608967455323, -0.9791152609386109, -1.3916758283418325, -0.36012549611466727, -1.277736768695488, -0.7162867622637535, -0.9505977727641176, -1.1883741048631573, -1.626531127772757, -0.9918646331045013, -2.4313065844317663, -0.29000716110382646, 2.0315891329699554], \"yaxis\": \"y\"}, {\"mode\": \"markers\", \"name\": \"2\", \"type\": \"scatter\", \"x\": [-0.5204137140343036, -2.843528704065343, -1.9523750352562317, -2.3940604387863873, -2.1043744622458322, -1.1473995389720693, -3.246537134337062, -1.9524285389116351, -2.6570690516380093, -1.2548436622456525, -1.6949622519645284, -0.9597586065683711, -2.910313436436997, -1.8754044420531415, -1.1731941280396445, -2.0303511885516867, -1.912775259714973, -1.5184976231964673, -2.6445348754798217, -0.3261257510824772], \"xaxis\": \"x\", \"y\": [4.499745491003538, 3.165287496883781, 2.5610001299207164, 3.5777857801903634, 3.1818519826232383, 2.8376595659738797, 3.5571910091071723, 2.918174057036131, 3.753983142225423, 3.4714529166534085, 2.7615994256229737, 2.23889433858673, 2.9729876195093334, 3.9461426367237324, 3.2464404465989904, 1.2886014359081899, 3.971508540371282, 3.829525170810342, 3.5196150472208076, 4.086200710833192], \"yaxis\": \"y\"}, {\"mode\": \"markers\", \"name\": \"3\", \"type\": \"scatter\", \"x\": [1.6674208909592927, 0.010503140396949691, 4.120963512124205, 0.10350505526920574, 3.6354013199398976, -2.2958521681770425, 1.210756479411488, -0.3336104099919142, -2.2625455317280343, 3.524143895315713, 3.079365721807298, -0.8191894257537885, -1.2875509235103784, -0.22084004369299115, -1.360392922117264, -2.1220509650562493, 3.8151830544878553, -2.4507839409448358, -2.3684514034680997, -2.8142587719190524, -2.1230858532518897, -2.531984839271786, -3.044146903499509, 3.3263867177778472, -3.5223502210430486, -2.381138192074775, -2.0308478562626258, -1.0783126038540105], \"xaxis\": \"x\", \"y\": [0.7162981045831687, -0.3575299506525828, -0.949158126612051, -0.20701605264119113, -0.27819774825799826, -1.2624299452839676, 0.48121802753354115, 0.6947487124496449, -2.0231515028744522, -1.1867887911271453, -1.1984613417575165, 1.2213576294858457, 0.38418845026425136, 0.5150955660262727, 1.4493596263154913, -0.8904018677643302, -0.38189846787409176, -1.0171228306075102, -1.0858406328230035, -0.3186101671401287, -0.9641319506962814, -1.7676299769157846, -1.832768268460767, 0.5103881274419099, -1.5972656070897269, -0.19499126956621302, -1.252076446550308, -1.6531879052387832], \"yaxis\": \"y\"}, {\"marker\": {\"color\": \"rgba(135, 206, 250, 0)\", \"line\": {\"color\": \"red\", \"width\": 5}, \"opacity\": 1, \"size\": 25}, \"mode\": \"markers\", \"showlegend\": false, \"type\": \"scatter\", \"x\": [-2.843528704065343], \"xaxis\": \"x\", \"y\": [3.165287496883781], \"yaxis\": \"y\"}, {\"marker\": {\"color\": [4.9261089950693406e-220, 1.54100423623102e-187, 6.225624480915757e-158, 3.341753409796503e-131, 2.475606695109594e-107, 2.6690576503021185e-86, 4.534898181343079e-68, 1.3869722474203824e-52, 9.752169452652655e-40, 2.352716399764341e-29, 2.8929160841788133e-21, 2.3820542080123464e-15, 1.977142804260046e-11, 3.483001402270286e-09, 3.856123564162252e-08, 6.096885561304254e-08, 2.614241674278655e-08, 5.93826206950271e-09, 9.537823874221655e-10, 6.612481490088465e-11, 1.4290304246057658e-212, 3.1017639952679475e-180, 8.28490116635031e-151, 2.773027981431647e-124, 1.191601346257142e-100, 3.1181370274732737e-78, 5.3988090223002815e-62, 6.428493164014703e-47, 1.301234446301052e-34, 5.723611386451382e-25, 8.966319617669018e-18, 1.0876724305622645e-12, 2.5855305288151378e-09, 2.083026754597431e-07, 8.071981454730979e-07, 3.9593665735494845e-07, 1.625470948106828e-07, 1.2624682365396698e-07, 5.011183988062058e-08, 1.231819065423054e-08, 2.522090633565818e-207, 4.25157931388194e-175, 8.518888645695783e-146, 2.0501636723578656e-119, 6.0093043327478346e-96, 2.1868027952102027e-75, 1.0152516172374862e-57, 6.262511897015491e-43, 5.476743281439112e-31, 7.628302124204385e-22, 2.2116848747911254e-15, 4.301025940848005e-11, 4.997588161584348e-08, 1.7442498633983976e-06, 5.17808728921012e-06, 3.5308863782408223e-06, 1.4012210228401816e-06, 1.3098893589098253e-06, 9.069374687031212e-07, 3.738207206543786e-07, 2.8326586039238513e-204, 4.18947116363781e-172, 7.229819381185852e-143, 1.4647431663200467e-116, 3.5123636838784434e-93, 1.0079841709457129e-72, 3.516048959525102e-55, 1.5245860272615582e-40, 8.502475972151005e-29, 6.449472192591661e-20, 7.492014688971139e-14, 2.9060122376000233e-10, 1.2303245067371167e-07, 4.341075853867383e-06, 1.911567762941005e-05, 2.0293374831155233e-05, 6.666638868022609e-06, 4.504084657258897e-06, 2.846494574194397e-06, 1.8351021284702656e-06, 2.0731517960408418e-203, 8.400040236979363e-164, 5.246434789054251e-142, 1.0568555226648354e-115, 2.51612347233756e-92, 7.154034180152521e-72, 2.4646840404191826e-54, 1.0504145218653276e-39, 5.711843424683109e-28, 4.1626720577162454e-19, 4.4573599238201774e-13, 1.037361392792641e-09, 1.1405563816379813e-07, 4.262189201065125e-06, 2.011825720412193e-05, 2.1771870843221094e-05, 1.2479214588790277e-05, 8.44674144711188e-06, 3.139168793163242e-06, 2.628424158534373e-06, 9.896238537185625e-205, 1.649461101954896e-172, 3.2604436327735106e-143, 7.71736797252655e-117, 2.215521346884829e-93, 7.849383086356408e-73, 3.516346911793948e-55, 2.0635224740619797e-40, 1.6752112051786494e-28, 2.0634074797522962e-19, 4.618334559208468e-13, 2.823862413791372e-09, 1.269536201417896e-07, 1.5566119669208307e-06, 9.727175199766778e-06, 1.382142973553769e-05, 8.918202009979852e-06, 5.121241440119531e-06, 3.4631727280579416e-06, 1.3892546734667876e-06, 3.01416879139116e-208, 6.425418948150428e-176, 1.6797402341074727e-146, 5.4770932576803805e-120, 3.888167889809762e-95, 1.2454444547309267e-75, 9.351621016798468e-58, 1.018616385237432e-42, 1.7708400827140178e-30, 5.650487837252954e-21, 4.1654193203284413e-14, 1.0161165765590106e-09, 1.3502891433901767e-07, 3.807468802917341e-07, 1.6813933711450134e-06, 4.691703189649055e-06, 4.202256268509543e-06, 2.798154976051511e-06, 1.6702428708630258e-06, 1.5574286225859812e-07, 5.6077214995755045e-214, 1.713052724004412e-181, 1.5809974964623254e-146, 3.489421124841839e-125, 2.474270702696765e-101, 3.3040651272953463e-80, 3.891184188823313e-62, 1.00332639037272e-46, 4.8798089972269405e-34, 5.3648028112151556e-24, 1.7328104196549286e-16, 2.3772055199017396e-11, 2.2957834988355037e-08, 3.4599736736621234e-07, 5.328404294339569e-07, 9.654944626348035e-07, 1.2383508610948927e-06, 4.96867218986435e-07, 6.673533271484297e-08, 3.7172377739003275e-09, 5.985066125584152e-222, 2.899355265357994e-189, 1.913005034929979e-159, 1.78487395092839e-132, 2.4714670110836317e-108, 5.409567091452129e-87, 2.047060294297564e-68, 1.4726045139759425e-52, 2.3895109437133077e-39, 1.0728016806891621e-28, 1.7761457207019527e-20, 1.6011626253773884e-14, 1.3380806551410734e-10, 2.19051613767683e-08, 1.9256586488594044e-07, 2.674399261569692e-07, 1.280616260194209e-07, 2.514932645173721e-08, 2.5908800483740963e-09, 8.711206004788592e-11, 3.387547264351881e-232, 2.8377351976447345e-199, 3.452583638310559e-169, 6.403284565672233e-142, 1.924632955609899e-117, 1.0139819107898542e-95, 1.0362827465686987e-76, 2.3459930643422694e-60, 1.39722452980296e-46, 2.7535449247231583e-35, 2.4187546773629333e-26, 1.3966428099717311e-19, 8.755835829813941e-15, 1.1211417414287212e-11, 6.083883208711831e-10, 2.831063980254628e-09, 1.89829177760335e-09, 2.3839732988533676e-10, 6.451814836028391e-12, 2.8518768428866354e-14, 9.287183526650676e-245, 1.4439579965394862e-211, 3.487493997320825e-181, 1.3868993267414967e-153, 9.764067942639415e-129, 1.3327581921379587e-106, 3.9556710681287788e-87, 2.952264628420173e-70, 6.662648766072806e-56, 5.742346514554328e-44, 2.534872178638148e-34, 8.251926490708442e-27, 3.0832683256052975e-21, 2.2086599159475467e-17, 5.230706926970901e-15, 6.749491589475381e-14, 6.837117915158649e-14, 6.5436306644488805e-15, 6.136663570956314e-17, 4.7506314878379127e-20, 1.1173095176901715e-259, 3.406127509506211e-226, 1.7249134952494778e-195, 1.550833933788301e-167, 2.6852642946807584e-142, 9.895886563275145e-120, 8.77980429163381e-100, 2.317388572815511e-82, 1.8343504571481987e-67, 6.547734393692089e-55, 1.3089511306132644e-44, 2.0357110286909208e-36, 3.5927007222150235e-30, 1.0867365615888323e-25, 8.526095589933871e-23, 2.502150562104709e-21, 3.580041252047143e-21, 2.8455635697156793e-22, 1.2475127573908181e-24, 2.5850720896390245e-28, 5.319854169249172e-277, 3.3089029768868604e-243, 3.646264927005201e-212, 7.656271347781265e-184, 1.94429067563459e-153, 3.375597409977299e-135, 8.945888655411938e-115, 7.252917788994936e-97, 2.2420081494323013e-81, 2.9400187883903495e-68, 2.3468397331498963e-57, 1.471521215276399e-48, 9.946966447710479e-42, 1.010012277613399e-36, 2.121821322362909e-33, 1.2141973428589945e-31, 2.302761066789026e-31, 1.5888285011430583e-32, 3.912767695302859e-35, 3.0111739158988874e-39, 9.028703635936979e-297, 1.1760671903544247e-262, 2.881423424457738e-231, 1.4343710497937019e-202, 1.5894394405679418e-176, 4.3676671377080475e-153, 3.3808366559702106e-132, 8.562222339455422e-114, 8.447313100617814e-98, 4.19966395415582e-84, 1.1146794155942829e-72, 2.404727525962858e-63, 5.1933692258939715e-56, 1.469506710880704e-50, 7.00112903616373e-47, 6.932320382808962e-45, 1.6537007226248897e-44, 1.0172549199108115e-45, 1.5811785002657333e-48, 5.576506857250699e-53, 4.92564e-319, 1.3627252150809538e-284, 7.48539245355365e-253, 8.840184977187358e-224, 2.4627175157959806e-197, 1.8024456783384633e-173, 3.925995177028613e-152, 2.9371446152520344e-133, 8.88478727331284e-117, 3.741732627676865e-102, 1.1386892764885542e-90, 7.585254987259031e-81, 4.3353145647540374e-73, 2.9397644782183992e-67, 2.7865702836037615e-63, 4.350172993696521e-61, 1.2524381828906428e-60, 6.994700015881961e-62, 7.4428309453637455e-65, 1.3847094296220564e-69, 0.0, 4.610433098373465e-309, 5.663850466300737e-277, 1.570304340729685e-247, 1.077505657428251e-220, 2.0332982550042507e-196, 1.1894742082500277e-174, 2.4690122720863394e-155, 2.1137505916248136e-138, 8.803259451242994e-124, 2.1297582036687444e-111, 1.0181036550110762e-100, 5.135690379318183e-93, 7.378493657581902e-87, 1.2539318291339051e-82, 2.8693202256891057e-80, 9.654554294290683e-80, 4.963808829567656e-81, 3.8402497026507473e-84, 4.174751072703888e-89, 0.0, 0.0, 1.1157615829774962e-303, 7.125720143026895e-274, 1.1705549475905396e-246, 5.474999327356713e-222, 8.167990940312496e-200, 4.407342874527935e-180, 9.868609008225608e-163, 1.0630277758064243e-147, 6.435949957626348e-135, 2.5681884650073634e-124, 2.5670747143554595e-114, 2.1752108129139948e-109, 6.0963205251685915e-105, 1.9302402623064475e-102, 7.402395398133165e-102, 3.5422272474552183e-103, 2.0878928228187338e-106, 1.4347085369341902e-111, 0.0, 0.0, 0.0, 7.408198521997034e-303, 2.8167465804072402e-275, 3.1266914588006354e-250, 1.1271380746160978e-227, 1.4818617337928945e-207, 8.048879189278496e-190, 2.060596878860615e-174, 2.8494455807041393e-161, 3.159951412982285e-146, 1.479524749286498e-141, 7.176691863179288e-135, 3.0998810744191686e-130, 1.2969532318297845e-127, 5.557985941427804e-127, 2.4975722500729097e-128, 1.1641395228154825e-131, 5.382119654185305e-137, 0.0, 0.0, 0.0, 0.0, 1.3576503037773753e-306, 3.4182923997737764e-281, 2.8211878480171676e-258, 8.489288538607221e-238, 1.0424583483623164e-219, 5.873682282390009e-204, 1.7110595423741982e-190, 2.900474548375655e-179, 3.2035123081293003e-170, 3.879646132328712e-158, 1.609908351284405e-158, 8.575316462398955e-156, 4.042476844159081e-155, 1.7185433864965616e-156, 6.52840453749498e-160, 2.1361243043494945e-165, 0.0, 0.0, 0.0, 0.0, 0.0, 6.54803235e-315, 1.1738869004777136e-291, 7.619725696779699e-271, 1.9821876026725045e-252, 2.293532852839345e-236, 1.3106402442278163e-222, 2.5074371104640588e-203, 7.719768682679906e-202, 9.563731289477347e-195, 8.390012382676372e-190, 5.519120809942524e-187, 2.8259713409304095e-186, 1.1436503859775304e-187, 3.6296965678885735e-191, 8.762853760845892e-197, 3.5613804478708124e-06, 2.7256275206088503e-06, 5.9470463141237226e-08, 2.994895664878859e-06, 1.3710827581162481e-05, 9.016300945588065e-06, 1.9646754156584037e-06, 3.3533142752357614e-06, 1.0899031993572513e-05, 1.0219889353396212e-05, 8.413871867179696e-09, 1.1964445454268896e-05, 4.226398767566278e-06, 3.0912408287809194e-07, 2.233660558458911e-09, 6.665101558127541e-08, 4.2331076879576197e-07, 2.184424990057448e-06, 3.2813913732527178e-06, 4.743656861851636e-06, 7.446056960994148e-08, 6.169600168277002e-08, 1.1693039676326924e-06, 3.1687070292571277e-06, 6.661571804452046e-10, 1.9887481168034715e-05, 4.914401708040085e-06, 6.146818588438776e-08, 6.286464962779097e-06, 1.1260198463505372e-05, 5.303541417401727e-06, 3.468503046555688e-06, 1.02257671140048e-05, 3.849679428096098e-07, 1.1275446965599727e-11, 1.6827627833597543e-05, 7.157748240042712e-06, 2.6552332733037903e-10, 9.33511382607997e-08, 1.7435925332635932e-05, 2.1694991532779958e-07, 7.270788982887647e-06, 8.659467525716673e-06, 2.1452097923244697e-06, 2.3830730182569337e-06, 5.154037188210455e-07, 1.9363840009625733e-07, 4.065693545230778e-06, 6.062443182329207e-09, 2.1481728057157813e-06, 3.358452941498084e-06, 1.3432344987521522e-06, 2.9547833284938144e-06, 5.996279369601913e-06, 2.3361657380459332e-05, 8.633370891691922e-10, 3.2412638639129762e-06, 2.4775140851242427e-08, 2.0067358385123786e-05, 3.3893691081947683e-10, 4.9446937110903e-08, 1.3081575214508235e-06, 3.62948597318422e-06, 1.482411047928726e-08, 3.6436863320797773e-06, 2.067049743399439e-06, 1.985802062773625e-07, 1.037843929076198e-06, 5.619304618197925e-07, 1.7432980237090867e-05, 4.940920743070517e-06, 2.454141457364959e-06, 1.3135007643603788e-07, 4.622376454262087e-06, 2.117238183769939e-05, 8.424246362712873e-06, 7.81380619023914e-06, 3.1704215282969684e-07, 7.19354039631383e-11, 9.380434802139228e-08, 3.921472479813263e-10, 2.2067434577272835e-07, 2.2952273327234166e-06, 1.765034011910857e-08, 2.0842422769273998e-06, 7.363747565023412e-06, 2.2903404811412725e-06, 1.6609103406081243e-07, 1.0182746862790719e-05, 2.0546188220471075e-11, 3.886319109260658e-06, 2.597410936311835e-05, 2.5614199198080954e-06, 9.53190882597861e-11, 2.7240463019133927e-06, 4.798798233768793e-07, 2.223112486904887e-06, 1.5260725115463056e-06, 5.480902399419804e-06, 5.612046523705952e-20, 2.9873703563019575e-06, 3.4007833100181586e-06, 1.7487965102132397e-05, 5.204170873106801e-06, 1.0020199380715983e-05, 2.690317568755679e-14, 3.109768557464756e-08, 3.179167446841347e-07, 1.4745901799874817e-06, 3.4923206518142887e-09, 3.464123097649e-08, 5.9342182168223266e-06, 1.5301614118172382e-06, 1.6716943766439745e-07, 2.3607711485265126e-06, 2.902470340686377e-06, 1.0889107053623438e-06, 1.3982693759407082e-12, 9.072175751566062e-06, 5.591802120458397e-08, 1.7979369630658895e-06, 6.904066565722693e-06, 5.8790352371108565e-08, 1.2179695569747341e-05, 1.5527458500702788e-07, 4.4752075571951874e-08, 1.1255401304169604e-06, 2.384014970819258e-05, 1.838836059487646e-05, 7.592231163422166e-06, 1.3895043767254068e-05, 5.252303313159552e-09, 8.058994959902647e-07, 1.1126289151061545e-05, 3.392688135896424e-06, 1.6087272380426665e-05, 5.01520596626116e-08, 7.115581881700431e-06, 2.1641967484858976e-05, 2.601567417910629e-05, 2.1416317620411444e-07, 6.211506555111973e-07, 4.453369958073555e-07, 7.870219349264003e-07, 4.010422568904455e-06, 1.2134423423283353e-05, 2.672632951829073e-09, 3.370392530751676e-06, 5.245758132901174e-06, 4.400506882515319e-07, 1.726484888157902e-06, 2.1040033460731614e-05, 1.0055661178549182e-06, 7.804676582222273e-06, 2.1387624326658867e-06, 5.759073509517433e-09, 4.5416991723175617e-07, 3.0691486617440094e-06, 6.475561884719334e-10, 1.923138112330963e-06, 9.62880502165183e-06, 2.1183276086412653e-05, 3.7739662732369652e-06, 4.515957428734407e-06, 3.952955153474005e-06, 1.7105170768279944e-08, 2.0439784764950684e-06, 4.413267658204434e-06, 5.770015703818536e-06, 3.272093748489458e-06, 1.0816285390014281e-06, 6.232986678206778e-13, 1.9316412154472155e-05, 7.561685681286535e-06, 5.7682064290245e-06, 7.877525305652624e-07, 5.029512771718014e-07, 1.626493546482771e-07, 1.939546581764907e-05, 1.5060064284830621e-06, 5.190697656681101e-13, 1.7709267788599775e-09, 8.354384553743903e-08, 1.2505247576802974e-05, 4.3336974809439797e-07, 4.84168161309234e-07, 4.1920965989948397e-07, 2.149547446764528e-06, 1.0673816010204722e-06, 2.095071291436023e-06, 1.0267881476418201e-05, 1.547656417136814e-05, 2.172558047747051e-17, 2.82130732917942e-06, 9.04728466914536e-06, 3.865462926165889e-06, 1.902609662547497e-09, 9.328148464564785e-07, 2.212444419692382e-06, 4.656418548279735e-06, 4.103923445716871e-06, 7.887839271247411e-06, 4.4364072942351856e-07, 9.658352871848267e-07, 4.609243419233559e-09, 2.2698825975241527e-05, 1.778001468169363e-05, 2.1147968701813584e-05, 5.711715360073019e-07, 2.2676301916572184e-06, 1.4490422235665308e-08, 1.188193748463183e-06, 8.51115294009509e-06, 2.2281298582587567e-09, 2.335253715444338e-10, 8.162780332408381e-06, 3.726290565735796e-07, 3.3310561164562763e-07, 1.9399795987698113e-05, 3.951281660701921e-06, 7.568522197536914e-06, 4.320241568416231e-07, 3.0781690558563424e-06, 5.235890346576313e-06, 7.185997552403437e-08, 1.3920785623941873e-07, 1.1444489248795457e-05, 1.991332775191655e-05, 3.0247405108129916e-08, 5.551795586283686e-06, 4.856460729859534e-06, 7.87656515974144e-06, 2.842622390034089e-06, 1.516003282841451e-15, 1.1012599168119983e-05, 1.9446418588375703e-06, 2.9449977736739177e-08, 1.2991814166159085e-06, 1.0473012732450676e-05, 2.0647248358613362e-07, 1.2386662922142708e-05, 1.2554156362618399e-07, 1.1226952633803613e-06, 1.3691684570154535e-07, 1.1750191746865408e-05, 2.5113066802114528e-08, 2.9455850620302695e-10, 6.391974242158586e-07, 4.015514504652787e-06, 1.0919968525116205e-05, 9.195613943748385e-10, 1.0678365547039564e-06, 4.115041778823434e-07, 4.2795628371919e-11, 1.7048327103808827e-07, 2.569030273840649e-07, 3.1289655338649636e-06, 2.2376580366973563e-06, 5.227260662491734e-06, 1.1838010581249564e-06, 1.0194599450154733e-05, 2.5213266529282846e-06, 1.4690588796854085e-06, 2.44002601256135e-08, 2.503098274841387e-05, 4.363735831509536e-08, 1.6158725838843138e-05, 1.1365655644265766e-18, 1.539531625214356e-05, 1.178924547372078e-05, 4.251319184042174e-06, 5.5509991006142365e-06, 3.8371554198449844e-06, 7.572576994322498e-06, 8.108081491448868e-08, 3.885737570994344e-06, 1.299484431160172e-08, 2.058892825358962e-06, 2.81683465840186e-07, 3.6077459867642655e-06, 6.822483238860935e-08, 4.019813112035385e-07, 8.305171899999172e-07, 2.7141866220693995e-09, 2.9702676490614027e-06, 3.5366217443998015e-06, 1.1647927459797282e-09, 1.4863350954847267e-05, 1.9845477919713784e-05, 3.678238868911962e-07, 3.674173796187077e-06, 6.947636584112564e-08, 4.462897033885516e-07, 1.0453122924301575e-07, 1.682703503221108e-05, 4.490480267011967e-07, 2.3670065933216515e-08, 2.433889481751828e-06, 6.404916797050011e-07, 3.6196024639966354e-07, 6.551857027118225e-10, 9.22722440517897e-06, 1.766955005450657e-05, 1.6814532181918545e-08, 1.1943248030948038e-06, 1.8506611901014218e-05, 6.594839833054839e-11, 2.248961746683018e-05, 2.424375419954658e-10, 2.782523458884538e-07, 4.769947553166515e-13, 1.0034763540069443e-05, 2.0688427901801304e-06, 1.4859572905949959e-06, 4.027217195491912e-06, 3.4566377843903745e-06, 1.1835650082488548e-05, 9.428410400033502e-18, 3.6529436603512436e-06, 3.053136210431644e-07, 1.2545273279097772e-05, 1.9117370030920187e-08, 8.905078586253258e-06, 5.168160784789442e-06, 1.4050281411637095e-05, 1.0381637278932365e-07, 4.621727914579914e-06, 3.5624715260625776e-06, 2.4988360725146603e-06, 2.8084948760597365e-13, 2.1926814521756856e-05, 5.8163402461875244e-09, 2.5098714035822153e-06, 1.646811675303937e-07, 4.024871050639931e-06, 3.268756219249638e-06, 2.61308063361937e-05, 4.131390414138338e-10, 2.720060102729021e-07, 2.204222015146114e-06, 2.6258776266241566e-06, 9.331157987434068e-06, 1.1281928687312574e-05, 1.1759443200546975e-05, 3.9200717486163354e-06, 1.306835140865407e-07, 3.2234527297546493e-06, 2.1415084416799635e-06, 1.2844630177902726e-06, 1.1036870099411728e-09, 1.3840386893141591e-05, 3.0707355923837933e-08, 1.1458774468345315e-05, 8.870682520897e-06, 1.6903901203463913e-05, 5.641839603068059e-06, 6.27296522112883e-06, 4.2630527741693606e-07, 2.1149171497915008e-08, 1.6340731371486626e-06, 2.0127578500058736e-07, 4.6647292023927855e-06, 8.293404042622403e-06, 5.220480365052052e-06, 5.950791881761011e-08, 2.2924806912440516e-07, 2.8247862952549296e-08, 1.4706749428582691e-05, 2.8752599283968133e-09, 6.529960575725427e-06, 1.3359966243789914e-05, 1.0794607576119617e-06, 2.507645171581718e-07, 6.891068710748673e-14, 9.632853382834473e-08, 5.983127467141293e-07, 1.2050033183449576e-07, 5.685836717094872e-07, 1.5489866760813287e-05, 1.4229716623021954e-06, 2.301362177595708e-06, 1.5863695519359184e-06, 2.756557725939991e-07, 6.997133093194584e-09, 1.0706716461899794e-07, 4.069950754862875e-06, 2.477224148239446e-06, 4.595201797047698e-06, 1.5272051351532855e-06, 1.268975793144495e-08, 1.9789758951054407e-05, 1.0266494867115739e-05, 1.9213709200800863e-07, 1.7172882320200566e-10, 1.9078111550912177e-05, 3.1073441648895047e-07, 4.749649248868202e-08, 3.2418014219247122e-06, 5.898787576346154e-08, 1.9356049744202134e-05, 1.1657348993291809e-05, 1.711150929041987e-05, 2.4405200724384736e-05, 1.0408443795662294e-05, 1.0639983620667412e-05, 1.2064234515909239e-05, 1.1259321197223212e-05, 9.938772541361954e-06, 5.83747312250785e-06, 2.6348700395889004e-05, 2.463545968581748e-05, 1.2718549019204633e-05, 1.5786085493639262e-05, 2.0527087358274757e-05, 1.3163779500758194e-05, 1.2649341479288287e-05, 6.428736802014822e-06, 8.39118805687705e-06, 1.3810528262868097e-05, 7.1670581158062485e-06, 2.160091527003346e-05, 1.837068950306152e-05, 9.01438661426622e-06, 1.2991881190682456e-05, 1.996924251154517e-05, 1.2447170891034447e-05, 2.1635469335842934e-05, 1.407964536146951e-05, 1.1270221714702603e-05, 1.0622472328982549e-05, 8.171842916852789e-06, 1.6128761749863693e-05, 8.40793377658365e-06, 1.181522827186536e-05, 5.449645019608399e-06, 1.1029850832787675e-05, 2.5292783596386892e-05, 1.3189310739755882e-05, 2.012969224378096e-05, 1.2851493620202799e-05, 2.08700632949598e-05, 1.6926295487293857e-05, 1.3333234795502964e-05, 2.1780144788251502e-05, 1.262844914094918e-05, 1.236676423969033e-05, 9.375803810221772e-06, 1.8958135221163728e-05, 2.4482660158944173e-05, 2.4566653785009442e-05, 1.412252883176875e-05, 8.384975683649353e-06, 1.7933009245692532e-05, 1.9035309883421363e-05, 1.0308254037251174e-05, 1.5794129051850943e-05, 5.603329997955417e-06, 1.689142562660195e-05, 2.312757033676122e-05, 1.0877630179274494e-05, 2.2891804456935905e-05, 8.783380532919446e-06, 5.371055600645827e-06, 1.112654624875747e-05, 1.9933468260957516e-05, 2.447164033856547e-05, 1.3553696134579045e-05, 1.734558745973369e-05, 1.0212931525342788e-05, 1.2724771030231298e-05, 1.6047629823822992e-05, 2.515955624701183e-05, 2.1180042917751313e-05, 2.0453924076286023e-05, 1.5372885061169235e-05, 1.1358906216632946e-05, 1.5314099201303533e-05, 2.4515696344274528e-05, 6.737469559135206e-06, 2.1058153337926623e-05, 2.507182542816133e-05, 7.189843782352022e-06, 7.26272164844702e-06, 2.4145676998140423e-05, 1.4767330083387372e-05, 7.4020098532884085e-06, 8.755196715191352e-06, 1.9327286942337864e-05, 8.764366375224107e-06, 7.918982269121962e-06, 2.212685161083977e-05, 1.5274819944736043e-05, 1.5890589900685877e-05, 9.027929224755252e-06, 1.0236059071334124e-05, 2.4020222826712106e-05, 1.069672500238668e-05, 6.67916777326591e-06, 1.0094980129520065e-05, 5.7260285982835965e-06, 9.928850649686155e-06, 5.083390404009254e-06, 6.512156472074415e-06, 1.581603742784707e-05, 2.6429077046357372e-05, 8.01767782396484e-06, 8.342602722365062e-06, 1.1986998615811503e-05, 8.40564954699905e-06, 1.4117035409537341e-05, 7.89347056897226e-06, 2.1724123993733982e-05, 2.3931460611835608e-05, 8.93082432460848e-06, 1.0814547121365554e-05, 2.008962401060535e-05, 1.8518404874035314e-05, 9.766055155383867e-06, 1.8579266248083194e-05, 1.640278483322088e-05, 1.4064650092458648e-05, 1.9570566631931602e-05, 2.3614715228431054e-05, 1.1793242183763216e-05, 6.167387200650642e-06, 2.412643608034915e-05, 4.472171541031773e-06, 1.3565113609054601e-05, 1.0616344260058267e-05, 1.0850163578752417e-05, 1.3149565744534405e-05, 2.4461357279685575e-05, 1.742300209400028e-05, 1.1851367030688459e-05, 1.4465319039054686e-05, 1.2811499637485026e-05, 1.0542476786617975e-05, 1.3057452790068083e-05, 8.466154008936038e-06, 1.281761310886504e-05, 9.914873483809787e-06, 2.2375793197530622e-05, 2.1368550122801848e-05, 7.78624337024402e-06, 2.6547448798059783e-05, 7.808007667431679e-06, 1.6893912374892975e-05, 9.551959233118316e-06, 2.2364492422069423e-05, 9.738291211987984e-06, 1.7910444150531244e-05, 5.456405140383949e-06, 1.8243115434932126e-05, 1.3642025371300044e-05, 2.358889267555211e-05, 5.418010260154376e-06, 2.5508231824036534e-05, 1.2649038237776168e-05, 1.902352376871189e-05, 2.0022489112181674e-05, 1.6455961422756647e-05, 7.80524664765704e-06, 1.674301363043264e-05, 6.2364990546299796e-06, 1.6824826630447242e-05, 8.100003456220006e-06, 2.0286999474261487e-05, 1.653688494530356e-05, 1.5735137006851937e-05, 6.574353190863907e-06, 9.157547104692175e-06, 1.9853717775755283e-05, 2.0546286049646056e-05, 1.0503357298248907e-05, 1.7814310325270563e-05, 1.062564441543672e-05, 1.7580225413092906e-05, 1.1740054791438235e-05, 9.134623236245771e-06, 8.947356943816448e-06, 1.6462959281315443e-05, 2.4687466920841173e-05, 1.7710821779299328e-05, 2.5084763908045154e-05, 1.6022385560041732e-05, 1.5531207613864262e-05, 2.3226798688201737e-05, 9.115387619423997e-06, 3.4111993020308183e-06, 6.798049994731429e-06, 1.4292259059915538e-05, 8.828113308202508e-06, 1.721377971423435e-05, 1.2723265313347728e-05, 2.101093397620173e-05, 1.9317518094089675e-05, 1.2738429005712406e-05, 1.3469202509011707e-05, 1.4864644968182918e-05, 1.6369856236507242e-05, 1.1903439582851318e-05, 1.1397049851572277e-05, 1.7314174162084145e-05, 2.366525931110423e-05, 1.325092706138316e-05, 7.117621136640842e-06, 1.7381546067092885e-05, 8.889416032516958e-06, 1.842768884666059e-05, 5.2670914794254046e-06, 2.131947364396206e-05, 1.1067426558144693e-05, 1.811424925728865e-05, 1.1909966697782835e-05, 6.339541449354392e-06, 1.1498073857193828e-05, 1.997376720999346e-05, 1.6974769737107858e-05, 1.4424446689553247e-05, 1.0744917158314074e-05, 4.980166009438029e-06, 1.9744705207846904e-05, 4.4755708693425936e-06, 2.3237002643724437e-05, 2.3063833896659775e-05, 2.3938234171786464e-05, 1.667774243584657e-05, 7.230875357245326e-06, 1.7652478497202916e-05, 1.8606732045657017e-05, 1.7270285606522897e-05, 1.0485879061914156e-05, 1.1351491455185367e-05, 1.0606208723773287e-05, 1.017074593387189e-05, 7.838303910415078e-06, 2.403992734189062e-05, 1.73558290741081e-05, 1.2230272818587127e-05, 9.725013045336566e-06, 4.521169211833712e-06, 2.3870078039663802e-05, 9.748698970347532e-06, 2.5408067654597356e-05, 1.7852816566663226e-05, 2.1714496415107225e-05, 1.2117663998359598e-05, 2.5034324479925027e-05, 2.2992978974075765e-05, 1.9584204145373133e-05, 1.550719868441157e-05, 1.3602926812126126e-05, 1.5355242548803092e-05, 2.1019643343879102e-05, 1.5122607723667837e-05, 1.3453915535075383e-05, 1.0445807662613732e-05, 1.4760484759180608e-05, 1.5110669761945221e-05, 7.362912963045592e-06, 2.148071596116622e-05, 2.1625628797632554e-05, 1.0686473356481955e-05, 1.3233943101121871e-05, 1.5357469990193044e-05, 1.4015190608092763e-05, 1.3003452933565251e-05, 5.75428287737655e-06, 9.76676285016236e-06, 1.6833559797089397e-05, 1.673655672141278e-05, 2.3401250919400846e-05, 1.8682734101666904e-05, 1.5875752646943274e-05, 9.502329765046426e-06, 1.531106013906637e-05, 1.4136828844404072e-05, 2.2108177816813827e-05, 1.7065474080223578e-05, 7.4764424773210695e-06, 8.161878398548465e-06, 8.272598992138711e-06, 2.0997022584171474e-05, 6.415715230625106e-06, 1.601323493925704e-05, 1.4515917392455085e-05, 1.5621631105242344e-05, 1.8000922295966288e-05, 2.1019970213686158e-05, 8.701535411396623e-06, 2.3433053127831684e-05, 1.8657422442174948e-05, 1.5842141853057822e-05, 1.3232932514448272e-05, 1.1527166811964044e-05, 3.970441264921692e-06, 2.0309962874225683e-05, 1.089667886681905e-05, 1.0659419303702803e-05, 2.0748404522402058e-05, 1.1070753021942989e-05, 1.731573734330596e-05, 2.07218235105775e-05, 1.4769060152397378e-05, 1.3895137914088783e-05, 1.2744387861253686e-05, 1.3973171507368312e-05, 1.6586070249199656e-05, 2.582917603684778e-05, 1.2547304032708882e-05, 1.130185250751463e-05, 2.490967353627103e-05, 6.795095858464226e-06, 1.612893760399151e-05, 1.0822743514766994e-05, 2.028354356910665e-05, 7.314846880912483e-06, 7.598071746156522e-06, 1.1192648843929845e-05, 2.2847078117762e-05, 8.437298261376067e-06, 1.9965486208604935e-05, 1.6868756776632183e-05, 1.4431003094664275e-05, 2.0435432691645554e-05, 8.611604545303699e-06, 1.593165878595645e-05, 1.7622659777821266e-05, 1.5476834055510108e-05, 2.4542393349508327e-05, 2.61894976005506e-05, 2.46054850958651e-05, 1.6720349837128056e-05, 2.5991888742788587e-05, 1.0549597467412835e-05, 1.2500819395054543e-05, 1.8956317731656445e-05, 1.540923011288027e-05, 1.4866742182797658e-05, 5.981021891438787e-06, 2.6403333123288297e-05, 1.9693633929552212e-05, 6.946926408040393e-06, 1.0726922931672493e-05, 2.2307892185329574e-05, 1.4179897153888722e-05, 9.377649664972779e-06, 1.712305733491364e-05, 1.0849019220524961e-05, 2.5527181034644416e-05, 1.1726634269969812e-05, 6.718488505743209e-06, 9.963710080560428e-06, 1.5422013452100076e-05, 1.1451586034224048e-05, 2.1094528526787428e-05, 1.0205219550197693e-05, 2.5495202777607672e-05, 1.5736779312461968e-05, 1.726982254825165e-05, 2.1929010463440677e-05, 1.6862731527525796e-05, 7.4004894673953905e-06, 5.139886921528927e-06, 1.3622039549748025e-05, 1.1290063530602352e-05, 1.2860070801404196e-05, 1.6370476167219225e-05, 9.579086173628088e-06, 1.9396176928040017e-05, 1.6716040887008037e-05, 2.5676703277806243e-05, 8.162353641038454e-06, 2.6062811449756434e-05, 2.1030087555507817e-05, 2.18418017853304e-05, 1.7580255401859805e-05, 2.1063887078160522e-05, 6.878726761387249e-06, 9.979277088693567e-06, 1.0665046304853649e-05, 9.069316452243323e-06, 2.3449541497923617e-05, 1.0014984024563248e-05, 1.8925698329944797e-05, 1.7010009957254705e-05, 1.0632318921319132e-05, 1.8684433757573333e-05, 1.3237701430434337e-05, 2.3838688372930504e-05, 1.0906962157183242e-05, 9.476599506496047e-06, 2.2449384670843333e-05, 5.88979306621037e-06, 1.1176417045236969e-05, 1.7398513260462115e-05, 1.8194879107525205e-05, 1.717449546422913e-05, 1.2611832355895244e-05, 2.66010695812597e-05], \"colorbar\": {\"title\": {\"text\": \"ColorBar\"}}, \"colorscale\": [[0.0, \"#440154\"], [0.1111111111111111, \"#482878\"], [0.2222222222222222, \"#3e4989\"], [0.3333333333333333, \"#31688e\"], [0.4444444444444444, \"#26828e\"], [0.5555555555555556, \"#1f9e89\"], [0.6666666666666666, \"#35b779\"], [0.7777777777777778, \"#6ece58\"], [0.8888888888888888, \"#b5de2b\"], [1.0, \"#fde725\"]], \"line\": {\"width\": 0}, \"opacity\": 1, \"size\": 5, \"symbol\": \"circle\"}, \"mode\": \"markers\", \"type\": \"scatter\", \"x\": [-3.5223502210430486, -3.5223502210430486, -3.5223502210430486, -3.5223502210430486, -3.5223502210430486, -3.5223502210430486, -3.5223502210430486, -3.5223502210430486, -3.5223502210430486, -3.5223502210430486, -3.5223502210430486, -3.5223502210430486, -3.5223502210430486, -3.5223502210430486, -3.5223502210430486, -3.5223502210430486, -3.5223502210430486, -3.5223502210430486, -3.5223502210430486, -3.5223502210430486, -3.1041604881282794, -3.1041604881282794, -3.1041604881282794, -3.1041604881282794, -3.1041604881282794, -3.1041604881282794, -3.1041604881282794, -3.1041604881282794, -3.1041604881282794, -3.1041604881282794, -3.1041604881282794, -3.1041604881282794, -3.1041604881282794, -3.1041604881282794, -3.1041604881282794, -3.1041604881282794, -3.1041604881282794, -3.1041604881282794, -3.1041604881282794, -3.1041604881282794, -2.6859707552135097, -2.6859707552135097, -2.6859707552135097, -2.6859707552135097, -2.6859707552135097, -2.6859707552135097, -2.6859707552135097, -2.6859707552135097, -2.6859707552135097, -2.6859707552135097, -2.6859707552135097, -2.6859707552135097, -2.6859707552135097, -2.6859707552135097, -2.6859707552135097, -2.6859707552135097, -2.6859707552135097, -2.6859707552135097, -2.6859707552135097, -2.6859707552135097, -2.2677810222987405, -2.2677810222987405, -2.2677810222987405, -2.2677810222987405, -2.2677810222987405, -2.2677810222987405, -2.2677810222987405, -2.2677810222987405, -2.2677810222987405, -2.2677810222987405, -2.2677810222987405, -2.2677810222987405, -2.2677810222987405, -2.2677810222987405, -2.2677810222987405, -2.2677810222987405, -2.2677810222987405, -2.2677810222987405, -2.2677810222987405, -2.2677810222987405, -1.8495912893839712, -1.8495912893839712, -1.8495912893839712, -1.8495912893839712, -1.8495912893839712, -1.8495912893839712, -1.8495912893839712, -1.8495912893839712, -1.8495912893839712, -1.8495912893839712, -1.8495912893839712, -1.8495912893839712, -1.8495912893839712, -1.8495912893839712, -1.8495912893839712, -1.8495912893839712, -1.8495912893839712, -1.8495912893839712, -1.8495912893839712, -1.8495912893839712, -1.431401556469202, -1.431401556469202, -1.431401556469202, -1.431401556469202, -1.431401556469202, -1.431401556469202, -1.431401556469202, -1.431401556469202, -1.431401556469202, -1.431401556469202, -1.431401556469202, -1.431401556469202, -1.431401556469202, -1.431401556469202, -1.431401556469202, -1.431401556469202, -1.431401556469202, -1.431401556469202, -1.431401556469202, -1.431401556469202, -1.0132118235544323, -1.0132118235544323, -1.0132118235544323, -1.0132118235544323, -1.0132118235544323, -1.0132118235544323, -1.0132118235544323, -1.0132118235544323, -1.0132118235544323, -1.0132118235544323, -1.0132118235544323, -1.0132118235544323, -1.0132118235544323, -1.0132118235544323, -1.0132118235544323, -1.0132118235544323, -1.0132118235544323, -1.0132118235544323, -1.0132118235544323, -1.0132118235544323, -0.595022090639663, -0.595022090639663, -0.595022090639663, -0.595022090639663, -0.595022090639663, -0.595022090639663, -0.595022090639663, -0.595022090639663, -0.595022090639663, -0.595022090639663, -0.595022090639663, -0.595022090639663, -0.595022090639663, -0.595022090639663, -0.595022090639663, -0.595022090639663, -0.595022090639663, -0.595022090639663, -0.595022090639663, -0.595022090639663, -0.1768323577248938, -0.1768323577248938, -0.1768323577248938, -0.1768323577248938, -0.1768323577248938, -0.1768323577248938, -0.1768323577248938, -0.1768323577248938, -0.1768323577248938, -0.1768323577248938, -0.1768323577248938, -0.1768323577248938, -0.1768323577248938, -0.1768323577248938, -0.1768323577248938, -0.1768323577248938, -0.1768323577248938, -0.1768323577248938, -0.1768323577248938, -0.1768323577248938, 0.24135737518987543, 0.24135737518987543, 0.24135737518987543, 0.24135737518987543, 0.24135737518987543, 0.24135737518987543, 0.24135737518987543, 0.24135737518987543, 0.24135737518987543, 0.24135737518987543, 0.24135737518987543, 0.24135737518987543, 0.24135737518987543, 0.24135737518987543, 0.24135737518987543, 0.24135737518987543, 0.24135737518987543, 0.24135737518987543, 0.24135737518987543, 0.24135737518987543, 0.6595471081046447, 0.6595471081046447, 0.6595471081046447, 0.6595471081046447, 0.6595471081046447, 0.6595471081046447, 0.6595471081046447, 0.6595471081046447, 0.6595471081046447, 0.6595471081046447, 0.6595471081046447, 0.6595471081046447, 0.6595471081046447, 0.6595471081046447, 0.6595471081046447, 0.6595471081046447, 0.6595471081046447, 0.6595471081046447, 0.6595471081046447, 0.6595471081046447, 1.0777368410194144, 1.0777368410194144, 1.0777368410194144, 1.0777368410194144, 1.0777368410194144, 1.0777368410194144, 1.0777368410194144, 1.0777368410194144, 1.0777368410194144, 1.0777368410194144, 1.0777368410194144, 1.0777368410194144, 1.0777368410194144, 1.0777368410194144, 1.0777368410194144, 1.0777368410194144, 1.0777368410194144, 1.0777368410194144, 1.0777368410194144, 1.0777368410194144, 1.495926573934184, 1.495926573934184, 1.495926573934184, 1.495926573934184, 1.495926573934184, 1.495926573934184, 1.495926573934184, 1.495926573934184, 1.495926573934184, 1.495926573934184, 1.495926573934184, 1.495926573934184, 1.495926573934184, 1.495926573934184, 1.495926573934184, 1.495926573934184, 1.495926573934184, 1.495926573934184, 1.495926573934184, 1.495926573934184, 1.9141163068489528, 1.9141163068489528, 1.9141163068489528, 1.9141163068489528, 1.9141163068489528, 1.9141163068489528, 1.9141163068489528, 1.9141163068489528, 1.9141163068489528, 1.9141163068489528, 1.9141163068489528, 1.9141163068489528, 1.9141163068489528, 1.9141163068489528, 1.9141163068489528, 1.9141163068489528, 1.9141163068489528, 1.9141163068489528, 1.9141163068489528, 1.9141163068489528, 2.3323060397637225, 2.3323060397637225, 2.3323060397637225, 2.3323060397637225, 2.3323060397637225, 2.3323060397637225, 2.3323060397637225, 2.3323060397637225, 2.3323060397637225, 2.3323060397637225, 2.3323060397637225, 2.3323060397637225, 2.3323060397637225, 2.3323060397637225, 2.3323060397637225, 2.3323060397637225, 2.3323060397637225, 2.3323060397637225, 2.3323060397637225, 2.3323060397637225, 2.7504957726784913, 2.7504957726784913, 2.7504957726784913, 2.7504957726784913, 2.7504957726784913, 2.7504957726784913, 2.7504957726784913, 2.7504957726784913, 2.7504957726784913, 2.7504957726784913, 2.7504957726784913, 2.7504957726784913, 2.7504957726784913, 2.7504957726784913, 2.7504957726784913, 2.7504957726784913, 2.7504957726784913, 2.7504957726784913, 2.7504957726784913, 2.7504957726784913, 3.168685505593261, 3.168685505593261, 3.168685505593261, 3.168685505593261, 3.168685505593261, 3.168685505593261, 3.168685505593261, 3.168685505593261, 3.168685505593261, 3.168685505593261, 3.168685505593261, 3.168685505593261, 3.168685505593261, 3.168685505593261, 3.168685505593261, 3.168685505593261, 3.168685505593261, 3.168685505593261, 3.168685505593261, 3.168685505593261, 3.5868752385080307, 3.5868752385080307, 3.5868752385080307, 3.5868752385080307, 3.5868752385080307, 3.5868752385080307, 3.5868752385080307, 3.5868752385080307, 3.5868752385080307, 3.5868752385080307, 3.5868752385080307, 3.5868752385080307, 3.5868752385080307, 3.5868752385080307, 3.5868752385080307, 3.5868752385080307, 3.5868752385080307, 3.5868752385080307, 3.5868752385080307, 3.5868752385080307, 4.005064971422799, 4.005064971422799, 4.005064971422799, 4.005064971422799, 4.005064971422799, 4.005064971422799, 4.005064971422799, 4.005064971422799, 4.005064971422799, 4.005064971422799, 4.005064971422799, 4.005064971422799, 4.005064971422799, 4.005064971422799, 4.005064971422799, 4.005064971422799, 4.005064971422799, 4.005064971422799, 4.005064971422799, 4.005064971422799, 4.423254704337569, 4.423254704337569, 4.423254704337569, 4.423254704337569, 4.423254704337569, 4.423254704337569, 4.423254704337569, 4.423254704337569, 4.423254704337569, 4.423254704337569, 4.423254704337569, 4.423254704337569, 4.423254704337569, 4.423254704337569, 4.423254704337569, 4.423254704337569, 4.423254704337569, 4.423254704337569, 4.423254704337569, 4.423254704337569, -1.402093009935957, -1.51764187533877, -2.1582279098687254, -2.0978468636088605, -1.8767927626914698, -1.4711518823494123, -2.3137512594138228, -0.8361429974036078, -1.3415405818637525, -1.9512898318908805, -1.8859480602498906, -1.3676390940825456, -1.350826850858244, -2.7284338621203412, -3.8185571228764004, -3.1271721748334613, -1.996759712794419, -1.4568815537557775, -1.7158059306591495, -1.248446832300827, -0.22186355336632607, -1.506100730934101, -0.9694395396223235, -1.8521446517216165, -3.874789390526862, -1.7407896477545137, -2.23545119953203, 0.006039715378117205, -1.859706581296095, -1.972566803812007, -2.440474786313696, -1.250510756460742, -1.3067214173772244, -1.8176659849183208, -2.271019390861335, -1.5648587805428473, -2.5267155356424436, -2.886287938174992, -0.5701045719729634, -2.0670767159664383, -1.2046993166991196, -1.483677125219074, -1.6593724700997994, -2.8742119940131383, -0.8780225758478764, -0.4854274302728693, -2.653925406409075, -2.1914568735909525, -3.408525530423441, -1.74239860049952, -1.96895480044103, -2.7826366035568397, -0.7944074108289713, -1.5683291357550038, -2.0285910948618713, -1.7055420915717643, -0.8318512041496383, -3.618844070582949, -1.9335130120971429, -1.6594964556783078, -3.053189007186879, -2.987095954158602, -0.8709018257119013, -3.3123536337566715, -1.7378409530761911, -1.7513998813841996, -1.2681428324007884, -2.741397907766673, -0.4482812661023382, -2.3909280658519227, -1.0998343615104187, -2.5298488364801837, -0.29629328465077637, -1.2128012656624652, -1.733828821918091, -2.557417935233384, -2.6015916925545644, -2.969257236675035, -2.5921083727342245, -3.3055162889610363, -3.743989097294943, -3.150215986533338, -2.8637840497061293, -0.30979209619709835, -0.998720251477089, -1.5398141067339295, -1.352018223245113, -3.2721421678941387, -1.293198714330538, -0.03708337210606372, -2.297261038468449, -2.095731482521305, -1.9762642087033004, 0.307719682007795, -2.692561540870133, -2.9244394499571578, -1.602720819900779, -1.9788039742400314, -1.2373248042647744, -3.739054372854847, -2.191983229472518, -1.690319311330314, -2.2907061014490537, -1.020772303736646, -1.9461153032747605, -1.666224920888741, -1.5749869039757514, -2.934012408727064, -2.1116098436588886, 0.009196506019048312, -3.37802469586527, -2.4578035593542014, -0.6413342730959619, -3.0932074617864065, -1.18197864067186, -1.9804640203284538, -0.8755127007023161, -2.0056991713901766, -1.2613162138531868, -0.735941611894048, -0.6693875041766181, -1.743853911336905, 0.012889674395303863, -1.8687424502397114, -3.3745331401667906, -2.300841812425863, -1.3886678817985327, -2.1419569636576634, -1.9016506994150746, -2.038954846662599, -1.4258363801491098, -1.5568924088324554, -2.662101286035708, -1.8872961277244178, -2.369237335939193, -1.5159341510963338, -3.108545997916348, -2.166598119980383, -1.7889429274638775, -1.9895283262917671, -1.2663109826461645, -1.9173334218737155, -1.9911998714767198, -0.786306251230779, -1.3163929216944141, -2.031372069716963, -3.686030301536795, -1.6223493682549277, -2.338277216846058, -0.6662900814411478, -2.6116979544968983, -2.1370682277434554, -2.295655570147314, -1.516485404290318, -2.5415869475385824, -0.18372508378270036, -0.576880419446071, -1.9942430200531707, -2.091569072171984, -2.5677131145062777, -1.4676085356145283, -2.292913628107065, -1.1307144042238746, -1.305924977400022, -1.1871544806380054, -0.4840870059612853, -2.7442690514111376, -1.6005648830613035, -2.2169975200749614, -2.022285715206136, -2.2370280510214755, -2.500911324404496, -2.06320574574862, -2.540448426606636, -1.4747957396040143, -2.5068929034408707, -2.869418533252823, -0.7213468390993847, -1.7204776441358394, -2.7010791507398952, -3.978732057450035, -1.7833972606849415, -3.10461071274505, -2.126192740655246, -1.618874692717625, -0.5135472637443724, -2.2310584523592145, -0.9441554403561425, -1.8548344378523893, -0.9024062792838081, -1.8726624482412395, -2.054552059654865, -3.2368584177556974, -0.9386265987467617, -1.654739734778909, -1.7218982224299564, -3.1997978501096123, -2.7764892838940423, -2.534505930678351, -1.2455640947873543, -1.4517792013614743, -1.8860906593410482, -2.7169263637239123, -1.411333248818194, -3.2040138469579293, -2.026894330543418, -1.6809413918793288, -1.7309554760136092, -2.8828092412368527, -1.6148803798303926, -0.07083023601727834, -2.593747768927193, -1.7587610869592611, -0.6570342323156306, -2.3221733841840004, -1.498705303716292, -3.027376478674812, -0.7175882979026473, -1.9252955811512928, -1.00653629792487, -2.6080854792158967, -0.5148073972647935, -1.9786856344786141, -1.022795354802359, -1.8352489740359275, -0.5693717101979877, -1.7225015101499495, -1.8013659908710238, -0.13061743730258912, -1.4969984381176098, -1.074755755521194, -2.589657252378327, -2.4424387981150293, -2.921439050108652, -2.305570580354622, -2.902538662994063, -1.3071150929100734, -1.4548853760276597, -1.9601715411062952, -1.5083459803275057, -1.8902989992833406, -3.1748134046717604, -2.4284337672262737, -3.240026017271017, -1.3832917550607322, -2.1235080537421, -0.9393556191983352, -2.3048500707827433, -2.0790590982950774, -1.528337010076235, -3.356724908078675, -1.3566790242460383, -0.7787418995169962, -1.1292832262266763, -1.443900576012304, -3.235906563786084, -1.856780443509177, -2.3899112499238893, -1.02571572319051, -2.0549014299880284, -1.3834642696563382, -2.4764230182478757, -2.6662319346979606, -0.9799449004072008, -1.9785861410899566, -1.127962280824379, -2.1132451017238094, -1.2222852446698371, -2.4238242114103823, -1.362122903387052, -1.0785881353510764, -2.679169990048085, -2.49222373997142, -1.261098616646405, -3.327528202190163, -0.9402826080573619, 0.14945089135699818, -0.9996263766749672, -1.2847284325077974, -1.0872443227349815, -3.151950049805322, -0.3157015307736274, -1.5870695093472869, -2.234855629366525, -2.411283374493265, -2.6531041745384663, 0.26057357548083926, -1.810957958678266, -2.3411711833381634, -0.8274047954349638, -2.092870548187333, -3.1034163944971733, -0.41307876914161523, -3.1849492546016664, -2.4020836137279127, -0.5943225803252417, -3.628819091839846, -0.7761376330180824, -1.1444053419930862, -0.931451956211778, -0.39354436997652553, -1.9587018032795336, -1.6031266609158195, -3.477167531833114, -1.885294847394303, -2.0402068883693474, -3.523651013460017, -1.8313088147620293, -1.4022891669625044, -2.8642757559876713, -1.1963034825616947, -1.6586001090690514, -2.4870906147355227, -2.887201908336191, -2.0808292189556763, -2.7788225877053736, -1.6136111242592217, -1.539261910911209, -1.0613742404304498, -1.253633323518189, -1.940601227274371, -3.2971208326896564, -1.7820738568038248, -1.926601260227221, -1.71079267546404, -0.3359545847052956, -1.667189700165447, -1.2400024173826325, -2.587777464978178, -2.259891135508826, -1.8224397759643176, -1.8557777279490908, -2.540465836306468, -0.1322903836945939, -1.6934756236242852, -1.5240133622271812, -2.0358931211336273, -2.5010201659179048, -2.454543770092079, -2.5296219767499393, -1.3742581808050935, -1.983305518426309, -2.3652355557563256, -2.499481946640089, -1.141183286023244, -3.4262039586773327, -1.4909836643371674, -2.540182968739954, -1.7024920967736743, -0.2462117510430492, -1.4632166194200025, -3.331204875762351, -1.7453821630468886, -2.3594952699035945, -1.7049438889254527, -1.2927442279567098, -1.6126555476060418, -2.955252428996454, -0.7451183972436544, -1.2694074262425863, -1.5470955873232897, -1.4993670610701546, -1.9830749815046107, -1.363250930315544, -0.37766130066250625, -1.589889351158341, -0.35469966778349415, -1.4573175988681741, -0.0886693035750209, -1.1504651204753336, -1.41005797082519, -2.7321578120161725, -1.5320402486747726, 0.6139438849307166, -3.1375358325220706, -2.8799826835892453, -0.877854495370858, -0.45152866955757504, -1.7861354697620706, -1.3878676306114317, -0.8298229772430269, -2.5149191771554453, -0.6347799310643598, -1.7931316491065727, -0.6216120224353165, -1.5680992037189703, -1.2720573505789092, -2.3009535167774584, -1.6902063857478473, -2.5224317615213874, -2.2489934031812044, -2.416668391224274, -3.3248462134788292, 0.373308975309651, -2.2140353542552687, -0.3704456089420076, -2.9802819672057224, -1.249379754907377, -3.0513363779290485, -2.094254835230736, -2.216020528963979, -1.6203844367361897, -2.1240332641030006, -2.3552496527686535, -1.8781058062259728, -1.3700774450888848, -1.7476240006601618, -1.9476412754777495, -2.566056159453556, -2.083556907140974, -1.913400265964875, -1.7049212762448314, -1.7904899426833973, -1.7532955401168593, -2.1992116247790467, -1.3950113876745986, -1.2036207571355815, -2.588265857025198, -1.7677055788071512, -2.406568762896913, -2.1393616231497474, -1.9210730646557768, -1.7099611901508185, -1.7949886769516588, -2.2664887020164306, -1.4240353637174636, -2.3007734189703073, -1.6658554193354236, -1.7245257076768747, -1.8972714001469433, -2.073513047559949, -1.9044026960602773, -1.777455549063974, -1.88391034308764, -1.258503578798199, -2.1399515759676637, -2.1977722868888656, -2.4043862216628757, -1.7811491599155107, -2.468377802480809, -1.9243321665314979, -1.981328019003917, -2.447703469644171, -1.7784590945044276, -1.700219843183683, -1.6216566015432357, -2.0233876661628187, -1.8345545455588805, -2.01722029526106, -2.187777977239549, -1.9141851437451964, -1.8414538735171462, -2.134154353261322, -1.8434225276592013, -1.8982503811559166, -1.5376326771591096, -1.1411210271733887, -2.172015460493234, -2.043688126021304, -2.020231547711516, -1.8073138269919875, -2.1273356672942794, -1.1489355492136761, -2.5162751823435188, -2.184658407832495, -2.1895792471054327, -2.416250466855915, -1.5759504530420025, -1.3501668876659911, -1.5058170161200795, -2.3150546584073752, -2.1630224478994875, -2.154255951391044, -1.9348414650212593, -1.8918283260242525, -1.341914052972148, -1.4926361066486766, -2.085280293766604, -1.9521981222856342, -2.152569972399387, -2.084350787226496, -2.132933858923156, -2.008149487346332, -2.1776354104152866, -1.7200289699429872, -1.89327948277086, -1.6229308621950653, -1.68215907540437, -1.2719505813005427, -1.2147223527779145, -1.7948422506216128, -1.9438987581193037, -1.7914917784274655, -1.2551065602077767, -1.9723000685546108, -2.2271371183495456, -1.3338898595801034, -1.2000275873198545, -2.544329781507022, -2.0875280803663196, -2.493373171663664, -1.9233974729959624, -2.212164568872783, -2.3341913921197097, -2.077587595121238, -1.3465978313604714, -1.4121975091763095, -2.10730534640507, -1.2300643907396174, -2.128081639120991, -1.960598542250539, -1.7522976508352206, -2.243981182774637, -2.0524743719100536, -2.3990079250368126, -1.7466669286983818, -1.6773885572199014, -1.4145309117193539, -1.7545927075285164, -2.262913304841678, -1.887718262877056, -1.9041361978130902, -2.1273425895356026, -1.4496403337572588, -2.1778225513678655, -2.1525721052327698, -1.0819339100194736, -1.4907551695561452, -1.3552014028496329, -1.8415051230907984, -2.1121314397314617, -1.9959793209446668, -1.9287364301755852, -1.8111563000930757, -1.9942867290939765, -1.4003803083110151, -2.1422317195311806, -1.4082207243020137, -1.332647155752182, -2.082555226196656, -2.0337233163575408, -2.2227846419878365, -2.0828897234765087, -1.937668313824301, -2.09656348382775, -2.078763472255065, -2.2672012480147385, -1.272361228096539, -1.7846039217710872, -2.1085164593126273, -2.3760651413970986, -2.5843931150416153, -1.6557218291396159, -2.1302714530972557, -1.999698073388772, -1.297225857922461, -1.9485777023806166, -1.919245635527731, -2.1746155478016536, -1.948901957958898, -2.409329087044957, -1.9748050523086418, -1.5429553682590322, -2.41807086488001, -2.332528515882219, -1.6394976115666513, -1.888458987256454, -2.0035498606313427, -2.197414551826632, -1.1603869647229832, -1.8000324940859298, -1.703756920925459, -2.249768007673776, -1.312419727988502, -1.8311234994739827, -1.3091655179238153, -2.1517673259645025, -1.3516521052443928, -2.016549575428031, -1.9543132124444031, -1.5518965604851933, -2.183683882942558, -1.6344369750979317, -2.1136233622120275, -1.5312587520346044, -1.9295708780284326, -1.8777023828017647, -1.2859601746872211, -2.124941149996285, -1.2427054393451031, -1.725094474090713, -1.9034454977365456, -2.289656095308028, -1.8548950667754973, -1.8760016018936283, -1.7054024823304474, -2.0552507758814493, -2.003449640463285, -1.7104796254730228, -1.93367859756202, -1.3526418919843537, -2.493072639605652, -2.1530853950203546, -1.9243454780361318, -1.4452075401937443, -1.8406772962760918, -2.3911072526177, -1.862350136366991, -2.008125938194819, -2.103476450312728, -1.9893574318755927, -1.326546272275366, -1.8764667307226222, -1.716624092680209, -1.2687401382248222, -1.6720684380025035, -1.9409475614000806, -1.8366776657154311, -1.48229869500065, -2.498146089742663, -2.659293509487876, -2.259758256294035, -1.9811032123098962, -1.8243575614736032, -2.0091763628059573, -2.243860438447631, -2.3994239566093354, -1.1679806817361913, -1.6932022396640989, -2.053333651962554, -1.6629112922333407, -1.325727708307663, -1.84113777605731, -1.998410008385719, -1.9536774705977458, -2.083370501766572, -2.100672255800317, -1.947908697640321, -1.364279842137364, -1.3150042635411758, -2.535011479166969, -2.12641467629535, -1.838335192687911, -2.044386460039125, -1.5934992826969885, -1.7752918444391026, -1.708149358075191, -2.1031494667889525, -2.2694773864578814, -1.6666684417551596, -2.3549796374887704, -1.8548675898293763, -1.8099957959132453, -1.77085112533215, -1.54350385183779, -1.4167705107055257, -1.9616101815456763, -1.4914165958834125, -2.335180632718992, -1.844696235597552, -1.9649940248449944, -2.0251435701290688, -1.3375905948520963, -1.4034008398053393, -1.920456497384153, -1.6500706481940108, -1.394911792804874, -1.2577599013715886, -1.9201079731358175, -1.5833928179022771, -2.3108030205088492, -2.0383231358986222, -2.0762858891100473, -2.3822837193084063, -2.080811230788823, -1.8552264551308908, -1.6371570337355004, -1.8197211566486822, -2.3944730688661666, -2.3743101069893897, -2.064229504873697, -1.3236360099904645, -2.144396223013714, -1.25126675387826, -2.0600887008279227, -2.3843510484115087, -2.042819867203093, -1.6732103750040126, -1.8293268146040154, -1.2412555314339913, -2.2579118355532284, -2.017049151044454, -2.2451413602430343, -2.474243035798616, -2.0358562655386465, -0.9264360671324414, -1.7535346277497172, -1.6979406265741401, -2.5266069108819185, -2.316317263707533, -1.3333143236344493, -2.04612065912204, -1.8565226032479314, -1.4650498741788722, -2.133337473051978, -1.8232019949474678, -2.101143400011553, -1.5697610109886648, -2.0343811319448872, -1.912473842856136, -1.8935551366698948, -2.1853382381704467, -1.26692299218026, -1.6051276730305732, -1.9409166271717053, -2.2442228282356633, -1.8254398400556617, -1.8980707173343223, -1.7550200702845766, -2.004633222217998, -1.9734820419524841, -2.055811852917026, -1.5599084747491696, -1.4476597763554109, -1.7901903042051506, -1.5831928585764639, -2.3883553656133403, -2.3637822312902665, -1.4898717054292723, -2.061626879862533, -2.006613080669989, -1.9073628018402264, -1.7116722777798419, -2.142115078368126, -1.7632370026485846, -1.7293254661939554, -1.8552470048761405, -2.339587723308435, -1.5045228931735741, -2.0913525250541287, -2.114108434770529, -2.2337789641590997, -1.9892775824503224, -1.3303203307296918, -1.8480484801022496, -1.454851420229998, -1.6507396001563976, -1.5704452172233616, -1.3538553508045579, -2.1791920536095506, -1.3684894988648157, -2.0804093197365483, -2.0336984987643727, -2.027333800641543, -1.7724202211564208, -2.3134241025911737, -1.2947375075491632, -1.9873996722996485, -1.49945868430266, -2.38394641693319, -1.9515132347592221, -1.5546033952673548, -2.332282351188603, -1.7887678177836634, -1.577762211139955, -1.83412102508225, -1.3876650292350468, -1.6419787297082418, -1.2723049765199603, -2.345864688569615, -2.3978124929682094, -2.082455980527919, -1.6787391810449537, -2.014524784349104, -2.3160058740776783, -1.7726530564556524, -1.7953530669162052, -2.220278559298519, -1.8733923492711506, -1.374752581864804, -1.7086837412520293, -2.0192311635124947, -2.256949448638193, -1.3719934687420121, -2.286871495098845, -1.5683575641414398, -2.417033811329223, -1.6567820150996144, -2.4756143228508924, -1.8551215112182593, -1.8851221227300858, -1.9861417306083022, -2.11318278018687, -1.1857563151130717, -1.8568496041854157, -2.204052815919145, -2.2796486557866746, -1.9332732859088533, -1.4146548524502425, -2.061006703269126], \"xaxis\": \"x2\", \"y\": [-3.3333311817890805, -2.921063988484206, -2.508796795179331, -2.0965296018744564, -1.6842624085695819, -1.2719952152647074, -0.8597280219598327, -0.44746082865495795, -0.03519363535008324, 0.37707355795479147, 0.7893407512596657, 1.201607944564541, 1.6138751378694152, 2.0261423311742903, 2.4384095244791646, 2.8506767177840397, 3.262943911088914, 3.6752111043937883, 4.087478297698663, 4.499745491003538, -3.3333311817890805, -2.921063988484206, -2.508796795179331, -2.0965296018744564, -1.6842624085695819, -1.2719952152647074, -0.8597280219598327, -0.44746082865495795, -0.03519363535008324, 0.37707355795479147, 0.7893407512596657, 1.201607944564541, 1.6138751378694152, 2.0261423311742903, 2.4384095244791646, 2.8506767177840397, 3.262943911088914, 3.6752111043937883, 4.087478297698663, 4.499745491003538, -3.3333311817890805, -2.921063988484206, -2.508796795179331, -2.0965296018744564, -1.6842624085695819, -1.2719952152647074, -0.8597280219598327, -0.44746082865495795, -0.03519363535008324, 0.37707355795479147, 0.7893407512596657, 1.201607944564541, 1.6138751378694152, 2.0261423311742903, 2.4384095244791646, 2.8506767177840397, 3.262943911088914, 3.6752111043937883, 4.087478297698663, 4.499745491003538, -3.3333311817890805, -2.921063988484206, -2.508796795179331, -2.0965296018744564, -1.6842624085695819, -1.2719952152647074, -0.8597280219598327, -0.44746082865495795, -0.03519363535008324, 0.37707355795479147, 0.7893407512596657, 1.201607944564541, 1.6138751378694152, 2.0261423311742903, 2.4384095244791646, 2.8506767177840397, 3.262943911088914, 3.6752111043937883, 4.087478297698663, 4.499745491003538, -3.3333311817890805, -2.921063988484206, -2.508796795179331, -2.0965296018744564, -1.6842624085695819, -1.2719952152647074, -0.8597280219598327, -0.44746082865495795, -0.03519363535008324, 0.37707355795479147, 0.7893407512596657, 1.201607944564541, 1.6138751378694152, 2.0261423311742903, 2.4384095244791646, 2.8506767177840397, 3.262943911088914, 3.6752111043937883, 4.087478297698663, 4.499745491003538, -3.3333311817890805, -2.921063988484206, -2.508796795179331, -2.0965296018744564, -1.6842624085695819, -1.2719952152647074, -0.8597280219598327, -0.44746082865495795, -0.03519363535008324, 0.37707355795479147, 0.7893407512596657, 1.201607944564541, 1.6138751378694152, 2.0261423311742903, 2.4384095244791646, 2.8506767177840397, 3.262943911088914, 3.6752111043937883, 4.087478297698663, 4.499745491003538, -3.3333311817890805, -2.921063988484206, -2.508796795179331, -2.0965296018744564, -1.6842624085695819, -1.2719952152647074, -0.8597280219598327, -0.44746082865495795, -0.03519363535008324, 0.37707355795479147, 0.7893407512596657, 1.201607944564541, 1.6138751378694152, 2.0261423311742903, 2.4384095244791646, 2.8506767177840397, 3.262943911088914, 3.6752111043937883, 4.087478297698663, 4.499745491003538, -3.3333311817890805, -2.921063988484206, -2.508796795179331, -2.0965296018744564, -1.6842624085695819, -1.2719952152647074, -0.8597280219598327, -0.44746082865495795, -0.03519363535008324, 0.37707355795479147, 0.7893407512596657, 1.201607944564541, 1.6138751378694152, 2.0261423311742903, 2.4384095244791646, 2.8506767177840397, 3.262943911088914, 3.6752111043937883, 4.087478297698663, 4.499745491003538, -3.3333311817890805, -2.921063988484206, -2.508796795179331, -2.0965296018744564, -1.6842624085695819, -1.2719952152647074, -0.8597280219598327, -0.44746082865495795, -0.03519363535008324, 0.37707355795479147, 0.7893407512596657, 1.201607944564541, 1.6138751378694152, 2.0261423311742903, 2.4384095244791646, 2.8506767177840397, 3.262943911088914, 3.6752111043937883, 4.087478297698663, 4.499745491003538, -3.3333311817890805, -2.921063988484206, -2.508796795179331, -2.0965296018744564, -1.6842624085695819, -1.2719952152647074, -0.8597280219598327, -0.44746082865495795, -0.03519363535008324, 0.37707355795479147, 0.7893407512596657, 1.201607944564541, 1.6138751378694152, 2.0261423311742903, 2.4384095244791646, 2.8506767177840397, 3.262943911088914, 3.6752111043937883, 4.087478297698663, 4.499745491003538, -3.3333311817890805, -2.921063988484206, -2.508796795179331, -2.0965296018744564, -1.6842624085695819, -1.2719952152647074, -0.8597280219598327, -0.44746082865495795, -0.03519363535008324, 0.37707355795479147, 0.7893407512596657, 1.201607944564541, 1.6138751378694152, 2.0261423311742903, 2.4384095244791646, 2.8506767177840397, 3.262943911088914, 3.6752111043937883, 4.087478297698663, 4.499745491003538, -3.3333311817890805, -2.921063988484206, -2.508796795179331, -2.0965296018744564, -1.6842624085695819, -1.2719952152647074, -0.8597280219598327, -0.44746082865495795, -0.03519363535008324, 0.37707355795479147, 0.7893407512596657, 1.201607944564541, 1.6138751378694152, 2.0261423311742903, 2.4384095244791646, 2.8506767177840397, 3.262943911088914, 3.6752111043937883, 4.087478297698663, 4.499745491003538, -3.3333311817890805, -2.921063988484206, -2.508796795179331, -2.0965296018744564, -1.6842624085695819, -1.2719952152647074, -0.8597280219598327, -0.44746082865495795, -0.03519363535008324, 0.37707355795479147, 0.7893407512596657, 1.201607944564541, 1.6138751378694152, 2.0261423311742903, 2.4384095244791646, 2.8506767177840397, 3.262943911088914, 3.6752111043937883, 4.087478297698663, 4.499745491003538, -3.3333311817890805, -2.921063988484206, -2.508796795179331, -2.0965296018744564, -1.6842624085695819, -1.2719952152647074, -0.8597280219598327, -0.44746082865495795, -0.03519363535008324, 0.37707355795479147, 0.7893407512596657, 1.201607944564541, 1.6138751378694152, 2.0261423311742903, 2.4384095244791646, 2.8506767177840397, 3.262943911088914, 3.6752111043937883, 4.087478297698663, 4.499745491003538, -3.3333311817890805, -2.921063988484206, -2.508796795179331, -2.0965296018744564, -1.6842624085695819, -1.2719952152647074, -0.8597280219598327, -0.44746082865495795, -0.03519363535008324, 0.37707355795479147, 0.7893407512596657, 1.201607944564541, 1.6138751378694152, 2.0261423311742903, 2.4384095244791646, 2.8506767177840397, 3.262943911088914, 3.6752111043937883, 4.087478297698663, 4.499745491003538, -3.3333311817890805, -2.921063988484206, -2.508796795179331, -2.0965296018744564, -1.6842624085695819, -1.2719952152647074, -0.8597280219598327, -0.44746082865495795, -0.03519363535008324, 0.37707355795479147, 0.7893407512596657, 1.201607944564541, 1.6138751378694152, 2.0261423311742903, 2.4384095244791646, 2.8506767177840397, 3.262943911088914, 3.6752111043937883, 4.087478297698663, 4.499745491003538, -3.3333311817890805, -2.921063988484206, -2.508796795179331, -2.0965296018744564, -1.6842624085695819, -1.2719952152647074, -0.8597280219598327, -0.44746082865495795, -0.03519363535008324, 0.37707355795479147, 0.7893407512596657, 1.201607944564541, 1.6138751378694152, 2.0261423311742903, 2.4384095244791646, 2.8506767177840397, 3.262943911088914, 3.6752111043937883, 4.087478297698663, 4.499745491003538, -3.3333311817890805, -2.921063988484206, -2.508796795179331, -2.0965296018744564, -1.6842624085695819, -1.2719952152647074, -0.8597280219598327, -0.44746082865495795, -0.03519363535008324, 0.37707355795479147, 0.7893407512596657, 1.201607944564541, 1.6138751378694152, 2.0261423311742903, 2.4384095244791646, 2.8506767177840397, 3.262943911088914, 3.6752111043937883, 4.087478297698663, 4.499745491003538, -3.3333311817890805, -2.921063988484206, -2.508796795179331, -2.0965296018744564, -1.6842624085695819, -1.2719952152647074, -0.8597280219598327, -0.44746082865495795, -0.03519363535008324, 0.37707355795479147, 0.7893407512596657, 1.201607944564541, 1.6138751378694152, 2.0261423311742903, 2.4384095244791646, 2.8506767177840397, 3.262943911088914, 3.6752111043937883, 4.087478297698663, 4.499745491003538, -3.3333311817890805, -2.921063988484206, -2.508796795179331, -2.0965296018744564, -1.6842624085695819, -1.2719952152647074, -0.8597280219598327, -0.44746082865495795, -0.03519363535008324, 0.37707355795479147, 0.7893407512596657, 1.201607944564541, 1.6138751378694152, 2.0261423311742903, 2.4384095244791646, 2.8506767177840397, 3.262943911088914, 3.6752111043937883, 4.087478297698663, 4.499745491003538, 3.984550072904769, 4.370378533387026, 1.554839808195296, 4.148337057826319, 2.253361249704693, 2.369195363726764, 1.9140119426895699, 3.1005521323236316, 2.6492416456400574, 3.4817764650622984, 5.10816850342193, 2.908316594640823, 3.736117570978004, 4.478567146978115, 3.1415389326441927, 3.921121895825177, 1.7336989491221897, 2.0675712503921773, 4.318910298343814, 3.3640211945573535, 3.488478392063073, 1.5110037748672251, 2.405967488756357, 4.16356741951565, 3.3669078159202876, 2.8385536783334597, 3.6776434071883712, 3.0699612846972046, 3.779013158637216, 2.183723280876751, 2.123085677292814, 3.8591598680993853, 2.68977068533999, 4.818280601301451, 1.0130571890079898, 2.5938762471312504, 2.275946385613546, 1.3666039049949168, 1.7820606219465227, 2.313579366039291, 4.605675848402386, 2.2947793998915222, 2.220284051178555, 2.3594982204936374, 3.58671142887678, 3.4005906551706735, 1.7186324917095832, 3.9050274675382806, 3.904504339525622, 4.537753735733091, 3.9787952247591836, 2.9546185388908146, 3.1123530025993524, 3.704461525905815, 2.5300423775955796, 5.1966495786024165, 3.226223828381535, 2.93047995539107, 2.9112785273749697, 1.0835273061839081, 4.261572285024608, 2.3490096585097096, 3.0292649220309307, 3.8782748245956964, 2.0295561993868425, 4.550224950461356, 1.6905588989052693, 3.388266943765008, 2.7764299789185807, 2.640748868217998, 3.1917404907886935, 3.3797538296619813, 3.4429665508848855, 3.329757948104745, 2.6675023534762605, 2.405769175935097, 2.6315780586673645, 3.7921782063321143, 5.231294482163291, 3.1636337194289497, 3.837423842943492, 2.0904499366235503, 2.3928872481842043, 3.9043492140773273, 3.93056678824966, 3.5828749566084084, 4.339220806831816, 2.9892501185418645, 2.786815305729621, 4.444260116194568, 3.817443181512695, 2.6249558853323163, 4.5124625850101605, 3.627528139377081, 2.9312521843341686, 1.9759243756433176, 4.4776584996533995, 1.8750682117523891, 2.475746321178534, 1.0148991654769963, 4.102392397437946, 4.149824661126417, 2.4054067625247164, 2.964083641631184, 3.526640806170419, 5.623803517704771, 1.437187025698611, 3.926340262387034, 1.8651662611239226, 3.7616578014680315, 3.408008629989779, 3.10965205526464, 3.304777464157248, 3.29759566102639, 2.320857804773458, 1.955265626748332, 2.483388477825593, 5.479055887856504, 2.97666029334767, 1.6122159598298513, 3.2676198861583, 3.7373404054220845, 2.6780724766638437, 3.2755473642084802, 2.451525499480209, 1.5349114733690719, 1.9973773428883286, 2.526065581011413, 2.977460376531629, 3.6608487170549413, 2.7783383263229218, 1.2581884643443366, 4.170524312914346, 3.440514516910451, 3.7784107721842206, 2.757002691818151, 4.074101442180251, 3.356990833331535, 2.547105526752699, 2.72569754172275, 1.7103847476951444, 4.782937435517653, 1.7391830976156883, 3.919826002079982, 2.2986131662477733, 3.1477501894417497, 3.532123330426333, 4.24105983738921, 3.2946115088661996, 2.1917575937609763, 3.8429201429361455, 2.42232491638297, 4.665130749555046, 2.287222215531365, 3.8878248626470837, 1.8786310459143971, 2.1920057112270253, 4.304788055971916, 1.235219990116666, 3.928470128107361, 3.262050529385523, 2.774903163853335, 3.4363969407851434, 3.5230580235847726, 3.4258095477097563, 4.140139331781734, 2.90827132307649, 3.8571673791210084, 3.4785031419929804, 4.040851657010542, 4.67644061242996, 0.9415773947165893, 2.3615794684592673, 2.316216097102581, 3.6493524179800048, 1.8284674419850806, 3.272772639434365, 4.150623371080178, 2.8441072865914663, 3.1345128287755273, 4.330571582573085, 1.222812005563556, 3.9109809336691486, 3.1042105796650303, 4.743478233780383, 2.2816265115482555, 4.812752327827453, 2.585638360469548, 1.8468638136496167, 2.636160643665197, 3.561773170078399, 3.0506934706686075, 0.8795097458827856, 3.5542332442583735, 3.5749211526325144, 3.9608148893264286, 1.6575838252321948, 3.55674149904867, 3.8136933316570483, 2.415772397047519, 3.8116311271907533, 3.701541991293845, 4.3124332514587715, 1.960813641751125, 1.7266347512188966, 2.4942763587902257, 2.933794358219354, 2.602027712206333, 3.515227925231388, 4.477178264971634, 3.641738565872142, 1.9122068168434057, 2.1721919216337984, 1.4023970163318906, 1.1975790738852128, 3.4501962586879737, 2.9397605022438986, 1.940362000904536, 2.38463661594493, 3.3151136410066786, 2.634240430235079, 2.1911780557450804, 4.357016710719208, 2.968233635028398, 1.5697862714046207, 1.8399321620230267, 3.43431824462488, 2.454284863066847, 2.1392790069093843, 3.68764671301451, 2.7125347187847244, 2.4521815130564812, 3.7995413922972645, 0.8706983758007474, 2.2335875482562955, 2.3951065823492987, 4.835997376102609, 1.9853831066723935, 3.358697014239093, 4.772349843487983, 3.236239516622072, 3.230638616579802, 4.521782103638587, 3.095374501057701, 2.9804595440539696, 1.4907977045324934, 5.006605491462038, 1.7737991018928465, 3.936576261097677, 3.2460493669558677, 4.427202566134393, 4.503552520090908, 4.075353224813971, 5.2071567715372895, 4.760086011891263, 2.8654862431905297, 4.09489533003473, 4.118419951455772, 3.0615744706302097, 4.698724835642552, 2.5218171002556145, 3.906105986589817, 1.981222047920022, 4.646889969499963, 2.6406130587902066, 4.700635404542548, 3.024414378752379, 5.876135403888044, 2.726073681131789, 2.9151920178285082, 3.2841062435473707, 2.5186216491213544, 3.214514010889892, 2.5689648515833996, 2.176484672740485, 2.8670636116804524, 2.9619456956601837, 2.50255974163892, 1.7825917054457618, 3.462094957743832, 3.8213082583646263, 2.443425922015521, 1.8719582775383734, 1.3416316292214896, 3.5334568867559235, 2.9301626696528364, 2.640752473580808, 3.1258620760409617, 2.6903070453753375, 2.099360283226366, 3.9827631376129897, 3.979820451583285, 2.3253267565799605, 3.3148660366592733, 2.680854798882523, 2.1778001947023418, 2.8221108829465194, 3.38569886961121, 4.4386389805850115, 2.086528942911742, 4.532484601932009, 3.5958470047150204, 2.7669114946100306, 3.4746998382051464, 1.855897188479857, 2.3398668071440536, 4.498306549309122, 2.570853348009947, 5.184318326528533, 1.8587097167748643, 5.448779107157113, 3.5084263169758447, 1.9617838886861003, 2.7209389275354052, 3.935329077667976, 2.5077797229131846, 3.2755341260046964, 5.867320399000401, 3.429821458049046, 4.600848150193252, 3.1879733090379028, 3.83288227621847, 2.173704633742768, 3.8339816066815855, 2.3315936242420117, 2.0255908920896144, 3.8680333360551606, 3.7983024453796603, 3.214693123473697, 5.511950957284705, 2.540012601874494, 5.124695176737009, 3.334437478658001, 3.065073531652463, 3.9424182935115324, 4.253331039179099, 2.7574280793893835, 5.186425301105563, 4.779109232738069, 3.73017683637396, 4.304240740805239, 2.141467491110125, 3.0059897273813077, 2.7047198898594664, 2.4991655398461465, 2.6196856049080868, 4.250875538055609, 3.742753856406841, 4.62970429546852, 1.6779783965174182, 2.5925912261974005, 3.5181655236889546, 3.4468384767505222, 3.0899834377548903, 3.004688986549362, 3.3256523610799076, 3.7151303250152354, 2.9673026723576563, 1.515211477979177, 2.1509217356615467, 1.6914407824260393, 3.7640239388921057, 3.650092459364147, 3.5378276228524186, 3.757623232877993, 1.705191595746978, 3.870000498481553, 2.745316486636562, 3.9450866241646723, 2.8764316453332635, 2.711991927571771, 3.511104008719816, 4.7641654752789115, 2.5606407774901743, 3.6666175789230233, 3.661371856353977, 1.6381805568554229, 2.7936726460300503, 3.0966982261838387, 2.036680739156275, 3.5308860543851877, 1.9283022710270143, 1.9265321841370548, 5.105256975666971, 1.762317560118844, 3.8869723466438337, 2.2341601972106426, 3.4506576093640304, 1.922339494850504, 1.473308867821649, 2.884101959224691, 2.2893441255450457, 2.3776745290737322, 2.7924675361522655, 2.396168144732244, 3.278492139598111, 4.479790954208655, 3.986630900062032, 1.8276749839023592, 2.364725396722772, 2.2129903119245484, 2.9060232674379245, 2.546299477952827, 2.24576615395669, 3.5247426757126017, 2.901341391050718, 3.4699825806757425, 3.5350959491106257, 2.249034426288499, 2.652870223043695, 2.661765722571456, 2.3008195964645024, 3.0834279358357364, 2.790253740319927, 2.2419284796105905, 2.903980270285636, 2.5907200354029807, 2.548010606114876, 2.295406220759947, 3.110210277375794, 2.4413004397357247, 2.3544270111540837, 3.6125500640791874, 2.264320150888591, 2.468346999993768, 2.995265911264517, 2.6412356026933153, 3.140579834534313, 3.455090345253779, 3.5108072395920997, 3.5152485705074956, 3.059784044216745, 3.669342664198772, 3.2999824108564084, 2.4465105275316397, 3.138025097910603, 2.6906020016308796, 2.8924324188858095, 2.8828546636629806, 2.5003272226539757, 2.4435229173241066, 3.021951270689798, 2.47220540663658, 2.7402626642795296, 3.2731519076017754, 3.2359067926690277, 3.3826043411502034, 2.9572676810212926, 2.5929899958838654, 2.7825090931386898, 3.1319907959975035, 3.678221088949357, 2.334590256067398, 2.4019326109847183, 3.5449776961262147, 2.8894615201762415, 2.6441165663455117, 2.993430011180648, 2.5064035454465134, 2.1724366892558193, 2.7023407567234656, 2.1306895918325854, 2.604702604335876, 2.6813844804980858, 2.4060899206236748, 2.7850047405436307, 2.8563353822623188, 2.6189549670548633, 2.5777335170477906, 2.4693671693917314, 2.381919442022282, 2.6001513637549913, 2.4321929461350416, 2.901482990253996, 2.286698247044101, 2.9017848491039793, 2.6519940538926745, 2.553448970359493, 3.751906432471039, 2.4276692887640414, 2.5795663422250197, 3.4921420666632694, 2.0921138325022732, 2.8092080920296887, 3.122339677398242, 3.7248709555383432, 3.5671949632807753, 2.539106666300414, 2.637680603520227, 2.7833884706399705, 2.5755679597951384, 3.0806924897557955, 3.078823111476098, 2.7573695317381923, 3.3741388177382063, 2.614906638876936, 2.9760396584336064, 2.6190098083808953, 2.629691587347663, 2.050998734326242, 2.858291278041166, 3.8383247440939607, 2.085762938385723, 2.9067961154370754, 2.661334523113036, 3.2053977364003687, 2.403959713323994, 3.1214938962509517, 2.8619470842686945, 3.0664007670780564, 3.686450299607631, 2.6444154584802666, 2.689226220626855, 3.364948902666834, 2.982466145226558, 2.829923963849817, 2.8486901094213994, 3.1764319095203755, 2.9474000228629533, 2.3505233101233745, 2.2583026621726248, 2.3970694729087856, 2.8495616729880107, 3.0827138609544344, 3.5643978421482685, 2.5423115667366774, 2.6434854085827073, 2.527044174880046, 2.594335861211291, 3.52014028858223, 3.092438420569515, 2.814516346774948, 3.0103969493098925, 3.3935487688046355, 3.091891338971416, 2.6680714790115996, 3.15106277249411, 2.670284693802711, 2.5082164263802738, 3.108183427367017, 3.256905916986628, 2.831573444722205, 2.910769441158246, 3.6990429864717274, 2.7294530644255546, 3.572795287720472, 2.367445563837197, 2.9071652490219906, 2.690748713870864, 2.1503675004555665, 2.5918096960853183, 2.921764971599619, 2.7830978968009794, 3.076659757416355, 2.572589072973773, 2.3980726238524928, 2.7081195677079597, 3.1972260742740826, 2.945937040881635, 2.399403339807932, 2.680676021932701, 3.6863787471872618, 2.71912176757388, 3.142035553285184, 2.428759613345612, 3.6223763471968025, 2.429886389992288, 2.2937369293798433, 2.3005030621847005, 2.777484726682603, 3.6346769007722566, 2.5390186850174112, 2.4725319655964513, 2.707289065795498, 2.369838219337341, 2.854603187563856, 2.9847173088331194, 2.7246280533985687, 3.5120325120776537, 3.6210755183454233, 2.83546133891678, 2.7811579791445302, 2.862640328231915, 2.576800905376718, 2.843265790927934, 3.075539986453498, 2.5994213466091862, 2.633779314363013, 1.9739914476945346, 2.5490755858849408, 3.151406391094268, 3.649166548424809, 2.3955002390096167, 3.2374887632552065, 2.4682841968214073, 2.7416804993461943, 3.1192942908314154, 3.1187528470308727, 3.113765318837221, 3.0461634958777752, 2.784302059465441, 2.768623808119019, 2.3240959261805783, 2.6118827903869146, 2.5893064002800616, 2.1124030726674423, 2.6244400672697816, 3.651784188302554, 2.339770343980942, 3.8105762058758406, 2.4405269860477192, 2.8713604929354726, 2.9900887085143446, 3.3710296771850206, 2.483435684638022, 3.3808981409700403, 2.3999325827605134, 2.3444137421609716, 2.593556329429996, 2.797659577568659, 2.765261915991484, 2.8755095686192074, 3.879786487168489, 2.6460370906975785, 2.5336332803488646, 2.6818392219849914, 2.724601211587804, 2.9798371488835715, 2.9543385691889745, 2.3423553293176655, 2.9498164197216634, 2.97941624201047, 3.459198303794947, 3.250557552421253, 3.4856533446782416, 3.553107705044927, 2.8421914082415918, 2.321120190595294, 2.7974997302918685, 3.0350111141838183, 3.0846395515173577, 2.523577680598198, 3.603727781979328, 2.7952459077837375, 2.627882942346317, 2.736978072850999, 3.337668597299002, 2.574458821571294, 2.693051333477589, 2.5986469007824278, 2.4078081619094722, 3.1799599273092745, 3.1030470624075353, 2.794915136575759, 2.96241364249301, 2.692734258211953, 3.3601812559833966, 2.904151492757799, 2.9263052602716613, 3.7278323938374385, 2.460256622625465, 2.4422842115297847, 2.6402525302430915, 2.823937260680368, 3.0838256876968373, 2.37179423038394, 2.7306055575952506, 3.2558925302643416, 2.158788641241035, 2.8642048171130168, 2.400402994442813, 2.8557407115021105, 2.973059022265982, 2.82772786069913, 3.223132896911271, 3.099977450390839, 3.1189645524349334, 2.55284986965229, 2.5948362616945975, 3.129836074695632, 3.5522502671683505, 2.5110952040564087, 2.9110603378465423, 2.512262418339052, 3.036883515534901, 2.4091554102620605, 2.2716597884713083, 2.906362553591167, 2.4874358509458148, 2.847343987182228, 2.6714484726503103, 2.9722347007228014, 2.9833604388636825, 2.6632966346307536, 2.185653374335645, 2.924509078591756, 2.5056599966161905, 3.471403292636937, 2.524615541611645, 2.731186348924989, 2.9168677289230747, 3.0070918182779716, 2.4614354640512266, 2.8146455844604708, 3.070142378785914, 3.255827723247139, 3.075990310138673, 2.865057358343547, 2.6418582013072935, 2.2198558712204832, 3.377886908712141, 2.6073731280858183, 2.5118920158964313, 2.4854142119451694, 3.3429146973122625, 2.457447566322601, 3.729292364072734, 3.7148658733359383, 3.480232779237355, 2.5250984579174824, 3.645846153749588, 2.9428305180488543, 2.785582890159619, 2.788774672386944, 2.8735853007211922, 3.5364319082254467, 2.8113930731663266, 2.7879867957190045, 2.7686827349854277, 2.5641345523250103, 2.727787809526726, 2.665072918403599, 3.0178601763229986, 2.6412584396091936, 2.2200654207405943, 2.2822829836480536, 2.9588001475567847, 2.9123164570606375, 2.577721309451386, 3.754347920051401, 2.7357801968355226, 2.4284847819790634, 3.732622083955266, 2.961608658545702, 2.552170647052042, 2.6435464494516676, 3.5495159604278745, 2.770518848620575, 3.0064659403977965, 2.6494302302860184, 2.9460457215106666, 3.697849262789836, 3.2524928264361934, 2.2675251765727316, 2.2376050613517138, 2.7028557973532172, 2.8688265325685434, 2.7696171190967074, 2.741863576923745, 2.744072159138706, 2.5579778828070228, 2.7630890552893024, 2.146061123911807, 3.8390495565472853, 3.1036805597521515, 3.472315966844845, 2.805891309845137, 2.988023108256542, 2.7993219829132614, 2.6035088182360133, 2.570602356127671, 2.6103577749152285, 3.643839958347711, 2.750533696938286, 2.6893456412986834, 2.582233078771187, 2.3798766897020944, 2.8726947252989152, 3.7507739989511277, 2.5239259686461843, 3.500457080003024, 3.516963227750011, 2.6991689789626223, 3.1016300313151035, 2.8706951956840054, 2.787692582807097, 2.9651168601694793, 2.540066499561171, 2.6228015574234655, 2.7334783359846355, 2.1904120933844706, 3.531943303131016, 2.8828066711382987, 2.58094283458132, 3.4733234320544075, 2.9697132224823193, 2.418331761822326, 2.3196442132419905, 2.609525825571456, 2.6927106283388538], \"yaxis\": \"y2\"}],\n",
       "                        {\"annotations\": [{\"font\": {\"size\": 16}, \"showarrow\": false, \"text\": \"coords\", \"x\": 0.225, \"xanchor\": \"center\", \"xref\": \"paper\", \"y\": 1.0, \"yanchor\": \"bottom\", \"yref\": \"paper\"}, {\"font\": {\"size\": 16}, \"showarrow\": false, \"text\": \"coords\", \"x\": 0.775, \"xanchor\": \"center\", \"xref\": \"paper\", \"y\": 1.0, \"yanchor\": \"bottom\", \"yref\": \"paper\"}], \"template\": {\"data\": {\"bar\": [{\"error_x\": {\"color\": \"#2a3f5f\"}, \"error_y\": {\"color\": \"#2a3f5f\"}, \"marker\": {\"line\": {\"color\": \"#E5ECF6\", \"width\": 0.5}}, \"type\": \"bar\"}], \"barpolar\": [{\"marker\": {\"line\": {\"color\": \"#E5ECF6\", \"width\": 0.5}}, \"type\": \"barpolar\"}], \"carpet\": [{\"aaxis\": {\"endlinecolor\": \"#2a3f5f\", \"gridcolor\": \"white\", \"linecolor\": \"white\", \"minorgridcolor\": \"white\", \"startlinecolor\": \"#2a3f5f\"}, \"baxis\": {\"endlinecolor\": \"#2a3f5f\", \"gridcolor\": \"white\", \"linecolor\": \"white\", \"minorgridcolor\": \"white\", \"startlinecolor\": \"#2a3f5f\"}, \"type\": \"carpet\"}], \"choropleth\": [{\"colorbar\": {\"outlinewidth\": 0, \"ticks\": \"\"}, \"type\": \"choropleth\"}], \"contour\": [{\"colorbar\": {\"outlinewidth\": 0, \"ticks\": \"\"}, \"colorscale\": [[0.0, \"#0d0887\"], [0.1111111111111111, \"#46039f\"], [0.2222222222222222, \"#7201a8\"], [0.3333333333333333, \"#9c179e\"], [0.4444444444444444, \"#bd3786\"], [0.5555555555555556, \"#d8576b\"], [0.6666666666666666, \"#ed7953\"], [0.7777777777777778, \"#fb9f3a\"], [0.8888888888888888, \"#fdca26\"], [1.0, \"#f0f921\"]], \"type\": \"contour\"}], \"contourcarpet\": [{\"colorbar\": {\"outlinewidth\": 0, \"ticks\": \"\"}, \"type\": \"contourcarpet\"}], \"heatmap\": [{\"colorbar\": {\"outlinewidth\": 0, \"ticks\": \"\"}, \"colorscale\": [[0.0, \"#0d0887\"], [0.1111111111111111, \"#46039f\"], [0.2222222222222222, \"#7201a8\"], [0.3333333333333333, \"#9c179e\"], [0.4444444444444444, \"#bd3786\"], [0.5555555555555556, \"#d8576b\"], [0.6666666666666666, \"#ed7953\"], [0.7777777777777778, \"#fb9f3a\"], [0.8888888888888888, \"#fdca26\"], [1.0, \"#f0f921\"]], \"type\": \"heatmap\"}], \"heatmapgl\": [{\"colorbar\": {\"outlinewidth\": 0, \"ticks\": \"\"}, \"colorscale\": [[0.0, \"#0d0887\"], [0.1111111111111111, \"#46039f\"], [0.2222222222222222, \"#7201a8\"], [0.3333333333333333, \"#9c179e\"], [0.4444444444444444, \"#bd3786\"], [0.5555555555555556, \"#d8576b\"], [0.6666666666666666, \"#ed7953\"], [0.7777777777777778, \"#fb9f3a\"], [0.8888888888888888, \"#fdca26\"], [1.0, \"#f0f921\"]], \"type\": \"heatmapgl\"}], \"histogram\": [{\"marker\": {\"colorbar\": {\"outlinewidth\": 0, \"ticks\": \"\"}}, \"type\": \"histogram\"}], \"histogram2d\": [{\"colorbar\": {\"outlinewidth\": 0, \"ticks\": \"\"}, \"colorscale\": [[0.0, \"#0d0887\"], [0.1111111111111111, \"#46039f\"], [0.2222222222222222, \"#7201a8\"], [0.3333333333333333, \"#9c179e\"], [0.4444444444444444, \"#bd3786\"], [0.5555555555555556, \"#d8576b\"], [0.6666666666666666, \"#ed7953\"], [0.7777777777777778, \"#fb9f3a\"], [0.8888888888888888, \"#fdca26\"], [1.0, \"#f0f921\"]], \"type\": \"histogram2d\"}], \"histogram2dcontour\": [{\"colorbar\": {\"outlinewidth\": 0, \"ticks\": \"\"}, \"colorscale\": [[0.0, \"#0d0887\"], [0.1111111111111111, \"#46039f\"], [0.2222222222222222, \"#7201a8\"], [0.3333333333333333, \"#9c179e\"], [0.4444444444444444, \"#bd3786\"], [0.5555555555555556, \"#d8576b\"], [0.6666666666666666, \"#ed7953\"], [0.7777777777777778, \"#fb9f3a\"], [0.8888888888888888, \"#fdca26\"], [1.0, \"#f0f921\"]], \"type\": \"histogram2dcontour\"}], \"mesh3d\": [{\"colorbar\": {\"outlinewidth\": 0, \"ticks\": \"\"}, \"type\": \"mesh3d\"}], \"parcoords\": [{\"line\": {\"colorbar\": {\"outlinewidth\": 0, \"ticks\": \"\"}}, \"type\": \"parcoords\"}], \"pie\": [{\"automargin\": true, \"type\": \"pie\"}], \"scatter\": [{\"marker\": {\"colorbar\": {\"outlinewidth\": 0, \"ticks\": \"\"}}, \"type\": \"scatter\"}], \"scatter3d\": [{\"line\": {\"colorbar\": {\"outlinewidth\": 0, \"ticks\": \"\"}}, \"marker\": {\"colorbar\": {\"outlinewidth\": 0, \"ticks\": \"\"}}, \"type\": \"scatter3d\"}], \"scattercarpet\": [{\"marker\": {\"colorbar\": {\"outlinewidth\": 0, \"ticks\": \"\"}}, \"type\": \"scattercarpet\"}], \"scattergeo\": [{\"marker\": {\"colorbar\": {\"outlinewidth\": 0, \"ticks\": \"\"}}, \"type\": \"scattergeo\"}], \"scattergl\": [{\"marker\": {\"colorbar\": {\"outlinewidth\": 0, \"ticks\": \"\"}}, \"type\": \"scattergl\"}], \"scattermapbox\": [{\"marker\": {\"colorbar\": {\"outlinewidth\": 0, \"ticks\": \"\"}}, \"type\": \"scattermapbox\"}], \"scatterpolar\": [{\"marker\": {\"colorbar\": {\"outlinewidth\": 0, \"ticks\": \"\"}}, \"type\": \"scatterpolar\"}], \"scatterpolargl\": [{\"marker\": {\"colorbar\": {\"outlinewidth\": 0, \"ticks\": \"\"}}, \"type\": \"scatterpolargl\"}], \"scatterternary\": [{\"marker\": {\"colorbar\": {\"outlinewidth\": 0, \"ticks\": \"\"}}, \"type\": \"scatterternary\"}], \"surface\": [{\"colorbar\": {\"outlinewidth\": 0, \"ticks\": \"\"}, \"colorscale\": [[0.0, \"#0d0887\"], [0.1111111111111111, \"#46039f\"], [0.2222222222222222, \"#7201a8\"], [0.3333333333333333, \"#9c179e\"], [0.4444444444444444, \"#bd3786\"], [0.5555555555555556, \"#d8576b\"], [0.6666666666666666, \"#ed7953\"], [0.7777777777777778, \"#fb9f3a\"], [0.8888888888888888, \"#fdca26\"], [1.0, \"#f0f921\"]], \"type\": \"surface\"}], \"table\": [{\"cells\": {\"fill\": {\"color\": \"#EBF0F8\"}, \"line\": {\"color\": \"white\"}}, \"header\": {\"fill\": {\"color\": \"#C8D4E3\"}, \"line\": {\"color\": \"white\"}}, \"type\": \"table\"}]}, \"layout\": {\"annotationdefaults\": {\"arrowcolor\": \"#2a3f5f\", \"arrowhead\": 0, \"arrowwidth\": 1}, \"coloraxis\": {\"colorbar\": {\"outlinewidth\": 0, \"ticks\": \"\"}}, \"colorscale\": {\"diverging\": [[0, \"#8e0152\"], [0.1, \"#c51b7d\"], [0.2, \"#de77ae\"], [0.3, \"#f1b6da\"], [0.4, \"#fde0ef\"], [0.5, \"#f7f7f7\"], [0.6, \"#e6f5d0\"], [0.7, \"#b8e186\"], [0.8, \"#7fbc41\"], [0.9, \"#4d9221\"], [1, \"#276419\"]], \"sequential\": [[0.0, \"#0d0887\"], [0.1111111111111111, \"#46039f\"], [0.2222222222222222, \"#7201a8\"], [0.3333333333333333, \"#9c179e\"], [0.4444444444444444, \"#bd3786\"], [0.5555555555555556, \"#d8576b\"], [0.6666666666666666, \"#ed7953\"], [0.7777777777777778, \"#fb9f3a\"], [0.8888888888888888, \"#fdca26\"], [1.0, \"#f0f921\"]], \"sequentialminus\": [[0.0, \"#0d0887\"], [0.1111111111111111, \"#46039f\"], [0.2222222222222222, \"#7201a8\"], [0.3333333333333333, \"#9c179e\"], [0.4444444444444444, \"#bd3786\"], [0.5555555555555556, \"#d8576b\"], [0.6666666666666666, \"#ed7953\"], [0.7777777777777778, \"#fb9f3a\"], [0.8888888888888888, \"#fdca26\"], [1.0, \"#f0f921\"]]}, \"colorway\": [\"#636efa\", \"#EF553B\", \"#00cc96\", \"#ab63fa\", \"#FFA15A\", \"#19d3f3\", \"#FF6692\", \"#B6E880\", \"#FF97FF\", \"#FECB52\"], \"font\": {\"color\": \"#2a3f5f\"}, \"geo\": {\"bgcolor\": \"white\", \"lakecolor\": \"white\", \"landcolor\": \"#E5ECF6\", \"showlakes\": true, \"showland\": true, \"subunitcolor\": \"white\"}, \"hoverlabel\": {\"align\": \"left\"}, \"hovermode\": \"closest\", \"mapbox\": {\"style\": \"light\"}, \"paper_bgcolor\": \"white\", \"plot_bgcolor\": \"#E5ECF6\", \"polar\": {\"angularaxis\": {\"gridcolor\": \"white\", \"linecolor\": \"white\", \"ticks\": \"\"}, \"bgcolor\": \"#E5ECF6\", \"radialaxis\": {\"gridcolor\": \"white\", \"linecolor\": \"white\", \"ticks\": \"\"}}, \"scene\": {\"xaxis\": {\"backgroundcolor\": \"#E5ECF6\", \"gridcolor\": \"white\", \"gridwidth\": 2, \"linecolor\": \"white\", \"showbackground\": true, \"ticks\": \"\", \"zerolinecolor\": \"white\"}, \"yaxis\": {\"backgroundcolor\": \"#E5ECF6\", \"gridcolor\": \"white\", \"gridwidth\": 2, \"linecolor\": \"white\", \"showbackground\": true, \"ticks\": \"\", \"zerolinecolor\": \"white\"}, \"zaxis\": {\"backgroundcolor\": \"#E5ECF6\", \"gridcolor\": \"white\", \"gridwidth\": 2, \"linecolor\": \"white\", \"showbackground\": true, \"ticks\": \"\", \"zerolinecolor\": \"white\"}}, \"shapedefaults\": {\"line\": {\"color\": \"#2a3f5f\"}}, \"ternary\": {\"aaxis\": {\"gridcolor\": \"white\", \"linecolor\": \"white\", \"ticks\": \"\"}, \"baxis\": {\"gridcolor\": \"white\", \"linecolor\": \"white\", \"ticks\": \"\"}, \"bgcolor\": \"#E5ECF6\", \"caxis\": {\"gridcolor\": \"white\", \"linecolor\": \"white\", \"ticks\": \"\"}}, \"title\": {\"x\": 0.05}, \"xaxis\": {\"automargin\": true, \"gridcolor\": \"white\", \"linecolor\": \"white\", \"ticks\": \"\", \"title\": {\"standoff\": 15}, \"zerolinecolor\": \"white\", \"zerolinewidth\": 2}, \"yaxis\": {\"automargin\": true, \"gridcolor\": \"white\", \"linecolor\": \"white\", \"ticks\": \"\", \"title\": {\"standoff\": 15}, \"zerolinecolor\": \"white\", \"zerolinewidth\": 2}}}, \"xaxis\": {\"anchor\": \"y\", \"domain\": [0.0, 0.45]}, \"xaxis2\": {\"anchor\": \"y2\", \"domain\": [0.55, 1.0]}, \"yaxis\": {\"anchor\": \"x\", \"domain\": [0.0, 1.0]}, \"yaxis2\": {\"anchor\": \"x2\", \"domain\": [0.0, 1.0]}},\n",
       "                        {\"responsive\": true}\n",
       "                    ).then(function(){\n",
       "                            \n",
       "var gd = document.getElementById('03832349-cd8f-4b21-be80-c67caeeb1bbe');\n",
       "var x = new MutationObserver(function (mutations, observer) {{\n",
       "        var display = window.getComputedStyle(gd).display;\n",
       "        if (!display || display === 'none') {{\n",
       "            console.log([gd, 'removed!']);\n",
       "            Plotly.purge(gd);\n",
       "            observer.disconnect();\n",
       "        }}\n",
       "}});\n",
       "\n",
       "// Listen for the removal of the full notebook cells\n",
       "var notebookContainer = gd.closest('#notebook-container');\n",
       "if (notebookContainer) {{\n",
       "    x.observe(notebookContainer, {childList: true});\n",
       "}}\n",
       "\n",
       "// Listen for the clearing of the current output cell\n",
       "var outputEl = gd.closest('.output');\n",
       "if (outputEl) {{\n",
       "    x.observe(outputEl, {childList: true});\n",
       "}}\n",
       "\n",
       "                        })\n",
       "                };\n",
       "                });\n",
       "            </script>\n",
       "        </div>"
      ]
     },
     "metadata": {},
     "output_type": "display_data"
    }
   ],
   "source": [
    "from plotly import tools\n",
    "\n",
    "title= 'coords'\n",
    "fig_subplots = tools.make_subplots(rows=1, cols=2,subplot_titles=tuple([title]*2))\n",
    "\n",
    "for trace in figwl:\n",
    "    fig_subplots.append_trace(trace, 1, 1)\n",
    "    \n",
    "\n",
    "trace= go.Scatter(\n",
    "    x= granted[:,0],\n",
    "    y= granted[:,1],\n",
    "    #z= grid_likes,\n",
    "    mode= 'markers',\n",
    "    marker= {\n",
    "        'color':grid_likes,\n",
    "        'colorbar': go.scatter.marker.ColorBar(\n",
    "            title= 'ColorBar'\n",
    "        ),\n",
    "        'colorscale':'Viridis',\n",
    "        'line': {'width': 0},\n",
    "        'size': 5,\n",
    "        'symbol': 'circle',\n",
    "      \"opacity\": 1\n",
    "      }\n",
    ")\n",
    "\n",
    "fig_subplots.append_trace(trace, 1,2)\n",
    "\n",
    "iplot(fig_subplots)"
   ]
  },
  {
   "cell_type": "code",
   "execution_count": null,
   "metadata": {},
   "outputs": [],
   "source": []
  }
 ],
 "metadata": {
  "kernelspec": {
   "display_name": "Python 3",
   "language": "python",
   "name": "python3"
  },
  "language_info": {
   "codemirror_mode": {
    "name": "ipython",
    "version": 3
   },
   "file_extension": ".py",
   "mimetype": "text/x-python",
   "name": "python",
   "nbconvert_exporter": "python",
   "pygments_lexer": "ipython3",
   "version": "3.7.3"
  }
 },
 "nbformat": 4,
 "nbformat_minor": 2
}
