{
 "cells": [
  {
   "cell_type": "code",
   "execution_count": 1,
   "metadata": {},
   "outputs": [
    {
     "data": {
      "text/html": [
       "        <script type=\"text/javascript\">\n",
       "        window.PlotlyConfig = {MathJaxConfig: 'local'};\n",
       "        if (window.MathJax) {MathJax.Hub.Config({SVG: {font: \"STIX-Web\"}});}\n",
       "        if (typeof require !== 'undefined') {\n",
       "        require.undef(\"plotly\");\n",
       "        requirejs.config({\n",
       "            paths: {\n",
       "                'plotly': ['https://cdn.plot.ly/plotly-latest.min']\n",
       "            }\n",
       "        });\n",
       "        require(['plotly'], function(Plotly) {\n",
       "            window._Plotly = Plotly;\n",
       "        });\n",
       "        }\n",
       "        </script>\n",
       "        "
      ]
     },
     "metadata": {},
     "output_type": "display_data"
    }
   ],
   "source": [
    "import scipy\n",
    "import numpy as np\n",
    "from sklearn.neighbors import KernelDensity\n",
    "from sklearn.decomposition import PCA\n",
    "from sklearn.model_selection import GridSearchCV\n",
    "from sklearn.cluster import estimate_bandwidth\n",
    "from sklearn.cluster import MeanShift, estimate_bandwidth\n",
    "\n",
    "import pandas as pd\n",
    "\n",
    "from scipy import stats\n",
    "from scipy.stats import beta\n",
    "from math import sin\n",
    "from random import randint\n",
    "from IPython.display import clear_output\n",
    "import matplotlib.pyplot as plt\n",
    "import itertools as it\n",
    "\n",
    "import plotly\n",
    "import plotly.graph_objs as go\n",
    "from plotly.offline import download_plotlyjs, init_notebook_mode, plot, iplot\n",
    "\n",
    "from ipywidgets import interact, interactive, fixed, interact_manual\n",
    "import ipywidgets as widgets\n",
    "init_notebook_mode(connected=True)\n",
    "\n",
    "import collections\n",
    "\n",
    "def recursively_default_dict():\n",
    "        return collections.defaultdict(recursively_default_dict)\n",
    "\n",
    "from matplotlib.collections import BrokenBarHCollection\n",
    "import re\n",
    "\n",
    "from structure_tools.Modules_tools import return_fsts\n",
    "\n",
    "PCA_color_ref= ['darkseagreen','crimson', 'darkorange', 'darkblue', 'darkcyan',\n",
    "            'darkgoldenrod', 'darkgray', 'darkgrey', 'darkgreen',\n",
    "            'darkkhaki', 'darkmagenta', 'darkolivegreen', 'darkorange',\n",
    "            'darkorchid', 'darkred', 'darksalmon', 'darkseagreen',\n",
    "            'darkslateblue', 'darkslategray', 'darkslategrey',\n",
    "            'darkturquoise', 'darkviolet', 'deeppink']"
   ]
  },
  {
   "cell_type": "markdown",
   "metadata": {},
   "source": []
  },
  {
   "cell_type": "markdown",
   "metadata": {},
   "source": [
    "## vcf analysis\n",
    "Jupyter notebook for the local analysis of genetic data stored in .vcf format.\n",
    "\n",
    "Perform analysis of structure across data set, followed by a more detailed study of variation across local genomic windows.\n",
    "\n",
    "### Input"
   ]
  },
  {
   "cell_type": "code",
   "execution_count": 2,
   "metadata": {},
   "outputs": [
    {
     "name": "stdout",
     "output_type": "stream",
     "text": [
      "Number of markers: 40000\n",
      "Number of individuals: 130\n"
     ]
    }
   ],
   "source": [
    "from structure_tools.vcf_geno_tools import simple_read_vcf\n",
    "\n",
    "vcf_file= 'data_cleanRefs_simple_Admx.vcf'\n",
    "\n",
    "genotype, summary, info_save= simple_read_vcf(vcf_file,row_info= 5,header_info= 9,phased= True)\n",
    "\n",
    "print('Number of markers: {}'.format(genotype.shape[1]))\n",
    "print('Number of individuals: {}'.format(genotype.shape[0]))"
   ]
  },
  {
   "cell_type": "code",
   "execution_count": 3,
   "metadata": {},
   "outputs": [
    {
     "data": {
      "text/html": [
       "<div>\n",
       "<style scoped>\n",
       "    .dataframe tbody tr th:only-of-type {\n",
       "        vertical-align: middle;\n",
       "    }\n",
       "\n",
       "    .dataframe tbody tr th {\n",
       "        vertical-align: top;\n",
       "    }\n",
       "\n",
       "    .dataframe thead th {\n",
       "        text-align: right;\n",
       "    }\n",
       "</style>\n",
       "<table border=\"1\" class=\"dataframe\">\n",
       "  <thead>\n",
       "    <tr style=\"text-align: right;\">\n",
       "      <th></th>\n",
       "      <th>CHROM</th>\n",
       "      <th>POS</th>\n",
       "      <th>ID</th>\n",
       "      <th>REF</th>\n",
       "      <th>ALT</th>\n",
       "      <th>QUAL</th>\n",
       "      <th>FILTER</th>\n",
       "      <th>INFO</th>\n",
       "      <th>FORMAT</th>\n",
       "    </tr>\n",
       "  </thead>\n",
       "  <tbody>\n",
       "    <tr>\n",
       "      <th>0</th>\n",
       "      <td>1</td>\n",
       "      <td>8</td>\n",
       "      <td>1</td>\n",
       "      <td>A</td>\n",
       "      <td>T</td>\n",
       "      <td>.</td>\n",
       "      <td>PASS</td>\n",
       "      <td>.</td>\n",
       "      <td>GT:AD:DP</td>\n",
       "    </tr>\n",
       "    <tr>\n",
       "      <th>1</th>\n",
       "      <td>1</td>\n",
       "      <td>33</td>\n",
       "      <td>2</td>\n",
       "      <td>A</td>\n",
       "      <td>T</td>\n",
       "      <td>.</td>\n",
       "      <td>PASS</td>\n",
       "      <td>.</td>\n",
       "      <td>GT:AD:DP</td>\n",
       "    </tr>\n",
       "    <tr>\n",
       "      <th>2</th>\n",
       "      <td>1</td>\n",
       "      <td>74</td>\n",
       "      <td>3</td>\n",
       "      <td>A</td>\n",
       "      <td>T</td>\n",
       "      <td>.</td>\n",
       "      <td>PASS</td>\n",
       "      <td>.</td>\n",
       "      <td>GT:AD:DP</td>\n",
       "    </tr>\n",
       "    <tr>\n",
       "      <th>3</th>\n",
       "      <td>1</td>\n",
       "      <td>83</td>\n",
       "      <td>4</td>\n",
       "      <td>A</td>\n",
       "      <td>T</td>\n",
       "      <td>.</td>\n",
       "      <td>PASS</td>\n",
       "      <td>.</td>\n",
       "      <td>GT:AD:DP</td>\n",
       "    </tr>\n",
       "    <tr>\n",
       "      <th>4</th>\n",
       "      <td>1</td>\n",
       "      <td>87</td>\n",
       "      <td>5</td>\n",
       "      <td>A</td>\n",
       "      <td>T</td>\n",
       "      <td>.</td>\n",
       "      <td>PASS</td>\n",
       "      <td>.</td>\n",
       "      <td>GT:AD:DP</td>\n",
       "    </tr>\n",
       "  </tbody>\n",
       "</table>\n",
       "</div>"
      ],
      "text/plain": [
       "  CHROM POS ID REF ALT QUAL FILTER INFO    FORMAT\n",
       "0     1   8  1   A   T    .   PASS    .  GT:AD:DP\n",
       "1     1  33  2   A   T    .   PASS    .  GT:AD:DP\n",
       "2     1  74  3   A   T    .   PASS    .  GT:AD:DP\n",
       "3     1  83  4   A   T    .   PASS    .  GT:AD:DP\n",
       "4     1  87  5   A   T    .   PASS    .  GT:AD:DP"
      ]
     },
     "execution_count": 3,
     "metadata": {},
     "output_type": "execute_result"
    }
   ],
   "source": [
    "summary.head()\n"
   ]
  },
  {
   "cell_type": "markdown",
   "metadata": {},
   "source": [
    "### Global variation\n",
    "\n",
    "Perform PCA across data set.\n",
    "\n",
    "Perform Mean shift clustering to attempt to extract genetically coherent groups of accessions.\n",
    "\n",
    "These will later be used for supervised analysis."
   ]
  },
  {
   "cell_type": "code",
   "execution_count": 4,
   "metadata": {},
   "outputs": [],
   "source": [
    "from structure_tools.Tutorial_subplots import plot_global_pca\n",
    "\n",
    "## Perform PCA\n",
    "n_comp= 3\n",
    "pca = PCA(n_components=n_comp, whiten=False,svd_solver='randomized')\n",
    "\n",
    "feats= pca.fit_transform(genotype)"
   ]
  },
  {
   "cell_type": "code",
   "execution_count": 5,
   "metadata": {},
   "outputs": [],
   "source": [
    "## perform MeanShift clustering.\n",
    "bandwidth = estimate_bandwidth(feats, quantile=0.1)\n",
    "\n",
    "ms = MeanShift(bandwidth=bandwidth, bin_seeding=False, cluster_all=True, min_bin_freq=45)\n",
    "ms.fit(feats)\n",
    "labels1 = ms.labels_\n",
    "label_select = {y:[x for x in range(len(labels1)) if labels1[x] == y] for y in sorted(list(set(labels1)))}\n",
    "###"
   ]
  },
  {
   "cell_type": "code",
   "execution_count": 6,
   "metadata": {},
   "outputs": [
    {
     "data": {
      "application/vnd.plotly.v1+json": {
       "config": {
        "linkText": "Export to plot.ly",
        "plotlyServerURL": "https://plot.ly",
        "showLink": false
       },
       "data": [
        {
         "marker": {
          "color": "darkseagreen",
          "line": {
           "width": 0
          },
          "opacity": 0.8,
          "size": 6,
          "symbol": "circle"
         },
         "mode": "markers",
         "name": "0",
         "type": "scatter",
         "x": [
          68.46982882091996,
          67.72909589120712,
          67.49967218129609,
          66.79416046470033,
          66.15222350109461,
          69.38764359213941,
          68.77342022781563,
          68.01622651661401,
          67.82832276365787,
          67.98258544441411,
          67.98952654453623,
          66.07245334340332,
          67.49916072799385,
          67.87421029627163,
          67.69820548129253,
          67.35545741252825,
          66.96127749058988,
          67.31303580885255,
          67.59533061079517,
          67.89973700648781,
          67.26773501628125,
          68.38060103769163,
          67.49850988624034,
          65.68590828657908,
          67.76796519876285,
          67.85563449061391,
          67.78622919258866,
          68.28531641761103,
          67.16063272299903,
          67.18265984833566,
          68.03080946784858,
          67.80150165280244,
          66.27307670491463,
          67.32594444958544,
          68.13437085760998,
          67.78090534560597,
          67.64473674444704,
          66.78721302217626,
          66.73804956646133,
          66.12644353760872
         ],
         "xaxis": "x",
         "y": [
          -4.35816343107683,
          -3.3036292816904878,
          -4.977945591805318,
          -3.0339447533018125,
          -3.307089581321336,
          -4.348753437381289,
          -4.075217595572503,
          -4.7596666179668565,
          -4.2329128705585815,
          -4.2108187030416575,
          -5.099175079075276,
          -4.5426288206282734,
          -4.361385657532668,
          -4.0055915527563535,
          -4.2616830740289595,
          -3.204187789085864,
          -4.148348886856827,
          -3.592054808673604,
          -4.098859125562833,
          -4.973860906336659,
          -3.6634779060511944,
          -5.186846360301313,
          -3.3174664607450604,
          -4.237920499016654,
          -4.836735019193282,
          -4.036833339247917,
          -3.7677148623153545,
          -4.104089345862244,
          -3.700912301417723,
          -3.5719009715668797,
          -3.6988359697271966,
          -3.211291678884076,
          -3.9051416365677167,
          -4.292874948344849,
          -3.105865103733964,
          -5.067690213326004,
          -4.1669057861614105,
          -3.8006471310359373,
          -3.7585139610112925,
          -3.8300011058015455
         ],
         "yaxis": "y"
        },
        {
         "marker": {
          "color": "crimson",
          "line": {
           "width": 0
          },
          "opacity": 0.8,
          "size": 6,
          "symbol": "circle"
         },
         "mode": "markers",
         "name": "1",
         "type": "scatter",
         "x": [
          -47.55316216829906,
          -47.41807942257735,
          -45.80763731629668,
          -47.31261651495337,
          -46.57242755563268,
          -46.16346844830044,
          -47.11138774223824,
          -46.16077345309201,
          -47.56388565117332,
          -45.63560631439618,
          -46.245638036913434,
          -45.89345243442433,
          -45.57494433582407,
          -47.01250268693536,
          -47.92706195463723,
          -45.059912957555234,
          -47.68165646681633,
          -47.5856784124417,
          -47.94735468672811,
          -46.37352323371308,
          -46.07739754629665,
          -47.58691756141079,
          -47.49749116426143,
          -47.11043358500419,
          -48.046830542700974,
          -47.83720878980202,
          -47.450643347100325,
          -46.56832669215968,
          -47.37230663900219,
          -47.21541345042812,
          -46.61955751850311,
          -47.54684702494865,
          -47.446680615287974,
          -45.88441320040586,
          -48.93938012635003,
          -45.854216093972944,
          -46.9020546532053,
          -47.95552012515158,
          -47.0108590502937,
          -47.266931393606804,
          -43.54013153240375,
          -35.60638195848541
         ],
         "xaxis": "x",
         "y": [
          -25.12675667729295,
          -25.06595237552426,
          -25.67479324097996,
          -25.619114122602348,
          -25.147163820846526,
          -26.725832274915508,
          -25.68552467394498,
          -26.02275742716754,
          -25.932124849816688,
          -25.37212633713296,
          -25.392911768866878,
          -24.89223465449782,
          -24.903700794938565,
          -26.11656445374366,
          -25.142980197406917,
          -24.91092262448355,
          -24.487374820783327,
          -25.17119835307149,
          -25.645280912822784,
          -24.666881243174,
          -26.196769008624567,
          -26.306105755771803,
          -24.823647404823813,
          -25.372455537761986,
          -26.43453868085157,
          -26.238646775864407,
          -24.092673811554274,
          -25.003576739968356,
          -25.31013128663661,
          -24.520117085218452,
          -26.002296412899543,
          -22.717371345564853,
          -24.627823667533228,
          -23.86997225395197,
          -23.34789932209717,
          -25.19961251654868,
          -25.095930459270186,
          -25.48293125134979,
          -24.71849849441854,
          -27.09828784069665,
          -19.923170359379615,
          -19.610581507434244
         ],
         "yaxis": "y"
        },
        {
         "marker": {
          "color": "darkorange",
          "line": {
           "width": 0
          },
          "opacity": 0.8,
          "size": 6,
          "symbol": "circle"
         },
         "mode": "markers",
         "name": "2",
         "type": "scatter",
         "x": [
          -28.615929001804542,
          -29.513710516845496,
          -28.63731215426536,
          -28.93647595476419,
          -29.4211214465561,
          -28.784350524988103,
          -28.947502210692736,
          -28.404152812155168,
          -29.331536252523552,
          -28.551252944809722,
          -29.32406957532311,
          -28.68887275707967,
          -29.26399786118058,
          -29.975133588913735,
          -28.315371316732552,
          -30.9963186096312,
          -29.69458430365893,
          -29.550164761585755,
          -29.205368240005107,
          -29.10137666385793
         ],
         "xaxis": "x",
         "y": [
          67.09137720655245,
          68.70582883730305,
          67.89866702151927,
          68.59835742967226,
          68.62381992686525,
          67.89725700355747,
          68.71388020194888,
          68.11038843350688,
          67.98349400758617,
          68.65516204861153,
          67.77188441562195,
          67.96563085323524,
          68.97966110086038,
          69.28064038908175,
          67.64345138639817,
          68.60656679106901,
          68.3861196611909,
          69.57201391425413,
          68.06571990493353,
          69.04815645882245
         ],
         "yaxis": "y"
        },
        {
         "marker": {
          "color": "darkblue",
          "line": {
           "width": 0
          },
          "opacity": 0.8,
          "size": 6,
          "symbol": "circle"
         },
         "mode": "markers",
         "name": "3",
         "type": "scatter",
         "x": [
          -16.698025016209602,
          -19.380145319352167,
          -21.197671279172084,
          -28.572173358472984,
          -25.83913076823369
         ],
         "xaxis": "x",
         "y": [
          -19.512176173290527,
          -16.930793569012796,
          -21.450653005349025,
          -22.589964894944185,
          -20.629360283106468
         ],
         "yaxis": "y"
        },
        {
         "marker": {
          "color": "darkcyan",
          "line": {
           "width": 0
          },
          "opacity": 0.8,
          "size": 6,
          "symbol": "circle"
         },
         "mode": "markers",
         "name": "4",
         "type": "scatter",
         "x": [
          -0.07973532369331189,
          -3.178533781540115,
          -1.3143198901820334
         ],
         "xaxis": "x",
         "y": [
          21.22333069936915,
          19.915143783808507,
          11.923141778376818
         ],
         "yaxis": "y"
        },
        {
         "marker": {
          "color": "darkgoldenrod",
          "line": {
           "width": 0
          },
          "opacity": 0.8,
          "size": 6,
          "symbol": "circle"
         },
         "mode": "markers",
         "name": "5",
         "type": "scatter",
         "x": [
          -8.270734289451603,
          -11.360404579598042,
          -7.393359731130557
         ],
         "xaxis": "x",
         "y": [
          5.420988349964178,
          10.83389177669182,
          4.937421350131204
         ],
         "yaxis": "y"
        },
        {
         "marker": {
          "color": "darkgray",
          "line": {
           "width": 0
          },
          "opacity": 0.8,
          "size": 6,
          "symbol": "circle"
         },
         "mode": "markers",
         "name": "6",
         "type": "scatter",
         "x": [
          -30.538898484865502,
          -35.1670171700632,
          -31.87261402453031,
          -33.76319732176742
         ],
         "xaxis": "x",
         "y": [
          -8.222968600631136,
          -1.8997289872615999,
          -0.19033365966875848,
          -5.293082470077182
         ],
         "yaxis": "y"
        },
        {
         "marker": {
          "color": "darkgrey",
          "line": {
           "width": 0
          },
          "opacity": 0.8,
          "size": 6,
          "symbol": "circle"
         },
         "mode": "markers",
         "name": "7",
         "type": "scatter",
         "x": [
          55.0344167045941,
          45.5904790806388
         ],
         "xaxis": "x",
         "y": [
          -3.653974867809937,
          -5.894844873569274
         ],
         "yaxis": "y"
        },
        {
         "marker": {
          "color": "darkgreen",
          "line": {
           "width": 0
          },
          "opacity": 0.8,
          "size": 6,
          "symbol": "circle"
         },
         "mode": "markers",
         "name": "8",
         "type": "scatter",
         "x": [
          7.059352384527494,
          7.346794005765689
         ],
         "xaxis": "x",
         "y": [
          -9.916195710639068,
          -8.337827393925414
         ],
         "yaxis": "y"
        },
        {
         "marker": {
          "color": "darkkhaki",
          "line": {
           "width": 0
          },
          "opacity": 0.8,
          "size": 6,
          "symbol": "circle"
         },
         "mode": "markers",
         "name": "9",
         "type": "scatter",
         "x": [
          -19.87906085829425,
          -19.652901036665785
         ],
         "xaxis": "x",
         "y": [
          -5.656153213306001,
          -3.963890022402388
         ],
         "yaxis": "y"
        },
        {
         "marker": {
          "color": "darkmagenta",
          "line": {
           "width": 0
          },
          "opacity": 0.8,
          "size": 6,
          "symbol": "circle"
         },
         "mode": "markers",
         "name": "10",
         "type": "scatter",
         "x": [
          22.55438051207265
         ],
         "xaxis": "x",
         "y": [
          -8.469812183816396
         ],
         "yaxis": "y"
        },
        {
         "marker": {
          "color": "darkolivegreen",
          "line": {
           "width": 0
          },
          "opacity": 0.8,
          "size": 6,
          "symbol": "circle"
         },
         "mode": "markers",
         "name": "11",
         "type": "scatter",
         "x": [
          17.44320483476864
         ],
         "xaxis": "x",
         "y": [
          -13.527423647007998
         ],
         "yaxis": "y"
        },
        {
         "marker": {
          "color": "darkorange",
          "line": {
           "width": 0
          },
          "opacity": 0.8,
          "size": 6,
          "symbol": "circle"
         },
         "mode": "markers",
         "name": "12",
         "type": "scatter",
         "x": [
          15.624952030230634
         ],
         "xaxis": "x",
         "y": [
          -7.387778372465664
         ],
         "yaxis": "y"
        },
        {
         "marker": {
          "color": "darkorchid",
          "line": {
           "width": 0
          },
          "opacity": 0.8,
          "size": 6,
          "symbol": "circle"
         },
         "mode": "markers",
         "name": "13",
         "type": "scatter",
         "x": [
          6.033188831181277
         ],
         "xaxis": "x",
         "y": [
          -11.04951495264043
         ],
         "yaxis": "y"
        },
        {
         "marker": {
          "color": "darkred",
          "line": {
           "width": 0
          },
          "opacity": 0.8,
          "size": 6,
          "symbol": "circle"
         },
         "mode": "markers",
         "name": "14",
         "type": "scatter",
         "x": [
          1.0402578206388915
         ],
         "xaxis": "x",
         "y": [
          -3.236860035739425
         ],
         "yaxis": "y"
        },
        {
         "marker": {
          "color": "darksalmon",
          "line": {
           "width": 0
          },
          "opacity": 0.8,
          "size": 6,
          "symbol": "circle"
         },
         "mode": "markers",
         "name": "15",
         "type": "scatter",
         "x": [
          -5.0082095145706145
         ],
         "xaxis": "x",
         "y": [
          -17.620622516324488
         ],
         "yaxis": "y"
        },
        {
         "marker": {
          "color": "darkseagreen",
          "line": {
           "width": 0
          },
          "opacity": 0.8,
          "size": 6,
          "symbol": "circle"
         },
         "mode": "markers",
         "name": "16",
         "type": "scatter",
         "x": [
          -17.77139812889599
         ],
         "xaxis": "x",
         "y": [
          -14.565219991145778
         ],
         "yaxis": "y"
        },
        {
         "marker": {
          "color": "darkseagreen",
          "line": {
           "width": 0
          },
          "opacity": 0.8,
          "size": 6,
          "symbol": "circle"
         },
         "mode": "markers",
         "name": "0",
         "type": "scatter",
         "x": [
          68.46982882091996,
          67.72909589120712,
          67.49967218129609,
          66.79416046470033,
          66.15222350109461,
          69.38764359213941,
          68.77342022781563,
          68.01622651661401,
          67.82832276365787,
          67.98258544441411,
          67.98952654453623,
          66.07245334340332,
          67.49916072799385,
          67.87421029627163,
          67.69820548129253,
          67.35545741252825,
          66.96127749058988,
          67.31303580885255,
          67.59533061079517,
          67.89973700648781,
          67.26773501628125,
          68.38060103769163,
          67.49850988624034,
          65.68590828657908,
          67.76796519876285,
          67.85563449061391,
          67.78622919258866,
          68.28531641761103,
          67.16063272299903,
          67.18265984833566,
          68.03080946784858,
          67.80150165280244,
          66.27307670491463,
          67.32594444958544,
          68.13437085760998,
          67.78090534560597,
          67.64473674444704,
          66.78721302217626,
          66.73804956646133,
          66.12644353760872
         ],
         "xaxis": "x2",
         "y": [
          -5.0932635257336525,
          -6.06510435833696,
          -4.980303459777615,
          -4.547394554162691,
          -6.010092918855208,
          -6.8462713175704835,
          -5.225617336563281,
          -5.642526346309749,
          -5.797932812798795,
          -6.168898151053581,
          -5.759656185637968,
          -4.562833311561854,
          -4.489602017271544,
          -6.002695677859971,
          -5.591634009033517,
          -5.931388778958544,
          -6.192482751744642,
          -5.9163626706605,
          -4.942021484309364,
          -5.656548016502056,
          -5.402787388784504,
          -5.188130475269321,
          -6.007672740169704,
          -5.336467722802102,
          -5.90824952970708,
          -5.6012965341150345,
          -5.033454823187474,
          -5.380705873796621,
          -5.6026035619193015,
          -4.490129887061477,
          -5.370541256694698,
          -5.090527623582973,
          -6.418310866370599,
          -5.557783551437294,
          -6.043736882344575,
          -5.4997186165219585,
          -5.733312466529054,
          -5.938451956066397,
          -5.169199478028535,
          -4.518561880898859
         ],
         "yaxis": "y2"
        },
        {
         "marker": {
          "color": "crimson",
          "line": {
           "width": 0
          },
          "opacity": 0.8,
          "size": 6,
          "symbol": "circle"
         },
         "mode": "markers",
         "name": "1",
         "type": "scatter",
         "x": [
          -47.55316216829906,
          -47.41807942257735,
          -45.80763731629668,
          -47.31261651495337,
          -46.57242755563268,
          -46.16346844830044,
          -47.11138774223824,
          -46.16077345309201,
          -47.56388565117332,
          -45.63560631439618,
          -46.245638036913434,
          -45.89345243442433,
          -45.57494433582407,
          -47.01250268693536,
          -47.92706195463723,
          -45.059912957555234,
          -47.68165646681633,
          -47.5856784124417,
          -47.94735468672811,
          -46.37352323371308,
          -46.07739754629665,
          -47.58691756141079,
          -47.49749116426143,
          -47.11043358500419,
          -48.046830542700974,
          -47.83720878980202,
          -47.450643347100325,
          -46.56832669215968,
          -47.37230663900219,
          -47.21541345042812,
          -46.61955751850311,
          -47.54684702494865,
          -47.446680615287974,
          -45.88441320040586,
          -48.93938012635003,
          -45.854216093972944,
          -46.9020546532053,
          -47.95552012515158,
          -47.0108590502937,
          -47.266931393606804,
          -43.54013153240375,
          -35.60638195848541
         ],
         "xaxis": "x2",
         "y": [
          -8.077473250651373,
          -8.248971719713284,
          -6.340447311661737,
          -7.897781989205221,
          -9.14080828884197,
          -8.39915015194666,
          -7.560224098249937,
          -6.2842886532296625,
          -8.01704645580236,
          -7.750631430358072,
          -6.233367835053445,
          -6.615491945111207,
          -6.288528246412142,
          -6.836257264377668,
          -6.85263691225728,
          -9.765152179788995,
          -6.365586702487671,
          -8.313464512051668,
          -8.677926961935087,
          -7.83080423638512,
          -6.570975087856211,
          -7.101455901867881,
          -8.062879607341712,
          -7.858800168086776,
          -6.540292605322633,
          -6.160300974991026,
          -6.930642481834606,
          -10.428774792235595,
          -8.22390069144701,
          -6.562167082959176,
          -7.624873459348047,
          -8.499212668536295,
          -6.818879107551844,
          -7.2474558589255365,
          -7.6243416951393215,
          -7.75237989990517,
          -7.429676977035876,
          -5.813401508816846,
          -6.782678902608084,
          -6.002079077637508,
          1.1314029833095056,
          -9.433672675921825
         ],
         "yaxis": "y2"
        },
        {
         "marker": {
          "color": "darkorange",
          "line": {
           "width": 0
          },
          "opacity": 0.8,
          "size": 6,
          "symbol": "circle"
         },
         "mode": "markers",
         "name": "2",
         "type": "scatter",
         "x": [
          -28.615929001804542,
          -29.513710516845496,
          -28.63731215426536,
          -28.93647595476419,
          -29.4211214465561,
          -28.784350524988103,
          -28.947502210692736,
          -28.404152812155168,
          -29.331536252523552,
          -28.551252944809722,
          -29.32406957532311,
          -28.68887275707967,
          -29.26399786118058,
          -29.975133588913735,
          -28.315371316732552,
          -30.9963186096312,
          -29.69458430365893,
          -29.550164761585755,
          -29.205368240005107,
          -29.10137666385793
         ],
         "xaxis": "x2",
         "y": [
          -11.793495936431137,
          -9.90182538979001,
          -9.762909265859795,
          -10.034354112487812,
          -9.52030041782354,
          -10.933069965079785,
          -9.799421684840075,
          -11.733001817268107,
          -11.327158569393907,
          -12.69090003978314,
          -10.524845170941052,
          -10.041052757420577,
          -10.064789149589059,
          -10.539360813172811,
          -11.0752964093665,
          -9.836263033363936,
          -10.16978282084824,
          -8.479447216555728,
          -11.452514197897568,
          -10.516342882168884
         ],
         "yaxis": "y2"
        },
        {
         "marker": {
          "color": "darkblue",
          "line": {
           "width": 0
          },
          "opacity": 0.8,
          "size": 6,
          "symbol": "circle"
         },
         "mode": "markers",
         "name": "3",
         "type": "scatter",
         "x": [
          -16.698025016209602,
          -19.380145319352167,
          -21.197671279172084,
          -28.572173358472984,
          -25.83913076823369
         ],
         "xaxis": "x2",
         "y": [
          -9.46749161511795,
          -8.615258176439204,
          -8.764366523318008,
          -5.824761530643983,
          -9.46448227573138
         ],
         "yaxis": "y2"
        },
        {
         "marker": {
          "color": "darkcyan",
          "line": {
           "width": 0
          },
          "opacity": 0.8,
          "size": 6,
          "symbol": "circle"
         },
         "mode": "markers",
         "name": "4",
         "type": "scatter",
         "x": [
          -0.07973532369331189,
          -3.178533781540115,
          -1.3143198901820334
         ],
         "xaxis": "x2",
         "y": [
          92.53304779403325,
          84.17734263146322,
          94.17798397002872
         ],
         "yaxis": "y2"
        },
        {
         "marker": {
          "color": "darkgoldenrod",
          "line": {
           "width": 0
          },
          "opacity": 0.8,
          "size": 6,
          "symbol": "circle"
         },
         "mode": "markers",
         "name": "5",
         "type": "scatter",
         "x": [
          -8.270734289451603,
          -11.360404579598042,
          -7.393359731130557
         ],
         "xaxis": "x2",
         "y": [
          80.29256614414044,
          73.12981705638104,
          76.48637365712662
         ],
         "yaxis": "y2"
        },
        {
         "marker": {
          "color": "darkgray",
          "line": {
           "width": 0
          },
          "opacity": 0.8,
          "size": 6,
          "symbol": "circle"
         },
         "mode": "markers",
         "name": "6",
         "type": "scatter",
         "x": [
          -30.538898484865502,
          -35.1670171700632,
          -31.87261402453031,
          -33.76319732176742
         ],
         "xaxis": "x2",
         "y": [
          29.447902976497986,
          13.63564764905038,
          14.60616879079178,
          21.91701965320128
         ],
         "yaxis": "y2"
        },
        {
         "marker": {
          "color": "darkgrey",
          "line": {
           "width": 0
          },
          "opacity": 0.8,
          "size": 6,
          "symbol": "circle"
         },
         "mode": "markers",
         "name": "7",
         "type": "scatter",
         "x": [
          55.0344167045941,
          45.5904790806388
         ],
         "xaxis": "x2",
         "y": [
          3.5683170231118133,
          0.6339575040131871
         ],
         "yaxis": "y2"
        },
        {
         "marker": {
          "color": "darkgreen",
          "line": {
           "width": 0
          },
          "opacity": 0.8,
          "size": 6,
          "symbol": "circle"
         },
         "mode": "markers",
         "name": "8",
         "type": "scatter",
         "x": [
          7.059352384527494,
          7.346794005765689
         ],
         "xaxis": "x2",
         "y": [
          9.418680374255993,
          17.20819062155498
         ],
         "yaxis": "y2"
        },
        {
         "marker": {
          "color": "darkkhaki",
          "line": {
           "width": 0
          },
          "opacity": 0.8,
          "size": 6,
          "symbol": "circle"
         },
         "mode": "markers",
         "name": "9",
         "type": "scatter",
         "x": [
          -19.87906085829425,
          -19.652901036665785
         ],
         "xaxis": "x2",
         "y": [
          54.88148816342314,
          53.1289697611989
         ],
         "yaxis": "y2"
        },
        {
         "marker": {
          "color": "darkmagenta",
          "line": {
           "width": 0
          },
          "opacity": 0.8,
          "size": 6,
          "symbol": "circle"
         },
         "mode": "markers",
         "name": "10",
         "type": "scatter",
         "x": [
          22.55438051207265
         ],
         "xaxis": "x2",
         "y": [
          8.611151449248846
         ],
         "yaxis": "y2"
        },
        {
         "marker": {
          "color": "darkolivegreen",
          "line": {
           "width": 0
          },
          "opacity": 0.8,
          "size": 6,
          "symbol": "circle"
         },
         "mode": "markers",
         "name": "11",
         "type": "scatter",
         "x": [
          17.44320483476864
         ],
         "xaxis": "x2",
         "y": [
          -5.153550376367233
         ],
         "yaxis": "y2"
        },
        {
         "marker": {
          "color": "darkorange",
          "line": {
           "width": 0
          },
          "opacity": 0.8,
          "size": 6,
          "symbol": "circle"
         },
         "mode": "markers",
         "name": "12",
         "type": "scatter",
         "x": [
          15.624952030230634
         ],
         "xaxis": "x2",
         "y": [
          25.13890325369802
         ],
         "yaxis": "y2"
        },
        {
         "marker": {
          "color": "darkorchid",
          "line": {
           "width": 0
          },
          "opacity": 0.8,
          "size": 6,
          "symbol": "circle"
         },
         "mode": "markers",
         "name": "13",
         "type": "scatter",
         "x": [
          6.033188831181277
         ],
         "xaxis": "x2",
         "y": [
          -4.948740144358734
         ],
         "yaxis": "y2"
        },
        {
         "marker": {
          "color": "darkred",
          "line": {
           "width": 0
          },
          "opacity": 0.8,
          "size": 6,
          "symbol": "circle"
         },
         "mode": "markers",
         "name": "14",
         "type": "scatter",
         "x": [
          1.0402578206388915
         ],
         "xaxis": "x2",
         "y": [
          33.9911882230806
         ],
         "yaxis": "y2"
        },
        {
         "marker": {
          "color": "darksalmon",
          "line": {
           "width": 0
          },
          "opacity": 0.8,
          "size": 6,
          "symbol": "circle"
         },
         "mode": "markers",
         "name": "15",
         "type": "scatter",
         "x": [
          -5.0082095145706145
         ],
         "xaxis": "x2",
         "y": [
          -8.375994753187294
         ],
         "yaxis": "y2"
        },
        {
         "marker": {
          "color": "darkseagreen",
          "line": {
           "width": 0
          },
          "opacity": 0.8,
          "size": 6,
          "symbol": "circle"
         },
         "mode": "markers",
         "name": "16",
         "type": "scatter",
         "x": [
          -17.77139812889599
         ],
         "xaxis": "x2",
         "y": [
          10.373811536514769
         ],
         "yaxis": "y2"
        }
       ],
       "layout": {
        "annotations": [
         {
          "font": {
           "size": 16
          },
          "showarrow": false,
          "text": "global_pca",
          "x": 0.225,
          "xanchor": "center",
          "xref": "paper",
          "y": 1,
          "yanchor": "bottom",
          "yref": "paper"
         },
         {
          "font": {
           "size": 16
          },
          "showarrow": false,
          "text": "global_pca",
          "x": 0.775,
          "xanchor": "center",
          "xref": "paper",
          "y": 1,
          "yanchor": "bottom",
          "yref": "paper"
         }
        ],
        "height": 500,
        "template": {
         "data": {
          "bar": [
           {
            "error_x": {
             "color": "#2a3f5f"
            },
            "error_y": {
             "color": "#2a3f5f"
            },
            "marker": {
             "line": {
              "color": "#E5ECF6",
              "width": 0.5
             }
            },
            "type": "bar"
           }
          ],
          "barpolar": [
           {
            "marker": {
             "line": {
              "color": "#E5ECF6",
              "width": 0.5
             }
            },
            "type": "barpolar"
           }
          ],
          "carpet": [
           {
            "aaxis": {
             "endlinecolor": "#2a3f5f",
             "gridcolor": "white",
             "linecolor": "white",
             "minorgridcolor": "white",
             "startlinecolor": "#2a3f5f"
            },
            "baxis": {
             "endlinecolor": "#2a3f5f",
             "gridcolor": "white",
             "linecolor": "white",
             "minorgridcolor": "white",
             "startlinecolor": "#2a3f5f"
            },
            "type": "carpet"
           }
          ],
          "choropleth": [
           {
            "colorbar": {
             "outlinewidth": 0,
             "ticks": ""
            },
            "type": "choropleth"
           }
          ],
          "contour": [
           {
            "colorbar": {
             "outlinewidth": 0,
             "ticks": ""
            },
            "colorscale": [
             [
              0,
              "#0d0887"
             ],
             [
              0.1111111111111111,
              "#46039f"
             ],
             [
              0.2222222222222222,
              "#7201a8"
             ],
             [
              0.3333333333333333,
              "#9c179e"
             ],
             [
              0.4444444444444444,
              "#bd3786"
             ],
             [
              0.5555555555555556,
              "#d8576b"
             ],
             [
              0.6666666666666666,
              "#ed7953"
             ],
             [
              0.7777777777777778,
              "#fb9f3a"
             ],
             [
              0.8888888888888888,
              "#fdca26"
             ],
             [
              1,
              "#f0f921"
             ]
            ],
            "type": "contour"
           }
          ],
          "contourcarpet": [
           {
            "colorbar": {
             "outlinewidth": 0,
             "ticks": ""
            },
            "type": "contourcarpet"
           }
          ],
          "heatmap": [
           {
            "colorbar": {
             "outlinewidth": 0,
             "ticks": ""
            },
            "colorscale": [
             [
              0,
              "#0d0887"
             ],
             [
              0.1111111111111111,
              "#46039f"
             ],
             [
              0.2222222222222222,
              "#7201a8"
             ],
             [
              0.3333333333333333,
              "#9c179e"
             ],
             [
              0.4444444444444444,
              "#bd3786"
             ],
             [
              0.5555555555555556,
              "#d8576b"
             ],
             [
              0.6666666666666666,
              "#ed7953"
             ],
             [
              0.7777777777777778,
              "#fb9f3a"
             ],
             [
              0.8888888888888888,
              "#fdca26"
             ],
             [
              1,
              "#f0f921"
             ]
            ],
            "type": "heatmap"
           }
          ],
          "heatmapgl": [
           {
            "colorbar": {
             "outlinewidth": 0,
             "ticks": ""
            },
            "colorscale": [
             [
              0,
              "#0d0887"
             ],
             [
              0.1111111111111111,
              "#46039f"
             ],
             [
              0.2222222222222222,
              "#7201a8"
             ],
             [
              0.3333333333333333,
              "#9c179e"
             ],
             [
              0.4444444444444444,
              "#bd3786"
             ],
             [
              0.5555555555555556,
              "#d8576b"
             ],
             [
              0.6666666666666666,
              "#ed7953"
             ],
             [
              0.7777777777777778,
              "#fb9f3a"
             ],
             [
              0.8888888888888888,
              "#fdca26"
             ],
             [
              1,
              "#f0f921"
             ]
            ],
            "type": "heatmapgl"
           }
          ],
          "histogram": [
           {
            "marker": {
             "colorbar": {
              "outlinewidth": 0,
              "ticks": ""
             }
            },
            "type": "histogram"
           }
          ],
          "histogram2d": [
           {
            "colorbar": {
             "outlinewidth": 0,
             "ticks": ""
            },
            "colorscale": [
             [
              0,
              "#0d0887"
             ],
             [
              0.1111111111111111,
              "#46039f"
             ],
             [
              0.2222222222222222,
              "#7201a8"
             ],
             [
              0.3333333333333333,
              "#9c179e"
             ],
             [
              0.4444444444444444,
              "#bd3786"
             ],
             [
              0.5555555555555556,
              "#d8576b"
             ],
             [
              0.6666666666666666,
              "#ed7953"
             ],
             [
              0.7777777777777778,
              "#fb9f3a"
             ],
             [
              0.8888888888888888,
              "#fdca26"
             ],
             [
              1,
              "#f0f921"
             ]
            ],
            "type": "histogram2d"
           }
          ],
          "histogram2dcontour": [
           {
            "colorbar": {
             "outlinewidth": 0,
             "ticks": ""
            },
            "colorscale": [
             [
              0,
              "#0d0887"
             ],
             [
              0.1111111111111111,
              "#46039f"
             ],
             [
              0.2222222222222222,
              "#7201a8"
             ],
             [
              0.3333333333333333,
              "#9c179e"
             ],
             [
              0.4444444444444444,
              "#bd3786"
             ],
             [
              0.5555555555555556,
              "#d8576b"
             ],
             [
              0.6666666666666666,
              "#ed7953"
             ],
             [
              0.7777777777777778,
              "#fb9f3a"
             ],
             [
              0.8888888888888888,
              "#fdca26"
             ],
             [
              1,
              "#f0f921"
             ]
            ],
            "type": "histogram2dcontour"
           }
          ],
          "mesh3d": [
           {
            "colorbar": {
             "outlinewidth": 0,
             "ticks": ""
            },
            "type": "mesh3d"
           }
          ],
          "parcoords": [
           {
            "line": {
             "colorbar": {
              "outlinewidth": 0,
              "ticks": ""
             }
            },
            "type": "parcoords"
           }
          ],
          "pie": [
           {
            "automargin": true,
            "type": "pie"
           }
          ],
          "scatter": [
           {
            "marker": {
             "colorbar": {
              "outlinewidth": 0,
              "ticks": ""
             }
            },
            "type": "scatter"
           }
          ],
          "scatter3d": [
           {
            "line": {
             "colorbar": {
              "outlinewidth": 0,
              "ticks": ""
             }
            },
            "marker": {
             "colorbar": {
              "outlinewidth": 0,
              "ticks": ""
             }
            },
            "type": "scatter3d"
           }
          ],
          "scattercarpet": [
           {
            "marker": {
             "colorbar": {
              "outlinewidth": 0,
              "ticks": ""
             }
            },
            "type": "scattercarpet"
           }
          ],
          "scattergeo": [
           {
            "marker": {
             "colorbar": {
              "outlinewidth": 0,
              "ticks": ""
             }
            },
            "type": "scattergeo"
           }
          ],
          "scattergl": [
           {
            "marker": {
             "colorbar": {
              "outlinewidth": 0,
              "ticks": ""
             }
            },
            "type": "scattergl"
           }
          ],
          "scattermapbox": [
           {
            "marker": {
             "colorbar": {
              "outlinewidth": 0,
              "ticks": ""
             }
            },
            "type": "scattermapbox"
           }
          ],
          "scatterpolar": [
           {
            "marker": {
             "colorbar": {
              "outlinewidth": 0,
              "ticks": ""
             }
            },
            "type": "scatterpolar"
           }
          ],
          "scatterpolargl": [
           {
            "marker": {
             "colorbar": {
              "outlinewidth": 0,
              "ticks": ""
             }
            },
            "type": "scatterpolargl"
           }
          ],
          "scatterternary": [
           {
            "marker": {
             "colorbar": {
              "outlinewidth": 0,
              "ticks": ""
             }
            },
            "type": "scatterternary"
           }
          ],
          "surface": [
           {
            "colorbar": {
             "outlinewidth": 0,
             "ticks": ""
            },
            "colorscale": [
             [
              0,
              "#0d0887"
             ],
             [
              0.1111111111111111,
              "#46039f"
             ],
             [
              0.2222222222222222,
              "#7201a8"
             ],
             [
              0.3333333333333333,
              "#9c179e"
             ],
             [
              0.4444444444444444,
              "#bd3786"
             ],
             [
              0.5555555555555556,
              "#d8576b"
             ],
             [
              0.6666666666666666,
              "#ed7953"
             ],
             [
              0.7777777777777778,
              "#fb9f3a"
             ],
             [
              0.8888888888888888,
              "#fdca26"
             ],
             [
              1,
              "#f0f921"
             ]
            ],
            "type": "surface"
           }
          ],
          "table": [
           {
            "cells": {
             "fill": {
              "color": "#EBF0F8"
             },
             "line": {
              "color": "white"
             }
            },
            "header": {
             "fill": {
              "color": "#C8D4E3"
             },
             "line": {
              "color": "white"
             }
            },
            "type": "table"
           }
          ]
         },
         "layout": {
          "annotationdefaults": {
           "arrowcolor": "#2a3f5f",
           "arrowhead": 0,
           "arrowwidth": 1
          },
          "coloraxis": {
           "colorbar": {
            "outlinewidth": 0,
            "ticks": ""
           }
          },
          "colorscale": {
           "diverging": [
            [
             0,
             "#8e0152"
            ],
            [
             0.1,
             "#c51b7d"
            ],
            [
             0.2,
             "#de77ae"
            ],
            [
             0.3,
             "#f1b6da"
            ],
            [
             0.4,
             "#fde0ef"
            ],
            [
             0.5,
             "#f7f7f7"
            ],
            [
             0.6,
             "#e6f5d0"
            ],
            [
             0.7,
             "#b8e186"
            ],
            [
             0.8,
             "#7fbc41"
            ],
            [
             0.9,
             "#4d9221"
            ],
            [
             1,
             "#276419"
            ]
           ],
           "sequential": [
            [
             0,
             "#0d0887"
            ],
            [
             0.1111111111111111,
             "#46039f"
            ],
            [
             0.2222222222222222,
             "#7201a8"
            ],
            [
             0.3333333333333333,
             "#9c179e"
            ],
            [
             0.4444444444444444,
             "#bd3786"
            ],
            [
             0.5555555555555556,
             "#d8576b"
            ],
            [
             0.6666666666666666,
             "#ed7953"
            ],
            [
             0.7777777777777778,
             "#fb9f3a"
            ],
            [
             0.8888888888888888,
             "#fdca26"
            ],
            [
             1,
             "#f0f921"
            ]
           ],
           "sequentialminus": [
            [
             0,
             "#0d0887"
            ],
            [
             0.1111111111111111,
             "#46039f"
            ],
            [
             0.2222222222222222,
             "#7201a8"
            ],
            [
             0.3333333333333333,
             "#9c179e"
            ],
            [
             0.4444444444444444,
             "#bd3786"
            ],
            [
             0.5555555555555556,
             "#d8576b"
            ],
            [
             0.6666666666666666,
             "#ed7953"
            ],
            [
             0.7777777777777778,
             "#fb9f3a"
            ],
            [
             0.8888888888888888,
             "#fdca26"
            ],
            [
             1,
             "#f0f921"
            ]
           ]
          },
          "colorway": [
           "#636efa",
           "#EF553B",
           "#00cc96",
           "#ab63fa",
           "#FFA15A",
           "#19d3f3",
           "#FF6692",
           "#B6E880",
           "#FF97FF",
           "#FECB52"
          ],
          "font": {
           "color": "#2a3f5f"
          },
          "geo": {
           "bgcolor": "white",
           "lakecolor": "white",
           "landcolor": "#E5ECF6",
           "showlakes": true,
           "showland": true,
           "subunitcolor": "white"
          },
          "hoverlabel": {
           "align": "left"
          },
          "hovermode": "closest",
          "mapbox": {
           "style": "light"
          },
          "paper_bgcolor": "white",
          "plot_bgcolor": "#E5ECF6",
          "polar": {
           "angularaxis": {
            "gridcolor": "white",
            "linecolor": "white",
            "ticks": ""
           },
           "bgcolor": "#E5ECF6",
           "radialaxis": {
            "gridcolor": "white",
            "linecolor": "white",
            "ticks": ""
           }
          },
          "scene": {
           "xaxis": {
            "backgroundcolor": "#E5ECF6",
            "gridcolor": "white",
            "gridwidth": 2,
            "linecolor": "white",
            "showbackground": true,
            "ticks": "",
            "zerolinecolor": "white"
           },
           "yaxis": {
            "backgroundcolor": "#E5ECF6",
            "gridcolor": "white",
            "gridwidth": 2,
            "linecolor": "white",
            "showbackground": true,
            "ticks": "",
            "zerolinecolor": "white"
           },
           "zaxis": {
            "backgroundcolor": "#E5ECF6",
            "gridcolor": "white",
            "gridwidth": 2,
            "linecolor": "white",
            "showbackground": true,
            "ticks": "",
            "zerolinecolor": "white"
           }
          },
          "shapedefaults": {
           "line": {
            "color": "#2a3f5f"
           }
          },
          "ternary": {
           "aaxis": {
            "gridcolor": "white",
            "linecolor": "white",
            "ticks": ""
           },
           "baxis": {
            "gridcolor": "white",
            "linecolor": "white",
            "ticks": ""
           },
           "bgcolor": "#E5ECF6",
           "caxis": {
            "gridcolor": "white",
            "linecolor": "white",
            "ticks": ""
           }
          },
          "title": {
           "x": 0.05
          },
          "xaxis": {
           "automargin": true,
           "gridcolor": "white",
           "linecolor": "white",
           "ticks": "",
           "title": {
            "standoff": 15
           },
           "zerolinecolor": "white",
           "zerolinewidth": 2
          },
          "yaxis": {
           "automargin": true,
           "gridcolor": "white",
           "linecolor": "white",
           "ticks": "",
           "title": {
            "standoff": 15
           },
           "zerolinecolor": "white",
           "zerolinewidth": 2
          }
         }
        },
        "width": 950,
        "xaxis": {
         "anchor": "y",
         "domain": [
          0,
          0.45
         ],
         "title": {
          "text": "PC1"
         }
        },
        "xaxis2": {
         "anchor": "y2",
         "domain": [
          0.55,
          1
         ],
         "title": {
          "text": "PC1"
         }
        },
        "yaxis": {
         "anchor": "x",
         "domain": [
          0,
          1
         ],
         "title": {
          "text": "PC2"
         }
        },
        "yaxis2": {
         "anchor": "x2",
         "domain": [
          0,
          1
         ],
         "title": {
          "text": "PC3"
         }
        }
       }
      },
      "text/html": [
       "<div>\n",
       "        \n",
       "        \n",
       "            <div id=\"8887954f-9d5f-4547-a6b2-1566673dc8fc\" class=\"plotly-graph-div\" style=\"height:500px; width:950px;\"></div>\n",
       "            <script type=\"text/javascript\">\n",
       "                require([\"plotly\"], function(Plotly) {\n",
       "                    window.PLOTLYENV=window.PLOTLYENV || {};\n",
       "                    \n",
       "                if (document.getElementById(\"8887954f-9d5f-4547-a6b2-1566673dc8fc\")) {\n",
       "                    Plotly.newPlot(\n",
       "                        '8887954f-9d5f-4547-a6b2-1566673dc8fc',\n",
       "                        [{\"marker\": {\"color\": \"darkseagreen\", \"line\": {\"width\": 0}, \"opacity\": 0.8, \"size\": 6, \"symbol\": \"circle\"}, \"mode\": \"markers\", \"name\": \"0\", \"type\": \"scatter\", \"x\": [68.46982882091996, 67.72909589120712, 67.49967218129609, 66.79416046470033, 66.15222350109461, 69.38764359213941, 68.77342022781563, 68.01622651661401, 67.82832276365787, 67.98258544441411, 67.98952654453623, 66.07245334340332, 67.49916072799385, 67.87421029627163, 67.69820548129253, 67.35545741252825, 66.96127749058988, 67.31303580885255, 67.59533061079517, 67.89973700648781, 67.26773501628125, 68.38060103769163, 67.49850988624034, 65.68590828657908, 67.76796519876285, 67.85563449061391, 67.78622919258866, 68.28531641761103, 67.16063272299903, 67.18265984833566, 68.03080946784858, 67.80150165280244, 66.27307670491463, 67.32594444958544, 68.13437085760998, 67.78090534560597, 67.64473674444704, 66.78721302217626, 66.73804956646133, 66.12644353760872], \"xaxis\": \"x\", \"y\": [-4.35816343107683, -3.3036292816904878, -4.977945591805318, -3.0339447533018125, -3.307089581321336, -4.348753437381289, -4.075217595572503, -4.7596666179668565, -4.2329128705585815, -4.2108187030416575, -5.099175079075276, -4.5426288206282734, -4.361385657532668, -4.0055915527563535, -4.2616830740289595, -3.204187789085864, -4.148348886856827, -3.592054808673604, -4.098859125562833, -4.973860906336659, -3.6634779060511944, -5.186846360301313, -3.3174664607450604, -4.237920499016654, -4.836735019193282, -4.036833339247917, -3.7677148623153545, -4.104089345862244, -3.700912301417723, -3.5719009715668797, -3.6988359697271966, -3.211291678884076, -3.9051416365677167, -4.292874948344849, -3.105865103733964, -5.067690213326004, -4.1669057861614105, -3.8006471310359373, -3.7585139610112925, -3.8300011058015455], \"yaxis\": \"y\"}, {\"marker\": {\"color\": \"crimson\", \"line\": {\"width\": 0}, \"opacity\": 0.8, \"size\": 6, \"symbol\": \"circle\"}, \"mode\": \"markers\", \"name\": \"1\", \"type\": \"scatter\", \"x\": [-47.55316216829906, -47.41807942257735, -45.80763731629668, -47.31261651495337, -46.57242755563268, -46.16346844830044, -47.11138774223824, -46.16077345309201, -47.56388565117332, -45.63560631439618, -46.245638036913434, -45.89345243442433, -45.57494433582407, -47.01250268693536, -47.92706195463723, -45.059912957555234, -47.68165646681633, -47.5856784124417, -47.94735468672811, -46.37352323371308, -46.07739754629665, -47.58691756141079, -47.49749116426143, -47.11043358500419, -48.046830542700974, -47.83720878980202, -47.450643347100325, -46.56832669215968, -47.37230663900219, -47.21541345042812, -46.61955751850311, -47.54684702494865, -47.446680615287974, -45.88441320040586, -48.93938012635003, -45.854216093972944, -46.9020546532053, -47.95552012515158, -47.0108590502937, -47.266931393606804, -43.54013153240375, -35.60638195848541], \"xaxis\": \"x\", \"y\": [-25.12675667729295, -25.06595237552426, -25.67479324097996, -25.619114122602348, -25.147163820846526, -26.725832274915508, -25.68552467394498, -26.02275742716754, -25.932124849816688, -25.37212633713296, -25.392911768866878, -24.89223465449782, -24.903700794938565, -26.11656445374366, -25.142980197406917, -24.91092262448355, -24.487374820783327, -25.17119835307149, -25.645280912822784, -24.666881243174, -26.196769008624567, -26.306105755771803, -24.823647404823813, -25.372455537761986, -26.43453868085157, -26.238646775864407, -24.092673811554274, -25.003576739968356, -25.31013128663661, -24.520117085218452, -26.002296412899543, -22.717371345564853, -24.627823667533228, -23.86997225395197, -23.34789932209717, -25.19961251654868, -25.095930459270186, -25.48293125134979, -24.71849849441854, -27.09828784069665, -19.923170359379615, -19.610581507434244], \"yaxis\": \"y\"}, {\"marker\": {\"color\": \"darkorange\", \"line\": {\"width\": 0}, \"opacity\": 0.8, \"size\": 6, \"symbol\": \"circle\"}, \"mode\": \"markers\", \"name\": \"2\", \"type\": \"scatter\", \"x\": [-28.615929001804542, -29.513710516845496, -28.63731215426536, -28.93647595476419, -29.4211214465561, -28.784350524988103, -28.947502210692736, -28.404152812155168, -29.331536252523552, -28.551252944809722, -29.32406957532311, -28.68887275707967, -29.26399786118058, -29.975133588913735, -28.315371316732552, -30.9963186096312, -29.69458430365893, -29.550164761585755, -29.205368240005107, -29.10137666385793], \"xaxis\": \"x\", \"y\": [67.09137720655245, 68.70582883730305, 67.89866702151927, 68.59835742967226, 68.62381992686525, 67.89725700355747, 68.71388020194888, 68.11038843350688, 67.98349400758617, 68.65516204861153, 67.77188441562195, 67.96563085323524, 68.97966110086038, 69.28064038908175, 67.64345138639817, 68.60656679106901, 68.3861196611909, 69.57201391425413, 68.06571990493353, 69.04815645882245], \"yaxis\": \"y\"}, {\"marker\": {\"color\": \"darkblue\", \"line\": {\"width\": 0}, \"opacity\": 0.8, \"size\": 6, \"symbol\": \"circle\"}, \"mode\": \"markers\", \"name\": \"3\", \"type\": \"scatter\", \"x\": [-16.698025016209602, -19.380145319352167, -21.197671279172084, -28.572173358472984, -25.83913076823369], \"xaxis\": \"x\", \"y\": [-19.512176173290527, -16.930793569012796, -21.450653005349025, -22.589964894944185, -20.629360283106468], \"yaxis\": \"y\"}, {\"marker\": {\"color\": \"darkcyan\", \"line\": {\"width\": 0}, \"opacity\": 0.8, \"size\": 6, \"symbol\": \"circle\"}, \"mode\": \"markers\", \"name\": \"4\", \"type\": \"scatter\", \"x\": [-0.07973532369331189, -3.178533781540115, -1.3143198901820334], \"xaxis\": \"x\", \"y\": [21.22333069936915, 19.915143783808507, 11.923141778376818], \"yaxis\": \"y\"}, {\"marker\": {\"color\": \"darkgoldenrod\", \"line\": {\"width\": 0}, \"opacity\": 0.8, \"size\": 6, \"symbol\": \"circle\"}, \"mode\": \"markers\", \"name\": \"5\", \"type\": \"scatter\", \"x\": [-8.270734289451603, -11.360404579598042, -7.393359731130557], \"xaxis\": \"x\", \"y\": [5.420988349964178, 10.83389177669182, 4.937421350131204], \"yaxis\": \"y\"}, {\"marker\": {\"color\": \"darkgray\", \"line\": {\"width\": 0}, \"opacity\": 0.8, \"size\": 6, \"symbol\": \"circle\"}, \"mode\": \"markers\", \"name\": \"6\", \"type\": \"scatter\", \"x\": [-30.538898484865502, -35.1670171700632, -31.87261402453031, -33.76319732176742], \"xaxis\": \"x\", \"y\": [-8.222968600631136, -1.8997289872615999, -0.19033365966875848, -5.293082470077182], \"yaxis\": \"y\"}, {\"marker\": {\"color\": \"darkgrey\", \"line\": {\"width\": 0}, \"opacity\": 0.8, \"size\": 6, \"symbol\": \"circle\"}, \"mode\": \"markers\", \"name\": \"7\", \"type\": \"scatter\", \"x\": [55.0344167045941, 45.5904790806388], \"xaxis\": \"x\", \"y\": [-3.653974867809937, -5.894844873569274], \"yaxis\": \"y\"}, {\"marker\": {\"color\": \"darkgreen\", \"line\": {\"width\": 0}, \"opacity\": 0.8, \"size\": 6, \"symbol\": \"circle\"}, \"mode\": \"markers\", \"name\": \"8\", \"type\": \"scatter\", \"x\": [7.059352384527494, 7.346794005765689], \"xaxis\": \"x\", \"y\": [-9.916195710639068, -8.337827393925414], \"yaxis\": \"y\"}, {\"marker\": {\"color\": \"darkkhaki\", \"line\": {\"width\": 0}, \"opacity\": 0.8, \"size\": 6, \"symbol\": \"circle\"}, \"mode\": \"markers\", \"name\": \"9\", \"type\": \"scatter\", \"x\": [-19.87906085829425, -19.652901036665785], \"xaxis\": \"x\", \"y\": [-5.656153213306001, -3.963890022402388], \"yaxis\": \"y\"}, {\"marker\": {\"color\": \"darkmagenta\", \"line\": {\"width\": 0}, \"opacity\": 0.8, \"size\": 6, \"symbol\": \"circle\"}, \"mode\": \"markers\", \"name\": \"10\", \"type\": \"scatter\", \"x\": [22.55438051207265], \"xaxis\": \"x\", \"y\": [-8.469812183816396], \"yaxis\": \"y\"}, {\"marker\": {\"color\": \"darkolivegreen\", \"line\": {\"width\": 0}, \"opacity\": 0.8, \"size\": 6, \"symbol\": \"circle\"}, \"mode\": \"markers\", \"name\": \"11\", \"type\": \"scatter\", \"x\": [17.44320483476864], \"xaxis\": \"x\", \"y\": [-13.527423647007998], \"yaxis\": \"y\"}, {\"marker\": {\"color\": \"darkorange\", \"line\": {\"width\": 0}, \"opacity\": 0.8, \"size\": 6, \"symbol\": \"circle\"}, \"mode\": \"markers\", \"name\": \"12\", \"type\": \"scatter\", \"x\": [15.624952030230634], \"xaxis\": \"x\", \"y\": [-7.387778372465664], \"yaxis\": \"y\"}, {\"marker\": {\"color\": \"darkorchid\", \"line\": {\"width\": 0}, \"opacity\": 0.8, \"size\": 6, \"symbol\": \"circle\"}, \"mode\": \"markers\", \"name\": \"13\", \"type\": \"scatter\", \"x\": [6.033188831181277], \"xaxis\": \"x\", \"y\": [-11.04951495264043], \"yaxis\": \"y\"}, {\"marker\": {\"color\": \"darkred\", \"line\": {\"width\": 0}, \"opacity\": 0.8, \"size\": 6, \"symbol\": \"circle\"}, \"mode\": \"markers\", \"name\": \"14\", \"type\": \"scatter\", \"x\": [1.0402578206388915], \"xaxis\": \"x\", \"y\": [-3.236860035739425], \"yaxis\": \"y\"}, {\"marker\": {\"color\": \"darksalmon\", \"line\": {\"width\": 0}, \"opacity\": 0.8, \"size\": 6, \"symbol\": \"circle\"}, \"mode\": \"markers\", \"name\": \"15\", \"type\": \"scatter\", \"x\": [-5.0082095145706145], \"xaxis\": \"x\", \"y\": [-17.620622516324488], \"yaxis\": \"y\"}, {\"marker\": {\"color\": \"darkseagreen\", \"line\": {\"width\": 0}, \"opacity\": 0.8, \"size\": 6, \"symbol\": \"circle\"}, \"mode\": \"markers\", \"name\": \"16\", \"type\": \"scatter\", \"x\": [-17.77139812889599], \"xaxis\": \"x\", \"y\": [-14.565219991145778], \"yaxis\": \"y\"}, {\"marker\": {\"color\": \"darkseagreen\", \"line\": {\"width\": 0}, \"opacity\": 0.8, \"size\": 6, \"symbol\": \"circle\"}, \"mode\": \"markers\", \"name\": \"0\", \"type\": \"scatter\", \"x\": [68.46982882091996, 67.72909589120712, 67.49967218129609, 66.79416046470033, 66.15222350109461, 69.38764359213941, 68.77342022781563, 68.01622651661401, 67.82832276365787, 67.98258544441411, 67.98952654453623, 66.07245334340332, 67.49916072799385, 67.87421029627163, 67.69820548129253, 67.35545741252825, 66.96127749058988, 67.31303580885255, 67.59533061079517, 67.89973700648781, 67.26773501628125, 68.38060103769163, 67.49850988624034, 65.68590828657908, 67.76796519876285, 67.85563449061391, 67.78622919258866, 68.28531641761103, 67.16063272299903, 67.18265984833566, 68.03080946784858, 67.80150165280244, 66.27307670491463, 67.32594444958544, 68.13437085760998, 67.78090534560597, 67.64473674444704, 66.78721302217626, 66.73804956646133, 66.12644353760872], \"xaxis\": \"x2\", \"y\": [-5.0932635257336525, -6.06510435833696, -4.980303459777615, -4.547394554162691, -6.010092918855208, -6.8462713175704835, -5.225617336563281, -5.642526346309749, -5.797932812798795, -6.168898151053581, -5.759656185637968, -4.562833311561854, -4.489602017271544, -6.002695677859971, -5.591634009033517, -5.931388778958544, -6.192482751744642, -5.9163626706605, -4.942021484309364, -5.656548016502056, -5.402787388784504, -5.188130475269321, -6.007672740169704, -5.336467722802102, -5.90824952970708, -5.6012965341150345, -5.033454823187474, -5.380705873796621, -5.6026035619193015, -4.490129887061477, -5.370541256694698, -5.090527623582973, -6.418310866370599, -5.557783551437294, -6.043736882344575, -5.4997186165219585, -5.733312466529054, -5.938451956066397, -5.169199478028535, -4.518561880898859], \"yaxis\": \"y2\"}, {\"marker\": {\"color\": \"crimson\", \"line\": {\"width\": 0}, \"opacity\": 0.8, \"size\": 6, \"symbol\": \"circle\"}, \"mode\": \"markers\", \"name\": \"1\", \"type\": \"scatter\", \"x\": [-47.55316216829906, -47.41807942257735, -45.80763731629668, -47.31261651495337, -46.57242755563268, -46.16346844830044, -47.11138774223824, -46.16077345309201, -47.56388565117332, -45.63560631439618, -46.245638036913434, -45.89345243442433, -45.57494433582407, -47.01250268693536, -47.92706195463723, -45.059912957555234, -47.68165646681633, -47.5856784124417, -47.94735468672811, -46.37352323371308, -46.07739754629665, -47.58691756141079, -47.49749116426143, -47.11043358500419, -48.046830542700974, -47.83720878980202, -47.450643347100325, -46.56832669215968, -47.37230663900219, -47.21541345042812, -46.61955751850311, -47.54684702494865, -47.446680615287974, -45.88441320040586, -48.93938012635003, -45.854216093972944, -46.9020546532053, -47.95552012515158, -47.0108590502937, -47.266931393606804, -43.54013153240375, -35.60638195848541], \"xaxis\": \"x2\", \"y\": [-8.077473250651373, -8.248971719713284, -6.340447311661737, -7.897781989205221, -9.14080828884197, -8.39915015194666, -7.560224098249937, -6.2842886532296625, -8.01704645580236, -7.750631430358072, -6.233367835053445, -6.615491945111207, -6.288528246412142, -6.836257264377668, -6.85263691225728, -9.765152179788995, -6.365586702487671, -8.313464512051668, -8.677926961935087, -7.83080423638512, -6.570975087856211, -7.101455901867881, -8.062879607341712, -7.858800168086776, -6.540292605322633, -6.160300974991026, -6.930642481834606, -10.428774792235595, -8.22390069144701, -6.562167082959176, -7.624873459348047, -8.499212668536295, -6.818879107551844, -7.2474558589255365, -7.6243416951393215, -7.75237989990517, -7.429676977035876, -5.813401508816846, -6.782678902608084, -6.002079077637508, 1.1314029833095056, -9.433672675921825], \"yaxis\": \"y2\"}, {\"marker\": {\"color\": \"darkorange\", \"line\": {\"width\": 0}, \"opacity\": 0.8, \"size\": 6, \"symbol\": \"circle\"}, \"mode\": \"markers\", \"name\": \"2\", \"type\": \"scatter\", \"x\": [-28.615929001804542, -29.513710516845496, -28.63731215426536, -28.93647595476419, -29.4211214465561, -28.784350524988103, -28.947502210692736, -28.404152812155168, -29.331536252523552, -28.551252944809722, -29.32406957532311, -28.68887275707967, -29.26399786118058, -29.975133588913735, -28.315371316732552, -30.9963186096312, -29.69458430365893, -29.550164761585755, -29.205368240005107, -29.10137666385793], \"xaxis\": \"x2\", \"y\": [-11.793495936431137, -9.90182538979001, -9.762909265859795, -10.034354112487812, -9.52030041782354, -10.933069965079785, -9.799421684840075, -11.733001817268107, -11.327158569393907, -12.69090003978314, -10.524845170941052, -10.041052757420577, -10.064789149589059, -10.539360813172811, -11.0752964093665, -9.836263033363936, -10.16978282084824, -8.479447216555728, -11.452514197897568, -10.516342882168884], \"yaxis\": \"y2\"}, {\"marker\": {\"color\": \"darkblue\", \"line\": {\"width\": 0}, \"opacity\": 0.8, \"size\": 6, \"symbol\": \"circle\"}, \"mode\": \"markers\", \"name\": \"3\", \"type\": \"scatter\", \"x\": [-16.698025016209602, -19.380145319352167, -21.197671279172084, -28.572173358472984, -25.83913076823369], \"xaxis\": \"x2\", \"y\": [-9.46749161511795, -8.615258176439204, -8.764366523318008, -5.824761530643983, -9.46448227573138], \"yaxis\": \"y2\"}, {\"marker\": {\"color\": \"darkcyan\", \"line\": {\"width\": 0}, \"opacity\": 0.8, \"size\": 6, \"symbol\": \"circle\"}, \"mode\": \"markers\", \"name\": \"4\", \"type\": \"scatter\", \"x\": [-0.07973532369331189, -3.178533781540115, -1.3143198901820334], \"xaxis\": \"x2\", \"y\": [92.53304779403325, 84.17734263146322, 94.17798397002872], \"yaxis\": \"y2\"}, {\"marker\": {\"color\": \"darkgoldenrod\", \"line\": {\"width\": 0}, \"opacity\": 0.8, \"size\": 6, \"symbol\": \"circle\"}, \"mode\": \"markers\", \"name\": \"5\", \"type\": \"scatter\", \"x\": [-8.270734289451603, -11.360404579598042, -7.393359731130557], \"xaxis\": \"x2\", \"y\": [80.29256614414044, 73.12981705638104, 76.48637365712662], \"yaxis\": \"y2\"}, {\"marker\": {\"color\": \"darkgray\", \"line\": {\"width\": 0}, \"opacity\": 0.8, \"size\": 6, \"symbol\": \"circle\"}, \"mode\": \"markers\", \"name\": \"6\", \"type\": \"scatter\", \"x\": [-30.538898484865502, -35.1670171700632, -31.87261402453031, -33.76319732176742], \"xaxis\": \"x2\", \"y\": [29.447902976497986, 13.63564764905038, 14.60616879079178, 21.91701965320128], \"yaxis\": \"y2\"}, {\"marker\": {\"color\": \"darkgrey\", \"line\": {\"width\": 0}, \"opacity\": 0.8, \"size\": 6, \"symbol\": \"circle\"}, \"mode\": \"markers\", \"name\": \"7\", \"type\": \"scatter\", \"x\": [55.0344167045941, 45.5904790806388], \"xaxis\": \"x2\", \"y\": [3.5683170231118133, 0.6339575040131871], \"yaxis\": \"y2\"}, {\"marker\": {\"color\": \"darkgreen\", \"line\": {\"width\": 0}, \"opacity\": 0.8, \"size\": 6, \"symbol\": \"circle\"}, \"mode\": \"markers\", \"name\": \"8\", \"type\": \"scatter\", \"x\": [7.059352384527494, 7.346794005765689], \"xaxis\": \"x2\", \"y\": [9.418680374255993, 17.20819062155498], \"yaxis\": \"y2\"}, {\"marker\": {\"color\": \"darkkhaki\", \"line\": {\"width\": 0}, \"opacity\": 0.8, \"size\": 6, \"symbol\": \"circle\"}, \"mode\": \"markers\", \"name\": \"9\", \"type\": \"scatter\", \"x\": [-19.87906085829425, -19.652901036665785], \"xaxis\": \"x2\", \"y\": [54.88148816342314, 53.1289697611989], \"yaxis\": \"y2\"}, {\"marker\": {\"color\": \"darkmagenta\", \"line\": {\"width\": 0}, \"opacity\": 0.8, \"size\": 6, \"symbol\": \"circle\"}, \"mode\": \"markers\", \"name\": \"10\", \"type\": \"scatter\", \"x\": [22.55438051207265], \"xaxis\": \"x2\", \"y\": [8.611151449248846], \"yaxis\": \"y2\"}, {\"marker\": {\"color\": \"darkolivegreen\", \"line\": {\"width\": 0}, \"opacity\": 0.8, \"size\": 6, \"symbol\": \"circle\"}, \"mode\": \"markers\", \"name\": \"11\", \"type\": \"scatter\", \"x\": [17.44320483476864], \"xaxis\": \"x2\", \"y\": [-5.153550376367233], \"yaxis\": \"y2\"}, {\"marker\": {\"color\": \"darkorange\", \"line\": {\"width\": 0}, \"opacity\": 0.8, \"size\": 6, \"symbol\": \"circle\"}, \"mode\": \"markers\", \"name\": \"12\", \"type\": \"scatter\", \"x\": [15.624952030230634], \"xaxis\": \"x2\", \"y\": [25.13890325369802], \"yaxis\": \"y2\"}, {\"marker\": {\"color\": \"darkorchid\", \"line\": {\"width\": 0}, \"opacity\": 0.8, \"size\": 6, \"symbol\": \"circle\"}, \"mode\": \"markers\", \"name\": \"13\", \"type\": \"scatter\", \"x\": [6.033188831181277], \"xaxis\": \"x2\", \"y\": [-4.948740144358734], \"yaxis\": \"y2\"}, {\"marker\": {\"color\": \"darkred\", \"line\": {\"width\": 0}, \"opacity\": 0.8, \"size\": 6, \"symbol\": \"circle\"}, \"mode\": \"markers\", \"name\": \"14\", \"type\": \"scatter\", \"x\": [1.0402578206388915], \"xaxis\": \"x2\", \"y\": [33.9911882230806], \"yaxis\": \"y2\"}, {\"marker\": {\"color\": \"darksalmon\", \"line\": {\"width\": 0}, \"opacity\": 0.8, \"size\": 6, \"symbol\": \"circle\"}, \"mode\": \"markers\", \"name\": \"15\", \"type\": \"scatter\", \"x\": [-5.0082095145706145], \"xaxis\": \"x2\", \"y\": [-8.375994753187294], \"yaxis\": \"y2\"}, {\"marker\": {\"color\": \"darkseagreen\", \"line\": {\"width\": 0}, \"opacity\": 0.8, \"size\": 6, \"symbol\": \"circle\"}, \"mode\": \"markers\", \"name\": \"16\", \"type\": \"scatter\", \"x\": [-17.77139812889599], \"xaxis\": \"x2\", \"y\": [10.373811536514769], \"yaxis\": \"y2\"}],\n",
       "                        {\"annotations\": [{\"font\": {\"size\": 16}, \"showarrow\": false, \"text\": \"global_pca\", \"x\": 0.225, \"xanchor\": \"center\", \"xref\": \"paper\", \"y\": 1.0, \"yanchor\": \"bottom\", \"yref\": \"paper\"}, {\"font\": {\"size\": 16}, \"showarrow\": false, \"text\": \"global_pca\", \"x\": 0.775, \"xanchor\": \"center\", \"xref\": \"paper\", \"y\": 1.0, \"yanchor\": \"bottom\", \"yref\": \"paper\"}], \"height\": 500, \"template\": {\"data\": {\"bar\": [{\"error_x\": {\"color\": \"#2a3f5f\"}, \"error_y\": {\"color\": \"#2a3f5f\"}, \"marker\": {\"line\": {\"color\": \"#E5ECF6\", \"width\": 0.5}}, \"type\": \"bar\"}], \"barpolar\": [{\"marker\": {\"line\": {\"color\": \"#E5ECF6\", \"width\": 0.5}}, \"type\": \"barpolar\"}], \"carpet\": [{\"aaxis\": {\"endlinecolor\": \"#2a3f5f\", \"gridcolor\": \"white\", \"linecolor\": \"white\", \"minorgridcolor\": \"white\", \"startlinecolor\": \"#2a3f5f\"}, \"baxis\": {\"endlinecolor\": \"#2a3f5f\", \"gridcolor\": \"white\", \"linecolor\": \"white\", \"minorgridcolor\": \"white\", \"startlinecolor\": \"#2a3f5f\"}, \"type\": \"carpet\"}], \"choropleth\": [{\"colorbar\": {\"outlinewidth\": 0, \"ticks\": \"\"}, \"type\": \"choropleth\"}], \"contour\": [{\"colorbar\": {\"outlinewidth\": 0, \"ticks\": \"\"}, \"colorscale\": [[0.0, \"#0d0887\"], [0.1111111111111111, \"#46039f\"], [0.2222222222222222, \"#7201a8\"], [0.3333333333333333, \"#9c179e\"], [0.4444444444444444, \"#bd3786\"], [0.5555555555555556, \"#d8576b\"], [0.6666666666666666, \"#ed7953\"], [0.7777777777777778, \"#fb9f3a\"], [0.8888888888888888, \"#fdca26\"], [1.0, \"#f0f921\"]], \"type\": \"contour\"}], \"contourcarpet\": [{\"colorbar\": {\"outlinewidth\": 0, \"ticks\": \"\"}, \"type\": \"contourcarpet\"}], \"heatmap\": [{\"colorbar\": {\"outlinewidth\": 0, \"ticks\": \"\"}, \"colorscale\": [[0.0, \"#0d0887\"], [0.1111111111111111, \"#46039f\"], [0.2222222222222222, \"#7201a8\"], [0.3333333333333333, \"#9c179e\"], [0.4444444444444444, \"#bd3786\"], [0.5555555555555556, \"#d8576b\"], [0.6666666666666666, \"#ed7953\"], [0.7777777777777778, \"#fb9f3a\"], [0.8888888888888888, \"#fdca26\"], [1.0, \"#f0f921\"]], \"type\": \"heatmap\"}], \"heatmapgl\": [{\"colorbar\": {\"outlinewidth\": 0, \"ticks\": \"\"}, \"colorscale\": [[0.0, \"#0d0887\"], [0.1111111111111111, \"#46039f\"], [0.2222222222222222, \"#7201a8\"], [0.3333333333333333, \"#9c179e\"], [0.4444444444444444, \"#bd3786\"], [0.5555555555555556, \"#d8576b\"], [0.6666666666666666, \"#ed7953\"], [0.7777777777777778, \"#fb9f3a\"], [0.8888888888888888, \"#fdca26\"], [1.0, \"#f0f921\"]], \"type\": \"heatmapgl\"}], \"histogram\": [{\"marker\": {\"colorbar\": {\"outlinewidth\": 0, \"ticks\": \"\"}}, \"type\": \"histogram\"}], \"histogram2d\": [{\"colorbar\": {\"outlinewidth\": 0, \"ticks\": \"\"}, \"colorscale\": [[0.0, \"#0d0887\"], [0.1111111111111111, \"#46039f\"], [0.2222222222222222, \"#7201a8\"], [0.3333333333333333, \"#9c179e\"], [0.4444444444444444, \"#bd3786\"], [0.5555555555555556, \"#d8576b\"], [0.6666666666666666, \"#ed7953\"], [0.7777777777777778, \"#fb9f3a\"], [0.8888888888888888, \"#fdca26\"], [1.0, \"#f0f921\"]], \"type\": \"histogram2d\"}], \"histogram2dcontour\": [{\"colorbar\": {\"outlinewidth\": 0, \"ticks\": \"\"}, \"colorscale\": [[0.0, \"#0d0887\"], [0.1111111111111111, \"#46039f\"], [0.2222222222222222, \"#7201a8\"], [0.3333333333333333, \"#9c179e\"], [0.4444444444444444, \"#bd3786\"], [0.5555555555555556, \"#d8576b\"], [0.6666666666666666, \"#ed7953\"], [0.7777777777777778, \"#fb9f3a\"], [0.8888888888888888, \"#fdca26\"], [1.0, \"#f0f921\"]], \"type\": \"histogram2dcontour\"}], \"mesh3d\": [{\"colorbar\": {\"outlinewidth\": 0, \"ticks\": \"\"}, \"type\": \"mesh3d\"}], \"parcoords\": [{\"line\": {\"colorbar\": {\"outlinewidth\": 0, \"ticks\": \"\"}}, \"type\": \"parcoords\"}], \"pie\": [{\"automargin\": true, \"type\": \"pie\"}], \"scatter\": [{\"marker\": {\"colorbar\": {\"outlinewidth\": 0, \"ticks\": \"\"}}, \"type\": \"scatter\"}], \"scatter3d\": [{\"line\": {\"colorbar\": {\"outlinewidth\": 0, \"ticks\": \"\"}}, \"marker\": {\"colorbar\": {\"outlinewidth\": 0, \"ticks\": \"\"}}, \"type\": \"scatter3d\"}], \"scattercarpet\": [{\"marker\": {\"colorbar\": {\"outlinewidth\": 0, \"ticks\": \"\"}}, \"type\": \"scattercarpet\"}], \"scattergeo\": [{\"marker\": {\"colorbar\": {\"outlinewidth\": 0, \"ticks\": \"\"}}, \"type\": \"scattergeo\"}], \"scattergl\": [{\"marker\": {\"colorbar\": {\"outlinewidth\": 0, \"ticks\": \"\"}}, \"type\": \"scattergl\"}], \"scattermapbox\": [{\"marker\": {\"colorbar\": {\"outlinewidth\": 0, \"ticks\": \"\"}}, \"type\": \"scattermapbox\"}], \"scatterpolar\": [{\"marker\": {\"colorbar\": {\"outlinewidth\": 0, \"ticks\": \"\"}}, \"type\": \"scatterpolar\"}], \"scatterpolargl\": [{\"marker\": {\"colorbar\": {\"outlinewidth\": 0, \"ticks\": \"\"}}, \"type\": \"scatterpolargl\"}], \"scatterternary\": [{\"marker\": {\"colorbar\": {\"outlinewidth\": 0, \"ticks\": \"\"}}, \"type\": \"scatterternary\"}], \"surface\": [{\"colorbar\": {\"outlinewidth\": 0, \"ticks\": \"\"}, \"colorscale\": [[0.0, \"#0d0887\"], [0.1111111111111111, \"#46039f\"], [0.2222222222222222, \"#7201a8\"], [0.3333333333333333, \"#9c179e\"], [0.4444444444444444, \"#bd3786\"], [0.5555555555555556, \"#d8576b\"], [0.6666666666666666, \"#ed7953\"], [0.7777777777777778, \"#fb9f3a\"], [0.8888888888888888, \"#fdca26\"], [1.0, \"#f0f921\"]], \"type\": \"surface\"}], \"table\": [{\"cells\": {\"fill\": {\"color\": \"#EBF0F8\"}, \"line\": {\"color\": \"white\"}}, \"header\": {\"fill\": {\"color\": \"#C8D4E3\"}, \"line\": {\"color\": \"white\"}}, \"type\": \"table\"}]}, \"layout\": {\"annotationdefaults\": {\"arrowcolor\": \"#2a3f5f\", \"arrowhead\": 0, \"arrowwidth\": 1}, \"coloraxis\": {\"colorbar\": {\"outlinewidth\": 0, \"ticks\": \"\"}}, \"colorscale\": {\"diverging\": [[0, \"#8e0152\"], [0.1, \"#c51b7d\"], [0.2, \"#de77ae\"], [0.3, \"#f1b6da\"], [0.4, \"#fde0ef\"], [0.5, \"#f7f7f7\"], [0.6, \"#e6f5d0\"], [0.7, \"#b8e186\"], [0.8, \"#7fbc41\"], [0.9, \"#4d9221\"], [1, \"#276419\"]], \"sequential\": [[0.0, \"#0d0887\"], [0.1111111111111111, \"#46039f\"], [0.2222222222222222, \"#7201a8\"], [0.3333333333333333, \"#9c179e\"], [0.4444444444444444, \"#bd3786\"], [0.5555555555555556, \"#d8576b\"], [0.6666666666666666, \"#ed7953\"], [0.7777777777777778, \"#fb9f3a\"], [0.8888888888888888, \"#fdca26\"], [1.0, \"#f0f921\"]], \"sequentialminus\": [[0.0, \"#0d0887\"], [0.1111111111111111, \"#46039f\"], [0.2222222222222222, \"#7201a8\"], [0.3333333333333333, \"#9c179e\"], [0.4444444444444444, \"#bd3786\"], [0.5555555555555556, \"#d8576b\"], [0.6666666666666666, \"#ed7953\"], [0.7777777777777778, \"#fb9f3a\"], [0.8888888888888888, \"#fdca26\"], [1.0, \"#f0f921\"]]}, \"colorway\": [\"#636efa\", \"#EF553B\", \"#00cc96\", \"#ab63fa\", \"#FFA15A\", \"#19d3f3\", \"#FF6692\", \"#B6E880\", \"#FF97FF\", \"#FECB52\"], \"font\": {\"color\": \"#2a3f5f\"}, \"geo\": {\"bgcolor\": \"white\", \"lakecolor\": \"white\", \"landcolor\": \"#E5ECF6\", \"showlakes\": true, \"showland\": true, \"subunitcolor\": \"white\"}, \"hoverlabel\": {\"align\": \"left\"}, \"hovermode\": \"closest\", \"mapbox\": {\"style\": \"light\"}, \"paper_bgcolor\": \"white\", \"plot_bgcolor\": \"#E5ECF6\", \"polar\": {\"angularaxis\": {\"gridcolor\": \"white\", \"linecolor\": \"white\", \"ticks\": \"\"}, \"bgcolor\": \"#E5ECF6\", \"radialaxis\": {\"gridcolor\": \"white\", \"linecolor\": \"white\", \"ticks\": \"\"}}, \"scene\": {\"xaxis\": {\"backgroundcolor\": \"#E5ECF6\", \"gridcolor\": \"white\", \"gridwidth\": 2, \"linecolor\": \"white\", \"showbackground\": true, \"ticks\": \"\", \"zerolinecolor\": \"white\"}, \"yaxis\": {\"backgroundcolor\": \"#E5ECF6\", \"gridcolor\": \"white\", \"gridwidth\": 2, \"linecolor\": \"white\", \"showbackground\": true, \"ticks\": \"\", \"zerolinecolor\": \"white\"}, \"zaxis\": {\"backgroundcolor\": \"#E5ECF6\", \"gridcolor\": \"white\", \"gridwidth\": 2, \"linecolor\": \"white\", \"showbackground\": true, \"ticks\": \"\", \"zerolinecolor\": \"white\"}}, \"shapedefaults\": {\"line\": {\"color\": \"#2a3f5f\"}}, \"ternary\": {\"aaxis\": {\"gridcolor\": \"white\", \"linecolor\": \"white\", \"ticks\": \"\"}, \"baxis\": {\"gridcolor\": \"white\", \"linecolor\": \"white\", \"ticks\": \"\"}, \"bgcolor\": \"#E5ECF6\", \"caxis\": {\"gridcolor\": \"white\", \"linecolor\": \"white\", \"ticks\": \"\"}}, \"title\": {\"x\": 0.05}, \"xaxis\": {\"automargin\": true, \"gridcolor\": \"white\", \"linecolor\": \"white\", \"ticks\": \"\", \"title\": {\"standoff\": 15}, \"zerolinecolor\": \"white\", \"zerolinewidth\": 2}, \"yaxis\": {\"automargin\": true, \"gridcolor\": \"white\", \"linecolor\": \"white\", \"ticks\": \"\", \"title\": {\"standoff\": 15}, \"zerolinecolor\": \"white\", \"zerolinewidth\": 2}}}, \"width\": 950, \"xaxis\": {\"anchor\": \"y\", \"domain\": [0.0, 0.45], \"title\": {\"text\": \"PC1\"}}, \"xaxis2\": {\"anchor\": \"y2\", \"domain\": [0.55, 1.0], \"title\": {\"text\": \"PC1\"}}, \"yaxis\": {\"anchor\": \"x\", \"domain\": [0.0, 1.0], \"title\": {\"text\": \"PC2\"}}, \"yaxis2\": {\"anchor\": \"x2\", \"domain\": [0.0, 1.0], \"title\": {\"text\": \"PC3\"}}},\n",
       "                        {\"responsive\": true}\n",
       "                    ).then(function(){\n",
       "                            \n",
       "var gd = document.getElementById('8887954f-9d5f-4547-a6b2-1566673dc8fc');\n",
       "var x = new MutationObserver(function (mutations, observer) {{\n",
       "        var display = window.getComputedStyle(gd).display;\n",
       "        if (!display || display === 'none') {{\n",
       "            console.log([gd, 'removed!']);\n",
       "            Plotly.purge(gd);\n",
       "            observer.disconnect();\n",
       "        }}\n",
       "}});\n",
       "\n",
       "// Listen for the removal of the full notebook cells\n",
       "var notebookContainer = gd.closest('#notebook-container');\n",
       "if (notebookContainer) {{\n",
       "    x.observe(notebookContainer, {childList: true});\n",
       "}}\n",
       "\n",
       "// Listen for the clearing of the current output cell\n",
       "var outputEl = gd.closest('.output');\n",
       "if (outputEl) {{\n",
       "    x.observe(outputEl, {childList: true});\n",
       "}}\n",
       "\n",
       "                        })\n",
       "                };\n",
       "                });\n",
       "            </script>\n",
       "        </div>"
      ]
     },
     "metadata": {},
     "output_type": "display_data"
    }
   ],
   "source": [
    "###\n",
    "plot_global_pca(feats,label_select,PCA_color_ref,title= 'global_pca',height= 500,width= 950)"
   ]
  },
  {
   "cell_type": "code",
   "execution_count": 9,
   "metadata": {},
   "outputs": [],
   "source": [
    "select_refs= [0,1,2]\n",
    "label_vector= [[len(select_refs),labels1[x]][int(labels1[x] in select_refs)] for x in range(genotype.shape[0])]\n",
    "\n",
    "Whose= list(range(genotype.shape[0]))\n"
   ]
  },
  {
   "cell_type": "markdown",
   "metadata": {},
   "source": [
    "## Imputation\n",
    "\n",
    "### Creating a matrix, introducing missing values\n",
    "\n",
    "\n",
    "Single missing observation is introduced to a sample `nanObs`. Dimensionality reduction is applied to feature windows to generate a profile of distances between the `nanObs` and other samples. feature windows are selected randomly across the vcf, are free of missing data. \n",
    "\n",
    "For this notebook we will also keep window size constant. \n",
    "\n",
    "\n",
    "### I. nan_observation\n"
   ]
  },
  {
   "cell_type": "code",
   "execution_count": 10,
   "metadata": {},
   "outputs": [
    {
     "name": "stdout",
     "output_type": "stream",
     "text": [
      "full data set shape: (130, 40000)\n",
      "[[    8 16053]]\n"
     ]
    }
   ],
   "source": [
    "print('full data set shape: {}'.format(genotype.shape))\n",
    "\n",
    "nan_n= 1\n",
    "\n",
    "xnan= np.random.randint(0,genotype.shape[1],size= nan_n)\n",
    "ynan= np.random.randint(0,genotype.shape[0],size= nan_n)\n",
    "\n",
    "nan_coords= [ynan,xnan]\n",
    "nan_coords= np.array(nan_coords).T\n",
    "\n",
    "print(nan_coords)\n"
   ]
  },
  {
   "cell_type": "markdown",
   "metadata": {},
   "source": [
    "### Distance profiles.\n",
    "\n",
    "for a single nan value, selected using `nan_idx` from the list `nan_coords` above.\n",
    "\n",
    "define window size `wind_sizes` and number of windows `Nreps`. \n",
    "\n",
    "This version of the approach is calculating distances in feature space, following dimensionality redution (Dr). PCA is used here. \n",
    "\n",
    "Define:\n",
    "- `ncomps` : the number of dimensions to retain during Dr. \n",
    "- `dimN`: number of dimensions used to perfiorm distance calculations.\n",
    "- `metric`: metric to use in distance calculations. default= eucledian. \n",
    "\n"
   ]
  },
  {
   "cell_type": "code",
   "execution_count": 34,
   "metadata": {},
   "outputs": [
    {
     "data": {
      "text/plain": [
       "(400, 129)"
      ]
     },
     "execution_count": 34,
     "metadata": {},
     "output_type": "execute_result"
    }
   ],
   "source": [
    "from sklearn.metrics import pairwise_distances\n",
    "\n",
    "def rand_wdDist(genotype, nan_coords,\n",
    "               wind_sizes= 100,\n",
    "                Nreps= 400,\n",
    "                ncomps= 5,\n",
    "                dimN= 2,\n",
    "                metric= 'euclidean'):\n",
    "    '''\n",
    "    given gentoype array, a sngle coordinate of which the column to avoid, \n",
    "    analyse Nrep windows of wind_sizes number of contiguous features. \n",
    "    calculate distances to observation provided in nan_coords in PCA feature space. \n",
    "    Number of dimensions for Dim reduction and distance calculated is kept separate. for reasons. \n",
    "    '''\n",
    "    nan_obs= nan_coords[nan_idx]\n",
    "    nan_acc= nan_obs[0]\n",
    "    nan_pos= nan_obs[1]\n",
    "\n",
    "    other_obs= [x for x in range(genotype.shape[0]) if x != nan_acc]\n",
    "\n",
    "    dist_store= []\n",
    "\n",
    "    for idx in range(Nreps):\n",
    "\n",
    "        st= -1\n",
    "        while st == -1:\n",
    "            stp= np.random.randint(0,genotype.shape[1]-wind_sizes)\n",
    "            dinc= nan_pos - stp\n",
    "            if dinc > wind_sizes or dinc < 0:\n",
    "                st= stp\n",
    "\n",
    "        nwind= genotype[:,stp:(stp+wind_sizes)]\n",
    "\n",
    "        pca2 = PCA(n_components=ncomps, whiten=False,svd_solver='randomized')\n",
    "        featw= pca2.fit_transform(nwind)\n",
    "\n",
    "        obsn= featw[nan_acc,:dimN].reshape(1,-1)\n",
    "        dist_vec= pairwise_distances(obsn, featw[other_obs,:dimN],\n",
    "                                                    metric=metric)\n",
    "\n",
    "        dist_store.extend(dist_vec)\n",
    "    \n",
    "    dist_store= np.array(dist_store)\n",
    "    \n",
    "    return dist_store\n",
    "\n",
    "\n",
    "nan_idx= 0\n",
    "\n",
    "wind_sizes= 100\n",
    "Nreps= 400\n",
    "ncomps= 5\n",
    "dimN= 2\n",
    "metric= 'euclidean'\n",
    "\n",
    "dist_store= rand_wdDist(genotype, nan_coords,\n",
    "               wind_sizes= 100,\n",
    "                Nreps= 400,\n",
    "                ncomps= 5,\n",
    "                dimN= 2,\n",
    "                metric= 'euclidean')\n",
    "dist_store.shape"
   ]
  },
  {
   "cell_type": "code",
   "execution_count": 35,
   "metadata": {},
   "outputs": [
    {
     "data": {
      "application/vnd.plotly.v1+json": {
       "config": {
        "linkText": "Export to plot.ly",
        "plotlyServerURL": "https://plot.ly",
        "showLink": false
       },
       "data": [
        {
         "mode": "markers",
         "name": "-1",
         "type": "scatter",
         "x": [
          -1.91523209995475,
          6.857526546888734,
          6.1408587119796705,
          9.027348604632925,
          10.076800403297932,
          6.88145723496174,
          1.062523647953763,
          13.23065719156052,
          3.279065073600239,
          5.028656005694944,
          9.36450799699773,
          14.816762778387726,
          -1.6937753607161006,
          11.61273809719453,
          13.278048141102675,
          3.397648038901448,
          8.710283038687006,
          9.849276525441182,
          7.708029882643528,
          4.282389855142856,
          4.551726971155306,
          2.6198750823830044,
          7.719896385141702,
          -11.321000737828783,
          2.99378128092177,
          4.502526180654909,
          3.091979386435816,
          13.165671006835625,
          4.799228852200731,
          7.153711349347537,
          -10.491321762022936,
          6.501528312721933,
          10.030547762226458,
          7.596138227104761,
          6.509553058678154,
          5.963686606199387,
          8.979623734855968,
          11.330782130324145,
          -7.0050888392089075,
          0.9670354155649139,
          -13.049168551181538,
          8.805266678650979,
          -2.6756061084085325,
          -15.834963633626234,
          10.498526673779235,
          5.814146216079979,
          6.073030071786474,
          9.98125017726774,
          11.485929034344307,
          8.38839370303548,
          4.473424560219783,
          -11.654060855920914,
          11.126092363540222,
          9.089538827087514,
          -5.621554245901283,
          -5.099393517170976,
          11.856122888358671,
          6.37771753642125,
          6.697833997601024,
          -10.735769674431706,
          8.466257542174215,
          2.703087385016134,
          6.1333667468751285,
          8.530287890921496,
          4.348607676416607,
          9.039579509641472,
          11.444742652685187,
          11.014014534677754,
          -12.529522724332672,
          -11.152829075368901,
          -8.226444253871366,
          9.057078732956064,
          6.589340785749231,
          -5.310233435295382,
          6.155979294809664,
          -3.574414594737234,
          8.507908457499443,
          7.3255926240942575,
          4.608144914690812,
          6.42900520564738,
          7.595082393006538,
          7.042495316543605,
          0.7425386343096356,
          5.64524214796162,
          -11.172219252486109,
          9.204540399146625,
          16.868642481076172,
          5.504239627328113,
          2.777866245550113,
          -12.885983123022282,
          16.845103561969204,
          5.404536232746264,
          10.282820196489899,
          4.393589044109089,
          7.590684068015965,
          7.49921444425495,
          9.76537400490157,
          7.943246412416514,
          10.553841956885968,
          -3.0744945990602224,
          7.5828792463314265,
          -0.6432896599551304,
          8.829538671174369,
          -9.83043714284073,
          8.765648277897128,
          -10.870060970208742,
          7.600945100593426,
          -10.450321409811206,
          13.358019197475633,
          4.548851448948442,
          3.2604333471593625,
          5.2073368958144055,
          7.504580461693127,
          4.830887223623502,
          2.0103485286825427,
          8.031189696902993,
          -0.8508634573855802,
          -4.491979627249268,
          11.64298913390489,
          7.641723072087652,
          2.9422989129374852,
          7.652764181387713,
          -1.6014394706658883,
          16.80580692846662,
          7.546497860213048,
          3.3301674774316736,
          -8.824026564688484,
          6.9359810782622455,
          3.2227798562316403,
          1.299330213218393,
          -11.99640781670003,
          5.105249129608727,
          4.435916354366254,
          9.344422399465294,
          13.206371752930684,
          9.076990426922798,
          8.486062121565055,
          3.4524538642870697,
          8.274607285621087,
          -10.466838539773278,
          11.804594556308496,
          6.787018506070324,
          3.0390820046991567,
          -12.402092165415809,
          -4.315967999850518
         ],
         "y": [
          14.638925957066729,
          -0.10749296145960618,
          0.7553454455904971,
          1.0014071002045997,
          -2.0131286241324853,
          -0.43696161442104514,
          1.4112298825359362,
          1.5042347028756455,
          1.0871046670336357,
          -4.482541105709368,
          1.3499852101089809,
          2.5952802346508177,
          8.572228969700477,
          2.932542889360685,
          2.4335169604557843,
          0.1378263960422462,
          0.08024864910385034,
          1.0702889465022474,
          -3.7520652840546633,
          -4.552608410124084,
          4.570755789443163,
          9.395687770198487,
          3.497961389075595,
          2.4813820601076104,
          5.552309463040637,
          0.9122454352968441,
          18.04803095628344,
          1.5551242706317878,
          4.675040353301247,
          -4.095191699763226,
          -8.849538822993996,
          -0.31408622094364486,
          3.4694494696642466,
          -6.922518548131215,
          1.7155618114573974,
          -0.7977614568560504,
          1.8159705630610996,
          2.0225795505646222,
          10.699108972197465,
          -0.9580190244203499,
          -0.9102144441502493,
          4.655216413232399,
          11.45674572383145,
          0.3708597348275773,
          3.0113060000983234,
          1.7766145176174626,
          -3.453662216886171,
          -0.7507894258387195,
          -2.1361179201553986,
          0.9355247540069629,
          -5.845685382970913,
          7.6924005254387575,
          1.566532755787901,
          -2.267946028523155,
          8.531985269707432,
          12.202342135987127,
          6.684394713680979,
          -0.2950733295635783,
          -0.405846762946202,
          11.562425019196981,
          -2.3013060796291236,
          4.223526661680264,
          -2.7135210858086833,
          3.4659225213463687,
          11.149549085207582,
          -2.7302801520218134,
          1.608561965781152,
          1.6481356234608828,
          -2.185443803594858,
          -7.275997921358869,
          9.419155516144981,
          2.5205647979610744,
          0.3349332096932941,
          10.291695203517726,
          -6.6838307812679885,
          6.926763079043459,
          1.1717296541994382,
          -1.329823754754761,
          2.953343327855298,
          -0.5854284242930236,
          3.499618876353001,
          -0.36931759126720287,
          -3.595606282807471,
          -1.6281344708220227,
          1.6719239441134945,
          1.1561496805288098,
          4.979087611261405,
          1.9252288399622692,
          -4.572962017701941,
          1.647867264747287,
          2.255824427525056,
          -3.241715267290876,
          2.1371635944112506,
          -2.090830089569784,
          1.213714832173916,
          5.066729701191784,
          1.7452677157012277,
          0.793161071631098,
          -1.374299051050985,
          5.525799366984558,
          7.0901532772411455,
          13.392555382543106,
          4.362745307320636,
          11.950853859889255,
          -2.8084424857326957,
          12.107889330185003,
          2.62157043848526,
          12.580349561391357,
          1.514179403296551,
          -1.1112846672460381,
          5.9817620294649965,
          -5.350635615538494,
          -3.1198287563891265,
          0.5321839612634336,
          6.726488429278311,
          -3.207445878089839,
          11.951601295996632,
          6.775598131473317,
          -2.153006668437189,
          -5.322419735085019,
          -6.824263406377084,
          1.4629844082349392,
          5.2674686499188335,
          3.4812134599601574,
          -3.2426602206631774,
          -6.124276363612322,
          -7.890497441791422,
          0.8028316759214739,
          1.5372872000919484,
          2.2741248207202056,
          4.383953308419727,
          -1.6393945109234167,
          -1.5883551761341026,
          0.6728105120327181,
          -3.3978320411132117,
          -2.466896894303765,
          -3.3676724893807024,
          8.803995617149763,
          -10.086871139586709,
          10.098931453198954,
          -0.4434580828168485,
          1.3840322469890138,
          4.449227892870892,
          -0.97325468220014,
          7.580973583585184
         ]
        },
        {
         "mode": "markers",
         "name": "0",
         "type": "scatter",
         "x": [
          -4.788763714859127,
          -4.298074558855441,
          -9.050242740629601,
          4.5998354964091,
          -7.771989576926065,
          -2.443797714885381,
          -1.3015018133879106,
          -2.060022036476349,
          -0.4312741348295432,
          -6.033654039743628,
          -2.1611104256541376,
          -0.3860206334918129,
          -8.671237499928738,
          2.9008236756277737,
          -5.196489132156318,
          -7.224255210047888,
          0.37350079070026015,
          0.9591691627174971,
          -4.936665881269802,
          -2.705803248327807,
          1.986275330959537,
          -0.6349303872108222,
          -1.6428019595114316,
          4.090624950696744,
          -7.744694411339721,
          -1.7421359862080006,
          4.558715317164035,
          -8.018433996621305,
          -5.180206718688003,
          -3.109876039341093,
          -5.9420101996076395,
          -9.28311159222596,
          0.7893942168946507,
          0.23531733273023836,
          -0.4082167545660498,
          4.721501640001436,
          0.02899971455879059,
          -8.647911003620091,
          -0.6621115707354649,
          1.1374713419477265,
          -4.79880994083834,
          -7.6545432199782635,
          -0.5238890288139135,
          3.1885938073660314,
          -5.456463789449022,
          -6.115531825955553,
          -7.315970573216707,
          0.16385434314669242,
          1.6033013655971375,
          -2.4600287156686127,
          5.992785680606064,
          -6.743591112182667,
          -10.303883390050608,
          -5.518729496891014,
          -3.638142051326736,
          1.4142812019033226,
          -1.3034834899483818,
          0.36580970061584994,
          -3.375498065052943,
          -2.8511650479633985,
          -3.4794915627721705,
          -5.965400134904799,
          -3.326524882100508,
          -0.9205916015028942,
          -1.7888560974924201,
          -1.0919844855217218,
          -9.791993399623886,
          2.253530016373909,
          -1.272289392590623,
          -0.10879369184063972,
          -1.0544158690051135,
          -2.965400399959493,
          -0.8169531672617917,
          1.021641950191293,
          -2.194353941163619,
          0.18506346486018185,
          -3.1989039396093855,
          -5.537172435177221,
          2.0597703240893153,
          -2.589316444258932,
          -0.035397853970890465,
          -1.2710356304840795,
          -6.182543677421951,
          -5.161800151822634,
          0.3395561404694734,
          -4.400160886357998,
          2.454958187599275,
          2.390575728977711,
          -1.5610200862428054,
          -8.083724275249178,
          -11.144769852948277,
          -1.8577416848012331,
          -3.8783766579414136,
          -9.866993125214586,
          0.49289434300321594,
          -2.5243232720453457,
          4.394243923455792,
          2.8917136126116647,
          5.037589323693114,
          0.5091030116013155,
          -7.431093818454145,
          4.54556219979375,
          -2.1111632593742735,
          -5.953338238805427,
          -3.6799452110864115,
          -4.67176397306485,
          -4.853432921805303,
          6.328788676752885,
          -3.274177094885798,
          3.4881499223027523,
          -1.3311860337609425,
          -10.270780195212684,
          -8.749602598163117,
          -7.679576320889151,
          -1.2998616677297767,
          -0.6877959832163897,
          0.09991813901670969,
          -0.661806396604255,
          -4.616404038307401,
          1.3832662635613537,
          0.8630518427625232,
          -4.662319978055517,
          -1.878774454352202,
          0.6492239540071241,
          0.6581976550240222,
          -5.464198605729543,
          -0.0010883129156298427,
          -2.9302097587074236,
          -5.365465318582387,
          -2.0733549294686355,
          1.971415942576424,
          -9.616842495902365,
          1.6954940703359727,
          -9.777037582967813,
          -6.0408440092954345,
          -3.1787932074321437,
          -4.833270797952123,
          1.6257253982812543,
          4.669701917651875,
          -2.002733135760988,
          -0.4934810574881706,
          -1.2997922033833347,
          -3.809953964477437,
          -0.9404324136128378,
          -9.835435126360736,
          -3.9406902042724985,
          -2.8210397199894266,
          -2.0370261859864702,
          2.3160926777168314,
          4.082951837994687,
          -1.1443256668241273,
          -5.254207720978151,
          -4.235508805515175,
          1.36881938111618,
          -6.556858312949467,
          -2.3581688208353637,
          -1.697513288929604,
          -9.981839211471977,
          -7.563420697468322,
          5.144319234776734,
          1.3015806015014488,
          -0.006257123369132096,
          -3.212535342825402,
          -3.596501594935327,
          -1.7318869841066649,
          1.4114956193066446,
          0.6439738039295759,
          3.2799037157162574,
          -2.026114704318458,
          -4.794323470906401,
          4.61412771665494,
          -0.295161092057882,
          -8.436603881238744,
          -10.157456524364559,
          -6.1684303297504535,
          2.0942040317802397,
          -5.054666218468169,
          -3.275461217788539,
          -0.5522198272170362,
          -2.604220246404659,
          -3.8209477455643763,
          -3.799247951937791,
          -4.013881482768362,
          -3.3443385921880124,
          -0.8061705224289986,
          1.479617369550149,
          -3.4746735605280232,
          -6.450325609701193,
          -6.585286251355983,
          -8.547337203137898,
          -9.568920804508195,
          -0.5715561009240663,
          -0.16473165313075686,
          -8.670836604611772,
          -5.832392690918386,
          3.3776725931347737,
          -6.268482512485773,
          0.03040948344006119,
          -4.820944836430911,
          -0.29485558564625847,
          -6.5764358621812375,
          -1.2182809839554498,
          -2.6198899657225465,
          -3.4506309355427764,
          -2.603505617495426,
          3.3881257580123427,
          -8.497215480473567,
          -4.827404934482933,
          1.937793777440693,
          -1.6515718118010054,
          -2.310380128027544,
          1.5448382454897975,
          -7.275456628859542,
          -0.87112448074996,
          -4.509165471879605,
          2.7221852946204836,
          -5.133232305666214,
          2.899132545373581,
          -0.22906956463586295,
          -0.18461034392597023,
          -8.124489583193487,
          -1.291856514853611,
          3.921177341373168,
          -8.474192504472777,
          0.5894773800056412,
          -7.977775311278047,
          -5.46235742316164,
          -8.251394897455242,
          -4.301180908690884,
          -3.613921742697436,
          2.258932079989252,
          2.5054851017600237,
          1.0818413854661095,
          -1.4671204719805757,
          -0.7957936173613709,
          -2.1860802745137606,
          -7.263413760866584,
          -1.9628928976110442,
          -1.9047847210726898,
          2.1737199863917605,
          -4.49919581126127,
          3.0431809124862848,
          3.3502412307096345,
          2.9963843335746985,
          1.3450436368489678,
          -4.843853773202016,
          -5.154184747686388,
          4.169869839781282,
          -4.905039477793379,
          -1.325259617090771,
          0.5176002335311365,
          -2.719872310285528,
          -3.6822106975300604,
          -2.1337412697804248,
          0.6515646441873092
         ],
         "y": [
          -0.7629382292925887,
          -3.492921429610374,
          -3.1876333187912493,
          4.632514817921788,
          -0.3859838909897466,
          -1.1061233860526507,
          -5.180304437572998,
          -2.7493907846759096,
          3.8868822497095463,
          -8.548877546307269,
          1.1195256868656478,
          -5.318709858170485,
          0.9803556462877482,
          1.2635719637772065,
          -2.5924002383747373,
          4.367477940759033,
          -2.3933772544152037,
          -2.345594277693361,
          -4.158760401111338,
          0.3788356002407885,
          6.569726312808937,
          -6.340919139739089,
          0.9918454497829395,
          -0.05786943789598084,
          0.8509946703985759,
          -3.438122388474767,
          -0.8978961078796058,
          -6.008140710483269,
          -6.593511418367644,
          2.993064688099866,
          -4.722236655835898,
          0.2799441828210264,
          1.6482180604515775,
          3.8778176767390247,
          5.561841338031278,
          -3.8546649282421415,
          4.102599530443793,
          2.600811244340422,
          -0.36136417989047603,
          -2.48787205296366,
          -0.6450272160860795,
          1.5704157009196416,
          -6.685921249064737,
          -1.3263922174225924,
          -2.294152960945775,
          -1.9400302300573546,
          -1.9994381415109967,
          -2.4464113897428783,
          -0.7109240117146717,
          0.2743526899022281,
          2.019668540879775,
          1.068435805457586,
          -3.3532254855914014,
          -3.221893169897815,
          -4.219451688445824,
          -5.736171312185628,
          0.15049888338789041,
          7.376511945462654,
          2.7572578017025786,
          2.5886317101990333,
          6.770780030301333,
          1.2012896786659437,
          -2.229378979424312,
          -3.697025139880852,
          -3.3205543620233566,
          -7.25544005617,
          -0.3489549821973521,
          -0.40068706796492265,
          -0.6894299064345705,
          -1.844101689563017,
          -1.3909364305844882,
          -1.3164162671792348,
          -4.288127617308871,
          -3.3457995000416663,
          -1.7621634573175018,
          -2.9362755951309625,
          -6.876489330452992,
          3.5563023618783807,
          -2.797381196423148,
          -2.103466723102421,
          -5.18498342010764,
          -1.3164959600946333,
          3.331089298996049,
          4.1308462288165035,
          -4.624688226760806,
          -2.893332712399571,
          2.361203620971029,
          -2.1116264094000243,
          -1.1618721682447761,
          4.853844961330473,
          -2.7471253157110542,
          -5.9045927325443985,
          -1.7252062779963686,
          0.5427080559897967,
          1.9279169782049317,
          -3.746974293240297,
          -0.42397071383334767,
          -1.8280826843093718,
          3.8043477224164466,
          -1.2069630180152435,
          -2.1601513168680717,
          -5.342665020998396,
          0.5897390103953958,
          0.9743258339787398,
          -7.463183293440228,
          4.5067158859864955,
          3.5017222970896276,
          -5.021592119298091,
          -6.351482711560161,
          -0.2524512207234926,
          -0.7462245826394704,
          -4.987441086947102,
          -4.328293896565211,
          -0.22051228079124358,
          0.03719965936944503,
          -5.426483847697269,
          3.405059720159524,
          3.982911289728003,
          5.957914340831448,
          0.7010645459049464,
          -0.675773431238453,
          -6.708477632356236,
          3.693800233229047,
          2.512863907205367,
          -2.5890142386249635,
          0.13276148437361948,
          -4.286371042516361,
          -2.003419216489693,
          -0.8049437825523381,
          -5.060319512561522,
          -4.226251747296518,
          1.8831466782959025,
          -1.254293159376658,
          -1.8340650814549175,
          0.2082123840147757,
          -3.2801743836541086,
          2.0921926034397735,
          3.7384549273486254,
          -6.259625450297691,
          3.477784212601199,
          0.4618223742538878,
          0.03686218747934562,
          -1.9867735912090718,
          -0.5714673965737033,
          0.20095123519726737,
          -3.955503974216381,
          -1.1636953660122562,
          -0.389569621260577,
          3.019178067433991,
          -1.5007032808030922,
          5.509982064862622,
          -2.549132668018955,
          -2.1737225474932003,
          0.8406122192212929,
          0.3490324717786588,
          -2.2963642314826798,
          -6.880961965053612,
          0.9028382303722983,
          -1.0252741946432813,
          1.0103239668481252,
          -0.013584236042290039,
          3.376204616647328,
          -2.048138541490878,
          0.23326504142847074,
          0.00420107719612816,
          2.641615825584016,
          -6.053095067446293,
          -2.3923261360118575,
          0.43951426082211115,
          -3.3525665606392088,
          -0.10618355349634324,
          6.235759969692532,
          -1.342428749451107,
          0.9422532502861506,
          0.9156311751281826,
          -0.2802925383492226,
          -2.6342921085890225,
          -5.884720797267896,
          -3.3145672711150564,
          -0.7859518913071118,
          -3.9317906710357735,
          -7.178440180469908,
          -0.2109998386060921,
          -0.9277985535592326,
          4.416063980065056,
          0.8526284022612718,
          -3.769046723669986,
          -1.3135981944194146,
          4.7588402185876895,
          2.693184826034429,
          0.22045773149254336,
          -6.522762890474073,
          7.204205296114291,
          0.2955696785750549,
          -4.287206094581981,
          -3.3496313409947733,
          -5.557234285824526,
          -2.500071544138004,
          -2.176133897131324,
          6.235624138207085,
          -5.1131040567240795,
          6.760158425982223,
          5.591180268769199,
          -6.679392168752376,
          -3.408624119795442,
          0.04254439161065115,
          -0.6947493358311515,
          -5.31712817908412,
          -0.0930665928659354,
          -9.715863444789496,
          8.48478217860976,
          -0.866899968685419,
          -0.8927025815921872,
          -1.933567641896566,
          -6.152519624734169,
          1.0143629405227415,
          4.784447244201144,
          3.157814883226469,
          -2.8343143421311443,
          0.468283018682064,
          -1.8975583802212028,
          -5.990274866474536,
          -0.7538628623650266,
          1.3308209095345342,
          -3.9904800254031354,
          -1.671322041910579,
          6.0336810635272045,
          -3.7742871236585174,
          0.40045632456942454,
          0.6116183040190336,
          -1.569625834170114,
          -0.41665368629876287,
          0.2504984064937941,
          -4.321366208208929,
          -0.8232607402557158,
          -3.321264595097306,
          5.220059187332681,
          -0.9884157397684271,
          -9.892782405522029,
          -1.6181294200082847,
          3.9551735657258065,
          2.5557301187953554,
          -6.817595227498162,
          -5.615342246858902,
          -8.788713335478688,
          -0.25501146628002397,
          -1.0381692925519863,
          -2.0724589860157274,
          -3.0756731762389946,
          0.5208017407096633,
          5.1669634864712854,
          -4.290303802498056,
          -7.7157926936500845,
          -5.752192176078372,
          -1.431756451354323
         ]
        }
       ],
       "layout": {
        "template": {
         "data": {
          "bar": [
           {
            "error_x": {
             "color": "#2a3f5f"
            },
            "error_y": {
             "color": "#2a3f5f"
            },
            "marker": {
             "line": {
              "color": "#E5ECF6",
              "width": 0.5
             }
            },
            "type": "bar"
           }
          ],
          "barpolar": [
           {
            "marker": {
             "line": {
              "color": "#E5ECF6",
              "width": 0.5
             }
            },
            "type": "barpolar"
           }
          ],
          "carpet": [
           {
            "aaxis": {
             "endlinecolor": "#2a3f5f",
             "gridcolor": "white",
             "linecolor": "white",
             "minorgridcolor": "white",
             "startlinecolor": "#2a3f5f"
            },
            "baxis": {
             "endlinecolor": "#2a3f5f",
             "gridcolor": "white",
             "linecolor": "white",
             "minorgridcolor": "white",
             "startlinecolor": "#2a3f5f"
            },
            "type": "carpet"
           }
          ],
          "choropleth": [
           {
            "colorbar": {
             "outlinewidth": 0,
             "ticks": ""
            },
            "type": "choropleth"
           }
          ],
          "contour": [
           {
            "colorbar": {
             "outlinewidth": 0,
             "ticks": ""
            },
            "colorscale": [
             [
              0,
              "#0d0887"
             ],
             [
              0.1111111111111111,
              "#46039f"
             ],
             [
              0.2222222222222222,
              "#7201a8"
             ],
             [
              0.3333333333333333,
              "#9c179e"
             ],
             [
              0.4444444444444444,
              "#bd3786"
             ],
             [
              0.5555555555555556,
              "#d8576b"
             ],
             [
              0.6666666666666666,
              "#ed7953"
             ],
             [
              0.7777777777777778,
              "#fb9f3a"
             ],
             [
              0.8888888888888888,
              "#fdca26"
             ],
             [
              1,
              "#f0f921"
             ]
            ],
            "type": "contour"
           }
          ],
          "contourcarpet": [
           {
            "colorbar": {
             "outlinewidth": 0,
             "ticks": ""
            },
            "type": "contourcarpet"
           }
          ],
          "heatmap": [
           {
            "colorbar": {
             "outlinewidth": 0,
             "ticks": ""
            },
            "colorscale": [
             [
              0,
              "#0d0887"
             ],
             [
              0.1111111111111111,
              "#46039f"
             ],
             [
              0.2222222222222222,
              "#7201a8"
             ],
             [
              0.3333333333333333,
              "#9c179e"
             ],
             [
              0.4444444444444444,
              "#bd3786"
             ],
             [
              0.5555555555555556,
              "#d8576b"
             ],
             [
              0.6666666666666666,
              "#ed7953"
             ],
             [
              0.7777777777777778,
              "#fb9f3a"
             ],
             [
              0.8888888888888888,
              "#fdca26"
             ],
             [
              1,
              "#f0f921"
             ]
            ],
            "type": "heatmap"
           }
          ],
          "heatmapgl": [
           {
            "colorbar": {
             "outlinewidth": 0,
             "ticks": ""
            },
            "colorscale": [
             [
              0,
              "#0d0887"
             ],
             [
              0.1111111111111111,
              "#46039f"
             ],
             [
              0.2222222222222222,
              "#7201a8"
             ],
             [
              0.3333333333333333,
              "#9c179e"
             ],
             [
              0.4444444444444444,
              "#bd3786"
             ],
             [
              0.5555555555555556,
              "#d8576b"
             ],
             [
              0.6666666666666666,
              "#ed7953"
             ],
             [
              0.7777777777777778,
              "#fb9f3a"
             ],
             [
              0.8888888888888888,
              "#fdca26"
             ],
             [
              1,
              "#f0f921"
             ]
            ],
            "type": "heatmapgl"
           }
          ],
          "histogram": [
           {
            "marker": {
             "colorbar": {
              "outlinewidth": 0,
              "ticks": ""
             }
            },
            "type": "histogram"
           }
          ],
          "histogram2d": [
           {
            "colorbar": {
             "outlinewidth": 0,
             "ticks": ""
            },
            "colorscale": [
             [
              0,
              "#0d0887"
             ],
             [
              0.1111111111111111,
              "#46039f"
             ],
             [
              0.2222222222222222,
              "#7201a8"
             ],
             [
              0.3333333333333333,
              "#9c179e"
             ],
             [
              0.4444444444444444,
              "#bd3786"
             ],
             [
              0.5555555555555556,
              "#d8576b"
             ],
             [
              0.6666666666666666,
              "#ed7953"
             ],
             [
              0.7777777777777778,
              "#fb9f3a"
             ],
             [
              0.8888888888888888,
              "#fdca26"
             ],
             [
              1,
              "#f0f921"
             ]
            ],
            "type": "histogram2d"
           }
          ],
          "histogram2dcontour": [
           {
            "colorbar": {
             "outlinewidth": 0,
             "ticks": ""
            },
            "colorscale": [
             [
              0,
              "#0d0887"
             ],
             [
              0.1111111111111111,
              "#46039f"
             ],
             [
              0.2222222222222222,
              "#7201a8"
             ],
             [
              0.3333333333333333,
              "#9c179e"
             ],
             [
              0.4444444444444444,
              "#bd3786"
             ],
             [
              0.5555555555555556,
              "#d8576b"
             ],
             [
              0.6666666666666666,
              "#ed7953"
             ],
             [
              0.7777777777777778,
              "#fb9f3a"
             ],
             [
              0.8888888888888888,
              "#fdca26"
             ],
             [
              1,
              "#f0f921"
             ]
            ],
            "type": "histogram2dcontour"
           }
          ],
          "mesh3d": [
           {
            "colorbar": {
             "outlinewidth": 0,
             "ticks": ""
            },
            "type": "mesh3d"
           }
          ],
          "parcoords": [
           {
            "line": {
             "colorbar": {
              "outlinewidth": 0,
              "ticks": ""
             }
            },
            "type": "parcoords"
           }
          ],
          "pie": [
           {
            "automargin": true,
            "type": "pie"
           }
          ],
          "scatter": [
           {
            "marker": {
             "colorbar": {
              "outlinewidth": 0,
              "ticks": ""
             }
            },
            "type": "scatter"
           }
          ],
          "scatter3d": [
           {
            "line": {
             "colorbar": {
              "outlinewidth": 0,
              "ticks": ""
             }
            },
            "marker": {
             "colorbar": {
              "outlinewidth": 0,
              "ticks": ""
             }
            },
            "type": "scatter3d"
           }
          ],
          "scattercarpet": [
           {
            "marker": {
             "colorbar": {
              "outlinewidth": 0,
              "ticks": ""
             }
            },
            "type": "scattercarpet"
           }
          ],
          "scattergeo": [
           {
            "marker": {
             "colorbar": {
              "outlinewidth": 0,
              "ticks": ""
             }
            },
            "type": "scattergeo"
           }
          ],
          "scattergl": [
           {
            "marker": {
             "colorbar": {
              "outlinewidth": 0,
              "ticks": ""
             }
            },
            "type": "scattergl"
           }
          ],
          "scattermapbox": [
           {
            "marker": {
             "colorbar": {
              "outlinewidth": 0,
              "ticks": ""
             }
            },
            "type": "scattermapbox"
           }
          ],
          "scatterpolar": [
           {
            "marker": {
             "colorbar": {
              "outlinewidth": 0,
              "ticks": ""
             }
            },
            "type": "scatterpolar"
           }
          ],
          "scatterpolargl": [
           {
            "marker": {
             "colorbar": {
              "outlinewidth": 0,
              "ticks": ""
             }
            },
            "type": "scatterpolargl"
           }
          ],
          "scatterternary": [
           {
            "marker": {
             "colorbar": {
              "outlinewidth": 0,
              "ticks": ""
             }
            },
            "type": "scatterternary"
           }
          ],
          "surface": [
           {
            "colorbar": {
             "outlinewidth": 0,
             "ticks": ""
            },
            "colorscale": [
             [
              0,
              "#0d0887"
             ],
             [
              0.1111111111111111,
              "#46039f"
             ],
             [
              0.2222222222222222,
              "#7201a8"
             ],
             [
              0.3333333333333333,
              "#9c179e"
             ],
             [
              0.4444444444444444,
              "#bd3786"
             ],
             [
              0.5555555555555556,
              "#d8576b"
             ],
             [
              0.6666666666666666,
              "#ed7953"
             ],
             [
              0.7777777777777778,
              "#fb9f3a"
             ],
             [
              0.8888888888888888,
              "#fdca26"
             ],
             [
              1,
              "#f0f921"
             ]
            ],
            "type": "surface"
           }
          ],
          "table": [
           {
            "cells": {
             "fill": {
              "color": "#EBF0F8"
             },
             "line": {
              "color": "white"
             }
            },
            "header": {
             "fill": {
              "color": "#C8D4E3"
             },
             "line": {
              "color": "white"
             }
            },
            "type": "table"
           }
          ]
         },
         "layout": {
          "annotationdefaults": {
           "arrowcolor": "#2a3f5f",
           "arrowhead": 0,
           "arrowwidth": 1
          },
          "coloraxis": {
           "colorbar": {
            "outlinewidth": 0,
            "ticks": ""
           }
          },
          "colorscale": {
           "diverging": [
            [
             0,
             "#8e0152"
            ],
            [
             0.1,
             "#c51b7d"
            ],
            [
             0.2,
             "#de77ae"
            ],
            [
             0.3,
             "#f1b6da"
            ],
            [
             0.4,
             "#fde0ef"
            ],
            [
             0.5,
             "#f7f7f7"
            ],
            [
             0.6,
             "#e6f5d0"
            ],
            [
             0.7,
             "#b8e186"
            ],
            [
             0.8,
             "#7fbc41"
            ],
            [
             0.9,
             "#4d9221"
            ],
            [
             1,
             "#276419"
            ]
           ],
           "sequential": [
            [
             0,
             "#0d0887"
            ],
            [
             0.1111111111111111,
             "#46039f"
            ],
            [
             0.2222222222222222,
             "#7201a8"
            ],
            [
             0.3333333333333333,
             "#9c179e"
            ],
            [
             0.4444444444444444,
             "#bd3786"
            ],
            [
             0.5555555555555556,
             "#d8576b"
            ],
            [
             0.6666666666666666,
             "#ed7953"
            ],
            [
             0.7777777777777778,
             "#fb9f3a"
            ],
            [
             0.8888888888888888,
             "#fdca26"
            ],
            [
             1,
             "#f0f921"
            ]
           ],
           "sequentialminus": [
            [
             0,
             "#0d0887"
            ],
            [
             0.1111111111111111,
             "#46039f"
            ],
            [
             0.2222222222222222,
             "#7201a8"
            ],
            [
             0.3333333333333333,
             "#9c179e"
            ],
            [
             0.4444444444444444,
             "#bd3786"
            ],
            [
             0.5555555555555556,
             "#d8576b"
            ],
            [
             0.6666666666666666,
             "#ed7953"
            ],
            [
             0.7777777777777778,
             "#fb9f3a"
            ],
            [
             0.8888888888888888,
             "#fdca26"
            ],
            [
             1,
             "#f0f921"
            ]
           ]
          },
          "colorway": [
           "#636efa",
           "#EF553B",
           "#00cc96",
           "#ab63fa",
           "#FFA15A",
           "#19d3f3",
           "#FF6692",
           "#B6E880",
           "#FF97FF",
           "#FECB52"
          ],
          "font": {
           "color": "#2a3f5f"
          },
          "geo": {
           "bgcolor": "white",
           "lakecolor": "white",
           "landcolor": "#E5ECF6",
           "showlakes": true,
           "showland": true,
           "subunitcolor": "white"
          },
          "hoverlabel": {
           "align": "left"
          },
          "hovermode": "closest",
          "mapbox": {
           "style": "light"
          },
          "paper_bgcolor": "white",
          "plot_bgcolor": "#E5ECF6",
          "polar": {
           "angularaxis": {
            "gridcolor": "white",
            "linecolor": "white",
            "ticks": ""
           },
           "bgcolor": "#E5ECF6",
           "radialaxis": {
            "gridcolor": "white",
            "linecolor": "white",
            "ticks": ""
           }
          },
          "scene": {
           "xaxis": {
            "backgroundcolor": "#E5ECF6",
            "gridcolor": "white",
            "gridwidth": 2,
            "linecolor": "white",
            "showbackground": true,
            "ticks": "",
            "zerolinecolor": "white"
           },
           "yaxis": {
            "backgroundcolor": "#E5ECF6",
            "gridcolor": "white",
            "gridwidth": 2,
            "linecolor": "white",
            "showbackground": true,
            "ticks": "",
            "zerolinecolor": "white"
           },
           "zaxis": {
            "backgroundcolor": "#E5ECF6",
            "gridcolor": "white",
            "gridwidth": 2,
            "linecolor": "white",
            "showbackground": true,
            "ticks": "",
            "zerolinecolor": "white"
           }
          },
          "shapedefaults": {
           "line": {
            "color": "#2a3f5f"
           }
          },
          "ternary": {
           "aaxis": {
            "gridcolor": "white",
            "linecolor": "white",
            "ticks": ""
           },
           "baxis": {
            "gridcolor": "white",
            "linecolor": "white",
            "ticks": ""
           },
           "bgcolor": "#E5ECF6",
           "caxis": {
            "gridcolor": "white",
            "linecolor": "white",
            "ticks": ""
           }
          },
          "title": {
           "x": 0.05
          },
          "xaxis": {
           "automargin": true,
           "gridcolor": "white",
           "linecolor": "white",
           "ticks": "",
           "title": {
            "standoff": 15
           },
           "zerolinecolor": "white",
           "zerolinewidth": 2
          },
          "yaxis": {
           "automargin": true,
           "gridcolor": "white",
           "linecolor": "white",
           "ticks": "",
           "title": {
            "standoff": 15
           },
           "zerolinecolor": "white",
           "zerolinewidth": 2
          }
         }
        }
       }
      },
      "text/html": [
       "<div>\n",
       "        \n",
       "        \n",
       "            <div id=\"5d416d6a-504b-499a-848b-9b321dfabc75\" class=\"plotly-graph-div\" style=\"height:525px; width:100%;\"></div>\n",
       "            <script type=\"text/javascript\">\n",
       "                require([\"plotly\"], function(Plotly) {\n",
       "                    window.PLOTLYENV=window.PLOTLYENV || {};\n",
       "                    \n",
       "                if (document.getElementById(\"5d416d6a-504b-499a-848b-9b321dfabc75\")) {\n",
       "                    Plotly.newPlot(\n",
       "                        '5d416d6a-504b-499a-848b-9b321dfabc75',\n",
       "                        [{\"mode\": \"markers\", \"name\": \"-1\", \"type\": \"scatter\", \"x\": [-1.91523209995475, 6.857526546888734, 6.1408587119796705, 9.027348604632925, 10.076800403297932, 6.88145723496174, 1.062523647953763, 13.23065719156052, 3.279065073600239, 5.028656005694944, 9.36450799699773, 14.816762778387726, -1.6937753607161006, 11.61273809719453, 13.278048141102675, 3.397648038901448, 8.710283038687006, 9.849276525441182, 7.708029882643528, 4.282389855142856, 4.551726971155306, 2.6198750823830044, 7.719896385141702, -11.321000737828783, 2.99378128092177, 4.502526180654909, 3.091979386435816, 13.165671006835625, 4.799228852200731, 7.153711349347537, -10.491321762022936, 6.501528312721933, 10.030547762226458, 7.596138227104761, 6.509553058678154, 5.963686606199387, 8.979623734855968, 11.330782130324145, -7.0050888392089075, 0.9670354155649139, -13.049168551181538, 8.805266678650979, -2.6756061084085325, -15.834963633626234, 10.498526673779235, 5.814146216079979, 6.073030071786474, 9.98125017726774, 11.485929034344307, 8.38839370303548, 4.473424560219783, -11.654060855920914, 11.126092363540222, 9.089538827087514, -5.621554245901283, -5.099393517170976, 11.856122888358671, 6.37771753642125, 6.697833997601024, -10.735769674431706, 8.466257542174215, 2.703087385016134, 6.1333667468751285, 8.530287890921496, 4.348607676416607, 9.039579509641472, 11.444742652685187, 11.014014534677754, -12.529522724332672, -11.152829075368901, -8.226444253871366, 9.057078732956064, 6.589340785749231, -5.310233435295382, 6.155979294809664, -3.574414594737234, 8.507908457499443, 7.3255926240942575, 4.608144914690812, 6.42900520564738, 7.595082393006538, 7.042495316543605, 0.7425386343096356, 5.64524214796162, -11.172219252486109, 9.204540399146625, 16.868642481076172, 5.504239627328113, 2.777866245550113, -12.885983123022282, 16.845103561969204, 5.404536232746264, 10.282820196489899, 4.393589044109089, 7.590684068015965, 7.49921444425495, 9.76537400490157, 7.943246412416514, 10.553841956885968, -3.0744945990602224, 7.5828792463314265, -0.6432896599551304, 8.829538671174369, -9.83043714284073, 8.765648277897128, -10.870060970208742, 7.600945100593426, -10.450321409811206, 13.358019197475633, 4.548851448948442, 3.2604333471593625, 5.2073368958144055, 7.504580461693127, 4.830887223623502, 2.0103485286825427, 8.031189696902993, -0.8508634573855802, -4.491979627249268, 11.64298913390489, 7.641723072087652, 2.9422989129374852, 7.652764181387713, -1.6014394706658883, 16.80580692846662, 7.546497860213048, 3.3301674774316736, -8.824026564688484, 6.9359810782622455, 3.2227798562316403, 1.299330213218393, -11.99640781670003, 5.105249129608727, 4.435916354366254, 9.344422399465294, 13.206371752930684, 9.076990426922798, 8.486062121565055, 3.4524538642870697, 8.274607285621087, -10.466838539773278, 11.804594556308496, 6.787018506070324, 3.0390820046991567, -12.402092165415809, -4.315967999850518], \"y\": [14.638925957066729, -0.10749296145960618, 0.7553454455904971, 1.0014071002045997, -2.0131286241324853, -0.43696161442104514, 1.4112298825359362, 1.5042347028756455, 1.0871046670336357, -4.482541105709368, 1.3499852101089809, 2.5952802346508177, 8.572228969700477, 2.932542889360685, 2.4335169604557843, 0.1378263960422462, 0.08024864910385034, 1.0702889465022474, -3.7520652840546633, -4.552608410124084, 4.570755789443163, 9.395687770198487, 3.497961389075595, 2.4813820601076104, 5.552309463040637, 0.9122454352968441, 18.04803095628344, 1.5551242706317878, 4.675040353301247, -4.095191699763226, -8.849538822993996, -0.31408622094364486, 3.4694494696642466, -6.922518548131215, 1.7155618114573974, -0.7977614568560504, 1.8159705630610996, 2.0225795505646222, 10.699108972197465, -0.9580190244203499, -0.9102144441502493, 4.655216413232399, 11.45674572383145, 0.3708597348275773, 3.0113060000983234, 1.7766145176174626, -3.453662216886171, -0.7507894258387195, -2.1361179201553986, 0.9355247540069629, -5.845685382970913, 7.6924005254387575, 1.566532755787901, -2.267946028523155, 8.531985269707432, 12.202342135987127, 6.684394713680979, -0.2950733295635783, -0.405846762946202, 11.562425019196981, -2.3013060796291236, 4.223526661680264, -2.7135210858086833, 3.4659225213463687, 11.149549085207582, -2.7302801520218134, 1.608561965781152, 1.6481356234608828, -2.185443803594858, -7.275997921358869, 9.419155516144981, 2.5205647979610744, 0.3349332096932941, 10.291695203517726, -6.6838307812679885, 6.926763079043459, 1.1717296541994382, -1.329823754754761, 2.953343327855298, -0.5854284242930236, 3.499618876353001, -0.36931759126720287, -3.595606282807471, -1.6281344708220227, 1.6719239441134945, 1.1561496805288098, 4.979087611261405, 1.9252288399622692, -4.572962017701941, 1.647867264747287, 2.255824427525056, -3.241715267290876, 2.1371635944112506, -2.090830089569784, 1.213714832173916, 5.066729701191784, 1.7452677157012277, 0.793161071631098, -1.374299051050985, 5.525799366984558, 7.0901532772411455, 13.392555382543106, 4.362745307320636, 11.950853859889255, -2.8084424857326957, 12.107889330185003, 2.62157043848526, 12.580349561391357, 1.514179403296551, -1.1112846672460381, 5.9817620294649965, -5.350635615538494, -3.1198287563891265, 0.5321839612634336, 6.726488429278311, -3.207445878089839, 11.951601295996632, 6.775598131473317, -2.153006668437189, -5.322419735085019, -6.824263406377084, 1.4629844082349392, 5.2674686499188335, 3.4812134599601574, -3.2426602206631774, -6.124276363612322, -7.890497441791422, 0.8028316759214739, 1.5372872000919484, 2.2741248207202056, 4.383953308419727, -1.6393945109234167, -1.5883551761341026, 0.6728105120327181, -3.3978320411132117, -2.466896894303765, -3.3676724893807024, 8.803995617149763, -10.086871139586709, 10.098931453198954, -0.4434580828168485, 1.3840322469890138, 4.449227892870892, -0.97325468220014, 7.580973583585184]}, {\"mode\": \"markers\", \"name\": \"0\", \"type\": \"scatter\", \"x\": [-4.788763714859127, -4.298074558855441, -9.050242740629601, 4.5998354964091, -7.771989576926065, -2.443797714885381, -1.3015018133879106, -2.060022036476349, -0.4312741348295432, -6.033654039743628, -2.1611104256541376, -0.3860206334918129, -8.671237499928738, 2.9008236756277737, -5.196489132156318, -7.224255210047888, 0.37350079070026015, 0.9591691627174971, -4.936665881269802, -2.705803248327807, 1.986275330959537, -0.6349303872108222, -1.6428019595114316, 4.090624950696744, -7.744694411339721, -1.7421359862080006, 4.558715317164035, -8.018433996621305, -5.180206718688003, -3.109876039341093, -5.9420101996076395, -9.28311159222596, 0.7893942168946507, 0.23531733273023836, -0.4082167545660498, 4.721501640001436, 0.02899971455879059, -8.647911003620091, -0.6621115707354649, 1.1374713419477265, -4.79880994083834, -7.6545432199782635, -0.5238890288139135, 3.1885938073660314, -5.456463789449022, -6.115531825955553, -7.315970573216707, 0.16385434314669242, 1.6033013655971375, -2.4600287156686127, 5.992785680606064, -6.743591112182667, -10.303883390050608, -5.518729496891014, -3.638142051326736, 1.4142812019033226, -1.3034834899483818, 0.36580970061584994, -3.375498065052943, -2.8511650479633985, -3.4794915627721705, -5.965400134904799, -3.326524882100508, -0.9205916015028942, -1.7888560974924201, -1.0919844855217218, -9.791993399623886, 2.253530016373909, -1.272289392590623, -0.10879369184063972, -1.0544158690051135, -2.965400399959493, -0.8169531672617917, 1.021641950191293, -2.194353941163619, 0.18506346486018185, -3.1989039396093855, -5.537172435177221, 2.0597703240893153, -2.589316444258932, -0.035397853970890465, -1.2710356304840795, -6.182543677421951, -5.161800151822634, 0.3395561404694734, -4.400160886357998, 2.454958187599275, 2.390575728977711, -1.5610200862428054, -8.083724275249178, -11.144769852948277, -1.8577416848012331, -3.8783766579414136, -9.866993125214586, 0.49289434300321594, -2.5243232720453457, 4.394243923455792, 2.8917136126116647, 5.037589323693114, 0.5091030116013155, -7.431093818454145, 4.54556219979375, -2.1111632593742735, -5.953338238805427, -3.6799452110864115, -4.67176397306485, -4.853432921805303, 6.328788676752885, -3.274177094885798, 3.4881499223027523, -1.3311860337609425, -10.270780195212684, -8.749602598163117, -7.679576320889151, -1.2998616677297767, -0.6877959832163897, 0.09991813901670969, -0.661806396604255, -4.616404038307401, 1.3832662635613537, 0.8630518427625232, -4.662319978055517, -1.878774454352202, 0.6492239540071241, 0.6581976550240222, -5.464198605729543, -0.0010883129156298427, -2.9302097587074236, -5.365465318582387, -2.0733549294686355, 1.971415942576424, -9.616842495902365, 1.6954940703359727, -9.777037582967813, -6.0408440092954345, -3.1787932074321437, -4.833270797952123, 1.6257253982812543, 4.669701917651875, -2.002733135760988, -0.4934810574881706, -1.2997922033833347, -3.809953964477437, -0.9404324136128378, -9.835435126360736, -3.9406902042724985, -2.8210397199894266, -2.0370261859864702, 2.3160926777168314, 4.082951837994687, -1.1443256668241273, -5.254207720978151, -4.235508805515175, 1.36881938111618, -6.556858312949467, -2.3581688208353637, -1.697513288929604, -9.981839211471977, -7.563420697468322, 5.144319234776734, 1.3015806015014488, -0.006257123369132096, -3.212535342825402, -3.596501594935327, -1.7318869841066649, 1.4114956193066446, 0.6439738039295759, 3.2799037157162574, -2.026114704318458, -4.794323470906401, 4.61412771665494, -0.295161092057882, -8.436603881238744, -10.157456524364559, -6.1684303297504535, 2.0942040317802397, -5.054666218468169, -3.275461217788539, -0.5522198272170362, -2.604220246404659, -3.8209477455643763, -3.799247951937791, -4.013881482768362, -3.3443385921880124, -0.8061705224289986, 1.479617369550149, -3.4746735605280232, -6.450325609701193, -6.585286251355983, -8.547337203137898, -9.568920804508195, -0.5715561009240663, -0.16473165313075686, -8.670836604611772, -5.832392690918386, 3.3776725931347737, -6.268482512485773, 0.03040948344006119, -4.820944836430911, -0.29485558564625847, -6.5764358621812375, -1.2182809839554498, -2.6198899657225465, -3.4506309355427764, -2.603505617495426, 3.3881257580123427, -8.497215480473567, -4.827404934482933, 1.937793777440693, -1.6515718118010054, -2.310380128027544, 1.5448382454897975, -7.275456628859542, -0.87112448074996, -4.509165471879605, 2.7221852946204836, -5.133232305666214, 2.899132545373581, -0.22906956463586295, -0.18461034392597023, -8.124489583193487, -1.291856514853611, 3.921177341373168, -8.474192504472777, 0.5894773800056412, -7.977775311278047, -5.46235742316164, -8.251394897455242, -4.301180908690884, -3.613921742697436, 2.258932079989252, 2.5054851017600237, 1.0818413854661095, -1.4671204719805757, -0.7957936173613709, -2.1860802745137606, -7.263413760866584, -1.9628928976110442, -1.9047847210726898, 2.1737199863917605, -4.49919581126127, 3.0431809124862848, 3.3502412307096345, 2.9963843335746985, 1.3450436368489678, -4.843853773202016, -5.154184747686388, 4.169869839781282, -4.905039477793379, -1.325259617090771, 0.5176002335311365, -2.719872310285528, -3.6822106975300604, -2.1337412697804248, 0.6515646441873092], \"y\": [-0.7629382292925887, -3.492921429610374, -3.1876333187912493, 4.632514817921788, -0.3859838909897466, -1.1061233860526507, -5.180304437572998, -2.7493907846759096, 3.8868822497095463, -8.548877546307269, 1.1195256868656478, -5.318709858170485, 0.9803556462877482, 1.2635719637772065, -2.5924002383747373, 4.367477940759033, -2.3933772544152037, -2.345594277693361, -4.158760401111338, 0.3788356002407885, 6.569726312808937, -6.340919139739089, 0.9918454497829395, -0.05786943789598084, 0.8509946703985759, -3.438122388474767, -0.8978961078796058, -6.008140710483269, -6.593511418367644, 2.993064688099866, -4.722236655835898, 0.2799441828210264, 1.6482180604515775, 3.8778176767390247, 5.561841338031278, -3.8546649282421415, 4.102599530443793, 2.600811244340422, -0.36136417989047603, -2.48787205296366, -0.6450272160860795, 1.5704157009196416, -6.685921249064737, -1.3263922174225924, -2.294152960945775, -1.9400302300573546, -1.9994381415109967, -2.4464113897428783, -0.7109240117146717, 0.2743526899022281, 2.019668540879775, 1.068435805457586, -3.3532254855914014, -3.221893169897815, -4.219451688445824, -5.736171312185628, 0.15049888338789041, 7.376511945462654, 2.7572578017025786, 2.5886317101990333, 6.770780030301333, 1.2012896786659437, -2.229378979424312, -3.697025139880852, -3.3205543620233566, -7.25544005617, -0.3489549821973521, -0.40068706796492265, -0.6894299064345705, -1.844101689563017, -1.3909364305844882, -1.3164162671792348, -4.288127617308871, -3.3457995000416663, -1.7621634573175018, -2.9362755951309625, -6.876489330452992, 3.5563023618783807, -2.797381196423148, -2.103466723102421, -5.18498342010764, -1.3164959600946333, 3.331089298996049, 4.1308462288165035, -4.624688226760806, -2.893332712399571, 2.361203620971029, -2.1116264094000243, -1.1618721682447761, 4.853844961330473, -2.7471253157110542, -5.9045927325443985, -1.7252062779963686, 0.5427080559897967, 1.9279169782049317, -3.746974293240297, -0.42397071383334767, -1.8280826843093718, 3.8043477224164466, -1.2069630180152435, -2.1601513168680717, -5.342665020998396, 0.5897390103953958, 0.9743258339787398, -7.463183293440228, 4.5067158859864955, 3.5017222970896276, -5.021592119298091, -6.351482711560161, -0.2524512207234926, -0.7462245826394704, -4.987441086947102, -4.328293896565211, -0.22051228079124358, 0.03719965936944503, -5.426483847697269, 3.405059720159524, 3.982911289728003, 5.957914340831448, 0.7010645459049464, -0.675773431238453, -6.708477632356236, 3.693800233229047, 2.512863907205367, -2.5890142386249635, 0.13276148437361948, -4.286371042516361, -2.003419216489693, -0.8049437825523381, -5.060319512561522, -4.226251747296518, 1.8831466782959025, -1.254293159376658, -1.8340650814549175, 0.2082123840147757, -3.2801743836541086, 2.0921926034397735, 3.7384549273486254, -6.259625450297691, 3.477784212601199, 0.4618223742538878, 0.03686218747934562, -1.9867735912090718, -0.5714673965737033, 0.20095123519726737, -3.955503974216381, -1.1636953660122562, -0.389569621260577, 3.019178067433991, -1.5007032808030922, 5.509982064862622, -2.549132668018955, -2.1737225474932003, 0.8406122192212929, 0.3490324717786588, -2.2963642314826798, -6.880961965053612, 0.9028382303722983, -1.0252741946432813, 1.0103239668481252, -0.013584236042290039, 3.376204616647328, -2.048138541490878, 0.23326504142847074, 0.00420107719612816, 2.641615825584016, -6.053095067446293, -2.3923261360118575, 0.43951426082211115, -3.3525665606392088, -0.10618355349634324, 6.235759969692532, -1.342428749451107, 0.9422532502861506, 0.9156311751281826, -0.2802925383492226, -2.6342921085890225, -5.884720797267896, -3.3145672711150564, -0.7859518913071118, -3.9317906710357735, -7.178440180469908, -0.2109998386060921, -0.9277985535592326, 4.416063980065056, 0.8526284022612718, -3.769046723669986, -1.3135981944194146, 4.7588402185876895, 2.693184826034429, 0.22045773149254336, -6.522762890474073, 7.204205296114291, 0.2955696785750549, -4.287206094581981, -3.3496313409947733, -5.557234285824526, -2.500071544138004, -2.176133897131324, 6.235624138207085, -5.1131040567240795, 6.760158425982223, 5.591180268769199, -6.679392168752376, -3.408624119795442, 0.04254439161065115, -0.6947493358311515, -5.31712817908412, -0.0930665928659354, -9.715863444789496, 8.48478217860976, -0.866899968685419, -0.8927025815921872, -1.933567641896566, -6.152519624734169, 1.0143629405227415, 4.784447244201144, 3.157814883226469, -2.8343143421311443, 0.468283018682064, -1.8975583802212028, -5.990274866474536, -0.7538628623650266, 1.3308209095345342, -3.9904800254031354, -1.671322041910579, 6.0336810635272045, -3.7742871236585174, 0.40045632456942454, 0.6116183040190336, -1.569625834170114, -0.41665368629876287, 0.2504984064937941, -4.321366208208929, -0.8232607402557158, -3.321264595097306, 5.220059187332681, -0.9884157397684271, -9.892782405522029, -1.6181294200082847, 3.9551735657258065, 2.5557301187953554, -6.817595227498162, -5.615342246858902, -8.788713335478688, -0.25501146628002397, -1.0381692925519863, -2.0724589860157274, -3.0756731762389946, 0.5208017407096633, 5.1669634864712854, -4.290303802498056, -7.7157926936500845, -5.752192176078372, -1.431756451354323]}],\n",
       "                        {\"template\": {\"data\": {\"bar\": [{\"error_x\": {\"color\": \"#2a3f5f\"}, \"error_y\": {\"color\": \"#2a3f5f\"}, \"marker\": {\"line\": {\"color\": \"#E5ECF6\", \"width\": 0.5}}, \"type\": \"bar\"}], \"barpolar\": [{\"marker\": {\"line\": {\"color\": \"#E5ECF6\", \"width\": 0.5}}, \"type\": \"barpolar\"}], \"carpet\": [{\"aaxis\": {\"endlinecolor\": \"#2a3f5f\", \"gridcolor\": \"white\", \"linecolor\": \"white\", \"minorgridcolor\": \"white\", \"startlinecolor\": \"#2a3f5f\"}, \"baxis\": {\"endlinecolor\": \"#2a3f5f\", \"gridcolor\": \"white\", \"linecolor\": \"white\", \"minorgridcolor\": \"white\", \"startlinecolor\": \"#2a3f5f\"}, \"type\": \"carpet\"}], \"choropleth\": [{\"colorbar\": {\"outlinewidth\": 0, \"ticks\": \"\"}, \"type\": \"choropleth\"}], \"contour\": [{\"colorbar\": {\"outlinewidth\": 0, \"ticks\": \"\"}, \"colorscale\": [[0.0, \"#0d0887\"], [0.1111111111111111, \"#46039f\"], [0.2222222222222222, \"#7201a8\"], [0.3333333333333333, \"#9c179e\"], [0.4444444444444444, \"#bd3786\"], [0.5555555555555556, \"#d8576b\"], [0.6666666666666666, \"#ed7953\"], [0.7777777777777778, \"#fb9f3a\"], [0.8888888888888888, \"#fdca26\"], [1.0, \"#f0f921\"]], \"type\": \"contour\"}], \"contourcarpet\": [{\"colorbar\": {\"outlinewidth\": 0, \"ticks\": \"\"}, \"type\": \"contourcarpet\"}], \"heatmap\": [{\"colorbar\": {\"outlinewidth\": 0, \"ticks\": \"\"}, \"colorscale\": [[0.0, \"#0d0887\"], [0.1111111111111111, \"#46039f\"], [0.2222222222222222, \"#7201a8\"], [0.3333333333333333, \"#9c179e\"], [0.4444444444444444, \"#bd3786\"], [0.5555555555555556, \"#d8576b\"], [0.6666666666666666, \"#ed7953\"], [0.7777777777777778, \"#fb9f3a\"], [0.8888888888888888, \"#fdca26\"], [1.0, \"#f0f921\"]], \"type\": \"heatmap\"}], \"heatmapgl\": [{\"colorbar\": {\"outlinewidth\": 0, \"ticks\": \"\"}, \"colorscale\": [[0.0, \"#0d0887\"], [0.1111111111111111, \"#46039f\"], [0.2222222222222222, \"#7201a8\"], [0.3333333333333333, \"#9c179e\"], [0.4444444444444444, \"#bd3786\"], [0.5555555555555556, \"#d8576b\"], [0.6666666666666666, \"#ed7953\"], [0.7777777777777778, \"#fb9f3a\"], [0.8888888888888888, \"#fdca26\"], [1.0, \"#f0f921\"]], \"type\": \"heatmapgl\"}], \"histogram\": [{\"marker\": {\"colorbar\": {\"outlinewidth\": 0, \"ticks\": \"\"}}, \"type\": \"histogram\"}], \"histogram2d\": [{\"colorbar\": {\"outlinewidth\": 0, \"ticks\": \"\"}, \"colorscale\": [[0.0, \"#0d0887\"], [0.1111111111111111, \"#46039f\"], [0.2222222222222222, \"#7201a8\"], [0.3333333333333333, \"#9c179e\"], [0.4444444444444444, \"#bd3786\"], [0.5555555555555556, \"#d8576b\"], [0.6666666666666666, \"#ed7953\"], [0.7777777777777778, \"#fb9f3a\"], [0.8888888888888888, \"#fdca26\"], [1.0, \"#f0f921\"]], \"type\": \"histogram2d\"}], \"histogram2dcontour\": [{\"colorbar\": {\"outlinewidth\": 0, \"ticks\": \"\"}, \"colorscale\": [[0.0, \"#0d0887\"], [0.1111111111111111, \"#46039f\"], [0.2222222222222222, \"#7201a8\"], [0.3333333333333333, \"#9c179e\"], [0.4444444444444444, \"#bd3786\"], [0.5555555555555556, \"#d8576b\"], [0.6666666666666666, \"#ed7953\"], [0.7777777777777778, \"#fb9f3a\"], [0.8888888888888888, \"#fdca26\"], [1.0, \"#f0f921\"]], \"type\": \"histogram2dcontour\"}], \"mesh3d\": [{\"colorbar\": {\"outlinewidth\": 0, \"ticks\": \"\"}, \"type\": \"mesh3d\"}], \"parcoords\": [{\"line\": {\"colorbar\": {\"outlinewidth\": 0, \"ticks\": \"\"}}, \"type\": \"parcoords\"}], \"pie\": [{\"automargin\": true, \"type\": \"pie\"}], \"scatter\": [{\"marker\": {\"colorbar\": {\"outlinewidth\": 0, \"ticks\": \"\"}}, \"type\": \"scatter\"}], \"scatter3d\": [{\"line\": {\"colorbar\": {\"outlinewidth\": 0, \"ticks\": \"\"}}, \"marker\": {\"colorbar\": {\"outlinewidth\": 0, \"ticks\": \"\"}}, \"type\": \"scatter3d\"}], \"scattercarpet\": [{\"marker\": {\"colorbar\": {\"outlinewidth\": 0, \"ticks\": \"\"}}, \"type\": \"scattercarpet\"}], \"scattergeo\": [{\"marker\": {\"colorbar\": {\"outlinewidth\": 0, \"ticks\": \"\"}}, \"type\": \"scattergeo\"}], \"scattergl\": [{\"marker\": {\"colorbar\": {\"outlinewidth\": 0, \"ticks\": \"\"}}, \"type\": \"scattergl\"}], \"scattermapbox\": [{\"marker\": {\"colorbar\": {\"outlinewidth\": 0, \"ticks\": \"\"}}, \"type\": \"scattermapbox\"}], \"scatterpolar\": [{\"marker\": {\"colorbar\": {\"outlinewidth\": 0, \"ticks\": \"\"}}, \"type\": \"scatterpolar\"}], \"scatterpolargl\": [{\"marker\": {\"colorbar\": {\"outlinewidth\": 0, \"ticks\": \"\"}}, \"type\": \"scatterpolargl\"}], \"scatterternary\": [{\"marker\": {\"colorbar\": {\"outlinewidth\": 0, \"ticks\": \"\"}}, \"type\": \"scatterternary\"}], \"surface\": [{\"colorbar\": {\"outlinewidth\": 0, \"ticks\": \"\"}, \"colorscale\": [[0.0, \"#0d0887\"], [0.1111111111111111, \"#46039f\"], [0.2222222222222222, \"#7201a8\"], [0.3333333333333333, \"#9c179e\"], [0.4444444444444444, \"#bd3786\"], [0.5555555555555556, \"#d8576b\"], [0.6666666666666666, \"#ed7953\"], [0.7777777777777778, \"#fb9f3a\"], [0.8888888888888888, \"#fdca26\"], [1.0, \"#f0f921\"]], \"type\": \"surface\"}], \"table\": [{\"cells\": {\"fill\": {\"color\": \"#EBF0F8\"}, \"line\": {\"color\": \"white\"}}, \"header\": {\"fill\": {\"color\": \"#C8D4E3\"}, \"line\": {\"color\": \"white\"}}, \"type\": \"table\"}]}, \"layout\": {\"annotationdefaults\": {\"arrowcolor\": \"#2a3f5f\", \"arrowhead\": 0, \"arrowwidth\": 1}, \"coloraxis\": {\"colorbar\": {\"outlinewidth\": 0, \"ticks\": \"\"}}, \"colorscale\": {\"diverging\": [[0, \"#8e0152\"], [0.1, \"#c51b7d\"], [0.2, \"#de77ae\"], [0.3, \"#f1b6da\"], [0.4, \"#fde0ef\"], [0.5, \"#f7f7f7\"], [0.6, \"#e6f5d0\"], [0.7, \"#b8e186\"], [0.8, \"#7fbc41\"], [0.9, \"#4d9221\"], [1, \"#276419\"]], \"sequential\": [[0.0, \"#0d0887\"], [0.1111111111111111, \"#46039f\"], [0.2222222222222222, \"#7201a8\"], [0.3333333333333333, \"#9c179e\"], [0.4444444444444444, \"#bd3786\"], [0.5555555555555556, \"#d8576b\"], [0.6666666666666666, \"#ed7953\"], [0.7777777777777778, \"#fb9f3a\"], [0.8888888888888888, \"#fdca26\"], [1.0, \"#f0f921\"]], \"sequentialminus\": [[0.0, \"#0d0887\"], [0.1111111111111111, \"#46039f\"], [0.2222222222222222, \"#7201a8\"], [0.3333333333333333, \"#9c179e\"], [0.4444444444444444, \"#bd3786\"], [0.5555555555555556, \"#d8576b\"], [0.6666666666666666, \"#ed7953\"], [0.7777777777777778, \"#fb9f3a\"], [0.8888888888888888, \"#fdca26\"], [1.0, \"#f0f921\"]]}, \"colorway\": [\"#636efa\", \"#EF553B\", \"#00cc96\", \"#ab63fa\", \"#FFA15A\", \"#19d3f3\", \"#FF6692\", \"#B6E880\", \"#FF97FF\", \"#FECB52\"], \"font\": {\"color\": \"#2a3f5f\"}, \"geo\": {\"bgcolor\": \"white\", \"lakecolor\": \"white\", \"landcolor\": \"#E5ECF6\", \"showlakes\": true, \"showland\": true, \"subunitcolor\": \"white\"}, \"hoverlabel\": {\"align\": \"left\"}, \"hovermode\": \"closest\", \"mapbox\": {\"style\": \"light\"}, \"paper_bgcolor\": \"white\", \"plot_bgcolor\": \"#E5ECF6\", \"polar\": {\"angularaxis\": {\"gridcolor\": \"white\", \"linecolor\": \"white\", \"ticks\": \"\"}, \"bgcolor\": \"#E5ECF6\", \"radialaxis\": {\"gridcolor\": \"white\", \"linecolor\": \"white\", \"ticks\": \"\"}}, \"scene\": {\"xaxis\": {\"backgroundcolor\": \"#E5ECF6\", \"gridcolor\": \"white\", \"gridwidth\": 2, \"linecolor\": \"white\", \"showbackground\": true, \"ticks\": \"\", \"zerolinecolor\": \"white\"}, \"yaxis\": {\"backgroundcolor\": \"#E5ECF6\", \"gridcolor\": \"white\", \"gridwidth\": 2, \"linecolor\": \"white\", \"showbackground\": true, \"ticks\": \"\", \"zerolinecolor\": \"white\"}, \"zaxis\": {\"backgroundcolor\": \"#E5ECF6\", \"gridcolor\": \"white\", \"gridwidth\": 2, \"linecolor\": \"white\", \"showbackground\": true, \"ticks\": \"\", \"zerolinecolor\": \"white\"}}, \"shapedefaults\": {\"line\": {\"color\": \"#2a3f5f\"}}, \"ternary\": {\"aaxis\": {\"gridcolor\": \"white\", \"linecolor\": \"white\", \"ticks\": \"\"}, \"baxis\": {\"gridcolor\": \"white\", \"linecolor\": \"white\", \"ticks\": \"\"}, \"bgcolor\": \"#E5ECF6\", \"caxis\": {\"gridcolor\": \"white\", \"linecolor\": \"white\", \"ticks\": \"\"}}, \"title\": {\"x\": 0.05}, \"xaxis\": {\"automargin\": true, \"gridcolor\": \"white\", \"linecolor\": \"white\", \"ticks\": \"\", \"title\": {\"standoff\": 15}, \"zerolinecolor\": \"white\", \"zerolinewidth\": 2}, \"yaxis\": {\"automargin\": true, \"gridcolor\": \"white\", \"linecolor\": \"white\", \"ticks\": \"\", \"title\": {\"standoff\": 15}, \"zerolinecolor\": \"white\", \"zerolinewidth\": 2}}}},\n",
       "                        {\"responsive\": true}\n",
       "                    ).then(function(){\n",
       "                            \n",
       "var gd = document.getElementById('5d416d6a-504b-499a-848b-9b321dfabc75');\n",
       "var x = new MutationObserver(function (mutations, observer) {{\n",
       "        var display = window.getComputedStyle(gd).display;\n",
       "        if (!display || display === 'none') {{\n",
       "            console.log([gd, 'removed!']);\n",
       "            Plotly.purge(gd);\n",
       "            observer.disconnect();\n",
       "        }}\n",
       "}});\n",
       "\n",
       "// Listen for the removal of the full notebook cells\n",
       "var notebookContainer = gd.closest('#notebook-container');\n",
       "if (notebookContainer) {{\n",
       "    x.observe(notebookContainer, {childList: true});\n",
       "}}\n",
       "\n",
       "// Listen for the clearing of the current output cell\n",
       "var outputEl = gd.closest('.output');\n",
       "if (outputEl) {{\n",
       "    x.observe(outputEl, {childList: true});\n",
       "}}\n",
       "\n",
       "                        })\n",
       "                };\n",
       "                });\n",
       "            </script>\n",
       "        </div>"
      ]
     },
     "metadata": {},
     "output_type": "display_data"
    }
   ],
   "source": [
    "\n",
    "pca2 = PCA(n_components=ncomps, whiten=False,svd_solver='randomized')\n",
    "featd= pca2.fit_transform(dist_store)\n",
    "bandwidth = estimate_bandwidth(featd, quantile=0.25)\n",
    "\n",
    "ms = MeanShift(bandwidth=bandwidth, bin_seeding=False, cluster_all=False, min_bin_freq=35)\n",
    "ms.fit(featd)\n",
    "labelsf = ms.labels_\n",
    "labelf_select = {y:[x for x in range(len(labelsf)) if labelsf[x] == y] for y in sorted(list(set(labelsf)))}\n",
    "\n",
    "\n",
    "fig= [go.Scatter(\n",
    "    x= featd[labelf_select[i],0],\n",
    "    y= featd[labelf_select[i],1],\n",
    "    mode= 'markers',\n",
    "    name= str(i)\n",
    ") for i in labelf_select.keys()]\n",
    "\n",
    "layout= go.Layout()\n",
    "\n",
    "Figure= go.Figure(data= fig, layout= layout)\n",
    "\n",
    "iplot(Figure)\n"
   ]
  },
  {
   "cell_type": "code",
   "execution_count": 13,
   "metadata": {},
   "outputs": [
    {
     "data": {
      "application/vnd.plotly.v1+json": {
       "config": {
        "linkText": "Export to plot.ly",
        "plotlyServerURL": "https://plot.ly",
        "showLink": false
       },
       "data": [
        {
         "type": "bar",
         "x": [
          "pop1_0",
          "pop1_1",
          "pop1_2",
          "pop1_3",
          "pop1_4",
          "pop1_5",
          "pop1_6",
          "pop1_7",
          "pop1_8",
          "pop1_9",
          "pop1_10",
          "pop1_11",
          "pop1_12",
          "pop1_13",
          "pop1_14",
          "pop1_15",
          "pop1_16",
          "pop1_17",
          "pop1_18",
          "pop1_19",
          "pop1_20",
          "pop1_21",
          "pop1_22",
          "pop1_23",
          "pop1_24",
          "pop1_25",
          "pop1_26",
          "pop1_27",
          "pop1_28",
          "pop1_29",
          "pop1_30",
          "pop1_31",
          "pop1_32",
          "pop1_33",
          "pop1_34",
          "pop1_35",
          "pop1_36",
          "pop1_37",
          "pop1_38",
          "pop1_39",
          "pop2_40",
          "pop2_41",
          "pop2_42",
          "pop2_43",
          "pop2_44",
          "pop2_45",
          "pop2_46",
          "pop2_47",
          "pop2_48",
          "pop2_49",
          "pop2_50",
          "pop2_51",
          "pop2_52",
          "pop2_53",
          "pop2_54",
          "pop2_55",
          "pop2_56",
          "pop2_57",
          "pop2_58",
          "pop2_59",
          "pop0_60",
          "pop0_61",
          "pop0_62",
          "pop0_63",
          "pop0_64",
          "pop0_65",
          "pop0_66",
          "pop0_67",
          "pop0_68",
          "pop0_69",
          "pop0_70",
          "pop0_71",
          "pop0_72",
          "pop0_73",
          "pop0_74",
          "pop0_75",
          "pop0_76",
          "pop0_77",
          "pop0_78",
          "pop0_79",
          "pop0_80",
          "pop0_81",
          "pop0_82",
          "pop0_83",
          "pop0_84",
          "pop0_85",
          "pop0_86",
          "pop0_87",
          "pop0_88",
          "pop0_89",
          "pop0_90",
          "pop0_91",
          "pop0_92",
          "pop0_93",
          "pop0_94",
          "pop0_95",
          "pop0_96",
          "pop0_97",
          "pop0_98",
          "pop0_99",
          "pop3_100",
          "pop3_101",
          "pop3_102",
          "pop3_103",
          "pop3_104",
          "pop3_105",
          "pop3_106",
          "pop3_107",
          "pop3_108",
          "pop3_109",
          "pop3_110",
          "pop3_111",
          "pop3_112",
          "pop3_113",
          "pop3_114",
          "pop3_115",
          "pop3_116",
          "pop3_117",
          "pop3_118",
          "pop3_119",
          "pop3_120",
          "pop3_121",
          "pop3_122",
          "pop3_123",
          "pop3_124",
          "pop1_125",
          "pop3_126",
          "pop3_127",
          "pop1_128",
          "pop3_129"
         ],
         "y": [
          0.6593081256151332,
          0.6042686153309837,
          0.640610383110168,
          0.5393667077955272,
          0.5391836881954509,
          0.6558486934589419,
          0.6805267943027705,
          0.6571219818331724,
          0.5652698755651336,
          0.654110477423875,
          0.6677441894331331,
          0.5961636905034877,
          0.6098110584940492,
          0.5981219637318737,
          0.619844624320836,
          0.6186066210508089,
          0.7295391712118214,
          0.6307966605505986,
          0.7270939194444367,
          0.5959927644031376,
          0.6597172748981247,
          0.5979473472460249,
          0.7015453271809952,
          0.5262324183384066,
          0.5245218621479283,
          0.6343751765997031,
          0.6537314555002195,
          0.6061727679029096,
          0.65202637058722,
          0.5915752864939008,
          0.6310310749514353,
          0.6058955238201365,
          0.6064350012500361,
          0.6183253400213077,
          0.6642957186489866,
          0.5706772492272024,
          0.6499168394639954,
          0.43724811541225284,
          0.5855713917383375,
          1.6256985210953079,
          1.7273441201700286,
          1.6784500598233705,
          1.6649378167375022,
          1.6394432524274836,
          1.8806369454465905,
          1.798636073221193,
          1.726250925133433,
          1.7129509389450002,
          1.6747472816585725,
          1.660854052950062,
          1.6083076817480653,
          1.8857924388851919,
          1.5697435920700078,
          1.778784869409843,
          1.8084486524002499,
          1.7041865494408268,
          1.7973384586000334,
          1.915542566405628,
          1.5592765812715654,
          1.0837822619451694,
          1.1504596261226496,
          1.0943277737402672,
          1.0747679957907619,
          1.0711206646482205,
          1.1769808061193618,
          1.1594916817966618,
          1.0515268310717765,
          1.246598070655785,
          1.241496150814835,
          1.0929380810036409,
          1.2847244902634094,
          1.1541285392380207,
          1.178124202393124,
          1.3629269361689866,
          1.039775498994526,
          1.246560023598903,
          1.3487537987573426,
          1.1179826778040256,
          1.0711234718056646,
          1.1336373046547246,
          0.9829244815567164,
          1.1635768526496393,
          1.207530510342288,
          1.1953092096966873,
          1.1896137688930222,
          1.1778727443611432,
          1.1341252024304995,
          1.2014835436874098,
          1.2270112561865718,
          1.0803522857311818,
          1.1653195425411502,
          1.098186821724389,
          1.05695035218514,
          1.2024849282481984,
          1.1711783739722852,
          1.2206822674906608,
          1.176788785052722,
          1.2612643328696096,
          1.207202270722114,
          1.7255594562210814,
          2.266183993915643,
          2.826988813763411,
          2.9491296574513672,
          3.190731026910719,
          4.180149960775613,
          2.9129321214943107,
          2.399337121474577,
          2.819931471632518,
          5.0936848202595355,
          4.658741345924287,
          5.534237227587187,
          3.132977475223083,
          2.831863222788876,
          3.0935781913634304,
          3.7356278759507977,
          5.2890399655367935,
          4.8512970794085,
          3.1102178026067606,
          3.0273805194410652,
          2.6263656124090407,
          4.696780842254904,
          5.681923855488166,
          5.337888536320297,
          4.249884845345685,
          1.5084889158312962,
          4.3967396518757935,
          3.2052997602687263,
          2.767912278876587,
          3.058555166248171
         ]
        }
       ],
       "layout": {
        "template": {
         "data": {
          "bar": [
           {
            "error_x": {
             "color": "#2a3f5f"
            },
            "error_y": {
             "color": "#2a3f5f"
            },
            "marker": {
             "line": {
              "color": "#E5ECF6",
              "width": 0.5
             }
            },
            "type": "bar"
           }
          ],
          "barpolar": [
           {
            "marker": {
             "line": {
              "color": "#E5ECF6",
              "width": 0.5
             }
            },
            "type": "barpolar"
           }
          ],
          "carpet": [
           {
            "aaxis": {
             "endlinecolor": "#2a3f5f",
             "gridcolor": "white",
             "linecolor": "white",
             "minorgridcolor": "white",
             "startlinecolor": "#2a3f5f"
            },
            "baxis": {
             "endlinecolor": "#2a3f5f",
             "gridcolor": "white",
             "linecolor": "white",
             "minorgridcolor": "white",
             "startlinecolor": "#2a3f5f"
            },
            "type": "carpet"
           }
          ],
          "choropleth": [
           {
            "colorbar": {
             "outlinewidth": 0,
             "ticks": ""
            },
            "type": "choropleth"
           }
          ],
          "contour": [
           {
            "colorbar": {
             "outlinewidth": 0,
             "ticks": ""
            },
            "colorscale": [
             [
              0,
              "#0d0887"
             ],
             [
              0.1111111111111111,
              "#46039f"
             ],
             [
              0.2222222222222222,
              "#7201a8"
             ],
             [
              0.3333333333333333,
              "#9c179e"
             ],
             [
              0.4444444444444444,
              "#bd3786"
             ],
             [
              0.5555555555555556,
              "#d8576b"
             ],
             [
              0.6666666666666666,
              "#ed7953"
             ],
             [
              0.7777777777777778,
              "#fb9f3a"
             ],
             [
              0.8888888888888888,
              "#fdca26"
             ],
             [
              1,
              "#f0f921"
             ]
            ],
            "type": "contour"
           }
          ],
          "contourcarpet": [
           {
            "colorbar": {
             "outlinewidth": 0,
             "ticks": ""
            },
            "type": "contourcarpet"
           }
          ],
          "heatmap": [
           {
            "colorbar": {
             "outlinewidth": 0,
             "ticks": ""
            },
            "colorscale": [
             [
              0,
              "#0d0887"
             ],
             [
              0.1111111111111111,
              "#46039f"
             ],
             [
              0.2222222222222222,
              "#7201a8"
             ],
             [
              0.3333333333333333,
              "#9c179e"
             ],
             [
              0.4444444444444444,
              "#bd3786"
             ],
             [
              0.5555555555555556,
              "#d8576b"
             ],
             [
              0.6666666666666666,
              "#ed7953"
             ],
             [
              0.7777777777777778,
              "#fb9f3a"
             ],
             [
              0.8888888888888888,
              "#fdca26"
             ],
             [
              1,
              "#f0f921"
             ]
            ],
            "type": "heatmap"
           }
          ],
          "heatmapgl": [
           {
            "colorbar": {
             "outlinewidth": 0,
             "ticks": ""
            },
            "colorscale": [
             [
              0,
              "#0d0887"
             ],
             [
              0.1111111111111111,
              "#46039f"
             ],
             [
              0.2222222222222222,
              "#7201a8"
             ],
             [
              0.3333333333333333,
              "#9c179e"
             ],
             [
              0.4444444444444444,
              "#bd3786"
             ],
             [
              0.5555555555555556,
              "#d8576b"
             ],
             [
              0.6666666666666666,
              "#ed7953"
             ],
             [
              0.7777777777777778,
              "#fb9f3a"
             ],
             [
              0.8888888888888888,
              "#fdca26"
             ],
             [
              1,
              "#f0f921"
             ]
            ],
            "type": "heatmapgl"
           }
          ],
          "histogram": [
           {
            "marker": {
             "colorbar": {
              "outlinewidth": 0,
              "ticks": ""
             }
            },
            "type": "histogram"
           }
          ],
          "histogram2d": [
           {
            "colorbar": {
             "outlinewidth": 0,
             "ticks": ""
            },
            "colorscale": [
             [
              0,
              "#0d0887"
             ],
             [
              0.1111111111111111,
              "#46039f"
             ],
             [
              0.2222222222222222,
              "#7201a8"
             ],
             [
              0.3333333333333333,
              "#9c179e"
             ],
             [
              0.4444444444444444,
              "#bd3786"
             ],
             [
              0.5555555555555556,
              "#d8576b"
             ],
             [
              0.6666666666666666,
              "#ed7953"
             ],
             [
              0.7777777777777778,
              "#fb9f3a"
             ],
             [
              0.8888888888888888,
              "#fdca26"
             ],
             [
              1,
              "#f0f921"
             ]
            ],
            "type": "histogram2d"
           }
          ],
          "histogram2dcontour": [
           {
            "colorbar": {
             "outlinewidth": 0,
             "ticks": ""
            },
            "colorscale": [
             [
              0,
              "#0d0887"
             ],
             [
              0.1111111111111111,
              "#46039f"
             ],
             [
              0.2222222222222222,
              "#7201a8"
             ],
             [
              0.3333333333333333,
              "#9c179e"
             ],
             [
              0.4444444444444444,
              "#bd3786"
             ],
             [
              0.5555555555555556,
              "#d8576b"
             ],
             [
              0.6666666666666666,
              "#ed7953"
             ],
             [
              0.7777777777777778,
              "#fb9f3a"
             ],
             [
              0.8888888888888888,
              "#fdca26"
             ],
             [
              1,
              "#f0f921"
             ]
            ],
            "type": "histogram2dcontour"
           }
          ],
          "mesh3d": [
           {
            "colorbar": {
             "outlinewidth": 0,
             "ticks": ""
            },
            "type": "mesh3d"
           }
          ],
          "parcoords": [
           {
            "line": {
             "colorbar": {
              "outlinewidth": 0,
              "ticks": ""
             }
            },
            "type": "parcoords"
           }
          ],
          "pie": [
           {
            "automargin": true,
            "type": "pie"
           }
          ],
          "scatter": [
           {
            "marker": {
             "colorbar": {
              "outlinewidth": 0,
              "ticks": ""
             }
            },
            "type": "scatter"
           }
          ],
          "scatter3d": [
           {
            "line": {
             "colorbar": {
              "outlinewidth": 0,
              "ticks": ""
             }
            },
            "marker": {
             "colorbar": {
              "outlinewidth": 0,
              "ticks": ""
             }
            },
            "type": "scatter3d"
           }
          ],
          "scattercarpet": [
           {
            "marker": {
             "colorbar": {
              "outlinewidth": 0,
              "ticks": ""
             }
            },
            "type": "scattercarpet"
           }
          ],
          "scattergeo": [
           {
            "marker": {
             "colorbar": {
              "outlinewidth": 0,
              "ticks": ""
             }
            },
            "type": "scattergeo"
           }
          ],
          "scattergl": [
           {
            "marker": {
             "colorbar": {
              "outlinewidth": 0,
              "ticks": ""
             }
            },
            "type": "scattergl"
           }
          ],
          "scattermapbox": [
           {
            "marker": {
             "colorbar": {
              "outlinewidth": 0,
              "ticks": ""
             }
            },
            "type": "scattermapbox"
           }
          ],
          "scatterpolar": [
           {
            "marker": {
             "colorbar": {
              "outlinewidth": 0,
              "ticks": ""
             }
            },
            "type": "scatterpolar"
           }
          ],
          "scatterpolargl": [
           {
            "marker": {
             "colorbar": {
              "outlinewidth": 0,
              "ticks": ""
             }
            },
            "type": "scatterpolargl"
           }
          ],
          "scatterternary": [
           {
            "marker": {
             "colorbar": {
              "outlinewidth": 0,
              "ticks": ""
             }
            },
            "type": "scatterternary"
           }
          ],
          "surface": [
           {
            "colorbar": {
             "outlinewidth": 0,
             "ticks": ""
            },
            "colorscale": [
             [
              0,
              "#0d0887"
             ],
             [
              0.1111111111111111,
              "#46039f"
             ],
             [
              0.2222222222222222,
              "#7201a8"
             ],
             [
              0.3333333333333333,
              "#9c179e"
             ],
             [
              0.4444444444444444,
              "#bd3786"
             ],
             [
              0.5555555555555556,
              "#d8576b"
             ],
             [
              0.6666666666666666,
              "#ed7953"
             ],
             [
              0.7777777777777778,
              "#fb9f3a"
             ],
             [
              0.8888888888888888,
              "#fdca26"
             ],
             [
              1,
              "#f0f921"
             ]
            ],
            "type": "surface"
           }
          ],
          "table": [
           {
            "cells": {
             "fill": {
              "color": "#EBF0F8"
             },
             "line": {
              "color": "white"
             }
            },
            "header": {
             "fill": {
              "color": "#C8D4E3"
             },
             "line": {
              "color": "white"
             }
            },
            "type": "table"
           }
          ]
         },
         "layout": {
          "annotationdefaults": {
           "arrowcolor": "#2a3f5f",
           "arrowhead": 0,
           "arrowwidth": 1
          },
          "coloraxis": {
           "colorbar": {
            "outlinewidth": 0,
            "ticks": ""
           }
          },
          "colorscale": {
           "diverging": [
            [
             0,
             "#8e0152"
            ],
            [
             0.1,
             "#c51b7d"
            ],
            [
             0.2,
             "#de77ae"
            ],
            [
             0.3,
             "#f1b6da"
            ],
            [
             0.4,
             "#fde0ef"
            ],
            [
             0.5,
             "#f7f7f7"
            ],
            [
             0.6,
             "#e6f5d0"
            ],
            [
             0.7,
             "#b8e186"
            ],
            [
             0.8,
             "#7fbc41"
            ],
            [
             0.9,
             "#4d9221"
            ],
            [
             1,
             "#276419"
            ]
           ],
           "sequential": [
            [
             0,
             "#0d0887"
            ],
            [
             0.1111111111111111,
             "#46039f"
            ],
            [
             0.2222222222222222,
             "#7201a8"
            ],
            [
             0.3333333333333333,
             "#9c179e"
            ],
            [
             0.4444444444444444,
             "#bd3786"
            ],
            [
             0.5555555555555556,
             "#d8576b"
            ],
            [
             0.6666666666666666,
             "#ed7953"
            ],
            [
             0.7777777777777778,
             "#fb9f3a"
            ],
            [
             0.8888888888888888,
             "#fdca26"
            ],
            [
             1,
             "#f0f921"
            ]
           ],
           "sequentialminus": [
            [
             0,
             "#0d0887"
            ],
            [
             0.1111111111111111,
             "#46039f"
            ],
            [
             0.2222222222222222,
             "#7201a8"
            ],
            [
             0.3333333333333333,
             "#9c179e"
            ],
            [
             0.4444444444444444,
             "#bd3786"
            ],
            [
             0.5555555555555556,
             "#d8576b"
            ],
            [
             0.6666666666666666,
             "#ed7953"
            ],
            [
             0.7777777777777778,
             "#fb9f3a"
            ],
            [
             0.8888888888888888,
             "#fdca26"
            ],
            [
             1,
             "#f0f921"
            ]
           ]
          },
          "colorway": [
           "#636efa",
           "#EF553B",
           "#00cc96",
           "#ab63fa",
           "#FFA15A",
           "#19d3f3",
           "#FF6692",
           "#B6E880",
           "#FF97FF",
           "#FECB52"
          ],
          "font": {
           "color": "#2a3f5f"
          },
          "geo": {
           "bgcolor": "white",
           "lakecolor": "white",
           "landcolor": "#E5ECF6",
           "showlakes": true,
           "showland": true,
           "subunitcolor": "white"
          },
          "hoverlabel": {
           "align": "left"
          },
          "hovermode": "closest",
          "mapbox": {
           "style": "light"
          },
          "paper_bgcolor": "white",
          "plot_bgcolor": "#E5ECF6",
          "polar": {
           "angularaxis": {
            "gridcolor": "white",
            "linecolor": "white",
            "ticks": ""
           },
           "bgcolor": "#E5ECF6",
           "radialaxis": {
            "gridcolor": "white",
            "linecolor": "white",
            "ticks": ""
           }
          },
          "scene": {
           "xaxis": {
            "backgroundcolor": "#E5ECF6",
            "gridcolor": "white",
            "gridwidth": 2,
            "linecolor": "white",
            "showbackground": true,
            "ticks": "",
            "zerolinecolor": "white"
           },
           "yaxis": {
            "backgroundcolor": "#E5ECF6",
            "gridcolor": "white",
            "gridwidth": 2,
            "linecolor": "white",
            "showbackground": true,
            "ticks": "",
            "zerolinecolor": "white"
           },
           "zaxis": {
            "backgroundcolor": "#E5ECF6",
            "gridcolor": "white",
            "gridwidth": 2,
            "linecolor": "white",
            "showbackground": true,
            "ticks": "",
            "zerolinecolor": "white"
           }
          },
          "shapedefaults": {
           "line": {
            "color": "#2a3f5f"
           }
          },
          "ternary": {
           "aaxis": {
            "gridcolor": "white",
            "linecolor": "white",
            "ticks": ""
           },
           "baxis": {
            "gridcolor": "white",
            "linecolor": "white",
            "ticks": ""
           },
           "bgcolor": "#E5ECF6",
           "caxis": {
            "gridcolor": "white",
            "linecolor": "white",
            "ticks": ""
           }
          },
          "title": {
           "x": 0.05
          },
          "xaxis": {
           "automargin": true,
           "gridcolor": "white",
           "linecolor": "white",
           "ticks": "",
           "title": {
            "standoff": 15
           },
           "zerolinecolor": "white",
           "zerolinewidth": 2
          },
          "yaxis": {
           "automargin": true,
           "gridcolor": "white",
           "linecolor": "white",
           "ticks": "",
           "title": {
            "standoff": 15
           },
           "zerolinecolor": "white",
           "zerolinewidth": 2
          }
         }
        }
       }
      },
      "text/html": [
       "<div>\n",
       "        \n",
       "        \n",
       "            <div id=\"95d44c18-91ff-4d2f-ba4c-4016e2ce305b\" class=\"plotly-graph-div\" style=\"height:525px; width:100%;\"></div>\n",
       "            <script type=\"text/javascript\">\n",
       "                require([\"plotly\"], function(Plotly) {\n",
       "                    window.PLOTLYENV=window.PLOTLYENV || {};\n",
       "                    \n",
       "                if (document.getElementById(\"95d44c18-91ff-4d2f-ba4c-4016e2ce305b\")) {\n",
       "                    Plotly.newPlot(\n",
       "                        '95d44c18-91ff-4d2f-ba4c-4016e2ce305b',\n",
       "                        [{\"type\": \"bar\", \"x\": [\"pop1_0\", \"pop1_1\", \"pop1_2\", \"pop1_3\", \"pop1_4\", \"pop1_5\", \"pop1_6\", \"pop1_7\", \"pop1_8\", \"pop1_9\", \"pop1_10\", \"pop1_11\", \"pop1_12\", \"pop1_13\", \"pop1_14\", \"pop1_15\", \"pop1_16\", \"pop1_17\", \"pop1_18\", \"pop1_19\", \"pop1_20\", \"pop1_21\", \"pop1_22\", \"pop1_23\", \"pop1_24\", \"pop1_25\", \"pop1_26\", \"pop1_27\", \"pop1_28\", \"pop1_29\", \"pop1_30\", \"pop1_31\", \"pop1_32\", \"pop1_33\", \"pop1_34\", \"pop1_35\", \"pop1_36\", \"pop1_37\", \"pop1_38\", \"pop1_39\", \"pop2_40\", \"pop2_41\", \"pop2_42\", \"pop2_43\", \"pop2_44\", \"pop2_45\", \"pop2_46\", \"pop2_47\", \"pop2_48\", \"pop2_49\", \"pop2_50\", \"pop2_51\", \"pop2_52\", \"pop2_53\", \"pop2_54\", \"pop2_55\", \"pop2_56\", \"pop2_57\", \"pop2_58\", \"pop2_59\", \"pop0_60\", \"pop0_61\", \"pop0_62\", \"pop0_63\", \"pop0_64\", \"pop0_65\", \"pop0_66\", \"pop0_67\", \"pop0_68\", \"pop0_69\", \"pop0_70\", \"pop0_71\", \"pop0_72\", \"pop0_73\", \"pop0_74\", \"pop0_75\", \"pop0_76\", \"pop0_77\", \"pop0_78\", \"pop0_79\", \"pop0_80\", \"pop0_81\", \"pop0_82\", \"pop0_83\", \"pop0_84\", \"pop0_85\", \"pop0_86\", \"pop0_87\", \"pop0_88\", \"pop0_89\", \"pop0_90\", \"pop0_91\", \"pop0_92\", \"pop0_93\", \"pop0_94\", \"pop0_95\", \"pop0_96\", \"pop0_97\", \"pop0_98\", \"pop0_99\", \"pop3_100\", \"pop3_101\", \"pop3_102\", \"pop3_103\", \"pop3_104\", \"pop3_105\", \"pop3_106\", \"pop3_107\", \"pop3_108\", \"pop3_109\", \"pop3_110\", \"pop3_111\", \"pop3_112\", \"pop3_113\", \"pop3_114\", \"pop3_115\", \"pop3_116\", \"pop3_117\", \"pop3_118\", \"pop3_119\", \"pop3_120\", \"pop3_121\", \"pop3_122\", \"pop3_123\", \"pop3_124\", \"pop1_125\", \"pop3_126\", \"pop3_127\", \"pop1_128\", \"pop3_129\"], \"y\": [0.6593081256151332, 0.6042686153309837, 0.640610383110168, 0.5393667077955272, 0.5391836881954509, 0.6558486934589419, 0.6805267943027705, 0.6571219818331724, 0.5652698755651336, 0.654110477423875, 0.6677441894331331, 0.5961636905034877, 0.6098110584940492, 0.5981219637318737, 0.619844624320836, 0.6186066210508089, 0.7295391712118214, 0.6307966605505986, 0.7270939194444367, 0.5959927644031376, 0.6597172748981247, 0.5979473472460249, 0.7015453271809952, 0.5262324183384066, 0.5245218621479283, 0.6343751765997031, 0.6537314555002195, 0.6061727679029096, 0.65202637058722, 0.5915752864939008, 0.6310310749514353, 0.6058955238201365, 0.6064350012500361, 0.6183253400213077, 0.6642957186489866, 0.5706772492272024, 0.6499168394639954, 0.43724811541225284, 0.5855713917383375, 1.6256985210953079, 1.7273441201700286, 1.6784500598233705, 1.6649378167375022, 1.6394432524274836, 1.8806369454465905, 1.798636073221193, 1.726250925133433, 1.7129509389450002, 1.6747472816585725, 1.660854052950062, 1.6083076817480653, 1.8857924388851919, 1.5697435920700078, 1.778784869409843, 1.8084486524002499, 1.7041865494408268, 1.7973384586000334, 1.915542566405628, 1.5592765812715654, 1.0837822619451694, 1.1504596261226496, 1.0943277737402672, 1.0747679957907619, 1.0711206646482205, 1.1769808061193618, 1.1594916817966618, 1.0515268310717765, 1.246598070655785, 1.241496150814835, 1.0929380810036409, 1.2847244902634094, 1.1541285392380207, 1.178124202393124, 1.3629269361689866, 1.039775498994526, 1.246560023598903, 1.3487537987573426, 1.1179826778040256, 1.0711234718056646, 1.1336373046547246, 0.9829244815567164, 1.1635768526496393, 1.207530510342288, 1.1953092096966873, 1.1896137688930222, 1.1778727443611432, 1.1341252024304995, 1.2014835436874098, 1.2270112561865718, 1.0803522857311818, 1.1653195425411502, 1.098186821724389, 1.05695035218514, 1.2024849282481984, 1.1711783739722852, 1.2206822674906608, 1.176788785052722, 1.2612643328696096, 1.207202270722114, 1.7255594562210814, 2.266183993915643, 2.826988813763411, 2.9491296574513672, 3.190731026910719, 4.180149960775613, 2.9129321214943107, 2.399337121474577, 2.819931471632518, 5.0936848202595355, 4.658741345924287, 5.534237227587187, 3.132977475223083, 2.831863222788876, 3.0935781913634304, 3.7356278759507977, 5.2890399655367935, 4.8512970794085, 3.1102178026067606, 3.0273805194410652, 2.6263656124090407, 4.696780842254904, 5.681923855488166, 5.337888536320297, 4.249884845345685, 1.5084889158312962, 4.3967396518757935, 3.2052997602687263, 2.767912278876587, 3.058555166248171]}],\n",
       "                        {\"template\": {\"data\": {\"bar\": [{\"error_x\": {\"color\": \"#2a3f5f\"}, \"error_y\": {\"color\": \"#2a3f5f\"}, \"marker\": {\"line\": {\"color\": \"#E5ECF6\", \"width\": 0.5}}, \"type\": \"bar\"}], \"barpolar\": [{\"marker\": {\"line\": {\"color\": \"#E5ECF6\", \"width\": 0.5}}, \"type\": \"barpolar\"}], \"carpet\": [{\"aaxis\": {\"endlinecolor\": \"#2a3f5f\", \"gridcolor\": \"white\", \"linecolor\": \"white\", \"minorgridcolor\": \"white\", \"startlinecolor\": \"#2a3f5f\"}, \"baxis\": {\"endlinecolor\": \"#2a3f5f\", \"gridcolor\": \"white\", \"linecolor\": \"white\", \"minorgridcolor\": \"white\", \"startlinecolor\": \"#2a3f5f\"}, \"type\": \"carpet\"}], \"choropleth\": [{\"colorbar\": {\"outlinewidth\": 0, \"ticks\": \"\"}, \"type\": \"choropleth\"}], \"contour\": [{\"colorbar\": {\"outlinewidth\": 0, \"ticks\": \"\"}, \"colorscale\": [[0.0, \"#0d0887\"], [0.1111111111111111, \"#46039f\"], [0.2222222222222222, \"#7201a8\"], [0.3333333333333333, \"#9c179e\"], [0.4444444444444444, \"#bd3786\"], [0.5555555555555556, \"#d8576b\"], [0.6666666666666666, \"#ed7953\"], [0.7777777777777778, \"#fb9f3a\"], [0.8888888888888888, \"#fdca26\"], [1.0, \"#f0f921\"]], \"type\": \"contour\"}], \"contourcarpet\": [{\"colorbar\": {\"outlinewidth\": 0, \"ticks\": \"\"}, \"type\": \"contourcarpet\"}], \"heatmap\": [{\"colorbar\": {\"outlinewidth\": 0, \"ticks\": \"\"}, \"colorscale\": [[0.0, \"#0d0887\"], [0.1111111111111111, \"#46039f\"], [0.2222222222222222, \"#7201a8\"], [0.3333333333333333, \"#9c179e\"], [0.4444444444444444, \"#bd3786\"], [0.5555555555555556, \"#d8576b\"], [0.6666666666666666, \"#ed7953\"], [0.7777777777777778, \"#fb9f3a\"], [0.8888888888888888, \"#fdca26\"], [1.0, \"#f0f921\"]], \"type\": \"heatmap\"}], \"heatmapgl\": [{\"colorbar\": {\"outlinewidth\": 0, \"ticks\": \"\"}, \"colorscale\": [[0.0, \"#0d0887\"], [0.1111111111111111, \"#46039f\"], [0.2222222222222222, \"#7201a8\"], [0.3333333333333333, \"#9c179e\"], [0.4444444444444444, \"#bd3786\"], [0.5555555555555556, \"#d8576b\"], [0.6666666666666666, \"#ed7953\"], [0.7777777777777778, \"#fb9f3a\"], [0.8888888888888888, \"#fdca26\"], [1.0, \"#f0f921\"]], \"type\": \"heatmapgl\"}], \"histogram\": [{\"marker\": {\"colorbar\": {\"outlinewidth\": 0, \"ticks\": \"\"}}, \"type\": \"histogram\"}], \"histogram2d\": [{\"colorbar\": {\"outlinewidth\": 0, \"ticks\": \"\"}, \"colorscale\": [[0.0, \"#0d0887\"], [0.1111111111111111, \"#46039f\"], [0.2222222222222222, \"#7201a8\"], [0.3333333333333333, \"#9c179e\"], [0.4444444444444444, \"#bd3786\"], [0.5555555555555556, \"#d8576b\"], [0.6666666666666666, \"#ed7953\"], [0.7777777777777778, \"#fb9f3a\"], [0.8888888888888888, \"#fdca26\"], [1.0, \"#f0f921\"]], \"type\": \"histogram2d\"}], \"histogram2dcontour\": [{\"colorbar\": {\"outlinewidth\": 0, \"ticks\": \"\"}, \"colorscale\": [[0.0, \"#0d0887\"], [0.1111111111111111, \"#46039f\"], [0.2222222222222222, \"#7201a8\"], [0.3333333333333333, \"#9c179e\"], [0.4444444444444444, \"#bd3786\"], [0.5555555555555556, \"#d8576b\"], [0.6666666666666666, \"#ed7953\"], [0.7777777777777778, \"#fb9f3a\"], [0.8888888888888888, \"#fdca26\"], [1.0, \"#f0f921\"]], \"type\": \"histogram2dcontour\"}], \"mesh3d\": [{\"colorbar\": {\"outlinewidth\": 0, \"ticks\": \"\"}, \"type\": \"mesh3d\"}], \"parcoords\": [{\"line\": {\"colorbar\": {\"outlinewidth\": 0, \"ticks\": \"\"}}, \"type\": \"parcoords\"}], \"pie\": [{\"automargin\": true, \"type\": \"pie\"}], \"scatter\": [{\"marker\": {\"colorbar\": {\"outlinewidth\": 0, \"ticks\": \"\"}}, \"type\": \"scatter\"}], \"scatter3d\": [{\"line\": {\"colorbar\": {\"outlinewidth\": 0, \"ticks\": \"\"}}, \"marker\": {\"colorbar\": {\"outlinewidth\": 0, \"ticks\": \"\"}}, \"type\": \"scatter3d\"}], \"scattercarpet\": [{\"marker\": {\"colorbar\": {\"outlinewidth\": 0, \"ticks\": \"\"}}, \"type\": \"scattercarpet\"}], \"scattergeo\": [{\"marker\": {\"colorbar\": {\"outlinewidth\": 0, \"ticks\": \"\"}}, \"type\": \"scattergeo\"}], \"scattergl\": [{\"marker\": {\"colorbar\": {\"outlinewidth\": 0, \"ticks\": \"\"}}, \"type\": \"scattergl\"}], \"scattermapbox\": [{\"marker\": {\"colorbar\": {\"outlinewidth\": 0, \"ticks\": \"\"}}, \"type\": \"scattermapbox\"}], \"scatterpolar\": [{\"marker\": {\"colorbar\": {\"outlinewidth\": 0, \"ticks\": \"\"}}, \"type\": \"scatterpolar\"}], \"scatterpolargl\": [{\"marker\": {\"colorbar\": {\"outlinewidth\": 0, \"ticks\": \"\"}}, \"type\": \"scatterpolargl\"}], \"scatterternary\": [{\"marker\": {\"colorbar\": {\"outlinewidth\": 0, \"ticks\": \"\"}}, \"type\": \"scatterternary\"}], \"surface\": [{\"colorbar\": {\"outlinewidth\": 0, \"ticks\": \"\"}, \"colorscale\": [[0.0, \"#0d0887\"], [0.1111111111111111, \"#46039f\"], [0.2222222222222222, \"#7201a8\"], [0.3333333333333333, \"#9c179e\"], [0.4444444444444444, \"#bd3786\"], [0.5555555555555556, \"#d8576b\"], [0.6666666666666666, \"#ed7953\"], [0.7777777777777778, \"#fb9f3a\"], [0.8888888888888888, \"#fdca26\"], [1.0, \"#f0f921\"]], \"type\": \"surface\"}], \"table\": [{\"cells\": {\"fill\": {\"color\": \"#EBF0F8\"}, \"line\": {\"color\": \"white\"}}, \"header\": {\"fill\": {\"color\": \"#C8D4E3\"}, \"line\": {\"color\": \"white\"}}, \"type\": \"table\"}]}, \"layout\": {\"annotationdefaults\": {\"arrowcolor\": \"#2a3f5f\", \"arrowhead\": 0, \"arrowwidth\": 1}, \"coloraxis\": {\"colorbar\": {\"outlinewidth\": 0, \"ticks\": \"\"}}, \"colorscale\": {\"diverging\": [[0, \"#8e0152\"], [0.1, \"#c51b7d\"], [0.2, \"#de77ae\"], [0.3, \"#f1b6da\"], [0.4, \"#fde0ef\"], [0.5, \"#f7f7f7\"], [0.6, \"#e6f5d0\"], [0.7, \"#b8e186\"], [0.8, \"#7fbc41\"], [0.9, \"#4d9221\"], [1, \"#276419\"]], \"sequential\": [[0.0, \"#0d0887\"], [0.1111111111111111, \"#46039f\"], [0.2222222222222222, \"#7201a8\"], [0.3333333333333333, \"#9c179e\"], [0.4444444444444444, \"#bd3786\"], [0.5555555555555556, \"#d8576b\"], [0.6666666666666666, \"#ed7953\"], [0.7777777777777778, \"#fb9f3a\"], [0.8888888888888888, \"#fdca26\"], [1.0, \"#f0f921\"]], \"sequentialminus\": [[0.0, \"#0d0887\"], [0.1111111111111111, \"#46039f\"], [0.2222222222222222, \"#7201a8\"], [0.3333333333333333, \"#9c179e\"], [0.4444444444444444, \"#bd3786\"], [0.5555555555555556, \"#d8576b\"], [0.6666666666666666, \"#ed7953\"], [0.7777777777777778, \"#fb9f3a\"], [0.8888888888888888, \"#fdca26\"], [1.0, \"#f0f921\"]]}, \"colorway\": [\"#636efa\", \"#EF553B\", \"#00cc96\", \"#ab63fa\", \"#FFA15A\", \"#19d3f3\", \"#FF6692\", \"#B6E880\", \"#FF97FF\", \"#FECB52\"], \"font\": {\"color\": \"#2a3f5f\"}, \"geo\": {\"bgcolor\": \"white\", \"lakecolor\": \"white\", \"landcolor\": \"#E5ECF6\", \"showlakes\": true, \"showland\": true, \"subunitcolor\": \"white\"}, \"hoverlabel\": {\"align\": \"left\"}, \"hovermode\": \"closest\", \"mapbox\": {\"style\": \"light\"}, \"paper_bgcolor\": \"white\", \"plot_bgcolor\": \"#E5ECF6\", \"polar\": {\"angularaxis\": {\"gridcolor\": \"white\", \"linecolor\": \"white\", \"ticks\": \"\"}, \"bgcolor\": \"#E5ECF6\", \"radialaxis\": {\"gridcolor\": \"white\", \"linecolor\": \"white\", \"ticks\": \"\"}}, \"scene\": {\"xaxis\": {\"backgroundcolor\": \"#E5ECF6\", \"gridcolor\": \"white\", \"gridwidth\": 2, \"linecolor\": \"white\", \"showbackground\": true, \"ticks\": \"\", \"zerolinecolor\": \"white\"}, \"yaxis\": {\"backgroundcolor\": \"#E5ECF6\", \"gridcolor\": \"white\", \"gridwidth\": 2, \"linecolor\": \"white\", \"showbackground\": true, \"ticks\": \"\", \"zerolinecolor\": \"white\"}, \"zaxis\": {\"backgroundcolor\": \"#E5ECF6\", \"gridcolor\": \"white\", \"gridwidth\": 2, \"linecolor\": \"white\", \"showbackground\": true, \"ticks\": \"\", \"zerolinecolor\": \"white\"}}, \"shapedefaults\": {\"line\": {\"color\": \"#2a3f5f\"}}, \"ternary\": {\"aaxis\": {\"gridcolor\": \"white\", \"linecolor\": \"white\", \"ticks\": \"\"}, \"baxis\": {\"gridcolor\": \"white\", \"linecolor\": \"white\", \"ticks\": \"\"}, \"bgcolor\": \"#E5ECF6\", \"caxis\": {\"gridcolor\": \"white\", \"linecolor\": \"white\", \"ticks\": \"\"}}, \"title\": {\"x\": 0.05}, \"xaxis\": {\"automargin\": true, \"gridcolor\": \"white\", \"linecolor\": \"white\", \"ticks\": \"\", \"title\": {\"standoff\": 15}, \"zerolinecolor\": \"white\", \"zerolinewidth\": 2}, \"yaxis\": {\"automargin\": true, \"gridcolor\": \"white\", \"linecolor\": \"white\", \"ticks\": \"\", \"title\": {\"standoff\": 15}, \"zerolinecolor\": \"white\", \"zerolinewidth\": 2}}}},\n",
       "                        {\"responsive\": true}\n",
       "                    ).then(function(){\n",
       "                            \n",
       "var gd = document.getElementById('95d44c18-91ff-4d2f-ba4c-4016e2ce305b');\n",
       "var x = new MutationObserver(function (mutations, observer) {{\n",
       "        var display = window.getComputedStyle(gd).display;\n",
       "        if (!display || display === 'none') {{\n",
       "            console.log([gd, 'removed!']);\n",
       "            Plotly.purge(gd);\n",
       "            observer.disconnect();\n",
       "        }}\n",
       "}});\n",
       "\n",
       "// Listen for the removal of the full notebook cells\n",
       "var notebookContainer = gd.closest('#notebook-container');\n",
       "if (notebookContainer) {{\n",
       "    x.observe(notebookContainer, {childList: true});\n",
       "}}\n",
       "\n",
       "// Listen for the clearing of the current output cell\n",
       "var outputEl = gd.closest('.output');\n",
       "if (outputEl) {{\n",
       "    x.observe(outputEl, {childList: true});\n",
       "}}\n",
       "\n",
       "                        })\n",
       "                };\n",
       "                });\n",
       "            </script>\n",
       "        </div>"
      ]
     },
     "metadata": {},
     "output_type": "display_data"
    }
   ],
   "source": [
    "#dist_store_norm= \n",
    "dist_var= np.std(dist_store,axis= 0)**2\n",
    "who_plot= [x for x in range(len(label_vector)) if label_vector[x] in [0,1,2,3]]\n",
    "idvector= ['pop{}_{}'.format(label_vector[x],Whose[x]) for x in who_plot]\n",
    "\n",
    "fig = go.Figure([go.Bar(\n",
    "    x=idvector, y=dist_var\n",
    ")])\n",
    "layout= go.Layout()\n",
    "\n",
    "Figure= go.Figure(data= fig, layout= layout)\n",
    "iplot(Figure)"
   ]
  },
  {
   "cell_type": "code",
   "execution_count": 27,
   "metadata": {},
   "outputs": [
    {
     "data": {
      "application/vnd.plotly.v1+json": {
       "config": {
        "linkText": "Export to plot.ly",
        "plotlyServerURL": "https://plot.ly",
        "showLink": false
       },
       "data": [
        {
         "mode": "markers",
         "name": "0",
         "type": "scatter",
         "x": [
          -3.096554014402991,
          -3.594093520592226,
          -2.8305526583466274,
          -2.973567387785505,
          -3.7064667247217162,
          -3.9244019172753632,
          -2.854630137047835,
          -3.6415952288798015,
          -3.1434529345252455,
          -2.6896426181837754,
          -2.0375875819181215,
          -4.566934815039397,
          -3.7380415297940033,
          -3.7367918104375835,
          -3.1254854151836637,
          -2.8678649300234156,
          -3.326567802190659,
          -2.9327107118243307,
          -3.451238130406709,
          -4.242915561405914,
          -3.170490475829568,
          -4.22409041545153,
          -4.610048681222266,
          -2.1723565856298177,
          -3.632351091677775,
          -3.4573391458063902,
          -2.7392489203044605,
          -3.0693129250623565,
          -3.5417317826054666,
          -2.1167984757776854,
          -2.922431439415531,
          -1.8556425972857535,
          -2.8650505729893054,
          -1.6423184194914748,
          -4.567137028999129,
          -3.273574870622463,
          -3.991170463915786,
          -3.5728136901807503,
          -3.915522167071435,
          -3.896048790471094
         ],
         "y": [
          -0.7499651387066346,
          -1.3286069323716778,
          0.592882737732797,
          -0.44894063867118444,
          -0.056141829851635225,
          0.9234864923667225,
          -0.06537406516632863,
          -0.22193634185915223,
          0.30411138686239897,
          -0.916292796643921,
          -1.1782485492514525,
          0.07984084907318148,
          -0.8489362773470398,
          0.13332332317767553,
          1.6048841050279261,
          -1.060286202222605,
          -0.21925456780459257,
          -0.3822084882186006,
          -0.07568240379658622,
          -0.09994790291374851,
          -0.1900639590915081,
          0.3946424968778066,
          -1.42200892432139,
          -0.07621806547758112,
          -0.781177878241978,
          0.6935151151702372,
          -0.2996013767707313,
          -0.6988666251099636,
          -0.619216388787659,
          -0.35836484005655117,
          -0.08580068426741916,
          0.6722754693298254,
          -0.21226124662913076,
          -0.26871730153451745,
          -0.4709529252137539,
          0.21935043819994593,
          -0.46149194752693995,
          0.46761974840697473,
          -0.7612952040087724,
          -0.31845989194175195
         ]
        },
        {
         "mode": "markers",
         "name": "1",
         "type": "scatter",
         "x": [
          2.9626319511729218,
          1.2425234878295879,
          2.9440976823216904,
          3.7375181269552287,
          2.101227107957828,
          3.2751943068521605,
          1.4831463843197896,
          3.127806951401855,
          3.799994100276344,
          4.669878472376741,
          0.7633632609798925,
          2.2606574990342327,
          0.5847753814610064,
          2.9772018387251746,
          3.2281549674024324,
          3.5273051028849474,
          3.219311160294083,
          2.57795330129799,
          1.451514238442976,
          2.05853753796086,
          3.03506108912436,
          2.205208703928991,
          1.3326414636585238,
          0.8025917163514614,
          3.1690762109100854,
          2.7315916659443453,
          2.4183572190758507,
          2.836141732367792,
          1.908307208965943,
          1.2966225004712757,
          1.9978734532623823,
          2.057345611460061,
          1.657920781664609,
          2.695653314410061,
          1.9187436404245526,
          2.8607157205581317,
          3.448455643411486,
          1.4463233151757624,
          2.5056596714430657,
          3.8658815321960076,
          1.1741844848845977,
          2.616442373461976
         ],
         "y": [
          -3.0734772726442907,
          -0.485895604993252,
          -1.4114905969336922,
          -0.6295180684698101,
          -1.668250658783479,
          -2.5480779740432147,
          -0.19437769719976003,
          -0.5134038194481501,
          -0.8988208239263494,
          -0.8270847514149748,
          -1.7697720324901487,
          -1.3760005238611024,
          -1.7360656481413905,
          -0.07393121941047164,
          -0.9696286975095544,
          -0.5610549406339566,
          -1.7893918001315063,
          -0.7002004954727473,
          -2.1083659454572325,
          -1.9614144770813864,
          -0.45588112633104694,
          -2.135692855565471,
          -1.5839029964283862,
          -0.44396851877489374,
          -1.2939505622100136,
          -1.1028673302218517,
          -1.5545385102434368,
          0.39281171886213206,
          -0.26336202775341305,
          -1.7293971504909427,
          -1.2355943811717436,
          -1.440523192347556,
          -1.5516400849004226,
          -1.237808558641398,
          -1.5845389273505044,
          -0.9656726042434618,
          -1.0976272240575944,
          -0.5311520098691866,
          -1.0678710360101744,
          -1.369070659296929,
          -1.0615690034094594,
          -0.7349950751996379
         ]
        },
        {
         "mode": "markers",
         "name": "2",
         "type": "scatter",
         "x": [
          0.9030264244551474,
          1.1908279467519125,
          0.3276484206412801,
          2.163599908583263,
          1.1921726950279528,
          1.9588453956929315,
          1.9832190464819264,
          1.093456999362752,
          2.0072929083758035,
          1.8880829478746277,
          1.5867206437187427,
          1.7446232519185325,
          2.08172554704405,
          1.2140337822408653,
          2.009422622636329,
          2.2993577018112883,
          1.7083473445195787,
          2.6290355772596716,
          2.4607571319197072,
          1.7770905912272403
         ],
         "y": [
          0.9920247459432384,
          3.6695832992959434,
          3.7083624684953387,
          3.9001981391402634,
          1.4533501286909527,
          2.568618021840938,
          4.81424044379424,
          3.614051996153776,
          2.084723182942002,
          3.803628986496262,
          1.7538464973141268,
          3.6773084104896356,
          3.1624677010560234,
          3.732682435182155,
          4.61664562406925,
          3.9939887388826443,
          3.1431130156809766,
          3.9463256915988105,
          4.036563387641418,
          3.885341051547781
         ]
        },
        {
         "mode": "markers",
         "name": "3",
         "type": "scatter",
         "x": [
          -0.8017478545121206,
          -0.19892220998864066,
          -3.487391772468924,
          -0.28627339800278045,
          -4.048466502048979,
          -1.7417796862045674,
          2.0679595537811664,
          -0.8782540573094559,
          -0.9069946446084999,
          3.369010670216761,
          -3.260346479682362,
          -2.7349834492099725,
          2.05546534925466,
          2.1699057140576783,
          3.25918261827859,
          2.0112815922833227,
          -3.149840220176515,
          1.8330312042126777,
          0.1912906430070126,
          -0.4445344712255643,
          1.66403400499478,
          2.047501849170285,
          -3.598212970776767,
          -4.169891978540379,
          1.7865706734990319,
          -2.470886924297878,
          2.127492100036634,
          3.1194958154130674
         ],
         "y": [
          -0.34344062860899044,
          0.9526792742910833,
          0.9844243761919992,
          0.5022219111334454,
          -0.3996318219088224,
          1.967980814936544,
          -1.6171717641353647,
          1.0357529868582493,
          0.9947774743537419,
          -1.2362096076904527,
          -0.7765557093242506,
          -1.2183425501440903,
          -3.336226896580918,
          -1.2089515797211716,
          -1.5288017378582908,
          -2.6211832176842886,
          -0.6221828897477129,
          -0.8140821665524081,
          1.7039879946786045,
          -0.1191994140965177,
          2.9983503022409184,
          -1.372066737078827,
          -0.09898879943697646,
          -0.14733558191448246,
          -0.6507355705283514,
          0.18168288927132473,
          -1.5354972753756262,
          -0.29689564654292366
         ]
        },
        {
         "marker": {
          "color": "rgba(135, 206, 250, 0)",
          "line": {
           "color": "red",
           "width": 5
          },
          "opacity": 1,
          "size": 25
         },
         "mode": "markers",
         "showlegend": false,
         "type": "scatter",
         "x": [
          3.799994100276344
         ],
         "y": [
          -0.8988208239263494
         ]
        }
       ],
       "layout": {
        "template": {
         "data": {
          "bar": [
           {
            "error_x": {
             "color": "#2a3f5f"
            },
            "error_y": {
             "color": "#2a3f5f"
            },
            "marker": {
             "line": {
              "color": "#E5ECF6",
              "width": 0.5
             }
            },
            "type": "bar"
           }
          ],
          "barpolar": [
           {
            "marker": {
             "line": {
              "color": "#E5ECF6",
              "width": 0.5
             }
            },
            "type": "barpolar"
           }
          ],
          "carpet": [
           {
            "aaxis": {
             "endlinecolor": "#2a3f5f",
             "gridcolor": "white",
             "linecolor": "white",
             "minorgridcolor": "white",
             "startlinecolor": "#2a3f5f"
            },
            "baxis": {
             "endlinecolor": "#2a3f5f",
             "gridcolor": "white",
             "linecolor": "white",
             "minorgridcolor": "white",
             "startlinecolor": "#2a3f5f"
            },
            "type": "carpet"
           }
          ],
          "choropleth": [
           {
            "colorbar": {
             "outlinewidth": 0,
             "ticks": ""
            },
            "type": "choropleth"
           }
          ],
          "contour": [
           {
            "colorbar": {
             "outlinewidth": 0,
             "ticks": ""
            },
            "colorscale": [
             [
              0,
              "#0d0887"
             ],
             [
              0.1111111111111111,
              "#46039f"
             ],
             [
              0.2222222222222222,
              "#7201a8"
             ],
             [
              0.3333333333333333,
              "#9c179e"
             ],
             [
              0.4444444444444444,
              "#bd3786"
             ],
             [
              0.5555555555555556,
              "#d8576b"
             ],
             [
              0.6666666666666666,
              "#ed7953"
             ],
             [
              0.7777777777777778,
              "#fb9f3a"
             ],
             [
              0.8888888888888888,
              "#fdca26"
             ],
             [
              1,
              "#f0f921"
             ]
            ],
            "type": "contour"
           }
          ],
          "contourcarpet": [
           {
            "colorbar": {
             "outlinewidth": 0,
             "ticks": ""
            },
            "type": "contourcarpet"
           }
          ],
          "heatmap": [
           {
            "colorbar": {
             "outlinewidth": 0,
             "ticks": ""
            },
            "colorscale": [
             [
              0,
              "#0d0887"
             ],
             [
              0.1111111111111111,
              "#46039f"
             ],
             [
              0.2222222222222222,
              "#7201a8"
             ],
             [
              0.3333333333333333,
              "#9c179e"
             ],
             [
              0.4444444444444444,
              "#bd3786"
             ],
             [
              0.5555555555555556,
              "#d8576b"
             ],
             [
              0.6666666666666666,
              "#ed7953"
             ],
             [
              0.7777777777777778,
              "#fb9f3a"
             ],
             [
              0.8888888888888888,
              "#fdca26"
             ],
             [
              1,
              "#f0f921"
             ]
            ],
            "type": "heatmap"
           }
          ],
          "heatmapgl": [
           {
            "colorbar": {
             "outlinewidth": 0,
             "ticks": ""
            },
            "colorscale": [
             [
              0,
              "#0d0887"
             ],
             [
              0.1111111111111111,
              "#46039f"
             ],
             [
              0.2222222222222222,
              "#7201a8"
             ],
             [
              0.3333333333333333,
              "#9c179e"
             ],
             [
              0.4444444444444444,
              "#bd3786"
             ],
             [
              0.5555555555555556,
              "#d8576b"
             ],
             [
              0.6666666666666666,
              "#ed7953"
             ],
             [
              0.7777777777777778,
              "#fb9f3a"
             ],
             [
              0.8888888888888888,
              "#fdca26"
             ],
             [
              1,
              "#f0f921"
             ]
            ],
            "type": "heatmapgl"
           }
          ],
          "histogram": [
           {
            "marker": {
             "colorbar": {
              "outlinewidth": 0,
              "ticks": ""
             }
            },
            "type": "histogram"
           }
          ],
          "histogram2d": [
           {
            "colorbar": {
             "outlinewidth": 0,
             "ticks": ""
            },
            "colorscale": [
             [
              0,
              "#0d0887"
             ],
             [
              0.1111111111111111,
              "#46039f"
             ],
             [
              0.2222222222222222,
              "#7201a8"
             ],
             [
              0.3333333333333333,
              "#9c179e"
             ],
             [
              0.4444444444444444,
              "#bd3786"
             ],
             [
              0.5555555555555556,
              "#d8576b"
             ],
             [
              0.6666666666666666,
              "#ed7953"
             ],
             [
              0.7777777777777778,
              "#fb9f3a"
             ],
             [
              0.8888888888888888,
              "#fdca26"
             ],
             [
              1,
              "#f0f921"
             ]
            ],
            "type": "histogram2d"
           }
          ],
          "histogram2dcontour": [
           {
            "colorbar": {
             "outlinewidth": 0,
             "ticks": ""
            },
            "colorscale": [
             [
              0,
              "#0d0887"
             ],
             [
              0.1111111111111111,
              "#46039f"
             ],
             [
              0.2222222222222222,
              "#7201a8"
             ],
             [
              0.3333333333333333,
              "#9c179e"
             ],
             [
              0.4444444444444444,
              "#bd3786"
             ],
             [
              0.5555555555555556,
              "#d8576b"
             ],
             [
              0.6666666666666666,
              "#ed7953"
             ],
             [
              0.7777777777777778,
              "#fb9f3a"
             ],
             [
              0.8888888888888888,
              "#fdca26"
             ],
             [
              1,
              "#f0f921"
             ]
            ],
            "type": "histogram2dcontour"
           }
          ],
          "mesh3d": [
           {
            "colorbar": {
             "outlinewidth": 0,
             "ticks": ""
            },
            "type": "mesh3d"
           }
          ],
          "parcoords": [
           {
            "line": {
             "colorbar": {
              "outlinewidth": 0,
              "ticks": ""
             }
            },
            "type": "parcoords"
           }
          ],
          "pie": [
           {
            "automargin": true,
            "type": "pie"
           }
          ],
          "scatter": [
           {
            "marker": {
             "colorbar": {
              "outlinewidth": 0,
              "ticks": ""
             }
            },
            "type": "scatter"
           }
          ],
          "scatter3d": [
           {
            "line": {
             "colorbar": {
              "outlinewidth": 0,
              "ticks": ""
             }
            },
            "marker": {
             "colorbar": {
              "outlinewidth": 0,
              "ticks": ""
             }
            },
            "type": "scatter3d"
           }
          ],
          "scattercarpet": [
           {
            "marker": {
             "colorbar": {
              "outlinewidth": 0,
              "ticks": ""
             }
            },
            "type": "scattercarpet"
           }
          ],
          "scattergeo": [
           {
            "marker": {
             "colorbar": {
              "outlinewidth": 0,
              "ticks": ""
             }
            },
            "type": "scattergeo"
           }
          ],
          "scattergl": [
           {
            "marker": {
             "colorbar": {
              "outlinewidth": 0,
              "ticks": ""
             }
            },
            "type": "scattergl"
           }
          ],
          "scattermapbox": [
           {
            "marker": {
             "colorbar": {
              "outlinewidth": 0,
              "ticks": ""
             }
            },
            "type": "scattermapbox"
           }
          ],
          "scatterpolar": [
           {
            "marker": {
             "colorbar": {
              "outlinewidth": 0,
              "ticks": ""
             }
            },
            "type": "scatterpolar"
           }
          ],
          "scatterpolargl": [
           {
            "marker": {
             "colorbar": {
              "outlinewidth": 0,
              "ticks": ""
             }
            },
            "type": "scatterpolargl"
           }
          ],
          "scatterternary": [
           {
            "marker": {
             "colorbar": {
              "outlinewidth": 0,
              "ticks": ""
             }
            },
            "type": "scatterternary"
           }
          ],
          "surface": [
           {
            "colorbar": {
             "outlinewidth": 0,
             "ticks": ""
            },
            "colorscale": [
             [
              0,
              "#0d0887"
             ],
             [
              0.1111111111111111,
              "#46039f"
             ],
             [
              0.2222222222222222,
              "#7201a8"
             ],
             [
              0.3333333333333333,
              "#9c179e"
             ],
             [
              0.4444444444444444,
              "#bd3786"
             ],
             [
              0.5555555555555556,
              "#d8576b"
             ],
             [
              0.6666666666666666,
              "#ed7953"
             ],
             [
              0.7777777777777778,
              "#fb9f3a"
             ],
             [
              0.8888888888888888,
              "#fdca26"
             ],
             [
              1,
              "#f0f921"
             ]
            ],
            "type": "surface"
           }
          ],
          "table": [
           {
            "cells": {
             "fill": {
              "color": "#EBF0F8"
             },
             "line": {
              "color": "white"
             }
            },
            "header": {
             "fill": {
              "color": "#C8D4E3"
             },
             "line": {
              "color": "white"
             }
            },
            "type": "table"
           }
          ]
         },
         "layout": {
          "annotationdefaults": {
           "arrowcolor": "#2a3f5f",
           "arrowhead": 0,
           "arrowwidth": 1
          },
          "coloraxis": {
           "colorbar": {
            "outlinewidth": 0,
            "ticks": ""
           }
          },
          "colorscale": {
           "diverging": [
            [
             0,
             "#8e0152"
            ],
            [
             0.1,
             "#c51b7d"
            ],
            [
             0.2,
             "#de77ae"
            ],
            [
             0.3,
             "#f1b6da"
            ],
            [
             0.4,
             "#fde0ef"
            ],
            [
             0.5,
             "#f7f7f7"
            ],
            [
             0.6,
             "#e6f5d0"
            ],
            [
             0.7,
             "#b8e186"
            ],
            [
             0.8,
             "#7fbc41"
            ],
            [
             0.9,
             "#4d9221"
            ],
            [
             1,
             "#276419"
            ]
           ],
           "sequential": [
            [
             0,
             "#0d0887"
            ],
            [
             0.1111111111111111,
             "#46039f"
            ],
            [
             0.2222222222222222,
             "#7201a8"
            ],
            [
             0.3333333333333333,
             "#9c179e"
            ],
            [
             0.4444444444444444,
             "#bd3786"
            ],
            [
             0.5555555555555556,
             "#d8576b"
            ],
            [
             0.6666666666666666,
             "#ed7953"
            ],
            [
             0.7777777777777778,
             "#fb9f3a"
            ],
            [
             0.8888888888888888,
             "#fdca26"
            ],
            [
             1,
             "#f0f921"
            ]
           ],
           "sequentialminus": [
            [
             0,
             "#0d0887"
            ],
            [
             0.1111111111111111,
             "#46039f"
            ],
            [
             0.2222222222222222,
             "#7201a8"
            ],
            [
             0.3333333333333333,
             "#9c179e"
            ],
            [
             0.4444444444444444,
             "#bd3786"
            ],
            [
             0.5555555555555556,
             "#d8576b"
            ],
            [
             0.6666666666666666,
             "#ed7953"
            ],
            [
             0.7777777777777778,
             "#fb9f3a"
            ],
            [
             0.8888888888888888,
             "#fdca26"
            ],
            [
             1,
             "#f0f921"
            ]
           ]
          },
          "colorway": [
           "#636efa",
           "#EF553B",
           "#00cc96",
           "#ab63fa",
           "#FFA15A",
           "#19d3f3",
           "#FF6692",
           "#B6E880",
           "#FF97FF",
           "#FECB52"
          ],
          "font": {
           "color": "#2a3f5f"
          },
          "geo": {
           "bgcolor": "white",
           "lakecolor": "white",
           "landcolor": "#E5ECF6",
           "showlakes": true,
           "showland": true,
           "subunitcolor": "white"
          },
          "hoverlabel": {
           "align": "left"
          },
          "hovermode": "closest",
          "mapbox": {
           "style": "light"
          },
          "paper_bgcolor": "white",
          "plot_bgcolor": "#E5ECF6",
          "polar": {
           "angularaxis": {
            "gridcolor": "white",
            "linecolor": "white",
            "ticks": ""
           },
           "bgcolor": "#E5ECF6",
           "radialaxis": {
            "gridcolor": "white",
            "linecolor": "white",
            "ticks": ""
           }
          },
          "scene": {
           "xaxis": {
            "backgroundcolor": "#E5ECF6",
            "gridcolor": "white",
            "gridwidth": 2,
            "linecolor": "white",
            "showbackground": true,
            "ticks": "",
            "zerolinecolor": "white"
           },
           "yaxis": {
            "backgroundcolor": "#E5ECF6",
            "gridcolor": "white",
            "gridwidth": 2,
            "linecolor": "white",
            "showbackground": true,
            "ticks": "",
            "zerolinecolor": "white"
           },
           "zaxis": {
            "backgroundcolor": "#E5ECF6",
            "gridcolor": "white",
            "gridwidth": 2,
            "linecolor": "white",
            "showbackground": true,
            "ticks": "",
            "zerolinecolor": "white"
           }
          },
          "shapedefaults": {
           "line": {
            "color": "#2a3f5f"
           }
          },
          "ternary": {
           "aaxis": {
            "gridcolor": "white",
            "linecolor": "white",
            "ticks": ""
           },
           "baxis": {
            "gridcolor": "white",
            "linecolor": "white",
            "ticks": ""
           },
           "bgcolor": "#E5ECF6",
           "caxis": {
            "gridcolor": "white",
            "linecolor": "white",
            "ticks": ""
           }
          },
          "title": {
           "x": 0.05
          },
          "xaxis": {
           "automargin": true,
           "gridcolor": "white",
           "linecolor": "white",
           "ticks": "",
           "title": {
            "standoff": 15
           },
           "zerolinecolor": "white",
           "zerolinewidth": 2
          },
          "yaxis": {
           "automargin": true,
           "gridcolor": "white",
           "linecolor": "white",
           "ticks": "",
           "title": {
            "standoff": 15
           },
           "zerolinecolor": "white",
           "zerolinewidth": 2
          }
         }
        }
       }
      },
      "text/html": [
       "<div>\n",
       "        \n",
       "        \n",
       "            <div id=\"22187857-0f59-4d74-932b-1d2282e362f7\" class=\"plotly-graph-div\" style=\"height:525px; width:100%;\"></div>\n",
       "            <script type=\"text/javascript\">\n",
       "                require([\"plotly\"], function(Plotly) {\n",
       "                    window.PLOTLYENV=window.PLOTLYENV || {};\n",
       "                    \n",
       "                if (document.getElementById(\"22187857-0f59-4d74-932b-1d2282e362f7\")) {\n",
       "                    Plotly.newPlot(\n",
       "                        '22187857-0f59-4d74-932b-1d2282e362f7',\n",
       "                        [{\"mode\": \"markers\", \"name\": \"0\", \"type\": \"scatter\", \"x\": [-3.096554014402991, -3.594093520592226, -2.8305526583466274, -2.973567387785505, -3.7064667247217162, -3.9244019172753632, -2.854630137047835, -3.6415952288798015, -3.1434529345252455, -2.6896426181837754, -2.0375875819181215, -4.566934815039397, -3.7380415297940033, -3.7367918104375835, -3.1254854151836637, -2.8678649300234156, -3.326567802190659, -2.9327107118243307, -3.451238130406709, -4.242915561405914, -3.170490475829568, -4.22409041545153, -4.610048681222266, -2.1723565856298177, -3.632351091677775, -3.4573391458063902, -2.7392489203044605, -3.0693129250623565, -3.5417317826054666, -2.1167984757776854, -2.922431439415531, -1.8556425972857535, -2.8650505729893054, -1.6423184194914748, -4.567137028999129, -3.273574870622463, -3.991170463915786, -3.5728136901807503, -3.915522167071435, -3.896048790471094], \"y\": [-0.7499651387066346, -1.3286069323716778, 0.592882737732797, -0.44894063867118444, -0.056141829851635225, 0.9234864923667225, -0.06537406516632863, -0.22193634185915223, 0.30411138686239897, -0.916292796643921, -1.1782485492514525, 0.07984084907318148, -0.8489362773470398, 0.13332332317767553, 1.6048841050279261, -1.060286202222605, -0.21925456780459257, -0.3822084882186006, -0.07568240379658622, -0.09994790291374851, -0.1900639590915081, 0.3946424968778066, -1.42200892432139, -0.07621806547758112, -0.781177878241978, 0.6935151151702372, -0.2996013767707313, -0.6988666251099636, -0.619216388787659, -0.35836484005655117, -0.08580068426741916, 0.6722754693298254, -0.21226124662913076, -0.26871730153451745, -0.4709529252137539, 0.21935043819994593, -0.46149194752693995, 0.46761974840697473, -0.7612952040087724, -0.31845989194175195]}, {\"mode\": \"markers\", \"name\": \"1\", \"type\": \"scatter\", \"x\": [2.9626319511729218, 1.2425234878295879, 2.9440976823216904, 3.7375181269552287, 2.101227107957828, 3.2751943068521605, 1.4831463843197896, 3.127806951401855, 3.799994100276344, 4.669878472376741, 0.7633632609798925, 2.2606574990342327, 0.5847753814610064, 2.9772018387251746, 3.2281549674024324, 3.5273051028849474, 3.219311160294083, 2.57795330129799, 1.451514238442976, 2.05853753796086, 3.03506108912436, 2.205208703928991, 1.3326414636585238, 0.8025917163514614, 3.1690762109100854, 2.7315916659443453, 2.4183572190758507, 2.836141732367792, 1.908307208965943, 1.2966225004712757, 1.9978734532623823, 2.057345611460061, 1.657920781664609, 2.695653314410061, 1.9187436404245526, 2.8607157205581317, 3.448455643411486, 1.4463233151757624, 2.5056596714430657, 3.8658815321960076, 1.1741844848845977, 2.616442373461976], \"y\": [-3.0734772726442907, -0.485895604993252, -1.4114905969336922, -0.6295180684698101, -1.668250658783479, -2.5480779740432147, -0.19437769719976003, -0.5134038194481501, -0.8988208239263494, -0.8270847514149748, -1.7697720324901487, -1.3760005238611024, -1.7360656481413905, -0.07393121941047164, -0.9696286975095544, -0.5610549406339566, -1.7893918001315063, -0.7002004954727473, -2.1083659454572325, -1.9614144770813864, -0.45588112633104694, -2.135692855565471, -1.5839029964283862, -0.44396851877489374, -1.2939505622100136, -1.1028673302218517, -1.5545385102434368, 0.39281171886213206, -0.26336202775341305, -1.7293971504909427, -1.2355943811717436, -1.440523192347556, -1.5516400849004226, -1.237808558641398, -1.5845389273505044, -0.9656726042434618, -1.0976272240575944, -0.5311520098691866, -1.0678710360101744, -1.369070659296929, -1.0615690034094594, -0.7349950751996379]}, {\"mode\": \"markers\", \"name\": \"2\", \"type\": \"scatter\", \"x\": [0.9030264244551474, 1.1908279467519125, 0.3276484206412801, 2.163599908583263, 1.1921726950279528, 1.9588453956929315, 1.9832190464819264, 1.093456999362752, 2.0072929083758035, 1.8880829478746277, 1.5867206437187427, 1.7446232519185325, 2.08172554704405, 1.2140337822408653, 2.009422622636329, 2.2993577018112883, 1.7083473445195787, 2.6290355772596716, 2.4607571319197072, 1.7770905912272403], \"y\": [0.9920247459432384, 3.6695832992959434, 3.7083624684953387, 3.9001981391402634, 1.4533501286909527, 2.568618021840938, 4.81424044379424, 3.614051996153776, 2.084723182942002, 3.803628986496262, 1.7538464973141268, 3.6773084104896356, 3.1624677010560234, 3.732682435182155, 4.61664562406925, 3.9939887388826443, 3.1431130156809766, 3.9463256915988105, 4.036563387641418, 3.885341051547781]}, {\"mode\": \"markers\", \"name\": \"3\", \"type\": \"scatter\", \"x\": [-0.8017478545121206, -0.19892220998864066, -3.487391772468924, -0.28627339800278045, -4.048466502048979, -1.7417796862045674, 2.0679595537811664, -0.8782540573094559, -0.9069946446084999, 3.369010670216761, -3.260346479682362, -2.7349834492099725, 2.05546534925466, 2.1699057140576783, 3.25918261827859, 2.0112815922833227, -3.149840220176515, 1.8330312042126777, 0.1912906430070126, -0.4445344712255643, 1.66403400499478, 2.047501849170285, -3.598212970776767, -4.169891978540379, 1.7865706734990319, -2.470886924297878, 2.127492100036634, 3.1194958154130674], \"y\": [-0.34344062860899044, 0.9526792742910833, 0.9844243761919992, 0.5022219111334454, -0.3996318219088224, 1.967980814936544, -1.6171717641353647, 1.0357529868582493, 0.9947774743537419, -1.2362096076904527, -0.7765557093242506, -1.2183425501440903, -3.336226896580918, -1.2089515797211716, -1.5288017378582908, -2.6211832176842886, -0.6221828897477129, -0.8140821665524081, 1.7039879946786045, -0.1191994140965177, 2.9983503022409184, -1.372066737078827, -0.09898879943697646, -0.14733558191448246, -0.6507355705283514, 0.18168288927132473, -1.5354972753756262, -0.29689564654292366]}, {\"marker\": {\"color\": \"rgba(135, 206, 250, 0)\", \"line\": {\"color\": \"red\", \"width\": 5}, \"opacity\": 1, \"size\": 25}, \"mode\": \"markers\", \"showlegend\": false, \"type\": \"scatter\", \"x\": [3.799994100276344], \"y\": [-0.8988208239263494]}],\n",
       "                        {\"template\": {\"data\": {\"bar\": [{\"error_x\": {\"color\": \"#2a3f5f\"}, \"error_y\": {\"color\": \"#2a3f5f\"}, \"marker\": {\"line\": {\"color\": \"#E5ECF6\", \"width\": 0.5}}, \"type\": \"bar\"}], \"barpolar\": [{\"marker\": {\"line\": {\"color\": \"#E5ECF6\", \"width\": 0.5}}, \"type\": \"barpolar\"}], \"carpet\": [{\"aaxis\": {\"endlinecolor\": \"#2a3f5f\", \"gridcolor\": \"white\", \"linecolor\": \"white\", \"minorgridcolor\": \"white\", \"startlinecolor\": \"#2a3f5f\"}, \"baxis\": {\"endlinecolor\": \"#2a3f5f\", \"gridcolor\": \"white\", \"linecolor\": \"white\", \"minorgridcolor\": \"white\", \"startlinecolor\": \"#2a3f5f\"}, \"type\": \"carpet\"}], \"choropleth\": [{\"colorbar\": {\"outlinewidth\": 0, \"ticks\": \"\"}, \"type\": \"choropleth\"}], \"contour\": [{\"colorbar\": {\"outlinewidth\": 0, \"ticks\": \"\"}, \"colorscale\": [[0.0, \"#0d0887\"], [0.1111111111111111, \"#46039f\"], [0.2222222222222222, \"#7201a8\"], [0.3333333333333333, \"#9c179e\"], [0.4444444444444444, \"#bd3786\"], [0.5555555555555556, \"#d8576b\"], [0.6666666666666666, \"#ed7953\"], [0.7777777777777778, \"#fb9f3a\"], [0.8888888888888888, \"#fdca26\"], [1.0, \"#f0f921\"]], \"type\": \"contour\"}], \"contourcarpet\": [{\"colorbar\": {\"outlinewidth\": 0, \"ticks\": \"\"}, \"type\": \"contourcarpet\"}], \"heatmap\": [{\"colorbar\": {\"outlinewidth\": 0, \"ticks\": \"\"}, \"colorscale\": [[0.0, \"#0d0887\"], [0.1111111111111111, \"#46039f\"], [0.2222222222222222, \"#7201a8\"], [0.3333333333333333, \"#9c179e\"], [0.4444444444444444, \"#bd3786\"], [0.5555555555555556, \"#d8576b\"], [0.6666666666666666, \"#ed7953\"], [0.7777777777777778, \"#fb9f3a\"], [0.8888888888888888, \"#fdca26\"], [1.0, \"#f0f921\"]], \"type\": \"heatmap\"}], \"heatmapgl\": [{\"colorbar\": {\"outlinewidth\": 0, \"ticks\": \"\"}, \"colorscale\": [[0.0, \"#0d0887\"], [0.1111111111111111, \"#46039f\"], [0.2222222222222222, \"#7201a8\"], [0.3333333333333333, \"#9c179e\"], [0.4444444444444444, \"#bd3786\"], [0.5555555555555556, \"#d8576b\"], [0.6666666666666666, \"#ed7953\"], [0.7777777777777778, \"#fb9f3a\"], [0.8888888888888888, \"#fdca26\"], [1.0, \"#f0f921\"]], \"type\": \"heatmapgl\"}], \"histogram\": [{\"marker\": {\"colorbar\": {\"outlinewidth\": 0, \"ticks\": \"\"}}, \"type\": \"histogram\"}], \"histogram2d\": [{\"colorbar\": {\"outlinewidth\": 0, \"ticks\": \"\"}, \"colorscale\": [[0.0, \"#0d0887\"], [0.1111111111111111, \"#46039f\"], [0.2222222222222222, \"#7201a8\"], [0.3333333333333333, \"#9c179e\"], [0.4444444444444444, \"#bd3786\"], [0.5555555555555556, \"#d8576b\"], [0.6666666666666666, \"#ed7953\"], [0.7777777777777778, \"#fb9f3a\"], [0.8888888888888888, \"#fdca26\"], [1.0, \"#f0f921\"]], \"type\": \"histogram2d\"}], \"histogram2dcontour\": [{\"colorbar\": {\"outlinewidth\": 0, \"ticks\": \"\"}, \"colorscale\": [[0.0, \"#0d0887\"], [0.1111111111111111, \"#46039f\"], [0.2222222222222222, \"#7201a8\"], [0.3333333333333333, \"#9c179e\"], [0.4444444444444444, \"#bd3786\"], [0.5555555555555556, \"#d8576b\"], [0.6666666666666666, \"#ed7953\"], [0.7777777777777778, \"#fb9f3a\"], [0.8888888888888888, \"#fdca26\"], [1.0, \"#f0f921\"]], \"type\": \"histogram2dcontour\"}], \"mesh3d\": [{\"colorbar\": {\"outlinewidth\": 0, \"ticks\": \"\"}, \"type\": \"mesh3d\"}], \"parcoords\": [{\"line\": {\"colorbar\": {\"outlinewidth\": 0, \"ticks\": \"\"}}, \"type\": \"parcoords\"}], \"pie\": [{\"automargin\": true, \"type\": \"pie\"}], \"scatter\": [{\"marker\": {\"colorbar\": {\"outlinewidth\": 0, \"ticks\": \"\"}}, \"type\": \"scatter\"}], \"scatter3d\": [{\"line\": {\"colorbar\": {\"outlinewidth\": 0, \"ticks\": \"\"}}, \"marker\": {\"colorbar\": {\"outlinewidth\": 0, \"ticks\": \"\"}}, \"type\": \"scatter3d\"}], \"scattercarpet\": [{\"marker\": {\"colorbar\": {\"outlinewidth\": 0, \"ticks\": \"\"}}, \"type\": \"scattercarpet\"}], \"scattergeo\": [{\"marker\": {\"colorbar\": {\"outlinewidth\": 0, \"ticks\": \"\"}}, \"type\": \"scattergeo\"}], \"scattergl\": [{\"marker\": {\"colorbar\": {\"outlinewidth\": 0, \"ticks\": \"\"}}, \"type\": \"scattergl\"}], \"scattermapbox\": [{\"marker\": {\"colorbar\": {\"outlinewidth\": 0, \"ticks\": \"\"}}, \"type\": \"scattermapbox\"}], \"scatterpolar\": [{\"marker\": {\"colorbar\": {\"outlinewidth\": 0, \"ticks\": \"\"}}, \"type\": \"scatterpolar\"}], \"scatterpolargl\": [{\"marker\": {\"colorbar\": {\"outlinewidth\": 0, \"ticks\": \"\"}}, \"type\": \"scatterpolargl\"}], \"scatterternary\": [{\"marker\": {\"colorbar\": {\"outlinewidth\": 0, \"ticks\": \"\"}}, \"type\": \"scatterternary\"}], \"surface\": [{\"colorbar\": {\"outlinewidth\": 0, \"ticks\": \"\"}, \"colorscale\": [[0.0, \"#0d0887\"], [0.1111111111111111, \"#46039f\"], [0.2222222222222222, \"#7201a8\"], [0.3333333333333333, \"#9c179e\"], [0.4444444444444444, \"#bd3786\"], [0.5555555555555556, \"#d8576b\"], [0.6666666666666666, \"#ed7953\"], [0.7777777777777778, \"#fb9f3a\"], [0.8888888888888888, \"#fdca26\"], [1.0, \"#f0f921\"]], \"type\": \"surface\"}], \"table\": [{\"cells\": {\"fill\": {\"color\": \"#EBF0F8\"}, \"line\": {\"color\": \"white\"}}, \"header\": {\"fill\": {\"color\": \"#C8D4E3\"}, \"line\": {\"color\": \"white\"}}, \"type\": \"table\"}]}, \"layout\": {\"annotationdefaults\": {\"arrowcolor\": \"#2a3f5f\", \"arrowhead\": 0, \"arrowwidth\": 1}, \"coloraxis\": {\"colorbar\": {\"outlinewidth\": 0, \"ticks\": \"\"}}, \"colorscale\": {\"diverging\": [[0, \"#8e0152\"], [0.1, \"#c51b7d\"], [0.2, \"#de77ae\"], [0.3, \"#f1b6da\"], [0.4, \"#fde0ef\"], [0.5, \"#f7f7f7\"], [0.6, \"#e6f5d0\"], [0.7, \"#b8e186\"], [0.8, \"#7fbc41\"], [0.9, \"#4d9221\"], [1, \"#276419\"]], \"sequential\": [[0.0, \"#0d0887\"], [0.1111111111111111, \"#46039f\"], [0.2222222222222222, \"#7201a8\"], [0.3333333333333333, \"#9c179e\"], [0.4444444444444444, \"#bd3786\"], [0.5555555555555556, \"#d8576b\"], [0.6666666666666666, \"#ed7953\"], [0.7777777777777778, \"#fb9f3a\"], [0.8888888888888888, \"#fdca26\"], [1.0, \"#f0f921\"]], \"sequentialminus\": [[0.0, \"#0d0887\"], [0.1111111111111111, \"#46039f\"], [0.2222222222222222, \"#7201a8\"], [0.3333333333333333, \"#9c179e\"], [0.4444444444444444, \"#bd3786\"], [0.5555555555555556, \"#d8576b\"], [0.6666666666666666, \"#ed7953\"], [0.7777777777777778, \"#fb9f3a\"], [0.8888888888888888, \"#fdca26\"], [1.0, \"#f0f921\"]]}, \"colorway\": [\"#636efa\", \"#EF553B\", \"#00cc96\", \"#ab63fa\", \"#FFA15A\", \"#19d3f3\", \"#FF6692\", \"#B6E880\", \"#FF97FF\", \"#FECB52\"], \"font\": {\"color\": \"#2a3f5f\"}, \"geo\": {\"bgcolor\": \"white\", \"lakecolor\": \"white\", \"landcolor\": \"#E5ECF6\", \"showlakes\": true, \"showland\": true, \"subunitcolor\": \"white\"}, \"hoverlabel\": {\"align\": \"left\"}, \"hovermode\": \"closest\", \"mapbox\": {\"style\": \"light\"}, \"paper_bgcolor\": \"white\", \"plot_bgcolor\": \"#E5ECF6\", \"polar\": {\"angularaxis\": {\"gridcolor\": \"white\", \"linecolor\": \"white\", \"ticks\": \"\"}, \"bgcolor\": \"#E5ECF6\", \"radialaxis\": {\"gridcolor\": \"white\", \"linecolor\": \"white\", \"ticks\": \"\"}}, \"scene\": {\"xaxis\": {\"backgroundcolor\": \"#E5ECF6\", \"gridcolor\": \"white\", \"gridwidth\": 2, \"linecolor\": \"white\", \"showbackground\": true, \"ticks\": \"\", \"zerolinecolor\": \"white\"}, \"yaxis\": {\"backgroundcolor\": \"#E5ECF6\", \"gridcolor\": \"white\", \"gridwidth\": 2, \"linecolor\": \"white\", \"showbackground\": true, \"ticks\": \"\", \"zerolinecolor\": \"white\"}, \"zaxis\": {\"backgroundcolor\": \"#E5ECF6\", \"gridcolor\": \"white\", \"gridwidth\": 2, \"linecolor\": \"white\", \"showbackground\": true, \"ticks\": \"\", \"zerolinecolor\": \"white\"}}, \"shapedefaults\": {\"line\": {\"color\": \"#2a3f5f\"}}, \"ternary\": {\"aaxis\": {\"gridcolor\": \"white\", \"linecolor\": \"white\", \"ticks\": \"\"}, \"baxis\": {\"gridcolor\": \"white\", \"linecolor\": \"white\", \"ticks\": \"\"}, \"bgcolor\": \"#E5ECF6\", \"caxis\": {\"gridcolor\": \"white\", \"linecolor\": \"white\", \"ticks\": \"\"}}, \"title\": {\"x\": 0.05}, \"xaxis\": {\"automargin\": true, \"gridcolor\": \"white\", \"linecolor\": \"white\", \"ticks\": \"\", \"title\": {\"standoff\": 15}, \"zerolinecolor\": \"white\", \"zerolinewidth\": 2}, \"yaxis\": {\"automargin\": true, \"gridcolor\": \"white\", \"linecolor\": \"white\", \"ticks\": \"\", \"title\": {\"standoff\": 15}, \"zerolinecolor\": \"white\", \"zerolinewidth\": 2}}}},\n",
       "                        {\"responsive\": true}\n",
       "                    ).then(function(){\n",
       "                            \n",
       "var gd = document.getElementById('22187857-0f59-4d74-932b-1d2282e362f7');\n",
       "var x = new MutationObserver(function (mutations, observer) {{\n",
       "        var display = window.getComputedStyle(gd).display;\n",
       "        if (!display || display === 'none') {{\n",
       "            console.log([gd, 'removed!']);\n",
       "            Plotly.purge(gd);\n",
       "            observer.disconnect();\n",
       "        }}\n",
       "}});\n",
       "\n",
       "// Listen for the removal of the full notebook cells\n",
       "var notebookContainer = gd.closest('#notebook-container');\n",
       "if (notebookContainer) {{\n",
       "    x.observe(notebookContainer, {childList: true});\n",
       "}}\n",
       "\n",
       "// Listen for the clearing of the current output cell\n",
       "var outputEl = gd.closest('.output');\n",
       "if (outputEl) {{\n",
       "    x.observe(outputEl, {childList: true});\n",
       "}}\n",
       "\n",
       "                        })\n",
       "                };\n",
       "                });\n",
       "            </script>\n",
       "        </div>"
      ]
     },
     "metadata": {},
     "output_type": "display_data"
    }
   ],
   "source": [
    "local_l= genotype[:,(nan_pos-int(wind_sizes/2)):(nan_pos+int(wind_sizes/2))]\n",
    "coords= {z:[x for x in range(len(label_vector)) if label_vector[x] == z] for z in list(set(label_vector))}\n",
    "\n",
    "pca2 = PCA(n_components=ncomps, whiten=False,svd_solver='randomized')\n",
    "featl= pca2.fit_transform(local_l)\n",
    "\n",
    "fig= [go.Scatter(\n",
    "    x= featl[coords[i],0],\n",
    "    y= featl[coords[i],1],\n",
    "    mode= 'markers',\n",
    "    name= str(i)\n",
    ") for i in coords.keys()]\n",
    "\n",
    "fig.append(go.Scatter(\n",
    "    mode='markers',\n",
    "    x=[featl[nan_acc,0]],\n",
    "    y=[featl[nan_acc,1]],\n",
    "    marker=dict(\n",
    "        color='rgba(135, 206, 250, 0)',\n",
    "        size=25,\n",
    "        opacity= 1,\n",
    "        line=dict(\n",
    "            color='red',\n",
    "            width=5\n",
    "        )\n",
    "    ),\n",
    "    showlegend=False\n",
    "))\n",
    "\n",
    "layout= go.Layout()\n",
    "\n",
    "Figure= go.Figure(data= fig, layout= layout)\n",
    "\n",
    "iplot(Figure)"
   ]
  },
  {
   "cell_type": "markdown",
   "metadata": {},
   "source": [
    "### Grid approach"
   ]
  },
  {
   "cell_type": "code",
   "execution_count": 29,
   "metadata": {},
   "outputs": [],
   "source": [
    "# subselect by variance in distances:\n",
    "\n",
    "## perform MeanShift clustering.\n",
    "bandwidth = estimate_bandwidth(featl, quantile=0.2)\n",
    "#bandwidth = estimate_bandwidth(dist_var.reshape(-1,1), quantile=0.2)\n",
    "\n",
    "ms = MeanShift(bandwidth=bandwidth, bin_seeding=False, cluster_all=False, min_bin_freq=35)\n",
    "featlt= pca2.fit_transform(local_l[other_obs])\n",
    "ms.fit(featlt) #(dist_var.reshape(-1,1))\n",
    "labels_std = ms.labels_\n",
    "std_select = {y:[x for x in range(len(labels_std)) if labels_std[x] == y] for y in sorted(list(set(labels_std)))}\n",
    "std_select.keys()\n",
    "\n",
    "std_gpmeans= {z: np.mean([dist_var[x] for x in g]) for z,g in std_select.items() if z != -1}\n",
    "\n",
    "std_gp_use= sorted(std_gpmeans,key= std_gpmeans.get)\n",
    "d= 0\n",
    "idx = 0\n",
    "\n",
    "while d != 1:\n",
    "    g=std_select[std_gp_use[idx]] \n",
    "    \n",
    "    if len(g) >= 15:\n",
    "        std_gp_use= list(g)\n",
    "        d= 1\n",
    "        \n",
    "    idx+= 1\n",
    "\n",
    "#std_gp_use= std_select[std_gp_use]\n",
    "\n",
    "#std_gp_use= [other_obs[x] for x in std_gp_use]\n",
    "#std_gp_use= list(range(len(labels_std)))"
   ]
  },
  {
   "cell_type": "code",
   "execution_count": 28,
   "metadata": {},
   "outputs": [],
   "source": [
    "\n",
    "def get_bg_grid(Quanted_set, P= 20, dimN= 2):\n",
    "    '''\n",
    "    return coordinates for grid encompassing coordinates in Quanted data set.\n",
    "    - P: grid number,\n",
    "    - dimN: number of features from Quanted_set to use. \n",
    "    '''\n",
    "    to_mesh= [np.linspace(min(Quanted_set[:,x]),max(Quanted_set[:,x]),P) for x in range(dimN)]\n",
    "\n",
    "    coords_net = np.meshgrid(*to_mesh, indexing= 'ij')\n",
    "\n",
    "    pprod= [list(range(P)) for y in range(dimN)]\n",
    "    traces= [x for x in it.product(*pprod)]\n",
    "\n",
    "    background= np.array(coords_net)\n",
    "\n",
    "    background= background.reshape(dimN,np.prod(background.shape[1:])).T\n",
    "    \n",
    "    return background\n",
    "\n",
    "Quanted_set= np.array(featl)\n",
    "P= 20\n",
    "dimN= 2\n",
    "\n",
    "background= get_bg_grid(Quanted_set, P= P, dimN= dimN)"
   ]
  },
  {
   "cell_type": "code",
   "execution_count": 30,
   "metadata": {},
   "outputs": [
    {
     "data": {
      "text/plain": [
       "(400, 46)"
      ]
     },
     "execution_count": 30,
     "metadata": {},
     "output_type": "execute_result"
    }
   ],
   "source": [
    "workfeat= featl[std_gp_use,:dimN]\n",
    "\n",
    "dist_grid= pairwise_distances(background, workfeat,\n",
    "                                            metric=metric)\n",
    "\n",
    "dist_grid.shape"
   ]
  },
  {
   "cell_type": "code",
   "execution_count": 31,
   "metadata": {},
   "outputs": [],
   "source": [
    "from sklearn.neighbors import KernelDensity\n",
    "from sklearn.decomposition import PCA\n",
    "from sklearn.model_selection import GridSearchCV\n",
    "\n",
    "dist_ref_select= 0\n",
    "\n",
    "dist_comps= 10\n",
    "Bandwidth_split = 30\n",
    "\n",
    "####\n",
    "####\n",
    "dist_ref= dist_store[labelf_select[dist_ref_select],:]\n",
    "dist_ref= dist_ref[:,std_gp_use]\n",
    "pca2 = PCA(n_components=dist_comps, whiten=False,svd_solver='randomized')\n",
    "\n",
    "pca_dists= pca2.fit(dist_grid)\n",
    "featw= pca_dists.transform(dist_grid)\n",
    "featref= pca2.transform(dist_ref)\n",
    "\n",
    "params = {'bandwidth': np.linspace(np.min(featref), np.max(featref),Bandwidth_split)}\n",
    "grid = GridSearchCV(KernelDensity(algorithm = \"ball_tree\",breadth_first = False), params,verbose=0,cv= 3,iid= False)\n",
    "\n",
    "grid.fit(featref)\n",
    "kde = grid.best_estimator_\n",
    "\n",
    "grid_likes= kde.score_samples(featw)\n",
    "grid_likes= np.exp(grid_likes)\n"
   ]
  },
  {
   "cell_type": "code",
   "execution_count": 33,
   "metadata": {},
   "outputs": [
    {
     "name": "stdout",
     "output_type": "stream",
     "text": [
      "(400,)\n"
     ]
    },
    {
     "data": {
      "application/vnd.plotly.v1+json": {
       "config": {
        "linkText": "Export to plot.ly",
        "plotlyServerURL": "https://plot.ly",
        "showLink": false
       },
       "data": [
        {
         "marker": {
          "color": [
           0,
           0,
           0,
           0,
           0,
           0,
           0,
           0,
           0,
           0,
           0,
           0,
           0,
           0,
           0,
           0,
           0,
           0,
           0,
           0,
           0,
           0,
           0,
           0,
           0,
           0,
           0,
           0,
           0,
           0,
           0,
           0,
           0,
           0,
           0,
           0,
           0,
           0,
           0,
           0,
           0,
           0,
           0,
           0,
           1.5884127e-317,
           2.2936805466e-314,
           4.54541703e-316,
           5.4e-322,
           0,
           0,
           0,
           0,
           0,
           0,
           0,
           0,
           0,
           0,
           0,
           0,
           2.2364968316761975e-307,
           1.2677324337268167e-283,
           1.9445943842791863e-265,
           1.3071125544936996e-252,
           5.6923810232662355e-245,
           2.1394766323207834e-242,
           8.492799684168123e-245,
           2.2431931504926273e-250,
           9.297659463931843e-260,
           1.2006499067012008e-273,
           2.126036595231732e-292,
           1.58305777e-316,
           0,
           0,
           0,
           0,
           0,
           0,
           0,
           0,
           4.6415184469575536e-241,
           1.0428121697250066e-218,
           1.0541706577791868e-201,
           8.862657830657015e-190,
           1.0429763588333419e-182,
           2.731800031369905e-180,
           3.256684030909138e-182,
           6.480120814032675e-188,
           2.0545872629337643e-197,
           3.731773277377611e-210,
           2.3561754286828636e-227,
           7.52726660928752e-250,
           5.196215637972428e-278,
           3.41103761995e-312,
           0,
           0,
           0,
           0,
           0,
           0,
           7.459598541290856e-185,
           4.726169758351186e-164,
           2.4769506356937612e-148,
           2.4368657585144164e-137,
           9.24112745730749e-131,
           2.5042364022585476e-128,
           8.466118137673797e-130,
           5.322337432766372e-135,
           7.972841853330449e-144,
           8.432421481078554e-156,
           8.274854318729224e-172,
           9.829266064560863e-193,
           4.21288910850979e-219,
           2.1308025875657116e-251,
           4.826924467418501e-290,
           0,
           0,
           0,
           0,
           0,
           1.565920729129461e-138,
           1.7065261699064046e-119,
           3.0096259585469477e-105,
           2.56153331395643e-95,
           2.7282547842159417e-89,
           7.498035124714454e-87,
           8.286709260070587e-88,
           4.3252182583865176e-92,
           1.039076343597866e-99,
           8.924417822062144e-111,
           1.1557378905710188e-125,
           6.199233273055774e-145,
           2.3743564883707566e-169,
           1.2434771024822166e-199,
           2.717711722591949e-236,
           1.024767736373694e-279,
           0,
           0,
           0,
           0,
           8.644678675782253e-102,
           8.142600785478545e-85,
           2.4483311591854324e-72,
           1.0233609474077557e-63,
           2.1491759831728364e-58,
           5.4752313861442845e-56,
           2.4175387533626107e-56,
           1.5976859164173017e-59,
           8.968473374464245e-66,
           1.7225616087353474e-75,
           5.4288776014146184e-89,
           3.7969953872074836e-106,
           2.605027371654822e-128,
           1.8892990475498866e-156,
           4.543068388862007e-191,
           1.506310044904124e-232,
           3.364007698077176e-281,
           0,
           0,
           0,
           3.472048766373723e-74,
           1.1539771182711452e-59,
           2.222199373283882e-49,
           1.8908899843297023e-42,
           4.5364762820044674e-38,
           9.878638312755684e-36,
           2.4754114685017505e-35,
           4.252234878761487e-37,
           1.7323410674528063e-41,
           3.968446086930072e-49,
           1.572177567073575e-60,
           2.198732960477929e-75,
           2.541284575841646e-95,
           2.4917590492845646e-121,
           6.44233208655554e-154,
           1.7935208893507644e-193,
           2.598256473443336e-240,
           1.0666168909634336e-294,
           0,
           0,
           4.654932170186357e-55,
           1.8984408961531073e-43,
           3.12381847545714e-30,
           1.4199933732131143e-26,
           3.4623705445572785e-25,
           2.0083832669648476e-20,
           1.6860987641186123e-24,
           6.197209098414821e-22,
           1.5332746907269628e-22,
           4.802526831062255e-31,
           2.2822768400351135e-39,
           5.5419535659689575e-52,
           7.942219007221085e-70,
           9.236693350583757e-94,
           2.274902064595652e-124,
           4.618221871392125e-162,
           3.707159261049831e-207,
           6.356615994024657e-260,
           1.3824e-320,
           0,
           1.9597982092133403e-43,
           3.552917665577099e-27,
           1.197004293677898e-20,
           2.143657744034417e-19,
           2.119523863933653e-19,
           4.711742447033845e-22,
           3.428518371713665e-22,
           1.8056603588935868e-18,
           1.083591020413109e-19,
           6.024506840019388e-20,
           4.272518819737546e-23,
           6.502849725862488e-36,
           2.1048936827425396e-51,
           3.0567892782980946e-73,
           6.055160595404812e-102,
           7.058470201924218e-138,
           2.456911973573821e-181,
           1.3655581131745312e-232,
           7.022943185648244e-292,
           0,
           7.9665500706021e-29,
           4.400390349727461e-19,
           1.8008138202122918e-22,
           6.305038732119197e-19,
           4.9989132288663555e-17,
           4.904345408989752e-15,
           4.061120314022968e-15,
           2.6542569237952793e-17,
           3.6572582116625736e-19,
           8.376833599127317e-18,
           2.156262922042258e-19,
           2.7021327675592766e-26,
           2.415049687564836e-39,
           3.7877945061785204e-59,
           4.117057384064956e-86,
           1.8209713891362605e-120,
           1.9678139610398652e-162,
           2.5412448642886055e-212,
           2.113097865437715e-270,
           0,
           7.262977453701313e-27,
           1.5105363178823035e-20,
           2.0540101044971313e-18,
           1.9640845906016497e-15,
           3.7695981372108564e-14,
           3.7798327648944135e-14,
           5.6722734870652614e-14,
           5.603813464940721e-15,
           8.588881204438863e-17,
           4.323384833812468e-18,
           8.273493378799233e-18,
           6.799263949620495e-22,
           1.1302598006791159e-32,
           1.092604076873805e-50,
           2.897683776727421e-76,
           2.2938448615145763e-109,
           5.512215890973182e-150,
           1.0560346920621103e-198,
           8.182607568793696e-256,
           1.917e-321,
           9.108464264755644e-26,
           5.786451035303345e-21,
           5.126882739185852e-16,
           2.6839375183459004e-13,
           1.3085436406235352e-13,
           3.441755426750058e-13,
           7.476457659982307e-14,
           6.852307198983494e-14,
           9.63240460217571e-15,
           3.365555302014065e-17,
           1.9164941860394543e-18,
           2.0887513872633817e-21,
           2.443708372958146e-30,
           6.354274033325015e-47,
           1.7797396728590115e-71,
           8.042346744478217e-104,
           2.422029509412453e-143,
           2.6670041470408508e-191,
           8.205850591655903e-248,
           6.0371272829e-313,
           1.7809151385199692e-25,
           4.757071762634776e-19,
           1.136814319957576e-15,
           2.100993459589078e-13,
           6.250440065407366e-14,
           3.8779249501449945e-14,
           3.4711001732050314e-13,
           7.625340857204503e-12,
           8.659266961477057e-11,
           1.2318937334119248e-12,
           1.583007286309332e-18,
           6.900985927824955e-20,
           1.8101573256690277e-31,
           4.0716880440540303e-47,
           8.406050860975194e-71,
           1.9715910308927197e-102,
           5.4270571093096455e-142,
           7.70306436149355e-190,
           3.2621234389085354e-246,
           3.238209297637e-311,
           1.3590676443851605e-20,
           1.3909582746043666e-22,
           8.579642401145675e-17,
           6.843334939753542e-14,
           4.647751293919903e-14,
           1.3072115550828612e-14,
           5.896353075463959e-14,
           9.093068247126253e-13,
           4.686044367800325e-10,
           6.335230606893909e-12,
           2.5772539423324515e-19,
           3.3196493451762873e-20,
           4.202678238408189e-24,
           4.170623245544847e-51,
           1.1059129179856481e-74,
           2.3365971878565007e-106,
           3.3688143445609654e-146,
           2.3178953118535798e-194,
           5.295696873152997e-251,
           3.12610477e-316,
           1.8082547952717665e-21,
           5.523517885658405e-26,
           2.063341291847076e-18,
           5.214041682089652e-17,
           3.7045945839337e-16,
           1.3717985791779225e-15,
           1.7486947954184088e-15,
           1.831465917107014e-13,
           1.2073068253146302e-11,
           1.6375907739986763e-14,
           1.7551210751612777e-23,
           9.616124096585211e-22,
           1.1234548540074885e-42,
           4.978213332536407e-59,
           2.5997112078467814e-83,
           1.14670384148698e-115,
           3.3453105947390035e-156,
           4.892368911728963e-205,
           2.7208990118653765e-262,
           0,
           1.1872479828714899e-24,
           2.512003774319752e-32,
           2.263108105187774e-19,
           1.3407227769221417e-18,
           8.323478850962417e-18,
           9.835712936337204e-17,
           6.313339773269847e-17,
           6.184973955936782e-16,
           2.6720549635193925e-16,
           8.029419845668545e-20,
           1.4826193129337455e-21,
           2.0100495312312623e-24,
           8.674956493158141e-51,
           3.391969202118918e-71,
           5.726330545619529e-97,
           1.4554748802009964e-130,
           3.192143336355703e-172,
           4.409103525049064e-222,
           2.9020916355813054e-280,
           0,
           1.4909689077706272e-45,
           5.083675865407291e-37,
           7.21382978567942e-22,
           7.281319903102559e-30,
           6.887476489995958e-20,
           3.5812848371364294e-23,
           4.49819755041444e-23,
           2.9916629310753087e-19,
           1.56457594877904e-20,
           1.742189398296281e-31,
           3.596720577069977e-36,
           2.451564340098952e-46,
           8.617853857858468e-63,
           4.476280750753857e-86,
           5.234348735135514e-116,
           1.9987735843134275e-151,
           1.4036387294187397e-194,
           8.895262613858824e-246,
           3.6710229014691333e-305,
           0,
           2.3770325591541605e-59,
           1.6710533653544912e-47,
           3.261236747910207e-40,
           1.8187721159455158e-36,
           3.612608129197853e-35,
           3.029346969141448e-35,
           1.1665364423423628e-35,
           3.413633486537675e-23,
           2.0720721837599633e-36,
           2.4735926378075678e-27,
           1.825901212677635e-48,
           1.0163380943889988e-61,
           6.614308403939794e-81,
           1.340723004952351e-106,
           3.191465113871264e-139,
           1.3431169069903456e-178,
           1.1009566780167266e-223,
           1.8034797382175087e-276,
           0,
           0
          ],
          "colorbar": {
           "title": {
            "text": "ColorBar"
           }
          },
          "colorscale": [
           [
            0,
            "#440154"
           ],
           [
            0.1111111111111111,
            "#482878"
           ],
           [
            0.2222222222222222,
            "#3e4989"
           ],
           [
            0.3333333333333333,
            "#31688e"
           ],
           [
            0.4444444444444444,
            "#26828e"
           ],
           [
            0.5555555555555556,
            "#1f9e89"
           ],
           [
            0.6666666666666666,
            "#35b779"
           ],
           [
            0.7777777777777778,
            "#6ece58"
           ],
           [
            0.8888888888888888,
            "#b5de2b"
           ],
           [
            1,
            "#fde725"
           ]
          ],
          "line": {
           "width": 0
          },
          "opacity": 1,
          "size": 25,
          "symbol": "circle"
         },
         "mode": "markers",
         "type": "scatter",
         "x": [
          -4.610048681222266,
          -4.610048681222266,
          -4.610048681222266,
          -4.610048681222266,
          -4.610048681222266,
          -4.610048681222266,
          -4.610048681222266,
          -4.610048681222266,
          -4.610048681222266,
          -4.610048681222266,
          -4.610048681222266,
          -4.610048681222266,
          -4.610048681222266,
          -4.610048681222266,
          -4.610048681222266,
          -4.610048681222266,
          -4.610048681222266,
          -4.610048681222266,
          -4.610048681222266,
          -4.610048681222266,
          -4.121631462611792,
          -4.121631462611792,
          -4.121631462611792,
          -4.121631462611792,
          -4.121631462611792,
          -4.121631462611792,
          -4.121631462611792,
          -4.121631462611792,
          -4.121631462611792,
          -4.121631462611792,
          -4.121631462611792,
          -4.121631462611792,
          -4.121631462611792,
          -4.121631462611792,
          -4.121631462611792,
          -4.121631462611792,
          -4.121631462611792,
          -4.121631462611792,
          -4.121631462611792,
          -4.121631462611792,
          -3.633214244001318,
          -3.633214244001318,
          -3.633214244001318,
          -3.633214244001318,
          -3.633214244001318,
          -3.633214244001318,
          -3.633214244001318,
          -3.633214244001318,
          -3.633214244001318,
          -3.633214244001318,
          -3.633214244001318,
          -3.633214244001318,
          -3.633214244001318,
          -3.633214244001318,
          -3.633214244001318,
          -3.633214244001318,
          -3.633214244001318,
          -3.633214244001318,
          -3.633214244001318,
          -3.633214244001318,
          -3.1447970253908437,
          -3.1447970253908437,
          -3.1447970253908437,
          -3.1447970253908437,
          -3.1447970253908437,
          -3.1447970253908437,
          -3.1447970253908437,
          -3.1447970253908437,
          -3.1447970253908437,
          -3.1447970253908437,
          -3.1447970253908437,
          -3.1447970253908437,
          -3.1447970253908437,
          -3.1447970253908437,
          -3.1447970253908437,
          -3.1447970253908437,
          -3.1447970253908437,
          -3.1447970253908437,
          -3.1447970253908437,
          -3.1447970253908437,
          -2.65637980678037,
          -2.65637980678037,
          -2.65637980678037,
          -2.65637980678037,
          -2.65637980678037,
          -2.65637980678037,
          -2.65637980678037,
          -2.65637980678037,
          -2.65637980678037,
          -2.65637980678037,
          -2.65637980678037,
          -2.65637980678037,
          -2.65637980678037,
          -2.65637980678037,
          -2.65637980678037,
          -2.65637980678037,
          -2.65637980678037,
          -2.65637980678037,
          -2.65637980678037,
          -2.65637980678037,
          -2.1679625881698956,
          -2.1679625881698956,
          -2.1679625881698956,
          -2.1679625881698956,
          -2.1679625881698956,
          -2.1679625881698956,
          -2.1679625881698956,
          -2.1679625881698956,
          -2.1679625881698956,
          -2.1679625881698956,
          -2.1679625881698956,
          -2.1679625881698956,
          -2.1679625881698956,
          -2.1679625881698956,
          -2.1679625881698956,
          -2.1679625881698956,
          -2.1679625881698956,
          -2.1679625881698956,
          -2.1679625881698956,
          -2.1679625881698956,
          -1.6795453695594214,
          -1.6795453695594214,
          -1.6795453695594214,
          -1.6795453695594214,
          -1.6795453695594214,
          -1.6795453695594214,
          -1.6795453695594214,
          -1.6795453695594214,
          -1.6795453695594214,
          -1.6795453695594214,
          -1.6795453695594214,
          -1.6795453695594214,
          -1.6795453695594214,
          -1.6795453695594214,
          -1.6795453695594214,
          -1.6795453695594214,
          -1.6795453695594214,
          -1.6795453695594214,
          -1.6795453695594214,
          -1.6795453695594214,
          -1.1911281509489475,
          -1.1911281509489475,
          -1.1911281509489475,
          -1.1911281509489475,
          -1.1911281509489475,
          -1.1911281509489475,
          -1.1911281509489475,
          -1.1911281509489475,
          -1.1911281509489475,
          -1.1911281509489475,
          -1.1911281509489475,
          -1.1911281509489475,
          -1.1911281509489475,
          -1.1911281509489475,
          -1.1911281509489475,
          -1.1911281509489475,
          -1.1911281509489475,
          -1.1911281509489475,
          -1.1911281509489475,
          -1.1911281509489475,
          -0.7027109323384733,
          -0.7027109323384733,
          -0.7027109323384733,
          -0.7027109323384733,
          -0.7027109323384733,
          -0.7027109323384733,
          -0.7027109323384733,
          -0.7027109323384733,
          -0.7027109323384733,
          -0.7027109323384733,
          -0.7027109323384733,
          -0.7027109323384733,
          -0.7027109323384733,
          -0.7027109323384733,
          -0.7027109323384733,
          -0.7027109323384733,
          -0.7027109323384733,
          -0.7027109323384733,
          -0.7027109323384733,
          -0.7027109323384733,
          -0.214293713727999,
          -0.214293713727999,
          -0.214293713727999,
          -0.214293713727999,
          -0.214293713727999,
          -0.214293713727999,
          -0.214293713727999,
          -0.214293713727999,
          -0.214293713727999,
          -0.214293713727999,
          -0.214293713727999,
          -0.214293713727999,
          -0.214293713727999,
          -0.214293713727999,
          -0.214293713727999,
          -0.214293713727999,
          -0.214293713727999,
          -0.214293713727999,
          -0.214293713727999,
          -0.214293713727999,
          0.27412350488247483,
          0.27412350488247483,
          0.27412350488247483,
          0.27412350488247483,
          0.27412350488247483,
          0.27412350488247483,
          0.27412350488247483,
          0.27412350488247483,
          0.27412350488247483,
          0.27412350488247483,
          0.27412350488247483,
          0.27412350488247483,
          0.27412350488247483,
          0.27412350488247483,
          0.27412350488247483,
          0.27412350488247483,
          0.27412350488247483,
          0.27412350488247483,
          0.27412350488247483,
          0.27412350488247483,
          0.7625407234929487,
          0.7625407234929487,
          0.7625407234929487,
          0.7625407234929487,
          0.7625407234929487,
          0.7625407234929487,
          0.7625407234929487,
          0.7625407234929487,
          0.7625407234929487,
          0.7625407234929487,
          0.7625407234929487,
          0.7625407234929487,
          0.7625407234929487,
          0.7625407234929487,
          0.7625407234929487,
          0.7625407234929487,
          0.7625407234929487,
          0.7625407234929487,
          0.7625407234929487,
          0.7625407234929487,
          1.2509579421034234,
          1.2509579421034234,
          1.2509579421034234,
          1.2509579421034234,
          1.2509579421034234,
          1.2509579421034234,
          1.2509579421034234,
          1.2509579421034234,
          1.2509579421034234,
          1.2509579421034234,
          1.2509579421034234,
          1.2509579421034234,
          1.2509579421034234,
          1.2509579421034234,
          1.2509579421034234,
          1.2509579421034234,
          1.2509579421034234,
          1.2509579421034234,
          1.2509579421034234,
          1.2509579421034234,
          1.7393751607138972,
          1.7393751607138972,
          1.7393751607138972,
          1.7393751607138972,
          1.7393751607138972,
          1.7393751607138972,
          1.7393751607138972,
          1.7393751607138972,
          1.7393751607138972,
          1.7393751607138972,
          1.7393751607138972,
          1.7393751607138972,
          1.7393751607138972,
          1.7393751607138972,
          1.7393751607138972,
          1.7393751607138972,
          1.7393751607138972,
          1.7393751607138972,
          1.7393751607138972,
          1.7393751607138972,
          2.227792379324371,
          2.227792379324371,
          2.227792379324371,
          2.227792379324371,
          2.227792379324371,
          2.227792379324371,
          2.227792379324371,
          2.227792379324371,
          2.227792379324371,
          2.227792379324371,
          2.227792379324371,
          2.227792379324371,
          2.227792379324371,
          2.227792379324371,
          2.227792379324371,
          2.227792379324371,
          2.227792379324371,
          2.227792379324371,
          2.227792379324371,
          2.227792379324371,
          2.7162095979348457,
          2.7162095979348457,
          2.7162095979348457,
          2.7162095979348457,
          2.7162095979348457,
          2.7162095979348457,
          2.7162095979348457,
          2.7162095979348457,
          2.7162095979348457,
          2.7162095979348457,
          2.7162095979348457,
          2.7162095979348457,
          2.7162095979348457,
          2.7162095979348457,
          2.7162095979348457,
          2.7162095979348457,
          2.7162095979348457,
          2.7162095979348457,
          2.7162095979348457,
          2.7162095979348457,
          3.2046268165453196,
          3.2046268165453196,
          3.2046268165453196,
          3.2046268165453196,
          3.2046268165453196,
          3.2046268165453196,
          3.2046268165453196,
          3.2046268165453196,
          3.2046268165453196,
          3.2046268165453196,
          3.2046268165453196,
          3.2046268165453196,
          3.2046268165453196,
          3.2046268165453196,
          3.2046268165453196,
          3.2046268165453196,
          3.2046268165453196,
          3.2046268165453196,
          3.2046268165453196,
          3.2046268165453196,
          3.6930440351557943,
          3.6930440351557943,
          3.6930440351557943,
          3.6930440351557943,
          3.6930440351557943,
          3.6930440351557943,
          3.6930440351557943,
          3.6930440351557943,
          3.6930440351557943,
          3.6930440351557943,
          3.6930440351557943,
          3.6930440351557943,
          3.6930440351557943,
          3.6930440351557943,
          3.6930440351557943,
          3.6930440351557943,
          3.6930440351557943,
          3.6930440351557943,
          3.6930440351557943,
          3.6930440351557943,
          4.181461253766268,
          4.181461253766268,
          4.181461253766268,
          4.181461253766268,
          4.181461253766268,
          4.181461253766268,
          4.181461253766268,
          4.181461253766268,
          4.181461253766268,
          4.181461253766268,
          4.181461253766268,
          4.181461253766268,
          4.181461253766268,
          4.181461253766268,
          4.181461253766268,
          4.181461253766268,
          4.181461253766268,
          4.181461253766268,
          4.181461253766268,
          4.181461253766268,
          4.669878472376741,
          4.669878472376741,
          4.669878472376741,
          4.669878472376741,
          4.669878472376741,
          4.669878472376741,
          4.669878472376741,
          4.669878472376741,
          4.669878472376741,
          4.669878472376741,
          4.669878472376741,
          4.669878472376741,
          4.669878472376741,
          4.669878472376741,
          4.669878472376741,
          4.669878472376741,
          4.669878472376741,
          4.669878472376741,
          4.669878472376741,
          4.669878472376741
         ],
         "y": [
          -3.336226896580918,
          -2.9072549312980147,
          -2.4782829660151116,
          -2.049311000732209,
          -1.6203390354493057,
          -1.1913670701664025,
          -0.7623951048834998,
          -0.33342313960059666,
          0.09554882568230649,
          0.5245207909652096,
          0.9534927562481128,
          1.382464721531016,
          1.8114366868139182,
          2.2404086520968214,
          2.6693806173797245,
          3.0983525826626277,
          3.527324547945531,
          3.956296513228434,
          4.385268478511337,
          4.81424044379424,
          -3.336226896580918,
          -2.9072549312980147,
          -2.4782829660151116,
          -2.049311000732209,
          -1.6203390354493057,
          -1.1913670701664025,
          -0.7623951048834998,
          -0.33342313960059666,
          0.09554882568230649,
          0.5245207909652096,
          0.9534927562481128,
          1.382464721531016,
          1.8114366868139182,
          2.2404086520968214,
          2.6693806173797245,
          3.0983525826626277,
          3.527324547945531,
          3.956296513228434,
          4.385268478511337,
          4.81424044379424,
          -3.336226896580918,
          -2.9072549312980147,
          -2.4782829660151116,
          -2.049311000732209,
          -1.6203390354493057,
          -1.1913670701664025,
          -0.7623951048834998,
          -0.33342313960059666,
          0.09554882568230649,
          0.5245207909652096,
          0.9534927562481128,
          1.382464721531016,
          1.8114366868139182,
          2.2404086520968214,
          2.6693806173797245,
          3.0983525826626277,
          3.527324547945531,
          3.956296513228434,
          4.385268478511337,
          4.81424044379424,
          -3.336226896580918,
          -2.9072549312980147,
          -2.4782829660151116,
          -2.049311000732209,
          -1.6203390354493057,
          -1.1913670701664025,
          -0.7623951048834998,
          -0.33342313960059666,
          0.09554882568230649,
          0.5245207909652096,
          0.9534927562481128,
          1.382464721531016,
          1.8114366868139182,
          2.2404086520968214,
          2.6693806173797245,
          3.0983525826626277,
          3.527324547945531,
          3.956296513228434,
          4.385268478511337,
          4.81424044379424,
          -3.336226896580918,
          -2.9072549312980147,
          -2.4782829660151116,
          -2.049311000732209,
          -1.6203390354493057,
          -1.1913670701664025,
          -0.7623951048834998,
          -0.33342313960059666,
          0.09554882568230649,
          0.5245207909652096,
          0.9534927562481128,
          1.382464721531016,
          1.8114366868139182,
          2.2404086520968214,
          2.6693806173797245,
          3.0983525826626277,
          3.527324547945531,
          3.956296513228434,
          4.385268478511337,
          4.81424044379424,
          -3.336226896580918,
          -2.9072549312980147,
          -2.4782829660151116,
          -2.049311000732209,
          -1.6203390354493057,
          -1.1913670701664025,
          -0.7623951048834998,
          -0.33342313960059666,
          0.09554882568230649,
          0.5245207909652096,
          0.9534927562481128,
          1.382464721531016,
          1.8114366868139182,
          2.2404086520968214,
          2.6693806173797245,
          3.0983525826626277,
          3.527324547945531,
          3.956296513228434,
          4.385268478511337,
          4.81424044379424,
          -3.336226896580918,
          -2.9072549312980147,
          -2.4782829660151116,
          -2.049311000732209,
          -1.6203390354493057,
          -1.1913670701664025,
          -0.7623951048834998,
          -0.33342313960059666,
          0.09554882568230649,
          0.5245207909652096,
          0.9534927562481128,
          1.382464721531016,
          1.8114366868139182,
          2.2404086520968214,
          2.6693806173797245,
          3.0983525826626277,
          3.527324547945531,
          3.956296513228434,
          4.385268478511337,
          4.81424044379424,
          -3.336226896580918,
          -2.9072549312980147,
          -2.4782829660151116,
          -2.049311000732209,
          -1.6203390354493057,
          -1.1913670701664025,
          -0.7623951048834998,
          -0.33342313960059666,
          0.09554882568230649,
          0.5245207909652096,
          0.9534927562481128,
          1.382464721531016,
          1.8114366868139182,
          2.2404086520968214,
          2.6693806173797245,
          3.0983525826626277,
          3.527324547945531,
          3.956296513228434,
          4.385268478511337,
          4.81424044379424,
          -3.336226896580918,
          -2.9072549312980147,
          -2.4782829660151116,
          -2.049311000732209,
          -1.6203390354493057,
          -1.1913670701664025,
          -0.7623951048834998,
          -0.33342313960059666,
          0.09554882568230649,
          0.5245207909652096,
          0.9534927562481128,
          1.382464721531016,
          1.8114366868139182,
          2.2404086520968214,
          2.6693806173797245,
          3.0983525826626277,
          3.527324547945531,
          3.956296513228434,
          4.385268478511337,
          4.81424044379424,
          -3.336226896580918,
          -2.9072549312980147,
          -2.4782829660151116,
          -2.049311000732209,
          -1.6203390354493057,
          -1.1913670701664025,
          -0.7623951048834998,
          -0.33342313960059666,
          0.09554882568230649,
          0.5245207909652096,
          0.9534927562481128,
          1.382464721531016,
          1.8114366868139182,
          2.2404086520968214,
          2.6693806173797245,
          3.0983525826626277,
          3.527324547945531,
          3.956296513228434,
          4.385268478511337,
          4.81424044379424,
          -3.336226896580918,
          -2.9072549312980147,
          -2.4782829660151116,
          -2.049311000732209,
          -1.6203390354493057,
          -1.1913670701664025,
          -0.7623951048834998,
          -0.33342313960059666,
          0.09554882568230649,
          0.5245207909652096,
          0.9534927562481128,
          1.382464721531016,
          1.8114366868139182,
          2.2404086520968214,
          2.6693806173797245,
          3.0983525826626277,
          3.527324547945531,
          3.956296513228434,
          4.385268478511337,
          4.81424044379424,
          -3.336226896580918,
          -2.9072549312980147,
          -2.4782829660151116,
          -2.049311000732209,
          -1.6203390354493057,
          -1.1913670701664025,
          -0.7623951048834998,
          -0.33342313960059666,
          0.09554882568230649,
          0.5245207909652096,
          0.9534927562481128,
          1.382464721531016,
          1.8114366868139182,
          2.2404086520968214,
          2.6693806173797245,
          3.0983525826626277,
          3.527324547945531,
          3.956296513228434,
          4.385268478511337,
          4.81424044379424,
          -3.336226896580918,
          -2.9072549312980147,
          -2.4782829660151116,
          -2.049311000732209,
          -1.6203390354493057,
          -1.1913670701664025,
          -0.7623951048834998,
          -0.33342313960059666,
          0.09554882568230649,
          0.5245207909652096,
          0.9534927562481128,
          1.382464721531016,
          1.8114366868139182,
          2.2404086520968214,
          2.6693806173797245,
          3.0983525826626277,
          3.527324547945531,
          3.956296513228434,
          4.385268478511337,
          4.81424044379424,
          -3.336226896580918,
          -2.9072549312980147,
          -2.4782829660151116,
          -2.049311000732209,
          -1.6203390354493057,
          -1.1913670701664025,
          -0.7623951048834998,
          -0.33342313960059666,
          0.09554882568230649,
          0.5245207909652096,
          0.9534927562481128,
          1.382464721531016,
          1.8114366868139182,
          2.2404086520968214,
          2.6693806173797245,
          3.0983525826626277,
          3.527324547945531,
          3.956296513228434,
          4.385268478511337,
          4.81424044379424,
          -3.336226896580918,
          -2.9072549312980147,
          -2.4782829660151116,
          -2.049311000732209,
          -1.6203390354493057,
          -1.1913670701664025,
          -0.7623951048834998,
          -0.33342313960059666,
          0.09554882568230649,
          0.5245207909652096,
          0.9534927562481128,
          1.382464721531016,
          1.8114366868139182,
          2.2404086520968214,
          2.6693806173797245,
          3.0983525826626277,
          3.527324547945531,
          3.956296513228434,
          4.385268478511337,
          4.81424044379424,
          -3.336226896580918,
          -2.9072549312980147,
          -2.4782829660151116,
          -2.049311000732209,
          -1.6203390354493057,
          -1.1913670701664025,
          -0.7623951048834998,
          -0.33342313960059666,
          0.09554882568230649,
          0.5245207909652096,
          0.9534927562481128,
          1.382464721531016,
          1.8114366868139182,
          2.2404086520968214,
          2.6693806173797245,
          3.0983525826626277,
          3.527324547945531,
          3.956296513228434,
          4.385268478511337,
          4.81424044379424,
          -3.336226896580918,
          -2.9072549312980147,
          -2.4782829660151116,
          -2.049311000732209,
          -1.6203390354493057,
          -1.1913670701664025,
          -0.7623951048834998,
          -0.33342313960059666,
          0.09554882568230649,
          0.5245207909652096,
          0.9534927562481128,
          1.382464721531016,
          1.8114366868139182,
          2.2404086520968214,
          2.6693806173797245,
          3.0983525826626277,
          3.527324547945531,
          3.956296513228434,
          4.385268478511337,
          4.81424044379424,
          -3.336226896580918,
          -2.9072549312980147,
          -2.4782829660151116,
          -2.049311000732209,
          -1.6203390354493057,
          -1.1913670701664025,
          -0.7623951048834998,
          -0.33342313960059666,
          0.09554882568230649,
          0.5245207909652096,
          0.9534927562481128,
          1.382464721531016,
          1.8114366868139182,
          2.2404086520968214,
          2.6693806173797245,
          3.0983525826626277,
          3.527324547945531,
          3.956296513228434,
          4.385268478511337,
          4.81424044379424,
          -3.336226896580918,
          -2.9072549312980147,
          -2.4782829660151116,
          -2.049311000732209,
          -1.6203390354493057,
          -1.1913670701664025,
          -0.7623951048834998,
          -0.33342313960059666,
          0.09554882568230649,
          0.5245207909652096,
          0.9534927562481128,
          1.382464721531016,
          1.8114366868139182,
          2.2404086520968214,
          2.6693806173797245,
          3.0983525826626277,
          3.527324547945531,
          3.956296513228434,
          4.385268478511337,
          4.81424044379424,
          -3.336226896580918,
          -2.9072549312980147,
          -2.4782829660151116,
          -2.049311000732209,
          -1.6203390354493057,
          -1.1913670701664025,
          -0.7623951048834998,
          -0.33342313960059666,
          0.09554882568230649,
          0.5245207909652096,
          0.9534927562481128,
          1.382464721531016,
          1.8114366868139182,
          2.2404086520968214,
          2.6693806173797245,
          3.0983525826626277,
          3.527324547945531,
          3.956296513228434,
          4.385268478511337,
          4.81424044379424
         ]
        }
       ],
       "layout": {
        "template": {
         "data": {
          "bar": [
           {
            "error_x": {
             "color": "#2a3f5f"
            },
            "error_y": {
             "color": "#2a3f5f"
            },
            "marker": {
             "line": {
              "color": "#E5ECF6",
              "width": 0.5
             }
            },
            "type": "bar"
           }
          ],
          "barpolar": [
           {
            "marker": {
             "line": {
              "color": "#E5ECF6",
              "width": 0.5
             }
            },
            "type": "barpolar"
           }
          ],
          "carpet": [
           {
            "aaxis": {
             "endlinecolor": "#2a3f5f",
             "gridcolor": "white",
             "linecolor": "white",
             "minorgridcolor": "white",
             "startlinecolor": "#2a3f5f"
            },
            "baxis": {
             "endlinecolor": "#2a3f5f",
             "gridcolor": "white",
             "linecolor": "white",
             "minorgridcolor": "white",
             "startlinecolor": "#2a3f5f"
            },
            "type": "carpet"
           }
          ],
          "choropleth": [
           {
            "colorbar": {
             "outlinewidth": 0,
             "ticks": ""
            },
            "type": "choropleth"
           }
          ],
          "contour": [
           {
            "colorbar": {
             "outlinewidth": 0,
             "ticks": ""
            },
            "colorscale": [
             [
              0,
              "#0d0887"
             ],
             [
              0.1111111111111111,
              "#46039f"
             ],
             [
              0.2222222222222222,
              "#7201a8"
             ],
             [
              0.3333333333333333,
              "#9c179e"
             ],
             [
              0.4444444444444444,
              "#bd3786"
             ],
             [
              0.5555555555555556,
              "#d8576b"
             ],
             [
              0.6666666666666666,
              "#ed7953"
             ],
             [
              0.7777777777777778,
              "#fb9f3a"
             ],
             [
              0.8888888888888888,
              "#fdca26"
             ],
             [
              1,
              "#f0f921"
             ]
            ],
            "type": "contour"
           }
          ],
          "contourcarpet": [
           {
            "colorbar": {
             "outlinewidth": 0,
             "ticks": ""
            },
            "type": "contourcarpet"
           }
          ],
          "heatmap": [
           {
            "colorbar": {
             "outlinewidth": 0,
             "ticks": ""
            },
            "colorscale": [
             [
              0,
              "#0d0887"
             ],
             [
              0.1111111111111111,
              "#46039f"
             ],
             [
              0.2222222222222222,
              "#7201a8"
             ],
             [
              0.3333333333333333,
              "#9c179e"
             ],
             [
              0.4444444444444444,
              "#bd3786"
             ],
             [
              0.5555555555555556,
              "#d8576b"
             ],
             [
              0.6666666666666666,
              "#ed7953"
             ],
             [
              0.7777777777777778,
              "#fb9f3a"
             ],
             [
              0.8888888888888888,
              "#fdca26"
             ],
             [
              1,
              "#f0f921"
             ]
            ],
            "type": "heatmap"
           }
          ],
          "heatmapgl": [
           {
            "colorbar": {
             "outlinewidth": 0,
             "ticks": ""
            },
            "colorscale": [
             [
              0,
              "#0d0887"
             ],
             [
              0.1111111111111111,
              "#46039f"
             ],
             [
              0.2222222222222222,
              "#7201a8"
             ],
             [
              0.3333333333333333,
              "#9c179e"
             ],
             [
              0.4444444444444444,
              "#bd3786"
             ],
             [
              0.5555555555555556,
              "#d8576b"
             ],
             [
              0.6666666666666666,
              "#ed7953"
             ],
             [
              0.7777777777777778,
              "#fb9f3a"
             ],
             [
              0.8888888888888888,
              "#fdca26"
             ],
             [
              1,
              "#f0f921"
             ]
            ],
            "type": "heatmapgl"
           }
          ],
          "histogram": [
           {
            "marker": {
             "colorbar": {
              "outlinewidth": 0,
              "ticks": ""
             }
            },
            "type": "histogram"
           }
          ],
          "histogram2d": [
           {
            "colorbar": {
             "outlinewidth": 0,
             "ticks": ""
            },
            "colorscale": [
             [
              0,
              "#0d0887"
             ],
             [
              0.1111111111111111,
              "#46039f"
             ],
             [
              0.2222222222222222,
              "#7201a8"
             ],
             [
              0.3333333333333333,
              "#9c179e"
             ],
             [
              0.4444444444444444,
              "#bd3786"
             ],
             [
              0.5555555555555556,
              "#d8576b"
             ],
             [
              0.6666666666666666,
              "#ed7953"
             ],
             [
              0.7777777777777778,
              "#fb9f3a"
             ],
             [
              0.8888888888888888,
              "#fdca26"
             ],
             [
              1,
              "#f0f921"
             ]
            ],
            "type": "histogram2d"
           }
          ],
          "histogram2dcontour": [
           {
            "colorbar": {
             "outlinewidth": 0,
             "ticks": ""
            },
            "colorscale": [
             [
              0,
              "#0d0887"
             ],
             [
              0.1111111111111111,
              "#46039f"
             ],
             [
              0.2222222222222222,
              "#7201a8"
             ],
             [
              0.3333333333333333,
              "#9c179e"
             ],
             [
              0.4444444444444444,
              "#bd3786"
             ],
             [
              0.5555555555555556,
              "#d8576b"
             ],
             [
              0.6666666666666666,
              "#ed7953"
             ],
             [
              0.7777777777777778,
              "#fb9f3a"
             ],
             [
              0.8888888888888888,
              "#fdca26"
             ],
             [
              1,
              "#f0f921"
             ]
            ],
            "type": "histogram2dcontour"
           }
          ],
          "mesh3d": [
           {
            "colorbar": {
             "outlinewidth": 0,
             "ticks": ""
            },
            "type": "mesh3d"
           }
          ],
          "parcoords": [
           {
            "line": {
             "colorbar": {
              "outlinewidth": 0,
              "ticks": ""
             }
            },
            "type": "parcoords"
           }
          ],
          "pie": [
           {
            "automargin": true,
            "type": "pie"
           }
          ],
          "scatter": [
           {
            "marker": {
             "colorbar": {
              "outlinewidth": 0,
              "ticks": ""
             }
            },
            "type": "scatter"
           }
          ],
          "scatter3d": [
           {
            "line": {
             "colorbar": {
              "outlinewidth": 0,
              "ticks": ""
             }
            },
            "marker": {
             "colorbar": {
              "outlinewidth": 0,
              "ticks": ""
             }
            },
            "type": "scatter3d"
           }
          ],
          "scattercarpet": [
           {
            "marker": {
             "colorbar": {
              "outlinewidth": 0,
              "ticks": ""
             }
            },
            "type": "scattercarpet"
           }
          ],
          "scattergeo": [
           {
            "marker": {
             "colorbar": {
              "outlinewidth": 0,
              "ticks": ""
             }
            },
            "type": "scattergeo"
           }
          ],
          "scattergl": [
           {
            "marker": {
             "colorbar": {
              "outlinewidth": 0,
              "ticks": ""
             }
            },
            "type": "scattergl"
           }
          ],
          "scattermapbox": [
           {
            "marker": {
             "colorbar": {
              "outlinewidth": 0,
              "ticks": ""
             }
            },
            "type": "scattermapbox"
           }
          ],
          "scatterpolar": [
           {
            "marker": {
             "colorbar": {
              "outlinewidth": 0,
              "ticks": ""
             }
            },
            "type": "scatterpolar"
           }
          ],
          "scatterpolargl": [
           {
            "marker": {
             "colorbar": {
              "outlinewidth": 0,
              "ticks": ""
             }
            },
            "type": "scatterpolargl"
           }
          ],
          "scatterternary": [
           {
            "marker": {
             "colorbar": {
              "outlinewidth": 0,
              "ticks": ""
             }
            },
            "type": "scatterternary"
           }
          ],
          "surface": [
           {
            "colorbar": {
             "outlinewidth": 0,
             "ticks": ""
            },
            "colorscale": [
             [
              0,
              "#0d0887"
             ],
             [
              0.1111111111111111,
              "#46039f"
             ],
             [
              0.2222222222222222,
              "#7201a8"
             ],
             [
              0.3333333333333333,
              "#9c179e"
             ],
             [
              0.4444444444444444,
              "#bd3786"
             ],
             [
              0.5555555555555556,
              "#d8576b"
             ],
             [
              0.6666666666666666,
              "#ed7953"
             ],
             [
              0.7777777777777778,
              "#fb9f3a"
             ],
             [
              0.8888888888888888,
              "#fdca26"
             ],
             [
              1,
              "#f0f921"
             ]
            ],
            "type": "surface"
           }
          ],
          "table": [
           {
            "cells": {
             "fill": {
              "color": "#EBF0F8"
             },
             "line": {
              "color": "white"
             }
            },
            "header": {
             "fill": {
              "color": "#C8D4E3"
             },
             "line": {
              "color": "white"
             }
            },
            "type": "table"
           }
          ]
         },
         "layout": {
          "annotationdefaults": {
           "arrowcolor": "#2a3f5f",
           "arrowhead": 0,
           "arrowwidth": 1
          },
          "coloraxis": {
           "colorbar": {
            "outlinewidth": 0,
            "ticks": ""
           }
          },
          "colorscale": {
           "diverging": [
            [
             0,
             "#8e0152"
            ],
            [
             0.1,
             "#c51b7d"
            ],
            [
             0.2,
             "#de77ae"
            ],
            [
             0.3,
             "#f1b6da"
            ],
            [
             0.4,
             "#fde0ef"
            ],
            [
             0.5,
             "#f7f7f7"
            ],
            [
             0.6,
             "#e6f5d0"
            ],
            [
             0.7,
             "#b8e186"
            ],
            [
             0.8,
             "#7fbc41"
            ],
            [
             0.9,
             "#4d9221"
            ],
            [
             1,
             "#276419"
            ]
           ],
           "sequential": [
            [
             0,
             "#0d0887"
            ],
            [
             0.1111111111111111,
             "#46039f"
            ],
            [
             0.2222222222222222,
             "#7201a8"
            ],
            [
             0.3333333333333333,
             "#9c179e"
            ],
            [
             0.4444444444444444,
             "#bd3786"
            ],
            [
             0.5555555555555556,
             "#d8576b"
            ],
            [
             0.6666666666666666,
             "#ed7953"
            ],
            [
             0.7777777777777778,
             "#fb9f3a"
            ],
            [
             0.8888888888888888,
             "#fdca26"
            ],
            [
             1,
             "#f0f921"
            ]
           ],
           "sequentialminus": [
            [
             0,
             "#0d0887"
            ],
            [
             0.1111111111111111,
             "#46039f"
            ],
            [
             0.2222222222222222,
             "#7201a8"
            ],
            [
             0.3333333333333333,
             "#9c179e"
            ],
            [
             0.4444444444444444,
             "#bd3786"
            ],
            [
             0.5555555555555556,
             "#d8576b"
            ],
            [
             0.6666666666666666,
             "#ed7953"
            ],
            [
             0.7777777777777778,
             "#fb9f3a"
            ],
            [
             0.8888888888888888,
             "#fdca26"
            ],
            [
             1,
             "#f0f921"
            ]
           ]
          },
          "colorway": [
           "#636efa",
           "#EF553B",
           "#00cc96",
           "#ab63fa",
           "#FFA15A",
           "#19d3f3",
           "#FF6692",
           "#B6E880",
           "#FF97FF",
           "#FECB52"
          ],
          "font": {
           "color": "#2a3f5f"
          },
          "geo": {
           "bgcolor": "white",
           "lakecolor": "white",
           "landcolor": "#E5ECF6",
           "showlakes": true,
           "showland": true,
           "subunitcolor": "white"
          },
          "hoverlabel": {
           "align": "left"
          },
          "hovermode": "closest",
          "mapbox": {
           "style": "light"
          },
          "paper_bgcolor": "white",
          "plot_bgcolor": "#E5ECF6",
          "polar": {
           "angularaxis": {
            "gridcolor": "white",
            "linecolor": "white",
            "ticks": ""
           },
           "bgcolor": "#E5ECF6",
           "radialaxis": {
            "gridcolor": "white",
            "linecolor": "white",
            "ticks": ""
           }
          },
          "scene": {
           "xaxis": {
            "backgroundcolor": "#E5ECF6",
            "gridcolor": "white",
            "gridwidth": 2,
            "linecolor": "white",
            "showbackground": true,
            "ticks": "",
            "zerolinecolor": "white"
           },
           "yaxis": {
            "backgroundcolor": "#E5ECF6",
            "gridcolor": "white",
            "gridwidth": 2,
            "linecolor": "white",
            "showbackground": true,
            "ticks": "",
            "zerolinecolor": "white"
           },
           "zaxis": {
            "backgroundcolor": "#E5ECF6",
            "gridcolor": "white",
            "gridwidth": 2,
            "linecolor": "white",
            "showbackground": true,
            "ticks": "",
            "zerolinecolor": "white"
           }
          },
          "shapedefaults": {
           "line": {
            "color": "#2a3f5f"
           }
          },
          "ternary": {
           "aaxis": {
            "gridcolor": "white",
            "linecolor": "white",
            "ticks": ""
           },
           "baxis": {
            "gridcolor": "white",
            "linecolor": "white",
            "ticks": ""
           },
           "bgcolor": "#E5ECF6",
           "caxis": {
            "gridcolor": "white",
            "linecolor": "white",
            "ticks": ""
           }
          },
          "title": {
           "x": 0.05
          },
          "xaxis": {
           "automargin": true,
           "gridcolor": "white",
           "linecolor": "white",
           "ticks": "",
           "title": {
            "standoff": 15
           },
           "zerolinecolor": "white",
           "zerolinewidth": 2
          },
          "yaxis": {
           "automargin": true,
           "gridcolor": "white",
           "linecolor": "white",
           "ticks": "",
           "title": {
            "standoff": 15
           },
           "zerolinecolor": "white",
           "zerolinewidth": 2
          }
         }
        }
       }
      },
      "text/html": [
       "<div>\n",
       "        \n",
       "        \n",
       "            <div id=\"880c99d9-9e3e-4bc5-b6f2-389b5c6c3e43\" class=\"plotly-graph-div\" style=\"height:525px; width:100%;\"></div>\n",
       "            <script type=\"text/javascript\">\n",
       "                require([\"plotly\"], function(Plotly) {\n",
       "                    window.PLOTLYENV=window.PLOTLYENV || {};\n",
       "                    \n",
       "                if (document.getElementById(\"880c99d9-9e3e-4bc5-b6f2-389b5c6c3e43\")) {\n",
       "                    Plotly.newPlot(\n",
       "                        '880c99d9-9e3e-4bc5-b6f2-389b5c6c3e43',\n",
       "                        [{\"marker\": {\"color\": [0.0, 0.0, 0.0, 0.0, 0.0, 0.0, 0.0, 0.0, 0.0, 0.0, 0.0, 0.0, 0.0, 0.0, 0.0, 0.0, 0.0, 0.0, 0.0, 0.0, 0.0, 0.0, 0.0, 0.0, 0.0, 0.0, 0.0, 0.0, 0.0, 0.0, 0.0, 0.0, 0.0, 0.0, 0.0, 0.0, 0.0, 0.0, 0.0, 0.0, 0.0, 0.0, 0.0, 0.0, 1.5884127e-317, 2.2936805466e-314, 4.54541703e-316, 5.4e-322, 0.0, 0.0, 0.0, 0.0, 0.0, 0.0, 0.0, 0.0, 0.0, 0.0, 0.0, 0.0, 2.2364968316761975e-307, 1.2677324337268167e-283, 1.9445943842791863e-265, 1.3071125544936996e-252, 5.6923810232662355e-245, 2.1394766323207834e-242, 8.492799684168123e-245, 2.2431931504926273e-250, 9.297659463931843e-260, 1.2006499067012008e-273, 2.126036595231732e-292, 1.58305777e-316, 0.0, 0.0, 0.0, 0.0, 0.0, 0.0, 0.0, 0.0, 4.6415184469575536e-241, 1.0428121697250066e-218, 1.0541706577791868e-201, 8.862657830657015e-190, 1.0429763588333419e-182, 2.731800031369905e-180, 3.256684030909138e-182, 6.480120814032675e-188, 2.0545872629337643e-197, 3.731773277377611e-210, 2.3561754286828636e-227, 7.52726660928752e-250, 5.196215637972428e-278, 3.41103761995e-312, 0.0, 0.0, 0.0, 0.0, 0.0, 0.0, 7.459598541290856e-185, 4.726169758351186e-164, 2.4769506356937612e-148, 2.4368657585144164e-137, 9.24112745730749e-131, 2.5042364022585476e-128, 8.466118137673797e-130, 5.322337432766372e-135, 7.972841853330449e-144, 8.432421481078554e-156, 8.274854318729224e-172, 9.829266064560863e-193, 4.21288910850979e-219, 2.1308025875657116e-251, 4.826924467418501e-290, 0.0, 0.0, 0.0, 0.0, 0.0, 1.565920729129461e-138, 1.7065261699064046e-119, 3.0096259585469477e-105, 2.56153331395643e-95, 2.7282547842159417e-89, 7.498035124714454e-87, 8.286709260070587e-88, 4.3252182583865176e-92, 1.039076343597866e-99, 8.924417822062144e-111, 1.1557378905710188e-125, 6.199233273055774e-145, 2.3743564883707566e-169, 1.2434771024822166e-199, 2.717711722591949e-236, 1.024767736373694e-279, 0.0, 0.0, 0.0, 0.0, 8.644678675782253e-102, 8.142600785478545e-85, 2.4483311591854324e-72, 1.0233609474077557e-63, 2.1491759831728364e-58, 5.4752313861442845e-56, 2.4175387533626107e-56, 1.5976859164173017e-59, 8.968473374464245e-66, 1.7225616087353474e-75, 5.4288776014146184e-89, 3.7969953872074836e-106, 2.605027371654822e-128, 1.8892990475498866e-156, 4.543068388862007e-191, 1.506310044904124e-232, 3.364007698077176e-281, 0.0, 0.0, 0.0, 3.472048766373723e-74, 1.1539771182711452e-59, 2.222199373283882e-49, 1.8908899843297023e-42, 4.5364762820044674e-38, 9.878638312755684e-36, 2.4754114685017505e-35, 4.252234878761487e-37, 1.7323410674528063e-41, 3.968446086930072e-49, 1.572177567073575e-60, 2.198732960477929e-75, 2.541284575841646e-95, 2.4917590492845646e-121, 6.44233208655554e-154, 1.7935208893507644e-193, 2.598256473443336e-240, 1.0666168909634336e-294, 0.0, 0.0, 4.654932170186357e-55, 1.8984408961531073e-43, 3.12381847545714e-30, 1.4199933732131143e-26, 3.4623705445572785e-25, 2.0083832669648476e-20, 1.6860987641186123e-24, 6.197209098414821e-22, 1.5332746907269628e-22, 4.802526831062255e-31, 2.2822768400351135e-39, 5.5419535659689575e-52, 7.942219007221085e-70, 9.236693350583757e-94, 2.274902064595652e-124, 4.618221871392125e-162, 3.707159261049831e-207, 6.356615994024657e-260, 1.3824e-320, 0.0, 1.9597982092133403e-43, 3.552917665577099e-27, 1.197004293677898e-20, 2.143657744034417e-19, 2.119523863933653e-19, 4.711742447033845e-22, 3.428518371713665e-22, 1.8056603588935868e-18, 1.083591020413109e-19, 6.024506840019388e-20, 4.272518819737546e-23, 6.502849725862488e-36, 2.1048936827425396e-51, 3.0567892782980946e-73, 6.055160595404812e-102, 7.058470201924218e-138, 2.456911973573821e-181, 1.3655581131745312e-232, 7.022943185648244e-292, 0.0, 7.9665500706021e-29, 4.400390349727461e-19, 1.8008138202122918e-22, 6.305038732119197e-19, 4.9989132288663555e-17, 4.904345408989752e-15, 4.061120314022968e-15, 2.6542569237952793e-17, 3.6572582116625736e-19, 8.376833599127317e-18, 2.156262922042258e-19, 2.7021327675592766e-26, 2.415049687564836e-39, 3.7877945061785204e-59, 4.117057384064956e-86, 1.8209713891362605e-120, 1.9678139610398652e-162, 2.5412448642886055e-212, 2.113097865437715e-270, 0.0, 7.262977453701313e-27, 1.5105363178823035e-20, 2.0540101044971313e-18, 1.9640845906016497e-15, 3.7695981372108564e-14, 3.7798327648944135e-14, 5.6722734870652614e-14, 5.603813464940721e-15, 8.588881204438863e-17, 4.323384833812468e-18, 8.273493378799233e-18, 6.799263949620495e-22, 1.1302598006791159e-32, 1.092604076873805e-50, 2.897683776727421e-76, 2.2938448615145763e-109, 5.512215890973182e-150, 1.0560346920621103e-198, 8.182607568793696e-256, 1.917e-321, 9.108464264755644e-26, 5.786451035303345e-21, 5.126882739185852e-16, 2.6839375183459004e-13, 1.3085436406235352e-13, 3.441755426750058e-13, 7.476457659982307e-14, 6.852307198983494e-14, 9.63240460217571e-15, 3.365555302014065e-17, 1.9164941860394543e-18, 2.0887513872633817e-21, 2.443708372958146e-30, 6.354274033325015e-47, 1.7797396728590115e-71, 8.042346744478217e-104, 2.422029509412453e-143, 2.6670041470408508e-191, 8.205850591655903e-248, 6.0371272829e-313, 1.7809151385199692e-25, 4.757071762634776e-19, 1.136814319957576e-15, 2.100993459589078e-13, 6.250440065407366e-14, 3.8779249501449945e-14, 3.4711001732050314e-13, 7.625340857204503e-12, 8.659266961477057e-11, 1.2318937334119248e-12, 1.583007286309332e-18, 6.900985927824955e-20, 1.8101573256690277e-31, 4.0716880440540303e-47, 8.406050860975194e-71, 1.9715910308927197e-102, 5.4270571093096455e-142, 7.70306436149355e-190, 3.2621234389085354e-246, 3.238209297637e-311, 1.3590676443851605e-20, 1.3909582746043666e-22, 8.579642401145675e-17, 6.843334939753542e-14, 4.647751293919903e-14, 1.3072115550828612e-14, 5.896353075463959e-14, 9.093068247126253e-13, 4.686044367800325e-10, 6.335230606893909e-12, 2.5772539423324515e-19, 3.3196493451762873e-20, 4.202678238408189e-24, 4.170623245544847e-51, 1.1059129179856481e-74, 2.3365971878565007e-106, 3.3688143445609654e-146, 2.3178953118535798e-194, 5.295696873152997e-251, 3.12610477e-316, 1.8082547952717665e-21, 5.523517885658405e-26, 2.063341291847076e-18, 5.214041682089652e-17, 3.7045945839337e-16, 1.3717985791779225e-15, 1.7486947954184088e-15, 1.831465917107014e-13, 1.2073068253146302e-11, 1.6375907739986763e-14, 1.7551210751612777e-23, 9.616124096585211e-22, 1.1234548540074885e-42, 4.978213332536407e-59, 2.5997112078467814e-83, 1.14670384148698e-115, 3.3453105947390035e-156, 4.892368911728963e-205, 2.7208990118653765e-262, 0.0, 1.1872479828714899e-24, 2.512003774319752e-32, 2.263108105187774e-19, 1.3407227769221417e-18, 8.323478850962417e-18, 9.835712936337204e-17, 6.313339773269847e-17, 6.184973955936782e-16, 2.6720549635193925e-16, 8.029419845668545e-20, 1.4826193129337455e-21, 2.0100495312312623e-24, 8.674956493158141e-51, 3.391969202118918e-71, 5.726330545619529e-97, 1.4554748802009964e-130, 3.192143336355703e-172, 4.409103525049064e-222, 2.9020916355813054e-280, 0.0, 1.4909689077706272e-45, 5.083675865407291e-37, 7.21382978567942e-22, 7.281319903102559e-30, 6.887476489995958e-20, 3.5812848371364294e-23, 4.49819755041444e-23, 2.9916629310753087e-19, 1.56457594877904e-20, 1.742189398296281e-31, 3.596720577069977e-36, 2.451564340098952e-46, 8.617853857858468e-63, 4.476280750753857e-86, 5.234348735135514e-116, 1.9987735843134275e-151, 1.4036387294187397e-194, 8.895262613858824e-246, 3.6710229014691333e-305, 0.0, 2.3770325591541605e-59, 1.6710533653544912e-47, 3.261236747910207e-40, 1.8187721159455158e-36, 3.612608129197853e-35, 3.029346969141448e-35, 1.1665364423423628e-35, 3.413633486537675e-23, 2.0720721837599633e-36, 2.4735926378075678e-27, 1.825901212677635e-48, 1.0163380943889988e-61, 6.614308403939794e-81, 1.340723004952351e-106, 3.191465113871264e-139, 1.3431169069903456e-178, 1.1009566780167266e-223, 1.8034797382175087e-276, 0.0, 0.0], \"colorbar\": {\"title\": {\"text\": \"ColorBar\"}}, \"colorscale\": [[0.0, \"#440154\"], [0.1111111111111111, \"#482878\"], [0.2222222222222222, \"#3e4989\"], [0.3333333333333333, \"#31688e\"], [0.4444444444444444, \"#26828e\"], [0.5555555555555556, \"#1f9e89\"], [0.6666666666666666, \"#35b779\"], [0.7777777777777778, \"#6ece58\"], [0.8888888888888888, \"#b5de2b\"], [1.0, \"#fde725\"]], \"line\": {\"width\": 0}, \"opacity\": 1, \"size\": 25, \"symbol\": \"circle\"}, \"mode\": \"markers\", \"type\": \"scatter\", \"x\": [-4.610048681222266, -4.610048681222266, -4.610048681222266, -4.610048681222266, -4.610048681222266, -4.610048681222266, -4.610048681222266, -4.610048681222266, -4.610048681222266, -4.610048681222266, -4.610048681222266, -4.610048681222266, -4.610048681222266, -4.610048681222266, -4.610048681222266, -4.610048681222266, -4.610048681222266, -4.610048681222266, -4.610048681222266, -4.610048681222266, -4.121631462611792, -4.121631462611792, -4.121631462611792, -4.121631462611792, -4.121631462611792, -4.121631462611792, -4.121631462611792, -4.121631462611792, -4.121631462611792, -4.121631462611792, -4.121631462611792, -4.121631462611792, -4.121631462611792, -4.121631462611792, -4.121631462611792, -4.121631462611792, -4.121631462611792, -4.121631462611792, -4.121631462611792, -4.121631462611792, -3.633214244001318, -3.633214244001318, -3.633214244001318, -3.633214244001318, -3.633214244001318, -3.633214244001318, -3.633214244001318, -3.633214244001318, -3.633214244001318, -3.633214244001318, -3.633214244001318, -3.633214244001318, -3.633214244001318, -3.633214244001318, -3.633214244001318, -3.633214244001318, -3.633214244001318, -3.633214244001318, -3.633214244001318, -3.633214244001318, -3.1447970253908437, -3.1447970253908437, -3.1447970253908437, -3.1447970253908437, -3.1447970253908437, -3.1447970253908437, -3.1447970253908437, -3.1447970253908437, -3.1447970253908437, -3.1447970253908437, -3.1447970253908437, -3.1447970253908437, -3.1447970253908437, -3.1447970253908437, -3.1447970253908437, -3.1447970253908437, -3.1447970253908437, -3.1447970253908437, -3.1447970253908437, -3.1447970253908437, -2.65637980678037, -2.65637980678037, -2.65637980678037, -2.65637980678037, -2.65637980678037, -2.65637980678037, -2.65637980678037, -2.65637980678037, -2.65637980678037, -2.65637980678037, -2.65637980678037, -2.65637980678037, -2.65637980678037, -2.65637980678037, -2.65637980678037, -2.65637980678037, -2.65637980678037, -2.65637980678037, -2.65637980678037, -2.65637980678037, -2.1679625881698956, -2.1679625881698956, -2.1679625881698956, -2.1679625881698956, -2.1679625881698956, -2.1679625881698956, -2.1679625881698956, -2.1679625881698956, -2.1679625881698956, -2.1679625881698956, -2.1679625881698956, -2.1679625881698956, -2.1679625881698956, -2.1679625881698956, -2.1679625881698956, -2.1679625881698956, -2.1679625881698956, -2.1679625881698956, -2.1679625881698956, -2.1679625881698956, -1.6795453695594214, -1.6795453695594214, -1.6795453695594214, -1.6795453695594214, -1.6795453695594214, -1.6795453695594214, -1.6795453695594214, -1.6795453695594214, -1.6795453695594214, -1.6795453695594214, -1.6795453695594214, -1.6795453695594214, -1.6795453695594214, -1.6795453695594214, -1.6795453695594214, -1.6795453695594214, -1.6795453695594214, -1.6795453695594214, -1.6795453695594214, -1.6795453695594214, -1.1911281509489475, -1.1911281509489475, -1.1911281509489475, -1.1911281509489475, -1.1911281509489475, -1.1911281509489475, -1.1911281509489475, -1.1911281509489475, -1.1911281509489475, -1.1911281509489475, -1.1911281509489475, -1.1911281509489475, -1.1911281509489475, -1.1911281509489475, -1.1911281509489475, -1.1911281509489475, -1.1911281509489475, -1.1911281509489475, -1.1911281509489475, -1.1911281509489475, -0.7027109323384733, -0.7027109323384733, -0.7027109323384733, -0.7027109323384733, -0.7027109323384733, -0.7027109323384733, -0.7027109323384733, -0.7027109323384733, -0.7027109323384733, -0.7027109323384733, -0.7027109323384733, -0.7027109323384733, -0.7027109323384733, -0.7027109323384733, -0.7027109323384733, -0.7027109323384733, -0.7027109323384733, -0.7027109323384733, -0.7027109323384733, -0.7027109323384733, -0.214293713727999, -0.214293713727999, -0.214293713727999, -0.214293713727999, -0.214293713727999, -0.214293713727999, -0.214293713727999, -0.214293713727999, -0.214293713727999, -0.214293713727999, -0.214293713727999, -0.214293713727999, -0.214293713727999, -0.214293713727999, -0.214293713727999, -0.214293713727999, -0.214293713727999, -0.214293713727999, -0.214293713727999, -0.214293713727999, 0.27412350488247483, 0.27412350488247483, 0.27412350488247483, 0.27412350488247483, 0.27412350488247483, 0.27412350488247483, 0.27412350488247483, 0.27412350488247483, 0.27412350488247483, 0.27412350488247483, 0.27412350488247483, 0.27412350488247483, 0.27412350488247483, 0.27412350488247483, 0.27412350488247483, 0.27412350488247483, 0.27412350488247483, 0.27412350488247483, 0.27412350488247483, 0.27412350488247483, 0.7625407234929487, 0.7625407234929487, 0.7625407234929487, 0.7625407234929487, 0.7625407234929487, 0.7625407234929487, 0.7625407234929487, 0.7625407234929487, 0.7625407234929487, 0.7625407234929487, 0.7625407234929487, 0.7625407234929487, 0.7625407234929487, 0.7625407234929487, 0.7625407234929487, 0.7625407234929487, 0.7625407234929487, 0.7625407234929487, 0.7625407234929487, 0.7625407234929487, 1.2509579421034234, 1.2509579421034234, 1.2509579421034234, 1.2509579421034234, 1.2509579421034234, 1.2509579421034234, 1.2509579421034234, 1.2509579421034234, 1.2509579421034234, 1.2509579421034234, 1.2509579421034234, 1.2509579421034234, 1.2509579421034234, 1.2509579421034234, 1.2509579421034234, 1.2509579421034234, 1.2509579421034234, 1.2509579421034234, 1.2509579421034234, 1.2509579421034234, 1.7393751607138972, 1.7393751607138972, 1.7393751607138972, 1.7393751607138972, 1.7393751607138972, 1.7393751607138972, 1.7393751607138972, 1.7393751607138972, 1.7393751607138972, 1.7393751607138972, 1.7393751607138972, 1.7393751607138972, 1.7393751607138972, 1.7393751607138972, 1.7393751607138972, 1.7393751607138972, 1.7393751607138972, 1.7393751607138972, 1.7393751607138972, 1.7393751607138972, 2.227792379324371, 2.227792379324371, 2.227792379324371, 2.227792379324371, 2.227792379324371, 2.227792379324371, 2.227792379324371, 2.227792379324371, 2.227792379324371, 2.227792379324371, 2.227792379324371, 2.227792379324371, 2.227792379324371, 2.227792379324371, 2.227792379324371, 2.227792379324371, 2.227792379324371, 2.227792379324371, 2.227792379324371, 2.227792379324371, 2.7162095979348457, 2.7162095979348457, 2.7162095979348457, 2.7162095979348457, 2.7162095979348457, 2.7162095979348457, 2.7162095979348457, 2.7162095979348457, 2.7162095979348457, 2.7162095979348457, 2.7162095979348457, 2.7162095979348457, 2.7162095979348457, 2.7162095979348457, 2.7162095979348457, 2.7162095979348457, 2.7162095979348457, 2.7162095979348457, 2.7162095979348457, 2.7162095979348457, 3.2046268165453196, 3.2046268165453196, 3.2046268165453196, 3.2046268165453196, 3.2046268165453196, 3.2046268165453196, 3.2046268165453196, 3.2046268165453196, 3.2046268165453196, 3.2046268165453196, 3.2046268165453196, 3.2046268165453196, 3.2046268165453196, 3.2046268165453196, 3.2046268165453196, 3.2046268165453196, 3.2046268165453196, 3.2046268165453196, 3.2046268165453196, 3.2046268165453196, 3.6930440351557943, 3.6930440351557943, 3.6930440351557943, 3.6930440351557943, 3.6930440351557943, 3.6930440351557943, 3.6930440351557943, 3.6930440351557943, 3.6930440351557943, 3.6930440351557943, 3.6930440351557943, 3.6930440351557943, 3.6930440351557943, 3.6930440351557943, 3.6930440351557943, 3.6930440351557943, 3.6930440351557943, 3.6930440351557943, 3.6930440351557943, 3.6930440351557943, 4.181461253766268, 4.181461253766268, 4.181461253766268, 4.181461253766268, 4.181461253766268, 4.181461253766268, 4.181461253766268, 4.181461253766268, 4.181461253766268, 4.181461253766268, 4.181461253766268, 4.181461253766268, 4.181461253766268, 4.181461253766268, 4.181461253766268, 4.181461253766268, 4.181461253766268, 4.181461253766268, 4.181461253766268, 4.181461253766268, 4.669878472376741, 4.669878472376741, 4.669878472376741, 4.669878472376741, 4.669878472376741, 4.669878472376741, 4.669878472376741, 4.669878472376741, 4.669878472376741, 4.669878472376741, 4.669878472376741, 4.669878472376741, 4.669878472376741, 4.669878472376741, 4.669878472376741, 4.669878472376741, 4.669878472376741, 4.669878472376741, 4.669878472376741, 4.669878472376741], \"y\": [-3.336226896580918, -2.9072549312980147, -2.4782829660151116, -2.049311000732209, -1.6203390354493057, -1.1913670701664025, -0.7623951048834998, -0.33342313960059666, 0.09554882568230649, 0.5245207909652096, 0.9534927562481128, 1.382464721531016, 1.8114366868139182, 2.2404086520968214, 2.6693806173797245, 3.0983525826626277, 3.527324547945531, 3.956296513228434, 4.385268478511337, 4.81424044379424, -3.336226896580918, -2.9072549312980147, -2.4782829660151116, -2.049311000732209, -1.6203390354493057, -1.1913670701664025, -0.7623951048834998, -0.33342313960059666, 0.09554882568230649, 0.5245207909652096, 0.9534927562481128, 1.382464721531016, 1.8114366868139182, 2.2404086520968214, 2.6693806173797245, 3.0983525826626277, 3.527324547945531, 3.956296513228434, 4.385268478511337, 4.81424044379424, -3.336226896580918, -2.9072549312980147, -2.4782829660151116, -2.049311000732209, -1.6203390354493057, -1.1913670701664025, -0.7623951048834998, -0.33342313960059666, 0.09554882568230649, 0.5245207909652096, 0.9534927562481128, 1.382464721531016, 1.8114366868139182, 2.2404086520968214, 2.6693806173797245, 3.0983525826626277, 3.527324547945531, 3.956296513228434, 4.385268478511337, 4.81424044379424, -3.336226896580918, -2.9072549312980147, -2.4782829660151116, -2.049311000732209, -1.6203390354493057, -1.1913670701664025, -0.7623951048834998, -0.33342313960059666, 0.09554882568230649, 0.5245207909652096, 0.9534927562481128, 1.382464721531016, 1.8114366868139182, 2.2404086520968214, 2.6693806173797245, 3.0983525826626277, 3.527324547945531, 3.956296513228434, 4.385268478511337, 4.81424044379424, -3.336226896580918, -2.9072549312980147, -2.4782829660151116, -2.049311000732209, -1.6203390354493057, -1.1913670701664025, -0.7623951048834998, -0.33342313960059666, 0.09554882568230649, 0.5245207909652096, 0.9534927562481128, 1.382464721531016, 1.8114366868139182, 2.2404086520968214, 2.6693806173797245, 3.0983525826626277, 3.527324547945531, 3.956296513228434, 4.385268478511337, 4.81424044379424, -3.336226896580918, -2.9072549312980147, -2.4782829660151116, -2.049311000732209, -1.6203390354493057, -1.1913670701664025, -0.7623951048834998, -0.33342313960059666, 0.09554882568230649, 0.5245207909652096, 0.9534927562481128, 1.382464721531016, 1.8114366868139182, 2.2404086520968214, 2.6693806173797245, 3.0983525826626277, 3.527324547945531, 3.956296513228434, 4.385268478511337, 4.81424044379424, -3.336226896580918, -2.9072549312980147, -2.4782829660151116, -2.049311000732209, -1.6203390354493057, -1.1913670701664025, -0.7623951048834998, -0.33342313960059666, 0.09554882568230649, 0.5245207909652096, 0.9534927562481128, 1.382464721531016, 1.8114366868139182, 2.2404086520968214, 2.6693806173797245, 3.0983525826626277, 3.527324547945531, 3.956296513228434, 4.385268478511337, 4.81424044379424, -3.336226896580918, -2.9072549312980147, -2.4782829660151116, -2.049311000732209, -1.6203390354493057, -1.1913670701664025, -0.7623951048834998, -0.33342313960059666, 0.09554882568230649, 0.5245207909652096, 0.9534927562481128, 1.382464721531016, 1.8114366868139182, 2.2404086520968214, 2.6693806173797245, 3.0983525826626277, 3.527324547945531, 3.956296513228434, 4.385268478511337, 4.81424044379424, -3.336226896580918, -2.9072549312980147, -2.4782829660151116, -2.049311000732209, -1.6203390354493057, -1.1913670701664025, -0.7623951048834998, -0.33342313960059666, 0.09554882568230649, 0.5245207909652096, 0.9534927562481128, 1.382464721531016, 1.8114366868139182, 2.2404086520968214, 2.6693806173797245, 3.0983525826626277, 3.527324547945531, 3.956296513228434, 4.385268478511337, 4.81424044379424, -3.336226896580918, -2.9072549312980147, -2.4782829660151116, -2.049311000732209, -1.6203390354493057, -1.1913670701664025, -0.7623951048834998, -0.33342313960059666, 0.09554882568230649, 0.5245207909652096, 0.9534927562481128, 1.382464721531016, 1.8114366868139182, 2.2404086520968214, 2.6693806173797245, 3.0983525826626277, 3.527324547945531, 3.956296513228434, 4.385268478511337, 4.81424044379424, -3.336226896580918, -2.9072549312980147, -2.4782829660151116, -2.049311000732209, -1.6203390354493057, -1.1913670701664025, -0.7623951048834998, -0.33342313960059666, 0.09554882568230649, 0.5245207909652096, 0.9534927562481128, 1.382464721531016, 1.8114366868139182, 2.2404086520968214, 2.6693806173797245, 3.0983525826626277, 3.527324547945531, 3.956296513228434, 4.385268478511337, 4.81424044379424, -3.336226896580918, -2.9072549312980147, -2.4782829660151116, -2.049311000732209, -1.6203390354493057, -1.1913670701664025, -0.7623951048834998, -0.33342313960059666, 0.09554882568230649, 0.5245207909652096, 0.9534927562481128, 1.382464721531016, 1.8114366868139182, 2.2404086520968214, 2.6693806173797245, 3.0983525826626277, 3.527324547945531, 3.956296513228434, 4.385268478511337, 4.81424044379424, -3.336226896580918, -2.9072549312980147, -2.4782829660151116, -2.049311000732209, -1.6203390354493057, -1.1913670701664025, -0.7623951048834998, -0.33342313960059666, 0.09554882568230649, 0.5245207909652096, 0.9534927562481128, 1.382464721531016, 1.8114366868139182, 2.2404086520968214, 2.6693806173797245, 3.0983525826626277, 3.527324547945531, 3.956296513228434, 4.385268478511337, 4.81424044379424, -3.336226896580918, -2.9072549312980147, -2.4782829660151116, -2.049311000732209, -1.6203390354493057, -1.1913670701664025, -0.7623951048834998, -0.33342313960059666, 0.09554882568230649, 0.5245207909652096, 0.9534927562481128, 1.382464721531016, 1.8114366868139182, 2.2404086520968214, 2.6693806173797245, 3.0983525826626277, 3.527324547945531, 3.956296513228434, 4.385268478511337, 4.81424044379424, -3.336226896580918, -2.9072549312980147, -2.4782829660151116, -2.049311000732209, -1.6203390354493057, -1.1913670701664025, -0.7623951048834998, -0.33342313960059666, 0.09554882568230649, 0.5245207909652096, 0.9534927562481128, 1.382464721531016, 1.8114366868139182, 2.2404086520968214, 2.6693806173797245, 3.0983525826626277, 3.527324547945531, 3.956296513228434, 4.385268478511337, 4.81424044379424, -3.336226896580918, -2.9072549312980147, -2.4782829660151116, -2.049311000732209, -1.6203390354493057, -1.1913670701664025, -0.7623951048834998, -0.33342313960059666, 0.09554882568230649, 0.5245207909652096, 0.9534927562481128, 1.382464721531016, 1.8114366868139182, 2.2404086520968214, 2.6693806173797245, 3.0983525826626277, 3.527324547945531, 3.956296513228434, 4.385268478511337, 4.81424044379424, -3.336226896580918, -2.9072549312980147, -2.4782829660151116, -2.049311000732209, -1.6203390354493057, -1.1913670701664025, -0.7623951048834998, -0.33342313960059666, 0.09554882568230649, 0.5245207909652096, 0.9534927562481128, 1.382464721531016, 1.8114366868139182, 2.2404086520968214, 2.6693806173797245, 3.0983525826626277, 3.527324547945531, 3.956296513228434, 4.385268478511337, 4.81424044379424, -3.336226896580918, -2.9072549312980147, -2.4782829660151116, -2.049311000732209, -1.6203390354493057, -1.1913670701664025, -0.7623951048834998, -0.33342313960059666, 0.09554882568230649, 0.5245207909652096, 0.9534927562481128, 1.382464721531016, 1.8114366868139182, 2.2404086520968214, 2.6693806173797245, 3.0983525826626277, 3.527324547945531, 3.956296513228434, 4.385268478511337, 4.81424044379424, -3.336226896580918, -2.9072549312980147, -2.4782829660151116, -2.049311000732209, -1.6203390354493057, -1.1913670701664025, -0.7623951048834998, -0.33342313960059666, 0.09554882568230649, 0.5245207909652096, 0.9534927562481128, 1.382464721531016, 1.8114366868139182, 2.2404086520968214, 2.6693806173797245, 3.0983525826626277, 3.527324547945531, 3.956296513228434, 4.385268478511337, 4.81424044379424, -3.336226896580918, -2.9072549312980147, -2.4782829660151116, -2.049311000732209, -1.6203390354493057, -1.1913670701664025, -0.7623951048834998, -0.33342313960059666, 0.09554882568230649, 0.5245207909652096, 0.9534927562481128, 1.382464721531016, 1.8114366868139182, 2.2404086520968214, 2.6693806173797245, 3.0983525826626277, 3.527324547945531, 3.956296513228434, 4.385268478511337, 4.81424044379424]}],\n",
       "                        {\"template\": {\"data\": {\"bar\": [{\"error_x\": {\"color\": \"#2a3f5f\"}, \"error_y\": {\"color\": \"#2a3f5f\"}, \"marker\": {\"line\": {\"color\": \"#E5ECF6\", \"width\": 0.5}}, \"type\": \"bar\"}], \"barpolar\": [{\"marker\": {\"line\": {\"color\": \"#E5ECF6\", \"width\": 0.5}}, \"type\": \"barpolar\"}], \"carpet\": [{\"aaxis\": {\"endlinecolor\": \"#2a3f5f\", \"gridcolor\": \"white\", \"linecolor\": \"white\", \"minorgridcolor\": \"white\", \"startlinecolor\": \"#2a3f5f\"}, \"baxis\": {\"endlinecolor\": \"#2a3f5f\", \"gridcolor\": \"white\", \"linecolor\": \"white\", \"minorgridcolor\": \"white\", \"startlinecolor\": \"#2a3f5f\"}, \"type\": \"carpet\"}], \"choropleth\": [{\"colorbar\": {\"outlinewidth\": 0, \"ticks\": \"\"}, \"type\": \"choropleth\"}], \"contour\": [{\"colorbar\": {\"outlinewidth\": 0, \"ticks\": \"\"}, \"colorscale\": [[0.0, \"#0d0887\"], [0.1111111111111111, \"#46039f\"], [0.2222222222222222, \"#7201a8\"], [0.3333333333333333, \"#9c179e\"], [0.4444444444444444, \"#bd3786\"], [0.5555555555555556, \"#d8576b\"], [0.6666666666666666, \"#ed7953\"], [0.7777777777777778, \"#fb9f3a\"], [0.8888888888888888, \"#fdca26\"], [1.0, \"#f0f921\"]], \"type\": \"contour\"}], \"contourcarpet\": [{\"colorbar\": {\"outlinewidth\": 0, \"ticks\": \"\"}, \"type\": \"contourcarpet\"}], \"heatmap\": [{\"colorbar\": {\"outlinewidth\": 0, \"ticks\": \"\"}, \"colorscale\": [[0.0, \"#0d0887\"], [0.1111111111111111, \"#46039f\"], [0.2222222222222222, \"#7201a8\"], [0.3333333333333333, \"#9c179e\"], [0.4444444444444444, \"#bd3786\"], [0.5555555555555556, \"#d8576b\"], [0.6666666666666666, \"#ed7953\"], [0.7777777777777778, \"#fb9f3a\"], [0.8888888888888888, \"#fdca26\"], [1.0, \"#f0f921\"]], \"type\": \"heatmap\"}], \"heatmapgl\": [{\"colorbar\": {\"outlinewidth\": 0, \"ticks\": \"\"}, \"colorscale\": [[0.0, \"#0d0887\"], [0.1111111111111111, \"#46039f\"], [0.2222222222222222, \"#7201a8\"], [0.3333333333333333, \"#9c179e\"], [0.4444444444444444, \"#bd3786\"], [0.5555555555555556, \"#d8576b\"], [0.6666666666666666, \"#ed7953\"], [0.7777777777777778, \"#fb9f3a\"], [0.8888888888888888, \"#fdca26\"], [1.0, \"#f0f921\"]], \"type\": \"heatmapgl\"}], \"histogram\": [{\"marker\": {\"colorbar\": {\"outlinewidth\": 0, \"ticks\": \"\"}}, \"type\": \"histogram\"}], \"histogram2d\": [{\"colorbar\": {\"outlinewidth\": 0, \"ticks\": \"\"}, \"colorscale\": [[0.0, \"#0d0887\"], [0.1111111111111111, \"#46039f\"], [0.2222222222222222, \"#7201a8\"], [0.3333333333333333, \"#9c179e\"], [0.4444444444444444, \"#bd3786\"], [0.5555555555555556, \"#d8576b\"], [0.6666666666666666, \"#ed7953\"], [0.7777777777777778, \"#fb9f3a\"], [0.8888888888888888, \"#fdca26\"], [1.0, \"#f0f921\"]], \"type\": \"histogram2d\"}], \"histogram2dcontour\": [{\"colorbar\": {\"outlinewidth\": 0, \"ticks\": \"\"}, \"colorscale\": [[0.0, \"#0d0887\"], [0.1111111111111111, \"#46039f\"], [0.2222222222222222, \"#7201a8\"], [0.3333333333333333, \"#9c179e\"], [0.4444444444444444, \"#bd3786\"], [0.5555555555555556, \"#d8576b\"], [0.6666666666666666, \"#ed7953\"], [0.7777777777777778, \"#fb9f3a\"], [0.8888888888888888, \"#fdca26\"], [1.0, \"#f0f921\"]], \"type\": \"histogram2dcontour\"}], \"mesh3d\": [{\"colorbar\": {\"outlinewidth\": 0, \"ticks\": \"\"}, \"type\": \"mesh3d\"}], \"parcoords\": [{\"line\": {\"colorbar\": {\"outlinewidth\": 0, \"ticks\": \"\"}}, \"type\": \"parcoords\"}], \"pie\": [{\"automargin\": true, \"type\": \"pie\"}], \"scatter\": [{\"marker\": {\"colorbar\": {\"outlinewidth\": 0, \"ticks\": \"\"}}, \"type\": \"scatter\"}], \"scatter3d\": [{\"line\": {\"colorbar\": {\"outlinewidth\": 0, \"ticks\": \"\"}}, \"marker\": {\"colorbar\": {\"outlinewidth\": 0, \"ticks\": \"\"}}, \"type\": \"scatter3d\"}], \"scattercarpet\": [{\"marker\": {\"colorbar\": {\"outlinewidth\": 0, \"ticks\": \"\"}}, \"type\": \"scattercarpet\"}], \"scattergeo\": [{\"marker\": {\"colorbar\": {\"outlinewidth\": 0, \"ticks\": \"\"}}, \"type\": \"scattergeo\"}], \"scattergl\": [{\"marker\": {\"colorbar\": {\"outlinewidth\": 0, \"ticks\": \"\"}}, \"type\": \"scattergl\"}], \"scattermapbox\": [{\"marker\": {\"colorbar\": {\"outlinewidth\": 0, \"ticks\": \"\"}}, \"type\": \"scattermapbox\"}], \"scatterpolar\": [{\"marker\": {\"colorbar\": {\"outlinewidth\": 0, \"ticks\": \"\"}}, \"type\": \"scatterpolar\"}], \"scatterpolargl\": [{\"marker\": {\"colorbar\": {\"outlinewidth\": 0, \"ticks\": \"\"}}, \"type\": \"scatterpolargl\"}], \"scatterternary\": [{\"marker\": {\"colorbar\": {\"outlinewidth\": 0, \"ticks\": \"\"}}, \"type\": \"scatterternary\"}], \"surface\": [{\"colorbar\": {\"outlinewidth\": 0, \"ticks\": \"\"}, \"colorscale\": [[0.0, \"#0d0887\"], [0.1111111111111111, \"#46039f\"], [0.2222222222222222, \"#7201a8\"], [0.3333333333333333, \"#9c179e\"], [0.4444444444444444, \"#bd3786\"], [0.5555555555555556, \"#d8576b\"], [0.6666666666666666, \"#ed7953\"], [0.7777777777777778, \"#fb9f3a\"], [0.8888888888888888, \"#fdca26\"], [1.0, \"#f0f921\"]], \"type\": \"surface\"}], \"table\": [{\"cells\": {\"fill\": {\"color\": \"#EBF0F8\"}, \"line\": {\"color\": \"white\"}}, \"header\": {\"fill\": {\"color\": \"#C8D4E3\"}, \"line\": {\"color\": \"white\"}}, \"type\": \"table\"}]}, \"layout\": {\"annotationdefaults\": {\"arrowcolor\": \"#2a3f5f\", \"arrowhead\": 0, \"arrowwidth\": 1}, \"coloraxis\": {\"colorbar\": {\"outlinewidth\": 0, \"ticks\": \"\"}}, \"colorscale\": {\"diverging\": [[0, \"#8e0152\"], [0.1, \"#c51b7d\"], [0.2, \"#de77ae\"], [0.3, \"#f1b6da\"], [0.4, \"#fde0ef\"], [0.5, \"#f7f7f7\"], [0.6, \"#e6f5d0\"], [0.7, \"#b8e186\"], [0.8, \"#7fbc41\"], [0.9, \"#4d9221\"], [1, \"#276419\"]], \"sequential\": [[0.0, \"#0d0887\"], [0.1111111111111111, \"#46039f\"], [0.2222222222222222, \"#7201a8\"], [0.3333333333333333, \"#9c179e\"], [0.4444444444444444, \"#bd3786\"], [0.5555555555555556, \"#d8576b\"], [0.6666666666666666, \"#ed7953\"], [0.7777777777777778, \"#fb9f3a\"], [0.8888888888888888, \"#fdca26\"], [1.0, \"#f0f921\"]], \"sequentialminus\": [[0.0, \"#0d0887\"], [0.1111111111111111, \"#46039f\"], [0.2222222222222222, \"#7201a8\"], [0.3333333333333333, \"#9c179e\"], [0.4444444444444444, \"#bd3786\"], [0.5555555555555556, \"#d8576b\"], [0.6666666666666666, \"#ed7953\"], [0.7777777777777778, \"#fb9f3a\"], [0.8888888888888888, \"#fdca26\"], [1.0, \"#f0f921\"]]}, \"colorway\": [\"#636efa\", \"#EF553B\", \"#00cc96\", \"#ab63fa\", \"#FFA15A\", \"#19d3f3\", \"#FF6692\", \"#B6E880\", \"#FF97FF\", \"#FECB52\"], \"font\": {\"color\": \"#2a3f5f\"}, \"geo\": {\"bgcolor\": \"white\", \"lakecolor\": \"white\", \"landcolor\": \"#E5ECF6\", \"showlakes\": true, \"showland\": true, \"subunitcolor\": \"white\"}, \"hoverlabel\": {\"align\": \"left\"}, \"hovermode\": \"closest\", \"mapbox\": {\"style\": \"light\"}, \"paper_bgcolor\": \"white\", \"plot_bgcolor\": \"#E5ECF6\", \"polar\": {\"angularaxis\": {\"gridcolor\": \"white\", \"linecolor\": \"white\", \"ticks\": \"\"}, \"bgcolor\": \"#E5ECF6\", \"radialaxis\": {\"gridcolor\": \"white\", \"linecolor\": \"white\", \"ticks\": \"\"}}, \"scene\": {\"xaxis\": {\"backgroundcolor\": \"#E5ECF6\", \"gridcolor\": \"white\", \"gridwidth\": 2, \"linecolor\": \"white\", \"showbackground\": true, \"ticks\": \"\", \"zerolinecolor\": \"white\"}, \"yaxis\": {\"backgroundcolor\": \"#E5ECF6\", \"gridcolor\": \"white\", \"gridwidth\": 2, \"linecolor\": \"white\", \"showbackground\": true, \"ticks\": \"\", \"zerolinecolor\": \"white\"}, \"zaxis\": {\"backgroundcolor\": \"#E5ECF6\", \"gridcolor\": \"white\", \"gridwidth\": 2, \"linecolor\": \"white\", \"showbackground\": true, \"ticks\": \"\", \"zerolinecolor\": \"white\"}}, \"shapedefaults\": {\"line\": {\"color\": \"#2a3f5f\"}}, \"ternary\": {\"aaxis\": {\"gridcolor\": \"white\", \"linecolor\": \"white\", \"ticks\": \"\"}, \"baxis\": {\"gridcolor\": \"white\", \"linecolor\": \"white\", \"ticks\": \"\"}, \"bgcolor\": \"#E5ECF6\", \"caxis\": {\"gridcolor\": \"white\", \"linecolor\": \"white\", \"ticks\": \"\"}}, \"title\": {\"x\": 0.05}, \"xaxis\": {\"automargin\": true, \"gridcolor\": \"white\", \"linecolor\": \"white\", \"ticks\": \"\", \"title\": {\"standoff\": 15}, \"zerolinecolor\": \"white\", \"zerolinewidth\": 2}, \"yaxis\": {\"automargin\": true, \"gridcolor\": \"white\", \"linecolor\": \"white\", \"ticks\": \"\", \"title\": {\"standoff\": 15}, \"zerolinecolor\": \"white\", \"zerolinewidth\": 2}}}},\n",
       "                        {\"responsive\": true}\n",
       "                    ).then(function(){\n",
       "                            \n",
       "var gd = document.getElementById('880c99d9-9e3e-4bc5-b6f2-389b5c6c3e43');\n",
       "var x = new MutationObserver(function (mutations, observer) {{\n",
       "        var display = window.getComputedStyle(gd).display;\n",
       "        if (!display || display === 'none') {{\n",
       "            console.log([gd, 'removed!']);\n",
       "            Plotly.purge(gd);\n",
       "            observer.disconnect();\n",
       "        }}\n",
       "}});\n",
       "\n",
       "// Listen for the removal of the full notebook cells\n",
       "var notebookContainer = gd.closest('#notebook-container');\n",
       "if (notebookContainer) {{\n",
       "    x.observe(notebookContainer, {childList: true});\n",
       "}}\n",
       "\n",
       "// Listen for the clearing of the current output cell\n",
       "var outputEl = gd.closest('.output');\n",
       "if (outputEl) {{\n",
       "    x.observe(outputEl, {childList: true});\n",
       "}}\n",
       "\n",
       "                        })\n",
       "                };\n",
       "                });\n",
       "            </script>\n",
       "        </div>"
      ]
     },
     "metadata": {},
     "output_type": "display_data"
    }
   ],
   "source": [
    "\n",
    "print(dist_mean.shape)\n",
    "fig= [go.Scatter(\n",
    "    x= background[:,0],\n",
    "    y= background[:,1],\n",
    "    #z= grid_likes,\n",
    "    mode= 'markers',\n",
    "    marker= {\n",
    "        'color':grid_likes,\n",
    "        'colorbar': go.ColorBar(\n",
    "            title= 'ColorBar'\n",
    "        ),\n",
    "        'colorscale':'Viridis',\n",
    "        'line': {'width': 0},\n",
    "        'size': 25,\n",
    "        'symbol': 'circle',\n",
    "      \"opacity\": 1\n",
    "      }\n",
    ")]\n",
    "\n",
    "layout= go.Layout()\n",
    "\n",
    "Figure= go.Figure(data= fig, layout= layout)\n",
    "\n",
    "iplot(Figure)"
   ]
  },
  {
   "cell_type": "code",
   "execution_count": null,
   "metadata": {},
   "outputs": [],
   "source": []
  }
 ],
 "metadata": {
  "kernelspec": {
   "display_name": "Python 3",
   "language": "python",
   "name": "python3"
  },
  "language_info": {
   "codemirror_mode": {
    "name": "ipython",
    "version": 3
   },
   "file_extension": ".py",
   "mimetype": "text/x-python",
   "name": "python",
   "nbconvert_exporter": "python",
   "pygments_lexer": "ipython3",
   "version": "3.7.3"
  }
 },
 "nbformat": 4,
 "nbformat_minor": 2
}
