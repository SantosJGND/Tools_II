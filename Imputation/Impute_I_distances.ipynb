{
 "cells": [
  {
   "cell_type": "code",
   "execution_count": 1,
   "metadata": {},
   "outputs": [
    {
     "data": {
      "text/html": [
       "        <script type=\"text/javascript\">\n",
       "        window.PlotlyConfig = {MathJaxConfig: 'local'};\n",
       "        if (window.MathJax) {MathJax.Hub.Config({SVG: {font: \"STIX-Web\"}});}\n",
       "        if (typeof require !== 'undefined') {\n",
       "        require.undef(\"plotly\");\n",
       "        requirejs.config({\n",
       "            paths: {\n",
       "                'plotly': ['https://cdn.plot.ly/plotly-latest.min']\n",
       "            }\n",
       "        });\n",
       "        require(['plotly'], function(Plotly) {\n",
       "            window._Plotly = Plotly;\n",
       "        });\n",
       "        }\n",
       "        </script>\n",
       "        "
      ]
     },
     "metadata": {},
     "output_type": "display_data"
    }
   ],
   "source": [
    "import scipy\n",
    "import numpy as np\n",
    "from sklearn.neighbors import KernelDensity\n",
    "from sklearn.decomposition import PCA\n",
    "from sklearn.model_selection import GridSearchCV\n",
    "from sklearn.cluster import estimate_bandwidth\n",
    "from sklearn.cluster import MeanShift, estimate_bandwidth\n",
    "\n",
    "import pandas as pd\n",
    "\n",
    "from scipy import stats\n",
    "from scipy.stats import beta\n",
    "from math import sin\n",
    "from random import randint\n",
    "from IPython.display import clear_output\n",
    "import matplotlib.pyplot as plt\n",
    "import itertools as it\n",
    "\n",
    "import plotly\n",
    "import plotly.graph_objs as go\n",
    "from plotly.offline import download_plotlyjs, init_notebook_mode, plot, iplot\n",
    "\n",
    "from ipywidgets import interact, interactive, fixed, interact_manual\n",
    "import ipywidgets as widgets\n",
    "init_notebook_mode(connected=True)\n",
    "\n",
    "import collections\n",
    "\n",
    "def recursively_default_dict():\n",
    "        return collections.defaultdict(recursively_default_dict)\n",
    "\n",
    "from matplotlib.collections import BrokenBarHCollection\n",
    "import re\n",
    "\n",
    "from structure_tools.Modules_tools import return_fsts\n",
    "\n",
    "PCA_color_ref= ['darkseagreen','crimson', 'darkorange', 'darkblue', 'darkcyan',\n",
    "            'darkgoldenrod', 'darkgray', 'darkgrey', 'darkgreen',\n",
    "            'darkkhaki', 'darkmagenta', 'darkolivegreen', 'darkorange',\n",
    "            'darkorchid', 'darkred', 'darksalmon', 'darkseagreen',\n",
    "            'darkslateblue', 'darkslategray', 'darkslategrey',\n",
    "            'darkturquoise', 'darkviolet', 'deeppink']"
   ]
  },
  {
   "cell_type": "markdown",
   "metadata": {},
   "source": []
  },
  {
   "cell_type": "markdown",
   "metadata": {},
   "source": [
    "## vcf analysis\n",
    "Jupyter notebook for the local analysis of genetic data stored in .vcf format.\n",
    "\n",
    "Perform analysis of structure across data set, followed by a more detailed study of variation across local genomic windows.\n",
    "\n",
    "### Input"
   ]
  },
  {
   "cell_type": "code",
   "execution_count": 2,
   "metadata": {},
   "outputs": [
    {
     "name": "stdout",
     "output_type": "stream",
     "text": [
      "Number of markers: 40000\n",
      "Number of individuals: 130\n"
     ]
    }
   ],
   "source": [
    "from structure_tools.vcf_geno_tools import simple_read_vcf\n",
    "\n",
    "vcf_file= 'data_cleanRefs_simple_Admx.vcf'\n",
    "\n",
    "genotype, summary, info_save= simple_read_vcf(vcf_file,row_info= 5,header_info= 9,phased= True)\n",
    "\n",
    "print('Number of markers: {}'.format(genotype.shape[1]))\n",
    "print('Number of individuals: {}'.format(genotype.shape[0]))"
   ]
  },
  {
   "cell_type": "code",
   "execution_count": 3,
   "metadata": {},
   "outputs": [
    {
     "data": {
      "text/html": [
       "<div>\n",
       "<style scoped>\n",
       "    .dataframe tbody tr th:only-of-type {\n",
       "        vertical-align: middle;\n",
       "    }\n",
       "\n",
       "    .dataframe tbody tr th {\n",
       "        vertical-align: top;\n",
       "    }\n",
       "\n",
       "    .dataframe thead th {\n",
       "        text-align: right;\n",
       "    }\n",
       "</style>\n",
       "<table border=\"1\" class=\"dataframe\">\n",
       "  <thead>\n",
       "    <tr style=\"text-align: right;\">\n",
       "      <th></th>\n",
       "      <th>CHROM</th>\n",
       "      <th>POS</th>\n",
       "      <th>ID</th>\n",
       "      <th>REF</th>\n",
       "      <th>ALT</th>\n",
       "      <th>QUAL</th>\n",
       "      <th>FILTER</th>\n",
       "      <th>INFO</th>\n",
       "      <th>FORMAT</th>\n",
       "    </tr>\n",
       "  </thead>\n",
       "  <tbody>\n",
       "    <tr>\n",
       "      <th>0</th>\n",
       "      <td>1</td>\n",
       "      <td>8</td>\n",
       "      <td>1</td>\n",
       "      <td>A</td>\n",
       "      <td>T</td>\n",
       "      <td>.</td>\n",
       "      <td>PASS</td>\n",
       "      <td>.</td>\n",
       "      <td>GT:AD:DP</td>\n",
       "    </tr>\n",
       "    <tr>\n",
       "      <th>1</th>\n",
       "      <td>1</td>\n",
       "      <td>33</td>\n",
       "      <td>2</td>\n",
       "      <td>A</td>\n",
       "      <td>T</td>\n",
       "      <td>.</td>\n",
       "      <td>PASS</td>\n",
       "      <td>.</td>\n",
       "      <td>GT:AD:DP</td>\n",
       "    </tr>\n",
       "    <tr>\n",
       "      <th>2</th>\n",
       "      <td>1</td>\n",
       "      <td>74</td>\n",
       "      <td>3</td>\n",
       "      <td>A</td>\n",
       "      <td>T</td>\n",
       "      <td>.</td>\n",
       "      <td>PASS</td>\n",
       "      <td>.</td>\n",
       "      <td>GT:AD:DP</td>\n",
       "    </tr>\n",
       "    <tr>\n",
       "      <th>3</th>\n",
       "      <td>1</td>\n",
       "      <td>83</td>\n",
       "      <td>4</td>\n",
       "      <td>A</td>\n",
       "      <td>T</td>\n",
       "      <td>.</td>\n",
       "      <td>PASS</td>\n",
       "      <td>.</td>\n",
       "      <td>GT:AD:DP</td>\n",
       "    </tr>\n",
       "    <tr>\n",
       "      <th>4</th>\n",
       "      <td>1</td>\n",
       "      <td>87</td>\n",
       "      <td>5</td>\n",
       "      <td>A</td>\n",
       "      <td>T</td>\n",
       "      <td>.</td>\n",
       "      <td>PASS</td>\n",
       "      <td>.</td>\n",
       "      <td>GT:AD:DP</td>\n",
       "    </tr>\n",
       "  </tbody>\n",
       "</table>\n",
       "</div>"
      ],
      "text/plain": [
       "  CHROM POS ID REF ALT QUAL FILTER INFO    FORMAT\n",
       "0     1   8  1   A   T    .   PASS    .  GT:AD:DP\n",
       "1     1  33  2   A   T    .   PASS    .  GT:AD:DP\n",
       "2     1  74  3   A   T    .   PASS    .  GT:AD:DP\n",
       "3     1  83  4   A   T    .   PASS    .  GT:AD:DP\n",
       "4     1  87  5   A   T    .   PASS    .  GT:AD:DP"
      ]
     },
     "execution_count": 3,
     "metadata": {},
     "output_type": "execute_result"
    }
   ],
   "source": [
    "summary.head()\n"
   ]
  },
  {
   "cell_type": "markdown",
   "metadata": {},
   "source": [
    "### Global variation\n",
    "\n",
    "Perform PCA across data set.\n",
    "\n",
    "Perform Mean shift clustering to attempt to extract genetically coherent groups of accessions.\n",
    "\n",
    "These will later be used for supervised analysis."
   ]
  },
  {
   "cell_type": "code",
   "execution_count": 4,
   "metadata": {},
   "outputs": [],
   "source": [
    "from structure_tools.Tutorial_subplots import plot_global_pca\n",
    "\n",
    "## Perform PCA\n",
    "n_comp= 3\n",
    "pca = PCA(n_components=n_comp, whiten=False,svd_solver='randomized')\n",
    "\n",
    "feats= pca.fit_transform(genotype)"
   ]
  },
  {
   "cell_type": "code",
   "execution_count": 5,
   "metadata": {},
   "outputs": [],
   "source": [
    "## perform MeanShift clustering.\n",
    "bandwidth = estimate_bandwidth(feats, quantile=0.1)\n",
    "\n",
    "ms = MeanShift(bandwidth=bandwidth, bin_seeding=False, cluster_all=True, min_bin_freq=45)\n",
    "ms.fit(feats)\n",
    "labels1 = ms.labels_\n",
    "label_select = {y:[x for x in range(len(labels1)) if labels1[x] == y] for y in sorted(list(set(labels1)))}\n",
    "###"
   ]
  },
  {
   "cell_type": "code",
   "execution_count": 6,
   "metadata": {},
   "outputs": [
    {
     "data": {
      "application/vnd.plotly.v1+json": {
       "config": {
        "linkText": "Export to plot.ly",
        "plotlyServerURL": "https://plot.ly",
        "showLink": false
       },
       "data": [
        {
         "marker": {
          "color": "darkseagreen",
          "line": {
           "width": 0
          },
          "opacity": 0.8,
          "size": 6,
          "symbol": "circle"
         },
         "mode": "markers",
         "name": "0",
         "type": "scatter",
         "x": [
          68.46982880907143,
          67.72909588836148,
          67.49967217941264,
          66.79416045472871,
          66.15222349688297,
          69.38764359804343,
          68.77342020974967,
          68.01622649821626,
          67.82832275940667,
          67.98258544096745,
          67.98952654092194,
          66.07245333137334,
          67.49916073430519,
          67.87421030105008,
          67.69820548479544,
          67.35545741162821,
          66.96127747854182,
          67.31303582920488,
          67.59533061944758,
          67.89973700703577,
          67.26773501318974,
          68.38060103055413,
          67.49850988847132,
          65.6859082685618,
          67.76796520480384,
          67.8556344864348,
          67.7862291871866,
          68.28531640984505,
          67.1606327031754,
          67.18265984745054,
          68.03080945875246,
          67.80150164189307,
          66.27307669893575,
          67.32594445194451,
          68.13437086218791,
          67.78090534467641,
          67.64473674006403,
          66.78721302067217,
          66.73804953917357,
          66.12644355047982
         ],
         "xaxis": "x",
         "y": [
          -4.358157022052609,
          -3.303631717959737,
          -4.977944481946232,
          -3.033933907923152,
          -3.307081295148049,
          -4.348760251394461,
          -4.075205349035241,
          -4.759658844642429,
          -4.232902155488079,
          -4.210798991835077,
          -5.099173832721062,
          -4.54262352547337,
          -4.361405954764429,
          -4.005600268533232,
          -4.261681271551311,
          -3.204186389411857,
          -4.148330964002099,
          -3.5920745500479234,
          -4.098856151930292,
          -4.973858622841176,
          -3.663470714193217,
          -5.186837454369568,
          -3.3174536786655513,
          -4.23791228167656,
          -4.836747989424157,
          -4.036820229952158,
          -3.767713644939004,
          -4.104100855685982,
          -3.700914352266574,
          -3.571889524636653,
          -3.6988294668210218,
          -3.211288868475992,
          -3.905141996224073,
          -4.292875944719124,
          -3.1058772319034103,
          -5.067687669169968,
          -4.166905987056491,
          -3.8006550686275364,
          -3.7585210641343534,
          -3.8300116339394217
         ],
         "yaxis": "y"
        },
        {
         "marker": {
          "color": "crimson",
          "line": {
           "width": 0
          },
          "opacity": 0.8,
          "size": 6,
          "symbol": "circle"
         },
         "mode": "markers",
         "name": "1",
         "type": "scatter",
         "x": [
          -47.55316217005324,
          -47.41807946998893,
          -45.807637300313054,
          -47.312616493339455,
          -46.572427588793865,
          -46.163468433820846,
          -47.111387730317965,
          -46.1607733959625,
          -47.56388563868325,
          -45.635606335703116,
          -46.24563803700398,
          -45.89345241727106,
          -45.57494436683172,
          -47.0125026750992,
          -47.92706194129797,
          -45.05991290625617,
          -47.6816564215634,
          -47.585678433910914,
          -47.947354703948626,
          -46.37352326157399,
          -46.07739757461992,
          -47.586917581682094,
          -47.49749115718014,
          -47.11043355904965,
          -48.046830548388456,
          -47.83720881278185,
          -47.45064328958692,
          -46.56832662538207,
          -47.37230675363837,
          -47.215413461631485,
          -46.61955754658427,
          -47.54684705952461,
          -47.44668058334657,
          -45.88441318965819,
          -48.939380142823246,
          -45.85421613425677,
          -46.90205463602338,
          -47.95552013901875,
          -47.01085910666673,
          -47.266931415050344,
          -43.5401315453371,
          -35.60638196839823
         ],
         "xaxis": "x",
         "y": [
          -25.126753421225086,
          -25.06593674483227,
          -25.674840988789256,
          -25.61908772647497,
          -25.14716945181494,
          -26.725821974099016,
          -25.68557480348737,
          -26.022801505909094,
          -25.932137673552912,
          -25.3721492698443,
          -25.392951504418853,
          -24.892241296716485,
          -24.903655616137335,
          -26.116533143883274,
          -25.1429685024224,
          -24.91091019405188,
          -24.48733209552828,
          -25.17119354468382,
          -25.645275732387393,
          -24.666877020474402,
          -26.196768577844004,
          -26.306091256168468,
          -24.82362667448004,
          -25.372461157522427,
          -26.434493507515302,
          -26.238686076779196,
          -24.092704940734993,
          -25.003577010874796,
          -25.31011817313093,
          -24.520102466387076,
          -26.002255244296716,
          -22.717361819249295,
          -24.627840633838414,
          -23.869982197485605,
          -23.347938328528468,
          -25.199622207138983,
          -25.09597460785447,
          -25.482894898114953,
          -24.71846391781242,
          -27.098308618294734,
          -19.92312586590598,
          -19.61065066253637
         ],
         "yaxis": "y"
        },
        {
         "marker": {
          "color": "darkorange",
          "line": {
           "width": 0
          },
          "opacity": 0.8,
          "size": 6,
          "symbol": "circle"
         },
         "mode": "markers",
         "name": "2",
         "type": "scatter",
         "x": [
          -28.615929025272447,
          -29.513710538654916,
          -28.637312231836088,
          -28.936476008470635,
          -29.421121413493797,
          -28.784350490244687,
          -28.94750225222309,
          -28.404152848336942,
          -29.331536234709343,
          -28.551253001681065,
          -29.324069597288055,
          -28.688872745331548,
          -29.263997804560596,
          -29.975133536495395,
          -28.315371331916985,
          -30.996318583932197,
          -29.694584275360892,
          -29.550164745586248,
          -29.205368251931855,
          -29.10137657082364
         ],
         "xaxis": "x",
         "y": [
          67.09138099136236,
          68.7058609063904,
          67.89872960801694,
          68.5983989891089,
          68.6237648655672,
          67.89727701583358,
          68.71389931530759,
          68.11040849718104,
          67.98346652062077,
          68.65515471888472,
          67.77185979812195,
          67.96561215374646,
          68.97965334309659,
          69.28060423850607,
          67.64345711036675,
          68.606564758695,
          68.38610370968564,
          69.5720185452198,
          68.06572964691838,
          69.04814952077271
         ],
         "yaxis": "y"
        },
        {
         "marker": {
          "color": "darkblue",
          "line": {
           "width": 0
          },
          "opacity": 0.8,
          "size": 6,
          "symbol": "circle"
         },
         "mode": "markers",
         "name": "3",
         "type": "scatter",
         "x": [
          -16.698024951052606,
          -19.380145221167062,
          -21.1976713941161,
          -28.57217332858859,
          -25.83913084205385
         ],
         "xaxis": "x",
         "y": [
          -19.512204198190386,
          -16.930798854690032,
          -21.450600929360522,
          -22.589913925436164,
          -20.629360564209794
         ],
         "yaxis": "y"
        },
        {
         "marker": {
          "color": "darkcyan",
          "line": {
           "width": 0
          },
          "opacity": 0.8,
          "size": 6,
          "symbol": "circle"
         },
         "mode": "markers",
         "name": "4",
         "type": "scatter",
         "x": [
          -0.07973534747533219,
          -3.178533824610399,
          -1.3143198599440786
         ],
         "xaxis": "x",
         "y": [
          21.223312295753416,
          19.91514747739435,
          11.923146629457793
         ],
         "yaxis": "y"
        },
        {
         "marker": {
          "color": "darkgoldenrod",
          "line": {
           "width": 0
          },
          "opacity": 0.8,
          "size": 6,
          "symbol": "circle"
         },
         "mode": "markers",
         "name": "5",
         "type": "scatter",
         "x": [
          -8.270734360349723,
          -11.360404593919457,
          -7.3933596743000605
         ],
         "xaxis": "x",
         "y": [
          5.420973700367017,
          10.833936285761208,
          4.937313166326023
         ],
         "yaxis": "y"
        },
        {
         "marker": {
          "color": "darkgray",
          "line": {
           "width": 0
          },
          "opacity": 0.8,
          "size": 6,
          "symbol": "circle"
         },
         "mode": "markers",
         "name": "6",
         "type": "scatter",
         "x": [
          -30.53889862358832,
          -35.16701716960612,
          -31.872614033851864,
          -33.763197296050535
         ],
         "xaxis": "x",
         "y": [
          -8.222834349977022,
          -1.899794627568808,
          -0.19036697185419893,
          -5.293091320163728
         ],
         "yaxis": "y"
        },
        {
         "marker": {
          "color": "darkgrey",
          "line": {
           "width": 0
          },
          "opacity": 0.8,
          "size": 6,
          "symbol": "circle"
         },
         "mode": "markers",
         "name": "7",
         "type": "scatter",
         "x": [
          55.03441665611725,
          45.59047905234922
         ],
         "xaxis": "x",
         "y": [
          -3.6539579019191444,
          -5.894856813621662
         ],
         "yaxis": "y"
        },
        {
         "marker": {
          "color": "darkgreen",
          "line": {
           "width": 0
          },
          "opacity": 0.8,
          "size": 6,
          "symbol": "circle"
         },
         "mode": "markers",
         "name": "8",
         "type": "scatter",
         "x": [
          7.059352383591061,
          7.346794104085745
         ],
         "xaxis": "x",
         "y": [
          -9.916220768552368,
          -8.33793119880389
         ],
         "yaxis": "y"
        },
        {
         "marker": {
          "color": "darkkhaki",
          "line": {
           "width": 0
          },
          "opacity": 0.8,
          "size": 6,
          "symbol": "circle"
         },
         "mode": "markers",
         "name": "9",
         "type": "scatter",
         "x": [
          -19.879060811666754,
          -19.65290102138097
         ],
         "xaxis": "x",
         "y": [
          -5.656102054826979,
          -3.9638641585071164
         ],
         "yaxis": "y"
        },
        {
         "marker": {
          "color": "darkmagenta",
          "line": {
           "width": 0
          },
          "opacity": 0.8,
          "size": 6,
          "symbol": "circle"
         },
         "mode": "markers",
         "name": "10",
         "type": "scatter",
         "x": [
          22.554380594419687
         ],
         "xaxis": "x",
         "y": [
          -8.469756629515954
         ],
         "yaxis": "y"
        },
        {
         "marker": {
          "color": "darkolivegreen",
          "line": {
           "width": 0
          },
          "opacity": 0.8,
          "size": 6,
          "symbol": "circle"
         },
         "mode": "markers",
         "name": "11",
         "type": "scatter",
         "x": [
          17.44320492205538
         ],
         "xaxis": "x",
         "y": [
          -13.527458740367218
         ],
         "yaxis": "y"
        },
        {
         "marker": {
          "color": "darkorange",
          "line": {
           "width": 0
          },
          "opacity": 0.8,
          "size": 6,
          "symbol": "circle"
         },
         "mode": "markers",
         "name": "12",
         "type": "scatter",
         "x": [
          15.624952123637136
         ],
         "xaxis": "x",
         "y": [
          -7.387807097042063
         ],
         "yaxis": "y"
        },
        {
         "marker": {
          "color": "darkorchid",
          "line": {
           "width": 0
          },
          "opacity": 0.8,
          "size": 6,
          "symbol": "circle"
         },
         "mode": "markers",
         "name": "13",
         "type": "scatter",
         "x": [
          6.033188916513804
         ],
         "xaxis": "x",
         "y": [
          -11.04959117049801
         ],
         "yaxis": "y"
        },
        {
         "marker": {
          "color": "darkred",
          "line": {
           "width": 0
          },
          "opacity": 0.8,
          "size": 6,
          "symbol": "circle"
         },
         "mode": "markers",
         "name": "14",
         "type": "scatter",
         "x": [
          1.0402577861989686
         ],
         "xaxis": "x",
         "y": [
          -3.236788396446656
         ],
         "yaxis": "y"
        },
        {
         "marker": {
          "color": "darksalmon",
          "line": {
           "width": 0
          },
          "opacity": 0.8,
          "size": 6,
          "symbol": "circle"
         },
         "mode": "markers",
         "name": "15",
         "type": "scatter",
         "x": [
          -5.0082095385815295
         ],
         "xaxis": "x",
         "y": [
          -17.62062103608718
         ],
         "yaxis": "y"
        },
        {
         "marker": {
          "color": "darkseagreen",
          "line": {
           "width": 0
          },
          "opacity": 0.8,
          "size": 6,
          "symbol": "circle"
         },
         "mode": "markers",
         "name": "16",
         "type": "scatter",
         "x": [
          -17.77139802774955
         ],
         "xaxis": "x",
         "y": [
          -14.56521984201391
         ],
         "yaxis": "y"
        },
        {
         "marker": {
          "color": "darkseagreen",
          "line": {
           "width": 0
          },
          "opacity": 0.8,
          "size": 6,
          "symbol": "circle"
         },
         "mode": "markers",
         "name": "0",
         "type": "scatter",
         "x": [
          68.46982880907143,
          67.72909588836148,
          67.49967217941264,
          66.79416045472871,
          66.15222349688297,
          69.38764359804343,
          68.77342020974967,
          68.01622649821626,
          67.82832275940667,
          67.98258544096745,
          67.98952654092194,
          66.07245333137334,
          67.49916073430519,
          67.87421030105008,
          67.69820548479544,
          67.35545741162821,
          66.96127747854182,
          67.31303582920488,
          67.59533061944758,
          67.89973700703577,
          67.26773501318974,
          68.38060103055413,
          67.49850988847132,
          65.6859082685618,
          67.76796520480384,
          67.8556344864348,
          67.7862291871866,
          68.28531640984505,
          67.1606327031754,
          67.18265984745054,
          68.03080945875246,
          67.80150164189307,
          66.27307669893575,
          67.32594445194451,
          68.13437086218791,
          67.78090534467641,
          67.64473674006403,
          66.78721302067217,
          66.73804953917357,
          66.12644355047982
         ],
         "xaxis": "x2",
         "y": [
          -5.097358397356363,
          -6.06642016165127,
          -4.979997376573138,
          -4.546486901280631,
          -6.007535401819668,
          -6.84588636293612,
          -5.225564675738978,
          -5.647342276806757,
          -5.7957668088323375,
          -6.166695521110971,
          -5.763110036521587,
          -4.563787597799617,
          -4.495201381857261,
          -5.999747132095195,
          -5.593153227970829,
          -5.932819228703737,
          -6.188374885697782,
          -5.914180799654402,
          -4.94020766319782,
          -5.658753546199883,
          -5.40021193073527,
          -5.185676356256919,
          -6.007304971880155,
          -5.33986254521655,
          -5.909020005584053,
          -5.597962147313039,
          -5.032073070363319,
          -5.38029763485617,
          -5.606355614378536,
          -4.493187982650009,
          -5.3664644873275105,
          -5.090750738279381,
          -6.420253745115929,
          -5.559961148645164,
          -6.042798058459622,
          -5.4996299195138825,
          -5.736634315741371,
          -5.935664196240852,
          -5.165645112000551,
          -4.517245504827687
         ],
         "yaxis": "y2"
        },
        {
         "marker": {
          "color": "crimson",
          "line": {
           "width": 0
          },
          "opacity": 0.8,
          "size": 6,
          "symbol": "circle"
         },
         "mode": "markers",
         "name": "1",
         "type": "scatter",
         "x": [
          -47.55316217005324,
          -47.41807946998893,
          -45.807637300313054,
          -47.312616493339455,
          -46.572427588793865,
          -46.163468433820846,
          -47.111387730317965,
          -46.1607733959625,
          -47.56388563868325,
          -45.635606335703116,
          -46.24563803700398,
          -45.89345241727106,
          -45.57494436683172,
          -47.0125026750992,
          -47.92706194129797,
          -45.05991290625617,
          -47.6816564215634,
          -47.585678433910914,
          -47.947354703948626,
          -46.37352326157399,
          -46.07739757461992,
          -47.586917581682094,
          -47.49749115718014,
          -47.11043355904965,
          -48.046830548388456,
          -47.83720881278185,
          -47.45064328958692,
          -46.56832662538207,
          -47.37230675363837,
          -47.215413461631485,
          -46.61955754658427,
          -47.54684705952461,
          -47.44668058334657,
          -45.88441318965819,
          -48.939380142823246,
          -45.85421613425677,
          -46.90205463602338,
          -47.95552013901875,
          -47.01085910666673,
          -47.266931415050344,
          -43.5401315453371,
          -35.60638196839823
         ],
         "xaxis": "x2",
         "y": [
          -8.077327973378873,
          -8.265138249131157,
          -6.349375555331638,
          -7.895240985548515,
          -9.12576135767612,
          -8.397414791509247,
          -7.566442156406752,
          -6.280013478139352,
          -8.020967806206027,
          -7.760679979057719,
          -6.227261492692566,
          -6.615864040124304,
          -6.287841350509992,
          -6.827901021031042,
          -6.841204678658374,
          -9.767949825366834,
          -6.354818453108263,
          -8.31104238090601,
          -8.677318078748533,
          -7.831663905690156,
          -6.5744127257479885,
          -7.100199657148599,
          -8.06703662670219,
          -7.8501776511257955,
          -6.547268255947918,
          -6.171131164492174,
          -6.930740509499759,
          -10.425440626921892,
          -8.218979541441447,
          -6.570021446567754,
          -7.625828680167159,
          -8.496399534628546,
          -6.821530036692691,
          -7.249556868655171,
          -7.6253963088328796,
          -7.753722061077251,
          -7.4253928612639575,
          -5.812972561652464,
          -6.786441473182796,
          -6.012327345601672,
          1.1569698307813792,
          -9.441006575983424
         ],
         "yaxis": "y2"
        },
        {
         "marker": {
          "color": "darkorange",
          "line": {
           "width": 0
          },
          "opacity": 0.8,
          "size": 6,
          "symbol": "circle"
         },
         "mode": "markers",
         "name": "2",
         "type": "scatter",
         "x": [
          -28.615929025272447,
          -29.513710538654916,
          -28.637312231836088,
          -28.936476008470635,
          -29.421121413493797,
          -28.784350490244687,
          -28.94750225222309,
          -28.404152848336942,
          -29.331536234709343,
          -28.551253001681065,
          -29.324069597288055,
          -28.688872745331548,
          -29.263997804560596,
          -29.975133536495395,
          -28.315371331916985,
          -30.996318583932197,
          -29.694584275360892,
          -29.550164745586248,
          -29.205368251931855,
          -29.10137657082364
         ],
         "xaxis": "x2",
         "y": [
          -11.79347837655771,
          -9.910845496679775,
          -9.758326109666921,
          -10.03224933926008,
          -9.521211117589905,
          -10.923480144244627,
          -9.814217023714603,
          -11.728263933257878,
          -11.318961536844947,
          -12.695448142582064,
          -10.52501135444257,
          -10.028210678729,
          -10.0671342419774,
          -10.542114385278765,
          -11.070792193023939,
          -9.8460067214171,
          -10.183426788122038,
          -8.481376678788896,
          -11.442375151311222,
          -10.512924359757063
         ],
         "yaxis": "y2"
        },
        {
         "marker": {
          "color": "darkblue",
          "line": {
           "width": 0
          },
          "opacity": 0.8,
          "size": 6,
          "symbol": "circle"
         },
         "mode": "markers",
         "name": "3",
         "type": "scatter",
         "x": [
          -16.698024951052606,
          -19.380145221167062,
          -21.1976713941161,
          -28.57217332858859,
          -25.83913084205385
         ],
         "xaxis": "x2",
         "y": [
          -9.480497341165073,
          -8.621477551624901,
          -8.760249825249748,
          -5.80320026510085,
          -9.48456002993238
         ],
         "yaxis": "y2"
        },
        {
         "marker": {
          "color": "darkcyan",
          "line": {
           "width": 0
          },
          "opacity": 0.8,
          "size": 6,
          "symbol": "circle"
         },
         "mode": "markers",
         "name": "4",
         "type": "scatter",
         "x": [
          -0.07973534747533219,
          -3.178533824610399,
          -1.3143198599440786
         ],
         "xaxis": "x2",
         "y": [
          92.53883013411169,
          84.16897264172091,
          94.18454415889427
         ],
         "yaxis": "y2"
        },
        {
         "marker": {
          "color": "darkgoldenrod",
          "line": {
           "width": 0
          },
          "opacity": 0.8,
          "size": 6,
          "symbol": "circle"
         },
         "mode": "markers",
         "name": "5",
         "type": "scatter",
         "x": [
          -8.270734360349723,
          -11.360404593919457,
          -7.3933596743000605
         ],
         "xaxis": "x2",
         "y": [
          80.30287394638952,
          73.13108241697597,
          76.47312710471687
         ],
         "yaxis": "y2"
        },
        {
         "marker": {
          "color": "darkgray",
          "line": {
           "width": 0
          },
          "opacity": 0.8,
          "size": 6,
          "symbol": "circle"
         },
         "mode": "markers",
         "name": "6",
         "type": "scatter",
         "x": [
          -30.53889862358832,
          -35.16701716960612,
          -31.872614033851864,
          -33.763197296050535
         ],
         "xaxis": "x2",
         "y": [
          29.46751290431246,
          13.637720637487183,
          14.597013270092418,
          21.919887679414327
         ],
         "yaxis": "y2"
        },
        {
         "marker": {
          "color": "darkgrey",
          "line": {
           "width": 0
          },
          "opacity": 0.8,
          "size": 6,
          "symbol": "circle"
         },
         "mode": "markers",
         "name": "7",
         "type": "scatter",
         "x": [
          55.03441665611725,
          45.59047905234922
         ],
         "xaxis": "x2",
         "y": [
          3.571063862521488,
          0.6352359882768206
         ],
         "yaxis": "y2"
        },
        {
         "marker": {
          "color": "darkgreen",
          "line": {
           "width": 0
          },
          "opacity": 0.8,
          "size": 6,
          "symbol": "circle"
         },
         "mode": "markers",
         "name": "8",
         "type": "scatter",
         "x": [
          7.059352383591061,
          7.346794104085745
         ],
         "xaxis": "x2",
         "y": [
          9.447494603034878,
          17.177603481981656
         ],
         "yaxis": "y2"
        },
        {
         "marker": {
          "color": "darkkhaki",
          "line": {
           "width": 0
          },
          "opacity": 0.8,
          "size": 6,
          "symbol": "circle"
         },
         "mode": "markers",
         "name": "9",
         "type": "scatter",
         "x": [
          -19.879060811666754,
          -19.65290102138097
         ],
         "xaxis": "x2",
         "y": [
          54.87768953421352,
          53.111296289844454
         ],
         "yaxis": "y2"
        },
        {
         "marker": {
          "color": "darkmagenta",
          "line": {
           "width": 0
          },
          "opacity": 0.8,
          "size": 6,
          "symbol": "circle"
         },
         "mode": "markers",
         "name": "10",
         "type": "scatter",
         "x": [
          22.554380594419687
         ],
         "xaxis": "x2",
         "y": [
          8.604439081064148
         ],
         "yaxis": "y2"
        },
        {
         "marker": {
          "color": "darkolivegreen",
          "line": {
           "width": 0
          },
          "opacity": 0.8,
          "size": 6,
          "symbol": "circle"
         },
         "mode": "markers",
         "name": "11",
         "type": "scatter",
         "x": [
          17.44320492205538
         ],
         "xaxis": "x2",
         "y": [
          -5.160665000607575
         ],
         "yaxis": "y2"
        },
        {
         "marker": {
          "color": "darkorange",
          "line": {
           "width": 0
          },
          "opacity": 0.8,
          "size": 6,
          "symbol": "circle"
         },
         "mode": "markers",
         "name": "12",
         "type": "scatter",
         "x": [
          15.624952123637136
         ],
         "xaxis": "x2",
         "y": [
          25.150359920231804
         ],
         "yaxis": "y2"
        },
        {
         "marker": {
          "color": "darkorchid",
          "line": {
           "width": 0
          },
          "opacity": 0.8,
          "size": 6,
          "symbol": "circle"
         },
         "mode": "markers",
         "name": "13",
         "type": "scatter",
         "x": [
          6.033188916513804
         ],
         "xaxis": "x2",
         "y": [
          -4.940244553432243
         ],
         "yaxis": "y2"
        },
        {
         "marker": {
          "color": "darkred",
          "line": {
           "width": 0
          },
          "opacity": 0.8,
          "size": 6,
          "symbol": "circle"
         },
         "mode": "markers",
         "name": "14",
         "type": "scatter",
         "x": [
          1.0402577861989686
         ],
         "xaxis": "x2",
         "y": [
          33.990403906524925
         ],
         "yaxis": "y2"
        },
        {
         "marker": {
          "color": "darksalmon",
          "line": {
           "width": 0
          },
          "opacity": 0.8,
          "size": 6,
          "symbol": "circle"
         },
         "mode": "markers",
         "name": "15",
         "type": "scatter",
         "x": [
          -5.0082095385815295
         ],
         "xaxis": "x2",
         "y": [
          -8.370388336327148
         ],
         "yaxis": "y2"
        },
        {
         "marker": {
          "color": "darkseagreen",
          "line": {
           "width": 0
          },
          "opacity": 0.8,
          "size": 6,
          "symbol": "circle"
         },
         "mode": "markers",
         "name": "16",
         "type": "scatter",
         "x": [
          -17.77139802774955
         ],
         "xaxis": "x2",
         "y": [
          10.375614225840788
         ],
         "yaxis": "y2"
        }
       ],
       "layout": {
        "annotations": [
         {
          "font": {
           "size": 16
          },
          "showarrow": false,
          "text": "global_pca",
          "x": 0.225,
          "xanchor": "center",
          "xref": "paper",
          "y": 1,
          "yanchor": "bottom",
          "yref": "paper"
         },
         {
          "font": {
           "size": 16
          },
          "showarrow": false,
          "text": "global_pca",
          "x": 0.775,
          "xanchor": "center",
          "xref": "paper",
          "y": 1,
          "yanchor": "bottom",
          "yref": "paper"
         }
        ],
        "height": 500,
        "template": {
         "data": {
          "bar": [
           {
            "error_x": {
             "color": "#2a3f5f"
            },
            "error_y": {
             "color": "#2a3f5f"
            },
            "marker": {
             "line": {
              "color": "#E5ECF6",
              "width": 0.5
             }
            },
            "type": "bar"
           }
          ],
          "barpolar": [
           {
            "marker": {
             "line": {
              "color": "#E5ECF6",
              "width": 0.5
             }
            },
            "type": "barpolar"
           }
          ],
          "carpet": [
           {
            "aaxis": {
             "endlinecolor": "#2a3f5f",
             "gridcolor": "white",
             "linecolor": "white",
             "minorgridcolor": "white",
             "startlinecolor": "#2a3f5f"
            },
            "baxis": {
             "endlinecolor": "#2a3f5f",
             "gridcolor": "white",
             "linecolor": "white",
             "minorgridcolor": "white",
             "startlinecolor": "#2a3f5f"
            },
            "type": "carpet"
           }
          ],
          "choropleth": [
           {
            "colorbar": {
             "outlinewidth": 0,
             "ticks": ""
            },
            "type": "choropleth"
           }
          ],
          "contour": [
           {
            "colorbar": {
             "outlinewidth": 0,
             "ticks": ""
            },
            "colorscale": [
             [
              0,
              "#0d0887"
             ],
             [
              0.1111111111111111,
              "#46039f"
             ],
             [
              0.2222222222222222,
              "#7201a8"
             ],
             [
              0.3333333333333333,
              "#9c179e"
             ],
             [
              0.4444444444444444,
              "#bd3786"
             ],
             [
              0.5555555555555556,
              "#d8576b"
             ],
             [
              0.6666666666666666,
              "#ed7953"
             ],
             [
              0.7777777777777778,
              "#fb9f3a"
             ],
             [
              0.8888888888888888,
              "#fdca26"
             ],
             [
              1,
              "#f0f921"
             ]
            ],
            "type": "contour"
           }
          ],
          "contourcarpet": [
           {
            "colorbar": {
             "outlinewidth": 0,
             "ticks": ""
            },
            "type": "contourcarpet"
           }
          ],
          "heatmap": [
           {
            "colorbar": {
             "outlinewidth": 0,
             "ticks": ""
            },
            "colorscale": [
             [
              0,
              "#0d0887"
             ],
             [
              0.1111111111111111,
              "#46039f"
             ],
             [
              0.2222222222222222,
              "#7201a8"
             ],
             [
              0.3333333333333333,
              "#9c179e"
             ],
             [
              0.4444444444444444,
              "#bd3786"
             ],
             [
              0.5555555555555556,
              "#d8576b"
             ],
             [
              0.6666666666666666,
              "#ed7953"
             ],
             [
              0.7777777777777778,
              "#fb9f3a"
             ],
             [
              0.8888888888888888,
              "#fdca26"
             ],
             [
              1,
              "#f0f921"
             ]
            ],
            "type": "heatmap"
           }
          ],
          "heatmapgl": [
           {
            "colorbar": {
             "outlinewidth": 0,
             "ticks": ""
            },
            "colorscale": [
             [
              0,
              "#0d0887"
             ],
             [
              0.1111111111111111,
              "#46039f"
             ],
             [
              0.2222222222222222,
              "#7201a8"
             ],
             [
              0.3333333333333333,
              "#9c179e"
             ],
             [
              0.4444444444444444,
              "#bd3786"
             ],
             [
              0.5555555555555556,
              "#d8576b"
             ],
             [
              0.6666666666666666,
              "#ed7953"
             ],
             [
              0.7777777777777778,
              "#fb9f3a"
             ],
             [
              0.8888888888888888,
              "#fdca26"
             ],
             [
              1,
              "#f0f921"
             ]
            ],
            "type": "heatmapgl"
           }
          ],
          "histogram": [
           {
            "marker": {
             "colorbar": {
              "outlinewidth": 0,
              "ticks": ""
             }
            },
            "type": "histogram"
           }
          ],
          "histogram2d": [
           {
            "colorbar": {
             "outlinewidth": 0,
             "ticks": ""
            },
            "colorscale": [
             [
              0,
              "#0d0887"
             ],
             [
              0.1111111111111111,
              "#46039f"
             ],
             [
              0.2222222222222222,
              "#7201a8"
             ],
             [
              0.3333333333333333,
              "#9c179e"
             ],
             [
              0.4444444444444444,
              "#bd3786"
             ],
             [
              0.5555555555555556,
              "#d8576b"
             ],
             [
              0.6666666666666666,
              "#ed7953"
             ],
             [
              0.7777777777777778,
              "#fb9f3a"
             ],
             [
              0.8888888888888888,
              "#fdca26"
             ],
             [
              1,
              "#f0f921"
             ]
            ],
            "type": "histogram2d"
           }
          ],
          "histogram2dcontour": [
           {
            "colorbar": {
             "outlinewidth": 0,
             "ticks": ""
            },
            "colorscale": [
             [
              0,
              "#0d0887"
             ],
             [
              0.1111111111111111,
              "#46039f"
             ],
             [
              0.2222222222222222,
              "#7201a8"
             ],
             [
              0.3333333333333333,
              "#9c179e"
             ],
             [
              0.4444444444444444,
              "#bd3786"
             ],
             [
              0.5555555555555556,
              "#d8576b"
             ],
             [
              0.6666666666666666,
              "#ed7953"
             ],
             [
              0.7777777777777778,
              "#fb9f3a"
             ],
             [
              0.8888888888888888,
              "#fdca26"
             ],
             [
              1,
              "#f0f921"
             ]
            ],
            "type": "histogram2dcontour"
           }
          ],
          "mesh3d": [
           {
            "colorbar": {
             "outlinewidth": 0,
             "ticks": ""
            },
            "type": "mesh3d"
           }
          ],
          "parcoords": [
           {
            "line": {
             "colorbar": {
              "outlinewidth": 0,
              "ticks": ""
             }
            },
            "type": "parcoords"
           }
          ],
          "pie": [
           {
            "automargin": true,
            "type": "pie"
           }
          ],
          "scatter": [
           {
            "marker": {
             "colorbar": {
              "outlinewidth": 0,
              "ticks": ""
             }
            },
            "type": "scatter"
           }
          ],
          "scatter3d": [
           {
            "line": {
             "colorbar": {
              "outlinewidth": 0,
              "ticks": ""
             }
            },
            "marker": {
             "colorbar": {
              "outlinewidth": 0,
              "ticks": ""
             }
            },
            "type": "scatter3d"
           }
          ],
          "scattercarpet": [
           {
            "marker": {
             "colorbar": {
              "outlinewidth": 0,
              "ticks": ""
             }
            },
            "type": "scattercarpet"
           }
          ],
          "scattergeo": [
           {
            "marker": {
             "colorbar": {
              "outlinewidth": 0,
              "ticks": ""
             }
            },
            "type": "scattergeo"
           }
          ],
          "scattergl": [
           {
            "marker": {
             "colorbar": {
              "outlinewidth": 0,
              "ticks": ""
             }
            },
            "type": "scattergl"
           }
          ],
          "scattermapbox": [
           {
            "marker": {
             "colorbar": {
              "outlinewidth": 0,
              "ticks": ""
             }
            },
            "type": "scattermapbox"
           }
          ],
          "scatterpolar": [
           {
            "marker": {
             "colorbar": {
              "outlinewidth": 0,
              "ticks": ""
             }
            },
            "type": "scatterpolar"
           }
          ],
          "scatterpolargl": [
           {
            "marker": {
             "colorbar": {
              "outlinewidth": 0,
              "ticks": ""
             }
            },
            "type": "scatterpolargl"
           }
          ],
          "scatterternary": [
           {
            "marker": {
             "colorbar": {
              "outlinewidth": 0,
              "ticks": ""
             }
            },
            "type": "scatterternary"
           }
          ],
          "surface": [
           {
            "colorbar": {
             "outlinewidth": 0,
             "ticks": ""
            },
            "colorscale": [
             [
              0,
              "#0d0887"
             ],
             [
              0.1111111111111111,
              "#46039f"
             ],
             [
              0.2222222222222222,
              "#7201a8"
             ],
             [
              0.3333333333333333,
              "#9c179e"
             ],
             [
              0.4444444444444444,
              "#bd3786"
             ],
             [
              0.5555555555555556,
              "#d8576b"
             ],
             [
              0.6666666666666666,
              "#ed7953"
             ],
             [
              0.7777777777777778,
              "#fb9f3a"
             ],
             [
              0.8888888888888888,
              "#fdca26"
             ],
             [
              1,
              "#f0f921"
             ]
            ],
            "type": "surface"
           }
          ],
          "table": [
           {
            "cells": {
             "fill": {
              "color": "#EBF0F8"
             },
             "line": {
              "color": "white"
             }
            },
            "header": {
             "fill": {
              "color": "#C8D4E3"
             },
             "line": {
              "color": "white"
             }
            },
            "type": "table"
           }
          ]
         },
         "layout": {
          "annotationdefaults": {
           "arrowcolor": "#2a3f5f",
           "arrowhead": 0,
           "arrowwidth": 1
          },
          "coloraxis": {
           "colorbar": {
            "outlinewidth": 0,
            "ticks": ""
           }
          },
          "colorscale": {
           "diverging": [
            [
             0,
             "#8e0152"
            ],
            [
             0.1,
             "#c51b7d"
            ],
            [
             0.2,
             "#de77ae"
            ],
            [
             0.3,
             "#f1b6da"
            ],
            [
             0.4,
             "#fde0ef"
            ],
            [
             0.5,
             "#f7f7f7"
            ],
            [
             0.6,
             "#e6f5d0"
            ],
            [
             0.7,
             "#b8e186"
            ],
            [
             0.8,
             "#7fbc41"
            ],
            [
             0.9,
             "#4d9221"
            ],
            [
             1,
             "#276419"
            ]
           ],
           "sequential": [
            [
             0,
             "#0d0887"
            ],
            [
             0.1111111111111111,
             "#46039f"
            ],
            [
             0.2222222222222222,
             "#7201a8"
            ],
            [
             0.3333333333333333,
             "#9c179e"
            ],
            [
             0.4444444444444444,
             "#bd3786"
            ],
            [
             0.5555555555555556,
             "#d8576b"
            ],
            [
             0.6666666666666666,
             "#ed7953"
            ],
            [
             0.7777777777777778,
             "#fb9f3a"
            ],
            [
             0.8888888888888888,
             "#fdca26"
            ],
            [
             1,
             "#f0f921"
            ]
           ],
           "sequentialminus": [
            [
             0,
             "#0d0887"
            ],
            [
             0.1111111111111111,
             "#46039f"
            ],
            [
             0.2222222222222222,
             "#7201a8"
            ],
            [
             0.3333333333333333,
             "#9c179e"
            ],
            [
             0.4444444444444444,
             "#bd3786"
            ],
            [
             0.5555555555555556,
             "#d8576b"
            ],
            [
             0.6666666666666666,
             "#ed7953"
            ],
            [
             0.7777777777777778,
             "#fb9f3a"
            ],
            [
             0.8888888888888888,
             "#fdca26"
            ],
            [
             1,
             "#f0f921"
            ]
           ]
          },
          "colorway": [
           "#636efa",
           "#EF553B",
           "#00cc96",
           "#ab63fa",
           "#FFA15A",
           "#19d3f3",
           "#FF6692",
           "#B6E880",
           "#FF97FF",
           "#FECB52"
          ],
          "font": {
           "color": "#2a3f5f"
          },
          "geo": {
           "bgcolor": "white",
           "lakecolor": "white",
           "landcolor": "#E5ECF6",
           "showlakes": true,
           "showland": true,
           "subunitcolor": "white"
          },
          "hoverlabel": {
           "align": "left"
          },
          "hovermode": "closest",
          "mapbox": {
           "style": "light"
          },
          "paper_bgcolor": "white",
          "plot_bgcolor": "#E5ECF6",
          "polar": {
           "angularaxis": {
            "gridcolor": "white",
            "linecolor": "white",
            "ticks": ""
           },
           "bgcolor": "#E5ECF6",
           "radialaxis": {
            "gridcolor": "white",
            "linecolor": "white",
            "ticks": ""
           }
          },
          "scene": {
           "xaxis": {
            "backgroundcolor": "#E5ECF6",
            "gridcolor": "white",
            "gridwidth": 2,
            "linecolor": "white",
            "showbackground": true,
            "ticks": "",
            "zerolinecolor": "white"
           },
           "yaxis": {
            "backgroundcolor": "#E5ECF6",
            "gridcolor": "white",
            "gridwidth": 2,
            "linecolor": "white",
            "showbackground": true,
            "ticks": "",
            "zerolinecolor": "white"
           },
           "zaxis": {
            "backgroundcolor": "#E5ECF6",
            "gridcolor": "white",
            "gridwidth": 2,
            "linecolor": "white",
            "showbackground": true,
            "ticks": "",
            "zerolinecolor": "white"
           }
          },
          "shapedefaults": {
           "line": {
            "color": "#2a3f5f"
           }
          },
          "ternary": {
           "aaxis": {
            "gridcolor": "white",
            "linecolor": "white",
            "ticks": ""
           },
           "baxis": {
            "gridcolor": "white",
            "linecolor": "white",
            "ticks": ""
           },
           "bgcolor": "#E5ECF6",
           "caxis": {
            "gridcolor": "white",
            "linecolor": "white",
            "ticks": ""
           }
          },
          "title": {
           "x": 0.05
          },
          "xaxis": {
           "automargin": true,
           "gridcolor": "white",
           "linecolor": "white",
           "ticks": "",
           "title": {
            "standoff": 15
           },
           "zerolinecolor": "white",
           "zerolinewidth": 2
          },
          "yaxis": {
           "automargin": true,
           "gridcolor": "white",
           "linecolor": "white",
           "ticks": "",
           "title": {
            "standoff": 15
           },
           "zerolinecolor": "white",
           "zerolinewidth": 2
          }
         }
        },
        "width": 950,
        "xaxis": {
         "anchor": "y",
         "domain": [
          0,
          0.45
         ],
         "title": {
          "text": "PC1"
         }
        },
        "xaxis2": {
         "anchor": "y2",
         "domain": [
          0.55,
          1
         ],
         "title": {
          "text": "PC1"
         }
        },
        "yaxis": {
         "anchor": "x",
         "domain": [
          0,
          1
         ],
         "title": {
          "text": "PC2"
         }
        },
        "yaxis2": {
         "anchor": "x2",
         "domain": [
          0,
          1
         ],
         "title": {
          "text": "PC3"
         }
        }
       }
      },
      "text/html": [
       "<div>\n",
       "        \n",
       "        \n",
       "            <div id=\"aabf8b6b-c74a-4d77-b3e8-a01d778b0e4a\" class=\"plotly-graph-div\" style=\"height:500px; width:950px;\"></div>\n",
       "            <script type=\"text/javascript\">\n",
       "                require([\"plotly\"], function(Plotly) {\n",
       "                    window.PLOTLYENV=window.PLOTLYENV || {};\n",
       "                    \n",
       "                if (document.getElementById(\"aabf8b6b-c74a-4d77-b3e8-a01d778b0e4a\")) {\n",
       "                    Plotly.newPlot(\n",
       "                        'aabf8b6b-c74a-4d77-b3e8-a01d778b0e4a',\n",
       "                        [{\"marker\": {\"color\": \"darkseagreen\", \"line\": {\"width\": 0}, \"opacity\": 0.8, \"size\": 6, \"symbol\": \"circle\"}, \"mode\": \"markers\", \"name\": \"0\", \"type\": \"scatter\", \"x\": [68.46982880907143, 67.72909588836148, 67.49967217941264, 66.79416045472871, 66.15222349688297, 69.38764359804343, 68.77342020974967, 68.01622649821626, 67.82832275940667, 67.98258544096745, 67.98952654092194, 66.07245333137334, 67.49916073430519, 67.87421030105008, 67.69820548479544, 67.35545741162821, 66.96127747854182, 67.31303582920488, 67.59533061944758, 67.89973700703577, 67.26773501318974, 68.38060103055413, 67.49850988847132, 65.6859082685618, 67.76796520480384, 67.8556344864348, 67.7862291871866, 68.28531640984505, 67.1606327031754, 67.18265984745054, 68.03080945875246, 67.80150164189307, 66.27307669893575, 67.32594445194451, 68.13437086218791, 67.78090534467641, 67.64473674006403, 66.78721302067217, 66.73804953917357, 66.12644355047982], \"xaxis\": \"x\", \"y\": [-4.358157022052609, -3.303631717959737, -4.977944481946232, -3.033933907923152, -3.307081295148049, -4.348760251394461, -4.075205349035241, -4.759658844642429, -4.232902155488079, -4.210798991835077, -5.099173832721062, -4.54262352547337, -4.361405954764429, -4.005600268533232, -4.261681271551311, -3.204186389411857, -4.148330964002099, -3.5920745500479234, -4.098856151930292, -4.973858622841176, -3.663470714193217, -5.186837454369568, -3.3174536786655513, -4.23791228167656, -4.836747989424157, -4.036820229952158, -3.767713644939004, -4.104100855685982, -3.700914352266574, -3.571889524636653, -3.6988294668210218, -3.211288868475992, -3.905141996224073, -4.292875944719124, -3.1058772319034103, -5.067687669169968, -4.166905987056491, -3.8006550686275364, -3.7585210641343534, -3.8300116339394217], \"yaxis\": \"y\"}, {\"marker\": {\"color\": \"crimson\", \"line\": {\"width\": 0}, \"opacity\": 0.8, \"size\": 6, \"symbol\": \"circle\"}, \"mode\": \"markers\", \"name\": \"1\", \"type\": \"scatter\", \"x\": [-47.55316217005324, -47.41807946998893, -45.807637300313054, -47.312616493339455, -46.572427588793865, -46.163468433820846, -47.111387730317965, -46.1607733959625, -47.56388563868325, -45.635606335703116, -46.24563803700398, -45.89345241727106, -45.57494436683172, -47.0125026750992, -47.92706194129797, -45.05991290625617, -47.6816564215634, -47.585678433910914, -47.947354703948626, -46.37352326157399, -46.07739757461992, -47.586917581682094, -47.49749115718014, -47.11043355904965, -48.046830548388456, -47.83720881278185, -47.45064328958692, -46.56832662538207, -47.37230675363837, -47.215413461631485, -46.61955754658427, -47.54684705952461, -47.44668058334657, -45.88441318965819, -48.939380142823246, -45.85421613425677, -46.90205463602338, -47.95552013901875, -47.01085910666673, -47.266931415050344, -43.5401315453371, -35.60638196839823], \"xaxis\": \"x\", \"y\": [-25.126753421225086, -25.06593674483227, -25.674840988789256, -25.61908772647497, -25.14716945181494, -26.725821974099016, -25.68557480348737, -26.022801505909094, -25.932137673552912, -25.3721492698443, -25.392951504418853, -24.892241296716485, -24.903655616137335, -26.116533143883274, -25.1429685024224, -24.91091019405188, -24.48733209552828, -25.17119354468382, -25.645275732387393, -24.666877020474402, -26.196768577844004, -26.306091256168468, -24.82362667448004, -25.372461157522427, -26.434493507515302, -26.238686076779196, -24.092704940734993, -25.003577010874796, -25.31011817313093, -24.520102466387076, -26.002255244296716, -22.717361819249295, -24.627840633838414, -23.869982197485605, -23.347938328528468, -25.199622207138983, -25.09597460785447, -25.482894898114953, -24.71846391781242, -27.098308618294734, -19.92312586590598, -19.61065066253637], \"yaxis\": \"y\"}, {\"marker\": {\"color\": \"darkorange\", \"line\": {\"width\": 0}, \"opacity\": 0.8, \"size\": 6, \"symbol\": \"circle\"}, \"mode\": \"markers\", \"name\": \"2\", \"type\": \"scatter\", \"x\": [-28.615929025272447, -29.513710538654916, -28.637312231836088, -28.936476008470635, -29.421121413493797, -28.784350490244687, -28.94750225222309, -28.404152848336942, -29.331536234709343, -28.551253001681065, -29.324069597288055, -28.688872745331548, -29.263997804560596, -29.975133536495395, -28.315371331916985, -30.996318583932197, -29.694584275360892, -29.550164745586248, -29.205368251931855, -29.10137657082364], \"xaxis\": \"x\", \"y\": [67.09138099136236, 68.7058609063904, 67.89872960801694, 68.5983989891089, 68.6237648655672, 67.89727701583358, 68.71389931530759, 68.11040849718104, 67.98346652062077, 68.65515471888472, 67.77185979812195, 67.96561215374646, 68.97965334309659, 69.28060423850607, 67.64345711036675, 68.606564758695, 68.38610370968564, 69.5720185452198, 68.06572964691838, 69.04814952077271], \"yaxis\": \"y\"}, {\"marker\": {\"color\": \"darkblue\", \"line\": {\"width\": 0}, \"opacity\": 0.8, \"size\": 6, \"symbol\": \"circle\"}, \"mode\": \"markers\", \"name\": \"3\", \"type\": \"scatter\", \"x\": [-16.698024951052606, -19.380145221167062, -21.1976713941161, -28.57217332858859, -25.83913084205385], \"xaxis\": \"x\", \"y\": [-19.512204198190386, -16.930798854690032, -21.450600929360522, -22.589913925436164, -20.629360564209794], \"yaxis\": \"y\"}, {\"marker\": {\"color\": \"darkcyan\", \"line\": {\"width\": 0}, \"opacity\": 0.8, \"size\": 6, \"symbol\": \"circle\"}, \"mode\": \"markers\", \"name\": \"4\", \"type\": \"scatter\", \"x\": [-0.07973534747533219, -3.178533824610399, -1.3143198599440786], \"xaxis\": \"x\", \"y\": [21.223312295753416, 19.91514747739435, 11.923146629457793], \"yaxis\": \"y\"}, {\"marker\": {\"color\": \"darkgoldenrod\", \"line\": {\"width\": 0}, \"opacity\": 0.8, \"size\": 6, \"symbol\": \"circle\"}, \"mode\": \"markers\", \"name\": \"5\", \"type\": \"scatter\", \"x\": [-8.270734360349723, -11.360404593919457, -7.3933596743000605], \"xaxis\": \"x\", \"y\": [5.420973700367017, 10.833936285761208, 4.937313166326023], \"yaxis\": \"y\"}, {\"marker\": {\"color\": \"darkgray\", \"line\": {\"width\": 0}, \"opacity\": 0.8, \"size\": 6, \"symbol\": \"circle\"}, \"mode\": \"markers\", \"name\": \"6\", \"type\": \"scatter\", \"x\": [-30.53889862358832, -35.16701716960612, -31.872614033851864, -33.763197296050535], \"xaxis\": \"x\", \"y\": [-8.222834349977022, -1.899794627568808, -0.19036697185419893, -5.293091320163728], \"yaxis\": \"y\"}, {\"marker\": {\"color\": \"darkgrey\", \"line\": {\"width\": 0}, \"opacity\": 0.8, \"size\": 6, \"symbol\": \"circle\"}, \"mode\": \"markers\", \"name\": \"7\", \"type\": \"scatter\", \"x\": [55.03441665611725, 45.59047905234922], \"xaxis\": \"x\", \"y\": [-3.6539579019191444, -5.894856813621662], \"yaxis\": \"y\"}, {\"marker\": {\"color\": \"darkgreen\", \"line\": {\"width\": 0}, \"opacity\": 0.8, \"size\": 6, \"symbol\": \"circle\"}, \"mode\": \"markers\", \"name\": \"8\", \"type\": \"scatter\", \"x\": [7.059352383591061, 7.346794104085745], \"xaxis\": \"x\", \"y\": [-9.916220768552368, -8.33793119880389], \"yaxis\": \"y\"}, {\"marker\": {\"color\": \"darkkhaki\", \"line\": {\"width\": 0}, \"opacity\": 0.8, \"size\": 6, \"symbol\": \"circle\"}, \"mode\": \"markers\", \"name\": \"9\", \"type\": \"scatter\", \"x\": [-19.879060811666754, -19.65290102138097], \"xaxis\": \"x\", \"y\": [-5.656102054826979, -3.9638641585071164], \"yaxis\": \"y\"}, {\"marker\": {\"color\": \"darkmagenta\", \"line\": {\"width\": 0}, \"opacity\": 0.8, \"size\": 6, \"symbol\": \"circle\"}, \"mode\": \"markers\", \"name\": \"10\", \"type\": \"scatter\", \"x\": [22.554380594419687], \"xaxis\": \"x\", \"y\": [-8.469756629515954], \"yaxis\": \"y\"}, {\"marker\": {\"color\": \"darkolivegreen\", \"line\": {\"width\": 0}, \"opacity\": 0.8, \"size\": 6, \"symbol\": \"circle\"}, \"mode\": \"markers\", \"name\": \"11\", \"type\": \"scatter\", \"x\": [17.44320492205538], \"xaxis\": \"x\", \"y\": [-13.527458740367218], \"yaxis\": \"y\"}, {\"marker\": {\"color\": \"darkorange\", \"line\": {\"width\": 0}, \"opacity\": 0.8, \"size\": 6, \"symbol\": \"circle\"}, \"mode\": \"markers\", \"name\": \"12\", \"type\": \"scatter\", \"x\": [15.624952123637136], \"xaxis\": \"x\", \"y\": [-7.387807097042063], \"yaxis\": \"y\"}, {\"marker\": {\"color\": \"darkorchid\", \"line\": {\"width\": 0}, \"opacity\": 0.8, \"size\": 6, \"symbol\": \"circle\"}, \"mode\": \"markers\", \"name\": \"13\", \"type\": \"scatter\", \"x\": [6.033188916513804], \"xaxis\": \"x\", \"y\": [-11.04959117049801], \"yaxis\": \"y\"}, {\"marker\": {\"color\": \"darkred\", \"line\": {\"width\": 0}, \"opacity\": 0.8, \"size\": 6, \"symbol\": \"circle\"}, \"mode\": \"markers\", \"name\": \"14\", \"type\": \"scatter\", \"x\": [1.0402577861989686], \"xaxis\": \"x\", \"y\": [-3.236788396446656], \"yaxis\": \"y\"}, {\"marker\": {\"color\": \"darksalmon\", \"line\": {\"width\": 0}, \"opacity\": 0.8, \"size\": 6, \"symbol\": \"circle\"}, \"mode\": \"markers\", \"name\": \"15\", \"type\": \"scatter\", \"x\": [-5.0082095385815295], \"xaxis\": \"x\", \"y\": [-17.62062103608718], \"yaxis\": \"y\"}, {\"marker\": {\"color\": \"darkseagreen\", \"line\": {\"width\": 0}, \"opacity\": 0.8, \"size\": 6, \"symbol\": \"circle\"}, \"mode\": \"markers\", \"name\": \"16\", \"type\": \"scatter\", \"x\": [-17.77139802774955], \"xaxis\": \"x\", \"y\": [-14.56521984201391], \"yaxis\": \"y\"}, {\"marker\": {\"color\": \"darkseagreen\", \"line\": {\"width\": 0}, \"opacity\": 0.8, \"size\": 6, \"symbol\": \"circle\"}, \"mode\": \"markers\", \"name\": \"0\", \"type\": \"scatter\", \"x\": [68.46982880907143, 67.72909588836148, 67.49967217941264, 66.79416045472871, 66.15222349688297, 69.38764359804343, 68.77342020974967, 68.01622649821626, 67.82832275940667, 67.98258544096745, 67.98952654092194, 66.07245333137334, 67.49916073430519, 67.87421030105008, 67.69820548479544, 67.35545741162821, 66.96127747854182, 67.31303582920488, 67.59533061944758, 67.89973700703577, 67.26773501318974, 68.38060103055413, 67.49850988847132, 65.6859082685618, 67.76796520480384, 67.8556344864348, 67.7862291871866, 68.28531640984505, 67.1606327031754, 67.18265984745054, 68.03080945875246, 67.80150164189307, 66.27307669893575, 67.32594445194451, 68.13437086218791, 67.78090534467641, 67.64473674006403, 66.78721302067217, 66.73804953917357, 66.12644355047982], \"xaxis\": \"x2\", \"y\": [-5.097358397356363, -6.06642016165127, -4.979997376573138, -4.546486901280631, -6.007535401819668, -6.84588636293612, -5.225564675738978, -5.647342276806757, -5.7957668088323375, -6.166695521110971, -5.763110036521587, -4.563787597799617, -4.495201381857261, -5.999747132095195, -5.593153227970829, -5.932819228703737, -6.188374885697782, -5.914180799654402, -4.94020766319782, -5.658753546199883, -5.40021193073527, -5.185676356256919, -6.007304971880155, -5.33986254521655, -5.909020005584053, -5.597962147313039, -5.032073070363319, -5.38029763485617, -5.606355614378536, -4.493187982650009, -5.3664644873275105, -5.090750738279381, -6.420253745115929, -5.559961148645164, -6.042798058459622, -5.4996299195138825, -5.736634315741371, -5.935664196240852, -5.165645112000551, -4.517245504827687], \"yaxis\": \"y2\"}, {\"marker\": {\"color\": \"crimson\", \"line\": {\"width\": 0}, \"opacity\": 0.8, \"size\": 6, \"symbol\": \"circle\"}, \"mode\": \"markers\", \"name\": \"1\", \"type\": \"scatter\", \"x\": [-47.55316217005324, -47.41807946998893, -45.807637300313054, -47.312616493339455, -46.572427588793865, -46.163468433820846, -47.111387730317965, -46.1607733959625, -47.56388563868325, -45.635606335703116, -46.24563803700398, -45.89345241727106, -45.57494436683172, -47.0125026750992, -47.92706194129797, -45.05991290625617, -47.6816564215634, -47.585678433910914, -47.947354703948626, -46.37352326157399, -46.07739757461992, -47.586917581682094, -47.49749115718014, -47.11043355904965, -48.046830548388456, -47.83720881278185, -47.45064328958692, -46.56832662538207, -47.37230675363837, -47.215413461631485, -46.61955754658427, -47.54684705952461, -47.44668058334657, -45.88441318965819, -48.939380142823246, -45.85421613425677, -46.90205463602338, -47.95552013901875, -47.01085910666673, -47.266931415050344, -43.5401315453371, -35.60638196839823], \"xaxis\": \"x2\", \"y\": [-8.077327973378873, -8.265138249131157, -6.349375555331638, -7.895240985548515, -9.12576135767612, -8.397414791509247, -7.566442156406752, -6.280013478139352, -8.020967806206027, -7.760679979057719, -6.227261492692566, -6.615864040124304, -6.287841350509992, -6.827901021031042, -6.841204678658374, -9.767949825366834, -6.354818453108263, -8.31104238090601, -8.677318078748533, -7.831663905690156, -6.5744127257479885, -7.100199657148599, -8.06703662670219, -7.8501776511257955, -6.547268255947918, -6.171131164492174, -6.930740509499759, -10.425440626921892, -8.218979541441447, -6.570021446567754, -7.625828680167159, -8.496399534628546, -6.821530036692691, -7.249556868655171, -7.6253963088328796, -7.753722061077251, -7.4253928612639575, -5.812972561652464, -6.786441473182796, -6.012327345601672, 1.1569698307813792, -9.441006575983424], \"yaxis\": \"y2\"}, {\"marker\": {\"color\": \"darkorange\", \"line\": {\"width\": 0}, \"opacity\": 0.8, \"size\": 6, \"symbol\": \"circle\"}, \"mode\": \"markers\", \"name\": \"2\", \"type\": \"scatter\", \"x\": [-28.615929025272447, -29.513710538654916, -28.637312231836088, -28.936476008470635, -29.421121413493797, -28.784350490244687, -28.94750225222309, -28.404152848336942, -29.331536234709343, -28.551253001681065, -29.324069597288055, -28.688872745331548, -29.263997804560596, -29.975133536495395, -28.315371331916985, -30.996318583932197, -29.694584275360892, -29.550164745586248, -29.205368251931855, -29.10137657082364], \"xaxis\": \"x2\", \"y\": [-11.79347837655771, -9.910845496679775, -9.758326109666921, -10.03224933926008, -9.521211117589905, -10.923480144244627, -9.814217023714603, -11.728263933257878, -11.318961536844947, -12.695448142582064, -10.52501135444257, -10.028210678729, -10.0671342419774, -10.542114385278765, -11.070792193023939, -9.8460067214171, -10.183426788122038, -8.481376678788896, -11.442375151311222, -10.512924359757063], \"yaxis\": \"y2\"}, {\"marker\": {\"color\": \"darkblue\", \"line\": {\"width\": 0}, \"opacity\": 0.8, \"size\": 6, \"symbol\": \"circle\"}, \"mode\": \"markers\", \"name\": \"3\", \"type\": \"scatter\", \"x\": [-16.698024951052606, -19.380145221167062, -21.1976713941161, -28.57217332858859, -25.83913084205385], \"xaxis\": \"x2\", \"y\": [-9.480497341165073, -8.621477551624901, -8.760249825249748, -5.80320026510085, -9.48456002993238], \"yaxis\": \"y2\"}, {\"marker\": {\"color\": \"darkcyan\", \"line\": {\"width\": 0}, \"opacity\": 0.8, \"size\": 6, \"symbol\": \"circle\"}, \"mode\": \"markers\", \"name\": \"4\", \"type\": \"scatter\", \"x\": [-0.07973534747533219, -3.178533824610399, -1.3143198599440786], \"xaxis\": \"x2\", \"y\": [92.53883013411169, 84.16897264172091, 94.18454415889427], \"yaxis\": \"y2\"}, {\"marker\": {\"color\": \"darkgoldenrod\", \"line\": {\"width\": 0}, \"opacity\": 0.8, \"size\": 6, \"symbol\": \"circle\"}, \"mode\": \"markers\", \"name\": \"5\", \"type\": \"scatter\", \"x\": [-8.270734360349723, -11.360404593919457, -7.3933596743000605], \"xaxis\": \"x2\", \"y\": [80.30287394638952, 73.13108241697597, 76.47312710471687], \"yaxis\": \"y2\"}, {\"marker\": {\"color\": \"darkgray\", \"line\": {\"width\": 0}, \"opacity\": 0.8, \"size\": 6, \"symbol\": \"circle\"}, \"mode\": \"markers\", \"name\": \"6\", \"type\": \"scatter\", \"x\": [-30.53889862358832, -35.16701716960612, -31.872614033851864, -33.763197296050535], \"xaxis\": \"x2\", \"y\": [29.46751290431246, 13.637720637487183, 14.597013270092418, 21.919887679414327], \"yaxis\": \"y2\"}, {\"marker\": {\"color\": \"darkgrey\", \"line\": {\"width\": 0}, \"opacity\": 0.8, \"size\": 6, \"symbol\": \"circle\"}, \"mode\": \"markers\", \"name\": \"7\", \"type\": \"scatter\", \"x\": [55.03441665611725, 45.59047905234922], \"xaxis\": \"x2\", \"y\": [3.571063862521488, 0.6352359882768206], \"yaxis\": \"y2\"}, {\"marker\": {\"color\": \"darkgreen\", \"line\": {\"width\": 0}, \"opacity\": 0.8, \"size\": 6, \"symbol\": \"circle\"}, \"mode\": \"markers\", \"name\": \"8\", \"type\": \"scatter\", \"x\": [7.059352383591061, 7.346794104085745], \"xaxis\": \"x2\", \"y\": [9.447494603034878, 17.177603481981656], \"yaxis\": \"y2\"}, {\"marker\": {\"color\": \"darkkhaki\", \"line\": {\"width\": 0}, \"opacity\": 0.8, \"size\": 6, \"symbol\": \"circle\"}, \"mode\": \"markers\", \"name\": \"9\", \"type\": \"scatter\", \"x\": [-19.879060811666754, -19.65290102138097], \"xaxis\": \"x2\", \"y\": [54.87768953421352, 53.111296289844454], \"yaxis\": \"y2\"}, {\"marker\": {\"color\": \"darkmagenta\", \"line\": {\"width\": 0}, \"opacity\": 0.8, \"size\": 6, \"symbol\": \"circle\"}, \"mode\": \"markers\", \"name\": \"10\", \"type\": \"scatter\", \"x\": [22.554380594419687], \"xaxis\": \"x2\", \"y\": [8.604439081064148], \"yaxis\": \"y2\"}, {\"marker\": {\"color\": \"darkolivegreen\", \"line\": {\"width\": 0}, \"opacity\": 0.8, \"size\": 6, \"symbol\": \"circle\"}, \"mode\": \"markers\", \"name\": \"11\", \"type\": \"scatter\", \"x\": [17.44320492205538], \"xaxis\": \"x2\", \"y\": [-5.160665000607575], \"yaxis\": \"y2\"}, {\"marker\": {\"color\": \"darkorange\", \"line\": {\"width\": 0}, \"opacity\": 0.8, \"size\": 6, \"symbol\": \"circle\"}, \"mode\": \"markers\", \"name\": \"12\", \"type\": \"scatter\", \"x\": [15.624952123637136], \"xaxis\": \"x2\", \"y\": [25.150359920231804], \"yaxis\": \"y2\"}, {\"marker\": {\"color\": \"darkorchid\", \"line\": {\"width\": 0}, \"opacity\": 0.8, \"size\": 6, \"symbol\": \"circle\"}, \"mode\": \"markers\", \"name\": \"13\", \"type\": \"scatter\", \"x\": [6.033188916513804], \"xaxis\": \"x2\", \"y\": [-4.940244553432243], \"yaxis\": \"y2\"}, {\"marker\": {\"color\": \"darkred\", \"line\": {\"width\": 0}, \"opacity\": 0.8, \"size\": 6, \"symbol\": \"circle\"}, \"mode\": \"markers\", \"name\": \"14\", \"type\": \"scatter\", \"x\": [1.0402577861989686], \"xaxis\": \"x2\", \"y\": [33.990403906524925], \"yaxis\": \"y2\"}, {\"marker\": {\"color\": \"darksalmon\", \"line\": {\"width\": 0}, \"opacity\": 0.8, \"size\": 6, \"symbol\": \"circle\"}, \"mode\": \"markers\", \"name\": \"15\", \"type\": \"scatter\", \"x\": [-5.0082095385815295], \"xaxis\": \"x2\", \"y\": [-8.370388336327148], \"yaxis\": \"y2\"}, {\"marker\": {\"color\": \"darkseagreen\", \"line\": {\"width\": 0}, \"opacity\": 0.8, \"size\": 6, \"symbol\": \"circle\"}, \"mode\": \"markers\", \"name\": \"16\", \"type\": \"scatter\", \"x\": [-17.77139802774955], \"xaxis\": \"x2\", \"y\": [10.375614225840788], \"yaxis\": \"y2\"}],\n",
       "                        {\"annotations\": [{\"font\": {\"size\": 16}, \"showarrow\": false, \"text\": \"global_pca\", \"x\": 0.225, \"xanchor\": \"center\", \"xref\": \"paper\", \"y\": 1.0, \"yanchor\": \"bottom\", \"yref\": \"paper\"}, {\"font\": {\"size\": 16}, \"showarrow\": false, \"text\": \"global_pca\", \"x\": 0.775, \"xanchor\": \"center\", \"xref\": \"paper\", \"y\": 1.0, \"yanchor\": \"bottom\", \"yref\": \"paper\"}], \"height\": 500, \"template\": {\"data\": {\"bar\": [{\"error_x\": {\"color\": \"#2a3f5f\"}, \"error_y\": {\"color\": \"#2a3f5f\"}, \"marker\": {\"line\": {\"color\": \"#E5ECF6\", \"width\": 0.5}}, \"type\": \"bar\"}], \"barpolar\": [{\"marker\": {\"line\": {\"color\": \"#E5ECF6\", \"width\": 0.5}}, \"type\": \"barpolar\"}], \"carpet\": [{\"aaxis\": {\"endlinecolor\": \"#2a3f5f\", \"gridcolor\": \"white\", \"linecolor\": \"white\", \"minorgridcolor\": \"white\", \"startlinecolor\": \"#2a3f5f\"}, \"baxis\": {\"endlinecolor\": \"#2a3f5f\", \"gridcolor\": \"white\", \"linecolor\": \"white\", \"minorgridcolor\": \"white\", \"startlinecolor\": \"#2a3f5f\"}, \"type\": \"carpet\"}], \"choropleth\": [{\"colorbar\": {\"outlinewidth\": 0, \"ticks\": \"\"}, \"type\": \"choropleth\"}], \"contour\": [{\"colorbar\": {\"outlinewidth\": 0, \"ticks\": \"\"}, \"colorscale\": [[0.0, \"#0d0887\"], [0.1111111111111111, \"#46039f\"], [0.2222222222222222, \"#7201a8\"], [0.3333333333333333, \"#9c179e\"], [0.4444444444444444, \"#bd3786\"], [0.5555555555555556, \"#d8576b\"], [0.6666666666666666, \"#ed7953\"], [0.7777777777777778, \"#fb9f3a\"], [0.8888888888888888, \"#fdca26\"], [1.0, \"#f0f921\"]], \"type\": \"contour\"}], \"contourcarpet\": [{\"colorbar\": {\"outlinewidth\": 0, \"ticks\": \"\"}, \"type\": \"contourcarpet\"}], \"heatmap\": [{\"colorbar\": {\"outlinewidth\": 0, \"ticks\": \"\"}, \"colorscale\": [[0.0, \"#0d0887\"], [0.1111111111111111, \"#46039f\"], [0.2222222222222222, \"#7201a8\"], [0.3333333333333333, \"#9c179e\"], [0.4444444444444444, \"#bd3786\"], [0.5555555555555556, \"#d8576b\"], [0.6666666666666666, \"#ed7953\"], [0.7777777777777778, \"#fb9f3a\"], [0.8888888888888888, \"#fdca26\"], [1.0, \"#f0f921\"]], \"type\": \"heatmap\"}], \"heatmapgl\": [{\"colorbar\": {\"outlinewidth\": 0, \"ticks\": \"\"}, \"colorscale\": [[0.0, \"#0d0887\"], [0.1111111111111111, \"#46039f\"], [0.2222222222222222, \"#7201a8\"], [0.3333333333333333, \"#9c179e\"], [0.4444444444444444, \"#bd3786\"], [0.5555555555555556, \"#d8576b\"], [0.6666666666666666, \"#ed7953\"], [0.7777777777777778, \"#fb9f3a\"], [0.8888888888888888, \"#fdca26\"], [1.0, \"#f0f921\"]], \"type\": \"heatmapgl\"}], \"histogram\": [{\"marker\": {\"colorbar\": {\"outlinewidth\": 0, \"ticks\": \"\"}}, \"type\": \"histogram\"}], \"histogram2d\": [{\"colorbar\": {\"outlinewidth\": 0, \"ticks\": \"\"}, \"colorscale\": [[0.0, \"#0d0887\"], [0.1111111111111111, \"#46039f\"], [0.2222222222222222, \"#7201a8\"], [0.3333333333333333, \"#9c179e\"], [0.4444444444444444, \"#bd3786\"], [0.5555555555555556, \"#d8576b\"], [0.6666666666666666, \"#ed7953\"], [0.7777777777777778, \"#fb9f3a\"], [0.8888888888888888, \"#fdca26\"], [1.0, \"#f0f921\"]], \"type\": \"histogram2d\"}], \"histogram2dcontour\": [{\"colorbar\": {\"outlinewidth\": 0, \"ticks\": \"\"}, \"colorscale\": [[0.0, \"#0d0887\"], [0.1111111111111111, \"#46039f\"], [0.2222222222222222, \"#7201a8\"], [0.3333333333333333, \"#9c179e\"], [0.4444444444444444, \"#bd3786\"], [0.5555555555555556, \"#d8576b\"], [0.6666666666666666, \"#ed7953\"], [0.7777777777777778, \"#fb9f3a\"], [0.8888888888888888, \"#fdca26\"], [1.0, \"#f0f921\"]], \"type\": \"histogram2dcontour\"}], \"mesh3d\": [{\"colorbar\": {\"outlinewidth\": 0, \"ticks\": \"\"}, \"type\": \"mesh3d\"}], \"parcoords\": [{\"line\": {\"colorbar\": {\"outlinewidth\": 0, \"ticks\": \"\"}}, \"type\": \"parcoords\"}], \"pie\": [{\"automargin\": true, \"type\": \"pie\"}], \"scatter\": [{\"marker\": {\"colorbar\": {\"outlinewidth\": 0, \"ticks\": \"\"}}, \"type\": \"scatter\"}], \"scatter3d\": [{\"line\": {\"colorbar\": {\"outlinewidth\": 0, \"ticks\": \"\"}}, \"marker\": {\"colorbar\": {\"outlinewidth\": 0, \"ticks\": \"\"}}, \"type\": \"scatter3d\"}], \"scattercarpet\": [{\"marker\": {\"colorbar\": {\"outlinewidth\": 0, \"ticks\": \"\"}}, \"type\": \"scattercarpet\"}], \"scattergeo\": [{\"marker\": {\"colorbar\": {\"outlinewidth\": 0, \"ticks\": \"\"}}, \"type\": \"scattergeo\"}], \"scattergl\": [{\"marker\": {\"colorbar\": {\"outlinewidth\": 0, \"ticks\": \"\"}}, \"type\": \"scattergl\"}], \"scattermapbox\": [{\"marker\": {\"colorbar\": {\"outlinewidth\": 0, \"ticks\": \"\"}}, \"type\": \"scattermapbox\"}], \"scatterpolar\": [{\"marker\": {\"colorbar\": {\"outlinewidth\": 0, \"ticks\": \"\"}}, \"type\": \"scatterpolar\"}], \"scatterpolargl\": [{\"marker\": {\"colorbar\": {\"outlinewidth\": 0, \"ticks\": \"\"}}, \"type\": \"scatterpolargl\"}], \"scatterternary\": [{\"marker\": {\"colorbar\": {\"outlinewidth\": 0, \"ticks\": \"\"}}, \"type\": \"scatterternary\"}], \"surface\": [{\"colorbar\": {\"outlinewidth\": 0, \"ticks\": \"\"}, \"colorscale\": [[0.0, \"#0d0887\"], [0.1111111111111111, \"#46039f\"], [0.2222222222222222, \"#7201a8\"], [0.3333333333333333, \"#9c179e\"], [0.4444444444444444, \"#bd3786\"], [0.5555555555555556, \"#d8576b\"], [0.6666666666666666, \"#ed7953\"], [0.7777777777777778, \"#fb9f3a\"], [0.8888888888888888, \"#fdca26\"], [1.0, \"#f0f921\"]], \"type\": \"surface\"}], \"table\": [{\"cells\": {\"fill\": {\"color\": \"#EBF0F8\"}, \"line\": {\"color\": \"white\"}}, \"header\": {\"fill\": {\"color\": \"#C8D4E3\"}, \"line\": {\"color\": \"white\"}}, \"type\": \"table\"}]}, \"layout\": {\"annotationdefaults\": {\"arrowcolor\": \"#2a3f5f\", \"arrowhead\": 0, \"arrowwidth\": 1}, \"coloraxis\": {\"colorbar\": {\"outlinewidth\": 0, \"ticks\": \"\"}}, \"colorscale\": {\"diverging\": [[0, \"#8e0152\"], [0.1, \"#c51b7d\"], [0.2, \"#de77ae\"], [0.3, \"#f1b6da\"], [0.4, \"#fde0ef\"], [0.5, \"#f7f7f7\"], [0.6, \"#e6f5d0\"], [0.7, \"#b8e186\"], [0.8, \"#7fbc41\"], [0.9, \"#4d9221\"], [1, \"#276419\"]], \"sequential\": [[0.0, \"#0d0887\"], [0.1111111111111111, \"#46039f\"], [0.2222222222222222, \"#7201a8\"], [0.3333333333333333, \"#9c179e\"], [0.4444444444444444, \"#bd3786\"], [0.5555555555555556, \"#d8576b\"], [0.6666666666666666, \"#ed7953\"], [0.7777777777777778, \"#fb9f3a\"], [0.8888888888888888, \"#fdca26\"], [1.0, \"#f0f921\"]], \"sequentialminus\": [[0.0, \"#0d0887\"], [0.1111111111111111, \"#46039f\"], [0.2222222222222222, \"#7201a8\"], [0.3333333333333333, \"#9c179e\"], [0.4444444444444444, \"#bd3786\"], [0.5555555555555556, \"#d8576b\"], [0.6666666666666666, \"#ed7953\"], [0.7777777777777778, \"#fb9f3a\"], [0.8888888888888888, \"#fdca26\"], [1.0, \"#f0f921\"]]}, \"colorway\": [\"#636efa\", \"#EF553B\", \"#00cc96\", \"#ab63fa\", \"#FFA15A\", \"#19d3f3\", \"#FF6692\", \"#B6E880\", \"#FF97FF\", \"#FECB52\"], \"font\": {\"color\": \"#2a3f5f\"}, \"geo\": {\"bgcolor\": \"white\", \"lakecolor\": \"white\", \"landcolor\": \"#E5ECF6\", \"showlakes\": true, \"showland\": true, \"subunitcolor\": \"white\"}, \"hoverlabel\": {\"align\": \"left\"}, \"hovermode\": \"closest\", \"mapbox\": {\"style\": \"light\"}, \"paper_bgcolor\": \"white\", \"plot_bgcolor\": \"#E5ECF6\", \"polar\": {\"angularaxis\": {\"gridcolor\": \"white\", \"linecolor\": \"white\", \"ticks\": \"\"}, \"bgcolor\": \"#E5ECF6\", \"radialaxis\": {\"gridcolor\": \"white\", \"linecolor\": \"white\", \"ticks\": \"\"}}, \"scene\": {\"xaxis\": {\"backgroundcolor\": \"#E5ECF6\", \"gridcolor\": \"white\", \"gridwidth\": 2, \"linecolor\": \"white\", \"showbackground\": true, \"ticks\": \"\", \"zerolinecolor\": \"white\"}, \"yaxis\": {\"backgroundcolor\": \"#E5ECF6\", \"gridcolor\": \"white\", \"gridwidth\": 2, \"linecolor\": \"white\", \"showbackground\": true, \"ticks\": \"\", \"zerolinecolor\": \"white\"}, \"zaxis\": {\"backgroundcolor\": \"#E5ECF6\", \"gridcolor\": \"white\", \"gridwidth\": 2, \"linecolor\": \"white\", \"showbackground\": true, \"ticks\": \"\", \"zerolinecolor\": \"white\"}}, \"shapedefaults\": {\"line\": {\"color\": \"#2a3f5f\"}}, \"ternary\": {\"aaxis\": {\"gridcolor\": \"white\", \"linecolor\": \"white\", \"ticks\": \"\"}, \"baxis\": {\"gridcolor\": \"white\", \"linecolor\": \"white\", \"ticks\": \"\"}, \"bgcolor\": \"#E5ECF6\", \"caxis\": {\"gridcolor\": \"white\", \"linecolor\": \"white\", \"ticks\": \"\"}}, \"title\": {\"x\": 0.05}, \"xaxis\": {\"automargin\": true, \"gridcolor\": \"white\", \"linecolor\": \"white\", \"ticks\": \"\", \"title\": {\"standoff\": 15}, \"zerolinecolor\": \"white\", \"zerolinewidth\": 2}, \"yaxis\": {\"automargin\": true, \"gridcolor\": \"white\", \"linecolor\": \"white\", \"ticks\": \"\", \"title\": {\"standoff\": 15}, \"zerolinecolor\": \"white\", \"zerolinewidth\": 2}}}, \"width\": 950, \"xaxis\": {\"anchor\": \"y\", \"domain\": [0.0, 0.45], \"title\": {\"text\": \"PC1\"}}, \"xaxis2\": {\"anchor\": \"y2\", \"domain\": [0.55, 1.0], \"title\": {\"text\": \"PC1\"}}, \"yaxis\": {\"anchor\": \"x\", \"domain\": [0.0, 1.0], \"title\": {\"text\": \"PC2\"}}, \"yaxis2\": {\"anchor\": \"x2\", \"domain\": [0.0, 1.0], \"title\": {\"text\": \"PC3\"}}},\n",
       "                        {\"responsive\": true}\n",
       "                    ).then(function(){\n",
       "                            \n",
       "var gd = document.getElementById('aabf8b6b-c74a-4d77-b3e8-a01d778b0e4a');\n",
       "var x = new MutationObserver(function (mutations, observer) {{\n",
       "        var display = window.getComputedStyle(gd).display;\n",
       "        if (!display || display === 'none') {{\n",
       "            console.log([gd, 'removed!']);\n",
       "            Plotly.purge(gd);\n",
       "            observer.disconnect();\n",
       "        }}\n",
       "}});\n",
       "\n",
       "// Listen for the removal of the full notebook cells\n",
       "var notebookContainer = gd.closest('#notebook-container');\n",
       "if (notebookContainer) {{\n",
       "    x.observe(notebookContainer, {childList: true});\n",
       "}}\n",
       "\n",
       "// Listen for the clearing of the current output cell\n",
       "var outputEl = gd.closest('.output');\n",
       "if (outputEl) {{\n",
       "    x.observe(outputEl, {childList: true});\n",
       "}}\n",
       "\n",
       "                        })\n",
       "                };\n",
       "                });\n",
       "            </script>\n",
       "        </div>"
      ]
     },
     "metadata": {},
     "output_type": "display_data"
    }
   ],
   "source": [
    "###\n",
    "plot_global_pca(feats,label_select,PCA_color_ref,title= 'global_pca',height= 500,width= 950)"
   ]
  },
  {
   "cell_type": "code",
   "execution_count": 7,
   "metadata": {},
   "outputs": [],
   "source": [
    "select_refs= [0,1,2]\n",
    "label_vector= [[len(select_refs),labels1[x]][int(labels1[x] in select_refs)] for x in range(genotype.shape[0])]\n",
    "\n",
    "Whose= list(range(genotype.shape[0]))\n"
   ]
  },
  {
   "cell_type": "markdown",
   "metadata": {},
   "source": [
    "## Imputation\n",
    "\n",
    "### Creating a matrix, introducing missing values\n",
    "\n",
    "\n",
    "Single missing observation is introduced to a sample `nanObs`. Dimensionality reduction is applied to feature windows to generate a profile of distances between the `nanObs` and other samples. feature windows are selected randomly across the vcf, are free of missing data. \n",
    "\n",
    "For this notebook we will also keep window size constant. \n",
    "\n",
    "\n",
    "### I. nan_observation\n"
   ]
  },
  {
   "cell_type": "code",
   "execution_count": 49,
   "metadata": {},
   "outputs": [
    {
     "name": "stdout",
     "output_type": "stream",
     "text": [
      "full data set shape: (130, 40000)\n",
      "[[  108 27702]]\n"
     ]
    }
   ],
   "source": [
    "print('full data set shape: {}'.format(genotype.shape))\n",
    "\n",
    "nan_n= 1\n",
    "\n",
    "xnan= np.random.randint(0,genotype.shape[1],size= nan_n)\n",
    "ynan= np.random.randint(0,genotype.shape[0],size= nan_n)\n",
    "\n",
    "nan_coords= [ynan,xnan]\n",
    "nan_coords= np.array(nan_coords).T\n",
    "\n",
    "print(nan_coords)\n"
   ]
  },
  {
   "cell_type": "markdown",
   "metadata": {},
   "source": [
    "### Distance profiles.\n",
    "\n",
    "for a single nan value, selected using `nan_idx` from the list `nan_coords` above.\n",
    "\n",
    "define window size `wind_sizes` and number of windows `Nreps`. \n",
    "\n",
    "This version of the approach is calculating distances in feature space, following dimensionality redution (Dr). PCA is used here. \n",
    "\n",
    "Define:\n",
    "- `ncomps` : the number of dimensions to retain during Dr. \n",
    "- `dimN`: number of dimensions used to perfiorm distance calculations.\n",
    "- `metric`: metric to use in distance calculations. default= eucledian. \n",
    "\n"
   ]
  },
  {
   "cell_type": "code",
   "execution_count": 50,
   "metadata": {},
   "outputs": [
    {
     "data": {
      "text/plain": [
       "(400, 129)"
      ]
     },
     "execution_count": 50,
     "metadata": {},
     "output_type": "execute_result"
    }
   ],
   "source": [
    "from impute_tools.impute_tools import rand_wdDist\n",
    "\n",
    "nan_idx= 0\n",
    "nan_obs= nan_coords[nan_idx]\n",
    "nan_acc= nan_obs[0]\n",
    "nan_pos= nan_obs[1]\n",
    "\n",
    "wind_sizes= 100\n",
    "Nreps= 400\n",
    "ncomps= 5\n",
    "dimN= 2\n",
    "metric= 'euclidean'\n",
    "\n",
    "dist_store= rand_wdDist(genotype, nan_coords,\n",
    "               wind_sizes= 100,\n",
    "                Nreps= 400,\n",
    "                ncomps= 5,\n",
    "                dimN= 2,\n",
    "                metric= 'euclidean')\n",
    "dist_store.shape"
   ]
  },
  {
   "cell_type": "markdown",
   "metadata": {},
   "source": [
    "### Distance summary stats\n",
    "\n",
    "#### A. observation distance variance."
   ]
  },
  {
   "cell_type": "code",
   "execution_count": 51,
   "metadata": {},
   "outputs": [
    {
     "data": {
      "application/vnd.plotly.v1+json": {
       "config": {
        "linkText": "Export to plot.ly",
        "plotlyServerURL": "https://plot.ly",
        "showLink": false
       },
       "data": [
        {
         "type": "bar",
         "x": [
          "pop1_0",
          "pop1_1",
          "pop1_2",
          "pop1_3",
          "pop1_4",
          "pop1_5",
          "pop1_6",
          "pop1_7",
          "pop1_8",
          "pop1_9",
          "pop1_10",
          "pop1_11",
          "pop1_12",
          "pop1_13",
          "pop1_14",
          "pop1_15",
          "pop1_16",
          "pop1_17",
          "pop1_18",
          "pop1_19",
          "pop1_20",
          "pop1_21",
          "pop1_22",
          "pop1_23",
          "pop1_24",
          "pop1_25",
          "pop1_26",
          "pop1_27",
          "pop1_28",
          "pop1_29",
          "pop1_30",
          "pop1_31",
          "pop1_32",
          "pop1_33",
          "pop1_34",
          "pop1_35",
          "pop1_36",
          "pop1_37",
          "pop1_38",
          "pop1_39",
          "pop2_40",
          "pop2_41",
          "pop2_42",
          "pop2_43",
          "pop2_44",
          "pop2_45",
          "pop2_46",
          "pop2_47",
          "pop2_48",
          "pop2_49",
          "pop2_50",
          "pop2_51",
          "pop2_52",
          "pop2_53",
          "pop2_54",
          "pop2_55",
          "pop2_56",
          "pop2_57",
          "pop2_58",
          "pop2_59",
          "pop0_60",
          "pop0_61",
          "pop0_62",
          "pop0_63",
          "pop0_64",
          "pop0_65",
          "pop0_66",
          "pop0_67",
          "pop0_68",
          "pop0_69",
          "pop0_70",
          "pop0_71",
          "pop0_72",
          "pop0_73",
          "pop0_74",
          "pop0_75",
          "pop0_76",
          "pop0_77",
          "pop0_78",
          "pop0_79",
          "pop0_80",
          "pop0_81",
          "pop0_82",
          "pop0_83",
          "pop0_84",
          "pop0_85",
          "pop0_86",
          "pop0_87",
          "pop0_88",
          "pop0_89",
          "pop0_90",
          "pop0_91",
          "pop0_92",
          "pop0_93",
          "pop0_94",
          "pop0_95",
          "pop0_96",
          "pop0_97",
          "pop0_98",
          "pop0_99",
          "pop3_100",
          "pop3_101",
          "pop3_102",
          "pop3_103",
          "pop3_104",
          "pop3_105",
          "pop3_106",
          "pop3_107",
          "pop3_108",
          "pop3_109",
          "pop3_110",
          "pop3_111",
          "pop3_112",
          "pop3_113",
          "pop3_114",
          "pop3_115",
          "pop3_116",
          "pop3_117",
          "pop3_118",
          "pop3_119",
          "pop3_120",
          "pop3_121",
          "pop3_122",
          "pop3_123",
          "pop3_124",
          "pop1_125",
          "pop3_126",
          "pop3_127",
          "pop1_128",
          "pop3_129"
         ],
         "y": [
          2.794520659106957,
          2.7216690140660025,
          2.55157111928349,
          2.7306157411071195,
          2.6932954836960086,
          2.463840473276254,
          2.7864302765503397,
          2.635908301870794,
          2.4564492558497015,
          2.6448439603400904,
          2.8235892032940217,
          2.5849368955495913,
          2.855668413050938,
          2.4043932374229904,
          2.9259812076233533,
          2.5822206306705,
          2.8576484328183467,
          2.791146987412962,
          2.8770521980463215,
          2.4887794704142925,
          2.702208649462859,
          2.6770329221767457,
          2.7853048911055134,
          2.9023050663902215,
          2.6830970421144764,
          2.5030599019473194,
          2.7218099127109725,
          2.6177025226412662,
          2.773488282279066,
          2.883696636520889,
          2.5623324860950834,
          2.4252775218446523,
          2.342335997333095,
          2.842146385473864,
          2.659117363610933,
          2.6896602179148656,
          2.4115086615690955,
          2.7478775950501007,
          2.676740652790771,
          2.785998806032045,
          2.1348137625295265,
          1.9973786288774362,
          2.0699589745702993,
          2.332275627415582,
          2.0973462535011578,
          2.190340346077023,
          2.286291239595226,
          2.0390571975421095,
          1.9686514169671367,
          2.4066216729514527,
          2.2103141160609168,
          2.006870791964054,
          2.227331946792572,
          2.1614823864584376,
          2.095307116388071,
          2.123320662525041,
          1.966904583992109,
          2.1181533648644715,
          1.988368469303916,
          2.080608740800081,
          2.1236565475827067,
          2.0041459479475,
          1.9869552933058412,
          2.0131475923407374,
          2.2272304847156628,
          2.3827757429985,
          2.1790681460565975,
          2.2921452259736497,
          1.9963728158928116,
          2.1091681857476923,
          1.9341616890094881,
          2.324805136035691,
          2.2820780558485705,
          1.9953927734459147,
          2.257736763606936,
          2.012793622970389,
          2.061078177822361,
          2.3902949222893883,
          2.0662079859381777,
          1.8245315729088132,
          2.0623816649587092,
          2.197911567977726,
          2.089605732429643,
          2.0945169240974773,
          1.974508303170974,
          2.1940100654277743,
          2.2166108736264576,
          1.9281599037560238,
          1.926932052742043,
          2.0063591149848814,
          2.193158978761588,
          2.0574697412252174,
          2.0636459526571103,
          2.194901377020016,
          2.2787298901395245,
          2.035726712690764,
          1.9931224187555836,
          2.0333071049418887,
          2.0266034646356186,
          1.9831964255148637,
          2.1596805869902207,
          2.428159190490967,
          2.2188147867721146,
          2.9437402405742534,
          2.741170851045744,
          3.192333604335133,
          2.1887850029364087,
          2.550091439926508,
          2.6306913930221625,
          2.7588850367145517,
          2.274387397688422,
          2.922873429514319,
          2.7839212935229867,
          2.4732422357311146,
          3.0132115580625367,
          3.2195485572245577,
          2.9170873848336547,
          2.9395447020906986,
          2.924302102540312,
          2.748247208898,
          2.844341361294902,
          2.561874110966703,
          2.6490426169864985,
          2.659339656402267,
          2.6176288461852364,
          2.5313779673907253,
          2.5788832349034094,
          2.7413723983876483,
          2.6361590079277892
         ]
        }
       ],
       "layout": {
        "template": {
         "data": {
          "bar": [
           {
            "error_x": {
             "color": "#2a3f5f"
            },
            "error_y": {
             "color": "#2a3f5f"
            },
            "marker": {
             "line": {
              "color": "#E5ECF6",
              "width": 0.5
             }
            },
            "type": "bar"
           }
          ],
          "barpolar": [
           {
            "marker": {
             "line": {
              "color": "#E5ECF6",
              "width": 0.5
             }
            },
            "type": "barpolar"
           }
          ],
          "carpet": [
           {
            "aaxis": {
             "endlinecolor": "#2a3f5f",
             "gridcolor": "white",
             "linecolor": "white",
             "minorgridcolor": "white",
             "startlinecolor": "#2a3f5f"
            },
            "baxis": {
             "endlinecolor": "#2a3f5f",
             "gridcolor": "white",
             "linecolor": "white",
             "minorgridcolor": "white",
             "startlinecolor": "#2a3f5f"
            },
            "type": "carpet"
           }
          ],
          "choropleth": [
           {
            "colorbar": {
             "outlinewidth": 0,
             "ticks": ""
            },
            "type": "choropleth"
           }
          ],
          "contour": [
           {
            "colorbar": {
             "outlinewidth": 0,
             "ticks": ""
            },
            "colorscale": [
             [
              0,
              "#0d0887"
             ],
             [
              0.1111111111111111,
              "#46039f"
             ],
             [
              0.2222222222222222,
              "#7201a8"
             ],
             [
              0.3333333333333333,
              "#9c179e"
             ],
             [
              0.4444444444444444,
              "#bd3786"
             ],
             [
              0.5555555555555556,
              "#d8576b"
             ],
             [
              0.6666666666666666,
              "#ed7953"
             ],
             [
              0.7777777777777778,
              "#fb9f3a"
             ],
             [
              0.8888888888888888,
              "#fdca26"
             ],
             [
              1,
              "#f0f921"
             ]
            ],
            "type": "contour"
           }
          ],
          "contourcarpet": [
           {
            "colorbar": {
             "outlinewidth": 0,
             "ticks": ""
            },
            "type": "contourcarpet"
           }
          ],
          "heatmap": [
           {
            "colorbar": {
             "outlinewidth": 0,
             "ticks": ""
            },
            "colorscale": [
             [
              0,
              "#0d0887"
             ],
             [
              0.1111111111111111,
              "#46039f"
             ],
             [
              0.2222222222222222,
              "#7201a8"
             ],
             [
              0.3333333333333333,
              "#9c179e"
             ],
             [
              0.4444444444444444,
              "#bd3786"
             ],
             [
              0.5555555555555556,
              "#d8576b"
             ],
             [
              0.6666666666666666,
              "#ed7953"
             ],
             [
              0.7777777777777778,
              "#fb9f3a"
             ],
             [
              0.8888888888888888,
              "#fdca26"
             ],
             [
              1,
              "#f0f921"
             ]
            ],
            "type": "heatmap"
           }
          ],
          "heatmapgl": [
           {
            "colorbar": {
             "outlinewidth": 0,
             "ticks": ""
            },
            "colorscale": [
             [
              0,
              "#0d0887"
             ],
             [
              0.1111111111111111,
              "#46039f"
             ],
             [
              0.2222222222222222,
              "#7201a8"
             ],
             [
              0.3333333333333333,
              "#9c179e"
             ],
             [
              0.4444444444444444,
              "#bd3786"
             ],
             [
              0.5555555555555556,
              "#d8576b"
             ],
             [
              0.6666666666666666,
              "#ed7953"
             ],
             [
              0.7777777777777778,
              "#fb9f3a"
             ],
             [
              0.8888888888888888,
              "#fdca26"
             ],
             [
              1,
              "#f0f921"
             ]
            ],
            "type": "heatmapgl"
           }
          ],
          "histogram": [
           {
            "marker": {
             "colorbar": {
              "outlinewidth": 0,
              "ticks": ""
             }
            },
            "type": "histogram"
           }
          ],
          "histogram2d": [
           {
            "colorbar": {
             "outlinewidth": 0,
             "ticks": ""
            },
            "colorscale": [
             [
              0,
              "#0d0887"
             ],
             [
              0.1111111111111111,
              "#46039f"
             ],
             [
              0.2222222222222222,
              "#7201a8"
             ],
             [
              0.3333333333333333,
              "#9c179e"
             ],
             [
              0.4444444444444444,
              "#bd3786"
             ],
             [
              0.5555555555555556,
              "#d8576b"
             ],
             [
              0.6666666666666666,
              "#ed7953"
             ],
             [
              0.7777777777777778,
              "#fb9f3a"
             ],
             [
              0.8888888888888888,
              "#fdca26"
             ],
             [
              1,
              "#f0f921"
             ]
            ],
            "type": "histogram2d"
           }
          ],
          "histogram2dcontour": [
           {
            "colorbar": {
             "outlinewidth": 0,
             "ticks": ""
            },
            "colorscale": [
             [
              0,
              "#0d0887"
             ],
             [
              0.1111111111111111,
              "#46039f"
             ],
             [
              0.2222222222222222,
              "#7201a8"
             ],
             [
              0.3333333333333333,
              "#9c179e"
             ],
             [
              0.4444444444444444,
              "#bd3786"
             ],
             [
              0.5555555555555556,
              "#d8576b"
             ],
             [
              0.6666666666666666,
              "#ed7953"
             ],
             [
              0.7777777777777778,
              "#fb9f3a"
             ],
             [
              0.8888888888888888,
              "#fdca26"
             ],
             [
              1,
              "#f0f921"
             ]
            ],
            "type": "histogram2dcontour"
           }
          ],
          "mesh3d": [
           {
            "colorbar": {
             "outlinewidth": 0,
             "ticks": ""
            },
            "type": "mesh3d"
           }
          ],
          "parcoords": [
           {
            "line": {
             "colorbar": {
              "outlinewidth": 0,
              "ticks": ""
             }
            },
            "type": "parcoords"
           }
          ],
          "pie": [
           {
            "automargin": true,
            "type": "pie"
           }
          ],
          "scatter": [
           {
            "marker": {
             "colorbar": {
              "outlinewidth": 0,
              "ticks": ""
             }
            },
            "type": "scatter"
           }
          ],
          "scatter3d": [
           {
            "line": {
             "colorbar": {
              "outlinewidth": 0,
              "ticks": ""
             }
            },
            "marker": {
             "colorbar": {
              "outlinewidth": 0,
              "ticks": ""
             }
            },
            "type": "scatter3d"
           }
          ],
          "scattercarpet": [
           {
            "marker": {
             "colorbar": {
              "outlinewidth": 0,
              "ticks": ""
             }
            },
            "type": "scattercarpet"
           }
          ],
          "scattergeo": [
           {
            "marker": {
             "colorbar": {
              "outlinewidth": 0,
              "ticks": ""
             }
            },
            "type": "scattergeo"
           }
          ],
          "scattergl": [
           {
            "marker": {
             "colorbar": {
              "outlinewidth": 0,
              "ticks": ""
             }
            },
            "type": "scattergl"
           }
          ],
          "scattermapbox": [
           {
            "marker": {
             "colorbar": {
              "outlinewidth": 0,
              "ticks": ""
             }
            },
            "type": "scattermapbox"
           }
          ],
          "scatterpolar": [
           {
            "marker": {
             "colorbar": {
              "outlinewidth": 0,
              "ticks": ""
             }
            },
            "type": "scatterpolar"
           }
          ],
          "scatterpolargl": [
           {
            "marker": {
             "colorbar": {
              "outlinewidth": 0,
              "ticks": ""
             }
            },
            "type": "scatterpolargl"
           }
          ],
          "scatterternary": [
           {
            "marker": {
             "colorbar": {
              "outlinewidth": 0,
              "ticks": ""
             }
            },
            "type": "scatterternary"
           }
          ],
          "surface": [
           {
            "colorbar": {
             "outlinewidth": 0,
             "ticks": ""
            },
            "colorscale": [
             [
              0,
              "#0d0887"
             ],
             [
              0.1111111111111111,
              "#46039f"
             ],
             [
              0.2222222222222222,
              "#7201a8"
             ],
             [
              0.3333333333333333,
              "#9c179e"
             ],
             [
              0.4444444444444444,
              "#bd3786"
             ],
             [
              0.5555555555555556,
              "#d8576b"
             ],
             [
              0.6666666666666666,
              "#ed7953"
             ],
             [
              0.7777777777777778,
              "#fb9f3a"
             ],
             [
              0.8888888888888888,
              "#fdca26"
             ],
             [
              1,
              "#f0f921"
             ]
            ],
            "type": "surface"
           }
          ],
          "table": [
           {
            "cells": {
             "fill": {
              "color": "#EBF0F8"
             },
             "line": {
              "color": "white"
             }
            },
            "header": {
             "fill": {
              "color": "#C8D4E3"
             },
             "line": {
              "color": "white"
             }
            },
            "type": "table"
           }
          ]
         },
         "layout": {
          "annotationdefaults": {
           "arrowcolor": "#2a3f5f",
           "arrowhead": 0,
           "arrowwidth": 1
          },
          "coloraxis": {
           "colorbar": {
            "outlinewidth": 0,
            "ticks": ""
           }
          },
          "colorscale": {
           "diverging": [
            [
             0,
             "#8e0152"
            ],
            [
             0.1,
             "#c51b7d"
            ],
            [
             0.2,
             "#de77ae"
            ],
            [
             0.3,
             "#f1b6da"
            ],
            [
             0.4,
             "#fde0ef"
            ],
            [
             0.5,
             "#f7f7f7"
            ],
            [
             0.6,
             "#e6f5d0"
            ],
            [
             0.7,
             "#b8e186"
            ],
            [
             0.8,
             "#7fbc41"
            ],
            [
             0.9,
             "#4d9221"
            ],
            [
             1,
             "#276419"
            ]
           ],
           "sequential": [
            [
             0,
             "#0d0887"
            ],
            [
             0.1111111111111111,
             "#46039f"
            ],
            [
             0.2222222222222222,
             "#7201a8"
            ],
            [
             0.3333333333333333,
             "#9c179e"
            ],
            [
             0.4444444444444444,
             "#bd3786"
            ],
            [
             0.5555555555555556,
             "#d8576b"
            ],
            [
             0.6666666666666666,
             "#ed7953"
            ],
            [
             0.7777777777777778,
             "#fb9f3a"
            ],
            [
             0.8888888888888888,
             "#fdca26"
            ],
            [
             1,
             "#f0f921"
            ]
           ],
           "sequentialminus": [
            [
             0,
             "#0d0887"
            ],
            [
             0.1111111111111111,
             "#46039f"
            ],
            [
             0.2222222222222222,
             "#7201a8"
            ],
            [
             0.3333333333333333,
             "#9c179e"
            ],
            [
             0.4444444444444444,
             "#bd3786"
            ],
            [
             0.5555555555555556,
             "#d8576b"
            ],
            [
             0.6666666666666666,
             "#ed7953"
            ],
            [
             0.7777777777777778,
             "#fb9f3a"
            ],
            [
             0.8888888888888888,
             "#fdca26"
            ],
            [
             1,
             "#f0f921"
            ]
           ]
          },
          "colorway": [
           "#636efa",
           "#EF553B",
           "#00cc96",
           "#ab63fa",
           "#FFA15A",
           "#19d3f3",
           "#FF6692",
           "#B6E880",
           "#FF97FF",
           "#FECB52"
          ],
          "font": {
           "color": "#2a3f5f"
          },
          "geo": {
           "bgcolor": "white",
           "lakecolor": "white",
           "landcolor": "#E5ECF6",
           "showlakes": true,
           "showland": true,
           "subunitcolor": "white"
          },
          "hoverlabel": {
           "align": "left"
          },
          "hovermode": "closest",
          "mapbox": {
           "style": "light"
          },
          "paper_bgcolor": "white",
          "plot_bgcolor": "#E5ECF6",
          "polar": {
           "angularaxis": {
            "gridcolor": "white",
            "linecolor": "white",
            "ticks": ""
           },
           "bgcolor": "#E5ECF6",
           "radialaxis": {
            "gridcolor": "white",
            "linecolor": "white",
            "ticks": ""
           }
          },
          "scene": {
           "xaxis": {
            "backgroundcolor": "#E5ECF6",
            "gridcolor": "white",
            "gridwidth": 2,
            "linecolor": "white",
            "showbackground": true,
            "ticks": "",
            "zerolinecolor": "white"
           },
           "yaxis": {
            "backgroundcolor": "#E5ECF6",
            "gridcolor": "white",
            "gridwidth": 2,
            "linecolor": "white",
            "showbackground": true,
            "ticks": "",
            "zerolinecolor": "white"
           },
           "zaxis": {
            "backgroundcolor": "#E5ECF6",
            "gridcolor": "white",
            "gridwidth": 2,
            "linecolor": "white",
            "showbackground": true,
            "ticks": "",
            "zerolinecolor": "white"
           }
          },
          "shapedefaults": {
           "line": {
            "color": "#2a3f5f"
           }
          },
          "ternary": {
           "aaxis": {
            "gridcolor": "white",
            "linecolor": "white",
            "ticks": ""
           },
           "baxis": {
            "gridcolor": "white",
            "linecolor": "white",
            "ticks": ""
           },
           "bgcolor": "#E5ECF6",
           "caxis": {
            "gridcolor": "white",
            "linecolor": "white",
            "ticks": ""
           }
          },
          "title": {
           "x": 0.05
          },
          "xaxis": {
           "automargin": true,
           "gridcolor": "white",
           "linecolor": "white",
           "ticks": "",
           "title": {
            "standoff": 15
           },
           "zerolinecolor": "white",
           "zerolinewidth": 2
          },
          "yaxis": {
           "automargin": true,
           "gridcolor": "white",
           "linecolor": "white",
           "ticks": "",
           "title": {
            "standoff": 15
           },
           "zerolinecolor": "white",
           "zerolinewidth": 2
          }
         }
        }
       }
      },
      "text/html": [
       "<div>\n",
       "        \n",
       "        \n",
       "            <div id=\"222b23f9-63cb-45e7-a452-0419212e59b8\" class=\"plotly-graph-div\" style=\"height:525px; width:100%;\"></div>\n",
       "            <script type=\"text/javascript\">\n",
       "                require([\"plotly\"], function(Plotly) {\n",
       "                    window.PLOTLYENV=window.PLOTLYENV || {};\n",
       "                    \n",
       "                if (document.getElementById(\"222b23f9-63cb-45e7-a452-0419212e59b8\")) {\n",
       "                    Plotly.newPlot(\n",
       "                        '222b23f9-63cb-45e7-a452-0419212e59b8',\n",
       "                        [{\"type\": \"bar\", \"x\": [\"pop1_0\", \"pop1_1\", \"pop1_2\", \"pop1_3\", \"pop1_4\", \"pop1_5\", \"pop1_6\", \"pop1_7\", \"pop1_8\", \"pop1_9\", \"pop1_10\", \"pop1_11\", \"pop1_12\", \"pop1_13\", \"pop1_14\", \"pop1_15\", \"pop1_16\", \"pop1_17\", \"pop1_18\", \"pop1_19\", \"pop1_20\", \"pop1_21\", \"pop1_22\", \"pop1_23\", \"pop1_24\", \"pop1_25\", \"pop1_26\", \"pop1_27\", \"pop1_28\", \"pop1_29\", \"pop1_30\", \"pop1_31\", \"pop1_32\", \"pop1_33\", \"pop1_34\", \"pop1_35\", \"pop1_36\", \"pop1_37\", \"pop1_38\", \"pop1_39\", \"pop2_40\", \"pop2_41\", \"pop2_42\", \"pop2_43\", \"pop2_44\", \"pop2_45\", \"pop2_46\", \"pop2_47\", \"pop2_48\", \"pop2_49\", \"pop2_50\", \"pop2_51\", \"pop2_52\", \"pop2_53\", \"pop2_54\", \"pop2_55\", \"pop2_56\", \"pop2_57\", \"pop2_58\", \"pop2_59\", \"pop0_60\", \"pop0_61\", \"pop0_62\", \"pop0_63\", \"pop0_64\", \"pop0_65\", \"pop0_66\", \"pop0_67\", \"pop0_68\", \"pop0_69\", \"pop0_70\", \"pop0_71\", \"pop0_72\", \"pop0_73\", \"pop0_74\", \"pop0_75\", \"pop0_76\", \"pop0_77\", \"pop0_78\", \"pop0_79\", \"pop0_80\", \"pop0_81\", \"pop0_82\", \"pop0_83\", \"pop0_84\", \"pop0_85\", \"pop0_86\", \"pop0_87\", \"pop0_88\", \"pop0_89\", \"pop0_90\", \"pop0_91\", \"pop0_92\", \"pop0_93\", \"pop0_94\", \"pop0_95\", \"pop0_96\", \"pop0_97\", \"pop0_98\", \"pop0_99\", \"pop3_100\", \"pop3_101\", \"pop3_102\", \"pop3_103\", \"pop3_104\", \"pop3_105\", \"pop3_106\", \"pop3_107\", \"pop3_108\", \"pop3_109\", \"pop3_110\", \"pop3_111\", \"pop3_112\", \"pop3_113\", \"pop3_114\", \"pop3_115\", \"pop3_116\", \"pop3_117\", \"pop3_118\", \"pop3_119\", \"pop3_120\", \"pop3_121\", \"pop3_122\", \"pop3_123\", \"pop3_124\", \"pop1_125\", \"pop3_126\", \"pop3_127\", \"pop1_128\", \"pop3_129\"], \"y\": [2.794520659106957, 2.7216690140660025, 2.55157111928349, 2.7306157411071195, 2.6932954836960086, 2.463840473276254, 2.7864302765503397, 2.635908301870794, 2.4564492558497015, 2.6448439603400904, 2.8235892032940217, 2.5849368955495913, 2.855668413050938, 2.4043932374229904, 2.9259812076233533, 2.5822206306705, 2.8576484328183467, 2.791146987412962, 2.8770521980463215, 2.4887794704142925, 2.702208649462859, 2.6770329221767457, 2.7853048911055134, 2.9023050663902215, 2.6830970421144764, 2.5030599019473194, 2.7218099127109725, 2.6177025226412662, 2.773488282279066, 2.883696636520889, 2.5623324860950834, 2.4252775218446523, 2.342335997333095, 2.842146385473864, 2.659117363610933, 2.6896602179148656, 2.4115086615690955, 2.7478775950501007, 2.676740652790771, 2.785998806032045, 2.1348137625295265, 1.9973786288774362, 2.0699589745702993, 2.332275627415582, 2.0973462535011578, 2.190340346077023, 2.286291239595226, 2.0390571975421095, 1.9686514169671367, 2.4066216729514527, 2.2103141160609168, 2.006870791964054, 2.227331946792572, 2.1614823864584376, 2.095307116388071, 2.123320662525041, 1.966904583992109, 2.1181533648644715, 1.988368469303916, 2.080608740800081, 2.1236565475827067, 2.0041459479475, 1.9869552933058412, 2.0131475923407374, 2.2272304847156628, 2.3827757429985, 2.1790681460565975, 2.2921452259736497, 1.9963728158928116, 2.1091681857476923, 1.9341616890094881, 2.324805136035691, 2.2820780558485705, 1.9953927734459147, 2.257736763606936, 2.012793622970389, 2.061078177822361, 2.3902949222893883, 2.0662079859381777, 1.8245315729088132, 2.0623816649587092, 2.197911567977726, 2.089605732429643, 2.0945169240974773, 1.974508303170974, 2.1940100654277743, 2.2166108736264576, 1.9281599037560238, 1.926932052742043, 2.0063591149848814, 2.193158978761588, 2.0574697412252174, 2.0636459526571103, 2.194901377020016, 2.2787298901395245, 2.035726712690764, 1.9931224187555836, 2.0333071049418887, 2.0266034646356186, 1.9831964255148637, 2.1596805869902207, 2.428159190490967, 2.2188147867721146, 2.9437402405742534, 2.741170851045744, 3.192333604335133, 2.1887850029364087, 2.550091439926508, 2.6306913930221625, 2.7588850367145517, 2.274387397688422, 2.922873429514319, 2.7839212935229867, 2.4732422357311146, 3.0132115580625367, 3.2195485572245577, 2.9170873848336547, 2.9395447020906986, 2.924302102540312, 2.748247208898, 2.844341361294902, 2.561874110966703, 2.6490426169864985, 2.659339656402267, 2.6176288461852364, 2.5313779673907253, 2.5788832349034094, 2.7413723983876483, 2.6361590079277892]}],\n",
       "                        {\"template\": {\"data\": {\"bar\": [{\"error_x\": {\"color\": \"#2a3f5f\"}, \"error_y\": {\"color\": \"#2a3f5f\"}, \"marker\": {\"line\": {\"color\": \"#E5ECF6\", \"width\": 0.5}}, \"type\": \"bar\"}], \"barpolar\": [{\"marker\": {\"line\": {\"color\": \"#E5ECF6\", \"width\": 0.5}}, \"type\": \"barpolar\"}], \"carpet\": [{\"aaxis\": {\"endlinecolor\": \"#2a3f5f\", \"gridcolor\": \"white\", \"linecolor\": \"white\", \"minorgridcolor\": \"white\", \"startlinecolor\": \"#2a3f5f\"}, \"baxis\": {\"endlinecolor\": \"#2a3f5f\", \"gridcolor\": \"white\", \"linecolor\": \"white\", \"minorgridcolor\": \"white\", \"startlinecolor\": \"#2a3f5f\"}, \"type\": \"carpet\"}], \"choropleth\": [{\"colorbar\": {\"outlinewidth\": 0, \"ticks\": \"\"}, \"type\": \"choropleth\"}], \"contour\": [{\"colorbar\": {\"outlinewidth\": 0, \"ticks\": \"\"}, \"colorscale\": [[0.0, \"#0d0887\"], [0.1111111111111111, \"#46039f\"], [0.2222222222222222, \"#7201a8\"], [0.3333333333333333, \"#9c179e\"], [0.4444444444444444, \"#bd3786\"], [0.5555555555555556, \"#d8576b\"], [0.6666666666666666, \"#ed7953\"], [0.7777777777777778, \"#fb9f3a\"], [0.8888888888888888, \"#fdca26\"], [1.0, \"#f0f921\"]], \"type\": \"contour\"}], \"contourcarpet\": [{\"colorbar\": {\"outlinewidth\": 0, \"ticks\": \"\"}, \"type\": \"contourcarpet\"}], \"heatmap\": [{\"colorbar\": {\"outlinewidth\": 0, \"ticks\": \"\"}, \"colorscale\": [[0.0, \"#0d0887\"], [0.1111111111111111, \"#46039f\"], [0.2222222222222222, \"#7201a8\"], [0.3333333333333333, \"#9c179e\"], [0.4444444444444444, \"#bd3786\"], [0.5555555555555556, \"#d8576b\"], [0.6666666666666666, \"#ed7953\"], [0.7777777777777778, \"#fb9f3a\"], [0.8888888888888888, \"#fdca26\"], [1.0, \"#f0f921\"]], \"type\": \"heatmap\"}], \"heatmapgl\": [{\"colorbar\": {\"outlinewidth\": 0, \"ticks\": \"\"}, \"colorscale\": [[0.0, \"#0d0887\"], [0.1111111111111111, \"#46039f\"], [0.2222222222222222, \"#7201a8\"], [0.3333333333333333, \"#9c179e\"], [0.4444444444444444, \"#bd3786\"], [0.5555555555555556, \"#d8576b\"], [0.6666666666666666, \"#ed7953\"], [0.7777777777777778, \"#fb9f3a\"], [0.8888888888888888, \"#fdca26\"], [1.0, \"#f0f921\"]], \"type\": \"heatmapgl\"}], \"histogram\": [{\"marker\": {\"colorbar\": {\"outlinewidth\": 0, \"ticks\": \"\"}}, \"type\": \"histogram\"}], \"histogram2d\": [{\"colorbar\": {\"outlinewidth\": 0, \"ticks\": \"\"}, \"colorscale\": [[0.0, \"#0d0887\"], [0.1111111111111111, \"#46039f\"], [0.2222222222222222, \"#7201a8\"], [0.3333333333333333, \"#9c179e\"], [0.4444444444444444, \"#bd3786\"], [0.5555555555555556, \"#d8576b\"], [0.6666666666666666, \"#ed7953\"], [0.7777777777777778, \"#fb9f3a\"], [0.8888888888888888, \"#fdca26\"], [1.0, \"#f0f921\"]], \"type\": \"histogram2d\"}], \"histogram2dcontour\": [{\"colorbar\": {\"outlinewidth\": 0, \"ticks\": \"\"}, \"colorscale\": [[0.0, \"#0d0887\"], [0.1111111111111111, \"#46039f\"], [0.2222222222222222, \"#7201a8\"], [0.3333333333333333, \"#9c179e\"], [0.4444444444444444, \"#bd3786\"], [0.5555555555555556, \"#d8576b\"], [0.6666666666666666, \"#ed7953\"], [0.7777777777777778, \"#fb9f3a\"], [0.8888888888888888, \"#fdca26\"], [1.0, \"#f0f921\"]], \"type\": \"histogram2dcontour\"}], \"mesh3d\": [{\"colorbar\": {\"outlinewidth\": 0, \"ticks\": \"\"}, \"type\": \"mesh3d\"}], \"parcoords\": [{\"line\": {\"colorbar\": {\"outlinewidth\": 0, \"ticks\": \"\"}}, \"type\": \"parcoords\"}], \"pie\": [{\"automargin\": true, \"type\": \"pie\"}], \"scatter\": [{\"marker\": {\"colorbar\": {\"outlinewidth\": 0, \"ticks\": \"\"}}, \"type\": \"scatter\"}], \"scatter3d\": [{\"line\": {\"colorbar\": {\"outlinewidth\": 0, \"ticks\": \"\"}}, \"marker\": {\"colorbar\": {\"outlinewidth\": 0, \"ticks\": \"\"}}, \"type\": \"scatter3d\"}], \"scattercarpet\": [{\"marker\": {\"colorbar\": {\"outlinewidth\": 0, \"ticks\": \"\"}}, \"type\": \"scattercarpet\"}], \"scattergeo\": [{\"marker\": {\"colorbar\": {\"outlinewidth\": 0, \"ticks\": \"\"}}, \"type\": \"scattergeo\"}], \"scattergl\": [{\"marker\": {\"colorbar\": {\"outlinewidth\": 0, \"ticks\": \"\"}}, \"type\": \"scattergl\"}], \"scattermapbox\": [{\"marker\": {\"colorbar\": {\"outlinewidth\": 0, \"ticks\": \"\"}}, \"type\": \"scattermapbox\"}], \"scatterpolar\": [{\"marker\": {\"colorbar\": {\"outlinewidth\": 0, \"ticks\": \"\"}}, \"type\": \"scatterpolar\"}], \"scatterpolargl\": [{\"marker\": {\"colorbar\": {\"outlinewidth\": 0, \"ticks\": \"\"}}, \"type\": \"scatterpolargl\"}], \"scatterternary\": [{\"marker\": {\"colorbar\": {\"outlinewidth\": 0, \"ticks\": \"\"}}, \"type\": \"scatterternary\"}], \"surface\": [{\"colorbar\": {\"outlinewidth\": 0, \"ticks\": \"\"}, \"colorscale\": [[0.0, \"#0d0887\"], [0.1111111111111111, \"#46039f\"], [0.2222222222222222, \"#7201a8\"], [0.3333333333333333, \"#9c179e\"], [0.4444444444444444, \"#bd3786\"], [0.5555555555555556, \"#d8576b\"], [0.6666666666666666, \"#ed7953\"], [0.7777777777777778, \"#fb9f3a\"], [0.8888888888888888, \"#fdca26\"], [1.0, \"#f0f921\"]], \"type\": \"surface\"}], \"table\": [{\"cells\": {\"fill\": {\"color\": \"#EBF0F8\"}, \"line\": {\"color\": \"white\"}}, \"header\": {\"fill\": {\"color\": \"#C8D4E3\"}, \"line\": {\"color\": \"white\"}}, \"type\": \"table\"}]}, \"layout\": {\"annotationdefaults\": {\"arrowcolor\": \"#2a3f5f\", \"arrowhead\": 0, \"arrowwidth\": 1}, \"coloraxis\": {\"colorbar\": {\"outlinewidth\": 0, \"ticks\": \"\"}}, \"colorscale\": {\"diverging\": [[0, \"#8e0152\"], [0.1, \"#c51b7d\"], [0.2, \"#de77ae\"], [0.3, \"#f1b6da\"], [0.4, \"#fde0ef\"], [0.5, \"#f7f7f7\"], [0.6, \"#e6f5d0\"], [0.7, \"#b8e186\"], [0.8, \"#7fbc41\"], [0.9, \"#4d9221\"], [1, \"#276419\"]], \"sequential\": [[0.0, \"#0d0887\"], [0.1111111111111111, \"#46039f\"], [0.2222222222222222, \"#7201a8\"], [0.3333333333333333, \"#9c179e\"], [0.4444444444444444, \"#bd3786\"], [0.5555555555555556, \"#d8576b\"], [0.6666666666666666, \"#ed7953\"], [0.7777777777777778, \"#fb9f3a\"], [0.8888888888888888, \"#fdca26\"], [1.0, \"#f0f921\"]], \"sequentialminus\": [[0.0, \"#0d0887\"], [0.1111111111111111, \"#46039f\"], [0.2222222222222222, \"#7201a8\"], [0.3333333333333333, \"#9c179e\"], [0.4444444444444444, \"#bd3786\"], [0.5555555555555556, \"#d8576b\"], [0.6666666666666666, \"#ed7953\"], [0.7777777777777778, \"#fb9f3a\"], [0.8888888888888888, \"#fdca26\"], [1.0, \"#f0f921\"]]}, \"colorway\": [\"#636efa\", \"#EF553B\", \"#00cc96\", \"#ab63fa\", \"#FFA15A\", \"#19d3f3\", \"#FF6692\", \"#B6E880\", \"#FF97FF\", \"#FECB52\"], \"font\": {\"color\": \"#2a3f5f\"}, \"geo\": {\"bgcolor\": \"white\", \"lakecolor\": \"white\", \"landcolor\": \"#E5ECF6\", \"showlakes\": true, \"showland\": true, \"subunitcolor\": \"white\"}, \"hoverlabel\": {\"align\": \"left\"}, \"hovermode\": \"closest\", \"mapbox\": {\"style\": \"light\"}, \"paper_bgcolor\": \"white\", \"plot_bgcolor\": \"#E5ECF6\", \"polar\": {\"angularaxis\": {\"gridcolor\": \"white\", \"linecolor\": \"white\", \"ticks\": \"\"}, \"bgcolor\": \"#E5ECF6\", \"radialaxis\": {\"gridcolor\": \"white\", \"linecolor\": \"white\", \"ticks\": \"\"}}, \"scene\": {\"xaxis\": {\"backgroundcolor\": \"#E5ECF6\", \"gridcolor\": \"white\", \"gridwidth\": 2, \"linecolor\": \"white\", \"showbackground\": true, \"ticks\": \"\", \"zerolinecolor\": \"white\"}, \"yaxis\": {\"backgroundcolor\": \"#E5ECF6\", \"gridcolor\": \"white\", \"gridwidth\": 2, \"linecolor\": \"white\", \"showbackground\": true, \"ticks\": \"\", \"zerolinecolor\": \"white\"}, \"zaxis\": {\"backgroundcolor\": \"#E5ECF6\", \"gridcolor\": \"white\", \"gridwidth\": 2, \"linecolor\": \"white\", \"showbackground\": true, \"ticks\": \"\", \"zerolinecolor\": \"white\"}}, \"shapedefaults\": {\"line\": {\"color\": \"#2a3f5f\"}}, \"ternary\": {\"aaxis\": {\"gridcolor\": \"white\", \"linecolor\": \"white\", \"ticks\": \"\"}, \"baxis\": {\"gridcolor\": \"white\", \"linecolor\": \"white\", \"ticks\": \"\"}, \"bgcolor\": \"#E5ECF6\", \"caxis\": {\"gridcolor\": \"white\", \"linecolor\": \"white\", \"ticks\": \"\"}}, \"title\": {\"x\": 0.05}, \"xaxis\": {\"automargin\": true, \"gridcolor\": \"white\", \"linecolor\": \"white\", \"ticks\": \"\", \"title\": {\"standoff\": 15}, \"zerolinecolor\": \"white\", \"zerolinewidth\": 2}, \"yaxis\": {\"automargin\": true, \"gridcolor\": \"white\", \"linecolor\": \"white\", \"ticks\": \"\", \"title\": {\"standoff\": 15}, \"zerolinecolor\": \"white\", \"zerolinewidth\": 2}}}},\n",
       "                        {\"responsive\": true}\n",
       "                    ).then(function(){\n",
       "                            \n",
       "var gd = document.getElementById('222b23f9-63cb-45e7-a452-0419212e59b8');\n",
       "var x = new MutationObserver(function (mutations, observer) {{\n",
       "        var display = window.getComputedStyle(gd).display;\n",
       "        if (!display || display === 'none') {{\n",
       "            console.log([gd, 'removed!']);\n",
       "            Plotly.purge(gd);\n",
       "            observer.disconnect();\n",
       "        }}\n",
       "}});\n",
       "\n",
       "// Listen for the removal of the full notebook cells\n",
       "var notebookContainer = gd.closest('#notebook-container');\n",
       "if (notebookContainer) {{\n",
       "    x.observe(notebookContainer, {childList: true});\n",
       "}}\n",
       "\n",
       "// Listen for the clearing of the current output cell\n",
       "var outputEl = gd.closest('.output');\n",
       "if (outputEl) {{\n",
       "    x.observe(outputEl, {childList: true});\n",
       "}}\n",
       "\n",
       "                        })\n",
       "                };\n",
       "                });\n",
       "            </script>\n",
       "        </div>"
      ]
     },
     "metadata": {},
     "output_type": "display_data"
    }
   ],
   "source": [
    "\n",
    "dist_var= np.std(dist_store,axis= 0)**2\n",
    "who_plot= [x for x in range(len(label_vector)) if label_vector[x] in [0,1,2,3]]\n",
    "idvector= ['pop{}_{}'.format(label_vector[x],Whose[x]) for x in who_plot]\n",
    "\n",
    "fig = go.Figure([go.Bar(\n",
    "    x=idvector, y=dist_var\n",
    ")])\n",
    "layout= go.Layout()\n",
    "\n",
    "Figure= go.Figure(data= fig, layout= layout)\n",
    "iplot(Figure)\n"
   ]
  },
  {
   "cell_type": "markdown",
   "metadata": {},
   "source": [
    "#### B. Coordinates at local window.\n",
    "\n",
    "Dimensionality reduction of features surrounding missing call. Nfeatures=  wind_sizes.\n",
    "\n",
    "Coordinates of observation with missing data indicated with red circle.\n",
    "\n"
   ]
  },
  {
   "cell_type": "code",
   "execution_count": 52,
   "metadata": {},
   "outputs": [
    {
     "data": {
      "application/vnd.plotly.v1+json": {
       "config": {
        "linkText": "Export to plot.ly",
        "plotlyServerURL": "https://plot.ly",
        "showLink": false
       },
       "data": [
        {
         "mode": "markers",
         "name": "0",
         "type": "scatter",
         "x": [
          3.961661445574057,
          3.7879759023401225,
          1.9345941376897937,
          3.9405005929494465,
          2.8448643798405073,
          4.417186139274191,
          5.035031400273705,
          3.9393575330945665,
          3.3190889903170526,
          3.8572664370702596,
          4.378267501859045,
          4.357347647869521,
          2.806004489928367,
          3.433646095847995,
          4.430825060765115,
          3.9881118810062905,
          3.139726348286637,
          4.551634060494883,
          3.7040403749897144,
          4.418028528505911,
          3.6298417735473336,
          4.045028328392746,
          4.058011845480177,
          2.9394420513461297,
          3.671320305729038,
          3.6468111286917435,
          4.374018585313994,
          4.1403449462364925,
          3.2794583363879006,
          4.1801301814877485,
          1.8851912757931828,
          4.388949867045919,
          3.5660442338016796,
          3.1139028186049083,
          3.3200764471529807,
          3.849202221260172,
          5.078835683558285,
          3.4689485366887345,
          4.818045356525845,
          3.4876674170705573
         ],
         "y": [
          0.10456899377793871,
          0.32809743756648685,
          0.18636779693232625,
          0.5193838873251571,
          -0.8791323587651441,
          1.2384001965612481,
          0.16721973886605698,
          0.5831571645408423,
          -0.5167176466878569,
          -0.5153239124048338,
          0.6816179925837416,
          0.03130273383246078,
          1.1475819425107256,
          -0.25998366454925387,
          -0.8140707436059617,
          0.3832295893516101,
          -0.7286356514359366,
          0.9069730143693735,
          -0.7449563208593124,
          0.27875594157370137,
          0.9751890765523382,
          -0.7777080227769141,
          -0.16506638383696612,
          1.5581309823098701,
          0.30053285298825333,
          -0.7336552319818423,
          -0.05099335695846599,
          0.9005928772612396,
          -0.8961872219085207,
          -0.3890668747752919,
          0.5018150316697366,
          0.011496853836238214,
          0.21687237010177768,
          -0.7678349554992344,
          0.3285141119378111,
          -0.42562156303320986,
          -0.7521016547791196,
          -1.5415091146062325,
          -1.0280115968202805,
          1.6404130116882492
         ]
        },
        {
         "mode": "markers",
         "name": "1",
         "type": "scatter",
         "x": [
          -1.6601090873919537,
          -3.9833564014873817,
          -2.7746266599106124,
          -3.432026837290724,
          -2.4410429557109627,
          -1.6120037533787857,
          -2.8956417056698394,
          -2.7514708529433096,
          -2.5669455122512166,
          -0.701253018508994,
          -1.8081316535051013,
          -0.035535059414298055,
          -2.290653082301737,
          -1.1547078459361741,
          -2.494304077865143,
          -2.344610905212922,
          -2.834984926826341,
          -3.1915354931559765,
          -2.459964738014074,
          -3.2864207351432757,
          -1.0128664239149479,
          -0.7313778498307578,
          -1.5358711782770809,
          -2.295791736946358,
          -2.232571454567465,
          -3.071579158289737,
          -2.4493777293994516,
          -1.5669679182676737,
          -2.550367409501984,
          -2.532657716769992,
          -2.2537382676238806,
          -3.8938739739824837,
          -2.597064777279132,
          -2.4868690499330373,
          -1.001251043887711,
          -2.216347231509423,
          -1.148551490154552,
          -3.207558004175432,
          -2.7509555452513936,
          -2.4470014133399625,
          -3.0415487150099323,
          -2.5326972763332867
         ],
         "y": [
          0.4334588135778569,
          -0.46653108866018417,
          -1.0901969449781088,
          -1.0803185371498654,
          -1.348224090418346,
          -1.7795884790579928,
          -0.6984232389932143,
          -1.8757433367374434,
          0.5238405813474142,
          -2.278372264087729,
          -0.5376318125031802,
          -1.9192162836789122,
          -0.7840930376452327,
          -2.4498787736391727,
          -0.5888876889377411,
          -1.2898528946041437,
          -1.014169030513169,
          0.5062643649648783,
          -0.6581539798772668,
          -1.847597549626408,
          -0.7524719739151539,
          -2.1815086728677437,
          -2.3462887536614807,
          -1.029066097203342,
          -0.8880052661062298,
          -0.7995678985124449,
          -1.064363052753622,
          -1.4418129560430413,
          0.3832826598453972,
          -1.9675758914401278,
          -1.8718748426791547,
          -1.0046052380675046,
          -2.0137443007168385,
          -1.4384124017642785,
          -1.9661570421708416,
          -0.3844470550711227,
          -1.981508972533582,
          0.4267581645568958,
          -0.9100428450351195,
          -1.668410897131914,
          -1.0287422674943674,
          -1.6922522350336349
         ]
        },
        {
         "mode": "markers",
         "name": "2",
         "type": "scatter",
         "x": [
          -2.166165645336686,
          -1.4813372768565378,
          -1.8216611294498621,
          -1.3983545120346261,
          0.08632818843078398,
          -3.3108620806449305,
          -1.8407159260571548,
          -2.514569296644766,
          -3.3915083556474297,
          -1.7989030952852048,
          -1.4051280771880479,
          -1.545592191489789,
          -2.2145300889549255,
          -2.526428763519964,
          -2.679644230092953,
          -0.7721240994561825,
          -3.273052776775147,
          -2.4956563708818793,
          -2.397164114822394,
          -1.6465293184426524
         ],
         "y": [
          2.5398443976955525,
          3.370739758371434,
          3.5845469964346446,
          3.100627825747218,
          1.865361138319609,
          3.3952771532499666,
          1.6487953521512981,
          3.0602938393903996,
          3.7570174110194126,
          3.1112184494742214,
          0.15763620689578076,
          3.0501801633025405,
          1.8410259785823073,
          3.986017914589711,
          4.661833332048652,
          3.6103332643724566,
          3.21942083481818,
          3.210189509185247,
          2.4227926751445095,
          3.5655901325257977
         ]
        },
        {
         "mode": "markers",
         "name": "3",
         "type": "scatter",
         "x": [
          -0.24249539994260166,
          -0.27057005877175655,
          2.637721967808482,
          0.5648820081763268,
          -1.9983088243943499,
          -2.5196042946123263,
          -0.13642273391841347,
          0.2849887464118559,
          -2.486814598057555,
          4.354375365842601,
          3.5307173547767885,
          2.9649864727428326,
          -0.4986534752265418,
          -1.3811594685627553,
          -2.1887912348542105,
          -1.7194491775442668,
          4.339632996869344,
          3.3036187662169434,
          -0.5541140542465687,
          -0.010509034999900895,
          -2.9912760354004293,
          -2.924830610349585,
          -3.141672843937584,
          -2.3273406251204953,
          -2.6073252448166797,
          -2.327091231577329,
          -3.7657148325667804,
          -2.205400360722947
         ],
         "y": [
          0.02600095637241775,
          -0.6754980756549376,
          -0.04796087116996233,
          -0.5137476742878944,
          -1.2758116728319548,
          -2.422031285404483,
          -0.8288603962543094,
          0.6060487240327752,
          -0.8300081059738162,
          -0.07367728993799895,
          0.743112240952637,
          -0.14460153924810185,
          -0.5756539984454264,
          2.2984827500055496,
          -1.381301950333078,
          -1.5431227503261418,
          -0.6337184964971905,
          0.7590948199849141,
          -0.04191704095548447,
          -0.7020625782496247,
          -1.2006963318508141,
          -0.4373906490141385,
          4.135090185981335,
          -1.584570475295529,
          -2.119861839767546,
          -2.0152239140233608,
          -1.2554102419116844,
          -0.5629490490506408
         ]
        },
        {
         "marker": {
          "color": "rgba(135, 206, 250, 0)",
          "line": {
           "color": "red",
           "width": 5
          },
          "opacity": 1,
          "size": 25
         },
         "mode": "markers",
         "showlegend": false,
         "type": "scatter",
         "x": [
          -2.486814598057555
         ],
         "y": [
          -0.8300081059738162
         ]
        }
       ],
       "layout": {
        "template": {
         "data": {
          "bar": [
           {
            "error_x": {
             "color": "#2a3f5f"
            },
            "error_y": {
             "color": "#2a3f5f"
            },
            "marker": {
             "line": {
              "color": "#E5ECF6",
              "width": 0.5
             }
            },
            "type": "bar"
           }
          ],
          "barpolar": [
           {
            "marker": {
             "line": {
              "color": "#E5ECF6",
              "width": 0.5
             }
            },
            "type": "barpolar"
           }
          ],
          "carpet": [
           {
            "aaxis": {
             "endlinecolor": "#2a3f5f",
             "gridcolor": "white",
             "linecolor": "white",
             "minorgridcolor": "white",
             "startlinecolor": "#2a3f5f"
            },
            "baxis": {
             "endlinecolor": "#2a3f5f",
             "gridcolor": "white",
             "linecolor": "white",
             "minorgridcolor": "white",
             "startlinecolor": "#2a3f5f"
            },
            "type": "carpet"
           }
          ],
          "choropleth": [
           {
            "colorbar": {
             "outlinewidth": 0,
             "ticks": ""
            },
            "type": "choropleth"
           }
          ],
          "contour": [
           {
            "colorbar": {
             "outlinewidth": 0,
             "ticks": ""
            },
            "colorscale": [
             [
              0,
              "#0d0887"
             ],
             [
              0.1111111111111111,
              "#46039f"
             ],
             [
              0.2222222222222222,
              "#7201a8"
             ],
             [
              0.3333333333333333,
              "#9c179e"
             ],
             [
              0.4444444444444444,
              "#bd3786"
             ],
             [
              0.5555555555555556,
              "#d8576b"
             ],
             [
              0.6666666666666666,
              "#ed7953"
             ],
             [
              0.7777777777777778,
              "#fb9f3a"
             ],
             [
              0.8888888888888888,
              "#fdca26"
             ],
             [
              1,
              "#f0f921"
             ]
            ],
            "type": "contour"
           }
          ],
          "contourcarpet": [
           {
            "colorbar": {
             "outlinewidth": 0,
             "ticks": ""
            },
            "type": "contourcarpet"
           }
          ],
          "heatmap": [
           {
            "colorbar": {
             "outlinewidth": 0,
             "ticks": ""
            },
            "colorscale": [
             [
              0,
              "#0d0887"
             ],
             [
              0.1111111111111111,
              "#46039f"
             ],
             [
              0.2222222222222222,
              "#7201a8"
             ],
             [
              0.3333333333333333,
              "#9c179e"
             ],
             [
              0.4444444444444444,
              "#bd3786"
             ],
             [
              0.5555555555555556,
              "#d8576b"
             ],
             [
              0.6666666666666666,
              "#ed7953"
             ],
             [
              0.7777777777777778,
              "#fb9f3a"
             ],
             [
              0.8888888888888888,
              "#fdca26"
             ],
             [
              1,
              "#f0f921"
             ]
            ],
            "type": "heatmap"
           }
          ],
          "heatmapgl": [
           {
            "colorbar": {
             "outlinewidth": 0,
             "ticks": ""
            },
            "colorscale": [
             [
              0,
              "#0d0887"
             ],
             [
              0.1111111111111111,
              "#46039f"
             ],
             [
              0.2222222222222222,
              "#7201a8"
             ],
             [
              0.3333333333333333,
              "#9c179e"
             ],
             [
              0.4444444444444444,
              "#bd3786"
             ],
             [
              0.5555555555555556,
              "#d8576b"
             ],
             [
              0.6666666666666666,
              "#ed7953"
             ],
             [
              0.7777777777777778,
              "#fb9f3a"
             ],
             [
              0.8888888888888888,
              "#fdca26"
             ],
             [
              1,
              "#f0f921"
             ]
            ],
            "type": "heatmapgl"
           }
          ],
          "histogram": [
           {
            "marker": {
             "colorbar": {
              "outlinewidth": 0,
              "ticks": ""
             }
            },
            "type": "histogram"
           }
          ],
          "histogram2d": [
           {
            "colorbar": {
             "outlinewidth": 0,
             "ticks": ""
            },
            "colorscale": [
             [
              0,
              "#0d0887"
             ],
             [
              0.1111111111111111,
              "#46039f"
             ],
             [
              0.2222222222222222,
              "#7201a8"
             ],
             [
              0.3333333333333333,
              "#9c179e"
             ],
             [
              0.4444444444444444,
              "#bd3786"
             ],
             [
              0.5555555555555556,
              "#d8576b"
             ],
             [
              0.6666666666666666,
              "#ed7953"
             ],
             [
              0.7777777777777778,
              "#fb9f3a"
             ],
             [
              0.8888888888888888,
              "#fdca26"
             ],
             [
              1,
              "#f0f921"
             ]
            ],
            "type": "histogram2d"
           }
          ],
          "histogram2dcontour": [
           {
            "colorbar": {
             "outlinewidth": 0,
             "ticks": ""
            },
            "colorscale": [
             [
              0,
              "#0d0887"
             ],
             [
              0.1111111111111111,
              "#46039f"
             ],
             [
              0.2222222222222222,
              "#7201a8"
             ],
             [
              0.3333333333333333,
              "#9c179e"
             ],
             [
              0.4444444444444444,
              "#bd3786"
             ],
             [
              0.5555555555555556,
              "#d8576b"
             ],
             [
              0.6666666666666666,
              "#ed7953"
             ],
             [
              0.7777777777777778,
              "#fb9f3a"
             ],
             [
              0.8888888888888888,
              "#fdca26"
             ],
             [
              1,
              "#f0f921"
             ]
            ],
            "type": "histogram2dcontour"
           }
          ],
          "mesh3d": [
           {
            "colorbar": {
             "outlinewidth": 0,
             "ticks": ""
            },
            "type": "mesh3d"
           }
          ],
          "parcoords": [
           {
            "line": {
             "colorbar": {
              "outlinewidth": 0,
              "ticks": ""
             }
            },
            "type": "parcoords"
           }
          ],
          "pie": [
           {
            "automargin": true,
            "type": "pie"
           }
          ],
          "scatter": [
           {
            "marker": {
             "colorbar": {
              "outlinewidth": 0,
              "ticks": ""
             }
            },
            "type": "scatter"
           }
          ],
          "scatter3d": [
           {
            "line": {
             "colorbar": {
              "outlinewidth": 0,
              "ticks": ""
             }
            },
            "marker": {
             "colorbar": {
              "outlinewidth": 0,
              "ticks": ""
             }
            },
            "type": "scatter3d"
           }
          ],
          "scattercarpet": [
           {
            "marker": {
             "colorbar": {
              "outlinewidth": 0,
              "ticks": ""
             }
            },
            "type": "scattercarpet"
           }
          ],
          "scattergeo": [
           {
            "marker": {
             "colorbar": {
              "outlinewidth": 0,
              "ticks": ""
             }
            },
            "type": "scattergeo"
           }
          ],
          "scattergl": [
           {
            "marker": {
             "colorbar": {
              "outlinewidth": 0,
              "ticks": ""
             }
            },
            "type": "scattergl"
           }
          ],
          "scattermapbox": [
           {
            "marker": {
             "colorbar": {
              "outlinewidth": 0,
              "ticks": ""
             }
            },
            "type": "scattermapbox"
           }
          ],
          "scatterpolar": [
           {
            "marker": {
             "colorbar": {
              "outlinewidth": 0,
              "ticks": ""
             }
            },
            "type": "scatterpolar"
           }
          ],
          "scatterpolargl": [
           {
            "marker": {
             "colorbar": {
              "outlinewidth": 0,
              "ticks": ""
             }
            },
            "type": "scatterpolargl"
           }
          ],
          "scatterternary": [
           {
            "marker": {
             "colorbar": {
              "outlinewidth": 0,
              "ticks": ""
             }
            },
            "type": "scatterternary"
           }
          ],
          "surface": [
           {
            "colorbar": {
             "outlinewidth": 0,
             "ticks": ""
            },
            "colorscale": [
             [
              0,
              "#0d0887"
             ],
             [
              0.1111111111111111,
              "#46039f"
             ],
             [
              0.2222222222222222,
              "#7201a8"
             ],
             [
              0.3333333333333333,
              "#9c179e"
             ],
             [
              0.4444444444444444,
              "#bd3786"
             ],
             [
              0.5555555555555556,
              "#d8576b"
             ],
             [
              0.6666666666666666,
              "#ed7953"
             ],
             [
              0.7777777777777778,
              "#fb9f3a"
             ],
             [
              0.8888888888888888,
              "#fdca26"
             ],
             [
              1,
              "#f0f921"
             ]
            ],
            "type": "surface"
           }
          ],
          "table": [
           {
            "cells": {
             "fill": {
              "color": "#EBF0F8"
             },
             "line": {
              "color": "white"
             }
            },
            "header": {
             "fill": {
              "color": "#C8D4E3"
             },
             "line": {
              "color": "white"
             }
            },
            "type": "table"
           }
          ]
         },
         "layout": {
          "annotationdefaults": {
           "arrowcolor": "#2a3f5f",
           "arrowhead": 0,
           "arrowwidth": 1
          },
          "coloraxis": {
           "colorbar": {
            "outlinewidth": 0,
            "ticks": ""
           }
          },
          "colorscale": {
           "diverging": [
            [
             0,
             "#8e0152"
            ],
            [
             0.1,
             "#c51b7d"
            ],
            [
             0.2,
             "#de77ae"
            ],
            [
             0.3,
             "#f1b6da"
            ],
            [
             0.4,
             "#fde0ef"
            ],
            [
             0.5,
             "#f7f7f7"
            ],
            [
             0.6,
             "#e6f5d0"
            ],
            [
             0.7,
             "#b8e186"
            ],
            [
             0.8,
             "#7fbc41"
            ],
            [
             0.9,
             "#4d9221"
            ],
            [
             1,
             "#276419"
            ]
           ],
           "sequential": [
            [
             0,
             "#0d0887"
            ],
            [
             0.1111111111111111,
             "#46039f"
            ],
            [
             0.2222222222222222,
             "#7201a8"
            ],
            [
             0.3333333333333333,
             "#9c179e"
            ],
            [
             0.4444444444444444,
             "#bd3786"
            ],
            [
             0.5555555555555556,
             "#d8576b"
            ],
            [
             0.6666666666666666,
             "#ed7953"
            ],
            [
             0.7777777777777778,
             "#fb9f3a"
            ],
            [
             0.8888888888888888,
             "#fdca26"
            ],
            [
             1,
             "#f0f921"
            ]
           ],
           "sequentialminus": [
            [
             0,
             "#0d0887"
            ],
            [
             0.1111111111111111,
             "#46039f"
            ],
            [
             0.2222222222222222,
             "#7201a8"
            ],
            [
             0.3333333333333333,
             "#9c179e"
            ],
            [
             0.4444444444444444,
             "#bd3786"
            ],
            [
             0.5555555555555556,
             "#d8576b"
            ],
            [
             0.6666666666666666,
             "#ed7953"
            ],
            [
             0.7777777777777778,
             "#fb9f3a"
            ],
            [
             0.8888888888888888,
             "#fdca26"
            ],
            [
             1,
             "#f0f921"
            ]
           ]
          },
          "colorway": [
           "#636efa",
           "#EF553B",
           "#00cc96",
           "#ab63fa",
           "#FFA15A",
           "#19d3f3",
           "#FF6692",
           "#B6E880",
           "#FF97FF",
           "#FECB52"
          ],
          "font": {
           "color": "#2a3f5f"
          },
          "geo": {
           "bgcolor": "white",
           "lakecolor": "white",
           "landcolor": "#E5ECF6",
           "showlakes": true,
           "showland": true,
           "subunitcolor": "white"
          },
          "hoverlabel": {
           "align": "left"
          },
          "hovermode": "closest",
          "mapbox": {
           "style": "light"
          },
          "paper_bgcolor": "white",
          "plot_bgcolor": "#E5ECF6",
          "polar": {
           "angularaxis": {
            "gridcolor": "white",
            "linecolor": "white",
            "ticks": ""
           },
           "bgcolor": "#E5ECF6",
           "radialaxis": {
            "gridcolor": "white",
            "linecolor": "white",
            "ticks": ""
           }
          },
          "scene": {
           "xaxis": {
            "backgroundcolor": "#E5ECF6",
            "gridcolor": "white",
            "gridwidth": 2,
            "linecolor": "white",
            "showbackground": true,
            "ticks": "",
            "zerolinecolor": "white"
           },
           "yaxis": {
            "backgroundcolor": "#E5ECF6",
            "gridcolor": "white",
            "gridwidth": 2,
            "linecolor": "white",
            "showbackground": true,
            "ticks": "",
            "zerolinecolor": "white"
           },
           "zaxis": {
            "backgroundcolor": "#E5ECF6",
            "gridcolor": "white",
            "gridwidth": 2,
            "linecolor": "white",
            "showbackground": true,
            "ticks": "",
            "zerolinecolor": "white"
           }
          },
          "shapedefaults": {
           "line": {
            "color": "#2a3f5f"
           }
          },
          "ternary": {
           "aaxis": {
            "gridcolor": "white",
            "linecolor": "white",
            "ticks": ""
           },
           "baxis": {
            "gridcolor": "white",
            "linecolor": "white",
            "ticks": ""
           },
           "bgcolor": "#E5ECF6",
           "caxis": {
            "gridcolor": "white",
            "linecolor": "white",
            "ticks": ""
           }
          },
          "title": {
           "x": 0.05
          },
          "xaxis": {
           "automargin": true,
           "gridcolor": "white",
           "linecolor": "white",
           "ticks": "",
           "title": {
            "standoff": 15
           },
           "zerolinecolor": "white",
           "zerolinewidth": 2
          },
          "yaxis": {
           "automargin": true,
           "gridcolor": "white",
           "linecolor": "white",
           "ticks": "",
           "title": {
            "standoff": 15
           },
           "zerolinecolor": "white",
           "zerolinewidth": 2
          }
         }
        }
       }
      },
      "text/html": [
       "<div>\n",
       "        \n",
       "        \n",
       "            <div id=\"7beab76f-8799-45d7-9500-d9fe1d87b4cf\" class=\"plotly-graph-div\" style=\"height:525px; width:100%;\"></div>\n",
       "            <script type=\"text/javascript\">\n",
       "                require([\"plotly\"], function(Plotly) {\n",
       "                    window.PLOTLYENV=window.PLOTLYENV || {};\n",
       "                    \n",
       "                if (document.getElementById(\"7beab76f-8799-45d7-9500-d9fe1d87b4cf\")) {\n",
       "                    Plotly.newPlot(\n",
       "                        '7beab76f-8799-45d7-9500-d9fe1d87b4cf',\n",
       "                        [{\"mode\": \"markers\", \"name\": \"0\", \"type\": \"scatter\", \"x\": [3.961661445574057, 3.7879759023401225, 1.9345941376897937, 3.9405005929494465, 2.8448643798405073, 4.417186139274191, 5.035031400273705, 3.9393575330945665, 3.3190889903170526, 3.8572664370702596, 4.378267501859045, 4.357347647869521, 2.806004489928367, 3.433646095847995, 4.430825060765115, 3.9881118810062905, 3.139726348286637, 4.551634060494883, 3.7040403749897144, 4.418028528505911, 3.6298417735473336, 4.045028328392746, 4.058011845480177, 2.9394420513461297, 3.671320305729038, 3.6468111286917435, 4.374018585313994, 4.1403449462364925, 3.2794583363879006, 4.1801301814877485, 1.8851912757931828, 4.388949867045919, 3.5660442338016796, 3.1139028186049083, 3.3200764471529807, 3.849202221260172, 5.078835683558285, 3.4689485366887345, 4.818045356525845, 3.4876674170705573], \"y\": [0.10456899377793871, 0.32809743756648685, 0.18636779693232625, 0.5193838873251571, -0.8791323587651441, 1.2384001965612481, 0.16721973886605698, 0.5831571645408423, -0.5167176466878569, -0.5153239124048338, 0.6816179925837416, 0.03130273383246078, 1.1475819425107256, -0.25998366454925387, -0.8140707436059617, 0.3832295893516101, -0.7286356514359366, 0.9069730143693735, -0.7449563208593124, 0.27875594157370137, 0.9751890765523382, -0.7777080227769141, -0.16506638383696612, 1.5581309823098701, 0.30053285298825333, -0.7336552319818423, -0.05099335695846599, 0.9005928772612396, -0.8961872219085207, -0.3890668747752919, 0.5018150316697366, 0.011496853836238214, 0.21687237010177768, -0.7678349554992344, 0.3285141119378111, -0.42562156303320986, -0.7521016547791196, -1.5415091146062325, -1.0280115968202805, 1.6404130116882492]}, {\"mode\": \"markers\", \"name\": \"1\", \"type\": \"scatter\", \"x\": [-1.6601090873919537, -3.9833564014873817, -2.7746266599106124, -3.432026837290724, -2.4410429557109627, -1.6120037533787857, -2.8956417056698394, -2.7514708529433096, -2.5669455122512166, -0.701253018508994, -1.8081316535051013, -0.035535059414298055, -2.290653082301737, -1.1547078459361741, -2.494304077865143, -2.344610905212922, -2.834984926826341, -3.1915354931559765, -2.459964738014074, -3.2864207351432757, -1.0128664239149479, -0.7313778498307578, -1.5358711782770809, -2.295791736946358, -2.232571454567465, -3.071579158289737, -2.4493777293994516, -1.5669679182676737, -2.550367409501984, -2.532657716769992, -2.2537382676238806, -3.8938739739824837, -2.597064777279132, -2.4868690499330373, -1.001251043887711, -2.216347231509423, -1.148551490154552, -3.207558004175432, -2.7509555452513936, -2.4470014133399625, -3.0415487150099323, -2.5326972763332867], \"y\": [0.4334588135778569, -0.46653108866018417, -1.0901969449781088, -1.0803185371498654, -1.348224090418346, -1.7795884790579928, -0.6984232389932143, -1.8757433367374434, 0.5238405813474142, -2.278372264087729, -0.5376318125031802, -1.9192162836789122, -0.7840930376452327, -2.4498787736391727, -0.5888876889377411, -1.2898528946041437, -1.014169030513169, 0.5062643649648783, -0.6581539798772668, -1.847597549626408, -0.7524719739151539, -2.1815086728677437, -2.3462887536614807, -1.029066097203342, -0.8880052661062298, -0.7995678985124449, -1.064363052753622, -1.4418129560430413, 0.3832826598453972, -1.9675758914401278, -1.8718748426791547, -1.0046052380675046, -2.0137443007168385, -1.4384124017642785, -1.9661570421708416, -0.3844470550711227, -1.981508972533582, 0.4267581645568958, -0.9100428450351195, -1.668410897131914, -1.0287422674943674, -1.6922522350336349]}, {\"mode\": \"markers\", \"name\": \"2\", \"type\": \"scatter\", \"x\": [-2.166165645336686, -1.4813372768565378, -1.8216611294498621, -1.3983545120346261, 0.08632818843078398, -3.3108620806449305, -1.8407159260571548, -2.514569296644766, -3.3915083556474297, -1.7989030952852048, -1.4051280771880479, -1.545592191489789, -2.2145300889549255, -2.526428763519964, -2.679644230092953, -0.7721240994561825, -3.273052776775147, -2.4956563708818793, -2.397164114822394, -1.6465293184426524], \"y\": [2.5398443976955525, 3.370739758371434, 3.5845469964346446, 3.100627825747218, 1.865361138319609, 3.3952771532499666, 1.6487953521512981, 3.0602938393903996, 3.7570174110194126, 3.1112184494742214, 0.15763620689578076, 3.0501801633025405, 1.8410259785823073, 3.986017914589711, 4.661833332048652, 3.6103332643724566, 3.21942083481818, 3.210189509185247, 2.4227926751445095, 3.5655901325257977]}, {\"mode\": \"markers\", \"name\": \"3\", \"type\": \"scatter\", \"x\": [-0.24249539994260166, -0.27057005877175655, 2.637721967808482, 0.5648820081763268, -1.9983088243943499, -2.5196042946123263, -0.13642273391841347, 0.2849887464118559, -2.486814598057555, 4.354375365842601, 3.5307173547767885, 2.9649864727428326, -0.4986534752265418, -1.3811594685627553, -2.1887912348542105, -1.7194491775442668, 4.339632996869344, 3.3036187662169434, -0.5541140542465687, -0.010509034999900895, -2.9912760354004293, -2.924830610349585, -3.141672843937584, -2.3273406251204953, -2.6073252448166797, -2.327091231577329, -3.7657148325667804, -2.205400360722947], \"y\": [0.02600095637241775, -0.6754980756549376, -0.04796087116996233, -0.5137476742878944, -1.2758116728319548, -2.422031285404483, -0.8288603962543094, 0.6060487240327752, -0.8300081059738162, -0.07367728993799895, 0.743112240952637, -0.14460153924810185, -0.5756539984454264, 2.2984827500055496, -1.381301950333078, -1.5431227503261418, -0.6337184964971905, 0.7590948199849141, -0.04191704095548447, -0.7020625782496247, -1.2006963318508141, -0.4373906490141385, 4.135090185981335, -1.584570475295529, -2.119861839767546, -2.0152239140233608, -1.2554102419116844, -0.5629490490506408]}, {\"marker\": {\"color\": \"rgba(135, 206, 250, 0)\", \"line\": {\"color\": \"red\", \"width\": 5}, \"opacity\": 1, \"size\": 25}, \"mode\": \"markers\", \"showlegend\": false, \"type\": \"scatter\", \"x\": [-2.486814598057555], \"y\": [-0.8300081059738162]}],\n",
       "                        {\"template\": {\"data\": {\"bar\": [{\"error_x\": {\"color\": \"#2a3f5f\"}, \"error_y\": {\"color\": \"#2a3f5f\"}, \"marker\": {\"line\": {\"color\": \"#E5ECF6\", \"width\": 0.5}}, \"type\": \"bar\"}], \"barpolar\": [{\"marker\": {\"line\": {\"color\": \"#E5ECF6\", \"width\": 0.5}}, \"type\": \"barpolar\"}], \"carpet\": [{\"aaxis\": {\"endlinecolor\": \"#2a3f5f\", \"gridcolor\": \"white\", \"linecolor\": \"white\", \"minorgridcolor\": \"white\", \"startlinecolor\": \"#2a3f5f\"}, \"baxis\": {\"endlinecolor\": \"#2a3f5f\", \"gridcolor\": \"white\", \"linecolor\": \"white\", \"minorgridcolor\": \"white\", \"startlinecolor\": \"#2a3f5f\"}, \"type\": \"carpet\"}], \"choropleth\": [{\"colorbar\": {\"outlinewidth\": 0, \"ticks\": \"\"}, \"type\": \"choropleth\"}], \"contour\": [{\"colorbar\": {\"outlinewidth\": 0, \"ticks\": \"\"}, \"colorscale\": [[0.0, \"#0d0887\"], [0.1111111111111111, \"#46039f\"], [0.2222222222222222, \"#7201a8\"], [0.3333333333333333, \"#9c179e\"], [0.4444444444444444, \"#bd3786\"], [0.5555555555555556, \"#d8576b\"], [0.6666666666666666, \"#ed7953\"], [0.7777777777777778, \"#fb9f3a\"], [0.8888888888888888, \"#fdca26\"], [1.0, \"#f0f921\"]], \"type\": \"contour\"}], \"contourcarpet\": [{\"colorbar\": {\"outlinewidth\": 0, \"ticks\": \"\"}, \"type\": \"contourcarpet\"}], \"heatmap\": [{\"colorbar\": {\"outlinewidth\": 0, \"ticks\": \"\"}, \"colorscale\": [[0.0, \"#0d0887\"], [0.1111111111111111, \"#46039f\"], [0.2222222222222222, \"#7201a8\"], [0.3333333333333333, \"#9c179e\"], [0.4444444444444444, \"#bd3786\"], [0.5555555555555556, \"#d8576b\"], [0.6666666666666666, \"#ed7953\"], [0.7777777777777778, \"#fb9f3a\"], [0.8888888888888888, \"#fdca26\"], [1.0, \"#f0f921\"]], \"type\": \"heatmap\"}], \"heatmapgl\": [{\"colorbar\": {\"outlinewidth\": 0, \"ticks\": \"\"}, \"colorscale\": [[0.0, \"#0d0887\"], [0.1111111111111111, \"#46039f\"], [0.2222222222222222, \"#7201a8\"], [0.3333333333333333, \"#9c179e\"], [0.4444444444444444, \"#bd3786\"], [0.5555555555555556, \"#d8576b\"], [0.6666666666666666, \"#ed7953\"], [0.7777777777777778, \"#fb9f3a\"], [0.8888888888888888, \"#fdca26\"], [1.0, \"#f0f921\"]], \"type\": \"heatmapgl\"}], \"histogram\": [{\"marker\": {\"colorbar\": {\"outlinewidth\": 0, \"ticks\": \"\"}}, \"type\": \"histogram\"}], \"histogram2d\": [{\"colorbar\": {\"outlinewidth\": 0, \"ticks\": \"\"}, \"colorscale\": [[0.0, \"#0d0887\"], [0.1111111111111111, \"#46039f\"], [0.2222222222222222, \"#7201a8\"], [0.3333333333333333, \"#9c179e\"], [0.4444444444444444, \"#bd3786\"], [0.5555555555555556, \"#d8576b\"], [0.6666666666666666, \"#ed7953\"], [0.7777777777777778, \"#fb9f3a\"], [0.8888888888888888, \"#fdca26\"], [1.0, \"#f0f921\"]], \"type\": \"histogram2d\"}], \"histogram2dcontour\": [{\"colorbar\": {\"outlinewidth\": 0, \"ticks\": \"\"}, \"colorscale\": [[0.0, \"#0d0887\"], [0.1111111111111111, \"#46039f\"], [0.2222222222222222, \"#7201a8\"], [0.3333333333333333, \"#9c179e\"], [0.4444444444444444, \"#bd3786\"], [0.5555555555555556, \"#d8576b\"], [0.6666666666666666, \"#ed7953\"], [0.7777777777777778, \"#fb9f3a\"], [0.8888888888888888, \"#fdca26\"], [1.0, \"#f0f921\"]], \"type\": \"histogram2dcontour\"}], \"mesh3d\": [{\"colorbar\": {\"outlinewidth\": 0, \"ticks\": \"\"}, \"type\": \"mesh3d\"}], \"parcoords\": [{\"line\": {\"colorbar\": {\"outlinewidth\": 0, \"ticks\": \"\"}}, \"type\": \"parcoords\"}], \"pie\": [{\"automargin\": true, \"type\": \"pie\"}], \"scatter\": [{\"marker\": {\"colorbar\": {\"outlinewidth\": 0, \"ticks\": \"\"}}, \"type\": \"scatter\"}], \"scatter3d\": [{\"line\": {\"colorbar\": {\"outlinewidth\": 0, \"ticks\": \"\"}}, \"marker\": {\"colorbar\": {\"outlinewidth\": 0, \"ticks\": \"\"}}, \"type\": \"scatter3d\"}], \"scattercarpet\": [{\"marker\": {\"colorbar\": {\"outlinewidth\": 0, \"ticks\": \"\"}}, \"type\": \"scattercarpet\"}], \"scattergeo\": [{\"marker\": {\"colorbar\": {\"outlinewidth\": 0, \"ticks\": \"\"}}, \"type\": \"scattergeo\"}], \"scattergl\": [{\"marker\": {\"colorbar\": {\"outlinewidth\": 0, \"ticks\": \"\"}}, \"type\": \"scattergl\"}], \"scattermapbox\": [{\"marker\": {\"colorbar\": {\"outlinewidth\": 0, \"ticks\": \"\"}}, \"type\": \"scattermapbox\"}], \"scatterpolar\": [{\"marker\": {\"colorbar\": {\"outlinewidth\": 0, \"ticks\": \"\"}}, \"type\": \"scatterpolar\"}], \"scatterpolargl\": [{\"marker\": {\"colorbar\": {\"outlinewidth\": 0, \"ticks\": \"\"}}, \"type\": \"scatterpolargl\"}], \"scatterternary\": [{\"marker\": {\"colorbar\": {\"outlinewidth\": 0, \"ticks\": \"\"}}, \"type\": \"scatterternary\"}], \"surface\": [{\"colorbar\": {\"outlinewidth\": 0, \"ticks\": \"\"}, \"colorscale\": [[0.0, \"#0d0887\"], [0.1111111111111111, \"#46039f\"], [0.2222222222222222, \"#7201a8\"], [0.3333333333333333, \"#9c179e\"], [0.4444444444444444, \"#bd3786\"], [0.5555555555555556, \"#d8576b\"], [0.6666666666666666, \"#ed7953\"], [0.7777777777777778, \"#fb9f3a\"], [0.8888888888888888, \"#fdca26\"], [1.0, \"#f0f921\"]], \"type\": \"surface\"}], \"table\": [{\"cells\": {\"fill\": {\"color\": \"#EBF0F8\"}, \"line\": {\"color\": \"white\"}}, \"header\": {\"fill\": {\"color\": \"#C8D4E3\"}, \"line\": {\"color\": \"white\"}}, \"type\": \"table\"}]}, \"layout\": {\"annotationdefaults\": {\"arrowcolor\": \"#2a3f5f\", \"arrowhead\": 0, \"arrowwidth\": 1}, \"coloraxis\": {\"colorbar\": {\"outlinewidth\": 0, \"ticks\": \"\"}}, \"colorscale\": {\"diverging\": [[0, \"#8e0152\"], [0.1, \"#c51b7d\"], [0.2, \"#de77ae\"], [0.3, \"#f1b6da\"], [0.4, \"#fde0ef\"], [0.5, \"#f7f7f7\"], [0.6, \"#e6f5d0\"], [0.7, \"#b8e186\"], [0.8, \"#7fbc41\"], [0.9, \"#4d9221\"], [1, \"#276419\"]], \"sequential\": [[0.0, \"#0d0887\"], [0.1111111111111111, \"#46039f\"], [0.2222222222222222, \"#7201a8\"], [0.3333333333333333, \"#9c179e\"], [0.4444444444444444, \"#bd3786\"], [0.5555555555555556, \"#d8576b\"], [0.6666666666666666, \"#ed7953\"], [0.7777777777777778, \"#fb9f3a\"], [0.8888888888888888, \"#fdca26\"], [1.0, \"#f0f921\"]], \"sequentialminus\": [[0.0, \"#0d0887\"], [0.1111111111111111, \"#46039f\"], [0.2222222222222222, \"#7201a8\"], [0.3333333333333333, \"#9c179e\"], [0.4444444444444444, \"#bd3786\"], [0.5555555555555556, \"#d8576b\"], [0.6666666666666666, \"#ed7953\"], [0.7777777777777778, \"#fb9f3a\"], [0.8888888888888888, \"#fdca26\"], [1.0, \"#f0f921\"]]}, \"colorway\": [\"#636efa\", \"#EF553B\", \"#00cc96\", \"#ab63fa\", \"#FFA15A\", \"#19d3f3\", \"#FF6692\", \"#B6E880\", \"#FF97FF\", \"#FECB52\"], \"font\": {\"color\": \"#2a3f5f\"}, \"geo\": {\"bgcolor\": \"white\", \"lakecolor\": \"white\", \"landcolor\": \"#E5ECF6\", \"showlakes\": true, \"showland\": true, \"subunitcolor\": \"white\"}, \"hoverlabel\": {\"align\": \"left\"}, \"hovermode\": \"closest\", \"mapbox\": {\"style\": \"light\"}, \"paper_bgcolor\": \"white\", \"plot_bgcolor\": \"#E5ECF6\", \"polar\": {\"angularaxis\": {\"gridcolor\": \"white\", \"linecolor\": \"white\", \"ticks\": \"\"}, \"bgcolor\": \"#E5ECF6\", \"radialaxis\": {\"gridcolor\": \"white\", \"linecolor\": \"white\", \"ticks\": \"\"}}, \"scene\": {\"xaxis\": {\"backgroundcolor\": \"#E5ECF6\", \"gridcolor\": \"white\", \"gridwidth\": 2, \"linecolor\": \"white\", \"showbackground\": true, \"ticks\": \"\", \"zerolinecolor\": \"white\"}, \"yaxis\": {\"backgroundcolor\": \"#E5ECF6\", \"gridcolor\": \"white\", \"gridwidth\": 2, \"linecolor\": \"white\", \"showbackground\": true, \"ticks\": \"\", \"zerolinecolor\": \"white\"}, \"zaxis\": {\"backgroundcolor\": \"#E5ECF6\", \"gridcolor\": \"white\", \"gridwidth\": 2, \"linecolor\": \"white\", \"showbackground\": true, \"ticks\": \"\", \"zerolinecolor\": \"white\"}}, \"shapedefaults\": {\"line\": {\"color\": \"#2a3f5f\"}}, \"ternary\": {\"aaxis\": {\"gridcolor\": \"white\", \"linecolor\": \"white\", \"ticks\": \"\"}, \"baxis\": {\"gridcolor\": \"white\", \"linecolor\": \"white\", \"ticks\": \"\"}, \"bgcolor\": \"#E5ECF6\", \"caxis\": {\"gridcolor\": \"white\", \"linecolor\": \"white\", \"ticks\": \"\"}}, \"title\": {\"x\": 0.05}, \"xaxis\": {\"automargin\": true, \"gridcolor\": \"white\", \"linecolor\": \"white\", \"ticks\": \"\", \"title\": {\"standoff\": 15}, \"zerolinecolor\": \"white\", \"zerolinewidth\": 2}, \"yaxis\": {\"automargin\": true, \"gridcolor\": \"white\", \"linecolor\": \"white\", \"ticks\": \"\", \"title\": {\"standoff\": 15}, \"zerolinecolor\": \"white\", \"zerolinewidth\": 2}}}},\n",
       "                        {\"responsive\": true}\n",
       "                    ).then(function(){\n",
       "                            \n",
       "var gd = document.getElementById('7beab76f-8799-45d7-9500-d9fe1d87b4cf');\n",
       "var x = new MutationObserver(function (mutations, observer) {{\n",
       "        var display = window.getComputedStyle(gd).display;\n",
       "        if (!display || display === 'none') {{\n",
       "            console.log([gd, 'removed!']);\n",
       "            Plotly.purge(gd);\n",
       "            observer.disconnect();\n",
       "        }}\n",
       "}});\n",
       "\n",
       "// Listen for the removal of the full notebook cells\n",
       "var notebookContainer = gd.closest('#notebook-container');\n",
       "if (notebookContainer) {{\n",
       "    x.observe(notebookContainer, {childList: true});\n",
       "}}\n",
       "\n",
       "// Listen for the clearing of the current output cell\n",
       "var outputEl = gd.closest('.output');\n",
       "if (outputEl) {{\n",
       "    x.observe(outputEl, {childList: true});\n",
       "}}\n",
       "\n",
       "                        })\n",
       "                };\n",
       "                });\n",
       "            </script>\n",
       "        </div>"
      ]
     },
     "metadata": {},
     "output_type": "display_data"
    }
   ],
   "source": [
    "local_l= genotype[:,(nan_pos-int(wind_sizes/2)):(nan_pos+int(wind_sizes/2))]\n",
    "coords= {z:[x for x in range(len(label_vector)) if label_vector[x] == z] for z in list(set(label_vector))}\n",
    "\n",
    "pca2 = PCA(n_components=ncomps, whiten=False,svd_solver='randomized')\n",
    "featl= pca2.fit_transform(local_l)\n",
    "\n",
    "figwl= [go.Scatter(\n",
    "    x= featl[coords[i],0],\n",
    "    y= featl[coords[i],1],\n",
    "    mode= 'markers',\n",
    "    name= str(i)\n",
    ") for i in coords.keys()]\n",
    "\n",
    "figwl.append(go.Scatter(\n",
    "    mode='markers',\n",
    "    x=[featl[nan_acc,0]],\n",
    "    y=[featl[nan_acc,1]],\n",
    "    marker=dict(\n",
    "        color='rgba(135, 206, 250, 0)',\n",
    "        size=25,\n",
    "        opacity= 1,\n",
    "        line=dict(\n",
    "            color='red',\n",
    "            width=5\n",
    "        )\n",
    "    ),\n",
    "    showlegend=False\n",
    "))\n",
    "\n",
    "layout= go.Layout()\n",
    "\n",
    "Figure_wl= go.Figure(data= figwl, layout= layout)\n",
    "\n",
    "iplot(Figure_wl)"
   ]
  },
  {
   "cell_type": "markdown",
   "metadata": {},
   "source": [
    "\n",
    "### Distance profile - reference set.\n",
    "\n",
    "Decide which obervations to use the distance to, and where, to predict `nanObs` coordinates. \n",
    "\n",
    "**context**: different windows might span different patterns of admixture / structure. In the case the sample carrying the missing call is admixed, distance profiles may differ considerably. there are two main concerns here:\n",
    "- other admixed: we would like to reduce or remove the weight of the distances to these.\n",
    "- admixture border: `nanObs` is itself admixed, resulting in significantly different distance profiles. \n",
    "\n",
    "Observation specific distances across are measured across trainning windows. \n",
    "\n",
    "The approach below proposes to tackle both concerns raised above:\n",
    "\n",
    "    i. Variance in distance is calculated at the individual level. We seek the least variable reference points.\n",
    "    Variance clusters are identified using mean shift.\n",
    "    ii. Different distance profile groups identified using MeanShift. allows single cluster and excludes outliers.\n",
    "\n",
    "The group of accessions with the smallest average std is selected as focus obs.\n",
    "\n",
    "Reference distance profiles are selected as the largest cluster of profiles.  \n",
    "\n",
    "#### A. Distance profiles. \n",
    "\n",
    "\n",
    "Distance profiles consist of the ordered vectors of distances `nanObs` / `every other obs` of length N-1.\n",
    "\n",
    "Dimensionality reduction is applied and distances calculated in the resulting feature space. \n",
    "\n",
    "Here using `PCA` and `euclidean disances`.\n",
    "\n"
   ]
  },
  {
   "cell_type": "code",
   "execution_count": 53,
   "metadata": {},
   "outputs": [
    {
     "data": {
      "application/vnd.plotly.v1+json": {
       "config": {
        "linkText": "Export to plot.ly",
        "plotlyServerURL": "https://plot.ly",
        "showLink": false
       },
       "data": [
        {
         "mode": "markers",
         "name": "-1",
         "type": "scatter",
         "x": [
          -12.040125529138669,
          -9.88029810752291,
          -8.406334760036682,
          21.83986777888938,
          20.651862435184242,
          -13.091459379907274,
          -13.357255643373724,
          22.196347283028945,
          10.569930360542367,
          -12.183978215767816,
          -3.550538754750733,
          -10.135322202709883,
          11.25036832519901,
          17.2719705600241,
          -5.930654482715066,
          19.666032953442443,
          -13.593680414848023,
          3.046059846682267,
          -9.127343695036963,
          -3.775708194179847,
          17.4236008925117,
          -8.706596898554945,
          -7.31823747596911,
          -13.074234005508297,
          23.003008281017955,
          -12.85555933853976,
          -10.532406393064406,
          22.35865437231214,
          17.24667770283765,
          -13.75808618753046,
          -13.41875781147291,
          -4.838559626670769,
          -7.547744428426901,
          -6.617537614073852,
          -11.573250522927047,
          20.70157560892916,
          21.694970964052423,
          -11.755022003505276,
          22.270918236768384,
          24.95834592451182,
          21.92168001695303,
          -11.178990008062135,
          -12.023520803427418,
          20.017979246739333,
          -10.54514192272104,
          -7.532479162364995,
          -10.511674285205125,
          -17.4177481592342,
          -3.7394593704111814,
          -5.14747465549992,
          -10.627618320966533,
          -11.273687432509444,
          -4.201606752045576,
          21.596041780366622,
          -5.337593457351133,
          -6.451537141572538,
          25.696387179635646,
          -10.00602605064294,
          -4.482502936288936,
          4.759635738201592,
          -3.6001683802097575,
          -8.240262547925317,
          -9.653230920821562,
          -15.118373037539339,
          -7.944152347715299,
          -7.919127790083393,
          17.157682026984777,
          -10.307329606302751,
          -7.150876385642488,
          -11.436202905499048,
          -7.82492025844323,
          -4.589285047300014,
          -6.600423974617474,
          -16.06857198958213,
          -11.38372205966828,
          -12.654633551688898,
          -9.608426140542836,
          -6.804620648749946,
          -9.934960970754519,
          -5.861350111161058,
          -6.064568999193529,
          -13.72126248713807,
          -10.31093396279733,
          -14.61857797488148,
          20.588225486797754,
          4.322322279110052,
          19.854259826867104,
          16.993702715865425,
          5.185531752757533,
          -10.247469898472216,
          -11.994661250881956,
          10.075605057641013,
          -7.6952734514854395,
          -12.630005544120682,
          23.200246122934512,
          -8.782743400032356,
          -5.129609548601365,
          4.55600162155558,
          -13.00490160397289,
          -15.607750078196666,
          -2.823727424973958
         ],
         "y": [
          5.861298148054284,
          11.450277944985316,
          14.738934481664938,
          5.759202459525177,
          5.649565632055424,
          6.868690929390815,
          5.59876618785093,
          10.241214403676913,
          -12.403124063022101,
          12.629664623775856,
          9.037568272954687,
          11.438056094902713,
          2.2412461793965144,
          12.513160151325863,
          9.408801724463956,
          1.0189853753951026,
          10.949513939051563,
          5.762800580828067,
          16.578547979616225,
          8.797130082440223,
          2.562760508777389,
          -14.885586895535086,
          9.642664172904592,
          15.130303774581682,
          9.014149598700566,
          4.730347021602784,
          12.406434188455997,
          3.2424598997903673,
          1.1672986116345756,
          -12.26534420022215,
          6.877547220418078,
          12.0999701355304,
          17.74685198313101,
          11.359731943015403,
          11.869246596022085,
          5.726802049119134,
          5.6715896793201415,
          6.9845474084077255,
          6.883015077793521,
          5.7617182076513425,
          1.5964279493542275,
          25.255775056421463,
          9.745852539199724,
          10.085380071790635,
          12.525833427777371,
          8.98973475793269,
          8.454747354446942,
          12.382172709273766,
          18.84513898097468,
          9.902938246345347,
          9.78671136683346,
          4.503283465084677,
          10.28221257768657,
          6.669066210404668,
          13.749937206933325,
          10.538591959577664,
          8.235421352190754,
          -12.417152881911502,
          12.564080677496234,
          -4.670173197706419,
          8.389098524509178,
          -14.50877387688538,
          11.960730744624094,
          3.6960053091632368,
          15.7354972253568,
          8.678073630328802,
          11.452250021847837,
          8.903559855354624,
          10.738032206598303,
          6.918308781926587,
          10.405276399116081,
          11.578136074022577,
          -15.89499516385443,
          7.814779120335299,
          17.354068686773765,
          -0.4548090565440662,
          11.967540713950424,
          -14.538819838138274,
          14.552637003234283,
          19.971718492727685,
          11.149709717116307,
          17.247872516896557,
          11.863806918113907,
          -1.4170195718778877,
          9.36252409073994,
          -11.305002712077718,
          9.498349950624517,
          10.56104408719031,
          -10.948996245485123,
          10.17537184452746,
          -12.043498638789588,
          -16.07056563072348,
          11.579209806188343,
          10.873761853207808,
          1.6695595397729717,
          14.214965746635242,
          10.148908586500959,
          6.703537921740008,
          5.610931414254213,
          -0.3366194544231145,
          10.554823012872301
         ]
        },
        {
         "mode": "markers",
         "name": "0",
         "type": "scatter",
         "x": [
          -5.492478004169264,
          -8.214367225999503,
          -8.151963592954848,
          -8.354380411247718,
          0.017557073492485482,
          -6.206372422877802,
          -8.194779675404762,
          -9.334253373377425,
          -6.87541888382361,
          -5.517393643767311,
          0.49254555373337044,
          -7.930592703840591,
          -9.651406202239823,
          -4.2037073882682545,
          -9.143656142800097,
          -9.914043320281774,
          -9.76699966297284,
          -12.546556156311214,
          -7.752529031935622,
          -6.4862108791146005,
          -4.413877675481868,
          -6.930324429639205,
          3.912342548815739,
          -7.728203706405149,
          2.8516236764180065,
          -4.271207004589959,
          -11.237824878900168,
          -7.849528341319796,
          2.7082993932691375,
          -4.820163274777939,
          -3.3344314319259616,
          -6.4302899166034795,
          -6.133931758413106,
          -11.164847250591741,
          -6.6300851831910625,
          -4.711926719962941,
          -3.4170705047271226,
          0.970558574153759,
          -8.512796238109766,
          -7.863504748791506,
          -11.02360374627909,
          -11.511338691163987,
          -7.370475289943753,
          -2.452839928981657,
          -3.5549165770825484,
          -5.7242575242958695,
          -8.128784561174623,
          -4.137443466780713,
          -4.331038826513792,
          -11.080066448413126,
          -10.34243568419436,
          0.13759286073806742,
          -7.334136890499988,
          -7.705277206780533,
          -10.781558918109852,
          -6.320475893851093,
          -7.240924967258449,
          -1.99418430803067,
          -7.827359538953908,
          -2.534934904092557,
          -7.824149520754282,
          -0.7658418132402854,
          -12.399858640199012,
          -8.683698413735057,
          -10.289765726863799,
          -6.829506039967138,
          -5.369915121105844,
          -11.386297747376538,
          -8.799666479636297,
          -6.601425096457592,
          -12.997399443392206,
          -2.707690318409187,
          -5.837537432397731,
          -9.758160422244789,
          -4.179024827339845,
          -12.628539412673994,
          3.7032890871369264,
          -3.997434093251727,
          -9.229490827218013,
          -0.4189138844897236,
          -8.611732230298445,
          1.36363703558684,
          -5.295760558124584,
          3.8637903026786273,
          -7.191410104916239,
          -9.65326137709464,
          4.573371724673135,
          0.3358499486400503,
          -8.82708123456208,
          -4.015199363888054,
          -7.355046044576843,
          -5.010895541016266,
          -12.287848401676246,
          -9.33660462215227,
          -10.490864210870212,
          -0.8842635358211373,
          -8.706772973387046,
          1.3058890319120207,
          -7.767396860158892,
          -7.4328451775155715,
          -9.494244087054986,
          -7.246433498862755,
          -3.4006548964854115,
          4.333340554595336,
          -4.239642822394923,
          -0.19644140967820012,
          -9.322076821075761,
          -3.575325496589438,
          -4.216557405116587,
          -8.598744578436568,
          3.3435487163445914,
          -11.190667759133936,
          -4.14526106154977,
          -1.661597910580582,
          -7.7784306727499395,
          -4.638211942837057,
          -7.850867658406383,
          1.4780756944709346,
          -7.692899060117026,
          -6.5721651152056895,
          -1.7879057849846876,
          -2.8688321615960946,
          -2.158913216066066,
          -8.888303675797323,
          -13.939655050741955,
          -8.268618653846492,
          -5.4977596784610645,
          -9.288230687712563,
          -7.539834280963473,
          -10.980785953722664,
          -7.935537227458276,
          -2.038125470356089,
          -7.312238862460546,
          -8.084633768172834,
          -0.882591723100388,
          -7.558796245774062,
          -2.8926184713841323,
          -1.5381476103463343,
          -5.295759379112711,
          1.3888089400337336,
          -10.433825836145685,
          -3.8266222487233366,
          -8.810986162867735,
          1.5987342496474704,
          -5.635135064185767,
          -12.384417696422005,
          -7.268324330729016,
          -2.8162464382175134,
          -9.223805608352563,
          3.357831163354861,
          -3.3296208450310747,
          3.9247369820480706,
          -6.042033925010069,
          -9.877899102861257,
          0.11522575021957858,
          -8.326929459501768,
          -6.8563255154751275,
          -5.785603039445709,
          -7.158412441843263,
          -0.8005045086431531,
          0.3686681844439949,
          3.081418979290237,
          -7.060276638662799,
          -7.8601496936053,
          -10.622859237450664,
          -6.11381135389984,
          -5.49210769932649,
          -4.659193311018825,
          -6.326711278481717,
          -10.786400210751493,
          -10.64457139025617,
          -8.940243352452395,
          -4.916798167279341,
          -4.9965622305142015,
          -4.589194237211783,
          -6.944141218859587,
          -2.4478767958404104,
          -12.340463514798078,
          -11.176558930618837,
          -5.472522046314348,
          -2.648829183260801,
          0.8231446190646673,
          -0.5235081651691615,
          1.7734857789694374,
          -10.799743431970104,
          -12.695812912541653,
          -7.56393299457151,
          -3.5997789801220925,
          -0.3604972223741991,
          -8.518328338957025,
          -2.1296124468088395,
          -11.580392443449343,
          -10.556308132028503,
          -10.009410618689229,
          -5.95204702178304,
          -2.6576226337980655,
          -8.29550365410012,
          0.9271977270063142,
          -3.921593151367689,
          -6.874842531875284,
          1.49276437209298,
          1.6675117050117398,
          3.7180799503019357,
          -5.9214407902584565,
          -10.72469899203739,
          -11.735832208198001,
          -9.881054950210173
         ],
         "y": [
          -7.59194554418199,
          6.757755663044452,
          -10.157557726526834,
          1.2918226989792445,
          -8.433496686877396,
          0.9237079760374494,
          5.876808328932846,
          -3.810146140055916,
          -6.933833825925136,
          -7.715076268064355,
          -2.321091820640777,
          -0.9419045049834713,
          -6.361879415165953,
          -1.2181520592285346,
          3.7381882333532737,
          -10.262756077655013,
          -8.177892105046116,
          -1.8062131648052628,
          -8.293574978423969,
          -1.8182449490949368,
          5.325518488151245,
          4.458806513779066,
          -5.541260539381386,
          -6.538976539696502,
          -8.538021873219948,
          4.8600313767753685,
          -7.30688970531953,
          -10.826724627255604,
          -4.875209450055872,
          -11.362498609007663,
          2.723063201138465,
          6.336509149545559,
          -10.53799490749334,
          -0.3474819948523355,
          -2.00173232875393,
          -8.43379465013028,
          -9.115696335092846,
          5.8826306553782794,
          -7.231301400765383,
          3.2857239419670727,
          -5.96748228232629,
          0.46954124087057597,
          -4.417284761947697,
          5.8550077394557585,
          1.6781037999622328,
          2.953500735616134,
          3.617256163999203,
          5.558853174375076,
          -6.728182967002427,
          -5.961490782960282,
          0.975959268020259,
          4.165285012784052,
          8.910136994207518,
          1.7550568829888917,
          0.08576077670979411,
          -1.8336149701779834,
          8.125982428935645,
          5.111582634098359,
          -7.5107983294145,
          -13.675719326903756,
          -4.794381137155371,
          -7.503363462787636,
          -8.576197942272234,
          -6.702944841470467,
          -0.1013211560929431,
          1.3423961741818335,
          -6.369643488490935,
          4.895461050651706,
          -7.55721129113178,
          -1.6025427447001226,
          -3.7864606550257043,
          -3.5873582352746776,
          -1.9636716938322445,
          3.888701890833301,
          2.1638793715407303,
          1.2730832319257057,
          -1.72992305060085,
          0.9342718037571276,
          -4.205727267275254,
          -10.050501792449541,
          5.7103074423748605,
          -4.182061735110767,
          0.4315800437593796,
          1.0483918438121969,
          7.111338720820721,
          5.813029393111294,
          -6.792199832336933,
          -4.920795246121806,
          5.9159862793249784,
          -3.118196498510014,
          0.27479932096408216,
          -1.8158271002632314,
          -2.9816219378239346,
          -3.8039865666369668,
          -7.02671262880738,
          -3.374259008245619,
          1.637521289921359,
          0.4895905178415724,
          -7.87966642420418,
          7.423626867418345,
          -7.282972237792817,
          3.2443841869824848,
          -7.280508872104521,
          -4.493596546411641,
          -4.984520194179146,
          -5.196454195882991,
          2.355754291445767,
          -6.794952621135867,
          5.685518459065026,
          -10.019470040597941,
          -9.70774285914396,
          1.3208610892601609,
          5.296619327842969,
          -6.542420124071135,
          -6.581908205245601,
          -4.711673540196755,
          5.733296523300183,
          -4.366625427298065,
          -3.0856864420928174,
          0.4400315520453576,
          -7.488390691386388,
          0.4932965826214026,
          -5.972925151640734,
          -9.80234517488532,
          -2.0170340871036068,
          -12.09220724859915,
          -6.612076606507829,
          -4.960607906295779,
          -5.370131735840508,
          5.59996551472486,
          0.9894176868992172,
          -1.88379461277048,
          -6.947726598749525,
          -3.72006888050961,
          0.8752865387690492,
          -12.194702279696974,
          -1.199094313370352,
          2.5915257546996537,
          -8.40018741810724,
          4.618057939762945,
          0.5635970238415273,
          -7.684623327018078,
          -11.650669660013824,
          4.423620119714182,
          -7.188222913459006,
          4.257569242992535,
          -7.5881154436752025,
          0.21217828154097165,
          -3.9493637715890006,
          0.4958574506026058,
          -1.397516810304679,
          -7.698196956748556,
          -4.751169032762108,
          -10.997520874175324,
          -4.046874259933731,
          -1.3728668876505663,
          -11.15536837535231,
          -0.5842715987894789,
          -7.907023824678409,
          -3.2957612646353858,
          -7.071854384138416,
          -8.649957987426442,
          -7.489140743246522,
          -4.095594625551437,
          0.1790380420863562,
          -10.450059217023156,
          -3.1860947241382016,
          -10.68242125623112,
          -0.7681872124822424,
          2.9645270568553976,
          4.751351085445488,
          -6.109201590422139,
          7.196779676510373,
          -7.96472839639159,
          -13.84254061125954,
          -1.2586484197816692,
          -6.82235441675564,
          -6.011507303654438,
          -3.500525697532935,
          8.898653658340619,
          -13.083612866187126,
          -6.24336516726444,
          -5.41925994441116,
          -0.3903696702234352,
          -5.289542322535705,
          -4.478325437522541,
          -4.442930772059174,
          -12.130268619869103,
          -9.63529334192454,
          -11.155472142137096,
          2.341976242110417,
          6.362063402450484,
          -9.37880469749225,
          7.201158380164489,
          -12.323128226142694,
          2.7652156803924903,
          -11.365525014283177,
          -6.25581823977357,
          -3.46047584265319,
          -7.808114220468528,
          -0.9639811528013198,
          -8.882724583856643,
          -1.0344001447000233,
          -12.423047305802985,
          6.703668889097165,
          -10.62698018288961,
          -7.053175092033719
         ]
        },
        {
         "mode": "markers",
         "name": "1",
         "type": "scatter",
         "x": [
          16.100235125155248,
          18.9150865847792,
          13.377702118806644,
          4.8803866509390685,
          21.367985741894667,
          22.113497068765135,
          7.7579352851955,
          20.05350038411434,
          14.599082549745024,
          10.205471763364597,
          13.19776351614652,
          10.871256927319392,
          22.042526426754314,
          11.166498042673798,
          8.357124886255797,
          18.568303248343323,
          16.798030860664575,
          17.78931286224586,
          8.770294200163143,
          5.938163846114519,
          21.120378868881907,
          12.39261998339114,
          18.053432495989224,
          11.042810783182675,
          7.7824838717260825,
          5.410909588492936,
          5.755042322643651,
          22.968398548583735,
          18.680532917441674,
          5.509409499756068,
          4.031375072723594,
          19.754302510825706,
          17.567159807414882,
          14.932989296887802,
          21.112879518068105,
          20.8308183221504,
          9.8800152616607,
          16.418724194013173,
          18.227688908013597,
          14.39727620107665,
          16.744319638208406,
          7.846461107967176,
          12.486517117748663,
          16.603808061373265,
          14.057402522487106,
          19.866684913555485,
          21.894905022035527,
          22.201563808697863,
          6.734129161187322,
          20.869736356530257,
          20.53683371973672,
          4.455264455334065,
          19.449934096749846,
          17.242580050982518,
          19.319930567793296,
          18.764960703897007,
          22.445402325123673,
          5.986692224220612,
          14.659534875840306,
          6.740429856341606,
          8.766761785595474,
          21.8305816034269,
          18.284148421513173,
          16.4750457945167,
          13.032793517421261,
          13.147059018178332,
          20.8293064170099,
          14.627625761165852,
          13.305859412329188,
          19.307783461742417,
          20.325274456436073,
          18.948784123750325,
          9.935223782051787,
          5.536022879256415,
          14.388694381907326,
          10.581479812994223,
          5.094490684563075,
          21.51860848429043,
          20.766952412869962,
          18.33460681552507,
          18.22970064132835,
          19.572178101745404,
          5.214533556051612,
          12.50877690946578,
          23.135951685557735,
          6.300179522597696,
          11.207457319690894,
          19.441957093928814,
          20.696562128705086,
          19.224927675125848,
          7.92947566689203
         ],
         "y": [
          -0.6508679274066032,
          -0.9367036490893478,
          1.3458683368269462,
          -5.105305848521703,
          2.85792276048977,
          -0.0013208733910529665,
          -0.12745046759859197,
          0.5807911116455394,
          -2.100844257062232,
          -5.355223499793614,
          -0.5074941039850954,
          -7.045421709961221,
          4.948741762547225,
          4.161023092987228,
          2.364968326611342,
          -1.8391525078762534,
          -2.628260362803015,
          1.2924285010495962,
          -7.425761087178732,
          -2.9752072452860636,
          1.843440723630133,
          4.901080026426387,
          3.674122725461406,
          -5.290320995413655,
          -2.704832729994308,
          -6.6578192695981215,
          -2.0449236265411748,
          2.9471442436396544,
          6.7643363662728095,
          -6.750921258081759,
          2.892014971678654,
          -1.3562193045492974,
          -1.5349117116765727,
          5.154501813234045,
          2.7374755585076485,
          1.2587206214061242,
          -8.624844515741671,
          -2.3696104840130605,
          -1.1570577647058005,
          -2.9474789279103044,
          3.8884301131069194,
          -7.642241981128611,
          -5.829468295648831,
          -2.423642884809144,
          0.23504349245644166,
          1.0061207956021219,
          2.3194957288367313,
          1.35114182822534,
          -0.9356821066880019,
          -0.14403319666584968,
          -0.0489851499232665,
          -0.6421017407420975,
          -0.81908061513757,
          -1.8678992786438333,
          -1.7038781245388324,
          6.26147162921271,
          1.4241672364705904,
          5.114960509495982,
          -3.319479908735589,
          -5.3684979328280695,
          -10.040391043520621,
          2.3700549262153876,
          3.7105230735600543,
          -0.5353583954435933,
          -4.640651901057863,
          -7.996110984860095,
          -1.5575833654736613,
          1.8444155361518546,
          -5.241090353020557,
          3.1897692527603123,
          0.7873443054772048,
          -0.2788021082288967,
          -6.249745019025646,
          -2.5821574968551158,
          -3.0269161252416414,
          -5.937651521209499,
          -8.145288250127615,
          0.8128145742501474,
          2.9397779298277866,
          1.5446083465054457,
          -1.1526550719619193,
          3.973250539378895,
          -8.44421469887747,
          0.22899879733397271,
          1.9625771261234675,
          -6.333708706797367,
          -3.1435025967432626,
          -0.10445454447380882,
          0.061000654474145335,
          -2.503755071010814,
          -5.375868499087447
         ]
        },
        {
         "mode": "markers",
         "name": "2",
         "type": "scatter",
         "x": [
          -7.321929002035701
         ],
         "y": [
          22.828016181429337
         ]
        }
       ],
       "layout": {
        "template": {
         "data": {
          "bar": [
           {
            "error_x": {
             "color": "#2a3f5f"
            },
            "error_y": {
             "color": "#2a3f5f"
            },
            "marker": {
             "line": {
              "color": "#E5ECF6",
              "width": 0.5
             }
            },
            "type": "bar"
           }
          ],
          "barpolar": [
           {
            "marker": {
             "line": {
              "color": "#E5ECF6",
              "width": 0.5
             }
            },
            "type": "barpolar"
           }
          ],
          "carpet": [
           {
            "aaxis": {
             "endlinecolor": "#2a3f5f",
             "gridcolor": "white",
             "linecolor": "white",
             "minorgridcolor": "white",
             "startlinecolor": "#2a3f5f"
            },
            "baxis": {
             "endlinecolor": "#2a3f5f",
             "gridcolor": "white",
             "linecolor": "white",
             "minorgridcolor": "white",
             "startlinecolor": "#2a3f5f"
            },
            "type": "carpet"
           }
          ],
          "choropleth": [
           {
            "colorbar": {
             "outlinewidth": 0,
             "ticks": ""
            },
            "type": "choropleth"
           }
          ],
          "contour": [
           {
            "colorbar": {
             "outlinewidth": 0,
             "ticks": ""
            },
            "colorscale": [
             [
              0,
              "#0d0887"
             ],
             [
              0.1111111111111111,
              "#46039f"
             ],
             [
              0.2222222222222222,
              "#7201a8"
             ],
             [
              0.3333333333333333,
              "#9c179e"
             ],
             [
              0.4444444444444444,
              "#bd3786"
             ],
             [
              0.5555555555555556,
              "#d8576b"
             ],
             [
              0.6666666666666666,
              "#ed7953"
             ],
             [
              0.7777777777777778,
              "#fb9f3a"
             ],
             [
              0.8888888888888888,
              "#fdca26"
             ],
             [
              1,
              "#f0f921"
             ]
            ],
            "type": "contour"
           }
          ],
          "contourcarpet": [
           {
            "colorbar": {
             "outlinewidth": 0,
             "ticks": ""
            },
            "type": "contourcarpet"
           }
          ],
          "heatmap": [
           {
            "colorbar": {
             "outlinewidth": 0,
             "ticks": ""
            },
            "colorscale": [
             [
              0,
              "#0d0887"
             ],
             [
              0.1111111111111111,
              "#46039f"
             ],
             [
              0.2222222222222222,
              "#7201a8"
             ],
             [
              0.3333333333333333,
              "#9c179e"
             ],
             [
              0.4444444444444444,
              "#bd3786"
             ],
             [
              0.5555555555555556,
              "#d8576b"
             ],
             [
              0.6666666666666666,
              "#ed7953"
             ],
             [
              0.7777777777777778,
              "#fb9f3a"
             ],
             [
              0.8888888888888888,
              "#fdca26"
             ],
             [
              1,
              "#f0f921"
             ]
            ],
            "type": "heatmap"
           }
          ],
          "heatmapgl": [
           {
            "colorbar": {
             "outlinewidth": 0,
             "ticks": ""
            },
            "colorscale": [
             [
              0,
              "#0d0887"
             ],
             [
              0.1111111111111111,
              "#46039f"
             ],
             [
              0.2222222222222222,
              "#7201a8"
             ],
             [
              0.3333333333333333,
              "#9c179e"
             ],
             [
              0.4444444444444444,
              "#bd3786"
             ],
             [
              0.5555555555555556,
              "#d8576b"
             ],
             [
              0.6666666666666666,
              "#ed7953"
             ],
             [
              0.7777777777777778,
              "#fb9f3a"
             ],
             [
              0.8888888888888888,
              "#fdca26"
             ],
             [
              1,
              "#f0f921"
             ]
            ],
            "type": "heatmapgl"
           }
          ],
          "histogram": [
           {
            "marker": {
             "colorbar": {
              "outlinewidth": 0,
              "ticks": ""
             }
            },
            "type": "histogram"
           }
          ],
          "histogram2d": [
           {
            "colorbar": {
             "outlinewidth": 0,
             "ticks": ""
            },
            "colorscale": [
             [
              0,
              "#0d0887"
             ],
             [
              0.1111111111111111,
              "#46039f"
             ],
             [
              0.2222222222222222,
              "#7201a8"
             ],
             [
              0.3333333333333333,
              "#9c179e"
             ],
             [
              0.4444444444444444,
              "#bd3786"
             ],
             [
              0.5555555555555556,
              "#d8576b"
             ],
             [
              0.6666666666666666,
              "#ed7953"
             ],
             [
              0.7777777777777778,
              "#fb9f3a"
             ],
             [
              0.8888888888888888,
              "#fdca26"
             ],
             [
              1,
              "#f0f921"
             ]
            ],
            "type": "histogram2d"
           }
          ],
          "histogram2dcontour": [
           {
            "colorbar": {
             "outlinewidth": 0,
             "ticks": ""
            },
            "colorscale": [
             [
              0,
              "#0d0887"
             ],
             [
              0.1111111111111111,
              "#46039f"
             ],
             [
              0.2222222222222222,
              "#7201a8"
             ],
             [
              0.3333333333333333,
              "#9c179e"
             ],
             [
              0.4444444444444444,
              "#bd3786"
             ],
             [
              0.5555555555555556,
              "#d8576b"
             ],
             [
              0.6666666666666666,
              "#ed7953"
             ],
             [
              0.7777777777777778,
              "#fb9f3a"
             ],
             [
              0.8888888888888888,
              "#fdca26"
             ],
             [
              1,
              "#f0f921"
             ]
            ],
            "type": "histogram2dcontour"
           }
          ],
          "mesh3d": [
           {
            "colorbar": {
             "outlinewidth": 0,
             "ticks": ""
            },
            "type": "mesh3d"
           }
          ],
          "parcoords": [
           {
            "line": {
             "colorbar": {
              "outlinewidth": 0,
              "ticks": ""
             }
            },
            "type": "parcoords"
           }
          ],
          "pie": [
           {
            "automargin": true,
            "type": "pie"
           }
          ],
          "scatter": [
           {
            "marker": {
             "colorbar": {
              "outlinewidth": 0,
              "ticks": ""
             }
            },
            "type": "scatter"
           }
          ],
          "scatter3d": [
           {
            "line": {
             "colorbar": {
              "outlinewidth": 0,
              "ticks": ""
             }
            },
            "marker": {
             "colorbar": {
              "outlinewidth": 0,
              "ticks": ""
             }
            },
            "type": "scatter3d"
           }
          ],
          "scattercarpet": [
           {
            "marker": {
             "colorbar": {
              "outlinewidth": 0,
              "ticks": ""
             }
            },
            "type": "scattercarpet"
           }
          ],
          "scattergeo": [
           {
            "marker": {
             "colorbar": {
              "outlinewidth": 0,
              "ticks": ""
             }
            },
            "type": "scattergeo"
           }
          ],
          "scattergl": [
           {
            "marker": {
             "colorbar": {
              "outlinewidth": 0,
              "ticks": ""
             }
            },
            "type": "scattergl"
           }
          ],
          "scattermapbox": [
           {
            "marker": {
             "colorbar": {
              "outlinewidth": 0,
              "ticks": ""
             }
            },
            "type": "scattermapbox"
           }
          ],
          "scatterpolar": [
           {
            "marker": {
             "colorbar": {
              "outlinewidth": 0,
              "ticks": ""
             }
            },
            "type": "scatterpolar"
           }
          ],
          "scatterpolargl": [
           {
            "marker": {
             "colorbar": {
              "outlinewidth": 0,
              "ticks": ""
             }
            },
            "type": "scatterpolargl"
           }
          ],
          "scatterternary": [
           {
            "marker": {
             "colorbar": {
              "outlinewidth": 0,
              "ticks": ""
             }
            },
            "type": "scatterternary"
           }
          ],
          "surface": [
           {
            "colorbar": {
             "outlinewidth": 0,
             "ticks": ""
            },
            "colorscale": [
             [
              0,
              "#0d0887"
             ],
             [
              0.1111111111111111,
              "#46039f"
             ],
             [
              0.2222222222222222,
              "#7201a8"
             ],
             [
              0.3333333333333333,
              "#9c179e"
             ],
             [
              0.4444444444444444,
              "#bd3786"
             ],
             [
              0.5555555555555556,
              "#d8576b"
             ],
             [
              0.6666666666666666,
              "#ed7953"
             ],
             [
              0.7777777777777778,
              "#fb9f3a"
             ],
             [
              0.8888888888888888,
              "#fdca26"
             ],
             [
              1,
              "#f0f921"
             ]
            ],
            "type": "surface"
           }
          ],
          "table": [
           {
            "cells": {
             "fill": {
              "color": "#EBF0F8"
             },
             "line": {
              "color": "white"
             }
            },
            "header": {
             "fill": {
              "color": "#C8D4E3"
             },
             "line": {
              "color": "white"
             }
            },
            "type": "table"
           }
          ]
         },
         "layout": {
          "annotationdefaults": {
           "arrowcolor": "#2a3f5f",
           "arrowhead": 0,
           "arrowwidth": 1
          },
          "coloraxis": {
           "colorbar": {
            "outlinewidth": 0,
            "ticks": ""
           }
          },
          "colorscale": {
           "diverging": [
            [
             0,
             "#8e0152"
            ],
            [
             0.1,
             "#c51b7d"
            ],
            [
             0.2,
             "#de77ae"
            ],
            [
             0.3,
             "#f1b6da"
            ],
            [
             0.4,
             "#fde0ef"
            ],
            [
             0.5,
             "#f7f7f7"
            ],
            [
             0.6,
             "#e6f5d0"
            ],
            [
             0.7,
             "#b8e186"
            ],
            [
             0.8,
             "#7fbc41"
            ],
            [
             0.9,
             "#4d9221"
            ],
            [
             1,
             "#276419"
            ]
           ],
           "sequential": [
            [
             0,
             "#0d0887"
            ],
            [
             0.1111111111111111,
             "#46039f"
            ],
            [
             0.2222222222222222,
             "#7201a8"
            ],
            [
             0.3333333333333333,
             "#9c179e"
            ],
            [
             0.4444444444444444,
             "#bd3786"
            ],
            [
             0.5555555555555556,
             "#d8576b"
            ],
            [
             0.6666666666666666,
             "#ed7953"
            ],
            [
             0.7777777777777778,
             "#fb9f3a"
            ],
            [
             0.8888888888888888,
             "#fdca26"
            ],
            [
             1,
             "#f0f921"
            ]
           ],
           "sequentialminus": [
            [
             0,
             "#0d0887"
            ],
            [
             0.1111111111111111,
             "#46039f"
            ],
            [
             0.2222222222222222,
             "#7201a8"
            ],
            [
             0.3333333333333333,
             "#9c179e"
            ],
            [
             0.4444444444444444,
             "#bd3786"
            ],
            [
             0.5555555555555556,
             "#d8576b"
            ],
            [
             0.6666666666666666,
             "#ed7953"
            ],
            [
             0.7777777777777778,
             "#fb9f3a"
            ],
            [
             0.8888888888888888,
             "#fdca26"
            ],
            [
             1,
             "#f0f921"
            ]
           ]
          },
          "colorway": [
           "#636efa",
           "#EF553B",
           "#00cc96",
           "#ab63fa",
           "#FFA15A",
           "#19d3f3",
           "#FF6692",
           "#B6E880",
           "#FF97FF",
           "#FECB52"
          ],
          "font": {
           "color": "#2a3f5f"
          },
          "geo": {
           "bgcolor": "white",
           "lakecolor": "white",
           "landcolor": "#E5ECF6",
           "showlakes": true,
           "showland": true,
           "subunitcolor": "white"
          },
          "hoverlabel": {
           "align": "left"
          },
          "hovermode": "closest",
          "mapbox": {
           "style": "light"
          },
          "paper_bgcolor": "white",
          "plot_bgcolor": "#E5ECF6",
          "polar": {
           "angularaxis": {
            "gridcolor": "white",
            "linecolor": "white",
            "ticks": ""
           },
           "bgcolor": "#E5ECF6",
           "radialaxis": {
            "gridcolor": "white",
            "linecolor": "white",
            "ticks": ""
           }
          },
          "scene": {
           "xaxis": {
            "backgroundcolor": "#E5ECF6",
            "gridcolor": "white",
            "gridwidth": 2,
            "linecolor": "white",
            "showbackground": true,
            "ticks": "",
            "zerolinecolor": "white"
           },
           "yaxis": {
            "backgroundcolor": "#E5ECF6",
            "gridcolor": "white",
            "gridwidth": 2,
            "linecolor": "white",
            "showbackground": true,
            "ticks": "",
            "zerolinecolor": "white"
           },
           "zaxis": {
            "backgroundcolor": "#E5ECF6",
            "gridcolor": "white",
            "gridwidth": 2,
            "linecolor": "white",
            "showbackground": true,
            "ticks": "",
            "zerolinecolor": "white"
           }
          },
          "shapedefaults": {
           "line": {
            "color": "#2a3f5f"
           }
          },
          "ternary": {
           "aaxis": {
            "gridcolor": "white",
            "linecolor": "white",
            "ticks": ""
           },
           "baxis": {
            "gridcolor": "white",
            "linecolor": "white",
            "ticks": ""
           },
           "bgcolor": "#E5ECF6",
           "caxis": {
            "gridcolor": "white",
            "linecolor": "white",
            "ticks": ""
           }
          },
          "title": {
           "x": 0.05
          },
          "xaxis": {
           "automargin": true,
           "gridcolor": "white",
           "linecolor": "white",
           "ticks": "",
           "title": {
            "standoff": 15
           },
           "zerolinecolor": "white",
           "zerolinewidth": 2
          },
          "yaxis": {
           "automargin": true,
           "gridcolor": "white",
           "linecolor": "white",
           "ticks": "",
           "title": {
            "standoff": 15
           },
           "zerolinecolor": "white",
           "zerolinewidth": 2
          }
         }
        }
       }
      },
      "text/html": [
       "<div>\n",
       "        \n",
       "        \n",
       "            <div id=\"37a17dfd-2fc5-47c8-ad19-f9e7b5a6ea22\" class=\"plotly-graph-div\" style=\"height:525px; width:100%;\"></div>\n",
       "            <script type=\"text/javascript\">\n",
       "                require([\"plotly\"], function(Plotly) {\n",
       "                    window.PLOTLYENV=window.PLOTLYENV || {};\n",
       "                    \n",
       "                if (document.getElementById(\"37a17dfd-2fc5-47c8-ad19-f9e7b5a6ea22\")) {\n",
       "                    Plotly.newPlot(\n",
       "                        '37a17dfd-2fc5-47c8-ad19-f9e7b5a6ea22',\n",
       "                        [{\"mode\": \"markers\", \"name\": \"-1\", \"type\": \"scatter\", \"x\": [-12.040125529138669, -9.88029810752291, -8.406334760036682, 21.83986777888938, 20.651862435184242, -13.091459379907274, -13.357255643373724, 22.196347283028945, 10.569930360542367, -12.183978215767816, -3.550538754750733, -10.135322202709883, 11.25036832519901, 17.2719705600241, -5.930654482715066, 19.666032953442443, -13.593680414848023, 3.046059846682267, -9.127343695036963, -3.775708194179847, 17.4236008925117, -8.706596898554945, -7.31823747596911, -13.074234005508297, 23.003008281017955, -12.85555933853976, -10.532406393064406, 22.35865437231214, 17.24667770283765, -13.75808618753046, -13.41875781147291, -4.838559626670769, -7.547744428426901, -6.617537614073852, -11.573250522927047, 20.70157560892916, 21.694970964052423, -11.755022003505276, 22.270918236768384, 24.95834592451182, 21.92168001695303, -11.178990008062135, -12.023520803427418, 20.017979246739333, -10.54514192272104, -7.532479162364995, -10.511674285205125, -17.4177481592342, -3.7394593704111814, -5.14747465549992, -10.627618320966533, -11.273687432509444, -4.201606752045576, 21.596041780366622, -5.337593457351133, -6.451537141572538, 25.696387179635646, -10.00602605064294, -4.482502936288936, 4.759635738201592, -3.6001683802097575, -8.240262547925317, -9.653230920821562, -15.118373037539339, -7.944152347715299, -7.919127790083393, 17.157682026984777, -10.307329606302751, -7.150876385642488, -11.436202905499048, -7.82492025844323, -4.589285047300014, -6.600423974617474, -16.06857198958213, -11.38372205966828, -12.654633551688898, -9.608426140542836, -6.804620648749946, -9.934960970754519, -5.861350111161058, -6.064568999193529, -13.72126248713807, -10.31093396279733, -14.61857797488148, 20.588225486797754, 4.322322279110052, 19.854259826867104, 16.993702715865425, 5.185531752757533, -10.247469898472216, -11.994661250881956, 10.075605057641013, -7.6952734514854395, -12.630005544120682, 23.200246122934512, -8.782743400032356, -5.129609548601365, 4.55600162155558, -13.00490160397289, -15.607750078196666, -2.823727424973958], \"y\": [5.861298148054284, 11.450277944985316, 14.738934481664938, 5.759202459525177, 5.649565632055424, 6.868690929390815, 5.59876618785093, 10.241214403676913, -12.403124063022101, 12.629664623775856, 9.037568272954687, 11.438056094902713, 2.2412461793965144, 12.513160151325863, 9.408801724463956, 1.0189853753951026, 10.949513939051563, 5.762800580828067, 16.578547979616225, 8.797130082440223, 2.562760508777389, -14.885586895535086, 9.642664172904592, 15.130303774581682, 9.014149598700566, 4.730347021602784, 12.406434188455997, 3.2424598997903673, 1.1672986116345756, -12.26534420022215, 6.877547220418078, 12.0999701355304, 17.74685198313101, 11.359731943015403, 11.869246596022085, 5.726802049119134, 5.6715896793201415, 6.9845474084077255, 6.883015077793521, 5.7617182076513425, 1.5964279493542275, 25.255775056421463, 9.745852539199724, 10.085380071790635, 12.525833427777371, 8.98973475793269, 8.454747354446942, 12.382172709273766, 18.84513898097468, 9.902938246345347, 9.78671136683346, 4.503283465084677, 10.28221257768657, 6.669066210404668, 13.749937206933325, 10.538591959577664, 8.235421352190754, -12.417152881911502, 12.564080677496234, -4.670173197706419, 8.389098524509178, -14.50877387688538, 11.960730744624094, 3.6960053091632368, 15.7354972253568, 8.678073630328802, 11.452250021847837, 8.903559855354624, 10.738032206598303, 6.918308781926587, 10.405276399116081, 11.578136074022577, -15.89499516385443, 7.814779120335299, 17.354068686773765, -0.4548090565440662, 11.967540713950424, -14.538819838138274, 14.552637003234283, 19.971718492727685, 11.149709717116307, 17.247872516896557, 11.863806918113907, -1.4170195718778877, 9.36252409073994, -11.305002712077718, 9.498349950624517, 10.56104408719031, -10.948996245485123, 10.17537184452746, -12.043498638789588, -16.07056563072348, 11.579209806188343, 10.873761853207808, 1.6695595397729717, 14.214965746635242, 10.148908586500959, 6.703537921740008, 5.610931414254213, -0.3366194544231145, 10.554823012872301]}, {\"mode\": \"markers\", \"name\": \"0\", \"type\": \"scatter\", \"x\": [-5.492478004169264, -8.214367225999503, -8.151963592954848, -8.354380411247718, 0.017557073492485482, -6.206372422877802, -8.194779675404762, -9.334253373377425, -6.87541888382361, -5.517393643767311, 0.49254555373337044, -7.930592703840591, -9.651406202239823, -4.2037073882682545, -9.143656142800097, -9.914043320281774, -9.76699966297284, -12.546556156311214, -7.752529031935622, -6.4862108791146005, -4.413877675481868, -6.930324429639205, 3.912342548815739, -7.728203706405149, 2.8516236764180065, -4.271207004589959, -11.237824878900168, -7.849528341319796, 2.7082993932691375, -4.820163274777939, -3.3344314319259616, -6.4302899166034795, -6.133931758413106, -11.164847250591741, -6.6300851831910625, -4.711926719962941, -3.4170705047271226, 0.970558574153759, -8.512796238109766, -7.863504748791506, -11.02360374627909, -11.511338691163987, -7.370475289943753, -2.452839928981657, -3.5549165770825484, -5.7242575242958695, -8.128784561174623, -4.137443466780713, -4.331038826513792, -11.080066448413126, -10.34243568419436, 0.13759286073806742, -7.334136890499988, -7.705277206780533, -10.781558918109852, -6.320475893851093, -7.240924967258449, -1.99418430803067, -7.827359538953908, -2.534934904092557, -7.824149520754282, -0.7658418132402854, -12.399858640199012, -8.683698413735057, -10.289765726863799, -6.829506039967138, -5.369915121105844, -11.386297747376538, -8.799666479636297, -6.601425096457592, -12.997399443392206, -2.707690318409187, -5.837537432397731, -9.758160422244789, -4.179024827339845, -12.628539412673994, 3.7032890871369264, -3.997434093251727, -9.229490827218013, -0.4189138844897236, -8.611732230298445, 1.36363703558684, -5.295760558124584, 3.8637903026786273, -7.191410104916239, -9.65326137709464, 4.573371724673135, 0.3358499486400503, -8.82708123456208, -4.015199363888054, -7.355046044576843, -5.010895541016266, -12.287848401676246, -9.33660462215227, -10.490864210870212, -0.8842635358211373, -8.706772973387046, 1.3058890319120207, -7.767396860158892, -7.4328451775155715, -9.494244087054986, -7.246433498862755, -3.4006548964854115, 4.333340554595336, -4.239642822394923, -0.19644140967820012, -9.322076821075761, -3.575325496589438, -4.216557405116587, -8.598744578436568, 3.3435487163445914, -11.190667759133936, -4.14526106154977, -1.661597910580582, -7.7784306727499395, -4.638211942837057, -7.850867658406383, 1.4780756944709346, -7.692899060117026, -6.5721651152056895, -1.7879057849846876, -2.8688321615960946, -2.158913216066066, -8.888303675797323, -13.939655050741955, -8.268618653846492, -5.4977596784610645, -9.288230687712563, -7.539834280963473, -10.980785953722664, -7.935537227458276, -2.038125470356089, -7.312238862460546, -8.084633768172834, -0.882591723100388, -7.558796245774062, -2.8926184713841323, -1.5381476103463343, -5.295759379112711, 1.3888089400337336, -10.433825836145685, -3.8266222487233366, -8.810986162867735, 1.5987342496474704, -5.635135064185767, -12.384417696422005, -7.268324330729016, -2.8162464382175134, -9.223805608352563, 3.357831163354861, -3.3296208450310747, 3.9247369820480706, -6.042033925010069, -9.877899102861257, 0.11522575021957858, -8.326929459501768, -6.8563255154751275, -5.785603039445709, -7.158412441843263, -0.8005045086431531, 0.3686681844439949, 3.081418979290237, -7.060276638662799, -7.8601496936053, -10.622859237450664, -6.11381135389984, -5.49210769932649, -4.659193311018825, -6.326711278481717, -10.786400210751493, -10.64457139025617, -8.940243352452395, -4.916798167279341, -4.9965622305142015, -4.589194237211783, -6.944141218859587, -2.4478767958404104, -12.340463514798078, -11.176558930618837, -5.472522046314348, -2.648829183260801, 0.8231446190646673, -0.5235081651691615, 1.7734857789694374, -10.799743431970104, -12.695812912541653, -7.56393299457151, -3.5997789801220925, -0.3604972223741991, -8.518328338957025, -2.1296124468088395, -11.580392443449343, -10.556308132028503, -10.009410618689229, -5.95204702178304, -2.6576226337980655, -8.29550365410012, 0.9271977270063142, -3.921593151367689, -6.874842531875284, 1.49276437209298, 1.6675117050117398, 3.7180799503019357, -5.9214407902584565, -10.72469899203739, -11.735832208198001, -9.881054950210173], \"y\": [-7.59194554418199, 6.757755663044452, -10.157557726526834, 1.2918226989792445, -8.433496686877396, 0.9237079760374494, 5.876808328932846, -3.810146140055916, -6.933833825925136, -7.715076268064355, -2.321091820640777, -0.9419045049834713, -6.361879415165953, -1.2181520592285346, 3.7381882333532737, -10.262756077655013, -8.177892105046116, -1.8062131648052628, -8.293574978423969, -1.8182449490949368, 5.325518488151245, 4.458806513779066, -5.541260539381386, -6.538976539696502, -8.538021873219948, 4.8600313767753685, -7.30688970531953, -10.826724627255604, -4.875209450055872, -11.362498609007663, 2.723063201138465, 6.336509149545559, -10.53799490749334, -0.3474819948523355, -2.00173232875393, -8.43379465013028, -9.115696335092846, 5.8826306553782794, -7.231301400765383, 3.2857239419670727, -5.96748228232629, 0.46954124087057597, -4.417284761947697, 5.8550077394557585, 1.6781037999622328, 2.953500735616134, 3.617256163999203, 5.558853174375076, -6.728182967002427, -5.961490782960282, 0.975959268020259, 4.165285012784052, 8.910136994207518, 1.7550568829888917, 0.08576077670979411, -1.8336149701779834, 8.125982428935645, 5.111582634098359, -7.5107983294145, -13.675719326903756, -4.794381137155371, -7.503363462787636, -8.576197942272234, -6.702944841470467, -0.1013211560929431, 1.3423961741818335, -6.369643488490935, 4.895461050651706, -7.55721129113178, -1.6025427447001226, -3.7864606550257043, -3.5873582352746776, -1.9636716938322445, 3.888701890833301, 2.1638793715407303, 1.2730832319257057, -1.72992305060085, 0.9342718037571276, -4.205727267275254, -10.050501792449541, 5.7103074423748605, -4.182061735110767, 0.4315800437593796, 1.0483918438121969, 7.111338720820721, 5.813029393111294, -6.792199832336933, -4.920795246121806, 5.9159862793249784, -3.118196498510014, 0.27479932096408216, -1.8158271002632314, -2.9816219378239346, -3.8039865666369668, -7.02671262880738, -3.374259008245619, 1.637521289921359, 0.4895905178415724, -7.87966642420418, 7.423626867418345, -7.282972237792817, 3.2443841869824848, -7.280508872104521, -4.493596546411641, -4.984520194179146, -5.196454195882991, 2.355754291445767, -6.794952621135867, 5.685518459065026, -10.019470040597941, -9.70774285914396, 1.3208610892601609, 5.296619327842969, -6.542420124071135, -6.581908205245601, -4.711673540196755, 5.733296523300183, -4.366625427298065, -3.0856864420928174, 0.4400315520453576, -7.488390691386388, 0.4932965826214026, -5.972925151640734, -9.80234517488532, -2.0170340871036068, -12.09220724859915, -6.612076606507829, -4.960607906295779, -5.370131735840508, 5.59996551472486, 0.9894176868992172, -1.88379461277048, -6.947726598749525, -3.72006888050961, 0.8752865387690492, -12.194702279696974, -1.199094313370352, 2.5915257546996537, -8.40018741810724, 4.618057939762945, 0.5635970238415273, -7.684623327018078, -11.650669660013824, 4.423620119714182, -7.188222913459006, 4.257569242992535, -7.5881154436752025, 0.21217828154097165, -3.9493637715890006, 0.4958574506026058, -1.397516810304679, -7.698196956748556, -4.751169032762108, -10.997520874175324, -4.046874259933731, -1.3728668876505663, -11.15536837535231, -0.5842715987894789, -7.907023824678409, -3.2957612646353858, -7.071854384138416, -8.649957987426442, -7.489140743246522, -4.095594625551437, 0.1790380420863562, -10.450059217023156, -3.1860947241382016, -10.68242125623112, -0.7681872124822424, 2.9645270568553976, 4.751351085445488, -6.109201590422139, 7.196779676510373, -7.96472839639159, -13.84254061125954, -1.2586484197816692, -6.82235441675564, -6.011507303654438, -3.500525697532935, 8.898653658340619, -13.083612866187126, -6.24336516726444, -5.41925994441116, -0.3903696702234352, -5.289542322535705, -4.478325437522541, -4.442930772059174, -12.130268619869103, -9.63529334192454, -11.155472142137096, 2.341976242110417, 6.362063402450484, -9.37880469749225, 7.201158380164489, -12.323128226142694, 2.7652156803924903, -11.365525014283177, -6.25581823977357, -3.46047584265319, -7.808114220468528, -0.9639811528013198, -8.882724583856643, -1.0344001447000233, -12.423047305802985, 6.703668889097165, -10.62698018288961, -7.053175092033719]}, {\"mode\": \"markers\", \"name\": \"1\", \"type\": \"scatter\", \"x\": [16.100235125155248, 18.9150865847792, 13.377702118806644, 4.8803866509390685, 21.367985741894667, 22.113497068765135, 7.7579352851955, 20.05350038411434, 14.599082549745024, 10.205471763364597, 13.19776351614652, 10.871256927319392, 22.042526426754314, 11.166498042673798, 8.357124886255797, 18.568303248343323, 16.798030860664575, 17.78931286224586, 8.770294200163143, 5.938163846114519, 21.120378868881907, 12.39261998339114, 18.053432495989224, 11.042810783182675, 7.7824838717260825, 5.410909588492936, 5.755042322643651, 22.968398548583735, 18.680532917441674, 5.509409499756068, 4.031375072723594, 19.754302510825706, 17.567159807414882, 14.932989296887802, 21.112879518068105, 20.8308183221504, 9.8800152616607, 16.418724194013173, 18.227688908013597, 14.39727620107665, 16.744319638208406, 7.846461107967176, 12.486517117748663, 16.603808061373265, 14.057402522487106, 19.866684913555485, 21.894905022035527, 22.201563808697863, 6.734129161187322, 20.869736356530257, 20.53683371973672, 4.455264455334065, 19.449934096749846, 17.242580050982518, 19.319930567793296, 18.764960703897007, 22.445402325123673, 5.986692224220612, 14.659534875840306, 6.740429856341606, 8.766761785595474, 21.8305816034269, 18.284148421513173, 16.4750457945167, 13.032793517421261, 13.147059018178332, 20.8293064170099, 14.627625761165852, 13.305859412329188, 19.307783461742417, 20.325274456436073, 18.948784123750325, 9.935223782051787, 5.536022879256415, 14.388694381907326, 10.581479812994223, 5.094490684563075, 21.51860848429043, 20.766952412869962, 18.33460681552507, 18.22970064132835, 19.572178101745404, 5.214533556051612, 12.50877690946578, 23.135951685557735, 6.300179522597696, 11.207457319690894, 19.441957093928814, 20.696562128705086, 19.224927675125848, 7.92947566689203], \"y\": [-0.6508679274066032, -0.9367036490893478, 1.3458683368269462, -5.105305848521703, 2.85792276048977, -0.0013208733910529665, -0.12745046759859197, 0.5807911116455394, -2.100844257062232, -5.355223499793614, -0.5074941039850954, -7.045421709961221, 4.948741762547225, 4.161023092987228, 2.364968326611342, -1.8391525078762534, -2.628260362803015, 1.2924285010495962, -7.425761087178732, -2.9752072452860636, 1.843440723630133, 4.901080026426387, 3.674122725461406, -5.290320995413655, -2.704832729994308, -6.6578192695981215, -2.0449236265411748, 2.9471442436396544, 6.7643363662728095, -6.750921258081759, 2.892014971678654, -1.3562193045492974, -1.5349117116765727, 5.154501813234045, 2.7374755585076485, 1.2587206214061242, -8.624844515741671, -2.3696104840130605, -1.1570577647058005, -2.9474789279103044, 3.8884301131069194, -7.642241981128611, -5.829468295648831, -2.423642884809144, 0.23504349245644166, 1.0061207956021219, 2.3194957288367313, 1.35114182822534, -0.9356821066880019, -0.14403319666584968, -0.0489851499232665, -0.6421017407420975, -0.81908061513757, -1.8678992786438333, -1.7038781245388324, 6.26147162921271, 1.4241672364705904, 5.114960509495982, -3.319479908735589, -5.3684979328280695, -10.040391043520621, 2.3700549262153876, 3.7105230735600543, -0.5353583954435933, -4.640651901057863, -7.996110984860095, -1.5575833654736613, 1.8444155361518546, -5.241090353020557, 3.1897692527603123, 0.7873443054772048, -0.2788021082288967, -6.249745019025646, -2.5821574968551158, -3.0269161252416414, -5.937651521209499, -8.145288250127615, 0.8128145742501474, 2.9397779298277866, 1.5446083465054457, -1.1526550719619193, 3.973250539378895, -8.44421469887747, 0.22899879733397271, 1.9625771261234675, -6.333708706797367, -3.1435025967432626, -0.10445454447380882, 0.061000654474145335, -2.503755071010814, -5.375868499087447]}, {\"mode\": \"markers\", \"name\": \"2\", \"type\": \"scatter\", \"x\": [-7.321929002035701], \"y\": [22.828016181429337]}],\n",
       "                        {\"template\": {\"data\": {\"bar\": [{\"error_x\": {\"color\": \"#2a3f5f\"}, \"error_y\": {\"color\": \"#2a3f5f\"}, \"marker\": {\"line\": {\"color\": \"#E5ECF6\", \"width\": 0.5}}, \"type\": \"bar\"}], \"barpolar\": [{\"marker\": {\"line\": {\"color\": \"#E5ECF6\", \"width\": 0.5}}, \"type\": \"barpolar\"}], \"carpet\": [{\"aaxis\": {\"endlinecolor\": \"#2a3f5f\", \"gridcolor\": \"white\", \"linecolor\": \"white\", \"minorgridcolor\": \"white\", \"startlinecolor\": \"#2a3f5f\"}, \"baxis\": {\"endlinecolor\": \"#2a3f5f\", \"gridcolor\": \"white\", \"linecolor\": \"white\", \"minorgridcolor\": \"white\", \"startlinecolor\": \"#2a3f5f\"}, \"type\": \"carpet\"}], \"choropleth\": [{\"colorbar\": {\"outlinewidth\": 0, \"ticks\": \"\"}, \"type\": \"choropleth\"}], \"contour\": [{\"colorbar\": {\"outlinewidth\": 0, \"ticks\": \"\"}, \"colorscale\": [[0.0, \"#0d0887\"], [0.1111111111111111, \"#46039f\"], [0.2222222222222222, \"#7201a8\"], [0.3333333333333333, \"#9c179e\"], [0.4444444444444444, \"#bd3786\"], [0.5555555555555556, \"#d8576b\"], [0.6666666666666666, \"#ed7953\"], [0.7777777777777778, \"#fb9f3a\"], [0.8888888888888888, \"#fdca26\"], [1.0, \"#f0f921\"]], \"type\": \"contour\"}], \"contourcarpet\": [{\"colorbar\": {\"outlinewidth\": 0, \"ticks\": \"\"}, \"type\": \"contourcarpet\"}], \"heatmap\": [{\"colorbar\": {\"outlinewidth\": 0, \"ticks\": \"\"}, \"colorscale\": [[0.0, \"#0d0887\"], [0.1111111111111111, \"#46039f\"], [0.2222222222222222, \"#7201a8\"], [0.3333333333333333, \"#9c179e\"], [0.4444444444444444, \"#bd3786\"], [0.5555555555555556, \"#d8576b\"], [0.6666666666666666, \"#ed7953\"], [0.7777777777777778, \"#fb9f3a\"], [0.8888888888888888, \"#fdca26\"], [1.0, \"#f0f921\"]], \"type\": \"heatmap\"}], \"heatmapgl\": [{\"colorbar\": {\"outlinewidth\": 0, \"ticks\": \"\"}, \"colorscale\": [[0.0, \"#0d0887\"], [0.1111111111111111, \"#46039f\"], [0.2222222222222222, \"#7201a8\"], [0.3333333333333333, \"#9c179e\"], [0.4444444444444444, \"#bd3786\"], [0.5555555555555556, \"#d8576b\"], [0.6666666666666666, \"#ed7953\"], [0.7777777777777778, \"#fb9f3a\"], [0.8888888888888888, \"#fdca26\"], [1.0, \"#f0f921\"]], \"type\": \"heatmapgl\"}], \"histogram\": [{\"marker\": {\"colorbar\": {\"outlinewidth\": 0, \"ticks\": \"\"}}, \"type\": \"histogram\"}], \"histogram2d\": [{\"colorbar\": {\"outlinewidth\": 0, \"ticks\": \"\"}, \"colorscale\": [[0.0, \"#0d0887\"], [0.1111111111111111, \"#46039f\"], [0.2222222222222222, \"#7201a8\"], [0.3333333333333333, \"#9c179e\"], [0.4444444444444444, \"#bd3786\"], [0.5555555555555556, \"#d8576b\"], [0.6666666666666666, \"#ed7953\"], [0.7777777777777778, \"#fb9f3a\"], [0.8888888888888888, \"#fdca26\"], [1.0, \"#f0f921\"]], \"type\": \"histogram2d\"}], \"histogram2dcontour\": [{\"colorbar\": {\"outlinewidth\": 0, \"ticks\": \"\"}, \"colorscale\": [[0.0, \"#0d0887\"], [0.1111111111111111, \"#46039f\"], [0.2222222222222222, \"#7201a8\"], [0.3333333333333333, \"#9c179e\"], [0.4444444444444444, \"#bd3786\"], [0.5555555555555556, \"#d8576b\"], [0.6666666666666666, \"#ed7953\"], [0.7777777777777778, \"#fb9f3a\"], [0.8888888888888888, \"#fdca26\"], [1.0, \"#f0f921\"]], \"type\": \"histogram2dcontour\"}], \"mesh3d\": [{\"colorbar\": {\"outlinewidth\": 0, \"ticks\": \"\"}, \"type\": \"mesh3d\"}], \"parcoords\": [{\"line\": {\"colorbar\": {\"outlinewidth\": 0, \"ticks\": \"\"}}, \"type\": \"parcoords\"}], \"pie\": [{\"automargin\": true, \"type\": \"pie\"}], \"scatter\": [{\"marker\": {\"colorbar\": {\"outlinewidth\": 0, \"ticks\": \"\"}}, \"type\": \"scatter\"}], \"scatter3d\": [{\"line\": {\"colorbar\": {\"outlinewidth\": 0, \"ticks\": \"\"}}, \"marker\": {\"colorbar\": {\"outlinewidth\": 0, \"ticks\": \"\"}}, \"type\": \"scatter3d\"}], \"scattercarpet\": [{\"marker\": {\"colorbar\": {\"outlinewidth\": 0, \"ticks\": \"\"}}, \"type\": \"scattercarpet\"}], \"scattergeo\": [{\"marker\": {\"colorbar\": {\"outlinewidth\": 0, \"ticks\": \"\"}}, \"type\": \"scattergeo\"}], \"scattergl\": [{\"marker\": {\"colorbar\": {\"outlinewidth\": 0, \"ticks\": \"\"}}, \"type\": \"scattergl\"}], \"scattermapbox\": [{\"marker\": {\"colorbar\": {\"outlinewidth\": 0, \"ticks\": \"\"}}, \"type\": \"scattermapbox\"}], \"scatterpolar\": [{\"marker\": {\"colorbar\": {\"outlinewidth\": 0, \"ticks\": \"\"}}, \"type\": \"scatterpolar\"}], \"scatterpolargl\": [{\"marker\": {\"colorbar\": {\"outlinewidth\": 0, \"ticks\": \"\"}}, \"type\": \"scatterpolargl\"}], \"scatterternary\": [{\"marker\": {\"colorbar\": {\"outlinewidth\": 0, \"ticks\": \"\"}}, \"type\": \"scatterternary\"}], \"surface\": [{\"colorbar\": {\"outlinewidth\": 0, \"ticks\": \"\"}, \"colorscale\": [[0.0, \"#0d0887\"], [0.1111111111111111, \"#46039f\"], [0.2222222222222222, \"#7201a8\"], [0.3333333333333333, \"#9c179e\"], [0.4444444444444444, \"#bd3786\"], [0.5555555555555556, \"#d8576b\"], [0.6666666666666666, \"#ed7953\"], [0.7777777777777778, \"#fb9f3a\"], [0.8888888888888888, \"#fdca26\"], [1.0, \"#f0f921\"]], \"type\": \"surface\"}], \"table\": [{\"cells\": {\"fill\": {\"color\": \"#EBF0F8\"}, \"line\": {\"color\": \"white\"}}, \"header\": {\"fill\": {\"color\": \"#C8D4E3\"}, \"line\": {\"color\": \"white\"}}, \"type\": \"table\"}]}, \"layout\": {\"annotationdefaults\": {\"arrowcolor\": \"#2a3f5f\", \"arrowhead\": 0, \"arrowwidth\": 1}, \"coloraxis\": {\"colorbar\": {\"outlinewidth\": 0, \"ticks\": \"\"}}, \"colorscale\": {\"diverging\": [[0, \"#8e0152\"], [0.1, \"#c51b7d\"], [0.2, \"#de77ae\"], [0.3, \"#f1b6da\"], [0.4, \"#fde0ef\"], [0.5, \"#f7f7f7\"], [0.6, \"#e6f5d0\"], [0.7, \"#b8e186\"], [0.8, \"#7fbc41\"], [0.9, \"#4d9221\"], [1, \"#276419\"]], \"sequential\": [[0.0, \"#0d0887\"], [0.1111111111111111, \"#46039f\"], [0.2222222222222222, \"#7201a8\"], [0.3333333333333333, \"#9c179e\"], [0.4444444444444444, \"#bd3786\"], [0.5555555555555556, \"#d8576b\"], [0.6666666666666666, \"#ed7953\"], [0.7777777777777778, \"#fb9f3a\"], [0.8888888888888888, \"#fdca26\"], [1.0, \"#f0f921\"]], \"sequentialminus\": [[0.0, \"#0d0887\"], [0.1111111111111111, \"#46039f\"], [0.2222222222222222, \"#7201a8\"], [0.3333333333333333, \"#9c179e\"], [0.4444444444444444, \"#bd3786\"], [0.5555555555555556, \"#d8576b\"], [0.6666666666666666, \"#ed7953\"], [0.7777777777777778, \"#fb9f3a\"], [0.8888888888888888, \"#fdca26\"], [1.0, \"#f0f921\"]]}, \"colorway\": [\"#636efa\", \"#EF553B\", \"#00cc96\", \"#ab63fa\", \"#FFA15A\", \"#19d3f3\", \"#FF6692\", \"#B6E880\", \"#FF97FF\", \"#FECB52\"], \"font\": {\"color\": \"#2a3f5f\"}, \"geo\": {\"bgcolor\": \"white\", \"lakecolor\": \"white\", \"landcolor\": \"#E5ECF6\", \"showlakes\": true, \"showland\": true, \"subunitcolor\": \"white\"}, \"hoverlabel\": {\"align\": \"left\"}, \"hovermode\": \"closest\", \"mapbox\": {\"style\": \"light\"}, \"paper_bgcolor\": \"white\", \"plot_bgcolor\": \"#E5ECF6\", \"polar\": {\"angularaxis\": {\"gridcolor\": \"white\", \"linecolor\": \"white\", \"ticks\": \"\"}, \"bgcolor\": \"#E5ECF6\", \"radialaxis\": {\"gridcolor\": \"white\", \"linecolor\": \"white\", \"ticks\": \"\"}}, \"scene\": {\"xaxis\": {\"backgroundcolor\": \"#E5ECF6\", \"gridcolor\": \"white\", \"gridwidth\": 2, \"linecolor\": \"white\", \"showbackground\": true, \"ticks\": \"\", \"zerolinecolor\": \"white\"}, \"yaxis\": {\"backgroundcolor\": \"#E5ECF6\", \"gridcolor\": \"white\", \"gridwidth\": 2, \"linecolor\": \"white\", \"showbackground\": true, \"ticks\": \"\", \"zerolinecolor\": \"white\"}, \"zaxis\": {\"backgroundcolor\": \"#E5ECF6\", \"gridcolor\": \"white\", \"gridwidth\": 2, \"linecolor\": \"white\", \"showbackground\": true, \"ticks\": \"\", \"zerolinecolor\": \"white\"}}, \"shapedefaults\": {\"line\": {\"color\": \"#2a3f5f\"}}, \"ternary\": {\"aaxis\": {\"gridcolor\": \"white\", \"linecolor\": \"white\", \"ticks\": \"\"}, \"baxis\": {\"gridcolor\": \"white\", \"linecolor\": \"white\", \"ticks\": \"\"}, \"bgcolor\": \"#E5ECF6\", \"caxis\": {\"gridcolor\": \"white\", \"linecolor\": \"white\", \"ticks\": \"\"}}, \"title\": {\"x\": 0.05}, \"xaxis\": {\"automargin\": true, \"gridcolor\": \"white\", \"linecolor\": \"white\", \"ticks\": \"\", \"title\": {\"standoff\": 15}, \"zerolinecolor\": \"white\", \"zerolinewidth\": 2}, \"yaxis\": {\"automargin\": true, \"gridcolor\": \"white\", \"linecolor\": \"white\", \"ticks\": \"\", \"title\": {\"standoff\": 15}, \"zerolinecolor\": \"white\", \"zerolinewidth\": 2}}}},\n",
       "                        {\"responsive\": true}\n",
       "                    ).then(function(){\n",
       "                            \n",
       "var gd = document.getElementById('37a17dfd-2fc5-47c8-ad19-f9e7b5a6ea22');\n",
       "var x = new MutationObserver(function (mutations, observer) {{\n",
       "        var display = window.getComputedStyle(gd).display;\n",
       "        if (!display || display === 'none') {{\n",
       "            console.log([gd, 'removed!']);\n",
       "            Plotly.purge(gd);\n",
       "            observer.disconnect();\n",
       "        }}\n",
       "}});\n",
       "\n",
       "// Listen for the removal of the full notebook cells\n",
       "var notebookContainer = gd.closest('#notebook-container');\n",
       "if (notebookContainer) {{\n",
       "    x.observe(notebookContainer, {childList: true});\n",
       "}}\n",
       "\n",
       "// Listen for the clearing of the current output cell\n",
       "var outputEl = gd.closest('.output');\n",
       "if (outputEl) {{\n",
       "    x.observe(outputEl, {childList: true});\n",
       "}}\n",
       "\n",
       "                        })\n",
       "                };\n",
       "                });\n",
       "            </script>\n",
       "        </div>"
      ]
     },
     "metadata": {},
     "output_type": "display_data"
    }
   ],
   "source": [
    "\n",
    "pca2 = PCA(n_components=ncomps, whiten=False,svd_solver='randomized')\n",
    "featd= pca2.fit_transform(dist_store)\n",
    "bandwidth = estimate_bandwidth(featd, quantile=0.25)\n",
    "\n",
    "ms = MeanShift(bandwidth=bandwidth, bin_seeding=False, cluster_all=False, min_bin_freq=35)\n",
    "ms.fit(featd)\n",
    "labelsf = ms.labels_\n",
    "labelf_select = {y:[x for x in range(len(labelsf)) if labelsf[x] == y] for y in sorted(list(set(labelsf)))}\n",
    "\n",
    "\n",
    "fig= [go.Scatter(\n",
    "    x= featd[labelf_select[i],0],\n",
    "    y= featd[labelf_select[i],1],\n",
    "    mode= 'markers',\n",
    "    name= str(i)\n",
    ") for i in labelf_select.keys()]\n",
    "\n",
    "layout= go.Layout()\n",
    "\n",
    "Figure= go.Figure(data= fig, layout= layout)\n",
    "\n",
    "iplot(Figure)\n"
   ]
  },
  {
   "cell_type": "markdown",
   "metadata": {},
   "source": [
    "\n",
    "#### B. Variance across data sets. \n",
    "\n",
    "Accession subset: `std_gp_use`\n"
   ]
  },
  {
   "cell_type": "code",
   "execution_count": 54,
   "metadata": {},
   "outputs": [],
   "source": [
    "# subselect by variance in distances:\n",
    "\n",
    "## perform MeanShift clustering.\n",
    "#bandwidth = estimate_bandwidth(featl, quantile=0.2)\n",
    "bandwidth = estimate_bandwidth(dist_var.reshape(-1,1), quantile=0.2)\n",
    "\n",
    "ms = MeanShift(bandwidth=bandwidth, bin_seeding=False, cluster_all=False, min_bin_freq=35)\n",
    "\n",
    "ms.fit(dist_var.reshape(-1,1))\n",
    "labels_std = ms.labels_\n",
    "std_select = {y:[x for x in range(len(labels_std)) if labels_std[x] == y] for y in sorted(list(set(labels_std)))}\n",
    "std_select.keys()\n",
    "\n",
    "std_gpmeans= {z: np.mean([dist_var[x] for x in g]) for z,g in std_select.items() if z != -1}\n",
    "\n",
    "std_gp_use= sorted(std_gpmeans,key= std_gpmeans.get)\n",
    "d= 0\n",
    "idx = 0\n",
    "\n",
    "while d != 1:\n",
    "    g=std_select[std_gp_use[idx]] \n",
    "    \n",
    "    if len(g) >= 15:\n",
    "        std_gp_use= list(g)\n",
    "        d= 1\n",
    "        \n",
    "    idx+= 1\n",
    "\n",
    "#std_gp_use= std_select[std_gp_use]\n",
    "\n",
    "#std_gp_use= [other_obs[x] for x in std_gp_use]\n",
    "#std_gp_use= list(range(len(labels_std)))"
   ]
  },
  {
   "cell_type": "markdown",
   "metadata": {},
   "source": [
    "### Coordinate inference\n",
    "\n",
    "**Grid approach**\n",
    "\n",
    "Produce grid encompassing sample coordinates in the feature space of the window covering the nan value. \n",
    "\n",
    "#### I. Grid construction:\n",
    "\n",
    "- P: grid mesh.\n",
    "- dimN: number of features from Quanted_set to use. \n",
    "\n"
   ]
  },
  {
   "cell_type": "code",
   "execution_count": 55,
   "metadata": {},
   "outputs": [],
   "source": [
    "from impute_tools.impute_tools import get_bg_grid\n",
    "\n",
    "Quanted_set= np.array(featl)\n",
    "P= 20\n",
    "dimN= 2\n",
    "\n",
    "background= get_bg_grid(Quanted_set, P= P, dimN= dimN)"
   ]
  },
  {
   "cell_type": "markdown",
   "metadata": {},
   "source": [
    "#### II. Grid distances.\n",
    "\n",
    "Create distance profile for every position in `background` grid.\n"
   ]
  },
  {
   "cell_type": "code",
   "execution_count": 56,
   "metadata": {},
   "outputs": [
    {
     "data": {
      "text/plain": [
       "(400, 33)"
      ]
     },
     "execution_count": 56,
     "metadata": {},
     "output_type": "execute_result"
    }
   ],
   "source": [
    "from sklearn.metrics import pairwise_distances\n",
    "\n",
    "workfeat= featl[std_gp_use,:dimN]\n",
    "\n",
    "dist_grid= pairwise_distances(background, workfeat,\n",
    "                                            metric=metric)\n",
    "\n",
    "dist_grid.shape"
   ]
  },
  {
   "cell_type": "markdown",
   "metadata": {},
   "source": [
    "#### III. Coordinate likelihood.\n",
    "\n",
    "    i. BG and reference distance vectors go through Dr together (`PCA` here). Kernel Density Estimation is fit to reference obs coordinates. Likelihoods are extracted for BG coordinate positions. \n",
    "\n",
    "    ii. Resulting likelihoods are mapped to the feature space capturing `nanObs`.\n"
   ]
  },
  {
   "cell_type": "code",
   "execution_count": 57,
   "metadata": {},
   "outputs": [],
   "source": [
    "from impute_tools.impute_tools import kde_likes_extract\n",
    "\n",
    "dist_comps= 10\n",
    "Bandwidth_split = 30\n",
    "\n",
    "####\n",
    "####\n",
    "dist_ref_select= 0\n",
    "dist_ref= dist_store[labelf_select[dist_ref_select],:]\n",
    "dist_ref= dist_ref[:,std_gp_use]\n",
    "\n",
    "\n",
    "grid_likes= kde_likes_extract(dist_grid,dist_ref)"
   ]
  },
  {
   "cell_type": "code",
   "execution_count": 58,
   "metadata": {
    "scrolled": false
   },
   "outputs": [
    {
     "name": "stderr",
     "output_type": "stream",
     "text": [
      "c:\\users\\floyd\\appdata\\local\\programs\\python\\python37-32\\lib\\site-packages\\plotly\\tools.py:465: DeprecationWarning:\n",
      "\n",
      "plotly.tools.make_subplots is deprecated, please use plotly.subplots.make_subplots instead\n",
      "\n"
     ]
    },
    {
     "data": {
      "application/vnd.plotly.v1+json": {
       "config": {
        "linkText": "Export to plot.ly",
        "plotlyServerURL": "https://plot.ly",
        "showLink": false
       },
       "data": [
        {
         "mode": "markers",
         "name": "0",
         "type": "scatter",
         "x": [
          3.961661445574057,
          3.7879759023401225,
          1.9345941376897937,
          3.9405005929494465,
          2.8448643798405073,
          4.417186139274191,
          5.035031400273705,
          3.9393575330945665,
          3.3190889903170526,
          3.8572664370702596,
          4.378267501859045,
          4.357347647869521,
          2.806004489928367,
          3.433646095847995,
          4.430825060765115,
          3.9881118810062905,
          3.139726348286637,
          4.551634060494883,
          3.7040403749897144,
          4.418028528505911,
          3.6298417735473336,
          4.045028328392746,
          4.058011845480177,
          2.9394420513461297,
          3.671320305729038,
          3.6468111286917435,
          4.374018585313994,
          4.1403449462364925,
          3.2794583363879006,
          4.1801301814877485,
          1.8851912757931828,
          4.388949867045919,
          3.5660442338016796,
          3.1139028186049083,
          3.3200764471529807,
          3.849202221260172,
          5.078835683558285,
          3.4689485366887345,
          4.818045356525845,
          3.4876674170705573
         ],
         "xaxis": "x",
         "y": [
          0.10456899377793871,
          0.32809743756648685,
          0.18636779693232625,
          0.5193838873251571,
          -0.8791323587651441,
          1.2384001965612481,
          0.16721973886605698,
          0.5831571645408423,
          -0.5167176466878569,
          -0.5153239124048338,
          0.6816179925837416,
          0.03130273383246078,
          1.1475819425107256,
          -0.25998366454925387,
          -0.8140707436059617,
          0.3832295893516101,
          -0.7286356514359366,
          0.9069730143693735,
          -0.7449563208593124,
          0.27875594157370137,
          0.9751890765523382,
          -0.7777080227769141,
          -0.16506638383696612,
          1.5581309823098701,
          0.30053285298825333,
          -0.7336552319818423,
          -0.05099335695846599,
          0.9005928772612396,
          -0.8961872219085207,
          -0.3890668747752919,
          0.5018150316697366,
          0.011496853836238214,
          0.21687237010177768,
          -0.7678349554992344,
          0.3285141119378111,
          -0.42562156303320986,
          -0.7521016547791196,
          -1.5415091146062325,
          -1.0280115968202805,
          1.6404130116882492
         ],
         "yaxis": "y"
        },
        {
         "mode": "markers",
         "name": "1",
         "type": "scatter",
         "x": [
          -1.6601090873919537,
          -3.9833564014873817,
          -2.7746266599106124,
          -3.432026837290724,
          -2.4410429557109627,
          -1.6120037533787857,
          -2.8956417056698394,
          -2.7514708529433096,
          -2.5669455122512166,
          -0.701253018508994,
          -1.8081316535051013,
          -0.035535059414298055,
          -2.290653082301737,
          -1.1547078459361741,
          -2.494304077865143,
          -2.344610905212922,
          -2.834984926826341,
          -3.1915354931559765,
          -2.459964738014074,
          -3.2864207351432757,
          -1.0128664239149479,
          -0.7313778498307578,
          -1.5358711782770809,
          -2.295791736946358,
          -2.232571454567465,
          -3.071579158289737,
          -2.4493777293994516,
          -1.5669679182676737,
          -2.550367409501984,
          -2.532657716769992,
          -2.2537382676238806,
          -3.8938739739824837,
          -2.597064777279132,
          -2.4868690499330373,
          -1.001251043887711,
          -2.216347231509423,
          -1.148551490154552,
          -3.207558004175432,
          -2.7509555452513936,
          -2.4470014133399625,
          -3.0415487150099323,
          -2.5326972763332867
         ],
         "xaxis": "x",
         "y": [
          0.4334588135778569,
          -0.46653108866018417,
          -1.0901969449781088,
          -1.0803185371498654,
          -1.348224090418346,
          -1.7795884790579928,
          -0.6984232389932143,
          -1.8757433367374434,
          0.5238405813474142,
          -2.278372264087729,
          -0.5376318125031802,
          -1.9192162836789122,
          -0.7840930376452327,
          -2.4498787736391727,
          -0.5888876889377411,
          -1.2898528946041437,
          -1.014169030513169,
          0.5062643649648783,
          -0.6581539798772668,
          -1.847597549626408,
          -0.7524719739151539,
          -2.1815086728677437,
          -2.3462887536614807,
          -1.029066097203342,
          -0.8880052661062298,
          -0.7995678985124449,
          -1.064363052753622,
          -1.4418129560430413,
          0.3832826598453972,
          -1.9675758914401278,
          -1.8718748426791547,
          -1.0046052380675046,
          -2.0137443007168385,
          -1.4384124017642785,
          -1.9661570421708416,
          -0.3844470550711227,
          -1.981508972533582,
          0.4267581645568958,
          -0.9100428450351195,
          -1.668410897131914,
          -1.0287422674943674,
          -1.6922522350336349
         ],
         "yaxis": "y"
        },
        {
         "mode": "markers",
         "name": "2",
         "type": "scatter",
         "x": [
          -2.166165645336686,
          -1.4813372768565378,
          -1.8216611294498621,
          -1.3983545120346261,
          0.08632818843078398,
          -3.3108620806449305,
          -1.8407159260571548,
          -2.514569296644766,
          -3.3915083556474297,
          -1.7989030952852048,
          -1.4051280771880479,
          -1.545592191489789,
          -2.2145300889549255,
          -2.526428763519964,
          -2.679644230092953,
          -0.7721240994561825,
          -3.273052776775147,
          -2.4956563708818793,
          -2.397164114822394,
          -1.6465293184426524
         ],
         "xaxis": "x",
         "y": [
          2.5398443976955525,
          3.370739758371434,
          3.5845469964346446,
          3.100627825747218,
          1.865361138319609,
          3.3952771532499666,
          1.6487953521512981,
          3.0602938393903996,
          3.7570174110194126,
          3.1112184494742214,
          0.15763620689578076,
          3.0501801633025405,
          1.8410259785823073,
          3.986017914589711,
          4.661833332048652,
          3.6103332643724566,
          3.21942083481818,
          3.210189509185247,
          2.4227926751445095,
          3.5655901325257977
         ],
         "yaxis": "y"
        },
        {
         "mode": "markers",
         "name": "3",
         "type": "scatter",
         "x": [
          -0.24249539994260166,
          -0.27057005877175655,
          2.637721967808482,
          0.5648820081763268,
          -1.9983088243943499,
          -2.5196042946123263,
          -0.13642273391841347,
          0.2849887464118559,
          -2.486814598057555,
          4.354375365842601,
          3.5307173547767885,
          2.9649864727428326,
          -0.4986534752265418,
          -1.3811594685627553,
          -2.1887912348542105,
          -1.7194491775442668,
          4.339632996869344,
          3.3036187662169434,
          -0.5541140542465687,
          -0.010509034999900895,
          -2.9912760354004293,
          -2.924830610349585,
          -3.141672843937584,
          -2.3273406251204953,
          -2.6073252448166797,
          -2.327091231577329,
          -3.7657148325667804,
          -2.205400360722947
         ],
         "xaxis": "x",
         "y": [
          0.02600095637241775,
          -0.6754980756549376,
          -0.04796087116996233,
          -0.5137476742878944,
          -1.2758116728319548,
          -2.422031285404483,
          -0.8288603962543094,
          0.6060487240327752,
          -0.8300081059738162,
          -0.07367728993799895,
          0.743112240952637,
          -0.14460153924810185,
          -0.5756539984454264,
          2.2984827500055496,
          -1.381301950333078,
          -1.5431227503261418,
          -0.6337184964971905,
          0.7590948199849141,
          -0.04191704095548447,
          -0.7020625782496247,
          -1.2006963318508141,
          -0.4373906490141385,
          4.135090185981335,
          -1.584570475295529,
          -2.119861839767546,
          -2.0152239140233608,
          -1.2554102419116844,
          -0.5629490490506408
         ],
         "yaxis": "y"
        },
        {
         "marker": {
          "color": "rgba(135, 206, 250, 0)",
          "line": {
           "color": "red",
           "width": 5
          },
          "opacity": 1,
          "size": 25
         },
         "mode": "markers",
         "showlegend": false,
         "type": "scatter",
         "x": [
          -2.486814598057555
         ],
         "xaxis": "x",
         "y": [
          -0.8300081059738162
         ],
         "yaxis": "y"
        },
        {
         "marker": {
          "color": [
           1.7521206694054046e-90,
           2.6045186534419097e-83,
           5.4592535148765816e-77,
           8.921578018993182e-71,
           2.499240215351357e-65,
           7.211417101130291e-61,
           2.2881758637588348e-57,
           9.472244771612301e-55,
           6.6021311209081965e-53,
           8.083839275604857e-52,
           1.4284500487536758e-51,
           3.242180713882518e-52,
           9.416432976049496e-54,
           3.6717999938533467e-56,
           2.0685176397336663e-59,
           1.849623039511691e-63,
           2.8602415157745955e-68,
           7.569812850684035e-74,
           2.8790613863473587e-80,
           1.201125037102085e-87,
           2.0146866585464767e-74,
           1.2813730915454465e-67,
           6.539964980097116e-62,
           9.4553500829944e-57,
           1.1148119436238591e-51,
           1.903211453676944e-47,
           3.8667785375567156e-44,
           1.0343007308870112e-41,
           4.590249555859084e-40,
           4.206015489132111e-39,
           6.94964515604529e-39,
           1.672279094188277e-39,
           5.568809207304676e-41,
           2.7058038439240778e-43,
           2.100603089501302e-46,
           2.960933634352399e-50,
           1.0123563745712272e-54,
           8.244927736307254e-60,
           1.248012517150473e-65,
           2.0692302360223424e-72,
           9.312874915847027e-61,
           2.5767354737058017e-54,
           5.684322555424166e-49,
           1.2389859041803007e-44,
           1.4990168464401727e-40,
           1.3026116181505367e-36,
           1.7261456066715144e-33,
           3.2638786736738725e-31,
           9.997692650946458e-30,
           6.463022263254421e-29,
           9.657528612229813e-29,
           2.573018459531497e-29,
           1.0401377531834443e-30,
           6.80376908236774e-33,
           8.703447145123052e-36,
           2.7228006258300437e-39,
           2.874968410677467e-43,
           7.715665776238551e-48,
           3.5872316412064935e-53,
           2.107740235467786e-59,
           1.935993152967711e-49,
           2.3016085553794023e-43,
           2.344513906527901e-38,
           2.2620209778350585e-34,
           2.7620508794175986e-31,
           3.1368063283348025e-28,
           2.4103613833329074e-25,
           3.38629065075936e-23,
           8.485363224047795e-22,
           4.31543881823188e-21,
           5.59875443858788e-21,
           1.741370374255786e-21,
           9.542519389468582e-23,
           8.85756906862545e-25,
           2.4577096579281215e-27,
           2.1058970041153832e-30,
           8.254887079865276e-34,
           7.903088034364318e-38,
           1.2814148087510818e-42,
           2.5428168601824497e-48,
           2.143511135202984e-40,
           1.023843269000495e-34,
           4.751520828945648e-30,
           2.334697087115169e-26,
           1.3464840111079117e-23,
           1.2941718221905851e-21,
           1.6400987894875633e-19,
           1.4907350789492938e-17,
           3.2506090077249637e-16,
           1.681199008802787e-15,
           2.230747403510878e-15,
           8.640426168966941e-16,
           8.61919873818062e-17,
           1.9126461268250603e-18,
           1.1880187813883094e-20,
           2.380968431364205e-23,
           2.108910844000901e-26,
           9.563911765662737e-30,
           8.652809242803686e-34,
           8.566987501059073e-39,
           4.6151553181e-33,
           4.154644176669684e-28,
           5.858839377192175e-24,
           1.321248999729311e-20,
           4.438142207820402e-18,
           2.321172819544881e-16,
           2.6960927183807343e-15,
           5.311413696549142e-14,
           8.968865699597461e-13,
           4.836280605775013e-12,
           8.595670897684733e-12,
           5.124837859828046e-12,
           1.0567774392477103e-12,
           6.740356297465355e-14,
           1.0845775335367297e-15,
           4.681855030082554e-18,
           1.1299052246257008e-20,
           3.053427791239804e-23,
           1.2523424843515343e-26,
           4.522262645902786e-31,
           6.923303754104403e-27,
           1.5628632660176815e-22,
           3.587065124866837e-19,
           1.1895975336456565e-16,
           1.0848613038953453e-14,
           3.388528067633071e-13,
           2.737641735301483e-12,
           6.783228688015963e-12,
           3.3918147911682205e-11,
           2.225942757040279e-10,
           5.77006962664493e-10,
           5.848549483608917e-10,
           2.507642887553261e-10,
           4.718688180209332e-11,
           3.4005984876710796e-12,
           8.936677833877892e-14,
           1.093021103455941e-15,
           5.344454547690253e-18,
           4.874376908100917e-21,
           4.589210503011481e-25,
           1.2582103498943176e-22,
           1.120865629244574e-18,
           1.1106802100527905e-15,
           1.4948259138568306e-13,
           3.652659034096904e-12,
           2.8705742667350423e-11,
           1.1254827454030211e-10,
           1.986994695947924e-10,
           2.1231352649103705e-10,
           3.3912103468038855e-10,
           1.0054884502699203e-09,
           2.342694027803834e-09,
           2.7949030286439734e-09,
           1.4779296716760247e-09,
           3.4841294224203056e-10,
           3.838182666453931e-11,
           1.6588782592809084e-12,
           1.968463735836696e-14,
           4.0505866372129654e-17,
           9.187713414692744e-21,
           1.539786189162848e-19,
           2.87524477779369e-16,
           7.098117130676211e-14,
           3.4932924350208744e-12,
           5.296050461850353e-11,
           4.392338292294339e-10,
           2.028787702764984e-09,
           3.6950793613187956e-09,
           2.748195151945278e-09,
           1.3738486911730541e-09,
           1.0459698477763474e-09,
           9.274479821330187e-10,
           1.233867596813179e-09,
           2.3071834785758056e-09,
           2.3464232558987673e-09,
           8.148629327021765e-10,
           8.226699016165253e-11,
           2.096171107153305e-12,
           9.797792002486627e-15,
           5.41728576136216e-18,
           3.79579066959365e-17,
           2.5468139077838188e-14,
           2.166746688951169e-12,
           3.535115099424148e-11,
           1.7256297380273965e-10,
           3.6255941427487716e-10,
           7.126462988114933e-10,
           1.8354252202742279e-09,
           3.2907796228637452e-09,
           3.5859769923214945e-09,
           2.444747309948545e-09,
           1.0814402879907694e-09,
           7.91306413124234e-10,
           1.0682037637188596e-09,
           9.987323969728848e-10,
           7.058942168281813e-10,
           2.3843769268251964e-10,
           1.699336563063529e-11,
           1.858915351993609e-13,
           2.4781030395704317e-16,
           1.7818858660409072e-16,
           4.3486869614129075e-14,
           1.5033446349742272e-12,
           1.1959115845729045e-11,
           3.9560791065035474e-11,
           1.8470037659823243e-10,
           1.2699897469910834e-09,
           3.7016821192239262e-09,
           4.080509757740082e-09,
           2.3756972050814982e-09,
           1.7511929392497684e-09,
           2.043635091207834e-09,
           1.9454748435643766e-09,
           1.036902475672132e-09,
           4.975322705618488e-10,
           2.498589284314176e-10,
           8.344535817428996e-11,
           1.2623838122843365e-11,
           3.5307491705517366e-13,
           1.055666475553468e-15,
           1.876090606337556e-17,
           1.4024878310822596e-15,
           1.669816298502579e-14,
           2.0588639039887625e-13,
           7.285863580019315e-12,
           8.670073467214271e-11,
           4.10798187293807e-10,
           1.2404228169417002e-09,
           2.892247679579965e-09,
           4.243976049415821e-09,
           3.383795567640695e-09,
           1.8137536218402974e-09,
           1.5570597968435908e-09,
           2.407648111561233e-09,
           1.7516960025781485e-09,
           3.834634622265332e-10,
           1.0110813753568628e-10,
           5.023898966008398e-11,
           3.2533882408122254e-12,
           1.6949490944561348e-14,
           6.925815771548305e-20,
           1.4551885110634556e-18,
           1.9284084668684185e-16,
           3.423823284569861e-14,
           1.368426251669842e-12,
           1.6381691058105563e-11,
           7.420606419448338e-11,
           1.7177029296077985e-10,
           4.047801703148488e-10,
           7.943389492813311e-10,
           1.4481676161083372e-09,
           1.8605542419560427e-09,
           1.3017557416514333e-09,
           6.858379377168733e-10,
           9.395427942563743e-10,
           7.440308872420502e-10,
           1.1461932273723552e-10,
           1.9460939952326654e-11,
           3.5133128599445343e-12,
           4.567494265865847e-14,
           1.757896209086446e-23,
           3.789586325319387e-21,
           2.7565877034315176e-18,
           3.312170291858777e-16,
           1.014510766402727e-14,
           1.2951348466377829e-13,
           9.886370930937692e-13,
           6.0036190163753735e-12,
           4.158810717576702e-11,
           1.8644771469655814e-10,
           4.069295609944057e-10,
           6.901098733838451e-10,
           1.1276157922789553e-09,
           7.506446302378331e-10,
           2.3677611775767897e-10,
           2.3187023437777818e-10,
           9.029407704269736e-11,
           5.775767612015017e-12,
           2.8151361195641844e-13,
           6.2012107476465395e-15,
           2.0182678565775682e-27,
           5.6612195670876555e-24,
           2.1895917517434477e-21,
           1.154273347909105e-19,
           1.662981405498438e-18,
           1.7844378423807465e-17,
           2.695312357617489e-16,
           5.632730682170962e-15,
           1.3783431135339239e-13,
           2.5945549723506283e-12,
           2.2325379217550463e-11,
           7.957540581677179e-11,
           2.0322671696599367e-10,
           3.63739409919272e-10,
           1.5046443737015946e-10,
           4.1365631186533147e-10,
           4.91379362365077e-10,
           4.2181920786264376e-11,
           2.505422678143338e-13,
           2.193908304098075e-16,
           3.6363344827036875e-31,
           1.0651631331445027e-27,
           1.9489361240116656e-25,
           4.024034295719748e-24,
           1.640490685374983e-23,
           9.217180209281102e-23,
           2.441337068953381e-21,
           1.3894829231849295e-19,
           1.4628802697508892e-17,
           1.6347806675753402e-15,
           8.515456481844568e-14,
           1.525059074131775e-12,
           1.0843509821925883e-11,
           2.969656522403276e-11,
           2.2693692181926653e-11,
           1.8132951839820141e-10,
           4.858413393858787e-10,
           7.008071993122499e-11,
           5.041998816003688e-13,
           1.7207320056785299e-16,
           1.6444443286706397e-35,
           5.886002855543785e-32,
           1.021804915856677e-29,
           1.9563268072970354e-28,
           7.671834760722321e-28,
           2.1919720996052645e-27,
           2.7039771006155324e-26,
           9.641210707304693e-25,
           3.264985244749955e-22,
           2.3303616219351924e-19,
           1.0655267405285911e-16,
           8.966845578436424e-15,
           1.5787232897345703e-13,
           5.187904055780276e-13,
           5.899297543228735e-13,
           1.669394875628261e-11,
           5.882147934689434e-11,
           9.572947489937858e-12,
           6.832250655136932e-14,
           2.032874770258044e-17,
           1.6803690819866847e-40,
           1.1604248329574036e-36,
           5.614283440676142e-34,
           2.451625147066494e-32,
           2.1507671074882904e-31,
           9.665507584799212e-31,
           9.29094336115033e-30,
           6.585396249967649e-28,
           1.6523652626698663e-25,
           1.595512442548073e-22,
           1.9143165747097008e-19,
           2.980313272798143e-17,
           5.43535498352347e-16,
           1.5447886762758634e-15,
           7.50235764347583e-15,
           3.622305682541456e-13,
           9.449283183463885e-13,
           1.1126869384044497e-13,
           5.556796535000811e-16,
           1.1138038992444612e-19,
           2.9654211638364645e-45,
           4.04014764467803e-42,
           7.281808892100744e-39,
           1.1407062866219765e-36,
           3.96982277351741e-35,
           1.3688188701466925e-33,
           7.146143823619424e-32,
           8.748156193561551e-30,
           2.27648051033017e-27,
           1.0040321406401384e-24,
           3.2524845498334887e-22,
           2.3385318329566458e-20,
           2.6037910657126344e-19,
           6.452004410132774e-19,
           6.809342284444653e-17,
           1.45679786679546e-15,
           1.710663688752978e-15,
           9.734166765639252e-17,
           2.448941661591469e-19,
           2.529026512791115e-23,
           1.2616725861656424e-49,
           5.0671744111422227e-48,
           1.1431703086606615e-44,
           1.0207312108792505e-41,
           1.8547725276755857e-39,
           3.564370643674434e-37,
           9.986637939434866e-35,
           2.4643132739251192e-32,
           5.547900143537832e-30,
           9.387186552982254e-28,
           7.758563847616899e-26,
           1.866654612039261e-24,
           1.1176662302399897e-23,
           1.5846610881042897e-21,
           1.131640975070936e-19,
           6.496190347438066e-19,
           2.3935558566277963e-19,
           4.811317256096045e-21,
           4.663063078857615e-24,
           1.9752378368092111e-28
          ],
          "colorbar": {
           "title": {
            "text": "ColorBar"
           }
          },
          "colorscale": [
           [
            0,
            "#440154"
           ],
           [
            0.1111111111111111,
            "#482878"
           ],
           [
            0.2222222222222222,
            "#3e4989"
           ],
           [
            0.3333333333333333,
            "#31688e"
           ],
           [
            0.4444444444444444,
            "#26828e"
           ],
           [
            0.5555555555555556,
            "#1f9e89"
           ],
           [
            0.6666666666666666,
            "#35b779"
           ],
           [
            0.7777777777777778,
            "#6ece58"
           ],
           [
            0.8888888888888888,
            "#b5de2b"
           ],
           [
            1,
            "#fde725"
           ]
          ],
          "line": {
           "width": 0
          },
          "opacity": 1,
          "size": 25,
          "symbol": "circle"
         },
         "mode": "markers",
         "type": "scatter",
         "x": [
          -3.9833564014873817,
          -3.9833564014873817,
          -3.9833564014873817,
          -3.9833564014873817,
          -3.9833564014873817,
          -3.9833564014873817,
          -3.9833564014873817,
          -3.9833564014873817,
          -3.9833564014873817,
          -3.9833564014873817,
          -3.9833564014873817,
          -3.9833564014873817,
          -3.9833564014873817,
          -3.9833564014873817,
          -3.9833564014873817,
          -3.9833564014873817,
          -3.9833564014873817,
          -3.9833564014873817,
          -3.9833564014873817,
          -3.9833564014873817,
          -3.5063989233270836,
          -3.5063989233270836,
          -3.5063989233270836,
          -3.5063989233270836,
          -3.5063989233270836,
          -3.5063989233270836,
          -3.5063989233270836,
          -3.5063989233270836,
          -3.5063989233270836,
          -3.5063989233270836,
          -3.5063989233270836,
          -3.5063989233270836,
          -3.5063989233270836,
          -3.5063989233270836,
          -3.5063989233270836,
          -3.5063989233270836,
          -3.5063989233270836,
          -3.5063989233270836,
          -3.5063989233270836,
          -3.5063989233270836,
          -3.0294414451667855,
          -3.0294414451667855,
          -3.0294414451667855,
          -3.0294414451667855,
          -3.0294414451667855,
          -3.0294414451667855,
          -3.0294414451667855,
          -3.0294414451667855,
          -3.0294414451667855,
          -3.0294414451667855,
          -3.0294414451667855,
          -3.0294414451667855,
          -3.0294414451667855,
          -3.0294414451667855,
          -3.0294414451667855,
          -3.0294414451667855,
          -3.0294414451667855,
          -3.0294414451667855,
          -3.0294414451667855,
          -3.0294414451667855,
          -2.552483967006487,
          -2.552483967006487,
          -2.552483967006487,
          -2.552483967006487,
          -2.552483967006487,
          -2.552483967006487,
          -2.552483967006487,
          -2.552483967006487,
          -2.552483967006487,
          -2.552483967006487,
          -2.552483967006487,
          -2.552483967006487,
          -2.552483967006487,
          -2.552483967006487,
          -2.552483967006487,
          -2.552483967006487,
          -2.552483967006487,
          -2.552483967006487,
          -2.552483967006487,
          -2.552483967006487,
          -2.075526488846189,
          -2.075526488846189,
          -2.075526488846189,
          -2.075526488846189,
          -2.075526488846189,
          -2.075526488846189,
          -2.075526488846189,
          -2.075526488846189,
          -2.075526488846189,
          -2.075526488846189,
          -2.075526488846189,
          -2.075526488846189,
          -2.075526488846189,
          -2.075526488846189,
          -2.075526488846189,
          -2.075526488846189,
          -2.075526488846189,
          -2.075526488846189,
          -2.075526488846189,
          -2.075526488846189,
          -1.5985690106858907,
          -1.5985690106858907,
          -1.5985690106858907,
          -1.5985690106858907,
          -1.5985690106858907,
          -1.5985690106858907,
          -1.5985690106858907,
          -1.5985690106858907,
          -1.5985690106858907,
          -1.5985690106858907,
          -1.5985690106858907,
          -1.5985690106858907,
          -1.5985690106858907,
          -1.5985690106858907,
          -1.5985690106858907,
          -1.5985690106858907,
          -1.5985690106858907,
          -1.5985690106858907,
          -1.5985690106858907,
          -1.5985690106858907,
          -1.1216115325255922,
          -1.1216115325255922,
          -1.1216115325255922,
          -1.1216115325255922,
          -1.1216115325255922,
          -1.1216115325255922,
          -1.1216115325255922,
          -1.1216115325255922,
          -1.1216115325255922,
          -1.1216115325255922,
          -1.1216115325255922,
          -1.1216115325255922,
          -1.1216115325255922,
          -1.1216115325255922,
          -1.1216115325255922,
          -1.1216115325255922,
          -1.1216115325255922,
          -1.1216115325255922,
          -1.1216115325255922,
          -1.1216115325255922,
          -0.6446540543652941,
          -0.6446540543652941,
          -0.6446540543652941,
          -0.6446540543652941,
          -0.6446540543652941,
          -0.6446540543652941,
          -0.6446540543652941,
          -0.6446540543652941,
          -0.6446540543652941,
          -0.6446540543652941,
          -0.6446540543652941,
          -0.6446540543652941,
          -0.6446540543652941,
          -0.6446540543652941,
          -0.6446540543652941,
          -0.6446540543652941,
          -0.6446540543652941,
          -0.6446540543652941,
          -0.6446540543652941,
          -0.6446540543652941,
          -0.167696576204996,
          -0.167696576204996,
          -0.167696576204996,
          -0.167696576204996,
          -0.167696576204996,
          -0.167696576204996,
          -0.167696576204996,
          -0.167696576204996,
          -0.167696576204996,
          -0.167696576204996,
          -0.167696576204996,
          -0.167696576204996,
          -0.167696576204996,
          -0.167696576204996,
          -0.167696576204996,
          -0.167696576204996,
          -0.167696576204996,
          -0.167696576204996,
          -0.167696576204996,
          -0.167696576204996,
          0.30926090195530254,
          0.30926090195530254,
          0.30926090195530254,
          0.30926090195530254,
          0.30926090195530254,
          0.30926090195530254,
          0.30926090195530254,
          0.30926090195530254,
          0.30926090195530254,
          0.30926090195530254,
          0.30926090195530254,
          0.30926090195530254,
          0.30926090195530254,
          0.30926090195530254,
          0.30926090195530254,
          0.30926090195530254,
          0.30926090195530254,
          0.30926090195530254,
          0.30926090195530254,
          0.30926090195530254,
          0.7862183801156002,
          0.7862183801156002,
          0.7862183801156002,
          0.7862183801156002,
          0.7862183801156002,
          0.7862183801156002,
          0.7862183801156002,
          0.7862183801156002,
          0.7862183801156002,
          0.7862183801156002,
          0.7862183801156002,
          0.7862183801156002,
          0.7862183801156002,
          0.7862183801156002,
          0.7862183801156002,
          0.7862183801156002,
          0.7862183801156002,
          0.7862183801156002,
          0.7862183801156002,
          0.7862183801156002,
          1.2631758582758987,
          1.2631758582758987,
          1.2631758582758987,
          1.2631758582758987,
          1.2631758582758987,
          1.2631758582758987,
          1.2631758582758987,
          1.2631758582758987,
          1.2631758582758987,
          1.2631758582758987,
          1.2631758582758987,
          1.2631758582758987,
          1.2631758582758987,
          1.2631758582758987,
          1.2631758582758987,
          1.2631758582758987,
          1.2631758582758987,
          1.2631758582758987,
          1.2631758582758987,
          1.2631758582758987,
          1.7401333364361973,
          1.7401333364361973,
          1.7401333364361973,
          1.7401333364361973,
          1.7401333364361973,
          1.7401333364361973,
          1.7401333364361973,
          1.7401333364361973,
          1.7401333364361973,
          1.7401333364361973,
          1.7401333364361973,
          1.7401333364361973,
          1.7401333364361973,
          1.7401333364361973,
          1.7401333364361973,
          1.7401333364361973,
          1.7401333364361973,
          1.7401333364361973,
          1.7401333364361973,
          1.7401333364361973,
          2.217090814596495,
          2.217090814596495,
          2.217090814596495,
          2.217090814596495,
          2.217090814596495,
          2.217090814596495,
          2.217090814596495,
          2.217090814596495,
          2.217090814596495,
          2.217090814596495,
          2.217090814596495,
          2.217090814596495,
          2.217090814596495,
          2.217090814596495,
          2.217090814596495,
          2.217090814596495,
          2.217090814596495,
          2.217090814596495,
          2.217090814596495,
          2.217090814596495,
          2.6940482927567935,
          2.6940482927567935,
          2.6940482927567935,
          2.6940482927567935,
          2.6940482927567935,
          2.6940482927567935,
          2.6940482927567935,
          2.6940482927567935,
          2.6940482927567935,
          2.6940482927567935,
          2.6940482927567935,
          2.6940482927567935,
          2.6940482927567935,
          2.6940482927567935,
          2.6940482927567935,
          2.6940482927567935,
          2.6940482927567935,
          2.6940482927567935,
          2.6940482927567935,
          2.6940482927567935,
          3.171005770917091,
          3.171005770917091,
          3.171005770917091,
          3.171005770917091,
          3.171005770917091,
          3.171005770917091,
          3.171005770917091,
          3.171005770917091,
          3.171005770917091,
          3.171005770917091,
          3.171005770917091,
          3.171005770917091,
          3.171005770917091,
          3.171005770917091,
          3.171005770917091,
          3.171005770917091,
          3.171005770917091,
          3.171005770917091,
          3.171005770917091,
          3.171005770917091,
          3.6479632490773897,
          3.6479632490773897,
          3.6479632490773897,
          3.6479632490773897,
          3.6479632490773897,
          3.6479632490773897,
          3.6479632490773897,
          3.6479632490773897,
          3.6479632490773897,
          3.6479632490773897,
          3.6479632490773897,
          3.6479632490773897,
          3.6479632490773897,
          3.6479632490773897,
          3.6479632490773897,
          3.6479632490773897,
          3.6479632490773897,
          3.6479632490773897,
          3.6479632490773897,
          3.6479632490773897,
          4.124920727237687,
          4.124920727237687,
          4.124920727237687,
          4.124920727237687,
          4.124920727237687,
          4.124920727237687,
          4.124920727237687,
          4.124920727237687,
          4.124920727237687,
          4.124920727237687,
          4.124920727237687,
          4.124920727237687,
          4.124920727237687,
          4.124920727237687,
          4.124920727237687,
          4.124920727237687,
          4.124920727237687,
          4.124920727237687,
          4.124920727237687,
          4.124920727237687,
          4.601878205397987,
          4.601878205397987,
          4.601878205397987,
          4.601878205397987,
          4.601878205397987,
          4.601878205397987,
          4.601878205397987,
          4.601878205397987,
          4.601878205397987,
          4.601878205397987,
          4.601878205397987,
          4.601878205397987,
          4.601878205397987,
          4.601878205397987,
          4.601878205397987,
          4.601878205397987,
          4.601878205397987,
          4.601878205397987,
          4.601878205397987,
          4.601878205397987,
          5.078835683558285,
          5.078835683558285,
          5.078835683558285,
          5.078835683558285,
          5.078835683558285,
          5.078835683558285,
          5.078835683558285,
          5.078835683558285,
          5.078835683558285,
          5.078835683558285,
          5.078835683558285,
          5.078835683558285,
          5.078835683558285,
          5.078835683558285,
          5.078835683558285,
          5.078835683558285,
          5.078835683558285,
          5.078835683558285,
          5.078835683558285,
          5.078835683558285
         ],
         "xaxis": "x2",
         "y": [
          -2.4498787736391727,
          -2.0755781364977084,
          -1.7012774993562436,
          -1.3269768622147793,
          -0.9526762250733147,
          -0.5783755879318502,
          -0.20407495079038585,
          0.17022568635107893,
          0.5445263234925433,
          0.9188269606340076,
          1.2931275977754724,
          1.6674282349169371,
          2.041728872058401,
          2.416029509199866,
          2.7903301463413306,
          3.1646307834827945,
          3.5389314206242592,
          3.913232057765724,
          4.287532694907188,
          4.661833332048652,
          -2.4498787736391727,
          -2.0755781364977084,
          -1.7012774993562436,
          -1.3269768622147793,
          -0.9526762250733147,
          -0.5783755879318502,
          -0.20407495079038585,
          0.17022568635107893,
          0.5445263234925433,
          0.9188269606340076,
          1.2931275977754724,
          1.6674282349169371,
          2.041728872058401,
          2.416029509199866,
          2.7903301463413306,
          3.1646307834827945,
          3.5389314206242592,
          3.913232057765724,
          4.287532694907188,
          4.661833332048652,
          -2.4498787736391727,
          -2.0755781364977084,
          -1.7012774993562436,
          -1.3269768622147793,
          -0.9526762250733147,
          -0.5783755879318502,
          -0.20407495079038585,
          0.17022568635107893,
          0.5445263234925433,
          0.9188269606340076,
          1.2931275977754724,
          1.6674282349169371,
          2.041728872058401,
          2.416029509199866,
          2.7903301463413306,
          3.1646307834827945,
          3.5389314206242592,
          3.913232057765724,
          4.287532694907188,
          4.661833332048652,
          -2.4498787736391727,
          -2.0755781364977084,
          -1.7012774993562436,
          -1.3269768622147793,
          -0.9526762250733147,
          -0.5783755879318502,
          -0.20407495079038585,
          0.17022568635107893,
          0.5445263234925433,
          0.9188269606340076,
          1.2931275977754724,
          1.6674282349169371,
          2.041728872058401,
          2.416029509199866,
          2.7903301463413306,
          3.1646307834827945,
          3.5389314206242592,
          3.913232057765724,
          4.287532694907188,
          4.661833332048652,
          -2.4498787736391727,
          -2.0755781364977084,
          -1.7012774993562436,
          -1.3269768622147793,
          -0.9526762250733147,
          -0.5783755879318502,
          -0.20407495079038585,
          0.17022568635107893,
          0.5445263234925433,
          0.9188269606340076,
          1.2931275977754724,
          1.6674282349169371,
          2.041728872058401,
          2.416029509199866,
          2.7903301463413306,
          3.1646307834827945,
          3.5389314206242592,
          3.913232057765724,
          4.287532694907188,
          4.661833332048652,
          -2.4498787736391727,
          -2.0755781364977084,
          -1.7012774993562436,
          -1.3269768622147793,
          -0.9526762250733147,
          -0.5783755879318502,
          -0.20407495079038585,
          0.17022568635107893,
          0.5445263234925433,
          0.9188269606340076,
          1.2931275977754724,
          1.6674282349169371,
          2.041728872058401,
          2.416029509199866,
          2.7903301463413306,
          3.1646307834827945,
          3.5389314206242592,
          3.913232057765724,
          4.287532694907188,
          4.661833332048652,
          -2.4498787736391727,
          -2.0755781364977084,
          -1.7012774993562436,
          -1.3269768622147793,
          -0.9526762250733147,
          -0.5783755879318502,
          -0.20407495079038585,
          0.17022568635107893,
          0.5445263234925433,
          0.9188269606340076,
          1.2931275977754724,
          1.6674282349169371,
          2.041728872058401,
          2.416029509199866,
          2.7903301463413306,
          3.1646307834827945,
          3.5389314206242592,
          3.913232057765724,
          4.287532694907188,
          4.661833332048652,
          -2.4498787736391727,
          -2.0755781364977084,
          -1.7012774993562436,
          -1.3269768622147793,
          -0.9526762250733147,
          -0.5783755879318502,
          -0.20407495079038585,
          0.17022568635107893,
          0.5445263234925433,
          0.9188269606340076,
          1.2931275977754724,
          1.6674282349169371,
          2.041728872058401,
          2.416029509199866,
          2.7903301463413306,
          3.1646307834827945,
          3.5389314206242592,
          3.913232057765724,
          4.287532694907188,
          4.661833332048652,
          -2.4498787736391727,
          -2.0755781364977084,
          -1.7012774993562436,
          -1.3269768622147793,
          -0.9526762250733147,
          -0.5783755879318502,
          -0.20407495079038585,
          0.17022568635107893,
          0.5445263234925433,
          0.9188269606340076,
          1.2931275977754724,
          1.6674282349169371,
          2.041728872058401,
          2.416029509199866,
          2.7903301463413306,
          3.1646307834827945,
          3.5389314206242592,
          3.913232057765724,
          4.287532694907188,
          4.661833332048652,
          -2.4498787736391727,
          -2.0755781364977084,
          -1.7012774993562436,
          -1.3269768622147793,
          -0.9526762250733147,
          -0.5783755879318502,
          -0.20407495079038585,
          0.17022568635107893,
          0.5445263234925433,
          0.9188269606340076,
          1.2931275977754724,
          1.6674282349169371,
          2.041728872058401,
          2.416029509199866,
          2.7903301463413306,
          3.1646307834827945,
          3.5389314206242592,
          3.913232057765724,
          4.287532694907188,
          4.661833332048652,
          -2.4498787736391727,
          -2.0755781364977084,
          -1.7012774993562436,
          -1.3269768622147793,
          -0.9526762250733147,
          -0.5783755879318502,
          -0.20407495079038585,
          0.17022568635107893,
          0.5445263234925433,
          0.9188269606340076,
          1.2931275977754724,
          1.6674282349169371,
          2.041728872058401,
          2.416029509199866,
          2.7903301463413306,
          3.1646307834827945,
          3.5389314206242592,
          3.913232057765724,
          4.287532694907188,
          4.661833332048652,
          -2.4498787736391727,
          -2.0755781364977084,
          -1.7012774993562436,
          -1.3269768622147793,
          -0.9526762250733147,
          -0.5783755879318502,
          -0.20407495079038585,
          0.17022568635107893,
          0.5445263234925433,
          0.9188269606340076,
          1.2931275977754724,
          1.6674282349169371,
          2.041728872058401,
          2.416029509199866,
          2.7903301463413306,
          3.1646307834827945,
          3.5389314206242592,
          3.913232057765724,
          4.287532694907188,
          4.661833332048652,
          -2.4498787736391727,
          -2.0755781364977084,
          -1.7012774993562436,
          -1.3269768622147793,
          -0.9526762250733147,
          -0.5783755879318502,
          -0.20407495079038585,
          0.17022568635107893,
          0.5445263234925433,
          0.9188269606340076,
          1.2931275977754724,
          1.6674282349169371,
          2.041728872058401,
          2.416029509199866,
          2.7903301463413306,
          3.1646307834827945,
          3.5389314206242592,
          3.913232057765724,
          4.287532694907188,
          4.661833332048652,
          -2.4498787736391727,
          -2.0755781364977084,
          -1.7012774993562436,
          -1.3269768622147793,
          -0.9526762250733147,
          -0.5783755879318502,
          -0.20407495079038585,
          0.17022568635107893,
          0.5445263234925433,
          0.9188269606340076,
          1.2931275977754724,
          1.6674282349169371,
          2.041728872058401,
          2.416029509199866,
          2.7903301463413306,
          3.1646307834827945,
          3.5389314206242592,
          3.913232057765724,
          4.287532694907188,
          4.661833332048652,
          -2.4498787736391727,
          -2.0755781364977084,
          -1.7012774993562436,
          -1.3269768622147793,
          -0.9526762250733147,
          -0.5783755879318502,
          -0.20407495079038585,
          0.17022568635107893,
          0.5445263234925433,
          0.9188269606340076,
          1.2931275977754724,
          1.6674282349169371,
          2.041728872058401,
          2.416029509199866,
          2.7903301463413306,
          3.1646307834827945,
          3.5389314206242592,
          3.913232057765724,
          4.287532694907188,
          4.661833332048652,
          -2.4498787736391727,
          -2.0755781364977084,
          -1.7012774993562436,
          -1.3269768622147793,
          -0.9526762250733147,
          -0.5783755879318502,
          -0.20407495079038585,
          0.17022568635107893,
          0.5445263234925433,
          0.9188269606340076,
          1.2931275977754724,
          1.6674282349169371,
          2.041728872058401,
          2.416029509199866,
          2.7903301463413306,
          3.1646307834827945,
          3.5389314206242592,
          3.913232057765724,
          4.287532694907188,
          4.661833332048652,
          -2.4498787736391727,
          -2.0755781364977084,
          -1.7012774993562436,
          -1.3269768622147793,
          -0.9526762250733147,
          -0.5783755879318502,
          -0.20407495079038585,
          0.17022568635107893,
          0.5445263234925433,
          0.9188269606340076,
          1.2931275977754724,
          1.6674282349169371,
          2.041728872058401,
          2.416029509199866,
          2.7903301463413306,
          3.1646307834827945,
          3.5389314206242592,
          3.913232057765724,
          4.287532694907188,
          4.661833332048652,
          -2.4498787736391727,
          -2.0755781364977084,
          -1.7012774993562436,
          -1.3269768622147793,
          -0.9526762250733147,
          -0.5783755879318502,
          -0.20407495079038585,
          0.17022568635107893,
          0.5445263234925433,
          0.9188269606340076,
          1.2931275977754724,
          1.6674282349169371,
          2.041728872058401,
          2.416029509199866,
          2.7903301463413306,
          3.1646307834827945,
          3.5389314206242592,
          3.913232057765724,
          4.287532694907188,
          4.661833332048652,
          -2.4498787736391727,
          -2.0755781364977084,
          -1.7012774993562436,
          -1.3269768622147793,
          -0.9526762250733147,
          -0.5783755879318502,
          -0.20407495079038585,
          0.17022568635107893,
          0.5445263234925433,
          0.9188269606340076,
          1.2931275977754724,
          1.6674282349169371,
          2.041728872058401,
          2.416029509199866,
          2.7903301463413306,
          3.1646307834827945,
          3.5389314206242592,
          3.913232057765724,
          4.287532694907188,
          4.661833332048652,
          -2.4498787736391727,
          -2.0755781364977084,
          -1.7012774993562436,
          -1.3269768622147793,
          -0.9526762250733147,
          -0.5783755879318502,
          -0.20407495079038585,
          0.17022568635107893,
          0.5445263234925433,
          0.9188269606340076,
          1.2931275977754724,
          1.6674282349169371,
          2.041728872058401,
          2.416029509199866,
          2.7903301463413306,
          3.1646307834827945,
          3.5389314206242592,
          3.913232057765724,
          4.287532694907188,
          4.661833332048652
         ],
         "yaxis": "y2"
        }
       ],
       "layout": {
        "annotations": [
         {
          "font": {
           "size": 16
          },
          "showarrow": false,
          "text": "coords",
          "x": 0.225,
          "xanchor": "center",
          "xref": "paper",
          "y": 1,
          "yanchor": "bottom",
          "yref": "paper"
         },
         {
          "font": {
           "size": 16
          },
          "showarrow": false,
          "text": "coords",
          "x": 0.775,
          "xanchor": "center",
          "xref": "paper",
          "y": 1,
          "yanchor": "bottom",
          "yref": "paper"
         }
        ],
        "template": {
         "data": {
          "bar": [
           {
            "error_x": {
             "color": "#2a3f5f"
            },
            "error_y": {
             "color": "#2a3f5f"
            },
            "marker": {
             "line": {
              "color": "#E5ECF6",
              "width": 0.5
             }
            },
            "type": "bar"
           }
          ],
          "barpolar": [
           {
            "marker": {
             "line": {
              "color": "#E5ECF6",
              "width": 0.5
             }
            },
            "type": "barpolar"
           }
          ],
          "carpet": [
           {
            "aaxis": {
             "endlinecolor": "#2a3f5f",
             "gridcolor": "white",
             "linecolor": "white",
             "minorgridcolor": "white",
             "startlinecolor": "#2a3f5f"
            },
            "baxis": {
             "endlinecolor": "#2a3f5f",
             "gridcolor": "white",
             "linecolor": "white",
             "minorgridcolor": "white",
             "startlinecolor": "#2a3f5f"
            },
            "type": "carpet"
           }
          ],
          "choropleth": [
           {
            "colorbar": {
             "outlinewidth": 0,
             "ticks": ""
            },
            "type": "choropleth"
           }
          ],
          "contour": [
           {
            "colorbar": {
             "outlinewidth": 0,
             "ticks": ""
            },
            "colorscale": [
             [
              0,
              "#0d0887"
             ],
             [
              0.1111111111111111,
              "#46039f"
             ],
             [
              0.2222222222222222,
              "#7201a8"
             ],
             [
              0.3333333333333333,
              "#9c179e"
             ],
             [
              0.4444444444444444,
              "#bd3786"
             ],
             [
              0.5555555555555556,
              "#d8576b"
             ],
             [
              0.6666666666666666,
              "#ed7953"
             ],
             [
              0.7777777777777778,
              "#fb9f3a"
             ],
             [
              0.8888888888888888,
              "#fdca26"
             ],
             [
              1,
              "#f0f921"
             ]
            ],
            "type": "contour"
           }
          ],
          "contourcarpet": [
           {
            "colorbar": {
             "outlinewidth": 0,
             "ticks": ""
            },
            "type": "contourcarpet"
           }
          ],
          "heatmap": [
           {
            "colorbar": {
             "outlinewidth": 0,
             "ticks": ""
            },
            "colorscale": [
             [
              0,
              "#0d0887"
             ],
             [
              0.1111111111111111,
              "#46039f"
             ],
             [
              0.2222222222222222,
              "#7201a8"
             ],
             [
              0.3333333333333333,
              "#9c179e"
             ],
             [
              0.4444444444444444,
              "#bd3786"
             ],
             [
              0.5555555555555556,
              "#d8576b"
             ],
             [
              0.6666666666666666,
              "#ed7953"
             ],
             [
              0.7777777777777778,
              "#fb9f3a"
             ],
             [
              0.8888888888888888,
              "#fdca26"
             ],
             [
              1,
              "#f0f921"
             ]
            ],
            "type": "heatmap"
           }
          ],
          "heatmapgl": [
           {
            "colorbar": {
             "outlinewidth": 0,
             "ticks": ""
            },
            "colorscale": [
             [
              0,
              "#0d0887"
             ],
             [
              0.1111111111111111,
              "#46039f"
             ],
             [
              0.2222222222222222,
              "#7201a8"
             ],
             [
              0.3333333333333333,
              "#9c179e"
             ],
             [
              0.4444444444444444,
              "#bd3786"
             ],
             [
              0.5555555555555556,
              "#d8576b"
             ],
             [
              0.6666666666666666,
              "#ed7953"
             ],
             [
              0.7777777777777778,
              "#fb9f3a"
             ],
             [
              0.8888888888888888,
              "#fdca26"
             ],
             [
              1,
              "#f0f921"
             ]
            ],
            "type": "heatmapgl"
           }
          ],
          "histogram": [
           {
            "marker": {
             "colorbar": {
              "outlinewidth": 0,
              "ticks": ""
             }
            },
            "type": "histogram"
           }
          ],
          "histogram2d": [
           {
            "colorbar": {
             "outlinewidth": 0,
             "ticks": ""
            },
            "colorscale": [
             [
              0,
              "#0d0887"
             ],
             [
              0.1111111111111111,
              "#46039f"
             ],
             [
              0.2222222222222222,
              "#7201a8"
             ],
             [
              0.3333333333333333,
              "#9c179e"
             ],
             [
              0.4444444444444444,
              "#bd3786"
             ],
             [
              0.5555555555555556,
              "#d8576b"
             ],
             [
              0.6666666666666666,
              "#ed7953"
             ],
             [
              0.7777777777777778,
              "#fb9f3a"
             ],
             [
              0.8888888888888888,
              "#fdca26"
             ],
             [
              1,
              "#f0f921"
             ]
            ],
            "type": "histogram2d"
           }
          ],
          "histogram2dcontour": [
           {
            "colorbar": {
             "outlinewidth": 0,
             "ticks": ""
            },
            "colorscale": [
             [
              0,
              "#0d0887"
             ],
             [
              0.1111111111111111,
              "#46039f"
             ],
             [
              0.2222222222222222,
              "#7201a8"
             ],
             [
              0.3333333333333333,
              "#9c179e"
             ],
             [
              0.4444444444444444,
              "#bd3786"
             ],
             [
              0.5555555555555556,
              "#d8576b"
             ],
             [
              0.6666666666666666,
              "#ed7953"
             ],
             [
              0.7777777777777778,
              "#fb9f3a"
             ],
             [
              0.8888888888888888,
              "#fdca26"
             ],
             [
              1,
              "#f0f921"
             ]
            ],
            "type": "histogram2dcontour"
           }
          ],
          "mesh3d": [
           {
            "colorbar": {
             "outlinewidth": 0,
             "ticks": ""
            },
            "type": "mesh3d"
           }
          ],
          "parcoords": [
           {
            "line": {
             "colorbar": {
              "outlinewidth": 0,
              "ticks": ""
             }
            },
            "type": "parcoords"
           }
          ],
          "pie": [
           {
            "automargin": true,
            "type": "pie"
           }
          ],
          "scatter": [
           {
            "marker": {
             "colorbar": {
              "outlinewidth": 0,
              "ticks": ""
             }
            },
            "type": "scatter"
           }
          ],
          "scatter3d": [
           {
            "line": {
             "colorbar": {
              "outlinewidth": 0,
              "ticks": ""
             }
            },
            "marker": {
             "colorbar": {
              "outlinewidth": 0,
              "ticks": ""
             }
            },
            "type": "scatter3d"
           }
          ],
          "scattercarpet": [
           {
            "marker": {
             "colorbar": {
              "outlinewidth": 0,
              "ticks": ""
             }
            },
            "type": "scattercarpet"
           }
          ],
          "scattergeo": [
           {
            "marker": {
             "colorbar": {
              "outlinewidth": 0,
              "ticks": ""
             }
            },
            "type": "scattergeo"
           }
          ],
          "scattergl": [
           {
            "marker": {
             "colorbar": {
              "outlinewidth": 0,
              "ticks": ""
             }
            },
            "type": "scattergl"
           }
          ],
          "scattermapbox": [
           {
            "marker": {
             "colorbar": {
              "outlinewidth": 0,
              "ticks": ""
             }
            },
            "type": "scattermapbox"
           }
          ],
          "scatterpolar": [
           {
            "marker": {
             "colorbar": {
              "outlinewidth": 0,
              "ticks": ""
             }
            },
            "type": "scatterpolar"
           }
          ],
          "scatterpolargl": [
           {
            "marker": {
             "colorbar": {
              "outlinewidth": 0,
              "ticks": ""
             }
            },
            "type": "scatterpolargl"
           }
          ],
          "scatterternary": [
           {
            "marker": {
             "colorbar": {
              "outlinewidth": 0,
              "ticks": ""
             }
            },
            "type": "scatterternary"
           }
          ],
          "surface": [
           {
            "colorbar": {
             "outlinewidth": 0,
             "ticks": ""
            },
            "colorscale": [
             [
              0,
              "#0d0887"
             ],
             [
              0.1111111111111111,
              "#46039f"
             ],
             [
              0.2222222222222222,
              "#7201a8"
             ],
             [
              0.3333333333333333,
              "#9c179e"
             ],
             [
              0.4444444444444444,
              "#bd3786"
             ],
             [
              0.5555555555555556,
              "#d8576b"
             ],
             [
              0.6666666666666666,
              "#ed7953"
             ],
             [
              0.7777777777777778,
              "#fb9f3a"
             ],
             [
              0.8888888888888888,
              "#fdca26"
             ],
             [
              1,
              "#f0f921"
             ]
            ],
            "type": "surface"
           }
          ],
          "table": [
           {
            "cells": {
             "fill": {
              "color": "#EBF0F8"
             },
             "line": {
              "color": "white"
             }
            },
            "header": {
             "fill": {
              "color": "#C8D4E3"
             },
             "line": {
              "color": "white"
             }
            },
            "type": "table"
           }
          ]
         },
         "layout": {
          "annotationdefaults": {
           "arrowcolor": "#2a3f5f",
           "arrowhead": 0,
           "arrowwidth": 1
          },
          "coloraxis": {
           "colorbar": {
            "outlinewidth": 0,
            "ticks": ""
           }
          },
          "colorscale": {
           "diverging": [
            [
             0,
             "#8e0152"
            ],
            [
             0.1,
             "#c51b7d"
            ],
            [
             0.2,
             "#de77ae"
            ],
            [
             0.3,
             "#f1b6da"
            ],
            [
             0.4,
             "#fde0ef"
            ],
            [
             0.5,
             "#f7f7f7"
            ],
            [
             0.6,
             "#e6f5d0"
            ],
            [
             0.7,
             "#b8e186"
            ],
            [
             0.8,
             "#7fbc41"
            ],
            [
             0.9,
             "#4d9221"
            ],
            [
             1,
             "#276419"
            ]
           ],
           "sequential": [
            [
             0,
             "#0d0887"
            ],
            [
             0.1111111111111111,
             "#46039f"
            ],
            [
             0.2222222222222222,
             "#7201a8"
            ],
            [
             0.3333333333333333,
             "#9c179e"
            ],
            [
             0.4444444444444444,
             "#bd3786"
            ],
            [
             0.5555555555555556,
             "#d8576b"
            ],
            [
             0.6666666666666666,
             "#ed7953"
            ],
            [
             0.7777777777777778,
             "#fb9f3a"
            ],
            [
             0.8888888888888888,
             "#fdca26"
            ],
            [
             1,
             "#f0f921"
            ]
           ],
           "sequentialminus": [
            [
             0,
             "#0d0887"
            ],
            [
             0.1111111111111111,
             "#46039f"
            ],
            [
             0.2222222222222222,
             "#7201a8"
            ],
            [
             0.3333333333333333,
             "#9c179e"
            ],
            [
             0.4444444444444444,
             "#bd3786"
            ],
            [
             0.5555555555555556,
             "#d8576b"
            ],
            [
             0.6666666666666666,
             "#ed7953"
            ],
            [
             0.7777777777777778,
             "#fb9f3a"
            ],
            [
             0.8888888888888888,
             "#fdca26"
            ],
            [
             1,
             "#f0f921"
            ]
           ]
          },
          "colorway": [
           "#636efa",
           "#EF553B",
           "#00cc96",
           "#ab63fa",
           "#FFA15A",
           "#19d3f3",
           "#FF6692",
           "#B6E880",
           "#FF97FF",
           "#FECB52"
          ],
          "font": {
           "color": "#2a3f5f"
          },
          "geo": {
           "bgcolor": "white",
           "lakecolor": "white",
           "landcolor": "#E5ECF6",
           "showlakes": true,
           "showland": true,
           "subunitcolor": "white"
          },
          "hoverlabel": {
           "align": "left"
          },
          "hovermode": "closest",
          "mapbox": {
           "style": "light"
          },
          "paper_bgcolor": "white",
          "plot_bgcolor": "#E5ECF6",
          "polar": {
           "angularaxis": {
            "gridcolor": "white",
            "linecolor": "white",
            "ticks": ""
           },
           "bgcolor": "#E5ECF6",
           "radialaxis": {
            "gridcolor": "white",
            "linecolor": "white",
            "ticks": ""
           }
          },
          "scene": {
           "xaxis": {
            "backgroundcolor": "#E5ECF6",
            "gridcolor": "white",
            "gridwidth": 2,
            "linecolor": "white",
            "showbackground": true,
            "ticks": "",
            "zerolinecolor": "white"
           },
           "yaxis": {
            "backgroundcolor": "#E5ECF6",
            "gridcolor": "white",
            "gridwidth": 2,
            "linecolor": "white",
            "showbackground": true,
            "ticks": "",
            "zerolinecolor": "white"
           },
           "zaxis": {
            "backgroundcolor": "#E5ECF6",
            "gridcolor": "white",
            "gridwidth": 2,
            "linecolor": "white",
            "showbackground": true,
            "ticks": "",
            "zerolinecolor": "white"
           }
          },
          "shapedefaults": {
           "line": {
            "color": "#2a3f5f"
           }
          },
          "ternary": {
           "aaxis": {
            "gridcolor": "white",
            "linecolor": "white",
            "ticks": ""
           },
           "baxis": {
            "gridcolor": "white",
            "linecolor": "white",
            "ticks": ""
           },
           "bgcolor": "#E5ECF6",
           "caxis": {
            "gridcolor": "white",
            "linecolor": "white",
            "ticks": ""
           }
          },
          "title": {
           "x": 0.05
          },
          "xaxis": {
           "automargin": true,
           "gridcolor": "white",
           "linecolor": "white",
           "ticks": "",
           "title": {
            "standoff": 15
           },
           "zerolinecolor": "white",
           "zerolinewidth": 2
          },
          "yaxis": {
           "automargin": true,
           "gridcolor": "white",
           "linecolor": "white",
           "ticks": "",
           "title": {
            "standoff": 15
           },
           "zerolinecolor": "white",
           "zerolinewidth": 2
          }
         }
        },
        "xaxis": {
         "anchor": "y",
         "domain": [
          0,
          0.45
         ]
        },
        "xaxis2": {
         "anchor": "y2",
         "domain": [
          0.55,
          1
         ]
        },
        "yaxis": {
         "anchor": "x",
         "domain": [
          0,
          1
         ]
        },
        "yaxis2": {
         "anchor": "x2",
         "domain": [
          0,
          1
         ]
        }
       }
      },
      "text/html": [
       "<div>\n",
       "        \n",
       "        \n",
       "            <div id=\"ca6ca87d-4cd2-4fac-8438-e1169cb460b9\" class=\"plotly-graph-div\" style=\"height:525px; width:100%;\"></div>\n",
       "            <script type=\"text/javascript\">\n",
       "                require([\"plotly\"], function(Plotly) {\n",
       "                    window.PLOTLYENV=window.PLOTLYENV || {};\n",
       "                    \n",
       "                if (document.getElementById(\"ca6ca87d-4cd2-4fac-8438-e1169cb460b9\")) {\n",
       "                    Plotly.newPlot(\n",
       "                        'ca6ca87d-4cd2-4fac-8438-e1169cb460b9',\n",
       "                        [{\"mode\": \"markers\", \"name\": \"0\", \"type\": \"scatter\", \"x\": [3.961661445574057, 3.7879759023401225, 1.9345941376897937, 3.9405005929494465, 2.8448643798405073, 4.417186139274191, 5.035031400273705, 3.9393575330945665, 3.3190889903170526, 3.8572664370702596, 4.378267501859045, 4.357347647869521, 2.806004489928367, 3.433646095847995, 4.430825060765115, 3.9881118810062905, 3.139726348286637, 4.551634060494883, 3.7040403749897144, 4.418028528505911, 3.6298417735473336, 4.045028328392746, 4.058011845480177, 2.9394420513461297, 3.671320305729038, 3.6468111286917435, 4.374018585313994, 4.1403449462364925, 3.2794583363879006, 4.1801301814877485, 1.8851912757931828, 4.388949867045919, 3.5660442338016796, 3.1139028186049083, 3.3200764471529807, 3.849202221260172, 5.078835683558285, 3.4689485366887345, 4.818045356525845, 3.4876674170705573], \"xaxis\": \"x\", \"y\": [0.10456899377793871, 0.32809743756648685, 0.18636779693232625, 0.5193838873251571, -0.8791323587651441, 1.2384001965612481, 0.16721973886605698, 0.5831571645408423, -0.5167176466878569, -0.5153239124048338, 0.6816179925837416, 0.03130273383246078, 1.1475819425107256, -0.25998366454925387, -0.8140707436059617, 0.3832295893516101, -0.7286356514359366, 0.9069730143693735, -0.7449563208593124, 0.27875594157370137, 0.9751890765523382, -0.7777080227769141, -0.16506638383696612, 1.5581309823098701, 0.30053285298825333, -0.7336552319818423, -0.05099335695846599, 0.9005928772612396, -0.8961872219085207, -0.3890668747752919, 0.5018150316697366, 0.011496853836238214, 0.21687237010177768, -0.7678349554992344, 0.3285141119378111, -0.42562156303320986, -0.7521016547791196, -1.5415091146062325, -1.0280115968202805, 1.6404130116882492], \"yaxis\": \"y\"}, {\"mode\": \"markers\", \"name\": \"1\", \"type\": \"scatter\", \"x\": [-1.6601090873919537, -3.9833564014873817, -2.7746266599106124, -3.432026837290724, -2.4410429557109627, -1.6120037533787857, -2.8956417056698394, -2.7514708529433096, -2.5669455122512166, -0.701253018508994, -1.8081316535051013, -0.035535059414298055, -2.290653082301737, -1.1547078459361741, -2.494304077865143, -2.344610905212922, -2.834984926826341, -3.1915354931559765, -2.459964738014074, -3.2864207351432757, -1.0128664239149479, -0.7313778498307578, -1.5358711782770809, -2.295791736946358, -2.232571454567465, -3.071579158289737, -2.4493777293994516, -1.5669679182676737, -2.550367409501984, -2.532657716769992, -2.2537382676238806, -3.8938739739824837, -2.597064777279132, -2.4868690499330373, -1.001251043887711, -2.216347231509423, -1.148551490154552, -3.207558004175432, -2.7509555452513936, -2.4470014133399625, -3.0415487150099323, -2.5326972763332867], \"xaxis\": \"x\", \"y\": [0.4334588135778569, -0.46653108866018417, -1.0901969449781088, -1.0803185371498654, -1.348224090418346, -1.7795884790579928, -0.6984232389932143, -1.8757433367374434, 0.5238405813474142, -2.278372264087729, -0.5376318125031802, -1.9192162836789122, -0.7840930376452327, -2.4498787736391727, -0.5888876889377411, -1.2898528946041437, -1.014169030513169, 0.5062643649648783, -0.6581539798772668, -1.847597549626408, -0.7524719739151539, -2.1815086728677437, -2.3462887536614807, -1.029066097203342, -0.8880052661062298, -0.7995678985124449, -1.064363052753622, -1.4418129560430413, 0.3832826598453972, -1.9675758914401278, -1.8718748426791547, -1.0046052380675046, -2.0137443007168385, -1.4384124017642785, -1.9661570421708416, -0.3844470550711227, -1.981508972533582, 0.4267581645568958, -0.9100428450351195, -1.668410897131914, -1.0287422674943674, -1.6922522350336349], \"yaxis\": \"y\"}, {\"mode\": \"markers\", \"name\": \"2\", \"type\": \"scatter\", \"x\": [-2.166165645336686, -1.4813372768565378, -1.8216611294498621, -1.3983545120346261, 0.08632818843078398, -3.3108620806449305, -1.8407159260571548, -2.514569296644766, -3.3915083556474297, -1.7989030952852048, -1.4051280771880479, -1.545592191489789, -2.2145300889549255, -2.526428763519964, -2.679644230092953, -0.7721240994561825, -3.273052776775147, -2.4956563708818793, -2.397164114822394, -1.6465293184426524], \"xaxis\": \"x\", \"y\": [2.5398443976955525, 3.370739758371434, 3.5845469964346446, 3.100627825747218, 1.865361138319609, 3.3952771532499666, 1.6487953521512981, 3.0602938393903996, 3.7570174110194126, 3.1112184494742214, 0.15763620689578076, 3.0501801633025405, 1.8410259785823073, 3.986017914589711, 4.661833332048652, 3.6103332643724566, 3.21942083481818, 3.210189509185247, 2.4227926751445095, 3.5655901325257977], \"yaxis\": \"y\"}, {\"mode\": \"markers\", \"name\": \"3\", \"type\": \"scatter\", \"x\": [-0.24249539994260166, -0.27057005877175655, 2.637721967808482, 0.5648820081763268, -1.9983088243943499, -2.5196042946123263, -0.13642273391841347, 0.2849887464118559, -2.486814598057555, 4.354375365842601, 3.5307173547767885, 2.9649864727428326, -0.4986534752265418, -1.3811594685627553, -2.1887912348542105, -1.7194491775442668, 4.339632996869344, 3.3036187662169434, -0.5541140542465687, -0.010509034999900895, -2.9912760354004293, -2.924830610349585, -3.141672843937584, -2.3273406251204953, -2.6073252448166797, -2.327091231577329, -3.7657148325667804, -2.205400360722947], \"xaxis\": \"x\", \"y\": [0.02600095637241775, -0.6754980756549376, -0.04796087116996233, -0.5137476742878944, -1.2758116728319548, -2.422031285404483, -0.8288603962543094, 0.6060487240327752, -0.8300081059738162, -0.07367728993799895, 0.743112240952637, -0.14460153924810185, -0.5756539984454264, 2.2984827500055496, -1.381301950333078, -1.5431227503261418, -0.6337184964971905, 0.7590948199849141, -0.04191704095548447, -0.7020625782496247, -1.2006963318508141, -0.4373906490141385, 4.135090185981335, -1.584570475295529, -2.119861839767546, -2.0152239140233608, -1.2554102419116844, -0.5629490490506408], \"yaxis\": \"y\"}, {\"marker\": {\"color\": \"rgba(135, 206, 250, 0)\", \"line\": {\"color\": \"red\", \"width\": 5}, \"opacity\": 1, \"size\": 25}, \"mode\": \"markers\", \"showlegend\": false, \"type\": \"scatter\", \"x\": [-2.486814598057555], \"xaxis\": \"x\", \"y\": [-0.8300081059738162], \"yaxis\": \"y\"}, {\"marker\": {\"color\": [1.7521206694054046e-90, 2.6045186534419097e-83, 5.4592535148765816e-77, 8.921578018993182e-71, 2.499240215351357e-65, 7.211417101130291e-61, 2.2881758637588348e-57, 9.472244771612301e-55, 6.6021311209081965e-53, 8.083839275604857e-52, 1.4284500487536758e-51, 3.242180713882518e-52, 9.416432976049496e-54, 3.6717999938533467e-56, 2.0685176397336663e-59, 1.849623039511691e-63, 2.8602415157745955e-68, 7.569812850684035e-74, 2.8790613863473587e-80, 1.201125037102085e-87, 2.0146866585464767e-74, 1.2813730915454465e-67, 6.539964980097116e-62, 9.4553500829944e-57, 1.1148119436238591e-51, 1.903211453676944e-47, 3.8667785375567156e-44, 1.0343007308870112e-41, 4.590249555859084e-40, 4.206015489132111e-39, 6.94964515604529e-39, 1.672279094188277e-39, 5.568809207304676e-41, 2.7058038439240778e-43, 2.100603089501302e-46, 2.960933634352399e-50, 1.0123563745712272e-54, 8.244927736307254e-60, 1.248012517150473e-65, 2.0692302360223424e-72, 9.312874915847027e-61, 2.5767354737058017e-54, 5.684322555424166e-49, 1.2389859041803007e-44, 1.4990168464401727e-40, 1.3026116181505367e-36, 1.7261456066715144e-33, 3.2638786736738725e-31, 9.997692650946458e-30, 6.463022263254421e-29, 9.657528612229813e-29, 2.573018459531497e-29, 1.0401377531834443e-30, 6.80376908236774e-33, 8.703447145123052e-36, 2.7228006258300437e-39, 2.874968410677467e-43, 7.715665776238551e-48, 3.5872316412064935e-53, 2.107740235467786e-59, 1.935993152967711e-49, 2.3016085553794023e-43, 2.344513906527901e-38, 2.2620209778350585e-34, 2.7620508794175986e-31, 3.1368063283348025e-28, 2.4103613833329074e-25, 3.38629065075936e-23, 8.485363224047795e-22, 4.31543881823188e-21, 5.59875443858788e-21, 1.741370374255786e-21, 9.542519389468582e-23, 8.85756906862545e-25, 2.4577096579281215e-27, 2.1058970041153832e-30, 8.254887079865276e-34, 7.903088034364318e-38, 1.2814148087510818e-42, 2.5428168601824497e-48, 2.143511135202984e-40, 1.023843269000495e-34, 4.751520828945648e-30, 2.334697087115169e-26, 1.3464840111079117e-23, 1.2941718221905851e-21, 1.6400987894875633e-19, 1.4907350789492938e-17, 3.2506090077249637e-16, 1.681199008802787e-15, 2.230747403510878e-15, 8.640426168966941e-16, 8.61919873818062e-17, 1.9126461268250603e-18, 1.1880187813883094e-20, 2.380968431364205e-23, 2.108910844000901e-26, 9.563911765662737e-30, 8.652809242803686e-34, 8.566987501059073e-39, 4.6151553181e-33, 4.154644176669684e-28, 5.858839377192175e-24, 1.321248999729311e-20, 4.438142207820402e-18, 2.321172819544881e-16, 2.6960927183807343e-15, 5.311413696549142e-14, 8.968865699597461e-13, 4.836280605775013e-12, 8.595670897684733e-12, 5.124837859828046e-12, 1.0567774392477103e-12, 6.740356297465355e-14, 1.0845775335367297e-15, 4.681855030082554e-18, 1.1299052246257008e-20, 3.053427791239804e-23, 1.2523424843515343e-26, 4.522262645902786e-31, 6.923303754104403e-27, 1.5628632660176815e-22, 3.587065124866837e-19, 1.1895975336456565e-16, 1.0848613038953453e-14, 3.388528067633071e-13, 2.737641735301483e-12, 6.783228688015963e-12, 3.3918147911682205e-11, 2.225942757040279e-10, 5.77006962664493e-10, 5.848549483608917e-10, 2.507642887553261e-10, 4.718688180209332e-11, 3.4005984876710796e-12, 8.936677833877892e-14, 1.093021103455941e-15, 5.344454547690253e-18, 4.874376908100917e-21, 4.589210503011481e-25, 1.2582103498943176e-22, 1.120865629244574e-18, 1.1106802100527905e-15, 1.4948259138568306e-13, 3.652659034096904e-12, 2.8705742667350423e-11, 1.1254827454030211e-10, 1.986994695947924e-10, 2.1231352649103705e-10, 3.3912103468038855e-10, 1.0054884502699203e-09, 2.342694027803834e-09, 2.7949030286439734e-09, 1.4779296716760247e-09, 3.4841294224203056e-10, 3.838182666453931e-11, 1.6588782592809084e-12, 1.968463735836696e-14, 4.0505866372129654e-17, 9.187713414692744e-21, 1.539786189162848e-19, 2.87524477779369e-16, 7.098117130676211e-14, 3.4932924350208744e-12, 5.296050461850353e-11, 4.392338292294339e-10, 2.028787702764984e-09, 3.6950793613187956e-09, 2.748195151945278e-09, 1.3738486911730541e-09, 1.0459698477763474e-09, 9.274479821330187e-10, 1.233867596813179e-09, 2.3071834785758056e-09, 2.3464232558987673e-09, 8.148629327021765e-10, 8.226699016165253e-11, 2.096171107153305e-12, 9.797792002486627e-15, 5.41728576136216e-18, 3.79579066959365e-17, 2.5468139077838188e-14, 2.166746688951169e-12, 3.535115099424148e-11, 1.7256297380273965e-10, 3.6255941427487716e-10, 7.126462988114933e-10, 1.8354252202742279e-09, 3.2907796228637452e-09, 3.5859769923214945e-09, 2.444747309948545e-09, 1.0814402879907694e-09, 7.91306413124234e-10, 1.0682037637188596e-09, 9.987323969728848e-10, 7.058942168281813e-10, 2.3843769268251964e-10, 1.699336563063529e-11, 1.858915351993609e-13, 2.4781030395704317e-16, 1.7818858660409072e-16, 4.3486869614129075e-14, 1.5033446349742272e-12, 1.1959115845729045e-11, 3.9560791065035474e-11, 1.8470037659823243e-10, 1.2699897469910834e-09, 3.7016821192239262e-09, 4.080509757740082e-09, 2.3756972050814982e-09, 1.7511929392497684e-09, 2.043635091207834e-09, 1.9454748435643766e-09, 1.036902475672132e-09, 4.975322705618488e-10, 2.498589284314176e-10, 8.344535817428996e-11, 1.2623838122843365e-11, 3.5307491705517366e-13, 1.055666475553468e-15, 1.876090606337556e-17, 1.4024878310822596e-15, 1.669816298502579e-14, 2.0588639039887625e-13, 7.285863580019315e-12, 8.670073467214271e-11, 4.10798187293807e-10, 1.2404228169417002e-09, 2.892247679579965e-09, 4.243976049415821e-09, 3.383795567640695e-09, 1.8137536218402974e-09, 1.5570597968435908e-09, 2.407648111561233e-09, 1.7516960025781485e-09, 3.834634622265332e-10, 1.0110813753568628e-10, 5.023898966008398e-11, 3.2533882408122254e-12, 1.6949490944561348e-14, 6.925815771548305e-20, 1.4551885110634556e-18, 1.9284084668684185e-16, 3.423823284569861e-14, 1.368426251669842e-12, 1.6381691058105563e-11, 7.420606419448338e-11, 1.7177029296077985e-10, 4.047801703148488e-10, 7.943389492813311e-10, 1.4481676161083372e-09, 1.8605542419560427e-09, 1.3017557416514333e-09, 6.858379377168733e-10, 9.395427942563743e-10, 7.440308872420502e-10, 1.1461932273723552e-10, 1.9460939952326654e-11, 3.5133128599445343e-12, 4.567494265865847e-14, 1.757896209086446e-23, 3.789586325319387e-21, 2.7565877034315176e-18, 3.312170291858777e-16, 1.014510766402727e-14, 1.2951348466377829e-13, 9.886370930937692e-13, 6.0036190163753735e-12, 4.158810717576702e-11, 1.8644771469655814e-10, 4.069295609944057e-10, 6.901098733838451e-10, 1.1276157922789553e-09, 7.506446302378331e-10, 2.3677611775767897e-10, 2.3187023437777818e-10, 9.029407704269736e-11, 5.775767612015017e-12, 2.8151361195641844e-13, 6.2012107476465395e-15, 2.0182678565775682e-27, 5.6612195670876555e-24, 2.1895917517434477e-21, 1.154273347909105e-19, 1.662981405498438e-18, 1.7844378423807465e-17, 2.695312357617489e-16, 5.632730682170962e-15, 1.3783431135339239e-13, 2.5945549723506283e-12, 2.2325379217550463e-11, 7.957540581677179e-11, 2.0322671696599367e-10, 3.63739409919272e-10, 1.5046443737015946e-10, 4.1365631186533147e-10, 4.91379362365077e-10, 4.2181920786264376e-11, 2.505422678143338e-13, 2.193908304098075e-16, 3.6363344827036875e-31, 1.0651631331445027e-27, 1.9489361240116656e-25, 4.024034295719748e-24, 1.640490685374983e-23, 9.217180209281102e-23, 2.441337068953381e-21, 1.3894829231849295e-19, 1.4628802697508892e-17, 1.6347806675753402e-15, 8.515456481844568e-14, 1.525059074131775e-12, 1.0843509821925883e-11, 2.969656522403276e-11, 2.2693692181926653e-11, 1.8132951839820141e-10, 4.858413393858787e-10, 7.008071993122499e-11, 5.041998816003688e-13, 1.7207320056785299e-16, 1.6444443286706397e-35, 5.886002855543785e-32, 1.021804915856677e-29, 1.9563268072970354e-28, 7.671834760722321e-28, 2.1919720996052645e-27, 2.7039771006155324e-26, 9.641210707304693e-25, 3.264985244749955e-22, 2.3303616219351924e-19, 1.0655267405285911e-16, 8.966845578436424e-15, 1.5787232897345703e-13, 5.187904055780276e-13, 5.899297543228735e-13, 1.669394875628261e-11, 5.882147934689434e-11, 9.572947489937858e-12, 6.832250655136932e-14, 2.032874770258044e-17, 1.6803690819866847e-40, 1.1604248329574036e-36, 5.614283440676142e-34, 2.451625147066494e-32, 2.1507671074882904e-31, 9.665507584799212e-31, 9.29094336115033e-30, 6.585396249967649e-28, 1.6523652626698663e-25, 1.595512442548073e-22, 1.9143165747097008e-19, 2.980313272798143e-17, 5.43535498352347e-16, 1.5447886762758634e-15, 7.50235764347583e-15, 3.622305682541456e-13, 9.449283183463885e-13, 1.1126869384044497e-13, 5.556796535000811e-16, 1.1138038992444612e-19, 2.9654211638364645e-45, 4.04014764467803e-42, 7.281808892100744e-39, 1.1407062866219765e-36, 3.96982277351741e-35, 1.3688188701466925e-33, 7.146143823619424e-32, 8.748156193561551e-30, 2.27648051033017e-27, 1.0040321406401384e-24, 3.2524845498334887e-22, 2.3385318329566458e-20, 2.6037910657126344e-19, 6.452004410132774e-19, 6.809342284444653e-17, 1.45679786679546e-15, 1.710663688752978e-15, 9.734166765639252e-17, 2.448941661591469e-19, 2.529026512791115e-23, 1.2616725861656424e-49, 5.0671744111422227e-48, 1.1431703086606615e-44, 1.0207312108792505e-41, 1.8547725276755857e-39, 3.564370643674434e-37, 9.986637939434866e-35, 2.4643132739251192e-32, 5.547900143537832e-30, 9.387186552982254e-28, 7.758563847616899e-26, 1.866654612039261e-24, 1.1176662302399897e-23, 1.5846610881042897e-21, 1.131640975070936e-19, 6.496190347438066e-19, 2.3935558566277963e-19, 4.811317256096045e-21, 4.663063078857615e-24, 1.9752378368092111e-28], \"colorbar\": {\"title\": {\"text\": \"ColorBar\"}}, \"colorscale\": [[0.0, \"#440154\"], [0.1111111111111111, \"#482878\"], [0.2222222222222222, \"#3e4989\"], [0.3333333333333333, \"#31688e\"], [0.4444444444444444, \"#26828e\"], [0.5555555555555556, \"#1f9e89\"], [0.6666666666666666, \"#35b779\"], [0.7777777777777778, \"#6ece58\"], [0.8888888888888888, \"#b5de2b\"], [1.0, \"#fde725\"]], \"line\": {\"width\": 0}, \"opacity\": 1, \"size\": 25, \"symbol\": \"circle\"}, \"mode\": \"markers\", \"type\": \"scatter\", \"x\": [-3.9833564014873817, -3.9833564014873817, -3.9833564014873817, -3.9833564014873817, -3.9833564014873817, -3.9833564014873817, -3.9833564014873817, -3.9833564014873817, -3.9833564014873817, -3.9833564014873817, -3.9833564014873817, -3.9833564014873817, -3.9833564014873817, -3.9833564014873817, -3.9833564014873817, -3.9833564014873817, -3.9833564014873817, -3.9833564014873817, -3.9833564014873817, -3.9833564014873817, -3.5063989233270836, -3.5063989233270836, -3.5063989233270836, -3.5063989233270836, -3.5063989233270836, -3.5063989233270836, -3.5063989233270836, -3.5063989233270836, -3.5063989233270836, -3.5063989233270836, -3.5063989233270836, -3.5063989233270836, -3.5063989233270836, -3.5063989233270836, -3.5063989233270836, -3.5063989233270836, -3.5063989233270836, -3.5063989233270836, -3.5063989233270836, -3.5063989233270836, -3.0294414451667855, -3.0294414451667855, -3.0294414451667855, -3.0294414451667855, -3.0294414451667855, -3.0294414451667855, -3.0294414451667855, -3.0294414451667855, -3.0294414451667855, -3.0294414451667855, -3.0294414451667855, -3.0294414451667855, -3.0294414451667855, -3.0294414451667855, -3.0294414451667855, -3.0294414451667855, -3.0294414451667855, -3.0294414451667855, -3.0294414451667855, -3.0294414451667855, -2.552483967006487, -2.552483967006487, -2.552483967006487, -2.552483967006487, -2.552483967006487, -2.552483967006487, -2.552483967006487, -2.552483967006487, -2.552483967006487, -2.552483967006487, -2.552483967006487, -2.552483967006487, -2.552483967006487, -2.552483967006487, -2.552483967006487, -2.552483967006487, -2.552483967006487, -2.552483967006487, -2.552483967006487, -2.552483967006487, -2.075526488846189, -2.075526488846189, -2.075526488846189, -2.075526488846189, -2.075526488846189, -2.075526488846189, -2.075526488846189, -2.075526488846189, -2.075526488846189, -2.075526488846189, -2.075526488846189, -2.075526488846189, -2.075526488846189, -2.075526488846189, -2.075526488846189, -2.075526488846189, -2.075526488846189, -2.075526488846189, -2.075526488846189, -2.075526488846189, -1.5985690106858907, -1.5985690106858907, -1.5985690106858907, -1.5985690106858907, -1.5985690106858907, -1.5985690106858907, -1.5985690106858907, -1.5985690106858907, -1.5985690106858907, -1.5985690106858907, -1.5985690106858907, -1.5985690106858907, -1.5985690106858907, -1.5985690106858907, -1.5985690106858907, -1.5985690106858907, -1.5985690106858907, -1.5985690106858907, -1.5985690106858907, -1.5985690106858907, -1.1216115325255922, -1.1216115325255922, -1.1216115325255922, -1.1216115325255922, -1.1216115325255922, -1.1216115325255922, -1.1216115325255922, -1.1216115325255922, -1.1216115325255922, -1.1216115325255922, -1.1216115325255922, -1.1216115325255922, -1.1216115325255922, -1.1216115325255922, -1.1216115325255922, -1.1216115325255922, -1.1216115325255922, -1.1216115325255922, -1.1216115325255922, -1.1216115325255922, -0.6446540543652941, -0.6446540543652941, -0.6446540543652941, -0.6446540543652941, -0.6446540543652941, -0.6446540543652941, -0.6446540543652941, -0.6446540543652941, -0.6446540543652941, -0.6446540543652941, -0.6446540543652941, -0.6446540543652941, -0.6446540543652941, -0.6446540543652941, -0.6446540543652941, -0.6446540543652941, -0.6446540543652941, -0.6446540543652941, -0.6446540543652941, -0.6446540543652941, -0.167696576204996, -0.167696576204996, -0.167696576204996, -0.167696576204996, -0.167696576204996, -0.167696576204996, -0.167696576204996, -0.167696576204996, -0.167696576204996, -0.167696576204996, -0.167696576204996, -0.167696576204996, -0.167696576204996, -0.167696576204996, -0.167696576204996, -0.167696576204996, -0.167696576204996, -0.167696576204996, -0.167696576204996, -0.167696576204996, 0.30926090195530254, 0.30926090195530254, 0.30926090195530254, 0.30926090195530254, 0.30926090195530254, 0.30926090195530254, 0.30926090195530254, 0.30926090195530254, 0.30926090195530254, 0.30926090195530254, 0.30926090195530254, 0.30926090195530254, 0.30926090195530254, 0.30926090195530254, 0.30926090195530254, 0.30926090195530254, 0.30926090195530254, 0.30926090195530254, 0.30926090195530254, 0.30926090195530254, 0.7862183801156002, 0.7862183801156002, 0.7862183801156002, 0.7862183801156002, 0.7862183801156002, 0.7862183801156002, 0.7862183801156002, 0.7862183801156002, 0.7862183801156002, 0.7862183801156002, 0.7862183801156002, 0.7862183801156002, 0.7862183801156002, 0.7862183801156002, 0.7862183801156002, 0.7862183801156002, 0.7862183801156002, 0.7862183801156002, 0.7862183801156002, 0.7862183801156002, 1.2631758582758987, 1.2631758582758987, 1.2631758582758987, 1.2631758582758987, 1.2631758582758987, 1.2631758582758987, 1.2631758582758987, 1.2631758582758987, 1.2631758582758987, 1.2631758582758987, 1.2631758582758987, 1.2631758582758987, 1.2631758582758987, 1.2631758582758987, 1.2631758582758987, 1.2631758582758987, 1.2631758582758987, 1.2631758582758987, 1.2631758582758987, 1.2631758582758987, 1.7401333364361973, 1.7401333364361973, 1.7401333364361973, 1.7401333364361973, 1.7401333364361973, 1.7401333364361973, 1.7401333364361973, 1.7401333364361973, 1.7401333364361973, 1.7401333364361973, 1.7401333364361973, 1.7401333364361973, 1.7401333364361973, 1.7401333364361973, 1.7401333364361973, 1.7401333364361973, 1.7401333364361973, 1.7401333364361973, 1.7401333364361973, 1.7401333364361973, 2.217090814596495, 2.217090814596495, 2.217090814596495, 2.217090814596495, 2.217090814596495, 2.217090814596495, 2.217090814596495, 2.217090814596495, 2.217090814596495, 2.217090814596495, 2.217090814596495, 2.217090814596495, 2.217090814596495, 2.217090814596495, 2.217090814596495, 2.217090814596495, 2.217090814596495, 2.217090814596495, 2.217090814596495, 2.217090814596495, 2.6940482927567935, 2.6940482927567935, 2.6940482927567935, 2.6940482927567935, 2.6940482927567935, 2.6940482927567935, 2.6940482927567935, 2.6940482927567935, 2.6940482927567935, 2.6940482927567935, 2.6940482927567935, 2.6940482927567935, 2.6940482927567935, 2.6940482927567935, 2.6940482927567935, 2.6940482927567935, 2.6940482927567935, 2.6940482927567935, 2.6940482927567935, 2.6940482927567935, 3.171005770917091, 3.171005770917091, 3.171005770917091, 3.171005770917091, 3.171005770917091, 3.171005770917091, 3.171005770917091, 3.171005770917091, 3.171005770917091, 3.171005770917091, 3.171005770917091, 3.171005770917091, 3.171005770917091, 3.171005770917091, 3.171005770917091, 3.171005770917091, 3.171005770917091, 3.171005770917091, 3.171005770917091, 3.171005770917091, 3.6479632490773897, 3.6479632490773897, 3.6479632490773897, 3.6479632490773897, 3.6479632490773897, 3.6479632490773897, 3.6479632490773897, 3.6479632490773897, 3.6479632490773897, 3.6479632490773897, 3.6479632490773897, 3.6479632490773897, 3.6479632490773897, 3.6479632490773897, 3.6479632490773897, 3.6479632490773897, 3.6479632490773897, 3.6479632490773897, 3.6479632490773897, 3.6479632490773897, 4.124920727237687, 4.124920727237687, 4.124920727237687, 4.124920727237687, 4.124920727237687, 4.124920727237687, 4.124920727237687, 4.124920727237687, 4.124920727237687, 4.124920727237687, 4.124920727237687, 4.124920727237687, 4.124920727237687, 4.124920727237687, 4.124920727237687, 4.124920727237687, 4.124920727237687, 4.124920727237687, 4.124920727237687, 4.124920727237687, 4.601878205397987, 4.601878205397987, 4.601878205397987, 4.601878205397987, 4.601878205397987, 4.601878205397987, 4.601878205397987, 4.601878205397987, 4.601878205397987, 4.601878205397987, 4.601878205397987, 4.601878205397987, 4.601878205397987, 4.601878205397987, 4.601878205397987, 4.601878205397987, 4.601878205397987, 4.601878205397987, 4.601878205397987, 4.601878205397987, 5.078835683558285, 5.078835683558285, 5.078835683558285, 5.078835683558285, 5.078835683558285, 5.078835683558285, 5.078835683558285, 5.078835683558285, 5.078835683558285, 5.078835683558285, 5.078835683558285, 5.078835683558285, 5.078835683558285, 5.078835683558285, 5.078835683558285, 5.078835683558285, 5.078835683558285, 5.078835683558285, 5.078835683558285, 5.078835683558285], \"xaxis\": \"x2\", \"y\": [-2.4498787736391727, -2.0755781364977084, -1.7012774993562436, -1.3269768622147793, -0.9526762250733147, -0.5783755879318502, -0.20407495079038585, 0.17022568635107893, 0.5445263234925433, 0.9188269606340076, 1.2931275977754724, 1.6674282349169371, 2.041728872058401, 2.416029509199866, 2.7903301463413306, 3.1646307834827945, 3.5389314206242592, 3.913232057765724, 4.287532694907188, 4.661833332048652, -2.4498787736391727, -2.0755781364977084, -1.7012774993562436, -1.3269768622147793, -0.9526762250733147, -0.5783755879318502, -0.20407495079038585, 0.17022568635107893, 0.5445263234925433, 0.9188269606340076, 1.2931275977754724, 1.6674282349169371, 2.041728872058401, 2.416029509199866, 2.7903301463413306, 3.1646307834827945, 3.5389314206242592, 3.913232057765724, 4.287532694907188, 4.661833332048652, -2.4498787736391727, -2.0755781364977084, -1.7012774993562436, -1.3269768622147793, -0.9526762250733147, -0.5783755879318502, -0.20407495079038585, 0.17022568635107893, 0.5445263234925433, 0.9188269606340076, 1.2931275977754724, 1.6674282349169371, 2.041728872058401, 2.416029509199866, 2.7903301463413306, 3.1646307834827945, 3.5389314206242592, 3.913232057765724, 4.287532694907188, 4.661833332048652, -2.4498787736391727, -2.0755781364977084, -1.7012774993562436, -1.3269768622147793, -0.9526762250733147, -0.5783755879318502, -0.20407495079038585, 0.17022568635107893, 0.5445263234925433, 0.9188269606340076, 1.2931275977754724, 1.6674282349169371, 2.041728872058401, 2.416029509199866, 2.7903301463413306, 3.1646307834827945, 3.5389314206242592, 3.913232057765724, 4.287532694907188, 4.661833332048652, -2.4498787736391727, -2.0755781364977084, -1.7012774993562436, -1.3269768622147793, -0.9526762250733147, -0.5783755879318502, -0.20407495079038585, 0.17022568635107893, 0.5445263234925433, 0.9188269606340076, 1.2931275977754724, 1.6674282349169371, 2.041728872058401, 2.416029509199866, 2.7903301463413306, 3.1646307834827945, 3.5389314206242592, 3.913232057765724, 4.287532694907188, 4.661833332048652, -2.4498787736391727, -2.0755781364977084, -1.7012774993562436, -1.3269768622147793, -0.9526762250733147, -0.5783755879318502, -0.20407495079038585, 0.17022568635107893, 0.5445263234925433, 0.9188269606340076, 1.2931275977754724, 1.6674282349169371, 2.041728872058401, 2.416029509199866, 2.7903301463413306, 3.1646307834827945, 3.5389314206242592, 3.913232057765724, 4.287532694907188, 4.661833332048652, -2.4498787736391727, -2.0755781364977084, -1.7012774993562436, -1.3269768622147793, -0.9526762250733147, -0.5783755879318502, -0.20407495079038585, 0.17022568635107893, 0.5445263234925433, 0.9188269606340076, 1.2931275977754724, 1.6674282349169371, 2.041728872058401, 2.416029509199866, 2.7903301463413306, 3.1646307834827945, 3.5389314206242592, 3.913232057765724, 4.287532694907188, 4.661833332048652, -2.4498787736391727, -2.0755781364977084, -1.7012774993562436, -1.3269768622147793, -0.9526762250733147, -0.5783755879318502, -0.20407495079038585, 0.17022568635107893, 0.5445263234925433, 0.9188269606340076, 1.2931275977754724, 1.6674282349169371, 2.041728872058401, 2.416029509199866, 2.7903301463413306, 3.1646307834827945, 3.5389314206242592, 3.913232057765724, 4.287532694907188, 4.661833332048652, -2.4498787736391727, -2.0755781364977084, -1.7012774993562436, -1.3269768622147793, -0.9526762250733147, -0.5783755879318502, -0.20407495079038585, 0.17022568635107893, 0.5445263234925433, 0.9188269606340076, 1.2931275977754724, 1.6674282349169371, 2.041728872058401, 2.416029509199866, 2.7903301463413306, 3.1646307834827945, 3.5389314206242592, 3.913232057765724, 4.287532694907188, 4.661833332048652, -2.4498787736391727, -2.0755781364977084, -1.7012774993562436, -1.3269768622147793, -0.9526762250733147, -0.5783755879318502, -0.20407495079038585, 0.17022568635107893, 0.5445263234925433, 0.9188269606340076, 1.2931275977754724, 1.6674282349169371, 2.041728872058401, 2.416029509199866, 2.7903301463413306, 3.1646307834827945, 3.5389314206242592, 3.913232057765724, 4.287532694907188, 4.661833332048652, -2.4498787736391727, -2.0755781364977084, -1.7012774993562436, -1.3269768622147793, -0.9526762250733147, -0.5783755879318502, -0.20407495079038585, 0.17022568635107893, 0.5445263234925433, 0.9188269606340076, 1.2931275977754724, 1.6674282349169371, 2.041728872058401, 2.416029509199866, 2.7903301463413306, 3.1646307834827945, 3.5389314206242592, 3.913232057765724, 4.287532694907188, 4.661833332048652, -2.4498787736391727, -2.0755781364977084, -1.7012774993562436, -1.3269768622147793, -0.9526762250733147, -0.5783755879318502, -0.20407495079038585, 0.17022568635107893, 0.5445263234925433, 0.9188269606340076, 1.2931275977754724, 1.6674282349169371, 2.041728872058401, 2.416029509199866, 2.7903301463413306, 3.1646307834827945, 3.5389314206242592, 3.913232057765724, 4.287532694907188, 4.661833332048652, -2.4498787736391727, -2.0755781364977084, -1.7012774993562436, -1.3269768622147793, -0.9526762250733147, -0.5783755879318502, -0.20407495079038585, 0.17022568635107893, 0.5445263234925433, 0.9188269606340076, 1.2931275977754724, 1.6674282349169371, 2.041728872058401, 2.416029509199866, 2.7903301463413306, 3.1646307834827945, 3.5389314206242592, 3.913232057765724, 4.287532694907188, 4.661833332048652, -2.4498787736391727, -2.0755781364977084, -1.7012774993562436, -1.3269768622147793, -0.9526762250733147, -0.5783755879318502, -0.20407495079038585, 0.17022568635107893, 0.5445263234925433, 0.9188269606340076, 1.2931275977754724, 1.6674282349169371, 2.041728872058401, 2.416029509199866, 2.7903301463413306, 3.1646307834827945, 3.5389314206242592, 3.913232057765724, 4.287532694907188, 4.661833332048652, -2.4498787736391727, -2.0755781364977084, -1.7012774993562436, -1.3269768622147793, -0.9526762250733147, -0.5783755879318502, -0.20407495079038585, 0.17022568635107893, 0.5445263234925433, 0.9188269606340076, 1.2931275977754724, 1.6674282349169371, 2.041728872058401, 2.416029509199866, 2.7903301463413306, 3.1646307834827945, 3.5389314206242592, 3.913232057765724, 4.287532694907188, 4.661833332048652, -2.4498787736391727, -2.0755781364977084, -1.7012774993562436, -1.3269768622147793, -0.9526762250733147, -0.5783755879318502, -0.20407495079038585, 0.17022568635107893, 0.5445263234925433, 0.9188269606340076, 1.2931275977754724, 1.6674282349169371, 2.041728872058401, 2.416029509199866, 2.7903301463413306, 3.1646307834827945, 3.5389314206242592, 3.913232057765724, 4.287532694907188, 4.661833332048652, -2.4498787736391727, -2.0755781364977084, -1.7012774993562436, -1.3269768622147793, -0.9526762250733147, -0.5783755879318502, -0.20407495079038585, 0.17022568635107893, 0.5445263234925433, 0.9188269606340076, 1.2931275977754724, 1.6674282349169371, 2.041728872058401, 2.416029509199866, 2.7903301463413306, 3.1646307834827945, 3.5389314206242592, 3.913232057765724, 4.287532694907188, 4.661833332048652, -2.4498787736391727, -2.0755781364977084, -1.7012774993562436, -1.3269768622147793, -0.9526762250733147, -0.5783755879318502, -0.20407495079038585, 0.17022568635107893, 0.5445263234925433, 0.9188269606340076, 1.2931275977754724, 1.6674282349169371, 2.041728872058401, 2.416029509199866, 2.7903301463413306, 3.1646307834827945, 3.5389314206242592, 3.913232057765724, 4.287532694907188, 4.661833332048652, -2.4498787736391727, -2.0755781364977084, -1.7012774993562436, -1.3269768622147793, -0.9526762250733147, -0.5783755879318502, -0.20407495079038585, 0.17022568635107893, 0.5445263234925433, 0.9188269606340076, 1.2931275977754724, 1.6674282349169371, 2.041728872058401, 2.416029509199866, 2.7903301463413306, 3.1646307834827945, 3.5389314206242592, 3.913232057765724, 4.287532694907188, 4.661833332048652, -2.4498787736391727, -2.0755781364977084, -1.7012774993562436, -1.3269768622147793, -0.9526762250733147, -0.5783755879318502, -0.20407495079038585, 0.17022568635107893, 0.5445263234925433, 0.9188269606340076, 1.2931275977754724, 1.6674282349169371, 2.041728872058401, 2.416029509199866, 2.7903301463413306, 3.1646307834827945, 3.5389314206242592, 3.913232057765724, 4.287532694907188, 4.661833332048652], \"yaxis\": \"y2\"}],\n",
       "                        {\"annotations\": [{\"font\": {\"size\": 16}, \"showarrow\": false, \"text\": \"coords\", \"x\": 0.225, \"xanchor\": \"center\", \"xref\": \"paper\", \"y\": 1.0, \"yanchor\": \"bottom\", \"yref\": \"paper\"}, {\"font\": {\"size\": 16}, \"showarrow\": false, \"text\": \"coords\", \"x\": 0.775, \"xanchor\": \"center\", \"xref\": \"paper\", \"y\": 1.0, \"yanchor\": \"bottom\", \"yref\": \"paper\"}], \"template\": {\"data\": {\"bar\": [{\"error_x\": {\"color\": \"#2a3f5f\"}, \"error_y\": {\"color\": \"#2a3f5f\"}, \"marker\": {\"line\": {\"color\": \"#E5ECF6\", \"width\": 0.5}}, \"type\": \"bar\"}], \"barpolar\": [{\"marker\": {\"line\": {\"color\": \"#E5ECF6\", \"width\": 0.5}}, \"type\": \"barpolar\"}], \"carpet\": [{\"aaxis\": {\"endlinecolor\": \"#2a3f5f\", \"gridcolor\": \"white\", \"linecolor\": \"white\", \"minorgridcolor\": \"white\", \"startlinecolor\": \"#2a3f5f\"}, \"baxis\": {\"endlinecolor\": \"#2a3f5f\", \"gridcolor\": \"white\", \"linecolor\": \"white\", \"minorgridcolor\": \"white\", \"startlinecolor\": \"#2a3f5f\"}, \"type\": \"carpet\"}], \"choropleth\": [{\"colorbar\": {\"outlinewidth\": 0, \"ticks\": \"\"}, \"type\": \"choropleth\"}], \"contour\": [{\"colorbar\": {\"outlinewidth\": 0, \"ticks\": \"\"}, \"colorscale\": [[0.0, \"#0d0887\"], [0.1111111111111111, \"#46039f\"], [0.2222222222222222, \"#7201a8\"], [0.3333333333333333, \"#9c179e\"], [0.4444444444444444, \"#bd3786\"], [0.5555555555555556, \"#d8576b\"], [0.6666666666666666, \"#ed7953\"], [0.7777777777777778, \"#fb9f3a\"], [0.8888888888888888, \"#fdca26\"], [1.0, \"#f0f921\"]], \"type\": \"contour\"}], \"contourcarpet\": [{\"colorbar\": {\"outlinewidth\": 0, \"ticks\": \"\"}, \"type\": \"contourcarpet\"}], \"heatmap\": [{\"colorbar\": {\"outlinewidth\": 0, \"ticks\": \"\"}, \"colorscale\": [[0.0, \"#0d0887\"], [0.1111111111111111, \"#46039f\"], [0.2222222222222222, \"#7201a8\"], [0.3333333333333333, \"#9c179e\"], [0.4444444444444444, \"#bd3786\"], [0.5555555555555556, \"#d8576b\"], [0.6666666666666666, \"#ed7953\"], [0.7777777777777778, \"#fb9f3a\"], [0.8888888888888888, \"#fdca26\"], [1.0, \"#f0f921\"]], \"type\": \"heatmap\"}], \"heatmapgl\": [{\"colorbar\": {\"outlinewidth\": 0, \"ticks\": \"\"}, \"colorscale\": [[0.0, \"#0d0887\"], [0.1111111111111111, \"#46039f\"], [0.2222222222222222, \"#7201a8\"], [0.3333333333333333, \"#9c179e\"], [0.4444444444444444, \"#bd3786\"], [0.5555555555555556, \"#d8576b\"], [0.6666666666666666, \"#ed7953\"], [0.7777777777777778, \"#fb9f3a\"], [0.8888888888888888, \"#fdca26\"], [1.0, \"#f0f921\"]], \"type\": \"heatmapgl\"}], \"histogram\": [{\"marker\": {\"colorbar\": {\"outlinewidth\": 0, \"ticks\": \"\"}}, \"type\": \"histogram\"}], \"histogram2d\": [{\"colorbar\": {\"outlinewidth\": 0, \"ticks\": \"\"}, \"colorscale\": [[0.0, \"#0d0887\"], [0.1111111111111111, \"#46039f\"], [0.2222222222222222, \"#7201a8\"], [0.3333333333333333, \"#9c179e\"], [0.4444444444444444, \"#bd3786\"], [0.5555555555555556, \"#d8576b\"], [0.6666666666666666, \"#ed7953\"], [0.7777777777777778, \"#fb9f3a\"], [0.8888888888888888, \"#fdca26\"], [1.0, \"#f0f921\"]], \"type\": \"histogram2d\"}], \"histogram2dcontour\": [{\"colorbar\": {\"outlinewidth\": 0, \"ticks\": \"\"}, \"colorscale\": [[0.0, \"#0d0887\"], [0.1111111111111111, \"#46039f\"], [0.2222222222222222, \"#7201a8\"], [0.3333333333333333, \"#9c179e\"], [0.4444444444444444, \"#bd3786\"], [0.5555555555555556, \"#d8576b\"], [0.6666666666666666, \"#ed7953\"], [0.7777777777777778, \"#fb9f3a\"], [0.8888888888888888, \"#fdca26\"], [1.0, \"#f0f921\"]], \"type\": \"histogram2dcontour\"}], \"mesh3d\": [{\"colorbar\": {\"outlinewidth\": 0, \"ticks\": \"\"}, \"type\": \"mesh3d\"}], \"parcoords\": [{\"line\": {\"colorbar\": {\"outlinewidth\": 0, \"ticks\": \"\"}}, \"type\": \"parcoords\"}], \"pie\": [{\"automargin\": true, \"type\": \"pie\"}], \"scatter\": [{\"marker\": {\"colorbar\": {\"outlinewidth\": 0, \"ticks\": \"\"}}, \"type\": \"scatter\"}], \"scatter3d\": [{\"line\": {\"colorbar\": {\"outlinewidth\": 0, \"ticks\": \"\"}}, \"marker\": {\"colorbar\": {\"outlinewidth\": 0, \"ticks\": \"\"}}, \"type\": \"scatter3d\"}], \"scattercarpet\": [{\"marker\": {\"colorbar\": {\"outlinewidth\": 0, \"ticks\": \"\"}}, \"type\": \"scattercarpet\"}], \"scattergeo\": [{\"marker\": {\"colorbar\": {\"outlinewidth\": 0, \"ticks\": \"\"}}, \"type\": \"scattergeo\"}], \"scattergl\": [{\"marker\": {\"colorbar\": {\"outlinewidth\": 0, \"ticks\": \"\"}}, \"type\": \"scattergl\"}], \"scattermapbox\": [{\"marker\": {\"colorbar\": {\"outlinewidth\": 0, \"ticks\": \"\"}}, \"type\": \"scattermapbox\"}], \"scatterpolar\": [{\"marker\": {\"colorbar\": {\"outlinewidth\": 0, \"ticks\": \"\"}}, \"type\": \"scatterpolar\"}], \"scatterpolargl\": [{\"marker\": {\"colorbar\": {\"outlinewidth\": 0, \"ticks\": \"\"}}, \"type\": \"scatterpolargl\"}], \"scatterternary\": [{\"marker\": {\"colorbar\": {\"outlinewidth\": 0, \"ticks\": \"\"}}, \"type\": \"scatterternary\"}], \"surface\": [{\"colorbar\": {\"outlinewidth\": 0, \"ticks\": \"\"}, \"colorscale\": [[0.0, \"#0d0887\"], [0.1111111111111111, \"#46039f\"], [0.2222222222222222, \"#7201a8\"], [0.3333333333333333, \"#9c179e\"], [0.4444444444444444, \"#bd3786\"], [0.5555555555555556, \"#d8576b\"], [0.6666666666666666, \"#ed7953\"], [0.7777777777777778, \"#fb9f3a\"], [0.8888888888888888, \"#fdca26\"], [1.0, \"#f0f921\"]], \"type\": \"surface\"}], \"table\": [{\"cells\": {\"fill\": {\"color\": \"#EBF0F8\"}, \"line\": {\"color\": \"white\"}}, \"header\": {\"fill\": {\"color\": \"#C8D4E3\"}, \"line\": {\"color\": \"white\"}}, \"type\": \"table\"}]}, \"layout\": {\"annotationdefaults\": {\"arrowcolor\": \"#2a3f5f\", \"arrowhead\": 0, \"arrowwidth\": 1}, \"coloraxis\": {\"colorbar\": {\"outlinewidth\": 0, \"ticks\": \"\"}}, \"colorscale\": {\"diverging\": [[0, \"#8e0152\"], [0.1, \"#c51b7d\"], [0.2, \"#de77ae\"], [0.3, \"#f1b6da\"], [0.4, \"#fde0ef\"], [0.5, \"#f7f7f7\"], [0.6, \"#e6f5d0\"], [0.7, \"#b8e186\"], [0.8, \"#7fbc41\"], [0.9, \"#4d9221\"], [1, \"#276419\"]], \"sequential\": [[0.0, \"#0d0887\"], [0.1111111111111111, \"#46039f\"], [0.2222222222222222, \"#7201a8\"], [0.3333333333333333, \"#9c179e\"], [0.4444444444444444, \"#bd3786\"], [0.5555555555555556, \"#d8576b\"], [0.6666666666666666, \"#ed7953\"], [0.7777777777777778, \"#fb9f3a\"], [0.8888888888888888, \"#fdca26\"], [1.0, \"#f0f921\"]], \"sequentialminus\": [[0.0, \"#0d0887\"], [0.1111111111111111, \"#46039f\"], [0.2222222222222222, \"#7201a8\"], [0.3333333333333333, \"#9c179e\"], [0.4444444444444444, \"#bd3786\"], [0.5555555555555556, \"#d8576b\"], [0.6666666666666666, \"#ed7953\"], [0.7777777777777778, \"#fb9f3a\"], [0.8888888888888888, \"#fdca26\"], [1.0, \"#f0f921\"]]}, \"colorway\": [\"#636efa\", \"#EF553B\", \"#00cc96\", \"#ab63fa\", \"#FFA15A\", \"#19d3f3\", \"#FF6692\", \"#B6E880\", \"#FF97FF\", \"#FECB52\"], \"font\": {\"color\": \"#2a3f5f\"}, \"geo\": {\"bgcolor\": \"white\", \"lakecolor\": \"white\", \"landcolor\": \"#E5ECF6\", \"showlakes\": true, \"showland\": true, \"subunitcolor\": \"white\"}, \"hoverlabel\": {\"align\": \"left\"}, \"hovermode\": \"closest\", \"mapbox\": {\"style\": \"light\"}, \"paper_bgcolor\": \"white\", \"plot_bgcolor\": \"#E5ECF6\", \"polar\": {\"angularaxis\": {\"gridcolor\": \"white\", \"linecolor\": \"white\", \"ticks\": \"\"}, \"bgcolor\": \"#E5ECF6\", \"radialaxis\": {\"gridcolor\": \"white\", \"linecolor\": \"white\", \"ticks\": \"\"}}, \"scene\": {\"xaxis\": {\"backgroundcolor\": \"#E5ECF6\", \"gridcolor\": \"white\", \"gridwidth\": 2, \"linecolor\": \"white\", \"showbackground\": true, \"ticks\": \"\", \"zerolinecolor\": \"white\"}, \"yaxis\": {\"backgroundcolor\": \"#E5ECF6\", \"gridcolor\": \"white\", \"gridwidth\": 2, \"linecolor\": \"white\", \"showbackground\": true, \"ticks\": \"\", \"zerolinecolor\": \"white\"}, \"zaxis\": {\"backgroundcolor\": \"#E5ECF6\", \"gridcolor\": \"white\", \"gridwidth\": 2, \"linecolor\": \"white\", \"showbackground\": true, \"ticks\": \"\", \"zerolinecolor\": \"white\"}}, \"shapedefaults\": {\"line\": {\"color\": \"#2a3f5f\"}}, \"ternary\": {\"aaxis\": {\"gridcolor\": \"white\", \"linecolor\": \"white\", \"ticks\": \"\"}, \"baxis\": {\"gridcolor\": \"white\", \"linecolor\": \"white\", \"ticks\": \"\"}, \"bgcolor\": \"#E5ECF6\", \"caxis\": {\"gridcolor\": \"white\", \"linecolor\": \"white\", \"ticks\": \"\"}}, \"title\": {\"x\": 0.05}, \"xaxis\": {\"automargin\": true, \"gridcolor\": \"white\", \"linecolor\": \"white\", \"ticks\": \"\", \"title\": {\"standoff\": 15}, \"zerolinecolor\": \"white\", \"zerolinewidth\": 2}, \"yaxis\": {\"automargin\": true, \"gridcolor\": \"white\", \"linecolor\": \"white\", \"ticks\": \"\", \"title\": {\"standoff\": 15}, \"zerolinecolor\": \"white\", \"zerolinewidth\": 2}}}, \"xaxis\": {\"anchor\": \"y\", \"domain\": [0.0, 0.45]}, \"xaxis2\": {\"anchor\": \"y2\", \"domain\": [0.55, 1.0]}, \"yaxis\": {\"anchor\": \"x\", \"domain\": [0.0, 1.0]}, \"yaxis2\": {\"anchor\": \"x2\", \"domain\": [0.0, 1.0]}},\n",
       "                        {\"responsive\": true}\n",
       "                    ).then(function(){\n",
       "                            \n",
       "var gd = document.getElementById('ca6ca87d-4cd2-4fac-8438-e1169cb460b9');\n",
       "var x = new MutationObserver(function (mutations, observer) {{\n",
       "        var display = window.getComputedStyle(gd).display;\n",
       "        if (!display || display === 'none') {{\n",
       "            console.log([gd, 'removed!']);\n",
       "            Plotly.purge(gd);\n",
       "            observer.disconnect();\n",
       "        }}\n",
       "}});\n",
       "\n",
       "// Listen for the removal of the full notebook cells\n",
       "var notebookContainer = gd.closest('#notebook-container');\n",
       "if (notebookContainer) {{\n",
       "    x.observe(notebookContainer, {childList: true});\n",
       "}}\n",
       "\n",
       "// Listen for the clearing of the current output cell\n",
       "var outputEl = gd.closest('.output');\n",
       "if (outputEl) {{\n",
       "    x.observe(outputEl, {childList: true});\n",
       "}}\n",
       "\n",
       "                        })\n",
       "                };\n",
       "                });\n",
       "            </script>\n",
       "        </div>"
      ]
     },
     "metadata": {},
     "output_type": "display_data"
    }
   ],
   "source": [
    "from plotly import tools\n",
    "\n",
    "title= 'coords'\n",
    "fig_subplots = tools.make_subplots(rows=1, cols=2,subplot_titles=tuple([title]*2))\n",
    "\n",
    "for trace in figwl:\n",
    "    fig_subplots.append_trace(trace, 1, 1)\n",
    "    \n",
    "\n",
    "trace= go.Scatter(\n",
    "    x= background[:,0],\n",
    "    y= background[:,1],\n",
    "    #z= grid_likes,\n",
    "    mode= 'markers',\n",
    "    marker= {\n",
    "        'color':grid_likes,\n",
    "        'colorbar': go.scatter.marker.ColorBar(\n",
    "            title= 'ColorBar'\n",
    "        ),\n",
    "        'colorscale':'Viridis',\n",
    "        'line': {'width': 0},\n",
    "        'size': 25,\n",
    "        'symbol': 'circle',\n",
    "      \"opacity\": 1\n",
    "      }\n",
    ")\n",
    "\n",
    "fig_subplots.append_trace(trace, 1,2)\n",
    "\n",
    "iplot(fig_subplots)"
   ]
  },
  {
   "cell_type": "markdown",
   "metadata": {},
   "source": [
    "### IV. Grid walk.\n",
    "\n",
    "Grids can quickly become very heavy (grid edge length times dimensions). We propose to narrow down the search progressively.\n",
    "\n",
    "Observations with high likelihood are used to reproduce background coordinates within their distribution in successive layers of analysis.\n",
    "\n"
   ]
  },
  {
   "cell_type": "code",
   "execution_count": 59,
   "metadata": {},
   "outputs": [],
   "source": [
    "from impute_tools.impute_tools import (\n",
    "    nBg_MS, nBg_grid,\n",
    "    gridWalk\n",
    ")\n",
    "\n",
    "dist_ref_select= 0\n",
    "dist_ref= dist_store[labelf_select[dist_ref_select],:]\n",
    "dist_ref= dist_ref[:,std_gp_use]\n",
    "\n",
    "P= 20\n",
    "dimN= 2\n",
    "N_samps= P**dimN\n",
    "dist_comps= 10\n",
    "Bandwidth_split = 30\n",
    "kernel= 'gaussian'\n",
    "\n",
    "\n",
    "\n",
    "BG_func= nBg_MS\n",
    "BG_args= {\n",
    "    'lb':0.05,\n",
    "    'up':0.8,\n",
    "    'kernel': kernel,\n",
    "    'N_samps': N_samps\n",
    "}\n",
    "\n",
    "\n",
    "granted, grid_likes= gridWalk(featl,dist_ref,BG_func, BG_args= BG_args, std_gp_use= std_gp_use,\n",
    "            P= P,\n",
    "            dimN= dimN,\n",
    "            N_samps= N_samps,\n",
    "            dist_comps= dist_comps,\n",
    "            Bandwidth_split = Bandwidth_split,\n",
    "            metric= metric,\n",
    "            kernel= kernel)\n",
    "\n"
   ]
  },
  {
   "cell_type": "code",
   "execution_count": 60,
   "metadata": {},
   "outputs": [
    {
     "name": "stderr",
     "output_type": "stream",
     "text": [
      "c:\\users\\floyd\\appdata\\local\\programs\\python\\python37-32\\lib\\site-packages\\plotly\\tools.py:465: DeprecationWarning:\n",
      "\n",
      "plotly.tools.make_subplots is deprecated, please use plotly.subplots.make_subplots instead\n",
      "\n"
     ]
    },
    {
     "data": {
      "application/vnd.plotly.v1+json": {
       "config": {
        "linkText": "Export to plot.ly",
        "plotlyServerURL": "https://plot.ly",
        "showLink": false
       },
       "data": [
        {
         "mode": "markers",
         "name": "0",
         "type": "scatter",
         "x": [
          3.961661445574057,
          3.7879759023401225,
          1.9345941376897937,
          3.9405005929494465,
          2.8448643798405073,
          4.417186139274191,
          5.035031400273705,
          3.9393575330945665,
          3.3190889903170526,
          3.8572664370702596,
          4.378267501859045,
          4.357347647869521,
          2.806004489928367,
          3.433646095847995,
          4.430825060765115,
          3.9881118810062905,
          3.139726348286637,
          4.551634060494883,
          3.7040403749897144,
          4.418028528505911,
          3.6298417735473336,
          4.045028328392746,
          4.058011845480177,
          2.9394420513461297,
          3.671320305729038,
          3.6468111286917435,
          4.374018585313994,
          4.1403449462364925,
          3.2794583363879006,
          4.1801301814877485,
          1.8851912757931828,
          4.388949867045919,
          3.5660442338016796,
          3.1139028186049083,
          3.3200764471529807,
          3.849202221260172,
          5.078835683558285,
          3.4689485366887345,
          4.818045356525845,
          3.4876674170705573
         ],
         "xaxis": "x",
         "y": [
          0.10456899377793871,
          0.32809743756648685,
          0.18636779693232625,
          0.5193838873251571,
          -0.8791323587651441,
          1.2384001965612481,
          0.16721973886605698,
          0.5831571645408423,
          -0.5167176466878569,
          -0.5153239124048338,
          0.6816179925837416,
          0.03130273383246078,
          1.1475819425107256,
          -0.25998366454925387,
          -0.8140707436059617,
          0.3832295893516101,
          -0.7286356514359366,
          0.9069730143693735,
          -0.7449563208593124,
          0.27875594157370137,
          0.9751890765523382,
          -0.7777080227769141,
          -0.16506638383696612,
          1.5581309823098701,
          0.30053285298825333,
          -0.7336552319818423,
          -0.05099335695846599,
          0.9005928772612396,
          -0.8961872219085207,
          -0.3890668747752919,
          0.5018150316697366,
          0.011496853836238214,
          0.21687237010177768,
          -0.7678349554992344,
          0.3285141119378111,
          -0.42562156303320986,
          -0.7521016547791196,
          -1.5415091146062325,
          -1.0280115968202805,
          1.6404130116882492
         ],
         "yaxis": "y"
        },
        {
         "mode": "markers",
         "name": "1",
         "type": "scatter",
         "x": [
          -1.6601090873919537,
          -3.9833564014873817,
          -2.7746266599106124,
          -3.432026837290724,
          -2.4410429557109627,
          -1.6120037533787857,
          -2.8956417056698394,
          -2.7514708529433096,
          -2.5669455122512166,
          -0.701253018508994,
          -1.8081316535051013,
          -0.035535059414298055,
          -2.290653082301737,
          -1.1547078459361741,
          -2.494304077865143,
          -2.344610905212922,
          -2.834984926826341,
          -3.1915354931559765,
          -2.459964738014074,
          -3.2864207351432757,
          -1.0128664239149479,
          -0.7313778498307578,
          -1.5358711782770809,
          -2.295791736946358,
          -2.232571454567465,
          -3.071579158289737,
          -2.4493777293994516,
          -1.5669679182676737,
          -2.550367409501984,
          -2.532657716769992,
          -2.2537382676238806,
          -3.8938739739824837,
          -2.597064777279132,
          -2.4868690499330373,
          -1.001251043887711,
          -2.216347231509423,
          -1.148551490154552,
          -3.207558004175432,
          -2.7509555452513936,
          -2.4470014133399625,
          -3.0415487150099323,
          -2.5326972763332867
         ],
         "xaxis": "x",
         "y": [
          0.4334588135778569,
          -0.46653108866018417,
          -1.0901969449781088,
          -1.0803185371498654,
          -1.348224090418346,
          -1.7795884790579928,
          -0.6984232389932143,
          -1.8757433367374434,
          0.5238405813474142,
          -2.278372264087729,
          -0.5376318125031802,
          -1.9192162836789122,
          -0.7840930376452327,
          -2.4498787736391727,
          -0.5888876889377411,
          -1.2898528946041437,
          -1.014169030513169,
          0.5062643649648783,
          -0.6581539798772668,
          -1.847597549626408,
          -0.7524719739151539,
          -2.1815086728677437,
          -2.3462887536614807,
          -1.029066097203342,
          -0.8880052661062298,
          -0.7995678985124449,
          -1.064363052753622,
          -1.4418129560430413,
          0.3832826598453972,
          -1.9675758914401278,
          -1.8718748426791547,
          -1.0046052380675046,
          -2.0137443007168385,
          -1.4384124017642785,
          -1.9661570421708416,
          -0.3844470550711227,
          -1.981508972533582,
          0.4267581645568958,
          -0.9100428450351195,
          -1.668410897131914,
          -1.0287422674943674,
          -1.6922522350336349
         ],
         "yaxis": "y"
        },
        {
         "mode": "markers",
         "name": "2",
         "type": "scatter",
         "x": [
          -2.166165645336686,
          -1.4813372768565378,
          -1.8216611294498621,
          -1.3983545120346261,
          0.08632818843078398,
          -3.3108620806449305,
          -1.8407159260571548,
          -2.514569296644766,
          -3.3915083556474297,
          -1.7989030952852048,
          -1.4051280771880479,
          -1.545592191489789,
          -2.2145300889549255,
          -2.526428763519964,
          -2.679644230092953,
          -0.7721240994561825,
          -3.273052776775147,
          -2.4956563708818793,
          -2.397164114822394,
          -1.6465293184426524
         ],
         "xaxis": "x",
         "y": [
          2.5398443976955525,
          3.370739758371434,
          3.5845469964346446,
          3.100627825747218,
          1.865361138319609,
          3.3952771532499666,
          1.6487953521512981,
          3.0602938393903996,
          3.7570174110194126,
          3.1112184494742214,
          0.15763620689578076,
          3.0501801633025405,
          1.8410259785823073,
          3.986017914589711,
          4.661833332048652,
          3.6103332643724566,
          3.21942083481818,
          3.210189509185247,
          2.4227926751445095,
          3.5655901325257977
         ],
         "yaxis": "y"
        },
        {
         "mode": "markers",
         "name": "3",
         "type": "scatter",
         "x": [
          -0.24249539994260166,
          -0.27057005877175655,
          2.637721967808482,
          0.5648820081763268,
          -1.9983088243943499,
          -2.5196042946123263,
          -0.13642273391841347,
          0.2849887464118559,
          -2.486814598057555,
          4.354375365842601,
          3.5307173547767885,
          2.9649864727428326,
          -0.4986534752265418,
          -1.3811594685627553,
          -2.1887912348542105,
          -1.7194491775442668,
          4.339632996869344,
          3.3036187662169434,
          -0.5541140542465687,
          -0.010509034999900895,
          -2.9912760354004293,
          -2.924830610349585,
          -3.141672843937584,
          -2.3273406251204953,
          -2.6073252448166797,
          -2.327091231577329,
          -3.7657148325667804,
          -2.205400360722947
         ],
         "xaxis": "x",
         "y": [
          0.02600095637241775,
          -0.6754980756549376,
          -0.04796087116996233,
          -0.5137476742878944,
          -1.2758116728319548,
          -2.422031285404483,
          -0.8288603962543094,
          0.6060487240327752,
          -0.8300081059738162,
          -0.07367728993799895,
          0.743112240952637,
          -0.14460153924810185,
          -0.5756539984454264,
          2.2984827500055496,
          -1.381301950333078,
          -1.5431227503261418,
          -0.6337184964971905,
          0.7590948199849141,
          -0.04191704095548447,
          -0.7020625782496247,
          -1.2006963318508141,
          -0.4373906490141385,
          4.135090185981335,
          -1.584570475295529,
          -2.119861839767546,
          -2.0152239140233608,
          -1.2554102419116844,
          -0.5629490490506408
         ],
         "yaxis": "y"
        },
        {
         "marker": {
          "color": "rgba(135, 206, 250, 0)",
          "line": {
           "color": "red",
           "width": 5
          },
          "opacity": 1,
          "size": 25
         },
         "mode": "markers",
         "showlegend": false,
         "type": "scatter",
         "x": [
          -2.486814598057555
         ],
         "xaxis": "x",
         "y": [
          -0.8300081059738162
         ],
         "yaxis": "y"
        },
        {
         "marker": {
          "color": [
           4.2889194006564995e-87,
           3.237646901775355e-80,
           3.768761203010173e-74,
           3.363104190771024e-68,
           5.706608565809597e-63,
           1.1049218033344387e-58,
           2.6145577414678672e-55,
           9.029033203886136e-53,
           5.680052316583437e-51,
           6.502160321500656e-50,
           1.1362369066422102e-49,
           2.7610590844925855e-50,
           9.33567601208581e-52,
           4.5934427051451205e-54,
           3.5160956826995096e-57,
           4.562184502923866e-61,
           1.0889185975719091e-65,
           4.771277628336157e-71,
           3.2700548744393713e-77,
           2.710805164499631e-84,
           1.0645863326876288e-71,
           3.547086753395148e-65,
           1.0604163813113513e-59,
           9.394608874091663e-55,
           6.807716155106781e-50,
           7.950934079082991e-46,
           1.2168759790265374e-42,
           2.72279710564601e-40,
           1.1189547038725102e-38,
           9.94487919794807e-38,
           1.6477011612194751e-37,
           4.254037689461242e-38,
           1.6485488788654702e-39,
           1.0092694640129579e-41,
           1.0599888137669528e-44,
           2.1363618964079147e-48,
           1.0737016360404398e-52,
           1.361943090079136e-57,
           3.492109238382192e-63,
           1.084711215249161e-69,
           1.3348288608479407e-58,
           2.0010031610524098e-52,
           2.658531775948156e-47,
           3.880526422185358e-43,
           3.158492578393336e-39,
           1.8996314684875272e-35,
           1.922340134040895e-32,
           3.0391000672149518e-30,
           8.614403437142856e-29,
           5.590300532047396e-28,
           8.601766222283583e-28,
           2.4653634679403053e-28,
           1.155447526435829e-29,
           9.489882156159427e-32,
           1.6307387102550993e-34,
           7.094975846435467e-38,
           1.0426505553443312e-41,
           4.1027293330668816e-46,
           3.052769145735795e-51,
           3.174211927196095e-57,
           9.418267592767557e-48,
           6.277058984328694e-42,
           5.076123361495926e-37,
           2.62696721415312e-33,
           2.4272587560150805e-30,
           2.038672485276202e-27,
           1.2077950297438577e-24,
           1.4271441434359936e-22,
           3.264915589856587e-21,
           1.662405791217458e-20,
           2.2941454183409e-20,
           7.755115927578014e-21,
           4.87235588531671e-22,
           5.6028740851386735e-24,
           2.069796262108834e-26,
           2.419068041821937e-29,
           1.2386939937921286e-32,
           1.645724097885822e-36,
           4.0241669033556e-41,
           1.333891639476529e-46,
           4.443559655610497e-39,
           1.2257296892838904e-33,
           3.637190746871373e-29,
           1.256974836215465e-25,
           5.585413870947375e-23,
           4.515949833090571e-21,
           4.620379552190951e-19,
           3.5592608652911044e-17,
           7.085041964032489e-16,
           3.572088028041512e-15,
           4.9860213566749295e-15,
           2.134255669510198e-15,
           2.4103888839416045e-16,
           6.361949305769182e-18,
           4.980938566399363e-20,
           1.3124744014026217e-22,
           1.5521210801620414e-25,
           9.313788250477655e-29,
           1.1877209618163562e-32,
           1.8426117981940384e-37,
           4.9177991128508194e-32,
           2.746261258286689e-27,
           2.5533451980811536e-23,
           4.120413847735643e-20,
           1.0828226299685476e-17,
           4.81288849464282e-16,
           5.121611795540706e-15,
           8.730911800294461e-14,
           1.340106121160406e-12,
           7.0127175413195305e-12,
           1.2662369384665699e-11,
           8.109934696764673e-12,
           1.873602741654441e-12,
           1.3660571627043356e-13,
           2.5858979163343464e-15,
           1.3889397026663057e-17,
           4.525320927203774e-20,
           1.5588373551346195e-22,
           8.633265687405118e-26,
           4.672199154533607e-30,
           4.034198108433088e-26,
           6.029477075635528e-22,
           1.01083101598722e-18,
           2.6528754964795767e-16,
           1.9709575838529727e-14,
           5.219927647450896e-13,
           3.853447296046989e-12,
           9.35843991785187e-12,
           4.286209140244853e-11,
           2.594763184587084e-10,
           6.561462776833269e-10,
           6.822833150838698e-10,
           3.174098450569399e-10,
           6.704559506411911e-11,
           5.49781844430405e-12,
           1.695814767619007e-13,
           2.548098365635457e-15,
           1.5832738369184334e-17,
           1.9337511957258673e-20,
           2.657721166664241e-24,
           4.894550214560727e-22,
           2.9861097973349917e-18,
           2.2223120798706497e-15,
           2.4469086948592764e-13,
           5.255369356724259e-12,
           3.7312170235795734e-11,
           1.3608113849251787e-10,
           2.3923695919171824e-10,
           2.6072233442095875e-10,
           4.045761155585043e-10,
           1.1120124688551798e-09,
           2.445650317441011e-09,
           2.8547643023367587e-09,
           1.5706014211493431e-09,
           4.1448075892839085e-10,
           5.308270884813604e-11,
           2.7255235773737647e-12,
           3.9972092391221166e-14,
           1.0791472545550078e-16,
           3.4828786447444394e-20,
           4.2677072109515386e-19,
           5.944208516239389e-16,
           1.1969642072070251e-13,
           5.101979957313793e-12,
           6.87145587325865e-11,
           4.997326277311118e-10,
           2.115213685118432e-09,
           3.797315302030212e-09,
           2.9355043163979236e-09,
           1.546238522094565e-09,
           1.1757309180773938e-09,
           1.0207967940877717e-09,
           1.297440997957817e-09,
           2.321713269135277e-09,
           2.329709520303444e-09,
           8.570994520117337e-10,
           1.0000394313671578e-10,
           3.1491584106681473e-12,
           1.9089998766964532e-14,
           1.460345185150267e-17,
           8.150967438258274e-17,
           4.200639125338636e-14,
           3.018376108374842e-12,
           4.5120280882778286e-11,
           2.1213890143176236e-10,
           4.414310441818128e-10,
           8.458556719523116e-10,
           2.0720579726292364e-09,
           3.627774614277315e-09,
           3.900724939130068e-09,
           2.6299920876530693e-09,
           1.2005084481103211e-09,
           8.905442414152695e-10,
           1.1226802160777734e-09,
           1.0095326327581418e-09,
           7.331197596574689e-10,
           2.609171088902943e-10,
           2.1062831312148293e-11,
           2.815116521856179e-13,
           4.90465375082906e-16,
           3.584111734620891e-16,
           7.002240735918169e-14,
           2.1192723579969522e-12,
           1.5862960131666665e-11,
           5.163364440723616e-11,
           2.2567541056362504e-10,
           1.383264624485711e-09,
           3.834618810820439e-09,
           4.2662903405881585e-09,
           2.6140462915976124e-09,
           1.99199218491654e-09,
           2.2951799244670243e-09,
           2.166226296526682e-09,
           1.1910322794910519e-09,
           5.718183099025971e-10,
           2.85777456566363e-10,
           1.0060857351971563e-10,
           1.631753363599667e-11,
           5.209066186226805e-13,
           1.9431663393119802e-15,
           4.14019250368154e-17,
           2.6021444235992817e-15,
           2.856321104679796e-14,
           3.32294433420874e-13,
           9.924982042282856e-12,
           1.0595239663139512e-10,
           4.702382826740772e-10,
           1.3490463400265583e-09,
           3.0198167628476127e-09,
           4.374835605171138e-09,
           3.559620002960875e-09,
           1.980986773494405e-09,
           1.7457875827970825e-09,
           2.6754718852318514e-09,
           1.9713201632941253e-09,
           4.615803121327156e-10,
           1.272034017850229e-10,
           6.304108511400947e-11,
           4.54549615978642e-12,
           2.935611795722684e-14,
           1.927338121800425e-19,
           3.6642226681770406e-18,
           4.1436805995355776e-16,
           5.854143035248699e-14,
           1.961650716279529e-12,
           2.0768750679392058e-11,
           8.824548856747853e-11,
           2.0010577186502962e-10,
           4.5653069527039606e-10,
           8.701980040751312e-10,
           1.5445144339975626e-09,
           1.983834804110155e-09,
           1.4298906417701622e-09,
           7.859141323318113e-10,
           1.067306812177755e-09,
           8.497996440807945e-10,
           1.4305492508818705e-10,
           2.6087731590447624e-11,
           4.941425963067909e-12,
           7.650167409471536e-14,
           6.950204748301521e-23,
           1.2819423056516159e-20,
           6.990657597433459e-18,
           6.650256536566169e-16,
           1.6985121523306258e-14,
           1.904452671282824e-13,
           1.336094420443839e-12,
           7.604828751207298e-12,
           4.8360055391244017e-11,
           2.0327001406221604e-10,
           4.3796752122849763e-10,
           7.4191783090772e-10,
           1.1926880381507696e-09,
           8.241982219423141e-10,
           2.830329638873374e-10,
           2.8189891046904716e-10,
           1.1437833085786591e-10,
           8.335384005064244e-12,
           4.5464743970675967e-13,
           1.1400739397338278e-14,
           1.2430351896192387e-26,
           2.5062266673578403e-23,
           7.345754744276075e-21,
           3.116381539833773e-19,
           3.809963833622627e-18,
           3.616696671013851e-17,
           4.893477740280983e-16,
           9.071045729965068e-15,
           1.950778802823075e-13,
           3.281783705038497e-12,
           2.63694351162914e-11,
           9.159147622989775e-11,
           2.3234019982894322e-10,
           4.027118908615748e-10,
           1.7882659813585005e-10,
           4.76556608114268e-10,
           5.56211059110909e-10,
           5.2697479072497225e-11,
           3.9203336527391017e-13,
           4.775510398433729e-16,
           3.232330779576854e-30,
           6.707277072345492e-27,
           9.56064223302673e-25,
           1.6317448754500128e-23,
           5.884993104782798e-23,
           3.0353510467301965e-22,
           7.076834593909276e-21,
           3.3862033453335874e-19,
           2.927221900968607e-17,
           2.721408513758392e-15,
           1.2398958482267515e-13,
           2.0285075544323976e-12,
           1.3891782701530958e-11,
           3.756893794292563e-11,
           2.8974694696063338e-11,
           2.1370741666824402e-10,
           5.458412192885804e-10,
           8.49506771954693e-11,
           7.478472422058986e-13,
           3.56249225619682e-16,
           2.2033750726529086e-34,
           5.5154016019453136e-31,
           7.519894592327004e-29,
           1.2042501136582753e-27,
           4.273309691723186e-27,
           1.1669307710870057e-26,
           1.2759405953376706e-25,
           3.76067022052953e-24,
           9.721687440658091e-22,
           5.257059770108998e-19,
           1.9166219740599563e-16,
           1.3981106971314746e-14,
           2.3521928882713185e-13,
           7.922328981070142e-13,
           8.956881215572983e-13,
           2.152653516994388e-11,
           7.171412104810754e-11,
           1.2546309966497547e-11,
           1.0963019681796447e-13,
           4.558639906593554e-17,
           3.6079128471017557e-39,
           1.6787319474831893e-35,
           6.126307005384117e-33,
           2.2072953835907954e-31,
           1.7122534477265743e-30,
           7.164825644397487e-30,
           6.153406464326268e-29,
           3.429794436406332e-27,
           6.480762329595465e-25,
           4.582079717248397e-22,
           4.2717176782624925e-19,
           5.750652220784035e-17,
           1.0269566006970364e-15,
           3.0141915904202036e-15,
           1.3377103592300321e-14,
           5.419560310122022e-13,
           1.3573527960601467e-12,
           1.744318669230269e-13,
           1.0836562934544198e-15,
           3.087432376282209e-19,
           9.4396817703799e-44,
           9.751500680068313e-41,
           1.2581230005061763e-37,
           1.5606093470192734e-35,
           4.559673217175394e-34,
           1.311108644442729e-32,
           5.591784417026479e-31,
           5.362839019898747e-29,
           1.0622082703464795e-26,
           3.625749689171817e-24,
           9.663061036255509e-22,
           6.311210453309213e-20,
           6.972311668766175e-19,
           1.7478810365617865e-18,
           1.4367441424359063e-16,
           2.7125628380814918e-15,
           3.167618953910648e-15,
           2.030411867884844e-16,
           6.545083158509234e-19,
           9.883475170873875e-23,
           6.012525530613373e-48,
           2.148919963461531e-46,
           3.4445114752359293e-43,
           2.278668210841621e-40,
           3.277883259383396e-38,
           4.906641764297035e-36,
           1.039579232397343e-33,
           1.968539349404766e-31,
           3.4890286657536644e-29,
           4.866264012260897e-27,
           3.54140737586745e-25,
           7.999810188667497e-24,
           4.7032859432333936e-23,
           5.135147022270901e-21,
           3.08314145488562e-19,
           1.6518264891425766e-18,
           6.357264720958636e-19,
           1.504447234492288e-20,
           1.9452699674081182e-23,
           1.2510987820878425e-27,
           2.733664386451873e-09,
           1.4039573904943495e-10,
           1.6692528658166466e-10,
           1.2960036109968906e-09,
           9.641170525935835e-10,
           3.2737374747289887e-09,
           2.369278028102818e-09,
           1.380163877270748e-12,
           1.8867303624969924e-09,
           3.0014011412370684e-10,
           2.6726006300493245e-09,
           3.9638439673159975e-10,
           1.5072610464417126e-09,
           5.942081404864126e-10,
           4.7630734070897645e-20,
           6.196016981677067e-18,
           1.356857686643598e-09,
           3.1224498993782874e-09,
           2.9442158023535128e-09,
           3.014843600233757e-10,
           8.95883102692787e-11,
           1.6070733592759965e-09,
           1.0003113294176034e-09,
           4.516099408412472e-09,
           3.308719387305195e-22,
           2.0524306815277776e-09,
           7.941811637229036e-10,
           1.1142674364664423e-12,
           2.1315406273550656e-09,
           9.236285752373502e-10,
           1.5637762363672305e-09,
           1.9464627113053688e-11,
           8.87804631183198e-10,
           1.0579823485319916e-09,
           7.326984996290036e-10,
           4.263638008541055e-09,
           1.2112091432466083e-09,
           3.3649579827785644e-13,
           7.320362946847151e-13,
           2.4462668029532514e-09,
           6.893573655343347e-10,
           1.0571705857187023e-09,
           5.712553877928002e-09,
           7.422323372669307e-11,
           7.919893343632602e-10,
           2.680828914546388e-10,
           1.171105370719774e-10,
           8.725242013664395e-10,
           4.3977812189499566e-13,
           4.896470096778251e-09,
           2.3716327749027063e-09,
           1.6136583251489178e-15,
           7.020294167144586e-10,
           3.2745933177735966e-10,
           1.5448745619488463e-09,
           1.6199833191599964e-09,
           6.366986734484565e-10,
           1.8632206495141347e-20,
           1.4969434071013684e-09,
           1.5757775344257443e-10,
           1.5873747563082888e-10,
           7.804554300083108e-10,
           5.069205019191229e-10,
           2.876346257370027e-12,
           2.1926268228987184e-09,
           4.752287632056996e-09,
           3.3822956423502875e-09,
           5.333125356005425e-10,
           5.29560265382817e-10,
           1.1006924260364327e-09,
           2.3312078301350937e-10,
           1.8441048835431722e-09,
           1.8866553108033337e-10,
           1.989296378716675e-09,
           2.447801338595431e-09,
           6.645596716523782e-10,
           2.2141243268002254e-09,
           2.122139355744742e-12,
           1.0454019854972437e-09,
           2.430431057577288e-12,
           1.1606681121600933e-16,
           3.6778387868639705e-12,
           4.684957894042173e-10,
           1.5096789582440235e-10,
           5.374205987491877e-10,
           1.9226481317405046e-10,
           1.1846535668651445e-09,
           5.183566955403252e-12,
           1.3923975054179126e-10,
           2.3305951062524347e-12,
           1.736020006880825e-09,
           3.860182721469138e-09,
           5.230753589258936e-09,
           3.541474038313214e-14,
           2.3925987543720804e-10,
           2.2689840451405966e-11,
           1.6876070257170519e-09,
           1.1551284290575912e-09,
           2.9259845047161376e-09,
           1.125563428102243e-27,
           1.5436624507897536e-09,
           2.197703797521511e-12,
           2.5467305806474455e-09,
           2.59703983195595e-10,
           3.615301142803182e-10,
           8.547109244755207e-12,
           1.6149703719106404e-09,
           1.9263091935521717e-09,
           3.846098201945429e-09,
           3.2669659178008595e-11,
           4.297154413682846e-29,
           1.677325257293633e-10,
           6.634550454727059e-10,
           2.5100820234287573e-14,
           2.7578004480590797e-09,
           1.0552717016009834e-09,
           4.0791303108869474e-13,
           1.9084380062410362e-11,
           6.231877616087243e-10,
           6.323141787741977e-14,
           8.08144048974582e-10,
           5.752988263020058e-09,
           2.2504731849902145e-12,
           1.887523167072766e-09,
           1.7790884074651872e-17,
           8.27253120375824e-11,
           2.0705396999500607e-09,
           1.7136668642893202e-15,
           2.772386315594647e-09,
           5.73092931479196e-11,
           3.6061475443855257e-09,
           3.631290229816409e-09,
           4.15188332093814e-09,
           2.7836668937680074e-11,
           1.323171069076847e-09,
           1.688408425273776e-11,
           5.32111878194832e-10,
           8.727842177293022e-10,
           3.516347260857493e-09,
           9.757305607465575e-10,
           2.7942131487130842e-14,
           1.923955778792763e-09,
           8.367181134151805e-10,
           1.9037248775753806e-10,
           2.8482727942763215e-09,
           9.424364922043896e-10,
           1.7873799682415612e-21,
           2.2582318107546277e-09,
           9.61530241548671e-10,
           1.743945829879809e-11,
           5.264476949188726e-10,
           7.738921859679351e-10,
           3.329257978005631e-09,
           4.967308315537353e-09,
           1.658992722818023e-09,
           9.799130684365124e-13,
           1.9948563435757444e-10,
           1.9872209152649118e-09,
           2.549927633246954e-09,
           7.767559159400718e-11,
           1.9252071261929414e-09,
           6.218050700436594e-10,
           1.4009265746596114e-09,
           1.221464021435059e-10,
           3.213982135421646e-11,
           2.245447728764449e-12,
           5.7790692167217185e-12,
           5.43599037040653e-10,
           1.4521578006782017e-09,
           5.219332811039428e-09,
           1.1981425163904733e-09,
           2.8327267479439292e-11,
           1.381780956084753e-09,
           1.0512265134599437e-09,
           1.8878801887578113e-10,
           4.6403348569254323e-10,
           2.850165901932028e-11,
           4.003699541550023e-10,
           1.9638569892651906e-09,
           2.8412892865008186e-09,
           1.5424163918550449e-16,
           3.02165530258145e-12,
           6.906598343385053e-10,
           1.4047449220592325e-09,
           1.5734269187326872e-10,
           1.6495495382594395e-14,
           1.1736142680568502e-09,
           8.33053961241439e-11,
           1.6775893486342892e-09,
           1.8222224022154008e-19,
           7.104095128237065e-12,
           1.0803704437613532e-09,
           1.433437407948073e-17,
           1.3280808723693008e-10,
           1.928554795662704e-09,
           2.5151699481410113e-09,
           9.009482351130593e-13,
           8.5149484886573e-14,
           6.325128875504157e-11,
           2.014018418835406e-09,
           2.8996740477667685e-10,
           8.136385407917283e-10,
           8.415256924694655e-10,
           4.1399878021005594e-09,
           1.1558939296647277e-13,
           3.386119420218887e-09,
           2.286887158300111e-09,
           8.299100834534591e-10,
           1.0966360339767731e-10,
           1.5949122977335683e-09,
           8.53897252508124e-14,
           3.4375623339355997e-10,
           3.99043212968976e-09,
           2.843840888526495e-11,
           4.148963394823914e-10,
           6.736522563222708e-11,
           1.831948052045108e-14,
           5.981407491701769e-10,
           6.385062495183102e-10,
           9.110065466274635e-10,
           4.75299799045197e-10,
           1.9800140308418789e-10,
           1.5737713672304002e-14,
           1.275958415167392e-09,
           1.5716776076470626e-09,
           1.4082894561009047e-12,
           2.3764665962432843e-09,
           2.0579407613143305e-09,
           7.739242660422143e-15,
           1.4344071342280965e-09,
           1.0603756994970397e-09,
           1.2107974773735842e-09,
           1.381583356273691e-09,
           5.852546397285901e-14,
           1.2302134106506343e-09,
           1.4796478427178353e-11,
           1.8461707353512096e-09,
           2.4108056954794916e-14,
           5.709765346874857e-10,
           4.357199139724374e-10,
           6.004013138882973e-10,
           1.7565243378364367e-13,
           1.4477290072766485e-09,
           2.700143419433451e-16,
           3.33687208764943e-09,
           2.10282694970657e-09,
           2.765626614665703e-10,
           3.1702451009737177e-09,
           3.7555898295318655e-09,
           1.1741070318185628e-09,
           4.6155158183469786e-11,
           2.8146728186335295e-10,
           4.13746744974854e-16,
           1.9070143871924442e-15,
           4.351406365940736e-10,
           7.734069636511134e-12,
           2.3210193906819536e-09,
           8.539423364006355e-10,
           1.461027287432719e-10,
           1.0479505265905844e-24,
           2.1990770723814656e-09,
           1.1100553085706504e-10,
           8.544255858317333e-10,
           2.7928485338357406e-10,
           3.35609624698936e-09,
           6.93735766513179e-10,
           1.7153398236344982e-09,
           1.321176215096336e-15,
           1.0749938506416541e-09,
           1.2691664063065898e-10,
           1.0196837153281802e-10,
           1.875501689042962e-09,
           2.8159189521858813e-11,
           1.2998886304417813e-09,
           5.271920084080554e-13,
           7.658380558603195e-10,
           1.203787227919534e-13,
           1.6471305008219632e-09,
           1.4589550429670232e-11,
           2.076222931066781e-10,
           2.0890199659056e-11,
           1.8099843075427062e-10,
           7.770282320997707e-11,
           1.0614009815240405e-09,
           1.2788876019094246e-09,
           4.915075116912008e-15,
           1.5492339990233975e-14,
           2.5383641731981037e-09,
           1.3113320670721683e-09,
           5.3036694256789705e-12,
           1.8059628164466087e-09,
           5.196607829980901e-11,
           1.8157762350045317e-10,
           1.17148785960732e-15,
           4.705001905054569e-10,
           2.0424641361292464e-10,
           1.1864308819430438e-15,
           2.2538148616323827e-10,
           2.9264757471652086e-20,
           1.2458540455180648e-09,
           5.7348805318445933e-11,
           3.611849996358867e-10,
           5.8151876495780235e-15,
           5.759832619608218e-19,
           8.733999227569404e-10,
           7.54483741373625e-10,
           1.2515592620881807e-11,
           2.448758134432977e-09,
           3.6669814780126304e-18,
           7.116350320611658e-11,
           8.892750997330332e-10,
           1.287362369209711e-10,
           1.1171387708556073e-09,
           9.922293746311004e-10,
           9.996585414148434e-10,
           1.5658688323559686e-09,
           5.564271623396991e-11,
           4.494510852648324e-15,
           1.2472568351605166e-09,
           1.2898931498422453e-11,
           1.0505423275204833e-09,
           2.6244574924545712e-12,
           2.420662909113773e-09,
           7.812392340454457e-10,
           1.854839035120669e-09,
           2.293984013659206e-10,
           1.1050593056917395e-09,
           1.866179510648068e-09,
           7.660590452329702e-11,
           9.57223531845734e-10,
           2.8251662053870387e-09,
           2.7055842820554132e-09,
           1.895477477356458e-09,
           1.5079590055060645e-12,
           7.23437983701208e-10,
           6.714292051298485e-10,
           1.105897392872026e-09,
           1.5537156906012754e-09,
           7.43497203952189e-10,
           7.804499244643963e-12,
           1.186760866605436e-09,
           3.3347133053182554e-09,
           3.767069316175027e-11,
           9.774775402014975e-10,
           2.608507467674313e-09,
           5.547038528956336e-13,
           1.7481392806920239e-09,
           8.360453799926852e-10,
           1.5231677032403271e-09,
           1.172090426672077e-13,
           4.67034661590087e-09,
           1.69899795625618e-14,
           1.447159451505807e-11,
           3.742127695829233e-09,
           5.400266641808646e-10,
           2.016926763222703e-09,
           2.5701987678505317e-11,
           7.995170156398933e-15,
           4.4034089891401177e-10,
           1.2709209913997299e-09,
           5.656069500682644e-09,
           1.8942164491357094e-09,
           2.4500313107283515e-09,
           3.7858138657968735e-12,
           1.2500531392333933e-11,
           2.289679563765428e-09,
           2.6839253615224e-10,
           6.782018094227969e-10,
           3.319633233860129e-13,
           1.28993611209334e-09,
           3.887418593857912e-09,
           1.21341782532972e-10,
           2.3857078162771825e-09,
           1.0142772000136406e-24,
           1.9085953180314034e-17,
           2.3599201505437793e-10,
           4.718697367803459e-11,
           2.5007362257966603e-10,
           2.1331996658007836e-10,
           5.575784687502214e-10,
           3.682582916438423e-10,
           2.6999348624069545e-09,
           1.0956397930373019e-11,
           1.7732939459838237e-10,
           1.3312216646570196e-10,
           2.1165515233484232e-09,
           1.9476711078748724e-09,
           2.9914808851609735e-10,
           1.5920068025740168e-10,
           2.8365498157419523e-10,
           8.675502319549547e-10,
           2.9225026019567394e-09,
           4.805279056998622e-13,
           8.86546432687783e-14,
           3.537672411825466e-09,
           2.0142372801999233e-10,
           3.390248778437105e-10,
           9.105020832863793e-11,
           4.355439480755221e-12,
           1.2660728400543751e-09
          ],
          "colorbar": {
           "title": {
            "text": "ColorBar"
           }
          },
          "colorscale": [
           [
            0,
            "#440154"
           ],
           [
            0.1111111111111111,
            "#482878"
           ],
           [
            0.2222222222222222,
            "#3e4989"
           ],
           [
            0.3333333333333333,
            "#31688e"
           ],
           [
            0.4444444444444444,
            "#26828e"
           ],
           [
            0.5555555555555556,
            "#1f9e89"
           ],
           [
            0.6666666666666666,
            "#35b779"
           ],
           [
            0.7777777777777778,
            "#6ece58"
           ],
           [
            0.8888888888888888,
            "#b5de2b"
           ],
           [
            1,
            "#fde725"
           ]
          ],
          "line": {
           "width": 0
          },
          "opacity": 1,
          "size": 5,
          "symbol": "circle"
         },
         "mode": "markers",
         "type": "scatter",
         "x": [
          -3.9833564014873817,
          -3.9833564014873817,
          -3.9833564014873817,
          -3.9833564014873817,
          -3.9833564014873817,
          -3.9833564014873817,
          -3.9833564014873817,
          -3.9833564014873817,
          -3.9833564014873817,
          -3.9833564014873817,
          -3.9833564014873817,
          -3.9833564014873817,
          -3.9833564014873817,
          -3.9833564014873817,
          -3.9833564014873817,
          -3.9833564014873817,
          -3.9833564014873817,
          -3.9833564014873817,
          -3.9833564014873817,
          -3.9833564014873817,
          -3.5063989233270836,
          -3.5063989233270836,
          -3.5063989233270836,
          -3.5063989233270836,
          -3.5063989233270836,
          -3.5063989233270836,
          -3.5063989233270836,
          -3.5063989233270836,
          -3.5063989233270836,
          -3.5063989233270836,
          -3.5063989233270836,
          -3.5063989233270836,
          -3.5063989233270836,
          -3.5063989233270836,
          -3.5063989233270836,
          -3.5063989233270836,
          -3.5063989233270836,
          -3.5063989233270836,
          -3.5063989233270836,
          -3.5063989233270836,
          -3.0294414451667855,
          -3.0294414451667855,
          -3.0294414451667855,
          -3.0294414451667855,
          -3.0294414451667855,
          -3.0294414451667855,
          -3.0294414451667855,
          -3.0294414451667855,
          -3.0294414451667855,
          -3.0294414451667855,
          -3.0294414451667855,
          -3.0294414451667855,
          -3.0294414451667855,
          -3.0294414451667855,
          -3.0294414451667855,
          -3.0294414451667855,
          -3.0294414451667855,
          -3.0294414451667855,
          -3.0294414451667855,
          -3.0294414451667855,
          -2.552483967006487,
          -2.552483967006487,
          -2.552483967006487,
          -2.552483967006487,
          -2.552483967006487,
          -2.552483967006487,
          -2.552483967006487,
          -2.552483967006487,
          -2.552483967006487,
          -2.552483967006487,
          -2.552483967006487,
          -2.552483967006487,
          -2.552483967006487,
          -2.552483967006487,
          -2.552483967006487,
          -2.552483967006487,
          -2.552483967006487,
          -2.552483967006487,
          -2.552483967006487,
          -2.552483967006487,
          -2.075526488846189,
          -2.075526488846189,
          -2.075526488846189,
          -2.075526488846189,
          -2.075526488846189,
          -2.075526488846189,
          -2.075526488846189,
          -2.075526488846189,
          -2.075526488846189,
          -2.075526488846189,
          -2.075526488846189,
          -2.075526488846189,
          -2.075526488846189,
          -2.075526488846189,
          -2.075526488846189,
          -2.075526488846189,
          -2.075526488846189,
          -2.075526488846189,
          -2.075526488846189,
          -2.075526488846189,
          -1.5985690106858907,
          -1.5985690106858907,
          -1.5985690106858907,
          -1.5985690106858907,
          -1.5985690106858907,
          -1.5985690106858907,
          -1.5985690106858907,
          -1.5985690106858907,
          -1.5985690106858907,
          -1.5985690106858907,
          -1.5985690106858907,
          -1.5985690106858907,
          -1.5985690106858907,
          -1.5985690106858907,
          -1.5985690106858907,
          -1.5985690106858907,
          -1.5985690106858907,
          -1.5985690106858907,
          -1.5985690106858907,
          -1.5985690106858907,
          -1.1216115325255922,
          -1.1216115325255922,
          -1.1216115325255922,
          -1.1216115325255922,
          -1.1216115325255922,
          -1.1216115325255922,
          -1.1216115325255922,
          -1.1216115325255922,
          -1.1216115325255922,
          -1.1216115325255922,
          -1.1216115325255922,
          -1.1216115325255922,
          -1.1216115325255922,
          -1.1216115325255922,
          -1.1216115325255922,
          -1.1216115325255922,
          -1.1216115325255922,
          -1.1216115325255922,
          -1.1216115325255922,
          -1.1216115325255922,
          -0.6446540543652941,
          -0.6446540543652941,
          -0.6446540543652941,
          -0.6446540543652941,
          -0.6446540543652941,
          -0.6446540543652941,
          -0.6446540543652941,
          -0.6446540543652941,
          -0.6446540543652941,
          -0.6446540543652941,
          -0.6446540543652941,
          -0.6446540543652941,
          -0.6446540543652941,
          -0.6446540543652941,
          -0.6446540543652941,
          -0.6446540543652941,
          -0.6446540543652941,
          -0.6446540543652941,
          -0.6446540543652941,
          -0.6446540543652941,
          -0.167696576204996,
          -0.167696576204996,
          -0.167696576204996,
          -0.167696576204996,
          -0.167696576204996,
          -0.167696576204996,
          -0.167696576204996,
          -0.167696576204996,
          -0.167696576204996,
          -0.167696576204996,
          -0.167696576204996,
          -0.167696576204996,
          -0.167696576204996,
          -0.167696576204996,
          -0.167696576204996,
          -0.167696576204996,
          -0.167696576204996,
          -0.167696576204996,
          -0.167696576204996,
          -0.167696576204996,
          0.30926090195530254,
          0.30926090195530254,
          0.30926090195530254,
          0.30926090195530254,
          0.30926090195530254,
          0.30926090195530254,
          0.30926090195530254,
          0.30926090195530254,
          0.30926090195530254,
          0.30926090195530254,
          0.30926090195530254,
          0.30926090195530254,
          0.30926090195530254,
          0.30926090195530254,
          0.30926090195530254,
          0.30926090195530254,
          0.30926090195530254,
          0.30926090195530254,
          0.30926090195530254,
          0.30926090195530254,
          0.7862183801156002,
          0.7862183801156002,
          0.7862183801156002,
          0.7862183801156002,
          0.7862183801156002,
          0.7862183801156002,
          0.7862183801156002,
          0.7862183801156002,
          0.7862183801156002,
          0.7862183801156002,
          0.7862183801156002,
          0.7862183801156002,
          0.7862183801156002,
          0.7862183801156002,
          0.7862183801156002,
          0.7862183801156002,
          0.7862183801156002,
          0.7862183801156002,
          0.7862183801156002,
          0.7862183801156002,
          1.2631758582758987,
          1.2631758582758987,
          1.2631758582758987,
          1.2631758582758987,
          1.2631758582758987,
          1.2631758582758987,
          1.2631758582758987,
          1.2631758582758987,
          1.2631758582758987,
          1.2631758582758987,
          1.2631758582758987,
          1.2631758582758987,
          1.2631758582758987,
          1.2631758582758987,
          1.2631758582758987,
          1.2631758582758987,
          1.2631758582758987,
          1.2631758582758987,
          1.2631758582758987,
          1.2631758582758987,
          1.7401333364361973,
          1.7401333364361973,
          1.7401333364361973,
          1.7401333364361973,
          1.7401333364361973,
          1.7401333364361973,
          1.7401333364361973,
          1.7401333364361973,
          1.7401333364361973,
          1.7401333364361973,
          1.7401333364361973,
          1.7401333364361973,
          1.7401333364361973,
          1.7401333364361973,
          1.7401333364361973,
          1.7401333364361973,
          1.7401333364361973,
          1.7401333364361973,
          1.7401333364361973,
          1.7401333364361973,
          2.217090814596495,
          2.217090814596495,
          2.217090814596495,
          2.217090814596495,
          2.217090814596495,
          2.217090814596495,
          2.217090814596495,
          2.217090814596495,
          2.217090814596495,
          2.217090814596495,
          2.217090814596495,
          2.217090814596495,
          2.217090814596495,
          2.217090814596495,
          2.217090814596495,
          2.217090814596495,
          2.217090814596495,
          2.217090814596495,
          2.217090814596495,
          2.217090814596495,
          2.6940482927567935,
          2.6940482927567935,
          2.6940482927567935,
          2.6940482927567935,
          2.6940482927567935,
          2.6940482927567935,
          2.6940482927567935,
          2.6940482927567935,
          2.6940482927567935,
          2.6940482927567935,
          2.6940482927567935,
          2.6940482927567935,
          2.6940482927567935,
          2.6940482927567935,
          2.6940482927567935,
          2.6940482927567935,
          2.6940482927567935,
          2.6940482927567935,
          2.6940482927567935,
          2.6940482927567935,
          3.171005770917091,
          3.171005770917091,
          3.171005770917091,
          3.171005770917091,
          3.171005770917091,
          3.171005770917091,
          3.171005770917091,
          3.171005770917091,
          3.171005770917091,
          3.171005770917091,
          3.171005770917091,
          3.171005770917091,
          3.171005770917091,
          3.171005770917091,
          3.171005770917091,
          3.171005770917091,
          3.171005770917091,
          3.171005770917091,
          3.171005770917091,
          3.171005770917091,
          3.6479632490773897,
          3.6479632490773897,
          3.6479632490773897,
          3.6479632490773897,
          3.6479632490773897,
          3.6479632490773897,
          3.6479632490773897,
          3.6479632490773897,
          3.6479632490773897,
          3.6479632490773897,
          3.6479632490773897,
          3.6479632490773897,
          3.6479632490773897,
          3.6479632490773897,
          3.6479632490773897,
          3.6479632490773897,
          3.6479632490773897,
          3.6479632490773897,
          3.6479632490773897,
          3.6479632490773897,
          4.124920727237687,
          4.124920727237687,
          4.124920727237687,
          4.124920727237687,
          4.124920727237687,
          4.124920727237687,
          4.124920727237687,
          4.124920727237687,
          4.124920727237687,
          4.124920727237687,
          4.124920727237687,
          4.124920727237687,
          4.124920727237687,
          4.124920727237687,
          4.124920727237687,
          4.124920727237687,
          4.124920727237687,
          4.124920727237687,
          4.124920727237687,
          4.124920727237687,
          4.601878205397987,
          4.601878205397987,
          4.601878205397987,
          4.601878205397987,
          4.601878205397987,
          4.601878205397987,
          4.601878205397987,
          4.601878205397987,
          4.601878205397987,
          4.601878205397987,
          4.601878205397987,
          4.601878205397987,
          4.601878205397987,
          4.601878205397987,
          4.601878205397987,
          4.601878205397987,
          4.601878205397987,
          4.601878205397987,
          4.601878205397987,
          4.601878205397987,
          5.078835683558285,
          5.078835683558285,
          5.078835683558285,
          5.078835683558285,
          5.078835683558285,
          5.078835683558285,
          5.078835683558285,
          5.078835683558285,
          5.078835683558285,
          5.078835683558285,
          5.078835683558285,
          5.078835683558285,
          5.078835683558285,
          5.078835683558285,
          5.078835683558285,
          5.078835683558285,
          5.078835683558285,
          5.078835683558285,
          5.078835683558285,
          5.078835683558285,
          1.4711968566569276,
          1.1311691781416626,
          0.1506343556006231,
          0.40621753355321266,
          0.26762404076148305,
          1.2023306686652628,
          -0.4012213585233123,
          2.488127241662452,
          1.5513643489004005,
          0.15359256553447245,
          1.0443662553628656,
          1.5239349159434652,
          1.5496691484085134,
          -0.4083721935656923,
          -2.378285936995419,
          -1.319994028033849,
          -0.066647186217905,
          1.061015159142459,
          1.304800098519355,
          1.3800628617093555,
          3.265236112037726,
          0.9856761499247885,
          1.6564951425440515,
          1.096108593465623,
          -2.4643597719053307,
          0.7896004432149761,
          0.5219065196626059,
          3.6140840093210778,
          0.7707350641746231,
          0.12102424408768811,
          -0.4320361654634473,
          2.01701999790666,
          1.1402231535779153,
          0.8350859342947435,
          -0.48645209963727654,
          1.0588950146888343,
          -0.41340377397197203,
          -0.9637955135711911,
          2.7321891410223094,
          0.2901580337947085,
          1.9365031073081345,
          0.8693598749027096,
          0.9142244180445813,
          -0.9327919152175638,
          2.1102242347826135,
          2.7111633602809255,
          -0.7587616240508684,
          0.5892479324536297,
          -1.436858516117045,
          1.1134553925565336,
          0.6035105581786305,
          -1.1189366737638724,
          2.8658098424848277,
          1.0661021406309923,
          0.19842762946085096,
          1.3330299365475269,
          2.1808980167794814,
          -2.2357472280790853,
          0.6577607381248896,
          0.7633949047750311,
          -0.7297916955541836,
          -1.1055815919550225,
          2.121123853404584,
          -1.1264908544876013,
          0.6434742325901179,
          1.0996772755212825,
          1.3499145086049125,
          -0.7294955124413357,
          2.6048635272930136,
          -0.19303691714894017,
          1.9213402039861682,
          -0.2550409937538691,
          3.151307709882772,
          1.5977838356584901,
          0.8002552682632058,
          -0.44788030387469085,
          -0.6786552432352148,
          -1.078276151718656,
          -0.18718179873175333,
          -1.5929825180586703,
          -1.95034724562501,
          -1.6815845705777253,
          -0.9168300272440864,
          2.9800055638988834,
          2.0886331022403617,
          0.9465907667790805,
          1.547845533704212,
          -1.541897283423785,
          1.6378796175378132,
          3.711235061154259,
          0.26413631155632084,
          0.2462966398143549,
          0.9186399112103576,
          3.925220990431605,
          -0.8179013386330691,
          -1.1728331544736486,
          1.1640990689491397,
          -0.03916262369549761,
          1.397087172572813,
          -2.733549824159607,
          0.09896562644731333,
          0.7162148514054245,
          -0.05214789856932911,
          2.0423592343898203,
          0.32467200774664967,
          1.0668943547712069,
          0.5664345795834265,
          -0.8736877253852238,
          0.07135215523669983,
          3.6189160583887348,
          -2.0302877272770363,
          -0.47108018517303885,
          2.47251924345648,
          -0.9542061793362941,
          1.481804662139576,
          0.10893610076560581,
          2.4278646649645093,
          0.5472665358211329,
          1.837321382857711,
          2.327705299412991,
          2.4295786102290355,
          0.9480688976583562,
          3.6245691322979767,
          0.5937451299306136,
          -2.0249432586769474,
          -0.06766246964683575,
          0.864149277416715,
          0.5018577810014577,
          0.54337299796714,
          0.18256399993255062,
          1.2716943848769902,
          0.7572904084214174,
          -0.13115996057056578,
          0.8916630594652373,
          -0.00919553242318516,
          0.6568256862326174,
          -1.140843505683714,
          0.137822208528938,
          0.7158929862467083,
          0.09506151224805129,
          1.829675969957554,
          0.8456854525542372,
          0.09250290470285319,
          2.5644115538867336,
          1.2760588667506063,
          0.3448105661431682,
          -2.175429246028827,
          1.2846936936785327,
          -0.12496424591306687,
          3.0619169944740223,
          -0.05400838516641507,
          0.019864269609447316,
          0.4297526501191201,
          1.132939369924098,
          0.05330941456752719,
          3.0098154545907523,
          2.4080188550619828,
          0.5648022838904412,
          -0.061130629416465854,
          -0.46363897052870573,
          1.2077544129784528,
          -0.3693255287452877,
          1.7234328847713078,
          1.2920819820665734,
          1.7876806908251348,
          2.5500562525694788,
          -1.2108478043692819,
          1.3305580008902689,
          0.06067665092374597,
          0.8481955254770008,
          0.1931751106086993,
          -0.3613865362386923,
          0.14544353562330242,
          -0.8988628259275754,
          1.6737105526634783,
          -0.5337013176527103,
          -0.6116560369696394,
          2.6638438896125107,
          0.8206917030772118,
          -0.6677802343439361,
          -2.146505675604958,
          0.7243816499044257,
          -1.1348198274592605,
          0.04903034747367263,
          1.2900123240852304,
          2.668120779836449,
          0.20231268003641323,
          1.5320382360656257,
          0.6150339025903363,
          2.3992182366114307,
          0.27394624719151717,
          0.1586895948579406,
          -1.651047883855906,
          2.1680983543877574,
          0.9213156720852378,
          0.9816761203664471,
          -1.5943198642593044,
          -0.9463681958173726,
          -0.41280926406203866,
          1.2338356915046051,
          1.5583018700010582,
          0.5671905030488927,
          -0.37823870607567955,
          1.1432543660858725,
          -1.9145718277105364,
          0.36418371335012245,
          0.8812092136075829,
          0.49085484865362067,
          -0.7953118538516004,
          1.2961263550926805,
          3.973377879336172,
          -0.6666486744881555,
          0.7620918479575658,
          2.2978478358481853,
          -0.5647527010572087,
          1.6371125643525586,
          -0.8534397438169903,
          2.0419998199720375,
          0.03022267658596345,
          1.7503514570097343,
          -0.5379554483470075,
          2.503033039743305,
          0.27481712143070386,
          1.7254639780596952,
          0.4943733290465163,
          2.733310920848496,
          0.8175938036600812,
          0.5462374707759537,
          3.4049050860698653,
          1.162767758131219,
          1.6584481650007148,
          -0.660387386070767,
          -0.12124384265054722,
          -1.482039094638254,
          -0.22554044979087187,
          -1.3024688431138514,
          1.7797369126999463,
          1.3903884241795745,
          0.3031563487643994,
          1.3085571301387193,
          0.3975899904242568,
          -1.3929176984342049,
          -0.09980656531860488,
          -1.015780125916042,
          1.3368167637026822,
          -0.11001911892119659,
          2.1795015977100984,
          -0.2244375772848863,
          0.7612934137988762,
          1.2779571798580887,
          -1.3575681299699134,
          2.1683085286579202,
          2.7391490601850124,
          1.725623566097255,
          1.5578424128239257,
          -1.4864320223526004,
          0.7752140565986951,
          -0.040840762708430844,
          2.0347924211037687,
          0.1581548192631515,
          1.1859129678409386,
          -0.3239026767142936,
          -1.0913976348942067,
          2.268011963086084,
          0.42560914489602064,
          2.204602994309241,
          0.0688490918071755,
          1.7464257341270484,
          -0.24339052229913216,
          1.5323784610305462,
          1.9538614633859361,
          -0.8099222487472812,
          -0.03428998501539743,
          1.6744955816115872,
          -1.7898346762584576,
          2.165563527357557,
          3.8336012082747466,
          1.7609283632195576,
          1.4876860689622204,
          1.6268129711248696,
          -1.0441225215821772,
          2.8078012128584904,
          1.0248974064788012,
          -0.4310968069079407,
          0.08960414102305969,
          -0.11738822555014328,
          4.003694927906968,
          0.8453538030342159,
          0.03376487956933294,
          2.1877040636568337,
          0.5769935739909087,
          -0.8066739559349269,
          2.6587474277369436,
          -1.5715913560237933,
          -0.05947280577387304,
          2.3938395609890115,
          -2.087856960147323,
          2.1030190173848817,
          1.853116115288823,
          2.179080465245041,
          3.16560589902901,
          0.9330032616892476,
          1.3266367284013825,
          -1.8557263368370847,
          0.2546100353571371,
          0.18064751966828552,
          -1.4499203823617661,
          0.6635633418008482,
          1.3077377284072722,
          -1.3945401523643952,
          2.0999942071899413,
          1.404883280207753,
          -0.34023139645703643,
          -0.9526753698185113,
          0.2691072968894902,
          -0.949939746733647,
          0.6704719756615638,
          1.2612346084561696,
          1.6664118933527154,
          1.5352828561719085,
          0.33311231590367507,
          -1.1031742489328011,
          0.7389265064065016,
          0.8314993202543636,
          0.6848765995772977,
          2.6261604558189067,
          0.9022587087065581,
          1.556147466713268,
          -0.6575100254892603,
          0.32133782578192666,
          0.5139801641646986,
          1.0905475016497537,
          -0.42193199651704,
          3.2517046031966794,
          1.3389807432188356,
          1.5983739229785832,
          0.18725053435009026,
          -0.047754533865202786,
          -0.13977273012167357,
          -0.5684923475258217,
          1.6769620593232102,
          0.2677455387819544,
          -0.4800275495057438,
          -0.3591986105003555,
          1.5442494606126353,
          -1.7777172085284585,
          1.3351333502103602,
          -0.10770041130460872,
          1.0113807672848802,
          3.2279667143280832,
          1.214477049024639,
          -1.6323036280154928,
          0.4687721489887559,
          0.005716492623392799,
          1.0076278481563583,
          1.4754164187601333,
          0.8350935354172089,
          -0.5798817378906689,
          1.9998599361519365,
          1.6617774193293,
          0.9354451206165577,
          1.4729407491105069,
          0.5818970223112983,
          1.0536943300484118,
          3.189917859814506,
          0.7067825152675337,
          2.911266260569353,
          0.9097079813232795,
          3.632273298905346,
          1.6932007785267604,
          1.2958461442854858,
          -0.401553240959746,
          1.5860872959617744,
          4.393953492055877,
          -1.4990163873250253,
          -0.46466753952038614,
          1.9473226390682763,
          2.913691382977725,
          0.40639171261653156,
          0.8528550658447636,
          2.0208437175263914,
          -0.7091458805876603,
          2.6331916007528062,
          0.8726402506778457,
          2.3395489040565414,
          1.3677335549754148,
          1.3439226180855794,
          0.42164316774079647,
          0.8670274353154952,
          -0.7206452736137483,
          0.02422020644161016,
          -0.5587549701485506,
          -1.7857293989289975,
          3.8624586013964954,
          0.07772993417884588,
          3.0378039301863264,
          -0.7813529265015222,
          1.86811147341662,
          -1.6808708618284145,
          0.09791718973949437
         ],
         "xaxis": "x2",
         "y": [
          -2.4498787736391727,
          -2.0755781364977084,
          -1.7012774993562436,
          -1.3269768622147793,
          -0.9526762250733147,
          -0.5783755879318502,
          -0.20407495079038585,
          0.17022568635107893,
          0.5445263234925433,
          0.9188269606340076,
          1.2931275977754724,
          1.6674282349169371,
          2.041728872058401,
          2.416029509199866,
          2.7903301463413306,
          3.1646307834827945,
          3.5389314206242592,
          3.913232057765724,
          4.287532694907188,
          4.661833332048652,
          -2.4498787736391727,
          -2.0755781364977084,
          -1.7012774993562436,
          -1.3269768622147793,
          -0.9526762250733147,
          -0.5783755879318502,
          -0.20407495079038585,
          0.17022568635107893,
          0.5445263234925433,
          0.9188269606340076,
          1.2931275977754724,
          1.6674282349169371,
          2.041728872058401,
          2.416029509199866,
          2.7903301463413306,
          3.1646307834827945,
          3.5389314206242592,
          3.913232057765724,
          4.287532694907188,
          4.661833332048652,
          -2.4498787736391727,
          -2.0755781364977084,
          -1.7012774993562436,
          -1.3269768622147793,
          -0.9526762250733147,
          -0.5783755879318502,
          -0.20407495079038585,
          0.17022568635107893,
          0.5445263234925433,
          0.9188269606340076,
          1.2931275977754724,
          1.6674282349169371,
          2.041728872058401,
          2.416029509199866,
          2.7903301463413306,
          3.1646307834827945,
          3.5389314206242592,
          3.913232057765724,
          4.287532694907188,
          4.661833332048652,
          -2.4498787736391727,
          -2.0755781364977084,
          -1.7012774993562436,
          -1.3269768622147793,
          -0.9526762250733147,
          -0.5783755879318502,
          -0.20407495079038585,
          0.17022568635107893,
          0.5445263234925433,
          0.9188269606340076,
          1.2931275977754724,
          1.6674282349169371,
          2.041728872058401,
          2.416029509199866,
          2.7903301463413306,
          3.1646307834827945,
          3.5389314206242592,
          3.913232057765724,
          4.287532694907188,
          4.661833332048652,
          -2.4498787736391727,
          -2.0755781364977084,
          -1.7012774993562436,
          -1.3269768622147793,
          -0.9526762250733147,
          -0.5783755879318502,
          -0.20407495079038585,
          0.17022568635107893,
          0.5445263234925433,
          0.9188269606340076,
          1.2931275977754724,
          1.6674282349169371,
          2.041728872058401,
          2.416029509199866,
          2.7903301463413306,
          3.1646307834827945,
          3.5389314206242592,
          3.913232057765724,
          4.287532694907188,
          4.661833332048652,
          -2.4498787736391727,
          -2.0755781364977084,
          -1.7012774993562436,
          -1.3269768622147793,
          -0.9526762250733147,
          -0.5783755879318502,
          -0.20407495079038585,
          0.17022568635107893,
          0.5445263234925433,
          0.9188269606340076,
          1.2931275977754724,
          1.6674282349169371,
          2.041728872058401,
          2.416029509199866,
          2.7903301463413306,
          3.1646307834827945,
          3.5389314206242592,
          3.913232057765724,
          4.287532694907188,
          4.661833332048652,
          -2.4498787736391727,
          -2.0755781364977084,
          -1.7012774993562436,
          -1.3269768622147793,
          -0.9526762250733147,
          -0.5783755879318502,
          -0.20407495079038585,
          0.17022568635107893,
          0.5445263234925433,
          0.9188269606340076,
          1.2931275977754724,
          1.6674282349169371,
          2.041728872058401,
          2.416029509199866,
          2.7903301463413306,
          3.1646307834827945,
          3.5389314206242592,
          3.913232057765724,
          4.287532694907188,
          4.661833332048652,
          -2.4498787736391727,
          -2.0755781364977084,
          -1.7012774993562436,
          -1.3269768622147793,
          -0.9526762250733147,
          -0.5783755879318502,
          -0.20407495079038585,
          0.17022568635107893,
          0.5445263234925433,
          0.9188269606340076,
          1.2931275977754724,
          1.6674282349169371,
          2.041728872058401,
          2.416029509199866,
          2.7903301463413306,
          3.1646307834827945,
          3.5389314206242592,
          3.913232057765724,
          4.287532694907188,
          4.661833332048652,
          -2.4498787736391727,
          -2.0755781364977084,
          -1.7012774993562436,
          -1.3269768622147793,
          -0.9526762250733147,
          -0.5783755879318502,
          -0.20407495079038585,
          0.17022568635107893,
          0.5445263234925433,
          0.9188269606340076,
          1.2931275977754724,
          1.6674282349169371,
          2.041728872058401,
          2.416029509199866,
          2.7903301463413306,
          3.1646307834827945,
          3.5389314206242592,
          3.913232057765724,
          4.287532694907188,
          4.661833332048652,
          -2.4498787736391727,
          -2.0755781364977084,
          -1.7012774993562436,
          -1.3269768622147793,
          -0.9526762250733147,
          -0.5783755879318502,
          -0.20407495079038585,
          0.17022568635107893,
          0.5445263234925433,
          0.9188269606340076,
          1.2931275977754724,
          1.6674282349169371,
          2.041728872058401,
          2.416029509199866,
          2.7903301463413306,
          3.1646307834827945,
          3.5389314206242592,
          3.913232057765724,
          4.287532694907188,
          4.661833332048652,
          -2.4498787736391727,
          -2.0755781364977084,
          -1.7012774993562436,
          -1.3269768622147793,
          -0.9526762250733147,
          -0.5783755879318502,
          -0.20407495079038585,
          0.17022568635107893,
          0.5445263234925433,
          0.9188269606340076,
          1.2931275977754724,
          1.6674282349169371,
          2.041728872058401,
          2.416029509199866,
          2.7903301463413306,
          3.1646307834827945,
          3.5389314206242592,
          3.913232057765724,
          4.287532694907188,
          4.661833332048652,
          -2.4498787736391727,
          -2.0755781364977084,
          -1.7012774993562436,
          -1.3269768622147793,
          -0.9526762250733147,
          -0.5783755879318502,
          -0.20407495079038585,
          0.17022568635107893,
          0.5445263234925433,
          0.9188269606340076,
          1.2931275977754724,
          1.6674282349169371,
          2.041728872058401,
          2.416029509199866,
          2.7903301463413306,
          3.1646307834827945,
          3.5389314206242592,
          3.913232057765724,
          4.287532694907188,
          4.661833332048652,
          -2.4498787736391727,
          -2.0755781364977084,
          -1.7012774993562436,
          -1.3269768622147793,
          -0.9526762250733147,
          -0.5783755879318502,
          -0.20407495079038585,
          0.17022568635107893,
          0.5445263234925433,
          0.9188269606340076,
          1.2931275977754724,
          1.6674282349169371,
          2.041728872058401,
          2.416029509199866,
          2.7903301463413306,
          3.1646307834827945,
          3.5389314206242592,
          3.913232057765724,
          4.287532694907188,
          4.661833332048652,
          -2.4498787736391727,
          -2.0755781364977084,
          -1.7012774993562436,
          -1.3269768622147793,
          -0.9526762250733147,
          -0.5783755879318502,
          -0.20407495079038585,
          0.17022568635107893,
          0.5445263234925433,
          0.9188269606340076,
          1.2931275977754724,
          1.6674282349169371,
          2.041728872058401,
          2.416029509199866,
          2.7903301463413306,
          3.1646307834827945,
          3.5389314206242592,
          3.913232057765724,
          4.287532694907188,
          4.661833332048652,
          -2.4498787736391727,
          -2.0755781364977084,
          -1.7012774993562436,
          -1.3269768622147793,
          -0.9526762250733147,
          -0.5783755879318502,
          -0.20407495079038585,
          0.17022568635107893,
          0.5445263234925433,
          0.9188269606340076,
          1.2931275977754724,
          1.6674282349169371,
          2.041728872058401,
          2.416029509199866,
          2.7903301463413306,
          3.1646307834827945,
          3.5389314206242592,
          3.913232057765724,
          4.287532694907188,
          4.661833332048652,
          -2.4498787736391727,
          -2.0755781364977084,
          -1.7012774993562436,
          -1.3269768622147793,
          -0.9526762250733147,
          -0.5783755879318502,
          -0.20407495079038585,
          0.17022568635107893,
          0.5445263234925433,
          0.9188269606340076,
          1.2931275977754724,
          1.6674282349169371,
          2.041728872058401,
          2.416029509199866,
          2.7903301463413306,
          3.1646307834827945,
          3.5389314206242592,
          3.913232057765724,
          4.287532694907188,
          4.661833332048652,
          -2.4498787736391727,
          -2.0755781364977084,
          -1.7012774993562436,
          -1.3269768622147793,
          -0.9526762250733147,
          -0.5783755879318502,
          -0.20407495079038585,
          0.17022568635107893,
          0.5445263234925433,
          0.9188269606340076,
          1.2931275977754724,
          1.6674282349169371,
          2.041728872058401,
          2.416029509199866,
          2.7903301463413306,
          3.1646307834827945,
          3.5389314206242592,
          3.913232057765724,
          4.287532694907188,
          4.661833332048652,
          -2.4498787736391727,
          -2.0755781364977084,
          -1.7012774993562436,
          -1.3269768622147793,
          -0.9526762250733147,
          -0.5783755879318502,
          -0.20407495079038585,
          0.17022568635107893,
          0.5445263234925433,
          0.9188269606340076,
          1.2931275977754724,
          1.6674282349169371,
          2.041728872058401,
          2.416029509199866,
          2.7903301463413306,
          3.1646307834827945,
          3.5389314206242592,
          3.913232057765724,
          4.287532694907188,
          4.661833332048652,
          -2.4498787736391727,
          -2.0755781364977084,
          -1.7012774993562436,
          -1.3269768622147793,
          -0.9526762250733147,
          -0.5783755879318502,
          -0.20407495079038585,
          0.17022568635107893,
          0.5445263234925433,
          0.9188269606340076,
          1.2931275977754724,
          1.6674282349169371,
          2.041728872058401,
          2.416029509199866,
          2.7903301463413306,
          3.1646307834827945,
          3.5389314206242592,
          3.913232057765724,
          4.287532694907188,
          4.661833332048652,
          -2.4498787736391727,
          -2.0755781364977084,
          -1.7012774993562436,
          -1.3269768622147793,
          -0.9526762250733147,
          -0.5783755879318502,
          -0.20407495079038585,
          0.17022568635107893,
          0.5445263234925433,
          0.9188269606340076,
          1.2931275977754724,
          1.6674282349169371,
          2.041728872058401,
          2.416029509199866,
          2.7903301463413306,
          3.1646307834827945,
          3.5389314206242592,
          3.913232057765724,
          4.287532694907188,
          4.661833332048652,
          1.5098776434389307,
          3.4801112014027877,
          -0.9254902031092248,
          1.7605837680462628,
          2.132779067437344,
          0.4385813119368655,
          1.9876431346297672,
          0.41350627787909244,
          2.856297332437188,
          3.5212435419575394,
          2.224430995529541,
          0.11925440745515292,
          0.8728557985156056,
          3.0146629709914436,
          2.1126463865131804,
          3.680242227193675,
          1.219789815927413,
          1.217342464666599,
          0.6420254164450436,
          3.319348168605592,
          3.8841534522615118,
          -0.12643758644922243,
          2.483921461920727,
          0.40424455030962103,
          2.3184152216364797,
          1.1570205955199615,
          -0.20035186370997132,
          2.75168489710098,
          1.0777151089085164,
          1.6518847024808037,
          1.6766181493353254,
          -0.06170723183798321,
          2.9183344868673378,
          2.5293054831817403,
          0.11671497151914623,
          1.0392469333438674,
          0.17829612973021763,
          -0.8393192597033876,
          0.7803159010107696,
          0.21425107286712008,
          1.0809728685915607,
          2.5704778062455436,
          0.445746060072729,
          0.5412885086982072,
          2.419764186652929,
          2.1348720878874126,
          0.19137637771693683,
          -0.22659934757365668,
          0.14690054586530954,
          0.9770055744221382,
          1.6186192483916764,
          3.5804830486156036,
          3.308424319668718,
          3.0918534778115143,
          1.433388544043778,
          1.8680164692653778,
          1.493670930992677,
          2.5381830517488027,
          -0.11131272774799501,
          -0.6632185375089699,
          0.43670857509117816,
          1.39138556768767,
          1.192189075510022,
          -0.26754919128896437,
          0.9240525142388868,
          0.996095063829167,
          0.8970058514068884,
          2.6078594757952627,
          2.3023812106210286,
          1.4636454841640856,
          3.4299414812172566,
          0.6057749429657724,
          3.814489203108913,
          1.7913486749315974,
          0.9910962612974696,
          0.8688648998925188,
          2.198209146587608,
          2.9693698230748278,
          1.8034964111976137,
          2.007266805363906,
          0.0442215000125733,
          1.5091126826033636,
          0.9666971978055737,
          3.02351773575742,
          1.1704961129670615,
          3.2800434932362776,
          2.3095166550601007,
          1.9970907877170831,
          -0.2059253956946594,
          2.9621497463378046,
          0.013637420350775947,
          0.9476203209047389,
          0.7031918951475942,
          2.3430419554278026,
          2.6569155494620524,
          0.4676585001859247,
          2.756521941078371,
          1.4361814906968668,
          1.4678288959676336,
          -0.254766181629841,
          2.9523586396182613,
          4.147864360291512,
          0.8466608998988245,
          3.3382209524145607,
          3.4507169543240837,
          4.13660719638918,
          1.8888256569983088,
          1.538327274404586,
          0.7899739177629248,
          3.8104537193432675,
          4.0177298492969715,
          3.186739563486018,
          2.1057628242881252,
          -1.1563855222612776,
          1.4874936930944538,
          1.5589383942859345,
          0.0998745338421696,
          3.9150443088206863,
          0.8549178317378854,
          -0.48501406566271354,
          2.1664367716831108,
          0.6396266533070711,
          2.900428225491019,
          1.8259198582793044,
          2.436105922869325,
          -0.9559941872722708,
          1.6233981262913773,
          -2.337354306021397,
          1.1128926842528357,
          3.77369732142631,
          0.6905492797885038,
          0.6094839628117712,
          0.1797924376563298,
          -0.9376219098218106,
          1.311893963957792,
          3.909046439543156,
          1.7645029547927946,
          1.6938338990894712,
          0.4541553819835237,
          3.2300773306720147,
          -1.340100120588244,
          1.3523043517902993,
          1.720035410859515,
          1.6675557188468666,
          1.4534441798151383,
          1.8654036802424026,
          2.828058151637236,
          2.2768136844779394,
          1.8334517807708135,
          1.8992836154075148,
          -0.5784162163738392,
          1.877908700314939,
          1.0544290779954353,
          0.5698564998216598,
          -0.2529311004140233,
          1.3024353453442055,
          1.2902618493307965,
          1.743310636790351,
          0.8310766637227296,
          3.31718941196592,
          2.040361386938875,
          3.048645413443834,
          2.050480479230591,
          3.562783305374247,
          3.7882272520877587,
          4.133039181192489,
          2.643388371361978,
          -0.06475710292713599,
          2.4892324067588327,
          0.47315566851665225,
          2.4513929940247823,
          -0.9980494613800994,
          1.4322752347955614,
          2.111439520312836,
          -0.008555511128250037,
          0.7337996208346839,
          -0.7025306290299027,
          2.512684665548875,
          1.400622333454821,
          1.9843411822315868,
          0.5423246989687404,
          -1.6904700410633569,
          1.5148169949933403,
          2.429809109321201,
          3.420158144918264,
          0.18699060787238958,
          2.4032929839874666,
          3.646741791656067,
          -0.008291880423120901,
          -1.7945329130362855,
          4.0179938591242434,
          2.2303408652519088,
          -0.8363052432136289,
          3.4929522590695266,
          2.380067739350311,
          1.2384456582472416,
          0.4722307951094855,
          3.4967916046579703,
          3.398252578847272,
          2.7556798565557985,
          0.004741001531177708,
          2.713083955620517,
          1.00641174126049,
          0.44452874090805017,
          1.2089767609057205,
          1.1218918917526834,
          1.1636042659020078,
          2.7840277178258246,
          0.4171930828621526,
          2.8949865722727406,
          4.118746355053646,
          0.8619781458733307,
          0.25458174549486023,
          0.5734715145492792,
          0.3991596766644707,
          -0.4309511258222174,
          -1.3298174534284462,
          1.161825014851879,
          3.339071628283704,
          3.1269356975119074,
          0.4699809293206276,
          1.5240958886716147,
          4.46500992486576,
          2.1041209104794554,
          0.2202900210797062,
          0.8688989440687243,
          1.9297481929926383,
          1.6917283624029724,
          1.3271043834742866,
          2.809365134047637,
          2.2045777553793977,
          1.3142081609594718,
          1.1091373486451443,
          -0.1011913925303638,
          0.9796098666941768,
          2.3497463865776735,
          1.8078229934168044,
          -1.52856607560834,
          3.311198530739426,
          3.207601279302238,
          3.1237547929395033,
          2.74088094746538,
          2.214659682185591,
          -1.4659222253981752,
          1.3525843805095703,
          0.8479847563095889,
          2.8175713878375754,
          0.15826856855339327,
          0.1959925245099584,
          0.1443654771981214,
          0.8077866629550721,
          3.0529076829749813,
          -0.10508414720921533,
          4.878504758980835,
          3.32802894670551,
          2.0643975763129747,
          1.6787813679754233,
          1.832340589841525,
          3.4874486089027044,
          5.362357736893573,
          1.538348702444245,
          3.4005074365545465,
          1.598669474040208,
          3.27231202984452,
          0.9715865065074143,
          1.6006265832424225,
          2.7995174340604625,
          4.897148225770402,
          1.4767003547477424,
          -0.36207258830082867,
          3.571324265274601,
          2.025308572708658,
          -1.166006819371267,
          2.7334189245863723,
          1.6408046804982048,
          2.441112666235139,
          2.5863471583446285,
          1.3913213116688217,
          -0.8336241857071269,
          3.4694681131537877,
          0.27630380977149094,
          2.1669578509218796,
          -0.6968321996435713,
          0.2453579876258687,
          -0.30350541085722016,
          -1.9755595177347203,
          2.586552914259809,
          -0.039603291423894016,
          -0.3319997904664117,
          0.02554905941835872,
          0.12749032072331434,
          -0.1121149202137996,
          1.8686348834642579,
          2.8914557751060124,
          -0.6032183713134509,
          1.2685176918346766,
          1.7412534264883421,
          3.35252983994445,
          5.338549105353573,
          1.9949619764203124,
          2.979643099848507,
          -0.46475603067858295,
          -1.8511448495680098,
          2.996911106233384,
          1.781137348387658,
          1.8908911068770302,
          0.6815234771587637,
          1.495857245320325,
          5.100296493542578,
          1.0368411662921673,
          2.3714975751025964,
          -0.4593697638491785,
          0.6811148007930168,
          1.2120904913919142,
          2.953387659482736,
          1.5168619129117493,
          3.69740278047931,
          4.766104779240875,
          3.0457669449513776,
          4.207188003859837,
          2.6755738419335646,
          -0.3370308408544419,
          0.8879480448768355,
          -0.335348113254306,
          1.9957779369979574,
          1.9016850742900375,
          2.593628963545206,
          2.8611936388821,
          3.0907740727187702,
          2.842494355331069,
          1.3310993480822297,
          2.2497281106907936,
          2.6646632911616686,
          1.7388518392657422,
          0.06573511155691969,
          0.5416442907549858,
          2.273295306185919,
          2.3442174271610963,
          3.217947768581672,
          3.5055161304002445,
          0.993871595914172,
          1.0953533429413833,
          3.4023659292630457,
          1.3264639879548128,
          1.3861258611389216,
          1.6881544610293258,
          1.799987324546664,
          -0.4749889750662598,
          2.6149553777090366,
          1.36960017345539,
          0.7805297943523128,
          2.5715922411785135,
          3.959615617014715,
          0.023028308584180146,
          -0.3642807249585227,
          1.7634150588083768,
          3.856785312671146,
          -1.6619597302105482,
          0.8853545298040528,
          2.0935269968990715,
          0.4065046401093467,
          1.8033726236797583,
          0.9979287106446149,
          4.216441710417122,
          2.0503253430574047,
          1.4112549833310224,
          3.088491164017703,
          2.768256640300047,
          2.0805223871815697,
          1.0758000765061104,
          1.1983954612964576,
          -0.7120212417696488,
          1.5803205897089707,
          0.7316237522837651,
          3.2906765299135357,
          -0.48200864491105133,
          0.06822988464174551,
          3.0773755603457045,
          3.54121198113111,
          2.8064611192996507,
          3.2004649100831895,
          1.7527669342639642,
          1.0014562162202107,
          3.342876277872679,
          1.0068456892211246,
          2.365868426931898,
          1.729087685594943,
          -0.8045455808446658,
          -0.619714474133367,
          0.8212148729897009,
          1.718591718692305,
          2.187857481381422,
          1.6920126056641762,
          2.7012302807417754,
          0.8541687546142218,
          3.819481023882726,
          0.8882828695355854,
          0.13341064299413163,
          1.363637432983097,
          1.4370906569954003
         ],
         "yaxis": "y2"
        }
       ],
       "layout": {
        "annotations": [
         {
          "font": {
           "size": 16
          },
          "showarrow": false,
          "text": "coords",
          "x": 0.225,
          "xanchor": "center",
          "xref": "paper",
          "y": 1,
          "yanchor": "bottom",
          "yref": "paper"
         },
         {
          "font": {
           "size": 16
          },
          "showarrow": false,
          "text": "coords",
          "x": 0.775,
          "xanchor": "center",
          "xref": "paper",
          "y": 1,
          "yanchor": "bottom",
          "yref": "paper"
         }
        ],
        "template": {
         "data": {
          "bar": [
           {
            "error_x": {
             "color": "#2a3f5f"
            },
            "error_y": {
             "color": "#2a3f5f"
            },
            "marker": {
             "line": {
              "color": "#E5ECF6",
              "width": 0.5
             }
            },
            "type": "bar"
           }
          ],
          "barpolar": [
           {
            "marker": {
             "line": {
              "color": "#E5ECF6",
              "width": 0.5
             }
            },
            "type": "barpolar"
           }
          ],
          "carpet": [
           {
            "aaxis": {
             "endlinecolor": "#2a3f5f",
             "gridcolor": "white",
             "linecolor": "white",
             "minorgridcolor": "white",
             "startlinecolor": "#2a3f5f"
            },
            "baxis": {
             "endlinecolor": "#2a3f5f",
             "gridcolor": "white",
             "linecolor": "white",
             "minorgridcolor": "white",
             "startlinecolor": "#2a3f5f"
            },
            "type": "carpet"
           }
          ],
          "choropleth": [
           {
            "colorbar": {
             "outlinewidth": 0,
             "ticks": ""
            },
            "type": "choropleth"
           }
          ],
          "contour": [
           {
            "colorbar": {
             "outlinewidth": 0,
             "ticks": ""
            },
            "colorscale": [
             [
              0,
              "#0d0887"
             ],
             [
              0.1111111111111111,
              "#46039f"
             ],
             [
              0.2222222222222222,
              "#7201a8"
             ],
             [
              0.3333333333333333,
              "#9c179e"
             ],
             [
              0.4444444444444444,
              "#bd3786"
             ],
             [
              0.5555555555555556,
              "#d8576b"
             ],
             [
              0.6666666666666666,
              "#ed7953"
             ],
             [
              0.7777777777777778,
              "#fb9f3a"
             ],
             [
              0.8888888888888888,
              "#fdca26"
             ],
             [
              1,
              "#f0f921"
             ]
            ],
            "type": "contour"
           }
          ],
          "contourcarpet": [
           {
            "colorbar": {
             "outlinewidth": 0,
             "ticks": ""
            },
            "type": "contourcarpet"
           }
          ],
          "heatmap": [
           {
            "colorbar": {
             "outlinewidth": 0,
             "ticks": ""
            },
            "colorscale": [
             [
              0,
              "#0d0887"
             ],
             [
              0.1111111111111111,
              "#46039f"
             ],
             [
              0.2222222222222222,
              "#7201a8"
             ],
             [
              0.3333333333333333,
              "#9c179e"
             ],
             [
              0.4444444444444444,
              "#bd3786"
             ],
             [
              0.5555555555555556,
              "#d8576b"
             ],
             [
              0.6666666666666666,
              "#ed7953"
             ],
             [
              0.7777777777777778,
              "#fb9f3a"
             ],
             [
              0.8888888888888888,
              "#fdca26"
             ],
             [
              1,
              "#f0f921"
             ]
            ],
            "type": "heatmap"
           }
          ],
          "heatmapgl": [
           {
            "colorbar": {
             "outlinewidth": 0,
             "ticks": ""
            },
            "colorscale": [
             [
              0,
              "#0d0887"
             ],
             [
              0.1111111111111111,
              "#46039f"
             ],
             [
              0.2222222222222222,
              "#7201a8"
             ],
             [
              0.3333333333333333,
              "#9c179e"
             ],
             [
              0.4444444444444444,
              "#bd3786"
             ],
             [
              0.5555555555555556,
              "#d8576b"
             ],
             [
              0.6666666666666666,
              "#ed7953"
             ],
             [
              0.7777777777777778,
              "#fb9f3a"
             ],
             [
              0.8888888888888888,
              "#fdca26"
             ],
             [
              1,
              "#f0f921"
             ]
            ],
            "type": "heatmapgl"
           }
          ],
          "histogram": [
           {
            "marker": {
             "colorbar": {
              "outlinewidth": 0,
              "ticks": ""
             }
            },
            "type": "histogram"
           }
          ],
          "histogram2d": [
           {
            "colorbar": {
             "outlinewidth": 0,
             "ticks": ""
            },
            "colorscale": [
             [
              0,
              "#0d0887"
             ],
             [
              0.1111111111111111,
              "#46039f"
             ],
             [
              0.2222222222222222,
              "#7201a8"
             ],
             [
              0.3333333333333333,
              "#9c179e"
             ],
             [
              0.4444444444444444,
              "#bd3786"
             ],
             [
              0.5555555555555556,
              "#d8576b"
             ],
             [
              0.6666666666666666,
              "#ed7953"
             ],
             [
              0.7777777777777778,
              "#fb9f3a"
             ],
             [
              0.8888888888888888,
              "#fdca26"
             ],
             [
              1,
              "#f0f921"
             ]
            ],
            "type": "histogram2d"
           }
          ],
          "histogram2dcontour": [
           {
            "colorbar": {
             "outlinewidth": 0,
             "ticks": ""
            },
            "colorscale": [
             [
              0,
              "#0d0887"
             ],
             [
              0.1111111111111111,
              "#46039f"
             ],
             [
              0.2222222222222222,
              "#7201a8"
             ],
             [
              0.3333333333333333,
              "#9c179e"
             ],
             [
              0.4444444444444444,
              "#bd3786"
             ],
             [
              0.5555555555555556,
              "#d8576b"
             ],
             [
              0.6666666666666666,
              "#ed7953"
             ],
             [
              0.7777777777777778,
              "#fb9f3a"
             ],
             [
              0.8888888888888888,
              "#fdca26"
             ],
             [
              1,
              "#f0f921"
             ]
            ],
            "type": "histogram2dcontour"
           }
          ],
          "mesh3d": [
           {
            "colorbar": {
             "outlinewidth": 0,
             "ticks": ""
            },
            "type": "mesh3d"
           }
          ],
          "parcoords": [
           {
            "line": {
             "colorbar": {
              "outlinewidth": 0,
              "ticks": ""
             }
            },
            "type": "parcoords"
           }
          ],
          "pie": [
           {
            "automargin": true,
            "type": "pie"
           }
          ],
          "scatter": [
           {
            "marker": {
             "colorbar": {
              "outlinewidth": 0,
              "ticks": ""
             }
            },
            "type": "scatter"
           }
          ],
          "scatter3d": [
           {
            "line": {
             "colorbar": {
              "outlinewidth": 0,
              "ticks": ""
             }
            },
            "marker": {
             "colorbar": {
              "outlinewidth": 0,
              "ticks": ""
             }
            },
            "type": "scatter3d"
           }
          ],
          "scattercarpet": [
           {
            "marker": {
             "colorbar": {
              "outlinewidth": 0,
              "ticks": ""
             }
            },
            "type": "scattercarpet"
           }
          ],
          "scattergeo": [
           {
            "marker": {
             "colorbar": {
              "outlinewidth": 0,
              "ticks": ""
             }
            },
            "type": "scattergeo"
           }
          ],
          "scattergl": [
           {
            "marker": {
             "colorbar": {
              "outlinewidth": 0,
              "ticks": ""
             }
            },
            "type": "scattergl"
           }
          ],
          "scattermapbox": [
           {
            "marker": {
             "colorbar": {
              "outlinewidth": 0,
              "ticks": ""
             }
            },
            "type": "scattermapbox"
           }
          ],
          "scatterpolar": [
           {
            "marker": {
             "colorbar": {
              "outlinewidth": 0,
              "ticks": ""
             }
            },
            "type": "scatterpolar"
           }
          ],
          "scatterpolargl": [
           {
            "marker": {
             "colorbar": {
              "outlinewidth": 0,
              "ticks": ""
             }
            },
            "type": "scatterpolargl"
           }
          ],
          "scatterternary": [
           {
            "marker": {
             "colorbar": {
              "outlinewidth": 0,
              "ticks": ""
             }
            },
            "type": "scatterternary"
           }
          ],
          "surface": [
           {
            "colorbar": {
             "outlinewidth": 0,
             "ticks": ""
            },
            "colorscale": [
             [
              0,
              "#0d0887"
             ],
             [
              0.1111111111111111,
              "#46039f"
             ],
             [
              0.2222222222222222,
              "#7201a8"
             ],
             [
              0.3333333333333333,
              "#9c179e"
             ],
             [
              0.4444444444444444,
              "#bd3786"
             ],
             [
              0.5555555555555556,
              "#d8576b"
             ],
             [
              0.6666666666666666,
              "#ed7953"
             ],
             [
              0.7777777777777778,
              "#fb9f3a"
             ],
             [
              0.8888888888888888,
              "#fdca26"
             ],
             [
              1,
              "#f0f921"
             ]
            ],
            "type": "surface"
           }
          ],
          "table": [
           {
            "cells": {
             "fill": {
              "color": "#EBF0F8"
             },
             "line": {
              "color": "white"
             }
            },
            "header": {
             "fill": {
              "color": "#C8D4E3"
             },
             "line": {
              "color": "white"
             }
            },
            "type": "table"
           }
          ]
         },
         "layout": {
          "annotationdefaults": {
           "arrowcolor": "#2a3f5f",
           "arrowhead": 0,
           "arrowwidth": 1
          },
          "coloraxis": {
           "colorbar": {
            "outlinewidth": 0,
            "ticks": ""
           }
          },
          "colorscale": {
           "diverging": [
            [
             0,
             "#8e0152"
            ],
            [
             0.1,
             "#c51b7d"
            ],
            [
             0.2,
             "#de77ae"
            ],
            [
             0.3,
             "#f1b6da"
            ],
            [
             0.4,
             "#fde0ef"
            ],
            [
             0.5,
             "#f7f7f7"
            ],
            [
             0.6,
             "#e6f5d0"
            ],
            [
             0.7,
             "#b8e186"
            ],
            [
             0.8,
             "#7fbc41"
            ],
            [
             0.9,
             "#4d9221"
            ],
            [
             1,
             "#276419"
            ]
           ],
           "sequential": [
            [
             0,
             "#0d0887"
            ],
            [
             0.1111111111111111,
             "#46039f"
            ],
            [
             0.2222222222222222,
             "#7201a8"
            ],
            [
             0.3333333333333333,
             "#9c179e"
            ],
            [
             0.4444444444444444,
             "#bd3786"
            ],
            [
             0.5555555555555556,
             "#d8576b"
            ],
            [
             0.6666666666666666,
             "#ed7953"
            ],
            [
             0.7777777777777778,
             "#fb9f3a"
            ],
            [
             0.8888888888888888,
             "#fdca26"
            ],
            [
             1,
             "#f0f921"
            ]
           ],
           "sequentialminus": [
            [
             0,
             "#0d0887"
            ],
            [
             0.1111111111111111,
             "#46039f"
            ],
            [
             0.2222222222222222,
             "#7201a8"
            ],
            [
             0.3333333333333333,
             "#9c179e"
            ],
            [
             0.4444444444444444,
             "#bd3786"
            ],
            [
             0.5555555555555556,
             "#d8576b"
            ],
            [
             0.6666666666666666,
             "#ed7953"
            ],
            [
             0.7777777777777778,
             "#fb9f3a"
            ],
            [
             0.8888888888888888,
             "#fdca26"
            ],
            [
             1,
             "#f0f921"
            ]
           ]
          },
          "colorway": [
           "#636efa",
           "#EF553B",
           "#00cc96",
           "#ab63fa",
           "#FFA15A",
           "#19d3f3",
           "#FF6692",
           "#B6E880",
           "#FF97FF",
           "#FECB52"
          ],
          "font": {
           "color": "#2a3f5f"
          },
          "geo": {
           "bgcolor": "white",
           "lakecolor": "white",
           "landcolor": "#E5ECF6",
           "showlakes": true,
           "showland": true,
           "subunitcolor": "white"
          },
          "hoverlabel": {
           "align": "left"
          },
          "hovermode": "closest",
          "mapbox": {
           "style": "light"
          },
          "paper_bgcolor": "white",
          "plot_bgcolor": "#E5ECF6",
          "polar": {
           "angularaxis": {
            "gridcolor": "white",
            "linecolor": "white",
            "ticks": ""
           },
           "bgcolor": "#E5ECF6",
           "radialaxis": {
            "gridcolor": "white",
            "linecolor": "white",
            "ticks": ""
           }
          },
          "scene": {
           "xaxis": {
            "backgroundcolor": "#E5ECF6",
            "gridcolor": "white",
            "gridwidth": 2,
            "linecolor": "white",
            "showbackground": true,
            "ticks": "",
            "zerolinecolor": "white"
           },
           "yaxis": {
            "backgroundcolor": "#E5ECF6",
            "gridcolor": "white",
            "gridwidth": 2,
            "linecolor": "white",
            "showbackground": true,
            "ticks": "",
            "zerolinecolor": "white"
           },
           "zaxis": {
            "backgroundcolor": "#E5ECF6",
            "gridcolor": "white",
            "gridwidth": 2,
            "linecolor": "white",
            "showbackground": true,
            "ticks": "",
            "zerolinecolor": "white"
           }
          },
          "shapedefaults": {
           "line": {
            "color": "#2a3f5f"
           }
          },
          "ternary": {
           "aaxis": {
            "gridcolor": "white",
            "linecolor": "white",
            "ticks": ""
           },
           "baxis": {
            "gridcolor": "white",
            "linecolor": "white",
            "ticks": ""
           },
           "bgcolor": "#E5ECF6",
           "caxis": {
            "gridcolor": "white",
            "linecolor": "white",
            "ticks": ""
           }
          },
          "title": {
           "x": 0.05
          },
          "xaxis": {
           "automargin": true,
           "gridcolor": "white",
           "linecolor": "white",
           "ticks": "",
           "title": {
            "standoff": 15
           },
           "zerolinecolor": "white",
           "zerolinewidth": 2
          },
          "yaxis": {
           "automargin": true,
           "gridcolor": "white",
           "linecolor": "white",
           "ticks": "",
           "title": {
            "standoff": 15
           },
           "zerolinecolor": "white",
           "zerolinewidth": 2
          }
         }
        },
        "xaxis": {
         "anchor": "y",
         "domain": [
          0,
          0.45
         ]
        },
        "xaxis2": {
         "anchor": "y2",
         "domain": [
          0.55,
          1
         ]
        },
        "yaxis": {
         "anchor": "x",
         "domain": [
          0,
          1
         ]
        },
        "yaxis2": {
         "anchor": "x2",
         "domain": [
          0,
          1
         ]
        }
       }
      },
      "text/html": [
       "<div>\n",
       "        \n",
       "        \n",
       "            <div id=\"23ef6513-2b9a-4bc4-9b10-357d8c85b863\" class=\"plotly-graph-div\" style=\"height:525px; width:100%;\"></div>\n",
       "            <script type=\"text/javascript\">\n",
       "                require([\"plotly\"], function(Plotly) {\n",
       "                    window.PLOTLYENV=window.PLOTLYENV || {};\n",
       "                    \n",
       "                if (document.getElementById(\"23ef6513-2b9a-4bc4-9b10-357d8c85b863\")) {\n",
       "                    Plotly.newPlot(\n",
       "                        '23ef6513-2b9a-4bc4-9b10-357d8c85b863',\n",
       "                        [{\"mode\": \"markers\", \"name\": \"0\", \"type\": \"scatter\", \"x\": [3.961661445574057, 3.7879759023401225, 1.9345941376897937, 3.9405005929494465, 2.8448643798405073, 4.417186139274191, 5.035031400273705, 3.9393575330945665, 3.3190889903170526, 3.8572664370702596, 4.378267501859045, 4.357347647869521, 2.806004489928367, 3.433646095847995, 4.430825060765115, 3.9881118810062905, 3.139726348286637, 4.551634060494883, 3.7040403749897144, 4.418028528505911, 3.6298417735473336, 4.045028328392746, 4.058011845480177, 2.9394420513461297, 3.671320305729038, 3.6468111286917435, 4.374018585313994, 4.1403449462364925, 3.2794583363879006, 4.1801301814877485, 1.8851912757931828, 4.388949867045919, 3.5660442338016796, 3.1139028186049083, 3.3200764471529807, 3.849202221260172, 5.078835683558285, 3.4689485366887345, 4.818045356525845, 3.4876674170705573], \"xaxis\": \"x\", \"y\": [0.10456899377793871, 0.32809743756648685, 0.18636779693232625, 0.5193838873251571, -0.8791323587651441, 1.2384001965612481, 0.16721973886605698, 0.5831571645408423, -0.5167176466878569, -0.5153239124048338, 0.6816179925837416, 0.03130273383246078, 1.1475819425107256, -0.25998366454925387, -0.8140707436059617, 0.3832295893516101, -0.7286356514359366, 0.9069730143693735, -0.7449563208593124, 0.27875594157370137, 0.9751890765523382, -0.7777080227769141, -0.16506638383696612, 1.5581309823098701, 0.30053285298825333, -0.7336552319818423, -0.05099335695846599, 0.9005928772612396, -0.8961872219085207, -0.3890668747752919, 0.5018150316697366, 0.011496853836238214, 0.21687237010177768, -0.7678349554992344, 0.3285141119378111, -0.42562156303320986, -0.7521016547791196, -1.5415091146062325, -1.0280115968202805, 1.6404130116882492], \"yaxis\": \"y\"}, {\"mode\": \"markers\", \"name\": \"1\", \"type\": \"scatter\", \"x\": [-1.6601090873919537, -3.9833564014873817, -2.7746266599106124, -3.432026837290724, -2.4410429557109627, -1.6120037533787857, -2.8956417056698394, -2.7514708529433096, -2.5669455122512166, -0.701253018508994, -1.8081316535051013, -0.035535059414298055, -2.290653082301737, -1.1547078459361741, -2.494304077865143, -2.344610905212922, -2.834984926826341, -3.1915354931559765, -2.459964738014074, -3.2864207351432757, -1.0128664239149479, -0.7313778498307578, -1.5358711782770809, -2.295791736946358, -2.232571454567465, -3.071579158289737, -2.4493777293994516, -1.5669679182676737, -2.550367409501984, -2.532657716769992, -2.2537382676238806, -3.8938739739824837, -2.597064777279132, -2.4868690499330373, -1.001251043887711, -2.216347231509423, -1.148551490154552, -3.207558004175432, -2.7509555452513936, -2.4470014133399625, -3.0415487150099323, -2.5326972763332867], \"xaxis\": \"x\", \"y\": [0.4334588135778569, -0.46653108866018417, -1.0901969449781088, -1.0803185371498654, -1.348224090418346, -1.7795884790579928, -0.6984232389932143, -1.8757433367374434, 0.5238405813474142, -2.278372264087729, -0.5376318125031802, -1.9192162836789122, -0.7840930376452327, -2.4498787736391727, -0.5888876889377411, -1.2898528946041437, -1.014169030513169, 0.5062643649648783, -0.6581539798772668, -1.847597549626408, -0.7524719739151539, -2.1815086728677437, -2.3462887536614807, -1.029066097203342, -0.8880052661062298, -0.7995678985124449, -1.064363052753622, -1.4418129560430413, 0.3832826598453972, -1.9675758914401278, -1.8718748426791547, -1.0046052380675046, -2.0137443007168385, -1.4384124017642785, -1.9661570421708416, -0.3844470550711227, -1.981508972533582, 0.4267581645568958, -0.9100428450351195, -1.668410897131914, -1.0287422674943674, -1.6922522350336349], \"yaxis\": \"y\"}, {\"mode\": \"markers\", \"name\": \"2\", \"type\": \"scatter\", \"x\": [-2.166165645336686, -1.4813372768565378, -1.8216611294498621, -1.3983545120346261, 0.08632818843078398, -3.3108620806449305, -1.8407159260571548, -2.514569296644766, -3.3915083556474297, -1.7989030952852048, -1.4051280771880479, -1.545592191489789, -2.2145300889549255, -2.526428763519964, -2.679644230092953, -0.7721240994561825, -3.273052776775147, -2.4956563708818793, -2.397164114822394, -1.6465293184426524], \"xaxis\": \"x\", \"y\": [2.5398443976955525, 3.370739758371434, 3.5845469964346446, 3.100627825747218, 1.865361138319609, 3.3952771532499666, 1.6487953521512981, 3.0602938393903996, 3.7570174110194126, 3.1112184494742214, 0.15763620689578076, 3.0501801633025405, 1.8410259785823073, 3.986017914589711, 4.661833332048652, 3.6103332643724566, 3.21942083481818, 3.210189509185247, 2.4227926751445095, 3.5655901325257977], \"yaxis\": \"y\"}, {\"mode\": \"markers\", \"name\": \"3\", \"type\": \"scatter\", \"x\": [-0.24249539994260166, -0.27057005877175655, 2.637721967808482, 0.5648820081763268, -1.9983088243943499, -2.5196042946123263, -0.13642273391841347, 0.2849887464118559, -2.486814598057555, 4.354375365842601, 3.5307173547767885, 2.9649864727428326, -0.4986534752265418, -1.3811594685627553, -2.1887912348542105, -1.7194491775442668, 4.339632996869344, 3.3036187662169434, -0.5541140542465687, -0.010509034999900895, -2.9912760354004293, -2.924830610349585, -3.141672843937584, -2.3273406251204953, -2.6073252448166797, -2.327091231577329, -3.7657148325667804, -2.205400360722947], \"xaxis\": \"x\", \"y\": [0.02600095637241775, -0.6754980756549376, -0.04796087116996233, -0.5137476742878944, -1.2758116728319548, -2.422031285404483, -0.8288603962543094, 0.6060487240327752, -0.8300081059738162, -0.07367728993799895, 0.743112240952637, -0.14460153924810185, -0.5756539984454264, 2.2984827500055496, -1.381301950333078, -1.5431227503261418, -0.6337184964971905, 0.7590948199849141, -0.04191704095548447, -0.7020625782496247, -1.2006963318508141, -0.4373906490141385, 4.135090185981335, -1.584570475295529, -2.119861839767546, -2.0152239140233608, -1.2554102419116844, -0.5629490490506408], \"yaxis\": \"y\"}, {\"marker\": {\"color\": \"rgba(135, 206, 250, 0)\", \"line\": {\"color\": \"red\", \"width\": 5}, \"opacity\": 1, \"size\": 25}, \"mode\": \"markers\", \"showlegend\": false, \"type\": \"scatter\", \"x\": [-2.486814598057555], \"xaxis\": \"x\", \"y\": [-0.8300081059738162], \"yaxis\": \"y\"}, {\"marker\": {\"color\": [4.2889194006564995e-87, 3.237646901775355e-80, 3.768761203010173e-74, 3.363104190771024e-68, 5.706608565809597e-63, 1.1049218033344387e-58, 2.6145577414678672e-55, 9.029033203886136e-53, 5.680052316583437e-51, 6.502160321500656e-50, 1.1362369066422102e-49, 2.7610590844925855e-50, 9.33567601208581e-52, 4.5934427051451205e-54, 3.5160956826995096e-57, 4.562184502923866e-61, 1.0889185975719091e-65, 4.771277628336157e-71, 3.2700548744393713e-77, 2.710805164499631e-84, 1.0645863326876288e-71, 3.547086753395148e-65, 1.0604163813113513e-59, 9.394608874091663e-55, 6.807716155106781e-50, 7.950934079082991e-46, 1.2168759790265374e-42, 2.72279710564601e-40, 1.1189547038725102e-38, 9.94487919794807e-38, 1.6477011612194751e-37, 4.254037689461242e-38, 1.6485488788654702e-39, 1.0092694640129579e-41, 1.0599888137669528e-44, 2.1363618964079147e-48, 1.0737016360404398e-52, 1.361943090079136e-57, 3.492109238382192e-63, 1.084711215249161e-69, 1.3348288608479407e-58, 2.0010031610524098e-52, 2.658531775948156e-47, 3.880526422185358e-43, 3.158492578393336e-39, 1.8996314684875272e-35, 1.922340134040895e-32, 3.0391000672149518e-30, 8.614403437142856e-29, 5.590300532047396e-28, 8.601766222283583e-28, 2.4653634679403053e-28, 1.155447526435829e-29, 9.489882156159427e-32, 1.6307387102550993e-34, 7.094975846435467e-38, 1.0426505553443312e-41, 4.1027293330668816e-46, 3.052769145735795e-51, 3.174211927196095e-57, 9.418267592767557e-48, 6.277058984328694e-42, 5.076123361495926e-37, 2.62696721415312e-33, 2.4272587560150805e-30, 2.038672485276202e-27, 1.2077950297438577e-24, 1.4271441434359936e-22, 3.264915589856587e-21, 1.662405791217458e-20, 2.2941454183409e-20, 7.755115927578014e-21, 4.87235588531671e-22, 5.6028740851386735e-24, 2.069796262108834e-26, 2.419068041821937e-29, 1.2386939937921286e-32, 1.645724097885822e-36, 4.0241669033556e-41, 1.333891639476529e-46, 4.443559655610497e-39, 1.2257296892838904e-33, 3.637190746871373e-29, 1.256974836215465e-25, 5.585413870947375e-23, 4.515949833090571e-21, 4.620379552190951e-19, 3.5592608652911044e-17, 7.085041964032489e-16, 3.572088028041512e-15, 4.9860213566749295e-15, 2.134255669510198e-15, 2.4103888839416045e-16, 6.361949305769182e-18, 4.980938566399363e-20, 1.3124744014026217e-22, 1.5521210801620414e-25, 9.313788250477655e-29, 1.1877209618163562e-32, 1.8426117981940384e-37, 4.9177991128508194e-32, 2.746261258286689e-27, 2.5533451980811536e-23, 4.120413847735643e-20, 1.0828226299685476e-17, 4.81288849464282e-16, 5.121611795540706e-15, 8.730911800294461e-14, 1.340106121160406e-12, 7.0127175413195305e-12, 1.2662369384665699e-11, 8.109934696764673e-12, 1.873602741654441e-12, 1.3660571627043356e-13, 2.5858979163343464e-15, 1.3889397026663057e-17, 4.525320927203774e-20, 1.5588373551346195e-22, 8.633265687405118e-26, 4.672199154533607e-30, 4.034198108433088e-26, 6.029477075635528e-22, 1.01083101598722e-18, 2.6528754964795767e-16, 1.9709575838529727e-14, 5.219927647450896e-13, 3.853447296046989e-12, 9.35843991785187e-12, 4.286209140244853e-11, 2.594763184587084e-10, 6.561462776833269e-10, 6.822833150838698e-10, 3.174098450569399e-10, 6.704559506411911e-11, 5.49781844430405e-12, 1.695814767619007e-13, 2.548098365635457e-15, 1.5832738369184334e-17, 1.9337511957258673e-20, 2.657721166664241e-24, 4.894550214560727e-22, 2.9861097973349917e-18, 2.2223120798706497e-15, 2.4469086948592764e-13, 5.255369356724259e-12, 3.7312170235795734e-11, 1.3608113849251787e-10, 2.3923695919171824e-10, 2.6072233442095875e-10, 4.045761155585043e-10, 1.1120124688551798e-09, 2.445650317441011e-09, 2.8547643023367587e-09, 1.5706014211493431e-09, 4.1448075892839085e-10, 5.308270884813604e-11, 2.7255235773737647e-12, 3.9972092391221166e-14, 1.0791472545550078e-16, 3.4828786447444394e-20, 4.2677072109515386e-19, 5.944208516239389e-16, 1.1969642072070251e-13, 5.101979957313793e-12, 6.87145587325865e-11, 4.997326277311118e-10, 2.115213685118432e-09, 3.797315302030212e-09, 2.9355043163979236e-09, 1.546238522094565e-09, 1.1757309180773938e-09, 1.0207967940877717e-09, 1.297440997957817e-09, 2.321713269135277e-09, 2.329709520303444e-09, 8.570994520117337e-10, 1.0000394313671578e-10, 3.1491584106681473e-12, 1.9089998766964532e-14, 1.460345185150267e-17, 8.150967438258274e-17, 4.200639125338636e-14, 3.018376108374842e-12, 4.5120280882778286e-11, 2.1213890143176236e-10, 4.414310441818128e-10, 8.458556719523116e-10, 2.0720579726292364e-09, 3.627774614277315e-09, 3.900724939130068e-09, 2.6299920876530693e-09, 1.2005084481103211e-09, 8.905442414152695e-10, 1.1226802160777734e-09, 1.0095326327581418e-09, 7.331197596574689e-10, 2.609171088902943e-10, 2.1062831312148293e-11, 2.815116521856179e-13, 4.90465375082906e-16, 3.584111734620891e-16, 7.002240735918169e-14, 2.1192723579969522e-12, 1.5862960131666665e-11, 5.163364440723616e-11, 2.2567541056362504e-10, 1.383264624485711e-09, 3.834618810820439e-09, 4.2662903405881585e-09, 2.6140462915976124e-09, 1.99199218491654e-09, 2.2951799244670243e-09, 2.166226296526682e-09, 1.1910322794910519e-09, 5.718183099025971e-10, 2.85777456566363e-10, 1.0060857351971563e-10, 1.631753363599667e-11, 5.209066186226805e-13, 1.9431663393119802e-15, 4.14019250368154e-17, 2.6021444235992817e-15, 2.856321104679796e-14, 3.32294433420874e-13, 9.924982042282856e-12, 1.0595239663139512e-10, 4.702382826740772e-10, 1.3490463400265583e-09, 3.0198167628476127e-09, 4.374835605171138e-09, 3.559620002960875e-09, 1.980986773494405e-09, 1.7457875827970825e-09, 2.6754718852318514e-09, 1.9713201632941253e-09, 4.615803121327156e-10, 1.272034017850229e-10, 6.304108511400947e-11, 4.54549615978642e-12, 2.935611795722684e-14, 1.927338121800425e-19, 3.6642226681770406e-18, 4.1436805995355776e-16, 5.854143035248699e-14, 1.961650716279529e-12, 2.0768750679392058e-11, 8.824548856747853e-11, 2.0010577186502962e-10, 4.5653069527039606e-10, 8.701980040751312e-10, 1.5445144339975626e-09, 1.983834804110155e-09, 1.4298906417701622e-09, 7.859141323318113e-10, 1.067306812177755e-09, 8.497996440807945e-10, 1.4305492508818705e-10, 2.6087731590447624e-11, 4.941425963067909e-12, 7.650167409471536e-14, 6.950204748301521e-23, 1.2819423056516159e-20, 6.990657597433459e-18, 6.650256536566169e-16, 1.6985121523306258e-14, 1.904452671282824e-13, 1.336094420443839e-12, 7.604828751207298e-12, 4.8360055391244017e-11, 2.0327001406221604e-10, 4.3796752122849763e-10, 7.4191783090772e-10, 1.1926880381507696e-09, 8.241982219423141e-10, 2.830329638873374e-10, 2.8189891046904716e-10, 1.1437833085786591e-10, 8.335384005064244e-12, 4.5464743970675967e-13, 1.1400739397338278e-14, 1.2430351896192387e-26, 2.5062266673578403e-23, 7.345754744276075e-21, 3.116381539833773e-19, 3.809963833622627e-18, 3.616696671013851e-17, 4.893477740280983e-16, 9.071045729965068e-15, 1.950778802823075e-13, 3.281783705038497e-12, 2.63694351162914e-11, 9.159147622989775e-11, 2.3234019982894322e-10, 4.027118908615748e-10, 1.7882659813585005e-10, 4.76556608114268e-10, 5.56211059110909e-10, 5.2697479072497225e-11, 3.9203336527391017e-13, 4.775510398433729e-16, 3.232330779576854e-30, 6.707277072345492e-27, 9.56064223302673e-25, 1.6317448754500128e-23, 5.884993104782798e-23, 3.0353510467301965e-22, 7.076834593909276e-21, 3.3862033453335874e-19, 2.927221900968607e-17, 2.721408513758392e-15, 1.2398958482267515e-13, 2.0285075544323976e-12, 1.3891782701530958e-11, 3.756893794292563e-11, 2.8974694696063338e-11, 2.1370741666824402e-10, 5.458412192885804e-10, 8.49506771954693e-11, 7.478472422058986e-13, 3.56249225619682e-16, 2.2033750726529086e-34, 5.5154016019453136e-31, 7.519894592327004e-29, 1.2042501136582753e-27, 4.273309691723186e-27, 1.1669307710870057e-26, 1.2759405953376706e-25, 3.76067022052953e-24, 9.721687440658091e-22, 5.257059770108998e-19, 1.9166219740599563e-16, 1.3981106971314746e-14, 2.3521928882713185e-13, 7.922328981070142e-13, 8.956881215572983e-13, 2.152653516994388e-11, 7.171412104810754e-11, 1.2546309966497547e-11, 1.0963019681796447e-13, 4.558639906593554e-17, 3.6079128471017557e-39, 1.6787319474831893e-35, 6.126307005384117e-33, 2.2072953835907954e-31, 1.7122534477265743e-30, 7.164825644397487e-30, 6.153406464326268e-29, 3.429794436406332e-27, 6.480762329595465e-25, 4.582079717248397e-22, 4.2717176782624925e-19, 5.750652220784035e-17, 1.0269566006970364e-15, 3.0141915904202036e-15, 1.3377103592300321e-14, 5.419560310122022e-13, 1.3573527960601467e-12, 1.744318669230269e-13, 1.0836562934544198e-15, 3.087432376282209e-19, 9.4396817703799e-44, 9.751500680068313e-41, 1.2581230005061763e-37, 1.5606093470192734e-35, 4.559673217175394e-34, 1.311108644442729e-32, 5.591784417026479e-31, 5.362839019898747e-29, 1.0622082703464795e-26, 3.625749689171817e-24, 9.663061036255509e-22, 6.311210453309213e-20, 6.972311668766175e-19, 1.7478810365617865e-18, 1.4367441424359063e-16, 2.7125628380814918e-15, 3.167618953910648e-15, 2.030411867884844e-16, 6.545083158509234e-19, 9.883475170873875e-23, 6.012525530613373e-48, 2.148919963461531e-46, 3.4445114752359293e-43, 2.278668210841621e-40, 3.277883259383396e-38, 4.906641764297035e-36, 1.039579232397343e-33, 1.968539349404766e-31, 3.4890286657536644e-29, 4.866264012260897e-27, 3.54140737586745e-25, 7.999810188667497e-24, 4.7032859432333936e-23, 5.135147022270901e-21, 3.08314145488562e-19, 1.6518264891425766e-18, 6.357264720958636e-19, 1.504447234492288e-20, 1.9452699674081182e-23, 1.2510987820878425e-27, 2.733664386451873e-09, 1.4039573904943495e-10, 1.6692528658166466e-10, 1.2960036109968906e-09, 9.641170525935835e-10, 3.2737374747289887e-09, 2.369278028102818e-09, 1.380163877270748e-12, 1.8867303624969924e-09, 3.0014011412370684e-10, 2.6726006300493245e-09, 3.9638439673159975e-10, 1.5072610464417126e-09, 5.942081404864126e-10, 4.7630734070897645e-20, 6.196016981677067e-18, 1.356857686643598e-09, 3.1224498993782874e-09, 2.9442158023535128e-09, 3.014843600233757e-10, 8.95883102692787e-11, 1.6070733592759965e-09, 1.0003113294176034e-09, 4.516099408412472e-09, 3.308719387305195e-22, 2.0524306815277776e-09, 7.941811637229036e-10, 1.1142674364664423e-12, 2.1315406273550656e-09, 9.236285752373502e-10, 1.5637762363672305e-09, 1.9464627113053688e-11, 8.87804631183198e-10, 1.0579823485319916e-09, 7.326984996290036e-10, 4.263638008541055e-09, 1.2112091432466083e-09, 3.3649579827785644e-13, 7.320362946847151e-13, 2.4462668029532514e-09, 6.893573655343347e-10, 1.0571705857187023e-09, 5.712553877928002e-09, 7.422323372669307e-11, 7.919893343632602e-10, 2.680828914546388e-10, 1.171105370719774e-10, 8.725242013664395e-10, 4.3977812189499566e-13, 4.896470096778251e-09, 2.3716327749027063e-09, 1.6136583251489178e-15, 7.020294167144586e-10, 3.2745933177735966e-10, 1.5448745619488463e-09, 1.6199833191599964e-09, 6.366986734484565e-10, 1.8632206495141347e-20, 1.4969434071013684e-09, 1.5757775344257443e-10, 1.5873747563082888e-10, 7.804554300083108e-10, 5.069205019191229e-10, 2.876346257370027e-12, 2.1926268228987184e-09, 4.752287632056996e-09, 3.3822956423502875e-09, 5.333125356005425e-10, 5.29560265382817e-10, 1.1006924260364327e-09, 2.3312078301350937e-10, 1.8441048835431722e-09, 1.8866553108033337e-10, 1.989296378716675e-09, 2.447801338595431e-09, 6.645596716523782e-10, 2.2141243268002254e-09, 2.122139355744742e-12, 1.0454019854972437e-09, 2.430431057577288e-12, 1.1606681121600933e-16, 3.6778387868639705e-12, 4.684957894042173e-10, 1.5096789582440235e-10, 5.374205987491877e-10, 1.9226481317405046e-10, 1.1846535668651445e-09, 5.183566955403252e-12, 1.3923975054179126e-10, 2.3305951062524347e-12, 1.736020006880825e-09, 3.860182721469138e-09, 5.230753589258936e-09, 3.541474038313214e-14, 2.3925987543720804e-10, 2.2689840451405966e-11, 1.6876070257170519e-09, 1.1551284290575912e-09, 2.9259845047161376e-09, 1.125563428102243e-27, 1.5436624507897536e-09, 2.197703797521511e-12, 2.5467305806474455e-09, 2.59703983195595e-10, 3.615301142803182e-10, 8.547109244755207e-12, 1.6149703719106404e-09, 1.9263091935521717e-09, 3.846098201945429e-09, 3.2669659178008595e-11, 4.297154413682846e-29, 1.677325257293633e-10, 6.634550454727059e-10, 2.5100820234287573e-14, 2.7578004480590797e-09, 1.0552717016009834e-09, 4.0791303108869474e-13, 1.9084380062410362e-11, 6.231877616087243e-10, 6.323141787741977e-14, 8.08144048974582e-10, 5.752988263020058e-09, 2.2504731849902145e-12, 1.887523167072766e-09, 1.7790884074651872e-17, 8.27253120375824e-11, 2.0705396999500607e-09, 1.7136668642893202e-15, 2.772386315594647e-09, 5.73092931479196e-11, 3.6061475443855257e-09, 3.631290229816409e-09, 4.15188332093814e-09, 2.7836668937680074e-11, 1.323171069076847e-09, 1.688408425273776e-11, 5.32111878194832e-10, 8.727842177293022e-10, 3.516347260857493e-09, 9.757305607465575e-10, 2.7942131487130842e-14, 1.923955778792763e-09, 8.367181134151805e-10, 1.9037248775753806e-10, 2.8482727942763215e-09, 9.424364922043896e-10, 1.7873799682415612e-21, 2.2582318107546277e-09, 9.61530241548671e-10, 1.743945829879809e-11, 5.264476949188726e-10, 7.738921859679351e-10, 3.329257978005631e-09, 4.967308315537353e-09, 1.658992722818023e-09, 9.799130684365124e-13, 1.9948563435757444e-10, 1.9872209152649118e-09, 2.549927633246954e-09, 7.767559159400718e-11, 1.9252071261929414e-09, 6.218050700436594e-10, 1.4009265746596114e-09, 1.221464021435059e-10, 3.213982135421646e-11, 2.245447728764449e-12, 5.7790692167217185e-12, 5.43599037040653e-10, 1.4521578006782017e-09, 5.219332811039428e-09, 1.1981425163904733e-09, 2.8327267479439292e-11, 1.381780956084753e-09, 1.0512265134599437e-09, 1.8878801887578113e-10, 4.6403348569254323e-10, 2.850165901932028e-11, 4.003699541550023e-10, 1.9638569892651906e-09, 2.8412892865008186e-09, 1.5424163918550449e-16, 3.02165530258145e-12, 6.906598343385053e-10, 1.4047449220592325e-09, 1.5734269187326872e-10, 1.6495495382594395e-14, 1.1736142680568502e-09, 8.33053961241439e-11, 1.6775893486342892e-09, 1.8222224022154008e-19, 7.104095128237065e-12, 1.0803704437613532e-09, 1.433437407948073e-17, 1.3280808723693008e-10, 1.928554795662704e-09, 2.5151699481410113e-09, 9.009482351130593e-13, 8.5149484886573e-14, 6.325128875504157e-11, 2.014018418835406e-09, 2.8996740477667685e-10, 8.136385407917283e-10, 8.415256924694655e-10, 4.1399878021005594e-09, 1.1558939296647277e-13, 3.386119420218887e-09, 2.286887158300111e-09, 8.299100834534591e-10, 1.0966360339767731e-10, 1.5949122977335683e-09, 8.53897252508124e-14, 3.4375623339355997e-10, 3.99043212968976e-09, 2.843840888526495e-11, 4.148963394823914e-10, 6.736522563222708e-11, 1.831948052045108e-14, 5.981407491701769e-10, 6.385062495183102e-10, 9.110065466274635e-10, 4.75299799045197e-10, 1.9800140308418789e-10, 1.5737713672304002e-14, 1.275958415167392e-09, 1.5716776076470626e-09, 1.4082894561009047e-12, 2.3764665962432843e-09, 2.0579407613143305e-09, 7.739242660422143e-15, 1.4344071342280965e-09, 1.0603756994970397e-09, 1.2107974773735842e-09, 1.381583356273691e-09, 5.852546397285901e-14, 1.2302134106506343e-09, 1.4796478427178353e-11, 1.8461707353512096e-09, 2.4108056954794916e-14, 5.709765346874857e-10, 4.357199139724374e-10, 6.004013138882973e-10, 1.7565243378364367e-13, 1.4477290072766485e-09, 2.700143419433451e-16, 3.33687208764943e-09, 2.10282694970657e-09, 2.765626614665703e-10, 3.1702451009737177e-09, 3.7555898295318655e-09, 1.1741070318185628e-09, 4.6155158183469786e-11, 2.8146728186335295e-10, 4.13746744974854e-16, 1.9070143871924442e-15, 4.351406365940736e-10, 7.734069636511134e-12, 2.3210193906819536e-09, 8.539423364006355e-10, 1.461027287432719e-10, 1.0479505265905844e-24, 2.1990770723814656e-09, 1.1100553085706504e-10, 8.544255858317333e-10, 2.7928485338357406e-10, 3.35609624698936e-09, 6.93735766513179e-10, 1.7153398236344982e-09, 1.321176215096336e-15, 1.0749938506416541e-09, 1.2691664063065898e-10, 1.0196837153281802e-10, 1.875501689042962e-09, 2.8159189521858813e-11, 1.2998886304417813e-09, 5.271920084080554e-13, 7.658380558603195e-10, 1.203787227919534e-13, 1.6471305008219632e-09, 1.4589550429670232e-11, 2.076222931066781e-10, 2.0890199659056e-11, 1.8099843075427062e-10, 7.770282320997707e-11, 1.0614009815240405e-09, 1.2788876019094246e-09, 4.915075116912008e-15, 1.5492339990233975e-14, 2.5383641731981037e-09, 1.3113320670721683e-09, 5.3036694256789705e-12, 1.8059628164466087e-09, 5.196607829980901e-11, 1.8157762350045317e-10, 1.17148785960732e-15, 4.705001905054569e-10, 2.0424641361292464e-10, 1.1864308819430438e-15, 2.2538148616323827e-10, 2.9264757471652086e-20, 1.2458540455180648e-09, 5.7348805318445933e-11, 3.611849996358867e-10, 5.8151876495780235e-15, 5.759832619608218e-19, 8.733999227569404e-10, 7.54483741373625e-10, 1.2515592620881807e-11, 2.448758134432977e-09, 3.6669814780126304e-18, 7.116350320611658e-11, 8.892750997330332e-10, 1.287362369209711e-10, 1.1171387708556073e-09, 9.922293746311004e-10, 9.996585414148434e-10, 1.5658688323559686e-09, 5.564271623396991e-11, 4.494510852648324e-15, 1.2472568351605166e-09, 1.2898931498422453e-11, 1.0505423275204833e-09, 2.6244574924545712e-12, 2.420662909113773e-09, 7.812392340454457e-10, 1.854839035120669e-09, 2.293984013659206e-10, 1.1050593056917395e-09, 1.866179510648068e-09, 7.660590452329702e-11, 9.57223531845734e-10, 2.8251662053870387e-09, 2.7055842820554132e-09, 1.895477477356458e-09, 1.5079590055060645e-12, 7.23437983701208e-10, 6.714292051298485e-10, 1.105897392872026e-09, 1.5537156906012754e-09, 7.43497203952189e-10, 7.804499244643963e-12, 1.186760866605436e-09, 3.3347133053182554e-09, 3.767069316175027e-11, 9.774775402014975e-10, 2.608507467674313e-09, 5.547038528956336e-13, 1.7481392806920239e-09, 8.360453799926852e-10, 1.5231677032403271e-09, 1.172090426672077e-13, 4.67034661590087e-09, 1.69899795625618e-14, 1.447159451505807e-11, 3.742127695829233e-09, 5.400266641808646e-10, 2.016926763222703e-09, 2.5701987678505317e-11, 7.995170156398933e-15, 4.4034089891401177e-10, 1.2709209913997299e-09, 5.656069500682644e-09, 1.8942164491357094e-09, 2.4500313107283515e-09, 3.7858138657968735e-12, 1.2500531392333933e-11, 2.289679563765428e-09, 2.6839253615224e-10, 6.782018094227969e-10, 3.319633233860129e-13, 1.28993611209334e-09, 3.887418593857912e-09, 1.21341782532972e-10, 2.3857078162771825e-09, 1.0142772000136406e-24, 1.9085953180314034e-17, 2.3599201505437793e-10, 4.718697367803459e-11, 2.5007362257966603e-10, 2.1331996658007836e-10, 5.575784687502214e-10, 3.682582916438423e-10, 2.6999348624069545e-09, 1.0956397930373019e-11, 1.7732939459838237e-10, 1.3312216646570196e-10, 2.1165515233484232e-09, 1.9476711078748724e-09, 2.9914808851609735e-10, 1.5920068025740168e-10, 2.8365498157419523e-10, 8.675502319549547e-10, 2.9225026019567394e-09, 4.805279056998622e-13, 8.86546432687783e-14, 3.537672411825466e-09, 2.0142372801999233e-10, 3.390248778437105e-10, 9.105020832863793e-11, 4.355439480755221e-12, 1.2660728400543751e-09], \"colorbar\": {\"title\": {\"text\": \"ColorBar\"}}, \"colorscale\": [[0.0, \"#440154\"], [0.1111111111111111, \"#482878\"], [0.2222222222222222, \"#3e4989\"], [0.3333333333333333, \"#31688e\"], [0.4444444444444444, \"#26828e\"], [0.5555555555555556, \"#1f9e89\"], [0.6666666666666666, \"#35b779\"], [0.7777777777777778, \"#6ece58\"], [0.8888888888888888, \"#b5de2b\"], [1.0, \"#fde725\"]], \"line\": {\"width\": 0}, \"opacity\": 1, \"size\": 5, \"symbol\": \"circle\"}, \"mode\": \"markers\", \"type\": \"scatter\", \"x\": [-3.9833564014873817, -3.9833564014873817, -3.9833564014873817, -3.9833564014873817, -3.9833564014873817, -3.9833564014873817, -3.9833564014873817, -3.9833564014873817, -3.9833564014873817, -3.9833564014873817, -3.9833564014873817, -3.9833564014873817, -3.9833564014873817, -3.9833564014873817, -3.9833564014873817, -3.9833564014873817, -3.9833564014873817, -3.9833564014873817, -3.9833564014873817, -3.9833564014873817, -3.5063989233270836, -3.5063989233270836, -3.5063989233270836, -3.5063989233270836, -3.5063989233270836, -3.5063989233270836, -3.5063989233270836, -3.5063989233270836, -3.5063989233270836, -3.5063989233270836, -3.5063989233270836, -3.5063989233270836, -3.5063989233270836, -3.5063989233270836, -3.5063989233270836, -3.5063989233270836, -3.5063989233270836, -3.5063989233270836, -3.5063989233270836, -3.5063989233270836, -3.0294414451667855, -3.0294414451667855, -3.0294414451667855, -3.0294414451667855, -3.0294414451667855, -3.0294414451667855, -3.0294414451667855, -3.0294414451667855, -3.0294414451667855, -3.0294414451667855, -3.0294414451667855, -3.0294414451667855, -3.0294414451667855, -3.0294414451667855, -3.0294414451667855, -3.0294414451667855, -3.0294414451667855, -3.0294414451667855, -3.0294414451667855, -3.0294414451667855, -2.552483967006487, -2.552483967006487, -2.552483967006487, -2.552483967006487, -2.552483967006487, -2.552483967006487, -2.552483967006487, -2.552483967006487, -2.552483967006487, -2.552483967006487, -2.552483967006487, -2.552483967006487, -2.552483967006487, -2.552483967006487, -2.552483967006487, -2.552483967006487, -2.552483967006487, -2.552483967006487, -2.552483967006487, -2.552483967006487, -2.075526488846189, -2.075526488846189, -2.075526488846189, -2.075526488846189, -2.075526488846189, -2.075526488846189, -2.075526488846189, -2.075526488846189, -2.075526488846189, -2.075526488846189, -2.075526488846189, -2.075526488846189, -2.075526488846189, -2.075526488846189, -2.075526488846189, -2.075526488846189, -2.075526488846189, -2.075526488846189, -2.075526488846189, -2.075526488846189, -1.5985690106858907, -1.5985690106858907, -1.5985690106858907, -1.5985690106858907, -1.5985690106858907, -1.5985690106858907, -1.5985690106858907, -1.5985690106858907, -1.5985690106858907, -1.5985690106858907, -1.5985690106858907, -1.5985690106858907, -1.5985690106858907, -1.5985690106858907, -1.5985690106858907, -1.5985690106858907, -1.5985690106858907, -1.5985690106858907, -1.5985690106858907, -1.5985690106858907, -1.1216115325255922, -1.1216115325255922, -1.1216115325255922, -1.1216115325255922, -1.1216115325255922, -1.1216115325255922, -1.1216115325255922, -1.1216115325255922, -1.1216115325255922, -1.1216115325255922, -1.1216115325255922, -1.1216115325255922, -1.1216115325255922, -1.1216115325255922, -1.1216115325255922, -1.1216115325255922, -1.1216115325255922, -1.1216115325255922, -1.1216115325255922, -1.1216115325255922, -0.6446540543652941, -0.6446540543652941, -0.6446540543652941, -0.6446540543652941, -0.6446540543652941, -0.6446540543652941, -0.6446540543652941, -0.6446540543652941, -0.6446540543652941, -0.6446540543652941, -0.6446540543652941, -0.6446540543652941, -0.6446540543652941, -0.6446540543652941, -0.6446540543652941, -0.6446540543652941, -0.6446540543652941, -0.6446540543652941, -0.6446540543652941, -0.6446540543652941, -0.167696576204996, -0.167696576204996, -0.167696576204996, -0.167696576204996, -0.167696576204996, -0.167696576204996, -0.167696576204996, -0.167696576204996, -0.167696576204996, -0.167696576204996, -0.167696576204996, -0.167696576204996, -0.167696576204996, -0.167696576204996, -0.167696576204996, -0.167696576204996, -0.167696576204996, -0.167696576204996, -0.167696576204996, -0.167696576204996, 0.30926090195530254, 0.30926090195530254, 0.30926090195530254, 0.30926090195530254, 0.30926090195530254, 0.30926090195530254, 0.30926090195530254, 0.30926090195530254, 0.30926090195530254, 0.30926090195530254, 0.30926090195530254, 0.30926090195530254, 0.30926090195530254, 0.30926090195530254, 0.30926090195530254, 0.30926090195530254, 0.30926090195530254, 0.30926090195530254, 0.30926090195530254, 0.30926090195530254, 0.7862183801156002, 0.7862183801156002, 0.7862183801156002, 0.7862183801156002, 0.7862183801156002, 0.7862183801156002, 0.7862183801156002, 0.7862183801156002, 0.7862183801156002, 0.7862183801156002, 0.7862183801156002, 0.7862183801156002, 0.7862183801156002, 0.7862183801156002, 0.7862183801156002, 0.7862183801156002, 0.7862183801156002, 0.7862183801156002, 0.7862183801156002, 0.7862183801156002, 1.2631758582758987, 1.2631758582758987, 1.2631758582758987, 1.2631758582758987, 1.2631758582758987, 1.2631758582758987, 1.2631758582758987, 1.2631758582758987, 1.2631758582758987, 1.2631758582758987, 1.2631758582758987, 1.2631758582758987, 1.2631758582758987, 1.2631758582758987, 1.2631758582758987, 1.2631758582758987, 1.2631758582758987, 1.2631758582758987, 1.2631758582758987, 1.2631758582758987, 1.7401333364361973, 1.7401333364361973, 1.7401333364361973, 1.7401333364361973, 1.7401333364361973, 1.7401333364361973, 1.7401333364361973, 1.7401333364361973, 1.7401333364361973, 1.7401333364361973, 1.7401333364361973, 1.7401333364361973, 1.7401333364361973, 1.7401333364361973, 1.7401333364361973, 1.7401333364361973, 1.7401333364361973, 1.7401333364361973, 1.7401333364361973, 1.7401333364361973, 2.217090814596495, 2.217090814596495, 2.217090814596495, 2.217090814596495, 2.217090814596495, 2.217090814596495, 2.217090814596495, 2.217090814596495, 2.217090814596495, 2.217090814596495, 2.217090814596495, 2.217090814596495, 2.217090814596495, 2.217090814596495, 2.217090814596495, 2.217090814596495, 2.217090814596495, 2.217090814596495, 2.217090814596495, 2.217090814596495, 2.6940482927567935, 2.6940482927567935, 2.6940482927567935, 2.6940482927567935, 2.6940482927567935, 2.6940482927567935, 2.6940482927567935, 2.6940482927567935, 2.6940482927567935, 2.6940482927567935, 2.6940482927567935, 2.6940482927567935, 2.6940482927567935, 2.6940482927567935, 2.6940482927567935, 2.6940482927567935, 2.6940482927567935, 2.6940482927567935, 2.6940482927567935, 2.6940482927567935, 3.171005770917091, 3.171005770917091, 3.171005770917091, 3.171005770917091, 3.171005770917091, 3.171005770917091, 3.171005770917091, 3.171005770917091, 3.171005770917091, 3.171005770917091, 3.171005770917091, 3.171005770917091, 3.171005770917091, 3.171005770917091, 3.171005770917091, 3.171005770917091, 3.171005770917091, 3.171005770917091, 3.171005770917091, 3.171005770917091, 3.6479632490773897, 3.6479632490773897, 3.6479632490773897, 3.6479632490773897, 3.6479632490773897, 3.6479632490773897, 3.6479632490773897, 3.6479632490773897, 3.6479632490773897, 3.6479632490773897, 3.6479632490773897, 3.6479632490773897, 3.6479632490773897, 3.6479632490773897, 3.6479632490773897, 3.6479632490773897, 3.6479632490773897, 3.6479632490773897, 3.6479632490773897, 3.6479632490773897, 4.124920727237687, 4.124920727237687, 4.124920727237687, 4.124920727237687, 4.124920727237687, 4.124920727237687, 4.124920727237687, 4.124920727237687, 4.124920727237687, 4.124920727237687, 4.124920727237687, 4.124920727237687, 4.124920727237687, 4.124920727237687, 4.124920727237687, 4.124920727237687, 4.124920727237687, 4.124920727237687, 4.124920727237687, 4.124920727237687, 4.601878205397987, 4.601878205397987, 4.601878205397987, 4.601878205397987, 4.601878205397987, 4.601878205397987, 4.601878205397987, 4.601878205397987, 4.601878205397987, 4.601878205397987, 4.601878205397987, 4.601878205397987, 4.601878205397987, 4.601878205397987, 4.601878205397987, 4.601878205397987, 4.601878205397987, 4.601878205397987, 4.601878205397987, 4.601878205397987, 5.078835683558285, 5.078835683558285, 5.078835683558285, 5.078835683558285, 5.078835683558285, 5.078835683558285, 5.078835683558285, 5.078835683558285, 5.078835683558285, 5.078835683558285, 5.078835683558285, 5.078835683558285, 5.078835683558285, 5.078835683558285, 5.078835683558285, 5.078835683558285, 5.078835683558285, 5.078835683558285, 5.078835683558285, 5.078835683558285, 1.4711968566569276, 1.1311691781416626, 0.1506343556006231, 0.40621753355321266, 0.26762404076148305, 1.2023306686652628, -0.4012213585233123, 2.488127241662452, 1.5513643489004005, 0.15359256553447245, 1.0443662553628656, 1.5239349159434652, 1.5496691484085134, -0.4083721935656923, -2.378285936995419, -1.319994028033849, -0.066647186217905, 1.061015159142459, 1.304800098519355, 1.3800628617093555, 3.265236112037726, 0.9856761499247885, 1.6564951425440515, 1.096108593465623, -2.4643597719053307, 0.7896004432149761, 0.5219065196626059, 3.6140840093210778, 0.7707350641746231, 0.12102424408768811, -0.4320361654634473, 2.01701999790666, 1.1402231535779153, 0.8350859342947435, -0.48645209963727654, 1.0588950146888343, -0.41340377397197203, -0.9637955135711911, 2.7321891410223094, 0.2901580337947085, 1.9365031073081345, 0.8693598749027096, 0.9142244180445813, -0.9327919152175638, 2.1102242347826135, 2.7111633602809255, -0.7587616240508684, 0.5892479324536297, -1.436858516117045, 1.1134553925565336, 0.6035105581786305, -1.1189366737638724, 2.8658098424848277, 1.0661021406309923, 0.19842762946085096, 1.3330299365475269, 2.1808980167794814, -2.2357472280790853, 0.6577607381248896, 0.7633949047750311, -0.7297916955541836, -1.1055815919550225, 2.121123853404584, -1.1264908544876013, 0.6434742325901179, 1.0996772755212825, 1.3499145086049125, -0.7294955124413357, 2.6048635272930136, -0.19303691714894017, 1.9213402039861682, -0.2550409937538691, 3.151307709882772, 1.5977838356584901, 0.8002552682632058, -0.44788030387469085, -0.6786552432352148, -1.078276151718656, -0.18718179873175333, -1.5929825180586703, -1.95034724562501, -1.6815845705777253, -0.9168300272440864, 2.9800055638988834, 2.0886331022403617, 0.9465907667790805, 1.547845533704212, -1.541897283423785, 1.6378796175378132, 3.711235061154259, 0.26413631155632084, 0.2462966398143549, 0.9186399112103576, 3.925220990431605, -0.8179013386330691, -1.1728331544736486, 1.1640990689491397, -0.03916262369549761, 1.397087172572813, -2.733549824159607, 0.09896562644731333, 0.7162148514054245, -0.05214789856932911, 2.0423592343898203, 0.32467200774664967, 1.0668943547712069, 0.5664345795834265, -0.8736877253852238, 0.07135215523669983, 3.6189160583887348, -2.0302877272770363, -0.47108018517303885, 2.47251924345648, -0.9542061793362941, 1.481804662139576, 0.10893610076560581, 2.4278646649645093, 0.5472665358211329, 1.837321382857711, 2.327705299412991, 2.4295786102290355, 0.9480688976583562, 3.6245691322979767, 0.5937451299306136, -2.0249432586769474, -0.06766246964683575, 0.864149277416715, 0.5018577810014577, 0.54337299796714, 0.18256399993255062, 1.2716943848769902, 0.7572904084214174, -0.13115996057056578, 0.8916630594652373, -0.00919553242318516, 0.6568256862326174, -1.140843505683714, 0.137822208528938, 0.7158929862467083, 0.09506151224805129, 1.829675969957554, 0.8456854525542372, 0.09250290470285319, 2.5644115538867336, 1.2760588667506063, 0.3448105661431682, -2.175429246028827, 1.2846936936785327, -0.12496424591306687, 3.0619169944740223, -0.05400838516641507, 0.019864269609447316, 0.4297526501191201, 1.132939369924098, 0.05330941456752719, 3.0098154545907523, 2.4080188550619828, 0.5648022838904412, -0.061130629416465854, -0.46363897052870573, 1.2077544129784528, -0.3693255287452877, 1.7234328847713078, 1.2920819820665734, 1.7876806908251348, 2.5500562525694788, -1.2108478043692819, 1.3305580008902689, 0.06067665092374597, 0.8481955254770008, 0.1931751106086993, -0.3613865362386923, 0.14544353562330242, -0.8988628259275754, 1.6737105526634783, -0.5337013176527103, -0.6116560369696394, 2.6638438896125107, 0.8206917030772118, -0.6677802343439361, -2.146505675604958, 0.7243816499044257, -1.1348198274592605, 0.04903034747367263, 1.2900123240852304, 2.668120779836449, 0.20231268003641323, 1.5320382360656257, 0.6150339025903363, 2.3992182366114307, 0.27394624719151717, 0.1586895948579406, -1.651047883855906, 2.1680983543877574, 0.9213156720852378, 0.9816761203664471, -1.5943198642593044, -0.9463681958173726, -0.41280926406203866, 1.2338356915046051, 1.5583018700010582, 0.5671905030488927, -0.37823870607567955, 1.1432543660858725, -1.9145718277105364, 0.36418371335012245, 0.8812092136075829, 0.49085484865362067, -0.7953118538516004, 1.2961263550926805, 3.973377879336172, -0.6666486744881555, 0.7620918479575658, 2.2978478358481853, -0.5647527010572087, 1.6371125643525586, -0.8534397438169903, 2.0419998199720375, 0.03022267658596345, 1.7503514570097343, -0.5379554483470075, 2.503033039743305, 0.27481712143070386, 1.7254639780596952, 0.4943733290465163, 2.733310920848496, 0.8175938036600812, 0.5462374707759537, 3.4049050860698653, 1.162767758131219, 1.6584481650007148, -0.660387386070767, -0.12124384265054722, -1.482039094638254, -0.22554044979087187, -1.3024688431138514, 1.7797369126999463, 1.3903884241795745, 0.3031563487643994, 1.3085571301387193, 0.3975899904242568, -1.3929176984342049, -0.09980656531860488, -1.015780125916042, 1.3368167637026822, -0.11001911892119659, 2.1795015977100984, -0.2244375772848863, 0.7612934137988762, 1.2779571798580887, -1.3575681299699134, 2.1683085286579202, 2.7391490601850124, 1.725623566097255, 1.5578424128239257, -1.4864320223526004, 0.7752140565986951, -0.040840762708430844, 2.0347924211037687, 0.1581548192631515, 1.1859129678409386, -0.3239026767142936, -1.0913976348942067, 2.268011963086084, 0.42560914489602064, 2.204602994309241, 0.0688490918071755, 1.7464257341270484, -0.24339052229913216, 1.5323784610305462, 1.9538614633859361, -0.8099222487472812, -0.03428998501539743, 1.6744955816115872, -1.7898346762584576, 2.165563527357557, 3.8336012082747466, 1.7609283632195576, 1.4876860689622204, 1.6268129711248696, -1.0441225215821772, 2.8078012128584904, 1.0248974064788012, -0.4310968069079407, 0.08960414102305969, -0.11738822555014328, 4.003694927906968, 0.8453538030342159, 0.03376487956933294, 2.1877040636568337, 0.5769935739909087, -0.8066739559349269, 2.6587474277369436, -1.5715913560237933, -0.05947280577387304, 2.3938395609890115, -2.087856960147323, 2.1030190173848817, 1.853116115288823, 2.179080465245041, 3.16560589902901, 0.9330032616892476, 1.3266367284013825, -1.8557263368370847, 0.2546100353571371, 0.18064751966828552, -1.4499203823617661, 0.6635633418008482, 1.3077377284072722, -1.3945401523643952, 2.0999942071899413, 1.404883280207753, -0.34023139645703643, -0.9526753698185113, 0.2691072968894902, -0.949939746733647, 0.6704719756615638, 1.2612346084561696, 1.6664118933527154, 1.5352828561719085, 0.33311231590367507, -1.1031742489328011, 0.7389265064065016, 0.8314993202543636, 0.6848765995772977, 2.6261604558189067, 0.9022587087065581, 1.556147466713268, -0.6575100254892603, 0.32133782578192666, 0.5139801641646986, 1.0905475016497537, -0.42193199651704, 3.2517046031966794, 1.3389807432188356, 1.5983739229785832, 0.18725053435009026, -0.047754533865202786, -0.13977273012167357, -0.5684923475258217, 1.6769620593232102, 0.2677455387819544, -0.4800275495057438, -0.3591986105003555, 1.5442494606126353, -1.7777172085284585, 1.3351333502103602, -0.10770041130460872, 1.0113807672848802, 3.2279667143280832, 1.214477049024639, -1.6323036280154928, 0.4687721489887559, 0.005716492623392799, 1.0076278481563583, 1.4754164187601333, 0.8350935354172089, -0.5798817378906689, 1.9998599361519365, 1.6617774193293, 0.9354451206165577, 1.4729407491105069, 0.5818970223112983, 1.0536943300484118, 3.189917859814506, 0.7067825152675337, 2.911266260569353, 0.9097079813232795, 3.632273298905346, 1.6932007785267604, 1.2958461442854858, -0.401553240959746, 1.5860872959617744, 4.393953492055877, -1.4990163873250253, -0.46466753952038614, 1.9473226390682763, 2.913691382977725, 0.40639171261653156, 0.8528550658447636, 2.0208437175263914, -0.7091458805876603, 2.6331916007528062, 0.8726402506778457, 2.3395489040565414, 1.3677335549754148, 1.3439226180855794, 0.42164316774079647, 0.8670274353154952, -0.7206452736137483, 0.02422020644161016, -0.5587549701485506, -1.7857293989289975, 3.8624586013964954, 0.07772993417884588, 3.0378039301863264, -0.7813529265015222, 1.86811147341662, -1.6808708618284145, 0.09791718973949437], \"xaxis\": \"x2\", \"y\": [-2.4498787736391727, -2.0755781364977084, -1.7012774993562436, -1.3269768622147793, -0.9526762250733147, -0.5783755879318502, -0.20407495079038585, 0.17022568635107893, 0.5445263234925433, 0.9188269606340076, 1.2931275977754724, 1.6674282349169371, 2.041728872058401, 2.416029509199866, 2.7903301463413306, 3.1646307834827945, 3.5389314206242592, 3.913232057765724, 4.287532694907188, 4.661833332048652, -2.4498787736391727, -2.0755781364977084, -1.7012774993562436, -1.3269768622147793, -0.9526762250733147, -0.5783755879318502, -0.20407495079038585, 0.17022568635107893, 0.5445263234925433, 0.9188269606340076, 1.2931275977754724, 1.6674282349169371, 2.041728872058401, 2.416029509199866, 2.7903301463413306, 3.1646307834827945, 3.5389314206242592, 3.913232057765724, 4.287532694907188, 4.661833332048652, -2.4498787736391727, -2.0755781364977084, -1.7012774993562436, -1.3269768622147793, -0.9526762250733147, -0.5783755879318502, -0.20407495079038585, 0.17022568635107893, 0.5445263234925433, 0.9188269606340076, 1.2931275977754724, 1.6674282349169371, 2.041728872058401, 2.416029509199866, 2.7903301463413306, 3.1646307834827945, 3.5389314206242592, 3.913232057765724, 4.287532694907188, 4.661833332048652, -2.4498787736391727, -2.0755781364977084, -1.7012774993562436, -1.3269768622147793, -0.9526762250733147, -0.5783755879318502, -0.20407495079038585, 0.17022568635107893, 0.5445263234925433, 0.9188269606340076, 1.2931275977754724, 1.6674282349169371, 2.041728872058401, 2.416029509199866, 2.7903301463413306, 3.1646307834827945, 3.5389314206242592, 3.913232057765724, 4.287532694907188, 4.661833332048652, -2.4498787736391727, -2.0755781364977084, -1.7012774993562436, -1.3269768622147793, -0.9526762250733147, -0.5783755879318502, -0.20407495079038585, 0.17022568635107893, 0.5445263234925433, 0.9188269606340076, 1.2931275977754724, 1.6674282349169371, 2.041728872058401, 2.416029509199866, 2.7903301463413306, 3.1646307834827945, 3.5389314206242592, 3.913232057765724, 4.287532694907188, 4.661833332048652, -2.4498787736391727, -2.0755781364977084, -1.7012774993562436, -1.3269768622147793, -0.9526762250733147, -0.5783755879318502, -0.20407495079038585, 0.17022568635107893, 0.5445263234925433, 0.9188269606340076, 1.2931275977754724, 1.6674282349169371, 2.041728872058401, 2.416029509199866, 2.7903301463413306, 3.1646307834827945, 3.5389314206242592, 3.913232057765724, 4.287532694907188, 4.661833332048652, -2.4498787736391727, -2.0755781364977084, -1.7012774993562436, -1.3269768622147793, -0.9526762250733147, -0.5783755879318502, -0.20407495079038585, 0.17022568635107893, 0.5445263234925433, 0.9188269606340076, 1.2931275977754724, 1.6674282349169371, 2.041728872058401, 2.416029509199866, 2.7903301463413306, 3.1646307834827945, 3.5389314206242592, 3.913232057765724, 4.287532694907188, 4.661833332048652, -2.4498787736391727, -2.0755781364977084, -1.7012774993562436, -1.3269768622147793, -0.9526762250733147, -0.5783755879318502, -0.20407495079038585, 0.17022568635107893, 0.5445263234925433, 0.9188269606340076, 1.2931275977754724, 1.6674282349169371, 2.041728872058401, 2.416029509199866, 2.7903301463413306, 3.1646307834827945, 3.5389314206242592, 3.913232057765724, 4.287532694907188, 4.661833332048652, -2.4498787736391727, -2.0755781364977084, -1.7012774993562436, -1.3269768622147793, -0.9526762250733147, -0.5783755879318502, -0.20407495079038585, 0.17022568635107893, 0.5445263234925433, 0.9188269606340076, 1.2931275977754724, 1.6674282349169371, 2.041728872058401, 2.416029509199866, 2.7903301463413306, 3.1646307834827945, 3.5389314206242592, 3.913232057765724, 4.287532694907188, 4.661833332048652, -2.4498787736391727, -2.0755781364977084, -1.7012774993562436, -1.3269768622147793, -0.9526762250733147, -0.5783755879318502, -0.20407495079038585, 0.17022568635107893, 0.5445263234925433, 0.9188269606340076, 1.2931275977754724, 1.6674282349169371, 2.041728872058401, 2.416029509199866, 2.7903301463413306, 3.1646307834827945, 3.5389314206242592, 3.913232057765724, 4.287532694907188, 4.661833332048652, -2.4498787736391727, -2.0755781364977084, -1.7012774993562436, -1.3269768622147793, -0.9526762250733147, -0.5783755879318502, -0.20407495079038585, 0.17022568635107893, 0.5445263234925433, 0.9188269606340076, 1.2931275977754724, 1.6674282349169371, 2.041728872058401, 2.416029509199866, 2.7903301463413306, 3.1646307834827945, 3.5389314206242592, 3.913232057765724, 4.287532694907188, 4.661833332048652, -2.4498787736391727, -2.0755781364977084, -1.7012774993562436, -1.3269768622147793, -0.9526762250733147, -0.5783755879318502, -0.20407495079038585, 0.17022568635107893, 0.5445263234925433, 0.9188269606340076, 1.2931275977754724, 1.6674282349169371, 2.041728872058401, 2.416029509199866, 2.7903301463413306, 3.1646307834827945, 3.5389314206242592, 3.913232057765724, 4.287532694907188, 4.661833332048652, -2.4498787736391727, -2.0755781364977084, -1.7012774993562436, -1.3269768622147793, -0.9526762250733147, -0.5783755879318502, -0.20407495079038585, 0.17022568635107893, 0.5445263234925433, 0.9188269606340076, 1.2931275977754724, 1.6674282349169371, 2.041728872058401, 2.416029509199866, 2.7903301463413306, 3.1646307834827945, 3.5389314206242592, 3.913232057765724, 4.287532694907188, 4.661833332048652, -2.4498787736391727, -2.0755781364977084, -1.7012774993562436, -1.3269768622147793, -0.9526762250733147, -0.5783755879318502, -0.20407495079038585, 0.17022568635107893, 0.5445263234925433, 0.9188269606340076, 1.2931275977754724, 1.6674282349169371, 2.041728872058401, 2.416029509199866, 2.7903301463413306, 3.1646307834827945, 3.5389314206242592, 3.913232057765724, 4.287532694907188, 4.661833332048652, -2.4498787736391727, -2.0755781364977084, -1.7012774993562436, -1.3269768622147793, -0.9526762250733147, -0.5783755879318502, -0.20407495079038585, 0.17022568635107893, 0.5445263234925433, 0.9188269606340076, 1.2931275977754724, 1.6674282349169371, 2.041728872058401, 2.416029509199866, 2.7903301463413306, 3.1646307834827945, 3.5389314206242592, 3.913232057765724, 4.287532694907188, 4.661833332048652, -2.4498787736391727, -2.0755781364977084, -1.7012774993562436, -1.3269768622147793, -0.9526762250733147, -0.5783755879318502, -0.20407495079038585, 0.17022568635107893, 0.5445263234925433, 0.9188269606340076, 1.2931275977754724, 1.6674282349169371, 2.041728872058401, 2.416029509199866, 2.7903301463413306, 3.1646307834827945, 3.5389314206242592, 3.913232057765724, 4.287532694907188, 4.661833332048652, -2.4498787736391727, -2.0755781364977084, -1.7012774993562436, -1.3269768622147793, -0.9526762250733147, -0.5783755879318502, -0.20407495079038585, 0.17022568635107893, 0.5445263234925433, 0.9188269606340076, 1.2931275977754724, 1.6674282349169371, 2.041728872058401, 2.416029509199866, 2.7903301463413306, 3.1646307834827945, 3.5389314206242592, 3.913232057765724, 4.287532694907188, 4.661833332048652, -2.4498787736391727, -2.0755781364977084, -1.7012774993562436, -1.3269768622147793, -0.9526762250733147, -0.5783755879318502, -0.20407495079038585, 0.17022568635107893, 0.5445263234925433, 0.9188269606340076, 1.2931275977754724, 1.6674282349169371, 2.041728872058401, 2.416029509199866, 2.7903301463413306, 3.1646307834827945, 3.5389314206242592, 3.913232057765724, 4.287532694907188, 4.661833332048652, -2.4498787736391727, -2.0755781364977084, -1.7012774993562436, -1.3269768622147793, -0.9526762250733147, -0.5783755879318502, -0.20407495079038585, 0.17022568635107893, 0.5445263234925433, 0.9188269606340076, 1.2931275977754724, 1.6674282349169371, 2.041728872058401, 2.416029509199866, 2.7903301463413306, 3.1646307834827945, 3.5389314206242592, 3.913232057765724, 4.287532694907188, 4.661833332048652, -2.4498787736391727, -2.0755781364977084, -1.7012774993562436, -1.3269768622147793, -0.9526762250733147, -0.5783755879318502, -0.20407495079038585, 0.17022568635107893, 0.5445263234925433, 0.9188269606340076, 1.2931275977754724, 1.6674282349169371, 2.041728872058401, 2.416029509199866, 2.7903301463413306, 3.1646307834827945, 3.5389314206242592, 3.913232057765724, 4.287532694907188, 4.661833332048652, 1.5098776434389307, 3.4801112014027877, -0.9254902031092248, 1.7605837680462628, 2.132779067437344, 0.4385813119368655, 1.9876431346297672, 0.41350627787909244, 2.856297332437188, 3.5212435419575394, 2.224430995529541, 0.11925440745515292, 0.8728557985156056, 3.0146629709914436, 2.1126463865131804, 3.680242227193675, 1.219789815927413, 1.217342464666599, 0.6420254164450436, 3.319348168605592, 3.8841534522615118, -0.12643758644922243, 2.483921461920727, 0.40424455030962103, 2.3184152216364797, 1.1570205955199615, -0.20035186370997132, 2.75168489710098, 1.0777151089085164, 1.6518847024808037, 1.6766181493353254, -0.06170723183798321, 2.9183344868673378, 2.5293054831817403, 0.11671497151914623, 1.0392469333438674, 0.17829612973021763, -0.8393192597033876, 0.7803159010107696, 0.21425107286712008, 1.0809728685915607, 2.5704778062455436, 0.445746060072729, 0.5412885086982072, 2.419764186652929, 2.1348720878874126, 0.19137637771693683, -0.22659934757365668, 0.14690054586530954, 0.9770055744221382, 1.6186192483916764, 3.5804830486156036, 3.308424319668718, 3.0918534778115143, 1.433388544043778, 1.8680164692653778, 1.493670930992677, 2.5381830517488027, -0.11131272774799501, -0.6632185375089699, 0.43670857509117816, 1.39138556768767, 1.192189075510022, -0.26754919128896437, 0.9240525142388868, 0.996095063829167, 0.8970058514068884, 2.6078594757952627, 2.3023812106210286, 1.4636454841640856, 3.4299414812172566, 0.6057749429657724, 3.814489203108913, 1.7913486749315974, 0.9910962612974696, 0.8688648998925188, 2.198209146587608, 2.9693698230748278, 1.8034964111976137, 2.007266805363906, 0.0442215000125733, 1.5091126826033636, 0.9666971978055737, 3.02351773575742, 1.1704961129670615, 3.2800434932362776, 2.3095166550601007, 1.9970907877170831, -0.2059253956946594, 2.9621497463378046, 0.013637420350775947, 0.9476203209047389, 0.7031918951475942, 2.3430419554278026, 2.6569155494620524, 0.4676585001859247, 2.756521941078371, 1.4361814906968668, 1.4678288959676336, -0.254766181629841, 2.9523586396182613, 4.147864360291512, 0.8466608998988245, 3.3382209524145607, 3.4507169543240837, 4.13660719638918, 1.8888256569983088, 1.538327274404586, 0.7899739177629248, 3.8104537193432675, 4.0177298492969715, 3.186739563486018, 2.1057628242881252, -1.1563855222612776, 1.4874936930944538, 1.5589383942859345, 0.0998745338421696, 3.9150443088206863, 0.8549178317378854, -0.48501406566271354, 2.1664367716831108, 0.6396266533070711, 2.900428225491019, 1.8259198582793044, 2.436105922869325, -0.9559941872722708, 1.6233981262913773, -2.337354306021397, 1.1128926842528357, 3.77369732142631, 0.6905492797885038, 0.6094839628117712, 0.1797924376563298, -0.9376219098218106, 1.311893963957792, 3.909046439543156, 1.7645029547927946, 1.6938338990894712, 0.4541553819835237, 3.2300773306720147, -1.340100120588244, 1.3523043517902993, 1.720035410859515, 1.6675557188468666, 1.4534441798151383, 1.8654036802424026, 2.828058151637236, 2.2768136844779394, 1.8334517807708135, 1.8992836154075148, -0.5784162163738392, 1.877908700314939, 1.0544290779954353, 0.5698564998216598, -0.2529311004140233, 1.3024353453442055, 1.2902618493307965, 1.743310636790351, 0.8310766637227296, 3.31718941196592, 2.040361386938875, 3.048645413443834, 2.050480479230591, 3.562783305374247, 3.7882272520877587, 4.133039181192489, 2.643388371361978, -0.06475710292713599, 2.4892324067588327, 0.47315566851665225, 2.4513929940247823, -0.9980494613800994, 1.4322752347955614, 2.111439520312836, -0.008555511128250037, 0.7337996208346839, -0.7025306290299027, 2.512684665548875, 1.400622333454821, 1.9843411822315868, 0.5423246989687404, -1.6904700410633569, 1.5148169949933403, 2.429809109321201, 3.420158144918264, 0.18699060787238958, 2.4032929839874666, 3.646741791656067, -0.008291880423120901, -1.7945329130362855, 4.0179938591242434, 2.2303408652519088, -0.8363052432136289, 3.4929522590695266, 2.380067739350311, 1.2384456582472416, 0.4722307951094855, 3.4967916046579703, 3.398252578847272, 2.7556798565557985, 0.004741001531177708, 2.713083955620517, 1.00641174126049, 0.44452874090805017, 1.2089767609057205, 1.1218918917526834, 1.1636042659020078, 2.7840277178258246, 0.4171930828621526, 2.8949865722727406, 4.118746355053646, 0.8619781458733307, 0.25458174549486023, 0.5734715145492792, 0.3991596766644707, -0.4309511258222174, -1.3298174534284462, 1.161825014851879, 3.339071628283704, 3.1269356975119074, 0.4699809293206276, 1.5240958886716147, 4.46500992486576, 2.1041209104794554, 0.2202900210797062, 0.8688989440687243, 1.9297481929926383, 1.6917283624029724, 1.3271043834742866, 2.809365134047637, 2.2045777553793977, 1.3142081609594718, 1.1091373486451443, -0.1011913925303638, 0.9796098666941768, 2.3497463865776735, 1.8078229934168044, -1.52856607560834, 3.311198530739426, 3.207601279302238, 3.1237547929395033, 2.74088094746538, 2.214659682185591, -1.4659222253981752, 1.3525843805095703, 0.8479847563095889, 2.8175713878375754, 0.15826856855339327, 0.1959925245099584, 0.1443654771981214, 0.8077866629550721, 3.0529076829749813, -0.10508414720921533, 4.878504758980835, 3.32802894670551, 2.0643975763129747, 1.6787813679754233, 1.832340589841525, 3.4874486089027044, 5.362357736893573, 1.538348702444245, 3.4005074365545465, 1.598669474040208, 3.27231202984452, 0.9715865065074143, 1.6006265832424225, 2.7995174340604625, 4.897148225770402, 1.4767003547477424, -0.36207258830082867, 3.571324265274601, 2.025308572708658, -1.166006819371267, 2.7334189245863723, 1.6408046804982048, 2.441112666235139, 2.5863471583446285, 1.3913213116688217, -0.8336241857071269, 3.4694681131537877, 0.27630380977149094, 2.1669578509218796, -0.6968321996435713, 0.2453579876258687, -0.30350541085722016, -1.9755595177347203, 2.586552914259809, -0.039603291423894016, -0.3319997904664117, 0.02554905941835872, 0.12749032072331434, -0.1121149202137996, 1.8686348834642579, 2.8914557751060124, -0.6032183713134509, 1.2685176918346766, 1.7412534264883421, 3.35252983994445, 5.338549105353573, 1.9949619764203124, 2.979643099848507, -0.46475603067858295, -1.8511448495680098, 2.996911106233384, 1.781137348387658, 1.8908911068770302, 0.6815234771587637, 1.495857245320325, 5.100296493542578, 1.0368411662921673, 2.3714975751025964, -0.4593697638491785, 0.6811148007930168, 1.2120904913919142, 2.953387659482736, 1.5168619129117493, 3.69740278047931, 4.766104779240875, 3.0457669449513776, 4.207188003859837, 2.6755738419335646, -0.3370308408544419, 0.8879480448768355, -0.335348113254306, 1.9957779369979574, 1.9016850742900375, 2.593628963545206, 2.8611936388821, 3.0907740727187702, 2.842494355331069, 1.3310993480822297, 2.2497281106907936, 2.6646632911616686, 1.7388518392657422, 0.06573511155691969, 0.5416442907549858, 2.273295306185919, 2.3442174271610963, 3.217947768581672, 3.5055161304002445, 0.993871595914172, 1.0953533429413833, 3.4023659292630457, 1.3264639879548128, 1.3861258611389216, 1.6881544610293258, 1.799987324546664, -0.4749889750662598, 2.6149553777090366, 1.36960017345539, 0.7805297943523128, 2.5715922411785135, 3.959615617014715, 0.023028308584180146, -0.3642807249585227, 1.7634150588083768, 3.856785312671146, -1.6619597302105482, 0.8853545298040528, 2.0935269968990715, 0.4065046401093467, 1.8033726236797583, 0.9979287106446149, 4.216441710417122, 2.0503253430574047, 1.4112549833310224, 3.088491164017703, 2.768256640300047, 2.0805223871815697, 1.0758000765061104, 1.1983954612964576, -0.7120212417696488, 1.5803205897089707, 0.7316237522837651, 3.2906765299135357, -0.48200864491105133, 0.06822988464174551, 3.0773755603457045, 3.54121198113111, 2.8064611192996507, 3.2004649100831895, 1.7527669342639642, 1.0014562162202107, 3.342876277872679, 1.0068456892211246, 2.365868426931898, 1.729087685594943, -0.8045455808446658, -0.619714474133367, 0.8212148729897009, 1.718591718692305, 2.187857481381422, 1.6920126056641762, 2.7012302807417754, 0.8541687546142218, 3.819481023882726, 0.8882828695355854, 0.13341064299413163, 1.363637432983097, 1.4370906569954003], \"yaxis\": \"y2\"}],\n",
       "                        {\"annotations\": [{\"font\": {\"size\": 16}, \"showarrow\": false, \"text\": \"coords\", \"x\": 0.225, \"xanchor\": \"center\", \"xref\": \"paper\", \"y\": 1.0, \"yanchor\": \"bottom\", \"yref\": \"paper\"}, {\"font\": {\"size\": 16}, \"showarrow\": false, \"text\": \"coords\", \"x\": 0.775, \"xanchor\": \"center\", \"xref\": \"paper\", \"y\": 1.0, \"yanchor\": \"bottom\", \"yref\": \"paper\"}], \"template\": {\"data\": {\"bar\": [{\"error_x\": {\"color\": \"#2a3f5f\"}, \"error_y\": {\"color\": \"#2a3f5f\"}, \"marker\": {\"line\": {\"color\": \"#E5ECF6\", \"width\": 0.5}}, \"type\": \"bar\"}], \"barpolar\": [{\"marker\": {\"line\": {\"color\": \"#E5ECF6\", \"width\": 0.5}}, \"type\": \"barpolar\"}], \"carpet\": [{\"aaxis\": {\"endlinecolor\": \"#2a3f5f\", \"gridcolor\": \"white\", \"linecolor\": \"white\", \"minorgridcolor\": \"white\", \"startlinecolor\": \"#2a3f5f\"}, \"baxis\": {\"endlinecolor\": \"#2a3f5f\", \"gridcolor\": \"white\", \"linecolor\": \"white\", \"minorgridcolor\": \"white\", \"startlinecolor\": \"#2a3f5f\"}, \"type\": \"carpet\"}], \"choropleth\": [{\"colorbar\": {\"outlinewidth\": 0, \"ticks\": \"\"}, \"type\": \"choropleth\"}], \"contour\": [{\"colorbar\": {\"outlinewidth\": 0, \"ticks\": \"\"}, \"colorscale\": [[0.0, \"#0d0887\"], [0.1111111111111111, \"#46039f\"], [0.2222222222222222, \"#7201a8\"], [0.3333333333333333, \"#9c179e\"], [0.4444444444444444, \"#bd3786\"], [0.5555555555555556, \"#d8576b\"], [0.6666666666666666, \"#ed7953\"], [0.7777777777777778, \"#fb9f3a\"], [0.8888888888888888, \"#fdca26\"], [1.0, \"#f0f921\"]], \"type\": \"contour\"}], \"contourcarpet\": [{\"colorbar\": {\"outlinewidth\": 0, \"ticks\": \"\"}, \"type\": \"contourcarpet\"}], \"heatmap\": [{\"colorbar\": {\"outlinewidth\": 0, \"ticks\": \"\"}, \"colorscale\": [[0.0, \"#0d0887\"], [0.1111111111111111, \"#46039f\"], [0.2222222222222222, \"#7201a8\"], [0.3333333333333333, \"#9c179e\"], [0.4444444444444444, \"#bd3786\"], [0.5555555555555556, \"#d8576b\"], [0.6666666666666666, \"#ed7953\"], [0.7777777777777778, \"#fb9f3a\"], [0.8888888888888888, \"#fdca26\"], [1.0, \"#f0f921\"]], \"type\": \"heatmap\"}], \"heatmapgl\": [{\"colorbar\": {\"outlinewidth\": 0, \"ticks\": \"\"}, \"colorscale\": [[0.0, \"#0d0887\"], [0.1111111111111111, \"#46039f\"], [0.2222222222222222, \"#7201a8\"], [0.3333333333333333, \"#9c179e\"], [0.4444444444444444, \"#bd3786\"], [0.5555555555555556, \"#d8576b\"], [0.6666666666666666, \"#ed7953\"], [0.7777777777777778, \"#fb9f3a\"], [0.8888888888888888, \"#fdca26\"], [1.0, \"#f0f921\"]], \"type\": \"heatmapgl\"}], \"histogram\": [{\"marker\": {\"colorbar\": {\"outlinewidth\": 0, \"ticks\": \"\"}}, \"type\": \"histogram\"}], \"histogram2d\": [{\"colorbar\": {\"outlinewidth\": 0, \"ticks\": \"\"}, \"colorscale\": [[0.0, \"#0d0887\"], [0.1111111111111111, \"#46039f\"], [0.2222222222222222, \"#7201a8\"], [0.3333333333333333, \"#9c179e\"], [0.4444444444444444, \"#bd3786\"], [0.5555555555555556, \"#d8576b\"], [0.6666666666666666, \"#ed7953\"], [0.7777777777777778, \"#fb9f3a\"], [0.8888888888888888, \"#fdca26\"], [1.0, \"#f0f921\"]], \"type\": \"histogram2d\"}], \"histogram2dcontour\": [{\"colorbar\": {\"outlinewidth\": 0, \"ticks\": \"\"}, \"colorscale\": [[0.0, \"#0d0887\"], [0.1111111111111111, \"#46039f\"], [0.2222222222222222, \"#7201a8\"], [0.3333333333333333, \"#9c179e\"], [0.4444444444444444, \"#bd3786\"], [0.5555555555555556, \"#d8576b\"], [0.6666666666666666, \"#ed7953\"], [0.7777777777777778, \"#fb9f3a\"], [0.8888888888888888, \"#fdca26\"], [1.0, \"#f0f921\"]], \"type\": \"histogram2dcontour\"}], \"mesh3d\": [{\"colorbar\": {\"outlinewidth\": 0, \"ticks\": \"\"}, \"type\": \"mesh3d\"}], \"parcoords\": [{\"line\": {\"colorbar\": {\"outlinewidth\": 0, \"ticks\": \"\"}}, \"type\": \"parcoords\"}], \"pie\": [{\"automargin\": true, \"type\": \"pie\"}], \"scatter\": [{\"marker\": {\"colorbar\": {\"outlinewidth\": 0, \"ticks\": \"\"}}, \"type\": \"scatter\"}], \"scatter3d\": [{\"line\": {\"colorbar\": {\"outlinewidth\": 0, \"ticks\": \"\"}}, \"marker\": {\"colorbar\": {\"outlinewidth\": 0, \"ticks\": \"\"}}, \"type\": \"scatter3d\"}], \"scattercarpet\": [{\"marker\": {\"colorbar\": {\"outlinewidth\": 0, \"ticks\": \"\"}}, \"type\": \"scattercarpet\"}], \"scattergeo\": [{\"marker\": {\"colorbar\": {\"outlinewidth\": 0, \"ticks\": \"\"}}, \"type\": \"scattergeo\"}], \"scattergl\": [{\"marker\": {\"colorbar\": {\"outlinewidth\": 0, \"ticks\": \"\"}}, \"type\": \"scattergl\"}], \"scattermapbox\": [{\"marker\": {\"colorbar\": {\"outlinewidth\": 0, \"ticks\": \"\"}}, \"type\": \"scattermapbox\"}], \"scatterpolar\": [{\"marker\": {\"colorbar\": {\"outlinewidth\": 0, \"ticks\": \"\"}}, \"type\": \"scatterpolar\"}], \"scatterpolargl\": [{\"marker\": {\"colorbar\": {\"outlinewidth\": 0, \"ticks\": \"\"}}, \"type\": \"scatterpolargl\"}], \"scatterternary\": [{\"marker\": {\"colorbar\": {\"outlinewidth\": 0, \"ticks\": \"\"}}, \"type\": \"scatterternary\"}], \"surface\": [{\"colorbar\": {\"outlinewidth\": 0, \"ticks\": \"\"}, \"colorscale\": [[0.0, \"#0d0887\"], [0.1111111111111111, \"#46039f\"], [0.2222222222222222, \"#7201a8\"], [0.3333333333333333, \"#9c179e\"], [0.4444444444444444, \"#bd3786\"], [0.5555555555555556, \"#d8576b\"], [0.6666666666666666, \"#ed7953\"], [0.7777777777777778, \"#fb9f3a\"], [0.8888888888888888, \"#fdca26\"], [1.0, \"#f0f921\"]], \"type\": \"surface\"}], \"table\": [{\"cells\": {\"fill\": {\"color\": \"#EBF0F8\"}, \"line\": {\"color\": \"white\"}}, \"header\": {\"fill\": {\"color\": \"#C8D4E3\"}, \"line\": {\"color\": \"white\"}}, \"type\": \"table\"}]}, \"layout\": {\"annotationdefaults\": {\"arrowcolor\": \"#2a3f5f\", \"arrowhead\": 0, \"arrowwidth\": 1}, \"coloraxis\": {\"colorbar\": {\"outlinewidth\": 0, \"ticks\": \"\"}}, \"colorscale\": {\"diverging\": [[0, \"#8e0152\"], [0.1, \"#c51b7d\"], [0.2, \"#de77ae\"], [0.3, \"#f1b6da\"], [0.4, \"#fde0ef\"], [0.5, \"#f7f7f7\"], [0.6, \"#e6f5d0\"], [0.7, \"#b8e186\"], [0.8, \"#7fbc41\"], [0.9, \"#4d9221\"], [1, \"#276419\"]], \"sequential\": [[0.0, \"#0d0887\"], [0.1111111111111111, \"#46039f\"], [0.2222222222222222, \"#7201a8\"], [0.3333333333333333, \"#9c179e\"], [0.4444444444444444, \"#bd3786\"], [0.5555555555555556, \"#d8576b\"], [0.6666666666666666, \"#ed7953\"], [0.7777777777777778, \"#fb9f3a\"], [0.8888888888888888, \"#fdca26\"], [1.0, \"#f0f921\"]], \"sequentialminus\": [[0.0, \"#0d0887\"], [0.1111111111111111, \"#46039f\"], [0.2222222222222222, \"#7201a8\"], [0.3333333333333333, \"#9c179e\"], [0.4444444444444444, \"#bd3786\"], [0.5555555555555556, \"#d8576b\"], [0.6666666666666666, \"#ed7953\"], [0.7777777777777778, \"#fb9f3a\"], [0.8888888888888888, \"#fdca26\"], [1.0, \"#f0f921\"]]}, \"colorway\": [\"#636efa\", \"#EF553B\", \"#00cc96\", \"#ab63fa\", \"#FFA15A\", \"#19d3f3\", \"#FF6692\", \"#B6E880\", \"#FF97FF\", \"#FECB52\"], \"font\": {\"color\": \"#2a3f5f\"}, \"geo\": {\"bgcolor\": \"white\", \"lakecolor\": \"white\", \"landcolor\": \"#E5ECF6\", \"showlakes\": true, \"showland\": true, \"subunitcolor\": \"white\"}, \"hoverlabel\": {\"align\": \"left\"}, \"hovermode\": \"closest\", \"mapbox\": {\"style\": \"light\"}, \"paper_bgcolor\": \"white\", \"plot_bgcolor\": \"#E5ECF6\", \"polar\": {\"angularaxis\": {\"gridcolor\": \"white\", \"linecolor\": \"white\", \"ticks\": \"\"}, \"bgcolor\": \"#E5ECF6\", \"radialaxis\": {\"gridcolor\": \"white\", \"linecolor\": \"white\", \"ticks\": \"\"}}, \"scene\": {\"xaxis\": {\"backgroundcolor\": \"#E5ECF6\", \"gridcolor\": \"white\", \"gridwidth\": 2, \"linecolor\": \"white\", \"showbackground\": true, \"ticks\": \"\", \"zerolinecolor\": \"white\"}, \"yaxis\": {\"backgroundcolor\": \"#E5ECF6\", \"gridcolor\": \"white\", \"gridwidth\": 2, \"linecolor\": \"white\", \"showbackground\": true, \"ticks\": \"\", \"zerolinecolor\": \"white\"}, \"zaxis\": {\"backgroundcolor\": \"#E5ECF6\", \"gridcolor\": \"white\", \"gridwidth\": 2, \"linecolor\": \"white\", \"showbackground\": true, \"ticks\": \"\", \"zerolinecolor\": \"white\"}}, \"shapedefaults\": {\"line\": {\"color\": \"#2a3f5f\"}}, \"ternary\": {\"aaxis\": {\"gridcolor\": \"white\", \"linecolor\": \"white\", \"ticks\": \"\"}, \"baxis\": {\"gridcolor\": \"white\", \"linecolor\": \"white\", \"ticks\": \"\"}, \"bgcolor\": \"#E5ECF6\", \"caxis\": {\"gridcolor\": \"white\", \"linecolor\": \"white\", \"ticks\": \"\"}}, \"title\": {\"x\": 0.05}, \"xaxis\": {\"automargin\": true, \"gridcolor\": \"white\", \"linecolor\": \"white\", \"ticks\": \"\", \"title\": {\"standoff\": 15}, \"zerolinecolor\": \"white\", \"zerolinewidth\": 2}, \"yaxis\": {\"automargin\": true, \"gridcolor\": \"white\", \"linecolor\": \"white\", \"ticks\": \"\", \"title\": {\"standoff\": 15}, \"zerolinecolor\": \"white\", \"zerolinewidth\": 2}}}, \"xaxis\": {\"anchor\": \"y\", \"domain\": [0.0, 0.45]}, \"xaxis2\": {\"anchor\": \"y2\", \"domain\": [0.55, 1.0]}, \"yaxis\": {\"anchor\": \"x\", \"domain\": [0.0, 1.0]}, \"yaxis2\": {\"anchor\": \"x2\", \"domain\": [0.0, 1.0]}},\n",
       "                        {\"responsive\": true}\n",
       "                    ).then(function(){\n",
       "                            \n",
       "var gd = document.getElementById('23ef6513-2b9a-4bc4-9b10-357d8c85b863');\n",
       "var x = new MutationObserver(function (mutations, observer) {{\n",
       "        var display = window.getComputedStyle(gd).display;\n",
       "        if (!display || display === 'none') {{\n",
       "            console.log([gd, 'removed!']);\n",
       "            Plotly.purge(gd);\n",
       "            observer.disconnect();\n",
       "        }}\n",
       "}});\n",
       "\n",
       "// Listen for the removal of the full notebook cells\n",
       "var notebookContainer = gd.closest('#notebook-container');\n",
       "if (notebookContainer) {{\n",
       "    x.observe(notebookContainer, {childList: true});\n",
       "}}\n",
       "\n",
       "// Listen for the clearing of the current output cell\n",
       "var outputEl = gd.closest('.output');\n",
       "if (outputEl) {{\n",
       "    x.observe(outputEl, {childList: true});\n",
       "}}\n",
       "\n",
       "                        })\n",
       "                };\n",
       "                });\n",
       "            </script>\n",
       "        </div>"
      ]
     },
     "metadata": {},
     "output_type": "display_data"
    }
   ],
   "source": [
    "from plotly import tools\n",
    "\n",
    "title= 'coords'\n",
    "fig_subplots = tools.make_subplots(rows=1, cols=2,subplot_titles=tuple([title]*2))\n",
    "\n",
    "for trace in figwl:\n",
    "    fig_subplots.append_trace(trace, 1, 1)\n",
    "    \n",
    "\n",
    "trace= go.Scatter(\n",
    "    x= granted[:,0],\n",
    "    y= granted[:,1],\n",
    "    #z= grid_likes,\n",
    "    mode= 'markers',\n",
    "    marker= {\n",
    "        'color':grid_likes,\n",
    "        'colorbar': go.scatter.marker.ColorBar(\n",
    "            title= 'ColorBar'\n",
    "        ),\n",
    "        'colorscale':'Viridis',\n",
    "        'line': {'width': 0},\n",
    "        'size': 5,\n",
    "        'symbol': 'circle',\n",
    "      \"opacity\": 1\n",
    "      }\n",
    ")\n",
    "\n",
    "fig_subplots.append_trace(trace, 1,2)\n",
    "\n",
    "iplot(fig_subplots)"
   ]
  },
  {
   "cell_type": "code",
   "execution_count": null,
   "metadata": {},
   "outputs": [],
   "source": []
  }
 ],
 "metadata": {
  "kernelspec": {
   "display_name": "Python 3",
   "language": "python",
   "name": "python3"
  },
  "language_info": {
   "codemirror_mode": {
    "name": "ipython",
    "version": 3
   },
   "file_extension": ".py",
   "mimetype": "text/x-python",
   "name": "python",
   "nbconvert_exporter": "python",
   "pygments_lexer": "ipython3",
   "version": "3.7.3"
  }
 },
 "nbformat": 4,
 "nbformat_minor": 2
}
