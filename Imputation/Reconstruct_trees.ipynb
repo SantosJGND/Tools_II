{
 "cells": [
  {
   "cell_type": "code",
   "execution_count": 1,
   "metadata": {},
   "outputs": [
    {
     "data": {
      "text/html": [
       "        <script type=\"text/javascript\">\n",
       "        window.PlotlyConfig = {MathJaxConfig: 'local'};\n",
       "        if (window.MathJax) {MathJax.Hub.Config({SVG: {font: \"STIX-Web\"}});}\n",
       "        if (typeof require !== 'undefined') {\n",
       "        require.undef(\"plotly\");\n",
       "        requirejs.config({\n",
       "            paths: {\n",
       "                'plotly': ['https://cdn.plot.ly/plotly-latest.min']\n",
       "            }\n",
       "        });\n",
       "        require(['plotly'], function(Plotly) {\n",
       "            window._Plotly = Plotly;\n",
       "        });\n",
       "        }\n",
       "        </script>\n",
       "        "
      ]
     },
     "metadata": {},
     "output_type": "display_data"
    }
   ],
   "source": [
    "import scipy\n",
    "import numpy as np\n",
    "from sklearn.neighbors import KernelDensity\n",
    "from sklearn.decomposition import PCA\n",
    "from sklearn.model_selection import GridSearchCV\n",
    "from sklearn.cluster import estimate_bandwidth\n",
    "from sklearn.cluster import MeanShift, estimate_bandwidth\n",
    "\n",
    "import pandas as pd\n",
    "\n",
    "from scipy import stats\n",
    "from scipy.stats import beta\n",
    "from math import sin\n",
    "from random import randint\n",
    "from IPython.display import clear_output\n",
    "import matplotlib.pyplot as plt\n",
    "import itertools as it\n",
    "\n",
    "import plotly\n",
    "import plotly.graph_objs as go\n",
    "from plotly.offline import download_plotlyjs, init_notebook_mode, plot, iplot\n",
    "\n",
    "from ipywidgets import interact, interactive, fixed, interact_manual\n",
    "import ipywidgets as widgets\n",
    "init_notebook_mode(connected=True)\n",
    "\n",
    "import collections\n",
    "\n",
    "def recursively_default_dict():\n",
    "        return collections.defaultdict(recursively_default_dict)\n",
    "\n",
    "from matplotlib.collections import BrokenBarHCollection\n",
    "import re\n",
    "\n",
    "from structure_tools.Modules_tools import return_fsts\n",
    "\n",
    "PCA_color_ref= ['darkseagreen','crimson', 'darkorange', 'darkblue', 'darkcyan',\n",
    "            'darkgoldenrod', 'darkgray', 'darkgrey', 'darkgreen',\n",
    "            'darkkhaki', 'darkmagenta', 'darkolivegreen', 'darkorange',\n",
    "            'darkorchid', 'darkred', 'darksalmon', 'darkseagreen',\n",
    "            'darkslateblue', 'darkslategray', 'darkslategrey',\n",
    "            'darkturquoise', 'darkviolet', 'deeppink']"
   ]
  },
  {
   "cell_type": "markdown",
   "metadata": {},
   "source": [
    "## vcf analysis\n",
    "Jupyter notebook for the local analysis of genetic data stored in .vcf format.\n",
    "\n",
    "Perform analysis of structure across data set, followed by a more detailed study of variation across local genomic windows.\n",
    "\n",
    "### Input"
   ]
  },
  {
   "cell_type": "code",
   "execution_count": 2,
   "metadata": {},
   "outputs": [
    {
     "name": "stdout",
     "output_type": "stream",
     "text": [
      "Number of markers: 40000\n",
      "Number of individuals: 130\n"
     ]
    }
   ],
   "source": [
    "from structure_tools.vcf_geno_tools import simple_read_vcf\n",
    "\n",
    "vcf_file= 'data_cleanRefs_Alien01_Admx.vcf'\n",
    "\n",
    "genotype, summary, info_save= simple_read_vcf(vcf_file,row_info= 5,header_info= 9,phased= True)\n",
    "\n",
    "print('Number of markers: {}'.format(genotype.shape[1]))\n",
    "print('Number of individuals: {}'.format(genotype.shape[0]))"
   ]
  },
  {
   "cell_type": "code",
   "execution_count": 3,
   "metadata": {},
   "outputs": [
    {
     "data": {
      "text/html": [
       "<div>\n",
       "<style scoped>\n",
       "    .dataframe tbody tr th:only-of-type {\n",
       "        vertical-align: middle;\n",
       "    }\n",
       "\n",
       "    .dataframe tbody tr th {\n",
       "        vertical-align: top;\n",
       "    }\n",
       "\n",
       "    .dataframe thead th {\n",
       "        text-align: right;\n",
       "    }\n",
       "</style>\n",
       "<table border=\"1\" class=\"dataframe\">\n",
       "  <thead>\n",
       "    <tr style=\"text-align: right;\">\n",
       "      <th></th>\n",
       "      <th>CHROM</th>\n",
       "      <th>POS</th>\n",
       "      <th>ID</th>\n",
       "      <th>REF</th>\n",
       "      <th>ALT</th>\n",
       "      <th>QUAL</th>\n",
       "      <th>FILTER</th>\n",
       "      <th>INFO</th>\n",
       "      <th>FORMAT</th>\n",
       "    </tr>\n",
       "  </thead>\n",
       "  <tbody>\n",
       "    <tr>\n",
       "      <th>0</th>\n",
       "      <td>1</td>\n",
       "      <td>19</td>\n",
       "      <td>1</td>\n",
       "      <td>A</td>\n",
       "      <td>T</td>\n",
       "      <td>.</td>\n",
       "      <td>PASS</td>\n",
       "      <td>.</td>\n",
       "      <td>GT:AD:DP</td>\n",
       "    </tr>\n",
       "    <tr>\n",
       "      <th>1</th>\n",
       "      <td>1</td>\n",
       "      <td>57</td>\n",
       "      <td>2</td>\n",
       "      <td>A</td>\n",
       "      <td>T</td>\n",
       "      <td>.</td>\n",
       "      <td>PASS</td>\n",
       "      <td>.</td>\n",
       "      <td>GT:AD:DP</td>\n",
       "    </tr>\n",
       "    <tr>\n",
       "      <th>2</th>\n",
       "      <td>1</td>\n",
       "      <td>62</td>\n",
       "      <td>3</td>\n",
       "      <td>A</td>\n",
       "      <td>T</td>\n",
       "      <td>.</td>\n",
       "      <td>PASS</td>\n",
       "      <td>.</td>\n",
       "      <td>GT:AD:DP</td>\n",
       "    </tr>\n",
       "    <tr>\n",
       "      <th>3</th>\n",
       "      <td>1</td>\n",
       "      <td>163</td>\n",
       "      <td>4</td>\n",
       "      <td>A</td>\n",
       "      <td>T</td>\n",
       "      <td>.</td>\n",
       "      <td>PASS</td>\n",
       "      <td>.</td>\n",
       "      <td>GT:AD:DP</td>\n",
       "    </tr>\n",
       "    <tr>\n",
       "      <th>4</th>\n",
       "      <td>1</td>\n",
       "      <td>200</td>\n",
       "      <td>5</td>\n",
       "      <td>A</td>\n",
       "      <td>T</td>\n",
       "      <td>.</td>\n",
       "      <td>PASS</td>\n",
       "      <td>.</td>\n",
       "      <td>GT:AD:DP</td>\n",
       "    </tr>\n",
       "  </tbody>\n",
       "</table>\n",
       "</div>"
      ],
      "text/plain": [
       "  CHROM  POS ID REF ALT QUAL FILTER INFO    FORMAT\n",
       "0     1   19  1   A   T    .   PASS    .  GT:AD:DP\n",
       "1     1   57  2   A   T    .   PASS    .  GT:AD:DP\n",
       "2     1   62  3   A   T    .   PASS    .  GT:AD:DP\n",
       "3     1  163  4   A   T    .   PASS    .  GT:AD:DP\n",
       "4     1  200  5   A   T    .   PASS    .  GT:AD:DP"
      ]
     },
     "execution_count": 3,
     "metadata": {},
     "output_type": "execute_result"
    }
   ],
   "source": [
    "summary.head()\n"
   ]
  },
  {
   "cell_type": "markdown",
   "metadata": {},
   "source": [
    "### Global variation\n",
    "\n",
    "Perform PCA across data set.\n",
    "\n",
    "Perform Mean shift clustering to attempt to extract genetically coherent groups of accessions.\n",
    "\n",
    "These will later be used for supervised analysis."
   ]
  },
  {
   "cell_type": "code",
   "execution_count": 4,
   "metadata": {},
   "outputs": [],
   "source": [
    "from structure_tools.Tutorial_subplots import plot_global_pca\n",
    "\n",
    "## Perform PCA\n",
    "n_comp= 3\n",
    "pca = PCA(n_components=n_comp, whiten=False,svd_solver='randomized')\n",
    "\n",
    "feats= pca.fit_transform(genotype)"
   ]
  },
  {
   "cell_type": "code",
   "execution_count": 5,
   "metadata": {},
   "outputs": [],
   "source": [
    "## perform MeanShift clustering.\n",
    "bandwidth = estimate_bandwidth(feats, quantile=0.2)\n",
    "\n",
    "ms = MeanShift(bandwidth=bandwidth, bin_seeding=False, cluster_all=True, min_bin_freq=45)\n",
    "ms.fit(feats)\n",
    "labels1 = ms.labels_\n",
    "label_select = {y:[x for x in range(len(labels1)) if labels1[x] == y] for y in sorted(list(set(labels1)))}\n",
    "\n",
    "###"
   ]
  },
  {
   "cell_type": "code",
   "execution_count": 6,
   "metadata": {},
   "outputs": [
    {
     "data": {
      "application/vnd.plotly.v1+json": {
       "config": {
        "linkText": "Export to plot.ly",
        "plotlyServerURL": "https://plot.ly",
        "showLink": false
       },
       "data": [
        {
         "marker": {
          "color": "darkseagreen",
          "line": {
           "width": 0
          },
          "opacity": 0.8,
          "size": 6,
          "symbol": "circle"
         },
         "mode": "markers",
         "name": "0",
         "type": "scatter",
         "x": [
          -50.92965511064042,
          -50.122695213073676,
          -51.791426317184055,
          -50.18922768457569,
          -50.82759090431227,
          -51.431930579008736,
          -51.27860532540107,
          -51.60602555348463,
          -49.25236735037775,
          -50.66865320309655,
          -50.85386608224834,
          -49.349097084270014,
          -50.92844980158951,
          -51.47486700420786,
          -51.25734436859378,
          -50.618963036382084,
          -51.78893540331893,
          -51.21552770321487,
          -50.082010572336635,
          -51.301949450664424,
          -51.48833499997004,
          -51.574070932606034,
          -50.14254574831566,
          -50.279985329312886,
          -50.72269974747976,
          -49.987337619613136,
          -50.05731891437396,
          -50.80441240935232,
          -49.39402480602693,
          -51.83476210865233,
          -52.3064714277239,
          -51.13010633275694,
          -50.59704460494185,
          -51.598643970606304,
          -51.50589574188524,
          -51.8212381499601,
          -50.67749311301716,
          -51.18857335071394,
          -50.16547789591155,
          -50.71520274913881,
          -23.264189082557806,
          -36.70494300843521,
          -30.72003151356544,
          -38.0999285435935,
          -15.245207877841798,
          -38.259284367584065
         ],
         "xaxis": "x",
         "y": [
          -15.270437853719757,
          -15.337294726205668,
          -15.577040634458767,
          -14.335443171870677,
          -14.782022603325602,
          -15.548752601186749,
          -13.392152325295552,
          -15.739198406950713,
          -14.217180540586417,
          -14.270358876212814,
          -14.346372816620269,
          -14.615930063372236,
          -13.523948708986897,
          -15.997203436209224,
          -15.024713084732639,
          -14.322962106346298,
          -14.698860318061465,
          -15.401126172523425,
          -15.059683523062617,
          -14.53486413978672,
          -14.287322994035485,
          -15.231850921007878,
          -15.898294461038974,
          -15.224146824876863,
          -13.959060701824038,
          -14.513248345952018,
          -15.063689753109454,
          -14.606513588805784,
          -15.57568718031413,
          -15.160073846374223,
          -14.642999009002343,
          -16.15642475684009,
          -15.305612095848371,
          -14.650802195087214,
          -15.72008472149938,
          -14.563776349916907,
          -14.078165623252607,
          -16.34123367780726,
          -13.964079491683473,
          -13.805345755680909,
          -20.094144974044855,
          -9.797055045381637,
          -16.900060823008882,
          -16.665067795083672,
          -20.65793339368597,
          -16.12770000494191
         ],
         "yaxis": "y"
        },
        {
         "marker": {
          "color": "crimson",
          "line": {
           "width": 0
          },
          "opacity": 0.8,
          "size": 6,
          "symbol": "circle"
         },
         "mode": "markers",
         "name": "1",
         "type": "scatter",
         "x": [
          67.6536836582236,
          68.88400007716326,
          69.12243563578289,
          68.48041876101385,
          68.25733309216778,
          68.96585875848139,
          68.3125525211013,
          68.31750424432545,
          68.04433403961397,
          67.09201423528506,
          68.00350999881304,
          67.91203340697217,
          68.13618965501257,
          68.48608104474985,
          67.64023611981844,
          68.53225308897012,
          68.11768283090677,
          69.67926377386179,
          67.44548305715738,
          68.55129854161333,
          67.13533813128197,
          68.86208641727437,
          68.3595548597416,
          67.26501034758424,
          68.48529086748412,
          67.65165309246355,
          67.12634019346602,
          68.76316391298114,
          68.0766885534856,
          67.60352058775139,
          69.12423484043065,
          68.10751625144428,
          68.78321071679203,
          69.00564165776207,
          68.08034465019556,
          69.2355147667079,
          67.96569004391377,
          68.17970590989262,
          68.9559344674049,
          68.536301368247
         ],
         "xaxis": "x",
         "y": [
          -10.429599018701085,
          -10.924814920460127,
          -11.971209013141623,
          -11.324547722989704,
          -9.387550726751906,
          -11.509698261117109,
          -11.87150395604209,
          -11.069719191432378,
          -10.04268254294829,
          -11.5985700725781,
          -10.835272711270798,
          -11.56594004732113,
          -11.67556386638509,
          -10.643099832960484,
          -11.214142030398419,
          -10.843123581301661,
          -11.095899776572601,
          -10.950119871235158,
          -10.675622085992584,
          -11.294083271289491,
          -10.530946522223545,
          -11.35891799160636,
          -10.24309580883009,
          -11.243816137912134,
          -11.41646278941523,
          -10.992812211091234,
          -10.657053618403362,
          -10.346624163377365,
          -10.972944412147129,
          -10.465211832588254,
          -11.038399049755073,
          -10.377194460547294,
          -12.01329000356691,
          -10.823638708537109,
          -11.465443072358205,
          -11.714129862385553,
          -11.20232122124892,
          -10.960599180514343,
          -11.24590831817909,
          -10.789017372157694
         ],
         "yaxis": "y"
        },
        {
         "marker": {
          "color": "darkorange",
          "line": {
           "width": 0
          },
          "opacity": 0.8,
          "size": 6,
          "symbol": "circle"
         },
         "mode": "markers",
         "name": "2",
         "type": "scatter",
         "x": [
          -34.27321845773529,
          -33.69863913984631,
          -33.56245727722324,
          -34.22759103500851,
          -34.576975929537284,
          -35.83006283343574,
          -33.959608882256816,
          -33.3956475123559,
          -33.70549922660188,
          -35.01528168084917,
          -34.68756697790666,
          -34.34737437394637,
          -33.569021485783864,
          -35.22842992019599,
          -34.631613729084904,
          -35.071411205968055,
          -34.79093415017454,
          -35.25568105969022,
          -35.32212029178282,
          -35.46942391024551
         ],
         "xaxis": "x",
         "y": [
          16.034914069539496,
          16.52261012134995,
          15.702228854396049,
          15.068916650951493,
          15.335865623588086,
          14.985035489045442,
          15.87785948418189,
          15.614888398158719,
          17.69719689506331,
          15.756310731251347,
          15.026765176802652,
          16.357613499948247,
          16.048906747503036,
          16.163667364388164,
          14.441290626209467,
          16.44707904114969,
          16.03767430458797,
          15.495181824460845,
          15.766925270235907,
          15.696427035044094
         ],
         "yaxis": "y"
        },
        {
         "marker": {
          "color": "darkblue",
          "line": {
           "width": 0
          },
          "opacity": 0.8,
          "size": 6,
          "symbol": "circle"
         },
         "mode": "markers",
         "name": "3",
         "type": "scatter",
         "x": [
          47.390298665826016,
          28.55508184081537,
          33.434642152930884,
          24.59939157780199,
          19.74992061623195
         ],
         "xaxis": "x",
         "y": [
          -11.068962444640375,
          -9.611425492448927,
          -8.33230761277498,
          -17.00548143140015,
          -4.480578197486477
         ],
         "yaxis": "y"
        },
        {
         "marker": {
          "color": "darkcyan",
          "line": {
           "width": 0
          },
          "opacity": 0.8,
          "size": 6,
          "symbol": "circle"
         },
         "mode": "markers",
         "name": "4",
         "type": "scatter",
         "x": [
          20.32307919546355,
          12.703367026810346,
          12.541946219595971,
          28.32827967260548
         ],
         "xaxis": "x",
         "y": [
          92.5778344369724,
          75.26383947190726,
          83.68946500044882,
          95.47082668144907
         ],
         "yaxis": "y"
        },
        {
         "marker": {
          "color": "darkgoldenrod",
          "line": {
           "width": 0
          },
          "opacity": 0.8,
          "size": 6,
          "symbol": "circle"
         },
         "mode": "markers",
         "name": "5",
         "type": "scatter",
         "x": [
          0.9392790362596056,
          -8.32492870619595,
          -6.001117505245767,
          0.47267559047098917
         ],
         "xaxis": "x",
         "y": [
          66.81947931521418,
          55.71677525372854,
          55.4486476486469,
          68.02149943303405
         ],
         "yaxis": "y"
        },
        {
         "marker": {
          "color": "darkgray",
          "line": {
           "width": 0
          },
          "opacity": 0.8,
          "size": 6,
          "symbol": "circle"
         },
         "mode": "markers",
         "name": "6",
         "type": "scatter",
         "x": [
          31.003116421106437
         ],
         "xaxis": "x",
         "y": [
          81.09688566723175
         ],
         "yaxis": "y"
        },
        {
         "marker": {
          "color": "darkgrey",
          "line": {
           "width": 0
          },
          "opacity": 0.8,
          "size": 6,
          "symbol": "circle"
         },
         "mode": "markers",
         "name": "7",
         "type": "scatter",
         "x": [
          24.04247205252791
         ],
         "xaxis": "x",
         "y": [
          92.11771099881057
         ],
         "yaxis": "y"
        },
        {
         "marker": {
          "color": "darkgreen",
          "line": {
           "width": 0
          },
          "opacity": 0.8,
          "size": 6,
          "symbol": "circle"
         },
         "mode": "markers",
         "name": "8",
         "type": "scatter",
         "x": [
          7.83664802133827
         ],
         "xaxis": "x",
         "y": [
          35.95157582177658
         ],
         "yaxis": "y"
        },
        {
         "marker": {
          "color": "darkkhaki",
          "line": {
           "width": 0
          },
          "opacity": 0.8,
          "size": 6,
          "symbol": "circle"
         },
         "mode": "markers",
         "name": "9",
         "type": "scatter",
         "x": [
          3.732601399048257,
          -19.299186883130826
         ],
         "xaxis": "x",
         "y": [
          4.934167036347174,
          -10.38294452484463
         ],
         "yaxis": "y"
        },
        {
         "marker": {
          "color": "darkmagenta",
          "line": {
           "width": 0
          },
          "opacity": 0.8,
          "size": 6,
          "symbol": "circle"
         },
         "mode": "markers",
         "name": "10",
         "type": "scatter",
         "x": [
          11.543044309001804,
          -12.78086602436898
         ],
         "xaxis": "x",
         "y": [
          2.5400108051286736,
          -1.503519904892699
         ],
         "yaxis": "y"
        },
        {
         "marker": {
          "color": "darkolivegreen",
          "line": {
           "width": 0
          },
          "opacity": 0.8,
          "size": 6,
          "symbol": "circle"
         },
         "mode": "markers",
         "name": "11",
         "type": "scatter",
         "x": [
          -19.65567402567082
         ],
         "xaxis": "x",
         "y": [
          39.0616678427682
         ],
         "yaxis": "y"
        },
        {
         "marker": {
          "color": "darkorange",
          "line": {
           "width": 0
          },
          "opacity": 0.8,
          "size": 6,
          "symbol": "circle"
         },
         "mode": "markers",
         "name": "12",
         "type": "scatter",
         "x": [
          -22.346424900489193
         ],
         "xaxis": "x",
         "y": [
          25.15429227879053
         ],
         "yaxis": "y"
        },
        {
         "marker": {
          "color": "darkorchid",
          "line": {
           "width": 0
          },
          "opacity": 0.8,
          "size": 6,
          "symbol": "circle"
         },
         "mode": "markers",
         "name": "13",
         "type": "scatter",
         "x": [
          -10.26216894644254,
          -31.589413810082487
         ],
         "xaxis": "x",
         "y": [
          -7.4923460047666115,
          15.702040390497844
         ],
         "yaxis": "y"
        },
        {
         "marker": {
          "color": "darkseagreen",
          "line": {
           "width": 0
          },
          "opacity": 0.8,
          "size": 6,
          "symbol": "circle"
         },
         "mode": "markers",
         "name": "0",
         "type": "scatter",
         "x": [
          -50.92965511064042,
          -50.122695213073676,
          -51.791426317184055,
          -50.18922768457569,
          -50.82759090431227,
          -51.431930579008736,
          -51.27860532540107,
          -51.60602555348463,
          -49.25236735037775,
          -50.66865320309655,
          -50.85386608224834,
          -49.349097084270014,
          -50.92844980158951,
          -51.47486700420786,
          -51.25734436859378,
          -50.618963036382084,
          -51.78893540331893,
          -51.21552770321487,
          -50.082010572336635,
          -51.301949450664424,
          -51.48833499997004,
          -51.574070932606034,
          -50.14254574831566,
          -50.279985329312886,
          -50.72269974747976,
          -49.987337619613136,
          -50.05731891437396,
          -50.80441240935232,
          -49.39402480602693,
          -51.83476210865233,
          -52.3064714277239,
          -51.13010633275694,
          -50.59704460494185,
          -51.598643970606304,
          -51.50589574188524,
          -51.8212381499601,
          -50.67749311301716,
          -51.18857335071394,
          -50.16547789591155,
          -50.71520274913881,
          -23.264189082557806,
          -36.70494300843521,
          -30.72003151356544,
          -38.0999285435935,
          -15.245207877841798,
          -38.259284367584065
         ],
         "xaxis": "x2",
         "y": [
          13.63813527701303,
          14.469623947151883,
          14.493232576595691,
          13.775363024916388,
          14.003103483016512,
          13.687491362761046,
          14.423041639385156,
          14.01677074430146,
          14.403803901189313,
          13.08330955949845,
          13.98778119188632,
          13.520319225497405,
          12.982373100143445,
          13.096966774260958,
          13.5367947919723,
          14.846973917078348,
          13.60006485608552,
          14.008713039212354,
          13.227133233569996,
          14.126808363464727,
          13.344110535873424,
          12.960663500527152,
          15.41385528485871,
          14.648189598716202,
          14.279108510607672,
          13.255621955701827,
          15.758477077338583,
          14.017388941769084,
          13.652378821007748,
          14.010591026060666,
          14.44607819159879,
          13.544735149719369,
          14.274892092761524,
          15.099371518141343,
          14.175570255731023,
          13.356028600533188,
          14.362338942766698,
          14.095275259539731,
          14.63590410710734,
          14.109523017584651,
          19.88072886580532,
          21.68412948879285,
          19.713546307359795,
          19.190818073895585,
          21.468531146298147,
          15.983592336203388
         ],
         "yaxis": "y2"
        },
        {
         "marker": {
          "color": "crimson",
          "line": {
           "width": 0
          },
          "opacity": 0.8,
          "size": 6,
          "symbol": "circle"
         },
         "mode": "markers",
         "name": "1",
         "type": "scatter",
         "x": [
          67.6536836582236,
          68.88400007716326,
          69.12243563578289,
          68.48041876101385,
          68.25733309216778,
          68.96585875848139,
          68.3125525211013,
          68.31750424432545,
          68.04433403961397,
          67.09201423528506,
          68.00350999881304,
          67.91203340697217,
          68.13618965501257,
          68.48608104474985,
          67.64023611981844,
          68.53225308897012,
          68.11768283090677,
          69.67926377386179,
          67.44548305715738,
          68.55129854161333,
          67.13533813128197,
          68.86208641727437,
          68.3595548597416,
          67.26501034758424,
          68.48529086748412,
          67.65165309246355,
          67.12634019346602,
          68.76316391298114,
          68.0766885534856,
          67.60352058775139,
          69.12423484043065,
          68.10751625144428,
          68.78321071679203,
          69.00564165776207,
          68.08034465019556,
          69.2355147667079,
          67.96569004391377,
          68.17970590989262,
          68.9559344674049,
          68.536301368247
         ],
         "xaxis": "x2",
         "y": [
          -1.953453164653643,
          -2.4116833611990924,
          -1.3384999016077144,
          -1.7268001472224477,
          -1.4766706691109266,
          -1.804199909737303,
          -2.367099206606988,
          -0.9743828552558325,
          -2.476520988594173,
          -2.0993822688533728,
          -1.5827864481750213,
          -2.110843804086348,
          -1.3233337102530836,
          -1.7883432678538485,
          -1.3400707489193944,
          -1.4140647440915617,
          -1.9942146252147284,
          -1.2665720019759965,
          -0.2604508315966764,
          -0.7519759857436675,
          -1.430818380078661,
          -1.4453710110481077,
          -1.9568700556155556,
          -1.0583555926454653,
          -1.6971629954828664,
          -0.798224028726669,
          -0.6563022304197357,
          -2.0732070410458165,
          -1.3371329460948111,
          -2.092755532422247,
          -1.0989333377498338,
          -1.4212864586138987,
          -1.7426123791096881,
          -1.3575810243438495,
          -1.8477982172258118,
          -1.0548746348399325,
          -1.1324955420629244,
          0.06115822747911224,
          -1.067436048026103,
          -1.2293370125988188
         ],
         "yaxis": "y2"
        },
        {
         "marker": {
          "color": "darkorange",
          "line": {
           "width": 0
          },
          "opacity": 0.8,
          "size": 6,
          "symbol": "circle"
         },
         "mode": "markers",
         "name": "2",
         "type": "scatter",
         "x": [
          -34.27321845773529,
          -33.69863913984631,
          -33.56245727722324,
          -34.22759103500851,
          -34.576975929537284,
          -35.83006283343574,
          -33.959608882256816,
          -33.3956475123559,
          -33.70549922660188,
          -35.01528168084917,
          -34.68756697790666,
          -34.34737437394637,
          -33.569021485783864,
          -35.22842992019599,
          -34.631613729084904,
          -35.071411205968055,
          -34.79093415017454,
          -35.25568105969022,
          -35.32212029178282,
          -35.46942391024551
         ],
         "xaxis": "x2",
         "y": [
          -48.152963821791545,
          -48.995983192319606,
          -47.10108540652825,
          -45.957302364928424,
          -47.888697112798326,
          -50.07011150041718,
          -49.19580549571403,
          -47.66177444412008,
          -45.693664852062604,
          -47.33252977779955,
          -48.072975114479654,
          -47.57758635764012,
          -47.98432101995432,
          -48.912472963470485,
          -46.09734705116224,
          -48.536527629047775,
          -49.255590166104845,
          -46.64209584018771,
          -50.1610986358454,
          -47.43474792414081
         ],
         "yaxis": "y2"
        },
        {
         "marker": {
          "color": "darkblue",
          "line": {
           "width": 0
          },
          "opacity": 0.8,
          "size": 6,
          "symbol": "circle"
         },
         "mode": "markers",
         "name": "3",
         "type": "scatter",
         "x": [
          47.390298665826016,
          28.55508184081537,
          33.434642152930884,
          24.59939157780199,
          19.74992061623195
         ],
         "xaxis": "x2",
         "y": [
          1.574162152009604,
          -5.097758309366264,
          -7.5642045652732115,
          15.868675684093587,
          -16.27695815055519
         ],
         "yaxis": "y2"
        },
        {
         "marker": {
          "color": "darkcyan",
          "line": {
           "width": 0
          },
          "opacity": 0.8,
          "size": 6,
          "symbol": "circle"
         },
         "mode": "markers",
         "name": "4",
         "type": "scatter",
         "x": [
          20.32307919546355,
          12.703367026810346,
          12.541946219595971,
          28.32827967260548
         ],
         "xaxis": "x2",
         "y": [
          28.76971873189159,
          46.88614757529181,
          30.895457526541893,
          30.72353340019164
         ],
         "yaxis": "y2"
        },
        {
         "marker": {
          "color": "darkgoldenrod",
          "line": {
           "width": 0
          },
          "opacity": 0.8,
          "size": 6,
          "symbol": "circle"
         },
         "mode": "markers",
         "name": "5",
         "type": "scatter",
         "x": [
          0.9392790362596056,
          -8.32492870619595,
          -6.001117505245767,
          0.47267559047098917
         ],
         "xaxis": "x2",
         "y": [
          12.109253062820363,
          7.601132400075252,
          20.59543880267221,
          31.244297636313
         ],
         "yaxis": "y2"
        },
        {
         "marker": {
          "color": "darkgray",
          "line": {
           "width": 0
          },
          "opacity": 0.8,
          "size": 6,
          "symbol": "circle"
         },
         "mode": "markers",
         "name": "6",
         "type": "scatter",
         "x": [
          31.003116421106437
         ],
         "xaxis": "x2",
         "y": [
          10.021170852887828
         ],
         "yaxis": "y2"
        },
        {
         "marker": {
          "color": "darkgrey",
          "line": {
           "width": 0
          },
          "opacity": 0.8,
          "size": 6,
          "symbol": "circle"
         },
         "mode": "markers",
         "name": "7",
         "type": "scatter",
         "x": [
          24.04247205252791
         ],
         "xaxis": "x2",
         "y": [
          65.65985952046586
         ],
         "yaxis": "y2"
        },
        {
         "marker": {
          "color": "darkgreen",
          "line": {
           "width": 0
          },
          "opacity": 0.8,
          "size": 6,
          "symbol": "circle"
         },
         "mode": "markers",
         "name": "8",
         "type": "scatter",
         "x": [
          7.83664802133827
         ],
         "xaxis": "x2",
         "y": [
          56.48989567492003
         ],
         "yaxis": "y2"
        },
        {
         "marker": {
          "color": "darkkhaki",
          "line": {
           "width": 0
          },
          "opacity": 0.8,
          "size": 6,
          "symbol": "circle"
         },
         "mode": "markers",
         "name": "9",
         "type": "scatter",
         "x": [
          3.732601399048257,
          -19.299186883130826
         ],
         "xaxis": "x2",
         "y": [
          -0.7326454732954557,
          2.3717644241787075
         ],
         "yaxis": "y2"
        },
        {
         "marker": {
          "color": "darkmagenta",
          "line": {
           "width": 0
          },
          "opacity": 0.8,
          "size": 6,
          "symbol": "circle"
         },
         "mode": "markers",
         "name": "10",
         "type": "scatter",
         "x": [
          11.543044309001804,
          -12.78086602436898
         ],
         "xaxis": "x2",
         "y": [
          -26.845352584710334,
          -25.085713719640854
         ],
         "yaxis": "y2"
        },
        {
         "marker": {
          "color": "darkolivegreen",
          "line": {
           "width": 0
          },
          "opacity": 0.8,
          "size": 6,
          "symbol": "circle"
         },
         "mode": "markers",
         "name": "11",
         "type": "scatter",
         "x": [
          -19.65567402567082
         ],
         "xaxis": "x2",
         "y": [
          -19.50100958300941
         ],
         "yaxis": "y2"
        },
        {
         "marker": {
          "color": "darkorange",
          "line": {
           "width": 0
          },
          "opacity": 0.8,
          "size": 6,
          "symbol": "circle"
         },
         "mode": "markers",
         "name": "12",
         "type": "scatter",
         "x": [
          -22.346424900489193
         ],
         "xaxis": "x2",
         "y": [
          10.414109262322292
         ],
         "yaxis": "y2"
        },
        {
         "marker": {
          "color": "darkorchid",
          "line": {
           "width": 0
          },
          "opacity": 0.8,
          "size": 6,
          "symbol": "circle"
         },
         "mode": "markers",
         "name": "13",
         "type": "scatter",
         "x": [
          -10.26216894644254,
          -31.589413810082487
         ],
         "xaxis": "x2",
         "y": [
          31.366160532716254,
          37.847038083095185
         ],
         "yaxis": "y2"
        }
       ],
       "layout": {
        "annotations": [
         {
          "font": {
           "size": 16
          },
          "showarrow": false,
          "text": "global_pca",
          "x": 0.225,
          "xanchor": "center",
          "xref": "paper",
          "y": 1,
          "yanchor": "bottom",
          "yref": "paper"
         },
         {
          "font": {
           "size": 16
          },
          "showarrow": false,
          "text": "global_pca",
          "x": 0.775,
          "xanchor": "center",
          "xref": "paper",
          "y": 1,
          "yanchor": "bottom",
          "yref": "paper"
         }
        ],
        "height": 500,
        "template": {
         "data": {
          "bar": [
           {
            "error_x": {
             "color": "#2a3f5f"
            },
            "error_y": {
             "color": "#2a3f5f"
            },
            "marker": {
             "line": {
              "color": "#E5ECF6",
              "width": 0.5
             }
            },
            "type": "bar"
           }
          ],
          "barpolar": [
           {
            "marker": {
             "line": {
              "color": "#E5ECF6",
              "width": 0.5
             }
            },
            "type": "barpolar"
           }
          ],
          "carpet": [
           {
            "aaxis": {
             "endlinecolor": "#2a3f5f",
             "gridcolor": "white",
             "linecolor": "white",
             "minorgridcolor": "white",
             "startlinecolor": "#2a3f5f"
            },
            "baxis": {
             "endlinecolor": "#2a3f5f",
             "gridcolor": "white",
             "linecolor": "white",
             "minorgridcolor": "white",
             "startlinecolor": "#2a3f5f"
            },
            "type": "carpet"
           }
          ],
          "choropleth": [
           {
            "colorbar": {
             "outlinewidth": 0,
             "ticks": ""
            },
            "type": "choropleth"
           }
          ],
          "contour": [
           {
            "colorbar": {
             "outlinewidth": 0,
             "ticks": ""
            },
            "colorscale": [
             [
              0,
              "#0d0887"
             ],
             [
              0.1111111111111111,
              "#46039f"
             ],
             [
              0.2222222222222222,
              "#7201a8"
             ],
             [
              0.3333333333333333,
              "#9c179e"
             ],
             [
              0.4444444444444444,
              "#bd3786"
             ],
             [
              0.5555555555555556,
              "#d8576b"
             ],
             [
              0.6666666666666666,
              "#ed7953"
             ],
             [
              0.7777777777777778,
              "#fb9f3a"
             ],
             [
              0.8888888888888888,
              "#fdca26"
             ],
             [
              1,
              "#f0f921"
             ]
            ],
            "type": "contour"
           }
          ],
          "contourcarpet": [
           {
            "colorbar": {
             "outlinewidth": 0,
             "ticks": ""
            },
            "type": "contourcarpet"
           }
          ],
          "heatmap": [
           {
            "colorbar": {
             "outlinewidth": 0,
             "ticks": ""
            },
            "colorscale": [
             [
              0,
              "#0d0887"
             ],
             [
              0.1111111111111111,
              "#46039f"
             ],
             [
              0.2222222222222222,
              "#7201a8"
             ],
             [
              0.3333333333333333,
              "#9c179e"
             ],
             [
              0.4444444444444444,
              "#bd3786"
             ],
             [
              0.5555555555555556,
              "#d8576b"
             ],
             [
              0.6666666666666666,
              "#ed7953"
             ],
             [
              0.7777777777777778,
              "#fb9f3a"
             ],
             [
              0.8888888888888888,
              "#fdca26"
             ],
             [
              1,
              "#f0f921"
             ]
            ],
            "type": "heatmap"
           }
          ],
          "heatmapgl": [
           {
            "colorbar": {
             "outlinewidth": 0,
             "ticks": ""
            },
            "colorscale": [
             [
              0,
              "#0d0887"
             ],
             [
              0.1111111111111111,
              "#46039f"
             ],
             [
              0.2222222222222222,
              "#7201a8"
             ],
             [
              0.3333333333333333,
              "#9c179e"
             ],
             [
              0.4444444444444444,
              "#bd3786"
             ],
             [
              0.5555555555555556,
              "#d8576b"
             ],
             [
              0.6666666666666666,
              "#ed7953"
             ],
             [
              0.7777777777777778,
              "#fb9f3a"
             ],
             [
              0.8888888888888888,
              "#fdca26"
             ],
             [
              1,
              "#f0f921"
             ]
            ],
            "type": "heatmapgl"
           }
          ],
          "histogram": [
           {
            "marker": {
             "colorbar": {
              "outlinewidth": 0,
              "ticks": ""
             }
            },
            "type": "histogram"
           }
          ],
          "histogram2d": [
           {
            "colorbar": {
             "outlinewidth": 0,
             "ticks": ""
            },
            "colorscale": [
             [
              0,
              "#0d0887"
             ],
             [
              0.1111111111111111,
              "#46039f"
             ],
             [
              0.2222222222222222,
              "#7201a8"
             ],
             [
              0.3333333333333333,
              "#9c179e"
             ],
             [
              0.4444444444444444,
              "#bd3786"
             ],
             [
              0.5555555555555556,
              "#d8576b"
             ],
             [
              0.6666666666666666,
              "#ed7953"
             ],
             [
              0.7777777777777778,
              "#fb9f3a"
             ],
             [
              0.8888888888888888,
              "#fdca26"
             ],
             [
              1,
              "#f0f921"
             ]
            ],
            "type": "histogram2d"
           }
          ],
          "histogram2dcontour": [
           {
            "colorbar": {
             "outlinewidth": 0,
             "ticks": ""
            },
            "colorscale": [
             [
              0,
              "#0d0887"
             ],
             [
              0.1111111111111111,
              "#46039f"
             ],
             [
              0.2222222222222222,
              "#7201a8"
             ],
             [
              0.3333333333333333,
              "#9c179e"
             ],
             [
              0.4444444444444444,
              "#bd3786"
             ],
             [
              0.5555555555555556,
              "#d8576b"
             ],
             [
              0.6666666666666666,
              "#ed7953"
             ],
             [
              0.7777777777777778,
              "#fb9f3a"
             ],
             [
              0.8888888888888888,
              "#fdca26"
             ],
             [
              1,
              "#f0f921"
             ]
            ],
            "type": "histogram2dcontour"
           }
          ],
          "mesh3d": [
           {
            "colorbar": {
             "outlinewidth": 0,
             "ticks": ""
            },
            "type": "mesh3d"
           }
          ],
          "parcoords": [
           {
            "line": {
             "colorbar": {
              "outlinewidth": 0,
              "ticks": ""
             }
            },
            "type": "parcoords"
           }
          ],
          "pie": [
           {
            "automargin": true,
            "type": "pie"
           }
          ],
          "scatter": [
           {
            "marker": {
             "colorbar": {
              "outlinewidth": 0,
              "ticks": ""
             }
            },
            "type": "scatter"
           }
          ],
          "scatter3d": [
           {
            "line": {
             "colorbar": {
              "outlinewidth": 0,
              "ticks": ""
             }
            },
            "marker": {
             "colorbar": {
              "outlinewidth": 0,
              "ticks": ""
             }
            },
            "type": "scatter3d"
           }
          ],
          "scattercarpet": [
           {
            "marker": {
             "colorbar": {
              "outlinewidth": 0,
              "ticks": ""
             }
            },
            "type": "scattercarpet"
           }
          ],
          "scattergeo": [
           {
            "marker": {
             "colorbar": {
              "outlinewidth": 0,
              "ticks": ""
             }
            },
            "type": "scattergeo"
           }
          ],
          "scattergl": [
           {
            "marker": {
             "colorbar": {
              "outlinewidth": 0,
              "ticks": ""
             }
            },
            "type": "scattergl"
           }
          ],
          "scattermapbox": [
           {
            "marker": {
             "colorbar": {
              "outlinewidth": 0,
              "ticks": ""
             }
            },
            "type": "scattermapbox"
           }
          ],
          "scatterpolar": [
           {
            "marker": {
             "colorbar": {
              "outlinewidth": 0,
              "ticks": ""
             }
            },
            "type": "scatterpolar"
           }
          ],
          "scatterpolargl": [
           {
            "marker": {
             "colorbar": {
              "outlinewidth": 0,
              "ticks": ""
             }
            },
            "type": "scatterpolargl"
           }
          ],
          "scatterternary": [
           {
            "marker": {
             "colorbar": {
              "outlinewidth": 0,
              "ticks": ""
             }
            },
            "type": "scatterternary"
           }
          ],
          "surface": [
           {
            "colorbar": {
             "outlinewidth": 0,
             "ticks": ""
            },
            "colorscale": [
             [
              0,
              "#0d0887"
             ],
             [
              0.1111111111111111,
              "#46039f"
             ],
             [
              0.2222222222222222,
              "#7201a8"
             ],
             [
              0.3333333333333333,
              "#9c179e"
             ],
             [
              0.4444444444444444,
              "#bd3786"
             ],
             [
              0.5555555555555556,
              "#d8576b"
             ],
             [
              0.6666666666666666,
              "#ed7953"
             ],
             [
              0.7777777777777778,
              "#fb9f3a"
             ],
             [
              0.8888888888888888,
              "#fdca26"
             ],
             [
              1,
              "#f0f921"
             ]
            ],
            "type": "surface"
           }
          ],
          "table": [
           {
            "cells": {
             "fill": {
              "color": "#EBF0F8"
             },
             "line": {
              "color": "white"
             }
            },
            "header": {
             "fill": {
              "color": "#C8D4E3"
             },
             "line": {
              "color": "white"
             }
            },
            "type": "table"
           }
          ]
         },
         "layout": {
          "annotationdefaults": {
           "arrowcolor": "#2a3f5f",
           "arrowhead": 0,
           "arrowwidth": 1
          },
          "coloraxis": {
           "colorbar": {
            "outlinewidth": 0,
            "ticks": ""
           }
          },
          "colorscale": {
           "diverging": [
            [
             0,
             "#8e0152"
            ],
            [
             0.1,
             "#c51b7d"
            ],
            [
             0.2,
             "#de77ae"
            ],
            [
             0.3,
             "#f1b6da"
            ],
            [
             0.4,
             "#fde0ef"
            ],
            [
             0.5,
             "#f7f7f7"
            ],
            [
             0.6,
             "#e6f5d0"
            ],
            [
             0.7,
             "#b8e186"
            ],
            [
             0.8,
             "#7fbc41"
            ],
            [
             0.9,
             "#4d9221"
            ],
            [
             1,
             "#276419"
            ]
           ],
           "sequential": [
            [
             0,
             "#0d0887"
            ],
            [
             0.1111111111111111,
             "#46039f"
            ],
            [
             0.2222222222222222,
             "#7201a8"
            ],
            [
             0.3333333333333333,
             "#9c179e"
            ],
            [
             0.4444444444444444,
             "#bd3786"
            ],
            [
             0.5555555555555556,
             "#d8576b"
            ],
            [
             0.6666666666666666,
             "#ed7953"
            ],
            [
             0.7777777777777778,
             "#fb9f3a"
            ],
            [
             0.8888888888888888,
             "#fdca26"
            ],
            [
             1,
             "#f0f921"
            ]
           ],
           "sequentialminus": [
            [
             0,
             "#0d0887"
            ],
            [
             0.1111111111111111,
             "#46039f"
            ],
            [
             0.2222222222222222,
             "#7201a8"
            ],
            [
             0.3333333333333333,
             "#9c179e"
            ],
            [
             0.4444444444444444,
             "#bd3786"
            ],
            [
             0.5555555555555556,
             "#d8576b"
            ],
            [
             0.6666666666666666,
             "#ed7953"
            ],
            [
             0.7777777777777778,
             "#fb9f3a"
            ],
            [
             0.8888888888888888,
             "#fdca26"
            ],
            [
             1,
             "#f0f921"
            ]
           ]
          },
          "colorway": [
           "#636efa",
           "#EF553B",
           "#00cc96",
           "#ab63fa",
           "#FFA15A",
           "#19d3f3",
           "#FF6692",
           "#B6E880",
           "#FF97FF",
           "#FECB52"
          ],
          "font": {
           "color": "#2a3f5f"
          },
          "geo": {
           "bgcolor": "white",
           "lakecolor": "white",
           "landcolor": "#E5ECF6",
           "showlakes": true,
           "showland": true,
           "subunitcolor": "white"
          },
          "hoverlabel": {
           "align": "left"
          },
          "hovermode": "closest",
          "mapbox": {
           "style": "light"
          },
          "paper_bgcolor": "white",
          "plot_bgcolor": "#E5ECF6",
          "polar": {
           "angularaxis": {
            "gridcolor": "white",
            "linecolor": "white",
            "ticks": ""
           },
           "bgcolor": "#E5ECF6",
           "radialaxis": {
            "gridcolor": "white",
            "linecolor": "white",
            "ticks": ""
           }
          },
          "scene": {
           "xaxis": {
            "backgroundcolor": "#E5ECF6",
            "gridcolor": "white",
            "gridwidth": 2,
            "linecolor": "white",
            "showbackground": true,
            "ticks": "",
            "zerolinecolor": "white"
           },
           "yaxis": {
            "backgroundcolor": "#E5ECF6",
            "gridcolor": "white",
            "gridwidth": 2,
            "linecolor": "white",
            "showbackground": true,
            "ticks": "",
            "zerolinecolor": "white"
           },
           "zaxis": {
            "backgroundcolor": "#E5ECF6",
            "gridcolor": "white",
            "gridwidth": 2,
            "linecolor": "white",
            "showbackground": true,
            "ticks": "",
            "zerolinecolor": "white"
           }
          },
          "shapedefaults": {
           "line": {
            "color": "#2a3f5f"
           }
          },
          "ternary": {
           "aaxis": {
            "gridcolor": "white",
            "linecolor": "white",
            "ticks": ""
           },
           "baxis": {
            "gridcolor": "white",
            "linecolor": "white",
            "ticks": ""
           },
           "bgcolor": "#E5ECF6",
           "caxis": {
            "gridcolor": "white",
            "linecolor": "white",
            "ticks": ""
           }
          },
          "title": {
           "x": 0.05
          },
          "xaxis": {
           "automargin": true,
           "gridcolor": "white",
           "linecolor": "white",
           "ticks": "",
           "title": {
            "standoff": 15
           },
           "zerolinecolor": "white",
           "zerolinewidth": 2
          },
          "yaxis": {
           "automargin": true,
           "gridcolor": "white",
           "linecolor": "white",
           "ticks": "",
           "title": {
            "standoff": 15
           },
           "zerolinecolor": "white",
           "zerolinewidth": 2
          }
         }
        },
        "width": 950,
        "xaxis": {
         "anchor": "y",
         "domain": [
          0,
          0.45
         ],
         "title": {
          "text": "PC1"
         }
        },
        "xaxis2": {
         "anchor": "y2",
         "domain": [
          0.55,
          1
         ],
         "title": {
          "text": "PC1"
         }
        },
        "yaxis": {
         "anchor": "x",
         "domain": [
          0,
          1
         ],
         "title": {
          "text": "PC2"
         }
        },
        "yaxis2": {
         "anchor": "x2",
         "domain": [
          0,
          1
         ],
         "title": {
          "text": "PC3"
         }
        }
       }
      },
      "text/html": [
       "<div>\n",
       "        \n",
       "        \n",
       "            <div id=\"c9f452b9-a8d0-4381-a555-b4176363be47\" class=\"plotly-graph-div\" style=\"height:500px; width:950px;\"></div>\n",
       "            <script type=\"text/javascript\">\n",
       "                require([\"plotly\"], function(Plotly) {\n",
       "                    window.PLOTLYENV=window.PLOTLYENV || {};\n",
       "                    \n",
       "                if (document.getElementById(\"c9f452b9-a8d0-4381-a555-b4176363be47\")) {\n",
       "                    Plotly.newPlot(\n",
       "                        'c9f452b9-a8d0-4381-a555-b4176363be47',\n",
       "                        [{\"marker\": {\"color\": \"darkseagreen\", \"line\": {\"width\": 0}, \"opacity\": 0.8, \"size\": 6, \"symbol\": \"circle\"}, \"mode\": \"markers\", \"name\": \"0\", \"type\": \"scatter\", \"x\": [-50.92965511064042, -50.122695213073676, -51.791426317184055, -50.18922768457569, -50.82759090431227, -51.431930579008736, -51.27860532540107, -51.60602555348463, -49.25236735037775, -50.66865320309655, -50.85386608224834, -49.349097084270014, -50.92844980158951, -51.47486700420786, -51.25734436859378, -50.618963036382084, -51.78893540331893, -51.21552770321487, -50.082010572336635, -51.301949450664424, -51.48833499997004, -51.574070932606034, -50.14254574831566, -50.279985329312886, -50.72269974747976, -49.987337619613136, -50.05731891437396, -50.80441240935232, -49.39402480602693, -51.83476210865233, -52.3064714277239, -51.13010633275694, -50.59704460494185, -51.598643970606304, -51.50589574188524, -51.8212381499601, -50.67749311301716, -51.18857335071394, -50.16547789591155, -50.71520274913881, -23.264189082557806, -36.70494300843521, -30.72003151356544, -38.0999285435935, -15.245207877841798, -38.259284367584065], \"xaxis\": \"x\", \"y\": [-15.270437853719757, -15.337294726205668, -15.577040634458767, -14.335443171870677, -14.782022603325602, -15.548752601186749, -13.392152325295552, -15.739198406950713, -14.217180540586417, -14.270358876212814, -14.346372816620269, -14.615930063372236, -13.523948708986897, -15.997203436209224, -15.024713084732639, -14.322962106346298, -14.698860318061465, -15.401126172523425, -15.059683523062617, -14.53486413978672, -14.287322994035485, -15.231850921007878, -15.898294461038974, -15.224146824876863, -13.959060701824038, -14.513248345952018, -15.063689753109454, -14.606513588805784, -15.57568718031413, -15.160073846374223, -14.642999009002343, -16.15642475684009, -15.305612095848371, -14.650802195087214, -15.72008472149938, -14.563776349916907, -14.078165623252607, -16.34123367780726, -13.964079491683473, -13.805345755680909, -20.094144974044855, -9.797055045381637, -16.900060823008882, -16.665067795083672, -20.65793339368597, -16.12770000494191], \"yaxis\": \"y\"}, {\"marker\": {\"color\": \"crimson\", \"line\": {\"width\": 0}, \"opacity\": 0.8, \"size\": 6, \"symbol\": \"circle\"}, \"mode\": \"markers\", \"name\": \"1\", \"type\": \"scatter\", \"x\": [67.6536836582236, 68.88400007716326, 69.12243563578289, 68.48041876101385, 68.25733309216778, 68.96585875848139, 68.3125525211013, 68.31750424432545, 68.04433403961397, 67.09201423528506, 68.00350999881304, 67.91203340697217, 68.13618965501257, 68.48608104474985, 67.64023611981844, 68.53225308897012, 68.11768283090677, 69.67926377386179, 67.44548305715738, 68.55129854161333, 67.13533813128197, 68.86208641727437, 68.3595548597416, 67.26501034758424, 68.48529086748412, 67.65165309246355, 67.12634019346602, 68.76316391298114, 68.0766885534856, 67.60352058775139, 69.12423484043065, 68.10751625144428, 68.78321071679203, 69.00564165776207, 68.08034465019556, 69.2355147667079, 67.96569004391377, 68.17970590989262, 68.9559344674049, 68.536301368247], \"xaxis\": \"x\", \"y\": [-10.429599018701085, -10.924814920460127, -11.971209013141623, -11.324547722989704, -9.387550726751906, -11.509698261117109, -11.87150395604209, -11.069719191432378, -10.04268254294829, -11.5985700725781, -10.835272711270798, -11.56594004732113, -11.67556386638509, -10.643099832960484, -11.214142030398419, -10.843123581301661, -11.095899776572601, -10.950119871235158, -10.675622085992584, -11.294083271289491, -10.530946522223545, -11.35891799160636, -10.24309580883009, -11.243816137912134, -11.41646278941523, -10.992812211091234, -10.657053618403362, -10.346624163377365, -10.972944412147129, -10.465211832588254, -11.038399049755073, -10.377194460547294, -12.01329000356691, -10.823638708537109, -11.465443072358205, -11.714129862385553, -11.20232122124892, -10.960599180514343, -11.24590831817909, -10.789017372157694], \"yaxis\": \"y\"}, {\"marker\": {\"color\": \"darkorange\", \"line\": {\"width\": 0}, \"opacity\": 0.8, \"size\": 6, \"symbol\": \"circle\"}, \"mode\": \"markers\", \"name\": \"2\", \"type\": \"scatter\", \"x\": [-34.27321845773529, -33.69863913984631, -33.56245727722324, -34.22759103500851, -34.576975929537284, -35.83006283343574, -33.959608882256816, -33.3956475123559, -33.70549922660188, -35.01528168084917, -34.68756697790666, -34.34737437394637, -33.569021485783864, -35.22842992019599, -34.631613729084904, -35.071411205968055, -34.79093415017454, -35.25568105969022, -35.32212029178282, -35.46942391024551], \"xaxis\": \"x\", \"y\": [16.034914069539496, 16.52261012134995, 15.702228854396049, 15.068916650951493, 15.335865623588086, 14.985035489045442, 15.87785948418189, 15.614888398158719, 17.69719689506331, 15.756310731251347, 15.026765176802652, 16.357613499948247, 16.048906747503036, 16.163667364388164, 14.441290626209467, 16.44707904114969, 16.03767430458797, 15.495181824460845, 15.766925270235907, 15.696427035044094], \"yaxis\": \"y\"}, {\"marker\": {\"color\": \"darkblue\", \"line\": {\"width\": 0}, \"opacity\": 0.8, \"size\": 6, \"symbol\": \"circle\"}, \"mode\": \"markers\", \"name\": \"3\", \"type\": \"scatter\", \"x\": [47.390298665826016, 28.55508184081537, 33.434642152930884, 24.59939157780199, 19.74992061623195], \"xaxis\": \"x\", \"y\": [-11.068962444640375, -9.611425492448927, -8.33230761277498, -17.00548143140015, -4.480578197486477], \"yaxis\": \"y\"}, {\"marker\": {\"color\": \"darkcyan\", \"line\": {\"width\": 0}, \"opacity\": 0.8, \"size\": 6, \"symbol\": \"circle\"}, \"mode\": \"markers\", \"name\": \"4\", \"type\": \"scatter\", \"x\": [20.32307919546355, 12.703367026810346, 12.541946219595971, 28.32827967260548], \"xaxis\": \"x\", \"y\": [92.5778344369724, 75.26383947190726, 83.68946500044882, 95.47082668144907], \"yaxis\": \"y\"}, {\"marker\": {\"color\": \"darkgoldenrod\", \"line\": {\"width\": 0}, \"opacity\": 0.8, \"size\": 6, \"symbol\": \"circle\"}, \"mode\": \"markers\", \"name\": \"5\", \"type\": \"scatter\", \"x\": [0.9392790362596056, -8.32492870619595, -6.001117505245767, 0.47267559047098917], \"xaxis\": \"x\", \"y\": [66.81947931521418, 55.71677525372854, 55.4486476486469, 68.02149943303405], \"yaxis\": \"y\"}, {\"marker\": {\"color\": \"darkgray\", \"line\": {\"width\": 0}, \"opacity\": 0.8, \"size\": 6, \"symbol\": \"circle\"}, \"mode\": \"markers\", \"name\": \"6\", \"type\": \"scatter\", \"x\": [31.003116421106437], \"xaxis\": \"x\", \"y\": [81.09688566723175], \"yaxis\": \"y\"}, {\"marker\": {\"color\": \"darkgrey\", \"line\": {\"width\": 0}, \"opacity\": 0.8, \"size\": 6, \"symbol\": \"circle\"}, \"mode\": \"markers\", \"name\": \"7\", \"type\": \"scatter\", \"x\": [24.04247205252791], \"xaxis\": \"x\", \"y\": [92.11771099881057], \"yaxis\": \"y\"}, {\"marker\": {\"color\": \"darkgreen\", \"line\": {\"width\": 0}, \"opacity\": 0.8, \"size\": 6, \"symbol\": \"circle\"}, \"mode\": \"markers\", \"name\": \"8\", \"type\": \"scatter\", \"x\": [7.83664802133827], \"xaxis\": \"x\", \"y\": [35.95157582177658], \"yaxis\": \"y\"}, {\"marker\": {\"color\": \"darkkhaki\", \"line\": {\"width\": 0}, \"opacity\": 0.8, \"size\": 6, \"symbol\": \"circle\"}, \"mode\": \"markers\", \"name\": \"9\", \"type\": \"scatter\", \"x\": [3.732601399048257, -19.299186883130826], \"xaxis\": \"x\", \"y\": [4.934167036347174, -10.38294452484463], \"yaxis\": \"y\"}, {\"marker\": {\"color\": \"darkmagenta\", \"line\": {\"width\": 0}, \"opacity\": 0.8, \"size\": 6, \"symbol\": \"circle\"}, \"mode\": \"markers\", \"name\": \"10\", \"type\": \"scatter\", \"x\": [11.543044309001804, -12.78086602436898], \"xaxis\": \"x\", \"y\": [2.5400108051286736, -1.503519904892699], \"yaxis\": \"y\"}, {\"marker\": {\"color\": \"darkolivegreen\", \"line\": {\"width\": 0}, \"opacity\": 0.8, \"size\": 6, \"symbol\": \"circle\"}, \"mode\": \"markers\", \"name\": \"11\", \"type\": \"scatter\", \"x\": [-19.65567402567082], \"xaxis\": \"x\", \"y\": [39.0616678427682], \"yaxis\": \"y\"}, {\"marker\": {\"color\": \"darkorange\", \"line\": {\"width\": 0}, \"opacity\": 0.8, \"size\": 6, \"symbol\": \"circle\"}, \"mode\": \"markers\", \"name\": \"12\", \"type\": \"scatter\", \"x\": [-22.346424900489193], \"xaxis\": \"x\", \"y\": [25.15429227879053], \"yaxis\": \"y\"}, {\"marker\": {\"color\": \"darkorchid\", \"line\": {\"width\": 0}, \"opacity\": 0.8, \"size\": 6, \"symbol\": \"circle\"}, \"mode\": \"markers\", \"name\": \"13\", \"type\": \"scatter\", \"x\": [-10.26216894644254, -31.589413810082487], \"xaxis\": \"x\", \"y\": [-7.4923460047666115, 15.702040390497844], \"yaxis\": \"y\"}, {\"marker\": {\"color\": \"darkseagreen\", \"line\": {\"width\": 0}, \"opacity\": 0.8, \"size\": 6, \"symbol\": \"circle\"}, \"mode\": \"markers\", \"name\": \"0\", \"type\": \"scatter\", \"x\": [-50.92965511064042, -50.122695213073676, -51.791426317184055, -50.18922768457569, -50.82759090431227, -51.431930579008736, -51.27860532540107, -51.60602555348463, -49.25236735037775, -50.66865320309655, -50.85386608224834, -49.349097084270014, -50.92844980158951, -51.47486700420786, -51.25734436859378, -50.618963036382084, -51.78893540331893, -51.21552770321487, -50.082010572336635, -51.301949450664424, -51.48833499997004, -51.574070932606034, -50.14254574831566, -50.279985329312886, -50.72269974747976, -49.987337619613136, -50.05731891437396, -50.80441240935232, -49.39402480602693, -51.83476210865233, -52.3064714277239, -51.13010633275694, -50.59704460494185, -51.598643970606304, -51.50589574188524, -51.8212381499601, -50.67749311301716, -51.18857335071394, -50.16547789591155, -50.71520274913881, -23.264189082557806, -36.70494300843521, -30.72003151356544, -38.0999285435935, -15.245207877841798, -38.259284367584065], \"xaxis\": \"x2\", \"y\": [13.63813527701303, 14.469623947151883, 14.493232576595691, 13.775363024916388, 14.003103483016512, 13.687491362761046, 14.423041639385156, 14.01677074430146, 14.403803901189313, 13.08330955949845, 13.98778119188632, 13.520319225497405, 12.982373100143445, 13.096966774260958, 13.5367947919723, 14.846973917078348, 13.60006485608552, 14.008713039212354, 13.227133233569996, 14.126808363464727, 13.344110535873424, 12.960663500527152, 15.41385528485871, 14.648189598716202, 14.279108510607672, 13.255621955701827, 15.758477077338583, 14.017388941769084, 13.652378821007748, 14.010591026060666, 14.44607819159879, 13.544735149719369, 14.274892092761524, 15.099371518141343, 14.175570255731023, 13.356028600533188, 14.362338942766698, 14.095275259539731, 14.63590410710734, 14.109523017584651, 19.88072886580532, 21.68412948879285, 19.713546307359795, 19.190818073895585, 21.468531146298147, 15.983592336203388], \"yaxis\": \"y2\"}, {\"marker\": {\"color\": \"crimson\", \"line\": {\"width\": 0}, \"opacity\": 0.8, \"size\": 6, \"symbol\": \"circle\"}, \"mode\": \"markers\", \"name\": \"1\", \"type\": \"scatter\", \"x\": [67.6536836582236, 68.88400007716326, 69.12243563578289, 68.48041876101385, 68.25733309216778, 68.96585875848139, 68.3125525211013, 68.31750424432545, 68.04433403961397, 67.09201423528506, 68.00350999881304, 67.91203340697217, 68.13618965501257, 68.48608104474985, 67.64023611981844, 68.53225308897012, 68.11768283090677, 69.67926377386179, 67.44548305715738, 68.55129854161333, 67.13533813128197, 68.86208641727437, 68.3595548597416, 67.26501034758424, 68.48529086748412, 67.65165309246355, 67.12634019346602, 68.76316391298114, 68.0766885534856, 67.60352058775139, 69.12423484043065, 68.10751625144428, 68.78321071679203, 69.00564165776207, 68.08034465019556, 69.2355147667079, 67.96569004391377, 68.17970590989262, 68.9559344674049, 68.536301368247], \"xaxis\": \"x2\", \"y\": [-1.953453164653643, -2.4116833611990924, -1.3384999016077144, -1.7268001472224477, -1.4766706691109266, -1.804199909737303, -2.367099206606988, -0.9743828552558325, -2.476520988594173, -2.0993822688533728, -1.5827864481750213, -2.110843804086348, -1.3233337102530836, -1.7883432678538485, -1.3400707489193944, -1.4140647440915617, -1.9942146252147284, -1.2665720019759965, -0.2604508315966764, -0.7519759857436675, -1.430818380078661, -1.4453710110481077, -1.9568700556155556, -1.0583555926454653, -1.6971629954828664, -0.798224028726669, -0.6563022304197357, -2.0732070410458165, -1.3371329460948111, -2.092755532422247, -1.0989333377498338, -1.4212864586138987, -1.7426123791096881, -1.3575810243438495, -1.8477982172258118, -1.0548746348399325, -1.1324955420629244, 0.06115822747911224, -1.067436048026103, -1.2293370125988188], \"yaxis\": \"y2\"}, {\"marker\": {\"color\": \"darkorange\", \"line\": {\"width\": 0}, \"opacity\": 0.8, \"size\": 6, \"symbol\": \"circle\"}, \"mode\": \"markers\", \"name\": \"2\", \"type\": \"scatter\", \"x\": [-34.27321845773529, -33.69863913984631, -33.56245727722324, -34.22759103500851, -34.576975929537284, -35.83006283343574, -33.959608882256816, -33.3956475123559, -33.70549922660188, -35.01528168084917, -34.68756697790666, -34.34737437394637, -33.569021485783864, -35.22842992019599, -34.631613729084904, -35.071411205968055, -34.79093415017454, -35.25568105969022, -35.32212029178282, -35.46942391024551], \"xaxis\": \"x2\", \"y\": [-48.152963821791545, -48.995983192319606, -47.10108540652825, -45.957302364928424, -47.888697112798326, -50.07011150041718, -49.19580549571403, -47.66177444412008, -45.693664852062604, -47.33252977779955, -48.072975114479654, -47.57758635764012, -47.98432101995432, -48.912472963470485, -46.09734705116224, -48.536527629047775, -49.255590166104845, -46.64209584018771, -50.1610986358454, -47.43474792414081], \"yaxis\": \"y2\"}, {\"marker\": {\"color\": \"darkblue\", \"line\": {\"width\": 0}, \"opacity\": 0.8, \"size\": 6, \"symbol\": \"circle\"}, \"mode\": \"markers\", \"name\": \"3\", \"type\": \"scatter\", \"x\": [47.390298665826016, 28.55508184081537, 33.434642152930884, 24.59939157780199, 19.74992061623195], \"xaxis\": \"x2\", \"y\": [1.574162152009604, -5.097758309366264, -7.5642045652732115, 15.868675684093587, -16.27695815055519], \"yaxis\": \"y2\"}, {\"marker\": {\"color\": \"darkcyan\", \"line\": {\"width\": 0}, \"opacity\": 0.8, \"size\": 6, \"symbol\": \"circle\"}, \"mode\": \"markers\", \"name\": \"4\", \"type\": \"scatter\", \"x\": [20.32307919546355, 12.703367026810346, 12.541946219595971, 28.32827967260548], \"xaxis\": \"x2\", \"y\": [28.76971873189159, 46.88614757529181, 30.895457526541893, 30.72353340019164], \"yaxis\": \"y2\"}, {\"marker\": {\"color\": \"darkgoldenrod\", \"line\": {\"width\": 0}, \"opacity\": 0.8, \"size\": 6, \"symbol\": \"circle\"}, \"mode\": \"markers\", \"name\": \"5\", \"type\": \"scatter\", \"x\": [0.9392790362596056, -8.32492870619595, -6.001117505245767, 0.47267559047098917], \"xaxis\": \"x2\", \"y\": [12.109253062820363, 7.601132400075252, 20.59543880267221, 31.244297636313], \"yaxis\": \"y2\"}, {\"marker\": {\"color\": \"darkgray\", \"line\": {\"width\": 0}, \"opacity\": 0.8, \"size\": 6, \"symbol\": \"circle\"}, \"mode\": \"markers\", \"name\": \"6\", \"type\": \"scatter\", \"x\": [31.003116421106437], \"xaxis\": \"x2\", \"y\": [10.021170852887828], \"yaxis\": \"y2\"}, {\"marker\": {\"color\": \"darkgrey\", \"line\": {\"width\": 0}, \"opacity\": 0.8, \"size\": 6, \"symbol\": \"circle\"}, \"mode\": \"markers\", \"name\": \"7\", \"type\": \"scatter\", \"x\": [24.04247205252791], \"xaxis\": \"x2\", \"y\": [65.65985952046586], \"yaxis\": \"y2\"}, {\"marker\": {\"color\": \"darkgreen\", \"line\": {\"width\": 0}, \"opacity\": 0.8, \"size\": 6, \"symbol\": \"circle\"}, \"mode\": \"markers\", \"name\": \"8\", \"type\": \"scatter\", \"x\": [7.83664802133827], \"xaxis\": \"x2\", \"y\": [56.48989567492003], \"yaxis\": \"y2\"}, {\"marker\": {\"color\": \"darkkhaki\", \"line\": {\"width\": 0}, \"opacity\": 0.8, \"size\": 6, \"symbol\": \"circle\"}, \"mode\": \"markers\", \"name\": \"9\", \"type\": \"scatter\", \"x\": [3.732601399048257, -19.299186883130826], \"xaxis\": \"x2\", \"y\": [-0.7326454732954557, 2.3717644241787075], \"yaxis\": \"y2\"}, {\"marker\": {\"color\": \"darkmagenta\", \"line\": {\"width\": 0}, \"opacity\": 0.8, \"size\": 6, \"symbol\": \"circle\"}, \"mode\": \"markers\", \"name\": \"10\", \"type\": \"scatter\", \"x\": [11.543044309001804, -12.78086602436898], \"xaxis\": \"x2\", \"y\": [-26.845352584710334, -25.085713719640854], \"yaxis\": \"y2\"}, {\"marker\": {\"color\": \"darkolivegreen\", \"line\": {\"width\": 0}, \"opacity\": 0.8, \"size\": 6, \"symbol\": \"circle\"}, \"mode\": \"markers\", \"name\": \"11\", \"type\": \"scatter\", \"x\": [-19.65567402567082], \"xaxis\": \"x2\", \"y\": [-19.50100958300941], \"yaxis\": \"y2\"}, {\"marker\": {\"color\": \"darkorange\", \"line\": {\"width\": 0}, \"opacity\": 0.8, \"size\": 6, \"symbol\": \"circle\"}, \"mode\": \"markers\", \"name\": \"12\", \"type\": \"scatter\", \"x\": [-22.346424900489193], \"xaxis\": \"x2\", \"y\": [10.414109262322292], \"yaxis\": \"y2\"}, {\"marker\": {\"color\": \"darkorchid\", \"line\": {\"width\": 0}, \"opacity\": 0.8, \"size\": 6, \"symbol\": \"circle\"}, \"mode\": \"markers\", \"name\": \"13\", \"type\": \"scatter\", \"x\": [-10.26216894644254, -31.589413810082487], \"xaxis\": \"x2\", \"y\": [31.366160532716254, 37.847038083095185], \"yaxis\": \"y2\"}],\n",
       "                        {\"annotations\": [{\"font\": {\"size\": 16}, \"showarrow\": false, \"text\": \"global_pca\", \"x\": 0.225, \"xanchor\": \"center\", \"xref\": \"paper\", \"y\": 1.0, \"yanchor\": \"bottom\", \"yref\": \"paper\"}, {\"font\": {\"size\": 16}, \"showarrow\": false, \"text\": \"global_pca\", \"x\": 0.775, \"xanchor\": \"center\", \"xref\": \"paper\", \"y\": 1.0, \"yanchor\": \"bottom\", \"yref\": \"paper\"}], \"height\": 500, \"template\": {\"data\": {\"bar\": [{\"error_x\": {\"color\": \"#2a3f5f\"}, \"error_y\": {\"color\": \"#2a3f5f\"}, \"marker\": {\"line\": {\"color\": \"#E5ECF6\", \"width\": 0.5}}, \"type\": \"bar\"}], \"barpolar\": [{\"marker\": {\"line\": {\"color\": \"#E5ECF6\", \"width\": 0.5}}, \"type\": \"barpolar\"}], \"carpet\": [{\"aaxis\": {\"endlinecolor\": \"#2a3f5f\", \"gridcolor\": \"white\", \"linecolor\": \"white\", \"minorgridcolor\": \"white\", \"startlinecolor\": \"#2a3f5f\"}, \"baxis\": {\"endlinecolor\": \"#2a3f5f\", \"gridcolor\": \"white\", \"linecolor\": \"white\", \"minorgridcolor\": \"white\", \"startlinecolor\": \"#2a3f5f\"}, \"type\": \"carpet\"}], \"choropleth\": [{\"colorbar\": {\"outlinewidth\": 0, \"ticks\": \"\"}, \"type\": \"choropleth\"}], \"contour\": [{\"colorbar\": {\"outlinewidth\": 0, \"ticks\": \"\"}, \"colorscale\": [[0.0, \"#0d0887\"], [0.1111111111111111, \"#46039f\"], [0.2222222222222222, \"#7201a8\"], [0.3333333333333333, \"#9c179e\"], [0.4444444444444444, \"#bd3786\"], [0.5555555555555556, \"#d8576b\"], [0.6666666666666666, \"#ed7953\"], [0.7777777777777778, \"#fb9f3a\"], [0.8888888888888888, \"#fdca26\"], [1.0, \"#f0f921\"]], \"type\": \"contour\"}], \"contourcarpet\": [{\"colorbar\": {\"outlinewidth\": 0, \"ticks\": \"\"}, \"type\": \"contourcarpet\"}], \"heatmap\": [{\"colorbar\": {\"outlinewidth\": 0, \"ticks\": \"\"}, \"colorscale\": [[0.0, \"#0d0887\"], [0.1111111111111111, \"#46039f\"], [0.2222222222222222, \"#7201a8\"], [0.3333333333333333, \"#9c179e\"], [0.4444444444444444, \"#bd3786\"], [0.5555555555555556, \"#d8576b\"], [0.6666666666666666, \"#ed7953\"], [0.7777777777777778, \"#fb9f3a\"], [0.8888888888888888, \"#fdca26\"], [1.0, \"#f0f921\"]], \"type\": \"heatmap\"}], \"heatmapgl\": [{\"colorbar\": {\"outlinewidth\": 0, \"ticks\": \"\"}, \"colorscale\": [[0.0, \"#0d0887\"], [0.1111111111111111, \"#46039f\"], [0.2222222222222222, \"#7201a8\"], [0.3333333333333333, \"#9c179e\"], [0.4444444444444444, \"#bd3786\"], [0.5555555555555556, \"#d8576b\"], [0.6666666666666666, \"#ed7953\"], [0.7777777777777778, \"#fb9f3a\"], [0.8888888888888888, \"#fdca26\"], [1.0, \"#f0f921\"]], \"type\": \"heatmapgl\"}], \"histogram\": [{\"marker\": {\"colorbar\": {\"outlinewidth\": 0, \"ticks\": \"\"}}, \"type\": \"histogram\"}], \"histogram2d\": [{\"colorbar\": {\"outlinewidth\": 0, \"ticks\": \"\"}, \"colorscale\": [[0.0, \"#0d0887\"], [0.1111111111111111, \"#46039f\"], [0.2222222222222222, \"#7201a8\"], [0.3333333333333333, \"#9c179e\"], [0.4444444444444444, \"#bd3786\"], [0.5555555555555556, \"#d8576b\"], [0.6666666666666666, \"#ed7953\"], [0.7777777777777778, \"#fb9f3a\"], [0.8888888888888888, \"#fdca26\"], [1.0, \"#f0f921\"]], \"type\": \"histogram2d\"}], \"histogram2dcontour\": [{\"colorbar\": {\"outlinewidth\": 0, \"ticks\": \"\"}, \"colorscale\": [[0.0, \"#0d0887\"], [0.1111111111111111, \"#46039f\"], [0.2222222222222222, \"#7201a8\"], [0.3333333333333333, \"#9c179e\"], [0.4444444444444444, \"#bd3786\"], [0.5555555555555556, \"#d8576b\"], [0.6666666666666666, \"#ed7953\"], [0.7777777777777778, \"#fb9f3a\"], [0.8888888888888888, \"#fdca26\"], [1.0, \"#f0f921\"]], \"type\": \"histogram2dcontour\"}], \"mesh3d\": [{\"colorbar\": {\"outlinewidth\": 0, \"ticks\": \"\"}, \"type\": \"mesh3d\"}], \"parcoords\": [{\"line\": {\"colorbar\": {\"outlinewidth\": 0, \"ticks\": \"\"}}, \"type\": \"parcoords\"}], \"pie\": [{\"automargin\": true, \"type\": \"pie\"}], \"scatter\": [{\"marker\": {\"colorbar\": {\"outlinewidth\": 0, \"ticks\": \"\"}}, \"type\": \"scatter\"}], \"scatter3d\": [{\"line\": {\"colorbar\": {\"outlinewidth\": 0, \"ticks\": \"\"}}, \"marker\": {\"colorbar\": {\"outlinewidth\": 0, \"ticks\": \"\"}}, \"type\": \"scatter3d\"}], \"scattercarpet\": [{\"marker\": {\"colorbar\": {\"outlinewidth\": 0, \"ticks\": \"\"}}, \"type\": \"scattercarpet\"}], \"scattergeo\": [{\"marker\": {\"colorbar\": {\"outlinewidth\": 0, \"ticks\": \"\"}}, \"type\": \"scattergeo\"}], \"scattergl\": [{\"marker\": {\"colorbar\": {\"outlinewidth\": 0, \"ticks\": \"\"}}, \"type\": \"scattergl\"}], \"scattermapbox\": [{\"marker\": {\"colorbar\": {\"outlinewidth\": 0, \"ticks\": \"\"}}, \"type\": \"scattermapbox\"}], \"scatterpolar\": [{\"marker\": {\"colorbar\": {\"outlinewidth\": 0, \"ticks\": \"\"}}, \"type\": \"scatterpolar\"}], \"scatterpolargl\": [{\"marker\": {\"colorbar\": {\"outlinewidth\": 0, \"ticks\": \"\"}}, \"type\": \"scatterpolargl\"}], \"scatterternary\": [{\"marker\": {\"colorbar\": {\"outlinewidth\": 0, \"ticks\": \"\"}}, \"type\": \"scatterternary\"}], \"surface\": [{\"colorbar\": {\"outlinewidth\": 0, \"ticks\": \"\"}, \"colorscale\": [[0.0, \"#0d0887\"], [0.1111111111111111, \"#46039f\"], [0.2222222222222222, \"#7201a8\"], [0.3333333333333333, \"#9c179e\"], [0.4444444444444444, \"#bd3786\"], [0.5555555555555556, \"#d8576b\"], [0.6666666666666666, \"#ed7953\"], [0.7777777777777778, \"#fb9f3a\"], [0.8888888888888888, \"#fdca26\"], [1.0, \"#f0f921\"]], \"type\": \"surface\"}], \"table\": [{\"cells\": {\"fill\": {\"color\": \"#EBF0F8\"}, \"line\": {\"color\": \"white\"}}, \"header\": {\"fill\": {\"color\": \"#C8D4E3\"}, \"line\": {\"color\": \"white\"}}, \"type\": \"table\"}]}, \"layout\": {\"annotationdefaults\": {\"arrowcolor\": \"#2a3f5f\", \"arrowhead\": 0, \"arrowwidth\": 1}, \"coloraxis\": {\"colorbar\": {\"outlinewidth\": 0, \"ticks\": \"\"}}, \"colorscale\": {\"diverging\": [[0, \"#8e0152\"], [0.1, \"#c51b7d\"], [0.2, \"#de77ae\"], [0.3, \"#f1b6da\"], [0.4, \"#fde0ef\"], [0.5, \"#f7f7f7\"], [0.6, \"#e6f5d0\"], [0.7, \"#b8e186\"], [0.8, \"#7fbc41\"], [0.9, \"#4d9221\"], [1, \"#276419\"]], \"sequential\": [[0.0, \"#0d0887\"], [0.1111111111111111, \"#46039f\"], [0.2222222222222222, \"#7201a8\"], [0.3333333333333333, \"#9c179e\"], [0.4444444444444444, \"#bd3786\"], [0.5555555555555556, \"#d8576b\"], [0.6666666666666666, \"#ed7953\"], [0.7777777777777778, \"#fb9f3a\"], [0.8888888888888888, \"#fdca26\"], [1.0, \"#f0f921\"]], \"sequentialminus\": [[0.0, \"#0d0887\"], [0.1111111111111111, \"#46039f\"], [0.2222222222222222, \"#7201a8\"], [0.3333333333333333, \"#9c179e\"], [0.4444444444444444, \"#bd3786\"], [0.5555555555555556, \"#d8576b\"], [0.6666666666666666, \"#ed7953\"], [0.7777777777777778, \"#fb9f3a\"], [0.8888888888888888, \"#fdca26\"], [1.0, \"#f0f921\"]]}, \"colorway\": [\"#636efa\", \"#EF553B\", \"#00cc96\", \"#ab63fa\", \"#FFA15A\", \"#19d3f3\", \"#FF6692\", \"#B6E880\", \"#FF97FF\", \"#FECB52\"], \"font\": {\"color\": \"#2a3f5f\"}, \"geo\": {\"bgcolor\": \"white\", \"lakecolor\": \"white\", \"landcolor\": \"#E5ECF6\", \"showlakes\": true, \"showland\": true, \"subunitcolor\": \"white\"}, \"hoverlabel\": {\"align\": \"left\"}, \"hovermode\": \"closest\", \"mapbox\": {\"style\": \"light\"}, \"paper_bgcolor\": \"white\", \"plot_bgcolor\": \"#E5ECF6\", \"polar\": {\"angularaxis\": {\"gridcolor\": \"white\", \"linecolor\": \"white\", \"ticks\": \"\"}, \"bgcolor\": \"#E5ECF6\", \"radialaxis\": {\"gridcolor\": \"white\", \"linecolor\": \"white\", \"ticks\": \"\"}}, \"scene\": {\"xaxis\": {\"backgroundcolor\": \"#E5ECF6\", \"gridcolor\": \"white\", \"gridwidth\": 2, \"linecolor\": \"white\", \"showbackground\": true, \"ticks\": \"\", \"zerolinecolor\": \"white\"}, \"yaxis\": {\"backgroundcolor\": \"#E5ECF6\", \"gridcolor\": \"white\", \"gridwidth\": 2, \"linecolor\": \"white\", \"showbackground\": true, \"ticks\": \"\", \"zerolinecolor\": \"white\"}, \"zaxis\": {\"backgroundcolor\": \"#E5ECF6\", \"gridcolor\": \"white\", \"gridwidth\": 2, \"linecolor\": \"white\", \"showbackground\": true, \"ticks\": \"\", \"zerolinecolor\": \"white\"}}, \"shapedefaults\": {\"line\": {\"color\": \"#2a3f5f\"}}, \"ternary\": {\"aaxis\": {\"gridcolor\": \"white\", \"linecolor\": \"white\", \"ticks\": \"\"}, \"baxis\": {\"gridcolor\": \"white\", \"linecolor\": \"white\", \"ticks\": \"\"}, \"bgcolor\": \"#E5ECF6\", \"caxis\": {\"gridcolor\": \"white\", \"linecolor\": \"white\", \"ticks\": \"\"}}, \"title\": {\"x\": 0.05}, \"xaxis\": {\"automargin\": true, \"gridcolor\": \"white\", \"linecolor\": \"white\", \"ticks\": \"\", \"title\": {\"standoff\": 15}, \"zerolinecolor\": \"white\", \"zerolinewidth\": 2}, \"yaxis\": {\"automargin\": true, \"gridcolor\": \"white\", \"linecolor\": \"white\", \"ticks\": \"\", \"title\": {\"standoff\": 15}, \"zerolinecolor\": \"white\", \"zerolinewidth\": 2}}}, \"width\": 950, \"xaxis\": {\"anchor\": \"y\", \"domain\": [0.0, 0.45], \"title\": {\"text\": \"PC1\"}}, \"xaxis2\": {\"anchor\": \"y2\", \"domain\": [0.55, 1.0], \"title\": {\"text\": \"PC1\"}}, \"yaxis\": {\"anchor\": \"x\", \"domain\": [0.0, 1.0], \"title\": {\"text\": \"PC2\"}}, \"yaxis2\": {\"anchor\": \"x2\", \"domain\": [0.0, 1.0], \"title\": {\"text\": \"PC3\"}}},\n",
       "                        {\"responsive\": true}\n",
       "                    ).then(function(){\n",
       "                            \n",
       "var gd = document.getElementById('c9f452b9-a8d0-4381-a555-b4176363be47');\n",
       "var x = new MutationObserver(function (mutations, observer) {{\n",
       "        var display = window.getComputedStyle(gd).display;\n",
       "        if (!display || display === 'none') {{\n",
       "            console.log([gd, 'removed!']);\n",
       "            Plotly.purge(gd);\n",
       "            observer.disconnect();\n",
       "        }}\n",
       "}});\n",
       "\n",
       "// Listen for the removal of the full notebook cells\n",
       "var notebookContainer = gd.closest('#notebook-container');\n",
       "if (notebookContainer) {{\n",
       "    x.observe(notebookContainer, {childList: true});\n",
       "}}\n",
       "\n",
       "// Listen for the clearing of the current output cell\n",
       "var outputEl = gd.closest('.output');\n",
       "if (outputEl) {{\n",
       "    x.observe(outputEl, {childList: true});\n",
       "}}\n",
       "\n",
       "                        })\n",
       "                };\n",
       "                });\n",
       "            </script>\n",
       "        </div>"
      ]
     },
     "metadata": {},
     "output_type": "display_data"
    }
   ],
   "source": [
    "###\n",
    "plot_global_pca(feats,label_select,PCA_color_ref,title= 'global_pca',height= 500,width= 950)"
   ]
  },
  {
   "cell_type": "markdown",
   "metadata": {},
   "source": [
    "### AMOVA at local windows\n",
    "\n",
    "Between population variance at local windows. \n",
    "\n",
    "#### I. Local windows\n",
    "\n",
    "`Nwindows`: number of windows\n",
    "\n",
    "`Wsizes`: size of each window (in feature number).\n"
   ]
  },
  {
   "cell_type": "code",
   "execution_count": 7,
   "metadata": {},
   "outputs": [],
   "source": [
    "SequenceStore= {}\n",
    "\n",
    "Nwindows= 100\n",
    "Wsizes= 300\n",
    "chrom= 1\n",
    "\n",
    "wst= np.random.randint(0,genotype.shape[1] - Wsizes,size= Nwindows)\n",
    "wst= np.linspace(0,genotype.shape[1] - Wsizes,Nwindows,dtype= int)\n",
    "SequenceStore= {\n",
    "    chrom: {summary.POS[st]: genotype[:,st:(st+Wsizes-1)] for st in wst}\n",
    "}\n",
    "\n",
    "Out= {chrom: {summary.POS[st]: summary.POS[st+ Wsizes - 1]for st in wst}}\n",
    "\n"
   ]
  },
  {
   "cell_type": "markdown",
   "metadata": {},
   "source": [
    "#### AMOVA\n",
    "\n",
    "Calculating local AMOVA. Chose which groups to calculate AMOVA between at each window using the labels in the first plot in `ref_gps` (above)."
   ]
  },
  {
   "cell_type": "code",
   "execution_count": 8,
   "metadata": {},
   "outputs": [],
   "source": [
    "ref_gps= [0,1,2]\n"
   ]
  },
  {
   "cell_type": "code",
   "execution_count": 9,
   "metadata": {},
   "outputs": [],
   "source": [
    "## AMOVA parameters.\n",
    "supervised= True\n",
    "\n",
    "Bandwidth_split= 30 # grid split for kde \n",
    "KDE_comps= 4 # PCA components to retain\n",
    "clsize= 15 # minimum cluster size to retain during ms clustering.\n",
    "amova= True # whether to calculate amova.\n"
   ]
  },
  {
   "cell_type": "code",
   "execution_count": 10,
   "metadata": {},
   "outputs": [
    {
     "name": "stdout",
     "output_type": "stream",
     "text": [
      "chr 1, where: 1985001, supervised: True, n clusters: 3\n",
      "old: ; jaccard: -0.03415741106295015; PCA euc: 0.30978791267672195; nHam: 0.04746706430138808\n"
     ]
    }
   ],
   "source": [
    "from structure_tools.StructE_tools import findPhiPT, Structure_profiles, Distance_profiles\n",
    "\n",
    "from structure_tools.AMOVA_func import amova_cofactor, AMOVA_FM42\n",
    "from structure_tools.mstutorial_tools import Windows_KDE_amova\n",
    "\n",
    "### Perform Distance and association analysis on the data sets generated\n",
    "\n",
    "refs_lib= {v:g for v,g in label_select.items() if v in ref_gps}\n",
    "admx_lib= {v:g for v,g in label_select.items() if v not in ref_gps}\n",
    "admx_lib.update(refs_lib)\n",
    "import itertools as it\n",
    "\n",
    "Results, Construct, PC_var= Windows_KDE_amova(SequenceStore,\n",
    "                                              admx_lib,\n",
    "                                              refs_lib,\n",
    "                                              supervised= True,\n",
    "                                              amova= True,\n",
    "                                              ncomps= KDE_comps,\n",
    "                                              clsize= clsize,\n",
    "                                              Bandwidth_split= Bandwidth_split)"
   ]
  },
  {
   "cell_type": "code",
   "execution_count": 11,
   "metadata": {},
   "outputs": [
    {
     "data": {
      "application/vnd.plotly.v1+json": {
       "config": {
        "linkText": "Export to plot.ly",
        "plotlyServerURL": "https://plot.ly",
        "showLink": false
       },
       "data": [
        {
         "mode": "markers",
         "name": "updt jaccard",
         "type": "scatter",
         "x": [
          "19",
          "20208",
          "40073",
          "60118",
          "80154",
          "100352",
          "120227",
          "140380",
          "160483",
          "180222",
          "200661",
          "220539",
          "240516",
          "260735",
          "280792",
          "300811",
          "320605",
          "341011",
          "361283",
          "381144",
          "401258",
          "420814",
          "440959",
          "460879",
          "481127",
          "501543",
          "521136",
          "541048",
          "561172",
          "581631",
          "601236",
          "621477",
          "641609",
          "661878",
          "681761",
          "701689",
          "722023",
          "741714",
          "761984",
          "781718",
          "801911",
          "821996",
          "842133",
          "862273",
          "881842",
          "902262",
          "922313",
          "942851",
          "962381",
          "982497",
          "1002504",
          "1022405",
          "1042713",
          "1062560",
          "1082708",
          "1102617",
          "1122790",
          "1142908",
          "1162914",
          "1182819",
          "1202885",
          "1222879",
          "1242924",
          "1263147",
          "1283184",
          "1303357",
          "1323363",
          "1343259",
          "1363204",
          "1383664",
          "1403409",
          "1423588",
          "1443789",
          "1463473",
          "1483634",
          "1504077",
          "1523418",
          "1543801",
          "1563783",
          "1583834",
          "1603987",
          "1624076",
          "1644074",
          "1663836",
          "1684332",
          "1704457",
          "1724528",
          "1744607",
          "1764026",
          "1784572",
          "1804323",
          "1824534",
          "1844582",
          "1864343",
          "1884630",
          "1904623",
          "1924956",
          "1944687",
          "1964836",
          "1985001"
         ],
         "y": [
          "-0.03333969856974624",
          "-0.03540319974490129",
          "-0.028245969714904895",
          "-0.030263141987183752",
          "-0.02638696800388951",
          "-0.024440777578192244",
          "-0.03768496285542843",
          "-0.029466426565314997",
          "-0.025674546566873423",
          "-0.04379414442451869",
          "-0.030909155913237812",
          "-0.03399337227771255",
          "-0.043333687165484296",
          "-0.03995065856228275",
          "-0.040075567677203175",
          "-0.046106800918020725",
          "-0.030467704183127074",
          "-0.03410922897553896",
          "-0.033692822124222796",
          "-0.025464334456095805",
          "-0.02679569888604303",
          "-0.028391897618430573",
          "-0.02625042834755091",
          "-0.03336273554776347",
          "-0.037073820928135756",
          "-0.03495750717005204",
          "-0.043422194239864646",
          "-0.04252939512315131",
          "-0.024136150403735464",
          "-0.0451905104144429",
          "0.049575749630243846",
          "0.050011881843341516",
          "0.05009035251031538",
          "0.045508112298567834",
          "0.03379796867516529",
          "0.036614953615970114",
          "0.038812144099928746",
          "0.05303364127249627",
          "0.04364713645066387",
          "0.04670541815360916",
          "-0.009201018612248578",
          "-0.02919538179385494",
          "-0.029806574385388092",
          "-0.03445745324266142",
          "-0.030594925222222884",
          "-0.03968185196566418",
          "-0.03723503559921521",
          "-0.03722958079175434",
          "-0.041578137625536575",
          "-0.03770114652261855",
          "-0.032814074576777263",
          "-0.03160967760074689",
          "-0.03960199811449172",
          "-0.03713630390017054",
          "-0.0327463718884735",
          "-0.03880565722622087",
          "-0.03767653149549465",
          "-0.0323960607816055",
          "-0.03628043347048613",
          "-0.03810983160686161",
          "-0.038125595155160515",
          "-0.039466829749865574",
          "-0.04347696042891737",
          "-0.03892663709923018",
          "-0.033273030623044667",
          "-0.03812168168238466",
          "-0.04268877891671985",
          "-0.040158775325993316",
          "-0.029195576043765055",
          "-0.033699332118076866",
          "-0.04765868727024362",
          "-0.03128862467043637",
          "-0.05095023464341855",
          "-0.041340629236603275",
          "-0.03535479657301915",
          "-0.0349394676590148",
          "-0.03543639352336611",
          "-0.03617854762621981",
          "-0.03406585347394592",
          "-0.019729276284945287",
          "-0.03633642536563647",
          "-0.025125379626063035",
          "-0.027492048292302847",
          "-0.02558478962240852",
          "-0.024862992084908275",
          "-0.03630237443237637",
          "-0.04024580084195439",
          "-0.042604183718005666",
          "-0.031093651053185362",
          "-0.023960680716364195",
          "-0.04327060563079141",
          "-0.029394416312643244",
          "-0.03470929781684061",
          "-0.0442050648921015",
          "-0.03336331117169153",
          "-0.02718331117543317",
          "-0.02599905019623611",
          "-0.037206215252878636",
          "-0.03369318180594935",
          "-0.03415741106295015"
         ]
        },
        {
         "mode": "markers",
         "name": "updt euc",
         "type": "scatter",
         "x": [
          "19",
          "20208",
          "40073",
          "60118",
          "80154",
          "100352",
          "120227",
          "140380",
          "160483",
          "180222",
          "200661",
          "220539",
          "240516",
          "260735",
          "280792",
          "300811",
          "320605",
          "341011",
          "361283",
          "381144",
          "401258",
          "420814",
          "440959",
          "460879",
          "481127",
          "501543",
          "521136",
          "541048",
          "561172",
          "581631",
          "601236",
          "621477",
          "641609",
          "661878",
          "681761",
          "701689",
          "722023",
          "741714",
          "761984",
          "781718",
          "801911",
          "821996",
          "842133",
          "862273",
          "881842",
          "902262",
          "922313",
          "942851",
          "962381",
          "982497",
          "1002504",
          "1022405",
          "1042713",
          "1062560",
          "1082708",
          "1102617",
          "1122790",
          "1142908",
          "1162914",
          "1182819",
          "1202885",
          "1222879",
          "1242924",
          "1263147",
          "1283184",
          "1303357",
          "1323363",
          "1343259",
          "1363204",
          "1383664",
          "1403409",
          "1423588",
          "1443789",
          "1463473",
          "1483634",
          "1504077",
          "1523418",
          "1543801",
          "1563783",
          "1583834",
          "1603987",
          "1624076",
          "1644074",
          "1663836",
          "1684332",
          "1704457",
          "1724528",
          "1744607",
          "1764026",
          "1784572",
          "1804323",
          "1824534",
          "1844582",
          "1864343",
          "1884630",
          "1904623",
          "1924956",
          "1944687",
          "1964836",
          "1985001"
         ],
         "y": [
          "0.3361817645368287",
          "0.34677582949272345",
          "0.3569424861479853",
          "0.336495947845098",
          "0.36677354749814534",
          "0.34589314316261327",
          "0.3454556906825309",
          "0.3383989450063203",
          "0.3451286358256846",
          "0.3301146985929062",
          "0.3356535426322017",
          "0.33175457556962606",
          "0.321424770906908",
          "0.3366466483869262",
          "0.3040253144477971",
          "0.2849015599371523",
          "0.33169043261228526",
          "0.3131425507678572",
          "0.32656226986104164",
          "0.33979806480838237",
          "0.3309026102273492",
          "0.32543730284186606",
          "0.3582651607646989",
          "0.3687924291975705",
          "0.31456141699491547",
          "0.3366987377598624",
          "0.32228725110856354",
          "0.3275942026633004",
          "0.3500493857322166",
          "0.31713037344516815",
          "0.41509679758443857",
          "0.436237714450875",
          "0.42100601490164935",
          "0.428369856251385",
          "0.4288853929129206",
          "0.4056101617362951",
          "0.40951320702903327",
          "0.41505774873335577",
          "0.422120464532565",
          "0.4179732382887133",
          "0.3682108612606457",
          "0.33382092572177346",
          "0.3151141688202822",
          "0.30881722507851544",
          "0.33643260897407057",
          "0.3406905656037407",
          "0.3254001106487129",
          "0.3292340715216274",
          "0.32728365503951024",
          "0.2978706430521929",
          "0.3270749322308693",
          "0.3154683961053442",
          "0.3127194575408526",
          "0.32382679595372554",
          "0.3126146420367433",
          "0.34480101299904364",
          "0.3235131754111816",
          "0.33169966766304404",
          "0.3025434153891644",
          "0.331656571437418",
          "0.3558603423707263",
          "0.3262975975719876",
          "0.3187563178065446",
          "0.31849844027133245",
          "0.34097928266208694",
          "0.32878000079867387",
          "0.3181474816437769",
          "0.366889173194549",
          "0.3501575634971026",
          "0.3389012640640353",
          "0.31912228680262544",
          "0.34872190804678566",
          "0.3381442778670869",
          "0.3244765634973806",
          "0.3171760401158455",
          "0.3268575971931262",
          "0.31781279802884704",
          "0.3226030494524553",
          "0.3457066014382973",
          "0.3345610309653084",
          "0.3596378634494855",
          "0.375717787442908",
          "0.3820222924908115",
          "0.3701669238457421",
          "0.34503276698394403",
          "0.3159220270734752",
          "0.29139406389792855",
          "0.3200228721787843",
          "0.3377661373381231",
          "0.3851021172928436",
          "0.33353161350313465",
          "0.33180451178320036",
          "0.3172746447949209",
          "0.3183763504621821",
          "0.32187350753495436",
          "0.35327787494554247",
          "0.3540442359749411",
          "0.3400774294902483",
          "0.3395576220344439",
          "0.30978791267672195"
         ]
        },
        {
         "mode": "markers",
         "name": "updt hamming",
         "type": "scatter",
         "x": [
          "19",
          "20208",
          "40073",
          "60118",
          "80154",
          "100352",
          "120227",
          "140380",
          "160483",
          "180222",
          "200661",
          "220539",
          "240516",
          "260735",
          "280792",
          "300811",
          "320605",
          "341011",
          "361283",
          "381144",
          "401258",
          "420814",
          "440959",
          "460879",
          "481127",
          "501543",
          "521136",
          "541048",
          "561172",
          "581631",
          "601236",
          "621477",
          "641609",
          "661878",
          "681761",
          "701689",
          "722023",
          "741714",
          "761984",
          "781718",
          "801911",
          "821996",
          "842133",
          "862273",
          "881842",
          "902262",
          "922313",
          "942851",
          "962381",
          "982497",
          "1002504",
          "1022405",
          "1042713",
          "1062560",
          "1082708",
          "1102617",
          "1122790",
          "1142908",
          "1162914",
          "1182819",
          "1202885",
          "1222879",
          "1242924",
          "1263147",
          "1283184",
          "1303357",
          "1323363",
          "1343259",
          "1363204",
          "1383664",
          "1403409",
          "1423588",
          "1443789",
          "1463473",
          "1483634",
          "1504077",
          "1523418",
          "1543801",
          "1563783",
          "1583834",
          "1603987",
          "1624076",
          "1644074",
          "1663836",
          "1684332",
          "1704457",
          "1724528",
          "1744607",
          "1764026",
          "1784572",
          "1804323",
          "1824534",
          "1844582",
          "1864343",
          "1884630",
          "1904623",
          "1924956",
          "1944687",
          "1964836",
          "1985001"
         ],
         "y": [
          "0.04595977821115597",
          "0.04418522317667375",
          "0.05308551476457899",
          "0.052008838923276554",
          "0.06393362830244662",
          "0.059984542181144115",
          "0.04832550731821544",
          "0.05378778946700693",
          "0.05473819292701056",
          "0.03754411892113993",
          "0.05602011059541196",
          "0.04516417518027469",
          "0.03483259721561429",
          "0.03743822926139124",
          "0.034009317361481356",
          "0.028107960872273772",
          "0.04699371614416309",
          "0.04681916816778776",
          "0.04396724637186067",
          "0.06128848942045225",
          "0.05307019228433623",
          "0.0431966126281168",
          "0.05377745466416986",
          "0.04868137363603057",
          "0.04193490907536755",
          "0.050062497980684434",
          "0.03971905462328898",
          "0.034593148455383756",
          "0.06961204654273095",
          "0.03231287386114875",
          "0.17901982438061637",
          "0.18331761431897506",
          "0.1753556897006965",
          "0.17397277439937262",
          "0.16648879082493317",
          "0.15872372922889944",
          "0.16575092027622615",
          "0.1840250401221235",
          "0.1817738196016922",
          "0.18571245920005863",
          "0.09109417310943478",
          "0.05854743651971119",
          "0.05036638613528424",
          "0.044202825610713425",
          "0.051203220198477235",
          "0.039796846953480715",
          "0.04936589281655671",
          "0.04316625496018829",
          "0.0318929791831335",
          "0.040734731128803686",
          "0.053473265143331186",
          "0.05806006469141813",
          "0.03892208362269759",
          "0.0384997346898869",
          "0.05095135083819565",
          "0.04513463415938467",
          "0.04482107208967125",
          "0.047027844439180316",
          "0.04169379436006729",
          "0.05090859993081043",
          "0.04185532142219729",
          "0.03829952939919461",
          "0.03915250516496188",
          "0.04258552591401781",
          "0.052267387604382605",
          "0.0434196113527366",
          "0.03707148590897066",
          "0.04005585456435993",
          "0.05327357233256674",
          "0.04445037861322064",
          "0.02301484963389604",
          "0.045360147509236316",
          "0.03806203242377341",
          "0.03670545814830816",
          "0.05440464398431762",
          "0.046741262193657464",
          "0.048232016218569734",
          "0.04872213357694083",
          "0.03839789515856612",
          "0.0565472440778611",
          "0.04744931254100407",
          "0.06237134992063316",
          "0.06120892339450388",
          "0.06750215056177265",
          "0.062240510171909326",
          "0.045153105916793515",
          "0.039093593357329474",
          "0.04131653813610392",
          "0.052134533072376275",
          "0.06063029306939392",
          "0.035769122403456664",
          "0.05253457917762044",
          "0.0459018807097079",
          "0.0373233191298676",
          "0.04800524408680056",
          "0.061324862492550626",
          "0.05882302485342917",
          "0.04426889522801535",
          "0.045695666925076",
          "0.04746706430138808"
         ]
        }
       ],
       "layout": {
        "template": {
         "data": {
          "bar": [
           {
            "error_x": {
             "color": "#2a3f5f"
            },
            "error_y": {
             "color": "#2a3f5f"
            },
            "marker": {
             "line": {
              "color": "#E5ECF6",
              "width": 0.5
             }
            },
            "type": "bar"
           }
          ],
          "barpolar": [
           {
            "marker": {
             "line": {
              "color": "#E5ECF6",
              "width": 0.5
             }
            },
            "type": "barpolar"
           }
          ],
          "carpet": [
           {
            "aaxis": {
             "endlinecolor": "#2a3f5f",
             "gridcolor": "white",
             "linecolor": "white",
             "minorgridcolor": "white",
             "startlinecolor": "#2a3f5f"
            },
            "baxis": {
             "endlinecolor": "#2a3f5f",
             "gridcolor": "white",
             "linecolor": "white",
             "minorgridcolor": "white",
             "startlinecolor": "#2a3f5f"
            },
            "type": "carpet"
           }
          ],
          "choropleth": [
           {
            "colorbar": {
             "outlinewidth": 0,
             "ticks": ""
            },
            "type": "choropleth"
           }
          ],
          "contour": [
           {
            "colorbar": {
             "outlinewidth": 0,
             "ticks": ""
            },
            "colorscale": [
             [
              0,
              "#0d0887"
             ],
             [
              0.1111111111111111,
              "#46039f"
             ],
             [
              0.2222222222222222,
              "#7201a8"
             ],
             [
              0.3333333333333333,
              "#9c179e"
             ],
             [
              0.4444444444444444,
              "#bd3786"
             ],
             [
              0.5555555555555556,
              "#d8576b"
             ],
             [
              0.6666666666666666,
              "#ed7953"
             ],
             [
              0.7777777777777778,
              "#fb9f3a"
             ],
             [
              0.8888888888888888,
              "#fdca26"
             ],
             [
              1,
              "#f0f921"
             ]
            ],
            "type": "contour"
           }
          ],
          "contourcarpet": [
           {
            "colorbar": {
             "outlinewidth": 0,
             "ticks": ""
            },
            "type": "contourcarpet"
           }
          ],
          "heatmap": [
           {
            "colorbar": {
             "outlinewidth": 0,
             "ticks": ""
            },
            "colorscale": [
             [
              0,
              "#0d0887"
             ],
             [
              0.1111111111111111,
              "#46039f"
             ],
             [
              0.2222222222222222,
              "#7201a8"
             ],
             [
              0.3333333333333333,
              "#9c179e"
             ],
             [
              0.4444444444444444,
              "#bd3786"
             ],
             [
              0.5555555555555556,
              "#d8576b"
             ],
             [
              0.6666666666666666,
              "#ed7953"
             ],
             [
              0.7777777777777778,
              "#fb9f3a"
             ],
             [
              0.8888888888888888,
              "#fdca26"
             ],
             [
              1,
              "#f0f921"
             ]
            ],
            "type": "heatmap"
           }
          ],
          "heatmapgl": [
           {
            "colorbar": {
             "outlinewidth": 0,
             "ticks": ""
            },
            "colorscale": [
             [
              0,
              "#0d0887"
             ],
             [
              0.1111111111111111,
              "#46039f"
             ],
             [
              0.2222222222222222,
              "#7201a8"
             ],
             [
              0.3333333333333333,
              "#9c179e"
             ],
             [
              0.4444444444444444,
              "#bd3786"
             ],
             [
              0.5555555555555556,
              "#d8576b"
             ],
             [
              0.6666666666666666,
              "#ed7953"
             ],
             [
              0.7777777777777778,
              "#fb9f3a"
             ],
             [
              0.8888888888888888,
              "#fdca26"
             ],
             [
              1,
              "#f0f921"
             ]
            ],
            "type": "heatmapgl"
           }
          ],
          "histogram": [
           {
            "marker": {
             "colorbar": {
              "outlinewidth": 0,
              "ticks": ""
             }
            },
            "type": "histogram"
           }
          ],
          "histogram2d": [
           {
            "colorbar": {
             "outlinewidth": 0,
             "ticks": ""
            },
            "colorscale": [
             [
              0,
              "#0d0887"
             ],
             [
              0.1111111111111111,
              "#46039f"
             ],
             [
              0.2222222222222222,
              "#7201a8"
             ],
             [
              0.3333333333333333,
              "#9c179e"
             ],
             [
              0.4444444444444444,
              "#bd3786"
             ],
             [
              0.5555555555555556,
              "#d8576b"
             ],
             [
              0.6666666666666666,
              "#ed7953"
             ],
             [
              0.7777777777777778,
              "#fb9f3a"
             ],
             [
              0.8888888888888888,
              "#fdca26"
             ],
             [
              1,
              "#f0f921"
             ]
            ],
            "type": "histogram2d"
           }
          ],
          "histogram2dcontour": [
           {
            "colorbar": {
             "outlinewidth": 0,
             "ticks": ""
            },
            "colorscale": [
             [
              0,
              "#0d0887"
             ],
             [
              0.1111111111111111,
              "#46039f"
             ],
             [
              0.2222222222222222,
              "#7201a8"
             ],
             [
              0.3333333333333333,
              "#9c179e"
             ],
             [
              0.4444444444444444,
              "#bd3786"
             ],
             [
              0.5555555555555556,
              "#d8576b"
             ],
             [
              0.6666666666666666,
              "#ed7953"
             ],
             [
              0.7777777777777778,
              "#fb9f3a"
             ],
             [
              0.8888888888888888,
              "#fdca26"
             ],
             [
              1,
              "#f0f921"
             ]
            ],
            "type": "histogram2dcontour"
           }
          ],
          "mesh3d": [
           {
            "colorbar": {
             "outlinewidth": 0,
             "ticks": ""
            },
            "type": "mesh3d"
           }
          ],
          "parcoords": [
           {
            "line": {
             "colorbar": {
              "outlinewidth": 0,
              "ticks": ""
             }
            },
            "type": "parcoords"
           }
          ],
          "pie": [
           {
            "automargin": true,
            "type": "pie"
           }
          ],
          "scatter": [
           {
            "marker": {
             "colorbar": {
              "outlinewidth": 0,
              "ticks": ""
             }
            },
            "type": "scatter"
           }
          ],
          "scatter3d": [
           {
            "line": {
             "colorbar": {
              "outlinewidth": 0,
              "ticks": ""
             }
            },
            "marker": {
             "colorbar": {
              "outlinewidth": 0,
              "ticks": ""
             }
            },
            "type": "scatter3d"
           }
          ],
          "scattercarpet": [
           {
            "marker": {
             "colorbar": {
              "outlinewidth": 0,
              "ticks": ""
             }
            },
            "type": "scattercarpet"
           }
          ],
          "scattergeo": [
           {
            "marker": {
             "colorbar": {
              "outlinewidth": 0,
              "ticks": ""
             }
            },
            "type": "scattergeo"
           }
          ],
          "scattergl": [
           {
            "marker": {
             "colorbar": {
              "outlinewidth": 0,
              "ticks": ""
             }
            },
            "type": "scattergl"
           }
          ],
          "scattermapbox": [
           {
            "marker": {
             "colorbar": {
              "outlinewidth": 0,
              "ticks": ""
             }
            },
            "type": "scattermapbox"
           }
          ],
          "scatterpolar": [
           {
            "marker": {
             "colorbar": {
              "outlinewidth": 0,
              "ticks": ""
             }
            },
            "type": "scatterpolar"
           }
          ],
          "scatterpolargl": [
           {
            "marker": {
             "colorbar": {
              "outlinewidth": 0,
              "ticks": ""
             }
            },
            "type": "scatterpolargl"
           }
          ],
          "scatterternary": [
           {
            "marker": {
             "colorbar": {
              "outlinewidth": 0,
              "ticks": ""
             }
            },
            "type": "scatterternary"
           }
          ],
          "surface": [
           {
            "colorbar": {
             "outlinewidth": 0,
             "ticks": ""
            },
            "colorscale": [
             [
              0,
              "#0d0887"
             ],
             [
              0.1111111111111111,
              "#46039f"
             ],
             [
              0.2222222222222222,
              "#7201a8"
             ],
             [
              0.3333333333333333,
              "#9c179e"
             ],
             [
              0.4444444444444444,
              "#bd3786"
             ],
             [
              0.5555555555555556,
              "#d8576b"
             ],
             [
              0.6666666666666666,
              "#ed7953"
             ],
             [
              0.7777777777777778,
              "#fb9f3a"
             ],
             [
              0.8888888888888888,
              "#fdca26"
             ],
             [
              1,
              "#f0f921"
             ]
            ],
            "type": "surface"
           }
          ],
          "table": [
           {
            "cells": {
             "fill": {
              "color": "#EBF0F8"
             },
             "line": {
              "color": "white"
             }
            },
            "header": {
             "fill": {
              "color": "#C8D4E3"
             },
             "line": {
              "color": "white"
             }
            },
            "type": "table"
           }
          ]
         },
         "layout": {
          "annotationdefaults": {
           "arrowcolor": "#2a3f5f",
           "arrowhead": 0,
           "arrowwidth": 1
          },
          "coloraxis": {
           "colorbar": {
            "outlinewidth": 0,
            "ticks": ""
           }
          },
          "colorscale": {
           "diverging": [
            [
             0,
             "#8e0152"
            ],
            [
             0.1,
             "#c51b7d"
            ],
            [
             0.2,
             "#de77ae"
            ],
            [
             0.3,
             "#f1b6da"
            ],
            [
             0.4,
             "#fde0ef"
            ],
            [
             0.5,
             "#f7f7f7"
            ],
            [
             0.6,
             "#e6f5d0"
            ],
            [
             0.7,
             "#b8e186"
            ],
            [
             0.8,
             "#7fbc41"
            ],
            [
             0.9,
             "#4d9221"
            ],
            [
             1,
             "#276419"
            ]
           ],
           "sequential": [
            [
             0,
             "#0d0887"
            ],
            [
             0.1111111111111111,
             "#46039f"
            ],
            [
             0.2222222222222222,
             "#7201a8"
            ],
            [
             0.3333333333333333,
             "#9c179e"
            ],
            [
             0.4444444444444444,
             "#bd3786"
            ],
            [
             0.5555555555555556,
             "#d8576b"
            ],
            [
             0.6666666666666666,
             "#ed7953"
            ],
            [
             0.7777777777777778,
             "#fb9f3a"
            ],
            [
             0.8888888888888888,
             "#fdca26"
            ],
            [
             1,
             "#f0f921"
            ]
           ],
           "sequentialminus": [
            [
             0,
             "#0d0887"
            ],
            [
             0.1111111111111111,
             "#46039f"
            ],
            [
             0.2222222222222222,
             "#7201a8"
            ],
            [
             0.3333333333333333,
             "#9c179e"
            ],
            [
             0.4444444444444444,
             "#bd3786"
            ],
            [
             0.5555555555555556,
             "#d8576b"
            ],
            [
             0.6666666666666666,
             "#ed7953"
            ],
            [
             0.7777777777777778,
             "#fb9f3a"
            ],
            [
             0.8888888888888888,
             "#fdca26"
            ],
            [
             1,
             "#f0f921"
            ]
           ]
          },
          "colorway": [
           "#636efa",
           "#EF553B",
           "#00cc96",
           "#ab63fa",
           "#FFA15A",
           "#19d3f3",
           "#FF6692",
           "#B6E880",
           "#FF97FF",
           "#FECB52"
          ],
          "font": {
           "color": "#2a3f5f"
          },
          "geo": {
           "bgcolor": "white",
           "lakecolor": "white",
           "landcolor": "#E5ECF6",
           "showlakes": true,
           "showland": true,
           "subunitcolor": "white"
          },
          "hoverlabel": {
           "align": "left"
          },
          "hovermode": "closest",
          "mapbox": {
           "style": "light"
          },
          "paper_bgcolor": "white",
          "plot_bgcolor": "#E5ECF6",
          "polar": {
           "angularaxis": {
            "gridcolor": "white",
            "linecolor": "white",
            "ticks": ""
           },
           "bgcolor": "#E5ECF6",
           "radialaxis": {
            "gridcolor": "white",
            "linecolor": "white",
            "ticks": ""
           }
          },
          "scene": {
           "xaxis": {
            "backgroundcolor": "#E5ECF6",
            "gridcolor": "white",
            "gridwidth": 2,
            "linecolor": "white",
            "showbackground": true,
            "ticks": "",
            "zerolinecolor": "white"
           },
           "yaxis": {
            "backgroundcolor": "#E5ECF6",
            "gridcolor": "white",
            "gridwidth": 2,
            "linecolor": "white",
            "showbackground": true,
            "ticks": "",
            "zerolinecolor": "white"
           },
           "zaxis": {
            "backgroundcolor": "#E5ECF6",
            "gridcolor": "white",
            "gridwidth": 2,
            "linecolor": "white",
            "showbackground": true,
            "ticks": "",
            "zerolinecolor": "white"
           }
          },
          "shapedefaults": {
           "line": {
            "color": "#2a3f5f"
           }
          },
          "ternary": {
           "aaxis": {
            "gridcolor": "white",
            "linecolor": "white",
            "ticks": ""
           },
           "baxis": {
            "gridcolor": "white",
            "linecolor": "white",
            "ticks": ""
           },
           "bgcolor": "#E5ECF6",
           "caxis": {
            "gridcolor": "white",
            "linecolor": "white",
            "ticks": ""
           }
          },
          "title": {
           "x": 0.05
          },
          "xaxis": {
           "automargin": true,
           "gridcolor": "white",
           "linecolor": "white",
           "ticks": "",
           "title": {
            "standoff": 15
           },
           "zerolinecolor": "white",
           "zerolinewidth": 2
          },
          "yaxis": {
           "automargin": true,
           "gridcolor": "white",
           "linecolor": "white",
           "ticks": "",
           "title": {
            "standoff": 15
           },
           "zerolinecolor": "white",
           "zerolinewidth": 2
          }
         }
        },
        "title": {
         "text": "Stats"
        },
        "xaxis": {
         "title": {
          "text": "Windows"
         }
        },
        "yaxis": {
         "title": {
          "text": "AMOVA"
         }
        }
       }
      },
      "text/html": [
       "<div>\n",
       "        \n",
       "        \n",
       "            <div id=\"760ba59f-3c53-4911-9cc8-7af0acdad625\" class=\"plotly-graph-div\" style=\"height:525px; width:100%;\"></div>\n",
       "            <script type=\"text/javascript\">\n",
       "                require([\"plotly\"], function(Plotly) {\n",
       "                    window.PLOTLYENV=window.PLOTLYENV || {};\n",
       "                    \n",
       "                if (document.getElementById(\"760ba59f-3c53-4911-9cc8-7af0acdad625\")) {\n",
       "                    Plotly.newPlot(\n",
       "                        '760ba59f-3c53-4911-9cc8-7af0acdad625',\n",
       "                        [{\"mode\": \"markers\", \"name\": \"updt jaccard\", \"type\": \"scatter\", \"x\": [\"19\", \"20208\", \"40073\", \"60118\", \"80154\", \"100352\", \"120227\", \"140380\", \"160483\", \"180222\", \"200661\", \"220539\", \"240516\", \"260735\", \"280792\", \"300811\", \"320605\", \"341011\", \"361283\", \"381144\", \"401258\", \"420814\", \"440959\", \"460879\", \"481127\", \"501543\", \"521136\", \"541048\", \"561172\", \"581631\", \"601236\", \"621477\", \"641609\", \"661878\", \"681761\", \"701689\", \"722023\", \"741714\", \"761984\", \"781718\", \"801911\", \"821996\", \"842133\", \"862273\", \"881842\", \"902262\", \"922313\", \"942851\", \"962381\", \"982497\", \"1002504\", \"1022405\", \"1042713\", \"1062560\", \"1082708\", \"1102617\", \"1122790\", \"1142908\", \"1162914\", \"1182819\", \"1202885\", \"1222879\", \"1242924\", \"1263147\", \"1283184\", \"1303357\", \"1323363\", \"1343259\", \"1363204\", \"1383664\", \"1403409\", \"1423588\", \"1443789\", \"1463473\", \"1483634\", \"1504077\", \"1523418\", \"1543801\", \"1563783\", \"1583834\", \"1603987\", \"1624076\", \"1644074\", \"1663836\", \"1684332\", \"1704457\", \"1724528\", \"1744607\", \"1764026\", \"1784572\", \"1804323\", \"1824534\", \"1844582\", \"1864343\", \"1884630\", \"1904623\", \"1924956\", \"1944687\", \"1964836\", \"1985001\"], \"y\": [\"-0.03333969856974624\", \"-0.03540319974490129\", \"-0.028245969714904895\", \"-0.030263141987183752\", \"-0.02638696800388951\", \"-0.024440777578192244\", \"-0.03768496285542843\", \"-0.029466426565314997\", \"-0.025674546566873423\", \"-0.04379414442451869\", \"-0.030909155913237812\", \"-0.03399337227771255\", \"-0.043333687165484296\", \"-0.03995065856228275\", \"-0.040075567677203175\", \"-0.046106800918020725\", \"-0.030467704183127074\", \"-0.03410922897553896\", \"-0.033692822124222796\", \"-0.025464334456095805\", \"-0.02679569888604303\", \"-0.028391897618430573\", \"-0.02625042834755091\", \"-0.03336273554776347\", \"-0.037073820928135756\", \"-0.03495750717005204\", \"-0.043422194239864646\", \"-0.04252939512315131\", \"-0.024136150403735464\", \"-0.0451905104144429\", \"0.049575749630243846\", \"0.050011881843341516\", \"0.05009035251031538\", \"0.045508112298567834\", \"0.03379796867516529\", \"0.036614953615970114\", \"0.038812144099928746\", \"0.05303364127249627\", \"0.04364713645066387\", \"0.04670541815360916\", \"-0.009201018612248578\", \"-0.02919538179385494\", \"-0.029806574385388092\", \"-0.03445745324266142\", \"-0.030594925222222884\", \"-0.03968185196566418\", \"-0.03723503559921521\", \"-0.03722958079175434\", \"-0.041578137625536575\", \"-0.03770114652261855\", \"-0.032814074576777263\", \"-0.03160967760074689\", \"-0.03960199811449172\", \"-0.03713630390017054\", \"-0.0327463718884735\", \"-0.03880565722622087\", \"-0.03767653149549465\", \"-0.0323960607816055\", \"-0.03628043347048613\", \"-0.03810983160686161\", \"-0.038125595155160515\", \"-0.039466829749865574\", \"-0.04347696042891737\", \"-0.03892663709923018\", \"-0.033273030623044667\", \"-0.03812168168238466\", \"-0.04268877891671985\", \"-0.040158775325993316\", \"-0.029195576043765055\", \"-0.033699332118076866\", \"-0.04765868727024362\", \"-0.03128862467043637\", \"-0.05095023464341855\", \"-0.041340629236603275\", \"-0.03535479657301915\", \"-0.0349394676590148\", \"-0.03543639352336611\", \"-0.03617854762621981\", \"-0.03406585347394592\", \"-0.019729276284945287\", \"-0.03633642536563647\", \"-0.025125379626063035\", \"-0.027492048292302847\", \"-0.02558478962240852\", \"-0.024862992084908275\", \"-0.03630237443237637\", \"-0.04024580084195439\", \"-0.042604183718005666\", \"-0.031093651053185362\", \"-0.023960680716364195\", \"-0.04327060563079141\", \"-0.029394416312643244\", \"-0.03470929781684061\", \"-0.0442050648921015\", \"-0.03336331117169153\", \"-0.02718331117543317\", \"-0.02599905019623611\", \"-0.037206215252878636\", \"-0.03369318180594935\", \"-0.03415741106295015\"]}, {\"mode\": \"markers\", \"name\": \"updt euc\", \"type\": \"scatter\", \"x\": [\"19\", \"20208\", \"40073\", \"60118\", \"80154\", \"100352\", \"120227\", \"140380\", \"160483\", \"180222\", \"200661\", \"220539\", \"240516\", \"260735\", \"280792\", \"300811\", \"320605\", \"341011\", \"361283\", \"381144\", \"401258\", \"420814\", \"440959\", \"460879\", \"481127\", \"501543\", \"521136\", \"541048\", \"561172\", \"581631\", \"601236\", \"621477\", \"641609\", \"661878\", \"681761\", \"701689\", \"722023\", \"741714\", \"761984\", \"781718\", \"801911\", \"821996\", \"842133\", \"862273\", \"881842\", \"902262\", \"922313\", \"942851\", \"962381\", \"982497\", \"1002504\", \"1022405\", \"1042713\", \"1062560\", \"1082708\", \"1102617\", \"1122790\", \"1142908\", \"1162914\", \"1182819\", \"1202885\", \"1222879\", \"1242924\", \"1263147\", \"1283184\", \"1303357\", \"1323363\", \"1343259\", \"1363204\", \"1383664\", \"1403409\", \"1423588\", \"1443789\", \"1463473\", \"1483634\", \"1504077\", \"1523418\", \"1543801\", \"1563783\", \"1583834\", \"1603987\", \"1624076\", \"1644074\", \"1663836\", \"1684332\", \"1704457\", \"1724528\", \"1744607\", \"1764026\", \"1784572\", \"1804323\", \"1824534\", \"1844582\", \"1864343\", \"1884630\", \"1904623\", \"1924956\", \"1944687\", \"1964836\", \"1985001\"], \"y\": [\"0.3361817645368287\", \"0.34677582949272345\", \"0.3569424861479853\", \"0.336495947845098\", \"0.36677354749814534\", \"0.34589314316261327\", \"0.3454556906825309\", \"0.3383989450063203\", \"0.3451286358256846\", \"0.3301146985929062\", \"0.3356535426322017\", \"0.33175457556962606\", \"0.321424770906908\", \"0.3366466483869262\", \"0.3040253144477971\", \"0.2849015599371523\", \"0.33169043261228526\", \"0.3131425507678572\", \"0.32656226986104164\", \"0.33979806480838237\", \"0.3309026102273492\", \"0.32543730284186606\", \"0.3582651607646989\", \"0.3687924291975705\", \"0.31456141699491547\", \"0.3366987377598624\", \"0.32228725110856354\", \"0.3275942026633004\", \"0.3500493857322166\", \"0.31713037344516815\", \"0.41509679758443857\", \"0.436237714450875\", \"0.42100601490164935\", \"0.428369856251385\", \"0.4288853929129206\", \"0.4056101617362951\", \"0.40951320702903327\", \"0.41505774873335577\", \"0.422120464532565\", \"0.4179732382887133\", \"0.3682108612606457\", \"0.33382092572177346\", \"0.3151141688202822\", \"0.30881722507851544\", \"0.33643260897407057\", \"0.3406905656037407\", \"0.3254001106487129\", \"0.3292340715216274\", \"0.32728365503951024\", \"0.2978706430521929\", \"0.3270749322308693\", \"0.3154683961053442\", \"0.3127194575408526\", \"0.32382679595372554\", \"0.3126146420367433\", \"0.34480101299904364\", \"0.3235131754111816\", \"0.33169966766304404\", \"0.3025434153891644\", \"0.331656571437418\", \"0.3558603423707263\", \"0.3262975975719876\", \"0.3187563178065446\", \"0.31849844027133245\", \"0.34097928266208694\", \"0.32878000079867387\", \"0.3181474816437769\", \"0.366889173194549\", \"0.3501575634971026\", \"0.3389012640640353\", \"0.31912228680262544\", \"0.34872190804678566\", \"0.3381442778670869\", \"0.3244765634973806\", \"0.3171760401158455\", \"0.3268575971931262\", \"0.31781279802884704\", \"0.3226030494524553\", \"0.3457066014382973\", \"0.3345610309653084\", \"0.3596378634494855\", \"0.375717787442908\", \"0.3820222924908115\", \"0.3701669238457421\", \"0.34503276698394403\", \"0.3159220270734752\", \"0.29139406389792855\", \"0.3200228721787843\", \"0.3377661373381231\", \"0.3851021172928436\", \"0.33353161350313465\", \"0.33180451178320036\", \"0.3172746447949209\", \"0.3183763504621821\", \"0.32187350753495436\", \"0.35327787494554247\", \"0.3540442359749411\", \"0.3400774294902483\", \"0.3395576220344439\", \"0.30978791267672195\"]}, {\"mode\": \"markers\", \"name\": \"updt hamming\", \"type\": \"scatter\", \"x\": [\"19\", \"20208\", \"40073\", \"60118\", \"80154\", \"100352\", \"120227\", \"140380\", \"160483\", \"180222\", \"200661\", \"220539\", \"240516\", \"260735\", \"280792\", \"300811\", \"320605\", \"341011\", \"361283\", \"381144\", \"401258\", \"420814\", \"440959\", \"460879\", \"481127\", \"501543\", \"521136\", \"541048\", \"561172\", \"581631\", \"601236\", \"621477\", \"641609\", \"661878\", \"681761\", \"701689\", \"722023\", \"741714\", \"761984\", \"781718\", \"801911\", \"821996\", \"842133\", \"862273\", \"881842\", \"902262\", \"922313\", \"942851\", \"962381\", \"982497\", \"1002504\", \"1022405\", \"1042713\", \"1062560\", \"1082708\", \"1102617\", \"1122790\", \"1142908\", \"1162914\", \"1182819\", \"1202885\", \"1222879\", \"1242924\", \"1263147\", \"1283184\", \"1303357\", \"1323363\", \"1343259\", \"1363204\", \"1383664\", \"1403409\", \"1423588\", \"1443789\", \"1463473\", \"1483634\", \"1504077\", \"1523418\", \"1543801\", \"1563783\", \"1583834\", \"1603987\", \"1624076\", \"1644074\", \"1663836\", \"1684332\", \"1704457\", \"1724528\", \"1744607\", \"1764026\", \"1784572\", \"1804323\", \"1824534\", \"1844582\", \"1864343\", \"1884630\", \"1904623\", \"1924956\", \"1944687\", \"1964836\", \"1985001\"], \"y\": [\"0.04595977821115597\", \"0.04418522317667375\", \"0.05308551476457899\", \"0.052008838923276554\", \"0.06393362830244662\", \"0.059984542181144115\", \"0.04832550731821544\", \"0.05378778946700693\", \"0.05473819292701056\", \"0.03754411892113993\", \"0.05602011059541196\", \"0.04516417518027469\", \"0.03483259721561429\", \"0.03743822926139124\", \"0.034009317361481356\", \"0.028107960872273772\", \"0.04699371614416309\", \"0.04681916816778776\", \"0.04396724637186067\", \"0.06128848942045225\", \"0.05307019228433623\", \"0.0431966126281168\", \"0.05377745466416986\", \"0.04868137363603057\", \"0.04193490907536755\", \"0.050062497980684434\", \"0.03971905462328898\", \"0.034593148455383756\", \"0.06961204654273095\", \"0.03231287386114875\", \"0.17901982438061637\", \"0.18331761431897506\", \"0.1753556897006965\", \"0.17397277439937262\", \"0.16648879082493317\", \"0.15872372922889944\", \"0.16575092027622615\", \"0.1840250401221235\", \"0.1817738196016922\", \"0.18571245920005863\", \"0.09109417310943478\", \"0.05854743651971119\", \"0.05036638613528424\", \"0.044202825610713425\", \"0.051203220198477235\", \"0.039796846953480715\", \"0.04936589281655671\", \"0.04316625496018829\", \"0.0318929791831335\", \"0.040734731128803686\", \"0.053473265143331186\", \"0.05806006469141813\", \"0.03892208362269759\", \"0.0384997346898869\", \"0.05095135083819565\", \"0.04513463415938467\", \"0.04482107208967125\", \"0.047027844439180316\", \"0.04169379436006729\", \"0.05090859993081043\", \"0.04185532142219729\", \"0.03829952939919461\", \"0.03915250516496188\", \"0.04258552591401781\", \"0.052267387604382605\", \"0.0434196113527366\", \"0.03707148590897066\", \"0.04005585456435993\", \"0.05327357233256674\", \"0.04445037861322064\", \"0.02301484963389604\", \"0.045360147509236316\", \"0.03806203242377341\", \"0.03670545814830816\", \"0.05440464398431762\", \"0.046741262193657464\", \"0.048232016218569734\", \"0.04872213357694083\", \"0.03839789515856612\", \"0.0565472440778611\", \"0.04744931254100407\", \"0.06237134992063316\", \"0.06120892339450388\", \"0.06750215056177265\", \"0.062240510171909326\", \"0.045153105916793515\", \"0.039093593357329474\", \"0.04131653813610392\", \"0.052134533072376275\", \"0.06063029306939392\", \"0.035769122403456664\", \"0.05253457917762044\", \"0.0459018807097079\", \"0.0373233191298676\", \"0.04800524408680056\", \"0.061324862492550626\", \"0.05882302485342917\", \"0.04426889522801535\", \"0.045695666925076\", \"0.04746706430138808\"]}],\n",
       "                        {\"template\": {\"data\": {\"bar\": [{\"error_x\": {\"color\": \"#2a3f5f\"}, \"error_y\": {\"color\": \"#2a3f5f\"}, \"marker\": {\"line\": {\"color\": \"#E5ECF6\", \"width\": 0.5}}, \"type\": \"bar\"}], \"barpolar\": [{\"marker\": {\"line\": {\"color\": \"#E5ECF6\", \"width\": 0.5}}, \"type\": \"barpolar\"}], \"carpet\": [{\"aaxis\": {\"endlinecolor\": \"#2a3f5f\", \"gridcolor\": \"white\", \"linecolor\": \"white\", \"minorgridcolor\": \"white\", \"startlinecolor\": \"#2a3f5f\"}, \"baxis\": {\"endlinecolor\": \"#2a3f5f\", \"gridcolor\": \"white\", \"linecolor\": \"white\", \"minorgridcolor\": \"white\", \"startlinecolor\": \"#2a3f5f\"}, \"type\": \"carpet\"}], \"choropleth\": [{\"colorbar\": {\"outlinewidth\": 0, \"ticks\": \"\"}, \"type\": \"choropleth\"}], \"contour\": [{\"colorbar\": {\"outlinewidth\": 0, \"ticks\": \"\"}, \"colorscale\": [[0.0, \"#0d0887\"], [0.1111111111111111, \"#46039f\"], [0.2222222222222222, \"#7201a8\"], [0.3333333333333333, \"#9c179e\"], [0.4444444444444444, \"#bd3786\"], [0.5555555555555556, \"#d8576b\"], [0.6666666666666666, \"#ed7953\"], [0.7777777777777778, \"#fb9f3a\"], [0.8888888888888888, \"#fdca26\"], [1.0, \"#f0f921\"]], \"type\": \"contour\"}], \"contourcarpet\": [{\"colorbar\": {\"outlinewidth\": 0, \"ticks\": \"\"}, \"type\": \"contourcarpet\"}], \"heatmap\": [{\"colorbar\": {\"outlinewidth\": 0, \"ticks\": \"\"}, \"colorscale\": [[0.0, \"#0d0887\"], [0.1111111111111111, \"#46039f\"], [0.2222222222222222, \"#7201a8\"], [0.3333333333333333, \"#9c179e\"], [0.4444444444444444, \"#bd3786\"], [0.5555555555555556, \"#d8576b\"], [0.6666666666666666, \"#ed7953\"], [0.7777777777777778, \"#fb9f3a\"], [0.8888888888888888, \"#fdca26\"], [1.0, \"#f0f921\"]], \"type\": \"heatmap\"}], \"heatmapgl\": [{\"colorbar\": {\"outlinewidth\": 0, \"ticks\": \"\"}, \"colorscale\": [[0.0, \"#0d0887\"], [0.1111111111111111, \"#46039f\"], [0.2222222222222222, \"#7201a8\"], [0.3333333333333333, \"#9c179e\"], [0.4444444444444444, \"#bd3786\"], [0.5555555555555556, \"#d8576b\"], [0.6666666666666666, \"#ed7953\"], [0.7777777777777778, \"#fb9f3a\"], [0.8888888888888888, \"#fdca26\"], [1.0, \"#f0f921\"]], \"type\": \"heatmapgl\"}], \"histogram\": [{\"marker\": {\"colorbar\": {\"outlinewidth\": 0, \"ticks\": \"\"}}, \"type\": \"histogram\"}], \"histogram2d\": [{\"colorbar\": {\"outlinewidth\": 0, \"ticks\": \"\"}, \"colorscale\": [[0.0, \"#0d0887\"], [0.1111111111111111, \"#46039f\"], [0.2222222222222222, \"#7201a8\"], [0.3333333333333333, \"#9c179e\"], [0.4444444444444444, \"#bd3786\"], [0.5555555555555556, \"#d8576b\"], [0.6666666666666666, \"#ed7953\"], [0.7777777777777778, \"#fb9f3a\"], [0.8888888888888888, \"#fdca26\"], [1.0, \"#f0f921\"]], \"type\": \"histogram2d\"}], \"histogram2dcontour\": [{\"colorbar\": {\"outlinewidth\": 0, \"ticks\": \"\"}, \"colorscale\": [[0.0, \"#0d0887\"], [0.1111111111111111, \"#46039f\"], [0.2222222222222222, \"#7201a8\"], [0.3333333333333333, \"#9c179e\"], [0.4444444444444444, \"#bd3786\"], [0.5555555555555556, \"#d8576b\"], [0.6666666666666666, \"#ed7953\"], [0.7777777777777778, \"#fb9f3a\"], [0.8888888888888888, \"#fdca26\"], [1.0, \"#f0f921\"]], \"type\": \"histogram2dcontour\"}], \"mesh3d\": [{\"colorbar\": {\"outlinewidth\": 0, \"ticks\": \"\"}, \"type\": \"mesh3d\"}], \"parcoords\": [{\"line\": {\"colorbar\": {\"outlinewidth\": 0, \"ticks\": \"\"}}, \"type\": \"parcoords\"}], \"pie\": [{\"automargin\": true, \"type\": \"pie\"}], \"scatter\": [{\"marker\": {\"colorbar\": {\"outlinewidth\": 0, \"ticks\": \"\"}}, \"type\": \"scatter\"}], \"scatter3d\": [{\"line\": {\"colorbar\": {\"outlinewidth\": 0, \"ticks\": \"\"}}, \"marker\": {\"colorbar\": {\"outlinewidth\": 0, \"ticks\": \"\"}}, \"type\": \"scatter3d\"}], \"scattercarpet\": [{\"marker\": {\"colorbar\": {\"outlinewidth\": 0, \"ticks\": \"\"}}, \"type\": \"scattercarpet\"}], \"scattergeo\": [{\"marker\": {\"colorbar\": {\"outlinewidth\": 0, \"ticks\": \"\"}}, \"type\": \"scattergeo\"}], \"scattergl\": [{\"marker\": {\"colorbar\": {\"outlinewidth\": 0, \"ticks\": \"\"}}, \"type\": \"scattergl\"}], \"scattermapbox\": [{\"marker\": {\"colorbar\": {\"outlinewidth\": 0, \"ticks\": \"\"}}, \"type\": \"scattermapbox\"}], \"scatterpolar\": [{\"marker\": {\"colorbar\": {\"outlinewidth\": 0, \"ticks\": \"\"}}, \"type\": \"scatterpolar\"}], \"scatterpolargl\": [{\"marker\": {\"colorbar\": {\"outlinewidth\": 0, \"ticks\": \"\"}}, \"type\": \"scatterpolargl\"}], \"scatterternary\": [{\"marker\": {\"colorbar\": {\"outlinewidth\": 0, \"ticks\": \"\"}}, \"type\": \"scatterternary\"}], \"surface\": [{\"colorbar\": {\"outlinewidth\": 0, \"ticks\": \"\"}, \"colorscale\": [[0.0, \"#0d0887\"], [0.1111111111111111, \"#46039f\"], [0.2222222222222222, \"#7201a8\"], [0.3333333333333333, \"#9c179e\"], [0.4444444444444444, \"#bd3786\"], [0.5555555555555556, \"#d8576b\"], [0.6666666666666666, \"#ed7953\"], [0.7777777777777778, \"#fb9f3a\"], [0.8888888888888888, \"#fdca26\"], [1.0, \"#f0f921\"]], \"type\": \"surface\"}], \"table\": [{\"cells\": {\"fill\": {\"color\": \"#EBF0F8\"}, \"line\": {\"color\": \"white\"}}, \"header\": {\"fill\": {\"color\": \"#C8D4E3\"}, \"line\": {\"color\": \"white\"}}, \"type\": \"table\"}]}, \"layout\": {\"annotationdefaults\": {\"arrowcolor\": \"#2a3f5f\", \"arrowhead\": 0, \"arrowwidth\": 1}, \"coloraxis\": {\"colorbar\": {\"outlinewidth\": 0, \"ticks\": \"\"}}, \"colorscale\": {\"diverging\": [[0, \"#8e0152\"], [0.1, \"#c51b7d\"], [0.2, \"#de77ae\"], [0.3, \"#f1b6da\"], [0.4, \"#fde0ef\"], [0.5, \"#f7f7f7\"], [0.6, \"#e6f5d0\"], [0.7, \"#b8e186\"], [0.8, \"#7fbc41\"], [0.9, \"#4d9221\"], [1, \"#276419\"]], \"sequential\": [[0.0, \"#0d0887\"], [0.1111111111111111, \"#46039f\"], [0.2222222222222222, \"#7201a8\"], [0.3333333333333333, \"#9c179e\"], [0.4444444444444444, \"#bd3786\"], [0.5555555555555556, \"#d8576b\"], [0.6666666666666666, \"#ed7953\"], [0.7777777777777778, \"#fb9f3a\"], [0.8888888888888888, \"#fdca26\"], [1.0, \"#f0f921\"]], \"sequentialminus\": [[0.0, \"#0d0887\"], [0.1111111111111111, \"#46039f\"], [0.2222222222222222, \"#7201a8\"], [0.3333333333333333, \"#9c179e\"], [0.4444444444444444, \"#bd3786\"], [0.5555555555555556, \"#d8576b\"], [0.6666666666666666, \"#ed7953\"], [0.7777777777777778, \"#fb9f3a\"], [0.8888888888888888, \"#fdca26\"], [1.0, \"#f0f921\"]]}, \"colorway\": [\"#636efa\", \"#EF553B\", \"#00cc96\", \"#ab63fa\", \"#FFA15A\", \"#19d3f3\", \"#FF6692\", \"#B6E880\", \"#FF97FF\", \"#FECB52\"], \"font\": {\"color\": \"#2a3f5f\"}, \"geo\": {\"bgcolor\": \"white\", \"lakecolor\": \"white\", \"landcolor\": \"#E5ECF6\", \"showlakes\": true, \"showland\": true, \"subunitcolor\": \"white\"}, \"hoverlabel\": {\"align\": \"left\"}, \"hovermode\": \"closest\", \"mapbox\": {\"style\": \"light\"}, \"paper_bgcolor\": \"white\", \"plot_bgcolor\": \"#E5ECF6\", \"polar\": {\"angularaxis\": {\"gridcolor\": \"white\", \"linecolor\": \"white\", \"ticks\": \"\"}, \"bgcolor\": \"#E5ECF6\", \"radialaxis\": {\"gridcolor\": \"white\", \"linecolor\": \"white\", \"ticks\": \"\"}}, \"scene\": {\"xaxis\": {\"backgroundcolor\": \"#E5ECF6\", \"gridcolor\": \"white\", \"gridwidth\": 2, \"linecolor\": \"white\", \"showbackground\": true, \"ticks\": \"\", \"zerolinecolor\": \"white\"}, \"yaxis\": {\"backgroundcolor\": \"#E5ECF6\", \"gridcolor\": \"white\", \"gridwidth\": 2, \"linecolor\": \"white\", \"showbackground\": true, \"ticks\": \"\", \"zerolinecolor\": \"white\"}, \"zaxis\": {\"backgroundcolor\": \"#E5ECF6\", \"gridcolor\": \"white\", \"gridwidth\": 2, \"linecolor\": \"white\", \"showbackground\": true, \"ticks\": \"\", \"zerolinecolor\": \"white\"}}, \"shapedefaults\": {\"line\": {\"color\": \"#2a3f5f\"}}, \"ternary\": {\"aaxis\": {\"gridcolor\": \"white\", \"linecolor\": \"white\", \"ticks\": \"\"}, \"baxis\": {\"gridcolor\": \"white\", \"linecolor\": \"white\", \"ticks\": \"\"}, \"bgcolor\": \"#E5ECF6\", \"caxis\": {\"gridcolor\": \"white\", \"linecolor\": \"white\", \"ticks\": \"\"}}, \"title\": {\"x\": 0.05}, \"xaxis\": {\"automargin\": true, \"gridcolor\": \"white\", \"linecolor\": \"white\", \"ticks\": \"\", \"title\": {\"standoff\": 15}, \"zerolinecolor\": \"white\", \"zerolinewidth\": 2}, \"yaxis\": {\"automargin\": true, \"gridcolor\": \"white\", \"linecolor\": \"white\", \"ticks\": \"\", \"title\": {\"standoff\": 15}, \"zerolinecolor\": \"white\", \"zerolinewidth\": 2}}}, \"title\": {\"text\": \"Stats\"}, \"xaxis\": {\"title\": {\"text\": \"Windows\"}}, \"yaxis\": {\"title\": {\"text\": \"AMOVA\"}}},\n",
       "                        {\"responsive\": true}\n",
       "                    ).then(function(){\n",
       "                            \n",
       "var gd = document.getElementById('760ba59f-3c53-4911-9cc8-7af0acdad625');\n",
       "var x = new MutationObserver(function (mutations, observer) {{\n",
       "        var display = window.getComputedStyle(gd).display;\n",
       "        if (!display || display === 'none') {{\n",
       "            console.log([gd, 'removed!']);\n",
       "            Plotly.purge(gd);\n",
       "            observer.disconnect();\n",
       "        }}\n",
       "}});\n",
       "\n",
       "// Listen for the removal of the full notebook cells\n",
       "var notebookContainer = gd.closest('#notebook-container');\n",
       "if (notebookContainer) {{\n",
       "    x.observe(notebookContainer, {childList: true});\n",
       "}}\n",
       "\n",
       "// Listen for the clearing of the current output cell\n",
       "var outputEl = gd.closest('.output');\n",
       "if (outputEl) {{\n",
       "    x.observe(outputEl, {childList: true});\n",
       "}}\n",
       "\n",
       "                        })\n",
       "                };\n",
       "                });\n",
       "            </script>\n",
       "        </div>"
      ]
     },
     "metadata": {},
     "output_type": "display_data"
    }
   ],
   "source": [
    "AMOVA_stats= [[[Chr,wind,*Results[Chr][wind]] for wind in Results[Chr].keys()] for Chr in Results.keys()]\n",
    "AMOVA_stats= np.array([y for y in it.chain(*AMOVA_stats)])\n",
    "\n",
    "Names= ['updt jaccard','updt euc','updt hamming']\n",
    "\n",
    "fig_data= [go.Scatter(\n",
    "    x= AMOVA_stats[:,1],\n",
    "    y= AMOVA_stats[:,x],\n",
    "    mode= 'markers',\n",
    "    name= Names[x - 3]\n",
    ") for x in range(3,6)]\n",
    "\n",
    "layout = go.Layout(\n",
    "    title= 'Stats',\n",
    "    yaxis=dict(\n",
    "        title='AMOVA'),\n",
    "    xaxis=dict(\n",
    "        title='Windows')\n",
    ")\n",
    "\n",
    "fig= go.Figure(data=fig_data, layout=layout)\n",
    "iplot(fig)"
   ]
  },
  {
   "cell_type": "markdown",
   "metadata": {},
   "source": [
    "## Cluster Focus\n",
    "\n",
    "In this section we identify clusters at local windows. For each cluster we will extract the _p_-value of every accession given that cluster. This _p_-value is calculated using the cluster kernel density estimation in PCA feature space (_MS profile_).\n",
    "\n",
    "Cluster profiles are captured as normalized individual cdfs under specific cluster kernel density estimates in feature space.\n",
    "\n",
    "The identification of clusters in feature space can be done using any of the methods available in the sklearn package. The method and parameters are defined in the `CL_store` dictionary below. \n",
    "\n",
    "First however we define which accessions to use in identifying clusters and extracting cluster profiles. \n",
    "\n",
    "\n",
    "\n",
    "#### i. Accession focus\n",
    "\n",
    "Once again we can chose to use only a subset of accessions with which to identify clusters. To select these accessions use the labels.\n"
   ]
  },
  {
   "cell_type": "code",
   "execution_count": 12,
   "metadata": {},
   "outputs": [],
   "source": [
    "\n",
    "select_refs= [0,1,2,4]\n",
    "label_vector= [[len(select_refs),labels1[x]][int(labels1[x] in select_refs)] for x in range(genotype.shape[0])]\n",
    "\n",
    "Whose= list(range(genotype.shape[0]))\n"
   ]
  },
  {
   "cell_type": "code",
   "execution_count": 13,
   "metadata": {},
   "outputs": [],
   "source": [
    "Names=['id' + str(x) for x in range(len(Whose))]\n",
    "Fam= {\n",
    "    Names[x]:x for x in range(len(Names))\n",
    "}\n",
    "\n",
    "Fam.update({\n",
    "    x:Names[x] for x in range(len(Names))\n",
    "})\n",
    "\n",
    "###\n",
    "Dr_dim= 3\n",
    "\n",
    "###\n",
    "focus_subset= False\n",
    "Geneo= admx_lib\n",
    "Focus_group= 0\n",
    "\n",
    "Focus= [Names[x] for x in Geneo[Focus_group]]\n",
    "\n",
    "###\n",
    "Dr_var= 'all'\n",
    "target_var= [0]\n",
    "\n",
    "##"
   ]
  },
  {
   "cell_type": "markdown",
   "metadata": {},
   "source": [
    "#### ii. Local window custer profiles"
   ]
  },
  {
   "cell_type": "code",
   "execution_count": 14,
   "metadata": {},
   "outputs": [],
   "source": [
    "from sklearn.cluster import DBSCAN\n",
    "from sklearn.cluster import AgglomerativeClustering\n",
    "from sklearn.cluster import KMeans\n",
    "\n",
    "Method= 'MeanShift'\n",
    "\n",
    "Cl_store= {\n",
    "    'MeanShift':{\n",
    "        'Clusterfunc': MeanShift,\n",
    "        'cluster_kwargs': {\n",
    "            'bin_seeding': False,\n",
    "            'cluster_all': True,\n",
    "            'min_bin_freq': 5\n",
    "        }\n",
    "    },\n",
    "    'DBscan':{\n",
    "        'Clusterfunc': DBSCAN,\n",
    "        'cluster_kwargs': {\n",
    "            'min_samples': 15\n",
    "        }\n",
    "    },\n",
    "    'Ward':{\n",
    "        'Clusterfunc': AgglomerativeClustering,\n",
    "        'cluster_kwargs': {\n",
    "            'linkage': 'ward',\n",
    "            'n_clusters': 4\n",
    "        }\n",
    "    },\n",
    "    'Kmeans':{\n",
    "        'Clusterfunc': KMeans,\n",
    "        'cluster_kwargs': {\n",
    "            'random_state': 0,\n",
    "            'n_clusters': 3\n",
    "        }\n",
    "    }\n",
    "}"
   ]
  },
  {
   "cell_type": "code",
   "execution_count": 15,
   "metadata": {
    "scrolled": true
   },
   "outputs": [
    {
     "name": "stdout",
     "output_type": "stream",
     "text": [
      "Clover shape:  (211, 130)\n",
      "Clover shape:  (211, 130)\n",
      "focusing Dr on all\n"
     ]
    }
   ],
   "source": [
    "from structure_tools.mstutorial_tools import MAC_process\n",
    "\n",
    "preProc_Clover, Cameo, Coordinates, COMPS, X_se, label_comps, Subset, labels_comp= MAC_process(Construct,\n",
    "                                                                             Out,\n",
    "                                                                             Cl_store,\n",
    "                                                                             refs_lib,\n",
    "                                                                             Fam,\n",
    "                                                                             Names= Names,\n",
    "                                                                             target_var= target_var,\n",
    "                                                                             Dr_var= Dr_var,\n",
    "                                                                             focus_subset= focus_subset,\n",
    "                                                                             Focus= Focus,\n",
    "                                                                             Dr_dim= Dr_dim,\n",
    "                                                                             Method= Method)\n"
   ]
  },
  {
   "cell_type": "markdown",
   "metadata": {},
   "source": [
    "#### iii. cluster visualisation.\n",
    "\n",
    "The function `MAC_process` performs dimensionality reduction on the _MS profiles_ extracted across local windows. _MS profiles_ are clustered (PCA + Mean Shift). \n",
    "\n",
    "Feature-wise, MS profiles contain the normalized probability of individual accessions towards window-level genetic clusters. We average MS_profiles by group. \n",
    "\n",
    "Below, the principal coordinates of Dr on the entire data sets are used to convey the ID of _MS profile_ features.\n",
    "\n",
    "First the labels from the full set clustering are replotted.\n"
   ]
  },
  {
   "cell_type": "code",
   "execution_count": 16,
   "metadata": {
    "scrolled": false
   },
   "outputs": [
    {
     "name": "stdout",
     "output_type": "stream",
     "text": [
      "['Global', 'Global', 'cluster 1', 'cluster 1', 'cluster 2', 'cluster 2', 'cluster 3', 'cluster 3', 'cluster 4', 'cluster 4']\n"
     ]
    },
    {
     "name": "stderr",
     "output_type": "stream",
     "text": [
      "c:\\users\\floyd\\appdata\\local\\programs\\python\\python37-32\\lib\\site-packages\\plotly\\tools.py:465: DeprecationWarning:\n",
      "\n",
      "plotly.tools.make_subplots is deprecated, please use plotly.subplots.make_subplots instead\n",
      "\n"
     ]
    },
    {
     "data": {
      "application/vnd.plotly.v1+json": {
       "config": {
        "linkText": "Export to plot.ly",
        "plotlyServerURL": "https://plot.ly",
        "showLink": false
       },
       "data": [
        {
         "marker": {
          "color": "darkseagreen",
          "line": {
           "width": 0
          },
          "opacity": 0.8,
          "size": 6,
          "symbol": "circle"
         },
         "mode": "markers",
         "name": "0",
         "type": "scatter",
         "x": [
          -50.92965511064042,
          -50.122695213073676,
          -51.791426317184055,
          -50.18922768457569,
          -50.82759090431227,
          -51.431930579008736,
          -51.27860532540107,
          -51.60602555348463,
          -49.25236735037775,
          -50.66865320309655,
          -50.85386608224834,
          -49.349097084270014,
          -50.92844980158951,
          -51.47486700420786,
          -51.25734436859378,
          -50.618963036382084,
          -51.78893540331893,
          -51.21552770321487,
          -50.082010572336635,
          -51.301949450664424,
          -51.48833499997004,
          -51.574070932606034,
          -50.14254574831566,
          -50.279985329312886,
          -50.72269974747976,
          -49.987337619613136,
          -50.05731891437396,
          -50.80441240935232,
          -49.39402480602693,
          -51.83476210865233,
          -52.3064714277239,
          -51.13010633275694,
          -50.59704460494185,
          -51.598643970606304,
          -51.50589574188524,
          -51.8212381499601,
          -50.67749311301716,
          -51.18857335071394,
          -50.16547789591155,
          -50.71520274913881,
          -23.264189082557806,
          -36.70494300843521,
          -30.72003151356544,
          -38.0999285435935,
          -15.245207877841798,
          -38.259284367584065
         ],
         "xaxis": "x",
         "y": [
          -15.270437853719757,
          -15.337294726205668,
          -15.577040634458767,
          -14.335443171870677,
          -14.782022603325602,
          -15.548752601186749,
          -13.392152325295552,
          -15.739198406950713,
          -14.217180540586417,
          -14.270358876212814,
          -14.346372816620269,
          -14.615930063372236,
          -13.523948708986897,
          -15.997203436209224,
          -15.024713084732639,
          -14.322962106346298,
          -14.698860318061465,
          -15.401126172523425,
          -15.059683523062617,
          -14.53486413978672,
          -14.287322994035485,
          -15.231850921007878,
          -15.898294461038974,
          -15.224146824876863,
          -13.959060701824038,
          -14.513248345952018,
          -15.063689753109454,
          -14.606513588805784,
          -15.57568718031413,
          -15.160073846374223,
          -14.642999009002343,
          -16.15642475684009,
          -15.305612095848371,
          -14.650802195087214,
          -15.72008472149938,
          -14.563776349916907,
          -14.078165623252607,
          -16.34123367780726,
          -13.964079491683473,
          -13.805345755680909,
          -20.094144974044855,
          -9.797055045381637,
          -16.900060823008882,
          -16.665067795083672,
          -20.65793339368597,
          -16.12770000494191
         ],
         "yaxis": "y"
        },
        {
         "marker": {
          "color": "crimson",
          "line": {
           "width": 0
          },
          "opacity": 0.8,
          "size": 6,
          "symbol": "circle"
         },
         "mode": "markers",
         "name": "1",
         "type": "scatter",
         "x": [
          67.6536836582236,
          68.88400007716326,
          69.12243563578289,
          68.48041876101385,
          68.25733309216778,
          68.96585875848139,
          68.3125525211013,
          68.31750424432545,
          68.04433403961397,
          67.09201423528506,
          68.00350999881304,
          67.91203340697217,
          68.13618965501257,
          68.48608104474985,
          67.64023611981844,
          68.53225308897012,
          68.11768283090677,
          69.67926377386179,
          67.44548305715738,
          68.55129854161333,
          67.13533813128197,
          68.86208641727437,
          68.3595548597416,
          67.26501034758424,
          68.48529086748412,
          67.65165309246355,
          67.12634019346602,
          68.76316391298114,
          68.0766885534856,
          67.60352058775139,
          69.12423484043065,
          68.10751625144428,
          68.78321071679203,
          69.00564165776207,
          68.08034465019556,
          69.2355147667079,
          67.96569004391377,
          68.17970590989262,
          68.9559344674049,
          68.536301368247
         ],
         "xaxis": "x",
         "y": [
          -10.429599018701085,
          -10.924814920460127,
          -11.971209013141623,
          -11.324547722989704,
          -9.387550726751906,
          -11.509698261117109,
          -11.87150395604209,
          -11.069719191432378,
          -10.04268254294829,
          -11.5985700725781,
          -10.835272711270798,
          -11.56594004732113,
          -11.67556386638509,
          -10.643099832960484,
          -11.214142030398419,
          -10.843123581301661,
          -11.095899776572601,
          -10.950119871235158,
          -10.675622085992584,
          -11.294083271289491,
          -10.530946522223545,
          -11.35891799160636,
          -10.24309580883009,
          -11.243816137912134,
          -11.41646278941523,
          -10.992812211091234,
          -10.657053618403362,
          -10.346624163377365,
          -10.972944412147129,
          -10.465211832588254,
          -11.038399049755073,
          -10.377194460547294,
          -12.01329000356691,
          -10.823638708537109,
          -11.465443072358205,
          -11.714129862385553,
          -11.20232122124892,
          -10.960599180514343,
          -11.24590831817909,
          -10.789017372157694
         ],
         "yaxis": "y"
        },
        {
         "marker": {
          "color": "darkorange",
          "line": {
           "width": 0
          },
          "opacity": 0.8,
          "size": 6,
          "symbol": "circle"
         },
         "mode": "markers",
         "name": "2",
         "type": "scatter",
         "x": [
          -34.27321845773529,
          -33.69863913984631,
          -33.56245727722324,
          -34.22759103500851,
          -34.576975929537284,
          -35.83006283343574,
          -33.959608882256816,
          -33.3956475123559,
          -33.70549922660188,
          -35.01528168084917,
          -34.68756697790666,
          -34.34737437394637,
          -33.569021485783864,
          -35.22842992019599,
          -34.631613729084904,
          -35.071411205968055,
          -34.79093415017454,
          -35.25568105969022,
          -35.32212029178282,
          -35.46942391024551
         ],
         "xaxis": "x",
         "y": [
          16.034914069539496,
          16.52261012134995,
          15.702228854396049,
          15.068916650951493,
          15.335865623588086,
          14.985035489045442,
          15.87785948418189,
          15.614888398158719,
          17.69719689506331,
          15.756310731251347,
          15.026765176802652,
          16.357613499948247,
          16.048906747503036,
          16.163667364388164,
          14.441290626209467,
          16.44707904114969,
          16.03767430458797,
          15.495181824460845,
          15.766925270235907,
          15.696427035044094
         ],
         "yaxis": "y"
        },
        {
         "marker": {
          "color": "darkblue",
          "line": {
           "width": 0
          },
          "opacity": 0.8,
          "size": 6,
          "symbol": "circle"
         },
         "mode": "markers",
         "name": "3",
         "type": "scatter",
         "x": [
          47.390298665826016,
          28.55508184081537,
          33.434642152930884,
          24.59939157780199,
          19.74992061623195
         ],
         "xaxis": "x",
         "y": [
          -11.068962444640375,
          -9.611425492448927,
          -8.33230761277498,
          -17.00548143140015,
          -4.480578197486477
         ],
         "yaxis": "y"
        },
        {
         "marker": {
          "color": "darkcyan",
          "line": {
           "width": 0
          },
          "opacity": 0.8,
          "size": 6,
          "symbol": "circle"
         },
         "mode": "markers",
         "name": "4",
         "type": "scatter",
         "x": [
          20.32307919546355,
          12.703367026810346,
          12.541946219595971,
          28.32827967260548
         ],
         "xaxis": "x",
         "y": [
          92.5778344369724,
          75.26383947190726,
          83.68946500044882,
          95.47082668144907
         ],
         "yaxis": "y"
        },
        {
         "marker": {
          "color": "darkgoldenrod",
          "line": {
           "width": 0
          },
          "opacity": 0.8,
          "size": 6,
          "symbol": "circle"
         },
         "mode": "markers",
         "name": "5",
         "type": "scatter",
         "x": [
          0.9392790362596056,
          -8.32492870619595,
          -6.001117505245767,
          0.47267559047098917
         ],
         "xaxis": "x",
         "y": [
          66.81947931521418,
          55.71677525372854,
          55.4486476486469,
          68.02149943303405
         ],
         "yaxis": "y"
        },
        {
         "marker": {
          "color": "darkgray",
          "line": {
           "width": 0
          },
          "opacity": 0.8,
          "size": 6,
          "symbol": "circle"
         },
         "mode": "markers",
         "name": "6",
         "type": "scatter",
         "x": [
          31.003116421106437
         ],
         "xaxis": "x",
         "y": [
          81.09688566723175
         ],
         "yaxis": "y"
        },
        {
         "marker": {
          "color": "darkgrey",
          "line": {
           "width": 0
          },
          "opacity": 0.8,
          "size": 6,
          "symbol": "circle"
         },
         "mode": "markers",
         "name": "7",
         "type": "scatter",
         "x": [
          24.04247205252791
         ],
         "xaxis": "x",
         "y": [
          92.11771099881057
         ],
         "yaxis": "y"
        },
        {
         "marker": {
          "color": "darkgreen",
          "line": {
           "width": 0
          },
          "opacity": 0.8,
          "size": 6,
          "symbol": "circle"
         },
         "mode": "markers",
         "name": "8",
         "type": "scatter",
         "x": [
          7.83664802133827
         ],
         "xaxis": "x",
         "y": [
          35.95157582177658
         ],
         "yaxis": "y"
        },
        {
         "marker": {
          "color": "darkkhaki",
          "line": {
           "width": 0
          },
          "opacity": 0.8,
          "size": 6,
          "symbol": "circle"
         },
         "mode": "markers",
         "name": "9",
         "type": "scatter",
         "x": [
          3.732601399048257,
          -19.299186883130826
         ],
         "xaxis": "x",
         "y": [
          4.934167036347174,
          -10.38294452484463
         ],
         "yaxis": "y"
        },
        {
         "marker": {
          "color": "darkmagenta",
          "line": {
           "width": 0
          },
          "opacity": 0.8,
          "size": 6,
          "symbol": "circle"
         },
         "mode": "markers",
         "name": "10",
         "type": "scatter",
         "x": [
          11.543044309001804,
          -12.78086602436898
         ],
         "xaxis": "x",
         "y": [
          2.5400108051286736,
          -1.503519904892699
         ],
         "yaxis": "y"
        },
        {
         "marker": {
          "color": "darkolivegreen",
          "line": {
           "width": 0
          },
          "opacity": 0.8,
          "size": 6,
          "symbol": "circle"
         },
         "mode": "markers",
         "name": "11",
         "type": "scatter",
         "x": [
          -19.65567402567082
         ],
         "xaxis": "x",
         "y": [
          39.0616678427682
         ],
         "yaxis": "y"
        },
        {
         "marker": {
          "color": "darkorange",
          "line": {
           "width": 0
          },
          "opacity": 0.8,
          "size": 6,
          "symbol": "circle"
         },
         "mode": "markers",
         "name": "12",
         "type": "scatter",
         "x": [
          -22.346424900489193
         ],
         "xaxis": "x",
         "y": [
          25.15429227879053
         ],
         "yaxis": "y"
        },
        {
         "marker": {
          "color": "darkorchid",
          "line": {
           "width": 0
          },
          "opacity": 0.8,
          "size": 6,
          "symbol": "circle"
         },
         "mode": "markers",
         "name": "13",
         "type": "scatter",
         "x": [
          -10.26216894644254,
          -31.589413810082487
         ],
         "xaxis": "x",
         "y": [
          -7.4923460047666115,
          15.702040390497844
         ],
         "yaxis": "y"
        },
        {
         "marker": {
          "color": "darkseagreen",
          "line": {
           "width": 0
          },
          "opacity": 0.8,
          "size": 6,
          "symbol": "circle"
         },
         "mode": "markers",
         "name": "0",
         "type": "scatter",
         "x": [
          -50.92965511064042,
          -50.122695213073676,
          -51.791426317184055,
          -50.18922768457569,
          -50.82759090431227,
          -51.431930579008736,
          -51.27860532540107,
          -51.60602555348463,
          -49.25236735037775,
          -50.66865320309655,
          -50.85386608224834,
          -49.349097084270014,
          -50.92844980158951,
          -51.47486700420786,
          -51.25734436859378,
          -50.618963036382084,
          -51.78893540331893,
          -51.21552770321487,
          -50.082010572336635,
          -51.301949450664424,
          -51.48833499997004,
          -51.574070932606034,
          -50.14254574831566,
          -50.279985329312886,
          -50.72269974747976,
          -49.987337619613136,
          -50.05731891437396,
          -50.80441240935232,
          -49.39402480602693,
          -51.83476210865233,
          -52.3064714277239,
          -51.13010633275694,
          -50.59704460494185,
          -51.598643970606304,
          -51.50589574188524,
          -51.8212381499601,
          -50.67749311301716,
          -51.18857335071394,
          -50.16547789591155,
          -50.71520274913881,
          -23.264189082557806,
          -36.70494300843521,
          -30.72003151356544,
          -38.0999285435935,
          -15.245207877841798,
          -38.259284367584065
         ],
         "xaxis": "x2",
         "y": [
          13.63813527701303,
          14.469623947151883,
          14.493232576595691,
          13.775363024916388,
          14.003103483016512,
          13.687491362761046,
          14.423041639385156,
          14.01677074430146,
          14.403803901189313,
          13.08330955949845,
          13.98778119188632,
          13.520319225497405,
          12.982373100143445,
          13.096966774260958,
          13.5367947919723,
          14.846973917078348,
          13.60006485608552,
          14.008713039212354,
          13.227133233569996,
          14.126808363464727,
          13.344110535873424,
          12.960663500527152,
          15.41385528485871,
          14.648189598716202,
          14.279108510607672,
          13.255621955701827,
          15.758477077338583,
          14.017388941769084,
          13.652378821007748,
          14.010591026060666,
          14.44607819159879,
          13.544735149719369,
          14.274892092761524,
          15.099371518141343,
          14.175570255731023,
          13.356028600533188,
          14.362338942766698,
          14.095275259539731,
          14.63590410710734,
          14.109523017584651,
          19.88072886580532,
          21.68412948879285,
          19.713546307359795,
          19.190818073895585,
          21.468531146298147,
          15.983592336203388
         ],
         "yaxis": "y2"
        },
        {
         "marker": {
          "color": "crimson",
          "line": {
           "width": 0
          },
          "opacity": 0.8,
          "size": 6,
          "symbol": "circle"
         },
         "mode": "markers",
         "name": "1",
         "type": "scatter",
         "x": [
          67.6536836582236,
          68.88400007716326,
          69.12243563578289,
          68.48041876101385,
          68.25733309216778,
          68.96585875848139,
          68.3125525211013,
          68.31750424432545,
          68.04433403961397,
          67.09201423528506,
          68.00350999881304,
          67.91203340697217,
          68.13618965501257,
          68.48608104474985,
          67.64023611981844,
          68.53225308897012,
          68.11768283090677,
          69.67926377386179,
          67.44548305715738,
          68.55129854161333,
          67.13533813128197,
          68.86208641727437,
          68.3595548597416,
          67.26501034758424,
          68.48529086748412,
          67.65165309246355,
          67.12634019346602,
          68.76316391298114,
          68.0766885534856,
          67.60352058775139,
          69.12423484043065,
          68.10751625144428,
          68.78321071679203,
          69.00564165776207,
          68.08034465019556,
          69.2355147667079,
          67.96569004391377,
          68.17970590989262,
          68.9559344674049,
          68.536301368247
         ],
         "xaxis": "x2",
         "y": [
          -1.953453164653643,
          -2.4116833611990924,
          -1.3384999016077144,
          -1.7268001472224477,
          -1.4766706691109266,
          -1.804199909737303,
          -2.367099206606988,
          -0.9743828552558325,
          -2.476520988594173,
          -2.0993822688533728,
          -1.5827864481750213,
          -2.110843804086348,
          -1.3233337102530836,
          -1.7883432678538485,
          -1.3400707489193944,
          -1.4140647440915617,
          -1.9942146252147284,
          -1.2665720019759965,
          -0.2604508315966764,
          -0.7519759857436675,
          -1.430818380078661,
          -1.4453710110481077,
          -1.9568700556155556,
          -1.0583555926454653,
          -1.6971629954828664,
          -0.798224028726669,
          -0.6563022304197357,
          -2.0732070410458165,
          -1.3371329460948111,
          -2.092755532422247,
          -1.0989333377498338,
          -1.4212864586138987,
          -1.7426123791096881,
          -1.3575810243438495,
          -1.8477982172258118,
          -1.0548746348399325,
          -1.1324955420629244,
          0.06115822747911224,
          -1.067436048026103,
          -1.2293370125988188
         ],
         "yaxis": "y2"
        },
        {
         "marker": {
          "color": "darkorange",
          "line": {
           "width": 0
          },
          "opacity": 0.8,
          "size": 6,
          "symbol": "circle"
         },
         "mode": "markers",
         "name": "2",
         "type": "scatter",
         "x": [
          -34.27321845773529,
          -33.69863913984631,
          -33.56245727722324,
          -34.22759103500851,
          -34.576975929537284,
          -35.83006283343574,
          -33.959608882256816,
          -33.3956475123559,
          -33.70549922660188,
          -35.01528168084917,
          -34.68756697790666,
          -34.34737437394637,
          -33.569021485783864,
          -35.22842992019599,
          -34.631613729084904,
          -35.071411205968055,
          -34.79093415017454,
          -35.25568105969022,
          -35.32212029178282,
          -35.46942391024551
         ],
         "xaxis": "x2",
         "y": [
          -48.152963821791545,
          -48.995983192319606,
          -47.10108540652825,
          -45.957302364928424,
          -47.888697112798326,
          -50.07011150041718,
          -49.19580549571403,
          -47.66177444412008,
          -45.693664852062604,
          -47.33252977779955,
          -48.072975114479654,
          -47.57758635764012,
          -47.98432101995432,
          -48.912472963470485,
          -46.09734705116224,
          -48.536527629047775,
          -49.255590166104845,
          -46.64209584018771,
          -50.1610986358454,
          -47.43474792414081
         ],
         "yaxis": "y2"
        },
        {
         "marker": {
          "color": "darkblue",
          "line": {
           "width": 0
          },
          "opacity": 0.8,
          "size": 6,
          "symbol": "circle"
         },
         "mode": "markers",
         "name": "3",
         "type": "scatter",
         "x": [
          47.390298665826016,
          28.55508184081537,
          33.434642152930884,
          24.59939157780199,
          19.74992061623195
         ],
         "xaxis": "x2",
         "y": [
          1.574162152009604,
          -5.097758309366264,
          -7.5642045652732115,
          15.868675684093587,
          -16.27695815055519
         ],
         "yaxis": "y2"
        },
        {
         "marker": {
          "color": "darkcyan",
          "line": {
           "width": 0
          },
          "opacity": 0.8,
          "size": 6,
          "symbol": "circle"
         },
         "mode": "markers",
         "name": "4",
         "type": "scatter",
         "x": [
          20.32307919546355,
          12.703367026810346,
          12.541946219595971,
          28.32827967260548
         ],
         "xaxis": "x2",
         "y": [
          28.76971873189159,
          46.88614757529181,
          30.895457526541893,
          30.72353340019164
         ],
         "yaxis": "y2"
        },
        {
         "marker": {
          "color": "darkgoldenrod",
          "line": {
           "width": 0
          },
          "opacity": 0.8,
          "size": 6,
          "symbol": "circle"
         },
         "mode": "markers",
         "name": "5",
         "type": "scatter",
         "x": [
          0.9392790362596056,
          -8.32492870619595,
          -6.001117505245767,
          0.47267559047098917
         ],
         "xaxis": "x2",
         "y": [
          12.109253062820363,
          7.601132400075252,
          20.59543880267221,
          31.244297636313
         ],
         "yaxis": "y2"
        },
        {
         "marker": {
          "color": "darkgray",
          "line": {
           "width": 0
          },
          "opacity": 0.8,
          "size": 6,
          "symbol": "circle"
         },
         "mode": "markers",
         "name": "6",
         "type": "scatter",
         "x": [
          31.003116421106437
         ],
         "xaxis": "x2",
         "y": [
          10.021170852887828
         ],
         "yaxis": "y2"
        },
        {
         "marker": {
          "color": "darkgrey",
          "line": {
           "width": 0
          },
          "opacity": 0.8,
          "size": 6,
          "symbol": "circle"
         },
         "mode": "markers",
         "name": "7",
         "type": "scatter",
         "x": [
          24.04247205252791
         ],
         "xaxis": "x2",
         "y": [
          65.65985952046586
         ],
         "yaxis": "y2"
        },
        {
         "marker": {
          "color": "darkgreen",
          "line": {
           "width": 0
          },
          "opacity": 0.8,
          "size": 6,
          "symbol": "circle"
         },
         "mode": "markers",
         "name": "8",
         "type": "scatter",
         "x": [
          7.83664802133827
         ],
         "xaxis": "x2",
         "y": [
          56.48989567492003
         ],
         "yaxis": "y2"
        },
        {
         "marker": {
          "color": "darkkhaki",
          "line": {
           "width": 0
          },
          "opacity": 0.8,
          "size": 6,
          "symbol": "circle"
         },
         "mode": "markers",
         "name": "9",
         "type": "scatter",
         "x": [
          3.732601399048257,
          -19.299186883130826
         ],
         "xaxis": "x2",
         "y": [
          -0.7326454732954557,
          2.3717644241787075
         ],
         "yaxis": "y2"
        },
        {
         "marker": {
          "color": "darkmagenta",
          "line": {
           "width": 0
          },
          "opacity": 0.8,
          "size": 6,
          "symbol": "circle"
         },
         "mode": "markers",
         "name": "10",
         "type": "scatter",
         "x": [
          11.543044309001804,
          -12.78086602436898
         ],
         "xaxis": "x2",
         "y": [
          -26.845352584710334,
          -25.085713719640854
         ],
         "yaxis": "y2"
        },
        {
         "marker": {
          "color": "darkolivegreen",
          "line": {
           "width": 0
          },
          "opacity": 0.8,
          "size": 6,
          "symbol": "circle"
         },
         "mode": "markers",
         "name": "11",
         "type": "scatter",
         "x": [
          -19.65567402567082
         ],
         "xaxis": "x2",
         "y": [
          -19.50100958300941
         ],
         "yaxis": "y2"
        },
        {
         "marker": {
          "color": "darkorange",
          "line": {
           "width": 0
          },
          "opacity": 0.8,
          "size": 6,
          "symbol": "circle"
         },
         "mode": "markers",
         "name": "12",
         "type": "scatter",
         "x": [
          -22.346424900489193
         ],
         "xaxis": "x2",
         "y": [
          10.414109262322292
         ],
         "yaxis": "y2"
        },
        {
         "marker": {
          "color": "darkorchid",
          "line": {
           "width": 0
          },
          "opacity": 0.8,
          "size": 6,
          "symbol": "circle"
         },
         "mode": "markers",
         "name": "13",
         "type": "scatter",
         "x": [
          -10.26216894644254,
          -31.589413810082487
         ],
         "xaxis": "x2",
         "y": [
          31.366160532716254,
          37.847038083095185
         ],
         "yaxis": "y2"
        },
        {
         "marker": {
          "color": [
           0,
           0,
           0,
           0,
           0,
           0,
           0,
           0,
           0,
           0,
           0,
           0,
           0,
           0,
           0,
           0,
           0,
           0,
           0,
           0,
           0,
           0,
           0,
           0,
           0,
           0,
           0,
           0,
           0,
           0,
           0,
           0,
           0,
           0,
           0,
           0,
           0,
           0,
           0,
           0,
           0,
           0,
           0,
           0,
           0,
           0,
           0,
           0,
           0,
           0,
           0,
           0,
           0,
           0,
           0,
           0,
           0,
           0,
           0,
           0,
           0.5163163525731466,
           0.5217200969520149,
           0.5565728173938975,
           0.4909168541371358,
           0.5080083934838104,
           0.4941432586899388,
           0.49879419801020825,
           0.5043705155970069,
           0.5209720538237772,
           0.4917615286089459,
           0.5204106079776966,
           0.48869588355072124,
           0.5656048795937726,
           0.4947928535807403,
           0.48534762681393095,
           0.5252230223202453,
           0.5142737760406381,
           0.5112085985167103,
           0.5094167295258729,
           0.5025698605293423,
           0.5130418132432569,
           0.5678817428341806,
           0.517611187729964,
           0.5057970303605824,
           0.5334559048335773,
           0.4860746578487587,
           0.5018258168530265,
           0.4969721427697356,
           0.5142952080239276,
           0.4768542895722943,
           0.5302661427461459,
           0.5602002974087578,
           0.533202334576849,
           0.47272712163099784,
           0.4927195908007744,
           0.5324242687519318,
           0.49274294564845095,
           0.5367877704641074,
           0.5146129405082265,
           0.4583326735582158,
           0,
           0,
           0.1770982388184662,
           0.049211309952566736,
           0,
           0.005858012608798399,
           0,
           0.03220856489787215,
           0.28008158250298065,
           0,
           0.04574729851351161,
           7.870751761974322e-64,
           0.2225943549927085,
           0.09550132801934846,
           0.2819778445328773,
           0.21879455626179728,
           0.18947134111424238,
           0,
           0,
           0.11092768127532159,
           0.08348878884651643,
           0,
           0.08137260366467577,
           0.11015801983190215,
           0,
           0.043982336786074876,
           0.07643679727071068,
           0.06248060737075493,
           0.13351767819792937,
           0.0523994695038935
          ],
          "colorscale": [
           [
            0,
            "#440154"
           ],
           [
            0.1111111111111111,
            "#482878"
           ],
           [
            0.2222222222222222,
            "#3e4989"
           ],
           [
            0.3333333333333333,
            "#31688e"
           ],
           [
            0.4444444444444444,
            "#26828e"
           ],
           [
            0.5555555555555556,
            "#1f9e89"
           ],
           [
            0.6666666666666666,
            "#35b779"
           ],
           [
            0.7777777777777778,
            "#6ece58"
           ],
           [
            0.8888888888888888,
            "#b5de2b"
           ],
           [
            1,
            "#fde725"
           ]
          ],
          "line": {
           "width": 0
          },
          "opacity": 0.6,
          "size": 6,
          "symbol": "circle"
         },
         "mode": "markers",
         "type": "scatter",
         "x": [
          -50.92965511064042,
          -50.122695213073676,
          -51.791426317184055,
          -50.18922768457569,
          -50.82759090431227,
          -51.431930579008736,
          -51.27860532540107,
          -51.60602555348463,
          -49.25236735037775,
          -50.66865320309655,
          -50.85386608224834,
          -49.349097084270014,
          -50.92844980158951,
          -51.47486700420786,
          -51.25734436859378,
          -50.618963036382084,
          -51.78893540331893,
          -51.21552770321487,
          -50.082010572336635,
          -51.301949450664424,
          -51.48833499997004,
          -51.574070932606034,
          -50.14254574831566,
          -50.279985329312886,
          -50.72269974747976,
          -49.987337619613136,
          -50.05731891437396,
          -50.80441240935232,
          -49.39402480602693,
          -51.83476210865233,
          -52.3064714277239,
          -51.13010633275694,
          -50.59704460494185,
          -51.598643970606304,
          -51.50589574188524,
          -51.8212381499601,
          -50.67749311301716,
          -51.18857335071394,
          -50.16547789591155,
          -50.71520274913881,
          -34.27321845773529,
          -33.69863913984631,
          -33.56245727722324,
          -34.22759103500851,
          -34.576975929537284,
          -35.83006283343574,
          -33.959608882256816,
          -33.3956475123559,
          -33.70549922660188,
          -35.01528168084917,
          -34.68756697790666,
          -34.34737437394637,
          -33.569021485783864,
          -35.22842992019599,
          -34.631613729084904,
          -35.071411205968055,
          -34.79093415017454,
          -35.25568105969022,
          -35.32212029178282,
          -35.46942391024551,
          67.6536836582236,
          68.88400007716326,
          69.12243563578289,
          68.48041876101385,
          68.25733309216778,
          68.96585875848139,
          68.3125525211013,
          68.31750424432545,
          68.04433403961397,
          67.09201423528506,
          68.00350999881304,
          67.91203340697217,
          68.13618965501257,
          68.48608104474985,
          67.64023611981844,
          68.53225308897012,
          68.11768283090677,
          69.67926377386179,
          67.44548305715738,
          68.55129854161333,
          67.13533813128197,
          68.86208641727437,
          68.3595548597416,
          67.26501034758424,
          68.48529086748412,
          67.65165309246355,
          67.12634019346602,
          68.76316391298114,
          68.0766885534856,
          67.60352058775139,
          69.12423484043065,
          68.10751625144428,
          68.78321071679203,
          69.00564165776207,
          68.08034465019556,
          69.2355147667079,
          67.96569004391377,
          68.17970590989262,
          68.9559344674049,
          68.536301368247,
          20.32307919546355,
          0.9392790362596056,
          11.543044309001804,
          31.003116421106437,
          -19.65567402567082,
          12.703367026810346,
          12.541946219595971,
          28.32827967260548,
          47.390298665826016,
          24.04247205252791,
          7.83664802133827,
          -8.32492870619595,
          28.55508184081537,
          -12.78086602436898,
          33.434642152930884,
          24.59939157780199,
          19.74992061623195,
          -6.001117505245767,
          -22.346424900489193,
          3.732601399048257,
          -10.26216894644254,
          0.47267559047098917,
          -19.299186883130826,
          -23.264189082557806,
          -31.589413810082487,
          -36.70494300843521,
          -30.72003151356544,
          -38.0999285435935,
          -15.245207877841798,
          -38.259284367584065
         ],
         "xaxis": "x3",
         "y": [
          -15.270437853719757,
          -15.337294726205668,
          -15.577040634458767,
          -14.335443171870677,
          -14.782022603325602,
          -15.548752601186749,
          -13.392152325295552,
          -15.739198406950713,
          -14.217180540586417,
          -14.270358876212814,
          -14.346372816620269,
          -14.615930063372236,
          -13.523948708986897,
          -15.997203436209224,
          -15.024713084732639,
          -14.322962106346298,
          -14.698860318061465,
          -15.401126172523425,
          -15.059683523062617,
          -14.53486413978672,
          -14.287322994035485,
          -15.231850921007878,
          -15.898294461038974,
          -15.224146824876863,
          -13.959060701824038,
          -14.513248345952018,
          -15.063689753109454,
          -14.606513588805784,
          -15.57568718031413,
          -15.160073846374223,
          -14.642999009002343,
          -16.15642475684009,
          -15.305612095848371,
          -14.650802195087214,
          -15.72008472149938,
          -14.563776349916907,
          -14.078165623252607,
          -16.34123367780726,
          -13.964079491683473,
          -13.805345755680909,
          16.034914069539496,
          16.52261012134995,
          15.702228854396049,
          15.068916650951493,
          15.335865623588086,
          14.985035489045442,
          15.87785948418189,
          15.614888398158719,
          17.69719689506331,
          15.756310731251347,
          15.026765176802652,
          16.357613499948247,
          16.048906747503036,
          16.163667364388164,
          14.441290626209467,
          16.44707904114969,
          16.03767430458797,
          15.495181824460845,
          15.766925270235907,
          15.696427035044094,
          -10.429599018701085,
          -10.924814920460127,
          -11.971209013141623,
          -11.324547722989704,
          -9.387550726751906,
          -11.509698261117109,
          -11.87150395604209,
          -11.069719191432378,
          -10.04268254294829,
          -11.5985700725781,
          -10.835272711270798,
          -11.56594004732113,
          -11.67556386638509,
          -10.643099832960484,
          -11.214142030398419,
          -10.843123581301661,
          -11.095899776572601,
          -10.950119871235158,
          -10.675622085992584,
          -11.294083271289491,
          -10.530946522223545,
          -11.35891799160636,
          -10.24309580883009,
          -11.243816137912134,
          -11.41646278941523,
          -10.992812211091234,
          -10.657053618403362,
          -10.346624163377365,
          -10.972944412147129,
          -10.465211832588254,
          -11.038399049755073,
          -10.377194460547294,
          -12.01329000356691,
          -10.823638708537109,
          -11.465443072358205,
          -11.714129862385553,
          -11.20232122124892,
          -10.960599180514343,
          -11.24590831817909,
          -10.789017372157694,
          92.5778344369724,
          66.81947931521418,
          2.5400108051286736,
          81.09688566723175,
          39.0616678427682,
          75.26383947190726,
          83.68946500044882,
          95.47082668144907,
          -11.068962444640375,
          92.11771099881057,
          35.95157582177658,
          55.71677525372854,
          -9.611425492448927,
          -1.503519904892699,
          -8.33230761277498,
          -17.00548143140015,
          -4.480578197486477,
          55.4486476486469,
          25.15429227879053,
          4.934167036347174,
          -7.4923460047666115,
          68.02149943303405,
          -10.38294452484463,
          -20.094144974044855,
          15.702040390497844,
          -9.797055045381637,
          -16.900060823008882,
          -16.665067795083672,
          -20.65793339368597,
          -16.12770000494191
         ],
         "yaxis": "y3"
        },
        {
         "marker": {
          "color": [
           0,
           0,
           0,
           0,
           0,
           0,
           0,
           0,
           0,
           0,
           0,
           0,
           0,
           0,
           0,
           0,
           0,
           0,
           0,
           0,
           0,
           0,
           0,
           0,
           0,
           0,
           0,
           0,
           0,
           0,
           0,
           0,
           0,
           0,
           0,
           0,
           0,
           0,
           0,
           0,
           0,
           0,
           0,
           0,
           0,
           0,
           0,
           0,
           0,
           0,
           0,
           0,
           0,
           0,
           0,
           0,
           0,
           0,
           0,
           0,
           0.5163163525731466,
           0.5217200969520149,
           0.5565728173938975,
           0.4909168541371358,
           0.5080083934838104,
           0.4941432586899388,
           0.49879419801020825,
           0.5043705155970069,
           0.5209720538237772,
           0.4917615286089459,
           0.5204106079776966,
           0.48869588355072124,
           0.5656048795937726,
           0.4947928535807403,
           0.48534762681393095,
           0.5252230223202453,
           0.5142737760406381,
           0.5112085985167103,
           0.5094167295258729,
           0.5025698605293423,
           0.5130418132432569,
           0.5678817428341806,
           0.517611187729964,
           0.5057970303605824,
           0.5334559048335773,
           0.4860746578487587,
           0.5018258168530265,
           0.4969721427697356,
           0.5142952080239276,
           0.4768542895722943,
           0.5302661427461459,
           0.5602002974087578,
           0.533202334576849,
           0.47272712163099784,
           0.4927195908007744,
           0.5324242687519318,
           0.49274294564845095,
           0.5367877704641074,
           0.5146129405082265,
           0.4583326735582158,
           0,
           0,
           0.1770982388184662,
           0.049211309952566736,
           0,
           0.005858012608798399,
           0,
           0.03220856489787215,
           0.28008158250298065,
           0,
           0.04574729851351161,
           7.870751761974322e-64,
           0.2225943549927085,
           0.09550132801934846,
           0.2819778445328773,
           0.21879455626179728,
           0.18947134111424238,
           0,
           0,
           0.11092768127532159,
           0.08348878884651643,
           0,
           0.08137260366467577,
           0.11015801983190215,
           0,
           0.043982336786074876,
           0.07643679727071068,
           0.06248060737075493,
           0.13351767819792937,
           0.0523994695038935
          ],
          "colorscale": [
           [
            0,
            "#440154"
           ],
           [
            0.1111111111111111,
            "#482878"
           ],
           [
            0.2222222222222222,
            "#3e4989"
           ],
           [
            0.3333333333333333,
            "#31688e"
           ],
           [
            0.4444444444444444,
            "#26828e"
           ],
           [
            0.5555555555555556,
            "#1f9e89"
           ],
           [
            0.6666666666666666,
            "#35b779"
           ],
           [
            0.7777777777777778,
            "#6ece58"
           ],
           [
            0.8888888888888888,
            "#b5de2b"
           ],
           [
            1,
            "#fde725"
           ]
          ],
          "line": {
           "width": 0
          },
          "opacity": 0.6,
          "size": 6,
          "symbol": "circle"
         },
         "mode": "markers",
         "type": "scatter",
         "x": [
          -50.92965511064042,
          -50.122695213073676,
          -51.791426317184055,
          -50.18922768457569,
          -50.82759090431227,
          -51.431930579008736,
          -51.27860532540107,
          -51.60602555348463,
          -49.25236735037775,
          -50.66865320309655,
          -50.85386608224834,
          -49.349097084270014,
          -50.92844980158951,
          -51.47486700420786,
          -51.25734436859378,
          -50.618963036382084,
          -51.78893540331893,
          -51.21552770321487,
          -50.082010572336635,
          -51.301949450664424,
          -51.48833499997004,
          -51.574070932606034,
          -50.14254574831566,
          -50.279985329312886,
          -50.72269974747976,
          -49.987337619613136,
          -50.05731891437396,
          -50.80441240935232,
          -49.39402480602693,
          -51.83476210865233,
          -52.3064714277239,
          -51.13010633275694,
          -50.59704460494185,
          -51.598643970606304,
          -51.50589574188524,
          -51.8212381499601,
          -50.67749311301716,
          -51.18857335071394,
          -50.16547789591155,
          -50.71520274913881,
          -34.27321845773529,
          -33.69863913984631,
          -33.56245727722324,
          -34.22759103500851,
          -34.576975929537284,
          -35.83006283343574,
          -33.959608882256816,
          -33.3956475123559,
          -33.70549922660188,
          -35.01528168084917,
          -34.68756697790666,
          -34.34737437394637,
          -33.569021485783864,
          -35.22842992019599,
          -34.631613729084904,
          -35.071411205968055,
          -34.79093415017454,
          -35.25568105969022,
          -35.32212029178282,
          -35.46942391024551,
          67.6536836582236,
          68.88400007716326,
          69.12243563578289,
          68.48041876101385,
          68.25733309216778,
          68.96585875848139,
          68.3125525211013,
          68.31750424432545,
          68.04433403961397,
          67.09201423528506,
          68.00350999881304,
          67.91203340697217,
          68.13618965501257,
          68.48608104474985,
          67.64023611981844,
          68.53225308897012,
          68.11768283090677,
          69.67926377386179,
          67.44548305715738,
          68.55129854161333,
          67.13533813128197,
          68.86208641727437,
          68.3595548597416,
          67.26501034758424,
          68.48529086748412,
          67.65165309246355,
          67.12634019346602,
          68.76316391298114,
          68.0766885534856,
          67.60352058775139,
          69.12423484043065,
          68.10751625144428,
          68.78321071679203,
          69.00564165776207,
          68.08034465019556,
          69.2355147667079,
          67.96569004391377,
          68.17970590989262,
          68.9559344674049,
          68.536301368247,
          20.32307919546355,
          0.9392790362596056,
          11.543044309001804,
          31.003116421106437,
          -19.65567402567082,
          12.703367026810346,
          12.541946219595971,
          28.32827967260548,
          47.390298665826016,
          24.04247205252791,
          7.83664802133827,
          -8.32492870619595,
          28.55508184081537,
          -12.78086602436898,
          33.434642152930884,
          24.59939157780199,
          19.74992061623195,
          -6.001117505245767,
          -22.346424900489193,
          3.732601399048257,
          -10.26216894644254,
          0.47267559047098917,
          -19.299186883130826,
          -23.264189082557806,
          -31.589413810082487,
          -36.70494300843521,
          -30.72003151356544,
          -38.0999285435935,
          -15.245207877841798,
          -38.259284367584065
         ],
         "xaxis": "x4",
         "y": [
          13.63813527701303,
          14.469623947151883,
          14.493232576595691,
          13.775363024916388,
          14.003103483016512,
          13.687491362761046,
          14.423041639385156,
          14.01677074430146,
          14.403803901189313,
          13.08330955949845,
          13.98778119188632,
          13.520319225497405,
          12.982373100143445,
          13.096966774260958,
          13.5367947919723,
          14.846973917078348,
          13.60006485608552,
          14.008713039212354,
          13.227133233569996,
          14.126808363464727,
          13.344110535873424,
          12.960663500527152,
          15.41385528485871,
          14.648189598716202,
          14.279108510607672,
          13.255621955701827,
          15.758477077338583,
          14.017388941769084,
          13.652378821007748,
          14.010591026060666,
          14.44607819159879,
          13.544735149719369,
          14.274892092761524,
          15.099371518141343,
          14.175570255731023,
          13.356028600533188,
          14.362338942766698,
          14.095275259539731,
          14.63590410710734,
          14.109523017584651,
          -48.152963821791545,
          -48.995983192319606,
          -47.10108540652825,
          -45.957302364928424,
          -47.888697112798326,
          -50.07011150041718,
          -49.19580549571403,
          -47.66177444412008,
          -45.693664852062604,
          -47.33252977779955,
          -48.072975114479654,
          -47.57758635764012,
          -47.98432101995432,
          -48.912472963470485,
          -46.09734705116224,
          -48.536527629047775,
          -49.255590166104845,
          -46.64209584018771,
          -50.1610986358454,
          -47.43474792414081,
          -1.953453164653643,
          -2.4116833611990924,
          -1.3384999016077144,
          -1.7268001472224477,
          -1.4766706691109266,
          -1.804199909737303,
          -2.367099206606988,
          -0.9743828552558325,
          -2.476520988594173,
          -2.0993822688533728,
          -1.5827864481750213,
          -2.110843804086348,
          -1.3233337102530836,
          -1.7883432678538485,
          -1.3400707489193944,
          -1.4140647440915617,
          -1.9942146252147284,
          -1.2665720019759965,
          -0.2604508315966764,
          -0.7519759857436675,
          -1.430818380078661,
          -1.4453710110481077,
          -1.9568700556155556,
          -1.0583555926454653,
          -1.6971629954828664,
          -0.798224028726669,
          -0.6563022304197357,
          -2.0732070410458165,
          -1.3371329460948111,
          -2.092755532422247,
          -1.0989333377498338,
          -1.4212864586138987,
          -1.7426123791096881,
          -1.3575810243438495,
          -1.8477982172258118,
          -1.0548746348399325,
          -1.1324955420629244,
          0.06115822747911224,
          -1.067436048026103,
          -1.2293370125988188,
          28.76971873189159,
          12.109253062820363,
          -26.845352584710334,
          10.021170852887828,
          -19.50100958300941,
          46.88614757529181,
          30.895457526541893,
          30.72353340019164,
          1.574162152009604,
          65.65985952046586,
          56.48989567492003,
          7.601132400075252,
          -5.097758309366264,
          -25.085713719640854,
          -7.5642045652732115,
          15.868675684093587,
          -16.27695815055519,
          20.59543880267221,
          10.414109262322292,
          -0.7326454732954557,
          31.366160532716254,
          31.244297636313,
          2.3717644241787075,
          19.88072886580532,
          37.847038083095185,
          21.68412948879285,
          19.713546307359795,
          19.190818073895585,
          21.468531146298147,
          15.983592336203388
         ],
         "yaxis": "y4"
        },
        {
         "marker": {
          "color": [
           0.3533820966280512,
           0.32259865199392634,
           0.40542508463016785,
           0.44203334912610953,
           0.37431060636429386,
           0.3688782058415862,
           0.46132962202564703,
           0.39641773051697543,
           0.33811718819977643,
           0.39377970454148437,
           0.3874072077369552,
           0.4318090818614851,
           0.35028766785265275,
           0.35937178059271796,
           0.3548992389348686,
           0.36299275203121034,
           0.4391575224385255,
           0.2800520323003093,
           0.39415628036132194,
           0.36741886626322295,
           0.37318201388805766,
           0.41220252889220893,
           0.3647396809819504,
           0.31592281263850475,
           0.37723187404001274,
           0.38961957421939225,
           0.31266511693712695,
           0.31970280012295743,
           0.3903467233030561,
           0.323883500229141,
           0.3790016181490497,
           0.28570173048651326,
           0.3115588825888309,
           0.3307138581566997,
           0.3339893022056428,
           0.3729736753138765,
           0.4596883650708332,
           0.3958729490239905,
           0.34975829625262195,
           0.35794074967680944,
           0.3707750895708648,
           0.36130478803931015,
           0.3794347595982485,
           0.35508456399236044,
           0.4208288484330344,
           0.3535753105799637,
           0.31631602064193026,
           0.3999953744381381,
           0.42750727752757933,
           0.40018029014353496,
           0.3586588271060521,
           0.4185331965700497,
           0.41424941862601694,
           0.3123168868086202,
           0.35364991571040294,
           0.3841531533834834,
           0.40838536269198245,
           0.3555922998222522,
           0.36528397566786786,
           0.37263593404274875,
           0,
           0,
           0,
           0,
           0,
           0,
           0,
           0,
           0,
           0,
           0,
           0,
           0,
           0,
           0,
           0,
           0,
           0,
           0,
           0,
           0,
           0,
           0,
           0,
           0,
           0,
           0,
           0,
           0,
           0,
           0,
           0,
           0,
           0,
           0,
           0,
           0,
           0,
           0,
           0,
           0.019849583372177248,
           0.0785697467422596,
           0.0868740788959418,
           0.005326196975945361,
           0.1646674672599931,
           0.04349999792219896,
           0.02122937061285726,
           0.020443925713308022,
           0.042233214936802585,
           1.565816809524247e-100,
           0.05360564956234736,
           0.09223942577665198,
           0.04775048462082237,
           0.17125525053221977,
           0.032916806719088136,
           0.06839662440816098,
           0.10981235724503692,
           0.048265194267502816,
           0.15239390477876966,
           0.10699582668746724,
           0.06177521603276423,
           0.03449286629438147,
           0.13904471418074693,
           0.30536523912523045,
           0.1627752703107167,
           0.2445305389799,
           0.2183202592143139,
           0.30830863365110955,
           0.28846370625546736,
           0.312712376994199
          ],
          "colorscale": [
           [
            0,
            "#440154"
           ],
           [
            0.1111111111111111,
            "#482878"
           ],
           [
            0.2222222222222222,
            "#3e4989"
           ],
           [
            0.3333333333333333,
            "#31688e"
           ],
           [
            0.4444444444444444,
            "#26828e"
           ],
           [
            0.5555555555555556,
            "#1f9e89"
           ],
           [
            0.6666666666666666,
            "#35b779"
           ],
           [
            0.7777777777777778,
            "#6ece58"
           ],
           [
            0.8888888888888888,
            "#b5de2b"
           ],
           [
            1,
            "#fde725"
           ]
          ],
          "line": {
           "width": 0
          },
          "opacity": 0.6,
          "size": 6,
          "symbol": "circle"
         },
         "mode": "markers",
         "type": "scatter",
         "x": [
          -50.92965511064042,
          -50.122695213073676,
          -51.791426317184055,
          -50.18922768457569,
          -50.82759090431227,
          -51.431930579008736,
          -51.27860532540107,
          -51.60602555348463,
          -49.25236735037775,
          -50.66865320309655,
          -50.85386608224834,
          -49.349097084270014,
          -50.92844980158951,
          -51.47486700420786,
          -51.25734436859378,
          -50.618963036382084,
          -51.78893540331893,
          -51.21552770321487,
          -50.082010572336635,
          -51.301949450664424,
          -51.48833499997004,
          -51.574070932606034,
          -50.14254574831566,
          -50.279985329312886,
          -50.72269974747976,
          -49.987337619613136,
          -50.05731891437396,
          -50.80441240935232,
          -49.39402480602693,
          -51.83476210865233,
          -52.3064714277239,
          -51.13010633275694,
          -50.59704460494185,
          -51.598643970606304,
          -51.50589574188524,
          -51.8212381499601,
          -50.67749311301716,
          -51.18857335071394,
          -50.16547789591155,
          -50.71520274913881,
          -34.27321845773529,
          -33.69863913984631,
          -33.56245727722324,
          -34.22759103500851,
          -34.576975929537284,
          -35.83006283343574,
          -33.959608882256816,
          -33.3956475123559,
          -33.70549922660188,
          -35.01528168084917,
          -34.68756697790666,
          -34.34737437394637,
          -33.569021485783864,
          -35.22842992019599,
          -34.631613729084904,
          -35.071411205968055,
          -34.79093415017454,
          -35.25568105969022,
          -35.32212029178282,
          -35.46942391024551,
          67.6536836582236,
          68.88400007716326,
          69.12243563578289,
          68.48041876101385,
          68.25733309216778,
          68.96585875848139,
          68.3125525211013,
          68.31750424432545,
          68.04433403961397,
          67.09201423528506,
          68.00350999881304,
          67.91203340697217,
          68.13618965501257,
          68.48608104474985,
          67.64023611981844,
          68.53225308897012,
          68.11768283090677,
          69.67926377386179,
          67.44548305715738,
          68.55129854161333,
          67.13533813128197,
          68.86208641727437,
          68.3595548597416,
          67.26501034758424,
          68.48529086748412,
          67.65165309246355,
          67.12634019346602,
          68.76316391298114,
          68.0766885534856,
          67.60352058775139,
          69.12423484043065,
          68.10751625144428,
          68.78321071679203,
          69.00564165776207,
          68.08034465019556,
          69.2355147667079,
          67.96569004391377,
          68.17970590989262,
          68.9559344674049,
          68.536301368247,
          20.32307919546355,
          0.9392790362596056,
          11.543044309001804,
          31.003116421106437,
          -19.65567402567082,
          12.703367026810346,
          12.541946219595971,
          28.32827967260548,
          47.390298665826016,
          24.04247205252791,
          7.83664802133827,
          -8.32492870619595,
          28.55508184081537,
          -12.78086602436898,
          33.434642152930884,
          24.59939157780199,
          19.74992061623195,
          -6.001117505245767,
          -22.346424900489193,
          3.732601399048257,
          -10.26216894644254,
          0.47267559047098917,
          -19.299186883130826,
          -23.264189082557806,
          -31.589413810082487,
          -36.70494300843521,
          -30.72003151356544,
          -38.0999285435935,
          -15.245207877841798,
          -38.259284367584065
         ],
         "xaxis": "x5",
         "y": [
          -15.270437853719757,
          -15.337294726205668,
          -15.577040634458767,
          -14.335443171870677,
          -14.782022603325602,
          -15.548752601186749,
          -13.392152325295552,
          -15.739198406950713,
          -14.217180540586417,
          -14.270358876212814,
          -14.346372816620269,
          -14.615930063372236,
          -13.523948708986897,
          -15.997203436209224,
          -15.024713084732639,
          -14.322962106346298,
          -14.698860318061465,
          -15.401126172523425,
          -15.059683523062617,
          -14.53486413978672,
          -14.287322994035485,
          -15.231850921007878,
          -15.898294461038974,
          -15.224146824876863,
          -13.959060701824038,
          -14.513248345952018,
          -15.063689753109454,
          -14.606513588805784,
          -15.57568718031413,
          -15.160073846374223,
          -14.642999009002343,
          -16.15642475684009,
          -15.305612095848371,
          -14.650802195087214,
          -15.72008472149938,
          -14.563776349916907,
          -14.078165623252607,
          -16.34123367780726,
          -13.964079491683473,
          -13.805345755680909,
          16.034914069539496,
          16.52261012134995,
          15.702228854396049,
          15.068916650951493,
          15.335865623588086,
          14.985035489045442,
          15.87785948418189,
          15.614888398158719,
          17.69719689506331,
          15.756310731251347,
          15.026765176802652,
          16.357613499948247,
          16.048906747503036,
          16.163667364388164,
          14.441290626209467,
          16.44707904114969,
          16.03767430458797,
          15.495181824460845,
          15.766925270235907,
          15.696427035044094,
          -10.429599018701085,
          -10.924814920460127,
          -11.971209013141623,
          -11.324547722989704,
          -9.387550726751906,
          -11.509698261117109,
          -11.87150395604209,
          -11.069719191432378,
          -10.04268254294829,
          -11.5985700725781,
          -10.835272711270798,
          -11.56594004732113,
          -11.67556386638509,
          -10.643099832960484,
          -11.214142030398419,
          -10.843123581301661,
          -11.095899776572601,
          -10.950119871235158,
          -10.675622085992584,
          -11.294083271289491,
          -10.530946522223545,
          -11.35891799160636,
          -10.24309580883009,
          -11.243816137912134,
          -11.41646278941523,
          -10.992812211091234,
          -10.657053618403362,
          -10.346624163377365,
          -10.972944412147129,
          -10.465211832588254,
          -11.038399049755073,
          -10.377194460547294,
          -12.01329000356691,
          -10.823638708537109,
          -11.465443072358205,
          -11.714129862385553,
          -11.20232122124892,
          -10.960599180514343,
          -11.24590831817909,
          -10.789017372157694,
          92.5778344369724,
          66.81947931521418,
          2.5400108051286736,
          81.09688566723175,
          39.0616678427682,
          75.26383947190726,
          83.68946500044882,
          95.47082668144907,
          -11.068962444640375,
          92.11771099881057,
          35.95157582177658,
          55.71677525372854,
          -9.611425492448927,
          -1.503519904892699,
          -8.33230761277498,
          -17.00548143140015,
          -4.480578197486477,
          55.4486476486469,
          25.15429227879053,
          4.934167036347174,
          -7.4923460047666115,
          68.02149943303405,
          -10.38294452484463,
          -20.094144974044855,
          15.702040390497844,
          -9.797055045381637,
          -16.900060823008882,
          -16.665067795083672,
          -20.65793339368597,
          -16.12770000494191
         ],
         "yaxis": "y5"
        },
        {
         "marker": {
          "color": [
           0.3533820966280512,
           0.32259865199392634,
           0.40542508463016785,
           0.44203334912610953,
           0.37431060636429386,
           0.3688782058415862,
           0.46132962202564703,
           0.39641773051697543,
           0.33811718819977643,
           0.39377970454148437,
           0.3874072077369552,
           0.4318090818614851,
           0.35028766785265275,
           0.35937178059271796,
           0.3548992389348686,
           0.36299275203121034,
           0.4391575224385255,
           0.2800520323003093,
           0.39415628036132194,
           0.36741886626322295,
           0.37318201388805766,
           0.41220252889220893,
           0.3647396809819504,
           0.31592281263850475,
           0.37723187404001274,
           0.38961957421939225,
           0.31266511693712695,
           0.31970280012295743,
           0.3903467233030561,
           0.323883500229141,
           0.3790016181490497,
           0.28570173048651326,
           0.3115588825888309,
           0.3307138581566997,
           0.3339893022056428,
           0.3729736753138765,
           0.4596883650708332,
           0.3958729490239905,
           0.34975829625262195,
           0.35794074967680944,
           0.3707750895708648,
           0.36130478803931015,
           0.3794347595982485,
           0.35508456399236044,
           0.4208288484330344,
           0.3535753105799637,
           0.31631602064193026,
           0.3999953744381381,
           0.42750727752757933,
           0.40018029014353496,
           0.3586588271060521,
           0.4185331965700497,
           0.41424941862601694,
           0.3123168868086202,
           0.35364991571040294,
           0.3841531533834834,
           0.40838536269198245,
           0.3555922998222522,
           0.36528397566786786,
           0.37263593404274875,
           0,
           0,
           0,
           0,
           0,
           0,
           0,
           0,
           0,
           0,
           0,
           0,
           0,
           0,
           0,
           0,
           0,
           0,
           0,
           0,
           0,
           0,
           0,
           0,
           0,
           0,
           0,
           0,
           0,
           0,
           0,
           0,
           0,
           0,
           0,
           0,
           0,
           0,
           0,
           0,
           0.019849583372177248,
           0.0785697467422596,
           0.0868740788959418,
           0.005326196975945361,
           0.1646674672599931,
           0.04349999792219896,
           0.02122937061285726,
           0.020443925713308022,
           0.042233214936802585,
           1.565816809524247e-100,
           0.05360564956234736,
           0.09223942577665198,
           0.04775048462082237,
           0.17125525053221977,
           0.032916806719088136,
           0.06839662440816098,
           0.10981235724503692,
           0.048265194267502816,
           0.15239390477876966,
           0.10699582668746724,
           0.06177521603276423,
           0.03449286629438147,
           0.13904471418074693,
           0.30536523912523045,
           0.1627752703107167,
           0.2445305389799,
           0.2183202592143139,
           0.30830863365110955,
           0.28846370625546736,
           0.312712376994199
          ],
          "colorscale": [
           [
            0,
            "#440154"
           ],
           [
            0.1111111111111111,
            "#482878"
           ],
           [
            0.2222222222222222,
            "#3e4989"
           ],
           [
            0.3333333333333333,
            "#31688e"
           ],
           [
            0.4444444444444444,
            "#26828e"
           ],
           [
            0.5555555555555556,
            "#1f9e89"
           ],
           [
            0.6666666666666666,
            "#35b779"
           ],
           [
            0.7777777777777778,
            "#6ece58"
           ],
           [
            0.8888888888888888,
            "#b5de2b"
           ],
           [
            1,
            "#fde725"
           ]
          ],
          "line": {
           "width": 0
          },
          "opacity": 0.6,
          "size": 6,
          "symbol": "circle"
         },
         "mode": "markers",
         "type": "scatter",
         "x": [
          -50.92965511064042,
          -50.122695213073676,
          -51.791426317184055,
          -50.18922768457569,
          -50.82759090431227,
          -51.431930579008736,
          -51.27860532540107,
          -51.60602555348463,
          -49.25236735037775,
          -50.66865320309655,
          -50.85386608224834,
          -49.349097084270014,
          -50.92844980158951,
          -51.47486700420786,
          -51.25734436859378,
          -50.618963036382084,
          -51.78893540331893,
          -51.21552770321487,
          -50.082010572336635,
          -51.301949450664424,
          -51.48833499997004,
          -51.574070932606034,
          -50.14254574831566,
          -50.279985329312886,
          -50.72269974747976,
          -49.987337619613136,
          -50.05731891437396,
          -50.80441240935232,
          -49.39402480602693,
          -51.83476210865233,
          -52.3064714277239,
          -51.13010633275694,
          -50.59704460494185,
          -51.598643970606304,
          -51.50589574188524,
          -51.8212381499601,
          -50.67749311301716,
          -51.18857335071394,
          -50.16547789591155,
          -50.71520274913881,
          -34.27321845773529,
          -33.69863913984631,
          -33.56245727722324,
          -34.22759103500851,
          -34.576975929537284,
          -35.83006283343574,
          -33.959608882256816,
          -33.3956475123559,
          -33.70549922660188,
          -35.01528168084917,
          -34.68756697790666,
          -34.34737437394637,
          -33.569021485783864,
          -35.22842992019599,
          -34.631613729084904,
          -35.071411205968055,
          -34.79093415017454,
          -35.25568105969022,
          -35.32212029178282,
          -35.46942391024551,
          67.6536836582236,
          68.88400007716326,
          69.12243563578289,
          68.48041876101385,
          68.25733309216778,
          68.96585875848139,
          68.3125525211013,
          68.31750424432545,
          68.04433403961397,
          67.09201423528506,
          68.00350999881304,
          67.91203340697217,
          68.13618965501257,
          68.48608104474985,
          67.64023611981844,
          68.53225308897012,
          68.11768283090677,
          69.67926377386179,
          67.44548305715738,
          68.55129854161333,
          67.13533813128197,
          68.86208641727437,
          68.3595548597416,
          67.26501034758424,
          68.48529086748412,
          67.65165309246355,
          67.12634019346602,
          68.76316391298114,
          68.0766885534856,
          67.60352058775139,
          69.12423484043065,
          68.10751625144428,
          68.78321071679203,
          69.00564165776207,
          68.08034465019556,
          69.2355147667079,
          67.96569004391377,
          68.17970590989262,
          68.9559344674049,
          68.536301368247,
          20.32307919546355,
          0.9392790362596056,
          11.543044309001804,
          31.003116421106437,
          -19.65567402567082,
          12.703367026810346,
          12.541946219595971,
          28.32827967260548,
          47.390298665826016,
          24.04247205252791,
          7.83664802133827,
          -8.32492870619595,
          28.55508184081537,
          -12.78086602436898,
          33.434642152930884,
          24.59939157780199,
          19.74992061623195,
          -6.001117505245767,
          -22.346424900489193,
          3.732601399048257,
          -10.26216894644254,
          0.47267559047098917,
          -19.299186883130826,
          -23.264189082557806,
          -31.589413810082487,
          -36.70494300843521,
          -30.72003151356544,
          -38.0999285435935,
          -15.245207877841798,
          -38.259284367584065
         ],
         "xaxis": "x6",
         "y": [
          13.63813527701303,
          14.469623947151883,
          14.493232576595691,
          13.775363024916388,
          14.003103483016512,
          13.687491362761046,
          14.423041639385156,
          14.01677074430146,
          14.403803901189313,
          13.08330955949845,
          13.98778119188632,
          13.520319225497405,
          12.982373100143445,
          13.096966774260958,
          13.5367947919723,
          14.846973917078348,
          13.60006485608552,
          14.008713039212354,
          13.227133233569996,
          14.126808363464727,
          13.344110535873424,
          12.960663500527152,
          15.41385528485871,
          14.648189598716202,
          14.279108510607672,
          13.255621955701827,
          15.758477077338583,
          14.017388941769084,
          13.652378821007748,
          14.010591026060666,
          14.44607819159879,
          13.544735149719369,
          14.274892092761524,
          15.099371518141343,
          14.175570255731023,
          13.356028600533188,
          14.362338942766698,
          14.095275259539731,
          14.63590410710734,
          14.109523017584651,
          -48.152963821791545,
          -48.995983192319606,
          -47.10108540652825,
          -45.957302364928424,
          -47.888697112798326,
          -50.07011150041718,
          -49.19580549571403,
          -47.66177444412008,
          -45.693664852062604,
          -47.33252977779955,
          -48.072975114479654,
          -47.57758635764012,
          -47.98432101995432,
          -48.912472963470485,
          -46.09734705116224,
          -48.536527629047775,
          -49.255590166104845,
          -46.64209584018771,
          -50.1610986358454,
          -47.43474792414081,
          -1.953453164653643,
          -2.4116833611990924,
          -1.3384999016077144,
          -1.7268001472224477,
          -1.4766706691109266,
          -1.804199909737303,
          -2.367099206606988,
          -0.9743828552558325,
          -2.476520988594173,
          -2.0993822688533728,
          -1.5827864481750213,
          -2.110843804086348,
          -1.3233337102530836,
          -1.7883432678538485,
          -1.3400707489193944,
          -1.4140647440915617,
          -1.9942146252147284,
          -1.2665720019759965,
          -0.2604508315966764,
          -0.7519759857436675,
          -1.430818380078661,
          -1.4453710110481077,
          -1.9568700556155556,
          -1.0583555926454653,
          -1.6971629954828664,
          -0.798224028726669,
          -0.6563022304197357,
          -2.0732070410458165,
          -1.3371329460948111,
          -2.092755532422247,
          -1.0989333377498338,
          -1.4212864586138987,
          -1.7426123791096881,
          -1.3575810243438495,
          -1.8477982172258118,
          -1.0548746348399325,
          -1.1324955420629244,
          0.06115822747911224,
          -1.067436048026103,
          -1.2293370125988188,
          28.76971873189159,
          12.109253062820363,
          -26.845352584710334,
          10.021170852887828,
          -19.50100958300941,
          46.88614757529181,
          30.895457526541893,
          30.72353340019164,
          1.574162152009604,
          65.65985952046586,
          56.48989567492003,
          7.601132400075252,
          -5.097758309366264,
          -25.085713719640854,
          -7.5642045652732115,
          15.868675684093587,
          -16.27695815055519,
          20.59543880267221,
          10.414109262322292,
          -0.7326454732954557,
          31.366160532716254,
          31.244297636313,
          2.3717644241787075,
          19.88072886580532,
          37.847038083095185,
          21.68412948879285,
          19.713546307359795,
          19.190818073895585,
          21.468531146298147,
          15.983592336203388
         ],
         "yaxis": "y6"
        },
        {
         "marker": {
          "color": [
           0,
           0,
           0,
           0,
           0,
           0,
           0,
           0,
           0,
           0,
           0,
           0,
           0,
           0,
           0,
           0,
           0,
           0,
           0,
           0,
           0,
           0,
           0,
           0,
           0,
           0,
           0,
           0,
           0,
           0,
           0,
           0,
           0,
           0,
           0,
           0,
           0,
           0,
           0,
           0,
           0.4478807264101332,
           0.5209923514893882,
           0.47305135333139153,
           0.38266488438602386,
           0.6176415622687802,
           0.44480421863950426,
           0.5942662829220704,
           0.673979048644018,
           0.42819957167501027,
           0.2896764096465842,
           0.5899752843442335,
           0.4457750923161495,
           0.469236128728361,
           0.5509712197581664,
           0.4375784079468996,
           0.48787598679334326,
           0.4678735086193043,
           0.5565348930393105,
           0.42621084145194127,
           0.5443343618835741,
           0,
           0,
           0,
           0,
           0,
           0,
           0,
           0,
           0,
           0,
           0,
           0,
           0,
           0,
           0,
           0,
           0,
           0,
           0,
           0,
           0,
           0,
           0,
           0,
           0,
           0,
           0,
           0,
           0,
           0,
           0,
           0,
           0,
           0,
           0,
           0,
           0,
           0,
           0,
           0,
           0.06849227745961357,
           0.005462137225390303,
           0.16252680399100924,
           0.24150387466874534,
           0.16490563739449896,
           0.03495266893005284,
           0,
           0.04105577377432896,
           0,
           0,
           0,
           0.051566827912240654,
           0,
           0,
           0,
           0,
           0,
           0.029199826112218795,
           0,
           0,
           0,
           0,
           0,
           0,
           0,
           0,
           0,
           0,
           0,
           0
          ],
          "colorscale": [
           [
            0,
            "#440154"
           ],
           [
            0.1111111111111111,
            "#482878"
           ],
           [
            0.2222222222222222,
            "#3e4989"
           ],
           [
            0.3333333333333333,
            "#31688e"
           ],
           [
            0.4444444444444444,
            "#26828e"
           ],
           [
            0.5555555555555556,
            "#1f9e89"
           ],
           [
            0.6666666666666666,
            "#35b779"
           ],
           [
            0.7777777777777778,
            "#6ece58"
           ],
           [
            0.8888888888888888,
            "#b5de2b"
           ],
           [
            1,
            "#fde725"
           ]
          ],
          "line": {
           "width": 0
          },
          "opacity": 0.6,
          "size": 6,
          "symbol": "circle"
         },
         "mode": "markers",
         "type": "scatter",
         "x": [
          -50.92965511064042,
          -50.122695213073676,
          -51.791426317184055,
          -50.18922768457569,
          -50.82759090431227,
          -51.431930579008736,
          -51.27860532540107,
          -51.60602555348463,
          -49.25236735037775,
          -50.66865320309655,
          -50.85386608224834,
          -49.349097084270014,
          -50.92844980158951,
          -51.47486700420786,
          -51.25734436859378,
          -50.618963036382084,
          -51.78893540331893,
          -51.21552770321487,
          -50.082010572336635,
          -51.301949450664424,
          -51.48833499997004,
          -51.574070932606034,
          -50.14254574831566,
          -50.279985329312886,
          -50.72269974747976,
          -49.987337619613136,
          -50.05731891437396,
          -50.80441240935232,
          -49.39402480602693,
          -51.83476210865233,
          -52.3064714277239,
          -51.13010633275694,
          -50.59704460494185,
          -51.598643970606304,
          -51.50589574188524,
          -51.8212381499601,
          -50.67749311301716,
          -51.18857335071394,
          -50.16547789591155,
          -50.71520274913881,
          -34.27321845773529,
          -33.69863913984631,
          -33.56245727722324,
          -34.22759103500851,
          -34.576975929537284,
          -35.83006283343574,
          -33.959608882256816,
          -33.3956475123559,
          -33.70549922660188,
          -35.01528168084917,
          -34.68756697790666,
          -34.34737437394637,
          -33.569021485783864,
          -35.22842992019599,
          -34.631613729084904,
          -35.071411205968055,
          -34.79093415017454,
          -35.25568105969022,
          -35.32212029178282,
          -35.46942391024551,
          67.6536836582236,
          68.88400007716326,
          69.12243563578289,
          68.48041876101385,
          68.25733309216778,
          68.96585875848139,
          68.3125525211013,
          68.31750424432545,
          68.04433403961397,
          67.09201423528506,
          68.00350999881304,
          67.91203340697217,
          68.13618965501257,
          68.48608104474985,
          67.64023611981844,
          68.53225308897012,
          68.11768283090677,
          69.67926377386179,
          67.44548305715738,
          68.55129854161333,
          67.13533813128197,
          68.86208641727437,
          68.3595548597416,
          67.26501034758424,
          68.48529086748412,
          67.65165309246355,
          67.12634019346602,
          68.76316391298114,
          68.0766885534856,
          67.60352058775139,
          69.12423484043065,
          68.10751625144428,
          68.78321071679203,
          69.00564165776207,
          68.08034465019556,
          69.2355147667079,
          67.96569004391377,
          68.17970590989262,
          68.9559344674049,
          68.536301368247,
          20.32307919546355,
          0.9392790362596056,
          11.543044309001804,
          31.003116421106437,
          -19.65567402567082,
          12.703367026810346,
          12.541946219595971,
          28.32827967260548,
          47.390298665826016,
          24.04247205252791,
          7.83664802133827,
          -8.32492870619595,
          28.55508184081537,
          -12.78086602436898,
          33.434642152930884,
          24.59939157780199,
          19.74992061623195,
          -6.001117505245767,
          -22.346424900489193,
          3.732601399048257,
          -10.26216894644254,
          0.47267559047098917,
          -19.299186883130826,
          -23.264189082557806,
          -31.589413810082487,
          -36.70494300843521,
          -30.72003151356544,
          -38.0999285435935,
          -15.245207877841798,
          -38.259284367584065
         ],
         "xaxis": "x7",
         "y": [
          -15.270437853719757,
          -15.337294726205668,
          -15.577040634458767,
          -14.335443171870677,
          -14.782022603325602,
          -15.548752601186749,
          -13.392152325295552,
          -15.739198406950713,
          -14.217180540586417,
          -14.270358876212814,
          -14.346372816620269,
          -14.615930063372236,
          -13.523948708986897,
          -15.997203436209224,
          -15.024713084732639,
          -14.322962106346298,
          -14.698860318061465,
          -15.401126172523425,
          -15.059683523062617,
          -14.53486413978672,
          -14.287322994035485,
          -15.231850921007878,
          -15.898294461038974,
          -15.224146824876863,
          -13.959060701824038,
          -14.513248345952018,
          -15.063689753109454,
          -14.606513588805784,
          -15.57568718031413,
          -15.160073846374223,
          -14.642999009002343,
          -16.15642475684009,
          -15.305612095848371,
          -14.650802195087214,
          -15.72008472149938,
          -14.563776349916907,
          -14.078165623252607,
          -16.34123367780726,
          -13.964079491683473,
          -13.805345755680909,
          16.034914069539496,
          16.52261012134995,
          15.702228854396049,
          15.068916650951493,
          15.335865623588086,
          14.985035489045442,
          15.87785948418189,
          15.614888398158719,
          17.69719689506331,
          15.756310731251347,
          15.026765176802652,
          16.357613499948247,
          16.048906747503036,
          16.163667364388164,
          14.441290626209467,
          16.44707904114969,
          16.03767430458797,
          15.495181824460845,
          15.766925270235907,
          15.696427035044094,
          -10.429599018701085,
          -10.924814920460127,
          -11.971209013141623,
          -11.324547722989704,
          -9.387550726751906,
          -11.509698261117109,
          -11.87150395604209,
          -11.069719191432378,
          -10.04268254294829,
          -11.5985700725781,
          -10.835272711270798,
          -11.56594004732113,
          -11.67556386638509,
          -10.643099832960484,
          -11.214142030398419,
          -10.843123581301661,
          -11.095899776572601,
          -10.950119871235158,
          -10.675622085992584,
          -11.294083271289491,
          -10.530946522223545,
          -11.35891799160636,
          -10.24309580883009,
          -11.243816137912134,
          -11.41646278941523,
          -10.992812211091234,
          -10.657053618403362,
          -10.346624163377365,
          -10.972944412147129,
          -10.465211832588254,
          -11.038399049755073,
          -10.377194460547294,
          -12.01329000356691,
          -10.823638708537109,
          -11.465443072358205,
          -11.714129862385553,
          -11.20232122124892,
          -10.960599180514343,
          -11.24590831817909,
          -10.789017372157694,
          92.5778344369724,
          66.81947931521418,
          2.5400108051286736,
          81.09688566723175,
          39.0616678427682,
          75.26383947190726,
          83.68946500044882,
          95.47082668144907,
          -11.068962444640375,
          92.11771099881057,
          35.95157582177658,
          55.71677525372854,
          -9.611425492448927,
          -1.503519904892699,
          -8.33230761277498,
          -17.00548143140015,
          -4.480578197486477,
          55.4486476486469,
          25.15429227879053,
          4.934167036347174,
          -7.4923460047666115,
          68.02149943303405,
          -10.38294452484463,
          -20.094144974044855,
          15.702040390497844,
          -9.797055045381637,
          -16.900060823008882,
          -16.665067795083672,
          -20.65793339368597,
          -16.12770000494191
         ],
         "yaxis": "y7"
        },
        {
         "marker": {
          "color": [
           0,
           0,
           0,
           0,
           0,
           0,
           0,
           0,
           0,
           0,
           0,
           0,
           0,
           0,
           0,
           0,
           0,
           0,
           0,
           0,
           0,
           0,
           0,
           0,
           0,
           0,
           0,
           0,
           0,
           0,
           0,
           0,
           0,
           0,
           0,
           0,
           0,
           0,
           0,
           0,
           0.4478807264101332,
           0.5209923514893882,
           0.47305135333139153,
           0.38266488438602386,
           0.6176415622687802,
           0.44480421863950426,
           0.5942662829220704,
           0.673979048644018,
           0.42819957167501027,
           0.2896764096465842,
           0.5899752843442335,
           0.4457750923161495,
           0.469236128728361,
           0.5509712197581664,
           0.4375784079468996,
           0.48787598679334326,
           0.4678735086193043,
           0.5565348930393105,
           0.42621084145194127,
           0.5443343618835741,
           0,
           0,
           0,
           0,
           0,
           0,
           0,
           0,
           0,
           0,
           0,
           0,
           0,
           0,
           0,
           0,
           0,
           0,
           0,
           0,
           0,
           0,
           0,
           0,
           0,
           0,
           0,
           0,
           0,
           0,
           0,
           0,
           0,
           0,
           0,
           0,
           0,
           0,
           0,
           0,
           0.06849227745961357,
           0.005462137225390303,
           0.16252680399100924,
           0.24150387466874534,
           0.16490563739449896,
           0.03495266893005284,
           0,
           0.04105577377432896,
           0,
           0,
           0,
           0.051566827912240654,
           0,
           0,
           0,
           0,
           0,
           0.029199826112218795,
           0,
           0,
           0,
           0,
           0,
           0,
           0,
           0,
           0,
           0,
           0,
           0
          ],
          "colorscale": [
           [
            0,
            "#440154"
           ],
           [
            0.1111111111111111,
            "#482878"
           ],
           [
            0.2222222222222222,
            "#3e4989"
           ],
           [
            0.3333333333333333,
            "#31688e"
           ],
           [
            0.4444444444444444,
            "#26828e"
           ],
           [
            0.5555555555555556,
            "#1f9e89"
           ],
           [
            0.6666666666666666,
            "#35b779"
           ],
           [
            0.7777777777777778,
            "#6ece58"
           ],
           [
            0.8888888888888888,
            "#b5de2b"
           ],
           [
            1,
            "#fde725"
           ]
          ],
          "line": {
           "width": 0
          },
          "opacity": 0.6,
          "size": 6,
          "symbol": "circle"
         },
         "mode": "markers",
         "type": "scatter",
         "x": [
          -50.92965511064042,
          -50.122695213073676,
          -51.791426317184055,
          -50.18922768457569,
          -50.82759090431227,
          -51.431930579008736,
          -51.27860532540107,
          -51.60602555348463,
          -49.25236735037775,
          -50.66865320309655,
          -50.85386608224834,
          -49.349097084270014,
          -50.92844980158951,
          -51.47486700420786,
          -51.25734436859378,
          -50.618963036382084,
          -51.78893540331893,
          -51.21552770321487,
          -50.082010572336635,
          -51.301949450664424,
          -51.48833499997004,
          -51.574070932606034,
          -50.14254574831566,
          -50.279985329312886,
          -50.72269974747976,
          -49.987337619613136,
          -50.05731891437396,
          -50.80441240935232,
          -49.39402480602693,
          -51.83476210865233,
          -52.3064714277239,
          -51.13010633275694,
          -50.59704460494185,
          -51.598643970606304,
          -51.50589574188524,
          -51.8212381499601,
          -50.67749311301716,
          -51.18857335071394,
          -50.16547789591155,
          -50.71520274913881,
          -34.27321845773529,
          -33.69863913984631,
          -33.56245727722324,
          -34.22759103500851,
          -34.576975929537284,
          -35.83006283343574,
          -33.959608882256816,
          -33.3956475123559,
          -33.70549922660188,
          -35.01528168084917,
          -34.68756697790666,
          -34.34737437394637,
          -33.569021485783864,
          -35.22842992019599,
          -34.631613729084904,
          -35.071411205968055,
          -34.79093415017454,
          -35.25568105969022,
          -35.32212029178282,
          -35.46942391024551,
          67.6536836582236,
          68.88400007716326,
          69.12243563578289,
          68.48041876101385,
          68.25733309216778,
          68.96585875848139,
          68.3125525211013,
          68.31750424432545,
          68.04433403961397,
          67.09201423528506,
          68.00350999881304,
          67.91203340697217,
          68.13618965501257,
          68.48608104474985,
          67.64023611981844,
          68.53225308897012,
          68.11768283090677,
          69.67926377386179,
          67.44548305715738,
          68.55129854161333,
          67.13533813128197,
          68.86208641727437,
          68.3595548597416,
          67.26501034758424,
          68.48529086748412,
          67.65165309246355,
          67.12634019346602,
          68.76316391298114,
          68.0766885534856,
          67.60352058775139,
          69.12423484043065,
          68.10751625144428,
          68.78321071679203,
          69.00564165776207,
          68.08034465019556,
          69.2355147667079,
          67.96569004391377,
          68.17970590989262,
          68.9559344674049,
          68.536301368247,
          20.32307919546355,
          0.9392790362596056,
          11.543044309001804,
          31.003116421106437,
          -19.65567402567082,
          12.703367026810346,
          12.541946219595971,
          28.32827967260548,
          47.390298665826016,
          24.04247205252791,
          7.83664802133827,
          -8.32492870619595,
          28.55508184081537,
          -12.78086602436898,
          33.434642152930884,
          24.59939157780199,
          19.74992061623195,
          -6.001117505245767,
          -22.346424900489193,
          3.732601399048257,
          -10.26216894644254,
          0.47267559047098917,
          -19.299186883130826,
          -23.264189082557806,
          -31.589413810082487,
          -36.70494300843521,
          -30.72003151356544,
          -38.0999285435935,
          -15.245207877841798,
          -38.259284367584065
         ],
         "xaxis": "x8",
         "y": [
          13.63813527701303,
          14.469623947151883,
          14.493232576595691,
          13.775363024916388,
          14.003103483016512,
          13.687491362761046,
          14.423041639385156,
          14.01677074430146,
          14.403803901189313,
          13.08330955949845,
          13.98778119188632,
          13.520319225497405,
          12.982373100143445,
          13.096966774260958,
          13.5367947919723,
          14.846973917078348,
          13.60006485608552,
          14.008713039212354,
          13.227133233569996,
          14.126808363464727,
          13.344110535873424,
          12.960663500527152,
          15.41385528485871,
          14.648189598716202,
          14.279108510607672,
          13.255621955701827,
          15.758477077338583,
          14.017388941769084,
          13.652378821007748,
          14.010591026060666,
          14.44607819159879,
          13.544735149719369,
          14.274892092761524,
          15.099371518141343,
          14.175570255731023,
          13.356028600533188,
          14.362338942766698,
          14.095275259539731,
          14.63590410710734,
          14.109523017584651,
          -48.152963821791545,
          -48.995983192319606,
          -47.10108540652825,
          -45.957302364928424,
          -47.888697112798326,
          -50.07011150041718,
          -49.19580549571403,
          -47.66177444412008,
          -45.693664852062604,
          -47.33252977779955,
          -48.072975114479654,
          -47.57758635764012,
          -47.98432101995432,
          -48.912472963470485,
          -46.09734705116224,
          -48.536527629047775,
          -49.255590166104845,
          -46.64209584018771,
          -50.1610986358454,
          -47.43474792414081,
          -1.953453164653643,
          -2.4116833611990924,
          -1.3384999016077144,
          -1.7268001472224477,
          -1.4766706691109266,
          -1.804199909737303,
          -2.367099206606988,
          -0.9743828552558325,
          -2.476520988594173,
          -2.0993822688533728,
          -1.5827864481750213,
          -2.110843804086348,
          -1.3233337102530836,
          -1.7883432678538485,
          -1.3400707489193944,
          -1.4140647440915617,
          -1.9942146252147284,
          -1.2665720019759965,
          -0.2604508315966764,
          -0.7519759857436675,
          -1.430818380078661,
          -1.4453710110481077,
          -1.9568700556155556,
          -1.0583555926454653,
          -1.6971629954828664,
          -0.798224028726669,
          -0.6563022304197357,
          -2.0732070410458165,
          -1.3371329460948111,
          -2.092755532422247,
          -1.0989333377498338,
          -1.4212864586138987,
          -1.7426123791096881,
          -1.3575810243438495,
          -1.8477982172258118,
          -1.0548746348399325,
          -1.1324955420629244,
          0.06115822747911224,
          -1.067436048026103,
          -1.2293370125988188,
          28.76971873189159,
          12.109253062820363,
          -26.845352584710334,
          10.021170852887828,
          -19.50100958300941,
          46.88614757529181,
          30.895457526541893,
          30.72353340019164,
          1.574162152009604,
          65.65985952046586,
          56.48989567492003,
          7.601132400075252,
          -5.097758309366264,
          -25.085713719640854,
          -7.5642045652732115,
          15.868675684093587,
          -16.27695815055519,
          20.59543880267221,
          10.414109262322292,
          -0.7326454732954557,
          31.366160532716254,
          31.244297636313,
          2.3717644241787075,
          19.88072886580532,
          37.847038083095185,
          21.68412948879285,
          19.713546307359795,
          19.190818073895585,
          21.468531146298147,
          15.983592336203388
         ],
         "yaxis": "y8"
        },
        {
         "marker": {
          "color": [
           0.5472507428202562,
           0.5219543376293028,
           0.4708058310194893,
           0.45060369746319134,
           0.41866000682385307,
           0.4158293370548329,
           0.4207842865992888,
           0.6600565142592049,
           0.5615652534694783,
           0.6694674692081931,
           0.34520773902023816,
           0.41375157633373966,
           0.48524831241506927,
           0.40936415508683544,
           0.5811405347641346,
           0.6129315463725605,
           0.7144798437368962,
           0.5670817634849454,
           0.445193737636022,
           0.6671513995245357,
           0.5241421601275058,
           0.4897145559293936,
           0.41588977706703073,
           0.5282658669532623,
           0.5255554194711772,
           0.5082938526148619,
           0.5643526698373784,
           0.5904893839565114,
           0.5132143277332443,
           0.4868571883843296,
           0.5276790572995577,
           0.3920004877954408,
           0.4057613462969662,
           0.5047270574036853,
           0.5557168479199182,
           0.5090251042038388,
           0.6570368258606432,
           0.3634591267963379,
           0.49469420073422105,
           0.6321136576597834,
           0.049258304047869295,
           1.753766630896006e-05,
           0.00046412902550427363,
           0.016649874200834264,
           9.569538885421943e-11,
           5.7336247667131075e-11,
           2.5037401974315875e-16,
           1.8708863549347635e-09,
           0.03217902749706381,
           0.009806391598758263,
           0.013941809396986157,
           0.06205162757414486,
           0.05465630836406551,
           0.00018687204415411782,
           0.07441604814331364,
           0.014262259363154289,
           3.3435261901895575e-19,
           0.006445331903704717,
           0.0016006632621838352,
           0.003122097874148369,
           0,
           0,
           0,
           0,
           0,
           0,
           0,
           0,
           0,
           0,
           0,
           0,
           0,
           0,
           0,
           0,
           0,
           0,
           0,
           0,
           0,
           0,
           0,
           0,
           0,
           0,
           0,
           0,
           0,
           0,
           0,
           0,
           0,
           0,
           0,
           0,
           0,
           0,
           0,
           0,
           0,
           0.05697477111197105,
           7.729705157224905e-10,
           0,
           0,
           0.03402201185522939,
           5.070463505878869e-13,
           0,
           0.06628943602337585,
           0.09796084120764938,
           0.28041062891188506,
           0.07025048633895974,
           0.0238024208713858,
           0.07411149344018977,
           0,
           0.18105637052398382,
           0.0026958230041242933,
           0.09190768510280777,
           0.08263161889250074,
           0.03342821018251551,
           0.26591603263309543,
           0.0004076441248087327,
           0.39536088367839345,
           0.5055876655588764,
           0.45771627662717623,
           0.40597156050548544,
           0.40114464055064675,
           0.4226057472754159,
           0.3971985022590465,
           0.4368708678136244
          ],
          "colorscale": [
           [
            0,
            "#440154"
           ],
           [
            0.1111111111111111,
            "#482878"
           ],
           [
            0.2222222222222222,
            "#3e4989"
           ],
           [
            0.3333333333333333,
            "#31688e"
           ],
           [
            0.4444444444444444,
            "#26828e"
           ],
           [
            0.5555555555555556,
            "#1f9e89"
           ],
           [
            0.6666666666666666,
            "#35b779"
           ],
           [
            0.7777777777777778,
            "#6ece58"
           ],
           [
            0.8888888888888888,
            "#b5de2b"
           ],
           [
            1,
            "#fde725"
           ]
          ],
          "line": {
           "width": 0
          },
          "opacity": 0.6,
          "size": 6,
          "symbol": "circle"
         },
         "mode": "markers",
         "type": "scatter",
         "x": [
          -50.92965511064042,
          -50.122695213073676,
          -51.791426317184055,
          -50.18922768457569,
          -50.82759090431227,
          -51.431930579008736,
          -51.27860532540107,
          -51.60602555348463,
          -49.25236735037775,
          -50.66865320309655,
          -50.85386608224834,
          -49.349097084270014,
          -50.92844980158951,
          -51.47486700420786,
          -51.25734436859378,
          -50.618963036382084,
          -51.78893540331893,
          -51.21552770321487,
          -50.082010572336635,
          -51.301949450664424,
          -51.48833499997004,
          -51.574070932606034,
          -50.14254574831566,
          -50.279985329312886,
          -50.72269974747976,
          -49.987337619613136,
          -50.05731891437396,
          -50.80441240935232,
          -49.39402480602693,
          -51.83476210865233,
          -52.3064714277239,
          -51.13010633275694,
          -50.59704460494185,
          -51.598643970606304,
          -51.50589574188524,
          -51.8212381499601,
          -50.67749311301716,
          -51.18857335071394,
          -50.16547789591155,
          -50.71520274913881,
          -34.27321845773529,
          -33.69863913984631,
          -33.56245727722324,
          -34.22759103500851,
          -34.576975929537284,
          -35.83006283343574,
          -33.959608882256816,
          -33.3956475123559,
          -33.70549922660188,
          -35.01528168084917,
          -34.68756697790666,
          -34.34737437394637,
          -33.569021485783864,
          -35.22842992019599,
          -34.631613729084904,
          -35.071411205968055,
          -34.79093415017454,
          -35.25568105969022,
          -35.32212029178282,
          -35.46942391024551,
          67.6536836582236,
          68.88400007716326,
          69.12243563578289,
          68.48041876101385,
          68.25733309216778,
          68.96585875848139,
          68.3125525211013,
          68.31750424432545,
          68.04433403961397,
          67.09201423528506,
          68.00350999881304,
          67.91203340697217,
          68.13618965501257,
          68.48608104474985,
          67.64023611981844,
          68.53225308897012,
          68.11768283090677,
          69.67926377386179,
          67.44548305715738,
          68.55129854161333,
          67.13533813128197,
          68.86208641727437,
          68.3595548597416,
          67.26501034758424,
          68.48529086748412,
          67.65165309246355,
          67.12634019346602,
          68.76316391298114,
          68.0766885534856,
          67.60352058775139,
          69.12423484043065,
          68.10751625144428,
          68.78321071679203,
          69.00564165776207,
          68.08034465019556,
          69.2355147667079,
          67.96569004391377,
          68.17970590989262,
          68.9559344674049,
          68.536301368247,
          20.32307919546355,
          0.9392790362596056,
          11.543044309001804,
          31.003116421106437,
          -19.65567402567082,
          12.703367026810346,
          12.541946219595971,
          28.32827967260548,
          47.390298665826016,
          24.04247205252791,
          7.83664802133827,
          -8.32492870619595,
          28.55508184081537,
          -12.78086602436898,
          33.434642152930884,
          24.59939157780199,
          19.74992061623195,
          -6.001117505245767,
          -22.346424900489193,
          3.732601399048257,
          -10.26216894644254,
          0.47267559047098917,
          -19.299186883130826,
          -23.264189082557806,
          -31.589413810082487,
          -36.70494300843521,
          -30.72003151356544,
          -38.0999285435935,
          -15.245207877841798,
          -38.259284367584065
         ],
         "xaxis": "x9",
         "y": [
          -15.270437853719757,
          -15.337294726205668,
          -15.577040634458767,
          -14.335443171870677,
          -14.782022603325602,
          -15.548752601186749,
          -13.392152325295552,
          -15.739198406950713,
          -14.217180540586417,
          -14.270358876212814,
          -14.346372816620269,
          -14.615930063372236,
          -13.523948708986897,
          -15.997203436209224,
          -15.024713084732639,
          -14.322962106346298,
          -14.698860318061465,
          -15.401126172523425,
          -15.059683523062617,
          -14.53486413978672,
          -14.287322994035485,
          -15.231850921007878,
          -15.898294461038974,
          -15.224146824876863,
          -13.959060701824038,
          -14.513248345952018,
          -15.063689753109454,
          -14.606513588805784,
          -15.57568718031413,
          -15.160073846374223,
          -14.642999009002343,
          -16.15642475684009,
          -15.305612095848371,
          -14.650802195087214,
          -15.72008472149938,
          -14.563776349916907,
          -14.078165623252607,
          -16.34123367780726,
          -13.964079491683473,
          -13.805345755680909,
          16.034914069539496,
          16.52261012134995,
          15.702228854396049,
          15.068916650951493,
          15.335865623588086,
          14.985035489045442,
          15.87785948418189,
          15.614888398158719,
          17.69719689506331,
          15.756310731251347,
          15.026765176802652,
          16.357613499948247,
          16.048906747503036,
          16.163667364388164,
          14.441290626209467,
          16.44707904114969,
          16.03767430458797,
          15.495181824460845,
          15.766925270235907,
          15.696427035044094,
          -10.429599018701085,
          -10.924814920460127,
          -11.971209013141623,
          -11.324547722989704,
          -9.387550726751906,
          -11.509698261117109,
          -11.87150395604209,
          -11.069719191432378,
          -10.04268254294829,
          -11.5985700725781,
          -10.835272711270798,
          -11.56594004732113,
          -11.67556386638509,
          -10.643099832960484,
          -11.214142030398419,
          -10.843123581301661,
          -11.095899776572601,
          -10.950119871235158,
          -10.675622085992584,
          -11.294083271289491,
          -10.530946522223545,
          -11.35891799160636,
          -10.24309580883009,
          -11.243816137912134,
          -11.41646278941523,
          -10.992812211091234,
          -10.657053618403362,
          -10.346624163377365,
          -10.972944412147129,
          -10.465211832588254,
          -11.038399049755073,
          -10.377194460547294,
          -12.01329000356691,
          -10.823638708537109,
          -11.465443072358205,
          -11.714129862385553,
          -11.20232122124892,
          -10.960599180514343,
          -11.24590831817909,
          -10.789017372157694,
          92.5778344369724,
          66.81947931521418,
          2.5400108051286736,
          81.09688566723175,
          39.0616678427682,
          75.26383947190726,
          83.68946500044882,
          95.47082668144907,
          -11.068962444640375,
          92.11771099881057,
          35.95157582177658,
          55.71677525372854,
          -9.611425492448927,
          -1.503519904892699,
          -8.33230761277498,
          -17.00548143140015,
          -4.480578197486477,
          55.4486476486469,
          25.15429227879053,
          4.934167036347174,
          -7.4923460047666115,
          68.02149943303405,
          -10.38294452484463,
          -20.094144974044855,
          15.702040390497844,
          -9.797055045381637,
          -16.900060823008882,
          -16.665067795083672,
          -20.65793339368597,
          -16.12770000494191
         ],
         "yaxis": "y9"
        },
        {
         "marker": {
          "color": [
           0.5472507428202562,
           0.5219543376293028,
           0.4708058310194893,
           0.45060369746319134,
           0.41866000682385307,
           0.4158293370548329,
           0.4207842865992888,
           0.6600565142592049,
           0.5615652534694783,
           0.6694674692081931,
           0.34520773902023816,
           0.41375157633373966,
           0.48524831241506927,
           0.40936415508683544,
           0.5811405347641346,
           0.6129315463725605,
           0.7144798437368962,
           0.5670817634849454,
           0.445193737636022,
           0.6671513995245357,
           0.5241421601275058,
           0.4897145559293936,
           0.41588977706703073,
           0.5282658669532623,
           0.5255554194711772,
           0.5082938526148619,
           0.5643526698373784,
           0.5904893839565114,
           0.5132143277332443,
           0.4868571883843296,
           0.5276790572995577,
           0.3920004877954408,
           0.4057613462969662,
           0.5047270574036853,
           0.5557168479199182,
           0.5090251042038388,
           0.6570368258606432,
           0.3634591267963379,
           0.49469420073422105,
           0.6321136576597834,
           0.049258304047869295,
           1.753766630896006e-05,
           0.00046412902550427363,
           0.016649874200834264,
           9.569538885421943e-11,
           5.7336247667131075e-11,
           2.5037401974315875e-16,
           1.8708863549347635e-09,
           0.03217902749706381,
           0.009806391598758263,
           0.013941809396986157,
           0.06205162757414486,
           0.05465630836406551,
           0.00018687204415411782,
           0.07441604814331364,
           0.014262259363154289,
           3.3435261901895575e-19,
           0.006445331903704717,
           0.0016006632621838352,
           0.003122097874148369,
           0,
           0,
           0,
           0,
           0,
           0,
           0,
           0,
           0,
           0,
           0,
           0,
           0,
           0,
           0,
           0,
           0,
           0,
           0,
           0,
           0,
           0,
           0,
           0,
           0,
           0,
           0,
           0,
           0,
           0,
           0,
           0,
           0,
           0,
           0,
           0,
           0,
           0,
           0,
           0,
           0,
           0.05697477111197105,
           7.729705157224905e-10,
           0,
           0,
           0.03402201185522939,
           5.070463505878869e-13,
           0,
           0.06628943602337585,
           0.09796084120764938,
           0.28041062891188506,
           0.07025048633895974,
           0.0238024208713858,
           0.07411149344018977,
           0,
           0.18105637052398382,
           0.0026958230041242933,
           0.09190768510280777,
           0.08263161889250074,
           0.03342821018251551,
           0.26591603263309543,
           0.0004076441248087327,
           0.39536088367839345,
           0.5055876655588764,
           0.45771627662717623,
           0.40597156050548544,
           0.40114464055064675,
           0.4226057472754159,
           0.3971985022590465,
           0.4368708678136244
          ],
          "colorscale": [
           [
            0,
            "#440154"
           ],
           [
            0.1111111111111111,
            "#482878"
           ],
           [
            0.2222222222222222,
            "#3e4989"
           ],
           [
            0.3333333333333333,
            "#31688e"
           ],
           [
            0.4444444444444444,
            "#26828e"
           ],
           [
            0.5555555555555556,
            "#1f9e89"
           ],
           [
            0.6666666666666666,
            "#35b779"
           ],
           [
            0.7777777777777778,
            "#6ece58"
           ],
           [
            0.8888888888888888,
            "#b5de2b"
           ],
           [
            1,
            "#fde725"
           ]
          ],
          "line": {
           "width": 0
          },
          "opacity": 0.6,
          "size": 6,
          "symbol": "circle"
         },
         "mode": "markers",
         "type": "scatter",
         "x": [
          -50.92965511064042,
          -50.122695213073676,
          -51.791426317184055,
          -50.18922768457569,
          -50.82759090431227,
          -51.431930579008736,
          -51.27860532540107,
          -51.60602555348463,
          -49.25236735037775,
          -50.66865320309655,
          -50.85386608224834,
          -49.349097084270014,
          -50.92844980158951,
          -51.47486700420786,
          -51.25734436859378,
          -50.618963036382084,
          -51.78893540331893,
          -51.21552770321487,
          -50.082010572336635,
          -51.301949450664424,
          -51.48833499997004,
          -51.574070932606034,
          -50.14254574831566,
          -50.279985329312886,
          -50.72269974747976,
          -49.987337619613136,
          -50.05731891437396,
          -50.80441240935232,
          -49.39402480602693,
          -51.83476210865233,
          -52.3064714277239,
          -51.13010633275694,
          -50.59704460494185,
          -51.598643970606304,
          -51.50589574188524,
          -51.8212381499601,
          -50.67749311301716,
          -51.18857335071394,
          -50.16547789591155,
          -50.71520274913881,
          -34.27321845773529,
          -33.69863913984631,
          -33.56245727722324,
          -34.22759103500851,
          -34.576975929537284,
          -35.83006283343574,
          -33.959608882256816,
          -33.3956475123559,
          -33.70549922660188,
          -35.01528168084917,
          -34.68756697790666,
          -34.34737437394637,
          -33.569021485783864,
          -35.22842992019599,
          -34.631613729084904,
          -35.071411205968055,
          -34.79093415017454,
          -35.25568105969022,
          -35.32212029178282,
          -35.46942391024551,
          67.6536836582236,
          68.88400007716326,
          69.12243563578289,
          68.48041876101385,
          68.25733309216778,
          68.96585875848139,
          68.3125525211013,
          68.31750424432545,
          68.04433403961397,
          67.09201423528506,
          68.00350999881304,
          67.91203340697217,
          68.13618965501257,
          68.48608104474985,
          67.64023611981844,
          68.53225308897012,
          68.11768283090677,
          69.67926377386179,
          67.44548305715738,
          68.55129854161333,
          67.13533813128197,
          68.86208641727437,
          68.3595548597416,
          67.26501034758424,
          68.48529086748412,
          67.65165309246355,
          67.12634019346602,
          68.76316391298114,
          68.0766885534856,
          67.60352058775139,
          69.12423484043065,
          68.10751625144428,
          68.78321071679203,
          69.00564165776207,
          68.08034465019556,
          69.2355147667079,
          67.96569004391377,
          68.17970590989262,
          68.9559344674049,
          68.536301368247,
          20.32307919546355,
          0.9392790362596056,
          11.543044309001804,
          31.003116421106437,
          -19.65567402567082,
          12.703367026810346,
          12.541946219595971,
          28.32827967260548,
          47.390298665826016,
          24.04247205252791,
          7.83664802133827,
          -8.32492870619595,
          28.55508184081537,
          -12.78086602436898,
          33.434642152930884,
          24.59939157780199,
          19.74992061623195,
          -6.001117505245767,
          -22.346424900489193,
          3.732601399048257,
          -10.26216894644254,
          0.47267559047098917,
          -19.299186883130826,
          -23.264189082557806,
          -31.589413810082487,
          -36.70494300843521,
          -30.72003151356544,
          -38.0999285435935,
          -15.245207877841798,
          -38.259284367584065
         ],
         "xaxis": "x10",
         "y": [
          13.63813527701303,
          14.469623947151883,
          14.493232576595691,
          13.775363024916388,
          14.003103483016512,
          13.687491362761046,
          14.423041639385156,
          14.01677074430146,
          14.403803901189313,
          13.08330955949845,
          13.98778119188632,
          13.520319225497405,
          12.982373100143445,
          13.096966774260958,
          13.5367947919723,
          14.846973917078348,
          13.60006485608552,
          14.008713039212354,
          13.227133233569996,
          14.126808363464727,
          13.344110535873424,
          12.960663500527152,
          15.41385528485871,
          14.648189598716202,
          14.279108510607672,
          13.255621955701827,
          15.758477077338583,
          14.017388941769084,
          13.652378821007748,
          14.010591026060666,
          14.44607819159879,
          13.544735149719369,
          14.274892092761524,
          15.099371518141343,
          14.175570255731023,
          13.356028600533188,
          14.362338942766698,
          14.095275259539731,
          14.63590410710734,
          14.109523017584651,
          -48.152963821791545,
          -48.995983192319606,
          -47.10108540652825,
          -45.957302364928424,
          -47.888697112798326,
          -50.07011150041718,
          -49.19580549571403,
          -47.66177444412008,
          -45.693664852062604,
          -47.33252977779955,
          -48.072975114479654,
          -47.57758635764012,
          -47.98432101995432,
          -48.912472963470485,
          -46.09734705116224,
          -48.536527629047775,
          -49.255590166104845,
          -46.64209584018771,
          -50.1610986358454,
          -47.43474792414081,
          -1.953453164653643,
          -2.4116833611990924,
          -1.3384999016077144,
          -1.7268001472224477,
          -1.4766706691109266,
          -1.804199909737303,
          -2.367099206606988,
          -0.9743828552558325,
          -2.476520988594173,
          -2.0993822688533728,
          -1.5827864481750213,
          -2.110843804086348,
          -1.3233337102530836,
          -1.7883432678538485,
          -1.3400707489193944,
          -1.4140647440915617,
          -1.9942146252147284,
          -1.2665720019759965,
          -0.2604508315966764,
          -0.7519759857436675,
          -1.430818380078661,
          -1.4453710110481077,
          -1.9568700556155556,
          -1.0583555926454653,
          -1.6971629954828664,
          -0.798224028726669,
          -0.6563022304197357,
          -2.0732070410458165,
          -1.3371329460948111,
          -2.092755532422247,
          -1.0989333377498338,
          -1.4212864586138987,
          -1.7426123791096881,
          -1.3575810243438495,
          -1.8477982172258118,
          -1.0548746348399325,
          -1.1324955420629244,
          0.06115822747911224,
          -1.067436048026103,
          -1.2293370125988188,
          28.76971873189159,
          12.109253062820363,
          -26.845352584710334,
          10.021170852887828,
          -19.50100958300941,
          46.88614757529181,
          30.895457526541893,
          30.72353340019164,
          1.574162152009604,
          65.65985952046586,
          56.48989567492003,
          7.601132400075252,
          -5.097758309366264,
          -25.085713719640854,
          -7.5642045652732115,
          15.868675684093587,
          -16.27695815055519,
          20.59543880267221,
          10.414109262322292,
          -0.7326454732954557,
          31.366160532716254,
          31.244297636313,
          2.3717644241787075,
          19.88072886580532,
          37.847038083095185,
          21.68412948879285,
          19.713546307359795,
          19.190818073895585,
          21.468531146298147,
          15.983592336203388
         ],
         "yaxis": "y10"
        }
       ],
       "layout": {
        "annotations": [
         {
          "font": {
           "size": 16
          },
          "showarrow": false,
          "text": "Global",
          "x": 0.225,
          "xanchor": "center",
          "xref": "paper",
          "y": 1,
          "yanchor": "bottom",
          "yref": "paper"
         },
         {
          "font": {
           "size": 16
          },
          "showarrow": false,
          "text": "Global",
          "x": 0.775,
          "xanchor": "center",
          "xref": "paper",
          "y": 1,
          "yanchor": "bottom",
          "yref": "paper"
         },
         {
          "font": {
           "size": 16
          },
          "showarrow": false,
          "text": "cluster 1",
          "x": 0.225,
          "xanchor": "center",
          "xref": "paper",
          "y": 0.78,
          "yanchor": "bottom",
          "yref": "paper"
         },
         {
          "font": {
           "size": 16
          },
          "showarrow": false,
          "text": "cluster 1",
          "x": 0.775,
          "xanchor": "center",
          "xref": "paper",
          "y": 0.78,
          "yanchor": "bottom",
          "yref": "paper"
         },
         {
          "font": {
           "size": 16
          },
          "showarrow": false,
          "text": "cluster 2",
          "x": 0.225,
          "xanchor": "center",
          "xref": "paper",
          "y": 0.56,
          "yanchor": "bottom",
          "yref": "paper"
         },
         {
          "font": {
           "size": 16
          },
          "showarrow": false,
          "text": "cluster 2",
          "x": 0.775,
          "xanchor": "center",
          "xref": "paper",
          "y": 0.56,
          "yanchor": "bottom",
          "yref": "paper"
         },
         {
          "font": {
           "size": 16
          },
          "showarrow": false,
          "text": "cluster 3",
          "x": 0.225,
          "xanchor": "center",
          "xref": "paper",
          "y": 0.33999999999999997,
          "yanchor": "bottom",
          "yref": "paper"
         },
         {
          "font": {
           "size": 16
          },
          "showarrow": false,
          "text": "cluster 3",
          "x": 0.775,
          "xanchor": "center",
          "xref": "paper",
          "y": 0.33999999999999997,
          "yanchor": "bottom",
          "yref": "paper"
         },
         {
          "font": {
           "size": 16
          },
          "showarrow": false,
          "text": "cluster 4",
          "x": 0.225,
          "xanchor": "center",
          "xref": "paper",
          "y": 0.12,
          "yanchor": "bottom",
          "yref": "paper"
         },
         {
          "font": {
           "size": 16
          },
          "showarrow": false,
          "text": "cluster 4",
          "x": 0.775,
          "xanchor": "center",
          "xref": "paper",
          "y": 0.12,
          "yanchor": "bottom",
          "yref": "paper"
         }
        ],
        "height": 2000,
        "template": {
         "data": {
          "bar": [
           {
            "error_x": {
             "color": "#2a3f5f"
            },
            "error_y": {
             "color": "#2a3f5f"
            },
            "marker": {
             "line": {
              "color": "#E5ECF6",
              "width": 0.5
             }
            },
            "type": "bar"
           }
          ],
          "barpolar": [
           {
            "marker": {
             "line": {
              "color": "#E5ECF6",
              "width": 0.5
             }
            },
            "type": "barpolar"
           }
          ],
          "carpet": [
           {
            "aaxis": {
             "endlinecolor": "#2a3f5f",
             "gridcolor": "white",
             "linecolor": "white",
             "minorgridcolor": "white",
             "startlinecolor": "#2a3f5f"
            },
            "baxis": {
             "endlinecolor": "#2a3f5f",
             "gridcolor": "white",
             "linecolor": "white",
             "minorgridcolor": "white",
             "startlinecolor": "#2a3f5f"
            },
            "type": "carpet"
           }
          ],
          "choropleth": [
           {
            "colorbar": {
             "outlinewidth": 0,
             "ticks": ""
            },
            "type": "choropleth"
           }
          ],
          "contour": [
           {
            "colorbar": {
             "outlinewidth": 0,
             "ticks": ""
            },
            "colorscale": [
             [
              0,
              "#0d0887"
             ],
             [
              0.1111111111111111,
              "#46039f"
             ],
             [
              0.2222222222222222,
              "#7201a8"
             ],
             [
              0.3333333333333333,
              "#9c179e"
             ],
             [
              0.4444444444444444,
              "#bd3786"
             ],
             [
              0.5555555555555556,
              "#d8576b"
             ],
             [
              0.6666666666666666,
              "#ed7953"
             ],
             [
              0.7777777777777778,
              "#fb9f3a"
             ],
             [
              0.8888888888888888,
              "#fdca26"
             ],
             [
              1,
              "#f0f921"
             ]
            ],
            "type": "contour"
           }
          ],
          "contourcarpet": [
           {
            "colorbar": {
             "outlinewidth": 0,
             "ticks": ""
            },
            "type": "contourcarpet"
           }
          ],
          "heatmap": [
           {
            "colorbar": {
             "outlinewidth": 0,
             "ticks": ""
            },
            "colorscale": [
             [
              0,
              "#0d0887"
             ],
             [
              0.1111111111111111,
              "#46039f"
             ],
             [
              0.2222222222222222,
              "#7201a8"
             ],
             [
              0.3333333333333333,
              "#9c179e"
             ],
             [
              0.4444444444444444,
              "#bd3786"
             ],
             [
              0.5555555555555556,
              "#d8576b"
             ],
             [
              0.6666666666666666,
              "#ed7953"
             ],
             [
              0.7777777777777778,
              "#fb9f3a"
             ],
             [
              0.8888888888888888,
              "#fdca26"
             ],
             [
              1,
              "#f0f921"
             ]
            ],
            "type": "heatmap"
           }
          ],
          "heatmapgl": [
           {
            "colorbar": {
             "outlinewidth": 0,
             "ticks": ""
            },
            "colorscale": [
             [
              0,
              "#0d0887"
             ],
             [
              0.1111111111111111,
              "#46039f"
             ],
             [
              0.2222222222222222,
              "#7201a8"
             ],
             [
              0.3333333333333333,
              "#9c179e"
             ],
             [
              0.4444444444444444,
              "#bd3786"
             ],
             [
              0.5555555555555556,
              "#d8576b"
             ],
             [
              0.6666666666666666,
              "#ed7953"
             ],
             [
              0.7777777777777778,
              "#fb9f3a"
             ],
             [
              0.8888888888888888,
              "#fdca26"
             ],
             [
              1,
              "#f0f921"
             ]
            ],
            "type": "heatmapgl"
           }
          ],
          "histogram": [
           {
            "marker": {
             "colorbar": {
              "outlinewidth": 0,
              "ticks": ""
             }
            },
            "type": "histogram"
           }
          ],
          "histogram2d": [
           {
            "colorbar": {
             "outlinewidth": 0,
             "ticks": ""
            },
            "colorscale": [
             [
              0,
              "#0d0887"
             ],
             [
              0.1111111111111111,
              "#46039f"
             ],
             [
              0.2222222222222222,
              "#7201a8"
             ],
             [
              0.3333333333333333,
              "#9c179e"
             ],
             [
              0.4444444444444444,
              "#bd3786"
             ],
             [
              0.5555555555555556,
              "#d8576b"
             ],
             [
              0.6666666666666666,
              "#ed7953"
             ],
             [
              0.7777777777777778,
              "#fb9f3a"
             ],
             [
              0.8888888888888888,
              "#fdca26"
             ],
             [
              1,
              "#f0f921"
             ]
            ],
            "type": "histogram2d"
           }
          ],
          "histogram2dcontour": [
           {
            "colorbar": {
             "outlinewidth": 0,
             "ticks": ""
            },
            "colorscale": [
             [
              0,
              "#0d0887"
             ],
             [
              0.1111111111111111,
              "#46039f"
             ],
             [
              0.2222222222222222,
              "#7201a8"
             ],
             [
              0.3333333333333333,
              "#9c179e"
             ],
             [
              0.4444444444444444,
              "#bd3786"
             ],
             [
              0.5555555555555556,
              "#d8576b"
             ],
             [
              0.6666666666666666,
              "#ed7953"
             ],
             [
              0.7777777777777778,
              "#fb9f3a"
             ],
             [
              0.8888888888888888,
              "#fdca26"
             ],
             [
              1,
              "#f0f921"
             ]
            ],
            "type": "histogram2dcontour"
           }
          ],
          "mesh3d": [
           {
            "colorbar": {
             "outlinewidth": 0,
             "ticks": ""
            },
            "type": "mesh3d"
           }
          ],
          "parcoords": [
           {
            "line": {
             "colorbar": {
              "outlinewidth": 0,
              "ticks": ""
             }
            },
            "type": "parcoords"
           }
          ],
          "pie": [
           {
            "automargin": true,
            "type": "pie"
           }
          ],
          "scatter": [
           {
            "marker": {
             "colorbar": {
              "outlinewidth": 0,
              "ticks": ""
             }
            },
            "type": "scatter"
           }
          ],
          "scatter3d": [
           {
            "line": {
             "colorbar": {
              "outlinewidth": 0,
              "ticks": ""
             }
            },
            "marker": {
             "colorbar": {
              "outlinewidth": 0,
              "ticks": ""
             }
            },
            "type": "scatter3d"
           }
          ],
          "scattercarpet": [
           {
            "marker": {
             "colorbar": {
              "outlinewidth": 0,
              "ticks": ""
             }
            },
            "type": "scattercarpet"
           }
          ],
          "scattergeo": [
           {
            "marker": {
             "colorbar": {
              "outlinewidth": 0,
              "ticks": ""
             }
            },
            "type": "scattergeo"
           }
          ],
          "scattergl": [
           {
            "marker": {
             "colorbar": {
              "outlinewidth": 0,
              "ticks": ""
             }
            },
            "type": "scattergl"
           }
          ],
          "scattermapbox": [
           {
            "marker": {
             "colorbar": {
              "outlinewidth": 0,
              "ticks": ""
             }
            },
            "type": "scattermapbox"
           }
          ],
          "scatterpolar": [
           {
            "marker": {
             "colorbar": {
              "outlinewidth": 0,
              "ticks": ""
             }
            },
            "type": "scatterpolar"
           }
          ],
          "scatterpolargl": [
           {
            "marker": {
             "colorbar": {
              "outlinewidth": 0,
              "ticks": ""
             }
            },
            "type": "scatterpolargl"
           }
          ],
          "scatterternary": [
           {
            "marker": {
             "colorbar": {
              "outlinewidth": 0,
              "ticks": ""
             }
            },
            "type": "scatterternary"
           }
          ],
          "surface": [
           {
            "colorbar": {
             "outlinewidth": 0,
             "ticks": ""
            },
            "colorscale": [
             [
              0,
              "#0d0887"
             ],
             [
              0.1111111111111111,
              "#46039f"
             ],
             [
              0.2222222222222222,
              "#7201a8"
             ],
             [
              0.3333333333333333,
              "#9c179e"
             ],
             [
              0.4444444444444444,
              "#bd3786"
             ],
             [
              0.5555555555555556,
              "#d8576b"
             ],
             [
              0.6666666666666666,
              "#ed7953"
             ],
             [
              0.7777777777777778,
              "#fb9f3a"
             ],
             [
              0.8888888888888888,
              "#fdca26"
             ],
             [
              1,
              "#f0f921"
             ]
            ],
            "type": "surface"
           }
          ],
          "table": [
           {
            "cells": {
             "fill": {
              "color": "#EBF0F8"
             },
             "line": {
              "color": "white"
             }
            },
            "header": {
             "fill": {
              "color": "#C8D4E3"
             },
             "line": {
              "color": "white"
             }
            },
            "type": "table"
           }
          ]
         },
         "layout": {
          "annotationdefaults": {
           "arrowcolor": "#2a3f5f",
           "arrowhead": 0,
           "arrowwidth": 1
          },
          "coloraxis": {
           "colorbar": {
            "outlinewidth": 0,
            "ticks": ""
           }
          },
          "colorscale": {
           "diverging": [
            [
             0,
             "#8e0152"
            ],
            [
             0.1,
             "#c51b7d"
            ],
            [
             0.2,
             "#de77ae"
            ],
            [
             0.3,
             "#f1b6da"
            ],
            [
             0.4,
             "#fde0ef"
            ],
            [
             0.5,
             "#f7f7f7"
            ],
            [
             0.6,
             "#e6f5d0"
            ],
            [
             0.7,
             "#b8e186"
            ],
            [
             0.8,
             "#7fbc41"
            ],
            [
             0.9,
             "#4d9221"
            ],
            [
             1,
             "#276419"
            ]
           ],
           "sequential": [
            [
             0,
             "#0d0887"
            ],
            [
             0.1111111111111111,
             "#46039f"
            ],
            [
             0.2222222222222222,
             "#7201a8"
            ],
            [
             0.3333333333333333,
             "#9c179e"
            ],
            [
             0.4444444444444444,
             "#bd3786"
            ],
            [
             0.5555555555555556,
             "#d8576b"
            ],
            [
             0.6666666666666666,
             "#ed7953"
            ],
            [
             0.7777777777777778,
             "#fb9f3a"
            ],
            [
             0.8888888888888888,
             "#fdca26"
            ],
            [
             1,
             "#f0f921"
            ]
           ],
           "sequentialminus": [
            [
             0,
             "#0d0887"
            ],
            [
             0.1111111111111111,
             "#46039f"
            ],
            [
             0.2222222222222222,
             "#7201a8"
            ],
            [
             0.3333333333333333,
             "#9c179e"
            ],
            [
             0.4444444444444444,
             "#bd3786"
            ],
            [
             0.5555555555555556,
             "#d8576b"
            ],
            [
             0.6666666666666666,
             "#ed7953"
            ],
            [
             0.7777777777777778,
             "#fb9f3a"
            ],
            [
             0.8888888888888888,
             "#fdca26"
            ],
            [
             1,
             "#f0f921"
            ]
           ]
          },
          "colorway": [
           "#636efa",
           "#EF553B",
           "#00cc96",
           "#ab63fa",
           "#FFA15A",
           "#19d3f3",
           "#FF6692",
           "#B6E880",
           "#FF97FF",
           "#FECB52"
          ],
          "font": {
           "color": "#2a3f5f"
          },
          "geo": {
           "bgcolor": "white",
           "lakecolor": "white",
           "landcolor": "#E5ECF6",
           "showlakes": true,
           "showland": true,
           "subunitcolor": "white"
          },
          "hoverlabel": {
           "align": "left"
          },
          "hovermode": "closest",
          "mapbox": {
           "style": "light"
          },
          "paper_bgcolor": "white",
          "plot_bgcolor": "#E5ECF6",
          "polar": {
           "angularaxis": {
            "gridcolor": "white",
            "linecolor": "white",
            "ticks": ""
           },
           "bgcolor": "#E5ECF6",
           "radialaxis": {
            "gridcolor": "white",
            "linecolor": "white",
            "ticks": ""
           }
          },
          "scene": {
           "xaxis": {
            "backgroundcolor": "#E5ECF6",
            "gridcolor": "white",
            "gridwidth": 2,
            "linecolor": "white",
            "showbackground": true,
            "ticks": "",
            "zerolinecolor": "white"
           },
           "yaxis": {
            "backgroundcolor": "#E5ECF6",
            "gridcolor": "white",
            "gridwidth": 2,
            "linecolor": "white",
            "showbackground": true,
            "ticks": "",
            "zerolinecolor": "white"
           },
           "zaxis": {
            "backgroundcolor": "#E5ECF6",
            "gridcolor": "white",
            "gridwidth": 2,
            "linecolor": "white",
            "showbackground": true,
            "ticks": "",
            "zerolinecolor": "white"
           }
          },
          "shapedefaults": {
           "line": {
            "color": "#2a3f5f"
           }
          },
          "ternary": {
           "aaxis": {
            "gridcolor": "white",
            "linecolor": "white",
            "ticks": ""
           },
           "baxis": {
            "gridcolor": "white",
            "linecolor": "white",
            "ticks": ""
           },
           "bgcolor": "#E5ECF6",
           "caxis": {
            "gridcolor": "white",
            "linecolor": "white",
            "ticks": ""
           }
          },
          "title": {
           "x": 0.05
          },
          "xaxis": {
           "automargin": true,
           "gridcolor": "white",
           "linecolor": "white",
           "ticks": "",
           "title": {
            "standoff": 15
           },
           "zerolinecolor": "white",
           "zerolinewidth": 2
          },
          "yaxis": {
           "automargin": true,
           "gridcolor": "white",
           "linecolor": "white",
           "ticks": "",
           "title": {
            "standoff": 15
           },
           "zerolinecolor": "white",
           "zerolinewidth": 2
          }
         }
        },
        "width": 1000,
        "xaxis": {
         "anchor": "y",
         "domain": [
          0,
          0.45
         ],
         "title": {
          "text": "PC1"
         }
        },
        "xaxis10": {
         "anchor": "y10",
         "domain": [
          0.55,
          1
         ],
         "title": {
          "text": "PC1"
         }
        },
        "xaxis2": {
         "anchor": "y2",
         "domain": [
          0.55,
          1
         ],
         "title": {
          "text": "PC1"
         }
        },
        "xaxis3": {
         "anchor": "y3",
         "domain": [
          0,
          0.45
         ],
         "title": {
          "text": "PC1"
         }
        },
        "xaxis4": {
         "anchor": "y4",
         "domain": [
          0.55,
          1
         ],
         "title": {
          "text": "PC1"
         }
        },
        "xaxis5": {
         "anchor": "y5",
         "domain": [
          0,
          0.45
         ],
         "title": {
          "text": "PC1"
         }
        },
        "xaxis6": {
         "anchor": "y6",
         "domain": [
          0.55,
          1
         ],
         "title": {
          "text": "PC1"
         }
        },
        "xaxis7": {
         "anchor": "y7",
         "domain": [
          0,
          0.45
         ],
         "title": {
          "text": "PC1"
         }
        },
        "xaxis8": {
         "anchor": "y8",
         "domain": [
          0.55,
          1
         ],
         "title": {
          "text": "PC1"
         }
        },
        "xaxis9": {
         "anchor": "y9",
         "domain": [
          0,
          0.45
         ],
         "title": {
          "text": "PC1"
         }
        },
        "yaxis": {
         "anchor": "x",
         "domain": [
          0.88,
          1
         ],
         "title": {
          "text": "PC2"
         }
        },
        "yaxis10": {
         "anchor": "x10",
         "domain": [
          0,
          0.12
         ],
         "title": {
          "text": "PC3"
         }
        },
        "yaxis2": {
         "anchor": "x2",
         "domain": [
          0.88,
          1
         ],
         "title": {
          "text": "PC3"
         }
        },
        "yaxis3": {
         "anchor": "x3",
         "domain": [
          0.66,
          0.78
         ],
         "title": {
          "text": "PC2"
         }
        },
        "yaxis4": {
         "anchor": "x4",
         "domain": [
          0.66,
          0.78
         ],
         "title": {
          "text": "PC3"
         }
        },
        "yaxis5": {
         "anchor": "x5",
         "domain": [
          0.44,
          0.56
         ],
         "title": {
          "text": "PC2"
         }
        },
        "yaxis6": {
         "anchor": "x6",
         "domain": [
          0.44,
          0.56
         ],
         "title": {
          "text": "PC3"
         }
        },
        "yaxis7": {
         "anchor": "x7",
         "domain": [
          0.22,
          0.33999999999999997
         ],
         "title": {
          "text": "PC2"
         }
        },
        "yaxis8": {
         "anchor": "x8",
         "domain": [
          0.22,
          0.33999999999999997
         ],
         "title": {
          "text": "PC3"
         }
        },
        "yaxis9": {
         "anchor": "x9",
         "domain": [
          0,
          0.12
         ],
         "title": {
          "text": "PC2"
         }
        }
       }
      },
      "text/html": [
       "<div>\n",
       "        \n",
       "        \n",
       "            <div id=\"ca93e244-1844-4cc6-a97b-94d766d77104\" class=\"plotly-graph-div\" style=\"height:2000px; width:1000px;\"></div>\n",
       "            <script type=\"text/javascript\">\n",
       "                require([\"plotly\"], function(Plotly) {\n",
       "                    window.PLOTLYENV=window.PLOTLYENV || {};\n",
       "                    \n",
       "                if (document.getElementById(\"ca93e244-1844-4cc6-a97b-94d766d77104\")) {\n",
       "                    Plotly.newPlot(\n",
       "                        'ca93e244-1844-4cc6-a97b-94d766d77104',\n",
       "                        [{\"marker\": {\"color\": \"darkseagreen\", \"line\": {\"width\": 0}, \"opacity\": 0.8, \"size\": 6, \"symbol\": \"circle\"}, \"mode\": \"markers\", \"name\": \"0\", \"type\": \"scatter\", \"x\": [-50.92965511064042, -50.122695213073676, -51.791426317184055, -50.18922768457569, -50.82759090431227, -51.431930579008736, -51.27860532540107, -51.60602555348463, -49.25236735037775, -50.66865320309655, -50.85386608224834, -49.349097084270014, -50.92844980158951, -51.47486700420786, -51.25734436859378, -50.618963036382084, -51.78893540331893, -51.21552770321487, -50.082010572336635, -51.301949450664424, -51.48833499997004, -51.574070932606034, -50.14254574831566, -50.279985329312886, -50.72269974747976, -49.987337619613136, -50.05731891437396, -50.80441240935232, -49.39402480602693, -51.83476210865233, -52.3064714277239, -51.13010633275694, -50.59704460494185, -51.598643970606304, -51.50589574188524, -51.8212381499601, -50.67749311301716, -51.18857335071394, -50.16547789591155, -50.71520274913881, -23.264189082557806, -36.70494300843521, -30.72003151356544, -38.0999285435935, -15.245207877841798, -38.259284367584065], \"xaxis\": \"x\", \"y\": [-15.270437853719757, -15.337294726205668, -15.577040634458767, -14.335443171870677, -14.782022603325602, -15.548752601186749, -13.392152325295552, -15.739198406950713, -14.217180540586417, -14.270358876212814, -14.346372816620269, -14.615930063372236, -13.523948708986897, -15.997203436209224, -15.024713084732639, -14.322962106346298, -14.698860318061465, -15.401126172523425, -15.059683523062617, -14.53486413978672, -14.287322994035485, -15.231850921007878, -15.898294461038974, -15.224146824876863, -13.959060701824038, -14.513248345952018, -15.063689753109454, -14.606513588805784, -15.57568718031413, -15.160073846374223, -14.642999009002343, -16.15642475684009, -15.305612095848371, -14.650802195087214, -15.72008472149938, -14.563776349916907, -14.078165623252607, -16.34123367780726, -13.964079491683473, -13.805345755680909, -20.094144974044855, -9.797055045381637, -16.900060823008882, -16.665067795083672, -20.65793339368597, -16.12770000494191], \"yaxis\": \"y\"}, {\"marker\": {\"color\": \"crimson\", \"line\": {\"width\": 0}, \"opacity\": 0.8, \"size\": 6, \"symbol\": \"circle\"}, \"mode\": \"markers\", \"name\": \"1\", \"type\": \"scatter\", \"x\": [67.6536836582236, 68.88400007716326, 69.12243563578289, 68.48041876101385, 68.25733309216778, 68.96585875848139, 68.3125525211013, 68.31750424432545, 68.04433403961397, 67.09201423528506, 68.00350999881304, 67.91203340697217, 68.13618965501257, 68.48608104474985, 67.64023611981844, 68.53225308897012, 68.11768283090677, 69.67926377386179, 67.44548305715738, 68.55129854161333, 67.13533813128197, 68.86208641727437, 68.3595548597416, 67.26501034758424, 68.48529086748412, 67.65165309246355, 67.12634019346602, 68.76316391298114, 68.0766885534856, 67.60352058775139, 69.12423484043065, 68.10751625144428, 68.78321071679203, 69.00564165776207, 68.08034465019556, 69.2355147667079, 67.96569004391377, 68.17970590989262, 68.9559344674049, 68.536301368247], \"xaxis\": \"x\", \"y\": [-10.429599018701085, -10.924814920460127, -11.971209013141623, -11.324547722989704, -9.387550726751906, -11.509698261117109, -11.87150395604209, -11.069719191432378, -10.04268254294829, -11.5985700725781, -10.835272711270798, -11.56594004732113, -11.67556386638509, -10.643099832960484, -11.214142030398419, -10.843123581301661, -11.095899776572601, -10.950119871235158, -10.675622085992584, -11.294083271289491, -10.530946522223545, -11.35891799160636, -10.24309580883009, -11.243816137912134, -11.41646278941523, -10.992812211091234, -10.657053618403362, -10.346624163377365, -10.972944412147129, -10.465211832588254, -11.038399049755073, -10.377194460547294, -12.01329000356691, -10.823638708537109, -11.465443072358205, -11.714129862385553, -11.20232122124892, -10.960599180514343, -11.24590831817909, -10.789017372157694], \"yaxis\": \"y\"}, {\"marker\": {\"color\": \"darkorange\", \"line\": {\"width\": 0}, \"opacity\": 0.8, \"size\": 6, \"symbol\": \"circle\"}, \"mode\": \"markers\", \"name\": \"2\", \"type\": \"scatter\", \"x\": [-34.27321845773529, -33.69863913984631, -33.56245727722324, -34.22759103500851, -34.576975929537284, -35.83006283343574, -33.959608882256816, -33.3956475123559, -33.70549922660188, -35.01528168084917, -34.68756697790666, -34.34737437394637, -33.569021485783864, -35.22842992019599, -34.631613729084904, -35.071411205968055, -34.79093415017454, -35.25568105969022, -35.32212029178282, -35.46942391024551], \"xaxis\": \"x\", \"y\": [16.034914069539496, 16.52261012134995, 15.702228854396049, 15.068916650951493, 15.335865623588086, 14.985035489045442, 15.87785948418189, 15.614888398158719, 17.69719689506331, 15.756310731251347, 15.026765176802652, 16.357613499948247, 16.048906747503036, 16.163667364388164, 14.441290626209467, 16.44707904114969, 16.03767430458797, 15.495181824460845, 15.766925270235907, 15.696427035044094], \"yaxis\": \"y\"}, {\"marker\": {\"color\": \"darkblue\", \"line\": {\"width\": 0}, \"opacity\": 0.8, \"size\": 6, \"symbol\": \"circle\"}, \"mode\": \"markers\", \"name\": \"3\", \"type\": \"scatter\", \"x\": [47.390298665826016, 28.55508184081537, 33.434642152930884, 24.59939157780199, 19.74992061623195], \"xaxis\": \"x\", \"y\": [-11.068962444640375, -9.611425492448927, -8.33230761277498, -17.00548143140015, -4.480578197486477], \"yaxis\": \"y\"}, {\"marker\": {\"color\": \"darkcyan\", \"line\": {\"width\": 0}, \"opacity\": 0.8, \"size\": 6, \"symbol\": \"circle\"}, \"mode\": \"markers\", \"name\": \"4\", \"type\": \"scatter\", \"x\": [20.32307919546355, 12.703367026810346, 12.541946219595971, 28.32827967260548], \"xaxis\": \"x\", \"y\": [92.5778344369724, 75.26383947190726, 83.68946500044882, 95.47082668144907], \"yaxis\": \"y\"}, {\"marker\": {\"color\": \"darkgoldenrod\", \"line\": {\"width\": 0}, \"opacity\": 0.8, \"size\": 6, \"symbol\": \"circle\"}, \"mode\": \"markers\", \"name\": \"5\", \"type\": \"scatter\", \"x\": [0.9392790362596056, -8.32492870619595, -6.001117505245767, 0.47267559047098917], \"xaxis\": \"x\", \"y\": [66.81947931521418, 55.71677525372854, 55.4486476486469, 68.02149943303405], \"yaxis\": \"y\"}, {\"marker\": {\"color\": \"darkgray\", \"line\": {\"width\": 0}, \"opacity\": 0.8, \"size\": 6, \"symbol\": \"circle\"}, \"mode\": \"markers\", \"name\": \"6\", \"type\": \"scatter\", \"x\": [31.003116421106437], \"xaxis\": \"x\", \"y\": [81.09688566723175], \"yaxis\": \"y\"}, {\"marker\": {\"color\": \"darkgrey\", \"line\": {\"width\": 0}, \"opacity\": 0.8, \"size\": 6, \"symbol\": \"circle\"}, \"mode\": \"markers\", \"name\": \"7\", \"type\": \"scatter\", \"x\": [24.04247205252791], \"xaxis\": \"x\", \"y\": [92.11771099881057], \"yaxis\": \"y\"}, {\"marker\": {\"color\": \"darkgreen\", \"line\": {\"width\": 0}, \"opacity\": 0.8, \"size\": 6, \"symbol\": \"circle\"}, \"mode\": \"markers\", \"name\": \"8\", \"type\": \"scatter\", \"x\": [7.83664802133827], \"xaxis\": \"x\", \"y\": [35.95157582177658], \"yaxis\": \"y\"}, {\"marker\": {\"color\": \"darkkhaki\", \"line\": {\"width\": 0}, \"opacity\": 0.8, \"size\": 6, \"symbol\": \"circle\"}, \"mode\": \"markers\", \"name\": \"9\", \"type\": \"scatter\", \"x\": [3.732601399048257, -19.299186883130826], \"xaxis\": \"x\", \"y\": [4.934167036347174, -10.38294452484463], \"yaxis\": \"y\"}, {\"marker\": {\"color\": \"darkmagenta\", \"line\": {\"width\": 0}, \"opacity\": 0.8, \"size\": 6, \"symbol\": \"circle\"}, \"mode\": \"markers\", \"name\": \"10\", \"type\": \"scatter\", \"x\": [11.543044309001804, -12.78086602436898], \"xaxis\": \"x\", \"y\": [2.5400108051286736, -1.503519904892699], \"yaxis\": \"y\"}, {\"marker\": {\"color\": \"darkolivegreen\", \"line\": {\"width\": 0}, \"opacity\": 0.8, \"size\": 6, \"symbol\": \"circle\"}, \"mode\": \"markers\", \"name\": \"11\", \"type\": \"scatter\", \"x\": [-19.65567402567082], \"xaxis\": \"x\", \"y\": [39.0616678427682], \"yaxis\": \"y\"}, {\"marker\": {\"color\": \"darkorange\", \"line\": {\"width\": 0}, \"opacity\": 0.8, \"size\": 6, \"symbol\": \"circle\"}, \"mode\": \"markers\", \"name\": \"12\", \"type\": \"scatter\", \"x\": [-22.346424900489193], \"xaxis\": \"x\", \"y\": [25.15429227879053], \"yaxis\": \"y\"}, {\"marker\": {\"color\": \"darkorchid\", \"line\": {\"width\": 0}, \"opacity\": 0.8, \"size\": 6, \"symbol\": \"circle\"}, \"mode\": \"markers\", \"name\": \"13\", \"type\": \"scatter\", \"x\": [-10.26216894644254, -31.589413810082487], \"xaxis\": \"x\", \"y\": [-7.4923460047666115, 15.702040390497844], \"yaxis\": \"y\"}, {\"marker\": {\"color\": \"darkseagreen\", \"line\": {\"width\": 0}, \"opacity\": 0.8, \"size\": 6, \"symbol\": \"circle\"}, \"mode\": \"markers\", \"name\": \"0\", \"type\": \"scatter\", \"x\": [-50.92965511064042, -50.122695213073676, -51.791426317184055, -50.18922768457569, -50.82759090431227, -51.431930579008736, -51.27860532540107, -51.60602555348463, -49.25236735037775, -50.66865320309655, -50.85386608224834, -49.349097084270014, -50.92844980158951, -51.47486700420786, -51.25734436859378, -50.618963036382084, -51.78893540331893, -51.21552770321487, -50.082010572336635, -51.301949450664424, -51.48833499997004, -51.574070932606034, -50.14254574831566, -50.279985329312886, -50.72269974747976, -49.987337619613136, -50.05731891437396, -50.80441240935232, -49.39402480602693, -51.83476210865233, -52.3064714277239, -51.13010633275694, -50.59704460494185, -51.598643970606304, -51.50589574188524, -51.8212381499601, -50.67749311301716, -51.18857335071394, -50.16547789591155, -50.71520274913881, -23.264189082557806, -36.70494300843521, -30.72003151356544, -38.0999285435935, -15.245207877841798, -38.259284367584065], \"xaxis\": \"x2\", \"y\": [13.63813527701303, 14.469623947151883, 14.493232576595691, 13.775363024916388, 14.003103483016512, 13.687491362761046, 14.423041639385156, 14.01677074430146, 14.403803901189313, 13.08330955949845, 13.98778119188632, 13.520319225497405, 12.982373100143445, 13.096966774260958, 13.5367947919723, 14.846973917078348, 13.60006485608552, 14.008713039212354, 13.227133233569996, 14.126808363464727, 13.344110535873424, 12.960663500527152, 15.41385528485871, 14.648189598716202, 14.279108510607672, 13.255621955701827, 15.758477077338583, 14.017388941769084, 13.652378821007748, 14.010591026060666, 14.44607819159879, 13.544735149719369, 14.274892092761524, 15.099371518141343, 14.175570255731023, 13.356028600533188, 14.362338942766698, 14.095275259539731, 14.63590410710734, 14.109523017584651, 19.88072886580532, 21.68412948879285, 19.713546307359795, 19.190818073895585, 21.468531146298147, 15.983592336203388], \"yaxis\": \"y2\"}, {\"marker\": {\"color\": \"crimson\", \"line\": {\"width\": 0}, \"opacity\": 0.8, \"size\": 6, \"symbol\": \"circle\"}, \"mode\": \"markers\", \"name\": \"1\", \"type\": \"scatter\", \"x\": [67.6536836582236, 68.88400007716326, 69.12243563578289, 68.48041876101385, 68.25733309216778, 68.96585875848139, 68.3125525211013, 68.31750424432545, 68.04433403961397, 67.09201423528506, 68.00350999881304, 67.91203340697217, 68.13618965501257, 68.48608104474985, 67.64023611981844, 68.53225308897012, 68.11768283090677, 69.67926377386179, 67.44548305715738, 68.55129854161333, 67.13533813128197, 68.86208641727437, 68.3595548597416, 67.26501034758424, 68.48529086748412, 67.65165309246355, 67.12634019346602, 68.76316391298114, 68.0766885534856, 67.60352058775139, 69.12423484043065, 68.10751625144428, 68.78321071679203, 69.00564165776207, 68.08034465019556, 69.2355147667079, 67.96569004391377, 68.17970590989262, 68.9559344674049, 68.536301368247], \"xaxis\": \"x2\", \"y\": [-1.953453164653643, -2.4116833611990924, -1.3384999016077144, -1.7268001472224477, -1.4766706691109266, -1.804199909737303, -2.367099206606988, -0.9743828552558325, -2.476520988594173, -2.0993822688533728, -1.5827864481750213, -2.110843804086348, -1.3233337102530836, -1.7883432678538485, -1.3400707489193944, -1.4140647440915617, -1.9942146252147284, -1.2665720019759965, -0.2604508315966764, -0.7519759857436675, -1.430818380078661, -1.4453710110481077, -1.9568700556155556, -1.0583555926454653, -1.6971629954828664, -0.798224028726669, -0.6563022304197357, -2.0732070410458165, -1.3371329460948111, -2.092755532422247, -1.0989333377498338, -1.4212864586138987, -1.7426123791096881, -1.3575810243438495, -1.8477982172258118, -1.0548746348399325, -1.1324955420629244, 0.06115822747911224, -1.067436048026103, -1.2293370125988188], \"yaxis\": \"y2\"}, {\"marker\": {\"color\": \"darkorange\", \"line\": {\"width\": 0}, \"opacity\": 0.8, \"size\": 6, \"symbol\": \"circle\"}, \"mode\": \"markers\", \"name\": \"2\", \"type\": \"scatter\", \"x\": [-34.27321845773529, -33.69863913984631, -33.56245727722324, -34.22759103500851, -34.576975929537284, -35.83006283343574, -33.959608882256816, -33.3956475123559, -33.70549922660188, -35.01528168084917, -34.68756697790666, -34.34737437394637, -33.569021485783864, -35.22842992019599, -34.631613729084904, -35.071411205968055, -34.79093415017454, -35.25568105969022, -35.32212029178282, -35.46942391024551], \"xaxis\": \"x2\", \"y\": [-48.152963821791545, -48.995983192319606, -47.10108540652825, -45.957302364928424, -47.888697112798326, -50.07011150041718, -49.19580549571403, -47.66177444412008, -45.693664852062604, -47.33252977779955, -48.072975114479654, -47.57758635764012, -47.98432101995432, -48.912472963470485, -46.09734705116224, -48.536527629047775, -49.255590166104845, -46.64209584018771, -50.1610986358454, -47.43474792414081], \"yaxis\": \"y2\"}, {\"marker\": {\"color\": \"darkblue\", \"line\": {\"width\": 0}, \"opacity\": 0.8, \"size\": 6, \"symbol\": \"circle\"}, \"mode\": \"markers\", \"name\": \"3\", \"type\": \"scatter\", \"x\": [47.390298665826016, 28.55508184081537, 33.434642152930884, 24.59939157780199, 19.74992061623195], \"xaxis\": \"x2\", \"y\": [1.574162152009604, -5.097758309366264, -7.5642045652732115, 15.868675684093587, -16.27695815055519], \"yaxis\": \"y2\"}, {\"marker\": {\"color\": \"darkcyan\", \"line\": {\"width\": 0}, \"opacity\": 0.8, \"size\": 6, \"symbol\": \"circle\"}, \"mode\": \"markers\", \"name\": \"4\", \"type\": \"scatter\", \"x\": [20.32307919546355, 12.703367026810346, 12.541946219595971, 28.32827967260548], \"xaxis\": \"x2\", \"y\": [28.76971873189159, 46.88614757529181, 30.895457526541893, 30.72353340019164], \"yaxis\": \"y2\"}, {\"marker\": {\"color\": \"darkgoldenrod\", \"line\": {\"width\": 0}, \"opacity\": 0.8, \"size\": 6, \"symbol\": \"circle\"}, \"mode\": \"markers\", \"name\": \"5\", \"type\": \"scatter\", \"x\": [0.9392790362596056, -8.32492870619595, -6.001117505245767, 0.47267559047098917], \"xaxis\": \"x2\", \"y\": [12.109253062820363, 7.601132400075252, 20.59543880267221, 31.244297636313], \"yaxis\": \"y2\"}, {\"marker\": {\"color\": \"darkgray\", \"line\": {\"width\": 0}, \"opacity\": 0.8, \"size\": 6, \"symbol\": \"circle\"}, \"mode\": \"markers\", \"name\": \"6\", \"type\": \"scatter\", \"x\": [31.003116421106437], \"xaxis\": \"x2\", \"y\": [10.021170852887828], \"yaxis\": \"y2\"}, {\"marker\": {\"color\": \"darkgrey\", \"line\": {\"width\": 0}, \"opacity\": 0.8, \"size\": 6, \"symbol\": \"circle\"}, \"mode\": \"markers\", \"name\": \"7\", \"type\": \"scatter\", \"x\": [24.04247205252791], \"xaxis\": \"x2\", \"y\": [65.65985952046586], \"yaxis\": \"y2\"}, {\"marker\": {\"color\": \"darkgreen\", \"line\": {\"width\": 0}, \"opacity\": 0.8, \"size\": 6, \"symbol\": \"circle\"}, \"mode\": \"markers\", \"name\": \"8\", \"type\": \"scatter\", \"x\": [7.83664802133827], \"xaxis\": \"x2\", \"y\": [56.48989567492003], \"yaxis\": \"y2\"}, {\"marker\": {\"color\": \"darkkhaki\", \"line\": {\"width\": 0}, \"opacity\": 0.8, \"size\": 6, \"symbol\": \"circle\"}, \"mode\": \"markers\", \"name\": \"9\", \"type\": \"scatter\", \"x\": [3.732601399048257, -19.299186883130826], \"xaxis\": \"x2\", \"y\": [-0.7326454732954557, 2.3717644241787075], \"yaxis\": \"y2\"}, {\"marker\": {\"color\": \"darkmagenta\", \"line\": {\"width\": 0}, \"opacity\": 0.8, \"size\": 6, \"symbol\": \"circle\"}, \"mode\": \"markers\", \"name\": \"10\", \"type\": \"scatter\", \"x\": [11.543044309001804, -12.78086602436898], \"xaxis\": \"x2\", \"y\": [-26.845352584710334, -25.085713719640854], \"yaxis\": \"y2\"}, {\"marker\": {\"color\": \"darkolivegreen\", \"line\": {\"width\": 0}, \"opacity\": 0.8, \"size\": 6, \"symbol\": \"circle\"}, \"mode\": \"markers\", \"name\": \"11\", \"type\": \"scatter\", \"x\": [-19.65567402567082], \"xaxis\": \"x2\", \"y\": [-19.50100958300941], \"yaxis\": \"y2\"}, {\"marker\": {\"color\": \"darkorange\", \"line\": {\"width\": 0}, \"opacity\": 0.8, \"size\": 6, \"symbol\": \"circle\"}, \"mode\": \"markers\", \"name\": \"12\", \"type\": \"scatter\", \"x\": [-22.346424900489193], \"xaxis\": \"x2\", \"y\": [10.414109262322292], \"yaxis\": \"y2\"}, {\"marker\": {\"color\": \"darkorchid\", \"line\": {\"width\": 0}, \"opacity\": 0.8, \"size\": 6, \"symbol\": \"circle\"}, \"mode\": \"markers\", \"name\": \"13\", \"type\": \"scatter\", \"x\": [-10.26216894644254, -31.589413810082487], \"xaxis\": \"x2\", \"y\": [31.366160532716254, 37.847038083095185], \"yaxis\": \"y2\"}, {\"marker\": {\"color\": [0.0, 0.0, 0.0, 0.0, 0.0, 0.0, 0.0, 0.0, 0.0, 0.0, 0.0, 0.0, 0.0, 0.0, 0.0, 0.0, 0.0, 0.0, 0.0, 0.0, 0.0, 0.0, 0.0, 0.0, 0.0, 0.0, 0.0, 0.0, 0.0, 0.0, 0.0, 0.0, 0.0, 0.0, 0.0, 0.0, 0.0, 0.0, 0.0, 0.0, 0.0, 0.0, 0.0, 0.0, 0.0, 0.0, 0.0, 0.0, 0.0, 0.0, 0.0, 0.0, 0.0, 0.0, 0.0, 0.0, 0.0, 0.0, 0.0, 0.0, 0.5163163525731466, 0.5217200969520149, 0.5565728173938975, 0.4909168541371358, 0.5080083934838104, 0.4941432586899388, 0.49879419801020825, 0.5043705155970069, 0.5209720538237772, 0.4917615286089459, 0.5204106079776966, 0.48869588355072124, 0.5656048795937726, 0.4947928535807403, 0.48534762681393095, 0.5252230223202453, 0.5142737760406381, 0.5112085985167103, 0.5094167295258729, 0.5025698605293423, 0.5130418132432569, 0.5678817428341806, 0.517611187729964, 0.5057970303605824, 0.5334559048335773, 0.4860746578487587, 0.5018258168530265, 0.4969721427697356, 0.5142952080239276, 0.4768542895722943, 0.5302661427461459, 0.5602002974087578, 0.533202334576849, 0.47272712163099784, 0.4927195908007744, 0.5324242687519318, 0.49274294564845095, 0.5367877704641074, 0.5146129405082265, 0.4583326735582158, 0.0, 0.0, 0.1770982388184662, 0.049211309952566736, 0.0, 0.005858012608798399, 0.0, 0.03220856489787215, 0.28008158250298065, 0.0, 0.04574729851351161, 7.870751761974322e-64, 0.2225943549927085, 0.09550132801934846, 0.2819778445328773, 0.21879455626179728, 0.18947134111424238, 0.0, 0.0, 0.11092768127532159, 0.08348878884651643, 0.0, 0.08137260366467577, 0.11015801983190215, 0.0, 0.043982336786074876, 0.07643679727071068, 0.06248060737075493, 0.13351767819792937, 0.0523994695038935], \"colorscale\": [[0.0, \"#440154\"], [0.1111111111111111, \"#482878\"], [0.2222222222222222, \"#3e4989\"], [0.3333333333333333, \"#31688e\"], [0.4444444444444444, \"#26828e\"], [0.5555555555555556, \"#1f9e89\"], [0.6666666666666666, \"#35b779\"], [0.7777777777777778, \"#6ece58\"], [0.8888888888888888, \"#b5de2b\"], [1.0, \"#fde725\"]], \"line\": {\"width\": 0}, \"opacity\": 0.6, \"size\": 6, \"symbol\": \"circle\"}, \"mode\": \"markers\", \"type\": \"scatter\", \"x\": [-50.92965511064042, -50.122695213073676, -51.791426317184055, -50.18922768457569, -50.82759090431227, -51.431930579008736, -51.27860532540107, -51.60602555348463, -49.25236735037775, -50.66865320309655, -50.85386608224834, -49.349097084270014, -50.92844980158951, -51.47486700420786, -51.25734436859378, -50.618963036382084, -51.78893540331893, -51.21552770321487, -50.082010572336635, -51.301949450664424, -51.48833499997004, -51.574070932606034, -50.14254574831566, -50.279985329312886, -50.72269974747976, -49.987337619613136, -50.05731891437396, -50.80441240935232, -49.39402480602693, -51.83476210865233, -52.3064714277239, -51.13010633275694, -50.59704460494185, -51.598643970606304, -51.50589574188524, -51.8212381499601, -50.67749311301716, -51.18857335071394, -50.16547789591155, -50.71520274913881, -34.27321845773529, -33.69863913984631, -33.56245727722324, -34.22759103500851, -34.576975929537284, -35.83006283343574, -33.959608882256816, -33.3956475123559, -33.70549922660188, -35.01528168084917, -34.68756697790666, -34.34737437394637, -33.569021485783864, -35.22842992019599, -34.631613729084904, -35.071411205968055, -34.79093415017454, -35.25568105969022, -35.32212029178282, -35.46942391024551, 67.6536836582236, 68.88400007716326, 69.12243563578289, 68.48041876101385, 68.25733309216778, 68.96585875848139, 68.3125525211013, 68.31750424432545, 68.04433403961397, 67.09201423528506, 68.00350999881304, 67.91203340697217, 68.13618965501257, 68.48608104474985, 67.64023611981844, 68.53225308897012, 68.11768283090677, 69.67926377386179, 67.44548305715738, 68.55129854161333, 67.13533813128197, 68.86208641727437, 68.3595548597416, 67.26501034758424, 68.48529086748412, 67.65165309246355, 67.12634019346602, 68.76316391298114, 68.0766885534856, 67.60352058775139, 69.12423484043065, 68.10751625144428, 68.78321071679203, 69.00564165776207, 68.08034465019556, 69.2355147667079, 67.96569004391377, 68.17970590989262, 68.9559344674049, 68.536301368247, 20.32307919546355, 0.9392790362596056, 11.543044309001804, 31.003116421106437, -19.65567402567082, 12.703367026810346, 12.541946219595971, 28.32827967260548, 47.390298665826016, 24.04247205252791, 7.83664802133827, -8.32492870619595, 28.55508184081537, -12.78086602436898, 33.434642152930884, 24.59939157780199, 19.74992061623195, -6.001117505245767, -22.346424900489193, 3.732601399048257, -10.26216894644254, 0.47267559047098917, -19.299186883130826, -23.264189082557806, -31.589413810082487, -36.70494300843521, -30.72003151356544, -38.0999285435935, -15.245207877841798, -38.259284367584065], \"xaxis\": \"x3\", \"y\": [-15.270437853719757, -15.337294726205668, -15.577040634458767, -14.335443171870677, -14.782022603325602, -15.548752601186749, -13.392152325295552, -15.739198406950713, -14.217180540586417, -14.270358876212814, -14.346372816620269, -14.615930063372236, -13.523948708986897, -15.997203436209224, -15.024713084732639, -14.322962106346298, -14.698860318061465, -15.401126172523425, -15.059683523062617, -14.53486413978672, -14.287322994035485, -15.231850921007878, -15.898294461038974, -15.224146824876863, -13.959060701824038, -14.513248345952018, -15.063689753109454, -14.606513588805784, -15.57568718031413, -15.160073846374223, -14.642999009002343, -16.15642475684009, -15.305612095848371, -14.650802195087214, -15.72008472149938, -14.563776349916907, -14.078165623252607, -16.34123367780726, -13.964079491683473, -13.805345755680909, 16.034914069539496, 16.52261012134995, 15.702228854396049, 15.068916650951493, 15.335865623588086, 14.985035489045442, 15.87785948418189, 15.614888398158719, 17.69719689506331, 15.756310731251347, 15.026765176802652, 16.357613499948247, 16.048906747503036, 16.163667364388164, 14.441290626209467, 16.44707904114969, 16.03767430458797, 15.495181824460845, 15.766925270235907, 15.696427035044094, -10.429599018701085, -10.924814920460127, -11.971209013141623, -11.324547722989704, -9.387550726751906, -11.509698261117109, -11.87150395604209, -11.069719191432378, -10.04268254294829, -11.5985700725781, -10.835272711270798, -11.56594004732113, -11.67556386638509, -10.643099832960484, -11.214142030398419, -10.843123581301661, -11.095899776572601, -10.950119871235158, -10.675622085992584, -11.294083271289491, -10.530946522223545, -11.35891799160636, -10.24309580883009, -11.243816137912134, -11.41646278941523, -10.992812211091234, -10.657053618403362, -10.346624163377365, -10.972944412147129, -10.465211832588254, -11.038399049755073, -10.377194460547294, -12.01329000356691, -10.823638708537109, -11.465443072358205, -11.714129862385553, -11.20232122124892, -10.960599180514343, -11.24590831817909, -10.789017372157694, 92.5778344369724, 66.81947931521418, 2.5400108051286736, 81.09688566723175, 39.0616678427682, 75.26383947190726, 83.68946500044882, 95.47082668144907, -11.068962444640375, 92.11771099881057, 35.95157582177658, 55.71677525372854, -9.611425492448927, -1.503519904892699, -8.33230761277498, -17.00548143140015, -4.480578197486477, 55.4486476486469, 25.15429227879053, 4.934167036347174, -7.4923460047666115, 68.02149943303405, -10.38294452484463, -20.094144974044855, 15.702040390497844, -9.797055045381637, -16.900060823008882, -16.665067795083672, -20.65793339368597, -16.12770000494191], \"yaxis\": \"y3\"}, {\"marker\": {\"color\": [0.0, 0.0, 0.0, 0.0, 0.0, 0.0, 0.0, 0.0, 0.0, 0.0, 0.0, 0.0, 0.0, 0.0, 0.0, 0.0, 0.0, 0.0, 0.0, 0.0, 0.0, 0.0, 0.0, 0.0, 0.0, 0.0, 0.0, 0.0, 0.0, 0.0, 0.0, 0.0, 0.0, 0.0, 0.0, 0.0, 0.0, 0.0, 0.0, 0.0, 0.0, 0.0, 0.0, 0.0, 0.0, 0.0, 0.0, 0.0, 0.0, 0.0, 0.0, 0.0, 0.0, 0.0, 0.0, 0.0, 0.0, 0.0, 0.0, 0.0, 0.5163163525731466, 0.5217200969520149, 0.5565728173938975, 0.4909168541371358, 0.5080083934838104, 0.4941432586899388, 0.49879419801020825, 0.5043705155970069, 0.5209720538237772, 0.4917615286089459, 0.5204106079776966, 0.48869588355072124, 0.5656048795937726, 0.4947928535807403, 0.48534762681393095, 0.5252230223202453, 0.5142737760406381, 0.5112085985167103, 0.5094167295258729, 0.5025698605293423, 0.5130418132432569, 0.5678817428341806, 0.517611187729964, 0.5057970303605824, 0.5334559048335773, 0.4860746578487587, 0.5018258168530265, 0.4969721427697356, 0.5142952080239276, 0.4768542895722943, 0.5302661427461459, 0.5602002974087578, 0.533202334576849, 0.47272712163099784, 0.4927195908007744, 0.5324242687519318, 0.49274294564845095, 0.5367877704641074, 0.5146129405082265, 0.4583326735582158, 0.0, 0.0, 0.1770982388184662, 0.049211309952566736, 0.0, 0.005858012608798399, 0.0, 0.03220856489787215, 0.28008158250298065, 0.0, 0.04574729851351161, 7.870751761974322e-64, 0.2225943549927085, 0.09550132801934846, 0.2819778445328773, 0.21879455626179728, 0.18947134111424238, 0.0, 0.0, 0.11092768127532159, 0.08348878884651643, 0.0, 0.08137260366467577, 0.11015801983190215, 0.0, 0.043982336786074876, 0.07643679727071068, 0.06248060737075493, 0.13351767819792937, 0.0523994695038935], \"colorscale\": [[0.0, \"#440154\"], [0.1111111111111111, \"#482878\"], [0.2222222222222222, \"#3e4989\"], [0.3333333333333333, \"#31688e\"], [0.4444444444444444, \"#26828e\"], [0.5555555555555556, \"#1f9e89\"], [0.6666666666666666, \"#35b779\"], [0.7777777777777778, \"#6ece58\"], [0.8888888888888888, \"#b5de2b\"], [1.0, \"#fde725\"]], \"line\": {\"width\": 0}, \"opacity\": 0.6, \"size\": 6, \"symbol\": \"circle\"}, \"mode\": \"markers\", \"type\": \"scatter\", \"x\": [-50.92965511064042, -50.122695213073676, -51.791426317184055, -50.18922768457569, -50.82759090431227, -51.431930579008736, -51.27860532540107, -51.60602555348463, -49.25236735037775, -50.66865320309655, -50.85386608224834, -49.349097084270014, -50.92844980158951, -51.47486700420786, -51.25734436859378, -50.618963036382084, -51.78893540331893, -51.21552770321487, -50.082010572336635, -51.301949450664424, -51.48833499997004, -51.574070932606034, -50.14254574831566, -50.279985329312886, -50.72269974747976, -49.987337619613136, -50.05731891437396, -50.80441240935232, -49.39402480602693, -51.83476210865233, -52.3064714277239, -51.13010633275694, -50.59704460494185, -51.598643970606304, -51.50589574188524, -51.8212381499601, -50.67749311301716, -51.18857335071394, -50.16547789591155, -50.71520274913881, -34.27321845773529, -33.69863913984631, -33.56245727722324, -34.22759103500851, -34.576975929537284, -35.83006283343574, -33.959608882256816, -33.3956475123559, -33.70549922660188, -35.01528168084917, -34.68756697790666, -34.34737437394637, -33.569021485783864, -35.22842992019599, -34.631613729084904, -35.071411205968055, -34.79093415017454, -35.25568105969022, -35.32212029178282, -35.46942391024551, 67.6536836582236, 68.88400007716326, 69.12243563578289, 68.48041876101385, 68.25733309216778, 68.96585875848139, 68.3125525211013, 68.31750424432545, 68.04433403961397, 67.09201423528506, 68.00350999881304, 67.91203340697217, 68.13618965501257, 68.48608104474985, 67.64023611981844, 68.53225308897012, 68.11768283090677, 69.67926377386179, 67.44548305715738, 68.55129854161333, 67.13533813128197, 68.86208641727437, 68.3595548597416, 67.26501034758424, 68.48529086748412, 67.65165309246355, 67.12634019346602, 68.76316391298114, 68.0766885534856, 67.60352058775139, 69.12423484043065, 68.10751625144428, 68.78321071679203, 69.00564165776207, 68.08034465019556, 69.2355147667079, 67.96569004391377, 68.17970590989262, 68.9559344674049, 68.536301368247, 20.32307919546355, 0.9392790362596056, 11.543044309001804, 31.003116421106437, -19.65567402567082, 12.703367026810346, 12.541946219595971, 28.32827967260548, 47.390298665826016, 24.04247205252791, 7.83664802133827, -8.32492870619595, 28.55508184081537, -12.78086602436898, 33.434642152930884, 24.59939157780199, 19.74992061623195, -6.001117505245767, -22.346424900489193, 3.732601399048257, -10.26216894644254, 0.47267559047098917, -19.299186883130826, -23.264189082557806, -31.589413810082487, -36.70494300843521, -30.72003151356544, -38.0999285435935, -15.245207877841798, -38.259284367584065], \"xaxis\": \"x4\", \"y\": [13.63813527701303, 14.469623947151883, 14.493232576595691, 13.775363024916388, 14.003103483016512, 13.687491362761046, 14.423041639385156, 14.01677074430146, 14.403803901189313, 13.08330955949845, 13.98778119188632, 13.520319225497405, 12.982373100143445, 13.096966774260958, 13.5367947919723, 14.846973917078348, 13.60006485608552, 14.008713039212354, 13.227133233569996, 14.126808363464727, 13.344110535873424, 12.960663500527152, 15.41385528485871, 14.648189598716202, 14.279108510607672, 13.255621955701827, 15.758477077338583, 14.017388941769084, 13.652378821007748, 14.010591026060666, 14.44607819159879, 13.544735149719369, 14.274892092761524, 15.099371518141343, 14.175570255731023, 13.356028600533188, 14.362338942766698, 14.095275259539731, 14.63590410710734, 14.109523017584651, -48.152963821791545, -48.995983192319606, -47.10108540652825, -45.957302364928424, -47.888697112798326, -50.07011150041718, -49.19580549571403, -47.66177444412008, -45.693664852062604, -47.33252977779955, -48.072975114479654, -47.57758635764012, -47.98432101995432, -48.912472963470485, -46.09734705116224, -48.536527629047775, -49.255590166104845, -46.64209584018771, -50.1610986358454, -47.43474792414081, -1.953453164653643, -2.4116833611990924, -1.3384999016077144, -1.7268001472224477, -1.4766706691109266, -1.804199909737303, -2.367099206606988, -0.9743828552558325, -2.476520988594173, -2.0993822688533728, -1.5827864481750213, -2.110843804086348, -1.3233337102530836, -1.7883432678538485, -1.3400707489193944, -1.4140647440915617, -1.9942146252147284, -1.2665720019759965, -0.2604508315966764, -0.7519759857436675, -1.430818380078661, -1.4453710110481077, -1.9568700556155556, -1.0583555926454653, -1.6971629954828664, -0.798224028726669, -0.6563022304197357, -2.0732070410458165, -1.3371329460948111, -2.092755532422247, -1.0989333377498338, -1.4212864586138987, -1.7426123791096881, -1.3575810243438495, -1.8477982172258118, -1.0548746348399325, -1.1324955420629244, 0.06115822747911224, -1.067436048026103, -1.2293370125988188, 28.76971873189159, 12.109253062820363, -26.845352584710334, 10.021170852887828, -19.50100958300941, 46.88614757529181, 30.895457526541893, 30.72353340019164, 1.574162152009604, 65.65985952046586, 56.48989567492003, 7.601132400075252, -5.097758309366264, -25.085713719640854, -7.5642045652732115, 15.868675684093587, -16.27695815055519, 20.59543880267221, 10.414109262322292, -0.7326454732954557, 31.366160532716254, 31.244297636313, 2.3717644241787075, 19.88072886580532, 37.847038083095185, 21.68412948879285, 19.713546307359795, 19.190818073895585, 21.468531146298147, 15.983592336203388], \"yaxis\": \"y4\"}, {\"marker\": {\"color\": [0.3533820966280512, 0.32259865199392634, 0.40542508463016785, 0.44203334912610953, 0.37431060636429386, 0.3688782058415862, 0.46132962202564703, 0.39641773051697543, 0.33811718819977643, 0.39377970454148437, 0.3874072077369552, 0.4318090818614851, 0.35028766785265275, 0.35937178059271796, 0.3548992389348686, 0.36299275203121034, 0.4391575224385255, 0.2800520323003093, 0.39415628036132194, 0.36741886626322295, 0.37318201388805766, 0.41220252889220893, 0.3647396809819504, 0.31592281263850475, 0.37723187404001274, 0.38961957421939225, 0.31266511693712695, 0.31970280012295743, 0.3903467233030561, 0.323883500229141, 0.3790016181490497, 0.28570173048651326, 0.3115588825888309, 0.3307138581566997, 0.3339893022056428, 0.3729736753138765, 0.4596883650708332, 0.3958729490239905, 0.34975829625262195, 0.35794074967680944, 0.3707750895708648, 0.36130478803931015, 0.3794347595982485, 0.35508456399236044, 0.4208288484330344, 0.3535753105799637, 0.31631602064193026, 0.3999953744381381, 0.42750727752757933, 0.40018029014353496, 0.3586588271060521, 0.4185331965700497, 0.41424941862601694, 0.3123168868086202, 0.35364991571040294, 0.3841531533834834, 0.40838536269198245, 0.3555922998222522, 0.36528397566786786, 0.37263593404274875, 0.0, 0.0, 0.0, 0.0, 0.0, 0.0, 0.0, 0.0, 0.0, 0.0, 0.0, 0.0, 0.0, 0.0, 0.0, 0.0, 0.0, 0.0, 0.0, 0.0, 0.0, 0.0, 0.0, 0.0, 0.0, 0.0, 0.0, 0.0, 0.0, 0.0, 0.0, 0.0, 0.0, 0.0, 0.0, 0.0, 0.0, 0.0, 0.0, 0.0, 0.019849583372177248, 0.0785697467422596, 0.0868740788959418, 0.005326196975945361, 0.1646674672599931, 0.04349999792219896, 0.02122937061285726, 0.020443925713308022, 0.042233214936802585, 1.565816809524247e-100, 0.05360564956234736, 0.09223942577665198, 0.04775048462082237, 0.17125525053221977, 0.032916806719088136, 0.06839662440816098, 0.10981235724503692, 0.048265194267502816, 0.15239390477876966, 0.10699582668746724, 0.06177521603276423, 0.03449286629438147, 0.13904471418074693, 0.30536523912523045, 0.1627752703107167, 0.2445305389799, 0.2183202592143139, 0.30830863365110955, 0.28846370625546736, 0.312712376994199], \"colorscale\": [[0.0, \"#440154\"], [0.1111111111111111, \"#482878\"], [0.2222222222222222, \"#3e4989\"], [0.3333333333333333, \"#31688e\"], [0.4444444444444444, \"#26828e\"], [0.5555555555555556, \"#1f9e89\"], [0.6666666666666666, \"#35b779\"], [0.7777777777777778, \"#6ece58\"], [0.8888888888888888, \"#b5de2b\"], [1.0, \"#fde725\"]], \"line\": {\"width\": 0}, \"opacity\": 0.6, \"size\": 6, \"symbol\": \"circle\"}, \"mode\": \"markers\", \"type\": \"scatter\", \"x\": [-50.92965511064042, -50.122695213073676, -51.791426317184055, -50.18922768457569, -50.82759090431227, -51.431930579008736, -51.27860532540107, -51.60602555348463, -49.25236735037775, -50.66865320309655, -50.85386608224834, -49.349097084270014, -50.92844980158951, -51.47486700420786, -51.25734436859378, -50.618963036382084, -51.78893540331893, -51.21552770321487, -50.082010572336635, -51.301949450664424, -51.48833499997004, -51.574070932606034, -50.14254574831566, -50.279985329312886, -50.72269974747976, -49.987337619613136, -50.05731891437396, -50.80441240935232, -49.39402480602693, -51.83476210865233, -52.3064714277239, -51.13010633275694, -50.59704460494185, -51.598643970606304, -51.50589574188524, -51.8212381499601, -50.67749311301716, -51.18857335071394, -50.16547789591155, -50.71520274913881, -34.27321845773529, -33.69863913984631, -33.56245727722324, -34.22759103500851, -34.576975929537284, -35.83006283343574, -33.959608882256816, -33.3956475123559, -33.70549922660188, -35.01528168084917, -34.68756697790666, -34.34737437394637, -33.569021485783864, -35.22842992019599, -34.631613729084904, -35.071411205968055, -34.79093415017454, -35.25568105969022, -35.32212029178282, -35.46942391024551, 67.6536836582236, 68.88400007716326, 69.12243563578289, 68.48041876101385, 68.25733309216778, 68.96585875848139, 68.3125525211013, 68.31750424432545, 68.04433403961397, 67.09201423528506, 68.00350999881304, 67.91203340697217, 68.13618965501257, 68.48608104474985, 67.64023611981844, 68.53225308897012, 68.11768283090677, 69.67926377386179, 67.44548305715738, 68.55129854161333, 67.13533813128197, 68.86208641727437, 68.3595548597416, 67.26501034758424, 68.48529086748412, 67.65165309246355, 67.12634019346602, 68.76316391298114, 68.0766885534856, 67.60352058775139, 69.12423484043065, 68.10751625144428, 68.78321071679203, 69.00564165776207, 68.08034465019556, 69.2355147667079, 67.96569004391377, 68.17970590989262, 68.9559344674049, 68.536301368247, 20.32307919546355, 0.9392790362596056, 11.543044309001804, 31.003116421106437, -19.65567402567082, 12.703367026810346, 12.541946219595971, 28.32827967260548, 47.390298665826016, 24.04247205252791, 7.83664802133827, -8.32492870619595, 28.55508184081537, -12.78086602436898, 33.434642152930884, 24.59939157780199, 19.74992061623195, -6.001117505245767, -22.346424900489193, 3.732601399048257, -10.26216894644254, 0.47267559047098917, -19.299186883130826, -23.264189082557806, -31.589413810082487, -36.70494300843521, -30.72003151356544, -38.0999285435935, -15.245207877841798, -38.259284367584065], \"xaxis\": \"x5\", \"y\": [-15.270437853719757, -15.337294726205668, -15.577040634458767, -14.335443171870677, -14.782022603325602, -15.548752601186749, -13.392152325295552, -15.739198406950713, -14.217180540586417, -14.270358876212814, -14.346372816620269, -14.615930063372236, -13.523948708986897, -15.997203436209224, -15.024713084732639, -14.322962106346298, -14.698860318061465, -15.401126172523425, -15.059683523062617, -14.53486413978672, -14.287322994035485, -15.231850921007878, -15.898294461038974, -15.224146824876863, -13.959060701824038, -14.513248345952018, -15.063689753109454, -14.606513588805784, -15.57568718031413, -15.160073846374223, -14.642999009002343, -16.15642475684009, -15.305612095848371, -14.650802195087214, -15.72008472149938, -14.563776349916907, -14.078165623252607, -16.34123367780726, -13.964079491683473, -13.805345755680909, 16.034914069539496, 16.52261012134995, 15.702228854396049, 15.068916650951493, 15.335865623588086, 14.985035489045442, 15.87785948418189, 15.614888398158719, 17.69719689506331, 15.756310731251347, 15.026765176802652, 16.357613499948247, 16.048906747503036, 16.163667364388164, 14.441290626209467, 16.44707904114969, 16.03767430458797, 15.495181824460845, 15.766925270235907, 15.696427035044094, -10.429599018701085, -10.924814920460127, -11.971209013141623, -11.324547722989704, -9.387550726751906, -11.509698261117109, -11.87150395604209, -11.069719191432378, -10.04268254294829, -11.5985700725781, -10.835272711270798, -11.56594004732113, -11.67556386638509, -10.643099832960484, -11.214142030398419, -10.843123581301661, -11.095899776572601, -10.950119871235158, -10.675622085992584, -11.294083271289491, -10.530946522223545, -11.35891799160636, -10.24309580883009, -11.243816137912134, -11.41646278941523, -10.992812211091234, -10.657053618403362, -10.346624163377365, -10.972944412147129, -10.465211832588254, -11.038399049755073, -10.377194460547294, -12.01329000356691, -10.823638708537109, -11.465443072358205, -11.714129862385553, -11.20232122124892, -10.960599180514343, -11.24590831817909, -10.789017372157694, 92.5778344369724, 66.81947931521418, 2.5400108051286736, 81.09688566723175, 39.0616678427682, 75.26383947190726, 83.68946500044882, 95.47082668144907, -11.068962444640375, 92.11771099881057, 35.95157582177658, 55.71677525372854, -9.611425492448927, -1.503519904892699, -8.33230761277498, -17.00548143140015, -4.480578197486477, 55.4486476486469, 25.15429227879053, 4.934167036347174, -7.4923460047666115, 68.02149943303405, -10.38294452484463, -20.094144974044855, 15.702040390497844, -9.797055045381637, -16.900060823008882, -16.665067795083672, -20.65793339368597, -16.12770000494191], \"yaxis\": \"y5\"}, {\"marker\": {\"color\": [0.3533820966280512, 0.32259865199392634, 0.40542508463016785, 0.44203334912610953, 0.37431060636429386, 0.3688782058415862, 0.46132962202564703, 0.39641773051697543, 0.33811718819977643, 0.39377970454148437, 0.3874072077369552, 0.4318090818614851, 0.35028766785265275, 0.35937178059271796, 0.3548992389348686, 0.36299275203121034, 0.4391575224385255, 0.2800520323003093, 0.39415628036132194, 0.36741886626322295, 0.37318201388805766, 0.41220252889220893, 0.3647396809819504, 0.31592281263850475, 0.37723187404001274, 0.38961957421939225, 0.31266511693712695, 0.31970280012295743, 0.3903467233030561, 0.323883500229141, 0.3790016181490497, 0.28570173048651326, 0.3115588825888309, 0.3307138581566997, 0.3339893022056428, 0.3729736753138765, 0.4596883650708332, 0.3958729490239905, 0.34975829625262195, 0.35794074967680944, 0.3707750895708648, 0.36130478803931015, 0.3794347595982485, 0.35508456399236044, 0.4208288484330344, 0.3535753105799637, 0.31631602064193026, 0.3999953744381381, 0.42750727752757933, 0.40018029014353496, 0.3586588271060521, 0.4185331965700497, 0.41424941862601694, 0.3123168868086202, 0.35364991571040294, 0.3841531533834834, 0.40838536269198245, 0.3555922998222522, 0.36528397566786786, 0.37263593404274875, 0.0, 0.0, 0.0, 0.0, 0.0, 0.0, 0.0, 0.0, 0.0, 0.0, 0.0, 0.0, 0.0, 0.0, 0.0, 0.0, 0.0, 0.0, 0.0, 0.0, 0.0, 0.0, 0.0, 0.0, 0.0, 0.0, 0.0, 0.0, 0.0, 0.0, 0.0, 0.0, 0.0, 0.0, 0.0, 0.0, 0.0, 0.0, 0.0, 0.0, 0.019849583372177248, 0.0785697467422596, 0.0868740788959418, 0.005326196975945361, 0.1646674672599931, 0.04349999792219896, 0.02122937061285726, 0.020443925713308022, 0.042233214936802585, 1.565816809524247e-100, 0.05360564956234736, 0.09223942577665198, 0.04775048462082237, 0.17125525053221977, 0.032916806719088136, 0.06839662440816098, 0.10981235724503692, 0.048265194267502816, 0.15239390477876966, 0.10699582668746724, 0.06177521603276423, 0.03449286629438147, 0.13904471418074693, 0.30536523912523045, 0.1627752703107167, 0.2445305389799, 0.2183202592143139, 0.30830863365110955, 0.28846370625546736, 0.312712376994199], \"colorscale\": [[0.0, \"#440154\"], [0.1111111111111111, \"#482878\"], [0.2222222222222222, \"#3e4989\"], [0.3333333333333333, \"#31688e\"], [0.4444444444444444, \"#26828e\"], [0.5555555555555556, \"#1f9e89\"], [0.6666666666666666, \"#35b779\"], [0.7777777777777778, \"#6ece58\"], [0.8888888888888888, \"#b5de2b\"], [1.0, \"#fde725\"]], \"line\": {\"width\": 0}, \"opacity\": 0.6, \"size\": 6, \"symbol\": \"circle\"}, \"mode\": \"markers\", \"type\": \"scatter\", \"x\": [-50.92965511064042, -50.122695213073676, -51.791426317184055, -50.18922768457569, -50.82759090431227, -51.431930579008736, -51.27860532540107, -51.60602555348463, -49.25236735037775, -50.66865320309655, -50.85386608224834, -49.349097084270014, -50.92844980158951, -51.47486700420786, -51.25734436859378, -50.618963036382084, -51.78893540331893, -51.21552770321487, -50.082010572336635, -51.301949450664424, -51.48833499997004, -51.574070932606034, -50.14254574831566, -50.279985329312886, -50.72269974747976, -49.987337619613136, -50.05731891437396, -50.80441240935232, -49.39402480602693, -51.83476210865233, -52.3064714277239, -51.13010633275694, -50.59704460494185, -51.598643970606304, -51.50589574188524, -51.8212381499601, -50.67749311301716, -51.18857335071394, -50.16547789591155, -50.71520274913881, -34.27321845773529, -33.69863913984631, -33.56245727722324, -34.22759103500851, -34.576975929537284, -35.83006283343574, -33.959608882256816, -33.3956475123559, -33.70549922660188, -35.01528168084917, -34.68756697790666, -34.34737437394637, -33.569021485783864, -35.22842992019599, -34.631613729084904, -35.071411205968055, -34.79093415017454, -35.25568105969022, -35.32212029178282, -35.46942391024551, 67.6536836582236, 68.88400007716326, 69.12243563578289, 68.48041876101385, 68.25733309216778, 68.96585875848139, 68.3125525211013, 68.31750424432545, 68.04433403961397, 67.09201423528506, 68.00350999881304, 67.91203340697217, 68.13618965501257, 68.48608104474985, 67.64023611981844, 68.53225308897012, 68.11768283090677, 69.67926377386179, 67.44548305715738, 68.55129854161333, 67.13533813128197, 68.86208641727437, 68.3595548597416, 67.26501034758424, 68.48529086748412, 67.65165309246355, 67.12634019346602, 68.76316391298114, 68.0766885534856, 67.60352058775139, 69.12423484043065, 68.10751625144428, 68.78321071679203, 69.00564165776207, 68.08034465019556, 69.2355147667079, 67.96569004391377, 68.17970590989262, 68.9559344674049, 68.536301368247, 20.32307919546355, 0.9392790362596056, 11.543044309001804, 31.003116421106437, -19.65567402567082, 12.703367026810346, 12.541946219595971, 28.32827967260548, 47.390298665826016, 24.04247205252791, 7.83664802133827, -8.32492870619595, 28.55508184081537, -12.78086602436898, 33.434642152930884, 24.59939157780199, 19.74992061623195, -6.001117505245767, -22.346424900489193, 3.732601399048257, -10.26216894644254, 0.47267559047098917, -19.299186883130826, -23.264189082557806, -31.589413810082487, -36.70494300843521, -30.72003151356544, -38.0999285435935, -15.245207877841798, -38.259284367584065], \"xaxis\": \"x6\", \"y\": [13.63813527701303, 14.469623947151883, 14.493232576595691, 13.775363024916388, 14.003103483016512, 13.687491362761046, 14.423041639385156, 14.01677074430146, 14.403803901189313, 13.08330955949845, 13.98778119188632, 13.520319225497405, 12.982373100143445, 13.096966774260958, 13.5367947919723, 14.846973917078348, 13.60006485608552, 14.008713039212354, 13.227133233569996, 14.126808363464727, 13.344110535873424, 12.960663500527152, 15.41385528485871, 14.648189598716202, 14.279108510607672, 13.255621955701827, 15.758477077338583, 14.017388941769084, 13.652378821007748, 14.010591026060666, 14.44607819159879, 13.544735149719369, 14.274892092761524, 15.099371518141343, 14.175570255731023, 13.356028600533188, 14.362338942766698, 14.095275259539731, 14.63590410710734, 14.109523017584651, -48.152963821791545, -48.995983192319606, -47.10108540652825, -45.957302364928424, -47.888697112798326, -50.07011150041718, -49.19580549571403, -47.66177444412008, -45.693664852062604, -47.33252977779955, -48.072975114479654, -47.57758635764012, -47.98432101995432, -48.912472963470485, -46.09734705116224, -48.536527629047775, -49.255590166104845, -46.64209584018771, -50.1610986358454, -47.43474792414081, -1.953453164653643, -2.4116833611990924, -1.3384999016077144, -1.7268001472224477, -1.4766706691109266, -1.804199909737303, -2.367099206606988, -0.9743828552558325, -2.476520988594173, -2.0993822688533728, -1.5827864481750213, -2.110843804086348, -1.3233337102530836, -1.7883432678538485, -1.3400707489193944, -1.4140647440915617, -1.9942146252147284, -1.2665720019759965, -0.2604508315966764, -0.7519759857436675, -1.430818380078661, -1.4453710110481077, -1.9568700556155556, -1.0583555926454653, -1.6971629954828664, -0.798224028726669, -0.6563022304197357, -2.0732070410458165, -1.3371329460948111, -2.092755532422247, -1.0989333377498338, -1.4212864586138987, -1.7426123791096881, -1.3575810243438495, -1.8477982172258118, -1.0548746348399325, -1.1324955420629244, 0.06115822747911224, -1.067436048026103, -1.2293370125988188, 28.76971873189159, 12.109253062820363, -26.845352584710334, 10.021170852887828, -19.50100958300941, 46.88614757529181, 30.895457526541893, 30.72353340019164, 1.574162152009604, 65.65985952046586, 56.48989567492003, 7.601132400075252, -5.097758309366264, -25.085713719640854, -7.5642045652732115, 15.868675684093587, -16.27695815055519, 20.59543880267221, 10.414109262322292, -0.7326454732954557, 31.366160532716254, 31.244297636313, 2.3717644241787075, 19.88072886580532, 37.847038083095185, 21.68412948879285, 19.713546307359795, 19.190818073895585, 21.468531146298147, 15.983592336203388], \"yaxis\": \"y6\"}, {\"marker\": {\"color\": [0.0, 0.0, 0.0, 0.0, 0.0, 0.0, 0.0, 0.0, 0.0, 0.0, 0.0, 0.0, 0.0, 0.0, 0.0, 0.0, 0.0, 0.0, 0.0, 0.0, 0.0, 0.0, 0.0, 0.0, 0.0, 0.0, 0.0, 0.0, 0.0, 0.0, 0.0, 0.0, 0.0, 0.0, 0.0, 0.0, 0.0, 0.0, 0.0, 0.0, 0.4478807264101332, 0.5209923514893882, 0.47305135333139153, 0.38266488438602386, 0.6176415622687802, 0.44480421863950426, 0.5942662829220704, 0.673979048644018, 0.42819957167501027, 0.2896764096465842, 0.5899752843442335, 0.4457750923161495, 0.469236128728361, 0.5509712197581664, 0.4375784079468996, 0.48787598679334326, 0.4678735086193043, 0.5565348930393105, 0.42621084145194127, 0.5443343618835741, 0.0, 0.0, 0.0, 0.0, 0.0, 0.0, 0.0, 0.0, 0.0, 0.0, 0.0, 0.0, 0.0, 0.0, 0.0, 0.0, 0.0, 0.0, 0.0, 0.0, 0.0, 0.0, 0.0, 0.0, 0.0, 0.0, 0.0, 0.0, 0.0, 0.0, 0.0, 0.0, 0.0, 0.0, 0.0, 0.0, 0.0, 0.0, 0.0, 0.0, 0.06849227745961357, 0.005462137225390303, 0.16252680399100924, 0.24150387466874534, 0.16490563739449896, 0.03495266893005284, 0.0, 0.04105577377432896, 0.0, 0.0, 0.0, 0.051566827912240654, 0.0, 0.0, 0.0, 0.0, 0.0, 0.029199826112218795, 0.0, 0.0, 0.0, 0.0, 0.0, 0.0, 0.0, 0.0, 0.0, 0.0, 0.0, 0.0], \"colorscale\": [[0.0, \"#440154\"], [0.1111111111111111, \"#482878\"], [0.2222222222222222, \"#3e4989\"], [0.3333333333333333, \"#31688e\"], [0.4444444444444444, \"#26828e\"], [0.5555555555555556, \"#1f9e89\"], [0.6666666666666666, \"#35b779\"], [0.7777777777777778, \"#6ece58\"], [0.8888888888888888, \"#b5de2b\"], [1.0, \"#fde725\"]], \"line\": {\"width\": 0}, \"opacity\": 0.6, \"size\": 6, \"symbol\": \"circle\"}, \"mode\": \"markers\", \"type\": \"scatter\", \"x\": [-50.92965511064042, -50.122695213073676, -51.791426317184055, -50.18922768457569, -50.82759090431227, -51.431930579008736, -51.27860532540107, -51.60602555348463, -49.25236735037775, -50.66865320309655, -50.85386608224834, -49.349097084270014, -50.92844980158951, -51.47486700420786, -51.25734436859378, -50.618963036382084, -51.78893540331893, -51.21552770321487, -50.082010572336635, -51.301949450664424, -51.48833499997004, -51.574070932606034, -50.14254574831566, -50.279985329312886, -50.72269974747976, -49.987337619613136, -50.05731891437396, -50.80441240935232, -49.39402480602693, -51.83476210865233, -52.3064714277239, -51.13010633275694, -50.59704460494185, -51.598643970606304, -51.50589574188524, -51.8212381499601, -50.67749311301716, -51.18857335071394, -50.16547789591155, -50.71520274913881, -34.27321845773529, -33.69863913984631, -33.56245727722324, -34.22759103500851, -34.576975929537284, -35.83006283343574, -33.959608882256816, -33.3956475123559, -33.70549922660188, -35.01528168084917, -34.68756697790666, -34.34737437394637, -33.569021485783864, -35.22842992019599, -34.631613729084904, -35.071411205968055, -34.79093415017454, -35.25568105969022, -35.32212029178282, -35.46942391024551, 67.6536836582236, 68.88400007716326, 69.12243563578289, 68.48041876101385, 68.25733309216778, 68.96585875848139, 68.3125525211013, 68.31750424432545, 68.04433403961397, 67.09201423528506, 68.00350999881304, 67.91203340697217, 68.13618965501257, 68.48608104474985, 67.64023611981844, 68.53225308897012, 68.11768283090677, 69.67926377386179, 67.44548305715738, 68.55129854161333, 67.13533813128197, 68.86208641727437, 68.3595548597416, 67.26501034758424, 68.48529086748412, 67.65165309246355, 67.12634019346602, 68.76316391298114, 68.0766885534856, 67.60352058775139, 69.12423484043065, 68.10751625144428, 68.78321071679203, 69.00564165776207, 68.08034465019556, 69.2355147667079, 67.96569004391377, 68.17970590989262, 68.9559344674049, 68.536301368247, 20.32307919546355, 0.9392790362596056, 11.543044309001804, 31.003116421106437, -19.65567402567082, 12.703367026810346, 12.541946219595971, 28.32827967260548, 47.390298665826016, 24.04247205252791, 7.83664802133827, -8.32492870619595, 28.55508184081537, -12.78086602436898, 33.434642152930884, 24.59939157780199, 19.74992061623195, -6.001117505245767, -22.346424900489193, 3.732601399048257, -10.26216894644254, 0.47267559047098917, -19.299186883130826, -23.264189082557806, -31.589413810082487, -36.70494300843521, -30.72003151356544, -38.0999285435935, -15.245207877841798, -38.259284367584065], \"xaxis\": \"x7\", \"y\": [-15.270437853719757, -15.337294726205668, -15.577040634458767, -14.335443171870677, -14.782022603325602, -15.548752601186749, -13.392152325295552, -15.739198406950713, -14.217180540586417, -14.270358876212814, -14.346372816620269, -14.615930063372236, -13.523948708986897, -15.997203436209224, -15.024713084732639, -14.322962106346298, -14.698860318061465, -15.401126172523425, -15.059683523062617, -14.53486413978672, -14.287322994035485, -15.231850921007878, -15.898294461038974, -15.224146824876863, -13.959060701824038, -14.513248345952018, -15.063689753109454, -14.606513588805784, -15.57568718031413, -15.160073846374223, -14.642999009002343, -16.15642475684009, -15.305612095848371, -14.650802195087214, -15.72008472149938, -14.563776349916907, -14.078165623252607, -16.34123367780726, -13.964079491683473, -13.805345755680909, 16.034914069539496, 16.52261012134995, 15.702228854396049, 15.068916650951493, 15.335865623588086, 14.985035489045442, 15.87785948418189, 15.614888398158719, 17.69719689506331, 15.756310731251347, 15.026765176802652, 16.357613499948247, 16.048906747503036, 16.163667364388164, 14.441290626209467, 16.44707904114969, 16.03767430458797, 15.495181824460845, 15.766925270235907, 15.696427035044094, -10.429599018701085, -10.924814920460127, -11.971209013141623, -11.324547722989704, -9.387550726751906, -11.509698261117109, -11.87150395604209, -11.069719191432378, -10.04268254294829, -11.5985700725781, -10.835272711270798, -11.56594004732113, -11.67556386638509, -10.643099832960484, -11.214142030398419, -10.843123581301661, -11.095899776572601, -10.950119871235158, -10.675622085992584, -11.294083271289491, -10.530946522223545, -11.35891799160636, -10.24309580883009, -11.243816137912134, -11.41646278941523, -10.992812211091234, -10.657053618403362, -10.346624163377365, -10.972944412147129, -10.465211832588254, -11.038399049755073, -10.377194460547294, -12.01329000356691, -10.823638708537109, -11.465443072358205, -11.714129862385553, -11.20232122124892, -10.960599180514343, -11.24590831817909, -10.789017372157694, 92.5778344369724, 66.81947931521418, 2.5400108051286736, 81.09688566723175, 39.0616678427682, 75.26383947190726, 83.68946500044882, 95.47082668144907, -11.068962444640375, 92.11771099881057, 35.95157582177658, 55.71677525372854, -9.611425492448927, -1.503519904892699, -8.33230761277498, -17.00548143140015, -4.480578197486477, 55.4486476486469, 25.15429227879053, 4.934167036347174, -7.4923460047666115, 68.02149943303405, -10.38294452484463, -20.094144974044855, 15.702040390497844, -9.797055045381637, -16.900060823008882, -16.665067795083672, -20.65793339368597, -16.12770000494191], \"yaxis\": \"y7\"}, {\"marker\": {\"color\": [0.0, 0.0, 0.0, 0.0, 0.0, 0.0, 0.0, 0.0, 0.0, 0.0, 0.0, 0.0, 0.0, 0.0, 0.0, 0.0, 0.0, 0.0, 0.0, 0.0, 0.0, 0.0, 0.0, 0.0, 0.0, 0.0, 0.0, 0.0, 0.0, 0.0, 0.0, 0.0, 0.0, 0.0, 0.0, 0.0, 0.0, 0.0, 0.0, 0.0, 0.4478807264101332, 0.5209923514893882, 0.47305135333139153, 0.38266488438602386, 0.6176415622687802, 0.44480421863950426, 0.5942662829220704, 0.673979048644018, 0.42819957167501027, 0.2896764096465842, 0.5899752843442335, 0.4457750923161495, 0.469236128728361, 0.5509712197581664, 0.4375784079468996, 0.48787598679334326, 0.4678735086193043, 0.5565348930393105, 0.42621084145194127, 0.5443343618835741, 0.0, 0.0, 0.0, 0.0, 0.0, 0.0, 0.0, 0.0, 0.0, 0.0, 0.0, 0.0, 0.0, 0.0, 0.0, 0.0, 0.0, 0.0, 0.0, 0.0, 0.0, 0.0, 0.0, 0.0, 0.0, 0.0, 0.0, 0.0, 0.0, 0.0, 0.0, 0.0, 0.0, 0.0, 0.0, 0.0, 0.0, 0.0, 0.0, 0.0, 0.06849227745961357, 0.005462137225390303, 0.16252680399100924, 0.24150387466874534, 0.16490563739449896, 0.03495266893005284, 0.0, 0.04105577377432896, 0.0, 0.0, 0.0, 0.051566827912240654, 0.0, 0.0, 0.0, 0.0, 0.0, 0.029199826112218795, 0.0, 0.0, 0.0, 0.0, 0.0, 0.0, 0.0, 0.0, 0.0, 0.0, 0.0, 0.0], \"colorscale\": [[0.0, \"#440154\"], [0.1111111111111111, \"#482878\"], [0.2222222222222222, \"#3e4989\"], [0.3333333333333333, \"#31688e\"], [0.4444444444444444, \"#26828e\"], [0.5555555555555556, \"#1f9e89\"], [0.6666666666666666, \"#35b779\"], [0.7777777777777778, \"#6ece58\"], [0.8888888888888888, \"#b5de2b\"], [1.0, \"#fde725\"]], \"line\": {\"width\": 0}, \"opacity\": 0.6, \"size\": 6, \"symbol\": \"circle\"}, \"mode\": \"markers\", \"type\": \"scatter\", \"x\": [-50.92965511064042, -50.122695213073676, -51.791426317184055, -50.18922768457569, -50.82759090431227, -51.431930579008736, -51.27860532540107, -51.60602555348463, -49.25236735037775, -50.66865320309655, -50.85386608224834, -49.349097084270014, -50.92844980158951, -51.47486700420786, -51.25734436859378, -50.618963036382084, -51.78893540331893, -51.21552770321487, -50.082010572336635, -51.301949450664424, -51.48833499997004, -51.574070932606034, -50.14254574831566, -50.279985329312886, -50.72269974747976, -49.987337619613136, -50.05731891437396, -50.80441240935232, -49.39402480602693, -51.83476210865233, -52.3064714277239, -51.13010633275694, -50.59704460494185, -51.598643970606304, -51.50589574188524, -51.8212381499601, -50.67749311301716, -51.18857335071394, -50.16547789591155, -50.71520274913881, -34.27321845773529, -33.69863913984631, -33.56245727722324, -34.22759103500851, -34.576975929537284, -35.83006283343574, -33.959608882256816, -33.3956475123559, -33.70549922660188, -35.01528168084917, -34.68756697790666, -34.34737437394637, -33.569021485783864, -35.22842992019599, -34.631613729084904, -35.071411205968055, -34.79093415017454, -35.25568105969022, -35.32212029178282, -35.46942391024551, 67.6536836582236, 68.88400007716326, 69.12243563578289, 68.48041876101385, 68.25733309216778, 68.96585875848139, 68.3125525211013, 68.31750424432545, 68.04433403961397, 67.09201423528506, 68.00350999881304, 67.91203340697217, 68.13618965501257, 68.48608104474985, 67.64023611981844, 68.53225308897012, 68.11768283090677, 69.67926377386179, 67.44548305715738, 68.55129854161333, 67.13533813128197, 68.86208641727437, 68.3595548597416, 67.26501034758424, 68.48529086748412, 67.65165309246355, 67.12634019346602, 68.76316391298114, 68.0766885534856, 67.60352058775139, 69.12423484043065, 68.10751625144428, 68.78321071679203, 69.00564165776207, 68.08034465019556, 69.2355147667079, 67.96569004391377, 68.17970590989262, 68.9559344674049, 68.536301368247, 20.32307919546355, 0.9392790362596056, 11.543044309001804, 31.003116421106437, -19.65567402567082, 12.703367026810346, 12.541946219595971, 28.32827967260548, 47.390298665826016, 24.04247205252791, 7.83664802133827, -8.32492870619595, 28.55508184081537, -12.78086602436898, 33.434642152930884, 24.59939157780199, 19.74992061623195, -6.001117505245767, -22.346424900489193, 3.732601399048257, -10.26216894644254, 0.47267559047098917, -19.299186883130826, -23.264189082557806, -31.589413810082487, -36.70494300843521, -30.72003151356544, -38.0999285435935, -15.245207877841798, -38.259284367584065], \"xaxis\": \"x8\", \"y\": [13.63813527701303, 14.469623947151883, 14.493232576595691, 13.775363024916388, 14.003103483016512, 13.687491362761046, 14.423041639385156, 14.01677074430146, 14.403803901189313, 13.08330955949845, 13.98778119188632, 13.520319225497405, 12.982373100143445, 13.096966774260958, 13.5367947919723, 14.846973917078348, 13.60006485608552, 14.008713039212354, 13.227133233569996, 14.126808363464727, 13.344110535873424, 12.960663500527152, 15.41385528485871, 14.648189598716202, 14.279108510607672, 13.255621955701827, 15.758477077338583, 14.017388941769084, 13.652378821007748, 14.010591026060666, 14.44607819159879, 13.544735149719369, 14.274892092761524, 15.099371518141343, 14.175570255731023, 13.356028600533188, 14.362338942766698, 14.095275259539731, 14.63590410710734, 14.109523017584651, -48.152963821791545, -48.995983192319606, -47.10108540652825, -45.957302364928424, -47.888697112798326, -50.07011150041718, -49.19580549571403, -47.66177444412008, -45.693664852062604, -47.33252977779955, -48.072975114479654, -47.57758635764012, -47.98432101995432, -48.912472963470485, -46.09734705116224, -48.536527629047775, -49.255590166104845, -46.64209584018771, -50.1610986358454, -47.43474792414081, -1.953453164653643, -2.4116833611990924, -1.3384999016077144, -1.7268001472224477, -1.4766706691109266, -1.804199909737303, -2.367099206606988, -0.9743828552558325, -2.476520988594173, -2.0993822688533728, -1.5827864481750213, -2.110843804086348, -1.3233337102530836, -1.7883432678538485, -1.3400707489193944, -1.4140647440915617, -1.9942146252147284, -1.2665720019759965, -0.2604508315966764, -0.7519759857436675, -1.430818380078661, -1.4453710110481077, -1.9568700556155556, -1.0583555926454653, -1.6971629954828664, -0.798224028726669, -0.6563022304197357, -2.0732070410458165, -1.3371329460948111, -2.092755532422247, -1.0989333377498338, -1.4212864586138987, -1.7426123791096881, -1.3575810243438495, -1.8477982172258118, -1.0548746348399325, -1.1324955420629244, 0.06115822747911224, -1.067436048026103, -1.2293370125988188, 28.76971873189159, 12.109253062820363, -26.845352584710334, 10.021170852887828, -19.50100958300941, 46.88614757529181, 30.895457526541893, 30.72353340019164, 1.574162152009604, 65.65985952046586, 56.48989567492003, 7.601132400075252, -5.097758309366264, -25.085713719640854, -7.5642045652732115, 15.868675684093587, -16.27695815055519, 20.59543880267221, 10.414109262322292, -0.7326454732954557, 31.366160532716254, 31.244297636313, 2.3717644241787075, 19.88072886580532, 37.847038083095185, 21.68412948879285, 19.713546307359795, 19.190818073895585, 21.468531146298147, 15.983592336203388], \"yaxis\": \"y8\"}, {\"marker\": {\"color\": [0.5472507428202562, 0.5219543376293028, 0.4708058310194893, 0.45060369746319134, 0.41866000682385307, 0.4158293370548329, 0.4207842865992888, 0.6600565142592049, 0.5615652534694783, 0.6694674692081931, 0.34520773902023816, 0.41375157633373966, 0.48524831241506927, 0.40936415508683544, 0.5811405347641346, 0.6129315463725605, 0.7144798437368962, 0.5670817634849454, 0.445193737636022, 0.6671513995245357, 0.5241421601275058, 0.4897145559293936, 0.41588977706703073, 0.5282658669532623, 0.5255554194711772, 0.5082938526148619, 0.5643526698373784, 0.5904893839565114, 0.5132143277332443, 0.4868571883843296, 0.5276790572995577, 0.3920004877954408, 0.4057613462969662, 0.5047270574036853, 0.5557168479199182, 0.5090251042038388, 0.6570368258606432, 0.3634591267963379, 0.49469420073422105, 0.6321136576597834, 0.049258304047869295, 1.753766630896006e-05, 0.00046412902550427363, 0.016649874200834264, 9.569538885421943e-11, 5.7336247667131075e-11, 2.5037401974315875e-16, 1.8708863549347635e-09, 0.03217902749706381, 0.009806391598758263, 0.013941809396986157, 0.06205162757414486, 0.05465630836406551, 0.00018687204415411782, 0.07441604814331364, 0.014262259363154289, 3.3435261901895575e-19, 0.006445331903704717, 0.0016006632621838352, 0.003122097874148369, 0.0, 0.0, 0.0, 0.0, 0.0, 0.0, 0.0, 0.0, 0.0, 0.0, 0.0, 0.0, 0.0, 0.0, 0.0, 0.0, 0.0, 0.0, 0.0, 0.0, 0.0, 0.0, 0.0, 0.0, 0.0, 0.0, 0.0, 0.0, 0.0, 0.0, 0.0, 0.0, 0.0, 0.0, 0.0, 0.0, 0.0, 0.0, 0.0, 0.0, 0.0, 0.05697477111197105, 7.729705157224905e-10, 0.0, 0.0, 0.03402201185522939, 5.070463505878869e-13, 0.0, 0.06628943602337585, 0.09796084120764938, 0.28041062891188506, 0.07025048633895974, 0.0238024208713858, 0.07411149344018977, 0.0, 0.18105637052398382, 0.0026958230041242933, 0.09190768510280777, 0.08263161889250074, 0.03342821018251551, 0.26591603263309543, 0.0004076441248087327, 0.39536088367839345, 0.5055876655588764, 0.45771627662717623, 0.40597156050548544, 0.40114464055064675, 0.4226057472754159, 0.3971985022590465, 0.4368708678136244], \"colorscale\": [[0.0, \"#440154\"], [0.1111111111111111, \"#482878\"], [0.2222222222222222, \"#3e4989\"], [0.3333333333333333, \"#31688e\"], [0.4444444444444444, \"#26828e\"], [0.5555555555555556, \"#1f9e89\"], [0.6666666666666666, \"#35b779\"], [0.7777777777777778, \"#6ece58\"], [0.8888888888888888, \"#b5de2b\"], [1.0, \"#fde725\"]], \"line\": {\"width\": 0}, \"opacity\": 0.6, \"size\": 6, \"symbol\": \"circle\"}, \"mode\": \"markers\", \"type\": \"scatter\", \"x\": [-50.92965511064042, -50.122695213073676, -51.791426317184055, -50.18922768457569, -50.82759090431227, -51.431930579008736, -51.27860532540107, -51.60602555348463, -49.25236735037775, -50.66865320309655, -50.85386608224834, -49.349097084270014, -50.92844980158951, -51.47486700420786, -51.25734436859378, -50.618963036382084, -51.78893540331893, -51.21552770321487, -50.082010572336635, -51.301949450664424, -51.48833499997004, -51.574070932606034, -50.14254574831566, -50.279985329312886, -50.72269974747976, -49.987337619613136, -50.05731891437396, -50.80441240935232, -49.39402480602693, -51.83476210865233, -52.3064714277239, -51.13010633275694, -50.59704460494185, -51.598643970606304, -51.50589574188524, -51.8212381499601, -50.67749311301716, -51.18857335071394, -50.16547789591155, -50.71520274913881, -34.27321845773529, -33.69863913984631, -33.56245727722324, -34.22759103500851, -34.576975929537284, -35.83006283343574, -33.959608882256816, -33.3956475123559, -33.70549922660188, -35.01528168084917, -34.68756697790666, -34.34737437394637, -33.569021485783864, -35.22842992019599, -34.631613729084904, -35.071411205968055, -34.79093415017454, -35.25568105969022, -35.32212029178282, -35.46942391024551, 67.6536836582236, 68.88400007716326, 69.12243563578289, 68.48041876101385, 68.25733309216778, 68.96585875848139, 68.3125525211013, 68.31750424432545, 68.04433403961397, 67.09201423528506, 68.00350999881304, 67.91203340697217, 68.13618965501257, 68.48608104474985, 67.64023611981844, 68.53225308897012, 68.11768283090677, 69.67926377386179, 67.44548305715738, 68.55129854161333, 67.13533813128197, 68.86208641727437, 68.3595548597416, 67.26501034758424, 68.48529086748412, 67.65165309246355, 67.12634019346602, 68.76316391298114, 68.0766885534856, 67.60352058775139, 69.12423484043065, 68.10751625144428, 68.78321071679203, 69.00564165776207, 68.08034465019556, 69.2355147667079, 67.96569004391377, 68.17970590989262, 68.9559344674049, 68.536301368247, 20.32307919546355, 0.9392790362596056, 11.543044309001804, 31.003116421106437, -19.65567402567082, 12.703367026810346, 12.541946219595971, 28.32827967260548, 47.390298665826016, 24.04247205252791, 7.83664802133827, -8.32492870619595, 28.55508184081537, -12.78086602436898, 33.434642152930884, 24.59939157780199, 19.74992061623195, -6.001117505245767, -22.346424900489193, 3.732601399048257, -10.26216894644254, 0.47267559047098917, -19.299186883130826, -23.264189082557806, -31.589413810082487, -36.70494300843521, -30.72003151356544, -38.0999285435935, -15.245207877841798, -38.259284367584065], \"xaxis\": \"x9\", \"y\": [-15.270437853719757, -15.337294726205668, -15.577040634458767, -14.335443171870677, -14.782022603325602, -15.548752601186749, -13.392152325295552, -15.739198406950713, -14.217180540586417, -14.270358876212814, -14.346372816620269, -14.615930063372236, -13.523948708986897, -15.997203436209224, -15.024713084732639, -14.322962106346298, -14.698860318061465, -15.401126172523425, -15.059683523062617, -14.53486413978672, -14.287322994035485, -15.231850921007878, -15.898294461038974, -15.224146824876863, -13.959060701824038, -14.513248345952018, -15.063689753109454, -14.606513588805784, -15.57568718031413, -15.160073846374223, -14.642999009002343, -16.15642475684009, -15.305612095848371, -14.650802195087214, -15.72008472149938, -14.563776349916907, -14.078165623252607, -16.34123367780726, -13.964079491683473, -13.805345755680909, 16.034914069539496, 16.52261012134995, 15.702228854396049, 15.068916650951493, 15.335865623588086, 14.985035489045442, 15.87785948418189, 15.614888398158719, 17.69719689506331, 15.756310731251347, 15.026765176802652, 16.357613499948247, 16.048906747503036, 16.163667364388164, 14.441290626209467, 16.44707904114969, 16.03767430458797, 15.495181824460845, 15.766925270235907, 15.696427035044094, -10.429599018701085, -10.924814920460127, -11.971209013141623, -11.324547722989704, -9.387550726751906, -11.509698261117109, -11.87150395604209, -11.069719191432378, -10.04268254294829, -11.5985700725781, -10.835272711270798, -11.56594004732113, -11.67556386638509, -10.643099832960484, -11.214142030398419, -10.843123581301661, -11.095899776572601, -10.950119871235158, -10.675622085992584, -11.294083271289491, -10.530946522223545, -11.35891799160636, -10.24309580883009, -11.243816137912134, -11.41646278941523, -10.992812211091234, -10.657053618403362, -10.346624163377365, -10.972944412147129, -10.465211832588254, -11.038399049755073, -10.377194460547294, -12.01329000356691, -10.823638708537109, -11.465443072358205, -11.714129862385553, -11.20232122124892, -10.960599180514343, -11.24590831817909, -10.789017372157694, 92.5778344369724, 66.81947931521418, 2.5400108051286736, 81.09688566723175, 39.0616678427682, 75.26383947190726, 83.68946500044882, 95.47082668144907, -11.068962444640375, 92.11771099881057, 35.95157582177658, 55.71677525372854, -9.611425492448927, -1.503519904892699, -8.33230761277498, -17.00548143140015, -4.480578197486477, 55.4486476486469, 25.15429227879053, 4.934167036347174, -7.4923460047666115, 68.02149943303405, -10.38294452484463, -20.094144974044855, 15.702040390497844, -9.797055045381637, -16.900060823008882, -16.665067795083672, -20.65793339368597, -16.12770000494191], \"yaxis\": \"y9\"}, {\"marker\": {\"color\": [0.5472507428202562, 0.5219543376293028, 0.4708058310194893, 0.45060369746319134, 0.41866000682385307, 0.4158293370548329, 0.4207842865992888, 0.6600565142592049, 0.5615652534694783, 0.6694674692081931, 0.34520773902023816, 0.41375157633373966, 0.48524831241506927, 0.40936415508683544, 0.5811405347641346, 0.6129315463725605, 0.7144798437368962, 0.5670817634849454, 0.445193737636022, 0.6671513995245357, 0.5241421601275058, 0.4897145559293936, 0.41588977706703073, 0.5282658669532623, 0.5255554194711772, 0.5082938526148619, 0.5643526698373784, 0.5904893839565114, 0.5132143277332443, 0.4868571883843296, 0.5276790572995577, 0.3920004877954408, 0.4057613462969662, 0.5047270574036853, 0.5557168479199182, 0.5090251042038388, 0.6570368258606432, 0.3634591267963379, 0.49469420073422105, 0.6321136576597834, 0.049258304047869295, 1.753766630896006e-05, 0.00046412902550427363, 0.016649874200834264, 9.569538885421943e-11, 5.7336247667131075e-11, 2.5037401974315875e-16, 1.8708863549347635e-09, 0.03217902749706381, 0.009806391598758263, 0.013941809396986157, 0.06205162757414486, 0.05465630836406551, 0.00018687204415411782, 0.07441604814331364, 0.014262259363154289, 3.3435261901895575e-19, 0.006445331903704717, 0.0016006632621838352, 0.003122097874148369, 0.0, 0.0, 0.0, 0.0, 0.0, 0.0, 0.0, 0.0, 0.0, 0.0, 0.0, 0.0, 0.0, 0.0, 0.0, 0.0, 0.0, 0.0, 0.0, 0.0, 0.0, 0.0, 0.0, 0.0, 0.0, 0.0, 0.0, 0.0, 0.0, 0.0, 0.0, 0.0, 0.0, 0.0, 0.0, 0.0, 0.0, 0.0, 0.0, 0.0, 0.0, 0.05697477111197105, 7.729705157224905e-10, 0.0, 0.0, 0.03402201185522939, 5.070463505878869e-13, 0.0, 0.06628943602337585, 0.09796084120764938, 0.28041062891188506, 0.07025048633895974, 0.0238024208713858, 0.07411149344018977, 0.0, 0.18105637052398382, 0.0026958230041242933, 0.09190768510280777, 0.08263161889250074, 0.03342821018251551, 0.26591603263309543, 0.0004076441248087327, 0.39536088367839345, 0.5055876655588764, 0.45771627662717623, 0.40597156050548544, 0.40114464055064675, 0.4226057472754159, 0.3971985022590465, 0.4368708678136244], \"colorscale\": [[0.0, \"#440154\"], [0.1111111111111111, \"#482878\"], [0.2222222222222222, \"#3e4989\"], [0.3333333333333333, \"#31688e\"], [0.4444444444444444, \"#26828e\"], [0.5555555555555556, \"#1f9e89\"], [0.6666666666666666, \"#35b779\"], [0.7777777777777778, \"#6ece58\"], [0.8888888888888888, \"#b5de2b\"], [1.0, \"#fde725\"]], \"line\": {\"width\": 0}, \"opacity\": 0.6, \"size\": 6, \"symbol\": \"circle\"}, \"mode\": \"markers\", \"type\": \"scatter\", \"x\": [-50.92965511064042, -50.122695213073676, -51.791426317184055, -50.18922768457569, -50.82759090431227, -51.431930579008736, -51.27860532540107, -51.60602555348463, -49.25236735037775, -50.66865320309655, -50.85386608224834, -49.349097084270014, -50.92844980158951, -51.47486700420786, -51.25734436859378, -50.618963036382084, -51.78893540331893, -51.21552770321487, -50.082010572336635, -51.301949450664424, -51.48833499997004, -51.574070932606034, -50.14254574831566, -50.279985329312886, -50.72269974747976, -49.987337619613136, -50.05731891437396, -50.80441240935232, -49.39402480602693, -51.83476210865233, -52.3064714277239, -51.13010633275694, -50.59704460494185, -51.598643970606304, -51.50589574188524, -51.8212381499601, -50.67749311301716, -51.18857335071394, -50.16547789591155, -50.71520274913881, -34.27321845773529, -33.69863913984631, -33.56245727722324, -34.22759103500851, -34.576975929537284, -35.83006283343574, -33.959608882256816, -33.3956475123559, -33.70549922660188, -35.01528168084917, -34.68756697790666, -34.34737437394637, -33.569021485783864, -35.22842992019599, -34.631613729084904, -35.071411205968055, -34.79093415017454, -35.25568105969022, -35.32212029178282, -35.46942391024551, 67.6536836582236, 68.88400007716326, 69.12243563578289, 68.48041876101385, 68.25733309216778, 68.96585875848139, 68.3125525211013, 68.31750424432545, 68.04433403961397, 67.09201423528506, 68.00350999881304, 67.91203340697217, 68.13618965501257, 68.48608104474985, 67.64023611981844, 68.53225308897012, 68.11768283090677, 69.67926377386179, 67.44548305715738, 68.55129854161333, 67.13533813128197, 68.86208641727437, 68.3595548597416, 67.26501034758424, 68.48529086748412, 67.65165309246355, 67.12634019346602, 68.76316391298114, 68.0766885534856, 67.60352058775139, 69.12423484043065, 68.10751625144428, 68.78321071679203, 69.00564165776207, 68.08034465019556, 69.2355147667079, 67.96569004391377, 68.17970590989262, 68.9559344674049, 68.536301368247, 20.32307919546355, 0.9392790362596056, 11.543044309001804, 31.003116421106437, -19.65567402567082, 12.703367026810346, 12.541946219595971, 28.32827967260548, 47.390298665826016, 24.04247205252791, 7.83664802133827, -8.32492870619595, 28.55508184081537, -12.78086602436898, 33.434642152930884, 24.59939157780199, 19.74992061623195, -6.001117505245767, -22.346424900489193, 3.732601399048257, -10.26216894644254, 0.47267559047098917, -19.299186883130826, -23.264189082557806, -31.589413810082487, -36.70494300843521, -30.72003151356544, -38.0999285435935, -15.245207877841798, -38.259284367584065], \"xaxis\": \"x10\", \"y\": [13.63813527701303, 14.469623947151883, 14.493232576595691, 13.775363024916388, 14.003103483016512, 13.687491362761046, 14.423041639385156, 14.01677074430146, 14.403803901189313, 13.08330955949845, 13.98778119188632, 13.520319225497405, 12.982373100143445, 13.096966774260958, 13.5367947919723, 14.846973917078348, 13.60006485608552, 14.008713039212354, 13.227133233569996, 14.126808363464727, 13.344110535873424, 12.960663500527152, 15.41385528485871, 14.648189598716202, 14.279108510607672, 13.255621955701827, 15.758477077338583, 14.017388941769084, 13.652378821007748, 14.010591026060666, 14.44607819159879, 13.544735149719369, 14.274892092761524, 15.099371518141343, 14.175570255731023, 13.356028600533188, 14.362338942766698, 14.095275259539731, 14.63590410710734, 14.109523017584651, -48.152963821791545, -48.995983192319606, -47.10108540652825, -45.957302364928424, -47.888697112798326, -50.07011150041718, -49.19580549571403, -47.66177444412008, -45.693664852062604, -47.33252977779955, -48.072975114479654, -47.57758635764012, -47.98432101995432, -48.912472963470485, -46.09734705116224, -48.536527629047775, -49.255590166104845, -46.64209584018771, -50.1610986358454, -47.43474792414081, -1.953453164653643, -2.4116833611990924, -1.3384999016077144, -1.7268001472224477, -1.4766706691109266, -1.804199909737303, -2.367099206606988, -0.9743828552558325, -2.476520988594173, -2.0993822688533728, -1.5827864481750213, -2.110843804086348, -1.3233337102530836, -1.7883432678538485, -1.3400707489193944, -1.4140647440915617, -1.9942146252147284, -1.2665720019759965, -0.2604508315966764, -0.7519759857436675, -1.430818380078661, -1.4453710110481077, -1.9568700556155556, -1.0583555926454653, -1.6971629954828664, -0.798224028726669, -0.6563022304197357, -2.0732070410458165, -1.3371329460948111, -2.092755532422247, -1.0989333377498338, -1.4212864586138987, -1.7426123791096881, -1.3575810243438495, -1.8477982172258118, -1.0548746348399325, -1.1324955420629244, 0.06115822747911224, -1.067436048026103, -1.2293370125988188, 28.76971873189159, 12.109253062820363, -26.845352584710334, 10.021170852887828, -19.50100958300941, 46.88614757529181, 30.895457526541893, 30.72353340019164, 1.574162152009604, 65.65985952046586, 56.48989567492003, 7.601132400075252, -5.097758309366264, -25.085713719640854, -7.5642045652732115, 15.868675684093587, -16.27695815055519, 20.59543880267221, 10.414109262322292, -0.7326454732954557, 31.366160532716254, 31.244297636313, 2.3717644241787075, 19.88072886580532, 37.847038083095185, 21.68412948879285, 19.713546307359795, 19.190818073895585, 21.468531146298147, 15.983592336203388], \"yaxis\": \"y10\"}],\n",
       "                        {\"annotations\": [{\"font\": {\"size\": 16}, \"showarrow\": false, \"text\": \"Global\", \"x\": 0.225, \"xanchor\": \"center\", \"xref\": \"paper\", \"y\": 1.0, \"yanchor\": \"bottom\", \"yref\": \"paper\"}, {\"font\": {\"size\": 16}, \"showarrow\": false, \"text\": \"Global\", \"x\": 0.775, \"xanchor\": \"center\", \"xref\": \"paper\", \"y\": 1.0, \"yanchor\": \"bottom\", \"yref\": \"paper\"}, {\"font\": {\"size\": 16}, \"showarrow\": false, \"text\": \"cluster 1\", \"x\": 0.225, \"xanchor\": \"center\", \"xref\": \"paper\", \"y\": 0.78, \"yanchor\": \"bottom\", \"yref\": \"paper\"}, {\"font\": {\"size\": 16}, \"showarrow\": false, \"text\": \"cluster 1\", \"x\": 0.775, \"xanchor\": \"center\", \"xref\": \"paper\", \"y\": 0.78, \"yanchor\": \"bottom\", \"yref\": \"paper\"}, {\"font\": {\"size\": 16}, \"showarrow\": false, \"text\": \"cluster 2\", \"x\": 0.225, \"xanchor\": \"center\", \"xref\": \"paper\", \"y\": 0.56, \"yanchor\": \"bottom\", \"yref\": \"paper\"}, {\"font\": {\"size\": 16}, \"showarrow\": false, \"text\": \"cluster 2\", \"x\": 0.775, \"xanchor\": \"center\", \"xref\": \"paper\", \"y\": 0.56, \"yanchor\": \"bottom\", \"yref\": \"paper\"}, {\"font\": {\"size\": 16}, \"showarrow\": false, \"text\": \"cluster 3\", \"x\": 0.225, \"xanchor\": \"center\", \"xref\": \"paper\", \"y\": 0.33999999999999997, \"yanchor\": \"bottom\", \"yref\": \"paper\"}, {\"font\": {\"size\": 16}, \"showarrow\": false, \"text\": \"cluster 3\", \"x\": 0.775, \"xanchor\": \"center\", \"xref\": \"paper\", \"y\": 0.33999999999999997, \"yanchor\": \"bottom\", \"yref\": \"paper\"}, {\"font\": {\"size\": 16}, \"showarrow\": false, \"text\": \"cluster 4\", \"x\": 0.225, \"xanchor\": \"center\", \"xref\": \"paper\", \"y\": 0.12, \"yanchor\": \"bottom\", \"yref\": \"paper\"}, {\"font\": {\"size\": 16}, \"showarrow\": false, \"text\": \"cluster 4\", \"x\": 0.775, \"xanchor\": \"center\", \"xref\": \"paper\", \"y\": 0.12, \"yanchor\": \"bottom\", \"yref\": \"paper\"}], \"height\": 2000, \"template\": {\"data\": {\"bar\": [{\"error_x\": {\"color\": \"#2a3f5f\"}, \"error_y\": {\"color\": \"#2a3f5f\"}, \"marker\": {\"line\": {\"color\": \"#E5ECF6\", \"width\": 0.5}}, \"type\": \"bar\"}], \"barpolar\": [{\"marker\": {\"line\": {\"color\": \"#E5ECF6\", \"width\": 0.5}}, \"type\": \"barpolar\"}], \"carpet\": [{\"aaxis\": {\"endlinecolor\": \"#2a3f5f\", \"gridcolor\": \"white\", \"linecolor\": \"white\", \"minorgridcolor\": \"white\", \"startlinecolor\": \"#2a3f5f\"}, \"baxis\": {\"endlinecolor\": \"#2a3f5f\", \"gridcolor\": \"white\", \"linecolor\": \"white\", \"minorgridcolor\": \"white\", \"startlinecolor\": \"#2a3f5f\"}, \"type\": \"carpet\"}], \"choropleth\": [{\"colorbar\": {\"outlinewidth\": 0, \"ticks\": \"\"}, \"type\": \"choropleth\"}], \"contour\": [{\"colorbar\": {\"outlinewidth\": 0, \"ticks\": \"\"}, \"colorscale\": [[0.0, \"#0d0887\"], [0.1111111111111111, \"#46039f\"], [0.2222222222222222, \"#7201a8\"], [0.3333333333333333, \"#9c179e\"], [0.4444444444444444, \"#bd3786\"], [0.5555555555555556, \"#d8576b\"], [0.6666666666666666, \"#ed7953\"], [0.7777777777777778, \"#fb9f3a\"], [0.8888888888888888, \"#fdca26\"], [1.0, \"#f0f921\"]], \"type\": \"contour\"}], \"contourcarpet\": [{\"colorbar\": {\"outlinewidth\": 0, \"ticks\": \"\"}, \"type\": \"contourcarpet\"}], \"heatmap\": [{\"colorbar\": {\"outlinewidth\": 0, \"ticks\": \"\"}, \"colorscale\": [[0.0, \"#0d0887\"], [0.1111111111111111, \"#46039f\"], [0.2222222222222222, \"#7201a8\"], [0.3333333333333333, \"#9c179e\"], [0.4444444444444444, \"#bd3786\"], [0.5555555555555556, \"#d8576b\"], [0.6666666666666666, \"#ed7953\"], [0.7777777777777778, \"#fb9f3a\"], [0.8888888888888888, \"#fdca26\"], [1.0, \"#f0f921\"]], \"type\": \"heatmap\"}], \"heatmapgl\": [{\"colorbar\": {\"outlinewidth\": 0, \"ticks\": \"\"}, \"colorscale\": [[0.0, \"#0d0887\"], [0.1111111111111111, \"#46039f\"], [0.2222222222222222, \"#7201a8\"], [0.3333333333333333, \"#9c179e\"], [0.4444444444444444, \"#bd3786\"], [0.5555555555555556, \"#d8576b\"], [0.6666666666666666, \"#ed7953\"], [0.7777777777777778, \"#fb9f3a\"], [0.8888888888888888, \"#fdca26\"], [1.0, \"#f0f921\"]], \"type\": \"heatmapgl\"}], \"histogram\": [{\"marker\": {\"colorbar\": {\"outlinewidth\": 0, \"ticks\": \"\"}}, \"type\": \"histogram\"}], \"histogram2d\": [{\"colorbar\": {\"outlinewidth\": 0, \"ticks\": \"\"}, \"colorscale\": [[0.0, \"#0d0887\"], [0.1111111111111111, \"#46039f\"], [0.2222222222222222, \"#7201a8\"], [0.3333333333333333, \"#9c179e\"], [0.4444444444444444, \"#bd3786\"], [0.5555555555555556, \"#d8576b\"], [0.6666666666666666, \"#ed7953\"], [0.7777777777777778, \"#fb9f3a\"], [0.8888888888888888, \"#fdca26\"], [1.0, \"#f0f921\"]], \"type\": \"histogram2d\"}], \"histogram2dcontour\": [{\"colorbar\": {\"outlinewidth\": 0, \"ticks\": \"\"}, \"colorscale\": [[0.0, \"#0d0887\"], [0.1111111111111111, \"#46039f\"], [0.2222222222222222, \"#7201a8\"], [0.3333333333333333, \"#9c179e\"], [0.4444444444444444, \"#bd3786\"], [0.5555555555555556, \"#d8576b\"], [0.6666666666666666, \"#ed7953\"], [0.7777777777777778, \"#fb9f3a\"], [0.8888888888888888, \"#fdca26\"], [1.0, \"#f0f921\"]], \"type\": \"histogram2dcontour\"}], \"mesh3d\": [{\"colorbar\": {\"outlinewidth\": 0, \"ticks\": \"\"}, \"type\": \"mesh3d\"}], \"parcoords\": [{\"line\": {\"colorbar\": {\"outlinewidth\": 0, \"ticks\": \"\"}}, \"type\": \"parcoords\"}], \"pie\": [{\"automargin\": true, \"type\": \"pie\"}], \"scatter\": [{\"marker\": {\"colorbar\": {\"outlinewidth\": 0, \"ticks\": \"\"}}, \"type\": \"scatter\"}], \"scatter3d\": [{\"line\": {\"colorbar\": {\"outlinewidth\": 0, \"ticks\": \"\"}}, \"marker\": {\"colorbar\": {\"outlinewidth\": 0, \"ticks\": \"\"}}, \"type\": \"scatter3d\"}], \"scattercarpet\": [{\"marker\": {\"colorbar\": {\"outlinewidth\": 0, \"ticks\": \"\"}}, \"type\": \"scattercarpet\"}], \"scattergeo\": [{\"marker\": {\"colorbar\": {\"outlinewidth\": 0, \"ticks\": \"\"}}, \"type\": \"scattergeo\"}], \"scattergl\": [{\"marker\": {\"colorbar\": {\"outlinewidth\": 0, \"ticks\": \"\"}}, \"type\": \"scattergl\"}], \"scattermapbox\": [{\"marker\": {\"colorbar\": {\"outlinewidth\": 0, \"ticks\": \"\"}}, \"type\": \"scattermapbox\"}], \"scatterpolar\": [{\"marker\": {\"colorbar\": {\"outlinewidth\": 0, \"ticks\": \"\"}}, \"type\": \"scatterpolar\"}], \"scatterpolargl\": [{\"marker\": {\"colorbar\": {\"outlinewidth\": 0, \"ticks\": \"\"}}, \"type\": \"scatterpolargl\"}], \"scatterternary\": [{\"marker\": {\"colorbar\": {\"outlinewidth\": 0, \"ticks\": \"\"}}, \"type\": \"scatterternary\"}], \"surface\": [{\"colorbar\": {\"outlinewidth\": 0, \"ticks\": \"\"}, \"colorscale\": [[0.0, \"#0d0887\"], [0.1111111111111111, \"#46039f\"], [0.2222222222222222, \"#7201a8\"], [0.3333333333333333, \"#9c179e\"], [0.4444444444444444, \"#bd3786\"], [0.5555555555555556, \"#d8576b\"], [0.6666666666666666, \"#ed7953\"], [0.7777777777777778, \"#fb9f3a\"], [0.8888888888888888, \"#fdca26\"], [1.0, \"#f0f921\"]], \"type\": \"surface\"}], \"table\": [{\"cells\": {\"fill\": {\"color\": \"#EBF0F8\"}, \"line\": {\"color\": \"white\"}}, \"header\": {\"fill\": {\"color\": \"#C8D4E3\"}, \"line\": {\"color\": \"white\"}}, \"type\": \"table\"}]}, \"layout\": {\"annotationdefaults\": {\"arrowcolor\": \"#2a3f5f\", \"arrowhead\": 0, \"arrowwidth\": 1}, \"coloraxis\": {\"colorbar\": {\"outlinewidth\": 0, \"ticks\": \"\"}}, \"colorscale\": {\"diverging\": [[0, \"#8e0152\"], [0.1, \"#c51b7d\"], [0.2, \"#de77ae\"], [0.3, \"#f1b6da\"], [0.4, \"#fde0ef\"], [0.5, \"#f7f7f7\"], [0.6, \"#e6f5d0\"], [0.7, \"#b8e186\"], [0.8, \"#7fbc41\"], [0.9, \"#4d9221\"], [1, \"#276419\"]], \"sequential\": [[0.0, \"#0d0887\"], [0.1111111111111111, \"#46039f\"], [0.2222222222222222, \"#7201a8\"], [0.3333333333333333, \"#9c179e\"], [0.4444444444444444, \"#bd3786\"], [0.5555555555555556, \"#d8576b\"], [0.6666666666666666, \"#ed7953\"], [0.7777777777777778, \"#fb9f3a\"], [0.8888888888888888, \"#fdca26\"], [1.0, \"#f0f921\"]], \"sequentialminus\": [[0.0, \"#0d0887\"], [0.1111111111111111, \"#46039f\"], [0.2222222222222222, \"#7201a8\"], [0.3333333333333333, \"#9c179e\"], [0.4444444444444444, \"#bd3786\"], [0.5555555555555556, \"#d8576b\"], [0.6666666666666666, \"#ed7953\"], [0.7777777777777778, \"#fb9f3a\"], [0.8888888888888888, \"#fdca26\"], [1.0, \"#f0f921\"]]}, \"colorway\": [\"#636efa\", \"#EF553B\", \"#00cc96\", \"#ab63fa\", \"#FFA15A\", \"#19d3f3\", \"#FF6692\", \"#B6E880\", \"#FF97FF\", \"#FECB52\"], \"font\": {\"color\": \"#2a3f5f\"}, \"geo\": {\"bgcolor\": \"white\", \"lakecolor\": \"white\", \"landcolor\": \"#E5ECF6\", \"showlakes\": true, \"showland\": true, \"subunitcolor\": \"white\"}, \"hoverlabel\": {\"align\": \"left\"}, \"hovermode\": \"closest\", \"mapbox\": {\"style\": \"light\"}, \"paper_bgcolor\": \"white\", \"plot_bgcolor\": \"#E5ECF6\", \"polar\": {\"angularaxis\": {\"gridcolor\": \"white\", \"linecolor\": \"white\", \"ticks\": \"\"}, \"bgcolor\": \"#E5ECF6\", \"radialaxis\": {\"gridcolor\": \"white\", \"linecolor\": \"white\", \"ticks\": \"\"}}, \"scene\": {\"xaxis\": {\"backgroundcolor\": \"#E5ECF6\", \"gridcolor\": \"white\", \"gridwidth\": 2, \"linecolor\": \"white\", \"showbackground\": true, \"ticks\": \"\", \"zerolinecolor\": \"white\"}, \"yaxis\": {\"backgroundcolor\": \"#E5ECF6\", \"gridcolor\": \"white\", \"gridwidth\": 2, \"linecolor\": \"white\", \"showbackground\": true, \"ticks\": \"\", \"zerolinecolor\": \"white\"}, \"zaxis\": {\"backgroundcolor\": \"#E5ECF6\", \"gridcolor\": \"white\", \"gridwidth\": 2, \"linecolor\": \"white\", \"showbackground\": true, \"ticks\": \"\", \"zerolinecolor\": \"white\"}}, \"shapedefaults\": {\"line\": {\"color\": \"#2a3f5f\"}}, \"ternary\": {\"aaxis\": {\"gridcolor\": \"white\", \"linecolor\": \"white\", \"ticks\": \"\"}, \"baxis\": {\"gridcolor\": \"white\", \"linecolor\": \"white\", \"ticks\": \"\"}, \"bgcolor\": \"#E5ECF6\", \"caxis\": {\"gridcolor\": \"white\", \"linecolor\": \"white\", \"ticks\": \"\"}}, \"title\": {\"x\": 0.05}, \"xaxis\": {\"automargin\": true, \"gridcolor\": \"white\", \"linecolor\": \"white\", \"ticks\": \"\", \"title\": {\"standoff\": 15}, \"zerolinecolor\": \"white\", \"zerolinewidth\": 2}, \"yaxis\": {\"automargin\": true, \"gridcolor\": \"white\", \"linecolor\": \"white\", \"ticks\": \"\", \"title\": {\"standoff\": 15}, \"zerolinecolor\": \"white\", \"zerolinewidth\": 2}}}, \"width\": 1000, \"xaxis\": {\"anchor\": \"y\", \"domain\": [0.0, 0.45], \"title\": {\"text\": \"PC1\"}}, \"xaxis10\": {\"anchor\": \"y10\", \"domain\": [0.55, 1.0], \"title\": {\"text\": \"PC1\"}}, \"xaxis2\": {\"anchor\": \"y2\", \"domain\": [0.55, 1.0], \"title\": {\"text\": \"PC1\"}}, \"xaxis3\": {\"anchor\": \"y3\", \"domain\": [0.0, 0.45], \"title\": {\"text\": \"PC1\"}}, \"xaxis4\": {\"anchor\": \"y4\", \"domain\": [0.55, 1.0], \"title\": {\"text\": \"PC1\"}}, \"xaxis5\": {\"anchor\": \"y5\", \"domain\": [0.0, 0.45], \"title\": {\"text\": \"PC1\"}}, \"xaxis6\": {\"anchor\": \"y6\", \"domain\": [0.55, 1.0], \"title\": {\"text\": \"PC1\"}}, \"xaxis7\": {\"anchor\": \"y7\", \"domain\": [0.0, 0.45], \"title\": {\"text\": \"PC1\"}}, \"xaxis8\": {\"anchor\": \"y8\", \"domain\": [0.55, 1.0], \"title\": {\"text\": \"PC1\"}}, \"xaxis9\": {\"anchor\": \"y9\", \"domain\": [0.0, 0.45], \"title\": {\"text\": \"PC1\"}}, \"yaxis\": {\"anchor\": \"x\", \"domain\": [0.88, 1.0], \"title\": {\"text\": \"PC2\"}}, \"yaxis10\": {\"anchor\": \"x10\", \"domain\": [0.0, 0.12], \"title\": {\"text\": \"PC3\"}}, \"yaxis2\": {\"anchor\": \"x2\", \"domain\": [0.88, 1.0], \"title\": {\"text\": \"PC3\"}}, \"yaxis3\": {\"anchor\": \"x3\", \"domain\": [0.66, 0.78], \"title\": {\"text\": \"PC2\"}}, \"yaxis4\": {\"anchor\": \"x4\", \"domain\": [0.66, 0.78], \"title\": {\"text\": \"PC3\"}}, \"yaxis5\": {\"anchor\": \"x5\", \"domain\": [0.44, 0.56], \"title\": {\"text\": \"PC2\"}}, \"yaxis6\": {\"anchor\": \"x6\", \"domain\": [0.44, 0.56], \"title\": {\"text\": \"PC3\"}}, \"yaxis7\": {\"anchor\": \"x7\", \"domain\": [0.22, 0.33999999999999997], \"title\": {\"text\": \"PC2\"}}, \"yaxis8\": {\"anchor\": \"x8\", \"domain\": [0.22, 0.33999999999999997], \"title\": {\"text\": \"PC3\"}}, \"yaxis9\": {\"anchor\": \"x9\", \"domain\": [0.0, 0.12], \"title\": {\"text\": \"PC2\"}}},\n",
       "                        {\"responsive\": true}\n",
       "                    ).then(function(){\n",
       "                            \n",
       "var gd = document.getElementById('ca93e244-1844-4cc6-a97b-94d766d77104');\n",
       "var x = new MutationObserver(function (mutations, observer) {{\n",
       "        var display = window.getComputedStyle(gd).display;\n",
       "        if (!display || display === 'none') {{\n",
       "            console.log([gd, 'removed!']);\n",
       "            Plotly.purge(gd);\n",
       "            observer.disconnect();\n",
       "        }}\n",
       "}});\n",
       "\n",
       "// Listen for the removal of the full notebook cells\n",
       "var notebookContainer = gd.closest('#notebook-container');\n",
       "if (notebookContainer) {{\n",
       "    x.observe(notebookContainer, {childList: true});\n",
       "}}\n",
       "\n",
       "// Listen for the clearing of the current output cell\n",
       "var outputEl = gd.closest('.output');\n",
       "if (outputEl) {{\n",
       "    x.observe(outputEl, {childList: true});\n",
       "}}\n",
       "\n",
       "                        })\n",
       "                };\n",
       "                });\n",
       "            </script>\n",
       "        </div>"
      ]
     },
     "metadata": {},
     "output_type": "display_data"
    }
   ],
   "source": [
    "from plotly import tools\n",
    "from structure_tools.mstutorial_tools import KDE_pca\n",
    "\n",
    "KDE_pca(feats= feats,Cameo= Cameo,label_vector= labels1,Subset= Subset, \n",
    "       Col_vec= PCA_color_ref)"
   ]
  },
  {
   "cell_type": "markdown",
   "metadata": {},
   "source": [
    "## Reconstruct target tree. \n",
    "\n",
    "We find that _MS profile_ groups correspond to specific clusters that show up in global Dr.\n",
    "\n",
    "We also find that other _MS profile_ groups encompass more than one group of observations.\n",
    "\n",
    "This is indicative of internal structure: At some local windows observations from two or more groups are found to cluster together. This can have several interpretations depending on your data. We are interested in capturing this data. \n",
    "\n",
    "We are going to focus on the clusters observed in the global Dr.\n",
    "\n",
    "We are going to calculate distances between these clusters at windows where all three can be identified. We then compare these local distances to the global estimates calculating the whole data set.\n",
    "\n",
    "The list `cluster_include` below determines which MS_profiles we chose to target. \n",
    "\n",
    "**Method** \n",
    "\n",
    "We will use the _MS profile_ groups displayed below as trainning sets. _MS profiles_ are stored in array `preProc_Clover` groups indexed in `label_comps`. This information is used to classify clusters identified at local windows. \n",
    "\n",
    "**cluster classification**\n",
    "\n",
    "The array `preProc_Clover` is reduced and the kd of target (cluster_include) MS profile groups is estimated in feature space. \n",
    "\n",
    "Maximum likelihood classificaiton of Local _MS profiles_  is performed, allowing for outliers (max(L) < threshold). Outliers are discarded.\n",
    "\n",
    "#### i. Select clusters"
   ]
  },
  {
   "cell_type": "code",
   "execution_count": 17,
   "metadata": {},
   "outputs": [],
   "source": [
    "cluster_include= [0,2,3]\n",
    "\n",
    "comp_label_keep= {z:g for z,g in label_comps.items() if z in cluster_include}"
   ]
  },
  {
   "cell_type": "markdown",
   "metadata": {},
   "source": [
    "#### ii. generate windows\n",
    "\n",
    "random or linear."
   ]
  },
  {
   "cell_type": "code",
   "execution_count": 18,
   "metadata": {},
   "outputs": [],
   "source": [
    "Nwindows= 80 # Number of windows\n",
    "Wsizes= 100 # sizes in number of features\n",
    "chrom= 1\n",
    "wst= np.random.randint(0,genotype.shape[1] - Wsizes,size= Nwindows)\n",
    "wst= np.linspace(0,genotype.shape[1] - Wsizes,Nwindows,dtype= int)\n",
    "SequenceStore= {\n",
    "    chrom: {summary.POS[st]: genotype[:,st:(st+Wsizes-1)] for st in wst}\n",
    "}\n",
    "\n",
    "Out= {chrom: {summary.POS[st]: summary.POS[st+ Wsizes - 1]for st in wst}}\n"
   ]
  },
  {
   "cell_type": "markdown",
   "metadata": {},
   "source": [
    "#### iii. target clusters, calculate distances"
   ]
  },
  {
   "cell_type": "code",
   "execution_count": 21,
   "metadata": {},
   "outputs": [],
   "source": [
    "from structure_tools.MS_target_tools import (\n",
    "    MS_get_norm, kde_gen_dict, \n",
    "    gen_class, clustClass, D1_kdegen,\n",
    "    plot_distances, target_MSP\n",
    ")\n"
   ]
  },
  {
   "cell_type": "code",
   "execution_count": 22,
   "metadata": {
    "scrolled": false
   },
   "outputs": [],
   "source": [
    "from IPython.display import clear_output\n",
    "from sklearn.metrics import pairwise_distances\n",
    "\n",
    "pca_qtl= 0.2\n",
    "ncomps= 2\n",
    "clsize= 15\n",
    "Bandwidth_split= 20\n",
    "out_code= -1\n",
    "metric= 'euclidean'\n",
    "lb= 1e-3\n",
    "cl_samp= 50\n",
    "\n",
    "Geneo= admx_lib\n",
    "Geneo_order= list(Geneo.keys())\n",
    "ref_order= list(refs_lib.keys())\n",
    "\n",
    "Whose= list(range(sum([len(x) for x in Geneo.values()])))\n",
    "Sup_labels= list(np.repeat(Geneo_order,[len(Geneo[x]) for x in Geneo_order]))\n",
    "\n",
    "### Define parameters and libraries of analyses.\n",
    "\n",
    "Results = {x:recursively_default_dict() for x in SequenceStore.keys()}\n",
    "\n",
    "###\n",
    "###\n",
    "\n",
    "dists_dict= target_MSP(SequenceStore[chrom],preProc_Clover, comp_label_keep, refs_lib, Whose,\n",
    "               ncomps= ncomps, clsize= clsize, Bandwidth_split= Bandwidth_split, out_code= out_code,\n",
    "               metric= metric, cl_samp= cl_samp)\n"
   ]
  },
  {
   "cell_type": "markdown",
   "metadata": {},
   "source": [
    "#### iv. plot\n",
    "\n",
    "We gathered the distances between target clusters across windows. Below we plot, for each target cluster, the distribution of distance to every other target cluster."
   ]
  },
  {
   "cell_type": "code",
   "execution_count": 23,
   "metadata": {
    "scrolled": false
   },
   "outputs": [
    {
     "name": "stdout",
     "output_type": "stream",
     "text": [
      "['cl: 2', 'cl: 3']\n",
      "0\n",
      "1\n"
     ]
    },
    {
     "data": {
      "application/vnd.plotly.v1+json": {
       "config": {
        "linkText": "Export to plot.ly",
        "plotlyServerURL": "https://plot.ly",
        "showLink": false
       },
       "data": [
        {
         "mode": "markers",
         "name": "cl: 2",
         "type": "scatter",
         "x": [
          0,
          0.12121212121212122,
          0.24242424242424243,
          0.36363636363636365,
          0.48484848484848486,
          0.6060606060606061,
          0.7272727272727273,
          0.8484848484848485,
          0.9696969696969697,
          1.0909090909090908,
          1.2121212121212122,
          1.3333333333333335,
          1.4545454545454546,
          1.5757575757575757,
          1.696969696969697,
          1.8181818181818183,
          1.9393939393939394,
          2.0606060606060606,
          2.1818181818181817,
          2.303030303030303,
          2.4242424242424243,
          2.5454545454545454,
          2.666666666666667,
          2.787878787878788,
          2.909090909090909,
          3.0303030303030303,
          3.1515151515151514,
          3.272727272727273,
          3.393939393939394,
          3.515151515151515,
          3.6363636363636367,
          3.757575757575758,
          3.878787878787879,
          4,
          4.121212121212121,
          4.242424242424242,
          4.363636363636363,
          4.484848484848485,
          4.606060606060606,
          4.7272727272727275,
          4.848484848484849,
          4.96969696969697,
          5.090909090909091,
          5.212121212121212,
          5.333333333333334,
          5.454545454545455,
          5.575757575757576,
          5.696969696969697,
          5.818181818181818,
          5.9393939393939394,
          6.0606060606060606,
          6.181818181818182,
          6.303030303030303,
          6.424242424242425,
          6.545454545454546,
          6.666666666666667,
          6.787878787878788,
          6.909090909090909,
          7.03030303030303,
          7.151515151515151,
          7.272727272727273,
          7.3939393939393945,
          7.515151515151516,
          7.636363636363637,
          7.757575757575758,
          7.878787878787879,
          8,
          8.121212121212121,
          8.242424242424242,
          8.363636363636363,
          8.484848484848484,
          8.606060606060606,
          8.727272727272727,
          8.84848484848485,
          8.96969696969697,
          9.090909090909092,
          9.212121212121213,
          9.333333333333334,
          9.454545454545455,
          9.575757575757576,
          9.696969696969697,
          9.818181818181818,
          9.93939393939394,
          10.06060606060606,
          10.181818181818182,
          10.303030303030303,
          10.424242424242424,
          10.545454545454545,
          10.666666666666668,
          10.787878787878789,
          10.90909090909091,
          11.030303030303031,
          11.151515151515152,
          11.272727272727273,
          11.393939393939394,
          11.515151515151516,
          11.636363636363637,
          11.757575757575758,
          11.878787878787879,
          12
         ],
         "xaxis": "x",
         "y": [
          2.7679196800085364e-26,
          3.5813442773881334e-25,
          4.3716144883059054e-24,
          5.0345137028571445e-23,
          5.4702955890068285e-22,
          5.6081602145127014e-21,
          5.425080636717673e-20,
          4.952095826206166e-19,
          4.2657058016640185e-18,
          3.467646349011684e-17,
          2.6603868905773126e-16,
          1.9263977413347664e-15,
          1.3166316495096996e-14,
          8.494281966087892e-14,
          5.173217981956693e-13,
          2.974369742826968e-12,
          1.614574537550176e-11,
          8.275219318336958e-11,
          4.0048728462412213e-10,
          1.83027079047814e-09,
          7.899303804808018e-09,
          3.219869353186404e-08,
          1.2396304138553583e-07,
          4.5079446625799504e-07,
          1.5485464990813178e-06,
          5.025220860934821e-06,
          1.540621974537464e-05,
          4.462423279856604e-05,
          0.00012212425509407026,
          0.0003157996713069062,
          0.0007716528331210692,
          0.0017817855034812347,
          0.0038880931286319744,
          0.008018515832876567,
          0.015630109914501037,
          0.028799520593018015,
          0.05016755777743145,
          0.08263347981862165,
          0.12873490240866378,
          0.18975751766389443,
          0.2647765142466837,
          0.3499734336599835,
          0.43860435455569396,
          0.5218473928417685,
          0.5904436944675794,
          0.6366894794129255,
          0.6561222938961084,
          0.6483132568660247,
          0.616525122525608,
          0.5664575433953581,
          0.504638350671383,
          0.4370678723557545,
          0.368488417865454,
          0.30229500045358726,
          0.24083031825336185,
          0.18573688245439177,
          0.13815355917123426,
          0.09872747633940043,
          0.06754434663324387,
          0.04410543090354606,
          0.02741971272627737,
          0.01619726620571086,
          0.009077389473811733,
          0.004820678382453223,
          0.0024237686158713498,
          0.0011529460118940593,
          0.0005185952815001361,
          0.00022047897812434904,
          8.856850068264504e-05,
          3.360832924741855e-05,
          1.2044057186303826e-05,
          4.0754483763194425e-06,
          1.3019229461912776e-06,
          3.925930827176982e-07,
          1.1173658158389705e-07,
          3.0012193836733413e-08,
          7.606927996560176e-09,
          1.8192575640886254e-09,
          4.1050688690492224e-10,
          8.738956451291273e-11,
          1.7550363076326908e-11,
          3.3248899103889942e-12,
          5.941727192377912e-13,
          1.0015536333045619e-13,
          1.5923755503241422e-14,
          2.3878774259894372e-15,
          3.3772312811817263e-16,
          4.504848790730829e-17,
          5.6670875320959765e-18,
          6.723426726568183e-19,
          7.522535605085729e-20,
          7.937309446762708e-21,
          7.897894406179379e-22,
          7.410925836855671e-23,
          6.557700345660867e-24,
          5.471973916357532e-25,
          4.305719394309655e-26,
          3.1948688828046063e-27,
          2.235438515856363e-28,
          1.4749317201064897e-29
         ],
         "yaxis": "y"
        },
        {
         "mode": "markers",
         "name": "cl: 3",
         "type": "scatter",
         "x": [
          0,
          0.12121212121212122,
          0.24242424242424243,
          0.36363636363636365,
          0.48484848484848486,
          0.6060606060606061,
          0.7272727272727273,
          0.8484848484848485,
          0.9696969696969697,
          1.0909090909090908,
          1.2121212121212122,
          1.3333333333333335,
          1.4545454545454546,
          1.5757575757575757,
          1.696969696969697,
          1.8181818181818183,
          1.9393939393939394,
          2.0606060606060606,
          2.1818181818181817,
          2.303030303030303,
          2.4242424242424243,
          2.5454545454545454,
          2.666666666666667,
          2.787878787878788,
          2.909090909090909,
          3.0303030303030303,
          3.1515151515151514,
          3.272727272727273,
          3.393939393939394,
          3.515151515151515,
          3.6363636363636367,
          3.757575757575758,
          3.878787878787879,
          4,
          4.121212121212121,
          4.242424242424242,
          4.363636363636363,
          4.484848484848485,
          4.606060606060606,
          4.7272727272727275,
          4.848484848484849,
          4.96969696969697,
          5.090909090909091,
          5.212121212121212,
          5.333333333333334,
          5.454545454545455,
          5.575757575757576,
          5.696969696969697,
          5.818181818181818,
          5.9393939393939394,
          6.0606060606060606,
          6.181818181818182,
          6.303030303030303,
          6.424242424242425,
          6.545454545454546,
          6.666666666666667,
          6.787878787878788,
          6.909090909090909,
          7.03030303030303,
          7.151515151515151,
          7.272727272727273,
          7.3939393939393945,
          7.515151515151516,
          7.636363636363637,
          7.757575757575758,
          7.878787878787879,
          8,
          8.121212121212121,
          8.242424242424242,
          8.363636363636363,
          8.484848484848484,
          8.606060606060606,
          8.727272727272727,
          8.84848484848485,
          8.96969696969697,
          9.090909090909092,
          9.212121212121213,
          9.333333333333334,
          9.454545454545455,
          9.575757575757576,
          9.696969696969697,
          9.818181818181818,
          9.93939393939394,
          10.06060606060606,
          10.181818181818182,
          10.303030303030303,
          10.424242424242424,
          10.545454545454545,
          10.666666666666668,
          10.787878787878789,
          10.90909090909091,
          11.030303030303031,
          11.151515151515152,
          11.272727272727273,
          11.393939393939394,
          11.515151515151516,
          11.636363636363637,
          11.757575757575758,
          11.878787878787879,
          12
         ],
         "xaxis": "x2",
         "y": [
          8.661432182879831e-46,
          2.6579889212887266e-44,
          7.691186601743355e-43,
          2.0985061904662385e-41,
          5.398882625838501e-40,
          1.3097072801696033e-38,
          2.9958586729973858e-37,
          6.461675244729164e-36,
          1.3141521712639083e-34,
          2.520129809060136e-33,
          4.556977565246604e-32,
          7.769759823991483e-31,
          1.2491512379054865e-29,
          1.8936476611282094e-28,
          2.7068242186482318e-27,
          3.648359751982531e-26,
          4.636731876944752e-25,
          5.5565219591838825e-24,
          6.278715597314688e-23,
          6.689833560408572e-22,
          6.721040911793996e-21,
          6.366994724954966e-20,
          5.687339661761646e-19,
          4.79027633961459e-18,
          3.804422089542251e-17,
          2.849007208427666e-16,
          2.0117551828300936e-15,
          1.3394713801421523e-14,
          8.409467184714817e-14,
          4.978290755372231e-13,
          2.77887350864412e-12,
          1.4626285753494633e-11,
          7.258988401643192e-11,
          3.3969953644379586e-10,
          1.4989621198454426e-09,
          6.236821187964616e-09,
          2.4468817812350743e-08,
          9.051904223119101e-08,
          3.1575084407849475e-07,
          1.0385496146308632e-06,
          3.22098745304559e-06,
          9.419575526691797e-06,
          2.5975058001518117e-05,
          6.754115611754953e-05,
          0.00016560504052210538,
          0.00038289706569898975,
          0.0008348545760225779,
          0.001716672875729239,
          0.003329334112195336,
          0.00609108115688208,
          0.010515257175845037,
          0.01713691641844975,
          0.02638504303756823,
          0.038425987574064006,
          0.05303852211010764,
          0.06960253717001935,
          0.08726887844175331,
          0.10531520121970643,
          0.12359594551394826,
          0.14290635301616295,
          0.16505562210781818,
          0.19251794088609114,
          0.22768922570057393,
          0.27195656074076313,
          0.32489780488487274,
          0.38390767119311814,
          0.44439680628517614,
          0.5005038978115397,
          0.5460980612538238,
          0.5757987837135392,
          0.5858018882118922,
          0.5744092113563752,
          0.5422432208475602,
          0.49215457442826704,
          0.4288269676830331,
          0.35810026210300444,
          0.2860945344890509,
          0.21829837426998872,
          0.15882803510811944,
          0.11002869985514394,
          0.07248187868480123,
          0.0453541178995755,
          0.02693138795018664,
          0.015163873591276019,
          0.008090594322244656,
          0.0040881318467556604,
          0.0019554052596701967,
          0.0008849938272374597,
          0.0003788651103790472,
          0.00015336974699661665,
          5.8693773488044694e-05,
          2.1229602926583886e-05,
          7.256060282399578e-06,
          2.343097044920178e-06,
          7.147256369075866e-07,
          2.0591329120545832e-07,
          5.6023159359733654e-08,
          1.4392509911882272e-08,
          3.490948014743988e-09,
          7.993637533210951e-10
         ],
         "yaxis": "y2"
        }
       ],
       "layout": {
        "annotations": [
         {
          "font": {
           "size": 16
          },
          "showarrow": false,
          "text": "cl: 2",
          "x": 0.5,
          "xanchor": "center",
          "xref": "paper",
          "y": 1,
          "yanchor": "bottom",
          "yref": "paper"
         },
         {
          "font": {
           "size": 16
          },
          "showarrow": false,
          "text": "cl: 3",
          "x": 0.5,
          "xanchor": "center",
          "xref": "paper",
          "y": 0.375,
          "yanchor": "bottom",
          "yref": "paper"
         }
        ],
        "height": 500,
        "template": {
         "data": {
          "bar": [
           {
            "error_x": {
             "color": "#2a3f5f"
            },
            "error_y": {
             "color": "#2a3f5f"
            },
            "marker": {
             "line": {
              "color": "#E5ECF6",
              "width": 0.5
             }
            },
            "type": "bar"
           }
          ],
          "barpolar": [
           {
            "marker": {
             "line": {
              "color": "#E5ECF6",
              "width": 0.5
             }
            },
            "type": "barpolar"
           }
          ],
          "carpet": [
           {
            "aaxis": {
             "endlinecolor": "#2a3f5f",
             "gridcolor": "white",
             "linecolor": "white",
             "minorgridcolor": "white",
             "startlinecolor": "#2a3f5f"
            },
            "baxis": {
             "endlinecolor": "#2a3f5f",
             "gridcolor": "white",
             "linecolor": "white",
             "minorgridcolor": "white",
             "startlinecolor": "#2a3f5f"
            },
            "type": "carpet"
           }
          ],
          "choropleth": [
           {
            "colorbar": {
             "outlinewidth": 0,
             "ticks": ""
            },
            "type": "choropleth"
           }
          ],
          "contour": [
           {
            "colorbar": {
             "outlinewidth": 0,
             "ticks": ""
            },
            "colorscale": [
             [
              0,
              "#0d0887"
             ],
             [
              0.1111111111111111,
              "#46039f"
             ],
             [
              0.2222222222222222,
              "#7201a8"
             ],
             [
              0.3333333333333333,
              "#9c179e"
             ],
             [
              0.4444444444444444,
              "#bd3786"
             ],
             [
              0.5555555555555556,
              "#d8576b"
             ],
             [
              0.6666666666666666,
              "#ed7953"
             ],
             [
              0.7777777777777778,
              "#fb9f3a"
             ],
             [
              0.8888888888888888,
              "#fdca26"
             ],
             [
              1,
              "#f0f921"
             ]
            ],
            "type": "contour"
           }
          ],
          "contourcarpet": [
           {
            "colorbar": {
             "outlinewidth": 0,
             "ticks": ""
            },
            "type": "contourcarpet"
           }
          ],
          "heatmap": [
           {
            "colorbar": {
             "outlinewidth": 0,
             "ticks": ""
            },
            "colorscale": [
             [
              0,
              "#0d0887"
             ],
             [
              0.1111111111111111,
              "#46039f"
             ],
             [
              0.2222222222222222,
              "#7201a8"
             ],
             [
              0.3333333333333333,
              "#9c179e"
             ],
             [
              0.4444444444444444,
              "#bd3786"
             ],
             [
              0.5555555555555556,
              "#d8576b"
             ],
             [
              0.6666666666666666,
              "#ed7953"
             ],
             [
              0.7777777777777778,
              "#fb9f3a"
             ],
             [
              0.8888888888888888,
              "#fdca26"
             ],
             [
              1,
              "#f0f921"
             ]
            ],
            "type": "heatmap"
           }
          ],
          "heatmapgl": [
           {
            "colorbar": {
             "outlinewidth": 0,
             "ticks": ""
            },
            "colorscale": [
             [
              0,
              "#0d0887"
             ],
             [
              0.1111111111111111,
              "#46039f"
             ],
             [
              0.2222222222222222,
              "#7201a8"
             ],
             [
              0.3333333333333333,
              "#9c179e"
             ],
             [
              0.4444444444444444,
              "#bd3786"
             ],
             [
              0.5555555555555556,
              "#d8576b"
             ],
             [
              0.6666666666666666,
              "#ed7953"
             ],
             [
              0.7777777777777778,
              "#fb9f3a"
             ],
             [
              0.8888888888888888,
              "#fdca26"
             ],
             [
              1,
              "#f0f921"
             ]
            ],
            "type": "heatmapgl"
           }
          ],
          "histogram": [
           {
            "marker": {
             "colorbar": {
              "outlinewidth": 0,
              "ticks": ""
             }
            },
            "type": "histogram"
           }
          ],
          "histogram2d": [
           {
            "colorbar": {
             "outlinewidth": 0,
             "ticks": ""
            },
            "colorscale": [
             [
              0,
              "#0d0887"
             ],
             [
              0.1111111111111111,
              "#46039f"
             ],
             [
              0.2222222222222222,
              "#7201a8"
             ],
             [
              0.3333333333333333,
              "#9c179e"
             ],
             [
              0.4444444444444444,
              "#bd3786"
             ],
             [
              0.5555555555555556,
              "#d8576b"
             ],
             [
              0.6666666666666666,
              "#ed7953"
             ],
             [
              0.7777777777777778,
              "#fb9f3a"
             ],
             [
              0.8888888888888888,
              "#fdca26"
             ],
             [
              1,
              "#f0f921"
             ]
            ],
            "type": "histogram2d"
           }
          ],
          "histogram2dcontour": [
           {
            "colorbar": {
             "outlinewidth": 0,
             "ticks": ""
            },
            "colorscale": [
             [
              0,
              "#0d0887"
             ],
             [
              0.1111111111111111,
              "#46039f"
             ],
             [
              0.2222222222222222,
              "#7201a8"
             ],
             [
              0.3333333333333333,
              "#9c179e"
             ],
             [
              0.4444444444444444,
              "#bd3786"
             ],
             [
              0.5555555555555556,
              "#d8576b"
             ],
             [
              0.6666666666666666,
              "#ed7953"
             ],
             [
              0.7777777777777778,
              "#fb9f3a"
             ],
             [
              0.8888888888888888,
              "#fdca26"
             ],
             [
              1,
              "#f0f921"
             ]
            ],
            "type": "histogram2dcontour"
           }
          ],
          "mesh3d": [
           {
            "colorbar": {
             "outlinewidth": 0,
             "ticks": ""
            },
            "type": "mesh3d"
           }
          ],
          "parcoords": [
           {
            "line": {
             "colorbar": {
              "outlinewidth": 0,
              "ticks": ""
             }
            },
            "type": "parcoords"
           }
          ],
          "pie": [
           {
            "automargin": true,
            "type": "pie"
           }
          ],
          "scatter": [
           {
            "marker": {
             "colorbar": {
              "outlinewidth": 0,
              "ticks": ""
             }
            },
            "type": "scatter"
           }
          ],
          "scatter3d": [
           {
            "line": {
             "colorbar": {
              "outlinewidth": 0,
              "ticks": ""
             }
            },
            "marker": {
             "colorbar": {
              "outlinewidth": 0,
              "ticks": ""
             }
            },
            "type": "scatter3d"
           }
          ],
          "scattercarpet": [
           {
            "marker": {
             "colorbar": {
              "outlinewidth": 0,
              "ticks": ""
             }
            },
            "type": "scattercarpet"
           }
          ],
          "scattergeo": [
           {
            "marker": {
             "colorbar": {
              "outlinewidth": 0,
              "ticks": ""
             }
            },
            "type": "scattergeo"
           }
          ],
          "scattergl": [
           {
            "marker": {
             "colorbar": {
              "outlinewidth": 0,
              "ticks": ""
             }
            },
            "type": "scattergl"
           }
          ],
          "scattermapbox": [
           {
            "marker": {
             "colorbar": {
              "outlinewidth": 0,
              "ticks": ""
             }
            },
            "type": "scattermapbox"
           }
          ],
          "scatterpolar": [
           {
            "marker": {
             "colorbar": {
              "outlinewidth": 0,
              "ticks": ""
             }
            },
            "type": "scatterpolar"
           }
          ],
          "scatterpolargl": [
           {
            "marker": {
             "colorbar": {
              "outlinewidth": 0,
              "ticks": ""
             }
            },
            "type": "scatterpolargl"
           }
          ],
          "scatterternary": [
           {
            "marker": {
             "colorbar": {
              "outlinewidth": 0,
              "ticks": ""
             }
            },
            "type": "scatterternary"
           }
          ],
          "surface": [
           {
            "colorbar": {
             "outlinewidth": 0,
             "ticks": ""
            },
            "colorscale": [
             [
              0,
              "#0d0887"
             ],
             [
              0.1111111111111111,
              "#46039f"
             ],
             [
              0.2222222222222222,
              "#7201a8"
             ],
             [
              0.3333333333333333,
              "#9c179e"
             ],
             [
              0.4444444444444444,
              "#bd3786"
             ],
             [
              0.5555555555555556,
              "#d8576b"
             ],
             [
              0.6666666666666666,
              "#ed7953"
             ],
             [
              0.7777777777777778,
              "#fb9f3a"
             ],
             [
              0.8888888888888888,
              "#fdca26"
             ],
             [
              1,
              "#f0f921"
             ]
            ],
            "type": "surface"
           }
          ],
          "table": [
           {
            "cells": {
             "fill": {
              "color": "#EBF0F8"
             },
             "line": {
              "color": "white"
             }
            },
            "header": {
             "fill": {
              "color": "#C8D4E3"
             },
             "line": {
              "color": "white"
             }
            },
            "type": "table"
           }
          ]
         },
         "layout": {
          "annotationdefaults": {
           "arrowcolor": "#2a3f5f",
           "arrowhead": 0,
           "arrowwidth": 1
          },
          "coloraxis": {
           "colorbar": {
            "outlinewidth": 0,
            "ticks": ""
           }
          },
          "colorscale": {
           "diverging": [
            [
             0,
             "#8e0152"
            ],
            [
             0.1,
             "#c51b7d"
            ],
            [
             0.2,
             "#de77ae"
            ],
            [
             0.3,
             "#f1b6da"
            ],
            [
             0.4,
             "#fde0ef"
            ],
            [
             0.5,
             "#f7f7f7"
            ],
            [
             0.6,
             "#e6f5d0"
            ],
            [
             0.7,
             "#b8e186"
            ],
            [
             0.8,
             "#7fbc41"
            ],
            [
             0.9,
             "#4d9221"
            ],
            [
             1,
             "#276419"
            ]
           ],
           "sequential": [
            [
             0,
             "#0d0887"
            ],
            [
             0.1111111111111111,
             "#46039f"
            ],
            [
             0.2222222222222222,
             "#7201a8"
            ],
            [
             0.3333333333333333,
             "#9c179e"
            ],
            [
             0.4444444444444444,
             "#bd3786"
            ],
            [
             0.5555555555555556,
             "#d8576b"
            ],
            [
             0.6666666666666666,
             "#ed7953"
            ],
            [
             0.7777777777777778,
             "#fb9f3a"
            ],
            [
             0.8888888888888888,
             "#fdca26"
            ],
            [
             1,
             "#f0f921"
            ]
           ],
           "sequentialminus": [
            [
             0,
             "#0d0887"
            ],
            [
             0.1111111111111111,
             "#46039f"
            ],
            [
             0.2222222222222222,
             "#7201a8"
            ],
            [
             0.3333333333333333,
             "#9c179e"
            ],
            [
             0.4444444444444444,
             "#bd3786"
            ],
            [
             0.5555555555555556,
             "#d8576b"
            ],
            [
             0.6666666666666666,
             "#ed7953"
            ],
            [
             0.7777777777777778,
             "#fb9f3a"
            ],
            [
             0.8888888888888888,
             "#fdca26"
            ],
            [
             1,
             "#f0f921"
            ]
           ]
          },
          "colorway": [
           "#636efa",
           "#EF553B",
           "#00cc96",
           "#ab63fa",
           "#FFA15A",
           "#19d3f3",
           "#FF6692",
           "#B6E880",
           "#FF97FF",
           "#FECB52"
          ],
          "font": {
           "color": "#2a3f5f"
          },
          "geo": {
           "bgcolor": "white",
           "lakecolor": "white",
           "landcolor": "#E5ECF6",
           "showlakes": true,
           "showland": true,
           "subunitcolor": "white"
          },
          "hoverlabel": {
           "align": "left"
          },
          "hovermode": "closest",
          "mapbox": {
           "style": "light"
          },
          "paper_bgcolor": "white",
          "plot_bgcolor": "#E5ECF6",
          "polar": {
           "angularaxis": {
            "gridcolor": "white",
            "linecolor": "white",
            "ticks": ""
           },
           "bgcolor": "#E5ECF6",
           "radialaxis": {
            "gridcolor": "white",
            "linecolor": "white",
            "ticks": ""
           }
          },
          "scene": {
           "xaxis": {
            "backgroundcolor": "#E5ECF6",
            "gridcolor": "white",
            "gridwidth": 2,
            "linecolor": "white",
            "showbackground": true,
            "ticks": "",
            "zerolinecolor": "white"
           },
           "yaxis": {
            "backgroundcolor": "#E5ECF6",
            "gridcolor": "white",
            "gridwidth": 2,
            "linecolor": "white",
            "showbackground": true,
            "ticks": "",
            "zerolinecolor": "white"
           },
           "zaxis": {
            "backgroundcolor": "#E5ECF6",
            "gridcolor": "white",
            "gridwidth": 2,
            "linecolor": "white",
            "showbackground": true,
            "ticks": "",
            "zerolinecolor": "white"
           }
          },
          "shapedefaults": {
           "line": {
            "color": "#2a3f5f"
           }
          },
          "ternary": {
           "aaxis": {
            "gridcolor": "white",
            "linecolor": "white",
            "ticks": ""
           },
           "baxis": {
            "gridcolor": "white",
            "linecolor": "white",
            "ticks": ""
           },
           "bgcolor": "#E5ECF6",
           "caxis": {
            "gridcolor": "white",
            "linecolor": "white",
            "ticks": ""
           }
          },
          "title": {
           "x": 0.05
          },
          "xaxis": {
           "automargin": true,
           "gridcolor": "white",
           "linecolor": "white",
           "ticks": "",
           "title": {
            "standoff": 15
           },
           "zerolinecolor": "white",
           "zerolinewidth": 2
          },
          "yaxis": {
           "automargin": true,
           "gridcolor": "white",
           "linecolor": "white",
           "ticks": "",
           "title": {
            "standoff": 15
           },
           "zerolinecolor": "white",
           "zerolinewidth": 2
          }
         }
        },
        "width": 900,
        "xaxis": {
         "anchor": "y",
         "domain": [
          0,
          1
         ],
         "title": {
          "text": "pca dist"
         }
        },
        "xaxis2": {
         "anchor": "y2",
         "domain": [
          0,
          1
         ],
         "title": {
          "text": "pca dist"
         }
        },
        "yaxis": {
         "anchor": "x",
         "domain": [
          0.625,
          1
         ],
         "range": [
          0,
          0.7217345232857193
         ],
         "title": {
          "text": "L"
         }
        },
        "yaxis2": {
         "anchor": "x2",
         "domain": [
          0,
          0.375
         ],
         "range": [
          0,
          0.6443820770330814
         ],
         "title": {
          "text": "L"
         }
        }
       }
      },
      "text/html": [
       "<div>\n",
       "        \n",
       "        \n",
       "            <div id=\"e1ab4dfd-1137-4971-8642-9bea1924a4af\" class=\"plotly-graph-div\" style=\"height:500px; width:900px;\"></div>\n",
       "            <script type=\"text/javascript\">\n",
       "                require([\"plotly\"], function(Plotly) {\n",
       "                    window.PLOTLYENV=window.PLOTLYENV || {};\n",
       "                    \n",
       "                if (document.getElementById(\"e1ab4dfd-1137-4971-8642-9bea1924a4af\")) {\n",
       "                    Plotly.newPlot(\n",
       "                        'e1ab4dfd-1137-4971-8642-9bea1924a4af',\n",
       "                        [{\"mode\": \"markers\", \"name\": \"cl: 2\", \"type\": \"scatter\", \"x\": [0.0, 0.12121212121212122, 0.24242424242424243, 0.36363636363636365, 0.48484848484848486, 0.6060606060606061, 0.7272727272727273, 0.8484848484848485, 0.9696969696969697, 1.0909090909090908, 1.2121212121212122, 1.3333333333333335, 1.4545454545454546, 1.5757575757575757, 1.696969696969697, 1.8181818181818183, 1.9393939393939394, 2.0606060606060606, 2.1818181818181817, 2.303030303030303, 2.4242424242424243, 2.5454545454545454, 2.666666666666667, 2.787878787878788, 2.909090909090909, 3.0303030303030303, 3.1515151515151514, 3.272727272727273, 3.393939393939394, 3.515151515151515, 3.6363636363636367, 3.757575757575758, 3.878787878787879, 4.0, 4.121212121212121, 4.242424242424242, 4.363636363636363, 4.484848484848485, 4.606060606060606, 4.7272727272727275, 4.848484848484849, 4.96969696969697, 5.090909090909091, 5.212121212121212, 5.333333333333334, 5.454545454545455, 5.575757575757576, 5.696969696969697, 5.818181818181818, 5.9393939393939394, 6.0606060606060606, 6.181818181818182, 6.303030303030303, 6.424242424242425, 6.545454545454546, 6.666666666666667, 6.787878787878788, 6.909090909090909, 7.03030303030303, 7.151515151515151, 7.272727272727273, 7.3939393939393945, 7.515151515151516, 7.636363636363637, 7.757575757575758, 7.878787878787879, 8.0, 8.121212121212121, 8.242424242424242, 8.363636363636363, 8.484848484848484, 8.606060606060606, 8.727272727272727, 8.84848484848485, 8.96969696969697, 9.090909090909092, 9.212121212121213, 9.333333333333334, 9.454545454545455, 9.575757575757576, 9.696969696969697, 9.818181818181818, 9.93939393939394, 10.06060606060606, 10.181818181818182, 10.303030303030303, 10.424242424242424, 10.545454545454545, 10.666666666666668, 10.787878787878789, 10.90909090909091, 11.030303030303031, 11.151515151515152, 11.272727272727273, 11.393939393939394, 11.515151515151516, 11.636363636363637, 11.757575757575758, 11.878787878787879, 12.0], \"xaxis\": \"x\", \"y\": [2.7679196800085364e-26, 3.5813442773881334e-25, 4.3716144883059054e-24, 5.0345137028571445e-23, 5.4702955890068285e-22, 5.6081602145127014e-21, 5.425080636717673e-20, 4.952095826206166e-19, 4.2657058016640185e-18, 3.467646349011684e-17, 2.6603868905773126e-16, 1.9263977413347664e-15, 1.3166316495096996e-14, 8.494281966087892e-14, 5.173217981956693e-13, 2.974369742826968e-12, 1.614574537550176e-11, 8.275219318336958e-11, 4.0048728462412213e-10, 1.83027079047814e-09, 7.899303804808018e-09, 3.219869353186404e-08, 1.2396304138553583e-07, 4.5079446625799504e-07, 1.5485464990813178e-06, 5.025220860934821e-06, 1.540621974537464e-05, 4.462423279856604e-05, 0.00012212425509407026, 0.0003157996713069062, 0.0007716528331210692, 0.0017817855034812347, 0.0038880931286319744, 0.008018515832876567, 0.015630109914501037, 0.028799520593018015, 0.05016755777743145, 0.08263347981862165, 0.12873490240866378, 0.18975751766389443, 0.2647765142466837, 0.3499734336599835, 0.43860435455569396, 0.5218473928417685, 0.5904436944675794, 0.6366894794129255, 0.6561222938961084, 0.6483132568660247, 0.616525122525608, 0.5664575433953581, 0.504638350671383, 0.4370678723557545, 0.368488417865454, 0.30229500045358726, 0.24083031825336185, 0.18573688245439177, 0.13815355917123426, 0.09872747633940043, 0.06754434663324387, 0.04410543090354606, 0.02741971272627737, 0.01619726620571086, 0.009077389473811733, 0.004820678382453223, 0.0024237686158713498, 0.0011529460118940593, 0.0005185952815001361, 0.00022047897812434904, 8.856850068264504e-05, 3.360832924741855e-05, 1.2044057186303826e-05, 4.0754483763194425e-06, 1.3019229461912776e-06, 3.925930827176982e-07, 1.1173658158389705e-07, 3.0012193836733413e-08, 7.606927996560176e-09, 1.8192575640886254e-09, 4.1050688690492224e-10, 8.738956451291273e-11, 1.7550363076326908e-11, 3.3248899103889942e-12, 5.941727192377912e-13, 1.0015536333045619e-13, 1.5923755503241422e-14, 2.3878774259894372e-15, 3.3772312811817263e-16, 4.504848790730829e-17, 5.6670875320959765e-18, 6.723426726568183e-19, 7.522535605085729e-20, 7.937309446762708e-21, 7.897894406179379e-22, 7.410925836855671e-23, 6.557700345660867e-24, 5.471973916357532e-25, 4.305719394309655e-26, 3.1948688828046063e-27, 2.235438515856363e-28, 1.4749317201064897e-29], \"yaxis\": \"y\"}, {\"mode\": \"markers\", \"name\": \"cl: 3\", \"type\": \"scatter\", \"x\": [0.0, 0.12121212121212122, 0.24242424242424243, 0.36363636363636365, 0.48484848484848486, 0.6060606060606061, 0.7272727272727273, 0.8484848484848485, 0.9696969696969697, 1.0909090909090908, 1.2121212121212122, 1.3333333333333335, 1.4545454545454546, 1.5757575757575757, 1.696969696969697, 1.8181818181818183, 1.9393939393939394, 2.0606060606060606, 2.1818181818181817, 2.303030303030303, 2.4242424242424243, 2.5454545454545454, 2.666666666666667, 2.787878787878788, 2.909090909090909, 3.0303030303030303, 3.1515151515151514, 3.272727272727273, 3.393939393939394, 3.515151515151515, 3.6363636363636367, 3.757575757575758, 3.878787878787879, 4.0, 4.121212121212121, 4.242424242424242, 4.363636363636363, 4.484848484848485, 4.606060606060606, 4.7272727272727275, 4.848484848484849, 4.96969696969697, 5.090909090909091, 5.212121212121212, 5.333333333333334, 5.454545454545455, 5.575757575757576, 5.696969696969697, 5.818181818181818, 5.9393939393939394, 6.0606060606060606, 6.181818181818182, 6.303030303030303, 6.424242424242425, 6.545454545454546, 6.666666666666667, 6.787878787878788, 6.909090909090909, 7.03030303030303, 7.151515151515151, 7.272727272727273, 7.3939393939393945, 7.515151515151516, 7.636363636363637, 7.757575757575758, 7.878787878787879, 8.0, 8.121212121212121, 8.242424242424242, 8.363636363636363, 8.484848484848484, 8.606060606060606, 8.727272727272727, 8.84848484848485, 8.96969696969697, 9.090909090909092, 9.212121212121213, 9.333333333333334, 9.454545454545455, 9.575757575757576, 9.696969696969697, 9.818181818181818, 9.93939393939394, 10.06060606060606, 10.181818181818182, 10.303030303030303, 10.424242424242424, 10.545454545454545, 10.666666666666668, 10.787878787878789, 10.90909090909091, 11.030303030303031, 11.151515151515152, 11.272727272727273, 11.393939393939394, 11.515151515151516, 11.636363636363637, 11.757575757575758, 11.878787878787879, 12.0], \"xaxis\": \"x2\", \"y\": [8.661432182879831e-46, 2.6579889212887266e-44, 7.691186601743355e-43, 2.0985061904662385e-41, 5.398882625838501e-40, 1.3097072801696033e-38, 2.9958586729973858e-37, 6.461675244729164e-36, 1.3141521712639083e-34, 2.520129809060136e-33, 4.556977565246604e-32, 7.769759823991483e-31, 1.2491512379054865e-29, 1.8936476611282094e-28, 2.7068242186482318e-27, 3.648359751982531e-26, 4.636731876944752e-25, 5.5565219591838825e-24, 6.278715597314688e-23, 6.689833560408572e-22, 6.721040911793996e-21, 6.366994724954966e-20, 5.687339661761646e-19, 4.79027633961459e-18, 3.804422089542251e-17, 2.849007208427666e-16, 2.0117551828300936e-15, 1.3394713801421523e-14, 8.409467184714817e-14, 4.978290755372231e-13, 2.77887350864412e-12, 1.4626285753494633e-11, 7.258988401643192e-11, 3.3969953644379586e-10, 1.4989621198454426e-09, 6.236821187964616e-09, 2.4468817812350743e-08, 9.051904223119101e-08, 3.1575084407849475e-07, 1.0385496146308632e-06, 3.22098745304559e-06, 9.419575526691797e-06, 2.5975058001518117e-05, 6.754115611754953e-05, 0.00016560504052210538, 0.00038289706569898975, 0.0008348545760225779, 0.001716672875729239, 0.003329334112195336, 0.00609108115688208, 0.010515257175845037, 0.01713691641844975, 0.02638504303756823, 0.038425987574064006, 0.05303852211010764, 0.06960253717001935, 0.08726887844175331, 0.10531520121970643, 0.12359594551394826, 0.14290635301616295, 0.16505562210781818, 0.19251794088609114, 0.22768922570057393, 0.27195656074076313, 0.32489780488487274, 0.38390767119311814, 0.44439680628517614, 0.5005038978115397, 0.5460980612538238, 0.5757987837135392, 0.5858018882118922, 0.5744092113563752, 0.5422432208475602, 0.49215457442826704, 0.4288269676830331, 0.35810026210300444, 0.2860945344890509, 0.21829837426998872, 0.15882803510811944, 0.11002869985514394, 0.07248187868480123, 0.0453541178995755, 0.02693138795018664, 0.015163873591276019, 0.008090594322244656, 0.0040881318467556604, 0.0019554052596701967, 0.0008849938272374597, 0.0003788651103790472, 0.00015336974699661665, 5.8693773488044694e-05, 2.1229602926583886e-05, 7.256060282399578e-06, 2.343097044920178e-06, 7.147256369075866e-07, 2.0591329120545832e-07, 5.6023159359733654e-08, 1.4392509911882272e-08, 3.490948014743988e-09, 7.993637533210951e-10], \"yaxis\": \"y2\"}],\n",
       "                        {\"annotations\": [{\"font\": {\"size\": 16}, \"showarrow\": false, \"text\": \"cl: 2\", \"x\": 0.5, \"xanchor\": \"center\", \"xref\": \"paper\", \"y\": 1.0, \"yanchor\": \"bottom\", \"yref\": \"paper\"}, {\"font\": {\"size\": 16}, \"showarrow\": false, \"text\": \"cl: 3\", \"x\": 0.5, \"xanchor\": \"center\", \"xref\": \"paper\", \"y\": 0.375, \"yanchor\": \"bottom\", \"yref\": \"paper\"}], \"height\": 500, \"template\": {\"data\": {\"bar\": [{\"error_x\": {\"color\": \"#2a3f5f\"}, \"error_y\": {\"color\": \"#2a3f5f\"}, \"marker\": {\"line\": {\"color\": \"#E5ECF6\", \"width\": 0.5}}, \"type\": \"bar\"}], \"barpolar\": [{\"marker\": {\"line\": {\"color\": \"#E5ECF6\", \"width\": 0.5}}, \"type\": \"barpolar\"}], \"carpet\": [{\"aaxis\": {\"endlinecolor\": \"#2a3f5f\", \"gridcolor\": \"white\", \"linecolor\": \"white\", \"minorgridcolor\": \"white\", \"startlinecolor\": \"#2a3f5f\"}, \"baxis\": {\"endlinecolor\": \"#2a3f5f\", \"gridcolor\": \"white\", \"linecolor\": \"white\", \"minorgridcolor\": \"white\", \"startlinecolor\": \"#2a3f5f\"}, \"type\": \"carpet\"}], \"choropleth\": [{\"colorbar\": {\"outlinewidth\": 0, \"ticks\": \"\"}, \"type\": \"choropleth\"}], \"contour\": [{\"colorbar\": {\"outlinewidth\": 0, \"ticks\": \"\"}, \"colorscale\": [[0.0, \"#0d0887\"], [0.1111111111111111, \"#46039f\"], [0.2222222222222222, \"#7201a8\"], [0.3333333333333333, \"#9c179e\"], [0.4444444444444444, \"#bd3786\"], [0.5555555555555556, \"#d8576b\"], [0.6666666666666666, \"#ed7953\"], [0.7777777777777778, \"#fb9f3a\"], [0.8888888888888888, \"#fdca26\"], [1.0, \"#f0f921\"]], \"type\": \"contour\"}], \"contourcarpet\": [{\"colorbar\": {\"outlinewidth\": 0, \"ticks\": \"\"}, \"type\": \"contourcarpet\"}], \"heatmap\": [{\"colorbar\": {\"outlinewidth\": 0, \"ticks\": \"\"}, \"colorscale\": [[0.0, \"#0d0887\"], [0.1111111111111111, \"#46039f\"], [0.2222222222222222, \"#7201a8\"], [0.3333333333333333, \"#9c179e\"], [0.4444444444444444, \"#bd3786\"], [0.5555555555555556, \"#d8576b\"], [0.6666666666666666, \"#ed7953\"], [0.7777777777777778, \"#fb9f3a\"], [0.8888888888888888, \"#fdca26\"], [1.0, \"#f0f921\"]], \"type\": \"heatmap\"}], \"heatmapgl\": [{\"colorbar\": {\"outlinewidth\": 0, \"ticks\": \"\"}, \"colorscale\": [[0.0, \"#0d0887\"], [0.1111111111111111, \"#46039f\"], [0.2222222222222222, \"#7201a8\"], [0.3333333333333333, \"#9c179e\"], [0.4444444444444444, \"#bd3786\"], [0.5555555555555556, \"#d8576b\"], [0.6666666666666666, \"#ed7953\"], [0.7777777777777778, \"#fb9f3a\"], [0.8888888888888888, \"#fdca26\"], [1.0, \"#f0f921\"]], \"type\": \"heatmapgl\"}], \"histogram\": [{\"marker\": {\"colorbar\": {\"outlinewidth\": 0, \"ticks\": \"\"}}, \"type\": \"histogram\"}], \"histogram2d\": [{\"colorbar\": {\"outlinewidth\": 0, \"ticks\": \"\"}, \"colorscale\": [[0.0, \"#0d0887\"], [0.1111111111111111, \"#46039f\"], [0.2222222222222222, \"#7201a8\"], [0.3333333333333333, \"#9c179e\"], [0.4444444444444444, \"#bd3786\"], [0.5555555555555556, \"#d8576b\"], [0.6666666666666666, \"#ed7953\"], [0.7777777777777778, \"#fb9f3a\"], [0.8888888888888888, \"#fdca26\"], [1.0, \"#f0f921\"]], \"type\": \"histogram2d\"}], \"histogram2dcontour\": [{\"colorbar\": {\"outlinewidth\": 0, \"ticks\": \"\"}, \"colorscale\": [[0.0, \"#0d0887\"], [0.1111111111111111, \"#46039f\"], [0.2222222222222222, \"#7201a8\"], [0.3333333333333333, \"#9c179e\"], [0.4444444444444444, \"#bd3786\"], [0.5555555555555556, \"#d8576b\"], [0.6666666666666666, \"#ed7953\"], [0.7777777777777778, \"#fb9f3a\"], [0.8888888888888888, \"#fdca26\"], [1.0, \"#f0f921\"]], \"type\": \"histogram2dcontour\"}], \"mesh3d\": [{\"colorbar\": {\"outlinewidth\": 0, \"ticks\": \"\"}, \"type\": \"mesh3d\"}], \"parcoords\": [{\"line\": {\"colorbar\": {\"outlinewidth\": 0, \"ticks\": \"\"}}, \"type\": \"parcoords\"}], \"pie\": [{\"automargin\": true, \"type\": \"pie\"}], \"scatter\": [{\"marker\": {\"colorbar\": {\"outlinewidth\": 0, \"ticks\": \"\"}}, \"type\": \"scatter\"}], \"scatter3d\": [{\"line\": {\"colorbar\": {\"outlinewidth\": 0, \"ticks\": \"\"}}, \"marker\": {\"colorbar\": {\"outlinewidth\": 0, \"ticks\": \"\"}}, \"type\": \"scatter3d\"}], \"scattercarpet\": [{\"marker\": {\"colorbar\": {\"outlinewidth\": 0, \"ticks\": \"\"}}, \"type\": \"scattercarpet\"}], \"scattergeo\": [{\"marker\": {\"colorbar\": {\"outlinewidth\": 0, \"ticks\": \"\"}}, \"type\": \"scattergeo\"}], \"scattergl\": [{\"marker\": {\"colorbar\": {\"outlinewidth\": 0, \"ticks\": \"\"}}, \"type\": \"scattergl\"}], \"scattermapbox\": [{\"marker\": {\"colorbar\": {\"outlinewidth\": 0, \"ticks\": \"\"}}, \"type\": \"scattermapbox\"}], \"scatterpolar\": [{\"marker\": {\"colorbar\": {\"outlinewidth\": 0, \"ticks\": \"\"}}, \"type\": \"scatterpolar\"}], \"scatterpolargl\": [{\"marker\": {\"colorbar\": {\"outlinewidth\": 0, \"ticks\": \"\"}}, \"type\": \"scatterpolargl\"}], \"scatterternary\": [{\"marker\": {\"colorbar\": {\"outlinewidth\": 0, \"ticks\": \"\"}}, \"type\": \"scatterternary\"}], \"surface\": [{\"colorbar\": {\"outlinewidth\": 0, \"ticks\": \"\"}, \"colorscale\": [[0.0, \"#0d0887\"], [0.1111111111111111, \"#46039f\"], [0.2222222222222222, \"#7201a8\"], [0.3333333333333333, \"#9c179e\"], [0.4444444444444444, \"#bd3786\"], [0.5555555555555556, \"#d8576b\"], [0.6666666666666666, \"#ed7953\"], [0.7777777777777778, \"#fb9f3a\"], [0.8888888888888888, \"#fdca26\"], [1.0, \"#f0f921\"]], \"type\": \"surface\"}], \"table\": [{\"cells\": {\"fill\": {\"color\": \"#EBF0F8\"}, \"line\": {\"color\": \"white\"}}, \"header\": {\"fill\": {\"color\": \"#C8D4E3\"}, \"line\": {\"color\": \"white\"}}, \"type\": \"table\"}]}, \"layout\": {\"annotationdefaults\": {\"arrowcolor\": \"#2a3f5f\", \"arrowhead\": 0, \"arrowwidth\": 1}, \"coloraxis\": {\"colorbar\": {\"outlinewidth\": 0, \"ticks\": \"\"}}, \"colorscale\": {\"diverging\": [[0, \"#8e0152\"], [0.1, \"#c51b7d\"], [0.2, \"#de77ae\"], [0.3, \"#f1b6da\"], [0.4, \"#fde0ef\"], [0.5, \"#f7f7f7\"], [0.6, \"#e6f5d0\"], [0.7, \"#b8e186\"], [0.8, \"#7fbc41\"], [0.9, \"#4d9221\"], [1, \"#276419\"]], \"sequential\": [[0.0, \"#0d0887\"], [0.1111111111111111, \"#46039f\"], [0.2222222222222222, \"#7201a8\"], [0.3333333333333333, \"#9c179e\"], [0.4444444444444444, \"#bd3786\"], [0.5555555555555556, \"#d8576b\"], [0.6666666666666666, \"#ed7953\"], [0.7777777777777778, \"#fb9f3a\"], [0.8888888888888888, \"#fdca26\"], [1.0, \"#f0f921\"]], \"sequentialminus\": [[0.0, \"#0d0887\"], [0.1111111111111111, \"#46039f\"], [0.2222222222222222, \"#7201a8\"], [0.3333333333333333, \"#9c179e\"], [0.4444444444444444, \"#bd3786\"], [0.5555555555555556, \"#d8576b\"], [0.6666666666666666, \"#ed7953\"], [0.7777777777777778, \"#fb9f3a\"], [0.8888888888888888, \"#fdca26\"], [1.0, \"#f0f921\"]]}, \"colorway\": [\"#636efa\", \"#EF553B\", \"#00cc96\", \"#ab63fa\", \"#FFA15A\", \"#19d3f3\", \"#FF6692\", \"#B6E880\", \"#FF97FF\", \"#FECB52\"], \"font\": {\"color\": \"#2a3f5f\"}, \"geo\": {\"bgcolor\": \"white\", \"lakecolor\": \"white\", \"landcolor\": \"#E5ECF6\", \"showlakes\": true, \"showland\": true, \"subunitcolor\": \"white\"}, \"hoverlabel\": {\"align\": \"left\"}, \"hovermode\": \"closest\", \"mapbox\": {\"style\": \"light\"}, \"paper_bgcolor\": \"white\", \"plot_bgcolor\": \"#E5ECF6\", \"polar\": {\"angularaxis\": {\"gridcolor\": \"white\", \"linecolor\": \"white\", \"ticks\": \"\"}, \"bgcolor\": \"#E5ECF6\", \"radialaxis\": {\"gridcolor\": \"white\", \"linecolor\": \"white\", \"ticks\": \"\"}}, \"scene\": {\"xaxis\": {\"backgroundcolor\": \"#E5ECF6\", \"gridcolor\": \"white\", \"gridwidth\": 2, \"linecolor\": \"white\", \"showbackground\": true, \"ticks\": \"\", \"zerolinecolor\": \"white\"}, \"yaxis\": {\"backgroundcolor\": \"#E5ECF6\", \"gridcolor\": \"white\", \"gridwidth\": 2, \"linecolor\": \"white\", \"showbackground\": true, \"ticks\": \"\", \"zerolinecolor\": \"white\"}, \"zaxis\": {\"backgroundcolor\": \"#E5ECF6\", \"gridcolor\": \"white\", \"gridwidth\": 2, \"linecolor\": \"white\", \"showbackground\": true, \"ticks\": \"\", \"zerolinecolor\": \"white\"}}, \"shapedefaults\": {\"line\": {\"color\": \"#2a3f5f\"}}, \"ternary\": {\"aaxis\": {\"gridcolor\": \"white\", \"linecolor\": \"white\", \"ticks\": \"\"}, \"baxis\": {\"gridcolor\": \"white\", \"linecolor\": \"white\", \"ticks\": \"\"}, \"bgcolor\": \"#E5ECF6\", \"caxis\": {\"gridcolor\": \"white\", \"linecolor\": \"white\", \"ticks\": \"\"}}, \"title\": {\"x\": 0.05}, \"xaxis\": {\"automargin\": true, \"gridcolor\": \"white\", \"linecolor\": \"white\", \"ticks\": \"\", \"title\": {\"standoff\": 15}, \"zerolinecolor\": \"white\", \"zerolinewidth\": 2}, \"yaxis\": {\"automargin\": true, \"gridcolor\": \"white\", \"linecolor\": \"white\", \"ticks\": \"\", \"title\": {\"standoff\": 15}, \"zerolinecolor\": \"white\", \"zerolinewidth\": 2}}}, \"width\": 900, \"xaxis\": {\"anchor\": \"y\", \"domain\": [0.0, 1.0], \"title\": {\"text\": \"pca dist\"}}, \"xaxis2\": {\"anchor\": \"y2\", \"domain\": [0.0, 1.0], \"title\": {\"text\": \"pca dist\"}}, \"yaxis\": {\"anchor\": \"x\", \"domain\": [0.625, 1.0], \"range\": [0, 0.7217345232857193], \"title\": {\"text\": \"L\"}}, \"yaxis2\": {\"anchor\": \"x2\", \"domain\": [0.0, 0.375], \"range\": [0, 0.6443820770330814], \"title\": {\"text\": \"L\"}}},\n",
       "                        {\"responsive\": true}\n",
       "                    ).then(function(){\n",
       "                            \n",
       "var gd = document.getElementById('e1ab4dfd-1137-4971-8642-9bea1924a4af');\n",
       "var x = new MutationObserver(function (mutations, observer) {{\n",
       "        var display = window.getComputedStyle(gd).display;\n",
       "        if (!display || display === 'none') {{\n",
       "            console.log([gd, 'removed!']);\n",
       "            Plotly.purge(gd);\n",
       "            observer.disconnect();\n",
       "        }}\n",
       "}});\n",
       "\n",
       "// Listen for the removal of the full notebook cells\n",
       "var notebookContainer = gd.closest('#notebook-container');\n",
       "if (notebookContainer) {{\n",
       "    x.observe(notebookContainer, {childList: true});\n",
       "}}\n",
       "\n",
       "// Listen for the clearing of the current output cell\n",
       "var outputEl = gd.closest('.output');\n",
       "if (outputEl) {{\n",
       "    x.observe(outputEl, {childList: true});\n",
       "}}\n",
       "\n",
       "                        })\n",
       "                };\n",
       "                });\n",
       "            </script>\n",
       "        </div>"
      ]
     },
     "metadata": {},
     "output_type": "display_data"
    },
    {
     "name": "stdout",
     "output_type": "stream",
     "text": [
      "['cl: 0', 'cl: 3']\n",
      "0\n",
      "1\n"
     ]
    },
    {
     "data": {
      "application/vnd.plotly.v1+json": {
       "config": {
        "linkText": "Export to plot.ly",
        "plotlyServerURL": "https://plot.ly",
        "showLink": false
       },
       "data": [
        {
         "mode": "markers",
         "name": "cl: 0",
         "type": "scatter",
         "x": [
          0,
          0.12121212121212122,
          0.24242424242424243,
          0.36363636363636365,
          0.48484848484848486,
          0.6060606060606061,
          0.7272727272727273,
          0.8484848484848485,
          0.9696969696969697,
          1.0909090909090908,
          1.2121212121212122,
          1.3333333333333335,
          1.4545454545454546,
          1.5757575757575757,
          1.696969696969697,
          1.8181818181818183,
          1.9393939393939394,
          2.0606060606060606,
          2.1818181818181817,
          2.303030303030303,
          2.4242424242424243,
          2.5454545454545454,
          2.666666666666667,
          2.787878787878788,
          2.909090909090909,
          3.0303030303030303,
          3.1515151515151514,
          3.272727272727273,
          3.393939393939394,
          3.515151515151515,
          3.6363636363636367,
          3.757575757575758,
          3.878787878787879,
          4,
          4.121212121212121,
          4.242424242424242,
          4.363636363636363,
          4.484848484848485,
          4.606060606060606,
          4.7272727272727275,
          4.848484848484849,
          4.96969696969697,
          5.090909090909091,
          5.212121212121212,
          5.333333333333334,
          5.454545454545455,
          5.575757575757576,
          5.696969696969697,
          5.818181818181818,
          5.9393939393939394,
          6.0606060606060606,
          6.181818181818182,
          6.303030303030303,
          6.424242424242425,
          6.545454545454546,
          6.666666666666667,
          6.787878787878788,
          6.909090909090909,
          7.03030303030303,
          7.151515151515151,
          7.272727272727273,
          7.3939393939393945,
          7.515151515151516,
          7.636363636363637,
          7.757575757575758,
          7.878787878787879,
          8,
          8.121212121212121,
          8.242424242424242,
          8.363636363636363,
          8.484848484848484,
          8.606060606060606,
          8.727272727272727,
          8.84848484848485,
          8.96969696969697,
          9.090909090909092,
          9.212121212121213,
          9.333333333333334,
          9.454545454545455,
          9.575757575757576,
          9.696969696969697,
          9.818181818181818,
          9.93939393939394,
          10.06060606060606,
          10.181818181818182,
          10.303030303030303,
          10.424242424242424,
          10.545454545454545,
          10.666666666666668,
          10.787878787878789,
          10.90909090909091,
          11.030303030303031,
          11.151515151515152,
          11.272727272727273,
          11.393939393939394,
          11.515151515151516,
          11.636363636363637,
          11.757575757575758,
          11.878787878787879,
          12
         ],
         "xaxis": "x",
         "y": [
          2.7679196800085364e-26,
          3.5813442773881334e-25,
          4.3716144883059054e-24,
          5.0345137028571445e-23,
          5.4702955890068285e-22,
          5.6081602145127014e-21,
          5.425080636717673e-20,
          4.952095826206166e-19,
          4.2657058016640185e-18,
          3.467646349011684e-17,
          2.660386890577332e-16,
          1.9263977413347664e-15,
          1.3166316495096996e-14,
          8.494281966087892e-14,
          5.173217981956693e-13,
          2.974369742826968e-12,
          1.614574537550176e-11,
          8.275219318336958e-11,
          4.0048728462412353e-10,
          1.83027079047814e-09,
          7.899303804808018e-09,
          3.219869353186415e-08,
          1.2396304138553605e-07,
          4.5079446625799584e-07,
          1.5485464990813205e-06,
          5.025220860934829e-06,
          1.5406219745374665e-05,
          4.462423279856604e-05,
          0.00012212425509407047,
          0.00031579967130690673,
          0.0007716528331210698,
          0.0017817855034812362,
          0.003888093128631978,
          0.008018515832876574,
          0.01563010991450105,
          0.028799520593018043,
          0.05016755777743149,
          0.08263347981862172,
          0.12873490240866384,
          0.1897575176638945,
          0.26477651424668375,
          0.3499734336599837,
          0.43860435455569413,
          0.5218473928417687,
          0.5904436944675794,
          0.6366894794129255,
          0.6561222938961084,
          0.6483132568660244,
          0.616525122525608,
          0.5664575433953579,
          0.504638350671383,
          0.4370678723557543,
          0.36848841786545383,
          0.30229500045358726,
          0.2408303182533618,
          0.1857368824543917,
          0.13815355917123423,
          0.09872747633940043,
          0.06754434663324387,
          0.04410543090354606,
          0.02741971272627737,
          0.01619726620571086,
          0.009077389473811733,
          0.004820678382453223,
          0.0024237686158713498,
          0.0011529460118940593,
          0.0005185952815001361,
          0.00022047897812434904,
          8.856850068264504e-05,
          3.360832924741855e-05,
          1.2044057186303826e-05,
          4.0754483763194425e-06,
          1.3019229461912776e-06,
          3.925930827176982e-07,
          1.1173658158389705e-07,
          3.0012193836733413e-08,
          7.606927996560176e-09,
          1.8192575640886254e-09,
          4.1050688690492224e-10,
          8.738956451291273e-11,
          1.7550363076326908e-11,
          3.3248899103889942e-12,
          5.941727192377912e-13,
          1.0015536333045619e-13,
          1.5923755503241422e-14,
          2.3878774259894372e-15,
          3.3772312811817263e-16,
          4.504848790730829e-17,
          5.6670875320959765e-18,
          6.723426726568183e-19,
          7.522535605085729e-20,
          7.937309446762708e-21,
          7.897894406179379e-22,
          7.410925836855671e-23,
          6.557700345660867e-24,
          5.471973916357532e-25,
          4.305719394309655e-26,
          3.1948688828046063e-27,
          2.235438515856363e-28,
          1.4749317201064897e-29
         ],
         "yaxis": "y"
        },
        {
         "mode": "markers",
         "name": "cl: 3",
         "type": "scatter",
         "x": [
          0,
          0.12121212121212122,
          0.24242424242424243,
          0.36363636363636365,
          0.48484848484848486,
          0.6060606060606061,
          0.7272727272727273,
          0.8484848484848485,
          0.9696969696969697,
          1.0909090909090908,
          1.2121212121212122,
          1.3333333333333335,
          1.4545454545454546,
          1.5757575757575757,
          1.696969696969697,
          1.8181818181818183,
          1.9393939393939394,
          2.0606060606060606,
          2.1818181818181817,
          2.303030303030303,
          2.4242424242424243,
          2.5454545454545454,
          2.666666666666667,
          2.787878787878788,
          2.909090909090909,
          3.0303030303030303,
          3.1515151515151514,
          3.272727272727273,
          3.393939393939394,
          3.515151515151515,
          3.6363636363636367,
          3.757575757575758,
          3.878787878787879,
          4,
          4.121212121212121,
          4.242424242424242,
          4.363636363636363,
          4.484848484848485,
          4.606060606060606,
          4.7272727272727275,
          4.848484848484849,
          4.96969696969697,
          5.090909090909091,
          5.212121212121212,
          5.333333333333334,
          5.454545454545455,
          5.575757575757576,
          5.696969696969697,
          5.818181818181818,
          5.9393939393939394,
          6.0606060606060606,
          6.181818181818182,
          6.303030303030303,
          6.424242424242425,
          6.545454545454546,
          6.666666666666667,
          6.787878787878788,
          6.909090909090909,
          7.03030303030303,
          7.151515151515151,
          7.272727272727273,
          7.3939393939393945,
          7.515151515151516,
          7.636363636363637,
          7.757575757575758,
          7.878787878787879,
          8,
          8.121212121212121,
          8.242424242424242,
          8.363636363636363,
          8.484848484848484,
          8.606060606060606,
          8.727272727272727,
          8.84848484848485,
          8.96969696969697,
          9.090909090909092,
          9.212121212121213,
          9.333333333333334,
          9.454545454545455,
          9.575757575757576,
          9.696969696969697,
          9.818181818181818,
          9.93939393939394,
          10.06060606060606,
          10.181818181818182,
          10.303030303030303,
          10.424242424242424,
          10.545454545454545,
          10.666666666666668,
          10.787878787878789,
          10.90909090909091,
          11.030303030303031,
          11.151515151515152,
          11.272727272727273,
          11.393939393939394,
          11.515151515151516,
          11.636363636363637,
          11.757575757575758,
          11.878787878787879,
          12
         ],
         "xaxis": "x2",
         "y": [
          6.394646515578277e-72,
          4.861247515184248e-70,
          3.4846218101115073e-68,
          2.355267783082402e-66,
          1.501072460551125e-64,
          9.02068977638996e-63,
          5.111572942691189e-61,
          2.7311534537586905e-59,
          1.3759871134758708e-57,
          6.536712071583912e-56,
          2.928067399655537e-54,
          1.236743133019494e-52,
          4.925549303862587e-51,
          1.8497224103985172e-49,
          6.549907558272318e-48,
          2.186958327618281e-46,
          6.885295270059096e-45,
          2.0440021849804074e-43,
          5.721591752634827e-42,
          1.5101813495968693e-40,
          3.758530362884174e-39,
          8.820307949277037e-38,
          1.9517588540281838e-36,
          4.072351841778608e-35,
          8.012003911918788e-34,
          1.4863248447443174e-32,
          2.5999383322581594e-31,
          4.288338728034797e-30,
          6.669477976866738e-29,
          9.78073133312767e-28,
          1.352469695015887e-26,
          1.763439169352536e-25,
          2.16805428459263e-24,
          2.5133707185142745e-23,
          2.747386011392826e-22,
          2.83178025994288e-21,
          2.752175712443993e-20,
          2.5221418781980515e-19,
          2.1794134456731502e-18,
          1.775769161749348e-17,
          1.364300959954499e-16,
          9.883498019225061e-16,
          6.751309770929714e-15,
          4.348528395089032e-14,
          2.6410315458246645e-13,
          1.5124533582242232e-12,
          8.167096517431226e-12,
          4.1584446747796775e-11,
          1.9965126388289957e-10,
          9.038400960218614e-10,
          3.858249210231154e-09,
          1.5529916790107877e-08,
          5.894265160200711e-08,
          2.109473471713161e-07,
          7.118778120019439e-07,
          2.2653137393081545e-06,
          6.79750164142849e-06,
          1.9234364326796538e-05,
          5.132485278711372e-05,
          0.0001291573315867917,
          0.0003065358728939984,
          0.0006862108467218406,
          0.001449143427462761,
          0.002887596145312246,
          0.00543089977392467,
          0.009645482071376549,
          0.016188275780186,
          0.02570160707799321,
          0.03866202896039369,
          0.05523062415884121,
          0.07518145660668625,
          0.09798402560993424,
          0.12306703664405143,
          0.15020024213125904,
          0.17983548541170408,
          0.21320347913289675,
          0.2520138160840686,
          0.2977529532815665,
          0.35076397077452415,
          0.40943470166237483,
          0.46984055595235763,
          0.5260618574454328,
          0.5711679097636702,
          0.5986234751090931,
          0.6037227738353931,
          0.5846462342220546,
          0.5428605512768585,
          0.4827870581504087,
          0.41087029721222107,
          0.3343231560604909,
          0.2598737844562224,
          0.19279404362648686,
          0.13637676261249007,
          0.09189052698288787,
          0.05891843839526604,
          0.035913546988093625,
          0.020791618480612565,
          0.011422599000209687,
          0.005950372068454844,
          0.0029370840150053728
         ],
         "yaxis": "y2"
        }
       ],
       "layout": {
        "annotations": [
         {
          "font": {
           "size": 16
          },
          "showarrow": false,
          "text": "cl: 0",
          "x": 0.5,
          "xanchor": "center",
          "xref": "paper",
          "y": 1,
          "yanchor": "bottom",
          "yref": "paper"
         },
         {
          "font": {
           "size": 16
          },
          "showarrow": false,
          "text": "cl: 3",
          "x": 0.5,
          "xanchor": "center",
          "xref": "paper",
          "y": 0.375,
          "yanchor": "bottom",
          "yref": "paper"
         }
        ],
        "height": 500,
        "template": {
         "data": {
          "bar": [
           {
            "error_x": {
             "color": "#2a3f5f"
            },
            "error_y": {
             "color": "#2a3f5f"
            },
            "marker": {
             "line": {
              "color": "#E5ECF6",
              "width": 0.5
             }
            },
            "type": "bar"
           }
          ],
          "barpolar": [
           {
            "marker": {
             "line": {
              "color": "#E5ECF6",
              "width": 0.5
             }
            },
            "type": "barpolar"
           }
          ],
          "carpet": [
           {
            "aaxis": {
             "endlinecolor": "#2a3f5f",
             "gridcolor": "white",
             "linecolor": "white",
             "minorgridcolor": "white",
             "startlinecolor": "#2a3f5f"
            },
            "baxis": {
             "endlinecolor": "#2a3f5f",
             "gridcolor": "white",
             "linecolor": "white",
             "minorgridcolor": "white",
             "startlinecolor": "#2a3f5f"
            },
            "type": "carpet"
           }
          ],
          "choropleth": [
           {
            "colorbar": {
             "outlinewidth": 0,
             "ticks": ""
            },
            "type": "choropleth"
           }
          ],
          "contour": [
           {
            "colorbar": {
             "outlinewidth": 0,
             "ticks": ""
            },
            "colorscale": [
             [
              0,
              "#0d0887"
             ],
             [
              0.1111111111111111,
              "#46039f"
             ],
             [
              0.2222222222222222,
              "#7201a8"
             ],
             [
              0.3333333333333333,
              "#9c179e"
             ],
             [
              0.4444444444444444,
              "#bd3786"
             ],
             [
              0.5555555555555556,
              "#d8576b"
             ],
             [
              0.6666666666666666,
              "#ed7953"
             ],
             [
              0.7777777777777778,
              "#fb9f3a"
             ],
             [
              0.8888888888888888,
              "#fdca26"
             ],
             [
              1,
              "#f0f921"
             ]
            ],
            "type": "contour"
           }
          ],
          "contourcarpet": [
           {
            "colorbar": {
             "outlinewidth": 0,
             "ticks": ""
            },
            "type": "contourcarpet"
           }
          ],
          "heatmap": [
           {
            "colorbar": {
             "outlinewidth": 0,
             "ticks": ""
            },
            "colorscale": [
             [
              0,
              "#0d0887"
             ],
             [
              0.1111111111111111,
              "#46039f"
             ],
             [
              0.2222222222222222,
              "#7201a8"
             ],
             [
              0.3333333333333333,
              "#9c179e"
             ],
             [
              0.4444444444444444,
              "#bd3786"
             ],
             [
              0.5555555555555556,
              "#d8576b"
             ],
             [
              0.6666666666666666,
              "#ed7953"
             ],
             [
              0.7777777777777778,
              "#fb9f3a"
             ],
             [
              0.8888888888888888,
              "#fdca26"
             ],
             [
              1,
              "#f0f921"
             ]
            ],
            "type": "heatmap"
           }
          ],
          "heatmapgl": [
           {
            "colorbar": {
             "outlinewidth": 0,
             "ticks": ""
            },
            "colorscale": [
             [
              0,
              "#0d0887"
             ],
             [
              0.1111111111111111,
              "#46039f"
             ],
             [
              0.2222222222222222,
              "#7201a8"
             ],
             [
              0.3333333333333333,
              "#9c179e"
             ],
             [
              0.4444444444444444,
              "#bd3786"
             ],
             [
              0.5555555555555556,
              "#d8576b"
             ],
             [
              0.6666666666666666,
              "#ed7953"
             ],
             [
              0.7777777777777778,
              "#fb9f3a"
             ],
             [
              0.8888888888888888,
              "#fdca26"
             ],
             [
              1,
              "#f0f921"
             ]
            ],
            "type": "heatmapgl"
           }
          ],
          "histogram": [
           {
            "marker": {
             "colorbar": {
              "outlinewidth": 0,
              "ticks": ""
             }
            },
            "type": "histogram"
           }
          ],
          "histogram2d": [
           {
            "colorbar": {
             "outlinewidth": 0,
             "ticks": ""
            },
            "colorscale": [
             [
              0,
              "#0d0887"
             ],
             [
              0.1111111111111111,
              "#46039f"
             ],
             [
              0.2222222222222222,
              "#7201a8"
             ],
             [
              0.3333333333333333,
              "#9c179e"
             ],
             [
              0.4444444444444444,
              "#bd3786"
             ],
             [
              0.5555555555555556,
              "#d8576b"
             ],
             [
              0.6666666666666666,
              "#ed7953"
             ],
             [
              0.7777777777777778,
              "#fb9f3a"
             ],
             [
              0.8888888888888888,
              "#fdca26"
             ],
             [
              1,
              "#f0f921"
             ]
            ],
            "type": "histogram2d"
           }
          ],
          "histogram2dcontour": [
           {
            "colorbar": {
             "outlinewidth": 0,
             "ticks": ""
            },
            "colorscale": [
             [
              0,
              "#0d0887"
             ],
             [
              0.1111111111111111,
              "#46039f"
             ],
             [
              0.2222222222222222,
              "#7201a8"
             ],
             [
              0.3333333333333333,
              "#9c179e"
             ],
             [
              0.4444444444444444,
              "#bd3786"
             ],
             [
              0.5555555555555556,
              "#d8576b"
             ],
             [
              0.6666666666666666,
              "#ed7953"
             ],
             [
              0.7777777777777778,
              "#fb9f3a"
             ],
             [
              0.8888888888888888,
              "#fdca26"
             ],
             [
              1,
              "#f0f921"
             ]
            ],
            "type": "histogram2dcontour"
           }
          ],
          "mesh3d": [
           {
            "colorbar": {
             "outlinewidth": 0,
             "ticks": ""
            },
            "type": "mesh3d"
           }
          ],
          "parcoords": [
           {
            "line": {
             "colorbar": {
              "outlinewidth": 0,
              "ticks": ""
             }
            },
            "type": "parcoords"
           }
          ],
          "pie": [
           {
            "automargin": true,
            "type": "pie"
           }
          ],
          "scatter": [
           {
            "marker": {
             "colorbar": {
              "outlinewidth": 0,
              "ticks": ""
             }
            },
            "type": "scatter"
           }
          ],
          "scatter3d": [
           {
            "line": {
             "colorbar": {
              "outlinewidth": 0,
              "ticks": ""
             }
            },
            "marker": {
             "colorbar": {
              "outlinewidth": 0,
              "ticks": ""
             }
            },
            "type": "scatter3d"
           }
          ],
          "scattercarpet": [
           {
            "marker": {
             "colorbar": {
              "outlinewidth": 0,
              "ticks": ""
             }
            },
            "type": "scattercarpet"
           }
          ],
          "scattergeo": [
           {
            "marker": {
             "colorbar": {
              "outlinewidth": 0,
              "ticks": ""
             }
            },
            "type": "scattergeo"
           }
          ],
          "scattergl": [
           {
            "marker": {
             "colorbar": {
              "outlinewidth": 0,
              "ticks": ""
             }
            },
            "type": "scattergl"
           }
          ],
          "scattermapbox": [
           {
            "marker": {
             "colorbar": {
              "outlinewidth": 0,
              "ticks": ""
             }
            },
            "type": "scattermapbox"
           }
          ],
          "scatterpolar": [
           {
            "marker": {
             "colorbar": {
              "outlinewidth": 0,
              "ticks": ""
             }
            },
            "type": "scatterpolar"
           }
          ],
          "scatterpolargl": [
           {
            "marker": {
             "colorbar": {
              "outlinewidth": 0,
              "ticks": ""
             }
            },
            "type": "scatterpolargl"
           }
          ],
          "scatterternary": [
           {
            "marker": {
             "colorbar": {
              "outlinewidth": 0,
              "ticks": ""
             }
            },
            "type": "scatterternary"
           }
          ],
          "surface": [
           {
            "colorbar": {
             "outlinewidth": 0,
             "ticks": ""
            },
            "colorscale": [
             [
              0,
              "#0d0887"
             ],
             [
              0.1111111111111111,
              "#46039f"
             ],
             [
              0.2222222222222222,
              "#7201a8"
             ],
             [
              0.3333333333333333,
              "#9c179e"
             ],
             [
              0.4444444444444444,
              "#bd3786"
             ],
             [
              0.5555555555555556,
              "#d8576b"
             ],
             [
              0.6666666666666666,
              "#ed7953"
             ],
             [
              0.7777777777777778,
              "#fb9f3a"
             ],
             [
              0.8888888888888888,
              "#fdca26"
             ],
             [
              1,
              "#f0f921"
             ]
            ],
            "type": "surface"
           }
          ],
          "table": [
           {
            "cells": {
             "fill": {
              "color": "#EBF0F8"
             },
             "line": {
              "color": "white"
             }
            },
            "header": {
             "fill": {
              "color": "#C8D4E3"
             },
             "line": {
              "color": "white"
             }
            },
            "type": "table"
           }
          ]
         },
         "layout": {
          "annotationdefaults": {
           "arrowcolor": "#2a3f5f",
           "arrowhead": 0,
           "arrowwidth": 1
          },
          "coloraxis": {
           "colorbar": {
            "outlinewidth": 0,
            "ticks": ""
           }
          },
          "colorscale": {
           "diverging": [
            [
             0,
             "#8e0152"
            ],
            [
             0.1,
             "#c51b7d"
            ],
            [
             0.2,
             "#de77ae"
            ],
            [
             0.3,
             "#f1b6da"
            ],
            [
             0.4,
             "#fde0ef"
            ],
            [
             0.5,
             "#f7f7f7"
            ],
            [
             0.6,
             "#e6f5d0"
            ],
            [
             0.7,
             "#b8e186"
            ],
            [
             0.8,
             "#7fbc41"
            ],
            [
             0.9,
             "#4d9221"
            ],
            [
             1,
             "#276419"
            ]
           ],
           "sequential": [
            [
             0,
             "#0d0887"
            ],
            [
             0.1111111111111111,
             "#46039f"
            ],
            [
             0.2222222222222222,
             "#7201a8"
            ],
            [
             0.3333333333333333,
             "#9c179e"
            ],
            [
             0.4444444444444444,
             "#bd3786"
            ],
            [
             0.5555555555555556,
             "#d8576b"
            ],
            [
             0.6666666666666666,
             "#ed7953"
            ],
            [
             0.7777777777777778,
             "#fb9f3a"
            ],
            [
             0.8888888888888888,
             "#fdca26"
            ],
            [
             1,
             "#f0f921"
            ]
           ],
           "sequentialminus": [
            [
             0,
             "#0d0887"
            ],
            [
             0.1111111111111111,
             "#46039f"
            ],
            [
             0.2222222222222222,
             "#7201a8"
            ],
            [
             0.3333333333333333,
             "#9c179e"
            ],
            [
             0.4444444444444444,
             "#bd3786"
            ],
            [
             0.5555555555555556,
             "#d8576b"
            ],
            [
             0.6666666666666666,
             "#ed7953"
            ],
            [
             0.7777777777777778,
             "#fb9f3a"
            ],
            [
             0.8888888888888888,
             "#fdca26"
            ],
            [
             1,
             "#f0f921"
            ]
           ]
          },
          "colorway": [
           "#636efa",
           "#EF553B",
           "#00cc96",
           "#ab63fa",
           "#FFA15A",
           "#19d3f3",
           "#FF6692",
           "#B6E880",
           "#FF97FF",
           "#FECB52"
          ],
          "font": {
           "color": "#2a3f5f"
          },
          "geo": {
           "bgcolor": "white",
           "lakecolor": "white",
           "landcolor": "#E5ECF6",
           "showlakes": true,
           "showland": true,
           "subunitcolor": "white"
          },
          "hoverlabel": {
           "align": "left"
          },
          "hovermode": "closest",
          "mapbox": {
           "style": "light"
          },
          "paper_bgcolor": "white",
          "plot_bgcolor": "#E5ECF6",
          "polar": {
           "angularaxis": {
            "gridcolor": "white",
            "linecolor": "white",
            "ticks": ""
           },
           "bgcolor": "#E5ECF6",
           "radialaxis": {
            "gridcolor": "white",
            "linecolor": "white",
            "ticks": ""
           }
          },
          "scene": {
           "xaxis": {
            "backgroundcolor": "#E5ECF6",
            "gridcolor": "white",
            "gridwidth": 2,
            "linecolor": "white",
            "showbackground": true,
            "ticks": "",
            "zerolinecolor": "white"
           },
           "yaxis": {
            "backgroundcolor": "#E5ECF6",
            "gridcolor": "white",
            "gridwidth": 2,
            "linecolor": "white",
            "showbackground": true,
            "ticks": "",
            "zerolinecolor": "white"
           },
           "zaxis": {
            "backgroundcolor": "#E5ECF6",
            "gridcolor": "white",
            "gridwidth": 2,
            "linecolor": "white",
            "showbackground": true,
            "ticks": "",
            "zerolinecolor": "white"
           }
          },
          "shapedefaults": {
           "line": {
            "color": "#2a3f5f"
           }
          },
          "ternary": {
           "aaxis": {
            "gridcolor": "white",
            "linecolor": "white",
            "ticks": ""
           },
           "baxis": {
            "gridcolor": "white",
            "linecolor": "white",
            "ticks": ""
           },
           "bgcolor": "#E5ECF6",
           "caxis": {
            "gridcolor": "white",
            "linecolor": "white",
            "ticks": ""
           }
          },
          "title": {
           "x": 0.05
          },
          "xaxis": {
           "automargin": true,
           "gridcolor": "white",
           "linecolor": "white",
           "ticks": "",
           "title": {
            "standoff": 15
           },
           "zerolinecolor": "white",
           "zerolinewidth": 2
          },
          "yaxis": {
           "automargin": true,
           "gridcolor": "white",
           "linecolor": "white",
           "ticks": "",
           "title": {
            "standoff": 15
           },
           "zerolinecolor": "white",
           "zerolinewidth": 2
          }
         }
        },
        "width": 900,
        "xaxis": {
         "anchor": "y",
         "domain": [
          0,
          1
         ],
         "title": {
          "text": "pca dist"
         }
        },
        "xaxis2": {
         "anchor": "y2",
         "domain": [
          0,
          1
         ],
         "title": {
          "text": "pca dist"
         }
        },
        "yaxis": {
         "anchor": "x",
         "domain": [
          0.625,
          1
         ],
         "range": [
          0,
          0.7217345232857193
         ],
         "title": {
          "text": "L"
         }
        },
        "yaxis2": {
         "anchor": "x2",
         "domain": [
          0,
          0.375
         ],
         "range": [
          0,
          0.6640950512189324
         ],
         "title": {
          "text": "L"
         }
        }
       }
      },
      "text/html": [
       "<div>\n",
       "        \n",
       "        \n",
       "            <div id=\"6508353d-1240-46ff-93af-aa8dddf63878\" class=\"plotly-graph-div\" style=\"height:500px; width:900px;\"></div>\n",
       "            <script type=\"text/javascript\">\n",
       "                require([\"plotly\"], function(Plotly) {\n",
       "                    window.PLOTLYENV=window.PLOTLYENV || {};\n",
       "                    \n",
       "                if (document.getElementById(\"6508353d-1240-46ff-93af-aa8dddf63878\")) {\n",
       "                    Plotly.newPlot(\n",
       "                        '6508353d-1240-46ff-93af-aa8dddf63878',\n",
       "                        [{\"mode\": \"markers\", \"name\": \"cl: 0\", \"type\": \"scatter\", \"x\": [0.0, 0.12121212121212122, 0.24242424242424243, 0.36363636363636365, 0.48484848484848486, 0.6060606060606061, 0.7272727272727273, 0.8484848484848485, 0.9696969696969697, 1.0909090909090908, 1.2121212121212122, 1.3333333333333335, 1.4545454545454546, 1.5757575757575757, 1.696969696969697, 1.8181818181818183, 1.9393939393939394, 2.0606060606060606, 2.1818181818181817, 2.303030303030303, 2.4242424242424243, 2.5454545454545454, 2.666666666666667, 2.787878787878788, 2.909090909090909, 3.0303030303030303, 3.1515151515151514, 3.272727272727273, 3.393939393939394, 3.515151515151515, 3.6363636363636367, 3.757575757575758, 3.878787878787879, 4.0, 4.121212121212121, 4.242424242424242, 4.363636363636363, 4.484848484848485, 4.606060606060606, 4.7272727272727275, 4.848484848484849, 4.96969696969697, 5.090909090909091, 5.212121212121212, 5.333333333333334, 5.454545454545455, 5.575757575757576, 5.696969696969697, 5.818181818181818, 5.9393939393939394, 6.0606060606060606, 6.181818181818182, 6.303030303030303, 6.424242424242425, 6.545454545454546, 6.666666666666667, 6.787878787878788, 6.909090909090909, 7.03030303030303, 7.151515151515151, 7.272727272727273, 7.3939393939393945, 7.515151515151516, 7.636363636363637, 7.757575757575758, 7.878787878787879, 8.0, 8.121212121212121, 8.242424242424242, 8.363636363636363, 8.484848484848484, 8.606060606060606, 8.727272727272727, 8.84848484848485, 8.96969696969697, 9.090909090909092, 9.212121212121213, 9.333333333333334, 9.454545454545455, 9.575757575757576, 9.696969696969697, 9.818181818181818, 9.93939393939394, 10.06060606060606, 10.181818181818182, 10.303030303030303, 10.424242424242424, 10.545454545454545, 10.666666666666668, 10.787878787878789, 10.90909090909091, 11.030303030303031, 11.151515151515152, 11.272727272727273, 11.393939393939394, 11.515151515151516, 11.636363636363637, 11.757575757575758, 11.878787878787879, 12.0], \"xaxis\": \"x\", \"y\": [2.7679196800085364e-26, 3.5813442773881334e-25, 4.3716144883059054e-24, 5.0345137028571445e-23, 5.4702955890068285e-22, 5.6081602145127014e-21, 5.425080636717673e-20, 4.952095826206166e-19, 4.2657058016640185e-18, 3.467646349011684e-17, 2.660386890577332e-16, 1.9263977413347664e-15, 1.3166316495096996e-14, 8.494281966087892e-14, 5.173217981956693e-13, 2.974369742826968e-12, 1.614574537550176e-11, 8.275219318336958e-11, 4.0048728462412353e-10, 1.83027079047814e-09, 7.899303804808018e-09, 3.219869353186415e-08, 1.2396304138553605e-07, 4.5079446625799584e-07, 1.5485464990813205e-06, 5.025220860934829e-06, 1.5406219745374665e-05, 4.462423279856604e-05, 0.00012212425509407047, 0.00031579967130690673, 0.0007716528331210698, 0.0017817855034812362, 0.003888093128631978, 0.008018515832876574, 0.01563010991450105, 0.028799520593018043, 0.05016755777743149, 0.08263347981862172, 0.12873490240866384, 0.1897575176638945, 0.26477651424668375, 0.3499734336599837, 0.43860435455569413, 0.5218473928417687, 0.5904436944675794, 0.6366894794129255, 0.6561222938961084, 0.6483132568660244, 0.616525122525608, 0.5664575433953579, 0.504638350671383, 0.4370678723557543, 0.36848841786545383, 0.30229500045358726, 0.2408303182533618, 0.1857368824543917, 0.13815355917123423, 0.09872747633940043, 0.06754434663324387, 0.04410543090354606, 0.02741971272627737, 0.01619726620571086, 0.009077389473811733, 0.004820678382453223, 0.0024237686158713498, 0.0011529460118940593, 0.0005185952815001361, 0.00022047897812434904, 8.856850068264504e-05, 3.360832924741855e-05, 1.2044057186303826e-05, 4.0754483763194425e-06, 1.3019229461912776e-06, 3.925930827176982e-07, 1.1173658158389705e-07, 3.0012193836733413e-08, 7.606927996560176e-09, 1.8192575640886254e-09, 4.1050688690492224e-10, 8.738956451291273e-11, 1.7550363076326908e-11, 3.3248899103889942e-12, 5.941727192377912e-13, 1.0015536333045619e-13, 1.5923755503241422e-14, 2.3878774259894372e-15, 3.3772312811817263e-16, 4.504848790730829e-17, 5.6670875320959765e-18, 6.723426726568183e-19, 7.522535605085729e-20, 7.937309446762708e-21, 7.897894406179379e-22, 7.410925836855671e-23, 6.557700345660867e-24, 5.471973916357532e-25, 4.305719394309655e-26, 3.1948688828046063e-27, 2.235438515856363e-28, 1.4749317201064897e-29], \"yaxis\": \"y\"}, {\"mode\": \"markers\", \"name\": \"cl: 3\", \"type\": \"scatter\", \"x\": [0.0, 0.12121212121212122, 0.24242424242424243, 0.36363636363636365, 0.48484848484848486, 0.6060606060606061, 0.7272727272727273, 0.8484848484848485, 0.9696969696969697, 1.0909090909090908, 1.2121212121212122, 1.3333333333333335, 1.4545454545454546, 1.5757575757575757, 1.696969696969697, 1.8181818181818183, 1.9393939393939394, 2.0606060606060606, 2.1818181818181817, 2.303030303030303, 2.4242424242424243, 2.5454545454545454, 2.666666666666667, 2.787878787878788, 2.909090909090909, 3.0303030303030303, 3.1515151515151514, 3.272727272727273, 3.393939393939394, 3.515151515151515, 3.6363636363636367, 3.757575757575758, 3.878787878787879, 4.0, 4.121212121212121, 4.242424242424242, 4.363636363636363, 4.484848484848485, 4.606060606060606, 4.7272727272727275, 4.848484848484849, 4.96969696969697, 5.090909090909091, 5.212121212121212, 5.333333333333334, 5.454545454545455, 5.575757575757576, 5.696969696969697, 5.818181818181818, 5.9393939393939394, 6.0606060606060606, 6.181818181818182, 6.303030303030303, 6.424242424242425, 6.545454545454546, 6.666666666666667, 6.787878787878788, 6.909090909090909, 7.03030303030303, 7.151515151515151, 7.272727272727273, 7.3939393939393945, 7.515151515151516, 7.636363636363637, 7.757575757575758, 7.878787878787879, 8.0, 8.121212121212121, 8.242424242424242, 8.363636363636363, 8.484848484848484, 8.606060606060606, 8.727272727272727, 8.84848484848485, 8.96969696969697, 9.090909090909092, 9.212121212121213, 9.333333333333334, 9.454545454545455, 9.575757575757576, 9.696969696969697, 9.818181818181818, 9.93939393939394, 10.06060606060606, 10.181818181818182, 10.303030303030303, 10.424242424242424, 10.545454545454545, 10.666666666666668, 10.787878787878789, 10.90909090909091, 11.030303030303031, 11.151515151515152, 11.272727272727273, 11.393939393939394, 11.515151515151516, 11.636363636363637, 11.757575757575758, 11.878787878787879, 12.0], \"xaxis\": \"x2\", \"y\": [6.394646515578277e-72, 4.861247515184248e-70, 3.4846218101115073e-68, 2.355267783082402e-66, 1.501072460551125e-64, 9.02068977638996e-63, 5.111572942691189e-61, 2.7311534537586905e-59, 1.3759871134758708e-57, 6.536712071583912e-56, 2.928067399655537e-54, 1.236743133019494e-52, 4.925549303862587e-51, 1.8497224103985172e-49, 6.549907558272318e-48, 2.186958327618281e-46, 6.885295270059096e-45, 2.0440021849804074e-43, 5.721591752634827e-42, 1.5101813495968693e-40, 3.758530362884174e-39, 8.820307949277037e-38, 1.9517588540281838e-36, 4.072351841778608e-35, 8.012003911918788e-34, 1.4863248447443174e-32, 2.5999383322581594e-31, 4.288338728034797e-30, 6.669477976866738e-29, 9.78073133312767e-28, 1.352469695015887e-26, 1.763439169352536e-25, 2.16805428459263e-24, 2.5133707185142745e-23, 2.747386011392826e-22, 2.83178025994288e-21, 2.752175712443993e-20, 2.5221418781980515e-19, 2.1794134456731502e-18, 1.775769161749348e-17, 1.364300959954499e-16, 9.883498019225061e-16, 6.751309770929714e-15, 4.348528395089032e-14, 2.6410315458246645e-13, 1.5124533582242232e-12, 8.167096517431226e-12, 4.1584446747796775e-11, 1.9965126388289957e-10, 9.038400960218614e-10, 3.858249210231154e-09, 1.5529916790107877e-08, 5.894265160200711e-08, 2.109473471713161e-07, 7.118778120019439e-07, 2.2653137393081545e-06, 6.79750164142849e-06, 1.9234364326796538e-05, 5.132485278711372e-05, 0.0001291573315867917, 0.0003065358728939984, 0.0006862108467218406, 0.001449143427462761, 0.002887596145312246, 0.00543089977392467, 0.009645482071376549, 0.016188275780186, 0.02570160707799321, 0.03866202896039369, 0.05523062415884121, 0.07518145660668625, 0.09798402560993424, 0.12306703664405143, 0.15020024213125904, 0.17983548541170408, 0.21320347913289675, 0.2520138160840686, 0.2977529532815665, 0.35076397077452415, 0.40943470166237483, 0.46984055595235763, 0.5260618574454328, 0.5711679097636702, 0.5986234751090931, 0.6037227738353931, 0.5846462342220546, 0.5428605512768585, 0.4827870581504087, 0.41087029721222107, 0.3343231560604909, 0.2598737844562224, 0.19279404362648686, 0.13637676261249007, 0.09189052698288787, 0.05891843839526604, 0.035913546988093625, 0.020791618480612565, 0.011422599000209687, 0.005950372068454844, 0.0029370840150053728], \"yaxis\": \"y2\"}],\n",
       "                        {\"annotations\": [{\"font\": {\"size\": 16}, \"showarrow\": false, \"text\": \"cl: 0\", \"x\": 0.5, \"xanchor\": \"center\", \"xref\": \"paper\", \"y\": 1.0, \"yanchor\": \"bottom\", \"yref\": \"paper\"}, {\"font\": {\"size\": 16}, \"showarrow\": false, \"text\": \"cl: 3\", \"x\": 0.5, \"xanchor\": \"center\", \"xref\": \"paper\", \"y\": 0.375, \"yanchor\": \"bottom\", \"yref\": \"paper\"}], \"height\": 500, \"template\": {\"data\": {\"bar\": [{\"error_x\": {\"color\": \"#2a3f5f\"}, \"error_y\": {\"color\": \"#2a3f5f\"}, \"marker\": {\"line\": {\"color\": \"#E5ECF6\", \"width\": 0.5}}, \"type\": \"bar\"}], \"barpolar\": [{\"marker\": {\"line\": {\"color\": \"#E5ECF6\", \"width\": 0.5}}, \"type\": \"barpolar\"}], \"carpet\": [{\"aaxis\": {\"endlinecolor\": \"#2a3f5f\", \"gridcolor\": \"white\", \"linecolor\": \"white\", \"minorgridcolor\": \"white\", \"startlinecolor\": \"#2a3f5f\"}, \"baxis\": {\"endlinecolor\": \"#2a3f5f\", \"gridcolor\": \"white\", \"linecolor\": \"white\", \"minorgridcolor\": \"white\", \"startlinecolor\": \"#2a3f5f\"}, \"type\": \"carpet\"}], \"choropleth\": [{\"colorbar\": {\"outlinewidth\": 0, \"ticks\": \"\"}, \"type\": \"choropleth\"}], \"contour\": [{\"colorbar\": {\"outlinewidth\": 0, \"ticks\": \"\"}, \"colorscale\": [[0.0, \"#0d0887\"], [0.1111111111111111, \"#46039f\"], [0.2222222222222222, \"#7201a8\"], [0.3333333333333333, \"#9c179e\"], [0.4444444444444444, \"#bd3786\"], [0.5555555555555556, \"#d8576b\"], [0.6666666666666666, \"#ed7953\"], [0.7777777777777778, \"#fb9f3a\"], [0.8888888888888888, \"#fdca26\"], [1.0, \"#f0f921\"]], \"type\": \"contour\"}], \"contourcarpet\": [{\"colorbar\": {\"outlinewidth\": 0, \"ticks\": \"\"}, \"type\": \"contourcarpet\"}], \"heatmap\": [{\"colorbar\": {\"outlinewidth\": 0, \"ticks\": \"\"}, \"colorscale\": [[0.0, \"#0d0887\"], [0.1111111111111111, \"#46039f\"], [0.2222222222222222, \"#7201a8\"], [0.3333333333333333, \"#9c179e\"], [0.4444444444444444, \"#bd3786\"], [0.5555555555555556, \"#d8576b\"], [0.6666666666666666, \"#ed7953\"], [0.7777777777777778, \"#fb9f3a\"], [0.8888888888888888, \"#fdca26\"], [1.0, \"#f0f921\"]], \"type\": \"heatmap\"}], \"heatmapgl\": [{\"colorbar\": {\"outlinewidth\": 0, \"ticks\": \"\"}, \"colorscale\": [[0.0, \"#0d0887\"], [0.1111111111111111, \"#46039f\"], [0.2222222222222222, \"#7201a8\"], [0.3333333333333333, \"#9c179e\"], [0.4444444444444444, \"#bd3786\"], [0.5555555555555556, \"#d8576b\"], [0.6666666666666666, \"#ed7953\"], [0.7777777777777778, \"#fb9f3a\"], [0.8888888888888888, \"#fdca26\"], [1.0, \"#f0f921\"]], \"type\": \"heatmapgl\"}], \"histogram\": [{\"marker\": {\"colorbar\": {\"outlinewidth\": 0, \"ticks\": \"\"}}, \"type\": \"histogram\"}], \"histogram2d\": [{\"colorbar\": {\"outlinewidth\": 0, \"ticks\": \"\"}, \"colorscale\": [[0.0, \"#0d0887\"], [0.1111111111111111, \"#46039f\"], [0.2222222222222222, \"#7201a8\"], [0.3333333333333333, \"#9c179e\"], [0.4444444444444444, \"#bd3786\"], [0.5555555555555556, \"#d8576b\"], [0.6666666666666666, \"#ed7953\"], [0.7777777777777778, \"#fb9f3a\"], [0.8888888888888888, \"#fdca26\"], [1.0, \"#f0f921\"]], \"type\": \"histogram2d\"}], \"histogram2dcontour\": [{\"colorbar\": {\"outlinewidth\": 0, \"ticks\": \"\"}, \"colorscale\": [[0.0, \"#0d0887\"], [0.1111111111111111, \"#46039f\"], [0.2222222222222222, \"#7201a8\"], [0.3333333333333333, \"#9c179e\"], [0.4444444444444444, \"#bd3786\"], [0.5555555555555556, \"#d8576b\"], [0.6666666666666666, \"#ed7953\"], [0.7777777777777778, \"#fb9f3a\"], [0.8888888888888888, \"#fdca26\"], [1.0, \"#f0f921\"]], \"type\": \"histogram2dcontour\"}], \"mesh3d\": [{\"colorbar\": {\"outlinewidth\": 0, \"ticks\": \"\"}, \"type\": \"mesh3d\"}], \"parcoords\": [{\"line\": {\"colorbar\": {\"outlinewidth\": 0, \"ticks\": \"\"}}, \"type\": \"parcoords\"}], \"pie\": [{\"automargin\": true, \"type\": \"pie\"}], \"scatter\": [{\"marker\": {\"colorbar\": {\"outlinewidth\": 0, \"ticks\": \"\"}}, \"type\": \"scatter\"}], \"scatter3d\": [{\"line\": {\"colorbar\": {\"outlinewidth\": 0, \"ticks\": \"\"}}, \"marker\": {\"colorbar\": {\"outlinewidth\": 0, \"ticks\": \"\"}}, \"type\": \"scatter3d\"}], \"scattercarpet\": [{\"marker\": {\"colorbar\": {\"outlinewidth\": 0, \"ticks\": \"\"}}, \"type\": \"scattercarpet\"}], \"scattergeo\": [{\"marker\": {\"colorbar\": {\"outlinewidth\": 0, \"ticks\": \"\"}}, \"type\": \"scattergeo\"}], \"scattergl\": [{\"marker\": {\"colorbar\": {\"outlinewidth\": 0, \"ticks\": \"\"}}, \"type\": \"scattergl\"}], \"scattermapbox\": [{\"marker\": {\"colorbar\": {\"outlinewidth\": 0, \"ticks\": \"\"}}, \"type\": \"scattermapbox\"}], \"scatterpolar\": [{\"marker\": {\"colorbar\": {\"outlinewidth\": 0, \"ticks\": \"\"}}, \"type\": \"scatterpolar\"}], \"scatterpolargl\": [{\"marker\": {\"colorbar\": {\"outlinewidth\": 0, \"ticks\": \"\"}}, \"type\": \"scatterpolargl\"}], \"scatterternary\": [{\"marker\": {\"colorbar\": {\"outlinewidth\": 0, \"ticks\": \"\"}}, \"type\": \"scatterternary\"}], \"surface\": [{\"colorbar\": {\"outlinewidth\": 0, \"ticks\": \"\"}, \"colorscale\": [[0.0, \"#0d0887\"], [0.1111111111111111, \"#46039f\"], [0.2222222222222222, \"#7201a8\"], [0.3333333333333333, \"#9c179e\"], [0.4444444444444444, \"#bd3786\"], [0.5555555555555556, \"#d8576b\"], [0.6666666666666666, \"#ed7953\"], [0.7777777777777778, \"#fb9f3a\"], [0.8888888888888888, \"#fdca26\"], [1.0, \"#f0f921\"]], \"type\": \"surface\"}], \"table\": [{\"cells\": {\"fill\": {\"color\": \"#EBF0F8\"}, \"line\": {\"color\": \"white\"}}, \"header\": {\"fill\": {\"color\": \"#C8D4E3\"}, \"line\": {\"color\": \"white\"}}, \"type\": \"table\"}]}, \"layout\": {\"annotationdefaults\": {\"arrowcolor\": \"#2a3f5f\", \"arrowhead\": 0, \"arrowwidth\": 1}, \"coloraxis\": {\"colorbar\": {\"outlinewidth\": 0, \"ticks\": \"\"}}, \"colorscale\": {\"diverging\": [[0, \"#8e0152\"], [0.1, \"#c51b7d\"], [0.2, \"#de77ae\"], [0.3, \"#f1b6da\"], [0.4, \"#fde0ef\"], [0.5, \"#f7f7f7\"], [0.6, \"#e6f5d0\"], [0.7, \"#b8e186\"], [0.8, \"#7fbc41\"], [0.9, \"#4d9221\"], [1, \"#276419\"]], \"sequential\": [[0.0, \"#0d0887\"], [0.1111111111111111, \"#46039f\"], [0.2222222222222222, \"#7201a8\"], [0.3333333333333333, \"#9c179e\"], [0.4444444444444444, \"#bd3786\"], [0.5555555555555556, \"#d8576b\"], [0.6666666666666666, \"#ed7953\"], [0.7777777777777778, \"#fb9f3a\"], [0.8888888888888888, \"#fdca26\"], [1.0, \"#f0f921\"]], \"sequentialminus\": [[0.0, \"#0d0887\"], [0.1111111111111111, \"#46039f\"], [0.2222222222222222, \"#7201a8\"], [0.3333333333333333, \"#9c179e\"], [0.4444444444444444, \"#bd3786\"], [0.5555555555555556, \"#d8576b\"], [0.6666666666666666, \"#ed7953\"], [0.7777777777777778, \"#fb9f3a\"], [0.8888888888888888, \"#fdca26\"], [1.0, \"#f0f921\"]]}, \"colorway\": [\"#636efa\", \"#EF553B\", \"#00cc96\", \"#ab63fa\", \"#FFA15A\", \"#19d3f3\", \"#FF6692\", \"#B6E880\", \"#FF97FF\", \"#FECB52\"], \"font\": {\"color\": \"#2a3f5f\"}, \"geo\": {\"bgcolor\": \"white\", \"lakecolor\": \"white\", \"landcolor\": \"#E5ECF6\", \"showlakes\": true, \"showland\": true, \"subunitcolor\": \"white\"}, \"hoverlabel\": {\"align\": \"left\"}, \"hovermode\": \"closest\", \"mapbox\": {\"style\": \"light\"}, \"paper_bgcolor\": \"white\", \"plot_bgcolor\": \"#E5ECF6\", \"polar\": {\"angularaxis\": {\"gridcolor\": \"white\", \"linecolor\": \"white\", \"ticks\": \"\"}, \"bgcolor\": \"#E5ECF6\", \"radialaxis\": {\"gridcolor\": \"white\", \"linecolor\": \"white\", \"ticks\": \"\"}}, \"scene\": {\"xaxis\": {\"backgroundcolor\": \"#E5ECF6\", \"gridcolor\": \"white\", \"gridwidth\": 2, \"linecolor\": \"white\", \"showbackground\": true, \"ticks\": \"\", \"zerolinecolor\": \"white\"}, \"yaxis\": {\"backgroundcolor\": \"#E5ECF6\", \"gridcolor\": \"white\", \"gridwidth\": 2, \"linecolor\": \"white\", \"showbackground\": true, \"ticks\": \"\", \"zerolinecolor\": \"white\"}, \"zaxis\": {\"backgroundcolor\": \"#E5ECF6\", \"gridcolor\": \"white\", \"gridwidth\": 2, \"linecolor\": \"white\", \"showbackground\": true, \"ticks\": \"\", \"zerolinecolor\": \"white\"}}, \"shapedefaults\": {\"line\": {\"color\": \"#2a3f5f\"}}, \"ternary\": {\"aaxis\": {\"gridcolor\": \"white\", \"linecolor\": \"white\", \"ticks\": \"\"}, \"baxis\": {\"gridcolor\": \"white\", \"linecolor\": \"white\", \"ticks\": \"\"}, \"bgcolor\": \"#E5ECF6\", \"caxis\": {\"gridcolor\": \"white\", \"linecolor\": \"white\", \"ticks\": \"\"}}, \"title\": {\"x\": 0.05}, \"xaxis\": {\"automargin\": true, \"gridcolor\": \"white\", \"linecolor\": \"white\", \"ticks\": \"\", \"title\": {\"standoff\": 15}, \"zerolinecolor\": \"white\", \"zerolinewidth\": 2}, \"yaxis\": {\"automargin\": true, \"gridcolor\": \"white\", \"linecolor\": \"white\", \"ticks\": \"\", \"title\": {\"standoff\": 15}, \"zerolinecolor\": \"white\", \"zerolinewidth\": 2}}}, \"width\": 900, \"xaxis\": {\"anchor\": \"y\", \"domain\": [0.0, 1.0], \"title\": {\"text\": \"pca dist\"}}, \"xaxis2\": {\"anchor\": \"y2\", \"domain\": [0.0, 1.0], \"title\": {\"text\": \"pca dist\"}}, \"yaxis\": {\"anchor\": \"x\", \"domain\": [0.625, 1.0], \"range\": [0, 0.7217345232857193], \"title\": {\"text\": \"L\"}}, \"yaxis2\": {\"anchor\": \"x2\", \"domain\": [0.0, 0.375], \"range\": [0, 0.6640950512189324], \"title\": {\"text\": \"L\"}}},\n",
       "                        {\"responsive\": true}\n",
       "                    ).then(function(){\n",
       "                            \n",
       "var gd = document.getElementById('6508353d-1240-46ff-93af-aa8dddf63878');\n",
       "var x = new MutationObserver(function (mutations, observer) {{\n",
       "        var display = window.getComputedStyle(gd).display;\n",
       "        if (!display || display === 'none') {{\n",
       "            console.log([gd, 'removed!']);\n",
       "            Plotly.purge(gd);\n",
       "            observer.disconnect();\n",
       "        }}\n",
       "}});\n",
       "\n",
       "// Listen for the removal of the full notebook cells\n",
       "var notebookContainer = gd.closest('#notebook-container');\n",
       "if (notebookContainer) {{\n",
       "    x.observe(notebookContainer, {childList: true});\n",
       "}}\n",
       "\n",
       "// Listen for the clearing of the current output cell\n",
       "var outputEl = gd.closest('.output');\n",
       "if (outputEl) {{\n",
       "    x.observe(outputEl, {childList: true});\n",
       "}}\n",
       "\n",
       "                        })\n",
       "                };\n",
       "                });\n",
       "            </script>\n",
       "        </div>"
      ]
     },
     "metadata": {},
     "output_type": "display_data"
    },
    {
     "name": "stdout",
     "output_type": "stream",
     "text": [
      "['cl: 0', 'cl: 2']\n",
      "0\n",
      "1\n"
     ]
    },
    {
     "data": {
      "application/vnd.plotly.v1+json": {
       "config": {
        "linkText": "Export to plot.ly",
        "plotlyServerURL": "https://plot.ly",
        "showLink": false
       },
       "data": [
        {
         "mode": "markers",
         "name": "cl: 0",
         "type": "scatter",
         "x": [
          0,
          0.12121212121212122,
          0.24242424242424243,
          0.36363636363636365,
          0.48484848484848486,
          0.6060606060606061,
          0.7272727272727273,
          0.8484848484848485,
          0.9696969696969697,
          1.0909090909090908,
          1.2121212121212122,
          1.3333333333333335,
          1.4545454545454546,
          1.5757575757575757,
          1.696969696969697,
          1.8181818181818183,
          1.9393939393939394,
          2.0606060606060606,
          2.1818181818181817,
          2.303030303030303,
          2.4242424242424243,
          2.5454545454545454,
          2.666666666666667,
          2.787878787878788,
          2.909090909090909,
          3.0303030303030303,
          3.1515151515151514,
          3.272727272727273,
          3.393939393939394,
          3.515151515151515,
          3.6363636363636367,
          3.757575757575758,
          3.878787878787879,
          4,
          4.121212121212121,
          4.242424242424242,
          4.363636363636363,
          4.484848484848485,
          4.606060606060606,
          4.7272727272727275,
          4.848484848484849,
          4.96969696969697,
          5.090909090909091,
          5.212121212121212,
          5.333333333333334,
          5.454545454545455,
          5.575757575757576,
          5.696969696969697,
          5.818181818181818,
          5.9393939393939394,
          6.0606060606060606,
          6.181818181818182,
          6.303030303030303,
          6.424242424242425,
          6.545454545454546,
          6.666666666666667,
          6.787878787878788,
          6.909090909090909,
          7.03030303030303,
          7.151515151515151,
          7.272727272727273,
          7.3939393939393945,
          7.515151515151516,
          7.636363636363637,
          7.757575757575758,
          7.878787878787879,
          8,
          8.121212121212121,
          8.242424242424242,
          8.363636363636363,
          8.484848484848484,
          8.606060606060606,
          8.727272727272727,
          8.84848484848485,
          8.96969696969697,
          9.090909090909092,
          9.212121212121213,
          9.333333333333334,
          9.454545454545455,
          9.575757575757576,
          9.696969696969697,
          9.818181818181818,
          9.93939393939394,
          10.06060606060606,
          10.181818181818182,
          10.303030303030303,
          10.424242424242424,
          10.545454545454545,
          10.666666666666668,
          10.787878787878789,
          10.90909090909091,
          11.030303030303031,
          11.151515151515152,
          11.272727272727273,
          11.393939393939394,
          11.515151515151516,
          11.636363636363637,
          11.757575757575758,
          11.878787878787879,
          12
         ],
         "xaxis": "x",
         "y": [
          8.661432182879831e-46,
          2.6579889212887266e-44,
          7.691186601743355e-43,
          2.0985061904662385e-41,
          5.398882625838501e-40,
          1.3097072801696033e-38,
          2.9958586729973858e-37,
          6.461675244729164e-36,
          1.3141521712639083e-34,
          2.520129809060136e-33,
          4.556977565246604e-32,
          7.769759823991483e-31,
          1.2491512379054865e-29,
          1.8936476611282094e-28,
          2.7068242186482318e-27,
          3.648359751982531e-26,
          4.636731876944752e-25,
          5.5565219591838825e-24,
          6.278715597314688e-23,
          6.689833560408572e-22,
          6.721040911793996e-21,
          6.366994724954966e-20,
          5.687339661761646e-19,
          4.79027633961459e-18,
          3.804422089542251e-17,
          2.849007208427666e-16,
          2.0117551828300936e-15,
          1.3394713801421523e-14,
          8.409467184714817e-14,
          4.978290755372231e-13,
          2.77887350864412e-12,
          1.4626285753494633e-11,
          7.258988401643192e-11,
          3.3969953644379586e-10,
          1.4989621198454426e-09,
          6.236821187964616e-09,
          2.4468817812350743e-08,
          9.051904223119101e-08,
          3.1575084407849475e-07,
          1.0385496146308632e-06,
          3.22098745304559e-06,
          9.419575526691797e-06,
          2.5975058001518117e-05,
          6.754115611754953e-05,
          0.00016560504052210538,
          0.00038289706569898975,
          0.0008348545760225779,
          0.001716672875729239,
          0.003329334112195336,
          0.00609108115688208,
          0.010515257175845037,
          0.01713691641844975,
          0.02638504303756823,
          0.038425987574064006,
          0.05303852211010764,
          0.06960253717001935,
          0.08726887844175331,
          0.10531520121970643,
          0.12359594551394826,
          0.14290635301616295,
          0.16505562210781818,
          0.19251794088609114,
          0.22768922570057393,
          0.27195656074076313,
          0.32489780488487274,
          0.38390767119311814,
          0.44439680628517614,
          0.5005038978115397,
          0.5460980612538238,
          0.5757987837135392,
          0.5858018882118922,
          0.5744092113563752,
          0.5422432208475602,
          0.49215457442826704,
          0.4288269676830331,
          0.35810026210300444,
          0.2860945344890509,
          0.21829837426998872,
          0.15882803510811944,
          0.11002869985514394,
          0.07248187868480123,
          0.0453541178995755,
          0.02693138795018664,
          0.015163873591276019,
          0.008090594322244656,
          0.0040881318467556604,
          0.0019554052596701967,
          0.0008849938272374597,
          0.0003788651103790472,
          0.00015336974699661665,
          5.8693773488044694e-05,
          2.1229602926583886e-05,
          7.256060282399578e-06,
          2.343097044920178e-06,
          7.147256369075866e-07,
          2.0591329120545832e-07,
          5.6023159359733654e-08,
          1.4392509911882272e-08,
          3.490948014743988e-09,
          7.993637533210951e-10
         ],
         "yaxis": "y"
        },
        {
         "mode": "markers",
         "name": "cl: 2",
         "type": "scatter",
         "x": [
          0,
          0.12121212121212122,
          0.24242424242424243,
          0.36363636363636365,
          0.48484848484848486,
          0.6060606060606061,
          0.7272727272727273,
          0.8484848484848485,
          0.9696969696969697,
          1.0909090909090908,
          1.2121212121212122,
          1.3333333333333335,
          1.4545454545454546,
          1.5757575757575757,
          1.696969696969697,
          1.8181818181818183,
          1.9393939393939394,
          2.0606060606060606,
          2.1818181818181817,
          2.303030303030303,
          2.4242424242424243,
          2.5454545454545454,
          2.666666666666667,
          2.787878787878788,
          2.909090909090909,
          3.0303030303030303,
          3.1515151515151514,
          3.272727272727273,
          3.393939393939394,
          3.515151515151515,
          3.6363636363636367,
          3.757575757575758,
          3.878787878787879,
          4,
          4.121212121212121,
          4.242424242424242,
          4.363636363636363,
          4.484848484848485,
          4.606060606060606,
          4.7272727272727275,
          4.848484848484849,
          4.96969696969697,
          5.090909090909091,
          5.212121212121212,
          5.333333333333334,
          5.454545454545455,
          5.575757575757576,
          5.696969696969697,
          5.818181818181818,
          5.9393939393939394,
          6.0606060606060606,
          6.181818181818182,
          6.303030303030303,
          6.424242424242425,
          6.545454545454546,
          6.666666666666667,
          6.787878787878788,
          6.909090909090909,
          7.03030303030303,
          7.151515151515151,
          7.272727272727273,
          7.3939393939393945,
          7.515151515151516,
          7.636363636363637,
          7.757575757575758,
          7.878787878787879,
          8,
          8.121212121212121,
          8.242424242424242,
          8.363636363636363,
          8.484848484848484,
          8.606060606060606,
          8.727272727272727,
          8.84848484848485,
          8.96969696969697,
          9.090909090909092,
          9.212121212121213,
          9.333333333333334,
          9.454545454545455,
          9.575757575757576,
          9.696969696969697,
          9.818181818181818,
          9.93939393939394,
          10.06060606060606,
          10.181818181818182,
          10.303030303030303,
          10.424242424242424,
          10.545454545454545,
          10.666666666666668,
          10.787878787878789,
          10.90909090909091,
          11.030303030303031,
          11.151515151515152,
          11.272727272727273,
          11.393939393939394,
          11.515151515151516,
          11.636363636363637,
          11.757575757575758,
          11.878787878787879,
          12
         ],
         "xaxis": "x2",
         "y": [
          6.394646515578277e-72,
          4.861247515184248e-70,
          3.4846218101115073e-68,
          2.355267783082402e-66,
          1.501072460551125e-64,
          9.02068977638996e-63,
          5.111572942691189e-61,
          2.7311534537586905e-59,
          1.3759871134758708e-57,
          6.536712071583912e-56,
          2.928067399655537e-54,
          1.236743133019494e-52,
          4.925549303862587e-51,
          1.8497224103985172e-49,
          6.549907558272318e-48,
          2.186958327618281e-46,
          6.885295270059096e-45,
          2.0440021849804074e-43,
          5.721591752634827e-42,
          1.5101813495968693e-40,
          3.758530362884174e-39,
          8.820307949277037e-38,
          1.9517588540281838e-36,
          4.072351841778608e-35,
          8.012003911918788e-34,
          1.4863248447443174e-32,
          2.5999383322581594e-31,
          4.288338728034797e-30,
          6.669477976866738e-29,
          9.78073133312767e-28,
          1.352469695015887e-26,
          1.763439169352536e-25,
          2.16805428459263e-24,
          2.5133707185142745e-23,
          2.747386011392826e-22,
          2.83178025994288e-21,
          2.752175712443993e-20,
          2.5221418781980515e-19,
          2.1794134456731502e-18,
          1.775769161749348e-17,
          1.364300959954499e-16,
          9.883498019225061e-16,
          6.751309770929714e-15,
          4.348528395089032e-14,
          2.6410315458246645e-13,
          1.5124533582242232e-12,
          8.167096517431226e-12,
          4.1584446747796775e-11,
          1.9965126388289957e-10,
          9.038400960218614e-10,
          3.858249210231154e-09,
          1.5529916790107877e-08,
          5.894265160200711e-08,
          2.109473471713161e-07,
          7.118778120019439e-07,
          2.2653137393081545e-06,
          6.79750164142849e-06,
          1.9234364326796538e-05,
          5.132485278711372e-05,
          0.0001291573315867917,
          0.0003065358728939984,
          0.0006862108467218406,
          0.001449143427462761,
          0.002887596145312246,
          0.00543089977392467,
          0.009645482071376549,
          0.016188275780186,
          0.02570160707799321,
          0.03866202896039369,
          0.05523062415884121,
          0.07518145660668625,
          0.09798402560993424,
          0.12306703664405143,
          0.15020024213125904,
          0.17983548541170408,
          0.21320347913289675,
          0.2520138160840686,
          0.2977529532815665,
          0.35076397077452404,
          0.40943470166237483,
          0.46984055595235746,
          0.5260618574454324,
          0.5711679097636699,
          0.5986234751090925,
          0.6037227738353931,
          0.5846462342220546,
          0.5428605512768585,
          0.4827870581504087,
          0.41087029721222107,
          0.33432315606049123,
          0.25987378445622256,
          0.19279404362648703,
          0.1363767626124903,
          0.09189052698288806,
          0.0589184383952662,
          0.035913546988093785,
          0.02079161848061266,
          0.011422599000209747,
          0.00595037206845488,
          0.002937084015005391
         ],
         "yaxis": "y2"
        }
       ],
       "layout": {
        "annotations": [
         {
          "font": {
           "size": 16
          },
          "showarrow": false,
          "text": "cl: 0",
          "x": 0.5,
          "xanchor": "center",
          "xref": "paper",
          "y": 1,
          "yanchor": "bottom",
          "yref": "paper"
         },
         {
          "font": {
           "size": 16
          },
          "showarrow": false,
          "text": "cl: 2",
          "x": 0.5,
          "xanchor": "center",
          "xref": "paper",
          "y": 0.375,
          "yanchor": "bottom",
          "yref": "paper"
         }
        ],
        "height": 500,
        "template": {
         "data": {
          "bar": [
           {
            "error_x": {
             "color": "#2a3f5f"
            },
            "error_y": {
             "color": "#2a3f5f"
            },
            "marker": {
             "line": {
              "color": "#E5ECF6",
              "width": 0.5
             }
            },
            "type": "bar"
           }
          ],
          "barpolar": [
           {
            "marker": {
             "line": {
              "color": "#E5ECF6",
              "width": 0.5
             }
            },
            "type": "barpolar"
           }
          ],
          "carpet": [
           {
            "aaxis": {
             "endlinecolor": "#2a3f5f",
             "gridcolor": "white",
             "linecolor": "white",
             "minorgridcolor": "white",
             "startlinecolor": "#2a3f5f"
            },
            "baxis": {
             "endlinecolor": "#2a3f5f",
             "gridcolor": "white",
             "linecolor": "white",
             "minorgridcolor": "white",
             "startlinecolor": "#2a3f5f"
            },
            "type": "carpet"
           }
          ],
          "choropleth": [
           {
            "colorbar": {
             "outlinewidth": 0,
             "ticks": ""
            },
            "type": "choropleth"
           }
          ],
          "contour": [
           {
            "colorbar": {
             "outlinewidth": 0,
             "ticks": ""
            },
            "colorscale": [
             [
              0,
              "#0d0887"
             ],
             [
              0.1111111111111111,
              "#46039f"
             ],
             [
              0.2222222222222222,
              "#7201a8"
             ],
             [
              0.3333333333333333,
              "#9c179e"
             ],
             [
              0.4444444444444444,
              "#bd3786"
             ],
             [
              0.5555555555555556,
              "#d8576b"
             ],
             [
              0.6666666666666666,
              "#ed7953"
             ],
             [
              0.7777777777777778,
              "#fb9f3a"
             ],
             [
              0.8888888888888888,
              "#fdca26"
             ],
             [
              1,
              "#f0f921"
             ]
            ],
            "type": "contour"
           }
          ],
          "contourcarpet": [
           {
            "colorbar": {
             "outlinewidth": 0,
             "ticks": ""
            },
            "type": "contourcarpet"
           }
          ],
          "heatmap": [
           {
            "colorbar": {
             "outlinewidth": 0,
             "ticks": ""
            },
            "colorscale": [
             [
              0,
              "#0d0887"
             ],
             [
              0.1111111111111111,
              "#46039f"
             ],
             [
              0.2222222222222222,
              "#7201a8"
             ],
             [
              0.3333333333333333,
              "#9c179e"
             ],
             [
              0.4444444444444444,
              "#bd3786"
             ],
             [
              0.5555555555555556,
              "#d8576b"
             ],
             [
              0.6666666666666666,
              "#ed7953"
             ],
             [
              0.7777777777777778,
              "#fb9f3a"
             ],
             [
              0.8888888888888888,
              "#fdca26"
             ],
             [
              1,
              "#f0f921"
             ]
            ],
            "type": "heatmap"
           }
          ],
          "heatmapgl": [
           {
            "colorbar": {
             "outlinewidth": 0,
             "ticks": ""
            },
            "colorscale": [
             [
              0,
              "#0d0887"
             ],
             [
              0.1111111111111111,
              "#46039f"
             ],
             [
              0.2222222222222222,
              "#7201a8"
             ],
             [
              0.3333333333333333,
              "#9c179e"
             ],
             [
              0.4444444444444444,
              "#bd3786"
             ],
             [
              0.5555555555555556,
              "#d8576b"
             ],
             [
              0.6666666666666666,
              "#ed7953"
             ],
             [
              0.7777777777777778,
              "#fb9f3a"
             ],
             [
              0.8888888888888888,
              "#fdca26"
             ],
             [
              1,
              "#f0f921"
             ]
            ],
            "type": "heatmapgl"
           }
          ],
          "histogram": [
           {
            "marker": {
             "colorbar": {
              "outlinewidth": 0,
              "ticks": ""
             }
            },
            "type": "histogram"
           }
          ],
          "histogram2d": [
           {
            "colorbar": {
             "outlinewidth": 0,
             "ticks": ""
            },
            "colorscale": [
             [
              0,
              "#0d0887"
             ],
             [
              0.1111111111111111,
              "#46039f"
             ],
             [
              0.2222222222222222,
              "#7201a8"
             ],
             [
              0.3333333333333333,
              "#9c179e"
             ],
             [
              0.4444444444444444,
              "#bd3786"
             ],
             [
              0.5555555555555556,
              "#d8576b"
             ],
             [
              0.6666666666666666,
              "#ed7953"
             ],
             [
              0.7777777777777778,
              "#fb9f3a"
             ],
             [
              0.8888888888888888,
              "#fdca26"
             ],
             [
              1,
              "#f0f921"
             ]
            ],
            "type": "histogram2d"
           }
          ],
          "histogram2dcontour": [
           {
            "colorbar": {
             "outlinewidth": 0,
             "ticks": ""
            },
            "colorscale": [
             [
              0,
              "#0d0887"
             ],
             [
              0.1111111111111111,
              "#46039f"
             ],
             [
              0.2222222222222222,
              "#7201a8"
             ],
             [
              0.3333333333333333,
              "#9c179e"
             ],
             [
              0.4444444444444444,
              "#bd3786"
             ],
             [
              0.5555555555555556,
              "#d8576b"
             ],
             [
              0.6666666666666666,
              "#ed7953"
             ],
             [
              0.7777777777777778,
              "#fb9f3a"
             ],
             [
              0.8888888888888888,
              "#fdca26"
             ],
             [
              1,
              "#f0f921"
             ]
            ],
            "type": "histogram2dcontour"
           }
          ],
          "mesh3d": [
           {
            "colorbar": {
             "outlinewidth": 0,
             "ticks": ""
            },
            "type": "mesh3d"
           }
          ],
          "parcoords": [
           {
            "line": {
             "colorbar": {
              "outlinewidth": 0,
              "ticks": ""
             }
            },
            "type": "parcoords"
           }
          ],
          "pie": [
           {
            "automargin": true,
            "type": "pie"
           }
          ],
          "scatter": [
           {
            "marker": {
             "colorbar": {
              "outlinewidth": 0,
              "ticks": ""
             }
            },
            "type": "scatter"
           }
          ],
          "scatter3d": [
           {
            "line": {
             "colorbar": {
              "outlinewidth": 0,
              "ticks": ""
             }
            },
            "marker": {
             "colorbar": {
              "outlinewidth": 0,
              "ticks": ""
             }
            },
            "type": "scatter3d"
           }
          ],
          "scattercarpet": [
           {
            "marker": {
             "colorbar": {
              "outlinewidth": 0,
              "ticks": ""
             }
            },
            "type": "scattercarpet"
           }
          ],
          "scattergeo": [
           {
            "marker": {
             "colorbar": {
              "outlinewidth": 0,
              "ticks": ""
             }
            },
            "type": "scattergeo"
           }
          ],
          "scattergl": [
           {
            "marker": {
             "colorbar": {
              "outlinewidth": 0,
              "ticks": ""
             }
            },
            "type": "scattergl"
           }
          ],
          "scattermapbox": [
           {
            "marker": {
             "colorbar": {
              "outlinewidth": 0,
              "ticks": ""
             }
            },
            "type": "scattermapbox"
           }
          ],
          "scatterpolar": [
           {
            "marker": {
             "colorbar": {
              "outlinewidth": 0,
              "ticks": ""
             }
            },
            "type": "scatterpolar"
           }
          ],
          "scatterpolargl": [
           {
            "marker": {
             "colorbar": {
              "outlinewidth": 0,
              "ticks": ""
             }
            },
            "type": "scatterpolargl"
           }
          ],
          "scatterternary": [
           {
            "marker": {
             "colorbar": {
              "outlinewidth": 0,
              "ticks": ""
             }
            },
            "type": "scatterternary"
           }
          ],
          "surface": [
           {
            "colorbar": {
             "outlinewidth": 0,
             "ticks": ""
            },
            "colorscale": [
             [
              0,
              "#0d0887"
             ],
             [
              0.1111111111111111,
              "#46039f"
             ],
             [
              0.2222222222222222,
              "#7201a8"
             ],
             [
              0.3333333333333333,
              "#9c179e"
             ],
             [
              0.4444444444444444,
              "#bd3786"
             ],
             [
              0.5555555555555556,
              "#d8576b"
             ],
             [
              0.6666666666666666,
              "#ed7953"
             ],
             [
              0.7777777777777778,
              "#fb9f3a"
             ],
             [
              0.8888888888888888,
              "#fdca26"
             ],
             [
              1,
              "#f0f921"
             ]
            ],
            "type": "surface"
           }
          ],
          "table": [
           {
            "cells": {
             "fill": {
              "color": "#EBF0F8"
             },
             "line": {
              "color": "white"
             }
            },
            "header": {
             "fill": {
              "color": "#C8D4E3"
             },
             "line": {
              "color": "white"
             }
            },
            "type": "table"
           }
          ]
         },
         "layout": {
          "annotationdefaults": {
           "arrowcolor": "#2a3f5f",
           "arrowhead": 0,
           "arrowwidth": 1
          },
          "coloraxis": {
           "colorbar": {
            "outlinewidth": 0,
            "ticks": ""
           }
          },
          "colorscale": {
           "diverging": [
            [
             0,
             "#8e0152"
            ],
            [
             0.1,
             "#c51b7d"
            ],
            [
             0.2,
             "#de77ae"
            ],
            [
             0.3,
             "#f1b6da"
            ],
            [
             0.4,
             "#fde0ef"
            ],
            [
             0.5,
             "#f7f7f7"
            ],
            [
             0.6,
             "#e6f5d0"
            ],
            [
             0.7,
             "#b8e186"
            ],
            [
             0.8,
             "#7fbc41"
            ],
            [
             0.9,
             "#4d9221"
            ],
            [
             1,
             "#276419"
            ]
           ],
           "sequential": [
            [
             0,
             "#0d0887"
            ],
            [
             0.1111111111111111,
             "#46039f"
            ],
            [
             0.2222222222222222,
             "#7201a8"
            ],
            [
             0.3333333333333333,
             "#9c179e"
            ],
            [
             0.4444444444444444,
             "#bd3786"
            ],
            [
             0.5555555555555556,
             "#d8576b"
            ],
            [
             0.6666666666666666,
             "#ed7953"
            ],
            [
             0.7777777777777778,
             "#fb9f3a"
            ],
            [
             0.8888888888888888,
             "#fdca26"
            ],
            [
             1,
             "#f0f921"
            ]
           ],
           "sequentialminus": [
            [
             0,
             "#0d0887"
            ],
            [
             0.1111111111111111,
             "#46039f"
            ],
            [
             0.2222222222222222,
             "#7201a8"
            ],
            [
             0.3333333333333333,
             "#9c179e"
            ],
            [
             0.4444444444444444,
             "#bd3786"
            ],
            [
             0.5555555555555556,
             "#d8576b"
            ],
            [
             0.6666666666666666,
             "#ed7953"
            ],
            [
             0.7777777777777778,
             "#fb9f3a"
            ],
            [
             0.8888888888888888,
             "#fdca26"
            ],
            [
             1,
             "#f0f921"
            ]
           ]
          },
          "colorway": [
           "#636efa",
           "#EF553B",
           "#00cc96",
           "#ab63fa",
           "#FFA15A",
           "#19d3f3",
           "#FF6692",
           "#B6E880",
           "#FF97FF",
           "#FECB52"
          ],
          "font": {
           "color": "#2a3f5f"
          },
          "geo": {
           "bgcolor": "white",
           "lakecolor": "white",
           "landcolor": "#E5ECF6",
           "showlakes": true,
           "showland": true,
           "subunitcolor": "white"
          },
          "hoverlabel": {
           "align": "left"
          },
          "hovermode": "closest",
          "mapbox": {
           "style": "light"
          },
          "paper_bgcolor": "white",
          "plot_bgcolor": "#E5ECF6",
          "polar": {
           "angularaxis": {
            "gridcolor": "white",
            "linecolor": "white",
            "ticks": ""
           },
           "bgcolor": "#E5ECF6",
           "radialaxis": {
            "gridcolor": "white",
            "linecolor": "white",
            "ticks": ""
           }
          },
          "scene": {
           "xaxis": {
            "backgroundcolor": "#E5ECF6",
            "gridcolor": "white",
            "gridwidth": 2,
            "linecolor": "white",
            "showbackground": true,
            "ticks": "",
            "zerolinecolor": "white"
           },
           "yaxis": {
            "backgroundcolor": "#E5ECF6",
            "gridcolor": "white",
            "gridwidth": 2,
            "linecolor": "white",
            "showbackground": true,
            "ticks": "",
            "zerolinecolor": "white"
           },
           "zaxis": {
            "backgroundcolor": "#E5ECF6",
            "gridcolor": "white",
            "gridwidth": 2,
            "linecolor": "white",
            "showbackground": true,
            "ticks": "",
            "zerolinecolor": "white"
           }
          },
          "shapedefaults": {
           "line": {
            "color": "#2a3f5f"
           }
          },
          "ternary": {
           "aaxis": {
            "gridcolor": "white",
            "linecolor": "white",
            "ticks": ""
           },
           "baxis": {
            "gridcolor": "white",
            "linecolor": "white",
            "ticks": ""
           },
           "bgcolor": "#E5ECF6",
           "caxis": {
            "gridcolor": "white",
            "linecolor": "white",
            "ticks": ""
           }
          },
          "title": {
           "x": 0.05
          },
          "xaxis": {
           "automargin": true,
           "gridcolor": "white",
           "linecolor": "white",
           "ticks": "",
           "title": {
            "standoff": 15
           },
           "zerolinecolor": "white",
           "zerolinewidth": 2
          },
          "yaxis": {
           "automargin": true,
           "gridcolor": "white",
           "linecolor": "white",
           "ticks": "",
           "title": {
            "standoff": 15
           },
           "zerolinecolor": "white",
           "zerolinewidth": 2
          }
         }
        },
        "width": 900,
        "xaxis": {
         "anchor": "y",
         "domain": [
          0,
          1
         ],
         "title": {
          "text": "pca dist"
         }
        },
        "xaxis2": {
         "anchor": "y2",
         "domain": [
          0,
          1
         ],
         "title": {
          "text": "pca dist"
         }
        },
        "yaxis": {
         "anchor": "x",
         "domain": [
          0.625,
          1
         ],
         "range": [
          0,
          0.6443820770330814
         ],
         "title": {
          "text": "L"
         }
        },
        "yaxis2": {
         "anchor": "x2",
         "domain": [
          0,
          0.375
         ],
         "range": [
          0,
          0.6640950512189324
         ],
         "title": {
          "text": "L"
         }
        }
       }
      },
      "text/html": [
       "<div>\n",
       "        \n",
       "        \n",
       "            <div id=\"d3d15a83-69cc-4f98-bd3f-4fe8d342d15c\" class=\"plotly-graph-div\" style=\"height:500px; width:900px;\"></div>\n",
       "            <script type=\"text/javascript\">\n",
       "                require([\"plotly\"], function(Plotly) {\n",
       "                    window.PLOTLYENV=window.PLOTLYENV || {};\n",
       "                    \n",
       "                if (document.getElementById(\"d3d15a83-69cc-4f98-bd3f-4fe8d342d15c\")) {\n",
       "                    Plotly.newPlot(\n",
       "                        'd3d15a83-69cc-4f98-bd3f-4fe8d342d15c',\n",
       "                        [{\"mode\": \"markers\", \"name\": \"cl: 0\", \"type\": \"scatter\", \"x\": [0.0, 0.12121212121212122, 0.24242424242424243, 0.36363636363636365, 0.48484848484848486, 0.6060606060606061, 0.7272727272727273, 0.8484848484848485, 0.9696969696969697, 1.0909090909090908, 1.2121212121212122, 1.3333333333333335, 1.4545454545454546, 1.5757575757575757, 1.696969696969697, 1.8181818181818183, 1.9393939393939394, 2.0606060606060606, 2.1818181818181817, 2.303030303030303, 2.4242424242424243, 2.5454545454545454, 2.666666666666667, 2.787878787878788, 2.909090909090909, 3.0303030303030303, 3.1515151515151514, 3.272727272727273, 3.393939393939394, 3.515151515151515, 3.6363636363636367, 3.757575757575758, 3.878787878787879, 4.0, 4.121212121212121, 4.242424242424242, 4.363636363636363, 4.484848484848485, 4.606060606060606, 4.7272727272727275, 4.848484848484849, 4.96969696969697, 5.090909090909091, 5.212121212121212, 5.333333333333334, 5.454545454545455, 5.575757575757576, 5.696969696969697, 5.818181818181818, 5.9393939393939394, 6.0606060606060606, 6.181818181818182, 6.303030303030303, 6.424242424242425, 6.545454545454546, 6.666666666666667, 6.787878787878788, 6.909090909090909, 7.03030303030303, 7.151515151515151, 7.272727272727273, 7.3939393939393945, 7.515151515151516, 7.636363636363637, 7.757575757575758, 7.878787878787879, 8.0, 8.121212121212121, 8.242424242424242, 8.363636363636363, 8.484848484848484, 8.606060606060606, 8.727272727272727, 8.84848484848485, 8.96969696969697, 9.090909090909092, 9.212121212121213, 9.333333333333334, 9.454545454545455, 9.575757575757576, 9.696969696969697, 9.818181818181818, 9.93939393939394, 10.06060606060606, 10.181818181818182, 10.303030303030303, 10.424242424242424, 10.545454545454545, 10.666666666666668, 10.787878787878789, 10.90909090909091, 11.030303030303031, 11.151515151515152, 11.272727272727273, 11.393939393939394, 11.515151515151516, 11.636363636363637, 11.757575757575758, 11.878787878787879, 12.0], \"xaxis\": \"x\", \"y\": [8.661432182879831e-46, 2.6579889212887266e-44, 7.691186601743355e-43, 2.0985061904662385e-41, 5.398882625838501e-40, 1.3097072801696033e-38, 2.9958586729973858e-37, 6.461675244729164e-36, 1.3141521712639083e-34, 2.520129809060136e-33, 4.556977565246604e-32, 7.769759823991483e-31, 1.2491512379054865e-29, 1.8936476611282094e-28, 2.7068242186482318e-27, 3.648359751982531e-26, 4.636731876944752e-25, 5.5565219591838825e-24, 6.278715597314688e-23, 6.689833560408572e-22, 6.721040911793996e-21, 6.366994724954966e-20, 5.687339661761646e-19, 4.79027633961459e-18, 3.804422089542251e-17, 2.849007208427666e-16, 2.0117551828300936e-15, 1.3394713801421523e-14, 8.409467184714817e-14, 4.978290755372231e-13, 2.77887350864412e-12, 1.4626285753494633e-11, 7.258988401643192e-11, 3.3969953644379586e-10, 1.4989621198454426e-09, 6.236821187964616e-09, 2.4468817812350743e-08, 9.051904223119101e-08, 3.1575084407849475e-07, 1.0385496146308632e-06, 3.22098745304559e-06, 9.419575526691797e-06, 2.5975058001518117e-05, 6.754115611754953e-05, 0.00016560504052210538, 0.00038289706569898975, 0.0008348545760225779, 0.001716672875729239, 0.003329334112195336, 0.00609108115688208, 0.010515257175845037, 0.01713691641844975, 0.02638504303756823, 0.038425987574064006, 0.05303852211010764, 0.06960253717001935, 0.08726887844175331, 0.10531520121970643, 0.12359594551394826, 0.14290635301616295, 0.16505562210781818, 0.19251794088609114, 0.22768922570057393, 0.27195656074076313, 0.32489780488487274, 0.38390767119311814, 0.44439680628517614, 0.5005038978115397, 0.5460980612538238, 0.5757987837135392, 0.5858018882118922, 0.5744092113563752, 0.5422432208475602, 0.49215457442826704, 0.4288269676830331, 0.35810026210300444, 0.2860945344890509, 0.21829837426998872, 0.15882803510811944, 0.11002869985514394, 0.07248187868480123, 0.0453541178995755, 0.02693138795018664, 0.015163873591276019, 0.008090594322244656, 0.0040881318467556604, 0.0019554052596701967, 0.0008849938272374597, 0.0003788651103790472, 0.00015336974699661665, 5.8693773488044694e-05, 2.1229602926583886e-05, 7.256060282399578e-06, 2.343097044920178e-06, 7.147256369075866e-07, 2.0591329120545832e-07, 5.6023159359733654e-08, 1.4392509911882272e-08, 3.490948014743988e-09, 7.993637533210951e-10], \"yaxis\": \"y\"}, {\"mode\": \"markers\", \"name\": \"cl: 2\", \"type\": \"scatter\", \"x\": [0.0, 0.12121212121212122, 0.24242424242424243, 0.36363636363636365, 0.48484848484848486, 0.6060606060606061, 0.7272727272727273, 0.8484848484848485, 0.9696969696969697, 1.0909090909090908, 1.2121212121212122, 1.3333333333333335, 1.4545454545454546, 1.5757575757575757, 1.696969696969697, 1.8181818181818183, 1.9393939393939394, 2.0606060606060606, 2.1818181818181817, 2.303030303030303, 2.4242424242424243, 2.5454545454545454, 2.666666666666667, 2.787878787878788, 2.909090909090909, 3.0303030303030303, 3.1515151515151514, 3.272727272727273, 3.393939393939394, 3.515151515151515, 3.6363636363636367, 3.757575757575758, 3.878787878787879, 4.0, 4.121212121212121, 4.242424242424242, 4.363636363636363, 4.484848484848485, 4.606060606060606, 4.7272727272727275, 4.848484848484849, 4.96969696969697, 5.090909090909091, 5.212121212121212, 5.333333333333334, 5.454545454545455, 5.575757575757576, 5.696969696969697, 5.818181818181818, 5.9393939393939394, 6.0606060606060606, 6.181818181818182, 6.303030303030303, 6.424242424242425, 6.545454545454546, 6.666666666666667, 6.787878787878788, 6.909090909090909, 7.03030303030303, 7.151515151515151, 7.272727272727273, 7.3939393939393945, 7.515151515151516, 7.636363636363637, 7.757575757575758, 7.878787878787879, 8.0, 8.121212121212121, 8.242424242424242, 8.363636363636363, 8.484848484848484, 8.606060606060606, 8.727272727272727, 8.84848484848485, 8.96969696969697, 9.090909090909092, 9.212121212121213, 9.333333333333334, 9.454545454545455, 9.575757575757576, 9.696969696969697, 9.818181818181818, 9.93939393939394, 10.06060606060606, 10.181818181818182, 10.303030303030303, 10.424242424242424, 10.545454545454545, 10.666666666666668, 10.787878787878789, 10.90909090909091, 11.030303030303031, 11.151515151515152, 11.272727272727273, 11.393939393939394, 11.515151515151516, 11.636363636363637, 11.757575757575758, 11.878787878787879, 12.0], \"xaxis\": \"x2\", \"y\": [6.394646515578277e-72, 4.861247515184248e-70, 3.4846218101115073e-68, 2.355267783082402e-66, 1.501072460551125e-64, 9.02068977638996e-63, 5.111572942691189e-61, 2.7311534537586905e-59, 1.3759871134758708e-57, 6.536712071583912e-56, 2.928067399655537e-54, 1.236743133019494e-52, 4.925549303862587e-51, 1.8497224103985172e-49, 6.549907558272318e-48, 2.186958327618281e-46, 6.885295270059096e-45, 2.0440021849804074e-43, 5.721591752634827e-42, 1.5101813495968693e-40, 3.758530362884174e-39, 8.820307949277037e-38, 1.9517588540281838e-36, 4.072351841778608e-35, 8.012003911918788e-34, 1.4863248447443174e-32, 2.5999383322581594e-31, 4.288338728034797e-30, 6.669477976866738e-29, 9.78073133312767e-28, 1.352469695015887e-26, 1.763439169352536e-25, 2.16805428459263e-24, 2.5133707185142745e-23, 2.747386011392826e-22, 2.83178025994288e-21, 2.752175712443993e-20, 2.5221418781980515e-19, 2.1794134456731502e-18, 1.775769161749348e-17, 1.364300959954499e-16, 9.883498019225061e-16, 6.751309770929714e-15, 4.348528395089032e-14, 2.6410315458246645e-13, 1.5124533582242232e-12, 8.167096517431226e-12, 4.1584446747796775e-11, 1.9965126388289957e-10, 9.038400960218614e-10, 3.858249210231154e-09, 1.5529916790107877e-08, 5.894265160200711e-08, 2.109473471713161e-07, 7.118778120019439e-07, 2.2653137393081545e-06, 6.79750164142849e-06, 1.9234364326796538e-05, 5.132485278711372e-05, 0.0001291573315867917, 0.0003065358728939984, 0.0006862108467218406, 0.001449143427462761, 0.002887596145312246, 0.00543089977392467, 0.009645482071376549, 0.016188275780186, 0.02570160707799321, 0.03866202896039369, 0.05523062415884121, 0.07518145660668625, 0.09798402560993424, 0.12306703664405143, 0.15020024213125904, 0.17983548541170408, 0.21320347913289675, 0.2520138160840686, 0.2977529532815665, 0.35076397077452404, 0.40943470166237483, 0.46984055595235746, 0.5260618574454324, 0.5711679097636699, 0.5986234751090925, 0.6037227738353931, 0.5846462342220546, 0.5428605512768585, 0.4827870581504087, 0.41087029721222107, 0.33432315606049123, 0.25987378445622256, 0.19279404362648703, 0.1363767626124903, 0.09189052698288806, 0.0589184383952662, 0.035913546988093785, 0.02079161848061266, 0.011422599000209747, 0.00595037206845488, 0.002937084015005391], \"yaxis\": \"y2\"}],\n",
       "                        {\"annotations\": [{\"font\": {\"size\": 16}, \"showarrow\": false, \"text\": \"cl: 0\", \"x\": 0.5, \"xanchor\": \"center\", \"xref\": \"paper\", \"y\": 1.0, \"yanchor\": \"bottom\", \"yref\": \"paper\"}, {\"font\": {\"size\": 16}, \"showarrow\": false, \"text\": \"cl: 2\", \"x\": 0.5, \"xanchor\": \"center\", \"xref\": \"paper\", \"y\": 0.375, \"yanchor\": \"bottom\", \"yref\": \"paper\"}], \"height\": 500, \"template\": {\"data\": {\"bar\": [{\"error_x\": {\"color\": \"#2a3f5f\"}, \"error_y\": {\"color\": \"#2a3f5f\"}, \"marker\": {\"line\": {\"color\": \"#E5ECF6\", \"width\": 0.5}}, \"type\": \"bar\"}], \"barpolar\": [{\"marker\": {\"line\": {\"color\": \"#E5ECF6\", \"width\": 0.5}}, \"type\": \"barpolar\"}], \"carpet\": [{\"aaxis\": {\"endlinecolor\": \"#2a3f5f\", \"gridcolor\": \"white\", \"linecolor\": \"white\", \"minorgridcolor\": \"white\", \"startlinecolor\": \"#2a3f5f\"}, \"baxis\": {\"endlinecolor\": \"#2a3f5f\", \"gridcolor\": \"white\", \"linecolor\": \"white\", \"minorgridcolor\": \"white\", \"startlinecolor\": \"#2a3f5f\"}, \"type\": \"carpet\"}], \"choropleth\": [{\"colorbar\": {\"outlinewidth\": 0, \"ticks\": \"\"}, \"type\": \"choropleth\"}], \"contour\": [{\"colorbar\": {\"outlinewidth\": 0, \"ticks\": \"\"}, \"colorscale\": [[0.0, \"#0d0887\"], [0.1111111111111111, \"#46039f\"], [0.2222222222222222, \"#7201a8\"], [0.3333333333333333, \"#9c179e\"], [0.4444444444444444, \"#bd3786\"], [0.5555555555555556, \"#d8576b\"], [0.6666666666666666, \"#ed7953\"], [0.7777777777777778, \"#fb9f3a\"], [0.8888888888888888, \"#fdca26\"], [1.0, \"#f0f921\"]], \"type\": \"contour\"}], \"contourcarpet\": [{\"colorbar\": {\"outlinewidth\": 0, \"ticks\": \"\"}, \"type\": \"contourcarpet\"}], \"heatmap\": [{\"colorbar\": {\"outlinewidth\": 0, \"ticks\": \"\"}, \"colorscale\": [[0.0, \"#0d0887\"], [0.1111111111111111, \"#46039f\"], [0.2222222222222222, \"#7201a8\"], [0.3333333333333333, \"#9c179e\"], [0.4444444444444444, \"#bd3786\"], [0.5555555555555556, \"#d8576b\"], [0.6666666666666666, \"#ed7953\"], [0.7777777777777778, \"#fb9f3a\"], [0.8888888888888888, \"#fdca26\"], [1.0, \"#f0f921\"]], \"type\": \"heatmap\"}], \"heatmapgl\": [{\"colorbar\": {\"outlinewidth\": 0, \"ticks\": \"\"}, \"colorscale\": [[0.0, \"#0d0887\"], [0.1111111111111111, \"#46039f\"], [0.2222222222222222, \"#7201a8\"], [0.3333333333333333, \"#9c179e\"], [0.4444444444444444, \"#bd3786\"], [0.5555555555555556, \"#d8576b\"], [0.6666666666666666, \"#ed7953\"], [0.7777777777777778, \"#fb9f3a\"], [0.8888888888888888, \"#fdca26\"], [1.0, \"#f0f921\"]], \"type\": \"heatmapgl\"}], \"histogram\": [{\"marker\": {\"colorbar\": {\"outlinewidth\": 0, \"ticks\": \"\"}}, \"type\": \"histogram\"}], \"histogram2d\": [{\"colorbar\": {\"outlinewidth\": 0, \"ticks\": \"\"}, \"colorscale\": [[0.0, \"#0d0887\"], [0.1111111111111111, \"#46039f\"], [0.2222222222222222, \"#7201a8\"], [0.3333333333333333, \"#9c179e\"], [0.4444444444444444, \"#bd3786\"], [0.5555555555555556, \"#d8576b\"], [0.6666666666666666, \"#ed7953\"], [0.7777777777777778, \"#fb9f3a\"], [0.8888888888888888, \"#fdca26\"], [1.0, \"#f0f921\"]], \"type\": \"histogram2d\"}], \"histogram2dcontour\": [{\"colorbar\": {\"outlinewidth\": 0, \"ticks\": \"\"}, \"colorscale\": [[0.0, \"#0d0887\"], [0.1111111111111111, \"#46039f\"], [0.2222222222222222, \"#7201a8\"], [0.3333333333333333, \"#9c179e\"], [0.4444444444444444, \"#bd3786\"], [0.5555555555555556, \"#d8576b\"], [0.6666666666666666, \"#ed7953\"], [0.7777777777777778, \"#fb9f3a\"], [0.8888888888888888, \"#fdca26\"], [1.0, \"#f0f921\"]], \"type\": \"histogram2dcontour\"}], \"mesh3d\": [{\"colorbar\": {\"outlinewidth\": 0, \"ticks\": \"\"}, \"type\": \"mesh3d\"}], \"parcoords\": [{\"line\": {\"colorbar\": {\"outlinewidth\": 0, \"ticks\": \"\"}}, \"type\": \"parcoords\"}], \"pie\": [{\"automargin\": true, \"type\": \"pie\"}], \"scatter\": [{\"marker\": {\"colorbar\": {\"outlinewidth\": 0, \"ticks\": \"\"}}, \"type\": \"scatter\"}], \"scatter3d\": [{\"line\": {\"colorbar\": {\"outlinewidth\": 0, \"ticks\": \"\"}}, \"marker\": {\"colorbar\": {\"outlinewidth\": 0, \"ticks\": \"\"}}, \"type\": \"scatter3d\"}], \"scattercarpet\": [{\"marker\": {\"colorbar\": {\"outlinewidth\": 0, \"ticks\": \"\"}}, \"type\": \"scattercarpet\"}], \"scattergeo\": [{\"marker\": {\"colorbar\": {\"outlinewidth\": 0, \"ticks\": \"\"}}, \"type\": \"scattergeo\"}], \"scattergl\": [{\"marker\": {\"colorbar\": {\"outlinewidth\": 0, \"ticks\": \"\"}}, \"type\": \"scattergl\"}], \"scattermapbox\": [{\"marker\": {\"colorbar\": {\"outlinewidth\": 0, \"ticks\": \"\"}}, \"type\": \"scattermapbox\"}], \"scatterpolar\": [{\"marker\": {\"colorbar\": {\"outlinewidth\": 0, \"ticks\": \"\"}}, \"type\": \"scatterpolar\"}], \"scatterpolargl\": [{\"marker\": {\"colorbar\": {\"outlinewidth\": 0, \"ticks\": \"\"}}, \"type\": \"scatterpolargl\"}], \"scatterternary\": [{\"marker\": {\"colorbar\": {\"outlinewidth\": 0, \"ticks\": \"\"}}, \"type\": \"scatterternary\"}], \"surface\": [{\"colorbar\": {\"outlinewidth\": 0, \"ticks\": \"\"}, \"colorscale\": [[0.0, \"#0d0887\"], [0.1111111111111111, \"#46039f\"], [0.2222222222222222, \"#7201a8\"], [0.3333333333333333, \"#9c179e\"], [0.4444444444444444, \"#bd3786\"], [0.5555555555555556, \"#d8576b\"], [0.6666666666666666, \"#ed7953\"], [0.7777777777777778, \"#fb9f3a\"], [0.8888888888888888, \"#fdca26\"], [1.0, \"#f0f921\"]], \"type\": \"surface\"}], \"table\": [{\"cells\": {\"fill\": {\"color\": \"#EBF0F8\"}, \"line\": {\"color\": \"white\"}}, \"header\": {\"fill\": {\"color\": \"#C8D4E3\"}, \"line\": {\"color\": \"white\"}}, \"type\": \"table\"}]}, \"layout\": {\"annotationdefaults\": {\"arrowcolor\": \"#2a3f5f\", \"arrowhead\": 0, \"arrowwidth\": 1}, \"coloraxis\": {\"colorbar\": {\"outlinewidth\": 0, \"ticks\": \"\"}}, \"colorscale\": {\"diverging\": [[0, \"#8e0152\"], [0.1, \"#c51b7d\"], [0.2, \"#de77ae\"], [0.3, \"#f1b6da\"], [0.4, \"#fde0ef\"], [0.5, \"#f7f7f7\"], [0.6, \"#e6f5d0\"], [0.7, \"#b8e186\"], [0.8, \"#7fbc41\"], [0.9, \"#4d9221\"], [1, \"#276419\"]], \"sequential\": [[0.0, \"#0d0887\"], [0.1111111111111111, \"#46039f\"], [0.2222222222222222, \"#7201a8\"], [0.3333333333333333, \"#9c179e\"], [0.4444444444444444, \"#bd3786\"], [0.5555555555555556, \"#d8576b\"], [0.6666666666666666, \"#ed7953\"], [0.7777777777777778, \"#fb9f3a\"], [0.8888888888888888, \"#fdca26\"], [1.0, \"#f0f921\"]], \"sequentialminus\": [[0.0, \"#0d0887\"], [0.1111111111111111, \"#46039f\"], [0.2222222222222222, \"#7201a8\"], [0.3333333333333333, \"#9c179e\"], [0.4444444444444444, \"#bd3786\"], [0.5555555555555556, \"#d8576b\"], [0.6666666666666666, \"#ed7953\"], [0.7777777777777778, \"#fb9f3a\"], [0.8888888888888888, \"#fdca26\"], [1.0, \"#f0f921\"]]}, \"colorway\": [\"#636efa\", \"#EF553B\", \"#00cc96\", \"#ab63fa\", \"#FFA15A\", \"#19d3f3\", \"#FF6692\", \"#B6E880\", \"#FF97FF\", \"#FECB52\"], \"font\": {\"color\": \"#2a3f5f\"}, \"geo\": {\"bgcolor\": \"white\", \"lakecolor\": \"white\", \"landcolor\": \"#E5ECF6\", \"showlakes\": true, \"showland\": true, \"subunitcolor\": \"white\"}, \"hoverlabel\": {\"align\": \"left\"}, \"hovermode\": \"closest\", \"mapbox\": {\"style\": \"light\"}, \"paper_bgcolor\": \"white\", \"plot_bgcolor\": \"#E5ECF6\", \"polar\": {\"angularaxis\": {\"gridcolor\": \"white\", \"linecolor\": \"white\", \"ticks\": \"\"}, \"bgcolor\": \"#E5ECF6\", \"radialaxis\": {\"gridcolor\": \"white\", \"linecolor\": \"white\", \"ticks\": \"\"}}, \"scene\": {\"xaxis\": {\"backgroundcolor\": \"#E5ECF6\", \"gridcolor\": \"white\", \"gridwidth\": 2, \"linecolor\": \"white\", \"showbackground\": true, \"ticks\": \"\", \"zerolinecolor\": \"white\"}, \"yaxis\": {\"backgroundcolor\": \"#E5ECF6\", \"gridcolor\": \"white\", \"gridwidth\": 2, \"linecolor\": \"white\", \"showbackground\": true, \"ticks\": \"\", \"zerolinecolor\": \"white\"}, \"zaxis\": {\"backgroundcolor\": \"#E5ECF6\", \"gridcolor\": \"white\", \"gridwidth\": 2, \"linecolor\": \"white\", \"showbackground\": true, \"ticks\": \"\", \"zerolinecolor\": \"white\"}}, \"shapedefaults\": {\"line\": {\"color\": \"#2a3f5f\"}}, \"ternary\": {\"aaxis\": {\"gridcolor\": \"white\", \"linecolor\": \"white\", \"ticks\": \"\"}, \"baxis\": {\"gridcolor\": \"white\", \"linecolor\": \"white\", \"ticks\": \"\"}, \"bgcolor\": \"#E5ECF6\", \"caxis\": {\"gridcolor\": \"white\", \"linecolor\": \"white\", \"ticks\": \"\"}}, \"title\": {\"x\": 0.05}, \"xaxis\": {\"automargin\": true, \"gridcolor\": \"white\", \"linecolor\": \"white\", \"ticks\": \"\", \"title\": {\"standoff\": 15}, \"zerolinecolor\": \"white\", \"zerolinewidth\": 2}, \"yaxis\": {\"automargin\": true, \"gridcolor\": \"white\", \"linecolor\": \"white\", \"ticks\": \"\", \"title\": {\"standoff\": 15}, \"zerolinecolor\": \"white\", \"zerolinewidth\": 2}}}, \"width\": 900, \"xaxis\": {\"anchor\": \"y\", \"domain\": [0.0, 1.0], \"title\": {\"text\": \"pca dist\"}}, \"xaxis2\": {\"anchor\": \"y2\", \"domain\": [0.0, 1.0], \"title\": {\"text\": \"pca dist\"}}, \"yaxis\": {\"anchor\": \"x\", \"domain\": [0.625, 1.0], \"range\": [0, 0.6443820770330814], \"title\": {\"text\": \"L\"}}, \"yaxis2\": {\"anchor\": \"x2\", \"domain\": [0.0, 0.375], \"range\": [0, 0.6640950512189324], \"title\": {\"text\": \"L\"}}},\n",
       "                        {\"responsive\": true}\n",
       "                    ).then(function(){\n",
       "                            \n",
       "var gd = document.getElementById('d3d15a83-69cc-4f98-bd3f-4fe8d342d15c');\n",
       "var x = new MutationObserver(function (mutations, observer) {{\n",
       "        var display = window.getComputedStyle(gd).display;\n",
       "        if (!display || display === 'none') {{\n",
       "            console.log([gd, 'removed!']);\n",
       "            Plotly.purge(gd);\n",
       "            observer.disconnect();\n",
       "        }}\n",
       "}});\n",
       "\n",
       "// Listen for the removal of the full notebook cells\n",
       "var notebookContainer = gd.closest('#notebook-container');\n",
       "if (notebookContainer) {{\n",
       "    x.observe(notebookContainer, {childList: true});\n",
       "}}\n",
       "\n",
       "// Listen for the clearing of the current output cell\n",
       "var outputEl = gd.closest('.output');\n",
       "if (outputEl) {{\n",
       "    x.observe(outputEl, {childList: true});\n",
       "}}\n",
       "\n",
       "                        })\n",
       "                };\n",
       "                });\n",
       "            </script>\n",
       "        </div>"
      ]
     },
     "metadata": {},
     "output_type": "display_data"
    }
   ],
   "source": [
    "\n",
    "range_dists= np.linspace(0,12,100)\n",
    "range_dists= range_dists.reshape(-1,1)\n",
    "gp= 0\n",
    "\n",
    "dist_gens= {}\n",
    "\n",
    "for gp in sorted(dists_dict.keys()):\n",
    "    gp_sub_gens= plot_distances(dists_dict,gp,range_dists,height= 500,width= 900)\n",
    "    dist_gens[gp]= gp_sub_gens"
   ]
  },
  {
   "cell_type": "markdown",
   "metadata": {},
   "source": [
    "### Comparing local and global distances.\n",
    "\n",
    "We calculated euclidean distances in the feature space of the full data set. \n",
    "\n",
    "Next we plot the average distances calculated across local windows.\n"
   ]
  },
  {
   "cell_type": "code",
   "execution_count": 30,
   "metadata": {},
   "outputs": [],
   "source": [
    "## distances between clusters in global PCA\n",
    "dimN= 2\n",
    "\n",
    "gp_combs=it.combinations(cluster_include,2)\n",
    "gp_combs= list(gp_combs)\n",
    "gl_coords= {z: feats[g,:dimN] for z,g in label_select.items()}\n",
    "\n",
    "gl_dists= {z: pairwise_distances(gl_coords[z[0]],gl_coords[z[1]],metric= metric) for z in gp_combs}\n",
    "\n",
    "rec_coords= {z: dist_gens[z[0]][z[1]].sample(50) for z in gp_combs}\n",
    "\n"
   ]
  },
  {
   "cell_type": "code",
   "execution_count": 31,
   "metadata": {},
   "outputs": [
    {
     "data": {
      "application/vnd.plotly.v1+json": {
       "config": {
        "linkText": "Export to plot.ly",
        "plotlyServerURL": "https://plot.ly",
        "showLink": false
       },
       "data": [
        {
         "name": "dist (0, 2)",
         "type": "box",
         "y": [
          35.46070982103084,
          36.162215238157714,
          35.50951483190211,
          34.632865549166304,
          34.70094997179688,
          33.814070357361516,
          35.47109944791404,
          35.51541637291717,
          37.19592029842559,
          34.87013635502235,
          34.37624089955426,
          35.711422078388246,
          35.80911819783675,
          35.13732265475169,
          33.88824224033955,
          35.461031819680706,
          35.22294992127941,
          34.52820320741168,
          34.740654179363624,
          34.61163777992339,
          35.14856182181345,
          35.844150914644565,
          35.18086844582876,
          34.310232105654805,
          34.387674447200915,
          33.52197861138577,
          35.15154636876897,
          35.1828333842838,
          36.88904933356125,
          34.569440897672045,
          34.061992270410826,
          35.40378447343904,
          35.48404932949168,
          34.8446516878509,
          33.56691453104757,
          35.16799064555012,
          34.92064688652101,
          34.22966140767835,
          34.44603779228868,
          34.319240175577235,
          36.14143448750327,
          36.84747652810608,
          36.203425418270214,
          35.32227353609313,
          35.382835887864395,
          34.47906062002271,
          36.15777170272299,
          36.21244419549736,
          37.8718317737195,
          35.541777342534175,
          35.05902072835442,
          36.38841962606474,
          36.50009021421801,
          35.80230989635592,
          34.57686191275747,
          36.126211347399604,
          35.89577878522399,
          35.198208473689654,
          35.40737549710484,
          35.27658632361624,
          34.28816047383913,
          34.987983131338176,
          34.33236424915095,
          33.45728950651569,
          33.52803260703152,
          32.647757719749315,
          34.29641648707363,
          34.337249397053824,
          36.02503759240177,
          33.701072539165104,
          33.2030234131711,
          34.540238044561676,
          34.63293193065387,
          33.97088773125607,
          32.712990692898295,
          34.294490065839334,
          34.05339497040403,
          33.35981118755602,
          33.573553104388154,
          33.44526650035489,
          34.98186434424793,
          35.68446466708208,
          35.03390395172718,
          34.15609125797954,
          34.222356410791576,
          33.33172056332109,
          34.99367352988607,
          35.04061713001827,
          36.71601452560512,
          34.38922688622339,
          33.89784950798013,
          35.231725383978315,
          35.3327669877403,
          34.65500758889307,
          33.411251290126884,
          34.97876481820769,
          34.74230961444113,
          34.04693061306714,
          34.25868992091777,
          34.12930098575533,
          35.943697667717494,
          36.647536508567505,
          35.999193296800485,
          35.12023589867502,
          35.18450140510497,
          34.28892667158824,
          35.957112963070685,
          36.00666642715642,
          37.67651160071487,
          35.34845613733935,
          34.8602352229307,
          36.192516609149905,
          36.29732218206542,
          35.61223123693795,
          34.375184930977866,
          35.93605204582686,
          35.70189248230858,
          35.005669728419136,
          35.2164403089966,
          35.086505520650604,
          33.98728319717553,
          34.697957048282845,
          34.06383592454244,
          33.17784706098127,
          33.23015858746632,
          32.30978572161136,
          34.010016599887045,
          34.07651084948821,
          35.71220649729,
          33.37856489614735,
          32.90740684768543,
          34.23032497929784,
          34.3570272157014,
          33.632642002479464,
          32.43181887810958,
          33.956632191152785,
          33.73363301287599,
          33.0335008181753,
          33.239452776035705,
          33.107033485651925,
          36.19420430797049,
          36.89849289177123,
          36.2509821159464,
          35.37159792451993,
          35.435125731355136,
          34.53779883316612,
          36.208208613873964,
          36.25874553515552,
          37.926525988705684,
          35.59803194169532,
          35.110949229697354,
          36.44264500724156,
          36.54883233495788,
          35.86109985975863,
          34.62647217180842,
          36.18494061881541,
          35.951591595185384,
          35.25507443625877,
          35.465495904248385,
          35.33537122377489,
          33.75743073529088,
          34.45073571328705,
          33.783788074285575,
          32.91533672984502,
          32.996206614347464,
          32.13919226718073,
          33.75766425060672,
          33.78443282323322,
          35.49975486624079,
          33.18289902019458,
          32.670196984584166,
          34.014362352520784,
          34.088170634968435,
          33.46142167438275,
          32.17257226384952,
          33.78455760944289,
          33.533405611516876,
          32.844051279216416,
          33.06203841852589,
          32.93620269646615,
          34.45605677970052,
          35.15946980532802,
          34.51054845005234,
          33.63185415158966,
          33.696744747957396,
          32.80338189311241,
          34.46893140818013,
          34.517890002760744,
          36.1894074947341,
          33.861909688163145,
          33.3723927028724,
          34.70528539709407,
          34.8088390043271,
          34.12668235031664,
          32.88685835164182,
          34.45047097100428,
          34.21518431357697,
          33.519354461219564,
          33.73061682348153,
          33.60096470263565,
          34.61127660903905,
          35.315661101981554,
          34.66859213821502,
          33.78893718967065,
          33.85221457844087,
          32.955214720173004,
          34.62542627192217,
          34.67659973547517,
          36.34359428679777,
          34.015177680317144,
          33.528054854281415,
          34.85970516576794,
          34.966253338113575,
          34.27851815789479,
          33.043774571125375,
          34.60234904220549,
          34.36870817645375,
          33.6722698877665,
          33.88282528018435,
          33.75279075677838,
          34.15781553937627,
          34.85033025246293,
          34.181994625248045,
          33.314412341368836,
          33.39649125706946,
          32.54199515565461,
          34.157100990722626,
          34.18208504608294,
          35.90070093695126,
          33.58468810196011,
          33.0703771699339,
          34.41528853789187,
          34.48685260402214,
          33.86409394880591,
          32.571865014352575,
          34.18717374494526,
          33.93499033097106,
          33.24610404789537,
          33.464518167156314,
          33.33893100085313,
          33.92820507891712,
          34.6361382516067,
          33.996281433749985,
          33.112997946921844,
          33.17016100502238,
          32.260245954483565,
          33.947133710720074,
          34.00692553098739,
          35.6565556291935,
          33.32510333857358,
          32.84675841359102,
          34.173671479424804,
          34.29144982793876,
          33.58340620598616,
          32.36729023333435,
          33.90734695346254,
          33.679503657215356,
          32.980988720084405,
          33.18904667560331,
          33.057704701500356,
          36.35867523189555,
          37.06120007371744,
          36.41027917737025,
          35.53269403841498,
          35.59915644334088,
          34.70819825867333,
          36.37037122793036,
          36.41678908936195,
          38.092821435276754,
          35.76595603363685,
          35.27463778232454,
          36.60853975197487,
          36.709296937373935,
          36.03149079038326,
          34.78788728390729,
          36.355258596184754,
          36.11906708852979,
          35.423612493777476,
          35.63525078956747,
          35.50578010806725,
          35.400013727656855,
          36.10459431677748,
          35.457777568637006,
          34.57801395787808,
          34.641007935203184,
          33.742940373156635,
          35.41441294631763,
          35.465834173391954,
          37.13207051342996,
          34.80339103467935,
          34.316888968559695,
          35.64824690061833,
          35.75537184654702,
          35.06623979603682,
          33.83282864306143,
          35.390085221142606,
          35.156998959033544,
          34.460371645119054,
          34.670684431683,
          34.54051074691988,
          34.47874724726487,
          35.181624277706476,
          34.53167359021659,
          33.6535230395141,
          33.71930326460052,
          32.82788894010996,
          34.49092207488058,
          34.538637646413505,
          36.21264752155381,
          33.88565369420582,
          33.394847985388765,
          34.728407926840845,
          34.83031617074755,
          34.151179863751054,
          32.90862460109624,
          34.47494452697504,
          34.23879001512126,
          33.543287563589764,
          33.75492142322954,
          33.62547040795965,
          35.374641033171805,
          36.083778007565286,
          35.446166615767616,
          34.56184835478691,
          34.616994544834455,
          33.70191810548695,
          35.39520699274903,
          35.45752953421866,
          37.101417586305956,
          34.76884960484349,
          34.29387136330052,
          35.618992365731664,
          35.74059936095926,
          35.02493335905886,
          33.81600337248674,
          35.34890597821481,
          35.123590465828315,
          34.42424552688891,
          34.63120112600229,
          34.499274610496,
          35.71087325549548,
          36.41382050681087,
          35.76380278152223,
          34.885720601807634,
          34.95145304275025,
          34.059232959393036,
          35.723125256168046,
          35.77067639653093,
          37.444626946174026,
          35.11742937058295,
          34.6270134101069,
          35.96042466828691,
          36.06249786624021,
          35.382530810438965,
          34.14082663162447,
          35.70631138620892,
          35.47062797332736,
          34.774970204578736,
          34.986394925517196,
          34.8568156915754,
          34.88254445375995,
          35.578871979544864,
          34.91691415615843,
          34.0454867392319,
          34.12177467836142,
          33.25361867329464,
          34.88643581080464,
          34.91939396266308,
          36.62244309961285,
          34.30206730463187,
          33.79620228593311,
          35.1372356415211,
          35.219642207077335,
          34.57638643395982,
          33.301985501918395,
          34.899773360514466,
          34.65346565654499,
          33.96203532214847,
          34.177977862785525,
          34.050932815704286,
          34.99269950999695,
          35.69934511136194,
          35.05668802540305,
          34.17480873995289,
          34.234269904278214,
          33.32872259167316,
          35.009863390458044,
          35.06626908020325,
          36.722483835413534,
          34.39201683693683,
          33.91058290272399,
          35.239222334688286,
          35.35284678627558,
          34.65195328706836,
          33.42929311387146,
          34.9758656072916,
          34.74613263639249,
          34.048294963037414,
          34.2571654022396,
          34.126233766494366,
          34.868299329080635,
          35.57703272295524,
          34.9386650031256,
          34.05469260348508,
          34.11051699233553,
          33.19717545821124,
          34.888314279339355,
          34.94978664695878,
          36.595611221548666,
          34.26341216332359,
          33.78729896601472,
          35.11302698291888,
          35.233345452157984,
          34.52024517601333,
          33.308892094238665,
          34.84420834684673,
          34.61803946355529,
          33.91897178878864,
          34.12629978069215,
          33.99456983559035,
          35.734158578751504,
          36.44004470178688,
          35.79574720580402,
          34.9147086524814,
          34.97551333853601,
          34.072481790218994,
          35.75029167458589,
          35.80469808098537,
          37.464757371237766,
          35.13487817071019,
          34.6516646637179,
          35.981291482199325,
          36.09248683450083,
          35.39574195458005,
          34.16931643118342,
          35.719635798821955,
          35.48882765169878,
          34.79138383832394,
          35.00071463536961,
          34.87001624665002,
          35.65901506930567,
          36.35267690952662,
          35.68602538135348,
          34.81743740686847,
          34.897846924636696,
          34.03861389649277,
          35.65966075499348,
          35.686682312072996,
          37.40098311294673,
          35.08344549850594,
          34.571891507377124,
          35.91560993681402,
          35.990351089421154,
          35.36099895406968,
          34.074615703945746,
          35.684202154309574,
          35.43413720777297,
          34.74433901437301,
          34.96185280191207,
          34.8357134402312,
          35.1190186890503,
          35.81616420078703,
          35.15560349116379,
          34.28336414837934,
          34.358388569020136,
          33.48723572068398,
          35.123916123097,
          35.15859719904583,
          36.85822108967557,
          34.53693570458275,
          34.03294267292541,
          35.37309255733463,
          35.45786502767302,
          34.810116343005,
          33.53967371491764,
          35.13356336499536,
          34.88856785195719,
          34.19659151804786,
          34.411978671466166,
          34.28461196185243,
          34.20853632190137,
          34.913477279479245,
          34.26756512762363,
          33.38730418331935,
          33.449620416629536,
          32.5507501996475,
          34.22342796304615,
          34.27601500360101,
          35.940280446989476,
          33.61140106757743,
          33.125572973216656,
          34.45652355861647,
          34.564820097111046,
          33.874048232114866,
          32.642043514570545,
          34.19789711486515,
          33.965059489015786,
          33.26831931260791,
          33.47853177160461,
          33.348318948311174,
          34.35292954024364,
          35.050623517523306,
          34.391158118135245,
          33.518265144768165,
          33.5923927725542,
          32.71967571021154,
          34.35851457238954,
          34.3946042903112,
          36.091703258236265,
          33.76993730763772,
          33.267031436744574,
          34.60662597588023,
          34.693031413048345,
          34.04259851978446,
          32.774434904244465,
          34.36606949730788,
          34.12168743197268,
          33.429441908175264,
          33.64457628651278,
          33.51707482907491,
          34.874933504500575,
          35.57106610329264,
          34.90876978915757,
          34.037541824238936,
          34.11413176425691,
          33.24666455858558,
          34.878585657704775,
          34.911122171770636,
          36.614992845497525,
          34.29482926026526,
          33.78852989518206,
          35.12976879491132,
          35.21161190720436,
          34.56940527902355,
          33.294087277585014,
          34.89277833377725,
          34.64617367066691,
          33.95486880074256,
          34.170936498213514,
          34.04396371564747,
          34.81633901500252,
          35.51942879763026,
          34.869827720634014,
          33.99150139066531,
          34.05694888866629,
          33.16460345079721,
          34.82878705208588,
          34.87690114239791,
          36.55000058901327,
          34.22276654293768,
          33.732534993109695,
          35.06581336953856,
          35.16835930611495,
          34.48790028973646,
          33.246568948785026,
          34.811678242982126,
          34.57597052293369,
          33.8803056854132,
          34.09174617613035,
          33.9621860709865,
          35.040960260811694,
          35.7301808122512,
          35.05633411943484,
          34.19228651766225,
          34.279279953883474,
          33.43559233014136,
          35.03636386218691,
          35.054244834927985,
          36.78606597000798,
          34.473792175944176,
          33.95276118550422,
          35.30067112055061,
          35.36305517323177,
          34.757023828052276,
          33.45067618811241,
          35.07983490284861,
          34.82319458461751,
          34.13636864989398,
          34.356627481220826,
          34.23214333934126,
          35.798534697345744,
          36.506320271130306,
          35.86584519911163,
          34.98291496865246,
          35.04045530468545,
          34.13030934132481,
          35.8172361901245,
          35.876165461874265,
          37.526929173896164,
          35.195422390033876,
          34.71702105686865,
          36.044047295558805,
          36.16127417847599,
          35.453448805330275,
          34.23724715581194,
          35.777395756843966,
          35.549846148317634,
          34.85126437695367,
          35.05918729992228,
          34.92775316268143,
          35.58556678674897,
          36.29802494516303,
          35.66750510697012,
          34.77993456633176,
          34.82911620009041,
          33.901216326017604,
          35.610815329380465,
          35.68135383505634,
          37.307967486051275,
          34.97289343972426,
          34.50682107718801,
          35.82690529360726,
          35.959492617289754,
          35.22371636801312,
          34.03375527696036,
          35.547717985998695,
          35.32842709627013,
          34.627148252854404,
          34.831475394791234,
          34.69822678160929,
          36.337817274374444,
          37.03748599820836,
          36.38126033082311,
          35.506576424991515,
          35.577668270295675,
          34.697000984626754,
          36.34585739162333,
          36.38581274680423,
          38.07472431619291,
          35.75066796431396,
          35.25263727543569,
          36.589927244600766,
          36.68208116106859,
          36.02015640519177,
          34.762342338449066,
          36.34377730892438,
          36.10302704745292,
          35.40934307393505,
          35.622923793855634,
          35.4945226931494,
          35.33689121028598,
          36.03597975315959,
          35.37885478391473,
          34.50465195837186,
          34.576621541084656,
          33.69847298843417,
          35.3442098116372,
          35.383123275605804,
          37.074380730622046,
          34.75103430891414,
          34.25149032342345,
          35.589487742118614,
          35.679958285354786,
          35.021562887379126,
          33.76052731530328,
          35.34513667933575,
          35.103201137333365,
          34.409974448536474,
          34.62406520239125,
          34.49596118614458,
          35.238949358277104,
          35.94706953830629,
          35.307372096057556,
          34.42404927342118,
          34.480971995695356,
          33.56979336129117,
          35.25811598448361,
          35.31799976138473,
          36.9669808608476,
          34.635248250134495,
          34.15761306306512,
          35.484195730110116,
          35.60251979993791,
          34.89291392658524,
          33.6783310147585,
          35.21686584918691,
          34.98973705644206,
          34.29100157788375,
          34.49874442964518,
          34.367223654256414,
          36.12956012185227,
          36.833269722086335,
          36.184648324904494,
          35.30584114642307,
          35.37033188774803,
          34.47515256699579,
          36.14280371783179,
          36.19201060102721,
          37.86249895004252,
          35.53454407767161,
          35.04604059065709,
          36.37847686091707,
          36.48287649071466,
          35.79845723841461,
          34.56081533055747,
          36.12227438152786,
          35.887953401822685,
          35.19179368478921,
          35.4026324732918,
          35.27273224115208,
          35.27340145923615,
          35.98321857091637,
          35.347052917974935,
          34.46205033495772,
          34.51598426338851,
          33.59836259549295,
          35.29491453953052,
          35.358933755435984,
          36.999329608151086,
          34.66623506311693,
          34.193023201766906,
          35.5171545243989,
          35.64098454839728,
          34.92129840320251,
          33.716125192855806,
          35.245281311678106,
          35.02113699589447,
          34.321402189304294,
          34.52784891748638,
          34.395664520827886,
          34.29136619544883,
          34.99555626667072,
          34.34816366132077,
          33.46866719000469,
          33.532251456853466,
          32.63611258714668,
          34.30526334821454,
          34.35607143553445,
          36.02391205367505,
          33.69570961255141,
          33.20805225667857,
          34.539968570750325,
          34.645927481489,
          33.95941719152641,
          32.72353327452101,
          34.28323722041351,
          34.049178701390026,
          33.35288842471248,
          33.563625026502926,
          33.433691642470286,
          36.52867605202032,
          37.22808117477829,
          36.57134751262092,
          35.69695315834246,
          35.76847479322685,
          34.88866556954352,
          36.536381605685776,
          36.57570160671356,
          38.2658155106268,
          35.94200495979608,
          35.443399434284444,
          36.78098135897527,
          36.87234471378625,
          36.2118042920485,
          34.952778350792585,
          36.535412500150365,
          36.294300564737206,
          35.600764160203354,
          35.814497116448095,
          35.686178880395104,
          33.94854230650558,
          34.6496034923878,
          33.99632545657334,
          33.119950220512145,
          33.188675437769135,
          32.30410783756335,
          33.958379118076394,
          34.00209629598654,
          35.68427272948264,
          33.35910730757659,
          32.86388292606315,
          34.199670538038454,
          34.29608882025568,
          33.627318252461976,
          32.375391696285405,
          33.95098544298197,
          33.71174611677165,
          33.0174214467192,
          33.23037630116937,
          33.101656305563615,
          34.07022092495766,
          34.775686114701294,
          34.13083117349442,
          33.25002811371731,
          33.31144796510867,
          32.410699506902766,
          34.08581228522671,
          34.139671516678746,
          35.801399517149655,
          33.47206381151166,
          32.987508684929786,
          34.31777843591422,
          34.42772029106325,
          33.73398701674846,
          32.50468124219543,
          34.057854012460496,
          33.82585071701184,
          33.12880509980973,
          33.33865925872305,
          33.2082575604323,
          37.76913601286538,
          38.074459966152766,
          37.24828461922437,
          36.832554693019745,
          37.1922679759325,
          37.2619119891218,
          37.528350742265225,
          37.11847941783008,
          39.207224816249436,
          37.72722295015925,
          36.93199009481954,
          38.09944477350792,
          37.58337077225862,
          38.18078069382599,
          36.35814427599111,
          38.40145240482681,
          37.92590429030809,
          37.55524013780856,
          37.833980283756055,
          37.814452289260814,
          25.94617337190045,
          26.49080288400404,
          25.692191342357944,
          24.989074036528077,
          25.222845700705516,
          24.797528638498378,
          25.82127215233115,
          25.626515687039166,
          27.657377908345527,
          25.609167458477394,
          24.905659125425228,
          26.2607086077736,
          26.03550930547513,
          26.00267676484223,
          24.326859542410123,
          26.294923466355762,
          25.90553358832204,
          25.33372467830776,
          25.601353250228225,
          25.523403692042713,
          33.12608803696886,
          33.55513427847111,
          32.72596333847683,
          32.16082235464528,
          32.46584319093385,
          32.291977129296924,
          32.9376216687284,
          32.62485009663786,
          34.72582985439353,
          32.93763466142411,
          32.17240364167787,
          33.45490274382274,
          33.07190964889157,
          33.369683514276595,
          31.58450230876195,
          33.62984154508028,
          33.18835102279832,
          32.71121922206055,
          32.98956200889673,
          32.94067013310199,
          32.92313053201188,
          33.47825135667144,
          32.68379625882766,
          31.969372321044972,
          32.19426866364802,
          31.731393417847105,
          32.80524901294941,
          32.6209416151421,
          34.6421166163062,
          32.56778825489591,
          31.875013546238964,
          33.23520938266205,
          33.02625090953438,
          32.954079512480945,
          31.299117270084388,
          33.25035616904843,
          32.86972443957075,
          32.28577704409642,
          32.55073567329569,
          32.46822912119557,
          41.333161524229794,
          41.50809489021394,
          40.713425602201404,
          40.45662720046616,
          40.85671087716769,
          41.160144367071894,
          41.04988387521346,
          40.560523414633884,
          42.56639961457909,
          41.43492480223525,
          40.63745857509433,
          41.6538530832351,
          41.02626303100743,
          41.89462311062168,
          40.097235049662935,
          42.06970746508126,
          41.57647219111526,
          41.32150501782424,
          41.59149841931333,
          41.60118311187014,
          32.408678861405136,
          32.96729039876229,
          32.17459488334333,
          31.45605572704086,
          31.67831052145497,
          31.207425833938792,
          32.29308048933961,
          32.11303289924812,
          34.13005434226868,
          32.048614541930355,
          31.358537368191428,
          32.72000356524005,
          32.51665093458855,
          32.433292852596495,
          30.783488796250005,
          32.730395127407796,
          32.35182773357279,
          31.76520561916076,
          32.02958092532884,
          31.946179477812205
         ]
        },
        {
         "name": "dist (0, 3)",
         "type": "box",
         "y": [
          98.4096829901387,
          79.68593244197584,
          84.64911283655924,
          75.54897265933776,
          71.49841604072006,
          97.60636575394138,
          78.88585539007327,
          83.85045302296005,
          74.74070578517802,
          70.7110368797877,
          99.28412430782154,
          80.56767302836818,
          85.53343734135905,
          76.40417201812534,
          72.39679412558631,
          97.63418386564261,
          78.88588356395637,
          83.83906752308927,
          74.83626577723024,
          70.63004197015395,
          98.28804936183184,
          79.55088815747462,
          84.50871400780214,
          75.45974725320325,
          71.32534534987647,
          98.92371562353166,
          80.20706957023955,
          85.1728374867033,
          76.04527603866997,
          72.03721555010378,
          98.69625031403963,
          79.92315998468727,
          84.86422289068544,
          75.9639819998367,
          71.58538713226793,
          99.10642417562308,
          80.39497956696177,
          85.36262176848733,
          76.21593713162228,
          72.2386848080476,
          96.69393037776025,
          77.94364713819557,
          82.89615956108425,
          73.90437685715027,
          69.68584626604307,
          98.11119702023697,
          79.36060644036377,
          84.31266063024225,
          75.31772341574884,
          71.09581805201893,
          98.29881650250493,
          79.54998891521306,
          84.502790491131,
          75.50009900747905,
          71.28975101395314,
          96.80439901875343,
          78.06475619632786,
          83.02187298052559,
          73.98708624581073,
          69.83838203036778,
          98.34939378439022,
          79.57976903880235,
          84.52268583876604,
          75.60804119620978,
          71.25457595921159,
          98.9879211936195,
          80.28431273968813,
          85.25476745197496,
          76.08094007909001,
          72.14986506200786,
          98.72692357899594,
          79.99579401436773,
          84.95599373771815,
          75.88259241541746,
          71.78586532978271,
          98.06326474888697,
          79.31410946030077,
          84.26681723301435,
          75.26617288526388,
          71.05386905387006,
          99.24563783418247,
          80.50492593643327,
          85.46105057179743,
          76.42314439968527,
          72.26493762594481,
          98.70094546906137,
          79.98043998998119,
          84.94480238663795,
          75.83189264012726,
          71.80078845845051,
          97.553969283396,
          78.82560382745416,
          83.78716410686815,
          74.7067463928849,
          70.62871995877181,
          98.75308761171637,
          80.0086601237796,
          84.96329598164888,
          75.94154014583309,
          71.75971645577107,
          98.93099635726207,
          80.17987650896622,
          85.13151153775658,
          76.13626285197097,
          71.91009182822656,
          99.05188585020346,
          80.32602508642077,
          85.2882465426586,
          76.19410840748733,
          72.1297555495251,
          97.65233324011147,
          78.94834583185248,
          83.9189519385721,
          74.75013751324232,
          70.81893178518305,
          97.75863098941622,
          79.03461555846353,
          83.99783510434249,
          74.90056234086742,
          70.84922013398104,
          98.1555557550642,
          79.39690538978975,
          84.34523428189489,
          75.38367277385518,
          71.10718565315932,
          97.43853013007356,
          78.69523188850151,
          83.65064696413167,
          74.62835518836484,
          70.45523157694434,
          97.52946230922187,
          78.80124832807262,
          83.76287404562693,
          74.68195884170723,
          70.60490734419349,
          98.25841211435964,
          79.51654062352539,
          84.47238586767268,
          75.44195584979879,
          71.27726479203747,
          96.88919360665253,
          78.17695085203906,
          83.14478106145565,
          74.00722923979197,
          70.02847015248254,
          99.30936450406034,
          80.58110515980336,
          85.54232691987039,
          76.45642797645851,
          72.37691916721074,
          99.76081246887249,
          81.01794572224907,
          85.97303870370735,
          76.9421411699782,
          72.7694883254142,
          98.65167243317703,
          79.95352543589625,
          84.92592946522102,
          75.73425744682498,
          71.83525327558162,
          98.07888988732681,
          79.35668139457114,
          84.32052748166899,
          75.21564711111257,
          71.17497365457693,
          99.05372451491549,
          80.31198589876644,
          85.26771442201351,
          76.23440913224432,
          72.0697656771798,
          99.0055059416501,
          80.2936849887608,
          85.26121174642597,
          76.11614153853287,
          72.13679970559444,
          99.2730716840302,
          80.52874390101336,
          85.48331023564104,
          76.45962707006004,
          72.27794720463943,
          98.11394950846038,
          79.3583814175341,
          84.30816202049307,
          75.33378091265241,
          71.07836723635434,
          98.71975917722573,
          80.02712578568116,
          85.00136174727713,
          75.79087579045458,
          71.92318871352467,
          97.5987256232362,
          78.84080239381538,
          83.78959915572416,
          74.82670534762529,
          70.55564999281683,
          98.14365594121,
          79.3811500681785,
          84.32763807646985,
          75.38255094499439,
          71.07942670640553,
          71.22857964802883,
          52.86893460965314,
          57.90594340465745,
          47.96313371862217,
          45.7602130749581,
          84.10485967341418,
          65.26028885666784,
          70.1548778892092,
          61.72667859219356,
          56.704643133997166,
          78.32767958411486,
          59.72154777093927,
          64.7242500792872,
          55.319523539762976,
          51.97556749733179,
          85.67318917497722,
          67.02719059515454,
          72.01825946933121,
          62.70024421905404,
          59.119090271827694,
          63.36525107536065,
          45.171791156100916,
          50.216021844721794,
          40.01165469107089,
          38.55341540591099,
          85.79884556042123,
          67.13137392719051,
          72.11648384715419,
          62.86480447627027,
          59.16691059411577
         ]
        },
        {
         "name": "dist (2, 3)",
         "type": "box",
         "y": [
          86.04388503017574,
          67.8611085330447,
          71.95912646071001,
          67.51038399575992,
          57.7874119368882,
          85.65460122559969,
          67.51676527649546,
          71.58662160421643,
          67.25171602810933,
          57.42719268391565,
          85.26456109278051,
          67.07734164732976,
          71.17773721639183,
          66.72776764117302,
          57.00487117034901,
          85.7010422505664,
          67.45949378514501,
          71.59465829948704,
          67.0028424447282,
          57.40866235063226,
          86.11532412935804,
          67.88242815594802,
          72.01223936624943,
          67.4374169189099,
          57.82822091339589,
          87.20343672353924,
          68.92338316956315,
          73.08418328322766,
          68.37479165070395,
          58.890106779141036,
          85.6967833127083,
          67.51140796059038,
          71.61087391909466,
          67.16003755695465,
          57.438484866746,
          85.07876935936987,
          66.88990790767573,
          70.9912375827624,
          66.5395603147942,
          56.81794777539105,
          86.04661735923577,
          67.98632812232302,
          72.00926113624013,
          67.85083768637979,
          57.873444848473945,
          86.66184254464912,
          68.44496445606363,
          72.56482347924822,
          68.02385091601703,
          58.384578924184176,
          86.12643629410877,
          67.8724765207709,
          72.01584310729378,
          67.38700377339117,
          57.827125997099465,
          86.21638047378829,
          68.05225921333297,
          72.13871338610329,
          67.73342837601213,
          57.97195493058182,
          85.38026908444988,
          67.21500475934444,
          71.3017149491641,
          66.90408699188383,
          57.134659699561226,
          86.99120897818561,
          68.7945621713348,
          72.90178500284625,
          68.40731435331645,
          58.72651788183365,
          85.89742210716946,
          67.60984876279508,
          71.77500934550078,
          67.06125157278024,
          57.579409492734754,
          86.93138750777914,
          68.75591811589719,
          72.84982738316549,
          68.40817573235806,
          58.68002437165138,
          86.53626282092557,
          68.34174465382858,
          72.4473966443478,
          67.96367361368804,
          58.2726653276571,
          86.8102051923624,
          68.5722625622784,
          72.70563771768967,
          68.10963832315028,
          58.52048533791086,
          86.95693830433807,
          68.73396278203863,
          72.85784382911963,
          68.2980104084609,
          58.67615432566693,
          87.07536792562372,
          68.84493253842989,
          72.97362817356608,
          68.39354802526911,
          58.79019943908494
         ]
        }
       ],
       "layout": {
        "template": {
         "data": {
          "bar": [
           {
            "error_x": {
             "color": "#2a3f5f"
            },
            "error_y": {
             "color": "#2a3f5f"
            },
            "marker": {
             "line": {
              "color": "#E5ECF6",
              "width": 0.5
             }
            },
            "type": "bar"
           }
          ],
          "barpolar": [
           {
            "marker": {
             "line": {
              "color": "#E5ECF6",
              "width": 0.5
             }
            },
            "type": "barpolar"
           }
          ],
          "carpet": [
           {
            "aaxis": {
             "endlinecolor": "#2a3f5f",
             "gridcolor": "white",
             "linecolor": "white",
             "minorgridcolor": "white",
             "startlinecolor": "#2a3f5f"
            },
            "baxis": {
             "endlinecolor": "#2a3f5f",
             "gridcolor": "white",
             "linecolor": "white",
             "minorgridcolor": "white",
             "startlinecolor": "#2a3f5f"
            },
            "type": "carpet"
           }
          ],
          "choropleth": [
           {
            "colorbar": {
             "outlinewidth": 0,
             "ticks": ""
            },
            "type": "choropleth"
           }
          ],
          "contour": [
           {
            "colorbar": {
             "outlinewidth": 0,
             "ticks": ""
            },
            "colorscale": [
             [
              0,
              "#0d0887"
             ],
             [
              0.1111111111111111,
              "#46039f"
             ],
             [
              0.2222222222222222,
              "#7201a8"
             ],
             [
              0.3333333333333333,
              "#9c179e"
             ],
             [
              0.4444444444444444,
              "#bd3786"
             ],
             [
              0.5555555555555556,
              "#d8576b"
             ],
             [
              0.6666666666666666,
              "#ed7953"
             ],
             [
              0.7777777777777778,
              "#fb9f3a"
             ],
             [
              0.8888888888888888,
              "#fdca26"
             ],
             [
              1,
              "#f0f921"
             ]
            ],
            "type": "contour"
           }
          ],
          "contourcarpet": [
           {
            "colorbar": {
             "outlinewidth": 0,
             "ticks": ""
            },
            "type": "contourcarpet"
           }
          ],
          "heatmap": [
           {
            "colorbar": {
             "outlinewidth": 0,
             "ticks": ""
            },
            "colorscale": [
             [
              0,
              "#0d0887"
             ],
             [
              0.1111111111111111,
              "#46039f"
             ],
             [
              0.2222222222222222,
              "#7201a8"
             ],
             [
              0.3333333333333333,
              "#9c179e"
             ],
             [
              0.4444444444444444,
              "#bd3786"
             ],
             [
              0.5555555555555556,
              "#d8576b"
             ],
             [
              0.6666666666666666,
              "#ed7953"
             ],
             [
              0.7777777777777778,
              "#fb9f3a"
             ],
             [
              0.8888888888888888,
              "#fdca26"
             ],
             [
              1,
              "#f0f921"
             ]
            ],
            "type": "heatmap"
           }
          ],
          "heatmapgl": [
           {
            "colorbar": {
             "outlinewidth": 0,
             "ticks": ""
            },
            "colorscale": [
             [
              0,
              "#0d0887"
             ],
             [
              0.1111111111111111,
              "#46039f"
             ],
             [
              0.2222222222222222,
              "#7201a8"
             ],
             [
              0.3333333333333333,
              "#9c179e"
             ],
             [
              0.4444444444444444,
              "#bd3786"
             ],
             [
              0.5555555555555556,
              "#d8576b"
             ],
             [
              0.6666666666666666,
              "#ed7953"
             ],
             [
              0.7777777777777778,
              "#fb9f3a"
             ],
             [
              0.8888888888888888,
              "#fdca26"
             ],
             [
              1,
              "#f0f921"
             ]
            ],
            "type": "heatmapgl"
           }
          ],
          "histogram": [
           {
            "marker": {
             "colorbar": {
              "outlinewidth": 0,
              "ticks": ""
             }
            },
            "type": "histogram"
           }
          ],
          "histogram2d": [
           {
            "colorbar": {
             "outlinewidth": 0,
             "ticks": ""
            },
            "colorscale": [
             [
              0,
              "#0d0887"
             ],
             [
              0.1111111111111111,
              "#46039f"
             ],
             [
              0.2222222222222222,
              "#7201a8"
             ],
             [
              0.3333333333333333,
              "#9c179e"
             ],
             [
              0.4444444444444444,
              "#bd3786"
             ],
             [
              0.5555555555555556,
              "#d8576b"
             ],
             [
              0.6666666666666666,
              "#ed7953"
             ],
             [
              0.7777777777777778,
              "#fb9f3a"
             ],
             [
              0.8888888888888888,
              "#fdca26"
             ],
             [
              1,
              "#f0f921"
             ]
            ],
            "type": "histogram2d"
           }
          ],
          "histogram2dcontour": [
           {
            "colorbar": {
             "outlinewidth": 0,
             "ticks": ""
            },
            "colorscale": [
             [
              0,
              "#0d0887"
             ],
             [
              0.1111111111111111,
              "#46039f"
             ],
             [
              0.2222222222222222,
              "#7201a8"
             ],
             [
              0.3333333333333333,
              "#9c179e"
             ],
             [
              0.4444444444444444,
              "#bd3786"
             ],
             [
              0.5555555555555556,
              "#d8576b"
             ],
             [
              0.6666666666666666,
              "#ed7953"
             ],
             [
              0.7777777777777778,
              "#fb9f3a"
             ],
             [
              0.8888888888888888,
              "#fdca26"
             ],
             [
              1,
              "#f0f921"
             ]
            ],
            "type": "histogram2dcontour"
           }
          ],
          "mesh3d": [
           {
            "colorbar": {
             "outlinewidth": 0,
             "ticks": ""
            },
            "type": "mesh3d"
           }
          ],
          "parcoords": [
           {
            "line": {
             "colorbar": {
              "outlinewidth": 0,
              "ticks": ""
             }
            },
            "type": "parcoords"
           }
          ],
          "pie": [
           {
            "automargin": true,
            "type": "pie"
           }
          ],
          "scatter": [
           {
            "marker": {
             "colorbar": {
              "outlinewidth": 0,
              "ticks": ""
             }
            },
            "type": "scatter"
           }
          ],
          "scatter3d": [
           {
            "line": {
             "colorbar": {
              "outlinewidth": 0,
              "ticks": ""
             }
            },
            "marker": {
             "colorbar": {
              "outlinewidth": 0,
              "ticks": ""
             }
            },
            "type": "scatter3d"
           }
          ],
          "scattercarpet": [
           {
            "marker": {
             "colorbar": {
              "outlinewidth": 0,
              "ticks": ""
             }
            },
            "type": "scattercarpet"
           }
          ],
          "scattergeo": [
           {
            "marker": {
             "colorbar": {
              "outlinewidth": 0,
              "ticks": ""
             }
            },
            "type": "scattergeo"
           }
          ],
          "scattergl": [
           {
            "marker": {
             "colorbar": {
              "outlinewidth": 0,
              "ticks": ""
             }
            },
            "type": "scattergl"
           }
          ],
          "scattermapbox": [
           {
            "marker": {
             "colorbar": {
              "outlinewidth": 0,
              "ticks": ""
             }
            },
            "type": "scattermapbox"
           }
          ],
          "scatterpolar": [
           {
            "marker": {
             "colorbar": {
              "outlinewidth": 0,
              "ticks": ""
             }
            },
            "type": "scatterpolar"
           }
          ],
          "scatterpolargl": [
           {
            "marker": {
             "colorbar": {
              "outlinewidth": 0,
              "ticks": ""
             }
            },
            "type": "scatterpolargl"
           }
          ],
          "scatterternary": [
           {
            "marker": {
             "colorbar": {
              "outlinewidth": 0,
              "ticks": ""
             }
            },
            "type": "scatterternary"
           }
          ],
          "surface": [
           {
            "colorbar": {
             "outlinewidth": 0,
             "ticks": ""
            },
            "colorscale": [
             [
              0,
              "#0d0887"
             ],
             [
              0.1111111111111111,
              "#46039f"
             ],
             [
              0.2222222222222222,
              "#7201a8"
             ],
             [
              0.3333333333333333,
              "#9c179e"
             ],
             [
              0.4444444444444444,
              "#bd3786"
             ],
             [
              0.5555555555555556,
              "#d8576b"
             ],
             [
              0.6666666666666666,
              "#ed7953"
             ],
             [
              0.7777777777777778,
              "#fb9f3a"
             ],
             [
              0.8888888888888888,
              "#fdca26"
             ],
             [
              1,
              "#f0f921"
             ]
            ],
            "type": "surface"
           }
          ],
          "table": [
           {
            "cells": {
             "fill": {
              "color": "#EBF0F8"
             },
             "line": {
              "color": "white"
             }
            },
            "header": {
             "fill": {
              "color": "#C8D4E3"
             },
             "line": {
              "color": "white"
             }
            },
            "type": "table"
           }
          ]
         },
         "layout": {
          "annotationdefaults": {
           "arrowcolor": "#2a3f5f",
           "arrowhead": 0,
           "arrowwidth": 1
          },
          "coloraxis": {
           "colorbar": {
            "outlinewidth": 0,
            "ticks": ""
           }
          },
          "colorscale": {
           "diverging": [
            [
             0,
             "#8e0152"
            ],
            [
             0.1,
             "#c51b7d"
            ],
            [
             0.2,
             "#de77ae"
            ],
            [
             0.3,
             "#f1b6da"
            ],
            [
             0.4,
             "#fde0ef"
            ],
            [
             0.5,
             "#f7f7f7"
            ],
            [
             0.6,
             "#e6f5d0"
            ],
            [
             0.7,
             "#b8e186"
            ],
            [
             0.8,
             "#7fbc41"
            ],
            [
             0.9,
             "#4d9221"
            ],
            [
             1,
             "#276419"
            ]
           ],
           "sequential": [
            [
             0,
             "#0d0887"
            ],
            [
             0.1111111111111111,
             "#46039f"
            ],
            [
             0.2222222222222222,
             "#7201a8"
            ],
            [
             0.3333333333333333,
             "#9c179e"
            ],
            [
             0.4444444444444444,
             "#bd3786"
            ],
            [
             0.5555555555555556,
             "#d8576b"
            ],
            [
             0.6666666666666666,
             "#ed7953"
            ],
            [
             0.7777777777777778,
             "#fb9f3a"
            ],
            [
             0.8888888888888888,
             "#fdca26"
            ],
            [
             1,
             "#f0f921"
            ]
           ],
           "sequentialminus": [
            [
             0,
             "#0d0887"
            ],
            [
             0.1111111111111111,
             "#46039f"
            ],
            [
             0.2222222222222222,
             "#7201a8"
            ],
            [
             0.3333333333333333,
             "#9c179e"
            ],
            [
             0.4444444444444444,
             "#bd3786"
            ],
            [
             0.5555555555555556,
             "#d8576b"
            ],
            [
             0.6666666666666666,
             "#ed7953"
            ],
            [
             0.7777777777777778,
             "#fb9f3a"
            ],
            [
             0.8888888888888888,
             "#fdca26"
            ],
            [
             1,
             "#f0f921"
            ]
           ]
          },
          "colorway": [
           "#636efa",
           "#EF553B",
           "#00cc96",
           "#ab63fa",
           "#FFA15A",
           "#19d3f3",
           "#FF6692",
           "#B6E880",
           "#FF97FF",
           "#FECB52"
          ],
          "font": {
           "color": "#2a3f5f"
          },
          "geo": {
           "bgcolor": "white",
           "lakecolor": "white",
           "landcolor": "#E5ECF6",
           "showlakes": true,
           "showland": true,
           "subunitcolor": "white"
          },
          "hoverlabel": {
           "align": "left"
          },
          "hovermode": "closest",
          "mapbox": {
           "style": "light"
          },
          "paper_bgcolor": "white",
          "plot_bgcolor": "#E5ECF6",
          "polar": {
           "angularaxis": {
            "gridcolor": "white",
            "linecolor": "white",
            "ticks": ""
           },
           "bgcolor": "#E5ECF6",
           "radialaxis": {
            "gridcolor": "white",
            "linecolor": "white",
            "ticks": ""
           }
          },
          "scene": {
           "xaxis": {
            "backgroundcolor": "#E5ECF6",
            "gridcolor": "white",
            "gridwidth": 2,
            "linecolor": "white",
            "showbackground": true,
            "ticks": "",
            "zerolinecolor": "white"
           },
           "yaxis": {
            "backgroundcolor": "#E5ECF6",
            "gridcolor": "white",
            "gridwidth": 2,
            "linecolor": "white",
            "showbackground": true,
            "ticks": "",
            "zerolinecolor": "white"
           },
           "zaxis": {
            "backgroundcolor": "#E5ECF6",
            "gridcolor": "white",
            "gridwidth": 2,
            "linecolor": "white",
            "showbackground": true,
            "ticks": "",
            "zerolinecolor": "white"
           }
          },
          "shapedefaults": {
           "line": {
            "color": "#2a3f5f"
           }
          },
          "ternary": {
           "aaxis": {
            "gridcolor": "white",
            "linecolor": "white",
            "ticks": ""
           },
           "baxis": {
            "gridcolor": "white",
            "linecolor": "white",
            "ticks": ""
           },
           "bgcolor": "#E5ECF6",
           "caxis": {
            "gridcolor": "white",
            "linecolor": "white",
            "ticks": ""
           }
          },
          "title": {
           "x": 0.05
          },
          "xaxis": {
           "automargin": true,
           "gridcolor": "white",
           "linecolor": "white",
           "ticks": "",
           "title": {
            "standoff": 15
           },
           "zerolinecolor": "white",
           "zerolinewidth": 2
          },
          "yaxis": {
           "automargin": true,
           "gridcolor": "white",
           "linecolor": "white",
           "ticks": "",
           "title": {
            "standoff": 15
           },
           "zerolinecolor": "white",
           "zerolinewidth": 2
          }
         }
        }
       }
      },
      "text/html": [
       "<div>\n",
       "        \n",
       "        \n",
       "            <div id=\"93702033-bce8-4680-aea2-bbf845b40d6f\" class=\"plotly-graph-div\" style=\"height:525px; width:100%;\"></div>\n",
       "            <script type=\"text/javascript\">\n",
       "                require([\"plotly\"], function(Plotly) {\n",
       "                    window.PLOTLYENV=window.PLOTLYENV || {};\n",
       "                    \n",
       "                if (document.getElementById(\"93702033-bce8-4680-aea2-bbf845b40d6f\")) {\n",
       "                    Plotly.newPlot(\n",
       "                        '93702033-bce8-4680-aea2-bbf845b40d6f',\n",
       "                        [{\"name\": \"dist (0, 2)\", \"type\": \"box\", \"y\": [35.46070982103084, 36.162215238157714, 35.50951483190211, 34.632865549166304, 34.70094997179688, 33.814070357361516, 35.47109944791404, 35.51541637291717, 37.19592029842559, 34.87013635502235, 34.37624089955426, 35.711422078388246, 35.80911819783675, 35.13732265475169, 33.88824224033955, 35.461031819680706, 35.22294992127941, 34.52820320741168, 34.740654179363624, 34.61163777992339, 35.14856182181345, 35.844150914644565, 35.18086844582876, 34.310232105654805, 34.387674447200915, 33.52197861138577, 35.15154636876897, 35.1828333842838, 36.88904933356125, 34.569440897672045, 34.061992270410826, 35.40378447343904, 35.48404932949168, 34.8446516878509, 33.56691453104757, 35.16799064555012, 34.92064688652101, 34.22966140767835, 34.44603779228868, 34.319240175577235, 36.14143448750327, 36.84747652810608, 36.203425418270214, 35.32227353609313, 35.382835887864395, 34.47906062002271, 36.15777170272299, 36.21244419549736, 37.8718317737195, 35.541777342534175, 35.05902072835442, 36.38841962606474, 36.50009021421801, 35.80230989635592, 34.57686191275747, 36.126211347399604, 35.89577878522399, 35.198208473689654, 35.40737549710484, 35.27658632361624, 34.28816047383913, 34.987983131338176, 34.33236424915095, 33.45728950651569, 33.52803260703152, 32.647757719749315, 34.29641648707363, 34.337249397053824, 36.02503759240177, 33.701072539165104, 33.2030234131711, 34.540238044561676, 34.63293193065387, 33.97088773125607, 32.712990692898295, 34.294490065839334, 34.05339497040403, 33.35981118755602, 33.573553104388154, 33.44526650035489, 34.98186434424793, 35.68446466708208, 35.03390395172718, 34.15609125797954, 34.222356410791576, 33.33172056332109, 34.99367352988607, 35.04061713001827, 36.71601452560512, 34.38922688622339, 33.89784950798013, 35.231725383978315, 35.3327669877403, 34.65500758889307, 33.411251290126884, 34.97876481820769, 34.74230961444113, 34.04693061306714, 34.25868992091777, 34.12930098575533, 35.943697667717494, 36.647536508567505, 35.999193296800485, 35.12023589867502, 35.18450140510497, 34.28892667158824, 35.957112963070685, 36.00666642715642, 37.67651160071487, 35.34845613733935, 34.8602352229307, 36.192516609149905, 36.29732218206542, 35.61223123693795, 34.375184930977866, 35.93605204582686, 35.70189248230858, 35.005669728419136, 35.2164403089966, 35.086505520650604, 33.98728319717553, 34.697957048282845, 34.06383592454244, 33.17784706098127, 33.23015858746632, 32.30978572161136, 34.010016599887045, 34.07651084948821, 35.71220649729, 33.37856489614735, 32.90740684768543, 34.23032497929784, 34.3570272157014, 33.632642002479464, 32.43181887810958, 33.956632191152785, 33.73363301287599, 33.0335008181753, 33.239452776035705, 33.107033485651925, 36.19420430797049, 36.89849289177123, 36.2509821159464, 35.37159792451993, 35.435125731355136, 34.53779883316612, 36.208208613873964, 36.25874553515552, 37.926525988705684, 35.59803194169532, 35.110949229697354, 36.44264500724156, 36.54883233495788, 35.86109985975863, 34.62647217180842, 36.18494061881541, 35.951591595185384, 35.25507443625877, 35.465495904248385, 35.33537122377489, 33.75743073529088, 34.45073571328705, 33.783788074285575, 32.91533672984502, 32.996206614347464, 32.13919226718073, 33.75766425060672, 33.78443282323322, 35.49975486624079, 33.18289902019458, 32.670196984584166, 34.014362352520784, 34.088170634968435, 33.46142167438275, 32.17257226384952, 33.78455760944289, 33.533405611516876, 32.844051279216416, 33.06203841852589, 32.93620269646615, 34.45605677970052, 35.15946980532802, 34.51054845005234, 33.63185415158966, 33.696744747957396, 32.80338189311241, 34.46893140818013, 34.517890002760744, 36.1894074947341, 33.861909688163145, 33.3723927028724, 34.70528539709407, 34.8088390043271, 34.12668235031664, 32.88685835164182, 34.45047097100428, 34.21518431357697, 33.519354461219564, 33.73061682348153, 33.60096470263565, 34.61127660903905, 35.315661101981554, 34.66859213821502, 33.78893718967065, 33.85221457844087, 32.955214720173004, 34.62542627192217, 34.67659973547517, 36.34359428679777, 34.015177680317144, 33.528054854281415, 34.85970516576794, 34.966253338113575, 34.27851815789479, 33.043774571125375, 34.60234904220549, 34.36870817645375, 33.6722698877665, 33.88282528018435, 33.75279075677838, 34.15781553937627, 34.85033025246293, 34.181994625248045, 33.314412341368836, 33.39649125706946, 32.54199515565461, 34.157100990722626, 34.18208504608294, 35.90070093695126, 33.58468810196011, 33.0703771699339, 34.41528853789187, 34.48685260402214, 33.86409394880591, 32.571865014352575, 34.18717374494526, 33.93499033097106, 33.24610404789537, 33.464518167156314, 33.33893100085313, 33.92820507891712, 34.6361382516067, 33.996281433749985, 33.112997946921844, 33.17016100502238, 32.260245954483565, 33.947133710720074, 34.00692553098739, 35.6565556291935, 33.32510333857358, 32.84675841359102, 34.173671479424804, 34.29144982793876, 33.58340620598616, 32.36729023333435, 33.90734695346254, 33.679503657215356, 32.980988720084405, 33.18904667560331, 33.057704701500356, 36.35867523189555, 37.06120007371744, 36.41027917737025, 35.53269403841498, 35.59915644334088, 34.70819825867333, 36.37037122793036, 36.41678908936195, 38.092821435276754, 35.76595603363685, 35.27463778232454, 36.60853975197487, 36.709296937373935, 36.03149079038326, 34.78788728390729, 36.355258596184754, 36.11906708852979, 35.423612493777476, 35.63525078956747, 35.50578010806725, 35.400013727656855, 36.10459431677748, 35.457777568637006, 34.57801395787808, 34.641007935203184, 33.742940373156635, 35.41441294631763, 35.465834173391954, 37.13207051342996, 34.80339103467935, 34.316888968559695, 35.64824690061833, 35.75537184654702, 35.06623979603682, 33.83282864306143, 35.390085221142606, 35.156998959033544, 34.460371645119054, 34.670684431683, 34.54051074691988, 34.47874724726487, 35.181624277706476, 34.53167359021659, 33.6535230395141, 33.71930326460052, 32.82788894010996, 34.49092207488058, 34.538637646413505, 36.21264752155381, 33.88565369420582, 33.394847985388765, 34.728407926840845, 34.83031617074755, 34.151179863751054, 32.90862460109624, 34.47494452697504, 34.23879001512126, 33.543287563589764, 33.75492142322954, 33.62547040795965, 35.374641033171805, 36.083778007565286, 35.446166615767616, 34.56184835478691, 34.616994544834455, 33.70191810548695, 35.39520699274903, 35.45752953421866, 37.101417586305956, 34.76884960484349, 34.29387136330052, 35.618992365731664, 35.74059936095926, 35.02493335905886, 33.81600337248674, 35.34890597821481, 35.123590465828315, 34.42424552688891, 34.63120112600229, 34.499274610496, 35.71087325549548, 36.41382050681087, 35.76380278152223, 34.885720601807634, 34.95145304275025, 34.059232959393036, 35.723125256168046, 35.77067639653093, 37.444626946174026, 35.11742937058295, 34.6270134101069, 35.96042466828691, 36.06249786624021, 35.382530810438965, 34.14082663162447, 35.70631138620892, 35.47062797332736, 34.774970204578736, 34.986394925517196, 34.8568156915754, 34.88254445375995, 35.578871979544864, 34.91691415615843, 34.0454867392319, 34.12177467836142, 33.25361867329464, 34.88643581080464, 34.91939396266308, 36.62244309961285, 34.30206730463187, 33.79620228593311, 35.1372356415211, 35.219642207077335, 34.57638643395982, 33.301985501918395, 34.899773360514466, 34.65346565654499, 33.96203532214847, 34.177977862785525, 34.050932815704286, 34.99269950999695, 35.69934511136194, 35.05668802540305, 34.17480873995289, 34.234269904278214, 33.32872259167316, 35.009863390458044, 35.06626908020325, 36.722483835413534, 34.39201683693683, 33.91058290272399, 35.239222334688286, 35.35284678627558, 34.65195328706836, 33.42929311387146, 34.9758656072916, 34.74613263639249, 34.048294963037414, 34.2571654022396, 34.126233766494366, 34.868299329080635, 35.57703272295524, 34.9386650031256, 34.05469260348508, 34.11051699233553, 33.19717545821124, 34.888314279339355, 34.94978664695878, 36.595611221548666, 34.26341216332359, 33.78729896601472, 35.11302698291888, 35.233345452157984, 34.52024517601333, 33.308892094238665, 34.84420834684673, 34.61803946355529, 33.91897178878864, 34.12629978069215, 33.99456983559035, 35.734158578751504, 36.44004470178688, 35.79574720580402, 34.9147086524814, 34.97551333853601, 34.072481790218994, 35.75029167458589, 35.80469808098537, 37.464757371237766, 35.13487817071019, 34.6516646637179, 35.981291482199325, 36.09248683450083, 35.39574195458005, 34.16931643118342, 35.719635798821955, 35.48882765169878, 34.79138383832394, 35.00071463536961, 34.87001624665002, 35.65901506930567, 36.35267690952662, 35.68602538135348, 34.81743740686847, 34.897846924636696, 34.03861389649277, 35.65966075499348, 35.686682312072996, 37.40098311294673, 35.08344549850594, 34.571891507377124, 35.91560993681402, 35.990351089421154, 35.36099895406968, 34.074615703945746, 35.684202154309574, 35.43413720777297, 34.74433901437301, 34.96185280191207, 34.8357134402312, 35.1190186890503, 35.81616420078703, 35.15560349116379, 34.28336414837934, 34.358388569020136, 33.48723572068398, 35.123916123097, 35.15859719904583, 36.85822108967557, 34.53693570458275, 34.03294267292541, 35.37309255733463, 35.45786502767302, 34.810116343005, 33.53967371491764, 35.13356336499536, 34.88856785195719, 34.19659151804786, 34.411978671466166, 34.28461196185243, 34.20853632190137, 34.913477279479245, 34.26756512762363, 33.38730418331935, 33.449620416629536, 32.5507501996475, 34.22342796304615, 34.27601500360101, 35.940280446989476, 33.61140106757743, 33.125572973216656, 34.45652355861647, 34.564820097111046, 33.874048232114866, 32.642043514570545, 34.19789711486515, 33.965059489015786, 33.26831931260791, 33.47853177160461, 33.348318948311174, 34.35292954024364, 35.050623517523306, 34.391158118135245, 33.518265144768165, 33.5923927725542, 32.71967571021154, 34.35851457238954, 34.3946042903112, 36.091703258236265, 33.76993730763772, 33.267031436744574, 34.60662597588023, 34.693031413048345, 34.04259851978446, 32.774434904244465, 34.36606949730788, 34.12168743197268, 33.429441908175264, 33.64457628651278, 33.51707482907491, 34.874933504500575, 35.57106610329264, 34.90876978915757, 34.037541824238936, 34.11413176425691, 33.24666455858558, 34.878585657704775, 34.911122171770636, 36.614992845497525, 34.29482926026526, 33.78852989518206, 35.12976879491132, 35.21161190720436, 34.56940527902355, 33.294087277585014, 34.89277833377725, 34.64617367066691, 33.95486880074256, 34.170936498213514, 34.04396371564747, 34.81633901500252, 35.51942879763026, 34.869827720634014, 33.99150139066531, 34.05694888866629, 33.16460345079721, 34.82878705208588, 34.87690114239791, 36.55000058901327, 34.22276654293768, 33.732534993109695, 35.06581336953856, 35.16835930611495, 34.48790028973646, 33.246568948785026, 34.811678242982126, 34.57597052293369, 33.8803056854132, 34.09174617613035, 33.9621860709865, 35.040960260811694, 35.7301808122512, 35.05633411943484, 34.19228651766225, 34.279279953883474, 33.43559233014136, 35.03636386218691, 35.054244834927985, 36.78606597000798, 34.473792175944176, 33.95276118550422, 35.30067112055061, 35.36305517323177, 34.757023828052276, 33.45067618811241, 35.07983490284861, 34.82319458461751, 34.13636864989398, 34.356627481220826, 34.23214333934126, 35.798534697345744, 36.506320271130306, 35.86584519911163, 34.98291496865246, 35.04045530468545, 34.13030934132481, 35.8172361901245, 35.876165461874265, 37.526929173896164, 35.195422390033876, 34.71702105686865, 36.044047295558805, 36.16127417847599, 35.453448805330275, 34.23724715581194, 35.777395756843966, 35.549846148317634, 34.85126437695367, 35.05918729992228, 34.92775316268143, 35.58556678674897, 36.29802494516303, 35.66750510697012, 34.77993456633176, 34.82911620009041, 33.901216326017604, 35.610815329380465, 35.68135383505634, 37.307967486051275, 34.97289343972426, 34.50682107718801, 35.82690529360726, 35.959492617289754, 35.22371636801312, 34.03375527696036, 35.547717985998695, 35.32842709627013, 34.627148252854404, 34.831475394791234, 34.69822678160929, 36.337817274374444, 37.03748599820836, 36.38126033082311, 35.506576424991515, 35.577668270295675, 34.697000984626754, 36.34585739162333, 36.38581274680423, 38.07472431619291, 35.75066796431396, 35.25263727543569, 36.589927244600766, 36.68208116106859, 36.02015640519177, 34.762342338449066, 36.34377730892438, 36.10302704745292, 35.40934307393505, 35.622923793855634, 35.4945226931494, 35.33689121028598, 36.03597975315959, 35.37885478391473, 34.50465195837186, 34.576621541084656, 33.69847298843417, 35.3442098116372, 35.383123275605804, 37.074380730622046, 34.75103430891414, 34.25149032342345, 35.589487742118614, 35.679958285354786, 35.021562887379126, 33.76052731530328, 35.34513667933575, 35.103201137333365, 34.409974448536474, 34.62406520239125, 34.49596118614458, 35.238949358277104, 35.94706953830629, 35.307372096057556, 34.42404927342118, 34.480971995695356, 33.56979336129117, 35.25811598448361, 35.31799976138473, 36.9669808608476, 34.635248250134495, 34.15761306306512, 35.484195730110116, 35.60251979993791, 34.89291392658524, 33.6783310147585, 35.21686584918691, 34.98973705644206, 34.29100157788375, 34.49874442964518, 34.367223654256414, 36.12956012185227, 36.833269722086335, 36.184648324904494, 35.30584114642307, 35.37033188774803, 34.47515256699579, 36.14280371783179, 36.19201060102721, 37.86249895004252, 35.53454407767161, 35.04604059065709, 36.37847686091707, 36.48287649071466, 35.79845723841461, 34.56081533055747, 36.12227438152786, 35.887953401822685, 35.19179368478921, 35.4026324732918, 35.27273224115208, 35.27340145923615, 35.98321857091637, 35.347052917974935, 34.46205033495772, 34.51598426338851, 33.59836259549295, 35.29491453953052, 35.358933755435984, 36.999329608151086, 34.66623506311693, 34.193023201766906, 35.5171545243989, 35.64098454839728, 34.92129840320251, 33.716125192855806, 35.245281311678106, 35.02113699589447, 34.321402189304294, 34.52784891748638, 34.395664520827886, 34.29136619544883, 34.99555626667072, 34.34816366132077, 33.46866719000469, 33.532251456853466, 32.63611258714668, 34.30526334821454, 34.35607143553445, 36.02391205367505, 33.69570961255141, 33.20805225667857, 34.539968570750325, 34.645927481489, 33.95941719152641, 32.72353327452101, 34.28323722041351, 34.049178701390026, 33.35288842471248, 33.563625026502926, 33.433691642470286, 36.52867605202032, 37.22808117477829, 36.57134751262092, 35.69695315834246, 35.76847479322685, 34.88866556954352, 36.536381605685776, 36.57570160671356, 38.2658155106268, 35.94200495979608, 35.443399434284444, 36.78098135897527, 36.87234471378625, 36.2118042920485, 34.952778350792585, 36.535412500150365, 36.294300564737206, 35.600764160203354, 35.814497116448095, 35.686178880395104, 33.94854230650558, 34.6496034923878, 33.99632545657334, 33.119950220512145, 33.188675437769135, 32.30410783756335, 33.958379118076394, 34.00209629598654, 35.68427272948264, 33.35910730757659, 32.86388292606315, 34.199670538038454, 34.29608882025568, 33.627318252461976, 32.375391696285405, 33.95098544298197, 33.71174611677165, 33.0174214467192, 33.23037630116937, 33.101656305563615, 34.07022092495766, 34.775686114701294, 34.13083117349442, 33.25002811371731, 33.31144796510867, 32.410699506902766, 34.08581228522671, 34.139671516678746, 35.801399517149655, 33.47206381151166, 32.987508684929786, 34.31777843591422, 34.42772029106325, 33.73398701674846, 32.50468124219543, 34.057854012460496, 33.82585071701184, 33.12880509980973, 33.33865925872305, 33.2082575604323, 37.76913601286538, 38.074459966152766, 37.24828461922437, 36.832554693019745, 37.1922679759325, 37.2619119891218, 37.528350742265225, 37.11847941783008, 39.207224816249436, 37.72722295015925, 36.93199009481954, 38.09944477350792, 37.58337077225862, 38.18078069382599, 36.35814427599111, 38.40145240482681, 37.92590429030809, 37.55524013780856, 37.833980283756055, 37.814452289260814, 25.94617337190045, 26.49080288400404, 25.692191342357944, 24.989074036528077, 25.222845700705516, 24.797528638498378, 25.82127215233115, 25.626515687039166, 27.657377908345527, 25.609167458477394, 24.905659125425228, 26.2607086077736, 26.03550930547513, 26.00267676484223, 24.326859542410123, 26.294923466355762, 25.90553358832204, 25.33372467830776, 25.601353250228225, 25.523403692042713, 33.12608803696886, 33.55513427847111, 32.72596333847683, 32.16082235464528, 32.46584319093385, 32.291977129296924, 32.9376216687284, 32.62485009663786, 34.72582985439353, 32.93763466142411, 32.17240364167787, 33.45490274382274, 33.07190964889157, 33.369683514276595, 31.58450230876195, 33.62984154508028, 33.18835102279832, 32.71121922206055, 32.98956200889673, 32.94067013310199, 32.92313053201188, 33.47825135667144, 32.68379625882766, 31.969372321044972, 32.19426866364802, 31.731393417847105, 32.80524901294941, 32.6209416151421, 34.6421166163062, 32.56778825489591, 31.875013546238964, 33.23520938266205, 33.02625090953438, 32.954079512480945, 31.299117270084388, 33.25035616904843, 32.86972443957075, 32.28577704409642, 32.55073567329569, 32.46822912119557, 41.333161524229794, 41.50809489021394, 40.713425602201404, 40.45662720046616, 40.85671087716769, 41.160144367071894, 41.04988387521346, 40.560523414633884, 42.56639961457909, 41.43492480223525, 40.63745857509433, 41.6538530832351, 41.02626303100743, 41.89462311062168, 40.097235049662935, 42.06970746508126, 41.57647219111526, 41.32150501782424, 41.59149841931333, 41.60118311187014, 32.408678861405136, 32.96729039876229, 32.17459488334333, 31.45605572704086, 31.67831052145497, 31.207425833938792, 32.29308048933961, 32.11303289924812, 34.13005434226868, 32.048614541930355, 31.358537368191428, 32.72000356524005, 32.51665093458855, 32.433292852596495, 30.783488796250005, 32.730395127407796, 32.35182773357279, 31.76520561916076, 32.02958092532884, 31.946179477812205]}, {\"name\": \"dist (0, 3)\", \"type\": \"box\", \"y\": [98.4096829901387, 79.68593244197584, 84.64911283655924, 75.54897265933776, 71.49841604072006, 97.60636575394138, 78.88585539007327, 83.85045302296005, 74.74070578517802, 70.7110368797877, 99.28412430782154, 80.56767302836818, 85.53343734135905, 76.40417201812534, 72.39679412558631, 97.63418386564261, 78.88588356395637, 83.83906752308927, 74.83626577723024, 70.63004197015395, 98.28804936183184, 79.55088815747462, 84.50871400780214, 75.45974725320325, 71.32534534987647, 98.92371562353166, 80.20706957023955, 85.1728374867033, 76.04527603866997, 72.03721555010378, 98.69625031403963, 79.92315998468727, 84.86422289068544, 75.9639819998367, 71.58538713226793, 99.10642417562308, 80.39497956696177, 85.36262176848733, 76.21593713162228, 72.2386848080476, 96.69393037776025, 77.94364713819557, 82.89615956108425, 73.90437685715027, 69.68584626604307, 98.11119702023697, 79.36060644036377, 84.31266063024225, 75.31772341574884, 71.09581805201893, 98.29881650250493, 79.54998891521306, 84.502790491131, 75.50009900747905, 71.28975101395314, 96.80439901875343, 78.06475619632786, 83.02187298052559, 73.98708624581073, 69.83838203036778, 98.34939378439022, 79.57976903880235, 84.52268583876604, 75.60804119620978, 71.25457595921159, 98.9879211936195, 80.28431273968813, 85.25476745197496, 76.08094007909001, 72.14986506200786, 98.72692357899594, 79.99579401436773, 84.95599373771815, 75.88259241541746, 71.78586532978271, 98.06326474888697, 79.31410946030077, 84.26681723301435, 75.26617288526388, 71.05386905387006, 99.24563783418247, 80.50492593643327, 85.46105057179743, 76.42314439968527, 72.26493762594481, 98.70094546906137, 79.98043998998119, 84.94480238663795, 75.83189264012726, 71.80078845845051, 97.553969283396, 78.82560382745416, 83.78716410686815, 74.7067463928849, 70.62871995877181, 98.75308761171637, 80.0086601237796, 84.96329598164888, 75.94154014583309, 71.75971645577107, 98.93099635726207, 80.17987650896622, 85.13151153775658, 76.13626285197097, 71.91009182822656, 99.05188585020346, 80.32602508642077, 85.2882465426586, 76.19410840748733, 72.1297555495251, 97.65233324011147, 78.94834583185248, 83.9189519385721, 74.75013751324232, 70.81893178518305, 97.75863098941622, 79.03461555846353, 83.99783510434249, 74.90056234086742, 70.84922013398104, 98.1555557550642, 79.39690538978975, 84.34523428189489, 75.38367277385518, 71.10718565315932, 97.43853013007356, 78.69523188850151, 83.65064696413167, 74.62835518836484, 70.45523157694434, 97.52946230922187, 78.80124832807262, 83.76287404562693, 74.68195884170723, 70.60490734419349, 98.25841211435964, 79.51654062352539, 84.47238586767268, 75.44195584979879, 71.27726479203747, 96.88919360665253, 78.17695085203906, 83.14478106145565, 74.00722923979197, 70.02847015248254, 99.30936450406034, 80.58110515980336, 85.54232691987039, 76.45642797645851, 72.37691916721074, 99.76081246887249, 81.01794572224907, 85.97303870370735, 76.9421411699782, 72.7694883254142, 98.65167243317703, 79.95352543589625, 84.92592946522102, 75.73425744682498, 71.83525327558162, 98.07888988732681, 79.35668139457114, 84.32052748166899, 75.21564711111257, 71.17497365457693, 99.05372451491549, 80.31198589876644, 85.26771442201351, 76.23440913224432, 72.0697656771798, 99.0055059416501, 80.2936849887608, 85.26121174642597, 76.11614153853287, 72.13679970559444, 99.2730716840302, 80.52874390101336, 85.48331023564104, 76.45962707006004, 72.27794720463943, 98.11394950846038, 79.3583814175341, 84.30816202049307, 75.33378091265241, 71.07836723635434, 98.71975917722573, 80.02712578568116, 85.00136174727713, 75.79087579045458, 71.92318871352467, 97.5987256232362, 78.84080239381538, 83.78959915572416, 74.82670534762529, 70.55564999281683, 98.14365594121, 79.3811500681785, 84.32763807646985, 75.38255094499439, 71.07942670640553, 71.22857964802883, 52.86893460965314, 57.90594340465745, 47.96313371862217, 45.7602130749581, 84.10485967341418, 65.26028885666784, 70.1548778892092, 61.72667859219356, 56.704643133997166, 78.32767958411486, 59.72154777093927, 64.7242500792872, 55.319523539762976, 51.97556749733179, 85.67318917497722, 67.02719059515454, 72.01825946933121, 62.70024421905404, 59.119090271827694, 63.36525107536065, 45.171791156100916, 50.216021844721794, 40.01165469107089, 38.55341540591099, 85.79884556042123, 67.13137392719051, 72.11648384715419, 62.86480447627027, 59.16691059411577]}, {\"name\": \"dist (2, 3)\", \"type\": \"box\", \"y\": [86.04388503017574, 67.8611085330447, 71.95912646071001, 67.51038399575992, 57.7874119368882, 85.65460122559969, 67.51676527649546, 71.58662160421643, 67.25171602810933, 57.42719268391565, 85.26456109278051, 67.07734164732976, 71.17773721639183, 66.72776764117302, 57.00487117034901, 85.7010422505664, 67.45949378514501, 71.59465829948704, 67.0028424447282, 57.40866235063226, 86.11532412935804, 67.88242815594802, 72.01223936624943, 67.4374169189099, 57.82822091339589, 87.20343672353924, 68.92338316956315, 73.08418328322766, 68.37479165070395, 58.890106779141036, 85.6967833127083, 67.51140796059038, 71.61087391909466, 67.16003755695465, 57.438484866746, 85.07876935936987, 66.88990790767573, 70.9912375827624, 66.5395603147942, 56.81794777539105, 86.04661735923577, 67.98632812232302, 72.00926113624013, 67.85083768637979, 57.873444848473945, 86.66184254464912, 68.44496445606363, 72.56482347924822, 68.02385091601703, 58.384578924184176, 86.12643629410877, 67.8724765207709, 72.01584310729378, 67.38700377339117, 57.827125997099465, 86.21638047378829, 68.05225921333297, 72.13871338610329, 67.73342837601213, 57.97195493058182, 85.38026908444988, 67.21500475934444, 71.3017149491641, 66.90408699188383, 57.134659699561226, 86.99120897818561, 68.7945621713348, 72.90178500284625, 68.40731435331645, 58.72651788183365, 85.89742210716946, 67.60984876279508, 71.77500934550078, 67.06125157278024, 57.579409492734754, 86.93138750777914, 68.75591811589719, 72.84982738316549, 68.40817573235806, 58.68002437165138, 86.53626282092557, 68.34174465382858, 72.4473966443478, 67.96367361368804, 58.2726653276571, 86.8102051923624, 68.5722625622784, 72.70563771768967, 68.10963832315028, 58.52048533791086, 86.95693830433807, 68.73396278203863, 72.85784382911963, 68.2980104084609, 58.67615432566693, 87.07536792562372, 68.84493253842989, 72.97362817356608, 68.39354802526911, 58.79019943908494]}],\n",
       "                        {\"template\": {\"data\": {\"bar\": [{\"error_x\": {\"color\": \"#2a3f5f\"}, \"error_y\": {\"color\": \"#2a3f5f\"}, \"marker\": {\"line\": {\"color\": \"#E5ECF6\", \"width\": 0.5}}, \"type\": \"bar\"}], \"barpolar\": [{\"marker\": {\"line\": {\"color\": \"#E5ECF6\", \"width\": 0.5}}, \"type\": \"barpolar\"}], \"carpet\": [{\"aaxis\": {\"endlinecolor\": \"#2a3f5f\", \"gridcolor\": \"white\", \"linecolor\": \"white\", \"minorgridcolor\": \"white\", \"startlinecolor\": \"#2a3f5f\"}, \"baxis\": {\"endlinecolor\": \"#2a3f5f\", \"gridcolor\": \"white\", \"linecolor\": \"white\", \"minorgridcolor\": \"white\", \"startlinecolor\": \"#2a3f5f\"}, \"type\": \"carpet\"}], \"choropleth\": [{\"colorbar\": {\"outlinewidth\": 0, \"ticks\": \"\"}, \"type\": \"choropleth\"}], \"contour\": [{\"colorbar\": {\"outlinewidth\": 0, \"ticks\": \"\"}, \"colorscale\": [[0.0, \"#0d0887\"], [0.1111111111111111, \"#46039f\"], [0.2222222222222222, \"#7201a8\"], [0.3333333333333333, \"#9c179e\"], [0.4444444444444444, \"#bd3786\"], [0.5555555555555556, \"#d8576b\"], [0.6666666666666666, \"#ed7953\"], [0.7777777777777778, \"#fb9f3a\"], [0.8888888888888888, \"#fdca26\"], [1.0, \"#f0f921\"]], \"type\": \"contour\"}], \"contourcarpet\": [{\"colorbar\": {\"outlinewidth\": 0, \"ticks\": \"\"}, \"type\": \"contourcarpet\"}], \"heatmap\": [{\"colorbar\": {\"outlinewidth\": 0, \"ticks\": \"\"}, \"colorscale\": [[0.0, \"#0d0887\"], [0.1111111111111111, \"#46039f\"], [0.2222222222222222, \"#7201a8\"], [0.3333333333333333, \"#9c179e\"], [0.4444444444444444, \"#bd3786\"], [0.5555555555555556, \"#d8576b\"], [0.6666666666666666, \"#ed7953\"], [0.7777777777777778, \"#fb9f3a\"], [0.8888888888888888, \"#fdca26\"], [1.0, \"#f0f921\"]], \"type\": \"heatmap\"}], \"heatmapgl\": [{\"colorbar\": {\"outlinewidth\": 0, \"ticks\": \"\"}, \"colorscale\": [[0.0, \"#0d0887\"], [0.1111111111111111, \"#46039f\"], [0.2222222222222222, \"#7201a8\"], [0.3333333333333333, \"#9c179e\"], [0.4444444444444444, \"#bd3786\"], [0.5555555555555556, \"#d8576b\"], [0.6666666666666666, \"#ed7953\"], [0.7777777777777778, \"#fb9f3a\"], [0.8888888888888888, \"#fdca26\"], [1.0, \"#f0f921\"]], \"type\": \"heatmapgl\"}], \"histogram\": [{\"marker\": {\"colorbar\": {\"outlinewidth\": 0, \"ticks\": \"\"}}, \"type\": \"histogram\"}], \"histogram2d\": [{\"colorbar\": {\"outlinewidth\": 0, \"ticks\": \"\"}, \"colorscale\": [[0.0, \"#0d0887\"], [0.1111111111111111, \"#46039f\"], [0.2222222222222222, \"#7201a8\"], [0.3333333333333333, \"#9c179e\"], [0.4444444444444444, \"#bd3786\"], [0.5555555555555556, \"#d8576b\"], [0.6666666666666666, \"#ed7953\"], [0.7777777777777778, \"#fb9f3a\"], [0.8888888888888888, \"#fdca26\"], [1.0, \"#f0f921\"]], \"type\": \"histogram2d\"}], \"histogram2dcontour\": [{\"colorbar\": {\"outlinewidth\": 0, \"ticks\": \"\"}, \"colorscale\": [[0.0, \"#0d0887\"], [0.1111111111111111, \"#46039f\"], [0.2222222222222222, \"#7201a8\"], [0.3333333333333333, \"#9c179e\"], [0.4444444444444444, \"#bd3786\"], [0.5555555555555556, \"#d8576b\"], [0.6666666666666666, \"#ed7953\"], [0.7777777777777778, \"#fb9f3a\"], [0.8888888888888888, \"#fdca26\"], [1.0, \"#f0f921\"]], \"type\": \"histogram2dcontour\"}], \"mesh3d\": [{\"colorbar\": {\"outlinewidth\": 0, \"ticks\": \"\"}, \"type\": \"mesh3d\"}], \"parcoords\": [{\"line\": {\"colorbar\": {\"outlinewidth\": 0, \"ticks\": \"\"}}, \"type\": \"parcoords\"}], \"pie\": [{\"automargin\": true, \"type\": \"pie\"}], \"scatter\": [{\"marker\": {\"colorbar\": {\"outlinewidth\": 0, \"ticks\": \"\"}}, \"type\": \"scatter\"}], \"scatter3d\": [{\"line\": {\"colorbar\": {\"outlinewidth\": 0, \"ticks\": \"\"}}, \"marker\": {\"colorbar\": {\"outlinewidth\": 0, \"ticks\": \"\"}}, \"type\": \"scatter3d\"}], \"scattercarpet\": [{\"marker\": {\"colorbar\": {\"outlinewidth\": 0, \"ticks\": \"\"}}, \"type\": \"scattercarpet\"}], \"scattergeo\": [{\"marker\": {\"colorbar\": {\"outlinewidth\": 0, \"ticks\": \"\"}}, \"type\": \"scattergeo\"}], \"scattergl\": [{\"marker\": {\"colorbar\": {\"outlinewidth\": 0, \"ticks\": \"\"}}, \"type\": \"scattergl\"}], \"scattermapbox\": [{\"marker\": {\"colorbar\": {\"outlinewidth\": 0, \"ticks\": \"\"}}, \"type\": \"scattermapbox\"}], \"scatterpolar\": [{\"marker\": {\"colorbar\": {\"outlinewidth\": 0, \"ticks\": \"\"}}, \"type\": \"scatterpolar\"}], \"scatterpolargl\": [{\"marker\": {\"colorbar\": {\"outlinewidth\": 0, \"ticks\": \"\"}}, \"type\": \"scatterpolargl\"}], \"scatterternary\": [{\"marker\": {\"colorbar\": {\"outlinewidth\": 0, \"ticks\": \"\"}}, \"type\": \"scatterternary\"}], \"surface\": [{\"colorbar\": {\"outlinewidth\": 0, \"ticks\": \"\"}, \"colorscale\": [[0.0, \"#0d0887\"], [0.1111111111111111, \"#46039f\"], [0.2222222222222222, \"#7201a8\"], [0.3333333333333333, \"#9c179e\"], [0.4444444444444444, \"#bd3786\"], [0.5555555555555556, \"#d8576b\"], [0.6666666666666666, \"#ed7953\"], [0.7777777777777778, \"#fb9f3a\"], [0.8888888888888888, \"#fdca26\"], [1.0, \"#f0f921\"]], \"type\": \"surface\"}], \"table\": [{\"cells\": {\"fill\": {\"color\": \"#EBF0F8\"}, \"line\": {\"color\": \"white\"}}, \"header\": {\"fill\": {\"color\": \"#C8D4E3\"}, \"line\": {\"color\": \"white\"}}, \"type\": \"table\"}]}, \"layout\": {\"annotationdefaults\": {\"arrowcolor\": \"#2a3f5f\", \"arrowhead\": 0, \"arrowwidth\": 1}, \"coloraxis\": {\"colorbar\": {\"outlinewidth\": 0, \"ticks\": \"\"}}, \"colorscale\": {\"diverging\": [[0, \"#8e0152\"], [0.1, \"#c51b7d\"], [0.2, \"#de77ae\"], [0.3, \"#f1b6da\"], [0.4, \"#fde0ef\"], [0.5, \"#f7f7f7\"], [0.6, \"#e6f5d0\"], [0.7, \"#b8e186\"], [0.8, \"#7fbc41\"], [0.9, \"#4d9221\"], [1, \"#276419\"]], \"sequential\": [[0.0, \"#0d0887\"], [0.1111111111111111, \"#46039f\"], [0.2222222222222222, \"#7201a8\"], [0.3333333333333333, \"#9c179e\"], [0.4444444444444444, \"#bd3786\"], [0.5555555555555556, \"#d8576b\"], [0.6666666666666666, \"#ed7953\"], [0.7777777777777778, \"#fb9f3a\"], [0.8888888888888888, \"#fdca26\"], [1.0, \"#f0f921\"]], \"sequentialminus\": [[0.0, \"#0d0887\"], [0.1111111111111111, \"#46039f\"], [0.2222222222222222, \"#7201a8\"], [0.3333333333333333, \"#9c179e\"], [0.4444444444444444, \"#bd3786\"], [0.5555555555555556, \"#d8576b\"], [0.6666666666666666, \"#ed7953\"], [0.7777777777777778, \"#fb9f3a\"], [0.8888888888888888, \"#fdca26\"], [1.0, \"#f0f921\"]]}, \"colorway\": [\"#636efa\", \"#EF553B\", \"#00cc96\", \"#ab63fa\", \"#FFA15A\", \"#19d3f3\", \"#FF6692\", \"#B6E880\", \"#FF97FF\", \"#FECB52\"], \"font\": {\"color\": \"#2a3f5f\"}, \"geo\": {\"bgcolor\": \"white\", \"lakecolor\": \"white\", \"landcolor\": \"#E5ECF6\", \"showlakes\": true, \"showland\": true, \"subunitcolor\": \"white\"}, \"hoverlabel\": {\"align\": \"left\"}, \"hovermode\": \"closest\", \"mapbox\": {\"style\": \"light\"}, \"paper_bgcolor\": \"white\", \"plot_bgcolor\": \"#E5ECF6\", \"polar\": {\"angularaxis\": {\"gridcolor\": \"white\", \"linecolor\": \"white\", \"ticks\": \"\"}, \"bgcolor\": \"#E5ECF6\", \"radialaxis\": {\"gridcolor\": \"white\", \"linecolor\": \"white\", \"ticks\": \"\"}}, \"scene\": {\"xaxis\": {\"backgroundcolor\": \"#E5ECF6\", \"gridcolor\": \"white\", \"gridwidth\": 2, \"linecolor\": \"white\", \"showbackground\": true, \"ticks\": \"\", \"zerolinecolor\": \"white\"}, \"yaxis\": {\"backgroundcolor\": \"#E5ECF6\", \"gridcolor\": \"white\", \"gridwidth\": 2, \"linecolor\": \"white\", \"showbackground\": true, \"ticks\": \"\", \"zerolinecolor\": \"white\"}, \"zaxis\": {\"backgroundcolor\": \"#E5ECF6\", \"gridcolor\": \"white\", \"gridwidth\": 2, \"linecolor\": \"white\", \"showbackground\": true, \"ticks\": \"\", \"zerolinecolor\": \"white\"}}, \"shapedefaults\": {\"line\": {\"color\": \"#2a3f5f\"}}, \"ternary\": {\"aaxis\": {\"gridcolor\": \"white\", \"linecolor\": \"white\", \"ticks\": \"\"}, \"baxis\": {\"gridcolor\": \"white\", \"linecolor\": \"white\", \"ticks\": \"\"}, \"bgcolor\": \"#E5ECF6\", \"caxis\": {\"gridcolor\": \"white\", \"linecolor\": \"white\", \"ticks\": \"\"}}, \"title\": {\"x\": 0.05}, \"xaxis\": {\"automargin\": true, \"gridcolor\": \"white\", \"linecolor\": \"white\", \"ticks\": \"\", \"title\": {\"standoff\": 15}, \"zerolinecolor\": \"white\", \"zerolinewidth\": 2}, \"yaxis\": {\"automargin\": true, \"gridcolor\": \"white\", \"linecolor\": \"white\", \"ticks\": \"\", \"title\": {\"standoff\": 15}, \"zerolinecolor\": \"white\", \"zerolinewidth\": 2}}}},\n",
       "                        {\"responsive\": true}\n",
       "                    ).then(function(){\n",
       "                            \n",
       "var gd = document.getElementById('93702033-bce8-4680-aea2-bbf845b40d6f');\n",
       "var x = new MutationObserver(function (mutations, observer) {{\n",
       "        var display = window.getComputedStyle(gd).display;\n",
       "        if (!display || display === 'none') {{\n",
       "            console.log([gd, 'removed!']);\n",
       "            Plotly.purge(gd);\n",
       "            observer.disconnect();\n",
       "        }}\n",
       "}});\n",
       "\n",
       "// Listen for the removal of the full notebook cells\n",
       "var notebookContainer = gd.closest('#notebook-container');\n",
       "if (notebookContainer) {{\n",
       "    x.observe(notebookContainer, {childList: true});\n",
       "}}\n",
       "\n",
       "// Listen for the clearing of the current output cell\n",
       "var outputEl = gd.closest('.output');\n",
       "if (outputEl) {{\n",
       "    x.observe(outputEl, {childList: true});\n",
       "}}\n",
       "\n",
       "                        })\n",
       "                };\n",
       "                });\n",
       "            </script>\n",
       "        </div>"
      ]
     },
     "metadata": {},
     "output_type": "display_data"
    },
    {
     "data": {
      "application/vnd.plotly.v1+json": {
       "config": {
        "linkText": "Export to plot.ly",
        "plotlyServerURL": "https://plot.ly",
        "showLink": false
       },
       "data": [
        {
         "name": "dist (0, 2)",
         "type": "box",
         "y": [
          6.539546760707057,
          5.770286124446109,
          5.5333679578730415,
          5.191922775446303,
          5.585264371151994,
          5.298730463087356,
          5.233151301625292,
          5.909391839997864,
          4.956552408348851,
          5.825882931389766,
          6.084561677612076,
          6.402090759541744,
          5.919586677860751,
          6.275244086811266,
          5.893993850064539,
          5.144306140851409,
          5.584221254023294,
          4.862139377902223,
          6.603616115256153,
          4.906630532814746,
          5.49798816646017,
          6.683094009898251,
          6.18296950130785,
          5.898281495261157,
          4.744708421134041,
          6.749859431093873,
          5.13184169634329,
          6.664791836229532,
          5.299852562319898,
          5.505054851696006,
          4.47186845906152,
          5.216582522505143,
          5.650718372402322,
          6.9992772799533585,
          5.851925453386606,
          6.585995764009686,
          5.221973358012268,
          5.437880078238277,
          5.006001094114228,
          5.737453536516835,
          5.3896928078368,
          5.972901907482541,
          5.216227959194644,
          5.698404833550435,
          7.180660303137454,
          6.943130552230633,
          5.180709907704804,
          5.747304680222828,
          6.6773709655515,
          5.409990108835795
         ]
        },
        {
         "name": "dist (0, 3)",
         "type": "box",
         "y": [
          8.754741309582718,
          9.153456123242151,
          8.829370406208104,
          8.400858854284984,
          7.798515205243957,
          7.714087804224134,
          8.202426104228332,
          8.6357851117329,
          8.749499943054488,
          7.283237124426836,
          8.944335680917263,
          6.597342154186777,
          8.576957388523374,
          7.353408824108933,
          7.784750816936389,
          9.585852055077455,
          8.528867691842542,
          8.352174557510773,
          6.726267281177854,
          9.230201278078344,
          8.838932223910296,
          6.290727587465563,
          9.268458922678557,
          8.277387422519137,
          7.955103203705574,
          8.545470343866851,
          6.9832539495307335,
          7.014408783646591,
          7.264526725396375,
          7.048743194278382,
          10.260015405100882,
          6.311582036196865,
          7.7197054588847465,
          8.90404184405681,
          7.186489877350259,
          8.902443496993328,
          7.196481183062566,
          7.666994890725299,
          9.081445768002894,
          7.996345450000338,
          9.183671144032854,
          8.970205790844393,
          7.248049017586784,
          8.390312376488396,
          8.294466787354953,
          8.36576665112658,
          7.748312598631001,
          7.711903128058043,
          8.945089533589172,
          8.41779338047939
         ]
        },
        {
         "name": "dist (2, 3)",
         "type": "box",
         "y": [
          10.37579233852963,
          10.140054185103429,
          8.383060993072762,
          9.318141559591748,
          9.798398041124168,
          9.755774568401488,
          9.6394481001967,
          9.876061623020542,
          9.869169402270085,
          11.434918432828315,
          10.44232227945079,
          9.36058109630839,
          10.761652075248504,
          10.55120628824695,
          10.751591017300271,
          9.843496020881373,
          9.7367389884292,
          9.861092434303975,
          10.318865364352039,
          9.628503926202475,
          10.970771307405665,
          9.986826530718826,
          10.14289579481852,
          9.782271238686924,
          9.491212339204298,
          10.610052499970653,
          9.801842830860505,
          10.222266207964891,
          10.699480200152674,
          10.301339129103464,
          9.238697515847694,
          9.459348479416942,
          10.073531127425438,
          10.215247092508207,
          10.541583838336264,
          9.52204679957411,
          9.920789024794113,
          9.699375879251848,
          10.758067032502241,
          10.13974709949025,
          9.183213951719033,
          10.174622444042797,
          10.021690975792794,
          11.651680603729,
          9.774817912563995,
          9.451559397329575,
          9.428180062023893,
          10.936415817223368,
          10.010332499022972,
          9.054808857672757
         ]
        }
       ],
       "layout": {
        "template": {
         "data": {
          "bar": [
           {
            "error_x": {
             "color": "#2a3f5f"
            },
            "error_y": {
             "color": "#2a3f5f"
            },
            "marker": {
             "line": {
              "color": "#E5ECF6",
              "width": 0.5
             }
            },
            "type": "bar"
           }
          ],
          "barpolar": [
           {
            "marker": {
             "line": {
              "color": "#E5ECF6",
              "width": 0.5
             }
            },
            "type": "barpolar"
           }
          ],
          "carpet": [
           {
            "aaxis": {
             "endlinecolor": "#2a3f5f",
             "gridcolor": "white",
             "linecolor": "white",
             "minorgridcolor": "white",
             "startlinecolor": "#2a3f5f"
            },
            "baxis": {
             "endlinecolor": "#2a3f5f",
             "gridcolor": "white",
             "linecolor": "white",
             "minorgridcolor": "white",
             "startlinecolor": "#2a3f5f"
            },
            "type": "carpet"
           }
          ],
          "choropleth": [
           {
            "colorbar": {
             "outlinewidth": 0,
             "ticks": ""
            },
            "type": "choropleth"
           }
          ],
          "contour": [
           {
            "colorbar": {
             "outlinewidth": 0,
             "ticks": ""
            },
            "colorscale": [
             [
              0,
              "#0d0887"
             ],
             [
              0.1111111111111111,
              "#46039f"
             ],
             [
              0.2222222222222222,
              "#7201a8"
             ],
             [
              0.3333333333333333,
              "#9c179e"
             ],
             [
              0.4444444444444444,
              "#bd3786"
             ],
             [
              0.5555555555555556,
              "#d8576b"
             ],
             [
              0.6666666666666666,
              "#ed7953"
             ],
             [
              0.7777777777777778,
              "#fb9f3a"
             ],
             [
              0.8888888888888888,
              "#fdca26"
             ],
             [
              1,
              "#f0f921"
             ]
            ],
            "type": "contour"
           }
          ],
          "contourcarpet": [
           {
            "colorbar": {
             "outlinewidth": 0,
             "ticks": ""
            },
            "type": "contourcarpet"
           }
          ],
          "heatmap": [
           {
            "colorbar": {
             "outlinewidth": 0,
             "ticks": ""
            },
            "colorscale": [
             [
              0,
              "#0d0887"
             ],
             [
              0.1111111111111111,
              "#46039f"
             ],
             [
              0.2222222222222222,
              "#7201a8"
             ],
             [
              0.3333333333333333,
              "#9c179e"
             ],
             [
              0.4444444444444444,
              "#bd3786"
             ],
             [
              0.5555555555555556,
              "#d8576b"
             ],
             [
              0.6666666666666666,
              "#ed7953"
             ],
             [
              0.7777777777777778,
              "#fb9f3a"
             ],
             [
              0.8888888888888888,
              "#fdca26"
             ],
             [
              1,
              "#f0f921"
             ]
            ],
            "type": "heatmap"
           }
          ],
          "heatmapgl": [
           {
            "colorbar": {
             "outlinewidth": 0,
             "ticks": ""
            },
            "colorscale": [
             [
              0,
              "#0d0887"
             ],
             [
              0.1111111111111111,
              "#46039f"
             ],
             [
              0.2222222222222222,
              "#7201a8"
             ],
             [
              0.3333333333333333,
              "#9c179e"
             ],
             [
              0.4444444444444444,
              "#bd3786"
             ],
             [
              0.5555555555555556,
              "#d8576b"
             ],
             [
              0.6666666666666666,
              "#ed7953"
             ],
             [
              0.7777777777777778,
              "#fb9f3a"
             ],
             [
              0.8888888888888888,
              "#fdca26"
             ],
             [
              1,
              "#f0f921"
             ]
            ],
            "type": "heatmapgl"
           }
          ],
          "histogram": [
           {
            "marker": {
             "colorbar": {
              "outlinewidth": 0,
              "ticks": ""
             }
            },
            "type": "histogram"
           }
          ],
          "histogram2d": [
           {
            "colorbar": {
             "outlinewidth": 0,
             "ticks": ""
            },
            "colorscale": [
             [
              0,
              "#0d0887"
             ],
             [
              0.1111111111111111,
              "#46039f"
             ],
             [
              0.2222222222222222,
              "#7201a8"
             ],
             [
              0.3333333333333333,
              "#9c179e"
             ],
             [
              0.4444444444444444,
              "#bd3786"
             ],
             [
              0.5555555555555556,
              "#d8576b"
             ],
             [
              0.6666666666666666,
              "#ed7953"
             ],
             [
              0.7777777777777778,
              "#fb9f3a"
             ],
             [
              0.8888888888888888,
              "#fdca26"
             ],
             [
              1,
              "#f0f921"
             ]
            ],
            "type": "histogram2d"
           }
          ],
          "histogram2dcontour": [
           {
            "colorbar": {
             "outlinewidth": 0,
             "ticks": ""
            },
            "colorscale": [
             [
              0,
              "#0d0887"
             ],
             [
              0.1111111111111111,
              "#46039f"
             ],
             [
              0.2222222222222222,
              "#7201a8"
             ],
             [
              0.3333333333333333,
              "#9c179e"
             ],
             [
              0.4444444444444444,
              "#bd3786"
             ],
             [
              0.5555555555555556,
              "#d8576b"
             ],
             [
              0.6666666666666666,
              "#ed7953"
             ],
             [
              0.7777777777777778,
              "#fb9f3a"
             ],
             [
              0.8888888888888888,
              "#fdca26"
             ],
             [
              1,
              "#f0f921"
             ]
            ],
            "type": "histogram2dcontour"
           }
          ],
          "mesh3d": [
           {
            "colorbar": {
             "outlinewidth": 0,
             "ticks": ""
            },
            "type": "mesh3d"
           }
          ],
          "parcoords": [
           {
            "line": {
             "colorbar": {
              "outlinewidth": 0,
              "ticks": ""
             }
            },
            "type": "parcoords"
           }
          ],
          "pie": [
           {
            "automargin": true,
            "type": "pie"
           }
          ],
          "scatter": [
           {
            "marker": {
             "colorbar": {
              "outlinewidth": 0,
              "ticks": ""
             }
            },
            "type": "scatter"
           }
          ],
          "scatter3d": [
           {
            "line": {
             "colorbar": {
              "outlinewidth": 0,
              "ticks": ""
             }
            },
            "marker": {
             "colorbar": {
              "outlinewidth": 0,
              "ticks": ""
             }
            },
            "type": "scatter3d"
           }
          ],
          "scattercarpet": [
           {
            "marker": {
             "colorbar": {
              "outlinewidth": 0,
              "ticks": ""
             }
            },
            "type": "scattercarpet"
           }
          ],
          "scattergeo": [
           {
            "marker": {
             "colorbar": {
              "outlinewidth": 0,
              "ticks": ""
             }
            },
            "type": "scattergeo"
           }
          ],
          "scattergl": [
           {
            "marker": {
             "colorbar": {
              "outlinewidth": 0,
              "ticks": ""
             }
            },
            "type": "scattergl"
           }
          ],
          "scattermapbox": [
           {
            "marker": {
             "colorbar": {
              "outlinewidth": 0,
              "ticks": ""
             }
            },
            "type": "scattermapbox"
           }
          ],
          "scatterpolar": [
           {
            "marker": {
             "colorbar": {
              "outlinewidth": 0,
              "ticks": ""
             }
            },
            "type": "scatterpolar"
           }
          ],
          "scatterpolargl": [
           {
            "marker": {
             "colorbar": {
              "outlinewidth": 0,
              "ticks": ""
             }
            },
            "type": "scatterpolargl"
           }
          ],
          "scatterternary": [
           {
            "marker": {
             "colorbar": {
              "outlinewidth": 0,
              "ticks": ""
             }
            },
            "type": "scatterternary"
           }
          ],
          "surface": [
           {
            "colorbar": {
             "outlinewidth": 0,
             "ticks": ""
            },
            "colorscale": [
             [
              0,
              "#0d0887"
             ],
             [
              0.1111111111111111,
              "#46039f"
             ],
             [
              0.2222222222222222,
              "#7201a8"
             ],
             [
              0.3333333333333333,
              "#9c179e"
             ],
             [
              0.4444444444444444,
              "#bd3786"
             ],
             [
              0.5555555555555556,
              "#d8576b"
             ],
             [
              0.6666666666666666,
              "#ed7953"
             ],
             [
              0.7777777777777778,
              "#fb9f3a"
             ],
             [
              0.8888888888888888,
              "#fdca26"
             ],
             [
              1,
              "#f0f921"
             ]
            ],
            "type": "surface"
           }
          ],
          "table": [
           {
            "cells": {
             "fill": {
              "color": "#EBF0F8"
             },
             "line": {
              "color": "white"
             }
            },
            "header": {
             "fill": {
              "color": "#C8D4E3"
             },
             "line": {
              "color": "white"
             }
            },
            "type": "table"
           }
          ]
         },
         "layout": {
          "annotationdefaults": {
           "arrowcolor": "#2a3f5f",
           "arrowhead": 0,
           "arrowwidth": 1
          },
          "coloraxis": {
           "colorbar": {
            "outlinewidth": 0,
            "ticks": ""
           }
          },
          "colorscale": {
           "diverging": [
            [
             0,
             "#8e0152"
            ],
            [
             0.1,
             "#c51b7d"
            ],
            [
             0.2,
             "#de77ae"
            ],
            [
             0.3,
             "#f1b6da"
            ],
            [
             0.4,
             "#fde0ef"
            ],
            [
             0.5,
             "#f7f7f7"
            ],
            [
             0.6,
             "#e6f5d0"
            ],
            [
             0.7,
             "#b8e186"
            ],
            [
             0.8,
             "#7fbc41"
            ],
            [
             0.9,
             "#4d9221"
            ],
            [
             1,
             "#276419"
            ]
           ],
           "sequential": [
            [
             0,
             "#0d0887"
            ],
            [
             0.1111111111111111,
             "#46039f"
            ],
            [
             0.2222222222222222,
             "#7201a8"
            ],
            [
             0.3333333333333333,
             "#9c179e"
            ],
            [
             0.4444444444444444,
             "#bd3786"
            ],
            [
             0.5555555555555556,
             "#d8576b"
            ],
            [
             0.6666666666666666,
             "#ed7953"
            ],
            [
             0.7777777777777778,
             "#fb9f3a"
            ],
            [
             0.8888888888888888,
             "#fdca26"
            ],
            [
             1,
             "#f0f921"
            ]
           ],
           "sequentialminus": [
            [
             0,
             "#0d0887"
            ],
            [
             0.1111111111111111,
             "#46039f"
            ],
            [
             0.2222222222222222,
             "#7201a8"
            ],
            [
             0.3333333333333333,
             "#9c179e"
            ],
            [
             0.4444444444444444,
             "#bd3786"
            ],
            [
             0.5555555555555556,
             "#d8576b"
            ],
            [
             0.6666666666666666,
             "#ed7953"
            ],
            [
             0.7777777777777778,
             "#fb9f3a"
            ],
            [
             0.8888888888888888,
             "#fdca26"
            ],
            [
             1,
             "#f0f921"
            ]
           ]
          },
          "colorway": [
           "#636efa",
           "#EF553B",
           "#00cc96",
           "#ab63fa",
           "#FFA15A",
           "#19d3f3",
           "#FF6692",
           "#B6E880",
           "#FF97FF",
           "#FECB52"
          ],
          "font": {
           "color": "#2a3f5f"
          },
          "geo": {
           "bgcolor": "white",
           "lakecolor": "white",
           "landcolor": "#E5ECF6",
           "showlakes": true,
           "showland": true,
           "subunitcolor": "white"
          },
          "hoverlabel": {
           "align": "left"
          },
          "hovermode": "closest",
          "mapbox": {
           "style": "light"
          },
          "paper_bgcolor": "white",
          "plot_bgcolor": "#E5ECF6",
          "polar": {
           "angularaxis": {
            "gridcolor": "white",
            "linecolor": "white",
            "ticks": ""
           },
           "bgcolor": "#E5ECF6",
           "radialaxis": {
            "gridcolor": "white",
            "linecolor": "white",
            "ticks": ""
           }
          },
          "scene": {
           "xaxis": {
            "backgroundcolor": "#E5ECF6",
            "gridcolor": "white",
            "gridwidth": 2,
            "linecolor": "white",
            "showbackground": true,
            "ticks": "",
            "zerolinecolor": "white"
           },
           "yaxis": {
            "backgroundcolor": "#E5ECF6",
            "gridcolor": "white",
            "gridwidth": 2,
            "linecolor": "white",
            "showbackground": true,
            "ticks": "",
            "zerolinecolor": "white"
           },
           "zaxis": {
            "backgroundcolor": "#E5ECF6",
            "gridcolor": "white",
            "gridwidth": 2,
            "linecolor": "white",
            "showbackground": true,
            "ticks": "",
            "zerolinecolor": "white"
           }
          },
          "shapedefaults": {
           "line": {
            "color": "#2a3f5f"
           }
          },
          "ternary": {
           "aaxis": {
            "gridcolor": "white",
            "linecolor": "white",
            "ticks": ""
           },
           "baxis": {
            "gridcolor": "white",
            "linecolor": "white",
            "ticks": ""
           },
           "bgcolor": "#E5ECF6",
           "caxis": {
            "gridcolor": "white",
            "linecolor": "white",
            "ticks": ""
           }
          },
          "title": {
           "x": 0.05
          },
          "xaxis": {
           "automargin": true,
           "gridcolor": "white",
           "linecolor": "white",
           "ticks": "",
           "title": {
            "standoff": 15
           },
           "zerolinecolor": "white",
           "zerolinewidth": 2
          },
          "yaxis": {
           "automargin": true,
           "gridcolor": "white",
           "linecolor": "white",
           "ticks": "",
           "title": {
            "standoff": 15
           },
           "zerolinecolor": "white",
           "zerolinewidth": 2
          }
         }
        }
       }
      },
      "text/html": [
       "<div>\n",
       "        \n",
       "        \n",
       "            <div id=\"1c3fdca9-127c-478f-9528-f5bde7d3fde1\" class=\"plotly-graph-div\" style=\"height:525px; width:100%;\"></div>\n",
       "            <script type=\"text/javascript\">\n",
       "                require([\"plotly\"], function(Plotly) {\n",
       "                    window.PLOTLYENV=window.PLOTLYENV || {};\n",
       "                    \n",
       "                if (document.getElementById(\"1c3fdca9-127c-478f-9528-f5bde7d3fde1\")) {\n",
       "                    Plotly.newPlot(\n",
       "                        '1c3fdca9-127c-478f-9528-f5bde7d3fde1',\n",
       "                        [{\"name\": \"dist (0, 2)\", \"type\": \"box\", \"y\": [6.539546760707057, 5.770286124446109, 5.5333679578730415, 5.191922775446303, 5.585264371151994, 5.298730463087356, 5.233151301625292, 5.909391839997864, 4.956552408348851, 5.825882931389766, 6.084561677612076, 6.402090759541744, 5.919586677860751, 6.275244086811266, 5.893993850064539, 5.144306140851409, 5.584221254023294, 4.862139377902223, 6.603616115256153, 4.906630532814746, 5.49798816646017, 6.683094009898251, 6.18296950130785, 5.898281495261157, 4.744708421134041, 6.749859431093873, 5.13184169634329, 6.664791836229532, 5.299852562319898, 5.505054851696006, 4.47186845906152, 5.216582522505143, 5.650718372402322, 6.9992772799533585, 5.851925453386606, 6.585995764009686, 5.221973358012268, 5.437880078238277, 5.006001094114228, 5.737453536516835, 5.3896928078368, 5.972901907482541, 5.216227959194644, 5.698404833550435, 7.180660303137454, 6.943130552230633, 5.180709907704804, 5.747304680222828, 6.6773709655515, 5.409990108835795]}, {\"name\": \"dist (0, 3)\", \"type\": \"box\", \"y\": [8.754741309582718, 9.153456123242151, 8.829370406208104, 8.400858854284984, 7.798515205243957, 7.714087804224134, 8.202426104228332, 8.6357851117329, 8.749499943054488, 7.283237124426836, 8.944335680917263, 6.597342154186777, 8.576957388523374, 7.353408824108933, 7.784750816936389, 9.585852055077455, 8.528867691842542, 8.352174557510773, 6.726267281177854, 9.230201278078344, 8.838932223910296, 6.290727587465563, 9.268458922678557, 8.277387422519137, 7.955103203705574, 8.545470343866851, 6.9832539495307335, 7.014408783646591, 7.264526725396375, 7.048743194278382, 10.260015405100882, 6.311582036196865, 7.7197054588847465, 8.90404184405681, 7.186489877350259, 8.902443496993328, 7.196481183062566, 7.666994890725299, 9.081445768002894, 7.996345450000338, 9.183671144032854, 8.970205790844393, 7.248049017586784, 8.390312376488396, 8.294466787354953, 8.36576665112658, 7.748312598631001, 7.711903128058043, 8.945089533589172, 8.41779338047939]}, {\"name\": \"dist (2, 3)\", \"type\": \"box\", \"y\": [10.37579233852963, 10.140054185103429, 8.383060993072762, 9.318141559591748, 9.798398041124168, 9.755774568401488, 9.6394481001967, 9.876061623020542, 9.869169402270085, 11.434918432828315, 10.44232227945079, 9.36058109630839, 10.761652075248504, 10.55120628824695, 10.751591017300271, 9.843496020881373, 9.7367389884292, 9.861092434303975, 10.318865364352039, 9.628503926202475, 10.970771307405665, 9.986826530718826, 10.14289579481852, 9.782271238686924, 9.491212339204298, 10.610052499970653, 9.801842830860505, 10.222266207964891, 10.699480200152674, 10.301339129103464, 9.238697515847694, 9.459348479416942, 10.073531127425438, 10.215247092508207, 10.541583838336264, 9.52204679957411, 9.920789024794113, 9.699375879251848, 10.758067032502241, 10.13974709949025, 9.183213951719033, 10.174622444042797, 10.021690975792794, 11.651680603729, 9.774817912563995, 9.451559397329575, 9.428180062023893, 10.936415817223368, 10.010332499022972, 9.054808857672757]}],\n",
       "                        {\"template\": {\"data\": {\"bar\": [{\"error_x\": {\"color\": \"#2a3f5f\"}, \"error_y\": {\"color\": \"#2a3f5f\"}, \"marker\": {\"line\": {\"color\": \"#E5ECF6\", \"width\": 0.5}}, \"type\": \"bar\"}], \"barpolar\": [{\"marker\": {\"line\": {\"color\": \"#E5ECF6\", \"width\": 0.5}}, \"type\": \"barpolar\"}], \"carpet\": [{\"aaxis\": {\"endlinecolor\": \"#2a3f5f\", \"gridcolor\": \"white\", \"linecolor\": \"white\", \"minorgridcolor\": \"white\", \"startlinecolor\": \"#2a3f5f\"}, \"baxis\": {\"endlinecolor\": \"#2a3f5f\", \"gridcolor\": \"white\", \"linecolor\": \"white\", \"minorgridcolor\": \"white\", \"startlinecolor\": \"#2a3f5f\"}, \"type\": \"carpet\"}], \"choropleth\": [{\"colorbar\": {\"outlinewidth\": 0, \"ticks\": \"\"}, \"type\": \"choropleth\"}], \"contour\": [{\"colorbar\": {\"outlinewidth\": 0, \"ticks\": \"\"}, \"colorscale\": [[0.0, \"#0d0887\"], [0.1111111111111111, \"#46039f\"], [0.2222222222222222, \"#7201a8\"], [0.3333333333333333, \"#9c179e\"], [0.4444444444444444, \"#bd3786\"], [0.5555555555555556, \"#d8576b\"], [0.6666666666666666, \"#ed7953\"], [0.7777777777777778, \"#fb9f3a\"], [0.8888888888888888, \"#fdca26\"], [1.0, \"#f0f921\"]], \"type\": \"contour\"}], \"contourcarpet\": [{\"colorbar\": {\"outlinewidth\": 0, \"ticks\": \"\"}, \"type\": \"contourcarpet\"}], \"heatmap\": [{\"colorbar\": {\"outlinewidth\": 0, \"ticks\": \"\"}, \"colorscale\": [[0.0, \"#0d0887\"], [0.1111111111111111, \"#46039f\"], [0.2222222222222222, \"#7201a8\"], [0.3333333333333333, \"#9c179e\"], [0.4444444444444444, \"#bd3786\"], [0.5555555555555556, \"#d8576b\"], [0.6666666666666666, \"#ed7953\"], [0.7777777777777778, \"#fb9f3a\"], [0.8888888888888888, \"#fdca26\"], [1.0, \"#f0f921\"]], \"type\": \"heatmap\"}], \"heatmapgl\": [{\"colorbar\": {\"outlinewidth\": 0, \"ticks\": \"\"}, \"colorscale\": [[0.0, \"#0d0887\"], [0.1111111111111111, \"#46039f\"], [0.2222222222222222, \"#7201a8\"], [0.3333333333333333, \"#9c179e\"], [0.4444444444444444, \"#bd3786\"], [0.5555555555555556, \"#d8576b\"], [0.6666666666666666, \"#ed7953\"], [0.7777777777777778, \"#fb9f3a\"], [0.8888888888888888, \"#fdca26\"], [1.0, \"#f0f921\"]], \"type\": \"heatmapgl\"}], \"histogram\": [{\"marker\": {\"colorbar\": {\"outlinewidth\": 0, \"ticks\": \"\"}}, \"type\": \"histogram\"}], \"histogram2d\": [{\"colorbar\": {\"outlinewidth\": 0, \"ticks\": \"\"}, \"colorscale\": [[0.0, \"#0d0887\"], [0.1111111111111111, \"#46039f\"], [0.2222222222222222, \"#7201a8\"], [0.3333333333333333, \"#9c179e\"], [0.4444444444444444, \"#bd3786\"], [0.5555555555555556, \"#d8576b\"], [0.6666666666666666, \"#ed7953\"], [0.7777777777777778, \"#fb9f3a\"], [0.8888888888888888, \"#fdca26\"], [1.0, \"#f0f921\"]], \"type\": \"histogram2d\"}], \"histogram2dcontour\": [{\"colorbar\": {\"outlinewidth\": 0, \"ticks\": \"\"}, \"colorscale\": [[0.0, \"#0d0887\"], [0.1111111111111111, \"#46039f\"], [0.2222222222222222, \"#7201a8\"], [0.3333333333333333, \"#9c179e\"], [0.4444444444444444, \"#bd3786\"], [0.5555555555555556, \"#d8576b\"], [0.6666666666666666, \"#ed7953\"], [0.7777777777777778, \"#fb9f3a\"], [0.8888888888888888, \"#fdca26\"], [1.0, \"#f0f921\"]], \"type\": \"histogram2dcontour\"}], \"mesh3d\": [{\"colorbar\": {\"outlinewidth\": 0, \"ticks\": \"\"}, \"type\": \"mesh3d\"}], \"parcoords\": [{\"line\": {\"colorbar\": {\"outlinewidth\": 0, \"ticks\": \"\"}}, \"type\": \"parcoords\"}], \"pie\": [{\"automargin\": true, \"type\": \"pie\"}], \"scatter\": [{\"marker\": {\"colorbar\": {\"outlinewidth\": 0, \"ticks\": \"\"}}, \"type\": \"scatter\"}], \"scatter3d\": [{\"line\": {\"colorbar\": {\"outlinewidth\": 0, \"ticks\": \"\"}}, \"marker\": {\"colorbar\": {\"outlinewidth\": 0, \"ticks\": \"\"}}, \"type\": \"scatter3d\"}], \"scattercarpet\": [{\"marker\": {\"colorbar\": {\"outlinewidth\": 0, \"ticks\": \"\"}}, \"type\": \"scattercarpet\"}], \"scattergeo\": [{\"marker\": {\"colorbar\": {\"outlinewidth\": 0, \"ticks\": \"\"}}, \"type\": \"scattergeo\"}], \"scattergl\": [{\"marker\": {\"colorbar\": {\"outlinewidth\": 0, \"ticks\": \"\"}}, \"type\": \"scattergl\"}], \"scattermapbox\": [{\"marker\": {\"colorbar\": {\"outlinewidth\": 0, \"ticks\": \"\"}}, \"type\": \"scattermapbox\"}], \"scatterpolar\": [{\"marker\": {\"colorbar\": {\"outlinewidth\": 0, \"ticks\": \"\"}}, \"type\": \"scatterpolar\"}], \"scatterpolargl\": [{\"marker\": {\"colorbar\": {\"outlinewidth\": 0, \"ticks\": \"\"}}, \"type\": \"scatterpolargl\"}], \"scatterternary\": [{\"marker\": {\"colorbar\": {\"outlinewidth\": 0, \"ticks\": \"\"}}, \"type\": \"scatterternary\"}], \"surface\": [{\"colorbar\": {\"outlinewidth\": 0, \"ticks\": \"\"}, \"colorscale\": [[0.0, \"#0d0887\"], [0.1111111111111111, \"#46039f\"], [0.2222222222222222, \"#7201a8\"], [0.3333333333333333, \"#9c179e\"], [0.4444444444444444, \"#bd3786\"], [0.5555555555555556, \"#d8576b\"], [0.6666666666666666, \"#ed7953\"], [0.7777777777777778, \"#fb9f3a\"], [0.8888888888888888, \"#fdca26\"], [1.0, \"#f0f921\"]], \"type\": \"surface\"}], \"table\": [{\"cells\": {\"fill\": {\"color\": \"#EBF0F8\"}, \"line\": {\"color\": \"white\"}}, \"header\": {\"fill\": {\"color\": \"#C8D4E3\"}, \"line\": {\"color\": \"white\"}}, \"type\": \"table\"}]}, \"layout\": {\"annotationdefaults\": {\"arrowcolor\": \"#2a3f5f\", \"arrowhead\": 0, \"arrowwidth\": 1}, \"coloraxis\": {\"colorbar\": {\"outlinewidth\": 0, \"ticks\": \"\"}}, \"colorscale\": {\"diverging\": [[0, \"#8e0152\"], [0.1, \"#c51b7d\"], [0.2, \"#de77ae\"], [0.3, \"#f1b6da\"], [0.4, \"#fde0ef\"], [0.5, \"#f7f7f7\"], [0.6, \"#e6f5d0\"], [0.7, \"#b8e186\"], [0.8, \"#7fbc41\"], [0.9, \"#4d9221\"], [1, \"#276419\"]], \"sequential\": [[0.0, \"#0d0887\"], [0.1111111111111111, \"#46039f\"], [0.2222222222222222, \"#7201a8\"], [0.3333333333333333, \"#9c179e\"], [0.4444444444444444, \"#bd3786\"], [0.5555555555555556, \"#d8576b\"], [0.6666666666666666, \"#ed7953\"], [0.7777777777777778, \"#fb9f3a\"], [0.8888888888888888, \"#fdca26\"], [1.0, \"#f0f921\"]], \"sequentialminus\": [[0.0, \"#0d0887\"], [0.1111111111111111, \"#46039f\"], [0.2222222222222222, \"#7201a8\"], [0.3333333333333333, \"#9c179e\"], [0.4444444444444444, \"#bd3786\"], [0.5555555555555556, \"#d8576b\"], [0.6666666666666666, \"#ed7953\"], [0.7777777777777778, \"#fb9f3a\"], [0.8888888888888888, \"#fdca26\"], [1.0, \"#f0f921\"]]}, \"colorway\": [\"#636efa\", \"#EF553B\", \"#00cc96\", \"#ab63fa\", \"#FFA15A\", \"#19d3f3\", \"#FF6692\", \"#B6E880\", \"#FF97FF\", \"#FECB52\"], \"font\": {\"color\": \"#2a3f5f\"}, \"geo\": {\"bgcolor\": \"white\", \"lakecolor\": \"white\", \"landcolor\": \"#E5ECF6\", \"showlakes\": true, \"showland\": true, \"subunitcolor\": \"white\"}, \"hoverlabel\": {\"align\": \"left\"}, \"hovermode\": \"closest\", \"mapbox\": {\"style\": \"light\"}, \"paper_bgcolor\": \"white\", \"plot_bgcolor\": \"#E5ECF6\", \"polar\": {\"angularaxis\": {\"gridcolor\": \"white\", \"linecolor\": \"white\", \"ticks\": \"\"}, \"bgcolor\": \"#E5ECF6\", \"radialaxis\": {\"gridcolor\": \"white\", \"linecolor\": \"white\", \"ticks\": \"\"}}, \"scene\": {\"xaxis\": {\"backgroundcolor\": \"#E5ECF6\", \"gridcolor\": \"white\", \"gridwidth\": 2, \"linecolor\": \"white\", \"showbackground\": true, \"ticks\": \"\", \"zerolinecolor\": \"white\"}, \"yaxis\": {\"backgroundcolor\": \"#E5ECF6\", \"gridcolor\": \"white\", \"gridwidth\": 2, \"linecolor\": \"white\", \"showbackground\": true, \"ticks\": \"\", \"zerolinecolor\": \"white\"}, \"zaxis\": {\"backgroundcolor\": \"#E5ECF6\", \"gridcolor\": \"white\", \"gridwidth\": 2, \"linecolor\": \"white\", \"showbackground\": true, \"ticks\": \"\", \"zerolinecolor\": \"white\"}}, \"shapedefaults\": {\"line\": {\"color\": \"#2a3f5f\"}}, \"ternary\": {\"aaxis\": {\"gridcolor\": \"white\", \"linecolor\": \"white\", \"ticks\": \"\"}, \"baxis\": {\"gridcolor\": \"white\", \"linecolor\": \"white\", \"ticks\": \"\"}, \"bgcolor\": \"#E5ECF6\", \"caxis\": {\"gridcolor\": \"white\", \"linecolor\": \"white\", \"ticks\": \"\"}}, \"title\": {\"x\": 0.05}, \"xaxis\": {\"automargin\": true, \"gridcolor\": \"white\", \"linecolor\": \"white\", \"ticks\": \"\", \"title\": {\"standoff\": 15}, \"zerolinecolor\": \"white\", \"zerolinewidth\": 2}, \"yaxis\": {\"automargin\": true, \"gridcolor\": \"white\", \"linecolor\": \"white\", \"ticks\": \"\", \"title\": {\"standoff\": 15}, \"zerolinecolor\": \"white\", \"zerolinewidth\": 2}}}},\n",
       "                        {\"responsive\": true}\n",
       "                    ).then(function(){\n",
       "                            \n",
       "var gd = document.getElementById('1c3fdca9-127c-478f-9528-f5bde7d3fde1');\n",
       "var x = new MutationObserver(function (mutations, observer) {{\n",
       "        var display = window.getComputedStyle(gd).display;\n",
       "        if (!display || display === 'none') {{\n",
       "            console.log([gd, 'removed!']);\n",
       "            Plotly.purge(gd);\n",
       "            observer.disconnect();\n",
       "        }}\n",
       "}});\n",
       "\n",
       "// Listen for the removal of the full notebook cells\n",
       "var notebookContainer = gd.closest('#notebook-container');\n",
       "if (notebookContainer) {{\n",
       "    x.observe(notebookContainer, {childList: true});\n",
       "}}\n",
       "\n",
       "// Listen for the clearing of the current output cell\n",
       "var outputEl = gd.closest('.output');\n",
       "if (outputEl) {{\n",
       "    x.observe(outputEl, {childList: true});\n",
       "}}\n",
       "\n",
       "                        })\n",
       "                };\n",
       "                });\n",
       "            </script>\n",
       "        </div>"
      ]
     },
     "metadata": {},
     "output_type": "display_data"
    }
   ],
   "source": [
    "fig= [go.Box(\n",
    "    y= gl_dists[x].reshape(1,-1)[0],\n",
    "    name= 'dist {}'.format(x)\n",
    ") for x in gp_combs]\n",
    "\n",
    "layout= go.Layout()\n",
    "\n",
    "Figure= go.Figure(data= fig,layout= layout)\n",
    "iplot(Figure)\n",
    "\n",
    "fig= [go.Box(\n",
    "    y= rec_coords[x].reshape(1,-1)[0],\n",
    "    name= 'dist {}'.format(x)\n",
    ") for x in gp_combs]\n",
    "\n",
    "layout= go.Layout()\n",
    "\n",
    "Figure= go.Figure(data= fig,layout= layout)\n",
    "iplot(Figure)"
   ]
  },
  {
   "cell_type": "markdown",
   "metadata": {},
   "source": [
    "## Imputing a specific cluster\n",
    "\n",
    "We will use the distance profiles to provide the most likely positions of a missing cluster at a local window. \n",
    "\n",
    "We select one cluster to be 'absent'. \n",
    "\n",
    "We use the tools developed above to identify clusters at the local window that correspond to our targets.\n",
    "\n",
    "We use the identified clusters as reference points to estimate the most likely position the _absent_ cluster in feature space.\n",
    "\n",
    "### i. generate local window.\n",
    "\n"
   ]
  },
  {
   "cell_type": "code",
   "execution_count": 44,
   "metadata": {},
   "outputs": [
    {
     "name": "stdout",
     "output_type": "stream",
     "text": [
      "full data set shape: (130, 40000)\n",
      "[[   42 14193]]\n"
     ]
    }
   ],
   "source": [
    "print('full data set shape: {}'.format(genotype.shape))\n",
    "\n",
    "nan_n= 1\n",
    "\n",
    "xnan= np.random.randint(0,genotype.shape[1],size= nan_n)\n",
    "ynan= np.random.randint(0,genotype.shape[0],size= nan_n)\n",
    "\n",
    "nan_coords= [ynan,xnan]\n",
    "nan_coords= np.array(nan_coords).T\n",
    "\n",
    "print(nan_coords)\n"
   ]
  },
  {
   "cell_type": "code",
   "execution_count": 45,
   "metadata": {},
   "outputs": [],
   "source": [
    "nan_idx= 0\n",
    "\n",
    "nan_obs= nan_coords[nan_idx]\n",
    "#nan_obs= [43,16000]\n",
    "nan_acc= nan_obs[0]\n",
    "nan_pos= nan_obs[1]\n",
    "\n",
    "wind_sizes= 100\n",
    "Nreps= 400\n",
    "ncomps= 5\n",
    "dimN= 2\n",
    "metric= 'euclidean'\n"
   ]
  },
  {
   "cell_type": "code",
   "execution_count": 46,
   "metadata": {},
   "outputs": [
    {
     "data": {
      "application/vnd.plotly.v1+json": {
       "config": {
        "linkText": "Export to plot.ly",
        "plotlyServerURL": "https://plot.ly",
        "showLink": false
       },
       "data": [
        {
         "mode": "markers",
         "name": "0",
         "type": "scatter",
         "x": [
          4.949848933831359,
          4.7105193825731995,
          5.0889305924076265,
          4.772400695665198,
          5.2349383917799575,
          4.982121847249703,
          4.84757216196969,
          5.01439399917232,
          4.547257354263746,
          4.036148960034627,
          4.714879875506253,
          4.346193110732616,
          5.183663042251366,
          5.674862901069492,
          4.496466868958761,
          4.884241060769984,
          4.503367802841834,
          4.88319227050411,
          4.029388272228657,
          5.231148456741697,
          4.026499419836804,
          5.139940566567222,
          4.911096728978062,
          4.638258726998667,
          5.084298726754989,
          3.844227341008457,
          5.3740022248309565,
          4.503581447112179,
          4.892779064210228,
          5.565139209857071,
          4.910817673670376,
          4.79275709102951,
          4.988506180233878,
          4.270179822863749,
          4.2268180803236515,
          5.906378362078421,
          4.794879287253851,
          4.518079015854841,
          4.799359740375732,
          4.054265976917706,
          4.66032462539651,
          5.079877508683631,
          4.409481177929116,
          5.590276798838685,
          4.299674334110444,
          5.109680448972676
         ],
         "y": [
          0.0632097766634101,
          1.5275871595492252,
          0.17740381106457412,
          0.6775974305135664,
          0.4760284859840143,
          0.9332092867971522,
          0.0944985105377326,
          0.24682622721816713,
          -0.27048693475009483,
          0.41736389882173697,
          0.13036938533045664,
          0.8809090621683381,
          -0.19519631654069242,
          0.7042369354597002,
          0.2323488778800104,
          -0.05799424830381131,
          -0.15322436499530998,
          0.4506025229182282,
          -0.7900951868510225,
          0.7207932050083345,
          0.15873574676402574,
          0.006909863690722355,
          0.4490141243543827,
          0.5656228080491882,
          0.06080015778457912,
          -0.5273616530566085,
          0.25008724088871703,
          -0.08962268547793874,
          0.26614040884463375,
          0.25835696546325065,
          -0.18539578214521982,
          1.1304612283796205,
          0.7194169671653438,
          -0.18407172061872115,
          0.28625745352486454,
          0.5369631195049799,
          0.7125566397261129,
          0.30921911828332904,
          -0.1239548468428569,
          0.04470959709840924,
          0.22886670380750376,
          0.21161503839846585,
          0.4279451519027702,
          0.9075943195498176,
          0.9851161669088898,
          1.7191649862820801
         ]
        },
        {
         "mode": "markers",
         "name": "1",
         "type": "scatter",
         "x": [
          -2.719607684243177,
          -2.8385691435128866,
          -2.253388399846534,
          -3.3524375609519304,
          -2.8698593096738536,
          -2.6576388720150446,
          -3.5433114662033556,
          -2.8740661298579253,
          -2.851079500070059,
          -2.164997927150227,
          -2.3828515218455104,
          -3.5054329915417113,
          -2.093913455767271,
          -3.0410581325881894,
          -3.0760106245259777,
          -3.291364466385648,
          -3.0724678976325492,
          -2.8787999218968663,
          -3.0004097610866673,
          -2.7626169094227713,
          -2.3578842210757913,
          -2.8015331800953964,
          -3.401140979383427,
          -2.803763048482645,
          -3.205038923239268,
          -3.201054447125185,
          -3.0544382151446348,
          -2.0199020840145874,
          -3.6136177900262845,
          -2.495953870761194,
          -2.672126569548603,
          -2.4958622540970565,
          -3.2175692223106713,
          -2.467741329854572,
          -4.048359554956149,
          -3.416061052672268,
          -3.2625182699071957,
          -3.4002234572892815,
          -2.8779744785317303,
          -3.4602798282315117
         ],
         "y": [
          -2.027305266324314,
          -1.1944096164045852,
          -2.928751257171322,
          -1.2287232316788077,
          -1.877193399112891,
          -0.9203333606320657,
          -1.9573833953121682,
          -2.0116515650065105,
          -1.3512058253569177,
          -2.222335551668155,
          -1.4744895326077654,
          -2.1611590071745908,
          -2.688867554297372,
          -2.4412745891453804,
          -3.057340992293416,
          -1.8437205850412506,
          -2.0208333597507218,
          -2.3912738015275115,
          -2.333510410957307,
          -3.107293618621571,
          -2.9444141888341027,
          -2.6206230927029006,
          -1.8014659726816482,
          -2.77261542981768,
          -1.6609987500568413,
          -1.2677050448337908,
          -1.931761466821787,
          -2.0994662247867297,
          -1.5740305216288895,
          -1.9501761143623493,
          -2.068324054512552,
          -0.9692876460266977,
          -1.244198637269759,
          -2.5198267500501292,
          -0.33832449013521915,
          -1.500947975262978,
          -0.8022009813217694,
          -2.3786151092900725,
          -1.8075563680033966,
          -2.4753356741886012
         ]
        },
        {
         "mode": "markers",
         "name": "2",
         "type": "scatter",
         "x": [
          -4.723037540118349,
          -4.892588637661643,
          -4.720989503561524,
          -5.286368054594475,
          -5.137613304873168,
          -5.408596399681685,
          -4.9085508599814025,
          -4.459528088575762,
          -5.163640977376682,
          -5.168488316796666,
          -5.345821756883693,
          -4.662288699680652,
          -4.984061162807135,
          -4.193562635593645,
          -5.463684722379739,
          -4.048549428035972,
          -4.833731526181452,
          -4.820687821313344,
          -5.685841977175687,
          -3.6696433441082266
         ],
         "y": [
          5.268201797862458,
          3.947746039895283,
          3.222159714415238,
          3.6615646532889037,
          4.477629229705966,
          3.6833312331912356,
          2.299708429700931,
          2.4204579972839526,
          2.6525445198138553,
          2.992320042934333,
          5.7103976720774865,
          2.452818539999916,
          4.385210368800176,
          3.691767641333131,
          3.5774921331177736,
          0.384392302074801,
          2.8885551524246518,
          2.5795800005518674,
          3.40348691936066,
          2.446381071220533
         ]
        },
        {
         "mode": "markers",
         "name": "4",
         "type": "scatter",
         "x": [
          -1.7122054614687718,
          -1.3754897835907844,
          -2.773949717500777,
          -5.039580147155224,
          -1.5869545278651986,
          5.659405063802914,
          -2.025753289705738,
          -4.279071830642738,
          -2.9240483622563183,
          -1.6101726362225524,
          4.910570634462171,
          -5.26283002542509,
          -2.791663112413091,
          -3.911251346830329,
          -2.374872335970956,
          4.705692748428833,
          -3.177288805291242,
          5.2672172473585706,
          -2.0252104311416725,
          4.679089723383009,
          4.979097703278842,
          -2.4942135080202927,
          4.70602247626098,
          5.014943373632349
         ],
         "y": [
          -0.5378458143109583,
          -0.7987846039960766,
          -2.992724602377365,
          3.6252495495577675,
          -0.37311892121649826,
          0.7100554970648962,
          -1.1987684962432037,
          2.56564235189945,
          -2.156293710343216,
          -0.7463543701315261,
          0.8158067875138266,
          3.45850636917849,
          -2.892614442106411,
          -1.5846648792464573,
          -2.7522761714483206,
          -0.2704368629264956,
          -1.645896108469056,
          0.8117778644924861,
          -0.30402777038443,
          0.45358492205176604,
          2.098080196334003,
          -0.3107248736147617,
          0.26480341657746254,
          0.19107498305991422
         ]
        },
        {
         "marker": {
          "color": "rgba(135, 206, 250, 0)",
          "line": {
           "color": "red",
           "width": 5
          },
          "opacity": 1,
          "size": 25
         },
         "mode": "markers",
         "showlegend": false,
         "type": "scatter",
         "x": [
          -4.720989503561524
         ],
         "y": [
          3.222159714415238
         ]
        }
       ],
       "layout": {
        "template": {
         "data": {
          "bar": [
           {
            "error_x": {
             "color": "#2a3f5f"
            },
            "error_y": {
             "color": "#2a3f5f"
            },
            "marker": {
             "line": {
              "color": "#E5ECF6",
              "width": 0.5
             }
            },
            "type": "bar"
           }
          ],
          "barpolar": [
           {
            "marker": {
             "line": {
              "color": "#E5ECF6",
              "width": 0.5
             }
            },
            "type": "barpolar"
           }
          ],
          "carpet": [
           {
            "aaxis": {
             "endlinecolor": "#2a3f5f",
             "gridcolor": "white",
             "linecolor": "white",
             "minorgridcolor": "white",
             "startlinecolor": "#2a3f5f"
            },
            "baxis": {
             "endlinecolor": "#2a3f5f",
             "gridcolor": "white",
             "linecolor": "white",
             "minorgridcolor": "white",
             "startlinecolor": "#2a3f5f"
            },
            "type": "carpet"
           }
          ],
          "choropleth": [
           {
            "colorbar": {
             "outlinewidth": 0,
             "ticks": ""
            },
            "type": "choropleth"
           }
          ],
          "contour": [
           {
            "colorbar": {
             "outlinewidth": 0,
             "ticks": ""
            },
            "colorscale": [
             [
              0,
              "#0d0887"
             ],
             [
              0.1111111111111111,
              "#46039f"
             ],
             [
              0.2222222222222222,
              "#7201a8"
             ],
             [
              0.3333333333333333,
              "#9c179e"
             ],
             [
              0.4444444444444444,
              "#bd3786"
             ],
             [
              0.5555555555555556,
              "#d8576b"
             ],
             [
              0.6666666666666666,
              "#ed7953"
             ],
             [
              0.7777777777777778,
              "#fb9f3a"
             ],
             [
              0.8888888888888888,
              "#fdca26"
             ],
             [
              1,
              "#f0f921"
             ]
            ],
            "type": "contour"
           }
          ],
          "contourcarpet": [
           {
            "colorbar": {
             "outlinewidth": 0,
             "ticks": ""
            },
            "type": "contourcarpet"
           }
          ],
          "heatmap": [
           {
            "colorbar": {
             "outlinewidth": 0,
             "ticks": ""
            },
            "colorscale": [
             [
              0,
              "#0d0887"
             ],
             [
              0.1111111111111111,
              "#46039f"
             ],
             [
              0.2222222222222222,
              "#7201a8"
             ],
             [
              0.3333333333333333,
              "#9c179e"
             ],
             [
              0.4444444444444444,
              "#bd3786"
             ],
             [
              0.5555555555555556,
              "#d8576b"
             ],
             [
              0.6666666666666666,
              "#ed7953"
             ],
             [
              0.7777777777777778,
              "#fb9f3a"
             ],
             [
              0.8888888888888888,
              "#fdca26"
             ],
             [
              1,
              "#f0f921"
             ]
            ],
            "type": "heatmap"
           }
          ],
          "heatmapgl": [
           {
            "colorbar": {
             "outlinewidth": 0,
             "ticks": ""
            },
            "colorscale": [
             [
              0,
              "#0d0887"
             ],
             [
              0.1111111111111111,
              "#46039f"
             ],
             [
              0.2222222222222222,
              "#7201a8"
             ],
             [
              0.3333333333333333,
              "#9c179e"
             ],
             [
              0.4444444444444444,
              "#bd3786"
             ],
             [
              0.5555555555555556,
              "#d8576b"
             ],
             [
              0.6666666666666666,
              "#ed7953"
             ],
             [
              0.7777777777777778,
              "#fb9f3a"
             ],
             [
              0.8888888888888888,
              "#fdca26"
             ],
             [
              1,
              "#f0f921"
             ]
            ],
            "type": "heatmapgl"
           }
          ],
          "histogram": [
           {
            "marker": {
             "colorbar": {
              "outlinewidth": 0,
              "ticks": ""
             }
            },
            "type": "histogram"
           }
          ],
          "histogram2d": [
           {
            "colorbar": {
             "outlinewidth": 0,
             "ticks": ""
            },
            "colorscale": [
             [
              0,
              "#0d0887"
             ],
             [
              0.1111111111111111,
              "#46039f"
             ],
             [
              0.2222222222222222,
              "#7201a8"
             ],
             [
              0.3333333333333333,
              "#9c179e"
             ],
             [
              0.4444444444444444,
              "#bd3786"
             ],
             [
              0.5555555555555556,
              "#d8576b"
             ],
             [
              0.6666666666666666,
              "#ed7953"
             ],
             [
              0.7777777777777778,
              "#fb9f3a"
             ],
             [
              0.8888888888888888,
              "#fdca26"
             ],
             [
              1,
              "#f0f921"
             ]
            ],
            "type": "histogram2d"
           }
          ],
          "histogram2dcontour": [
           {
            "colorbar": {
             "outlinewidth": 0,
             "ticks": ""
            },
            "colorscale": [
             [
              0,
              "#0d0887"
             ],
             [
              0.1111111111111111,
              "#46039f"
             ],
             [
              0.2222222222222222,
              "#7201a8"
             ],
             [
              0.3333333333333333,
              "#9c179e"
             ],
             [
              0.4444444444444444,
              "#bd3786"
             ],
             [
              0.5555555555555556,
              "#d8576b"
             ],
             [
              0.6666666666666666,
              "#ed7953"
             ],
             [
              0.7777777777777778,
              "#fb9f3a"
             ],
             [
              0.8888888888888888,
              "#fdca26"
             ],
             [
              1,
              "#f0f921"
             ]
            ],
            "type": "histogram2dcontour"
           }
          ],
          "mesh3d": [
           {
            "colorbar": {
             "outlinewidth": 0,
             "ticks": ""
            },
            "type": "mesh3d"
           }
          ],
          "parcoords": [
           {
            "line": {
             "colorbar": {
              "outlinewidth": 0,
              "ticks": ""
             }
            },
            "type": "parcoords"
           }
          ],
          "pie": [
           {
            "automargin": true,
            "type": "pie"
           }
          ],
          "scatter": [
           {
            "marker": {
             "colorbar": {
              "outlinewidth": 0,
              "ticks": ""
             }
            },
            "type": "scatter"
           }
          ],
          "scatter3d": [
           {
            "line": {
             "colorbar": {
              "outlinewidth": 0,
              "ticks": ""
             }
            },
            "marker": {
             "colorbar": {
              "outlinewidth": 0,
              "ticks": ""
             }
            },
            "type": "scatter3d"
           }
          ],
          "scattercarpet": [
           {
            "marker": {
             "colorbar": {
              "outlinewidth": 0,
              "ticks": ""
             }
            },
            "type": "scattercarpet"
           }
          ],
          "scattergeo": [
           {
            "marker": {
             "colorbar": {
              "outlinewidth": 0,
              "ticks": ""
             }
            },
            "type": "scattergeo"
           }
          ],
          "scattergl": [
           {
            "marker": {
             "colorbar": {
              "outlinewidth": 0,
              "ticks": ""
             }
            },
            "type": "scattergl"
           }
          ],
          "scattermapbox": [
           {
            "marker": {
             "colorbar": {
              "outlinewidth": 0,
              "ticks": ""
             }
            },
            "type": "scattermapbox"
           }
          ],
          "scatterpolar": [
           {
            "marker": {
             "colorbar": {
              "outlinewidth": 0,
              "ticks": ""
             }
            },
            "type": "scatterpolar"
           }
          ],
          "scatterpolargl": [
           {
            "marker": {
             "colorbar": {
              "outlinewidth": 0,
              "ticks": ""
             }
            },
            "type": "scatterpolargl"
           }
          ],
          "scatterternary": [
           {
            "marker": {
             "colorbar": {
              "outlinewidth": 0,
              "ticks": ""
             }
            },
            "type": "scatterternary"
           }
          ],
          "surface": [
           {
            "colorbar": {
             "outlinewidth": 0,
             "ticks": ""
            },
            "colorscale": [
             [
              0,
              "#0d0887"
             ],
             [
              0.1111111111111111,
              "#46039f"
             ],
             [
              0.2222222222222222,
              "#7201a8"
             ],
             [
              0.3333333333333333,
              "#9c179e"
             ],
             [
              0.4444444444444444,
              "#bd3786"
             ],
             [
              0.5555555555555556,
              "#d8576b"
             ],
             [
              0.6666666666666666,
              "#ed7953"
             ],
             [
              0.7777777777777778,
              "#fb9f3a"
             ],
             [
              0.8888888888888888,
              "#fdca26"
             ],
             [
              1,
              "#f0f921"
             ]
            ],
            "type": "surface"
           }
          ],
          "table": [
           {
            "cells": {
             "fill": {
              "color": "#EBF0F8"
             },
             "line": {
              "color": "white"
             }
            },
            "header": {
             "fill": {
              "color": "#C8D4E3"
             },
             "line": {
              "color": "white"
             }
            },
            "type": "table"
           }
          ]
         },
         "layout": {
          "annotationdefaults": {
           "arrowcolor": "#2a3f5f",
           "arrowhead": 0,
           "arrowwidth": 1
          },
          "coloraxis": {
           "colorbar": {
            "outlinewidth": 0,
            "ticks": ""
           }
          },
          "colorscale": {
           "diverging": [
            [
             0,
             "#8e0152"
            ],
            [
             0.1,
             "#c51b7d"
            ],
            [
             0.2,
             "#de77ae"
            ],
            [
             0.3,
             "#f1b6da"
            ],
            [
             0.4,
             "#fde0ef"
            ],
            [
             0.5,
             "#f7f7f7"
            ],
            [
             0.6,
             "#e6f5d0"
            ],
            [
             0.7,
             "#b8e186"
            ],
            [
             0.8,
             "#7fbc41"
            ],
            [
             0.9,
             "#4d9221"
            ],
            [
             1,
             "#276419"
            ]
           ],
           "sequential": [
            [
             0,
             "#0d0887"
            ],
            [
             0.1111111111111111,
             "#46039f"
            ],
            [
             0.2222222222222222,
             "#7201a8"
            ],
            [
             0.3333333333333333,
             "#9c179e"
            ],
            [
             0.4444444444444444,
             "#bd3786"
            ],
            [
             0.5555555555555556,
             "#d8576b"
            ],
            [
             0.6666666666666666,
             "#ed7953"
            ],
            [
             0.7777777777777778,
             "#fb9f3a"
            ],
            [
             0.8888888888888888,
             "#fdca26"
            ],
            [
             1,
             "#f0f921"
            ]
           ],
           "sequentialminus": [
            [
             0,
             "#0d0887"
            ],
            [
             0.1111111111111111,
             "#46039f"
            ],
            [
             0.2222222222222222,
             "#7201a8"
            ],
            [
             0.3333333333333333,
             "#9c179e"
            ],
            [
             0.4444444444444444,
             "#bd3786"
            ],
            [
             0.5555555555555556,
             "#d8576b"
            ],
            [
             0.6666666666666666,
             "#ed7953"
            ],
            [
             0.7777777777777778,
             "#fb9f3a"
            ],
            [
             0.8888888888888888,
             "#fdca26"
            ],
            [
             1,
             "#f0f921"
            ]
           ]
          },
          "colorway": [
           "#636efa",
           "#EF553B",
           "#00cc96",
           "#ab63fa",
           "#FFA15A",
           "#19d3f3",
           "#FF6692",
           "#B6E880",
           "#FF97FF",
           "#FECB52"
          ],
          "font": {
           "color": "#2a3f5f"
          },
          "geo": {
           "bgcolor": "white",
           "lakecolor": "white",
           "landcolor": "#E5ECF6",
           "showlakes": true,
           "showland": true,
           "subunitcolor": "white"
          },
          "hoverlabel": {
           "align": "left"
          },
          "hovermode": "closest",
          "mapbox": {
           "style": "light"
          },
          "paper_bgcolor": "white",
          "plot_bgcolor": "#E5ECF6",
          "polar": {
           "angularaxis": {
            "gridcolor": "white",
            "linecolor": "white",
            "ticks": ""
           },
           "bgcolor": "#E5ECF6",
           "radialaxis": {
            "gridcolor": "white",
            "linecolor": "white",
            "ticks": ""
           }
          },
          "scene": {
           "xaxis": {
            "backgroundcolor": "#E5ECF6",
            "gridcolor": "white",
            "gridwidth": 2,
            "linecolor": "white",
            "showbackground": true,
            "ticks": "",
            "zerolinecolor": "white"
           },
           "yaxis": {
            "backgroundcolor": "#E5ECF6",
            "gridcolor": "white",
            "gridwidth": 2,
            "linecolor": "white",
            "showbackground": true,
            "ticks": "",
            "zerolinecolor": "white"
           },
           "zaxis": {
            "backgroundcolor": "#E5ECF6",
            "gridcolor": "white",
            "gridwidth": 2,
            "linecolor": "white",
            "showbackground": true,
            "ticks": "",
            "zerolinecolor": "white"
           }
          },
          "shapedefaults": {
           "line": {
            "color": "#2a3f5f"
           }
          },
          "ternary": {
           "aaxis": {
            "gridcolor": "white",
            "linecolor": "white",
            "ticks": ""
           },
           "baxis": {
            "gridcolor": "white",
            "linecolor": "white",
            "ticks": ""
           },
           "bgcolor": "#E5ECF6",
           "caxis": {
            "gridcolor": "white",
            "linecolor": "white",
            "ticks": ""
           }
          },
          "title": {
           "x": 0.05
          },
          "xaxis": {
           "automargin": true,
           "gridcolor": "white",
           "linecolor": "white",
           "ticks": "",
           "title": {
            "standoff": 15
           },
           "zerolinecolor": "white",
           "zerolinewidth": 2
          },
          "yaxis": {
           "automargin": true,
           "gridcolor": "white",
           "linecolor": "white",
           "ticks": "",
           "title": {
            "standoff": 15
           },
           "zerolinecolor": "white",
           "zerolinewidth": 2
          }
         }
        }
       }
      },
      "text/html": [
       "<div>\n",
       "        \n",
       "        \n",
       "            <div id=\"3b628148-a1cd-4b4e-8f40-b82aae15ee07\" class=\"plotly-graph-div\" style=\"height:525px; width:100%;\"></div>\n",
       "            <script type=\"text/javascript\">\n",
       "                require([\"plotly\"], function(Plotly) {\n",
       "                    window.PLOTLYENV=window.PLOTLYENV || {};\n",
       "                    \n",
       "                if (document.getElementById(\"3b628148-a1cd-4b4e-8f40-b82aae15ee07\")) {\n",
       "                    Plotly.newPlot(\n",
       "                        '3b628148-a1cd-4b4e-8f40-b82aae15ee07',\n",
       "                        [{\"mode\": \"markers\", \"name\": \"0\", \"type\": \"scatter\", \"x\": [4.949848933831359, 4.7105193825731995, 5.0889305924076265, 4.772400695665198, 5.2349383917799575, 4.982121847249703, 4.84757216196969, 5.01439399917232, 4.547257354263746, 4.036148960034627, 4.714879875506253, 4.346193110732616, 5.183663042251366, 5.674862901069492, 4.496466868958761, 4.884241060769984, 4.503367802841834, 4.88319227050411, 4.029388272228657, 5.231148456741697, 4.026499419836804, 5.139940566567222, 4.911096728978062, 4.638258726998667, 5.084298726754989, 3.844227341008457, 5.3740022248309565, 4.503581447112179, 4.892779064210228, 5.565139209857071, 4.910817673670376, 4.79275709102951, 4.988506180233878, 4.270179822863749, 4.2268180803236515, 5.906378362078421, 4.794879287253851, 4.518079015854841, 4.799359740375732, 4.054265976917706, 4.66032462539651, 5.079877508683631, 4.409481177929116, 5.590276798838685, 4.299674334110444, 5.109680448972676], \"y\": [0.0632097766634101, 1.5275871595492252, 0.17740381106457412, 0.6775974305135664, 0.4760284859840143, 0.9332092867971522, 0.0944985105377326, 0.24682622721816713, -0.27048693475009483, 0.41736389882173697, 0.13036938533045664, 0.8809090621683381, -0.19519631654069242, 0.7042369354597002, 0.2323488778800104, -0.05799424830381131, -0.15322436499530998, 0.4506025229182282, -0.7900951868510225, 0.7207932050083345, 0.15873574676402574, 0.006909863690722355, 0.4490141243543827, 0.5656228080491882, 0.06080015778457912, -0.5273616530566085, 0.25008724088871703, -0.08962268547793874, 0.26614040884463375, 0.25835696546325065, -0.18539578214521982, 1.1304612283796205, 0.7194169671653438, -0.18407172061872115, 0.28625745352486454, 0.5369631195049799, 0.7125566397261129, 0.30921911828332904, -0.1239548468428569, 0.04470959709840924, 0.22886670380750376, 0.21161503839846585, 0.4279451519027702, 0.9075943195498176, 0.9851161669088898, 1.7191649862820801]}, {\"mode\": \"markers\", \"name\": \"1\", \"type\": \"scatter\", \"x\": [-2.719607684243177, -2.8385691435128866, -2.253388399846534, -3.3524375609519304, -2.8698593096738536, -2.6576388720150446, -3.5433114662033556, -2.8740661298579253, -2.851079500070059, -2.164997927150227, -2.3828515218455104, -3.5054329915417113, -2.093913455767271, -3.0410581325881894, -3.0760106245259777, -3.291364466385648, -3.0724678976325492, -2.8787999218968663, -3.0004097610866673, -2.7626169094227713, -2.3578842210757913, -2.8015331800953964, -3.401140979383427, -2.803763048482645, -3.205038923239268, -3.201054447125185, -3.0544382151446348, -2.0199020840145874, -3.6136177900262845, -2.495953870761194, -2.672126569548603, -2.4958622540970565, -3.2175692223106713, -2.467741329854572, -4.048359554956149, -3.416061052672268, -3.2625182699071957, -3.4002234572892815, -2.8779744785317303, -3.4602798282315117], \"y\": [-2.027305266324314, -1.1944096164045852, -2.928751257171322, -1.2287232316788077, -1.877193399112891, -0.9203333606320657, -1.9573833953121682, -2.0116515650065105, -1.3512058253569177, -2.222335551668155, -1.4744895326077654, -2.1611590071745908, -2.688867554297372, -2.4412745891453804, -3.057340992293416, -1.8437205850412506, -2.0208333597507218, -2.3912738015275115, -2.333510410957307, -3.107293618621571, -2.9444141888341027, -2.6206230927029006, -1.8014659726816482, -2.77261542981768, -1.6609987500568413, -1.2677050448337908, -1.931761466821787, -2.0994662247867297, -1.5740305216288895, -1.9501761143623493, -2.068324054512552, -0.9692876460266977, -1.244198637269759, -2.5198267500501292, -0.33832449013521915, -1.500947975262978, -0.8022009813217694, -2.3786151092900725, -1.8075563680033966, -2.4753356741886012]}, {\"mode\": \"markers\", \"name\": \"2\", \"type\": \"scatter\", \"x\": [-4.723037540118349, -4.892588637661643, -4.720989503561524, -5.286368054594475, -5.137613304873168, -5.408596399681685, -4.9085508599814025, -4.459528088575762, -5.163640977376682, -5.168488316796666, -5.345821756883693, -4.662288699680652, -4.984061162807135, -4.193562635593645, -5.463684722379739, -4.048549428035972, -4.833731526181452, -4.820687821313344, -5.685841977175687, -3.6696433441082266], \"y\": [5.268201797862458, 3.947746039895283, 3.222159714415238, 3.6615646532889037, 4.477629229705966, 3.6833312331912356, 2.299708429700931, 2.4204579972839526, 2.6525445198138553, 2.992320042934333, 5.7103976720774865, 2.452818539999916, 4.385210368800176, 3.691767641333131, 3.5774921331177736, 0.384392302074801, 2.8885551524246518, 2.5795800005518674, 3.40348691936066, 2.446381071220533]}, {\"mode\": \"markers\", \"name\": \"4\", \"type\": \"scatter\", \"x\": [-1.7122054614687718, -1.3754897835907844, -2.773949717500777, -5.039580147155224, -1.5869545278651986, 5.659405063802914, -2.025753289705738, -4.279071830642738, -2.9240483622563183, -1.6101726362225524, 4.910570634462171, -5.26283002542509, -2.791663112413091, -3.911251346830329, -2.374872335970956, 4.705692748428833, -3.177288805291242, 5.2672172473585706, -2.0252104311416725, 4.679089723383009, 4.979097703278842, -2.4942135080202927, 4.70602247626098, 5.014943373632349], \"y\": [-0.5378458143109583, -0.7987846039960766, -2.992724602377365, 3.6252495495577675, -0.37311892121649826, 0.7100554970648962, -1.1987684962432037, 2.56564235189945, -2.156293710343216, -0.7463543701315261, 0.8158067875138266, 3.45850636917849, -2.892614442106411, -1.5846648792464573, -2.7522761714483206, -0.2704368629264956, -1.645896108469056, 0.8117778644924861, -0.30402777038443, 0.45358492205176604, 2.098080196334003, -0.3107248736147617, 0.26480341657746254, 0.19107498305991422]}, {\"marker\": {\"color\": \"rgba(135, 206, 250, 0)\", \"line\": {\"color\": \"red\", \"width\": 5}, \"opacity\": 1, \"size\": 25}, \"mode\": \"markers\", \"showlegend\": false, \"type\": \"scatter\", \"x\": [-4.720989503561524], \"y\": [3.222159714415238]}],\n",
       "                        {\"template\": {\"data\": {\"bar\": [{\"error_x\": {\"color\": \"#2a3f5f\"}, \"error_y\": {\"color\": \"#2a3f5f\"}, \"marker\": {\"line\": {\"color\": \"#E5ECF6\", \"width\": 0.5}}, \"type\": \"bar\"}], \"barpolar\": [{\"marker\": {\"line\": {\"color\": \"#E5ECF6\", \"width\": 0.5}}, \"type\": \"barpolar\"}], \"carpet\": [{\"aaxis\": {\"endlinecolor\": \"#2a3f5f\", \"gridcolor\": \"white\", \"linecolor\": \"white\", \"minorgridcolor\": \"white\", \"startlinecolor\": \"#2a3f5f\"}, \"baxis\": {\"endlinecolor\": \"#2a3f5f\", \"gridcolor\": \"white\", \"linecolor\": \"white\", \"minorgridcolor\": \"white\", \"startlinecolor\": \"#2a3f5f\"}, \"type\": \"carpet\"}], \"choropleth\": [{\"colorbar\": {\"outlinewidth\": 0, \"ticks\": \"\"}, \"type\": \"choropleth\"}], \"contour\": [{\"colorbar\": {\"outlinewidth\": 0, \"ticks\": \"\"}, \"colorscale\": [[0.0, \"#0d0887\"], [0.1111111111111111, \"#46039f\"], [0.2222222222222222, \"#7201a8\"], [0.3333333333333333, \"#9c179e\"], [0.4444444444444444, \"#bd3786\"], [0.5555555555555556, \"#d8576b\"], [0.6666666666666666, \"#ed7953\"], [0.7777777777777778, \"#fb9f3a\"], [0.8888888888888888, \"#fdca26\"], [1.0, \"#f0f921\"]], \"type\": \"contour\"}], \"contourcarpet\": [{\"colorbar\": {\"outlinewidth\": 0, \"ticks\": \"\"}, \"type\": \"contourcarpet\"}], \"heatmap\": [{\"colorbar\": {\"outlinewidth\": 0, \"ticks\": \"\"}, \"colorscale\": [[0.0, \"#0d0887\"], [0.1111111111111111, \"#46039f\"], [0.2222222222222222, \"#7201a8\"], [0.3333333333333333, \"#9c179e\"], [0.4444444444444444, \"#bd3786\"], [0.5555555555555556, \"#d8576b\"], [0.6666666666666666, \"#ed7953\"], [0.7777777777777778, \"#fb9f3a\"], [0.8888888888888888, \"#fdca26\"], [1.0, \"#f0f921\"]], \"type\": \"heatmap\"}], \"heatmapgl\": [{\"colorbar\": {\"outlinewidth\": 0, \"ticks\": \"\"}, \"colorscale\": [[0.0, \"#0d0887\"], [0.1111111111111111, \"#46039f\"], [0.2222222222222222, \"#7201a8\"], [0.3333333333333333, \"#9c179e\"], [0.4444444444444444, \"#bd3786\"], [0.5555555555555556, \"#d8576b\"], [0.6666666666666666, \"#ed7953\"], [0.7777777777777778, \"#fb9f3a\"], [0.8888888888888888, \"#fdca26\"], [1.0, \"#f0f921\"]], \"type\": \"heatmapgl\"}], \"histogram\": [{\"marker\": {\"colorbar\": {\"outlinewidth\": 0, \"ticks\": \"\"}}, \"type\": \"histogram\"}], \"histogram2d\": [{\"colorbar\": {\"outlinewidth\": 0, \"ticks\": \"\"}, \"colorscale\": [[0.0, \"#0d0887\"], [0.1111111111111111, \"#46039f\"], [0.2222222222222222, \"#7201a8\"], [0.3333333333333333, \"#9c179e\"], [0.4444444444444444, \"#bd3786\"], [0.5555555555555556, \"#d8576b\"], [0.6666666666666666, \"#ed7953\"], [0.7777777777777778, \"#fb9f3a\"], [0.8888888888888888, \"#fdca26\"], [1.0, \"#f0f921\"]], \"type\": \"histogram2d\"}], \"histogram2dcontour\": [{\"colorbar\": {\"outlinewidth\": 0, \"ticks\": \"\"}, \"colorscale\": [[0.0, \"#0d0887\"], [0.1111111111111111, \"#46039f\"], [0.2222222222222222, \"#7201a8\"], [0.3333333333333333, \"#9c179e\"], [0.4444444444444444, \"#bd3786\"], [0.5555555555555556, \"#d8576b\"], [0.6666666666666666, \"#ed7953\"], [0.7777777777777778, \"#fb9f3a\"], [0.8888888888888888, \"#fdca26\"], [1.0, \"#f0f921\"]], \"type\": \"histogram2dcontour\"}], \"mesh3d\": [{\"colorbar\": {\"outlinewidth\": 0, \"ticks\": \"\"}, \"type\": \"mesh3d\"}], \"parcoords\": [{\"line\": {\"colorbar\": {\"outlinewidth\": 0, \"ticks\": \"\"}}, \"type\": \"parcoords\"}], \"pie\": [{\"automargin\": true, \"type\": \"pie\"}], \"scatter\": [{\"marker\": {\"colorbar\": {\"outlinewidth\": 0, \"ticks\": \"\"}}, \"type\": \"scatter\"}], \"scatter3d\": [{\"line\": {\"colorbar\": {\"outlinewidth\": 0, \"ticks\": \"\"}}, \"marker\": {\"colorbar\": {\"outlinewidth\": 0, \"ticks\": \"\"}}, \"type\": \"scatter3d\"}], \"scattercarpet\": [{\"marker\": {\"colorbar\": {\"outlinewidth\": 0, \"ticks\": \"\"}}, \"type\": \"scattercarpet\"}], \"scattergeo\": [{\"marker\": {\"colorbar\": {\"outlinewidth\": 0, \"ticks\": \"\"}}, \"type\": \"scattergeo\"}], \"scattergl\": [{\"marker\": {\"colorbar\": {\"outlinewidth\": 0, \"ticks\": \"\"}}, \"type\": \"scattergl\"}], \"scattermapbox\": [{\"marker\": {\"colorbar\": {\"outlinewidth\": 0, \"ticks\": \"\"}}, \"type\": \"scattermapbox\"}], \"scatterpolar\": [{\"marker\": {\"colorbar\": {\"outlinewidth\": 0, \"ticks\": \"\"}}, \"type\": \"scatterpolar\"}], \"scatterpolargl\": [{\"marker\": {\"colorbar\": {\"outlinewidth\": 0, \"ticks\": \"\"}}, \"type\": \"scatterpolargl\"}], \"scatterternary\": [{\"marker\": {\"colorbar\": {\"outlinewidth\": 0, \"ticks\": \"\"}}, \"type\": \"scatterternary\"}], \"surface\": [{\"colorbar\": {\"outlinewidth\": 0, \"ticks\": \"\"}, \"colorscale\": [[0.0, \"#0d0887\"], [0.1111111111111111, \"#46039f\"], [0.2222222222222222, \"#7201a8\"], [0.3333333333333333, \"#9c179e\"], [0.4444444444444444, \"#bd3786\"], [0.5555555555555556, \"#d8576b\"], [0.6666666666666666, \"#ed7953\"], [0.7777777777777778, \"#fb9f3a\"], [0.8888888888888888, \"#fdca26\"], [1.0, \"#f0f921\"]], \"type\": \"surface\"}], \"table\": [{\"cells\": {\"fill\": {\"color\": \"#EBF0F8\"}, \"line\": {\"color\": \"white\"}}, \"header\": {\"fill\": {\"color\": \"#C8D4E3\"}, \"line\": {\"color\": \"white\"}}, \"type\": \"table\"}]}, \"layout\": {\"annotationdefaults\": {\"arrowcolor\": \"#2a3f5f\", \"arrowhead\": 0, \"arrowwidth\": 1}, \"coloraxis\": {\"colorbar\": {\"outlinewidth\": 0, \"ticks\": \"\"}}, \"colorscale\": {\"diverging\": [[0, \"#8e0152\"], [0.1, \"#c51b7d\"], [0.2, \"#de77ae\"], [0.3, \"#f1b6da\"], [0.4, \"#fde0ef\"], [0.5, \"#f7f7f7\"], [0.6, \"#e6f5d0\"], [0.7, \"#b8e186\"], [0.8, \"#7fbc41\"], [0.9, \"#4d9221\"], [1, \"#276419\"]], \"sequential\": [[0.0, \"#0d0887\"], [0.1111111111111111, \"#46039f\"], [0.2222222222222222, \"#7201a8\"], [0.3333333333333333, \"#9c179e\"], [0.4444444444444444, \"#bd3786\"], [0.5555555555555556, \"#d8576b\"], [0.6666666666666666, \"#ed7953\"], [0.7777777777777778, \"#fb9f3a\"], [0.8888888888888888, \"#fdca26\"], [1.0, \"#f0f921\"]], \"sequentialminus\": [[0.0, \"#0d0887\"], [0.1111111111111111, \"#46039f\"], [0.2222222222222222, \"#7201a8\"], [0.3333333333333333, \"#9c179e\"], [0.4444444444444444, \"#bd3786\"], [0.5555555555555556, \"#d8576b\"], [0.6666666666666666, \"#ed7953\"], [0.7777777777777778, \"#fb9f3a\"], [0.8888888888888888, \"#fdca26\"], [1.0, \"#f0f921\"]]}, \"colorway\": [\"#636efa\", \"#EF553B\", \"#00cc96\", \"#ab63fa\", \"#FFA15A\", \"#19d3f3\", \"#FF6692\", \"#B6E880\", \"#FF97FF\", \"#FECB52\"], \"font\": {\"color\": \"#2a3f5f\"}, \"geo\": {\"bgcolor\": \"white\", \"lakecolor\": \"white\", \"landcolor\": \"#E5ECF6\", \"showlakes\": true, \"showland\": true, \"subunitcolor\": \"white\"}, \"hoverlabel\": {\"align\": \"left\"}, \"hovermode\": \"closest\", \"mapbox\": {\"style\": \"light\"}, \"paper_bgcolor\": \"white\", \"plot_bgcolor\": \"#E5ECF6\", \"polar\": {\"angularaxis\": {\"gridcolor\": \"white\", \"linecolor\": \"white\", \"ticks\": \"\"}, \"bgcolor\": \"#E5ECF6\", \"radialaxis\": {\"gridcolor\": \"white\", \"linecolor\": \"white\", \"ticks\": \"\"}}, \"scene\": {\"xaxis\": {\"backgroundcolor\": \"#E5ECF6\", \"gridcolor\": \"white\", \"gridwidth\": 2, \"linecolor\": \"white\", \"showbackground\": true, \"ticks\": \"\", \"zerolinecolor\": \"white\"}, \"yaxis\": {\"backgroundcolor\": \"#E5ECF6\", \"gridcolor\": \"white\", \"gridwidth\": 2, \"linecolor\": \"white\", \"showbackground\": true, \"ticks\": \"\", \"zerolinecolor\": \"white\"}, \"zaxis\": {\"backgroundcolor\": \"#E5ECF6\", \"gridcolor\": \"white\", \"gridwidth\": 2, \"linecolor\": \"white\", \"showbackground\": true, \"ticks\": \"\", \"zerolinecolor\": \"white\"}}, \"shapedefaults\": {\"line\": {\"color\": \"#2a3f5f\"}}, \"ternary\": {\"aaxis\": {\"gridcolor\": \"white\", \"linecolor\": \"white\", \"ticks\": \"\"}, \"baxis\": {\"gridcolor\": \"white\", \"linecolor\": \"white\", \"ticks\": \"\"}, \"bgcolor\": \"#E5ECF6\", \"caxis\": {\"gridcolor\": \"white\", \"linecolor\": \"white\", \"ticks\": \"\"}}, \"title\": {\"x\": 0.05}, \"xaxis\": {\"automargin\": true, \"gridcolor\": \"white\", \"linecolor\": \"white\", \"ticks\": \"\", \"title\": {\"standoff\": 15}, \"zerolinecolor\": \"white\", \"zerolinewidth\": 2}, \"yaxis\": {\"automargin\": true, \"gridcolor\": \"white\", \"linecolor\": \"white\", \"ticks\": \"\", \"title\": {\"standoff\": 15}, \"zerolinecolor\": \"white\", \"zerolinewidth\": 2}}}},\n",
       "                        {\"responsive\": true}\n",
       "                    ).then(function(){\n",
       "                            \n",
       "var gd = document.getElementById('3b628148-a1cd-4b4e-8f40-b82aae15ee07');\n",
       "var x = new MutationObserver(function (mutations, observer) {{\n",
       "        var display = window.getComputedStyle(gd).display;\n",
       "        if (!display || display === 'none') {{\n",
       "            console.log([gd, 'removed!']);\n",
       "            Plotly.purge(gd);\n",
       "            observer.disconnect();\n",
       "        }}\n",
       "}});\n",
       "\n",
       "// Listen for the removal of the full notebook cells\n",
       "var notebookContainer = gd.closest('#notebook-container');\n",
       "if (notebookContainer) {{\n",
       "    x.observe(notebookContainer, {childList: true});\n",
       "}}\n",
       "\n",
       "// Listen for the clearing of the current output cell\n",
       "var outputEl = gd.closest('.output');\n",
       "if (outputEl) {{\n",
       "    x.observe(outputEl, {childList: true});\n",
       "}}\n",
       "\n",
       "                        })\n",
       "                };\n",
       "                });\n",
       "            </script>\n",
       "        </div>"
      ]
     },
     "metadata": {},
     "output_type": "display_data"
    }
   ],
   "source": [
    "local_l= genotype[:,(nan_pos-int(wind_sizes/2)):(nan_pos+int(wind_sizes/2))]\n",
    "#local_l= SequenceStore[1]['757862']\n",
    "coords= {z:[x for x in range(len(label_vector)) if label_vector[x] == z] for z in list(set(label_vector))}\n",
    "\n",
    "pca2 = PCA(n_components=ncomps, whiten=False,svd_solver='randomized')\n",
    "featl= pca2.fit_transform(local_l)\n",
    "\n",
    "figwl= [go.Scatter(\n",
    "    x= featl[coords[i],0],\n",
    "    y= featl[coords[i],1],\n",
    "    mode= 'markers',\n",
    "    name= str(i)\n",
    ") for i in coords.keys()]\n",
    "\n",
    "figwl.append(go.Scatter(\n",
    "    mode='markers',\n",
    "    x=[featl[nan_acc,0]],\n",
    "    y=[featl[nan_acc,1]],\n",
    "    marker=dict(\n",
    "        color='rgba(135, 206, 250, 0)',\n",
    "        size=25,\n",
    "        opacity= 1,\n",
    "        line=dict(\n",
    "            color='red',\n",
    "            width=5\n",
    "        )\n",
    "    ),\n",
    "    showlegend=False\n",
    "))\n",
    "\n",
    "layout= go.Layout()\n",
    "\n",
    "Figure_wl= go.Figure(data= figwl, layout= layout)\n",
    "\n",
    "iplot(Figure_wl)"
   ]
  },
  {
   "cell_type": "markdown",
   "metadata": {},
   "source": [
    "### ii. Cluster target.\n",
    "\n",
    "1. Identify clusters at local window. "
   ]
  },
  {
   "cell_type": "code",
   "execution_count": 57,
   "metadata": {},
   "outputs": [],
   "source": [
    "from structure_tools.MS_target_tools import (\n",
    "    clust_samp, comb_score\n",
    ")"
   ]
  },
  {
   "cell_type": "code",
   "execution_count": 58,
   "metadata": {},
   "outputs": [],
   "source": [
    "lb= 1e-2\n",
    "Bandwidth_split= 10\n",
    "pca_qtl= .3\n",
    "clov_pca= PCA(n_components=ncomps, whiten=False,svd_solver='randomized').fit(preProc_Clover)\n",
    "data_clov= clov_pca.transform(preProc_Clover)\n",
    "\n",
    "ref_gens, ref_stats= kde_gen_dict(data_clov,comp_label_keep,\n",
    "                    Bandwidth_split= Bandwidth_split)\n",
    "\n",
    "lclust_samp, lclust_gens, feat_seq= clust_samp(local_l, refs_lib,clov_pca, ref_gens, ref_stats,\n",
    "              ncomps= ncomps,clsize= clsize,Bandwidth_split= Bandwidth_split,\n",
    "                pca_qtl= pca_qtl, return_feats= True)"
   ]
  },
  {
   "cell_type": "markdown",
   "metadata": {},
   "source": [
    "2. Create coordinate grid."
   ]
  },
  {
   "cell_type": "code",
   "execution_count": 75,
   "metadata": {},
   "outputs": [],
   "source": [
    "from impute_tools.impute_tools import get_bg_grid\n",
    "\n",
    "P= 100\n",
    "dimN= 2\n",
    "expand= 3\n",
    "\n",
    "Quanted_set= np.array(featl) * expand\n",
    "\n",
    "background= get_bg_grid(Quanted_set, P= P, dimN= dimN)"
   ]
  },
  {
   "cell_type": "markdown",
   "metadata": {},
   "source": [
    "3. Likelihood by position and reference cluster."
   ]
  },
  {
   "cell_type": "code",
   "execution_count": 76,
   "metadata": {},
   "outputs": [],
   "source": [
    "\n",
    "##\n",
    "dists_gens= {z:D1_kdegen(g) for z,g in dists_dict.items() if z in lclust_samp.keys()}\n",
    "\n",
    "##\n",
    "\n",
    "select_missing= 3\n",
    "\n",
    "bg_scores= comb_score(background,lclust_samp= lclust_samp,dists_gens= dists_gens,\n",
    "                    select_missing= select_missing,dimN= dimN, metric= metric)"
   ]
  },
  {
   "cell_type": "markdown",
   "metadata": {},
   "source": [
    "4. Plot"
   ]
  },
  {
   "cell_type": "code",
   "execution_count": null,
   "metadata": {},
   "outputs": [],
   "source": [
    "bg_scof= np.sum(bg_scores,axis= 0)\n",
    "\n",
    "figwl= [go.Scatter(\n",
    "    mode='markers',\n",
    "    x=background[:,0],\n",
    "    y=background[:,1],\n",
    "    marker= {\n",
    "    'color':bg_scof,\n",
    "    'colorbar': go.scatter.marker.ColorBar(\n",
    "        title= 'likelihood',\n",
    "        yanchor=\"top\", y=0.3,\n",
    "        lenmode=\"pixels\", len=200,\n",
    "    ),\n",
    "    'colorscale':'Viridis',\n",
    "    'line': {'width': 0},\n",
    "    'size': 10,\n",
    "    'symbol': 'circle',\n",
    "  \"opacity\": .4\n",
    "  }\n",
    ")]\n",
    "\n",
    "figwl.extend([go.Scatter(\n",
    "    x= featl[coords[i],0],\n",
    "    y= featl[coords[i],1],\n",
    "    mode= 'markers',\n",
    "    name= str(i),\n",
    "    marker= {\n",
    "        'size': 8\n",
    "    }\n",
    ") for i in coords.keys()])\n",
    "\n",
    "\n",
    "layout= go.Layout(\n",
    "    xaxis= dict(title= 'PC1'),\n",
    "    yaxis= dict(title= 'PC2'),\n",
    "    height= 900,\n",
    "    width= 900\n",
    ")\n",
    "\n",
    "Figure_wl= go.Figure(data= figwl, layout= layout)\n",
    "\n",
    "iplot(Figure_wl)"
   ]
  },
  {
   "cell_type": "code",
   "execution_count": null,
   "metadata": {},
   "outputs": [],
   "source": []
  },
  {
   "cell_type": "code",
   "execution_count": 37,
   "metadata": {},
   "outputs": [
    {
     "ename": "NameError",
     "evalue": "name 'dist_ref' is not defined",
     "output_type": "error",
     "traceback": [
      "\u001b[1;31m---------------------------------------------------------------------------\u001b[0m",
      "\u001b[1;31mNameError\u001b[0m                                 Traceback (most recent call last)",
      "\u001b[1;32m<ipython-input-37-d8a86bc06023>\u001b[0m in \u001b[0;36m<module>\u001b[1;34m\u001b[0m\n\u001b[0;32m     26\u001b[0m \u001b[1;33m\u001b[0m\u001b[0m\n\u001b[0;32m     27\u001b[0m \u001b[1;33m\u001b[0m\u001b[0m\n\u001b[1;32m---> 28\u001b[1;33m granted, grid_likes= gridWalk(featl,dist_ref,BG_func, BG_args= BG_args, std_gp_use= std_gp_use,\n\u001b[0m\u001b[0;32m     29\u001b[0m             \u001b[0mP\u001b[0m\u001b[1;33m=\u001b[0m \u001b[0mP\u001b[0m\u001b[1;33m,\u001b[0m\u001b[1;33m\u001b[0m\u001b[1;33m\u001b[0m\u001b[0m\n\u001b[0;32m     30\u001b[0m             \u001b[0mdimN\u001b[0m\u001b[1;33m=\u001b[0m \u001b[0mdimN\u001b[0m\u001b[1;33m,\u001b[0m\u001b[1;33m\u001b[0m\u001b[1;33m\u001b[0m\u001b[0m\n",
      "\u001b[1;31mNameError\u001b[0m: name 'dist_ref' is not defined"
     ]
    }
   ],
   "source": [
    "from impute_tools.impute_tools import (\n",
    "    nBg_MS, nBg_grid,\n",
    "    gridWalk\n",
    ")\n",
    "\n",
    "\n",
    "P= 20\n",
    "dimN= 2\n",
    "N_samps= P**dimN\n",
    "dist_comps= 10\n",
    "Bandwidth_split = 30\n",
    "kernel= 'gaussian'\n",
    "\n",
    "\n",
    "\n",
    "select_missing= 0\n",
    "\n",
    "BG_func= comb_score\n",
    "BG_args= {\n",
    "    'lclust_samp': lclust_samp,\n",
    "    'dists_gens': dists_gens,\n",
    "    'select_missing': 0,\n",
    "    'dimN': dimN, \n",
    "    'metric': metric\n",
    "}\n",
    "\n",
    "\n",
    "granted, grid_likes= gridWalk(featl,dist_ref,BG_func, BG_args= BG_args, std_gp_use= std_gp_use,\n",
    "            P= P,\n",
    "            dimN= dimN,\n",
    "            N_samps= N_samps,\n",
    "            dist_comps= dist_comps,\n",
    "            Bandwidth_split = Bandwidth_split,\n",
    "            metric= metric,\n",
    "            kernel= kernel)\n"
   ]
  },
  {
   "cell_type": "code",
   "execution_count": null,
   "metadata": {},
   "outputs": [],
   "source": [
    "from plotly import tools\n",
    "\n",
    "title= 'coords'\n",
    "fig_subplots = tools.make_subplots(rows=1, cols=2,subplot_titles=tuple([title]*2))\n",
    "\n",
    "for trace in figwl:\n",
    "    fig_subplots.append_trace(trace, 1, 1)\n",
    "    \n",
    "\n",
    "trace= go.Scatter(\n",
    "    x= granted[:,0],\n",
    "    y= granted[:,1],\n",
    "    #z= grid_likes,\n",
    "    mode= 'markers',\n",
    "    marker= {\n",
    "        'color':grid_likes,\n",
    "        'colorbar': go.scatter.marker.ColorBar(\n",
    "            title= 'ColorBar'\n",
    "        ),\n",
    "        'colorscale':'Viridis',\n",
    "        'line': {'width': 0},\n",
    "        'size': 5,\n",
    "        'symbol': 'circle',\n",
    "      \"opacity\": 1\n",
    "      }\n",
    ")\n",
    "\n",
    "fig_subplots.append_trace(trace, 1,2)\n",
    "\n",
    "iplot(fig_subplots)"
   ]
  }
 ],
 "metadata": {
  "kernelspec": {
   "display_name": "Python 3",
   "language": "python",
   "name": "python3"
  },
  "language_info": {
   "codemirror_mode": {
    "name": "ipython",
    "version": 3
   },
   "file_extension": ".py",
   "mimetype": "text/x-python",
   "name": "python",
   "nbconvert_exporter": "python",
   "pygments_lexer": "ipython3",
   "version": "3.7.3"
  }
 },
 "nbformat": 4,
 "nbformat_minor": 2
}
