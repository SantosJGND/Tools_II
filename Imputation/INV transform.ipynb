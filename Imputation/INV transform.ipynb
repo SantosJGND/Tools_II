{
 "cells": [
  {
   "cell_type": "code",
   "execution_count": 1,
   "metadata": {},
   "outputs": [
    {
     "data": {
      "text/html": [
       "        <script type=\"text/javascript\">\n",
       "        window.PlotlyConfig = {MathJaxConfig: 'local'};\n",
       "        if (window.MathJax) {MathJax.Hub.Config({SVG: {font: \"STIX-Web\"}});}\n",
       "        if (typeof require !== 'undefined') {\n",
       "        require.undef(\"plotly\");\n",
       "        requirejs.config({\n",
       "            paths: {\n",
       "                'plotly': ['https://cdn.plot.ly/plotly-latest.min']\n",
       "            }\n",
       "        });\n",
       "        require(['plotly'], function(Plotly) {\n",
       "            window._Plotly = Plotly;\n",
       "        });\n",
       "        }\n",
       "        </script>\n",
       "        "
      ]
     },
     "metadata": {},
     "output_type": "display_data"
    }
   ],
   "source": [
    "import scipy\n",
    "import numpy as np\n",
    "from sklearn.neighbors import KernelDensity\n",
    "from sklearn.decomposition import PCA\n",
    "from sklearn.model_selection import GridSearchCV\n",
    "from sklearn.cluster import estimate_bandwidth\n",
    "from sklearn.cluster import MeanShift, estimate_bandwidth\n",
    "\n",
    "import pandas as pd\n",
    "\n",
    "from scipy import stats\n",
    "from scipy.stats import beta\n",
    "from math import sin\n",
    "from random import randint\n",
    "from IPython.display import clear_output\n",
    "import matplotlib.pyplot as plt\n",
    "import itertools as it\n",
    "\n",
    "import plotly\n",
    "import plotly.graph_objs as go\n",
    "from plotly.offline import download_plotlyjs, init_notebook_mode, plot, iplot\n",
    "\n",
    "from ipywidgets import interact, interactive, fixed, interact_manual\n",
    "import ipywidgets as widgets\n",
    "init_notebook_mode(connected=True)\n",
    "\n",
    "import collections\n",
    "\n",
    "def recursively_default_dict():\n",
    "        return collections.defaultdict(recursively_default_dict)\n",
    "\n",
    "from matplotlib.collections import BrokenBarHCollection\n",
    "import re\n",
    "\n",
    "from structure_tools.Modules_tools import return_fsts\n",
    "\n",
    "PCA_color_ref= ['darkseagreen','crimson', 'darkorange', 'darkblue', 'darkcyan',\n",
    "            'darkgoldenrod', 'darkgray', 'darkgrey', 'darkgreen',\n",
    "            'darkkhaki', 'darkmagenta', 'darkolivegreen', 'darkorange',\n",
    "            'darkorchid', 'darkred', 'darksalmon', 'darkseagreen',\n",
    "            'darkslateblue', 'darkslategray', 'darkslategrey',\n",
    "            'darkturquoise', 'darkviolet', 'deeppink']"
   ]
  },
  {
   "cell_type": "markdown",
   "metadata": {},
   "source": [
    "## PCA inverse transformation.\n",
    "\n",
    "Principal component analysis (PCA) is an extremely useful tool in population genetics. Indeed in any study to require\n",
    "a summary of sample covariance. In population genetics the variance between populations is informative of the evolutionary \n",
    "history captured in a given data sets. In conditions of pure diffusion a direct relationship can even be found between divergence, as measured in coalescent time or Fst. \n",
    "\n",
    "The possibility of working in an euclidean space also opens the door for density based methods.\n",
    "\n",
    "Another interesting side to PC transformation is the possibility of inverse transformation to obtain a raw data from feature space coordinates. \n",
    "\n",
    "However, it is likely that the accuracy of inverse transformation depends not only on the information retained during transformation but the information present in the data set itself.\n",
    "\n",
    "Before we incorporate PCA inverse transformation in our analyses, its limits must be understood. \n",
    "\n",
    "In this notebook we will study the accuracy of inverse transformation in reproducing raw SNP data. \n",
    "\n"
   ]
  },
  {
   "cell_type": "markdown",
   "metadata": {},
   "source": [
    "### vcf Data\n",
    "\n",
    "Jupyter notebook for the local analysis of genetic data stored in .vcf format.\n",
    "\n",
    "Perform analysis of structure across data set, followed by a more detailed study of variation across local genomic windows.\n",
    "\n",
    "#### Input"
   ]
  },
  {
   "cell_type": "code",
   "execution_count": 2,
   "metadata": {},
   "outputs": [
    {
     "name": "stdout",
     "output_type": "stream",
     "text": [
      "Number of markers: 40000\n",
      "Number of individuals: 130\n"
     ]
    }
   ],
   "source": [
    "from structure_tools.vcf_geno_tools import simple_read_vcf\n",
    "\n",
    "vcf_file= 'data_cleanRefs_simple_Admx.vcf'\n",
    "\n",
    "genotype, summary, info_save= simple_read_vcf(vcf_file,row_info= 5,header_info= 9,phased= True)\n",
    "\n",
    "print('Number of markers: {}'.format(genotype.shape[1]))\n",
    "print('Number of individuals: {}'.format(genotype.shape[0]))"
   ]
  },
  {
   "cell_type": "code",
   "execution_count": 3,
   "metadata": {},
   "outputs": [
    {
     "data": {
      "text/html": [
       "<div>\n",
       "<style scoped>\n",
       "    .dataframe tbody tr th:only-of-type {\n",
       "        vertical-align: middle;\n",
       "    }\n",
       "\n",
       "    .dataframe tbody tr th {\n",
       "        vertical-align: top;\n",
       "    }\n",
       "\n",
       "    .dataframe thead th {\n",
       "        text-align: right;\n",
       "    }\n",
       "</style>\n",
       "<table border=\"1\" class=\"dataframe\">\n",
       "  <thead>\n",
       "    <tr style=\"text-align: right;\">\n",
       "      <th></th>\n",
       "      <th>CHROM</th>\n",
       "      <th>POS</th>\n",
       "      <th>ID</th>\n",
       "      <th>REF</th>\n",
       "      <th>ALT</th>\n",
       "      <th>QUAL</th>\n",
       "      <th>FILTER</th>\n",
       "      <th>INFO</th>\n",
       "      <th>FORMAT</th>\n",
       "    </tr>\n",
       "  </thead>\n",
       "  <tbody>\n",
       "    <tr>\n",
       "      <th>0</th>\n",
       "      <td>1</td>\n",
       "      <td>8</td>\n",
       "      <td>1</td>\n",
       "      <td>A</td>\n",
       "      <td>T</td>\n",
       "      <td>.</td>\n",
       "      <td>PASS</td>\n",
       "      <td>.</td>\n",
       "      <td>GT:AD:DP</td>\n",
       "    </tr>\n",
       "    <tr>\n",
       "      <th>1</th>\n",
       "      <td>1</td>\n",
       "      <td>33</td>\n",
       "      <td>2</td>\n",
       "      <td>A</td>\n",
       "      <td>T</td>\n",
       "      <td>.</td>\n",
       "      <td>PASS</td>\n",
       "      <td>.</td>\n",
       "      <td>GT:AD:DP</td>\n",
       "    </tr>\n",
       "    <tr>\n",
       "      <th>2</th>\n",
       "      <td>1</td>\n",
       "      <td>74</td>\n",
       "      <td>3</td>\n",
       "      <td>A</td>\n",
       "      <td>T</td>\n",
       "      <td>.</td>\n",
       "      <td>PASS</td>\n",
       "      <td>.</td>\n",
       "      <td>GT:AD:DP</td>\n",
       "    </tr>\n",
       "    <tr>\n",
       "      <th>3</th>\n",
       "      <td>1</td>\n",
       "      <td>83</td>\n",
       "      <td>4</td>\n",
       "      <td>A</td>\n",
       "      <td>T</td>\n",
       "      <td>.</td>\n",
       "      <td>PASS</td>\n",
       "      <td>.</td>\n",
       "      <td>GT:AD:DP</td>\n",
       "    </tr>\n",
       "    <tr>\n",
       "      <th>4</th>\n",
       "      <td>1</td>\n",
       "      <td>87</td>\n",
       "      <td>5</td>\n",
       "      <td>A</td>\n",
       "      <td>T</td>\n",
       "      <td>.</td>\n",
       "      <td>PASS</td>\n",
       "      <td>.</td>\n",
       "      <td>GT:AD:DP</td>\n",
       "    </tr>\n",
       "  </tbody>\n",
       "</table>\n",
       "</div>"
      ],
      "text/plain": [
       "  CHROM POS ID REF ALT QUAL FILTER INFO    FORMAT\n",
       "0     1   8  1   A   T    .   PASS    .  GT:AD:DP\n",
       "1     1  33  2   A   T    .   PASS    .  GT:AD:DP\n",
       "2     1  74  3   A   T    .   PASS    .  GT:AD:DP\n",
       "3     1  83  4   A   T    .   PASS    .  GT:AD:DP\n",
       "4     1  87  5   A   T    .   PASS    .  GT:AD:DP"
      ]
     },
     "execution_count": 3,
     "metadata": {},
     "output_type": "execute_result"
    }
   ],
   "source": [
    "summary.head()"
   ]
  },
  {
   "cell_type": "markdown",
   "metadata": {},
   "source": [
    "### Global variation\n",
    "\n",
    "Perform PCA across data set.\n",
    "\n",
    "Perform Mean shift clustering to attempt to extract genetically coherent groups of accessions.\n",
    "\n",
    "These will later be used for supervised analysis."
   ]
  },
  {
   "cell_type": "code",
   "execution_count": 4,
   "metadata": {},
   "outputs": [],
   "source": [
    "\n",
    "## Perform PCA\n",
    "n_comp= 3\n",
    "pca = PCA(n_components=n_comp, whiten=False,svd_solver='randomized')\n",
    "\n",
    "feats= pca.fit_transform(genotype)"
   ]
  },
  {
   "cell_type": "code",
   "execution_count": 5,
   "metadata": {},
   "outputs": [],
   "source": [
    "## perform MeanShift clustering.\n",
    "bandwidth = estimate_bandwidth(feats, quantile=0.1)\n",
    "\n",
    "ms = MeanShift(bandwidth=bandwidth, bin_seeding=False, cluster_all=True, min_bin_freq=45)\n",
    "ms.fit(feats)\n",
    "labels1 = ms.labels_\n",
    "label_select = {y:[x for x in range(len(labels1)) if labels1[x] == y] for y in sorted(list(set(labels1)))}\n",
    "###"
   ]
  },
  {
   "cell_type": "code",
   "execution_count": 7,
   "metadata": {},
   "outputs": [
    {
     "data": {
      "application/vnd.plotly.v1+json": {
       "config": {
        "linkText": "Export to plot.ly",
        "plotlyServerURL": "https://plot.ly",
        "showLink": false
       },
       "data": [
        {
         "marker": {
          "color": "darkseagreen",
          "line": {
           "width": 0
          },
          "opacity": 0.8,
          "size": 6,
          "symbol": "circle"
         },
         "mode": "markers",
         "name": "0",
         "type": "scatter",
         "x": [
          68.46982881876816,
          67.72909589029979,
          67.49967217547807,
          66.79416045959205,
          66.15222349712367,
          69.38764360603986,
          68.77342020502775,
          68.01622649332171,
          67.82832276180046,
          67.98258543337928,
          67.98952654994109,
          66.07245334690487,
          67.49916072121906,
          67.87421028430916,
          67.69820548845765,
          67.35545740715368,
          66.96127748634714,
          67.3130358355989,
          67.59533062094437,
          67.89973699909854,
          67.26773501710149,
          68.38060104146174,
          67.49850987475959,
          65.68590826324504,
          67.76796519521318,
          67.85563447245396,
          67.78622918543896,
          68.28531641042461,
          67.16063270926631,
          67.1826598425458,
          68.03080945801032,
          67.80150164466843,
          66.27307670568945,
          67.3259444589443,
          68.13437085424027,
          67.78090535548236,
          67.64473674639848,
          66.7872130154972,
          66.73804954868386,
          66.1264435376626
         ],
         "xaxis": "x",
         "y": [
          -4.358166027038866,
          -3.303632570614351,
          -4.977942267569052,
          -3.033940682157407,
          -3.3070937903267867,
          -4.348765945860878,
          -4.075206468270485,
          -4.759651341205573,
          -4.232897682663383,
          -4.210811442783976,
          -5.099161198792146,
          -4.542631658338221,
          -4.361392513590393,
          -4.005598306375619,
          -4.261687752011768,
          -3.204187683880966,
          -4.148337604818169,
          -3.59208457085478,
          -4.098869697331624,
          -4.973851562491033,
          -3.6634693788393142,
          -5.1868449357722115,
          -3.3174453064676364,
          -4.237908106969235,
          -4.8367267021584155,
          -4.036835781833759,
          -3.767710452053526,
          -4.1041061588268875,
          -3.7009150805288806,
          -3.5718869189067046,
          -3.698829988459409,
          -3.21130955472403,
          -3.905153457548595,
          -4.2928779002093185,
          -3.105882478426216,
          -5.067682650601185,
          -4.166904061325934,
          -3.800654129429458,
          -3.7585094480305936,
          -3.8300050591532613
         ],
         "yaxis": "y"
        },
        {
         "marker": {
          "color": "crimson",
          "line": {
           "width": 0
          },
          "opacity": 0.8,
          "size": 6,
          "symbol": "circle"
         },
         "mode": "markers",
         "name": "1",
         "type": "scatter",
         "x": [
          -47.553162142099154,
          -47.41807950946438,
          -45.80763733831287,
          -47.31261648215796,
          -46.572427539991224,
          -46.1634684361555,
          -47.11138770036211,
          -46.160773462880215,
          -47.563885619936215,
          -45.63560633412793,
          -46.24563798138448,
          -45.89345245770156,
          -45.5749443679924,
          -47.01250266698314,
          -47.92706193128128,
          -45.05991293016692,
          -47.68165644948634,
          -47.58567843865139,
          -47.94735468728898,
          -46.37352324620302,
          -46.07739756606126,
          -47.58691758331124,
          -47.49749119472561,
          -47.110433575160634,
          -48.04683056428008,
          -47.83720883623425,
          -47.45064329670419,
          -46.56832659685612,
          -47.37230670411381,
          -47.215413493003204,
          -46.61955755158663,
          -47.54684704043222,
          -47.44668057227666,
          -45.8844131799203,
          -48.93938010386311,
          -45.85421609419978,
          -46.9020545845746,
          -47.9555201179052,
          -47.01085909296765,
          -47.26693141782437,
          -43.540131544201245,
          -35.6063819908888
         ],
         "xaxis": "x",
         "y": [
          -25.12679934449873,
          -25.065960092887213,
          -25.67477943210739,
          -25.619099701116216,
          -25.147170403488133,
          -26.72587556489306,
          -25.68558119692852,
          -26.022795317107708,
          -25.93216557264302,
          -25.37210815208674,
          -25.39295737399716,
          -24.892246633879594,
          -24.90361019609666,
          -26.11655190730355,
          -25.142977353522845,
          -24.91089889173915,
          -24.487372515573437,
          -25.17115138946469,
          -25.64525171954521,
          -24.66693554207066,
          -26.19673002779123,
          -26.306084993759043,
          -24.823636430350724,
          -25.37242480399776,
          -26.434524984279335,
          -26.238707112843187,
          -24.092668223471694,
          -25.00359023452269,
          -25.31010220666672,
          -24.520081225246386,
          -26.00230403231236,
          -22.71736072508774,
          -24.627835101247694,
          -23.869929736424705,
          -23.347910805127306,
          -25.199607226289455,
          -25.095976485768528,
          -25.482903883760084,
          -24.71848322911545,
          -27.098294083678592,
          -19.92317590231074,
          -19.61062754587792
         ],
         "yaxis": "y"
        },
        {
         "marker": {
          "color": "darkorange",
          "line": {
           "width": 0
          },
          "opacity": 0.8,
          "size": 6,
          "symbol": "circle"
         },
         "mode": "markers",
         "name": "2",
         "type": "scatter",
         "x": [
          -28.615928983185746,
          -29.513710547469195,
          -28.637312236492516,
          -28.936476017875464,
          -29.421121422473853,
          -28.784350516357847,
          -28.947502257776684,
          -28.404152860617955,
          -29.331536181249167,
          -28.55125297816667,
          -29.32406956983899,
          -28.688872716089325,
          -29.263997858184947,
          -29.97513354298642,
          -28.315371316456368,
          -30.996318603804195,
          -29.69458428198563,
          -29.550164744022588,
          -29.205368247356805,
          -29.1013765865577
         ],
         "xaxis": "x",
         "y": [
          67.09137931446291,
          68.70588790861358,
          67.89869467675621,
          68.59843618731504,
          68.62374633504909,
          67.89727545408806,
          68.71387641624032,
          68.11046712035927,
          67.98345929550722,
          68.65514701784144,
          67.77188528901861,
          67.965580577194,
          68.97971226738566,
          69.2806155363983,
          67.64341100585604,
          68.60652846458046,
          68.38612853899775,
          69.57200704244475,
          68.06570409940039,
          69.04815286564936
         ],
         "yaxis": "y"
        },
        {
         "marker": {
          "color": "darkblue",
          "line": {
           "width": 0
          },
          "opacity": 0.8,
          "size": 6,
          "symbol": "circle"
         },
         "mode": "markers",
         "name": "3",
         "type": "scatter",
         "x": [
          -16.698025006505233,
          -19.38014528198886,
          -21.19767137680897,
          -28.572173359248765,
          -25.839130791210636
         ],
         "xaxis": "x",
         "y": [
          -19.51215261502388,
          -16.930785483879458,
          -21.45059470606216,
          -22.589941669961927,
          -20.629372155805
         ],
         "yaxis": "y"
        },
        {
         "marker": {
          "color": "darkcyan",
          "line": {
           "width": 0
          },
          "opacity": 0.8,
          "size": 6,
          "symbol": "circle"
         },
         "mode": "markers",
         "name": "4",
         "type": "scatter",
         "x": [
          -0.0797353027866913,
          -3.1785338558881095,
          -1.3143198648568928
         ],
         "xaxis": "x",
         "y": [
          21.223317958261223,
          19.91517394726006,
          11.923169696255009
         ],
         "yaxis": "y"
        },
        {
         "marker": {
          "color": "darkgoldenrod",
          "line": {
           "width": 0
          },
          "opacity": 0.8,
          "size": 6,
          "symbol": "circle"
         },
         "mode": "markers",
         "name": "5",
         "type": "scatter",
         "x": [
          -8.270734331736056,
          -11.360404649912958,
          -7.393359630939424
         ],
         "xaxis": "x",
         "y": [
          5.420951000554064,
          10.833885998622726,
          4.937330883566203
         ],
         "yaxis": "y"
        },
        {
         "marker": {
          "color": "darkgray",
          "line": {
           "width": 0
          },
          "opacity": 0.8,
          "size": 6,
          "symbol": "circle"
         },
         "mode": "markers",
         "name": "6",
         "type": "scatter",
         "x": [
          -30.53889862497654,
          -35.167017162476505,
          -31.872614097109818,
          -33.763197343319256
         ],
         "xaxis": "x",
         "y": [
          -8.222960928467742,
          -1.8998084722408133,
          -0.1903360473343194,
          -5.293086403016713
         ],
         "yaxis": "y"
        },
        {
         "marker": {
          "color": "darkgrey",
          "line": {
           "width": 0
          },
          "opacity": 0.8,
          "size": 6,
          "symbol": "circle"
         },
         "mode": "markers",
         "name": "7",
         "type": "scatter",
         "x": [
          55.03441667248974,
          45.59047908089763
         ],
         "xaxis": "x",
         "y": [
          -3.6539902354481244,
          -5.894863617796486
         ],
         "yaxis": "y"
        },
        {
         "marker": {
          "color": "darkgreen",
          "line": {
           "width": 0
          },
          "opacity": 0.8,
          "size": 6,
          "symbol": "circle"
         },
         "mode": "markers",
         "name": "8",
         "type": "scatter",
         "x": [
          7.0593524571297195,
          7.346794112658103
         ],
         "xaxis": "x",
         "y": [
          -9.916324286711387,
          -8.337805216292068
         ],
         "yaxis": "y"
        },
        {
         "marker": {
          "color": "darkkhaki",
          "line": {
           "width": 0
          },
          "opacity": 0.8,
          "size": 6,
          "symbol": "circle"
         },
         "mode": "markers",
         "name": "9",
         "type": "scatter",
         "x": [
          -19.87906082751326,
          -19.65290103537729
         ],
         "xaxis": "x",
         "y": [
          -5.656077225637859,
          -3.9638384606537485
         ],
         "yaxis": "y"
        },
        {
         "marker": {
          "color": "darkmagenta",
          "line": {
           "width": 0
          },
          "opacity": 0.8,
          "size": 6,
          "symbol": "circle"
         },
         "mode": "markers",
         "name": "10",
         "type": "scatter",
         "x": [
          22.554380578156046
         ],
         "xaxis": "x",
         "y": [
          -8.469710297132986
         ],
         "yaxis": "y"
        },
        {
         "marker": {
          "color": "darkolivegreen",
          "line": {
           "width": 0
          },
          "opacity": 0.8,
          "size": 6,
          "symbol": "circle"
         },
         "mode": "markers",
         "name": "11",
         "type": "scatter",
         "x": [
          17.443204895904515
         ],
         "xaxis": "x",
         "y": [
          -13.527396556920234
         ],
         "yaxis": "y"
        },
        {
         "marker": {
          "color": "darkorange",
          "line": {
           "width": 0
          },
          "opacity": 0.8,
          "size": 6,
          "symbol": "circle"
         },
         "mode": "markers",
         "name": "12",
         "type": "scatter",
         "x": [
          15.624952076199788
         ],
         "xaxis": "x",
         "y": [
          -7.38780372238114
         ],
         "yaxis": "y"
        },
        {
         "marker": {
          "color": "darkorchid",
          "line": {
           "width": 0
          },
          "opacity": 0.8,
          "size": 6,
          "symbol": "circle"
         },
         "mode": "markers",
         "name": "13",
         "type": "scatter",
         "x": [
          6.033188845395303
         ],
         "xaxis": "x",
         "y": [
          -11.049597028451192
         ],
         "yaxis": "y"
        },
        {
         "marker": {
          "color": "darkred",
          "line": {
           "width": 0
          },
          "opacity": 0.8,
          "size": 6,
          "symbol": "circle"
         },
         "mode": "markers",
         "name": "14",
         "type": "scatter",
         "x": [
          1.0402578717980047
         ],
         "xaxis": "x",
         "y": [
          -3.2367926167248258
         ],
         "yaxis": "y"
        },
        {
         "marker": {
          "color": "darksalmon",
          "line": {
           "width": 0
          },
          "opacity": 0.8,
          "size": 6,
          "symbol": "circle"
         },
         "mode": "markers",
         "name": "15",
         "type": "scatter",
         "x": [
          -5.008209485916363
         ],
         "xaxis": "x",
         "y": [
          -17.62060585758793
         ],
         "yaxis": "y"
        },
        {
         "marker": {
          "color": "darkseagreen",
          "line": {
           "width": 0
          },
          "opacity": 0.8,
          "size": 6,
          "symbol": "circle"
         },
         "mode": "markers",
         "name": "16",
         "type": "scatter",
         "x": [
          -17.771398087384394
         ],
         "xaxis": "x",
         "y": [
          -14.565265676028918
         ],
         "yaxis": "y"
        },
        {
         "marker": {
          "color": "darkseagreen",
          "line": {
           "width": 0
          },
          "opacity": 0.8,
          "size": 6,
          "symbol": "circle"
         },
         "mode": "markers",
         "name": "0",
         "type": "scatter",
         "x": [
          68.46982881876816,
          67.72909589029979,
          67.49967217547807,
          66.79416045959205,
          66.15222349712367,
          69.38764360603986,
          68.77342020502775,
          68.01622649332171,
          67.82832276180046,
          67.98258543337928,
          67.98952654994109,
          66.07245334690487,
          67.49916072121906,
          67.87421028430916,
          67.69820548845765,
          67.35545740715368,
          66.96127748634714,
          67.3130358355989,
          67.59533062094437,
          67.89973699909854,
          67.26773501710149,
          68.38060104146174,
          67.49850987475959,
          65.68590826324504,
          67.76796519521318,
          67.85563447245396,
          67.78622918543896,
          68.28531641042461,
          67.16063270926631,
          67.1826598425458,
          68.03080945801032,
          67.80150164466843,
          66.27307670568945,
          67.3259444589443,
          68.13437085424027,
          67.78090535548236,
          67.64473674639848,
          66.7872130154972,
          66.73804954868386,
          66.1264435376626
         ],
         "xaxis": "x2",
         "y": [
          -5.095821717584727,
          -6.062422135156563,
          -4.981303562073579,
          -4.5465527722584795,
          -6.0089826544163865,
          -6.849043493701235,
          -5.225180009319429,
          -5.647776968136323,
          -5.799547275068615,
          -6.171129918369063,
          -5.760575640120385,
          -4.563036382748996,
          -4.488363826847103,
          -6.001683260871862,
          -5.5934409089560315,
          -5.93171156219973,
          -6.190017428951411,
          -5.912944713949507,
          -4.9401069024219835,
          -5.658494526807533,
          -5.40028306236553,
          -5.188005248624042,
          -6.006371311262802,
          -5.338510617367788,
          -5.907549804579122,
          -5.602011981547476,
          -5.0320277901213455,
          -5.380585680200006,
          -5.603250496812107,
          -4.492950299985865,
          -5.371573781935155,
          -5.090184827333201,
          -6.420847888508626,
          -5.55739284981803,
          -6.0458446117326226,
          -5.499345718961426,
          -5.735374158757453,
          -5.9359336492541654,
          -5.1687930258200145,
          -4.518361791299402
         ],
         "yaxis": "y2"
        },
        {
         "marker": {
          "color": "crimson",
          "line": {
           "width": 0
          },
          "opacity": 0.8,
          "size": 6,
          "symbol": "circle"
         },
         "mode": "markers",
         "name": "1",
         "type": "scatter",
         "x": [
          -47.553162142099154,
          -47.41807950946438,
          -45.80763733831287,
          -47.31261648215796,
          -46.572427539991224,
          -46.1634684361555,
          -47.11138770036211,
          -46.160773462880215,
          -47.563885619936215,
          -45.63560633412793,
          -46.24563798138448,
          -45.89345245770156,
          -45.5749443679924,
          -47.01250266698314,
          -47.92706193128128,
          -45.05991293016692,
          -47.68165644948634,
          -47.58567843865139,
          -47.94735468728898,
          -46.37352324620302,
          -46.07739756606126,
          -47.58691758331124,
          -47.49749119472561,
          -47.110433575160634,
          -48.04683056428008,
          -47.83720883623425,
          -47.45064329670419,
          -46.56832659685612,
          -47.37230670411381,
          -47.215413493003204,
          -46.61955755158663,
          -47.54684704043222,
          -47.44668057227666,
          -45.8844131799203,
          -48.93938010386311,
          -45.85421609419978,
          -46.9020545845746,
          -47.9555201179052,
          -47.01085909296765,
          -47.26693141782437,
          -43.540131544201245,
          -35.6063819908888
         ],
         "xaxis": "x2",
         "y": [
          -8.083720122610035,
          -8.24851171666164,
          -6.339545732498304,
          -7.900543339103622,
          -9.13196875473256,
          -8.398906602350829,
          -7.564803499511562,
          -6.2824793842041755,
          -8.022584902181212,
          -7.747751309307113,
          -6.224565549123488,
          -6.616597703388347,
          -6.293317423169925,
          -6.831047023268637,
          -6.851904473923364,
          -9.770088537748975,
          -6.362495062586628,
          -8.322011807412911,
          -8.674237273358514,
          -7.830367383450644,
          -6.572439502075037,
          -7.1014703950212965,
          -8.069258971837497,
          -7.849958725392544,
          -6.541390452066,
          -6.160505645210836,
          -6.924986270004833,
          -10.428803557546923,
          -8.21575754496845,
          -6.551783725347411,
          -7.623149627654309,
          -8.500411332107657,
          -6.815545273811734,
          -7.240326463338431,
          -7.61618988998667,
          -7.757154143869978,
          -7.4243786840391515,
          -5.819605195984093,
          -6.7788367300324595,
          -6.007758176899358,
          1.1335049536202317,
          -9.444808192112955
         ],
         "yaxis": "y2"
        },
        {
         "marker": {
          "color": "darkorange",
          "line": {
           "width": 0
          },
          "opacity": 0.8,
          "size": 6,
          "symbol": "circle"
         },
         "mode": "markers",
         "name": "2",
         "type": "scatter",
         "x": [
          -28.615928983185746,
          -29.513710547469195,
          -28.637312236492516,
          -28.936476017875464,
          -29.421121422473853,
          -28.784350516357847,
          -28.947502257776684,
          -28.404152860617955,
          -29.331536181249167,
          -28.55125297816667,
          -29.32406956983899,
          -28.688872716089325,
          -29.263997858184947,
          -29.97513354298642,
          -28.315371316456368,
          -30.996318603804195,
          -29.69458428198563,
          -29.550164744022588,
          -29.205368247356805,
          -29.1013765865577
         ],
         "xaxis": "x2",
         "y": [
          -11.800913547836398,
          -9.903886683868256,
          -9.7714667254914,
          -10.033184584536366,
          -9.516666721855374,
          -10.930071511369544,
          -9.810223924630314,
          -11.721177376187928,
          -11.324503970658137,
          -12.700897048962249,
          -10.520425814738356,
          -10.037759581876077,
          -10.057325068389247,
          -10.543742100835768,
          -11.064608918635384,
          -9.837665789837711,
          -10.174043055675217,
          -8.48610272187913,
          -11.446457560697954,
          -10.514488623066915
         ],
         "yaxis": "y2"
        },
        {
         "marker": {
          "color": "darkblue",
          "line": {
           "width": 0
          },
          "opacity": 0.8,
          "size": 6,
          "symbol": "circle"
         },
         "mode": "markers",
         "name": "3",
         "type": "scatter",
         "x": [
          -16.698025006505233,
          -19.38014528198886,
          -21.19767137680897,
          -28.572173359248765,
          -25.839130791210636
         ],
         "xaxis": "x2",
         "y": [
          -9.474772663576783,
          -8.615839690073829,
          -8.771028245525782,
          -5.816853479211623,
          -9.475198920247946
         ],
         "yaxis": "y2"
        },
        {
         "marker": {
          "color": "darkcyan",
          "line": {
           "width": 0
          },
          "opacity": 0.8,
          "size": 6,
          "symbol": "circle"
         },
         "mode": "markers",
         "name": "4",
         "type": "scatter",
         "x": [
          -0.0797353027866913,
          -3.1785338558881095,
          -1.3143198648568928
         ],
         "xaxis": "x2",
         "y": [
          92.53975061982337,
          84.1859179270664,
          94.17928682456994
         ],
         "yaxis": "y2"
        },
        {
         "marker": {
          "color": "darkgoldenrod",
          "line": {
           "width": 0
          },
          "opacity": 0.8,
          "size": 6,
          "symbol": "circle"
         },
         "mode": "markers",
         "name": "5",
         "type": "scatter",
         "x": [
          -8.270734331736056,
          -11.360404649912958,
          -7.393359630939424
         ],
         "xaxis": "x2",
         "y": [
          80.2882145947705,
          73.12544504868234,
          76.49406988203377
         ],
         "yaxis": "y2"
        },
        {
         "marker": {
          "color": "darkgray",
          "line": {
           "width": 0
          },
          "opacity": 0.8,
          "size": 6,
          "symbol": "circle"
         },
         "mode": "markers",
         "name": "6",
         "type": "scatter",
         "x": [
          -30.53889862497654,
          -35.167017162476505,
          -31.872614097109818,
          -33.763197343319256
         ],
         "xaxis": "x2",
         "y": [
          29.42380167417402,
          13.63839521931573,
          14.590248895140101,
          21.928767733337175
         ],
         "yaxis": "y2"
        },
        {
         "marker": {
          "color": "darkgrey",
          "line": {
           "width": 0
          },
          "opacity": 0.8,
          "size": 6,
          "symbol": "circle"
         },
         "mode": "markers",
         "name": "7",
         "type": "scatter",
         "x": [
          55.03441667248974,
          45.59047908089763
         ],
         "xaxis": "x2",
         "y": [
          3.5668628374121196,
          0.6379043765928998
         ],
         "yaxis": "y2"
        },
        {
         "marker": {
          "color": "darkgreen",
          "line": {
           "width": 0
          },
          "opacity": 0.8,
          "size": 6,
          "symbol": "circle"
         },
         "mode": "markers",
         "name": "8",
         "type": "scatter",
         "x": [
          7.0593524571297195,
          7.346794112658103
         ],
         "xaxis": "x2",
         "y": [
          9.437305109329557,
          17.213886259635135
         ],
         "yaxis": "y2"
        },
        {
         "marker": {
          "color": "darkkhaki",
          "line": {
           "width": 0
          },
          "opacity": 0.8,
          "size": 6,
          "symbol": "circle"
         },
         "mode": "markers",
         "name": "9",
         "type": "scatter",
         "x": [
          -19.87906082751326,
          -19.65290103537729
         ],
         "xaxis": "x2",
         "y": [
          54.86517324243219,
          53.12521441478443
         ],
         "yaxis": "y2"
        },
        {
         "marker": {
          "color": "darkmagenta",
          "line": {
           "width": 0
          },
          "opacity": 0.8,
          "size": 6,
          "symbol": "circle"
         },
         "mode": "markers",
         "name": "10",
         "type": "scatter",
         "x": [
          22.554380578156046
         ],
         "xaxis": "x2",
         "y": [
          8.600843876496596
         ],
         "yaxis": "y2"
        },
        {
         "marker": {
          "color": "darkolivegreen",
          "line": {
           "width": 0
          },
          "opacity": 0.8,
          "size": 6,
          "symbol": "circle"
         },
         "mode": "markers",
         "name": "11",
         "type": "scatter",
         "x": [
          17.443204895904515
         ],
         "xaxis": "x2",
         "y": [
          -5.147972910027755
         ],
         "yaxis": "y2"
        },
        {
         "marker": {
          "color": "darkorange",
          "line": {
           "width": 0
          },
          "opacity": 0.8,
          "size": 6,
          "symbol": "circle"
         },
         "mode": "markers",
         "name": "12",
         "type": "scatter",
         "x": [
          15.624952076199788
         ],
         "xaxis": "x2",
         "y": [
          25.152325094440233
         ],
         "yaxis": "y2"
        },
        {
         "marker": {
          "color": "darkorchid",
          "line": {
           "width": 0
          },
          "opacity": 0.8,
          "size": 6,
          "symbol": "circle"
         },
         "mode": "markers",
         "name": "13",
         "type": "scatter",
         "x": [
          6.033188845395303
         ],
         "xaxis": "x2",
         "y": [
          -4.944402608332869
         ],
         "yaxis": "y2"
        },
        {
         "marker": {
          "color": "darkred",
          "line": {
           "width": 0
          },
          "opacity": 0.8,
          "size": 6,
          "symbol": "circle"
         },
         "mode": "markers",
         "name": "14",
         "type": "scatter",
         "x": [
          1.0402578717980047
         ],
         "xaxis": "x2",
         "y": [
          33.98693848952746
         ],
         "yaxis": "y2"
        },
        {
         "marker": {
          "color": "darksalmon",
          "line": {
           "width": 0
          },
          "opacity": 0.8,
          "size": 6,
          "symbol": "circle"
         },
         "mode": "markers",
         "name": "15",
         "type": "scatter",
         "x": [
          -5.008209485916363
         ],
         "xaxis": "x2",
         "y": [
          -8.375899306887238
         ],
         "yaxis": "y2"
        },
        {
         "marker": {
          "color": "darkseagreen",
          "line": {
           "width": 0
          },
          "opacity": 0.8,
          "size": 6,
          "symbol": "circle"
         },
         "mode": "markers",
         "name": "16",
         "type": "scatter",
         "x": [
          -17.771398087384394
         ],
         "xaxis": "x2",
         "y": [
          10.3690224378726
         ],
         "yaxis": "y2"
        }
       ],
       "layout": {
        "annotations": [
         {
          "font": {
           "size": 16
          },
          "showarrow": false,
          "text": "global_pca",
          "x": 0.225,
          "xanchor": "center",
          "xref": "paper",
          "y": 1,
          "yanchor": "bottom",
          "yref": "paper"
         },
         {
          "font": {
           "size": 16
          },
          "showarrow": false,
          "text": "global_pca",
          "x": 0.775,
          "xanchor": "center",
          "xref": "paper",
          "y": 1,
          "yanchor": "bottom",
          "yref": "paper"
         }
        ],
        "height": 500,
        "template": {
         "data": {
          "bar": [
           {
            "error_x": {
             "color": "#2a3f5f"
            },
            "error_y": {
             "color": "#2a3f5f"
            },
            "marker": {
             "line": {
              "color": "#E5ECF6",
              "width": 0.5
             }
            },
            "type": "bar"
           }
          ],
          "barpolar": [
           {
            "marker": {
             "line": {
              "color": "#E5ECF6",
              "width": 0.5
             }
            },
            "type": "barpolar"
           }
          ],
          "carpet": [
           {
            "aaxis": {
             "endlinecolor": "#2a3f5f",
             "gridcolor": "white",
             "linecolor": "white",
             "minorgridcolor": "white",
             "startlinecolor": "#2a3f5f"
            },
            "baxis": {
             "endlinecolor": "#2a3f5f",
             "gridcolor": "white",
             "linecolor": "white",
             "minorgridcolor": "white",
             "startlinecolor": "#2a3f5f"
            },
            "type": "carpet"
           }
          ],
          "choropleth": [
           {
            "colorbar": {
             "outlinewidth": 0,
             "ticks": ""
            },
            "type": "choropleth"
           }
          ],
          "contour": [
           {
            "colorbar": {
             "outlinewidth": 0,
             "ticks": ""
            },
            "colorscale": [
             [
              0,
              "#0d0887"
             ],
             [
              0.1111111111111111,
              "#46039f"
             ],
             [
              0.2222222222222222,
              "#7201a8"
             ],
             [
              0.3333333333333333,
              "#9c179e"
             ],
             [
              0.4444444444444444,
              "#bd3786"
             ],
             [
              0.5555555555555556,
              "#d8576b"
             ],
             [
              0.6666666666666666,
              "#ed7953"
             ],
             [
              0.7777777777777778,
              "#fb9f3a"
             ],
             [
              0.8888888888888888,
              "#fdca26"
             ],
             [
              1,
              "#f0f921"
             ]
            ],
            "type": "contour"
           }
          ],
          "contourcarpet": [
           {
            "colorbar": {
             "outlinewidth": 0,
             "ticks": ""
            },
            "type": "contourcarpet"
           }
          ],
          "heatmap": [
           {
            "colorbar": {
             "outlinewidth": 0,
             "ticks": ""
            },
            "colorscale": [
             [
              0,
              "#0d0887"
             ],
             [
              0.1111111111111111,
              "#46039f"
             ],
             [
              0.2222222222222222,
              "#7201a8"
             ],
             [
              0.3333333333333333,
              "#9c179e"
             ],
             [
              0.4444444444444444,
              "#bd3786"
             ],
             [
              0.5555555555555556,
              "#d8576b"
             ],
             [
              0.6666666666666666,
              "#ed7953"
             ],
             [
              0.7777777777777778,
              "#fb9f3a"
             ],
             [
              0.8888888888888888,
              "#fdca26"
             ],
             [
              1,
              "#f0f921"
             ]
            ],
            "type": "heatmap"
           }
          ],
          "heatmapgl": [
           {
            "colorbar": {
             "outlinewidth": 0,
             "ticks": ""
            },
            "colorscale": [
             [
              0,
              "#0d0887"
             ],
             [
              0.1111111111111111,
              "#46039f"
             ],
             [
              0.2222222222222222,
              "#7201a8"
             ],
             [
              0.3333333333333333,
              "#9c179e"
             ],
             [
              0.4444444444444444,
              "#bd3786"
             ],
             [
              0.5555555555555556,
              "#d8576b"
             ],
             [
              0.6666666666666666,
              "#ed7953"
             ],
             [
              0.7777777777777778,
              "#fb9f3a"
             ],
             [
              0.8888888888888888,
              "#fdca26"
             ],
             [
              1,
              "#f0f921"
             ]
            ],
            "type": "heatmapgl"
           }
          ],
          "histogram": [
           {
            "marker": {
             "colorbar": {
              "outlinewidth": 0,
              "ticks": ""
             }
            },
            "type": "histogram"
           }
          ],
          "histogram2d": [
           {
            "colorbar": {
             "outlinewidth": 0,
             "ticks": ""
            },
            "colorscale": [
             [
              0,
              "#0d0887"
             ],
             [
              0.1111111111111111,
              "#46039f"
             ],
             [
              0.2222222222222222,
              "#7201a8"
             ],
             [
              0.3333333333333333,
              "#9c179e"
             ],
             [
              0.4444444444444444,
              "#bd3786"
             ],
             [
              0.5555555555555556,
              "#d8576b"
             ],
             [
              0.6666666666666666,
              "#ed7953"
             ],
             [
              0.7777777777777778,
              "#fb9f3a"
             ],
             [
              0.8888888888888888,
              "#fdca26"
             ],
             [
              1,
              "#f0f921"
             ]
            ],
            "type": "histogram2d"
           }
          ],
          "histogram2dcontour": [
           {
            "colorbar": {
             "outlinewidth": 0,
             "ticks": ""
            },
            "colorscale": [
             [
              0,
              "#0d0887"
             ],
             [
              0.1111111111111111,
              "#46039f"
             ],
             [
              0.2222222222222222,
              "#7201a8"
             ],
             [
              0.3333333333333333,
              "#9c179e"
             ],
             [
              0.4444444444444444,
              "#bd3786"
             ],
             [
              0.5555555555555556,
              "#d8576b"
             ],
             [
              0.6666666666666666,
              "#ed7953"
             ],
             [
              0.7777777777777778,
              "#fb9f3a"
             ],
             [
              0.8888888888888888,
              "#fdca26"
             ],
             [
              1,
              "#f0f921"
             ]
            ],
            "type": "histogram2dcontour"
           }
          ],
          "mesh3d": [
           {
            "colorbar": {
             "outlinewidth": 0,
             "ticks": ""
            },
            "type": "mesh3d"
           }
          ],
          "parcoords": [
           {
            "line": {
             "colorbar": {
              "outlinewidth": 0,
              "ticks": ""
             }
            },
            "type": "parcoords"
           }
          ],
          "pie": [
           {
            "automargin": true,
            "type": "pie"
           }
          ],
          "scatter": [
           {
            "marker": {
             "colorbar": {
              "outlinewidth": 0,
              "ticks": ""
             }
            },
            "type": "scatter"
           }
          ],
          "scatter3d": [
           {
            "line": {
             "colorbar": {
              "outlinewidth": 0,
              "ticks": ""
             }
            },
            "marker": {
             "colorbar": {
              "outlinewidth": 0,
              "ticks": ""
             }
            },
            "type": "scatter3d"
           }
          ],
          "scattercarpet": [
           {
            "marker": {
             "colorbar": {
              "outlinewidth": 0,
              "ticks": ""
             }
            },
            "type": "scattercarpet"
           }
          ],
          "scattergeo": [
           {
            "marker": {
             "colorbar": {
              "outlinewidth": 0,
              "ticks": ""
             }
            },
            "type": "scattergeo"
           }
          ],
          "scattergl": [
           {
            "marker": {
             "colorbar": {
              "outlinewidth": 0,
              "ticks": ""
             }
            },
            "type": "scattergl"
           }
          ],
          "scattermapbox": [
           {
            "marker": {
             "colorbar": {
              "outlinewidth": 0,
              "ticks": ""
             }
            },
            "type": "scattermapbox"
           }
          ],
          "scatterpolar": [
           {
            "marker": {
             "colorbar": {
              "outlinewidth": 0,
              "ticks": ""
             }
            },
            "type": "scatterpolar"
           }
          ],
          "scatterpolargl": [
           {
            "marker": {
             "colorbar": {
              "outlinewidth": 0,
              "ticks": ""
             }
            },
            "type": "scatterpolargl"
           }
          ],
          "scatterternary": [
           {
            "marker": {
             "colorbar": {
              "outlinewidth": 0,
              "ticks": ""
             }
            },
            "type": "scatterternary"
           }
          ],
          "surface": [
           {
            "colorbar": {
             "outlinewidth": 0,
             "ticks": ""
            },
            "colorscale": [
             [
              0,
              "#0d0887"
             ],
             [
              0.1111111111111111,
              "#46039f"
             ],
             [
              0.2222222222222222,
              "#7201a8"
             ],
             [
              0.3333333333333333,
              "#9c179e"
             ],
             [
              0.4444444444444444,
              "#bd3786"
             ],
             [
              0.5555555555555556,
              "#d8576b"
             ],
             [
              0.6666666666666666,
              "#ed7953"
             ],
             [
              0.7777777777777778,
              "#fb9f3a"
             ],
             [
              0.8888888888888888,
              "#fdca26"
             ],
             [
              1,
              "#f0f921"
             ]
            ],
            "type": "surface"
           }
          ],
          "table": [
           {
            "cells": {
             "fill": {
              "color": "#EBF0F8"
             },
             "line": {
              "color": "white"
             }
            },
            "header": {
             "fill": {
              "color": "#C8D4E3"
             },
             "line": {
              "color": "white"
             }
            },
            "type": "table"
           }
          ]
         },
         "layout": {
          "annotationdefaults": {
           "arrowcolor": "#2a3f5f",
           "arrowhead": 0,
           "arrowwidth": 1
          },
          "coloraxis": {
           "colorbar": {
            "outlinewidth": 0,
            "ticks": ""
           }
          },
          "colorscale": {
           "diverging": [
            [
             0,
             "#8e0152"
            ],
            [
             0.1,
             "#c51b7d"
            ],
            [
             0.2,
             "#de77ae"
            ],
            [
             0.3,
             "#f1b6da"
            ],
            [
             0.4,
             "#fde0ef"
            ],
            [
             0.5,
             "#f7f7f7"
            ],
            [
             0.6,
             "#e6f5d0"
            ],
            [
             0.7,
             "#b8e186"
            ],
            [
             0.8,
             "#7fbc41"
            ],
            [
             0.9,
             "#4d9221"
            ],
            [
             1,
             "#276419"
            ]
           ],
           "sequential": [
            [
             0,
             "#0d0887"
            ],
            [
             0.1111111111111111,
             "#46039f"
            ],
            [
             0.2222222222222222,
             "#7201a8"
            ],
            [
             0.3333333333333333,
             "#9c179e"
            ],
            [
             0.4444444444444444,
             "#bd3786"
            ],
            [
             0.5555555555555556,
             "#d8576b"
            ],
            [
             0.6666666666666666,
             "#ed7953"
            ],
            [
             0.7777777777777778,
             "#fb9f3a"
            ],
            [
             0.8888888888888888,
             "#fdca26"
            ],
            [
             1,
             "#f0f921"
            ]
           ],
           "sequentialminus": [
            [
             0,
             "#0d0887"
            ],
            [
             0.1111111111111111,
             "#46039f"
            ],
            [
             0.2222222222222222,
             "#7201a8"
            ],
            [
             0.3333333333333333,
             "#9c179e"
            ],
            [
             0.4444444444444444,
             "#bd3786"
            ],
            [
             0.5555555555555556,
             "#d8576b"
            ],
            [
             0.6666666666666666,
             "#ed7953"
            ],
            [
             0.7777777777777778,
             "#fb9f3a"
            ],
            [
             0.8888888888888888,
             "#fdca26"
            ],
            [
             1,
             "#f0f921"
            ]
           ]
          },
          "colorway": [
           "#636efa",
           "#EF553B",
           "#00cc96",
           "#ab63fa",
           "#FFA15A",
           "#19d3f3",
           "#FF6692",
           "#B6E880",
           "#FF97FF",
           "#FECB52"
          ],
          "font": {
           "color": "#2a3f5f"
          },
          "geo": {
           "bgcolor": "white",
           "lakecolor": "white",
           "landcolor": "#E5ECF6",
           "showlakes": true,
           "showland": true,
           "subunitcolor": "white"
          },
          "hoverlabel": {
           "align": "left"
          },
          "hovermode": "closest",
          "mapbox": {
           "style": "light"
          },
          "paper_bgcolor": "white",
          "plot_bgcolor": "#E5ECF6",
          "polar": {
           "angularaxis": {
            "gridcolor": "white",
            "linecolor": "white",
            "ticks": ""
           },
           "bgcolor": "#E5ECF6",
           "radialaxis": {
            "gridcolor": "white",
            "linecolor": "white",
            "ticks": ""
           }
          },
          "scene": {
           "xaxis": {
            "backgroundcolor": "#E5ECF6",
            "gridcolor": "white",
            "gridwidth": 2,
            "linecolor": "white",
            "showbackground": true,
            "ticks": "",
            "zerolinecolor": "white"
           },
           "yaxis": {
            "backgroundcolor": "#E5ECF6",
            "gridcolor": "white",
            "gridwidth": 2,
            "linecolor": "white",
            "showbackground": true,
            "ticks": "",
            "zerolinecolor": "white"
           },
           "zaxis": {
            "backgroundcolor": "#E5ECF6",
            "gridcolor": "white",
            "gridwidth": 2,
            "linecolor": "white",
            "showbackground": true,
            "ticks": "",
            "zerolinecolor": "white"
           }
          },
          "shapedefaults": {
           "line": {
            "color": "#2a3f5f"
           }
          },
          "ternary": {
           "aaxis": {
            "gridcolor": "white",
            "linecolor": "white",
            "ticks": ""
           },
           "baxis": {
            "gridcolor": "white",
            "linecolor": "white",
            "ticks": ""
           },
           "bgcolor": "#E5ECF6",
           "caxis": {
            "gridcolor": "white",
            "linecolor": "white",
            "ticks": ""
           }
          },
          "title": {
           "x": 0.05
          },
          "xaxis": {
           "automargin": true,
           "gridcolor": "white",
           "linecolor": "white",
           "ticks": "",
           "title": {
            "standoff": 15
           },
           "zerolinecolor": "white",
           "zerolinewidth": 2
          },
          "yaxis": {
           "automargin": true,
           "gridcolor": "white",
           "linecolor": "white",
           "ticks": "",
           "title": {
            "standoff": 15
           },
           "zerolinecolor": "white",
           "zerolinewidth": 2
          }
         }
        },
        "width": 950,
        "xaxis": {
         "anchor": "y",
         "domain": [
          0,
          0.45
         ],
         "title": {
          "text": "PC1"
         }
        },
        "xaxis2": {
         "anchor": "y2",
         "domain": [
          0.55,
          1
         ],
         "title": {
          "text": "PC1"
         }
        },
        "yaxis": {
         "anchor": "x",
         "domain": [
          0,
          1
         ],
         "title": {
          "text": "PC2"
         }
        },
        "yaxis2": {
         "anchor": "x2",
         "domain": [
          0,
          1
         ],
         "title": {
          "text": "PC3"
         }
        }
       }
      },
      "text/html": [
       "<div>\n",
       "        \n",
       "        \n",
       "            <div id=\"55ce55ab-2e89-4e3f-856d-9a8892e3309b\" class=\"plotly-graph-div\" style=\"height:500px; width:950px;\"></div>\n",
       "            <script type=\"text/javascript\">\n",
       "                require([\"plotly\"], function(Plotly) {\n",
       "                    window.PLOTLYENV=window.PLOTLYENV || {};\n",
       "                    \n",
       "                if (document.getElementById(\"55ce55ab-2e89-4e3f-856d-9a8892e3309b\")) {\n",
       "                    Plotly.newPlot(\n",
       "                        '55ce55ab-2e89-4e3f-856d-9a8892e3309b',\n",
       "                        [{\"marker\": {\"color\": \"darkseagreen\", \"line\": {\"width\": 0}, \"opacity\": 0.8, \"size\": 6, \"symbol\": \"circle\"}, \"mode\": \"markers\", \"name\": \"0\", \"type\": \"scatter\", \"x\": [68.46982881876816, 67.72909589029979, 67.49967217547807, 66.79416045959205, 66.15222349712367, 69.38764360603986, 68.77342020502775, 68.01622649332171, 67.82832276180046, 67.98258543337928, 67.98952654994109, 66.07245334690487, 67.49916072121906, 67.87421028430916, 67.69820548845765, 67.35545740715368, 66.96127748634714, 67.3130358355989, 67.59533062094437, 67.89973699909854, 67.26773501710149, 68.38060104146174, 67.49850987475959, 65.68590826324504, 67.76796519521318, 67.85563447245396, 67.78622918543896, 68.28531641042461, 67.16063270926631, 67.1826598425458, 68.03080945801032, 67.80150164466843, 66.27307670568945, 67.3259444589443, 68.13437085424027, 67.78090535548236, 67.64473674639848, 66.7872130154972, 66.73804954868386, 66.1264435376626], \"xaxis\": \"x\", \"y\": [-4.358166027038866, -3.303632570614351, -4.977942267569052, -3.033940682157407, -3.3070937903267867, -4.348765945860878, -4.075206468270485, -4.759651341205573, -4.232897682663383, -4.210811442783976, -5.099161198792146, -4.542631658338221, -4.361392513590393, -4.005598306375619, -4.261687752011768, -3.204187683880966, -4.148337604818169, -3.59208457085478, -4.098869697331624, -4.973851562491033, -3.6634693788393142, -5.1868449357722115, -3.3174453064676364, -4.237908106969235, -4.8367267021584155, -4.036835781833759, -3.767710452053526, -4.1041061588268875, -3.7009150805288806, -3.5718869189067046, -3.698829988459409, -3.21130955472403, -3.905153457548595, -4.2928779002093185, -3.105882478426216, -5.067682650601185, -4.166904061325934, -3.800654129429458, -3.7585094480305936, -3.8300050591532613], \"yaxis\": \"y\"}, {\"marker\": {\"color\": \"crimson\", \"line\": {\"width\": 0}, \"opacity\": 0.8, \"size\": 6, \"symbol\": \"circle\"}, \"mode\": \"markers\", \"name\": \"1\", \"type\": \"scatter\", \"x\": [-47.553162142099154, -47.41807950946438, -45.80763733831287, -47.31261648215796, -46.572427539991224, -46.1634684361555, -47.11138770036211, -46.160773462880215, -47.563885619936215, -45.63560633412793, -46.24563798138448, -45.89345245770156, -45.5749443679924, -47.01250266698314, -47.92706193128128, -45.05991293016692, -47.68165644948634, -47.58567843865139, -47.94735468728898, -46.37352324620302, -46.07739756606126, -47.58691758331124, -47.49749119472561, -47.110433575160634, -48.04683056428008, -47.83720883623425, -47.45064329670419, -46.56832659685612, -47.37230670411381, -47.215413493003204, -46.61955755158663, -47.54684704043222, -47.44668057227666, -45.8844131799203, -48.93938010386311, -45.85421609419978, -46.9020545845746, -47.9555201179052, -47.01085909296765, -47.26693141782437, -43.540131544201245, -35.6063819908888], \"xaxis\": \"x\", \"y\": [-25.12679934449873, -25.065960092887213, -25.67477943210739, -25.619099701116216, -25.147170403488133, -26.72587556489306, -25.68558119692852, -26.022795317107708, -25.93216557264302, -25.37210815208674, -25.39295737399716, -24.892246633879594, -24.90361019609666, -26.11655190730355, -25.142977353522845, -24.91089889173915, -24.487372515573437, -25.17115138946469, -25.64525171954521, -24.66693554207066, -26.19673002779123, -26.306084993759043, -24.823636430350724, -25.37242480399776, -26.434524984279335, -26.238707112843187, -24.092668223471694, -25.00359023452269, -25.31010220666672, -24.520081225246386, -26.00230403231236, -22.71736072508774, -24.627835101247694, -23.869929736424705, -23.347910805127306, -25.199607226289455, -25.095976485768528, -25.482903883760084, -24.71848322911545, -27.098294083678592, -19.92317590231074, -19.61062754587792], \"yaxis\": \"y\"}, {\"marker\": {\"color\": \"darkorange\", \"line\": {\"width\": 0}, \"opacity\": 0.8, \"size\": 6, \"symbol\": \"circle\"}, \"mode\": \"markers\", \"name\": \"2\", \"type\": \"scatter\", \"x\": [-28.615928983185746, -29.513710547469195, -28.637312236492516, -28.936476017875464, -29.421121422473853, -28.784350516357847, -28.947502257776684, -28.404152860617955, -29.331536181249167, -28.55125297816667, -29.32406956983899, -28.688872716089325, -29.263997858184947, -29.97513354298642, -28.315371316456368, -30.996318603804195, -29.69458428198563, -29.550164744022588, -29.205368247356805, -29.1013765865577], \"xaxis\": \"x\", \"y\": [67.09137931446291, 68.70588790861358, 67.89869467675621, 68.59843618731504, 68.62374633504909, 67.89727545408806, 68.71387641624032, 68.11046712035927, 67.98345929550722, 68.65514701784144, 67.77188528901861, 67.965580577194, 68.97971226738566, 69.2806155363983, 67.64341100585604, 68.60652846458046, 68.38612853899775, 69.57200704244475, 68.06570409940039, 69.04815286564936], \"yaxis\": \"y\"}, {\"marker\": {\"color\": \"darkblue\", \"line\": {\"width\": 0}, \"opacity\": 0.8, \"size\": 6, \"symbol\": \"circle\"}, \"mode\": \"markers\", \"name\": \"3\", \"type\": \"scatter\", \"x\": [-16.698025006505233, -19.38014528198886, -21.19767137680897, -28.572173359248765, -25.839130791210636], \"xaxis\": \"x\", \"y\": [-19.51215261502388, -16.930785483879458, -21.45059470606216, -22.589941669961927, -20.629372155805], \"yaxis\": \"y\"}, {\"marker\": {\"color\": \"darkcyan\", \"line\": {\"width\": 0}, \"opacity\": 0.8, \"size\": 6, \"symbol\": \"circle\"}, \"mode\": \"markers\", \"name\": \"4\", \"type\": \"scatter\", \"x\": [-0.0797353027866913, -3.1785338558881095, -1.3143198648568928], \"xaxis\": \"x\", \"y\": [21.223317958261223, 19.91517394726006, 11.923169696255009], \"yaxis\": \"y\"}, {\"marker\": {\"color\": \"darkgoldenrod\", \"line\": {\"width\": 0}, \"opacity\": 0.8, \"size\": 6, \"symbol\": \"circle\"}, \"mode\": \"markers\", \"name\": \"5\", \"type\": \"scatter\", \"x\": [-8.270734331736056, -11.360404649912958, -7.393359630939424], \"xaxis\": \"x\", \"y\": [5.420951000554064, 10.833885998622726, 4.937330883566203], \"yaxis\": \"y\"}, {\"marker\": {\"color\": \"darkgray\", \"line\": {\"width\": 0}, \"opacity\": 0.8, \"size\": 6, \"symbol\": \"circle\"}, \"mode\": \"markers\", \"name\": \"6\", \"type\": \"scatter\", \"x\": [-30.53889862497654, -35.167017162476505, -31.872614097109818, -33.763197343319256], \"xaxis\": \"x\", \"y\": [-8.222960928467742, -1.8998084722408133, -0.1903360473343194, -5.293086403016713], \"yaxis\": \"y\"}, {\"marker\": {\"color\": \"darkgrey\", \"line\": {\"width\": 0}, \"opacity\": 0.8, \"size\": 6, \"symbol\": \"circle\"}, \"mode\": \"markers\", \"name\": \"7\", \"type\": \"scatter\", \"x\": [55.03441667248974, 45.59047908089763], \"xaxis\": \"x\", \"y\": [-3.6539902354481244, -5.894863617796486], \"yaxis\": \"y\"}, {\"marker\": {\"color\": \"darkgreen\", \"line\": {\"width\": 0}, \"opacity\": 0.8, \"size\": 6, \"symbol\": \"circle\"}, \"mode\": \"markers\", \"name\": \"8\", \"type\": \"scatter\", \"x\": [7.0593524571297195, 7.346794112658103], \"xaxis\": \"x\", \"y\": [-9.916324286711387, -8.337805216292068], \"yaxis\": \"y\"}, {\"marker\": {\"color\": \"darkkhaki\", \"line\": {\"width\": 0}, \"opacity\": 0.8, \"size\": 6, \"symbol\": \"circle\"}, \"mode\": \"markers\", \"name\": \"9\", \"type\": \"scatter\", \"x\": [-19.87906082751326, -19.65290103537729], \"xaxis\": \"x\", \"y\": [-5.656077225637859, -3.9638384606537485], \"yaxis\": \"y\"}, {\"marker\": {\"color\": \"darkmagenta\", \"line\": {\"width\": 0}, \"opacity\": 0.8, \"size\": 6, \"symbol\": \"circle\"}, \"mode\": \"markers\", \"name\": \"10\", \"type\": \"scatter\", \"x\": [22.554380578156046], \"xaxis\": \"x\", \"y\": [-8.469710297132986], \"yaxis\": \"y\"}, {\"marker\": {\"color\": \"darkolivegreen\", \"line\": {\"width\": 0}, \"opacity\": 0.8, \"size\": 6, \"symbol\": \"circle\"}, \"mode\": \"markers\", \"name\": \"11\", \"type\": \"scatter\", \"x\": [17.443204895904515], \"xaxis\": \"x\", \"y\": [-13.527396556920234], \"yaxis\": \"y\"}, {\"marker\": {\"color\": \"darkorange\", \"line\": {\"width\": 0}, \"opacity\": 0.8, \"size\": 6, \"symbol\": \"circle\"}, \"mode\": \"markers\", \"name\": \"12\", \"type\": \"scatter\", \"x\": [15.624952076199788], \"xaxis\": \"x\", \"y\": [-7.38780372238114], \"yaxis\": \"y\"}, {\"marker\": {\"color\": \"darkorchid\", \"line\": {\"width\": 0}, \"opacity\": 0.8, \"size\": 6, \"symbol\": \"circle\"}, \"mode\": \"markers\", \"name\": \"13\", \"type\": \"scatter\", \"x\": [6.033188845395303], \"xaxis\": \"x\", \"y\": [-11.049597028451192], \"yaxis\": \"y\"}, {\"marker\": {\"color\": \"darkred\", \"line\": {\"width\": 0}, \"opacity\": 0.8, \"size\": 6, \"symbol\": \"circle\"}, \"mode\": \"markers\", \"name\": \"14\", \"type\": \"scatter\", \"x\": [1.0402578717980047], \"xaxis\": \"x\", \"y\": [-3.2367926167248258], \"yaxis\": \"y\"}, {\"marker\": {\"color\": \"darksalmon\", \"line\": {\"width\": 0}, \"opacity\": 0.8, \"size\": 6, \"symbol\": \"circle\"}, \"mode\": \"markers\", \"name\": \"15\", \"type\": \"scatter\", \"x\": [-5.008209485916363], \"xaxis\": \"x\", \"y\": [-17.62060585758793], \"yaxis\": \"y\"}, {\"marker\": {\"color\": \"darkseagreen\", \"line\": {\"width\": 0}, \"opacity\": 0.8, \"size\": 6, \"symbol\": \"circle\"}, \"mode\": \"markers\", \"name\": \"16\", \"type\": \"scatter\", \"x\": [-17.771398087384394], \"xaxis\": \"x\", \"y\": [-14.565265676028918], \"yaxis\": \"y\"}, {\"marker\": {\"color\": \"darkseagreen\", \"line\": {\"width\": 0}, \"opacity\": 0.8, \"size\": 6, \"symbol\": \"circle\"}, \"mode\": \"markers\", \"name\": \"0\", \"type\": \"scatter\", \"x\": [68.46982881876816, 67.72909589029979, 67.49967217547807, 66.79416045959205, 66.15222349712367, 69.38764360603986, 68.77342020502775, 68.01622649332171, 67.82832276180046, 67.98258543337928, 67.98952654994109, 66.07245334690487, 67.49916072121906, 67.87421028430916, 67.69820548845765, 67.35545740715368, 66.96127748634714, 67.3130358355989, 67.59533062094437, 67.89973699909854, 67.26773501710149, 68.38060104146174, 67.49850987475959, 65.68590826324504, 67.76796519521318, 67.85563447245396, 67.78622918543896, 68.28531641042461, 67.16063270926631, 67.1826598425458, 68.03080945801032, 67.80150164466843, 66.27307670568945, 67.3259444589443, 68.13437085424027, 67.78090535548236, 67.64473674639848, 66.7872130154972, 66.73804954868386, 66.1264435376626], \"xaxis\": \"x2\", \"y\": [-5.095821717584727, -6.062422135156563, -4.981303562073579, -4.5465527722584795, -6.0089826544163865, -6.849043493701235, -5.225180009319429, -5.647776968136323, -5.799547275068615, -6.171129918369063, -5.760575640120385, -4.563036382748996, -4.488363826847103, -6.001683260871862, -5.5934409089560315, -5.93171156219973, -6.190017428951411, -5.912944713949507, -4.9401069024219835, -5.658494526807533, -5.40028306236553, -5.188005248624042, -6.006371311262802, -5.338510617367788, -5.907549804579122, -5.602011981547476, -5.0320277901213455, -5.380585680200006, -5.603250496812107, -4.492950299985865, -5.371573781935155, -5.090184827333201, -6.420847888508626, -5.55739284981803, -6.0458446117326226, -5.499345718961426, -5.735374158757453, -5.9359336492541654, -5.1687930258200145, -4.518361791299402], \"yaxis\": \"y2\"}, {\"marker\": {\"color\": \"crimson\", \"line\": {\"width\": 0}, \"opacity\": 0.8, \"size\": 6, \"symbol\": \"circle\"}, \"mode\": \"markers\", \"name\": \"1\", \"type\": \"scatter\", \"x\": [-47.553162142099154, -47.41807950946438, -45.80763733831287, -47.31261648215796, -46.572427539991224, -46.1634684361555, -47.11138770036211, -46.160773462880215, -47.563885619936215, -45.63560633412793, -46.24563798138448, -45.89345245770156, -45.5749443679924, -47.01250266698314, -47.92706193128128, -45.05991293016692, -47.68165644948634, -47.58567843865139, -47.94735468728898, -46.37352324620302, -46.07739756606126, -47.58691758331124, -47.49749119472561, -47.110433575160634, -48.04683056428008, -47.83720883623425, -47.45064329670419, -46.56832659685612, -47.37230670411381, -47.215413493003204, -46.61955755158663, -47.54684704043222, -47.44668057227666, -45.8844131799203, -48.93938010386311, -45.85421609419978, -46.9020545845746, -47.9555201179052, -47.01085909296765, -47.26693141782437, -43.540131544201245, -35.6063819908888], \"xaxis\": \"x2\", \"y\": [-8.083720122610035, -8.24851171666164, -6.339545732498304, -7.900543339103622, -9.13196875473256, -8.398906602350829, -7.564803499511562, -6.2824793842041755, -8.022584902181212, -7.747751309307113, -6.224565549123488, -6.616597703388347, -6.293317423169925, -6.831047023268637, -6.851904473923364, -9.770088537748975, -6.362495062586628, -8.322011807412911, -8.674237273358514, -7.830367383450644, -6.572439502075037, -7.1014703950212965, -8.069258971837497, -7.849958725392544, -6.541390452066, -6.160505645210836, -6.924986270004833, -10.428803557546923, -8.21575754496845, -6.551783725347411, -7.623149627654309, -8.500411332107657, -6.815545273811734, -7.240326463338431, -7.61618988998667, -7.757154143869978, -7.4243786840391515, -5.819605195984093, -6.7788367300324595, -6.007758176899358, 1.1335049536202317, -9.444808192112955], \"yaxis\": \"y2\"}, {\"marker\": {\"color\": \"darkorange\", \"line\": {\"width\": 0}, \"opacity\": 0.8, \"size\": 6, \"symbol\": \"circle\"}, \"mode\": \"markers\", \"name\": \"2\", \"type\": \"scatter\", \"x\": [-28.615928983185746, -29.513710547469195, -28.637312236492516, -28.936476017875464, -29.421121422473853, -28.784350516357847, -28.947502257776684, -28.404152860617955, -29.331536181249167, -28.55125297816667, -29.32406956983899, -28.688872716089325, -29.263997858184947, -29.97513354298642, -28.315371316456368, -30.996318603804195, -29.69458428198563, -29.550164744022588, -29.205368247356805, -29.1013765865577], \"xaxis\": \"x2\", \"y\": [-11.800913547836398, -9.903886683868256, -9.7714667254914, -10.033184584536366, -9.516666721855374, -10.930071511369544, -9.810223924630314, -11.721177376187928, -11.324503970658137, -12.700897048962249, -10.520425814738356, -10.037759581876077, -10.057325068389247, -10.543742100835768, -11.064608918635384, -9.837665789837711, -10.174043055675217, -8.48610272187913, -11.446457560697954, -10.514488623066915], \"yaxis\": \"y2\"}, {\"marker\": {\"color\": \"darkblue\", \"line\": {\"width\": 0}, \"opacity\": 0.8, \"size\": 6, \"symbol\": \"circle\"}, \"mode\": \"markers\", \"name\": \"3\", \"type\": \"scatter\", \"x\": [-16.698025006505233, -19.38014528198886, -21.19767137680897, -28.572173359248765, -25.839130791210636], \"xaxis\": \"x2\", \"y\": [-9.474772663576783, -8.615839690073829, -8.771028245525782, -5.816853479211623, -9.475198920247946], \"yaxis\": \"y2\"}, {\"marker\": {\"color\": \"darkcyan\", \"line\": {\"width\": 0}, \"opacity\": 0.8, \"size\": 6, \"symbol\": \"circle\"}, \"mode\": \"markers\", \"name\": \"4\", \"type\": \"scatter\", \"x\": [-0.0797353027866913, -3.1785338558881095, -1.3143198648568928], \"xaxis\": \"x2\", \"y\": [92.53975061982337, 84.1859179270664, 94.17928682456994], \"yaxis\": \"y2\"}, {\"marker\": {\"color\": \"darkgoldenrod\", \"line\": {\"width\": 0}, \"opacity\": 0.8, \"size\": 6, \"symbol\": \"circle\"}, \"mode\": \"markers\", \"name\": \"5\", \"type\": \"scatter\", \"x\": [-8.270734331736056, -11.360404649912958, -7.393359630939424], \"xaxis\": \"x2\", \"y\": [80.2882145947705, 73.12544504868234, 76.49406988203377], \"yaxis\": \"y2\"}, {\"marker\": {\"color\": \"darkgray\", \"line\": {\"width\": 0}, \"opacity\": 0.8, \"size\": 6, \"symbol\": \"circle\"}, \"mode\": \"markers\", \"name\": \"6\", \"type\": \"scatter\", \"x\": [-30.53889862497654, -35.167017162476505, -31.872614097109818, -33.763197343319256], \"xaxis\": \"x2\", \"y\": [29.42380167417402, 13.63839521931573, 14.590248895140101, 21.928767733337175], \"yaxis\": \"y2\"}, {\"marker\": {\"color\": \"darkgrey\", \"line\": {\"width\": 0}, \"opacity\": 0.8, \"size\": 6, \"symbol\": \"circle\"}, \"mode\": \"markers\", \"name\": \"7\", \"type\": \"scatter\", \"x\": [55.03441667248974, 45.59047908089763], \"xaxis\": \"x2\", \"y\": [3.5668628374121196, 0.6379043765928998], \"yaxis\": \"y2\"}, {\"marker\": {\"color\": \"darkgreen\", \"line\": {\"width\": 0}, \"opacity\": 0.8, \"size\": 6, \"symbol\": \"circle\"}, \"mode\": \"markers\", \"name\": \"8\", \"type\": \"scatter\", \"x\": [7.0593524571297195, 7.346794112658103], \"xaxis\": \"x2\", \"y\": [9.437305109329557, 17.213886259635135], \"yaxis\": \"y2\"}, {\"marker\": {\"color\": \"darkkhaki\", \"line\": {\"width\": 0}, \"opacity\": 0.8, \"size\": 6, \"symbol\": \"circle\"}, \"mode\": \"markers\", \"name\": \"9\", \"type\": \"scatter\", \"x\": [-19.87906082751326, -19.65290103537729], \"xaxis\": \"x2\", \"y\": [54.86517324243219, 53.12521441478443], \"yaxis\": \"y2\"}, {\"marker\": {\"color\": \"darkmagenta\", \"line\": {\"width\": 0}, \"opacity\": 0.8, \"size\": 6, \"symbol\": \"circle\"}, \"mode\": \"markers\", \"name\": \"10\", \"type\": \"scatter\", \"x\": [22.554380578156046], \"xaxis\": \"x2\", \"y\": [8.600843876496596], \"yaxis\": \"y2\"}, {\"marker\": {\"color\": \"darkolivegreen\", \"line\": {\"width\": 0}, \"opacity\": 0.8, \"size\": 6, \"symbol\": \"circle\"}, \"mode\": \"markers\", \"name\": \"11\", \"type\": \"scatter\", \"x\": [17.443204895904515], \"xaxis\": \"x2\", \"y\": [-5.147972910027755], \"yaxis\": \"y2\"}, {\"marker\": {\"color\": \"darkorange\", \"line\": {\"width\": 0}, \"opacity\": 0.8, \"size\": 6, \"symbol\": \"circle\"}, \"mode\": \"markers\", \"name\": \"12\", \"type\": \"scatter\", \"x\": [15.624952076199788], \"xaxis\": \"x2\", \"y\": [25.152325094440233], \"yaxis\": \"y2\"}, {\"marker\": {\"color\": \"darkorchid\", \"line\": {\"width\": 0}, \"opacity\": 0.8, \"size\": 6, \"symbol\": \"circle\"}, \"mode\": \"markers\", \"name\": \"13\", \"type\": \"scatter\", \"x\": [6.033188845395303], \"xaxis\": \"x2\", \"y\": [-4.944402608332869], \"yaxis\": \"y2\"}, {\"marker\": {\"color\": \"darkred\", \"line\": {\"width\": 0}, \"opacity\": 0.8, \"size\": 6, \"symbol\": \"circle\"}, \"mode\": \"markers\", \"name\": \"14\", \"type\": \"scatter\", \"x\": [1.0402578717980047], \"xaxis\": \"x2\", \"y\": [33.98693848952746], \"yaxis\": \"y2\"}, {\"marker\": {\"color\": \"darksalmon\", \"line\": {\"width\": 0}, \"opacity\": 0.8, \"size\": 6, \"symbol\": \"circle\"}, \"mode\": \"markers\", \"name\": \"15\", \"type\": \"scatter\", \"x\": [-5.008209485916363], \"xaxis\": \"x2\", \"y\": [-8.375899306887238], \"yaxis\": \"y2\"}, {\"marker\": {\"color\": \"darkseagreen\", \"line\": {\"width\": 0}, \"opacity\": 0.8, \"size\": 6, \"symbol\": \"circle\"}, \"mode\": \"markers\", \"name\": \"16\", \"type\": \"scatter\", \"x\": [-17.771398087384394], \"xaxis\": \"x2\", \"y\": [10.3690224378726], \"yaxis\": \"y2\"}],\n",
       "                        {\"annotations\": [{\"font\": {\"size\": 16}, \"showarrow\": false, \"text\": \"global_pca\", \"x\": 0.225, \"xanchor\": \"center\", \"xref\": \"paper\", \"y\": 1.0, \"yanchor\": \"bottom\", \"yref\": \"paper\"}, {\"font\": {\"size\": 16}, \"showarrow\": false, \"text\": \"global_pca\", \"x\": 0.775, \"xanchor\": \"center\", \"xref\": \"paper\", \"y\": 1.0, \"yanchor\": \"bottom\", \"yref\": \"paper\"}], \"height\": 500, \"template\": {\"data\": {\"bar\": [{\"error_x\": {\"color\": \"#2a3f5f\"}, \"error_y\": {\"color\": \"#2a3f5f\"}, \"marker\": {\"line\": {\"color\": \"#E5ECF6\", \"width\": 0.5}}, \"type\": \"bar\"}], \"barpolar\": [{\"marker\": {\"line\": {\"color\": \"#E5ECF6\", \"width\": 0.5}}, \"type\": \"barpolar\"}], \"carpet\": [{\"aaxis\": {\"endlinecolor\": \"#2a3f5f\", \"gridcolor\": \"white\", \"linecolor\": \"white\", \"minorgridcolor\": \"white\", \"startlinecolor\": \"#2a3f5f\"}, \"baxis\": {\"endlinecolor\": \"#2a3f5f\", \"gridcolor\": \"white\", \"linecolor\": \"white\", \"minorgridcolor\": \"white\", \"startlinecolor\": \"#2a3f5f\"}, \"type\": \"carpet\"}], \"choropleth\": [{\"colorbar\": {\"outlinewidth\": 0, \"ticks\": \"\"}, \"type\": \"choropleth\"}], \"contour\": [{\"colorbar\": {\"outlinewidth\": 0, \"ticks\": \"\"}, \"colorscale\": [[0.0, \"#0d0887\"], [0.1111111111111111, \"#46039f\"], [0.2222222222222222, \"#7201a8\"], [0.3333333333333333, \"#9c179e\"], [0.4444444444444444, \"#bd3786\"], [0.5555555555555556, \"#d8576b\"], [0.6666666666666666, \"#ed7953\"], [0.7777777777777778, \"#fb9f3a\"], [0.8888888888888888, \"#fdca26\"], [1.0, \"#f0f921\"]], \"type\": \"contour\"}], \"contourcarpet\": [{\"colorbar\": {\"outlinewidth\": 0, \"ticks\": \"\"}, \"type\": \"contourcarpet\"}], \"heatmap\": [{\"colorbar\": {\"outlinewidth\": 0, \"ticks\": \"\"}, \"colorscale\": [[0.0, \"#0d0887\"], [0.1111111111111111, \"#46039f\"], [0.2222222222222222, \"#7201a8\"], [0.3333333333333333, \"#9c179e\"], [0.4444444444444444, \"#bd3786\"], [0.5555555555555556, \"#d8576b\"], [0.6666666666666666, \"#ed7953\"], [0.7777777777777778, \"#fb9f3a\"], [0.8888888888888888, \"#fdca26\"], [1.0, \"#f0f921\"]], \"type\": \"heatmap\"}], \"heatmapgl\": [{\"colorbar\": {\"outlinewidth\": 0, \"ticks\": \"\"}, \"colorscale\": [[0.0, \"#0d0887\"], [0.1111111111111111, \"#46039f\"], [0.2222222222222222, \"#7201a8\"], [0.3333333333333333, \"#9c179e\"], [0.4444444444444444, \"#bd3786\"], [0.5555555555555556, \"#d8576b\"], [0.6666666666666666, \"#ed7953\"], [0.7777777777777778, \"#fb9f3a\"], [0.8888888888888888, \"#fdca26\"], [1.0, \"#f0f921\"]], \"type\": \"heatmapgl\"}], \"histogram\": [{\"marker\": {\"colorbar\": {\"outlinewidth\": 0, \"ticks\": \"\"}}, \"type\": \"histogram\"}], \"histogram2d\": [{\"colorbar\": {\"outlinewidth\": 0, \"ticks\": \"\"}, \"colorscale\": [[0.0, \"#0d0887\"], [0.1111111111111111, \"#46039f\"], [0.2222222222222222, \"#7201a8\"], [0.3333333333333333, \"#9c179e\"], [0.4444444444444444, \"#bd3786\"], [0.5555555555555556, \"#d8576b\"], [0.6666666666666666, \"#ed7953\"], [0.7777777777777778, \"#fb9f3a\"], [0.8888888888888888, \"#fdca26\"], [1.0, \"#f0f921\"]], \"type\": \"histogram2d\"}], \"histogram2dcontour\": [{\"colorbar\": {\"outlinewidth\": 0, \"ticks\": \"\"}, \"colorscale\": [[0.0, \"#0d0887\"], [0.1111111111111111, \"#46039f\"], [0.2222222222222222, \"#7201a8\"], [0.3333333333333333, \"#9c179e\"], [0.4444444444444444, \"#bd3786\"], [0.5555555555555556, \"#d8576b\"], [0.6666666666666666, \"#ed7953\"], [0.7777777777777778, \"#fb9f3a\"], [0.8888888888888888, \"#fdca26\"], [1.0, \"#f0f921\"]], \"type\": \"histogram2dcontour\"}], \"mesh3d\": [{\"colorbar\": {\"outlinewidth\": 0, \"ticks\": \"\"}, \"type\": \"mesh3d\"}], \"parcoords\": [{\"line\": {\"colorbar\": {\"outlinewidth\": 0, \"ticks\": \"\"}}, \"type\": \"parcoords\"}], \"pie\": [{\"automargin\": true, \"type\": \"pie\"}], \"scatter\": [{\"marker\": {\"colorbar\": {\"outlinewidth\": 0, \"ticks\": \"\"}}, \"type\": \"scatter\"}], \"scatter3d\": [{\"line\": {\"colorbar\": {\"outlinewidth\": 0, \"ticks\": \"\"}}, \"marker\": {\"colorbar\": {\"outlinewidth\": 0, \"ticks\": \"\"}}, \"type\": \"scatter3d\"}], \"scattercarpet\": [{\"marker\": {\"colorbar\": {\"outlinewidth\": 0, \"ticks\": \"\"}}, \"type\": \"scattercarpet\"}], \"scattergeo\": [{\"marker\": {\"colorbar\": {\"outlinewidth\": 0, \"ticks\": \"\"}}, \"type\": \"scattergeo\"}], \"scattergl\": [{\"marker\": {\"colorbar\": {\"outlinewidth\": 0, \"ticks\": \"\"}}, \"type\": \"scattergl\"}], \"scattermapbox\": [{\"marker\": {\"colorbar\": {\"outlinewidth\": 0, \"ticks\": \"\"}}, \"type\": \"scattermapbox\"}], \"scatterpolar\": [{\"marker\": {\"colorbar\": {\"outlinewidth\": 0, \"ticks\": \"\"}}, \"type\": \"scatterpolar\"}], \"scatterpolargl\": [{\"marker\": {\"colorbar\": {\"outlinewidth\": 0, \"ticks\": \"\"}}, \"type\": \"scatterpolargl\"}], \"scatterternary\": [{\"marker\": {\"colorbar\": {\"outlinewidth\": 0, \"ticks\": \"\"}}, \"type\": \"scatterternary\"}], \"surface\": [{\"colorbar\": {\"outlinewidth\": 0, \"ticks\": \"\"}, \"colorscale\": [[0.0, \"#0d0887\"], [0.1111111111111111, \"#46039f\"], [0.2222222222222222, \"#7201a8\"], [0.3333333333333333, \"#9c179e\"], [0.4444444444444444, \"#bd3786\"], [0.5555555555555556, \"#d8576b\"], [0.6666666666666666, \"#ed7953\"], [0.7777777777777778, \"#fb9f3a\"], [0.8888888888888888, \"#fdca26\"], [1.0, \"#f0f921\"]], \"type\": \"surface\"}], \"table\": [{\"cells\": {\"fill\": {\"color\": \"#EBF0F8\"}, \"line\": {\"color\": \"white\"}}, \"header\": {\"fill\": {\"color\": \"#C8D4E3\"}, \"line\": {\"color\": \"white\"}}, \"type\": \"table\"}]}, \"layout\": {\"annotationdefaults\": {\"arrowcolor\": \"#2a3f5f\", \"arrowhead\": 0, \"arrowwidth\": 1}, \"coloraxis\": {\"colorbar\": {\"outlinewidth\": 0, \"ticks\": \"\"}}, \"colorscale\": {\"diverging\": [[0, \"#8e0152\"], [0.1, \"#c51b7d\"], [0.2, \"#de77ae\"], [0.3, \"#f1b6da\"], [0.4, \"#fde0ef\"], [0.5, \"#f7f7f7\"], [0.6, \"#e6f5d0\"], [0.7, \"#b8e186\"], [0.8, \"#7fbc41\"], [0.9, \"#4d9221\"], [1, \"#276419\"]], \"sequential\": [[0.0, \"#0d0887\"], [0.1111111111111111, \"#46039f\"], [0.2222222222222222, \"#7201a8\"], [0.3333333333333333, \"#9c179e\"], [0.4444444444444444, \"#bd3786\"], [0.5555555555555556, \"#d8576b\"], [0.6666666666666666, \"#ed7953\"], [0.7777777777777778, \"#fb9f3a\"], [0.8888888888888888, \"#fdca26\"], [1.0, \"#f0f921\"]], \"sequentialminus\": [[0.0, \"#0d0887\"], [0.1111111111111111, \"#46039f\"], [0.2222222222222222, \"#7201a8\"], [0.3333333333333333, \"#9c179e\"], [0.4444444444444444, \"#bd3786\"], [0.5555555555555556, \"#d8576b\"], [0.6666666666666666, \"#ed7953\"], [0.7777777777777778, \"#fb9f3a\"], [0.8888888888888888, \"#fdca26\"], [1.0, \"#f0f921\"]]}, \"colorway\": [\"#636efa\", \"#EF553B\", \"#00cc96\", \"#ab63fa\", \"#FFA15A\", \"#19d3f3\", \"#FF6692\", \"#B6E880\", \"#FF97FF\", \"#FECB52\"], \"font\": {\"color\": \"#2a3f5f\"}, \"geo\": {\"bgcolor\": \"white\", \"lakecolor\": \"white\", \"landcolor\": \"#E5ECF6\", \"showlakes\": true, \"showland\": true, \"subunitcolor\": \"white\"}, \"hoverlabel\": {\"align\": \"left\"}, \"hovermode\": \"closest\", \"mapbox\": {\"style\": \"light\"}, \"paper_bgcolor\": \"white\", \"plot_bgcolor\": \"#E5ECF6\", \"polar\": {\"angularaxis\": {\"gridcolor\": \"white\", \"linecolor\": \"white\", \"ticks\": \"\"}, \"bgcolor\": \"#E5ECF6\", \"radialaxis\": {\"gridcolor\": \"white\", \"linecolor\": \"white\", \"ticks\": \"\"}}, \"scene\": {\"xaxis\": {\"backgroundcolor\": \"#E5ECF6\", \"gridcolor\": \"white\", \"gridwidth\": 2, \"linecolor\": \"white\", \"showbackground\": true, \"ticks\": \"\", \"zerolinecolor\": \"white\"}, \"yaxis\": {\"backgroundcolor\": \"#E5ECF6\", \"gridcolor\": \"white\", \"gridwidth\": 2, \"linecolor\": \"white\", \"showbackground\": true, \"ticks\": \"\", \"zerolinecolor\": \"white\"}, \"zaxis\": {\"backgroundcolor\": \"#E5ECF6\", \"gridcolor\": \"white\", \"gridwidth\": 2, \"linecolor\": \"white\", \"showbackground\": true, \"ticks\": \"\", \"zerolinecolor\": \"white\"}}, \"shapedefaults\": {\"line\": {\"color\": \"#2a3f5f\"}}, \"ternary\": {\"aaxis\": {\"gridcolor\": \"white\", \"linecolor\": \"white\", \"ticks\": \"\"}, \"baxis\": {\"gridcolor\": \"white\", \"linecolor\": \"white\", \"ticks\": \"\"}, \"bgcolor\": \"#E5ECF6\", \"caxis\": {\"gridcolor\": \"white\", \"linecolor\": \"white\", \"ticks\": \"\"}}, \"title\": {\"x\": 0.05}, \"xaxis\": {\"automargin\": true, \"gridcolor\": \"white\", \"linecolor\": \"white\", \"ticks\": \"\", \"title\": {\"standoff\": 15}, \"zerolinecolor\": \"white\", \"zerolinewidth\": 2}, \"yaxis\": {\"automargin\": true, \"gridcolor\": \"white\", \"linecolor\": \"white\", \"ticks\": \"\", \"title\": {\"standoff\": 15}, \"zerolinecolor\": \"white\", \"zerolinewidth\": 2}}}, \"width\": 950, \"xaxis\": {\"anchor\": \"y\", \"domain\": [0.0, 0.45], \"title\": {\"text\": \"PC1\"}}, \"xaxis2\": {\"anchor\": \"y2\", \"domain\": [0.55, 1.0], \"title\": {\"text\": \"PC1\"}}, \"yaxis\": {\"anchor\": \"x\", \"domain\": [0.0, 1.0], \"title\": {\"text\": \"PC2\"}}, \"yaxis2\": {\"anchor\": \"x2\", \"domain\": [0.0, 1.0], \"title\": {\"text\": \"PC3\"}}},\n",
       "                        {\"responsive\": true}\n",
       "                    ).then(function(){\n",
       "                            \n",
       "var gd = document.getElementById('55ce55ab-2e89-4e3f-856d-9a8892e3309b');\n",
       "var x = new MutationObserver(function (mutations, observer) {{\n",
       "        var display = window.getComputedStyle(gd).display;\n",
       "        if (!display || display === 'none') {{\n",
       "            console.log([gd, 'removed!']);\n",
       "            Plotly.purge(gd);\n",
       "            observer.disconnect();\n",
       "        }}\n",
       "}});\n",
       "\n",
       "// Listen for the removal of the full notebook cells\n",
       "var notebookContainer = gd.closest('#notebook-container');\n",
       "if (notebookContainer) {{\n",
       "    x.observe(notebookContainer, {childList: true});\n",
       "}}\n",
       "\n",
       "// Listen for the clearing of the current output cell\n",
       "var outputEl = gd.closest('.output');\n",
       "if (outputEl) {{\n",
       "    x.observe(outputEl, {childList: true});\n",
       "}}\n",
       "\n",
       "                        })\n",
       "                };\n",
       "                });\n",
       "            </script>\n",
       "        </div>"
      ]
     },
     "metadata": {},
     "output_type": "display_data"
    }
   ],
   "source": [
    "from structure_tools.Tutorial_subplots import plot_global_pca\n",
    "\n",
    "plot_global_pca(feats,label_select,PCA_color_ref,title= 'global_pca',height= 500,width= 950)"
   ]
  },
  {
   "cell_type": "code",
   "execution_count": null,
   "metadata": {},
   "outputs": [],
   "source": []
  }
 ],
 "metadata": {
  "kernelspec": {
   "display_name": "Python 3",
   "language": "python",
   "name": "python3"
  },
  "language_info": {
   "codemirror_mode": {
    "name": "ipython",
    "version": 3
   },
   "file_extension": ".py",
   "mimetype": "text/x-python",
   "name": "python",
   "nbconvert_exporter": "python",
   "pygments_lexer": "ipython3",
   "version": "3.7.3"
  }
 },
 "nbformat": 4,
 "nbformat_minor": 2
}
