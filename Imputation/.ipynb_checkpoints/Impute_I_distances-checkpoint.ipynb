{
 "cells": [
  {
   "cell_type": "code",
   "execution_count": 1,
   "metadata": {},
   "outputs": [
    {
     "data": {
      "text/html": [
       "        <script type=\"text/javascript\">\n",
       "        window.PlotlyConfig = {MathJaxConfig: 'local'};\n",
       "        if (window.MathJax) {MathJax.Hub.Config({SVG: {font: \"STIX-Web\"}});}\n",
       "        if (typeof require !== 'undefined') {\n",
       "        require.undef(\"plotly\");\n",
       "        requirejs.config({\n",
       "            paths: {\n",
       "                'plotly': ['https://cdn.plot.ly/plotly-latest.min']\n",
       "            }\n",
       "        });\n",
       "        require(['plotly'], function(Plotly) {\n",
       "            window._Plotly = Plotly;\n",
       "        });\n",
       "        }\n",
       "        </script>\n",
       "        "
      ]
     },
     "metadata": {},
     "output_type": "display_data"
    }
   ],
   "source": [
    "import scipy\n",
    "import numpy as np\n",
    "from sklearn.neighbors import KernelDensity\n",
    "from sklearn.decomposition import PCA\n",
    "from sklearn.model_selection import GridSearchCV\n",
    "from sklearn.cluster import estimate_bandwidth\n",
    "from sklearn.cluster import MeanShift, estimate_bandwidth\n",
    "\n",
    "import pandas as pd\n",
    "\n",
    "from scipy import stats\n",
    "from scipy.stats import beta\n",
    "from math import sin\n",
    "from random import randint\n",
    "from IPython.display import clear_output\n",
    "import matplotlib.pyplot as plt\n",
    "import itertools as it\n",
    "\n",
    "import plotly\n",
    "import plotly.graph_objs as go\n",
    "from plotly.offline import download_plotlyjs, init_notebook_mode, plot, iplot\n",
    "\n",
    "from ipywidgets import interact, interactive, fixed, interact_manual\n",
    "import ipywidgets as widgets\n",
    "init_notebook_mode(connected=True)\n",
    "\n",
    "import collections\n",
    "\n",
    "def recursively_default_dict():\n",
    "        return collections.defaultdict(recursively_default_dict)\n",
    "\n",
    "from matplotlib.collections import BrokenBarHCollection\n",
    "import re\n",
    "\n",
    "from structure_tools.Modules_tools import return_fsts\n",
    "\n",
    "PCA_color_ref= ['darkseagreen','crimson', 'darkorange', 'darkblue', 'darkcyan',\n",
    "            'darkgoldenrod', 'darkgray', 'darkgrey', 'darkgreen',\n",
    "            'darkkhaki', 'darkmagenta', 'darkolivegreen', 'darkorange',\n",
    "            'darkorchid', 'darkred', 'darksalmon', 'darkseagreen',\n",
    "            'darkslateblue', 'darkslategray', 'darkslategrey',\n",
    "            'darkturquoise', 'darkviolet', 'deeppink']"
   ]
  },
  {
   "cell_type": "markdown",
   "metadata": {},
   "source": [
    "## vcf analysis\n",
    "Jupyter notebook for the local analysis of genetic data stored in .vcf format.\n",
    "\n",
    "Perform analysis of structure across data set, followed by a more detailed study of variation across local genomic windows.\n",
    "\n",
    "### Input"
   ]
  },
  {
   "cell_type": "code",
   "execution_count": 2,
   "metadata": {},
   "outputs": [
    {
     "name": "stdout",
     "output_type": "stream",
     "text": [
      "Number of markers: 40000\n",
      "Number of individuals: 130\n"
     ]
    }
   ],
   "source": [
    "from structure_tools.vcf_geno_tools import simple_read_vcf\n",
    "\n",
    "vcf_file= 'data_cleanRefs_simple_Admx.vcf'\n",
    "\n",
    "genotype, summary, info_save= simple_read_vcf(vcf_file,row_info= 5,header_info= 9,phased= True)\n",
    "\n",
    "print('Number of markers: {}'.format(genotype.shape[1]))\n",
    "print('Number of individuals: {}'.format(genotype.shape[0]))"
   ]
  },
  {
   "cell_type": "code",
   "execution_count": 3,
   "metadata": {},
   "outputs": [
    {
     "data": {
      "text/html": [
       "<div>\n",
       "<style scoped>\n",
       "    .dataframe tbody tr th:only-of-type {\n",
       "        vertical-align: middle;\n",
       "    }\n",
       "\n",
       "    .dataframe tbody tr th {\n",
       "        vertical-align: top;\n",
       "    }\n",
       "\n",
       "    .dataframe thead th {\n",
       "        text-align: right;\n",
       "    }\n",
       "</style>\n",
       "<table border=\"1\" class=\"dataframe\">\n",
       "  <thead>\n",
       "    <tr style=\"text-align: right;\">\n",
       "      <th></th>\n",
       "      <th>CHROM</th>\n",
       "      <th>POS</th>\n",
       "      <th>ID</th>\n",
       "      <th>REF</th>\n",
       "      <th>ALT</th>\n",
       "      <th>QUAL</th>\n",
       "      <th>FILTER</th>\n",
       "      <th>INFO</th>\n",
       "      <th>FORMAT</th>\n",
       "    </tr>\n",
       "  </thead>\n",
       "  <tbody>\n",
       "    <tr>\n",
       "      <th>0</th>\n",
       "      <td>1</td>\n",
       "      <td>8</td>\n",
       "      <td>1</td>\n",
       "      <td>A</td>\n",
       "      <td>T</td>\n",
       "      <td>.</td>\n",
       "      <td>PASS</td>\n",
       "      <td>.</td>\n",
       "      <td>GT:AD:DP</td>\n",
       "    </tr>\n",
       "    <tr>\n",
       "      <th>1</th>\n",
       "      <td>1</td>\n",
       "      <td>33</td>\n",
       "      <td>2</td>\n",
       "      <td>A</td>\n",
       "      <td>T</td>\n",
       "      <td>.</td>\n",
       "      <td>PASS</td>\n",
       "      <td>.</td>\n",
       "      <td>GT:AD:DP</td>\n",
       "    </tr>\n",
       "    <tr>\n",
       "      <th>2</th>\n",
       "      <td>1</td>\n",
       "      <td>74</td>\n",
       "      <td>3</td>\n",
       "      <td>A</td>\n",
       "      <td>T</td>\n",
       "      <td>.</td>\n",
       "      <td>PASS</td>\n",
       "      <td>.</td>\n",
       "      <td>GT:AD:DP</td>\n",
       "    </tr>\n",
       "    <tr>\n",
       "      <th>3</th>\n",
       "      <td>1</td>\n",
       "      <td>83</td>\n",
       "      <td>4</td>\n",
       "      <td>A</td>\n",
       "      <td>T</td>\n",
       "      <td>.</td>\n",
       "      <td>PASS</td>\n",
       "      <td>.</td>\n",
       "      <td>GT:AD:DP</td>\n",
       "    </tr>\n",
       "    <tr>\n",
       "      <th>4</th>\n",
       "      <td>1</td>\n",
       "      <td>87</td>\n",
       "      <td>5</td>\n",
       "      <td>A</td>\n",
       "      <td>T</td>\n",
       "      <td>.</td>\n",
       "      <td>PASS</td>\n",
       "      <td>.</td>\n",
       "      <td>GT:AD:DP</td>\n",
       "    </tr>\n",
       "  </tbody>\n",
       "</table>\n",
       "</div>"
      ],
      "text/plain": [
       "  CHROM POS ID REF ALT QUAL FILTER INFO    FORMAT\n",
       "0     1   8  1   A   T    .   PASS    .  GT:AD:DP\n",
       "1     1  33  2   A   T    .   PASS    .  GT:AD:DP\n",
       "2     1  74  3   A   T    .   PASS    .  GT:AD:DP\n",
       "3     1  83  4   A   T    .   PASS    .  GT:AD:DP\n",
       "4     1  87  5   A   T    .   PASS    .  GT:AD:DP"
      ]
     },
     "execution_count": 3,
     "metadata": {},
     "output_type": "execute_result"
    }
   ],
   "source": [
    "summary.head()\n"
   ]
  },
  {
   "cell_type": "markdown",
   "metadata": {},
   "source": [
    "### Global variation\n",
    "\n",
    "Perform PCA across data set.\n",
    "\n",
    "Perform Mean shift clustering to attempt to extract genetically coherent groups of accessions.\n",
    "\n",
    "These will later be used for supervised analysis."
   ]
  },
  {
   "cell_type": "code",
   "execution_count": 4,
   "metadata": {},
   "outputs": [],
   "source": [
    "n_comp= 3"
   ]
  },
  {
   "cell_type": "code",
   "execution_count": 5,
   "metadata": {},
   "outputs": [],
   "source": [
    "from structure_tools.Tutorial_subplots import plot_global_pca\n",
    "\n",
    "## Perform PCA\n",
    "pca = PCA(n_components=n_comp, whiten=False,svd_solver='randomized')\n",
    "\n",
    "feats= pca.fit_transform(genotype)"
   ]
  },
  {
   "cell_type": "code",
   "execution_count": 6,
   "metadata": {},
   "outputs": [],
   "source": [
    "## perform MeanShift clustering.\n",
    "bandwidth = estimate_bandwidth(feats, quantile=0.1)\n",
    "\n",
    "ms = MeanShift(bandwidth=bandwidth, bin_seeding=False, cluster_all=True, min_bin_freq=45)\n",
    "ms.fit(feats)\n",
    "labels1 = ms.labels_\n",
    "label_select = {y:[x for x in range(len(labels1)) if labels1[x] == y] for y in sorted(list(set(labels1)))}\n",
    "###"
   ]
  },
  {
   "cell_type": "code",
   "execution_count": 7,
   "metadata": {},
   "outputs": [
    {
     "data": {
      "application/vnd.plotly.v1+json": {
       "config": {
        "linkText": "Export to plot.ly",
        "plotlyServerURL": "https://plot.ly",
        "showLink": false
       },
       "data": [
        {
         "marker": {
          "color": "darkseagreen",
          "line": {
           "width": 0
          },
          "opacity": 0.8,
          "size": 6,
          "symbol": "circle"
         },
         "mode": "markers",
         "name": "0",
         "type": "scatter",
         "x": [
          68.4698288097003,
          67.72909588875751,
          67.4996721757367,
          66.79416045136934,
          66.15222350721669,
          69.38764359511399,
          68.7734202123772,
          68.01622649839547,
          67.82832276079934,
          67.98258544385045,
          67.98952654838176,
          66.07245333984613,
          67.4991607259584,
          67.87421029484527,
          67.69820547727159,
          67.355457411915,
          66.96127748854738,
          67.31303582887746,
          67.59533060978998,
          67.8997369978211,
          67.26773502216412,
          68.38060104903543,
          67.49850988168733,
          65.68590826801889,
          67.76796519073292,
          67.85563448552756,
          67.7862291845591,
          68.28531641259192,
          67.16063271918875,
          67.1826598440144,
          68.03080946376642,
          67.80150164028467,
          66.27307670302523,
          67.32594446960353,
          68.13437085673988,
          67.78090535085958,
          67.64473674318039,
          66.78721301722607,
          66.73804953882917,
          66.12644353534886
         ],
         "xaxis": "x",
         "y": [
          -4.3581523500473125,
          -3.3036357901100226,
          -4.977938095599955,
          -3.0339417847186594,
          -3.307090759473429,
          -4.34875983240701,
          -4.0751986303777805,
          -4.759649267579807,
          -4.232903554782169,
          -4.210813583046,
          -5.0991587678364345,
          -4.54262558825899,
          -4.361387904652778,
          -4.005589868095961,
          -4.261698575220487,
          -3.2041889489018973,
          -4.148334745895601,
          -3.5920726296489294,
          -4.098868479533081,
          -4.973865343547951,
          -3.663473306045585,
          -5.186843145044798,
          -3.3174488942791354,
          -4.237906922531899,
          -4.836744289202767,
          -4.036828263396438,
          -3.767709209425741,
          -4.104096503840552,
          -3.700905242409713,
          -3.5718954875660702,
          -3.698829276743942,
          -3.211291496049985,
          -3.9051484143579556,
          -4.29286486410617,
          -3.105888799620355,
          -5.067678407227428,
          -4.16690769903129,
          -3.800657087099713,
          -3.7585317915225125,
          -3.8300072811203947
         ],
         "yaxis": "y"
        },
        {
         "marker": {
          "color": "crimson",
          "line": {
           "width": 0
          },
          "opacity": 0.8,
          "size": 6,
          "symbol": "circle"
         },
         "mode": "markers",
         "name": "1",
         "type": "scatter",
         "x": [
          -47.55316217635037,
          -47.4180794783633,
          -45.807637292243605,
          -47.312616457769956,
          -46.572427593660095,
          -46.163468419469446,
          -47.11138771495037,
          -46.16077346310293,
          -47.56388564297889,
          -45.6356063487211,
          -46.24563803079304,
          -45.89345247281199,
          -45.57494438215287,
          -47.01250267335547,
          -47.92706190517545,
          -45.05991295686751,
          -47.68165642938726,
          -47.5856784399759,
          -47.947354716874216,
          -46.37352325511281,
          -46.07739756492692,
          -47.58691752783975,
          -47.497491145306384,
          -47.11043353666017,
          -48.04683056354359,
          -47.837208837431454,
          -47.45064334115487,
          -46.56832661989994,
          -47.37230671559473,
          -47.21541346040647,
          -46.61955755446099,
          -47.54684706978626,
          -47.44668057090998,
          -45.88441315410904,
          -48.93938010037407,
          -45.85421610418492,
          -46.90205461491722,
          -47.95552014160785,
          -47.01085910387904,
          -47.2669314493735,
          -43.54013158202165,
          -35.60638199372244
         ],
         "xaxis": "x",
         "y": [
          -25.126779724411715,
          -25.065907318745566,
          -25.67484128552412,
          -25.619083158487562,
          -25.14719314898475,
          -26.725827719304313,
          -25.68553620923627,
          -26.022792179234894,
          -25.93214567119508,
          -25.372136767701647,
          -25.392954618874786,
          -24.892258484530792,
          -24.903640866928935,
          -26.116532776965002,
          -25.142968435184578,
          -24.91086394489041,
          -24.487378596585437,
          -25.17120523567952,
          -25.64527157227695,
          -24.666874914595677,
          -26.196785818101006,
          -26.30603272324744,
          -24.823599896039767,
          -25.372452263279687,
          -26.434518539006802,
          -26.238704717040758,
          -24.09267937704925,
          -25.00358713246672,
          -25.310156746297775,
          -24.520109436143464,
          -26.002295337849258,
          -22.71735776482361,
          -24.62785255402498,
          -23.86995926345927,
          -23.347920420380063,
          -25.199646338037333,
          -25.095959565932358,
          -25.48290395910776,
          -24.718453588166014,
          -27.098275367011816,
          -19.92319428028358,
          -19.610615018642484
         ],
         "yaxis": "y"
        },
        {
         "marker": {
          "color": "darkorange",
          "line": {
           "width": 0
          },
          "opacity": 0.8,
          "size": 6,
          "symbol": "circle"
         },
         "mode": "markers",
         "name": "2",
         "type": "scatter",
         "x": [
          -28.615928997986032,
          -29.513710508334533,
          -28.637312255774297,
          -28.936476013127038,
          -29.421121438189115,
          -28.78435053527271,
          -28.947502269458145,
          -28.40415286237197,
          -29.331536223121436,
          -28.551252949321572,
          -29.324069558037063,
          -28.688872743054777,
          -29.263997821624752,
          -29.97513349384476,
          -28.315371341334554,
          -30.996318594041444,
          -29.69458429702631,
          -29.550164738126693,
          -29.205368251066762,
          -29.101376579724445
         ],
         "xaxis": "x",
         "y": [
          67.0913356773848,
          68.70589976228828,
          67.89872134970362,
          68.59839915390656,
          68.62377368469092,
          67.89725764372827,
          68.71391400541164,
          68.11039449160624,
          67.98345176344837,
          68.65515502491644,
          67.7718830706274,
          67.9655954792616,
          68.9796566104583,
          69.2806106574165,
          67.6435014484442,
          68.60656359309067,
          68.38608470981637,
          69.57202101624821,
          68.06572536980782,
          69.04814170778221
         ],
         "yaxis": "y"
        },
        {
         "marker": {
          "color": "darkblue",
          "line": {
           "width": 0
          },
          "opacity": 0.8,
          "size": 6,
          "symbol": "circle"
         },
         "mode": "markers",
         "name": "3",
         "type": "scatter",
         "x": [
          -16.698024988896098,
          -19.380145252863418,
          -21.197671364269706,
          -28.572173279763106,
          -25.839130818292936
         ],
         "xaxis": "x",
         "y": [
          -19.512204739007753,
          -16.930830022007164,
          -21.450590142496686,
          -22.589919252212997,
          -20.629338893564025
         ],
         "yaxis": "y"
        },
        {
         "marker": {
          "color": "darkcyan",
          "line": {
           "width": 0
          },
          "opacity": 0.8,
          "size": 6,
          "symbol": "circle"
         },
         "mode": "markers",
         "name": "4",
         "type": "scatter",
         "x": [
          -0.07973537095704243,
          -3.178533854976401,
          -1.3143198479804894
         ],
         "xaxis": "x",
         "y": [
          21.22328575666109,
          19.915169935111408,
          11.923139991243392
         ],
         "yaxis": "y"
        },
        {
         "marker": {
          "color": "darkgoldenrod",
          "line": {
           "width": 0
          },
          "opacity": 0.8,
          "size": 6,
          "symbol": "circle"
         },
         "mode": "markers",
         "name": "5",
         "type": "scatter",
         "x": [
          -8.27073430830293,
          -11.360404613721679,
          -7.393359678740271
         ],
         "xaxis": "x",
         "y": [
          5.420982827095007,
          10.8339224869615,
          4.937357009366981
         ],
         "yaxis": "y"
        },
        {
         "marker": {
          "color": "darkgray",
          "line": {
           "width": 0
          },
          "opacity": 0.8,
          "size": 6,
          "symbol": "circle"
         },
         "mode": "markers",
         "name": "6",
         "type": "scatter",
         "x": [
          -30.53889849058759,
          -35.1670171869536,
          -31.87261410178863,
          -33.763197301294895
         ],
         "xaxis": "x",
         "y": [
          -8.222938806557424,
          -1.8997587066149142,
          -0.19033255349324563,
          -5.2931007256818665
         ],
         "yaxis": "y"
        },
        {
         "marker": {
          "color": "darkgrey",
          "line": {
           "width": 0
          },
          "opacity": 0.8,
          "size": 6,
          "symbol": "circle"
         },
         "mode": "markers",
         "name": "7",
         "type": "scatter",
         "x": [
          55.03441663558887,
          45.590479064860865
         ],
         "xaxis": "x",
         "y": [
          -3.653970391722171,
          -5.894854890267374
         ],
         "yaxis": "y"
        },
        {
         "marker": {
          "color": "darkgreen",
          "line": {
           "width": 0
          },
          "opacity": 0.8,
          "size": 6,
          "symbol": "circle"
         },
         "mode": "markers",
         "name": "8",
         "type": "scatter",
         "x": [
          7.0593524025888925,
          7.346794122587353
         ],
         "xaxis": "x",
         "y": [
          -9.916291523807502,
          -8.337857079973888
         ],
         "yaxis": "y"
        },
        {
         "marker": {
          "color": "darkkhaki",
          "line": {
           "width": 0
          },
          "opacity": 0.8,
          "size": 6,
          "symbol": "circle"
         },
         "mode": "markers",
         "name": "9",
         "type": "scatter",
         "x": [
          -19.879060806932817,
          -19.652901072370412
         ],
         "xaxis": "x",
         "y": [
          -5.656136586304982,
          -3.963810868485704
         ],
         "yaxis": "y"
        },
        {
         "marker": {
          "color": "darkmagenta",
          "line": {
           "width": 0
          },
          "opacity": 0.8,
          "size": 6,
          "symbol": "circle"
         },
         "mode": "markers",
         "name": "10",
         "type": "scatter",
         "x": [
          22.554380632289647
         ],
         "xaxis": "x",
         "y": [
          -8.469750222875804
         ],
         "yaxis": "y"
        },
        {
         "marker": {
          "color": "darkolivegreen",
          "line": {
           "width": 0
          },
          "opacity": 0.8,
          "size": 6,
          "symbol": "circle"
         },
         "mode": "markers",
         "name": "11",
         "type": "scatter",
         "x": [
          17.443204902734998
         ],
         "xaxis": "x",
         "y": [
          -13.527417962993773
         ],
         "yaxis": "y"
        },
        {
         "marker": {
          "color": "darkorange",
          "line": {
           "width": 0
          },
          "opacity": 0.8,
          "size": 6,
          "symbol": "circle"
         },
         "mode": "markers",
         "name": "12",
         "type": "scatter",
         "x": [
          15.624952034597571
         ],
         "xaxis": "x",
         "y": [
          -7.387847051083033
         ],
         "yaxis": "y"
        },
        {
         "marker": {
          "color": "darkorchid",
          "line": {
           "width": 0
          },
          "opacity": 0.8,
          "size": 6,
          "symbol": "circle"
         },
         "mode": "markers",
         "name": "13",
         "type": "scatter",
         "x": [
          6.033188877242944
         ],
         "xaxis": "x",
         "y": [
          -11.04954405665394
         ],
         "yaxis": "y"
        },
        {
         "marker": {
          "color": "darkred",
          "line": {
           "width": 0
          },
          "opacity": 0.8,
          "size": 6,
          "symbol": "circle"
         },
         "mode": "markers",
         "name": "14",
         "type": "scatter",
         "x": [
          1.0402578799844004
         ],
         "xaxis": "x",
         "y": [
          -3.236777841234778
         ],
         "yaxis": "y"
        },
        {
         "marker": {
          "color": "darksalmon",
          "line": {
           "width": 0
          },
          "opacity": 0.8,
          "size": 6,
          "symbol": "circle"
         },
         "mode": "markers",
         "name": "15",
         "type": "scatter",
         "x": [
          -5.008209532848104
         ],
         "xaxis": "x",
         "y": [
          -17.620676093810534
         ],
         "yaxis": "y"
        },
        {
         "marker": {
          "color": "darkseagreen",
          "line": {
           "width": 0
          },
          "opacity": 0.8,
          "size": 6,
          "symbol": "circle"
         },
         "mode": "markers",
         "name": "16",
         "type": "scatter",
         "x": [
          -17.771398050824352
         ],
         "xaxis": "x",
         "y": [
          -14.565212199542271
         ],
         "yaxis": "y"
        },
        {
         "marker": {
          "color": "darkseagreen",
          "line": {
           "width": 0
          },
          "opacity": 0.8,
          "size": 6,
          "symbol": "circle"
         },
         "mode": "markers",
         "name": "0",
         "type": "scatter",
         "x": [
          68.4698288097003,
          67.72909588875751,
          67.4996721757367,
          66.79416045136934,
          66.15222350721669,
          69.38764359511399,
          68.7734202123772,
          68.01622649839547,
          67.82832276079934,
          67.98258544385045,
          67.98952654838176,
          66.07245333984613,
          67.4991607259584,
          67.87421029484527,
          67.69820547727159,
          67.355457411915,
          66.96127748854738,
          67.31303582887746,
          67.59533060978998,
          67.8997369978211,
          67.26773502216412,
          68.38060104903543,
          67.49850988168733,
          65.68590826801889,
          67.76796519073292,
          67.85563448552756,
          67.7862291845591,
          68.28531641259192,
          67.16063271918875,
          67.1826598440144,
          68.03080946376642,
          67.80150164028467,
          66.27307670302523,
          67.32594446960353,
          68.13437085673988,
          67.78090535085958,
          67.64473674318039,
          66.78721301722607,
          66.73804953882917,
          66.12644353534886
         ],
         "xaxis": "x2",
         "y": [
          -5.092780108212369,
          -6.066840315680922,
          -4.984134587316858,
          -4.548221656581344,
          -6.011164367631532,
          -6.850279802187728,
          -5.229034586984994,
          -5.646704785867343,
          -5.798497487906649,
          -6.1716022766849985,
          -5.7615367686876375,
          -4.562872465820291,
          -4.486033153903833,
          -6.001878326997847,
          -5.591628824764358,
          -5.931567505745114,
          -6.19229404911274,
          -5.914938854769347,
          -4.9396027343689735,
          -5.655345641275831,
          -5.403909003052893,
          -5.18989930588661,
          -6.005252304346813,
          -5.339173387361717,
          -5.908724359535277,
          -5.601361971544607,
          -5.030902625238706,
          -5.380662998355017,
          -5.6027550281603515,
          -4.488433378978828,
          -5.372381790643109,
          -5.0894571984163495,
          -6.420535180817569,
          -5.558978877887232,
          -6.042008318135243,
          -5.4995747591725435,
          -5.733732092965618,
          -5.938618609382373,
          -5.166835245556963,
          -4.5199790700657685
         ],
         "yaxis": "y2"
        },
        {
         "marker": {
          "color": "crimson",
          "line": {
           "width": 0
          },
          "opacity": 0.8,
          "size": 6,
          "symbol": "circle"
         },
         "mode": "markers",
         "name": "1",
         "type": "scatter",
         "x": [
          -47.55316217635037,
          -47.4180794783633,
          -45.807637292243605,
          -47.312616457769956,
          -46.572427593660095,
          -46.163468419469446,
          -47.11138771495037,
          -46.16077346310293,
          -47.56388564297889,
          -45.6356063487211,
          -46.24563803079304,
          -45.89345247281199,
          -45.57494438215287,
          -47.01250267335547,
          -47.92706190517545,
          -45.05991295686751,
          -47.68165642938726,
          -47.5856784399759,
          -47.947354716874216,
          -46.37352325511281,
          -46.07739756492692,
          -47.58691752783975,
          -47.497491145306384,
          -47.11043353666017,
          -48.04683056354359,
          -47.837208837431454,
          -47.45064334115487,
          -46.56832661989994,
          -47.37230671559473,
          -47.21541346040647,
          -46.61955755446099,
          -47.54684706978626,
          -47.44668057090998,
          -45.88441315410904,
          -48.93938010037407,
          -45.85421610418492,
          -46.90205461491722,
          -47.95552014160785,
          -47.01085910387904,
          -47.2669314493735,
          -43.54013158202165,
          -35.60638199372244
         ],
         "xaxis": "x2",
         "y": [
          -8.093421256582744,
          -8.241372528869823,
          -6.346255572796169,
          -7.89743522165364,
          -9.131248010946265,
          -8.385317849601583,
          -7.563367211426064,
          -6.283729722858263,
          -8.019856317874607,
          -7.749032260311339,
          -6.219417777729252,
          -6.6058022638874325,
          -6.284752647741757,
          -6.839901258739867,
          -6.849727822598555,
          -9.754225104159383,
          -6.355164662972082,
          -8.317597272634092,
          -8.692237345727438,
          -7.815154437127572,
          -6.576339608690642,
          -7.100856605038965,
          -8.079042589954415,
          -7.857615064649723,
          -6.5379639267969,
          -6.1651465307843445,
          -6.943910766676414,
          -10.42896622122836,
          -8.216440776826724,
          -6.556109705624286,
          -7.613128054596053,
          -8.501952646382671,
          -6.809943912706575,
          -7.266211527023839,
          -7.6271548093458685,
          -7.744202844593847,
          -7.435946166539932,
          -5.812940678461385,
          -6.79226488423637,
          -6.010146032709466,
          1.1486383326909682,
          -9.445375558996863
         ],
         "yaxis": "y2"
        },
        {
         "marker": {
          "color": "darkorange",
          "line": {
           "width": 0
          },
          "opacity": 0.8,
          "size": 6,
          "symbol": "circle"
         },
         "mode": "markers",
         "name": "2",
         "type": "scatter",
         "x": [
          -28.615928997986032,
          -29.513710508334533,
          -28.637312255774297,
          -28.936476013127038,
          -29.421121438189115,
          -28.78435053527271,
          -28.947502269458145,
          -28.40415286237197,
          -29.331536223121436,
          -28.551252949321572,
          -29.324069558037063,
          -28.688872743054777,
          -29.263997821624752,
          -29.97513349384476,
          -28.315371341334554,
          -30.996318594041444,
          -29.69458429702631,
          -29.550164738126693,
          -29.205368251066762,
          -29.101376579724445
         ],
         "xaxis": "x2",
         "y": [
          -11.790770400903252,
          -9.914130594616822,
          -9.770552286050021,
          -10.04243635952432,
          -9.521836367888366,
          -10.931113540748889,
          -9.807847649075825,
          -11.71711674166491,
          -11.317956595475568,
          -12.704493035416368,
          -10.528615279303144,
          -10.021632157880736,
          -10.066627645853117,
          -10.534062404841826,
          -11.071117290900421,
          -9.83106508352844,
          -10.170408765732926,
          -8.475363404513496,
          -11.463483033635336,
          -10.515929011508492
         ],
         "yaxis": "y2"
        },
        {
         "marker": {
          "color": "darkblue",
          "line": {
           "width": 0
          },
          "opacity": 0.8,
          "size": 6,
          "symbol": "circle"
         },
         "mode": "markers",
         "name": "3",
         "type": "scatter",
         "x": [
          -16.698024988896098,
          -19.380145252863418,
          -21.197671364269706,
          -28.572173279763106,
          -25.839130818292936
         ],
         "xaxis": "x2",
         "y": [
          -9.45637806908819,
          -8.616933005892747,
          -8.766735647248598,
          -5.808116986454367,
          -9.510112300640007
         ],
         "yaxis": "y2"
        },
        {
         "marker": {
          "color": "darkcyan",
          "line": {
           "width": 0
          },
          "opacity": 0.8,
          "size": 6,
          "symbol": "circle"
         },
         "mode": "markers",
         "name": "4",
         "type": "scatter",
         "x": [
          -0.07973537095704243,
          -3.178533854976401,
          -1.3143198479804894
         ],
         "xaxis": "x2",
         "y": [
          92.54437584809655,
          84.1815779588251,
          94.17659205781943
         ],
         "yaxis": "y2"
        },
        {
         "marker": {
          "color": "darkgoldenrod",
          "line": {
           "width": 0
          },
          "opacity": 0.8,
          "size": 6,
          "symbol": "circle"
         },
         "mode": "markers",
         "name": "5",
         "type": "scatter",
         "x": [
          -8.27073430830293,
          -11.360404613721679,
          -7.393359678740271
         ],
         "xaxis": "x2",
         "y": [
          80.2844382591244,
          73.132990015232,
          76.49454602049218
         ],
         "yaxis": "y2"
        },
        {
         "marker": {
          "color": "darkgray",
          "line": {
           "width": 0
          },
          "opacity": 0.8,
          "size": 6,
          "symbol": "circle"
         },
         "mode": "markers",
         "name": "6",
         "type": "scatter",
         "x": [
          -30.53889849058759,
          -35.1670171869536,
          -31.87261410178863,
          -33.763197301294895
         ],
         "xaxis": "x2",
         "y": [
          29.434496790086953,
          13.639181168233256,
          14.59612106403155,
          21.920340185530677
         ],
         "yaxis": "y2"
        },
        {
         "marker": {
          "color": "darkgrey",
          "line": {
           "width": 0
          },
          "opacity": 0.8,
          "size": 6,
          "symbol": "circle"
         },
         "mode": "markers",
         "name": "7",
         "type": "scatter",
         "x": [
          55.03441663558887,
          45.590479064860865
         ],
         "xaxis": "x2",
         "y": [
          3.5618216144455745,
          0.6280665249018178
         ],
         "yaxis": "y2"
        },
        {
         "marker": {
          "color": "darkgreen",
          "line": {
           "width": 0
          },
          "opacity": 0.8,
          "size": 6,
          "symbol": "circle"
         },
         "mode": "markers",
         "name": "8",
         "type": "scatter",
         "x": [
          7.0593524025888925,
          7.346794122587353
         ],
         "xaxis": "x2",
         "y": [
          9.440755632700272,
          17.22487941677978
         ],
         "yaxis": "y2"
        },
        {
         "marker": {
          "color": "darkkhaki",
          "line": {
           "width": 0
          },
          "opacity": 0.8,
          "size": 6,
          "symbol": "circle"
         },
         "mode": "markers",
         "name": "9",
         "type": "scatter",
         "x": [
          -19.879060806932817,
          -19.652901072370412
         ],
         "xaxis": "x2",
         "y": [
          54.8642182405629,
          53.12291578169936
         ],
         "yaxis": "y2"
        },
        {
         "marker": {
          "color": "darkmagenta",
          "line": {
           "width": 0
          },
          "opacity": 0.8,
          "size": 6,
          "symbol": "circle"
         },
         "mode": "markers",
         "name": "10",
         "type": "scatter",
         "x": [
          22.554380632289647
         ],
         "xaxis": "x2",
         "y": [
          8.631889337823264
         ],
         "yaxis": "y2"
        },
        {
         "marker": {
          "color": "darkolivegreen",
          "line": {
           "width": 0
          },
          "opacity": 0.8,
          "size": 6,
          "symbol": "circle"
         },
         "mode": "markers",
         "name": "11",
         "type": "scatter",
         "x": [
          17.443204902734998
         ],
         "xaxis": "x2",
         "y": [
          -5.163719744204849
         ],
         "yaxis": "y2"
        },
        {
         "marker": {
          "color": "darkorange",
          "line": {
           "width": 0
          },
          "opacity": 0.8,
          "size": 6,
          "symbol": "circle"
         },
         "mode": "markers",
         "name": "12",
         "type": "scatter",
         "x": [
          15.624952034597571
         ],
         "xaxis": "x2",
         "y": [
          25.145595451909003
         ],
         "yaxis": "y2"
        },
        {
         "marker": {
          "color": "darkorchid",
          "line": {
           "width": 0
          },
          "opacity": 0.8,
          "size": 6,
          "symbol": "circle"
         },
         "mode": "markers",
         "name": "13",
         "type": "scatter",
         "x": [
          6.033188877242944
         ],
         "xaxis": "x2",
         "y": [
          -4.923928763341753
         ],
         "yaxis": "y2"
        },
        {
         "marker": {
          "color": "darkred",
          "line": {
           "width": 0
          },
          "opacity": 0.8,
          "size": 6,
          "symbol": "circle"
         },
         "mode": "markers",
         "name": "14",
         "type": "scatter",
         "x": [
          1.0402578799844004
         ],
         "xaxis": "x2",
         "y": [
          33.96749294534536
         ],
         "yaxis": "y2"
        },
        {
         "marker": {
          "color": "darksalmon",
          "line": {
           "width": 0
          },
          "opacity": 0.8,
          "size": 6,
          "symbol": "circle"
         },
         "mode": "markers",
         "name": "15",
         "type": "scatter",
         "x": [
          -5.008209532848104
         ],
         "xaxis": "x2",
         "y": [
          -8.368112385601268
         ],
         "yaxis": "y2"
        },
        {
         "marker": {
          "color": "darkseagreen",
          "line": {
           "width": 0
          },
          "opacity": 0.8,
          "size": 6,
          "symbol": "circle"
         },
         "mode": "markers",
         "name": "16",
         "type": "scatter",
         "x": [
          -17.771398050824352
         ],
         "xaxis": "x2",
         "y": [
          10.366471169309593
         ],
         "yaxis": "y2"
        }
       ],
       "layout": {
        "annotations": [
         {
          "font": {
           "size": 16
          },
          "showarrow": false,
          "text": "global_pca",
          "x": 0.225,
          "xanchor": "center",
          "xref": "paper",
          "y": 1,
          "yanchor": "bottom",
          "yref": "paper"
         },
         {
          "font": {
           "size": 16
          },
          "showarrow": false,
          "text": "global_pca",
          "x": 0.775,
          "xanchor": "center",
          "xref": "paper",
          "y": 1,
          "yanchor": "bottom",
          "yref": "paper"
         }
        ],
        "height": 500,
        "template": {
         "data": {
          "bar": [
           {
            "error_x": {
             "color": "#2a3f5f"
            },
            "error_y": {
             "color": "#2a3f5f"
            },
            "marker": {
             "line": {
              "color": "#E5ECF6",
              "width": 0.5
             }
            },
            "type": "bar"
           }
          ],
          "barpolar": [
           {
            "marker": {
             "line": {
              "color": "#E5ECF6",
              "width": 0.5
             }
            },
            "type": "barpolar"
           }
          ],
          "carpet": [
           {
            "aaxis": {
             "endlinecolor": "#2a3f5f",
             "gridcolor": "white",
             "linecolor": "white",
             "minorgridcolor": "white",
             "startlinecolor": "#2a3f5f"
            },
            "baxis": {
             "endlinecolor": "#2a3f5f",
             "gridcolor": "white",
             "linecolor": "white",
             "minorgridcolor": "white",
             "startlinecolor": "#2a3f5f"
            },
            "type": "carpet"
           }
          ],
          "choropleth": [
           {
            "colorbar": {
             "outlinewidth": 0,
             "ticks": ""
            },
            "type": "choropleth"
           }
          ],
          "contour": [
           {
            "colorbar": {
             "outlinewidth": 0,
             "ticks": ""
            },
            "colorscale": [
             [
              0,
              "#0d0887"
             ],
             [
              0.1111111111111111,
              "#46039f"
             ],
             [
              0.2222222222222222,
              "#7201a8"
             ],
             [
              0.3333333333333333,
              "#9c179e"
             ],
             [
              0.4444444444444444,
              "#bd3786"
             ],
             [
              0.5555555555555556,
              "#d8576b"
             ],
             [
              0.6666666666666666,
              "#ed7953"
             ],
             [
              0.7777777777777778,
              "#fb9f3a"
             ],
             [
              0.8888888888888888,
              "#fdca26"
             ],
             [
              1,
              "#f0f921"
             ]
            ],
            "type": "contour"
           }
          ],
          "contourcarpet": [
           {
            "colorbar": {
             "outlinewidth": 0,
             "ticks": ""
            },
            "type": "contourcarpet"
           }
          ],
          "heatmap": [
           {
            "colorbar": {
             "outlinewidth": 0,
             "ticks": ""
            },
            "colorscale": [
             [
              0,
              "#0d0887"
             ],
             [
              0.1111111111111111,
              "#46039f"
             ],
             [
              0.2222222222222222,
              "#7201a8"
             ],
             [
              0.3333333333333333,
              "#9c179e"
             ],
             [
              0.4444444444444444,
              "#bd3786"
             ],
             [
              0.5555555555555556,
              "#d8576b"
             ],
             [
              0.6666666666666666,
              "#ed7953"
             ],
             [
              0.7777777777777778,
              "#fb9f3a"
             ],
             [
              0.8888888888888888,
              "#fdca26"
             ],
             [
              1,
              "#f0f921"
             ]
            ],
            "type": "heatmap"
           }
          ],
          "heatmapgl": [
           {
            "colorbar": {
             "outlinewidth": 0,
             "ticks": ""
            },
            "colorscale": [
             [
              0,
              "#0d0887"
             ],
             [
              0.1111111111111111,
              "#46039f"
             ],
             [
              0.2222222222222222,
              "#7201a8"
             ],
             [
              0.3333333333333333,
              "#9c179e"
             ],
             [
              0.4444444444444444,
              "#bd3786"
             ],
             [
              0.5555555555555556,
              "#d8576b"
             ],
             [
              0.6666666666666666,
              "#ed7953"
             ],
             [
              0.7777777777777778,
              "#fb9f3a"
             ],
             [
              0.8888888888888888,
              "#fdca26"
             ],
             [
              1,
              "#f0f921"
             ]
            ],
            "type": "heatmapgl"
           }
          ],
          "histogram": [
           {
            "marker": {
             "colorbar": {
              "outlinewidth": 0,
              "ticks": ""
             }
            },
            "type": "histogram"
           }
          ],
          "histogram2d": [
           {
            "colorbar": {
             "outlinewidth": 0,
             "ticks": ""
            },
            "colorscale": [
             [
              0,
              "#0d0887"
             ],
             [
              0.1111111111111111,
              "#46039f"
             ],
             [
              0.2222222222222222,
              "#7201a8"
             ],
             [
              0.3333333333333333,
              "#9c179e"
             ],
             [
              0.4444444444444444,
              "#bd3786"
             ],
             [
              0.5555555555555556,
              "#d8576b"
             ],
             [
              0.6666666666666666,
              "#ed7953"
             ],
             [
              0.7777777777777778,
              "#fb9f3a"
             ],
             [
              0.8888888888888888,
              "#fdca26"
             ],
             [
              1,
              "#f0f921"
             ]
            ],
            "type": "histogram2d"
           }
          ],
          "histogram2dcontour": [
           {
            "colorbar": {
             "outlinewidth": 0,
             "ticks": ""
            },
            "colorscale": [
             [
              0,
              "#0d0887"
             ],
             [
              0.1111111111111111,
              "#46039f"
             ],
             [
              0.2222222222222222,
              "#7201a8"
             ],
             [
              0.3333333333333333,
              "#9c179e"
             ],
             [
              0.4444444444444444,
              "#bd3786"
             ],
             [
              0.5555555555555556,
              "#d8576b"
             ],
             [
              0.6666666666666666,
              "#ed7953"
             ],
             [
              0.7777777777777778,
              "#fb9f3a"
             ],
             [
              0.8888888888888888,
              "#fdca26"
             ],
             [
              1,
              "#f0f921"
             ]
            ],
            "type": "histogram2dcontour"
           }
          ],
          "mesh3d": [
           {
            "colorbar": {
             "outlinewidth": 0,
             "ticks": ""
            },
            "type": "mesh3d"
           }
          ],
          "parcoords": [
           {
            "line": {
             "colorbar": {
              "outlinewidth": 0,
              "ticks": ""
             }
            },
            "type": "parcoords"
           }
          ],
          "pie": [
           {
            "automargin": true,
            "type": "pie"
           }
          ],
          "scatter": [
           {
            "marker": {
             "colorbar": {
              "outlinewidth": 0,
              "ticks": ""
             }
            },
            "type": "scatter"
           }
          ],
          "scatter3d": [
           {
            "line": {
             "colorbar": {
              "outlinewidth": 0,
              "ticks": ""
             }
            },
            "marker": {
             "colorbar": {
              "outlinewidth": 0,
              "ticks": ""
             }
            },
            "type": "scatter3d"
           }
          ],
          "scattercarpet": [
           {
            "marker": {
             "colorbar": {
              "outlinewidth": 0,
              "ticks": ""
             }
            },
            "type": "scattercarpet"
           }
          ],
          "scattergeo": [
           {
            "marker": {
             "colorbar": {
              "outlinewidth": 0,
              "ticks": ""
             }
            },
            "type": "scattergeo"
           }
          ],
          "scattergl": [
           {
            "marker": {
             "colorbar": {
              "outlinewidth": 0,
              "ticks": ""
             }
            },
            "type": "scattergl"
           }
          ],
          "scattermapbox": [
           {
            "marker": {
             "colorbar": {
              "outlinewidth": 0,
              "ticks": ""
             }
            },
            "type": "scattermapbox"
           }
          ],
          "scatterpolar": [
           {
            "marker": {
             "colorbar": {
              "outlinewidth": 0,
              "ticks": ""
             }
            },
            "type": "scatterpolar"
           }
          ],
          "scatterpolargl": [
           {
            "marker": {
             "colorbar": {
              "outlinewidth": 0,
              "ticks": ""
             }
            },
            "type": "scatterpolargl"
           }
          ],
          "scatterternary": [
           {
            "marker": {
             "colorbar": {
              "outlinewidth": 0,
              "ticks": ""
             }
            },
            "type": "scatterternary"
           }
          ],
          "surface": [
           {
            "colorbar": {
             "outlinewidth": 0,
             "ticks": ""
            },
            "colorscale": [
             [
              0,
              "#0d0887"
             ],
             [
              0.1111111111111111,
              "#46039f"
             ],
             [
              0.2222222222222222,
              "#7201a8"
             ],
             [
              0.3333333333333333,
              "#9c179e"
             ],
             [
              0.4444444444444444,
              "#bd3786"
             ],
             [
              0.5555555555555556,
              "#d8576b"
             ],
             [
              0.6666666666666666,
              "#ed7953"
             ],
             [
              0.7777777777777778,
              "#fb9f3a"
             ],
             [
              0.8888888888888888,
              "#fdca26"
             ],
             [
              1,
              "#f0f921"
             ]
            ],
            "type": "surface"
           }
          ],
          "table": [
           {
            "cells": {
             "fill": {
              "color": "#EBF0F8"
             },
             "line": {
              "color": "white"
             }
            },
            "header": {
             "fill": {
              "color": "#C8D4E3"
             },
             "line": {
              "color": "white"
             }
            },
            "type": "table"
           }
          ]
         },
         "layout": {
          "annotationdefaults": {
           "arrowcolor": "#2a3f5f",
           "arrowhead": 0,
           "arrowwidth": 1
          },
          "coloraxis": {
           "colorbar": {
            "outlinewidth": 0,
            "ticks": ""
           }
          },
          "colorscale": {
           "diverging": [
            [
             0,
             "#8e0152"
            ],
            [
             0.1,
             "#c51b7d"
            ],
            [
             0.2,
             "#de77ae"
            ],
            [
             0.3,
             "#f1b6da"
            ],
            [
             0.4,
             "#fde0ef"
            ],
            [
             0.5,
             "#f7f7f7"
            ],
            [
             0.6,
             "#e6f5d0"
            ],
            [
             0.7,
             "#b8e186"
            ],
            [
             0.8,
             "#7fbc41"
            ],
            [
             0.9,
             "#4d9221"
            ],
            [
             1,
             "#276419"
            ]
           ],
           "sequential": [
            [
             0,
             "#0d0887"
            ],
            [
             0.1111111111111111,
             "#46039f"
            ],
            [
             0.2222222222222222,
             "#7201a8"
            ],
            [
             0.3333333333333333,
             "#9c179e"
            ],
            [
             0.4444444444444444,
             "#bd3786"
            ],
            [
             0.5555555555555556,
             "#d8576b"
            ],
            [
             0.6666666666666666,
             "#ed7953"
            ],
            [
             0.7777777777777778,
             "#fb9f3a"
            ],
            [
             0.8888888888888888,
             "#fdca26"
            ],
            [
             1,
             "#f0f921"
            ]
           ],
           "sequentialminus": [
            [
             0,
             "#0d0887"
            ],
            [
             0.1111111111111111,
             "#46039f"
            ],
            [
             0.2222222222222222,
             "#7201a8"
            ],
            [
             0.3333333333333333,
             "#9c179e"
            ],
            [
             0.4444444444444444,
             "#bd3786"
            ],
            [
             0.5555555555555556,
             "#d8576b"
            ],
            [
             0.6666666666666666,
             "#ed7953"
            ],
            [
             0.7777777777777778,
             "#fb9f3a"
            ],
            [
             0.8888888888888888,
             "#fdca26"
            ],
            [
             1,
             "#f0f921"
            ]
           ]
          },
          "colorway": [
           "#636efa",
           "#EF553B",
           "#00cc96",
           "#ab63fa",
           "#FFA15A",
           "#19d3f3",
           "#FF6692",
           "#B6E880",
           "#FF97FF",
           "#FECB52"
          ],
          "font": {
           "color": "#2a3f5f"
          },
          "geo": {
           "bgcolor": "white",
           "lakecolor": "white",
           "landcolor": "#E5ECF6",
           "showlakes": true,
           "showland": true,
           "subunitcolor": "white"
          },
          "hoverlabel": {
           "align": "left"
          },
          "hovermode": "closest",
          "mapbox": {
           "style": "light"
          },
          "paper_bgcolor": "white",
          "plot_bgcolor": "#E5ECF6",
          "polar": {
           "angularaxis": {
            "gridcolor": "white",
            "linecolor": "white",
            "ticks": ""
           },
           "bgcolor": "#E5ECF6",
           "radialaxis": {
            "gridcolor": "white",
            "linecolor": "white",
            "ticks": ""
           }
          },
          "scene": {
           "xaxis": {
            "backgroundcolor": "#E5ECF6",
            "gridcolor": "white",
            "gridwidth": 2,
            "linecolor": "white",
            "showbackground": true,
            "ticks": "",
            "zerolinecolor": "white"
           },
           "yaxis": {
            "backgroundcolor": "#E5ECF6",
            "gridcolor": "white",
            "gridwidth": 2,
            "linecolor": "white",
            "showbackground": true,
            "ticks": "",
            "zerolinecolor": "white"
           },
           "zaxis": {
            "backgroundcolor": "#E5ECF6",
            "gridcolor": "white",
            "gridwidth": 2,
            "linecolor": "white",
            "showbackground": true,
            "ticks": "",
            "zerolinecolor": "white"
           }
          },
          "shapedefaults": {
           "line": {
            "color": "#2a3f5f"
           }
          },
          "ternary": {
           "aaxis": {
            "gridcolor": "white",
            "linecolor": "white",
            "ticks": ""
           },
           "baxis": {
            "gridcolor": "white",
            "linecolor": "white",
            "ticks": ""
           },
           "bgcolor": "#E5ECF6",
           "caxis": {
            "gridcolor": "white",
            "linecolor": "white",
            "ticks": ""
           }
          },
          "title": {
           "x": 0.05
          },
          "xaxis": {
           "automargin": true,
           "gridcolor": "white",
           "linecolor": "white",
           "ticks": "",
           "title": {
            "standoff": 15
           },
           "zerolinecolor": "white",
           "zerolinewidth": 2
          },
          "yaxis": {
           "automargin": true,
           "gridcolor": "white",
           "linecolor": "white",
           "ticks": "",
           "title": {
            "standoff": 15
           },
           "zerolinecolor": "white",
           "zerolinewidth": 2
          }
         }
        },
        "width": 950,
        "xaxis": {
         "anchor": "y",
         "domain": [
          0,
          0.45
         ],
         "title": {
          "text": "PC1"
         }
        },
        "xaxis2": {
         "anchor": "y2",
         "domain": [
          0.55,
          1
         ],
         "title": {
          "text": "PC1"
         }
        },
        "yaxis": {
         "anchor": "x",
         "domain": [
          0,
          1
         ],
         "title": {
          "text": "PC2"
         }
        },
        "yaxis2": {
         "anchor": "x2",
         "domain": [
          0,
          1
         ],
         "title": {
          "text": "PC3"
         }
        }
       }
      },
      "text/html": [
       "<div>\n",
       "        \n",
       "        \n",
       "            <div id=\"72c6a04f-2896-43a5-ac47-d6f7ec03f72f\" class=\"plotly-graph-div\" style=\"height:500px; width:950px;\"></div>\n",
       "            <script type=\"text/javascript\">\n",
       "                require([\"plotly\"], function(Plotly) {\n",
       "                    window.PLOTLYENV=window.PLOTLYENV || {};\n",
       "                    \n",
       "                if (document.getElementById(\"72c6a04f-2896-43a5-ac47-d6f7ec03f72f\")) {\n",
       "                    Plotly.newPlot(\n",
       "                        '72c6a04f-2896-43a5-ac47-d6f7ec03f72f',\n",
       "                        [{\"marker\": {\"color\": \"darkseagreen\", \"line\": {\"width\": 0}, \"opacity\": 0.8, \"size\": 6, \"symbol\": \"circle\"}, \"mode\": \"markers\", \"name\": \"0\", \"type\": \"scatter\", \"x\": [68.4698288097003, 67.72909588875751, 67.4996721757367, 66.79416045136934, 66.15222350721669, 69.38764359511399, 68.7734202123772, 68.01622649839547, 67.82832276079934, 67.98258544385045, 67.98952654838176, 66.07245333984613, 67.4991607259584, 67.87421029484527, 67.69820547727159, 67.355457411915, 66.96127748854738, 67.31303582887746, 67.59533060978998, 67.8997369978211, 67.26773502216412, 68.38060104903543, 67.49850988168733, 65.68590826801889, 67.76796519073292, 67.85563448552756, 67.7862291845591, 68.28531641259192, 67.16063271918875, 67.1826598440144, 68.03080946376642, 67.80150164028467, 66.27307670302523, 67.32594446960353, 68.13437085673988, 67.78090535085958, 67.64473674318039, 66.78721301722607, 66.73804953882917, 66.12644353534886], \"xaxis\": \"x\", \"y\": [-4.3581523500473125, -3.3036357901100226, -4.977938095599955, -3.0339417847186594, -3.307090759473429, -4.34875983240701, -4.0751986303777805, -4.759649267579807, -4.232903554782169, -4.210813583046, -5.0991587678364345, -4.54262558825899, -4.361387904652778, -4.005589868095961, -4.261698575220487, -3.2041889489018973, -4.148334745895601, -3.5920726296489294, -4.098868479533081, -4.973865343547951, -3.663473306045585, -5.186843145044798, -3.3174488942791354, -4.237906922531899, -4.836744289202767, -4.036828263396438, -3.767709209425741, -4.104096503840552, -3.700905242409713, -3.5718954875660702, -3.698829276743942, -3.211291496049985, -3.9051484143579556, -4.29286486410617, -3.105888799620355, -5.067678407227428, -4.16690769903129, -3.800657087099713, -3.7585317915225125, -3.8300072811203947], \"yaxis\": \"y\"}, {\"marker\": {\"color\": \"crimson\", \"line\": {\"width\": 0}, \"opacity\": 0.8, \"size\": 6, \"symbol\": \"circle\"}, \"mode\": \"markers\", \"name\": \"1\", \"type\": \"scatter\", \"x\": [-47.55316217635037, -47.4180794783633, -45.807637292243605, -47.312616457769956, -46.572427593660095, -46.163468419469446, -47.11138771495037, -46.16077346310293, -47.56388564297889, -45.6356063487211, -46.24563803079304, -45.89345247281199, -45.57494438215287, -47.01250267335547, -47.92706190517545, -45.05991295686751, -47.68165642938726, -47.5856784399759, -47.947354716874216, -46.37352325511281, -46.07739756492692, -47.58691752783975, -47.497491145306384, -47.11043353666017, -48.04683056354359, -47.837208837431454, -47.45064334115487, -46.56832661989994, -47.37230671559473, -47.21541346040647, -46.61955755446099, -47.54684706978626, -47.44668057090998, -45.88441315410904, -48.93938010037407, -45.85421610418492, -46.90205461491722, -47.95552014160785, -47.01085910387904, -47.2669314493735, -43.54013158202165, -35.60638199372244], \"xaxis\": \"x\", \"y\": [-25.126779724411715, -25.065907318745566, -25.67484128552412, -25.619083158487562, -25.14719314898475, -26.725827719304313, -25.68553620923627, -26.022792179234894, -25.93214567119508, -25.372136767701647, -25.392954618874786, -24.892258484530792, -24.903640866928935, -26.116532776965002, -25.142968435184578, -24.91086394489041, -24.487378596585437, -25.17120523567952, -25.64527157227695, -24.666874914595677, -26.196785818101006, -26.30603272324744, -24.823599896039767, -25.372452263279687, -26.434518539006802, -26.238704717040758, -24.09267937704925, -25.00358713246672, -25.310156746297775, -24.520109436143464, -26.002295337849258, -22.71735776482361, -24.62785255402498, -23.86995926345927, -23.347920420380063, -25.199646338037333, -25.095959565932358, -25.48290395910776, -24.718453588166014, -27.098275367011816, -19.92319428028358, -19.610615018642484], \"yaxis\": \"y\"}, {\"marker\": {\"color\": \"darkorange\", \"line\": {\"width\": 0}, \"opacity\": 0.8, \"size\": 6, \"symbol\": \"circle\"}, \"mode\": \"markers\", \"name\": \"2\", \"type\": \"scatter\", \"x\": [-28.615928997986032, -29.513710508334533, -28.637312255774297, -28.936476013127038, -29.421121438189115, -28.78435053527271, -28.947502269458145, -28.40415286237197, -29.331536223121436, -28.551252949321572, -29.324069558037063, -28.688872743054777, -29.263997821624752, -29.97513349384476, -28.315371341334554, -30.996318594041444, -29.69458429702631, -29.550164738126693, -29.205368251066762, -29.101376579724445], \"xaxis\": \"x\", \"y\": [67.0913356773848, 68.70589976228828, 67.89872134970362, 68.59839915390656, 68.62377368469092, 67.89725764372827, 68.71391400541164, 68.11039449160624, 67.98345176344837, 68.65515502491644, 67.7718830706274, 67.9655954792616, 68.9796566104583, 69.2806106574165, 67.6435014484442, 68.60656359309067, 68.38608470981637, 69.57202101624821, 68.06572536980782, 69.04814170778221], \"yaxis\": \"y\"}, {\"marker\": {\"color\": \"darkblue\", \"line\": {\"width\": 0}, \"opacity\": 0.8, \"size\": 6, \"symbol\": \"circle\"}, \"mode\": \"markers\", \"name\": \"3\", \"type\": \"scatter\", \"x\": [-16.698024988896098, -19.380145252863418, -21.197671364269706, -28.572173279763106, -25.839130818292936], \"xaxis\": \"x\", \"y\": [-19.512204739007753, -16.930830022007164, -21.450590142496686, -22.589919252212997, -20.629338893564025], \"yaxis\": \"y\"}, {\"marker\": {\"color\": \"darkcyan\", \"line\": {\"width\": 0}, \"opacity\": 0.8, \"size\": 6, \"symbol\": \"circle\"}, \"mode\": \"markers\", \"name\": \"4\", \"type\": \"scatter\", \"x\": [-0.07973537095704243, -3.178533854976401, -1.3143198479804894], \"xaxis\": \"x\", \"y\": [21.22328575666109, 19.915169935111408, 11.923139991243392], \"yaxis\": \"y\"}, {\"marker\": {\"color\": \"darkgoldenrod\", \"line\": {\"width\": 0}, \"opacity\": 0.8, \"size\": 6, \"symbol\": \"circle\"}, \"mode\": \"markers\", \"name\": \"5\", \"type\": \"scatter\", \"x\": [-8.27073430830293, -11.360404613721679, -7.393359678740271], \"xaxis\": \"x\", \"y\": [5.420982827095007, 10.8339224869615, 4.937357009366981], \"yaxis\": \"y\"}, {\"marker\": {\"color\": \"darkgray\", \"line\": {\"width\": 0}, \"opacity\": 0.8, \"size\": 6, \"symbol\": \"circle\"}, \"mode\": \"markers\", \"name\": \"6\", \"type\": \"scatter\", \"x\": [-30.53889849058759, -35.1670171869536, -31.87261410178863, -33.763197301294895], \"xaxis\": \"x\", \"y\": [-8.222938806557424, -1.8997587066149142, -0.19033255349324563, -5.2931007256818665], \"yaxis\": \"y\"}, {\"marker\": {\"color\": \"darkgrey\", \"line\": {\"width\": 0}, \"opacity\": 0.8, \"size\": 6, \"symbol\": \"circle\"}, \"mode\": \"markers\", \"name\": \"7\", \"type\": \"scatter\", \"x\": [55.03441663558887, 45.590479064860865], \"xaxis\": \"x\", \"y\": [-3.653970391722171, -5.894854890267374], \"yaxis\": \"y\"}, {\"marker\": {\"color\": \"darkgreen\", \"line\": {\"width\": 0}, \"opacity\": 0.8, \"size\": 6, \"symbol\": \"circle\"}, \"mode\": \"markers\", \"name\": \"8\", \"type\": \"scatter\", \"x\": [7.0593524025888925, 7.346794122587353], \"xaxis\": \"x\", \"y\": [-9.916291523807502, -8.337857079973888], \"yaxis\": \"y\"}, {\"marker\": {\"color\": \"darkkhaki\", \"line\": {\"width\": 0}, \"opacity\": 0.8, \"size\": 6, \"symbol\": \"circle\"}, \"mode\": \"markers\", \"name\": \"9\", \"type\": \"scatter\", \"x\": [-19.879060806932817, -19.652901072370412], \"xaxis\": \"x\", \"y\": [-5.656136586304982, -3.963810868485704], \"yaxis\": \"y\"}, {\"marker\": {\"color\": \"darkmagenta\", \"line\": {\"width\": 0}, \"opacity\": 0.8, \"size\": 6, \"symbol\": \"circle\"}, \"mode\": \"markers\", \"name\": \"10\", \"type\": \"scatter\", \"x\": [22.554380632289647], \"xaxis\": \"x\", \"y\": [-8.469750222875804], \"yaxis\": \"y\"}, {\"marker\": {\"color\": \"darkolivegreen\", \"line\": {\"width\": 0}, \"opacity\": 0.8, \"size\": 6, \"symbol\": \"circle\"}, \"mode\": \"markers\", \"name\": \"11\", \"type\": \"scatter\", \"x\": [17.443204902734998], \"xaxis\": \"x\", \"y\": [-13.527417962993773], \"yaxis\": \"y\"}, {\"marker\": {\"color\": \"darkorange\", \"line\": {\"width\": 0}, \"opacity\": 0.8, \"size\": 6, \"symbol\": \"circle\"}, \"mode\": \"markers\", \"name\": \"12\", \"type\": \"scatter\", \"x\": [15.624952034597571], \"xaxis\": \"x\", \"y\": [-7.387847051083033], \"yaxis\": \"y\"}, {\"marker\": {\"color\": \"darkorchid\", \"line\": {\"width\": 0}, \"opacity\": 0.8, \"size\": 6, \"symbol\": \"circle\"}, \"mode\": \"markers\", \"name\": \"13\", \"type\": \"scatter\", \"x\": [6.033188877242944], \"xaxis\": \"x\", \"y\": [-11.04954405665394], \"yaxis\": \"y\"}, {\"marker\": {\"color\": \"darkred\", \"line\": {\"width\": 0}, \"opacity\": 0.8, \"size\": 6, \"symbol\": \"circle\"}, \"mode\": \"markers\", \"name\": \"14\", \"type\": \"scatter\", \"x\": [1.0402578799844004], \"xaxis\": \"x\", \"y\": [-3.236777841234778], \"yaxis\": \"y\"}, {\"marker\": {\"color\": \"darksalmon\", \"line\": {\"width\": 0}, \"opacity\": 0.8, \"size\": 6, \"symbol\": \"circle\"}, \"mode\": \"markers\", \"name\": \"15\", \"type\": \"scatter\", \"x\": [-5.008209532848104], \"xaxis\": \"x\", \"y\": [-17.620676093810534], \"yaxis\": \"y\"}, {\"marker\": {\"color\": \"darkseagreen\", \"line\": {\"width\": 0}, \"opacity\": 0.8, \"size\": 6, \"symbol\": \"circle\"}, \"mode\": \"markers\", \"name\": \"16\", \"type\": \"scatter\", \"x\": [-17.771398050824352], \"xaxis\": \"x\", \"y\": [-14.565212199542271], \"yaxis\": \"y\"}, {\"marker\": {\"color\": \"darkseagreen\", \"line\": {\"width\": 0}, \"opacity\": 0.8, \"size\": 6, \"symbol\": \"circle\"}, \"mode\": \"markers\", \"name\": \"0\", \"type\": \"scatter\", \"x\": [68.4698288097003, 67.72909588875751, 67.4996721757367, 66.79416045136934, 66.15222350721669, 69.38764359511399, 68.7734202123772, 68.01622649839547, 67.82832276079934, 67.98258544385045, 67.98952654838176, 66.07245333984613, 67.4991607259584, 67.87421029484527, 67.69820547727159, 67.355457411915, 66.96127748854738, 67.31303582887746, 67.59533060978998, 67.8997369978211, 67.26773502216412, 68.38060104903543, 67.49850988168733, 65.68590826801889, 67.76796519073292, 67.85563448552756, 67.7862291845591, 68.28531641259192, 67.16063271918875, 67.1826598440144, 68.03080946376642, 67.80150164028467, 66.27307670302523, 67.32594446960353, 68.13437085673988, 67.78090535085958, 67.64473674318039, 66.78721301722607, 66.73804953882917, 66.12644353534886], \"xaxis\": \"x2\", \"y\": [-5.092780108212369, -6.066840315680922, -4.984134587316858, -4.548221656581344, -6.011164367631532, -6.850279802187728, -5.229034586984994, -5.646704785867343, -5.798497487906649, -6.1716022766849985, -5.7615367686876375, -4.562872465820291, -4.486033153903833, -6.001878326997847, -5.591628824764358, -5.931567505745114, -6.19229404911274, -5.914938854769347, -4.9396027343689735, -5.655345641275831, -5.403909003052893, -5.18989930588661, -6.005252304346813, -5.339173387361717, -5.908724359535277, -5.601361971544607, -5.030902625238706, -5.380662998355017, -5.6027550281603515, -4.488433378978828, -5.372381790643109, -5.0894571984163495, -6.420535180817569, -5.558978877887232, -6.042008318135243, -5.4995747591725435, -5.733732092965618, -5.938618609382373, -5.166835245556963, -4.5199790700657685], \"yaxis\": \"y2\"}, {\"marker\": {\"color\": \"crimson\", \"line\": {\"width\": 0}, \"opacity\": 0.8, \"size\": 6, \"symbol\": \"circle\"}, \"mode\": \"markers\", \"name\": \"1\", \"type\": \"scatter\", \"x\": [-47.55316217635037, -47.4180794783633, -45.807637292243605, -47.312616457769956, -46.572427593660095, -46.163468419469446, -47.11138771495037, -46.16077346310293, -47.56388564297889, -45.6356063487211, -46.24563803079304, -45.89345247281199, -45.57494438215287, -47.01250267335547, -47.92706190517545, -45.05991295686751, -47.68165642938726, -47.5856784399759, -47.947354716874216, -46.37352325511281, -46.07739756492692, -47.58691752783975, -47.497491145306384, -47.11043353666017, -48.04683056354359, -47.837208837431454, -47.45064334115487, -46.56832661989994, -47.37230671559473, -47.21541346040647, -46.61955755446099, -47.54684706978626, -47.44668057090998, -45.88441315410904, -48.93938010037407, -45.85421610418492, -46.90205461491722, -47.95552014160785, -47.01085910387904, -47.2669314493735, -43.54013158202165, -35.60638199372244], \"xaxis\": \"x2\", \"y\": [-8.093421256582744, -8.241372528869823, -6.346255572796169, -7.89743522165364, -9.131248010946265, -8.385317849601583, -7.563367211426064, -6.283729722858263, -8.019856317874607, -7.749032260311339, -6.219417777729252, -6.6058022638874325, -6.284752647741757, -6.839901258739867, -6.849727822598555, -9.754225104159383, -6.355164662972082, -8.317597272634092, -8.692237345727438, -7.815154437127572, -6.576339608690642, -7.100856605038965, -8.079042589954415, -7.857615064649723, -6.5379639267969, -6.1651465307843445, -6.943910766676414, -10.42896622122836, -8.216440776826724, -6.556109705624286, -7.613128054596053, -8.501952646382671, -6.809943912706575, -7.266211527023839, -7.6271548093458685, -7.744202844593847, -7.435946166539932, -5.812940678461385, -6.79226488423637, -6.010146032709466, 1.1486383326909682, -9.445375558996863], \"yaxis\": \"y2\"}, {\"marker\": {\"color\": \"darkorange\", \"line\": {\"width\": 0}, \"opacity\": 0.8, \"size\": 6, \"symbol\": \"circle\"}, \"mode\": \"markers\", \"name\": \"2\", \"type\": \"scatter\", \"x\": [-28.615928997986032, -29.513710508334533, -28.637312255774297, -28.936476013127038, -29.421121438189115, -28.78435053527271, -28.947502269458145, -28.40415286237197, -29.331536223121436, -28.551252949321572, -29.324069558037063, -28.688872743054777, -29.263997821624752, -29.97513349384476, -28.315371341334554, -30.996318594041444, -29.69458429702631, -29.550164738126693, -29.205368251066762, -29.101376579724445], \"xaxis\": \"x2\", \"y\": [-11.790770400903252, -9.914130594616822, -9.770552286050021, -10.04243635952432, -9.521836367888366, -10.931113540748889, -9.807847649075825, -11.71711674166491, -11.317956595475568, -12.704493035416368, -10.528615279303144, -10.021632157880736, -10.066627645853117, -10.534062404841826, -11.071117290900421, -9.83106508352844, -10.170408765732926, -8.475363404513496, -11.463483033635336, -10.515929011508492], \"yaxis\": \"y2\"}, {\"marker\": {\"color\": \"darkblue\", \"line\": {\"width\": 0}, \"opacity\": 0.8, \"size\": 6, \"symbol\": \"circle\"}, \"mode\": \"markers\", \"name\": \"3\", \"type\": \"scatter\", \"x\": [-16.698024988896098, -19.380145252863418, -21.197671364269706, -28.572173279763106, -25.839130818292936], \"xaxis\": \"x2\", \"y\": [-9.45637806908819, -8.616933005892747, -8.766735647248598, -5.808116986454367, -9.510112300640007], \"yaxis\": \"y2\"}, {\"marker\": {\"color\": \"darkcyan\", \"line\": {\"width\": 0}, \"opacity\": 0.8, \"size\": 6, \"symbol\": \"circle\"}, \"mode\": \"markers\", \"name\": \"4\", \"type\": \"scatter\", \"x\": [-0.07973537095704243, -3.178533854976401, -1.3143198479804894], \"xaxis\": \"x2\", \"y\": [92.54437584809655, 84.1815779588251, 94.17659205781943], \"yaxis\": \"y2\"}, {\"marker\": {\"color\": \"darkgoldenrod\", \"line\": {\"width\": 0}, \"opacity\": 0.8, \"size\": 6, \"symbol\": \"circle\"}, \"mode\": \"markers\", \"name\": \"5\", \"type\": \"scatter\", \"x\": [-8.27073430830293, -11.360404613721679, -7.393359678740271], \"xaxis\": \"x2\", \"y\": [80.2844382591244, 73.132990015232, 76.49454602049218], \"yaxis\": \"y2\"}, {\"marker\": {\"color\": \"darkgray\", \"line\": {\"width\": 0}, \"opacity\": 0.8, \"size\": 6, \"symbol\": \"circle\"}, \"mode\": \"markers\", \"name\": \"6\", \"type\": \"scatter\", \"x\": [-30.53889849058759, -35.1670171869536, -31.87261410178863, -33.763197301294895], \"xaxis\": \"x2\", \"y\": [29.434496790086953, 13.639181168233256, 14.59612106403155, 21.920340185530677], \"yaxis\": \"y2\"}, {\"marker\": {\"color\": \"darkgrey\", \"line\": {\"width\": 0}, \"opacity\": 0.8, \"size\": 6, \"symbol\": \"circle\"}, \"mode\": \"markers\", \"name\": \"7\", \"type\": \"scatter\", \"x\": [55.03441663558887, 45.590479064860865], \"xaxis\": \"x2\", \"y\": [3.5618216144455745, 0.6280665249018178], \"yaxis\": \"y2\"}, {\"marker\": {\"color\": \"darkgreen\", \"line\": {\"width\": 0}, \"opacity\": 0.8, \"size\": 6, \"symbol\": \"circle\"}, \"mode\": \"markers\", \"name\": \"8\", \"type\": \"scatter\", \"x\": [7.0593524025888925, 7.346794122587353], \"xaxis\": \"x2\", \"y\": [9.440755632700272, 17.22487941677978], \"yaxis\": \"y2\"}, {\"marker\": {\"color\": \"darkkhaki\", \"line\": {\"width\": 0}, \"opacity\": 0.8, \"size\": 6, \"symbol\": \"circle\"}, \"mode\": \"markers\", \"name\": \"9\", \"type\": \"scatter\", \"x\": [-19.879060806932817, -19.652901072370412], \"xaxis\": \"x2\", \"y\": [54.8642182405629, 53.12291578169936], \"yaxis\": \"y2\"}, {\"marker\": {\"color\": \"darkmagenta\", \"line\": {\"width\": 0}, \"opacity\": 0.8, \"size\": 6, \"symbol\": \"circle\"}, \"mode\": \"markers\", \"name\": \"10\", \"type\": \"scatter\", \"x\": [22.554380632289647], \"xaxis\": \"x2\", \"y\": [8.631889337823264], \"yaxis\": \"y2\"}, {\"marker\": {\"color\": \"darkolivegreen\", \"line\": {\"width\": 0}, \"opacity\": 0.8, \"size\": 6, \"symbol\": \"circle\"}, \"mode\": \"markers\", \"name\": \"11\", \"type\": \"scatter\", \"x\": [17.443204902734998], \"xaxis\": \"x2\", \"y\": [-5.163719744204849], \"yaxis\": \"y2\"}, {\"marker\": {\"color\": \"darkorange\", \"line\": {\"width\": 0}, \"opacity\": 0.8, \"size\": 6, \"symbol\": \"circle\"}, \"mode\": \"markers\", \"name\": \"12\", \"type\": \"scatter\", \"x\": [15.624952034597571], \"xaxis\": \"x2\", \"y\": [25.145595451909003], \"yaxis\": \"y2\"}, {\"marker\": {\"color\": \"darkorchid\", \"line\": {\"width\": 0}, \"opacity\": 0.8, \"size\": 6, \"symbol\": \"circle\"}, \"mode\": \"markers\", \"name\": \"13\", \"type\": \"scatter\", \"x\": [6.033188877242944], \"xaxis\": \"x2\", \"y\": [-4.923928763341753], \"yaxis\": \"y2\"}, {\"marker\": {\"color\": \"darkred\", \"line\": {\"width\": 0}, \"opacity\": 0.8, \"size\": 6, \"symbol\": \"circle\"}, \"mode\": \"markers\", \"name\": \"14\", \"type\": \"scatter\", \"x\": [1.0402578799844004], \"xaxis\": \"x2\", \"y\": [33.96749294534536], \"yaxis\": \"y2\"}, {\"marker\": {\"color\": \"darksalmon\", \"line\": {\"width\": 0}, \"opacity\": 0.8, \"size\": 6, \"symbol\": \"circle\"}, \"mode\": \"markers\", \"name\": \"15\", \"type\": \"scatter\", \"x\": [-5.008209532848104], \"xaxis\": \"x2\", \"y\": [-8.368112385601268], \"yaxis\": \"y2\"}, {\"marker\": {\"color\": \"darkseagreen\", \"line\": {\"width\": 0}, \"opacity\": 0.8, \"size\": 6, \"symbol\": \"circle\"}, \"mode\": \"markers\", \"name\": \"16\", \"type\": \"scatter\", \"x\": [-17.771398050824352], \"xaxis\": \"x2\", \"y\": [10.366471169309593], \"yaxis\": \"y2\"}],\n",
       "                        {\"annotations\": [{\"font\": {\"size\": 16}, \"showarrow\": false, \"text\": \"global_pca\", \"x\": 0.225, \"xanchor\": \"center\", \"xref\": \"paper\", \"y\": 1.0, \"yanchor\": \"bottom\", \"yref\": \"paper\"}, {\"font\": {\"size\": 16}, \"showarrow\": false, \"text\": \"global_pca\", \"x\": 0.775, \"xanchor\": \"center\", \"xref\": \"paper\", \"y\": 1.0, \"yanchor\": \"bottom\", \"yref\": \"paper\"}], \"height\": 500, \"template\": {\"data\": {\"bar\": [{\"error_x\": {\"color\": \"#2a3f5f\"}, \"error_y\": {\"color\": \"#2a3f5f\"}, \"marker\": {\"line\": {\"color\": \"#E5ECF6\", \"width\": 0.5}}, \"type\": \"bar\"}], \"barpolar\": [{\"marker\": {\"line\": {\"color\": \"#E5ECF6\", \"width\": 0.5}}, \"type\": \"barpolar\"}], \"carpet\": [{\"aaxis\": {\"endlinecolor\": \"#2a3f5f\", \"gridcolor\": \"white\", \"linecolor\": \"white\", \"minorgridcolor\": \"white\", \"startlinecolor\": \"#2a3f5f\"}, \"baxis\": {\"endlinecolor\": \"#2a3f5f\", \"gridcolor\": \"white\", \"linecolor\": \"white\", \"minorgridcolor\": \"white\", \"startlinecolor\": \"#2a3f5f\"}, \"type\": \"carpet\"}], \"choropleth\": [{\"colorbar\": {\"outlinewidth\": 0, \"ticks\": \"\"}, \"type\": \"choropleth\"}], \"contour\": [{\"colorbar\": {\"outlinewidth\": 0, \"ticks\": \"\"}, \"colorscale\": [[0.0, \"#0d0887\"], [0.1111111111111111, \"#46039f\"], [0.2222222222222222, \"#7201a8\"], [0.3333333333333333, \"#9c179e\"], [0.4444444444444444, \"#bd3786\"], [0.5555555555555556, \"#d8576b\"], [0.6666666666666666, \"#ed7953\"], [0.7777777777777778, \"#fb9f3a\"], [0.8888888888888888, \"#fdca26\"], [1.0, \"#f0f921\"]], \"type\": \"contour\"}], \"contourcarpet\": [{\"colorbar\": {\"outlinewidth\": 0, \"ticks\": \"\"}, \"type\": \"contourcarpet\"}], \"heatmap\": [{\"colorbar\": {\"outlinewidth\": 0, \"ticks\": \"\"}, \"colorscale\": [[0.0, \"#0d0887\"], [0.1111111111111111, \"#46039f\"], [0.2222222222222222, \"#7201a8\"], [0.3333333333333333, \"#9c179e\"], [0.4444444444444444, \"#bd3786\"], [0.5555555555555556, \"#d8576b\"], [0.6666666666666666, \"#ed7953\"], [0.7777777777777778, \"#fb9f3a\"], [0.8888888888888888, \"#fdca26\"], [1.0, \"#f0f921\"]], \"type\": \"heatmap\"}], \"heatmapgl\": [{\"colorbar\": {\"outlinewidth\": 0, \"ticks\": \"\"}, \"colorscale\": [[0.0, \"#0d0887\"], [0.1111111111111111, \"#46039f\"], [0.2222222222222222, \"#7201a8\"], [0.3333333333333333, \"#9c179e\"], [0.4444444444444444, \"#bd3786\"], [0.5555555555555556, \"#d8576b\"], [0.6666666666666666, \"#ed7953\"], [0.7777777777777778, \"#fb9f3a\"], [0.8888888888888888, \"#fdca26\"], [1.0, \"#f0f921\"]], \"type\": \"heatmapgl\"}], \"histogram\": [{\"marker\": {\"colorbar\": {\"outlinewidth\": 0, \"ticks\": \"\"}}, \"type\": \"histogram\"}], \"histogram2d\": [{\"colorbar\": {\"outlinewidth\": 0, \"ticks\": \"\"}, \"colorscale\": [[0.0, \"#0d0887\"], [0.1111111111111111, \"#46039f\"], [0.2222222222222222, \"#7201a8\"], [0.3333333333333333, \"#9c179e\"], [0.4444444444444444, \"#bd3786\"], [0.5555555555555556, \"#d8576b\"], [0.6666666666666666, \"#ed7953\"], [0.7777777777777778, \"#fb9f3a\"], [0.8888888888888888, \"#fdca26\"], [1.0, \"#f0f921\"]], \"type\": \"histogram2d\"}], \"histogram2dcontour\": [{\"colorbar\": {\"outlinewidth\": 0, \"ticks\": \"\"}, \"colorscale\": [[0.0, \"#0d0887\"], [0.1111111111111111, \"#46039f\"], [0.2222222222222222, \"#7201a8\"], [0.3333333333333333, \"#9c179e\"], [0.4444444444444444, \"#bd3786\"], [0.5555555555555556, \"#d8576b\"], [0.6666666666666666, \"#ed7953\"], [0.7777777777777778, \"#fb9f3a\"], [0.8888888888888888, \"#fdca26\"], [1.0, \"#f0f921\"]], \"type\": \"histogram2dcontour\"}], \"mesh3d\": [{\"colorbar\": {\"outlinewidth\": 0, \"ticks\": \"\"}, \"type\": \"mesh3d\"}], \"parcoords\": [{\"line\": {\"colorbar\": {\"outlinewidth\": 0, \"ticks\": \"\"}}, \"type\": \"parcoords\"}], \"pie\": [{\"automargin\": true, \"type\": \"pie\"}], \"scatter\": [{\"marker\": {\"colorbar\": {\"outlinewidth\": 0, \"ticks\": \"\"}}, \"type\": \"scatter\"}], \"scatter3d\": [{\"line\": {\"colorbar\": {\"outlinewidth\": 0, \"ticks\": \"\"}}, \"marker\": {\"colorbar\": {\"outlinewidth\": 0, \"ticks\": \"\"}}, \"type\": \"scatter3d\"}], \"scattercarpet\": [{\"marker\": {\"colorbar\": {\"outlinewidth\": 0, \"ticks\": \"\"}}, \"type\": \"scattercarpet\"}], \"scattergeo\": [{\"marker\": {\"colorbar\": {\"outlinewidth\": 0, \"ticks\": \"\"}}, \"type\": \"scattergeo\"}], \"scattergl\": [{\"marker\": {\"colorbar\": {\"outlinewidth\": 0, \"ticks\": \"\"}}, \"type\": \"scattergl\"}], \"scattermapbox\": [{\"marker\": {\"colorbar\": {\"outlinewidth\": 0, \"ticks\": \"\"}}, \"type\": \"scattermapbox\"}], \"scatterpolar\": [{\"marker\": {\"colorbar\": {\"outlinewidth\": 0, \"ticks\": \"\"}}, \"type\": \"scatterpolar\"}], \"scatterpolargl\": [{\"marker\": {\"colorbar\": {\"outlinewidth\": 0, \"ticks\": \"\"}}, \"type\": \"scatterpolargl\"}], \"scatterternary\": [{\"marker\": {\"colorbar\": {\"outlinewidth\": 0, \"ticks\": \"\"}}, \"type\": \"scatterternary\"}], \"surface\": [{\"colorbar\": {\"outlinewidth\": 0, \"ticks\": \"\"}, \"colorscale\": [[0.0, \"#0d0887\"], [0.1111111111111111, \"#46039f\"], [0.2222222222222222, \"#7201a8\"], [0.3333333333333333, \"#9c179e\"], [0.4444444444444444, \"#bd3786\"], [0.5555555555555556, \"#d8576b\"], [0.6666666666666666, \"#ed7953\"], [0.7777777777777778, \"#fb9f3a\"], [0.8888888888888888, \"#fdca26\"], [1.0, \"#f0f921\"]], \"type\": \"surface\"}], \"table\": [{\"cells\": {\"fill\": {\"color\": \"#EBF0F8\"}, \"line\": {\"color\": \"white\"}}, \"header\": {\"fill\": {\"color\": \"#C8D4E3\"}, \"line\": {\"color\": \"white\"}}, \"type\": \"table\"}]}, \"layout\": {\"annotationdefaults\": {\"arrowcolor\": \"#2a3f5f\", \"arrowhead\": 0, \"arrowwidth\": 1}, \"coloraxis\": {\"colorbar\": {\"outlinewidth\": 0, \"ticks\": \"\"}}, \"colorscale\": {\"diverging\": [[0, \"#8e0152\"], [0.1, \"#c51b7d\"], [0.2, \"#de77ae\"], [0.3, \"#f1b6da\"], [0.4, \"#fde0ef\"], [0.5, \"#f7f7f7\"], [0.6, \"#e6f5d0\"], [0.7, \"#b8e186\"], [0.8, \"#7fbc41\"], [0.9, \"#4d9221\"], [1, \"#276419\"]], \"sequential\": [[0.0, \"#0d0887\"], [0.1111111111111111, \"#46039f\"], [0.2222222222222222, \"#7201a8\"], [0.3333333333333333, \"#9c179e\"], [0.4444444444444444, \"#bd3786\"], [0.5555555555555556, \"#d8576b\"], [0.6666666666666666, \"#ed7953\"], [0.7777777777777778, \"#fb9f3a\"], [0.8888888888888888, \"#fdca26\"], [1.0, \"#f0f921\"]], \"sequentialminus\": [[0.0, \"#0d0887\"], [0.1111111111111111, \"#46039f\"], [0.2222222222222222, \"#7201a8\"], [0.3333333333333333, \"#9c179e\"], [0.4444444444444444, \"#bd3786\"], [0.5555555555555556, \"#d8576b\"], [0.6666666666666666, \"#ed7953\"], [0.7777777777777778, \"#fb9f3a\"], [0.8888888888888888, \"#fdca26\"], [1.0, \"#f0f921\"]]}, \"colorway\": [\"#636efa\", \"#EF553B\", \"#00cc96\", \"#ab63fa\", \"#FFA15A\", \"#19d3f3\", \"#FF6692\", \"#B6E880\", \"#FF97FF\", \"#FECB52\"], \"font\": {\"color\": \"#2a3f5f\"}, \"geo\": {\"bgcolor\": \"white\", \"lakecolor\": \"white\", \"landcolor\": \"#E5ECF6\", \"showlakes\": true, \"showland\": true, \"subunitcolor\": \"white\"}, \"hoverlabel\": {\"align\": \"left\"}, \"hovermode\": \"closest\", \"mapbox\": {\"style\": \"light\"}, \"paper_bgcolor\": \"white\", \"plot_bgcolor\": \"#E5ECF6\", \"polar\": {\"angularaxis\": {\"gridcolor\": \"white\", \"linecolor\": \"white\", \"ticks\": \"\"}, \"bgcolor\": \"#E5ECF6\", \"radialaxis\": {\"gridcolor\": \"white\", \"linecolor\": \"white\", \"ticks\": \"\"}}, \"scene\": {\"xaxis\": {\"backgroundcolor\": \"#E5ECF6\", \"gridcolor\": \"white\", \"gridwidth\": 2, \"linecolor\": \"white\", \"showbackground\": true, \"ticks\": \"\", \"zerolinecolor\": \"white\"}, \"yaxis\": {\"backgroundcolor\": \"#E5ECF6\", \"gridcolor\": \"white\", \"gridwidth\": 2, \"linecolor\": \"white\", \"showbackground\": true, \"ticks\": \"\", \"zerolinecolor\": \"white\"}, \"zaxis\": {\"backgroundcolor\": \"#E5ECF6\", \"gridcolor\": \"white\", \"gridwidth\": 2, \"linecolor\": \"white\", \"showbackground\": true, \"ticks\": \"\", \"zerolinecolor\": \"white\"}}, \"shapedefaults\": {\"line\": {\"color\": \"#2a3f5f\"}}, \"ternary\": {\"aaxis\": {\"gridcolor\": \"white\", \"linecolor\": \"white\", \"ticks\": \"\"}, \"baxis\": {\"gridcolor\": \"white\", \"linecolor\": \"white\", \"ticks\": \"\"}, \"bgcolor\": \"#E5ECF6\", \"caxis\": {\"gridcolor\": \"white\", \"linecolor\": \"white\", \"ticks\": \"\"}}, \"title\": {\"x\": 0.05}, \"xaxis\": {\"automargin\": true, \"gridcolor\": \"white\", \"linecolor\": \"white\", \"ticks\": \"\", \"title\": {\"standoff\": 15}, \"zerolinecolor\": \"white\", \"zerolinewidth\": 2}, \"yaxis\": {\"automargin\": true, \"gridcolor\": \"white\", \"linecolor\": \"white\", \"ticks\": \"\", \"title\": {\"standoff\": 15}, \"zerolinecolor\": \"white\", \"zerolinewidth\": 2}}}, \"width\": 950, \"xaxis\": {\"anchor\": \"y\", \"domain\": [0.0, 0.45], \"title\": {\"text\": \"PC1\"}}, \"xaxis2\": {\"anchor\": \"y2\", \"domain\": [0.55, 1.0], \"title\": {\"text\": \"PC1\"}}, \"yaxis\": {\"anchor\": \"x\", \"domain\": [0.0, 1.0], \"title\": {\"text\": \"PC2\"}}, \"yaxis2\": {\"anchor\": \"x2\", \"domain\": [0.0, 1.0], \"title\": {\"text\": \"PC3\"}}},\n",
       "                        {\"responsive\": true}\n",
       "                    ).then(function(){\n",
       "                            \n",
       "var gd = document.getElementById('72c6a04f-2896-43a5-ac47-d6f7ec03f72f');\n",
       "var x = new MutationObserver(function (mutations, observer) {{\n",
       "        var display = window.getComputedStyle(gd).display;\n",
       "        if (!display || display === 'none') {{\n",
       "            console.log([gd, 'removed!']);\n",
       "            Plotly.purge(gd);\n",
       "            observer.disconnect();\n",
       "        }}\n",
       "}});\n",
       "\n",
       "// Listen for the removal of the full notebook cells\n",
       "var notebookContainer = gd.closest('#notebook-container');\n",
       "if (notebookContainer) {{\n",
       "    x.observe(notebookContainer, {childList: true});\n",
       "}}\n",
       "\n",
       "// Listen for the clearing of the current output cell\n",
       "var outputEl = gd.closest('.output');\n",
       "if (outputEl) {{\n",
       "    x.observe(outputEl, {childList: true});\n",
       "}}\n",
       "\n",
       "                        })\n",
       "                };\n",
       "                });\n",
       "            </script>\n",
       "        </div>"
      ]
     },
     "metadata": {},
     "output_type": "display_data"
    }
   ],
   "source": [
    "###\n",
    "plot_global_pca(feats,label_select,PCA_color_ref,title= 'global_pca',height= 500,width= 950)"
   ]
  },
  {
   "cell_type": "code",
   "execution_count": 33,
   "metadata": {},
   "outputs": [],
   "source": [
    "select_refs= [0,1,2]\n",
    "label_vector= [[len(select_refs),labels1[x]][int(labels1[x] in select_refs)] for x in range(genotype.shape[0])]\n",
    "\n",
    "Whose= list(range(genotype.shape[0]))\n"
   ]
  },
  {
   "cell_type": "markdown",
   "metadata": {},
   "source": [
    "## Imputation\n",
    "\n",
    "### Creating a matrix, introducing missing values"
   ]
  },
  {
   "cell_type": "code",
   "execution_count": 140,
   "metadata": {},
   "outputs": [
    {
     "name": "stdout",
     "output_type": "stream",
     "text": [
      "full data set shape: (130, 40000)\n",
      "[[  27 5150]]\n"
     ]
    }
   ],
   "source": [
    "print('full data set shape: {}'.format(genotype.shape))\n",
    "\n",
    "nan_n= 1\n",
    "\n",
    "xnan= np.random.randint(0,genotype.shape[1],size= nan_n)\n",
    "ynan= np.random.randint(0,genotype.shape[0],size= nan_n)\n",
    "\n",
    "nan_coords= [ynan,xnan]\n",
    "nan_coords= np.array(nan_coords).T\n",
    "\n",
    "print(nan_coords)\n"
   ]
  },
  {
   "cell_type": "code",
   "execution_count": 141,
   "metadata": {},
   "outputs": [
    {
     "data": {
      "text/plain": [
       "(400, 129)"
      ]
     },
     "execution_count": 141,
     "metadata": {},
     "output_type": "execute_result"
    }
   ],
   "source": [
    "from sklearn.metrics import pairwise_distances\n",
    "\n",
    "nan_idx= 0\n",
    "\n",
    "wind_sizes= 100\n",
    "Nreps= 400\n",
    "ncomps= 5\n",
    "dimN= 2\n",
    "\n",
    "metric= 'euclidean'\n",
    "\n",
    "nan_obs= nan_coords[nan_idx]\n",
    "nan_acc= nan_obs[0]\n",
    "nan_pos= nan_obs[1]\n",
    "\n",
    "other_obs= [x for x in range(genotype.shape[0]) if x != nan_acc]\n",
    "\n",
    "dist_store= []\n",
    "\n",
    "for idx in range(Nreps):\n",
    "    \n",
    "    st= -1\n",
    "    while st == -1:\n",
    "        stp= np.random.randint(0,genotype.shape[1]-wind_sizes)\n",
    "        dinc= nan_pos - stp\n",
    "        if dinc > wind_sizes or dinc < 0:\n",
    "            st= stp\n",
    "    \n",
    "    nwind= genotype[:,stp:(stp+wind_sizes)]\n",
    "    \n",
    "    pca2 = PCA(n_components=ncomps, whiten=False,svd_solver='randomized')\n",
    "    featw= pca2.fit_transform(nwind)\n",
    "    \n",
    "    obsn= featw[nan_acc,:dimN].reshape(1,-1)\n",
    "    dist_vec= pairwise_distances(obsn, featw[other_obs,:dimN],\n",
    "                                                metric=metric)\n",
    "    \n",
    "    dist_store.extend(dist_vec)\n",
    "    \n",
    "dist_store= np.array(dist_store)\n",
    "dist_store.shape"
   ]
  },
  {
   "cell_type": "code",
   "execution_count": 142,
   "metadata": {},
   "outputs": [
    {
     "data": {
      "application/vnd.plotly.v1+json": {
       "config": {
        "linkText": "Export to plot.ly",
        "plotlyServerURL": "https://plot.ly",
        "showLink": false
       },
       "data": [
        {
         "mode": "markers",
         "name": "-1",
         "type": "scatter",
         "x": [
          -6.031951949610782,
          -1.9750515905686237,
          0.9954554066257499,
          -11.476133806083787,
          -7.332766987924524,
          9.51332003652092,
          -1.9212562010572987,
          -8.032092959905754,
          -11.477314103381753,
          -11.50327368594863,
          -6.763217955974227,
          14.54276131484611,
          -9.97674971623654,
          -11.582875881790098,
          8.779351270286696,
          11.580481923613087,
          8.656115281303217,
          -10.507858879758263,
          -0.19384500544477282,
          -9.856721675197173,
          -4.095367946770901,
          3.2127814958735965,
          -10.13847554800276,
          -4.048128824457033,
          -8.050059145307326,
          -5.480378005222702,
          15.701473675236326,
          -2.755768180892213,
          -9.095377539271336,
          11.724821564714457,
          9.618017385648344,
          -9.88995730480049,
          5.026933536814479,
          -12.328037734773657,
          -10.51505630368395,
          -11.566283926395874,
          -4.716893861651176,
          13.86104301221586,
          -9.131613365841863,
          -14.249802060987287,
          14.245002275392403,
          1.3127860008309735,
          -6.60984154721099,
          -3.4371953720253137,
          -13.849435887650195,
          4.240702935475696,
          -5.64594527651048,
          8.316840987438848,
          1.7475027150737852,
          12.0529544031031,
          10.349140093701365,
          -15.614720179942937,
          9.547602726343241,
          10.7837126645134,
          11.247679621065329,
          -4.918122215736405,
          -11.273391698066035,
          10.631317210733748,
          -4.156339533028392,
          11.94715559699949,
          9.992783697971673,
          -13.737902985710255,
          -9.333167172115035,
          -6.205631412019862,
          2.579024773675917,
          -15.011562808980363,
          -0.9772985585221154,
          6.164057988381104,
          0.21360695039030037,
          -10.509468793883729,
          -6.945490909556688,
          -8.88493290731692,
          3.5127193157085337,
          -6.5937843692911855,
          -12.735826071829127,
          -13.241867980210085,
          4.029220163190616,
          -8.86117548152163,
          6.305918548027575,
          9.684027690032448,
          -11.317060457998613,
          -6.9840684563756446,
          11.43553221074873,
          -13.925950638654637,
          2.243734452764706,
          11.618461680331917,
          9.112897643740746,
          12.784599449996872,
          6.980085488741801,
          11.467516296735822,
          7.501594129765244,
          -12.685341186657473,
          -6.457958194718075,
          4.861537562896071,
          -6.201160510751059,
          -14.666574503322659,
          -13.502120018013837,
          -5.4956838992834385,
          9.39039345809609,
          -11.13993663323717,
          -7.290874450584825,
          -10.445881197802972,
          -3.5681442401517725,
          13.008320633893558,
          -3.970891073759885,
          9.4526672563113,
          -1.666053681729572,
          11.120332210587442,
          13.743753291946053,
          -6.149225253267557,
          8.318791108079354,
          -3.8180857856159593,
          10.98775908877765,
          -1.2858393384299647,
          -10.10704270613436,
          -0.6572110758909998,
          -0.8223207988988086,
          -13.049457642680363,
          -10.913051704986778,
          -13.479675217042436,
          -4.61097554571966,
          -12.714329444012035,
          2.9743948536148976,
          -13.043164481606782,
          -3.1536386844768525,
          -7.4567425274668055,
          -12.746377705129651,
          -6.891066560060017,
          -4.890691886414487,
          -8.732973322644497,
          -6.771375418849782,
          3.79776628667339,
          -10.584258862584424,
          0.22449373169543801,
          11.112767617979571,
          4.599235144631674,
          -7.600965944817894,
          9.496512850712264,
          -6.279454324866535,
          -6.009609185695042,
          -8.122371340228495,
          -8.636874323563996,
          14.334064611527817
         ],
         "y": [
          4.899997133259175,
          -7.364502509995108,
          -9.05989179828697,
          -0.22929904680203214,
          -1.2805641281207496,
          -7.191868251735394,
          0.7883443308485931,
          1.307768214304777,
          2.3885381389816076,
          4.846174826862385,
          4.699548206255366,
          0.8084435903661251,
          13.725238829361158,
          -3.8803346259043803,
          3.853057624023856,
          0.5655442756627191,
          -4.402442083128753,
          1.2897239870115853,
          -2.4105063903993766,
          -6.157432436916432,
          -1.8691631077659487,
          -2.163297866313312,
          0.48752795755862205,
          -6.690685868919065,
          1.115825318459473,
          -5.448155022647564,
          1.5176503840116244,
          5.809795408987223,
          -1.897936305709367,
          -0.6640330881963439,
          1.1645549274151747,
          5.082279739300012,
          -6.016359214769944,
          5.587446823177318,
          0.9507896031520224,
          -1.3263172640220549,
          -12.616841944737772,
          -8.58598628396815,
          -5.58058143605118,
          4.533218988598309,
          8.515049387405815,
          4.408630467641477,
          3.371560803342519,
          -8.466316138598197,
          -3.9268385088008317,
          -6.0181702758312445,
          0.42416021931920456,
          -6.564857379285975,
          -7.318345437484031,
          0.6026391862627393,
          -4.845922266538758,
          3.1870399185549703,
          -4.315529583275272,
          2.6277941762936115,
          5.598565133303891,
          0.9151836972357543,
          7.821199652836597,
          2.794242494012669,
          -2.492929391072284,
          -1.244813227364085,
          -2.4147619474893993,
          -0.642960903309995,
          2.6689698301575633,
          8.909688813813286,
          10.070203761747532,
          -3.9263454768090416,
          8.697526186712965,
          10.8769838174445,
          7.134659369815383,
          5.543653373908581,
          2.0526816074629863,
          4.20009701641616,
          -10.456425590609062,
          -2.731247674082373,
          1.067982654974546,
          -4.165040651651012,
          7.1505108577516,
          1.9245221017725342,
          -4.357208931883843,
          1.3253759430920211,
          -0.9221431717491506,
          0.49285290106595697,
          -4.003436672993186,
          1.3781724874916612,
          -7.842814772867576,
          3.8389929142857824,
          7.230244642993236,
          -7.184296167849518,
          9.4865941395388,
          2.6204156097059386,
          -14.8304804177664,
          4.685864188068941,
          4.911433435253336,
          13.30411876553941,
          -5.624435524760697,
          1.6158260965078968,
          -1.1744951497885052,
          -6.596129280317887,
          3.8556295650171815,
          3.4579463411853673,
          5.882227809936209,
          -0.12272593666558017,
          -6.006842330186761,
          3.1234507879900337,
          -7.661285299888883,
          8.703413100082377,
          -2.604668521341252,
          -0.0614643930168595,
          3.4961067171575975,
          -3.9124589833674315,
          5.059491657643439,
          -9.215139890821778,
          8.09573563296105,
          7.611105584135702,
          0.1783836723976525,
          7.865054930216543,
          -5.9626203096861286,
          4.9785864848398225,
          -1.4423680427429675,
          2.523325765346487,
          5.3533413420386005,
          1.7775088873654505,
          -7.881482773390058,
          6.576318919668756,
          -13.403185366831462,
          -5.242844999645138,
          3.9888451154030298,
          5.420449274627668,
          -2.234473827144236,
          4.285984140866698,
          3.626407986370089,
          -9.798766249669828,
          3.218560662400045,
          -9.257866002314362,
          -4.348670172139328,
          -9.706427576824215,
          3.520822119524587,
          4.201559032510887,
          9.179372743813685,
          1.1313330955051115,
          4.329770558664793,
          1.617287864891036,
          8.949206794590262
         ]
        },
        {
         "mode": "markers",
         "name": "0",
         "type": "scatter",
         "x": [
          -2.4253139687824254,
          4.299663536957707,
          0.611868503944251,
          0.21204029658112183,
          -4.118359197509212,
          6.528260656970976,
          1.0391282158886492,
          4.651835843673426,
          1.2745447237297196,
          1.3656765866493161,
          -3.426500682367294,
          -1.3822394918742016,
          -1.0008940600649494,
          1.102544580402219,
          4.987805148780551,
          0.9417350242223497,
          -6.8179955725111325,
          0.5476426217886088,
          -2.6504934826128808,
          -4.173380550622169,
          -0.9099324638814387,
          1.5952060380456332,
          -4.515326611884762,
          -4.748951640260394,
          -0.16045457102891525,
          2.8816867279664238,
          0.7323746351942869,
          -1.8989266090915624,
          -4.690637346192077,
          3.6364666589936108,
          -3.100515795750428,
          3.842082390774833,
          -3.465435771077481,
          -0.6255898181128676,
          3.796429784412885,
          3.8087965302846802,
          -3.126035146409917,
          0.8544069200322698,
          1.575871395406429,
          4.713639236611315,
          2.65158286241571,
          -5.223361555965289,
          -5.280367104812222,
          7.074114021676323,
          -2.8431197267544985,
          2.0545541366904225,
          6.7748452381351365,
          2.989741602600216,
          -3.053845228028584,
          -1.4627693570056692,
          1.0115096520435813,
          2.902882679558785,
          0.3498569279493989,
          -2.87153962125455,
          7.639153399979496,
          -2.7170281785013333,
          3.7313600579752677,
          -2.4614727338376077,
          -1.7984943139859013,
          -0.5777604755039569,
          6.389139683027676,
          -3.426213824855915,
          2.307412446516645,
          6.900395081014094,
          -3.989698894247178,
          1.6291124037104885,
          2.761685992057208,
          -2.702638010620881,
          0.7077078245133999,
          6.817977667521156,
          3.9163331193444413,
          -3.4222031305941925,
          3.952728295243601,
          -5.368133332964388,
          6.558702576409559,
          6.223548130769069,
          -1.8945793318943653,
          5.998772815434723,
          0.027794996911070593,
          -6.70360255178366,
          4.658099097975461,
          3.7032407956721847,
          0.1317135949211143,
          2.321129526522902,
          1.931923375316366,
          7.745304097245761,
          1.9439267689406383,
          -6.117124352476622,
          -3.9940253008991577,
          -5.46535177991084,
          2.640679784734147,
          -5.748597256732298,
          -0.2524303748261165,
          -1.7525220560412942,
          2.1219602748409425,
          -1.638169862867063,
          -3.3215643472199514,
          0.11026537324317391,
          -2.190515982589278,
          -2.5083261290432004,
          2.5169149629327427,
          -3.477450399194652,
          2.417476026532626,
          2.5937400942189393,
          0.2857764638311529,
          -2.3295065377994355,
          -2.123818554337719,
          5.10886249072584,
          -1.1299351166612095,
          5.287188173618596,
          4.467344435976049,
          1.7784723726708036,
          5.384507573204004,
          4.271209872693484,
          7.478099999359233,
          1.3146294887793468,
          0.22767354861831116,
          -5.770366908981601,
          -4.9810839374275515,
          4.77279095715785,
          7.39705844665921,
          -1.2053247772887254,
          4.497754540444313,
          1.6327158136615267,
          -1.3998044110803793,
          0.2692218871615018,
          1.573891693486501,
          8.460925119920391,
          0.38942059846941757,
          -0.4119213712407148,
          2.17301927864853,
          6.182151693706706,
          1.9239231340446625,
          6.86914932146026,
          -0.7061907889881452,
          1.6348554739245287,
          -1.450481425834492,
          3.318765164070289,
          -4.997055842608686,
          -2.7731920737448696,
          5.120682135718286,
          -6.070986501176891,
          -2.1866939353598105,
          1.897435734077054,
          0.23953695511015605,
          3.5113296128622804,
          8.833662753334353,
          -7.342970727975627,
          -6.722013073437641,
          3.4727671883868574,
          0.4550936572670023,
          0.47480525885507596,
          6.935631388928488,
          -5.14396727195876,
          0.7631032016541148,
          1.6224975673541995,
          8.855327793743344,
          9.800906589308662,
          -2.8431786346240355,
          -1.7093949392381345,
          -2.2775149391395773,
          1.1277283660517154,
          0.5944394515146139,
          -5.855964290067016,
          -0.7459181133845479,
          5.525574713234261,
          -3.1161370187304516,
          0.39043759043669596,
          1.2579474425927664,
          2.8647030154582733,
          3.5980417898690362,
          6.986556251598766,
          1.0555716962985482,
          -5.072670001537777,
          0.11867331735428809,
          3.2386762372208024,
          6.622356377279521,
          2.531164923531457,
          2.53389263348779,
          -3.697312039050533,
          -2.9851923503215594,
          5.892348551597573,
          2.8891889670301354,
          2.9106768258194817,
          -4.068063302044542,
          4.870215007870833,
          3.1747708959254552,
          9.276891486409768,
          -2.3120030388681903,
          4.168393780237386,
          7.3756393562008435,
          -5.451481425055965,
          -6.603448675001858,
          5.650204801710549,
          2.550067556479359,
          -4.647845331568541,
          -2.8834837951509265,
          1.1093683798682392,
          6.014317855326842,
          2.085417972497233,
          7.709767623797211,
          -4.474193325664954,
          -0.4275505702100245,
          5.640952265852435,
          6.358693654173094,
          7.349128014352708,
          6.3616245828624685,
          2.7177058731401096,
          3.502783343569392,
          5.348962825765359,
          4.0613193058671815,
          2.0325250797402648,
          -3.185674280088163,
          1.8874775393232912,
          0.7318859357421894,
          3.9557937846959574,
          -0.1707687438857773,
          0.5592907463889174,
          -4.929112194152349,
          2.6521596453534495,
          0.7733996672448007,
          6.995340216432429,
          -4.437550363805992,
          -2.614404857046317,
          7.370264815967692,
          -3.049333077984878,
          -0.6694104004260398,
          3.231419088689364,
          0.19676462529163433,
          -3.2198670153893914,
          -0.3739148289142852,
          1.1195325328667751,
          -1.0503751208645382,
          0.5623113302179626,
          0.9884686366181368,
          8.0550925364534,
          4.036933080024908,
          2.3198942148479755,
          -4.979840706731749,
          1.7510460007884103,
          1.922205675770044,
          1.17330137694369,
          0.9617233216495474,
          0.6304840189629891,
          0.5050999745212472,
          3.305517850491237,
          0.3158899184513483,
          -4.040379860518255,
          3.16189079336719,
          -2.8431702000174144,
          -3.9209885985096804,
          2.1036424338908715,
          -6.7829744390121585,
          -0.7783912507801317,
          7.582294079013696,
          5.9305961649902
         ],
         "y": [
          -1.1813480758941928,
          0.08205728332211192,
          -5.260329317413613,
          3.197674180910302,
          2.5673419501009427,
          -0.7214434510193581,
          0.5123819657032002,
          -2.141797859841365,
          -1.516686063910487,
          -1.1388367481281303,
          -1.5176259122007545,
          1.3658645541558772,
          5.1041714809750935,
          -5.889632539107208,
          -1.7485043185841933,
          -5.572252452434771,
          -2.0589678042222395,
          -0.49687104266109844,
          0.16984610604895017,
          -5.029000009252096,
          -1.8337760031178825,
          5.858486195713679,
          -1.2937506543907231,
          -2.9892518659593894,
          -5.264905481172383,
          -0.33865865991255356,
          5.062831673487092,
          -2.4456449506290143,
          -0.07665013750337796,
          2.507870896434732,
          -5.12240227553842,
          -5.83461693805454,
          -0.08674531814247272,
          -1.8932700632358714,
          0.6167495472779629,
          3.0414886242400647,
          -1.8180933886890063,
          -3.192599648875643,
          3.642877458993895,
          -1.5766894791286434,
          -0.7406884589641958,
          -2.1831777291961907,
          1.49329129263899,
          4.233613153100096,
          0.2453353681483154,
          1.0044284602072577,
          5.054791232221666,
          4.323520491145458,
          -5.658534606999985,
          -6.169904010653113,
          3.6771488239044112,
          -0.26327605923691016,
          -0.7416637525947083,
          -3.2829367570033496,
          -3.1676669850378367,
          5.093339114431562,
          -1.8131443346574396,
          -1.428532792490974,
          6.274132492750031,
          -1.101715038161587,
          3.3527179513014627,
          -2.1097426423020353,
          2.3898800266651348,
          -2.1870719058429082,
          5.307374978732788,
          -4.47538149511962,
          3.4126831091854917,
          0.46215134354019544,
          -1.4118040496320643,
          -2.342093712524024,
          -4.941274978120376,
          -4.131988455107925,
          -0.01864289816251618,
          0.3074393045210351,
          3.309073687532763,
          -3.3371193390499228,
          2.42985375461043,
          -2.2613634188403218,
          1.3978196951080908,
          2.0082494200948187,
          -2.836699992621945,
          2.284963952033513,
          -5.594419272608692,
          -1.515563065924783,
          0.696217966422582,
          -1.3971531236830799,
          4.853794227185779,
          -6.075382357211255,
          -1.2264819284737465,
          -2.0178438029096255,
          -0.4113495815011829,
          2.8019859261252043,
          -3.5779144325265415,
          2.8518648728301335,
          -2.0062371523412876,
          1.0488947243068392,
          1.2266745692544065,
          -4.038358712706516,
          1.375607662306117,
          -0.4709400032543281,
          -2.2580025608783383,
          1.0864809354044982,
          -6.466061148210194,
          -8.641431025244282,
          0.2614508368090111,
          -1.54251099275949,
          1.1340488123277308,
          3.5069110147599534,
          -2.5742214539495563,
          0.23347813626177855,
          3.8637582540444133,
          3.420219137025031,
          -1.638530167075757,
          -1.2083253866500114,
          -0.23337712746678088,
          -0.4678173531684662,
          -7.663642948660133,
          2.0229562489239994,
          1.256218747756673,
          -1.7441817310855374,
          -1.7244123316049902,
          6.4066409236907065,
          -3.4429773896834837,
          1.1455738986954145,
          -1.1619504110650685,
          -2.268265953960063,
          4.4027564332237645,
          0.9685084358189656,
          1.4760560181544438,
          -1.496378953520965,
          -1.007035222119694,
          4.751930027561879,
          1.4701934788258906,
          2.258624787519019,
          -7.7077693747822655,
          0.41491710573401436,
          -2.282389511703742,
          -1.343732692967338,
          -2.904632917833575,
          0.6416482471636995,
          2.854033863404115,
          -3.1858420447817246,
          2.9033543610773416,
          6.4692401028525826,
          -5.149400679322633,
          2.341718114188034,
          -1.0541439418679968,
          1.7050764509230416,
          3.6909408184902976,
          -3.359032392862828,
          -0.1210363461632109,
          3.9301338117985356,
          -2.7501858614728234,
          -3.3099361799663187,
          1.8265396357061345,
          -0.6646870322858709,
          -2.976545429931655,
          2.296889795166635,
          -4.503047808028403,
          -2.438035883948681,
          -2.5185827371522427,
          -1.236926465840562,
          -1.4855845059973036,
          1.0468700034483722,
          -3.971952461021941,
          3.823465745815266,
          -0.7013925631290527,
          1.4744659774157256,
          -1.5413588086288619,
          3.8514195515736365,
          0.25607040533034175,
          5.625291037322074,
          -3.0127340779024245,
          -3.4751946329488446,
          2.0099361668142244,
          -2.759435497193079,
          1.327228660608883,
          2.5525510843710495,
          5.0270321539637015,
          -3.991630230032476,
          0.49685379694772586,
          -2.321914844902244,
          -1.0331079413771385,
          2.998219750527575,
          -3.0745515166300663,
          -2.669573124275167,
          1.9204898393918068,
          -0.2400937640758086,
          -2.72884554213417,
          0.06584651459712652,
          -1.4012384887756613,
          1.5925113511901288,
          -0.7832432282428043,
          -0.6452456541687299,
          -4.180415555652304,
          5.054330460745128,
          0.8984170285112423,
          -2.390077667327765,
          6.989393301354232,
          -4.543330145712495,
          -3.6049726482747317,
          -5.298171829642017,
          4.923182068686829,
          -1.05067549307658,
          -3.3921630157102904,
          1.0769993051228823,
          -3.728467171940431,
          3.9018064831986834,
          0.5844016470173178,
          -1.2241268613693976,
          3.178817017545892,
          -3.0558460488776595,
          4.948456874396915,
          4.443925882978729,
          1.9515183184265137,
          5.073439849752054,
          -0.9280724209836058,
          -2.0382571859395187,
          3.6640949252613955,
          2.365285141402938,
          0.33146749960006283,
          3.6565994969906526,
          -0.6157385314762285,
          0.45579967885307415,
          -2.0532684690314498,
          -3.6737305916324163,
          3.1407441313592384,
          -5.129310677901844,
          -4.882217805439395,
          -4.580306418247269,
          0.45402591215217736,
          2.910009552996054,
          3.0047385266985063,
          0.11398549254993612,
          5.727179720708309,
          0.7693824879427319,
          0.2277206704858102,
          -1.0868385664850861,
          3.314605094173004,
          1.8030538172861783,
          -3.461238637704166,
          -2.3010191022066815,
          -2.9614472638021927,
          -0.8316174103167167,
          -1.9606719597099813,
          -1.5587830788555466,
          0.4128896072707767,
          -1.933467082847385,
          -0.8713237596458621,
          4.133192528874364,
          5.249852058209765,
          -2.429977262031276,
          0.8863783387322781,
          -3.4905711526104857,
          2.108152893669484,
          3.756165905392978
         ]
        },
        {
         "mode": "markers",
         "name": "1",
         "type": "scatter",
         "x": [
          24.693448550509345
         ],
         "y": [
          17.03291909550805
         ]
        }
       ],
       "layout": {
        "template": {
         "data": {
          "bar": [
           {
            "error_x": {
             "color": "#2a3f5f"
            },
            "error_y": {
             "color": "#2a3f5f"
            },
            "marker": {
             "line": {
              "color": "#E5ECF6",
              "width": 0.5
             }
            },
            "type": "bar"
           }
          ],
          "barpolar": [
           {
            "marker": {
             "line": {
              "color": "#E5ECF6",
              "width": 0.5
             }
            },
            "type": "barpolar"
           }
          ],
          "carpet": [
           {
            "aaxis": {
             "endlinecolor": "#2a3f5f",
             "gridcolor": "white",
             "linecolor": "white",
             "minorgridcolor": "white",
             "startlinecolor": "#2a3f5f"
            },
            "baxis": {
             "endlinecolor": "#2a3f5f",
             "gridcolor": "white",
             "linecolor": "white",
             "minorgridcolor": "white",
             "startlinecolor": "#2a3f5f"
            },
            "type": "carpet"
           }
          ],
          "choropleth": [
           {
            "colorbar": {
             "outlinewidth": 0,
             "ticks": ""
            },
            "type": "choropleth"
           }
          ],
          "contour": [
           {
            "colorbar": {
             "outlinewidth": 0,
             "ticks": ""
            },
            "colorscale": [
             [
              0,
              "#0d0887"
             ],
             [
              0.1111111111111111,
              "#46039f"
             ],
             [
              0.2222222222222222,
              "#7201a8"
             ],
             [
              0.3333333333333333,
              "#9c179e"
             ],
             [
              0.4444444444444444,
              "#bd3786"
             ],
             [
              0.5555555555555556,
              "#d8576b"
             ],
             [
              0.6666666666666666,
              "#ed7953"
             ],
             [
              0.7777777777777778,
              "#fb9f3a"
             ],
             [
              0.8888888888888888,
              "#fdca26"
             ],
             [
              1,
              "#f0f921"
             ]
            ],
            "type": "contour"
           }
          ],
          "contourcarpet": [
           {
            "colorbar": {
             "outlinewidth": 0,
             "ticks": ""
            },
            "type": "contourcarpet"
           }
          ],
          "heatmap": [
           {
            "colorbar": {
             "outlinewidth": 0,
             "ticks": ""
            },
            "colorscale": [
             [
              0,
              "#0d0887"
             ],
             [
              0.1111111111111111,
              "#46039f"
             ],
             [
              0.2222222222222222,
              "#7201a8"
             ],
             [
              0.3333333333333333,
              "#9c179e"
             ],
             [
              0.4444444444444444,
              "#bd3786"
             ],
             [
              0.5555555555555556,
              "#d8576b"
             ],
             [
              0.6666666666666666,
              "#ed7953"
             ],
             [
              0.7777777777777778,
              "#fb9f3a"
             ],
             [
              0.8888888888888888,
              "#fdca26"
             ],
             [
              1,
              "#f0f921"
             ]
            ],
            "type": "heatmap"
           }
          ],
          "heatmapgl": [
           {
            "colorbar": {
             "outlinewidth": 0,
             "ticks": ""
            },
            "colorscale": [
             [
              0,
              "#0d0887"
             ],
             [
              0.1111111111111111,
              "#46039f"
             ],
             [
              0.2222222222222222,
              "#7201a8"
             ],
             [
              0.3333333333333333,
              "#9c179e"
             ],
             [
              0.4444444444444444,
              "#bd3786"
             ],
             [
              0.5555555555555556,
              "#d8576b"
             ],
             [
              0.6666666666666666,
              "#ed7953"
             ],
             [
              0.7777777777777778,
              "#fb9f3a"
             ],
             [
              0.8888888888888888,
              "#fdca26"
             ],
             [
              1,
              "#f0f921"
             ]
            ],
            "type": "heatmapgl"
           }
          ],
          "histogram": [
           {
            "marker": {
             "colorbar": {
              "outlinewidth": 0,
              "ticks": ""
             }
            },
            "type": "histogram"
           }
          ],
          "histogram2d": [
           {
            "colorbar": {
             "outlinewidth": 0,
             "ticks": ""
            },
            "colorscale": [
             [
              0,
              "#0d0887"
             ],
             [
              0.1111111111111111,
              "#46039f"
             ],
             [
              0.2222222222222222,
              "#7201a8"
             ],
             [
              0.3333333333333333,
              "#9c179e"
             ],
             [
              0.4444444444444444,
              "#bd3786"
             ],
             [
              0.5555555555555556,
              "#d8576b"
             ],
             [
              0.6666666666666666,
              "#ed7953"
             ],
             [
              0.7777777777777778,
              "#fb9f3a"
             ],
             [
              0.8888888888888888,
              "#fdca26"
             ],
             [
              1,
              "#f0f921"
             ]
            ],
            "type": "histogram2d"
           }
          ],
          "histogram2dcontour": [
           {
            "colorbar": {
             "outlinewidth": 0,
             "ticks": ""
            },
            "colorscale": [
             [
              0,
              "#0d0887"
             ],
             [
              0.1111111111111111,
              "#46039f"
             ],
             [
              0.2222222222222222,
              "#7201a8"
             ],
             [
              0.3333333333333333,
              "#9c179e"
             ],
             [
              0.4444444444444444,
              "#bd3786"
             ],
             [
              0.5555555555555556,
              "#d8576b"
             ],
             [
              0.6666666666666666,
              "#ed7953"
             ],
             [
              0.7777777777777778,
              "#fb9f3a"
             ],
             [
              0.8888888888888888,
              "#fdca26"
             ],
             [
              1,
              "#f0f921"
             ]
            ],
            "type": "histogram2dcontour"
           }
          ],
          "mesh3d": [
           {
            "colorbar": {
             "outlinewidth": 0,
             "ticks": ""
            },
            "type": "mesh3d"
           }
          ],
          "parcoords": [
           {
            "line": {
             "colorbar": {
              "outlinewidth": 0,
              "ticks": ""
             }
            },
            "type": "parcoords"
           }
          ],
          "pie": [
           {
            "automargin": true,
            "type": "pie"
           }
          ],
          "scatter": [
           {
            "marker": {
             "colorbar": {
              "outlinewidth": 0,
              "ticks": ""
             }
            },
            "type": "scatter"
           }
          ],
          "scatter3d": [
           {
            "line": {
             "colorbar": {
              "outlinewidth": 0,
              "ticks": ""
             }
            },
            "marker": {
             "colorbar": {
              "outlinewidth": 0,
              "ticks": ""
             }
            },
            "type": "scatter3d"
           }
          ],
          "scattercarpet": [
           {
            "marker": {
             "colorbar": {
              "outlinewidth": 0,
              "ticks": ""
             }
            },
            "type": "scattercarpet"
           }
          ],
          "scattergeo": [
           {
            "marker": {
             "colorbar": {
              "outlinewidth": 0,
              "ticks": ""
             }
            },
            "type": "scattergeo"
           }
          ],
          "scattergl": [
           {
            "marker": {
             "colorbar": {
              "outlinewidth": 0,
              "ticks": ""
             }
            },
            "type": "scattergl"
           }
          ],
          "scattermapbox": [
           {
            "marker": {
             "colorbar": {
              "outlinewidth": 0,
              "ticks": ""
             }
            },
            "type": "scattermapbox"
           }
          ],
          "scatterpolar": [
           {
            "marker": {
             "colorbar": {
              "outlinewidth": 0,
              "ticks": ""
             }
            },
            "type": "scatterpolar"
           }
          ],
          "scatterpolargl": [
           {
            "marker": {
             "colorbar": {
              "outlinewidth": 0,
              "ticks": ""
             }
            },
            "type": "scatterpolargl"
           }
          ],
          "scatterternary": [
           {
            "marker": {
             "colorbar": {
              "outlinewidth": 0,
              "ticks": ""
             }
            },
            "type": "scatterternary"
           }
          ],
          "surface": [
           {
            "colorbar": {
             "outlinewidth": 0,
             "ticks": ""
            },
            "colorscale": [
             [
              0,
              "#0d0887"
             ],
             [
              0.1111111111111111,
              "#46039f"
             ],
             [
              0.2222222222222222,
              "#7201a8"
             ],
             [
              0.3333333333333333,
              "#9c179e"
             ],
             [
              0.4444444444444444,
              "#bd3786"
             ],
             [
              0.5555555555555556,
              "#d8576b"
             ],
             [
              0.6666666666666666,
              "#ed7953"
             ],
             [
              0.7777777777777778,
              "#fb9f3a"
             ],
             [
              0.8888888888888888,
              "#fdca26"
             ],
             [
              1,
              "#f0f921"
             ]
            ],
            "type": "surface"
           }
          ],
          "table": [
           {
            "cells": {
             "fill": {
              "color": "#EBF0F8"
             },
             "line": {
              "color": "white"
             }
            },
            "header": {
             "fill": {
              "color": "#C8D4E3"
             },
             "line": {
              "color": "white"
             }
            },
            "type": "table"
           }
          ]
         },
         "layout": {
          "annotationdefaults": {
           "arrowcolor": "#2a3f5f",
           "arrowhead": 0,
           "arrowwidth": 1
          },
          "coloraxis": {
           "colorbar": {
            "outlinewidth": 0,
            "ticks": ""
           }
          },
          "colorscale": {
           "diverging": [
            [
             0,
             "#8e0152"
            ],
            [
             0.1,
             "#c51b7d"
            ],
            [
             0.2,
             "#de77ae"
            ],
            [
             0.3,
             "#f1b6da"
            ],
            [
             0.4,
             "#fde0ef"
            ],
            [
             0.5,
             "#f7f7f7"
            ],
            [
             0.6,
             "#e6f5d0"
            ],
            [
             0.7,
             "#b8e186"
            ],
            [
             0.8,
             "#7fbc41"
            ],
            [
             0.9,
             "#4d9221"
            ],
            [
             1,
             "#276419"
            ]
           ],
           "sequential": [
            [
             0,
             "#0d0887"
            ],
            [
             0.1111111111111111,
             "#46039f"
            ],
            [
             0.2222222222222222,
             "#7201a8"
            ],
            [
             0.3333333333333333,
             "#9c179e"
            ],
            [
             0.4444444444444444,
             "#bd3786"
            ],
            [
             0.5555555555555556,
             "#d8576b"
            ],
            [
             0.6666666666666666,
             "#ed7953"
            ],
            [
             0.7777777777777778,
             "#fb9f3a"
            ],
            [
             0.8888888888888888,
             "#fdca26"
            ],
            [
             1,
             "#f0f921"
            ]
           ],
           "sequentialminus": [
            [
             0,
             "#0d0887"
            ],
            [
             0.1111111111111111,
             "#46039f"
            ],
            [
             0.2222222222222222,
             "#7201a8"
            ],
            [
             0.3333333333333333,
             "#9c179e"
            ],
            [
             0.4444444444444444,
             "#bd3786"
            ],
            [
             0.5555555555555556,
             "#d8576b"
            ],
            [
             0.6666666666666666,
             "#ed7953"
            ],
            [
             0.7777777777777778,
             "#fb9f3a"
            ],
            [
             0.8888888888888888,
             "#fdca26"
            ],
            [
             1,
             "#f0f921"
            ]
           ]
          },
          "colorway": [
           "#636efa",
           "#EF553B",
           "#00cc96",
           "#ab63fa",
           "#FFA15A",
           "#19d3f3",
           "#FF6692",
           "#B6E880",
           "#FF97FF",
           "#FECB52"
          ],
          "font": {
           "color": "#2a3f5f"
          },
          "geo": {
           "bgcolor": "white",
           "lakecolor": "white",
           "landcolor": "#E5ECF6",
           "showlakes": true,
           "showland": true,
           "subunitcolor": "white"
          },
          "hoverlabel": {
           "align": "left"
          },
          "hovermode": "closest",
          "mapbox": {
           "style": "light"
          },
          "paper_bgcolor": "white",
          "plot_bgcolor": "#E5ECF6",
          "polar": {
           "angularaxis": {
            "gridcolor": "white",
            "linecolor": "white",
            "ticks": ""
           },
           "bgcolor": "#E5ECF6",
           "radialaxis": {
            "gridcolor": "white",
            "linecolor": "white",
            "ticks": ""
           }
          },
          "scene": {
           "xaxis": {
            "backgroundcolor": "#E5ECF6",
            "gridcolor": "white",
            "gridwidth": 2,
            "linecolor": "white",
            "showbackground": true,
            "ticks": "",
            "zerolinecolor": "white"
           },
           "yaxis": {
            "backgroundcolor": "#E5ECF6",
            "gridcolor": "white",
            "gridwidth": 2,
            "linecolor": "white",
            "showbackground": true,
            "ticks": "",
            "zerolinecolor": "white"
           },
           "zaxis": {
            "backgroundcolor": "#E5ECF6",
            "gridcolor": "white",
            "gridwidth": 2,
            "linecolor": "white",
            "showbackground": true,
            "ticks": "",
            "zerolinecolor": "white"
           }
          },
          "shapedefaults": {
           "line": {
            "color": "#2a3f5f"
           }
          },
          "ternary": {
           "aaxis": {
            "gridcolor": "white",
            "linecolor": "white",
            "ticks": ""
           },
           "baxis": {
            "gridcolor": "white",
            "linecolor": "white",
            "ticks": ""
           },
           "bgcolor": "#E5ECF6",
           "caxis": {
            "gridcolor": "white",
            "linecolor": "white",
            "ticks": ""
           }
          },
          "title": {
           "x": 0.05
          },
          "xaxis": {
           "automargin": true,
           "gridcolor": "white",
           "linecolor": "white",
           "ticks": "",
           "title": {
            "standoff": 15
           },
           "zerolinecolor": "white",
           "zerolinewidth": 2
          },
          "yaxis": {
           "automargin": true,
           "gridcolor": "white",
           "linecolor": "white",
           "ticks": "",
           "title": {
            "standoff": 15
           },
           "zerolinecolor": "white",
           "zerolinewidth": 2
          }
         }
        }
       }
      },
      "text/html": [
       "<div>\n",
       "        \n",
       "        \n",
       "            <div id=\"9e835cb0-80f3-44ec-8b3c-04d11f85d6bc\" class=\"plotly-graph-div\" style=\"height:525px; width:100%;\"></div>\n",
       "            <script type=\"text/javascript\">\n",
       "                require([\"plotly\"], function(Plotly) {\n",
       "                    window.PLOTLYENV=window.PLOTLYENV || {};\n",
       "                    \n",
       "                if (document.getElementById(\"9e835cb0-80f3-44ec-8b3c-04d11f85d6bc\")) {\n",
       "                    Plotly.newPlot(\n",
       "                        '9e835cb0-80f3-44ec-8b3c-04d11f85d6bc',\n",
       "                        [{\"mode\": \"markers\", \"name\": \"-1\", \"type\": \"scatter\", \"x\": [-6.031951949610782, -1.9750515905686237, 0.9954554066257499, -11.476133806083787, -7.332766987924524, 9.51332003652092, -1.9212562010572987, -8.032092959905754, -11.477314103381753, -11.50327368594863, -6.763217955974227, 14.54276131484611, -9.97674971623654, -11.582875881790098, 8.779351270286696, 11.580481923613087, 8.656115281303217, -10.507858879758263, -0.19384500544477282, -9.856721675197173, -4.095367946770901, 3.2127814958735965, -10.13847554800276, -4.048128824457033, -8.050059145307326, -5.480378005222702, 15.701473675236326, -2.755768180892213, -9.095377539271336, 11.724821564714457, 9.618017385648344, -9.88995730480049, 5.026933536814479, -12.328037734773657, -10.51505630368395, -11.566283926395874, -4.716893861651176, 13.86104301221586, -9.131613365841863, -14.249802060987287, 14.245002275392403, 1.3127860008309735, -6.60984154721099, -3.4371953720253137, -13.849435887650195, 4.240702935475696, -5.64594527651048, 8.316840987438848, 1.7475027150737852, 12.0529544031031, 10.349140093701365, -15.614720179942937, 9.547602726343241, 10.7837126645134, 11.247679621065329, -4.918122215736405, -11.273391698066035, 10.631317210733748, -4.156339533028392, 11.94715559699949, 9.992783697971673, -13.737902985710255, -9.333167172115035, -6.205631412019862, 2.579024773675917, -15.011562808980363, -0.9772985585221154, 6.164057988381104, 0.21360695039030037, -10.509468793883729, -6.945490909556688, -8.88493290731692, 3.5127193157085337, -6.5937843692911855, -12.735826071829127, -13.241867980210085, 4.029220163190616, -8.86117548152163, 6.305918548027575, 9.684027690032448, -11.317060457998613, -6.9840684563756446, 11.43553221074873, -13.925950638654637, 2.243734452764706, 11.618461680331917, 9.112897643740746, 12.784599449996872, 6.980085488741801, 11.467516296735822, 7.501594129765244, -12.685341186657473, -6.457958194718075, 4.861537562896071, -6.201160510751059, -14.666574503322659, -13.502120018013837, -5.4956838992834385, 9.39039345809609, -11.13993663323717, -7.290874450584825, -10.445881197802972, -3.5681442401517725, 13.008320633893558, -3.970891073759885, 9.4526672563113, -1.666053681729572, 11.120332210587442, 13.743753291946053, -6.149225253267557, 8.318791108079354, -3.8180857856159593, 10.98775908877765, -1.2858393384299647, -10.10704270613436, -0.6572110758909998, -0.8223207988988086, -13.049457642680363, -10.913051704986778, -13.479675217042436, -4.61097554571966, -12.714329444012035, 2.9743948536148976, -13.043164481606782, -3.1536386844768525, -7.4567425274668055, -12.746377705129651, -6.891066560060017, -4.890691886414487, -8.732973322644497, -6.771375418849782, 3.79776628667339, -10.584258862584424, 0.22449373169543801, 11.112767617979571, 4.599235144631674, -7.600965944817894, 9.496512850712264, -6.279454324866535, -6.009609185695042, -8.122371340228495, -8.636874323563996, 14.334064611527817], \"y\": [4.899997133259175, -7.364502509995108, -9.05989179828697, -0.22929904680203214, -1.2805641281207496, -7.191868251735394, 0.7883443308485931, 1.307768214304777, 2.3885381389816076, 4.846174826862385, 4.699548206255366, 0.8084435903661251, 13.725238829361158, -3.8803346259043803, 3.853057624023856, 0.5655442756627191, -4.402442083128753, 1.2897239870115853, -2.4105063903993766, -6.157432436916432, -1.8691631077659487, -2.163297866313312, 0.48752795755862205, -6.690685868919065, 1.115825318459473, -5.448155022647564, 1.5176503840116244, 5.809795408987223, -1.897936305709367, -0.6640330881963439, 1.1645549274151747, 5.082279739300012, -6.016359214769944, 5.587446823177318, 0.9507896031520224, -1.3263172640220549, -12.616841944737772, -8.58598628396815, -5.58058143605118, 4.533218988598309, 8.515049387405815, 4.408630467641477, 3.371560803342519, -8.466316138598197, -3.9268385088008317, -6.0181702758312445, 0.42416021931920456, -6.564857379285975, -7.318345437484031, 0.6026391862627393, -4.845922266538758, 3.1870399185549703, -4.315529583275272, 2.6277941762936115, 5.598565133303891, 0.9151836972357543, 7.821199652836597, 2.794242494012669, -2.492929391072284, -1.244813227364085, -2.4147619474893993, -0.642960903309995, 2.6689698301575633, 8.909688813813286, 10.070203761747532, -3.9263454768090416, 8.697526186712965, 10.8769838174445, 7.134659369815383, 5.543653373908581, 2.0526816074629863, 4.20009701641616, -10.456425590609062, -2.731247674082373, 1.067982654974546, -4.165040651651012, 7.1505108577516, 1.9245221017725342, -4.357208931883843, 1.3253759430920211, -0.9221431717491506, 0.49285290106595697, -4.003436672993186, 1.3781724874916612, -7.842814772867576, 3.8389929142857824, 7.230244642993236, -7.184296167849518, 9.4865941395388, 2.6204156097059386, -14.8304804177664, 4.685864188068941, 4.911433435253336, 13.30411876553941, -5.624435524760697, 1.6158260965078968, -1.1744951497885052, -6.596129280317887, 3.8556295650171815, 3.4579463411853673, 5.882227809936209, -0.12272593666558017, -6.006842330186761, 3.1234507879900337, -7.661285299888883, 8.703413100082377, -2.604668521341252, -0.0614643930168595, 3.4961067171575975, -3.9124589833674315, 5.059491657643439, -9.215139890821778, 8.09573563296105, 7.611105584135702, 0.1783836723976525, 7.865054930216543, -5.9626203096861286, 4.9785864848398225, -1.4423680427429675, 2.523325765346487, 5.3533413420386005, 1.7775088873654505, -7.881482773390058, 6.576318919668756, -13.403185366831462, -5.242844999645138, 3.9888451154030298, 5.420449274627668, -2.234473827144236, 4.285984140866698, 3.626407986370089, -9.798766249669828, 3.218560662400045, -9.257866002314362, -4.348670172139328, -9.706427576824215, 3.520822119524587, 4.201559032510887, 9.179372743813685, 1.1313330955051115, 4.329770558664793, 1.617287864891036, 8.949206794590262]}, {\"mode\": \"markers\", \"name\": \"0\", \"type\": \"scatter\", \"x\": [-2.4253139687824254, 4.299663536957707, 0.611868503944251, 0.21204029658112183, -4.118359197509212, 6.528260656970976, 1.0391282158886492, 4.651835843673426, 1.2745447237297196, 1.3656765866493161, -3.426500682367294, -1.3822394918742016, -1.0008940600649494, 1.102544580402219, 4.987805148780551, 0.9417350242223497, -6.8179955725111325, 0.5476426217886088, -2.6504934826128808, -4.173380550622169, -0.9099324638814387, 1.5952060380456332, -4.515326611884762, -4.748951640260394, -0.16045457102891525, 2.8816867279664238, 0.7323746351942869, -1.8989266090915624, -4.690637346192077, 3.6364666589936108, -3.100515795750428, 3.842082390774833, -3.465435771077481, -0.6255898181128676, 3.796429784412885, 3.8087965302846802, -3.126035146409917, 0.8544069200322698, 1.575871395406429, 4.713639236611315, 2.65158286241571, -5.223361555965289, -5.280367104812222, 7.074114021676323, -2.8431197267544985, 2.0545541366904225, 6.7748452381351365, 2.989741602600216, -3.053845228028584, -1.4627693570056692, 1.0115096520435813, 2.902882679558785, 0.3498569279493989, -2.87153962125455, 7.639153399979496, -2.7170281785013333, 3.7313600579752677, -2.4614727338376077, -1.7984943139859013, -0.5777604755039569, 6.389139683027676, -3.426213824855915, 2.307412446516645, 6.900395081014094, -3.989698894247178, 1.6291124037104885, 2.761685992057208, -2.702638010620881, 0.7077078245133999, 6.817977667521156, 3.9163331193444413, -3.4222031305941925, 3.952728295243601, -5.368133332964388, 6.558702576409559, 6.223548130769069, -1.8945793318943653, 5.998772815434723, 0.027794996911070593, -6.70360255178366, 4.658099097975461, 3.7032407956721847, 0.1317135949211143, 2.321129526522902, 1.931923375316366, 7.745304097245761, 1.9439267689406383, -6.117124352476622, -3.9940253008991577, -5.46535177991084, 2.640679784734147, -5.748597256732298, -0.2524303748261165, -1.7525220560412942, 2.1219602748409425, -1.638169862867063, -3.3215643472199514, 0.11026537324317391, -2.190515982589278, -2.5083261290432004, 2.5169149629327427, -3.477450399194652, 2.417476026532626, 2.5937400942189393, 0.2857764638311529, -2.3295065377994355, -2.123818554337719, 5.10886249072584, -1.1299351166612095, 5.287188173618596, 4.467344435976049, 1.7784723726708036, 5.384507573204004, 4.271209872693484, 7.478099999359233, 1.3146294887793468, 0.22767354861831116, -5.770366908981601, -4.9810839374275515, 4.77279095715785, 7.39705844665921, -1.2053247772887254, 4.497754540444313, 1.6327158136615267, -1.3998044110803793, 0.2692218871615018, 1.573891693486501, 8.460925119920391, 0.38942059846941757, -0.4119213712407148, 2.17301927864853, 6.182151693706706, 1.9239231340446625, 6.86914932146026, -0.7061907889881452, 1.6348554739245287, -1.450481425834492, 3.318765164070289, -4.997055842608686, -2.7731920737448696, 5.120682135718286, -6.070986501176891, -2.1866939353598105, 1.897435734077054, 0.23953695511015605, 3.5113296128622804, 8.833662753334353, -7.342970727975627, -6.722013073437641, 3.4727671883868574, 0.4550936572670023, 0.47480525885507596, 6.935631388928488, -5.14396727195876, 0.7631032016541148, 1.6224975673541995, 8.855327793743344, 9.800906589308662, -2.8431786346240355, -1.7093949392381345, -2.2775149391395773, 1.1277283660517154, 0.5944394515146139, -5.855964290067016, -0.7459181133845479, 5.525574713234261, -3.1161370187304516, 0.39043759043669596, 1.2579474425927664, 2.8647030154582733, 3.5980417898690362, 6.986556251598766, 1.0555716962985482, -5.072670001537777, 0.11867331735428809, 3.2386762372208024, 6.622356377279521, 2.531164923531457, 2.53389263348779, -3.697312039050533, -2.9851923503215594, 5.892348551597573, 2.8891889670301354, 2.9106768258194817, -4.068063302044542, 4.870215007870833, 3.1747708959254552, 9.276891486409768, -2.3120030388681903, 4.168393780237386, 7.3756393562008435, -5.451481425055965, -6.603448675001858, 5.650204801710549, 2.550067556479359, -4.647845331568541, -2.8834837951509265, 1.1093683798682392, 6.014317855326842, 2.085417972497233, 7.709767623797211, -4.474193325664954, -0.4275505702100245, 5.640952265852435, 6.358693654173094, 7.349128014352708, 6.3616245828624685, 2.7177058731401096, 3.502783343569392, 5.348962825765359, 4.0613193058671815, 2.0325250797402648, -3.185674280088163, 1.8874775393232912, 0.7318859357421894, 3.9557937846959574, -0.1707687438857773, 0.5592907463889174, -4.929112194152349, 2.6521596453534495, 0.7733996672448007, 6.995340216432429, -4.437550363805992, -2.614404857046317, 7.370264815967692, -3.049333077984878, -0.6694104004260398, 3.231419088689364, 0.19676462529163433, -3.2198670153893914, -0.3739148289142852, 1.1195325328667751, -1.0503751208645382, 0.5623113302179626, 0.9884686366181368, 8.0550925364534, 4.036933080024908, 2.3198942148479755, -4.979840706731749, 1.7510460007884103, 1.922205675770044, 1.17330137694369, 0.9617233216495474, 0.6304840189629891, 0.5050999745212472, 3.305517850491237, 0.3158899184513483, -4.040379860518255, 3.16189079336719, -2.8431702000174144, -3.9209885985096804, 2.1036424338908715, -6.7829744390121585, -0.7783912507801317, 7.582294079013696, 5.9305961649902], \"y\": [-1.1813480758941928, 0.08205728332211192, -5.260329317413613, 3.197674180910302, 2.5673419501009427, -0.7214434510193581, 0.5123819657032002, -2.141797859841365, -1.516686063910487, -1.1388367481281303, -1.5176259122007545, 1.3658645541558772, 5.1041714809750935, -5.889632539107208, -1.7485043185841933, -5.572252452434771, -2.0589678042222395, -0.49687104266109844, 0.16984610604895017, -5.029000009252096, -1.8337760031178825, 5.858486195713679, -1.2937506543907231, -2.9892518659593894, -5.264905481172383, -0.33865865991255356, 5.062831673487092, -2.4456449506290143, -0.07665013750337796, 2.507870896434732, -5.12240227553842, -5.83461693805454, -0.08674531814247272, -1.8932700632358714, 0.6167495472779629, 3.0414886242400647, -1.8180933886890063, -3.192599648875643, 3.642877458993895, -1.5766894791286434, -0.7406884589641958, -2.1831777291961907, 1.49329129263899, 4.233613153100096, 0.2453353681483154, 1.0044284602072577, 5.054791232221666, 4.323520491145458, -5.658534606999985, -6.169904010653113, 3.6771488239044112, -0.26327605923691016, -0.7416637525947083, -3.2829367570033496, -3.1676669850378367, 5.093339114431562, -1.8131443346574396, -1.428532792490974, 6.274132492750031, -1.101715038161587, 3.3527179513014627, -2.1097426423020353, 2.3898800266651348, -2.1870719058429082, 5.307374978732788, -4.47538149511962, 3.4126831091854917, 0.46215134354019544, -1.4118040496320643, -2.342093712524024, -4.941274978120376, -4.131988455107925, -0.01864289816251618, 0.3074393045210351, 3.309073687532763, -3.3371193390499228, 2.42985375461043, -2.2613634188403218, 1.3978196951080908, 2.0082494200948187, -2.836699992621945, 2.284963952033513, -5.594419272608692, -1.515563065924783, 0.696217966422582, -1.3971531236830799, 4.853794227185779, -6.075382357211255, -1.2264819284737465, -2.0178438029096255, -0.4113495815011829, 2.8019859261252043, -3.5779144325265415, 2.8518648728301335, -2.0062371523412876, 1.0488947243068392, 1.2266745692544065, -4.038358712706516, 1.375607662306117, -0.4709400032543281, -2.2580025608783383, 1.0864809354044982, -6.466061148210194, -8.641431025244282, 0.2614508368090111, -1.54251099275949, 1.1340488123277308, 3.5069110147599534, -2.5742214539495563, 0.23347813626177855, 3.8637582540444133, 3.420219137025031, -1.638530167075757, -1.2083253866500114, -0.23337712746678088, -0.4678173531684662, -7.663642948660133, 2.0229562489239994, 1.256218747756673, -1.7441817310855374, -1.7244123316049902, 6.4066409236907065, -3.4429773896834837, 1.1455738986954145, -1.1619504110650685, -2.268265953960063, 4.4027564332237645, 0.9685084358189656, 1.4760560181544438, -1.496378953520965, -1.007035222119694, 4.751930027561879, 1.4701934788258906, 2.258624787519019, -7.7077693747822655, 0.41491710573401436, -2.282389511703742, -1.343732692967338, -2.904632917833575, 0.6416482471636995, 2.854033863404115, -3.1858420447817246, 2.9033543610773416, 6.4692401028525826, -5.149400679322633, 2.341718114188034, -1.0541439418679968, 1.7050764509230416, 3.6909408184902976, -3.359032392862828, -0.1210363461632109, 3.9301338117985356, -2.7501858614728234, -3.3099361799663187, 1.8265396357061345, -0.6646870322858709, -2.976545429931655, 2.296889795166635, -4.503047808028403, -2.438035883948681, -2.5185827371522427, -1.236926465840562, -1.4855845059973036, 1.0468700034483722, -3.971952461021941, 3.823465745815266, -0.7013925631290527, 1.4744659774157256, -1.5413588086288619, 3.8514195515736365, 0.25607040533034175, 5.625291037322074, -3.0127340779024245, -3.4751946329488446, 2.0099361668142244, -2.759435497193079, 1.327228660608883, 2.5525510843710495, 5.0270321539637015, -3.991630230032476, 0.49685379694772586, -2.321914844902244, -1.0331079413771385, 2.998219750527575, -3.0745515166300663, -2.669573124275167, 1.9204898393918068, -0.2400937640758086, -2.72884554213417, 0.06584651459712652, -1.4012384887756613, 1.5925113511901288, -0.7832432282428043, -0.6452456541687299, -4.180415555652304, 5.054330460745128, 0.8984170285112423, -2.390077667327765, 6.989393301354232, -4.543330145712495, -3.6049726482747317, -5.298171829642017, 4.923182068686829, -1.05067549307658, -3.3921630157102904, 1.0769993051228823, -3.728467171940431, 3.9018064831986834, 0.5844016470173178, -1.2241268613693976, 3.178817017545892, -3.0558460488776595, 4.948456874396915, 4.443925882978729, 1.9515183184265137, 5.073439849752054, -0.9280724209836058, -2.0382571859395187, 3.6640949252613955, 2.365285141402938, 0.33146749960006283, 3.6565994969906526, -0.6157385314762285, 0.45579967885307415, -2.0532684690314498, -3.6737305916324163, 3.1407441313592384, -5.129310677901844, -4.882217805439395, -4.580306418247269, 0.45402591215217736, 2.910009552996054, 3.0047385266985063, 0.11398549254993612, 5.727179720708309, 0.7693824879427319, 0.2277206704858102, -1.0868385664850861, 3.314605094173004, 1.8030538172861783, -3.461238637704166, -2.3010191022066815, -2.9614472638021927, -0.8316174103167167, -1.9606719597099813, -1.5587830788555466, 0.4128896072707767, -1.933467082847385, -0.8713237596458621, 4.133192528874364, 5.249852058209765, -2.429977262031276, 0.8863783387322781, -3.4905711526104857, 2.108152893669484, 3.756165905392978]}, {\"mode\": \"markers\", \"name\": \"1\", \"type\": \"scatter\", \"x\": [24.693448550509345], \"y\": [17.03291909550805]}],\n",
       "                        {\"template\": {\"data\": {\"bar\": [{\"error_x\": {\"color\": \"#2a3f5f\"}, \"error_y\": {\"color\": \"#2a3f5f\"}, \"marker\": {\"line\": {\"color\": \"#E5ECF6\", \"width\": 0.5}}, \"type\": \"bar\"}], \"barpolar\": [{\"marker\": {\"line\": {\"color\": \"#E5ECF6\", \"width\": 0.5}}, \"type\": \"barpolar\"}], \"carpet\": [{\"aaxis\": {\"endlinecolor\": \"#2a3f5f\", \"gridcolor\": \"white\", \"linecolor\": \"white\", \"minorgridcolor\": \"white\", \"startlinecolor\": \"#2a3f5f\"}, \"baxis\": {\"endlinecolor\": \"#2a3f5f\", \"gridcolor\": \"white\", \"linecolor\": \"white\", \"minorgridcolor\": \"white\", \"startlinecolor\": \"#2a3f5f\"}, \"type\": \"carpet\"}], \"choropleth\": [{\"colorbar\": {\"outlinewidth\": 0, \"ticks\": \"\"}, \"type\": \"choropleth\"}], \"contour\": [{\"colorbar\": {\"outlinewidth\": 0, \"ticks\": \"\"}, \"colorscale\": [[0.0, \"#0d0887\"], [0.1111111111111111, \"#46039f\"], [0.2222222222222222, \"#7201a8\"], [0.3333333333333333, \"#9c179e\"], [0.4444444444444444, \"#bd3786\"], [0.5555555555555556, \"#d8576b\"], [0.6666666666666666, \"#ed7953\"], [0.7777777777777778, \"#fb9f3a\"], [0.8888888888888888, \"#fdca26\"], [1.0, \"#f0f921\"]], \"type\": \"contour\"}], \"contourcarpet\": [{\"colorbar\": {\"outlinewidth\": 0, \"ticks\": \"\"}, \"type\": \"contourcarpet\"}], \"heatmap\": [{\"colorbar\": {\"outlinewidth\": 0, \"ticks\": \"\"}, \"colorscale\": [[0.0, \"#0d0887\"], [0.1111111111111111, \"#46039f\"], [0.2222222222222222, \"#7201a8\"], [0.3333333333333333, \"#9c179e\"], [0.4444444444444444, \"#bd3786\"], [0.5555555555555556, \"#d8576b\"], [0.6666666666666666, \"#ed7953\"], [0.7777777777777778, \"#fb9f3a\"], [0.8888888888888888, \"#fdca26\"], [1.0, \"#f0f921\"]], \"type\": \"heatmap\"}], \"heatmapgl\": [{\"colorbar\": {\"outlinewidth\": 0, \"ticks\": \"\"}, \"colorscale\": [[0.0, \"#0d0887\"], [0.1111111111111111, \"#46039f\"], [0.2222222222222222, \"#7201a8\"], [0.3333333333333333, \"#9c179e\"], [0.4444444444444444, \"#bd3786\"], [0.5555555555555556, \"#d8576b\"], [0.6666666666666666, \"#ed7953\"], [0.7777777777777778, \"#fb9f3a\"], [0.8888888888888888, \"#fdca26\"], [1.0, \"#f0f921\"]], \"type\": \"heatmapgl\"}], \"histogram\": [{\"marker\": {\"colorbar\": {\"outlinewidth\": 0, \"ticks\": \"\"}}, \"type\": \"histogram\"}], \"histogram2d\": [{\"colorbar\": {\"outlinewidth\": 0, \"ticks\": \"\"}, \"colorscale\": [[0.0, \"#0d0887\"], [0.1111111111111111, \"#46039f\"], [0.2222222222222222, \"#7201a8\"], [0.3333333333333333, \"#9c179e\"], [0.4444444444444444, \"#bd3786\"], [0.5555555555555556, \"#d8576b\"], [0.6666666666666666, \"#ed7953\"], [0.7777777777777778, \"#fb9f3a\"], [0.8888888888888888, \"#fdca26\"], [1.0, \"#f0f921\"]], \"type\": \"histogram2d\"}], \"histogram2dcontour\": [{\"colorbar\": {\"outlinewidth\": 0, \"ticks\": \"\"}, \"colorscale\": [[0.0, \"#0d0887\"], [0.1111111111111111, \"#46039f\"], [0.2222222222222222, \"#7201a8\"], [0.3333333333333333, \"#9c179e\"], [0.4444444444444444, \"#bd3786\"], [0.5555555555555556, \"#d8576b\"], [0.6666666666666666, \"#ed7953\"], [0.7777777777777778, \"#fb9f3a\"], [0.8888888888888888, \"#fdca26\"], [1.0, \"#f0f921\"]], \"type\": \"histogram2dcontour\"}], \"mesh3d\": [{\"colorbar\": {\"outlinewidth\": 0, \"ticks\": \"\"}, \"type\": \"mesh3d\"}], \"parcoords\": [{\"line\": {\"colorbar\": {\"outlinewidth\": 0, \"ticks\": \"\"}}, \"type\": \"parcoords\"}], \"pie\": [{\"automargin\": true, \"type\": \"pie\"}], \"scatter\": [{\"marker\": {\"colorbar\": {\"outlinewidth\": 0, \"ticks\": \"\"}}, \"type\": \"scatter\"}], \"scatter3d\": [{\"line\": {\"colorbar\": {\"outlinewidth\": 0, \"ticks\": \"\"}}, \"marker\": {\"colorbar\": {\"outlinewidth\": 0, \"ticks\": \"\"}}, \"type\": \"scatter3d\"}], \"scattercarpet\": [{\"marker\": {\"colorbar\": {\"outlinewidth\": 0, \"ticks\": \"\"}}, \"type\": \"scattercarpet\"}], \"scattergeo\": [{\"marker\": {\"colorbar\": {\"outlinewidth\": 0, \"ticks\": \"\"}}, \"type\": \"scattergeo\"}], \"scattergl\": [{\"marker\": {\"colorbar\": {\"outlinewidth\": 0, \"ticks\": \"\"}}, \"type\": \"scattergl\"}], \"scattermapbox\": [{\"marker\": {\"colorbar\": {\"outlinewidth\": 0, \"ticks\": \"\"}}, \"type\": \"scattermapbox\"}], \"scatterpolar\": [{\"marker\": {\"colorbar\": {\"outlinewidth\": 0, \"ticks\": \"\"}}, \"type\": \"scatterpolar\"}], \"scatterpolargl\": [{\"marker\": {\"colorbar\": {\"outlinewidth\": 0, \"ticks\": \"\"}}, \"type\": \"scatterpolargl\"}], \"scatterternary\": [{\"marker\": {\"colorbar\": {\"outlinewidth\": 0, \"ticks\": \"\"}}, \"type\": \"scatterternary\"}], \"surface\": [{\"colorbar\": {\"outlinewidth\": 0, \"ticks\": \"\"}, \"colorscale\": [[0.0, \"#0d0887\"], [0.1111111111111111, \"#46039f\"], [0.2222222222222222, \"#7201a8\"], [0.3333333333333333, \"#9c179e\"], [0.4444444444444444, \"#bd3786\"], [0.5555555555555556, \"#d8576b\"], [0.6666666666666666, \"#ed7953\"], [0.7777777777777778, \"#fb9f3a\"], [0.8888888888888888, \"#fdca26\"], [1.0, \"#f0f921\"]], \"type\": \"surface\"}], \"table\": [{\"cells\": {\"fill\": {\"color\": \"#EBF0F8\"}, \"line\": {\"color\": \"white\"}}, \"header\": {\"fill\": {\"color\": \"#C8D4E3\"}, \"line\": {\"color\": \"white\"}}, \"type\": \"table\"}]}, \"layout\": {\"annotationdefaults\": {\"arrowcolor\": \"#2a3f5f\", \"arrowhead\": 0, \"arrowwidth\": 1}, \"coloraxis\": {\"colorbar\": {\"outlinewidth\": 0, \"ticks\": \"\"}}, \"colorscale\": {\"diverging\": [[0, \"#8e0152\"], [0.1, \"#c51b7d\"], [0.2, \"#de77ae\"], [0.3, \"#f1b6da\"], [0.4, \"#fde0ef\"], [0.5, \"#f7f7f7\"], [0.6, \"#e6f5d0\"], [0.7, \"#b8e186\"], [0.8, \"#7fbc41\"], [0.9, \"#4d9221\"], [1, \"#276419\"]], \"sequential\": [[0.0, \"#0d0887\"], [0.1111111111111111, \"#46039f\"], [0.2222222222222222, \"#7201a8\"], [0.3333333333333333, \"#9c179e\"], [0.4444444444444444, \"#bd3786\"], [0.5555555555555556, \"#d8576b\"], [0.6666666666666666, \"#ed7953\"], [0.7777777777777778, \"#fb9f3a\"], [0.8888888888888888, \"#fdca26\"], [1.0, \"#f0f921\"]], \"sequentialminus\": [[0.0, \"#0d0887\"], [0.1111111111111111, \"#46039f\"], [0.2222222222222222, \"#7201a8\"], [0.3333333333333333, \"#9c179e\"], [0.4444444444444444, \"#bd3786\"], [0.5555555555555556, \"#d8576b\"], [0.6666666666666666, \"#ed7953\"], [0.7777777777777778, \"#fb9f3a\"], [0.8888888888888888, \"#fdca26\"], [1.0, \"#f0f921\"]]}, \"colorway\": [\"#636efa\", \"#EF553B\", \"#00cc96\", \"#ab63fa\", \"#FFA15A\", \"#19d3f3\", \"#FF6692\", \"#B6E880\", \"#FF97FF\", \"#FECB52\"], \"font\": {\"color\": \"#2a3f5f\"}, \"geo\": {\"bgcolor\": \"white\", \"lakecolor\": \"white\", \"landcolor\": \"#E5ECF6\", \"showlakes\": true, \"showland\": true, \"subunitcolor\": \"white\"}, \"hoverlabel\": {\"align\": \"left\"}, \"hovermode\": \"closest\", \"mapbox\": {\"style\": \"light\"}, \"paper_bgcolor\": \"white\", \"plot_bgcolor\": \"#E5ECF6\", \"polar\": {\"angularaxis\": {\"gridcolor\": \"white\", \"linecolor\": \"white\", \"ticks\": \"\"}, \"bgcolor\": \"#E5ECF6\", \"radialaxis\": {\"gridcolor\": \"white\", \"linecolor\": \"white\", \"ticks\": \"\"}}, \"scene\": {\"xaxis\": {\"backgroundcolor\": \"#E5ECF6\", \"gridcolor\": \"white\", \"gridwidth\": 2, \"linecolor\": \"white\", \"showbackground\": true, \"ticks\": \"\", \"zerolinecolor\": \"white\"}, \"yaxis\": {\"backgroundcolor\": \"#E5ECF6\", \"gridcolor\": \"white\", \"gridwidth\": 2, \"linecolor\": \"white\", \"showbackground\": true, \"ticks\": \"\", \"zerolinecolor\": \"white\"}, \"zaxis\": {\"backgroundcolor\": \"#E5ECF6\", \"gridcolor\": \"white\", \"gridwidth\": 2, \"linecolor\": \"white\", \"showbackground\": true, \"ticks\": \"\", \"zerolinecolor\": \"white\"}}, \"shapedefaults\": {\"line\": {\"color\": \"#2a3f5f\"}}, \"ternary\": {\"aaxis\": {\"gridcolor\": \"white\", \"linecolor\": \"white\", \"ticks\": \"\"}, \"baxis\": {\"gridcolor\": \"white\", \"linecolor\": \"white\", \"ticks\": \"\"}, \"bgcolor\": \"#E5ECF6\", \"caxis\": {\"gridcolor\": \"white\", \"linecolor\": \"white\", \"ticks\": \"\"}}, \"title\": {\"x\": 0.05}, \"xaxis\": {\"automargin\": true, \"gridcolor\": \"white\", \"linecolor\": \"white\", \"ticks\": \"\", \"title\": {\"standoff\": 15}, \"zerolinecolor\": \"white\", \"zerolinewidth\": 2}, \"yaxis\": {\"automargin\": true, \"gridcolor\": \"white\", \"linecolor\": \"white\", \"ticks\": \"\", \"title\": {\"standoff\": 15}, \"zerolinecolor\": \"white\", \"zerolinewidth\": 2}}}},\n",
       "                        {\"responsive\": true}\n",
       "                    ).then(function(){\n",
       "                            \n",
       "var gd = document.getElementById('9e835cb0-80f3-44ec-8b3c-04d11f85d6bc');\n",
       "var x = new MutationObserver(function (mutations, observer) {{\n",
       "        var display = window.getComputedStyle(gd).display;\n",
       "        if (!display || display === 'none') {{\n",
       "            console.log([gd, 'removed!']);\n",
       "            Plotly.purge(gd);\n",
       "            observer.disconnect();\n",
       "        }}\n",
       "}});\n",
       "\n",
       "// Listen for the removal of the full notebook cells\n",
       "var notebookContainer = gd.closest('#notebook-container');\n",
       "if (notebookContainer) {{\n",
       "    x.observe(notebookContainer, {childList: true});\n",
       "}}\n",
       "\n",
       "// Listen for the clearing of the current output cell\n",
       "var outputEl = gd.closest('.output');\n",
       "if (outputEl) {{\n",
       "    x.observe(outputEl, {childList: true});\n",
       "}}\n",
       "\n",
       "                        })\n",
       "                };\n",
       "                });\n",
       "            </script>\n",
       "        </div>"
      ]
     },
     "metadata": {},
     "output_type": "display_data"
    }
   ],
   "source": [
    "\n",
    "pca2 = PCA(n_components=ncomps, whiten=False,svd_solver='randomized')\n",
    "featd= pca2.fit_transform(dist_store)\n",
    "bandwidth = estimate_bandwidth(featd, quantile=0.25)\n",
    "\n",
    "ms = MeanShift(bandwidth=bandwidth, bin_seeding=False, cluster_all=False, min_bin_freq=35)\n",
    "ms.fit(featd)\n",
    "labelsf = ms.labels_\n",
    "labelf_select = {y:[x for x in range(len(labelsf)) if labelsf[x] == y] for y in sorted(list(set(labelsf)))}\n",
    "\n",
    "\n",
    "fig= [go.Scatter(\n",
    "    x= featd[labelf_select[i],0],\n",
    "    y= featd[labelf_select[i],1],\n",
    "    mode= 'markers',\n",
    "    name= str(i)\n",
    ") for i in labelf_select.keys()]\n",
    "\n",
    "layout= go.Layout()\n",
    "\n",
    "Figure= go.Figure(data= fig, layout= layout)\n",
    "\n",
    "iplot(Figure)\n"
   ]
  },
  {
   "cell_type": "code",
   "execution_count": 145,
   "metadata": {},
   "outputs": [
    {
     "data": {
      "application/vnd.plotly.v1+json": {
       "config": {
        "linkText": "Export to plot.ly",
        "plotlyServerURL": "https://plot.ly",
        "showLink": false
       },
       "data": [
        {
         "type": "bar",
         "x": [
          "pop1_0",
          "pop1_1",
          "pop1_2",
          "pop1_3",
          "pop1_4",
          "pop1_5",
          "pop1_6",
          "pop1_7",
          "pop1_8",
          "pop1_9",
          "pop1_10",
          "pop1_11",
          "pop1_12",
          "pop1_13",
          "pop1_14",
          "pop1_15",
          "pop1_16",
          "pop1_17",
          "pop1_18",
          "pop1_19",
          "pop1_20",
          "pop1_21",
          "pop1_22",
          "pop1_23",
          "pop1_24",
          "pop1_25",
          "pop1_26",
          "pop1_27",
          "pop1_28",
          "pop1_29",
          "pop1_30",
          "pop1_31",
          "pop1_32",
          "pop1_33",
          "pop1_34",
          "pop1_35",
          "pop1_36",
          "pop1_37",
          "pop1_38",
          "pop1_39",
          "pop2_40",
          "pop2_41",
          "pop2_42",
          "pop2_43",
          "pop2_44",
          "pop2_45",
          "pop2_46",
          "pop2_47",
          "pop2_48",
          "pop2_49",
          "pop2_50",
          "pop2_51",
          "pop2_52",
          "pop2_53",
          "pop2_54",
          "pop2_55",
          "pop2_56",
          "pop2_57",
          "pop2_58",
          "pop2_59",
          "pop0_60",
          "pop0_61",
          "pop0_62",
          "pop0_63",
          "pop0_64",
          "pop0_65",
          "pop0_66",
          "pop0_67",
          "pop0_68",
          "pop0_69",
          "pop0_70",
          "pop0_71",
          "pop0_72",
          "pop0_73",
          "pop0_74",
          "pop0_75",
          "pop0_76",
          "pop0_77",
          "pop0_78",
          "pop0_79",
          "pop0_80",
          "pop0_81",
          "pop0_82",
          "pop0_83",
          "pop0_84",
          "pop0_85",
          "pop0_86",
          "pop0_87",
          "pop0_88",
          "pop0_89",
          "pop0_90",
          "pop0_91",
          "pop0_92",
          "pop0_93",
          "pop0_94",
          "pop0_95",
          "pop0_96",
          "pop0_97",
          "pop0_98",
          "pop0_99",
          "pop3_100",
          "pop3_101",
          "pop3_102",
          "pop3_103",
          "pop3_104",
          "pop3_105",
          "pop3_106",
          "pop3_107",
          "pop3_108",
          "pop3_109",
          "pop3_110",
          "pop3_111",
          "pop3_112",
          "pop3_113",
          "pop3_114",
          "pop3_115",
          "pop3_116",
          "pop3_117",
          "pop3_118",
          "pop3_119",
          "pop3_120",
          "pop3_121",
          "pop3_122",
          "pop3_123",
          "pop3_124",
          "pop1_125",
          "pop3_126",
          "pop3_127",
          "pop1_128",
          "pop3_129"
         ],
         "y": [
          0.6484158902621001,
          0.6159420474547413,
          0.6149891285628755,
          0.6206254986520144,
          0.622860510173612,
          0.7025112278532398,
          0.6590044620268426,
          0.6329782549004607,
          0.6995891639086641,
          0.6209619150903049,
          0.6665046845496844,
          0.6067186684214527,
          0.5597340102777486,
          0.5320264546538267,
          0.5685332199192156,
          0.6369243329989707,
          0.5760279276273002,
          0.5853326650689696,
          0.6890201530656112,
          0.5958463878065063,
          0.6535731512264259,
          0.5926953007457259,
          0.6777649703498467,
          0.5534059502149057,
          0.5931694614071062,
          0.7242957699828277,
          0.5557338497260722,
          0.6323398233923406,
          0.5920794847818927,
          0.7533665710737135,
          0.6500761886642265,
          0.6313735834612635,
          0.5691657813312905,
          0.5946700118396598,
          0.5713926300525541,
          0.6805754291757552,
          0.6244467334135281,
          0.7844306105151639,
          0.5524486595577113,
          1.7500712086920167,
          1.565094119537105,
          1.8280450000538802,
          1.554332913145513,
          1.4351137178449536,
          1.6289474768134762,
          1.5240101403047719,
          1.7146994693101414,
          1.6549478357072747,
          1.7113032851036611,
          1.5799644489524591,
          1.4779956917964667,
          1.5679675422569481,
          1.6630150460230533,
          1.8144306379914867,
          1.7378493052286732,
          1.399125175276397,
          1.6271270611384707,
          1.6648669514301553,
          1.6450369955326483,
          1.2252052774927356,
          1.1870041047015991,
          1.119376488955113,
          1.1118685562090602,
          1.2482644369497726,
          1.4082369110366855,
          1.2691761849941767,
          1.2798035649870516,
          1.133713340711877,
          1.3029693631242307,
          1.170363353068191,
          1.2633832681874129,
          1.1520193827193332,
          1.1662999737104884,
          1.2302694307470459,
          1.1268241538193497,
          1.2298694032849742,
          1.4295612809122085,
          1.2760099231988637,
          1.1922408659886992,
          1.3434619953098927,
          1.2143254611038097,
          1.071879004722551,
          1.3021712160218437,
          1.3014962395999412,
          1.2408519976375254,
          1.1908970658771056,
          1.1196686918078893,
          1.1498354670687867,
          1.127325670419555,
          1.1333925493409427,
          1.2130769606366623,
          1.1927788256164993,
          1.2343977171560432,
          1.2206599038177064,
          1.1319143671328764,
          1.2596841699175991,
          1.2582714023638155,
          1.250134386777093,
          1.0761874003027838,
          1.8075120565419758,
          2.048868713052415,
          2.368502770557091,
          2.6333977205151893,
          3.845028290561853,
          4.094757561601373,
          2.825397739163955,
          2.326529779699005,
          2.3795102364504985,
          5.049835277181986,
          4.844799657116148,
          5.177019642501525,
          2.693916956881433,
          3.0029537187169204,
          2.9098283757947,
          3.975753675203606,
          5.114439247932569,
          4.833530534108721,
          2.5724989880387765,
          3.0358316720680523,
          3.1359412206549746,
          4.909273404519056,
          5.5173490855833505,
          5.31413061255449,
          3.757242304439067,
          1.7812403856708725,
          4.0143832896691185,
          3.1453253834330615,
          2.2325823454356986,
          3.438805871983831
         ]
        }
       ],
       "layout": {
        "template": {
         "data": {
          "bar": [
           {
            "error_x": {
             "color": "#2a3f5f"
            },
            "error_y": {
             "color": "#2a3f5f"
            },
            "marker": {
             "line": {
              "color": "#E5ECF6",
              "width": 0.5
             }
            },
            "type": "bar"
           }
          ],
          "barpolar": [
           {
            "marker": {
             "line": {
              "color": "#E5ECF6",
              "width": 0.5
             }
            },
            "type": "barpolar"
           }
          ],
          "carpet": [
           {
            "aaxis": {
             "endlinecolor": "#2a3f5f",
             "gridcolor": "white",
             "linecolor": "white",
             "minorgridcolor": "white",
             "startlinecolor": "#2a3f5f"
            },
            "baxis": {
             "endlinecolor": "#2a3f5f",
             "gridcolor": "white",
             "linecolor": "white",
             "minorgridcolor": "white",
             "startlinecolor": "#2a3f5f"
            },
            "type": "carpet"
           }
          ],
          "choropleth": [
           {
            "colorbar": {
             "outlinewidth": 0,
             "ticks": ""
            },
            "type": "choropleth"
           }
          ],
          "contour": [
           {
            "colorbar": {
             "outlinewidth": 0,
             "ticks": ""
            },
            "colorscale": [
             [
              0,
              "#0d0887"
             ],
             [
              0.1111111111111111,
              "#46039f"
             ],
             [
              0.2222222222222222,
              "#7201a8"
             ],
             [
              0.3333333333333333,
              "#9c179e"
             ],
             [
              0.4444444444444444,
              "#bd3786"
             ],
             [
              0.5555555555555556,
              "#d8576b"
             ],
             [
              0.6666666666666666,
              "#ed7953"
             ],
             [
              0.7777777777777778,
              "#fb9f3a"
             ],
             [
              0.8888888888888888,
              "#fdca26"
             ],
             [
              1,
              "#f0f921"
             ]
            ],
            "type": "contour"
           }
          ],
          "contourcarpet": [
           {
            "colorbar": {
             "outlinewidth": 0,
             "ticks": ""
            },
            "type": "contourcarpet"
           }
          ],
          "heatmap": [
           {
            "colorbar": {
             "outlinewidth": 0,
             "ticks": ""
            },
            "colorscale": [
             [
              0,
              "#0d0887"
             ],
             [
              0.1111111111111111,
              "#46039f"
             ],
             [
              0.2222222222222222,
              "#7201a8"
             ],
             [
              0.3333333333333333,
              "#9c179e"
             ],
             [
              0.4444444444444444,
              "#bd3786"
             ],
             [
              0.5555555555555556,
              "#d8576b"
             ],
             [
              0.6666666666666666,
              "#ed7953"
             ],
             [
              0.7777777777777778,
              "#fb9f3a"
             ],
             [
              0.8888888888888888,
              "#fdca26"
             ],
             [
              1,
              "#f0f921"
             ]
            ],
            "type": "heatmap"
           }
          ],
          "heatmapgl": [
           {
            "colorbar": {
             "outlinewidth": 0,
             "ticks": ""
            },
            "colorscale": [
             [
              0,
              "#0d0887"
             ],
             [
              0.1111111111111111,
              "#46039f"
             ],
             [
              0.2222222222222222,
              "#7201a8"
             ],
             [
              0.3333333333333333,
              "#9c179e"
             ],
             [
              0.4444444444444444,
              "#bd3786"
             ],
             [
              0.5555555555555556,
              "#d8576b"
             ],
             [
              0.6666666666666666,
              "#ed7953"
             ],
             [
              0.7777777777777778,
              "#fb9f3a"
             ],
             [
              0.8888888888888888,
              "#fdca26"
             ],
             [
              1,
              "#f0f921"
             ]
            ],
            "type": "heatmapgl"
           }
          ],
          "histogram": [
           {
            "marker": {
             "colorbar": {
              "outlinewidth": 0,
              "ticks": ""
             }
            },
            "type": "histogram"
           }
          ],
          "histogram2d": [
           {
            "colorbar": {
             "outlinewidth": 0,
             "ticks": ""
            },
            "colorscale": [
             [
              0,
              "#0d0887"
             ],
             [
              0.1111111111111111,
              "#46039f"
             ],
             [
              0.2222222222222222,
              "#7201a8"
             ],
             [
              0.3333333333333333,
              "#9c179e"
             ],
             [
              0.4444444444444444,
              "#bd3786"
             ],
             [
              0.5555555555555556,
              "#d8576b"
             ],
             [
              0.6666666666666666,
              "#ed7953"
             ],
             [
              0.7777777777777778,
              "#fb9f3a"
             ],
             [
              0.8888888888888888,
              "#fdca26"
             ],
             [
              1,
              "#f0f921"
             ]
            ],
            "type": "histogram2d"
           }
          ],
          "histogram2dcontour": [
           {
            "colorbar": {
             "outlinewidth": 0,
             "ticks": ""
            },
            "colorscale": [
             [
              0,
              "#0d0887"
             ],
             [
              0.1111111111111111,
              "#46039f"
             ],
             [
              0.2222222222222222,
              "#7201a8"
             ],
             [
              0.3333333333333333,
              "#9c179e"
             ],
             [
              0.4444444444444444,
              "#bd3786"
             ],
             [
              0.5555555555555556,
              "#d8576b"
             ],
             [
              0.6666666666666666,
              "#ed7953"
             ],
             [
              0.7777777777777778,
              "#fb9f3a"
             ],
             [
              0.8888888888888888,
              "#fdca26"
             ],
             [
              1,
              "#f0f921"
             ]
            ],
            "type": "histogram2dcontour"
           }
          ],
          "mesh3d": [
           {
            "colorbar": {
             "outlinewidth": 0,
             "ticks": ""
            },
            "type": "mesh3d"
           }
          ],
          "parcoords": [
           {
            "line": {
             "colorbar": {
              "outlinewidth": 0,
              "ticks": ""
             }
            },
            "type": "parcoords"
           }
          ],
          "pie": [
           {
            "automargin": true,
            "type": "pie"
           }
          ],
          "scatter": [
           {
            "marker": {
             "colorbar": {
              "outlinewidth": 0,
              "ticks": ""
             }
            },
            "type": "scatter"
           }
          ],
          "scatter3d": [
           {
            "line": {
             "colorbar": {
              "outlinewidth": 0,
              "ticks": ""
             }
            },
            "marker": {
             "colorbar": {
              "outlinewidth": 0,
              "ticks": ""
             }
            },
            "type": "scatter3d"
           }
          ],
          "scattercarpet": [
           {
            "marker": {
             "colorbar": {
              "outlinewidth": 0,
              "ticks": ""
             }
            },
            "type": "scattercarpet"
           }
          ],
          "scattergeo": [
           {
            "marker": {
             "colorbar": {
              "outlinewidth": 0,
              "ticks": ""
             }
            },
            "type": "scattergeo"
           }
          ],
          "scattergl": [
           {
            "marker": {
             "colorbar": {
              "outlinewidth": 0,
              "ticks": ""
             }
            },
            "type": "scattergl"
           }
          ],
          "scattermapbox": [
           {
            "marker": {
             "colorbar": {
              "outlinewidth": 0,
              "ticks": ""
             }
            },
            "type": "scattermapbox"
           }
          ],
          "scatterpolar": [
           {
            "marker": {
             "colorbar": {
              "outlinewidth": 0,
              "ticks": ""
             }
            },
            "type": "scatterpolar"
           }
          ],
          "scatterpolargl": [
           {
            "marker": {
             "colorbar": {
              "outlinewidth": 0,
              "ticks": ""
             }
            },
            "type": "scatterpolargl"
           }
          ],
          "scatterternary": [
           {
            "marker": {
             "colorbar": {
              "outlinewidth": 0,
              "ticks": ""
             }
            },
            "type": "scatterternary"
           }
          ],
          "surface": [
           {
            "colorbar": {
             "outlinewidth": 0,
             "ticks": ""
            },
            "colorscale": [
             [
              0,
              "#0d0887"
             ],
             [
              0.1111111111111111,
              "#46039f"
             ],
             [
              0.2222222222222222,
              "#7201a8"
             ],
             [
              0.3333333333333333,
              "#9c179e"
             ],
             [
              0.4444444444444444,
              "#bd3786"
             ],
             [
              0.5555555555555556,
              "#d8576b"
             ],
             [
              0.6666666666666666,
              "#ed7953"
             ],
             [
              0.7777777777777778,
              "#fb9f3a"
             ],
             [
              0.8888888888888888,
              "#fdca26"
             ],
             [
              1,
              "#f0f921"
             ]
            ],
            "type": "surface"
           }
          ],
          "table": [
           {
            "cells": {
             "fill": {
              "color": "#EBF0F8"
             },
             "line": {
              "color": "white"
             }
            },
            "header": {
             "fill": {
              "color": "#C8D4E3"
             },
             "line": {
              "color": "white"
             }
            },
            "type": "table"
           }
          ]
         },
         "layout": {
          "annotationdefaults": {
           "arrowcolor": "#2a3f5f",
           "arrowhead": 0,
           "arrowwidth": 1
          },
          "coloraxis": {
           "colorbar": {
            "outlinewidth": 0,
            "ticks": ""
           }
          },
          "colorscale": {
           "diverging": [
            [
             0,
             "#8e0152"
            ],
            [
             0.1,
             "#c51b7d"
            ],
            [
             0.2,
             "#de77ae"
            ],
            [
             0.3,
             "#f1b6da"
            ],
            [
             0.4,
             "#fde0ef"
            ],
            [
             0.5,
             "#f7f7f7"
            ],
            [
             0.6,
             "#e6f5d0"
            ],
            [
             0.7,
             "#b8e186"
            ],
            [
             0.8,
             "#7fbc41"
            ],
            [
             0.9,
             "#4d9221"
            ],
            [
             1,
             "#276419"
            ]
           ],
           "sequential": [
            [
             0,
             "#0d0887"
            ],
            [
             0.1111111111111111,
             "#46039f"
            ],
            [
             0.2222222222222222,
             "#7201a8"
            ],
            [
             0.3333333333333333,
             "#9c179e"
            ],
            [
             0.4444444444444444,
             "#bd3786"
            ],
            [
             0.5555555555555556,
             "#d8576b"
            ],
            [
             0.6666666666666666,
             "#ed7953"
            ],
            [
             0.7777777777777778,
             "#fb9f3a"
            ],
            [
             0.8888888888888888,
             "#fdca26"
            ],
            [
             1,
             "#f0f921"
            ]
           ],
           "sequentialminus": [
            [
             0,
             "#0d0887"
            ],
            [
             0.1111111111111111,
             "#46039f"
            ],
            [
             0.2222222222222222,
             "#7201a8"
            ],
            [
             0.3333333333333333,
             "#9c179e"
            ],
            [
             0.4444444444444444,
             "#bd3786"
            ],
            [
             0.5555555555555556,
             "#d8576b"
            ],
            [
             0.6666666666666666,
             "#ed7953"
            ],
            [
             0.7777777777777778,
             "#fb9f3a"
            ],
            [
             0.8888888888888888,
             "#fdca26"
            ],
            [
             1,
             "#f0f921"
            ]
           ]
          },
          "colorway": [
           "#636efa",
           "#EF553B",
           "#00cc96",
           "#ab63fa",
           "#FFA15A",
           "#19d3f3",
           "#FF6692",
           "#B6E880",
           "#FF97FF",
           "#FECB52"
          ],
          "font": {
           "color": "#2a3f5f"
          },
          "geo": {
           "bgcolor": "white",
           "lakecolor": "white",
           "landcolor": "#E5ECF6",
           "showlakes": true,
           "showland": true,
           "subunitcolor": "white"
          },
          "hoverlabel": {
           "align": "left"
          },
          "hovermode": "closest",
          "mapbox": {
           "style": "light"
          },
          "paper_bgcolor": "white",
          "plot_bgcolor": "#E5ECF6",
          "polar": {
           "angularaxis": {
            "gridcolor": "white",
            "linecolor": "white",
            "ticks": ""
           },
           "bgcolor": "#E5ECF6",
           "radialaxis": {
            "gridcolor": "white",
            "linecolor": "white",
            "ticks": ""
           }
          },
          "scene": {
           "xaxis": {
            "backgroundcolor": "#E5ECF6",
            "gridcolor": "white",
            "gridwidth": 2,
            "linecolor": "white",
            "showbackground": true,
            "ticks": "",
            "zerolinecolor": "white"
           },
           "yaxis": {
            "backgroundcolor": "#E5ECF6",
            "gridcolor": "white",
            "gridwidth": 2,
            "linecolor": "white",
            "showbackground": true,
            "ticks": "",
            "zerolinecolor": "white"
           },
           "zaxis": {
            "backgroundcolor": "#E5ECF6",
            "gridcolor": "white",
            "gridwidth": 2,
            "linecolor": "white",
            "showbackground": true,
            "ticks": "",
            "zerolinecolor": "white"
           }
          },
          "shapedefaults": {
           "line": {
            "color": "#2a3f5f"
           }
          },
          "ternary": {
           "aaxis": {
            "gridcolor": "white",
            "linecolor": "white",
            "ticks": ""
           },
           "baxis": {
            "gridcolor": "white",
            "linecolor": "white",
            "ticks": ""
           },
           "bgcolor": "#E5ECF6",
           "caxis": {
            "gridcolor": "white",
            "linecolor": "white",
            "ticks": ""
           }
          },
          "title": {
           "x": 0.05
          },
          "xaxis": {
           "automargin": true,
           "gridcolor": "white",
           "linecolor": "white",
           "ticks": "",
           "title": {
            "standoff": 15
           },
           "zerolinecolor": "white",
           "zerolinewidth": 2
          },
          "yaxis": {
           "automargin": true,
           "gridcolor": "white",
           "linecolor": "white",
           "ticks": "",
           "title": {
            "standoff": 15
           },
           "zerolinecolor": "white",
           "zerolinewidth": 2
          }
         }
        }
       }
      },
      "text/html": [
       "<div>\n",
       "        \n",
       "        \n",
       "            <div id=\"372ffc97-362f-4b1f-b909-81d92946fc65\" class=\"plotly-graph-div\" style=\"height:525px; width:100%;\"></div>\n",
       "            <script type=\"text/javascript\">\n",
       "                require([\"plotly\"], function(Plotly) {\n",
       "                    window.PLOTLYENV=window.PLOTLYENV || {};\n",
       "                    \n",
       "                if (document.getElementById(\"372ffc97-362f-4b1f-b909-81d92946fc65\")) {\n",
       "                    Plotly.newPlot(\n",
       "                        '372ffc97-362f-4b1f-b909-81d92946fc65',\n",
       "                        [{\"type\": \"bar\", \"x\": [\"pop1_0\", \"pop1_1\", \"pop1_2\", \"pop1_3\", \"pop1_4\", \"pop1_5\", \"pop1_6\", \"pop1_7\", \"pop1_8\", \"pop1_9\", \"pop1_10\", \"pop1_11\", \"pop1_12\", \"pop1_13\", \"pop1_14\", \"pop1_15\", \"pop1_16\", \"pop1_17\", \"pop1_18\", \"pop1_19\", \"pop1_20\", \"pop1_21\", \"pop1_22\", \"pop1_23\", \"pop1_24\", \"pop1_25\", \"pop1_26\", \"pop1_27\", \"pop1_28\", \"pop1_29\", \"pop1_30\", \"pop1_31\", \"pop1_32\", \"pop1_33\", \"pop1_34\", \"pop1_35\", \"pop1_36\", \"pop1_37\", \"pop1_38\", \"pop1_39\", \"pop2_40\", \"pop2_41\", \"pop2_42\", \"pop2_43\", \"pop2_44\", \"pop2_45\", \"pop2_46\", \"pop2_47\", \"pop2_48\", \"pop2_49\", \"pop2_50\", \"pop2_51\", \"pop2_52\", \"pop2_53\", \"pop2_54\", \"pop2_55\", \"pop2_56\", \"pop2_57\", \"pop2_58\", \"pop2_59\", \"pop0_60\", \"pop0_61\", \"pop0_62\", \"pop0_63\", \"pop0_64\", \"pop0_65\", \"pop0_66\", \"pop0_67\", \"pop0_68\", \"pop0_69\", \"pop0_70\", \"pop0_71\", \"pop0_72\", \"pop0_73\", \"pop0_74\", \"pop0_75\", \"pop0_76\", \"pop0_77\", \"pop0_78\", \"pop0_79\", \"pop0_80\", \"pop0_81\", \"pop0_82\", \"pop0_83\", \"pop0_84\", \"pop0_85\", \"pop0_86\", \"pop0_87\", \"pop0_88\", \"pop0_89\", \"pop0_90\", \"pop0_91\", \"pop0_92\", \"pop0_93\", \"pop0_94\", \"pop0_95\", \"pop0_96\", \"pop0_97\", \"pop0_98\", \"pop0_99\", \"pop3_100\", \"pop3_101\", \"pop3_102\", \"pop3_103\", \"pop3_104\", \"pop3_105\", \"pop3_106\", \"pop3_107\", \"pop3_108\", \"pop3_109\", \"pop3_110\", \"pop3_111\", \"pop3_112\", \"pop3_113\", \"pop3_114\", \"pop3_115\", \"pop3_116\", \"pop3_117\", \"pop3_118\", \"pop3_119\", \"pop3_120\", \"pop3_121\", \"pop3_122\", \"pop3_123\", \"pop3_124\", \"pop1_125\", \"pop3_126\", \"pop3_127\", \"pop1_128\", \"pop3_129\"], \"y\": [0.6484158902621001, 0.6159420474547413, 0.6149891285628755, 0.6206254986520144, 0.622860510173612, 0.7025112278532398, 0.6590044620268426, 0.6329782549004607, 0.6995891639086641, 0.6209619150903049, 0.6665046845496844, 0.6067186684214527, 0.5597340102777486, 0.5320264546538267, 0.5685332199192156, 0.6369243329989707, 0.5760279276273002, 0.5853326650689696, 0.6890201530656112, 0.5958463878065063, 0.6535731512264259, 0.5926953007457259, 0.6777649703498467, 0.5534059502149057, 0.5931694614071062, 0.7242957699828277, 0.5557338497260722, 0.6323398233923406, 0.5920794847818927, 0.7533665710737135, 0.6500761886642265, 0.6313735834612635, 0.5691657813312905, 0.5946700118396598, 0.5713926300525541, 0.6805754291757552, 0.6244467334135281, 0.7844306105151639, 0.5524486595577113, 1.7500712086920167, 1.565094119537105, 1.8280450000538802, 1.554332913145513, 1.4351137178449536, 1.6289474768134762, 1.5240101403047719, 1.7146994693101414, 1.6549478357072747, 1.7113032851036611, 1.5799644489524591, 1.4779956917964667, 1.5679675422569481, 1.6630150460230533, 1.8144306379914867, 1.7378493052286732, 1.399125175276397, 1.6271270611384707, 1.6648669514301553, 1.6450369955326483, 1.2252052774927356, 1.1870041047015991, 1.119376488955113, 1.1118685562090602, 1.2482644369497726, 1.4082369110366855, 1.2691761849941767, 1.2798035649870516, 1.133713340711877, 1.3029693631242307, 1.170363353068191, 1.2633832681874129, 1.1520193827193332, 1.1662999737104884, 1.2302694307470459, 1.1268241538193497, 1.2298694032849742, 1.4295612809122085, 1.2760099231988637, 1.1922408659886992, 1.3434619953098927, 1.2143254611038097, 1.071879004722551, 1.3021712160218437, 1.3014962395999412, 1.2408519976375254, 1.1908970658771056, 1.1196686918078893, 1.1498354670687867, 1.127325670419555, 1.1333925493409427, 1.2130769606366623, 1.1927788256164993, 1.2343977171560432, 1.2206599038177064, 1.1319143671328764, 1.2596841699175991, 1.2582714023638155, 1.250134386777093, 1.0761874003027838, 1.8075120565419758, 2.048868713052415, 2.368502770557091, 2.6333977205151893, 3.845028290561853, 4.094757561601373, 2.825397739163955, 2.326529779699005, 2.3795102364504985, 5.049835277181986, 4.844799657116148, 5.177019642501525, 2.693916956881433, 3.0029537187169204, 2.9098283757947, 3.975753675203606, 5.114439247932569, 4.833530534108721, 2.5724989880387765, 3.0358316720680523, 3.1359412206549746, 4.909273404519056, 5.5173490855833505, 5.31413061255449, 3.757242304439067, 1.7812403856708725, 4.0143832896691185, 3.1453253834330615, 2.2325823454356986, 3.438805871983831]}],\n",
       "                        {\"template\": {\"data\": {\"bar\": [{\"error_x\": {\"color\": \"#2a3f5f\"}, \"error_y\": {\"color\": \"#2a3f5f\"}, \"marker\": {\"line\": {\"color\": \"#E5ECF6\", \"width\": 0.5}}, \"type\": \"bar\"}], \"barpolar\": [{\"marker\": {\"line\": {\"color\": \"#E5ECF6\", \"width\": 0.5}}, \"type\": \"barpolar\"}], \"carpet\": [{\"aaxis\": {\"endlinecolor\": \"#2a3f5f\", \"gridcolor\": \"white\", \"linecolor\": \"white\", \"minorgridcolor\": \"white\", \"startlinecolor\": \"#2a3f5f\"}, \"baxis\": {\"endlinecolor\": \"#2a3f5f\", \"gridcolor\": \"white\", \"linecolor\": \"white\", \"minorgridcolor\": \"white\", \"startlinecolor\": \"#2a3f5f\"}, \"type\": \"carpet\"}], \"choropleth\": [{\"colorbar\": {\"outlinewidth\": 0, \"ticks\": \"\"}, \"type\": \"choropleth\"}], \"contour\": [{\"colorbar\": {\"outlinewidth\": 0, \"ticks\": \"\"}, \"colorscale\": [[0.0, \"#0d0887\"], [0.1111111111111111, \"#46039f\"], [0.2222222222222222, \"#7201a8\"], [0.3333333333333333, \"#9c179e\"], [0.4444444444444444, \"#bd3786\"], [0.5555555555555556, \"#d8576b\"], [0.6666666666666666, \"#ed7953\"], [0.7777777777777778, \"#fb9f3a\"], [0.8888888888888888, \"#fdca26\"], [1.0, \"#f0f921\"]], \"type\": \"contour\"}], \"contourcarpet\": [{\"colorbar\": {\"outlinewidth\": 0, \"ticks\": \"\"}, \"type\": \"contourcarpet\"}], \"heatmap\": [{\"colorbar\": {\"outlinewidth\": 0, \"ticks\": \"\"}, \"colorscale\": [[0.0, \"#0d0887\"], [0.1111111111111111, \"#46039f\"], [0.2222222222222222, \"#7201a8\"], [0.3333333333333333, \"#9c179e\"], [0.4444444444444444, \"#bd3786\"], [0.5555555555555556, \"#d8576b\"], [0.6666666666666666, \"#ed7953\"], [0.7777777777777778, \"#fb9f3a\"], [0.8888888888888888, \"#fdca26\"], [1.0, \"#f0f921\"]], \"type\": \"heatmap\"}], \"heatmapgl\": [{\"colorbar\": {\"outlinewidth\": 0, \"ticks\": \"\"}, \"colorscale\": [[0.0, \"#0d0887\"], [0.1111111111111111, \"#46039f\"], [0.2222222222222222, \"#7201a8\"], [0.3333333333333333, \"#9c179e\"], [0.4444444444444444, \"#bd3786\"], [0.5555555555555556, \"#d8576b\"], [0.6666666666666666, \"#ed7953\"], [0.7777777777777778, \"#fb9f3a\"], [0.8888888888888888, \"#fdca26\"], [1.0, \"#f0f921\"]], \"type\": \"heatmapgl\"}], \"histogram\": [{\"marker\": {\"colorbar\": {\"outlinewidth\": 0, \"ticks\": \"\"}}, \"type\": \"histogram\"}], \"histogram2d\": [{\"colorbar\": {\"outlinewidth\": 0, \"ticks\": \"\"}, \"colorscale\": [[0.0, \"#0d0887\"], [0.1111111111111111, \"#46039f\"], [0.2222222222222222, \"#7201a8\"], [0.3333333333333333, \"#9c179e\"], [0.4444444444444444, \"#bd3786\"], [0.5555555555555556, \"#d8576b\"], [0.6666666666666666, \"#ed7953\"], [0.7777777777777778, \"#fb9f3a\"], [0.8888888888888888, \"#fdca26\"], [1.0, \"#f0f921\"]], \"type\": \"histogram2d\"}], \"histogram2dcontour\": [{\"colorbar\": {\"outlinewidth\": 0, \"ticks\": \"\"}, \"colorscale\": [[0.0, \"#0d0887\"], [0.1111111111111111, \"#46039f\"], [0.2222222222222222, \"#7201a8\"], [0.3333333333333333, \"#9c179e\"], [0.4444444444444444, \"#bd3786\"], [0.5555555555555556, \"#d8576b\"], [0.6666666666666666, \"#ed7953\"], [0.7777777777777778, \"#fb9f3a\"], [0.8888888888888888, \"#fdca26\"], [1.0, \"#f0f921\"]], \"type\": \"histogram2dcontour\"}], \"mesh3d\": [{\"colorbar\": {\"outlinewidth\": 0, \"ticks\": \"\"}, \"type\": \"mesh3d\"}], \"parcoords\": [{\"line\": {\"colorbar\": {\"outlinewidth\": 0, \"ticks\": \"\"}}, \"type\": \"parcoords\"}], \"pie\": [{\"automargin\": true, \"type\": \"pie\"}], \"scatter\": [{\"marker\": {\"colorbar\": {\"outlinewidth\": 0, \"ticks\": \"\"}}, \"type\": \"scatter\"}], \"scatter3d\": [{\"line\": {\"colorbar\": {\"outlinewidth\": 0, \"ticks\": \"\"}}, \"marker\": {\"colorbar\": {\"outlinewidth\": 0, \"ticks\": \"\"}}, \"type\": \"scatter3d\"}], \"scattercarpet\": [{\"marker\": {\"colorbar\": {\"outlinewidth\": 0, \"ticks\": \"\"}}, \"type\": \"scattercarpet\"}], \"scattergeo\": [{\"marker\": {\"colorbar\": {\"outlinewidth\": 0, \"ticks\": \"\"}}, \"type\": \"scattergeo\"}], \"scattergl\": [{\"marker\": {\"colorbar\": {\"outlinewidth\": 0, \"ticks\": \"\"}}, \"type\": \"scattergl\"}], \"scattermapbox\": [{\"marker\": {\"colorbar\": {\"outlinewidth\": 0, \"ticks\": \"\"}}, \"type\": \"scattermapbox\"}], \"scatterpolar\": [{\"marker\": {\"colorbar\": {\"outlinewidth\": 0, \"ticks\": \"\"}}, \"type\": \"scatterpolar\"}], \"scatterpolargl\": [{\"marker\": {\"colorbar\": {\"outlinewidth\": 0, \"ticks\": \"\"}}, \"type\": \"scatterpolargl\"}], \"scatterternary\": [{\"marker\": {\"colorbar\": {\"outlinewidth\": 0, \"ticks\": \"\"}}, \"type\": \"scatterternary\"}], \"surface\": [{\"colorbar\": {\"outlinewidth\": 0, \"ticks\": \"\"}, \"colorscale\": [[0.0, \"#0d0887\"], [0.1111111111111111, \"#46039f\"], [0.2222222222222222, \"#7201a8\"], [0.3333333333333333, \"#9c179e\"], [0.4444444444444444, \"#bd3786\"], [0.5555555555555556, \"#d8576b\"], [0.6666666666666666, \"#ed7953\"], [0.7777777777777778, \"#fb9f3a\"], [0.8888888888888888, \"#fdca26\"], [1.0, \"#f0f921\"]], \"type\": \"surface\"}], \"table\": [{\"cells\": {\"fill\": {\"color\": \"#EBF0F8\"}, \"line\": {\"color\": \"white\"}}, \"header\": {\"fill\": {\"color\": \"#C8D4E3\"}, \"line\": {\"color\": \"white\"}}, \"type\": \"table\"}]}, \"layout\": {\"annotationdefaults\": {\"arrowcolor\": \"#2a3f5f\", \"arrowhead\": 0, \"arrowwidth\": 1}, \"coloraxis\": {\"colorbar\": {\"outlinewidth\": 0, \"ticks\": \"\"}}, \"colorscale\": {\"diverging\": [[0, \"#8e0152\"], [0.1, \"#c51b7d\"], [0.2, \"#de77ae\"], [0.3, \"#f1b6da\"], [0.4, \"#fde0ef\"], [0.5, \"#f7f7f7\"], [0.6, \"#e6f5d0\"], [0.7, \"#b8e186\"], [0.8, \"#7fbc41\"], [0.9, \"#4d9221\"], [1, \"#276419\"]], \"sequential\": [[0.0, \"#0d0887\"], [0.1111111111111111, \"#46039f\"], [0.2222222222222222, \"#7201a8\"], [0.3333333333333333, \"#9c179e\"], [0.4444444444444444, \"#bd3786\"], [0.5555555555555556, \"#d8576b\"], [0.6666666666666666, \"#ed7953\"], [0.7777777777777778, \"#fb9f3a\"], [0.8888888888888888, \"#fdca26\"], [1.0, \"#f0f921\"]], \"sequentialminus\": [[0.0, \"#0d0887\"], [0.1111111111111111, \"#46039f\"], [0.2222222222222222, \"#7201a8\"], [0.3333333333333333, \"#9c179e\"], [0.4444444444444444, \"#bd3786\"], [0.5555555555555556, \"#d8576b\"], [0.6666666666666666, \"#ed7953\"], [0.7777777777777778, \"#fb9f3a\"], [0.8888888888888888, \"#fdca26\"], [1.0, \"#f0f921\"]]}, \"colorway\": [\"#636efa\", \"#EF553B\", \"#00cc96\", \"#ab63fa\", \"#FFA15A\", \"#19d3f3\", \"#FF6692\", \"#B6E880\", \"#FF97FF\", \"#FECB52\"], \"font\": {\"color\": \"#2a3f5f\"}, \"geo\": {\"bgcolor\": \"white\", \"lakecolor\": \"white\", \"landcolor\": \"#E5ECF6\", \"showlakes\": true, \"showland\": true, \"subunitcolor\": \"white\"}, \"hoverlabel\": {\"align\": \"left\"}, \"hovermode\": \"closest\", \"mapbox\": {\"style\": \"light\"}, \"paper_bgcolor\": \"white\", \"plot_bgcolor\": \"#E5ECF6\", \"polar\": {\"angularaxis\": {\"gridcolor\": \"white\", \"linecolor\": \"white\", \"ticks\": \"\"}, \"bgcolor\": \"#E5ECF6\", \"radialaxis\": {\"gridcolor\": \"white\", \"linecolor\": \"white\", \"ticks\": \"\"}}, \"scene\": {\"xaxis\": {\"backgroundcolor\": \"#E5ECF6\", \"gridcolor\": \"white\", \"gridwidth\": 2, \"linecolor\": \"white\", \"showbackground\": true, \"ticks\": \"\", \"zerolinecolor\": \"white\"}, \"yaxis\": {\"backgroundcolor\": \"#E5ECF6\", \"gridcolor\": \"white\", \"gridwidth\": 2, \"linecolor\": \"white\", \"showbackground\": true, \"ticks\": \"\", \"zerolinecolor\": \"white\"}, \"zaxis\": {\"backgroundcolor\": \"#E5ECF6\", \"gridcolor\": \"white\", \"gridwidth\": 2, \"linecolor\": \"white\", \"showbackground\": true, \"ticks\": \"\", \"zerolinecolor\": \"white\"}}, \"shapedefaults\": {\"line\": {\"color\": \"#2a3f5f\"}}, \"ternary\": {\"aaxis\": {\"gridcolor\": \"white\", \"linecolor\": \"white\", \"ticks\": \"\"}, \"baxis\": {\"gridcolor\": \"white\", \"linecolor\": \"white\", \"ticks\": \"\"}, \"bgcolor\": \"#E5ECF6\", \"caxis\": {\"gridcolor\": \"white\", \"linecolor\": \"white\", \"ticks\": \"\"}}, \"title\": {\"x\": 0.05}, \"xaxis\": {\"automargin\": true, \"gridcolor\": \"white\", \"linecolor\": \"white\", \"ticks\": \"\", \"title\": {\"standoff\": 15}, \"zerolinecolor\": \"white\", \"zerolinewidth\": 2}, \"yaxis\": {\"automargin\": true, \"gridcolor\": \"white\", \"linecolor\": \"white\", \"ticks\": \"\", \"title\": {\"standoff\": 15}, \"zerolinecolor\": \"white\", \"zerolinewidth\": 2}}}},\n",
       "                        {\"responsive\": true}\n",
       "                    ).then(function(){\n",
       "                            \n",
       "var gd = document.getElementById('372ffc97-362f-4b1f-b909-81d92946fc65');\n",
       "var x = new MutationObserver(function (mutations, observer) {{\n",
       "        var display = window.getComputedStyle(gd).display;\n",
       "        if (!display || display === 'none') {{\n",
       "            console.log([gd, 'removed!']);\n",
       "            Plotly.purge(gd);\n",
       "            observer.disconnect();\n",
       "        }}\n",
       "}});\n",
       "\n",
       "// Listen for the removal of the full notebook cells\n",
       "var notebookContainer = gd.closest('#notebook-container');\n",
       "if (notebookContainer) {{\n",
       "    x.observe(notebookContainer, {childList: true});\n",
       "}}\n",
       "\n",
       "// Listen for the clearing of the current output cell\n",
       "var outputEl = gd.closest('.output');\n",
       "if (outputEl) {{\n",
       "    x.observe(outputEl, {childList: true});\n",
       "}}\n",
       "\n",
       "                        })\n",
       "                };\n",
       "                });\n",
       "            </script>\n",
       "        </div>"
      ]
     },
     "metadata": {},
     "output_type": "display_data"
    }
   ],
   "source": [
    "#dist_store_norm= \n",
    "dist_var= np.std(dist_store,axis= 0)**2\n",
    "who_plot= [x for x in range(len(label_vector)) if label_vector[x] in [0,1,2,3]]\n",
    "idvector= ['pop{}_{}'.format(label_vector[x],Whose[x]) for x in who_plot]\n",
    "\n",
    "fig = go.Figure([go.Bar(\n",
    "    x=idvector, y=dist_var\n",
    ")])\n",
    "layout= go.Layout()\n",
    "\n",
    "Figure= go.Figure(data= fig, layout= layout)\n",
    "iplot(Figure)"
   ]
  },
  {
   "cell_type": "code",
   "execution_count": 146,
   "metadata": {},
   "outputs": [
    {
     "data": {
      "application/vnd.plotly.v1+json": {
       "config": {
        "linkText": "Export to plot.ly",
        "plotlyServerURL": "https://plot.ly",
        "showLink": false
       },
       "data": [
        {
         "mode": "markers",
         "name": "0",
         "type": "scatter",
         "x": [
          -2.699474381690141,
          -3.5499170390325494,
          -2.8446030917247964,
          -3.621943304579084,
          -3.474179812425632,
          -3.5638630895728065,
          -3.4552654565651792,
          -2.903861275717201,
          -3.9863783811165767,
          -3.391447796697177,
          -2.193317890575037,
          -4.044204570268725,
          -2.544504802239598,
          -3.9882872909503124,
          -3.3426031256601356,
          -1.6589717829310247,
          -3.5849327345635214,
          -3.60734096383789,
          -3.634508625786644,
          -3.45879857390801,
          -3.0907960023900296,
          -2.9685092125877257,
          -3.9985437669888384,
          -2.6411784604257127,
          -3.1293931120299203,
          -4.201591116799376,
          -3.3045495585368925,
          -4.288426936557333,
          -3.0401689691652463,
          -3.83004797092242,
          -4.149528261636942,
          -3.5417848171807154,
          -3.2536079843015266,
          -2.5473885563602314,
          -3.298336873745193,
          -3.513551286566988,
          -3.9916977858694107,
          -3.134458324597791,
          -3.337901225437388,
          -2.362027965006113
         ],
         "y": [
          -0.7409453943956963,
          0.2298536389493047,
          0.0976180062273746,
          -2.6241426070010982,
          -1.0677796813545894,
          0.21537392985874892,
          1.0673986539233151,
          -0.5725050173283502,
          0.16181059282404692,
          -0.7043786789928519,
          0.198037029105513,
          -0.006396056560078957,
          -0.07342801891037731,
          0.35077259456469323,
          0.6998582705597717,
          0.9305189688851296,
          -0.5128775367100513,
          -0.9105395510564211,
          -0.7637459601449378,
          -1.641834438413403,
          -1.5335915194544492,
          0.08667110586566786,
          0.8104570051767535,
          -0.16812903780922045,
          0.36708638519737957,
          0.007840882986395088,
          -1.1557848694664261,
          -0.46346236339570007,
          -0.6187910692959944,
          1.2960512560197182,
          -0.6546859952294379,
          0.7289221329145773,
          -0.3405044328647484,
          -0.6122640563111377,
          -0.37606279585568214,
          -1.440113037888556,
          -1.0639195535731876,
          0.5369334882207303,
          -1.1959537635580586,
          -0.27329502599713384
         ]
        },
        {
         "mode": "markers",
         "name": "1",
         "type": "scatter",
         "x": [
          2.568133644367306,
          2.126109333018622,
          2.9698753829497804,
          3.231458790469583,
          2.689680821329472,
          3.2303123530835736,
          2.931268123869177,
          2.004449177714682,
          3.160137542942751,
          1.6283236364663665,
          2.8280778024182274,
          2.334613559992755,
          1.8371807724074047,
          2.3136229446493797,
          3.354746592612099,
          1.5473210417040406,
          2.4202147860244616,
          2.161540375379637,
          1.2157338693812119,
          2.11013146255265,
          2.3504742926499853,
          2.2614115387692006,
          2.5173844908361183,
          2.5572142216223077,
          1.5586352956050848,
          3.7001021512333296,
          2.3476672945791575,
          1.6182430202058555,
          3.1927259356395763,
          0.5374367029997682,
          2.236536586756506,
          3.0735037817358046,
          2.9841707670302267,
          1.785465724238149,
          1.4348896365444963,
          1.043539183435878,
          2.116454192346638,
          3.1292293644850995,
          2.002662229958236,
          2.8566042358944626,
          4.508365359233121,
          4.090075355265978
         ],
         "y": [
          -0.9410103483248938,
          -1.1518755487648242,
          -0.8679067398599747,
          -0.7974961311073915,
          -1.860428742222586,
          -1.5178515973558697,
          -1.9541573084431818,
          -0.5161043659337105,
          -1.534027358591078,
          -1.7083327426287922,
          -0.2045045907060094,
          -0.6936569742770478,
          0.4670124030397172,
          -0.04962098850001406,
          -0.042108663650051,
          -1.2076406295708613,
          -3.3820125689667955,
          0.5842085089615074,
          -2.133519531576658,
          -0.06441640900684087,
          -0.8519422424569405,
          -1.9069235431168259,
          -0.7593854321280872,
          -0.7423138811779212,
          -2.752676629732153,
          -1.1089902242008376,
          -1.5509007668864074,
          -0.6470300117524507,
          -1.9101931110667527,
          -0.8440709313670101,
          -1.6421735620524867,
          -0.21149764102714258,
          -2.8941189664008227,
          -0.9388384897989416,
          -0.5412251952923235,
          -0.9018083887256249,
          -0.9050255792353293,
          -1.554847836678625,
          -1.2912673870516453,
          -1.4532513711945134,
          -1.548070241446793,
          -0.7324400390172365
         ]
        },
        {
         "mode": "markers",
         "name": "2",
         "type": "scatter",
         "x": [
          1.9802307861254236,
          1.2745967680815875,
          1.193850502840356,
          0.7176699581294438,
          0.6499686696459873,
          2.1849059428487334,
          0.3817947535083183,
          0.33393267629731244,
          2.210222480296394,
          1.602341655498638,
          1.392148805102056,
          2.502651873653776,
          1.3804181979196475,
          1.7411368798104208,
          -0.5114231582126469,
          1.3979908551340077,
          0.9385530511441679,
          0.8793532475208545,
          1.7965989307447623,
          0.5890446966074265
         ],
         "y": [
          3.900429368318278,
          4.643434212253207,
          2.2001906236953803,
          3.1685141973318682,
          3.3493427832273643,
          3.083312721435848,
          4.161420927273091,
          3.198189693848266,
          3.7183321651356382,
          2.816976482931129,
          4.292624062814842,
          3.3424602370682113,
          0.8148236290262147,
          2.7356935665968876,
          1.9110470410586438,
          3.1072572995032144,
          4.579918662781982,
          2.3818839746329528,
          3.071852895821908,
          0.8028808842403992
         ]
        },
        {
         "mode": "markers",
         "name": "3",
         "type": "scatter",
         "x": [
          0.9272792787586579,
          -0.31643747445841963,
          -4.014922433280905,
          -0.24533109587611723,
          -2.716140715323226,
          0.8267140954523936,
          1.7138789435321138,
          0.8264912978880503,
          -0.14924745872954634,
          -2.780898193819742,
          2.2012609273023136,
          -3.8753409024042633,
          -0.5016776993587214,
          3.3622900740963497,
          3.7123466775505363,
          0.8398458198026253,
          2.975498351127948,
          1.545500754188616,
          2.771964556594142,
          0.48616122419648644,
          2.1817205025457627,
          -2.794427648720974,
          2.5613684785485575,
          -3.301636919675784,
          2.602636688742861,
          -3.303795101848827,
          -2.4787161795391457,
          2.91379538256127
         ],
         "y": [
          0.7525193245393433,
          0.052510040689876,
          -1.1458667982669473,
          2.1019879641769137,
          -0.710203553311286,
          5.334747625799379,
          0.7137630782225878,
          0.37607541191496646,
          0.8930304038161347,
          -0.7697843640517065,
          -1.6996971562009262,
          -1.6432656309489395,
          -0.5051141390867072,
          -1.8983366487023121,
          0.0375974936164029,
          4.352033651016817,
          -0.048658824527675205,
          -0.6717916536202071,
          -0.361143056048605,
          0.9622270000371658,
          -1.465126523920925,
          0.3770622879391613,
          -2.5745207863963278,
          -0.18360659640877244,
          -1.8004293570047527,
          -0.4594440752047993,
          -0.8216854568938218,
          -1.481096770588644
         ]
        },
        {
         "marker": {
          "color": "LightSkyBlue",
          "line": {
           "color": "red",
           "width": 7
          },
          "size": 20
         },
         "mode": "markers",
         "showlegend": false,
         "type": "scatter",
         "x": [
          1.6182430202058555
         ],
         "y": [
          -0.6470300117524507
         ]
        }
       ],
       "layout": {
        "template": {
         "data": {
          "bar": [
           {
            "error_x": {
             "color": "#2a3f5f"
            },
            "error_y": {
             "color": "#2a3f5f"
            },
            "marker": {
             "line": {
              "color": "#E5ECF6",
              "width": 0.5
             }
            },
            "type": "bar"
           }
          ],
          "barpolar": [
           {
            "marker": {
             "line": {
              "color": "#E5ECF6",
              "width": 0.5
             }
            },
            "type": "barpolar"
           }
          ],
          "carpet": [
           {
            "aaxis": {
             "endlinecolor": "#2a3f5f",
             "gridcolor": "white",
             "linecolor": "white",
             "minorgridcolor": "white",
             "startlinecolor": "#2a3f5f"
            },
            "baxis": {
             "endlinecolor": "#2a3f5f",
             "gridcolor": "white",
             "linecolor": "white",
             "minorgridcolor": "white",
             "startlinecolor": "#2a3f5f"
            },
            "type": "carpet"
           }
          ],
          "choropleth": [
           {
            "colorbar": {
             "outlinewidth": 0,
             "ticks": ""
            },
            "type": "choropleth"
           }
          ],
          "contour": [
           {
            "colorbar": {
             "outlinewidth": 0,
             "ticks": ""
            },
            "colorscale": [
             [
              0,
              "#0d0887"
             ],
             [
              0.1111111111111111,
              "#46039f"
             ],
             [
              0.2222222222222222,
              "#7201a8"
             ],
             [
              0.3333333333333333,
              "#9c179e"
             ],
             [
              0.4444444444444444,
              "#bd3786"
             ],
             [
              0.5555555555555556,
              "#d8576b"
             ],
             [
              0.6666666666666666,
              "#ed7953"
             ],
             [
              0.7777777777777778,
              "#fb9f3a"
             ],
             [
              0.8888888888888888,
              "#fdca26"
             ],
             [
              1,
              "#f0f921"
             ]
            ],
            "type": "contour"
           }
          ],
          "contourcarpet": [
           {
            "colorbar": {
             "outlinewidth": 0,
             "ticks": ""
            },
            "type": "contourcarpet"
           }
          ],
          "heatmap": [
           {
            "colorbar": {
             "outlinewidth": 0,
             "ticks": ""
            },
            "colorscale": [
             [
              0,
              "#0d0887"
             ],
             [
              0.1111111111111111,
              "#46039f"
             ],
             [
              0.2222222222222222,
              "#7201a8"
             ],
             [
              0.3333333333333333,
              "#9c179e"
             ],
             [
              0.4444444444444444,
              "#bd3786"
             ],
             [
              0.5555555555555556,
              "#d8576b"
             ],
             [
              0.6666666666666666,
              "#ed7953"
             ],
             [
              0.7777777777777778,
              "#fb9f3a"
             ],
             [
              0.8888888888888888,
              "#fdca26"
             ],
             [
              1,
              "#f0f921"
             ]
            ],
            "type": "heatmap"
           }
          ],
          "heatmapgl": [
           {
            "colorbar": {
             "outlinewidth": 0,
             "ticks": ""
            },
            "colorscale": [
             [
              0,
              "#0d0887"
             ],
             [
              0.1111111111111111,
              "#46039f"
             ],
             [
              0.2222222222222222,
              "#7201a8"
             ],
             [
              0.3333333333333333,
              "#9c179e"
             ],
             [
              0.4444444444444444,
              "#bd3786"
             ],
             [
              0.5555555555555556,
              "#d8576b"
             ],
             [
              0.6666666666666666,
              "#ed7953"
             ],
             [
              0.7777777777777778,
              "#fb9f3a"
             ],
             [
              0.8888888888888888,
              "#fdca26"
             ],
             [
              1,
              "#f0f921"
             ]
            ],
            "type": "heatmapgl"
           }
          ],
          "histogram": [
           {
            "marker": {
             "colorbar": {
              "outlinewidth": 0,
              "ticks": ""
             }
            },
            "type": "histogram"
           }
          ],
          "histogram2d": [
           {
            "colorbar": {
             "outlinewidth": 0,
             "ticks": ""
            },
            "colorscale": [
             [
              0,
              "#0d0887"
             ],
             [
              0.1111111111111111,
              "#46039f"
             ],
             [
              0.2222222222222222,
              "#7201a8"
             ],
             [
              0.3333333333333333,
              "#9c179e"
             ],
             [
              0.4444444444444444,
              "#bd3786"
             ],
             [
              0.5555555555555556,
              "#d8576b"
             ],
             [
              0.6666666666666666,
              "#ed7953"
             ],
             [
              0.7777777777777778,
              "#fb9f3a"
             ],
             [
              0.8888888888888888,
              "#fdca26"
             ],
             [
              1,
              "#f0f921"
             ]
            ],
            "type": "histogram2d"
           }
          ],
          "histogram2dcontour": [
           {
            "colorbar": {
             "outlinewidth": 0,
             "ticks": ""
            },
            "colorscale": [
             [
              0,
              "#0d0887"
             ],
             [
              0.1111111111111111,
              "#46039f"
             ],
             [
              0.2222222222222222,
              "#7201a8"
             ],
             [
              0.3333333333333333,
              "#9c179e"
             ],
             [
              0.4444444444444444,
              "#bd3786"
             ],
             [
              0.5555555555555556,
              "#d8576b"
             ],
             [
              0.6666666666666666,
              "#ed7953"
             ],
             [
              0.7777777777777778,
              "#fb9f3a"
             ],
             [
              0.8888888888888888,
              "#fdca26"
             ],
             [
              1,
              "#f0f921"
             ]
            ],
            "type": "histogram2dcontour"
           }
          ],
          "mesh3d": [
           {
            "colorbar": {
             "outlinewidth": 0,
             "ticks": ""
            },
            "type": "mesh3d"
           }
          ],
          "parcoords": [
           {
            "line": {
             "colorbar": {
              "outlinewidth": 0,
              "ticks": ""
             }
            },
            "type": "parcoords"
           }
          ],
          "pie": [
           {
            "automargin": true,
            "type": "pie"
           }
          ],
          "scatter": [
           {
            "marker": {
             "colorbar": {
              "outlinewidth": 0,
              "ticks": ""
             }
            },
            "type": "scatter"
           }
          ],
          "scatter3d": [
           {
            "line": {
             "colorbar": {
              "outlinewidth": 0,
              "ticks": ""
             }
            },
            "marker": {
             "colorbar": {
              "outlinewidth": 0,
              "ticks": ""
             }
            },
            "type": "scatter3d"
           }
          ],
          "scattercarpet": [
           {
            "marker": {
             "colorbar": {
              "outlinewidth": 0,
              "ticks": ""
             }
            },
            "type": "scattercarpet"
           }
          ],
          "scattergeo": [
           {
            "marker": {
             "colorbar": {
              "outlinewidth": 0,
              "ticks": ""
             }
            },
            "type": "scattergeo"
           }
          ],
          "scattergl": [
           {
            "marker": {
             "colorbar": {
              "outlinewidth": 0,
              "ticks": ""
             }
            },
            "type": "scattergl"
           }
          ],
          "scattermapbox": [
           {
            "marker": {
             "colorbar": {
              "outlinewidth": 0,
              "ticks": ""
             }
            },
            "type": "scattermapbox"
           }
          ],
          "scatterpolar": [
           {
            "marker": {
             "colorbar": {
              "outlinewidth": 0,
              "ticks": ""
             }
            },
            "type": "scatterpolar"
           }
          ],
          "scatterpolargl": [
           {
            "marker": {
             "colorbar": {
              "outlinewidth": 0,
              "ticks": ""
             }
            },
            "type": "scatterpolargl"
           }
          ],
          "scatterternary": [
           {
            "marker": {
             "colorbar": {
              "outlinewidth": 0,
              "ticks": ""
             }
            },
            "type": "scatterternary"
           }
          ],
          "surface": [
           {
            "colorbar": {
             "outlinewidth": 0,
             "ticks": ""
            },
            "colorscale": [
             [
              0,
              "#0d0887"
             ],
             [
              0.1111111111111111,
              "#46039f"
             ],
             [
              0.2222222222222222,
              "#7201a8"
             ],
             [
              0.3333333333333333,
              "#9c179e"
             ],
             [
              0.4444444444444444,
              "#bd3786"
             ],
             [
              0.5555555555555556,
              "#d8576b"
             ],
             [
              0.6666666666666666,
              "#ed7953"
             ],
             [
              0.7777777777777778,
              "#fb9f3a"
             ],
             [
              0.8888888888888888,
              "#fdca26"
             ],
             [
              1,
              "#f0f921"
             ]
            ],
            "type": "surface"
           }
          ],
          "table": [
           {
            "cells": {
             "fill": {
              "color": "#EBF0F8"
             },
             "line": {
              "color": "white"
             }
            },
            "header": {
             "fill": {
              "color": "#C8D4E3"
             },
             "line": {
              "color": "white"
             }
            },
            "type": "table"
           }
          ]
         },
         "layout": {
          "annotationdefaults": {
           "arrowcolor": "#2a3f5f",
           "arrowhead": 0,
           "arrowwidth": 1
          },
          "coloraxis": {
           "colorbar": {
            "outlinewidth": 0,
            "ticks": ""
           }
          },
          "colorscale": {
           "diverging": [
            [
             0,
             "#8e0152"
            ],
            [
             0.1,
             "#c51b7d"
            ],
            [
             0.2,
             "#de77ae"
            ],
            [
             0.3,
             "#f1b6da"
            ],
            [
             0.4,
             "#fde0ef"
            ],
            [
             0.5,
             "#f7f7f7"
            ],
            [
             0.6,
             "#e6f5d0"
            ],
            [
             0.7,
             "#b8e186"
            ],
            [
             0.8,
             "#7fbc41"
            ],
            [
             0.9,
             "#4d9221"
            ],
            [
             1,
             "#276419"
            ]
           ],
           "sequential": [
            [
             0,
             "#0d0887"
            ],
            [
             0.1111111111111111,
             "#46039f"
            ],
            [
             0.2222222222222222,
             "#7201a8"
            ],
            [
             0.3333333333333333,
             "#9c179e"
            ],
            [
             0.4444444444444444,
             "#bd3786"
            ],
            [
             0.5555555555555556,
             "#d8576b"
            ],
            [
             0.6666666666666666,
             "#ed7953"
            ],
            [
             0.7777777777777778,
             "#fb9f3a"
            ],
            [
             0.8888888888888888,
             "#fdca26"
            ],
            [
             1,
             "#f0f921"
            ]
           ],
           "sequentialminus": [
            [
             0,
             "#0d0887"
            ],
            [
             0.1111111111111111,
             "#46039f"
            ],
            [
             0.2222222222222222,
             "#7201a8"
            ],
            [
             0.3333333333333333,
             "#9c179e"
            ],
            [
             0.4444444444444444,
             "#bd3786"
            ],
            [
             0.5555555555555556,
             "#d8576b"
            ],
            [
             0.6666666666666666,
             "#ed7953"
            ],
            [
             0.7777777777777778,
             "#fb9f3a"
            ],
            [
             0.8888888888888888,
             "#fdca26"
            ],
            [
             1,
             "#f0f921"
            ]
           ]
          },
          "colorway": [
           "#636efa",
           "#EF553B",
           "#00cc96",
           "#ab63fa",
           "#FFA15A",
           "#19d3f3",
           "#FF6692",
           "#B6E880",
           "#FF97FF",
           "#FECB52"
          ],
          "font": {
           "color": "#2a3f5f"
          },
          "geo": {
           "bgcolor": "white",
           "lakecolor": "white",
           "landcolor": "#E5ECF6",
           "showlakes": true,
           "showland": true,
           "subunitcolor": "white"
          },
          "hoverlabel": {
           "align": "left"
          },
          "hovermode": "closest",
          "mapbox": {
           "style": "light"
          },
          "paper_bgcolor": "white",
          "plot_bgcolor": "#E5ECF6",
          "polar": {
           "angularaxis": {
            "gridcolor": "white",
            "linecolor": "white",
            "ticks": ""
           },
           "bgcolor": "#E5ECF6",
           "radialaxis": {
            "gridcolor": "white",
            "linecolor": "white",
            "ticks": ""
           }
          },
          "scene": {
           "xaxis": {
            "backgroundcolor": "#E5ECF6",
            "gridcolor": "white",
            "gridwidth": 2,
            "linecolor": "white",
            "showbackground": true,
            "ticks": "",
            "zerolinecolor": "white"
           },
           "yaxis": {
            "backgroundcolor": "#E5ECF6",
            "gridcolor": "white",
            "gridwidth": 2,
            "linecolor": "white",
            "showbackground": true,
            "ticks": "",
            "zerolinecolor": "white"
           },
           "zaxis": {
            "backgroundcolor": "#E5ECF6",
            "gridcolor": "white",
            "gridwidth": 2,
            "linecolor": "white",
            "showbackground": true,
            "ticks": "",
            "zerolinecolor": "white"
           }
          },
          "shapedefaults": {
           "line": {
            "color": "#2a3f5f"
           }
          },
          "ternary": {
           "aaxis": {
            "gridcolor": "white",
            "linecolor": "white",
            "ticks": ""
           },
           "baxis": {
            "gridcolor": "white",
            "linecolor": "white",
            "ticks": ""
           },
           "bgcolor": "#E5ECF6",
           "caxis": {
            "gridcolor": "white",
            "linecolor": "white",
            "ticks": ""
           }
          },
          "title": {
           "x": 0.05
          },
          "xaxis": {
           "automargin": true,
           "gridcolor": "white",
           "linecolor": "white",
           "ticks": "",
           "title": {
            "standoff": 15
           },
           "zerolinecolor": "white",
           "zerolinewidth": 2
          },
          "yaxis": {
           "automargin": true,
           "gridcolor": "white",
           "linecolor": "white",
           "ticks": "",
           "title": {
            "standoff": 15
           },
           "zerolinecolor": "white",
           "zerolinewidth": 2
          }
         }
        }
       }
      },
      "text/html": [
       "<div>\n",
       "        \n",
       "        \n",
       "            <div id=\"48c2b03e-d5c1-4e5b-aa5b-c9ce971dbf06\" class=\"plotly-graph-div\" style=\"height:525px; width:100%;\"></div>\n",
       "            <script type=\"text/javascript\">\n",
       "                require([\"plotly\"], function(Plotly) {\n",
       "                    window.PLOTLYENV=window.PLOTLYENV || {};\n",
       "                    \n",
       "                if (document.getElementById(\"48c2b03e-d5c1-4e5b-aa5b-c9ce971dbf06\")) {\n",
       "                    Plotly.newPlot(\n",
       "                        '48c2b03e-d5c1-4e5b-aa5b-c9ce971dbf06',\n",
       "                        [{\"mode\": \"markers\", \"name\": \"0\", \"type\": \"scatter\", \"x\": [-2.699474381690141, -3.5499170390325494, -2.8446030917247964, -3.621943304579084, -3.474179812425632, -3.5638630895728065, -3.4552654565651792, -2.903861275717201, -3.9863783811165767, -3.391447796697177, -2.193317890575037, -4.044204570268725, -2.544504802239598, -3.9882872909503124, -3.3426031256601356, -1.6589717829310247, -3.5849327345635214, -3.60734096383789, -3.634508625786644, -3.45879857390801, -3.0907960023900296, -2.9685092125877257, -3.9985437669888384, -2.6411784604257127, -3.1293931120299203, -4.201591116799376, -3.3045495585368925, -4.288426936557333, -3.0401689691652463, -3.83004797092242, -4.149528261636942, -3.5417848171807154, -3.2536079843015266, -2.5473885563602314, -3.298336873745193, -3.513551286566988, -3.9916977858694107, -3.134458324597791, -3.337901225437388, -2.362027965006113], \"y\": [-0.7409453943956963, 0.2298536389493047, 0.0976180062273746, -2.6241426070010982, -1.0677796813545894, 0.21537392985874892, 1.0673986539233151, -0.5725050173283502, 0.16181059282404692, -0.7043786789928519, 0.198037029105513, -0.006396056560078957, -0.07342801891037731, 0.35077259456469323, 0.6998582705597717, 0.9305189688851296, -0.5128775367100513, -0.9105395510564211, -0.7637459601449378, -1.641834438413403, -1.5335915194544492, 0.08667110586566786, 0.8104570051767535, -0.16812903780922045, 0.36708638519737957, 0.007840882986395088, -1.1557848694664261, -0.46346236339570007, -0.6187910692959944, 1.2960512560197182, -0.6546859952294379, 0.7289221329145773, -0.3405044328647484, -0.6122640563111377, -0.37606279585568214, -1.440113037888556, -1.0639195535731876, 0.5369334882207303, -1.1959537635580586, -0.27329502599713384]}, {\"mode\": \"markers\", \"name\": \"1\", \"type\": \"scatter\", \"x\": [2.568133644367306, 2.126109333018622, 2.9698753829497804, 3.231458790469583, 2.689680821329472, 3.2303123530835736, 2.931268123869177, 2.004449177714682, 3.160137542942751, 1.6283236364663665, 2.8280778024182274, 2.334613559992755, 1.8371807724074047, 2.3136229446493797, 3.354746592612099, 1.5473210417040406, 2.4202147860244616, 2.161540375379637, 1.2157338693812119, 2.11013146255265, 2.3504742926499853, 2.2614115387692006, 2.5173844908361183, 2.5572142216223077, 1.5586352956050848, 3.7001021512333296, 2.3476672945791575, 1.6182430202058555, 3.1927259356395763, 0.5374367029997682, 2.236536586756506, 3.0735037817358046, 2.9841707670302267, 1.785465724238149, 1.4348896365444963, 1.043539183435878, 2.116454192346638, 3.1292293644850995, 2.002662229958236, 2.8566042358944626, 4.508365359233121, 4.090075355265978], \"y\": [-0.9410103483248938, -1.1518755487648242, -0.8679067398599747, -0.7974961311073915, -1.860428742222586, -1.5178515973558697, -1.9541573084431818, -0.5161043659337105, -1.534027358591078, -1.7083327426287922, -0.2045045907060094, -0.6936569742770478, 0.4670124030397172, -0.04962098850001406, -0.042108663650051, -1.2076406295708613, -3.3820125689667955, 0.5842085089615074, -2.133519531576658, -0.06441640900684087, -0.8519422424569405, -1.9069235431168259, -0.7593854321280872, -0.7423138811779212, -2.752676629732153, -1.1089902242008376, -1.5509007668864074, -0.6470300117524507, -1.9101931110667527, -0.8440709313670101, -1.6421735620524867, -0.21149764102714258, -2.8941189664008227, -0.9388384897989416, -0.5412251952923235, -0.9018083887256249, -0.9050255792353293, -1.554847836678625, -1.2912673870516453, -1.4532513711945134, -1.548070241446793, -0.7324400390172365]}, {\"mode\": \"markers\", \"name\": \"2\", \"type\": \"scatter\", \"x\": [1.9802307861254236, 1.2745967680815875, 1.193850502840356, 0.7176699581294438, 0.6499686696459873, 2.1849059428487334, 0.3817947535083183, 0.33393267629731244, 2.210222480296394, 1.602341655498638, 1.392148805102056, 2.502651873653776, 1.3804181979196475, 1.7411368798104208, -0.5114231582126469, 1.3979908551340077, 0.9385530511441679, 0.8793532475208545, 1.7965989307447623, 0.5890446966074265], \"y\": [3.900429368318278, 4.643434212253207, 2.2001906236953803, 3.1685141973318682, 3.3493427832273643, 3.083312721435848, 4.161420927273091, 3.198189693848266, 3.7183321651356382, 2.816976482931129, 4.292624062814842, 3.3424602370682113, 0.8148236290262147, 2.7356935665968876, 1.9110470410586438, 3.1072572995032144, 4.579918662781982, 2.3818839746329528, 3.071852895821908, 0.8028808842403992]}, {\"mode\": \"markers\", \"name\": \"3\", \"type\": \"scatter\", \"x\": [0.9272792787586579, -0.31643747445841963, -4.014922433280905, -0.24533109587611723, -2.716140715323226, 0.8267140954523936, 1.7138789435321138, 0.8264912978880503, -0.14924745872954634, -2.780898193819742, 2.2012609273023136, -3.8753409024042633, -0.5016776993587214, 3.3622900740963497, 3.7123466775505363, 0.8398458198026253, 2.975498351127948, 1.545500754188616, 2.771964556594142, 0.48616122419648644, 2.1817205025457627, -2.794427648720974, 2.5613684785485575, -3.301636919675784, 2.602636688742861, -3.303795101848827, -2.4787161795391457, 2.91379538256127], \"y\": [0.7525193245393433, 0.052510040689876, -1.1458667982669473, 2.1019879641769137, -0.710203553311286, 5.334747625799379, 0.7137630782225878, 0.37607541191496646, 0.8930304038161347, -0.7697843640517065, -1.6996971562009262, -1.6432656309489395, -0.5051141390867072, -1.8983366487023121, 0.0375974936164029, 4.352033651016817, -0.048658824527675205, -0.6717916536202071, -0.361143056048605, 0.9622270000371658, -1.465126523920925, 0.3770622879391613, -2.5745207863963278, -0.18360659640877244, -1.8004293570047527, -0.4594440752047993, -0.8216854568938218, -1.481096770588644]}, {\"marker\": {\"color\": \"LightSkyBlue\", \"line\": {\"color\": \"red\", \"width\": 7}, \"size\": 20}, \"mode\": \"markers\", \"showlegend\": false, \"type\": \"scatter\", \"x\": [1.6182430202058555], \"y\": [-0.6470300117524507]}],\n",
       "                        {\"template\": {\"data\": {\"bar\": [{\"error_x\": {\"color\": \"#2a3f5f\"}, \"error_y\": {\"color\": \"#2a3f5f\"}, \"marker\": {\"line\": {\"color\": \"#E5ECF6\", \"width\": 0.5}}, \"type\": \"bar\"}], \"barpolar\": [{\"marker\": {\"line\": {\"color\": \"#E5ECF6\", \"width\": 0.5}}, \"type\": \"barpolar\"}], \"carpet\": [{\"aaxis\": {\"endlinecolor\": \"#2a3f5f\", \"gridcolor\": \"white\", \"linecolor\": \"white\", \"minorgridcolor\": \"white\", \"startlinecolor\": \"#2a3f5f\"}, \"baxis\": {\"endlinecolor\": \"#2a3f5f\", \"gridcolor\": \"white\", \"linecolor\": \"white\", \"minorgridcolor\": \"white\", \"startlinecolor\": \"#2a3f5f\"}, \"type\": \"carpet\"}], \"choropleth\": [{\"colorbar\": {\"outlinewidth\": 0, \"ticks\": \"\"}, \"type\": \"choropleth\"}], \"contour\": [{\"colorbar\": {\"outlinewidth\": 0, \"ticks\": \"\"}, \"colorscale\": [[0.0, \"#0d0887\"], [0.1111111111111111, \"#46039f\"], [0.2222222222222222, \"#7201a8\"], [0.3333333333333333, \"#9c179e\"], [0.4444444444444444, \"#bd3786\"], [0.5555555555555556, \"#d8576b\"], [0.6666666666666666, \"#ed7953\"], [0.7777777777777778, \"#fb9f3a\"], [0.8888888888888888, \"#fdca26\"], [1.0, \"#f0f921\"]], \"type\": \"contour\"}], \"contourcarpet\": [{\"colorbar\": {\"outlinewidth\": 0, \"ticks\": \"\"}, \"type\": \"contourcarpet\"}], \"heatmap\": [{\"colorbar\": {\"outlinewidth\": 0, \"ticks\": \"\"}, \"colorscale\": [[0.0, \"#0d0887\"], [0.1111111111111111, \"#46039f\"], [0.2222222222222222, \"#7201a8\"], [0.3333333333333333, \"#9c179e\"], [0.4444444444444444, \"#bd3786\"], [0.5555555555555556, \"#d8576b\"], [0.6666666666666666, \"#ed7953\"], [0.7777777777777778, \"#fb9f3a\"], [0.8888888888888888, \"#fdca26\"], [1.0, \"#f0f921\"]], \"type\": \"heatmap\"}], \"heatmapgl\": [{\"colorbar\": {\"outlinewidth\": 0, \"ticks\": \"\"}, \"colorscale\": [[0.0, \"#0d0887\"], [0.1111111111111111, \"#46039f\"], [0.2222222222222222, \"#7201a8\"], [0.3333333333333333, \"#9c179e\"], [0.4444444444444444, \"#bd3786\"], [0.5555555555555556, \"#d8576b\"], [0.6666666666666666, \"#ed7953\"], [0.7777777777777778, \"#fb9f3a\"], [0.8888888888888888, \"#fdca26\"], [1.0, \"#f0f921\"]], \"type\": \"heatmapgl\"}], \"histogram\": [{\"marker\": {\"colorbar\": {\"outlinewidth\": 0, \"ticks\": \"\"}}, \"type\": \"histogram\"}], \"histogram2d\": [{\"colorbar\": {\"outlinewidth\": 0, \"ticks\": \"\"}, \"colorscale\": [[0.0, \"#0d0887\"], [0.1111111111111111, \"#46039f\"], [0.2222222222222222, \"#7201a8\"], [0.3333333333333333, \"#9c179e\"], [0.4444444444444444, \"#bd3786\"], [0.5555555555555556, \"#d8576b\"], [0.6666666666666666, \"#ed7953\"], [0.7777777777777778, \"#fb9f3a\"], [0.8888888888888888, \"#fdca26\"], [1.0, \"#f0f921\"]], \"type\": \"histogram2d\"}], \"histogram2dcontour\": [{\"colorbar\": {\"outlinewidth\": 0, \"ticks\": \"\"}, \"colorscale\": [[0.0, \"#0d0887\"], [0.1111111111111111, \"#46039f\"], [0.2222222222222222, \"#7201a8\"], [0.3333333333333333, \"#9c179e\"], [0.4444444444444444, \"#bd3786\"], [0.5555555555555556, \"#d8576b\"], [0.6666666666666666, \"#ed7953\"], [0.7777777777777778, \"#fb9f3a\"], [0.8888888888888888, \"#fdca26\"], [1.0, \"#f0f921\"]], \"type\": \"histogram2dcontour\"}], \"mesh3d\": [{\"colorbar\": {\"outlinewidth\": 0, \"ticks\": \"\"}, \"type\": \"mesh3d\"}], \"parcoords\": [{\"line\": {\"colorbar\": {\"outlinewidth\": 0, \"ticks\": \"\"}}, \"type\": \"parcoords\"}], \"pie\": [{\"automargin\": true, \"type\": \"pie\"}], \"scatter\": [{\"marker\": {\"colorbar\": {\"outlinewidth\": 0, \"ticks\": \"\"}}, \"type\": \"scatter\"}], \"scatter3d\": [{\"line\": {\"colorbar\": {\"outlinewidth\": 0, \"ticks\": \"\"}}, \"marker\": {\"colorbar\": {\"outlinewidth\": 0, \"ticks\": \"\"}}, \"type\": \"scatter3d\"}], \"scattercarpet\": [{\"marker\": {\"colorbar\": {\"outlinewidth\": 0, \"ticks\": \"\"}}, \"type\": \"scattercarpet\"}], \"scattergeo\": [{\"marker\": {\"colorbar\": {\"outlinewidth\": 0, \"ticks\": \"\"}}, \"type\": \"scattergeo\"}], \"scattergl\": [{\"marker\": {\"colorbar\": {\"outlinewidth\": 0, \"ticks\": \"\"}}, \"type\": \"scattergl\"}], \"scattermapbox\": [{\"marker\": {\"colorbar\": {\"outlinewidth\": 0, \"ticks\": \"\"}}, \"type\": \"scattermapbox\"}], \"scatterpolar\": [{\"marker\": {\"colorbar\": {\"outlinewidth\": 0, \"ticks\": \"\"}}, \"type\": \"scatterpolar\"}], \"scatterpolargl\": [{\"marker\": {\"colorbar\": {\"outlinewidth\": 0, \"ticks\": \"\"}}, \"type\": \"scatterpolargl\"}], \"scatterternary\": [{\"marker\": {\"colorbar\": {\"outlinewidth\": 0, \"ticks\": \"\"}}, \"type\": \"scatterternary\"}], \"surface\": [{\"colorbar\": {\"outlinewidth\": 0, \"ticks\": \"\"}, \"colorscale\": [[0.0, \"#0d0887\"], [0.1111111111111111, \"#46039f\"], [0.2222222222222222, \"#7201a8\"], [0.3333333333333333, \"#9c179e\"], [0.4444444444444444, \"#bd3786\"], [0.5555555555555556, \"#d8576b\"], [0.6666666666666666, \"#ed7953\"], [0.7777777777777778, \"#fb9f3a\"], [0.8888888888888888, \"#fdca26\"], [1.0, \"#f0f921\"]], \"type\": \"surface\"}], \"table\": [{\"cells\": {\"fill\": {\"color\": \"#EBF0F8\"}, \"line\": {\"color\": \"white\"}}, \"header\": {\"fill\": {\"color\": \"#C8D4E3\"}, \"line\": {\"color\": \"white\"}}, \"type\": \"table\"}]}, \"layout\": {\"annotationdefaults\": {\"arrowcolor\": \"#2a3f5f\", \"arrowhead\": 0, \"arrowwidth\": 1}, \"coloraxis\": {\"colorbar\": {\"outlinewidth\": 0, \"ticks\": \"\"}}, \"colorscale\": {\"diverging\": [[0, \"#8e0152\"], [0.1, \"#c51b7d\"], [0.2, \"#de77ae\"], [0.3, \"#f1b6da\"], [0.4, \"#fde0ef\"], [0.5, \"#f7f7f7\"], [0.6, \"#e6f5d0\"], [0.7, \"#b8e186\"], [0.8, \"#7fbc41\"], [0.9, \"#4d9221\"], [1, \"#276419\"]], \"sequential\": [[0.0, \"#0d0887\"], [0.1111111111111111, \"#46039f\"], [0.2222222222222222, \"#7201a8\"], [0.3333333333333333, \"#9c179e\"], [0.4444444444444444, \"#bd3786\"], [0.5555555555555556, \"#d8576b\"], [0.6666666666666666, \"#ed7953\"], [0.7777777777777778, \"#fb9f3a\"], [0.8888888888888888, \"#fdca26\"], [1.0, \"#f0f921\"]], \"sequentialminus\": [[0.0, \"#0d0887\"], [0.1111111111111111, \"#46039f\"], [0.2222222222222222, \"#7201a8\"], [0.3333333333333333, \"#9c179e\"], [0.4444444444444444, \"#bd3786\"], [0.5555555555555556, \"#d8576b\"], [0.6666666666666666, \"#ed7953\"], [0.7777777777777778, \"#fb9f3a\"], [0.8888888888888888, \"#fdca26\"], [1.0, \"#f0f921\"]]}, \"colorway\": [\"#636efa\", \"#EF553B\", \"#00cc96\", \"#ab63fa\", \"#FFA15A\", \"#19d3f3\", \"#FF6692\", \"#B6E880\", \"#FF97FF\", \"#FECB52\"], \"font\": {\"color\": \"#2a3f5f\"}, \"geo\": {\"bgcolor\": \"white\", \"lakecolor\": \"white\", \"landcolor\": \"#E5ECF6\", \"showlakes\": true, \"showland\": true, \"subunitcolor\": \"white\"}, \"hoverlabel\": {\"align\": \"left\"}, \"hovermode\": \"closest\", \"mapbox\": {\"style\": \"light\"}, \"paper_bgcolor\": \"white\", \"plot_bgcolor\": \"#E5ECF6\", \"polar\": {\"angularaxis\": {\"gridcolor\": \"white\", \"linecolor\": \"white\", \"ticks\": \"\"}, \"bgcolor\": \"#E5ECF6\", \"radialaxis\": {\"gridcolor\": \"white\", \"linecolor\": \"white\", \"ticks\": \"\"}}, \"scene\": {\"xaxis\": {\"backgroundcolor\": \"#E5ECF6\", \"gridcolor\": \"white\", \"gridwidth\": 2, \"linecolor\": \"white\", \"showbackground\": true, \"ticks\": \"\", \"zerolinecolor\": \"white\"}, \"yaxis\": {\"backgroundcolor\": \"#E5ECF6\", \"gridcolor\": \"white\", \"gridwidth\": 2, \"linecolor\": \"white\", \"showbackground\": true, \"ticks\": \"\", \"zerolinecolor\": \"white\"}, \"zaxis\": {\"backgroundcolor\": \"#E5ECF6\", \"gridcolor\": \"white\", \"gridwidth\": 2, \"linecolor\": \"white\", \"showbackground\": true, \"ticks\": \"\", \"zerolinecolor\": \"white\"}}, \"shapedefaults\": {\"line\": {\"color\": \"#2a3f5f\"}}, \"ternary\": {\"aaxis\": {\"gridcolor\": \"white\", \"linecolor\": \"white\", \"ticks\": \"\"}, \"baxis\": {\"gridcolor\": \"white\", \"linecolor\": \"white\", \"ticks\": \"\"}, \"bgcolor\": \"#E5ECF6\", \"caxis\": {\"gridcolor\": \"white\", \"linecolor\": \"white\", \"ticks\": \"\"}}, \"title\": {\"x\": 0.05}, \"xaxis\": {\"automargin\": true, \"gridcolor\": \"white\", \"linecolor\": \"white\", \"ticks\": \"\", \"title\": {\"standoff\": 15}, \"zerolinecolor\": \"white\", \"zerolinewidth\": 2}, \"yaxis\": {\"automargin\": true, \"gridcolor\": \"white\", \"linecolor\": \"white\", \"ticks\": \"\", \"title\": {\"standoff\": 15}, \"zerolinecolor\": \"white\", \"zerolinewidth\": 2}}}},\n",
       "                        {\"responsive\": true}\n",
       "                    ).then(function(){\n",
       "                            \n",
       "var gd = document.getElementById('48c2b03e-d5c1-4e5b-aa5b-c9ce971dbf06');\n",
       "var x = new MutationObserver(function (mutations, observer) {{\n",
       "        var display = window.getComputedStyle(gd).display;\n",
       "        if (!display || display === 'none') {{\n",
       "            console.log([gd, 'removed!']);\n",
       "            Plotly.purge(gd);\n",
       "            observer.disconnect();\n",
       "        }}\n",
       "}});\n",
       "\n",
       "// Listen for the removal of the full notebook cells\n",
       "var notebookContainer = gd.closest('#notebook-container');\n",
       "if (notebookContainer) {{\n",
       "    x.observe(notebookContainer, {childList: true});\n",
       "}}\n",
       "\n",
       "// Listen for the clearing of the current output cell\n",
       "var outputEl = gd.closest('.output');\n",
       "if (outputEl) {{\n",
       "    x.observe(outputEl, {childList: true});\n",
       "}}\n",
       "\n",
       "                        })\n",
       "                };\n",
       "                });\n",
       "            </script>\n",
       "        </div>"
      ]
     },
     "metadata": {},
     "output_type": "display_data"
    }
   ],
   "source": [
    "local_l= genotype[:,(nan_pos-int(wind_sizes/2)):(nan_pos+int(wind_sizes/2))]\n",
    "coords= {z:[x for x in range(len(label_vector)) if label_vector[x] == z] for z in list(set(label_vector))}\n",
    "\n",
    "pca2 = PCA(n_components=ncomps, whiten=False,svd_solver='randomized')\n",
    "featl= pca2.fit_transform(local_l)\n",
    "\n",
    "fig= [go.Scatter(\n",
    "    x= featl[coords[i],0],\n",
    "    y= featl[coords[i],1],\n",
    "    mode= 'markers',\n",
    "    name= str(i)\n",
    ") for i in coords.keys()]\n",
    "\n",
    "fig.append(go.Scatter(\n",
    "    mode='markers',\n",
    "    x=[featl[nan_acc,0]],\n",
    "    y=[featl[nan_acc,1]],\n",
    "    marker=dict(\n",
    "        color='LightSkyBlue',\n",
    "        size=20,\n",
    "        line=dict(\n",
    "            color='red',\n",
    "            width=7\n",
    "        )\n",
    "    ),\n",
    "    showlegend=False\n",
    "))\n",
    "\n",
    "layout= go.Layout()\n",
    "\n",
    "Figure= go.Figure(data= fig, layout= layout)\n",
    "\n",
    "iplot(Figure)"
   ]
  },
  {
   "cell_type": "markdown",
   "metadata": {},
   "source": [
    "### Distance regression"
   ]
  },
  {
   "cell_type": "raw",
   "metadata": {},
   "source": [
    "from sklearn.linear_model import LinearRegression\n"
   ]
  },
  {
   "cell_type": "markdown",
   "metadata": {},
   "source": [
    "### Grid approach"
   ]
  },
  {
   "cell_type": "code",
   "execution_count": 147,
   "metadata": {},
   "outputs": [
    {
     "data": {
      "text/plain": [
       "(400, 2)"
      ]
     },
     "execution_count": 147,
     "metadata": {},
     "output_type": "execute_result"
    }
   ],
   "source": [
    "Quanted_set= np.array(featl)\n",
    "P= 20\n",
    "dimN= 2\n",
    "\n",
    "to_mesh= [np.linspace(min(Quanted_set[:,x]),max(Quanted_set[:,x]),P) for x in range(dimN)]\n",
    "\n",
    "coords_net = np.meshgrid(*to_mesh, indexing= 'ij')\n",
    "\n",
    "pprod= [list(range(P)) for y in range(dimN)]\n",
    "traces= [x for x in it.product(*pprod)]\n",
    "\n",
    "background= np.array(coords_net)\n",
    "\n",
    "background= background.reshape(dimN,np.prod(background.shape[1:])).T\n",
    "background.shape"
   ]
  },
  {
   "cell_type": "code",
   "execution_count": 148,
   "metadata": {},
   "outputs": [],
   "source": [
    "# subselect by variance in distances:\n",
    "\n",
    "## perform MeanShift clustering.\n",
    "bandwidth = estimate_bandwidth(featl, quantile=0.2)\n",
    "#bandwidth = estimate_bandwidth(dist_var.reshape(-1,1), quantile=0.2)\n",
    "\n",
    "ms = MeanShift(bandwidth=bandwidth, bin_seeding=False, cluster_all=False, min_bin_freq=35)\n",
    "featlt= pca2.fit_transform(local_l[other_obs])\n",
    "ms.fit(featlt) #(dist_var.reshape(-1,1))\n",
    "labels_std = ms.labels_\n",
    "std_select = {y:[x for x in range(len(labels_std)) if labels_std[x] == y] for y in sorted(list(set(labels_std)))}\n",
    "std_select.keys()\n",
    "\n",
    "std_gpmeans= {z: np.mean([dist_var[x] for x in g]) for z,g in std_select.items() if z != -1}\n",
    "\n",
    "std_gp_use= sorted(std_gpmeans,key= std_gpmeans.get)\n",
    "d= 0\n",
    "idx = 0\n",
    "while d != 1:\n",
    "    g=std_select[std_gp_use[idx]] \n",
    "    \n",
    "    if len(g) >= 15:\n",
    "        std_gp_use= list(g)\n",
    "        d= 1\n",
    "        \n",
    "    idx+= 1\n",
    "#std_gp_use= std_select[std_gp_use]\n",
    "\n",
    "#std_gp_use= [other_obs[x] for x in std_gp_use]\n",
    "#std_gp_use= list(range(len(labels_std)))\n"
   ]
  },
  {
   "cell_type": "code",
   "execution_count": 149,
   "metadata": {},
   "outputs": [
    {
     "data": {
      "text/plain": [
       "(400, 49)"
      ]
     },
     "execution_count": 149,
     "metadata": {},
     "output_type": "execute_result"
    }
   ],
   "source": [
    "workfeat= featl[std_gp_use,:dimN]\n",
    "\n",
    "dist_grid= pairwise_distances(background, workfeat,\n",
    "                                            metric=metric)\n",
    "\n",
    "dist_grid.shape"
   ]
  },
  {
   "cell_type": "code",
   "execution_count": 150,
   "metadata": {},
   "outputs": [],
   "source": [
    "from sklearn.neighbors import KernelDensity\n",
    "from sklearn.decomposition import PCA\n",
    "from sklearn.model_selection import GridSearchCV\n",
    "\n",
    "dist_ref_select= 0\n",
    "\n",
    "dist_comps= 10\n",
    "Bandwidth_split = 30\n",
    "\n",
    "####\n",
    "####\n",
    "dist_ref= dist_store[labelf_select[dist_ref_select],:]\n",
    "dist_ref= dist_ref[:,std_gp_use]\n",
    "pca2 = PCA(n_components=dist_comps, whiten=False,svd_solver='randomized')\n",
    "\n",
    "pca_dists= pca2.fit(dist_grid)\n",
    "featw= pca_dists.transform(dist_grid)\n",
    "featref= pca2.transform(dist_ref)\n",
    "\n",
    "params = {'bandwidth': np.linspace(np.min(featref), np.max(featref),Bandwidth_split)}\n",
    "grid = GridSearchCV(KernelDensity(algorithm = \"ball_tree\",breadth_first = False), params,verbose=0,cv= 3,iid= False)\n",
    "\n",
    "grid.fit(featref)\n",
    "kde = grid.best_estimator_\n",
    "\n",
    "grid_likes= kde.score_samples(featw)\n",
    "grid_likes= np.exp(grid_likes)\n"
   ]
  },
  {
   "cell_type": "code",
   "execution_count": 151,
   "metadata": {},
   "outputs": [
    {
     "name": "stderr",
     "output_type": "stream",
     "text": [
      "c:\\users\\floyd\\appdata\\local\\programs\\python\\python37-32\\lib\\site-packages\\plotly\\graph_objs\\_deprecations.py:180: DeprecationWarning:\n",
      "\n",
      "plotly.graph_objs.ColorBar is deprecated.\n",
      "Please replace it with one of the following more specific types\n",
      "  - plotly.graph_objs.scatter.marker.ColorBar\n",
      "  - plotly.graph_objs.surface.ColorBar\n",
      "  - etc.\n",
      "\n",
      "\n"
     ]
    },
    {
     "data": {
      "application/vnd.plotly.v1+json": {
       "config": {
        "linkText": "Export to plot.ly",
        "plotlyServerURL": "https://plot.ly",
        "showLink": false
       },
       "data": [
        {
         "marker": {
          "color": [
           1.034224581247772e-124,
           6.646588187723981e-118,
           1.2394709543763421e-108,
           3.1008318297178877e-106,
           4.2574857982810336e-106,
           3.5566060636409588e-102,
           5.176850733910625e-105,
           2.0448131344193678e-106,
           4.2529622464631335e-109,
           1.272483028340018e-108,
           1.93534416928523e-118,
           3.6344288691005036e-125,
           2.033514059210646e-127,
           1.0586497022526896e-136,
           5.347797741252484e-153,
           3.642431912504976e-165,
           6.948176035643681e-174,
           8.410723336813485e-195,
           2.039861804873892e-215,
           3.5198955336827876e-235,
           3.9628748710216745e-103,
           7.004472673836957e-98,
           2.0585378969010594e-94,
           1.047022116399307e-90,
           2.1604880213040503e-86,
           3.8162453913056994e-85,
           1.7348482753462254e-87,
           6.772780280433403e-89,
           1.464500042434443e-88,
           3.774675285704544e-92,
           1.262387913469127e-96,
           6.240673632790578e-107,
           6.482202205460643e-111,
           8.662940352400887e-121,
           9.7204576809354e-135,
           2.3241381218297318e-142,
           5.204403575011385e-155,
           3.841825879840894e-176,
           2.4960384944347655e-187,
           2.655887493728328e-206,
           5.526001826911244e-88,
           4.756918521650323e-83,
           2.7441469270881395e-77,
           2.1678750615232445e-74,
           1.4308866625431973e-72,
           1.1168334364449078e-71,
           5.493107058296183e-72,
           1.1419605324738596e-72,
           2.5095146575832636e-75,
           9.13791145402149e-78,
           2.600992415259703e-84,
           3.134235683869945e-88,
           1.8750046268624866e-95,
           9.350237127067102e-104,
           5.958529980845631e-114,
           6.180387199085104e-130,
           9.547981493419633e-139,
           3.1425762007478254e-153,
           4.707469618093881e-177,
           4.223337671359539e-188,
           1.822521130529517e-74,
           1.8169438017813272e-68,
           7.255348325235815e-64,
           1.2975356159426436e-60,
           1.0792699133328779e-58,
           5.783640680015467e-58,
           2.5984259968850148e-58,
           1.6270172628546566e-59,
           4.7498859860613174e-62,
           3.077680569265919e-65,
           4.7744734724105336e-70,
           4.9248385432846585e-76,
           3.2237865950854133e-81,
           1.0717596531079344e-89,
           1.972636323602974e-102,
           4.444405326175041e-111,
           7.520246835219369e-124,
           5.481025725917641e-143,
           1.465585940651314e-154,
           1.5857555251734834e-177,
           1.855291853724129e-61,
           1.0050249913319328e-55,
           1.99205900166841e-51,
           1.8922898112941203e-48,
           1.1048545125772299e-46,
           4.541318171758246e-46,
           2.064738622493579e-46,
           1.3472108100478918e-47,
           7.945991963843548e-50,
           4.164828990072613e-53,
           1.5204965345362822e-57,
           2.952904477176814e-63,
           3.673612763633669e-70,
           3.7141443190041e-78,
           8.875795081084858e-89,
           1.064394035958241e-98,
           8.196046633999732e-114,
           6.193897528139355e-129,
           7.695112849518535e-146,
           1.347049796960617e-158,
           3.219281929527592e-50,
           8.770534595675825e-45,
           9.121570478243525e-41,
           4.894158736619451e-38,
           1.9107033106664054e-36,
           7.307653688239415e-36,
           3.6182094127423026e-36,
           2.4964555591582085e-37,
           1.977089562818103e-39,
           1.5236022445770426e-42,
           9.289487394725354e-47,
           3.605771115614492e-52,
           7.227774052356983e-59,
           9.176832712673314e-67,
           7.89853144831645e-77,
           3.1434468233066074e-88,
           2.4852088557961726e-101,
           5.1943611649612755e-113,
           1.611547174653602e-128,
           4.838962371624643e-150,
           9.834939968202373e-41,
           1.2997507511215464e-35,
           6.912815489741736e-32,
           2.0394595585450922e-29,
           4.95130600324373e-28,
           1.4775418319258898e-27,
           7.102905650093439e-28,
           5.833018346239088e-29,
           7.036361161727424e-31,
           9.857894273035754e-34,
           1.2408581546407926e-37,
           1.0189738225892283e-42,
           3.827454328205593e-49,
           4.930230860637805e-57,
           1.798342160863645e-66,
           3.3991909446219895e-77,
           1.474784098776325e-89,
           5.520368054021142e-103,
           4.189425668827185e-118,
           1.4101537795528871e-139,
           5.871039084353575e-33,
           3.5476713634051043e-28,
           9.111386254472843e-25,
           1.4054151835704337e-22,
           1.9691125177363194e-21,
           3.9933431508575386e-21,
           1.7602930984085454e-21,
           2.041410480583556e-22,
           4.80194163219488e-24,
           1.499781431587739e-26,
           4.215798958849342e-30,
           7.206066644720711e-35,
           5.234616812964629e-41,
           1.2121321633479387e-48,
           7.20244588873025e-58,
           9.371166569558374e-69,
           2.3984037259578497e-81,
           1.1069432070727553e-95,
           8.43864423099642e-112,
           8.827330155316674e-130,
           7.900841845146599e-27,
           2.0227261669283287e-22,
           2.309708371033199e-19,
           1.7487494000277924e-17,
           1.3963141117337472e-16,
           2.0122006208814914e-16,
           8.436154733555806e-17,
           1.7288147511125096e-17,
           8.959115512186487e-19,
           6.248568285084959e-21,
           3.837171720803478e-24,
           1.3753477374642074e-28,
           1.990423121577739e-34,
           8.707076643899216e-42,
           9.333623472481406e-51,
           2.174299194167286e-61,
           9.34773154276394e-74,
           7.44909189063798e-88,
           1.6203123313950032e-101,
           7.116037294057572e-118,
           3.028632245775979e-22,
           3.1159431540163884e-18,
           1.5226548169510009e-15,
           5.852054398419524e-14,
           3.1127590259256844e-13,
           4.008373901219963e-13,
           2.0111955214473097e-13,
           5.352817816916529e-14,
           4.880690302052804e-15,
           7.287013637861691e-17,
           1.0248997763841886e-19,
           8.298468029452842e-24,
           2.5080664454284646e-29,
           2.0977598078010276e-36,
           3.975455639597763e-45,
           1.502023337966982e-55,
           1.0648919176516422e-67,
           1.4146690695069345e-81,
           3.344558590731596e-97,
           1.1446587265675057e-114,
           5.380195976012723e-19,
           2.4942750752002315e-15,
           6.357580357634138e-13,
           1.562569305674632e-11,
           6.398702943343361e-11,
           7.250141338422156e-11,
           3.7845392690506645e-11,
           1.0073633954312798e-11,
           1.060094854010689e-12,
           2.978818468397998e-14,
           1.0376313499820592e-16,
           2.0889962552290738e-20,
           1.3523732349080925e-25,
           2.131687938855642e-32,
           6.868795384672589e-41,
           4.0439827783080936e-51,
           4.133753824313761e-63,
           8.320811749276032e-77,
           2.554527072904306e-90,
           2.2429204946326495e-109,
           1.054021182383426e-16,
           2.7250209678044963e-13,
           3.816420677920018e-11,
           4.957470917005733e-10,
           1.2261678419483878e-09,
           9.798672975444943e-10,
           4.956608359696253e-10,
           1.6938026990546978e-10,
           2.1114008203532852e-11,
           8.485225867961029e-13,
           6.854451065244372e-15,
           3.2302195499583667e-18,
           4.2684192341256324e-23,
           1.19003842401635e-29,
           6.140470837044567e-38,
           5.4357628149848084e-48,
           7.545605307266228e-60,
           1.7907043885965853e-73,
           1.7245198216244839e-88,
           2.8313284930181675e-102,
           3.4369357517934076e-15,
           5.195123619459836e-12,
           3.9035153844677503e-10,
           2.6600535473993715e-09,
           4.4017752121679465e-09,
           2.3792046674760066e-09,
           8.424482606002704e-10,
           3.2262895167793135e-10,
           6.296464798888827e-11,
           3.5210659320230915e-12,
           4.811551026320933e-14,
           4.636876709956862e-17,
           1.1051069579381333e-21,
           4.765378663271376e-28,
           3.526583312521879e-36,
           4.6557594905474805e-46,
           1.1031484638990836e-57,
           5.152892069204751e-71,
           5.210766870020565e-86,
           8.561133286453035e-103,
           1.7030119763291527e-14,
           1.8550079398642045e-11,
           1.0027059856145277e-09,
           5.174452138357927e-09,
           6.361995010661016e-09,
           2.767246155068968e-09,
           8.99990863444471e-10,
           3.1507992285945493e-10,
           5.073693641178775e-11,
           3.789743998667335e-12,
           6.60302700624713e-14,
           9.605866710794724e-17,
           3.320991364613923e-21,
           1.7727202154885092e-27,
           1.4992489472826566e-35,
           2.6192547907664625e-45,
           1.333353561163522e-56,
           7.823638629193461e-70,
           9.086905885371022e-85,
           1.1820584014419599e-101,
           1.3969408049833947e-14,
           1.3888579416048975e-11,
           7.160435811751258e-10,
           3.76115407571809e-09,
           4.319316042343546e-09,
           1.6742819660752092e-09,
           6.591171380888575e-10,
           2.450287144909386e-10,
           3.69451675924806e-11,
           2.005883059793096e-12,
           3.183707012105005e-14,
           4.392275894798205e-17,
           1.615665775097372e-21,
           8.24441614821054e-28,
           5.5065727282220724e-36,
           9.538738958496586e-46,
           6.401264751384892e-57,
           7.572610118562745e-69,
           7.833523589814692e-85,
           3.5771122376119456e-101,
           2.8564585570740582e-15,
           2.541777542170285e-12,
           1.472058445637705e-10,
           8.215041709392356e-10,
           1.2207245867131404e-09,
           6.752850817923256e-10,
           3.2249438221524434e-10,
           1.2961811675540244e-10,
           2.0948592433749804e-11,
           7.900104465808287e-13,
           6.1082029892648175e-15,
           5.316082601805894e-18,
           1.5583403079556949e-22,
           6.709484448877006e-29,
           3.5708186242554587e-37,
           5.088201775030907e-47,
           3.764023451518306e-58,
           3.5524091627224375e-71,
           3.7254465207116106e-86,
           1.2760389817986197e-102,
           1.4901094599370726e-16,
           1.4385746108047873e-13,
           1.1286371504338712e-11,
           7.108980170237411e-11,
           1.1424620744521109e-10,
           1.3324020656631421e-10,
           8.874922836646271e-11,
           2.883938656680367e-11,
           4.981680966722042e-12,
           1.3787494953590233e-13,
           3.8891387210773826e-16,
           1.486962645461956e-19,
           2.741809625062433e-24,
           9.269610493630052e-31,
           5.192581664050192e-39,
           6.746155895218209e-49,
           2.2964241752932905e-60,
           1.3760862781550393e-73,
           2.605287315544589e-85,
           7.071973639054312e-106,
           1.2450313584513274e-18,
           2.429054275736116e-15,
           3.2306965756650814e-13,
           4.680965460824135e-12,
           1.338572315248198e-11,
           1.6064285451060957e-11,
           1.2616740214520029e-11,
           4.319080996097801e-12,
           4.445218143179825e-13,
           5.688845846295422e-15,
           5.8943507951506994e-18,
           7.390715676467032e-22,
           6.3631803094384655e-27,
           1.3532926166953927e-33,
           5.641244714428703e-42,
           1.1435667754222537e-51,
           8.68022976797767e-64,
           2.5971365524168073e-77,
           1.053620100617839e-92,
           4.999532437936166e-110,
           9.436347613344083e-22,
           5.45169500892462e-18,
           1.674893399341877e-15,
           5.670900992928128e-14,
           3.5646752603831345e-13,
           5.937854321008715e-13,
           3.8503308741741103e-13,
           1.0295726496539241e-13,
           4.97590041818587e-15,
           2.812916547765883e-17,
           1.368008494354787e-20,
           5.152982899437856e-25,
           1.3750411650268064e-30,
           1.3950477587507676e-37,
           3.2014940151417125e-46,
           1.5416786101680415e-56,
           1.5038175450036474e-68,
           5.823960122484455e-82,
           7.393149496904491e-97,
           1.6789069083534526e-113,
           3.7253107579561055e-26,
           7.552029506681106e-22,
           7.374952161822112e-19,
           5.907928184211563e-17,
           6.677614404026034e-16,
           1.5768014614432426e-15,
           9.852294385794032e-16,
           1.5640121710381267e-16,
           4.132873389424577e-18,
           1.2187694122571366e-20,
           2.669153886070393e-24,
           3.204109811138262e-29,
           2.1471032989586897e-35,
           7.188541878240812e-43,
           7.63897346504198e-52,
           1.790241715168988e-62,
           1.5003799768427763e-74,
           6.0758226896990186e-89,
           3.7400057238118034e-103,
           9.848979333924728e-123
          ],
          "colorbar": {
           "title": {
            "text": "ColorBar"
           }
          },
          "colorscale": [
           [
            0,
            "#440154"
           ],
           [
            0.1111111111111111,
            "#482878"
           ],
           [
            0.2222222222222222,
            "#3e4989"
           ],
           [
            0.3333333333333333,
            "#31688e"
           ],
           [
            0.4444444444444444,
            "#26828e"
           ],
           [
            0.5555555555555556,
            "#1f9e89"
           ],
           [
            0.6666666666666666,
            "#35b779"
           ],
           [
            0.7777777777777778,
            "#6ece58"
           ],
           [
            0.8888888888888888,
            "#b5de2b"
           ],
           [
            1,
            "#fde725"
           ]
          ],
          "line": {
           "width": 0
          },
          "opacity": 1,
          "size": 15,
          "symbol": "circle"
         },
         "mode": "markers",
         "type": "scatter3d",
         "x": [
          -21.96160430861492,
          -20.000414669753514,
          -17.33775806586183,
          -20.963227131839247,
          -19.858320947148236,
          -19.323517559552275,
          -19.76857151250607,
          -21.178453853922946,
          -18.701890080826907,
          -19.432130153259163,
          -21.01459275139441,
          -20.646837777236655,
          -16.98178609879417,
          -17.91691649654814,
          -18.464000552912154,
          -18.9419566517716,
          -17.15554563589548,
          -20.358397177866483,
          -18.844072178984387,
          -18.89282280483571,
          -21.87174709059067,
          -17.29987250188928,
          -21.188481929015502,
          -18.3950134585058,
          -17.279864482666976,
          -21.252547467562028,
          -20.147115886522457,
          -22.543449780306194,
          -17.440607574112143,
          -20.210003718979678,
          -18.59894136159035,
          -15.836151623866856,
          -19.513688386397323,
          -21.036750633857636,
          -18.461833780748073,
          -18.5038489203133,
          -20.984503015179126,
          -17.202363948294845,
          -21.254346878221412,
          -21.553745893583567,
          -17.95299912826944,
          -21.703373041535375,
          -21.0312135509483,
          -19.89242331114336,
          -20.165487348477097,
          -20.208815606483032,
          -19.069086808295708,
          -21.899940237465483,
          -21.054052315405166,
          -16.95238275908474,
          -19.08505159011555,
          -18.893819906560186,
          -19.795280783317253,
          -16.539437221132623,
          -19.556941854821794,
          -17.49396449924602,
          -20.056323544691782,
          -20.449105712671873,
          -16.41300932272689,
          -20.281686400968827,
          -19.255591403046623,
          -21.650065505353407,
          -21.908173279973166,
          -18.337762848557972,
          -17.418435846231645,
          -17.29268167363747,
          -17.823510316040554,
          -16.753615164665288,
          -22.219557171646887,
          -18.62321159704356,
          -15.080140307607692,
          -22.07873169351844,
          -21.4385677910522,
          -18.67032258819728,
          -19.780457470891548,
          -18.671992700060013,
          -21.05466004668616,
          -21.148115545831278,
          -19.925741972916768,
          -19.211489728870063,
          -19.32285249857276,
          -19.596670916117084,
          -19.942549324996985,
          -19.502303596128453,
          -19.014093841191208,
          -19.85476596341821,
          -18.617224572117838,
          -19.0600575490595,
          -19.77157303895301,
          -21.531247154031814,
          -20.2115792794006,
          -18.587917997750175,
          -21.128759988700445,
          -20.913613381897715,
          -20.04666662649161,
          -22.464732211169192,
          -21.902651397992315,
          -20.59987044335311,
          -18.18609743794968,
          -20.325500479982992,
          -17.557165686377488,
          -19.898193688558763,
          -21.177303225165343,
          -20.51792850821811,
          -19.928036851364926,
          -17.441931075010345,
          -20.662477871785963,
          -19.92019981189584,
          -20.412532164543542,
          -17.405266005327196,
          -21.95104587264157,
          -20.19623532555836,
          -18.493368627555785,
          -20.52730010054258,
          -19.716332881928718,
          -19.841059552854006,
          -21.115649883699046,
          -15.753129999276585,
          -19.14336118313498,
          -20.644100321563492,
          -20.94466544069739,
          -19.031642136955217,
          -21.444578791251626,
          -21.153395211859962,
          -21.809633246053806,
          -19.482369829328235,
          -20.19283155695332,
          -19.418731172956115,
          -18.81358426361713,
          -18.241034302075043,
          -18.909490542178922,
          -20.300100927601488,
          -19.742532683223466,
          -20.34821555624262,
          -18.1944432961557,
          -20.760966211189817,
          -20.678013568445017,
          -20.425076673347633,
          -17.211301339992463,
          -20.45689537486786,
          -19.988697868381802,
          -21.20163810807083,
          -21.102082705936862,
          -21.00122159734633,
          -19.614277980967643,
          -17.2569093820345,
          -18.881110718479526,
          -20.389404213361622,
          -18.552149284479707,
          -20.680855286793292,
          -20.503111867586995,
          -16.01494659354317,
          -19.81684861755928,
          -15.489452443041122,
          -22.413980536105854,
          -18.990601259900107,
          -18.440795197168004,
          -17.541637721534656,
          -21.170881982979665,
          -19.16025532328725,
          -19.68576996706804,
          -20.41083213246262,
          -22.283315510176095,
          -20.563312324892827,
          -20.97565033393577,
          -19.390368934627475,
          -19.473037640519223,
          -18.813265133994953,
          -21.771673683415905,
          -20.037598326862913,
          -18.78377208222471,
          -17.09621310651179,
          -21.513527965518342,
          -17.05025585885667,
          -20.067278685351372,
          -18.117208966389867,
          -17.369369148173,
          -21.443131255475294,
          -19.795849161131063,
          -20.776730894697064,
          -19.81480788315235,
          -20.347338448190197,
          -21.32612512706784,
          -18.459948407391195,
          -21.27190390790792,
          -18.488914847004978,
          -21.27548936930257,
          -16.958201695310304,
          -20.795185905995435,
          -18.71663940636271,
          -20.9690566175888,
          -21.104350588839573,
          -16.948397610040626,
          -20.966969319737725,
          -17.940866943762458,
          -16.955220534868197,
          -18.70043144606759,
          -20.721376695546333,
          -17.98459237542016,
          -18.65601619876853,
          -20.179314761474618,
          -18.627144197416587,
          -17.882450086284198,
          -20.761461497654214,
          -18.055742887395713,
          -18.45149784381159,
          -18.651931416447603,
          -19.438489973921858,
          -19.58650758697396,
          -20.305871839291445,
          -18.147149684205825,
          -18.40575482553186,
          -17.24018437547104,
          -20.381013979387596,
          -21.047696586507456,
          -18.64318172563626,
          -18.294268044349938,
          -19.147807925289673,
          -21.364337145568282,
          -21.45807111591169,
          -21.412422502496643,
          -19.355011032972502,
          -18.044835949863863,
          -21.081232413033337,
          -18.0858531116664,
          -22.192509004561423,
          -18.472889553707013,
          -19.21991083648376,
          -15.886258585529227,
          -21.997775486779464,
          -21.56433140432117,
          -20.821196418860836,
          -17.460700609175717,
          -22.292025728956883,
          -18.7256043672123,
          -19.894492433337252,
          -21.552783671282462,
          -20.953159080391448,
          -19.0415103674961,
          -19.07290080211684,
          -19.75710431322656,
          -19.23942494991655,
          -18.82325874854271,
          -20.725374340148456,
          -18.96495029213429,
          -21.949742773529692,
          -21.455920583259857,
          -18.19702613699715,
          -20.079492670776453,
          -17.98091158603662,
          -15.249926352730972,
          -20.376595868743305,
          -18.296585123591314,
          -20.706808286494027,
          -18.154192347790673,
          -17.901917388169768
         ],
         "y": [
          0.6001754165906225,
          -5.98671290026074,
          -3.9938711578906547,
          -5.213237936650976,
          -5.875858305518765,
          -4.732556151167299,
          -3.2532149648036084,
          -2.5635231724386887,
          -6.131718159899658,
          -1.8293966844304823,
          -1.8929713622971138,
          -3.5662714885551394,
          -4.282730216323277,
          -4.299612720988192,
          -2.454075743868905,
          -3.2418720928728635,
          -4.251456692954056,
          -2.4883929077786577,
          -7.5445287004045545,
          -0.9415860180952753,
          -3.822101585923943,
          -4.540739721661564,
          -3.5606331883532865,
          -2.7097604527243755,
          -4.121970934127197,
          -3.255997952175618,
          -6.241418130179246,
          -3.769058713334593,
          -2.446234146500983,
          -4.859740558666946,
          -1.0492353075202479,
          -1.9297331443137713,
          -2.906145671789411,
          -2.6306023609364413,
          -3.0729889341128716,
          -2.0295099850332354,
          -1.8141415294312426,
          -2.633741667269203,
          -1.0524453788827506,
          -3.735916219343924,
          -1.3947348385750444,
          -4.812044364614664,
          -3.356642612378312,
          -5.0659219872192205,
          -5.999772053810724,
          -4.903743322169689,
          -3.909869020539473,
          -1.3828842065524554,
          -2.2356834001142047,
          -2.808240641898297,
          -2.9035403697495634,
          -4.271957833271433,
          -3.83232352806924,
          -3.524061714228179,
          -4.084731716516623,
          -2.8206915462661146,
          -3.5316903507191184,
          -3.94084729025101,
          -3.831348754857746,
          -1.6076184089049743,
          -3.7587209261872343,
          -3.203566483652578,
          -6.359330726122079,
          -3.186433314213768,
          -2.687307293718682,
          -3.0665539179645296,
          -6.701384759917288,
          -3.511418807984196,
          -2.2614712371009293,
          -2.930745081057255,
          -4.538990220602211,
          -2.6859028714499895,
          -6.0182003240523825,
          -2.4857900060608373,
          -4.122230874907984,
          -3.6237499846522088,
          -4.010877110734366,
          -2.999169155986284,
          -5.55050783477602,
          -1.8975302131789673,
          -3.809783943278497,
          -5.445994358521362,
          -2.9162192567792147,
          -4.586598209072793,
          -5.230842238824004,
          -1.5119230751181347,
          -7.031872520850568,
          -3.789504119654781,
          -3.628561411975229,
          -2.475826593059425,
          -5.892419436151512,
          -4.29831895941492,
          -3.304531462064544,
          -4.113881580674798,
          -3.854838164841911,
          -2.591358642074993,
          -4.463684415212141,
          -2.505215653274464,
          -5.408609584386642,
          -2.594459928601469,
          -5.3550020216401855,
          -3.258207150302197,
          -3.9276648366282454,
          -0.8539061793810102,
          -3.3724866128918007,
          -1.1928447241275344,
          -0.757576815458435,
          -3.2339441114116365,
          -5.636290222428319,
          -4.0900935045892455,
          -4.248858374190982,
          -5.676635424032212,
          -3.525386157563262,
          -4.152418545330684,
          -4.7777246597094996,
          -2.696537902093641,
          -0.8920345008209183,
          -6.5912160777954485,
          -1.4638147967359125,
          -3.302572686637459,
          -4.835358244066055,
          -4.250475129104842,
          -3.7724474458081736,
          -1.780109231684971,
          -2.071511385237256,
          -2.978732080137693,
          -3.0091958861067085,
          -5.320545582725735,
          -5.641798819502375,
          -5.677972832568428,
          -4.273606689455551,
          -4.810495678986732,
          -4.797063474591922,
          -4.416199071674935,
          -3.8394921570697655,
          -4.4004202882762,
          -1.1638140254502038,
          -3.8159052597909513,
          -2.5287511740832938,
          -2.6704482222575106,
          -7.8604951769412414,
          -3.3363316893191746,
          -3.834589669444692,
          -3.0044170564394928,
          -3.0285210118513497,
          -3.452436678878086,
          -1.8332924770578225,
          -2.135028049279396,
          -3.0276283523068748,
          -3.02357981700653,
          -8.317342550107918,
          -4.16353805423055,
          -4.267467057750489,
          -4.3943492893735,
          -5.461814044972223,
          -5.604014040049849,
          -3.270965601374979,
          -1.3711424263009628,
          -2.5977746519641833,
          -2.0943572540550104,
          -3.437991777349471,
          -5.515159691883497,
          -2.2604969016139815,
          -2.381266774534063,
          -3.754587149533943,
          -2.1133517142318436,
          -3.9449359445529666,
          -5.640957442190369,
          -1.0961903599423022,
          -6.615162310165652,
          -2.2284514751015028,
          -3.8670472138078456,
          -5.265888242530613,
          -2.319664655682822,
          -3.2866944827219466,
          -1.723708008301272,
          -4.411528016685843,
          -5.336531449999503,
          -4.558616829186043,
          -1.409802996628143,
          -3.001267397875303,
          -3.705468527772715,
          -2.5564520587328694,
          -6.220184343663168,
          -2.4690134408409325,
          -1.8169868430242984,
          -3.2821707629723176,
          -3.538270970615323,
          -3.116002451036291,
          -3.735031657010955,
          -3.8770725539746644,
          -2.7488861518751655,
          -3.261471730462174,
          -5.000900454942699,
          -4.835052657206095,
          -1.9269891954721559,
          -1.5042071641002592,
          -4.334411981751168,
          -5.023128043929144,
          0.046163176116090554,
          -4.016732605258344,
          -1.0855410084418005,
          -4.627529667921117,
          -5.0973116715677325,
          -1.4900878456214681,
          -3.095882762826015,
          -3.392889402080322,
          -2.5333834691897565,
          -5.859607281077583,
          -5.229913809477348,
          -2.2293311507188207,
          -2.1156679297887235,
          -0.687068615196534,
          -2.9900156840531102,
          -2.867228251414817,
          -3.6655300452716695,
          -3.9068563547045474,
          -3.7945710078200485,
          -2.7232327470846625,
          -2.855233757334957,
          -6.920586289260111,
          -1.6651540488947805,
          -1.928676573866592,
          -3.1510654635421926,
          -4.1996364954331105,
          -4.137841671600795,
          -4.084101652698978,
          -4.451450878611517,
          -1.4070263973452193,
          -3.7392878328320425,
          -2.001747877856515,
          -3.384233490568582,
          -4.363296645987288,
          -3.9932814452828396,
          -1.8273694862561458,
          -3.7311821065603454,
          -4.371898856026078,
          0.04617784056062091,
          -1.9729055155060073,
          -3.4398884810244255,
          -3.4832684059951378,
          -4.419936546452738,
          -3.210629576206242,
          -5.645993981785878,
          -3.947849404187694,
          -1.7074595317474266,
          -6.571281122651076,
          -4.639504273477688,
          -3.6926904296393563,
          -3.602827331077983,
          -2.577622713544207,
          -2.6033958926782335,
          -1.1177107729644056,
          -4.551816909419531,
          -2.3081308283000554,
          -3.918338844582833
         ],
         "z": [
          -0.5788840405264278,
          -2.8031999852719673,
          -4.642444301150451,
          -2.738977383157269,
          -3.0026910758462617,
          -1.330904070635681,
          -0.16477006122276303,
          -4.441128920629899,
          -1.4296630897056284,
          -3.424850444995681,
          -4.676932967165615,
          -1.5520954313791093,
          -0.8804371215541472,
          -0.9637480080261699,
          -2.7883011721884463,
          -1.3385812231402776,
          -1.4134178116266387,
          0.8157824338980263,
          -0.27172754174300395,
          -0.7037569139353509,
          -0.8242047235953661,
          -0.7466075236902596,
          0.8912639682890094,
          0.10147726684184707,
          0.017558721641600397,
          -0.7988401406513204,
          -3.7328706147465933,
          -0.12463230768679995,
          1.8666591584466001,
          -3.44268603926976,
          1.3518374029162608,
          -0.8201214050499502,
          -1.438997347042488,
          -2.025652896782913,
          -2.8951157424366913,
          -2.437945457126509,
          -4.563245402559479,
          -0.5571455710829483,
          -1.9473461921901585,
          -4.663961304160111,
          -2.746933090908856,
          -0.5305957368138845,
          0.19061015801098527,
          -2.459553650304957,
          -2.2427188125390245,
          -1.2297759944733355,
          -3.419535958065934,
          -0.5614963064469575,
          -0.836118621134426,
          -0.6510171220080151,
          -2.5306277253170335,
          -3.0811090424873244,
          -2.3794046914435176,
          -2.313277638488694,
          -2.6356749173942546,
          -2.322205331200217,
          -3.7491723276976265,
          -2.1776212448747803,
          -1.6778691615186114,
          -2.262707595898422,
          -2.264180960185073,
          1.021933763766559,
          -5.5603641667608885,
          0.10818244595008011,
          -1.6137439918046634,
          -1.6421511770863038,
          -1.9439263986697013,
          0.3017076091579516,
          -0.3834951126012428,
          -1.0514370213142512,
          -1.5105171258047085,
          1.1833310782675417,
          -4.659764850735444,
          -2.5487601614605255,
          -5.1975020726207735,
          -2.9591658019013276,
          -2.470169367191095,
          -0.6895870377787399,
          -3.6587430172049134,
          -1.1077509217692798,
          -1.1282957145207642,
          -0.3162325948400838,
          0.7292735303688549,
          -3.4171822788693653,
          -4.463402350120757,
          -2.0008540831358195,
          -3.4483616975028575,
          1.6261434822155065,
          -1.7559886437655439,
          2.1067276516368025,
          -1.041719416527641,
          -1.3315144229941311,
          -1.3167818561597124,
          -1.6836588323632995,
          -0.9292315036521386,
          -0.5171298715489352,
          0.07530323612264364,
          -0.5867834553381894,
          -2.205592534262931,
          -0.9703760861450209,
          -1.7834868725091493,
          0.2098893667982163,
          -0.10670821688721199,
          -0.6397822051810809,
          -0.05838786797866788,
          -1.1534459893919453,
          -0.806320377345328,
          -3.39897623402923,
          -0.17157117709113692,
          -2.591302021327329,
          -3.7858334242863165,
          -4.990918643396999,
          -3.5532758772470276,
          -3.35333249801236,
          -5.393021672272912,
          0.8431103612605582,
          -0.6537823433308216,
          0.5887295745462224,
          -1.0717309739906042,
          -4.617830386722945,
          -5.8346615571779665,
          -1.3592651445676156,
          -0.38939890967102475,
          -0.9034078880802707,
          0.6985792915601715,
          1.24115335761793,
          -1.8849796545795987,
          -3.187135551494617,
          -1.5944825322963674,
          -3.7145150569278536,
          -1.9051306620591344,
          -4.108481221491155,
          -4.092450133775523,
          -4.577415837132016,
          1.3319218798357526,
          -4.6391716669309755,
          -2.4021125419855136,
          1.1058657371369933,
          -1.8127668511230486,
          -1.7764632976531722,
          -3.338002323540416,
          1.5136256127517986,
          -3.890655362002638,
          -2.2032625653602804,
          0.5592323444757261,
          -1.9363921679567666,
          -3.3771850992524066,
          -0.10510687822321912,
          -2.0665888153164884,
          -0.2357871054112973,
          -1.9726360742572242,
          -1.9990825328081585,
          -3.8487436874783554,
          -1.750649341666359,
          -5.160830345153594,
          -2.893595168145889,
          -5.013867392079848,
          -1.1220994023045454,
          -1.0202191264202014,
          1.1037423107029327,
          -0.31024898011210705,
          -3.599490397103108,
          -0.44054775736722984,
          1.888515819259396,
          -3.3937940744050934,
          -0.6215339351779928,
          1.5601601575707076,
          -1.5946936044917102,
          -1.4487819040044583,
          -4.302245117680512,
          -0.08648163030977588,
          -3.174361058277775,
          -0.6086617147929566,
          -0.6915097443979239,
          -3.001398897378779,
          -3.1410312792515036,
          -4.014859626491817,
          -2.8665693899030047,
          -2.8038899330949434,
          0.6607244701064703,
          -1.4172080313204247,
          -1.548488153849676,
          -1.0733976605153521,
          -2.1280995197877415,
          -0.5649979326905243,
          -3.3462076582385754,
          -4.1951831811283125,
          -4.290189315661296,
          0.066987825105077,
          -3.66975116303067,
          -1.6989087725637924,
          1.3015162564145695,
          -2.2559664080150226,
          -2.1546430654103723,
          -5.445042872809,
          -1.3823306654550356,
          1.8121935621780372,
          -1.5633735502483443,
          -2.3515631621682336,
          -0.7896825861517648,
          -3.4946705792839934,
          1.0478048292809217,
          -2.3166917864961403,
          -1.7263267078084958,
          -3.6615701132863014,
          -0.38562388397557656,
          -1.189144491094161,
          -3.8736248145314103,
          -4.78001485981577,
          -5.626891486805294,
          -1.5959978518493725,
          0.45896326954422934,
          2.304988801712205,
          -0.8845570945572743,
          -0.25380077627520325,
          -2.099177893128572,
          -3.48422260227406,
          -0.6583159807015582,
          0.9728677954851722,
          -1.4840946513313387,
          -4.6644585499533555,
          -1.7764113878358678,
          -0.9884329639294078,
          -1.027797331508672,
          -3.7971523972984063,
          -0.39979853584069824,
          -1.8630905934752529,
          -2.546310043474532,
          -1.9513488349847024,
          -0.37950048436552786,
          1.730036157974257,
          -2.0006747356790924,
          -1.0627850941853916,
          -4.767061160670593,
          0.40561440922525005,
          -4.828303333589324,
          -2.184108220471493,
          -0.08938788591306285,
          -0.792834022239867,
          -1.9456575965778,
          -0.7224556490956859,
          -3.6198877697988996,
          -3.227489003384625,
          -3.6184610095586054,
          -3.7749055586548206,
          -3.450687258286556,
          -4.631785582851493,
          -3.2407552481774906,
          -2.9831114863978345,
          -2.505614880996139,
          -1.6300863079626475,
          0.29951361607100885,
          -0.8523313999474571,
          -0.15375688260154963,
          -1.0422489597761633,
          -3.0550997668571784
         ]
        }
       ],
       "layout": {
        "template": {
         "data": {
          "bar": [
           {
            "error_x": {
             "color": "#2a3f5f"
            },
            "error_y": {
             "color": "#2a3f5f"
            },
            "marker": {
             "line": {
              "color": "#E5ECF6",
              "width": 0.5
             }
            },
            "type": "bar"
           }
          ],
          "barpolar": [
           {
            "marker": {
             "line": {
              "color": "#E5ECF6",
              "width": 0.5
             }
            },
            "type": "barpolar"
           }
          ],
          "carpet": [
           {
            "aaxis": {
             "endlinecolor": "#2a3f5f",
             "gridcolor": "white",
             "linecolor": "white",
             "minorgridcolor": "white",
             "startlinecolor": "#2a3f5f"
            },
            "baxis": {
             "endlinecolor": "#2a3f5f",
             "gridcolor": "white",
             "linecolor": "white",
             "minorgridcolor": "white",
             "startlinecolor": "#2a3f5f"
            },
            "type": "carpet"
           }
          ],
          "choropleth": [
           {
            "colorbar": {
             "outlinewidth": 0,
             "ticks": ""
            },
            "type": "choropleth"
           }
          ],
          "contour": [
           {
            "colorbar": {
             "outlinewidth": 0,
             "ticks": ""
            },
            "colorscale": [
             [
              0,
              "#0d0887"
             ],
             [
              0.1111111111111111,
              "#46039f"
             ],
             [
              0.2222222222222222,
              "#7201a8"
             ],
             [
              0.3333333333333333,
              "#9c179e"
             ],
             [
              0.4444444444444444,
              "#bd3786"
             ],
             [
              0.5555555555555556,
              "#d8576b"
             ],
             [
              0.6666666666666666,
              "#ed7953"
             ],
             [
              0.7777777777777778,
              "#fb9f3a"
             ],
             [
              0.8888888888888888,
              "#fdca26"
             ],
             [
              1,
              "#f0f921"
             ]
            ],
            "type": "contour"
           }
          ],
          "contourcarpet": [
           {
            "colorbar": {
             "outlinewidth": 0,
             "ticks": ""
            },
            "type": "contourcarpet"
           }
          ],
          "heatmap": [
           {
            "colorbar": {
             "outlinewidth": 0,
             "ticks": ""
            },
            "colorscale": [
             [
              0,
              "#0d0887"
             ],
             [
              0.1111111111111111,
              "#46039f"
             ],
             [
              0.2222222222222222,
              "#7201a8"
             ],
             [
              0.3333333333333333,
              "#9c179e"
             ],
             [
              0.4444444444444444,
              "#bd3786"
             ],
             [
              0.5555555555555556,
              "#d8576b"
             ],
             [
              0.6666666666666666,
              "#ed7953"
             ],
             [
              0.7777777777777778,
              "#fb9f3a"
             ],
             [
              0.8888888888888888,
              "#fdca26"
             ],
             [
              1,
              "#f0f921"
             ]
            ],
            "type": "heatmap"
           }
          ],
          "heatmapgl": [
           {
            "colorbar": {
             "outlinewidth": 0,
             "ticks": ""
            },
            "colorscale": [
             [
              0,
              "#0d0887"
             ],
             [
              0.1111111111111111,
              "#46039f"
             ],
             [
              0.2222222222222222,
              "#7201a8"
             ],
             [
              0.3333333333333333,
              "#9c179e"
             ],
             [
              0.4444444444444444,
              "#bd3786"
             ],
             [
              0.5555555555555556,
              "#d8576b"
             ],
             [
              0.6666666666666666,
              "#ed7953"
             ],
             [
              0.7777777777777778,
              "#fb9f3a"
             ],
             [
              0.8888888888888888,
              "#fdca26"
             ],
             [
              1,
              "#f0f921"
             ]
            ],
            "type": "heatmapgl"
           }
          ],
          "histogram": [
           {
            "marker": {
             "colorbar": {
              "outlinewidth": 0,
              "ticks": ""
             }
            },
            "type": "histogram"
           }
          ],
          "histogram2d": [
           {
            "colorbar": {
             "outlinewidth": 0,
             "ticks": ""
            },
            "colorscale": [
             [
              0,
              "#0d0887"
             ],
             [
              0.1111111111111111,
              "#46039f"
             ],
             [
              0.2222222222222222,
              "#7201a8"
             ],
             [
              0.3333333333333333,
              "#9c179e"
             ],
             [
              0.4444444444444444,
              "#bd3786"
             ],
             [
              0.5555555555555556,
              "#d8576b"
             ],
             [
              0.6666666666666666,
              "#ed7953"
             ],
             [
              0.7777777777777778,
              "#fb9f3a"
             ],
             [
              0.8888888888888888,
              "#fdca26"
             ],
             [
              1,
              "#f0f921"
             ]
            ],
            "type": "histogram2d"
           }
          ],
          "histogram2dcontour": [
           {
            "colorbar": {
             "outlinewidth": 0,
             "ticks": ""
            },
            "colorscale": [
             [
              0,
              "#0d0887"
             ],
             [
              0.1111111111111111,
              "#46039f"
             ],
             [
              0.2222222222222222,
              "#7201a8"
             ],
             [
              0.3333333333333333,
              "#9c179e"
             ],
             [
              0.4444444444444444,
              "#bd3786"
             ],
             [
              0.5555555555555556,
              "#d8576b"
             ],
             [
              0.6666666666666666,
              "#ed7953"
             ],
             [
              0.7777777777777778,
              "#fb9f3a"
             ],
             [
              0.8888888888888888,
              "#fdca26"
             ],
             [
              1,
              "#f0f921"
             ]
            ],
            "type": "histogram2dcontour"
           }
          ],
          "mesh3d": [
           {
            "colorbar": {
             "outlinewidth": 0,
             "ticks": ""
            },
            "type": "mesh3d"
           }
          ],
          "parcoords": [
           {
            "line": {
             "colorbar": {
              "outlinewidth": 0,
              "ticks": ""
             }
            },
            "type": "parcoords"
           }
          ],
          "pie": [
           {
            "automargin": true,
            "type": "pie"
           }
          ],
          "scatter": [
           {
            "marker": {
             "colorbar": {
              "outlinewidth": 0,
              "ticks": ""
             }
            },
            "type": "scatter"
           }
          ],
          "scatter3d": [
           {
            "line": {
             "colorbar": {
              "outlinewidth": 0,
              "ticks": ""
             }
            },
            "marker": {
             "colorbar": {
              "outlinewidth": 0,
              "ticks": ""
             }
            },
            "type": "scatter3d"
           }
          ],
          "scattercarpet": [
           {
            "marker": {
             "colorbar": {
              "outlinewidth": 0,
              "ticks": ""
             }
            },
            "type": "scattercarpet"
           }
          ],
          "scattergeo": [
           {
            "marker": {
             "colorbar": {
              "outlinewidth": 0,
              "ticks": ""
             }
            },
            "type": "scattergeo"
           }
          ],
          "scattergl": [
           {
            "marker": {
             "colorbar": {
              "outlinewidth": 0,
              "ticks": ""
             }
            },
            "type": "scattergl"
           }
          ],
          "scattermapbox": [
           {
            "marker": {
             "colorbar": {
              "outlinewidth": 0,
              "ticks": ""
             }
            },
            "type": "scattermapbox"
           }
          ],
          "scatterpolar": [
           {
            "marker": {
             "colorbar": {
              "outlinewidth": 0,
              "ticks": ""
             }
            },
            "type": "scatterpolar"
           }
          ],
          "scatterpolargl": [
           {
            "marker": {
             "colorbar": {
              "outlinewidth": 0,
              "ticks": ""
             }
            },
            "type": "scatterpolargl"
           }
          ],
          "scatterternary": [
           {
            "marker": {
             "colorbar": {
              "outlinewidth": 0,
              "ticks": ""
             }
            },
            "type": "scatterternary"
           }
          ],
          "surface": [
           {
            "colorbar": {
             "outlinewidth": 0,
             "ticks": ""
            },
            "colorscale": [
             [
              0,
              "#0d0887"
             ],
             [
              0.1111111111111111,
              "#46039f"
             ],
             [
              0.2222222222222222,
              "#7201a8"
             ],
             [
              0.3333333333333333,
              "#9c179e"
             ],
             [
              0.4444444444444444,
              "#bd3786"
             ],
             [
              0.5555555555555556,
              "#d8576b"
             ],
             [
              0.6666666666666666,
              "#ed7953"
             ],
             [
              0.7777777777777778,
              "#fb9f3a"
             ],
             [
              0.8888888888888888,
              "#fdca26"
             ],
             [
              1,
              "#f0f921"
             ]
            ],
            "type": "surface"
           }
          ],
          "table": [
           {
            "cells": {
             "fill": {
              "color": "#EBF0F8"
             },
             "line": {
              "color": "white"
             }
            },
            "header": {
             "fill": {
              "color": "#C8D4E3"
             },
             "line": {
              "color": "white"
             }
            },
            "type": "table"
           }
          ]
         },
         "layout": {
          "annotationdefaults": {
           "arrowcolor": "#2a3f5f",
           "arrowhead": 0,
           "arrowwidth": 1
          },
          "coloraxis": {
           "colorbar": {
            "outlinewidth": 0,
            "ticks": ""
           }
          },
          "colorscale": {
           "diverging": [
            [
             0,
             "#8e0152"
            ],
            [
             0.1,
             "#c51b7d"
            ],
            [
             0.2,
             "#de77ae"
            ],
            [
             0.3,
             "#f1b6da"
            ],
            [
             0.4,
             "#fde0ef"
            ],
            [
             0.5,
             "#f7f7f7"
            ],
            [
             0.6,
             "#e6f5d0"
            ],
            [
             0.7,
             "#b8e186"
            ],
            [
             0.8,
             "#7fbc41"
            ],
            [
             0.9,
             "#4d9221"
            ],
            [
             1,
             "#276419"
            ]
           ],
           "sequential": [
            [
             0,
             "#0d0887"
            ],
            [
             0.1111111111111111,
             "#46039f"
            ],
            [
             0.2222222222222222,
             "#7201a8"
            ],
            [
             0.3333333333333333,
             "#9c179e"
            ],
            [
             0.4444444444444444,
             "#bd3786"
            ],
            [
             0.5555555555555556,
             "#d8576b"
            ],
            [
             0.6666666666666666,
             "#ed7953"
            ],
            [
             0.7777777777777778,
             "#fb9f3a"
            ],
            [
             0.8888888888888888,
             "#fdca26"
            ],
            [
             1,
             "#f0f921"
            ]
           ],
           "sequentialminus": [
            [
             0,
             "#0d0887"
            ],
            [
             0.1111111111111111,
             "#46039f"
            ],
            [
             0.2222222222222222,
             "#7201a8"
            ],
            [
             0.3333333333333333,
             "#9c179e"
            ],
            [
             0.4444444444444444,
             "#bd3786"
            ],
            [
             0.5555555555555556,
             "#d8576b"
            ],
            [
             0.6666666666666666,
             "#ed7953"
            ],
            [
             0.7777777777777778,
             "#fb9f3a"
            ],
            [
             0.8888888888888888,
             "#fdca26"
            ],
            [
             1,
             "#f0f921"
            ]
           ]
          },
          "colorway": [
           "#636efa",
           "#EF553B",
           "#00cc96",
           "#ab63fa",
           "#FFA15A",
           "#19d3f3",
           "#FF6692",
           "#B6E880",
           "#FF97FF",
           "#FECB52"
          ],
          "font": {
           "color": "#2a3f5f"
          },
          "geo": {
           "bgcolor": "white",
           "lakecolor": "white",
           "landcolor": "#E5ECF6",
           "showlakes": true,
           "showland": true,
           "subunitcolor": "white"
          },
          "hoverlabel": {
           "align": "left"
          },
          "hovermode": "closest",
          "mapbox": {
           "style": "light"
          },
          "paper_bgcolor": "white",
          "plot_bgcolor": "#E5ECF6",
          "polar": {
           "angularaxis": {
            "gridcolor": "white",
            "linecolor": "white",
            "ticks": ""
           },
           "bgcolor": "#E5ECF6",
           "radialaxis": {
            "gridcolor": "white",
            "linecolor": "white",
            "ticks": ""
           }
          },
          "scene": {
           "xaxis": {
            "backgroundcolor": "#E5ECF6",
            "gridcolor": "white",
            "gridwidth": 2,
            "linecolor": "white",
            "showbackground": true,
            "ticks": "",
            "zerolinecolor": "white"
           },
           "yaxis": {
            "backgroundcolor": "#E5ECF6",
            "gridcolor": "white",
            "gridwidth": 2,
            "linecolor": "white",
            "showbackground": true,
            "ticks": "",
            "zerolinecolor": "white"
           },
           "zaxis": {
            "backgroundcolor": "#E5ECF6",
            "gridcolor": "white",
            "gridwidth": 2,
            "linecolor": "white",
            "showbackground": true,
            "ticks": "",
            "zerolinecolor": "white"
           }
          },
          "shapedefaults": {
           "line": {
            "color": "#2a3f5f"
           }
          },
          "ternary": {
           "aaxis": {
            "gridcolor": "white",
            "linecolor": "white",
            "ticks": ""
           },
           "baxis": {
            "gridcolor": "white",
            "linecolor": "white",
            "ticks": ""
           },
           "bgcolor": "#E5ECF6",
           "caxis": {
            "gridcolor": "white",
            "linecolor": "white",
            "ticks": ""
           }
          },
          "title": {
           "x": 0.05
          },
          "xaxis": {
           "automargin": true,
           "gridcolor": "white",
           "linecolor": "white",
           "ticks": "",
           "title": {
            "standoff": 15
           },
           "zerolinecolor": "white",
           "zerolinewidth": 2
          },
          "yaxis": {
           "automargin": true,
           "gridcolor": "white",
           "linecolor": "white",
           "ticks": "",
           "title": {
            "standoff": 15
           },
           "zerolinecolor": "white",
           "zerolinewidth": 2
          }
         }
        }
       }
      },
      "text/html": [
       "<div>\n",
       "        \n",
       "        \n",
       "            <div id=\"99006512-728d-4bc9-b623-fa23880df2a9\" class=\"plotly-graph-div\" style=\"height:525px; width:100%;\"></div>\n",
       "            <script type=\"text/javascript\">\n",
       "                require([\"plotly\"], function(Plotly) {\n",
       "                    window.PLOTLYENV=window.PLOTLYENV || {};\n",
       "                    \n",
       "                if (document.getElementById(\"99006512-728d-4bc9-b623-fa23880df2a9\")) {\n",
       "                    Plotly.newPlot(\n",
       "                        '99006512-728d-4bc9-b623-fa23880df2a9',\n",
       "                        [{\"marker\": {\"color\": [1.034224581247772e-124, 6.646588187723981e-118, 1.2394709543763421e-108, 3.1008318297178877e-106, 4.2574857982810336e-106, 3.5566060636409588e-102, 5.176850733910625e-105, 2.0448131344193678e-106, 4.2529622464631335e-109, 1.272483028340018e-108, 1.93534416928523e-118, 3.6344288691005036e-125, 2.033514059210646e-127, 1.0586497022526896e-136, 5.347797741252484e-153, 3.642431912504976e-165, 6.948176035643681e-174, 8.410723336813485e-195, 2.039861804873892e-215, 3.5198955336827876e-235, 3.9628748710216745e-103, 7.004472673836957e-98, 2.0585378969010594e-94, 1.047022116399307e-90, 2.1604880213040503e-86, 3.8162453913056994e-85, 1.7348482753462254e-87, 6.772780280433403e-89, 1.464500042434443e-88, 3.774675285704544e-92, 1.262387913469127e-96, 6.240673632790578e-107, 6.482202205460643e-111, 8.662940352400887e-121, 9.7204576809354e-135, 2.3241381218297318e-142, 5.204403575011385e-155, 3.841825879840894e-176, 2.4960384944347655e-187, 2.655887493728328e-206, 5.526001826911244e-88, 4.756918521650323e-83, 2.7441469270881395e-77, 2.1678750615232445e-74, 1.4308866625431973e-72, 1.1168334364449078e-71, 5.493107058296183e-72, 1.1419605324738596e-72, 2.5095146575832636e-75, 9.13791145402149e-78, 2.600992415259703e-84, 3.134235683869945e-88, 1.8750046268624866e-95, 9.350237127067102e-104, 5.958529980845631e-114, 6.180387199085104e-130, 9.547981493419633e-139, 3.1425762007478254e-153, 4.707469618093881e-177, 4.223337671359539e-188, 1.822521130529517e-74, 1.8169438017813272e-68, 7.255348325235815e-64, 1.2975356159426436e-60, 1.0792699133328779e-58, 5.783640680015467e-58, 2.5984259968850148e-58, 1.6270172628546566e-59, 4.7498859860613174e-62, 3.077680569265919e-65, 4.7744734724105336e-70, 4.9248385432846585e-76, 3.2237865950854133e-81, 1.0717596531079344e-89, 1.972636323602974e-102, 4.444405326175041e-111, 7.520246835219369e-124, 5.481025725917641e-143, 1.465585940651314e-154, 1.5857555251734834e-177, 1.855291853724129e-61, 1.0050249913319328e-55, 1.99205900166841e-51, 1.8922898112941203e-48, 1.1048545125772299e-46, 4.541318171758246e-46, 2.064738622493579e-46, 1.3472108100478918e-47, 7.945991963843548e-50, 4.164828990072613e-53, 1.5204965345362822e-57, 2.952904477176814e-63, 3.673612763633669e-70, 3.7141443190041e-78, 8.875795081084858e-89, 1.064394035958241e-98, 8.196046633999732e-114, 6.193897528139355e-129, 7.695112849518535e-146, 1.347049796960617e-158, 3.219281929527592e-50, 8.770534595675825e-45, 9.121570478243525e-41, 4.894158736619451e-38, 1.9107033106664054e-36, 7.307653688239415e-36, 3.6182094127423026e-36, 2.4964555591582085e-37, 1.977089562818103e-39, 1.5236022445770426e-42, 9.289487394725354e-47, 3.605771115614492e-52, 7.227774052356983e-59, 9.176832712673314e-67, 7.89853144831645e-77, 3.1434468233066074e-88, 2.4852088557961726e-101, 5.1943611649612755e-113, 1.611547174653602e-128, 4.838962371624643e-150, 9.834939968202373e-41, 1.2997507511215464e-35, 6.912815489741736e-32, 2.0394595585450922e-29, 4.95130600324373e-28, 1.4775418319258898e-27, 7.102905650093439e-28, 5.833018346239088e-29, 7.036361161727424e-31, 9.857894273035754e-34, 1.2408581546407926e-37, 1.0189738225892283e-42, 3.827454328205593e-49, 4.930230860637805e-57, 1.798342160863645e-66, 3.3991909446219895e-77, 1.474784098776325e-89, 5.520368054021142e-103, 4.189425668827185e-118, 1.4101537795528871e-139, 5.871039084353575e-33, 3.5476713634051043e-28, 9.111386254472843e-25, 1.4054151835704337e-22, 1.9691125177363194e-21, 3.9933431508575386e-21, 1.7602930984085454e-21, 2.041410480583556e-22, 4.80194163219488e-24, 1.499781431587739e-26, 4.215798958849342e-30, 7.206066644720711e-35, 5.234616812964629e-41, 1.2121321633479387e-48, 7.20244588873025e-58, 9.371166569558374e-69, 2.3984037259578497e-81, 1.1069432070727553e-95, 8.43864423099642e-112, 8.827330155316674e-130, 7.900841845146599e-27, 2.0227261669283287e-22, 2.309708371033199e-19, 1.7487494000277924e-17, 1.3963141117337472e-16, 2.0122006208814914e-16, 8.436154733555806e-17, 1.7288147511125096e-17, 8.959115512186487e-19, 6.248568285084959e-21, 3.837171720803478e-24, 1.3753477374642074e-28, 1.990423121577739e-34, 8.707076643899216e-42, 9.333623472481406e-51, 2.174299194167286e-61, 9.34773154276394e-74, 7.44909189063798e-88, 1.6203123313950032e-101, 7.116037294057572e-118, 3.028632245775979e-22, 3.1159431540163884e-18, 1.5226548169510009e-15, 5.852054398419524e-14, 3.1127590259256844e-13, 4.008373901219963e-13, 2.0111955214473097e-13, 5.352817816916529e-14, 4.880690302052804e-15, 7.287013637861691e-17, 1.0248997763841886e-19, 8.298468029452842e-24, 2.5080664454284646e-29, 2.0977598078010276e-36, 3.975455639597763e-45, 1.502023337966982e-55, 1.0648919176516422e-67, 1.4146690695069345e-81, 3.344558590731596e-97, 1.1446587265675057e-114, 5.380195976012723e-19, 2.4942750752002315e-15, 6.357580357634138e-13, 1.562569305674632e-11, 6.398702943343361e-11, 7.250141338422156e-11, 3.7845392690506645e-11, 1.0073633954312798e-11, 1.060094854010689e-12, 2.978818468397998e-14, 1.0376313499820592e-16, 2.0889962552290738e-20, 1.3523732349080925e-25, 2.131687938855642e-32, 6.868795384672589e-41, 4.0439827783080936e-51, 4.133753824313761e-63, 8.320811749276032e-77, 2.554527072904306e-90, 2.2429204946326495e-109, 1.054021182383426e-16, 2.7250209678044963e-13, 3.816420677920018e-11, 4.957470917005733e-10, 1.2261678419483878e-09, 9.798672975444943e-10, 4.956608359696253e-10, 1.6938026990546978e-10, 2.1114008203532852e-11, 8.485225867961029e-13, 6.854451065244372e-15, 3.2302195499583667e-18, 4.2684192341256324e-23, 1.19003842401635e-29, 6.140470837044567e-38, 5.4357628149848084e-48, 7.545605307266228e-60, 1.7907043885965853e-73, 1.7245198216244839e-88, 2.8313284930181675e-102, 3.4369357517934076e-15, 5.195123619459836e-12, 3.9035153844677503e-10, 2.6600535473993715e-09, 4.4017752121679465e-09, 2.3792046674760066e-09, 8.424482606002704e-10, 3.2262895167793135e-10, 6.296464798888827e-11, 3.5210659320230915e-12, 4.811551026320933e-14, 4.636876709956862e-17, 1.1051069579381333e-21, 4.765378663271376e-28, 3.526583312521879e-36, 4.6557594905474805e-46, 1.1031484638990836e-57, 5.152892069204751e-71, 5.210766870020565e-86, 8.561133286453035e-103, 1.7030119763291527e-14, 1.8550079398642045e-11, 1.0027059856145277e-09, 5.174452138357927e-09, 6.361995010661016e-09, 2.767246155068968e-09, 8.99990863444471e-10, 3.1507992285945493e-10, 5.073693641178775e-11, 3.789743998667335e-12, 6.60302700624713e-14, 9.605866710794724e-17, 3.320991364613923e-21, 1.7727202154885092e-27, 1.4992489472826566e-35, 2.6192547907664625e-45, 1.333353561163522e-56, 7.823638629193461e-70, 9.086905885371022e-85, 1.1820584014419599e-101, 1.3969408049833947e-14, 1.3888579416048975e-11, 7.160435811751258e-10, 3.76115407571809e-09, 4.319316042343546e-09, 1.6742819660752092e-09, 6.591171380888575e-10, 2.450287144909386e-10, 3.69451675924806e-11, 2.005883059793096e-12, 3.183707012105005e-14, 4.392275894798205e-17, 1.615665775097372e-21, 8.24441614821054e-28, 5.5065727282220724e-36, 9.538738958496586e-46, 6.401264751384892e-57, 7.572610118562745e-69, 7.833523589814692e-85, 3.5771122376119456e-101, 2.8564585570740582e-15, 2.541777542170285e-12, 1.472058445637705e-10, 8.215041709392356e-10, 1.2207245867131404e-09, 6.752850817923256e-10, 3.2249438221524434e-10, 1.2961811675540244e-10, 2.0948592433749804e-11, 7.900104465808287e-13, 6.1082029892648175e-15, 5.316082601805894e-18, 1.5583403079556949e-22, 6.709484448877006e-29, 3.5708186242554587e-37, 5.088201775030907e-47, 3.764023451518306e-58, 3.5524091627224375e-71, 3.7254465207116106e-86, 1.2760389817986197e-102, 1.4901094599370726e-16, 1.4385746108047873e-13, 1.1286371504338712e-11, 7.108980170237411e-11, 1.1424620744521109e-10, 1.3324020656631421e-10, 8.874922836646271e-11, 2.883938656680367e-11, 4.981680966722042e-12, 1.3787494953590233e-13, 3.8891387210773826e-16, 1.486962645461956e-19, 2.741809625062433e-24, 9.269610493630052e-31, 5.192581664050192e-39, 6.746155895218209e-49, 2.2964241752932905e-60, 1.3760862781550393e-73, 2.605287315544589e-85, 7.071973639054312e-106, 1.2450313584513274e-18, 2.429054275736116e-15, 3.2306965756650814e-13, 4.680965460824135e-12, 1.338572315248198e-11, 1.6064285451060957e-11, 1.2616740214520029e-11, 4.319080996097801e-12, 4.445218143179825e-13, 5.688845846295422e-15, 5.8943507951506994e-18, 7.390715676467032e-22, 6.3631803094384655e-27, 1.3532926166953927e-33, 5.641244714428703e-42, 1.1435667754222537e-51, 8.68022976797767e-64, 2.5971365524168073e-77, 1.053620100617839e-92, 4.999532437936166e-110, 9.436347613344083e-22, 5.45169500892462e-18, 1.674893399341877e-15, 5.670900992928128e-14, 3.5646752603831345e-13, 5.937854321008715e-13, 3.8503308741741103e-13, 1.0295726496539241e-13, 4.97590041818587e-15, 2.812916547765883e-17, 1.368008494354787e-20, 5.152982899437856e-25, 1.3750411650268064e-30, 1.3950477587507676e-37, 3.2014940151417125e-46, 1.5416786101680415e-56, 1.5038175450036474e-68, 5.823960122484455e-82, 7.393149496904491e-97, 1.6789069083534526e-113, 3.7253107579561055e-26, 7.552029506681106e-22, 7.374952161822112e-19, 5.907928184211563e-17, 6.677614404026034e-16, 1.5768014614432426e-15, 9.852294385794032e-16, 1.5640121710381267e-16, 4.132873389424577e-18, 1.2187694122571366e-20, 2.669153886070393e-24, 3.204109811138262e-29, 2.1471032989586897e-35, 7.188541878240812e-43, 7.63897346504198e-52, 1.790241715168988e-62, 1.5003799768427763e-74, 6.0758226896990186e-89, 3.7400057238118034e-103, 9.848979333924728e-123], \"colorbar\": {\"title\": {\"text\": \"ColorBar\"}}, \"colorscale\": [[0.0, \"#440154\"], [0.1111111111111111, \"#482878\"], [0.2222222222222222, \"#3e4989\"], [0.3333333333333333, \"#31688e\"], [0.4444444444444444, \"#26828e\"], [0.5555555555555556, \"#1f9e89\"], [0.6666666666666666, \"#35b779\"], [0.7777777777777778, \"#6ece58\"], [0.8888888888888888, \"#b5de2b\"], [1.0, \"#fde725\"]], \"line\": {\"width\": 0}, \"opacity\": 1, \"size\": 15, \"symbol\": \"circle\"}, \"mode\": \"markers\", \"type\": \"scatter3d\", \"x\": [-21.96160430861492, -20.000414669753514, -17.33775806586183, -20.963227131839247, -19.858320947148236, -19.323517559552275, -19.76857151250607, -21.178453853922946, -18.701890080826907, -19.432130153259163, -21.01459275139441, -20.646837777236655, -16.98178609879417, -17.91691649654814, -18.464000552912154, -18.9419566517716, -17.15554563589548, -20.358397177866483, -18.844072178984387, -18.89282280483571, -21.87174709059067, -17.29987250188928, -21.188481929015502, -18.3950134585058, -17.279864482666976, -21.252547467562028, -20.147115886522457, -22.543449780306194, -17.440607574112143, -20.210003718979678, -18.59894136159035, -15.836151623866856, -19.513688386397323, -21.036750633857636, -18.461833780748073, -18.5038489203133, -20.984503015179126, -17.202363948294845, -21.254346878221412, -21.553745893583567, -17.95299912826944, -21.703373041535375, -21.0312135509483, -19.89242331114336, -20.165487348477097, -20.208815606483032, -19.069086808295708, -21.899940237465483, -21.054052315405166, -16.95238275908474, -19.08505159011555, -18.893819906560186, -19.795280783317253, -16.539437221132623, -19.556941854821794, -17.49396449924602, -20.056323544691782, -20.449105712671873, -16.41300932272689, -20.281686400968827, -19.255591403046623, -21.650065505353407, -21.908173279973166, -18.337762848557972, -17.418435846231645, -17.29268167363747, -17.823510316040554, -16.753615164665288, -22.219557171646887, -18.62321159704356, -15.080140307607692, -22.07873169351844, -21.4385677910522, -18.67032258819728, -19.780457470891548, -18.671992700060013, -21.05466004668616, -21.148115545831278, -19.925741972916768, -19.211489728870063, -19.32285249857276, -19.596670916117084, -19.942549324996985, -19.502303596128453, -19.014093841191208, -19.85476596341821, -18.617224572117838, -19.0600575490595, -19.77157303895301, -21.531247154031814, -20.2115792794006, -18.587917997750175, -21.128759988700445, -20.913613381897715, -20.04666662649161, -22.464732211169192, -21.902651397992315, -20.59987044335311, -18.18609743794968, -20.325500479982992, -17.557165686377488, -19.898193688558763, -21.177303225165343, -20.51792850821811, -19.928036851364926, -17.441931075010345, -20.662477871785963, -19.92019981189584, -20.412532164543542, -17.405266005327196, -21.95104587264157, -20.19623532555836, -18.493368627555785, -20.52730010054258, -19.716332881928718, -19.841059552854006, -21.115649883699046, -15.753129999276585, -19.14336118313498, -20.644100321563492, -20.94466544069739, -19.031642136955217, -21.444578791251626, -21.153395211859962, -21.809633246053806, -19.482369829328235, -20.19283155695332, -19.418731172956115, -18.81358426361713, -18.241034302075043, -18.909490542178922, -20.300100927601488, -19.742532683223466, -20.34821555624262, -18.1944432961557, -20.760966211189817, -20.678013568445017, -20.425076673347633, -17.211301339992463, -20.45689537486786, -19.988697868381802, -21.20163810807083, -21.102082705936862, -21.00122159734633, -19.614277980967643, -17.2569093820345, -18.881110718479526, -20.389404213361622, -18.552149284479707, -20.680855286793292, -20.503111867586995, -16.01494659354317, -19.81684861755928, -15.489452443041122, -22.413980536105854, -18.990601259900107, -18.440795197168004, -17.541637721534656, -21.170881982979665, -19.16025532328725, -19.68576996706804, -20.41083213246262, -22.283315510176095, -20.563312324892827, -20.97565033393577, -19.390368934627475, -19.473037640519223, -18.813265133994953, -21.771673683415905, -20.037598326862913, -18.78377208222471, -17.09621310651179, -21.513527965518342, -17.05025585885667, -20.067278685351372, -18.117208966389867, -17.369369148173, -21.443131255475294, -19.795849161131063, -20.776730894697064, -19.81480788315235, -20.347338448190197, -21.32612512706784, -18.459948407391195, -21.27190390790792, -18.488914847004978, -21.27548936930257, -16.958201695310304, -20.795185905995435, -18.71663940636271, -20.9690566175888, -21.104350588839573, -16.948397610040626, -20.966969319737725, -17.940866943762458, -16.955220534868197, -18.70043144606759, -20.721376695546333, -17.98459237542016, -18.65601619876853, -20.179314761474618, -18.627144197416587, -17.882450086284198, -20.761461497654214, -18.055742887395713, -18.45149784381159, -18.651931416447603, -19.438489973921858, -19.58650758697396, -20.305871839291445, -18.147149684205825, -18.40575482553186, -17.24018437547104, -20.381013979387596, -21.047696586507456, -18.64318172563626, -18.294268044349938, -19.147807925289673, -21.364337145568282, -21.45807111591169, -21.412422502496643, -19.355011032972502, -18.044835949863863, -21.081232413033337, -18.0858531116664, -22.192509004561423, -18.472889553707013, -19.21991083648376, -15.886258585529227, -21.997775486779464, -21.56433140432117, -20.821196418860836, -17.460700609175717, -22.292025728956883, -18.7256043672123, -19.894492433337252, -21.552783671282462, -20.953159080391448, -19.0415103674961, -19.07290080211684, -19.75710431322656, -19.23942494991655, -18.82325874854271, -20.725374340148456, -18.96495029213429, -21.949742773529692, -21.455920583259857, -18.19702613699715, -20.079492670776453, -17.98091158603662, -15.249926352730972, -20.376595868743305, -18.296585123591314, -20.706808286494027, -18.154192347790673, -17.901917388169768], \"y\": [0.6001754165906225, -5.98671290026074, -3.9938711578906547, -5.213237936650976, -5.875858305518765, -4.732556151167299, -3.2532149648036084, -2.5635231724386887, -6.131718159899658, -1.8293966844304823, -1.8929713622971138, -3.5662714885551394, -4.282730216323277, -4.299612720988192, -2.454075743868905, -3.2418720928728635, -4.251456692954056, -2.4883929077786577, -7.5445287004045545, -0.9415860180952753, -3.822101585923943, -4.540739721661564, -3.5606331883532865, -2.7097604527243755, -4.121970934127197, -3.255997952175618, -6.241418130179246, -3.769058713334593, -2.446234146500983, -4.859740558666946, -1.0492353075202479, -1.9297331443137713, -2.906145671789411, -2.6306023609364413, -3.0729889341128716, -2.0295099850332354, -1.8141415294312426, -2.633741667269203, -1.0524453788827506, -3.735916219343924, -1.3947348385750444, -4.812044364614664, -3.356642612378312, -5.0659219872192205, -5.999772053810724, -4.903743322169689, -3.909869020539473, -1.3828842065524554, -2.2356834001142047, -2.808240641898297, -2.9035403697495634, -4.271957833271433, -3.83232352806924, -3.524061714228179, -4.084731716516623, -2.8206915462661146, -3.5316903507191184, -3.94084729025101, -3.831348754857746, -1.6076184089049743, -3.7587209261872343, -3.203566483652578, -6.359330726122079, -3.186433314213768, -2.687307293718682, -3.0665539179645296, -6.701384759917288, -3.511418807984196, -2.2614712371009293, -2.930745081057255, -4.538990220602211, -2.6859028714499895, -6.0182003240523825, -2.4857900060608373, -4.122230874907984, -3.6237499846522088, -4.010877110734366, -2.999169155986284, -5.55050783477602, -1.8975302131789673, -3.809783943278497, -5.445994358521362, -2.9162192567792147, -4.586598209072793, -5.230842238824004, -1.5119230751181347, -7.031872520850568, -3.789504119654781, -3.628561411975229, -2.475826593059425, -5.892419436151512, -4.29831895941492, -3.304531462064544, -4.113881580674798, -3.854838164841911, -2.591358642074993, -4.463684415212141, -2.505215653274464, -5.408609584386642, -2.594459928601469, -5.3550020216401855, -3.258207150302197, -3.9276648366282454, -0.8539061793810102, -3.3724866128918007, -1.1928447241275344, -0.757576815458435, -3.2339441114116365, -5.636290222428319, -4.0900935045892455, -4.248858374190982, -5.676635424032212, -3.525386157563262, -4.152418545330684, -4.7777246597094996, -2.696537902093641, -0.8920345008209183, -6.5912160777954485, -1.4638147967359125, -3.302572686637459, -4.835358244066055, -4.250475129104842, -3.7724474458081736, -1.780109231684971, -2.071511385237256, -2.978732080137693, -3.0091958861067085, -5.320545582725735, -5.641798819502375, -5.677972832568428, -4.273606689455551, -4.810495678986732, -4.797063474591922, -4.416199071674935, -3.8394921570697655, -4.4004202882762, -1.1638140254502038, -3.8159052597909513, -2.5287511740832938, -2.6704482222575106, -7.8604951769412414, -3.3363316893191746, -3.834589669444692, -3.0044170564394928, -3.0285210118513497, -3.452436678878086, -1.8332924770578225, -2.135028049279396, -3.0276283523068748, -3.02357981700653, -8.317342550107918, -4.16353805423055, -4.267467057750489, -4.3943492893735, -5.461814044972223, -5.604014040049849, -3.270965601374979, -1.3711424263009628, -2.5977746519641833, -2.0943572540550104, -3.437991777349471, -5.515159691883497, -2.2604969016139815, -2.381266774534063, -3.754587149533943, -2.1133517142318436, -3.9449359445529666, -5.640957442190369, -1.0961903599423022, -6.615162310165652, -2.2284514751015028, -3.8670472138078456, -5.265888242530613, -2.319664655682822, -3.2866944827219466, -1.723708008301272, -4.411528016685843, -5.336531449999503, -4.558616829186043, -1.409802996628143, -3.001267397875303, -3.705468527772715, -2.5564520587328694, -6.220184343663168, -2.4690134408409325, -1.8169868430242984, -3.2821707629723176, -3.538270970615323, -3.116002451036291, -3.735031657010955, -3.8770725539746644, -2.7488861518751655, -3.261471730462174, -5.000900454942699, -4.835052657206095, -1.9269891954721559, -1.5042071641002592, -4.334411981751168, -5.023128043929144, 0.046163176116090554, -4.016732605258344, -1.0855410084418005, -4.627529667921117, -5.0973116715677325, -1.4900878456214681, -3.095882762826015, -3.392889402080322, -2.5333834691897565, -5.859607281077583, -5.229913809477348, -2.2293311507188207, -2.1156679297887235, -0.687068615196534, -2.9900156840531102, -2.867228251414817, -3.6655300452716695, -3.9068563547045474, -3.7945710078200485, -2.7232327470846625, -2.855233757334957, -6.920586289260111, -1.6651540488947805, -1.928676573866592, -3.1510654635421926, -4.1996364954331105, -4.137841671600795, -4.084101652698978, -4.451450878611517, -1.4070263973452193, -3.7392878328320425, -2.001747877856515, -3.384233490568582, -4.363296645987288, -3.9932814452828396, -1.8273694862561458, -3.7311821065603454, -4.371898856026078, 0.04617784056062091, -1.9729055155060073, -3.4398884810244255, -3.4832684059951378, -4.419936546452738, -3.210629576206242, -5.645993981785878, -3.947849404187694, -1.7074595317474266, -6.571281122651076, -4.639504273477688, -3.6926904296393563, -3.602827331077983, -2.577622713544207, -2.6033958926782335, -1.1177107729644056, -4.551816909419531, -2.3081308283000554, -3.918338844582833], \"z\": [-0.5788840405264278, -2.8031999852719673, -4.642444301150451, -2.738977383157269, -3.0026910758462617, -1.330904070635681, -0.16477006122276303, -4.441128920629899, -1.4296630897056284, -3.424850444995681, -4.676932967165615, -1.5520954313791093, -0.8804371215541472, -0.9637480080261699, -2.7883011721884463, -1.3385812231402776, -1.4134178116266387, 0.8157824338980263, -0.27172754174300395, -0.7037569139353509, -0.8242047235953661, -0.7466075236902596, 0.8912639682890094, 0.10147726684184707, 0.017558721641600397, -0.7988401406513204, -3.7328706147465933, -0.12463230768679995, 1.8666591584466001, -3.44268603926976, 1.3518374029162608, -0.8201214050499502, -1.438997347042488, -2.025652896782913, -2.8951157424366913, -2.437945457126509, -4.563245402559479, -0.5571455710829483, -1.9473461921901585, -4.663961304160111, -2.746933090908856, -0.5305957368138845, 0.19061015801098527, -2.459553650304957, -2.2427188125390245, -1.2297759944733355, -3.419535958065934, -0.5614963064469575, -0.836118621134426, -0.6510171220080151, -2.5306277253170335, -3.0811090424873244, -2.3794046914435176, -2.313277638488694, -2.6356749173942546, -2.322205331200217, -3.7491723276976265, -2.1776212448747803, -1.6778691615186114, -2.262707595898422, -2.264180960185073, 1.021933763766559, -5.5603641667608885, 0.10818244595008011, -1.6137439918046634, -1.6421511770863038, -1.9439263986697013, 0.3017076091579516, -0.3834951126012428, -1.0514370213142512, -1.5105171258047085, 1.1833310782675417, -4.659764850735444, -2.5487601614605255, -5.1975020726207735, -2.9591658019013276, -2.470169367191095, -0.6895870377787399, -3.6587430172049134, -1.1077509217692798, -1.1282957145207642, -0.3162325948400838, 0.7292735303688549, -3.4171822788693653, -4.463402350120757, -2.0008540831358195, -3.4483616975028575, 1.6261434822155065, -1.7559886437655439, 2.1067276516368025, -1.041719416527641, -1.3315144229941311, -1.3167818561597124, -1.6836588323632995, -0.9292315036521386, -0.5171298715489352, 0.07530323612264364, -0.5867834553381894, -2.205592534262931, -0.9703760861450209, -1.7834868725091493, 0.2098893667982163, -0.10670821688721199, -0.6397822051810809, -0.05838786797866788, -1.1534459893919453, -0.806320377345328, -3.39897623402923, -0.17157117709113692, -2.591302021327329, -3.7858334242863165, -4.990918643396999, -3.5532758772470276, -3.35333249801236, -5.393021672272912, 0.8431103612605582, -0.6537823433308216, 0.5887295745462224, -1.0717309739906042, -4.617830386722945, -5.8346615571779665, -1.3592651445676156, -0.38939890967102475, -0.9034078880802707, 0.6985792915601715, 1.24115335761793, -1.8849796545795987, -3.187135551494617, -1.5944825322963674, -3.7145150569278536, -1.9051306620591344, -4.108481221491155, -4.092450133775523, -4.577415837132016, 1.3319218798357526, -4.6391716669309755, -2.4021125419855136, 1.1058657371369933, -1.8127668511230486, -1.7764632976531722, -3.338002323540416, 1.5136256127517986, -3.890655362002638, -2.2032625653602804, 0.5592323444757261, -1.9363921679567666, -3.3771850992524066, -0.10510687822321912, -2.0665888153164884, -0.2357871054112973, -1.9726360742572242, -1.9990825328081585, -3.8487436874783554, -1.750649341666359, -5.160830345153594, -2.893595168145889, -5.013867392079848, -1.1220994023045454, -1.0202191264202014, 1.1037423107029327, -0.31024898011210705, -3.599490397103108, -0.44054775736722984, 1.888515819259396, -3.3937940744050934, -0.6215339351779928, 1.5601601575707076, -1.5946936044917102, -1.4487819040044583, -4.302245117680512, -0.08648163030977588, -3.174361058277775, -0.6086617147929566, -0.6915097443979239, -3.001398897378779, -3.1410312792515036, -4.014859626491817, -2.8665693899030047, -2.8038899330949434, 0.6607244701064703, -1.4172080313204247, -1.548488153849676, -1.0733976605153521, -2.1280995197877415, -0.5649979326905243, -3.3462076582385754, -4.1951831811283125, -4.290189315661296, 0.066987825105077, -3.66975116303067, -1.6989087725637924, 1.3015162564145695, -2.2559664080150226, -2.1546430654103723, -5.445042872809, -1.3823306654550356, 1.8121935621780372, -1.5633735502483443, -2.3515631621682336, -0.7896825861517648, -3.4946705792839934, 1.0478048292809217, -2.3166917864961403, -1.7263267078084958, -3.6615701132863014, -0.38562388397557656, -1.189144491094161, -3.8736248145314103, -4.78001485981577, -5.626891486805294, -1.5959978518493725, 0.45896326954422934, 2.304988801712205, -0.8845570945572743, -0.25380077627520325, -2.099177893128572, -3.48422260227406, -0.6583159807015582, 0.9728677954851722, -1.4840946513313387, -4.6644585499533555, -1.7764113878358678, -0.9884329639294078, -1.027797331508672, -3.7971523972984063, -0.39979853584069824, -1.8630905934752529, -2.546310043474532, -1.9513488349847024, -0.37950048436552786, 1.730036157974257, -2.0006747356790924, -1.0627850941853916, -4.767061160670593, 0.40561440922525005, -4.828303333589324, -2.184108220471493, -0.08938788591306285, -0.792834022239867, -1.9456575965778, -0.7224556490956859, -3.6198877697988996, -3.227489003384625, -3.6184610095586054, -3.7749055586548206, -3.450687258286556, -4.631785582851493, -3.2407552481774906, -2.9831114863978345, -2.505614880996139, -1.6300863079626475, 0.29951361607100885, -0.8523313999474571, -0.15375688260154963, -1.0422489597761633, -3.0550997668571784]}],\n",
       "                        {\"template\": {\"data\": {\"bar\": [{\"error_x\": {\"color\": \"#2a3f5f\"}, \"error_y\": {\"color\": \"#2a3f5f\"}, \"marker\": {\"line\": {\"color\": \"#E5ECF6\", \"width\": 0.5}}, \"type\": \"bar\"}], \"barpolar\": [{\"marker\": {\"line\": {\"color\": \"#E5ECF6\", \"width\": 0.5}}, \"type\": \"barpolar\"}], \"carpet\": [{\"aaxis\": {\"endlinecolor\": \"#2a3f5f\", \"gridcolor\": \"white\", \"linecolor\": \"white\", \"minorgridcolor\": \"white\", \"startlinecolor\": \"#2a3f5f\"}, \"baxis\": {\"endlinecolor\": \"#2a3f5f\", \"gridcolor\": \"white\", \"linecolor\": \"white\", \"minorgridcolor\": \"white\", \"startlinecolor\": \"#2a3f5f\"}, \"type\": \"carpet\"}], \"choropleth\": [{\"colorbar\": {\"outlinewidth\": 0, \"ticks\": \"\"}, \"type\": \"choropleth\"}], \"contour\": [{\"colorbar\": {\"outlinewidth\": 0, \"ticks\": \"\"}, \"colorscale\": [[0.0, \"#0d0887\"], [0.1111111111111111, \"#46039f\"], [0.2222222222222222, \"#7201a8\"], [0.3333333333333333, \"#9c179e\"], [0.4444444444444444, \"#bd3786\"], [0.5555555555555556, \"#d8576b\"], [0.6666666666666666, \"#ed7953\"], [0.7777777777777778, \"#fb9f3a\"], [0.8888888888888888, \"#fdca26\"], [1.0, \"#f0f921\"]], \"type\": \"contour\"}], \"contourcarpet\": [{\"colorbar\": {\"outlinewidth\": 0, \"ticks\": \"\"}, \"type\": \"contourcarpet\"}], \"heatmap\": [{\"colorbar\": {\"outlinewidth\": 0, \"ticks\": \"\"}, \"colorscale\": [[0.0, \"#0d0887\"], [0.1111111111111111, \"#46039f\"], [0.2222222222222222, \"#7201a8\"], [0.3333333333333333, \"#9c179e\"], [0.4444444444444444, \"#bd3786\"], [0.5555555555555556, \"#d8576b\"], [0.6666666666666666, \"#ed7953\"], [0.7777777777777778, \"#fb9f3a\"], [0.8888888888888888, \"#fdca26\"], [1.0, \"#f0f921\"]], \"type\": \"heatmap\"}], \"heatmapgl\": [{\"colorbar\": {\"outlinewidth\": 0, \"ticks\": \"\"}, \"colorscale\": [[0.0, \"#0d0887\"], [0.1111111111111111, \"#46039f\"], [0.2222222222222222, \"#7201a8\"], [0.3333333333333333, \"#9c179e\"], [0.4444444444444444, \"#bd3786\"], [0.5555555555555556, \"#d8576b\"], [0.6666666666666666, \"#ed7953\"], [0.7777777777777778, \"#fb9f3a\"], [0.8888888888888888, \"#fdca26\"], [1.0, \"#f0f921\"]], \"type\": \"heatmapgl\"}], \"histogram\": [{\"marker\": {\"colorbar\": {\"outlinewidth\": 0, \"ticks\": \"\"}}, \"type\": \"histogram\"}], \"histogram2d\": [{\"colorbar\": {\"outlinewidth\": 0, \"ticks\": \"\"}, \"colorscale\": [[0.0, \"#0d0887\"], [0.1111111111111111, \"#46039f\"], [0.2222222222222222, \"#7201a8\"], [0.3333333333333333, \"#9c179e\"], [0.4444444444444444, \"#bd3786\"], [0.5555555555555556, \"#d8576b\"], [0.6666666666666666, \"#ed7953\"], [0.7777777777777778, \"#fb9f3a\"], [0.8888888888888888, \"#fdca26\"], [1.0, \"#f0f921\"]], \"type\": \"histogram2d\"}], \"histogram2dcontour\": [{\"colorbar\": {\"outlinewidth\": 0, \"ticks\": \"\"}, \"colorscale\": [[0.0, \"#0d0887\"], [0.1111111111111111, \"#46039f\"], [0.2222222222222222, \"#7201a8\"], [0.3333333333333333, \"#9c179e\"], [0.4444444444444444, \"#bd3786\"], [0.5555555555555556, \"#d8576b\"], [0.6666666666666666, \"#ed7953\"], [0.7777777777777778, \"#fb9f3a\"], [0.8888888888888888, \"#fdca26\"], [1.0, \"#f0f921\"]], \"type\": \"histogram2dcontour\"}], \"mesh3d\": [{\"colorbar\": {\"outlinewidth\": 0, \"ticks\": \"\"}, \"type\": \"mesh3d\"}], \"parcoords\": [{\"line\": {\"colorbar\": {\"outlinewidth\": 0, \"ticks\": \"\"}}, \"type\": \"parcoords\"}], \"pie\": [{\"automargin\": true, \"type\": \"pie\"}], \"scatter\": [{\"marker\": {\"colorbar\": {\"outlinewidth\": 0, \"ticks\": \"\"}}, \"type\": \"scatter\"}], \"scatter3d\": [{\"line\": {\"colorbar\": {\"outlinewidth\": 0, \"ticks\": \"\"}}, \"marker\": {\"colorbar\": {\"outlinewidth\": 0, \"ticks\": \"\"}}, \"type\": \"scatter3d\"}], \"scattercarpet\": [{\"marker\": {\"colorbar\": {\"outlinewidth\": 0, \"ticks\": \"\"}}, \"type\": \"scattercarpet\"}], \"scattergeo\": [{\"marker\": {\"colorbar\": {\"outlinewidth\": 0, \"ticks\": \"\"}}, \"type\": \"scattergeo\"}], \"scattergl\": [{\"marker\": {\"colorbar\": {\"outlinewidth\": 0, \"ticks\": \"\"}}, \"type\": \"scattergl\"}], \"scattermapbox\": [{\"marker\": {\"colorbar\": {\"outlinewidth\": 0, \"ticks\": \"\"}}, \"type\": \"scattermapbox\"}], \"scatterpolar\": [{\"marker\": {\"colorbar\": {\"outlinewidth\": 0, \"ticks\": \"\"}}, \"type\": \"scatterpolar\"}], \"scatterpolargl\": [{\"marker\": {\"colorbar\": {\"outlinewidth\": 0, \"ticks\": \"\"}}, \"type\": \"scatterpolargl\"}], \"scatterternary\": [{\"marker\": {\"colorbar\": {\"outlinewidth\": 0, \"ticks\": \"\"}}, \"type\": \"scatterternary\"}], \"surface\": [{\"colorbar\": {\"outlinewidth\": 0, \"ticks\": \"\"}, \"colorscale\": [[0.0, \"#0d0887\"], [0.1111111111111111, \"#46039f\"], [0.2222222222222222, \"#7201a8\"], [0.3333333333333333, \"#9c179e\"], [0.4444444444444444, \"#bd3786\"], [0.5555555555555556, \"#d8576b\"], [0.6666666666666666, \"#ed7953\"], [0.7777777777777778, \"#fb9f3a\"], [0.8888888888888888, \"#fdca26\"], [1.0, \"#f0f921\"]], \"type\": \"surface\"}], \"table\": [{\"cells\": {\"fill\": {\"color\": \"#EBF0F8\"}, \"line\": {\"color\": \"white\"}}, \"header\": {\"fill\": {\"color\": \"#C8D4E3\"}, \"line\": {\"color\": \"white\"}}, \"type\": \"table\"}]}, \"layout\": {\"annotationdefaults\": {\"arrowcolor\": \"#2a3f5f\", \"arrowhead\": 0, \"arrowwidth\": 1}, \"coloraxis\": {\"colorbar\": {\"outlinewidth\": 0, \"ticks\": \"\"}}, \"colorscale\": {\"diverging\": [[0, \"#8e0152\"], [0.1, \"#c51b7d\"], [0.2, \"#de77ae\"], [0.3, \"#f1b6da\"], [0.4, \"#fde0ef\"], [0.5, \"#f7f7f7\"], [0.6, \"#e6f5d0\"], [0.7, \"#b8e186\"], [0.8, \"#7fbc41\"], [0.9, \"#4d9221\"], [1, \"#276419\"]], \"sequential\": [[0.0, \"#0d0887\"], [0.1111111111111111, \"#46039f\"], [0.2222222222222222, \"#7201a8\"], [0.3333333333333333, \"#9c179e\"], [0.4444444444444444, \"#bd3786\"], [0.5555555555555556, \"#d8576b\"], [0.6666666666666666, \"#ed7953\"], [0.7777777777777778, \"#fb9f3a\"], [0.8888888888888888, \"#fdca26\"], [1.0, \"#f0f921\"]], \"sequentialminus\": [[0.0, \"#0d0887\"], [0.1111111111111111, \"#46039f\"], [0.2222222222222222, \"#7201a8\"], [0.3333333333333333, \"#9c179e\"], [0.4444444444444444, \"#bd3786\"], [0.5555555555555556, \"#d8576b\"], [0.6666666666666666, \"#ed7953\"], [0.7777777777777778, \"#fb9f3a\"], [0.8888888888888888, \"#fdca26\"], [1.0, \"#f0f921\"]]}, \"colorway\": [\"#636efa\", \"#EF553B\", \"#00cc96\", \"#ab63fa\", \"#FFA15A\", \"#19d3f3\", \"#FF6692\", \"#B6E880\", \"#FF97FF\", \"#FECB52\"], \"font\": {\"color\": \"#2a3f5f\"}, \"geo\": {\"bgcolor\": \"white\", \"lakecolor\": \"white\", \"landcolor\": \"#E5ECF6\", \"showlakes\": true, \"showland\": true, \"subunitcolor\": \"white\"}, \"hoverlabel\": {\"align\": \"left\"}, \"hovermode\": \"closest\", \"mapbox\": {\"style\": \"light\"}, \"paper_bgcolor\": \"white\", \"plot_bgcolor\": \"#E5ECF6\", \"polar\": {\"angularaxis\": {\"gridcolor\": \"white\", \"linecolor\": \"white\", \"ticks\": \"\"}, \"bgcolor\": \"#E5ECF6\", \"radialaxis\": {\"gridcolor\": \"white\", \"linecolor\": \"white\", \"ticks\": \"\"}}, \"scene\": {\"xaxis\": {\"backgroundcolor\": \"#E5ECF6\", \"gridcolor\": \"white\", \"gridwidth\": 2, \"linecolor\": \"white\", \"showbackground\": true, \"ticks\": \"\", \"zerolinecolor\": \"white\"}, \"yaxis\": {\"backgroundcolor\": \"#E5ECF6\", \"gridcolor\": \"white\", \"gridwidth\": 2, \"linecolor\": \"white\", \"showbackground\": true, \"ticks\": \"\", \"zerolinecolor\": \"white\"}, \"zaxis\": {\"backgroundcolor\": \"#E5ECF6\", \"gridcolor\": \"white\", \"gridwidth\": 2, \"linecolor\": \"white\", \"showbackground\": true, \"ticks\": \"\", \"zerolinecolor\": \"white\"}}, \"shapedefaults\": {\"line\": {\"color\": \"#2a3f5f\"}}, \"ternary\": {\"aaxis\": {\"gridcolor\": \"white\", \"linecolor\": \"white\", \"ticks\": \"\"}, \"baxis\": {\"gridcolor\": \"white\", \"linecolor\": \"white\", \"ticks\": \"\"}, \"bgcolor\": \"#E5ECF6\", \"caxis\": {\"gridcolor\": \"white\", \"linecolor\": \"white\", \"ticks\": \"\"}}, \"title\": {\"x\": 0.05}, \"xaxis\": {\"automargin\": true, \"gridcolor\": \"white\", \"linecolor\": \"white\", \"ticks\": \"\", \"title\": {\"standoff\": 15}, \"zerolinecolor\": \"white\", \"zerolinewidth\": 2}, \"yaxis\": {\"automargin\": true, \"gridcolor\": \"white\", \"linecolor\": \"white\", \"ticks\": \"\", \"title\": {\"standoff\": 15}, \"zerolinecolor\": \"white\", \"zerolinewidth\": 2}}}},\n",
       "                        {\"responsive\": true}\n",
       "                    ).then(function(){\n",
       "                            \n",
       "var gd = document.getElementById('99006512-728d-4bc9-b623-fa23880df2a9');\n",
       "var x = new MutationObserver(function (mutations, observer) {{\n",
       "        var display = window.getComputedStyle(gd).display;\n",
       "        if (!display || display === 'none') {{\n",
       "            console.log([gd, 'removed!']);\n",
       "            Plotly.purge(gd);\n",
       "            observer.disconnect();\n",
       "        }}\n",
       "}});\n",
       "\n",
       "// Listen for the removal of the full notebook cells\n",
       "var notebookContainer = gd.closest('#notebook-container');\n",
       "if (notebookContainer) {{\n",
       "    x.observe(notebookContainer, {childList: true});\n",
       "}}\n",
       "\n",
       "// Listen for the clearing of the current output cell\n",
       "var outputEl = gd.closest('.output');\n",
       "if (outputEl) {{\n",
       "    x.observe(outputEl, {childList: true});\n",
       "}}\n",
       "\n",
       "                        })\n",
       "                };\n",
       "                });\n",
       "            </script>\n",
       "        </div>"
      ]
     },
     "metadata": {},
     "output_type": "display_data"
    }
   ],
   "source": [
    "fig= [go.Scatter3d(\n",
    "    x= featref[:,0],\n",
    "    y= featref[:,1],\n",
    "    z= featref[:,2],\n",
    "    mode= 'markers',\n",
    "    marker= {\n",
    "        'color':grid_likes,\n",
    "        'colorbar': go.ColorBar(\n",
    "            title= 'ColorBar'\n",
    "        ),\n",
    "        'colorscale':'Viridis',\n",
    "        'line': {'width': 0},\n",
    "        'size': 15,\n",
    "        'symbol': 'circle',\n",
    "      \"opacity\": 1\n",
    "      }\n",
    ")]\n",
    "\n",
    "\n",
    "layout= go.Layout()\n",
    "\n",
    "Figure= go.Figure(data= fig, layout= layout)\n",
    "\n",
    "iplot(Figure)"
   ]
  },
  {
   "cell_type": "code",
   "execution_count": 153,
   "metadata": {},
   "outputs": [
    {
     "name": "stdout",
     "output_type": "stream",
     "text": [
      "(400,)\n"
     ]
    },
    {
     "data": {
      "application/vnd.plotly.v1+json": {
       "config": {
        "linkText": "Export to plot.ly",
        "plotlyServerURL": "https://plot.ly",
        "showLink": false
       },
       "data": [
        {
         "marker": {
          "color": [
           1.034224581247772e-124,
           6.646588187723981e-118,
           1.2394709543763421e-108,
           3.1008318297178877e-106,
           4.2574857982810336e-106,
           3.5566060636409588e-102,
           5.176850733910625e-105,
           2.0448131344193678e-106,
           4.2529622464631335e-109,
           1.272483028340018e-108,
           1.93534416928523e-118,
           3.6344288691005036e-125,
           2.033514059210646e-127,
           1.0586497022526896e-136,
           5.347797741252484e-153,
           3.642431912504976e-165,
           6.948176035643681e-174,
           8.410723336813485e-195,
           2.039861804873892e-215,
           3.5198955336827876e-235,
           3.9628748710216745e-103,
           7.004472673836957e-98,
           2.0585378969010594e-94,
           1.047022116399307e-90,
           2.1604880213040503e-86,
           3.8162453913056994e-85,
           1.7348482753462254e-87,
           6.772780280433403e-89,
           1.464500042434443e-88,
           3.774675285704544e-92,
           1.262387913469127e-96,
           6.240673632790578e-107,
           6.482202205460643e-111,
           8.662940352400887e-121,
           9.7204576809354e-135,
           2.3241381218297318e-142,
           5.204403575011385e-155,
           3.841825879840894e-176,
           2.4960384944347655e-187,
           2.655887493728328e-206,
           5.526001826911244e-88,
           4.756918521650323e-83,
           2.7441469270881395e-77,
           2.1678750615232445e-74,
           1.4308866625431973e-72,
           1.1168334364449078e-71,
           5.493107058296183e-72,
           1.1419605324738596e-72,
           2.5095146575832636e-75,
           9.13791145402149e-78,
           2.600992415259703e-84,
           3.134235683869945e-88,
           1.8750046268624866e-95,
           9.350237127067102e-104,
           5.958529980845631e-114,
           6.180387199085104e-130,
           9.547981493419633e-139,
           3.1425762007478254e-153,
           4.707469618093881e-177,
           4.223337671359539e-188,
           1.822521130529517e-74,
           1.8169438017813272e-68,
           7.255348325235815e-64,
           1.2975356159426436e-60,
           1.0792699133328779e-58,
           5.783640680015467e-58,
           2.5984259968850148e-58,
           1.6270172628546566e-59,
           4.7498859860613174e-62,
           3.077680569265919e-65,
           4.7744734724105336e-70,
           4.9248385432846585e-76,
           3.2237865950854133e-81,
           1.0717596531079344e-89,
           1.972636323602974e-102,
           4.444405326175041e-111,
           7.520246835219369e-124,
           5.481025725917641e-143,
           1.465585940651314e-154,
           1.5857555251734834e-177,
           1.855291853724129e-61,
           1.0050249913319328e-55,
           1.99205900166841e-51,
           1.8922898112941203e-48,
           1.1048545125772299e-46,
           4.541318171758246e-46,
           2.064738622493579e-46,
           1.3472108100478918e-47,
           7.945991963843548e-50,
           4.164828990072613e-53,
           1.5204965345362822e-57,
           2.952904477176814e-63,
           3.673612763633669e-70,
           3.7141443190041e-78,
           8.875795081084858e-89,
           1.064394035958241e-98,
           8.196046633999732e-114,
           6.193897528139355e-129,
           7.695112849518535e-146,
           1.347049796960617e-158,
           3.219281929527592e-50,
           8.770534595675825e-45,
           9.121570478243525e-41,
           4.894158736619451e-38,
           1.9107033106664054e-36,
           7.307653688239415e-36,
           3.6182094127423026e-36,
           2.4964555591582085e-37,
           1.977089562818103e-39,
           1.5236022445770426e-42,
           9.289487394725354e-47,
           3.605771115614492e-52,
           7.227774052356983e-59,
           9.176832712673314e-67,
           7.89853144831645e-77,
           3.1434468233066074e-88,
           2.4852088557961726e-101,
           5.1943611649612755e-113,
           1.611547174653602e-128,
           4.838962371624643e-150,
           9.834939968202373e-41,
           1.2997507511215464e-35,
           6.912815489741736e-32,
           2.0394595585450922e-29,
           4.95130600324373e-28,
           1.4775418319258898e-27,
           7.102905650093439e-28,
           5.833018346239088e-29,
           7.036361161727424e-31,
           9.857894273035754e-34,
           1.2408581546407926e-37,
           1.0189738225892283e-42,
           3.827454328205593e-49,
           4.930230860637805e-57,
           1.798342160863645e-66,
           3.3991909446219895e-77,
           1.474784098776325e-89,
           5.520368054021142e-103,
           4.189425668827185e-118,
           1.4101537795528871e-139,
           5.871039084353575e-33,
           3.5476713634051043e-28,
           9.111386254472843e-25,
           1.4054151835704337e-22,
           1.9691125177363194e-21,
           3.9933431508575386e-21,
           1.7602930984085454e-21,
           2.041410480583556e-22,
           4.80194163219488e-24,
           1.499781431587739e-26,
           4.215798958849342e-30,
           7.206066644720711e-35,
           5.234616812964629e-41,
           1.2121321633479387e-48,
           7.20244588873025e-58,
           9.371166569558374e-69,
           2.3984037259578497e-81,
           1.1069432070727553e-95,
           8.43864423099642e-112,
           8.827330155316674e-130,
           7.900841845146599e-27,
           2.0227261669283287e-22,
           2.309708371033199e-19,
           1.7487494000277924e-17,
           1.3963141117337472e-16,
           2.0122006208814914e-16,
           8.436154733555806e-17,
           1.7288147511125096e-17,
           8.959115512186487e-19,
           6.248568285084959e-21,
           3.837171720803478e-24,
           1.3753477374642074e-28,
           1.990423121577739e-34,
           8.707076643899216e-42,
           9.333623472481406e-51,
           2.174299194167286e-61,
           9.34773154276394e-74,
           7.44909189063798e-88,
           1.6203123313950032e-101,
           7.116037294057572e-118,
           3.028632245775979e-22,
           3.1159431540163884e-18,
           1.5226548169510009e-15,
           5.852054398419524e-14,
           3.1127590259256844e-13,
           4.008373901219963e-13,
           2.0111955214473097e-13,
           5.352817816916529e-14,
           4.880690302052804e-15,
           7.287013637861691e-17,
           1.0248997763841886e-19,
           8.298468029452842e-24,
           2.5080664454284646e-29,
           2.0977598078010276e-36,
           3.975455639597763e-45,
           1.502023337966982e-55,
           1.0648919176516422e-67,
           1.4146690695069345e-81,
           3.344558590731596e-97,
           1.1446587265675057e-114,
           5.380195976012723e-19,
           2.4942750752002315e-15,
           6.357580357634138e-13,
           1.562569305674632e-11,
           6.398702943343361e-11,
           7.250141338422156e-11,
           3.7845392690506645e-11,
           1.0073633954312798e-11,
           1.060094854010689e-12,
           2.978818468397998e-14,
           1.0376313499820592e-16,
           2.0889962552290738e-20,
           1.3523732349080925e-25,
           2.131687938855642e-32,
           6.868795384672589e-41,
           4.0439827783080936e-51,
           4.133753824313761e-63,
           8.320811749276032e-77,
           2.554527072904306e-90,
           2.2429204946326495e-109,
           1.054021182383426e-16,
           2.7250209678044963e-13,
           3.816420677920018e-11,
           4.957470917005733e-10,
           1.2261678419483878e-09,
           9.798672975444943e-10,
           4.956608359696253e-10,
           1.6938026990546978e-10,
           2.1114008203532852e-11,
           8.485225867961029e-13,
           6.854451065244372e-15,
           3.2302195499583667e-18,
           4.2684192341256324e-23,
           1.19003842401635e-29,
           6.140470837044567e-38,
           5.4357628149848084e-48,
           7.545605307266228e-60,
           1.7907043885965853e-73,
           1.7245198216244839e-88,
           2.8313284930181675e-102,
           3.4369357517934076e-15,
           5.195123619459836e-12,
           3.9035153844677503e-10,
           2.6600535473993715e-09,
           4.4017752121679465e-09,
           2.3792046674760066e-09,
           8.424482606002704e-10,
           3.2262895167793135e-10,
           6.296464798888827e-11,
           3.5210659320230915e-12,
           4.811551026320933e-14,
           4.636876709956862e-17,
           1.1051069579381333e-21,
           4.765378663271376e-28,
           3.526583312521879e-36,
           4.6557594905474805e-46,
           1.1031484638990836e-57,
           5.152892069204751e-71,
           5.210766870020565e-86,
           8.561133286453035e-103,
           1.7030119763291527e-14,
           1.8550079398642045e-11,
           1.0027059856145277e-09,
           5.174452138357927e-09,
           6.361995010661016e-09,
           2.767246155068968e-09,
           8.99990863444471e-10,
           3.1507992285945493e-10,
           5.073693641178775e-11,
           3.789743998667335e-12,
           6.60302700624713e-14,
           9.605866710794724e-17,
           3.320991364613923e-21,
           1.7727202154885092e-27,
           1.4992489472826566e-35,
           2.6192547907664625e-45,
           1.333353561163522e-56,
           7.823638629193461e-70,
           9.086905885371022e-85,
           1.1820584014419599e-101,
           1.3969408049833947e-14,
           1.3888579416048975e-11,
           7.160435811751258e-10,
           3.76115407571809e-09,
           4.319316042343546e-09,
           1.6742819660752092e-09,
           6.591171380888575e-10,
           2.450287144909386e-10,
           3.69451675924806e-11,
           2.005883059793096e-12,
           3.183707012105005e-14,
           4.392275894798205e-17,
           1.615665775097372e-21,
           8.24441614821054e-28,
           5.5065727282220724e-36,
           9.538738958496586e-46,
           6.401264751384892e-57,
           7.572610118562745e-69,
           7.833523589814692e-85,
           3.5771122376119456e-101,
           2.8564585570740582e-15,
           2.541777542170285e-12,
           1.472058445637705e-10,
           8.215041709392356e-10,
           1.2207245867131404e-09,
           6.752850817923256e-10,
           3.2249438221524434e-10,
           1.2961811675540244e-10,
           2.0948592433749804e-11,
           7.900104465808287e-13,
           6.1082029892648175e-15,
           5.316082601805894e-18,
           1.5583403079556949e-22,
           6.709484448877006e-29,
           3.5708186242554587e-37,
           5.088201775030907e-47,
           3.764023451518306e-58,
           3.5524091627224375e-71,
           3.7254465207116106e-86,
           1.2760389817986197e-102,
           1.4901094599370726e-16,
           1.4385746108047873e-13,
           1.1286371504338712e-11,
           7.108980170237411e-11,
           1.1424620744521109e-10,
           1.3324020656631421e-10,
           8.874922836646271e-11,
           2.883938656680367e-11,
           4.981680966722042e-12,
           1.3787494953590233e-13,
           3.8891387210773826e-16,
           1.486962645461956e-19,
           2.741809625062433e-24,
           9.269610493630052e-31,
           5.192581664050192e-39,
           6.746155895218209e-49,
           2.2964241752932905e-60,
           1.3760862781550393e-73,
           2.605287315544589e-85,
           7.071973639054312e-106,
           1.2450313584513274e-18,
           2.429054275736116e-15,
           3.2306965756650814e-13,
           4.680965460824135e-12,
           1.338572315248198e-11,
           1.6064285451060957e-11,
           1.2616740214520029e-11,
           4.319080996097801e-12,
           4.445218143179825e-13,
           5.688845846295422e-15,
           5.8943507951506994e-18,
           7.390715676467032e-22,
           6.3631803094384655e-27,
           1.3532926166953927e-33,
           5.641244714428703e-42,
           1.1435667754222537e-51,
           8.68022976797767e-64,
           2.5971365524168073e-77,
           1.053620100617839e-92,
           4.999532437936166e-110,
           9.436347613344083e-22,
           5.45169500892462e-18,
           1.674893399341877e-15,
           5.670900992928128e-14,
           3.5646752603831345e-13,
           5.937854321008715e-13,
           3.8503308741741103e-13,
           1.0295726496539241e-13,
           4.97590041818587e-15,
           2.812916547765883e-17,
           1.368008494354787e-20,
           5.152982899437856e-25,
           1.3750411650268064e-30,
           1.3950477587507676e-37,
           3.2014940151417125e-46,
           1.5416786101680415e-56,
           1.5038175450036474e-68,
           5.823960122484455e-82,
           7.393149496904491e-97,
           1.6789069083534526e-113,
           3.7253107579561055e-26,
           7.552029506681106e-22,
           7.374952161822112e-19,
           5.907928184211563e-17,
           6.677614404026034e-16,
           1.5768014614432426e-15,
           9.852294385794032e-16,
           1.5640121710381267e-16,
           4.132873389424577e-18,
           1.2187694122571366e-20,
           2.669153886070393e-24,
           3.204109811138262e-29,
           2.1471032989586897e-35,
           7.188541878240812e-43,
           7.63897346504198e-52,
           1.790241715168988e-62,
           1.5003799768427763e-74,
           6.0758226896990186e-89,
           3.7400057238118034e-103,
           9.848979333924728e-123
          ],
          "colorbar": {
           "title": {
            "text": "ColorBar"
           }
          },
          "colorscale": [
           [
            0,
            "#440154"
           ],
           [
            0.1111111111111111,
            "#482878"
           ],
           [
            0.2222222222222222,
            "#3e4989"
           ],
           [
            0.3333333333333333,
            "#31688e"
           ],
           [
            0.4444444444444444,
            "#26828e"
           ],
           [
            0.5555555555555556,
            "#1f9e89"
           ],
           [
            0.6666666666666666,
            "#35b779"
           ],
           [
            0.7777777777777778,
            "#6ece58"
           ],
           [
            0.8888888888888888,
            "#b5de2b"
           ],
           [
            1,
            "#fde725"
           ]
          ],
          "line": {
           "width": 0
          },
          "opacity": 1,
          "size": 25,
          "symbol": "circle"
         },
         "mode": "markers",
         "type": "scatter3d",
         "x": [
          -4.288426936557333,
          -4.288426936557333,
          -4.288426936557333,
          -4.288426936557333,
          -4.288426936557333,
          -4.288426936557333,
          -4.288426936557333,
          -4.288426936557333,
          -4.288426936557333,
          -4.288426936557333,
          -4.288426936557333,
          -4.288426936557333,
          -4.288426936557333,
          -4.288426936557333,
          -4.288426936557333,
          -4.288426936557333,
          -4.288426936557333,
          -4.288426936557333,
          -4.288426936557333,
          -4.288426936557333,
          -3.825437868357836,
          -3.825437868357836,
          -3.825437868357836,
          -3.825437868357836,
          -3.825437868357836,
          -3.825437868357836,
          -3.825437868357836,
          -3.825437868357836,
          -3.825437868357836,
          -3.825437868357836,
          -3.825437868357836,
          -3.825437868357836,
          -3.825437868357836,
          -3.825437868357836,
          -3.825437868357836,
          -3.825437868357836,
          -3.825437868357836,
          -3.825437868357836,
          -3.825437868357836,
          -3.825437868357836,
          -3.3624488001583384,
          -3.3624488001583384,
          -3.3624488001583384,
          -3.3624488001583384,
          -3.3624488001583384,
          -3.3624488001583384,
          -3.3624488001583384,
          -3.3624488001583384,
          -3.3624488001583384,
          -3.3624488001583384,
          -3.3624488001583384,
          -3.3624488001583384,
          -3.3624488001583384,
          -3.3624488001583384,
          -3.3624488001583384,
          -3.3624488001583384,
          -3.3624488001583384,
          -3.3624488001583384,
          -3.3624488001583384,
          -3.3624488001583384,
          -2.8994597319588404,
          -2.8994597319588404,
          -2.8994597319588404,
          -2.8994597319588404,
          -2.8994597319588404,
          -2.8994597319588404,
          -2.8994597319588404,
          -2.8994597319588404,
          -2.8994597319588404,
          -2.8994597319588404,
          -2.8994597319588404,
          -2.8994597319588404,
          -2.8994597319588404,
          -2.8994597319588404,
          -2.8994597319588404,
          -2.8994597319588404,
          -2.8994597319588404,
          -2.8994597319588404,
          -2.8994597319588404,
          -2.8994597319588404,
          -2.4364706637593434,
          -2.4364706637593434,
          -2.4364706637593434,
          -2.4364706637593434,
          -2.4364706637593434,
          -2.4364706637593434,
          -2.4364706637593434,
          -2.4364706637593434,
          -2.4364706637593434,
          -2.4364706637593434,
          -2.4364706637593434,
          -2.4364706637593434,
          -2.4364706637593434,
          -2.4364706637593434,
          -2.4364706637593434,
          -2.4364706637593434,
          -2.4364706637593434,
          -2.4364706637593434,
          -2.4364706637593434,
          -2.4364706637593434,
          -1.9734815955598455,
          -1.9734815955598455,
          -1.9734815955598455,
          -1.9734815955598455,
          -1.9734815955598455,
          -1.9734815955598455,
          -1.9734815955598455,
          -1.9734815955598455,
          -1.9734815955598455,
          -1.9734815955598455,
          -1.9734815955598455,
          -1.9734815955598455,
          -1.9734815955598455,
          -1.9734815955598455,
          -1.9734815955598455,
          -1.9734815955598455,
          -1.9734815955598455,
          -1.9734815955598455,
          -1.9734815955598455,
          -1.9734815955598455,
          -1.510492527360348,
          -1.510492527360348,
          -1.510492527360348,
          -1.510492527360348,
          -1.510492527360348,
          -1.510492527360348,
          -1.510492527360348,
          -1.510492527360348,
          -1.510492527360348,
          -1.510492527360348,
          -1.510492527360348,
          -1.510492527360348,
          -1.510492527360348,
          -1.510492527360348,
          -1.510492527360348,
          -1.510492527360348,
          -1.510492527360348,
          -1.510492527360348,
          -1.510492527360348,
          -1.510492527360348,
          -1.0475034591608505,
          -1.0475034591608505,
          -1.0475034591608505,
          -1.0475034591608505,
          -1.0475034591608505,
          -1.0475034591608505,
          -1.0475034591608505,
          -1.0475034591608505,
          -1.0475034591608505,
          -1.0475034591608505,
          -1.0475034591608505,
          -1.0475034591608505,
          -1.0475034591608505,
          -1.0475034591608505,
          -1.0475034591608505,
          -1.0475034591608505,
          -1.0475034591608505,
          -1.0475034591608505,
          -1.0475034591608505,
          -1.0475034591608505,
          -0.584514390961353,
          -0.584514390961353,
          -0.584514390961353,
          -0.584514390961353,
          -0.584514390961353,
          -0.584514390961353,
          -0.584514390961353,
          -0.584514390961353,
          -0.584514390961353,
          -0.584514390961353,
          -0.584514390961353,
          -0.584514390961353,
          -0.584514390961353,
          -0.584514390961353,
          -0.584514390961353,
          -0.584514390961353,
          -0.584514390961353,
          -0.584514390961353,
          -0.584514390961353,
          -0.584514390961353,
          -0.12152532276185557,
          -0.12152532276185557,
          -0.12152532276185557,
          -0.12152532276185557,
          -0.12152532276185557,
          -0.12152532276185557,
          -0.12152532276185557,
          -0.12152532276185557,
          -0.12152532276185557,
          -0.12152532276185557,
          -0.12152532276185557,
          -0.12152532276185557,
          -0.12152532276185557,
          -0.12152532276185557,
          -0.12152532276185557,
          -0.12152532276185557,
          -0.12152532276185557,
          -0.12152532276185557,
          -0.12152532276185557,
          -0.12152532276185557,
          0.34146374543764235,
          0.34146374543764235,
          0.34146374543764235,
          0.34146374543764235,
          0.34146374543764235,
          0.34146374543764235,
          0.34146374543764235,
          0.34146374543764235,
          0.34146374543764235,
          0.34146374543764235,
          0.34146374543764235,
          0.34146374543764235,
          0.34146374543764235,
          0.34146374543764235,
          0.34146374543764235,
          0.34146374543764235,
          0.34146374543764235,
          0.34146374543764235,
          0.34146374543764235,
          0.34146374543764235,
          0.8044528136371394,
          0.8044528136371394,
          0.8044528136371394,
          0.8044528136371394,
          0.8044528136371394,
          0.8044528136371394,
          0.8044528136371394,
          0.8044528136371394,
          0.8044528136371394,
          0.8044528136371394,
          0.8044528136371394,
          0.8044528136371394,
          0.8044528136371394,
          0.8044528136371394,
          0.8044528136371394,
          0.8044528136371394,
          0.8044528136371394,
          0.8044528136371394,
          0.8044528136371394,
          0.8044528136371394,
          1.2674418818366373,
          1.2674418818366373,
          1.2674418818366373,
          1.2674418818366373,
          1.2674418818366373,
          1.2674418818366373,
          1.2674418818366373,
          1.2674418818366373,
          1.2674418818366373,
          1.2674418818366373,
          1.2674418818366373,
          1.2674418818366373,
          1.2674418818366373,
          1.2674418818366373,
          1.2674418818366373,
          1.2674418818366373,
          1.2674418818366373,
          1.2674418818366373,
          1.2674418818366373,
          1.2674418818366373,
          1.7304309500361343,
          1.7304309500361343,
          1.7304309500361343,
          1.7304309500361343,
          1.7304309500361343,
          1.7304309500361343,
          1.7304309500361343,
          1.7304309500361343,
          1.7304309500361343,
          1.7304309500361343,
          1.7304309500361343,
          1.7304309500361343,
          1.7304309500361343,
          1.7304309500361343,
          1.7304309500361343,
          1.7304309500361343,
          1.7304309500361343,
          1.7304309500361343,
          1.7304309500361343,
          1.7304309500361343,
          2.1934200182356323,
          2.1934200182356323,
          2.1934200182356323,
          2.1934200182356323,
          2.1934200182356323,
          2.1934200182356323,
          2.1934200182356323,
          2.1934200182356323,
          2.1934200182356323,
          2.1934200182356323,
          2.1934200182356323,
          2.1934200182356323,
          2.1934200182356323,
          2.1934200182356323,
          2.1934200182356323,
          2.1934200182356323,
          2.1934200182356323,
          2.1934200182356323,
          2.1934200182356323,
          2.1934200182356323,
          2.6564090864351293,
          2.6564090864351293,
          2.6564090864351293,
          2.6564090864351293,
          2.6564090864351293,
          2.6564090864351293,
          2.6564090864351293,
          2.6564090864351293,
          2.6564090864351293,
          2.6564090864351293,
          2.6564090864351293,
          2.6564090864351293,
          2.6564090864351293,
          2.6564090864351293,
          2.6564090864351293,
          2.6564090864351293,
          2.6564090864351293,
          2.6564090864351293,
          2.6564090864351293,
          2.6564090864351293,
          3.119398154634627,
          3.119398154634627,
          3.119398154634627,
          3.119398154634627,
          3.119398154634627,
          3.119398154634627,
          3.119398154634627,
          3.119398154634627,
          3.119398154634627,
          3.119398154634627,
          3.119398154634627,
          3.119398154634627,
          3.119398154634627,
          3.119398154634627,
          3.119398154634627,
          3.119398154634627,
          3.119398154634627,
          3.119398154634627,
          3.119398154634627,
          3.119398154634627,
          3.582387222834125,
          3.582387222834125,
          3.582387222834125,
          3.582387222834125,
          3.582387222834125,
          3.582387222834125,
          3.582387222834125,
          3.582387222834125,
          3.582387222834125,
          3.582387222834125,
          3.582387222834125,
          3.582387222834125,
          3.582387222834125,
          3.582387222834125,
          3.582387222834125,
          3.582387222834125,
          3.582387222834125,
          3.582387222834125,
          3.582387222834125,
          3.582387222834125,
          4.045376291033622,
          4.045376291033622,
          4.045376291033622,
          4.045376291033622,
          4.045376291033622,
          4.045376291033622,
          4.045376291033622,
          4.045376291033622,
          4.045376291033622,
          4.045376291033622,
          4.045376291033622,
          4.045376291033622,
          4.045376291033622,
          4.045376291033622,
          4.045376291033622,
          4.045376291033622,
          4.045376291033622,
          4.045376291033622,
          4.045376291033622,
          4.045376291033622,
          4.508365359233121,
          4.508365359233121,
          4.508365359233121,
          4.508365359233121,
          4.508365359233121,
          4.508365359233121,
          4.508365359233121,
          4.508365359233121,
          4.508365359233121,
          4.508365359233121,
          4.508365359233121,
          4.508365359233121,
          4.508365359233121,
          4.508365359233121,
          4.508365359233121,
          4.508365359233121,
          4.508365359233121,
          4.508365359233121,
          4.508365359233121,
          4.508365359233121
         ],
         "y": [
          -3.3820125689667955,
          -2.923235716610681,
          -2.4644588642545666,
          -2.005682011898452,
          -1.5469051595423378,
          -1.0881283071862233,
          -0.6293514548301089,
          -0.17057460247399447,
          0.28820224988211995,
          0.7469791022382348,
          1.2057559545943488,
          1.6645328069504628,
          2.1233096593065777,
          2.5820865116626925,
          3.0408633640188065,
          3.4996402163749205,
          3.9584170687310354,
          4.417193921087151,
          4.875970773443266,
          5.334747625799379,
          -3.3820125689667955,
          -2.923235716610681,
          -2.4644588642545666,
          -2.005682011898452,
          -1.5469051595423378,
          -1.0881283071862233,
          -0.6293514548301089,
          -0.17057460247399447,
          0.28820224988211995,
          0.7469791022382348,
          1.2057559545943488,
          1.6645328069504628,
          2.1233096593065777,
          2.5820865116626925,
          3.0408633640188065,
          3.4996402163749205,
          3.9584170687310354,
          4.417193921087151,
          4.875970773443266,
          5.334747625799379,
          -3.3820125689667955,
          -2.923235716610681,
          -2.4644588642545666,
          -2.005682011898452,
          -1.5469051595423378,
          -1.0881283071862233,
          -0.6293514548301089,
          -0.17057460247399447,
          0.28820224988211995,
          0.7469791022382348,
          1.2057559545943488,
          1.6645328069504628,
          2.1233096593065777,
          2.5820865116626925,
          3.0408633640188065,
          3.4996402163749205,
          3.9584170687310354,
          4.417193921087151,
          4.875970773443266,
          5.334747625799379,
          -3.3820125689667955,
          -2.923235716610681,
          -2.4644588642545666,
          -2.005682011898452,
          -1.5469051595423378,
          -1.0881283071862233,
          -0.6293514548301089,
          -0.17057460247399447,
          0.28820224988211995,
          0.7469791022382348,
          1.2057559545943488,
          1.6645328069504628,
          2.1233096593065777,
          2.5820865116626925,
          3.0408633640188065,
          3.4996402163749205,
          3.9584170687310354,
          4.417193921087151,
          4.875970773443266,
          5.334747625799379,
          -3.3820125689667955,
          -2.923235716610681,
          -2.4644588642545666,
          -2.005682011898452,
          -1.5469051595423378,
          -1.0881283071862233,
          -0.6293514548301089,
          -0.17057460247399447,
          0.28820224988211995,
          0.7469791022382348,
          1.2057559545943488,
          1.6645328069504628,
          2.1233096593065777,
          2.5820865116626925,
          3.0408633640188065,
          3.4996402163749205,
          3.9584170687310354,
          4.417193921087151,
          4.875970773443266,
          5.334747625799379,
          -3.3820125689667955,
          -2.923235716610681,
          -2.4644588642545666,
          -2.005682011898452,
          -1.5469051595423378,
          -1.0881283071862233,
          -0.6293514548301089,
          -0.17057460247399447,
          0.28820224988211995,
          0.7469791022382348,
          1.2057559545943488,
          1.6645328069504628,
          2.1233096593065777,
          2.5820865116626925,
          3.0408633640188065,
          3.4996402163749205,
          3.9584170687310354,
          4.417193921087151,
          4.875970773443266,
          5.334747625799379,
          -3.3820125689667955,
          -2.923235716610681,
          -2.4644588642545666,
          -2.005682011898452,
          -1.5469051595423378,
          -1.0881283071862233,
          -0.6293514548301089,
          -0.17057460247399447,
          0.28820224988211995,
          0.7469791022382348,
          1.2057559545943488,
          1.6645328069504628,
          2.1233096593065777,
          2.5820865116626925,
          3.0408633640188065,
          3.4996402163749205,
          3.9584170687310354,
          4.417193921087151,
          4.875970773443266,
          5.334747625799379,
          -3.3820125689667955,
          -2.923235716610681,
          -2.4644588642545666,
          -2.005682011898452,
          -1.5469051595423378,
          -1.0881283071862233,
          -0.6293514548301089,
          -0.17057460247399447,
          0.28820224988211995,
          0.7469791022382348,
          1.2057559545943488,
          1.6645328069504628,
          2.1233096593065777,
          2.5820865116626925,
          3.0408633640188065,
          3.4996402163749205,
          3.9584170687310354,
          4.417193921087151,
          4.875970773443266,
          5.334747625799379,
          -3.3820125689667955,
          -2.923235716610681,
          -2.4644588642545666,
          -2.005682011898452,
          -1.5469051595423378,
          -1.0881283071862233,
          -0.6293514548301089,
          -0.17057460247399447,
          0.28820224988211995,
          0.7469791022382348,
          1.2057559545943488,
          1.6645328069504628,
          2.1233096593065777,
          2.5820865116626925,
          3.0408633640188065,
          3.4996402163749205,
          3.9584170687310354,
          4.417193921087151,
          4.875970773443266,
          5.334747625799379,
          -3.3820125689667955,
          -2.923235716610681,
          -2.4644588642545666,
          -2.005682011898452,
          -1.5469051595423378,
          -1.0881283071862233,
          -0.6293514548301089,
          -0.17057460247399447,
          0.28820224988211995,
          0.7469791022382348,
          1.2057559545943488,
          1.6645328069504628,
          2.1233096593065777,
          2.5820865116626925,
          3.0408633640188065,
          3.4996402163749205,
          3.9584170687310354,
          4.417193921087151,
          4.875970773443266,
          5.334747625799379,
          -3.3820125689667955,
          -2.923235716610681,
          -2.4644588642545666,
          -2.005682011898452,
          -1.5469051595423378,
          -1.0881283071862233,
          -0.6293514548301089,
          -0.17057460247399447,
          0.28820224988211995,
          0.7469791022382348,
          1.2057559545943488,
          1.6645328069504628,
          2.1233096593065777,
          2.5820865116626925,
          3.0408633640188065,
          3.4996402163749205,
          3.9584170687310354,
          4.417193921087151,
          4.875970773443266,
          5.334747625799379,
          -3.3820125689667955,
          -2.923235716610681,
          -2.4644588642545666,
          -2.005682011898452,
          -1.5469051595423378,
          -1.0881283071862233,
          -0.6293514548301089,
          -0.17057460247399447,
          0.28820224988211995,
          0.7469791022382348,
          1.2057559545943488,
          1.6645328069504628,
          2.1233096593065777,
          2.5820865116626925,
          3.0408633640188065,
          3.4996402163749205,
          3.9584170687310354,
          4.417193921087151,
          4.875970773443266,
          5.334747625799379,
          -3.3820125689667955,
          -2.923235716610681,
          -2.4644588642545666,
          -2.005682011898452,
          -1.5469051595423378,
          -1.0881283071862233,
          -0.6293514548301089,
          -0.17057460247399447,
          0.28820224988211995,
          0.7469791022382348,
          1.2057559545943488,
          1.6645328069504628,
          2.1233096593065777,
          2.5820865116626925,
          3.0408633640188065,
          3.4996402163749205,
          3.9584170687310354,
          4.417193921087151,
          4.875970773443266,
          5.334747625799379,
          -3.3820125689667955,
          -2.923235716610681,
          -2.4644588642545666,
          -2.005682011898452,
          -1.5469051595423378,
          -1.0881283071862233,
          -0.6293514548301089,
          -0.17057460247399447,
          0.28820224988211995,
          0.7469791022382348,
          1.2057559545943488,
          1.6645328069504628,
          2.1233096593065777,
          2.5820865116626925,
          3.0408633640188065,
          3.4996402163749205,
          3.9584170687310354,
          4.417193921087151,
          4.875970773443266,
          5.334747625799379,
          -3.3820125689667955,
          -2.923235716610681,
          -2.4644588642545666,
          -2.005682011898452,
          -1.5469051595423378,
          -1.0881283071862233,
          -0.6293514548301089,
          -0.17057460247399447,
          0.28820224988211995,
          0.7469791022382348,
          1.2057559545943488,
          1.6645328069504628,
          2.1233096593065777,
          2.5820865116626925,
          3.0408633640188065,
          3.4996402163749205,
          3.9584170687310354,
          4.417193921087151,
          4.875970773443266,
          5.334747625799379,
          -3.3820125689667955,
          -2.923235716610681,
          -2.4644588642545666,
          -2.005682011898452,
          -1.5469051595423378,
          -1.0881283071862233,
          -0.6293514548301089,
          -0.17057460247399447,
          0.28820224988211995,
          0.7469791022382348,
          1.2057559545943488,
          1.6645328069504628,
          2.1233096593065777,
          2.5820865116626925,
          3.0408633640188065,
          3.4996402163749205,
          3.9584170687310354,
          4.417193921087151,
          4.875970773443266,
          5.334747625799379,
          -3.3820125689667955,
          -2.923235716610681,
          -2.4644588642545666,
          -2.005682011898452,
          -1.5469051595423378,
          -1.0881283071862233,
          -0.6293514548301089,
          -0.17057460247399447,
          0.28820224988211995,
          0.7469791022382348,
          1.2057559545943488,
          1.6645328069504628,
          2.1233096593065777,
          2.5820865116626925,
          3.0408633640188065,
          3.4996402163749205,
          3.9584170687310354,
          4.417193921087151,
          4.875970773443266,
          5.334747625799379,
          -3.3820125689667955,
          -2.923235716610681,
          -2.4644588642545666,
          -2.005682011898452,
          -1.5469051595423378,
          -1.0881283071862233,
          -0.6293514548301089,
          -0.17057460247399447,
          0.28820224988211995,
          0.7469791022382348,
          1.2057559545943488,
          1.6645328069504628,
          2.1233096593065777,
          2.5820865116626925,
          3.0408633640188065,
          3.4996402163749205,
          3.9584170687310354,
          4.417193921087151,
          4.875970773443266,
          5.334747625799379,
          -3.3820125689667955,
          -2.923235716610681,
          -2.4644588642545666,
          -2.005682011898452,
          -1.5469051595423378,
          -1.0881283071862233,
          -0.6293514548301089,
          -0.17057460247399447,
          0.28820224988211995,
          0.7469791022382348,
          1.2057559545943488,
          1.6645328069504628,
          2.1233096593065777,
          2.5820865116626925,
          3.0408633640188065,
          3.4996402163749205,
          3.9584170687310354,
          4.417193921087151,
          4.875970773443266,
          5.334747625799379,
          -3.3820125689667955,
          -2.923235716610681,
          -2.4644588642545666,
          -2.005682011898452,
          -1.5469051595423378,
          -1.0881283071862233,
          -0.6293514548301089,
          -0.17057460247399447,
          0.28820224988211995,
          0.7469791022382348,
          1.2057559545943488,
          1.6645328069504628,
          2.1233096593065777,
          2.5820865116626925,
          3.0408633640188065,
          3.4996402163749205,
          3.9584170687310354,
          4.417193921087151,
          4.875970773443266,
          5.334747625799379
         ],
         "z": [
          1.034224581247772e-124,
          6.646588187723981e-118,
          1.2394709543763421e-108,
          3.1008318297178877e-106,
          4.2574857982810336e-106,
          3.5566060636409588e-102,
          5.176850733910625e-105,
          2.0448131344193678e-106,
          4.2529622464631335e-109,
          1.272483028340018e-108,
          1.93534416928523e-118,
          3.6344288691005036e-125,
          2.033514059210646e-127,
          1.0586497022526896e-136,
          5.347797741252484e-153,
          3.642431912504976e-165,
          6.948176035643681e-174,
          8.410723336813485e-195,
          2.039861804873892e-215,
          3.5198955336827876e-235,
          3.9628748710216745e-103,
          7.004472673836957e-98,
          2.0585378969010594e-94,
          1.047022116399307e-90,
          2.1604880213040503e-86,
          3.8162453913056994e-85,
          1.7348482753462254e-87,
          6.772780280433403e-89,
          1.464500042434443e-88,
          3.774675285704544e-92,
          1.262387913469127e-96,
          6.240673632790578e-107,
          6.482202205460643e-111,
          8.662940352400887e-121,
          9.7204576809354e-135,
          2.3241381218297318e-142,
          5.204403575011385e-155,
          3.841825879840894e-176,
          2.4960384944347655e-187,
          2.655887493728328e-206,
          5.526001826911244e-88,
          4.756918521650323e-83,
          2.7441469270881395e-77,
          2.1678750615232445e-74,
          1.4308866625431973e-72,
          1.1168334364449078e-71,
          5.493107058296183e-72,
          1.1419605324738596e-72,
          2.5095146575832636e-75,
          9.13791145402149e-78,
          2.600992415259703e-84,
          3.134235683869945e-88,
          1.8750046268624866e-95,
          9.350237127067102e-104,
          5.958529980845631e-114,
          6.180387199085104e-130,
          9.547981493419633e-139,
          3.1425762007478254e-153,
          4.707469618093881e-177,
          4.223337671359539e-188,
          1.822521130529517e-74,
          1.8169438017813272e-68,
          7.255348325235815e-64,
          1.2975356159426436e-60,
          1.0792699133328779e-58,
          5.783640680015467e-58,
          2.5984259968850148e-58,
          1.6270172628546566e-59,
          4.7498859860613174e-62,
          3.077680569265919e-65,
          4.7744734724105336e-70,
          4.9248385432846585e-76,
          3.2237865950854133e-81,
          1.0717596531079344e-89,
          1.972636323602974e-102,
          4.444405326175041e-111,
          7.520246835219369e-124,
          5.481025725917641e-143,
          1.465585940651314e-154,
          1.5857555251734834e-177,
          1.855291853724129e-61,
          1.0050249913319328e-55,
          1.99205900166841e-51,
          1.8922898112941203e-48,
          1.1048545125772299e-46,
          4.541318171758246e-46,
          2.064738622493579e-46,
          1.3472108100478918e-47,
          7.945991963843548e-50,
          4.164828990072613e-53,
          1.5204965345362822e-57,
          2.952904477176814e-63,
          3.673612763633669e-70,
          3.7141443190041e-78,
          8.875795081084858e-89,
          1.064394035958241e-98,
          8.196046633999732e-114,
          6.193897528139355e-129,
          7.695112849518535e-146,
          1.347049796960617e-158,
          3.219281929527592e-50,
          8.770534595675825e-45,
          9.121570478243525e-41,
          4.894158736619451e-38,
          1.9107033106664054e-36,
          7.307653688239415e-36,
          3.6182094127423026e-36,
          2.4964555591582085e-37,
          1.977089562818103e-39,
          1.5236022445770426e-42,
          9.289487394725354e-47,
          3.605771115614492e-52,
          7.227774052356983e-59,
          9.176832712673314e-67,
          7.89853144831645e-77,
          3.1434468233066074e-88,
          2.4852088557961726e-101,
          5.1943611649612755e-113,
          1.611547174653602e-128,
          4.838962371624643e-150,
          9.834939968202373e-41,
          1.2997507511215464e-35,
          6.912815489741736e-32,
          2.0394595585450922e-29,
          4.95130600324373e-28,
          1.4775418319258898e-27,
          7.102905650093439e-28,
          5.833018346239088e-29,
          7.036361161727424e-31,
          9.857894273035754e-34,
          1.2408581546407926e-37,
          1.0189738225892283e-42,
          3.827454328205593e-49,
          4.930230860637805e-57,
          1.798342160863645e-66,
          3.3991909446219895e-77,
          1.474784098776325e-89,
          5.520368054021142e-103,
          4.189425668827185e-118,
          1.4101537795528871e-139,
          5.871039084353575e-33,
          3.5476713634051043e-28,
          9.111386254472843e-25,
          1.4054151835704337e-22,
          1.9691125177363194e-21,
          3.9933431508575386e-21,
          1.7602930984085454e-21,
          2.041410480583556e-22,
          4.80194163219488e-24,
          1.499781431587739e-26,
          4.215798958849342e-30,
          7.206066644720711e-35,
          5.234616812964629e-41,
          1.2121321633479387e-48,
          7.20244588873025e-58,
          9.371166569558374e-69,
          2.3984037259578497e-81,
          1.1069432070727553e-95,
          8.43864423099642e-112,
          8.827330155316674e-130,
          7.900841845146599e-27,
          2.0227261669283287e-22,
          2.309708371033199e-19,
          1.7487494000277924e-17,
          1.3963141117337472e-16,
          2.0122006208814914e-16,
          8.436154733555806e-17,
          1.7288147511125096e-17,
          8.959115512186487e-19,
          6.248568285084959e-21,
          3.837171720803478e-24,
          1.3753477374642074e-28,
          1.990423121577739e-34,
          8.707076643899216e-42,
          9.333623472481406e-51,
          2.174299194167286e-61,
          9.34773154276394e-74,
          7.44909189063798e-88,
          1.6203123313950032e-101,
          7.116037294057572e-118,
          3.028632245775979e-22,
          3.1159431540163884e-18,
          1.5226548169510009e-15,
          5.852054398419524e-14,
          3.1127590259256844e-13,
          4.008373901219963e-13,
          2.0111955214473097e-13,
          5.352817816916529e-14,
          4.880690302052804e-15,
          7.287013637861691e-17,
          1.0248997763841886e-19,
          8.298468029452842e-24,
          2.5080664454284646e-29,
          2.0977598078010276e-36,
          3.975455639597763e-45,
          1.502023337966982e-55,
          1.0648919176516422e-67,
          1.4146690695069345e-81,
          3.344558590731596e-97,
          1.1446587265675057e-114,
          5.380195976012723e-19,
          2.4942750752002315e-15,
          6.357580357634138e-13,
          1.562569305674632e-11,
          6.398702943343361e-11,
          7.250141338422156e-11,
          3.7845392690506645e-11,
          1.0073633954312798e-11,
          1.060094854010689e-12,
          2.978818468397998e-14,
          1.0376313499820592e-16,
          2.0889962552290738e-20,
          1.3523732349080925e-25,
          2.131687938855642e-32,
          6.868795384672589e-41,
          4.0439827783080936e-51,
          4.133753824313761e-63,
          8.320811749276032e-77,
          2.554527072904306e-90,
          2.2429204946326495e-109,
          1.054021182383426e-16,
          2.7250209678044963e-13,
          3.816420677920018e-11,
          4.957470917005733e-10,
          1.2261678419483878e-09,
          9.798672975444943e-10,
          4.956608359696253e-10,
          1.6938026990546978e-10,
          2.1114008203532852e-11,
          8.485225867961029e-13,
          6.854451065244372e-15,
          3.2302195499583667e-18,
          4.2684192341256324e-23,
          1.19003842401635e-29,
          6.140470837044567e-38,
          5.4357628149848084e-48,
          7.545605307266228e-60,
          1.7907043885965853e-73,
          1.7245198216244839e-88,
          2.8313284930181675e-102,
          3.4369357517934076e-15,
          5.195123619459836e-12,
          3.9035153844677503e-10,
          2.6600535473993715e-09,
          4.4017752121679465e-09,
          2.3792046674760066e-09,
          8.424482606002704e-10,
          3.2262895167793135e-10,
          6.296464798888827e-11,
          3.5210659320230915e-12,
          4.811551026320933e-14,
          4.636876709956862e-17,
          1.1051069579381333e-21,
          4.765378663271376e-28,
          3.526583312521879e-36,
          4.6557594905474805e-46,
          1.1031484638990836e-57,
          5.152892069204751e-71,
          5.210766870020565e-86,
          8.561133286453035e-103,
          1.7030119763291527e-14,
          1.8550079398642045e-11,
          1.0027059856145277e-09,
          5.174452138357927e-09,
          6.361995010661016e-09,
          2.767246155068968e-09,
          8.99990863444471e-10,
          3.1507992285945493e-10,
          5.073693641178775e-11,
          3.789743998667335e-12,
          6.60302700624713e-14,
          9.605866710794724e-17,
          3.320991364613923e-21,
          1.7727202154885092e-27,
          1.4992489472826566e-35,
          2.6192547907664625e-45,
          1.333353561163522e-56,
          7.823638629193461e-70,
          9.086905885371022e-85,
          1.1820584014419599e-101,
          1.3969408049833947e-14,
          1.3888579416048975e-11,
          7.160435811751258e-10,
          3.76115407571809e-09,
          4.319316042343546e-09,
          1.6742819660752092e-09,
          6.591171380888575e-10,
          2.450287144909386e-10,
          3.69451675924806e-11,
          2.005883059793096e-12,
          3.183707012105005e-14,
          4.392275894798205e-17,
          1.615665775097372e-21,
          8.24441614821054e-28,
          5.5065727282220724e-36,
          9.538738958496586e-46,
          6.401264751384892e-57,
          7.572610118562745e-69,
          7.833523589814692e-85,
          3.5771122376119456e-101,
          2.8564585570740582e-15,
          2.541777542170285e-12,
          1.472058445637705e-10,
          8.215041709392356e-10,
          1.2207245867131404e-09,
          6.752850817923256e-10,
          3.2249438221524434e-10,
          1.2961811675540244e-10,
          2.0948592433749804e-11,
          7.900104465808287e-13,
          6.1082029892648175e-15,
          5.316082601805894e-18,
          1.5583403079556949e-22,
          6.709484448877006e-29,
          3.5708186242554587e-37,
          5.088201775030907e-47,
          3.764023451518306e-58,
          3.5524091627224375e-71,
          3.7254465207116106e-86,
          1.2760389817986197e-102,
          1.4901094599370726e-16,
          1.4385746108047873e-13,
          1.1286371504338712e-11,
          7.108980170237411e-11,
          1.1424620744521109e-10,
          1.3324020656631421e-10,
          8.874922836646271e-11,
          2.883938656680367e-11,
          4.981680966722042e-12,
          1.3787494953590233e-13,
          3.8891387210773826e-16,
          1.486962645461956e-19,
          2.741809625062433e-24,
          9.269610493630052e-31,
          5.192581664050192e-39,
          6.746155895218209e-49,
          2.2964241752932905e-60,
          1.3760862781550393e-73,
          2.605287315544589e-85,
          7.071973639054312e-106,
          1.2450313584513274e-18,
          2.429054275736116e-15,
          3.2306965756650814e-13,
          4.680965460824135e-12,
          1.338572315248198e-11,
          1.6064285451060957e-11,
          1.2616740214520029e-11,
          4.319080996097801e-12,
          4.445218143179825e-13,
          5.688845846295422e-15,
          5.8943507951506994e-18,
          7.390715676467032e-22,
          6.3631803094384655e-27,
          1.3532926166953927e-33,
          5.641244714428703e-42,
          1.1435667754222537e-51,
          8.68022976797767e-64,
          2.5971365524168073e-77,
          1.053620100617839e-92,
          4.999532437936166e-110,
          9.436347613344083e-22,
          5.45169500892462e-18,
          1.674893399341877e-15,
          5.670900992928128e-14,
          3.5646752603831345e-13,
          5.937854321008715e-13,
          3.8503308741741103e-13,
          1.0295726496539241e-13,
          4.97590041818587e-15,
          2.812916547765883e-17,
          1.368008494354787e-20,
          5.152982899437856e-25,
          1.3750411650268064e-30,
          1.3950477587507676e-37,
          3.2014940151417125e-46,
          1.5416786101680415e-56,
          1.5038175450036474e-68,
          5.823960122484455e-82,
          7.393149496904491e-97,
          1.6789069083534526e-113,
          3.7253107579561055e-26,
          7.552029506681106e-22,
          7.374952161822112e-19,
          5.907928184211563e-17,
          6.677614404026034e-16,
          1.5768014614432426e-15,
          9.852294385794032e-16,
          1.5640121710381267e-16,
          4.132873389424577e-18,
          1.2187694122571366e-20,
          2.669153886070393e-24,
          3.204109811138262e-29,
          2.1471032989586897e-35,
          7.188541878240812e-43,
          7.63897346504198e-52,
          1.790241715168988e-62,
          1.5003799768427763e-74,
          6.0758226896990186e-89,
          3.7400057238118034e-103,
          9.848979333924728e-123
         ]
        }
       ],
       "layout": {
        "template": {
         "data": {
          "bar": [
           {
            "error_x": {
             "color": "#2a3f5f"
            },
            "error_y": {
             "color": "#2a3f5f"
            },
            "marker": {
             "line": {
              "color": "#E5ECF6",
              "width": 0.5
             }
            },
            "type": "bar"
           }
          ],
          "barpolar": [
           {
            "marker": {
             "line": {
              "color": "#E5ECF6",
              "width": 0.5
             }
            },
            "type": "barpolar"
           }
          ],
          "carpet": [
           {
            "aaxis": {
             "endlinecolor": "#2a3f5f",
             "gridcolor": "white",
             "linecolor": "white",
             "minorgridcolor": "white",
             "startlinecolor": "#2a3f5f"
            },
            "baxis": {
             "endlinecolor": "#2a3f5f",
             "gridcolor": "white",
             "linecolor": "white",
             "minorgridcolor": "white",
             "startlinecolor": "#2a3f5f"
            },
            "type": "carpet"
           }
          ],
          "choropleth": [
           {
            "colorbar": {
             "outlinewidth": 0,
             "ticks": ""
            },
            "type": "choropleth"
           }
          ],
          "contour": [
           {
            "colorbar": {
             "outlinewidth": 0,
             "ticks": ""
            },
            "colorscale": [
             [
              0,
              "#0d0887"
             ],
             [
              0.1111111111111111,
              "#46039f"
             ],
             [
              0.2222222222222222,
              "#7201a8"
             ],
             [
              0.3333333333333333,
              "#9c179e"
             ],
             [
              0.4444444444444444,
              "#bd3786"
             ],
             [
              0.5555555555555556,
              "#d8576b"
             ],
             [
              0.6666666666666666,
              "#ed7953"
             ],
             [
              0.7777777777777778,
              "#fb9f3a"
             ],
             [
              0.8888888888888888,
              "#fdca26"
             ],
             [
              1,
              "#f0f921"
             ]
            ],
            "type": "contour"
           }
          ],
          "contourcarpet": [
           {
            "colorbar": {
             "outlinewidth": 0,
             "ticks": ""
            },
            "type": "contourcarpet"
           }
          ],
          "heatmap": [
           {
            "colorbar": {
             "outlinewidth": 0,
             "ticks": ""
            },
            "colorscale": [
             [
              0,
              "#0d0887"
             ],
             [
              0.1111111111111111,
              "#46039f"
             ],
             [
              0.2222222222222222,
              "#7201a8"
             ],
             [
              0.3333333333333333,
              "#9c179e"
             ],
             [
              0.4444444444444444,
              "#bd3786"
             ],
             [
              0.5555555555555556,
              "#d8576b"
             ],
             [
              0.6666666666666666,
              "#ed7953"
             ],
             [
              0.7777777777777778,
              "#fb9f3a"
             ],
             [
              0.8888888888888888,
              "#fdca26"
             ],
             [
              1,
              "#f0f921"
             ]
            ],
            "type": "heatmap"
           }
          ],
          "heatmapgl": [
           {
            "colorbar": {
             "outlinewidth": 0,
             "ticks": ""
            },
            "colorscale": [
             [
              0,
              "#0d0887"
             ],
             [
              0.1111111111111111,
              "#46039f"
             ],
             [
              0.2222222222222222,
              "#7201a8"
             ],
             [
              0.3333333333333333,
              "#9c179e"
             ],
             [
              0.4444444444444444,
              "#bd3786"
             ],
             [
              0.5555555555555556,
              "#d8576b"
             ],
             [
              0.6666666666666666,
              "#ed7953"
             ],
             [
              0.7777777777777778,
              "#fb9f3a"
             ],
             [
              0.8888888888888888,
              "#fdca26"
             ],
             [
              1,
              "#f0f921"
             ]
            ],
            "type": "heatmapgl"
           }
          ],
          "histogram": [
           {
            "marker": {
             "colorbar": {
              "outlinewidth": 0,
              "ticks": ""
             }
            },
            "type": "histogram"
           }
          ],
          "histogram2d": [
           {
            "colorbar": {
             "outlinewidth": 0,
             "ticks": ""
            },
            "colorscale": [
             [
              0,
              "#0d0887"
             ],
             [
              0.1111111111111111,
              "#46039f"
             ],
             [
              0.2222222222222222,
              "#7201a8"
             ],
             [
              0.3333333333333333,
              "#9c179e"
             ],
             [
              0.4444444444444444,
              "#bd3786"
             ],
             [
              0.5555555555555556,
              "#d8576b"
             ],
             [
              0.6666666666666666,
              "#ed7953"
             ],
             [
              0.7777777777777778,
              "#fb9f3a"
             ],
             [
              0.8888888888888888,
              "#fdca26"
             ],
             [
              1,
              "#f0f921"
             ]
            ],
            "type": "histogram2d"
           }
          ],
          "histogram2dcontour": [
           {
            "colorbar": {
             "outlinewidth": 0,
             "ticks": ""
            },
            "colorscale": [
             [
              0,
              "#0d0887"
             ],
             [
              0.1111111111111111,
              "#46039f"
             ],
             [
              0.2222222222222222,
              "#7201a8"
             ],
             [
              0.3333333333333333,
              "#9c179e"
             ],
             [
              0.4444444444444444,
              "#bd3786"
             ],
             [
              0.5555555555555556,
              "#d8576b"
             ],
             [
              0.6666666666666666,
              "#ed7953"
             ],
             [
              0.7777777777777778,
              "#fb9f3a"
             ],
             [
              0.8888888888888888,
              "#fdca26"
             ],
             [
              1,
              "#f0f921"
             ]
            ],
            "type": "histogram2dcontour"
           }
          ],
          "mesh3d": [
           {
            "colorbar": {
             "outlinewidth": 0,
             "ticks": ""
            },
            "type": "mesh3d"
           }
          ],
          "parcoords": [
           {
            "line": {
             "colorbar": {
              "outlinewidth": 0,
              "ticks": ""
             }
            },
            "type": "parcoords"
           }
          ],
          "pie": [
           {
            "automargin": true,
            "type": "pie"
           }
          ],
          "scatter": [
           {
            "marker": {
             "colorbar": {
              "outlinewidth": 0,
              "ticks": ""
             }
            },
            "type": "scatter"
           }
          ],
          "scatter3d": [
           {
            "line": {
             "colorbar": {
              "outlinewidth": 0,
              "ticks": ""
             }
            },
            "marker": {
             "colorbar": {
              "outlinewidth": 0,
              "ticks": ""
             }
            },
            "type": "scatter3d"
           }
          ],
          "scattercarpet": [
           {
            "marker": {
             "colorbar": {
              "outlinewidth": 0,
              "ticks": ""
             }
            },
            "type": "scattercarpet"
           }
          ],
          "scattergeo": [
           {
            "marker": {
             "colorbar": {
              "outlinewidth": 0,
              "ticks": ""
             }
            },
            "type": "scattergeo"
           }
          ],
          "scattergl": [
           {
            "marker": {
             "colorbar": {
              "outlinewidth": 0,
              "ticks": ""
             }
            },
            "type": "scattergl"
           }
          ],
          "scattermapbox": [
           {
            "marker": {
             "colorbar": {
              "outlinewidth": 0,
              "ticks": ""
             }
            },
            "type": "scattermapbox"
           }
          ],
          "scatterpolar": [
           {
            "marker": {
             "colorbar": {
              "outlinewidth": 0,
              "ticks": ""
             }
            },
            "type": "scatterpolar"
           }
          ],
          "scatterpolargl": [
           {
            "marker": {
             "colorbar": {
              "outlinewidth": 0,
              "ticks": ""
             }
            },
            "type": "scatterpolargl"
           }
          ],
          "scatterternary": [
           {
            "marker": {
             "colorbar": {
              "outlinewidth": 0,
              "ticks": ""
             }
            },
            "type": "scatterternary"
           }
          ],
          "surface": [
           {
            "colorbar": {
             "outlinewidth": 0,
             "ticks": ""
            },
            "colorscale": [
             [
              0,
              "#0d0887"
             ],
             [
              0.1111111111111111,
              "#46039f"
             ],
             [
              0.2222222222222222,
              "#7201a8"
             ],
             [
              0.3333333333333333,
              "#9c179e"
             ],
             [
              0.4444444444444444,
              "#bd3786"
             ],
             [
              0.5555555555555556,
              "#d8576b"
             ],
             [
              0.6666666666666666,
              "#ed7953"
             ],
             [
              0.7777777777777778,
              "#fb9f3a"
             ],
             [
              0.8888888888888888,
              "#fdca26"
             ],
             [
              1,
              "#f0f921"
             ]
            ],
            "type": "surface"
           }
          ],
          "table": [
           {
            "cells": {
             "fill": {
              "color": "#EBF0F8"
             },
             "line": {
              "color": "white"
             }
            },
            "header": {
             "fill": {
              "color": "#C8D4E3"
             },
             "line": {
              "color": "white"
             }
            },
            "type": "table"
           }
          ]
         },
         "layout": {
          "annotationdefaults": {
           "arrowcolor": "#2a3f5f",
           "arrowhead": 0,
           "arrowwidth": 1
          },
          "coloraxis": {
           "colorbar": {
            "outlinewidth": 0,
            "ticks": ""
           }
          },
          "colorscale": {
           "diverging": [
            [
             0,
             "#8e0152"
            ],
            [
             0.1,
             "#c51b7d"
            ],
            [
             0.2,
             "#de77ae"
            ],
            [
             0.3,
             "#f1b6da"
            ],
            [
             0.4,
             "#fde0ef"
            ],
            [
             0.5,
             "#f7f7f7"
            ],
            [
             0.6,
             "#e6f5d0"
            ],
            [
             0.7,
             "#b8e186"
            ],
            [
             0.8,
             "#7fbc41"
            ],
            [
             0.9,
             "#4d9221"
            ],
            [
             1,
             "#276419"
            ]
           ],
           "sequential": [
            [
             0,
             "#0d0887"
            ],
            [
             0.1111111111111111,
             "#46039f"
            ],
            [
             0.2222222222222222,
             "#7201a8"
            ],
            [
             0.3333333333333333,
             "#9c179e"
            ],
            [
             0.4444444444444444,
             "#bd3786"
            ],
            [
             0.5555555555555556,
             "#d8576b"
            ],
            [
             0.6666666666666666,
             "#ed7953"
            ],
            [
             0.7777777777777778,
             "#fb9f3a"
            ],
            [
             0.8888888888888888,
             "#fdca26"
            ],
            [
             1,
             "#f0f921"
            ]
           ],
           "sequentialminus": [
            [
             0,
             "#0d0887"
            ],
            [
             0.1111111111111111,
             "#46039f"
            ],
            [
             0.2222222222222222,
             "#7201a8"
            ],
            [
             0.3333333333333333,
             "#9c179e"
            ],
            [
             0.4444444444444444,
             "#bd3786"
            ],
            [
             0.5555555555555556,
             "#d8576b"
            ],
            [
             0.6666666666666666,
             "#ed7953"
            ],
            [
             0.7777777777777778,
             "#fb9f3a"
            ],
            [
             0.8888888888888888,
             "#fdca26"
            ],
            [
             1,
             "#f0f921"
            ]
           ]
          },
          "colorway": [
           "#636efa",
           "#EF553B",
           "#00cc96",
           "#ab63fa",
           "#FFA15A",
           "#19d3f3",
           "#FF6692",
           "#B6E880",
           "#FF97FF",
           "#FECB52"
          ],
          "font": {
           "color": "#2a3f5f"
          },
          "geo": {
           "bgcolor": "white",
           "lakecolor": "white",
           "landcolor": "#E5ECF6",
           "showlakes": true,
           "showland": true,
           "subunitcolor": "white"
          },
          "hoverlabel": {
           "align": "left"
          },
          "hovermode": "closest",
          "mapbox": {
           "style": "light"
          },
          "paper_bgcolor": "white",
          "plot_bgcolor": "#E5ECF6",
          "polar": {
           "angularaxis": {
            "gridcolor": "white",
            "linecolor": "white",
            "ticks": ""
           },
           "bgcolor": "#E5ECF6",
           "radialaxis": {
            "gridcolor": "white",
            "linecolor": "white",
            "ticks": ""
           }
          },
          "scene": {
           "xaxis": {
            "backgroundcolor": "#E5ECF6",
            "gridcolor": "white",
            "gridwidth": 2,
            "linecolor": "white",
            "showbackground": true,
            "ticks": "",
            "zerolinecolor": "white"
           },
           "yaxis": {
            "backgroundcolor": "#E5ECF6",
            "gridcolor": "white",
            "gridwidth": 2,
            "linecolor": "white",
            "showbackground": true,
            "ticks": "",
            "zerolinecolor": "white"
           },
           "zaxis": {
            "backgroundcolor": "#E5ECF6",
            "gridcolor": "white",
            "gridwidth": 2,
            "linecolor": "white",
            "showbackground": true,
            "ticks": "",
            "zerolinecolor": "white"
           }
          },
          "shapedefaults": {
           "line": {
            "color": "#2a3f5f"
           }
          },
          "ternary": {
           "aaxis": {
            "gridcolor": "white",
            "linecolor": "white",
            "ticks": ""
           },
           "baxis": {
            "gridcolor": "white",
            "linecolor": "white",
            "ticks": ""
           },
           "bgcolor": "#E5ECF6",
           "caxis": {
            "gridcolor": "white",
            "linecolor": "white",
            "ticks": ""
           }
          },
          "title": {
           "x": 0.05
          },
          "xaxis": {
           "automargin": true,
           "gridcolor": "white",
           "linecolor": "white",
           "ticks": "",
           "title": {
            "standoff": 15
           },
           "zerolinecolor": "white",
           "zerolinewidth": 2
          },
          "yaxis": {
           "automargin": true,
           "gridcolor": "white",
           "linecolor": "white",
           "ticks": "",
           "title": {
            "standoff": 15
           },
           "zerolinecolor": "white",
           "zerolinewidth": 2
          }
         }
        }
       }
      },
      "text/html": [
       "<div>\n",
       "        \n",
       "        \n",
       "            <div id=\"dab0797a-7457-4453-882f-810f03f7b47d\" class=\"plotly-graph-div\" style=\"height:525px; width:100%;\"></div>\n",
       "            <script type=\"text/javascript\">\n",
       "                require([\"plotly\"], function(Plotly) {\n",
       "                    window.PLOTLYENV=window.PLOTLYENV || {};\n",
       "                    \n",
       "                if (document.getElementById(\"dab0797a-7457-4453-882f-810f03f7b47d\")) {\n",
       "                    Plotly.newPlot(\n",
       "                        'dab0797a-7457-4453-882f-810f03f7b47d',\n",
       "                        [{\"marker\": {\"color\": [1.034224581247772e-124, 6.646588187723981e-118, 1.2394709543763421e-108, 3.1008318297178877e-106, 4.2574857982810336e-106, 3.5566060636409588e-102, 5.176850733910625e-105, 2.0448131344193678e-106, 4.2529622464631335e-109, 1.272483028340018e-108, 1.93534416928523e-118, 3.6344288691005036e-125, 2.033514059210646e-127, 1.0586497022526896e-136, 5.347797741252484e-153, 3.642431912504976e-165, 6.948176035643681e-174, 8.410723336813485e-195, 2.039861804873892e-215, 3.5198955336827876e-235, 3.9628748710216745e-103, 7.004472673836957e-98, 2.0585378969010594e-94, 1.047022116399307e-90, 2.1604880213040503e-86, 3.8162453913056994e-85, 1.7348482753462254e-87, 6.772780280433403e-89, 1.464500042434443e-88, 3.774675285704544e-92, 1.262387913469127e-96, 6.240673632790578e-107, 6.482202205460643e-111, 8.662940352400887e-121, 9.7204576809354e-135, 2.3241381218297318e-142, 5.204403575011385e-155, 3.841825879840894e-176, 2.4960384944347655e-187, 2.655887493728328e-206, 5.526001826911244e-88, 4.756918521650323e-83, 2.7441469270881395e-77, 2.1678750615232445e-74, 1.4308866625431973e-72, 1.1168334364449078e-71, 5.493107058296183e-72, 1.1419605324738596e-72, 2.5095146575832636e-75, 9.13791145402149e-78, 2.600992415259703e-84, 3.134235683869945e-88, 1.8750046268624866e-95, 9.350237127067102e-104, 5.958529980845631e-114, 6.180387199085104e-130, 9.547981493419633e-139, 3.1425762007478254e-153, 4.707469618093881e-177, 4.223337671359539e-188, 1.822521130529517e-74, 1.8169438017813272e-68, 7.255348325235815e-64, 1.2975356159426436e-60, 1.0792699133328779e-58, 5.783640680015467e-58, 2.5984259968850148e-58, 1.6270172628546566e-59, 4.7498859860613174e-62, 3.077680569265919e-65, 4.7744734724105336e-70, 4.9248385432846585e-76, 3.2237865950854133e-81, 1.0717596531079344e-89, 1.972636323602974e-102, 4.444405326175041e-111, 7.520246835219369e-124, 5.481025725917641e-143, 1.465585940651314e-154, 1.5857555251734834e-177, 1.855291853724129e-61, 1.0050249913319328e-55, 1.99205900166841e-51, 1.8922898112941203e-48, 1.1048545125772299e-46, 4.541318171758246e-46, 2.064738622493579e-46, 1.3472108100478918e-47, 7.945991963843548e-50, 4.164828990072613e-53, 1.5204965345362822e-57, 2.952904477176814e-63, 3.673612763633669e-70, 3.7141443190041e-78, 8.875795081084858e-89, 1.064394035958241e-98, 8.196046633999732e-114, 6.193897528139355e-129, 7.695112849518535e-146, 1.347049796960617e-158, 3.219281929527592e-50, 8.770534595675825e-45, 9.121570478243525e-41, 4.894158736619451e-38, 1.9107033106664054e-36, 7.307653688239415e-36, 3.6182094127423026e-36, 2.4964555591582085e-37, 1.977089562818103e-39, 1.5236022445770426e-42, 9.289487394725354e-47, 3.605771115614492e-52, 7.227774052356983e-59, 9.176832712673314e-67, 7.89853144831645e-77, 3.1434468233066074e-88, 2.4852088557961726e-101, 5.1943611649612755e-113, 1.611547174653602e-128, 4.838962371624643e-150, 9.834939968202373e-41, 1.2997507511215464e-35, 6.912815489741736e-32, 2.0394595585450922e-29, 4.95130600324373e-28, 1.4775418319258898e-27, 7.102905650093439e-28, 5.833018346239088e-29, 7.036361161727424e-31, 9.857894273035754e-34, 1.2408581546407926e-37, 1.0189738225892283e-42, 3.827454328205593e-49, 4.930230860637805e-57, 1.798342160863645e-66, 3.3991909446219895e-77, 1.474784098776325e-89, 5.520368054021142e-103, 4.189425668827185e-118, 1.4101537795528871e-139, 5.871039084353575e-33, 3.5476713634051043e-28, 9.111386254472843e-25, 1.4054151835704337e-22, 1.9691125177363194e-21, 3.9933431508575386e-21, 1.7602930984085454e-21, 2.041410480583556e-22, 4.80194163219488e-24, 1.499781431587739e-26, 4.215798958849342e-30, 7.206066644720711e-35, 5.234616812964629e-41, 1.2121321633479387e-48, 7.20244588873025e-58, 9.371166569558374e-69, 2.3984037259578497e-81, 1.1069432070727553e-95, 8.43864423099642e-112, 8.827330155316674e-130, 7.900841845146599e-27, 2.0227261669283287e-22, 2.309708371033199e-19, 1.7487494000277924e-17, 1.3963141117337472e-16, 2.0122006208814914e-16, 8.436154733555806e-17, 1.7288147511125096e-17, 8.959115512186487e-19, 6.248568285084959e-21, 3.837171720803478e-24, 1.3753477374642074e-28, 1.990423121577739e-34, 8.707076643899216e-42, 9.333623472481406e-51, 2.174299194167286e-61, 9.34773154276394e-74, 7.44909189063798e-88, 1.6203123313950032e-101, 7.116037294057572e-118, 3.028632245775979e-22, 3.1159431540163884e-18, 1.5226548169510009e-15, 5.852054398419524e-14, 3.1127590259256844e-13, 4.008373901219963e-13, 2.0111955214473097e-13, 5.352817816916529e-14, 4.880690302052804e-15, 7.287013637861691e-17, 1.0248997763841886e-19, 8.298468029452842e-24, 2.5080664454284646e-29, 2.0977598078010276e-36, 3.975455639597763e-45, 1.502023337966982e-55, 1.0648919176516422e-67, 1.4146690695069345e-81, 3.344558590731596e-97, 1.1446587265675057e-114, 5.380195976012723e-19, 2.4942750752002315e-15, 6.357580357634138e-13, 1.562569305674632e-11, 6.398702943343361e-11, 7.250141338422156e-11, 3.7845392690506645e-11, 1.0073633954312798e-11, 1.060094854010689e-12, 2.978818468397998e-14, 1.0376313499820592e-16, 2.0889962552290738e-20, 1.3523732349080925e-25, 2.131687938855642e-32, 6.868795384672589e-41, 4.0439827783080936e-51, 4.133753824313761e-63, 8.320811749276032e-77, 2.554527072904306e-90, 2.2429204946326495e-109, 1.054021182383426e-16, 2.7250209678044963e-13, 3.816420677920018e-11, 4.957470917005733e-10, 1.2261678419483878e-09, 9.798672975444943e-10, 4.956608359696253e-10, 1.6938026990546978e-10, 2.1114008203532852e-11, 8.485225867961029e-13, 6.854451065244372e-15, 3.2302195499583667e-18, 4.2684192341256324e-23, 1.19003842401635e-29, 6.140470837044567e-38, 5.4357628149848084e-48, 7.545605307266228e-60, 1.7907043885965853e-73, 1.7245198216244839e-88, 2.8313284930181675e-102, 3.4369357517934076e-15, 5.195123619459836e-12, 3.9035153844677503e-10, 2.6600535473993715e-09, 4.4017752121679465e-09, 2.3792046674760066e-09, 8.424482606002704e-10, 3.2262895167793135e-10, 6.296464798888827e-11, 3.5210659320230915e-12, 4.811551026320933e-14, 4.636876709956862e-17, 1.1051069579381333e-21, 4.765378663271376e-28, 3.526583312521879e-36, 4.6557594905474805e-46, 1.1031484638990836e-57, 5.152892069204751e-71, 5.210766870020565e-86, 8.561133286453035e-103, 1.7030119763291527e-14, 1.8550079398642045e-11, 1.0027059856145277e-09, 5.174452138357927e-09, 6.361995010661016e-09, 2.767246155068968e-09, 8.99990863444471e-10, 3.1507992285945493e-10, 5.073693641178775e-11, 3.789743998667335e-12, 6.60302700624713e-14, 9.605866710794724e-17, 3.320991364613923e-21, 1.7727202154885092e-27, 1.4992489472826566e-35, 2.6192547907664625e-45, 1.333353561163522e-56, 7.823638629193461e-70, 9.086905885371022e-85, 1.1820584014419599e-101, 1.3969408049833947e-14, 1.3888579416048975e-11, 7.160435811751258e-10, 3.76115407571809e-09, 4.319316042343546e-09, 1.6742819660752092e-09, 6.591171380888575e-10, 2.450287144909386e-10, 3.69451675924806e-11, 2.005883059793096e-12, 3.183707012105005e-14, 4.392275894798205e-17, 1.615665775097372e-21, 8.24441614821054e-28, 5.5065727282220724e-36, 9.538738958496586e-46, 6.401264751384892e-57, 7.572610118562745e-69, 7.833523589814692e-85, 3.5771122376119456e-101, 2.8564585570740582e-15, 2.541777542170285e-12, 1.472058445637705e-10, 8.215041709392356e-10, 1.2207245867131404e-09, 6.752850817923256e-10, 3.2249438221524434e-10, 1.2961811675540244e-10, 2.0948592433749804e-11, 7.900104465808287e-13, 6.1082029892648175e-15, 5.316082601805894e-18, 1.5583403079556949e-22, 6.709484448877006e-29, 3.5708186242554587e-37, 5.088201775030907e-47, 3.764023451518306e-58, 3.5524091627224375e-71, 3.7254465207116106e-86, 1.2760389817986197e-102, 1.4901094599370726e-16, 1.4385746108047873e-13, 1.1286371504338712e-11, 7.108980170237411e-11, 1.1424620744521109e-10, 1.3324020656631421e-10, 8.874922836646271e-11, 2.883938656680367e-11, 4.981680966722042e-12, 1.3787494953590233e-13, 3.8891387210773826e-16, 1.486962645461956e-19, 2.741809625062433e-24, 9.269610493630052e-31, 5.192581664050192e-39, 6.746155895218209e-49, 2.2964241752932905e-60, 1.3760862781550393e-73, 2.605287315544589e-85, 7.071973639054312e-106, 1.2450313584513274e-18, 2.429054275736116e-15, 3.2306965756650814e-13, 4.680965460824135e-12, 1.338572315248198e-11, 1.6064285451060957e-11, 1.2616740214520029e-11, 4.319080996097801e-12, 4.445218143179825e-13, 5.688845846295422e-15, 5.8943507951506994e-18, 7.390715676467032e-22, 6.3631803094384655e-27, 1.3532926166953927e-33, 5.641244714428703e-42, 1.1435667754222537e-51, 8.68022976797767e-64, 2.5971365524168073e-77, 1.053620100617839e-92, 4.999532437936166e-110, 9.436347613344083e-22, 5.45169500892462e-18, 1.674893399341877e-15, 5.670900992928128e-14, 3.5646752603831345e-13, 5.937854321008715e-13, 3.8503308741741103e-13, 1.0295726496539241e-13, 4.97590041818587e-15, 2.812916547765883e-17, 1.368008494354787e-20, 5.152982899437856e-25, 1.3750411650268064e-30, 1.3950477587507676e-37, 3.2014940151417125e-46, 1.5416786101680415e-56, 1.5038175450036474e-68, 5.823960122484455e-82, 7.393149496904491e-97, 1.6789069083534526e-113, 3.7253107579561055e-26, 7.552029506681106e-22, 7.374952161822112e-19, 5.907928184211563e-17, 6.677614404026034e-16, 1.5768014614432426e-15, 9.852294385794032e-16, 1.5640121710381267e-16, 4.132873389424577e-18, 1.2187694122571366e-20, 2.669153886070393e-24, 3.204109811138262e-29, 2.1471032989586897e-35, 7.188541878240812e-43, 7.63897346504198e-52, 1.790241715168988e-62, 1.5003799768427763e-74, 6.0758226896990186e-89, 3.7400057238118034e-103, 9.848979333924728e-123], \"colorbar\": {\"title\": {\"text\": \"ColorBar\"}}, \"colorscale\": [[0.0, \"#440154\"], [0.1111111111111111, \"#482878\"], [0.2222222222222222, \"#3e4989\"], [0.3333333333333333, \"#31688e\"], [0.4444444444444444, \"#26828e\"], [0.5555555555555556, \"#1f9e89\"], [0.6666666666666666, \"#35b779\"], [0.7777777777777778, \"#6ece58\"], [0.8888888888888888, \"#b5de2b\"], [1.0, \"#fde725\"]], \"line\": {\"width\": 0}, \"opacity\": 1, \"size\": 25, \"symbol\": \"circle\"}, \"mode\": \"markers\", \"type\": \"scatter3d\", \"x\": [-4.288426936557333, -4.288426936557333, -4.288426936557333, -4.288426936557333, -4.288426936557333, -4.288426936557333, -4.288426936557333, -4.288426936557333, -4.288426936557333, -4.288426936557333, -4.288426936557333, -4.288426936557333, -4.288426936557333, -4.288426936557333, -4.288426936557333, -4.288426936557333, -4.288426936557333, -4.288426936557333, -4.288426936557333, -4.288426936557333, -3.825437868357836, -3.825437868357836, -3.825437868357836, -3.825437868357836, -3.825437868357836, -3.825437868357836, -3.825437868357836, -3.825437868357836, -3.825437868357836, -3.825437868357836, -3.825437868357836, -3.825437868357836, -3.825437868357836, -3.825437868357836, -3.825437868357836, -3.825437868357836, -3.825437868357836, -3.825437868357836, -3.825437868357836, -3.825437868357836, -3.3624488001583384, -3.3624488001583384, -3.3624488001583384, -3.3624488001583384, -3.3624488001583384, -3.3624488001583384, -3.3624488001583384, -3.3624488001583384, -3.3624488001583384, -3.3624488001583384, -3.3624488001583384, -3.3624488001583384, -3.3624488001583384, -3.3624488001583384, -3.3624488001583384, -3.3624488001583384, -3.3624488001583384, -3.3624488001583384, -3.3624488001583384, -3.3624488001583384, -2.8994597319588404, -2.8994597319588404, -2.8994597319588404, -2.8994597319588404, -2.8994597319588404, -2.8994597319588404, -2.8994597319588404, -2.8994597319588404, -2.8994597319588404, -2.8994597319588404, -2.8994597319588404, -2.8994597319588404, -2.8994597319588404, -2.8994597319588404, -2.8994597319588404, -2.8994597319588404, -2.8994597319588404, -2.8994597319588404, -2.8994597319588404, -2.8994597319588404, -2.4364706637593434, -2.4364706637593434, -2.4364706637593434, -2.4364706637593434, -2.4364706637593434, -2.4364706637593434, -2.4364706637593434, -2.4364706637593434, -2.4364706637593434, -2.4364706637593434, -2.4364706637593434, -2.4364706637593434, -2.4364706637593434, -2.4364706637593434, -2.4364706637593434, -2.4364706637593434, -2.4364706637593434, -2.4364706637593434, -2.4364706637593434, -2.4364706637593434, -1.9734815955598455, -1.9734815955598455, -1.9734815955598455, -1.9734815955598455, -1.9734815955598455, -1.9734815955598455, -1.9734815955598455, -1.9734815955598455, -1.9734815955598455, -1.9734815955598455, -1.9734815955598455, -1.9734815955598455, -1.9734815955598455, -1.9734815955598455, -1.9734815955598455, -1.9734815955598455, -1.9734815955598455, -1.9734815955598455, -1.9734815955598455, -1.9734815955598455, -1.510492527360348, -1.510492527360348, -1.510492527360348, -1.510492527360348, -1.510492527360348, -1.510492527360348, -1.510492527360348, -1.510492527360348, -1.510492527360348, -1.510492527360348, -1.510492527360348, -1.510492527360348, -1.510492527360348, -1.510492527360348, -1.510492527360348, -1.510492527360348, -1.510492527360348, -1.510492527360348, -1.510492527360348, -1.510492527360348, -1.0475034591608505, -1.0475034591608505, -1.0475034591608505, -1.0475034591608505, -1.0475034591608505, -1.0475034591608505, -1.0475034591608505, -1.0475034591608505, -1.0475034591608505, -1.0475034591608505, -1.0475034591608505, -1.0475034591608505, -1.0475034591608505, -1.0475034591608505, -1.0475034591608505, -1.0475034591608505, -1.0475034591608505, -1.0475034591608505, -1.0475034591608505, -1.0475034591608505, -0.584514390961353, -0.584514390961353, -0.584514390961353, -0.584514390961353, -0.584514390961353, -0.584514390961353, -0.584514390961353, -0.584514390961353, -0.584514390961353, -0.584514390961353, -0.584514390961353, -0.584514390961353, -0.584514390961353, -0.584514390961353, -0.584514390961353, -0.584514390961353, -0.584514390961353, -0.584514390961353, -0.584514390961353, -0.584514390961353, -0.12152532276185557, -0.12152532276185557, -0.12152532276185557, -0.12152532276185557, -0.12152532276185557, -0.12152532276185557, -0.12152532276185557, -0.12152532276185557, -0.12152532276185557, -0.12152532276185557, -0.12152532276185557, -0.12152532276185557, -0.12152532276185557, -0.12152532276185557, -0.12152532276185557, -0.12152532276185557, -0.12152532276185557, -0.12152532276185557, -0.12152532276185557, -0.12152532276185557, 0.34146374543764235, 0.34146374543764235, 0.34146374543764235, 0.34146374543764235, 0.34146374543764235, 0.34146374543764235, 0.34146374543764235, 0.34146374543764235, 0.34146374543764235, 0.34146374543764235, 0.34146374543764235, 0.34146374543764235, 0.34146374543764235, 0.34146374543764235, 0.34146374543764235, 0.34146374543764235, 0.34146374543764235, 0.34146374543764235, 0.34146374543764235, 0.34146374543764235, 0.8044528136371394, 0.8044528136371394, 0.8044528136371394, 0.8044528136371394, 0.8044528136371394, 0.8044528136371394, 0.8044528136371394, 0.8044528136371394, 0.8044528136371394, 0.8044528136371394, 0.8044528136371394, 0.8044528136371394, 0.8044528136371394, 0.8044528136371394, 0.8044528136371394, 0.8044528136371394, 0.8044528136371394, 0.8044528136371394, 0.8044528136371394, 0.8044528136371394, 1.2674418818366373, 1.2674418818366373, 1.2674418818366373, 1.2674418818366373, 1.2674418818366373, 1.2674418818366373, 1.2674418818366373, 1.2674418818366373, 1.2674418818366373, 1.2674418818366373, 1.2674418818366373, 1.2674418818366373, 1.2674418818366373, 1.2674418818366373, 1.2674418818366373, 1.2674418818366373, 1.2674418818366373, 1.2674418818366373, 1.2674418818366373, 1.2674418818366373, 1.7304309500361343, 1.7304309500361343, 1.7304309500361343, 1.7304309500361343, 1.7304309500361343, 1.7304309500361343, 1.7304309500361343, 1.7304309500361343, 1.7304309500361343, 1.7304309500361343, 1.7304309500361343, 1.7304309500361343, 1.7304309500361343, 1.7304309500361343, 1.7304309500361343, 1.7304309500361343, 1.7304309500361343, 1.7304309500361343, 1.7304309500361343, 1.7304309500361343, 2.1934200182356323, 2.1934200182356323, 2.1934200182356323, 2.1934200182356323, 2.1934200182356323, 2.1934200182356323, 2.1934200182356323, 2.1934200182356323, 2.1934200182356323, 2.1934200182356323, 2.1934200182356323, 2.1934200182356323, 2.1934200182356323, 2.1934200182356323, 2.1934200182356323, 2.1934200182356323, 2.1934200182356323, 2.1934200182356323, 2.1934200182356323, 2.1934200182356323, 2.6564090864351293, 2.6564090864351293, 2.6564090864351293, 2.6564090864351293, 2.6564090864351293, 2.6564090864351293, 2.6564090864351293, 2.6564090864351293, 2.6564090864351293, 2.6564090864351293, 2.6564090864351293, 2.6564090864351293, 2.6564090864351293, 2.6564090864351293, 2.6564090864351293, 2.6564090864351293, 2.6564090864351293, 2.6564090864351293, 2.6564090864351293, 2.6564090864351293, 3.119398154634627, 3.119398154634627, 3.119398154634627, 3.119398154634627, 3.119398154634627, 3.119398154634627, 3.119398154634627, 3.119398154634627, 3.119398154634627, 3.119398154634627, 3.119398154634627, 3.119398154634627, 3.119398154634627, 3.119398154634627, 3.119398154634627, 3.119398154634627, 3.119398154634627, 3.119398154634627, 3.119398154634627, 3.119398154634627, 3.582387222834125, 3.582387222834125, 3.582387222834125, 3.582387222834125, 3.582387222834125, 3.582387222834125, 3.582387222834125, 3.582387222834125, 3.582387222834125, 3.582387222834125, 3.582387222834125, 3.582387222834125, 3.582387222834125, 3.582387222834125, 3.582387222834125, 3.582387222834125, 3.582387222834125, 3.582387222834125, 3.582387222834125, 3.582387222834125, 4.045376291033622, 4.045376291033622, 4.045376291033622, 4.045376291033622, 4.045376291033622, 4.045376291033622, 4.045376291033622, 4.045376291033622, 4.045376291033622, 4.045376291033622, 4.045376291033622, 4.045376291033622, 4.045376291033622, 4.045376291033622, 4.045376291033622, 4.045376291033622, 4.045376291033622, 4.045376291033622, 4.045376291033622, 4.045376291033622, 4.508365359233121, 4.508365359233121, 4.508365359233121, 4.508365359233121, 4.508365359233121, 4.508365359233121, 4.508365359233121, 4.508365359233121, 4.508365359233121, 4.508365359233121, 4.508365359233121, 4.508365359233121, 4.508365359233121, 4.508365359233121, 4.508365359233121, 4.508365359233121, 4.508365359233121, 4.508365359233121, 4.508365359233121, 4.508365359233121], \"y\": [-3.3820125689667955, -2.923235716610681, -2.4644588642545666, -2.005682011898452, -1.5469051595423378, -1.0881283071862233, -0.6293514548301089, -0.17057460247399447, 0.28820224988211995, 0.7469791022382348, 1.2057559545943488, 1.6645328069504628, 2.1233096593065777, 2.5820865116626925, 3.0408633640188065, 3.4996402163749205, 3.9584170687310354, 4.417193921087151, 4.875970773443266, 5.334747625799379, -3.3820125689667955, -2.923235716610681, -2.4644588642545666, -2.005682011898452, -1.5469051595423378, -1.0881283071862233, -0.6293514548301089, -0.17057460247399447, 0.28820224988211995, 0.7469791022382348, 1.2057559545943488, 1.6645328069504628, 2.1233096593065777, 2.5820865116626925, 3.0408633640188065, 3.4996402163749205, 3.9584170687310354, 4.417193921087151, 4.875970773443266, 5.334747625799379, -3.3820125689667955, -2.923235716610681, -2.4644588642545666, -2.005682011898452, -1.5469051595423378, -1.0881283071862233, -0.6293514548301089, -0.17057460247399447, 0.28820224988211995, 0.7469791022382348, 1.2057559545943488, 1.6645328069504628, 2.1233096593065777, 2.5820865116626925, 3.0408633640188065, 3.4996402163749205, 3.9584170687310354, 4.417193921087151, 4.875970773443266, 5.334747625799379, -3.3820125689667955, -2.923235716610681, -2.4644588642545666, -2.005682011898452, -1.5469051595423378, -1.0881283071862233, -0.6293514548301089, -0.17057460247399447, 0.28820224988211995, 0.7469791022382348, 1.2057559545943488, 1.6645328069504628, 2.1233096593065777, 2.5820865116626925, 3.0408633640188065, 3.4996402163749205, 3.9584170687310354, 4.417193921087151, 4.875970773443266, 5.334747625799379, -3.3820125689667955, -2.923235716610681, -2.4644588642545666, -2.005682011898452, -1.5469051595423378, -1.0881283071862233, -0.6293514548301089, -0.17057460247399447, 0.28820224988211995, 0.7469791022382348, 1.2057559545943488, 1.6645328069504628, 2.1233096593065777, 2.5820865116626925, 3.0408633640188065, 3.4996402163749205, 3.9584170687310354, 4.417193921087151, 4.875970773443266, 5.334747625799379, -3.3820125689667955, -2.923235716610681, -2.4644588642545666, -2.005682011898452, -1.5469051595423378, -1.0881283071862233, -0.6293514548301089, -0.17057460247399447, 0.28820224988211995, 0.7469791022382348, 1.2057559545943488, 1.6645328069504628, 2.1233096593065777, 2.5820865116626925, 3.0408633640188065, 3.4996402163749205, 3.9584170687310354, 4.417193921087151, 4.875970773443266, 5.334747625799379, -3.3820125689667955, -2.923235716610681, -2.4644588642545666, -2.005682011898452, -1.5469051595423378, -1.0881283071862233, -0.6293514548301089, -0.17057460247399447, 0.28820224988211995, 0.7469791022382348, 1.2057559545943488, 1.6645328069504628, 2.1233096593065777, 2.5820865116626925, 3.0408633640188065, 3.4996402163749205, 3.9584170687310354, 4.417193921087151, 4.875970773443266, 5.334747625799379, -3.3820125689667955, -2.923235716610681, -2.4644588642545666, -2.005682011898452, -1.5469051595423378, -1.0881283071862233, -0.6293514548301089, -0.17057460247399447, 0.28820224988211995, 0.7469791022382348, 1.2057559545943488, 1.6645328069504628, 2.1233096593065777, 2.5820865116626925, 3.0408633640188065, 3.4996402163749205, 3.9584170687310354, 4.417193921087151, 4.875970773443266, 5.334747625799379, -3.3820125689667955, -2.923235716610681, -2.4644588642545666, -2.005682011898452, -1.5469051595423378, -1.0881283071862233, -0.6293514548301089, -0.17057460247399447, 0.28820224988211995, 0.7469791022382348, 1.2057559545943488, 1.6645328069504628, 2.1233096593065777, 2.5820865116626925, 3.0408633640188065, 3.4996402163749205, 3.9584170687310354, 4.417193921087151, 4.875970773443266, 5.334747625799379, -3.3820125689667955, -2.923235716610681, -2.4644588642545666, -2.005682011898452, -1.5469051595423378, -1.0881283071862233, -0.6293514548301089, -0.17057460247399447, 0.28820224988211995, 0.7469791022382348, 1.2057559545943488, 1.6645328069504628, 2.1233096593065777, 2.5820865116626925, 3.0408633640188065, 3.4996402163749205, 3.9584170687310354, 4.417193921087151, 4.875970773443266, 5.334747625799379, -3.3820125689667955, -2.923235716610681, -2.4644588642545666, -2.005682011898452, -1.5469051595423378, -1.0881283071862233, -0.6293514548301089, -0.17057460247399447, 0.28820224988211995, 0.7469791022382348, 1.2057559545943488, 1.6645328069504628, 2.1233096593065777, 2.5820865116626925, 3.0408633640188065, 3.4996402163749205, 3.9584170687310354, 4.417193921087151, 4.875970773443266, 5.334747625799379, -3.3820125689667955, -2.923235716610681, -2.4644588642545666, -2.005682011898452, -1.5469051595423378, -1.0881283071862233, -0.6293514548301089, -0.17057460247399447, 0.28820224988211995, 0.7469791022382348, 1.2057559545943488, 1.6645328069504628, 2.1233096593065777, 2.5820865116626925, 3.0408633640188065, 3.4996402163749205, 3.9584170687310354, 4.417193921087151, 4.875970773443266, 5.334747625799379, -3.3820125689667955, -2.923235716610681, -2.4644588642545666, -2.005682011898452, -1.5469051595423378, -1.0881283071862233, -0.6293514548301089, -0.17057460247399447, 0.28820224988211995, 0.7469791022382348, 1.2057559545943488, 1.6645328069504628, 2.1233096593065777, 2.5820865116626925, 3.0408633640188065, 3.4996402163749205, 3.9584170687310354, 4.417193921087151, 4.875970773443266, 5.334747625799379, -3.3820125689667955, -2.923235716610681, -2.4644588642545666, -2.005682011898452, -1.5469051595423378, -1.0881283071862233, -0.6293514548301089, -0.17057460247399447, 0.28820224988211995, 0.7469791022382348, 1.2057559545943488, 1.6645328069504628, 2.1233096593065777, 2.5820865116626925, 3.0408633640188065, 3.4996402163749205, 3.9584170687310354, 4.417193921087151, 4.875970773443266, 5.334747625799379, -3.3820125689667955, -2.923235716610681, -2.4644588642545666, -2.005682011898452, -1.5469051595423378, -1.0881283071862233, -0.6293514548301089, -0.17057460247399447, 0.28820224988211995, 0.7469791022382348, 1.2057559545943488, 1.6645328069504628, 2.1233096593065777, 2.5820865116626925, 3.0408633640188065, 3.4996402163749205, 3.9584170687310354, 4.417193921087151, 4.875970773443266, 5.334747625799379, -3.3820125689667955, -2.923235716610681, -2.4644588642545666, -2.005682011898452, -1.5469051595423378, -1.0881283071862233, -0.6293514548301089, -0.17057460247399447, 0.28820224988211995, 0.7469791022382348, 1.2057559545943488, 1.6645328069504628, 2.1233096593065777, 2.5820865116626925, 3.0408633640188065, 3.4996402163749205, 3.9584170687310354, 4.417193921087151, 4.875970773443266, 5.334747625799379, -3.3820125689667955, -2.923235716610681, -2.4644588642545666, -2.005682011898452, -1.5469051595423378, -1.0881283071862233, -0.6293514548301089, -0.17057460247399447, 0.28820224988211995, 0.7469791022382348, 1.2057559545943488, 1.6645328069504628, 2.1233096593065777, 2.5820865116626925, 3.0408633640188065, 3.4996402163749205, 3.9584170687310354, 4.417193921087151, 4.875970773443266, 5.334747625799379, -3.3820125689667955, -2.923235716610681, -2.4644588642545666, -2.005682011898452, -1.5469051595423378, -1.0881283071862233, -0.6293514548301089, -0.17057460247399447, 0.28820224988211995, 0.7469791022382348, 1.2057559545943488, 1.6645328069504628, 2.1233096593065777, 2.5820865116626925, 3.0408633640188065, 3.4996402163749205, 3.9584170687310354, 4.417193921087151, 4.875970773443266, 5.334747625799379, -3.3820125689667955, -2.923235716610681, -2.4644588642545666, -2.005682011898452, -1.5469051595423378, -1.0881283071862233, -0.6293514548301089, -0.17057460247399447, 0.28820224988211995, 0.7469791022382348, 1.2057559545943488, 1.6645328069504628, 2.1233096593065777, 2.5820865116626925, 3.0408633640188065, 3.4996402163749205, 3.9584170687310354, 4.417193921087151, 4.875970773443266, 5.334747625799379, -3.3820125689667955, -2.923235716610681, -2.4644588642545666, -2.005682011898452, -1.5469051595423378, -1.0881283071862233, -0.6293514548301089, -0.17057460247399447, 0.28820224988211995, 0.7469791022382348, 1.2057559545943488, 1.6645328069504628, 2.1233096593065777, 2.5820865116626925, 3.0408633640188065, 3.4996402163749205, 3.9584170687310354, 4.417193921087151, 4.875970773443266, 5.334747625799379], \"z\": [1.034224581247772e-124, 6.646588187723981e-118, 1.2394709543763421e-108, 3.1008318297178877e-106, 4.2574857982810336e-106, 3.5566060636409588e-102, 5.176850733910625e-105, 2.0448131344193678e-106, 4.2529622464631335e-109, 1.272483028340018e-108, 1.93534416928523e-118, 3.6344288691005036e-125, 2.033514059210646e-127, 1.0586497022526896e-136, 5.347797741252484e-153, 3.642431912504976e-165, 6.948176035643681e-174, 8.410723336813485e-195, 2.039861804873892e-215, 3.5198955336827876e-235, 3.9628748710216745e-103, 7.004472673836957e-98, 2.0585378969010594e-94, 1.047022116399307e-90, 2.1604880213040503e-86, 3.8162453913056994e-85, 1.7348482753462254e-87, 6.772780280433403e-89, 1.464500042434443e-88, 3.774675285704544e-92, 1.262387913469127e-96, 6.240673632790578e-107, 6.482202205460643e-111, 8.662940352400887e-121, 9.7204576809354e-135, 2.3241381218297318e-142, 5.204403575011385e-155, 3.841825879840894e-176, 2.4960384944347655e-187, 2.655887493728328e-206, 5.526001826911244e-88, 4.756918521650323e-83, 2.7441469270881395e-77, 2.1678750615232445e-74, 1.4308866625431973e-72, 1.1168334364449078e-71, 5.493107058296183e-72, 1.1419605324738596e-72, 2.5095146575832636e-75, 9.13791145402149e-78, 2.600992415259703e-84, 3.134235683869945e-88, 1.8750046268624866e-95, 9.350237127067102e-104, 5.958529980845631e-114, 6.180387199085104e-130, 9.547981493419633e-139, 3.1425762007478254e-153, 4.707469618093881e-177, 4.223337671359539e-188, 1.822521130529517e-74, 1.8169438017813272e-68, 7.255348325235815e-64, 1.2975356159426436e-60, 1.0792699133328779e-58, 5.783640680015467e-58, 2.5984259968850148e-58, 1.6270172628546566e-59, 4.7498859860613174e-62, 3.077680569265919e-65, 4.7744734724105336e-70, 4.9248385432846585e-76, 3.2237865950854133e-81, 1.0717596531079344e-89, 1.972636323602974e-102, 4.444405326175041e-111, 7.520246835219369e-124, 5.481025725917641e-143, 1.465585940651314e-154, 1.5857555251734834e-177, 1.855291853724129e-61, 1.0050249913319328e-55, 1.99205900166841e-51, 1.8922898112941203e-48, 1.1048545125772299e-46, 4.541318171758246e-46, 2.064738622493579e-46, 1.3472108100478918e-47, 7.945991963843548e-50, 4.164828990072613e-53, 1.5204965345362822e-57, 2.952904477176814e-63, 3.673612763633669e-70, 3.7141443190041e-78, 8.875795081084858e-89, 1.064394035958241e-98, 8.196046633999732e-114, 6.193897528139355e-129, 7.695112849518535e-146, 1.347049796960617e-158, 3.219281929527592e-50, 8.770534595675825e-45, 9.121570478243525e-41, 4.894158736619451e-38, 1.9107033106664054e-36, 7.307653688239415e-36, 3.6182094127423026e-36, 2.4964555591582085e-37, 1.977089562818103e-39, 1.5236022445770426e-42, 9.289487394725354e-47, 3.605771115614492e-52, 7.227774052356983e-59, 9.176832712673314e-67, 7.89853144831645e-77, 3.1434468233066074e-88, 2.4852088557961726e-101, 5.1943611649612755e-113, 1.611547174653602e-128, 4.838962371624643e-150, 9.834939968202373e-41, 1.2997507511215464e-35, 6.912815489741736e-32, 2.0394595585450922e-29, 4.95130600324373e-28, 1.4775418319258898e-27, 7.102905650093439e-28, 5.833018346239088e-29, 7.036361161727424e-31, 9.857894273035754e-34, 1.2408581546407926e-37, 1.0189738225892283e-42, 3.827454328205593e-49, 4.930230860637805e-57, 1.798342160863645e-66, 3.3991909446219895e-77, 1.474784098776325e-89, 5.520368054021142e-103, 4.189425668827185e-118, 1.4101537795528871e-139, 5.871039084353575e-33, 3.5476713634051043e-28, 9.111386254472843e-25, 1.4054151835704337e-22, 1.9691125177363194e-21, 3.9933431508575386e-21, 1.7602930984085454e-21, 2.041410480583556e-22, 4.80194163219488e-24, 1.499781431587739e-26, 4.215798958849342e-30, 7.206066644720711e-35, 5.234616812964629e-41, 1.2121321633479387e-48, 7.20244588873025e-58, 9.371166569558374e-69, 2.3984037259578497e-81, 1.1069432070727553e-95, 8.43864423099642e-112, 8.827330155316674e-130, 7.900841845146599e-27, 2.0227261669283287e-22, 2.309708371033199e-19, 1.7487494000277924e-17, 1.3963141117337472e-16, 2.0122006208814914e-16, 8.436154733555806e-17, 1.7288147511125096e-17, 8.959115512186487e-19, 6.248568285084959e-21, 3.837171720803478e-24, 1.3753477374642074e-28, 1.990423121577739e-34, 8.707076643899216e-42, 9.333623472481406e-51, 2.174299194167286e-61, 9.34773154276394e-74, 7.44909189063798e-88, 1.6203123313950032e-101, 7.116037294057572e-118, 3.028632245775979e-22, 3.1159431540163884e-18, 1.5226548169510009e-15, 5.852054398419524e-14, 3.1127590259256844e-13, 4.008373901219963e-13, 2.0111955214473097e-13, 5.352817816916529e-14, 4.880690302052804e-15, 7.287013637861691e-17, 1.0248997763841886e-19, 8.298468029452842e-24, 2.5080664454284646e-29, 2.0977598078010276e-36, 3.975455639597763e-45, 1.502023337966982e-55, 1.0648919176516422e-67, 1.4146690695069345e-81, 3.344558590731596e-97, 1.1446587265675057e-114, 5.380195976012723e-19, 2.4942750752002315e-15, 6.357580357634138e-13, 1.562569305674632e-11, 6.398702943343361e-11, 7.250141338422156e-11, 3.7845392690506645e-11, 1.0073633954312798e-11, 1.060094854010689e-12, 2.978818468397998e-14, 1.0376313499820592e-16, 2.0889962552290738e-20, 1.3523732349080925e-25, 2.131687938855642e-32, 6.868795384672589e-41, 4.0439827783080936e-51, 4.133753824313761e-63, 8.320811749276032e-77, 2.554527072904306e-90, 2.2429204946326495e-109, 1.054021182383426e-16, 2.7250209678044963e-13, 3.816420677920018e-11, 4.957470917005733e-10, 1.2261678419483878e-09, 9.798672975444943e-10, 4.956608359696253e-10, 1.6938026990546978e-10, 2.1114008203532852e-11, 8.485225867961029e-13, 6.854451065244372e-15, 3.2302195499583667e-18, 4.2684192341256324e-23, 1.19003842401635e-29, 6.140470837044567e-38, 5.4357628149848084e-48, 7.545605307266228e-60, 1.7907043885965853e-73, 1.7245198216244839e-88, 2.8313284930181675e-102, 3.4369357517934076e-15, 5.195123619459836e-12, 3.9035153844677503e-10, 2.6600535473993715e-09, 4.4017752121679465e-09, 2.3792046674760066e-09, 8.424482606002704e-10, 3.2262895167793135e-10, 6.296464798888827e-11, 3.5210659320230915e-12, 4.811551026320933e-14, 4.636876709956862e-17, 1.1051069579381333e-21, 4.765378663271376e-28, 3.526583312521879e-36, 4.6557594905474805e-46, 1.1031484638990836e-57, 5.152892069204751e-71, 5.210766870020565e-86, 8.561133286453035e-103, 1.7030119763291527e-14, 1.8550079398642045e-11, 1.0027059856145277e-09, 5.174452138357927e-09, 6.361995010661016e-09, 2.767246155068968e-09, 8.99990863444471e-10, 3.1507992285945493e-10, 5.073693641178775e-11, 3.789743998667335e-12, 6.60302700624713e-14, 9.605866710794724e-17, 3.320991364613923e-21, 1.7727202154885092e-27, 1.4992489472826566e-35, 2.6192547907664625e-45, 1.333353561163522e-56, 7.823638629193461e-70, 9.086905885371022e-85, 1.1820584014419599e-101, 1.3969408049833947e-14, 1.3888579416048975e-11, 7.160435811751258e-10, 3.76115407571809e-09, 4.319316042343546e-09, 1.6742819660752092e-09, 6.591171380888575e-10, 2.450287144909386e-10, 3.69451675924806e-11, 2.005883059793096e-12, 3.183707012105005e-14, 4.392275894798205e-17, 1.615665775097372e-21, 8.24441614821054e-28, 5.5065727282220724e-36, 9.538738958496586e-46, 6.401264751384892e-57, 7.572610118562745e-69, 7.833523589814692e-85, 3.5771122376119456e-101, 2.8564585570740582e-15, 2.541777542170285e-12, 1.472058445637705e-10, 8.215041709392356e-10, 1.2207245867131404e-09, 6.752850817923256e-10, 3.2249438221524434e-10, 1.2961811675540244e-10, 2.0948592433749804e-11, 7.900104465808287e-13, 6.1082029892648175e-15, 5.316082601805894e-18, 1.5583403079556949e-22, 6.709484448877006e-29, 3.5708186242554587e-37, 5.088201775030907e-47, 3.764023451518306e-58, 3.5524091627224375e-71, 3.7254465207116106e-86, 1.2760389817986197e-102, 1.4901094599370726e-16, 1.4385746108047873e-13, 1.1286371504338712e-11, 7.108980170237411e-11, 1.1424620744521109e-10, 1.3324020656631421e-10, 8.874922836646271e-11, 2.883938656680367e-11, 4.981680966722042e-12, 1.3787494953590233e-13, 3.8891387210773826e-16, 1.486962645461956e-19, 2.741809625062433e-24, 9.269610493630052e-31, 5.192581664050192e-39, 6.746155895218209e-49, 2.2964241752932905e-60, 1.3760862781550393e-73, 2.605287315544589e-85, 7.071973639054312e-106, 1.2450313584513274e-18, 2.429054275736116e-15, 3.2306965756650814e-13, 4.680965460824135e-12, 1.338572315248198e-11, 1.6064285451060957e-11, 1.2616740214520029e-11, 4.319080996097801e-12, 4.445218143179825e-13, 5.688845846295422e-15, 5.8943507951506994e-18, 7.390715676467032e-22, 6.3631803094384655e-27, 1.3532926166953927e-33, 5.641244714428703e-42, 1.1435667754222537e-51, 8.68022976797767e-64, 2.5971365524168073e-77, 1.053620100617839e-92, 4.999532437936166e-110, 9.436347613344083e-22, 5.45169500892462e-18, 1.674893399341877e-15, 5.670900992928128e-14, 3.5646752603831345e-13, 5.937854321008715e-13, 3.8503308741741103e-13, 1.0295726496539241e-13, 4.97590041818587e-15, 2.812916547765883e-17, 1.368008494354787e-20, 5.152982899437856e-25, 1.3750411650268064e-30, 1.3950477587507676e-37, 3.2014940151417125e-46, 1.5416786101680415e-56, 1.5038175450036474e-68, 5.823960122484455e-82, 7.393149496904491e-97, 1.6789069083534526e-113, 3.7253107579561055e-26, 7.552029506681106e-22, 7.374952161822112e-19, 5.907928184211563e-17, 6.677614404026034e-16, 1.5768014614432426e-15, 9.852294385794032e-16, 1.5640121710381267e-16, 4.132873389424577e-18, 1.2187694122571366e-20, 2.669153886070393e-24, 3.204109811138262e-29, 2.1471032989586897e-35, 7.188541878240812e-43, 7.63897346504198e-52, 1.790241715168988e-62, 1.5003799768427763e-74, 6.0758226896990186e-89, 3.7400057238118034e-103, 9.848979333924728e-123]}],\n",
       "                        {\"template\": {\"data\": {\"bar\": [{\"error_x\": {\"color\": \"#2a3f5f\"}, \"error_y\": {\"color\": \"#2a3f5f\"}, \"marker\": {\"line\": {\"color\": \"#E5ECF6\", \"width\": 0.5}}, \"type\": \"bar\"}], \"barpolar\": [{\"marker\": {\"line\": {\"color\": \"#E5ECF6\", \"width\": 0.5}}, \"type\": \"barpolar\"}], \"carpet\": [{\"aaxis\": {\"endlinecolor\": \"#2a3f5f\", \"gridcolor\": \"white\", \"linecolor\": \"white\", \"minorgridcolor\": \"white\", \"startlinecolor\": \"#2a3f5f\"}, \"baxis\": {\"endlinecolor\": \"#2a3f5f\", \"gridcolor\": \"white\", \"linecolor\": \"white\", \"minorgridcolor\": \"white\", \"startlinecolor\": \"#2a3f5f\"}, \"type\": \"carpet\"}], \"choropleth\": [{\"colorbar\": {\"outlinewidth\": 0, \"ticks\": \"\"}, \"type\": \"choropleth\"}], \"contour\": [{\"colorbar\": {\"outlinewidth\": 0, \"ticks\": \"\"}, \"colorscale\": [[0.0, \"#0d0887\"], [0.1111111111111111, \"#46039f\"], [0.2222222222222222, \"#7201a8\"], [0.3333333333333333, \"#9c179e\"], [0.4444444444444444, \"#bd3786\"], [0.5555555555555556, \"#d8576b\"], [0.6666666666666666, \"#ed7953\"], [0.7777777777777778, \"#fb9f3a\"], [0.8888888888888888, \"#fdca26\"], [1.0, \"#f0f921\"]], \"type\": \"contour\"}], \"contourcarpet\": [{\"colorbar\": {\"outlinewidth\": 0, \"ticks\": \"\"}, \"type\": \"contourcarpet\"}], \"heatmap\": [{\"colorbar\": {\"outlinewidth\": 0, \"ticks\": \"\"}, \"colorscale\": [[0.0, \"#0d0887\"], [0.1111111111111111, \"#46039f\"], [0.2222222222222222, \"#7201a8\"], [0.3333333333333333, \"#9c179e\"], [0.4444444444444444, \"#bd3786\"], [0.5555555555555556, \"#d8576b\"], [0.6666666666666666, \"#ed7953\"], [0.7777777777777778, \"#fb9f3a\"], [0.8888888888888888, \"#fdca26\"], [1.0, \"#f0f921\"]], \"type\": \"heatmap\"}], \"heatmapgl\": [{\"colorbar\": {\"outlinewidth\": 0, \"ticks\": \"\"}, \"colorscale\": [[0.0, \"#0d0887\"], [0.1111111111111111, \"#46039f\"], [0.2222222222222222, \"#7201a8\"], [0.3333333333333333, \"#9c179e\"], [0.4444444444444444, \"#bd3786\"], [0.5555555555555556, \"#d8576b\"], [0.6666666666666666, \"#ed7953\"], [0.7777777777777778, \"#fb9f3a\"], [0.8888888888888888, \"#fdca26\"], [1.0, \"#f0f921\"]], \"type\": \"heatmapgl\"}], \"histogram\": [{\"marker\": {\"colorbar\": {\"outlinewidth\": 0, \"ticks\": \"\"}}, \"type\": \"histogram\"}], \"histogram2d\": [{\"colorbar\": {\"outlinewidth\": 0, \"ticks\": \"\"}, \"colorscale\": [[0.0, \"#0d0887\"], [0.1111111111111111, \"#46039f\"], [0.2222222222222222, \"#7201a8\"], [0.3333333333333333, \"#9c179e\"], [0.4444444444444444, \"#bd3786\"], [0.5555555555555556, \"#d8576b\"], [0.6666666666666666, \"#ed7953\"], [0.7777777777777778, \"#fb9f3a\"], [0.8888888888888888, \"#fdca26\"], [1.0, \"#f0f921\"]], \"type\": \"histogram2d\"}], \"histogram2dcontour\": [{\"colorbar\": {\"outlinewidth\": 0, \"ticks\": \"\"}, \"colorscale\": [[0.0, \"#0d0887\"], [0.1111111111111111, \"#46039f\"], [0.2222222222222222, \"#7201a8\"], [0.3333333333333333, \"#9c179e\"], [0.4444444444444444, \"#bd3786\"], [0.5555555555555556, \"#d8576b\"], [0.6666666666666666, \"#ed7953\"], [0.7777777777777778, \"#fb9f3a\"], [0.8888888888888888, \"#fdca26\"], [1.0, \"#f0f921\"]], \"type\": \"histogram2dcontour\"}], \"mesh3d\": [{\"colorbar\": {\"outlinewidth\": 0, \"ticks\": \"\"}, \"type\": \"mesh3d\"}], \"parcoords\": [{\"line\": {\"colorbar\": {\"outlinewidth\": 0, \"ticks\": \"\"}}, \"type\": \"parcoords\"}], \"pie\": [{\"automargin\": true, \"type\": \"pie\"}], \"scatter\": [{\"marker\": {\"colorbar\": {\"outlinewidth\": 0, \"ticks\": \"\"}}, \"type\": \"scatter\"}], \"scatter3d\": [{\"line\": {\"colorbar\": {\"outlinewidth\": 0, \"ticks\": \"\"}}, \"marker\": {\"colorbar\": {\"outlinewidth\": 0, \"ticks\": \"\"}}, \"type\": \"scatter3d\"}], \"scattercarpet\": [{\"marker\": {\"colorbar\": {\"outlinewidth\": 0, \"ticks\": \"\"}}, \"type\": \"scattercarpet\"}], \"scattergeo\": [{\"marker\": {\"colorbar\": {\"outlinewidth\": 0, \"ticks\": \"\"}}, \"type\": \"scattergeo\"}], \"scattergl\": [{\"marker\": {\"colorbar\": {\"outlinewidth\": 0, \"ticks\": \"\"}}, \"type\": \"scattergl\"}], \"scattermapbox\": [{\"marker\": {\"colorbar\": {\"outlinewidth\": 0, \"ticks\": \"\"}}, \"type\": \"scattermapbox\"}], \"scatterpolar\": [{\"marker\": {\"colorbar\": {\"outlinewidth\": 0, \"ticks\": \"\"}}, \"type\": \"scatterpolar\"}], \"scatterpolargl\": [{\"marker\": {\"colorbar\": {\"outlinewidth\": 0, \"ticks\": \"\"}}, \"type\": \"scatterpolargl\"}], \"scatterternary\": [{\"marker\": {\"colorbar\": {\"outlinewidth\": 0, \"ticks\": \"\"}}, \"type\": \"scatterternary\"}], \"surface\": [{\"colorbar\": {\"outlinewidth\": 0, \"ticks\": \"\"}, \"colorscale\": [[0.0, \"#0d0887\"], [0.1111111111111111, \"#46039f\"], [0.2222222222222222, \"#7201a8\"], [0.3333333333333333, \"#9c179e\"], [0.4444444444444444, \"#bd3786\"], [0.5555555555555556, \"#d8576b\"], [0.6666666666666666, \"#ed7953\"], [0.7777777777777778, \"#fb9f3a\"], [0.8888888888888888, \"#fdca26\"], [1.0, \"#f0f921\"]], \"type\": \"surface\"}], \"table\": [{\"cells\": {\"fill\": {\"color\": \"#EBF0F8\"}, \"line\": {\"color\": \"white\"}}, \"header\": {\"fill\": {\"color\": \"#C8D4E3\"}, \"line\": {\"color\": \"white\"}}, \"type\": \"table\"}]}, \"layout\": {\"annotationdefaults\": {\"arrowcolor\": \"#2a3f5f\", \"arrowhead\": 0, \"arrowwidth\": 1}, \"coloraxis\": {\"colorbar\": {\"outlinewidth\": 0, \"ticks\": \"\"}}, \"colorscale\": {\"diverging\": [[0, \"#8e0152\"], [0.1, \"#c51b7d\"], [0.2, \"#de77ae\"], [0.3, \"#f1b6da\"], [0.4, \"#fde0ef\"], [0.5, \"#f7f7f7\"], [0.6, \"#e6f5d0\"], [0.7, \"#b8e186\"], [0.8, \"#7fbc41\"], [0.9, \"#4d9221\"], [1, \"#276419\"]], \"sequential\": [[0.0, \"#0d0887\"], [0.1111111111111111, \"#46039f\"], [0.2222222222222222, \"#7201a8\"], [0.3333333333333333, \"#9c179e\"], [0.4444444444444444, \"#bd3786\"], [0.5555555555555556, \"#d8576b\"], [0.6666666666666666, \"#ed7953\"], [0.7777777777777778, \"#fb9f3a\"], [0.8888888888888888, \"#fdca26\"], [1.0, \"#f0f921\"]], \"sequentialminus\": [[0.0, \"#0d0887\"], [0.1111111111111111, \"#46039f\"], [0.2222222222222222, \"#7201a8\"], [0.3333333333333333, \"#9c179e\"], [0.4444444444444444, \"#bd3786\"], [0.5555555555555556, \"#d8576b\"], [0.6666666666666666, \"#ed7953\"], [0.7777777777777778, \"#fb9f3a\"], [0.8888888888888888, \"#fdca26\"], [1.0, \"#f0f921\"]]}, \"colorway\": [\"#636efa\", \"#EF553B\", \"#00cc96\", \"#ab63fa\", \"#FFA15A\", \"#19d3f3\", \"#FF6692\", \"#B6E880\", \"#FF97FF\", \"#FECB52\"], \"font\": {\"color\": \"#2a3f5f\"}, \"geo\": {\"bgcolor\": \"white\", \"lakecolor\": \"white\", \"landcolor\": \"#E5ECF6\", \"showlakes\": true, \"showland\": true, \"subunitcolor\": \"white\"}, \"hoverlabel\": {\"align\": \"left\"}, \"hovermode\": \"closest\", \"mapbox\": {\"style\": \"light\"}, \"paper_bgcolor\": \"white\", \"plot_bgcolor\": \"#E5ECF6\", \"polar\": {\"angularaxis\": {\"gridcolor\": \"white\", \"linecolor\": \"white\", \"ticks\": \"\"}, \"bgcolor\": \"#E5ECF6\", \"radialaxis\": {\"gridcolor\": \"white\", \"linecolor\": \"white\", \"ticks\": \"\"}}, \"scene\": {\"xaxis\": {\"backgroundcolor\": \"#E5ECF6\", \"gridcolor\": \"white\", \"gridwidth\": 2, \"linecolor\": \"white\", \"showbackground\": true, \"ticks\": \"\", \"zerolinecolor\": \"white\"}, \"yaxis\": {\"backgroundcolor\": \"#E5ECF6\", \"gridcolor\": \"white\", \"gridwidth\": 2, \"linecolor\": \"white\", \"showbackground\": true, \"ticks\": \"\", \"zerolinecolor\": \"white\"}, \"zaxis\": {\"backgroundcolor\": \"#E5ECF6\", \"gridcolor\": \"white\", \"gridwidth\": 2, \"linecolor\": \"white\", \"showbackground\": true, \"ticks\": \"\", \"zerolinecolor\": \"white\"}}, \"shapedefaults\": {\"line\": {\"color\": \"#2a3f5f\"}}, \"ternary\": {\"aaxis\": {\"gridcolor\": \"white\", \"linecolor\": \"white\", \"ticks\": \"\"}, \"baxis\": {\"gridcolor\": \"white\", \"linecolor\": \"white\", \"ticks\": \"\"}, \"bgcolor\": \"#E5ECF6\", \"caxis\": {\"gridcolor\": \"white\", \"linecolor\": \"white\", \"ticks\": \"\"}}, \"title\": {\"x\": 0.05}, \"xaxis\": {\"automargin\": true, \"gridcolor\": \"white\", \"linecolor\": \"white\", \"ticks\": \"\", \"title\": {\"standoff\": 15}, \"zerolinecolor\": \"white\", \"zerolinewidth\": 2}, \"yaxis\": {\"automargin\": true, \"gridcolor\": \"white\", \"linecolor\": \"white\", \"ticks\": \"\", \"title\": {\"standoff\": 15}, \"zerolinecolor\": \"white\", \"zerolinewidth\": 2}}}},\n",
       "                        {\"responsive\": true}\n",
       "                    ).then(function(){\n",
       "                            \n",
       "var gd = document.getElementById('dab0797a-7457-4453-882f-810f03f7b47d');\n",
       "var x = new MutationObserver(function (mutations, observer) {{\n",
       "        var display = window.getComputedStyle(gd).display;\n",
       "        if (!display || display === 'none') {{\n",
       "            console.log([gd, 'removed!']);\n",
       "            Plotly.purge(gd);\n",
       "            observer.disconnect();\n",
       "        }}\n",
       "}});\n",
       "\n",
       "// Listen for the removal of the full notebook cells\n",
       "var notebookContainer = gd.closest('#notebook-container');\n",
       "if (notebookContainer) {{\n",
       "    x.observe(notebookContainer, {childList: true});\n",
       "}}\n",
       "\n",
       "// Listen for the clearing of the current output cell\n",
       "var outputEl = gd.closest('.output');\n",
       "if (outputEl) {{\n",
       "    x.observe(outputEl, {childList: true});\n",
       "}}\n",
       "\n",
       "                        })\n",
       "                };\n",
       "                });\n",
       "            </script>\n",
       "        </div>"
      ]
     },
     "metadata": {},
     "output_type": "display_data"
    }
   ],
   "source": [
    "dist_mean= -np.min(dist_grid,axis= 1)\n",
    "dist_mean= np.exp(dist_mean)\n",
    "print(dist_mean.shape)\n",
    "fig= [go.Scatter3d(\n",
    "    x= background[:,0],\n",
    "    y= background[:,1],\n",
    "    z= grid_likes,\n",
    "    mode= 'markers',\n",
    "    marker= {\n",
    "        'color':grid_likes,\n",
    "        'colorbar': go.ColorBar(\n",
    "            title= 'ColorBar'\n",
    "        ),\n",
    "        'colorscale':'Viridis',\n",
    "        'line': {'width': 0},\n",
    "        'size': 25,\n",
    "        'symbol': 'circle',\n",
    "      \"opacity\": 1\n",
    "      }\n",
    ")]\n",
    "\n",
    "layout= go.Layout()\n",
    "\n",
    "Figure= go.Figure(data= fig, layout= layout)\n",
    "\n",
    "iplot(Figure)"
   ]
  },
  {
   "cell_type": "code",
   "execution_count": null,
   "metadata": {},
   "outputs": [],
   "source": []
  }
 ],
 "metadata": {
  "kernelspec": {
   "display_name": "Python 3",
   "language": "python",
   "name": "python3"
  },
  "language_info": {
   "codemirror_mode": {
    "name": "ipython",
    "version": 3
   },
   "file_extension": ".py",
   "mimetype": "text/x-python",
   "name": "python",
   "nbconvert_exporter": "python",
   "pygments_lexer": "ipython3",
   "version": "3.7.3"
  }
 },
 "nbformat": 4,
 "nbformat_minor": 2
}
