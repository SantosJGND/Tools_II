{
 "cells": [
  {
   "cell_type": "code",
   "execution_count": 1,
   "metadata": {},
   "outputs": [
    {
     "data": {
      "text/html": [
       "        <script type=\"text/javascript\">\n",
       "        window.PlotlyConfig = {MathJaxConfig: 'local'};\n",
       "        if (window.MathJax) {MathJax.Hub.Config({SVG: {font: \"STIX-Web\"}});}\n",
       "        if (typeof require !== 'undefined') {\n",
       "        require.undef(\"plotly\");\n",
       "        requirejs.config({\n",
       "            paths: {\n",
       "                'plotly': ['https://cdn.plot.ly/plotly-latest.min']\n",
       "            }\n",
       "        });\n",
       "        require(['plotly'], function(Plotly) {\n",
       "            window._Plotly = Plotly;\n",
       "        });\n",
       "        }\n",
       "        </script>\n",
       "        "
      ]
     },
     "metadata": {},
     "output_type": "display_data"
    }
   ],
   "source": [
    "import scipy\n",
    "import numpy as np\n",
    "from sklearn.neighbors import KernelDensity\n",
    "from sklearn.decomposition import PCA\n",
    "from sklearn.model_selection import GridSearchCV\n",
    "from sklearn.cluster import estimate_bandwidth\n",
    "from sklearn.cluster import MeanShift, estimate_bandwidth\n",
    "\n",
    "import pandas as pd\n",
    "\n",
    "from scipy import stats\n",
    "from scipy.stats import beta\n",
    "from math import sin\n",
    "from random import randint\n",
    "from IPython.display import clear_output\n",
    "import matplotlib.pyplot as plt\n",
    "import itertools as it\n",
    "\n",
    "import plotly\n",
    "import plotly.graph_objs as go\n",
    "from plotly.offline import download_plotlyjs, init_notebook_mode, plot, iplot\n",
    "\n",
    "from ipywidgets import interact, interactive, fixed, interact_manual\n",
    "import ipywidgets as widgets\n",
    "init_notebook_mode(connected=True)\n",
    "\n",
    "import collections\n",
    "\n",
    "def recursively_default_dict():\n",
    "        return collections.defaultdict(recursively_default_dict)\n",
    "\n",
    "from matplotlib.collections import BrokenBarHCollection\n",
    "import re\n",
    "\n",
    "from structure_tools.Modules_tools import return_fsts\n",
    "\n",
    "PCA_color_ref= ['darkseagreen','crimson', 'darkorange', 'darkblue', 'darkcyan',\n",
    "            'darkgoldenrod', 'darkgray', 'darkgrey', 'darkgreen',\n",
    "            'darkkhaki', 'darkmagenta', 'darkolivegreen', 'darkorange',\n",
    "            'darkorchid', 'darkred', 'darksalmon', 'darkseagreen',\n",
    "            'darkslateblue', 'darkslategray', 'darkslategrey',\n",
    "            'darkturquoise', 'darkviolet', 'deeppink']"
   ]
  },
  {
   "cell_type": "markdown",
   "metadata": {},
   "source": []
  },
  {
   "cell_type": "markdown",
   "metadata": {},
   "source": [
    "## vcf analysis\n",
    "Jupyter notebook for the local analysis of genetic data stored in .vcf format.\n",
    "\n",
    "Perform analysis of structure across data set, followed by a more detailed study of variation across local genomic windows.\n",
    "\n",
    "### Input"
   ]
  },
  {
   "cell_type": "code",
   "execution_count": 2,
   "metadata": {},
   "outputs": [
    {
     "name": "stdout",
     "output_type": "stream",
     "text": [
      "Number of markers: 40000\n",
      "Number of individuals: 130\n"
     ]
    }
   ],
   "source": [
    "from structure_tools.vcf_geno_tools import simple_read_vcf\n",
    "\n",
    "vcf_file= 'data_cleanRefs_simple_Admx.vcf'\n",
    "\n",
    "genotype, summary, info_save= simple_read_vcf(vcf_file,row_info= 5,header_info= 9,phased= True)\n",
    "\n",
    "print('Number of markers: {}'.format(genotype.shape[1]))\n",
    "print('Number of individuals: {}'.format(genotype.shape[0]))"
   ]
  },
  {
   "cell_type": "code",
   "execution_count": 3,
   "metadata": {},
   "outputs": [
    {
     "data": {
      "text/html": [
       "<div>\n",
       "<style scoped>\n",
       "    .dataframe tbody tr th:only-of-type {\n",
       "        vertical-align: middle;\n",
       "    }\n",
       "\n",
       "    .dataframe tbody tr th {\n",
       "        vertical-align: top;\n",
       "    }\n",
       "\n",
       "    .dataframe thead th {\n",
       "        text-align: right;\n",
       "    }\n",
       "</style>\n",
       "<table border=\"1\" class=\"dataframe\">\n",
       "  <thead>\n",
       "    <tr style=\"text-align: right;\">\n",
       "      <th></th>\n",
       "      <th>CHROM</th>\n",
       "      <th>POS</th>\n",
       "      <th>ID</th>\n",
       "      <th>REF</th>\n",
       "      <th>ALT</th>\n",
       "      <th>QUAL</th>\n",
       "      <th>FILTER</th>\n",
       "      <th>INFO</th>\n",
       "      <th>FORMAT</th>\n",
       "    </tr>\n",
       "  </thead>\n",
       "  <tbody>\n",
       "    <tr>\n",
       "      <th>0</th>\n",
       "      <td>1</td>\n",
       "      <td>8</td>\n",
       "      <td>1</td>\n",
       "      <td>A</td>\n",
       "      <td>T</td>\n",
       "      <td>.</td>\n",
       "      <td>PASS</td>\n",
       "      <td>.</td>\n",
       "      <td>GT:AD:DP</td>\n",
       "    </tr>\n",
       "    <tr>\n",
       "      <th>1</th>\n",
       "      <td>1</td>\n",
       "      <td>33</td>\n",
       "      <td>2</td>\n",
       "      <td>A</td>\n",
       "      <td>T</td>\n",
       "      <td>.</td>\n",
       "      <td>PASS</td>\n",
       "      <td>.</td>\n",
       "      <td>GT:AD:DP</td>\n",
       "    </tr>\n",
       "    <tr>\n",
       "      <th>2</th>\n",
       "      <td>1</td>\n",
       "      <td>74</td>\n",
       "      <td>3</td>\n",
       "      <td>A</td>\n",
       "      <td>T</td>\n",
       "      <td>.</td>\n",
       "      <td>PASS</td>\n",
       "      <td>.</td>\n",
       "      <td>GT:AD:DP</td>\n",
       "    </tr>\n",
       "    <tr>\n",
       "      <th>3</th>\n",
       "      <td>1</td>\n",
       "      <td>83</td>\n",
       "      <td>4</td>\n",
       "      <td>A</td>\n",
       "      <td>T</td>\n",
       "      <td>.</td>\n",
       "      <td>PASS</td>\n",
       "      <td>.</td>\n",
       "      <td>GT:AD:DP</td>\n",
       "    </tr>\n",
       "    <tr>\n",
       "      <th>4</th>\n",
       "      <td>1</td>\n",
       "      <td>87</td>\n",
       "      <td>5</td>\n",
       "      <td>A</td>\n",
       "      <td>T</td>\n",
       "      <td>.</td>\n",
       "      <td>PASS</td>\n",
       "      <td>.</td>\n",
       "      <td>GT:AD:DP</td>\n",
       "    </tr>\n",
       "  </tbody>\n",
       "</table>\n",
       "</div>"
      ],
      "text/plain": [
       "  CHROM POS ID REF ALT QUAL FILTER INFO    FORMAT\n",
       "0     1   8  1   A   T    .   PASS    .  GT:AD:DP\n",
       "1     1  33  2   A   T    .   PASS    .  GT:AD:DP\n",
       "2     1  74  3   A   T    .   PASS    .  GT:AD:DP\n",
       "3     1  83  4   A   T    .   PASS    .  GT:AD:DP\n",
       "4     1  87  5   A   T    .   PASS    .  GT:AD:DP"
      ]
     },
     "execution_count": 3,
     "metadata": {},
     "output_type": "execute_result"
    }
   ],
   "source": [
    "summary.head()\n"
   ]
  },
  {
   "cell_type": "markdown",
   "metadata": {},
   "source": [
    "### Global variation\n",
    "\n",
    "Perform PCA across data set.\n",
    "\n",
    "Perform Mean shift clustering to attempt to extract genetically coherent groups of accessions.\n",
    "\n",
    "These will later be used for supervised analysis."
   ]
  },
  {
   "cell_type": "code",
   "execution_count": 4,
   "metadata": {},
   "outputs": [],
   "source": [
    "from structure_tools.Tutorial_subplots import plot_global_pca\n",
    "\n",
    "## Perform PCA\n",
    "n_comp= 3\n",
    "pca = PCA(n_components=n_comp, whiten=False,svd_solver='randomized')\n",
    "\n",
    "feats= pca.fit_transform(genotype)"
   ]
  },
  {
   "cell_type": "code",
   "execution_count": 5,
   "metadata": {},
   "outputs": [],
   "source": [
    "## perform MeanShift clustering.\n",
    "bandwidth = estimate_bandwidth(feats, quantile=0.1)\n",
    "\n",
    "ms = MeanShift(bandwidth=bandwidth, bin_seeding=False, cluster_all=True, min_bin_freq=45)\n",
    "ms.fit(feats)\n",
    "labels1 = ms.labels_\n",
    "label_select = {y:[x for x in range(len(labels1)) if labels1[x] == y] for y in sorted(list(set(labels1)))}\n",
    "###"
   ]
  },
  {
   "cell_type": "code",
   "execution_count": 6,
   "metadata": {},
   "outputs": [
    {
     "data": {
      "application/vnd.plotly.v1+json": {
       "config": {
        "linkText": "Export to plot.ly",
        "plotlyServerURL": "https://plot.ly",
        "showLink": false
       },
       "data": [
        {
         "marker": {
          "color": "darkseagreen",
          "line": {
           "width": 0
          },
          "opacity": 0.8,
          "size": 6,
          "symbol": "circle"
         },
         "mode": "markers",
         "name": "0",
         "type": "scatter",
         "x": [
          68.46982882354048,
          67.72909589594221,
          67.49967218353768,
          66.79416046428183,
          66.15222349269914,
          69.38764359534196,
          68.77342021591586,
          68.0162264938623,
          67.82832276415841,
          67.98258544302786,
          67.98952654423113,
          66.07245334709152,
          67.49916072748668,
          67.87421029315955,
          67.69820548806996,
          67.35545741455158,
          66.96127748197327,
          67.31303583300485,
          67.59533061799718,
          67.89973700499408,
          67.26773501168776,
          68.38060104367659,
          67.49850988570181,
          65.68590826576485,
          67.76796519145873,
          67.85563448409872,
          67.78622919294791,
          68.28531641868578,
          67.16063270746338,
          67.18265984733473,
          68.03080945300484,
          67.80150164911679,
          66.27307670476706,
          67.32594445398675,
          68.13437085653246,
          67.78090534709618,
          67.64473674379104,
          66.78721301406554,
          66.73804954286092,
          66.12644353750424
         ],
         "xaxis": "x",
         "y": [
          -4.358165444858039,
          -3.303638612089803,
          -4.977936196533848,
          -3.033934884302898,
          -3.307099363542488,
          -4.348760019167802,
          -4.075209549771562,
          -4.759646074736564,
          -4.23289807328536,
          -4.210813747527435,
          -5.0991627758362545,
          -4.542619965845053,
          -4.36138977191252,
          -4.005593997336778,
          -4.261683643900994,
          -3.2041773626796775,
          -4.148331136603434,
          -3.5920832167190087,
          -4.098863926316037,
          -4.973860650017252,
          -3.663483255907664,
          -5.186849969606489,
          -3.3174535122199758,
          -4.237897447572271,
          -4.83674064521259,
          -4.036833990061811,
          -3.767708332538269,
          -4.10410332841503,
          -3.7009229396815453,
          -3.571897664368378,
          -3.698833572771279,
          -3.211294346338486,
          -3.905148474149943,
          -4.292870121859108,
          -3.1058899408965255,
          -5.067686567880141,
          -4.166899595563014,
          -3.800662432598635,
          -3.7585313318927063,
          -3.8300049349350958
         ],
         "yaxis": "y"
        },
        {
         "marker": {
          "color": "crimson",
          "line": {
           "width": 0
          },
          "opacity": 0.8,
          "size": 6,
          "symbol": "circle"
         },
         "mode": "markers",
         "name": "1",
         "type": "scatter",
         "x": [
          -47.55316214137236,
          -47.418079511736906,
          -45.80763732169997,
          -47.31261649985441,
          -46.57242755540214,
          -46.1634684478029,
          -47.11138769232963,
          -46.160773427048724,
          -47.563885631940394,
          -45.63560635679148,
          -46.24563801180061,
          -45.8934524212452,
          -45.574944363906475,
          -47.012502689193965,
          -47.9270619397911,
          -45.05991299771889,
          -47.68165642251728,
          -47.58567842444634,
          -47.94735471315291,
          -46.373523260194666,
          -46.0773976091375,
          -47.58691755835345,
          -47.497491160150076,
          -47.110433565956846,
          -48.04683057067579,
          -47.837208824501616,
          -47.45064333770477,
          -46.56832659331918,
          -47.37230674811745,
          -47.215413474124304,
          -46.619557556496055,
          -47.54684707081448,
          -47.44668055837559,
          -45.88441315443838,
          -48.93938010540278,
          -45.854216078176506,
          -46.90205462257318,
          -47.955520121516436,
          -47.01085906712631,
          -47.266931409473756,
          -43.540131536069545,
          -35.606381983619535
         ],
         "xaxis": "x",
         "y": [
          -25.126770105064526,
          -25.06594330420105,
          -25.67484018371571,
          -25.61908994071484,
          -25.14716652968067,
          -26.725848558061305,
          -25.68555954101818,
          -26.022795346814714,
          -25.93210895443154,
          -25.372142004603653,
          -25.39292821640917,
          -24.892248567909416,
          -24.903667057970313,
          -26.116518326983506,
          -25.142989610638086,
          -24.91090968808785,
          -24.487374586719458,
          -25.171215937190464,
          -25.645246965315774,
          -24.666893555222423,
          -26.196788453783437,
          -26.30606344120324,
          -24.82362444905962,
          -25.372499207948128,
          -26.434525114053507,
          -26.238674103337758,
          -24.092688688329506,
          -25.003581026397107,
          -25.3101374223408,
          -24.52014374812406,
          -26.00224724045069,
          -22.717343698967554,
          -24.627791117810602,
          -23.869939215836546,
          -23.34792760755542,
          -25.199619028380692,
          -25.095939897265687,
          -25.48288785352583,
          -24.71844882111652,
          -27.098283401392656,
          -19.923178095969497,
          -19.610646353916586
         ],
         "yaxis": "y"
        },
        {
         "marker": {
          "color": "darkorange",
          "line": {
           "width": 0
          },
          "opacity": 0.8,
          "size": 6,
          "symbol": "circle"
         },
         "mode": "markers",
         "name": "2",
         "type": "scatter",
         "x": [
          -28.61592896925955,
          -29.51371053088627,
          -28.637312221266892,
          -28.936476041867696,
          -29.421121439416133,
          -28.784350536241938,
          -28.947502240959253,
          -28.404152861062816,
          -29.331536215731848,
          -28.55125295545716,
          -29.324069594993013,
          -28.68887271509712,
          -29.26399778615051,
          -29.975133526552682,
          -28.315371328893875,
          -30.99631861016856,
          -29.69458431660745,
          -29.550164765010248,
          -29.2053682518608,
          -29.101376581783246
         ],
         "xaxis": "x",
         "y": [
          67.09134343484777,
          68.70587875485296,
          67.89871307733827,
          68.59841631783218,
          68.62376021165157,
          67.89731877197444,
          68.71394290243944,
          68.11043834977232,
          67.9834683308018,
          68.65515234410323,
          67.77185754162916,
          67.96559008498252,
          68.9796572275371,
          69.28058697424572,
          67.6434490712276,
          68.60656024115315,
          68.38610676630516,
          69.57203206441325,
          68.06570498801062,
          69.04811128975665
         ],
         "yaxis": "y"
        },
        {
         "marker": {
          "color": "darkblue",
          "line": {
           "width": 0
          },
          "opacity": 0.8,
          "size": 6,
          "symbol": "circle"
         },
         "mode": "markers",
         "name": "3",
         "type": "scatter",
         "x": [
          -16.698025017362806,
          -19.380145265723794,
          -21.197671396234483,
          -28.572173270718316,
          -25.839130782462902
         ],
         "xaxis": "x",
         "y": [
          -19.512137737325276,
          -16.93087109724604,
          -21.450601165405324,
          -22.589927583617158,
          -20.629395290633706
         ],
         "yaxis": "y"
        },
        {
         "marker": {
          "color": "darkcyan",
          "line": {
           "width": 0
          },
          "opacity": 0.8,
          "size": 6,
          "symbol": "circle"
         },
         "mode": "markers",
         "name": "4",
         "type": "scatter",
         "x": [
          -0.07973533388043275,
          -3.1785338355501844,
          -1.3143198936449698
         ],
         "xaxis": "x",
         "y": [
          21.223302015828818,
          19.91518355088646,
          11.92314954338371
         ],
         "yaxis": "y"
        },
        {
         "marker": {
          "color": "darkgoldenrod",
          "line": {
           "width": 0
          },
          "opacity": 0.8,
          "size": 6,
          "symbol": "circle"
         },
         "mode": "markers",
         "name": "5",
         "type": "scatter",
         "x": [
          -8.27073431894368,
          -11.360404616778172,
          -7.393359606457105
         ],
         "xaxis": "x",
         "y": [
          5.420956429875386,
          10.833876597965022,
          4.937387987898309
         ],
         "yaxis": "y"
        },
        {
         "marker": {
          "color": "darkgray",
          "line": {
           "width": 0
          },
          "opacity": 0.8,
          "size": 6,
          "symbol": "circle"
         },
         "mode": "markers",
         "name": "6",
         "type": "scatter",
         "x": [
          -30.538898582329363,
          -35.167017133014,
          -31.872614051566842,
          -33.763197300497104
         ],
         "xaxis": "x",
         "y": [
          -8.22299921580358,
          -1.8997362253933037,
          -0.19034936725969268,
          -5.293071247941802
         ],
         "yaxis": "y"
        },
        {
         "marker": {
          "color": "darkgrey",
          "line": {
           "width": 0
          },
          "opacity": 0.8,
          "size": 6,
          "symbol": "circle"
         },
         "mode": "markers",
         "name": "7",
         "type": "scatter",
         "x": [
          55.034416667962226,
          45.59047906111354
         ],
         "xaxis": "x",
         "y": [
          -3.653959958755133,
          -5.894866901489548
         ],
         "yaxis": "y"
        },
        {
         "marker": {
          "color": "darkgreen",
          "line": {
           "width": 0
          },
          "opacity": 0.8,
          "size": 6,
          "symbol": "circle"
         },
         "mode": "markers",
         "name": "8",
         "type": "scatter",
         "x": [
          7.059352398932993,
          7.346794116187963
         ],
         "xaxis": "x",
         "y": [
          -9.916263429265403,
          -8.33782527050474
         ],
         "yaxis": "y"
        },
        {
         "marker": {
          "color": "darkkhaki",
          "line": {
           "width": 0
          },
          "opacity": 0.8,
          "size": 6,
          "symbol": "circle"
         },
         "mode": "markers",
         "name": "9",
         "type": "scatter",
         "x": [
          -19.87906087396681,
          -19.65290105638851
         ],
         "xaxis": "x",
         "y": [
          -5.656163518980209,
          -3.963816665130433
         ],
         "yaxis": "y"
        },
        {
         "marker": {
          "color": "darkmagenta",
          "line": {
           "width": 0
          },
          "opacity": 0.8,
          "size": 6,
          "symbol": "circle"
         },
         "mode": "markers",
         "name": "10",
         "type": "scatter",
         "x": [
          22.554380560418597
         ],
         "xaxis": "x",
         "y": [
          -8.469755553236078
         ],
         "yaxis": "y"
        },
        {
         "marker": {
          "color": "darkolivegreen",
          "line": {
           "width": 0
          },
          "opacity": 0.8,
          "size": 6,
          "symbol": "circle"
         },
         "mode": "markers",
         "name": "11",
         "type": "scatter",
         "x": [
          17.443204891674537
         ],
         "xaxis": "x",
         "y": [
          -13.527423439339149
         ],
         "yaxis": "y"
        },
        {
         "marker": {
          "color": "darkorange",
          "line": {
           "width": 0
          },
          "opacity": 0.8,
          "size": 6,
          "symbol": "circle"
         },
         "mode": "markers",
         "name": "12",
         "type": "scatter",
         "x": [
          15.624952072756845
         ],
         "xaxis": "x",
         "y": [
          -7.38777963627224
         ],
         "yaxis": "y"
        },
        {
         "marker": {
          "color": "darkorchid",
          "line": {
           "width": 0
          },
          "opacity": 0.8,
          "size": 6,
          "symbol": "circle"
         },
         "mode": "markers",
         "name": "13",
         "type": "scatter",
         "x": [
          6.033188831282275
         ],
         "xaxis": "x",
         "y": [
          -11.049540880464784
         ],
         "yaxis": "y"
        },
        {
         "marker": {
          "color": "darkred",
          "line": {
           "width": 0
          },
          "opacity": 0.8,
          "size": 6,
          "symbol": "circle"
         },
         "mode": "markers",
         "name": "14",
         "type": "scatter",
         "x": [
          1.0402578271402547
         ],
         "xaxis": "x",
         "y": [
          -3.2367886263997216
         ],
         "yaxis": "y"
        },
        {
         "marker": {
          "color": "darksalmon",
          "line": {
           "width": 0
          },
          "opacity": 0.8,
          "size": 6,
          "symbol": "circle"
         },
         "mode": "markers",
         "name": "15",
         "type": "scatter",
         "x": [
          -5.0082094944513225
         ],
         "xaxis": "x",
         "y": [
          -17.620627514180033
         ],
         "yaxis": "y"
        },
        {
         "marker": {
          "color": "darkseagreen",
          "line": {
           "width": 0
          },
          "opacity": 0.8,
          "size": 6,
          "symbol": "circle"
         },
         "mode": "markers",
         "name": "16",
         "type": "scatter",
         "x": [
          -17.771398048575065
         ],
         "xaxis": "x",
         "y": [
          -14.565228761099238
         ],
         "yaxis": "y"
        },
        {
         "marker": {
          "color": "darkseagreen",
          "line": {
           "width": 0
          },
          "opacity": 0.8,
          "size": 6,
          "symbol": "circle"
         },
         "mode": "markers",
         "name": "0",
         "type": "scatter",
         "x": [
          68.46982882354048,
          67.72909589594221,
          67.49967218353768,
          66.79416046428183,
          66.15222349269914,
          69.38764359534196,
          68.77342021591586,
          68.0162264938623,
          67.82832276415841,
          67.98258544302786,
          67.98952654423113,
          66.07245334709152,
          67.49916072748668,
          67.87421029315955,
          67.69820548806996,
          67.35545741455158,
          66.96127748197327,
          67.31303583300485,
          67.59533061799718,
          67.89973700499408,
          67.26773501168776,
          68.38060104367659,
          67.49850988570181,
          65.68590826576485,
          67.76796519145873,
          67.85563448409872,
          67.78622919294791,
          68.28531641868578,
          67.16063270746338,
          67.18265984733473,
          68.03080945300484,
          67.80150164911679,
          66.27307670476706,
          67.32594445398675,
          68.13437085653246,
          67.78090534709618,
          67.64473674379104,
          66.78721301406554,
          66.73804954286092,
          66.12644353750424
         ],
         "xaxis": "x2",
         "y": [
          -5.093932787210296,
          -6.063900349595287,
          -4.981449212716274,
          -4.550088962133932,
          -6.012712758894227,
          -6.845022164689261,
          -5.225362148565248,
          -5.644449528535826,
          -5.800153910019181,
          -6.1751583627320725,
          -5.757529737511148,
          -4.559309800717959,
          -4.486702906551747,
          -6.001405523144126,
          -5.593096393478222,
          -5.933241989642402,
          -6.191397461565196,
          -5.915278816563084,
          -4.943323497693596,
          -5.6555992839654605,
          -5.400841439937029,
          -5.189332864926619,
          -6.010762208758997,
          -5.335560586762543,
          -5.9065673279684825,
          -5.60366735184141,
          -5.032219445672305,
          -5.377930516849441,
          -5.605098897298847,
          -4.491805345085776,
          -5.371224990173534,
          -5.089540822868334,
          -6.419990592547657,
          -5.5604694567267865,
          -6.0437029728457405,
          -5.50128514651558,
          -5.7329718216863785,
          -5.941522370595785,
          -5.171245828243573,
          -4.522309333691361
         ],
         "yaxis": "y2"
        },
        {
         "marker": {
          "color": "crimson",
          "line": {
           "width": 0
          },
          "opacity": 0.8,
          "size": 6,
          "symbol": "circle"
         },
         "mode": "markers",
         "name": "1",
         "type": "scatter",
         "x": [
          -47.55316214137236,
          -47.418079511736906,
          -45.80763732169997,
          -47.31261649985441,
          -46.57242755540214,
          -46.1634684478029,
          -47.11138769232963,
          -46.160773427048724,
          -47.563885631940394,
          -45.63560635679148,
          -46.24563801180061,
          -45.8934524212452,
          -45.574944363906475,
          -47.012502689193965,
          -47.9270619397911,
          -45.05991299771889,
          -47.68165642251728,
          -47.58567842444634,
          -47.94735471315291,
          -46.373523260194666,
          -46.0773976091375,
          -47.58691755835345,
          -47.497491160150076,
          -47.110433565956846,
          -48.04683057067579,
          -47.837208824501616,
          -47.45064333770477,
          -46.56832659331918,
          -47.37230674811745,
          -47.215413474124304,
          -46.619557556496055,
          -47.54684707081448,
          -47.44668055837559,
          -45.88441315443838,
          -48.93938010540278,
          -45.854216078176506,
          -46.90205462257318,
          -47.955520121516436,
          -47.01085906712631,
          -47.266931409473756,
          -43.540131536069545,
          -35.606381983619535
         ],
         "xaxis": "x2",
         "y": [
          -8.08516123777917,
          -8.259179876296992,
          -6.341222216102705,
          -7.915794768415565,
          -9.140852915815316,
          -8.399328062733106,
          -7.564537200033078,
          -6.276419205735287,
          -8.008229522996194,
          -7.749919519711012,
          -6.216789989412785,
          -6.620403983786899,
          -6.302235758165479,
          -6.837798908976264,
          -6.853590010315924,
          -9.77329114971798,
          -6.370642906420879,
          -8.317387404100348,
          -8.678818824384797,
          -7.827534742942092,
          -6.580152949691741,
          -7.089962497691698,
          -8.071510685217223,
          -7.854528728543747,
          -6.542229204419779,
          -6.161390100122353,
          -6.927916557202619,
          -10.429149330864496,
          -8.221457073151223,
          -6.571063531716438,
          -7.609716265258819,
          -8.494792004235538,
          -6.812187436502226,
          -7.245189727597942,
          -7.624397998804052,
          -7.7443609736163355,
          -7.421826546336013,
          -5.818517716165342,
          -6.785793537774048,
          -6.002504695426314,
          1.1507011934179294,
          -9.443401282864889
         ],
         "yaxis": "y2"
        },
        {
         "marker": {
          "color": "darkorange",
          "line": {
           "width": 0
          },
          "opacity": 0.8,
          "size": 6,
          "symbol": "circle"
         },
         "mode": "markers",
         "name": "2",
         "type": "scatter",
         "x": [
          -28.61592896925955,
          -29.51371053088627,
          -28.637312221266892,
          -28.936476041867696,
          -29.421121439416133,
          -28.784350536241938,
          -28.947502240959253,
          -28.404152861062816,
          -29.331536215731848,
          -28.55125295545716,
          -29.324069594993013,
          -28.68887271509712,
          -29.26399778615051,
          -29.975133526552682,
          -28.315371328893875,
          -30.99631861016856,
          -29.69458431660745,
          -29.550164765010248,
          -29.2053682518608,
          -29.101376581783246
         ],
         "xaxis": "x2",
         "y": [
          -11.792258985659592,
          -9.90656247547877,
          -9.757602405544631,
          -10.037232367374218,
          -9.521813995540073,
          -10.928749546988481,
          -9.806249708952635,
          -11.713836703546658,
          -11.324196269808711,
          -12.695884562595424,
          -10.5392939715266,
          -10.03555985368799,
          -10.062241813911868,
          -10.540377764733288,
          -11.069466942945402,
          -9.840652004611362,
          -10.170920575990376,
          -8.486153513375417,
          -11.453666254837199,
          -10.514700029819497
         ],
         "yaxis": "y2"
        },
        {
         "marker": {
          "color": "darkblue",
          "line": {
           "width": 0
          },
          "opacity": 0.8,
          "size": 6,
          "symbol": "circle"
         },
         "mode": "markers",
         "name": "3",
         "type": "scatter",
         "x": [
          -16.698025017362806,
          -19.380145265723794,
          -21.197671396234483,
          -28.572173270718316,
          -25.839130782462902
         ],
         "xaxis": "x2",
         "y": [
          -9.472054127623014,
          -8.62710039563347,
          -8.772899906525891,
          -5.802098115584776,
          -9.478354008095465
         ],
         "yaxis": "y2"
        },
        {
         "marker": {
          "color": "darkcyan",
          "line": {
           "width": 0
          },
          "opacity": 0.8,
          "size": 6,
          "symbol": "circle"
         },
         "mode": "markers",
         "name": "4",
         "type": "scatter",
         "x": [
          -0.07973533388043275,
          -3.1785338355501844,
          -1.3143198936449698
         ],
         "xaxis": "x2",
         "y": [
          92.52598765322597,
          84.17919216271473,
          94.1746874098724
         ],
         "yaxis": "y2"
        },
        {
         "marker": {
          "color": "darkgoldenrod",
          "line": {
           "width": 0
          },
          "opacity": 0.8,
          "size": 6,
          "symbol": "circle"
         },
         "mode": "markers",
         "name": "5",
         "type": "scatter",
         "x": [
          -8.27073431894368,
          -11.360404616778172,
          -7.393359606457105
         ],
         "xaxis": "x2",
         "y": [
          80.28163729823574,
          73.13317465670809,
          76.49664104263302
         ],
         "yaxis": "y2"
        },
        {
         "marker": {
          "color": "darkgray",
          "line": {
           "width": 0
          },
          "opacity": 0.8,
          "size": 6,
          "symbol": "circle"
         },
         "mode": "markers",
         "name": "6",
         "type": "scatter",
         "x": [
          -30.538898582329363,
          -35.167017133014,
          -31.872614051566842,
          -33.763197300497104
         ],
         "xaxis": "x2",
         "y": [
          29.414253392795338,
          13.638635815887017,
          14.623445644124898,
          21.922688528762855
         ],
         "yaxis": "y2"
        },
        {
         "marker": {
          "color": "darkgrey",
          "line": {
           "width": 0
          },
          "opacity": 0.8,
          "size": 6,
          "symbol": "circle"
         },
         "mode": "markers",
         "name": "7",
         "type": "scatter",
         "x": [
          55.034416667962226,
          45.59047906111354
         ],
         "xaxis": "x2",
         "y": [
          3.5639498632604094,
          0.6309887329071798
         ],
         "yaxis": "y2"
        },
        {
         "marker": {
          "color": "darkgreen",
          "line": {
           "width": 0
          },
          "opacity": 0.8,
          "size": 6,
          "symbol": "circle"
         },
         "mode": "markers",
         "name": "8",
         "type": "scatter",
         "x": [
          7.059352398932993,
          7.346794116187963
         ],
         "xaxis": "x2",
         "y": [
          9.442650764257673,
          17.220368874952804
         ],
         "yaxis": "y2"
        },
        {
         "marker": {
          "color": "darkkhaki",
          "line": {
           "width": 0
          },
          "opacity": 0.8,
          "size": 6,
          "symbol": "circle"
         },
         "mode": "markers",
         "name": "9",
         "type": "scatter",
         "x": [
          -19.87906087396681,
          -19.65290105638851
         ],
         "xaxis": "x2",
         "y": [
          54.86647377670349,
          53.14115509167992
         ],
         "yaxis": "y2"
        },
        {
         "marker": {
          "color": "darkmagenta",
          "line": {
           "width": 0
          },
          "opacity": 0.8,
          "size": 6,
          "symbol": "circle"
         },
         "mode": "markers",
         "name": "10",
         "type": "scatter",
         "x": [
          22.554380560418597
         ],
         "xaxis": "x2",
         "y": [
          8.625974145882651
         ],
         "yaxis": "y2"
        },
        {
         "marker": {
          "color": "darkolivegreen",
          "line": {
           "width": 0
          },
          "opacity": 0.8,
          "size": 6,
          "symbol": "circle"
         },
         "mode": "markers",
         "name": "11",
         "type": "scatter",
         "x": [
          17.443204891674537
         ],
         "xaxis": "x2",
         "y": [
          -5.144144285178905
         ],
         "yaxis": "y2"
        },
        {
         "marker": {
          "color": "darkorange",
          "line": {
           "width": 0
          },
          "opacity": 0.8,
          "size": 6,
          "symbol": "circle"
         },
         "mode": "markers",
         "name": "12",
         "type": "scatter",
         "x": [
          15.624952072756845
         ],
         "xaxis": "x2",
         "y": [
          25.15092455495962
         ],
         "yaxis": "y2"
        },
        {
         "marker": {
          "color": "darkorchid",
          "line": {
           "width": 0
          },
          "opacity": 0.8,
          "size": 6,
          "symbol": "circle"
         },
         "mode": "markers",
         "name": "13",
         "type": "scatter",
         "x": [
          6.033188831282275
         ],
         "xaxis": "x2",
         "y": [
          -4.947387589717527
         ],
         "yaxis": "y2"
        },
        {
         "marker": {
          "color": "darkred",
          "line": {
           "width": 0
          },
          "opacity": 0.8,
          "size": 6,
          "symbol": "circle"
         },
         "mode": "markers",
         "name": "14",
         "type": "scatter",
         "x": [
          1.0402578271402547
         ],
         "xaxis": "x2",
         "y": [
          33.99608383035929
         ],
         "yaxis": "y2"
        },
        {
         "marker": {
          "color": "darksalmon",
          "line": {
           "width": 0
          },
          "opacity": 0.8,
          "size": 6,
          "symbol": "circle"
         },
         "mode": "markers",
         "name": "15",
         "type": "scatter",
         "x": [
          -5.0082094944513225
         ],
         "xaxis": "x2",
         "y": [
          -8.373061725785174
         ],
         "yaxis": "y2"
        },
        {
         "marker": {
          "color": "darkseagreen",
          "line": {
           "width": 0
          },
          "opacity": 0.8,
          "size": 6,
          "symbol": "circle"
         },
         "mode": "markers",
         "name": "16",
         "type": "scatter",
         "x": [
          -17.771398048575065
         ],
         "xaxis": "x2",
         "y": [
          10.363257431696905
         ],
         "yaxis": "y2"
        }
       ],
       "layout": {
        "annotations": [
         {
          "font": {
           "size": 16
          },
          "showarrow": false,
          "text": "global_pca",
          "x": 0.225,
          "xanchor": "center",
          "xref": "paper",
          "y": 1,
          "yanchor": "bottom",
          "yref": "paper"
         },
         {
          "font": {
           "size": 16
          },
          "showarrow": false,
          "text": "global_pca",
          "x": 0.775,
          "xanchor": "center",
          "xref": "paper",
          "y": 1,
          "yanchor": "bottom",
          "yref": "paper"
         }
        ],
        "height": 500,
        "template": {
         "data": {
          "bar": [
           {
            "error_x": {
             "color": "#2a3f5f"
            },
            "error_y": {
             "color": "#2a3f5f"
            },
            "marker": {
             "line": {
              "color": "#E5ECF6",
              "width": 0.5
             }
            },
            "type": "bar"
           }
          ],
          "barpolar": [
           {
            "marker": {
             "line": {
              "color": "#E5ECF6",
              "width": 0.5
             }
            },
            "type": "barpolar"
           }
          ],
          "carpet": [
           {
            "aaxis": {
             "endlinecolor": "#2a3f5f",
             "gridcolor": "white",
             "linecolor": "white",
             "minorgridcolor": "white",
             "startlinecolor": "#2a3f5f"
            },
            "baxis": {
             "endlinecolor": "#2a3f5f",
             "gridcolor": "white",
             "linecolor": "white",
             "minorgridcolor": "white",
             "startlinecolor": "#2a3f5f"
            },
            "type": "carpet"
           }
          ],
          "choropleth": [
           {
            "colorbar": {
             "outlinewidth": 0,
             "ticks": ""
            },
            "type": "choropleth"
           }
          ],
          "contour": [
           {
            "colorbar": {
             "outlinewidth": 0,
             "ticks": ""
            },
            "colorscale": [
             [
              0,
              "#0d0887"
             ],
             [
              0.1111111111111111,
              "#46039f"
             ],
             [
              0.2222222222222222,
              "#7201a8"
             ],
             [
              0.3333333333333333,
              "#9c179e"
             ],
             [
              0.4444444444444444,
              "#bd3786"
             ],
             [
              0.5555555555555556,
              "#d8576b"
             ],
             [
              0.6666666666666666,
              "#ed7953"
             ],
             [
              0.7777777777777778,
              "#fb9f3a"
             ],
             [
              0.8888888888888888,
              "#fdca26"
             ],
             [
              1,
              "#f0f921"
             ]
            ],
            "type": "contour"
           }
          ],
          "contourcarpet": [
           {
            "colorbar": {
             "outlinewidth": 0,
             "ticks": ""
            },
            "type": "contourcarpet"
           }
          ],
          "heatmap": [
           {
            "colorbar": {
             "outlinewidth": 0,
             "ticks": ""
            },
            "colorscale": [
             [
              0,
              "#0d0887"
             ],
             [
              0.1111111111111111,
              "#46039f"
             ],
             [
              0.2222222222222222,
              "#7201a8"
             ],
             [
              0.3333333333333333,
              "#9c179e"
             ],
             [
              0.4444444444444444,
              "#bd3786"
             ],
             [
              0.5555555555555556,
              "#d8576b"
             ],
             [
              0.6666666666666666,
              "#ed7953"
             ],
             [
              0.7777777777777778,
              "#fb9f3a"
             ],
             [
              0.8888888888888888,
              "#fdca26"
             ],
             [
              1,
              "#f0f921"
             ]
            ],
            "type": "heatmap"
           }
          ],
          "heatmapgl": [
           {
            "colorbar": {
             "outlinewidth": 0,
             "ticks": ""
            },
            "colorscale": [
             [
              0,
              "#0d0887"
             ],
             [
              0.1111111111111111,
              "#46039f"
             ],
             [
              0.2222222222222222,
              "#7201a8"
             ],
             [
              0.3333333333333333,
              "#9c179e"
             ],
             [
              0.4444444444444444,
              "#bd3786"
             ],
             [
              0.5555555555555556,
              "#d8576b"
             ],
             [
              0.6666666666666666,
              "#ed7953"
             ],
             [
              0.7777777777777778,
              "#fb9f3a"
             ],
             [
              0.8888888888888888,
              "#fdca26"
             ],
             [
              1,
              "#f0f921"
             ]
            ],
            "type": "heatmapgl"
           }
          ],
          "histogram": [
           {
            "marker": {
             "colorbar": {
              "outlinewidth": 0,
              "ticks": ""
             }
            },
            "type": "histogram"
           }
          ],
          "histogram2d": [
           {
            "colorbar": {
             "outlinewidth": 0,
             "ticks": ""
            },
            "colorscale": [
             [
              0,
              "#0d0887"
             ],
             [
              0.1111111111111111,
              "#46039f"
             ],
             [
              0.2222222222222222,
              "#7201a8"
             ],
             [
              0.3333333333333333,
              "#9c179e"
             ],
             [
              0.4444444444444444,
              "#bd3786"
             ],
             [
              0.5555555555555556,
              "#d8576b"
             ],
             [
              0.6666666666666666,
              "#ed7953"
             ],
             [
              0.7777777777777778,
              "#fb9f3a"
             ],
             [
              0.8888888888888888,
              "#fdca26"
             ],
             [
              1,
              "#f0f921"
             ]
            ],
            "type": "histogram2d"
           }
          ],
          "histogram2dcontour": [
           {
            "colorbar": {
             "outlinewidth": 0,
             "ticks": ""
            },
            "colorscale": [
             [
              0,
              "#0d0887"
             ],
             [
              0.1111111111111111,
              "#46039f"
             ],
             [
              0.2222222222222222,
              "#7201a8"
             ],
             [
              0.3333333333333333,
              "#9c179e"
             ],
             [
              0.4444444444444444,
              "#bd3786"
             ],
             [
              0.5555555555555556,
              "#d8576b"
             ],
             [
              0.6666666666666666,
              "#ed7953"
             ],
             [
              0.7777777777777778,
              "#fb9f3a"
             ],
             [
              0.8888888888888888,
              "#fdca26"
             ],
             [
              1,
              "#f0f921"
             ]
            ],
            "type": "histogram2dcontour"
           }
          ],
          "mesh3d": [
           {
            "colorbar": {
             "outlinewidth": 0,
             "ticks": ""
            },
            "type": "mesh3d"
           }
          ],
          "parcoords": [
           {
            "line": {
             "colorbar": {
              "outlinewidth": 0,
              "ticks": ""
             }
            },
            "type": "parcoords"
           }
          ],
          "pie": [
           {
            "automargin": true,
            "type": "pie"
           }
          ],
          "scatter": [
           {
            "marker": {
             "colorbar": {
              "outlinewidth": 0,
              "ticks": ""
             }
            },
            "type": "scatter"
           }
          ],
          "scatter3d": [
           {
            "line": {
             "colorbar": {
              "outlinewidth": 0,
              "ticks": ""
             }
            },
            "marker": {
             "colorbar": {
              "outlinewidth": 0,
              "ticks": ""
             }
            },
            "type": "scatter3d"
           }
          ],
          "scattercarpet": [
           {
            "marker": {
             "colorbar": {
              "outlinewidth": 0,
              "ticks": ""
             }
            },
            "type": "scattercarpet"
           }
          ],
          "scattergeo": [
           {
            "marker": {
             "colorbar": {
              "outlinewidth": 0,
              "ticks": ""
             }
            },
            "type": "scattergeo"
           }
          ],
          "scattergl": [
           {
            "marker": {
             "colorbar": {
              "outlinewidth": 0,
              "ticks": ""
             }
            },
            "type": "scattergl"
           }
          ],
          "scattermapbox": [
           {
            "marker": {
             "colorbar": {
              "outlinewidth": 0,
              "ticks": ""
             }
            },
            "type": "scattermapbox"
           }
          ],
          "scatterpolar": [
           {
            "marker": {
             "colorbar": {
              "outlinewidth": 0,
              "ticks": ""
             }
            },
            "type": "scatterpolar"
           }
          ],
          "scatterpolargl": [
           {
            "marker": {
             "colorbar": {
              "outlinewidth": 0,
              "ticks": ""
             }
            },
            "type": "scatterpolargl"
           }
          ],
          "scatterternary": [
           {
            "marker": {
             "colorbar": {
              "outlinewidth": 0,
              "ticks": ""
             }
            },
            "type": "scatterternary"
           }
          ],
          "surface": [
           {
            "colorbar": {
             "outlinewidth": 0,
             "ticks": ""
            },
            "colorscale": [
             [
              0,
              "#0d0887"
             ],
             [
              0.1111111111111111,
              "#46039f"
             ],
             [
              0.2222222222222222,
              "#7201a8"
             ],
             [
              0.3333333333333333,
              "#9c179e"
             ],
             [
              0.4444444444444444,
              "#bd3786"
             ],
             [
              0.5555555555555556,
              "#d8576b"
             ],
             [
              0.6666666666666666,
              "#ed7953"
             ],
             [
              0.7777777777777778,
              "#fb9f3a"
             ],
             [
              0.8888888888888888,
              "#fdca26"
             ],
             [
              1,
              "#f0f921"
             ]
            ],
            "type": "surface"
           }
          ],
          "table": [
           {
            "cells": {
             "fill": {
              "color": "#EBF0F8"
             },
             "line": {
              "color": "white"
             }
            },
            "header": {
             "fill": {
              "color": "#C8D4E3"
             },
             "line": {
              "color": "white"
             }
            },
            "type": "table"
           }
          ]
         },
         "layout": {
          "annotationdefaults": {
           "arrowcolor": "#2a3f5f",
           "arrowhead": 0,
           "arrowwidth": 1
          },
          "coloraxis": {
           "colorbar": {
            "outlinewidth": 0,
            "ticks": ""
           }
          },
          "colorscale": {
           "diverging": [
            [
             0,
             "#8e0152"
            ],
            [
             0.1,
             "#c51b7d"
            ],
            [
             0.2,
             "#de77ae"
            ],
            [
             0.3,
             "#f1b6da"
            ],
            [
             0.4,
             "#fde0ef"
            ],
            [
             0.5,
             "#f7f7f7"
            ],
            [
             0.6,
             "#e6f5d0"
            ],
            [
             0.7,
             "#b8e186"
            ],
            [
             0.8,
             "#7fbc41"
            ],
            [
             0.9,
             "#4d9221"
            ],
            [
             1,
             "#276419"
            ]
           ],
           "sequential": [
            [
             0,
             "#0d0887"
            ],
            [
             0.1111111111111111,
             "#46039f"
            ],
            [
             0.2222222222222222,
             "#7201a8"
            ],
            [
             0.3333333333333333,
             "#9c179e"
            ],
            [
             0.4444444444444444,
             "#bd3786"
            ],
            [
             0.5555555555555556,
             "#d8576b"
            ],
            [
             0.6666666666666666,
             "#ed7953"
            ],
            [
             0.7777777777777778,
             "#fb9f3a"
            ],
            [
             0.8888888888888888,
             "#fdca26"
            ],
            [
             1,
             "#f0f921"
            ]
           ],
           "sequentialminus": [
            [
             0,
             "#0d0887"
            ],
            [
             0.1111111111111111,
             "#46039f"
            ],
            [
             0.2222222222222222,
             "#7201a8"
            ],
            [
             0.3333333333333333,
             "#9c179e"
            ],
            [
             0.4444444444444444,
             "#bd3786"
            ],
            [
             0.5555555555555556,
             "#d8576b"
            ],
            [
             0.6666666666666666,
             "#ed7953"
            ],
            [
             0.7777777777777778,
             "#fb9f3a"
            ],
            [
             0.8888888888888888,
             "#fdca26"
            ],
            [
             1,
             "#f0f921"
            ]
           ]
          },
          "colorway": [
           "#636efa",
           "#EF553B",
           "#00cc96",
           "#ab63fa",
           "#FFA15A",
           "#19d3f3",
           "#FF6692",
           "#B6E880",
           "#FF97FF",
           "#FECB52"
          ],
          "font": {
           "color": "#2a3f5f"
          },
          "geo": {
           "bgcolor": "white",
           "lakecolor": "white",
           "landcolor": "#E5ECF6",
           "showlakes": true,
           "showland": true,
           "subunitcolor": "white"
          },
          "hoverlabel": {
           "align": "left"
          },
          "hovermode": "closest",
          "mapbox": {
           "style": "light"
          },
          "paper_bgcolor": "white",
          "plot_bgcolor": "#E5ECF6",
          "polar": {
           "angularaxis": {
            "gridcolor": "white",
            "linecolor": "white",
            "ticks": ""
           },
           "bgcolor": "#E5ECF6",
           "radialaxis": {
            "gridcolor": "white",
            "linecolor": "white",
            "ticks": ""
           }
          },
          "scene": {
           "xaxis": {
            "backgroundcolor": "#E5ECF6",
            "gridcolor": "white",
            "gridwidth": 2,
            "linecolor": "white",
            "showbackground": true,
            "ticks": "",
            "zerolinecolor": "white"
           },
           "yaxis": {
            "backgroundcolor": "#E5ECF6",
            "gridcolor": "white",
            "gridwidth": 2,
            "linecolor": "white",
            "showbackground": true,
            "ticks": "",
            "zerolinecolor": "white"
           },
           "zaxis": {
            "backgroundcolor": "#E5ECF6",
            "gridcolor": "white",
            "gridwidth": 2,
            "linecolor": "white",
            "showbackground": true,
            "ticks": "",
            "zerolinecolor": "white"
           }
          },
          "shapedefaults": {
           "line": {
            "color": "#2a3f5f"
           }
          },
          "ternary": {
           "aaxis": {
            "gridcolor": "white",
            "linecolor": "white",
            "ticks": ""
           },
           "baxis": {
            "gridcolor": "white",
            "linecolor": "white",
            "ticks": ""
           },
           "bgcolor": "#E5ECF6",
           "caxis": {
            "gridcolor": "white",
            "linecolor": "white",
            "ticks": ""
           }
          },
          "title": {
           "x": 0.05
          },
          "xaxis": {
           "automargin": true,
           "gridcolor": "white",
           "linecolor": "white",
           "ticks": "",
           "title": {
            "standoff": 15
           },
           "zerolinecolor": "white",
           "zerolinewidth": 2
          },
          "yaxis": {
           "automargin": true,
           "gridcolor": "white",
           "linecolor": "white",
           "ticks": "",
           "title": {
            "standoff": 15
           },
           "zerolinecolor": "white",
           "zerolinewidth": 2
          }
         }
        },
        "width": 950,
        "xaxis": {
         "anchor": "y",
         "domain": [
          0,
          0.45
         ],
         "title": {
          "text": "PC1"
         }
        },
        "xaxis2": {
         "anchor": "y2",
         "domain": [
          0.55,
          1
         ],
         "title": {
          "text": "PC1"
         }
        },
        "yaxis": {
         "anchor": "x",
         "domain": [
          0,
          1
         ],
         "title": {
          "text": "PC2"
         }
        },
        "yaxis2": {
         "anchor": "x2",
         "domain": [
          0,
          1
         ],
         "title": {
          "text": "PC3"
         }
        }
       }
      },
      "text/html": [
       "<div>\n",
       "        \n",
       "        \n",
       "            <div id=\"0422bdc1-d3f6-421e-b059-aa5d0c061422\" class=\"plotly-graph-div\" style=\"height:500px; width:950px;\"></div>\n",
       "            <script type=\"text/javascript\">\n",
       "                require([\"plotly\"], function(Plotly) {\n",
       "                    window.PLOTLYENV=window.PLOTLYENV || {};\n",
       "                    \n",
       "                if (document.getElementById(\"0422bdc1-d3f6-421e-b059-aa5d0c061422\")) {\n",
       "                    Plotly.newPlot(\n",
       "                        '0422bdc1-d3f6-421e-b059-aa5d0c061422',\n",
       "                        [{\"marker\": {\"color\": \"darkseagreen\", \"line\": {\"width\": 0}, \"opacity\": 0.8, \"size\": 6, \"symbol\": \"circle\"}, \"mode\": \"markers\", \"name\": \"0\", \"type\": \"scatter\", \"x\": [68.46982882354048, 67.72909589594221, 67.49967218353768, 66.79416046428183, 66.15222349269914, 69.38764359534196, 68.77342021591586, 68.0162264938623, 67.82832276415841, 67.98258544302786, 67.98952654423113, 66.07245334709152, 67.49916072748668, 67.87421029315955, 67.69820548806996, 67.35545741455158, 66.96127748197327, 67.31303583300485, 67.59533061799718, 67.89973700499408, 67.26773501168776, 68.38060104367659, 67.49850988570181, 65.68590826576485, 67.76796519145873, 67.85563448409872, 67.78622919294791, 68.28531641868578, 67.16063270746338, 67.18265984733473, 68.03080945300484, 67.80150164911679, 66.27307670476706, 67.32594445398675, 68.13437085653246, 67.78090534709618, 67.64473674379104, 66.78721301406554, 66.73804954286092, 66.12644353750424], \"xaxis\": \"x\", \"y\": [-4.358165444858039, -3.303638612089803, -4.977936196533848, -3.033934884302898, -3.307099363542488, -4.348760019167802, -4.075209549771562, -4.759646074736564, -4.23289807328536, -4.210813747527435, -5.0991627758362545, -4.542619965845053, -4.36138977191252, -4.005593997336778, -4.261683643900994, -3.2041773626796775, -4.148331136603434, -3.5920832167190087, -4.098863926316037, -4.973860650017252, -3.663483255907664, -5.186849969606489, -3.3174535122199758, -4.237897447572271, -4.83674064521259, -4.036833990061811, -3.767708332538269, -4.10410332841503, -3.7009229396815453, -3.571897664368378, -3.698833572771279, -3.211294346338486, -3.905148474149943, -4.292870121859108, -3.1058899408965255, -5.067686567880141, -4.166899595563014, -3.800662432598635, -3.7585313318927063, -3.8300049349350958], \"yaxis\": \"y\"}, {\"marker\": {\"color\": \"crimson\", \"line\": {\"width\": 0}, \"opacity\": 0.8, \"size\": 6, \"symbol\": \"circle\"}, \"mode\": \"markers\", \"name\": \"1\", \"type\": \"scatter\", \"x\": [-47.55316214137236, -47.418079511736906, -45.80763732169997, -47.31261649985441, -46.57242755540214, -46.1634684478029, -47.11138769232963, -46.160773427048724, -47.563885631940394, -45.63560635679148, -46.24563801180061, -45.8934524212452, -45.574944363906475, -47.012502689193965, -47.9270619397911, -45.05991299771889, -47.68165642251728, -47.58567842444634, -47.94735471315291, -46.373523260194666, -46.0773976091375, -47.58691755835345, -47.497491160150076, -47.110433565956846, -48.04683057067579, -47.837208824501616, -47.45064333770477, -46.56832659331918, -47.37230674811745, -47.215413474124304, -46.619557556496055, -47.54684707081448, -47.44668055837559, -45.88441315443838, -48.93938010540278, -45.854216078176506, -46.90205462257318, -47.955520121516436, -47.01085906712631, -47.266931409473756, -43.540131536069545, -35.606381983619535], \"xaxis\": \"x\", \"y\": [-25.126770105064526, -25.06594330420105, -25.67484018371571, -25.61908994071484, -25.14716652968067, -26.725848558061305, -25.68555954101818, -26.022795346814714, -25.93210895443154, -25.372142004603653, -25.39292821640917, -24.892248567909416, -24.903667057970313, -26.116518326983506, -25.142989610638086, -24.91090968808785, -24.487374586719458, -25.171215937190464, -25.645246965315774, -24.666893555222423, -26.196788453783437, -26.30606344120324, -24.82362444905962, -25.372499207948128, -26.434525114053507, -26.238674103337758, -24.092688688329506, -25.003581026397107, -25.3101374223408, -24.52014374812406, -26.00224724045069, -22.717343698967554, -24.627791117810602, -23.869939215836546, -23.34792760755542, -25.199619028380692, -25.095939897265687, -25.48288785352583, -24.71844882111652, -27.098283401392656, -19.923178095969497, -19.610646353916586], \"yaxis\": \"y\"}, {\"marker\": {\"color\": \"darkorange\", \"line\": {\"width\": 0}, \"opacity\": 0.8, \"size\": 6, \"symbol\": \"circle\"}, \"mode\": \"markers\", \"name\": \"2\", \"type\": \"scatter\", \"x\": [-28.61592896925955, -29.51371053088627, -28.637312221266892, -28.936476041867696, -29.421121439416133, -28.784350536241938, -28.947502240959253, -28.404152861062816, -29.331536215731848, -28.55125295545716, -29.324069594993013, -28.68887271509712, -29.26399778615051, -29.975133526552682, -28.315371328893875, -30.99631861016856, -29.69458431660745, -29.550164765010248, -29.2053682518608, -29.101376581783246], \"xaxis\": \"x\", \"y\": [67.09134343484777, 68.70587875485296, 67.89871307733827, 68.59841631783218, 68.62376021165157, 67.89731877197444, 68.71394290243944, 68.11043834977232, 67.9834683308018, 68.65515234410323, 67.77185754162916, 67.96559008498252, 68.9796572275371, 69.28058697424572, 67.6434490712276, 68.60656024115315, 68.38610676630516, 69.57203206441325, 68.06570498801062, 69.04811128975665], \"yaxis\": \"y\"}, {\"marker\": {\"color\": \"darkblue\", \"line\": {\"width\": 0}, \"opacity\": 0.8, \"size\": 6, \"symbol\": \"circle\"}, \"mode\": \"markers\", \"name\": \"3\", \"type\": \"scatter\", \"x\": [-16.698025017362806, -19.380145265723794, -21.197671396234483, -28.572173270718316, -25.839130782462902], \"xaxis\": \"x\", \"y\": [-19.512137737325276, -16.93087109724604, -21.450601165405324, -22.589927583617158, -20.629395290633706], \"yaxis\": \"y\"}, {\"marker\": {\"color\": \"darkcyan\", \"line\": {\"width\": 0}, \"opacity\": 0.8, \"size\": 6, \"symbol\": \"circle\"}, \"mode\": \"markers\", \"name\": \"4\", \"type\": \"scatter\", \"x\": [-0.07973533388043275, -3.1785338355501844, -1.3143198936449698], \"xaxis\": \"x\", \"y\": [21.223302015828818, 19.91518355088646, 11.92314954338371], \"yaxis\": \"y\"}, {\"marker\": {\"color\": \"darkgoldenrod\", \"line\": {\"width\": 0}, \"opacity\": 0.8, \"size\": 6, \"symbol\": \"circle\"}, \"mode\": \"markers\", \"name\": \"5\", \"type\": \"scatter\", \"x\": [-8.27073431894368, -11.360404616778172, -7.393359606457105], \"xaxis\": \"x\", \"y\": [5.420956429875386, 10.833876597965022, 4.937387987898309], \"yaxis\": \"y\"}, {\"marker\": {\"color\": \"darkgray\", \"line\": {\"width\": 0}, \"opacity\": 0.8, \"size\": 6, \"symbol\": \"circle\"}, \"mode\": \"markers\", \"name\": \"6\", \"type\": \"scatter\", \"x\": [-30.538898582329363, -35.167017133014, -31.872614051566842, -33.763197300497104], \"xaxis\": \"x\", \"y\": [-8.22299921580358, -1.8997362253933037, -0.19034936725969268, -5.293071247941802], \"yaxis\": \"y\"}, {\"marker\": {\"color\": \"darkgrey\", \"line\": {\"width\": 0}, \"opacity\": 0.8, \"size\": 6, \"symbol\": \"circle\"}, \"mode\": \"markers\", \"name\": \"7\", \"type\": \"scatter\", \"x\": [55.034416667962226, 45.59047906111354], \"xaxis\": \"x\", \"y\": [-3.653959958755133, -5.894866901489548], \"yaxis\": \"y\"}, {\"marker\": {\"color\": \"darkgreen\", \"line\": {\"width\": 0}, \"opacity\": 0.8, \"size\": 6, \"symbol\": \"circle\"}, \"mode\": \"markers\", \"name\": \"8\", \"type\": \"scatter\", \"x\": [7.059352398932993, 7.346794116187963], \"xaxis\": \"x\", \"y\": [-9.916263429265403, -8.33782527050474], \"yaxis\": \"y\"}, {\"marker\": {\"color\": \"darkkhaki\", \"line\": {\"width\": 0}, \"opacity\": 0.8, \"size\": 6, \"symbol\": \"circle\"}, \"mode\": \"markers\", \"name\": \"9\", \"type\": \"scatter\", \"x\": [-19.87906087396681, -19.65290105638851], \"xaxis\": \"x\", \"y\": [-5.656163518980209, -3.963816665130433], \"yaxis\": \"y\"}, {\"marker\": {\"color\": \"darkmagenta\", \"line\": {\"width\": 0}, \"opacity\": 0.8, \"size\": 6, \"symbol\": \"circle\"}, \"mode\": \"markers\", \"name\": \"10\", \"type\": \"scatter\", \"x\": [22.554380560418597], \"xaxis\": \"x\", \"y\": [-8.469755553236078], \"yaxis\": \"y\"}, {\"marker\": {\"color\": \"darkolivegreen\", \"line\": {\"width\": 0}, \"opacity\": 0.8, \"size\": 6, \"symbol\": \"circle\"}, \"mode\": \"markers\", \"name\": \"11\", \"type\": \"scatter\", \"x\": [17.443204891674537], \"xaxis\": \"x\", \"y\": [-13.527423439339149], \"yaxis\": \"y\"}, {\"marker\": {\"color\": \"darkorange\", \"line\": {\"width\": 0}, \"opacity\": 0.8, \"size\": 6, \"symbol\": \"circle\"}, \"mode\": \"markers\", \"name\": \"12\", \"type\": \"scatter\", \"x\": [15.624952072756845], \"xaxis\": \"x\", \"y\": [-7.38777963627224], \"yaxis\": \"y\"}, {\"marker\": {\"color\": \"darkorchid\", \"line\": {\"width\": 0}, \"opacity\": 0.8, \"size\": 6, \"symbol\": \"circle\"}, \"mode\": \"markers\", \"name\": \"13\", \"type\": \"scatter\", \"x\": [6.033188831282275], \"xaxis\": \"x\", \"y\": [-11.049540880464784], \"yaxis\": \"y\"}, {\"marker\": {\"color\": \"darkred\", \"line\": {\"width\": 0}, \"opacity\": 0.8, \"size\": 6, \"symbol\": \"circle\"}, \"mode\": \"markers\", \"name\": \"14\", \"type\": \"scatter\", \"x\": [1.0402578271402547], \"xaxis\": \"x\", \"y\": [-3.2367886263997216], \"yaxis\": \"y\"}, {\"marker\": {\"color\": \"darksalmon\", \"line\": {\"width\": 0}, \"opacity\": 0.8, \"size\": 6, \"symbol\": \"circle\"}, \"mode\": \"markers\", \"name\": \"15\", \"type\": \"scatter\", \"x\": [-5.0082094944513225], \"xaxis\": \"x\", \"y\": [-17.620627514180033], \"yaxis\": \"y\"}, {\"marker\": {\"color\": \"darkseagreen\", \"line\": {\"width\": 0}, \"opacity\": 0.8, \"size\": 6, \"symbol\": \"circle\"}, \"mode\": \"markers\", \"name\": \"16\", \"type\": \"scatter\", \"x\": [-17.771398048575065], \"xaxis\": \"x\", \"y\": [-14.565228761099238], \"yaxis\": \"y\"}, {\"marker\": {\"color\": \"darkseagreen\", \"line\": {\"width\": 0}, \"opacity\": 0.8, \"size\": 6, \"symbol\": \"circle\"}, \"mode\": \"markers\", \"name\": \"0\", \"type\": \"scatter\", \"x\": [68.46982882354048, 67.72909589594221, 67.49967218353768, 66.79416046428183, 66.15222349269914, 69.38764359534196, 68.77342021591586, 68.0162264938623, 67.82832276415841, 67.98258544302786, 67.98952654423113, 66.07245334709152, 67.49916072748668, 67.87421029315955, 67.69820548806996, 67.35545741455158, 66.96127748197327, 67.31303583300485, 67.59533061799718, 67.89973700499408, 67.26773501168776, 68.38060104367659, 67.49850988570181, 65.68590826576485, 67.76796519145873, 67.85563448409872, 67.78622919294791, 68.28531641868578, 67.16063270746338, 67.18265984733473, 68.03080945300484, 67.80150164911679, 66.27307670476706, 67.32594445398675, 68.13437085653246, 67.78090534709618, 67.64473674379104, 66.78721301406554, 66.73804954286092, 66.12644353750424], \"xaxis\": \"x2\", \"y\": [-5.093932787210296, -6.063900349595287, -4.981449212716274, -4.550088962133932, -6.012712758894227, -6.845022164689261, -5.225362148565248, -5.644449528535826, -5.800153910019181, -6.1751583627320725, -5.757529737511148, -4.559309800717959, -4.486702906551747, -6.001405523144126, -5.593096393478222, -5.933241989642402, -6.191397461565196, -5.915278816563084, -4.943323497693596, -5.6555992839654605, -5.400841439937029, -5.189332864926619, -6.010762208758997, -5.335560586762543, -5.9065673279684825, -5.60366735184141, -5.032219445672305, -5.377930516849441, -5.605098897298847, -4.491805345085776, -5.371224990173534, -5.089540822868334, -6.419990592547657, -5.5604694567267865, -6.0437029728457405, -5.50128514651558, -5.7329718216863785, -5.941522370595785, -5.171245828243573, -4.522309333691361], \"yaxis\": \"y2\"}, {\"marker\": {\"color\": \"crimson\", \"line\": {\"width\": 0}, \"opacity\": 0.8, \"size\": 6, \"symbol\": \"circle\"}, \"mode\": \"markers\", \"name\": \"1\", \"type\": \"scatter\", \"x\": [-47.55316214137236, -47.418079511736906, -45.80763732169997, -47.31261649985441, -46.57242755540214, -46.1634684478029, -47.11138769232963, -46.160773427048724, -47.563885631940394, -45.63560635679148, -46.24563801180061, -45.8934524212452, -45.574944363906475, -47.012502689193965, -47.9270619397911, -45.05991299771889, -47.68165642251728, -47.58567842444634, -47.94735471315291, -46.373523260194666, -46.0773976091375, -47.58691755835345, -47.497491160150076, -47.110433565956846, -48.04683057067579, -47.837208824501616, -47.45064333770477, -46.56832659331918, -47.37230674811745, -47.215413474124304, -46.619557556496055, -47.54684707081448, -47.44668055837559, -45.88441315443838, -48.93938010540278, -45.854216078176506, -46.90205462257318, -47.955520121516436, -47.01085906712631, -47.266931409473756, -43.540131536069545, -35.606381983619535], \"xaxis\": \"x2\", \"y\": [-8.08516123777917, -8.259179876296992, -6.341222216102705, -7.915794768415565, -9.140852915815316, -8.399328062733106, -7.564537200033078, -6.276419205735287, -8.008229522996194, -7.749919519711012, -6.216789989412785, -6.620403983786899, -6.302235758165479, -6.837798908976264, -6.853590010315924, -9.77329114971798, -6.370642906420879, -8.317387404100348, -8.678818824384797, -7.827534742942092, -6.580152949691741, -7.089962497691698, -8.071510685217223, -7.854528728543747, -6.542229204419779, -6.161390100122353, -6.927916557202619, -10.429149330864496, -8.221457073151223, -6.571063531716438, -7.609716265258819, -8.494792004235538, -6.812187436502226, -7.245189727597942, -7.624397998804052, -7.7443609736163355, -7.421826546336013, -5.818517716165342, -6.785793537774048, -6.002504695426314, 1.1507011934179294, -9.443401282864889], \"yaxis\": \"y2\"}, {\"marker\": {\"color\": \"darkorange\", \"line\": {\"width\": 0}, \"opacity\": 0.8, \"size\": 6, \"symbol\": \"circle\"}, \"mode\": \"markers\", \"name\": \"2\", \"type\": \"scatter\", \"x\": [-28.61592896925955, -29.51371053088627, -28.637312221266892, -28.936476041867696, -29.421121439416133, -28.784350536241938, -28.947502240959253, -28.404152861062816, -29.331536215731848, -28.55125295545716, -29.324069594993013, -28.68887271509712, -29.26399778615051, -29.975133526552682, -28.315371328893875, -30.99631861016856, -29.69458431660745, -29.550164765010248, -29.2053682518608, -29.101376581783246], \"xaxis\": \"x2\", \"y\": [-11.792258985659592, -9.90656247547877, -9.757602405544631, -10.037232367374218, -9.521813995540073, -10.928749546988481, -9.806249708952635, -11.713836703546658, -11.324196269808711, -12.695884562595424, -10.5392939715266, -10.03555985368799, -10.062241813911868, -10.540377764733288, -11.069466942945402, -9.840652004611362, -10.170920575990376, -8.486153513375417, -11.453666254837199, -10.514700029819497], \"yaxis\": \"y2\"}, {\"marker\": {\"color\": \"darkblue\", \"line\": {\"width\": 0}, \"opacity\": 0.8, \"size\": 6, \"symbol\": \"circle\"}, \"mode\": \"markers\", \"name\": \"3\", \"type\": \"scatter\", \"x\": [-16.698025017362806, -19.380145265723794, -21.197671396234483, -28.572173270718316, -25.839130782462902], \"xaxis\": \"x2\", \"y\": [-9.472054127623014, -8.62710039563347, -8.772899906525891, -5.802098115584776, -9.478354008095465], \"yaxis\": \"y2\"}, {\"marker\": {\"color\": \"darkcyan\", \"line\": {\"width\": 0}, \"opacity\": 0.8, \"size\": 6, \"symbol\": \"circle\"}, \"mode\": \"markers\", \"name\": \"4\", \"type\": \"scatter\", \"x\": [-0.07973533388043275, -3.1785338355501844, -1.3143198936449698], \"xaxis\": \"x2\", \"y\": [92.52598765322597, 84.17919216271473, 94.1746874098724], \"yaxis\": \"y2\"}, {\"marker\": {\"color\": \"darkgoldenrod\", \"line\": {\"width\": 0}, \"opacity\": 0.8, \"size\": 6, \"symbol\": \"circle\"}, \"mode\": \"markers\", \"name\": \"5\", \"type\": \"scatter\", \"x\": [-8.27073431894368, -11.360404616778172, -7.393359606457105], \"xaxis\": \"x2\", \"y\": [80.28163729823574, 73.13317465670809, 76.49664104263302], \"yaxis\": \"y2\"}, {\"marker\": {\"color\": \"darkgray\", \"line\": {\"width\": 0}, \"opacity\": 0.8, \"size\": 6, \"symbol\": \"circle\"}, \"mode\": \"markers\", \"name\": \"6\", \"type\": \"scatter\", \"x\": [-30.538898582329363, -35.167017133014, -31.872614051566842, -33.763197300497104], \"xaxis\": \"x2\", \"y\": [29.414253392795338, 13.638635815887017, 14.623445644124898, 21.922688528762855], \"yaxis\": \"y2\"}, {\"marker\": {\"color\": \"darkgrey\", \"line\": {\"width\": 0}, \"opacity\": 0.8, \"size\": 6, \"symbol\": \"circle\"}, \"mode\": \"markers\", \"name\": \"7\", \"type\": \"scatter\", \"x\": [55.034416667962226, 45.59047906111354], \"xaxis\": \"x2\", \"y\": [3.5639498632604094, 0.6309887329071798], \"yaxis\": \"y2\"}, {\"marker\": {\"color\": \"darkgreen\", \"line\": {\"width\": 0}, \"opacity\": 0.8, \"size\": 6, \"symbol\": \"circle\"}, \"mode\": \"markers\", \"name\": \"8\", \"type\": \"scatter\", \"x\": [7.059352398932993, 7.346794116187963], \"xaxis\": \"x2\", \"y\": [9.442650764257673, 17.220368874952804], \"yaxis\": \"y2\"}, {\"marker\": {\"color\": \"darkkhaki\", \"line\": {\"width\": 0}, \"opacity\": 0.8, \"size\": 6, \"symbol\": \"circle\"}, \"mode\": \"markers\", \"name\": \"9\", \"type\": \"scatter\", \"x\": [-19.87906087396681, -19.65290105638851], \"xaxis\": \"x2\", \"y\": [54.86647377670349, 53.14115509167992], \"yaxis\": \"y2\"}, {\"marker\": {\"color\": \"darkmagenta\", \"line\": {\"width\": 0}, \"opacity\": 0.8, \"size\": 6, \"symbol\": \"circle\"}, \"mode\": \"markers\", \"name\": \"10\", \"type\": \"scatter\", \"x\": [22.554380560418597], \"xaxis\": \"x2\", \"y\": [8.625974145882651], \"yaxis\": \"y2\"}, {\"marker\": {\"color\": \"darkolivegreen\", \"line\": {\"width\": 0}, \"opacity\": 0.8, \"size\": 6, \"symbol\": \"circle\"}, \"mode\": \"markers\", \"name\": \"11\", \"type\": \"scatter\", \"x\": [17.443204891674537], \"xaxis\": \"x2\", \"y\": [-5.144144285178905], \"yaxis\": \"y2\"}, {\"marker\": {\"color\": \"darkorange\", \"line\": {\"width\": 0}, \"opacity\": 0.8, \"size\": 6, \"symbol\": \"circle\"}, \"mode\": \"markers\", \"name\": \"12\", \"type\": \"scatter\", \"x\": [15.624952072756845], \"xaxis\": \"x2\", \"y\": [25.15092455495962], \"yaxis\": \"y2\"}, {\"marker\": {\"color\": \"darkorchid\", \"line\": {\"width\": 0}, \"opacity\": 0.8, \"size\": 6, \"symbol\": \"circle\"}, \"mode\": \"markers\", \"name\": \"13\", \"type\": \"scatter\", \"x\": [6.033188831282275], \"xaxis\": \"x2\", \"y\": [-4.947387589717527], \"yaxis\": \"y2\"}, {\"marker\": {\"color\": \"darkred\", \"line\": {\"width\": 0}, \"opacity\": 0.8, \"size\": 6, \"symbol\": \"circle\"}, \"mode\": \"markers\", \"name\": \"14\", \"type\": \"scatter\", \"x\": [1.0402578271402547], \"xaxis\": \"x2\", \"y\": [33.99608383035929], \"yaxis\": \"y2\"}, {\"marker\": {\"color\": \"darksalmon\", \"line\": {\"width\": 0}, \"opacity\": 0.8, \"size\": 6, \"symbol\": \"circle\"}, \"mode\": \"markers\", \"name\": \"15\", \"type\": \"scatter\", \"x\": [-5.0082094944513225], \"xaxis\": \"x2\", \"y\": [-8.373061725785174], \"yaxis\": \"y2\"}, {\"marker\": {\"color\": \"darkseagreen\", \"line\": {\"width\": 0}, \"opacity\": 0.8, \"size\": 6, \"symbol\": \"circle\"}, \"mode\": \"markers\", \"name\": \"16\", \"type\": \"scatter\", \"x\": [-17.771398048575065], \"xaxis\": \"x2\", \"y\": [10.363257431696905], \"yaxis\": \"y2\"}],\n",
       "                        {\"annotations\": [{\"font\": {\"size\": 16}, \"showarrow\": false, \"text\": \"global_pca\", \"x\": 0.225, \"xanchor\": \"center\", \"xref\": \"paper\", \"y\": 1.0, \"yanchor\": \"bottom\", \"yref\": \"paper\"}, {\"font\": {\"size\": 16}, \"showarrow\": false, \"text\": \"global_pca\", \"x\": 0.775, \"xanchor\": \"center\", \"xref\": \"paper\", \"y\": 1.0, \"yanchor\": \"bottom\", \"yref\": \"paper\"}], \"height\": 500, \"template\": {\"data\": {\"bar\": [{\"error_x\": {\"color\": \"#2a3f5f\"}, \"error_y\": {\"color\": \"#2a3f5f\"}, \"marker\": {\"line\": {\"color\": \"#E5ECF6\", \"width\": 0.5}}, \"type\": \"bar\"}], \"barpolar\": [{\"marker\": {\"line\": {\"color\": \"#E5ECF6\", \"width\": 0.5}}, \"type\": \"barpolar\"}], \"carpet\": [{\"aaxis\": {\"endlinecolor\": \"#2a3f5f\", \"gridcolor\": \"white\", \"linecolor\": \"white\", \"minorgridcolor\": \"white\", \"startlinecolor\": \"#2a3f5f\"}, \"baxis\": {\"endlinecolor\": \"#2a3f5f\", \"gridcolor\": \"white\", \"linecolor\": \"white\", \"minorgridcolor\": \"white\", \"startlinecolor\": \"#2a3f5f\"}, \"type\": \"carpet\"}], \"choropleth\": [{\"colorbar\": {\"outlinewidth\": 0, \"ticks\": \"\"}, \"type\": \"choropleth\"}], \"contour\": [{\"colorbar\": {\"outlinewidth\": 0, \"ticks\": \"\"}, \"colorscale\": [[0.0, \"#0d0887\"], [0.1111111111111111, \"#46039f\"], [0.2222222222222222, \"#7201a8\"], [0.3333333333333333, \"#9c179e\"], [0.4444444444444444, \"#bd3786\"], [0.5555555555555556, \"#d8576b\"], [0.6666666666666666, \"#ed7953\"], [0.7777777777777778, \"#fb9f3a\"], [0.8888888888888888, \"#fdca26\"], [1.0, \"#f0f921\"]], \"type\": \"contour\"}], \"contourcarpet\": [{\"colorbar\": {\"outlinewidth\": 0, \"ticks\": \"\"}, \"type\": \"contourcarpet\"}], \"heatmap\": [{\"colorbar\": {\"outlinewidth\": 0, \"ticks\": \"\"}, \"colorscale\": [[0.0, \"#0d0887\"], [0.1111111111111111, \"#46039f\"], [0.2222222222222222, \"#7201a8\"], [0.3333333333333333, \"#9c179e\"], [0.4444444444444444, \"#bd3786\"], [0.5555555555555556, \"#d8576b\"], [0.6666666666666666, \"#ed7953\"], [0.7777777777777778, \"#fb9f3a\"], [0.8888888888888888, \"#fdca26\"], [1.0, \"#f0f921\"]], \"type\": \"heatmap\"}], \"heatmapgl\": [{\"colorbar\": {\"outlinewidth\": 0, \"ticks\": \"\"}, \"colorscale\": [[0.0, \"#0d0887\"], [0.1111111111111111, \"#46039f\"], [0.2222222222222222, \"#7201a8\"], [0.3333333333333333, \"#9c179e\"], [0.4444444444444444, \"#bd3786\"], [0.5555555555555556, \"#d8576b\"], [0.6666666666666666, \"#ed7953\"], [0.7777777777777778, \"#fb9f3a\"], [0.8888888888888888, \"#fdca26\"], [1.0, \"#f0f921\"]], \"type\": \"heatmapgl\"}], \"histogram\": [{\"marker\": {\"colorbar\": {\"outlinewidth\": 0, \"ticks\": \"\"}}, \"type\": \"histogram\"}], \"histogram2d\": [{\"colorbar\": {\"outlinewidth\": 0, \"ticks\": \"\"}, \"colorscale\": [[0.0, \"#0d0887\"], [0.1111111111111111, \"#46039f\"], [0.2222222222222222, \"#7201a8\"], [0.3333333333333333, \"#9c179e\"], [0.4444444444444444, \"#bd3786\"], [0.5555555555555556, \"#d8576b\"], [0.6666666666666666, \"#ed7953\"], [0.7777777777777778, \"#fb9f3a\"], [0.8888888888888888, \"#fdca26\"], [1.0, \"#f0f921\"]], \"type\": \"histogram2d\"}], \"histogram2dcontour\": [{\"colorbar\": {\"outlinewidth\": 0, \"ticks\": \"\"}, \"colorscale\": [[0.0, \"#0d0887\"], [0.1111111111111111, \"#46039f\"], [0.2222222222222222, \"#7201a8\"], [0.3333333333333333, \"#9c179e\"], [0.4444444444444444, \"#bd3786\"], [0.5555555555555556, \"#d8576b\"], [0.6666666666666666, \"#ed7953\"], [0.7777777777777778, \"#fb9f3a\"], [0.8888888888888888, \"#fdca26\"], [1.0, \"#f0f921\"]], \"type\": \"histogram2dcontour\"}], \"mesh3d\": [{\"colorbar\": {\"outlinewidth\": 0, \"ticks\": \"\"}, \"type\": \"mesh3d\"}], \"parcoords\": [{\"line\": {\"colorbar\": {\"outlinewidth\": 0, \"ticks\": \"\"}}, \"type\": \"parcoords\"}], \"pie\": [{\"automargin\": true, \"type\": \"pie\"}], \"scatter\": [{\"marker\": {\"colorbar\": {\"outlinewidth\": 0, \"ticks\": \"\"}}, \"type\": \"scatter\"}], \"scatter3d\": [{\"line\": {\"colorbar\": {\"outlinewidth\": 0, \"ticks\": \"\"}}, \"marker\": {\"colorbar\": {\"outlinewidth\": 0, \"ticks\": \"\"}}, \"type\": \"scatter3d\"}], \"scattercarpet\": [{\"marker\": {\"colorbar\": {\"outlinewidth\": 0, \"ticks\": \"\"}}, \"type\": \"scattercarpet\"}], \"scattergeo\": [{\"marker\": {\"colorbar\": {\"outlinewidth\": 0, \"ticks\": \"\"}}, \"type\": \"scattergeo\"}], \"scattergl\": [{\"marker\": {\"colorbar\": {\"outlinewidth\": 0, \"ticks\": \"\"}}, \"type\": \"scattergl\"}], \"scattermapbox\": [{\"marker\": {\"colorbar\": {\"outlinewidth\": 0, \"ticks\": \"\"}}, \"type\": \"scattermapbox\"}], \"scatterpolar\": [{\"marker\": {\"colorbar\": {\"outlinewidth\": 0, \"ticks\": \"\"}}, \"type\": \"scatterpolar\"}], \"scatterpolargl\": [{\"marker\": {\"colorbar\": {\"outlinewidth\": 0, \"ticks\": \"\"}}, \"type\": \"scatterpolargl\"}], \"scatterternary\": [{\"marker\": {\"colorbar\": {\"outlinewidth\": 0, \"ticks\": \"\"}}, \"type\": \"scatterternary\"}], \"surface\": [{\"colorbar\": {\"outlinewidth\": 0, \"ticks\": \"\"}, \"colorscale\": [[0.0, \"#0d0887\"], [0.1111111111111111, \"#46039f\"], [0.2222222222222222, \"#7201a8\"], [0.3333333333333333, \"#9c179e\"], [0.4444444444444444, \"#bd3786\"], [0.5555555555555556, \"#d8576b\"], [0.6666666666666666, \"#ed7953\"], [0.7777777777777778, \"#fb9f3a\"], [0.8888888888888888, \"#fdca26\"], [1.0, \"#f0f921\"]], \"type\": \"surface\"}], \"table\": [{\"cells\": {\"fill\": {\"color\": \"#EBF0F8\"}, \"line\": {\"color\": \"white\"}}, \"header\": {\"fill\": {\"color\": \"#C8D4E3\"}, \"line\": {\"color\": \"white\"}}, \"type\": \"table\"}]}, \"layout\": {\"annotationdefaults\": {\"arrowcolor\": \"#2a3f5f\", \"arrowhead\": 0, \"arrowwidth\": 1}, \"coloraxis\": {\"colorbar\": {\"outlinewidth\": 0, \"ticks\": \"\"}}, \"colorscale\": {\"diverging\": [[0, \"#8e0152\"], [0.1, \"#c51b7d\"], [0.2, \"#de77ae\"], [0.3, \"#f1b6da\"], [0.4, \"#fde0ef\"], [0.5, \"#f7f7f7\"], [0.6, \"#e6f5d0\"], [0.7, \"#b8e186\"], [0.8, \"#7fbc41\"], [0.9, \"#4d9221\"], [1, \"#276419\"]], \"sequential\": [[0.0, \"#0d0887\"], [0.1111111111111111, \"#46039f\"], [0.2222222222222222, \"#7201a8\"], [0.3333333333333333, \"#9c179e\"], [0.4444444444444444, \"#bd3786\"], [0.5555555555555556, \"#d8576b\"], [0.6666666666666666, \"#ed7953\"], [0.7777777777777778, \"#fb9f3a\"], [0.8888888888888888, \"#fdca26\"], [1.0, \"#f0f921\"]], \"sequentialminus\": [[0.0, \"#0d0887\"], [0.1111111111111111, \"#46039f\"], [0.2222222222222222, \"#7201a8\"], [0.3333333333333333, \"#9c179e\"], [0.4444444444444444, \"#bd3786\"], [0.5555555555555556, \"#d8576b\"], [0.6666666666666666, \"#ed7953\"], [0.7777777777777778, \"#fb9f3a\"], [0.8888888888888888, \"#fdca26\"], [1.0, \"#f0f921\"]]}, \"colorway\": [\"#636efa\", \"#EF553B\", \"#00cc96\", \"#ab63fa\", \"#FFA15A\", \"#19d3f3\", \"#FF6692\", \"#B6E880\", \"#FF97FF\", \"#FECB52\"], \"font\": {\"color\": \"#2a3f5f\"}, \"geo\": {\"bgcolor\": \"white\", \"lakecolor\": \"white\", \"landcolor\": \"#E5ECF6\", \"showlakes\": true, \"showland\": true, \"subunitcolor\": \"white\"}, \"hoverlabel\": {\"align\": \"left\"}, \"hovermode\": \"closest\", \"mapbox\": {\"style\": \"light\"}, \"paper_bgcolor\": \"white\", \"plot_bgcolor\": \"#E5ECF6\", \"polar\": {\"angularaxis\": {\"gridcolor\": \"white\", \"linecolor\": \"white\", \"ticks\": \"\"}, \"bgcolor\": \"#E5ECF6\", \"radialaxis\": {\"gridcolor\": \"white\", \"linecolor\": \"white\", \"ticks\": \"\"}}, \"scene\": {\"xaxis\": {\"backgroundcolor\": \"#E5ECF6\", \"gridcolor\": \"white\", \"gridwidth\": 2, \"linecolor\": \"white\", \"showbackground\": true, \"ticks\": \"\", \"zerolinecolor\": \"white\"}, \"yaxis\": {\"backgroundcolor\": \"#E5ECF6\", \"gridcolor\": \"white\", \"gridwidth\": 2, \"linecolor\": \"white\", \"showbackground\": true, \"ticks\": \"\", \"zerolinecolor\": \"white\"}, \"zaxis\": {\"backgroundcolor\": \"#E5ECF6\", \"gridcolor\": \"white\", \"gridwidth\": 2, \"linecolor\": \"white\", \"showbackground\": true, \"ticks\": \"\", \"zerolinecolor\": \"white\"}}, \"shapedefaults\": {\"line\": {\"color\": \"#2a3f5f\"}}, \"ternary\": {\"aaxis\": {\"gridcolor\": \"white\", \"linecolor\": \"white\", \"ticks\": \"\"}, \"baxis\": {\"gridcolor\": \"white\", \"linecolor\": \"white\", \"ticks\": \"\"}, \"bgcolor\": \"#E5ECF6\", \"caxis\": {\"gridcolor\": \"white\", \"linecolor\": \"white\", \"ticks\": \"\"}}, \"title\": {\"x\": 0.05}, \"xaxis\": {\"automargin\": true, \"gridcolor\": \"white\", \"linecolor\": \"white\", \"ticks\": \"\", \"title\": {\"standoff\": 15}, \"zerolinecolor\": \"white\", \"zerolinewidth\": 2}, \"yaxis\": {\"automargin\": true, \"gridcolor\": \"white\", \"linecolor\": \"white\", \"ticks\": \"\", \"title\": {\"standoff\": 15}, \"zerolinecolor\": \"white\", \"zerolinewidth\": 2}}}, \"width\": 950, \"xaxis\": {\"anchor\": \"y\", \"domain\": [0.0, 0.45], \"title\": {\"text\": \"PC1\"}}, \"xaxis2\": {\"anchor\": \"y2\", \"domain\": [0.55, 1.0], \"title\": {\"text\": \"PC1\"}}, \"yaxis\": {\"anchor\": \"x\", \"domain\": [0.0, 1.0], \"title\": {\"text\": \"PC2\"}}, \"yaxis2\": {\"anchor\": \"x2\", \"domain\": [0.0, 1.0], \"title\": {\"text\": \"PC3\"}}},\n",
       "                        {\"responsive\": true}\n",
       "                    ).then(function(){\n",
       "                            \n",
       "var gd = document.getElementById('0422bdc1-d3f6-421e-b059-aa5d0c061422');\n",
       "var x = new MutationObserver(function (mutations, observer) {{\n",
       "        var display = window.getComputedStyle(gd).display;\n",
       "        if (!display || display === 'none') {{\n",
       "            console.log([gd, 'removed!']);\n",
       "            Plotly.purge(gd);\n",
       "            observer.disconnect();\n",
       "        }}\n",
       "}});\n",
       "\n",
       "// Listen for the removal of the full notebook cells\n",
       "var notebookContainer = gd.closest('#notebook-container');\n",
       "if (notebookContainer) {{\n",
       "    x.observe(notebookContainer, {childList: true});\n",
       "}}\n",
       "\n",
       "// Listen for the clearing of the current output cell\n",
       "var outputEl = gd.closest('.output');\n",
       "if (outputEl) {{\n",
       "    x.observe(outputEl, {childList: true});\n",
       "}}\n",
       "\n",
       "                        })\n",
       "                };\n",
       "                });\n",
       "            </script>\n",
       "        </div>"
      ]
     },
     "metadata": {},
     "output_type": "display_data"
    }
   ],
   "source": [
    "###\n",
    "plot_global_pca(feats,label_select,PCA_color_ref,title= 'global_pca',height= 500,width= 950)"
   ]
  },
  {
   "cell_type": "code",
   "execution_count": 7,
   "metadata": {},
   "outputs": [],
   "source": [
    "select_refs= [0,1,2]\n",
    "label_vector= [[len(select_refs),labels1[x]][int(labels1[x] in select_refs)] for x in range(genotype.shape[0])]\n",
    "\n",
    "Whose= list(range(genotype.shape[0]))\n"
   ]
  },
  {
   "cell_type": "markdown",
   "metadata": {},
   "source": [
    "## Imputation\n",
    "\n",
    "### Creating a matrix, introducing missing values\n",
    "\n",
    "\n",
    "Single missing observation is introduced to a sample `nanObs`. Dimensionality reduction is applied to feature windows to generate a profile of distances between the `nanObs` and other samples. feature windows are selected randomly across the vcf, are free of missing data. \n",
    "\n",
    "For this notebook we will also keep window size constant. \n",
    "\n",
    "\n",
    "### I. nan_observation\n"
   ]
  },
  {
   "cell_type": "code",
   "execution_count": 17,
   "metadata": {},
   "outputs": [
    {
     "name": "stdout",
     "output_type": "stream",
     "text": [
      "full data set shape: (130, 40000)\n",
      "[[   41 39164]]\n"
     ]
    }
   ],
   "source": [
    "print('full data set shape: {}'.format(genotype.shape))\n",
    "\n",
    "nan_n= 1\n",
    "\n",
    "xnan= np.random.randint(0,genotype.shape[1],size= nan_n)\n",
    "ynan= np.random.randint(0,genotype.shape[0],size= nan_n)\n",
    "\n",
    "nan_coords= [ynan,xnan]\n",
    "nan_coords= np.array(nan_coords).T\n",
    "\n",
    "print(nan_coords)\n"
   ]
  },
  {
   "cell_type": "markdown",
   "metadata": {},
   "source": [
    "### Distance profiles.\n",
    "\n",
    "for a single nan value, selected using `nan_idx` from the list `nan_coords` above.\n",
    "\n",
    "define window size `wind_sizes` and number of windows `Nreps`. \n",
    "\n",
    "This version of the approach is calculating distances in feature space, following dimensionality redution (Dr). PCA is used here. \n",
    "\n",
    "Define:\n",
    "- `ncomps` : the number of dimensions to retain during Dr. \n",
    "- `dimN`: number of dimensions used to perfiorm distance calculations.\n",
    "- `metric`: metric to use in distance calculations. default= eucledian. \n",
    "\n"
   ]
  },
  {
   "cell_type": "code",
   "execution_count": 18,
   "metadata": {},
   "outputs": [
    {
     "data": {
      "text/plain": [
       "(400, 129)"
      ]
     },
     "execution_count": 18,
     "metadata": {},
     "output_type": "execute_result"
    }
   ],
   "source": [
    "from impute_tools.impute_tools_I import rand_wdDist\n",
    "\n",
    "nan_idx= 0\n",
    "nan_obs= nan_coords[nan_idx]\n",
    "nan_acc= nan_obs[0]\n",
    "nan_pos= nan_obs[1]\n",
    "\n",
    "wind_sizes= 100\n",
    "Nreps= 400\n",
    "ncomps= 5\n",
    "dimN= 2\n",
    "metric= 'euclidean'\n",
    "\n",
    "dist_store= rand_wdDist(genotype, nan_coords,\n",
    "               wind_sizes= 100,\n",
    "                Nreps= 400,\n",
    "                ncomps= 5,\n",
    "                dimN= 2,\n",
    "                metric= 'euclidean')\n",
    "dist_store.shape"
   ]
  },
  {
   "cell_type": "markdown",
   "metadata": {},
   "source": [
    "### Distance summary stats\n",
    "\n",
    "#### A. observation distance variance."
   ]
  },
  {
   "cell_type": "code",
   "execution_count": 19,
   "metadata": {},
   "outputs": [
    {
     "data": {
      "application/vnd.plotly.v1+json": {
       "config": {
        "linkText": "Export to plot.ly",
        "plotlyServerURL": "https://plot.ly",
        "showLink": false
       },
       "data": [
        {
         "type": "bar",
         "x": [
          "pop1_0",
          "pop1_1",
          "pop1_2",
          "pop1_3",
          "pop1_4",
          "pop1_5",
          "pop1_6",
          "pop1_7",
          "pop1_8",
          "pop1_9",
          "pop1_10",
          "pop1_11",
          "pop1_12",
          "pop1_13",
          "pop1_14",
          "pop1_15",
          "pop1_16",
          "pop1_17",
          "pop1_18",
          "pop1_19",
          "pop1_20",
          "pop1_21",
          "pop1_22",
          "pop1_23",
          "pop1_24",
          "pop1_25",
          "pop1_26",
          "pop1_27",
          "pop1_28",
          "pop1_29",
          "pop1_30",
          "pop1_31",
          "pop1_32",
          "pop1_33",
          "pop1_34",
          "pop1_35",
          "pop1_36",
          "pop1_37",
          "pop1_38",
          "pop1_39",
          "pop2_40",
          "pop2_41",
          "pop2_42",
          "pop2_43",
          "pop2_44",
          "pop2_45",
          "pop2_46",
          "pop2_47",
          "pop2_48",
          "pop2_49",
          "pop2_50",
          "pop2_51",
          "pop2_52",
          "pop2_53",
          "pop2_54",
          "pop2_55",
          "pop2_56",
          "pop2_57",
          "pop2_58",
          "pop2_59",
          "pop0_60",
          "pop0_61",
          "pop0_62",
          "pop0_63",
          "pop0_64",
          "pop0_65",
          "pop0_66",
          "pop0_67",
          "pop0_68",
          "pop0_69",
          "pop0_70",
          "pop0_71",
          "pop0_72",
          "pop0_73",
          "pop0_74",
          "pop0_75",
          "pop0_76",
          "pop0_77",
          "pop0_78",
          "pop0_79",
          "pop0_80",
          "pop0_81",
          "pop0_82",
          "pop0_83",
          "pop0_84",
          "pop0_85",
          "pop0_86",
          "pop0_87",
          "pop0_88",
          "pop0_89",
          "pop0_90",
          "pop0_91",
          "pop0_92",
          "pop0_93",
          "pop0_94",
          "pop0_95",
          "pop0_96",
          "pop0_97",
          "pop0_98",
          "pop0_99",
          "pop3_100",
          "pop3_101",
          "pop3_102",
          "pop3_103",
          "pop3_104",
          "pop3_105",
          "pop3_106",
          "pop3_107",
          "pop3_108",
          "pop3_109",
          "pop3_110",
          "pop3_111",
          "pop3_112",
          "pop3_113",
          "pop3_114",
          "pop3_115",
          "pop3_116",
          "pop3_117",
          "pop3_118",
          "pop3_119",
          "pop3_120",
          "pop3_121",
          "pop3_122",
          "pop3_123",
          "pop3_124",
          "pop1_125",
          "pop3_126",
          "pop3_127",
          "pop1_128",
          "pop3_129"
         ],
         "y": [
          1.531937062290123,
          1.5122663323287087,
          1.448772923667059,
          1.49333700703339,
          1.475076016656744,
          1.4832908269115743,
          1.5576614171886698,
          1.4266789966372466,
          1.5347573247707205,
          1.5042015202891372,
          1.5693759500039284,
          1.480733908398234,
          1.386732600262054,
          1.3491754211749258,
          1.4466594865381541,
          1.3670060965171276,
          1.4112025621261792,
          1.4956518230488818,
          1.5211001209155441,
          1.3943135772697646,
          1.478318006314267,
          1.377174207651543,
          1.5162825001694318,
          1.4469184288459178,
          1.4400105862608854,
          1.6464431490571059,
          1.3523191140055133,
          1.4730397902715882,
          1.3628758893680855,
          1.4086919952808405,
          1.5206555259554586,
          1.6863680418885898,
          1.4990394523205528,
          1.6768695311350488,
          1.5395053215534364,
          1.3565445631050794,
          1.5242168055868197,
          1.5099542514973372,
          1.4068607587454665,
          1.728137808782348,
          0.6021462861496896,
          0.4748626785241178,
          0.48787913678287675,
          0.4798931487764931,
          0.5388622594160634,
          0.458506047018928,
          0.5056634727948973,
          0.5076193982688263,
          0.4930829257621037,
          0.5002125761110076,
          0.5475640864553202,
          0.5279803589898453,
          0.4061517577590674,
          0.4975251987835684,
          0.5521421685477506,
          0.49415265843073475,
          0.543840667214467,
          0.5486538784188666,
          0.5371613562806006,
          1.2364844016828132,
          1.3216189583026736,
          1.1638044411991462,
          1.125005722663031,
          1.2019784758929377,
          1.3139793118889196,
          1.1620821069678602,
          1.1819824305244078,
          1.1169943810299159,
          1.359504950929537,
          1.3157073761019453,
          1.2417725763651941,
          1.1901033451327665,
          1.2804461968752736,
          1.3390579770455842,
          1.2559509628376577,
          1.2436210938373427,
          1.3151999784960824,
          1.2209765577567182,
          1.3451351811019463,
          1.2011964484863424,
          1.344056855198996,
          1.249880442572253,
          1.3663082196515208,
          1.2264090641170353,
          1.2280007937429724,
          1.2713675681364356,
          1.311753562693487,
          1.3308337845985647,
          1.27655916160833,
          1.2238712231616191,
          1.217876924380316,
          1.3495827937078468,
          1.3008772114397935,
          1.3212004161161466,
          1.238284494728474,
          1.2755670695524244,
          1.131215025814285,
          1.2473322923684829,
          1.2609515230284971,
          1.7766030873628276,
          2.156229289254377,
          1.798671582745929,
          1.8182925450720309,
          2.1162989969642685,
          3.442258249183184,
          2.314547260649777,
          1.8841285096436207,
          2.0482243667612976,
          2.4864564033792975,
          2.5373100973299705,
          1.814000148532794,
          2.2105753369014725,
          2.464975204517224,
          3.2013954610515274,
          2.510497923009568,
          1.9929665442337665,
          2.3868778412692677,
          2.2169459193687233,
          2.137847316048292,
          2.703389344134801,
          1.8899378436955006,
          2.4626965787996578,
          2.0700959103819425,
          1.9362179564799082,
          1.9227826224660696,
          1.5652804038668198,
          1.5255047017829877,
          2.137470607979977,
          1.8289614281913882
         ]
        }
       ],
       "layout": {
        "template": {
         "data": {
          "bar": [
           {
            "error_x": {
             "color": "#2a3f5f"
            },
            "error_y": {
             "color": "#2a3f5f"
            },
            "marker": {
             "line": {
              "color": "#E5ECF6",
              "width": 0.5
             }
            },
            "type": "bar"
           }
          ],
          "barpolar": [
           {
            "marker": {
             "line": {
              "color": "#E5ECF6",
              "width": 0.5
             }
            },
            "type": "barpolar"
           }
          ],
          "carpet": [
           {
            "aaxis": {
             "endlinecolor": "#2a3f5f",
             "gridcolor": "white",
             "linecolor": "white",
             "minorgridcolor": "white",
             "startlinecolor": "#2a3f5f"
            },
            "baxis": {
             "endlinecolor": "#2a3f5f",
             "gridcolor": "white",
             "linecolor": "white",
             "minorgridcolor": "white",
             "startlinecolor": "#2a3f5f"
            },
            "type": "carpet"
           }
          ],
          "choropleth": [
           {
            "colorbar": {
             "outlinewidth": 0,
             "ticks": ""
            },
            "type": "choropleth"
           }
          ],
          "contour": [
           {
            "colorbar": {
             "outlinewidth": 0,
             "ticks": ""
            },
            "colorscale": [
             [
              0,
              "#0d0887"
             ],
             [
              0.1111111111111111,
              "#46039f"
             ],
             [
              0.2222222222222222,
              "#7201a8"
             ],
             [
              0.3333333333333333,
              "#9c179e"
             ],
             [
              0.4444444444444444,
              "#bd3786"
             ],
             [
              0.5555555555555556,
              "#d8576b"
             ],
             [
              0.6666666666666666,
              "#ed7953"
             ],
             [
              0.7777777777777778,
              "#fb9f3a"
             ],
             [
              0.8888888888888888,
              "#fdca26"
             ],
             [
              1,
              "#f0f921"
             ]
            ],
            "type": "contour"
           }
          ],
          "contourcarpet": [
           {
            "colorbar": {
             "outlinewidth": 0,
             "ticks": ""
            },
            "type": "contourcarpet"
           }
          ],
          "heatmap": [
           {
            "colorbar": {
             "outlinewidth": 0,
             "ticks": ""
            },
            "colorscale": [
             [
              0,
              "#0d0887"
             ],
             [
              0.1111111111111111,
              "#46039f"
             ],
             [
              0.2222222222222222,
              "#7201a8"
             ],
             [
              0.3333333333333333,
              "#9c179e"
             ],
             [
              0.4444444444444444,
              "#bd3786"
             ],
             [
              0.5555555555555556,
              "#d8576b"
             ],
             [
              0.6666666666666666,
              "#ed7953"
             ],
             [
              0.7777777777777778,
              "#fb9f3a"
             ],
             [
              0.8888888888888888,
              "#fdca26"
             ],
             [
              1,
              "#f0f921"
             ]
            ],
            "type": "heatmap"
           }
          ],
          "heatmapgl": [
           {
            "colorbar": {
             "outlinewidth": 0,
             "ticks": ""
            },
            "colorscale": [
             [
              0,
              "#0d0887"
             ],
             [
              0.1111111111111111,
              "#46039f"
             ],
             [
              0.2222222222222222,
              "#7201a8"
             ],
             [
              0.3333333333333333,
              "#9c179e"
             ],
             [
              0.4444444444444444,
              "#bd3786"
             ],
             [
              0.5555555555555556,
              "#d8576b"
             ],
             [
              0.6666666666666666,
              "#ed7953"
             ],
             [
              0.7777777777777778,
              "#fb9f3a"
             ],
             [
              0.8888888888888888,
              "#fdca26"
             ],
             [
              1,
              "#f0f921"
             ]
            ],
            "type": "heatmapgl"
           }
          ],
          "histogram": [
           {
            "marker": {
             "colorbar": {
              "outlinewidth": 0,
              "ticks": ""
             }
            },
            "type": "histogram"
           }
          ],
          "histogram2d": [
           {
            "colorbar": {
             "outlinewidth": 0,
             "ticks": ""
            },
            "colorscale": [
             [
              0,
              "#0d0887"
             ],
             [
              0.1111111111111111,
              "#46039f"
             ],
             [
              0.2222222222222222,
              "#7201a8"
             ],
             [
              0.3333333333333333,
              "#9c179e"
             ],
             [
              0.4444444444444444,
              "#bd3786"
             ],
             [
              0.5555555555555556,
              "#d8576b"
             ],
             [
              0.6666666666666666,
              "#ed7953"
             ],
             [
              0.7777777777777778,
              "#fb9f3a"
             ],
             [
              0.8888888888888888,
              "#fdca26"
             ],
             [
              1,
              "#f0f921"
             ]
            ],
            "type": "histogram2d"
           }
          ],
          "histogram2dcontour": [
           {
            "colorbar": {
             "outlinewidth": 0,
             "ticks": ""
            },
            "colorscale": [
             [
              0,
              "#0d0887"
             ],
             [
              0.1111111111111111,
              "#46039f"
             ],
             [
              0.2222222222222222,
              "#7201a8"
             ],
             [
              0.3333333333333333,
              "#9c179e"
             ],
             [
              0.4444444444444444,
              "#bd3786"
             ],
             [
              0.5555555555555556,
              "#d8576b"
             ],
             [
              0.6666666666666666,
              "#ed7953"
             ],
             [
              0.7777777777777778,
              "#fb9f3a"
             ],
             [
              0.8888888888888888,
              "#fdca26"
             ],
             [
              1,
              "#f0f921"
             ]
            ],
            "type": "histogram2dcontour"
           }
          ],
          "mesh3d": [
           {
            "colorbar": {
             "outlinewidth": 0,
             "ticks": ""
            },
            "type": "mesh3d"
           }
          ],
          "parcoords": [
           {
            "line": {
             "colorbar": {
              "outlinewidth": 0,
              "ticks": ""
             }
            },
            "type": "parcoords"
           }
          ],
          "pie": [
           {
            "automargin": true,
            "type": "pie"
           }
          ],
          "scatter": [
           {
            "marker": {
             "colorbar": {
              "outlinewidth": 0,
              "ticks": ""
             }
            },
            "type": "scatter"
           }
          ],
          "scatter3d": [
           {
            "line": {
             "colorbar": {
              "outlinewidth": 0,
              "ticks": ""
             }
            },
            "marker": {
             "colorbar": {
              "outlinewidth": 0,
              "ticks": ""
             }
            },
            "type": "scatter3d"
           }
          ],
          "scattercarpet": [
           {
            "marker": {
             "colorbar": {
              "outlinewidth": 0,
              "ticks": ""
             }
            },
            "type": "scattercarpet"
           }
          ],
          "scattergeo": [
           {
            "marker": {
             "colorbar": {
              "outlinewidth": 0,
              "ticks": ""
             }
            },
            "type": "scattergeo"
           }
          ],
          "scattergl": [
           {
            "marker": {
             "colorbar": {
              "outlinewidth": 0,
              "ticks": ""
             }
            },
            "type": "scattergl"
           }
          ],
          "scattermapbox": [
           {
            "marker": {
             "colorbar": {
              "outlinewidth": 0,
              "ticks": ""
             }
            },
            "type": "scattermapbox"
           }
          ],
          "scatterpolar": [
           {
            "marker": {
             "colorbar": {
              "outlinewidth": 0,
              "ticks": ""
             }
            },
            "type": "scatterpolar"
           }
          ],
          "scatterpolargl": [
           {
            "marker": {
             "colorbar": {
              "outlinewidth": 0,
              "ticks": ""
             }
            },
            "type": "scatterpolargl"
           }
          ],
          "scatterternary": [
           {
            "marker": {
             "colorbar": {
              "outlinewidth": 0,
              "ticks": ""
             }
            },
            "type": "scatterternary"
           }
          ],
          "surface": [
           {
            "colorbar": {
             "outlinewidth": 0,
             "ticks": ""
            },
            "colorscale": [
             [
              0,
              "#0d0887"
             ],
             [
              0.1111111111111111,
              "#46039f"
             ],
             [
              0.2222222222222222,
              "#7201a8"
             ],
             [
              0.3333333333333333,
              "#9c179e"
             ],
             [
              0.4444444444444444,
              "#bd3786"
             ],
             [
              0.5555555555555556,
              "#d8576b"
             ],
             [
              0.6666666666666666,
              "#ed7953"
             ],
             [
              0.7777777777777778,
              "#fb9f3a"
             ],
             [
              0.8888888888888888,
              "#fdca26"
             ],
             [
              1,
              "#f0f921"
             ]
            ],
            "type": "surface"
           }
          ],
          "table": [
           {
            "cells": {
             "fill": {
              "color": "#EBF0F8"
             },
             "line": {
              "color": "white"
             }
            },
            "header": {
             "fill": {
              "color": "#C8D4E3"
             },
             "line": {
              "color": "white"
             }
            },
            "type": "table"
           }
          ]
         },
         "layout": {
          "annotationdefaults": {
           "arrowcolor": "#2a3f5f",
           "arrowhead": 0,
           "arrowwidth": 1
          },
          "coloraxis": {
           "colorbar": {
            "outlinewidth": 0,
            "ticks": ""
           }
          },
          "colorscale": {
           "diverging": [
            [
             0,
             "#8e0152"
            ],
            [
             0.1,
             "#c51b7d"
            ],
            [
             0.2,
             "#de77ae"
            ],
            [
             0.3,
             "#f1b6da"
            ],
            [
             0.4,
             "#fde0ef"
            ],
            [
             0.5,
             "#f7f7f7"
            ],
            [
             0.6,
             "#e6f5d0"
            ],
            [
             0.7,
             "#b8e186"
            ],
            [
             0.8,
             "#7fbc41"
            ],
            [
             0.9,
             "#4d9221"
            ],
            [
             1,
             "#276419"
            ]
           ],
           "sequential": [
            [
             0,
             "#0d0887"
            ],
            [
             0.1111111111111111,
             "#46039f"
            ],
            [
             0.2222222222222222,
             "#7201a8"
            ],
            [
             0.3333333333333333,
             "#9c179e"
            ],
            [
             0.4444444444444444,
             "#bd3786"
            ],
            [
             0.5555555555555556,
             "#d8576b"
            ],
            [
             0.6666666666666666,
             "#ed7953"
            ],
            [
             0.7777777777777778,
             "#fb9f3a"
            ],
            [
             0.8888888888888888,
             "#fdca26"
            ],
            [
             1,
             "#f0f921"
            ]
           ],
           "sequentialminus": [
            [
             0,
             "#0d0887"
            ],
            [
             0.1111111111111111,
             "#46039f"
            ],
            [
             0.2222222222222222,
             "#7201a8"
            ],
            [
             0.3333333333333333,
             "#9c179e"
            ],
            [
             0.4444444444444444,
             "#bd3786"
            ],
            [
             0.5555555555555556,
             "#d8576b"
            ],
            [
             0.6666666666666666,
             "#ed7953"
            ],
            [
             0.7777777777777778,
             "#fb9f3a"
            ],
            [
             0.8888888888888888,
             "#fdca26"
            ],
            [
             1,
             "#f0f921"
            ]
           ]
          },
          "colorway": [
           "#636efa",
           "#EF553B",
           "#00cc96",
           "#ab63fa",
           "#FFA15A",
           "#19d3f3",
           "#FF6692",
           "#B6E880",
           "#FF97FF",
           "#FECB52"
          ],
          "font": {
           "color": "#2a3f5f"
          },
          "geo": {
           "bgcolor": "white",
           "lakecolor": "white",
           "landcolor": "#E5ECF6",
           "showlakes": true,
           "showland": true,
           "subunitcolor": "white"
          },
          "hoverlabel": {
           "align": "left"
          },
          "hovermode": "closest",
          "mapbox": {
           "style": "light"
          },
          "paper_bgcolor": "white",
          "plot_bgcolor": "#E5ECF6",
          "polar": {
           "angularaxis": {
            "gridcolor": "white",
            "linecolor": "white",
            "ticks": ""
           },
           "bgcolor": "#E5ECF6",
           "radialaxis": {
            "gridcolor": "white",
            "linecolor": "white",
            "ticks": ""
           }
          },
          "scene": {
           "xaxis": {
            "backgroundcolor": "#E5ECF6",
            "gridcolor": "white",
            "gridwidth": 2,
            "linecolor": "white",
            "showbackground": true,
            "ticks": "",
            "zerolinecolor": "white"
           },
           "yaxis": {
            "backgroundcolor": "#E5ECF6",
            "gridcolor": "white",
            "gridwidth": 2,
            "linecolor": "white",
            "showbackground": true,
            "ticks": "",
            "zerolinecolor": "white"
           },
           "zaxis": {
            "backgroundcolor": "#E5ECF6",
            "gridcolor": "white",
            "gridwidth": 2,
            "linecolor": "white",
            "showbackground": true,
            "ticks": "",
            "zerolinecolor": "white"
           }
          },
          "shapedefaults": {
           "line": {
            "color": "#2a3f5f"
           }
          },
          "ternary": {
           "aaxis": {
            "gridcolor": "white",
            "linecolor": "white",
            "ticks": ""
           },
           "baxis": {
            "gridcolor": "white",
            "linecolor": "white",
            "ticks": ""
           },
           "bgcolor": "#E5ECF6",
           "caxis": {
            "gridcolor": "white",
            "linecolor": "white",
            "ticks": ""
           }
          },
          "title": {
           "x": 0.05
          },
          "xaxis": {
           "automargin": true,
           "gridcolor": "white",
           "linecolor": "white",
           "ticks": "",
           "title": {
            "standoff": 15
           },
           "zerolinecolor": "white",
           "zerolinewidth": 2
          },
          "yaxis": {
           "automargin": true,
           "gridcolor": "white",
           "linecolor": "white",
           "ticks": "",
           "title": {
            "standoff": 15
           },
           "zerolinecolor": "white",
           "zerolinewidth": 2
          }
         }
        }
       }
      },
      "text/html": [
       "<div>\n",
       "        \n",
       "        \n",
       "            <div id=\"de600498-4c03-4b6e-becc-c433c6c0e34d\" class=\"plotly-graph-div\" style=\"height:525px; width:100%;\"></div>\n",
       "            <script type=\"text/javascript\">\n",
       "                require([\"plotly\"], function(Plotly) {\n",
       "                    window.PLOTLYENV=window.PLOTLYENV || {};\n",
       "                    \n",
       "                if (document.getElementById(\"de600498-4c03-4b6e-becc-c433c6c0e34d\")) {\n",
       "                    Plotly.newPlot(\n",
       "                        'de600498-4c03-4b6e-becc-c433c6c0e34d',\n",
       "                        [{\"type\": \"bar\", \"x\": [\"pop1_0\", \"pop1_1\", \"pop1_2\", \"pop1_3\", \"pop1_4\", \"pop1_5\", \"pop1_6\", \"pop1_7\", \"pop1_8\", \"pop1_9\", \"pop1_10\", \"pop1_11\", \"pop1_12\", \"pop1_13\", \"pop1_14\", \"pop1_15\", \"pop1_16\", \"pop1_17\", \"pop1_18\", \"pop1_19\", \"pop1_20\", \"pop1_21\", \"pop1_22\", \"pop1_23\", \"pop1_24\", \"pop1_25\", \"pop1_26\", \"pop1_27\", \"pop1_28\", \"pop1_29\", \"pop1_30\", \"pop1_31\", \"pop1_32\", \"pop1_33\", \"pop1_34\", \"pop1_35\", \"pop1_36\", \"pop1_37\", \"pop1_38\", \"pop1_39\", \"pop2_40\", \"pop2_41\", \"pop2_42\", \"pop2_43\", \"pop2_44\", \"pop2_45\", \"pop2_46\", \"pop2_47\", \"pop2_48\", \"pop2_49\", \"pop2_50\", \"pop2_51\", \"pop2_52\", \"pop2_53\", \"pop2_54\", \"pop2_55\", \"pop2_56\", \"pop2_57\", \"pop2_58\", \"pop2_59\", \"pop0_60\", \"pop0_61\", \"pop0_62\", \"pop0_63\", \"pop0_64\", \"pop0_65\", \"pop0_66\", \"pop0_67\", \"pop0_68\", \"pop0_69\", \"pop0_70\", \"pop0_71\", \"pop0_72\", \"pop0_73\", \"pop0_74\", \"pop0_75\", \"pop0_76\", \"pop0_77\", \"pop0_78\", \"pop0_79\", \"pop0_80\", \"pop0_81\", \"pop0_82\", \"pop0_83\", \"pop0_84\", \"pop0_85\", \"pop0_86\", \"pop0_87\", \"pop0_88\", \"pop0_89\", \"pop0_90\", \"pop0_91\", \"pop0_92\", \"pop0_93\", \"pop0_94\", \"pop0_95\", \"pop0_96\", \"pop0_97\", \"pop0_98\", \"pop0_99\", \"pop3_100\", \"pop3_101\", \"pop3_102\", \"pop3_103\", \"pop3_104\", \"pop3_105\", \"pop3_106\", \"pop3_107\", \"pop3_108\", \"pop3_109\", \"pop3_110\", \"pop3_111\", \"pop3_112\", \"pop3_113\", \"pop3_114\", \"pop3_115\", \"pop3_116\", \"pop3_117\", \"pop3_118\", \"pop3_119\", \"pop3_120\", \"pop3_121\", \"pop3_122\", \"pop3_123\", \"pop3_124\", \"pop1_125\", \"pop3_126\", \"pop3_127\", \"pop1_128\", \"pop3_129\"], \"y\": [1.531937062290123, 1.5122663323287087, 1.448772923667059, 1.49333700703339, 1.475076016656744, 1.4832908269115743, 1.5576614171886698, 1.4266789966372466, 1.5347573247707205, 1.5042015202891372, 1.5693759500039284, 1.480733908398234, 1.386732600262054, 1.3491754211749258, 1.4466594865381541, 1.3670060965171276, 1.4112025621261792, 1.4956518230488818, 1.5211001209155441, 1.3943135772697646, 1.478318006314267, 1.377174207651543, 1.5162825001694318, 1.4469184288459178, 1.4400105862608854, 1.6464431490571059, 1.3523191140055133, 1.4730397902715882, 1.3628758893680855, 1.4086919952808405, 1.5206555259554586, 1.6863680418885898, 1.4990394523205528, 1.6768695311350488, 1.5395053215534364, 1.3565445631050794, 1.5242168055868197, 1.5099542514973372, 1.4068607587454665, 1.728137808782348, 0.6021462861496896, 0.4748626785241178, 0.48787913678287675, 0.4798931487764931, 0.5388622594160634, 0.458506047018928, 0.5056634727948973, 0.5076193982688263, 0.4930829257621037, 0.5002125761110076, 0.5475640864553202, 0.5279803589898453, 0.4061517577590674, 0.4975251987835684, 0.5521421685477506, 0.49415265843073475, 0.543840667214467, 0.5486538784188666, 0.5371613562806006, 1.2364844016828132, 1.3216189583026736, 1.1638044411991462, 1.125005722663031, 1.2019784758929377, 1.3139793118889196, 1.1620821069678602, 1.1819824305244078, 1.1169943810299159, 1.359504950929537, 1.3157073761019453, 1.2417725763651941, 1.1901033451327665, 1.2804461968752736, 1.3390579770455842, 1.2559509628376577, 1.2436210938373427, 1.3151999784960824, 1.2209765577567182, 1.3451351811019463, 1.2011964484863424, 1.344056855198996, 1.249880442572253, 1.3663082196515208, 1.2264090641170353, 1.2280007937429724, 1.2713675681364356, 1.311753562693487, 1.3308337845985647, 1.27655916160833, 1.2238712231616191, 1.217876924380316, 1.3495827937078468, 1.3008772114397935, 1.3212004161161466, 1.238284494728474, 1.2755670695524244, 1.131215025814285, 1.2473322923684829, 1.2609515230284971, 1.7766030873628276, 2.156229289254377, 1.798671582745929, 1.8182925450720309, 2.1162989969642685, 3.442258249183184, 2.314547260649777, 1.8841285096436207, 2.0482243667612976, 2.4864564033792975, 2.5373100973299705, 1.814000148532794, 2.2105753369014725, 2.464975204517224, 3.2013954610515274, 2.510497923009568, 1.9929665442337665, 2.3868778412692677, 2.2169459193687233, 2.137847316048292, 2.703389344134801, 1.8899378436955006, 2.4626965787996578, 2.0700959103819425, 1.9362179564799082, 1.9227826224660696, 1.5652804038668198, 1.5255047017829877, 2.137470607979977, 1.8289614281913882]}],\n",
       "                        {\"template\": {\"data\": {\"bar\": [{\"error_x\": {\"color\": \"#2a3f5f\"}, \"error_y\": {\"color\": \"#2a3f5f\"}, \"marker\": {\"line\": {\"color\": \"#E5ECF6\", \"width\": 0.5}}, \"type\": \"bar\"}], \"barpolar\": [{\"marker\": {\"line\": {\"color\": \"#E5ECF6\", \"width\": 0.5}}, \"type\": \"barpolar\"}], \"carpet\": [{\"aaxis\": {\"endlinecolor\": \"#2a3f5f\", \"gridcolor\": \"white\", \"linecolor\": \"white\", \"minorgridcolor\": \"white\", \"startlinecolor\": \"#2a3f5f\"}, \"baxis\": {\"endlinecolor\": \"#2a3f5f\", \"gridcolor\": \"white\", \"linecolor\": \"white\", \"minorgridcolor\": \"white\", \"startlinecolor\": \"#2a3f5f\"}, \"type\": \"carpet\"}], \"choropleth\": [{\"colorbar\": {\"outlinewidth\": 0, \"ticks\": \"\"}, \"type\": \"choropleth\"}], \"contour\": [{\"colorbar\": {\"outlinewidth\": 0, \"ticks\": \"\"}, \"colorscale\": [[0.0, \"#0d0887\"], [0.1111111111111111, \"#46039f\"], [0.2222222222222222, \"#7201a8\"], [0.3333333333333333, \"#9c179e\"], [0.4444444444444444, \"#bd3786\"], [0.5555555555555556, \"#d8576b\"], [0.6666666666666666, \"#ed7953\"], [0.7777777777777778, \"#fb9f3a\"], [0.8888888888888888, \"#fdca26\"], [1.0, \"#f0f921\"]], \"type\": \"contour\"}], \"contourcarpet\": [{\"colorbar\": {\"outlinewidth\": 0, \"ticks\": \"\"}, \"type\": \"contourcarpet\"}], \"heatmap\": [{\"colorbar\": {\"outlinewidth\": 0, \"ticks\": \"\"}, \"colorscale\": [[0.0, \"#0d0887\"], [0.1111111111111111, \"#46039f\"], [0.2222222222222222, \"#7201a8\"], [0.3333333333333333, \"#9c179e\"], [0.4444444444444444, \"#bd3786\"], [0.5555555555555556, \"#d8576b\"], [0.6666666666666666, \"#ed7953\"], [0.7777777777777778, \"#fb9f3a\"], [0.8888888888888888, \"#fdca26\"], [1.0, \"#f0f921\"]], \"type\": \"heatmap\"}], \"heatmapgl\": [{\"colorbar\": {\"outlinewidth\": 0, \"ticks\": \"\"}, \"colorscale\": [[0.0, \"#0d0887\"], [0.1111111111111111, \"#46039f\"], [0.2222222222222222, \"#7201a8\"], [0.3333333333333333, \"#9c179e\"], [0.4444444444444444, \"#bd3786\"], [0.5555555555555556, \"#d8576b\"], [0.6666666666666666, \"#ed7953\"], [0.7777777777777778, \"#fb9f3a\"], [0.8888888888888888, \"#fdca26\"], [1.0, \"#f0f921\"]], \"type\": \"heatmapgl\"}], \"histogram\": [{\"marker\": {\"colorbar\": {\"outlinewidth\": 0, \"ticks\": \"\"}}, \"type\": \"histogram\"}], \"histogram2d\": [{\"colorbar\": {\"outlinewidth\": 0, \"ticks\": \"\"}, \"colorscale\": [[0.0, \"#0d0887\"], [0.1111111111111111, \"#46039f\"], [0.2222222222222222, \"#7201a8\"], [0.3333333333333333, \"#9c179e\"], [0.4444444444444444, \"#bd3786\"], [0.5555555555555556, \"#d8576b\"], [0.6666666666666666, \"#ed7953\"], [0.7777777777777778, \"#fb9f3a\"], [0.8888888888888888, \"#fdca26\"], [1.0, \"#f0f921\"]], \"type\": \"histogram2d\"}], \"histogram2dcontour\": [{\"colorbar\": {\"outlinewidth\": 0, \"ticks\": \"\"}, \"colorscale\": [[0.0, \"#0d0887\"], [0.1111111111111111, \"#46039f\"], [0.2222222222222222, \"#7201a8\"], [0.3333333333333333, \"#9c179e\"], [0.4444444444444444, \"#bd3786\"], [0.5555555555555556, \"#d8576b\"], [0.6666666666666666, \"#ed7953\"], [0.7777777777777778, \"#fb9f3a\"], [0.8888888888888888, \"#fdca26\"], [1.0, \"#f0f921\"]], \"type\": \"histogram2dcontour\"}], \"mesh3d\": [{\"colorbar\": {\"outlinewidth\": 0, \"ticks\": \"\"}, \"type\": \"mesh3d\"}], \"parcoords\": [{\"line\": {\"colorbar\": {\"outlinewidth\": 0, \"ticks\": \"\"}}, \"type\": \"parcoords\"}], \"pie\": [{\"automargin\": true, \"type\": \"pie\"}], \"scatter\": [{\"marker\": {\"colorbar\": {\"outlinewidth\": 0, \"ticks\": \"\"}}, \"type\": \"scatter\"}], \"scatter3d\": [{\"line\": {\"colorbar\": {\"outlinewidth\": 0, \"ticks\": \"\"}}, \"marker\": {\"colorbar\": {\"outlinewidth\": 0, \"ticks\": \"\"}}, \"type\": \"scatter3d\"}], \"scattercarpet\": [{\"marker\": {\"colorbar\": {\"outlinewidth\": 0, \"ticks\": \"\"}}, \"type\": \"scattercarpet\"}], \"scattergeo\": [{\"marker\": {\"colorbar\": {\"outlinewidth\": 0, \"ticks\": \"\"}}, \"type\": \"scattergeo\"}], \"scattergl\": [{\"marker\": {\"colorbar\": {\"outlinewidth\": 0, \"ticks\": \"\"}}, \"type\": \"scattergl\"}], \"scattermapbox\": [{\"marker\": {\"colorbar\": {\"outlinewidth\": 0, \"ticks\": \"\"}}, \"type\": \"scattermapbox\"}], \"scatterpolar\": [{\"marker\": {\"colorbar\": {\"outlinewidth\": 0, \"ticks\": \"\"}}, \"type\": \"scatterpolar\"}], \"scatterpolargl\": [{\"marker\": {\"colorbar\": {\"outlinewidth\": 0, \"ticks\": \"\"}}, \"type\": \"scatterpolargl\"}], \"scatterternary\": [{\"marker\": {\"colorbar\": {\"outlinewidth\": 0, \"ticks\": \"\"}}, \"type\": \"scatterternary\"}], \"surface\": [{\"colorbar\": {\"outlinewidth\": 0, \"ticks\": \"\"}, \"colorscale\": [[0.0, \"#0d0887\"], [0.1111111111111111, \"#46039f\"], [0.2222222222222222, \"#7201a8\"], [0.3333333333333333, \"#9c179e\"], [0.4444444444444444, \"#bd3786\"], [0.5555555555555556, \"#d8576b\"], [0.6666666666666666, \"#ed7953\"], [0.7777777777777778, \"#fb9f3a\"], [0.8888888888888888, \"#fdca26\"], [1.0, \"#f0f921\"]], \"type\": \"surface\"}], \"table\": [{\"cells\": {\"fill\": {\"color\": \"#EBF0F8\"}, \"line\": {\"color\": \"white\"}}, \"header\": {\"fill\": {\"color\": \"#C8D4E3\"}, \"line\": {\"color\": \"white\"}}, \"type\": \"table\"}]}, \"layout\": {\"annotationdefaults\": {\"arrowcolor\": \"#2a3f5f\", \"arrowhead\": 0, \"arrowwidth\": 1}, \"coloraxis\": {\"colorbar\": {\"outlinewidth\": 0, \"ticks\": \"\"}}, \"colorscale\": {\"diverging\": [[0, \"#8e0152\"], [0.1, \"#c51b7d\"], [0.2, \"#de77ae\"], [0.3, \"#f1b6da\"], [0.4, \"#fde0ef\"], [0.5, \"#f7f7f7\"], [0.6, \"#e6f5d0\"], [0.7, \"#b8e186\"], [0.8, \"#7fbc41\"], [0.9, \"#4d9221\"], [1, \"#276419\"]], \"sequential\": [[0.0, \"#0d0887\"], [0.1111111111111111, \"#46039f\"], [0.2222222222222222, \"#7201a8\"], [0.3333333333333333, \"#9c179e\"], [0.4444444444444444, \"#bd3786\"], [0.5555555555555556, \"#d8576b\"], [0.6666666666666666, \"#ed7953\"], [0.7777777777777778, \"#fb9f3a\"], [0.8888888888888888, \"#fdca26\"], [1.0, \"#f0f921\"]], \"sequentialminus\": [[0.0, \"#0d0887\"], [0.1111111111111111, \"#46039f\"], [0.2222222222222222, \"#7201a8\"], [0.3333333333333333, \"#9c179e\"], [0.4444444444444444, \"#bd3786\"], [0.5555555555555556, \"#d8576b\"], [0.6666666666666666, \"#ed7953\"], [0.7777777777777778, \"#fb9f3a\"], [0.8888888888888888, \"#fdca26\"], [1.0, \"#f0f921\"]]}, \"colorway\": [\"#636efa\", \"#EF553B\", \"#00cc96\", \"#ab63fa\", \"#FFA15A\", \"#19d3f3\", \"#FF6692\", \"#B6E880\", \"#FF97FF\", \"#FECB52\"], \"font\": {\"color\": \"#2a3f5f\"}, \"geo\": {\"bgcolor\": \"white\", \"lakecolor\": \"white\", \"landcolor\": \"#E5ECF6\", \"showlakes\": true, \"showland\": true, \"subunitcolor\": \"white\"}, \"hoverlabel\": {\"align\": \"left\"}, \"hovermode\": \"closest\", \"mapbox\": {\"style\": \"light\"}, \"paper_bgcolor\": \"white\", \"plot_bgcolor\": \"#E5ECF6\", \"polar\": {\"angularaxis\": {\"gridcolor\": \"white\", \"linecolor\": \"white\", \"ticks\": \"\"}, \"bgcolor\": \"#E5ECF6\", \"radialaxis\": {\"gridcolor\": \"white\", \"linecolor\": \"white\", \"ticks\": \"\"}}, \"scene\": {\"xaxis\": {\"backgroundcolor\": \"#E5ECF6\", \"gridcolor\": \"white\", \"gridwidth\": 2, \"linecolor\": \"white\", \"showbackground\": true, \"ticks\": \"\", \"zerolinecolor\": \"white\"}, \"yaxis\": {\"backgroundcolor\": \"#E5ECF6\", \"gridcolor\": \"white\", \"gridwidth\": 2, \"linecolor\": \"white\", \"showbackground\": true, \"ticks\": \"\", \"zerolinecolor\": \"white\"}, \"zaxis\": {\"backgroundcolor\": \"#E5ECF6\", \"gridcolor\": \"white\", \"gridwidth\": 2, \"linecolor\": \"white\", \"showbackground\": true, \"ticks\": \"\", \"zerolinecolor\": \"white\"}}, \"shapedefaults\": {\"line\": {\"color\": \"#2a3f5f\"}}, \"ternary\": {\"aaxis\": {\"gridcolor\": \"white\", \"linecolor\": \"white\", \"ticks\": \"\"}, \"baxis\": {\"gridcolor\": \"white\", \"linecolor\": \"white\", \"ticks\": \"\"}, \"bgcolor\": \"#E5ECF6\", \"caxis\": {\"gridcolor\": \"white\", \"linecolor\": \"white\", \"ticks\": \"\"}}, \"title\": {\"x\": 0.05}, \"xaxis\": {\"automargin\": true, \"gridcolor\": \"white\", \"linecolor\": \"white\", \"ticks\": \"\", \"title\": {\"standoff\": 15}, \"zerolinecolor\": \"white\", \"zerolinewidth\": 2}, \"yaxis\": {\"automargin\": true, \"gridcolor\": \"white\", \"linecolor\": \"white\", \"ticks\": \"\", \"title\": {\"standoff\": 15}, \"zerolinecolor\": \"white\", \"zerolinewidth\": 2}}}},\n",
       "                        {\"responsive\": true}\n",
       "                    ).then(function(){\n",
       "                            \n",
       "var gd = document.getElementById('de600498-4c03-4b6e-becc-c433c6c0e34d');\n",
       "var x = new MutationObserver(function (mutations, observer) {{\n",
       "        var display = window.getComputedStyle(gd).display;\n",
       "        if (!display || display === 'none') {{\n",
       "            console.log([gd, 'removed!']);\n",
       "            Plotly.purge(gd);\n",
       "            observer.disconnect();\n",
       "        }}\n",
       "}});\n",
       "\n",
       "// Listen for the removal of the full notebook cells\n",
       "var notebookContainer = gd.closest('#notebook-container');\n",
       "if (notebookContainer) {{\n",
       "    x.observe(notebookContainer, {childList: true});\n",
       "}}\n",
       "\n",
       "// Listen for the clearing of the current output cell\n",
       "var outputEl = gd.closest('.output');\n",
       "if (outputEl) {{\n",
       "    x.observe(outputEl, {childList: true});\n",
       "}}\n",
       "\n",
       "                        })\n",
       "                };\n",
       "                });\n",
       "            </script>\n",
       "        </div>"
      ]
     },
     "metadata": {},
     "output_type": "display_data"
    }
   ],
   "source": [
    "\n",
    "dist_var= np.std(dist_store,axis= 0)**2\n",
    "who_plot= [x for x in range(len(label_vector)) if label_vector[x] in [0,1,2,3]]\n",
    "idvector= ['pop{}_{}'.format(label_vector[x],Whose[x]) for x in who_plot]\n",
    "\n",
    "fig = go.Figure([go.Bar(\n",
    "    x=idvector, y=dist_var\n",
    ")])\n",
    "layout= go.Layout()\n",
    "\n",
    "Figure= go.Figure(data= fig, layout= layout)\n",
    "iplot(Figure)\n"
   ]
  },
  {
   "cell_type": "markdown",
   "metadata": {},
   "source": [
    "#### B. Coordinates at local window.\n",
    "\n",
    "Dimensionality reduction of features surrounding missing call. Nfeatures=  wind_sizes.\n",
    "\n",
    "Coordinates of observation with missing data indicated with red circle.\n",
    "\n"
   ]
  },
  {
   "cell_type": "code",
   "execution_count": 20,
   "metadata": {},
   "outputs": [
    {
     "data": {
      "application/vnd.plotly.v1+json": {
       "config": {
        "linkText": "Export to plot.ly",
        "plotlyServerURL": "https://plot.ly",
        "showLink": false
       },
       "data": [
        {
         "mode": "markers",
         "name": "0",
         "type": "scatter",
         "x": [
          3.445574481375933,
          2.863857011774429,
          3.866887209912928,
          2.932665671822504,
          3.425689708701257,
          3.725042716476828,
          3.85042873130433,
          4.336930881102006,
          3.1624941489392753,
          3.962170681675321,
          3.7313913282998867,
          3.581306171455651,
          2.8765747093159604,
          1.6331246827093906,
          3.6266282401255663,
          2.7869491892633698,
          2.7590623765701934,
          3.5895404336973904,
          3.7552446930290753,
          3.7658300022386695,
          2.8671857561339507,
          3.548954032100013,
          3.577302370420785,
          4.200382676921275,
          4.071831592711339,
          3.0125241785585297,
          4.423254704337569,
          2.411450742049884,
          2.8355591724665574,
          1.558804489709674,
          3.6732219477841266,
          3.4316311790666987,
          3.03315167441259,
          2.995361327270493,
          3.8601377220386026,
          3.8681738739015095,
          4.050199853524352,
          3.2778952852329435,
          3.600291901470926,
          2.9871241333214615
         ],
         "y": [
          0.6805898880727538,
          0.8039022661085495,
          -0.31013859359932494,
          0.02239852991407296,
          0.26781735854283745,
          -0.11414695300252196,
          0.6072901713396802,
          0.20550959564761637,
          -0.08084815065207356,
          -0.019368666894963943,
          1.7444088906297557,
          -0.15564759535963985,
          -0.9820443059633468,
          -0.24377233395255235,
          -0.8190902787245985,
          1.0344973318785107,
          0.23233077237971697,
          -0.15677041851809267,
          -0.49109357829549743,
          1.0166115674381866,
          -0.19498951686067692,
          -0.5120990801814447,
          0.2600286536546371,
          0.4381412860588638,
          0.5979071625600343,
          -0.29768064102754577,
          -0.019980310054539038,
          0.4326587327677559,
          0.7896895835572884,
          -0.23714241340427478,
          -2.0773686248685332,
          -0.3679736863687854,
          0.42279998921288264,
          0.8120981431295042,
          -0.5973274619015538,
          -2.6442949407166836,
          -0.969824773800961,
          -1.5727067695695336,
          0.5977441551306417,
          0.1331554089920269
         ]
        },
        {
         "mode": "markers",
         "name": "1",
         "type": "scatter",
         "x": [
          -0.588467708450443,
          -2.425075704185392,
          -2.009415193884924,
          -1.744169862303973,
          -0.8409543996120973,
          -2.275617154821654,
          -0.5031756243017333,
          -1.5249671970828702,
          -2.418349800960872,
          -1.518728289734464,
          -1.4637165642323358,
          -0.6691509585936343,
          -2.7599519190657973,
          -2.9989250397338165,
          -2.8336099227066693,
          -2.2209592485343475,
          -2.4211158259705643,
          -2.1156755282676367,
          -2.727099125304905,
          -2.6862147629295046,
          -0.037543567271809464,
          -1.659271984622597,
          -2.5936522037035905,
          -3.2653655426825328,
          -1.9350398765222576,
          -1.4640653463717377,
          -2.5923096487877575,
          -2.8596495934838204,
          -2.3073013499728554,
          -2.0903224196795875,
          -1.5753189977485704,
          -2.2605506269082016,
          -1.5948597438952317,
          -2.489906926622773,
          -2.9449068543738615,
          -2.130496048757374,
          -3.0957527428243963,
          -3.3093968321048495,
          -1.7279427507460992,
          -1.4876561196173512,
          -2.52235454817066,
          -2.6001170959695292
         ],
         "y": [
          -2.0233867591993118,
          -0.23308883713685716,
          -2.8677311783669235,
          -0.45875611897643825,
          -1.5757799621584274,
          0.10328799153443304,
          -0.008132532125952911,
          -2.0759263045566776,
          -1.7572175755054753,
          -0.9291078513979568,
          -1.680638418318223,
          1.4036588573342608,
          -1.7454047533591421,
          -1.9579294368874125,
          -0.7514747102203199,
          -0.672576213746819,
          -1.0072660029786673,
          -2.9790798922315984,
          -2.6480509682835556,
          -1.9812367862299964,
          -0.9657295868515527,
          -3.3333311817890805,
          -1.767950658111273,
          -1.7952670841901253,
          -2.1873207328035265,
          -1.3747772093443789,
          -0.418548089865425,
          -0.5862049224626714,
          -0.5988073559395417,
          -0.12910608967455323,
          -0.9791152609386109,
          -1.3916758283418325,
          -0.36012549611466727,
          -1.277736768695488,
          -0.7162867622637535,
          -0.9505977727641176,
          -1.1883741048631573,
          -1.626531127772757,
          -0.9918646331045013,
          -2.4313065844317663,
          -0.29000716110382646,
          2.0315891329699554
         ]
        },
        {
         "mode": "markers",
         "name": "2",
         "type": "scatter",
         "x": [
          -0.5204137140343036,
          -2.843528704065343,
          -1.9523750352562317,
          -2.3940604387863873,
          -2.1043744622458322,
          -1.1473995389720693,
          -3.246537134337062,
          -1.9524285389116351,
          -2.6570690516380093,
          -1.2548436622456525,
          -1.6949622519645284,
          -0.9597586065683711,
          -2.910313436436997,
          -1.8754044420531415,
          -1.1731941280396445,
          -2.0303511885516867,
          -1.912775259714973,
          -1.5184976231964673,
          -2.6445348754798217,
          -0.3261257510824772
         ],
         "y": [
          4.499745491003538,
          3.165287496883781,
          2.5610001299207164,
          3.5777857801903634,
          3.1818519826232383,
          2.8376595659738797,
          3.5571910091071723,
          2.918174057036131,
          3.753983142225423,
          3.4714529166534085,
          2.7615994256229737,
          2.23889433858673,
          2.9729876195093334,
          3.9461426367237324,
          3.2464404465989904,
          1.2886014359081899,
          3.971508540371282,
          3.829525170810342,
          3.5196150472208076,
          4.086200710833192
         ]
        },
        {
         "mode": "markers",
         "name": "3",
         "type": "scatter",
         "x": [
          1.6674208909592927,
          0.010503140396949691,
          4.120963512124205,
          0.10350505526920574,
          3.6354013199398976,
          -2.2958521681770425,
          1.210756479411488,
          -0.3336104099919142,
          -2.2625455317280343,
          3.524143895315713,
          3.079365721807298,
          -0.8191894257537885,
          -1.2875509235103784,
          -0.22084004369299115,
          -1.360392922117264,
          -2.1220509650562493,
          3.8151830544878553,
          -2.4507839409448358,
          -2.3684514034680997,
          -2.8142587719190524,
          -2.1230858532518897,
          -2.531984839271786,
          -3.044146903499509,
          3.3263867177778472,
          -3.5223502210430486,
          -2.381138192074775,
          -2.0308478562626258,
          -1.0783126038540105
         ],
         "y": [
          0.7162981045831687,
          -0.3575299506525828,
          -0.949158126612051,
          -0.20701605264119113,
          -0.27819774825799826,
          -1.2624299452839676,
          0.48121802753354115,
          0.6947487124496449,
          -2.0231515028744522,
          -1.1867887911271453,
          -1.1984613417575165,
          1.2213576294858457,
          0.38418845026425136,
          0.5150955660262727,
          1.4493596263154913,
          -0.8904018677643302,
          -0.38189846787409176,
          -1.0171228306075102,
          -1.0858406328230035,
          -0.3186101671401287,
          -0.9641319506962814,
          -1.7676299769157846,
          -1.832768268460767,
          0.5103881274419099,
          -1.5972656070897269,
          -0.19499126956621302,
          -1.252076446550308,
          -1.6531879052387832
         ]
        },
        {
         "marker": {
          "color": "rgba(135, 206, 250, 0)",
          "line": {
           "color": "red",
           "width": 5
          },
          "opacity": 1,
          "size": 25
         },
         "mode": "markers",
         "showlegend": false,
         "type": "scatter",
         "x": [
          -2.843528704065343
         ],
         "y": [
          3.165287496883781
         ]
        }
       ],
       "layout": {
        "template": {
         "data": {
          "bar": [
           {
            "error_x": {
             "color": "#2a3f5f"
            },
            "error_y": {
             "color": "#2a3f5f"
            },
            "marker": {
             "line": {
              "color": "#E5ECF6",
              "width": 0.5
             }
            },
            "type": "bar"
           }
          ],
          "barpolar": [
           {
            "marker": {
             "line": {
              "color": "#E5ECF6",
              "width": 0.5
             }
            },
            "type": "barpolar"
           }
          ],
          "carpet": [
           {
            "aaxis": {
             "endlinecolor": "#2a3f5f",
             "gridcolor": "white",
             "linecolor": "white",
             "minorgridcolor": "white",
             "startlinecolor": "#2a3f5f"
            },
            "baxis": {
             "endlinecolor": "#2a3f5f",
             "gridcolor": "white",
             "linecolor": "white",
             "minorgridcolor": "white",
             "startlinecolor": "#2a3f5f"
            },
            "type": "carpet"
           }
          ],
          "choropleth": [
           {
            "colorbar": {
             "outlinewidth": 0,
             "ticks": ""
            },
            "type": "choropleth"
           }
          ],
          "contour": [
           {
            "colorbar": {
             "outlinewidth": 0,
             "ticks": ""
            },
            "colorscale": [
             [
              0,
              "#0d0887"
             ],
             [
              0.1111111111111111,
              "#46039f"
             ],
             [
              0.2222222222222222,
              "#7201a8"
             ],
             [
              0.3333333333333333,
              "#9c179e"
             ],
             [
              0.4444444444444444,
              "#bd3786"
             ],
             [
              0.5555555555555556,
              "#d8576b"
             ],
             [
              0.6666666666666666,
              "#ed7953"
             ],
             [
              0.7777777777777778,
              "#fb9f3a"
             ],
             [
              0.8888888888888888,
              "#fdca26"
             ],
             [
              1,
              "#f0f921"
             ]
            ],
            "type": "contour"
           }
          ],
          "contourcarpet": [
           {
            "colorbar": {
             "outlinewidth": 0,
             "ticks": ""
            },
            "type": "contourcarpet"
           }
          ],
          "heatmap": [
           {
            "colorbar": {
             "outlinewidth": 0,
             "ticks": ""
            },
            "colorscale": [
             [
              0,
              "#0d0887"
             ],
             [
              0.1111111111111111,
              "#46039f"
             ],
             [
              0.2222222222222222,
              "#7201a8"
             ],
             [
              0.3333333333333333,
              "#9c179e"
             ],
             [
              0.4444444444444444,
              "#bd3786"
             ],
             [
              0.5555555555555556,
              "#d8576b"
             ],
             [
              0.6666666666666666,
              "#ed7953"
             ],
             [
              0.7777777777777778,
              "#fb9f3a"
             ],
             [
              0.8888888888888888,
              "#fdca26"
             ],
             [
              1,
              "#f0f921"
             ]
            ],
            "type": "heatmap"
           }
          ],
          "heatmapgl": [
           {
            "colorbar": {
             "outlinewidth": 0,
             "ticks": ""
            },
            "colorscale": [
             [
              0,
              "#0d0887"
             ],
             [
              0.1111111111111111,
              "#46039f"
             ],
             [
              0.2222222222222222,
              "#7201a8"
             ],
             [
              0.3333333333333333,
              "#9c179e"
             ],
             [
              0.4444444444444444,
              "#bd3786"
             ],
             [
              0.5555555555555556,
              "#d8576b"
             ],
             [
              0.6666666666666666,
              "#ed7953"
             ],
             [
              0.7777777777777778,
              "#fb9f3a"
             ],
             [
              0.8888888888888888,
              "#fdca26"
             ],
             [
              1,
              "#f0f921"
             ]
            ],
            "type": "heatmapgl"
           }
          ],
          "histogram": [
           {
            "marker": {
             "colorbar": {
              "outlinewidth": 0,
              "ticks": ""
             }
            },
            "type": "histogram"
           }
          ],
          "histogram2d": [
           {
            "colorbar": {
             "outlinewidth": 0,
             "ticks": ""
            },
            "colorscale": [
             [
              0,
              "#0d0887"
             ],
             [
              0.1111111111111111,
              "#46039f"
             ],
             [
              0.2222222222222222,
              "#7201a8"
             ],
             [
              0.3333333333333333,
              "#9c179e"
             ],
             [
              0.4444444444444444,
              "#bd3786"
             ],
             [
              0.5555555555555556,
              "#d8576b"
             ],
             [
              0.6666666666666666,
              "#ed7953"
             ],
             [
              0.7777777777777778,
              "#fb9f3a"
             ],
             [
              0.8888888888888888,
              "#fdca26"
             ],
             [
              1,
              "#f0f921"
             ]
            ],
            "type": "histogram2d"
           }
          ],
          "histogram2dcontour": [
           {
            "colorbar": {
             "outlinewidth": 0,
             "ticks": ""
            },
            "colorscale": [
             [
              0,
              "#0d0887"
             ],
             [
              0.1111111111111111,
              "#46039f"
             ],
             [
              0.2222222222222222,
              "#7201a8"
             ],
             [
              0.3333333333333333,
              "#9c179e"
             ],
             [
              0.4444444444444444,
              "#bd3786"
             ],
             [
              0.5555555555555556,
              "#d8576b"
             ],
             [
              0.6666666666666666,
              "#ed7953"
             ],
             [
              0.7777777777777778,
              "#fb9f3a"
             ],
             [
              0.8888888888888888,
              "#fdca26"
             ],
             [
              1,
              "#f0f921"
             ]
            ],
            "type": "histogram2dcontour"
           }
          ],
          "mesh3d": [
           {
            "colorbar": {
             "outlinewidth": 0,
             "ticks": ""
            },
            "type": "mesh3d"
           }
          ],
          "parcoords": [
           {
            "line": {
             "colorbar": {
              "outlinewidth": 0,
              "ticks": ""
             }
            },
            "type": "parcoords"
           }
          ],
          "pie": [
           {
            "automargin": true,
            "type": "pie"
           }
          ],
          "scatter": [
           {
            "marker": {
             "colorbar": {
              "outlinewidth": 0,
              "ticks": ""
             }
            },
            "type": "scatter"
           }
          ],
          "scatter3d": [
           {
            "line": {
             "colorbar": {
              "outlinewidth": 0,
              "ticks": ""
             }
            },
            "marker": {
             "colorbar": {
              "outlinewidth": 0,
              "ticks": ""
             }
            },
            "type": "scatter3d"
           }
          ],
          "scattercarpet": [
           {
            "marker": {
             "colorbar": {
              "outlinewidth": 0,
              "ticks": ""
             }
            },
            "type": "scattercarpet"
           }
          ],
          "scattergeo": [
           {
            "marker": {
             "colorbar": {
              "outlinewidth": 0,
              "ticks": ""
             }
            },
            "type": "scattergeo"
           }
          ],
          "scattergl": [
           {
            "marker": {
             "colorbar": {
              "outlinewidth": 0,
              "ticks": ""
             }
            },
            "type": "scattergl"
           }
          ],
          "scattermapbox": [
           {
            "marker": {
             "colorbar": {
              "outlinewidth": 0,
              "ticks": ""
             }
            },
            "type": "scattermapbox"
           }
          ],
          "scatterpolar": [
           {
            "marker": {
             "colorbar": {
              "outlinewidth": 0,
              "ticks": ""
             }
            },
            "type": "scatterpolar"
           }
          ],
          "scatterpolargl": [
           {
            "marker": {
             "colorbar": {
              "outlinewidth": 0,
              "ticks": ""
             }
            },
            "type": "scatterpolargl"
           }
          ],
          "scatterternary": [
           {
            "marker": {
             "colorbar": {
              "outlinewidth": 0,
              "ticks": ""
             }
            },
            "type": "scatterternary"
           }
          ],
          "surface": [
           {
            "colorbar": {
             "outlinewidth": 0,
             "ticks": ""
            },
            "colorscale": [
             [
              0,
              "#0d0887"
             ],
             [
              0.1111111111111111,
              "#46039f"
             ],
             [
              0.2222222222222222,
              "#7201a8"
             ],
             [
              0.3333333333333333,
              "#9c179e"
             ],
             [
              0.4444444444444444,
              "#bd3786"
             ],
             [
              0.5555555555555556,
              "#d8576b"
             ],
             [
              0.6666666666666666,
              "#ed7953"
             ],
             [
              0.7777777777777778,
              "#fb9f3a"
             ],
             [
              0.8888888888888888,
              "#fdca26"
             ],
             [
              1,
              "#f0f921"
             ]
            ],
            "type": "surface"
           }
          ],
          "table": [
           {
            "cells": {
             "fill": {
              "color": "#EBF0F8"
             },
             "line": {
              "color": "white"
             }
            },
            "header": {
             "fill": {
              "color": "#C8D4E3"
             },
             "line": {
              "color": "white"
             }
            },
            "type": "table"
           }
          ]
         },
         "layout": {
          "annotationdefaults": {
           "arrowcolor": "#2a3f5f",
           "arrowhead": 0,
           "arrowwidth": 1
          },
          "coloraxis": {
           "colorbar": {
            "outlinewidth": 0,
            "ticks": ""
           }
          },
          "colorscale": {
           "diverging": [
            [
             0,
             "#8e0152"
            ],
            [
             0.1,
             "#c51b7d"
            ],
            [
             0.2,
             "#de77ae"
            ],
            [
             0.3,
             "#f1b6da"
            ],
            [
             0.4,
             "#fde0ef"
            ],
            [
             0.5,
             "#f7f7f7"
            ],
            [
             0.6,
             "#e6f5d0"
            ],
            [
             0.7,
             "#b8e186"
            ],
            [
             0.8,
             "#7fbc41"
            ],
            [
             0.9,
             "#4d9221"
            ],
            [
             1,
             "#276419"
            ]
           ],
           "sequential": [
            [
             0,
             "#0d0887"
            ],
            [
             0.1111111111111111,
             "#46039f"
            ],
            [
             0.2222222222222222,
             "#7201a8"
            ],
            [
             0.3333333333333333,
             "#9c179e"
            ],
            [
             0.4444444444444444,
             "#bd3786"
            ],
            [
             0.5555555555555556,
             "#d8576b"
            ],
            [
             0.6666666666666666,
             "#ed7953"
            ],
            [
             0.7777777777777778,
             "#fb9f3a"
            ],
            [
             0.8888888888888888,
             "#fdca26"
            ],
            [
             1,
             "#f0f921"
            ]
           ],
           "sequentialminus": [
            [
             0,
             "#0d0887"
            ],
            [
             0.1111111111111111,
             "#46039f"
            ],
            [
             0.2222222222222222,
             "#7201a8"
            ],
            [
             0.3333333333333333,
             "#9c179e"
            ],
            [
             0.4444444444444444,
             "#bd3786"
            ],
            [
             0.5555555555555556,
             "#d8576b"
            ],
            [
             0.6666666666666666,
             "#ed7953"
            ],
            [
             0.7777777777777778,
             "#fb9f3a"
            ],
            [
             0.8888888888888888,
             "#fdca26"
            ],
            [
             1,
             "#f0f921"
            ]
           ]
          },
          "colorway": [
           "#636efa",
           "#EF553B",
           "#00cc96",
           "#ab63fa",
           "#FFA15A",
           "#19d3f3",
           "#FF6692",
           "#B6E880",
           "#FF97FF",
           "#FECB52"
          ],
          "font": {
           "color": "#2a3f5f"
          },
          "geo": {
           "bgcolor": "white",
           "lakecolor": "white",
           "landcolor": "#E5ECF6",
           "showlakes": true,
           "showland": true,
           "subunitcolor": "white"
          },
          "hoverlabel": {
           "align": "left"
          },
          "hovermode": "closest",
          "mapbox": {
           "style": "light"
          },
          "paper_bgcolor": "white",
          "plot_bgcolor": "#E5ECF6",
          "polar": {
           "angularaxis": {
            "gridcolor": "white",
            "linecolor": "white",
            "ticks": ""
           },
           "bgcolor": "#E5ECF6",
           "radialaxis": {
            "gridcolor": "white",
            "linecolor": "white",
            "ticks": ""
           }
          },
          "scene": {
           "xaxis": {
            "backgroundcolor": "#E5ECF6",
            "gridcolor": "white",
            "gridwidth": 2,
            "linecolor": "white",
            "showbackground": true,
            "ticks": "",
            "zerolinecolor": "white"
           },
           "yaxis": {
            "backgroundcolor": "#E5ECF6",
            "gridcolor": "white",
            "gridwidth": 2,
            "linecolor": "white",
            "showbackground": true,
            "ticks": "",
            "zerolinecolor": "white"
           },
           "zaxis": {
            "backgroundcolor": "#E5ECF6",
            "gridcolor": "white",
            "gridwidth": 2,
            "linecolor": "white",
            "showbackground": true,
            "ticks": "",
            "zerolinecolor": "white"
           }
          },
          "shapedefaults": {
           "line": {
            "color": "#2a3f5f"
           }
          },
          "ternary": {
           "aaxis": {
            "gridcolor": "white",
            "linecolor": "white",
            "ticks": ""
           },
           "baxis": {
            "gridcolor": "white",
            "linecolor": "white",
            "ticks": ""
           },
           "bgcolor": "#E5ECF6",
           "caxis": {
            "gridcolor": "white",
            "linecolor": "white",
            "ticks": ""
           }
          },
          "title": {
           "x": 0.05
          },
          "xaxis": {
           "automargin": true,
           "gridcolor": "white",
           "linecolor": "white",
           "ticks": "",
           "title": {
            "standoff": 15
           },
           "zerolinecolor": "white",
           "zerolinewidth": 2
          },
          "yaxis": {
           "automargin": true,
           "gridcolor": "white",
           "linecolor": "white",
           "ticks": "",
           "title": {
            "standoff": 15
           },
           "zerolinecolor": "white",
           "zerolinewidth": 2
          }
         }
        }
       }
      },
      "text/html": [
       "<div>\n",
       "        \n",
       "        \n",
       "            <div id=\"2e87edc4-6977-45af-b25f-911ec4890d36\" class=\"plotly-graph-div\" style=\"height:525px; width:100%;\"></div>\n",
       "            <script type=\"text/javascript\">\n",
       "                require([\"plotly\"], function(Plotly) {\n",
       "                    window.PLOTLYENV=window.PLOTLYENV || {};\n",
       "                    \n",
       "                if (document.getElementById(\"2e87edc4-6977-45af-b25f-911ec4890d36\")) {\n",
       "                    Plotly.newPlot(\n",
       "                        '2e87edc4-6977-45af-b25f-911ec4890d36',\n",
       "                        [{\"mode\": \"markers\", \"name\": \"0\", \"type\": \"scatter\", \"x\": [3.445574481375933, 2.863857011774429, 3.866887209912928, 2.932665671822504, 3.425689708701257, 3.725042716476828, 3.85042873130433, 4.336930881102006, 3.1624941489392753, 3.962170681675321, 3.7313913282998867, 3.581306171455651, 2.8765747093159604, 1.6331246827093906, 3.6266282401255663, 2.7869491892633698, 2.7590623765701934, 3.5895404336973904, 3.7552446930290753, 3.7658300022386695, 2.8671857561339507, 3.548954032100013, 3.577302370420785, 4.200382676921275, 4.071831592711339, 3.0125241785585297, 4.423254704337569, 2.411450742049884, 2.8355591724665574, 1.558804489709674, 3.6732219477841266, 3.4316311790666987, 3.03315167441259, 2.995361327270493, 3.8601377220386026, 3.8681738739015095, 4.050199853524352, 3.2778952852329435, 3.600291901470926, 2.9871241333214615], \"y\": [0.6805898880727538, 0.8039022661085495, -0.31013859359932494, 0.02239852991407296, 0.26781735854283745, -0.11414695300252196, 0.6072901713396802, 0.20550959564761637, -0.08084815065207356, -0.019368666894963943, 1.7444088906297557, -0.15564759535963985, -0.9820443059633468, -0.24377233395255235, -0.8190902787245985, 1.0344973318785107, 0.23233077237971697, -0.15677041851809267, -0.49109357829549743, 1.0166115674381866, -0.19498951686067692, -0.5120990801814447, 0.2600286536546371, 0.4381412860588638, 0.5979071625600343, -0.29768064102754577, -0.019980310054539038, 0.4326587327677559, 0.7896895835572884, -0.23714241340427478, -2.0773686248685332, -0.3679736863687854, 0.42279998921288264, 0.8120981431295042, -0.5973274619015538, -2.6442949407166836, -0.969824773800961, -1.5727067695695336, 0.5977441551306417, 0.1331554089920269]}, {\"mode\": \"markers\", \"name\": \"1\", \"type\": \"scatter\", \"x\": [-0.588467708450443, -2.425075704185392, -2.009415193884924, -1.744169862303973, -0.8409543996120973, -2.275617154821654, -0.5031756243017333, -1.5249671970828702, -2.418349800960872, -1.518728289734464, -1.4637165642323358, -0.6691509585936343, -2.7599519190657973, -2.9989250397338165, -2.8336099227066693, -2.2209592485343475, -2.4211158259705643, -2.1156755282676367, -2.727099125304905, -2.6862147629295046, -0.037543567271809464, -1.659271984622597, -2.5936522037035905, -3.2653655426825328, -1.9350398765222576, -1.4640653463717377, -2.5923096487877575, -2.8596495934838204, -2.3073013499728554, -2.0903224196795875, -1.5753189977485704, -2.2605506269082016, -1.5948597438952317, -2.489906926622773, -2.9449068543738615, -2.130496048757374, -3.0957527428243963, -3.3093968321048495, -1.7279427507460992, -1.4876561196173512, -2.52235454817066, -2.6001170959695292], \"y\": [-2.0233867591993118, -0.23308883713685716, -2.8677311783669235, -0.45875611897643825, -1.5757799621584274, 0.10328799153443304, -0.008132532125952911, -2.0759263045566776, -1.7572175755054753, -0.9291078513979568, -1.680638418318223, 1.4036588573342608, -1.7454047533591421, -1.9579294368874125, -0.7514747102203199, -0.672576213746819, -1.0072660029786673, -2.9790798922315984, -2.6480509682835556, -1.9812367862299964, -0.9657295868515527, -3.3333311817890805, -1.767950658111273, -1.7952670841901253, -2.1873207328035265, -1.3747772093443789, -0.418548089865425, -0.5862049224626714, -0.5988073559395417, -0.12910608967455323, -0.9791152609386109, -1.3916758283418325, -0.36012549611466727, -1.277736768695488, -0.7162867622637535, -0.9505977727641176, -1.1883741048631573, -1.626531127772757, -0.9918646331045013, -2.4313065844317663, -0.29000716110382646, 2.0315891329699554]}, {\"mode\": \"markers\", \"name\": \"2\", \"type\": \"scatter\", \"x\": [-0.5204137140343036, -2.843528704065343, -1.9523750352562317, -2.3940604387863873, -2.1043744622458322, -1.1473995389720693, -3.246537134337062, -1.9524285389116351, -2.6570690516380093, -1.2548436622456525, -1.6949622519645284, -0.9597586065683711, -2.910313436436997, -1.8754044420531415, -1.1731941280396445, -2.0303511885516867, -1.912775259714973, -1.5184976231964673, -2.6445348754798217, -0.3261257510824772], \"y\": [4.499745491003538, 3.165287496883781, 2.5610001299207164, 3.5777857801903634, 3.1818519826232383, 2.8376595659738797, 3.5571910091071723, 2.918174057036131, 3.753983142225423, 3.4714529166534085, 2.7615994256229737, 2.23889433858673, 2.9729876195093334, 3.9461426367237324, 3.2464404465989904, 1.2886014359081899, 3.971508540371282, 3.829525170810342, 3.5196150472208076, 4.086200710833192]}, {\"mode\": \"markers\", \"name\": \"3\", \"type\": \"scatter\", \"x\": [1.6674208909592927, 0.010503140396949691, 4.120963512124205, 0.10350505526920574, 3.6354013199398976, -2.2958521681770425, 1.210756479411488, -0.3336104099919142, -2.2625455317280343, 3.524143895315713, 3.079365721807298, -0.8191894257537885, -1.2875509235103784, -0.22084004369299115, -1.360392922117264, -2.1220509650562493, 3.8151830544878553, -2.4507839409448358, -2.3684514034680997, -2.8142587719190524, -2.1230858532518897, -2.531984839271786, -3.044146903499509, 3.3263867177778472, -3.5223502210430486, -2.381138192074775, -2.0308478562626258, -1.0783126038540105], \"y\": [0.7162981045831687, -0.3575299506525828, -0.949158126612051, -0.20701605264119113, -0.27819774825799826, -1.2624299452839676, 0.48121802753354115, 0.6947487124496449, -2.0231515028744522, -1.1867887911271453, -1.1984613417575165, 1.2213576294858457, 0.38418845026425136, 0.5150955660262727, 1.4493596263154913, -0.8904018677643302, -0.38189846787409176, -1.0171228306075102, -1.0858406328230035, -0.3186101671401287, -0.9641319506962814, -1.7676299769157846, -1.832768268460767, 0.5103881274419099, -1.5972656070897269, -0.19499126956621302, -1.252076446550308, -1.6531879052387832]}, {\"marker\": {\"color\": \"rgba(135, 206, 250, 0)\", \"line\": {\"color\": \"red\", \"width\": 5}, \"opacity\": 1, \"size\": 25}, \"mode\": \"markers\", \"showlegend\": false, \"type\": \"scatter\", \"x\": [-2.843528704065343], \"y\": [3.165287496883781]}],\n",
       "                        {\"template\": {\"data\": {\"bar\": [{\"error_x\": {\"color\": \"#2a3f5f\"}, \"error_y\": {\"color\": \"#2a3f5f\"}, \"marker\": {\"line\": {\"color\": \"#E5ECF6\", \"width\": 0.5}}, \"type\": \"bar\"}], \"barpolar\": [{\"marker\": {\"line\": {\"color\": \"#E5ECF6\", \"width\": 0.5}}, \"type\": \"barpolar\"}], \"carpet\": [{\"aaxis\": {\"endlinecolor\": \"#2a3f5f\", \"gridcolor\": \"white\", \"linecolor\": \"white\", \"minorgridcolor\": \"white\", \"startlinecolor\": \"#2a3f5f\"}, \"baxis\": {\"endlinecolor\": \"#2a3f5f\", \"gridcolor\": \"white\", \"linecolor\": \"white\", \"minorgridcolor\": \"white\", \"startlinecolor\": \"#2a3f5f\"}, \"type\": \"carpet\"}], \"choropleth\": [{\"colorbar\": {\"outlinewidth\": 0, \"ticks\": \"\"}, \"type\": \"choropleth\"}], \"contour\": [{\"colorbar\": {\"outlinewidth\": 0, \"ticks\": \"\"}, \"colorscale\": [[0.0, \"#0d0887\"], [0.1111111111111111, \"#46039f\"], [0.2222222222222222, \"#7201a8\"], [0.3333333333333333, \"#9c179e\"], [0.4444444444444444, \"#bd3786\"], [0.5555555555555556, \"#d8576b\"], [0.6666666666666666, \"#ed7953\"], [0.7777777777777778, \"#fb9f3a\"], [0.8888888888888888, \"#fdca26\"], [1.0, \"#f0f921\"]], \"type\": \"contour\"}], \"contourcarpet\": [{\"colorbar\": {\"outlinewidth\": 0, \"ticks\": \"\"}, \"type\": \"contourcarpet\"}], \"heatmap\": [{\"colorbar\": {\"outlinewidth\": 0, \"ticks\": \"\"}, \"colorscale\": [[0.0, \"#0d0887\"], [0.1111111111111111, \"#46039f\"], [0.2222222222222222, \"#7201a8\"], [0.3333333333333333, \"#9c179e\"], [0.4444444444444444, \"#bd3786\"], [0.5555555555555556, \"#d8576b\"], [0.6666666666666666, \"#ed7953\"], [0.7777777777777778, \"#fb9f3a\"], [0.8888888888888888, \"#fdca26\"], [1.0, \"#f0f921\"]], \"type\": \"heatmap\"}], \"heatmapgl\": [{\"colorbar\": {\"outlinewidth\": 0, \"ticks\": \"\"}, \"colorscale\": [[0.0, \"#0d0887\"], [0.1111111111111111, \"#46039f\"], [0.2222222222222222, \"#7201a8\"], [0.3333333333333333, \"#9c179e\"], [0.4444444444444444, \"#bd3786\"], [0.5555555555555556, \"#d8576b\"], [0.6666666666666666, \"#ed7953\"], [0.7777777777777778, \"#fb9f3a\"], [0.8888888888888888, \"#fdca26\"], [1.0, \"#f0f921\"]], \"type\": \"heatmapgl\"}], \"histogram\": [{\"marker\": {\"colorbar\": {\"outlinewidth\": 0, \"ticks\": \"\"}}, \"type\": \"histogram\"}], \"histogram2d\": [{\"colorbar\": {\"outlinewidth\": 0, \"ticks\": \"\"}, \"colorscale\": [[0.0, \"#0d0887\"], [0.1111111111111111, \"#46039f\"], [0.2222222222222222, \"#7201a8\"], [0.3333333333333333, \"#9c179e\"], [0.4444444444444444, \"#bd3786\"], [0.5555555555555556, \"#d8576b\"], [0.6666666666666666, \"#ed7953\"], [0.7777777777777778, \"#fb9f3a\"], [0.8888888888888888, \"#fdca26\"], [1.0, \"#f0f921\"]], \"type\": \"histogram2d\"}], \"histogram2dcontour\": [{\"colorbar\": {\"outlinewidth\": 0, \"ticks\": \"\"}, \"colorscale\": [[0.0, \"#0d0887\"], [0.1111111111111111, \"#46039f\"], [0.2222222222222222, \"#7201a8\"], [0.3333333333333333, \"#9c179e\"], [0.4444444444444444, \"#bd3786\"], [0.5555555555555556, \"#d8576b\"], [0.6666666666666666, \"#ed7953\"], [0.7777777777777778, \"#fb9f3a\"], [0.8888888888888888, \"#fdca26\"], [1.0, \"#f0f921\"]], \"type\": \"histogram2dcontour\"}], \"mesh3d\": [{\"colorbar\": {\"outlinewidth\": 0, \"ticks\": \"\"}, \"type\": \"mesh3d\"}], \"parcoords\": [{\"line\": {\"colorbar\": {\"outlinewidth\": 0, \"ticks\": \"\"}}, \"type\": \"parcoords\"}], \"pie\": [{\"automargin\": true, \"type\": \"pie\"}], \"scatter\": [{\"marker\": {\"colorbar\": {\"outlinewidth\": 0, \"ticks\": \"\"}}, \"type\": \"scatter\"}], \"scatter3d\": [{\"line\": {\"colorbar\": {\"outlinewidth\": 0, \"ticks\": \"\"}}, \"marker\": {\"colorbar\": {\"outlinewidth\": 0, \"ticks\": \"\"}}, \"type\": \"scatter3d\"}], \"scattercarpet\": [{\"marker\": {\"colorbar\": {\"outlinewidth\": 0, \"ticks\": \"\"}}, \"type\": \"scattercarpet\"}], \"scattergeo\": [{\"marker\": {\"colorbar\": {\"outlinewidth\": 0, \"ticks\": \"\"}}, \"type\": \"scattergeo\"}], \"scattergl\": [{\"marker\": {\"colorbar\": {\"outlinewidth\": 0, \"ticks\": \"\"}}, \"type\": \"scattergl\"}], \"scattermapbox\": [{\"marker\": {\"colorbar\": {\"outlinewidth\": 0, \"ticks\": \"\"}}, \"type\": \"scattermapbox\"}], \"scatterpolar\": [{\"marker\": {\"colorbar\": {\"outlinewidth\": 0, \"ticks\": \"\"}}, \"type\": \"scatterpolar\"}], \"scatterpolargl\": [{\"marker\": {\"colorbar\": {\"outlinewidth\": 0, \"ticks\": \"\"}}, \"type\": \"scatterpolargl\"}], \"scatterternary\": [{\"marker\": {\"colorbar\": {\"outlinewidth\": 0, \"ticks\": \"\"}}, \"type\": \"scatterternary\"}], \"surface\": [{\"colorbar\": {\"outlinewidth\": 0, \"ticks\": \"\"}, \"colorscale\": [[0.0, \"#0d0887\"], [0.1111111111111111, \"#46039f\"], [0.2222222222222222, \"#7201a8\"], [0.3333333333333333, \"#9c179e\"], [0.4444444444444444, \"#bd3786\"], [0.5555555555555556, \"#d8576b\"], [0.6666666666666666, \"#ed7953\"], [0.7777777777777778, \"#fb9f3a\"], [0.8888888888888888, \"#fdca26\"], [1.0, \"#f0f921\"]], \"type\": \"surface\"}], \"table\": [{\"cells\": {\"fill\": {\"color\": \"#EBF0F8\"}, \"line\": {\"color\": \"white\"}}, \"header\": {\"fill\": {\"color\": \"#C8D4E3\"}, \"line\": {\"color\": \"white\"}}, \"type\": \"table\"}]}, \"layout\": {\"annotationdefaults\": {\"arrowcolor\": \"#2a3f5f\", \"arrowhead\": 0, \"arrowwidth\": 1}, \"coloraxis\": {\"colorbar\": {\"outlinewidth\": 0, \"ticks\": \"\"}}, \"colorscale\": {\"diverging\": [[0, \"#8e0152\"], [0.1, \"#c51b7d\"], [0.2, \"#de77ae\"], [0.3, \"#f1b6da\"], [0.4, \"#fde0ef\"], [0.5, \"#f7f7f7\"], [0.6, \"#e6f5d0\"], [0.7, \"#b8e186\"], [0.8, \"#7fbc41\"], [0.9, \"#4d9221\"], [1, \"#276419\"]], \"sequential\": [[0.0, \"#0d0887\"], [0.1111111111111111, \"#46039f\"], [0.2222222222222222, \"#7201a8\"], [0.3333333333333333, \"#9c179e\"], [0.4444444444444444, \"#bd3786\"], [0.5555555555555556, \"#d8576b\"], [0.6666666666666666, \"#ed7953\"], [0.7777777777777778, \"#fb9f3a\"], [0.8888888888888888, \"#fdca26\"], [1.0, \"#f0f921\"]], \"sequentialminus\": [[0.0, \"#0d0887\"], [0.1111111111111111, \"#46039f\"], [0.2222222222222222, \"#7201a8\"], [0.3333333333333333, \"#9c179e\"], [0.4444444444444444, \"#bd3786\"], [0.5555555555555556, \"#d8576b\"], [0.6666666666666666, \"#ed7953\"], [0.7777777777777778, \"#fb9f3a\"], [0.8888888888888888, \"#fdca26\"], [1.0, \"#f0f921\"]]}, \"colorway\": [\"#636efa\", \"#EF553B\", \"#00cc96\", \"#ab63fa\", \"#FFA15A\", \"#19d3f3\", \"#FF6692\", \"#B6E880\", \"#FF97FF\", \"#FECB52\"], \"font\": {\"color\": \"#2a3f5f\"}, \"geo\": {\"bgcolor\": \"white\", \"lakecolor\": \"white\", \"landcolor\": \"#E5ECF6\", \"showlakes\": true, \"showland\": true, \"subunitcolor\": \"white\"}, \"hoverlabel\": {\"align\": \"left\"}, \"hovermode\": \"closest\", \"mapbox\": {\"style\": \"light\"}, \"paper_bgcolor\": \"white\", \"plot_bgcolor\": \"#E5ECF6\", \"polar\": {\"angularaxis\": {\"gridcolor\": \"white\", \"linecolor\": \"white\", \"ticks\": \"\"}, \"bgcolor\": \"#E5ECF6\", \"radialaxis\": {\"gridcolor\": \"white\", \"linecolor\": \"white\", \"ticks\": \"\"}}, \"scene\": {\"xaxis\": {\"backgroundcolor\": \"#E5ECF6\", \"gridcolor\": \"white\", \"gridwidth\": 2, \"linecolor\": \"white\", \"showbackground\": true, \"ticks\": \"\", \"zerolinecolor\": \"white\"}, \"yaxis\": {\"backgroundcolor\": \"#E5ECF6\", \"gridcolor\": \"white\", \"gridwidth\": 2, \"linecolor\": \"white\", \"showbackground\": true, \"ticks\": \"\", \"zerolinecolor\": \"white\"}, \"zaxis\": {\"backgroundcolor\": \"#E5ECF6\", \"gridcolor\": \"white\", \"gridwidth\": 2, \"linecolor\": \"white\", \"showbackground\": true, \"ticks\": \"\", \"zerolinecolor\": \"white\"}}, \"shapedefaults\": {\"line\": {\"color\": \"#2a3f5f\"}}, \"ternary\": {\"aaxis\": {\"gridcolor\": \"white\", \"linecolor\": \"white\", \"ticks\": \"\"}, \"baxis\": {\"gridcolor\": \"white\", \"linecolor\": \"white\", \"ticks\": \"\"}, \"bgcolor\": \"#E5ECF6\", \"caxis\": {\"gridcolor\": \"white\", \"linecolor\": \"white\", \"ticks\": \"\"}}, \"title\": {\"x\": 0.05}, \"xaxis\": {\"automargin\": true, \"gridcolor\": \"white\", \"linecolor\": \"white\", \"ticks\": \"\", \"title\": {\"standoff\": 15}, \"zerolinecolor\": \"white\", \"zerolinewidth\": 2}, \"yaxis\": {\"automargin\": true, \"gridcolor\": \"white\", \"linecolor\": \"white\", \"ticks\": \"\", \"title\": {\"standoff\": 15}, \"zerolinecolor\": \"white\", \"zerolinewidth\": 2}}}},\n",
       "                        {\"responsive\": true}\n",
       "                    ).then(function(){\n",
       "                            \n",
       "var gd = document.getElementById('2e87edc4-6977-45af-b25f-911ec4890d36');\n",
       "var x = new MutationObserver(function (mutations, observer) {{\n",
       "        var display = window.getComputedStyle(gd).display;\n",
       "        if (!display || display === 'none') {{\n",
       "            console.log([gd, 'removed!']);\n",
       "            Plotly.purge(gd);\n",
       "            observer.disconnect();\n",
       "        }}\n",
       "}});\n",
       "\n",
       "// Listen for the removal of the full notebook cells\n",
       "var notebookContainer = gd.closest('#notebook-container');\n",
       "if (notebookContainer) {{\n",
       "    x.observe(notebookContainer, {childList: true});\n",
       "}}\n",
       "\n",
       "// Listen for the clearing of the current output cell\n",
       "var outputEl = gd.closest('.output');\n",
       "if (outputEl) {{\n",
       "    x.observe(outputEl, {childList: true});\n",
       "}}\n",
       "\n",
       "                        })\n",
       "                };\n",
       "                });\n",
       "            </script>\n",
       "        </div>"
      ]
     },
     "metadata": {},
     "output_type": "display_data"
    }
   ],
   "source": [
    "local_l= genotype[:,(nan_pos-int(wind_sizes/2)):(nan_pos+int(wind_sizes/2))]\n",
    "coords= {z:[x for x in range(len(label_vector)) if label_vector[x] == z] for z in list(set(label_vector))}\n",
    "\n",
    "pca2 = PCA(n_components=ncomps, whiten=False,svd_solver='randomized')\n",
    "featl= pca2.fit_transform(local_l)\n",
    "\n",
    "figwl= [go.Scatter(\n",
    "    x= featl[coords[i],0],\n",
    "    y= featl[coords[i],1],\n",
    "    mode= 'markers',\n",
    "    name= str(i)\n",
    ") for i in coords.keys()]\n",
    "\n",
    "figwl.append(go.Scatter(\n",
    "    mode='markers',\n",
    "    x=[featl[nan_acc,0]],\n",
    "    y=[featl[nan_acc,1]],\n",
    "    marker=dict(\n",
    "        color='rgba(135, 206, 250, 0)',\n",
    "        size=25,\n",
    "        opacity= 1,\n",
    "        line=dict(\n",
    "            color='red',\n",
    "            width=5\n",
    "        )\n",
    "    ),\n",
    "    showlegend=False\n",
    "))\n",
    "\n",
    "layout= go.Layout()\n",
    "\n",
    "Figure_wl= go.Figure(data= figwl, layout= layout)\n",
    "\n",
    "iplot(Figure_wl)"
   ]
  },
  {
   "cell_type": "markdown",
   "metadata": {},
   "source": [
    "\n",
    "### Distance profile - reference set.\n",
    "\n",
    "Decide which obervations to use the distance to, and where, to predict `nanObs` coordinates. \n",
    "\n",
    "**context**: different windows might span different patterns of admixture / structure. In the case the sample carrying the missing call is admixed, distance profiles may differ considerably. there are two main concerns here:\n",
    "- other admixed: we would like to reduce or remove the weight of the distances to these.\n",
    "- admixture border: `nanObs` is itself admixed, resulting in significantly different distance profiles. \n",
    "\n",
    "Observation specific distances across are measured across trainning windows. \n",
    "\n",
    "The approach below proposes to tackle both concerns raised above:\n",
    "\n",
    "    i. Variance in distance is calculated at the individual level. We seek the least variable reference points.\n",
    "    Variance clusters are identified using mean shift.\n",
    "    ii. Different distance profile groups identified using MeanShift. allows single cluster and excludes outliers.\n",
    "\n",
    "The group of accessions with the smallest average std is selected as focus obs.\n",
    "\n",
    "Reference distance profiles are selected as the largest cluster of profiles.  \n",
    "\n",
    "#### A. Distance profiles. \n",
    "\n",
    "\n",
    "Distance profiles consist of the ordered vectors of distances `nanObs` / `every other obs` of length N-1.\n",
    "\n",
    "Dimensionality reduction is applied and distances calculated in the resulting feature space. \n",
    "\n",
    "Here using `PCA` and `euclidean disances`.\n",
    "\n"
   ]
  },
  {
   "cell_type": "code",
   "execution_count": 21,
   "metadata": {},
   "outputs": [
    {
     "data": {
      "application/vnd.plotly.v1+json": {
       "config": {
        "linkText": "Export to plot.ly",
        "plotlyServerURL": "https://plot.ly",
        "showLink": false
       },
       "data": [
        {
         "mode": "markers",
         "name": "-1",
         "type": "scatter",
         "x": [
          -7.9250887414628295,
          16.803071142483546,
          -11.779623338940906,
          2.0628848881523116,
          -8.434245817915828,
          -10.960094881945924,
          -7.839054063993244,
          12.368915250148298,
          8.26238969573283,
          -12.208170659379913,
          7.437465384799982,
          -9.847109658319555,
          -8.893812989640145,
          9.350417141336113,
          -5.522690251266438,
          -7.270899102493785,
          -7.519549312770241,
          -9.746582497361834,
          11.704802419246324,
          -12.849704762712879,
          -11.148840445058807,
          13.89601004163151,
          14.558300770723132,
          11.519650262633084,
          -14.543423026657711,
          8.139886571842322,
          -13.200555561434841,
          -10.645970218771518,
          -16.10062303138845,
          -5.612173425408876,
          -5.915945180411283,
          -17.30548678880988,
          -8.318149354440251,
          -5.531977418617333,
          -8.18773670631854,
          -11.074317703518082,
          9.415457071471653,
          5.011336182870881,
          -12.136217196873481,
          8.72424639358582,
          10.954075522597847,
          8.13414775214316,
          -13.377717728813128,
          -4.4057241110842345,
          7.063599819649994,
          5.733902374933393,
          8.526280572915828,
          9.08121790123791,
          -9.035647604690025,
          -6.249350871972919,
          -11.851138546377951,
          16.609751239445774,
          16.85734535804375,
          8.879516768314627,
          -13.942386582099523,
          -5.900971156281746,
          -9.041110458544624,
          10.917206634089844,
          14.051186809079844,
          -8.030073253364915,
          10.866315278771483,
          -6.1891457409965,
          -11.947917130887644,
          8.474637576521873,
          -11.786481069947031,
          12.858373827326655,
          13.793539725972012,
          -7.3783435018177945,
          -8.085201126907615,
          -7.535441618075511,
          9.697857160633658,
          10.767199198716964,
          -11.269928090846083,
          8.367951632572305,
          -11.344250047647844,
          -8.119646349757776,
          -13.000839764564741,
          13.129745895518443,
          10.146505953408541,
          -13.681831500652567,
          12.243792274761525,
          -6.795950333411938,
          13.106169180993016,
          -14.037575486742206,
          17.07286088564642,
          13.98863429053244,
          7.621284416985688,
          -8.259626112950144,
          9.486122933230842,
          13.09954437934999,
          -4.449207491909682,
          -14.258365350681533,
          -7.91585107792065,
          9.0782850679388,
          12.167579879834614,
          8.49697584495173,
          16.378298253700805,
          12.051650829966535,
          -20.296994521195654,
          9.072853324569111,
          -11.344475044587602,
          12.399384180957615,
          -14.872571061598402,
          -1.8826814554786633,
          -7.518671892575184,
          -8.95695693910869,
          20.928745668294578,
          -21.400538744717334,
          14.151257964891766,
          -9.626708215033453,
          7.794389783195642,
          -7.836722310485006,
          -10.684882211187704,
          -2.029580986276429,
          -14.458756967965135,
          -5.331905388404242,
          10.951425525796175,
          12.345381902521385,
          10.340062708549485,
          1.5746863977457437,
          -10.437495544876521,
          -9.659618122467652,
          11.524985672707095,
          -11.198387398005684,
          -7.400006831847429,
          1.4501914282344166,
          -11.010133096465125,
          -15.823407213949473,
          8.09408287374362,
          -6.632738987124728,
          -8.420091492080925,
          15.094259223586208,
          -14.137636088835379,
          -12.57388016205248,
          8.893407010955036,
          -12.109548702036271,
          9.613600354839194,
          -15.542450490725336,
          7.09499008027918,
          -9.02855190237589,
          6.824663298419783,
          -13.002140767103212,
          -6.864279892995663,
          9.33067043437937,
          20.28022390363427,
          11.39153192375568,
          9.858124128919261,
          -10.138111073601408,
          9.263419152320289,
          -16.307271396369444,
          13.324526493863697,
          -16.52690551796449,
          -2.25222096506407,
          -10.368757355554788,
          10.581694863056256,
          15.724133938330539,
          -10.138491234604263,
          23.713868021113118,
          1.9153339730210706,
          10.062000566311482,
          9.273997826459679,
          9.70339641524349,
          -9.790784042205972,
          6.6480352253000135,
          12.212018792007413,
          12.863973566824344,
          -4.425888076367992,
          11.385713431844362,
          -10.95259338851177,
          -12.739001067664853,
          -8.788705432884953,
          -15.070656831743356,
          -5.783622550093939
         ],
         "y": [
          -1.594062018348478,
          3.4324439143049927,
          -6.081364493487691,
          9.41680563699959,
          12.60975639486159,
          5.4634305204570035,
          -5.1270604624488225,
          4.381973904470534,
          -2.981424830122437,
          5.84571723926963,
          -2.2253172479823573,
          4.288441554831328,
          -4.189978843172137,
          0.14568173117600555,
          8.385018466618751,
          -5.6095973709749885,
          -4.915094009960916,
          -3.139936186175869,
          -2.0979819588395765,
          -0.16444415821566463,
          -5.719232603160657,
          1.164354073301592,
          -0.9894007626160428,
          -4.142665285712297,
          -1.8169235233396186,
          4.896592163940696,
          4.748244875078076,
          6.217902785263387,
          6.957926850301684,
          -7.323697389018444,
          -6.981518184634746,
          12.590568358486264,
          -5.4791462879799315,
          -8.959878398981337,
          -7.41464189714339,
          -1.3232302605832051,
          -6.710292503760088,
          -7.369871499380066,
          0.5430018111287263,
          -2.4624489373834813,
          4.089845263534224,
          -2.218723857112369,
          2.141799513086757,
          -11.139642184048501,
          7.91864891523896,
          -7.750261072996891,
          1.9541545294195637,
          -1.0558440676587226,
          -0.9707121242860289,
          -10.273942817837275,
          -3.896740706213476,
          4.274626608487209,
          0.5530896164988158,
          4.395866596039547,
          -6.259098581573805,
          10.538279977839139,
          -3.660882491681027,
          -7.129670955161394,
          -2.361932399830675,
          -2.3440073583908916,
          0.5426975928810288,
          -7.721308563158079,
          8.779557397889663,
          1.0777098051976717,
          0.8497846781561094,
          -2.404834290457509,
          3.687215800970243,
          0.0006753597077802484,
          3.0269435874497295,
          4.201222959222822,
          3.925475666109854,
          3.5512810790780796,
          4.706497747544459,
          -7.802354002226167,
          2.6693227871999126,
          -5.804202177326482,
          -4.036426048136675,
          -0.25657010054553797,
          -0.4424399211097039,
          -0.7582994596045923,
          0.46694777002373394,
          -5.965875555111832,
          -4.086157000577021,
          2.9439865213468104,
          1.4972392448900498,
          0.7027643879290585,
          -2.2941745471333976,
          -2.886139488072353,
          4.254520985106926,
          2.969203615311814,
          -6.061967054540991,
          0.5105418668617842,
          -7.623464014251557,
          0.44295978735673175,
          -2.1222511618819224,
          -1.9841979262911629,
          -1.3342709959479508,
          5.02754529314585,
          8.03388511371492,
          3.5261499538645076,
          2.669286617699947,
          3.1836155517312736,
          -2.4461338188519046,
          10.010633315305085,
          3.6665250647773777,
          -0.09960010587266406,
          -2.7786233335670465,
          1.251686145406977,
          2.1761452364311036,
          2.672927432236581,
          -5.561467065496997,
          -3.7953566836497195,
          7.843137935016343,
          -10.308168131584702,
          9.438911203011937,
          6.757205086200849,
          4.0903130221849855,
          -0.9837650591031937,
          -0.7490741204898621,
          7.770464577000495,
          -7.505559276772224,
          1.6746288877666615,
          3.9027025496566394,
          13.53690751044604,
          -6.432633976186106,
          -7.767602952868643,
          13.70451746480614,
          -6.246500633285412,
          -5.62353110057441,
          5.319297103214311,
          0.7568662326404175,
          -2.7355443489968176,
          -11.124868241302106,
          0.4911606487032103,
          2.0970246848667378,
          -3.241693575506129,
          3.8950187615514436,
          1.7161781230390367,
          -3.3489614415367037,
          1.6413695755322422,
          -1.1229875658330541,
          -4.036433580141397,
          -5.861962187362183,
          3.7416304202316826,
          -0.5744449562179273,
          3.617339423095176,
          3.4091105871154572,
          3.0918568335742966,
          -5.178730273660667,
          -2.550911541574034,
          -3.1526161289855708,
          3.6788489209918396,
          -9.165614023365004,
          -1.871810874724258,
          4.0836505376095795,
          2.4598823405066943,
          -0.07070810455678483,
          -0.9575787509213518,
          -13.32082139840392,
          2.8571945705389616,
          -0.13854125672475567,
          2.060735458174515,
          -7.32917306682803,
          -3.1414876780109644,
          4.030734784424559,
          1.5919946331743031,
          -7.532102104532206,
          2.7418808279113542,
          4.848736640285195,
          4.7941386305625535,
          6.787882868734496,
          4.9015114446815655,
          -4.317948125576515
         ]
        },
        {
         "mode": "markers",
         "name": "0",
         "type": "scatter",
         "x": [
          -1.3667627029998337,
          -0.027029498318830364,
          -5.915671129304314,
          -0.9669544551354562,
          -5.019144384847841,
          7.133213957630442,
          -4.116930374605897,
          -0.2920316854474607,
          2.763516998267277,
          4.033167534777327,
          2.025364301660973,
          -0.17911668097364553,
          6.66311785616089,
          -1.6523366653862033,
          5.705566331120899,
          -7.289317222092961,
          -0.21711090115823917,
          0.47810639537642563,
          -6.053878407158204,
          4.205338732552672,
          2.3744389928592025,
          -5.758612607315296,
          -3.632568713412748,
          -3.1815362521387627,
          5.772977980452922,
          -4.757923500763461,
          -6.440674400385155,
          -3.562848445066439,
          -0.838138423652719,
          3.9358209775502737,
          3.647787361172701,
          -1.4458895394893119,
          3.7603934018273777,
          3.8645646770469724,
          4.528983591940026,
          -3.1448256503811414,
          -3.6976828965396566,
          0.8290179333228753,
          4.186770219535824,
          -3.1482375199513117,
          -1.5686844133854336,
          1.189708186758314,
          0.5483570471880175,
          -3.163813542940477,
          6.856036287281622,
          2.51052008626663,
          8.06030658689512,
          -7.714266691474468,
          -1.4986433638117183,
          2.449723697315005,
          1.9959806050465219,
          1.1016660150601665,
          -0.8618097520298317,
          0.6555439129759602,
          4.617601491362506,
          -6.191119146896829,
          5.61167695513042,
          -1.3717492163697058,
          -2.2857668688734822,
          -4.830172475540962,
          1.6464198417274574,
          1.058958091393494,
          5.805914497257998,
          -3.548011011245376,
          3.0690995651986306,
          3.2586640116042895,
          -3.3490726390275105,
          -2.6103049435920793,
          -4.518140170875571,
          2.3862592417744084,
          -0.37116982585454916,
          1.2257736147870701,
          2.501218732859334,
          3.606867061473484,
          -6.683570381185741,
          -2.6146894733143613,
          7.68958754521676,
          -1.6533670403487974,
          1.576823426078382,
          -4.606441785351998,
          -1.5836228028271668,
          0.19515387421706948,
          0.1759975213045516,
          5.463833336606785,
          -0.7809101598077862,
          -6.03553091573151,
          3.535704396813712,
          2.972270441413163,
          7.135587289677287,
          2.168792690566067,
          -4.74332346740712,
          -1.8533549115125727,
          -4.550462734351579,
          -4.168419243827172,
          -5.659544770237512,
          4.055721556584929,
          7.140031069104664,
          1.8556102831250616,
          -2.698501983896528,
          -4.263842590384789,
          -2.381964394575215,
          -1.8957347472546555,
          3.6671085444709566,
          6.98338952372114,
          -5.318902757726136,
          4.288054585445767,
          7.925223299864743,
          -4.349452216764094,
          -4.475584419519372,
          4.5990019423919,
          0.3981293992525723,
          0.15045141864419645,
          -1.7239628453042204,
          5.576788277123419,
          3.947722399463888,
          7.169423850244472,
          -2.6046363415522746,
          -6.513342311450806,
          1.0910926121825713,
          -5.128158174677819,
          -4.816228004837672,
          5.190354195956106,
          -1.56783434524643,
          -1.6091186059947746,
          -2.5031505738051387,
          1.5276375137910332,
          -7.353670810874068,
          -3.6227872292398318,
          1.1549440178653794,
          4.435800992548887,
          0.31938835878709554,
          0.5091078239079496,
          2.8334559129714294,
          -0.9282584033760513,
          -6.8811952065951765,
          -1.1356390280684578,
          2.4026973681956894,
          -2.1387477177206344,
          -4.595527038369893,
          -2.8328163251347105,
          2.4116336817600192,
          6.956087156512677,
          -6.92534611508373,
          3.792129872421246,
          1.9377055858366012,
          -0.5341336963463734,
          -2.695763009602313,
          4.103158262714194,
          -4.184548412582602,
          -0.8666964874632571,
          3.415316830454537,
          2.4945278085502927,
          -2.9369368535023535,
          6.496024972228655,
          -4.418904954484395,
          -7.330008704073192,
          -1.8976187987874864,
          -7.978556927188524,
          -7.370638506475282,
          5.063295350194089,
          -1.9304072594370578,
          4.876125038399667,
          5.359358719628844,
          -2.3367657078472974,
          4.1135085325829674,
          -7.707900739733543,
          2.4924748752252417,
          -8.016743987296522,
          -5.362742157784572,
          -2.1307037814406717,
          2.4640361047598502,
          4.858656106565143,
          -2.8111203213133216,
          3.9874288883864377,
          -1.5380566154892732,
          3.5121610240224275,
          5.2688957306986035,
          4.358542353837522,
          1.0648697958606228,
          3.0166150038996147,
          0.8792686104366033,
          2.4407880796612593,
          3.2743247585789397,
          -7.368533690118802,
          4.755176049814238,
          3.878669761556411,
          4.202146482974472,
          -3.3327376607231827,
          4.382853268242205,
          -6.685897785544663,
          4.622157568018324,
          4.346335472919177,
          4.4243325295998135,
          -2.211921157333846,
          4.291593148529951,
          1.5713105493929667,
          0.009222652231997738,
          5.001295951947691,
          2.2710804902996182,
          1.2323046377863616,
          5.161516437796254,
          4.690916997100833,
          7.08119133993297,
          -1.7540328207606841,
          5.041026124846002,
          -5.332663317903626,
          -5.347779746479289,
          3.757422634048103,
          -3.537157814378492,
          4.248093336144314,
          -0.15344763127056318,
          -4.129995467940384,
          0.2517529699413628,
          6.161438542096483,
          4.315688559928879,
          -5.809072452391009,
          2.3270167752218196,
          2.9240540478742267,
          7.202783321957085,
          3.611986753904156,
          6.970448865395911,
          -5.067909654062594,
          4.717688974766123,
          -0.09752789630957691,
          1.5172963980613892,
          4.890694096826735,
          7.101920982273058
         ],
         "y": [
          5.325660371974073,
          0.43482657430732424,
          1.1889788728199684,
          -3.4411795428236878,
          -0.36902117573643606,
          -3.668237366133166,
          2.1725023976824804,
          3.4459569000522365,
          1.0369401512537018,
          2.470923057681607,
          -3.719261597324452,
          -1.5038815186960715,
          -3.9798810856754843,
          7.112354290516043,
          -1.7607105665260607,
          -1.5362048601924634,
          2.0391967869165,
          2.6894994562838668,
          -1.9329812765210983,
          -0.7954495726272862,
          -2.321145780376606,
          5.382266309667414,
          -5.776382007220413,
          -2.768640686942871,
          -3.6747100581105494,
          -3.786196995115981,
          -0.6132747851123614,
          4.413561029925021,
          -4.523072200159836,
          3.562816778334329,
          3.697473498907583,
          -1.5584167700652551,
          -2.5064093845862407,
          1.8741736826934363,
          1.788417249548903,
          -2.584901858384067,
          0.47104597784889396,
          6.000966355439651,
          5.796405884531071,
          3.5560275493310587,
          0.8804314061657662,
          -4.63093752930304,
          5.384661561175745,
          4.159727247991578,
          -0.35163886497446145,
          -7.257565321176603,
          -0.016064627257715097,
          -0.5532045817494303,
          -0.9671541529209874,
          -0.2661726297506518,
          1.5233207580678665,
          -0.9082406661052065,
          0.8419940190001435,
          -2.6693270509654523,
          3.6260164995443116,
          -4.049221642504788,
          -1.4768309684079861,
          4.729231400774507,
          -5.2973515592798455,
          1.348588912223315,
          1.7977192202230976,
          0.462741650360343,
          -0.10302457313445504,
          -5.520411298508414,
          3.4063640597452296,
          5.96618566284681,
          -1.4678577679089377,
          -1.5328869576703834,
          -4.48355525607682,
          -6.246097073515931,
          0.4231367377501993,
          2.40277234821352,
          -4.27473753865962,
          -2.489890979452129,
          0.8047530406553343,
          -1.4500622467423707,
          1.0965579471158784,
          -5.995601638212519,
          3.2301410001532713,
          -2.267910977824014,
          1.3737071768671192,
          -4.158039276035812,
          6.504572593538748,
          1.1220511430165405,
          7.728578086825535,
          0.6941366528523439,
          1.1514649185104702,
          -6.220863601562303,
          0.09373815539847438,
          -1.1192526245628653,
          0.188994985293563,
          0.4903252582534325,
          -0.36314397404170295,
          -0.19517651146731876,
          -1.2699069018247362,
          3.0528826203739734,
          5.003335306322013,
          0.1903731200319043,
          -1.9085114931716285,
          0.3137701117685212,
          -1.1887806138107335,
          3.207233446425697,
          -0.8307083168353673,
          -3.390850975403035,
          1.5392508585317843,
          -2.412274330397128,
          -1.2835929205180312,
          0.2222592479015378,
          5.43564471015063,
          5.743203881329527,
          -1.0712189218954433,
          -2.0889967430506156,
          5.433162158688626,
          0.5636829223291797,
          1.4003212135347056,
          -0.625867962318967,
          1.6566236157572984,
          -2.2520686893288993,
          4.958650124751221,
          -3.7816219451619606,
          -1.6765098412850767,
          -2.198676721275228,
          -0.5571985678733783,
          -3.277895682412418,
          0.9594095290518234,
          3.469414069340211,
          0.8286024054190368,
          3.4266146255218803,
          3.9380230579739854,
          2.499859801090911,
          0.03364763896149721,
          -6.610884898812817,
          1.727279191126962,
          -3.1531436153388355,
          -0.8360845449722788,
          3.084365202772888,
          1.9425192711122738,
          -2.654065324092607,
          -3.1112928244864886,
          2.4095830229753465,
          2.8035686029765103,
          1.410285156497806,
          -1.6122535875568362,
          3.1773070697126746,
          3.7857313889720143,
          0.9168111949885503,
          -3.5276844517387826,
          -0.6622079739858291,
          -1.839948711928658,
          -1.7476444496356953,
          3.3687063861494853,
          4.31800640058652,
          -6.920224864348739,
          -2.3814863859346613,
          5.417427051648851,
          1.200974738581314,
          -1.5310028497709902,
          0.07966951198283388,
          0.8221722968809883,
          4.1742191849584795,
          0.9290164530208193,
          1.1128632493589163,
          1.553378917489583,
          -3.4681053612372588,
          2.559232183899992,
          -1.0153837919509159,
          0.571566858770084,
          -0.1317011621413864,
          -0.2792802302555198,
          -2.0806828774257466,
          -2.907979692400145,
          4.413743238155786,
          -0.21661817110725262,
          2.9677146578496196,
          -5.860588298569746,
          -0.4068549782632302,
          3.269763915630411,
          6.092465822693754,
          -2.5213349669443352,
          -1.6715212475715673,
          1.9761860844408645,
          -2.839630582332468,
          3.1860950988796426,
          0.8215723416744465,
          -5.039817529148475,
          -3.4135925180900224,
          -2.059738710298594,
          -3.410056664044699,
          -4.831453700119372,
          2.62134420221939,
          -4.162612874938409,
          -2.7304431275620735,
          -4.552261878735593,
          1.6349230611367052,
          -0.43895689182759245,
          -4.188059535219066,
          7.481623341692936,
          -2.376118381505367,
          1.4291735033900834,
          2.8705432208648873,
          -4.545598875801448,
          4.3422373670204015,
          -2.2711280532711124,
          0.10383704825713093,
          1.2580767595949163,
          -0.036003060720338015,
          0.6002128260868579,
          -0.4668980186337098,
          1.740183765280505,
          -1.143413134310202,
          -5.036936397136778,
          -2.529653780553269,
          -1.4284764600612203,
          3.00566335604848,
          1.0508762983866056,
          -2.4479036006514105,
          0.3724332361122796,
          7.441203595256578,
          0.2313459906697491,
          -3.2098561939926604,
          -3.379966907715617,
          4.404747703509295,
          3.9106424232253483,
          -4.678559690015339,
          5.910478013226244,
          -1.5624130046547489,
          3.85134971439225
         ]
        }
       ],
       "layout": {
        "template": {
         "data": {
          "bar": [
           {
            "error_x": {
             "color": "#2a3f5f"
            },
            "error_y": {
             "color": "#2a3f5f"
            },
            "marker": {
             "line": {
              "color": "#E5ECF6",
              "width": 0.5
             }
            },
            "type": "bar"
           }
          ],
          "barpolar": [
           {
            "marker": {
             "line": {
              "color": "#E5ECF6",
              "width": 0.5
             }
            },
            "type": "barpolar"
           }
          ],
          "carpet": [
           {
            "aaxis": {
             "endlinecolor": "#2a3f5f",
             "gridcolor": "white",
             "linecolor": "white",
             "minorgridcolor": "white",
             "startlinecolor": "#2a3f5f"
            },
            "baxis": {
             "endlinecolor": "#2a3f5f",
             "gridcolor": "white",
             "linecolor": "white",
             "minorgridcolor": "white",
             "startlinecolor": "#2a3f5f"
            },
            "type": "carpet"
           }
          ],
          "choropleth": [
           {
            "colorbar": {
             "outlinewidth": 0,
             "ticks": ""
            },
            "type": "choropleth"
           }
          ],
          "contour": [
           {
            "colorbar": {
             "outlinewidth": 0,
             "ticks": ""
            },
            "colorscale": [
             [
              0,
              "#0d0887"
             ],
             [
              0.1111111111111111,
              "#46039f"
             ],
             [
              0.2222222222222222,
              "#7201a8"
             ],
             [
              0.3333333333333333,
              "#9c179e"
             ],
             [
              0.4444444444444444,
              "#bd3786"
             ],
             [
              0.5555555555555556,
              "#d8576b"
             ],
             [
              0.6666666666666666,
              "#ed7953"
             ],
             [
              0.7777777777777778,
              "#fb9f3a"
             ],
             [
              0.8888888888888888,
              "#fdca26"
             ],
             [
              1,
              "#f0f921"
             ]
            ],
            "type": "contour"
           }
          ],
          "contourcarpet": [
           {
            "colorbar": {
             "outlinewidth": 0,
             "ticks": ""
            },
            "type": "contourcarpet"
           }
          ],
          "heatmap": [
           {
            "colorbar": {
             "outlinewidth": 0,
             "ticks": ""
            },
            "colorscale": [
             [
              0,
              "#0d0887"
             ],
             [
              0.1111111111111111,
              "#46039f"
             ],
             [
              0.2222222222222222,
              "#7201a8"
             ],
             [
              0.3333333333333333,
              "#9c179e"
             ],
             [
              0.4444444444444444,
              "#bd3786"
             ],
             [
              0.5555555555555556,
              "#d8576b"
             ],
             [
              0.6666666666666666,
              "#ed7953"
             ],
             [
              0.7777777777777778,
              "#fb9f3a"
             ],
             [
              0.8888888888888888,
              "#fdca26"
             ],
             [
              1,
              "#f0f921"
             ]
            ],
            "type": "heatmap"
           }
          ],
          "heatmapgl": [
           {
            "colorbar": {
             "outlinewidth": 0,
             "ticks": ""
            },
            "colorscale": [
             [
              0,
              "#0d0887"
             ],
             [
              0.1111111111111111,
              "#46039f"
             ],
             [
              0.2222222222222222,
              "#7201a8"
             ],
             [
              0.3333333333333333,
              "#9c179e"
             ],
             [
              0.4444444444444444,
              "#bd3786"
             ],
             [
              0.5555555555555556,
              "#d8576b"
             ],
             [
              0.6666666666666666,
              "#ed7953"
             ],
             [
              0.7777777777777778,
              "#fb9f3a"
             ],
             [
              0.8888888888888888,
              "#fdca26"
             ],
             [
              1,
              "#f0f921"
             ]
            ],
            "type": "heatmapgl"
           }
          ],
          "histogram": [
           {
            "marker": {
             "colorbar": {
              "outlinewidth": 0,
              "ticks": ""
             }
            },
            "type": "histogram"
           }
          ],
          "histogram2d": [
           {
            "colorbar": {
             "outlinewidth": 0,
             "ticks": ""
            },
            "colorscale": [
             [
              0,
              "#0d0887"
             ],
             [
              0.1111111111111111,
              "#46039f"
             ],
             [
              0.2222222222222222,
              "#7201a8"
             ],
             [
              0.3333333333333333,
              "#9c179e"
             ],
             [
              0.4444444444444444,
              "#bd3786"
             ],
             [
              0.5555555555555556,
              "#d8576b"
             ],
             [
              0.6666666666666666,
              "#ed7953"
             ],
             [
              0.7777777777777778,
              "#fb9f3a"
             ],
             [
              0.8888888888888888,
              "#fdca26"
             ],
             [
              1,
              "#f0f921"
             ]
            ],
            "type": "histogram2d"
           }
          ],
          "histogram2dcontour": [
           {
            "colorbar": {
             "outlinewidth": 0,
             "ticks": ""
            },
            "colorscale": [
             [
              0,
              "#0d0887"
             ],
             [
              0.1111111111111111,
              "#46039f"
             ],
             [
              0.2222222222222222,
              "#7201a8"
             ],
             [
              0.3333333333333333,
              "#9c179e"
             ],
             [
              0.4444444444444444,
              "#bd3786"
             ],
             [
              0.5555555555555556,
              "#d8576b"
             ],
             [
              0.6666666666666666,
              "#ed7953"
             ],
             [
              0.7777777777777778,
              "#fb9f3a"
             ],
             [
              0.8888888888888888,
              "#fdca26"
             ],
             [
              1,
              "#f0f921"
             ]
            ],
            "type": "histogram2dcontour"
           }
          ],
          "mesh3d": [
           {
            "colorbar": {
             "outlinewidth": 0,
             "ticks": ""
            },
            "type": "mesh3d"
           }
          ],
          "parcoords": [
           {
            "line": {
             "colorbar": {
              "outlinewidth": 0,
              "ticks": ""
             }
            },
            "type": "parcoords"
           }
          ],
          "pie": [
           {
            "automargin": true,
            "type": "pie"
           }
          ],
          "scatter": [
           {
            "marker": {
             "colorbar": {
              "outlinewidth": 0,
              "ticks": ""
             }
            },
            "type": "scatter"
           }
          ],
          "scatter3d": [
           {
            "line": {
             "colorbar": {
              "outlinewidth": 0,
              "ticks": ""
             }
            },
            "marker": {
             "colorbar": {
              "outlinewidth": 0,
              "ticks": ""
             }
            },
            "type": "scatter3d"
           }
          ],
          "scattercarpet": [
           {
            "marker": {
             "colorbar": {
              "outlinewidth": 0,
              "ticks": ""
             }
            },
            "type": "scattercarpet"
           }
          ],
          "scattergeo": [
           {
            "marker": {
             "colorbar": {
              "outlinewidth": 0,
              "ticks": ""
             }
            },
            "type": "scattergeo"
           }
          ],
          "scattergl": [
           {
            "marker": {
             "colorbar": {
              "outlinewidth": 0,
              "ticks": ""
             }
            },
            "type": "scattergl"
           }
          ],
          "scattermapbox": [
           {
            "marker": {
             "colorbar": {
              "outlinewidth": 0,
              "ticks": ""
             }
            },
            "type": "scattermapbox"
           }
          ],
          "scatterpolar": [
           {
            "marker": {
             "colorbar": {
              "outlinewidth": 0,
              "ticks": ""
             }
            },
            "type": "scatterpolar"
           }
          ],
          "scatterpolargl": [
           {
            "marker": {
             "colorbar": {
              "outlinewidth": 0,
              "ticks": ""
             }
            },
            "type": "scatterpolargl"
           }
          ],
          "scatterternary": [
           {
            "marker": {
             "colorbar": {
              "outlinewidth": 0,
              "ticks": ""
             }
            },
            "type": "scatterternary"
           }
          ],
          "surface": [
           {
            "colorbar": {
             "outlinewidth": 0,
             "ticks": ""
            },
            "colorscale": [
             [
              0,
              "#0d0887"
             ],
             [
              0.1111111111111111,
              "#46039f"
             ],
             [
              0.2222222222222222,
              "#7201a8"
             ],
             [
              0.3333333333333333,
              "#9c179e"
             ],
             [
              0.4444444444444444,
              "#bd3786"
             ],
             [
              0.5555555555555556,
              "#d8576b"
             ],
             [
              0.6666666666666666,
              "#ed7953"
             ],
             [
              0.7777777777777778,
              "#fb9f3a"
             ],
             [
              0.8888888888888888,
              "#fdca26"
             ],
             [
              1,
              "#f0f921"
             ]
            ],
            "type": "surface"
           }
          ],
          "table": [
           {
            "cells": {
             "fill": {
              "color": "#EBF0F8"
             },
             "line": {
              "color": "white"
             }
            },
            "header": {
             "fill": {
              "color": "#C8D4E3"
             },
             "line": {
              "color": "white"
             }
            },
            "type": "table"
           }
          ]
         },
         "layout": {
          "annotationdefaults": {
           "arrowcolor": "#2a3f5f",
           "arrowhead": 0,
           "arrowwidth": 1
          },
          "coloraxis": {
           "colorbar": {
            "outlinewidth": 0,
            "ticks": ""
           }
          },
          "colorscale": {
           "diverging": [
            [
             0,
             "#8e0152"
            ],
            [
             0.1,
             "#c51b7d"
            ],
            [
             0.2,
             "#de77ae"
            ],
            [
             0.3,
             "#f1b6da"
            ],
            [
             0.4,
             "#fde0ef"
            ],
            [
             0.5,
             "#f7f7f7"
            ],
            [
             0.6,
             "#e6f5d0"
            ],
            [
             0.7,
             "#b8e186"
            ],
            [
             0.8,
             "#7fbc41"
            ],
            [
             0.9,
             "#4d9221"
            ],
            [
             1,
             "#276419"
            ]
           ],
           "sequential": [
            [
             0,
             "#0d0887"
            ],
            [
             0.1111111111111111,
             "#46039f"
            ],
            [
             0.2222222222222222,
             "#7201a8"
            ],
            [
             0.3333333333333333,
             "#9c179e"
            ],
            [
             0.4444444444444444,
             "#bd3786"
            ],
            [
             0.5555555555555556,
             "#d8576b"
            ],
            [
             0.6666666666666666,
             "#ed7953"
            ],
            [
             0.7777777777777778,
             "#fb9f3a"
            ],
            [
             0.8888888888888888,
             "#fdca26"
            ],
            [
             1,
             "#f0f921"
            ]
           ],
           "sequentialminus": [
            [
             0,
             "#0d0887"
            ],
            [
             0.1111111111111111,
             "#46039f"
            ],
            [
             0.2222222222222222,
             "#7201a8"
            ],
            [
             0.3333333333333333,
             "#9c179e"
            ],
            [
             0.4444444444444444,
             "#bd3786"
            ],
            [
             0.5555555555555556,
             "#d8576b"
            ],
            [
             0.6666666666666666,
             "#ed7953"
            ],
            [
             0.7777777777777778,
             "#fb9f3a"
            ],
            [
             0.8888888888888888,
             "#fdca26"
            ],
            [
             1,
             "#f0f921"
            ]
           ]
          },
          "colorway": [
           "#636efa",
           "#EF553B",
           "#00cc96",
           "#ab63fa",
           "#FFA15A",
           "#19d3f3",
           "#FF6692",
           "#B6E880",
           "#FF97FF",
           "#FECB52"
          ],
          "font": {
           "color": "#2a3f5f"
          },
          "geo": {
           "bgcolor": "white",
           "lakecolor": "white",
           "landcolor": "#E5ECF6",
           "showlakes": true,
           "showland": true,
           "subunitcolor": "white"
          },
          "hoverlabel": {
           "align": "left"
          },
          "hovermode": "closest",
          "mapbox": {
           "style": "light"
          },
          "paper_bgcolor": "white",
          "plot_bgcolor": "#E5ECF6",
          "polar": {
           "angularaxis": {
            "gridcolor": "white",
            "linecolor": "white",
            "ticks": ""
           },
           "bgcolor": "#E5ECF6",
           "radialaxis": {
            "gridcolor": "white",
            "linecolor": "white",
            "ticks": ""
           }
          },
          "scene": {
           "xaxis": {
            "backgroundcolor": "#E5ECF6",
            "gridcolor": "white",
            "gridwidth": 2,
            "linecolor": "white",
            "showbackground": true,
            "ticks": "",
            "zerolinecolor": "white"
           },
           "yaxis": {
            "backgroundcolor": "#E5ECF6",
            "gridcolor": "white",
            "gridwidth": 2,
            "linecolor": "white",
            "showbackground": true,
            "ticks": "",
            "zerolinecolor": "white"
           },
           "zaxis": {
            "backgroundcolor": "#E5ECF6",
            "gridcolor": "white",
            "gridwidth": 2,
            "linecolor": "white",
            "showbackground": true,
            "ticks": "",
            "zerolinecolor": "white"
           }
          },
          "shapedefaults": {
           "line": {
            "color": "#2a3f5f"
           }
          },
          "ternary": {
           "aaxis": {
            "gridcolor": "white",
            "linecolor": "white",
            "ticks": ""
           },
           "baxis": {
            "gridcolor": "white",
            "linecolor": "white",
            "ticks": ""
           },
           "bgcolor": "#E5ECF6",
           "caxis": {
            "gridcolor": "white",
            "linecolor": "white",
            "ticks": ""
           }
          },
          "title": {
           "x": 0.05
          },
          "xaxis": {
           "automargin": true,
           "gridcolor": "white",
           "linecolor": "white",
           "ticks": "",
           "title": {
            "standoff": 15
           },
           "zerolinecolor": "white",
           "zerolinewidth": 2
          },
          "yaxis": {
           "automargin": true,
           "gridcolor": "white",
           "linecolor": "white",
           "ticks": "",
           "title": {
            "standoff": 15
           },
           "zerolinecolor": "white",
           "zerolinewidth": 2
          }
         }
        }
       }
      },
      "text/html": [
       "<div>\n",
       "        \n",
       "        \n",
       "            <div id=\"37888954-a50b-42f0-9750-0046522b2143\" class=\"plotly-graph-div\" style=\"height:525px; width:100%;\"></div>\n",
       "            <script type=\"text/javascript\">\n",
       "                require([\"plotly\"], function(Plotly) {\n",
       "                    window.PLOTLYENV=window.PLOTLYENV || {};\n",
       "                    \n",
       "                if (document.getElementById(\"37888954-a50b-42f0-9750-0046522b2143\")) {\n",
       "                    Plotly.newPlot(\n",
       "                        '37888954-a50b-42f0-9750-0046522b2143',\n",
       "                        [{\"mode\": \"markers\", \"name\": \"-1\", \"type\": \"scatter\", \"x\": [-7.9250887414628295, 16.803071142483546, -11.779623338940906, 2.0628848881523116, -8.434245817915828, -10.960094881945924, -7.839054063993244, 12.368915250148298, 8.26238969573283, -12.208170659379913, 7.437465384799982, -9.847109658319555, -8.893812989640145, 9.350417141336113, -5.522690251266438, -7.270899102493785, -7.519549312770241, -9.746582497361834, 11.704802419246324, -12.849704762712879, -11.148840445058807, 13.89601004163151, 14.558300770723132, 11.519650262633084, -14.543423026657711, 8.139886571842322, -13.200555561434841, -10.645970218771518, -16.10062303138845, -5.612173425408876, -5.915945180411283, -17.30548678880988, -8.318149354440251, -5.531977418617333, -8.18773670631854, -11.074317703518082, 9.415457071471653, 5.011336182870881, -12.136217196873481, 8.72424639358582, 10.954075522597847, 8.13414775214316, -13.377717728813128, -4.4057241110842345, 7.063599819649994, 5.733902374933393, 8.526280572915828, 9.08121790123791, -9.035647604690025, -6.249350871972919, -11.851138546377951, 16.609751239445774, 16.85734535804375, 8.879516768314627, -13.942386582099523, -5.900971156281746, -9.041110458544624, 10.917206634089844, 14.051186809079844, -8.030073253364915, 10.866315278771483, -6.1891457409965, -11.947917130887644, 8.474637576521873, -11.786481069947031, 12.858373827326655, 13.793539725972012, -7.3783435018177945, -8.085201126907615, -7.535441618075511, 9.697857160633658, 10.767199198716964, -11.269928090846083, 8.367951632572305, -11.344250047647844, -8.119646349757776, -13.000839764564741, 13.129745895518443, 10.146505953408541, -13.681831500652567, 12.243792274761525, -6.795950333411938, 13.106169180993016, -14.037575486742206, 17.07286088564642, 13.98863429053244, 7.621284416985688, -8.259626112950144, 9.486122933230842, 13.09954437934999, -4.449207491909682, -14.258365350681533, -7.91585107792065, 9.0782850679388, 12.167579879834614, 8.49697584495173, 16.378298253700805, 12.051650829966535, -20.296994521195654, 9.072853324569111, -11.344475044587602, 12.399384180957615, -14.872571061598402, -1.8826814554786633, -7.518671892575184, -8.95695693910869, 20.928745668294578, -21.400538744717334, 14.151257964891766, -9.626708215033453, 7.794389783195642, -7.836722310485006, -10.684882211187704, -2.029580986276429, -14.458756967965135, -5.331905388404242, 10.951425525796175, 12.345381902521385, 10.340062708549485, 1.5746863977457437, -10.437495544876521, -9.659618122467652, 11.524985672707095, -11.198387398005684, -7.400006831847429, 1.4501914282344166, -11.010133096465125, -15.823407213949473, 8.09408287374362, -6.632738987124728, -8.420091492080925, 15.094259223586208, -14.137636088835379, -12.57388016205248, 8.893407010955036, -12.109548702036271, 9.613600354839194, -15.542450490725336, 7.09499008027918, -9.02855190237589, 6.824663298419783, -13.002140767103212, -6.864279892995663, 9.33067043437937, 20.28022390363427, 11.39153192375568, 9.858124128919261, -10.138111073601408, 9.263419152320289, -16.307271396369444, 13.324526493863697, -16.52690551796449, -2.25222096506407, -10.368757355554788, 10.581694863056256, 15.724133938330539, -10.138491234604263, 23.713868021113118, 1.9153339730210706, 10.062000566311482, 9.273997826459679, 9.70339641524349, -9.790784042205972, 6.6480352253000135, 12.212018792007413, 12.863973566824344, -4.425888076367992, 11.385713431844362, -10.95259338851177, -12.739001067664853, -8.788705432884953, -15.070656831743356, -5.783622550093939], \"y\": [-1.594062018348478, 3.4324439143049927, -6.081364493487691, 9.41680563699959, 12.60975639486159, 5.4634305204570035, -5.1270604624488225, 4.381973904470534, -2.981424830122437, 5.84571723926963, -2.2253172479823573, 4.288441554831328, -4.189978843172137, 0.14568173117600555, 8.385018466618751, -5.6095973709749885, -4.915094009960916, -3.139936186175869, -2.0979819588395765, -0.16444415821566463, -5.719232603160657, 1.164354073301592, -0.9894007626160428, -4.142665285712297, -1.8169235233396186, 4.896592163940696, 4.748244875078076, 6.217902785263387, 6.957926850301684, -7.323697389018444, -6.981518184634746, 12.590568358486264, -5.4791462879799315, -8.959878398981337, -7.41464189714339, -1.3232302605832051, -6.710292503760088, -7.369871499380066, 0.5430018111287263, -2.4624489373834813, 4.089845263534224, -2.218723857112369, 2.141799513086757, -11.139642184048501, 7.91864891523896, -7.750261072996891, 1.9541545294195637, -1.0558440676587226, -0.9707121242860289, -10.273942817837275, -3.896740706213476, 4.274626608487209, 0.5530896164988158, 4.395866596039547, -6.259098581573805, 10.538279977839139, -3.660882491681027, -7.129670955161394, -2.361932399830675, -2.3440073583908916, 0.5426975928810288, -7.721308563158079, 8.779557397889663, 1.0777098051976717, 0.8497846781561094, -2.404834290457509, 3.687215800970243, 0.0006753597077802484, 3.0269435874497295, 4.201222959222822, 3.925475666109854, 3.5512810790780796, 4.706497747544459, -7.802354002226167, 2.6693227871999126, -5.804202177326482, -4.036426048136675, -0.25657010054553797, -0.4424399211097039, -0.7582994596045923, 0.46694777002373394, -5.965875555111832, -4.086157000577021, 2.9439865213468104, 1.4972392448900498, 0.7027643879290585, -2.2941745471333976, -2.886139488072353, 4.254520985106926, 2.969203615311814, -6.061967054540991, 0.5105418668617842, -7.623464014251557, 0.44295978735673175, -2.1222511618819224, -1.9841979262911629, -1.3342709959479508, 5.02754529314585, 8.03388511371492, 3.5261499538645076, 2.669286617699947, 3.1836155517312736, -2.4461338188519046, 10.010633315305085, 3.6665250647773777, -0.09960010587266406, -2.7786233335670465, 1.251686145406977, 2.1761452364311036, 2.672927432236581, -5.561467065496997, -3.7953566836497195, 7.843137935016343, -10.308168131584702, 9.438911203011937, 6.757205086200849, 4.0903130221849855, -0.9837650591031937, -0.7490741204898621, 7.770464577000495, -7.505559276772224, 1.6746288877666615, 3.9027025496566394, 13.53690751044604, -6.432633976186106, -7.767602952868643, 13.70451746480614, -6.246500633285412, -5.62353110057441, 5.319297103214311, 0.7568662326404175, -2.7355443489968176, -11.124868241302106, 0.4911606487032103, 2.0970246848667378, -3.241693575506129, 3.8950187615514436, 1.7161781230390367, -3.3489614415367037, 1.6413695755322422, -1.1229875658330541, -4.036433580141397, -5.861962187362183, 3.7416304202316826, -0.5744449562179273, 3.617339423095176, 3.4091105871154572, 3.0918568335742966, -5.178730273660667, -2.550911541574034, -3.1526161289855708, 3.6788489209918396, -9.165614023365004, -1.871810874724258, 4.0836505376095795, 2.4598823405066943, -0.07070810455678483, -0.9575787509213518, -13.32082139840392, 2.8571945705389616, -0.13854125672475567, 2.060735458174515, -7.32917306682803, -3.1414876780109644, 4.030734784424559, 1.5919946331743031, -7.532102104532206, 2.7418808279113542, 4.848736640285195, 4.7941386305625535, 6.787882868734496, 4.9015114446815655, -4.317948125576515]}, {\"mode\": \"markers\", \"name\": \"0\", \"type\": \"scatter\", \"x\": [-1.3667627029998337, -0.027029498318830364, -5.915671129304314, -0.9669544551354562, -5.019144384847841, 7.133213957630442, -4.116930374605897, -0.2920316854474607, 2.763516998267277, 4.033167534777327, 2.025364301660973, -0.17911668097364553, 6.66311785616089, -1.6523366653862033, 5.705566331120899, -7.289317222092961, -0.21711090115823917, 0.47810639537642563, -6.053878407158204, 4.205338732552672, 2.3744389928592025, -5.758612607315296, -3.632568713412748, -3.1815362521387627, 5.772977980452922, -4.757923500763461, -6.440674400385155, -3.562848445066439, -0.838138423652719, 3.9358209775502737, 3.647787361172701, -1.4458895394893119, 3.7603934018273777, 3.8645646770469724, 4.528983591940026, -3.1448256503811414, -3.6976828965396566, 0.8290179333228753, 4.186770219535824, -3.1482375199513117, -1.5686844133854336, 1.189708186758314, 0.5483570471880175, -3.163813542940477, 6.856036287281622, 2.51052008626663, 8.06030658689512, -7.714266691474468, -1.4986433638117183, 2.449723697315005, 1.9959806050465219, 1.1016660150601665, -0.8618097520298317, 0.6555439129759602, 4.617601491362506, -6.191119146896829, 5.61167695513042, -1.3717492163697058, -2.2857668688734822, -4.830172475540962, 1.6464198417274574, 1.058958091393494, 5.805914497257998, -3.548011011245376, 3.0690995651986306, 3.2586640116042895, -3.3490726390275105, -2.6103049435920793, -4.518140170875571, 2.3862592417744084, -0.37116982585454916, 1.2257736147870701, 2.501218732859334, 3.606867061473484, -6.683570381185741, -2.6146894733143613, 7.68958754521676, -1.6533670403487974, 1.576823426078382, -4.606441785351998, -1.5836228028271668, 0.19515387421706948, 0.1759975213045516, 5.463833336606785, -0.7809101598077862, -6.03553091573151, 3.535704396813712, 2.972270441413163, 7.135587289677287, 2.168792690566067, -4.74332346740712, -1.8533549115125727, -4.550462734351579, -4.168419243827172, -5.659544770237512, 4.055721556584929, 7.140031069104664, 1.8556102831250616, -2.698501983896528, -4.263842590384789, -2.381964394575215, -1.8957347472546555, 3.6671085444709566, 6.98338952372114, -5.318902757726136, 4.288054585445767, 7.925223299864743, -4.349452216764094, -4.475584419519372, 4.5990019423919, 0.3981293992525723, 0.15045141864419645, -1.7239628453042204, 5.576788277123419, 3.947722399463888, 7.169423850244472, -2.6046363415522746, -6.513342311450806, 1.0910926121825713, -5.128158174677819, -4.816228004837672, 5.190354195956106, -1.56783434524643, -1.6091186059947746, -2.5031505738051387, 1.5276375137910332, -7.353670810874068, -3.6227872292398318, 1.1549440178653794, 4.435800992548887, 0.31938835878709554, 0.5091078239079496, 2.8334559129714294, -0.9282584033760513, -6.8811952065951765, -1.1356390280684578, 2.4026973681956894, -2.1387477177206344, -4.595527038369893, -2.8328163251347105, 2.4116336817600192, 6.956087156512677, -6.92534611508373, 3.792129872421246, 1.9377055858366012, -0.5341336963463734, -2.695763009602313, 4.103158262714194, -4.184548412582602, -0.8666964874632571, 3.415316830454537, 2.4945278085502927, -2.9369368535023535, 6.496024972228655, -4.418904954484395, -7.330008704073192, -1.8976187987874864, -7.978556927188524, -7.370638506475282, 5.063295350194089, -1.9304072594370578, 4.876125038399667, 5.359358719628844, -2.3367657078472974, 4.1135085325829674, -7.707900739733543, 2.4924748752252417, -8.016743987296522, -5.362742157784572, -2.1307037814406717, 2.4640361047598502, 4.858656106565143, -2.8111203213133216, 3.9874288883864377, -1.5380566154892732, 3.5121610240224275, 5.2688957306986035, 4.358542353837522, 1.0648697958606228, 3.0166150038996147, 0.8792686104366033, 2.4407880796612593, 3.2743247585789397, -7.368533690118802, 4.755176049814238, 3.878669761556411, 4.202146482974472, -3.3327376607231827, 4.382853268242205, -6.685897785544663, 4.622157568018324, 4.346335472919177, 4.4243325295998135, -2.211921157333846, 4.291593148529951, 1.5713105493929667, 0.009222652231997738, 5.001295951947691, 2.2710804902996182, 1.2323046377863616, 5.161516437796254, 4.690916997100833, 7.08119133993297, -1.7540328207606841, 5.041026124846002, -5.332663317903626, -5.347779746479289, 3.757422634048103, -3.537157814378492, 4.248093336144314, -0.15344763127056318, -4.129995467940384, 0.2517529699413628, 6.161438542096483, 4.315688559928879, -5.809072452391009, 2.3270167752218196, 2.9240540478742267, 7.202783321957085, 3.611986753904156, 6.970448865395911, -5.067909654062594, 4.717688974766123, -0.09752789630957691, 1.5172963980613892, 4.890694096826735, 7.101920982273058], \"y\": [5.325660371974073, 0.43482657430732424, 1.1889788728199684, -3.4411795428236878, -0.36902117573643606, -3.668237366133166, 2.1725023976824804, 3.4459569000522365, 1.0369401512537018, 2.470923057681607, -3.719261597324452, -1.5038815186960715, -3.9798810856754843, 7.112354290516043, -1.7607105665260607, -1.5362048601924634, 2.0391967869165, 2.6894994562838668, -1.9329812765210983, -0.7954495726272862, -2.321145780376606, 5.382266309667414, -5.776382007220413, -2.768640686942871, -3.6747100581105494, -3.786196995115981, -0.6132747851123614, 4.413561029925021, -4.523072200159836, 3.562816778334329, 3.697473498907583, -1.5584167700652551, -2.5064093845862407, 1.8741736826934363, 1.788417249548903, -2.584901858384067, 0.47104597784889396, 6.000966355439651, 5.796405884531071, 3.5560275493310587, 0.8804314061657662, -4.63093752930304, 5.384661561175745, 4.159727247991578, -0.35163886497446145, -7.257565321176603, -0.016064627257715097, -0.5532045817494303, -0.9671541529209874, -0.2661726297506518, 1.5233207580678665, -0.9082406661052065, 0.8419940190001435, -2.6693270509654523, 3.6260164995443116, -4.049221642504788, -1.4768309684079861, 4.729231400774507, -5.2973515592798455, 1.348588912223315, 1.7977192202230976, 0.462741650360343, -0.10302457313445504, -5.520411298508414, 3.4063640597452296, 5.96618566284681, -1.4678577679089377, -1.5328869576703834, -4.48355525607682, -6.246097073515931, 0.4231367377501993, 2.40277234821352, -4.27473753865962, -2.489890979452129, 0.8047530406553343, -1.4500622467423707, 1.0965579471158784, -5.995601638212519, 3.2301410001532713, -2.267910977824014, 1.3737071768671192, -4.158039276035812, 6.504572593538748, 1.1220511430165405, 7.728578086825535, 0.6941366528523439, 1.1514649185104702, -6.220863601562303, 0.09373815539847438, -1.1192526245628653, 0.188994985293563, 0.4903252582534325, -0.36314397404170295, -0.19517651146731876, -1.2699069018247362, 3.0528826203739734, 5.003335306322013, 0.1903731200319043, -1.9085114931716285, 0.3137701117685212, -1.1887806138107335, 3.207233446425697, -0.8307083168353673, -3.390850975403035, 1.5392508585317843, -2.412274330397128, -1.2835929205180312, 0.2222592479015378, 5.43564471015063, 5.743203881329527, -1.0712189218954433, -2.0889967430506156, 5.433162158688626, 0.5636829223291797, 1.4003212135347056, -0.625867962318967, 1.6566236157572984, -2.2520686893288993, 4.958650124751221, -3.7816219451619606, -1.6765098412850767, -2.198676721275228, -0.5571985678733783, -3.277895682412418, 0.9594095290518234, 3.469414069340211, 0.8286024054190368, 3.4266146255218803, 3.9380230579739854, 2.499859801090911, 0.03364763896149721, -6.610884898812817, 1.727279191126962, -3.1531436153388355, -0.8360845449722788, 3.084365202772888, 1.9425192711122738, -2.654065324092607, -3.1112928244864886, 2.4095830229753465, 2.8035686029765103, 1.410285156497806, -1.6122535875568362, 3.1773070697126746, 3.7857313889720143, 0.9168111949885503, -3.5276844517387826, -0.6622079739858291, -1.839948711928658, -1.7476444496356953, 3.3687063861494853, 4.31800640058652, -6.920224864348739, -2.3814863859346613, 5.417427051648851, 1.200974738581314, -1.5310028497709902, 0.07966951198283388, 0.8221722968809883, 4.1742191849584795, 0.9290164530208193, 1.1128632493589163, 1.553378917489583, -3.4681053612372588, 2.559232183899992, -1.0153837919509159, 0.571566858770084, -0.1317011621413864, -0.2792802302555198, -2.0806828774257466, -2.907979692400145, 4.413743238155786, -0.21661817110725262, 2.9677146578496196, -5.860588298569746, -0.4068549782632302, 3.269763915630411, 6.092465822693754, -2.5213349669443352, -1.6715212475715673, 1.9761860844408645, -2.839630582332468, 3.1860950988796426, 0.8215723416744465, -5.039817529148475, -3.4135925180900224, -2.059738710298594, -3.410056664044699, -4.831453700119372, 2.62134420221939, -4.162612874938409, -2.7304431275620735, -4.552261878735593, 1.6349230611367052, -0.43895689182759245, -4.188059535219066, 7.481623341692936, -2.376118381505367, 1.4291735033900834, 2.8705432208648873, -4.545598875801448, 4.3422373670204015, -2.2711280532711124, 0.10383704825713093, 1.2580767595949163, -0.036003060720338015, 0.6002128260868579, -0.4668980186337098, 1.740183765280505, -1.143413134310202, -5.036936397136778, -2.529653780553269, -1.4284764600612203, 3.00566335604848, 1.0508762983866056, -2.4479036006514105, 0.3724332361122796, 7.441203595256578, 0.2313459906697491, -3.2098561939926604, -3.379966907715617, 4.404747703509295, 3.9106424232253483, -4.678559690015339, 5.910478013226244, -1.5624130046547489, 3.85134971439225]}],\n",
       "                        {\"template\": {\"data\": {\"bar\": [{\"error_x\": {\"color\": \"#2a3f5f\"}, \"error_y\": {\"color\": \"#2a3f5f\"}, \"marker\": {\"line\": {\"color\": \"#E5ECF6\", \"width\": 0.5}}, \"type\": \"bar\"}], \"barpolar\": [{\"marker\": {\"line\": {\"color\": \"#E5ECF6\", \"width\": 0.5}}, \"type\": \"barpolar\"}], \"carpet\": [{\"aaxis\": {\"endlinecolor\": \"#2a3f5f\", \"gridcolor\": \"white\", \"linecolor\": \"white\", \"minorgridcolor\": \"white\", \"startlinecolor\": \"#2a3f5f\"}, \"baxis\": {\"endlinecolor\": \"#2a3f5f\", \"gridcolor\": \"white\", \"linecolor\": \"white\", \"minorgridcolor\": \"white\", \"startlinecolor\": \"#2a3f5f\"}, \"type\": \"carpet\"}], \"choropleth\": [{\"colorbar\": {\"outlinewidth\": 0, \"ticks\": \"\"}, \"type\": \"choropleth\"}], \"contour\": [{\"colorbar\": {\"outlinewidth\": 0, \"ticks\": \"\"}, \"colorscale\": [[0.0, \"#0d0887\"], [0.1111111111111111, \"#46039f\"], [0.2222222222222222, \"#7201a8\"], [0.3333333333333333, \"#9c179e\"], [0.4444444444444444, \"#bd3786\"], [0.5555555555555556, \"#d8576b\"], [0.6666666666666666, \"#ed7953\"], [0.7777777777777778, \"#fb9f3a\"], [0.8888888888888888, \"#fdca26\"], [1.0, \"#f0f921\"]], \"type\": \"contour\"}], \"contourcarpet\": [{\"colorbar\": {\"outlinewidth\": 0, \"ticks\": \"\"}, \"type\": \"contourcarpet\"}], \"heatmap\": [{\"colorbar\": {\"outlinewidth\": 0, \"ticks\": \"\"}, \"colorscale\": [[0.0, \"#0d0887\"], [0.1111111111111111, \"#46039f\"], [0.2222222222222222, \"#7201a8\"], [0.3333333333333333, \"#9c179e\"], [0.4444444444444444, \"#bd3786\"], [0.5555555555555556, \"#d8576b\"], [0.6666666666666666, \"#ed7953\"], [0.7777777777777778, \"#fb9f3a\"], [0.8888888888888888, \"#fdca26\"], [1.0, \"#f0f921\"]], \"type\": \"heatmap\"}], \"heatmapgl\": [{\"colorbar\": {\"outlinewidth\": 0, \"ticks\": \"\"}, \"colorscale\": [[0.0, \"#0d0887\"], [0.1111111111111111, \"#46039f\"], [0.2222222222222222, \"#7201a8\"], [0.3333333333333333, \"#9c179e\"], [0.4444444444444444, \"#bd3786\"], [0.5555555555555556, \"#d8576b\"], [0.6666666666666666, \"#ed7953\"], [0.7777777777777778, \"#fb9f3a\"], [0.8888888888888888, \"#fdca26\"], [1.0, \"#f0f921\"]], \"type\": \"heatmapgl\"}], \"histogram\": [{\"marker\": {\"colorbar\": {\"outlinewidth\": 0, \"ticks\": \"\"}}, \"type\": \"histogram\"}], \"histogram2d\": [{\"colorbar\": {\"outlinewidth\": 0, \"ticks\": \"\"}, \"colorscale\": [[0.0, \"#0d0887\"], [0.1111111111111111, \"#46039f\"], [0.2222222222222222, \"#7201a8\"], [0.3333333333333333, \"#9c179e\"], [0.4444444444444444, \"#bd3786\"], [0.5555555555555556, \"#d8576b\"], [0.6666666666666666, \"#ed7953\"], [0.7777777777777778, \"#fb9f3a\"], [0.8888888888888888, \"#fdca26\"], [1.0, \"#f0f921\"]], \"type\": \"histogram2d\"}], \"histogram2dcontour\": [{\"colorbar\": {\"outlinewidth\": 0, \"ticks\": \"\"}, \"colorscale\": [[0.0, \"#0d0887\"], [0.1111111111111111, \"#46039f\"], [0.2222222222222222, \"#7201a8\"], [0.3333333333333333, \"#9c179e\"], [0.4444444444444444, \"#bd3786\"], [0.5555555555555556, \"#d8576b\"], [0.6666666666666666, \"#ed7953\"], [0.7777777777777778, \"#fb9f3a\"], [0.8888888888888888, \"#fdca26\"], [1.0, \"#f0f921\"]], \"type\": \"histogram2dcontour\"}], \"mesh3d\": [{\"colorbar\": {\"outlinewidth\": 0, \"ticks\": \"\"}, \"type\": \"mesh3d\"}], \"parcoords\": [{\"line\": {\"colorbar\": {\"outlinewidth\": 0, \"ticks\": \"\"}}, \"type\": \"parcoords\"}], \"pie\": [{\"automargin\": true, \"type\": \"pie\"}], \"scatter\": [{\"marker\": {\"colorbar\": {\"outlinewidth\": 0, \"ticks\": \"\"}}, \"type\": \"scatter\"}], \"scatter3d\": [{\"line\": {\"colorbar\": {\"outlinewidth\": 0, \"ticks\": \"\"}}, \"marker\": {\"colorbar\": {\"outlinewidth\": 0, \"ticks\": \"\"}}, \"type\": \"scatter3d\"}], \"scattercarpet\": [{\"marker\": {\"colorbar\": {\"outlinewidth\": 0, \"ticks\": \"\"}}, \"type\": \"scattercarpet\"}], \"scattergeo\": [{\"marker\": {\"colorbar\": {\"outlinewidth\": 0, \"ticks\": \"\"}}, \"type\": \"scattergeo\"}], \"scattergl\": [{\"marker\": {\"colorbar\": {\"outlinewidth\": 0, \"ticks\": \"\"}}, \"type\": \"scattergl\"}], \"scattermapbox\": [{\"marker\": {\"colorbar\": {\"outlinewidth\": 0, \"ticks\": \"\"}}, \"type\": \"scattermapbox\"}], \"scatterpolar\": [{\"marker\": {\"colorbar\": {\"outlinewidth\": 0, \"ticks\": \"\"}}, \"type\": \"scatterpolar\"}], \"scatterpolargl\": [{\"marker\": {\"colorbar\": {\"outlinewidth\": 0, \"ticks\": \"\"}}, \"type\": \"scatterpolargl\"}], \"scatterternary\": [{\"marker\": {\"colorbar\": {\"outlinewidth\": 0, \"ticks\": \"\"}}, \"type\": \"scatterternary\"}], \"surface\": [{\"colorbar\": {\"outlinewidth\": 0, \"ticks\": \"\"}, \"colorscale\": [[0.0, \"#0d0887\"], [0.1111111111111111, \"#46039f\"], [0.2222222222222222, \"#7201a8\"], [0.3333333333333333, \"#9c179e\"], [0.4444444444444444, \"#bd3786\"], [0.5555555555555556, \"#d8576b\"], [0.6666666666666666, \"#ed7953\"], [0.7777777777777778, \"#fb9f3a\"], [0.8888888888888888, \"#fdca26\"], [1.0, \"#f0f921\"]], \"type\": \"surface\"}], \"table\": [{\"cells\": {\"fill\": {\"color\": \"#EBF0F8\"}, \"line\": {\"color\": \"white\"}}, \"header\": {\"fill\": {\"color\": \"#C8D4E3\"}, \"line\": {\"color\": \"white\"}}, \"type\": \"table\"}]}, \"layout\": {\"annotationdefaults\": {\"arrowcolor\": \"#2a3f5f\", \"arrowhead\": 0, \"arrowwidth\": 1}, \"coloraxis\": {\"colorbar\": {\"outlinewidth\": 0, \"ticks\": \"\"}}, \"colorscale\": {\"diverging\": [[0, \"#8e0152\"], [0.1, \"#c51b7d\"], [0.2, \"#de77ae\"], [0.3, \"#f1b6da\"], [0.4, \"#fde0ef\"], [0.5, \"#f7f7f7\"], [0.6, \"#e6f5d0\"], [0.7, \"#b8e186\"], [0.8, \"#7fbc41\"], [0.9, \"#4d9221\"], [1, \"#276419\"]], \"sequential\": [[0.0, \"#0d0887\"], [0.1111111111111111, \"#46039f\"], [0.2222222222222222, \"#7201a8\"], [0.3333333333333333, \"#9c179e\"], [0.4444444444444444, \"#bd3786\"], [0.5555555555555556, \"#d8576b\"], [0.6666666666666666, \"#ed7953\"], [0.7777777777777778, \"#fb9f3a\"], [0.8888888888888888, \"#fdca26\"], [1.0, \"#f0f921\"]], \"sequentialminus\": [[0.0, \"#0d0887\"], [0.1111111111111111, \"#46039f\"], [0.2222222222222222, \"#7201a8\"], [0.3333333333333333, \"#9c179e\"], [0.4444444444444444, \"#bd3786\"], [0.5555555555555556, \"#d8576b\"], [0.6666666666666666, \"#ed7953\"], [0.7777777777777778, \"#fb9f3a\"], [0.8888888888888888, \"#fdca26\"], [1.0, \"#f0f921\"]]}, \"colorway\": [\"#636efa\", \"#EF553B\", \"#00cc96\", \"#ab63fa\", \"#FFA15A\", \"#19d3f3\", \"#FF6692\", \"#B6E880\", \"#FF97FF\", \"#FECB52\"], \"font\": {\"color\": \"#2a3f5f\"}, \"geo\": {\"bgcolor\": \"white\", \"lakecolor\": \"white\", \"landcolor\": \"#E5ECF6\", \"showlakes\": true, \"showland\": true, \"subunitcolor\": \"white\"}, \"hoverlabel\": {\"align\": \"left\"}, \"hovermode\": \"closest\", \"mapbox\": {\"style\": \"light\"}, \"paper_bgcolor\": \"white\", \"plot_bgcolor\": \"#E5ECF6\", \"polar\": {\"angularaxis\": {\"gridcolor\": \"white\", \"linecolor\": \"white\", \"ticks\": \"\"}, \"bgcolor\": \"#E5ECF6\", \"radialaxis\": {\"gridcolor\": \"white\", \"linecolor\": \"white\", \"ticks\": \"\"}}, \"scene\": {\"xaxis\": {\"backgroundcolor\": \"#E5ECF6\", \"gridcolor\": \"white\", \"gridwidth\": 2, \"linecolor\": \"white\", \"showbackground\": true, \"ticks\": \"\", \"zerolinecolor\": \"white\"}, \"yaxis\": {\"backgroundcolor\": \"#E5ECF6\", \"gridcolor\": \"white\", \"gridwidth\": 2, \"linecolor\": \"white\", \"showbackground\": true, \"ticks\": \"\", \"zerolinecolor\": \"white\"}, \"zaxis\": {\"backgroundcolor\": \"#E5ECF6\", \"gridcolor\": \"white\", \"gridwidth\": 2, \"linecolor\": \"white\", \"showbackground\": true, \"ticks\": \"\", \"zerolinecolor\": \"white\"}}, \"shapedefaults\": {\"line\": {\"color\": \"#2a3f5f\"}}, \"ternary\": {\"aaxis\": {\"gridcolor\": \"white\", \"linecolor\": \"white\", \"ticks\": \"\"}, \"baxis\": {\"gridcolor\": \"white\", \"linecolor\": \"white\", \"ticks\": \"\"}, \"bgcolor\": \"#E5ECF6\", \"caxis\": {\"gridcolor\": \"white\", \"linecolor\": \"white\", \"ticks\": \"\"}}, \"title\": {\"x\": 0.05}, \"xaxis\": {\"automargin\": true, \"gridcolor\": \"white\", \"linecolor\": \"white\", \"ticks\": \"\", \"title\": {\"standoff\": 15}, \"zerolinecolor\": \"white\", \"zerolinewidth\": 2}, \"yaxis\": {\"automargin\": true, \"gridcolor\": \"white\", \"linecolor\": \"white\", \"ticks\": \"\", \"title\": {\"standoff\": 15}, \"zerolinecolor\": \"white\", \"zerolinewidth\": 2}}}},\n",
       "                        {\"responsive\": true}\n",
       "                    ).then(function(){\n",
       "                            \n",
       "var gd = document.getElementById('37888954-a50b-42f0-9750-0046522b2143');\n",
       "var x = new MutationObserver(function (mutations, observer) {{\n",
       "        var display = window.getComputedStyle(gd).display;\n",
       "        if (!display || display === 'none') {{\n",
       "            console.log([gd, 'removed!']);\n",
       "            Plotly.purge(gd);\n",
       "            observer.disconnect();\n",
       "        }}\n",
       "}});\n",
       "\n",
       "// Listen for the removal of the full notebook cells\n",
       "var notebookContainer = gd.closest('#notebook-container');\n",
       "if (notebookContainer) {{\n",
       "    x.observe(notebookContainer, {childList: true});\n",
       "}}\n",
       "\n",
       "// Listen for the clearing of the current output cell\n",
       "var outputEl = gd.closest('.output');\n",
       "if (outputEl) {{\n",
       "    x.observe(outputEl, {childList: true});\n",
       "}}\n",
       "\n",
       "                        })\n",
       "                };\n",
       "                });\n",
       "            </script>\n",
       "        </div>"
      ]
     },
     "metadata": {},
     "output_type": "display_data"
    }
   ],
   "source": [
    "\n",
    "pca2 = PCA(n_components=ncomps, whiten=False,svd_solver='randomized')\n",
    "featd= pca2.fit_transform(dist_store)\n",
    "bandwidth = estimate_bandwidth(featd, quantile=0.25)\n",
    "\n",
    "ms = MeanShift(bandwidth=bandwidth, bin_seeding=False, cluster_all=False, min_bin_freq=35)\n",
    "ms.fit(featd)\n",
    "labelsf = ms.labels_\n",
    "labelf_select = {y:[x for x in range(len(labelsf)) if labelsf[x] == y] for y in sorted(list(set(labelsf)))}\n",
    "\n",
    "\n",
    "fig= [go.Scatter(\n",
    "    x= featd[labelf_select[i],0],\n",
    "    y= featd[labelf_select[i],1],\n",
    "    mode= 'markers',\n",
    "    name= str(i)\n",
    ") for i in labelf_select.keys()]\n",
    "\n",
    "layout= go.Layout()\n",
    "\n",
    "Figure= go.Figure(data= fig, layout= layout)\n",
    "\n",
    "iplot(Figure)\n"
   ]
  },
  {
   "cell_type": "markdown",
   "metadata": {},
   "source": [
    "\n",
    "#### B. Variance across data sets. \n",
    "\n",
    "Accession subset: `std_gp_use`\n"
   ]
  },
  {
   "cell_type": "code",
   "execution_count": 22,
   "metadata": {},
   "outputs": [],
   "source": [
    "# subselect by variance in distances:\n",
    "\n",
    "## perform MeanShift clustering.\n",
    "#bandwidth = estimate_bandwidth(featl, quantile=0.2)\n",
    "bandwidth = estimate_bandwidth(dist_var.reshape(-1,1), quantile=0.2)\n",
    "\n",
    "ms = MeanShift(bandwidth=bandwidth, bin_seeding=False, cluster_all=False, min_bin_freq=35)\n",
    "\n",
    "ms.fit(dist_var.reshape(-1,1))\n",
    "labels_std = ms.labels_\n",
    "std_select = {y:[x for x in range(len(labels_std)) if labels_std[x] == y] for y in sorted(list(set(labels_std)))}\n",
    "std_select.keys()\n",
    "\n",
    "std_gpmeans= {z: np.mean([dist_var[x] for x in g]) for z,g in std_select.items() if z != -1}\n",
    "\n",
    "std_gp_use= sorted(std_gpmeans,key= std_gpmeans.get)\n",
    "d= 0\n",
    "idx = 0\n",
    "\n",
    "while d != 1:\n",
    "    g=std_select[std_gp_use[idx]] \n",
    "    \n",
    "    if len(g) >= 15:\n",
    "        std_gp_use= list(g)\n",
    "        d= 1\n",
    "        \n",
    "    idx+= 1\n",
    "\n",
    "#std_gp_use= std_select[std_gp_use]\n",
    "\n",
    "#std_gp_use= [other_obs[x] for x in std_gp_use]\n",
    "#std_gp_use= list(range(len(labels_std)))"
   ]
  },
  {
   "cell_type": "markdown",
   "metadata": {},
   "source": [
    "### Coordinate inference\n",
    "\n",
    "**Grid approach**\n",
    "\n",
    "Produce grid encompassing sample coordinates in the feature space of the window covering the nan value. \n",
    "\n",
    "#### I. Grid construction:\n",
    "\n",
    "- P: grid mesh.\n",
    "- dimN: number of features from Quanted_set to use. \n",
    "\n"
   ]
  },
  {
   "cell_type": "code",
   "execution_count": 25,
   "metadata": {},
   "outputs": [],
   "source": [
    "from impute_tools.impute_tools_II import get_bg_grid\n",
    "\n",
    "Quanted_set= np.array(featl)\n",
    "P= 20\n",
    "dimN= 2\n",
    "\n",
    "background= get_bg_grid(Quanted_set, P= P, dimN= dimN)"
   ]
  },
  {
   "cell_type": "markdown",
   "metadata": {},
   "source": [
    "#### II. Grid distances.\n",
    "\n",
    "Create distance profile for every position in `background` grid.\n"
   ]
  },
  {
   "cell_type": "code",
   "execution_count": 27,
   "metadata": {},
   "outputs": [
    {
     "data": {
      "text/plain": [
       "(400, 19)"
      ]
     },
     "execution_count": 27,
     "metadata": {},
     "output_type": "execute_result"
    }
   ],
   "source": [
    "from sklearn.metrics import pairwise_distances\n",
    "\n",
    "workfeat= featl[std_gp_use,:dimN]\n",
    "\n",
    "dist_grid= pairwise_distances(background, workfeat,\n",
    "                                            metric=metric)\n",
    "\n",
    "dist_grid.shape"
   ]
  },
  {
   "cell_type": "markdown",
   "metadata": {},
   "source": [
    "#### III. Coordinate likelihood.\n",
    "\n",
    "    i. BG and reference distance vectors go through Dr together (`PCA` here). Kernel Density Estimation is fit to reference obs coordinates. Likelihoods are extracted for BG coordinate positions. \n",
    "\n",
    "    ii. Resulting likelihoods are mapped to the feature space capturing `nanObs`.\n"
   ]
  },
  {
   "cell_type": "code",
   "execution_count": 28,
   "metadata": {},
   "outputs": [],
   "source": [
    "from impute_tools.impute_tools import kde_likes_extract\n",
    "\n",
    "dist_comps= 10\n",
    "Bandwidth_split = 30\n",
    "\n",
    "####\n",
    "####\n",
    "dist_ref_select= 0\n",
    "dist_ref= dist_store[labelf_select[dist_ref_select],:]\n",
    "dist_ref= dist_ref[:,std_gp_use]\n",
    "\n",
    "\n",
    "grid_likes= kde_likes_extract(dist_grid,dist_ref)"
   ]
  },
  {
   "cell_type": "code",
   "execution_count": 30,
   "metadata": {
    "scrolled": false
   },
   "outputs": [
    {
     "name": "stderr",
     "output_type": "stream",
     "text": [
      "c:\\users\\floyd\\appdata\\local\\programs\\python\\python37-32\\lib\\site-packages\\plotly\\tools.py:465: DeprecationWarning:\n",
      "\n",
      "plotly.tools.make_subplots is deprecated, please use plotly.subplots.make_subplots instead\n",
      "\n"
     ]
    },
    {
     "data": {
      "application/vnd.plotly.v1+json": {
       "config": {
        "linkText": "Export to plot.ly",
        "plotlyServerURL": "https://plot.ly",
        "showLink": false
       },
       "data": [
        {
         "mode": "markers",
         "name": "0",
         "type": "scatter",
         "x": [
          3.445574481375933,
          2.863857011774429,
          3.866887209912928,
          2.932665671822504,
          3.425689708701257,
          3.725042716476828,
          3.85042873130433,
          4.336930881102006,
          3.1624941489392753,
          3.962170681675321,
          3.7313913282998867,
          3.581306171455651,
          2.8765747093159604,
          1.6331246827093906,
          3.6266282401255663,
          2.7869491892633698,
          2.7590623765701934,
          3.5895404336973904,
          3.7552446930290753,
          3.7658300022386695,
          2.8671857561339507,
          3.548954032100013,
          3.577302370420785,
          4.200382676921275,
          4.071831592711339,
          3.0125241785585297,
          4.423254704337569,
          2.411450742049884,
          2.8355591724665574,
          1.558804489709674,
          3.6732219477841266,
          3.4316311790666987,
          3.03315167441259,
          2.995361327270493,
          3.8601377220386026,
          3.8681738739015095,
          4.050199853524352,
          3.2778952852329435,
          3.600291901470926,
          2.9871241333214615
         ],
         "xaxis": "x",
         "y": [
          0.6805898880727538,
          0.8039022661085495,
          -0.31013859359932494,
          0.02239852991407296,
          0.26781735854283745,
          -0.11414695300252196,
          0.6072901713396802,
          0.20550959564761637,
          -0.08084815065207356,
          -0.019368666894963943,
          1.7444088906297557,
          -0.15564759535963985,
          -0.9820443059633468,
          -0.24377233395255235,
          -0.8190902787245985,
          1.0344973318785107,
          0.23233077237971697,
          -0.15677041851809267,
          -0.49109357829549743,
          1.0166115674381866,
          -0.19498951686067692,
          -0.5120990801814447,
          0.2600286536546371,
          0.4381412860588638,
          0.5979071625600343,
          -0.29768064102754577,
          -0.019980310054539038,
          0.4326587327677559,
          0.7896895835572884,
          -0.23714241340427478,
          -2.0773686248685332,
          -0.3679736863687854,
          0.42279998921288264,
          0.8120981431295042,
          -0.5973274619015538,
          -2.6442949407166836,
          -0.969824773800961,
          -1.5727067695695336,
          0.5977441551306417,
          0.1331554089920269
         ],
         "yaxis": "y"
        },
        {
         "mode": "markers",
         "name": "1",
         "type": "scatter",
         "x": [
          -0.588467708450443,
          -2.425075704185392,
          -2.009415193884924,
          -1.744169862303973,
          -0.8409543996120973,
          -2.275617154821654,
          -0.5031756243017333,
          -1.5249671970828702,
          -2.418349800960872,
          -1.518728289734464,
          -1.4637165642323358,
          -0.6691509585936343,
          -2.7599519190657973,
          -2.9989250397338165,
          -2.8336099227066693,
          -2.2209592485343475,
          -2.4211158259705643,
          -2.1156755282676367,
          -2.727099125304905,
          -2.6862147629295046,
          -0.037543567271809464,
          -1.659271984622597,
          -2.5936522037035905,
          -3.2653655426825328,
          -1.9350398765222576,
          -1.4640653463717377,
          -2.5923096487877575,
          -2.8596495934838204,
          -2.3073013499728554,
          -2.0903224196795875,
          -1.5753189977485704,
          -2.2605506269082016,
          -1.5948597438952317,
          -2.489906926622773,
          -2.9449068543738615,
          -2.130496048757374,
          -3.0957527428243963,
          -3.3093968321048495,
          -1.7279427507460992,
          -1.4876561196173512,
          -2.52235454817066,
          -2.6001170959695292
         ],
         "xaxis": "x",
         "y": [
          -2.0233867591993118,
          -0.23308883713685716,
          -2.8677311783669235,
          -0.45875611897643825,
          -1.5757799621584274,
          0.10328799153443304,
          -0.008132532125952911,
          -2.0759263045566776,
          -1.7572175755054753,
          -0.9291078513979568,
          -1.680638418318223,
          1.4036588573342608,
          -1.7454047533591421,
          -1.9579294368874125,
          -0.7514747102203199,
          -0.672576213746819,
          -1.0072660029786673,
          -2.9790798922315984,
          -2.6480509682835556,
          -1.9812367862299964,
          -0.9657295868515527,
          -3.3333311817890805,
          -1.767950658111273,
          -1.7952670841901253,
          -2.1873207328035265,
          -1.3747772093443789,
          -0.418548089865425,
          -0.5862049224626714,
          -0.5988073559395417,
          -0.12910608967455323,
          -0.9791152609386109,
          -1.3916758283418325,
          -0.36012549611466727,
          -1.277736768695488,
          -0.7162867622637535,
          -0.9505977727641176,
          -1.1883741048631573,
          -1.626531127772757,
          -0.9918646331045013,
          -2.4313065844317663,
          -0.29000716110382646,
          2.0315891329699554
         ],
         "yaxis": "y"
        },
        {
         "mode": "markers",
         "name": "2",
         "type": "scatter",
         "x": [
          -0.5204137140343036,
          -2.843528704065343,
          -1.9523750352562317,
          -2.3940604387863873,
          -2.1043744622458322,
          -1.1473995389720693,
          -3.246537134337062,
          -1.9524285389116351,
          -2.6570690516380093,
          -1.2548436622456525,
          -1.6949622519645284,
          -0.9597586065683711,
          -2.910313436436997,
          -1.8754044420531415,
          -1.1731941280396445,
          -2.0303511885516867,
          -1.912775259714973,
          -1.5184976231964673,
          -2.6445348754798217,
          -0.3261257510824772
         ],
         "xaxis": "x",
         "y": [
          4.499745491003538,
          3.165287496883781,
          2.5610001299207164,
          3.5777857801903634,
          3.1818519826232383,
          2.8376595659738797,
          3.5571910091071723,
          2.918174057036131,
          3.753983142225423,
          3.4714529166534085,
          2.7615994256229737,
          2.23889433858673,
          2.9729876195093334,
          3.9461426367237324,
          3.2464404465989904,
          1.2886014359081899,
          3.971508540371282,
          3.829525170810342,
          3.5196150472208076,
          4.086200710833192
         ],
         "yaxis": "y"
        },
        {
         "mode": "markers",
         "name": "3",
         "type": "scatter",
         "x": [
          1.6674208909592927,
          0.010503140396949691,
          4.120963512124205,
          0.10350505526920574,
          3.6354013199398976,
          -2.2958521681770425,
          1.210756479411488,
          -0.3336104099919142,
          -2.2625455317280343,
          3.524143895315713,
          3.079365721807298,
          -0.8191894257537885,
          -1.2875509235103784,
          -0.22084004369299115,
          -1.360392922117264,
          -2.1220509650562493,
          3.8151830544878553,
          -2.4507839409448358,
          -2.3684514034680997,
          -2.8142587719190524,
          -2.1230858532518897,
          -2.531984839271786,
          -3.044146903499509,
          3.3263867177778472,
          -3.5223502210430486,
          -2.381138192074775,
          -2.0308478562626258,
          -1.0783126038540105
         ],
         "xaxis": "x",
         "y": [
          0.7162981045831687,
          -0.3575299506525828,
          -0.949158126612051,
          -0.20701605264119113,
          -0.27819774825799826,
          -1.2624299452839676,
          0.48121802753354115,
          0.6947487124496449,
          -2.0231515028744522,
          -1.1867887911271453,
          -1.1984613417575165,
          1.2213576294858457,
          0.38418845026425136,
          0.5150955660262727,
          1.4493596263154913,
          -0.8904018677643302,
          -0.38189846787409176,
          -1.0171228306075102,
          -1.0858406328230035,
          -0.3186101671401287,
          -0.9641319506962814,
          -1.7676299769157846,
          -1.832768268460767,
          0.5103881274419099,
          -1.5972656070897269,
          -0.19499126956621302,
          -1.252076446550308,
          -1.6531879052387832
         ],
         "yaxis": "y"
        },
        {
         "marker": {
          "color": "rgba(135, 206, 250, 0)",
          "line": {
           "color": "red",
           "width": 5
          },
          "opacity": 1,
          "size": 25
         },
         "mode": "markers",
         "showlegend": false,
         "type": "scatter",
         "x": [
          -2.843528704065343
         ],
         "xaxis": "x",
         "y": [
          3.165287496883781
         ],
         "yaxis": "y"
        },
        {
         "marker": {
          "color": [
           7.796841412914378e-271,
           1.4424649316093515e-230,
           7.018647506185039e-194,
           9.296777812850296e-161,
           3.5076910604247147e-131,
           4.007869824760867e-105,
           1.5124012239371914e-82,
           2.1576524103359547e-63,
           1.499252354231263e-47,
           8.629899785955149e-35,
           8.1059470127481185e-25,
           1.677814478640588e-17,
           1.1329486356724401e-12,
           6.185090174793824e-10,
           1.2916867325109509e-08,
           2.6822291801041467e-08,
           9.515007177907685e-09,
           1.3892689497664919e-09,
           1.516289576200578e-10,
           7.2490496772238306e-12,
           1.3735789672775942e-261,
           1.6157272850074442e-221,
           4.7099946329312684e-185,
           3.4792437311791155e-152,
           6.708013276531281e-123,
           3.513928418749984e-97,
           5.291428915369459e-75,
           2.4887130060703223e-56,
           4.173873128995348e-41,
           3.197859204643736e-29,
           1.9791647612067585e-20,
           3.0779068968909994e-14,
           4.566259547392369e-10,
           1.0406191300924195e-07,
           5.109230762977867e-07,
           1.8716949015924477e-07,
           6.868797764246748e-08,
           6.014785872392158e-08,
           1.9480469922747062e-08,
           5.7980166965625165e-09,
           4.34408334977287e-255,
           3.735023742331766e-215,
           7.624184717898099e-179,
           3.7427586095675055e-146,
           4.4952212831542495e-117,
           1.3523280816044063e-91,
           1.05343280334845e-69,
           2.231367763052302e-51,
           1.387463333565517e-36,
           2.8892318153195873e-25,
           2.642727510875515e-17,
           3.491084352899137e-12,
           2.0367952068499626e-08,
           1.319681877299397e-06,
           5.12098346153326e-06,
           3.1399228392667393e-06,
           1.0511281266836659e-06,
           1.1501758138199874e-06,
           7.282738649290481e-07,
           3.6285220321442316e-07,
           2.6081595712221013e-251,
           1.906246520405021e-211,
           3.232650356453188e-175,
           1.2816385286689157e-142,
           1.1999778266290694e-113,
           2.6898435828891074e-88,
           1.471413129233089e-66,
           2.0193417812593756e-48,
           7.250003088424377e-34,
           7.289187148054855e-23,
           2.341354053905317e-15,
           4.784699868470974e-11,
           5.706291805567325e-08,
           3.839561793109073e-06,
           2.885072637295991e-05,
           2.8291803092470855e-05,
           6.472241031054563e-06,
           4.420760503670378e-06,
           2.6668584203035836e-06,
           2.248625067290242e-06,
           3.061740142979406e-250,
           2.2262849370965555e-210,
           3.7521497251375194e-174,
           1.4764147645610766e-141,
           1.3693578382050393e-112,
           3.0325828127621893e-87,
           1.6325530777839075e-65,
           2.1918185377806062e-47,
           7.624786189510822e-33,
           7.303349548024551e-22,
           2.151314488896595e-14,
           2.8857405502797456e-10,
           4.5048460124203156e-08,
           3.3629219101404534e-06,
           2.930497965946686e-05,
           3.326610737017405e-05,
           1.3505434778479199e-05,
           9.842916303413105e-06,
           2.9733256008861317e-06,
           3.305096391910383e-06,
           7.036246999103692e-252,
           5.959419862542065e-212,
           1.1948116346722332e-175,
           5.738636994338735e-143,
           6.708021866170758e-114,
           1.949699611443671e-88,
           1.4519490232611816e-66,
           2.8940886921510265e-48,
           1.6516738609989824e-33,
           3.0245829779460534e-22,
           2.218908799213231e-14,
           1.063595839467428e-09,
           8.091315829581601e-08,
           8.205570517251079e-07,
           1.1040576487594279e-05,
           1.935957769302203e-05,
           9.350002091263066e-06,
           4.393570153846237e-06,
           3.6846659681006634e-06,
           1.5357161191960876e-06,
           3.0808136780740916e-256,
           3.5384282173139307e-216,
           1.0027359040424995e-179,
           7.159638069384503e-147,
           1.324125495372805e-117,
           6.584261455439585e-92,
           9.2707021186087e-70,
           3.981344575642172e-51,
           5.828973659004024e-36,
           3.46488937737644e-24,
           1.1106444453423191e-15,
           2.985663824997962e-10,
           1.2026049512878886e-07,
           2.2934634058149374e-07,
           1.1834323663840404e-06,
           5.45725387565156e-06,
           4.620722020610635e-06,
           2.9111354792957488e-06,
           2.2176135221247073e-06,
           1.1159341564996411e-07,
           2.435053169906362e-263,
           4.3667498288628736e-223,
           2.0486765921735927e-186,
           2.598786113741676e-153,
           9.305672141889252e-124,
           9.960665789832126e-98,
           3.4452168793450656e-75,
           4.29131598993827e-56,
           2.246068042113631e-40,
           6.17767432443916e-28,
           1.234330150001483e-18,
           2.8236934180627702e-12,
           1.3763498928531416e-08,
           3.683980799898967e-07,
           4.143200848858246e-07,
           7.418786753010236e-07,
           1.3902919042502268e-06,
           4.7123676132510017e-07,
           3.5571517841391493e-08,
           1.170285954474777e-09,
           3.2145389051383994e-273,
           1.0205215622802593e-232,
           9.103444623239393e-196,
           2.390190353041432e-162,
           1.960926669233374e-132,
           5.435014512115668e-106,
           7.28942105384397e-83,
           2.5246606504205056e-63,
           5.879782376540204e-47,
           9.246910116394603e-34,
           1.4009299211885853e-23,
           3.310648616869217e-16,
           2.355869420715731e-11,
           1.271293148862035e-08,
           1.7854318188253338e-07,
           2.368895560248058e-07,
           8.105020724740895e-08,
           1.0416186803404739e-08,
           8.045584296324329e-10,
           1.4285044415289804e-11,
           6.43014277500333e-286,
           4.02354030121625e-245,
           7.6604241136599e-208,
           4.711409388591226e-174,
           1.0097906434902553e-143,
           8.31086052424437e-117,
           2.9778176229532128e-93,
           5.471062292804519e-73,
           6.388713655545658e-56,
           6.286759035133571e-42,
           7.542899933109418e-31,
           1.7847280972567545e-22,
           1.5493587016325761e-16,
           1.0778679327605541e-12,
           1.4805319612937302e-10,
           9.609478425707086e-10,
           5.639583229305118e-10,
           4.143014413542062e-11,
           4.787978315514947e-13,
           6.391565038941158e-16,
           1.7420434376549432e-301,
           2.3455284896287863e-260,
           1.0444143856361917e-222,
           1.652970595078558e-188,
           1.0171912950280699e-157,
           2.7238071275612763e-130,
           3.658265350102017e-106,
           2.950304632124444e-85,
           1.7953159234819953e-67,
           1.1006977242289984e-52,
           9.779731870932805e-41,
           1.977510932823029e-31,
           1.573418345045114e-24,
           9.293259991857619e-20,
           7.998864200441437e-17,
           1.865500331232216e-15,
           1.857563315082073e-15,
           9.87697921669055e-17,
           2.9281894068393804e-19,
           4.1030992651016317e-23,
           5.6556e-320,
           1.7539591692793254e-278,
           1.9548600674148392e-240,
           8.502258496462744e-206,
           1.5960248809651532e-174,
           1.4635869957058661e-146,
           7.637727122032846e-122,
           2.7380664509505375e-100,
           8.501374816000604e-82,
           3.0351973475765156e-66,
           1.7554251582381824e-53,
           2.469858380561191e-43,
           1.3493177367219872e-35,
           4.769210165452752e-30,
           1.8223135182090848e-26,
           1.1860734033678923e-24,
           1.8276450205742972e-24,
           7.812217924990428e-26,
           9.11382844686765e-29,
           2.41176600392855e-33,
           0,
           1.4528844912672368e-299,
           4.244048752137533e-261,
           5.281196215843816e-226,
           3.1204623043038584e-194,
           9.977987490500226e-166,
           2.0214841554387112e-140,
           3.1364911559764663e-118,
           4.675953023809345e-99,
           8.763402618168379e-83,
           2.8253395237061606e-69,
           2.240589189478293e-58,
           6.478354827766449e-50,
           1.0299801221000087e-43,
           1.3391242194554783e-39,
           2.003244764622344e-37,
           4.398724607788019e-37,
           1.589222965192021e-38,
           9.191487514473737e-42,
           7.201239182203767e-47,
           0,
           1e-323,
           9.05285228383975e-285,
           3.2836868897717206e-249,
           6.152193818557963e-217,
           6.806080257105552e-188,
           5.206467020425357e-162,
           3.3153928159633305e-139,
           2.1816061133708184e-119,
           1.9027715377582756e-102,
           2.914963726362508e-88,
           1.0696693548091297e-76,
           1.3072044146124344e-67,
           7.416721025526031e-61,
           2.6668017353222844e-56,
           7.892274193039517e-54,
           2.3092614839820626e-53,
           7.263720906525135e-55,
           2.392185097777099e-58,
           7.20489226888139e-64,
           0,
           0,
           1.617787174947e-311,
           1.7120346521586814e-275,
           1.0055894848442026e-242,
           3.746490200428932e-213,
           1.0332886769202387e-186,
           2.519707451172368e-163,
           6.649918613406815e-143,
           2.3832056342941946e-125,
           1.4886986041077864e-110,
           2.1175936425630185e-98,
           9.037320727624919e-89,
           1.5165078262611726e-81,
           1.28102981962672e-76,
           6.676152538951965e-74,
           2.4701084469624796e-73,
           6.906956889817356e-75,
           1.4266828262511483e-78,
           1.9556694327910274e-84,
           0,
           0,
           0,
           6.353035726542465e-305,
           1.1405503342213019e-271,
           1.3745676722543753e-241,
           1.2900612673745933e-214,
           1.114598882208304e-190,
           1.0682452957412482e-169,
           1.3935145473767097e-151,
           3.0824582528811723e-136,
           1.454724487922539e-123,
           1.8459796302319593e-113,
           7.861988471213717e-106,
           1.370587875490194e-100,
           1.1484804799520077e-97,
           5.159810176025397e-97,
           1.303507187997524e-98,
           1.816455296074923e-102,
           1.2823201524288603e-108,
           0,
           0,
           0,
           0,
           7.653270107100167e-304,
           2.8412955342760516e-273,
           8.509837849424203e-246,
           2.4027827095937894e-221,
           7.58335734034144e-200,
           3.21297358014993e-181,
           2.2160418911513246e-165,
           3.030935457365817e-152,
           9.988343019244433e-142,
           9.525547500411475e-134,
           3.0888665375551464e-128,
           3.873329896780432e-125,
           2.047628438217876e-124,
           4.735117737097865e-126,
           4.7135251518894195e-130,
           1.886384546072528e-136,
           0,
           0,
           0,
           0,
           0,
           2.8578732717185095e-308,
           2.55489008921793e-280,
           2.1755718885461735e-255,
           2.0594959418828636e-233,
           2.551852692202832e-214,
           4.899907984132896e-198,
           1.7278378624822132e-184,
           1.3193418447558794e-173,
           2.5409350823702383e-165,
           1.4089580518826191e-159,
           2.4966928935055547e-156,
           1.5151979886070866e-155,
           3.242311589140456e-157,
           2.4136249080423645e-161,
           5.91329480388647e-168,
           0,
           0,
           0,
           0,
           0,
           0,
           3.07459e-318,
           7.30662924172977e-293,
           1.9011289991866406e-270,
           6.262736289019461e-251,
           3.0283646884681776e-234,
           2.4886582680337393e-220,
           3.998326498855075e-209,
           1.4273136550064853e-200,
           1.2633960192355854e-194,
           3.020601317561178e-191,
           2.06357226793143e-190,
           4.1233186667672476e-192,
           2.38256017755218e-196,
           3.8039077674990045e-203,
           0,
           0,
           0,
           0,
           0,
           0,
           0,
           0,
           5.412206883913e-311,
           4.349868582642481e-291,
           4.848771238599074e-274,
           8.509600621411908e-260,
           2.6504496778509208e-248,
           1.6324013832037573e-239,
           2.1791747825797916e-233,
           6.768951540927777e-230,
           5.124079957568733e-229,
           9.633949552558183e-231,
           4.455601916515749e-235,
           4.880900641053631e-242
          ],
          "colorbar": {
           "title": {
            "text": "ColorBar"
           }
          },
          "colorscale": [
           [
            0,
            "#440154"
           ],
           [
            0.1111111111111111,
            "#482878"
           ],
           [
            0.2222222222222222,
            "#3e4989"
           ],
           [
            0.3333333333333333,
            "#31688e"
           ],
           [
            0.4444444444444444,
            "#26828e"
           ],
           [
            0.5555555555555556,
            "#1f9e89"
           ],
           [
            0.6666666666666666,
            "#35b779"
           ],
           [
            0.7777777777777778,
            "#6ece58"
           ],
           [
            0.8888888888888888,
            "#b5de2b"
           ],
           [
            1,
            "#fde725"
           ]
          ],
          "line": {
           "width": 0
          },
          "opacity": 1,
          "size": 25,
          "symbol": "circle"
         },
         "mode": "markers",
         "type": "scatter",
         "x": [
          -3.5223502210430486,
          -3.5223502210430486,
          -3.5223502210430486,
          -3.5223502210430486,
          -3.5223502210430486,
          -3.5223502210430486,
          -3.5223502210430486,
          -3.5223502210430486,
          -3.5223502210430486,
          -3.5223502210430486,
          -3.5223502210430486,
          -3.5223502210430486,
          -3.5223502210430486,
          -3.5223502210430486,
          -3.5223502210430486,
          -3.5223502210430486,
          -3.5223502210430486,
          -3.5223502210430486,
          -3.5223502210430486,
          -3.5223502210430486,
          -3.1041604881282794,
          -3.1041604881282794,
          -3.1041604881282794,
          -3.1041604881282794,
          -3.1041604881282794,
          -3.1041604881282794,
          -3.1041604881282794,
          -3.1041604881282794,
          -3.1041604881282794,
          -3.1041604881282794,
          -3.1041604881282794,
          -3.1041604881282794,
          -3.1041604881282794,
          -3.1041604881282794,
          -3.1041604881282794,
          -3.1041604881282794,
          -3.1041604881282794,
          -3.1041604881282794,
          -3.1041604881282794,
          -3.1041604881282794,
          -2.6859707552135097,
          -2.6859707552135097,
          -2.6859707552135097,
          -2.6859707552135097,
          -2.6859707552135097,
          -2.6859707552135097,
          -2.6859707552135097,
          -2.6859707552135097,
          -2.6859707552135097,
          -2.6859707552135097,
          -2.6859707552135097,
          -2.6859707552135097,
          -2.6859707552135097,
          -2.6859707552135097,
          -2.6859707552135097,
          -2.6859707552135097,
          -2.6859707552135097,
          -2.6859707552135097,
          -2.6859707552135097,
          -2.6859707552135097,
          -2.2677810222987405,
          -2.2677810222987405,
          -2.2677810222987405,
          -2.2677810222987405,
          -2.2677810222987405,
          -2.2677810222987405,
          -2.2677810222987405,
          -2.2677810222987405,
          -2.2677810222987405,
          -2.2677810222987405,
          -2.2677810222987405,
          -2.2677810222987405,
          -2.2677810222987405,
          -2.2677810222987405,
          -2.2677810222987405,
          -2.2677810222987405,
          -2.2677810222987405,
          -2.2677810222987405,
          -2.2677810222987405,
          -2.2677810222987405,
          -1.8495912893839712,
          -1.8495912893839712,
          -1.8495912893839712,
          -1.8495912893839712,
          -1.8495912893839712,
          -1.8495912893839712,
          -1.8495912893839712,
          -1.8495912893839712,
          -1.8495912893839712,
          -1.8495912893839712,
          -1.8495912893839712,
          -1.8495912893839712,
          -1.8495912893839712,
          -1.8495912893839712,
          -1.8495912893839712,
          -1.8495912893839712,
          -1.8495912893839712,
          -1.8495912893839712,
          -1.8495912893839712,
          -1.8495912893839712,
          -1.431401556469202,
          -1.431401556469202,
          -1.431401556469202,
          -1.431401556469202,
          -1.431401556469202,
          -1.431401556469202,
          -1.431401556469202,
          -1.431401556469202,
          -1.431401556469202,
          -1.431401556469202,
          -1.431401556469202,
          -1.431401556469202,
          -1.431401556469202,
          -1.431401556469202,
          -1.431401556469202,
          -1.431401556469202,
          -1.431401556469202,
          -1.431401556469202,
          -1.431401556469202,
          -1.431401556469202,
          -1.0132118235544323,
          -1.0132118235544323,
          -1.0132118235544323,
          -1.0132118235544323,
          -1.0132118235544323,
          -1.0132118235544323,
          -1.0132118235544323,
          -1.0132118235544323,
          -1.0132118235544323,
          -1.0132118235544323,
          -1.0132118235544323,
          -1.0132118235544323,
          -1.0132118235544323,
          -1.0132118235544323,
          -1.0132118235544323,
          -1.0132118235544323,
          -1.0132118235544323,
          -1.0132118235544323,
          -1.0132118235544323,
          -1.0132118235544323,
          -0.595022090639663,
          -0.595022090639663,
          -0.595022090639663,
          -0.595022090639663,
          -0.595022090639663,
          -0.595022090639663,
          -0.595022090639663,
          -0.595022090639663,
          -0.595022090639663,
          -0.595022090639663,
          -0.595022090639663,
          -0.595022090639663,
          -0.595022090639663,
          -0.595022090639663,
          -0.595022090639663,
          -0.595022090639663,
          -0.595022090639663,
          -0.595022090639663,
          -0.595022090639663,
          -0.595022090639663,
          -0.1768323577248938,
          -0.1768323577248938,
          -0.1768323577248938,
          -0.1768323577248938,
          -0.1768323577248938,
          -0.1768323577248938,
          -0.1768323577248938,
          -0.1768323577248938,
          -0.1768323577248938,
          -0.1768323577248938,
          -0.1768323577248938,
          -0.1768323577248938,
          -0.1768323577248938,
          -0.1768323577248938,
          -0.1768323577248938,
          -0.1768323577248938,
          -0.1768323577248938,
          -0.1768323577248938,
          -0.1768323577248938,
          -0.1768323577248938,
          0.24135737518987543,
          0.24135737518987543,
          0.24135737518987543,
          0.24135737518987543,
          0.24135737518987543,
          0.24135737518987543,
          0.24135737518987543,
          0.24135737518987543,
          0.24135737518987543,
          0.24135737518987543,
          0.24135737518987543,
          0.24135737518987543,
          0.24135737518987543,
          0.24135737518987543,
          0.24135737518987543,
          0.24135737518987543,
          0.24135737518987543,
          0.24135737518987543,
          0.24135737518987543,
          0.24135737518987543,
          0.6595471081046447,
          0.6595471081046447,
          0.6595471081046447,
          0.6595471081046447,
          0.6595471081046447,
          0.6595471081046447,
          0.6595471081046447,
          0.6595471081046447,
          0.6595471081046447,
          0.6595471081046447,
          0.6595471081046447,
          0.6595471081046447,
          0.6595471081046447,
          0.6595471081046447,
          0.6595471081046447,
          0.6595471081046447,
          0.6595471081046447,
          0.6595471081046447,
          0.6595471081046447,
          0.6595471081046447,
          1.0777368410194144,
          1.0777368410194144,
          1.0777368410194144,
          1.0777368410194144,
          1.0777368410194144,
          1.0777368410194144,
          1.0777368410194144,
          1.0777368410194144,
          1.0777368410194144,
          1.0777368410194144,
          1.0777368410194144,
          1.0777368410194144,
          1.0777368410194144,
          1.0777368410194144,
          1.0777368410194144,
          1.0777368410194144,
          1.0777368410194144,
          1.0777368410194144,
          1.0777368410194144,
          1.0777368410194144,
          1.495926573934184,
          1.495926573934184,
          1.495926573934184,
          1.495926573934184,
          1.495926573934184,
          1.495926573934184,
          1.495926573934184,
          1.495926573934184,
          1.495926573934184,
          1.495926573934184,
          1.495926573934184,
          1.495926573934184,
          1.495926573934184,
          1.495926573934184,
          1.495926573934184,
          1.495926573934184,
          1.495926573934184,
          1.495926573934184,
          1.495926573934184,
          1.495926573934184,
          1.9141163068489528,
          1.9141163068489528,
          1.9141163068489528,
          1.9141163068489528,
          1.9141163068489528,
          1.9141163068489528,
          1.9141163068489528,
          1.9141163068489528,
          1.9141163068489528,
          1.9141163068489528,
          1.9141163068489528,
          1.9141163068489528,
          1.9141163068489528,
          1.9141163068489528,
          1.9141163068489528,
          1.9141163068489528,
          1.9141163068489528,
          1.9141163068489528,
          1.9141163068489528,
          1.9141163068489528,
          2.3323060397637225,
          2.3323060397637225,
          2.3323060397637225,
          2.3323060397637225,
          2.3323060397637225,
          2.3323060397637225,
          2.3323060397637225,
          2.3323060397637225,
          2.3323060397637225,
          2.3323060397637225,
          2.3323060397637225,
          2.3323060397637225,
          2.3323060397637225,
          2.3323060397637225,
          2.3323060397637225,
          2.3323060397637225,
          2.3323060397637225,
          2.3323060397637225,
          2.3323060397637225,
          2.3323060397637225,
          2.7504957726784913,
          2.7504957726784913,
          2.7504957726784913,
          2.7504957726784913,
          2.7504957726784913,
          2.7504957726784913,
          2.7504957726784913,
          2.7504957726784913,
          2.7504957726784913,
          2.7504957726784913,
          2.7504957726784913,
          2.7504957726784913,
          2.7504957726784913,
          2.7504957726784913,
          2.7504957726784913,
          2.7504957726784913,
          2.7504957726784913,
          2.7504957726784913,
          2.7504957726784913,
          2.7504957726784913,
          3.168685505593261,
          3.168685505593261,
          3.168685505593261,
          3.168685505593261,
          3.168685505593261,
          3.168685505593261,
          3.168685505593261,
          3.168685505593261,
          3.168685505593261,
          3.168685505593261,
          3.168685505593261,
          3.168685505593261,
          3.168685505593261,
          3.168685505593261,
          3.168685505593261,
          3.168685505593261,
          3.168685505593261,
          3.168685505593261,
          3.168685505593261,
          3.168685505593261,
          3.5868752385080307,
          3.5868752385080307,
          3.5868752385080307,
          3.5868752385080307,
          3.5868752385080307,
          3.5868752385080307,
          3.5868752385080307,
          3.5868752385080307,
          3.5868752385080307,
          3.5868752385080307,
          3.5868752385080307,
          3.5868752385080307,
          3.5868752385080307,
          3.5868752385080307,
          3.5868752385080307,
          3.5868752385080307,
          3.5868752385080307,
          3.5868752385080307,
          3.5868752385080307,
          3.5868752385080307,
          4.005064971422799,
          4.005064971422799,
          4.005064971422799,
          4.005064971422799,
          4.005064971422799,
          4.005064971422799,
          4.005064971422799,
          4.005064971422799,
          4.005064971422799,
          4.005064971422799,
          4.005064971422799,
          4.005064971422799,
          4.005064971422799,
          4.005064971422799,
          4.005064971422799,
          4.005064971422799,
          4.005064971422799,
          4.005064971422799,
          4.005064971422799,
          4.005064971422799,
          4.423254704337569,
          4.423254704337569,
          4.423254704337569,
          4.423254704337569,
          4.423254704337569,
          4.423254704337569,
          4.423254704337569,
          4.423254704337569,
          4.423254704337569,
          4.423254704337569,
          4.423254704337569,
          4.423254704337569,
          4.423254704337569,
          4.423254704337569,
          4.423254704337569,
          4.423254704337569,
          4.423254704337569,
          4.423254704337569,
          4.423254704337569,
          4.423254704337569
         ],
         "xaxis": "x2",
         "y": [
          -3.3333311817890805,
          -2.921063988484206,
          -2.508796795179331,
          -2.0965296018744564,
          -1.6842624085695819,
          -1.2719952152647074,
          -0.8597280219598327,
          -0.44746082865495795,
          -0.03519363535008324,
          0.37707355795479147,
          0.7893407512596657,
          1.201607944564541,
          1.6138751378694152,
          2.0261423311742903,
          2.4384095244791646,
          2.8506767177840397,
          3.262943911088914,
          3.6752111043937883,
          4.087478297698663,
          4.499745491003538,
          -3.3333311817890805,
          -2.921063988484206,
          -2.508796795179331,
          -2.0965296018744564,
          -1.6842624085695819,
          -1.2719952152647074,
          -0.8597280219598327,
          -0.44746082865495795,
          -0.03519363535008324,
          0.37707355795479147,
          0.7893407512596657,
          1.201607944564541,
          1.6138751378694152,
          2.0261423311742903,
          2.4384095244791646,
          2.8506767177840397,
          3.262943911088914,
          3.6752111043937883,
          4.087478297698663,
          4.499745491003538,
          -3.3333311817890805,
          -2.921063988484206,
          -2.508796795179331,
          -2.0965296018744564,
          -1.6842624085695819,
          -1.2719952152647074,
          -0.8597280219598327,
          -0.44746082865495795,
          -0.03519363535008324,
          0.37707355795479147,
          0.7893407512596657,
          1.201607944564541,
          1.6138751378694152,
          2.0261423311742903,
          2.4384095244791646,
          2.8506767177840397,
          3.262943911088914,
          3.6752111043937883,
          4.087478297698663,
          4.499745491003538,
          -3.3333311817890805,
          -2.921063988484206,
          -2.508796795179331,
          -2.0965296018744564,
          -1.6842624085695819,
          -1.2719952152647074,
          -0.8597280219598327,
          -0.44746082865495795,
          -0.03519363535008324,
          0.37707355795479147,
          0.7893407512596657,
          1.201607944564541,
          1.6138751378694152,
          2.0261423311742903,
          2.4384095244791646,
          2.8506767177840397,
          3.262943911088914,
          3.6752111043937883,
          4.087478297698663,
          4.499745491003538,
          -3.3333311817890805,
          -2.921063988484206,
          -2.508796795179331,
          -2.0965296018744564,
          -1.6842624085695819,
          -1.2719952152647074,
          -0.8597280219598327,
          -0.44746082865495795,
          -0.03519363535008324,
          0.37707355795479147,
          0.7893407512596657,
          1.201607944564541,
          1.6138751378694152,
          2.0261423311742903,
          2.4384095244791646,
          2.8506767177840397,
          3.262943911088914,
          3.6752111043937883,
          4.087478297698663,
          4.499745491003538,
          -3.3333311817890805,
          -2.921063988484206,
          -2.508796795179331,
          -2.0965296018744564,
          -1.6842624085695819,
          -1.2719952152647074,
          -0.8597280219598327,
          -0.44746082865495795,
          -0.03519363535008324,
          0.37707355795479147,
          0.7893407512596657,
          1.201607944564541,
          1.6138751378694152,
          2.0261423311742903,
          2.4384095244791646,
          2.8506767177840397,
          3.262943911088914,
          3.6752111043937883,
          4.087478297698663,
          4.499745491003538,
          -3.3333311817890805,
          -2.921063988484206,
          -2.508796795179331,
          -2.0965296018744564,
          -1.6842624085695819,
          -1.2719952152647074,
          -0.8597280219598327,
          -0.44746082865495795,
          -0.03519363535008324,
          0.37707355795479147,
          0.7893407512596657,
          1.201607944564541,
          1.6138751378694152,
          2.0261423311742903,
          2.4384095244791646,
          2.8506767177840397,
          3.262943911088914,
          3.6752111043937883,
          4.087478297698663,
          4.499745491003538,
          -3.3333311817890805,
          -2.921063988484206,
          -2.508796795179331,
          -2.0965296018744564,
          -1.6842624085695819,
          -1.2719952152647074,
          -0.8597280219598327,
          -0.44746082865495795,
          -0.03519363535008324,
          0.37707355795479147,
          0.7893407512596657,
          1.201607944564541,
          1.6138751378694152,
          2.0261423311742903,
          2.4384095244791646,
          2.8506767177840397,
          3.262943911088914,
          3.6752111043937883,
          4.087478297698663,
          4.499745491003538,
          -3.3333311817890805,
          -2.921063988484206,
          -2.508796795179331,
          -2.0965296018744564,
          -1.6842624085695819,
          -1.2719952152647074,
          -0.8597280219598327,
          -0.44746082865495795,
          -0.03519363535008324,
          0.37707355795479147,
          0.7893407512596657,
          1.201607944564541,
          1.6138751378694152,
          2.0261423311742903,
          2.4384095244791646,
          2.8506767177840397,
          3.262943911088914,
          3.6752111043937883,
          4.087478297698663,
          4.499745491003538,
          -3.3333311817890805,
          -2.921063988484206,
          -2.508796795179331,
          -2.0965296018744564,
          -1.6842624085695819,
          -1.2719952152647074,
          -0.8597280219598327,
          -0.44746082865495795,
          -0.03519363535008324,
          0.37707355795479147,
          0.7893407512596657,
          1.201607944564541,
          1.6138751378694152,
          2.0261423311742903,
          2.4384095244791646,
          2.8506767177840397,
          3.262943911088914,
          3.6752111043937883,
          4.087478297698663,
          4.499745491003538,
          -3.3333311817890805,
          -2.921063988484206,
          -2.508796795179331,
          -2.0965296018744564,
          -1.6842624085695819,
          -1.2719952152647074,
          -0.8597280219598327,
          -0.44746082865495795,
          -0.03519363535008324,
          0.37707355795479147,
          0.7893407512596657,
          1.201607944564541,
          1.6138751378694152,
          2.0261423311742903,
          2.4384095244791646,
          2.8506767177840397,
          3.262943911088914,
          3.6752111043937883,
          4.087478297698663,
          4.499745491003538,
          -3.3333311817890805,
          -2.921063988484206,
          -2.508796795179331,
          -2.0965296018744564,
          -1.6842624085695819,
          -1.2719952152647074,
          -0.8597280219598327,
          -0.44746082865495795,
          -0.03519363535008324,
          0.37707355795479147,
          0.7893407512596657,
          1.201607944564541,
          1.6138751378694152,
          2.0261423311742903,
          2.4384095244791646,
          2.8506767177840397,
          3.262943911088914,
          3.6752111043937883,
          4.087478297698663,
          4.499745491003538,
          -3.3333311817890805,
          -2.921063988484206,
          -2.508796795179331,
          -2.0965296018744564,
          -1.6842624085695819,
          -1.2719952152647074,
          -0.8597280219598327,
          -0.44746082865495795,
          -0.03519363535008324,
          0.37707355795479147,
          0.7893407512596657,
          1.201607944564541,
          1.6138751378694152,
          2.0261423311742903,
          2.4384095244791646,
          2.8506767177840397,
          3.262943911088914,
          3.6752111043937883,
          4.087478297698663,
          4.499745491003538,
          -3.3333311817890805,
          -2.921063988484206,
          -2.508796795179331,
          -2.0965296018744564,
          -1.6842624085695819,
          -1.2719952152647074,
          -0.8597280219598327,
          -0.44746082865495795,
          -0.03519363535008324,
          0.37707355795479147,
          0.7893407512596657,
          1.201607944564541,
          1.6138751378694152,
          2.0261423311742903,
          2.4384095244791646,
          2.8506767177840397,
          3.262943911088914,
          3.6752111043937883,
          4.087478297698663,
          4.499745491003538,
          -3.3333311817890805,
          -2.921063988484206,
          -2.508796795179331,
          -2.0965296018744564,
          -1.6842624085695819,
          -1.2719952152647074,
          -0.8597280219598327,
          -0.44746082865495795,
          -0.03519363535008324,
          0.37707355795479147,
          0.7893407512596657,
          1.201607944564541,
          1.6138751378694152,
          2.0261423311742903,
          2.4384095244791646,
          2.8506767177840397,
          3.262943911088914,
          3.6752111043937883,
          4.087478297698663,
          4.499745491003538,
          -3.3333311817890805,
          -2.921063988484206,
          -2.508796795179331,
          -2.0965296018744564,
          -1.6842624085695819,
          -1.2719952152647074,
          -0.8597280219598327,
          -0.44746082865495795,
          -0.03519363535008324,
          0.37707355795479147,
          0.7893407512596657,
          1.201607944564541,
          1.6138751378694152,
          2.0261423311742903,
          2.4384095244791646,
          2.8506767177840397,
          3.262943911088914,
          3.6752111043937883,
          4.087478297698663,
          4.499745491003538,
          -3.3333311817890805,
          -2.921063988484206,
          -2.508796795179331,
          -2.0965296018744564,
          -1.6842624085695819,
          -1.2719952152647074,
          -0.8597280219598327,
          -0.44746082865495795,
          -0.03519363535008324,
          0.37707355795479147,
          0.7893407512596657,
          1.201607944564541,
          1.6138751378694152,
          2.0261423311742903,
          2.4384095244791646,
          2.8506767177840397,
          3.262943911088914,
          3.6752111043937883,
          4.087478297698663,
          4.499745491003538,
          -3.3333311817890805,
          -2.921063988484206,
          -2.508796795179331,
          -2.0965296018744564,
          -1.6842624085695819,
          -1.2719952152647074,
          -0.8597280219598327,
          -0.44746082865495795,
          -0.03519363535008324,
          0.37707355795479147,
          0.7893407512596657,
          1.201607944564541,
          1.6138751378694152,
          2.0261423311742903,
          2.4384095244791646,
          2.8506767177840397,
          3.262943911088914,
          3.6752111043937883,
          4.087478297698663,
          4.499745491003538,
          -3.3333311817890805,
          -2.921063988484206,
          -2.508796795179331,
          -2.0965296018744564,
          -1.6842624085695819,
          -1.2719952152647074,
          -0.8597280219598327,
          -0.44746082865495795,
          -0.03519363535008324,
          0.37707355795479147,
          0.7893407512596657,
          1.201607944564541,
          1.6138751378694152,
          2.0261423311742903,
          2.4384095244791646,
          2.8506767177840397,
          3.262943911088914,
          3.6752111043937883,
          4.087478297698663,
          4.499745491003538,
          -3.3333311817890805,
          -2.921063988484206,
          -2.508796795179331,
          -2.0965296018744564,
          -1.6842624085695819,
          -1.2719952152647074,
          -0.8597280219598327,
          -0.44746082865495795,
          -0.03519363535008324,
          0.37707355795479147,
          0.7893407512596657,
          1.201607944564541,
          1.6138751378694152,
          2.0261423311742903,
          2.4384095244791646,
          2.8506767177840397,
          3.262943911088914,
          3.6752111043937883,
          4.087478297698663,
          4.499745491003538
         ],
         "yaxis": "y2"
        }
       ],
       "layout": {
        "annotations": [
         {
          "font": {
           "size": 16
          },
          "showarrow": false,
          "text": "coords",
          "x": 0.225,
          "xanchor": "center",
          "xref": "paper",
          "y": 1,
          "yanchor": "bottom",
          "yref": "paper"
         },
         {
          "font": {
           "size": 16
          },
          "showarrow": false,
          "text": "coords",
          "x": 0.775,
          "xanchor": "center",
          "xref": "paper",
          "y": 1,
          "yanchor": "bottom",
          "yref": "paper"
         }
        ],
        "template": {
         "data": {
          "bar": [
           {
            "error_x": {
             "color": "#2a3f5f"
            },
            "error_y": {
             "color": "#2a3f5f"
            },
            "marker": {
             "line": {
              "color": "#E5ECF6",
              "width": 0.5
             }
            },
            "type": "bar"
           }
          ],
          "barpolar": [
           {
            "marker": {
             "line": {
              "color": "#E5ECF6",
              "width": 0.5
             }
            },
            "type": "barpolar"
           }
          ],
          "carpet": [
           {
            "aaxis": {
             "endlinecolor": "#2a3f5f",
             "gridcolor": "white",
             "linecolor": "white",
             "minorgridcolor": "white",
             "startlinecolor": "#2a3f5f"
            },
            "baxis": {
             "endlinecolor": "#2a3f5f",
             "gridcolor": "white",
             "linecolor": "white",
             "minorgridcolor": "white",
             "startlinecolor": "#2a3f5f"
            },
            "type": "carpet"
           }
          ],
          "choropleth": [
           {
            "colorbar": {
             "outlinewidth": 0,
             "ticks": ""
            },
            "type": "choropleth"
           }
          ],
          "contour": [
           {
            "colorbar": {
             "outlinewidth": 0,
             "ticks": ""
            },
            "colorscale": [
             [
              0,
              "#0d0887"
             ],
             [
              0.1111111111111111,
              "#46039f"
             ],
             [
              0.2222222222222222,
              "#7201a8"
             ],
             [
              0.3333333333333333,
              "#9c179e"
             ],
             [
              0.4444444444444444,
              "#bd3786"
             ],
             [
              0.5555555555555556,
              "#d8576b"
             ],
             [
              0.6666666666666666,
              "#ed7953"
             ],
             [
              0.7777777777777778,
              "#fb9f3a"
             ],
             [
              0.8888888888888888,
              "#fdca26"
             ],
             [
              1,
              "#f0f921"
             ]
            ],
            "type": "contour"
           }
          ],
          "contourcarpet": [
           {
            "colorbar": {
             "outlinewidth": 0,
             "ticks": ""
            },
            "type": "contourcarpet"
           }
          ],
          "heatmap": [
           {
            "colorbar": {
             "outlinewidth": 0,
             "ticks": ""
            },
            "colorscale": [
             [
              0,
              "#0d0887"
             ],
             [
              0.1111111111111111,
              "#46039f"
             ],
             [
              0.2222222222222222,
              "#7201a8"
             ],
             [
              0.3333333333333333,
              "#9c179e"
             ],
             [
              0.4444444444444444,
              "#bd3786"
             ],
             [
              0.5555555555555556,
              "#d8576b"
             ],
             [
              0.6666666666666666,
              "#ed7953"
             ],
             [
              0.7777777777777778,
              "#fb9f3a"
             ],
             [
              0.8888888888888888,
              "#fdca26"
             ],
             [
              1,
              "#f0f921"
             ]
            ],
            "type": "heatmap"
           }
          ],
          "heatmapgl": [
           {
            "colorbar": {
             "outlinewidth": 0,
             "ticks": ""
            },
            "colorscale": [
             [
              0,
              "#0d0887"
             ],
             [
              0.1111111111111111,
              "#46039f"
             ],
             [
              0.2222222222222222,
              "#7201a8"
             ],
             [
              0.3333333333333333,
              "#9c179e"
             ],
             [
              0.4444444444444444,
              "#bd3786"
             ],
             [
              0.5555555555555556,
              "#d8576b"
             ],
             [
              0.6666666666666666,
              "#ed7953"
             ],
             [
              0.7777777777777778,
              "#fb9f3a"
             ],
             [
              0.8888888888888888,
              "#fdca26"
             ],
             [
              1,
              "#f0f921"
             ]
            ],
            "type": "heatmapgl"
           }
          ],
          "histogram": [
           {
            "marker": {
             "colorbar": {
              "outlinewidth": 0,
              "ticks": ""
             }
            },
            "type": "histogram"
           }
          ],
          "histogram2d": [
           {
            "colorbar": {
             "outlinewidth": 0,
             "ticks": ""
            },
            "colorscale": [
             [
              0,
              "#0d0887"
             ],
             [
              0.1111111111111111,
              "#46039f"
             ],
             [
              0.2222222222222222,
              "#7201a8"
             ],
             [
              0.3333333333333333,
              "#9c179e"
             ],
             [
              0.4444444444444444,
              "#bd3786"
             ],
             [
              0.5555555555555556,
              "#d8576b"
             ],
             [
              0.6666666666666666,
              "#ed7953"
             ],
             [
              0.7777777777777778,
              "#fb9f3a"
             ],
             [
              0.8888888888888888,
              "#fdca26"
             ],
             [
              1,
              "#f0f921"
             ]
            ],
            "type": "histogram2d"
           }
          ],
          "histogram2dcontour": [
           {
            "colorbar": {
             "outlinewidth": 0,
             "ticks": ""
            },
            "colorscale": [
             [
              0,
              "#0d0887"
             ],
             [
              0.1111111111111111,
              "#46039f"
             ],
             [
              0.2222222222222222,
              "#7201a8"
             ],
             [
              0.3333333333333333,
              "#9c179e"
             ],
             [
              0.4444444444444444,
              "#bd3786"
             ],
             [
              0.5555555555555556,
              "#d8576b"
             ],
             [
              0.6666666666666666,
              "#ed7953"
             ],
             [
              0.7777777777777778,
              "#fb9f3a"
             ],
             [
              0.8888888888888888,
              "#fdca26"
             ],
             [
              1,
              "#f0f921"
             ]
            ],
            "type": "histogram2dcontour"
           }
          ],
          "mesh3d": [
           {
            "colorbar": {
             "outlinewidth": 0,
             "ticks": ""
            },
            "type": "mesh3d"
           }
          ],
          "parcoords": [
           {
            "line": {
             "colorbar": {
              "outlinewidth": 0,
              "ticks": ""
             }
            },
            "type": "parcoords"
           }
          ],
          "pie": [
           {
            "automargin": true,
            "type": "pie"
           }
          ],
          "scatter": [
           {
            "marker": {
             "colorbar": {
              "outlinewidth": 0,
              "ticks": ""
             }
            },
            "type": "scatter"
           }
          ],
          "scatter3d": [
           {
            "line": {
             "colorbar": {
              "outlinewidth": 0,
              "ticks": ""
             }
            },
            "marker": {
             "colorbar": {
              "outlinewidth": 0,
              "ticks": ""
             }
            },
            "type": "scatter3d"
           }
          ],
          "scattercarpet": [
           {
            "marker": {
             "colorbar": {
              "outlinewidth": 0,
              "ticks": ""
             }
            },
            "type": "scattercarpet"
           }
          ],
          "scattergeo": [
           {
            "marker": {
             "colorbar": {
              "outlinewidth": 0,
              "ticks": ""
             }
            },
            "type": "scattergeo"
           }
          ],
          "scattergl": [
           {
            "marker": {
             "colorbar": {
              "outlinewidth": 0,
              "ticks": ""
             }
            },
            "type": "scattergl"
           }
          ],
          "scattermapbox": [
           {
            "marker": {
             "colorbar": {
              "outlinewidth": 0,
              "ticks": ""
             }
            },
            "type": "scattermapbox"
           }
          ],
          "scatterpolar": [
           {
            "marker": {
             "colorbar": {
              "outlinewidth": 0,
              "ticks": ""
             }
            },
            "type": "scatterpolar"
           }
          ],
          "scatterpolargl": [
           {
            "marker": {
             "colorbar": {
              "outlinewidth": 0,
              "ticks": ""
             }
            },
            "type": "scatterpolargl"
           }
          ],
          "scatterternary": [
           {
            "marker": {
             "colorbar": {
              "outlinewidth": 0,
              "ticks": ""
             }
            },
            "type": "scatterternary"
           }
          ],
          "surface": [
           {
            "colorbar": {
             "outlinewidth": 0,
             "ticks": ""
            },
            "colorscale": [
             [
              0,
              "#0d0887"
             ],
             [
              0.1111111111111111,
              "#46039f"
             ],
             [
              0.2222222222222222,
              "#7201a8"
             ],
             [
              0.3333333333333333,
              "#9c179e"
             ],
             [
              0.4444444444444444,
              "#bd3786"
             ],
             [
              0.5555555555555556,
              "#d8576b"
             ],
             [
              0.6666666666666666,
              "#ed7953"
             ],
             [
              0.7777777777777778,
              "#fb9f3a"
             ],
             [
              0.8888888888888888,
              "#fdca26"
             ],
             [
              1,
              "#f0f921"
             ]
            ],
            "type": "surface"
           }
          ],
          "table": [
           {
            "cells": {
             "fill": {
              "color": "#EBF0F8"
             },
             "line": {
              "color": "white"
             }
            },
            "header": {
             "fill": {
              "color": "#C8D4E3"
             },
             "line": {
              "color": "white"
             }
            },
            "type": "table"
           }
          ]
         },
         "layout": {
          "annotationdefaults": {
           "arrowcolor": "#2a3f5f",
           "arrowhead": 0,
           "arrowwidth": 1
          },
          "coloraxis": {
           "colorbar": {
            "outlinewidth": 0,
            "ticks": ""
           }
          },
          "colorscale": {
           "diverging": [
            [
             0,
             "#8e0152"
            ],
            [
             0.1,
             "#c51b7d"
            ],
            [
             0.2,
             "#de77ae"
            ],
            [
             0.3,
             "#f1b6da"
            ],
            [
             0.4,
             "#fde0ef"
            ],
            [
             0.5,
             "#f7f7f7"
            ],
            [
             0.6,
             "#e6f5d0"
            ],
            [
             0.7,
             "#b8e186"
            ],
            [
             0.8,
             "#7fbc41"
            ],
            [
             0.9,
             "#4d9221"
            ],
            [
             1,
             "#276419"
            ]
           ],
           "sequential": [
            [
             0,
             "#0d0887"
            ],
            [
             0.1111111111111111,
             "#46039f"
            ],
            [
             0.2222222222222222,
             "#7201a8"
            ],
            [
             0.3333333333333333,
             "#9c179e"
            ],
            [
             0.4444444444444444,
             "#bd3786"
            ],
            [
             0.5555555555555556,
             "#d8576b"
            ],
            [
             0.6666666666666666,
             "#ed7953"
            ],
            [
             0.7777777777777778,
             "#fb9f3a"
            ],
            [
             0.8888888888888888,
             "#fdca26"
            ],
            [
             1,
             "#f0f921"
            ]
           ],
           "sequentialminus": [
            [
             0,
             "#0d0887"
            ],
            [
             0.1111111111111111,
             "#46039f"
            ],
            [
             0.2222222222222222,
             "#7201a8"
            ],
            [
             0.3333333333333333,
             "#9c179e"
            ],
            [
             0.4444444444444444,
             "#bd3786"
            ],
            [
             0.5555555555555556,
             "#d8576b"
            ],
            [
             0.6666666666666666,
             "#ed7953"
            ],
            [
             0.7777777777777778,
             "#fb9f3a"
            ],
            [
             0.8888888888888888,
             "#fdca26"
            ],
            [
             1,
             "#f0f921"
            ]
           ]
          },
          "colorway": [
           "#636efa",
           "#EF553B",
           "#00cc96",
           "#ab63fa",
           "#FFA15A",
           "#19d3f3",
           "#FF6692",
           "#B6E880",
           "#FF97FF",
           "#FECB52"
          ],
          "font": {
           "color": "#2a3f5f"
          },
          "geo": {
           "bgcolor": "white",
           "lakecolor": "white",
           "landcolor": "#E5ECF6",
           "showlakes": true,
           "showland": true,
           "subunitcolor": "white"
          },
          "hoverlabel": {
           "align": "left"
          },
          "hovermode": "closest",
          "mapbox": {
           "style": "light"
          },
          "paper_bgcolor": "white",
          "plot_bgcolor": "#E5ECF6",
          "polar": {
           "angularaxis": {
            "gridcolor": "white",
            "linecolor": "white",
            "ticks": ""
           },
           "bgcolor": "#E5ECF6",
           "radialaxis": {
            "gridcolor": "white",
            "linecolor": "white",
            "ticks": ""
           }
          },
          "scene": {
           "xaxis": {
            "backgroundcolor": "#E5ECF6",
            "gridcolor": "white",
            "gridwidth": 2,
            "linecolor": "white",
            "showbackground": true,
            "ticks": "",
            "zerolinecolor": "white"
           },
           "yaxis": {
            "backgroundcolor": "#E5ECF6",
            "gridcolor": "white",
            "gridwidth": 2,
            "linecolor": "white",
            "showbackground": true,
            "ticks": "",
            "zerolinecolor": "white"
           },
           "zaxis": {
            "backgroundcolor": "#E5ECF6",
            "gridcolor": "white",
            "gridwidth": 2,
            "linecolor": "white",
            "showbackground": true,
            "ticks": "",
            "zerolinecolor": "white"
           }
          },
          "shapedefaults": {
           "line": {
            "color": "#2a3f5f"
           }
          },
          "ternary": {
           "aaxis": {
            "gridcolor": "white",
            "linecolor": "white",
            "ticks": ""
           },
           "baxis": {
            "gridcolor": "white",
            "linecolor": "white",
            "ticks": ""
           },
           "bgcolor": "#E5ECF6",
           "caxis": {
            "gridcolor": "white",
            "linecolor": "white",
            "ticks": ""
           }
          },
          "title": {
           "x": 0.05
          },
          "xaxis": {
           "automargin": true,
           "gridcolor": "white",
           "linecolor": "white",
           "ticks": "",
           "title": {
            "standoff": 15
           },
           "zerolinecolor": "white",
           "zerolinewidth": 2
          },
          "yaxis": {
           "automargin": true,
           "gridcolor": "white",
           "linecolor": "white",
           "ticks": "",
           "title": {
            "standoff": 15
           },
           "zerolinecolor": "white",
           "zerolinewidth": 2
          }
         }
        },
        "xaxis": {
         "anchor": "y",
         "domain": [
          0,
          0.45
         ]
        },
        "xaxis2": {
         "anchor": "y2",
         "domain": [
          0.55,
          1
         ]
        },
        "yaxis": {
         "anchor": "x",
         "domain": [
          0,
          1
         ]
        },
        "yaxis2": {
         "anchor": "x2",
         "domain": [
          0,
          1
         ]
        }
       }
      },
      "text/html": [
       "<div>\n",
       "        \n",
       "        \n",
       "            <div id=\"74589c39-af37-4796-b5db-92cdf14e8598\" class=\"plotly-graph-div\" style=\"height:525px; width:100%;\"></div>\n",
       "            <script type=\"text/javascript\">\n",
       "                require([\"plotly\"], function(Plotly) {\n",
       "                    window.PLOTLYENV=window.PLOTLYENV || {};\n",
       "                    \n",
       "                if (document.getElementById(\"74589c39-af37-4796-b5db-92cdf14e8598\")) {\n",
       "                    Plotly.newPlot(\n",
       "                        '74589c39-af37-4796-b5db-92cdf14e8598',\n",
       "                        [{\"mode\": \"markers\", \"name\": \"0\", \"type\": \"scatter\", \"x\": [3.445574481375933, 2.863857011774429, 3.866887209912928, 2.932665671822504, 3.425689708701257, 3.725042716476828, 3.85042873130433, 4.336930881102006, 3.1624941489392753, 3.962170681675321, 3.7313913282998867, 3.581306171455651, 2.8765747093159604, 1.6331246827093906, 3.6266282401255663, 2.7869491892633698, 2.7590623765701934, 3.5895404336973904, 3.7552446930290753, 3.7658300022386695, 2.8671857561339507, 3.548954032100013, 3.577302370420785, 4.200382676921275, 4.071831592711339, 3.0125241785585297, 4.423254704337569, 2.411450742049884, 2.8355591724665574, 1.558804489709674, 3.6732219477841266, 3.4316311790666987, 3.03315167441259, 2.995361327270493, 3.8601377220386026, 3.8681738739015095, 4.050199853524352, 3.2778952852329435, 3.600291901470926, 2.9871241333214615], \"xaxis\": \"x\", \"y\": [0.6805898880727538, 0.8039022661085495, -0.31013859359932494, 0.02239852991407296, 0.26781735854283745, -0.11414695300252196, 0.6072901713396802, 0.20550959564761637, -0.08084815065207356, -0.019368666894963943, 1.7444088906297557, -0.15564759535963985, -0.9820443059633468, -0.24377233395255235, -0.8190902787245985, 1.0344973318785107, 0.23233077237971697, -0.15677041851809267, -0.49109357829549743, 1.0166115674381866, -0.19498951686067692, -0.5120990801814447, 0.2600286536546371, 0.4381412860588638, 0.5979071625600343, -0.29768064102754577, -0.019980310054539038, 0.4326587327677559, 0.7896895835572884, -0.23714241340427478, -2.0773686248685332, -0.3679736863687854, 0.42279998921288264, 0.8120981431295042, -0.5973274619015538, -2.6442949407166836, -0.969824773800961, -1.5727067695695336, 0.5977441551306417, 0.1331554089920269], \"yaxis\": \"y\"}, {\"mode\": \"markers\", \"name\": \"1\", \"type\": \"scatter\", \"x\": [-0.588467708450443, -2.425075704185392, -2.009415193884924, -1.744169862303973, -0.8409543996120973, -2.275617154821654, -0.5031756243017333, -1.5249671970828702, -2.418349800960872, -1.518728289734464, -1.4637165642323358, -0.6691509585936343, -2.7599519190657973, -2.9989250397338165, -2.8336099227066693, -2.2209592485343475, -2.4211158259705643, -2.1156755282676367, -2.727099125304905, -2.6862147629295046, -0.037543567271809464, -1.659271984622597, -2.5936522037035905, -3.2653655426825328, -1.9350398765222576, -1.4640653463717377, -2.5923096487877575, -2.8596495934838204, -2.3073013499728554, -2.0903224196795875, -1.5753189977485704, -2.2605506269082016, -1.5948597438952317, -2.489906926622773, -2.9449068543738615, -2.130496048757374, -3.0957527428243963, -3.3093968321048495, -1.7279427507460992, -1.4876561196173512, -2.52235454817066, -2.6001170959695292], \"xaxis\": \"x\", \"y\": [-2.0233867591993118, -0.23308883713685716, -2.8677311783669235, -0.45875611897643825, -1.5757799621584274, 0.10328799153443304, -0.008132532125952911, -2.0759263045566776, -1.7572175755054753, -0.9291078513979568, -1.680638418318223, 1.4036588573342608, -1.7454047533591421, -1.9579294368874125, -0.7514747102203199, -0.672576213746819, -1.0072660029786673, -2.9790798922315984, -2.6480509682835556, -1.9812367862299964, -0.9657295868515527, -3.3333311817890805, -1.767950658111273, -1.7952670841901253, -2.1873207328035265, -1.3747772093443789, -0.418548089865425, -0.5862049224626714, -0.5988073559395417, -0.12910608967455323, -0.9791152609386109, -1.3916758283418325, -0.36012549611466727, -1.277736768695488, -0.7162867622637535, -0.9505977727641176, -1.1883741048631573, -1.626531127772757, -0.9918646331045013, -2.4313065844317663, -0.29000716110382646, 2.0315891329699554], \"yaxis\": \"y\"}, {\"mode\": \"markers\", \"name\": \"2\", \"type\": \"scatter\", \"x\": [-0.5204137140343036, -2.843528704065343, -1.9523750352562317, -2.3940604387863873, -2.1043744622458322, -1.1473995389720693, -3.246537134337062, -1.9524285389116351, -2.6570690516380093, -1.2548436622456525, -1.6949622519645284, -0.9597586065683711, -2.910313436436997, -1.8754044420531415, -1.1731941280396445, -2.0303511885516867, -1.912775259714973, -1.5184976231964673, -2.6445348754798217, -0.3261257510824772], \"xaxis\": \"x\", \"y\": [4.499745491003538, 3.165287496883781, 2.5610001299207164, 3.5777857801903634, 3.1818519826232383, 2.8376595659738797, 3.5571910091071723, 2.918174057036131, 3.753983142225423, 3.4714529166534085, 2.7615994256229737, 2.23889433858673, 2.9729876195093334, 3.9461426367237324, 3.2464404465989904, 1.2886014359081899, 3.971508540371282, 3.829525170810342, 3.5196150472208076, 4.086200710833192], \"yaxis\": \"y\"}, {\"mode\": \"markers\", \"name\": \"3\", \"type\": \"scatter\", \"x\": [1.6674208909592927, 0.010503140396949691, 4.120963512124205, 0.10350505526920574, 3.6354013199398976, -2.2958521681770425, 1.210756479411488, -0.3336104099919142, -2.2625455317280343, 3.524143895315713, 3.079365721807298, -0.8191894257537885, -1.2875509235103784, -0.22084004369299115, -1.360392922117264, -2.1220509650562493, 3.8151830544878553, -2.4507839409448358, -2.3684514034680997, -2.8142587719190524, -2.1230858532518897, -2.531984839271786, -3.044146903499509, 3.3263867177778472, -3.5223502210430486, -2.381138192074775, -2.0308478562626258, -1.0783126038540105], \"xaxis\": \"x\", \"y\": [0.7162981045831687, -0.3575299506525828, -0.949158126612051, -0.20701605264119113, -0.27819774825799826, -1.2624299452839676, 0.48121802753354115, 0.6947487124496449, -2.0231515028744522, -1.1867887911271453, -1.1984613417575165, 1.2213576294858457, 0.38418845026425136, 0.5150955660262727, 1.4493596263154913, -0.8904018677643302, -0.38189846787409176, -1.0171228306075102, -1.0858406328230035, -0.3186101671401287, -0.9641319506962814, -1.7676299769157846, -1.832768268460767, 0.5103881274419099, -1.5972656070897269, -0.19499126956621302, -1.252076446550308, -1.6531879052387832], \"yaxis\": \"y\"}, {\"marker\": {\"color\": \"rgba(135, 206, 250, 0)\", \"line\": {\"color\": \"red\", \"width\": 5}, \"opacity\": 1, \"size\": 25}, \"mode\": \"markers\", \"showlegend\": false, \"type\": \"scatter\", \"x\": [-2.843528704065343], \"xaxis\": \"x\", \"y\": [3.165287496883781], \"yaxis\": \"y\"}, {\"marker\": {\"color\": [7.796841412914378e-271, 1.4424649316093515e-230, 7.018647506185039e-194, 9.296777812850296e-161, 3.5076910604247147e-131, 4.007869824760867e-105, 1.5124012239371914e-82, 2.1576524103359547e-63, 1.499252354231263e-47, 8.629899785955149e-35, 8.1059470127481185e-25, 1.677814478640588e-17, 1.1329486356724401e-12, 6.185090174793824e-10, 1.2916867325109509e-08, 2.6822291801041467e-08, 9.515007177907685e-09, 1.3892689497664919e-09, 1.516289576200578e-10, 7.2490496772238306e-12, 1.3735789672775942e-261, 1.6157272850074442e-221, 4.7099946329312684e-185, 3.4792437311791155e-152, 6.708013276531281e-123, 3.513928418749984e-97, 5.291428915369459e-75, 2.4887130060703223e-56, 4.173873128995348e-41, 3.197859204643736e-29, 1.9791647612067585e-20, 3.0779068968909994e-14, 4.566259547392369e-10, 1.0406191300924195e-07, 5.109230762977867e-07, 1.8716949015924477e-07, 6.868797764246748e-08, 6.014785872392158e-08, 1.9480469922747062e-08, 5.7980166965625165e-09, 4.34408334977287e-255, 3.735023742331766e-215, 7.624184717898099e-179, 3.7427586095675055e-146, 4.4952212831542495e-117, 1.3523280816044063e-91, 1.05343280334845e-69, 2.231367763052302e-51, 1.387463333565517e-36, 2.8892318153195873e-25, 2.642727510875515e-17, 3.491084352899137e-12, 2.0367952068499626e-08, 1.319681877299397e-06, 5.12098346153326e-06, 3.1399228392667393e-06, 1.0511281266836659e-06, 1.1501758138199874e-06, 7.282738649290481e-07, 3.6285220321442316e-07, 2.6081595712221013e-251, 1.906246520405021e-211, 3.232650356453188e-175, 1.2816385286689157e-142, 1.1999778266290694e-113, 2.6898435828891074e-88, 1.471413129233089e-66, 2.0193417812593756e-48, 7.250003088424377e-34, 7.289187148054855e-23, 2.341354053905317e-15, 4.784699868470974e-11, 5.706291805567325e-08, 3.839561793109073e-06, 2.885072637295991e-05, 2.8291803092470855e-05, 6.472241031054563e-06, 4.420760503670378e-06, 2.6668584203035836e-06, 2.248625067290242e-06, 3.061740142979406e-250, 2.2262849370965555e-210, 3.7521497251375194e-174, 1.4764147645610766e-141, 1.3693578382050393e-112, 3.0325828127621893e-87, 1.6325530777839075e-65, 2.1918185377806062e-47, 7.624786189510822e-33, 7.303349548024551e-22, 2.151314488896595e-14, 2.8857405502797456e-10, 4.5048460124203156e-08, 3.3629219101404534e-06, 2.930497965946686e-05, 3.326610737017405e-05, 1.3505434778479199e-05, 9.842916303413105e-06, 2.9733256008861317e-06, 3.305096391910383e-06, 7.036246999103692e-252, 5.959419862542065e-212, 1.1948116346722332e-175, 5.738636994338735e-143, 6.708021866170758e-114, 1.949699611443671e-88, 1.4519490232611816e-66, 2.8940886921510265e-48, 1.6516738609989824e-33, 3.0245829779460534e-22, 2.218908799213231e-14, 1.063595839467428e-09, 8.091315829581601e-08, 8.205570517251079e-07, 1.1040576487594279e-05, 1.935957769302203e-05, 9.350002091263066e-06, 4.393570153846237e-06, 3.6846659681006634e-06, 1.5357161191960876e-06, 3.0808136780740916e-256, 3.5384282173139307e-216, 1.0027359040424995e-179, 7.159638069384503e-147, 1.324125495372805e-117, 6.584261455439585e-92, 9.2707021186087e-70, 3.981344575642172e-51, 5.828973659004024e-36, 3.46488937737644e-24, 1.1106444453423191e-15, 2.985663824997962e-10, 1.2026049512878886e-07, 2.2934634058149374e-07, 1.1834323663840404e-06, 5.45725387565156e-06, 4.620722020610635e-06, 2.9111354792957488e-06, 2.2176135221247073e-06, 1.1159341564996411e-07, 2.435053169906362e-263, 4.3667498288628736e-223, 2.0486765921735927e-186, 2.598786113741676e-153, 9.305672141889252e-124, 9.960665789832126e-98, 3.4452168793450656e-75, 4.29131598993827e-56, 2.246068042113631e-40, 6.17767432443916e-28, 1.234330150001483e-18, 2.8236934180627702e-12, 1.3763498928531416e-08, 3.683980799898967e-07, 4.143200848858246e-07, 7.418786753010236e-07, 1.3902919042502268e-06, 4.7123676132510017e-07, 3.5571517841391493e-08, 1.170285954474777e-09, 3.2145389051383994e-273, 1.0205215622802593e-232, 9.103444623239393e-196, 2.390190353041432e-162, 1.960926669233374e-132, 5.435014512115668e-106, 7.28942105384397e-83, 2.5246606504205056e-63, 5.879782376540204e-47, 9.246910116394603e-34, 1.4009299211885853e-23, 3.310648616869217e-16, 2.355869420715731e-11, 1.271293148862035e-08, 1.7854318188253338e-07, 2.368895560248058e-07, 8.105020724740895e-08, 1.0416186803404739e-08, 8.045584296324329e-10, 1.4285044415289804e-11, 6.43014277500333e-286, 4.02354030121625e-245, 7.6604241136599e-208, 4.711409388591226e-174, 1.0097906434902553e-143, 8.31086052424437e-117, 2.9778176229532128e-93, 5.471062292804519e-73, 6.388713655545658e-56, 6.286759035133571e-42, 7.542899933109418e-31, 1.7847280972567545e-22, 1.5493587016325761e-16, 1.0778679327605541e-12, 1.4805319612937302e-10, 9.609478425707086e-10, 5.639583229305118e-10, 4.143014413542062e-11, 4.787978315514947e-13, 6.391565038941158e-16, 1.7420434376549432e-301, 2.3455284896287863e-260, 1.0444143856361917e-222, 1.652970595078558e-188, 1.0171912950280699e-157, 2.7238071275612763e-130, 3.658265350102017e-106, 2.950304632124444e-85, 1.7953159234819953e-67, 1.1006977242289984e-52, 9.779731870932805e-41, 1.977510932823029e-31, 1.573418345045114e-24, 9.293259991857619e-20, 7.998864200441437e-17, 1.865500331232216e-15, 1.857563315082073e-15, 9.87697921669055e-17, 2.9281894068393804e-19, 4.1030992651016317e-23, 5.6556e-320, 1.7539591692793254e-278, 1.9548600674148392e-240, 8.502258496462744e-206, 1.5960248809651532e-174, 1.4635869957058661e-146, 7.637727122032846e-122, 2.7380664509505375e-100, 8.501374816000604e-82, 3.0351973475765156e-66, 1.7554251582381824e-53, 2.469858380561191e-43, 1.3493177367219872e-35, 4.769210165452752e-30, 1.8223135182090848e-26, 1.1860734033678923e-24, 1.8276450205742972e-24, 7.812217924990428e-26, 9.11382844686765e-29, 2.41176600392855e-33, 0.0, 1.4528844912672368e-299, 4.244048752137533e-261, 5.281196215843816e-226, 3.1204623043038584e-194, 9.977987490500226e-166, 2.0214841554387112e-140, 3.1364911559764663e-118, 4.675953023809345e-99, 8.763402618168379e-83, 2.8253395237061606e-69, 2.240589189478293e-58, 6.478354827766449e-50, 1.0299801221000087e-43, 1.3391242194554783e-39, 2.003244764622344e-37, 4.398724607788019e-37, 1.589222965192021e-38, 9.191487514473737e-42, 7.201239182203767e-47, 0.0, 1e-323, 9.05285228383975e-285, 3.2836868897717206e-249, 6.152193818557963e-217, 6.806080257105552e-188, 5.206467020425357e-162, 3.3153928159633305e-139, 2.1816061133708184e-119, 1.9027715377582756e-102, 2.914963726362508e-88, 1.0696693548091297e-76, 1.3072044146124344e-67, 7.416721025526031e-61, 2.6668017353222844e-56, 7.892274193039517e-54, 2.3092614839820626e-53, 7.263720906525135e-55, 2.392185097777099e-58, 7.20489226888139e-64, 0.0, 0.0, 1.617787174947e-311, 1.7120346521586814e-275, 1.0055894848442026e-242, 3.746490200428932e-213, 1.0332886769202387e-186, 2.519707451172368e-163, 6.649918613406815e-143, 2.3832056342941946e-125, 1.4886986041077864e-110, 2.1175936425630185e-98, 9.037320727624919e-89, 1.5165078262611726e-81, 1.28102981962672e-76, 6.676152538951965e-74, 2.4701084469624796e-73, 6.906956889817356e-75, 1.4266828262511483e-78, 1.9556694327910274e-84, 0.0, 0.0, 0.0, 6.353035726542465e-305, 1.1405503342213019e-271, 1.3745676722543753e-241, 1.2900612673745933e-214, 1.114598882208304e-190, 1.0682452957412482e-169, 1.3935145473767097e-151, 3.0824582528811723e-136, 1.454724487922539e-123, 1.8459796302319593e-113, 7.861988471213717e-106, 1.370587875490194e-100, 1.1484804799520077e-97, 5.159810176025397e-97, 1.303507187997524e-98, 1.816455296074923e-102, 1.2823201524288603e-108, 0.0, 0.0, 0.0, 0.0, 7.653270107100167e-304, 2.8412955342760516e-273, 8.509837849424203e-246, 2.4027827095937894e-221, 7.58335734034144e-200, 3.21297358014993e-181, 2.2160418911513246e-165, 3.030935457365817e-152, 9.988343019244433e-142, 9.525547500411475e-134, 3.0888665375551464e-128, 3.873329896780432e-125, 2.047628438217876e-124, 4.735117737097865e-126, 4.7135251518894195e-130, 1.886384546072528e-136, 0.0, 0.0, 0.0, 0.0, 0.0, 2.8578732717185095e-308, 2.55489008921793e-280, 2.1755718885461735e-255, 2.0594959418828636e-233, 2.551852692202832e-214, 4.899907984132896e-198, 1.7278378624822132e-184, 1.3193418447558794e-173, 2.5409350823702383e-165, 1.4089580518826191e-159, 2.4966928935055547e-156, 1.5151979886070866e-155, 3.242311589140456e-157, 2.4136249080423645e-161, 5.91329480388647e-168, 0.0, 0.0, 0.0, 0.0, 0.0, 0.0, 3.07459e-318, 7.30662924172977e-293, 1.9011289991866406e-270, 6.262736289019461e-251, 3.0283646884681776e-234, 2.4886582680337393e-220, 3.998326498855075e-209, 1.4273136550064853e-200, 1.2633960192355854e-194, 3.020601317561178e-191, 2.06357226793143e-190, 4.1233186667672476e-192, 2.38256017755218e-196, 3.8039077674990045e-203, 0.0, 0.0, 0.0, 0.0, 0.0, 0.0, 0.0, 0.0, 5.412206883913e-311, 4.349868582642481e-291, 4.848771238599074e-274, 8.509600621411908e-260, 2.6504496778509208e-248, 1.6324013832037573e-239, 2.1791747825797916e-233, 6.768951540927777e-230, 5.124079957568733e-229, 9.633949552558183e-231, 4.455601916515749e-235, 4.880900641053631e-242], \"colorbar\": {\"title\": {\"text\": \"ColorBar\"}}, \"colorscale\": [[0.0, \"#440154\"], [0.1111111111111111, \"#482878\"], [0.2222222222222222, \"#3e4989\"], [0.3333333333333333, \"#31688e\"], [0.4444444444444444, \"#26828e\"], [0.5555555555555556, \"#1f9e89\"], [0.6666666666666666, \"#35b779\"], [0.7777777777777778, \"#6ece58\"], [0.8888888888888888, \"#b5de2b\"], [1.0, \"#fde725\"]], \"line\": {\"width\": 0}, \"opacity\": 1, \"size\": 25, \"symbol\": \"circle\"}, \"mode\": \"markers\", \"type\": \"scatter\", \"x\": [-3.5223502210430486, -3.5223502210430486, -3.5223502210430486, -3.5223502210430486, -3.5223502210430486, -3.5223502210430486, -3.5223502210430486, -3.5223502210430486, -3.5223502210430486, -3.5223502210430486, -3.5223502210430486, -3.5223502210430486, -3.5223502210430486, -3.5223502210430486, -3.5223502210430486, -3.5223502210430486, -3.5223502210430486, -3.5223502210430486, -3.5223502210430486, -3.5223502210430486, -3.1041604881282794, -3.1041604881282794, -3.1041604881282794, -3.1041604881282794, -3.1041604881282794, -3.1041604881282794, -3.1041604881282794, -3.1041604881282794, -3.1041604881282794, -3.1041604881282794, -3.1041604881282794, -3.1041604881282794, -3.1041604881282794, -3.1041604881282794, -3.1041604881282794, -3.1041604881282794, -3.1041604881282794, -3.1041604881282794, -3.1041604881282794, -3.1041604881282794, -2.6859707552135097, -2.6859707552135097, -2.6859707552135097, -2.6859707552135097, -2.6859707552135097, -2.6859707552135097, -2.6859707552135097, -2.6859707552135097, -2.6859707552135097, -2.6859707552135097, -2.6859707552135097, -2.6859707552135097, -2.6859707552135097, -2.6859707552135097, -2.6859707552135097, -2.6859707552135097, -2.6859707552135097, -2.6859707552135097, -2.6859707552135097, -2.6859707552135097, -2.2677810222987405, -2.2677810222987405, -2.2677810222987405, -2.2677810222987405, -2.2677810222987405, -2.2677810222987405, -2.2677810222987405, -2.2677810222987405, -2.2677810222987405, -2.2677810222987405, -2.2677810222987405, -2.2677810222987405, -2.2677810222987405, -2.2677810222987405, -2.2677810222987405, -2.2677810222987405, -2.2677810222987405, -2.2677810222987405, -2.2677810222987405, -2.2677810222987405, -1.8495912893839712, -1.8495912893839712, -1.8495912893839712, -1.8495912893839712, -1.8495912893839712, -1.8495912893839712, -1.8495912893839712, -1.8495912893839712, -1.8495912893839712, -1.8495912893839712, -1.8495912893839712, -1.8495912893839712, -1.8495912893839712, -1.8495912893839712, -1.8495912893839712, -1.8495912893839712, -1.8495912893839712, -1.8495912893839712, -1.8495912893839712, -1.8495912893839712, -1.431401556469202, -1.431401556469202, -1.431401556469202, -1.431401556469202, -1.431401556469202, -1.431401556469202, -1.431401556469202, -1.431401556469202, -1.431401556469202, -1.431401556469202, -1.431401556469202, -1.431401556469202, -1.431401556469202, -1.431401556469202, -1.431401556469202, -1.431401556469202, -1.431401556469202, -1.431401556469202, -1.431401556469202, -1.431401556469202, -1.0132118235544323, -1.0132118235544323, -1.0132118235544323, -1.0132118235544323, -1.0132118235544323, -1.0132118235544323, -1.0132118235544323, -1.0132118235544323, -1.0132118235544323, -1.0132118235544323, -1.0132118235544323, -1.0132118235544323, -1.0132118235544323, -1.0132118235544323, -1.0132118235544323, -1.0132118235544323, -1.0132118235544323, -1.0132118235544323, -1.0132118235544323, -1.0132118235544323, -0.595022090639663, -0.595022090639663, -0.595022090639663, -0.595022090639663, -0.595022090639663, -0.595022090639663, -0.595022090639663, -0.595022090639663, -0.595022090639663, -0.595022090639663, -0.595022090639663, -0.595022090639663, -0.595022090639663, -0.595022090639663, -0.595022090639663, -0.595022090639663, -0.595022090639663, -0.595022090639663, -0.595022090639663, -0.595022090639663, -0.1768323577248938, -0.1768323577248938, -0.1768323577248938, -0.1768323577248938, -0.1768323577248938, -0.1768323577248938, -0.1768323577248938, -0.1768323577248938, -0.1768323577248938, -0.1768323577248938, -0.1768323577248938, -0.1768323577248938, -0.1768323577248938, -0.1768323577248938, -0.1768323577248938, -0.1768323577248938, -0.1768323577248938, -0.1768323577248938, -0.1768323577248938, -0.1768323577248938, 0.24135737518987543, 0.24135737518987543, 0.24135737518987543, 0.24135737518987543, 0.24135737518987543, 0.24135737518987543, 0.24135737518987543, 0.24135737518987543, 0.24135737518987543, 0.24135737518987543, 0.24135737518987543, 0.24135737518987543, 0.24135737518987543, 0.24135737518987543, 0.24135737518987543, 0.24135737518987543, 0.24135737518987543, 0.24135737518987543, 0.24135737518987543, 0.24135737518987543, 0.6595471081046447, 0.6595471081046447, 0.6595471081046447, 0.6595471081046447, 0.6595471081046447, 0.6595471081046447, 0.6595471081046447, 0.6595471081046447, 0.6595471081046447, 0.6595471081046447, 0.6595471081046447, 0.6595471081046447, 0.6595471081046447, 0.6595471081046447, 0.6595471081046447, 0.6595471081046447, 0.6595471081046447, 0.6595471081046447, 0.6595471081046447, 0.6595471081046447, 1.0777368410194144, 1.0777368410194144, 1.0777368410194144, 1.0777368410194144, 1.0777368410194144, 1.0777368410194144, 1.0777368410194144, 1.0777368410194144, 1.0777368410194144, 1.0777368410194144, 1.0777368410194144, 1.0777368410194144, 1.0777368410194144, 1.0777368410194144, 1.0777368410194144, 1.0777368410194144, 1.0777368410194144, 1.0777368410194144, 1.0777368410194144, 1.0777368410194144, 1.495926573934184, 1.495926573934184, 1.495926573934184, 1.495926573934184, 1.495926573934184, 1.495926573934184, 1.495926573934184, 1.495926573934184, 1.495926573934184, 1.495926573934184, 1.495926573934184, 1.495926573934184, 1.495926573934184, 1.495926573934184, 1.495926573934184, 1.495926573934184, 1.495926573934184, 1.495926573934184, 1.495926573934184, 1.495926573934184, 1.9141163068489528, 1.9141163068489528, 1.9141163068489528, 1.9141163068489528, 1.9141163068489528, 1.9141163068489528, 1.9141163068489528, 1.9141163068489528, 1.9141163068489528, 1.9141163068489528, 1.9141163068489528, 1.9141163068489528, 1.9141163068489528, 1.9141163068489528, 1.9141163068489528, 1.9141163068489528, 1.9141163068489528, 1.9141163068489528, 1.9141163068489528, 1.9141163068489528, 2.3323060397637225, 2.3323060397637225, 2.3323060397637225, 2.3323060397637225, 2.3323060397637225, 2.3323060397637225, 2.3323060397637225, 2.3323060397637225, 2.3323060397637225, 2.3323060397637225, 2.3323060397637225, 2.3323060397637225, 2.3323060397637225, 2.3323060397637225, 2.3323060397637225, 2.3323060397637225, 2.3323060397637225, 2.3323060397637225, 2.3323060397637225, 2.3323060397637225, 2.7504957726784913, 2.7504957726784913, 2.7504957726784913, 2.7504957726784913, 2.7504957726784913, 2.7504957726784913, 2.7504957726784913, 2.7504957726784913, 2.7504957726784913, 2.7504957726784913, 2.7504957726784913, 2.7504957726784913, 2.7504957726784913, 2.7504957726784913, 2.7504957726784913, 2.7504957726784913, 2.7504957726784913, 2.7504957726784913, 2.7504957726784913, 2.7504957726784913, 3.168685505593261, 3.168685505593261, 3.168685505593261, 3.168685505593261, 3.168685505593261, 3.168685505593261, 3.168685505593261, 3.168685505593261, 3.168685505593261, 3.168685505593261, 3.168685505593261, 3.168685505593261, 3.168685505593261, 3.168685505593261, 3.168685505593261, 3.168685505593261, 3.168685505593261, 3.168685505593261, 3.168685505593261, 3.168685505593261, 3.5868752385080307, 3.5868752385080307, 3.5868752385080307, 3.5868752385080307, 3.5868752385080307, 3.5868752385080307, 3.5868752385080307, 3.5868752385080307, 3.5868752385080307, 3.5868752385080307, 3.5868752385080307, 3.5868752385080307, 3.5868752385080307, 3.5868752385080307, 3.5868752385080307, 3.5868752385080307, 3.5868752385080307, 3.5868752385080307, 3.5868752385080307, 3.5868752385080307, 4.005064971422799, 4.005064971422799, 4.005064971422799, 4.005064971422799, 4.005064971422799, 4.005064971422799, 4.005064971422799, 4.005064971422799, 4.005064971422799, 4.005064971422799, 4.005064971422799, 4.005064971422799, 4.005064971422799, 4.005064971422799, 4.005064971422799, 4.005064971422799, 4.005064971422799, 4.005064971422799, 4.005064971422799, 4.005064971422799, 4.423254704337569, 4.423254704337569, 4.423254704337569, 4.423254704337569, 4.423254704337569, 4.423254704337569, 4.423254704337569, 4.423254704337569, 4.423254704337569, 4.423254704337569, 4.423254704337569, 4.423254704337569, 4.423254704337569, 4.423254704337569, 4.423254704337569, 4.423254704337569, 4.423254704337569, 4.423254704337569, 4.423254704337569, 4.423254704337569], \"xaxis\": \"x2\", \"y\": [-3.3333311817890805, -2.921063988484206, -2.508796795179331, -2.0965296018744564, -1.6842624085695819, -1.2719952152647074, -0.8597280219598327, -0.44746082865495795, -0.03519363535008324, 0.37707355795479147, 0.7893407512596657, 1.201607944564541, 1.6138751378694152, 2.0261423311742903, 2.4384095244791646, 2.8506767177840397, 3.262943911088914, 3.6752111043937883, 4.087478297698663, 4.499745491003538, -3.3333311817890805, -2.921063988484206, -2.508796795179331, -2.0965296018744564, -1.6842624085695819, -1.2719952152647074, -0.8597280219598327, -0.44746082865495795, -0.03519363535008324, 0.37707355795479147, 0.7893407512596657, 1.201607944564541, 1.6138751378694152, 2.0261423311742903, 2.4384095244791646, 2.8506767177840397, 3.262943911088914, 3.6752111043937883, 4.087478297698663, 4.499745491003538, -3.3333311817890805, -2.921063988484206, -2.508796795179331, -2.0965296018744564, -1.6842624085695819, -1.2719952152647074, -0.8597280219598327, -0.44746082865495795, -0.03519363535008324, 0.37707355795479147, 0.7893407512596657, 1.201607944564541, 1.6138751378694152, 2.0261423311742903, 2.4384095244791646, 2.8506767177840397, 3.262943911088914, 3.6752111043937883, 4.087478297698663, 4.499745491003538, -3.3333311817890805, -2.921063988484206, -2.508796795179331, -2.0965296018744564, -1.6842624085695819, -1.2719952152647074, -0.8597280219598327, -0.44746082865495795, -0.03519363535008324, 0.37707355795479147, 0.7893407512596657, 1.201607944564541, 1.6138751378694152, 2.0261423311742903, 2.4384095244791646, 2.8506767177840397, 3.262943911088914, 3.6752111043937883, 4.087478297698663, 4.499745491003538, -3.3333311817890805, -2.921063988484206, -2.508796795179331, -2.0965296018744564, -1.6842624085695819, -1.2719952152647074, -0.8597280219598327, -0.44746082865495795, -0.03519363535008324, 0.37707355795479147, 0.7893407512596657, 1.201607944564541, 1.6138751378694152, 2.0261423311742903, 2.4384095244791646, 2.8506767177840397, 3.262943911088914, 3.6752111043937883, 4.087478297698663, 4.499745491003538, -3.3333311817890805, -2.921063988484206, -2.508796795179331, -2.0965296018744564, -1.6842624085695819, -1.2719952152647074, -0.8597280219598327, -0.44746082865495795, -0.03519363535008324, 0.37707355795479147, 0.7893407512596657, 1.201607944564541, 1.6138751378694152, 2.0261423311742903, 2.4384095244791646, 2.8506767177840397, 3.262943911088914, 3.6752111043937883, 4.087478297698663, 4.499745491003538, -3.3333311817890805, -2.921063988484206, -2.508796795179331, -2.0965296018744564, -1.6842624085695819, -1.2719952152647074, -0.8597280219598327, -0.44746082865495795, -0.03519363535008324, 0.37707355795479147, 0.7893407512596657, 1.201607944564541, 1.6138751378694152, 2.0261423311742903, 2.4384095244791646, 2.8506767177840397, 3.262943911088914, 3.6752111043937883, 4.087478297698663, 4.499745491003538, -3.3333311817890805, -2.921063988484206, -2.508796795179331, -2.0965296018744564, -1.6842624085695819, -1.2719952152647074, -0.8597280219598327, -0.44746082865495795, -0.03519363535008324, 0.37707355795479147, 0.7893407512596657, 1.201607944564541, 1.6138751378694152, 2.0261423311742903, 2.4384095244791646, 2.8506767177840397, 3.262943911088914, 3.6752111043937883, 4.087478297698663, 4.499745491003538, -3.3333311817890805, -2.921063988484206, -2.508796795179331, -2.0965296018744564, -1.6842624085695819, -1.2719952152647074, -0.8597280219598327, -0.44746082865495795, -0.03519363535008324, 0.37707355795479147, 0.7893407512596657, 1.201607944564541, 1.6138751378694152, 2.0261423311742903, 2.4384095244791646, 2.8506767177840397, 3.262943911088914, 3.6752111043937883, 4.087478297698663, 4.499745491003538, -3.3333311817890805, -2.921063988484206, -2.508796795179331, -2.0965296018744564, -1.6842624085695819, -1.2719952152647074, -0.8597280219598327, -0.44746082865495795, -0.03519363535008324, 0.37707355795479147, 0.7893407512596657, 1.201607944564541, 1.6138751378694152, 2.0261423311742903, 2.4384095244791646, 2.8506767177840397, 3.262943911088914, 3.6752111043937883, 4.087478297698663, 4.499745491003538, -3.3333311817890805, -2.921063988484206, -2.508796795179331, -2.0965296018744564, -1.6842624085695819, -1.2719952152647074, -0.8597280219598327, -0.44746082865495795, -0.03519363535008324, 0.37707355795479147, 0.7893407512596657, 1.201607944564541, 1.6138751378694152, 2.0261423311742903, 2.4384095244791646, 2.8506767177840397, 3.262943911088914, 3.6752111043937883, 4.087478297698663, 4.499745491003538, -3.3333311817890805, -2.921063988484206, -2.508796795179331, -2.0965296018744564, -1.6842624085695819, -1.2719952152647074, -0.8597280219598327, -0.44746082865495795, -0.03519363535008324, 0.37707355795479147, 0.7893407512596657, 1.201607944564541, 1.6138751378694152, 2.0261423311742903, 2.4384095244791646, 2.8506767177840397, 3.262943911088914, 3.6752111043937883, 4.087478297698663, 4.499745491003538, -3.3333311817890805, -2.921063988484206, -2.508796795179331, -2.0965296018744564, -1.6842624085695819, -1.2719952152647074, -0.8597280219598327, -0.44746082865495795, -0.03519363535008324, 0.37707355795479147, 0.7893407512596657, 1.201607944564541, 1.6138751378694152, 2.0261423311742903, 2.4384095244791646, 2.8506767177840397, 3.262943911088914, 3.6752111043937883, 4.087478297698663, 4.499745491003538, -3.3333311817890805, -2.921063988484206, -2.508796795179331, -2.0965296018744564, -1.6842624085695819, -1.2719952152647074, -0.8597280219598327, -0.44746082865495795, -0.03519363535008324, 0.37707355795479147, 0.7893407512596657, 1.201607944564541, 1.6138751378694152, 2.0261423311742903, 2.4384095244791646, 2.8506767177840397, 3.262943911088914, 3.6752111043937883, 4.087478297698663, 4.499745491003538, -3.3333311817890805, -2.921063988484206, -2.508796795179331, -2.0965296018744564, -1.6842624085695819, -1.2719952152647074, -0.8597280219598327, -0.44746082865495795, -0.03519363535008324, 0.37707355795479147, 0.7893407512596657, 1.201607944564541, 1.6138751378694152, 2.0261423311742903, 2.4384095244791646, 2.8506767177840397, 3.262943911088914, 3.6752111043937883, 4.087478297698663, 4.499745491003538, -3.3333311817890805, -2.921063988484206, -2.508796795179331, -2.0965296018744564, -1.6842624085695819, -1.2719952152647074, -0.8597280219598327, -0.44746082865495795, -0.03519363535008324, 0.37707355795479147, 0.7893407512596657, 1.201607944564541, 1.6138751378694152, 2.0261423311742903, 2.4384095244791646, 2.8506767177840397, 3.262943911088914, 3.6752111043937883, 4.087478297698663, 4.499745491003538, -3.3333311817890805, -2.921063988484206, -2.508796795179331, -2.0965296018744564, -1.6842624085695819, -1.2719952152647074, -0.8597280219598327, -0.44746082865495795, -0.03519363535008324, 0.37707355795479147, 0.7893407512596657, 1.201607944564541, 1.6138751378694152, 2.0261423311742903, 2.4384095244791646, 2.8506767177840397, 3.262943911088914, 3.6752111043937883, 4.087478297698663, 4.499745491003538, -3.3333311817890805, -2.921063988484206, -2.508796795179331, -2.0965296018744564, -1.6842624085695819, -1.2719952152647074, -0.8597280219598327, -0.44746082865495795, -0.03519363535008324, 0.37707355795479147, 0.7893407512596657, 1.201607944564541, 1.6138751378694152, 2.0261423311742903, 2.4384095244791646, 2.8506767177840397, 3.262943911088914, 3.6752111043937883, 4.087478297698663, 4.499745491003538, -3.3333311817890805, -2.921063988484206, -2.508796795179331, -2.0965296018744564, -1.6842624085695819, -1.2719952152647074, -0.8597280219598327, -0.44746082865495795, -0.03519363535008324, 0.37707355795479147, 0.7893407512596657, 1.201607944564541, 1.6138751378694152, 2.0261423311742903, 2.4384095244791646, 2.8506767177840397, 3.262943911088914, 3.6752111043937883, 4.087478297698663, 4.499745491003538, -3.3333311817890805, -2.921063988484206, -2.508796795179331, -2.0965296018744564, -1.6842624085695819, -1.2719952152647074, -0.8597280219598327, -0.44746082865495795, -0.03519363535008324, 0.37707355795479147, 0.7893407512596657, 1.201607944564541, 1.6138751378694152, 2.0261423311742903, 2.4384095244791646, 2.8506767177840397, 3.262943911088914, 3.6752111043937883, 4.087478297698663, 4.499745491003538], \"yaxis\": \"y2\"}],\n",
       "                        {\"annotations\": [{\"font\": {\"size\": 16}, \"showarrow\": false, \"text\": \"coords\", \"x\": 0.225, \"xanchor\": \"center\", \"xref\": \"paper\", \"y\": 1.0, \"yanchor\": \"bottom\", \"yref\": \"paper\"}, {\"font\": {\"size\": 16}, \"showarrow\": false, \"text\": \"coords\", \"x\": 0.775, \"xanchor\": \"center\", \"xref\": \"paper\", \"y\": 1.0, \"yanchor\": \"bottom\", \"yref\": \"paper\"}], \"template\": {\"data\": {\"bar\": [{\"error_x\": {\"color\": \"#2a3f5f\"}, \"error_y\": {\"color\": \"#2a3f5f\"}, \"marker\": {\"line\": {\"color\": \"#E5ECF6\", \"width\": 0.5}}, \"type\": \"bar\"}], \"barpolar\": [{\"marker\": {\"line\": {\"color\": \"#E5ECF6\", \"width\": 0.5}}, \"type\": \"barpolar\"}], \"carpet\": [{\"aaxis\": {\"endlinecolor\": \"#2a3f5f\", \"gridcolor\": \"white\", \"linecolor\": \"white\", \"minorgridcolor\": \"white\", \"startlinecolor\": \"#2a3f5f\"}, \"baxis\": {\"endlinecolor\": \"#2a3f5f\", \"gridcolor\": \"white\", \"linecolor\": \"white\", \"minorgridcolor\": \"white\", \"startlinecolor\": \"#2a3f5f\"}, \"type\": \"carpet\"}], \"choropleth\": [{\"colorbar\": {\"outlinewidth\": 0, \"ticks\": \"\"}, \"type\": \"choropleth\"}], \"contour\": [{\"colorbar\": {\"outlinewidth\": 0, \"ticks\": \"\"}, \"colorscale\": [[0.0, \"#0d0887\"], [0.1111111111111111, \"#46039f\"], [0.2222222222222222, \"#7201a8\"], [0.3333333333333333, \"#9c179e\"], [0.4444444444444444, \"#bd3786\"], [0.5555555555555556, \"#d8576b\"], [0.6666666666666666, \"#ed7953\"], [0.7777777777777778, \"#fb9f3a\"], [0.8888888888888888, \"#fdca26\"], [1.0, \"#f0f921\"]], \"type\": \"contour\"}], \"contourcarpet\": [{\"colorbar\": {\"outlinewidth\": 0, \"ticks\": \"\"}, \"type\": \"contourcarpet\"}], \"heatmap\": [{\"colorbar\": {\"outlinewidth\": 0, \"ticks\": \"\"}, \"colorscale\": [[0.0, \"#0d0887\"], [0.1111111111111111, \"#46039f\"], [0.2222222222222222, \"#7201a8\"], [0.3333333333333333, \"#9c179e\"], [0.4444444444444444, \"#bd3786\"], [0.5555555555555556, \"#d8576b\"], [0.6666666666666666, \"#ed7953\"], [0.7777777777777778, \"#fb9f3a\"], [0.8888888888888888, \"#fdca26\"], [1.0, \"#f0f921\"]], \"type\": \"heatmap\"}], \"heatmapgl\": [{\"colorbar\": {\"outlinewidth\": 0, \"ticks\": \"\"}, \"colorscale\": [[0.0, \"#0d0887\"], [0.1111111111111111, \"#46039f\"], [0.2222222222222222, \"#7201a8\"], [0.3333333333333333, \"#9c179e\"], [0.4444444444444444, \"#bd3786\"], [0.5555555555555556, \"#d8576b\"], [0.6666666666666666, \"#ed7953\"], [0.7777777777777778, \"#fb9f3a\"], [0.8888888888888888, \"#fdca26\"], [1.0, \"#f0f921\"]], \"type\": \"heatmapgl\"}], \"histogram\": [{\"marker\": {\"colorbar\": {\"outlinewidth\": 0, \"ticks\": \"\"}}, \"type\": \"histogram\"}], \"histogram2d\": [{\"colorbar\": {\"outlinewidth\": 0, \"ticks\": \"\"}, \"colorscale\": [[0.0, \"#0d0887\"], [0.1111111111111111, \"#46039f\"], [0.2222222222222222, \"#7201a8\"], [0.3333333333333333, \"#9c179e\"], [0.4444444444444444, \"#bd3786\"], [0.5555555555555556, \"#d8576b\"], [0.6666666666666666, \"#ed7953\"], [0.7777777777777778, \"#fb9f3a\"], [0.8888888888888888, \"#fdca26\"], [1.0, \"#f0f921\"]], \"type\": \"histogram2d\"}], \"histogram2dcontour\": [{\"colorbar\": {\"outlinewidth\": 0, \"ticks\": \"\"}, \"colorscale\": [[0.0, \"#0d0887\"], [0.1111111111111111, \"#46039f\"], [0.2222222222222222, \"#7201a8\"], [0.3333333333333333, \"#9c179e\"], [0.4444444444444444, \"#bd3786\"], [0.5555555555555556, \"#d8576b\"], [0.6666666666666666, \"#ed7953\"], [0.7777777777777778, \"#fb9f3a\"], [0.8888888888888888, \"#fdca26\"], [1.0, \"#f0f921\"]], \"type\": \"histogram2dcontour\"}], \"mesh3d\": [{\"colorbar\": {\"outlinewidth\": 0, \"ticks\": \"\"}, \"type\": \"mesh3d\"}], \"parcoords\": [{\"line\": {\"colorbar\": {\"outlinewidth\": 0, \"ticks\": \"\"}}, \"type\": \"parcoords\"}], \"pie\": [{\"automargin\": true, \"type\": \"pie\"}], \"scatter\": [{\"marker\": {\"colorbar\": {\"outlinewidth\": 0, \"ticks\": \"\"}}, \"type\": \"scatter\"}], \"scatter3d\": [{\"line\": {\"colorbar\": {\"outlinewidth\": 0, \"ticks\": \"\"}}, \"marker\": {\"colorbar\": {\"outlinewidth\": 0, \"ticks\": \"\"}}, \"type\": \"scatter3d\"}], \"scattercarpet\": [{\"marker\": {\"colorbar\": {\"outlinewidth\": 0, \"ticks\": \"\"}}, \"type\": \"scattercarpet\"}], \"scattergeo\": [{\"marker\": {\"colorbar\": {\"outlinewidth\": 0, \"ticks\": \"\"}}, \"type\": \"scattergeo\"}], \"scattergl\": [{\"marker\": {\"colorbar\": {\"outlinewidth\": 0, \"ticks\": \"\"}}, \"type\": \"scattergl\"}], \"scattermapbox\": [{\"marker\": {\"colorbar\": {\"outlinewidth\": 0, \"ticks\": \"\"}}, \"type\": \"scattermapbox\"}], \"scatterpolar\": [{\"marker\": {\"colorbar\": {\"outlinewidth\": 0, \"ticks\": \"\"}}, \"type\": \"scatterpolar\"}], \"scatterpolargl\": [{\"marker\": {\"colorbar\": {\"outlinewidth\": 0, \"ticks\": \"\"}}, \"type\": \"scatterpolargl\"}], \"scatterternary\": [{\"marker\": {\"colorbar\": {\"outlinewidth\": 0, \"ticks\": \"\"}}, \"type\": \"scatterternary\"}], \"surface\": [{\"colorbar\": {\"outlinewidth\": 0, \"ticks\": \"\"}, \"colorscale\": [[0.0, \"#0d0887\"], [0.1111111111111111, \"#46039f\"], [0.2222222222222222, \"#7201a8\"], [0.3333333333333333, \"#9c179e\"], [0.4444444444444444, \"#bd3786\"], [0.5555555555555556, \"#d8576b\"], [0.6666666666666666, \"#ed7953\"], [0.7777777777777778, \"#fb9f3a\"], [0.8888888888888888, \"#fdca26\"], [1.0, \"#f0f921\"]], \"type\": \"surface\"}], \"table\": [{\"cells\": {\"fill\": {\"color\": \"#EBF0F8\"}, \"line\": {\"color\": \"white\"}}, \"header\": {\"fill\": {\"color\": \"#C8D4E3\"}, \"line\": {\"color\": \"white\"}}, \"type\": \"table\"}]}, \"layout\": {\"annotationdefaults\": {\"arrowcolor\": \"#2a3f5f\", \"arrowhead\": 0, \"arrowwidth\": 1}, \"coloraxis\": {\"colorbar\": {\"outlinewidth\": 0, \"ticks\": \"\"}}, \"colorscale\": {\"diverging\": [[0, \"#8e0152\"], [0.1, \"#c51b7d\"], [0.2, \"#de77ae\"], [0.3, \"#f1b6da\"], [0.4, \"#fde0ef\"], [0.5, \"#f7f7f7\"], [0.6, \"#e6f5d0\"], [0.7, \"#b8e186\"], [0.8, \"#7fbc41\"], [0.9, \"#4d9221\"], [1, \"#276419\"]], \"sequential\": [[0.0, \"#0d0887\"], [0.1111111111111111, \"#46039f\"], [0.2222222222222222, \"#7201a8\"], [0.3333333333333333, \"#9c179e\"], [0.4444444444444444, \"#bd3786\"], [0.5555555555555556, \"#d8576b\"], [0.6666666666666666, \"#ed7953\"], [0.7777777777777778, \"#fb9f3a\"], [0.8888888888888888, \"#fdca26\"], [1.0, \"#f0f921\"]], \"sequentialminus\": [[0.0, \"#0d0887\"], [0.1111111111111111, \"#46039f\"], [0.2222222222222222, \"#7201a8\"], [0.3333333333333333, \"#9c179e\"], [0.4444444444444444, \"#bd3786\"], [0.5555555555555556, \"#d8576b\"], [0.6666666666666666, \"#ed7953\"], [0.7777777777777778, \"#fb9f3a\"], [0.8888888888888888, \"#fdca26\"], [1.0, \"#f0f921\"]]}, \"colorway\": [\"#636efa\", \"#EF553B\", \"#00cc96\", \"#ab63fa\", \"#FFA15A\", \"#19d3f3\", \"#FF6692\", \"#B6E880\", \"#FF97FF\", \"#FECB52\"], \"font\": {\"color\": \"#2a3f5f\"}, \"geo\": {\"bgcolor\": \"white\", \"lakecolor\": \"white\", \"landcolor\": \"#E5ECF6\", \"showlakes\": true, \"showland\": true, \"subunitcolor\": \"white\"}, \"hoverlabel\": {\"align\": \"left\"}, \"hovermode\": \"closest\", \"mapbox\": {\"style\": \"light\"}, \"paper_bgcolor\": \"white\", \"plot_bgcolor\": \"#E5ECF6\", \"polar\": {\"angularaxis\": {\"gridcolor\": \"white\", \"linecolor\": \"white\", \"ticks\": \"\"}, \"bgcolor\": \"#E5ECF6\", \"radialaxis\": {\"gridcolor\": \"white\", \"linecolor\": \"white\", \"ticks\": \"\"}}, \"scene\": {\"xaxis\": {\"backgroundcolor\": \"#E5ECF6\", \"gridcolor\": \"white\", \"gridwidth\": 2, \"linecolor\": \"white\", \"showbackground\": true, \"ticks\": \"\", \"zerolinecolor\": \"white\"}, \"yaxis\": {\"backgroundcolor\": \"#E5ECF6\", \"gridcolor\": \"white\", \"gridwidth\": 2, \"linecolor\": \"white\", \"showbackground\": true, \"ticks\": \"\", \"zerolinecolor\": \"white\"}, \"zaxis\": {\"backgroundcolor\": \"#E5ECF6\", \"gridcolor\": \"white\", \"gridwidth\": 2, \"linecolor\": \"white\", \"showbackground\": true, \"ticks\": \"\", \"zerolinecolor\": \"white\"}}, \"shapedefaults\": {\"line\": {\"color\": \"#2a3f5f\"}}, \"ternary\": {\"aaxis\": {\"gridcolor\": \"white\", \"linecolor\": \"white\", \"ticks\": \"\"}, \"baxis\": {\"gridcolor\": \"white\", \"linecolor\": \"white\", \"ticks\": \"\"}, \"bgcolor\": \"#E5ECF6\", \"caxis\": {\"gridcolor\": \"white\", \"linecolor\": \"white\", \"ticks\": \"\"}}, \"title\": {\"x\": 0.05}, \"xaxis\": {\"automargin\": true, \"gridcolor\": \"white\", \"linecolor\": \"white\", \"ticks\": \"\", \"title\": {\"standoff\": 15}, \"zerolinecolor\": \"white\", \"zerolinewidth\": 2}, \"yaxis\": {\"automargin\": true, \"gridcolor\": \"white\", \"linecolor\": \"white\", \"ticks\": \"\", \"title\": {\"standoff\": 15}, \"zerolinecolor\": \"white\", \"zerolinewidth\": 2}}}, \"xaxis\": {\"anchor\": \"y\", \"domain\": [0.0, 0.45]}, \"xaxis2\": {\"anchor\": \"y2\", \"domain\": [0.55, 1.0]}, \"yaxis\": {\"anchor\": \"x\", \"domain\": [0.0, 1.0]}, \"yaxis2\": {\"anchor\": \"x2\", \"domain\": [0.0, 1.0]}},\n",
       "                        {\"responsive\": true}\n",
       "                    ).then(function(){\n",
       "                            \n",
       "var gd = document.getElementById('74589c39-af37-4796-b5db-92cdf14e8598');\n",
       "var x = new MutationObserver(function (mutations, observer) {{\n",
       "        var display = window.getComputedStyle(gd).display;\n",
       "        if (!display || display === 'none') {{\n",
       "            console.log([gd, 'removed!']);\n",
       "            Plotly.purge(gd);\n",
       "            observer.disconnect();\n",
       "        }}\n",
       "}});\n",
       "\n",
       "// Listen for the removal of the full notebook cells\n",
       "var notebookContainer = gd.closest('#notebook-container');\n",
       "if (notebookContainer) {{\n",
       "    x.observe(notebookContainer, {childList: true});\n",
       "}}\n",
       "\n",
       "// Listen for the clearing of the current output cell\n",
       "var outputEl = gd.closest('.output');\n",
       "if (outputEl) {{\n",
       "    x.observe(outputEl, {childList: true});\n",
       "}}\n",
       "\n",
       "                        })\n",
       "                };\n",
       "                });\n",
       "            </script>\n",
       "        </div>"
      ]
     },
     "metadata": {},
     "output_type": "display_data"
    }
   ],
   "source": [
    "from plotly import tools\n",
    "\n",
    "title= 'coords'\n",
    "fig_subplots = tools.make_subplots(rows=1, cols=2,subplot_titles=tuple([title]*2))\n",
    "\n",
    "for trace in figwl:\n",
    "    fig_subplots.append_trace(trace, 1, 1)\n",
    "    \n",
    "\n",
    "trace= go.Scatter(\n",
    "    x= background[:,0],\n",
    "    y= background[:,1],\n",
    "    #z= grid_likes,\n",
    "    mode= 'markers',\n",
    "    marker= {\n",
    "        'color':grid_likes,\n",
    "        'colorbar': go.scatter.marker.ColorBar(\n",
    "            title= 'ColorBar'\n",
    "        ),\n",
    "        'colorscale':'Viridis',\n",
    "        'line': {'width': 0},\n",
    "        'size': 25,\n",
    "        'symbol': 'circle',\n",
    "      \"opacity\": 1\n",
    "      }\n",
    ")\n",
    "\n",
    "fig_subplots.append_trace(trace, 1,2)\n",
    "\n",
    "iplot(fig_subplots)"
   ]
  },
  {
   "cell_type": "markdown",
   "metadata": {},
   "source": [
    "### IV. Grid walk.\n",
    "\n",
    "Grids can quickly become very heavy (grid edge length times dimensions). We propose to narrow down the search progressively.\n",
    "\n",
    "Observations with high likelihood are used to reproduce background coordinates within their distribution in successive layers of analysis.\n",
    "\n"
   ]
  },
  {
   "cell_type": "code",
   "execution_count": 36,
   "metadata": {},
   "outputs": [
    {
     "ename": "NameError",
     "evalue": "name 'N_samps' is not defined",
     "output_type": "error",
     "traceback": [
      "\u001b[1;31m---------------------------------------------------------------------------\u001b[0m",
      "\u001b[1;31mNameError\u001b[0m                                 Traceback (most recent call last)",
      "\u001b[1;32m<ipython-input-36-2651937ffc01>\u001b[0m in \u001b[0;36m<module>\u001b[1;34m\u001b[0m\n\u001b[0;32m     32\u001b[0m             \u001b[0mBandwidth_split\u001b[0m \u001b[1;33m=\u001b[0m \u001b[0mBandwidth_split\u001b[0m\u001b[1;33m,\u001b[0m\u001b[1;33m\u001b[0m\u001b[1;33m\u001b[0m\u001b[0m\n\u001b[0;32m     33\u001b[0m             \u001b[0mmetric\u001b[0m\u001b[1;33m=\u001b[0m \u001b[0mmetric\u001b[0m\u001b[1;33m,\u001b[0m\u001b[1;33m\u001b[0m\u001b[1;33m\u001b[0m\u001b[0m\n\u001b[1;32m---> 34\u001b[1;33m             kernel= kernel)\n\u001b[0m\u001b[0;32m     35\u001b[0m \u001b[1;33m\u001b[0m\u001b[0m\n",
      "\u001b[1;32mD:\\GitHub\\Tools_II\\Imputation\\impute_tools\\impute_tools_V.py\u001b[0m in \u001b[0;36mgridWalk\u001b[1;34m(featl, dist_ref, BG_func, BG_args, std_gp_use, P, dimN, N_samps, dist_comps, Bandwidth_split, metric, kernel)\u001b[0m\n\u001b[0;32m    178\u001b[0m                 \u001b[0msubset\u001b[0m\u001b[1;33m=\u001b[0m \u001b[0mbackground\u001b[0m\u001b[1;33m[\u001b[0m\u001b[0mwhich\u001b[0m\u001b[1;33m]\u001b[0m\u001b[1;33m\u001b[0m\u001b[1;33m\u001b[0m\u001b[0m\n\u001b[0;32m    179\u001b[0m                 \u001b[1;31m#\u001b[0m\u001b[1;33m\u001b[0m\u001b[1;33m\u001b[0m\u001b[1;33m\u001b[0m\u001b[0m\n\u001b[1;32m--> 180\u001b[1;33m                 \u001b[0mbackground\u001b[0m\u001b[1;33m=\u001b[0m \u001b[0mBG_func\u001b[0m\u001b[1;33m(\u001b[0m\u001b[0msubset\u001b[0m\u001b[1;33m,\u001b[0m\u001b[1;33m**\u001b[0m\u001b[0mBG_args\u001b[0m\u001b[1;33m)\u001b[0m\u001b[1;33m\u001b[0m\u001b[1;33m\u001b[0m\u001b[0m\n\u001b[0m\u001b[0;32m    181\u001b[0m                 \u001b[1;31m#\u001b[0m\u001b[1;33m\u001b[0m\u001b[1;33m\u001b[0m\u001b[1;33m\u001b[0m\u001b[0m\n\u001b[0;32m    182\u001b[0m                 \u001b[0mmax_like\u001b[0m\u001b[1;33m+=\u001b[0m \u001b[1;33m[\u001b[0m\u001b[0mlmax\u001b[0m\u001b[1;33m]\u001b[0m\u001b[1;33m\u001b[0m\u001b[1;33m\u001b[0m\u001b[0m\n",
      "\u001b[1;32mD:\\GitHub\\Tools_II\\Imputation\\impute_tools\\impute_tools_V.py\u001b[0m in \u001b[0;36mnBg_MS\u001b[1;34m(subset, lb, up, kernel)\u001b[0m\n\u001b[0;32m    110\u001b[0m     \u001b[0mkde\u001b[0m \u001b[1;33m=\u001b[0m \u001b[0mgrid\u001b[0m\u001b[1;33m.\u001b[0m\u001b[0mbest_estimator_\u001b[0m\u001b[1;33m\u001b[0m\u001b[1;33m\u001b[0m\u001b[0m\n\u001b[0;32m    111\u001b[0m \u001b[1;33m\u001b[0m\u001b[0m\n\u001b[1;32m--> 112\u001b[1;33m     \u001b[0mbackground\u001b[0m\u001b[1;33m=\u001b[0m \u001b[0mkde\u001b[0m\u001b[1;33m.\u001b[0m\u001b[0msample\u001b[0m\u001b[1;33m(\u001b[0m\u001b[0mN_samps\u001b[0m\u001b[1;33m,\u001b[0m \u001b[0mrandom_state\u001b[0m\u001b[1;33m=\u001b[0m\u001b[1;36m0\u001b[0m\u001b[1;33m)\u001b[0m\u001b[1;33m\u001b[0m\u001b[1;33m\u001b[0m\u001b[0m\n\u001b[0m\u001b[0;32m    113\u001b[0m \u001b[1;33m\u001b[0m\u001b[0m\n\u001b[0;32m    114\u001b[0m     \u001b[1;32mreturn\u001b[0m \u001b[0mbackground\u001b[0m\u001b[1;33m\u001b[0m\u001b[1;33m\u001b[0m\u001b[0m\n",
      "\u001b[1;31mNameError\u001b[0m: name 'N_samps' is not defined"
     ]
    }
   ],
   "source": [
    "from impute_tools.impute_tools_V import (\n",
    "    nBg_MS, nBg_grid,\n",
    "    gridWalk\n",
    ")\n",
    "\n",
    "dist_ref_select= 0\n",
    "dist_ref= dist_store[labelf_select[dist_ref_select],:]\n",
    "dist_ref= dist_ref[:,std_gp_use]\n",
    "\n",
    "P= 20\n",
    "dimN= 2\n",
    "N_samps= P**dimN\n",
    "dist_comps= 10\n",
    "Bandwidth_split = 30\n",
    "kernel= 'gaussian'\n",
    "\n",
    "\n",
    "\n",
    "BG_func= nBg_MS\n",
    "BG_args= {\n",
    "    'lb':0.05,\n",
    "    'up':0.8,\n",
    "    'kernel': kernel,\n",
    "    'N_samps': N_samps\n",
    "}\n",
    "\n",
    "\n",
    "granted, grid_likes= gridWalk(featl,dist_ref,BG_func, BG_args= BG_args, std_gp_use= std_gp_use,\n",
    "            P= P,\n",
    "            dimN= dimN,\n",
    "            N_samps= N_samps,\n",
    "            dist_comps= dist_comps,\n",
    "            Bandwidth_split = Bandwidth_split,\n",
    "            metric= metric,\n",
    "            kernel= kerN_sampsnel)\n",
    "\n"
   ]
  },
  {
   "cell_type": "code",
   "execution_count": null,
   "metadata": {},
   "outputs": [],
   "source": []
  },
  {
   "cell_type": "code",
   "execution_count": 128,
   "metadata": {},
   "outputs": [
    {
     "data": {
      "application/vnd.plotly.v1+json": {
       "config": {
        "linkText": "Export to plot.ly",
        "plotlyServerURL": "https://plot.ly",
        "showLink": false
       },
       "data": [
        {
         "mode": "markers",
         "name": "0",
         "type": "scatter",
         "x": [
          -3.0965537531703897,
          -3.5940933145712206,
          -2.8305511999265525,
          -2.9735682458952284,
          -3.706466972814086,
          -3.924404272858901,
          -2.854629260882924,
          -3.641594110193565,
          -3.1434554213131425,
          -2.689642206517631,
          -2.037587980016227,
          -4.566935653921523,
          -3.73803920215278,
          -3.7367921061212725,
          -3.125484403778446,
          -2.8678664124005038,
          -3.3265652661145086,
          -2.932709290185991,
          -3.4512386414459257,
          -4.242917721713719,
          -3.1704889128072935,
          -4.224092371442137,
          -4.610048550341667,
          -2.172357386972009,
          -3.6323507213447592,
          -3.4573380026314693,
          -2.739250877728184,
          -3.0693132289545537,
          -3.541732065035598,
          -2.116798588557262,
          -2.9224324879791044,
          -1.8556433712100218,
          -2.8650510812963783,
          -1.6423191154472438,
          -4.567134221926694,
          -3.273573315848347,
          -3.9911701772247765,
          -3.5728155528959142,
          -3.9155217225973526,
          -3.8960515962208047
         ],
         "xaxis": "x",
         "y": [
          -0.7498056754761105,
          -1.3286283569343444,
          0.5924874935090874,
          -0.44869273484606814,
          -0.05692010786242517,
          0.9234595318949024,
          -0.06538178625478998,
          -0.22231705066048277,
          0.30408022883801883,
          -0.9157217264874855,
          -1.1795993540493506,
          0.08094931010735353,
          -0.8496487776629194,
          0.13266473978815307,
          1.6042548089339723,
          -1.060235441679909,
          -0.2194211481180744,
          -0.3829527523228261,
          -0.07534442533551479,
          -0.09902217508318087,
          -0.1910579541435346,
          0.3952322197435185,
          -1.4217594296445324,
          -0.07608003854222262,
          -0.7808715208988176,
          0.6936362610742421,
          -0.3003457182762562,
          -0.6990674926750854,
          -0.6194376499895435,
          -0.35810952434077803,
          -0.0850620343564262,
          0.6729236751939367,
          -0.21094240828576996,
          -0.26879907913200646,
          -0.47054693079439636,
          0.21893392565976783,
          -0.46062537634291395,
          0.46788414138880674,
          -0.7608143688818381,
          -0.318124770660164
         ],
         "yaxis": "y"
        },
        {
         "mode": "markers",
         "name": "1",
         "type": "scatter",
         "x": [
          2.9626314339412416,
          1.2425231532874272,
          2.9440960685924553,
          3.7375154600248854,
          2.101226144625316,
          3.275195608586988,
          1.4831444876809585,
          3.127810864989041,
          3.7999954783675314,
          4.6698790902740805,
          0.7633627231279541,
          2.260657263697914,
          0.5847738720858595,
          2.9772035986678596,
          3.2281511941208105,
          3.5273055185456226,
          3.2193139592981477,
          2.577952074973688,
          1.451515632577475,
          2.0585381808545447,
          3.0350618150850805,
          2.2052104906823047,
          1.332643083585839,
          0.8025936860194103,
          3.1690759037546368,
          2.731589080792178,
          2.418357474048965,
          2.8361401553601606,
          1.908307993193611,
          1.2966230867139321,
          1.9978767030380136,
          2.0573450163077256,
          1.6579159990782006,
          2.695653476208147,
          1.9187433894169823,
          2.8607188636527807,
          3.4484552166882843,
          1.4463220904208036,
          2.5056601403008494,
          3.865881274893977,
          1.1741829217157853,
          2.616441496658736
         ],
         "xaxis": "x",
         "y": [
          -3.0737692953700466,
          -0.48602898374018566,
          -1.4123683828569378,
          -0.6292206344418063,
          -1.669441287711141,
          -2.5467095090085494,
          -0.1932125616016778,
          -0.5130215037238314,
          -0.8993446713880221,
          -0.8275458310385684,
          -1.7692901018511964,
          -1.3753235799792263,
          -1.7369110377774997,
          -0.07372475175710695,
          -0.9683709040698474,
          -0.5612136213782819,
          -1.7900742133215428,
          -0.6990506277863302,
          -2.1083911465010132,
          -1.9623808467755903,
          -0.455559894254399,
          -2.1359186597368196,
          -1.5843169425080537,
          -0.4448598870896827,
          -1.2926394317147434,
          -1.1015498013485936,
          -1.55542636637846,
          0.3938425963361174,
          -0.2636495329230586,
          -1.7291548560533363,
          -1.236805751895749,
          -1.4395558726852096,
          -1.5512293425518986,
          -1.2376843375441056,
          -1.5854112680716579,
          -0.9662911916932277,
          -1.0964800825472278,
          -0.5306060367925414,
          -1.0678927474615152,
          -1.3683378076538188,
          -1.0612612553573737,
          -0.7366319647747618
         ],
         "yaxis": "y"
        },
        {
         "mode": "markers",
         "name": "2",
         "type": "scatter",
         "x": [
          0.9030271122445886,
          1.1908312885935453,
          0.3276467808180426,
          2.1636015258195616,
          1.1921731548782217,
          1.9588449620873338,
          1.98321882986962,
          1.0934571961197377,
          2.0072950882743545,
          1.8880843218188692,
          1.5867223226992828,
          1.7446240981078065,
          2.081725109697712,
          1.2140350887056088,
          2.009419720630838,
          2.2993567709232847,
          1.708347096252105,
          2.6290348352756134,
          2.4607561005759098,
          1.7770894791719476
         ],
         "xaxis": "x",
         "y": [
          0.9929527836032018,
          3.6688509814138324,
          3.710252954391267,
          3.898687644752278,
          1.453205026690249,
          2.5689074639537868,
          4.81375105219561,
          3.6139175216040687,
          2.0857355624419527,
          3.8026019573302197,
          1.7538571897573378,
          3.679070825414094,
          3.1638407892174474,
          3.732419314472869,
          4.617534810150682,
          3.995741232906831,
          3.1428907065922687,
          3.946447240320654,
          4.035394325763106,
          3.8841611341787043
         ],
         "yaxis": "y"
        },
        {
         "mode": "markers",
         "name": "3",
         "type": "scatter",
         "x": [
          -0.8017469422531761,
          -0.19892103304831826,
          -3.4873910843420934,
          -0.2862736901144848,
          -4.048464810301549,
          -1.741780252017604,
          2.067961560941809,
          -0.8782532115993004,
          -0.9069932663297525,
          3.3690115179408413,
          -3.2603450626768486,
          -2.7349829056390296,
          2.0554623892604904,
          2.1699012381602985,
          3.2591850839939167,
          2.0112818661369043,
          -3.149839938067126,
          1.8330309306117045,
          0.19129003372720876,
          -0.44453498820684656,
          1.664033389546294,
          2.0475009662400576,
          -3.5982147755289415,
          -4.169890824136668,
          1.786568774275394,
          -2.4708870056618553,
          2.1274942690971095,
          3.1194945059474186
         ],
         "xaxis": "x",
         "y": [
          -0.34331637040883817,
          0.9521200248446338,
          0.9846275043650602,
          0.5019452604352722,
          -0.3996138323074634,
          1.9669956312001151,
          -1.6195595308047157,
          1.0346048979154157,
          0.9925788877276929,
          -1.236972246612973,
          -0.7758733755376541,
          -1.218724340969597,
          -3.335558226438417,
          -1.2074522855380343,
          -1.529504993511564,
          -2.6203154305118717,
          -0.6217209429841895,
          -0.8146064572837589,
          1.704586111462697,
          -0.12013667635332029,
          2.997484601887477,
          -1.370547873332012,
          -0.09900048476158836,
          -0.14717926037946738,
          -0.6518567853173404,
          0.1815614331787223,
          -1.5363875177054858,
          -0.2967548390247228
         ],
         "yaxis": "y"
        },
        {
         "marker": {
          "color": "rgba(135, 206, 250, 0)",
          "line": {
           "color": "red",
           "width": 5
          },
          "opacity": 1,
          "size": 25
         },
         "mode": "markers",
         "showlegend": false,
         "type": "scatter",
         "x": [
          3.7999954783675314
         ],
         "xaxis": "x",
         "y": [
          -0.8993446713880221
         ],
         "yaxis": "y"
        },
        {
         "marker": {
          "color": [
           9.042690963768719e-237,
           7.371798528851312e-225,
           1.0829243929934263e-218,
           1.0991182801224884e-217,
           5.309198166411899e-221,
           1.3701508397809965e-226,
           8.753983964145948e-233,
           9.503081424740113e-238,
           3.506896106623934e-239,
           3.0700973751789037e-237,
           6.415559688938948e-235,
           4.6564779112004093e-234,
           4.313927530657498e-236,
           4.548760374990802e-242,
           1.046445391948828e-252,
           1.611534546344545e-268,
           6.795554432917308e-290,
           3.830927e-317,
           0,
           0,
           4.482033521795036e-193,
           8.06291271878039e-184,
           1.4565088066066628e-180,
           8.97567596111498e-183,
           1.4777900700970039e-189,
           3.109976122337564e-199,
           1.482862340435599e-209,
           5.003619972611996e-217,
           8.784193832348043e-218,
           3.5220718898612185e-214,
           2.9218031684458454e-209,
           2.7801453578700977e-205,
           1.978356653423207e-204,
           8.360551567145035e-208,
           4.674844114650007e-216,
           1.207497957157885e-229,
           6.59629102166892e-249,
           4.0391415303770397e-274,
           1.590399824518295e-305,
           0,
           8.577513839041979e-155,
           1.0758560060580473e-147,
           1.0070122768731609e-146,
           2.1220837413682987e-151,
           5.580873665836942e-161,
           8.356942609767802e-174,
           6.727792993250869e-187,
           4.669987337447296e-195,
           2.2194234221886437e-196,
           4.6173679657800816e-192,
           1.002603142692302e-185,
           8.135536154126682e-180,
           4.662248336246306e-177,
           1.601643880840971e-178,
           6.052642770427078e-185,
           9.254587214094793e-197,
           2.842517469619025e-214,
           9.720231015869912e-238,
           2.1618468364042533e-267,
           1.8783150324280478e-303,
           2.0251353808160514e-121,
           7.312472447469562e-116,
           2.2655295831649995e-116,
           1.9198618323978784e-122,
           2.8813531568341655e-133,
           4.020846932358376e-147,
           7.804855627049421e-161,
           9.506477831338933e-170,
           2.177889500857529e-171,
           2.8706640690969748e-167,
           5.112969525699099e-161,
           1.2103544471919405e-155,
           1.0905380272312147e-152,
           2.9103130370107006e-153,
           1.135813073233426e-158,
           2.5399186001674876e-169,
           1.5258434606994512e-185,
           1.2943218549791896e-207,
           8.669712199462114e-236,
           2.6364242222961163e-270,
           1.011056372028295e-92,
           4.296259561776434e-88,
           2.801185056504725e-89,
           1.1099744743305714e-95,
           2.029566785468394e-106,
           6.713391329607109e-120,
           3.954948675308391e-132,
           7.914086144592861e-141,
           2.976102719700158e-143,
           9.610582404550882e-141,
           3.04862770765526e-136,
           2.4296334269287028e-132,
           1.84885372449172e-130,
           1.2544520625371834e-131,
           6.511413540122772e-137,
           5.031340296372712e-147,
           1.9740131886229552e-162,
           1.778753740157806e-183,
           1.8663424532481754e-210,
           1.2010299925576408e-243,
           9.99054613373605e-69,
           1.5264863452647324e-64,
           8.551641361989822e-66,
           9.428907946531269e-72,
           2.168464566862208e-81,
           5.015230072019087e-93,
           9.571684913516484e-104,
           4.090506958383763e-112,
           8.491638273108472e-116,
           1.180723100665432e-115,
           9.430401853168127e-114,
           5.630816939379937e-112,
           7.860893400676156e-112,
           4.488539912471833e-114,
           9.873199538162147e-120,
           8.583640640334812e-130,
           8.286483147581407e-145,
           3.617399604385298e-165,
           3.249071905481688e-191,
           2.8001408247661178e-223,
           1.1970098874898805e-49,
           1.2620811466649975e-45,
           1.2433972586776191e-46,
           7.95447911891521e-52,
           4.0229754991569494e-60,
           4.992054960875099e-70,
           1.0892001642817447e-79,
           8.903422726788519e-88,
           1.9267514538757878e-92,
           1.1695848266718265e-94,
           3.1062074491701806e-95,
           1.2083383523286535e-95,
           1.8337992700715583e-97,
           6.744206513448485e-101,
           3.080905156537225e-107,
           1.156745563873413e-117,
           1.1711767825020677e-132,
           1.2628938696837472e-152,
           5.9148990517042e-178,
           4.7790658202242777e-209,
           9.200492230012288e-36,
           7.903168421739584e-32,
           1.4346055309398464e-32,
           4.561281210955902e-37,
           3.0387400188186953e-44,
           7.029479211868762e-53,
           1.0150029513522514e-61,
           1.676741266111843e-69,
           4.0439643413508104e-75,
           6.14171336182487e-79,
           1.1163287523388854e-81,
           6.535858837110825e-84,
           5.546430943962895e-87,
           6.798174468165216e-92,
           1.5604424464446757e-99,
           9.735798487152989e-111,
           4.896547137849861e-126,
           7.645040623140607e-146,
           1.3366739920059016e-170,
           8.266886665222301e-201,
           2.7437853895821565e-27,
           1.5345968105669604e-23,
           3.304334762111985e-24,
           2.6799222004685415e-28,
           9.80297586094174e-35,
           1.7852576398455934e-42,
           2.0420745262369437e-50,
           2.041417669767135e-54,
           5.4373916794582685e-58,
           3.043013352034149e-62,
           1.1791077499168228e-67,
           2.171264628052809e-74,
           1.4937839856569767e-81,
           6.937919100738275e-88,
           1.811128317110149e-95,
           5.172156599535681e-105,
           1.514654455534912e-119,
           1.750588570292421e-139,
           2.9584593140417345e-165,
           2.6400752081225594e-197,
           2.749375436337561e-24,
           6.291407448731398e-21,
           7.707994041427393e-22,
           1.909221216197629e-23,
           1.2000175352511769e-25,
           8.994529517946789e-24,
           1.3601174720435093e-24,
           8.977007918877093e-35,
           1.1544820538017835e-38,
           6.728464058280318e-44,
           4.0683800777959665e-35,
           7.99658536646901e-59,
           1.0271428314975431e-64,
           3.983659730920281e-70,
           4.192786574968168e-77,
           1.8460464027352403e-88,
           1.6655432955718162e-104,
           1.9788930207617828e-125,
           1.052626417764968e-151,
           5.287616672921833e-184,
           5.608327493878628e-25,
           1.877644290461957e-20,
           5.50820121218182e-16,
           3.042041516850402e-15,
           2.5746501706500265e-16,
           3.1609704516995684e-18,
           8.775297807332177e-21,
           1.0999615605992733e-22,
           4.03664240877042e-26,
           8.638020001431727e-26,
           9.7646357527765e-28,
           7.800805570871269e-31,
           1.5728209350356708e-36,
           1.4883410078082482e-43,
           4.636841772898154e-64,
           1.899707592693026e-77,
           2.4900875443898315e-95,
           2.5500150778769496e-117,
           4.9864645764275834e-144,
           1.5186939981592034e-176,
           8.567870467917746e-23,
           2.577513349066383e-17,
           1.6709899483047134e-14,
           8.101053729517529e-14,
           3.636913325355938e-14,
           4.842208943237717e-15,
           1.7404371872006397e-16,
           1.6033428119781942e-17,
           3.6377520735375016e-20,
           7.21753278608003e-23,
           3.369981614023387e-24,
           1.792280830059718e-26,
           2.414069056385834e-31,
           2.858247648718411e-39,
           4.226236817537116e-56,
           1.0849493039475384e-71,
           1.7840292070561526e-91,
           1.1456497439819618e-114,
           5.835087869448828e-142,
           9.526603727823964e-175,
           3.7612158877411326e-20,
           1.6926464205725476e-15,
           2.2834775394093466e-13,
           6.792075875672113e-14,
           7.375793516648338e-13,
           6.827096389774834e-13,
           1.2116117807002514e-12,
           1.679167835433629e-13,
           4.607567171879301e-16,
           3.4727623340962405e-16,
           2.2798049293089416e-18,
           4.247782827683244e-24,
           1.325326917757208e-29,
           1.850433711694532e-39,
           2.552437327298809e-50,
           1.3845092920384595e-70,
           1.2469238401014951e-92,
           4.054560263310724e-117,
           5.0013527985395106e-145,
           3.2068590597648863e-178,
           2.9824688146847753e-19,
           1.2591828045807602e-14,
           6.740928715258194e-13,
           3.290091406302334e-13,
           5.316887606833492e-12,
           9.007793575981553e-12,
           1.0034791017043962e-11,
           2.850029743487738e-12,
           2.0484918875315497e-13,
           5.7013103897347545e-15,
           7.075419942498146e-17,
           1.5428512984233337e-21,
           9.419326523296903e-28,
           5.099464305630686e-38,
           4.481920135771944e-53,
           5.776814325553235e-73,
           1.3597261643280388e-96,
           3.2722478718218114e-123,
           6.62880482668167e-152,
           7.69512303950772e-184,
           7.814338324989802e-22,
           8.764270651735377e-16,
           1.1332422816858098e-14,
           1.6231673893918624e-13,
           2.1009477701227813e-12,
           6.9529090622773264e-12,
           2.4555985778579567e-11,
           1.8816478424312188e-12,
           1.3875399025307796e-12,
           2.0558975324636058e-12,
           5.518930888434342e-16,
           5.08275772258635e-21,
           2.16617640488921e-28,
           7.222415803624911e-40,
           5.250693385734875e-56,
           8.534611734387796e-77,
           3.53161086883118e-101,
           1.1885124577842302e-128,
           1.2650427859233597e-157,
           4.130831419603839e-191,
           2.3154680008235225e-28,
           1.6196150407102547e-20,
           1.4182400375770434e-17,
           7.521003602799728e-16,
           2.6615349161462755e-14,
           1.0259498218822244e-12,
           1.394591220756548e-11,
           3.658613433700633e-12,
           8.407523925284232e-13,
           2.3804272211483617e-12,
           6.60673633886656e-16,
           7.364351694913832e-22,
           1.6838012280656812e-29,
           1.2680590409558558e-41,
           3.015028962952368e-58,
           2.5638787489869996e-79,
           1.2360638199586088e-104,
           9.909684284492863e-134,
           2.314510115619405e-165,
           1.8067079704600324e-201,
           3.952389825031179e-40,
           4.2868547777085216e-30,
           1.0260590910315675e-24,
           2.2803449853439687e-18,
           2.6421044903053397e-15,
           3.3191592616191634e-14,
           1.6658066758609984e-13,
           2.6682448337845304e-12,
           5.841056084328265e-13,
           8.440152937798929e-17,
           4.900920566852956e-22,
           1.5914620352689152e-26,
           8.488381556230138e-35,
           1.223287226510871e-47,
           4.578217944463973e-65,
           5.138190574413717e-87,
           2.500992790836088e-113,
           9.731769283129304e-144,
           3.436469389605075e-178,
           2.279552633013905e-217,
           1.0721832897016418e-57,
           5.166263745331405e-45,
           1.3753707679627322e-35,
           9.290499100230938e-27,
           1.2788254788922386e-21,
           3.9525640529248163e-19,
           4.6769468465445285e-18,
           8.294643209877675e-17,
           9.508257338423855e-18,
           4.498233378546683e-22,
           3.1562392940270704e-30,
           3.089072601849494e-37,
           1.8314477180766294e-46,
           2.936359041716126e-60,
           1.1195855676851903e-78,
           1.0356581324057016e-101,
           2.6024717856660874e-129,
           1.8813779864295584e-161,
           2.8043666462884788e-198,
           3.3320234522834314e-240,
           5.263485310621241e-82,
           1.4077255766796285e-66,
           1.3252049402122468e-53,
           1.9074873511246826e-42,
           3.578696429533795e-35,
           4.68763433393791e-31,
           2.2390782270740186e-29,
           9.260728241960788e-29,
           3.496134084088759e-30,
           4.3397994631522504e-35,
           7.185886755715616e-44,
           5.129539307526896e-55,
           1.9966096214394772e-65,
           2.202126202417237e-80,
           5.266317676075955e-100,
           2.371836627000056e-124,
           1.7958960608569827e-153,
           1.8638838597605487e-187,
           2.8996635877837706e-226,
           3.718243426850822e-264,
           1.2741385589401023e-113,
           9.01692051904319e-96,
           4.28035394463177e-80,
           1.0954328406179756e-66,
           2.1157839545628828e-57,
           9.142110741027688e-52,
           2.3057220045789875e-49,
           1.8653536585931213e-49,
           2.2011431096216892e-51,
           8.603897897856535e-57,
           4.792697605711337e-66,
           6.107684423546393e-79,
           1.646864755126099e-92,
           9.02536774535262e-109,
           9.474330015602884e-130,
           1.4535151087767817e-155,
           4.102449228051877e-186,
           6.269019523448263e-218,
           1.3432207591346583e-253,
           7.099695840332822e-294,
           2.1033642746181795e-12,
           3.1432221292112084e-11,
           7.309337056578107e-12,
           5.5132065864422765e-12,
           2.5328986680230184e-14,
           2.1381738133151357e-12,
           3.213062301487202e-13,
           1.418486634992414e-12,
           3.4872996363336314e-11,
           9.787892523374994e-12,
           1.8587154199055693e-12,
           1.3472024188387365e-14,
           1.1645066154803241e-14,
           4.466473493550192e-15,
           4.1789694311084814e-14,
           4.4655650096915856e-12,
           3.913866332472503e-15,
           2.160694081440421e-12,
           2.9229547471536094e-12,
           3.4403177757654494e-12,
           2.2105675041792017e-14,
           1.5762106440823087e-12,
           5.569985279233882e-16,
           1.5106580431476865e-12,
           6.636444322404511e-14,
           1.1810829375264935e-12,
           5.055214961152005e-12,
           4.582995192958845e-17,
           1.0799467576861066e-11,
           2.7574553694581523e-14,
           4.992260886539576e-12,
           2.0756674186161648e-14,
           1.4629217721106613e-14,
           2.95860964167e-11,
           3.3948750850384903e-15,
           8.149192930359981e-13,
           1.716430607935156e-12,
           8.02381492990407e-14,
           2.288733520689364e-14,
           9.161532533274201e-12,
           1.0795920845161816e-16,
           1.0730340120575679e-13,
           5.578199919077218e-12,
           5.033492553036117e-13,
           5.212358341350614e-12,
           5.06450128363477e-13,
           3.7059775781534573e-13,
           3.223273367251359e-12,
           2.835604374948526e-18,
           1.4146230317973611e-15,
           2.9550098393136778e-12,
           2.1904439513997083e-12,
           1.868937749717604e-12,
           1.0948739458088845e-12,
           5.9444642354040535e-12,
           4.10562898850491e-12,
           2.2683073620296358e-13,
           2.2074576360662282e-17,
           2.7893564975000293e-12,
           1.2262526209652561e-14,
           2.7909136671892348e-12,
           2.025693395743401e-13,
           7.131560738463234e-13,
           8.381616015102568e-13,
           5.6773922673289875e-12,
           1.6962253062466517e-15,
           1.674066311564553e-12,
           6.583825522681279e-12,
           1.2813950126165782e-13,
           1.3436881504619959e-13,
           3.171852273711408e-12,
           8.04832579079753e-12,
           1.05981041374722e-13,
           2.2659184849383184e-11,
           9.402664864737612e-16,
           2.67314989760948e-13,
           1.909593484577421e-12,
           1.7492456487985444e-12,
           2.887234238507232e-17,
           6.635764932675826e-14,
           2.9658209718731144e-20,
           1.3704543697528113e-13,
           4.674346910947332e-13,
           1.7022648974960132e-13,
           2.6673278434757762e-14,
           2.428363175014293e-11,
           3.214519425582655e-11,
           3.253780838061221e-13,
           8.588239079902857e-17,
           1.989767876993314e-24,
           1.6989601817152473e-12,
           7.036874166331938e-12,
           5.0575896833700473e-11,
           6.4066401346857e-31,
           4.3536828809090864e-12,
           4.70301762627199e-13,
           8.460841956525712e-11,
           1.2760660230943741e-14,
           1.8669411410517348e-11,
           1.967593079731038e-16,
           7.908081088381033e-15,
           4.991750493858037e-13,
           6.677888693900616e-14,
           1.3928399572863932e-12,
           3.526147136894892e-13,
           1.0594029577288038e-11,
           4.673914034486622e-12,
           1.0772026352026947e-12,
           8.798328519690124e-12,
           4.472998369774174e-21,
           1.3876356127221958e-14,
           7.372416796576848e-12,
           1.929236135728185e-12,
           1.4581416765841692e-14,
           4.2953757616494294e-11,
           1.371660345530654e-13,
           8.675346687405134e-13,
           2.0780655421499524e-13,
           5.998752247385604e-11,
           2.106372081388432e-14,
           3.797339753956239e-16,
           1.537912656921107e-11,
           1.9215401542893854e-17,
           4.259385759879381e-14,
           1.575555866342324e-14,
           3.38512954552167e-12,
           3.759739815202777e-16,
           9.767520598298035e-12,
           9.348886823861753e-13,
           2.9148698979446995e-13,
           6.305676904364016e-12,
           1.0442941068243918e-15,
           9.117860153606128e-12,
           1.6236802274903166e-12,
           2.436637039042279e-12,
           5.242069536545559e-13,
           2.7038160437561234e-13,
           9.870354301355066e-14,
           3.042555089906786e-12,
           4.0491526929099404e-12,
           2.160095240935026e-14,
           8.068917737078015e-14,
           4.63836766716831e-14,
           1.6573064035724506e-12,
           6.910587434963218e-11,
           4.510009964467976e-12,
           2.536867530729025e-14,
           8.178479560760231e-13,
           7.62705652098612e-12,
           4.9497175253500516e-14,
           1.0147784316323152e-11,
           9.145204457031812e-12,
           3.322574977693442e-12,
           3.898335492961258e-12,
           9.35953201641009e-12,
           6.217556705420046e-17,
           1.2508461989386856e-13,
           4.245989891123173e-12,
           3.026308310945239e-14,
           7.877389759198552e-12,
           1.5386735873839857e-12,
           4.541118852764327e-12,
           6.538667463399251e-14,
           6.29620636180816e-13,
           7.998675731225187e-13,
           2.235286981793872e-12,
           8.47309053279496e-12,
           1.0327910480764095e-18,
           5.171558359594434e-12,
           7.388662639451176e-12,
           1.073447812424531e-12,
           3.014577470175572e-19,
           4.952934415652769e-12,
           2.4606289289646666e-12,
           1.111913249353295e-13,
           3.6313332836611734e-12,
           5.517442892278407e-13,
           3.0072693710432143e-12,
           2.8328524768691836e-12,
           8.285347173892364e-12,
           3.8852305786552816e-16,
           2.9754267584302194e-12,
           4.555446697962788e-13,
           3.9828076061978865e-12,
           3.27073217020647e-12,
           1.1712413471215538e-12,
           3.4128954248932964e-12,
           4.438345945797333e-12,
           2.3326505353700914e-15,
           1.114310551951374e-13,
           1.9770763299343834e-11,
           4.102918764081947e-12,
           1.4219821613573332e-14,
           9.782421624193362e-14,
           2.1057624168756797e-13,
           3.096571775039482e-11,
           5.698351159910663e-14,
           9.119175633394375e-14,
           6.414173906863508e-12,
           2.3880090005188358e-14,
           1.8186479638186898e-12,
           3.37497985103009e-13,
           1.0912450734645642e-13,
           7.544684947373637e-12,
           1.1028843845030163e-13,
           4.222230131313251e-15,
           2.1315548637284106e-12,
           6.246641621313613e-13,
           5.600055476239239e-13,
           3.745140706704071e-12,
           2.2063132716624651e-16,
           2.4289836330639985e-12,
           4.037409641341649e-12,
           1.490505768496058e-16,
           2.247340456021019e-14,
           2.097695422568921e-14,
           7.806075070921798e-14,
           7.536107782989837e-19,
           3.3643245939680113e-12,
           5.016795062234974e-12,
           7.895613313415156e-13,
           5.4353250647780736e-14,
           1.5803133403522155e-13,
           3.4188206121064863e-12,
           3.3701225005270122e-12,
           2.7712036421067217e-14,
           3.473999673424867e-13,
           7.098187110203732e-12,
           5.753934226901365e-17,
           2.4063843061146545e-12,
           7.352244421998924e-12,
           2.6313127470287006e-12,
           9.537167032853331e-12,
           2.1451874867969515e-15,
           8.897394338226562e-12,
           6.730478122922428e-14,
           6.142220081539716e-15,
           2.446934745156317e-16,
           2.7340351245957207e-12,
           5.128757576101334e-11,
           7.447011999069272e-13,
           6.205135957612749e-13,
           5.031516386254541e-12,
           5.072286768023628e-14,
           1.2876424296306152e-14,
           1.0472328604036192e-13,
           3.7440773962441335e-13,
           8.685441590861266e-12,
           2.39973397291225e-11,
           2.832380142224192e-13,
           4.997918598578121e-17,
           8.096907380077883e-13,
           1.915782963607368e-15,
           3.214882669642651e-12,
           5.255445786278927e-12,
           7.424496470815444e-13,
           6.979774762003482e-12,
           8.828953262477711e-12,
           1.0391514440200725e-12,
           2.024765682837886e-16,
           3.088459685573489e-11,
           5.837695103072505e-12,
           2.3259533325535583e-13,
           2.96278247399071e-13,
           4.931616922590842e-12,
           1.3999103222328682e-13,
           6.2703721650490444e-12,
           2.429070317162146e-12,
           1.2084768775370263e-13,
           6.17362054062933e-15,
           1.722999892781494e-12,
           1.6807713574097152e-12,
           6.334066232176026e-12,
           2.8338855963943748e-11,
           1.5867193905498094e-15,
           2.2329355130619778e-12,
           3.0685702832141365e-19,
           1.3369241779149606e-11,
           4.66801830890502e-12,
           6.787145592649259e-13,
           1.6283542386037921e-18,
           1.4486762967619584e-14,
           4.858081558958057e-12,
           2.7454414879796297e-14,
           1.0383133942652966e-11,
           1.3162797119959285e-13,
           1.5269672700541053e-22,
           1.4887688145656718e-12,
           2.0901816735240076e-13,
           2.6810817050538654e-12,
           3.861468380236303e-15,
           1.1988038575319111e-12,
           8.719951324018572e-14,
           2.5577334214068986e-17,
           4.299260712447801e-13,
           9.75532578328592e-14,
           2.0671473860094327e-14,
           2.258535832914975e-12,
           4.0523395711839484e-13,
           2.4276953760888867e-13,
           2.9562307188812854e-15,
           3.70118220751092e-13,
           2.1144479171945066e-12,
           6.548274432073868e-14,
           3.071485853248156e-14,
           4.375469379418502e-12,
           2.0279193243968728e-14,
           6.689763663156616e-14,
           4.4837506970747316e-13,
           1.174478626318771e-13,
           1.9287513831419135e-12,
           1.3261790235677668e-12,
           2.0866055897439786e-13,
           2.0140431274784752e-13,
           4.8951300017730354e-15,
           1.1080271085100138e-12,
           3.2630354248826676e-12,
           2.3227809375083367e-11,
           9.0097943368554e-13,
           1.9646878243949543e-12,
           3.4689927140225137e-12,
           8.693545862055495e-13,
           6.007697140092175e-16,
           3.6675356836220897e-13,
           6.0363043389777175e-12,
           7.654201603703777e-27,
           1.6597220594499034e-13,
           6.281927586600437e-12,
           6.9196002680921564e-12,
           6.697591089102388e-12,
           5.981590270136907e-12,
           1.814008915532424e-12,
           9.648989687782187e-12,
           4.1016079077690976e-13,
           2.5383877837332393e-13,
           4.1893693513024026e-13,
           4.2850221095434205e-12,
           5.064969238485531e-12,
           6.199294691138142e-12,
           4.300222856764661e-12,
           3.487760830699185e-18,
           5.375833333189412e-12,
           8.781986349288808e-12,
           2.270867236243834e-12,
           3.99686593247247e-11,
           2.8304146120170596e-13,
           6.810114537671587e-11,
           2.172033405255838e-12,
           5.694848186539791e-11,
           8.452493183240149e-17,
           8.023831132530552e-13,
           3.8877844394515595e-13,
           5.5650015905864345e-11,
           4.518837323080415e-12,
           3.2346046388404175e-14,
           2.653674879921084e-12,
           5.0296584714621826e-12,
           1.0146500270609484e-13,
           9.80265594023464e-24,
           1.9250293528397785e-11,
           1.6423083771854693e-12,
           1.69442595114916e-12,
           3.224676073308447e-12,
           9.589433996776315e-12,
           4.983817693414182e-13,
           1.773047390014789e-15,
           1.7400503544043078e-17,
           6.151327225574217e-13,
           3.851787490165418e-14,
           7.818988040721882e-11,
           3.0814517483516166e-11,
           3.4061885776795244e-12,
           3.507701252052963e-11,
           1.742257141523147e-22,
           3.5163574145153584e-17,
           3.1190375511264885e-12,
           5.403088299567673e-14,
           7.062820907343209e-13,
           2.3380839331407028e-12,
           3.55796503838578e-11,
           1.0915278388575232e-12,
           4.817573470693166e-13,
           5.921433797468496e-14,
           1.3866676854447765e-12,
           6.676113439043283e-14,
           6.847508479134911e-13,
           5.058351996194687e-11,
           3.1170631907414416e-12,
           5.87155441431579e-12,
           7.127783632838042e-13,
           4.177581589330023e-13,
           1.253773634006672e-13,
           5.343047685245204e-15,
           1.7325768868677934e-21,
           1.7415432984481446e-13,
           1.2088845553347387e-13,
           1.9571603427735643e-14,
           4.503206771115854e-11,
           8.506610899112026e-14,
           5.745140733948546e-12,
           7.013055199689301e-13,
           5.447446679922189e-12,
           5.0303973512911055e-12,
           1.7342220247969946e-14,
           2.033397955626112e-12,
           5.622668347660801e-12,
           2.9796927071742446e-12,
           5.1542459472417564e-11,
           3.9310257742382805e-13,
           6.751366648020193e-12,
           2.2739269182592204e-12,
           4.020462821403843e-11,
           3.547403167228293e-13,
           8.639870935470427e-12,
           8.06445097793637e-13,
           2.0687951110530853e-13,
           6.00676480147804e-12,
           1.0092933236710491e-11,
           3.85808393357277e-12,
           2.7849399566173032e-11,
           5.922771417863714e-12,
           6.783274131844399e-12,
           1.0391904104000744e-11,
           2.399914922413767e-12,
           1.8473014444667532e-13,
           6.311989640927052e-13,
           1.1120565794685969e-11,
           8.661417584304573e-12,
           3.105001095812506e-12,
           9.241460914332646e-12,
           8.250548487446612e-11,
           6.810626941790881e-13,
           1.0097647851191564e-12,
           2.0147062670920956e-13,
           1.3616704447423969e-11,
           1.190387181053188e-11,
           1.530767946705223e-13,
           9.73216354146723e-13,
           1.6365999116746296e-11,
           9.170282319967415e-12,
           9.285875869427052e-13,
           8.235733074375041e-13,
           9.862882982142877e-12,
           5.267362013372591e-12,
           1.4978510854485211e-12,
           3.0459156571471014e-11,
           2.838703588407266e-13,
           8.784379485084828e-12,
           5.575361280058607e-13,
           1.080985036403787e-12,
           3.279564813816741e-12,
           1.7653576989239626e-12,
           6.39622483805187e-11,
           2.885635897321091e-11,
           7.671583949144845e-13,
           5.285829673520071e-13,
           9.037312318706903e-12,
           2.3752291231955674e-14,
           2.663089095766399e-12,
           2.6882098399500955e-12,
           1.0409302971029118e-11,
           9.31243205284148e-13,
           6.317814590247208e-11,
           5.612920785481166e-12,
           5.473842472834436e-11,
           1.029447932361009e-12,
           1.0376124717072022e-11,
           9.604021182822353e-12,
           6.1681164122079755e-12,
           1.0122702885302772e-11,
           8.571478659862203e-12,
           3.504120706063651e-12,
           5.468406835946207e-12,
           1.6729414329418567e-12,
           8.49291719539766e-13,
           1.0828827397202894e-14,
           8.247632152979759e-12,
           6.959643063198058e-12,
           2.519756127501174e-13,
           9.212467128021716e-13,
           4.390430824692775e-13,
           1.8005250573606053e-12,
           4.4901211879808695e-12,
           8.820787749256169e-13,
           3.939909158012598e-13,
           8.819500660395506e-12,
           8.987635042734037e-13,
           3.4788522748824983e-12,
           2.206436980177633e-12,
           6.226854123025561e-11,
           3.0889240190142978e-12,
           3.0725380396955413e-13,
           1.9496408374689232e-12,
           1.9572244482592175e-12,
           3.2876825227632925e-12,
           1.4472022657136034e-12,
           4.1086138928371575e-12,
           5.1980781398369885e-12,
           4.793463496812132e-12,
           9.724878449804586e-13,
           8.523916520602386e-12,
           6.5777632382672e-11,
           7.864576022647101e-12,
           7.105492386801107e-13,
           4.779331536243917e-12,
           7.59471372179032e-12,
           7.0445373078642454e-12,
           1.0923166025405941e-11,
           8.85500551645114e-13,
           3.546062667858264e-11,
           6.049510527181646e-12,
           5.322777012892725e-13,
           7.1112069715626354e-12,
           2.318016512408182e-12,
           5.9335734432530784e-12,
           2.816898534256082e-12,
           5.359575343437926e-12,
           3.6360810237046777e-12,
           2.3857209779131337e-13,
           4.538871877991309e-12,
           5.01705642509027e-12,
           5.644600153411637e-13,
           8.202838033153492e-11,
           2.06712510226509e-12,
           2.92763888989092e-12,
           6.839454823263233e-13,
           1.405067868507878e-12,
           7.286240625489037e-12,
           6.7026708085321126e-12,
           4.2777111482440225e-13,
           1.0900079706146131e-11,
           4.096550663058287e-13,
           7.208536270288842e-13,
           3.5459020431431244e-11,
           6.469922704075782e-12,
           1.3467200687895286e-12,
           1.0090711055872001e-11,
           2.4680396818768624e-12,
           4.225273842398876e-12,
           1.2014265584969975e-12,
           2.0943265674089294e-13,
           6.125734523707917e-13,
           8.112742564206754e-12,
           7.490895396230661e-11,
           1.0069213705048017e-11,
           1.4442530970442775e-13,
           9.204613020495621e-12,
           2.5429001301207947e-11,
           1.0266485617484567e-11,
           8.818022204517371e-12,
           5.587483154525471e-12,
           1.3690623075479724e-13,
           1.3792335994981868e-11,
           1.0971458017400607e-11,
           4.8744349215759475e-12,
           9.673103789304467e-14,
           5.038919823930223e-12,
           2.88035885455176e-12,
           4.142029024392244e-12,
           9.566735461860466e-12,
           6.665172170300217e-12,
           2.9558637401343526e-12,
           1.1726865758884291e-11,
           5.041715473340293e-13,
           7.942854525193242e-12,
           4.8116990923192315e-12,
           3.657187351462168e-12,
           3.37608768916246e-12,
           5.619581459616843e-13,
           6.46481500162103e-12,
           1.610191409078268e-12,
           3.929219520235245e-12,
           7.843043476453548e-11,
           1.6275431564244432e-12,
           6.21716791043934e-12,
           6.771435860868058e-13,
           5.1114033835580685e-12,
           6.31770278778954e-11,
           5.088577294506705e-13,
           8.3555249901849e-13,
           1.0148184874334567e-13,
           1.7068784326909696e-12,
           2.6582792494554124e-13,
           1.3602793067875201e-12,
           2.0295193896394372e-13,
           4.57520708658701e-12,
           3.5358538004891973e-12,
           5.422278279939448e-13,
           1.9506821132136507e-13,
           7.31923346260902e-11,
           3.3455886964088593e-13,
           6.473928491132048e-13,
           4.886145318077695e-12,
           1.919460861104117e-12,
           6.695839644519133e-13,
           9.52006695510758e-12,
           2.4528659409154523e-13,
           8.185270353096437e-13,
           1.1217050726704944e-11,
           3.692581582044794e-13,
           1.5882452185755828e-11,
           1.1120430541843985e-11,
           6.7912971938171666e-12,
           3.1594031284147324e-11,
           6.320760452396268e-11,
           1.0515580057855468e-11,
           8.724092203070483e-12,
           1.3870251983662917e-12,
           1.0122845829961381e-11,
           5.414353452138788e-12,
           1.0569701243259438e-11,
           4.763517048004972e-11,
           3.636013894041798e-13,
           1.31690536974477e-13,
           1.848883063702332e-11,
           6.155996033309196e-13,
           1.0854126226198702e-12,
           6.763298823504236e-12,
           4.23748505222121e-12,
           1.5257087043642227e-12,
           8.833647295091354e-12,
           3.913776499308136e-11,
           8.100438646190655e-11,
           6.766504240567542e-13,
           1.579702624643593e-12,
           1.9452194897500045e-11,
           7.632775774911549e-12,
           4.9398230596745715e-11,
           2.4678513646128424e-12,
           1.1562047213421857e-12,
           4.182312839340359e-12,
           6.349281755575973e-11,
           1.8563612177655473e-11,
           5.2462253097433395e-12,
           5.2005342995203e-13,
           1.2428877318954627e-12,
           5.7333434268448965e-12,
           3.0100089563136933e-13,
           6.7072994659502245e-12,
           4.1537553473196485e-12,
           9.272242531120475e-14,
           9.397590539224318e-13,
           1.7011963566201843e-11,
           2.3851139138724406e-13,
           3.690454364455403e-12,
           3.499360661008468e-12,
           5.848923775660589e-13,
           2.745742615953524e-12,
           9.184986985285072e-12,
           9.142777568767176e-12,
           8.71775906139691e-12,
           4.159210395440477e-11,
           4.152605524015907e-12,
           2.7770334313035507e-12,
           7.546237714656234e-13,
           5.472942916381062e-13,
           6.498756706219059e-12,
           8.935760977994331e-12,
           6.115564586374522e-13,
           1.3340633701833934e-13,
           4.999811127519131e-12,
           6.414523702490223e-12,
           2.484855571978813e-12,
           2.165395174066918e-11,
           5.3971401451906385e-12,
           1.5769882346634796e-11,
           9.42361544511531e-12,
           2.3300841050536955e-12,
           1.3957792595523499e-11,
           8.419089105049402e-12,
           8.04582027924132e-12,
           5.237456170269109e-12,
           6.5571577451514415e-12,
           7.995868662422186e-13,
           1.0181215135658807e-11,
           1.2626694950511436e-12,
           2.4327722995539736e-12,
           1.462191329116582e-12,
           4.171743048800296e-12,
           3.807927834534658e-11,
           3.412850419748568e-13,
           8.347179323030779e-13,
           8.286440456911118e-12,
           4.0914729170498055e-11,
           3.93813138963125e-12,
           1.242407050369007e-12,
           4.1231551280448486e-12,
           5.895619764502253e-13,
           7.938782467422054e-13,
           2.5807565424979533e-12,
           3.173655533211984e-12,
           2.599261560076063e-13,
           3.2251866198932934e-12,
           1.5973271416989733e-13,
           1.1735115195273513e-11,
           2.7745628160226053e-13,
           1.4953142334151612e-12,
           4.417906911894911e-11,
           3.5573646148652697e-11,
           3.301640501381021e-12,
           6.463359507119734e-13,
           6.799526041853123e-13,
           1.5869723555456597e-12,
           2.9701516699354643e-12,
           4.168848796482059e-12,
           4.033667780285493e-12,
           2.0523341492015502e-14,
           2.9226618484880163e-12,
           3.604832405292796e-12,
           6.536862520345126e-12,
           2.381449774104813e-11,
           4.810273390279705e-12,
           1.0222029600024095e-11,
           1.196902910933904e-12,
           3.7114198052390395e-12,
           9.083812244462394e-12,
           5.553489097189712e-13,
           2.3255803130165138e-11,
           7.094360359991909e-11,
           2.7728869598383527e-12,
           1.5606414492795396e-11,
           1.4445169741189434e-13,
           9.427183046671316e-12,
           7.608446072838742e-12,
           5.624773511612455e-13,
           5.303854464756631e-11,
           7.362777032855378e-12,
           4.357050564836491e-12,
           9.690202702478366e-12,
           8.166394793480971e-12,
           1.0563640781721288e-11,
           2.132687113341572e-12,
           1.1869803086955321e-11,
           2.281450827296378e-11,
           2.647677638515726e-12,
           5.064136491339345e-12,
           3.803127498204984e-13,
           2.6959143375922525e-12,
           5.05062960900751e-12,
           2.0227094945191534e-11,
           9.009484024869782e-12,
           7.03589191527006e-11,
           1.0850531799605226e-11,
           6.227204318946389e-12,
           1.2384033884974423e-12,
           4.613942004950994e-12,
           9.454696056134904e-13,
           1.7354455283114923e-12,
           3.765668910070988e-12,
           5.906994471935597e-11,
           4.465724603706771e-12,
           3.570648015354626e-13,
           9.453177139556165e-12,
           9.944906882830854e-12,
           4.5963016648612e-12,
           5.1544625153496906e-12,
           1.0572648992843658e-11,
           1.1941378389027557e-12,
           7.32599597822353e-11,
           1.3136224042153893e-12,
           7.045881476065068e-13,
           1.0049487306911247e-12,
           1.9775274018285864e-13,
           3.1137971192654717e-12,
           2.4848823799903535e-12,
           6.629627950011659e-12,
           3.682521037279992e-12,
           2.5440979016043197e-12,
           1.2458910069830337e-12,
           5.086578721004938e-12,
           7.044818313450402e-12,
           9.936638631231753e-14,
           5.795882946050534e-13,
           1.4135050348354754e-12,
           3.106610310770596e-14,
           1.0327745594749528e-11,
           3.220421636889855e-11,
           2.078602697376685e-12,
           4.35695282388011e-12,
           3.0948866750427368e-12,
           4.927493332422678e-11,
           8.76221214232725e-12,
           1.9365303815874097e-11,
           4.4153513922342355e-12,
           6.747818317715897e-12,
           9.2178721410453e-13,
           6.137771706181365e-12,
           7.378861322602665e-12,
           4.678668546018166e-12,
           3.5324471794028723e-12,
           2.3470045538681048e-11,
           8.217736754010197e-13,
           7.032901315000696e-13,
           6.009132917140069e-13,
           4.266208895732425e-12,
           6.335293489669905e-13,
           2.947669725344758e-11,
           1.966724874922114e-12,
           1.2871879898392903e-12,
           8.020786548027499e-13,
           7.967751050200839e-12,
           1.6045926788678495e-14,
           7.705921612933684e-15,
           9.571521785273668e-13,
           3.800976362025327e-12,
           4.6631445333054605e-12,
           2.3945767984105857e-13,
           6.0460109205434996e-12,
           4.384093227574189e-12,
           6.090274354924872e-12,
           6.232861260912964e-12,
           1.0979948417057603e-11,
           1.3477499176951653e-12,
           9.329254679649041e-12,
           5.921348457454276e-12,
           7.594066207438983e-12,
           3.9130501522334045e-12,
           7.846212822764516e-12,
           1.6754651350996452e-12,
           5.058514939537253e-12,
           3.3214788726177363e-12,
           5.653431910200817e-12,
           9.120886436603131e-12,
           9.286331354775378e-12,
           3.461068699453362e-13,
           1.1488646636274569e-11,
           8.911315093062975e-12,
           2.8275208993184963e-13,
           8.833803034461225e-12,
           3.9254441007604535e-12,
           5.863939016995267e-12,
           2.63753708208974e-12,
           1.48275906640719e-12,
           1.2633553934961379e-12,
           7.242023545386173e-12,
           1.4325567955499996e-12,
           5.593267996928224e-12,
           2.7488557087448315e-12,
           9.163727480927307e-14,
           5.766739229195554e-12,
           1.2991997817527854e-11,
           6.5300141432110225e-12,
           4.033194689871945e-12,
           9.967072805423065e-12,
           3.1274286801927553e-12,
           3.3654758272133385e-12,
           4.392072039819583e-12,
           1.645358142742144e-13,
           5.6270285112675745e-12,
           5.8601157364291556e-12,
           6.080720236468364e-12,
           2.574651802184119e-14,
           9.014519686094161e-13,
           8.75825454713811e-12,
           5.8820249634679124e-12,
           9.9615346496185e-15,
           5.501250106915645e-12,
           7.538584682373588e-12,
           4.408578347384792e-12,
           8.234114512665152e-12,
           1.477648007092482e-15,
           4.759534080137321e-12,
           5.98257888803018e-12,
           6.6022300688420885e-12,
           2.110968720264201e-12,
           1.3415011416121357e-11,
           2.182548083782255e-12,
           1.4649357295415463e-12,
           3.5905503652875503e-12,
           1.914314755661e-12,
           8.390815219054537e-12,
           4.204478961722297e-12,
           3.4652679369675633e-12,
           2.128687829234633e-12,
           4.765393610898629e-12,
           8.304563810824965e-12,
           6.183573402658222e-12,
           4.597608461184584e-13,
           9.157594419312953e-12,
           9.114785320028002e-13,
           4.1957480925690093e-13,
           1.1170871391844515e-11,
           9.965174664798641e-12,
           6.51307702043494e-12,
           2.7939350407599233e-12,
           1.6548474021883086e-12,
           8.357945058902842e-12,
           8.150538326514468e-12,
           2.8721826514948166e-12,
           1.7865606147015254e-12,
           2.5234036069264263e-12,
           1.1599298533789462e-11,
           5.9348058700175845e-12,
           9.86823051316282e-13,
           4.542295650348445e-12,
           9.525704069059428e-13,
           4.868984740826228e-12,
           3.4403313071534714e-12,
           2.3718427556248254e-12,
           2.377979833814051e-13,
           5.162395492400176e-12,
           6.1157253675705004e-12,
           8.16114121747122e-12,
           7.127259304121894e-12,
           1.0024146082178782e-11,
           4.200357894683946e-13,
           4.50102637949498e-12,
           9.726538104026245e-12,
           5.7455264692183464e-12,
           5.205910905674425e-13,
           2.271025515868235e-15,
           6.509929622054416e-12,
           8.058594573821969e-12,
           6.992048574855839e-12,
           8.258426186591889e-12,
           1.1876790325148034e-11,
           5.997233570103884e-12,
           3.1987575665133767e-12,
           5.717877443186874e-12,
           6.479485646178146e-12,
           3.981337814480103e-12,
           9.449166212774469e-12,
           1.8342033079186366e-12,
           3.446638281796635e-12,
           8.956649306680765e-12,
           3.0733173734600194e-13,
           1.6002156872824882e-12,
           6.099576145070938e-12,
           5.819393027958968e-12,
           1.0645592576141722e-11,
           1.845816202613817e-12,
           3.6264910869527995e-12,
           9.140295076111212e-12,
           8.10434978312212e-12,
           8.883837855371682e-12,
           8.324852303372704e-12,
           9.437850011629188e-12,
           9.715811572547576e-12,
           4.545416192090534e-12,
           3.4507760687291617e-12,
           6.588856484561161e-12,
           9.35978068056287e-12,
           4.6569332452395904e-12,
           4.5641450643511515e-12,
           9.176797912729469e-12,
           1.2595430791552548e-13,
           8.608597948027389e-13,
           9.597364726530421e-13,
           1.811909087582953e-14,
           2.5645381908972167e-12,
           1.0275612215328751e-11,
           9.950546397345898e-13,
           4.618975939854263e-12,
           2.6325241631813546e-12,
           8.807736078198214e-13,
           5.500711491606661e-12,
           6.8623498779932505e-12,
           5.356668358147873e-12,
           1.2718864124092471e-12,
           9.152426446308721e-12,
           3.9075963341174435e-12,
           7.962687586726301e-13,
           1.104565178963494e-11,
           2.7486741328139728e-12,
           9.188408467521062e-12,
           6.5992441868197745e-12,
           4.953198724825067e-12,
           5.153087452827506e-12,
           8.377561701677636e-13,
           4.750943732921802e-12,
           1.0179794135658252e-11,
           4.099373664572168e-12,
           4.7411402812128836e-12,
           4.0848789978552314e-12,
           4.898520140017333e-12,
           6.788648996517515e-12,
           9.45289942169619e-12,
           2.9161278472280717e-12,
           3.4175225901854e-13,
           1.22908997606223e-12,
           8.385588387681902e-12,
           7.877490104928867e-12,
           6.899617493855276e-12,
           5.7542298473727776e-12,
           1.0279801186872198e-11,
           2.5825103794755546e-11,
           1.6532128406798073e-12,
           1.0655827651497385e-11,
           6.560498510455378e-13,
           5.0142195081425456e-12,
           6.9673014167436155e-12,
           9.523683388981843e-12,
           7.592601112475475e-12,
           5.17235487644379e-15,
           3.6835613813289855e-12,
           3.1474574849624496e-12,
           8.975040544100201e-12,
           3.3538409469003425e-12,
           5.521381308335304e-13,
           1.0567452150739885e-11,
           7.708491378064705e-12,
           1.0557294114292331e-12,
           5.683531965252179e-12,
           8.438650090931826e-12,
           9.11604364038928e-12,
           7.826159303130295e-12,
           4.0607093534775376e-12,
           1.4597465114702095e-12,
           4.641971859080167e-12,
           9.38635445293283e-12,
           3.743361382186473e-13,
           5.323079512450538e-12,
           8.349702850974626e-12,
           4.753299950423267e-11,
           6.862740171515741e-12,
           9.036957205065743e-13,
           1.0643501687415324e-12,
           5.896074021942172e-12,
           4.207269123901663e-12,
           1.5886257267264895e-12,
           1.082254739610305e-11,
           5.926280993672641e-12,
           3.585641815626354e-12,
           9.056359457604382e-12,
           3.1333845382034815e-12,
           6.1085769758052665e-12,
           1.3908622229914454e-13,
           1.0903795448502487e-11,
           4.459866572666693e-12,
           1.7226826576734692e-12,
           4.4251593054504764e-11,
           6.836830458847627e-12,
           1.0219035594684607e-11,
           1.1432570656614742e-11,
           5.029649611315326e-12,
           7.979744368112329e-12,
           6.370585515683134e-12,
           5.1357979572653135e-12,
           1.7984932850461154e-12,
           3.543936627660215e-12,
           1.1404749449539476e-12,
           9.617753286264893e-13,
           9.30226642336558e-12,
           7.722152950097936e-12,
           8.440771830166021e-13,
           1.1099000820026562e-11,
           4.145410278923789e-12,
           1.6800306801589428e-12,
           8.439436243970207e-12,
           3.26014838170733e-12,
           4.426646148672079e-12,
           6.1698899268669606e-15,
           1.095084852830502e-11,
           7.463763496923422e-12,
           7.030272036123715e-13,
           4.936752299739831e-13,
           1.582542009023045e-12,
           8.692513532369537e-12,
           7.369176441842013e-12,
           5.890312322887173e-12,
           6.325893724487712e-12,
           2.5873856549088083e-12,
           2.131129608292298e-14,
           3.3349154772602968e-12,
           1.1032695122066749e-11,
           5.086876675527583e-12,
           3.0650676110743084e-12,
           7.167815862651292e-13,
           9.159589994528147e-12,
           4.008596695267248e-12,
           8.076269771383591e-12,
           3.121497372966148e-12,
           8.34072190968887e-12,
           4.773320608158733e-12,
           1.7278701832092408e-12,
           6.501165752348661e-12,
           4.1405660144883553e-13,
           9.664878498275394e-12,
           5.723934394031161e-12,
           9.338095742455117e-12,
           4.473848277583062e-12,
           5.462546074950731e-12,
           5.1320004033184715e-12,
           4.254873935946736e-13,
           1.0194501436107384e-11,
           7.433065050594908e-12,
           6.06337736903325e-12,
           6.804259057431411e-13,
           7.590104660901183e-12,
           5.9140001146144745e-12,
           6.3622684655088824e-12,
           9.311974353125008e-12,
           8.669947185488505e-12,
           2.813106489564222e-13,
           4.83508148416716e-12,
           2.053718966049681e-11,
           9.339903219689666e-13,
           5.535004827527121e-12,
           5.5260823829052435e-12,
           6.691600445707693e-12,
           1.8420334618186942e-13,
           1.1472920593541037e-12,
           8.89483906141469e-13,
           1.780130951798434e-13,
           8.442980826630754e-12,
           8.968083118635264e-12,
           7.126890255692634e-12,
           7.137722611825327e-12,
           3.276452164640544e-12,
           6.218524029890476e-12,
           8.898943401689751e-12,
           6.847982180629567e-12,
           9.66975957253129e-13,
           6.8142664667003995e-12,
           8.749648223529349e-12,
           9.592537984733798e-12,
           1.3270177186593218e-12,
           4.7967781165546485e-12,
           4.2946677457048116e-12,
           2.821594726994098e-12,
           5.058271509053408e-12,
           6.195882780997982e-16,
           2.6722244251180023e-12,
           4.295761990645533e-12,
           4.0243703400349684e-12,
           7.191644073454106e-12,
           4.916971203322922e-14,
           3.759033330944825e-12,
           3.9553502060061635e-12,
           1.0895491100170578e-11,
           4.8965632316291916e-12,
           9.792454731493725e-12,
           9.978365175394389e-13,
           7.927190839831066e-12,
           9.735279116445947e-12,
           2.1332550688392583e-12,
           2.1482463112555804e-12,
           2.46683891170412e-12,
           3.406707321102692e-12,
           4.4938515674804145e-12,
           2.5558779141989284e-11,
           1.5673367383178225e-12,
           1.4312094704402408e-14,
           5.56662469811161e-12,
           9.185571205354163e-12,
           2.1879542009272815e-14,
           7.642438800184622e-12,
           1.6850084755616884e-12,
           8.62963795754477e-13,
           9.663436930956783e-12,
           4.893243955982916e-12,
           1.6679313095264397e-12,
           5.999152036873728e-13,
           4.648480446118466e-12,
           7.399147686877262e-12,
           4.88739209687202e-12,
           9.836842434949494e-13,
           1.2618786521616125e-14,
           1.4144604196394197e-12,
           7.847634043859396e-12,
           1.956290666558477e-12,
           7.662270300779679e-13,
           2.7331873628786222e-12,
           5.57660618297586e-13,
           6.0007495872860216e-12,
           6.896544645083721e-13,
           4.952511166412204e-12,
           8.153634824419164e-12,
           4.041701328335842e-12,
           9.688115386342174e-12,
           5.655634327446951e-12,
           7.020898927649343e-12,
           5.842472230406187e-13,
           1.5297115040416536e-11,
           8.381319511778214e-12,
           2.0335303802696483e-14,
           4.293407841041648e-12,
           9.024192652701116e-12,
           2.0476359740109014e-13,
           7.025755402776622e-12,
           5.105899186524752e-12,
           1.4465223799614688e-14,
           5.138412720782429e-12,
           6.244081333574616e-13,
           5.802697087443396e-12,
           1.2101409022589514e-14,
           1.5359727141242523e-12,
           2.1865905951338043e-13,
           8.247057021386053e-12,
           8.378199521241084e-12,
           8.192991716685527e-12,
           6.3731135214204855e-12,
           8.074710746087434e-12,
           3.9703967854238545e-12,
           2.120400959556654e-12,
           9.115375531438921e-12,
           7.460769528717557e-12,
           6.228248670616166e-12,
           5.58672180899277e-15,
           2.961737312613496e-12,
           1.1288698166179595e-12,
           8.611877139533935e-12,
           8.31931431907121e-12,
           2.1194783964081027e-12,
           2.732234502561315e-11,
           1.7515173837699434e-12,
           9.036393453229598e-12,
           8.970870516648358e-12,
           1.61715561868003e-14,
           2.2673458876428026e-12,
           5.541595495160522e-12,
           3.644583210208683e-12,
           8.741091091590325e-12,
           1.1612547060492596e-13,
           4.383766998929044e-14,
           3.6841090511723967e-13,
           1.3605175637101996e-13,
           9.595794790003661e-12,
           7.93864795771983e-12,
           6.018223073553981e-13,
           3.00698368060365e-14,
           3.2720951756461357e-12,
           3.351098455466604e-11,
           6.947941494456714e-12,
           7.608947091982084e-13,
           5.4137128112065734e-12,
           1.9870462358194977e-12,
           8.692371402360669e-12,
           1.3905440252346818e-12,
           7.690879525949144e-12,
           4.155005403879307e-12,
           7.0893709454936e-12,
           8.7471655422913e-12,
           4.606822092458136e-12,
           1.1934786495330298e-13,
           2.6501043199887956e-13,
           3.5409181238617247e-12,
           5.132642340147796e-14,
           8.199957214936275e-12,
           7.226833032405481e-12,
           3.83470461052761e-12,
           6.283760515492236e-12,
           8.199406221636548e-12,
           6.849432065620564e-12,
           1.9976733619107074e-14,
           7.760476712912232e-14,
           7.820307410167995e-12,
           6.242285880739417e-13,
           1.0579847501709839e-12,
           2.621777573142602e-12,
           5.77773752901305e-12,
           7.1855948351595274e-12,
           1.9697018756443981e-13,
           1.1188608990456466e-11,
           3.938910432100394e-12,
           5.793815751858646e-13,
           6.359622253172337e-12,
           7.0566783781041896e-12,
           9.190020143262324e-12,
           1.1117308399840522e-11,
           4.151317173569324e-12,
           1.4466210256533572e-13,
           6.9609801909695285e-12,
           2.759315227396607e-12,
           4.273855781887508e-12,
           6.249344829533366e-12,
           6.650655524692345e-12,
           3.794672967757744e-12,
           1.9480813654308377e-12,
           4.519826927713943e-12,
           1.8009661515348236e-15,
           1.0037025407351316e-13,
           2.5480067443279667e-14,
           6.416292698699522e-12,
           9.843183550815255e-12,
           9.33036370795301e-12,
           5.718633461006518e-12,
           4.002785722990854e-12,
           9.628065679159187e-13,
           2.44705756742424e-12,
           5.892546375662512e-12,
           4.296759312466593e-12,
           6.741379549365562e-12,
           1.2396545978013143e-12,
           1.1267721644951195e-11,
           9.453810477761974e-12,
           1.306579376244948e-12,
           1.5124267253947372e-12,
           9.02096115757448e-12,
           8.807181312225556e-12,
           8.910533822204702e-12,
           3.167036633760206e-15,
           3.797079581082276e-13,
           6.800127462395548e-12,
           9.250176779594825e-12,
           6.92373567088076e-12,
           1.6944926812801696e-12,
           1.2306143720178706e-13,
           9.027759689402496e-12,
           9.191573549138506e-12,
           2.430352607973205e-12,
           5.170852756339764e-12,
           9.55238301426323e-12,
           4.305491512011258e-14,
           5.787000968501871e-12,
           4.623019084478291e-12,
           5.434015326040625e-12,
           1.3712070680832418e-12,
           4.066837720227622e-12,
           1.0934317889509736e-14,
           3.2699751341279907e-12,
           5.462418378533128e-13,
           2.815425151273573e-12,
           4.985508575851301e-12,
           3.3212818657970846e-12,
           4.659464745301833e-12,
           9.092207110006362e-12,
           6.0489535815513484e-12,
           8.569591787793101e-12,
           7.168098310876561e-12,
           9.76808270482824e-13,
           8.038981014990486e-12,
           1.3359584360326334e-13,
           1.337930035136972e-12,
           2.444812828945383e-12,
           7.802942037535917e-12,
           5.491319263004585e-13,
           1.0032885508028277e-11,
           2.575402673022888e-12,
           7.843719757724622e-12,
           5.029488339148622e-13,
           5.280167655478649e-12,
           4.432602564499146e-12,
           6.057252013071534e-12,
           3.922791814207645e-12,
           7.516649185651601e-13,
           8.409483468049887e-13,
           8.025959833756172e-12,
           9.42784046460688e-12,
           1.0215219644873374e-12,
           1.1521315957109111e-11,
           4.936459937590827e-12,
           8.978619112347542e-12,
           6.657329845801033e-12,
           3.76424581472248e-14,
           1.0388716800472148e-13,
           1.6590167978792972e-12,
           8.302283971119087e-14,
           5.989973250291224e-12,
           2.6873675961994866e-14,
           2.7626131793521727e-12,
           1.780463892415294e-12,
           1.6406807102981016e-12,
           7.750912357667942e-12,
           6.281509222680169e-12,
           7.627262503703928e-12,
           1.5154064860172e-13,
           4.8885553912839536e-12,
           9.342970196178898e-12,
           9.229556360902603e-13,
           5.2219064953827185e-12,
           5.723277234079598e-12,
           1.0202304479116918e-11,
           1.85744403835214e-12,
           8.250013239863662e-16,
           6.292581982994647e-13,
           1.7478231759044206e-15,
           5.0429168952928365e-12,
           1.180216212075053e-13,
           2.7475988353717126e-12,
           1.7551954223934796e-13,
           9.378341181215812e-12,
           4.490078382981949e-12,
           9.05744590598046e-15,
           5.13564941791394e-12,
           2.2413373068936468e-12,
           7.970784692210056e-15,
           7.109616267435625e-12,
           3.6901418463196555e-13,
           2.9969543742526013e-13,
           4.254523253670604e-12,
           1.6803864537828557e-12,
           8.784486972059916e-12,
           7.2601848393820886e-12,
           4.8890223614013954e-14,
           1.1511581467484164e-11,
           1.4138982262058407e-14,
           8.945632284964136e-13,
           2.6094595118283966e-12,
           1.1998933454344489e-12,
           1.3882909208932913e-12,
           2.7929974505656866e-12,
           7.61065558090339e-12,
           5.303542088085574e-12,
           7.421594028554832e-12,
           3.206882731885213e-12,
           2.3866454980504844e-14,
           8.85298246926841e-12,
           3.712817516377866e-12,
           5.2873133327054874e-12,
           8.775632735120491e-13,
           4.2563628565112466e-12,
           5.3246752703225214e-12,
           3.7754403392697615e-12,
           1.242836273812378e-15,
           4.705732665943986e-12,
           4.553253313578855e-12,
           8.461825665573909e-12,
           6.64552759045183e-14,
           7.235990308582569e-12,
           2.510516379351115e-13,
           1.821823334868696e-12,
           4.844723527986245e-12,
           1.0524059775321594e-11,
           8.37840501443614e-14,
           7.5977928636874e-12,
           8.652857102882647e-12,
           3.0806449381396915e-11,
           1.0650674478813531e-12,
           6.902471086963065e-12,
           1.2249148568856797e-12,
           6.476077410048557e-13,
           4.8163038860145656e-12,
           7.745738773292427e-12,
           9.704838095531781e-12,
           1.5724655523452202e-13,
           9.248133651773035e-12,
           3.443719557387292e-12,
           9.578044238965281e-12,
           2.526280262222537e-13,
           6.745908803697492e-12,
           5.769197066859027e-12,
           4.2789830462234115e-13,
           2.970456970382152e-12,
           1.2054418930183762e-12,
           3.6228461915047023e-12,
           7.175701682343888e-12,
           1.4472178068781688e-11,
           2.2722431273687296e-12,
           1.2297619897438396e-12,
           3.789950308926209e-12,
           3.035264469072932e-12,
           1.4691585926154272e-13,
           1.8300163352284855e-12,
           7.918171665416357e-12,
           6.2661273937824575e-12,
           9.132660133552282e-12,
           6.913425846432257e-12,
           1.4515495898864027e-12,
           6.055436935491211e-12,
           4.2136820962217866e-12,
           1.5139919788691097e-13,
           9.294279333538144e-12,
           2.8952920410931205e-14,
           1.3252399702030059e-12,
           1.042551929959624e-12,
           6.823989318087986e-12,
           2.6843067496460067e-12,
           3.8348751353074274e-14,
           1.5078156274699747e-12,
           2.717217984328281e-11,
           6.689121648684814e-12,
           1.8797533261496042e-14,
           4.782805896985988e-12,
           4.830324576703079e-15,
           6.0589788162211005e-12,
           3.3039243228109364e-12,
           4.160509100358966e-13,
           4.588906293917343e-12,
           7.478578242861649e-12,
           1.674099202688518e-15,
           6.725435319701981e-12,
           6.542251969052077e-12,
           2.40908943181393e-14,
           7.725371058026533e-15,
           6.9638463284822195e-12,
           2.646125671232851e-12,
           7.356986832576762e-12,
           4.075659566019032e-12,
           5.352338743836311e-13,
           2.204324790890463e-12,
           7.732878977853575e-12,
           1.3274171414265904e-12,
           1.8823357940727234e-13,
           2.968339898753889e-14,
           5.729052387833007e-12,
           4.3253622850775414e-13,
           9.334521221631989e-12,
           5.737141255534481e-12,
           9.217660353932266e-12,
           5.902062592241614e-12,
           3.3619524966992736e-12,
           2.8435802769368507e-12,
           6.515404880816616e-12,
           1.4870322157075725e-11,
           8.336418674127964e-12,
           6.708588073580439e-13,
           1.1554241704425052e-12,
           5.590847465166088e-12,
           1.1381250892819954e-13,
           5.009591360072702e-13,
           3.071991116674167e-12,
           1.1622043491682865e-11,
           4.163532113339735e-13,
           8.272071204388844e-12,
           4.841274530027426e-13,
           2.1854356888427636e-13,
           6.941085291698068e-12,
           1.6173297211070118e-14,
           1.5657903275813798e-14,
           9.193700180113597e-12,
           1.5410845398339064e-12,
           3.035595077469827e-12,
           2.9405922706578315e-12,
           1.884882277595584e-16,
           9.052338713247149e-12,
           1.8880632591420822e-11,
           7.769514152635973e-12,
           1.5286025919681278e-12,
           6.150166653047005e-14,
           8.130980710094396e-12,
           7.115430985507968e-13,
           7.686532637177852e-12,
           1.9406507528791964e-11,
           8.063545031115037e-12,
           8.537791333749507e-12,
           2.4043397851951425e-12,
           3.25078317002935e-12,
           9.135653449989599e-12,
           3.141248231249544e-12,
           3.597300739224993e-12,
           2.074304835150966e-12,
           5.459309659457964e-12,
           2.1455121957674504e-12,
           7.50668286642349e-12,
           8.9337477898542e-12,
           7.24385042541658e-12,
           1.7876927806968228e-12,
           1.1181888753407684e-12,
           6.276057603983188e-12,
           8.266028034190941e-12,
           4.802675526606853e-12,
           4.829792361141189e-12,
           7.270394536055411e-12,
           6.778525933576897e-12,
           1.592686741966265e-12,
           1.2645578418451814e-12,
           6.636989898528554e-12,
           7.241929242437636e-12,
           9.286509732682263e-13,
           1.4387096465108506e-12,
           6.3254492454378306e-12,
           4.030578059669777e-13,
           2.0025118832056145e-11,
           1.0729610327007705e-12,
           2.584827699383411e-12,
           1.1891098969489874e-12,
           1.9739705059743615e-12,
           2.368625389665512e-12,
           9.850343378120772e-15,
           8.379962635487102e-12,
           2.900076010442238e-12,
           2.7312578837914983e-12,
           6.8229002843285545e-12,
           4.315128538997824e-12,
           1.0272874934962473e-11,
           1.142916349194032e-11,
           1.7045461377462002e-12,
           7.286851906730016e-13,
           9.964312325772222e-12,
           6.5256274314778784e-12,
           9.010553284783117e-12,
           9.064839550255798e-12,
           7.202187893374064e-12,
           3.2443933597470787e-12,
           5.218573051935247e-12,
           6.065786957037294e-12,
           3.2942033428820623e-13,
           7.23969070807211e-12,
           1.7618777693217966e-12,
           1.1936181690776955e-12,
           5.730778882609094e-12,
           1.1417590364372901e-13,
           6.319847322589345e-12,
           4.733428471271336e-12,
           1.0725918551467784e-12,
           3.118702284204066e-12,
           4.009955322774375e-12,
           2.671070377883696e-12,
           7.439711702866921e-12,
           3.680282757817408e-12,
           9.5562217077187e-12,
           1.6946325915038285e-12,
           1.0820827516232746e-11,
           1.634675570009903e-12,
           2.6513319231315343e-13,
           3.970855690837864e-12,
           1.42634819763171e-12,
           1.0338760475068686e-14,
           8.038016625675663e-12
          ],
          "colorbar": {
           "title": {
            "text": "ColorBar"
           }
          },
          "colorscale": [
           [
            0,
            "#440154"
           ],
           [
            0.1111111111111111,
            "#482878"
           ],
           [
            0.2222222222222222,
            "#3e4989"
           ],
           [
            0.3333333333333333,
            "#31688e"
           ],
           [
            0.4444444444444444,
            "#26828e"
           ],
           [
            0.5555555555555556,
            "#1f9e89"
           ],
           [
            0.6666666666666666,
            "#35b779"
           ],
           [
            0.7777777777777778,
            "#6ece58"
           ],
           [
            0.8888888888888888,
            "#b5de2b"
           ],
           [
            1,
            "#fde725"
           ]
          ],
          "line": {
           "width": 0
          },
          "opacity": 1,
          "size": 5,
          "symbol": "circle"
         },
         "mode": "markers",
         "type": "scatter",
         "x": [
          -4.610048550341667,
          -4.610048550341667,
          -4.610048550341667,
          -4.610048550341667,
          -4.610048550341667,
          -4.610048550341667,
          -4.610048550341667,
          -4.610048550341667,
          -4.610048550341667,
          -4.610048550341667,
          -4.610048550341667,
          -4.610048550341667,
          -4.610048550341667,
          -4.610048550341667,
          -4.610048550341667,
          -4.610048550341667,
          -4.610048550341667,
          -4.610048550341667,
          -4.610048550341667,
          -4.610048550341667,
          -4.121631306098733,
          -4.121631306098733,
          -4.121631306098733,
          -4.121631306098733,
          -4.121631306098733,
          -4.121631306098733,
          -4.121631306098733,
          -4.121631306098733,
          -4.121631306098733,
          -4.121631306098733,
          -4.121631306098733,
          -4.121631306098733,
          -4.121631306098733,
          -4.121631306098733,
          -4.121631306098733,
          -4.121631306098733,
          -4.121631306098733,
          -4.121631306098733,
          -4.121631306098733,
          -4.121631306098733,
          -3.6332140618557993,
          -3.6332140618557993,
          -3.6332140618557993,
          -3.6332140618557993,
          -3.6332140618557993,
          -3.6332140618557993,
          -3.6332140618557993,
          -3.6332140618557993,
          -3.6332140618557993,
          -3.6332140618557993,
          -3.6332140618557993,
          -3.6332140618557993,
          -3.6332140618557993,
          -3.6332140618557993,
          -3.6332140618557993,
          -3.6332140618557993,
          -3.6332140618557993,
          -3.6332140618557993,
          -3.6332140618557993,
          -3.6332140618557993,
          -3.144796817612865,
          -3.144796817612865,
          -3.144796817612865,
          -3.144796817612865,
          -3.144796817612865,
          -3.144796817612865,
          -3.144796817612865,
          -3.144796817612865,
          -3.144796817612865,
          -3.144796817612865,
          -3.144796817612865,
          -3.144796817612865,
          -3.144796817612865,
          -3.144796817612865,
          -3.144796817612865,
          -3.144796817612865,
          -3.144796817612865,
          -3.144796817612865,
          -3.144796817612865,
          -3.144796817612865,
          -2.656379573369931,
          -2.656379573369931,
          -2.656379573369931,
          -2.656379573369931,
          -2.656379573369931,
          -2.656379573369931,
          -2.656379573369931,
          -2.656379573369931,
          -2.656379573369931,
          -2.656379573369931,
          -2.656379573369931,
          -2.656379573369931,
          -2.656379573369931,
          -2.656379573369931,
          -2.656379573369931,
          -2.656379573369931,
          -2.656379573369931,
          -2.656379573369931,
          -2.656379573369931,
          -2.656379573369931,
          -2.167962329126997,
          -2.167962329126997,
          -2.167962329126997,
          -2.167962329126997,
          -2.167962329126997,
          -2.167962329126997,
          -2.167962329126997,
          -2.167962329126997,
          -2.167962329126997,
          -2.167962329126997,
          -2.167962329126997,
          -2.167962329126997,
          -2.167962329126997,
          -2.167962329126997,
          -2.167962329126997,
          -2.167962329126997,
          -2.167962329126997,
          -2.167962329126997,
          -2.167962329126997,
          -2.167962329126997,
          -1.6795450848840625,
          -1.6795450848840625,
          -1.6795450848840625,
          -1.6795450848840625,
          -1.6795450848840625,
          -1.6795450848840625,
          -1.6795450848840625,
          -1.6795450848840625,
          -1.6795450848840625,
          -1.6795450848840625,
          -1.6795450848840625,
          -1.6795450848840625,
          -1.6795450848840625,
          -1.6795450848840625,
          -1.6795450848840625,
          -1.6795450848840625,
          -1.6795450848840625,
          -1.6795450848840625,
          -1.6795450848840625,
          -1.6795450848840625,
          -1.1911278406411285,
          -1.1911278406411285,
          -1.1911278406411285,
          -1.1911278406411285,
          -1.1911278406411285,
          -1.1911278406411285,
          -1.1911278406411285,
          -1.1911278406411285,
          -1.1911278406411285,
          -1.1911278406411285,
          -1.1911278406411285,
          -1.1911278406411285,
          -1.1911278406411285,
          -1.1911278406411285,
          -1.1911278406411285,
          -1.1911278406411285,
          -1.1911278406411285,
          -1.1911278406411285,
          -1.1911278406411285,
          -1.1911278406411285,
          -0.7027105963981946,
          -0.7027105963981946,
          -0.7027105963981946,
          -0.7027105963981946,
          -0.7027105963981946,
          -0.7027105963981946,
          -0.7027105963981946,
          -0.7027105963981946,
          -0.7027105963981946,
          -0.7027105963981946,
          -0.7027105963981946,
          -0.7027105963981946,
          -0.7027105963981946,
          -0.7027105963981946,
          -0.7027105963981946,
          -0.7027105963981946,
          -0.7027105963981946,
          -0.7027105963981946,
          -0.7027105963981946,
          -0.7027105963981946,
          -0.21429335215526013,
          -0.21429335215526013,
          -0.21429335215526013,
          -0.21429335215526013,
          -0.21429335215526013,
          -0.21429335215526013,
          -0.21429335215526013,
          -0.21429335215526013,
          -0.21429335215526013,
          -0.21429335215526013,
          -0.21429335215526013,
          -0.21429335215526013,
          -0.21429335215526013,
          -0.21429335215526013,
          -0.21429335215526013,
          -0.21429335215526013,
          -0.21429335215526013,
          -0.21429335215526013,
          -0.21429335215526013,
          -0.21429335215526013,
          0.2741238920876734,
          0.2741238920876734,
          0.2741238920876734,
          0.2741238920876734,
          0.2741238920876734,
          0.2741238920876734,
          0.2741238920876734,
          0.2741238920876734,
          0.2741238920876734,
          0.2741238920876734,
          0.2741238920876734,
          0.2741238920876734,
          0.2741238920876734,
          0.2741238920876734,
          0.2741238920876734,
          0.2741238920876734,
          0.2741238920876734,
          0.2741238920876734,
          0.2741238920876734,
          0.2741238920876734,
          0.7625411363306078,
          0.7625411363306078,
          0.7625411363306078,
          0.7625411363306078,
          0.7625411363306078,
          0.7625411363306078,
          0.7625411363306078,
          0.7625411363306078,
          0.7625411363306078,
          0.7625411363306078,
          0.7625411363306078,
          0.7625411363306078,
          0.7625411363306078,
          0.7625411363306078,
          0.7625411363306078,
          0.7625411363306078,
          0.7625411363306078,
          0.7625411363306078,
          0.7625411363306078,
          0.7625411363306078,
          1.2509583805735423,
          1.2509583805735423,
          1.2509583805735423,
          1.2509583805735423,
          1.2509583805735423,
          1.2509583805735423,
          1.2509583805735423,
          1.2509583805735423,
          1.2509583805735423,
          1.2509583805735423,
          1.2509583805735423,
          1.2509583805735423,
          1.2509583805735423,
          1.2509583805735423,
          1.2509583805735423,
          1.2509583805735423,
          1.2509583805735423,
          1.2509583805735423,
          1.2509583805735423,
          1.2509583805735423,
          1.7393756248164758,
          1.7393756248164758,
          1.7393756248164758,
          1.7393756248164758,
          1.7393756248164758,
          1.7393756248164758,
          1.7393756248164758,
          1.7393756248164758,
          1.7393756248164758,
          1.7393756248164758,
          1.7393756248164758,
          1.7393756248164758,
          1.7393756248164758,
          1.7393756248164758,
          1.7393756248164758,
          1.7393756248164758,
          1.7393756248164758,
          1.7393756248164758,
          1.7393756248164758,
          1.7393756248164758,
          2.22779286905941,
          2.22779286905941,
          2.22779286905941,
          2.22779286905941,
          2.22779286905941,
          2.22779286905941,
          2.22779286905941,
          2.22779286905941,
          2.22779286905941,
          2.22779286905941,
          2.22779286905941,
          2.22779286905941,
          2.22779286905941,
          2.22779286905941,
          2.22779286905941,
          2.22779286905941,
          2.22779286905941,
          2.22779286905941,
          2.22779286905941,
          2.22779286905941,
          2.7162101133023437,
          2.7162101133023437,
          2.7162101133023437,
          2.7162101133023437,
          2.7162101133023437,
          2.7162101133023437,
          2.7162101133023437,
          2.7162101133023437,
          2.7162101133023437,
          2.7162101133023437,
          2.7162101133023437,
          2.7162101133023437,
          2.7162101133023437,
          2.7162101133023437,
          2.7162101133023437,
          2.7162101133023437,
          2.7162101133023437,
          2.7162101133023437,
          2.7162101133023437,
          2.7162101133023437,
          3.204627357545278,
          3.204627357545278,
          3.204627357545278,
          3.204627357545278,
          3.204627357545278,
          3.204627357545278,
          3.204627357545278,
          3.204627357545278,
          3.204627357545278,
          3.204627357545278,
          3.204627357545278,
          3.204627357545278,
          3.204627357545278,
          3.204627357545278,
          3.204627357545278,
          3.204627357545278,
          3.204627357545278,
          3.204627357545278,
          3.204627357545278,
          3.204627357545278,
          3.6930446017882117,
          3.6930446017882117,
          3.6930446017882117,
          3.6930446017882117,
          3.6930446017882117,
          3.6930446017882117,
          3.6930446017882117,
          3.6930446017882117,
          3.6930446017882117,
          3.6930446017882117,
          3.6930446017882117,
          3.6930446017882117,
          3.6930446017882117,
          3.6930446017882117,
          3.6930446017882117,
          3.6930446017882117,
          3.6930446017882117,
          3.6930446017882117,
          3.6930446017882117,
          3.6930446017882117,
          4.181461846031147,
          4.181461846031147,
          4.181461846031147,
          4.181461846031147,
          4.181461846031147,
          4.181461846031147,
          4.181461846031147,
          4.181461846031147,
          4.181461846031147,
          4.181461846031147,
          4.181461846031147,
          4.181461846031147,
          4.181461846031147,
          4.181461846031147,
          4.181461846031147,
          4.181461846031147,
          4.181461846031147,
          4.181461846031147,
          4.181461846031147,
          4.181461846031147,
          4.6698790902740805,
          4.6698790902740805,
          4.6698790902740805,
          4.6698790902740805,
          4.6698790902740805,
          4.6698790902740805,
          4.6698790902740805,
          4.6698790902740805,
          4.6698790902740805,
          4.6698790902740805,
          4.6698790902740805,
          4.6698790902740805,
          4.6698790902740805,
          4.6698790902740805,
          4.6698790902740805,
          4.6698790902740805,
          4.6698790902740805,
          4.6698790902740805,
          4.6698790902740805,
          4.6698790902740805,
          2.6016418154932244,
          2.6441632388668195,
          1.6205877043961814,
          2.020395233956149,
          2.2050682182518146,
          2.194584657691429,
          1.8400244155438938,
          2.864136925857716,
          2.5809709900130144,
          2.1428318877189687,
          2.336472940338922,
          2.6304253007799283,
          2.6444705825279318,
          1.2832795715159449,
          0.7931904890471202,
          1.370787200088949,
          2.3151562119435383,
          2.3455596129139593,
          2.478613053078491,
          2.519690117085453,
          3.5163714075659813,
          2.304440935194902,
          2.963089113675464,
          2.364712978892266,
          0.7462129363230282,
          1.969323915594709,
          2.1157486053944212,
          3.7067663226347674,
          2.2193423533861822,
          2.1250566829833732,
          1.5951038260236026,
          2.867329878692612,
          2.6813171372436835,
          2.254463902194519,
          2.086034232254441,
          2.116300054661428,
          1.3127458265696865,
          1.012351903224815,
          3.225443947304642,
          1.696737221325247,
          3.115912430327244,
          2.533484825969265,
          2.0373414421098377,
          1.5821151569383807,
          2.6900966552082326,
          3.0180784336617448,
          1.416782940551747,
          2.152502338665586,
          0.7863750165490612,
          2.6667077741776133,
          2.128074222305359,
          1.4483082906856148,
          3.038056902840768,
          2.673075621251174,
          1.9391996386208508,
          2.5584451939958117,
          2.7286691357238713,
          0.6106707328340126,
          2.1576829958819546,
          2.247548627500424,
          1.432594207062535,
          1.4878096556486027,
          2.6960454712337074,
          1.2160829330626861,
          2.1820980790710247,
          2.659187925432177,
          2.5032356875948785,
          1.693070681227897,
          3.1881643160587094,
          1.9858601447276685,
          2.7828971648735155,
          1.6594922096708116,
          3.454191332464092,
          2.4104158916753393,
          2.4635563719284375,
          1.8467712026719851,
          1.4605035640402007,
          1.5027124743704712,
          1.468426117681976,
          1.2217949866406483,
          0.5061220931265711,
          1.1412251769224493,
          1.5908268686291043,
          3.1648076784797814,
          2.938627425708219,
          2.347533637755146,
          2.6434752863846915,
          1.2496763899264987,
          2.6926142718230093,
          4.020104444090002,
          1.7147474340679174,
          1.67279846048787,
          2.3322785629401634,
          4.169106521143897,
          1.3845055468143712,
          1.190790138298414,
          2.4340333601642126,
          2.3301567923910853,
          2.5289816801024427,
          0.8596086647120873,
          1.5923878402850153,
          2.2217986019901637,
          1.9983300374219057,
          2.8489471774860173,
          2.0081015522308183,
          2.3809807735087722,
          2.1078388192810076,
          1.3218459379179932,
          1.8698441277788835,
          3.709403568205141,
          0.9509092586640786,
          1.509369499028033,
          2.8878307620882797,
          1.0497979908159258,
          2.5752189639058285,
          2.11845919152916,
          2.8312466941504812,
          2.097377245361322,
          2.508938780252295,
          2.8087939131015114,
          3.3528117801707373,
          2.3161279737894875,
          3.712488914383832,
          1.8624296042660728,
          0.9538261736093194,
          1.5014452190137444,
          2.8231681994605333,
          1.844491541277687,
          1.8349373996069482,
          1.930541554624231,
          2.232442127837681,
          2.47231932456113,
          1.7593166532268258,
          2.0572402591700385,
          1.7936702456991682,
          2.1571726613579387,
          1.1760371126500822,
          1.6135950647026105,
          1.9290957097815296,
          2.1108866903818524,
          2.5047660512459653,
          2.5205637515771246,
          2.1094902483506517,
          2.9057715329748275,
          2.4629266051331324,
          1.726565591614454,
          0.9039060265306325,
          2.2073245157969,
          1.4701709389895252,
          3.1450886632100636,
          1.80142459700659,
          1.7773181623272107,
          2.065452678998911,
          2.1567121334961477,
          1.8599967240706567,
          3.4091798027657108,
          3.080730030391427,
          2.106947941616979,
          2.0256398255498915,
          1.8381704055264274,
          2.1975448398966435,
          1.8574325864084091,
          2.967410129561084,
          2.4716717336074,
          2.709948203866134,
          3.1582514901612284,
          1.6906720708290652,
          2.7851984774233864,
          2.059907649572338,
          2.2938312827839034,
          1.904120506952069,
          1.893977947133624,
          1.9102818720963683,
          1.8609478670592423,
          2.6799577512456305,
          1.539616812436109,
          1.2367557043942452,
          2.960039915450481,
          1.9862929666537834,
          1.7267537712602752,
          0.6593771688946464,
          1.9337286699018135,
          1.17932472800588,
          1.8576612861269206,
          2.698644572963322,
          2.994586566541757,
          1.9091076281836228,
          2.6348479473214406,
          2.3624658781607013,
          2.8800367906942554,
          2.2085187649389746,
          1.9175113332529783,
          0.9297891304252828,
          2.9175733301997484,
          2.529628965409392,
          2.3344701921689994,
          0.9607502643671121,
          1.3143906441498092,
          1.8659123461287859,
          2.732409178636866,
          2.421079745381502,
          1.8479365659843432,
          1.8525679343522305,
          2.4548690970734652,
          1.3065921417272055,
          2.2899811540404214,
          2.0193223366667135,
          2.3269035827196642,
          1.3646220805299856,
          2.213564257001901,
          3.642547639208688,
          1.4670565335569041,
          1.9543102185121606,
          3.085025469883173,
          2.0432991707182278,
          2.659983226731051,
          1.1047945009909572,
          3.1734906407854395,
          1.8151839960038305,
          2.7217869799365175,
          1.2447677603437397,
          3.1325870654018364,
          1.980891650953476,
          2.708203841044555,
          2.1007214846069764,
          3.226056194580306,
          1.9846021888075946,
          2.129028001391485,
          3.5926002243531268,
          2.6614091761370653,
          2.736052616745601,
          1.4704738322871918,
          1.7325162909943432,
          1.5426607367197005,
          1.7078054778143084,
          1.3481397299234545,
          3.030352257711844,
          2.557538024820608,
          1.9963586921004415,
          2.512875974682973,
          1.9834740746714867,
          1.330986770903325,
          1.744216371828157,
          1.276506859730257,
          2.7564019964798208,
          1.9989573662901934,
          2.988221818026818,
          1.7084074058142877,
          2.2464016714802257,
          2.4961750715668583,
          0.8296502848072851,
          2.9176880395404923,
          3.2614549473884193,
          2.9686057640718397,
          2.3564041794205934,
          1.279948332951394,
          2.2217869069833687,
          1.7763988475356367,
          2.8448173467369764,
          1.917219462340917,
          2.4781513955231875,
          1.914435964241296,
          1.7558658273323078,
          3.232419205560935,
          1.7706640043012662,
          2.9697093080844663,
          1.8684780007281336,
          2.751856792159222,
          1.9583780516703873,
          2.635033635994942,
          2.800646683989348,
          1.324435588236681,
          1.5518717228122652,
          2.6481738046979464,
          0.8540417925226268,
          2.916189867146402,
          3.826574866061284,
          2.7275596653251704,
          2.3503265085870617,
          2.6543618937859472,
          1.0007232666208838,
          3.298924058939174,
          2.0977447708884736,
          2.116246156534005,
          1.6194909109693705,
          1.766833018783226,
          3.919408962397562,
          2.2600679204839036,
          1.8171172667542839,
          2.732383753834684,
          2.3739165514732217,
          1.3906332505841354,
          3.217573180863372,
          0.973155075830331,
          1.7662298131667082,
          3.1374160289142603,
          0.9517014068744201,
          2.9142665984981933,
          2.7456616829504994,
          2.9235671690052323,
          3.233892605724836,
          2.275693019096994,
          2.294641073104106,
          1.0783941307067746,
          2.1979654079067874,
          1.9294955741267499,
          1.0395609073606897,
          2.4533771767084387,
          2.7405311814384596,
          1.590416087440099,
          2.912615711436383,
          2.5976614580757555,
          1.9055240423612672,
          1.5712631246357565,
          1.6852481073119012,
          1.3124413558248302,
          2.4249353837077012,
          2.48704819252704,
          2.6759742741187496,
          2.864721224183291,
          2.012708120787561,
          1.2288087174772406,
          2.4945090380042902,
          2.0244039711875694,
          2.2046947471534697,
          3.492315021023149,
          2.0308107729245215,
          2.3876915095281843,
          1.4720442439990136,
          2.2343842371145675,
          2.1114225429655473,
          2.3616778348876224,
          1.860933322650383,
          3.3130961328870523,
          2.4972682348790225,
          2.6388403722328126,
          1.9330993809128318,
          2.0329402581919327,
          1.722403557095538,
          1.5206284933737577,
          2.9742595891526964,
          1.9770321081891493,
          1.7970134123076973,
          1.8951720776941676,
          2.6093002130529563,
          1.1209701114553323,
          2.527380798139826,
          1.5118056310073746,
          2.3506824547947063,
          3.4960304398638637,
          2.201213933874333,
          1.2003342312543008,
          2.314851241971953,
          1.8018089610658277,
          2.348634178957875,
          2.3436299539386254,
          2.2866804519946324,
          1.5144123687300737,
          3.1504914492655325,
          2.641232460213934,
          2.3414505443180755,
          2.3100663766767657,
          2.1162779427295226,
          2.6340912599051705,
          3.2471616371421317,
          2.4447530238833135,
          3.6157082459096026,
          2.555506097574898,
          3.4885912886085597,
          2.462492744868384,
          2.2456237242215265,
          1.3514260358296273,
          2.6321345519439,
          3.9365150552178796,
          1.0127651898918704,
          1.5772942083061643,
          2.829290312394827,
          3.3245046101637525,
          2.280805120503156,
          2.2641619749610697,
          2.8694167961655705,
          1.6719647434558662,
          3.171412868377654,
          2.2749603733898702,
          3.0433603612377214,
          2.252646180230215,
          2.4999654213974494,
          2.061026669208694,
          2.01158217685932,
          1.6656885813359428,
          2.1044351796246485,
          1.7540454005077102,
          0.856282379135197,
          3.8745371140302307,
          2.133639827688242,
          3.3922430086714512,
          1.1441381907974333,
          2.5901682610043686,
          1.4341419303231173,
          1.8843428463532161,
          1.4512064684321808,
          2.0713780989829,
          1.906811847235169,
          1.238490260661927,
          2.1892284012349106,
          1.7320633114689032,
          1.5487621868919754,
          2.3689873549295704,
          2.024409453052538,
          1.7462253725659598,
          1.9724518307962515,
          2.3558683523970494,
          2.0004262422883587,
          1.7212205526090059,
          1.2488326902911648,
          1.9814093999435731,
          2.7916868322937773,
          1.84138680487869,
          1.3850919121770764,
          2.278762912084045,
          2.125669750398218,
          2.210984513282079,
          2.1793749450032567,
          1.3434084122387648,
          1.0848449904171376,
          1.8888833495751527,
          2.319837612822796,
          1.7610597560450507,
          1.9060150308164976,
          1.8005725037115334,
          2.456140276308826,
          2.4429961331320613,
          2.070094751832483,
          1.8576972445087867,
          2.7078360877313012,
          1.6917137651374943,
          1.1355981650702403,
          1.28770680525553,
          2.639752706050908,
          1.7200879076862634,
          2.051586729149393,
          2.583544449740672,
          1.798779345128277,
          2.058196696408148,
          1.4491355786937334,
          2.511004175002793,
          1.0727323386813286,
          1.5837843399424203,
          1.4449048820263,
          2.367952237518184,
          1.9828287502005186,
          1.4054075913570383,
          2.529209217843011,
          2.3790434473267403,
          1.2639188375253294,
          2.710167112912811,
          1.8917108494667825,
          1.0963024257055056,
          1.8352900708273507,
          2.055817925226942,
          2.298144470437161,
          2.5980321843533183,
          2.417765978775883,
          1.9905909967422244,
          2.494299716363085,
          2.365200232157731,
          1.6444622605312846,
          1.6797912085416007,
          1.9697323777871767,
          1.786942056957878,
          1.8572434673737077,
          1.6529694204268357,
          2.1029139868467728,
          2.195861730924437,
          1.2199787978483139,
          1.3225826500687807,
          1.7424339823935817,
          1.8525890855768945,
          2.133283950421039,
          1.2588916230177858,
          1.342341975025088,
          1.440524094479163,
          2.1649786305035383,
          2.1135791167779403,
          2.1080775045211824,
          2.731503644023722,
          2.0612330604164932,
          1.517524185924115,
          1.637165140174173,
          2.544060220681616,
          1.7846571770520856,
          1.0768395153255952,
          1.433064965438678,
          2.6294547610647614,
          1.7050671867893148,
          1.5139840609374753,
          2.0297871271943153,
          2.7971765275255613,
          1.4521093423591744,
          1.2986233308938269,
          1.5438625154309173,
          2.4926781497479453,
          1.666776218476882,
          2.1447936911512047,
          1.9681885516857918,
          1.5231180247480773,
          1.7712849497366336,
          1.6877769964362535,
          2.269545575589965,
          2.4488926636478916,
          1.5926122744339297,
          1.453510024090881,
          2.1100291118219614,
          1.980080490062742,
          1.9813423588124883,
          2.1166997772870007,
          2.2433133560647605,
          1.9065825968998513,
          1.1244800699630668,
          1.9832903538143614,
          1.6236075109718149,
          1.2116523305897615,
          2.450021793968201,
          1.6105060144444199,
          1.7313169550545207,
          1.2046556364502945,
          2.977601703742448,
          1.7977854543108585,
          2.1026301151078117,
          1.904897538617222,
          1.734217759403226,
          1.9469208379801903,
          1.2233806619048437,
          2.3487696242079203,
          1.8604484248335227,
          1.7893394349322116,
          1.6344159937987743,
          1.483632186632614,
          1.599094544437424,
          2.4288881030741414,
          1.7244277248317492,
          2.314468564214407,
          2.428377053439299,
          2.3842241855953716,
          1.7682402917408084,
          1.1410036867411895,
          1.7315883756836465,
          2.276258162285548,
          1.8204812668832173,
          1.8625537370889729,
          1.7157784656339912,
          1.168203549444498,
          2.5297488505430876,
          1.706503192604064,
          1.9833428019966721,
          2.1487750908122334,
          2.0665011021149913,
          1.9750972598914691,
          2.0329668978216837,
          1.6312593093720655,
          1.857408264990484,
          1.7685814133269393,
          1.7114214556774034,
          1.4223130155920134,
          1.8305466628862985,
          2.7710721156322506,
          2.0025714124693383,
          1.9305568252274008,
          1.150449177818081,
          1.7056241278509985,
          1.7906547037028577,
          2.0259030349571177,
          2.3948243566882943,
          2.2390759066061694,
          2.098155428414911,
          2.148693764236325,
          1.9269451295742661,
          2.3348570246861327,
          1.2360549507441325,
          2.3318537771321353,
          1.0652613669439113,
          1.600188120099473,
          1.083353344553962,
          1.3651344115310626,
          1.166253782689345,
          2.013136345634909,
          1.8008835231896803,
          1.9641521196056033,
          1.2611750574349694,
          2.4746829164923008,
          2.149658475948905,
          1.255981665561897,
          1.4184666912315422,
          1.472242331767558,
          1.244159088914538,
          1.765793993341145,
          2.096030738171711,
          1.3538396493596414,
          2.1620566824760226,
          2.6563439040113646,
          2.3067204625021227,
          1.7294636910455186,
          1.664105208459509,
          2.6093795787676526,
          2.4225871573461566,
          2.420844992496982,
          1.7001058206327477,
          1.9403916108671428,
          1.6016205863199107,
          1.617857908621071,
          2.7504319848352847,
          2.3343739621803246,
          1.1798631123871202,
          3.0014002262573056,
          2.69219652869119,
          1.2082316156652264,
          1.9249378500567045,
          2.1234109396238434,
          1.664183374999503,
          1.5226694342744764,
          1.6366053964922833,
          2.503062062807749,
          2.4045145120117812,
          2.3587478152932717,
          1.8469875597385994,
          2.272004190461011,
          1.8254365603541614,
          2.5766326949844136,
          1.7192789004601865,
          1.370577997088747,
          1.8741189131826594,
          2.3356245756889713,
          2.517390422263927,
          2.070841021300038,
          1.179236553017462,
          1.8756221209442492,
          1.7638800034163749,
          1.9816232246306305,
          1.5954921610004928,
          2.0586408056568577,
          1.2436495052165306,
          1.2988520511834054,
          2.5216722484365524,
          1.0466889245094322,
          2.112453614336721,
          2.072966229608776,
          2.1262273421215774,
          1.703414133680801,
          1.878624732318995,
          1.8249724037027115,
          2.129998497534591,
          2.527124655068889,
          2.4042355566777203,
          2.579416298241169,
          2.2119533880547215,
          1.948165506646948,
          1.8637143710913258,
          1.78911557045972,
          2.143282315491419,
          1.9000221121801701,
          1.5922123974018574,
          2.101407490352129,
          2.2006195032388307,
          2.255794582347151,
          2.0544935040414862,
          2.3271562018877083,
          1.8917385594802463,
          2.1460995449219595,
          2.299489690527768,
          2.135329045907611,
          1.8637391793761442,
          1.691872445344082,
          1.8604757466825863,
          2.0713175592696484,
          1.7838371625000964,
          1.4717360319911017,
          2.859745895642175,
          2.3658313796014725,
          2.041201779272984,
          2.328048138945348,
          1.5646161048469562,
          2.1084252901309997,
          1.6849231710528871,
          2.3325062780049906,
          2.0670130186748445,
          1.703119140703419,
          1.4057236128846262,
          1.2485672603890399,
          1.7834355593340068,
          2.1681369404744864,
          2.2608007452936723,
          1.0884552485448267,
          1.905885153091541,
          1.3923881584350597,
          1.688745122118337,
          2.733433186202002,
          1.4084756161456438,
          2.5998626428394656,
          2.331999809387583,
          2.172102035189704,
          2.476134394804861,
          2.2264774418436306,
          1.8168030735191933,
          2.0125674656399695,
          2.096032119270081,
          2.177416165494053,
          0.9599748757123117,
          2.230623865194235,
          1.399533922944488,
          1.9658811793218454,
          2.4595691864849067,
          2.0071737029627457,
          2.315268494307036,
          1.2512224479329423,
          2.0232342308379785,
          1.7136009057939718,
          2.2696922028890936,
          2.5159582547852892,
          2.5126558683089195,
          1.4449831965826183,
          2.416158242956135,
          1.029233049051349,
          2.245676708223863,
          1.8636272003731889,
          2.267668000181348,
          2.3668920145210124,
          1.8423473088936062,
          1.9269953899198107,
          1.7466574733420137,
          1.8038368104479205,
          2.4836899818182765,
          1.9816759531497465,
          2.1602345315570024,
          2.2656615746110016,
          1.3919190654953457,
          1.4437295864349977,
          2.168273460600737,
          1.398861601826191,
          1.6302289333791475,
          2.2360740659659486,
          1.7433520207690403,
          2.4192526415856905,
          1.7526314439712964,
          1.4278033300635316,
          2.322552497592722,
          2.0281488065968194,
          2.0187464805949467,
          1.9739574879279949,
          1.512029884768609,
          2.3816038540955176,
          1.7344893979779368,
          2.1392023761550965,
          1.8892929491681056,
          1.7017658634993593,
          1.9617350861318619,
          1.9568283433061455,
          1.7017399149822325,
          1.350265411948072,
          2.4031285451991224,
          2.068777266522358,
          1.9350860953831959,
          2.19499534995322,
          1.2735800260882906,
          2.058973074193965,
          1.3946441820541287,
          1.9896818080914225,
          1.9486762132874647,
          2.2766438757553744,
          2.62629483280947,
          1.8565560665207324,
          1.8750034789190864,
          1.0340609393759392,
          1.198039960900592,
          3.138209378986776,
          1.0559315718760864,
          2.351099681713414,
          2.4030612888104805,
          2.3188313145444583,
          1.929682528290606,
          1.8284938347764519,
          2.583449161583004,
          1.706867942782975,
          2.2520066171436017,
          1.4843182138314444,
          1.8421292678737147,
          2.1170320359275574,
          1.9538021569564556,
          2.5281290835663266,
          1.917233033584631,
          1.951001345245587,
          2.3529415633871076,
          2.0241696009669203,
          1.7741955660263795,
          2.3190798214629997,
          2.480760044570424,
          2.3436212328144013,
          2.2450902277516147,
          2.037926361582616,
          2.0828796498019506,
          1.767800438757836,
          1.727012849071244,
          1.3749651472265871,
          1.0968097918680015,
          1.472514707239807,
          1.9250613495550497,
          1.5841816945655331,
          1.1422813600807509,
          1.9926013110216618,
          1.556049854324828,
          1.8368622504440506,
          1.8351639944199785,
          1.6989887154125756,
          1.4713426802059812,
          1.6021522997088202,
          1.4628989226483506,
          1.6309526009063975,
          1.8713036560603031,
          1.5405949572588926,
          1.387525377963645,
          1.6869651976069682,
          1.992621731848649,
          1.6470798155785278,
          2.190952174730425,
          1.7786250603004319,
          1.1652322223485805,
          1.7266103263593984,
          1.770809045339562,
          1.1773632493153954,
          1.6980622423311826,
          1.977726840993578,
          1.8716935168789792,
          1.481528312340175,
          1.2759290249506912,
          1.3770278217743468,
          1.8158953562345688,
          1.676451957040389,
          1.8516814757247528,
          1.4094854693648478,
          1.0609656233813207,
          1.9127772143589954,
          2.198115714654817,
          2.0998281626369684,
          1.3596669675074347,
          1.7625423890680216,
          1.9722741294840291,
          2.0515895785849367,
          1.4658503046618643,
          1.1962083747464176,
          1.4039529735829066,
          2.0894850791093833,
          1.8500040697046904,
          1.0475531086830736,
          1.7339140281795957,
          1.809579915818385,
          1.5004325494311381,
          1.5206572840641992,
          1.9848654999351645,
          1.837075730594201,
          1.9961817571705813,
          1.8106678781153618,
          1.2483940593498124,
          1.921992846702657,
          1.9769761573852354,
          1.5532439501744486,
          1.6210471131955222,
          2.170824863018578,
          1.3922262306643058,
          1.4379377084533875,
          1.7443610651188615,
          1.5087426412731226,
          1.8152465153429957,
          1.6634520407570748,
          1.977584797159506,
          1.343015562715192,
          1.9514685074643516,
          1.7471918993381612,
          1.6638776514247278,
          1.2066868652134253,
          1.668694357635684,
          1.2802416722123295,
          1.1853959303915391,
          1.739808020896977,
          1.7646491320963857,
          1.9115203642683392,
          1.5424782848513372,
          2.0536527364301276,
          1.8006298124501123,
          1.6803559530642127,
          1.9880293360210899,
          2.0537619346508795,
          1.4776763801272184,
          1.7262620992906366,
          1.7878432831974367,
          1.7437403940025664,
          2.01681230003916,
          1.3004011801559014,
          1.813754899674027,
          1.8749312288498083,
          1.3535843692502532,
          1.2384534555244524,
          1.8875425258356486,
          2.0999541370024004,
          1.6431989760979062,
          1.6208542216832507,
          1.6575979505236993,
          1.912667372346684,
          1.5664838137242885,
          1.6550348285610035,
          1.9997395968529341,
          1.9505632742212902,
          0.7564740999023405,
          1.460782592593873,
          1.565339803015816,
          1.5674580083323377,
          2.126138807134852,
          1.6849814205752867,
          1.9895542476597519,
          1.7323417459797503,
          1.9116109025746995,
          1.8254259726218685,
          1.5624242511708353,
          1.7871559681925462,
          1.9513093998717714,
          1.5038570272691083,
          1.6224749523085213,
          1.1232002502254248,
          1.9941555996302909,
          1.8858684837193738,
          1.5968686675784634,
          2.1488595478738266,
          1.704538458482391,
          1.849788249860883,
          1.6492845760616124,
          1.8110865914033611,
          1.7691355479510993,
          1.5784141589363156,
          1.6197740512290113,
          1.7152084441656337,
          2.0630954619414568,
          1.9976317507772383,
          1.6506066452597534,
          2.1373015415176115,
          1.9972940508374115,
          2.0026697592665745,
          1.7425855565062573,
          1.1273560553043442,
          1.2470949448797153,
          1.271580974404473,
          1.209173334991121,
          1.7534022660838973,
          1.8019472871835145,
          1.2849787446109093,
          1.9314439174395939,
          2.0557768586315035,
          1.293088496594504,
          1.9202114918393942,
          1.8919882347937222,
          1.8448951260050386,
          1.3734265819959917,
          1.7156051911727555,
          1.3984087674417651,
          1.2755706184261149,
          1.7494925276530664,
          1.4528934549969108,
          1.7225015878851466,
          1.5347016781731826,
          1.8950339238531562,
          2.1181395470085898,
          1.2497627605040134,
          1.574607456443916,
          1.6218325126363582,
          1.943402329234254,
          2.0711171846782155,
          1.761462984332303,
          1.9182285236900622,
          1.9198811121977823,
          1.741005750785209,
          2.007641288581445,
          1.1901656220192345,
          1.9693995027431008,
          1.5914143246995367,
          1.632300933030877,
          1.62207229915913,
          1.7998898325849213,
          1.7526422551167282,
          2.258399050817099,
          1.5871160966858187,
          1.6939298135231136,
          1.3229300623364915,
          1.9102607467303288,
          1.706760421666495,
          1.5869408650336594,
          1.5092858336561001,
          0.9865136328598128,
          1.9674467653112166,
          1.4980399837932754,
          1.7798944932884266,
          2.0072554920140093,
          1.9366152578350995,
          2.1479338057105952,
          1.7992717023430163,
          1.313863408289511,
          1.5405191031615642,
          1.6905511337881547,
          1.6415658500567059,
          1.8248660549804194,
          1.9907875947442062,
          1.3891022392614336,
          1.4554437948136492,
          1.5801856566354364,
          1.8800973145146798,
          1.6009216117854759,
          1.6257364564737853,
          2.3054974150434075,
          1.8055607863871768,
          1.2376251658492365,
          1.3301721771634794,
          2.086105248804203,
          1.49571144079179,
          1.400210248948452,
          1.6259905611196594,
          1.83518134832578,
          2.0416958913672283,
          1.7447213259049674,
          1.7924510325784777,
          1.8336759453228288,
          1.5058055876521361,
          1.6380916929998879,
          2.0235055519809078,
          1.8035506271091841,
          2.3510543407116358,
          1.478834310086509,
          1.6096915366178621,
          1.6986540417200848,
          1.444474770708684,
          1.7178313375110745,
          2.1691792562793877,
          2.0928782302035214,
          1.6726519284310577,
          1.8328213167424727,
          1.3348331872860264,
          1.3066473934318428,
          1.6125209534538416,
          1.5325272495355455,
          1.4021077144404694,
          1.6560824342294636,
          1.5544716386229516,
          1.4255759573309854,
          1.9095555716068116,
          1.537144885265926,
          1.4865053797940697,
          0.9865413728852497,
          2.155090150058249,
          1.4605704673717141,
          1.2632539646366858,
          1.1766040416955794,
          1.8455351449685156,
          1.6547199162083672,
          1.619855509553219,
          2.145637881909952,
          1.8664342752483973,
          1.4914702154125992,
          1.2424780670104236,
          1.8632769365553414,
          1.7499288090562348,
          1.903650722076093,
          1.7625376313180305,
          1.8906137677560808,
          1.8535336039348762,
          1.5707248891644712,
          1.819538860748998,
          1.365194661210962,
          1.6862445268096016,
          1.5723014322408735,
          1.30901878166294,
          1.859930028025509,
          1.2063364089610513,
          1.7494021222064389,
          1.8933465375334073,
          1.6868091810575334,
          1.924002680998597,
          1.8935484745254738,
          1.6719647545116811,
          1.3296284196688626,
          1.833562157239775,
          1.7935820463618077,
          2.090087831388473,
          1.2637867034227164,
          1.6664807937323025,
          1.9111401927630831,
          2.101838020981576,
          1.5601263008838329,
          1.5649736294843222,
          1.5197729694101199,
          2.050437429604309,
          2.3062750241571486,
          1.2586532456938366,
          2.076044574296861,
          1.7311381366772431,
          1.6388994867804743,
          1.398770576526101,
          1.3384534639606689,
          1.2752828793500328,
          1.1278624251808282,
          1.8233335229124403,
          1.569094509276237,
          1.4752268875658996,
          1.5160745707494054,
          1.414357151549609,
          1.8707891368865044,
          1.7610974414106346,
          1.9945003141357394,
          1.327886282350591,
          1.6794334587891881,
          1.6526341986090767,
          1.5845319825171655,
          1.9782315685010663,
          1.8881319713906946,
          2.018418620761965,
          1.4443898840404579,
          2.04939003097948,
          0.972832628869177,
          2.088628059139295,
          1.9293764957937716,
          2.092608068080708,
          1.4720516927255756,
          1.5169801553943822,
          1.4443917137139013,
          1.6666685205339178,
          1.6328532921840049,
          1.5230366356294498,
          1.7566111835032827,
          1.9354111864225485,
          1.6681812292408082,
          1.8106807425058553,
          1.4262729627742465,
          2.0269284789624518,
          1.927976281365435,
          1.4732744559858382,
          1.9303909913811108,
          2.2470182742037825,
          1.5714562497868865,
          1.062078891520658,
          1.422767985788812,
          1.7208035774591506,
          0.9860498845224885,
          1.8019126888290709,
          1.7343064500329668,
          1.9053403654405696,
          1.7773376086664512,
          1.5857848446555785,
          1.8420960823276733,
          1.8117079279951072,
          2.0590414932433085,
          1.6934062873507059,
          2.0692145257525483,
          1.7428600993799126,
          1.0418998251347409,
          1.9917165296096002,
          1.6922487070327805,
          1.8506662589628646,
          1.2520481481053358,
          1.4957019103314861,
          1.2645084463808989,
          2.090134470886503,
          1.2187210026611381,
          1.9062697013482306,
          1.7906719616615292,
          1.5370494463702236,
          1.7416803669602035,
          1.4100356276913786,
          1.6744228972986785,
          1.230890553463076,
          2.2023338541792623,
          1.5120616465189731,
          1.2833866910675134,
          1.9543414419405378,
          1.7358577182919974,
          1.1790736733275895,
          1.604287259257445,
          2.0651985991610715,
          1.0318385184846313,
          1.9216503073013516,
          1.887028583237915,
          1.5228439474852278,
          1.1614769034332302,
          1.3396248650827605,
          1.4003671451710316,
          1.8114283927875068,
          1.5754884345426583,
          1.888854428014507,
          1.8159910301220423,
          1.7665230854122378,
          2.032748305040948,
          2.067796280913677,
          1.752238815816218,
          1.562557621531481,
          1.9122493787159014,
          1.164675954045191,
          1.4681222187266898,
          1.872636829563417,
          1.5468122471706214,
          1.5003111977828936,
          1.7652241448656139,
          2.2541996011693968,
          1.8393983636946984,
          1.635101934621165,
          1.7195851535256665,
          1.0638237830170565,
          2.0554166414144532,
          1.4018773630638133,
          1.866856339742847,
          1.5214756052581788,
          1.1452342140267429,
          1.1010767524687082,
          1.3413713960849305,
          1.2032123766309886,
          1.5996860903515295,
          1.5406247339834007,
          1.7753916019108533,
          1.2190863009160333,
          1.395957941293324,
          2.2838144219433207,
          1.5195763301832985,
          1.2204193854271463,
          1.412806153422103,
          1.690599749848771,
          1.6048554728310476,
          1.3986486181288058,
          1.60308694954579,
          1.4341215820576154,
          1.54400106567785,
          1.5930958047916843,
          1.4494035003798853,
          1.1608712984321286,
          1.38150416527665,
          1.3634292065007125,
          1.1774977444570898,
          1.5159084920116266,
          1.6644000858098704,
          1.5375485044959833,
          1.763251409872192,
          1.6367698824505261,
          1.6579039186452074,
          1.3279104676361408,
          1.3885205503010394,
          1.7541407060058014,
          1.8102586482848297,
          1.52842670642366,
          1.4545367851527229,
          1.4260470536217986,
          1.5627139293460515,
          1.3695854076099583,
          1.6383953595577836,
          1.8506817986384205,
          1.8957227490829565,
          1.7472803995088797,
          1.4464534337960229,
          2.1349777042193856,
          1.7371078750799558,
          1.6876687477047811,
          1.1497197123004907,
          1.7412516408049539,
          1.403729575702889,
          1.869657110406067,
          1.478129324331446,
          1.627311463539764,
          1.3511099480536999,
          1.6586720194494198,
          1.4052165928490532,
          1.0835423853613912,
          1.2088430925071163,
          1.2075956031406712,
          1.6462691590689713,
          1.684448457078354,
          1.6219986914271625,
          1.680806996896193,
          1.3602183088710351,
          1.5467979834603722,
          1.3083055708110045,
          1.4213828955019474,
          1.4212777368759584,
          1.6595138177323372,
          1.8451223772460568,
          1.741051703767079,
          1.573168431866215,
          1.4770271556535335,
          1.2691719673047757,
          1.8037289863949713,
          1.5607334312701586,
          1.6447333577463894,
          1.1399167078377055,
          1.843480773812178,
          1.8286173487646902,
          1.556895989768518,
          1.5625006424841652,
          1.7107645738153594,
          1.2059844404487843,
          1.6335819570892491,
          1.5644344630730982,
          1.6451166224397373,
          1.6544901718680542,
          1.5984759779812407,
          1.1133450062738697,
          1.6928587491242708,
          1.7461400185473122,
          1.8106541557881675,
          1.2770584018927096,
          1.3776945706980386,
          1.3766678727222588,
          1.3509764723029682,
          1.1997473358630095,
          1.7939378453555541,
          1.4694367181643513,
          1.4183369576837486,
          1.7412584374077396,
          1.7146647142900584,
          1.6937309079981715,
          1.6551031453607377,
          1.779332064591608,
          1.6374151135421435,
          1.6420605279668647,
          1.3772380357594312,
          1.778017071902819,
          2.0229736955194966,
          1.478294011578281,
          1.2970915204765625,
          2.1682846647695007,
          2.073039329053924,
          1.657801862428324,
          1.4029668839961997,
          1.632303877396065,
          1.5041175937225415,
          1.6556091313178167,
          1.3642501673400664,
          1.6596015185979847,
          1.2501133533158344,
          1.5412179409761022,
          1.5995215463447539,
          1.5655121734828457,
          1.653174456808677,
          1.4525119785254537,
          1.6848984400209255,
          1.7272791083270196,
          1.4701740967158288,
          1.237003070592811,
          1.3114579428212754,
          1.1704678619398552,
          1.420119962645185,
          1.1536733757847986,
          1.6325135835325255,
          1.6382034149385183,
          1.8046191602554644,
          1.5193917354875242,
          1.426243403348239,
          1.5508267772274251,
          1.5843423802470742,
          1.4221429781424773,
          1.5949436361229654,
          1.2941860142685884,
          1.6663750063352731,
          1.4408443261640793,
          1.6113946648926174,
          1.7969060980610574,
          1.0700616286625781,
          1.8159944161116068,
          1.36596487151868,
          1.476433523906355,
          1.3984901750810734,
          1.7659138403786343,
          1.340396533942179,
          1.5691650186202613,
          1.8194262626678956,
          1.119275990102656,
          1.4653523612218085,
          1.3166695193201614,
          1.1162906295266342,
          1.4550946688797266,
          1.2849999372044179,
          1.4701822252615926,
          1.5447804786605717,
          1.347765502187799,
          1.5240774619134578,
          2.1218129846002842,
          1.1373864004423475,
          1.6742285038261573,
          1.4469134782043476,
          1.7478745278661825,
          1.4544020593697464,
          1.9153293380320944,
          1.7579011857179418,
          1.8466738626262234,
          1.5190851184248826,
          1.4590148937123362,
          1.696658480975558,
          1.4751574551353572,
          1.0945657441877346,
          1.576498835095141,
          1.5639785768460746,
          1.800012054064362,
          1.8305154054191082,
          1.601768409950345,
          1.465361197071557,
          1.7960987726838713,
          1.0168326577426638,
          1.3776793319322838,
          1.7240128807630002,
          1.527601206468119,
          1.3462941260905317,
          1.599361208693123,
          1.481293544794226,
          1.3032605899528245,
          2.095099080226389,
          1.7094547863116731,
          1.1529739828415717,
          1.4648363217876883,
          1.5320158224314455,
          2.245879393696633,
          1.5964030038045516,
          1.6692118180415099,
          1.3048451870179256,
          1.8886531827147555,
          1.6099712650991165,
          1.4705721568023595,
          1.7354700258931977,
          1.2873466780833462,
          1.6418682477444206,
          1.885761530244002,
          1.5837579085486466,
          1.5096459149519033,
          1.8392178498125604,
          1.7640626272838111,
          1.3086845718817104,
          1.4361623657006513,
          1.7379063222789277,
          2.095841698604239,
          1.546719417865929,
          2.2088697553943635,
          1.7798314724670041,
          1.7253344606122143,
          1.7066885847454218,
          1.328483896270712,
          1.3108467129307257,
          1.648377221082699,
          1.5724009730804547,
          1.7191748462384617,
          1.7502166038182925,
          1.6581548142520117,
          1.7147440580271764,
          1.5050400484728126,
          1.5852876582532516,
          1.177864998610355,
          1.5759865536131705,
          1.44541256172885,
          1.7841751645529205,
          1.324584636551052,
          1.4777244256910174,
          1.5892356207081129,
          1.1125818255134272,
          1.6297336936315097,
          2.2364777595782948,
          1.4982009483284529,
          1.3780124888879386,
          1.4151714807060851,
          1.1580019768686372,
          2.139453985020595,
          1.7561994911055194,
          1.7694974234781942,
          1.7274362117529884,
          1.530700708977793,
          1.0868224450828348,
          1.4362103863684013,
          2.1026513635289064,
          1.0762426685190902,
          1.0748463276700393,
          1.4587592337472537,
          1.345824651577084,
          1.474149057065621,
          1.5091492414623011,
          1.8002785561707304,
          1.4603678512771618,
          1.5304518351220562,
          1.378075202580453,
          1.4446097298892833,
          1.187018987116089,
          1.6261211600707308,
          1.2935664736578953,
          1.6475301860758473,
          1.5042939948439302,
          1.5538174013397805,
          1.4254120007072246,
          1.4359859687990038,
          1.7593189632301058,
          1.5270990195270562,
          2.2202018992235097,
          1.611938186528688,
          1.21410705351592,
          1.8786963471248261,
          1.438028420205918,
          1.12713456457116,
          1.9463324841045313,
          1.4346682876900814,
          1.7223854977562012,
          1.554304491449902,
          1.626788904604576,
          1.2735870714779842,
          1.604590295394484,
          1.6725403759558997,
          1.5242674323561385,
          1.3474378561780482,
          1.5523697563993004,
          1.7796558491723886,
          1.7071557033567695,
          1.378418766266278,
          1.1422173665106088,
          1.5643027597956662,
          2.2948304165043623,
          1.5267439429349545,
          1.8346606157889283,
          1.5472173925411625,
          1.615850856568624,
          1.639562742551151,
          1.680141424785678,
          2.2015319607037362,
          1.5467722186132975,
          1.7429658646733746,
          1.7261359105073946,
          1.7015135601267801,
          1.5730728874539812,
          1.5359197438979968,
          1.7326308442714826,
          2.0270915299260226,
          1.5630584677289177,
          1.8725256541056847,
          1.544072157545741,
          1.570234278467577,
          1.4965821816031113,
          1.362400569340531,
          1.5792574474311682,
          1.5249159667223258,
          1.536353655187602,
          1.8317615129569855,
          2.068327009847812,
          1.49168965587853,
          1.4522950528220882,
          1.5621724093716747,
          1.4555732304914755,
          2.106805272170291,
          1.740540977007487,
          1.2329241188962876,
          1.84062343473172,
          1.5025390115022124,
          1.6032042318370483,
          2.226776822700906,
          1.528136711706696,
          1.7839439890836808,
          1.833482092783705,
          1.6923414700568458,
          1.9319750093745853,
          1.1792729459038478,
          1.7799560588604257,
          1.7756120728224716,
          1.7829429917243953,
          1.5843685994484296,
          1.7915245910647783,
          2.188027413900874,
          1.7311982790100129,
          1.8220234397465047,
          1.9934000629712987,
          1.7301810383030711,
          1.6752598448988896,
          1.5480820908732347,
          1.5535575890605449,
          1.7763373780907807,
          1.9656786332423635,
          1.714408888813658,
          1.4929485859831078,
          1.2012266423891818,
          1.5190823441738734,
          1.6793728338592246,
          1.7626186012656953,
          1.406570405990714,
          1.2772487496745057,
          1.7265477556915172,
          1.7271249387675782,
          1.4100366382043348,
          1.4044303209987299,
          1.80380124646609,
          1.4465502701258666,
          1.6575877400859458,
          1.754427145947097,
          2.17085189082975,
          1.297589518655644,
          1.6368234604500427,
          1.545373589951351,
          1.213744502230354,
          1.6434041123716787,
          1.9106262809458818,
          1.3185588445881098,
          1.695483880280729
         ],
         "xaxis": "x2",
         "y": [
          -3.335558226438417,
          -2.9066472117734685,
          -2.4777361971085194,
          -2.0488251824435704,
          -1.6199141677786217,
          -1.191003153113673,
          -0.762092138448724,
          -0.33318112378377496,
          0.09572989088117367,
          0.5246409055461223,
          0.9535519202110709,
          1.3824629348760205,
          1.811373949540969,
          2.2402849642059177,
          2.6691959788708672,
          3.098106993535816,
          3.5270180082007645,
          3.955929022865713,
          4.384840037530662,
          4.81375105219561,
          -3.335558226438417,
          -2.9066472117734685,
          -2.4777361971085194,
          -2.0488251824435704,
          -1.6199141677786217,
          -1.191003153113673,
          -0.762092138448724,
          -0.33318112378377496,
          0.09572989088117367,
          0.5246409055461223,
          0.9535519202110709,
          1.3824629348760205,
          1.811373949540969,
          2.2402849642059177,
          2.6691959788708672,
          3.098106993535816,
          3.5270180082007645,
          3.955929022865713,
          4.384840037530662,
          4.81375105219561,
          -3.335558226438417,
          -2.9066472117734685,
          -2.4777361971085194,
          -2.0488251824435704,
          -1.6199141677786217,
          -1.191003153113673,
          -0.762092138448724,
          -0.33318112378377496,
          0.09572989088117367,
          0.5246409055461223,
          0.9535519202110709,
          1.3824629348760205,
          1.811373949540969,
          2.2402849642059177,
          2.6691959788708672,
          3.098106993535816,
          3.5270180082007645,
          3.955929022865713,
          4.384840037530662,
          4.81375105219561,
          -3.335558226438417,
          -2.9066472117734685,
          -2.4777361971085194,
          -2.0488251824435704,
          -1.6199141677786217,
          -1.191003153113673,
          -0.762092138448724,
          -0.33318112378377496,
          0.09572989088117367,
          0.5246409055461223,
          0.9535519202110709,
          1.3824629348760205,
          1.811373949540969,
          2.2402849642059177,
          2.6691959788708672,
          3.098106993535816,
          3.5270180082007645,
          3.955929022865713,
          4.384840037530662,
          4.81375105219561,
          -3.335558226438417,
          -2.9066472117734685,
          -2.4777361971085194,
          -2.0488251824435704,
          -1.6199141677786217,
          -1.191003153113673,
          -0.762092138448724,
          -0.33318112378377496,
          0.09572989088117367,
          0.5246409055461223,
          0.9535519202110709,
          1.3824629348760205,
          1.811373949540969,
          2.2402849642059177,
          2.6691959788708672,
          3.098106993535816,
          3.5270180082007645,
          3.955929022865713,
          4.384840037530662,
          4.81375105219561,
          -3.335558226438417,
          -2.9066472117734685,
          -2.4777361971085194,
          -2.0488251824435704,
          -1.6199141677786217,
          -1.191003153113673,
          -0.762092138448724,
          -0.33318112378377496,
          0.09572989088117367,
          0.5246409055461223,
          0.9535519202110709,
          1.3824629348760205,
          1.811373949540969,
          2.2402849642059177,
          2.6691959788708672,
          3.098106993535816,
          3.5270180082007645,
          3.955929022865713,
          4.384840037530662,
          4.81375105219561,
          -3.335558226438417,
          -2.9066472117734685,
          -2.4777361971085194,
          -2.0488251824435704,
          -1.6199141677786217,
          -1.191003153113673,
          -0.762092138448724,
          -0.33318112378377496,
          0.09572989088117367,
          0.5246409055461223,
          0.9535519202110709,
          1.3824629348760205,
          1.811373949540969,
          2.2402849642059177,
          2.6691959788708672,
          3.098106993535816,
          3.5270180082007645,
          3.955929022865713,
          4.384840037530662,
          4.81375105219561,
          -3.335558226438417,
          -2.9066472117734685,
          -2.4777361971085194,
          -2.0488251824435704,
          -1.6199141677786217,
          -1.191003153113673,
          -0.762092138448724,
          -0.33318112378377496,
          0.09572989088117367,
          0.5246409055461223,
          0.9535519202110709,
          1.3824629348760205,
          1.811373949540969,
          2.2402849642059177,
          2.6691959788708672,
          3.098106993535816,
          3.5270180082007645,
          3.955929022865713,
          4.384840037530662,
          4.81375105219561,
          -3.335558226438417,
          -2.9066472117734685,
          -2.4777361971085194,
          -2.0488251824435704,
          -1.6199141677786217,
          -1.191003153113673,
          -0.762092138448724,
          -0.33318112378377496,
          0.09572989088117367,
          0.5246409055461223,
          0.9535519202110709,
          1.3824629348760205,
          1.811373949540969,
          2.2402849642059177,
          2.6691959788708672,
          3.098106993535816,
          3.5270180082007645,
          3.955929022865713,
          4.384840037530662,
          4.81375105219561,
          -3.335558226438417,
          -2.9066472117734685,
          -2.4777361971085194,
          -2.0488251824435704,
          -1.6199141677786217,
          -1.191003153113673,
          -0.762092138448724,
          -0.33318112378377496,
          0.09572989088117367,
          0.5246409055461223,
          0.9535519202110709,
          1.3824629348760205,
          1.811373949540969,
          2.2402849642059177,
          2.6691959788708672,
          3.098106993535816,
          3.5270180082007645,
          3.955929022865713,
          4.384840037530662,
          4.81375105219561,
          -3.335558226438417,
          -2.9066472117734685,
          -2.4777361971085194,
          -2.0488251824435704,
          -1.6199141677786217,
          -1.191003153113673,
          -0.762092138448724,
          -0.33318112378377496,
          0.09572989088117367,
          0.5246409055461223,
          0.9535519202110709,
          1.3824629348760205,
          1.811373949540969,
          2.2402849642059177,
          2.6691959788708672,
          3.098106993535816,
          3.5270180082007645,
          3.955929022865713,
          4.384840037530662,
          4.81375105219561,
          -3.335558226438417,
          -2.9066472117734685,
          -2.4777361971085194,
          -2.0488251824435704,
          -1.6199141677786217,
          -1.191003153113673,
          -0.762092138448724,
          -0.33318112378377496,
          0.09572989088117367,
          0.5246409055461223,
          0.9535519202110709,
          1.3824629348760205,
          1.811373949540969,
          2.2402849642059177,
          2.6691959788708672,
          3.098106993535816,
          3.5270180082007645,
          3.955929022865713,
          4.384840037530662,
          4.81375105219561,
          -3.335558226438417,
          -2.9066472117734685,
          -2.4777361971085194,
          -2.0488251824435704,
          -1.6199141677786217,
          -1.191003153113673,
          -0.762092138448724,
          -0.33318112378377496,
          0.09572989088117367,
          0.5246409055461223,
          0.9535519202110709,
          1.3824629348760205,
          1.811373949540969,
          2.2402849642059177,
          2.6691959788708672,
          3.098106993535816,
          3.5270180082007645,
          3.955929022865713,
          4.384840037530662,
          4.81375105219561,
          -3.335558226438417,
          -2.9066472117734685,
          -2.4777361971085194,
          -2.0488251824435704,
          -1.6199141677786217,
          -1.191003153113673,
          -0.762092138448724,
          -0.33318112378377496,
          0.09572989088117367,
          0.5246409055461223,
          0.9535519202110709,
          1.3824629348760205,
          1.811373949540969,
          2.2402849642059177,
          2.6691959788708672,
          3.098106993535816,
          3.5270180082007645,
          3.955929022865713,
          4.384840037530662,
          4.81375105219561,
          -3.335558226438417,
          -2.9066472117734685,
          -2.4777361971085194,
          -2.0488251824435704,
          -1.6199141677786217,
          -1.191003153113673,
          -0.762092138448724,
          -0.33318112378377496,
          0.09572989088117367,
          0.5246409055461223,
          0.9535519202110709,
          1.3824629348760205,
          1.811373949540969,
          2.2402849642059177,
          2.6691959788708672,
          3.098106993535816,
          3.5270180082007645,
          3.955929022865713,
          4.384840037530662,
          4.81375105219561,
          -3.335558226438417,
          -2.9066472117734685,
          -2.4777361971085194,
          -2.0488251824435704,
          -1.6199141677786217,
          -1.191003153113673,
          -0.762092138448724,
          -0.33318112378377496,
          0.09572989088117367,
          0.5246409055461223,
          0.9535519202110709,
          1.3824629348760205,
          1.811373949540969,
          2.2402849642059177,
          2.6691959788708672,
          3.098106993535816,
          3.5270180082007645,
          3.955929022865713,
          4.384840037530662,
          4.81375105219561,
          -3.335558226438417,
          -2.9066472117734685,
          -2.4777361971085194,
          -2.0488251824435704,
          -1.6199141677786217,
          -1.191003153113673,
          -0.762092138448724,
          -0.33318112378377496,
          0.09572989088117367,
          0.5246409055461223,
          0.9535519202110709,
          1.3824629348760205,
          1.811373949540969,
          2.2402849642059177,
          2.6691959788708672,
          3.098106993535816,
          3.5270180082007645,
          3.955929022865713,
          4.384840037530662,
          4.81375105219561,
          -3.335558226438417,
          -2.9066472117734685,
          -2.4777361971085194,
          -2.0488251824435704,
          -1.6199141677786217,
          -1.191003153113673,
          -0.762092138448724,
          -0.33318112378377496,
          0.09572989088117367,
          0.5246409055461223,
          0.9535519202110709,
          1.3824629348760205,
          1.811373949540969,
          2.2402849642059177,
          2.6691959788708672,
          3.098106993535816,
          3.5270180082007645,
          3.955929022865713,
          4.384840037530662,
          4.81375105219561,
          -3.335558226438417,
          -2.9066472117734685,
          -2.4777361971085194,
          -2.0488251824435704,
          -1.6199141677786217,
          -1.191003153113673,
          -0.762092138448724,
          -0.33318112378377496,
          0.09572989088117367,
          0.5246409055461223,
          0.9535519202110709,
          1.3824629348760205,
          1.811373949540969,
          2.2402849642059177,
          2.6691959788708672,
          3.098106993535816,
          3.5270180082007645,
          3.955929022865713,
          4.384840037530662,
          4.81375105219561,
          -3.335558226438417,
          -2.9066472117734685,
          -2.4777361971085194,
          -2.0488251824435704,
          -1.6199141677786217,
          -1.191003153113673,
          -0.762092138448724,
          -0.33318112378377496,
          0.09572989088117367,
          0.5246409055461223,
          0.9535519202110709,
          1.3824629348760205,
          1.811373949540969,
          2.2402849642059177,
          2.6691959788708672,
          3.098106993535816,
          3.5270180082007645,
          3.955929022865713,
          4.384840037530662,
          4.81375105219561,
          -1.2769914354484442,
          -0.6102464823957553,
          -1.1558276224926671,
          -1.140160536728518,
          -2.2034181847879912,
          -0.3910040077231344,
          -2.0580063180016364,
          -0.813262637241581,
          -0.5014639819631113,
          -0.8327595295914954,
          -0.25380347539671977,
          -1.8316820510318244,
          -1.8289530771248454,
          -0.006457735158722666,
          -1.8058331139220956,
          -0.7256430154527159,
          -2.2931381894266956,
          -1.4163139922000472,
          -1.342076463020884,
          -0.24873915457737067,
          -0.14476514104370847,
          -1.53686531263109,
          -1.9914330861227685,
          -1.4718529878771132,
          -1.8774768554387162,
          -0.42780376861498803,
          -1.1889711590727474,
          -0.14998644332421468,
          -1.1042848563094072,
          -2.2615951264071406,
          -1.3699361378890096,
          -1.7261610994610104,
          -1.7543382616058725,
          -0.9248925983782612,
          -2.895176622082168,
          -0.28779595434482536,
          -0.5534008722337891,
          -1.3130836329052262,
          -1.2259242245256443,
          -1.1262991116031,
          -1.9603288589319685,
          -1.7399056252194889,
          -1.204239869746169,
          -2.4591654500071978,
          0.28171688570165343,
          0.12622789645838267,
          -1.7923191753787933,
          -1.4279210156690836,
          -0.14162500320120378,
          -2.0170723402528274,
          -1.626215347493723,
          -1.188662909303444,
          -0.45898775828251986,
          -1.251061587306423,
          -1.1144512485151756,
          -0.2643794456616678,
          -0.01944161218986107,
          -0.6954229294895388,
          -1.5692862129728564,
          -2.2384038385355876,
          -1.0455615799694187,
          -2.383432985902264,
          -0.18398499260409493,
          -1.4502707046796015,
          -1.188151139836436,
          -2.0066536398889676,
          -1.386861397462487,
          -1.5152168183549775,
          -0.824119338051003,
          -2.139708258474463,
          -0.3926658746403733,
          -1.1779126452212785,
          -0.18278663666982758,
          0.32697422744941207,
          -2.377279246428967,
          -2.0760935775969194,
          -1.2895477055030407,
          -1.5221975287761256,
          0.9668018215358625,
          -2.0472960710663384,
          -0.19766538173499373,
          -2.3395175298685116,
          -2.4312715934320064,
          0.20266159957832897,
          -1.6665063407897769,
          -0.4948153917169497,
          -0.6362762657064444,
          -1.848563395470403,
          -2.1931080204968803,
          -0.03511850974208386,
          -0.21435762295247518,
          -0.5217527882476681,
          -0.9204576596671897,
          -1.2308384486958708,
          -0.6102829770937597,
          -1.2329562300963863,
          -0.780544049495907,
          -2.175035500947946,
          -1.0753164349306585,
          -2.8936377983728496,
          0.36811080653190986,
          -0.021174353417398817,
          -2.2518229086005386,
          -0.23843872823568193,
          -0.19737831970051434,
          0.17696825197574062,
          -1.254117092645819,
          -1.2411262497359017,
          -1.2409909407412918,
          0.4278705584181869,
          -1.1543080241101662,
          -0.5457390003117735,
          -0.2982325430663905,
          -0.6486485616344257,
          -0.8602971787399833,
          -2.1080369883728123,
          -0.9844372085484636,
          0.05604320845531485,
          -0.5723481413773212,
          -1.7122320246906253,
          -1.5315129483713639,
          -1.1390991016372112,
          -0.47737813337314805,
          0.36618044647459935,
          -2.0378678365479814,
          -1.1724761490258953,
          -2.072856024703238,
          -1.29320010697529,
          -0.22726353834350108,
          -0.0007635496316679702,
          -0.4781088690860972,
          -2.6058942712879625,
          -1.2061196803706,
          -0.5292513121887117,
          -1.7936204972280902,
          -0.15151688405003927,
          -1.1176836267661545,
          0.08980373974571454,
          -0.5867905232985926,
          -1.3799080549013747,
          -1.9746360681094555,
          -1.8122410100401902,
          -2.2040618058969903,
          -0.12882498213603397,
          -0.8788807913672456,
          -0.4294162456857024,
          -1.3950363370859782,
          -0.20487605660940103,
          -0.6511415815907518,
          -1.2280714385830493,
          -1.3953118905965087,
          -1.0354509200178796,
          -0.7084208272155776,
          -0.5439808200714804,
          -1.4422924133031123,
          -1.5741583898816103,
          -0.9679427756739962,
          -1.3538744646546097,
          -2.7095774076366697,
          -1.148415170991247,
          -0.33392747259429545,
          -1.6832168989969003,
          -1.3905132463562466,
          -0.1158766303919962,
          -0.1971199377249633,
          -0.02926566982612444,
          -1.3118771104908804,
          -2.5856476936385446,
          -1.3553368899704812,
          -1.2299559743815078,
          -0.35455614558668147,
          -3.299308458916209,
          -0.9107723094924489,
          -1.8064917998121448,
          -1.4725273937453744,
          -1.2716498627987005,
          -1.0138024043202463,
          -0.28042847591821474,
          -0.6830855546776955,
          -1.4672866629183263,
          -0.987918197016104,
          -1.7776264379207118,
          -1.2539577378618332,
          -0.5502849170524338,
          0.21485424579867007,
          -0.5486555822654746,
          -0.5850948301276998,
          -0.29467804840140466,
          -2.718440776344205,
          -1.2012245060155475,
          -0.7659286941180372,
          -0.6794889893416691,
          -2.1489227779369635,
          0.2545839655110971,
          -1.6192035674403247,
          -1.0368988983508902,
          -1.4144094286336066,
          -0.1722316033079,
          -0.899885787648276,
          -1.6388256734296551,
          -0.21921312851453947,
          0.033232419514675704,
          -2.2053095459015624,
          -1.2455800371698038,
          -2.299039760594307,
          -2.346569117644441,
          -0.6081591945625724,
          -1.8276404832444673,
          -1.669072474647459,
          0.3367981628994371,
          -0.016728549306510743,
          -1.2016923266391724,
          -0.900000791839271,
          -1.9720137524429158,
          -2.7410233763078566,
          -1.723401219893316,
          -0.9475911570625538,
          -2.1204877732710683,
          -0.4625988960850584,
          -0.3740923127378493,
          -0.5984911121244807,
          -1.2285555961465782,
          0.15191799801079375,
          -0.3194665583718873,
          -1.5722520650737857,
          -1.1775771910738282,
          -0.19001160340652204,
          -0.748829565433682,
          -0.9274968941906937,
          -1.180614198798911,
          -0.8774987068222557,
          -1.179497760453216,
          -1.0871351623811478,
          -3.014106000757642,
          -1.3621154981976877,
          -2.085001319953425,
          -1.7679136823239927,
          -2.342797628401132,
          -0.682098095176383,
          -0.5343530506129218,
          -0.3554905050598244,
          -1.6469026521396408,
          -0.4837609341279894,
          -2.1043211771828667,
          -1.771412398902657,
          -2.496062711258001,
          -0.7675622464925662,
          -1.4018156963997384,
          -0.9726535125546447,
          -1.6340282053396369,
          -0.3937849233492385,
          0.01441554155196173,
          -1.545548877368374,
          -0.2556015280939745,
          0.5731449109904636,
          -1.607541996253783,
          -1.184806817056416,
          -1.0806590643016734,
          -0.15699295429169766,
          0.8662987638623656,
          -1.0368279914877103,
          -1.082603801783951,
          -2.0863524788363774,
          0.1341624923384182,
          -0.5086724747130911,
          -1.0231757312554766,
          -0.9613644450760469,
          0.387771319012409,
          -2.1529210328954584,
          -1.910433003015551,
          -0.31550169113112897,
          -0.9550027177953595,
          -1.0624728191627244,
          -0.5685288093814082,
          -0.9809093593509416,
          -0.3194911873083694,
          -0.24022481074258417,
          -0.7084997735166016,
          -1.3099753638335976,
          -0.16680638584071744,
          0.1332875366381457,
          -1.1023175380194061,
          -1.2353167553928348,
          -2.620679011833441,
          -0.796021608976701,
          -2.1578476039348136,
          -0.8529722024879506,
          -1.7344350541406985,
          -2.0983063734430725,
          -1.045340605432535,
          -2.480722503654127,
          -1.3654374719996951,
          -0.8565637276827295,
          -0.1143777856728776,
          -2.021708150803818,
          -0.979810346188126,
          -1.9881948309524513,
          -0.2306291944898923,
          0.6490178772955277,
          -0.9715653448541468,
          0.3830021747433566,
          -1.946137892846987,
          -1.4364088471151844,
          -1.0985928648061634,
          -2.1910513543749914,
          -0.8444166807908721,
          -0.932283892918948,
          -1.93817898297723,
          0.06973497921310146,
          -2.1887017124027346,
          -0.3981616298637417,
          -1.3303384755517773,
          -2.3625128836010405,
          -2.072715890979203,
          0.5729589902960746,
          -1.048555095191069,
          -1.3494746716434434,
          0.29591227192652414,
          -0.19376830818265448,
          -0.41770758920874373,
          -0.8247240677264215,
          -1.4881925407315846,
          -2.269964903114108,
          -0.2005410942438268,
          -1.1957444596859415,
          -2.3092072462543975,
          0.17232259413197815,
          0.11406802375668429,
          -0.8024018043021905,
          -1.203208641502831,
          -0.7617057275640233,
          -0.23999676442004492,
          -1.300265641481316,
          -0.4984859669085848,
          -1.6566053580166789,
          -1.3968626780134425,
          -0.8399939021454039,
          -1.4751592370444744,
          -0.5287061226452927,
          -0.37175647710838705,
          -2.2121537319401074,
          -1.0946582250560637,
          -1.4901625962708507,
          -1.8263442163834631,
          -0.7113353570763356,
          -1.8128887291350777,
          -0.7100816570816622,
          -0.27675456788624875,
          -0.6535219732428132,
          -1.3128765819004122,
          -0.20437466933699058,
          -1.14677558527397,
          -0.7774526016134305,
          -1.6799139638250422,
          -2.095586839295169,
          -0.2807932397665496,
          -0.38432663140239276,
          -2.211314925374307,
          -2.4756669602558414,
          -0.9177703274584607,
          -1.4706194714683354,
          -0.2589851187221426,
          -1.5564039654880257,
          -1.0458546602924073,
          0.08008380206478333,
          -2.576875179019589,
          -1.028272226313201,
          -1.4480128158493608,
          -0.10772175696995523,
          -0.6560811436782259,
          -0.7934573483707612,
          -0.8146956470397526,
          -0.6256852512980619,
          -0.6599777231356266,
          -0.0804389449093631,
          -1.5469809333229454,
          -1.4306193042312882,
          -0.3808034569778901,
          -1.414382915616551,
          -0.7532881432109897,
          -0.10933693805843808,
          -2.390484091674039,
          -1.1052298134070153,
          -0.256235823483168,
          -1.3269127873241717,
          -0.15627157810161768,
          -0.9327260812279896,
          -1.7230157983797563,
          -1.1932272862770523,
          -2.5106732326364676,
          -2.020901072182639,
          -2.1733573759751224,
          -1.1572475569865492,
          -0.8107212443587086,
          -2.0841144696644647,
          0.024224372636481972,
          -0.34985153996178553,
          -0.7618472394611746,
          -2.2146287443492083,
          -0.9081441385678182,
          -0.2037003498122847,
          -1.0227798380905289,
          -0.8929231768041439,
          -0.1536249587372461,
          -0.39050318116803373,
          -0.5049221159475774,
          -1.4722037322886756,
          -0.9531458825842962,
          -0.21785730189200275,
          -0.5904128203695441,
          -0.5756896024091642,
          -1.0003950804891746,
          -0.200235256500073,
          -0.6738878533822821,
          -1.281009419047153,
          0.03947645341378769,
          -0.590874118736678,
          -1.3340808663082435,
          -0.8576894268010291,
          -0.6226191240273583,
          -1.1242735330768436,
          -0.523537032404714,
          -1.046735423832129,
          -0.9051831602730053,
          -1.282921972362854,
          -0.23315248778548675,
          -1.1874075000795286,
          -1.4799379967296824,
          -0.5533589234979898,
          -1.2262816342876561,
          -0.7947980870353576,
          -0.08178133264570062,
          -0.40375072905635073,
          0.13061970719775123,
          -0.811199427124321,
          -0.9135591124787399,
          -1.1031239525821723,
          -1.288779051459188,
          -0.9523984448633217,
          -1.372857639040351,
          -0.3970296425865206,
          -0.15978936657385873,
          -1.2801419124570135,
          -1.3391415486873286,
          -1.3825105261377306,
          -1.0166789558259306,
          -1.4530171611894855,
          -0.9752987061188764,
          -1.7235175618478038,
          -0.1932556111886629,
          -0.7674318518211849,
          -1.1540540192024924,
          -0.8078881299420151,
          -1.0692525431337134,
          -1.2049408724822033,
          0.6660865548853213,
          -1.2869978527274966,
          -0.5213403685515006,
          -1.7879637139781308,
          -1.7812701205325672,
          0.3802008284722903,
          0.0022953239902791522,
          -0.9180528727459605,
          -1.1260674815583789,
          -0.9194139211436185,
          -0.18944272608672544,
          -0.7573501297332932,
          -1.0879834916228486,
          -1.5128624126605041,
          -1.316525826574591,
          -1.2149966540880643,
          -1.6447344825330596,
          -1.1381880895151002,
          -0.350268825942767,
          -1.4826912431770771,
          -0.016437027585118037,
          -1.486230658130362,
          -1.07869032785789,
          -0.002359933818148585,
          -1.3450699500065255,
          -1.7440264081487897,
          -1.2547985472315808,
          -1.2442470561827752,
          -0.31257251353404814,
          -0.1407853520783195,
          -0.47453406763325545,
          -0.3820839160240518,
          -1.2099768452347957,
          -1.7253947988039435,
          -0.6843767086715613,
          -1.750135192894808,
          -1.6765527235970894,
          -1.1942937395983932,
          -1.2498951000761604,
          -0.328673262330754,
          -0.22971100260841565,
          -0.9067535550704823,
          -0.5476526068712033,
          -0.486385769813987,
          -1.4649999112340875,
          -0.824010397978088,
          -0.8679487387660506,
          -1.232640134799333,
          -0.22156337337986493,
          -1.0343251541109142,
          -0.858028602045543,
          -0.6426630645630331,
          -0.7834691624528566,
          -0.19643480288103782,
          -0.4747694681814188,
          -1.1849410952394832,
          -1.7471664275662218,
          -0.948574469541919,
          -0.5935590741903285,
          -1.5110988957336313,
          -0.5656502994500755,
          -0.442711941398196,
          -0.600591463743072,
          -1.234302467361922,
          -1.0133575555049956,
          -1.4900523164677677,
          -1.2349626446454771,
          -0.8060592768846694,
          -0.2278187130275937,
          -0.32991746179995596,
          -1.3296841585025185,
          -0.5102584416595174,
          -1.5574535272758627,
          -0.9338913282653943,
          -0.10561016778460174,
          -0.9832070773861855,
          -2.0440516208128963,
          -1.298836189701631,
          -0.549863797646717,
          -0.8286963645836306,
          -0.23914940528446307,
          -0.7382934186817718,
          -1.2470178206405806,
          -1.494627992305245,
          -0.028042668361767914,
          -2.280629876956688,
          -0.11829440680592448,
          -0.3296545248441186,
          -0.7026652998611956,
          -1.3430062616389928,
          -0.9902214542757569,
          -1.1219423373803994,
          -0.6091259129827321,
          -1.351679319843082,
          -1.235643138443292,
          -1.5899867718173273,
          -0.5337610994196802,
          0.5035827195467437,
          -1.0073139402170768,
          -1.0494478106805576,
          -2.123532464796397,
          -0.9153281377496044,
          -0.6677644788705468,
          -1.595686996690753,
          -1.0404171193547183,
          -0.9616375830069882,
          -0.3777227625681406,
          -0.8690354241018107,
          -0.19722861584796242,
          -1.1434335834966993,
          -0.4431461370264916,
          -0.8704629519705468,
          -0.6258747754290138,
          -1.4255779535496331,
          -1.5364529182876383,
          -0.27898406561979805,
          -0.8854375318071326,
          -0.8179028331119413,
          -0.3023183452058974,
          -1.0217005355736704,
          -0.2076549112507587,
          -1.6289919761187546,
          -0.7741516981351464,
          -1.083055674984263,
          -0.04098042838866245,
          -1.2152256138323685,
          -1.7337660367230887,
          -1.3816981767606764,
          -1.1636121097049559,
          -0.6141335977400075,
          -1.00902474199677,
          -0.4577474345248187,
          -0.2915414553164236,
          -1.9244269768669746,
          -0.8469252604124049,
          -0.07448493893144431,
          -1.045759682891553,
          -0.5649231770797252,
          -1.3318791764680111,
          -1.2052616827125764,
          -1.2539231763635081,
          -0.061757384679458516,
          -0.3298703825270765,
          -0.7684989553955954,
          -0.12279758940163973,
          -0.48754295547590126,
          -0.8272697219724814,
          -1.452579772124691,
          -0.5147886494996218,
          -0.5930338903009954,
          -1.2132488705407434,
          -1.1812915571094014,
          -0.4305768147545458,
          -0.8544458774476484,
          -1.4347246454276796,
          -0.6460365083185886,
          -0.9414225611934377,
          -1.8149784511220657,
          -1.0151377346468562,
          -0.7547846542926705,
          -1.6830318763713699,
          -0.3763697716996173,
          -1.0616769573728095,
          -0.3529946957473178,
          -0.22976191892538605,
          -0.6222257604178951,
          -0.981198158093044,
          -0.8046029062753478,
          -0.0780110636059958,
          -0.353881579470605,
          -1.0623079895128285,
          -1.0302086937346269,
          -0.77569040505885,
          -1.7644800136008958,
          -1.3616354729260993,
          -0.5879738251795225,
          -0.7763334724819861,
          0.2528663490938175,
          -1.1860190267263433,
          -1.2955774485346834,
          -0.34716669158896357,
          -0.5483376582257793,
          -2.071042221763572,
          -1.143201087340192,
          -0.8166561380137266,
          -0.28491903221770776,
          -1.1985397640310216,
          0.4736805126126934,
          -1.6275469680260692,
          -1.4477265271501774,
          -0.7076543351059548,
          0.18819719132124266,
          -0.2915077450910497,
          -1.435308378489595,
          -1.4724519140211658,
          -0.9010596924214992,
          -0.4984768567329273,
          -1.3254959702155693,
          0.6382370145342902,
          0.05089083932223193,
          -0.2832681661526139,
          -0.8976181422976844,
          -1.0165853026836493,
          -0.1917570283232401,
          0.21170474310780615,
          -1.3416700992023973,
          -1.0076028019671421,
          -0.40473770428172484,
          -0.6224256986288192,
          -1.249030600648306,
          -1.1417895917027814,
          -1.3661269003979737,
          -0.47919041308761023,
          -1.1423803484053598,
          -0.7894054314398248,
          -1.1867572235035984,
          -0.4319399326681118,
          -0.853686138218358,
          -0.34236496174914716,
          -1.3341966507948877,
          -1.5419708885946597,
          -0.5916664458091122,
          -0.22038380669106522,
          -0.8826044649456678,
          -0.5926345556679375,
          -0.05655209221985272,
          -1.9508549818359022,
          -1.260319055650138,
          -0.6002827920645987,
          -1.549291713988759,
          -1.8690485510741972,
          -0.5400771526481787,
          -1.0557131001096465,
          -1.9527014904856417,
          -0.4591496777197345,
          -0.362935584583039,
          -1.357141008245344,
          -0.5632794669748971,
          -0.1277450252331443,
          -0.8542943039414882,
          -0.10085171064226507,
          -1.261077136203756,
          -0.672551186895961,
          -0.5732751125309912,
          -0.48986243724725265,
          -0.1222282377598563,
          -0.16228525434238394,
          -0.31393956828972236,
          -0.7341069763709936,
          -1.405924339698911,
          -1.2842450366367058,
          -1.198621733206318,
          -0.38731107463228853,
          -0.9040507851469006,
          -1.1913505238253759,
          0.4042206845130373,
          -1.5662087421596742,
          -1.1966581239613643,
          -0.7191106905631378,
          -0.8531907785313346,
          -1.3458265058189318,
          -0.07798929887429407,
          0.3249466489988718,
          -0.6590613734512243,
          -1.082437958429353,
          -1.1620202282373109,
          -1.4020651308718763,
          -0.5087332816007076,
          -1.157578002916498,
          -0.10265858901661551,
          -0.606813645850876,
          -0.8976068705255359,
          -0.7976866779884536,
          -1.307952054821866,
          -1.0858453930197998,
          -0.33770733591218705,
          -0.5706368222397364,
          -0.9150241770145381,
          -1.021860318036847,
          -0.9727961575808405,
          -0.8777392924888147,
          0.027533848953619156,
          -0.44119962527070505,
          -0.3771876613264282,
          -0.9962497081521944,
          -0.7109141992251549,
          -0.8851987379198704,
          -0.8632877080856303,
          -0.6442226528998398,
          -0.22142153250451813,
          -0.9955146341747076,
          -0.4090941444968266,
          -0.508601138287788,
          -1.1619593896152354,
          -0.6147705817766579,
          -0.4366222129783593,
          0.07631557497805336,
          -1.3749050134061935,
          -0.7292094163886405,
          -1.0105354289207575,
          -1.0634316425399637,
          -1.0342269986002646,
          -1.2619938660665457,
          -0.8646302006178849,
          -0.47017531570395754,
          -0.3166875544486656,
          -0.25364006015269874,
          -0.3059557018116681,
          -0.7006863230183278,
          -0.9955348715677628,
          -1.260987044101054,
          -0.7364677006433457,
          -0.3241042095881553,
          -0.19828288523148513,
          -0.6268427485738861,
          -1.1298096731959961,
          -1.293901339913737,
          -1.2813056805270002,
          -0.49698269545893925,
          -0.9916646839392745,
          0.19669863381693703,
          -0.48465465663612506,
          -0.2736639554395492,
          -0.8355549578091535,
          -0.4593769373851107,
          -0.6281624031343994,
          -1.192774332797924,
          -1.0358313437857942,
          -1.0165663570178878,
          -0.7354110054187936,
          -0.31958383742956215,
          -1.5376053767342897,
          0.13227594279446148,
          -0.8398786939714573,
          -0.713001282167484,
          -1.094065594762344,
          -0.37950196162318856,
          -0.08857004998132342,
          -1.844140792440866,
          -0.2667181377637535,
          -0.12543773494436652,
          -0.8849815889013333,
          -0.5862932638444494,
          -0.4516823945621599,
          -0.11084097645674452,
          -0.6430202059598285,
          0.012698679821246256,
          -0.38013562288063985,
          -0.21746670859062864,
          -0.6632598200086881,
          -1.3556533394591728,
          -1.1889989862449089,
          -1.1795291923016995,
          -1.2334699791701516,
          -0.6675578513617078,
          -0.6747678262980881,
          -1.009380504479239,
          -1.5159101553960215,
          -0.6574565664798683,
          -0.8547966253259025,
          -1.1565970943260697,
          -0.5640040441005048,
          -0.5353973654953117,
          -1.118971839911886,
          -0.4162017105280371,
          -0.7943142776819853,
          -1.4953145435289028,
          -1.098868726613513,
          -1.225495589311729,
          -1.216340102105396,
          -0.935744737980354,
          -1.0874920968853534,
          -0.9473629290611243,
          -1.16032057302386,
          -0.9219168581607575,
          -0.7475856657570461,
          -1.2118545774092235,
          -0.6466412188101889,
          -1.2972822693461556,
          -0.7095942927028169,
          -0.17680925474677733,
          -0.6571867707756371,
          -0.42475337245382705,
          -1.2075557017298084,
          -1.0744032584350878,
          -1.0280468484801628,
          -0.9144549253345103,
          -0.7507242683356532,
          -1.3255137402889619,
          -0.7049860732222057,
          -0.7425877932635654,
          -0.9694259469223394,
          -0.47491088958571925,
          -0.6919696265379722,
          -1.041769058066726,
          -0.693220680093866,
          -0.9787666885577245,
          -0.11899372096143554,
          -0.8860995188648572,
          -0.4678733124409313,
          0.20764729761931086,
          -1.1108859651059377,
          -0.9324519328731646,
          -0.9967814430201809,
          -1.1404838907021906,
          0.01873493759621627,
          -0.9520727127922293,
          -1.1506772979527602,
          -1.0469588117574726,
          -0.22902130358003542,
          -0.9051298430371119,
          -1.028826510189665,
          -1.3571916888280293,
          -0.3921876263126651,
          -1.5082117219112698,
          -0.8542638215571821,
          -0.35085872433420173,
          -0.803508971409464,
          -0.9351721211113484,
          -1.0209827337457555,
          -0.6804821374246666,
          -0.4574714234222986,
          -1.1813101721925139,
          -0.6688337252514354,
          -1.2574072839987882,
          -1.214246207560358,
          -0.9407607416676481,
          -1.3187682016439508,
          -1.13073683784732,
          -1.4766258515296746,
          -0.5359562413193819,
          -1.0471426040470921,
          -1.3354358872212846,
          -0.6932275852470193,
          -0.5547626159385359,
          -1.2182828726912927,
          -0.8992882028366499,
          -0.5882013821138452,
          -0.13737834807829508,
          -1.0009025446982318,
          -1.2044392030376694,
          -0.5527998622493627,
          -0.5354434093576685,
          -0.5169462898016487,
          -0.4080003946333441,
          -0.7130118593256123,
          -0.834182275879092,
          -0.57047636651762,
          -1.1698628903171098,
          -1.0483770142752984,
          -0.12007481791663699,
          -1.2621869053786396,
          -0.7038180829018519,
          -1.1501366902176542,
          -0.2753327010026143,
          -1.1026286257821936,
          -0.8109672822478419,
          -0.5316255783317367,
          -1.0594961981654472,
          -0.9387729868155008,
          -0.8833545457356341,
          -1.1680279246513747,
          -0.3504889461083218,
          -1.068372908490512,
          -1.5938133188198262,
          -1.3434222209260462,
          -1.2413712804245827,
          -0.4942479312205505,
          -1.1725443102926907,
          -0.6232249733126874,
          -1.2977824483540275,
          -0.5107334663679751,
          -1.060856630182118,
          -0.4063260071125804,
          -0.853503175889284,
          -0.22283240387896674,
          -0.517422478519273,
          -0.6572826937952354,
          -1.0306225012611474,
          -0.7337040712614883,
          -0.9955463891405582,
          -0.6739660980592632,
          -1.0844672896788667,
          -0.8507354953036633,
          -0.8273971348083092,
          -1.4311781240621015,
          -0.8581152646051888,
          -1.0267012705338858,
          -1.014012436303125,
          -1.1140882560831071,
          -1.0789855268551884,
          -1.3281285838898231,
          -0.9645070075417739,
          -0.20463703010671708,
          -0.3272512525063252,
          -1.3659335691177865,
          -1.3317884714043196,
          -0.9619880095545786,
          -0.6549087306011785,
          -1.161986811763513,
          -1.059668737958054,
          -1.1356260113706593,
          -0.6273608035703181,
          -0.35701755208925706,
          -0.6958140146564326,
          -0.5402576413063337,
          -1.1789205350070142,
          -0.9025415959718947,
          -1.109408898651125,
          -0.7025074882528654,
          -0.4670040868383349,
          -0.7147078882396898,
          -1.1792669694267237,
          -1.3008177711947806,
          -1.2642184623475166,
          -0.9790145575640838,
          -0.8557618287272499,
          -0.8389856585777387,
          -0.44631891803157514,
          -0.9694904031730175,
          -1.1575509014076755,
          -1.4002369850524767,
          -0.7237105896341681,
          -1.1403300785576806,
          -0.4350568237739958,
          -1.029578530932867,
          -0.5370932145637478,
          -0.46611397304675783,
          -0.5914419724429925,
          -0.997278922047043,
          -0.6560392228639038,
          -0.20646859610174892,
          -1.0301668857360629,
          -1.6304555865292338,
          -0.9482113324921648,
          -0.5587940698372496,
          -0.7003115272287723,
          -0.560325842555424,
          -0.8495261412340264,
          -0.8376581807325705,
          -1.1908892771346204,
          -1.1920742799046034,
          -0.8059291876235293,
          -0.27551225616909064,
          -0.8900108790551373,
          -0.7107326719520849,
          -0.45146779489542566,
          -1.0782595495758822,
          -1.2231751091440015,
          -0.6509219185615119,
          -0.9855621793834942,
          -0.9491020895379827,
          -1.2138463211265078,
          -0.4686056394942824,
          -0.8722066928925906,
          -0.012042694766191561,
          -1.3389481331142787,
          -0.5690132687023002,
          -0.8861530001191931,
          -0.6723155939391137,
          -0.8478598911016294,
          -1.3955998789225688,
          -0.9789676633608979,
          -1.0707749875343822,
          -0.34737008214047954,
          -0.8580546978360405,
          -0.6531495722841134,
          -0.7923235553910416,
          -1.2009124295326823,
          -0.42087023990045375,
          -0.6635762487369257,
          -0.021929574896400635,
          -0.8208031254891051,
          -0.9792776440505722,
          -0.3114272196432534,
          -0.9764831047194634,
          -0.821228062354904,
          -0.8021514475030757,
          -0.8238455493890433,
          -0.5277656676883189,
          -0.6346232083659278,
          -0.5998319800145105,
          -1.1838388020864505,
          -0.20847384729310148,
          -0.49326378151622924,
          -1.1673544411434533,
          -1.1605806127460128,
          -0.6562381650168781,
          -0.8744937091104352,
          -0.2681047129241399,
          -0.9771903515491736,
          -1.2592352547349874,
          -1.2452742898767641,
          -1.2637225888958985,
          -1.3352923576302618,
          -1.0219696860405827,
          -0.9076057897315601,
          -0.9389301555133823,
          -0.677843706424471,
          -1.04281810325766,
          -1.2857871037190634,
          -0.35238312678375505,
          -0.6253763245561516,
          -1.1501669542556687,
          -0.6438225127819621,
          -0.8499082118130232,
          -1.2525733900371019,
          -0.16270014084331616,
          -0.5138255895964772,
          -0.8961250059442264,
          -0.8570213617850951,
          -0.3781072501718734,
          -0.2702675259053677,
          -1.2514550118059522,
          -1.4021350059160353,
          -0.8356032974927087,
          -0.8795838037165682,
          -1.2983060933710158,
          -1.2496881877872228,
          -0.910944914130642,
          -0.832244336515405,
          -0.9691851676978818,
          -1.294991876018599,
          -1.0301121005936462,
          -0.688975208496906,
          -0.8210857587995667,
          -0.9455640177322322,
          -0.40594709960490766,
          -0.2919157001070755,
          -1.347571310545579,
          -1.550336687010755,
          -0.965579161358582,
          -1.0734541346262538,
          -1.369612202801383,
          -1.0850829474976245,
          -1.019773360770278,
          -0.6958103286303443,
          -0.9005852461960682,
          -0.06831421148762967,
          -0.9693873714314913,
          -1.0869756931308523,
          -1.4715714073017512,
          -0.9707146213006336,
          -0.49788697208866256,
          -1.3471540408166924,
          -0.1327619340691708,
          -1.265051307549094,
          -1.2570137216669317,
          -1.1627085317306305,
          -1.1778279719710654,
          -0.877937049638828,
          -0.5910613062412102,
          -0.8784257195293108,
          -0.9561943112016016,
          -0.9267493541140525,
          -1.154094569432322,
          -1.3502211243039568,
          -1.4683608286083132,
          -1.4823581490950868,
          -1.115065848969634,
          -0.8527441635578749,
          -0.45675166101513387,
          -0.6706296791070014,
          -0.9618005963645487,
          -1.0740719762584072,
          -1.0285037615599182,
          -0.4894862818555873,
          -0.6068368829801778,
          -0.7966201816891904,
          -0.6984287068106544,
          -0.7808245350818281,
          0.06569327945206582,
          -0.43191941545791707,
          -0.33966550105186327,
          -0.8359226622903078,
          -1.0904772462984154,
          -0.7713491581006353,
          -0.3723356469911646,
          -0.5800526291298934,
          -1.2701740384596403,
          -1.1322207260761203,
          -0.6123979664071127,
          -0.5290355156099393,
          -1.086761620658221,
          -0.9189631399820102,
          -0.954825689459337,
          -0.2064120215689338,
          -0.5827559272663227,
          -0.8038871155181713,
          -1.2956776018676504,
          -1.1497907645959604,
          -0.710969040209254,
          -0.2255038374015994,
          -0.32091129577743344,
          -1.4296929372674534,
          -1.3105209852799287,
          -0.3575480054943816,
          -0.07525257240784478,
          -0.8867316837645509,
          -0.5717491084379887,
          -0.8699355643504433,
          -0.13646412318577206,
          -0.6643581206610658,
          -0.48094540945371655,
          -0.6007474593928497,
          -0.39629254889848586,
          -1.244051133117463,
          -0.3181263691456476,
          -0.47530945982111233,
          -0.9105960562339983,
          -0.845554357565524,
          -0.8149412746279534,
          -0.7237416736181898,
          -1.207471291619993,
          -1.3384055890343407,
          -0.6513852126133498,
          -1.4594503544807862,
          -0.5824005248987263,
          -0.9918910933027983,
          -0.6186257695315469,
          -0.10252271698034315,
          -0.9593558190005559,
          -1.204290785822645,
          -0.5644302159046746,
          -1.1410720274898074,
          -0.9413826570778503,
          -0.8004796193562053,
          -1.022258587608252,
          -0.22483605178572186,
          -1.0143292080574684,
          -0.2631738737107919,
          -1.0140603639864847,
          -0.14509302209068514,
          -1.0018790498225727,
          -0.9807235968111377,
          -1.2195287794292788,
          -0.6559902498436273,
          -0.6891190459478055,
          -0.8750476277763295,
          -0.5842235693800546,
          -1.1063433804646272,
          -1.0113453274242943,
          -1.1109777645905203,
          -0.19372103979724864,
          -1.1258902756110651,
          -0.3273176051552089,
          -0.5884881780329037,
          -0.728999342020465,
          -0.3020316513999988,
          -0.6846075619213076,
          -0.3630686282528074,
          -0.6397522302724445,
          -0.6894651325324003,
          -0.5955284006679499,
          -0.6142602482429234,
          -0.6868942623987702,
          -0.5392658445208462,
          -0.6456569658351254,
          -0.5910076767438472,
          -0.6017369883695677,
          -0.25949465374427627,
          -0.4252839589228996,
          -0.7009509327613286,
          -0.8806620736476078,
          -0.059647941083143294,
          -0.22835514584392605,
          -0.924000373554193,
          -0.958666499067284,
          -0.9046443995456735,
          -0.7395664651918745,
          -0.6160681839394354,
          -0.22864579696690648,
          -0.5847719232027107,
          -0.3313447920690351,
          -0.5054332424069173,
          -0.9232950927352166,
          -0.9773213579389515,
          -0.5851670257377346,
          -0.4785892079576408,
          -0.5365389174841604,
          -0.18045615189208913,
          -0.8359281675844069,
          -0.36992634516276757,
          -0.7836021087343417,
          -0.5246731570689261,
          -0.34066368783231926,
          -0.5809681436192278,
          -0.5669162328527982,
          -0.4920314034306054,
          -0.049068769731412054,
          -0.0778026845725133,
          -0.6639213214629351,
          -0.08351394255629795,
          -0.18743338763415873,
          -0.3511497188239429,
          -0.6081916206254743,
          -0.47910008638253504,
          -0.1683417237494036,
          -0.9012630584259291,
          -0.5386532920107725,
          -0.220950249124404,
          -0.5673981715544375,
          -0.6914978061923567,
          -0.8806549796499906,
          -0.8432944925834385,
          -0.3653104448645024,
          -0.6160069556564713,
          -0.597805311658052,
          -0.436523691829466,
          -0.5876743383210169,
          -0.5324644623913561,
          -0.45512105048470725,
          -0.7313765014161495,
          -0.21787446839476912,
          -0.8467807107220284,
          -0.27416648337258237,
          -0.36978719377627317,
          -0.235381408107056,
          -0.45498185506000477,
          -0.7171073581060031,
          -0.662495686921792,
          -0.4479612071344151,
          -0.6739118746847949,
          -0.1660929241946848,
          -0.7709485643615615,
          -0.6322397771835253,
          -0.5198330768657414,
          -0.4868766995295629,
          -0.30692491638638236,
          -0.8900230592992058,
          -0.7615753136140901,
          -0.24485816010405603,
          -0.792977983334727,
          -0.8990707984567139,
          -0.5963041048714353,
          -0.63532445501174,
          -0.19754763824181584,
          0.010263815774386648,
          -0.7031717758717186,
          -0.6744325931838483,
          -0.46522423053237255,
          -0.2118837070089931,
          -0.40345892417433543,
          -0.637935571871225,
          -0.799139130399042,
          -0.24851053272897264,
          -0.3947061177129597,
          -0.6939233902573312,
          -0.5469220956270283,
          -0.46611888849634986,
          -0.46108756818698426,
          -0.5841885679104396,
          -0.6162897839405189,
          -0.6054454013435648,
          0.03811742951809721,
          -0.6142688604986459,
          -0.7639056822534284,
          -0.3994887031162692,
          -0.4646234758816321,
          -0.4500674224546124,
          -0.45726108826137024,
          -0.6920993465509903,
          -0.48343416597234967,
          -0.6159464805463197,
          -0.6607917116964117,
          -0.1312394353707655,
          -0.5594215503285997,
          -0.12916990668841968,
          -0.22314313428819216,
          -0.6540143370801539,
          -0.7320759415016485,
          -0.3845764529253249,
          -1.0309119033053922,
          -0.624249249780977,
          -0.561795168450891,
          -0.21562542729834835,
          -0.3886748633566741,
          -0.3914052897162044,
          -0.4425592100160455,
          -0.639127607410386,
          -0.0956413088004454,
          -0.5934779447650425,
          -0.5472099469439362,
          -0.6722426070114346,
          -0.16211616161541434,
          -0.9040835786595707,
          -0.49653757150798083,
          -0.6667428613884174,
          -0.5629830363302286,
          0.044111074668951505,
          -0.3096996718912554,
          -0.9278691751649228,
          -0.4515990550406028,
          -0.7545685002663377,
          -0.359094177938485,
          -0.26677696649028726,
          -0.2050299966400985,
          -0.3030078102777072,
          -0.8341873692298236,
          -0.6591456407891089,
          -0.953954606647706,
          0.027652677935496493,
          -0.5578638143072653,
          -0.6591983119225201,
          -0.4802480567151709,
          -0.406085022703306,
          -0.5720240039293417,
          -0.9374541335499061,
          -0.31739076453412984,
          -0.23803016062589688,
          -0.0900796286188027,
          0.14888454896129388,
          -0.45622079726135906,
          -0.09868261006906054,
          -0.3580570928783528,
          -0.19279709790317473,
          -0.7664830529851806,
          -0.5364155338962313,
          -0.335353115684628,
          -0.9121109124977353,
          -0.6111110813367587,
          -0.3304138713425837,
          -0.6416366760848882,
          -0.35657702544439374,
          -0.11000007459820513,
          -0.35465811465774977,
          -0.4557725099897663,
          -0.7255185464576258,
          -0.7950409148608573,
          -0.481125175974462,
          -0.8350512517429093,
          0.0900405281888691,
          -0.12209707730884516,
          -0.35058026006508314,
          -0.38324430664338516,
          -0.2092433628755753,
          -0.4582735263758535,
          -0.8458544973218494,
          -0.5100084834808433,
          -0.5770171683814445,
          -0.3608661063972587,
          -0.5285467404342351,
          -0.5948135645282374,
          -0.32307669321939264,
          -0.5622888613047252,
          -0.20177144845945644,
          -0.3382349381135788,
          -0.4959219439512332,
          -0.46755707351491044,
          -0.4263745521808796,
          -0.7016634356253673,
          -0.4289224011827687,
          -0.598713063977983,
          -0.11027540079667,
          -0.4769372277967219,
          -0.08661350292646572,
          -0.5981831312852207,
          -0.7485691456556642,
          -1.0345572919978183,
          -0.5080518441671659,
          -0.6894469269006824,
          -0.770823888317565,
          -0.8522286977932574,
          -0.15312836358107523,
          -0.5083513851730266,
          -0.9917366902432869,
          -0.24071518146446763,
          -0.3627191525279062,
          -0.6990286099406446,
          -0.7392874199010614,
          -0.25856466443755344,
          -0.6625178958191252,
          -0.5503489771709866,
          -0.728453602477827,
          -0.06639436282168057,
          -0.725144882464235,
          -0.5506736990108728,
          -0.32817557830487215,
          -0.39584780789657464,
          -0.16899941382599715,
          -0.6627244682921947,
          -0.4883460097393334,
          -1.023597648759261,
          -0.3357062786128979,
          -0.16638832350320892,
          -0.3616707145354747,
          -0.69695702027623,
          -0.21667376858626688,
          -0.20851073322316704,
          -1.0078431936729517,
          -0.5289671179410397,
          -0.7239007944484501,
          -0.49642897080683096,
          -0.18867092245052586,
          -0.47121387275450255,
          -0.3384506591282096,
          -0.5181656679521591,
          -0.6565803291481781,
          0.04009757686052001,
          -0.2288061228292329,
          -0.4224670309918087,
          -0.8200829973990986,
          -0.26734409246736685,
          -0.5318711525083964,
          -0.1846655981474517,
          -0.8849526657532495,
          -0.8701325475963162,
          0.005763744144993239,
          -0.5650214660063304,
          -0.19513043418751844,
          -0.6674146853603626,
          -0.3873138911844061,
          0.0040175890869336706,
          -0.43543832217979117,
          -0.5222926787634963,
          -0.259906765764741,
          -0.6866599379162885,
          -0.992886257530966,
          -0.6079217865227872,
          -0.44843718325593696,
          -0.6160959089235463,
          -0.5652224674949997,
          -0.7709208212716911,
          -1.1232169191578187,
          -0.04450700273739787,
          -0.3201239497846779,
          -0.8667597839020948,
          -0.3555552514488368,
          -0.09297825148569067,
          -0.29016861116124554,
          -0.40769135764425435,
          -0.3592297594898315,
          -0.6720850466535402,
          -0.9606121868449786,
          -0.7301872026989992,
          -0.6200710152832372,
          -0.4208467561481489,
          -0.3571235771070518,
          -0.46987647577435065,
          -1.0396648775702766,
          -0.5571799839750251,
          -0.818781468171873,
          -0.33859670600068714,
          -0.8328216775797191,
          -0.6824017708900876,
          -0.2639439497426894,
          -1.0179724321978623,
          -0.8778393858516889,
          -0.08047058795522607,
          -0.5633761991811306,
          -0.4232137316066198,
          0.008078362123933203,
          -0.5149502683186548,
          0.1646665436610784,
          -0.013150097765359019,
          -0.7319109024839073,
          -0.25477006758434667,
          -0.31403934650696275,
          -0.5084298193692633,
          0.004751927620129631,
          -0.6234138911888136,
          -0.5268012741241915,
          -0.5464503986312077,
          -0.3317849209780025,
          0.07458856888533641,
          -0.5431997774500008,
          -0.09465194581246197,
          -0.5762633453480114,
          -0.8289916826197568,
          -0.8911049751463462,
          -0.6877052069327676,
          -0.2846916272834512,
          -0.3232967525885265,
          -0.6306740828061873,
          -0.31073659938555775,
          -0.3781385026329798,
          -0.6019469939299964,
          -0.3970657305147073,
          -0.4364949558118735,
          -0.9387861024155547,
          -0.8907864074909483,
          -0.8253633025379337,
          -0.4342458362096533,
          -0.16534478757101617,
          -0.4594926787162511,
          -0.5704402841750935,
          -0.5703971184701468,
          -0.8660331644635898,
          -0.8136827872101035,
          -0.7714448289003133,
          -0.21247039473811113,
          -0.25849718265421023,
          -0.8430757117979234,
          -0.6145597563074023,
          -0.7454750988943903,
          -0.3285800670875633,
          -0.490760413693328,
          -0.05078413884916552,
          -0.9765023018173018,
          -0.18909401999239603,
          -0.3684261209460521,
          -0.280678974597143,
          -0.2282828679834818,
          -0.5251980422317658,
          -0.2105531085673318,
          -0.72050601097975,
          -0.3825813420704877,
          -0.3789522313931658,
          -0.4542413083249895,
          -0.4953789471555851,
          -1.066854502112145,
          -0.8705130422705377,
          -0.3352905329271575,
          -0.35462831095028485,
          -0.748646196899312,
          -0.4910048127267931,
          -0.7629485872588289,
          -0.7734679388164177,
          -0.6589732582471743,
          -0.7082147401092087,
          -0.45797128901211354,
          -0.9043664189415582,
          -0.5732306851417172,
          -0.5223442624734411,
          -0.2068468944737817,
          -0.18413808024020709,
          -0.7027249325493993,
          -0.24519507859760198,
          -0.541142426563993,
          -0.44404272097121544,
          -0.28543399751889587,
          -0.46345207384538517,
          -0.4905020221927979,
          -1.1016422125840717,
          -0.5316670999726684,
          -0.4110414158334991,
          -0.6790524115232803,
          -0.8839908590330835,
          -0.8128736334370076,
          -0.2239880666542654,
          -0.4983827153847905,
          -0.3303318971304615,
          -0.4064675090598298,
          -0.01794133817188665,
          -0.6165621986593994
         ],
         "yaxis": "y2"
        }
       ],
       "layout": {
        "annotations": [
         {
          "font": {
           "size": 16
          },
          "showarrow": false,
          "text": "coords",
          "x": 0.225,
          "xanchor": "center",
          "xref": "paper",
          "y": 1,
          "yanchor": "bottom",
          "yref": "paper"
         },
         {
          "font": {
           "size": 16
          },
          "showarrow": false,
          "text": "coords",
          "x": 0.775,
          "xanchor": "center",
          "xref": "paper",
          "y": 1,
          "yanchor": "bottom",
          "yref": "paper"
         }
        ],
        "template": {
         "data": {
          "bar": [
           {
            "error_x": {
             "color": "#2a3f5f"
            },
            "error_y": {
             "color": "#2a3f5f"
            },
            "marker": {
             "line": {
              "color": "#E5ECF6",
              "width": 0.5
             }
            },
            "type": "bar"
           }
          ],
          "barpolar": [
           {
            "marker": {
             "line": {
              "color": "#E5ECF6",
              "width": 0.5
             }
            },
            "type": "barpolar"
           }
          ],
          "carpet": [
           {
            "aaxis": {
             "endlinecolor": "#2a3f5f",
             "gridcolor": "white",
             "linecolor": "white",
             "minorgridcolor": "white",
             "startlinecolor": "#2a3f5f"
            },
            "baxis": {
             "endlinecolor": "#2a3f5f",
             "gridcolor": "white",
             "linecolor": "white",
             "minorgridcolor": "white",
             "startlinecolor": "#2a3f5f"
            },
            "type": "carpet"
           }
          ],
          "choropleth": [
           {
            "colorbar": {
             "outlinewidth": 0,
             "ticks": ""
            },
            "type": "choropleth"
           }
          ],
          "contour": [
           {
            "colorbar": {
             "outlinewidth": 0,
             "ticks": ""
            },
            "colorscale": [
             [
              0,
              "#0d0887"
             ],
             [
              0.1111111111111111,
              "#46039f"
             ],
             [
              0.2222222222222222,
              "#7201a8"
             ],
             [
              0.3333333333333333,
              "#9c179e"
             ],
             [
              0.4444444444444444,
              "#bd3786"
             ],
             [
              0.5555555555555556,
              "#d8576b"
             ],
             [
              0.6666666666666666,
              "#ed7953"
             ],
             [
              0.7777777777777778,
              "#fb9f3a"
             ],
             [
              0.8888888888888888,
              "#fdca26"
             ],
             [
              1,
              "#f0f921"
             ]
            ],
            "type": "contour"
           }
          ],
          "contourcarpet": [
           {
            "colorbar": {
             "outlinewidth": 0,
             "ticks": ""
            },
            "type": "contourcarpet"
           }
          ],
          "heatmap": [
           {
            "colorbar": {
             "outlinewidth": 0,
             "ticks": ""
            },
            "colorscale": [
             [
              0,
              "#0d0887"
             ],
             [
              0.1111111111111111,
              "#46039f"
             ],
             [
              0.2222222222222222,
              "#7201a8"
             ],
             [
              0.3333333333333333,
              "#9c179e"
             ],
             [
              0.4444444444444444,
              "#bd3786"
             ],
             [
              0.5555555555555556,
              "#d8576b"
             ],
             [
              0.6666666666666666,
              "#ed7953"
             ],
             [
              0.7777777777777778,
              "#fb9f3a"
             ],
             [
              0.8888888888888888,
              "#fdca26"
             ],
             [
              1,
              "#f0f921"
             ]
            ],
            "type": "heatmap"
           }
          ],
          "heatmapgl": [
           {
            "colorbar": {
             "outlinewidth": 0,
             "ticks": ""
            },
            "colorscale": [
             [
              0,
              "#0d0887"
             ],
             [
              0.1111111111111111,
              "#46039f"
             ],
             [
              0.2222222222222222,
              "#7201a8"
             ],
             [
              0.3333333333333333,
              "#9c179e"
             ],
             [
              0.4444444444444444,
              "#bd3786"
             ],
             [
              0.5555555555555556,
              "#d8576b"
             ],
             [
              0.6666666666666666,
              "#ed7953"
             ],
             [
              0.7777777777777778,
              "#fb9f3a"
             ],
             [
              0.8888888888888888,
              "#fdca26"
             ],
             [
              1,
              "#f0f921"
             ]
            ],
            "type": "heatmapgl"
           }
          ],
          "histogram": [
           {
            "marker": {
             "colorbar": {
              "outlinewidth": 0,
              "ticks": ""
             }
            },
            "type": "histogram"
           }
          ],
          "histogram2d": [
           {
            "colorbar": {
             "outlinewidth": 0,
             "ticks": ""
            },
            "colorscale": [
             [
              0,
              "#0d0887"
             ],
             [
              0.1111111111111111,
              "#46039f"
             ],
             [
              0.2222222222222222,
              "#7201a8"
             ],
             [
              0.3333333333333333,
              "#9c179e"
             ],
             [
              0.4444444444444444,
              "#bd3786"
             ],
             [
              0.5555555555555556,
              "#d8576b"
             ],
             [
              0.6666666666666666,
              "#ed7953"
             ],
             [
              0.7777777777777778,
              "#fb9f3a"
             ],
             [
              0.8888888888888888,
              "#fdca26"
             ],
             [
              1,
              "#f0f921"
             ]
            ],
            "type": "histogram2d"
           }
          ],
          "histogram2dcontour": [
           {
            "colorbar": {
             "outlinewidth": 0,
             "ticks": ""
            },
            "colorscale": [
             [
              0,
              "#0d0887"
             ],
             [
              0.1111111111111111,
              "#46039f"
             ],
             [
              0.2222222222222222,
              "#7201a8"
             ],
             [
              0.3333333333333333,
              "#9c179e"
             ],
             [
              0.4444444444444444,
              "#bd3786"
             ],
             [
              0.5555555555555556,
              "#d8576b"
             ],
             [
              0.6666666666666666,
              "#ed7953"
             ],
             [
              0.7777777777777778,
              "#fb9f3a"
             ],
             [
              0.8888888888888888,
              "#fdca26"
             ],
             [
              1,
              "#f0f921"
             ]
            ],
            "type": "histogram2dcontour"
           }
          ],
          "mesh3d": [
           {
            "colorbar": {
             "outlinewidth": 0,
             "ticks": ""
            },
            "type": "mesh3d"
           }
          ],
          "parcoords": [
           {
            "line": {
             "colorbar": {
              "outlinewidth": 0,
              "ticks": ""
             }
            },
            "type": "parcoords"
           }
          ],
          "pie": [
           {
            "automargin": true,
            "type": "pie"
           }
          ],
          "scatter": [
           {
            "marker": {
             "colorbar": {
              "outlinewidth": 0,
              "ticks": ""
             }
            },
            "type": "scatter"
           }
          ],
          "scatter3d": [
           {
            "line": {
             "colorbar": {
              "outlinewidth": 0,
              "ticks": ""
             }
            },
            "marker": {
             "colorbar": {
              "outlinewidth": 0,
              "ticks": ""
             }
            },
            "type": "scatter3d"
           }
          ],
          "scattercarpet": [
           {
            "marker": {
             "colorbar": {
              "outlinewidth": 0,
              "ticks": ""
             }
            },
            "type": "scattercarpet"
           }
          ],
          "scattergeo": [
           {
            "marker": {
             "colorbar": {
              "outlinewidth": 0,
              "ticks": ""
             }
            },
            "type": "scattergeo"
           }
          ],
          "scattergl": [
           {
            "marker": {
             "colorbar": {
              "outlinewidth": 0,
              "ticks": ""
             }
            },
            "type": "scattergl"
           }
          ],
          "scattermapbox": [
           {
            "marker": {
             "colorbar": {
              "outlinewidth": 0,
              "ticks": ""
             }
            },
            "type": "scattermapbox"
           }
          ],
          "scatterpolar": [
           {
            "marker": {
             "colorbar": {
              "outlinewidth": 0,
              "ticks": ""
             }
            },
            "type": "scatterpolar"
           }
          ],
          "scatterpolargl": [
           {
            "marker": {
             "colorbar": {
              "outlinewidth": 0,
              "ticks": ""
             }
            },
            "type": "scatterpolargl"
           }
          ],
          "scatterternary": [
           {
            "marker": {
             "colorbar": {
              "outlinewidth": 0,
              "ticks": ""
             }
            },
            "type": "scatterternary"
           }
          ],
          "surface": [
           {
            "colorbar": {
             "outlinewidth": 0,
             "ticks": ""
            },
            "colorscale": [
             [
              0,
              "#0d0887"
             ],
             [
              0.1111111111111111,
              "#46039f"
             ],
             [
              0.2222222222222222,
              "#7201a8"
             ],
             [
              0.3333333333333333,
              "#9c179e"
             ],
             [
              0.4444444444444444,
              "#bd3786"
             ],
             [
              0.5555555555555556,
              "#d8576b"
             ],
             [
              0.6666666666666666,
              "#ed7953"
             ],
             [
              0.7777777777777778,
              "#fb9f3a"
             ],
             [
              0.8888888888888888,
              "#fdca26"
             ],
             [
              1,
              "#f0f921"
             ]
            ],
            "type": "surface"
           }
          ],
          "table": [
           {
            "cells": {
             "fill": {
              "color": "#EBF0F8"
             },
             "line": {
              "color": "white"
             }
            },
            "header": {
             "fill": {
              "color": "#C8D4E3"
             },
             "line": {
              "color": "white"
             }
            },
            "type": "table"
           }
          ]
         },
         "layout": {
          "annotationdefaults": {
           "arrowcolor": "#2a3f5f",
           "arrowhead": 0,
           "arrowwidth": 1
          },
          "coloraxis": {
           "colorbar": {
            "outlinewidth": 0,
            "ticks": ""
           }
          },
          "colorscale": {
           "diverging": [
            [
             0,
             "#8e0152"
            ],
            [
             0.1,
             "#c51b7d"
            ],
            [
             0.2,
             "#de77ae"
            ],
            [
             0.3,
             "#f1b6da"
            ],
            [
             0.4,
             "#fde0ef"
            ],
            [
             0.5,
             "#f7f7f7"
            ],
            [
             0.6,
             "#e6f5d0"
            ],
            [
             0.7,
             "#b8e186"
            ],
            [
             0.8,
             "#7fbc41"
            ],
            [
             0.9,
             "#4d9221"
            ],
            [
             1,
             "#276419"
            ]
           ],
           "sequential": [
            [
             0,
             "#0d0887"
            ],
            [
             0.1111111111111111,
             "#46039f"
            ],
            [
             0.2222222222222222,
             "#7201a8"
            ],
            [
             0.3333333333333333,
             "#9c179e"
            ],
            [
             0.4444444444444444,
             "#bd3786"
            ],
            [
             0.5555555555555556,
             "#d8576b"
            ],
            [
             0.6666666666666666,
             "#ed7953"
            ],
            [
             0.7777777777777778,
             "#fb9f3a"
            ],
            [
             0.8888888888888888,
             "#fdca26"
            ],
            [
             1,
             "#f0f921"
            ]
           ],
           "sequentialminus": [
            [
             0,
             "#0d0887"
            ],
            [
             0.1111111111111111,
             "#46039f"
            ],
            [
             0.2222222222222222,
             "#7201a8"
            ],
            [
             0.3333333333333333,
             "#9c179e"
            ],
            [
             0.4444444444444444,
             "#bd3786"
            ],
            [
             0.5555555555555556,
             "#d8576b"
            ],
            [
             0.6666666666666666,
             "#ed7953"
            ],
            [
             0.7777777777777778,
             "#fb9f3a"
            ],
            [
             0.8888888888888888,
             "#fdca26"
            ],
            [
             1,
             "#f0f921"
            ]
           ]
          },
          "colorway": [
           "#636efa",
           "#EF553B",
           "#00cc96",
           "#ab63fa",
           "#FFA15A",
           "#19d3f3",
           "#FF6692",
           "#B6E880",
           "#FF97FF",
           "#FECB52"
          ],
          "font": {
           "color": "#2a3f5f"
          },
          "geo": {
           "bgcolor": "white",
           "lakecolor": "white",
           "landcolor": "#E5ECF6",
           "showlakes": true,
           "showland": true,
           "subunitcolor": "white"
          },
          "hoverlabel": {
           "align": "left"
          },
          "hovermode": "closest",
          "mapbox": {
           "style": "light"
          },
          "paper_bgcolor": "white",
          "plot_bgcolor": "#E5ECF6",
          "polar": {
           "angularaxis": {
            "gridcolor": "white",
            "linecolor": "white",
            "ticks": ""
           },
           "bgcolor": "#E5ECF6",
           "radialaxis": {
            "gridcolor": "white",
            "linecolor": "white",
            "ticks": ""
           }
          },
          "scene": {
           "xaxis": {
            "backgroundcolor": "#E5ECF6",
            "gridcolor": "white",
            "gridwidth": 2,
            "linecolor": "white",
            "showbackground": true,
            "ticks": "",
            "zerolinecolor": "white"
           },
           "yaxis": {
            "backgroundcolor": "#E5ECF6",
            "gridcolor": "white",
            "gridwidth": 2,
            "linecolor": "white",
            "showbackground": true,
            "ticks": "",
            "zerolinecolor": "white"
           },
           "zaxis": {
            "backgroundcolor": "#E5ECF6",
            "gridcolor": "white",
            "gridwidth": 2,
            "linecolor": "white",
            "showbackground": true,
            "ticks": "",
            "zerolinecolor": "white"
           }
          },
          "shapedefaults": {
           "line": {
            "color": "#2a3f5f"
           }
          },
          "ternary": {
           "aaxis": {
            "gridcolor": "white",
            "linecolor": "white",
            "ticks": ""
           },
           "baxis": {
            "gridcolor": "white",
            "linecolor": "white",
            "ticks": ""
           },
           "bgcolor": "#E5ECF6",
           "caxis": {
            "gridcolor": "white",
            "linecolor": "white",
            "ticks": ""
           }
          },
          "title": {
           "x": 0.05
          },
          "xaxis": {
           "automargin": true,
           "gridcolor": "white",
           "linecolor": "white",
           "ticks": "",
           "title": {
            "standoff": 15
           },
           "zerolinecolor": "white",
           "zerolinewidth": 2
          },
          "yaxis": {
           "automargin": true,
           "gridcolor": "white",
           "linecolor": "white",
           "ticks": "",
           "title": {
            "standoff": 15
           },
           "zerolinecolor": "white",
           "zerolinewidth": 2
          }
         }
        },
        "xaxis": {
         "anchor": "y",
         "domain": [
          0,
          0.45
         ]
        },
        "xaxis2": {
         "anchor": "y2",
         "domain": [
          0.55,
          1
         ]
        },
        "yaxis": {
         "anchor": "x",
         "domain": [
          0,
          1
         ]
        },
        "yaxis2": {
         "anchor": "x2",
         "domain": [
          0,
          1
         ]
        }
       }
      },
      "text/html": [
       "<div>\n",
       "        \n",
       "        \n",
       "            <div id=\"e1ca72ce-7b8c-406c-a4d3-a627ecc24024\" class=\"plotly-graph-div\" style=\"height:525px; width:100%;\"></div>\n",
       "            <script type=\"text/javascript\">\n",
       "                require([\"plotly\"], function(Plotly) {\n",
       "                    window.PLOTLYENV=window.PLOTLYENV || {};\n",
       "                    \n",
       "                if (document.getElementById(\"e1ca72ce-7b8c-406c-a4d3-a627ecc24024\")) {\n",
       "                    Plotly.newPlot(\n",
       "                        'e1ca72ce-7b8c-406c-a4d3-a627ecc24024',\n",
       "                        [{\"mode\": \"markers\", \"name\": \"0\", \"type\": \"scatter\", \"x\": [-3.0965537531703897, -3.5940933145712206, -2.8305511999265525, -2.9735682458952284, -3.706466972814086, -3.924404272858901, -2.854629260882924, -3.641594110193565, -3.1434554213131425, -2.689642206517631, -2.037587980016227, -4.566935653921523, -3.73803920215278, -3.7367921061212725, -3.125484403778446, -2.8678664124005038, -3.3265652661145086, -2.932709290185991, -3.4512386414459257, -4.242917721713719, -3.1704889128072935, -4.224092371442137, -4.610048550341667, -2.172357386972009, -3.6323507213447592, -3.4573380026314693, -2.739250877728184, -3.0693132289545537, -3.541732065035598, -2.116798588557262, -2.9224324879791044, -1.8556433712100218, -2.8650510812963783, -1.6423191154472438, -4.567134221926694, -3.273573315848347, -3.9911701772247765, -3.5728155528959142, -3.9155217225973526, -3.8960515962208047], \"xaxis\": \"x\", \"y\": [-0.7498056754761105, -1.3286283569343444, 0.5924874935090874, -0.44869273484606814, -0.05692010786242517, 0.9234595318949024, -0.06538178625478998, -0.22231705066048277, 0.30408022883801883, -0.9157217264874855, -1.1795993540493506, 0.08094931010735353, -0.8496487776629194, 0.13266473978815307, 1.6042548089339723, -1.060235441679909, -0.2194211481180744, -0.3829527523228261, -0.07534442533551479, -0.09902217508318087, -0.1910579541435346, 0.3952322197435185, -1.4217594296445324, -0.07608003854222262, -0.7808715208988176, 0.6936362610742421, -0.3003457182762562, -0.6990674926750854, -0.6194376499895435, -0.35810952434077803, -0.0850620343564262, 0.6729236751939367, -0.21094240828576996, -0.26879907913200646, -0.47054693079439636, 0.21893392565976783, -0.46062537634291395, 0.46788414138880674, -0.7608143688818381, -0.318124770660164], \"yaxis\": \"y\"}, {\"mode\": \"markers\", \"name\": \"1\", \"type\": \"scatter\", \"x\": [2.9626314339412416, 1.2425231532874272, 2.9440960685924553, 3.7375154600248854, 2.101226144625316, 3.275195608586988, 1.4831444876809585, 3.127810864989041, 3.7999954783675314, 4.6698790902740805, 0.7633627231279541, 2.260657263697914, 0.5847738720858595, 2.9772035986678596, 3.2281511941208105, 3.5273055185456226, 3.2193139592981477, 2.577952074973688, 1.451515632577475, 2.0585381808545447, 3.0350618150850805, 2.2052104906823047, 1.332643083585839, 0.8025936860194103, 3.1690759037546368, 2.731589080792178, 2.418357474048965, 2.8361401553601606, 1.908307993193611, 1.2966230867139321, 1.9978767030380136, 2.0573450163077256, 1.6579159990782006, 2.695653476208147, 1.9187433894169823, 2.8607188636527807, 3.4484552166882843, 1.4463220904208036, 2.5056601403008494, 3.865881274893977, 1.1741829217157853, 2.616441496658736], \"xaxis\": \"x\", \"y\": [-3.0737692953700466, -0.48602898374018566, -1.4123683828569378, -0.6292206344418063, -1.669441287711141, -2.5467095090085494, -0.1932125616016778, -0.5130215037238314, -0.8993446713880221, -0.8275458310385684, -1.7692901018511964, -1.3753235799792263, -1.7369110377774997, -0.07372475175710695, -0.9683709040698474, -0.5612136213782819, -1.7900742133215428, -0.6990506277863302, -2.1083911465010132, -1.9623808467755903, -0.455559894254399, -2.1359186597368196, -1.5843169425080537, -0.4448598870896827, -1.2926394317147434, -1.1015498013485936, -1.55542636637846, 0.3938425963361174, -0.2636495329230586, -1.7291548560533363, -1.236805751895749, -1.4395558726852096, -1.5512293425518986, -1.2376843375441056, -1.5854112680716579, -0.9662911916932277, -1.0964800825472278, -0.5306060367925414, -1.0678927474615152, -1.3683378076538188, -1.0612612553573737, -0.7366319647747618], \"yaxis\": \"y\"}, {\"mode\": \"markers\", \"name\": \"2\", \"type\": \"scatter\", \"x\": [0.9030271122445886, 1.1908312885935453, 0.3276467808180426, 2.1636015258195616, 1.1921731548782217, 1.9588449620873338, 1.98321882986962, 1.0934571961197377, 2.0072950882743545, 1.8880843218188692, 1.5867223226992828, 1.7446240981078065, 2.081725109697712, 1.2140350887056088, 2.009419720630838, 2.2993567709232847, 1.708347096252105, 2.6290348352756134, 2.4607561005759098, 1.7770894791719476], \"xaxis\": \"x\", \"y\": [0.9929527836032018, 3.6688509814138324, 3.710252954391267, 3.898687644752278, 1.453205026690249, 2.5689074639537868, 4.81375105219561, 3.6139175216040687, 2.0857355624419527, 3.8026019573302197, 1.7538571897573378, 3.679070825414094, 3.1638407892174474, 3.732419314472869, 4.617534810150682, 3.995741232906831, 3.1428907065922687, 3.946447240320654, 4.035394325763106, 3.8841611341787043], \"yaxis\": \"y\"}, {\"mode\": \"markers\", \"name\": \"3\", \"type\": \"scatter\", \"x\": [-0.8017469422531761, -0.19892103304831826, -3.4873910843420934, -0.2862736901144848, -4.048464810301549, -1.741780252017604, 2.067961560941809, -0.8782532115993004, -0.9069932663297525, 3.3690115179408413, -3.2603450626768486, -2.7349829056390296, 2.0554623892604904, 2.1699012381602985, 3.2591850839939167, 2.0112818661369043, -3.149839938067126, 1.8330309306117045, 0.19129003372720876, -0.44453498820684656, 1.664033389546294, 2.0475009662400576, -3.5982147755289415, -4.169890824136668, 1.786568774275394, -2.4708870056618553, 2.1274942690971095, 3.1194945059474186], \"xaxis\": \"x\", \"y\": [-0.34331637040883817, 0.9521200248446338, 0.9846275043650602, 0.5019452604352722, -0.3996138323074634, 1.9669956312001151, -1.6195595308047157, 1.0346048979154157, 0.9925788877276929, -1.236972246612973, -0.7758733755376541, -1.218724340969597, -3.335558226438417, -1.2074522855380343, -1.529504993511564, -2.6203154305118717, -0.6217209429841895, -0.8146064572837589, 1.704586111462697, -0.12013667635332029, 2.997484601887477, -1.370547873332012, -0.09900048476158836, -0.14717926037946738, -0.6518567853173404, 0.1815614331787223, -1.5363875177054858, -0.2967548390247228], \"yaxis\": \"y\"}, {\"marker\": {\"color\": \"rgba(135, 206, 250, 0)\", \"line\": {\"color\": \"red\", \"width\": 5}, \"opacity\": 1, \"size\": 25}, \"mode\": \"markers\", \"showlegend\": false, \"type\": \"scatter\", \"x\": [3.7999954783675314], \"xaxis\": \"x\", \"y\": [-0.8993446713880221], \"yaxis\": \"y\"}, {\"marker\": {\"color\": [9.042690963768719e-237, 7.371798528851312e-225, 1.0829243929934263e-218, 1.0991182801224884e-217, 5.309198166411899e-221, 1.3701508397809965e-226, 8.753983964145948e-233, 9.503081424740113e-238, 3.506896106623934e-239, 3.0700973751789037e-237, 6.415559688938948e-235, 4.6564779112004093e-234, 4.313927530657498e-236, 4.548760374990802e-242, 1.046445391948828e-252, 1.611534546344545e-268, 6.795554432917308e-290, 3.830927e-317, 0.0, 0.0, 4.482033521795036e-193, 8.06291271878039e-184, 1.4565088066066628e-180, 8.97567596111498e-183, 1.4777900700970039e-189, 3.109976122337564e-199, 1.482862340435599e-209, 5.003619972611996e-217, 8.784193832348043e-218, 3.5220718898612185e-214, 2.9218031684458454e-209, 2.7801453578700977e-205, 1.978356653423207e-204, 8.360551567145035e-208, 4.674844114650007e-216, 1.207497957157885e-229, 6.59629102166892e-249, 4.0391415303770397e-274, 1.590399824518295e-305, 0.0, 8.577513839041979e-155, 1.0758560060580473e-147, 1.0070122768731609e-146, 2.1220837413682987e-151, 5.580873665836942e-161, 8.356942609767802e-174, 6.727792993250869e-187, 4.669987337447296e-195, 2.2194234221886437e-196, 4.6173679657800816e-192, 1.002603142692302e-185, 8.135536154126682e-180, 4.662248336246306e-177, 1.601643880840971e-178, 6.052642770427078e-185, 9.254587214094793e-197, 2.842517469619025e-214, 9.720231015869912e-238, 2.1618468364042533e-267, 1.8783150324280478e-303, 2.0251353808160514e-121, 7.312472447469562e-116, 2.2655295831649995e-116, 1.9198618323978784e-122, 2.8813531568341655e-133, 4.020846932358376e-147, 7.804855627049421e-161, 9.506477831338933e-170, 2.177889500857529e-171, 2.8706640690969748e-167, 5.112969525699099e-161, 1.2103544471919405e-155, 1.0905380272312147e-152, 2.9103130370107006e-153, 1.135813073233426e-158, 2.5399186001674876e-169, 1.5258434606994512e-185, 1.2943218549791896e-207, 8.669712199462114e-236, 2.6364242222961163e-270, 1.011056372028295e-92, 4.296259561776434e-88, 2.801185056504725e-89, 1.1099744743305714e-95, 2.029566785468394e-106, 6.713391329607109e-120, 3.954948675308391e-132, 7.914086144592861e-141, 2.976102719700158e-143, 9.610582404550882e-141, 3.04862770765526e-136, 2.4296334269287028e-132, 1.84885372449172e-130, 1.2544520625371834e-131, 6.511413540122772e-137, 5.031340296372712e-147, 1.9740131886229552e-162, 1.778753740157806e-183, 1.8663424532481754e-210, 1.2010299925576408e-243, 9.99054613373605e-69, 1.5264863452647324e-64, 8.551641361989822e-66, 9.428907946531269e-72, 2.168464566862208e-81, 5.015230072019087e-93, 9.571684913516484e-104, 4.090506958383763e-112, 8.491638273108472e-116, 1.180723100665432e-115, 9.430401853168127e-114, 5.630816939379937e-112, 7.860893400676156e-112, 4.488539912471833e-114, 9.873199538162147e-120, 8.583640640334812e-130, 8.286483147581407e-145, 3.617399604385298e-165, 3.249071905481688e-191, 2.8001408247661178e-223, 1.1970098874898805e-49, 1.2620811466649975e-45, 1.2433972586776191e-46, 7.95447911891521e-52, 4.0229754991569494e-60, 4.992054960875099e-70, 1.0892001642817447e-79, 8.903422726788519e-88, 1.9267514538757878e-92, 1.1695848266718265e-94, 3.1062074491701806e-95, 1.2083383523286535e-95, 1.8337992700715583e-97, 6.744206513448485e-101, 3.080905156537225e-107, 1.156745563873413e-117, 1.1711767825020677e-132, 1.2628938696837472e-152, 5.9148990517042e-178, 4.7790658202242777e-209, 9.200492230012288e-36, 7.903168421739584e-32, 1.4346055309398464e-32, 4.561281210955902e-37, 3.0387400188186953e-44, 7.029479211868762e-53, 1.0150029513522514e-61, 1.676741266111843e-69, 4.0439643413508104e-75, 6.14171336182487e-79, 1.1163287523388854e-81, 6.535858837110825e-84, 5.546430943962895e-87, 6.798174468165216e-92, 1.5604424464446757e-99, 9.735798487152989e-111, 4.896547137849861e-126, 7.645040623140607e-146, 1.3366739920059016e-170, 8.266886665222301e-201, 2.7437853895821565e-27, 1.5345968105669604e-23, 3.304334762111985e-24, 2.6799222004685415e-28, 9.80297586094174e-35, 1.7852576398455934e-42, 2.0420745262369437e-50, 2.041417669767135e-54, 5.4373916794582685e-58, 3.043013352034149e-62, 1.1791077499168228e-67, 2.171264628052809e-74, 1.4937839856569767e-81, 6.937919100738275e-88, 1.811128317110149e-95, 5.172156599535681e-105, 1.514654455534912e-119, 1.750588570292421e-139, 2.9584593140417345e-165, 2.6400752081225594e-197, 2.749375436337561e-24, 6.291407448731398e-21, 7.707994041427393e-22, 1.909221216197629e-23, 1.2000175352511769e-25, 8.994529517946789e-24, 1.3601174720435093e-24, 8.977007918877093e-35, 1.1544820538017835e-38, 6.728464058280318e-44, 4.0683800777959665e-35, 7.99658536646901e-59, 1.0271428314975431e-64, 3.983659730920281e-70, 4.192786574968168e-77, 1.8460464027352403e-88, 1.6655432955718162e-104, 1.9788930207617828e-125, 1.052626417764968e-151, 5.287616672921833e-184, 5.608327493878628e-25, 1.877644290461957e-20, 5.50820121218182e-16, 3.042041516850402e-15, 2.5746501706500265e-16, 3.1609704516995684e-18, 8.775297807332177e-21, 1.0999615605992733e-22, 4.03664240877042e-26, 8.638020001431727e-26, 9.7646357527765e-28, 7.800805570871269e-31, 1.5728209350356708e-36, 1.4883410078082482e-43, 4.636841772898154e-64, 1.899707592693026e-77, 2.4900875443898315e-95, 2.5500150778769496e-117, 4.9864645764275834e-144, 1.5186939981592034e-176, 8.567870467917746e-23, 2.577513349066383e-17, 1.6709899483047134e-14, 8.101053729517529e-14, 3.636913325355938e-14, 4.842208943237717e-15, 1.7404371872006397e-16, 1.6033428119781942e-17, 3.6377520735375016e-20, 7.21753278608003e-23, 3.369981614023387e-24, 1.792280830059718e-26, 2.414069056385834e-31, 2.858247648718411e-39, 4.226236817537116e-56, 1.0849493039475384e-71, 1.7840292070561526e-91, 1.1456497439819618e-114, 5.835087869448828e-142, 9.526603727823964e-175, 3.7612158877411326e-20, 1.6926464205725476e-15, 2.2834775394093466e-13, 6.792075875672113e-14, 7.375793516648338e-13, 6.827096389774834e-13, 1.2116117807002514e-12, 1.679167835433629e-13, 4.607567171879301e-16, 3.4727623340962405e-16, 2.2798049293089416e-18, 4.247782827683244e-24, 1.325326917757208e-29, 1.850433711694532e-39, 2.552437327298809e-50, 1.3845092920384595e-70, 1.2469238401014951e-92, 4.054560263310724e-117, 5.0013527985395106e-145, 3.2068590597648863e-178, 2.9824688146847753e-19, 1.2591828045807602e-14, 6.740928715258194e-13, 3.290091406302334e-13, 5.316887606833492e-12, 9.007793575981553e-12, 1.0034791017043962e-11, 2.850029743487738e-12, 2.0484918875315497e-13, 5.7013103897347545e-15, 7.075419942498146e-17, 1.5428512984233337e-21, 9.419326523296903e-28, 5.099464305630686e-38, 4.481920135771944e-53, 5.776814325553235e-73, 1.3597261643280388e-96, 3.2722478718218114e-123, 6.62880482668167e-152, 7.69512303950772e-184, 7.814338324989802e-22, 8.764270651735377e-16, 1.1332422816858098e-14, 1.6231673893918624e-13, 2.1009477701227813e-12, 6.9529090622773264e-12, 2.4555985778579567e-11, 1.8816478424312188e-12, 1.3875399025307796e-12, 2.0558975324636058e-12, 5.518930888434342e-16, 5.08275772258635e-21, 2.16617640488921e-28, 7.222415803624911e-40, 5.250693385734875e-56, 8.534611734387796e-77, 3.53161086883118e-101, 1.1885124577842302e-128, 1.2650427859233597e-157, 4.130831419603839e-191, 2.3154680008235225e-28, 1.6196150407102547e-20, 1.4182400375770434e-17, 7.521003602799728e-16, 2.6615349161462755e-14, 1.0259498218822244e-12, 1.394591220756548e-11, 3.658613433700633e-12, 8.407523925284232e-13, 2.3804272211483617e-12, 6.60673633886656e-16, 7.364351694913832e-22, 1.6838012280656812e-29, 1.2680590409558558e-41, 3.015028962952368e-58, 2.5638787489869996e-79, 1.2360638199586088e-104, 9.909684284492863e-134, 2.314510115619405e-165, 1.8067079704600324e-201, 3.952389825031179e-40, 4.2868547777085216e-30, 1.0260590910315675e-24, 2.2803449853439687e-18, 2.6421044903053397e-15, 3.3191592616191634e-14, 1.6658066758609984e-13, 2.6682448337845304e-12, 5.841056084328265e-13, 8.440152937798929e-17, 4.900920566852956e-22, 1.5914620352689152e-26, 8.488381556230138e-35, 1.223287226510871e-47, 4.578217944463973e-65, 5.138190574413717e-87, 2.500992790836088e-113, 9.731769283129304e-144, 3.436469389605075e-178, 2.279552633013905e-217, 1.0721832897016418e-57, 5.166263745331405e-45, 1.3753707679627322e-35, 9.290499100230938e-27, 1.2788254788922386e-21, 3.9525640529248163e-19, 4.6769468465445285e-18, 8.294643209877675e-17, 9.508257338423855e-18, 4.498233378546683e-22, 3.1562392940270704e-30, 3.089072601849494e-37, 1.8314477180766294e-46, 2.936359041716126e-60, 1.1195855676851903e-78, 1.0356581324057016e-101, 2.6024717856660874e-129, 1.8813779864295584e-161, 2.8043666462884788e-198, 3.3320234522834314e-240, 5.263485310621241e-82, 1.4077255766796285e-66, 1.3252049402122468e-53, 1.9074873511246826e-42, 3.578696429533795e-35, 4.68763433393791e-31, 2.2390782270740186e-29, 9.260728241960788e-29, 3.496134084088759e-30, 4.3397994631522504e-35, 7.185886755715616e-44, 5.129539307526896e-55, 1.9966096214394772e-65, 2.202126202417237e-80, 5.266317676075955e-100, 2.371836627000056e-124, 1.7958960608569827e-153, 1.8638838597605487e-187, 2.8996635877837706e-226, 3.718243426850822e-264, 1.2741385589401023e-113, 9.01692051904319e-96, 4.28035394463177e-80, 1.0954328406179756e-66, 2.1157839545628828e-57, 9.142110741027688e-52, 2.3057220045789875e-49, 1.8653536585931213e-49, 2.2011431096216892e-51, 8.603897897856535e-57, 4.792697605711337e-66, 6.107684423546393e-79, 1.646864755126099e-92, 9.02536774535262e-109, 9.474330015602884e-130, 1.4535151087767817e-155, 4.102449228051877e-186, 6.269019523448263e-218, 1.3432207591346583e-253, 7.099695840332822e-294, 2.1033642746181795e-12, 3.1432221292112084e-11, 7.309337056578107e-12, 5.5132065864422765e-12, 2.5328986680230184e-14, 2.1381738133151357e-12, 3.213062301487202e-13, 1.418486634992414e-12, 3.4872996363336314e-11, 9.787892523374994e-12, 1.8587154199055693e-12, 1.3472024188387365e-14, 1.1645066154803241e-14, 4.466473493550192e-15, 4.1789694311084814e-14, 4.4655650096915856e-12, 3.913866332472503e-15, 2.160694081440421e-12, 2.9229547471536094e-12, 3.4403177757654494e-12, 2.2105675041792017e-14, 1.5762106440823087e-12, 5.569985279233882e-16, 1.5106580431476865e-12, 6.636444322404511e-14, 1.1810829375264935e-12, 5.055214961152005e-12, 4.582995192958845e-17, 1.0799467576861066e-11, 2.7574553694581523e-14, 4.992260886539576e-12, 2.0756674186161648e-14, 1.4629217721106613e-14, 2.95860964167e-11, 3.3948750850384903e-15, 8.149192930359981e-13, 1.716430607935156e-12, 8.02381492990407e-14, 2.288733520689364e-14, 9.161532533274201e-12, 1.0795920845161816e-16, 1.0730340120575679e-13, 5.578199919077218e-12, 5.033492553036117e-13, 5.212358341350614e-12, 5.06450128363477e-13, 3.7059775781534573e-13, 3.223273367251359e-12, 2.835604374948526e-18, 1.4146230317973611e-15, 2.9550098393136778e-12, 2.1904439513997083e-12, 1.868937749717604e-12, 1.0948739458088845e-12, 5.9444642354040535e-12, 4.10562898850491e-12, 2.2683073620296358e-13, 2.2074576360662282e-17, 2.7893564975000293e-12, 1.2262526209652561e-14, 2.7909136671892348e-12, 2.025693395743401e-13, 7.131560738463234e-13, 8.381616015102568e-13, 5.6773922673289875e-12, 1.6962253062466517e-15, 1.674066311564553e-12, 6.583825522681279e-12, 1.2813950126165782e-13, 1.3436881504619959e-13, 3.171852273711408e-12, 8.04832579079753e-12, 1.05981041374722e-13, 2.2659184849383184e-11, 9.402664864737612e-16, 2.67314989760948e-13, 1.909593484577421e-12, 1.7492456487985444e-12, 2.887234238507232e-17, 6.635764932675826e-14, 2.9658209718731144e-20, 1.3704543697528113e-13, 4.674346910947332e-13, 1.7022648974960132e-13, 2.6673278434757762e-14, 2.428363175014293e-11, 3.214519425582655e-11, 3.253780838061221e-13, 8.588239079902857e-17, 1.989767876993314e-24, 1.6989601817152473e-12, 7.036874166331938e-12, 5.0575896833700473e-11, 6.4066401346857e-31, 4.3536828809090864e-12, 4.70301762627199e-13, 8.460841956525712e-11, 1.2760660230943741e-14, 1.8669411410517348e-11, 1.967593079731038e-16, 7.908081088381033e-15, 4.991750493858037e-13, 6.677888693900616e-14, 1.3928399572863932e-12, 3.526147136894892e-13, 1.0594029577288038e-11, 4.673914034486622e-12, 1.0772026352026947e-12, 8.798328519690124e-12, 4.472998369774174e-21, 1.3876356127221958e-14, 7.372416796576848e-12, 1.929236135728185e-12, 1.4581416765841692e-14, 4.2953757616494294e-11, 1.371660345530654e-13, 8.675346687405134e-13, 2.0780655421499524e-13, 5.998752247385604e-11, 2.106372081388432e-14, 3.797339753956239e-16, 1.537912656921107e-11, 1.9215401542893854e-17, 4.259385759879381e-14, 1.575555866342324e-14, 3.38512954552167e-12, 3.759739815202777e-16, 9.767520598298035e-12, 9.348886823861753e-13, 2.9148698979446995e-13, 6.305676904364016e-12, 1.0442941068243918e-15, 9.117860153606128e-12, 1.6236802274903166e-12, 2.436637039042279e-12, 5.242069536545559e-13, 2.7038160437561234e-13, 9.870354301355066e-14, 3.042555089906786e-12, 4.0491526929099404e-12, 2.160095240935026e-14, 8.068917737078015e-14, 4.63836766716831e-14, 1.6573064035724506e-12, 6.910587434963218e-11, 4.510009964467976e-12, 2.536867530729025e-14, 8.178479560760231e-13, 7.62705652098612e-12, 4.9497175253500516e-14, 1.0147784316323152e-11, 9.145204457031812e-12, 3.322574977693442e-12, 3.898335492961258e-12, 9.35953201641009e-12, 6.217556705420046e-17, 1.2508461989386856e-13, 4.245989891123173e-12, 3.026308310945239e-14, 7.877389759198552e-12, 1.5386735873839857e-12, 4.541118852764327e-12, 6.538667463399251e-14, 6.29620636180816e-13, 7.998675731225187e-13, 2.235286981793872e-12, 8.47309053279496e-12, 1.0327910480764095e-18, 5.171558359594434e-12, 7.388662639451176e-12, 1.073447812424531e-12, 3.014577470175572e-19, 4.952934415652769e-12, 2.4606289289646666e-12, 1.111913249353295e-13, 3.6313332836611734e-12, 5.517442892278407e-13, 3.0072693710432143e-12, 2.8328524768691836e-12, 8.285347173892364e-12, 3.8852305786552816e-16, 2.9754267584302194e-12, 4.555446697962788e-13, 3.9828076061978865e-12, 3.27073217020647e-12, 1.1712413471215538e-12, 3.4128954248932964e-12, 4.438345945797333e-12, 2.3326505353700914e-15, 1.114310551951374e-13, 1.9770763299343834e-11, 4.102918764081947e-12, 1.4219821613573332e-14, 9.782421624193362e-14, 2.1057624168756797e-13, 3.096571775039482e-11, 5.698351159910663e-14, 9.119175633394375e-14, 6.414173906863508e-12, 2.3880090005188358e-14, 1.8186479638186898e-12, 3.37497985103009e-13, 1.0912450734645642e-13, 7.544684947373637e-12, 1.1028843845030163e-13, 4.222230131313251e-15, 2.1315548637284106e-12, 6.246641621313613e-13, 5.600055476239239e-13, 3.745140706704071e-12, 2.2063132716624651e-16, 2.4289836330639985e-12, 4.037409641341649e-12, 1.490505768496058e-16, 2.247340456021019e-14, 2.097695422568921e-14, 7.806075070921798e-14, 7.536107782989837e-19, 3.3643245939680113e-12, 5.016795062234974e-12, 7.895613313415156e-13, 5.4353250647780736e-14, 1.5803133403522155e-13, 3.4188206121064863e-12, 3.3701225005270122e-12, 2.7712036421067217e-14, 3.473999673424867e-13, 7.098187110203732e-12, 5.753934226901365e-17, 2.4063843061146545e-12, 7.352244421998924e-12, 2.6313127470287006e-12, 9.537167032853331e-12, 2.1451874867969515e-15, 8.897394338226562e-12, 6.730478122922428e-14, 6.142220081539716e-15, 2.446934745156317e-16, 2.7340351245957207e-12, 5.128757576101334e-11, 7.447011999069272e-13, 6.205135957612749e-13, 5.031516386254541e-12, 5.072286768023628e-14, 1.2876424296306152e-14, 1.0472328604036192e-13, 3.7440773962441335e-13, 8.685441590861266e-12, 2.39973397291225e-11, 2.832380142224192e-13, 4.997918598578121e-17, 8.096907380077883e-13, 1.915782963607368e-15, 3.214882669642651e-12, 5.255445786278927e-12, 7.424496470815444e-13, 6.979774762003482e-12, 8.828953262477711e-12, 1.0391514440200725e-12, 2.024765682837886e-16, 3.088459685573489e-11, 5.837695103072505e-12, 2.3259533325535583e-13, 2.96278247399071e-13, 4.931616922590842e-12, 1.3999103222328682e-13, 6.2703721650490444e-12, 2.429070317162146e-12, 1.2084768775370263e-13, 6.17362054062933e-15, 1.722999892781494e-12, 1.6807713574097152e-12, 6.334066232176026e-12, 2.8338855963943748e-11, 1.5867193905498094e-15, 2.2329355130619778e-12, 3.0685702832141365e-19, 1.3369241779149606e-11, 4.66801830890502e-12, 6.787145592649259e-13, 1.6283542386037921e-18, 1.4486762967619584e-14, 4.858081558958057e-12, 2.7454414879796297e-14, 1.0383133942652966e-11, 1.3162797119959285e-13, 1.5269672700541053e-22, 1.4887688145656718e-12, 2.0901816735240076e-13, 2.6810817050538654e-12, 3.861468380236303e-15, 1.1988038575319111e-12, 8.719951324018572e-14, 2.5577334214068986e-17, 4.299260712447801e-13, 9.75532578328592e-14, 2.0671473860094327e-14, 2.258535832914975e-12, 4.0523395711839484e-13, 2.4276953760888867e-13, 2.9562307188812854e-15, 3.70118220751092e-13, 2.1144479171945066e-12, 6.548274432073868e-14, 3.071485853248156e-14, 4.375469379418502e-12, 2.0279193243968728e-14, 6.689763663156616e-14, 4.4837506970747316e-13, 1.174478626318771e-13, 1.9287513831419135e-12, 1.3261790235677668e-12, 2.0866055897439786e-13, 2.0140431274784752e-13, 4.8951300017730354e-15, 1.1080271085100138e-12, 3.2630354248826676e-12, 2.3227809375083367e-11, 9.0097943368554e-13, 1.9646878243949543e-12, 3.4689927140225137e-12, 8.693545862055495e-13, 6.007697140092175e-16, 3.6675356836220897e-13, 6.0363043389777175e-12, 7.654201603703777e-27, 1.6597220594499034e-13, 6.281927586600437e-12, 6.9196002680921564e-12, 6.697591089102388e-12, 5.981590270136907e-12, 1.814008915532424e-12, 9.648989687782187e-12, 4.1016079077690976e-13, 2.5383877837332393e-13, 4.1893693513024026e-13, 4.2850221095434205e-12, 5.064969238485531e-12, 6.199294691138142e-12, 4.300222856764661e-12, 3.487760830699185e-18, 5.375833333189412e-12, 8.781986349288808e-12, 2.270867236243834e-12, 3.99686593247247e-11, 2.8304146120170596e-13, 6.810114537671587e-11, 2.172033405255838e-12, 5.694848186539791e-11, 8.452493183240149e-17, 8.023831132530552e-13, 3.8877844394515595e-13, 5.5650015905864345e-11, 4.518837323080415e-12, 3.2346046388404175e-14, 2.653674879921084e-12, 5.0296584714621826e-12, 1.0146500270609484e-13, 9.80265594023464e-24, 1.9250293528397785e-11, 1.6423083771854693e-12, 1.69442595114916e-12, 3.224676073308447e-12, 9.589433996776315e-12, 4.983817693414182e-13, 1.773047390014789e-15, 1.7400503544043078e-17, 6.151327225574217e-13, 3.851787490165418e-14, 7.818988040721882e-11, 3.0814517483516166e-11, 3.4061885776795244e-12, 3.507701252052963e-11, 1.742257141523147e-22, 3.5163574145153584e-17, 3.1190375511264885e-12, 5.403088299567673e-14, 7.062820907343209e-13, 2.3380839331407028e-12, 3.55796503838578e-11, 1.0915278388575232e-12, 4.817573470693166e-13, 5.921433797468496e-14, 1.3866676854447765e-12, 6.676113439043283e-14, 6.847508479134911e-13, 5.058351996194687e-11, 3.1170631907414416e-12, 5.87155441431579e-12, 7.127783632838042e-13, 4.177581589330023e-13, 1.253773634006672e-13, 5.343047685245204e-15, 1.7325768868677934e-21, 1.7415432984481446e-13, 1.2088845553347387e-13, 1.9571603427735643e-14, 4.503206771115854e-11, 8.506610899112026e-14, 5.745140733948546e-12, 7.013055199689301e-13, 5.447446679922189e-12, 5.0303973512911055e-12, 1.7342220247969946e-14, 2.033397955626112e-12, 5.622668347660801e-12, 2.9796927071742446e-12, 5.1542459472417564e-11, 3.9310257742382805e-13, 6.751366648020193e-12, 2.2739269182592204e-12, 4.020462821403843e-11, 3.547403167228293e-13, 8.639870935470427e-12, 8.06445097793637e-13, 2.0687951110530853e-13, 6.00676480147804e-12, 1.0092933236710491e-11, 3.85808393357277e-12, 2.7849399566173032e-11, 5.922771417863714e-12, 6.783274131844399e-12, 1.0391904104000744e-11, 2.399914922413767e-12, 1.8473014444667532e-13, 6.311989640927052e-13, 1.1120565794685969e-11, 8.661417584304573e-12, 3.105001095812506e-12, 9.241460914332646e-12, 8.250548487446612e-11, 6.810626941790881e-13, 1.0097647851191564e-12, 2.0147062670920956e-13, 1.3616704447423969e-11, 1.190387181053188e-11, 1.530767946705223e-13, 9.73216354146723e-13, 1.6365999116746296e-11, 9.170282319967415e-12, 9.285875869427052e-13, 8.235733074375041e-13, 9.862882982142877e-12, 5.267362013372591e-12, 1.4978510854485211e-12, 3.0459156571471014e-11, 2.838703588407266e-13, 8.784379485084828e-12, 5.575361280058607e-13, 1.080985036403787e-12, 3.279564813816741e-12, 1.7653576989239626e-12, 6.39622483805187e-11, 2.885635897321091e-11, 7.671583949144845e-13, 5.285829673520071e-13, 9.037312318706903e-12, 2.3752291231955674e-14, 2.663089095766399e-12, 2.6882098399500955e-12, 1.0409302971029118e-11, 9.31243205284148e-13, 6.317814590247208e-11, 5.612920785481166e-12, 5.473842472834436e-11, 1.029447932361009e-12, 1.0376124717072022e-11, 9.604021182822353e-12, 6.1681164122079755e-12, 1.0122702885302772e-11, 8.571478659862203e-12, 3.504120706063651e-12, 5.468406835946207e-12, 1.6729414329418567e-12, 8.49291719539766e-13, 1.0828827397202894e-14, 8.247632152979759e-12, 6.959643063198058e-12, 2.519756127501174e-13, 9.212467128021716e-13, 4.390430824692775e-13, 1.8005250573606053e-12, 4.4901211879808695e-12, 8.820787749256169e-13, 3.939909158012598e-13, 8.819500660395506e-12, 8.987635042734037e-13, 3.4788522748824983e-12, 2.206436980177633e-12, 6.226854123025561e-11, 3.0889240190142978e-12, 3.0725380396955413e-13, 1.9496408374689232e-12, 1.9572244482592175e-12, 3.2876825227632925e-12, 1.4472022657136034e-12, 4.1086138928371575e-12, 5.1980781398369885e-12, 4.793463496812132e-12, 9.724878449804586e-13, 8.523916520602386e-12, 6.5777632382672e-11, 7.864576022647101e-12, 7.105492386801107e-13, 4.779331536243917e-12, 7.59471372179032e-12, 7.0445373078642454e-12, 1.0923166025405941e-11, 8.85500551645114e-13, 3.546062667858264e-11, 6.049510527181646e-12, 5.322777012892725e-13, 7.1112069715626354e-12, 2.318016512408182e-12, 5.9335734432530784e-12, 2.816898534256082e-12, 5.359575343437926e-12, 3.6360810237046777e-12, 2.3857209779131337e-13, 4.538871877991309e-12, 5.01705642509027e-12, 5.644600153411637e-13, 8.202838033153492e-11, 2.06712510226509e-12, 2.92763888989092e-12, 6.839454823263233e-13, 1.405067868507878e-12, 7.286240625489037e-12, 6.7026708085321126e-12, 4.2777111482440225e-13, 1.0900079706146131e-11, 4.096550663058287e-13, 7.208536270288842e-13, 3.5459020431431244e-11, 6.469922704075782e-12, 1.3467200687895286e-12, 1.0090711055872001e-11, 2.4680396818768624e-12, 4.225273842398876e-12, 1.2014265584969975e-12, 2.0943265674089294e-13, 6.125734523707917e-13, 8.112742564206754e-12, 7.490895396230661e-11, 1.0069213705048017e-11, 1.4442530970442775e-13, 9.204613020495621e-12, 2.5429001301207947e-11, 1.0266485617484567e-11, 8.818022204517371e-12, 5.587483154525471e-12, 1.3690623075479724e-13, 1.3792335994981868e-11, 1.0971458017400607e-11, 4.8744349215759475e-12, 9.673103789304467e-14, 5.038919823930223e-12, 2.88035885455176e-12, 4.142029024392244e-12, 9.566735461860466e-12, 6.665172170300217e-12, 2.9558637401343526e-12, 1.1726865758884291e-11, 5.041715473340293e-13, 7.942854525193242e-12, 4.8116990923192315e-12, 3.657187351462168e-12, 3.37608768916246e-12, 5.619581459616843e-13, 6.46481500162103e-12, 1.610191409078268e-12, 3.929219520235245e-12, 7.843043476453548e-11, 1.6275431564244432e-12, 6.21716791043934e-12, 6.771435860868058e-13, 5.1114033835580685e-12, 6.31770278778954e-11, 5.088577294506705e-13, 8.3555249901849e-13, 1.0148184874334567e-13, 1.7068784326909696e-12, 2.6582792494554124e-13, 1.3602793067875201e-12, 2.0295193896394372e-13, 4.57520708658701e-12, 3.5358538004891973e-12, 5.422278279939448e-13, 1.9506821132136507e-13, 7.31923346260902e-11, 3.3455886964088593e-13, 6.473928491132048e-13, 4.886145318077695e-12, 1.919460861104117e-12, 6.695839644519133e-13, 9.52006695510758e-12, 2.4528659409154523e-13, 8.185270353096437e-13, 1.1217050726704944e-11, 3.692581582044794e-13, 1.5882452185755828e-11, 1.1120430541843985e-11, 6.7912971938171666e-12, 3.1594031284147324e-11, 6.320760452396268e-11, 1.0515580057855468e-11, 8.724092203070483e-12, 1.3870251983662917e-12, 1.0122845829961381e-11, 5.414353452138788e-12, 1.0569701243259438e-11, 4.763517048004972e-11, 3.636013894041798e-13, 1.31690536974477e-13, 1.848883063702332e-11, 6.155996033309196e-13, 1.0854126226198702e-12, 6.763298823504236e-12, 4.23748505222121e-12, 1.5257087043642227e-12, 8.833647295091354e-12, 3.913776499308136e-11, 8.100438646190655e-11, 6.766504240567542e-13, 1.579702624643593e-12, 1.9452194897500045e-11, 7.632775774911549e-12, 4.9398230596745715e-11, 2.4678513646128424e-12, 1.1562047213421857e-12, 4.182312839340359e-12, 6.349281755575973e-11, 1.8563612177655473e-11, 5.2462253097433395e-12, 5.2005342995203e-13, 1.2428877318954627e-12, 5.7333434268448965e-12, 3.0100089563136933e-13, 6.7072994659502245e-12, 4.1537553473196485e-12, 9.272242531120475e-14, 9.397590539224318e-13, 1.7011963566201843e-11, 2.3851139138724406e-13, 3.690454364455403e-12, 3.499360661008468e-12, 5.848923775660589e-13, 2.745742615953524e-12, 9.184986985285072e-12, 9.142777568767176e-12, 8.71775906139691e-12, 4.159210395440477e-11, 4.152605524015907e-12, 2.7770334313035507e-12, 7.546237714656234e-13, 5.472942916381062e-13, 6.498756706219059e-12, 8.935760977994331e-12, 6.115564586374522e-13, 1.3340633701833934e-13, 4.999811127519131e-12, 6.414523702490223e-12, 2.484855571978813e-12, 2.165395174066918e-11, 5.3971401451906385e-12, 1.5769882346634796e-11, 9.42361544511531e-12, 2.3300841050536955e-12, 1.3957792595523499e-11, 8.419089105049402e-12, 8.04582027924132e-12, 5.237456170269109e-12, 6.5571577451514415e-12, 7.995868662422186e-13, 1.0181215135658807e-11, 1.2626694950511436e-12, 2.4327722995539736e-12, 1.462191329116582e-12, 4.171743048800296e-12, 3.807927834534658e-11, 3.412850419748568e-13, 8.347179323030779e-13, 8.286440456911118e-12, 4.0914729170498055e-11, 3.93813138963125e-12, 1.242407050369007e-12, 4.1231551280448486e-12, 5.895619764502253e-13, 7.938782467422054e-13, 2.5807565424979533e-12, 3.173655533211984e-12, 2.599261560076063e-13, 3.2251866198932934e-12, 1.5973271416989733e-13, 1.1735115195273513e-11, 2.7745628160226053e-13, 1.4953142334151612e-12, 4.417906911894911e-11, 3.5573646148652697e-11, 3.301640501381021e-12, 6.463359507119734e-13, 6.799526041853123e-13, 1.5869723555456597e-12, 2.9701516699354643e-12, 4.168848796482059e-12, 4.033667780285493e-12, 2.0523341492015502e-14, 2.9226618484880163e-12, 3.604832405292796e-12, 6.536862520345126e-12, 2.381449774104813e-11, 4.810273390279705e-12, 1.0222029600024095e-11, 1.196902910933904e-12, 3.7114198052390395e-12, 9.083812244462394e-12, 5.553489097189712e-13, 2.3255803130165138e-11, 7.094360359991909e-11, 2.7728869598383527e-12, 1.5606414492795396e-11, 1.4445169741189434e-13, 9.427183046671316e-12, 7.608446072838742e-12, 5.624773511612455e-13, 5.303854464756631e-11, 7.362777032855378e-12, 4.357050564836491e-12, 9.690202702478366e-12, 8.166394793480971e-12, 1.0563640781721288e-11, 2.132687113341572e-12, 1.1869803086955321e-11, 2.281450827296378e-11, 2.647677638515726e-12, 5.064136491339345e-12, 3.803127498204984e-13, 2.6959143375922525e-12, 5.05062960900751e-12, 2.0227094945191534e-11, 9.009484024869782e-12, 7.03589191527006e-11, 1.0850531799605226e-11, 6.227204318946389e-12, 1.2384033884974423e-12, 4.613942004950994e-12, 9.454696056134904e-13, 1.7354455283114923e-12, 3.765668910070988e-12, 5.906994471935597e-11, 4.465724603706771e-12, 3.570648015354626e-13, 9.453177139556165e-12, 9.944906882830854e-12, 4.5963016648612e-12, 5.1544625153496906e-12, 1.0572648992843658e-11, 1.1941378389027557e-12, 7.32599597822353e-11, 1.3136224042153893e-12, 7.045881476065068e-13, 1.0049487306911247e-12, 1.9775274018285864e-13, 3.1137971192654717e-12, 2.4848823799903535e-12, 6.629627950011659e-12, 3.682521037279992e-12, 2.5440979016043197e-12, 1.2458910069830337e-12, 5.086578721004938e-12, 7.044818313450402e-12, 9.936638631231753e-14, 5.795882946050534e-13, 1.4135050348354754e-12, 3.106610310770596e-14, 1.0327745594749528e-11, 3.220421636889855e-11, 2.078602697376685e-12, 4.35695282388011e-12, 3.0948866750427368e-12, 4.927493332422678e-11, 8.76221214232725e-12, 1.9365303815874097e-11, 4.4153513922342355e-12, 6.747818317715897e-12, 9.2178721410453e-13, 6.137771706181365e-12, 7.378861322602665e-12, 4.678668546018166e-12, 3.5324471794028723e-12, 2.3470045538681048e-11, 8.217736754010197e-13, 7.032901315000696e-13, 6.009132917140069e-13, 4.266208895732425e-12, 6.335293489669905e-13, 2.947669725344758e-11, 1.966724874922114e-12, 1.2871879898392903e-12, 8.020786548027499e-13, 7.967751050200839e-12, 1.6045926788678495e-14, 7.705921612933684e-15, 9.571521785273668e-13, 3.800976362025327e-12, 4.6631445333054605e-12, 2.3945767984105857e-13, 6.0460109205434996e-12, 4.384093227574189e-12, 6.090274354924872e-12, 6.232861260912964e-12, 1.0979948417057603e-11, 1.3477499176951653e-12, 9.329254679649041e-12, 5.921348457454276e-12, 7.594066207438983e-12, 3.9130501522334045e-12, 7.846212822764516e-12, 1.6754651350996452e-12, 5.058514939537253e-12, 3.3214788726177363e-12, 5.653431910200817e-12, 9.120886436603131e-12, 9.286331354775378e-12, 3.461068699453362e-13, 1.1488646636274569e-11, 8.911315093062975e-12, 2.8275208993184963e-13, 8.833803034461225e-12, 3.9254441007604535e-12, 5.863939016995267e-12, 2.63753708208974e-12, 1.48275906640719e-12, 1.2633553934961379e-12, 7.242023545386173e-12, 1.4325567955499996e-12, 5.593267996928224e-12, 2.7488557087448315e-12, 9.163727480927307e-14, 5.766739229195554e-12, 1.2991997817527854e-11, 6.5300141432110225e-12, 4.033194689871945e-12, 9.967072805423065e-12, 3.1274286801927553e-12, 3.3654758272133385e-12, 4.392072039819583e-12, 1.645358142742144e-13, 5.6270285112675745e-12, 5.8601157364291556e-12, 6.080720236468364e-12, 2.574651802184119e-14, 9.014519686094161e-13, 8.75825454713811e-12, 5.8820249634679124e-12, 9.9615346496185e-15, 5.501250106915645e-12, 7.538584682373588e-12, 4.408578347384792e-12, 8.234114512665152e-12, 1.477648007092482e-15, 4.759534080137321e-12, 5.98257888803018e-12, 6.6022300688420885e-12, 2.110968720264201e-12, 1.3415011416121357e-11, 2.182548083782255e-12, 1.4649357295415463e-12, 3.5905503652875503e-12, 1.914314755661e-12, 8.390815219054537e-12, 4.204478961722297e-12, 3.4652679369675633e-12, 2.128687829234633e-12, 4.765393610898629e-12, 8.304563810824965e-12, 6.183573402658222e-12, 4.597608461184584e-13, 9.157594419312953e-12, 9.114785320028002e-13, 4.1957480925690093e-13, 1.1170871391844515e-11, 9.965174664798641e-12, 6.51307702043494e-12, 2.7939350407599233e-12, 1.6548474021883086e-12, 8.357945058902842e-12, 8.150538326514468e-12, 2.8721826514948166e-12, 1.7865606147015254e-12, 2.5234036069264263e-12, 1.1599298533789462e-11, 5.9348058700175845e-12, 9.86823051316282e-13, 4.542295650348445e-12, 9.525704069059428e-13, 4.868984740826228e-12, 3.4403313071534714e-12, 2.3718427556248254e-12, 2.377979833814051e-13, 5.162395492400176e-12, 6.1157253675705004e-12, 8.16114121747122e-12, 7.127259304121894e-12, 1.0024146082178782e-11, 4.200357894683946e-13, 4.50102637949498e-12, 9.726538104026245e-12, 5.7455264692183464e-12, 5.205910905674425e-13, 2.271025515868235e-15, 6.509929622054416e-12, 8.058594573821969e-12, 6.992048574855839e-12, 8.258426186591889e-12, 1.1876790325148034e-11, 5.997233570103884e-12, 3.1987575665133767e-12, 5.717877443186874e-12, 6.479485646178146e-12, 3.981337814480103e-12, 9.449166212774469e-12, 1.8342033079186366e-12, 3.446638281796635e-12, 8.956649306680765e-12, 3.0733173734600194e-13, 1.6002156872824882e-12, 6.099576145070938e-12, 5.819393027958968e-12, 1.0645592576141722e-11, 1.845816202613817e-12, 3.6264910869527995e-12, 9.140295076111212e-12, 8.10434978312212e-12, 8.883837855371682e-12, 8.324852303372704e-12, 9.437850011629188e-12, 9.715811572547576e-12, 4.545416192090534e-12, 3.4507760687291617e-12, 6.588856484561161e-12, 9.35978068056287e-12, 4.6569332452395904e-12, 4.5641450643511515e-12, 9.176797912729469e-12, 1.2595430791552548e-13, 8.608597948027389e-13, 9.597364726530421e-13, 1.811909087582953e-14, 2.5645381908972167e-12, 1.0275612215328751e-11, 9.950546397345898e-13, 4.618975939854263e-12, 2.6325241631813546e-12, 8.807736078198214e-13, 5.500711491606661e-12, 6.8623498779932505e-12, 5.356668358147873e-12, 1.2718864124092471e-12, 9.152426446308721e-12, 3.9075963341174435e-12, 7.962687586726301e-13, 1.104565178963494e-11, 2.7486741328139728e-12, 9.188408467521062e-12, 6.5992441868197745e-12, 4.953198724825067e-12, 5.153087452827506e-12, 8.377561701677636e-13, 4.750943732921802e-12, 1.0179794135658252e-11, 4.099373664572168e-12, 4.7411402812128836e-12, 4.0848789978552314e-12, 4.898520140017333e-12, 6.788648996517515e-12, 9.45289942169619e-12, 2.9161278472280717e-12, 3.4175225901854e-13, 1.22908997606223e-12, 8.385588387681902e-12, 7.877490104928867e-12, 6.899617493855276e-12, 5.7542298473727776e-12, 1.0279801186872198e-11, 2.5825103794755546e-11, 1.6532128406798073e-12, 1.0655827651497385e-11, 6.560498510455378e-13, 5.0142195081425456e-12, 6.9673014167436155e-12, 9.523683388981843e-12, 7.592601112475475e-12, 5.17235487644379e-15, 3.6835613813289855e-12, 3.1474574849624496e-12, 8.975040544100201e-12, 3.3538409469003425e-12, 5.521381308335304e-13, 1.0567452150739885e-11, 7.708491378064705e-12, 1.0557294114292331e-12, 5.683531965252179e-12, 8.438650090931826e-12, 9.11604364038928e-12, 7.826159303130295e-12, 4.0607093534775376e-12, 1.4597465114702095e-12, 4.641971859080167e-12, 9.38635445293283e-12, 3.743361382186473e-13, 5.323079512450538e-12, 8.349702850974626e-12, 4.753299950423267e-11, 6.862740171515741e-12, 9.036957205065743e-13, 1.0643501687415324e-12, 5.896074021942172e-12, 4.207269123901663e-12, 1.5886257267264895e-12, 1.082254739610305e-11, 5.926280993672641e-12, 3.585641815626354e-12, 9.056359457604382e-12, 3.1333845382034815e-12, 6.1085769758052665e-12, 1.3908622229914454e-13, 1.0903795448502487e-11, 4.459866572666693e-12, 1.7226826576734692e-12, 4.4251593054504764e-11, 6.836830458847627e-12, 1.0219035594684607e-11, 1.1432570656614742e-11, 5.029649611315326e-12, 7.979744368112329e-12, 6.370585515683134e-12, 5.1357979572653135e-12, 1.7984932850461154e-12, 3.543936627660215e-12, 1.1404749449539476e-12, 9.617753286264893e-13, 9.30226642336558e-12, 7.722152950097936e-12, 8.440771830166021e-13, 1.1099000820026562e-11, 4.145410278923789e-12, 1.6800306801589428e-12, 8.439436243970207e-12, 3.26014838170733e-12, 4.426646148672079e-12, 6.1698899268669606e-15, 1.095084852830502e-11, 7.463763496923422e-12, 7.030272036123715e-13, 4.936752299739831e-13, 1.582542009023045e-12, 8.692513532369537e-12, 7.369176441842013e-12, 5.890312322887173e-12, 6.325893724487712e-12, 2.5873856549088083e-12, 2.131129608292298e-14, 3.3349154772602968e-12, 1.1032695122066749e-11, 5.086876675527583e-12, 3.0650676110743084e-12, 7.167815862651292e-13, 9.159589994528147e-12, 4.008596695267248e-12, 8.076269771383591e-12, 3.121497372966148e-12, 8.34072190968887e-12, 4.773320608158733e-12, 1.7278701832092408e-12, 6.501165752348661e-12, 4.1405660144883553e-13, 9.664878498275394e-12, 5.723934394031161e-12, 9.338095742455117e-12, 4.473848277583062e-12, 5.462546074950731e-12, 5.1320004033184715e-12, 4.254873935946736e-13, 1.0194501436107384e-11, 7.433065050594908e-12, 6.06337736903325e-12, 6.804259057431411e-13, 7.590104660901183e-12, 5.9140001146144745e-12, 6.3622684655088824e-12, 9.311974353125008e-12, 8.669947185488505e-12, 2.813106489564222e-13, 4.83508148416716e-12, 2.053718966049681e-11, 9.339903219689666e-13, 5.535004827527121e-12, 5.5260823829052435e-12, 6.691600445707693e-12, 1.8420334618186942e-13, 1.1472920593541037e-12, 8.89483906141469e-13, 1.780130951798434e-13, 8.442980826630754e-12, 8.968083118635264e-12, 7.126890255692634e-12, 7.137722611825327e-12, 3.276452164640544e-12, 6.218524029890476e-12, 8.898943401689751e-12, 6.847982180629567e-12, 9.66975957253129e-13, 6.8142664667003995e-12, 8.749648223529349e-12, 9.592537984733798e-12, 1.3270177186593218e-12, 4.7967781165546485e-12, 4.2946677457048116e-12, 2.821594726994098e-12, 5.058271509053408e-12, 6.195882780997982e-16, 2.6722244251180023e-12, 4.295761990645533e-12, 4.0243703400349684e-12, 7.191644073454106e-12, 4.916971203322922e-14, 3.759033330944825e-12, 3.9553502060061635e-12, 1.0895491100170578e-11, 4.8965632316291916e-12, 9.792454731493725e-12, 9.978365175394389e-13, 7.927190839831066e-12, 9.735279116445947e-12, 2.1332550688392583e-12, 2.1482463112555804e-12, 2.46683891170412e-12, 3.406707321102692e-12, 4.4938515674804145e-12, 2.5558779141989284e-11, 1.5673367383178225e-12, 1.4312094704402408e-14, 5.56662469811161e-12, 9.185571205354163e-12, 2.1879542009272815e-14, 7.642438800184622e-12, 1.6850084755616884e-12, 8.62963795754477e-13, 9.663436930956783e-12, 4.893243955982916e-12, 1.6679313095264397e-12, 5.999152036873728e-13, 4.648480446118466e-12, 7.399147686877262e-12, 4.88739209687202e-12, 9.836842434949494e-13, 1.2618786521616125e-14, 1.4144604196394197e-12, 7.847634043859396e-12, 1.956290666558477e-12, 7.662270300779679e-13, 2.7331873628786222e-12, 5.57660618297586e-13, 6.0007495872860216e-12, 6.896544645083721e-13, 4.952511166412204e-12, 8.153634824419164e-12, 4.041701328335842e-12, 9.688115386342174e-12, 5.655634327446951e-12, 7.020898927649343e-12, 5.842472230406187e-13, 1.5297115040416536e-11, 8.381319511778214e-12, 2.0335303802696483e-14, 4.293407841041648e-12, 9.024192652701116e-12, 2.0476359740109014e-13, 7.025755402776622e-12, 5.105899186524752e-12, 1.4465223799614688e-14, 5.138412720782429e-12, 6.244081333574616e-13, 5.802697087443396e-12, 1.2101409022589514e-14, 1.5359727141242523e-12, 2.1865905951338043e-13, 8.247057021386053e-12, 8.378199521241084e-12, 8.192991716685527e-12, 6.3731135214204855e-12, 8.074710746087434e-12, 3.9703967854238545e-12, 2.120400959556654e-12, 9.115375531438921e-12, 7.460769528717557e-12, 6.228248670616166e-12, 5.58672180899277e-15, 2.961737312613496e-12, 1.1288698166179595e-12, 8.611877139533935e-12, 8.31931431907121e-12, 2.1194783964081027e-12, 2.732234502561315e-11, 1.7515173837699434e-12, 9.036393453229598e-12, 8.970870516648358e-12, 1.61715561868003e-14, 2.2673458876428026e-12, 5.541595495160522e-12, 3.644583210208683e-12, 8.741091091590325e-12, 1.1612547060492596e-13, 4.383766998929044e-14, 3.6841090511723967e-13, 1.3605175637101996e-13, 9.595794790003661e-12, 7.93864795771983e-12, 6.018223073553981e-13, 3.00698368060365e-14, 3.2720951756461357e-12, 3.351098455466604e-11, 6.947941494456714e-12, 7.608947091982084e-13, 5.4137128112065734e-12, 1.9870462358194977e-12, 8.692371402360669e-12, 1.3905440252346818e-12, 7.690879525949144e-12, 4.155005403879307e-12, 7.0893709454936e-12, 8.7471655422913e-12, 4.606822092458136e-12, 1.1934786495330298e-13, 2.6501043199887956e-13, 3.5409181238617247e-12, 5.132642340147796e-14, 8.199957214936275e-12, 7.226833032405481e-12, 3.83470461052761e-12, 6.283760515492236e-12, 8.199406221636548e-12, 6.849432065620564e-12, 1.9976733619107074e-14, 7.760476712912232e-14, 7.820307410167995e-12, 6.242285880739417e-13, 1.0579847501709839e-12, 2.621777573142602e-12, 5.77773752901305e-12, 7.1855948351595274e-12, 1.9697018756443981e-13, 1.1188608990456466e-11, 3.938910432100394e-12, 5.793815751858646e-13, 6.359622253172337e-12, 7.0566783781041896e-12, 9.190020143262324e-12, 1.1117308399840522e-11, 4.151317173569324e-12, 1.4466210256533572e-13, 6.9609801909695285e-12, 2.759315227396607e-12, 4.273855781887508e-12, 6.249344829533366e-12, 6.650655524692345e-12, 3.794672967757744e-12, 1.9480813654308377e-12, 4.519826927713943e-12, 1.8009661515348236e-15, 1.0037025407351316e-13, 2.5480067443279667e-14, 6.416292698699522e-12, 9.843183550815255e-12, 9.33036370795301e-12, 5.718633461006518e-12, 4.002785722990854e-12, 9.628065679159187e-13, 2.44705756742424e-12, 5.892546375662512e-12, 4.296759312466593e-12, 6.741379549365562e-12, 1.2396545978013143e-12, 1.1267721644951195e-11, 9.453810477761974e-12, 1.306579376244948e-12, 1.5124267253947372e-12, 9.02096115757448e-12, 8.807181312225556e-12, 8.910533822204702e-12, 3.167036633760206e-15, 3.797079581082276e-13, 6.800127462395548e-12, 9.250176779594825e-12, 6.92373567088076e-12, 1.6944926812801696e-12, 1.2306143720178706e-13, 9.027759689402496e-12, 9.191573549138506e-12, 2.430352607973205e-12, 5.170852756339764e-12, 9.55238301426323e-12, 4.305491512011258e-14, 5.787000968501871e-12, 4.623019084478291e-12, 5.434015326040625e-12, 1.3712070680832418e-12, 4.066837720227622e-12, 1.0934317889509736e-14, 3.2699751341279907e-12, 5.462418378533128e-13, 2.815425151273573e-12, 4.985508575851301e-12, 3.3212818657970846e-12, 4.659464745301833e-12, 9.092207110006362e-12, 6.0489535815513484e-12, 8.569591787793101e-12, 7.168098310876561e-12, 9.76808270482824e-13, 8.038981014990486e-12, 1.3359584360326334e-13, 1.337930035136972e-12, 2.444812828945383e-12, 7.802942037535917e-12, 5.491319263004585e-13, 1.0032885508028277e-11, 2.575402673022888e-12, 7.843719757724622e-12, 5.029488339148622e-13, 5.280167655478649e-12, 4.432602564499146e-12, 6.057252013071534e-12, 3.922791814207645e-12, 7.516649185651601e-13, 8.409483468049887e-13, 8.025959833756172e-12, 9.42784046460688e-12, 1.0215219644873374e-12, 1.1521315957109111e-11, 4.936459937590827e-12, 8.978619112347542e-12, 6.657329845801033e-12, 3.76424581472248e-14, 1.0388716800472148e-13, 1.6590167978792972e-12, 8.302283971119087e-14, 5.989973250291224e-12, 2.6873675961994866e-14, 2.7626131793521727e-12, 1.780463892415294e-12, 1.6406807102981016e-12, 7.750912357667942e-12, 6.281509222680169e-12, 7.627262503703928e-12, 1.5154064860172e-13, 4.8885553912839536e-12, 9.342970196178898e-12, 9.229556360902603e-13, 5.2219064953827185e-12, 5.723277234079598e-12, 1.0202304479116918e-11, 1.85744403835214e-12, 8.250013239863662e-16, 6.292581982994647e-13, 1.7478231759044206e-15, 5.0429168952928365e-12, 1.180216212075053e-13, 2.7475988353717126e-12, 1.7551954223934796e-13, 9.378341181215812e-12, 4.490078382981949e-12, 9.05744590598046e-15, 5.13564941791394e-12, 2.2413373068936468e-12, 7.970784692210056e-15, 7.109616267435625e-12, 3.6901418463196555e-13, 2.9969543742526013e-13, 4.254523253670604e-12, 1.6803864537828557e-12, 8.784486972059916e-12, 7.2601848393820886e-12, 4.8890223614013954e-14, 1.1511581467484164e-11, 1.4138982262058407e-14, 8.945632284964136e-13, 2.6094595118283966e-12, 1.1998933454344489e-12, 1.3882909208932913e-12, 2.7929974505656866e-12, 7.61065558090339e-12, 5.303542088085574e-12, 7.421594028554832e-12, 3.206882731885213e-12, 2.3866454980504844e-14, 8.85298246926841e-12, 3.712817516377866e-12, 5.2873133327054874e-12, 8.775632735120491e-13, 4.2563628565112466e-12, 5.3246752703225214e-12, 3.7754403392697615e-12, 1.242836273812378e-15, 4.705732665943986e-12, 4.553253313578855e-12, 8.461825665573909e-12, 6.64552759045183e-14, 7.235990308582569e-12, 2.510516379351115e-13, 1.821823334868696e-12, 4.844723527986245e-12, 1.0524059775321594e-11, 8.37840501443614e-14, 7.5977928636874e-12, 8.652857102882647e-12, 3.0806449381396915e-11, 1.0650674478813531e-12, 6.902471086963065e-12, 1.2249148568856797e-12, 6.476077410048557e-13, 4.8163038860145656e-12, 7.745738773292427e-12, 9.704838095531781e-12, 1.5724655523452202e-13, 9.248133651773035e-12, 3.443719557387292e-12, 9.578044238965281e-12, 2.526280262222537e-13, 6.745908803697492e-12, 5.769197066859027e-12, 4.2789830462234115e-13, 2.970456970382152e-12, 1.2054418930183762e-12, 3.6228461915047023e-12, 7.175701682343888e-12, 1.4472178068781688e-11, 2.2722431273687296e-12, 1.2297619897438396e-12, 3.789950308926209e-12, 3.035264469072932e-12, 1.4691585926154272e-13, 1.8300163352284855e-12, 7.918171665416357e-12, 6.2661273937824575e-12, 9.132660133552282e-12, 6.913425846432257e-12, 1.4515495898864027e-12, 6.055436935491211e-12, 4.2136820962217866e-12, 1.5139919788691097e-13, 9.294279333538144e-12, 2.8952920410931205e-14, 1.3252399702030059e-12, 1.042551929959624e-12, 6.823989318087986e-12, 2.6843067496460067e-12, 3.8348751353074274e-14, 1.5078156274699747e-12, 2.717217984328281e-11, 6.689121648684814e-12, 1.8797533261496042e-14, 4.782805896985988e-12, 4.830324576703079e-15, 6.0589788162211005e-12, 3.3039243228109364e-12, 4.160509100358966e-13, 4.588906293917343e-12, 7.478578242861649e-12, 1.674099202688518e-15, 6.725435319701981e-12, 6.542251969052077e-12, 2.40908943181393e-14, 7.725371058026533e-15, 6.9638463284822195e-12, 2.646125671232851e-12, 7.356986832576762e-12, 4.075659566019032e-12, 5.352338743836311e-13, 2.204324790890463e-12, 7.732878977853575e-12, 1.3274171414265904e-12, 1.8823357940727234e-13, 2.968339898753889e-14, 5.729052387833007e-12, 4.3253622850775414e-13, 9.334521221631989e-12, 5.737141255534481e-12, 9.217660353932266e-12, 5.902062592241614e-12, 3.3619524966992736e-12, 2.8435802769368507e-12, 6.515404880816616e-12, 1.4870322157075725e-11, 8.336418674127964e-12, 6.708588073580439e-13, 1.1554241704425052e-12, 5.590847465166088e-12, 1.1381250892819954e-13, 5.009591360072702e-13, 3.071991116674167e-12, 1.1622043491682865e-11, 4.163532113339735e-13, 8.272071204388844e-12, 4.841274530027426e-13, 2.1854356888427636e-13, 6.941085291698068e-12, 1.6173297211070118e-14, 1.5657903275813798e-14, 9.193700180113597e-12, 1.5410845398339064e-12, 3.035595077469827e-12, 2.9405922706578315e-12, 1.884882277595584e-16, 9.052338713247149e-12, 1.8880632591420822e-11, 7.769514152635973e-12, 1.5286025919681278e-12, 6.150166653047005e-14, 8.130980710094396e-12, 7.115430985507968e-13, 7.686532637177852e-12, 1.9406507528791964e-11, 8.063545031115037e-12, 8.537791333749507e-12, 2.4043397851951425e-12, 3.25078317002935e-12, 9.135653449989599e-12, 3.141248231249544e-12, 3.597300739224993e-12, 2.074304835150966e-12, 5.459309659457964e-12, 2.1455121957674504e-12, 7.50668286642349e-12, 8.9337477898542e-12, 7.24385042541658e-12, 1.7876927806968228e-12, 1.1181888753407684e-12, 6.276057603983188e-12, 8.266028034190941e-12, 4.802675526606853e-12, 4.829792361141189e-12, 7.270394536055411e-12, 6.778525933576897e-12, 1.592686741966265e-12, 1.2645578418451814e-12, 6.636989898528554e-12, 7.241929242437636e-12, 9.286509732682263e-13, 1.4387096465108506e-12, 6.3254492454378306e-12, 4.030578059669777e-13, 2.0025118832056145e-11, 1.0729610327007705e-12, 2.584827699383411e-12, 1.1891098969489874e-12, 1.9739705059743615e-12, 2.368625389665512e-12, 9.850343378120772e-15, 8.379962635487102e-12, 2.900076010442238e-12, 2.7312578837914983e-12, 6.8229002843285545e-12, 4.315128538997824e-12, 1.0272874934962473e-11, 1.142916349194032e-11, 1.7045461377462002e-12, 7.286851906730016e-13, 9.964312325772222e-12, 6.5256274314778784e-12, 9.010553284783117e-12, 9.064839550255798e-12, 7.202187893374064e-12, 3.2443933597470787e-12, 5.218573051935247e-12, 6.065786957037294e-12, 3.2942033428820623e-13, 7.23969070807211e-12, 1.7618777693217966e-12, 1.1936181690776955e-12, 5.730778882609094e-12, 1.1417590364372901e-13, 6.319847322589345e-12, 4.733428471271336e-12, 1.0725918551467784e-12, 3.118702284204066e-12, 4.009955322774375e-12, 2.671070377883696e-12, 7.439711702866921e-12, 3.680282757817408e-12, 9.5562217077187e-12, 1.6946325915038285e-12, 1.0820827516232746e-11, 1.634675570009903e-12, 2.6513319231315343e-13, 3.970855690837864e-12, 1.42634819763171e-12, 1.0338760475068686e-14, 8.038016625675663e-12], \"colorbar\": {\"title\": {\"text\": \"ColorBar\"}}, \"colorscale\": [[0.0, \"#440154\"], [0.1111111111111111, \"#482878\"], [0.2222222222222222, \"#3e4989\"], [0.3333333333333333, \"#31688e\"], [0.4444444444444444, \"#26828e\"], [0.5555555555555556, \"#1f9e89\"], [0.6666666666666666, \"#35b779\"], [0.7777777777777778, \"#6ece58\"], [0.8888888888888888, \"#b5de2b\"], [1.0, \"#fde725\"]], \"line\": {\"width\": 0}, \"opacity\": 1, \"size\": 5, \"symbol\": \"circle\"}, \"mode\": \"markers\", \"type\": \"scatter\", \"x\": [-4.610048550341667, -4.610048550341667, -4.610048550341667, -4.610048550341667, -4.610048550341667, -4.610048550341667, -4.610048550341667, -4.610048550341667, -4.610048550341667, -4.610048550341667, -4.610048550341667, -4.610048550341667, -4.610048550341667, -4.610048550341667, -4.610048550341667, -4.610048550341667, -4.610048550341667, -4.610048550341667, -4.610048550341667, -4.610048550341667, -4.121631306098733, -4.121631306098733, -4.121631306098733, -4.121631306098733, -4.121631306098733, -4.121631306098733, -4.121631306098733, -4.121631306098733, -4.121631306098733, -4.121631306098733, -4.121631306098733, -4.121631306098733, -4.121631306098733, -4.121631306098733, -4.121631306098733, -4.121631306098733, -4.121631306098733, -4.121631306098733, -4.121631306098733, -4.121631306098733, -3.6332140618557993, -3.6332140618557993, -3.6332140618557993, -3.6332140618557993, -3.6332140618557993, -3.6332140618557993, -3.6332140618557993, -3.6332140618557993, -3.6332140618557993, -3.6332140618557993, -3.6332140618557993, -3.6332140618557993, -3.6332140618557993, -3.6332140618557993, -3.6332140618557993, -3.6332140618557993, -3.6332140618557993, -3.6332140618557993, -3.6332140618557993, -3.6332140618557993, -3.144796817612865, -3.144796817612865, -3.144796817612865, -3.144796817612865, -3.144796817612865, -3.144796817612865, -3.144796817612865, -3.144796817612865, -3.144796817612865, -3.144796817612865, -3.144796817612865, -3.144796817612865, -3.144796817612865, -3.144796817612865, -3.144796817612865, -3.144796817612865, -3.144796817612865, -3.144796817612865, -3.144796817612865, -3.144796817612865, -2.656379573369931, -2.656379573369931, -2.656379573369931, -2.656379573369931, -2.656379573369931, -2.656379573369931, -2.656379573369931, -2.656379573369931, -2.656379573369931, -2.656379573369931, -2.656379573369931, -2.656379573369931, -2.656379573369931, -2.656379573369931, -2.656379573369931, -2.656379573369931, -2.656379573369931, -2.656379573369931, -2.656379573369931, -2.656379573369931, -2.167962329126997, -2.167962329126997, -2.167962329126997, -2.167962329126997, -2.167962329126997, -2.167962329126997, -2.167962329126997, -2.167962329126997, -2.167962329126997, -2.167962329126997, -2.167962329126997, -2.167962329126997, -2.167962329126997, -2.167962329126997, -2.167962329126997, -2.167962329126997, -2.167962329126997, -2.167962329126997, -2.167962329126997, -2.167962329126997, -1.6795450848840625, -1.6795450848840625, -1.6795450848840625, -1.6795450848840625, -1.6795450848840625, -1.6795450848840625, -1.6795450848840625, -1.6795450848840625, -1.6795450848840625, -1.6795450848840625, -1.6795450848840625, -1.6795450848840625, -1.6795450848840625, -1.6795450848840625, -1.6795450848840625, -1.6795450848840625, -1.6795450848840625, -1.6795450848840625, -1.6795450848840625, -1.6795450848840625, -1.1911278406411285, -1.1911278406411285, -1.1911278406411285, -1.1911278406411285, -1.1911278406411285, -1.1911278406411285, -1.1911278406411285, -1.1911278406411285, -1.1911278406411285, -1.1911278406411285, -1.1911278406411285, -1.1911278406411285, -1.1911278406411285, -1.1911278406411285, -1.1911278406411285, -1.1911278406411285, -1.1911278406411285, -1.1911278406411285, -1.1911278406411285, -1.1911278406411285, -0.7027105963981946, -0.7027105963981946, -0.7027105963981946, -0.7027105963981946, -0.7027105963981946, -0.7027105963981946, -0.7027105963981946, -0.7027105963981946, -0.7027105963981946, -0.7027105963981946, -0.7027105963981946, -0.7027105963981946, -0.7027105963981946, -0.7027105963981946, -0.7027105963981946, -0.7027105963981946, -0.7027105963981946, -0.7027105963981946, -0.7027105963981946, -0.7027105963981946, -0.21429335215526013, -0.21429335215526013, -0.21429335215526013, -0.21429335215526013, -0.21429335215526013, -0.21429335215526013, -0.21429335215526013, -0.21429335215526013, -0.21429335215526013, -0.21429335215526013, -0.21429335215526013, -0.21429335215526013, -0.21429335215526013, -0.21429335215526013, -0.21429335215526013, -0.21429335215526013, -0.21429335215526013, -0.21429335215526013, -0.21429335215526013, -0.21429335215526013, 0.2741238920876734, 0.2741238920876734, 0.2741238920876734, 0.2741238920876734, 0.2741238920876734, 0.2741238920876734, 0.2741238920876734, 0.2741238920876734, 0.2741238920876734, 0.2741238920876734, 0.2741238920876734, 0.2741238920876734, 0.2741238920876734, 0.2741238920876734, 0.2741238920876734, 0.2741238920876734, 0.2741238920876734, 0.2741238920876734, 0.2741238920876734, 0.2741238920876734, 0.7625411363306078, 0.7625411363306078, 0.7625411363306078, 0.7625411363306078, 0.7625411363306078, 0.7625411363306078, 0.7625411363306078, 0.7625411363306078, 0.7625411363306078, 0.7625411363306078, 0.7625411363306078, 0.7625411363306078, 0.7625411363306078, 0.7625411363306078, 0.7625411363306078, 0.7625411363306078, 0.7625411363306078, 0.7625411363306078, 0.7625411363306078, 0.7625411363306078, 1.2509583805735423, 1.2509583805735423, 1.2509583805735423, 1.2509583805735423, 1.2509583805735423, 1.2509583805735423, 1.2509583805735423, 1.2509583805735423, 1.2509583805735423, 1.2509583805735423, 1.2509583805735423, 1.2509583805735423, 1.2509583805735423, 1.2509583805735423, 1.2509583805735423, 1.2509583805735423, 1.2509583805735423, 1.2509583805735423, 1.2509583805735423, 1.2509583805735423, 1.7393756248164758, 1.7393756248164758, 1.7393756248164758, 1.7393756248164758, 1.7393756248164758, 1.7393756248164758, 1.7393756248164758, 1.7393756248164758, 1.7393756248164758, 1.7393756248164758, 1.7393756248164758, 1.7393756248164758, 1.7393756248164758, 1.7393756248164758, 1.7393756248164758, 1.7393756248164758, 1.7393756248164758, 1.7393756248164758, 1.7393756248164758, 1.7393756248164758, 2.22779286905941, 2.22779286905941, 2.22779286905941, 2.22779286905941, 2.22779286905941, 2.22779286905941, 2.22779286905941, 2.22779286905941, 2.22779286905941, 2.22779286905941, 2.22779286905941, 2.22779286905941, 2.22779286905941, 2.22779286905941, 2.22779286905941, 2.22779286905941, 2.22779286905941, 2.22779286905941, 2.22779286905941, 2.22779286905941, 2.7162101133023437, 2.7162101133023437, 2.7162101133023437, 2.7162101133023437, 2.7162101133023437, 2.7162101133023437, 2.7162101133023437, 2.7162101133023437, 2.7162101133023437, 2.7162101133023437, 2.7162101133023437, 2.7162101133023437, 2.7162101133023437, 2.7162101133023437, 2.7162101133023437, 2.7162101133023437, 2.7162101133023437, 2.7162101133023437, 2.7162101133023437, 2.7162101133023437, 3.204627357545278, 3.204627357545278, 3.204627357545278, 3.204627357545278, 3.204627357545278, 3.204627357545278, 3.204627357545278, 3.204627357545278, 3.204627357545278, 3.204627357545278, 3.204627357545278, 3.204627357545278, 3.204627357545278, 3.204627357545278, 3.204627357545278, 3.204627357545278, 3.204627357545278, 3.204627357545278, 3.204627357545278, 3.204627357545278, 3.6930446017882117, 3.6930446017882117, 3.6930446017882117, 3.6930446017882117, 3.6930446017882117, 3.6930446017882117, 3.6930446017882117, 3.6930446017882117, 3.6930446017882117, 3.6930446017882117, 3.6930446017882117, 3.6930446017882117, 3.6930446017882117, 3.6930446017882117, 3.6930446017882117, 3.6930446017882117, 3.6930446017882117, 3.6930446017882117, 3.6930446017882117, 3.6930446017882117, 4.181461846031147, 4.181461846031147, 4.181461846031147, 4.181461846031147, 4.181461846031147, 4.181461846031147, 4.181461846031147, 4.181461846031147, 4.181461846031147, 4.181461846031147, 4.181461846031147, 4.181461846031147, 4.181461846031147, 4.181461846031147, 4.181461846031147, 4.181461846031147, 4.181461846031147, 4.181461846031147, 4.181461846031147, 4.181461846031147, 4.6698790902740805, 4.6698790902740805, 4.6698790902740805, 4.6698790902740805, 4.6698790902740805, 4.6698790902740805, 4.6698790902740805, 4.6698790902740805, 4.6698790902740805, 4.6698790902740805, 4.6698790902740805, 4.6698790902740805, 4.6698790902740805, 4.6698790902740805, 4.6698790902740805, 4.6698790902740805, 4.6698790902740805, 4.6698790902740805, 4.6698790902740805, 4.6698790902740805, 2.6016418154932244, 2.6441632388668195, 1.6205877043961814, 2.020395233956149, 2.2050682182518146, 2.194584657691429, 1.8400244155438938, 2.864136925857716, 2.5809709900130144, 2.1428318877189687, 2.336472940338922, 2.6304253007799283, 2.6444705825279318, 1.2832795715159449, 0.7931904890471202, 1.370787200088949, 2.3151562119435383, 2.3455596129139593, 2.478613053078491, 2.519690117085453, 3.5163714075659813, 2.304440935194902, 2.963089113675464, 2.364712978892266, 0.7462129363230282, 1.969323915594709, 2.1157486053944212, 3.7067663226347674, 2.2193423533861822, 2.1250566829833732, 1.5951038260236026, 2.867329878692612, 2.6813171372436835, 2.254463902194519, 2.086034232254441, 2.116300054661428, 1.3127458265696865, 1.012351903224815, 3.225443947304642, 1.696737221325247, 3.115912430327244, 2.533484825969265, 2.0373414421098377, 1.5821151569383807, 2.6900966552082326, 3.0180784336617448, 1.416782940551747, 2.152502338665586, 0.7863750165490612, 2.6667077741776133, 2.128074222305359, 1.4483082906856148, 3.038056902840768, 2.673075621251174, 1.9391996386208508, 2.5584451939958117, 2.7286691357238713, 0.6106707328340126, 2.1576829958819546, 2.247548627500424, 1.432594207062535, 1.4878096556486027, 2.6960454712337074, 1.2160829330626861, 2.1820980790710247, 2.659187925432177, 2.5032356875948785, 1.693070681227897, 3.1881643160587094, 1.9858601447276685, 2.7828971648735155, 1.6594922096708116, 3.454191332464092, 2.4104158916753393, 2.4635563719284375, 1.8467712026719851, 1.4605035640402007, 1.5027124743704712, 1.468426117681976, 1.2217949866406483, 0.5061220931265711, 1.1412251769224493, 1.5908268686291043, 3.1648076784797814, 2.938627425708219, 2.347533637755146, 2.6434752863846915, 1.2496763899264987, 2.6926142718230093, 4.020104444090002, 1.7147474340679174, 1.67279846048787, 2.3322785629401634, 4.169106521143897, 1.3845055468143712, 1.190790138298414, 2.4340333601642126, 2.3301567923910853, 2.5289816801024427, 0.8596086647120873, 1.5923878402850153, 2.2217986019901637, 1.9983300374219057, 2.8489471774860173, 2.0081015522308183, 2.3809807735087722, 2.1078388192810076, 1.3218459379179932, 1.8698441277788835, 3.709403568205141, 0.9509092586640786, 1.509369499028033, 2.8878307620882797, 1.0497979908159258, 2.5752189639058285, 2.11845919152916, 2.8312466941504812, 2.097377245361322, 2.508938780252295, 2.8087939131015114, 3.3528117801707373, 2.3161279737894875, 3.712488914383832, 1.8624296042660728, 0.9538261736093194, 1.5014452190137444, 2.8231681994605333, 1.844491541277687, 1.8349373996069482, 1.930541554624231, 2.232442127837681, 2.47231932456113, 1.7593166532268258, 2.0572402591700385, 1.7936702456991682, 2.1571726613579387, 1.1760371126500822, 1.6135950647026105, 1.9290957097815296, 2.1108866903818524, 2.5047660512459653, 2.5205637515771246, 2.1094902483506517, 2.9057715329748275, 2.4629266051331324, 1.726565591614454, 0.9039060265306325, 2.2073245157969, 1.4701709389895252, 3.1450886632100636, 1.80142459700659, 1.7773181623272107, 2.065452678998911, 2.1567121334961477, 1.8599967240706567, 3.4091798027657108, 3.080730030391427, 2.106947941616979, 2.0256398255498915, 1.8381704055264274, 2.1975448398966435, 1.8574325864084091, 2.967410129561084, 2.4716717336074, 2.709948203866134, 3.1582514901612284, 1.6906720708290652, 2.7851984774233864, 2.059907649572338, 2.2938312827839034, 1.904120506952069, 1.893977947133624, 1.9102818720963683, 1.8609478670592423, 2.6799577512456305, 1.539616812436109, 1.2367557043942452, 2.960039915450481, 1.9862929666537834, 1.7267537712602752, 0.6593771688946464, 1.9337286699018135, 1.17932472800588, 1.8576612861269206, 2.698644572963322, 2.994586566541757, 1.9091076281836228, 2.6348479473214406, 2.3624658781607013, 2.8800367906942554, 2.2085187649389746, 1.9175113332529783, 0.9297891304252828, 2.9175733301997484, 2.529628965409392, 2.3344701921689994, 0.9607502643671121, 1.3143906441498092, 1.8659123461287859, 2.732409178636866, 2.421079745381502, 1.8479365659843432, 1.8525679343522305, 2.4548690970734652, 1.3065921417272055, 2.2899811540404214, 2.0193223366667135, 2.3269035827196642, 1.3646220805299856, 2.213564257001901, 3.642547639208688, 1.4670565335569041, 1.9543102185121606, 3.085025469883173, 2.0432991707182278, 2.659983226731051, 1.1047945009909572, 3.1734906407854395, 1.8151839960038305, 2.7217869799365175, 1.2447677603437397, 3.1325870654018364, 1.980891650953476, 2.708203841044555, 2.1007214846069764, 3.226056194580306, 1.9846021888075946, 2.129028001391485, 3.5926002243531268, 2.6614091761370653, 2.736052616745601, 1.4704738322871918, 1.7325162909943432, 1.5426607367197005, 1.7078054778143084, 1.3481397299234545, 3.030352257711844, 2.557538024820608, 1.9963586921004415, 2.512875974682973, 1.9834740746714867, 1.330986770903325, 1.744216371828157, 1.276506859730257, 2.7564019964798208, 1.9989573662901934, 2.988221818026818, 1.7084074058142877, 2.2464016714802257, 2.4961750715668583, 0.8296502848072851, 2.9176880395404923, 3.2614549473884193, 2.9686057640718397, 2.3564041794205934, 1.279948332951394, 2.2217869069833687, 1.7763988475356367, 2.8448173467369764, 1.917219462340917, 2.4781513955231875, 1.914435964241296, 1.7558658273323078, 3.232419205560935, 1.7706640043012662, 2.9697093080844663, 1.8684780007281336, 2.751856792159222, 1.9583780516703873, 2.635033635994942, 2.800646683989348, 1.324435588236681, 1.5518717228122652, 2.6481738046979464, 0.8540417925226268, 2.916189867146402, 3.826574866061284, 2.7275596653251704, 2.3503265085870617, 2.6543618937859472, 1.0007232666208838, 3.298924058939174, 2.0977447708884736, 2.116246156534005, 1.6194909109693705, 1.766833018783226, 3.919408962397562, 2.2600679204839036, 1.8171172667542839, 2.732383753834684, 2.3739165514732217, 1.3906332505841354, 3.217573180863372, 0.973155075830331, 1.7662298131667082, 3.1374160289142603, 0.9517014068744201, 2.9142665984981933, 2.7456616829504994, 2.9235671690052323, 3.233892605724836, 2.275693019096994, 2.294641073104106, 1.0783941307067746, 2.1979654079067874, 1.9294955741267499, 1.0395609073606897, 2.4533771767084387, 2.7405311814384596, 1.590416087440099, 2.912615711436383, 2.5976614580757555, 1.9055240423612672, 1.5712631246357565, 1.6852481073119012, 1.3124413558248302, 2.4249353837077012, 2.48704819252704, 2.6759742741187496, 2.864721224183291, 2.012708120787561, 1.2288087174772406, 2.4945090380042902, 2.0244039711875694, 2.2046947471534697, 3.492315021023149, 2.0308107729245215, 2.3876915095281843, 1.4720442439990136, 2.2343842371145675, 2.1114225429655473, 2.3616778348876224, 1.860933322650383, 3.3130961328870523, 2.4972682348790225, 2.6388403722328126, 1.9330993809128318, 2.0329402581919327, 1.722403557095538, 1.5206284933737577, 2.9742595891526964, 1.9770321081891493, 1.7970134123076973, 1.8951720776941676, 2.6093002130529563, 1.1209701114553323, 2.527380798139826, 1.5118056310073746, 2.3506824547947063, 3.4960304398638637, 2.201213933874333, 1.2003342312543008, 2.314851241971953, 1.8018089610658277, 2.348634178957875, 2.3436299539386254, 2.2866804519946324, 1.5144123687300737, 3.1504914492655325, 2.641232460213934, 2.3414505443180755, 2.3100663766767657, 2.1162779427295226, 2.6340912599051705, 3.2471616371421317, 2.4447530238833135, 3.6157082459096026, 2.555506097574898, 3.4885912886085597, 2.462492744868384, 2.2456237242215265, 1.3514260358296273, 2.6321345519439, 3.9365150552178796, 1.0127651898918704, 1.5772942083061643, 2.829290312394827, 3.3245046101637525, 2.280805120503156, 2.2641619749610697, 2.8694167961655705, 1.6719647434558662, 3.171412868377654, 2.2749603733898702, 3.0433603612377214, 2.252646180230215, 2.4999654213974494, 2.061026669208694, 2.01158217685932, 1.6656885813359428, 2.1044351796246485, 1.7540454005077102, 0.856282379135197, 3.8745371140302307, 2.133639827688242, 3.3922430086714512, 1.1441381907974333, 2.5901682610043686, 1.4341419303231173, 1.8843428463532161, 1.4512064684321808, 2.0713780989829, 1.906811847235169, 1.238490260661927, 2.1892284012349106, 1.7320633114689032, 1.5487621868919754, 2.3689873549295704, 2.024409453052538, 1.7462253725659598, 1.9724518307962515, 2.3558683523970494, 2.0004262422883587, 1.7212205526090059, 1.2488326902911648, 1.9814093999435731, 2.7916868322937773, 1.84138680487869, 1.3850919121770764, 2.278762912084045, 2.125669750398218, 2.210984513282079, 2.1793749450032567, 1.3434084122387648, 1.0848449904171376, 1.8888833495751527, 2.319837612822796, 1.7610597560450507, 1.9060150308164976, 1.8005725037115334, 2.456140276308826, 2.4429961331320613, 2.070094751832483, 1.8576972445087867, 2.7078360877313012, 1.6917137651374943, 1.1355981650702403, 1.28770680525553, 2.639752706050908, 1.7200879076862634, 2.051586729149393, 2.583544449740672, 1.798779345128277, 2.058196696408148, 1.4491355786937334, 2.511004175002793, 1.0727323386813286, 1.5837843399424203, 1.4449048820263, 2.367952237518184, 1.9828287502005186, 1.4054075913570383, 2.529209217843011, 2.3790434473267403, 1.2639188375253294, 2.710167112912811, 1.8917108494667825, 1.0963024257055056, 1.8352900708273507, 2.055817925226942, 2.298144470437161, 2.5980321843533183, 2.417765978775883, 1.9905909967422244, 2.494299716363085, 2.365200232157731, 1.6444622605312846, 1.6797912085416007, 1.9697323777871767, 1.786942056957878, 1.8572434673737077, 1.6529694204268357, 2.1029139868467728, 2.195861730924437, 1.2199787978483139, 1.3225826500687807, 1.7424339823935817, 1.8525890855768945, 2.133283950421039, 1.2588916230177858, 1.342341975025088, 1.440524094479163, 2.1649786305035383, 2.1135791167779403, 2.1080775045211824, 2.731503644023722, 2.0612330604164932, 1.517524185924115, 1.637165140174173, 2.544060220681616, 1.7846571770520856, 1.0768395153255952, 1.433064965438678, 2.6294547610647614, 1.7050671867893148, 1.5139840609374753, 2.0297871271943153, 2.7971765275255613, 1.4521093423591744, 1.2986233308938269, 1.5438625154309173, 2.4926781497479453, 1.666776218476882, 2.1447936911512047, 1.9681885516857918, 1.5231180247480773, 1.7712849497366336, 1.6877769964362535, 2.269545575589965, 2.4488926636478916, 1.5926122744339297, 1.453510024090881, 2.1100291118219614, 1.980080490062742, 1.9813423588124883, 2.1166997772870007, 2.2433133560647605, 1.9065825968998513, 1.1244800699630668, 1.9832903538143614, 1.6236075109718149, 1.2116523305897615, 2.450021793968201, 1.6105060144444199, 1.7313169550545207, 1.2046556364502945, 2.977601703742448, 1.7977854543108585, 2.1026301151078117, 1.904897538617222, 1.734217759403226, 1.9469208379801903, 1.2233806619048437, 2.3487696242079203, 1.8604484248335227, 1.7893394349322116, 1.6344159937987743, 1.483632186632614, 1.599094544437424, 2.4288881030741414, 1.7244277248317492, 2.314468564214407, 2.428377053439299, 2.3842241855953716, 1.7682402917408084, 1.1410036867411895, 1.7315883756836465, 2.276258162285548, 1.8204812668832173, 1.8625537370889729, 1.7157784656339912, 1.168203549444498, 2.5297488505430876, 1.706503192604064, 1.9833428019966721, 2.1487750908122334, 2.0665011021149913, 1.9750972598914691, 2.0329668978216837, 1.6312593093720655, 1.857408264990484, 1.7685814133269393, 1.7114214556774034, 1.4223130155920134, 1.8305466628862985, 2.7710721156322506, 2.0025714124693383, 1.9305568252274008, 1.150449177818081, 1.7056241278509985, 1.7906547037028577, 2.0259030349571177, 2.3948243566882943, 2.2390759066061694, 2.098155428414911, 2.148693764236325, 1.9269451295742661, 2.3348570246861327, 1.2360549507441325, 2.3318537771321353, 1.0652613669439113, 1.600188120099473, 1.083353344553962, 1.3651344115310626, 1.166253782689345, 2.013136345634909, 1.8008835231896803, 1.9641521196056033, 1.2611750574349694, 2.4746829164923008, 2.149658475948905, 1.255981665561897, 1.4184666912315422, 1.472242331767558, 1.244159088914538, 1.765793993341145, 2.096030738171711, 1.3538396493596414, 2.1620566824760226, 2.6563439040113646, 2.3067204625021227, 1.7294636910455186, 1.664105208459509, 2.6093795787676526, 2.4225871573461566, 2.420844992496982, 1.7001058206327477, 1.9403916108671428, 1.6016205863199107, 1.617857908621071, 2.7504319848352847, 2.3343739621803246, 1.1798631123871202, 3.0014002262573056, 2.69219652869119, 1.2082316156652264, 1.9249378500567045, 2.1234109396238434, 1.664183374999503, 1.5226694342744764, 1.6366053964922833, 2.503062062807749, 2.4045145120117812, 2.3587478152932717, 1.8469875597385994, 2.272004190461011, 1.8254365603541614, 2.5766326949844136, 1.7192789004601865, 1.370577997088747, 1.8741189131826594, 2.3356245756889713, 2.517390422263927, 2.070841021300038, 1.179236553017462, 1.8756221209442492, 1.7638800034163749, 1.9816232246306305, 1.5954921610004928, 2.0586408056568577, 1.2436495052165306, 1.2988520511834054, 2.5216722484365524, 1.0466889245094322, 2.112453614336721, 2.072966229608776, 2.1262273421215774, 1.703414133680801, 1.878624732318995, 1.8249724037027115, 2.129998497534591, 2.527124655068889, 2.4042355566777203, 2.579416298241169, 2.2119533880547215, 1.948165506646948, 1.8637143710913258, 1.78911557045972, 2.143282315491419, 1.9000221121801701, 1.5922123974018574, 2.101407490352129, 2.2006195032388307, 2.255794582347151, 2.0544935040414862, 2.3271562018877083, 1.8917385594802463, 2.1460995449219595, 2.299489690527768, 2.135329045907611, 1.8637391793761442, 1.691872445344082, 1.8604757466825863, 2.0713175592696484, 1.7838371625000964, 1.4717360319911017, 2.859745895642175, 2.3658313796014725, 2.041201779272984, 2.328048138945348, 1.5646161048469562, 2.1084252901309997, 1.6849231710528871, 2.3325062780049906, 2.0670130186748445, 1.703119140703419, 1.4057236128846262, 1.2485672603890399, 1.7834355593340068, 2.1681369404744864, 2.2608007452936723, 1.0884552485448267, 1.905885153091541, 1.3923881584350597, 1.688745122118337, 2.733433186202002, 1.4084756161456438, 2.5998626428394656, 2.331999809387583, 2.172102035189704, 2.476134394804861, 2.2264774418436306, 1.8168030735191933, 2.0125674656399695, 2.096032119270081, 2.177416165494053, 0.9599748757123117, 2.230623865194235, 1.399533922944488, 1.9658811793218454, 2.4595691864849067, 2.0071737029627457, 2.315268494307036, 1.2512224479329423, 2.0232342308379785, 1.7136009057939718, 2.2696922028890936, 2.5159582547852892, 2.5126558683089195, 1.4449831965826183, 2.416158242956135, 1.029233049051349, 2.245676708223863, 1.8636272003731889, 2.267668000181348, 2.3668920145210124, 1.8423473088936062, 1.9269953899198107, 1.7466574733420137, 1.8038368104479205, 2.4836899818182765, 1.9816759531497465, 2.1602345315570024, 2.2656615746110016, 1.3919190654953457, 1.4437295864349977, 2.168273460600737, 1.398861601826191, 1.6302289333791475, 2.2360740659659486, 1.7433520207690403, 2.4192526415856905, 1.7526314439712964, 1.4278033300635316, 2.322552497592722, 2.0281488065968194, 2.0187464805949467, 1.9739574879279949, 1.512029884768609, 2.3816038540955176, 1.7344893979779368, 2.1392023761550965, 1.8892929491681056, 1.7017658634993593, 1.9617350861318619, 1.9568283433061455, 1.7017399149822325, 1.350265411948072, 2.4031285451991224, 2.068777266522358, 1.9350860953831959, 2.19499534995322, 1.2735800260882906, 2.058973074193965, 1.3946441820541287, 1.9896818080914225, 1.9486762132874647, 2.2766438757553744, 2.62629483280947, 1.8565560665207324, 1.8750034789190864, 1.0340609393759392, 1.198039960900592, 3.138209378986776, 1.0559315718760864, 2.351099681713414, 2.4030612888104805, 2.3188313145444583, 1.929682528290606, 1.8284938347764519, 2.583449161583004, 1.706867942782975, 2.2520066171436017, 1.4843182138314444, 1.8421292678737147, 2.1170320359275574, 1.9538021569564556, 2.5281290835663266, 1.917233033584631, 1.951001345245587, 2.3529415633871076, 2.0241696009669203, 1.7741955660263795, 2.3190798214629997, 2.480760044570424, 2.3436212328144013, 2.2450902277516147, 2.037926361582616, 2.0828796498019506, 1.767800438757836, 1.727012849071244, 1.3749651472265871, 1.0968097918680015, 1.472514707239807, 1.9250613495550497, 1.5841816945655331, 1.1422813600807509, 1.9926013110216618, 1.556049854324828, 1.8368622504440506, 1.8351639944199785, 1.6989887154125756, 1.4713426802059812, 1.6021522997088202, 1.4628989226483506, 1.6309526009063975, 1.8713036560603031, 1.5405949572588926, 1.387525377963645, 1.6869651976069682, 1.992621731848649, 1.6470798155785278, 2.190952174730425, 1.7786250603004319, 1.1652322223485805, 1.7266103263593984, 1.770809045339562, 1.1773632493153954, 1.6980622423311826, 1.977726840993578, 1.8716935168789792, 1.481528312340175, 1.2759290249506912, 1.3770278217743468, 1.8158953562345688, 1.676451957040389, 1.8516814757247528, 1.4094854693648478, 1.0609656233813207, 1.9127772143589954, 2.198115714654817, 2.0998281626369684, 1.3596669675074347, 1.7625423890680216, 1.9722741294840291, 2.0515895785849367, 1.4658503046618643, 1.1962083747464176, 1.4039529735829066, 2.0894850791093833, 1.8500040697046904, 1.0475531086830736, 1.7339140281795957, 1.809579915818385, 1.5004325494311381, 1.5206572840641992, 1.9848654999351645, 1.837075730594201, 1.9961817571705813, 1.8106678781153618, 1.2483940593498124, 1.921992846702657, 1.9769761573852354, 1.5532439501744486, 1.6210471131955222, 2.170824863018578, 1.3922262306643058, 1.4379377084533875, 1.7443610651188615, 1.5087426412731226, 1.8152465153429957, 1.6634520407570748, 1.977584797159506, 1.343015562715192, 1.9514685074643516, 1.7471918993381612, 1.6638776514247278, 1.2066868652134253, 1.668694357635684, 1.2802416722123295, 1.1853959303915391, 1.739808020896977, 1.7646491320963857, 1.9115203642683392, 1.5424782848513372, 2.0536527364301276, 1.8006298124501123, 1.6803559530642127, 1.9880293360210899, 2.0537619346508795, 1.4776763801272184, 1.7262620992906366, 1.7878432831974367, 1.7437403940025664, 2.01681230003916, 1.3004011801559014, 1.813754899674027, 1.8749312288498083, 1.3535843692502532, 1.2384534555244524, 1.8875425258356486, 2.0999541370024004, 1.6431989760979062, 1.6208542216832507, 1.6575979505236993, 1.912667372346684, 1.5664838137242885, 1.6550348285610035, 1.9997395968529341, 1.9505632742212902, 0.7564740999023405, 1.460782592593873, 1.565339803015816, 1.5674580083323377, 2.126138807134852, 1.6849814205752867, 1.9895542476597519, 1.7323417459797503, 1.9116109025746995, 1.8254259726218685, 1.5624242511708353, 1.7871559681925462, 1.9513093998717714, 1.5038570272691083, 1.6224749523085213, 1.1232002502254248, 1.9941555996302909, 1.8858684837193738, 1.5968686675784634, 2.1488595478738266, 1.704538458482391, 1.849788249860883, 1.6492845760616124, 1.8110865914033611, 1.7691355479510993, 1.5784141589363156, 1.6197740512290113, 1.7152084441656337, 2.0630954619414568, 1.9976317507772383, 1.6506066452597534, 2.1373015415176115, 1.9972940508374115, 2.0026697592665745, 1.7425855565062573, 1.1273560553043442, 1.2470949448797153, 1.271580974404473, 1.209173334991121, 1.7534022660838973, 1.8019472871835145, 1.2849787446109093, 1.9314439174395939, 2.0557768586315035, 1.293088496594504, 1.9202114918393942, 1.8919882347937222, 1.8448951260050386, 1.3734265819959917, 1.7156051911727555, 1.3984087674417651, 1.2755706184261149, 1.7494925276530664, 1.4528934549969108, 1.7225015878851466, 1.5347016781731826, 1.8950339238531562, 2.1181395470085898, 1.2497627605040134, 1.574607456443916, 1.6218325126363582, 1.943402329234254, 2.0711171846782155, 1.761462984332303, 1.9182285236900622, 1.9198811121977823, 1.741005750785209, 2.007641288581445, 1.1901656220192345, 1.9693995027431008, 1.5914143246995367, 1.632300933030877, 1.62207229915913, 1.7998898325849213, 1.7526422551167282, 2.258399050817099, 1.5871160966858187, 1.6939298135231136, 1.3229300623364915, 1.9102607467303288, 1.706760421666495, 1.5869408650336594, 1.5092858336561001, 0.9865136328598128, 1.9674467653112166, 1.4980399837932754, 1.7798944932884266, 2.0072554920140093, 1.9366152578350995, 2.1479338057105952, 1.7992717023430163, 1.313863408289511, 1.5405191031615642, 1.6905511337881547, 1.6415658500567059, 1.8248660549804194, 1.9907875947442062, 1.3891022392614336, 1.4554437948136492, 1.5801856566354364, 1.8800973145146798, 1.6009216117854759, 1.6257364564737853, 2.3054974150434075, 1.8055607863871768, 1.2376251658492365, 1.3301721771634794, 2.086105248804203, 1.49571144079179, 1.400210248948452, 1.6259905611196594, 1.83518134832578, 2.0416958913672283, 1.7447213259049674, 1.7924510325784777, 1.8336759453228288, 1.5058055876521361, 1.6380916929998879, 2.0235055519809078, 1.8035506271091841, 2.3510543407116358, 1.478834310086509, 1.6096915366178621, 1.6986540417200848, 1.444474770708684, 1.7178313375110745, 2.1691792562793877, 2.0928782302035214, 1.6726519284310577, 1.8328213167424727, 1.3348331872860264, 1.3066473934318428, 1.6125209534538416, 1.5325272495355455, 1.4021077144404694, 1.6560824342294636, 1.5544716386229516, 1.4255759573309854, 1.9095555716068116, 1.537144885265926, 1.4865053797940697, 0.9865413728852497, 2.155090150058249, 1.4605704673717141, 1.2632539646366858, 1.1766040416955794, 1.8455351449685156, 1.6547199162083672, 1.619855509553219, 2.145637881909952, 1.8664342752483973, 1.4914702154125992, 1.2424780670104236, 1.8632769365553414, 1.7499288090562348, 1.903650722076093, 1.7625376313180305, 1.8906137677560808, 1.8535336039348762, 1.5707248891644712, 1.819538860748998, 1.365194661210962, 1.6862445268096016, 1.5723014322408735, 1.30901878166294, 1.859930028025509, 1.2063364089610513, 1.7494021222064389, 1.8933465375334073, 1.6868091810575334, 1.924002680998597, 1.8935484745254738, 1.6719647545116811, 1.3296284196688626, 1.833562157239775, 1.7935820463618077, 2.090087831388473, 1.2637867034227164, 1.6664807937323025, 1.9111401927630831, 2.101838020981576, 1.5601263008838329, 1.5649736294843222, 1.5197729694101199, 2.050437429604309, 2.3062750241571486, 1.2586532456938366, 2.076044574296861, 1.7311381366772431, 1.6388994867804743, 1.398770576526101, 1.3384534639606689, 1.2752828793500328, 1.1278624251808282, 1.8233335229124403, 1.569094509276237, 1.4752268875658996, 1.5160745707494054, 1.414357151549609, 1.8707891368865044, 1.7610974414106346, 1.9945003141357394, 1.327886282350591, 1.6794334587891881, 1.6526341986090767, 1.5845319825171655, 1.9782315685010663, 1.8881319713906946, 2.018418620761965, 1.4443898840404579, 2.04939003097948, 0.972832628869177, 2.088628059139295, 1.9293764957937716, 2.092608068080708, 1.4720516927255756, 1.5169801553943822, 1.4443917137139013, 1.6666685205339178, 1.6328532921840049, 1.5230366356294498, 1.7566111835032827, 1.9354111864225485, 1.6681812292408082, 1.8106807425058553, 1.4262729627742465, 2.0269284789624518, 1.927976281365435, 1.4732744559858382, 1.9303909913811108, 2.2470182742037825, 1.5714562497868865, 1.062078891520658, 1.422767985788812, 1.7208035774591506, 0.9860498845224885, 1.8019126888290709, 1.7343064500329668, 1.9053403654405696, 1.7773376086664512, 1.5857848446555785, 1.8420960823276733, 1.8117079279951072, 2.0590414932433085, 1.6934062873507059, 2.0692145257525483, 1.7428600993799126, 1.0418998251347409, 1.9917165296096002, 1.6922487070327805, 1.8506662589628646, 1.2520481481053358, 1.4957019103314861, 1.2645084463808989, 2.090134470886503, 1.2187210026611381, 1.9062697013482306, 1.7906719616615292, 1.5370494463702236, 1.7416803669602035, 1.4100356276913786, 1.6744228972986785, 1.230890553463076, 2.2023338541792623, 1.5120616465189731, 1.2833866910675134, 1.9543414419405378, 1.7358577182919974, 1.1790736733275895, 1.604287259257445, 2.0651985991610715, 1.0318385184846313, 1.9216503073013516, 1.887028583237915, 1.5228439474852278, 1.1614769034332302, 1.3396248650827605, 1.4003671451710316, 1.8114283927875068, 1.5754884345426583, 1.888854428014507, 1.8159910301220423, 1.7665230854122378, 2.032748305040948, 2.067796280913677, 1.752238815816218, 1.562557621531481, 1.9122493787159014, 1.164675954045191, 1.4681222187266898, 1.872636829563417, 1.5468122471706214, 1.5003111977828936, 1.7652241448656139, 2.2541996011693968, 1.8393983636946984, 1.635101934621165, 1.7195851535256665, 1.0638237830170565, 2.0554166414144532, 1.4018773630638133, 1.866856339742847, 1.5214756052581788, 1.1452342140267429, 1.1010767524687082, 1.3413713960849305, 1.2032123766309886, 1.5996860903515295, 1.5406247339834007, 1.7753916019108533, 1.2190863009160333, 1.395957941293324, 2.2838144219433207, 1.5195763301832985, 1.2204193854271463, 1.412806153422103, 1.690599749848771, 1.6048554728310476, 1.3986486181288058, 1.60308694954579, 1.4341215820576154, 1.54400106567785, 1.5930958047916843, 1.4494035003798853, 1.1608712984321286, 1.38150416527665, 1.3634292065007125, 1.1774977444570898, 1.5159084920116266, 1.6644000858098704, 1.5375485044959833, 1.763251409872192, 1.6367698824505261, 1.6579039186452074, 1.3279104676361408, 1.3885205503010394, 1.7541407060058014, 1.8102586482848297, 1.52842670642366, 1.4545367851527229, 1.4260470536217986, 1.5627139293460515, 1.3695854076099583, 1.6383953595577836, 1.8506817986384205, 1.8957227490829565, 1.7472803995088797, 1.4464534337960229, 2.1349777042193856, 1.7371078750799558, 1.6876687477047811, 1.1497197123004907, 1.7412516408049539, 1.403729575702889, 1.869657110406067, 1.478129324331446, 1.627311463539764, 1.3511099480536999, 1.6586720194494198, 1.4052165928490532, 1.0835423853613912, 1.2088430925071163, 1.2075956031406712, 1.6462691590689713, 1.684448457078354, 1.6219986914271625, 1.680806996896193, 1.3602183088710351, 1.5467979834603722, 1.3083055708110045, 1.4213828955019474, 1.4212777368759584, 1.6595138177323372, 1.8451223772460568, 1.741051703767079, 1.573168431866215, 1.4770271556535335, 1.2691719673047757, 1.8037289863949713, 1.5607334312701586, 1.6447333577463894, 1.1399167078377055, 1.843480773812178, 1.8286173487646902, 1.556895989768518, 1.5625006424841652, 1.7107645738153594, 1.2059844404487843, 1.6335819570892491, 1.5644344630730982, 1.6451166224397373, 1.6544901718680542, 1.5984759779812407, 1.1133450062738697, 1.6928587491242708, 1.7461400185473122, 1.8106541557881675, 1.2770584018927096, 1.3776945706980386, 1.3766678727222588, 1.3509764723029682, 1.1997473358630095, 1.7939378453555541, 1.4694367181643513, 1.4183369576837486, 1.7412584374077396, 1.7146647142900584, 1.6937309079981715, 1.6551031453607377, 1.779332064591608, 1.6374151135421435, 1.6420605279668647, 1.3772380357594312, 1.778017071902819, 2.0229736955194966, 1.478294011578281, 1.2970915204765625, 2.1682846647695007, 2.073039329053924, 1.657801862428324, 1.4029668839961997, 1.632303877396065, 1.5041175937225415, 1.6556091313178167, 1.3642501673400664, 1.6596015185979847, 1.2501133533158344, 1.5412179409761022, 1.5995215463447539, 1.5655121734828457, 1.653174456808677, 1.4525119785254537, 1.6848984400209255, 1.7272791083270196, 1.4701740967158288, 1.237003070592811, 1.3114579428212754, 1.1704678619398552, 1.420119962645185, 1.1536733757847986, 1.6325135835325255, 1.6382034149385183, 1.8046191602554644, 1.5193917354875242, 1.426243403348239, 1.5508267772274251, 1.5843423802470742, 1.4221429781424773, 1.5949436361229654, 1.2941860142685884, 1.6663750063352731, 1.4408443261640793, 1.6113946648926174, 1.7969060980610574, 1.0700616286625781, 1.8159944161116068, 1.36596487151868, 1.476433523906355, 1.3984901750810734, 1.7659138403786343, 1.340396533942179, 1.5691650186202613, 1.8194262626678956, 1.119275990102656, 1.4653523612218085, 1.3166695193201614, 1.1162906295266342, 1.4550946688797266, 1.2849999372044179, 1.4701822252615926, 1.5447804786605717, 1.347765502187799, 1.5240774619134578, 2.1218129846002842, 1.1373864004423475, 1.6742285038261573, 1.4469134782043476, 1.7478745278661825, 1.4544020593697464, 1.9153293380320944, 1.7579011857179418, 1.8466738626262234, 1.5190851184248826, 1.4590148937123362, 1.696658480975558, 1.4751574551353572, 1.0945657441877346, 1.576498835095141, 1.5639785768460746, 1.800012054064362, 1.8305154054191082, 1.601768409950345, 1.465361197071557, 1.7960987726838713, 1.0168326577426638, 1.3776793319322838, 1.7240128807630002, 1.527601206468119, 1.3462941260905317, 1.599361208693123, 1.481293544794226, 1.3032605899528245, 2.095099080226389, 1.7094547863116731, 1.1529739828415717, 1.4648363217876883, 1.5320158224314455, 2.245879393696633, 1.5964030038045516, 1.6692118180415099, 1.3048451870179256, 1.8886531827147555, 1.6099712650991165, 1.4705721568023595, 1.7354700258931977, 1.2873466780833462, 1.6418682477444206, 1.885761530244002, 1.5837579085486466, 1.5096459149519033, 1.8392178498125604, 1.7640626272838111, 1.3086845718817104, 1.4361623657006513, 1.7379063222789277, 2.095841698604239, 1.546719417865929, 2.2088697553943635, 1.7798314724670041, 1.7253344606122143, 1.7066885847454218, 1.328483896270712, 1.3108467129307257, 1.648377221082699, 1.5724009730804547, 1.7191748462384617, 1.7502166038182925, 1.6581548142520117, 1.7147440580271764, 1.5050400484728126, 1.5852876582532516, 1.177864998610355, 1.5759865536131705, 1.44541256172885, 1.7841751645529205, 1.324584636551052, 1.4777244256910174, 1.5892356207081129, 1.1125818255134272, 1.6297336936315097, 2.2364777595782948, 1.4982009483284529, 1.3780124888879386, 1.4151714807060851, 1.1580019768686372, 2.139453985020595, 1.7561994911055194, 1.7694974234781942, 1.7274362117529884, 1.530700708977793, 1.0868224450828348, 1.4362103863684013, 2.1026513635289064, 1.0762426685190902, 1.0748463276700393, 1.4587592337472537, 1.345824651577084, 1.474149057065621, 1.5091492414623011, 1.8002785561707304, 1.4603678512771618, 1.5304518351220562, 1.378075202580453, 1.4446097298892833, 1.187018987116089, 1.6261211600707308, 1.2935664736578953, 1.6475301860758473, 1.5042939948439302, 1.5538174013397805, 1.4254120007072246, 1.4359859687990038, 1.7593189632301058, 1.5270990195270562, 2.2202018992235097, 1.611938186528688, 1.21410705351592, 1.8786963471248261, 1.438028420205918, 1.12713456457116, 1.9463324841045313, 1.4346682876900814, 1.7223854977562012, 1.554304491449902, 1.626788904604576, 1.2735870714779842, 1.604590295394484, 1.6725403759558997, 1.5242674323561385, 1.3474378561780482, 1.5523697563993004, 1.7796558491723886, 1.7071557033567695, 1.378418766266278, 1.1422173665106088, 1.5643027597956662, 2.2948304165043623, 1.5267439429349545, 1.8346606157889283, 1.5472173925411625, 1.615850856568624, 1.639562742551151, 1.680141424785678, 2.2015319607037362, 1.5467722186132975, 1.7429658646733746, 1.7261359105073946, 1.7015135601267801, 1.5730728874539812, 1.5359197438979968, 1.7326308442714826, 2.0270915299260226, 1.5630584677289177, 1.8725256541056847, 1.544072157545741, 1.570234278467577, 1.4965821816031113, 1.362400569340531, 1.5792574474311682, 1.5249159667223258, 1.536353655187602, 1.8317615129569855, 2.068327009847812, 1.49168965587853, 1.4522950528220882, 1.5621724093716747, 1.4555732304914755, 2.106805272170291, 1.740540977007487, 1.2329241188962876, 1.84062343473172, 1.5025390115022124, 1.6032042318370483, 2.226776822700906, 1.528136711706696, 1.7839439890836808, 1.833482092783705, 1.6923414700568458, 1.9319750093745853, 1.1792729459038478, 1.7799560588604257, 1.7756120728224716, 1.7829429917243953, 1.5843685994484296, 1.7915245910647783, 2.188027413900874, 1.7311982790100129, 1.8220234397465047, 1.9934000629712987, 1.7301810383030711, 1.6752598448988896, 1.5480820908732347, 1.5535575890605449, 1.7763373780907807, 1.9656786332423635, 1.714408888813658, 1.4929485859831078, 1.2012266423891818, 1.5190823441738734, 1.6793728338592246, 1.7626186012656953, 1.406570405990714, 1.2772487496745057, 1.7265477556915172, 1.7271249387675782, 1.4100366382043348, 1.4044303209987299, 1.80380124646609, 1.4465502701258666, 1.6575877400859458, 1.754427145947097, 2.17085189082975, 1.297589518655644, 1.6368234604500427, 1.545373589951351, 1.213744502230354, 1.6434041123716787, 1.9106262809458818, 1.3185588445881098, 1.695483880280729], \"xaxis\": \"x2\", \"y\": [-3.335558226438417, -2.9066472117734685, -2.4777361971085194, -2.0488251824435704, -1.6199141677786217, -1.191003153113673, -0.762092138448724, -0.33318112378377496, 0.09572989088117367, 0.5246409055461223, 0.9535519202110709, 1.3824629348760205, 1.811373949540969, 2.2402849642059177, 2.6691959788708672, 3.098106993535816, 3.5270180082007645, 3.955929022865713, 4.384840037530662, 4.81375105219561, -3.335558226438417, -2.9066472117734685, -2.4777361971085194, -2.0488251824435704, -1.6199141677786217, -1.191003153113673, -0.762092138448724, -0.33318112378377496, 0.09572989088117367, 0.5246409055461223, 0.9535519202110709, 1.3824629348760205, 1.811373949540969, 2.2402849642059177, 2.6691959788708672, 3.098106993535816, 3.5270180082007645, 3.955929022865713, 4.384840037530662, 4.81375105219561, -3.335558226438417, -2.9066472117734685, -2.4777361971085194, -2.0488251824435704, -1.6199141677786217, -1.191003153113673, -0.762092138448724, -0.33318112378377496, 0.09572989088117367, 0.5246409055461223, 0.9535519202110709, 1.3824629348760205, 1.811373949540969, 2.2402849642059177, 2.6691959788708672, 3.098106993535816, 3.5270180082007645, 3.955929022865713, 4.384840037530662, 4.81375105219561, -3.335558226438417, -2.9066472117734685, -2.4777361971085194, -2.0488251824435704, -1.6199141677786217, -1.191003153113673, -0.762092138448724, -0.33318112378377496, 0.09572989088117367, 0.5246409055461223, 0.9535519202110709, 1.3824629348760205, 1.811373949540969, 2.2402849642059177, 2.6691959788708672, 3.098106993535816, 3.5270180082007645, 3.955929022865713, 4.384840037530662, 4.81375105219561, -3.335558226438417, -2.9066472117734685, -2.4777361971085194, -2.0488251824435704, -1.6199141677786217, -1.191003153113673, -0.762092138448724, -0.33318112378377496, 0.09572989088117367, 0.5246409055461223, 0.9535519202110709, 1.3824629348760205, 1.811373949540969, 2.2402849642059177, 2.6691959788708672, 3.098106993535816, 3.5270180082007645, 3.955929022865713, 4.384840037530662, 4.81375105219561, -3.335558226438417, -2.9066472117734685, -2.4777361971085194, -2.0488251824435704, -1.6199141677786217, -1.191003153113673, -0.762092138448724, -0.33318112378377496, 0.09572989088117367, 0.5246409055461223, 0.9535519202110709, 1.3824629348760205, 1.811373949540969, 2.2402849642059177, 2.6691959788708672, 3.098106993535816, 3.5270180082007645, 3.955929022865713, 4.384840037530662, 4.81375105219561, -3.335558226438417, -2.9066472117734685, -2.4777361971085194, -2.0488251824435704, -1.6199141677786217, -1.191003153113673, -0.762092138448724, -0.33318112378377496, 0.09572989088117367, 0.5246409055461223, 0.9535519202110709, 1.3824629348760205, 1.811373949540969, 2.2402849642059177, 2.6691959788708672, 3.098106993535816, 3.5270180082007645, 3.955929022865713, 4.384840037530662, 4.81375105219561, -3.335558226438417, -2.9066472117734685, -2.4777361971085194, -2.0488251824435704, -1.6199141677786217, -1.191003153113673, -0.762092138448724, -0.33318112378377496, 0.09572989088117367, 0.5246409055461223, 0.9535519202110709, 1.3824629348760205, 1.811373949540969, 2.2402849642059177, 2.6691959788708672, 3.098106993535816, 3.5270180082007645, 3.955929022865713, 4.384840037530662, 4.81375105219561, -3.335558226438417, -2.9066472117734685, -2.4777361971085194, -2.0488251824435704, -1.6199141677786217, -1.191003153113673, -0.762092138448724, -0.33318112378377496, 0.09572989088117367, 0.5246409055461223, 0.9535519202110709, 1.3824629348760205, 1.811373949540969, 2.2402849642059177, 2.6691959788708672, 3.098106993535816, 3.5270180082007645, 3.955929022865713, 4.384840037530662, 4.81375105219561, -3.335558226438417, -2.9066472117734685, -2.4777361971085194, -2.0488251824435704, -1.6199141677786217, -1.191003153113673, -0.762092138448724, -0.33318112378377496, 0.09572989088117367, 0.5246409055461223, 0.9535519202110709, 1.3824629348760205, 1.811373949540969, 2.2402849642059177, 2.6691959788708672, 3.098106993535816, 3.5270180082007645, 3.955929022865713, 4.384840037530662, 4.81375105219561, -3.335558226438417, -2.9066472117734685, -2.4777361971085194, -2.0488251824435704, -1.6199141677786217, -1.191003153113673, -0.762092138448724, -0.33318112378377496, 0.09572989088117367, 0.5246409055461223, 0.9535519202110709, 1.3824629348760205, 1.811373949540969, 2.2402849642059177, 2.6691959788708672, 3.098106993535816, 3.5270180082007645, 3.955929022865713, 4.384840037530662, 4.81375105219561, -3.335558226438417, -2.9066472117734685, -2.4777361971085194, -2.0488251824435704, -1.6199141677786217, -1.191003153113673, -0.762092138448724, -0.33318112378377496, 0.09572989088117367, 0.5246409055461223, 0.9535519202110709, 1.3824629348760205, 1.811373949540969, 2.2402849642059177, 2.6691959788708672, 3.098106993535816, 3.5270180082007645, 3.955929022865713, 4.384840037530662, 4.81375105219561, -3.335558226438417, -2.9066472117734685, -2.4777361971085194, -2.0488251824435704, -1.6199141677786217, -1.191003153113673, -0.762092138448724, -0.33318112378377496, 0.09572989088117367, 0.5246409055461223, 0.9535519202110709, 1.3824629348760205, 1.811373949540969, 2.2402849642059177, 2.6691959788708672, 3.098106993535816, 3.5270180082007645, 3.955929022865713, 4.384840037530662, 4.81375105219561, -3.335558226438417, -2.9066472117734685, -2.4777361971085194, -2.0488251824435704, -1.6199141677786217, -1.191003153113673, -0.762092138448724, -0.33318112378377496, 0.09572989088117367, 0.5246409055461223, 0.9535519202110709, 1.3824629348760205, 1.811373949540969, 2.2402849642059177, 2.6691959788708672, 3.098106993535816, 3.5270180082007645, 3.955929022865713, 4.384840037530662, 4.81375105219561, -3.335558226438417, -2.9066472117734685, -2.4777361971085194, -2.0488251824435704, -1.6199141677786217, -1.191003153113673, -0.762092138448724, -0.33318112378377496, 0.09572989088117367, 0.5246409055461223, 0.9535519202110709, 1.3824629348760205, 1.811373949540969, 2.2402849642059177, 2.6691959788708672, 3.098106993535816, 3.5270180082007645, 3.955929022865713, 4.384840037530662, 4.81375105219561, -3.335558226438417, -2.9066472117734685, -2.4777361971085194, -2.0488251824435704, -1.6199141677786217, -1.191003153113673, -0.762092138448724, -0.33318112378377496, 0.09572989088117367, 0.5246409055461223, 0.9535519202110709, 1.3824629348760205, 1.811373949540969, 2.2402849642059177, 2.6691959788708672, 3.098106993535816, 3.5270180082007645, 3.955929022865713, 4.384840037530662, 4.81375105219561, -3.335558226438417, -2.9066472117734685, -2.4777361971085194, -2.0488251824435704, -1.6199141677786217, -1.191003153113673, -0.762092138448724, -0.33318112378377496, 0.09572989088117367, 0.5246409055461223, 0.9535519202110709, 1.3824629348760205, 1.811373949540969, 2.2402849642059177, 2.6691959788708672, 3.098106993535816, 3.5270180082007645, 3.955929022865713, 4.384840037530662, 4.81375105219561, -3.335558226438417, -2.9066472117734685, -2.4777361971085194, -2.0488251824435704, -1.6199141677786217, -1.191003153113673, -0.762092138448724, -0.33318112378377496, 0.09572989088117367, 0.5246409055461223, 0.9535519202110709, 1.3824629348760205, 1.811373949540969, 2.2402849642059177, 2.6691959788708672, 3.098106993535816, 3.5270180082007645, 3.955929022865713, 4.384840037530662, 4.81375105219561, -3.335558226438417, -2.9066472117734685, -2.4777361971085194, -2.0488251824435704, -1.6199141677786217, -1.191003153113673, -0.762092138448724, -0.33318112378377496, 0.09572989088117367, 0.5246409055461223, 0.9535519202110709, 1.3824629348760205, 1.811373949540969, 2.2402849642059177, 2.6691959788708672, 3.098106993535816, 3.5270180082007645, 3.955929022865713, 4.384840037530662, 4.81375105219561, -3.335558226438417, -2.9066472117734685, -2.4777361971085194, -2.0488251824435704, -1.6199141677786217, -1.191003153113673, -0.762092138448724, -0.33318112378377496, 0.09572989088117367, 0.5246409055461223, 0.9535519202110709, 1.3824629348760205, 1.811373949540969, 2.2402849642059177, 2.6691959788708672, 3.098106993535816, 3.5270180082007645, 3.955929022865713, 4.384840037530662, 4.81375105219561, -1.2769914354484442, -0.6102464823957553, -1.1558276224926671, -1.140160536728518, -2.2034181847879912, -0.3910040077231344, -2.0580063180016364, -0.813262637241581, -0.5014639819631113, -0.8327595295914954, -0.25380347539671977, -1.8316820510318244, -1.8289530771248454, -0.006457735158722666, -1.8058331139220956, -0.7256430154527159, -2.2931381894266956, -1.4163139922000472, -1.342076463020884, -0.24873915457737067, -0.14476514104370847, -1.53686531263109, -1.9914330861227685, -1.4718529878771132, -1.8774768554387162, -0.42780376861498803, -1.1889711590727474, -0.14998644332421468, -1.1042848563094072, -2.2615951264071406, -1.3699361378890096, -1.7261610994610104, -1.7543382616058725, -0.9248925983782612, -2.895176622082168, -0.28779595434482536, -0.5534008722337891, -1.3130836329052262, -1.2259242245256443, -1.1262991116031, -1.9603288589319685, -1.7399056252194889, -1.204239869746169, -2.4591654500071978, 0.28171688570165343, 0.12622789645838267, -1.7923191753787933, -1.4279210156690836, -0.14162500320120378, -2.0170723402528274, -1.626215347493723, -1.188662909303444, -0.45898775828251986, -1.251061587306423, -1.1144512485151756, -0.2643794456616678, -0.01944161218986107, -0.6954229294895388, -1.5692862129728564, -2.2384038385355876, -1.0455615799694187, -2.383432985902264, -0.18398499260409493, -1.4502707046796015, -1.188151139836436, -2.0066536398889676, -1.386861397462487, -1.5152168183549775, -0.824119338051003, -2.139708258474463, -0.3926658746403733, -1.1779126452212785, -0.18278663666982758, 0.32697422744941207, -2.377279246428967, -2.0760935775969194, -1.2895477055030407, -1.5221975287761256, 0.9668018215358625, -2.0472960710663384, -0.19766538173499373, -2.3395175298685116, -2.4312715934320064, 0.20266159957832897, -1.6665063407897769, -0.4948153917169497, -0.6362762657064444, -1.848563395470403, -2.1931080204968803, -0.03511850974208386, -0.21435762295247518, -0.5217527882476681, -0.9204576596671897, -1.2308384486958708, -0.6102829770937597, -1.2329562300963863, -0.780544049495907, -2.175035500947946, -1.0753164349306585, -2.8936377983728496, 0.36811080653190986, -0.021174353417398817, -2.2518229086005386, -0.23843872823568193, -0.19737831970051434, 0.17696825197574062, -1.254117092645819, -1.2411262497359017, -1.2409909407412918, 0.4278705584181869, -1.1543080241101662, -0.5457390003117735, -0.2982325430663905, -0.6486485616344257, -0.8602971787399833, -2.1080369883728123, -0.9844372085484636, 0.05604320845531485, -0.5723481413773212, -1.7122320246906253, -1.5315129483713639, -1.1390991016372112, -0.47737813337314805, 0.36618044647459935, -2.0378678365479814, -1.1724761490258953, -2.072856024703238, -1.29320010697529, -0.22726353834350108, -0.0007635496316679702, -0.4781088690860972, -2.6058942712879625, -1.2061196803706, -0.5292513121887117, -1.7936204972280902, -0.15151688405003927, -1.1176836267661545, 0.08980373974571454, -0.5867905232985926, -1.3799080549013747, -1.9746360681094555, -1.8122410100401902, -2.2040618058969903, -0.12882498213603397, -0.8788807913672456, -0.4294162456857024, -1.3950363370859782, -0.20487605660940103, -0.6511415815907518, -1.2280714385830493, -1.3953118905965087, -1.0354509200178796, -0.7084208272155776, -0.5439808200714804, -1.4422924133031123, -1.5741583898816103, -0.9679427756739962, -1.3538744646546097, -2.7095774076366697, -1.148415170991247, -0.33392747259429545, -1.6832168989969003, -1.3905132463562466, -0.1158766303919962, -0.1971199377249633, -0.02926566982612444, -1.3118771104908804, -2.5856476936385446, -1.3553368899704812, -1.2299559743815078, -0.35455614558668147, -3.299308458916209, -0.9107723094924489, -1.8064917998121448, -1.4725273937453744, -1.2716498627987005, -1.0138024043202463, -0.28042847591821474, -0.6830855546776955, -1.4672866629183263, -0.987918197016104, -1.7776264379207118, -1.2539577378618332, -0.5502849170524338, 0.21485424579867007, -0.5486555822654746, -0.5850948301276998, -0.29467804840140466, -2.718440776344205, -1.2012245060155475, -0.7659286941180372, -0.6794889893416691, -2.1489227779369635, 0.2545839655110971, -1.6192035674403247, -1.0368988983508902, -1.4144094286336066, -0.1722316033079, -0.899885787648276, -1.6388256734296551, -0.21921312851453947, 0.033232419514675704, -2.2053095459015624, -1.2455800371698038, -2.299039760594307, -2.346569117644441, -0.6081591945625724, -1.8276404832444673, -1.669072474647459, 0.3367981628994371, -0.016728549306510743, -1.2016923266391724, -0.900000791839271, -1.9720137524429158, -2.7410233763078566, -1.723401219893316, -0.9475911570625538, -2.1204877732710683, -0.4625988960850584, -0.3740923127378493, -0.5984911121244807, -1.2285555961465782, 0.15191799801079375, -0.3194665583718873, -1.5722520650737857, -1.1775771910738282, -0.19001160340652204, -0.748829565433682, -0.9274968941906937, -1.180614198798911, -0.8774987068222557, -1.179497760453216, -1.0871351623811478, -3.014106000757642, -1.3621154981976877, -2.085001319953425, -1.7679136823239927, -2.342797628401132, -0.682098095176383, -0.5343530506129218, -0.3554905050598244, -1.6469026521396408, -0.4837609341279894, -2.1043211771828667, -1.771412398902657, -2.496062711258001, -0.7675622464925662, -1.4018156963997384, -0.9726535125546447, -1.6340282053396369, -0.3937849233492385, 0.01441554155196173, -1.545548877368374, -0.2556015280939745, 0.5731449109904636, -1.607541996253783, -1.184806817056416, -1.0806590643016734, -0.15699295429169766, 0.8662987638623656, -1.0368279914877103, -1.082603801783951, -2.0863524788363774, 0.1341624923384182, -0.5086724747130911, -1.0231757312554766, -0.9613644450760469, 0.387771319012409, -2.1529210328954584, -1.910433003015551, -0.31550169113112897, -0.9550027177953595, -1.0624728191627244, -0.5685288093814082, -0.9809093593509416, -0.3194911873083694, -0.24022481074258417, -0.7084997735166016, -1.3099753638335976, -0.16680638584071744, 0.1332875366381457, -1.1023175380194061, -1.2353167553928348, -2.620679011833441, -0.796021608976701, -2.1578476039348136, -0.8529722024879506, -1.7344350541406985, -2.0983063734430725, -1.045340605432535, -2.480722503654127, -1.3654374719996951, -0.8565637276827295, -0.1143777856728776, -2.021708150803818, -0.979810346188126, -1.9881948309524513, -0.2306291944898923, 0.6490178772955277, -0.9715653448541468, 0.3830021747433566, -1.946137892846987, -1.4364088471151844, -1.0985928648061634, -2.1910513543749914, -0.8444166807908721, -0.932283892918948, -1.93817898297723, 0.06973497921310146, -2.1887017124027346, -0.3981616298637417, -1.3303384755517773, -2.3625128836010405, -2.072715890979203, 0.5729589902960746, -1.048555095191069, -1.3494746716434434, 0.29591227192652414, -0.19376830818265448, -0.41770758920874373, -0.8247240677264215, -1.4881925407315846, -2.269964903114108, -0.2005410942438268, -1.1957444596859415, -2.3092072462543975, 0.17232259413197815, 0.11406802375668429, -0.8024018043021905, -1.203208641502831, -0.7617057275640233, -0.23999676442004492, -1.300265641481316, -0.4984859669085848, -1.6566053580166789, -1.3968626780134425, -0.8399939021454039, -1.4751592370444744, -0.5287061226452927, -0.37175647710838705, -2.2121537319401074, -1.0946582250560637, -1.4901625962708507, -1.8263442163834631, -0.7113353570763356, -1.8128887291350777, -0.7100816570816622, -0.27675456788624875, -0.6535219732428132, -1.3128765819004122, -0.20437466933699058, -1.14677558527397, -0.7774526016134305, -1.6799139638250422, -2.095586839295169, -0.2807932397665496, -0.38432663140239276, -2.211314925374307, -2.4756669602558414, -0.9177703274584607, -1.4706194714683354, -0.2589851187221426, -1.5564039654880257, -1.0458546602924073, 0.08008380206478333, -2.576875179019589, -1.028272226313201, -1.4480128158493608, -0.10772175696995523, -0.6560811436782259, -0.7934573483707612, -0.8146956470397526, -0.6256852512980619, -0.6599777231356266, -0.0804389449093631, -1.5469809333229454, -1.4306193042312882, -0.3808034569778901, -1.414382915616551, -0.7532881432109897, -0.10933693805843808, -2.390484091674039, -1.1052298134070153, -0.256235823483168, -1.3269127873241717, -0.15627157810161768, -0.9327260812279896, -1.7230157983797563, -1.1932272862770523, -2.5106732326364676, -2.020901072182639, -2.1733573759751224, -1.1572475569865492, -0.8107212443587086, -2.0841144696644647, 0.024224372636481972, -0.34985153996178553, -0.7618472394611746, -2.2146287443492083, -0.9081441385678182, -0.2037003498122847, -1.0227798380905289, -0.8929231768041439, -0.1536249587372461, -0.39050318116803373, -0.5049221159475774, -1.4722037322886756, -0.9531458825842962, -0.21785730189200275, -0.5904128203695441, -0.5756896024091642, -1.0003950804891746, -0.200235256500073, -0.6738878533822821, -1.281009419047153, 0.03947645341378769, -0.590874118736678, -1.3340808663082435, -0.8576894268010291, -0.6226191240273583, -1.1242735330768436, -0.523537032404714, -1.046735423832129, -0.9051831602730053, -1.282921972362854, -0.23315248778548675, -1.1874075000795286, -1.4799379967296824, -0.5533589234979898, -1.2262816342876561, -0.7947980870353576, -0.08178133264570062, -0.40375072905635073, 0.13061970719775123, -0.811199427124321, -0.9135591124787399, -1.1031239525821723, -1.288779051459188, -0.9523984448633217, -1.372857639040351, -0.3970296425865206, -0.15978936657385873, -1.2801419124570135, -1.3391415486873286, -1.3825105261377306, -1.0166789558259306, -1.4530171611894855, -0.9752987061188764, -1.7235175618478038, -0.1932556111886629, -0.7674318518211849, -1.1540540192024924, -0.8078881299420151, -1.0692525431337134, -1.2049408724822033, 0.6660865548853213, -1.2869978527274966, -0.5213403685515006, -1.7879637139781308, -1.7812701205325672, 0.3802008284722903, 0.0022953239902791522, -0.9180528727459605, -1.1260674815583789, -0.9194139211436185, -0.18944272608672544, -0.7573501297332932, -1.0879834916228486, -1.5128624126605041, -1.316525826574591, -1.2149966540880643, -1.6447344825330596, -1.1381880895151002, -0.350268825942767, -1.4826912431770771, -0.016437027585118037, -1.486230658130362, -1.07869032785789, -0.002359933818148585, -1.3450699500065255, -1.7440264081487897, -1.2547985472315808, -1.2442470561827752, -0.31257251353404814, -0.1407853520783195, -0.47453406763325545, -0.3820839160240518, -1.2099768452347957, -1.7253947988039435, -0.6843767086715613, -1.750135192894808, -1.6765527235970894, -1.1942937395983932, -1.2498951000761604, -0.328673262330754, -0.22971100260841565, -0.9067535550704823, -0.5476526068712033, -0.486385769813987, -1.4649999112340875, -0.824010397978088, -0.8679487387660506, -1.232640134799333, -0.22156337337986493, -1.0343251541109142, -0.858028602045543, -0.6426630645630331, -0.7834691624528566, -0.19643480288103782, -0.4747694681814188, -1.1849410952394832, -1.7471664275662218, -0.948574469541919, -0.5935590741903285, -1.5110988957336313, -0.5656502994500755, -0.442711941398196, -0.600591463743072, -1.234302467361922, -1.0133575555049956, -1.4900523164677677, -1.2349626446454771, -0.8060592768846694, -0.2278187130275937, -0.32991746179995596, -1.3296841585025185, -0.5102584416595174, -1.5574535272758627, -0.9338913282653943, -0.10561016778460174, -0.9832070773861855, -2.0440516208128963, -1.298836189701631, -0.549863797646717, -0.8286963645836306, -0.23914940528446307, -0.7382934186817718, -1.2470178206405806, -1.494627992305245, -0.028042668361767914, -2.280629876956688, -0.11829440680592448, -0.3296545248441186, -0.7026652998611956, -1.3430062616389928, -0.9902214542757569, -1.1219423373803994, -0.6091259129827321, -1.351679319843082, -1.235643138443292, -1.5899867718173273, -0.5337610994196802, 0.5035827195467437, -1.0073139402170768, -1.0494478106805576, -2.123532464796397, -0.9153281377496044, -0.6677644788705468, -1.595686996690753, -1.0404171193547183, -0.9616375830069882, -0.3777227625681406, -0.8690354241018107, -0.19722861584796242, -1.1434335834966993, -0.4431461370264916, -0.8704629519705468, -0.6258747754290138, -1.4255779535496331, -1.5364529182876383, -0.27898406561979805, -0.8854375318071326, -0.8179028331119413, -0.3023183452058974, -1.0217005355736704, -0.2076549112507587, -1.6289919761187546, -0.7741516981351464, -1.083055674984263, -0.04098042838866245, -1.2152256138323685, -1.7337660367230887, -1.3816981767606764, -1.1636121097049559, -0.6141335977400075, -1.00902474199677, -0.4577474345248187, -0.2915414553164236, -1.9244269768669746, -0.8469252604124049, -0.07448493893144431, -1.045759682891553, -0.5649231770797252, -1.3318791764680111, -1.2052616827125764, -1.2539231763635081, -0.061757384679458516, -0.3298703825270765, -0.7684989553955954, -0.12279758940163973, -0.48754295547590126, -0.8272697219724814, -1.452579772124691, -0.5147886494996218, -0.5930338903009954, -1.2132488705407434, -1.1812915571094014, -0.4305768147545458, -0.8544458774476484, -1.4347246454276796, -0.6460365083185886, -0.9414225611934377, -1.8149784511220657, -1.0151377346468562, -0.7547846542926705, -1.6830318763713699, -0.3763697716996173, -1.0616769573728095, -0.3529946957473178, -0.22976191892538605, -0.6222257604178951, -0.981198158093044, -0.8046029062753478, -0.0780110636059958, -0.353881579470605, -1.0623079895128285, -1.0302086937346269, -0.77569040505885, -1.7644800136008958, -1.3616354729260993, -0.5879738251795225, -0.7763334724819861, 0.2528663490938175, -1.1860190267263433, -1.2955774485346834, -0.34716669158896357, -0.5483376582257793, -2.071042221763572, -1.143201087340192, -0.8166561380137266, -0.28491903221770776, -1.1985397640310216, 0.4736805126126934, -1.6275469680260692, -1.4477265271501774, -0.7076543351059548, 0.18819719132124266, -0.2915077450910497, -1.435308378489595, -1.4724519140211658, -0.9010596924214992, -0.4984768567329273, -1.3254959702155693, 0.6382370145342902, 0.05089083932223193, -0.2832681661526139, -0.8976181422976844, -1.0165853026836493, -0.1917570283232401, 0.21170474310780615, -1.3416700992023973, -1.0076028019671421, -0.40473770428172484, -0.6224256986288192, -1.249030600648306, -1.1417895917027814, -1.3661269003979737, -0.47919041308761023, -1.1423803484053598, -0.7894054314398248, -1.1867572235035984, -0.4319399326681118, -0.853686138218358, -0.34236496174914716, -1.3341966507948877, -1.5419708885946597, -0.5916664458091122, -0.22038380669106522, -0.8826044649456678, -0.5926345556679375, -0.05655209221985272, -1.9508549818359022, -1.260319055650138, -0.6002827920645987, -1.549291713988759, -1.8690485510741972, -0.5400771526481787, -1.0557131001096465, -1.9527014904856417, -0.4591496777197345, -0.362935584583039, -1.357141008245344, -0.5632794669748971, -0.1277450252331443, -0.8542943039414882, -0.10085171064226507, -1.261077136203756, -0.672551186895961, -0.5732751125309912, -0.48986243724725265, -0.1222282377598563, -0.16228525434238394, -0.31393956828972236, -0.7341069763709936, -1.405924339698911, -1.2842450366367058, -1.198621733206318, -0.38731107463228853, -0.9040507851469006, -1.1913505238253759, 0.4042206845130373, -1.5662087421596742, -1.1966581239613643, -0.7191106905631378, -0.8531907785313346, -1.3458265058189318, -0.07798929887429407, 0.3249466489988718, -0.6590613734512243, -1.082437958429353, -1.1620202282373109, -1.4020651308718763, -0.5087332816007076, -1.157578002916498, -0.10265858901661551, -0.606813645850876, -0.8976068705255359, -0.7976866779884536, -1.307952054821866, -1.0858453930197998, -0.33770733591218705, -0.5706368222397364, -0.9150241770145381, -1.021860318036847, -0.9727961575808405, -0.8777392924888147, 0.027533848953619156, -0.44119962527070505, -0.3771876613264282, -0.9962497081521944, -0.7109141992251549, -0.8851987379198704, -0.8632877080856303, -0.6442226528998398, -0.22142153250451813, -0.9955146341747076, -0.4090941444968266, -0.508601138287788, -1.1619593896152354, -0.6147705817766579, -0.4366222129783593, 0.07631557497805336, -1.3749050134061935, -0.7292094163886405, -1.0105354289207575, -1.0634316425399637, -1.0342269986002646, -1.2619938660665457, -0.8646302006178849, -0.47017531570395754, -0.3166875544486656, -0.25364006015269874, -0.3059557018116681, -0.7006863230183278, -0.9955348715677628, -1.260987044101054, -0.7364677006433457, -0.3241042095881553, -0.19828288523148513, -0.6268427485738861, -1.1298096731959961, -1.293901339913737, -1.2813056805270002, -0.49698269545893925, -0.9916646839392745, 0.19669863381693703, -0.48465465663612506, -0.2736639554395492, -0.8355549578091535, -0.4593769373851107, -0.6281624031343994, -1.192774332797924, -1.0358313437857942, -1.0165663570178878, -0.7354110054187936, -0.31958383742956215, -1.5376053767342897, 0.13227594279446148, -0.8398786939714573, -0.713001282167484, -1.094065594762344, -0.37950196162318856, -0.08857004998132342, -1.844140792440866, -0.2667181377637535, -0.12543773494436652, -0.8849815889013333, -0.5862932638444494, -0.4516823945621599, -0.11084097645674452, -0.6430202059598285, 0.012698679821246256, -0.38013562288063985, -0.21746670859062864, -0.6632598200086881, -1.3556533394591728, -1.1889989862449089, -1.1795291923016995, -1.2334699791701516, -0.6675578513617078, -0.6747678262980881, -1.009380504479239, -1.5159101553960215, -0.6574565664798683, -0.8547966253259025, -1.1565970943260697, -0.5640040441005048, -0.5353973654953117, -1.118971839911886, -0.4162017105280371, -0.7943142776819853, -1.4953145435289028, -1.098868726613513, -1.225495589311729, -1.216340102105396, -0.935744737980354, -1.0874920968853534, -0.9473629290611243, -1.16032057302386, -0.9219168581607575, -0.7475856657570461, -1.2118545774092235, -0.6466412188101889, -1.2972822693461556, -0.7095942927028169, -0.17680925474677733, -0.6571867707756371, -0.42475337245382705, -1.2075557017298084, -1.0744032584350878, -1.0280468484801628, -0.9144549253345103, -0.7507242683356532, -1.3255137402889619, -0.7049860732222057, -0.7425877932635654, -0.9694259469223394, -0.47491088958571925, -0.6919696265379722, -1.041769058066726, -0.693220680093866, -0.9787666885577245, -0.11899372096143554, -0.8860995188648572, -0.4678733124409313, 0.20764729761931086, -1.1108859651059377, -0.9324519328731646, -0.9967814430201809, -1.1404838907021906, 0.01873493759621627, -0.9520727127922293, -1.1506772979527602, -1.0469588117574726, -0.22902130358003542, -0.9051298430371119, -1.028826510189665, -1.3571916888280293, -0.3921876263126651, -1.5082117219112698, -0.8542638215571821, -0.35085872433420173, -0.803508971409464, -0.9351721211113484, -1.0209827337457555, -0.6804821374246666, -0.4574714234222986, -1.1813101721925139, -0.6688337252514354, -1.2574072839987882, -1.214246207560358, -0.9407607416676481, -1.3187682016439508, -1.13073683784732, -1.4766258515296746, -0.5359562413193819, -1.0471426040470921, -1.3354358872212846, -0.6932275852470193, -0.5547626159385359, -1.2182828726912927, -0.8992882028366499, -0.5882013821138452, -0.13737834807829508, -1.0009025446982318, -1.2044392030376694, -0.5527998622493627, -0.5354434093576685, -0.5169462898016487, -0.4080003946333441, -0.7130118593256123, -0.834182275879092, -0.57047636651762, -1.1698628903171098, -1.0483770142752984, -0.12007481791663699, -1.2621869053786396, -0.7038180829018519, -1.1501366902176542, -0.2753327010026143, -1.1026286257821936, -0.8109672822478419, -0.5316255783317367, -1.0594961981654472, -0.9387729868155008, -0.8833545457356341, -1.1680279246513747, -0.3504889461083218, -1.068372908490512, -1.5938133188198262, -1.3434222209260462, -1.2413712804245827, -0.4942479312205505, -1.1725443102926907, -0.6232249733126874, -1.2977824483540275, -0.5107334663679751, -1.060856630182118, -0.4063260071125804, -0.853503175889284, -0.22283240387896674, -0.517422478519273, -0.6572826937952354, -1.0306225012611474, -0.7337040712614883, -0.9955463891405582, -0.6739660980592632, -1.0844672896788667, -0.8507354953036633, -0.8273971348083092, -1.4311781240621015, -0.8581152646051888, -1.0267012705338858, -1.014012436303125, -1.1140882560831071, -1.0789855268551884, -1.3281285838898231, -0.9645070075417739, -0.20463703010671708, -0.3272512525063252, -1.3659335691177865, -1.3317884714043196, -0.9619880095545786, -0.6549087306011785, -1.161986811763513, -1.059668737958054, -1.1356260113706593, -0.6273608035703181, -0.35701755208925706, -0.6958140146564326, -0.5402576413063337, -1.1789205350070142, -0.9025415959718947, -1.109408898651125, -0.7025074882528654, -0.4670040868383349, -0.7147078882396898, -1.1792669694267237, -1.3008177711947806, -1.2642184623475166, -0.9790145575640838, -0.8557618287272499, -0.8389856585777387, -0.44631891803157514, -0.9694904031730175, -1.1575509014076755, -1.4002369850524767, -0.7237105896341681, -1.1403300785576806, -0.4350568237739958, -1.029578530932867, -0.5370932145637478, -0.46611397304675783, -0.5914419724429925, -0.997278922047043, -0.6560392228639038, -0.20646859610174892, -1.0301668857360629, -1.6304555865292338, -0.9482113324921648, -0.5587940698372496, -0.7003115272287723, -0.560325842555424, -0.8495261412340264, -0.8376581807325705, -1.1908892771346204, -1.1920742799046034, -0.8059291876235293, -0.27551225616909064, -0.8900108790551373, -0.7107326719520849, -0.45146779489542566, -1.0782595495758822, -1.2231751091440015, -0.6509219185615119, -0.9855621793834942, -0.9491020895379827, -1.2138463211265078, -0.4686056394942824, -0.8722066928925906, -0.012042694766191561, -1.3389481331142787, -0.5690132687023002, -0.8861530001191931, -0.6723155939391137, -0.8478598911016294, -1.3955998789225688, -0.9789676633608979, -1.0707749875343822, -0.34737008214047954, -0.8580546978360405, -0.6531495722841134, -0.7923235553910416, -1.2009124295326823, -0.42087023990045375, -0.6635762487369257, -0.021929574896400635, -0.8208031254891051, -0.9792776440505722, -0.3114272196432534, -0.9764831047194634, -0.821228062354904, -0.8021514475030757, -0.8238455493890433, -0.5277656676883189, -0.6346232083659278, -0.5998319800145105, -1.1838388020864505, -0.20847384729310148, -0.49326378151622924, -1.1673544411434533, -1.1605806127460128, -0.6562381650168781, -0.8744937091104352, -0.2681047129241399, -0.9771903515491736, -1.2592352547349874, -1.2452742898767641, -1.2637225888958985, -1.3352923576302618, -1.0219696860405827, -0.9076057897315601, -0.9389301555133823, -0.677843706424471, -1.04281810325766, -1.2857871037190634, -0.35238312678375505, -0.6253763245561516, -1.1501669542556687, -0.6438225127819621, -0.8499082118130232, -1.2525733900371019, -0.16270014084331616, -0.5138255895964772, -0.8961250059442264, -0.8570213617850951, -0.3781072501718734, -0.2702675259053677, -1.2514550118059522, -1.4021350059160353, -0.8356032974927087, -0.8795838037165682, -1.2983060933710158, -1.2496881877872228, -0.910944914130642, -0.832244336515405, -0.9691851676978818, -1.294991876018599, -1.0301121005936462, -0.688975208496906, -0.8210857587995667, -0.9455640177322322, -0.40594709960490766, -0.2919157001070755, -1.347571310545579, -1.550336687010755, -0.965579161358582, -1.0734541346262538, -1.369612202801383, -1.0850829474976245, -1.019773360770278, -0.6958103286303443, -0.9005852461960682, -0.06831421148762967, -0.9693873714314913, -1.0869756931308523, -1.4715714073017512, -0.9707146213006336, -0.49788697208866256, -1.3471540408166924, -0.1327619340691708, -1.265051307549094, -1.2570137216669317, -1.1627085317306305, -1.1778279719710654, -0.877937049638828, -0.5910613062412102, -0.8784257195293108, -0.9561943112016016, -0.9267493541140525, -1.154094569432322, -1.3502211243039568, -1.4683608286083132, -1.4823581490950868, -1.115065848969634, -0.8527441635578749, -0.45675166101513387, -0.6706296791070014, -0.9618005963645487, -1.0740719762584072, -1.0285037615599182, -0.4894862818555873, -0.6068368829801778, -0.7966201816891904, -0.6984287068106544, -0.7808245350818281, 0.06569327945206582, -0.43191941545791707, -0.33966550105186327, -0.8359226622903078, -1.0904772462984154, -0.7713491581006353, -0.3723356469911646, -0.5800526291298934, -1.2701740384596403, -1.1322207260761203, -0.6123979664071127, -0.5290355156099393, -1.086761620658221, -0.9189631399820102, -0.954825689459337, -0.2064120215689338, -0.5827559272663227, -0.8038871155181713, -1.2956776018676504, -1.1497907645959604, -0.710969040209254, -0.2255038374015994, -0.32091129577743344, -1.4296929372674534, -1.3105209852799287, -0.3575480054943816, -0.07525257240784478, -0.8867316837645509, -0.5717491084379887, -0.8699355643504433, -0.13646412318577206, -0.6643581206610658, -0.48094540945371655, -0.6007474593928497, -0.39629254889848586, -1.244051133117463, -0.3181263691456476, -0.47530945982111233, -0.9105960562339983, -0.845554357565524, -0.8149412746279534, -0.7237416736181898, -1.207471291619993, -1.3384055890343407, -0.6513852126133498, -1.4594503544807862, -0.5824005248987263, -0.9918910933027983, -0.6186257695315469, -0.10252271698034315, -0.9593558190005559, -1.204290785822645, -0.5644302159046746, -1.1410720274898074, -0.9413826570778503, -0.8004796193562053, -1.022258587608252, -0.22483605178572186, -1.0143292080574684, -0.2631738737107919, -1.0140603639864847, -0.14509302209068514, -1.0018790498225727, -0.9807235968111377, -1.2195287794292788, -0.6559902498436273, -0.6891190459478055, -0.8750476277763295, -0.5842235693800546, -1.1063433804646272, -1.0113453274242943, -1.1109777645905203, -0.19372103979724864, -1.1258902756110651, -0.3273176051552089, -0.5884881780329037, -0.728999342020465, -0.3020316513999988, -0.6846075619213076, -0.3630686282528074, -0.6397522302724445, -0.6894651325324003, -0.5955284006679499, -0.6142602482429234, -0.6868942623987702, -0.5392658445208462, -0.6456569658351254, -0.5910076767438472, -0.6017369883695677, -0.25949465374427627, -0.4252839589228996, -0.7009509327613286, -0.8806620736476078, -0.059647941083143294, -0.22835514584392605, -0.924000373554193, -0.958666499067284, -0.9046443995456735, -0.7395664651918745, -0.6160681839394354, -0.22864579696690648, -0.5847719232027107, -0.3313447920690351, -0.5054332424069173, -0.9232950927352166, -0.9773213579389515, -0.5851670257377346, -0.4785892079576408, -0.5365389174841604, -0.18045615189208913, -0.8359281675844069, -0.36992634516276757, -0.7836021087343417, -0.5246731570689261, -0.34066368783231926, -0.5809681436192278, -0.5669162328527982, -0.4920314034306054, -0.049068769731412054, -0.0778026845725133, -0.6639213214629351, -0.08351394255629795, -0.18743338763415873, -0.3511497188239429, -0.6081916206254743, -0.47910008638253504, -0.1683417237494036, -0.9012630584259291, -0.5386532920107725, -0.220950249124404, -0.5673981715544375, -0.6914978061923567, -0.8806549796499906, -0.8432944925834385, -0.3653104448645024, -0.6160069556564713, -0.597805311658052, -0.436523691829466, -0.5876743383210169, -0.5324644623913561, -0.45512105048470725, -0.7313765014161495, -0.21787446839476912, -0.8467807107220284, -0.27416648337258237, -0.36978719377627317, -0.235381408107056, -0.45498185506000477, -0.7171073581060031, -0.662495686921792, -0.4479612071344151, -0.6739118746847949, -0.1660929241946848, -0.7709485643615615, -0.6322397771835253, -0.5198330768657414, -0.4868766995295629, -0.30692491638638236, -0.8900230592992058, -0.7615753136140901, -0.24485816010405603, -0.792977983334727, -0.8990707984567139, -0.5963041048714353, -0.63532445501174, -0.19754763824181584, 0.010263815774386648, -0.7031717758717186, -0.6744325931838483, -0.46522423053237255, -0.2118837070089931, -0.40345892417433543, -0.637935571871225, -0.799139130399042, -0.24851053272897264, -0.3947061177129597, -0.6939233902573312, -0.5469220956270283, -0.46611888849634986, -0.46108756818698426, -0.5841885679104396, -0.6162897839405189, -0.6054454013435648, 0.03811742951809721, -0.6142688604986459, -0.7639056822534284, -0.3994887031162692, -0.4646234758816321, -0.4500674224546124, -0.45726108826137024, -0.6920993465509903, -0.48343416597234967, -0.6159464805463197, -0.6607917116964117, -0.1312394353707655, -0.5594215503285997, -0.12916990668841968, -0.22314313428819216, -0.6540143370801539, -0.7320759415016485, -0.3845764529253249, -1.0309119033053922, -0.624249249780977, -0.561795168450891, -0.21562542729834835, -0.3886748633566741, -0.3914052897162044, -0.4425592100160455, -0.639127607410386, -0.0956413088004454, -0.5934779447650425, -0.5472099469439362, -0.6722426070114346, -0.16211616161541434, -0.9040835786595707, -0.49653757150798083, -0.6667428613884174, -0.5629830363302286, 0.044111074668951505, -0.3096996718912554, -0.9278691751649228, -0.4515990550406028, -0.7545685002663377, -0.359094177938485, -0.26677696649028726, -0.2050299966400985, -0.3030078102777072, -0.8341873692298236, -0.6591456407891089, -0.953954606647706, 0.027652677935496493, -0.5578638143072653, -0.6591983119225201, -0.4802480567151709, -0.406085022703306, -0.5720240039293417, -0.9374541335499061, -0.31739076453412984, -0.23803016062589688, -0.0900796286188027, 0.14888454896129388, -0.45622079726135906, -0.09868261006906054, -0.3580570928783528, -0.19279709790317473, -0.7664830529851806, -0.5364155338962313, -0.335353115684628, -0.9121109124977353, -0.6111110813367587, -0.3304138713425837, -0.6416366760848882, -0.35657702544439374, -0.11000007459820513, -0.35465811465774977, -0.4557725099897663, -0.7255185464576258, -0.7950409148608573, -0.481125175974462, -0.8350512517429093, 0.0900405281888691, -0.12209707730884516, -0.35058026006508314, -0.38324430664338516, -0.2092433628755753, -0.4582735263758535, -0.8458544973218494, -0.5100084834808433, -0.5770171683814445, -0.3608661063972587, -0.5285467404342351, -0.5948135645282374, -0.32307669321939264, -0.5622888613047252, -0.20177144845945644, -0.3382349381135788, -0.4959219439512332, -0.46755707351491044, -0.4263745521808796, -0.7016634356253673, -0.4289224011827687, -0.598713063977983, -0.11027540079667, -0.4769372277967219, -0.08661350292646572, -0.5981831312852207, -0.7485691456556642, -1.0345572919978183, -0.5080518441671659, -0.6894469269006824, -0.770823888317565, -0.8522286977932574, -0.15312836358107523, -0.5083513851730266, -0.9917366902432869, -0.24071518146446763, -0.3627191525279062, -0.6990286099406446, -0.7392874199010614, -0.25856466443755344, -0.6625178958191252, -0.5503489771709866, -0.728453602477827, -0.06639436282168057, -0.725144882464235, -0.5506736990108728, -0.32817557830487215, -0.39584780789657464, -0.16899941382599715, -0.6627244682921947, -0.4883460097393334, -1.023597648759261, -0.3357062786128979, -0.16638832350320892, -0.3616707145354747, -0.69695702027623, -0.21667376858626688, -0.20851073322316704, -1.0078431936729517, -0.5289671179410397, -0.7239007944484501, -0.49642897080683096, -0.18867092245052586, -0.47121387275450255, -0.3384506591282096, -0.5181656679521591, -0.6565803291481781, 0.04009757686052001, -0.2288061228292329, -0.4224670309918087, -0.8200829973990986, -0.26734409246736685, -0.5318711525083964, -0.1846655981474517, -0.8849526657532495, -0.8701325475963162, 0.005763744144993239, -0.5650214660063304, -0.19513043418751844, -0.6674146853603626, -0.3873138911844061, 0.0040175890869336706, -0.43543832217979117, -0.5222926787634963, -0.259906765764741, -0.6866599379162885, -0.992886257530966, -0.6079217865227872, -0.44843718325593696, -0.6160959089235463, -0.5652224674949997, -0.7709208212716911, -1.1232169191578187, -0.04450700273739787, -0.3201239497846779, -0.8667597839020948, -0.3555552514488368, -0.09297825148569067, -0.29016861116124554, -0.40769135764425435, -0.3592297594898315, -0.6720850466535402, -0.9606121868449786, -0.7301872026989992, -0.6200710152832372, -0.4208467561481489, -0.3571235771070518, -0.46987647577435065, -1.0396648775702766, -0.5571799839750251, -0.818781468171873, -0.33859670600068714, -0.8328216775797191, -0.6824017708900876, -0.2639439497426894, -1.0179724321978623, -0.8778393858516889, -0.08047058795522607, -0.5633761991811306, -0.4232137316066198, 0.008078362123933203, -0.5149502683186548, 0.1646665436610784, -0.013150097765359019, -0.7319109024839073, -0.25477006758434667, -0.31403934650696275, -0.5084298193692633, 0.004751927620129631, -0.6234138911888136, -0.5268012741241915, -0.5464503986312077, -0.3317849209780025, 0.07458856888533641, -0.5431997774500008, -0.09465194581246197, -0.5762633453480114, -0.8289916826197568, -0.8911049751463462, -0.6877052069327676, -0.2846916272834512, -0.3232967525885265, -0.6306740828061873, -0.31073659938555775, -0.3781385026329798, -0.6019469939299964, -0.3970657305147073, -0.4364949558118735, -0.9387861024155547, -0.8907864074909483, -0.8253633025379337, -0.4342458362096533, -0.16534478757101617, -0.4594926787162511, -0.5704402841750935, -0.5703971184701468, -0.8660331644635898, -0.8136827872101035, -0.7714448289003133, -0.21247039473811113, -0.25849718265421023, -0.8430757117979234, -0.6145597563074023, -0.7454750988943903, -0.3285800670875633, -0.490760413693328, -0.05078413884916552, -0.9765023018173018, -0.18909401999239603, -0.3684261209460521, -0.280678974597143, -0.2282828679834818, -0.5251980422317658, -0.2105531085673318, -0.72050601097975, -0.3825813420704877, -0.3789522313931658, -0.4542413083249895, -0.4953789471555851, -1.066854502112145, -0.8705130422705377, -0.3352905329271575, -0.35462831095028485, -0.748646196899312, -0.4910048127267931, -0.7629485872588289, -0.7734679388164177, -0.6589732582471743, -0.7082147401092087, -0.45797128901211354, -0.9043664189415582, -0.5732306851417172, -0.5223442624734411, -0.2068468944737817, -0.18413808024020709, -0.7027249325493993, -0.24519507859760198, -0.541142426563993, -0.44404272097121544, -0.28543399751889587, -0.46345207384538517, -0.4905020221927979, -1.1016422125840717, -0.5316670999726684, -0.4110414158334991, -0.6790524115232803, -0.8839908590330835, -0.8128736334370076, -0.2239880666542654, -0.4983827153847905, -0.3303318971304615, -0.4064675090598298, -0.01794133817188665, -0.6165621986593994], \"yaxis\": \"y2\"}],\n",
       "                        {\"annotations\": [{\"font\": {\"size\": 16}, \"showarrow\": false, \"text\": \"coords\", \"x\": 0.225, \"xanchor\": \"center\", \"xref\": \"paper\", \"y\": 1.0, \"yanchor\": \"bottom\", \"yref\": \"paper\"}, {\"font\": {\"size\": 16}, \"showarrow\": false, \"text\": \"coords\", \"x\": 0.775, \"xanchor\": \"center\", \"xref\": \"paper\", \"y\": 1.0, \"yanchor\": \"bottom\", \"yref\": \"paper\"}], \"template\": {\"data\": {\"bar\": [{\"error_x\": {\"color\": \"#2a3f5f\"}, \"error_y\": {\"color\": \"#2a3f5f\"}, \"marker\": {\"line\": {\"color\": \"#E5ECF6\", \"width\": 0.5}}, \"type\": \"bar\"}], \"barpolar\": [{\"marker\": {\"line\": {\"color\": \"#E5ECF6\", \"width\": 0.5}}, \"type\": \"barpolar\"}], \"carpet\": [{\"aaxis\": {\"endlinecolor\": \"#2a3f5f\", \"gridcolor\": \"white\", \"linecolor\": \"white\", \"minorgridcolor\": \"white\", \"startlinecolor\": \"#2a3f5f\"}, \"baxis\": {\"endlinecolor\": \"#2a3f5f\", \"gridcolor\": \"white\", \"linecolor\": \"white\", \"minorgridcolor\": \"white\", \"startlinecolor\": \"#2a3f5f\"}, \"type\": \"carpet\"}], \"choropleth\": [{\"colorbar\": {\"outlinewidth\": 0, \"ticks\": \"\"}, \"type\": \"choropleth\"}], \"contour\": [{\"colorbar\": {\"outlinewidth\": 0, \"ticks\": \"\"}, \"colorscale\": [[0.0, \"#0d0887\"], [0.1111111111111111, \"#46039f\"], [0.2222222222222222, \"#7201a8\"], [0.3333333333333333, \"#9c179e\"], [0.4444444444444444, \"#bd3786\"], [0.5555555555555556, \"#d8576b\"], [0.6666666666666666, \"#ed7953\"], [0.7777777777777778, \"#fb9f3a\"], [0.8888888888888888, \"#fdca26\"], [1.0, \"#f0f921\"]], \"type\": \"contour\"}], \"contourcarpet\": [{\"colorbar\": {\"outlinewidth\": 0, \"ticks\": \"\"}, \"type\": \"contourcarpet\"}], \"heatmap\": [{\"colorbar\": {\"outlinewidth\": 0, \"ticks\": \"\"}, \"colorscale\": [[0.0, \"#0d0887\"], [0.1111111111111111, \"#46039f\"], [0.2222222222222222, \"#7201a8\"], [0.3333333333333333, \"#9c179e\"], [0.4444444444444444, \"#bd3786\"], [0.5555555555555556, \"#d8576b\"], [0.6666666666666666, \"#ed7953\"], [0.7777777777777778, \"#fb9f3a\"], [0.8888888888888888, \"#fdca26\"], [1.0, \"#f0f921\"]], \"type\": \"heatmap\"}], \"heatmapgl\": [{\"colorbar\": {\"outlinewidth\": 0, \"ticks\": \"\"}, \"colorscale\": [[0.0, \"#0d0887\"], [0.1111111111111111, \"#46039f\"], [0.2222222222222222, \"#7201a8\"], [0.3333333333333333, \"#9c179e\"], [0.4444444444444444, \"#bd3786\"], [0.5555555555555556, \"#d8576b\"], [0.6666666666666666, \"#ed7953\"], [0.7777777777777778, \"#fb9f3a\"], [0.8888888888888888, \"#fdca26\"], [1.0, \"#f0f921\"]], \"type\": \"heatmapgl\"}], \"histogram\": [{\"marker\": {\"colorbar\": {\"outlinewidth\": 0, \"ticks\": \"\"}}, \"type\": \"histogram\"}], \"histogram2d\": [{\"colorbar\": {\"outlinewidth\": 0, \"ticks\": \"\"}, \"colorscale\": [[0.0, \"#0d0887\"], [0.1111111111111111, \"#46039f\"], [0.2222222222222222, \"#7201a8\"], [0.3333333333333333, \"#9c179e\"], [0.4444444444444444, \"#bd3786\"], [0.5555555555555556, \"#d8576b\"], [0.6666666666666666, \"#ed7953\"], [0.7777777777777778, \"#fb9f3a\"], [0.8888888888888888, \"#fdca26\"], [1.0, \"#f0f921\"]], \"type\": \"histogram2d\"}], \"histogram2dcontour\": [{\"colorbar\": {\"outlinewidth\": 0, \"ticks\": \"\"}, \"colorscale\": [[0.0, \"#0d0887\"], [0.1111111111111111, \"#46039f\"], [0.2222222222222222, \"#7201a8\"], [0.3333333333333333, \"#9c179e\"], [0.4444444444444444, \"#bd3786\"], [0.5555555555555556, \"#d8576b\"], [0.6666666666666666, \"#ed7953\"], [0.7777777777777778, \"#fb9f3a\"], [0.8888888888888888, \"#fdca26\"], [1.0, \"#f0f921\"]], \"type\": \"histogram2dcontour\"}], \"mesh3d\": [{\"colorbar\": {\"outlinewidth\": 0, \"ticks\": \"\"}, \"type\": \"mesh3d\"}], \"parcoords\": [{\"line\": {\"colorbar\": {\"outlinewidth\": 0, \"ticks\": \"\"}}, \"type\": \"parcoords\"}], \"pie\": [{\"automargin\": true, \"type\": \"pie\"}], \"scatter\": [{\"marker\": {\"colorbar\": {\"outlinewidth\": 0, \"ticks\": \"\"}}, \"type\": \"scatter\"}], \"scatter3d\": [{\"line\": {\"colorbar\": {\"outlinewidth\": 0, \"ticks\": \"\"}}, \"marker\": {\"colorbar\": {\"outlinewidth\": 0, \"ticks\": \"\"}}, \"type\": \"scatter3d\"}], \"scattercarpet\": [{\"marker\": {\"colorbar\": {\"outlinewidth\": 0, \"ticks\": \"\"}}, \"type\": \"scattercarpet\"}], \"scattergeo\": [{\"marker\": {\"colorbar\": {\"outlinewidth\": 0, \"ticks\": \"\"}}, \"type\": \"scattergeo\"}], \"scattergl\": [{\"marker\": {\"colorbar\": {\"outlinewidth\": 0, \"ticks\": \"\"}}, \"type\": \"scattergl\"}], \"scattermapbox\": [{\"marker\": {\"colorbar\": {\"outlinewidth\": 0, \"ticks\": \"\"}}, \"type\": \"scattermapbox\"}], \"scatterpolar\": [{\"marker\": {\"colorbar\": {\"outlinewidth\": 0, \"ticks\": \"\"}}, \"type\": \"scatterpolar\"}], \"scatterpolargl\": [{\"marker\": {\"colorbar\": {\"outlinewidth\": 0, \"ticks\": \"\"}}, \"type\": \"scatterpolargl\"}], \"scatterternary\": [{\"marker\": {\"colorbar\": {\"outlinewidth\": 0, \"ticks\": \"\"}}, \"type\": \"scatterternary\"}], \"surface\": [{\"colorbar\": {\"outlinewidth\": 0, \"ticks\": \"\"}, \"colorscale\": [[0.0, \"#0d0887\"], [0.1111111111111111, \"#46039f\"], [0.2222222222222222, \"#7201a8\"], [0.3333333333333333, \"#9c179e\"], [0.4444444444444444, \"#bd3786\"], [0.5555555555555556, \"#d8576b\"], [0.6666666666666666, \"#ed7953\"], [0.7777777777777778, \"#fb9f3a\"], [0.8888888888888888, \"#fdca26\"], [1.0, \"#f0f921\"]], \"type\": \"surface\"}], \"table\": [{\"cells\": {\"fill\": {\"color\": \"#EBF0F8\"}, \"line\": {\"color\": \"white\"}}, \"header\": {\"fill\": {\"color\": \"#C8D4E3\"}, \"line\": {\"color\": \"white\"}}, \"type\": \"table\"}]}, \"layout\": {\"annotationdefaults\": {\"arrowcolor\": \"#2a3f5f\", \"arrowhead\": 0, \"arrowwidth\": 1}, \"coloraxis\": {\"colorbar\": {\"outlinewidth\": 0, \"ticks\": \"\"}}, \"colorscale\": {\"diverging\": [[0, \"#8e0152\"], [0.1, \"#c51b7d\"], [0.2, \"#de77ae\"], [0.3, \"#f1b6da\"], [0.4, \"#fde0ef\"], [0.5, \"#f7f7f7\"], [0.6, \"#e6f5d0\"], [0.7, \"#b8e186\"], [0.8, \"#7fbc41\"], [0.9, \"#4d9221\"], [1, \"#276419\"]], \"sequential\": [[0.0, \"#0d0887\"], [0.1111111111111111, \"#46039f\"], [0.2222222222222222, \"#7201a8\"], [0.3333333333333333, \"#9c179e\"], [0.4444444444444444, \"#bd3786\"], [0.5555555555555556, \"#d8576b\"], [0.6666666666666666, \"#ed7953\"], [0.7777777777777778, \"#fb9f3a\"], [0.8888888888888888, \"#fdca26\"], [1.0, \"#f0f921\"]], \"sequentialminus\": [[0.0, \"#0d0887\"], [0.1111111111111111, \"#46039f\"], [0.2222222222222222, \"#7201a8\"], [0.3333333333333333, \"#9c179e\"], [0.4444444444444444, \"#bd3786\"], [0.5555555555555556, \"#d8576b\"], [0.6666666666666666, \"#ed7953\"], [0.7777777777777778, \"#fb9f3a\"], [0.8888888888888888, \"#fdca26\"], [1.0, \"#f0f921\"]]}, \"colorway\": [\"#636efa\", \"#EF553B\", \"#00cc96\", \"#ab63fa\", \"#FFA15A\", \"#19d3f3\", \"#FF6692\", \"#B6E880\", \"#FF97FF\", \"#FECB52\"], \"font\": {\"color\": \"#2a3f5f\"}, \"geo\": {\"bgcolor\": \"white\", \"lakecolor\": \"white\", \"landcolor\": \"#E5ECF6\", \"showlakes\": true, \"showland\": true, \"subunitcolor\": \"white\"}, \"hoverlabel\": {\"align\": \"left\"}, \"hovermode\": \"closest\", \"mapbox\": {\"style\": \"light\"}, \"paper_bgcolor\": \"white\", \"plot_bgcolor\": \"#E5ECF6\", \"polar\": {\"angularaxis\": {\"gridcolor\": \"white\", \"linecolor\": \"white\", \"ticks\": \"\"}, \"bgcolor\": \"#E5ECF6\", \"radialaxis\": {\"gridcolor\": \"white\", \"linecolor\": \"white\", \"ticks\": \"\"}}, \"scene\": {\"xaxis\": {\"backgroundcolor\": \"#E5ECF6\", \"gridcolor\": \"white\", \"gridwidth\": 2, \"linecolor\": \"white\", \"showbackground\": true, \"ticks\": \"\", \"zerolinecolor\": \"white\"}, \"yaxis\": {\"backgroundcolor\": \"#E5ECF6\", \"gridcolor\": \"white\", \"gridwidth\": 2, \"linecolor\": \"white\", \"showbackground\": true, \"ticks\": \"\", \"zerolinecolor\": \"white\"}, \"zaxis\": {\"backgroundcolor\": \"#E5ECF6\", \"gridcolor\": \"white\", \"gridwidth\": 2, \"linecolor\": \"white\", \"showbackground\": true, \"ticks\": \"\", \"zerolinecolor\": \"white\"}}, \"shapedefaults\": {\"line\": {\"color\": \"#2a3f5f\"}}, \"ternary\": {\"aaxis\": {\"gridcolor\": \"white\", \"linecolor\": \"white\", \"ticks\": \"\"}, \"baxis\": {\"gridcolor\": \"white\", \"linecolor\": \"white\", \"ticks\": \"\"}, \"bgcolor\": \"#E5ECF6\", \"caxis\": {\"gridcolor\": \"white\", \"linecolor\": \"white\", \"ticks\": \"\"}}, \"title\": {\"x\": 0.05}, \"xaxis\": {\"automargin\": true, \"gridcolor\": \"white\", \"linecolor\": \"white\", \"ticks\": \"\", \"title\": {\"standoff\": 15}, \"zerolinecolor\": \"white\", \"zerolinewidth\": 2}, \"yaxis\": {\"automargin\": true, \"gridcolor\": \"white\", \"linecolor\": \"white\", \"ticks\": \"\", \"title\": {\"standoff\": 15}, \"zerolinecolor\": \"white\", \"zerolinewidth\": 2}}}, \"xaxis\": {\"anchor\": \"y\", \"domain\": [0.0, 0.45]}, \"xaxis2\": {\"anchor\": \"y2\", \"domain\": [0.55, 1.0]}, \"yaxis\": {\"anchor\": \"x\", \"domain\": [0.0, 1.0]}, \"yaxis2\": {\"anchor\": \"x2\", \"domain\": [0.0, 1.0]}},\n",
       "                        {\"responsive\": true}\n",
       "                    ).then(function(){\n",
       "                            \n",
       "var gd = document.getElementById('e1ca72ce-7b8c-406c-a4d3-a627ecc24024');\n",
       "var x = new MutationObserver(function (mutations, observer) {{\n",
       "        var display = window.getComputedStyle(gd).display;\n",
       "        if (!display || display === 'none') {{\n",
       "            console.log([gd, 'removed!']);\n",
       "            Plotly.purge(gd);\n",
       "            observer.disconnect();\n",
       "        }}\n",
       "}});\n",
       "\n",
       "// Listen for the removal of the full notebook cells\n",
       "var notebookContainer = gd.closest('#notebook-container');\n",
       "if (notebookContainer) {{\n",
       "    x.observe(notebookContainer, {childList: true});\n",
       "}}\n",
       "\n",
       "// Listen for the clearing of the current output cell\n",
       "var outputEl = gd.closest('.output');\n",
       "if (outputEl) {{\n",
       "    x.observe(outputEl, {childList: true});\n",
       "}}\n",
       "\n",
       "                        })\n",
       "                };\n",
       "                });\n",
       "            </script>\n",
       "        </div>"
      ]
     },
     "metadata": {},
     "output_type": "display_data"
    }
   ],
   "source": [
    "from plotly import tools\n",
    "\n",
    "title= 'coords'\n",
    "fig_subplots = tools.make_subplots(rows=1, cols=2,subplot_titles=tuple([title]*2))\n",
    "\n",
    "for trace in figwl:\n",
    "    fig_subplots.append_trace(trace, 1, 1)\n",
    "    \n",
    "\n",
    "trace= go.Scatter(\n",
    "    x= granted[:,0],\n",
    "    y= granted[:,1],\n",
    "    #z= grid_likes,\n",
    "    mode= 'markers',\n",
    "    marker= {\n",
    "        'color':grid_likes,\n",
    "        'colorbar': go.scatter.marker.ColorBar(\n",
    "            title= 'ColorBar'\n",
    "        ),\n",
    "        'colorscale':'Viridis',\n",
    "        'line': {'width': 0},\n",
    "        'size': 5,\n",
    "        'symbol': 'circle',\n",
    "      \"opacity\": 1\n",
    "      }\n",
    ")\n",
    "\n",
    "fig_subplots.append_trace(trace, 1,2)\n",
    "\n",
    "iplot(fig_subplots)"
   ]
  },
  {
   "cell_type": "code",
   "execution_count": null,
   "metadata": {},
   "outputs": [],
   "source": []
  }
 ],
 "metadata": {
  "kernelspec": {
   "display_name": "Python 3",
   "language": "python",
   "name": "python3"
  },
  "language_info": {
   "codemirror_mode": {
    "name": "ipython",
    "version": 3
   },
   "file_extension": ".py",
   "mimetype": "text/x-python",
   "name": "python",
   "nbconvert_exporter": "python",
   "pygments_lexer": "ipython3",
   "version": "3.7.3"
  }
 },
 "nbformat": 4,
 "nbformat_minor": 2
}
